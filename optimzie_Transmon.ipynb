{
 "cells": [
  {
   "attachments": {},
   "cell_type": "markdown",
   "metadata": {},
   "source": [
    "# Optimize the design of the transmon pocket"
   ]
  },
  {
   "attachments": {},
   "cell_type": "markdown",
   "metadata": {},
   "source": [
    "To keep the structure roughly the same, we change the width of the metal pad in the transmon pocket. Intuitively, the wider the transmon pocket, the larger the capacitance would be. To increase the qubit frequency, we need to increase the capacitance.\n",
    "\n",
    "## Steps\n",
    "1. Construct the function that takes in padwidth and return a capacitance between ground and the metal pad\n",
    "2. Function that takes in frequency and spit out desired capacitance\n",
    "3. Optimize "
   ]
  }
 ],
 "metadata": {
  "kernelspec": {
   "display_name": "qmetal",
   "language": "python",
   "name": "qmetal"
  },
  "language_info": {
   "codemirror_mode": {
    "name": "ipython",
    "version": 3
   },
   "file_extension": ".py",
   "mimetype": "text/x-python",
   "name": "python",
   "nbconvert_exporter": "python",
   "pygments_lexer": "ipython3",
   "version": "3.10.8"
  },
  "orig_nbformat": 4
 },
 "nbformat": 4,
 "nbformat_minor": 2
}
