{
 "cells": [
  {
   "attachments": {},
   "cell_type": "markdown",
   "metadata": {},
   "source": [
    "# Optimize the design of the transmon pocket"
   ]
  },
  {
   "attachments": {},
   "cell_type": "markdown",
   "metadata": {},
   "source": [
    "To keep the structure roughly the same, we change the width of the metal pad in the transmon pocket. Intuitively, the wider the transmon pocket, the larger the capacitance would be. To increase the qubit frequency, we need to increase the capacitance.\n",
    "\n",
    "## Steps\n",
    "1. Construct the function that takes in padwidth and return a capacitance between ground and the metal pad\n",
    "2. Function that takes in frequency and spit out desired capacitance\n",
    "3. Optimize and find the desired design"
   ]
  },
  {
   "cell_type": "code",
   "execution_count": 47,
   "metadata": {},
   "outputs": [],
   "source": [
    "\n",
    "import astropy.units as u\n",
    "import astropy.constants as c\n",
    "import numpy as np\n",
    "import matplotlib.pyplot as plt\n",
    "\n",
    "%matplotlib inline"
   ]
  },
  {
   "cell_type": "code",
   "execution_count": 2,
   "metadata": {},
   "outputs": [],
   "source": [
    "%reload_ext autoreload\n",
    "%autoreload 2"
   ]
  },
  {
   "cell_type": "code",
   "execution_count": 3,
   "metadata": {},
   "outputs": [],
   "source": [
    "#This imports the necessary path to draw the single pad transmon design. \n",
    "import sys\n",
    "sys.path.append('Customized_Components')\n",
    "from single_pad_transmon_pocket import TransmonPocket_Single\n",
    "\n",
    "import shapely\n",
    "import warnings\n",
    "from shapely.errors import ShapelyDeprecationWarning\n",
    "warnings.filterwarnings(\"ignore\", category=ShapelyDeprecationWarning)"
   ]
  },
  {
   "cell_type": "code",
   "execution_count": 4,
   "metadata": {},
   "outputs": [],
   "source": [
    "from qiskit_metal import designs, draw\n",
    "from qiskit_metal import MetalGUI, Dict, Headings"
   ]
  },
  {
   "cell_type": "code",
   "execution_count": 5,
   "metadata": {},
   "outputs": [],
   "source": [
    "design = designs.DesignPlanar()\n",
    "gui = MetalGUI(design)"
   ]
  },
  {
   "cell_type": "code",
   "execution_count": 26,
   "metadata": {},
   "outputs": [],
   "source": [
    "design.overwrite_enabled = True #This makes it possible to edit the designs later on. \n",
    "\n",
    "design.delete_all_components()\n",
    "\n",
    "options = dict(pad_width = '200um',\n",
    "pocket_width = '300um',\n",
    "pad_pocket_distance_top = '60um',\n",
    "pos_x = '0',\n",
    "pad_height = '200um',\n",
    "pos_y = '0',\n",
    "connection_pads = dict(\n",
    "    a = dict(loc_W  = 1, \n",
    "             loc_H =  1, \n",
    "             pad_gap = '10um',\n",
    "             pad_height = '20um',\n",
    "             pad_width = '100um',\n",
    "             pad_cpw_extent =  '10um',\n",
    "             pocket_rise = '0um',\n",
    "             cpw_extend = '5um')))\n",
    "\n",
    "q1 = TransmonPocket_Single(design,'Q1',options = options)\n",
    "\n",
    "gui.rebuild()\n",
    "gui.zoom_on_components(['Q1'])"
   ]
  },
  {
   "cell_type": "code",
   "execution_count": 27,
   "metadata": {},
   "outputs": [],
   "source": [
    "from qiskit_metal.analyses.quantization import LOManalysis\n",
    "c1 = LOManalysis(design, \"q3d\")"
   ]
  },
  {
   "cell_type": "code",
   "execution_count": 28,
   "metadata": {},
   "outputs": [
    {
     "name": "stdout",
     "output_type": "stream",
     "text": [
      "{'name': 'Setup', 'reuse_selected_design': True, 'reuse_setup': True, 'freq_ghz': 5.0, 'save_fields': False, 'enabled': True, 'max_passes': 5, 'min_passes': 1, 'min_converged_passes': 2, 'percent_error': 0.5, 'percent_refinement': 30, 'auto_increase_solution_order': True, 'solution_order': 'High', 'solver_type': 'Iterative'}\n"
     ]
    }
   ],
   "source": [
    "c1.sim.setup.min_passes  = 1\n",
    "c1.sim.setup.max_passes = 5\n",
    "print(c1.sim.setup)"
   ]
  },
  {
   "cell_type": "code",
   "execution_count": 29,
   "metadata": {},
   "outputs": [
    {
     "name": "stderr",
     "output_type": "stream",
     "text": [
      "INFO 09:56PM [connect_design]: \tOpened active design\n",
      "\tDesign:    Design_q3d [Solution type: Q3D]\n",
      "INFO 09:56PM [get_setup]: \tOpened setup `Setup`  (<class 'pyEPR.ansys.AnsysQ3DSetup'>)\n",
      "INFO 09:56PM [analyze]: Analyzing setup Setup\n",
      "INFO 09:56PM [get_matrix]: Exporting matrix data to (C:\\Users\\slab\\AppData\\Local\\Temp\\tmp1tpi2jws.txt, C, , Setup:LastAdaptive, \"Original\", \"ohm\", \"nH\", \"fF\", \"mSie\", 5000000000, Maxwell, 1, False\n",
      "INFO 09:56PM [get_matrix]: Exporting matrix data to (C:\\Users\\slab\\AppData\\Local\\Temp\\tmp_9ly42no.txt, C, , Setup:AdaptivePass, \"Original\", \"ohm\", \"nH\", \"fF\", \"mSie\", 5000000000, Maxwell, 1, False\n",
      "INFO 09:56PM [get_matrix]: Exporting matrix data to (C:\\Users\\slab\\AppData\\Local\\Temp\\tmpqgdvg66z.txt, C, , Setup:AdaptivePass, \"Original\", \"ohm\", \"nH\", \"fF\", \"mSie\", 5000000000, Maxwell, 2, False\n",
      "INFO 09:56PM [get_matrix]: Exporting matrix data to (C:\\Users\\slab\\AppData\\Local\\Temp\\tmpwvply9hr.txt, C, , Setup:AdaptivePass, \"Original\", \"ohm\", \"nH\", \"fF\", \"mSie\", 5000000000, Maxwell, 3, False\n",
      "INFO 09:56PM [get_matrix]: Exporting matrix data to (C:\\Users\\slab\\AppData\\Local\\Temp\\tmpuojb05a1.txt, C, , Setup:AdaptivePass, \"Original\", \"ohm\", \"nH\", \"fF\", \"mSie\", 5000000000, Maxwell, 4, False\n",
      "INFO 09:56PM [get_matrix]: Exporting matrix data to (C:\\Users\\slab\\AppData\\Local\\Temp\\tmpi86ralhs.txt, C, , Setup:AdaptivePass, \"Original\", \"ohm\", \"nH\", \"fF\", \"mSie\", 5000000000, Maxwell, 5, False\n",
      "INFO 09:56PM [get_matrix]: Exporting matrix data to (C:\\Users\\slab\\AppData\\Local\\Temp\\tmptisozn9g.txt, C, , Setup:AdaptivePass, \"Original\", \"ohm\", \"nH\", \"fF\", \"mSie\", 5000000000, Maxwell, 6, False\n",
      "INFO 09:56PM [get_matrix]: Exporting matrix data to (C:\\Users\\slab\\AppData\\Local\\Temp\\tmp06bxw2bm.txt, C, , Setup:LastAdaptive, \"Original\", \"ohm\", \"nH\", \"fF\", \"mSie\", 5000000000, Maxwell, 1, False\n",
      "INFO 09:56PM [get_matrix]: Exporting matrix data to (C:\\Users\\slab\\AppData\\Local\\Temp\\tmp346bij20.txt, C, , Setup:AdaptivePass, \"Original\", \"ohm\", \"nH\", \"fF\", \"mSie\", 5000000000, Maxwell, 1, False\n",
      "INFO 09:56PM [get_matrix]: Exporting matrix data to (C:\\Users\\slab\\AppData\\Local\\Temp\\tmpvzgpxspq.txt, C, , Setup:AdaptivePass, \"Original\", \"ohm\", \"nH\", \"fF\", \"mSie\", 5000000000, Maxwell, 2, False\n",
      "INFO 09:56PM [get_matrix]: Exporting matrix data to (C:\\Users\\slab\\AppData\\Local\\Temp\\tmpdrimikx4.txt, C, , Setup:AdaptivePass, \"Original\", \"ohm\", \"nH\", \"fF\", \"mSie\", 5000000000, Maxwell, 3, False\n",
      "INFO 09:56PM [get_matrix]: Exporting matrix data to (C:\\Users\\slab\\AppData\\Local\\Temp\\tmp_ne8e0cr.txt, C, , Setup:AdaptivePass, \"Original\", \"ohm\", \"nH\", \"fF\", \"mSie\", 5000000000, Maxwell, 4, False\n",
      "INFO 09:56PM [get_matrix]: Exporting matrix data to (C:\\Users\\slab\\AppData\\Local\\Temp\\tmpeukfibim.txt, C, , Setup:AdaptivePass, \"Original\", \"ohm\", \"nH\", \"fF\", \"mSie\", 5000000000, Maxwell, 5, False\n",
      "INFO 09:56PM [get_matrix]: Exporting matrix data to (C:\\Users\\slab\\AppData\\Local\\Temp\\tmpf20pfhls.txt, C, , Setup:AdaptivePass, \"Original\", \"ohm\", \"nH\", \"fF\", \"mSie\", 5000000000, Maxwell, 6, False\n"
     ]
    }
   ],
   "source": [
    "c1.sim.run(components=['Q1'], open_terminations=[('Q1', 'a')])#, ('Q1', 'bus1'), ('Q1', 'bus2')])\n",
    "c1.sim.capacitance_matrix \n",
    "\n",
    "c1.sim._get_results_from_renderer()\n",
    "c_mat = c1.sim.capacitance_matrix"
   ]
  },
  {
   "cell_type": "code",
   "execution_count": 30,
   "metadata": {},
   "outputs": [
    {
     "data": {
      "text/html": [
       "<div>\n",
       "<style scoped>\n",
       "    .dataframe tbody tr th:only-of-type {\n",
       "        vertical-align: middle;\n",
       "    }\n",
       "\n",
       "    .dataframe tbody tr th {\n",
       "        vertical-align: top;\n",
       "    }\n",
       "\n",
       "    .dataframe thead th {\n",
       "        text-align: right;\n",
       "    }\n",
       "</style>\n",
       "<table border=\"1\" class=\"dataframe\">\n",
       "  <thead>\n",
       "    <tr style=\"text-align: right;\">\n",
       "      <th></th>\n",
       "      <th>a_connector_pad_Q1</th>\n",
       "      <th>ground_main_plane</th>\n",
       "      <th>pad_top_Q1</th>\n",
       "    </tr>\n",
       "  </thead>\n",
       "  <tbody>\n",
       "    <tr>\n",
       "      <th>a_connector_pad_Q1</th>\n",
       "      <td>23.63791</td>\n",
       "      <td>-13.83121</td>\n",
       "      <td>-9.42478</td>\n",
       "    </tr>\n",
       "    <tr>\n",
       "      <th>ground_main_plane</th>\n",
       "      <td>-13.83121</td>\n",
       "      <td>122.84866</td>\n",
       "      <td>-67.19156</td>\n",
       "    </tr>\n",
       "    <tr>\n",
       "      <th>pad_top_Q1</th>\n",
       "      <td>-9.42478</td>\n",
       "      <td>-67.19156</td>\n",
       "      <td>80.04586</td>\n",
       "    </tr>\n",
       "  </tbody>\n",
       "</table>\n",
       "</div>"
      ],
      "text/plain": [
       "                    a_connector_pad_Q1  ground_main_plane  pad_top_Q1\n",
       "a_connector_pad_Q1            23.63791          -13.83121    -9.42478\n",
       "ground_main_plane            -13.83121          122.84866   -67.19156\n",
       "pad_top_Q1                    -9.42478          -67.19156    80.04586"
      ]
     },
     "execution_count": 30,
     "metadata": {},
     "output_type": "execute_result"
    }
   ],
   "source": [
    "c_mat"
   ]
  },
  {
   "cell_type": "code",
   "execution_count": 24,
   "metadata": {},
   "outputs": [],
   "source": [
    "C = c_mat['ground_main_plane']['a_connector_pad_Q1']"
   ]
  },
  {
   "cell_type": "code",
   "execution_count": 25,
   "metadata": {},
   "outputs": [
    {
     "data": {
      "text/plain": [
       "-11.46906"
      ]
     },
     "execution_count": 25,
     "metadata": {},
     "output_type": "execute_result"
    }
   ],
   "source": [
    "C"
   ]
  },
  {
   "cell_type": "code",
   "execution_count": 33,
   "metadata": {},
   "outputs": [],
   "source": [
    "def find_Cap(width):\n",
    "    width = width.to(u.um)\n",
    "    design.delete_all_components()\n",
    "\n",
    "    options = dict(pad_width = '{}um'.format(width.value),\n",
    "    pocket_width = '300um',\n",
    "    pad_pocket_distance_top = '60um',\n",
    "    pos_x = '0',\n",
    "    pad_height = '200um',\n",
    "    pos_y = '0',\n",
    "    connection_pads = dict(\n",
    "        a = dict(loc_W  = 1, \n",
    "                loc_H =  1, \n",
    "                pad_gap = '10um',\n",
    "                pad_height = '20um',\n",
    "                pad_width = '100um',\n",
    "                pad_cpw_extent =  '10um',\n",
    "                pocket_rise = '0um',\n",
    "                cpw_extend = '5um')))\n",
    "\n",
    "    q1 = TransmonPocket_Single(design,'Q1',options = options)\n",
    "\n",
    "    gui.rebuild()\n",
    "    gui.zoom_on_components(['Q1'])\n",
    "    \n",
    "    \n",
    "    c1 = LOManalysis(design, \"q3d\")\n",
    "    c1.sim.setup.min_passes  = 5\n",
    "    c1.sim.setup.max_passes = 10\n",
    "    \n",
    "    c1.sim.run(components=['Q1'], open_terminations=[('Q1', 'a')])#, ('Q1', 'bus1'), ('Q1', 'bus2')])\n",
    "    c1.sim.capacitance_matrix \n",
    "\n",
    "    c1.sim._get_results_from_renderer()\n",
    "    c_mat = c1.sim.capacitance_matrix\n",
    "    \n",
    "    print(c_mat)\n",
    "    \n",
    "    return(c_mat['ground_main_plane']['a_connector_pad_Q1'])\n",
    "    "
   ]
  },
  {
   "cell_type": "code",
   "execution_count": 39,
   "metadata": {},
   "outputs": [
    {
     "name": "stderr",
     "output_type": "stream",
     "text": [
      "INFO 10:19AM [connect_design]: \tOpened active design\n",
      "\tDesign:    Design_q3d [Solution type: Q3D]\n",
      "INFO 10:19AM [get_setup]: \tOpened setup `Setup`  (<class 'pyEPR.ansys.AnsysQ3DSetup'>)\n",
      "INFO 10:19AM [analyze]: Analyzing setup Setup\n",
      "INFO 10:20AM [get_matrix]: Exporting matrix data to (C:\\Users\\slab\\AppData\\Local\\Temp\\tmpli5lp9qn.txt, C, , Setup:LastAdaptive, \"Original\", \"ohm\", \"nH\", \"fF\", \"mSie\", 5000000000, Maxwell, 1, False\n",
      "INFO 10:20AM [get_matrix]: Exporting matrix data to (C:\\Users\\slab\\AppData\\Local\\Temp\\tmp43vlxlhs.txt, C, , Setup:AdaptivePass, \"Original\", \"ohm\", \"nH\", \"fF\", \"mSie\", 5000000000, Maxwell, 1, False\n",
      "INFO 10:20AM [get_matrix]: Exporting matrix data to (C:\\Users\\slab\\AppData\\Local\\Temp\\tmpt15clifc.txt, C, , Setup:AdaptivePass, \"Original\", \"ohm\", \"nH\", \"fF\", \"mSie\", 5000000000, Maxwell, 2, False\n",
      "INFO 10:20AM [get_matrix]: Exporting matrix data to (C:\\Users\\slab\\AppData\\Local\\Temp\\tmpf4vp7d8g.txt, C, , Setup:AdaptivePass, \"Original\", \"ohm\", \"nH\", \"fF\", \"mSie\", 5000000000, Maxwell, 3, False\n",
      "INFO 10:20AM [get_matrix]: Exporting matrix data to (C:\\Users\\slab\\AppData\\Local\\Temp\\tmppqsb39jo.txt, C, , Setup:AdaptivePass, \"Original\", \"ohm\", \"nH\", \"fF\", \"mSie\", 5000000000, Maxwell, 4, False\n",
      "INFO 10:20AM [get_matrix]: Exporting matrix data to (C:\\Users\\slab\\AppData\\Local\\Temp\\tmpq8rwl220.txt, C, , Setup:AdaptivePass, \"Original\", \"ohm\", \"nH\", \"fF\", \"mSie\", 5000000000, Maxwell, 5, False\n",
      "INFO 10:20AM [get_matrix]: Exporting matrix data to (C:\\Users\\slab\\AppData\\Local\\Temp\\tmpqlely6vv.txt, C, , Setup:AdaptivePass, \"Original\", \"ohm\", \"nH\", \"fF\", \"mSie\", 5000000000, Maxwell, 6, False\n",
      "INFO 10:20AM [get_matrix]: Exporting matrix data to (C:\\Users\\slab\\AppData\\Local\\Temp\\tmpuo1q1xvc.txt, C, , Setup:AdaptivePass, \"Original\", \"ohm\", \"nH\", \"fF\", \"mSie\", 5000000000, Maxwell, 7, False\n",
      "INFO 10:20AM [get_matrix]: Exporting matrix data to (C:\\Users\\slab\\AppData\\Local\\Temp\\tmp201w9oh0.txt, C, , Setup:AdaptivePass, \"Original\", \"ohm\", \"nH\", \"fF\", \"mSie\", 5000000000, Maxwell, 8, False\n",
      "INFO 10:20AM [get_matrix]: Exporting matrix data to (C:\\Users\\slab\\AppData\\Local\\Temp\\tmpd0r9xjgh.txt, C, , Setup:AdaptivePass, \"Original\", \"ohm\", \"nH\", \"fF\", \"mSie\", 5000000000, Maxwell, 9, False\n",
      "INFO 10:20AM [get_matrix]: Exporting matrix data to (C:\\Users\\slab\\AppData\\Local\\Temp\\tmpdcskcgpc.txt, C, , Setup:LastAdaptive, \"Original\", \"ohm\", \"nH\", \"fF\", \"mSie\", 5000000000, Maxwell, 1, False\n",
      "INFO 10:20AM [get_matrix]: Exporting matrix data to (C:\\Users\\slab\\AppData\\Local\\Temp\\tmpxv3f_69b.txt, C, , Setup:AdaptivePass, \"Original\", \"ohm\", \"nH\", \"fF\", \"mSie\", 5000000000, Maxwell, 1, False\n",
      "INFO 10:20AM [get_matrix]: Exporting matrix data to (C:\\Users\\slab\\AppData\\Local\\Temp\\tmpv60oyxjm.txt, C, , Setup:AdaptivePass, \"Original\", \"ohm\", \"nH\", \"fF\", \"mSie\", 5000000000, Maxwell, 2, False\n",
      "INFO 10:20AM [get_matrix]: Exporting matrix data to (C:\\Users\\slab\\AppData\\Local\\Temp\\tmpuff60_6j.txt, C, , Setup:AdaptivePass, \"Original\", \"ohm\", \"nH\", \"fF\", \"mSie\", 5000000000, Maxwell, 3, False\n",
      "INFO 10:20AM [get_matrix]: Exporting matrix data to (C:\\Users\\slab\\AppData\\Local\\Temp\\tmpdq2iy4aj.txt, C, , Setup:AdaptivePass, \"Original\", \"ohm\", \"nH\", \"fF\", \"mSie\", 5000000000, Maxwell, 4, False\n",
      "INFO 10:20AM [get_matrix]: Exporting matrix data to (C:\\Users\\slab\\AppData\\Local\\Temp\\tmptdgjdvyn.txt, C, , Setup:AdaptivePass, \"Original\", \"ohm\", \"nH\", \"fF\", \"mSie\", 5000000000, Maxwell, 5, False\n",
      "INFO 10:20AM [get_matrix]: Exporting matrix data to (C:\\Users\\slab\\AppData\\Local\\Temp\\tmp0hd0firw.txt, C, , Setup:AdaptivePass, \"Original\", \"ohm\", \"nH\", \"fF\", \"mSie\", 5000000000, Maxwell, 6, False\n",
      "INFO 10:20AM [get_matrix]: Exporting matrix data to (C:\\Users\\slab\\AppData\\Local\\Temp\\tmpi4mrpek7.txt, C, , Setup:AdaptivePass, \"Original\", \"ohm\", \"nH\", \"fF\", \"mSie\", 5000000000, Maxwell, 7, False\n",
      "INFO 10:20AM [get_matrix]: Exporting matrix data to (C:\\Users\\slab\\AppData\\Local\\Temp\\tmp8st8ecms.txt, C, , Setup:AdaptivePass, \"Original\", \"ohm\", \"nH\", \"fF\", \"mSie\", 5000000000, Maxwell, 8, False\n",
      "INFO 10:20AM [get_matrix]: Exporting matrix data to (C:\\Users\\slab\\AppData\\Local\\Temp\\tmp30_bb9cg.txt, C, , Setup:AdaptivePass, \"Original\", \"ohm\", \"nH\", \"fF\", \"mSie\", 5000000000, Maxwell, 9, False\n"
     ]
    },
    {
     "name": "stdout",
     "output_type": "stream",
     "text": [
      "                    a_connector_pad_Q1  ground_main_plane  pad_top_Q1\n",
      "a_connector_pad_Q1            30.02637          -21.06764    -8.26236\n",
      "ground_main_plane            -21.06764           97.26390   -33.73405\n",
      "pad_top_Q1                    -8.26236          -33.73405    43.90005\n"
     ]
    },
    {
     "name": "stderr",
     "output_type": "stream",
     "text": [
      "INFO 10:20AM [connect_design]: \tOpened active design\n",
      "\tDesign:    Design_q3d [Solution type: Q3D]\n",
      "INFO 10:20AM [get_setup]: \tOpened setup `Setup`  (<class 'pyEPR.ansys.AnsysQ3DSetup'>)\n",
      "INFO 10:20AM [analyze]: Analyzing setup Setup\n",
      "INFO 10:20AM [get_matrix]: Exporting matrix data to (C:\\Users\\slab\\AppData\\Local\\Temp\\tmp50pjfgtt.txt, C, , Setup:LastAdaptive, \"Original\", \"ohm\", \"nH\", \"fF\", \"mSie\", 5000000000, Maxwell, 1, False\n",
      "INFO 10:20AM [get_matrix]: Exporting matrix data to (C:\\Users\\slab\\AppData\\Local\\Temp\\tmpvoc68sae.txt, C, , Setup:AdaptivePass, \"Original\", \"ohm\", \"nH\", \"fF\", \"mSie\", 5000000000, Maxwell, 1, False\n",
      "INFO 10:20AM [get_matrix]: Exporting matrix data to (C:\\Users\\slab\\AppData\\Local\\Temp\\tmppxx4mfpq.txt, C, , Setup:AdaptivePass, \"Original\", \"ohm\", \"nH\", \"fF\", \"mSie\", 5000000000, Maxwell, 2, False\n",
      "INFO 10:20AM [get_matrix]: Exporting matrix data to (C:\\Users\\slab\\AppData\\Local\\Temp\\tmp3d84p0ws.txt, C, , Setup:AdaptivePass, \"Original\", \"ohm\", \"nH\", \"fF\", \"mSie\", 5000000000, Maxwell, 3, False\n",
      "INFO 10:20AM [get_matrix]: Exporting matrix data to (C:\\Users\\slab\\AppData\\Local\\Temp\\tmpr3ivf_9c.txt, C, , Setup:AdaptivePass, \"Original\", \"ohm\", \"nH\", \"fF\", \"mSie\", 5000000000, Maxwell, 4, False\n",
      "INFO 10:20AM [get_matrix]: Exporting matrix data to (C:\\Users\\slab\\AppData\\Local\\Temp\\tmpimu2y3cs.txt, C, , Setup:AdaptivePass, \"Original\", \"ohm\", \"nH\", \"fF\", \"mSie\", 5000000000, Maxwell, 5, False\n",
      "INFO 10:20AM [get_matrix]: Exporting matrix data to (C:\\Users\\slab\\AppData\\Local\\Temp\\tmp34j744hi.txt, C, , Setup:AdaptivePass, \"Original\", \"ohm\", \"nH\", \"fF\", \"mSie\", 5000000000, Maxwell, 6, False\n",
      "INFO 10:20AM [get_matrix]: Exporting matrix data to (C:\\Users\\slab\\AppData\\Local\\Temp\\tmp2m3v0at8.txt, C, , Setup:AdaptivePass, \"Original\", \"ohm\", \"nH\", \"fF\", \"mSie\", 5000000000, Maxwell, 7, False\n",
      "INFO 10:20AM [get_matrix]: Exporting matrix data to (C:\\Users\\slab\\AppData\\Local\\Temp\\tmp9cgwb5j2.txt, C, , Setup:AdaptivePass, \"Original\", \"ohm\", \"nH\", \"fF\", \"mSie\", 5000000000, Maxwell, 8, False\n",
      "INFO 10:20AM [get_matrix]: Exporting matrix data to (C:\\Users\\slab\\AppData\\Local\\Temp\\tmp2zu8h733.txt, C, , Setup:LastAdaptive, \"Original\", \"ohm\", \"nH\", \"fF\", \"mSie\", 5000000000, Maxwell, 1, False\n",
      "INFO 10:20AM [get_matrix]: Exporting matrix data to (C:\\Users\\slab\\AppData\\Local\\Temp\\tmp_wdcv106.txt, C, , Setup:AdaptivePass, \"Original\", \"ohm\", \"nH\", \"fF\", \"mSie\", 5000000000, Maxwell, 1, False\n",
      "INFO 10:20AM [get_matrix]: Exporting matrix data to (C:\\Users\\slab\\AppData\\Local\\Temp\\tmp51wvgef7.txt, C, , Setup:AdaptivePass, \"Original\", \"ohm\", \"nH\", \"fF\", \"mSie\", 5000000000, Maxwell, 2, False\n",
      "INFO 10:20AM [get_matrix]: Exporting matrix data to (C:\\Users\\slab\\AppData\\Local\\Temp\\tmptv47ebyl.txt, C, , Setup:AdaptivePass, \"Original\", \"ohm\", \"nH\", \"fF\", \"mSie\", 5000000000, Maxwell, 3, False\n",
      "INFO 10:20AM [get_matrix]: Exporting matrix data to (C:\\Users\\slab\\AppData\\Local\\Temp\\tmpei9lj4c3.txt, C, , Setup:AdaptivePass, \"Original\", \"ohm\", \"nH\", \"fF\", \"mSie\", 5000000000, Maxwell, 4, False\n",
      "INFO 10:20AM [get_matrix]: Exporting matrix data to (C:\\Users\\slab\\AppData\\Local\\Temp\\tmphem7gouq.txt, C, , Setup:AdaptivePass, \"Original\", \"ohm\", \"nH\", \"fF\", \"mSie\", 5000000000, Maxwell, 5, False\n",
      "INFO 10:20AM [get_matrix]: Exporting matrix data to (C:\\Users\\slab\\AppData\\Local\\Temp\\tmpv6dru016.txt, C, , Setup:AdaptivePass, \"Original\", \"ohm\", \"nH\", \"fF\", \"mSie\", 5000000000, Maxwell, 6, False\n",
      "INFO 10:20AM [get_matrix]: Exporting matrix data to (C:\\Users\\slab\\AppData\\Local\\Temp\\tmpqio8k7qn.txt, C, , Setup:AdaptivePass, \"Original\", \"ohm\", \"nH\", \"fF\", \"mSie\", 5000000000, Maxwell, 7, False\n",
      "INFO 10:20AM [get_matrix]: Exporting matrix data to (C:\\Users\\slab\\AppData\\Local\\Temp\\tmpr831grim.txt, C, , Setup:AdaptivePass, \"Original\", \"ohm\", \"nH\", \"fF\", \"mSie\", 5000000000, Maxwell, 8, False\n"
     ]
    },
    {
     "name": "stdout",
     "output_type": "stream",
     "text": [
      "                    a_connector_pad_Q1  ground_main_plane  pad_top_Q1\n",
      "a_connector_pad_Q1            29.64674          -20.30142    -8.70538\n",
      "ground_main_plane            -20.30142           99.14463   -36.08575\n",
      "pad_top_Q1                    -8.70538          -36.08575    46.82482\n"
     ]
    },
    {
     "name": "stderr",
     "output_type": "stream",
     "text": [
      "INFO 10:20AM [connect_design]: \tOpened active design\n",
      "\tDesign:    Design_q3d [Solution type: Q3D]\n",
      "INFO 10:20AM [get_setup]: \tOpened setup `Setup`  (<class 'pyEPR.ansys.AnsysQ3DSetup'>)\n",
      "INFO 10:20AM [analyze]: Analyzing setup Setup\n",
      "INFO 10:21AM [get_matrix]: Exporting matrix data to (C:\\Users\\slab\\AppData\\Local\\Temp\\tmp19elb8fd.txt, C, , Setup:LastAdaptive, \"Original\", \"ohm\", \"nH\", \"fF\", \"mSie\", 5000000000, Maxwell, 1, False\n",
      "INFO 10:21AM [get_matrix]: Exporting matrix data to (C:\\Users\\slab\\AppData\\Local\\Temp\\tmpaaal35ov.txt, C, , Setup:AdaptivePass, \"Original\", \"ohm\", \"nH\", \"fF\", \"mSie\", 5000000000, Maxwell, 1, False\n",
      "INFO 10:21AM [get_matrix]: Exporting matrix data to (C:\\Users\\slab\\AppData\\Local\\Temp\\tmp8xmec1fg.txt, C, , Setup:AdaptivePass, \"Original\", \"ohm\", \"nH\", \"fF\", \"mSie\", 5000000000, Maxwell, 2, False\n",
      "INFO 10:21AM [get_matrix]: Exporting matrix data to (C:\\Users\\slab\\AppData\\Local\\Temp\\tmpm6tvez9m.txt, C, , Setup:AdaptivePass, \"Original\", \"ohm\", \"nH\", \"fF\", \"mSie\", 5000000000, Maxwell, 3, False\n",
      "INFO 10:21AM [get_matrix]: Exporting matrix data to (C:\\Users\\slab\\AppData\\Local\\Temp\\tmp8myuz4y_.txt, C, , Setup:AdaptivePass, \"Original\", \"ohm\", \"nH\", \"fF\", \"mSie\", 5000000000, Maxwell, 4, False\n",
      "INFO 10:21AM [get_matrix]: Exporting matrix data to (C:\\Users\\slab\\AppData\\Local\\Temp\\tmplegfcn13.txt, C, , Setup:AdaptivePass, \"Original\", \"ohm\", \"nH\", \"fF\", \"mSie\", 5000000000, Maxwell, 5, False\n",
      "INFO 10:21AM [get_matrix]: Exporting matrix data to (C:\\Users\\slab\\AppData\\Local\\Temp\\tmp6indvbny.txt, C, , Setup:AdaptivePass, \"Original\", \"ohm\", \"nH\", \"fF\", \"mSie\", 5000000000, Maxwell, 6, False\n",
      "INFO 10:21AM [get_matrix]: Exporting matrix data to (C:\\Users\\slab\\AppData\\Local\\Temp\\tmpvk05q788.txt, C, , Setup:AdaptivePass, \"Original\", \"ohm\", \"nH\", \"fF\", \"mSie\", 5000000000, Maxwell, 7, False\n",
      "INFO 10:21AM [get_matrix]: Exporting matrix data to (C:\\Users\\slab\\AppData\\Local\\Temp\\tmpx16whenz.txt, C, , Setup:AdaptivePass, \"Original\", \"ohm\", \"nH\", \"fF\", \"mSie\", 5000000000, Maxwell, 8, False\n",
      "INFO 10:21AM [get_matrix]: Exporting matrix data to (C:\\Users\\slab\\AppData\\Local\\Temp\\tmpgpjrmnha.txt, C, , Setup:LastAdaptive, \"Original\", \"ohm\", \"nH\", \"fF\", \"mSie\", 5000000000, Maxwell, 1, False\n",
      "INFO 10:21AM [get_matrix]: Exporting matrix data to (C:\\Users\\slab\\AppData\\Local\\Temp\\tmpuwwaua5s.txt, C, , Setup:AdaptivePass, \"Original\", \"ohm\", \"nH\", \"fF\", \"mSie\", 5000000000, Maxwell, 1, False\n",
      "INFO 10:21AM [get_matrix]: Exporting matrix data to (C:\\Users\\slab\\AppData\\Local\\Temp\\tmpo19jkjny.txt, C, , Setup:AdaptivePass, \"Original\", \"ohm\", \"nH\", \"fF\", \"mSie\", 5000000000, Maxwell, 2, False\n",
      "INFO 10:21AM [get_matrix]: Exporting matrix data to (C:\\Users\\slab\\AppData\\Local\\Temp\\tmpcgfoeb0u.txt, C, , Setup:AdaptivePass, \"Original\", \"ohm\", \"nH\", \"fF\", \"mSie\", 5000000000, Maxwell, 3, False\n",
      "INFO 10:21AM [get_matrix]: Exporting matrix data to (C:\\Users\\slab\\AppData\\Local\\Temp\\tmp3to_ch6b.txt, C, , Setup:AdaptivePass, \"Original\", \"ohm\", \"nH\", \"fF\", \"mSie\", 5000000000, Maxwell, 4, False\n",
      "INFO 10:21AM [get_matrix]: Exporting matrix data to (C:\\Users\\slab\\AppData\\Local\\Temp\\tmpqt6sfgjl.txt, C, , Setup:AdaptivePass, \"Original\", \"ohm\", \"nH\", \"fF\", \"mSie\", 5000000000, Maxwell, 5, False\n",
      "INFO 10:21AM [get_matrix]: Exporting matrix data to (C:\\Users\\slab\\AppData\\Local\\Temp\\tmp7u9ni9jn.txt, C, , Setup:AdaptivePass, \"Original\", \"ohm\", \"nH\", \"fF\", \"mSie\", 5000000000, Maxwell, 6, False\n",
      "INFO 10:21AM [get_matrix]: Exporting matrix data to (C:\\Users\\slab\\AppData\\Local\\Temp\\tmpda8g1o8w.txt, C, , Setup:AdaptivePass, \"Original\", \"ohm\", \"nH\", \"fF\", \"mSie\", 5000000000, Maxwell, 7, False\n",
      "INFO 10:21AM [get_matrix]: Exporting matrix data to (C:\\Users\\slab\\AppData\\Local\\Temp\\tmpr02p_hv5.txt, C, , Setup:AdaptivePass, \"Original\", \"ohm\", \"nH\", \"fF\", \"mSie\", 5000000000, Maxwell, 8, False\n"
     ]
    },
    {
     "name": "stdout",
     "output_type": "stream",
     "text": [
      "                    a_connector_pad_Q1  ground_main_plane  pad_top_Q1\n",
      "a_connector_pad_Q1            29.40395          -19.63996    -9.15391\n",
      "ground_main_plane            -19.63996          100.79371   -38.48791\n",
      "pad_top_Q1                    -9.15391          -38.48791    49.79939\n"
     ]
    },
    {
     "name": "stderr",
     "output_type": "stream",
     "text": [
      "INFO 10:21AM [connect_design]: \tOpened active design\n",
      "\tDesign:    Design_q3d [Solution type: Q3D]\n",
      "INFO 10:21AM [get_setup]: \tOpened setup `Setup`  (<class 'pyEPR.ansys.AnsysQ3DSetup'>)\n",
      "INFO 10:21AM [analyze]: Analyzing setup Setup\n",
      "INFO 10:21AM [get_matrix]: Exporting matrix data to (C:\\Users\\slab\\AppData\\Local\\Temp\\tmpzosliekn.txt, C, , Setup:LastAdaptive, \"Original\", \"ohm\", \"nH\", \"fF\", \"mSie\", 5000000000, Maxwell, 1, False\n",
      "INFO 10:21AM [get_matrix]: Exporting matrix data to (C:\\Users\\slab\\AppData\\Local\\Temp\\tmpkza3zujg.txt, C, , Setup:AdaptivePass, \"Original\", \"ohm\", \"nH\", \"fF\", \"mSie\", 5000000000, Maxwell, 1, False\n",
      "INFO 10:21AM [get_matrix]: Exporting matrix data to (C:\\Users\\slab\\AppData\\Local\\Temp\\tmp3djf0yi4.txt, C, , Setup:AdaptivePass, \"Original\", \"ohm\", \"nH\", \"fF\", \"mSie\", 5000000000, Maxwell, 2, False\n",
      "INFO 10:21AM [get_matrix]: Exporting matrix data to (C:\\Users\\slab\\AppData\\Local\\Temp\\tmppcz9emrp.txt, C, , Setup:AdaptivePass, \"Original\", \"ohm\", \"nH\", \"fF\", \"mSie\", 5000000000, Maxwell, 3, False\n",
      "INFO 10:21AM [get_matrix]: Exporting matrix data to (C:\\Users\\slab\\AppData\\Local\\Temp\\tmp3w1761qw.txt, C, , Setup:AdaptivePass, \"Original\", \"ohm\", \"nH\", \"fF\", \"mSie\", 5000000000, Maxwell, 4, False\n",
      "INFO 10:21AM [get_matrix]: Exporting matrix data to (C:\\Users\\slab\\AppData\\Local\\Temp\\tmpuiq3ax2k.txt, C, , Setup:AdaptivePass, \"Original\", \"ohm\", \"nH\", \"fF\", \"mSie\", 5000000000, Maxwell, 5, False\n",
      "INFO 10:21AM [get_matrix]: Exporting matrix data to (C:\\Users\\slab\\AppData\\Local\\Temp\\tmpvzyfj6o6.txt, C, , Setup:AdaptivePass, \"Original\", \"ohm\", \"nH\", \"fF\", \"mSie\", 5000000000, Maxwell, 6, False\n",
      "INFO 10:21AM [get_matrix]: Exporting matrix data to (C:\\Users\\slab\\AppData\\Local\\Temp\\tmp1qiu2k33.txt, C, , Setup:AdaptivePass, \"Original\", \"ohm\", \"nH\", \"fF\", \"mSie\", 5000000000, Maxwell, 7, False\n",
      "INFO 10:21AM [get_matrix]: Exporting matrix data to (C:\\Users\\slab\\AppData\\Local\\Temp\\tmpqdy5gs9_.txt, C, , Setup:AdaptivePass, \"Original\", \"ohm\", \"nH\", \"fF\", \"mSie\", 5000000000, Maxwell, 8, False\n",
      "INFO 10:21AM [get_matrix]: Exporting matrix data to (C:\\Users\\slab\\AppData\\Local\\Temp\\tmp7m5sicqp.txt, C, , Setup:LastAdaptive, \"Original\", \"ohm\", \"nH\", \"fF\", \"mSie\", 5000000000, Maxwell, 1, False\n",
      "INFO 10:21AM [get_matrix]: Exporting matrix data to (C:\\Users\\slab\\AppData\\Local\\Temp\\tmp17s_iv4s.txt, C, , Setup:AdaptivePass, \"Original\", \"ohm\", \"nH\", \"fF\", \"mSie\", 5000000000, Maxwell, 1, False\n",
      "INFO 10:21AM [get_matrix]: Exporting matrix data to (C:\\Users\\slab\\AppData\\Local\\Temp\\tmpupg0n_rg.txt, C, , Setup:AdaptivePass, \"Original\", \"ohm\", \"nH\", \"fF\", \"mSie\", 5000000000, Maxwell, 2, False\n",
      "INFO 10:21AM [get_matrix]: Exporting matrix data to (C:\\Users\\slab\\AppData\\Local\\Temp\\tmphdm_52_e.txt, C, , Setup:AdaptivePass, \"Original\", \"ohm\", \"nH\", \"fF\", \"mSie\", 5000000000, Maxwell, 3, False\n",
      "INFO 10:21AM [get_matrix]: Exporting matrix data to (C:\\Users\\slab\\AppData\\Local\\Temp\\tmpn4o2so2m.txt, C, , Setup:AdaptivePass, \"Original\", \"ohm\", \"nH\", \"fF\", \"mSie\", 5000000000, Maxwell, 4, False\n",
      "INFO 10:21AM [get_matrix]: Exporting matrix data to (C:\\Users\\slab\\AppData\\Local\\Temp\\tmpf718rpl7.txt, C, , Setup:AdaptivePass, \"Original\", \"ohm\", \"nH\", \"fF\", \"mSie\", 5000000000, Maxwell, 5, False\n",
      "INFO 10:21AM [get_matrix]: Exporting matrix data to (C:\\Users\\slab\\AppData\\Local\\Temp\\tmpg5c5hie9.txt, C, , Setup:AdaptivePass, \"Original\", \"ohm\", \"nH\", \"fF\", \"mSie\", 5000000000, Maxwell, 6, False\n",
      "INFO 10:21AM [get_matrix]: Exporting matrix data to (C:\\Users\\slab\\AppData\\Local\\Temp\\tmp_sa78bpk.txt, C, , Setup:AdaptivePass, \"Original\", \"ohm\", \"nH\", \"fF\", \"mSie\", 5000000000, Maxwell, 7, False\n",
      "INFO 10:21AM [get_matrix]: Exporting matrix data to (C:\\Users\\slab\\AppData\\Local\\Temp\\tmpnvv11jcb.txt, C, , Setup:AdaptivePass, \"Original\", \"ohm\", \"nH\", \"fF\", \"mSie\", 5000000000, Maxwell, 8, False\n"
     ]
    },
    {
     "name": "stdout",
     "output_type": "stream",
     "text": [
      "                    a_connector_pad_Q1  ground_main_plane  pad_top_Q1\n",
      "a_connector_pad_Q1            29.05364          -19.00889    -9.46223\n",
      "ground_main_plane            -19.00889          102.47861   -40.89040\n",
      "pad_top_Q1                    -9.46223          -40.89040    52.62968\n"
     ]
    },
    {
     "name": "stderr",
     "output_type": "stream",
     "text": [
      "INFO 10:21AM [connect_design]: \tOpened active design\n",
      "\tDesign:    Design_q3d [Solution type: Q3D]\n",
      "INFO 10:21AM [get_setup]: \tOpened setup `Setup`  (<class 'pyEPR.ansys.AnsysQ3DSetup'>)\n",
      "INFO 10:21AM [analyze]: Analyzing setup Setup\n",
      "INFO 10:22AM [get_matrix]: Exporting matrix data to (C:\\Users\\slab\\AppData\\Local\\Temp\\tmp2h0u0gwu.txt, C, , Setup:LastAdaptive, \"Original\", \"ohm\", \"nH\", \"fF\", \"mSie\", 5000000000, Maxwell, 1, False\n",
      "INFO 10:22AM [get_matrix]: Exporting matrix data to (C:\\Users\\slab\\AppData\\Local\\Temp\\tmpgosxw6wn.txt, C, , Setup:AdaptivePass, \"Original\", \"ohm\", \"nH\", \"fF\", \"mSie\", 5000000000, Maxwell, 1, False\n",
      "INFO 10:22AM [get_matrix]: Exporting matrix data to (C:\\Users\\slab\\AppData\\Local\\Temp\\tmpr6imgva7.txt, C, , Setup:AdaptivePass, \"Original\", \"ohm\", \"nH\", \"fF\", \"mSie\", 5000000000, Maxwell, 2, False\n",
      "INFO 10:22AM [get_matrix]: Exporting matrix data to (C:\\Users\\slab\\AppData\\Local\\Temp\\tmp5u2y4a1g.txt, C, , Setup:AdaptivePass, \"Original\", \"ohm\", \"nH\", \"fF\", \"mSie\", 5000000000, Maxwell, 3, False\n",
      "INFO 10:22AM [get_matrix]: Exporting matrix data to (C:\\Users\\slab\\AppData\\Local\\Temp\\tmpr4c3ibwx.txt, C, , Setup:AdaptivePass, \"Original\", \"ohm\", \"nH\", \"fF\", \"mSie\", 5000000000, Maxwell, 4, False\n",
      "INFO 10:22AM [get_matrix]: Exporting matrix data to (C:\\Users\\slab\\AppData\\Local\\Temp\\tmpw3vxg9g2.txt, C, , Setup:AdaptivePass, \"Original\", \"ohm\", \"nH\", \"fF\", \"mSie\", 5000000000, Maxwell, 5, False\n",
      "INFO 10:22AM [get_matrix]: Exporting matrix data to (C:\\Users\\slab\\AppData\\Local\\Temp\\tmpgww0y647.txt, C, , Setup:AdaptivePass, \"Original\", \"ohm\", \"nH\", \"fF\", \"mSie\", 5000000000, Maxwell, 6, False\n",
      "INFO 10:22AM [get_matrix]: Exporting matrix data to (C:\\Users\\slab\\AppData\\Local\\Temp\\tmpcz0v_mbm.txt, C, , Setup:AdaptivePass, \"Original\", \"ohm\", \"nH\", \"fF\", \"mSie\", 5000000000, Maxwell, 7, False\n",
      "INFO 10:22AM [get_matrix]: Exporting matrix data to (C:\\Users\\slab\\AppData\\Local\\Temp\\tmp15oruh3t.txt, C, , Setup:AdaptivePass, \"Original\", \"ohm\", \"nH\", \"fF\", \"mSie\", 5000000000, Maxwell, 8, False\n",
      "INFO 10:22AM [get_matrix]: Exporting matrix data to (C:\\Users\\slab\\AppData\\Local\\Temp\\tmpe3_8mnom.txt, C, , Setup:AdaptivePass, \"Original\", \"ohm\", \"nH\", \"fF\", \"mSie\", 5000000000, Maxwell, 9, False\n",
      "INFO 10:22AM [get_matrix]: Exporting matrix data to (C:\\Users\\slab\\AppData\\Local\\Temp\\tmp34ue8ho0.txt, C, , Setup:AdaptivePass, \"Original\", \"ohm\", \"nH\", \"fF\", \"mSie\", 5000000000, Maxwell, 10, False\n",
      "INFO 10:22AM [get_matrix]: Exporting matrix data to (C:\\Users\\slab\\AppData\\Local\\Temp\\tmph787owxo.txt, C, , Setup:LastAdaptive, \"Original\", \"ohm\", \"nH\", \"fF\", \"mSie\", 5000000000, Maxwell, 1, False\n",
      "INFO 10:22AM [get_matrix]: Exporting matrix data to (C:\\Users\\slab\\AppData\\Local\\Temp\\tmpkwtuften.txt, C, , Setup:AdaptivePass, \"Original\", \"ohm\", \"nH\", \"fF\", \"mSie\", 5000000000, Maxwell, 1, False\n",
      "INFO 10:22AM [get_matrix]: Exporting matrix data to (C:\\Users\\slab\\AppData\\Local\\Temp\\tmp1vyblyas.txt, C, , Setup:AdaptivePass, \"Original\", \"ohm\", \"nH\", \"fF\", \"mSie\", 5000000000, Maxwell, 2, False\n",
      "INFO 10:22AM [get_matrix]: Exporting matrix data to (C:\\Users\\slab\\AppData\\Local\\Temp\\tmpy5klhny0.txt, C, , Setup:AdaptivePass, \"Original\", \"ohm\", \"nH\", \"fF\", \"mSie\", 5000000000, Maxwell, 3, False\n",
      "INFO 10:22AM [get_matrix]: Exporting matrix data to (C:\\Users\\slab\\AppData\\Local\\Temp\\tmp944gke7d.txt, C, , Setup:AdaptivePass, \"Original\", \"ohm\", \"nH\", \"fF\", \"mSie\", 5000000000, Maxwell, 4, False\n",
      "INFO 10:22AM [get_matrix]: Exporting matrix data to (C:\\Users\\slab\\AppData\\Local\\Temp\\tmpbj_prjea.txt, C, , Setup:AdaptivePass, \"Original\", \"ohm\", \"nH\", \"fF\", \"mSie\", 5000000000, Maxwell, 5, False\n",
      "INFO 10:22AM [get_matrix]: Exporting matrix data to (C:\\Users\\slab\\AppData\\Local\\Temp\\tmp22g4drtz.txt, C, , Setup:AdaptivePass, \"Original\", \"ohm\", \"nH\", \"fF\", \"mSie\", 5000000000, Maxwell, 6, False\n",
      "INFO 10:22AM [get_matrix]: Exporting matrix data to (C:\\Users\\slab\\AppData\\Local\\Temp\\tmp2777wic1.txt, C, , Setup:AdaptivePass, \"Original\", \"ohm\", \"nH\", \"fF\", \"mSie\", 5000000000, Maxwell, 7, False\n",
      "INFO 10:22AM [get_matrix]: Exporting matrix data to (C:\\Users\\slab\\AppData\\Local\\Temp\\tmp2_bot8ll.txt, C, , Setup:AdaptivePass, \"Original\", \"ohm\", \"nH\", \"fF\", \"mSie\", 5000000000, Maxwell, 8, False\n",
      "INFO 10:22AM [get_matrix]: Exporting matrix data to (C:\\Users\\slab\\AppData\\Local\\Temp\\tmpwolbxbk2.txt, C, , Setup:AdaptivePass, \"Original\", \"ohm\", \"nH\", \"fF\", \"mSie\", 5000000000, Maxwell, 9, False\n",
      "INFO 10:22AM [get_matrix]: Exporting matrix data to (C:\\Users\\slab\\AppData\\Local\\Temp\\tmpe03iufqc.txt, C, , Setup:AdaptivePass, \"Original\", \"ohm\", \"nH\", \"fF\", \"mSie\", 5000000000, Maxwell, 10, False\n"
     ]
    },
    {
     "name": "stdout",
     "output_type": "stream",
     "text": [
      "                    a_connector_pad_Q1  ground_main_plane  pad_top_Q1\n",
      "a_connector_pad_Q1            29.02177          -18.54246    -9.89995\n",
      "ground_main_plane            -18.54246          104.00923   -43.64347\n",
      "pad_top_Q1                    -9.89995          -43.64347    55.97483\n"
     ]
    },
    {
     "name": "stderr",
     "output_type": "stream",
     "text": [
      "INFO 10:22AM [connect_design]: \tOpened active design\n",
      "\tDesign:    Design_q3d [Solution type: Q3D]\n",
      "INFO 10:22AM [get_setup]: \tOpened setup `Setup`  (<class 'pyEPR.ansys.AnsysQ3DSetup'>)\n",
      "INFO 10:22AM [analyze]: Analyzing setup Setup\n",
      "INFO 10:22AM [get_matrix]: Exporting matrix data to (C:\\Users\\slab\\AppData\\Local\\Temp\\tmpc836cbys.txt, C, , Setup:LastAdaptive, \"Original\", \"ohm\", \"nH\", \"fF\", \"mSie\", 5000000000, Maxwell, 1, False\n",
      "INFO 10:22AM [get_matrix]: Exporting matrix data to (C:\\Users\\slab\\AppData\\Local\\Temp\\tmpmwi0z01g.txt, C, , Setup:AdaptivePass, \"Original\", \"ohm\", \"nH\", \"fF\", \"mSie\", 5000000000, Maxwell, 1, False\n",
      "INFO 10:22AM [get_matrix]: Exporting matrix data to (C:\\Users\\slab\\AppData\\Local\\Temp\\tmp52cbvmt6.txt, C, , Setup:AdaptivePass, \"Original\", \"ohm\", \"nH\", \"fF\", \"mSie\", 5000000000, Maxwell, 2, False\n",
      "INFO 10:22AM [get_matrix]: Exporting matrix data to (C:\\Users\\slab\\AppData\\Local\\Temp\\tmpw5yhoe2w.txt, C, , Setup:AdaptivePass, \"Original\", \"ohm\", \"nH\", \"fF\", \"mSie\", 5000000000, Maxwell, 3, False\n",
      "INFO 10:22AM [get_matrix]: Exporting matrix data to (C:\\Users\\slab\\AppData\\Local\\Temp\\tmpnwl6p80q.txt, C, , Setup:AdaptivePass, \"Original\", \"ohm\", \"nH\", \"fF\", \"mSie\", 5000000000, Maxwell, 4, False\n",
      "INFO 10:22AM [get_matrix]: Exporting matrix data to (C:\\Users\\slab\\AppData\\Local\\Temp\\tmp159mqihh.txt, C, , Setup:AdaptivePass, \"Original\", \"ohm\", \"nH\", \"fF\", \"mSie\", 5000000000, Maxwell, 5, False\n",
      "INFO 10:22AM [get_matrix]: Exporting matrix data to (C:\\Users\\slab\\AppData\\Local\\Temp\\tmpdvjq86qz.txt, C, , Setup:AdaptivePass, \"Original\", \"ohm\", \"nH\", \"fF\", \"mSie\", 5000000000, Maxwell, 6, False\n",
      "INFO 10:22AM [get_matrix]: Exporting matrix data to (C:\\Users\\slab\\AppData\\Local\\Temp\\tmph941f95i.txt, C, , Setup:AdaptivePass, \"Original\", \"ohm\", \"nH\", \"fF\", \"mSie\", 5000000000, Maxwell, 7, False\n",
      "INFO 10:22AM [get_matrix]: Exporting matrix data to (C:\\Users\\slab\\AppData\\Local\\Temp\\tmpwikz0yd2.txt, C, , Setup:AdaptivePass, \"Original\", \"ohm\", \"nH\", \"fF\", \"mSie\", 5000000000, Maxwell, 8, False\n",
      "INFO 10:22AM [get_matrix]: Exporting matrix data to (C:\\Users\\slab\\AppData\\Local\\Temp\\tmplu94oih7.txt, C, , Setup:AdaptivePass, \"Original\", \"ohm\", \"nH\", \"fF\", \"mSie\", 5000000000, Maxwell, 9, False\n",
      "INFO 10:22AM [get_matrix]: Exporting matrix data to (C:\\Users\\slab\\AppData\\Local\\Temp\\tmpydxln1y3.txt, C, , Setup:AdaptivePass, \"Original\", \"ohm\", \"nH\", \"fF\", \"mSie\", 5000000000, Maxwell, 10, False\n",
      "INFO 10:22AM [get_matrix]: Exporting matrix data to (C:\\Users\\slab\\AppData\\Local\\Temp\\tmpbg6rnhde.txt, C, , Setup:LastAdaptive, \"Original\", \"ohm\", \"nH\", \"fF\", \"mSie\", 5000000000, Maxwell, 1, False\n",
      "INFO 10:22AM [get_matrix]: Exporting matrix data to (C:\\Users\\slab\\AppData\\Local\\Temp\\tmpthnvhn5y.txt, C, , Setup:AdaptivePass, \"Original\", \"ohm\", \"nH\", \"fF\", \"mSie\", 5000000000, Maxwell, 1, False\n",
      "INFO 10:22AM [get_matrix]: Exporting matrix data to (C:\\Users\\slab\\AppData\\Local\\Temp\\tmp28g5zedi.txt, C, , Setup:AdaptivePass, \"Original\", \"ohm\", \"nH\", \"fF\", \"mSie\", 5000000000, Maxwell, 2, False\n",
      "INFO 10:22AM [get_matrix]: Exporting matrix data to (C:\\Users\\slab\\AppData\\Local\\Temp\\tmpdwor5gxk.txt, C, , Setup:AdaptivePass, \"Original\", \"ohm\", \"nH\", \"fF\", \"mSie\", 5000000000, Maxwell, 3, False\n",
      "INFO 10:22AM [get_matrix]: Exporting matrix data to (C:\\Users\\slab\\AppData\\Local\\Temp\\tmp1cc_do26.txt, C, , Setup:AdaptivePass, \"Original\", \"ohm\", \"nH\", \"fF\", \"mSie\", 5000000000, Maxwell, 4, False\n",
      "INFO 10:22AM [get_matrix]: Exporting matrix data to (C:\\Users\\slab\\AppData\\Local\\Temp\\tmpkopm953p.txt, C, , Setup:AdaptivePass, \"Original\", \"ohm\", \"nH\", \"fF\", \"mSie\", 5000000000, Maxwell, 5, False\n",
      "INFO 10:22AM [get_matrix]: Exporting matrix data to (C:\\Users\\slab\\AppData\\Local\\Temp\\tmpgqaap385.txt, C, , Setup:AdaptivePass, \"Original\", \"ohm\", \"nH\", \"fF\", \"mSie\", 5000000000, Maxwell, 6, False\n",
      "INFO 10:22AM [get_matrix]: Exporting matrix data to (C:\\Users\\slab\\AppData\\Local\\Temp\\tmpqt2egh89.txt, C, , Setup:AdaptivePass, \"Original\", \"ohm\", \"nH\", \"fF\", \"mSie\", 5000000000, Maxwell, 7, False\n",
      "INFO 10:22AM [get_matrix]: Exporting matrix data to (C:\\Users\\slab\\AppData\\Local\\Temp\\tmpf_dh08ek.txt, C, , Setup:AdaptivePass, \"Original\", \"ohm\", \"nH\", \"fF\", \"mSie\", 5000000000, Maxwell, 8, False\n",
      "INFO 10:22AM [get_matrix]: Exporting matrix data to (C:\\Users\\slab\\AppData\\Local\\Temp\\tmp2ec38jkp.txt, C, , Setup:AdaptivePass, \"Original\", \"ohm\", \"nH\", \"fF\", \"mSie\", 5000000000, Maxwell, 9, False\n",
      "INFO 10:22AM [get_matrix]: Exporting matrix data to (C:\\Users\\slab\\AppData\\Local\\Temp\\tmpan38ylto.txt, C, , Setup:AdaptivePass, \"Original\", \"ohm\", \"nH\", \"fF\", \"mSie\", 5000000000, Maxwell, 10, False\n"
     ]
    },
    {
     "name": "stdout",
     "output_type": "stream",
     "text": [
      "                    a_connector_pad_Q1  ground_main_plane  pad_top_Q1\n",
      "a_connector_pad_Q1            28.62239          -18.00099   -10.06615\n",
      "ground_main_plane            -18.00099          105.83737   -46.11199\n",
      "pad_top_Q1                   -10.06615          -46.11199    58.73271\n"
     ]
    },
    {
     "name": "stderr",
     "output_type": "stream",
     "text": [
      "INFO 10:22AM [connect_design]: \tOpened active design\n",
      "\tDesign:    Design_q3d [Solution type: Q3D]\n",
      "INFO 10:22AM [get_setup]: \tOpened setup `Setup`  (<class 'pyEPR.ansys.AnsysQ3DSetup'>)\n",
      "INFO 10:22AM [analyze]: Analyzing setup Setup\n",
      "INFO 10:23AM [get_matrix]: Exporting matrix data to (C:\\Users\\slab\\AppData\\Local\\Temp\\tmpiqs9pa0a.txt, C, , Setup:LastAdaptive, \"Original\", \"ohm\", \"nH\", \"fF\", \"mSie\", 5000000000, Maxwell, 1, False\n",
      "INFO 10:23AM [get_matrix]: Exporting matrix data to (C:\\Users\\slab\\AppData\\Local\\Temp\\tmpuf5prabv.txt, C, , Setup:AdaptivePass, \"Original\", \"ohm\", \"nH\", \"fF\", \"mSie\", 5000000000, Maxwell, 1, False\n",
      "INFO 10:23AM [get_matrix]: Exporting matrix data to (C:\\Users\\slab\\AppData\\Local\\Temp\\tmpovzmovip.txt, C, , Setup:AdaptivePass, \"Original\", \"ohm\", \"nH\", \"fF\", \"mSie\", 5000000000, Maxwell, 2, False\n",
      "INFO 10:23AM [get_matrix]: Exporting matrix data to (C:\\Users\\slab\\AppData\\Local\\Temp\\tmpkfb37aw9.txt, C, , Setup:AdaptivePass, \"Original\", \"ohm\", \"nH\", \"fF\", \"mSie\", 5000000000, Maxwell, 3, False\n",
      "INFO 10:23AM [get_matrix]: Exporting matrix data to (C:\\Users\\slab\\AppData\\Local\\Temp\\tmpqjlp1t0r.txt, C, , Setup:AdaptivePass, \"Original\", \"ohm\", \"nH\", \"fF\", \"mSie\", 5000000000, Maxwell, 4, False\n",
      "INFO 10:23AM [get_matrix]: Exporting matrix data to (C:\\Users\\slab\\AppData\\Local\\Temp\\tmpsw2crfu3.txt, C, , Setup:AdaptivePass, \"Original\", \"ohm\", \"nH\", \"fF\", \"mSie\", 5000000000, Maxwell, 5, False\n",
      "INFO 10:23AM [get_matrix]: Exporting matrix data to (C:\\Users\\slab\\AppData\\Local\\Temp\\tmpykla4bys.txt, C, , Setup:AdaptivePass, \"Original\", \"ohm\", \"nH\", \"fF\", \"mSie\", 5000000000, Maxwell, 6, False\n",
      "INFO 10:23AM [get_matrix]: Exporting matrix data to (C:\\Users\\slab\\AppData\\Local\\Temp\\tmpe0_3r0hw.txt, C, , Setup:AdaptivePass, \"Original\", \"ohm\", \"nH\", \"fF\", \"mSie\", 5000000000, Maxwell, 7, False\n",
      "INFO 10:23AM [get_matrix]: Exporting matrix data to (C:\\Users\\slab\\AppData\\Local\\Temp\\tmp36hisrwq.txt, C, , Setup:AdaptivePass, \"Original\", \"ohm\", \"nH\", \"fF\", \"mSie\", 5000000000, Maxwell, 8, False\n",
      "INFO 10:23AM [get_matrix]: Exporting matrix data to (C:\\Users\\slab\\AppData\\Local\\Temp\\tmpbmq_ays9.txt, C, , Setup:AdaptivePass, \"Original\", \"ohm\", \"nH\", \"fF\", \"mSie\", 5000000000, Maxwell, 9, False\n",
      "INFO 10:23AM [get_matrix]: Exporting matrix data to (C:\\Users\\slab\\AppData\\Local\\Temp\\tmps33zvgmz.txt, C, , Setup:AdaptivePass, \"Original\", \"ohm\", \"nH\", \"fF\", \"mSie\", 5000000000, Maxwell, 10, False\n",
      "INFO 10:23AM [get_matrix]: Exporting matrix data to (C:\\Users\\slab\\AppData\\Local\\Temp\\tmp49816ukm.txt, C, , Setup:LastAdaptive, \"Original\", \"ohm\", \"nH\", \"fF\", \"mSie\", 5000000000, Maxwell, 1, False\n",
      "INFO 10:23AM [get_matrix]: Exporting matrix data to (C:\\Users\\slab\\AppData\\Local\\Temp\\tmp7wqc6lfs.txt, C, , Setup:AdaptivePass, \"Original\", \"ohm\", \"nH\", \"fF\", \"mSie\", 5000000000, Maxwell, 1, False\n",
      "INFO 10:23AM [get_matrix]: Exporting matrix data to (C:\\Users\\slab\\AppData\\Local\\Temp\\tmpili1po5v.txt, C, , Setup:AdaptivePass, \"Original\", \"ohm\", \"nH\", \"fF\", \"mSie\", 5000000000, Maxwell, 2, False\n",
      "INFO 10:23AM [get_matrix]: Exporting matrix data to (C:\\Users\\slab\\AppData\\Local\\Temp\\tmpxzqkqt0c.txt, C, , Setup:AdaptivePass, \"Original\", \"ohm\", \"nH\", \"fF\", \"mSie\", 5000000000, Maxwell, 3, False\n",
      "INFO 10:23AM [get_matrix]: Exporting matrix data to (C:\\Users\\slab\\AppData\\Local\\Temp\\tmpjr6ws1nn.txt, C, , Setup:AdaptivePass, \"Original\", \"ohm\", \"nH\", \"fF\", \"mSie\", 5000000000, Maxwell, 4, False\n",
      "INFO 10:23AM [get_matrix]: Exporting matrix data to (C:\\Users\\slab\\AppData\\Local\\Temp\\tmphckohrn_.txt, C, , Setup:AdaptivePass, \"Original\", \"ohm\", \"nH\", \"fF\", \"mSie\", 5000000000, Maxwell, 5, False\n",
      "INFO 10:23AM [get_matrix]: Exporting matrix data to (C:\\Users\\slab\\AppData\\Local\\Temp\\tmpyywpw_wo.txt, C, , Setup:AdaptivePass, \"Original\", \"ohm\", \"nH\", \"fF\", \"mSie\", 5000000000, Maxwell, 6, False\n",
      "INFO 10:23AM [get_matrix]: Exporting matrix data to (C:\\Users\\slab\\AppData\\Local\\Temp\\tmptsb77dbd.txt, C, , Setup:AdaptivePass, \"Original\", \"ohm\", \"nH\", \"fF\", \"mSie\", 5000000000, Maxwell, 7, False\n",
      "INFO 10:23AM [get_matrix]: Exporting matrix data to (C:\\Users\\slab\\AppData\\Local\\Temp\\tmph7yrz_xt.txt, C, , Setup:AdaptivePass, \"Original\", \"ohm\", \"nH\", \"fF\", \"mSie\", 5000000000, Maxwell, 8, False\n",
      "INFO 10:23AM [get_matrix]: Exporting matrix data to (C:\\Users\\slab\\AppData\\Local\\Temp\\tmpvp1hlot9.txt, C, , Setup:AdaptivePass, \"Original\", \"ohm\", \"nH\", \"fF\", \"mSie\", 5000000000, Maxwell, 9, False\n",
      "INFO 10:23AM [get_matrix]: Exporting matrix data to (C:\\Users\\slab\\AppData\\Local\\Temp\\tmpud3b9qa6.txt, C, , Setup:AdaptivePass, \"Original\", \"ohm\", \"nH\", \"fF\", \"mSie\", 5000000000, Maxwell, 10, False\n"
     ]
    },
    {
     "name": "stdout",
     "output_type": "stream",
     "text": [
      "                    a_connector_pad_Q1  ground_main_plane  pad_top_Q1\n",
      "a_connector_pad_Q1            28.15453          -17.46411   -10.15847\n",
      "ground_main_plane            -17.46411          107.64287   -48.54272\n",
      "pad_top_Q1                   -10.15847          -48.54272    61.37314\n"
     ]
    },
    {
     "name": "stderr",
     "output_type": "stream",
     "text": [
      "INFO 10:23AM [connect_design]: \tOpened active design\n",
      "\tDesign:    Design_q3d [Solution type: Q3D]\n",
      "INFO 10:23AM [get_setup]: \tOpened setup `Setup`  (<class 'pyEPR.ansys.AnsysQ3DSetup'>)\n",
      "INFO 10:23AM [analyze]: Analyzing setup Setup\n",
      "INFO 10:23AM [get_matrix]: Exporting matrix data to (C:\\Users\\slab\\AppData\\Local\\Temp\\tmpion6ag6n.txt, C, , Setup:LastAdaptive, \"Original\", \"ohm\", \"nH\", \"fF\", \"mSie\", 5000000000, Maxwell, 1, False\n",
      "INFO 10:23AM [get_matrix]: Exporting matrix data to (C:\\Users\\slab\\AppData\\Local\\Temp\\tmpdr8unjw9.txt, C, , Setup:AdaptivePass, \"Original\", \"ohm\", \"nH\", \"fF\", \"mSie\", 5000000000, Maxwell, 1, False\n",
      "INFO 10:23AM [get_matrix]: Exporting matrix data to (C:\\Users\\slab\\AppData\\Local\\Temp\\tmpnizj4vup.txt, C, , Setup:AdaptivePass, \"Original\", \"ohm\", \"nH\", \"fF\", \"mSie\", 5000000000, Maxwell, 2, False\n",
      "INFO 10:23AM [get_matrix]: Exporting matrix data to (C:\\Users\\slab\\AppData\\Local\\Temp\\tmpojqjcx0g.txt, C, , Setup:AdaptivePass, \"Original\", \"ohm\", \"nH\", \"fF\", \"mSie\", 5000000000, Maxwell, 3, False\n",
      "INFO 10:23AM [get_matrix]: Exporting matrix data to (C:\\Users\\slab\\AppData\\Local\\Temp\\tmpfqxdqk_o.txt, C, , Setup:AdaptivePass, \"Original\", \"ohm\", \"nH\", \"fF\", \"mSie\", 5000000000, Maxwell, 4, False\n",
      "INFO 10:23AM [get_matrix]: Exporting matrix data to (C:\\Users\\slab\\AppData\\Local\\Temp\\tmpwchfeywi.txt, C, , Setup:AdaptivePass, \"Original\", \"ohm\", \"nH\", \"fF\", \"mSie\", 5000000000, Maxwell, 5, False\n",
      "INFO 10:23AM [get_matrix]: Exporting matrix data to (C:\\Users\\slab\\AppData\\Local\\Temp\\tmpk8sukt5h.txt, C, , Setup:AdaptivePass, \"Original\", \"ohm\", \"nH\", \"fF\", \"mSie\", 5000000000, Maxwell, 6, False\n",
      "INFO 10:23AM [get_matrix]: Exporting matrix data to (C:\\Users\\slab\\AppData\\Local\\Temp\\tmpge2fm0t1.txt, C, , Setup:AdaptivePass, \"Original\", \"ohm\", \"nH\", \"fF\", \"mSie\", 5000000000, Maxwell, 7, False\n",
      "INFO 10:23AM [get_matrix]: Exporting matrix data to (C:\\Users\\slab\\AppData\\Local\\Temp\\tmppod63a9j.txt, C, , Setup:AdaptivePass, \"Original\", \"ohm\", \"nH\", \"fF\", \"mSie\", 5000000000, Maxwell, 8, False\n",
      "INFO 10:23AM [get_matrix]: Exporting matrix data to (C:\\Users\\slab\\AppData\\Local\\Temp\\tmphuqqlnlq.txt, C, , Setup:LastAdaptive, \"Original\", \"ohm\", \"nH\", \"fF\", \"mSie\", 5000000000, Maxwell, 1, False\n",
      "INFO 10:23AM [get_matrix]: Exporting matrix data to (C:\\Users\\slab\\AppData\\Local\\Temp\\tmpyzapvavb.txt, C, , Setup:AdaptivePass, \"Original\", \"ohm\", \"nH\", \"fF\", \"mSie\", 5000000000, Maxwell, 1, False\n",
      "INFO 10:23AM [get_matrix]: Exporting matrix data to (C:\\Users\\slab\\AppData\\Local\\Temp\\tmpx2zk36bi.txt, C, , Setup:AdaptivePass, \"Original\", \"ohm\", \"nH\", \"fF\", \"mSie\", 5000000000, Maxwell, 2, False\n",
      "INFO 10:23AM [get_matrix]: Exporting matrix data to (C:\\Users\\slab\\AppData\\Local\\Temp\\tmp1p0a65an.txt, C, , Setup:AdaptivePass, \"Original\", \"ohm\", \"nH\", \"fF\", \"mSie\", 5000000000, Maxwell, 3, False\n",
      "INFO 10:23AM [get_matrix]: Exporting matrix data to (C:\\Users\\slab\\AppData\\Local\\Temp\\tmptsa_bovi.txt, C, , Setup:AdaptivePass, \"Original\", \"ohm\", \"nH\", \"fF\", \"mSie\", 5000000000, Maxwell, 4, False\n",
      "INFO 10:23AM [get_matrix]: Exporting matrix data to (C:\\Users\\slab\\AppData\\Local\\Temp\\tmp0huvttpw.txt, C, , Setup:AdaptivePass, \"Original\", \"ohm\", \"nH\", \"fF\", \"mSie\", 5000000000, Maxwell, 5, False\n",
      "INFO 10:23AM [get_matrix]: Exporting matrix data to (C:\\Users\\slab\\AppData\\Local\\Temp\\tmpq6_fmx4w.txt, C, , Setup:AdaptivePass, \"Original\", \"ohm\", \"nH\", \"fF\", \"mSie\", 5000000000, Maxwell, 6, False\n",
      "INFO 10:23AM [get_matrix]: Exporting matrix data to (C:\\Users\\slab\\AppData\\Local\\Temp\\tmpzx8jewp7.txt, C, , Setup:AdaptivePass, \"Original\", \"ohm\", \"nH\", \"fF\", \"mSie\", 5000000000, Maxwell, 7, False\n",
      "INFO 10:23AM [get_matrix]: Exporting matrix data to (C:\\Users\\slab\\AppData\\Local\\Temp\\tmpchx0s2y0.txt, C, , Setup:AdaptivePass, \"Original\", \"ohm\", \"nH\", \"fF\", \"mSie\", 5000000000, Maxwell, 8, False\n"
     ]
    },
    {
     "name": "stdout",
     "output_type": "stream",
     "text": [
      "                    a_connector_pad_Q1  ground_main_plane  pad_top_Q1\n",
      "a_connector_pad_Q1            27.40389          -16.85643   -10.05632\n",
      "ground_main_plane            -16.85643          109.91602   -50.83337\n",
      "pad_top_Q1                   -10.05632          -50.83337    63.63738\n"
     ]
    },
    {
     "name": "stderr",
     "output_type": "stream",
     "text": [
      "INFO 10:23AM [connect_design]: \tOpened active design\n",
      "\tDesign:    Design_q3d [Solution type: Q3D]\n",
      "INFO 10:23AM [get_setup]: \tOpened setup `Setup`  (<class 'pyEPR.ansys.AnsysQ3DSetup'>)\n",
      "INFO 10:23AM [analyze]: Analyzing setup Setup\n",
      "INFO 10:24AM [get_matrix]: Exporting matrix data to (C:\\Users\\slab\\AppData\\Local\\Temp\\tmp3i7g5t1i.txt, C, , Setup:LastAdaptive, \"Original\", \"ohm\", \"nH\", \"fF\", \"mSie\", 5000000000, Maxwell, 1, False\n",
      "INFO 10:24AM [get_matrix]: Exporting matrix data to (C:\\Users\\slab\\AppData\\Local\\Temp\\tmp7wqc2cu5.txt, C, , Setup:AdaptivePass, \"Original\", \"ohm\", \"nH\", \"fF\", \"mSie\", 5000000000, Maxwell, 1, False\n",
      "INFO 10:24AM [get_matrix]: Exporting matrix data to (C:\\Users\\slab\\AppData\\Local\\Temp\\tmpzzxuc6wz.txt, C, , Setup:AdaptivePass, \"Original\", \"ohm\", \"nH\", \"fF\", \"mSie\", 5000000000, Maxwell, 2, False\n",
      "INFO 10:24AM [get_matrix]: Exporting matrix data to (C:\\Users\\slab\\AppData\\Local\\Temp\\tmpsent837i.txt, C, , Setup:AdaptivePass, \"Original\", \"ohm\", \"nH\", \"fF\", \"mSie\", 5000000000, Maxwell, 3, False\n",
      "INFO 10:24AM [get_matrix]: Exporting matrix data to (C:\\Users\\slab\\AppData\\Local\\Temp\\tmpzh9nc35i.txt, C, , Setup:AdaptivePass, \"Original\", \"ohm\", \"nH\", \"fF\", \"mSie\", 5000000000, Maxwell, 4, False\n",
      "INFO 10:24AM [get_matrix]: Exporting matrix data to (C:\\Users\\slab\\AppData\\Local\\Temp\\tmphuvylhe1.txt, C, , Setup:AdaptivePass, \"Original\", \"ohm\", \"nH\", \"fF\", \"mSie\", 5000000000, Maxwell, 5, False\n",
      "INFO 10:24AM [get_matrix]: Exporting matrix data to (C:\\Users\\slab\\AppData\\Local\\Temp\\tmpgm92slhe.txt, C, , Setup:AdaptivePass, \"Original\", \"ohm\", \"nH\", \"fF\", \"mSie\", 5000000000, Maxwell, 6, False\n",
      "INFO 10:24AM [get_matrix]: Exporting matrix data to (C:\\Users\\slab\\AppData\\Local\\Temp\\tmpuerul1sw.txt, C, , Setup:AdaptivePass, \"Original\", \"ohm\", \"nH\", \"fF\", \"mSie\", 5000000000, Maxwell, 7, False\n",
      "INFO 10:24AM [get_matrix]: Exporting matrix data to (C:\\Users\\slab\\AppData\\Local\\Temp\\tmp1pkoll5n.txt, C, , Setup:AdaptivePass, \"Original\", \"ohm\", \"nH\", \"fF\", \"mSie\", 5000000000, Maxwell, 8, False\n",
      "INFO 10:24AM [get_matrix]: Exporting matrix data to (C:\\Users\\slab\\AppData\\Local\\Temp\\tmpa6gg61u3.txt, C, , Setup:AdaptivePass, \"Original\", \"ohm\", \"nH\", \"fF\", \"mSie\", 5000000000, Maxwell, 9, False\n",
      "INFO 10:24AM [get_matrix]: Exporting matrix data to (C:\\Users\\slab\\AppData\\Local\\Temp\\tmp5l40d_f0.txt, C, , Setup:AdaptivePass, \"Original\", \"ohm\", \"nH\", \"fF\", \"mSie\", 5000000000, Maxwell, 10, False\n",
      "INFO 10:24AM [get_matrix]: Exporting matrix data to (C:\\Users\\slab\\AppData\\Local\\Temp\\tmpzibis572.txt, C, , Setup:LastAdaptive, \"Original\", \"ohm\", \"nH\", \"fF\", \"mSie\", 5000000000, Maxwell, 1, False\n",
      "INFO 10:24AM [get_matrix]: Exporting matrix data to (C:\\Users\\slab\\AppData\\Local\\Temp\\tmpj3y4ag8x.txt, C, , Setup:AdaptivePass, \"Original\", \"ohm\", \"nH\", \"fF\", \"mSie\", 5000000000, Maxwell, 1, False\n",
      "INFO 10:24AM [get_matrix]: Exporting matrix data to (C:\\Users\\slab\\AppData\\Local\\Temp\\tmp7elk7yhf.txt, C, , Setup:AdaptivePass, \"Original\", \"ohm\", \"nH\", \"fF\", \"mSie\", 5000000000, Maxwell, 2, False\n",
      "INFO 10:24AM [get_matrix]: Exporting matrix data to (C:\\Users\\slab\\AppData\\Local\\Temp\\tmplf14fcxp.txt, C, , Setup:AdaptivePass, \"Original\", \"ohm\", \"nH\", \"fF\", \"mSie\", 5000000000, Maxwell, 3, False\n",
      "INFO 10:24AM [get_matrix]: Exporting matrix data to (C:\\Users\\slab\\AppData\\Local\\Temp\\tmp72e2hcdv.txt, C, , Setup:AdaptivePass, \"Original\", \"ohm\", \"nH\", \"fF\", \"mSie\", 5000000000, Maxwell, 4, False\n",
      "INFO 10:24AM [get_matrix]: Exporting matrix data to (C:\\Users\\slab\\AppData\\Local\\Temp\\tmpdxmfel96.txt, C, , Setup:AdaptivePass, \"Original\", \"ohm\", \"nH\", \"fF\", \"mSie\", 5000000000, Maxwell, 5, False\n",
      "INFO 10:24AM [get_matrix]: Exporting matrix data to (C:\\Users\\slab\\AppData\\Local\\Temp\\tmpugkbhg8w.txt, C, , Setup:AdaptivePass, \"Original\", \"ohm\", \"nH\", \"fF\", \"mSie\", 5000000000, Maxwell, 6, False\n",
      "INFO 10:24AM [get_matrix]: Exporting matrix data to (C:\\Users\\slab\\AppData\\Local\\Temp\\tmp2fi392q2.txt, C, , Setup:AdaptivePass, \"Original\", \"ohm\", \"nH\", \"fF\", \"mSie\", 5000000000, Maxwell, 7, False\n",
      "INFO 10:24AM [get_matrix]: Exporting matrix data to (C:\\Users\\slab\\AppData\\Local\\Temp\\tmp0pwevofy.txt, C, , Setup:AdaptivePass, \"Original\", \"ohm\", \"nH\", \"fF\", \"mSie\", 5000000000, Maxwell, 8, False\n",
      "INFO 10:24AM [get_matrix]: Exporting matrix data to (C:\\Users\\slab\\AppData\\Local\\Temp\\tmp1hn3k3p8.txt, C, , Setup:AdaptivePass, \"Original\", \"ohm\", \"nH\", \"fF\", \"mSie\", 5000000000, Maxwell, 9, False\n",
      "INFO 10:24AM [get_matrix]: Exporting matrix data to (C:\\Users\\slab\\AppData\\Local\\Temp\\tmplye3p3p1.txt, C, , Setup:AdaptivePass, \"Original\", \"ohm\", \"nH\", \"fF\", \"mSie\", 5000000000, Maxwell, 10, False\n"
     ]
    },
    {
     "name": "stdout",
     "output_type": "stream",
     "text": [
      "                    a_connector_pad_Q1  ground_main_plane  pad_top_Q1\n",
      "a_connector_pad_Q1            27.25024          -16.55293   -10.20564\n",
      "ground_main_plane            -16.55293          111.69824   -53.69843\n",
      "pad_top_Q1                   -10.20564          -53.69843    66.81339\n"
     ]
    },
    {
     "name": "stderr",
     "output_type": "stream",
     "text": [
      "INFO 10:24AM [connect_design]: \tOpened active design\n",
      "\tDesign:    Design_q3d [Solution type: Q3D]\n",
      "INFO 10:24AM [get_setup]: \tOpened setup `Setup`  (<class 'pyEPR.ansys.AnsysQ3DSetup'>)\n",
      "INFO 10:24AM [analyze]: Analyzing setup Setup\n",
      "INFO 10:24AM [get_matrix]: Exporting matrix data to (C:\\Users\\slab\\AppData\\Local\\Temp\\tmpmarfijgn.txt, C, , Setup:LastAdaptive, \"Original\", \"ohm\", \"nH\", \"fF\", \"mSie\", 5000000000, Maxwell, 1, False\n",
      "INFO 10:24AM [get_matrix]: Exporting matrix data to (C:\\Users\\slab\\AppData\\Local\\Temp\\tmpbn45hxac.txt, C, , Setup:AdaptivePass, \"Original\", \"ohm\", \"nH\", \"fF\", \"mSie\", 5000000000, Maxwell, 1, False\n",
      "INFO 10:24AM [get_matrix]: Exporting matrix data to (C:\\Users\\slab\\AppData\\Local\\Temp\\tmpnrzgqxmp.txt, C, , Setup:AdaptivePass, \"Original\", \"ohm\", \"nH\", \"fF\", \"mSie\", 5000000000, Maxwell, 2, False\n",
      "INFO 10:24AM [get_matrix]: Exporting matrix data to (C:\\Users\\slab\\AppData\\Local\\Temp\\tmpgx4leuyw.txt, C, , Setup:AdaptivePass, \"Original\", \"ohm\", \"nH\", \"fF\", \"mSie\", 5000000000, Maxwell, 3, False\n",
      "INFO 10:24AM [get_matrix]: Exporting matrix data to (C:\\Users\\slab\\AppData\\Local\\Temp\\tmpcotr0ak8.txt, C, , Setup:AdaptivePass, \"Original\", \"ohm\", \"nH\", \"fF\", \"mSie\", 5000000000, Maxwell, 4, False\n",
      "INFO 10:24AM [get_matrix]: Exporting matrix data to (C:\\Users\\slab\\AppData\\Local\\Temp\\tmp5q_vf0ic.txt, C, , Setup:AdaptivePass, \"Original\", \"ohm\", \"nH\", \"fF\", \"mSie\", 5000000000, Maxwell, 5, False\n",
      "INFO 10:24AM [get_matrix]: Exporting matrix data to (C:\\Users\\slab\\AppData\\Local\\Temp\\tmpw2oob2m6.txt, C, , Setup:AdaptivePass, \"Original\", \"ohm\", \"nH\", \"fF\", \"mSie\", 5000000000, Maxwell, 6, False\n",
      "INFO 10:24AM [get_matrix]: Exporting matrix data to (C:\\Users\\slab\\AppData\\Local\\Temp\\tmpc7n4q7dr.txt, C, , Setup:AdaptivePass, \"Original\", \"ohm\", \"nH\", \"fF\", \"mSie\", 5000000000, Maxwell, 7, False\n",
      "INFO 10:24AM [get_matrix]: Exporting matrix data to (C:\\Users\\slab\\AppData\\Local\\Temp\\tmpikpwe54k.txt, C, , Setup:AdaptivePass, \"Original\", \"ohm\", \"nH\", \"fF\", \"mSie\", 5000000000, Maxwell, 8, False\n",
      "INFO 10:24AM [get_matrix]: Exporting matrix data to (C:\\Users\\slab\\AppData\\Local\\Temp\\tmprfy7ls8w.txt, C, , Setup:AdaptivePass, \"Original\", \"ohm\", \"nH\", \"fF\", \"mSie\", 5000000000, Maxwell, 9, False\n",
      "INFO 10:24AM [get_matrix]: Exporting matrix data to (C:\\Users\\slab\\AppData\\Local\\Temp\\tmpso7jboq9.txt, C, , Setup:AdaptivePass, \"Original\", \"ohm\", \"nH\", \"fF\", \"mSie\", 5000000000, Maxwell, 10, False\n",
      "INFO 10:24AM [get_matrix]: Exporting matrix data to (C:\\Users\\slab\\AppData\\Local\\Temp\\tmpricwjipe.txt, C, , Setup:LastAdaptive, \"Original\", \"ohm\", \"nH\", \"fF\", \"mSie\", 5000000000, Maxwell, 1, False\n",
      "INFO 10:24AM [get_matrix]: Exporting matrix data to (C:\\Users\\slab\\AppData\\Local\\Temp\\tmpx1d1nb58.txt, C, , Setup:AdaptivePass, \"Original\", \"ohm\", \"nH\", \"fF\", \"mSie\", 5000000000, Maxwell, 1, False\n",
      "INFO 10:24AM [get_matrix]: Exporting matrix data to (C:\\Users\\slab\\AppData\\Local\\Temp\\tmpa2_e0k4i.txt, C, , Setup:AdaptivePass, \"Original\", \"ohm\", \"nH\", \"fF\", \"mSie\", 5000000000, Maxwell, 2, False\n",
      "INFO 10:24AM [get_matrix]: Exporting matrix data to (C:\\Users\\slab\\AppData\\Local\\Temp\\tmpqgurb_ou.txt, C, , Setup:AdaptivePass, \"Original\", \"ohm\", \"nH\", \"fF\", \"mSie\", 5000000000, Maxwell, 3, False\n",
      "INFO 10:24AM [get_matrix]: Exporting matrix data to (C:\\Users\\slab\\AppData\\Local\\Temp\\tmpim5sak06.txt, C, , Setup:AdaptivePass, \"Original\", \"ohm\", \"nH\", \"fF\", \"mSie\", 5000000000, Maxwell, 4, False\n",
      "INFO 10:24AM [get_matrix]: Exporting matrix data to (C:\\Users\\slab\\AppData\\Local\\Temp\\tmpahvm0slj.txt, C, , Setup:AdaptivePass, \"Original\", \"ohm\", \"nH\", \"fF\", \"mSie\", 5000000000, Maxwell, 5, False\n",
      "INFO 10:24AM [get_matrix]: Exporting matrix data to (C:\\Users\\slab\\AppData\\Local\\Temp\\tmp4aveot1d.txt, C, , Setup:AdaptivePass, \"Original\", \"ohm\", \"nH\", \"fF\", \"mSie\", 5000000000, Maxwell, 6, False\n",
      "INFO 10:24AM [get_matrix]: Exporting matrix data to (C:\\Users\\slab\\AppData\\Local\\Temp\\tmpdo0cq9ei.txt, C, , Setup:AdaptivePass, \"Original\", \"ohm\", \"nH\", \"fF\", \"mSie\", 5000000000, Maxwell, 7, False\n",
      "INFO 10:24AM [get_matrix]: Exporting matrix data to (C:\\Users\\slab\\AppData\\Local\\Temp\\tmpeu77n7sw.txt, C, , Setup:AdaptivePass, \"Original\", \"ohm\", \"nH\", \"fF\", \"mSie\", 5000000000, Maxwell, 8, False\n",
      "INFO 10:24AM [get_matrix]: Exporting matrix data to (C:\\Users\\slab\\AppData\\Local\\Temp\\tmpzgru5gud.txt, C, , Setup:AdaptivePass, \"Original\", \"ohm\", \"nH\", \"fF\", \"mSie\", 5000000000, Maxwell, 9, False\n",
      "INFO 10:24AM [get_matrix]: Exporting matrix data to (C:\\Users\\slab\\AppData\\Local\\Temp\\tmputzkniux.txt, C, , Setup:AdaptivePass, \"Original\", \"ohm\", \"nH\", \"fF\", \"mSie\", 5000000000, Maxwell, 10, False\n"
     ]
    },
    {
     "name": "stdout",
     "output_type": "stream",
     "text": [
      "                    a_connector_pad_Q1  ground_main_plane  pad_top_Q1\n",
      "a_connector_pad_Q1            26.79435          -16.11864   -10.20245\n",
      "ground_main_plane            -16.11864          113.68610   -56.21173\n",
      "pad_top_Q1                   -10.20245          -56.21173    69.43782\n"
     ]
    },
    {
     "name": "stderr",
     "output_type": "stream",
     "text": [
      "INFO 10:25AM [connect_design]: \tOpened active design\n",
      "\tDesign:    Design_q3d [Solution type: Q3D]\n",
      "INFO 10:25AM [get_setup]: \tOpened setup `Setup`  (<class 'pyEPR.ansys.AnsysQ3DSetup'>)\n",
      "INFO 10:25AM [analyze]: Analyzing setup Setup\n",
      "INFO 10:25AM [get_matrix]: Exporting matrix data to (C:\\Users\\slab\\AppData\\Local\\Temp\\tmppbf0va5h.txt, C, , Setup:LastAdaptive, \"Original\", \"ohm\", \"nH\", \"fF\", \"mSie\", 5000000000, Maxwell, 1, False\n",
      "INFO 10:25AM [get_matrix]: Exporting matrix data to (C:\\Users\\slab\\AppData\\Local\\Temp\\tmpjn421tbg.txt, C, , Setup:AdaptivePass, \"Original\", \"ohm\", \"nH\", \"fF\", \"mSie\", 5000000000, Maxwell, 1, False\n",
      "INFO 10:25AM [get_matrix]: Exporting matrix data to (C:\\Users\\slab\\AppData\\Local\\Temp\\tmp2n6l2xwo.txt, C, , Setup:AdaptivePass, \"Original\", \"ohm\", \"nH\", \"fF\", \"mSie\", 5000000000, Maxwell, 2, False\n",
      "INFO 10:25AM [get_matrix]: Exporting matrix data to (C:\\Users\\slab\\AppData\\Local\\Temp\\tmpuf88y0i7.txt, C, , Setup:AdaptivePass, \"Original\", \"ohm\", \"nH\", \"fF\", \"mSie\", 5000000000, Maxwell, 3, False\n",
      "INFO 10:25AM [get_matrix]: Exporting matrix data to (C:\\Users\\slab\\AppData\\Local\\Temp\\tmpm2z1bbmb.txt, C, , Setup:AdaptivePass, \"Original\", \"ohm\", \"nH\", \"fF\", \"mSie\", 5000000000, Maxwell, 4, False\n",
      "INFO 10:25AM [get_matrix]: Exporting matrix data to (C:\\Users\\slab\\AppData\\Local\\Temp\\tmpl5cccwcq.txt, C, , Setup:AdaptivePass, \"Original\", \"ohm\", \"nH\", \"fF\", \"mSie\", 5000000000, Maxwell, 5, False\n",
      "INFO 10:25AM [get_matrix]: Exporting matrix data to (C:\\Users\\slab\\AppData\\Local\\Temp\\tmp672v4t65.txt, C, , Setup:AdaptivePass, \"Original\", \"ohm\", \"nH\", \"fF\", \"mSie\", 5000000000, Maxwell, 6, False\n",
      "INFO 10:25AM [get_matrix]: Exporting matrix data to (C:\\Users\\slab\\AppData\\Local\\Temp\\tmpininvimg.txt, C, , Setup:AdaptivePass, \"Original\", \"ohm\", \"nH\", \"fF\", \"mSie\", 5000000000, Maxwell, 7, False\n",
      "INFO 10:25AM [get_matrix]: Exporting matrix data to (C:\\Users\\slab\\AppData\\Local\\Temp\\tmpz67lf2w_.txt, C, , Setup:AdaptivePass, \"Original\", \"ohm\", \"nH\", \"fF\", \"mSie\", 5000000000, Maxwell, 8, False\n",
      "INFO 10:25AM [get_matrix]: Exporting matrix data to (C:\\Users\\slab\\AppData\\Local\\Temp\\tmpkepd7iz3.txt, C, , Setup:AdaptivePass, \"Original\", \"ohm\", \"nH\", \"fF\", \"mSie\", 5000000000, Maxwell, 9, False\n",
      "INFO 10:25AM [get_matrix]: Exporting matrix data to (C:\\Users\\slab\\AppData\\Local\\Temp\\tmpbc35z9m9.txt, C, , Setup:AdaptivePass, \"Original\", \"ohm\", \"nH\", \"fF\", \"mSie\", 5000000000, Maxwell, 10, False\n",
      "INFO 10:25AM [get_matrix]: Exporting matrix data to (C:\\Users\\slab\\AppData\\Local\\Temp\\tmpsyjti7yp.txt, C, , Setup:LastAdaptive, \"Original\", \"ohm\", \"nH\", \"fF\", \"mSie\", 5000000000, Maxwell, 1, False\n",
      "INFO 10:25AM [get_matrix]: Exporting matrix data to (C:\\Users\\slab\\AppData\\Local\\Temp\\tmpsdbtx56o.txt, C, , Setup:AdaptivePass, \"Original\", \"ohm\", \"nH\", \"fF\", \"mSie\", 5000000000, Maxwell, 1, False\n",
      "INFO 10:25AM [get_matrix]: Exporting matrix data to (C:\\Users\\slab\\AppData\\Local\\Temp\\tmpkou47ej8.txt, C, , Setup:AdaptivePass, \"Original\", \"ohm\", \"nH\", \"fF\", \"mSie\", 5000000000, Maxwell, 2, False\n",
      "INFO 10:25AM [get_matrix]: Exporting matrix data to (C:\\Users\\slab\\AppData\\Local\\Temp\\tmpp2czx36o.txt, C, , Setup:AdaptivePass, \"Original\", \"ohm\", \"nH\", \"fF\", \"mSie\", 5000000000, Maxwell, 3, False\n",
      "INFO 10:25AM [get_matrix]: Exporting matrix data to (C:\\Users\\slab\\AppData\\Local\\Temp\\tmpc96ydtw6.txt, C, , Setup:AdaptivePass, \"Original\", \"ohm\", \"nH\", \"fF\", \"mSie\", 5000000000, Maxwell, 4, False\n",
      "INFO 10:25AM [get_matrix]: Exporting matrix data to (C:\\Users\\slab\\AppData\\Local\\Temp\\tmp8i9i8zxu.txt, C, , Setup:AdaptivePass, \"Original\", \"ohm\", \"nH\", \"fF\", \"mSie\", 5000000000, Maxwell, 5, False\n",
      "INFO 10:25AM [get_matrix]: Exporting matrix data to (C:\\Users\\slab\\AppData\\Local\\Temp\\tmpduodglc_.txt, C, , Setup:AdaptivePass, \"Original\", \"ohm\", \"nH\", \"fF\", \"mSie\", 5000000000, Maxwell, 6, False\n",
      "INFO 10:25AM [get_matrix]: Exporting matrix data to (C:\\Users\\slab\\AppData\\Local\\Temp\\tmp77q5u_6k.txt, C, , Setup:AdaptivePass, \"Original\", \"ohm\", \"nH\", \"fF\", \"mSie\", 5000000000, Maxwell, 7, False\n",
      "INFO 10:25AM [get_matrix]: Exporting matrix data to (C:\\Users\\slab\\AppData\\Local\\Temp\\tmpbx11r8r5.txt, C, , Setup:AdaptivePass, \"Original\", \"ohm\", \"nH\", \"fF\", \"mSie\", 5000000000, Maxwell, 8, False\n",
      "INFO 10:25AM [get_matrix]: Exporting matrix data to (C:\\Users\\slab\\AppData\\Local\\Temp\\tmpfoy22sn0.txt, C, , Setup:AdaptivePass, \"Original\", \"ohm\", \"nH\", \"fF\", \"mSie\", 5000000000, Maxwell, 9, False\n",
      "INFO 10:25AM [get_matrix]: Exporting matrix data to (C:\\Users\\slab\\AppData\\Local\\Temp\\tmpn8tpkw0u.txt, C, , Setup:AdaptivePass, \"Original\", \"ohm\", \"nH\", \"fF\", \"mSie\", 5000000000, Maxwell, 10, False\n"
     ]
    },
    {
     "name": "stdout",
     "output_type": "stream",
     "text": [
      "                    a_connector_pad_Q1  ground_main_plane  pad_top_Q1\n",
      "a_connector_pad_Q1            26.28633          -15.63358   -10.19919\n",
      "ground_main_plane            -15.63358          115.85467   -58.81903\n",
      "pad_top_Q1                   -10.19919          -58.81903    72.13739\n"
     ]
    },
    {
     "name": "stderr",
     "output_type": "stream",
     "text": [
      "INFO 10:25AM [connect_design]: \tOpened active design\n",
      "\tDesign:    Design_q3d [Solution type: Q3D]\n",
      "INFO 10:25AM [get_setup]: \tOpened setup `Setup`  (<class 'pyEPR.ansys.AnsysQ3DSetup'>)\n",
      "INFO 10:25AM [analyze]: Analyzing setup Setup\n",
      "INFO 10:26AM [get_matrix]: Exporting matrix data to (C:\\Users\\slab\\AppData\\Local\\Temp\\tmpi9ef8czt.txt, C, , Setup:LastAdaptive, \"Original\", \"ohm\", \"nH\", \"fF\", \"mSie\", 5000000000, Maxwell, 1, False\n",
      "INFO 10:26AM [get_matrix]: Exporting matrix data to (C:\\Users\\slab\\AppData\\Local\\Temp\\tmppiulmj5g.txt, C, , Setup:AdaptivePass, \"Original\", \"ohm\", \"nH\", \"fF\", \"mSie\", 5000000000, Maxwell, 1, False\n",
      "INFO 10:26AM [get_matrix]: Exporting matrix data to (C:\\Users\\slab\\AppData\\Local\\Temp\\tmpbyblj28n.txt, C, , Setup:AdaptivePass, \"Original\", \"ohm\", \"nH\", \"fF\", \"mSie\", 5000000000, Maxwell, 2, False\n",
      "INFO 10:26AM [get_matrix]: Exporting matrix data to (C:\\Users\\slab\\AppData\\Local\\Temp\\tmpucq88om7.txt, C, , Setup:AdaptivePass, \"Original\", \"ohm\", \"nH\", \"fF\", \"mSie\", 5000000000, Maxwell, 3, False\n",
      "INFO 10:26AM [get_matrix]: Exporting matrix data to (C:\\Users\\slab\\AppData\\Local\\Temp\\tmptqulwui4.txt, C, , Setup:AdaptivePass, \"Original\", \"ohm\", \"nH\", \"fF\", \"mSie\", 5000000000, Maxwell, 4, False\n",
      "INFO 10:26AM [get_matrix]: Exporting matrix data to (C:\\Users\\slab\\AppData\\Local\\Temp\\tmpdnumav2s.txt, C, , Setup:AdaptivePass, \"Original\", \"ohm\", \"nH\", \"fF\", \"mSie\", 5000000000, Maxwell, 5, False\n",
      "INFO 10:26AM [get_matrix]: Exporting matrix data to (C:\\Users\\slab\\AppData\\Local\\Temp\\tmpqk2pjpsb.txt, C, , Setup:AdaptivePass, \"Original\", \"ohm\", \"nH\", \"fF\", \"mSie\", 5000000000, Maxwell, 6, False\n",
      "INFO 10:26AM [get_matrix]: Exporting matrix data to (C:\\Users\\slab\\AppData\\Local\\Temp\\tmpwztd1guu.txt, C, , Setup:AdaptivePass, \"Original\", \"ohm\", \"nH\", \"fF\", \"mSie\", 5000000000, Maxwell, 7, False\n",
      "INFO 10:26AM [get_matrix]: Exporting matrix data to (C:\\Users\\slab\\AppData\\Local\\Temp\\tmpd8xggp3b.txt, C, , Setup:AdaptivePass, \"Original\", \"ohm\", \"nH\", \"fF\", \"mSie\", 5000000000, Maxwell, 8, False\n",
      "INFO 10:26AM [get_matrix]: Exporting matrix data to (C:\\Users\\slab\\AppData\\Local\\Temp\\tmpnu5hmf09.txt, C, , Setup:AdaptivePass, \"Original\", \"ohm\", \"nH\", \"fF\", \"mSie\", 5000000000, Maxwell, 9, False\n",
      "INFO 10:26AM [get_matrix]: Exporting matrix data to (C:\\Users\\slab\\AppData\\Local\\Temp\\tmp6e8ajgfk.txt, C, , Setup:AdaptivePass, \"Original\", \"ohm\", \"nH\", \"fF\", \"mSie\", 5000000000, Maxwell, 10, False\n",
      "INFO 10:26AM [get_matrix]: Exporting matrix data to (C:\\Users\\slab\\AppData\\Local\\Temp\\tmpby7c3j1n.txt, C, , Setup:LastAdaptive, \"Original\", \"ohm\", \"nH\", \"fF\", \"mSie\", 5000000000, Maxwell, 1, False\n",
      "INFO 10:26AM [get_matrix]: Exporting matrix data to (C:\\Users\\slab\\AppData\\Local\\Temp\\tmp0gc3zxi_.txt, C, , Setup:AdaptivePass, \"Original\", \"ohm\", \"nH\", \"fF\", \"mSie\", 5000000000, Maxwell, 1, False\n",
      "INFO 10:26AM [get_matrix]: Exporting matrix data to (C:\\Users\\slab\\AppData\\Local\\Temp\\tmptrlyc8he.txt, C, , Setup:AdaptivePass, \"Original\", \"ohm\", \"nH\", \"fF\", \"mSie\", 5000000000, Maxwell, 2, False\n",
      "INFO 10:26AM [get_matrix]: Exporting matrix data to (C:\\Users\\slab\\AppData\\Local\\Temp\\tmplwa6nw9l.txt, C, , Setup:AdaptivePass, \"Original\", \"ohm\", \"nH\", \"fF\", \"mSie\", 5000000000, Maxwell, 3, False\n",
      "INFO 10:26AM [get_matrix]: Exporting matrix data to (C:\\Users\\slab\\AppData\\Local\\Temp\\tmpi8phz86_.txt, C, , Setup:AdaptivePass, \"Original\", \"ohm\", \"nH\", \"fF\", \"mSie\", 5000000000, Maxwell, 4, False\n",
      "INFO 10:26AM [get_matrix]: Exporting matrix data to (C:\\Users\\slab\\AppData\\Local\\Temp\\tmpwjxp4ca0.txt, C, , Setup:AdaptivePass, \"Original\", \"ohm\", \"nH\", \"fF\", \"mSie\", 5000000000, Maxwell, 5, False\n",
      "INFO 10:26AM [get_matrix]: Exporting matrix data to (C:\\Users\\slab\\AppData\\Local\\Temp\\tmp7ftbhpyl.txt, C, , Setup:AdaptivePass, \"Original\", \"ohm\", \"nH\", \"fF\", \"mSie\", 5000000000, Maxwell, 6, False\n",
      "INFO 10:26AM [get_matrix]: Exporting matrix data to (C:\\Users\\slab\\AppData\\Local\\Temp\\tmpzzb6wjq0.txt, C, , Setup:AdaptivePass, \"Original\", \"ohm\", \"nH\", \"fF\", \"mSie\", 5000000000, Maxwell, 7, False\n",
      "INFO 10:26AM [get_matrix]: Exporting matrix data to (C:\\Users\\slab\\AppData\\Local\\Temp\\tmpkmbq5pen.txt, C, , Setup:AdaptivePass, \"Original\", \"ohm\", \"nH\", \"fF\", \"mSie\", 5000000000, Maxwell, 8, False\n",
      "INFO 10:26AM [get_matrix]: Exporting matrix data to (C:\\Users\\slab\\AppData\\Local\\Temp\\tmpjnsnuyio.txt, C, , Setup:AdaptivePass, \"Original\", \"ohm\", \"nH\", \"fF\", \"mSie\", 5000000000, Maxwell, 9, False\n",
      "INFO 10:26AM [get_matrix]: Exporting matrix data to (C:\\Users\\slab\\AppData\\Local\\Temp\\tmp5zy41msg.txt, C, , Setup:AdaptivePass, \"Original\", \"ohm\", \"nH\", \"fF\", \"mSie\", 5000000000, Maxwell, 10, False\n"
     ]
    },
    {
     "name": "stdout",
     "output_type": "stream",
     "text": [
      "                    a_connector_pad_Q1  ground_main_plane  pad_top_Q1\n",
      "a_connector_pad_Q1            25.81701          -15.26496   -10.11383\n",
      "ground_main_plane            -15.26496          118.02553   -61.49914\n",
      "pad_top_Q1                   -10.11383          -61.49914    74.84580\n"
     ]
    },
    {
     "name": "stderr",
     "output_type": "stream",
     "text": [
      "INFO 10:26AM [connect_design]: \tOpened active design\n",
      "\tDesign:    Design_q3d [Solution type: Q3D]\n",
      "INFO 10:26AM [get_setup]: \tOpened setup `Setup`  (<class 'pyEPR.ansys.AnsysQ3DSetup'>)\n",
      "INFO 10:26AM [analyze]: Analyzing setup Setup\n",
      "INFO 10:26AM [get_matrix]: Exporting matrix data to (C:\\Users\\slab\\AppData\\Local\\Temp\\tmp_la6708a.txt, C, , Setup:LastAdaptive, \"Original\", \"ohm\", \"nH\", \"fF\", \"mSie\", 5000000000, Maxwell, 1, False\n",
      "INFO 10:26AM [get_matrix]: Exporting matrix data to (C:\\Users\\slab\\AppData\\Local\\Temp\\tmpbhbsuh7u.txt, C, , Setup:AdaptivePass, \"Original\", \"ohm\", \"nH\", \"fF\", \"mSie\", 5000000000, Maxwell, 1, False\n",
      "INFO 10:26AM [get_matrix]: Exporting matrix data to (C:\\Users\\slab\\AppData\\Local\\Temp\\tmpdr0fwrqt.txt, C, , Setup:AdaptivePass, \"Original\", \"ohm\", \"nH\", \"fF\", \"mSie\", 5000000000, Maxwell, 2, False\n",
      "INFO 10:26AM [get_matrix]: Exporting matrix data to (C:\\Users\\slab\\AppData\\Local\\Temp\\tmp7xwbhy30.txt, C, , Setup:AdaptivePass, \"Original\", \"ohm\", \"nH\", \"fF\", \"mSie\", 5000000000, Maxwell, 3, False\n",
      "INFO 10:26AM [get_matrix]: Exporting matrix data to (C:\\Users\\slab\\AppData\\Local\\Temp\\tmp2y6z4fpa.txt, C, , Setup:AdaptivePass, \"Original\", \"ohm\", \"nH\", \"fF\", \"mSie\", 5000000000, Maxwell, 4, False\n",
      "INFO 10:26AM [get_matrix]: Exporting matrix data to (C:\\Users\\slab\\AppData\\Local\\Temp\\tmp7nlegj8s.txt, C, , Setup:AdaptivePass, \"Original\", \"ohm\", \"nH\", \"fF\", \"mSie\", 5000000000, Maxwell, 5, False\n",
      "INFO 10:26AM [get_matrix]: Exporting matrix data to (C:\\Users\\slab\\AppData\\Local\\Temp\\tmp3k2zjiel.txt, C, , Setup:AdaptivePass, \"Original\", \"ohm\", \"nH\", \"fF\", \"mSie\", 5000000000, Maxwell, 6, False\n",
      "INFO 10:26AM [get_matrix]: Exporting matrix data to (C:\\Users\\slab\\AppData\\Local\\Temp\\tmp2ouhx3f9.txt, C, , Setup:AdaptivePass, \"Original\", \"ohm\", \"nH\", \"fF\", \"mSie\", 5000000000, Maxwell, 7, False\n",
      "INFO 10:26AM [get_matrix]: Exporting matrix data to (C:\\Users\\slab\\AppData\\Local\\Temp\\tmpuvdnhfhp.txt, C, , Setup:AdaptivePass, \"Original\", \"ohm\", \"nH\", \"fF\", \"mSie\", 5000000000, Maxwell, 8, False\n",
      "INFO 10:26AM [get_matrix]: Exporting matrix data to (C:\\Users\\slab\\AppData\\Local\\Temp\\tmpl2l8ef6t.txt, C, , Setup:AdaptivePass, \"Original\", \"ohm\", \"nH\", \"fF\", \"mSie\", 5000000000, Maxwell, 9, False\n",
      "INFO 10:26AM [get_matrix]: Exporting matrix data to (C:\\Users\\slab\\AppData\\Local\\Temp\\tmp2jfl6y6a.txt, C, , Setup:AdaptivePass, \"Original\", \"ohm\", \"nH\", \"fF\", \"mSie\", 5000000000, Maxwell, 10, False\n",
      "INFO 10:26AM [get_matrix]: Exporting matrix data to (C:\\Users\\slab\\AppData\\Local\\Temp\\tmpvulc0w88.txt, C, , Setup:LastAdaptive, \"Original\", \"ohm\", \"nH\", \"fF\", \"mSie\", 5000000000, Maxwell, 1, False\n",
      "INFO 10:26AM [get_matrix]: Exporting matrix data to (C:\\Users\\slab\\AppData\\Local\\Temp\\tmpjwfcfuqm.txt, C, , Setup:AdaptivePass, \"Original\", \"ohm\", \"nH\", \"fF\", \"mSie\", 5000000000, Maxwell, 1, False\n",
      "INFO 10:26AM [get_matrix]: Exporting matrix data to (C:\\Users\\slab\\AppData\\Local\\Temp\\tmpqoxeko0f.txt, C, , Setup:AdaptivePass, \"Original\", \"ohm\", \"nH\", \"fF\", \"mSie\", 5000000000, Maxwell, 2, False\n",
      "INFO 10:26AM [get_matrix]: Exporting matrix data to (C:\\Users\\slab\\AppData\\Local\\Temp\\tmpb38ejg03.txt, C, , Setup:AdaptivePass, \"Original\", \"ohm\", \"nH\", \"fF\", \"mSie\", 5000000000, Maxwell, 3, False\n",
      "INFO 10:26AM [get_matrix]: Exporting matrix data to (C:\\Users\\slab\\AppData\\Local\\Temp\\tmpet5klj1d.txt, C, , Setup:AdaptivePass, \"Original\", \"ohm\", \"nH\", \"fF\", \"mSie\", 5000000000, Maxwell, 4, False\n",
      "INFO 10:26AM [get_matrix]: Exporting matrix data to (C:\\Users\\slab\\AppData\\Local\\Temp\\tmpdg8j8g0f.txt, C, , Setup:AdaptivePass, \"Original\", \"ohm\", \"nH\", \"fF\", \"mSie\", 5000000000, Maxwell, 5, False\n",
      "INFO 10:26AM [get_matrix]: Exporting matrix data to (C:\\Users\\slab\\AppData\\Local\\Temp\\tmp5rmli96b.txt, C, , Setup:AdaptivePass, \"Original\", \"ohm\", \"nH\", \"fF\", \"mSie\", 5000000000, Maxwell, 6, False\n",
      "INFO 10:26AM [get_matrix]: Exporting matrix data to (C:\\Users\\slab\\AppData\\Local\\Temp\\tmpwzhepzc3.txt, C, , Setup:AdaptivePass, \"Original\", \"ohm\", \"nH\", \"fF\", \"mSie\", 5000000000, Maxwell, 7, False\n",
      "INFO 10:26AM [get_matrix]: Exporting matrix data to (C:\\Users\\slab\\AppData\\Local\\Temp\\tmpopo_o5v9.txt, C, , Setup:AdaptivePass, \"Original\", \"ohm\", \"nH\", \"fF\", \"mSie\", 5000000000, Maxwell, 8, False\n",
      "INFO 10:26AM [get_matrix]: Exporting matrix data to (C:\\Users\\slab\\AppData\\Local\\Temp\\tmp5kjh784l.txt, C, , Setup:AdaptivePass, \"Original\", \"ohm\", \"nH\", \"fF\", \"mSie\", 5000000000, Maxwell, 9, False\n",
      "INFO 10:26AM [get_matrix]: Exporting matrix data to (C:\\Users\\slab\\AppData\\Local\\Temp\\tmp_ed97j0j.txt, C, , Setup:AdaptivePass, \"Original\", \"ohm\", \"nH\", \"fF\", \"mSie\", 5000000000, Maxwell, 10, False\n"
     ]
    },
    {
     "name": "stdout",
     "output_type": "stream",
     "text": [
      "                    a_connector_pad_Q1  ground_main_plane  pad_top_Q1\n",
      "a_connector_pad_Q1            25.39820          -14.89732   -10.07828\n",
      "ground_main_plane            -14.89732          120.26723   -64.23112\n",
      "pad_top_Q1                   -10.07828          -64.23112    77.65260\n"
     ]
    },
    {
     "name": "stderr",
     "output_type": "stream",
     "text": [
      "INFO 10:26AM [connect_design]: \tOpened active design\n",
      "\tDesign:    Design_q3d [Solution type: Q3D]\n",
      "INFO 10:26AM [get_setup]: \tOpened setup `Setup`  (<class 'pyEPR.ansys.AnsysQ3DSetup'>)\n",
      "INFO 10:26AM [analyze]: Analyzing setup Setup\n",
      "INFO 10:27AM [get_matrix]: Exporting matrix data to (C:\\Users\\slab\\AppData\\Local\\Temp\\tmp1i9d2itp.txt, C, , Setup:LastAdaptive, \"Original\", \"ohm\", \"nH\", \"fF\", \"mSie\", 5000000000, Maxwell, 1, False\n",
      "INFO 10:27AM [get_matrix]: Exporting matrix data to (C:\\Users\\slab\\AppData\\Local\\Temp\\tmp7q4m00nf.txt, C, , Setup:AdaptivePass, \"Original\", \"ohm\", \"nH\", \"fF\", \"mSie\", 5000000000, Maxwell, 1, False\n",
      "INFO 10:27AM [get_matrix]: Exporting matrix data to (C:\\Users\\slab\\AppData\\Local\\Temp\\tmpvrgzevyn.txt, C, , Setup:AdaptivePass, \"Original\", \"ohm\", \"nH\", \"fF\", \"mSie\", 5000000000, Maxwell, 2, False\n",
      "INFO 10:27AM [get_matrix]: Exporting matrix data to (C:\\Users\\slab\\AppData\\Local\\Temp\\tmpvy6cd4c9.txt, C, , Setup:AdaptivePass, \"Original\", \"ohm\", \"nH\", \"fF\", \"mSie\", 5000000000, Maxwell, 3, False\n",
      "INFO 10:27AM [get_matrix]: Exporting matrix data to (C:\\Users\\slab\\AppData\\Local\\Temp\\tmpr4r0x4xm.txt, C, , Setup:AdaptivePass, \"Original\", \"ohm\", \"nH\", \"fF\", \"mSie\", 5000000000, Maxwell, 4, False\n",
      "INFO 10:27AM [get_matrix]: Exporting matrix data to (C:\\Users\\slab\\AppData\\Local\\Temp\\tmpeqwcl9p3.txt, C, , Setup:AdaptivePass, \"Original\", \"ohm\", \"nH\", \"fF\", \"mSie\", 5000000000, Maxwell, 5, False\n",
      "INFO 10:27AM [get_matrix]: Exporting matrix data to (C:\\Users\\slab\\AppData\\Local\\Temp\\tmp60q8f3i4.txt, C, , Setup:AdaptivePass, \"Original\", \"ohm\", \"nH\", \"fF\", \"mSie\", 5000000000, Maxwell, 6, False\n",
      "INFO 10:27AM [get_matrix]: Exporting matrix data to (C:\\Users\\slab\\AppData\\Local\\Temp\\tmpsd2hxl7g.txt, C, , Setup:AdaptivePass, \"Original\", \"ohm\", \"nH\", \"fF\", \"mSie\", 5000000000, Maxwell, 7, False\n",
      "INFO 10:27AM [get_matrix]: Exporting matrix data to (C:\\Users\\slab\\AppData\\Local\\Temp\\tmpskfzhqz7.txt, C, , Setup:AdaptivePass, \"Original\", \"ohm\", \"nH\", \"fF\", \"mSie\", 5000000000, Maxwell, 8, False\n",
      "INFO 10:27AM [get_matrix]: Exporting matrix data to (C:\\Users\\slab\\AppData\\Local\\Temp\\tmp6zqu_zfr.txt, C, , Setup:AdaptivePass, \"Original\", \"ohm\", \"nH\", \"fF\", \"mSie\", 5000000000, Maxwell, 9, False\n",
      "INFO 10:27AM [get_matrix]: Exporting matrix data to (C:\\Users\\slab\\AppData\\Local\\Temp\\tmpkko0sb50.txt, C, , Setup:AdaptivePass, \"Original\", \"ohm\", \"nH\", \"fF\", \"mSie\", 5000000000, Maxwell, 10, False\n",
      "INFO 10:27AM [get_matrix]: Exporting matrix data to (C:\\Users\\slab\\AppData\\Local\\Temp\\tmphyy8dqq2.txt, C, , Setup:LastAdaptive, \"Original\", \"ohm\", \"nH\", \"fF\", \"mSie\", 5000000000, Maxwell, 1, False\n",
      "INFO 10:27AM [get_matrix]: Exporting matrix data to (C:\\Users\\slab\\AppData\\Local\\Temp\\tmpipgbw0tp.txt, C, , Setup:AdaptivePass, \"Original\", \"ohm\", \"nH\", \"fF\", \"mSie\", 5000000000, Maxwell, 1, False\n",
      "INFO 10:27AM [get_matrix]: Exporting matrix data to (C:\\Users\\slab\\AppData\\Local\\Temp\\tmpmqxbkabv.txt, C, , Setup:AdaptivePass, \"Original\", \"ohm\", \"nH\", \"fF\", \"mSie\", 5000000000, Maxwell, 2, False\n",
      "INFO 10:27AM [get_matrix]: Exporting matrix data to (C:\\Users\\slab\\AppData\\Local\\Temp\\tmpgem3qgfu.txt, C, , Setup:AdaptivePass, \"Original\", \"ohm\", \"nH\", \"fF\", \"mSie\", 5000000000, Maxwell, 3, False\n",
      "INFO 10:27AM [get_matrix]: Exporting matrix data to (C:\\Users\\slab\\AppData\\Local\\Temp\\tmp2s1yhx1b.txt, C, , Setup:AdaptivePass, \"Original\", \"ohm\", \"nH\", \"fF\", \"mSie\", 5000000000, Maxwell, 4, False\n",
      "INFO 10:27AM [get_matrix]: Exporting matrix data to (C:\\Users\\slab\\AppData\\Local\\Temp\\tmphntx8lku.txt, C, , Setup:AdaptivePass, \"Original\", \"ohm\", \"nH\", \"fF\", \"mSie\", 5000000000, Maxwell, 5, False\n",
      "INFO 10:27AM [get_matrix]: Exporting matrix data to (C:\\Users\\slab\\AppData\\Local\\Temp\\tmpzu8chvph.txt, C, , Setup:AdaptivePass, \"Original\", \"ohm\", \"nH\", \"fF\", \"mSie\", 5000000000, Maxwell, 6, False\n",
      "INFO 10:27AM [get_matrix]: Exporting matrix data to (C:\\Users\\slab\\AppData\\Local\\Temp\\tmp7cco6tpy.txt, C, , Setup:AdaptivePass, \"Original\", \"ohm\", \"nH\", \"fF\", \"mSie\", 5000000000, Maxwell, 7, False\n",
      "INFO 10:27AM [get_matrix]: Exporting matrix data to (C:\\Users\\slab\\AppData\\Local\\Temp\\tmpmlub7has.txt, C, , Setup:AdaptivePass, \"Original\", \"ohm\", \"nH\", \"fF\", \"mSie\", 5000000000, Maxwell, 8, False\n",
      "INFO 10:27AM [get_matrix]: Exporting matrix data to (C:\\Users\\slab\\AppData\\Local\\Temp\\tmpf6865c_u.txt, C, , Setup:AdaptivePass, \"Original\", \"ohm\", \"nH\", \"fF\", \"mSie\", 5000000000, Maxwell, 9, False\n",
      "INFO 10:27AM [get_matrix]: Exporting matrix data to (C:\\Users\\slab\\AppData\\Local\\Temp\\tmpx3szo8mk.txt, C, , Setup:AdaptivePass, \"Original\", \"ohm\", \"nH\", \"fF\", \"mSie\", 5000000000, Maxwell, 10, False\n"
     ]
    },
    {
     "name": "stdout",
     "output_type": "stream",
     "text": [
      "                    a_connector_pad_Q1  ground_main_plane  pad_top_Q1\n",
      "a_connector_pad_Q1            24.92206          -14.47184   -10.04393\n",
      "ground_main_plane            -14.47184          122.64104   -67.04932\n",
      "pad_top_Q1                   -10.04393          -67.04932    80.54139\n"
     ]
    },
    {
     "name": "stderr",
     "output_type": "stream",
     "text": [
      "INFO 10:27AM [connect_design]: \tOpened active design\n",
      "\tDesign:    Design_q3d [Solution type: Q3D]\n",
      "INFO 10:27AM [get_setup]: \tOpened setup `Setup`  (<class 'pyEPR.ansys.AnsysQ3DSetup'>)\n",
      "INFO 10:27AM [analyze]: Analyzing setup Setup\n",
      "INFO 10:27AM [get_matrix]: Exporting matrix data to (C:\\Users\\slab\\AppData\\Local\\Temp\\tmpw2g122lp.txt, C, , Setup:LastAdaptive, \"Original\", \"ohm\", \"nH\", \"fF\", \"mSie\", 5000000000, Maxwell, 1, False\n",
      "INFO 10:27AM [get_matrix]: Exporting matrix data to (C:\\Users\\slab\\AppData\\Local\\Temp\\tmpacg3uh4s.txt, C, , Setup:AdaptivePass, \"Original\", \"ohm\", \"nH\", \"fF\", \"mSie\", 5000000000, Maxwell, 1, False\n",
      "INFO 10:27AM [get_matrix]: Exporting matrix data to (C:\\Users\\slab\\AppData\\Local\\Temp\\tmpbk8iqgg9.txt, C, , Setup:AdaptivePass, \"Original\", \"ohm\", \"nH\", \"fF\", \"mSie\", 5000000000, Maxwell, 2, False\n",
      "INFO 10:27AM [get_matrix]: Exporting matrix data to (C:\\Users\\slab\\AppData\\Local\\Temp\\tmpvcmn5ztj.txt, C, , Setup:AdaptivePass, \"Original\", \"ohm\", \"nH\", \"fF\", \"mSie\", 5000000000, Maxwell, 3, False\n",
      "INFO 10:27AM [get_matrix]: Exporting matrix data to (C:\\Users\\slab\\AppData\\Local\\Temp\\tmpbbmb7lyp.txt, C, , Setup:AdaptivePass, \"Original\", \"ohm\", \"nH\", \"fF\", \"mSie\", 5000000000, Maxwell, 4, False\n",
      "INFO 10:27AM [get_matrix]: Exporting matrix data to (C:\\Users\\slab\\AppData\\Local\\Temp\\tmpp7i2xcjz.txt, C, , Setup:AdaptivePass, \"Original\", \"ohm\", \"nH\", \"fF\", \"mSie\", 5000000000, Maxwell, 5, False\n",
      "INFO 10:27AM [get_matrix]: Exporting matrix data to (C:\\Users\\slab\\AppData\\Local\\Temp\\tmpoojr2e5f.txt, C, , Setup:AdaptivePass, \"Original\", \"ohm\", \"nH\", \"fF\", \"mSie\", 5000000000, Maxwell, 6, False\n",
      "INFO 10:27AM [get_matrix]: Exporting matrix data to (C:\\Users\\slab\\AppData\\Local\\Temp\\tmpepj7xc6u.txt, C, , Setup:AdaptivePass, \"Original\", \"ohm\", \"nH\", \"fF\", \"mSie\", 5000000000, Maxwell, 7, False\n",
      "INFO 10:27AM [get_matrix]: Exporting matrix data to (C:\\Users\\slab\\AppData\\Local\\Temp\\tmpvbd9ormw.txt, C, , Setup:AdaptivePass, \"Original\", \"ohm\", \"nH\", \"fF\", \"mSie\", 5000000000, Maxwell, 8, False\n",
      "INFO 10:27AM [get_matrix]: Exporting matrix data to (C:\\Users\\slab\\AppData\\Local\\Temp\\tmprigee9mv.txt, C, , Setup:AdaptivePass, \"Original\", \"ohm\", \"nH\", \"fF\", \"mSie\", 5000000000, Maxwell, 9, False\n",
      "INFO 10:27AM [get_matrix]: Exporting matrix data to (C:\\Users\\slab\\AppData\\Local\\Temp\\tmp18a7hotc.txt, C, , Setup:AdaptivePass, \"Original\", \"ohm\", \"nH\", \"fF\", \"mSie\", 5000000000, Maxwell, 10, False\n",
      "INFO 10:27AM [get_matrix]: Exporting matrix data to (C:\\Users\\slab\\AppData\\Local\\Temp\\tmpn0u_h1qy.txt, C, , Setup:LastAdaptive, \"Original\", \"ohm\", \"nH\", \"fF\", \"mSie\", 5000000000, Maxwell, 1, False\n",
      "INFO 10:27AM [get_matrix]: Exporting matrix data to (C:\\Users\\slab\\AppData\\Local\\Temp\\tmpvu46py5d.txt, C, , Setup:AdaptivePass, \"Original\", \"ohm\", \"nH\", \"fF\", \"mSie\", 5000000000, Maxwell, 1, False\n",
      "INFO 10:27AM [get_matrix]: Exporting matrix data to (C:\\Users\\slab\\AppData\\Local\\Temp\\tmpzfufwnuh.txt, C, , Setup:AdaptivePass, \"Original\", \"ohm\", \"nH\", \"fF\", \"mSie\", 5000000000, Maxwell, 2, False\n",
      "INFO 10:27AM [get_matrix]: Exporting matrix data to (C:\\Users\\slab\\AppData\\Local\\Temp\\tmpi410si71.txt, C, , Setup:AdaptivePass, \"Original\", \"ohm\", \"nH\", \"fF\", \"mSie\", 5000000000, Maxwell, 3, False\n",
      "INFO 10:27AM [get_matrix]: Exporting matrix data to (C:\\Users\\slab\\AppData\\Local\\Temp\\tmpyhhugr8h.txt, C, , Setup:AdaptivePass, \"Original\", \"ohm\", \"nH\", \"fF\", \"mSie\", 5000000000, Maxwell, 4, False\n",
      "INFO 10:27AM [get_matrix]: Exporting matrix data to (C:\\Users\\slab\\AppData\\Local\\Temp\\tmpif52d03i.txt, C, , Setup:AdaptivePass, \"Original\", \"ohm\", \"nH\", \"fF\", \"mSie\", 5000000000, Maxwell, 5, False\n",
      "INFO 10:27AM [get_matrix]: Exporting matrix data to (C:\\Users\\slab\\AppData\\Local\\Temp\\tmpny2yvgo7.txt, C, , Setup:AdaptivePass, \"Original\", \"ohm\", \"nH\", \"fF\", \"mSie\", 5000000000, Maxwell, 6, False\n",
      "INFO 10:27AM [get_matrix]: Exporting matrix data to (C:\\Users\\slab\\AppData\\Local\\Temp\\tmph236x353.txt, C, , Setup:AdaptivePass, \"Original\", \"ohm\", \"nH\", \"fF\", \"mSie\", 5000000000, Maxwell, 7, False\n",
      "INFO 10:27AM [get_matrix]: Exporting matrix data to (C:\\Users\\slab\\AppData\\Local\\Temp\\tmp1ijeqff7.txt, C, , Setup:AdaptivePass, \"Original\", \"ohm\", \"nH\", \"fF\", \"mSie\", 5000000000, Maxwell, 8, False\n",
      "INFO 10:27AM [get_matrix]: Exporting matrix data to (C:\\Users\\slab\\AppData\\Local\\Temp\\tmpbfmvkten.txt, C, , Setup:AdaptivePass, \"Original\", \"ohm\", \"nH\", \"fF\", \"mSie\", 5000000000, Maxwell, 9, False\n",
      "INFO 10:27AM [get_matrix]: Exporting matrix data to (C:\\Users\\slab\\AppData\\Local\\Temp\\tmpp11sz66d.txt, C, , Setup:AdaptivePass, \"Original\", \"ohm\", \"nH\", \"fF\", \"mSie\", 5000000000, Maxwell, 10, False\n"
     ]
    },
    {
     "name": "stdout",
     "output_type": "stream",
     "text": [
      "                    a_connector_pad_Q1  ground_main_plane  pad_top_Q1\n",
      "a_connector_pad_Q1            24.40968          -14.06320    -9.95539\n",
      "ground_main_plane            -14.06320          125.01854   -69.90503\n",
      "pad_top_Q1                    -9.95539          -69.90503    83.41049\n"
     ]
    },
    {
     "name": "stderr",
     "output_type": "stream",
     "text": [
      "INFO 10:27AM [connect_design]: \tOpened active design\n",
      "\tDesign:    Design_q3d [Solution type: Q3D]\n",
      "INFO 10:27AM [get_setup]: \tOpened setup `Setup`  (<class 'pyEPR.ansys.AnsysQ3DSetup'>)\n",
      "INFO 10:27AM [analyze]: Analyzing setup Setup\n",
      "INFO 10:28AM [get_matrix]: Exporting matrix data to (C:\\Users\\slab\\AppData\\Local\\Temp\\tmpszg17jpl.txt, C, , Setup:LastAdaptive, \"Original\", \"ohm\", \"nH\", \"fF\", \"mSie\", 5000000000, Maxwell, 1, False\n",
      "INFO 10:28AM [get_matrix]: Exporting matrix data to (C:\\Users\\slab\\AppData\\Local\\Temp\\tmprgbr623r.txt, C, , Setup:AdaptivePass, \"Original\", \"ohm\", \"nH\", \"fF\", \"mSie\", 5000000000, Maxwell, 1, False\n",
      "INFO 10:28AM [get_matrix]: Exporting matrix data to (C:\\Users\\slab\\AppData\\Local\\Temp\\tmpvr9y1d0z.txt, C, , Setup:AdaptivePass, \"Original\", \"ohm\", \"nH\", \"fF\", \"mSie\", 5000000000, Maxwell, 2, False\n",
      "INFO 10:28AM [get_matrix]: Exporting matrix data to (C:\\Users\\slab\\AppData\\Local\\Temp\\tmpdnqwnbkb.txt, C, , Setup:AdaptivePass, \"Original\", \"ohm\", \"nH\", \"fF\", \"mSie\", 5000000000, Maxwell, 3, False\n",
      "INFO 10:28AM [get_matrix]: Exporting matrix data to (C:\\Users\\slab\\AppData\\Local\\Temp\\tmp4em828pr.txt, C, , Setup:AdaptivePass, \"Original\", \"ohm\", \"nH\", \"fF\", \"mSie\", 5000000000, Maxwell, 4, False\n",
      "INFO 10:28AM [get_matrix]: Exporting matrix data to (C:\\Users\\slab\\AppData\\Local\\Temp\\tmp_wk9urhv.txt, C, , Setup:AdaptivePass, \"Original\", \"ohm\", \"nH\", \"fF\", \"mSie\", 5000000000, Maxwell, 5, False\n",
      "INFO 10:28AM [get_matrix]: Exporting matrix data to (C:\\Users\\slab\\AppData\\Local\\Temp\\tmpw9q0tdid.txt, C, , Setup:AdaptivePass, \"Original\", \"ohm\", \"nH\", \"fF\", \"mSie\", 5000000000, Maxwell, 6, False\n",
      "INFO 10:28AM [get_matrix]: Exporting matrix data to (C:\\Users\\slab\\AppData\\Local\\Temp\\tmp_8jo3mim.txt, C, , Setup:AdaptivePass, \"Original\", \"ohm\", \"nH\", \"fF\", \"mSie\", 5000000000, Maxwell, 7, False\n",
      "INFO 10:28AM [get_matrix]: Exporting matrix data to (C:\\Users\\slab\\AppData\\Local\\Temp\\tmpbu6hooi4.txt, C, , Setup:AdaptivePass, \"Original\", \"ohm\", \"nH\", \"fF\", \"mSie\", 5000000000, Maxwell, 8, False\n",
      "INFO 10:28AM [get_matrix]: Exporting matrix data to (C:\\Users\\slab\\AppData\\Local\\Temp\\tmpw3dwlzmy.txt, C, , Setup:AdaptivePass, \"Original\", \"ohm\", \"nH\", \"fF\", \"mSie\", 5000000000, Maxwell, 9, False\n",
      "INFO 10:28AM [get_matrix]: Exporting matrix data to (C:\\Users\\slab\\AppData\\Local\\Temp\\tmp06ponevu.txt, C, , Setup:AdaptivePass, \"Original\", \"ohm\", \"nH\", \"fF\", \"mSie\", 5000000000, Maxwell, 10, False\n",
      "INFO 10:28AM [get_matrix]: Exporting matrix data to (C:\\Users\\slab\\AppData\\Local\\Temp\\tmp1efqmfs4.txt, C, , Setup:LastAdaptive, \"Original\", \"ohm\", \"nH\", \"fF\", \"mSie\", 5000000000, Maxwell, 1, False\n",
      "INFO 10:28AM [get_matrix]: Exporting matrix data to (C:\\Users\\slab\\AppData\\Local\\Temp\\tmp4v1e0lda.txt, C, , Setup:AdaptivePass, \"Original\", \"ohm\", \"nH\", \"fF\", \"mSie\", 5000000000, Maxwell, 1, False\n",
      "INFO 10:28AM [get_matrix]: Exporting matrix data to (C:\\Users\\slab\\AppData\\Local\\Temp\\tmp109p1dzb.txt, C, , Setup:AdaptivePass, \"Original\", \"ohm\", \"nH\", \"fF\", \"mSie\", 5000000000, Maxwell, 2, False\n",
      "INFO 10:28AM [get_matrix]: Exporting matrix data to (C:\\Users\\slab\\AppData\\Local\\Temp\\tmpacdkc_66.txt, C, , Setup:AdaptivePass, \"Original\", \"ohm\", \"nH\", \"fF\", \"mSie\", 5000000000, Maxwell, 3, False\n",
      "INFO 10:28AM [get_matrix]: Exporting matrix data to (C:\\Users\\slab\\AppData\\Local\\Temp\\tmpxux4td8t.txt, C, , Setup:AdaptivePass, \"Original\", \"ohm\", \"nH\", \"fF\", \"mSie\", 5000000000, Maxwell, 4, False\n",
      "INFO 10:28AM [get_matrix]: Exporting matrix data to (C:\\Users\\slab\\AppData\\Local\\Temp\\tmpquv5b6p4.txt, C, , Setup:AdaptivePass, \"Original\", \"ohm\", \"nH\", \"fF\", \"mSie\", 5000000000, Maxwell, 5, False\n",
      "INFO 10:28AM [get_matrix]: Exporting matrix data to (C:\\Users\\slab\\AppData\\Local\\Temp\\tmpckbsvw2v.txt, C, , Setup:AdaptivePass, \"Original\", \"ohm\", \"nH\", \"fF\", \"mSie\", 5000000000, Maxwell, 6, False\n",
      "INFO 10:28AM [get_matrix]: Exporting matrix data to (C:\\Users\\slab\\AppData\\Local\\Temp\\tmptqbbczhk.txt, C, , Setup:AdaptivePass, \"Original\", \"ohm\", \"nH\", \"fF\", \"mSie\", 5000000000, Maxwell, 7, False\n",
      "INFO 10:28AM [get_matrix]: Exporting matrix data to (C:\\Users\\slab\\AppData\\Local\\Temp\\tmpcxub_0aa.txt, C, , Setup:AdaptivePass, \"Original\", \"ohm\", \"nH\", \"fF\", \"mSie\", 5000000000, Maxwell, 8, False\n",
      "INFO 10:28AM [get_matrix]: Exporting matrix data to (C:\\Users\\slab\\AppData\\Local\\Temp\\tmpusiet518.txt, C, , Setup:AdaptivePass, \"Original\", \"ohm\", \"nH\", \"fF\", \"mSie\", 5000000000, Maxwell, 9, False\n",
      "INFO 10:28AM [get_matrix]: Exporting matrix data to (C:\\Users\\slab\\AppData\\Local\\Temp\\tmpaxc861rz.txt, C, , Setup:AdaptivePass, \"Original\", \"ohm\", \"nH\", \"fF\", \"mSie\", 5000000000, Maxwell, 10, False\n"
     ]
    },
    {
     "name": "stdout",
     "output_type": "stream",
     "text": [
      "                    a_connector_pad_Q1  ground_main_plane  pad_top_Q1\n",
      "a_connector_pad_Q1            23.96760          -13.70277    -9.88705\n",
      "ground_main_plane            -13.70277          127.55997   -72.86716\n",
      "pad_top_Q1                    -9.88705          -72.86716    86.40452\n"
     ]
    },
    {
     "name": "stderr",
     "output_type": "stream",
     "text": [
      "INFO 10:28AM [connect_design]: \tOpened active design\n",
      "\tDesign:    Design_q3d [Solution type: Q3D]\n",
      "INFO 10:28AM [get_setup]: \tOpened setup `Setup`  (<class 'pyEPR.ansys.AnsysQ3DSetup'>)\n",
      "INFO 10:28AM [analyze]: Analyzing setup Setup\n",
      "INFO 10:28AM [get_matrix]: Exporting matrix data to (C:\\Users\\slab\\AppData\\Local\\Temp\\tmpb2oyy1i_.txt, C, , Setup:LastAdaptive, \"Original\", \"ohm\", \"nH\", \"fF\", \"mSie\", 5000000000, Maxwell, 1, False\n",
      "INFO 10:28AM [get_matrix]: Exporting matrix data to (C:\\Users\\slab\\AppData\\Local\\Temp\\tmpqqzdaj4l.txt, C, , Setup:AdaptivePass, \"Original\", \"ohm\", \"nH\", \"fF\", \"mSie\", 5000000000, Maxwell, 1, False\n",
      "INFO 10:28AM [get_matrix]: Exporting matrix data to (C:\\Users\\slab\\AppData\\Local\\Temp\\tmppavlin_h.txt, C, , Setup:AdaptivePass, \"Original\", \"ohm\", \"nH\", \"fF\", \"mSie\", 5000000000, Maxwell, 2, False\n",
      "INFO 10:28AM [get_matrix]: Exporting matrix data to (C:\\Users\\slab\\AppData\\Local\\Temp\\tmpdawbnyj6.txt, C, , Setup:AdaptivePass, \"Original\", \"ohm\", \"nH\", \"fF\", \"mSie\", 5000000000, Maxwell, 3, False\n",
      "INFO 10:28AM [get_matrix]: Exporting matrix data to (C:\\Users\\slab\\AppData\\Local\\Temp\\tmptob9etb2.txt, C, , Setup:AdaptivePass, \"Original\", \"ohm\", \"nH\", \"fF\", \"mSie\", 5000000000, Maxwell, 4, False\n",
      "INFO 10:28AM [get_matrix]: Exporting matrix data to (C:\\Users\\slab\\AppData\\Local\\Temp\\tmpv471hcqz.txt, C, , Setup:AdaptivePass, \"Original\", \"ohm\", \"nH\", \"fF\", \"mSie\", 5000000000, Maxwell, 5, False\n",
      "INFO 10:28AM [get_matrix]: Exporting matrix data to (C:\\Users\\slab\\AppData\\Local\\Temp\\tmp7sro2zfs.txt, C, , Setup:AdaptivePass, \"Original\", \"ohm\", \"nH\", \"fF\", \"mSie\", 5000000000, Maxwell, 6, False\n",
      "INFO 10:28AM [get_matrix]: Exporting matrix data to (C:\\Users\\slab\\AppData\\Local\\Temp\\tmp2fcnzmc_.txt, C, , Setup:AdaptivePass, \"Original\", \"ohm\", \"nH\", \"fF\", \"mSie\", 5000000000, Maxwell, 7, False\n",
      "INFO 10:28AM [get_matrix]: Exporting matrix data to (C:\\Users\\slab\\AppData\\Local\\Temp\\tmput9ru163.txt, C, , Setup:AdaptivePass, \"Original\", \"ohm\", \"nH\", \"fF\", \"mSie\", 5000000000, Maxwell, 8, False\n",
      "INFO 10:28AM [get_matrix]: Exporting matrix data to (C:\\Users\\slab\\AppData\\Local\\Temp\\tmpljadyqy1.txt, C, , Setup:AdaptivePass, \"Original\", \"ohm\", \"nH\", \"fF\", \"mSie\", 5000000000, Maxwell, 9, False\n",
      "INFO 10:28AM [get_matrix]: Exporting matrix data to (C:\\Users\\slab\\AppData\\Local\\Temp\\tmpfmh08lp_.txt, C, , Setup:AdaptivePass, \"Original\", \"ohm\", \"nH\", \"fF\", \"mSie\", 5000000000, Maxwell, 10, False\n",
      "INFO 10:28AM [get_matrix]: Exporting matrix data to (C:\\Users\\slab\\AppData\\Local\\Temp\\tmp1jrj2275.txt, C, , Setup:LastAdaptive, \"Original\", \"ohm\", \"nH\", \"fF\", \"mSie\", 5000000000, Maxwell, 1, False\n",
      "INFO 10:28AM [get_matrix]: Exporting matrix data to (C:\\Users\\slab\\AppData\\Local\\Temp\\tmpjqtlx9tf.txt, C, , Setup:AdaptivePass, \"Original\", \"ohm\", \"nH\", \"fF\", \"mSie\", 5000000000, Maxwell, 1, False\n",
      "INFO 10:28AM [get_matrix]: Exporting matrix data to (C:\\Users\\slab\\AppData\\Local\\Temp\\tmpxz7hlw9n.txt, C, , Setup:AdaptivePass, \"Original\", \"ohm\", \"nH\", \"fF\", \"mSie\", 5000000000, Maxwell, 2, False\n",
      "INFO 10:28AM [get_matrix]: Exporting matrix data to (C:\\Users\\slab\\AppData\\Local\\Temp\\tmpbimz9_92.txt, C, , Setup:AdaptivePass, \"Original\", \"ohm\", \"nH\", \"fF\", \"mSie\", 5000000000, Maxwell, 3, False\n",
      "INFO 10:28AM [get_matrix]: Exporting matrix data to (C:\\Users\\slab\\AppData\\Local\\Temp\\tmpijm4_mso.txt, C, , Setup:AdaptivePass, \"Original\", \"ohm\", \"nH\", \"fF\", \"mSie\", 5000000000, Maxwell, 4, False\n",
      "INFO 10:28AM [get_matrix]: Exporting matrix data to (C:\\Users\\slab\\AppData\\Local\\Temp\\tmp5gdbd70b.txt, C, , Setup:AdaptivePass, \"Original\", \"ohm\", \"nH\", \"fF\", \"mSie\", 5000000000, Maxwell, 5, False\n",
      "INFO 10:28AM [get_matrix]: Exporting matrix data to (C:\\Users\\slab\\AppData\\Local\\Temp\\tmpo4dkebmi.txt, C, , Setup:AdaptivePass, \"Original\", \"ohm\", \"nH\", \"fF\", \"mSie\", 5000000000, Maxwell, 6, False\n",
      "INFO 10:28AM [get_matrix]: Exporting matrix data to (C:\\Users\\slab\\AppData\\Local\\Temp\\tmp3v9ta5h4.txt, C, , Setup:AdaptivePass, \"Original\", \"ohm\", \"nH\", \"fF\", \"mSie\", 5000000000, Maxwell, 7, False\n",
      "INFO 10:28AM [get_matrix]: Exporting matrix data to (C:\\Users\\slab\\AppData\\Local\\Temp\\tmpqq8ytz4y.txt, C, , Setup:AdaptivePass, \"Original\", \"ohm\", \"nH\", \"fF\", \"mSie\", 5000000000, Maxwell, 8, False\n",
      "INFO 10:28AM [get_matrix]: Exporting matrix data to (C:\\Users\\slab\\AppData\\Local\\Temp\\tmphh3ljbk4.txt, C, , Setup:AdaptivePass, \"Original\", \"ohm\", \"nH\", \"fF\", \"mSie\", 5000000000, Maxwell, 9, False\n",
      "INFO 10:28AM [get_matrix]: Exporting matrix data to (C:\\Users\\slab\\AppData\\Local\\Temp\\tmp0kzs_sz6.txt, C, , Setup:AdaptivePass, \"Original\", \"ohm\", \"nH\", \"fF\", \"mSie\", 5000000000, Maxwell, 10, False\n"
     ]
    },
    {
     "name": "stdout",
     "output_type": "stream",
     "text": [
      "                    a_connector_pad_Q1  ground_main_plane  pad_top_Q1\n",
      "a_connector_pad_Q1            23.53710          -13.36687    -9.80565\n",
      "ground_main_plane            -13.36687          130.20927   -76.05826\n",
      "pad_top_Q1                    -9.80565          -76.05826    89.61791\n"
     ]
    },
    {
     "name": "stderr",
     "output_type": "stream",
     "text": [
      "INFO 10:28AM [connect_design]: \tOpened active design\n",
      "\tDesign:    Design_q3d [Solution type: Q3D]\n",
      "INFO 10:28AM [get_setup]: \tOpened setup `Setup`  (<class 'pyEPR.ansys.AnsysQ3DSetup'>)\n",
      "INFO 10:28AM [analyze]: Analyzing setup Setup\n",
      "INFO 10:29AM [get_matrix]: Exporting matrix data to (C:\\Users\\slab\\AppData\\Local\\Temp\\tmpve022h8e.txt, C, , Setup:LastAdaptive, \"Original\", \"ohm\", \"nH\", \"fF\", \"mSie\", 5000000000, Maxwell, 1, False\n",
      "INFO 10:29AM [get_matrix]: Exporting matrix data to (C:\\Users\\slab\\AppData\\Local\\Temp\\tmpm8r32cuh.txt, C, , Setup:AdaptivePass, \"Original\", \"ohm\", \"nH\", \"fF\", \"mSie\", 5000000000, Maxwell, 1, False\n",
      "INFO 10:29AM [get_matrix]: Exporting matrix data to (C:\\Users\\slab\\AppData\\Local\\Temp\\tmpcqvfzag5.txt, C, , Setup:AdaptivePass, \"Original\", \"ohm\", \"nH\", \"fF\", \"mSie\", 5000000000, Maxwell, 2, False\n",
      "INFO 10:29AM [get_matrix]: Exporting matrix data to (C:\\Users\\slab\\AppData\\Local\\Temp\\tmpfmgokwuj.txt, C, , Setup:AdaptivePass, \"Original\", \"ohm\", \"nH\", \"fF\", \"mSie\", 5000000000, Maxwell, 3, False\n",
      "INFO 10:29AM [get_matrix]: Exporting matrix data to (C:\\Users\\slab\\AppData\\Local\\Temp\\tmpn2joh689.txt, C, , Setup:AdaptivePass, \"Original\", \"ohm\", \"nH\", \"fF\", \"mSie\", 5000000000, Maxwell, 4, False\n",
      "INFO 10:29AM [get_matrix]: Exporting matrix data to (C:\\Users\\slab\\AppData\\Local\\Temp\\tmplp3r3zjd.txt, C, , Setup:AdaptivePass, \"Original\", \"ohm\", \"nH\", \"fF\", \"mSie\", 5000000000, Maxwell, 5, False\n",
      "INFO 10:29AM [get_matrix]: Exporting matrix data to (C:\\Users\\slab\\AppData\\Local\\Temp\\tmpzu0ybj3m.txt, C, , Setup:AdaptivePass, \"Original\", \"ohm\", \"nH\", \"fF\", \"mSie\", 5000000000, Maxwell, 6, False\n",
      "INFO 10:29AM [get_matrix]: Exporting matrix data to (C:\\Users\\slab\\AppData\\Local\\Temp\\tmpw4vgd9oj.txt, C, , Setup:AdaptivePass, \"Original\", \"ohm\", \"nH\", \"fF\", \"mSie\", 5000000000, Maxwell, 7, False\n",
      "INFO 10:29AM [get_matrix]: Exporting matrix data to (C:\\Users\\slab\\AppData\\Local\\Temp\\tmp_g77wc_g.txt, C, , Setup:AdaptivePass, \"Original\", \"ohm\", \"nH\", \"fF\", \"mSie\", 5000000000, Maxwell, 8, False\n",
      "INFO 10:29AM [get_matrix]: Exporting matrix data to (C:\\Users\\slab\\AppData\\Local\\Temp\\tmpat2t8cgq.txt, C, , Setup:AdaptivePass, \"Original\", \"ohm\", \"nH\", \"fF\", \"mSie\", 5000000000, Maxwell, 9, False\n",
      "INFO 10:29AM [get_matrix]: Exporting matrix data to (C:\\Users\\slab\\AppData\\Local\\Temp\\tmp1091rbup.txt, C, , Setup:AdaptivePass, \"Original\", \"ohm\", \"nH\", \"fF\", \"mSie\", 5000000000, Maxwell, 10, False\n",
      "INFO 10:29AM [get_matrix]: Exporting matrix data to (C:\\Users\\slab\\AppData\\Local\\Temp\\tmpb24e5z8a.txt, C, , Setup:LastAdaptive, \"Original\", \"ohm\", \"nH\", \"fF\", \"mSie\", 5000000000, Maxwell, 1, False\n",
      "INFO 10:29AM [get_matrix]: Exporting matrix data to (C:\\Users\\slab\\AppData\\Local\\Temp\\tmp44g9gadw.txt, C, , Setup:AdaptivePass, \"Original\", \"ohm\", \"nH\", \"fF\", \"mSie\", 5000000000, Maxwell, 1, False\n",
      "INFO 10:29AM [get_matrix]: Exporting matrix data to (C:\\Users\\slab\\AppData\\Local\\Temp\\tmpee3tfbrq.txt, C, , Setup:AdaptivePass, \"Original\", \"ohm\", \"nH\", \"fF\", \"mSie\", 5000000000, Maxwell, 2, False\n",
      "INFO 10:29AM [get_matrix]: Exporting matrix data to (C:\\Users\\slab\\AppData\\Local\\Temp\\tmp_xhw0tpr.txt, C, , Setup:AdaptivePass, \"Original\", \"ohm\", \"nH\", \"fF\", \"mSie\", 5000000000, Maxwell, 3, False\n",
      "INFO 10:29AM [get_matrix]: Exporting matrix data to (C:\\Users\\slab\\AppData\\Local\\Temp\\tmp5hwb92h8.txt, C, , Setup:AdaptivePass, \"Original\", \"ohm\", \"nH\", \"fF\", \"mSie\", 5000000000, Maxwell, 4, False\n",
      "INFO 10:29AM [get_matrix]: Exporting matrix data to (C:\\Users\\slab\\AppData\\Local\\Temp\\tmp1iswjqt9.txt, C, , Setup:AdaptivePass, \"Original\", \"ohm\", \"nH\", \"fF\", \"mSie\", 5000000000, Maxwell, 5, False\n",
      "INFO 10:29AM [get_matrix]: Exporting matrix data to (C:\\Users\\slab\\AppData\\Local\\Temp\\tmpvi914d5v.txt, C, , Setup:AdaptivePass, \"Original\", \"ohm\", \"nH\", \"fF\", \"mSie\", 5000000000, Maxwell, 6, False\n",
      "INFO 10:29AM [get_matrix]: Exporting matrix data to (C:\\Users\\slab\\AppData\\Local\\Temp\\tmp6d98h6zt.txt, C, , Setup:AdaptivePass, \"Original\", \"ohm\", \"nH\", \"fF\", \"mSie\", 5000000000, Maxwell, 7, False\n",
      "INFO 10:29AM [get_matrix]: Exporting matrix data to (C:\\Users\\slab\\AppData\\Local\\Temp\\tmpv7w2sp5g.txt, C, , Setup:AdaptivePass, \"Original\", \"ohm\", \"nH\", \"fF\", \"mSie\", 5000000000, Maxwell, 8, False\n",
      "INFO 10:29AM [get_matrix]: Exporting matrix data to (C:\\Users\\slab\\AppData\\Local\\Temp\\tmpg5ztz22h.txt, C, , Setup:AdaptivePass, \"Original\", \"ohm\", \"nH\", \"fF\", \"mSie\", 5000000000, Maxwell, 9, False\n",
      "INFO 10:29AM [get_matrix]: Exporting matrix data to (C:\\Users\\slab\\AppData\\Local\\Temp\\tmp8j60_ngz.txt, C, , Setup:AdaptivePass, \"Original\", \"ohm\", \"nH\", \"fF\", \"mSie\", 5000000000, Maxwell, 10, False\n"
     ]
    },
    {
     "name": "stdout",
     "output_type": "stream",
     "text": [
      "                    a_connector_pad_Q1  ground_main_plane  pad_top_Q1\n",
      "a_connector_pad_Q1            23.08780          -13.02276    -9.71309\n",
      "ground_main_plane            -13.02276          133.13832   -79.42955\n",
      "pad_top_Q1                    -9.71309          -79.42955    92.99271\n"
     ]
    },
    {
     "name": "stderr",
     "output_type": "stream",
     "text": [
      "INFO 10:29AM [connect_design]: \tOpened active design\n",
      "\tDesign:    Design_q3d [Solution type: Q3D]\n",
      "INFO 10:29AM [get_setup]: \tOpened setup `Setup`  (<class 'pyEPR.ansys.AnsysQ3DSetup'>)\n",
      "INFO 10:29AM [analyze]: Analyzing setup Setup\n",
      "INFO 10:30AM [get_matrix]: Exporting matrix data to (C:\\Users\\slab\\AppData\\Local\\Temp\\tmp64t9yu7z.txt, C, , Setup:LastAdaptive, \"Original\", \"ohm\", \"nH\", \"fF\", \"mSie\", 5000000000, Maxwell, 1, False\n",
      "INFO 10:30AM [get_matrix]: Exporting matrix data to (C:\\Users\\slab\\AppData\\Local\\Temp\\tmpe0szx_dt.txt, C, , Setup:AdaptivePass, \"Original\", \"ohm\", \"nH\", \"fF\", \"mSie\", 5000000000, Maxwell, 1, False\n",
      "INFO 10:30AM [get_matrix]: Exporting matrix data to (C:\\Users\\slab\\AppData\\Local\\Temp\\tmpx0va3erp.txt, C, , Setup:AdaptivePass, \"Original\", \"ohm\", \"nH\", \"fF\", \"mSie\", 5000000000, Maxwell, 2, False\n",
      "INFO 10:30AM [get_matrix]: Exporting matrix data to (C:\\Users\\slab\\AppData\\Local\\Temp\\tmpdasz_zn8.txt, C, , Setup:AdaptivePass, \"Original\", \"ohm\", \"nH\", \"fF\", \"mSie\", 5000000000, Maxwell, 3, False\n",
      "INFO 10:30AM [get_matrix]: Exporting matrix data to (C:\\Users\\slab\\AppData\\Local\\Temp\\tmpi1bv0l0k.txt, C, , Setup:AdaptivePass, \"Original\", \"ohm\", \"nH\", \"fF\", \"mSie\", 5000000000, Maxwell, 4, False\n",
      "INFO 10:30AM [get_matrix]: Exporting matrix data to (C:\\Users\\slab\\AppData\\Local\\Temp\\tmpvmrf9dzy.txt, C, , Setup:AdaptivePass, \"Original\", \"ohm\", \"nH\", \"fF\", \"mSie\", 5000000000, Maxwell, 5, False\n",
      "INFO 10:30AM [get_matrix]: Exporting matrix data to (C:\\Users\\slab\\AppData\\Local\\Temp\\tmp7ehjetll.txt, C, , Setup:AdaptivePass, \"Original\", \"ohm\", \"nH\", \"fF\", \"mSie\", 5000000000, Maxwell, 6, False\n",
      "INFO 10:30AM [get_matrix]: Exporting matrix data to (C:\\Users\\slab\\AppData\\Local\\Temp\\tmpun9f83jo.txt, C, , Setup:AdaptivePass, \"Original\", \"ohm\", \"nH\", \"fF\", \"mSie\", 5000000000, Maxwell, 7, False\n",
      "INFO 10:30AM [get_matrix]: Exporting matrix data to (C:\\Users\\slab\\AppData\\Local\\Temp\\tmp52iu8oh0.txt, C, , Setup:AdaptivePass, \"Original\", \"ohm\", \"nH\", \"fF\", \"mSie\", 5000000000, Maxwell, 8, False\n",
      "INFO 10:30AM [get_matrix]: Exporting matrix data to (C:\\Users\\slab\\AppData\\Local\\Temp\\tmp5nth0ei4.txt, C, , Setup:AdaptivePass, \"Original\", \"ohm\", \"nH\", \"fF\", \"mSie\", 5000000000, Maxwell, 9, False\n",
      "INFO 10:30AM [get_matrix]: Exporting matrix data to (C:\\Users\\slab\\AppData\\Local\\Temp\\tmpaj61dj6x.txt, C, , Setup:AdaptivePass, \"Original\", \"ohm\", \"nH\", \"fF\", \"mSie\", 5000000000, Maxwell, 10, False\n",
      "INFO 10:30AM [get_matrix]: Exporting matrix data to (C:\\Users\\slab\\AppData\\Local\\Temp\\tmpzmn2aj4k.txt, C, , Setup:LastAdaptive, \"Original\", \"ohm\", \"nH\", \"fF\", \"mSie\", 5000000000, Maxwell, 1, False\n",
      "INFO 10:30AM [get_matrix]: Exporting matrix data to (C:\\Users\\slab\\AppData\\Local\\Temp\\tmph7px81cd.txt, C, , Setup:AdaptivePass, \"Original\", \"ohm\", \"nH\", \"fF\", \"mSie\", 5000000000, Maxwell, 1, False\n",
      "INFO 10:30AM [get_matrix]: Exporting matrix data to (C:\\Users\\slab\\AppData\\Local\\Temp\\tmptv8prw4e.txt, C, , Setup:AdaptivePass, \"Original\", \"ohm\", \"nH\", \"fF\", \"mSie\", 5000000000, Maxwell, 2, False\n",
      "INFO 10:30AM [get_matrix]: Exporting matrix data to (C:\\Users\\slab\\AppData\\Local\\Temp\\tmpaplbt94t.txt, C, , Setup:AdaptivePass, \"Original\", \"ohm\", \"nH\", \"fF\", \"mSie\", 5000000000, Maxwell, 3, False\n",
      "INFO 10:30AM [get_matrix]: Exporting matrix data to (C:\\Users\\slab\\AppData\\Local\\Temp\\tmpn5iqko7h.txt, C, , Setup:AdaptivePass, \"Original\", \"ohm\", \"nH\", \"fF\", \"mSie\", 5000000000, Maxwell, 4, False\n",
      "INFO 10:30AM [get_matrix]: Exporting matrix data to (C:\\Users\\slab\\AppData\\Local\\Temp\\tmpueos99u6.txt, C, , Setup:AdaptivePass, \"Original\", \"ohm\", \"nH\", \"fF\", \"mSie\", 5000000000, Maxwell, 5, False\n",
      "INFO 10:30AM [get_matrix]: Exporting matrix data to (C:\\Users\\slab\\AppData\\Local\\Temp\\tmpq9scu3gl.txt, C, , Setup:AdaptivePass, \"Original\", \"ohm\", \"nH\", \"fF\", \"mSie\", 5000000000, Maxwell, 6, False\n",
      "INFO 10:30AM [get_matrix]: Exporting matrix data to (C:\\Users\\slab\\AppData\\Local\\Temp\\tmp8o1n9js5.txt, C, , Setup:AdaptivePass, \"Original\", \"ohm\", \"nH\", \"fF\", \"mSie\", 5000000000, Maxwell, 7, False\n",
      "INFO 10:30AM [get_matrix]: Exporting matrix data to (C:\\Users\\slab\\AppData\\Local\\Temp\\tmpo36ac0eb.txt, C, , Setup:AdaptivePass, \"Original\", \"ohm\", \"nH\", \"fF\", \"mSie\", 5000000000, Maxwell, 8, False\n",
      "INFO 10:30AM [get_matrix]: Exporting matrix data to (C:\\Users\\slab\\AppData\\Local\\Temp\\tmpd5zoorp4.txt, C, , Setup:AdaptivePass, \"Original\", \"ohm\", \"nH\", \"fF\", \"mSie\", 5000000000, Maxwell, 9, False\n",
      "INFO 10:30AM [get_matrix]: Exporting matrix data to (C:\\Users\\slab\\AppData\\Local\\Temp\\tmp9kozhivj.txt, C, , Setup:AdaptivePass, \"Original\", \"ohm\", \"nH\", \"fF\", \"mSie\", 5000000000, Maxwell, 10, False\n"
     ]
    },
    {
     "name": "stdout",
     "output_type": "stream",
     "text": [
      "                    a_connector_pad_Q1  ground_main_plane  pad_top_Q1\n",
      "a_connector_pad_Q1            22.60001          -12.66453    -9.59539\n",
      "ground_main_plane            -12.66453          136.42882   -83.16008\n",
      "pad_top_Q1                    -9.59539          -83.16008    96.70038\n"
     ]
    },
    {
     "name": "stderr",
     "output_type": "stream",
     "text": [
      "INFO 10:30AM [connect_design]: \tOpened active design\n",
      "\tDesign:    Design_q3d [Solution type: Q3D]\n",
      "INFO 10:30AM [get_setup]: \tOpened setup `Setup`  (<class 'pyEPR.ansys.AnsysQ3DSetup'>)\n",
      "INFO 10:30AM [analyze]: Analyzing setup Setup\n",
      "INFO 10:30AM [get_matrix]: Exporting matrix data to (C:\\Users\\slab\\AppData\\Local\\Temp\\tmpqk_zwdlp.txt, C, , Setup:LastAdaptive, \"Original\", \"ohm\", \"nH\", \"fF\", \"mSie\", 5000000000, Maxwell, 1, False\n",
      "INFO 10:30AM [get_matrix]: Exporting matrix data to (C:\\Users\\slab\\AppData\\Local\\Temp\\tmpt04y5ins.txt, C, , Setup:AdaptivePass, \"Original\", \"ohm\", \"nH\", \"fF\", \"mSie\", 5000000000, Maxwell, 1, False\n",
      "INFO 10:30AM [get_matrix]: Exporting matrix data to (C:\\Users\\slab\\AppData\\Local\\Temp\\tmp47nqlft4.txt, C, , Setup:AdaptivePass, \"Original\", \"ohm\", \"nH\", \"fF\", \"mSie\", 5000000000, Maxwell, 2, False\n",
      "INFO 10:30AM [get_matrix]: Exporting matrix data to (C:\\Users\\slab\\AppData\\Local\\Temp\\tmpq8ns174l.txt, C, , Setup:AdaptivePass, \"Original\", \"ohm\", \"nH\", \"fF\", \"mSie\", 5000000000, Maxwell, 3, False\n",
      "INFO 10:30AM [get_matrix]: Exporting matrix data to (C:\\Users\\slab\\AppData\\Local\\Temp\\tmpgme_op8g.txt, C, , Setup:AdaptivePass, \"Original\", \"ohm\", \"nH\", \"fF\", \"mSie\", 5000000000, Maxwell, 4, False\n",
      "INFO 10:30AM [get_matrix]: Exporting matrix data to (C:\\Users\\slab\\AppData\\Local\\Temp\\tmpe842u4lk.txt, C, , Setup:AdaptivePass, \"Original\", \"ohm\", \"nH\", \"fF\", \"mSie\", 5000000000, Maxwell, 5, False\n",
      "INFO 10:30AM [get_matrix]: Exporting matrix data to (C:\\Users\\slab\\AppData\\Local\\Temp\\tmpslh2omin.txt, C, , Setup:AdaptivePass, \"Original\", \"ohm\", \"nH\", \"fF\", \"mSie\", 5000000000, Maxwell, 6, False\n",
      "INFO 10:30AM [get_matrix]: Exporting matrix data to (C:\\Users\\slab\\AppData\\Local\\Temp\\tmpn8dnf2tg.txt, C, , Setup:AdaptivePass, \"Original\", \"ohm\", \"nH\", \"fF\", \"mSie\", 5000000000, Maxwell, 7, False\n",
      "INFO 10:30AM [get_matrix]: Exporting matrix data to (C:\\Users\\slab\\AppData\\Local\\Temp\\tmpoec3j3pb.txt, C, , Setup:AdaptivePass, \"Original\", \"ohm\", \"nH\", \"fF\", \"mSie\", 5000000000, Maxwell, 8, False\n",
      "INFO 10:30AM [get_matrix]: Exporting matrix data to (C:\\Users\\slab\\AppData\\Local\\Temp\\tmp61rc0fpr.txt, C, , Setup:AdaptivePass, \"Original\", \"ohm\", \"nH\", \"fF\", \"mSie\", 5000000000, Maxwell, 9, False\n",
      "INFO 10:30AM [get_matrix]: Exporting matrix data to (C:\\Users\\slab\\AppData\\Local\\Temp\\tmp8o47jbuu.txt, C, , Setup:AdaptivePass, \"Original\", \"ohm\", \"nH\", \"fF\", \"mSie\", 5000000000, Maxwell, 10, False\n",
      "INFO 10:30AM [get_matrix]: Exporting matrix data to (C:\\Users\\slab\\AppData\\Local\\Temp\\tmp5zhubaye.txt, C, , Setup:LastAdaptive, \"Original\", \"ohm\", \"nH\", \"fF\", \"mSie\", 5000000000, Maxwell, 1, False\n",
      "INFO 10:30AM [get_matrix]: Exporting matrix data to (C:\\Users\\slab\\AppData\\Local\\Temp\\tmp6l8aulj5.txt, C, , Setup:AdaptivePass, \"Original\", \"ohm\", \"nH\", \"fF\", \"mSie\", 5000000000, Maxwell, 1, False\n",
      "INFO 10:30AM [get_matrix]: Exporting matrix data to (C:\\Users\\slab\\AppData\\Local\\Temp\\tmplvwy1e8y.txt, C, , Setup:AdaptivePass, \"Original\", \"ohm\", \"nH\", \"fF\", \"mSie\", 5000000000, Maxwell, 2, False\n",
      "INFO 10:30AM [get_matrix]: Exporting matrix data to (C:\\Users\\slab\\AppData\\Local\\Temp\\tmpy1y81n48.txt, C, , Setup:AdaptivePass, \"Original\", \"ohm\", \"nH\", \"fF\", \"mSie\", 5000000000, Maxwell, 3, False\n",
      "INFO 10:30AM [get_matrix]: Exporting matrix data to (C:\\Users\\slab\\AppData\\Local\\Temp\\tmpt1w7fuq1.txt, C, , Setup:AdaptivePass, \"Original\", \"ohm\", \"nH\", \"fF\", \"mSie\", 5000000000, Maxwell, 4, False\n",
      "INFO 10:30AM [get_matrix]: Exporting matrix data to (C:\\Users\\slab\\AppData\\Local\\Temp\\tmps30pbaam.txt, C, , Setup:AdaptivePass, \"Original\", \"ohm\", \"nH\", \"fF\", \"mSie\", 5000000000, Maxwell, 5, False\n",
      "INFO 10:30AM [get_matrix]: Exporting matrix data to (C:\\Users\\slab\\AppData\\Local\\Temp\\tmprp8sq_6s.txt, C, , Setup:AdaptivePass, \"Original\", \"ohm\", \"nH\", \"fF\", \"mSie\", 5000000000, Maxwell, 6, False\n",
      "INFO 10:30AM [get_matrix]: Exporting matrix data to (C:\\Users\\slab\\AppData\\Local\\Temp\\tmpjxkj6m_t.txt, C, , Setup:AdaptivePass, \"Original\", \"ohm\", \"nH\", \"fF\", \"mSie\", 5000000000, Maxwell, 7, False\n",
      "INFO 10:30AM [get_matrix]: Exporting matrix data to (C:\\Users\\slab\\AppData\\Local\\Temp\\tmpebia_lpd.txt, C, , Setup:AdaptivePass, \"Original\", \"ohm\", \"nH\", \"fF\", \"mSie\", 5000000000, Maxwell, 8, False\n",
      "INFO 10:30AM [get_matrix]: Exporting matrix data to (C:\\Users\\slab\\AppData\\Local\\Temp\\tmpfmhsuw24.txt, C, , Setup:AdaptivePass, \"Original\", \"ohm\", \"nH\", \"fF\", \"mSie\", 5000000000, Maxwell, 9, False\n",
      "INFO 10:30AM [get_matrix]: Exporting matrix data to (C:\\Users\\slab\\AppData\\Local\\Temp\\tmp3de9jy2k.txt, C, , Setup:AdaptivePass, \"Original\", \"ohm\", \"nH\", \"fF\", \"mSie\", 5000000000, Maxwell, 10, False\n"
     ]
    },
    {
     "name": "stdout",
     "output_type": "stream",
     "text": [
      "                    a_connector_pad_Q1  ground_main_plane  pad_top_Q1\n",
      "a_connector_pad_Q1            22.18129          -12.35845    -9.49355\n",
      "ground_main_plane            -12.35845          139.88913   -87.00096\n",
      "pad_top_Q1                    -9.49355          -87.00096   100.52529\n"
     ]
    }
   ],
   "source": [
    "\n",
    "widths = np.linspace(70*u.um, 250*u.um, 20)\n",
    "result = []\n",
    "for i, width in enumerate(widths):\n",
    "    result += [find_Cap(width)]\n"
   ]
  },
  {
   "cell_type": "code",
   "execution_count": 67,
   "metadata": {},
   "outputs": [
    {
     "data": {
      "image/png": "[encoded data removed]",
      "text/plain": [
       "<Figure size 640x480 with 1 Axes>"
      ]
     },
     "metadata": {},
     "output_type": "display_data"
    }
   ],
   "source": [
    "plt.scatter((300*u.um-widths)/2, -np.array(result))\n",
    "plt.xlabel('Distance on the sides (um)')\n",
    "plt.ylabel('Capacitance to Ground (fF)')\n",
    "plt.show()"
   ]
  },
  {
   "cell_type": "code",
   "execution_count": 56,
   "metadata": {},
   "outputs": [],
   "source": [
    "def find_Cap(height):\n",
    "    height = height.to(u.um)\n",
    "    design.delete_all_components()\n",
    "\n",
    "    options = dict(pad_width = '250um',\n",
    "    pocket_width = '300um',\n",
    "    pad_pocket_distance_top = '60um',\n",
    "    pos_x = '0',\n",
    "    pad_height = '{}um'.format(height.value),\n",
    "    pos_y = '0',\n",
    "    connection_pads = dict(\n",
    "        a = dict(loc_W  = 1, \n",
    "                loc_H =  1, \n",
    "                pad_gap = '10um',\n",
    "                pad_height = '20um',\n",
    "                pad_width = '100um',\n",
    "                pad_cpw_extent =  '10um',\n",
    "                pocket_rise = '0um',\n",
    "                cpw_extend = '5um')))\n",
    "\n",
    "    q1 = TransmonPocket_Single(design,'Q1',options = options)\n",
    "\n",
    "    gui.rebuild()\n",
    "    gui.zoom_on_components(['Q1'])\n",
    "    \n",
    "    \n",
    "    c1 = LOManalysis(design, \"q3d\")\n",
    "    c1.sim.setup.min_passes  = 5\n",
    "    c1.sim.setup.max_passes = 10\n",
    "    \n",
    "    c1.sim.run(components=['Q1'], open_terminations=[('Q1', 'a')])#, ('Q1', 'bus1'), ('Q1', 'bus2')])\n",
    "    c1.sim.capacitance_matrix \n",
    "\n",
    "    c1.sim._get_results_from_renderer()\n",
    "    c_mat = c1.sim.capacitance_matrix\n",
    "    \n",
    "    print(c_mat)\n",
    "    \n",
    "    return(c_mat)"
   ]
  },
  {
   "cell_type": "code",
   "execution_count": 69,
   "metadata": {},
   "outputs": [
    {
     "name": "stderr",
     "output_type": "stream",
     "text": [
      "INFO 11:44AM [connect_design]: \tOpened active design\n",
      "\tDesign:    Design_q3d [Solution type: Q3D]\n",
      "INFO 11:44AM [get_setup]: \tOpened setup `Setup`  (<class 'pyEPR.ansys.AnsysQ3DSetup'>)\n",
      "INFO 11:44AM [analyze]: Analyzing setup Setup\n",
      "INFO 11:44AM [get_matrix]: Exporting matrix data to (C:\\Users\\slab\\AppData\\Local\\Temp\\tmpp8g7zpx1.txt, C, , Setup:LastAdaptive, \"Original\", \"ohm\", \"nH\", \"fF\", \"mSie\", 5000000000, Maxwell, 1, False\n",
      "INFO 11:44AM [get_matrix]: Exporting matrix data to (C:\\Users\\slab\\AppData\\Local\\Temp\\tmpsxseccw2.txt, C, , Setup:AdaptivePass, \"Original\", \"ohm\", \"nH\", \"fF\", \"mSie\", 5000000000, Maxwell, 1, False\n",
      "INFO 11:44AM [get_matrix]: Exporting matrix data to (C:\\Users\\slab\\AppData\\Local\\Temp\\tmppenfxbrk.txt, C, , Setup:AdaptivePass, \"Original\", \"ohm\", \"nH\", \"fF\", \"mSie\", 5000000000, Maxwell, 2, False\n",
      "INFO 11:44AM [get_matrix]: Exporting matrix data to (C:\\Users\\slab\\AppData\\Local\\Temp\\tmp0p_5qgx7.txt, C, , Setup:AdaptivePass, \"Original\", \"ohm\", \"nH\", \"fF\", \"mSie\", 5000000000, Maxwell, 3, False\n",
      "INFO 11:44AM [get_matrix]: Exporting matrix data to (C:\\Users\\slab\\AppData\\Local\\Temp\\tmptuy7fbpc.txt, C, , Setup:AdaptivePass, \"Original\", \"ohm\", \"nH\", \"fF\", \"mSie\", 5000000000, Maxwell, 4, False\n",
      "INFO 11:44AM [get_matrix]: Exporting matrix data to (C:\\Users\\slab\\AppData\\Local\\Temp\\tmpew1cxkrl.txt, C, , Setup:AdaptivePass, \"Original\", \"ohm\", \"nH\", \"fF\", \"mSie\", 5000000000, Maxwell, 5, False\n",
      "INFO 11:44AM [get_matrix]: Exporting matrix data to (C:\\Users\\slab\\AppData\\Local\\Temp\\tmprxcb3tpo.txt, C, , Setup:AdaptivePass, \"Original\", \"ohm\", \"nH\", \"fF\", \"mSie\", 5000000000, Maxwell, 6, False\n",
      "INFO 11:44AM [get_matrix]: Exporting matrix data to (C:\\Users\\slab\\AppData\\Local\\Temp\\tmpt3gn2sbu.txt, C, , Setup:AdaptivePass, \"Original\", \"ohm\", \"nH\", \"fF\", \"mSie\", 5000000000, Maxwell, 7, False\n",
      "INFO 11:44AM [get_matrix]: Exporting matrix data to (C:\\Users\\slab\\AppData\\Local\\Temp\\tmpzgzkz_40.txt, C, , Setup:AdaptivePass, \"Original\", \"ohm\", \"nH\", \"fF\", \"mSie\", 5000000000, Maxwell, 8, False\n",
      "INFO 11:44AM [get_matrix]: Exporting matrix data to (C:\\Users\\slab\\AppData\\Local\\Temp\\tmpl7c3_w14.txt, C, , Setup:AdaptivePass, \"Original\", \"ohm\", \"nH\", \"fF\", \"mSie\", 5000000000, Maxwell, 9, False\n",
      "INFO 11:44AM [get_matrix]: Exporting matrix data to (C:\\Users\\slab\\AppData\\Local\\Temp\\tmp_tlyrl93.txt, C, , Setup:AdaptivePass, \"Original\", \"ohm\", \"nH\", \"fF\", \"mSie\", 5000000000, Maxwell, 10, False\n",
      "INFO 11:44AM [get_matrix]: Exporting matrix data to (C:\\Users\\slab\\AppData\\Local\\Temp\\tmpfb0mdwb4.txt, C, , Setup:LastAdaptive, \"Original\", \"ohm\", \"nH\", \"fF\", \"mSie\", 5000000000, Maxwell, 1, False\n",
      "INFO 11:44AM [get_matrix]: Exporting matrix data to (C:\\Users\\slab\\AppData\\Local\\Temp\\tmp3aw0ulut.txt, C, , Setup:AdaptivePass, \"Original\", \"ohm\", \"nH\", \"fF\", \"mSie\", 5000000000, Maxwell, 1, False\n",
      "INFO 11:44AM [get_matrix]: Exporting matrix data to (C:\\Users\\slab\\AppData\\Local\\Temp\\tmpt6wfdjfd.txt, C, , Setup:AdaptivePass, \"Original\", \"ohm\", \"nH\", \"fF\", \"mSie\", 5000000000, Maxwell, 2, False\n",
      "INFO 11:44AM [get_matrix]: Exporting matrix data to (C:\\Users\\slab\\AppData\\Local\\Temp\\tmpvfyen2em.txt, C, , Setup:AdaptivePass, \"Original\", \"ohm\", \"nH\", \"fF\", \"mSie\", 5000000000, Maxwell, 3, False\n",
      "INFO 11:44AM [get_matrix]: Exporting matrix data to (C:\\Users\\slab\\AppData\\Local\\Temp\\tmp4cziebzd.txt, C, , Setup:AdaptivePass, \"Original\", \"ohm\", \"nH\", \"fF\", \"mSie\", 5000000000, Maxwell, 4, False\n",
      "INFO 11:44AM [get_matrix]: Exporting matrix data to (C:\\Users\\slab\\AppData\\Local\\Temp\\tmp3q0w_3ya.txt, C, , Setup:AdaptivePass, \"Original\", \"ohm\", \"nH\", \"fF\", \"mSie\", 5000000000, Maxwell, 5, False\n",
      "INFO 11:44AM [get_matrix]: Exporting matrix data to (C:\\Users\\slab\\AppData\\Local\\Temp\\tmpkvefe0oe.txt, C, , Setup:AdaptivePass, \"Original\", \"ohm\", \"nH\", \"fF\", \"mSie\", 5000000000, Maxwell, 6, False\n",
      "INFO 11:44AM [get_matrix]: Exporting matrix data to (C:\\Users\\slab\\AppData\\Local\\Temp\\tmpb6yn6n21.txt, C, , Setup:AdaptivePass, \"Original\", \"ohm\", \"nH\", \"fF\", \"mSie\", 5000000000, Maxwell, 7, False\n",
      "INFO 11:44AM [get_matrix]: Exporting matrix data to (C:\\Users\\slab\\AppData\\Local\\Temp\\tmp37dho2ba.txt, C, , Setup:AdaptivePass, \"Original\", \"ohm\", \"nH\", \"fF\", \"mSie\", 5000000000, Maxwell, 8, False\n",
      "INFO 11:44AM [get_matrix]: Exporting matrix data to (C:\\Users\\slab\\AppData\\Local\\Temp\\tmp3tld6y_i.txt, C, , Setup:AdaptivePass, \"Original\", \"ohm\", \"nH\", \"fF\", \"mSie\", 5000000000, Maxwell, 9, False\n",
      "INFO 11:44AM [get_matrix]: Exporting matrix data to (C:\\Users\\slab\\AppData\\Local\\Temp\\tmp34pr4gvw.txt, C, , Setup:AdaptivePass, \"Original\", \"ohm\", \"nH\", \"fF\", \"mSie\", 5000000000, Maxwell, 10, False\n"
     ]
    },
    {
     "name": "stdout",
     "output_type": "stream",
     "text": [
      "                    a_connector_pad_Q1  ground_main_plane  pad_top_Q1\n",
      "a_connector_pad_Q1            22.19276          -12.93651    -8.88867\n",
      "ground_main_plane            -12.93651          100.95584   -49.06611\n",
      "pad_top_Q1                    -8.88867          -49.06611    59.90882\n"
     ]
    },
    {
     "name": "stderr",
     "output_type": "stream",
     "text": [
      "INFO 11:44AM [connect_design]: \tOpened active design\n",
      "\tDesign:    Design_q3d [Solution type: Q3D]\n",
      "INFO 11:45AM [get_setup]: \tOpened setup `Setup`  (<class 'pyEPR.ansys.AnsysQ3DSetup'>)\n",
      "INFO 11:45AM [analyze]: Analyzing setup Setup\n",
      "INFO 11:45AM [get_matrix]: Exporting matrix data to (C:\\Users\\slab\\AppData\\Local\\Temp\\tmpgkg7j6au.txt, C, , Setup:LastAdaptive, \"Original\", \"ohm\", \"nH\", \"fF\", \"mSie\", 5000000000, Maxwell, 1, False\n",
      "INFO 11:45AM [get_matrix]: Exporting matrix data to (C:\\Users\\slab\\AppData\\Local\\Temp\\tmptwpidork.txt, C, , Setup:AdaptivePass, \"Original\", \"ohm\", \"nH\", \"fF\", \"mSie\", 5000000000, Maxwell, 1, False\n",
      "INFO 11:45AM [get_matrix]: Exporting matrix data to (C:\\Users\\slab\\AppData\\Local\\Temp\\tmpfet23y1n.txt, C, , Setup:AdaptivePass, \"Original\", \"ohm\", \"nH\", \"fF\", \"mSie\", 5000000000, Maxwell, 2, False\n",
      "INFO 11:45AM [get_matrix]: Exporting matrix data to (C:\\Users\\slab\\AppData\\Local\\Temp\\tmpvzspoz8i.txt, C, , Setup:AdaptivePass, \"Original\", \"ohm\", \"nH\", \"fF\", \"mSie\", 5000000000, Maxwell, 3, False\n",
      "INFO 11:45AM [get_matrix]: Exporting matrix data to (C:\\Users\\slab\\AppData\\Local\\Temp\\tmpn5nnng9w.txt, C, , Setup:AdaptivePass, \"Original\", \"ohm\", \"nH\", \"fF\", \"mSie\", 5000000000, Maxwell, 4, False\n",
      "INFO 11:45AM [get_matrix]: Exporting matrix data to (C:\\Users\\slab\\AppData\\Local\\Temp\\tmpka6tbq8v.txt, C, , Setup:AdaptivePass, \"Original\", \"ohm\", \"nH\", \"fF\", \"mSie\", 5000000000, Maxwell, 5, False\n",
      "INFO 11:45AM [get_matrix]: Exporting matrix data to (C:\\Users\\slab\\AppData\\Local\\Temp\\tmp7vvr32m7.txt, C, , Setup:AdaptivePass, \"Original\", \"ohm\", \"nH\", \"fF\", \"mSie\", 5000000000, Maxwell, 6, False\n",
      "INFO 11:45AM [get_matrix]: Exporting matrix data to (C:\\Users\\slab\\AppData\\Local\\Temp\\tmp7zyedfz8.txt, C, , Setup:AdaptivePass, \"Original\", \"ohm\", \"nH\", \"fF\", \"mSie\", 5000000000, Maxwell, 7, False\n",
      "INFO 11:45AM [get_matrix]: Exporting matrix data to (C:\\Users\\slab\\AppData\\Local\\Temp\\tmp_1jkijs9.txt, C, , Setup:AdaptivePass, \"Original\", \"ohm\", \"nH\", \"fF\", \"mSie\", 5000000000, Maxwell, 8, False\n",
      "INFO 11:45AM [get_matrix]: Exporting matrix data to (C:\\Users\\slab\\AppData\\Local\\Temp\\tmpq0pgyuoq.txt, C, , Setup:AdaptivePass, \"Original\", \"ohm\", \"nH\", \"fF\", \"mSie\", 5000000000, Maxwell, 9, False\n",
      "INFO 11:45AM [get_matrix]: Exporting matrix data to (C:\\Users\\slab\\AppData\\Local\\Temp\\tmps9oytk1p.txt, C, , Setup:AdaptivePass, \"Original\", \"ohm\", \"nH\", \"fF\", \"mSie\", 5000000000, Maxwell, 10, False\n",
      "INFO 11:45AM [get_matrix]: Exporting matrix data to (C:\\Users\\slab\\AppData\\Local\\Temp\\tmpue98ejth.txt, C, , Setup:LastAdaptive, \"Original\", \"ohm\", \"nH\", \"fF\", \"mSie\", 5000000000, Maxwell, 1, False\n",
      "INFO 11:45AM [get_matrix]: Exporting matrix data to (C:\\Users\\slab\\AppData\\Local\\Temp\\tmp0r2bus6k.txt, C, , Setup:AdaptivePass, \"Original\", \"ohm\", \"nH\", \"fF\", \"mSie\", 5000000000, Maxwell, 1, False\n",
      "INFO 11:45AM [get_matrix]: Exporting matrix data to (C:\\Users\\slab\\AppData\\Local\\Temp\\tmpyuqqcvzp.txt, C, , Setup:AdaptivePass, \"Original\", \"ohm\", \"nH\", \"fF\", \"mSie\", 5000000000, Maxwell, 2, False\n",
      "INFO 11:45AM [get_matrix]: Exporting matrix data to (C:\\Users\\slab\\AppData\\Local\\Temp\\tmpb0c4c1yb.txt, C, , Setup:AdaptivePass, \"Original\", \"ohm\", \"nH\", \"fF\", \"mSie\", 5000000000, Maxwell, 3, False\n",
      "INFO 11:45AM [get_matrix]: Exporting matrix data to (C:\\Users\\slab\\AppData\\Local\\Temp\\tmpkjo219bh.txt, C, , Setup:AdaptivePass, \"Original\", \"ohm\", \"nH\", \"fF\", \"mSie\", 5000000000, Maxwell, 4, False\n",
      "INFO 11:45AM [get_matrix]: Exporting matrix data to (C:\\Users\\slab\\AppData\\Local\\Temp\\tmpsncz4rfv.txt, C, , Setup:AdaptivePass, \"Original\", \"ohm\", \"nH\", \"fF\", \"mSie\", 5000000000, Maxwell, 5, False\n",
      "INFO 11:45AM [get_matrix]: Exporting matrix data to (C:\\Users\\slab\\AppData\\Local\\Temp\\tmpg9mpy8bu.txt, C, , Setup:AdaptivePass, \"Original\", \"ohm\", \"nH\", \"fF\", \"mSie\", 5000000000, Maxwell, 6, False\n",
      "INFO 11:45AM [get_matrix]: Exporting matrix data to (C:\\Users\\slab\\AppData\\Local\\Temp\\tmpe367hq70.txt, C, , Setup:AdaptivePass, \"Original\", \"ohm\", \"nH\", \"fF\", \"mSie\", 5000000000, Maxwell, 7, False\n",
      "INFO 11:45AM [get_matrix]: Exporting matrix data to (C:\\Users\\slab\\AppData\\Local\\Temp\\tmp81qcztxc.txt, C, , Setup:AdaptivePass, \"Original\", \"ohm\", \"nH\", \"fF\", \"mSie\", 5000000000, Maxwell, 8, False\n",
      "INFO 11:45AM [get_matrix]: Exporting matrix data to (C:\\Users\\slab\\AppData\\Local\\Temp\\tmp4rbywbux.txt, C, , Setup:AdaptivePass, \"Original\", \"ohm\", \"nH\", \"fF\", \"mSie\", 5000000000, Maxwell, 9, False\n",
      "INFO 11:45AM [get_matrix]: Exporting matrix data to (C:\\Users\\slab\\AppData\\Local\\Temp\\tmptv1euvk1.txt, C, , Setup:AdaptivePass, \"Original\", \"ohm\", \"nH\", \"fF\", \"mSie\", 5000000000, Maxwell, 10, False\n"
     ]
    },
    {
     "name": "stdout",
     "output_type": "stream",
     "text": [
      "                    a_connector_pad_Q1  ground_main_plane  pad_top_Q1\n",
      "a_connector_pad_Q1            22.20452          -12.84187    -9.00830\n",
      "ground_main_plane            -12.84187          105.03039   -53.13794\n",
      "pad_top_Q1                    -9.00830          -53.13794    64.32843\n"
     ]
    },
    {
     "name": "stderr",
     "output_type": "stream",
     "text": [
      "INFO 11:45AM [connect_design]: \tOpened active design\n",
      "\tDesign:    Design_q3d [Solution type: Q3D]\n",
      "INFO 11:45AM [get_setup]: \tOpened setup `Setup`  (<class 'pyEPR.ansys.AnsysQ3DSetup'>)\n",
      "INFO 11:45AM [analyze]: Analyzing setup Setup\n",
      "INFO 11:46AM [get_matrix]: Exporting matrix data to (C:\\Users\\slab\\AppData\\Local\\Temp\\tmpu77yucuv.txt, C, , Setup:LastAdaptive, \"Original\", \"ohm\", \"nH\", \"fF\", \"mSie\", 5000000000, Maxwell, 1, False\n",
      "INFO 11:46AM [get_matrix]: Exporting matrix data to (C:\\Users\\slab\\AppData\\Local\\Temp\\tmp4qa5f0cs.txt, C, , Setup:AdaptivePass, \"Original\", \"ohm\", \"nH\", \"fF\", \"mSie\", 5000000000, Maxwell, 1, False\n",
      "INFO 11:46AM [get_matrix]: Exporting matrix data to (C:\\Users\\slab\\AppData\\Local\\Temp\\tmpkcxd4lz3.txt, C, , Setup:AdaptivePass, \"Original\", \"ohm\", \"nH\", \"fF\", \"mSie\", 5000000000, Maxwell, 2, False\n",
      "INFO 11:46AM [get_matrix]: Exporting matrix data to (C:\\Users\\slab\\AppData\\Local\\Temp\\tmpc9vvpro0.txt, C, , Setup:AdaptivePass, \"Original\", \"ohm\", \"nH\", \"fF\", \"mSie\", 5000000000, Maxwell, 3, False\n",
      "INFO 11:46AM [get_matrix]: Exporting matrix data to (C:\\Users\\slab\\AppData\\Local\\Temp\\tmp00gshars.txt, C, , Setup:AdaptivePass, \"Original\", \"ohm\", \"nH\", \"fF\", \"mSie\", 5000000000, Maxwell, 4, False\n",
      "INFO 11:46AM [get_matrix]: Exporting matrix data to (C:\\Users\\slab\\AppData\\Local\\Temp\\tmpac8q3b60.txt, C, , Setup:AdaptivePass, \"Original\", \"ohm\", \"nH\", \"fF\", \"mSie\", 5000000000, Maxwell, 5, False\n",
      "INFO 11:46AM [get_matrix]: Exporting matrix data to (C:\\Users\\slab\\AppData\\Local\\Temp\\tmp3qevfe01.txt, C, , Setup:AdaptivePass, \"Original\", \"ohm\", \"nH\", \"fF\", \"mSie\", 5000000000, Maxwell, 6, False\n",
      "INFO 11:46AM [get_matrix]: Exporting matrix data to (C:\\Users\\slab\\AppData\\Local\\Temp\\tmpa34vh_6w.txt, C, , Setup:AdaptivePass, \"Original\", \"ohm\", \"nH\", \"fF\", \"mSie\", 5000000000, Maxwell, 7, False\n",
      "INFO 11:46AM [get_matrix]: Exporting matrix data to (C:\\Users\\slab\\AppData\\Local\\Temp\\tmpi7xtwk3m.txt, C, , Setup:AdaptivePass, \"Original\", \"ohm\", \"nH\", \"fF\", \"mSie\", 5000000000, Maxwell, 8, False\n",
      "INFO 11:46AM [get_matrix]: Exporting matrix data to (C:\\Users\\slab\\AppData\\Local\\Temp\\tmpsbqi4jir.txt, C, , Setup:AdaptivePass, \"Original\", \"ohm\", \"nH\", \"fF\", \"mSie\", 5000000000, Maxwell, 9, False\n",
      "INFO 11:46AM [get_matrix]: Exporting matrix data to (C:\\Users\\slab\\AppData\\Local\\Temp\\tmpkq0mjulb.txt, C, , Setup:AdaptivePass, \"Original\", \"ohm\", \"nH\", \"fF\", \"mSie\", 5000000000, Maxwell, 10, False\n",
      "INFO 11:46AM [get_matrix]: Exporting matrix data to (C:\\Users\\slab\\AppData\\Local\\Temp\\tmp6qsok2bu.txt, C, , Setup:LastAdaptive, \"Original\", \"ohm\", \"nH\", \"fF\", \"mSie\", 5000000000, Maxwell, 1, False\n",
      "INFO 11:46AM [get_matrix]: Exporting matrix data to (C:\\Users\\slab\\AppData\\Local\\Temp\\tmp0opz9gdq.txt, C, , Setup:AdaptivePass, \"Original\", \"ohm\", \"nH\", \"fF\", \"mSie\", 5000000000, Maxwell, 1, False\n",
      "INFO 11:46AM [get_matrix]: Exporting matrix data to (C:\\Users\\slab\\AppData\\Local\\Temp\\tmpbjlhdbkr.txt, C, , Setup:AdaptivePass, \"Original\", \"ohm\", \"nH\", \"fF\", \"mSie\", 5000000000, Maxwell, 2, False\n",
      "INFO 11:46AM [get_matrix]: Exporting matrix data to (C:\\Users\\slab\\AppData\\Local\\Temp\\tmp9nfid2ex.txt, C, , Setup:AdaptivePass, \"Original\", \"ohm\", \"nH\", \"fF\", \"mSie\", 5000000000, Maxwell, 3, False\n",
      "INFO 11:46AM [get_matrix]: Exporting matrix data to (C:\\Users\\slab\\AppData\\Local\\Temp\\tmpbig7g5kd.txt, C, , Setup:AdaptivePass, \"Original\", \"ohm\", \"nH\", \"fF\", \"mSie\", 5000000000, Maxwell, 4, False\n",
      "INFO 11:46AM [get_matrix]: Exporting matrix data to (C:\\Users\\slab\\AppData\\Local\\Temp\\tmpmj0g3hvr.txt, C, , Setup:AdaptivePass, \"Original\", \"ohm\", \"nH\", \"fF\", \"mSie\", 5000000000, Maxwell, 5, False\n",
      "INFO 11:46AM [get_matrix]: Exporting matrix data to (C:\\Users\\slab\\AppData\\Local\\Temp\\tmpjjfu72ye.txt, C, , Setup:AdaptivePass, \"Original\", \"ohm\", \"nH\", \"fF\", \"mSie\", 5000000000, Maxwell, 6, False\n",
      "INFO 11:46AM [get_matrix]: Exporting matrix data to (C:\\Users\\slab\\AppData\\Local\\Temp\\tmpmkm96l2m.txt, C, , Setup:AdaptivePass, \"Original\", \"ohm\", \"nH\", \"fF\", \"mSie\", 5000000000, Maxwell, 7, False\n",
      "INFO 11:46AM [get_matrix]: Exporting matrix data to (C:\\Users\\slab\\AppData\\Local\\Temp\\tmp5akzx0ch.txt, C, , Setup:AdaptivePass, \"Original\", \"ohm\", \"nH\", \"fF\", \"mSie\", 5000000000, Maxwell, 8, False\n",
      "INFO 11:46AM [get_matrix]: Exporting matrix data to (C:\\Users\\slab\\AppData\\Local\\Temp\\tmp019ldv11.txt, C, , Setup:AdaptivePass, \"Original\", \"ohm\", \"nH\", \"fF\", \"mSie\", 5000000000, Maxwell, 9, False\n",
      "INFO 11:46AM [get_matrix]: Exporting matrix data to (C:\\Users\\slab\\AppData\\Local\\Temp\\tmpncs784hu.txt, C, , Setup:AdaptivePass, \"Original\", \"ohm\", \"nH\", \"fF\", \"mSie\", 5000000000, Maxwell, 10, False\n"
     ]
    },
    {
     "name": "stdout",
     "output_type": "stream",
     "text": [
      "                    a_connector_pad_Q1  ground_main_plane  pad_top_Q1\n",
      "a_connector_pad_Q1            22.18034          -12.75395    -9.08679\n",
      "ground_main_plane            -12.75395          108.92505   -56.97987\n",
      "pad_top_Q1                    -9.08679          -56.97987    68.46049\n"
     ]
    },
    {
     "name": "stderr",
     "output_type": "stream",
     "text": [
      "INFO 11:46AM [connect_design]: \tOpened active design\n",
      "\tDesign:    Design_q3d [Solution type: Q3D]\n",
      "INFO 11:46AM [get_setup]: \tOpened setup `Setup`  (<class 'pyEPR.ansys.AnsysQ3DSetup'>)\n",
      "INFO 11:46AM [analyze]: Analyzing setup Setup\n",
      "INFO 11:46AM [get_matrix]: Exporting matrix data to (C:\\Users\\slab\\AppData\\Local\\Temp\\tmpabd_79mq.txt, C, , Setup:LastAdaptive, \"Original\", \"ohm\", \"nH\", \"fF\", \"mSie\", 5000000000, Maxwell, 1, False\n",
      "INFO 11:46AM [get_matrix]: Exporting matrix data to (C:\\Users\\slab\\AppData\\Local\\Temp\\tmpsecshilj.txt, C, , Setup:AdaptivePass, \"Original\", \"ohm\", \"nH\", \"fF\", \"mSie\", 5000000000, Maxwell, 1, False\n",
      "INFO 11:46AM [get_matrix]: Exporting matrix data to (C:\\Users\\slab\\AppData\\Local\\Temp\\tmphceiv_np.txt, C, , Setup:AdaptivePass, \"Original\", \"ohm\", \"nH\", \"fF\", \"mSie\", 5000000000, Maxwell, 2, False\n",
      "INFO 11:46AM [get_matrix]: Exporting matrix data to (C:\\Users\\slab\\AppData\\Local\\Temp\\tmpm2zzjlbl.txt, C, , Setup:AdaptivePass, \"Original\", \"ohm\", \"nH\", \"fF\", \"mSie\", 5000000000, Maxwell, 3, False\n",
      "INFO 11:46AM [get_matrix]: Exporting matrix data to (C:\\Users\\slab\\AppData\\Local\\Temp\\tmp4s9qf2ey.txt, C, , Setup:AdaptivePass, \"Original\", \"ohm\", \"nH\", \"fF\", \"mSie\", 5000000000, Maxwell, 4, False\n",
      "INFO 11:46AM [get_matrix]: Exporting matrix data to (C:\\Users\\slab\\AppData\\Local\\Temp\\tmp8666m947.txt, C, , Setup:AdaptivePass, \"Original\", \"ohm\", \"nH\", \"fF\", \"mSie\", 5000000000, Maxwell, 5, False\n",
      "INFO 11:46AM [get_matrix]: Exporting matrix data to (C:\\Users\\slab\\AppData\\Local\\Temp\\tmp77l_bycr.txt, C, , Setup:AdaptivePass, \"Original\", \"ohm\", \"nH\", \"fF\", \"mSie\", 5000000000, Maxwell, 6, False\n",
      "INFO 11:46AM [get_matrix]: Exporting matrix data to (C:\\Users\\slab\\AppData\\Local\\Temp\\tmpav6p9m98.txt, C, , Setup:AdaptivePass, \"Original\", \"ohm\", \"nH\", \"fF\", \"mSie\", 5000000000, Maxwell, 7, False\n",
      "INFO 11:46AM [get_matrix]: Exporting matrix data to (C:\\Users\\slab\\AppData\\Local\\Temp\\tmpaazowuds.txt, C, , Setup:AdaptivePass, \"Original\", \"ohm\", \"nH\", \"fF\", \"mSie\", 5000000000, Maxwell, 8, False\n",
      "INFO 11:46AM [get_matrix]: Exporting matrix data to (C:\\Users\\slab\\AppData\\Local\\Temp\\tmphnd7e_hj.txt, C, , Setup:AdaptivePass, \"Original\", \"ohm\", \"nH\", \"fF\", \"mSie\", 5000000000, Maxwell, 9, False\n",
      "INFO 11:46AM [get_matrix]: Exporting matrix data to (C:\\Users\\slab\\AppData\\Local\\Temp\\tmpg_bmb191.txt, C, , Setup:AdaptivePass, \"Original\", \"ohm\", \"nH\", \"fF\", \"mSie\", 5000000000, Maxwell, 10, False\n",
      "INFO 11:46AM [get_matrix]: Exporting matrix data to (C:\\Users\\slab\\AppData\\Local\\Temp\\tmp9bhuw3bs.txt, C, , Setup:LastAdaptive, \"Original\", \"ohm\", \"nH\", \"fF\", \"mSie\", 5000000000, Maxwell, 1, False\n",
      "INFO 11:46AM [get_matrix]: Exporting matrix data to (C:\\Users\\slab\\AppData\\Local\\Temp\\tmpju_sehtz.txt, C, , Setup:AdaptivePass, \"Original\", \"ohm\", \"nH\", \"fF\", \"mSie\", 5000000000, Maxwell, 1, False\n",
      "INFO 11:46AM [get_matrix]: Exporting matrix data to (C:\\Users\\slab\\AppData\\Local\\Temp\\tmp7gwqfrmd.txt, C, , Setup:AdaptivePass, \"Original\", \"ohm\", \"nH\", \"fF\", \"mSie\", 5000000000, Maxwell, 2, False\n",
      "INFO 11:46AM [get_matrix]: Exporting matrix data to (C:\\Users\\slab\\AppData\\Local\\Temp\\tmpi7xsdg45.txt, C, , Setup:AdaptivePass, \"Original\", \"ohm\", \"nH\", \"fF\", \"mSie\", 5000000000, Maxwell, 3, False\n",
      "INFO 11:46AM [get_matrix]: Exporting matrix data to (C:\\Users\\slab\\AppData\\Local\\Temp\\tmp_c5t06ql.txt, C, , Setup:AdaptivePass, \"Original\", \"ohm\", \"nH\", \"fF\", \"mSie\", 5000000000, Maxwell, 4, False\n",
      "INFO 11:46AM [get_matrix]: Exporting matrix data to (C:\\Users\\slab\\AppData\\Local\\Temp\\tmp4ola2n62.txt, C, , Setup:AdaptivePass, \"Original\", \"ohm\", \"nH\", \"fF\", \"mSie\", 5000000000, Maxwell, 5, False\n",
      "INFO 11:46AM [get_matrix]: Exporting matrix data to (C:\\Users\\slab\\AppData\\Local\\Temp\\tmpp5e2w956.txt, C, , Setup:AdaptivePass, \"Original\", \"ohm\", \"nH\", \"fF\", \"mSie\", 5000000000, Maxwell, 6, False\n",
      "INFO 11:46AM [get_matrix]: Exporting matrix data to (C:\\Users\\slab\\AppData\\Local\\Temp\\tmpczz7baav.txt, C, , Setup:AdaptivePass, \"Original\", \"ohm\", \"nH\", \"fF\", \"mSie\", 5000000000, Maxwell, 7, False\n",
      "INFO 11:46AM [get_matrix]: Exporting matrix data to (C:\\Users\\slab\\AppData\\Local\\Temp\\tmpk0teyqne.txt, C, , Setup:AdaptivePass, \"Original\", \"ohm\", \"nH\", \"fF\", \"mSie\", 5000000000, Maxwell, 8, False\n",
      "INFO 11:46AM [get_matrix]: Exporting matrix data to (C:\\Users\\slab\\AppData\\Local\\Temp\\tmp929k4dpo.txt, C, , Setup:AdaptivePass, \"Original\", \"ohm\", \"nH\", \"fF\", \"mSie\", 5000000000, Maxwell, 9, False\n",
      "INFO 11:46AM [get_matrix]: Exporting matrix data to (C:\\Users\\slab\\AppData\\Local\\Temp\\tmpildukgec.txt, C, , Setup:AdaptivePass, \"Original\", \"ohm\", \"nH\", \"fF\", \"mSie\", 5000000000, Maxwell, 10, False\n"
     ]
    },
    {
     "name": "stdout",
     "output_type": "stream",
     "text": [
      "                    a_connector_pad_Q1  ground_main_plane  pad_top_Q1\n",
      "a_connector_pad_Q1            22.20622          -12.68861    -9.19873\n",
      "ground_main_plane            -12.68861          112.72248   -60.65092\n",
      "pad_top_Q1                    -9.19873          -60.65092    72.45453\n"
     ]
    },
    {
     "name": "stderr",
     "output_type": "stream",
     "text": [
      "INFO 11:46AM [connect_design]: \tOpened active design\n",
      "\tDesign:    Design_q3d [Solution type: Q3D]\n",
      "INFO 11:46AM [get_setup]: \tOpened setup `Setup`  (<class 'pyEPR.ansys.AnsysQ3DSetup'>)\n",
      "INFO 11:46AM [analyze]: Analyzing setup Setup\n",
      "INFO 11:47AM [get_matrix]: Exporting matrix data to (C:\\Users\\slab\\AppData\\Local\\Temp\\tmpaul0ktl7.txt, C, , Setup:LastAdaptive, \"Original\", \"ohm\", \"nH\", \"fF\", \"mSie\", 5000000000, Maxwell, 1, False\n",
      "INFO 11:47AM [get_matrix]: Exporting matrix data to (C:\\Users\\slab\\AppData\\Local\\Temp\\tmpnuw3izpu.txt, C, , Setup:AdaptivePass, \"Original\", \"ohm\", \"nH\", \"fF\", \"mSie\", 5000000000, Maxwell, 1, False\n",
      "INFO 11:47AM [get_matrix]: Exporting matrix data to (C:\\Users\\slab\\AppData\\Local\\Temp\\tmpotpw_6p9.txt, C, , Setup:AdaptivePass, \"Original\", \"ohm\", \"nH\", \"fF\", \"mSie\", 5000000000, Maxwell, 2, False\n",
      "INFO 11:47AM [get_matrix]: Exporting matrix data to (C:\\Users\\slab\\AppData\\Local\\Temp\\tmp1m811ffm.txt, C, , Setup:AdaptivePass, \"Original\", \"ohm\", \"nH\", \"fF\", \"mSie\", 5000000000, Maxwell, 3, False\n",
      "INFO 11:47AM [get_matrix]: Exporting matrix data to (C:\\Users\\slab\\AppData\\Local\\Temp\\tmpbdhx876o.txt, C, , Setup:AdaptivePass, \"Original\", \"ohm\", \"nH\", \"fF\", \"mSie\", 5000000000, Maxwell, 4, False\n",
      "INFO 11:47AM [get_matrix]: Exporting matrix data to (C:\\Users\\slab\\AppData\\Local\\Temp\\tmpgixettbq.txt, C, , Setup:AdaptivePass, \"Original\", \"ohm\", \"nH\", \"fF\", \"mSie\", 5000000000, Maxwell, 5, False\n",
      "INFO 11:47AM [get_matrix]: Exporting matrix data to (C:\\Users\\slab\\AppData\\Local\\Temp\\tmpxxfmwy3h.txt, C, , Setup:AdaptivePass, \"Original\", \"ohm\", \"nH\", \"fF\", \"mSie\", 5000000000, Maxwell, 6, False\n",
      "INFO 11:47AM [get_matrix]: Exporting matrix data to (C:\\Users\\slab\\AppData\\Local\\Temp\\tmpvl1bdm8m.txt, C, , Setup:AdaptivePass, \"Original\", \"ohm\", \"nH\", \"fF\", \"mSie\", 5000000000, Maxwell, 7, False\n",
      "INFO 11:47AM [get_matrix]: Exporting matrix data to (C:\\Users\\slab\\AppData\\Local\\Temp\\tmpdete4t6y.txt, C, , Setup:AdaptivePass, \"Original\", \"ohm\", \"nH\", \"fF\", \"mSie\", 5000000000, Maxwell, 8, False\n",
      "INFO 11:47AM [get_matrix]: Exporting matrix data to (C:\\Users\\slab\\AppData\\Local\\Temp\\tmpe5gmgqrg.txt, C, , Setup:AdaptivePass, \"Original\", \"ohm\", \"nH\", \"fF\", \"mSie\", 5000000000, Maxwell, 9, False\n",
      "INFO 11:47AM [get_matrix]: Exporting matrix data to (C:\\Users\\slab\\AppData\\Local\\Temp\\tmpjw73lbr6.txt, C, , Setup:AdaptivePass, \"Original\", \"ohm\", \"nH\", \"fF\", \"mSie\", 5000000000, Maxwell, 10, False\n",
      "INFO 11:47AM [get_matrix]: Exporting matrix data to (C:\\Users\\slab\\AppData\\Local\\Temp\\tmpv0m9vmqg.txt, C, , Setup:LastAdaptive, \"Original\", \"ohm\", \"nH\", \"fF\", \"mSie\", 5000000000, Maxwell, 1, False\n",
      "INFO 11:47AM [get_matrix]: Exporting matrix data to (C:\\Users\\slab\\AppData\\Local\\Temp\\tmpvvx08b_u.txt, C, , Setup:AdaptivePass, \"Original\", \"ohm\", \"nH\", \"fF\", \"mSie\", 5000000000, Maxwell, 1, False\n",
      "INFO 11:47AM [get_matrix]: Exporting matrix data to (C:\\Users\\slab\\AppData\\Local\\Temp\\tmpje4cv93p.txt, C, , Setup:AdaptivePass, \"Original\", \"ohm\", \"nH\", \"fF\", \"mSie\", 5000000000, Maxwell, 2, False\n",
      "INFO 11:47AM [get_matrix]: Exporting matrix data to (C:\\Users\\slab\\AppData\\Local\\Temp\\tmpwt9v8k_9.txt, C, , Setup:AdaptivePass, \"Original\", \"ohm\", \"nH\", \"fF\", \"mSie\", 5000000000, Maxwell, 3, False\n",
      "INFO 11:47AM [get_matrix]: Exporting matrix data to (C:\\Users\\slab\\AppData\\Local\\Temp\\tmpv41sliyv.txt, C, , Setup:AdaptivePass, \"Original\", \"ohm\", \"nH\", \"fF\", \"mSie\", 5000000000, Maxwell, 4, False\n",
      "INFO 11:47AM [get_matrix]: Exporting matrix data to (C:\\Users\\slab\\AppData\\Local\\Temp\\tmplavmuqgt.txt, C, , Setup:AdaptivePass, \"Original\", \"ohm\", \"nH\", \"fF\", \"mSie\", 5000000000, Maxwell, 5, False\n",
      "INFO 11:47AM [get_matrix]: Exporting matrix data to (C:\\Users\\slab\\AppData\\Local\\Temp\\tmpp2xxc16j.txt, C, , Setup:AdaptivePass, \"Original\", \"ohm\", \"nH\", \"fF\", \"mSie\", 5000000000, Maxwell, 6, False\n",
      "INFO 11:47AM [get_matrix]: Exporting matrix data to (C:\\Users\\slab\\AppData\\Local\\Temp\\tmpt63sgzwm.txt, C, , Setup:AdaptivePass, \"Original\", \"ohm\", \"nH\", \"fF\", \"mSie\", 5000000000, Maxwell, 7, False\n",
      "INFO 11:47AM [get_matrix]: Exporting matrix data to (C:\\Users\\slab\\AppData\\Local\\Temp\\tmptvreefnr.txt, C, , Setup:AdaptivePass, \"Original\", \"ohm\", \"nH\", \"fF\", \"mSie\", 5000000000, Maxwell, 8, False\n",
      "INFO 11:47AM [get_matrix]: Exporting matrix data to (C:\\Users\\slab\\AppData\\Local\\Temp\\tmpkw3qt3ox.txt, C, , Setup:AdaptivePass, \"Original\", \"ohm\", \"nH\", \"fF\", \"mSie\", 5000000000, Maxwell, 9, False\n",
      "INFO 11:47AM [get_matrix]: Exporting matrix data to (C:\\Users\\slab\\AppData\\Local\\Temp\\tmpjilljiev.txt, C, , Setup:AdaptivePass, \"Original\", \"ohm\", \"nH\", \"fF\", \"mSie\", 5000000000, Maxwell, 10, False\n"
     ]
    },
    {
     "name": "stdout",
     "output_type": "stream",
     "text": [
      "                    a_connector_pad_Q1  ground_main_plane  pad_top_Q1\n",
      "a_connector_pad_Q1            22.19789          -12.64350    -9.24254\n",
      "ground_main_plane            -12.64350          116.43674   -64.25438\n",
      "pad_top_Q1                    -9.24254          -64.25438    76.29707\n"
     ]
    },
    {
     "name": "stderr",
     "output_type": "stream",
     "text": [
      "INFO 11:47AM [connect_design]: \tOpened active design\n",
      "\tDesign:    Design_q3d [Solution type: Q3D]\n",
      "INFO 11:47AM [get_setup]: \tOpened setup `Setup`  (<class 'pyEPR.ansys.AnsysQ3DSetup'>)\n",
      "INFO 11:47AM [analyze]: Analyzing setup Setup\n",
      "INFO 11:48AM [get_matrix]: Exporting matrix data to (C:\\Users\\slab\\AppData\\Local\\Temp\\tmpjt5qokj0.txt, C, , Setup:LastAdaptive, \"Original\", \"ohm\", \"nH\", \"fF\", \"mSie\", 5000000000, Maxwell, 1, False\n",
      "INFO 11:48AM [get_matrix]: Exporting matrix data to (C:\\Users\\slab\\AppData\\Local\\Temp\\tmpu6dinjbn.txt, C, , Setup:AdaptivePass, \"Original\", \"ohm\", \"nH\", \"fF\", \"mSie\", 5000000000, Maxwell, 1, False\n",
      "INFO 11:48AM [get_matrix]: Exporting matrix data to (C:\\Users\\slab\\AppData\\Local\\Temp\\tmp42pw8mhs.txt, C, , Setup:AdaptivePass, \"Original\", \"ohm\", \"nH\", \"fF\", \"mSie\", 5000000000, Maxwell, 2, False\n",
      "INFO 11:48AM [get_matrix]: Exporting matrix data to (C:\\Users\\slab\\AppData\\Local\\Temp\\tmpl5g90q1r.txt, C, , Setup:AdaptivePass, \"Original\", \"ohm\", \"nH\", \"fF\", \"mSie\", 5000000000, Maxwell, 3, False\n",
      "INFO 11:48AM [get_matrix]: Exporting matrix data to (C:\\Users\\slab\\AppData\\Local\\Temp\\tmpif7z8fqs.txt, C, , Setup:AdaptivePass, \"Original\", \"ohm\", \"nH\", \"fF\", \"mSie\", 5000000000, Maxwell, 4, False\n",
      "INFO 11:48AM [get_matrix]: Exporting matrix data to (C:\\Users\\slab\\AppData\\Local\\Temp\\tmp6oq6nzze.txt, C, , Setup:AdaptivePass, \"Original\", \"ohm\", \"nH\", \"fF\", \"mSie\", 5000000000, Maxwell, 5, False\n",
      "INFO 11:48AM [get_matrix]: Exporting matrix data to (C:\\Users\\slab\\AppData\\Local\\Temp\\tmpx0b0dpqz.txt, C, , Setup:AdaptivePass, \"Original\", \"ohm\", \"nH\", \"fF\", \"mSie\", 5000000000, Maxwell, 6, False\n",
      "INFO 11:48AM [get_matrix]: Exporting matrix data to (C:\\Users\\slab\\AppData\\Local\\Temp\\tmpzjj4cuy9.txt, C, , Setup:AdaptivePass, \"Original\", \"ohm\", \"nH\", \"fF\", \"mSie\", 5000000000, Maxwell, 7, False\n",
      "INFO 11:48AM [get_matrix]: Exporting matrix data to (C:\\Users\\slab\\AppData\\Local\\Temp\\tmp6xlfb3n3.txt, C, , Setup:AdaptivePass, \"Original\", \"ohm\", \"nH\", \"fF\", \"mSie\", 5000000000, Maxwell, 8, False\n",
      "INFO 11:48AM [get_matrix]: Exporting matrix data to (C:\\Users\\slab\\AppData\\Local\\Temp\\tmp95yhpyn_.txt, C, , Setup:AdaptivePass, \"Original\", \"ohm\", \"nH\", \"fF\", \"mSie\", 5000000000, Maxwell, 9, False\n",
      "INFO 11:48AM [get_matrix]: Exporting matrix data to (C:\\Users\\slab\\AppData\\Local\\Temp\\tmpkniyfdmf.txt, C, , Setup:AdaptivePass, \"Original\", \"ohm\", \"nH\", \"fF\", \"mSie\", 5000000000, Maxwell, 10, False\n",
      "INFO 11:48AM [get_matrix]: Exporting matrix data to (C:\\Users\\slab\\AppData\\Local\\Temp\\tmpwt0j8cbn.txt, C, , Setup:LastAdaptive, \"Original\", \"ohm\", \"nH\", \"fF\", \"mSie\", 5000000000, Maxwell, 1, False\n",
      "INFO 11:48AM [get_matrix]: Exporting matrix data to (C:\\Users\\slab\\AppData\\Local\\Temp\\tmpiel_1z67.txt, C, , Setup:AdaptivePass, \"Original\", \"ohm\", \"nH\", \"fF\", \"mSie\", 5000000000, Maxwell, 1, False\n",
      "INFO 11:48AM [get_matrix]: Exporting matrix data to (C:\\Users\\slab\\AppData\\Local\\Temp\\tmpygm50c5m.txt, C, , Setup:AdaptivePass, \"Original\", \"ohm\", \"nH\", \"fF\", \"mSie\", 5000000000, Maxwell, 2, False\n",
      "INFO 11:48AM [get_matrix]: Exporting matrix data to (C:\\Users\\slab\\AppData\\Local\\Temp\\tmpbd9lczu9.txt, C, , Setup:AdaptivePass, \"Original\", \"ohm\", \"nH\", \"fF\", \"mSie\", 5000000000, Maxwell, 3, False\n",
      "INFO 11:48AM [get_matrix]: Exporting matrix data to (C:\\Users\\slab\\AppData\\Local\\Temp\\tmp6n2s0xo5.txt, C, , Setup:AdaptivePass, \"Original\", \"ohm\", \"nH\", \"fF\", \"mSie\", 5000000000, Maxwell, 4, False\n",
      "INFO 11:48AM [get_matrix]: Exporting matrix data to (C:\\Users\\slab\\AppData\\Local\\Temp\\tmpgxpx6xb4.txt, C, , Setup:AdaptivePass, \"Original\", \"ohm\", \"nH\", \"fF\", \"mSie\", 5000000000, Maxwell, 5, False\n",
      "INFO 11:48AM [get_matrix]: Exporting matrix data to (C:\\Users\\slab\\AppData\\Local\\Temp\\tmp1x5ik3_2.txt, C, , Setup:AdaptivePass, \"Original\", \"ohm\", \"nH\", \"fF\", \"mSie\", 5000000000, Maxwell, 6, False\n",
      "INFO 11:48AM [get_matrix]: Exporting matrix data to (C:\\Users\\slab\\AppData\\Local\\Temp\\tmpioodtf13.txt, C, , Setup:AdaptivePass, \"Original\", \"ohm\", \"nH\", \"fF\", \"mSie\", 5000000000, Maxwell, 7, False\n",
      "INFO 11:48AM [get_matrix]: Exporting matrix data to (C:\\Users\\slab\\AppData\\Local\\Temp\\tmp7xw5cpnd.txt, C, , Setup:AdaptivePass, \"Original\", \"ohm\", \"nH\", \"fF\", \"mSie\", 5000000000, Maxwell, 8, False\n",
      "INFO 11:48AM [get_matrix]: Exporting matrix data to (C:\\Users\\slab\\AppData\\Local\\Temp\\tmpigpdlyw2.txt, C, , Setup:AdaptivePass, \"Original\", \"ohm\", \"nH\", \"fF\", \"mSie\", 5000000000, Maxwell, 9, False\n",
      "INFO 11:48AM [get_matrix]: Exporting matrix data to (C:\\Users\\slab\\AppData\\Local\\Temp\\tmp01pyk9l3.txt, C, , Setup:AdaptivePass, \"Original\", \"ohm\", \"nH\", \"fF\", \"mSie\", 5000000000, Maxwell, 10, False\n"
     ]
    },
    {
     "name": "stdout",
     "output_type": "stream",
     "text": [
      "                    a_connector_pad_Q1  ground_main_plane  pad_top_Q1\n",
      "a_connector_pad_Q1            22.18662          -12.57052    -9.29372\n",
      "ground_main_plane            -12.57052          120.03806   -67.76506\n",
      "pad_top_Q1                    -9.29372          -67.76506    80.04217\n"
     ]
    },
    {
     "name": "stderr",
     "output_type": "stream",
     "text": [
      "INFO 11:48AM [connect_design]: \tOpened active design\n",
      "\tDesign:    Design_q3d [Solution type: Q3D]\n",
      "INFO 11:48AM [get_setup]: \tOpened setup `Setup`  (<class 'pyEPR.ansys.AnsysQ3DSetup'>)\n",
      "INFO 11:48AM [analyze]: Analyzing setup Setup\n",
      "INFO 11:48AM [get_matrix]: Exporting matrix data to (C:\\Users\\slab\\AppData\\Local\\Temp\\tmpcxjhgywg.txt, C, , Setup:LastAdaptive, \"Original\", \"ohm\", \"nH\", \"fF\", \"mSie\", 5000000000, Maxwell, 1, False\n",
      "INFO 11:48AM [get_matrix]: Exporting matrix data to (C:\\Users\\slab\\AppData\\Local\\Temp\\tmpfwtgiyc0.txt, C, , Setup:AdaptivePass, \"Original\", \"ohm\", \"nH\", \"fF\", \"mSie\", 5000000000, Maxwell, 1, False\n",
      "INFO 11:48AM [get_matrix]: Exporting matrix data to (C:\\Users\\slab\\AppData\\Local\\Temp\\tmptxmh5g1v.txt, C, , Setup:AdaptivePass, \"Original\", \"ohm\", \"nH\", \"fF\", \"mSie\", 5000000000, Maxwell, 2, False\n",
      "INFO 11:48AM [get_matrix]: Exporting matrix data to (C:\\Users\\slab\\AppData\\Local\\Temp\\tmpamjmn_w6.txt, C, , Setup:AdaptivePass, \"Original\", \"ohm\", \"nH\", \"fF\", \"mSie\", 5000000000, Maxwell, 3, False\n",
      "INFO 11:48AM [get_matrix]: Exporting matrix data to (C:\\Users\\slab\\AppData\\Local\\Temp\\tmpulzq3y12.txt, C, , Setup:AdaptivePass, \"Original\", \"ohm\", \"nH\", \"fF\", \"mSie\", 5000000000, Maxwell, 4, False\n",
      "INFO 11:48AM [get_matrix]: Exporting matrix data to (C:\\Users\\slab\\AppData\\Local\\Temp\\tmpi4li96ck.txt, C, , Setup:AdaptivePass, \"Original\", \"ohm\", \"nH\", \"fF\", \"mSie\", 5000000000, Maxwell, 5, False\n",
      "INFO 11:48AM [get_matrix]: Exporting matrix data to (C:\\Users\\slab\\AppData\\Local\\Temp\\tmpjrqn42hh.txt, C, , Setup:AdaptivePass, \"Original\", \"ohm\", \"nH\", \"fF\", \"mSie\", 5000000000, Maxwell, 6, False\n",
      "INFO 11:48AM [get_matrix]: Exporting matrix data to (C:\\Users\\slab\\AppData\\Local\\Temp\\tmpmijue7fy.txt, C, , Setup:AdaptivePass, \"Original\", \"ohm\", \"nH\", \"fF\", \"mSie\", 5000000000, Maxwell, 7, False\n",
      "INFO 11:48AM [get_matrix]: Exporting matrix data to (C:\\Users\\slab\\AppData\\Local\\Temp\\tmp14f58yjw.txt, C, , Setup:AdaptivePass, \"Original\", \"ohm\", \"nH\", \"fF\", \"mSie\", 5000000000, Maxwell, 8, False\n",
      "INFO 11:48AM [get_matrix]: Exporting matrix data to (C:\\Users\\slab\\AppData\\Local\\Temp\\tmppf3oq7t5.txt, C, , Setup:AdaptivePass, \"Original\", \"ohm\", \"nH\", \"fF\", \"mSie\", 5000000000, Maxwell, 9, False\n",
      "INFO 11:48AM [get_matrix]: Exporting matrix data to (C:\\Users\\slab\\AppData\\Local\\Temp\\tmppum55l8a.txt, C, , Setup:AdaptivePass, \"Original\", \"ohm\", \"nH\", \"fF\", \"mSie\", 5000000000, Maxwell, 10, False\n",
      "INFO 11:48AM [get_matrix]: Exporting matrix data to (C:\\Users\\slab\\AppData\\Local\\Temp\\tmphi1zkha3.txt, C, , Setup:LastAdaptive, \"Original\", \"ohm\", \"nH\", \"fF\", \"mSie\", 5000000000, Maxwell, 1, False\n",
      "INFO 11:48AM [get_matrix]: Exporting matrix data to (C:\\Users\\slab\\AppData\\Local\\Temp\\tmpe86cfy3r.txt, C, , Setup:AdaptivePass, \"Original\", \"ohm\", \"nH\", \"fF\", \"mSie\", 5000000000, Maxwell, 1, False\n",
      "INFO 11:48AM [get_matrix]: Exporting matrix data to (C:\\Users\\slab\\AppData\\Local\\Temp\\tmpfaqumh7i.txt, C, , Setup:AdaptivePass, \"Original\", \"ohm\", \"nH\", \"fF\", \"mSie\", 5000000000, Maxwell, 2, False\n",
      "INFO 11:48AM [get_matrix]: Exporting matrix data to (C:\\Users\\slab\\AppData\\Local\\Temp\\tmpgqg4p23l.txt, C, , Setup:AdaptivePass, \"Original\", \"ohm\", \"nH\", \"fF\", \"mSie\", 5000000000, Maxwell, 3, False\n",
      "INFO 11:48AM [get_matrix]: Exporting matrix data to (C:\\Users\\slab\\AppData\\Local\\Temp\\tmpt3kp1_gu.txt, C, , Setup:AdaptivePass, \"Original\", \"ohm\", \"nH\", \"fF\", \"mSie\", 5000000000, Maxwell, 4, False\n",
      "INFO 11:48AM [get_matrix]: Exporting matrix data to (C:\\Users\\slab\\AppData\\Local\\Temp\\tmp9cpgpm5n.txt, C, , Setup:AdaptivePass, \"Original\", \"ohm\", \"nH\", \"fF\", \"mSie\", 5000000000, Maxwell, 5, False\n",
      "INFO 11:48AM [get_matrix]: Exporting matrix data to (C:\\Users\\slab\\AppData\\Local\\Temp\\tmp4y05u0yx.txt, C, , Setup:AdaptivePass, \"Original\", \"ohm\", \"nH\", \"fF\", \"mSie\", 5000000000, Maxwell, 6, False\n",
      "INFO 11:48AM [get_matrix]: Exporting matrix data to (C:\\Users\\slab\\AppData\\Local\\Temp\\tmpzvxt4dfi.txt, C, , Setup:AdaptivePass, \"Original\", \"ohm\", \"nH\", \"fF\", \"mSie\", 5000000000, Maxwell, 7, False\n",
      "INFO 11:48AM [get_matrix]: Exporting matrix data to (C:\\Users\\slab\\AppData\\Local\\Temp\\tmp588en435.txt, C, , Setup:AdaptivePass, \"Original\", \"ohm\", \"nH\", \"fF\", \"mSie\", 5000000000, Maxwell, 8, False\n",
      "INFO 11:48AM [get_matrix]: Exporting matrix data to (C:\\Users\\slab\\AppData\\Local\\Temp\\tmpbdxr3mg7.txt, C, , Setup:AdaptivePass, \"Original\", \"ohm\", \"nH\", \"fF\", \"mSie\", 5000000000, Maxwell, 9, False\n",
      "INFO 11:48AM [get_matrix]: Exporting matrix data to (C:\\Users\\slab\\AppData\\Local\\Temp\\tmpw5ee_ap1.txt, C, , Setup:AdaptivePass, \"Original\", \"ohm\", \"nH\", \"fF\", \"mSie\", 5000000000, Maxwell, 10, False\n"
     ]
    },
    {
     "name": "stdout",
     "output_type": "stream",
     "text": [
      "                    a_connector_pad_Q1  ground_main_plane  pad_top_Q1\n",
      "a_connector_pad_Q1            22.17248          -12.49289    -9.34469\n",
      "ground_main_plane            -12.49289          123.68223   -71.24226\n",
      "pad_top_Q1                    -9.34469          -71.24226    83.73809\n"
     ]
    },
    {
     "name": "stderr",
     "output_type": "stream",
     "text": [
      "INFO 11:48AM [connect_design]: \tOpened active design\n",
      "\tDesign:    Design_q3d [Solution type: Q3D]\n",
      "INFO 11:48AM [get_setup]: \tOpened setup `Setup`  (<class 'pyEPR.ansys.AnsysQ3DSetup'>)\n",
      "INFO 11:48AM [analyze]: Analyzing setup Setup\n",
      "INFO 11:49AM [get_matrix]: Exporting matrix data to (C:\\Users\\slab\\AppData\\Local\\Temp\\tmpwsetefr4.txt, C, , Setup:LastAdaptive, \"Original\", \"ohm\", \"nH\", \"fF\", \"mSie\", 5000000000, Maxwell, 1, False\n",
      "INFO 11:49AM [get_matrix]: Exporting matrix data to (C:\\Users\\slab\\AppData\\Local\\Temp\\tmpu7ru6jxr.txt, C, , Setup:AdaptivePass, \"Original\", \"ohm\", \"nH\", \"fF\", \"mSie\", 5000000000, Maxwell, 1, False\n",
      "INFO 11:49AM [get_matrix]: Exporting matrix data to (C:\\Users\\slab\\AppData\\Local\\Temp\\tmpxojmb525.txt, C, , Setup:AdaptivePass, \"Original\", \"ohm\", \"nH\", \"fF\", \"mSie\", 5000000000, Maxwell, 2, False\n",
      "INFO 11:49AM [get_matrix]: Exporting matrix data to (C:\\Users\\slab\\AppData\\Local\\Temp\\tmpv_czlb79.txt, C, , Setup:AdaptivePass, \"Original\", \"ohm\", \"nH\", \"fF\", \"mSie\", 5000000000, Maxwell, 3, False\n",
      "INFO 11:49AM [get_matrix]: Exporting matrix data to (C:\\Users\\slab\\AppData\\Local\\Temp\\tmp9ujhpkz9.txt, C, , Setup:AdaptivePass, \"Original\", \"ohm\", \"nH\", \"fF\", \"mSie\", 5000000000, Maxwell, 4, False\n",
      "INFO 11:49AM [get_matrix]: Exporting matrix data to (C:\\Users\\slab\\AppData\\Local\\Temp\\tmpvtgwccvg.txt, C, , Setup:AdaptivePass, \"Original\", \"ohm\", \"nH\", \"fF\", \"mSie\", 5000000000, Maxwell, 5, False\n",
      "INFO 11:49AM [get_matrix]: Exporting matrix data to (C:\\Users\\slab\\AppData\\Local\\Temp\\tmpljjkp6rp.txt, C, , Setup:AdaptivePass, \"Original\", \"ohm\", \"nH\", \"fF\", \"mSie\", 5000000000, Maxwell, 6, False\n",
      "INFO 11:49AM [get_matrix]: Exporting matrix data to (C:\\Users\\slab\\AppData\\Local\\Temp\\tmphx3_su6y.txt, C, , Setup:AdaptivePass, \"Original\", \"ohm\", \"nH\", \"fF\", \"mSie\", 5000000000, Maxwell, 7, False\n",
      "INFO 11:49AM [get_matrix]: Exporting matrix data to (C:\\Users\\slab\\AppData\\Local\\Temp\\tmpxwb0idt3.txt, C, , Setup:AdaptivePass, \"Original\", \"ohm\", \"nH\", \"fF\", \"mSie\", 5000000000, Maxwell, 8, False\n",
      "INFO 11:49AM [get_matrix]: Exporting matrix data to (C:\\Users\\slab\\AppData\\Local\\Temp\\tmpp7uyjl79.txt, C, , Setup:AdaptivePass, \"Original\", \"ohm\", \"nH\", \"fF\", \"mSie\", 5000000000, Maxwell, 9, False\n",
      "INFO 11:49AM [get_matrix]: Exporting matrix data to (C:\\Users\\slab\\AppData\\Local\\Temp\\tmp_028qq89.txt, C, , Setup:AdaptivePass, \"Original\", \"ohm\", \"nH\", \"fF\", \"mSie\", 5000000000, Maxwell, 10, False\n",
      "INFO 11:49AM [get_matrix]: Exporting matrix data to (C:\\Users\\slab\\AppData\\Local\\Temp\\tmphwy4jmby.txt, C, , Setup:LastAdaptive, \"Original\", \"ohm\", \"nH\", \"fF\", \"mSie\", 5000000000, Maxwell, 1, False\n",
      "INFO 11:49AM [get_matrix]: Exporting matrix data to (C:\\Users\\slab\\AppData\\Local\\Temp\\tmpktsgohbv.txt, C, , Setup:AdaptivePass, \"Original\", \"ohm\", \"nH\", \"fF\", \"mSie\", 5000000000, Maxwell, 1, False\n",
      "INFO 11:49AM [get_matrix]: Exporting matrix data to (C:\\Users\\slab\\AppData\\Local\\Temp\\tmp8ahiaxec.txt, C, , Setup:AdaptivePass, \"Original\", \"ohm\", \"nH\", \"fF\", \"mSie\", 5000000000, Maxwell, 2, False\n",
      "INFO 11:49AM [get_matrix]: Exporting matrix data to (C:\\Users\\slab\\AppData\\Local\\Temp\\tmpj78z8q27.txt, C, , Setup:AdaptivePass, \"Original\", \"ohm\", \"nH\", \"fF\", \"mSie\", 5000000000, Maxwell, 3, False\n",
      "INFO 11:49AM [get_matrix]: Exporting matrix data to (C:\\Users\\slab\\AppData\\Local\\Temp\\tmpl4bqlspc.txt, C, , Setup:AdaptivePass, \"Original\", \"ohm\", \"nH\", \"fF\", \"mSie\", 5000000000, Maxwell, 4, False\n",
      "INFO 11:49AM [get_matrix]: Exporting matrix data to (C:\\Users\\slab\\AppData\\Local\\Temp\\tmpluxz5m01.txt, C, , Setup:AdaptivePass, \"Original\", \"ohm\", \"nH\", \"fF\", \"mSie\", 5000000000, Maxwell, 5, False\n",
      "INFO 11:49AM [get_matrix]: Exporting matrix data to (C:\\Users\\slab\\AppData\\Local\\Temp\\tmp5rk6bnuz.txt, C, , Setup:AdaptivePass, \"Original\", \"ohm\", \"nH\", \"fF\", \"mSie\", 5000000000, Maxwell, 6, False\n",
      "INFO 11:49AM [get_matrix]: Exporting matrix data to (C:\\Users\\slab\\AppData\\Local\\Temp\\tmpycqp7pto.txt, C, , Setup:AdaptivePass, \"Original\", \"ohm\", \"nH\", \"fF\", \"mSie\", 5000000000, Maxwell, 7, False\n",
      "INFO 11:49AM [get_matrix]: Exporting matrix data to (C:\\Users\\slab\\AppData\\Local\\Temp\\tmpmqt5ro18.txt, C, , Setup:AdaptivePass, \"Original\", \"ohm\", \"nH\", \"fF\", \"mSie\", 5000000000, Maxwell, 8, False\n",
      "INFO 11:49AM [get_matrix]: Exporting matrix data to (C:\\Users\\slab\\AppData\\Local\\Temp\\tmpk2c_ss0q.txt, C, , Setup:AdaptivePass, \"Original\", \"ohm\", \"nH\", \"fF\", \"mSie\", 5000000000, Maxwell, 9, False\n",
      "INFO 11:49AM [get_matrix]: Exporting matrix data to (C:\\Users\\slab\\AppData\\Local\\Temp\\tmp_5cn_8hj.txt, C, , Setup:AdaptivePass, \"Original\", \"ohm\", \"nH\", \"fF\", \"mSie\", 5000000000, Maxwell, 10, False\n"
     ]
    },
    {
     "name": "stdout",
     "output_type": "stream",
     "text": [
      "                    a_connector_pad_Q1  ground_main_plane  pad_top_Q1\n",
      "a_connector_pad_Q1            22.17981          -12.45968    -9.38172\n",
      "ground_main_plane            -12.45968          127.15165   -74.67203\n",
      "pad_top_Q1                    -9.38172          -74.67203    87.39928\n"
     ]
    },
    {
     "name": "stderr",
     "output_type": "stream",
     "text": [
      "INFO 11:49AM [connect_design]: \tOpened active design\n",
      "\tDesign:    Design_q3d [Solution type: Q3D]\n",
      "INFO 11:49AM [get_setup]: \tOpened setup `Setup`  (<class 'pyEPR.ansys.AnsysQ3DSetup'>)\n",
      "INFO 11:49AM [analyze]: Analyzing setup Setup\n",
      "INFO 11:49AM [get_matrix]: Exporting matrix data to (C:\\Users\\slab\\AppData\\Local\\Temp\\tmp25uzjfbw.txt, C, , Setup:LastAdaptive, \"Original\", \"ohm\", \"nH\", \"fF\", \"mSie\", 5000000000, Maxwell, 1, False\n",
      "INFO 11:49AM [get_matrix]: Exporting matrix data to (C:\\Users\\slab\\AppData\\Local\\Temp\\tmp9zw51x_e.txt, C, , Setup:AdaptivePass, \"Original\", \"ohm\", \"nH\", \"fF\", \"mSie\", 5000000000, Maxwell, 1, False\n",
      "INFO 11:49AM [get_matrix]: Exporting matrix data to (C:\\Users\\slab\\AppData\\Local\\Temp\\tmp_wml_g1c.txt, C, , Setup:AdaptivePass, \"Original\", \"ohm\", \"nH\", \"fF\", \"mSie\", 5000000000, Maxwell, 2, False\n",
      "INFO 11:49AM [get_matrix]: Exporting matrix data to (C:\\Users\\slab\\AppData\\Local\\Temp\\tmpy8dbu513.txt, C, , Setup:AdaptivePass, \"Original\", \"ohm\", \"nH\", \"fF\", \"mSie\", 5000000000, Maxwell, 3, False\n",
      "INFO 11:49AM [get_matrix]: Exporting matrix data to (C:\\Users\\slab\\AppData\\Local\\Temp\\tmpbqyp3tfg.txt, C, , Setup:AdaptivePass, \"Original\", \"ohm\", \"nH\", \"fF\", \"mSie\", 5000000000, Maxwell, 4, False\n",
      "INFO 11:49AM [get_matrix]: Exporting matrix data to (C:\\Users\\slab\\AppData\\Local\\Temp\\tmpiockzvx8.txt, C, , Setup:AdaptivePass, \"Original\", \"ohm\", \"nH\", \"fF\", \"mSie\", 5000000000, Maxwell, 5, False\n",
      "INFO 11:49AM [get_matrix]: Exporting matrix data to (C:\\Users\\slab\\AppData\\Local\\Temp\\tmp3wa8f1iv.txt, C, , Setup:AdaptivePass, \"Original\", \"ohm\", \"nH\", \"fF\", \"mSie\", 5000000000, Maxwell, 6, False\n",
      "INFO 11:49AM [get_matrix]: Exporting matrix data to (C:\\Users\\slab\\AppData\\Local\\Temp\\tmpuzhshml9.txt, C, , Setup:AdaptivePass, \"Original\", \"ohm\", \"nH\", \"fF\", \"mSie\", 5000000000, Maxwell, 7, False\n",
      "INFO 11:49AM [get_matrix]: Exporting matrix data to (C:\\Users\\slab\\AppData\\Local\\Temp\\tmpmoucwpin.txt, C, , Setup:AdaptivePass, \"Original\", \"ohm\", \"nH\", \"fF\", \"mSie\", 5000000000, Maxwell, 8, False\n",
      "INFO 11:49AM [get_matrix]: Exporting matrix data to (C:\\Users\\slab\\AppData\\Local\\Temp\\tmpse2n476d.txt, C, , Setup:AdaptivePass, \"Original\", \"ohm\", \"nH\", \"fF\", \"mSie\", 5000000000, Maxwell, 9, False\n",
      "INFO 11:49AM [get_matrix]: Exporting matrix data to (C:\\Users\\slab\\AppData\\Local\\Temp\\tmpum93l7bt.txt, C, , Setup:AdaptivePass, \"Original\", \"ohm\", \"nH\", \"fF\", \"mSie\", 5000000000, Maxwell, 10, False\n",
      "INFO 11:49AM [get_matrix]: Exporting matrix data to (C:\\Users\\slab\\AppData\\Local\\Temp\\tmpwqn432ls.txt, C, , Setup:LastAdaptive, \"Original\", \"ohm\", \"nH\", \"fF\", \"mSie\", 5000000000, Maxwell, 1, False\n",
      "INFO 11:49AM [get_matrix]: Exporting matrix data to (C:\\Users\\slab\\AppData\\Local\\Temp\\tmp9j_qac05.txt, C, , Setup:AdaptivePass, \"Original\", \"ohm\", \"nH\", \"fF\", \"mSie\", 5000000000, Maxwell, 1, False\n",
      "INFO 11:49AM [get_matrix]: Exporting matrix data to (C:\\Users\\slab\\AppData\\Local\\Temp\\tmpprd1wntv.txt, C, , Setup:AdaptivePass, \"Original\", \"ohm\", \"nH\", \"fF\", \"mSie\", 5000000000, Maxwell, 2, False\n",
      "INFO 11:49AM [get_matrix]: Exporting matrix data to (C:\\Users\\slab\\AppData\\Local\\Temp\\tmplyfn7og5.txt, C, , Setup:AdaptivePass, \"Original\", \"ohm\", \"nH\", \"fF\", \"mSie\", 5000000000, Maxwell, 3, False\n",
      "INFO 11:49AM [get_matrix]: Exporting matrix data to (C:\\Users\\slab\\AppData\\Local\\Temp\\tmp9c74h4gc.txt, C, , Setup:AdaptivePass, \"Original\", \"ohm\", \"nH\", \"fF\", \"mSie\", 5000000000, Maxwell, 4, False\n",
      "INFO 11:49AM [get_matrix]: Exporting matrix data to (C:\\Users\\slab\\AppData\\Local\\Temp\\tmpqdmddvvn.txt, C, , Setup:AdaptivePass, \"Original\", \"ohm\", \"nH\", \"fF\", \"mSie\", 5000000000, Maxwell, 5, False\n",
      "INFO 11:49AM [get_matrix]: Exporting matrix data to (C:\\Users\\slab\\AppData\\Local\\Temp\\tmp6dtbv5dw.txt, C, , Setup:AdaptivePass, \"Original\", \"ohm\", \"nH\", \"fF\", \"mSie\", 5000000000, Maxwell, 6, False\n",
      "INFO 11:49AM [get_matrix]: Exporting matrix data to (C:\\Users\\slab\\AppData\\Local\\Temp\\tmp53zgkwly.txt, C, , Setup:AdaptivePass, \"Original\", \"ohm\", \"nH\", \"fF\", \"mSie\", 5000000000, Maxwell, 7, False\n",
      "INFO 11:49AM [get_matrix]: Exporting matrix data to (C:\\Users\\slab\\AppData\\Local\\Temp\\tmp0m2ku34q.txt, C, , Setup:AdaptivePass, \"Original\", \"ohm\", \"nH\", \"fF\", \"mSie\", 5000000000, Maxwell, 8, False\n",
      "INFO 11:49AM [get_matrix]: Exporting matrix data to (C:\\Users\\slab\\AppData\\Local\\Temp\\tmpiv7rlyl9.txt, C, , Setup:AdaptivePass, \"Original\", \"ohm\", \"nH\", \"fF\", \"mSie\", 5000000000, Maxwell, 9, False\n",
      "INFO 11:49AM [get_matrix]: Exporting matrix data to (C:\\Users\\slab\\AppData\\Local\\Temp\\tmpz55oq_yd.txt, C, , Setup:AdaptivePass, \"Original\", \"ohm\", \"nH\", \"fF\", \"mSie\", 5000000000, Maxwell, 10, False\n"
     ]
    },
    {
     "name": "stdout",
     "output_type": "stream",
     "text": [
      "                    a_connector_pad_Q1  ground_main_plane  pad_top_Q1\n",
      "a_connector_pad_Q1            22.15304          -12.42103    -9.39176\n",
      "ground_main_plane            -12.42103          130.65641   -78.08556\n",
      "pad_top_Q1                    -9.39176          -78.08556    91.00439\n"
     ]
    },
    {
     "name": "stderr",
     "output_type": "stream",
     "text": [
      "INFO 11:49AM [connect_design]: \tOpened active design\n",
      "\tDesign:    Design_q3d [Solution type: Q3D]\n",
      "INFO 11:50AM [get_setup]: \tOpened setup `Setup`  (<class 'pyEPR.ansys.AnsysQ3DSetup'>)\n",
      "INFO 11:50AM [analyze]: Analyzing setup Setup\n",
      "INFO 11:50AM [get_matrix]: Exporting matrix data to (C:\\Users\\slab\\AppData\\Local\\Temp\\tmp6z1b0zf9.txt, C, , Setup:LastAdaptive, \"Original\", \"ohm\", \"nH\", \"fF\", \"mSie\", 5000000000, Maxwell, 1, False\n",
      "INFO 11:50AM [get_matrix]: Exporting matrix data to (C:\\Users\\slab\\AppData\\Local\\Temp\\tmp27cw5ypk.txt, C, , Setup:AdaptivePass, \"Original\", \"ohm\", \"nH\", \"fF\", \"mSie\", 5000000000, Maxwell, 1, False\n",
      "INFO 11:50AM [get_matrix]: Exporting matrix data to (C:\\Users\\slab\\AppData\\Local\\Temp\\tmp3wcs22z3.txt, C, , Setup:AdaptivePass, \"Original\", \"ohm\", \"nH\", \"fF\", \"mSie\", 5000000000, Maxwell, 2, False\n",
      "INFO 11:50AM [get_matrix]: Exporting matrix data to (C:\\Users\\slab\\AppData\\Local\\Temp\\tmpau4nam15.txt, C, , Setup:AdaptivePass, \"Original\", \"ohm\", \"nH\", \"fF\", \"mSie\", 5000000000, Maxwell, 3, False\n",
      "INFO 11:50AM [get_matrix]: Exporting matrix data to (C:\\Users\\slab\\AppData\\Local\\Temp\\tmpopz8wjuu.txt, C, , Setup:AdaptivePass, \"Original\", \"ohm\", \"nH\", \"fF\", \"mSie\", 5000000000, Maxwell, 4, False\n",
      "INFO 11:50AM [get_matrix]: Exporting matrix data to (C:\\Users\\slab\\AppData\\Local\\Temp\\tmphbvfa3ln.txt, C, , Setup:AdaptivePass, \"Original\", \"ohm\", \"nH\", \"fF\", \"mSie\", 5000000000, Maxwell, 5, False\n",
      "INFO 11:50AM [get_matrix]: Exporting matrix data to (C:\\Users\\slab\\AppData\\Local\\Temp\\tmp212_0jn9.txt, C, , Setup:AdaptivePass, \"Original\", \"ohm\", \"nH\", \"fF\", \"mSie\", 5000000000, Maxwell, 6, False\n",
      "INFO 11:50AM [get_matrix]: Exporting matrix data to (C:\\Users\\slab\\AppData\\Local\\Temp\\tmpzdwu7zbl.txt, C, , Setup:AdaptivePass, \"Original\", \"ohm\", \"nH\", \"fF\", \"mSie\", 5000000000, Maxwell, 7, False\n",
      "INFO 11:50AM [get_matrix]: Exporting matrix data to (C:\\Users\\slab\\AppData\\Local\\Temp\\tmp5tzwm_w9.txt, C, , Setup:AdaptivePass, \"Original\", \"ohm\", \"nH\", \"fF\", \"mSie\", 5000000000, Maxwell, 8, False\n",
      "INFO 11:50AM [get_matrix]: Exporting matrix data to (C:\\Users\\slab\\AppData\\Local\\Temp\\tmps1xrw7hb.txt, C, , Setup:AdaptivePass, \"Original\", \"ohm\", \"nH\", \"fF\", \"mSie\", 5000000000, Maxwell, 9, False\n",
      "INFO 11:50AM [get_matrix]: Exporting matrix data to (C:\\Users\\slab\\AppData\\Local\\Temp\\tmp3mvodrnx.txt, C, , Setup:AdaptivePass, \"Original\", \"ohm\", \"nH\", \"fF\", \"mSie\", 5000000000, Maxwell, 10, False\n",
      "INFO 11:50AM [get_matrix]: Exporting matrix data to (C:\\Users\\slab\\AppData\\Local\\Temp\\tmp52a795aa.txt, C, , Setup:LastAdaptive, \"Original\", \"ohm\", \"nH\", \"fF\", \"mSie\", 5000000000, Maxwell, 1, False\n",
      "INFO 11:50AM [get_matrix]: Exporting matrix data to (C:\\Users\\slab\\AppData\\Local\\Temp\\tmp_jgm30xh.txt, C, , Setup:AdaptivePass, \"Original\", \"ohm\", \"nH\", \"fF\", \"mSie\", 5000000000, Maxwell, 1, False\n",
      "INFO 11:50AM [get_matrix]: Exporting matrix data to (C:\\Users\\slab\\AppData\\Local\\Temp\\tmpn4fbsl0w.txt, C, , Setup:AdaptivePass, \"Original\", \"ohm\", \"nH\", \"fF\", \"mSie\", 5000000000, Maxwell, 2, False\n",
      "INFO 11:50AM [get_matrix]: Exporting matrix data to (C:\\Users\\slab\\AppData\\Local\\Temp\\tmp20pxn9rc.txt, C, , Setup:AdaptivePass, \"Original\", \"ohm\", \"nH\", \"fF\", \"mSie\", 5000000000, Maxwell, 3, False\n",
      "INFO 11:50AM [get_matrix]: Exporting matrix data to (C:\\Users\\slab\\AppData\\Local\\Temp\\tmpid17ef76.txt, C, , Setup:AdaptivePass, \"Original\", \"ohm\", \"nH\", \"fF\", \"mSie\", 5000000000, Maxwell, 4, False\n",
      "INFO 11:50AM [get_matrix]: Exporting matrix data to (C:\\Users\\slab\\AppData\\Local\\Temp\\tmp25vfy4um.txt, C, , Setup:AdaptivePass, \"Original\", \"ohm\", \"nH\", \"fF\", \"mSie\", 5000000000, Maxwell, 5, False\n",
      "INFO 11:50AM [get_matrix]: Exporting matrix data to (C:\\Users\\slab\\AppData\\Local\\Temp\\tmpxvutodrn.txt, C, , Setup:AdaptivePass, \"Original\", \"ohm\", \"nH\", \"fF\", \"mSie\", 5000000000, Maxwell, 6, False\n",
      "INFO 11:50AM [get_matrix]: Exporting matrix data to (C:\\Users\\slab\\AppData\\Local\\Temp\\tmppyz_rbaj.txt, C, , Setup:AdaptivePass, \"Original\", \"ohm\", \"nH\", \"fF\", \"mSie\", 5000000000, Maxwell, 7, False\n",
      "INFO 11:50AM [get_matrix]: Exporting matrix data to (C:\\Users\\slab\\AppData\\Local\\Temp\\tmpzvv877nf.txt, C, , Setup:AdaptivePass, \"Original\", \"ohm\", \"nH\", \"fF\", \"mSie\", 5000000000, Maxwell, 8, False\n",
      "INFO 11:50AM [get_matrix]: Exporting matrix data to (C:\\Users\\slab\\AppData\\Local\\Temp\\tmp1wiucqm5.txt, C, , Setup:AdaptivePass, \"Original\", \"ohm\", \"nH\", \"fF\", \"mSie\", 5000000000, Maxwell, 9, False\n",
      "INFO 11:50AM [get_matrix]: Exporting matrix data to (C:\\Users\\slab\\AppData\\Local\\Temp\\tmpi9avczul.txt, C, , Setup:AdaptivePass, \"Original\", \"ohm\", \"nH\", \"fF\", \"mSie\", 5000000000, Maxwell, 10, False\n"
     ]
    },
    {
     "name": "stdout",
     "output_type": "stream",
     "text": [
      "                    a_connector_pad_Q1  ground_main_plane  pad_top_Q1\n",
      "a_connector_pad_Q1            22.14112          -12.39473    -9.40828\n",
      "ground_main_plane            -12.39473          134.07255   -81.38544\n",
      "pad_top_Q1                    -9.40828          -81.38544    94.50956\n"
     ]
    },
    {
     "name": "stderr",
     "output_type": "stream",
     "text": [
      "INFO 11:50AM [connect_design]: \tOpened active design\n",
      "\tDesign:    Design_q3d [Solution type: Q3D]\n",
      "INFO 11:50AM [get_setup]: \tOpened setup `Setup`  (<class 'pyEPR.ansys.AnsysQ3DSetup'>)\n",
      "INFO 11:50AM [analyze]: Analyzing setup Setup\n",
      "INFO 11:51AM [get_matrix]: Exporting matrix data to (C:\\Users\\slab\\AppData\\Local\\Temp\\tmpdds0dqi1.txt, C, , Setup:LastAdaptive, \"Original\", \"ohm\", \"nH\", \"fF\", \"mSie\", 5000000000, Maxwell, 1, False\n",
      "INFO 11:51AM [get_matrix]: Exporting matrix data to (C:\\Users\\slab\\AppData\\Local\\Temp\\tmpkyyqo51s.txt, C, , Setup:AdaptivePass, \"Original\", \"ohm\", \"nH\", \"fF\", \"mSie\", 5000000000, Maxwell, 1, False\n",
      "INFO 11:51AM [get_matrix]: Exporting matrix data to (C:\\Users\\slab\\AppData\\Local\\Temp\\tmp6u93puhu.txt, C, , Setup:AdaptivePass, \"Original\", \"ohm\", \"nH\", \"fF\", \"mSie\", 5000000000, Maxwell, 2, False\n",
      "INFO 11:51AM [get_matrix]: Exporting matrix data to (C:\\Users\\slab\\AppData\\Local\\Temp\\tmp3x5e6qwp.txt, C, , Setup:AdaptivePass, \"Original\", \"ohm\", \"nH\", \"fF\", \"mSie\", 5000000000, Maxwell, 3, False\n",
      "INFO 11:51AM [get_matrix]: Exporting matrix data to (C:\\Users\\slab\\AppData\\Local\\Temp\\tmpgvcndx1c.txt, C, , Setup:AdaptivePass, \"Original\", \"ohm\", \"nH\", \"fF\", \"mSie\", 5000000000, Maxwell, 4, False\n",
      "INFO 11:51AM [get_matrix]: Exporting matrix data to (C:\\Users\\slab\\AppData\\Local\\Temp\\tmpr5eg0erh.txt, C, , Setup:AdaptivePass, \"Original\", \"ohm\", \"nH\", \"fF\", \"mSie\", 5000000000, Maxwell, 5, False\n",
      "INFO 11:51AM [get_matrix]: Exporting matrix data to (C:\\Users\\slab\\AppData\\Local\\Temp\\tmp_74baiti.txt, C, , Setup:AdaptivePass, \"Original\", \"ohm\", \"nH\", \"fF\", \"mSie\", 5000000000, Maxwell, 6, False\n",
      "INFO 11:51AM [get_matrix]: Exporting matrix data to (C:\\Users\\slab\\AppData\\Local\\Temp\\tmp0o18i1mm.txt, C, , Setup:AdaptivePass, \"Original\", \"ohm\", \"nH\", \"fF\", \"mSie\", 5000000000, Maxwell, 7, False\n",
      "INFO 11:51AM [get_matrix]: Exporting matrix data to (C:\\Users\\slab\\AppData\\Local\\Temp\\tmprellrpgc.txt, C, , Setup:AdaptivePass, \"Original\", \"ohm\", \"nH\", \"fF\", \"mSie\", 5000000000, Maxwell, 8, False\n",
      "INFO 11:51AM [get_matrix]: Exporting matrix data to (C:\\Users\\slab\\AppData\\Local\\Temp\\tmp0ktr3iff.txt, C, , Setup:AdaptivePass, \"Original\", \"ohm\", \"nH\", \"fF\", \"mSie\", 5000000000, Maxwell, 9, False\n",
      "INFO 11:51AM [get_matrix]: Exporting matrix data to (C:\\Users\\slab\\AppData\\Local\\Temp\\tmpza8tu3wg.txt, C, , Setup:AdaptivePass, \"Original\", \"ohm\", \"nH\", \"fF\", \"mSie\", 5000000000, Maxwell, 10, False\n",
      "INFO 11:51AM [get_matrix]: Exporting matrix data to (C:\\Users\\slab\\AppData\\Local\\Temp\\tmpmxz805du.txt, C, , Setup:LastAdaptive, \"Original\", \"ohm\", \"nH\", \"fF\", \"mSie\", 5000000000, Maxwell, 1, False\n",
      "INFO 11:51AM [get_matrix]: Exporting matrix data to (C:\\Users\\slab\\AppData\\Local\\Temp\\tmpugl0crd5.txt, C, , Setup:AdaptivePass, \"Original\", \"ohm\", \"nH\", \"fF\", \"mSie\", 5000000000, Maxwell, 1, False\n",
      "INFO 11:51AM [get_matrix]: Exporting matrix data to (C:\\Users\\slab\\AppData\\Local\\Temp\\tmpia53ifr_.txt, C, , Setup:AdaptivePass, \"Original\", \"ohm\", \"nH\", \"fF\", \"mSie\", 5000000000, Maxwell, 2, False\n",
      "INFO 11:51AM [get_matrix]: Exporting matrix data to (C:\\Users\\slab\\AppData\\Local\\Temp\\tmp56_xuakw.txt, C, , Setup:AdaptivePass, \"Original\", \"ohm\", \"nH\", \"fF\", \"mSie\", 5000000000, Maxwell, 3, False\n",
      "INFO 11:51AM [get_matrix]: Exporting matrix data to (C:\\Users\\slab\\AppData\\Local\\Temp\\tmprvhidyh7.txt, C, , Setup:AdaptivePass, \"Original\", \"ohm\", \"nH\", \"fF\", \"mSie\", 5000000000, Maxwell, 4, False\n",
      "INFO 11:51AM [get_matrix]: Exporting matrix data to (C:\\Users\\slab\\AppData\\Local\\Temp\\tmptnft5erq.txt, C, , Setup:AdaptivePass, \"Original\", \"ohm\", \"nH\", \"fF\", \"mSie\", 5000000000, Maxwell, 5, False\n",
      "INFO 11:51AM [get_matrix]: Exporting matrix data to (C:\\Users\\slab\\AppData\\Local\\Temp\\tmpwty8dtyc.txt, C, , Setup:AdaptivePass, \"Original\", \"ohm\", \"nH\", \"fF\", \"mSie\", 5000000000, Maxwell, 6, False\n",
      "INFO 11:51AM [get_matrix]: Exporting matrix data to (C:\\Users\\slab\\AppData\\Local\\Temp\\tmp21pagkda.txt, C, , Setup:AdaptivePass, \"Original\", \"ohm\", \"nH\", \"fF\", \"mSie\", 5000000000, Maxwell, 7, False\n",
      "INFO 11:51AM [get_matrix]: Exporting matrix data to (C:\\Users\\slab\\AppData\\Local\\Temp\\tmpttxkhi09.txt, C, , Setup:AdaptivePass, \"Original\", \"ohm\", \"nH\", \"fF\", \"mSie\", 5000000000, Maxwell, 8, False\n",
      "INFO 11:51AM [get_matrix]: Exporting matrix data to (C:\\Users\\slab\\AppData\\Local\\Temp\\tmpl_u2cp0n.txt, C, , Setup:AdaptivePass, \"Original\", \"ohm\", \"nH\", \"fF\", \"mSie\", 5000000000, Maxwell, 9, False\n",
      "INFO 11:51AM [get_matrix]: Exporting matrix data to (C:\\Users\\slab\\AppData\\Local\\Temp\\tmpcgeg5toj.txt, C, , Setup:AdaptivePass, \"Original\", \"ohm\", \"nH\", \"fF\", \"mSie\", 5000000000, Maxwell, 10, False\n"
     ]
    },
    {
     "name": "stdout",
     "output_type": "stream",
     "text": [
      "                    a_connector_pad_Q1  ground_main_plane  pad_top_Q1\n",
      "a_connector_pad_Q1            22.14579          -12.36362    -9.44900\n",
      "ground_main_plane            -12.36362          137.51739   -84.69954\n",
      "pad_top_Q1                    -9.44900          -84.69954    98.04613\n"
     ]
    },
    {
     "name": "stderr",
     "output_type": "stream",
     "text": [
      "INFO 11:51AM [connect_design]: \tOpened active design\n",
      "\tDesign:    Design_q3d [Solution type: Q3D]\n",
      "INFO 11:51AM [get_setup]: \tOpened setup `Setup`  (<class 'pyEPR.ansys.AnsysQ3DSetup'>)\n",
      "INFO 11:51AM [analyze]: Analyzing setup Setup\n",
      "INFO 11:51AM [get_matrix]: Exporting matrix data to (C:\\Users\\slab\\AppData\\Local\\Temp\\tmpr25d0czx.txt, C, , Setup:LastAdaptive, \"Original\", \"ohm\", \"nH\", \"fF\", \"mSie\", 5000000000, Maxwell, 1, False\n",
      "INFO 11:51AM [get_matrix]: Exporting matrix data to (C:\\Users\\slab\\AppData\\Local\\Temp\\tmplmqw_2vo.txt, C, , Setup:AdaptivePass, \"Original\", \"ohm\", \"nH\", \"fF\", \"mSie\", 5000000000, Maxwell, 1, False\n",
      "INFO 11:51AM [get_matrix]: Exporting matrix data to (C:\\Users\\slab\\AppData\\Local\\Temp\\tmpz_nfa5fr.txt, C, , Setup:AdaptivePass, \"Original\", \"ohm\", \"nH\", \"fF\", \"mSie\", 5000000000, Maxwell, 2, False\n",
      "INFO 11:51AM [get_matrix]: Exporting matrix data to (C:\\Users\\slab\\AppData\\Local\\Temp\\tmpwbtu2mm9.txt, C, , Setup:AdaptivePass, \"Original\", \"ohm\", \"nH\", \"fF\", \"mSie\", 5000000000, Maxwell, 3, False\n",
      "INFO 11:51AM [get_matrix]: Exporting matrix data to (C:\\Users\\slab\\AppData\\Local\\Temp\\tmp1r6ctir5.txt, C, , Setup:AdaptivePass, \"Original\", \"ohm\", \"nH\", \"fF\", \"mSie\", 5000000000, Maxwell, 4, False\n",
      "INFO 11:51AM [get_matrix]: Exporting matrix data to (C:\\Users\\slab\\AppData\\Local\\Temp\\tmpv198vxie.txt, C, , Setup:AdaptivePass, \"Original\", \"ohm\", \"nH\", \"fF\", \"mSie\", 5000000000, Maxwell, 5, False\n",
      "INFO 11:51AM [get_matrix]: Exporting matrix data to (C:\\Users\\slab\\AppData\\Local\\Temp\\tmpx7k8ks6i.txt, C, , Setup:AdaptivePass, \"Original\", \"ohm\", \"nH\", \"fF\", \"mSie\", 5000000000, Maxwell, 6, False\n",
      "INFO 11:51AM [get_matrix]: Exporting matrix data to (C:\\Users\\slab\\AppData\\Local\\Temp\\tmpk9spbc5l.txt, C, , Setup:AdaptivePass, \"Original\", \"ohm\", \"nH\", \"fF\", \"mSie\", 5000000000, Maxwell, 7, False\n",
      "INFO 11:51AM [get_matrix]: Exporting matrix data to (C:\\Users\\slab\\AppData\\Local\\Temp\\tmpl0i3mfsg.txt, C, , Setup:AdaptivePass, \"Original\", \"ohm\", \"nH\", \"fF\", \"mSie\", 5000000000, Maxwell, 8, False\n",
      "INFO 11:51AM [get_matrix]: Exporting matrix data to (C:\\Users\\slab\\AppData\\Local\\Temp\\tmp0clvcobx.txt, C, , Setup:AdaptivePass, \"Original\", \"ohm\", \"nH\", \"fF\", \"mSie\", 5000000000, Maxwell, 9, False\n",
      "INFO 11:51AM [get_matrix]: Exporting matrix data to (C:\\Users\\slab\\AppData\\Local\\Temp\\tmph6e9g7h9.txt, C, , Setup:AdaptivePass, \"Original\", \"ohm\", \"nH\", \"fF\", \"mSie\", 5000000000, Maxwell, 10, False\n",
      "INFO 11:51AM [get_matrix]: Exporting matrix data to (C:\\Users\\slab\\AppData\\Local\\Temp\\tmp6dpcfoin.txt, C, , Setup:LastAdaptive, \"Original\", \"ohm\", \"nH\", \"fF\", \"mSie\", 5000000000, Maxwell, 1, False\n",
      "INFO 11:51AM [get_matrix]: Exporting matrix data to (C:\\Users\\slab\\AppData\\Local\\Temp\\tmphl62otts.txt, C, , Setup:AdaptivePass, \"Original\", \"ohm\", \"nH\", \"fF\", \"mSie\", 5000000000, Maxwell, 1, False\n",
      "INFO 11:51AM [get_matrix]: Exporting matrix data to (C:\\Users\\slab\\AppData\\Local\\Temp\\tmpicllsc16.txt, C, , Setup:AdaptivePass, \"Original\", \"ohm\", \"nH\", \"fF\", \"mSie\", 5000000000, Maxwell, 2, False\n",
      "INFO 11:51AM [get_matrix]: Exporting matrix data to (C:\\Users\\slab\\AppData\\Local\\Temp\\tmp2jnq1pwt.txt, C, , Setup:AdaptivePass, \"Original\", \"ohm\", \"nH\", \"fF\", \"mSie\", 5000000000, Maxwell, 3, False\n",
      "INFO 11:51AM [get_matrix]: Exporting matrix data to (C:\\Users\\slab\\AppData\\Local\\Temp\\tmp4tbrtkfv.txt, C, , Setup:AdaptivePass, \"Original\", \"ohm\", \"nH\", \"fF\", \"mSie\", 5000000000, Maxwell, 4, False\n",
      "INFO 11:51AM [get_matrix]: Exporting matrix data to (C:\\Users\\slab\\AppData\\Local\\Temp\\tmpesel5lyf.txt, C, , Setup:AdaptivePass, \"Original\", \"ohm\", \"nH\", \"fF\", \"mSie\", 5000000000, Maxwell, 5, False\n",
      "INFO 11:51AM [get_matrix]: Exporting matrix data to (C:\\Users\\slab\\AppData\\Local\\Temp\\tmpzi9i4oeh.txt, C, , Setup:AdaptivePass, \"Original\", \"ohm\", \"nH\", \"fF\", \"mSie\", 5000000000, Maxwell, 6, False\n",
      "INFO 11:51AM [get_matrix]: Exporting matrix data to (C:\\Users\\slab\\AppData\\Local\\Temp\\tmpp0b0jwla.txt, C, , Setup:AdaptivePass, \"Original\", \"ohm\", \"nH\", \"fF\", \"mSie\", 5000000000, Maxwell, 7, False\n",
      "INFO 11:51AM [get_matrix]: Exporting matrix data to (C:\\Users\\slab\\AppData\\Local\\Temp\\tmpwuz4_i5l.txt, C, , Setup:AdaptivePass, \"Original\", \"ohm\", \"nH\", \"fF\", \"mSie\", 5000000000, Maxwell, 8, False\n",
      "INFO 11:51AM [get_matrix]: Exporting matrix data to (C:\\Users\\slab\\AppData\\Local\\Temp\\tmpmzsl_6it.txt, C, , Setup:AdaptivePass, \"Original\", \"ohm\", \"nH\", \"fF\", \"mSie\", 5000000000, Maxwell, 9, False\n",
      "INFO 11:51AM [get_matrix]: Exporting matrix data to (C:\\Users\\slab\\AppData\\Local\\Temp\\tmp30isok15.txt, C, , Setup:AdaptivePass, \"Original\", \"ohm\", \"nH\", \"fF\", \"mSie\", 5000000000, Maxwell, 10, False\n"
     ]
    },
    {
     "name": "stdout",
     "output_type": "stream",
     "text": [
      "                    a_connector_pad_Q1  ground_main_plane  pad_top_Q1\n",
      "a_connector_pad_Q1            22.17021          -12.34886    -9.49556\n",
      "ground_main_plane            -12.34886          140.83666   -87.89636\n",
      "pad_top_Q1                    -9.49556          -87.89636   101.47174\n"
     ]
    },
    {
     "name": "stderr",
     "output_type": "stream",
     "text": [
      "INFO 11:51AM [connect_design]: \tOpened active design\n",
      "\tDesign:    Design_q3d [Solution type: Q3D]\n",
      "INFO 11:51AM [get_setup]: \tOpened setup `Setup`  (<class 'pyEPR.ansys.AnsysQ3DSetup'>)\n",
      "INFO 11:51AM [analyze]: Analyzing setup Setup\n",
      "INFO 11:52AM [get_matrix]: Exporting matrix data to (C:\\Users\\slab\\AppData\\Local\\Temp\\tmpm28r_m5q.txt, C, , Setup:LastAdaptive, \"Original\", \"ohm\", \"nH\", \"fF\", \"mSie\", 5000000000, Maxwell, 1, False\n",
      "INFO 11:52AM [get_matrix]: Exporting matrix data to (C:\\Users\\slab\\AppData\\Local\\Temp\\tmp4g_gfn17.txt, C, , Setup:AdaptivePass, \"Original\", \"ohm\", \"nH\", \"fF\", \"mSie\", 5000000000, Maxwell, 1, False\n",
      "INFO 11:52AM [get_matrix]: Exporting matrix data to (C:\\Users\\slab\\AppData\\Local\\Temp\\tmp1h0h8jy1.txt, C, , Setup:AdaptivePass, \"Original\", \"ohm\", \"nH\", \"fF\", \"mSie\", 5000000000, Maxwell, 2, False\n",
      "INFO 11:52AM [get_matrix]: Exporting matrix data to (C:\\Users\\slab\\AppData\\Local\\Temp\\tmp590y_07f.txt, C, , Setup:AdaptivePass, \"Original\", \"ohm\", \"nH\", \"fF\", \"mSie\", 5000000000, Maxwell, 3, False\n",
      "INFO 11:52AM [get_matrix]: Exporting matrix data to (C:\\Users\\slab\\AppData\\Local\\Temp\\tmpdojdg05h.txt, C, , Setup:AdaptivePass, \"Original\", \"ohm\", \"nH\", \"fF\", \"mSie\", 5000000000, Maxwell, 4, False\n",
      "INFO 11:52AM [get_matrix]: Exporting matrix data to (C:\\Users\\slab\\AppData\\Local\\Temp\\tmp1rbjrt5m.txt, C, , Setup:AdaptivePass, \"Original\", \"ohm\", \"nH\", \"fF\", \"mSie\", 5000000000, Maxwell, 5, False\n",
      "INFO 11:52AM [get_matrix]: Exporting matrix data to (C:\\Users\\slab\\AppData\\Local\\Temp\\tmpblvdv_ly.txt, C, , Setup:AdaptivePass, \"Original\", \"ohm\", \"nH\", \"fF\", \"mSie\", 5000000000, Maxwell, 6, False\n",
      "INFO 11:52AM [get_matrix]: Exporting matrix data to (C:\\Users\\slab\\AppData\\Local\\Temp\\tmp33t1hmy9.txt, C, , Setup:AdaptivePass, \"Original\", \"ohm\", \"nH\", \"fF\", \"mSie\", 5000000000, Maxwell, 7, False\n",
      "INFO 11:52AM [get_matrix]: Exporting matrix data to (C:\\Users\\slab\\AppData\\Local\\Temp\\tmpnb6cmxxe.txt, C, , Setup:AdaptivePass, \"Original\", \"ohm\", \"nH\", \"fF\", \"mSie\", 5000000000, Maxwell, 8, False\n",
      "INFO 11:52AM [get_matrix]: Exporting matrix data to (C:\\Users\\slab\\AppData\\Local\\Temp\\tmpcinvdrc7.txt, C, , Setup:AdaptivePass, \"Original\", \"ohm\", \"nH\", \"fF\", \"mSie\", 5000000000, Maxwell, 9, False\n",
      "INFO 11:52AM [get_matrix]: Exporting matrix data to (C:\\Users\\slab\\AppData\\Local\\Temp\\tmpukuakcx0.txt, C, , Setup:AdaptivePass, \"Original\", \"ohm\", \"nH\", \"fF\", \"mSie\", 5000000000, Maxwell, 10, False\n",
      "INFO 11:52AM [get_matrix]: Exporting matrix data to (C:\\Users\\slab\\AppData\\Local\\Temp\\tmpsn41p4p7.txt, C, , Setup:LastAdaptive, \"Original\", \"ohm\", \"nH\", \"fF\", \"mSie\", 5000000000, Maxwell, 1, False\n",
      "INFO 11:52AM [get_matrix]: Exporting matrix data to (C:\\Users\\slab\\AppData\\Local\\Temp\\tmpgsscouh_.txt, C, , Setup:AdaptivePass, \"Original\", \"ohm\", \"nH\", \"fF\", \"mSie\", 5000000000, Maxwell, 1, False\n",
      "INFO 11:52AM [get_matrix]: Exporting matrix data to (C:\\Users\\slab\\AppData\\Local\\Temp\\tmpo85h5n_d.txt, C, , Setup:AdaptivePass, \"Original\", \"ohm\", \"nH\", \"fF\", \"mSie\", 5000000000, Maxwell, 2, False\n",
      "INFO 11:52AM [get_matrix]: Exporting matrix data to (C:\\Users\\slab\\AppData\\Local\\Temp\\tmp49se294e.txt, C, , Setup:AdaptivePass, \"Original\", \"ohm\", \"nH\", \"fF\", \"mSie\", 5000000000, Maxwell, 3, False\n",
      "INFO 11:52AM [get_matrix]: Exporting matrix data to (C:\\Users\\slab\\AppData\\Local\\Temp\\tmpcoastf_7.txt, C, , Setup:AdaptivePass, \"Original\", \"ohm\", \"nH\", \"fF\", \"mSie\", 5000000000, Maxwell, 4, False\n",
      "INFO 11:52AM [get_matrix]: Exporting matrix data to (C:\\Users\\slab\\AppData\\Local\\Temp\\tmpy06tdl1j.txt, C, , Setup:AdaptivePass, \"Original\", \"ohm\", \"nH\", \"fF\", \"mSie\", 5000000000, Maxwell, 5, False\n",
      "INFO 11:52AM [get_matrix]: Exporting matrix data to (C:\\Users\\slab\\AppData\\Local\\Temp\\tmpfcikj5mm.txt, C, , Setup:AdaptivePass, \"Original\", \"ohm\", \"nH\", \"fF\", \"mSie\", 5000000000, Maxwell, 6, False\n",
      "INFO 11:52AM [get_matrix]: Exporting matrix data to (C:\\Users\\slab\\AppData\\Local\\Temp\\tmp37ienf5l.txt, C, , Setup:AdaptivePass, \"Original\", \"ohm\", \"nH\", \"fF\", \"mSie\", 5000000000, Maxwell, 7, False\n",
      "INFO 11:52AM [get_matrix]: Exporting matrix data to (C:\\Users\\slab\\AppData\\Local\\Temp\\tmpmb64oxaa.txt, C, , Setup:AdaptivePass, \"Original\", \"ohm\", \"nH\", \"fF\", \"mSie\", 5000000000, Maxwell, 8, False\n",
      "INFO 11:52AM [get_matrix]: Exporting matrix data to (C:\\Users\\slab\\AppData\\Local\\Temp\\tmp6lartjyf.txt, C, , Setup:AdaptivePass, \"Original\", \"ohm\", \"nH\", \"fF\", \"mSie\", 5000000000, Maxwell, 9, False\n",
      "INFO 11:52AM [get_matrix]: Exporting matrix data to (C:\\Users\\slab\\AppData\\Local\\Temp\\tmpbzklcgez.txt, C, , Setup:AdaptivePass, \"Original\", \"ohm\", \"nH\", \"fF\", \"mSie\", 5000000000, Maxwell, 10, False\n"
     ]
    },
    {
     "name": "stdout",
     "output_type": "stream",
     "text": [
      "                    a_connector_pad_Q1  ground_main_plane  pad_top_Q1\n",
      "a_connector_pad_Q1            22.11539          -12.30617    -9.48960\n",
      "ground_main_plane            -12.30617          144.32066   -91.18205\n",
      "pad_top_Q1                    -9.48960          -91.18205   104.93007\n"
     ]
    },
    {
     "name": "stderr",
     "output_type": "stream",
     "text": [
      "INFO 11:52AM [connect_design]: \tOpened active design\n",
      "\tDesign:    Design_q3d [Solution type: Q3D]\n",
      "INFO 11:52AM [get_setup]: \tOpened setup `Setup`  (<class 'pyEPR.ansys.AnsysQ3DSetup'>)\n",
      "INFO 11:52AM [analyze]: Analyzing setup Setup\n",
      "INFO 11:52AM [get_matrix]: Exporting matrix data to (C:\\Users\\slab\\AppData\\Local\\Temp\\tmp2grvt7uc.txt, C, , Setup:LastAdaptive, \"Original\", \"ohm\", \"nH\", \"fF\", \"mSie\", 5000000000, Maxwell, 1, False\n",
      "INFO 11:52AM [get_matrix]: Exporting matrix data to (C:\\Users\\slab\\AppData\\Local\\Temp\\tmphemf0ign.txt, C, , Setup:AdaptivePass, \"Original\", \"ohm\", \"nH\", \"fF\", \"mSie\", 5000000000, Maxwell, 1, False\n",
      "INFO 11:52AM [get_matrix]: Exporting matrix data to (C:\\Users\\slab\\AppData\\Local\\Temp\\tmp7ijlgi7v.txt, C, , Setup:AdaptivePass, \"Original\", \"ohm\", \"nH\", \"fF\", \"mSie\", 5000000000, Maxwell, 2, False\n",
      "INFO 11:52AM [get_matrix]: Exporting matrix data to (C:\\Users\\slab\\AppData\\Local\\Temp\\tmpgmmphen7.txt, C, , Setup:AdaptivePass, \"Original\", \"ohm\", \"nH\", \"fF\", \"mSie\", 5000000000, Maxwell, 3, False\n",
      "INFO 11:52AM [get_matrix]: Exporting matrix data to (C:\\Users\\slab\\AppData\\Local\\Temp\\tmpxspsie3h.txt, C, , Setup:AdaptivePass, \"Original\", \"ohm\", \"nH\", \"fF\", \"mSie\", 5000000000, Maxwell, 4, False\n",
      "INFO 11:52AM [get_matrix]: Exporting matrix data to (C:\\Users\\slab\\AppData\\Local\\Temp\\tmp3fk_b93d.txt, C, , Setup:AdaptivePass, \"Original\", \"ohm\", \"nH\", \"fF\", \"mSie\", 5000000000, Maxwell, 5, False\n",
      "INFO 11:52AM [get_matrix]: Exporting matrix data to (C:\\Users\\slab\\AppData\\Local\\Temp\\tmpvj1jv2vv.txt, C, , Setup:AdaptivePass, \"Original\", \"ohm\", \"nH\", \"fF\", \"mSie\", 5000000000, Maxwell, 6, False\n",
      "INFO 11:52AM [get_matrix]: Exporting matrix data to (C:\\Users\\slab\\AppData\\Local\\Temp\\tmp9e55eetu.txt, C, , Setup:AdaptivePass, \"Original\", \"ohm\", \"nH\", \"fF\", \"mSie\", 5000000000, Maxwell, 7, False\n",
      "INFO 11:52AM [get_matrix]: Exporting matrix data to (C:\\Users\\slab\\AppData\\Local\\Temp\\tmpoxtw54n_.txt, C, , Setup:AdaptivePass, \"Original\", \"ohm\", \"nH\", \"fF\", \"mSie\", 5000000000, Maxwell, 8, False\n",
      "INFO 11:52AM [get_matrix]: Exporting matrix data to (C:\\Users\\slab\\AppData\\Local\\Temp\\tmpzlqa12zz.txt, C, , Setup:AdaptivePass, \"Original\", \"ohm\", \"nH\", \"fF\", \"mSie\", 5000000000, Maxwell, 9, False\n",
      "INFO 11:52AM [get_matrix]: Exporting matrix data to (C:\\Users\\slab\\AppData\\Local\\Temp\\tmpnfh4cndq.txt, C, , Setup:AdaptivePass, \"Original\", \"ohm\", \"nH\", \"fF\", \"mSie\", 5000000000, Maxwell, 10, False\n",
      "INFO 11:52AM [get_matrix]: Exporting matrix data to (C:\\Users\\slab\\AppData\\Local\\Temp\\tmpor1ur1je.txt, C, , Setup:LastAdaptive, \"Original\", \"ohm\", \"nH\", \"fF\", \"mSie\", 5000000000, Maxwell, 1, False\n",
      "INFO 11:52AM [get_matrix]: Exporting matrix data to (C:\\Users\\slab\\AppData\\Local\\Temp\\tmpjicds_wn.txt, C, , Setup:AdaptivePass, \"Original\", \"ohm\", \"nH\", \"fF\", \"mSie\", 5000000000, Maxwell, 1, False\n",
      "INFO 11:52AM [get_matrix]: Exporting matrix data to (C:\\Users\\slab\\AppData\\Local\\Temp\\tmpjphd54f2.txt, C, , Setup:AdaptivePass, \"Original\", \"ohm\", \"nH\", \"fF\", \"mSie\", 5000000000, Maxwell, 2, False\n",
      "INFO 11:52AM [get_matrix]: Exporting matrix data to (C:\\Users\\slab\\AppData\\Local\\Temp\\tmpxtq7wfd6.txt, C, , Setup:AdaptivePass, \"Original\", \"ohm\", \"nH\", \"fF\", \"mSie\", 5000000000, Maxwell, 3, False\n",
      "INFO 11:52AM [get_matrix]: Exporting matrix data to (C:\\Users\\slab\\AppData\\Local\\Temp\\tmpw1m_qo4h.txt, C, , Setup:AdaptivePass, \"Original\", \"ohm\", \"nH\", \"fF\", \"mSie\", 5000000000, Maxwell, 4, False\n",
      "INFO 11:52AM [get_matrix]: Exporting matrix data to (C:\\Users\\slab\\AppData\\Local\\Temp\\tmp0h0tt5yo.txt, C, , Setup:AdaptivePass, \"Original\", \"ohm\", \"nH\", \"fF\", \"mSie\", 5000000000, Maxwell, 5, False\n",
      "INFO 11:52AM [get_matrix]: Exporting matrix data to (C:\\Users\\slab\\AppData\\Local\\Temp\\tmp4hwcqa0p.txt, C, , Setup:AdaptivePass, \"Original\", \"ohm\", \"nH\", \"fF\", \"mSie\", 5000000000, Maxwell, 6, False\n",
      "INFO 11:52AM [get_matrix]: Exporting matrix data to (C:\\Users\\slab\\AppData\\Local\\Temp\\tmp68np3gdp.txt, C, , Setup:AdaptivePass, \"Original\", \"ohm\", \"nH\", \"fF\", \"mSie\", 5000000000, Maxwell, 7, False\n",
      "INFO 11:52AM [get_matrix]: Exporting matrix data to (C:\\Users\\slab\\AppData\\Local\\Temp\\tmp3hspvwjt.txt, C, , Setup:AdaptivePass, \"Original\", \"ohm\", \"nH\", \"fF\", \"mSie\", 5000000000, Maxwell, 8, False\n",
      "INFO 11:52AM [get_matrix]: Exporting matrix data to (C:\\Users\\slab\\AppData\\Local\\Temp\\tmppgcl4eat.txt, C, , Setup:AdaptivePass, \"Original\", \"ohm\", \"nH\", \"fF\", \"mSie\", 5000000000, Maxwell, 9, False\n",
      "INFO 11:52AM [get_matrix]: Exporting matrix data to (C:\\Users\\slab\\AppData\\Local\\Temp\\tmpo_a8k9j3.txt, C, , Setup:AdaptivePass, \"Original\", \"ohm\", \"nH\", \"fF\", \"mSie\", 5000000000, Maxwell, 10, False\n"
     ]
    },
    {
     "name": "stdout",
     "output_type": "stream",
     "text": [
      "                    a_connector_pad_Q1  ground_main_plane  pad_top_Q1\n",
      "a_connector_pad_Q1            22.16548          -12.32559    -9.52531\n",
      "ground_main_plane            -12.32559          147.68379   -94.45887\n",
      "pad_top_Q1                    -9.52531          -94.45887   108.41359\n"
     ]
    },
    {
     "name": "stderr",
     "output_type": "stream",
     "text": [
      "INFO 11:52AM [connect_design]: \tOpened active design\n",
      "\tDesign:    Design_q3d [Solution type: Q3D]\n",
      "INFO 11:52AM [get_setup]: \tOpened setup `Setup`  (<class 'pyEPR.ansys.AnsysQ3DSetup'>)\n",
      "INFO 11:52AM [analyze]: Analyzing setup Setup\n",
      "INFO 11:53AM [get_matrix]: Exporting matrix data to (C:\\Users\\slab\\AppData\\Local\\Temp\\tmp1209ynnk.txt, C, , Setup:LastAdaptive, \"Original\", \"ohm\", \"nH\", \"fF\", \"mSie\", 5000000000, Maxwell, 1, False\n",
      "INFO 11:53AM [get_matrix]: Exporting matrix data to (C:\\Users\\slab\\AppData\\Local\\Temp\\tmpkddtka5d.txt, C, , Setup:AdaptivePass, \"Original\", \"ohm\", \"nH\", \"fF\", \"mSie\", 5000000000, Maxwell, 1, False\n",
      "INFO 11:53AM [get_matrix]: Exporting matrix data to (C:\\Users\\slab\\AppData\\Local\\Temp\\tmpgv5_38hy.txt, C, , Setup:AdaptivePass, \"Original\", \"ohm\", \"nH\", \"fF\", \"mSie\", 5000000000, Maxwell, 2, False\n",
      "INFO 11:53AM [get_matrix]: Exporting matrix data to (C:\\Users\\slab\\AppData\\Local\\Temp\\tmp6l6f9sna.txt, C, , Setup:AdaptivePass, \"Original\", \"ohm\", \"nH\", \"fF\", \"mSie\", 5000000000, Maxwell, 3, False\n",
      "INFO 11:53AM [get_matrix]: Exporting matrix data to (C:\\Users\\slab\\AppData\\Local\\Temp\\tmpvdz6vqcr.txt, C, , Setup:AdaptivePass, \"Original\", \"ohm\", \"nH\", \"fF\", \"mSie\", 5000000000, Maxwell, 4, False\n",
      "INFO 11:53AM [get_matrix]: Exporting matrix data to (C:\\Users\\slab\\AppData\\Local\\Temp\\tmpuq5ugzb_.txt, C, , Setup:AdaptivePass, \"Original\", \"ohm\", \"nH\", \"fF\", \"mSie\", 5000000000, Maxwell, 5, False\n",
      "INFO 11:53AM [get_matrix]: Exporting matrix data to (C:\\Users\\slab\\AppData\\Local\\Temp\\tmpxppw0_ay.txt, C, , Setup:AdaptivePass, \"Original\", \"ohm\", \"nH\", \"fF\", \"mSie\", 5000000000, Maxwell, 6, False\n",
      "INFO 11:53AM [get_matrix]: Exporting matrix data to (C:\\Users\\slab\\AppData\\Local\\Temp\\tmpzp0yx1kc.txt, C, , Setup:AdaptivePass, \"Original\", \"ohm\", \"nH\", \"fF\", \"mSie\", 5000000000, Maxwell, 7, False\n",
      "INFO 11:53AM [get_matrix]: Exporting matrix data to (C:\\Users\\slab\\AppData\\Local\\Temp\\tmpl_n28zr2.txt, C, , Setup:AdaptivePass, \"Original\", \"ohm\", \"nH\", \"fF\", \"mSie\", 5000000000, Maxwell, 8, False\n",
      "INFO 11:53AM [get_matrix]: Exporting matrix data to (C:\\Users\\slab\\AppData\\Local\\Temp\\tmp3muxwmxy.txt, C, , Setup:AdaptivePass, \"Original\", \"ohm\", \"nH\", \"fF\", \"mSie\", 5000000000, Maxwell, 9, False\n",
      "INFO 11:53AM [get_matrix]: Exporting matrix data to (C:\\Users\\slab\\AppData\\Local\\Temp\\tmperh9lkuk.txt, C, , Setup:AdaptivePass, \"Original\", \"ohm\", \"nH\", \"fF\", \"mSie\", 5000000000, Maxwell, 10, False\n",
      "INFO 11:53AM [get_matrix]: Exporting matrix data to (C:\\Users\\slab\\AppData\\Local\\Temp\\tmpzapppcio.txt, C, , Setup:LastAdaptive, \"Original\", \"ohm\", \"nH\", \"fF\", \"mSie\", 5000000000, Maxwell, 1, False\n",
      "INFO 11:53AM [get_matrix]: Exporting matrix data to (C:\\Users\\slab\\AppData\\Local\\Temp\\tmpr8wknlwm.txt, C, , Setup:AdaptivePass, \"Original\", \"ohm\", \"nH\", \"fF\", \"mSie\", 5000000000, Maxwell, 1, False\n",
      "INFO 11:53AM [get_matrix]: Exporting matrix data to (C:\\Users\\slab\\AppData\\Local\\Temp\\tmpqbv4yn5y.txt, C, , Setup:AdaptivePass, \"Original\", \"ohm\", \"nH\", \"fF\", \"mSie\", 5000000000, Maxwell, 2, False\n",
      "INFO 11:53AM [get_matrix]: Exporting matrix data to (C:\\Users\\slab\\AppData\\Local\\Temp\\tmphmoxf1u1.txt, C, , Setup:AdaptivePass, \"Original\", \"ohm\", \"nH\", \"fF\", \"mSie\", 5000000000, Maxwell, 3, False\n",
      "INFO 11:53AM [get_matrix]: Exporting matrix data to (C:\\Users\\slab\\AppData\\Local\\Temp\\tmp67f1cgn7.txt, C, , Setup:AdaptivePass, \"Original\", \"ohm\", \"nH\", \"fF\", \"mSie\", 5000000000, Maxwell, 4, False\n",
      "INFO 11:53AM [get_matrix]: Exporting matrix data to (C:\\Users\\slab\\AppData\\Local\\Temp\\tmpn091on39.txt, C, , Setup:AdaptivePass, \"Original\", \"ohm\", \"nH\", \"fF\", \"mSie\", 5000000000, Maxwell, 5, False\n",
      "INFO 11:53AM [get_matrix]: Exporting matrix data to (C:\\Users\\slab\\AppData\\Local\\Temp\\tmpke1bb4bh.txt, C, , Setup:AdaptivePass, \"Original\", \"ohm\", \"nH\", \"fF\", \"mSie\", 5000000000, Maxwell, 6, False\n",
      "INFO 11:53AM [get_matrix]: Exporting matrix data to (C:\\Users\\slab\\AppData\\Local\\Temp\\tmpfj__lnj0.txt, C, , Setup:AdaptivePass, \"Original\", \"ohm\", \"nH\", \"fF\", \"mSie\", 5000000000, Maxwell, 7, False\n",
      "INFO 11:53AM [get_matrix]: Exporting matrix data to (C:\\Users\\slab\\AppData\\Local\\Temp\\tmpq9knf6a0.txt, C, , Setup:AdaptivePass, \"Original\", \"ohm\", \"nH\", \"fF\", \"mSie\", 5000000000, Maxwell, 8, False\n",
      "INFO 11:53AM [get_matrix]: Exporting matrix data to (C:\\Users\\slab\\AppData\\Local\\Temp\\tmpf9xxnnq7.txt, C, , Setup:AdaptivePass, \"Original\", \"ohm\", \"nH\", \"fF\", \"mSie\", 5000000000, Maxwell, 9, False\n",
      "INFO 11:53AM [get_matrix]: Exporting matrix data to (C:\\Users\\slab\\AppData\\Local\\Temp\\tmp0v620_v_.txt, C, , Setup:AdaptivePass, \"Original\", \"ohm\", \"nH\", \"fF\", \"mSie\", 5000000000, Maxwell, 10, False\n"
     ]
    },
    {
     "name": "stdout",
     "output_type": "stream",
     "text": [
      "                    a_connector_pad_Q1  ground_main_plane  pad_top_Q1\n",
      "a_connector_pad_Q1            22.19617          -12.33450    -9.55050\n",
      "ground_main_plane            -12.33450          151.03771   -97.68446\n",
      "pad_top_Q1                    -9.55050          -97.68446   111.82653\n"
     ]
    }
   ],
   "source": [
    "heights = np.linspace(70*u.um, 240*u.um, 15)\n",
    "result_height = []\n",
    "for height in heights:\n",
    "    result_height += [find_Cap(height)]"
   ]
  },
  {
   "cell_type": "code",
   "execution_count": 70,
   "metadata": {},
   "outputs": [
    {
     "data": {
      "image/png": "[encoded data removed]",
      "text/plain": [
       "<Figure size 640x480 with 1 Axes>"
      ]
     },
     "metadata": {},
     "output_type": "display_data"
    }
   ],
   "source": [
    "for i, r in enumerate(result_height):\n",
    "    plt.scatter(heights[i], -r['pad_top_Q1']['ground_main_plane'],color = 'black')\n",
    "plt.xlabel('Transmon Pocket Height (um)')\n",
    "plt.ylabel('Capacitance to Ground (fF)')\n",
    "plt.show()"
   ]
  },
  {
   "cell_type": "code",
   "execution_count": null,
   "metadata": {},
   "outputs": [],
   "source": [
    "plt.scatter(heights, -np.array(result))\n"
   ]
  }
 ],
 "metadata": {
  "kernelspec": {
   "display_name": "qmetal",
   "language": "python",
   "name": "qmetal"
  },
  "language_info": {
   "codemirror_mode": {
    "name": "ipython",
    "version": 3
   },
   "file_extension": ".py",
   "mimetype": "text/x-python",
   "name": "python",
   "nbconvert_exporter": "python",
   "pygments_lexer": "ipython3",
   "version": "3.10.8"
  },
  "orig_nbformat": 4
 },
 "nbformat": 4,
 "nbformat_minor": 2
}
