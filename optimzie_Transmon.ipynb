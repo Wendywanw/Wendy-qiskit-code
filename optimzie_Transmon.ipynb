{
 "cells": [
  {
   "attachments": {},
   "cell_type": "markdown",
   "metadata": {},
   "source": [
    "# Optimize the design of the transmon pocket"
   ]
  },
  {
   "attachments": {},
   "cell_type": "markdown",
   "metadata": {},
   "source": [
    "To keep the structure roughly the same, we change the width of the metal pad in the transmon pocket. Intuitively, the wider the transmon pocket, the larger the capacitance would be. To increase the qubit frequency, we need to increase the capacitance.\n",
    "\n",
    "## Steps\n",
    "1. Construct the function that takes in padwidth and return a capacitance between ground and the metal pad\n",
    "2. Function that takes in frequency and spit out desired capacitance\n",
    "3. Optimize and find the desired design"
   ]
  },
  {
   "cell_type": "code",
   "execution_count": 82,
   "metadata": {},
   "outputs": [],
   "source": [
    "\n",
    "import astropy.units as u\n",
    "import astropy.constants as c\n",
    "import numpy as np\n",
    "import matplotlib.pyplot as plt\n",
    "\n",
    "from scipy import optimize\n",
    "\n",
    "%matplotlib inline"
   ]
  },
  {
   "cell_type": "code",
   "execution_count": 2,
   "metadata": {},
   "outputs": [],
   "source": [
    "%reload_ext autoreload\n",
    "%autoreload 2"
   ]
  },
  {
   "cell_type": "code",
   "execution_count": 3,
   "metadata": {},
   "outputs": [],
   "source": [
    "#This imports the necessary path to draw the single pad transmon design. \n",
    "import sys\n",
    "sys.path.append('Customized_Components')\n",
    "from single_pad_transmon_pocket import TransmonPocket_Single\n",
    "\n",
    "import shapely\n",
    "import warnings\n",
    "from shapely.errors import ShapelyDeprecationWarning\n",
    "warnings.filterwarnings(\"ignore\", category=ShapelyDeprecationWarning)"
   ]
  },
  {
   "cell_type": "code",
   "execution_count": 4,
   "metadata": {},
   "outputs": [],
   "source": [
    "from qiskit_metal import designs, draw\n",
    "from qiskit_metal import MetalGUI, Dict, Headings"
   ]
  },
  {
   "cell_type": "code",
   "execution_count": 5,
   "metadata": {},
   "outputs": [],
   "source": [
    "design = designs.DesignPlanar()\n",
    "gui = MetalGUI(design)"
   ]
  },
  {
   "attachments": {},
   "cell_type": "markdown",
   "metadata": {},
   "source": [
    "### Construct a single transmon pad to test the code"
   ]
  },
  {
   "cell_type": "code",
   "execution_count": 26,
   "metadata": {},
   "outputs": [],
   "source": [
    "design.overwrite_enabled = True #This makes it possible to edit the designs later on. \n",
    "\n",
    "design.delete_all_components()\n",
    "\n",
    "options = dict(pad_width = '200um',\n",
    "pocket_width = '300um',\n",
    "pad_pocket_distance_top = '60um',\n",
    "pos_x = '0',\n",
    "pad_height = '200um',\n",
    "pos_y = '0',\n",
    "connection_pads = dict(\n",
    "    a = dict(loc_W  = 1, \n",
    "             loc_H =  1, \n",
    "             pad_gap = '10um',\n",
    "             pad_height = '20um',\n",
    "             pad_width = '100um',\n",
    "             pad_cpw_extent =  '10um',\n",
    "             pocket_rise = '0um',\n",
    "             cpw_extend = '5um')))\n",
    "\n",
    "q1 = TransmonPocket_Single(design,'Q1',options = options)\n",
    "\n",
    "gui.rebuild()\n",
    "gui.zoom_on_components(['Q1'])"
   ]
  },
  {
   "cell_type": "code",
   "execution_count": 27,
   "metadata": {},
   "outputs": [],
   "source": [
    "from qiskit_metal.analyses.quantization import LOManalysis\n",
    "c1 = LOManalysis(design, \"q3d\")"
   ]
  },
  {
   "cell_type": "code",
   "execution_count": 28,
   "metadata": {},
   "outputs": [
    {
     "name": "stdout",
     "output_type": "stream",
     "text": [
      "{'name': 'Setup', 'reuse_selected_design': True, 'reuse_setup': True, 'freq_ghz': 5.0, 'save_fields': False, 'enabled': True, 'max_passes': 5, 'min_passes': 1, 'min_converged_passes': 2, 'percent_error': 0.5, 'percent_refinement': 30, 'auto_increase_solution_order': True, 'solution_order': 'High', 'solver_type': 'Iterative'}\n"
     ]
    }
   ],
   "source": [
    "c1.sim.setup.min_passes  = 1\n",
    "c1.sim.setup.max_passes = 5\n",
    "print(c1.sim.setup)"
   ]
  },
  {
   "cell_type": "code",
   "execution_count": 29,
   "metadata": {},
   "outputs": [
    {
     "name": "stderr",
     "output_type": "stream",
     "text": [
      "INFO 09:56PM [connect_design]: \tOpened active design\n",
      "\tDesign:    Design_q3d [Solution type: Q3D]\n",
      "INFO 09:56PM [get_setup]: \tOpened setup `Setup`  (<class 'pyEPR.ansys.AnsysQ3DSetup'>)\n",
      "INFO 09:56PM [analyze]: Analyzing setup Setup\n",
      "INFO 09:56PM [get_matrix]: Exporting matrix data to (C:\\Users\\slab\\AppData\\Local\\Temp\\tmp1tpi2jws.txt, C, , Setup:LastAdaptive, \"Original\", \"ohm\", \"nH\", \"fF\", \"mSie\", 5000000000, Maxwell, 1, False\n",
      "INFO 09:56PM [get_matrix]: Exporting matrix data to (C:\\Users\\slab\\AppData\\Local\\Temp\\tmp_9ly42no.txt, C, , Setup:AdaptivePass, \"Original\", \"ohm\", \"nH\", \"fF\", \"mSie\", 5000000000, Maxwell, 1, False\n",
      "INFO 09:56PM [get_matrix]: Exporting matrix data to (C:\\Users\\slab\\AppData\\Local\\Temp\\tmpqgdvg66z.txt, C, , Setup:AdaptivePass, \"Original\", \"ohm\", \"nH\", \"fF\", \"mSie\", 5000000000, Maxwell, 2, False\n",
      "INFO 09:56PM [get_matrix]: Exporting matrix data to (C:\\Users\\slab\\AppData\\Local\\Temp\\tmpwvply9hr.txt, C, , Setup:AdaptivePass, \"Original\", \"ohm\", \"nH\", \"fF\", \"mSie\", 5000000000, Maxwell, 3, False\n",
      "INFO 09:56PM [get_matrix]: Exporting matrix data to (C:\\Users\\slab\\AppData\\Local\\Temp\\tmpuojb05a1.txt, C, , Setup:AdaptivePass, \"Original\", \"ohm\", \"nH\", \"fF\", \"mSie\", 5000000000, Maxwell, 4, False\n",
      "INFO 09:56PM [get_matrix]: Exporting matrix data to (C:\\Users\\slab\\AppData\\Local\\Temp\\tmpi86ralhs.txt, C, , Setup:AdaptivePass, \"Original\", \"ohm\", \"nH\", \"fF\", \"mSie\", 5000000000, Maxwell, 5, False\n",
      "INFO 09:56PM [get_matrix]: Exporting matrix data to (C:\\Users\\slab\\AppData\\Local\\Temp\\tmptisozn9g.txt, C, , Setup:AdaptivePass, \"Original\", \"ohm\", \"nH\", \"fF\", \"mSie\", 5000000000, Maxwell, 6, False\n",
      "INFO 09:56PM [get_matrix]: Exporting matrix data to (C:\\Users\\slab\\AppData\\Local\\Temp\\tmp06bxw2bm.txt, C, , Setup:LastAdaptive, \"Original\", \"ohm\", \"nH\", \"fF\", \"mSie\", 5000000000, Maxwell, 1, False\n",
      "INFO 09:56PM [get_matrix]: Exporting matrix data to (C:\\Users\\slab\\AppData\\Local\\Temp\\tmp346bij20.txt, C, , Setup:AdaptivePass, \"Original\", \"ohm\", \"nH\", \"fF\", \"mSie\", 5000000000, Maxwell, 1, False\n",
      "INFO 09:56PM [get_matrix]: Exporting matrix data to (C:\\Users\\slab\\AppData\\Local\\Temp\\tmpvzgpxspq.txt, C, , Setup:AdaptivePass, \"Original\", \"ohm\", \"nH\", \"fF\", \"mSie\", 5000000000, Maxwell, 2, False\n",
      "INFO 09:56PM [get_matrix]: Exporting matrix data to (C:\\Users\\slab\\AppData\\Local\\Temp\\tmpdrimikx4.txt, C, , Setup:AdaptivePass, \"Original\", \"ohm\", \"nH\", \"fF\", \"mSie\", 5000000000, Maxwell, 3, False\n",
      "INFO 09:56PM [get_matrix]: Exporting matrix data to (C:\\Users\\slab\\AppData\\Local\\Temp\\tmp_ne8e0cr.txt, C, , Setup:AdaptivePass, \"Original\", \"ohm\", \"nH\", \"fF\", \"mSie\", 5000000000, Maxwell, 4, False\n",
      "INFO 09:56PM [get_matrix]: Exporting matrix data to (C:\\Users\\slab\\AppData\\Local\\Temp\\tmpeukfibim.txt, C, , Setup:AdaptivePass, \"Original\", \"ohm\", \"nH\", \"fF\", \"mSie\", 5000000000, Maxwell, 5, False\n",
      "INFO 09:56PM [get_matrix]: Exporting matrix data to (C:\\Users\\slab\\AppData\\Local\\Temp\\tmpf20pfhls.txt, C, , Setup:AdaptivePass, \"Original\", \"ohm\", \"nH\", \"fF\", \"mSie\", 5000000000, Maxwell, 6, False\n"
     ]
    }
   ],
   "source": [
    "c1.sim.run(components=['Q1'], open_terminations=[('Q1', 'a')])#, ('Q1', 'bus1'), ('Q1', 'bus2')])\n",
    "c1.sim.capacitance_matrix \n",
    "\n",
    "c1.sim._get_results_from_renderer()\n",
    "c_mat = c1.sim.capacitance_matrix"
   ]
  },
  {
   "cell_type": "code",
   "execution_count": 30,
   "metadata": {},
   "outputs": [
    {
     "data": {
      "text/html": [
       "<div>\n",
       "<style scoped>\n",
       "    .dataframe tbody tr th:only-of-type {\n",
       "        vertical-align: middle;\n",
       "    }\n",
       "\n",
       "    .dataframe tbody tr th {\n",
       "        vertical-align: top;\n",
       "    }\n",
       "\n",
       "    .dataframe thead th {\n",
       "        text-align: right;\n",
       "    }\n",
       "</style>\n",
       "<table border=\"1\" class=\"dataframe\">\n",
       "  <thead>\n",
       "    <tr style=\"text-align: right;\">\n",
       "      <th></th>\n",
       "      <th>a_connector_pad_Q1</th>\n",
       "      <th>ground_main_plane</th>\n",
       "      <th>pad_top_Q1</th>\n",
       "    </tr>\n",
       "  </thead>\n",
       "  <tbody>\n",
       "    <tr>\n",
       "      <th>a_connector_pad_Q1</th>\n",
       "      <td>23.63791</td>\n",
       "      <td>-13.83121</td>\n",
       "      <td>-9.42478</td>\n",
       "    </tr>\n",
       "    <tr>\n",
       "      <th>ground_main_plane</th>\n",
       "      <td>-13.83121</td>\n",
       "      <td>122.84866</td>\n",
       "      <td>-67.19156</td>\n",
       "    </tr>\n",
       "    <tr>\n",
       "      <th>pad_top_Q1</th>\n",
       "      <td>-9.42478</td>\n",
       "      <td>-67.19156</td>\n",
       "      <td>80.04586</td>\n",
       "    </tr>\n",
       "  </tbody>\n",
       "</table>\n",
       "</div>"
      ],
      "text/plain": [
       "                    a_connector_pad_Q1  ground_main_plane  pad_top_Q1\n",
       "a_connector_pad_Q1            23.63791          -13.83121    -9.42478\n",
       "ground_main_plane            -13.83121          122.84866   -67.19156\n",
       "pad_top_Q1                    -9.42478          -67.19156    80.04586"
      ]
     },
     "execution_count": 30,
     "metadata": {},
     "output_type": "execute_result"
    }
   ],
   "source": [
    "c_mat"
   ]
  },
  {
   "cell_type": "code",
   "execution_count": 24,
   "metadata": {},
   "outputs": [],
   "source": [
    "C = c_mat['ground_main_plane']['a_connector_pad_Q1']"
   ]
  },
  {
   "cell_type": "code",
   "execution_count": 25,
   "metadata": {},
   "outputs": [
    {
     "data": {
      "text/plain": [
       "-11.46906"
      ]
     },
     "execution_count": 25,
     "metadata": {},
     "output_type": "execute_result"
    }
   ],
   "source": [
    "C"
   ]
  },
  {
   "attachments": {},
   "cell_type": "markdown",
   "metadata": {},
   "source": [
    "### Sainity check the general trend of capacitance\n",
    "\n",
    "This ensures that capacitance of the top pad to ground is a roughly linear funciton. "
   ]
  },
  {
   "cell_type": "code",
   "execution_count": 99,
   "metadata": {},
   "outputs": [],
   "source": [
    "def find_Cap(width):\n",
    "    if type(width)=='astropy.units.quantity.Quantity':\n",
    "        width = width.to(u.um)\n",
    "    else:\n",
    "        width = width[0]*u.um\n",
    "    design.delete_all_components()\n",
    "\n",
    "    options = dict(pad_width = '{}um'.format(width.value),\n",
    "    pocket_width = '300um',\n",
    "    pad_pocket_distance_top = '60um',\n",
    "    pos_x = '0',\n",
    "    pad_height = '200um',\n",
    "    pos_y = '0',\n",
    "    connection_pads = dict(\n",
    "        a = dict(loc_W  = 1, \n",
    "                loc_H =  1, \n",
    "                pad_gap = '10um',\n",
    "                pad_height = '20um',\n",
    "                pad_width = '100um',\n",
    "                pad_cpw_extent =  '10um',\n",
    "                pocket_rise = '0um',\n",
    "                cpw_extend = '5um')))\n",
    "\n",
    "    q1 = TransmonPocket_Single(design,'Q1',options = options)\n",
    "\n",
    "    gui.rebuild()\n",
    "    gui.zoom_on_components(['Q1'])\n",
    "    \n",
    "    \n",
    "    c1 = LOManalysis(design, \"q3d\")\n",
    "    c1.sim.setup.min_passes  = 10\n",
    "    c1.sim.setup.max_passes = 20\n",
    "    \n",
    "    c1.sim.run(components=['Q1'], open_terminations=[('Q1', 'a')])#, ('Q1', 'bus1'), ('Q1', 'bus2')])\n",
    "    c1.sim.capacitance_matrix \n",
    "\n",
    "    c1.sim._get_results_from_renderer()\n",
    "    c_mat = c1.sim.capacitance_matrix\n",
    "    \n",
    "    print(c_mat)\n",
    "    \n",
    "    return(c_mat['ground_main_plane']['pad_top_Q1'])\n",
    "    "
   ]
  },
  {
   "cell_type": "code",
   "execution_count": 77,
   "metadata": {},
   "outputs": [
    {
     "name": "stderr",
     "output_type": "stream",
     "text": [
      "INFO 01:59PM [connect_design]: \tOpened active design\n",
      "\tDesign:    Design_q3d [Solution type: Q3D]\n",
      "INFO 01:59PM [get_setup]: \tOpened setup `Setup`  (<class 'pyEPR.ansys.AnsysQ3DSetup'>)\n",
      "INFO 01:59PM [analyze]: Analyzing setup Setup\n",
      "INFO 01:59PM [get_matrix]: Exporting matrix data to (C:\\Users\\slab\\AppData\\Local\\Temp\\tmpx1xp6jq1.txt, C, , Setup:LastAdaptive, \"Original\", \"ohm\", \"nH\", \"fF\", \"mSie\", 5000000000, Maxwell, 1, False\n",
      "INFO 01:59PM [get_matrix]: Exporting matrix data to (C:\\Users\\slab\\AppData\\Local\\Temp\\tmp1uiz93rj.txt, C, , Setup:AdaptivePass, \"Original\", \"ohm\", \"nH\", \"fF\", \"mSie\", 5000000000, Maxwell, 1, False\n",
      "INFO 01:59PM [get_matrix]: Exporting matrix data to (C:\\Users\\slab\\AppData\\Local\\Temp\\tmptp2febwu.txt, C, , Setup:AdaptivePass, \"Original\", \"ohm\", \"nH\", \"fF\", \"mSie\", 5000000000, Maxwell, 2, False\n",
      "INFO 01:59PM [get_matrix]: Exporting matrix data to (C:\\Users\\slab\\AppData\\Local\\Temp\\tmp1mv1vlcl.txt, C, , Setup:AdaptivePass, \"Original\", \"ohm\", \"nH\", \"fF\", \"mSie\", 5000000000, Maxwell, 3, False\n",
      "INFO 01:59PM [get_matrix]: Exporting matrix data to (C:\\Users\\slab\\AppData\\Local\\Temp\\tmpzivgv9i7.txt, C, , Setup:AdaptivePass, \"Original\", \"ohm\", \"nH\", \"fF\", \"mSie\", 5000000000, Maxwell, 4, False\n",
      "INFO 01:59PM [get_matrix]: Exporting matrix data to (C:\\Users\\slab\\AppData\\Local\\Temp\\tmp3oehhlrk.txt, C, , Setup:AdaptivePass, \"Original\", \"ohm\", \"nH\", \"fF\", \"mSie\", 5000000000, Maxwell, 5, False\n",
      "INFO 01:59PM [get_matrix]: Exporting matrix data to (C:\\Users\\slab\\AppData\\Local\\Temp\\tmp7rx6tb3v.txt, C, , Setup:AdaptivePass, \"Original\", \"ohm\", \"nH\", \"fF\", \"mSie\", 5000000000, Maxwell, 6, False\n",
      "INFO 01:59PM [get_matrix]: Exporting matrix data to (C:\\Users\\slab\\AppData\\Local\\Temp\\tmp9rgpc823.txt, C, , Setup:AdaptivePass, \"Original\", \"ohm\", \"nH\", \"fF\", \"mSie\", 5000000000, Maxwell, 7, False\n",
      "INFO 01:59PM [get_matrix]: Exporting matrix data to (C:\\Users\\slab\\AppData\\Local\\Temp\\tmp96e1_2dy.txt, C, , Setup:AdaptivePass, \"Original\", \"ohm\", \"nH\", \"fF\", \"mSie\", 5000000000, Maxwell, 8, False\n",
      "INFO 01:59PM [get_matrix]: Exporting matrix data to (C:\\Users\\slab\\AppData\\Local\\Temp\\tmp9ipoq6xy.txt, C, , Setup:AdaptivePass, \"Original\", \"ohm\", \"nH\", \"fF\", \"mSie\", 5000000000, Maxwell, 9, False\n",
      "INFO 01:59PM [get_matrix]: Exporting matrix data to (C:\\Users\\slab\\AppData\\Local\\Temp\\tmpn2iumoic.txt, C, , Setup:AdaptivePass, \"Original\", \"ohm\", \"nH\", \"fF\", \"mSie\", 5000000000, Maxwell, 10, False\n",
      "INFO 01:59PM [get_matrix]: Exporting matrix data to (C:\\Users\\slab\\AppData\\Local\\Temp\\tmpjslq6hrb.txt, C, , Setup:AdaptivePass, \"Original\", \"ohm\", \"nH\", \"fF\", \"mSie\", 5000000000, Maxwell, 11, False\n",
      "INFO 01:59PM [get_matrix]: Exporting matrix data to (C:\\Users\\slab\\AppData\\Local\\Temp\\tmp13isvgte.txt, C, , Setup:LastAdaptive, \"Original\", \"ohm\", \"nH\", \"fF\", \"mSie\", 5000000000, Maxwell, 1, False\n",
      "INFO 01:59PM [get_matrix]: Exporting matrix data to (C:\\Users\\slab\\AppData\\Local\\Temp\\tmp02rx3bwd.txt, C, , Setup:AdaptivePass, \"Original\", \"ohm\", \"nH\", \"fF\", \"mSie\", 5000000000, Maxwell, 1, False\n",
      "INFO 01:59PM [get_matrix]: Exporting matrix data to (C:\\Users\\slab\\AppData\\Local\\Temp\\tmpe434y4on.txt, C, , Setup:AdaptivePass, \"Original\", \"ohm\", \"nH\", \"fF\", \"mSie\", 5000000000, Maxwell, 2, False\n",
      "INFO 01:59PM [get_matrix]: Exporting matrix data to (C:\\Users\\slab\\AppData\\Local\\Temp\\tmp67qtpa5e.txt, C, , Setup:AdaptivePass, \"Original\", \"ohm\", \"nH\", \"fF\", \"mSie\", 5000000000, Maxwell, 3, False\n",
      "INFO 01:59PM [get_matrix]: Exporting matrix data to (C:\\Users\\slab\\AppData\\Local\\Temp\\tmpt43mmku9.txt, C, , Setup:AdaptivePass, \"Original\", \"ohm\", \"nH\", \"fF\", \"mSie\", 5000000000, Maxwell, 4, False\n",
      "INFO 01:59PM [get_matrix]: Exporting matrix data to (C:\\Users\\slab\\AppData\\Local\\Temp\\tmpnumh0gs0.txt, C, , Setup:AdaptivePass, \"Original\", \"ohm\", \"nH\", \"fF\", \"mSie\", 5000000000, Maxwell, 5, False\n",
      "INFO 01:59PM [get_matrix]: Exporting matrix data to (C:\\Users\\slab\\AppData\\Local\\Temp\\tmplwbas68p.txt, C, , Setup:AdaptivePass, \"Original\", \"ohm\", \"nH\", \"fF\", \"mSie\", 5000000000, Maxwell, 6, False\n",
      "INFO 01:59PM [get_matrix]: Exporting matrix data to (C:\\Users\\slab\\AppData\\Local\\Temp\\tmpwznjyymg.txt, C, , Setup:AdaptivePass, \"Original\", \"ohm\", \"nH\", \"fF\", \"mSie\", 5000000000, Maxwell, 7, False\n",
      "INFO 01:59PM [get_matrix]: Exporting matrix data to (C:\\Users\\slab\\AppData\\Local\\Temp\\tmp3qzs2kr0.txt, C, , Setup:AdaptivePass, \"Original\", \"ohm\", \"nH\", \"fF\", \"mSie\", 5000000000, Maxwell, 8, False\n",
      "INFO 01:59PM [get_matrix]: Exporting matrix data to (C:\\Users\\slab\\AppData\\Local\\Temp\\tmpbuovqn27.txt, C, , Setup:AdaptivePass, \"Original\", \"ohm\", \"nH\", \"fF\", \"mSie\", 5000000000, Maxwell, 9, False\n",
      "INFO 01:59PM [get_matrix]: Exporting matrix data to (C:\\Users\\slab\\AppData\\Local\\Temp\\tmpi1a8q8pd.txt, C, , Setup:AdaptivePass, \"Original\", \"ohm\", \"nH\", \"fF\", \"mSie\", 5000000000, Maxwell, 10, False\n",
      "INFO 01:59PM [get_matrix]: Exporting matrix data to (C:\\Users\\slab\\AppData\\Local\\Temp\\tmpzf6zgul8.txt, C, , Setup:AdaptivePass, \"Original\", \"ohm\", \"nH\", \"fF\", \"mSie\", 5000000000, Maxwell, 11, False\n"
     ]
    },
    {
     "name": "stdout",
     "output_type": "stream",
     "text": [
      "                    a_connector_pad_Q1  ground_main_plane  pad_top_Q1\n",
      "a_connector_pad_Q1            30.26596          -21.21163    -8.35404\n",
      "ground_main_plane            -21.21163           97.30975   -33.92085\n",
      "pad_top_Q1                    -8.35404          -33.92085    44.19702\n"
     ]
    },
    {
     "name": "stderr",
     "output_type": "stream",
     "text": [
      "INFO 01:59PM [connect_design]: \tOpened active design\n",
      "\tDesign:    Design_q3d [Solution type: Q3D]\n",
      "INFO 01:59PM [get_setup]: \tOpened setup `Setup`  (<class 'pyEPR.ansys.AnsysQ3DSetup'>)\n",
      "INFO 01:59PM [analyze]: Analyzing setup Setup\n",
      "INFO 02:00PM [get_matrix]: Exporting matrix data to (C:\\Users\\slab\\AppData\\Local\\Temp\\tmpbcetvp2n.txt, C, , Setup:LastAdaptive, \"Original\", \"ohm\", \"nH\", \"fF\", \"mSie\", 5000000000, Maxwell, 1, False\n",
      "INFO 02:00PM [get_matrix]: Exporting matrix data to (C:\\Users\\slab\\AppData\\Local\\Temp\\tmpgzkr2cyh.txt, C, , Setup:AdaptivePass, \"Original\", \"ohm\", \"nH\", \"fF\", \"mSie\", 5000000000, Maxwell, 1, False\n",
      "INFO 02:00PM [get_matrix]: Exporting matrix data to (C:\\Users\\slab\\AppData\\Local\\Temp\\tmplq1inplx.txt, C, , Setup:AdaptivePass, \"Original\", \"ohm\", \"nH\", \"fF\", \"mSie\", 5000000000, Maxwell, 2, False\n",
      "INFO 02:00PM [get_matrix]: Exporting matrix data to (C:\\Users\\slab\\AppData\\Local\\Temp\\tmpg9x1rilh.txt, C, , Setup:AdaptivePass, \"Original\", \"ohm\", \"nH\", \"fF\", \"mSie\", 5000000000, Maxwell, 3, False\n",
      "INFO 02:00PM [get_matrix]: Exporting matrix data to (C:\\Users\\slab\\AppData\\Local\\Temp\\tmp7djkkvu6.txt, C, , Setup:AdaptivePass, \"Original\", \"ohm\", \"nH\", \"fF\", \"mSie\", 5000000000, Maxwell, 4, False\n",
      "INFO 02:00PM [get_matrix]: Exporting matrix data to (C:\\Users\\slab\\AppData\\Local\\Temp\\tmpxjb9ecjf.txt, C, , Setup:AdaptivePass, \"Original\", \"ohm\", \"nH\", \"fF\", \"mSie\", 5000000000, Maxwell, 5, False\n",
      "INFO 02:00PM [get_matrix]: Exporting matrix data to (C:\\Users\\slab\\AppData\\Local\\Temp\\tmppjuhz689.txt, C, , Setup:AdaptivePass, \"Original\", \"ohm\", \"nH\", \"fF\", \"mSie\", 5000000000, Maxwell, 6, False\n",
      "INFO 02:00PM [get_matrix]: Exporting matrix data to (C:\\Users\\slab\\AppData\\Local\\Temp\\tmp4cwac8ri.txt, C, , Setup:AdaptivePass, \"Original\", \"ohm\", \"nH\", \"fF\", \"mSie\", 5000000000, Maxwell, 7, False\n",
      "INFO 02:00PM [get_matrix]: Exporting matrix data to (C:\\Users\\slab\\AppData\\Local\\Temp\\tmpp_bek0vi.txt, C, , Setup:AdaptivePass, \"Original\", \"ohm\", \"nH\", \"fF\", \"mSie\", 5000000000, Maxwell, 8, False\n",
      "INFO 02:00PM [get_matrix]: Exporting matrix data to (C:\\Users\\slab\\AppData\\Local\\Temp\\tmp3qsdqavt.txt, C, , Setup:AdaptivePass, \"Original\", \"ohm\", \"nH\", \"fF\", \"mSie\", 5000000000, Maxwell, 9, False\n",
      "INFO 02:00PM [get_matrix]: Exporting matrix data to (C:\\Users\\slab\\AppData\\Local\\Temp\\tmps5fxaxpb.txt, C, , Setup:AdaptivePass, \"Original\", \"ohm\", \"nH\", \"fF\", \"mSie\", 5000000000, Maxwell, 10, False\n",
      "INFO 02:00PM [get_matrix]: Exporting matrix data to (C:\\Users\\slab\\AppData\\Local\\Temp\\tmp4l7jd7wl.txt, C, , Setup:AdaptivePass, \"Original\", \"ohm\", \"nH\", \"fF\", \"mSie\", 5000000000, Maxwell, 11, False\n",
      "INFO 02:00PM [get_matrix]: Exporting matrix data to (C:\\Users\\slab\\AppData\\Local\\Temp\\tmp2kifmcdb.txt, C, , Setup:LastAdaptive, \"Original\", \"ohm\", \"nH\", \"fF\", \"mSie\", 5000000000, Maxwell, 1, False\n",
      "INFO 02:00PM [get_matrix]: Exporting matrix data to (C:\\Users\\slab\\AppData\\Local\\Temp\\tmp4dd_7mwr.txt, C, , Setup:AdaptivePass, \"Original\", \"ohm\", \"nH\", \"fF\", \"mSie\", 5000000000, Maxwell, 1, False\n",
      "INFO 02:00PM [get_matrix]: Exporting matrix data to (C:\\Users\\slab\\AppData\\Local\\Temp\\tmpwlz4wlse.txt, C, , Setup:AdaptivePass, \"Original\", \"ohm\", \"nH\", \"fF\", \"mSie\", 5000000000, Maxwell, 2, False\n",
      "INFO 02:00PM [get_matrix]: Exporting matrix data to (C:\\Users\\slab\\AppData\\Local\\Temp\\tmpf654q_if.txt, C, , Setup:AdaptivePass, \"Original\", \"ohm\", \"nH\", \"fF\", \"mSie\", 5000000000, Maxwell, 3, False\n",
      "INFO 02:00PM [get_matrix]: Exporting matrix data to (C:\\Users\\slab\\AppData\\Local\\Temp\\tmpoxt8808m.txt, C, , Setup:AdaptivePass, \"Original\", \"ohm\", \"nH\", \"fF\", \"mSie\", 5000000000, Maxwell, 4, False\n",
      "INFO 02:00PM [get_matrix]: Exporting matrix data to (C:\\Users\\slab\\AppData\\Local\\Temp\\tmprmm1pw71.txt, C, , Setup:AdaptivePass, \"Original\", \"ohm\", \"nH\", \"fF\", \"mSie\", 5000000000, Maxwell, 5, False\n",
      "INFO 02:00PM [get_matrix]: Exporting matrix data to (C:\\Users\\slab\\AppData\\Local\\Temp\\tmppgd3ghk0.txt, C, , Setup:AdaptivePass, \"Original\", \"ohm\", \"nH\", \"fF\", \"mSie\", 5000000000, Maxwell, 6, False\n",
      "INFO 02:00PM [get_matrix]: Exporting matrix data to (C:\\Users\\slab\\AppData\\Local\\Temp\\tmpyiapxu2q.txt, C, , Setup:AdaptivePass, \"Original\", \"ohm\", \"nH\", \"fF\", \"mSie\", 5000000000, Maxwell, 7, False\n",
      "INFO 02:00PM [get_matrix]: Exporting matrix data to (C:\\Users\\slab\\AppData\\Local\\Temp\\tmpa7g5sus1.txt, C, , Setup:AdaptivePass, \"Original\", \"ohm\", \"nH\", \"fF\", \"mSie\", 5000000000, Maxwell, 8, False\n",
      "INFO 02:00PM [get_matrix]: Exporting matrix data to (C:\\Users\\slab\\AppData\\Local\\Temp\\tmpum_s0an1.txt, C, , Setup:AdaptivePass, \"Original\", \"ohm\", \"nH\", \"fF\", \"mSie\", 5000000000, Maxwell, 9, False\n",
      "INFO 02:00PM [get_matrix]: Exporting matrix data to (C:\\Users\\slab\\AppData\\Local\\Temp\\tmpxmhclkq4.txt, C, , Setup:AdaptivePass, \"Original\", \"ohm\", \"nH\", \"fF\", \"mSie\", 5000000000, Maxwell, 10, False\n",
      "INFO 02:00PM [get_matrix]: Exporting matrix data to (C:\\Users\\slab\\AppData\\Local\\Temp\\tmp9frc8bem.txt, C, , Setup:AdaptivePass, \"Original\", \"ohm\", \"nH\", \"fF\", \"mSie\", 5000000000, Maxwell, 11, False\n"
     ]
    },
    {
     "name": "stdout",
     "output_type": "stream",
     "text": [
      "                    a_connector_pad_Q1  ground_main_plane  pad_top_Q1\n",
      "a_connector_pad_Q1            30.09026          -20.53847    -8.88490\n",
      "ground_main_plane            -20.53847           99.01598   -36.38364\n",
      "pad_top_Q1                    -8.88490          -36.38364    47.32006\n"
     ]
    },
    {
     "name": "stderr",
     "output_type": "stream",
     "text": [
      "INFO 02:00PM [connect_design]: \tOpened active design\n",
      "\tDesign:    Design_q3d [Solution type: Q3D]\n",
      "INFO 02:00PM [get_setup]: \tOpened setup `Setup`  (<class 'pyEPR.ansys.AnsysQ3DSetup'>)\n",
      "INFO 02:00PM [analyze]: Analyzing setup Setup\n",
      "INFO 02:01PM [get_matrix]: Exporting matrix data to (C:\\Users\\slab\\AppData\\Local\\Temp\\tmpgqpv0pwy.txt, C, , Setup:LastAdaptive, \"Original\", \"ohm\", \"nH\", \"fF\", \"mSie\", 5000000000, Maxwell, 1, False\n",
      "INFO 02:01PM [get_matrix]: Exporting matrix data to (C:\\Users\\slab\\AppData\\Local\\Temp\\tmp6yf5lbc1.txt, C, , Setup:AdaptivePass, \"Original\", \"ohm\", \"nH\", \"fF\", \"mSie\", 5000000000, Maxwell, 1, False\n",
      "INFO 02:01PM [get_matrix]: Exporting matrix data to (C:\\Users\\slab\\AppData\\Local\\Temp\\tmpsqybgbx7.txt, C, , Setup:AdaptivePass, \"Original\", \"ohm\", \"nH\", \"fF\", \"mSie\", 5000000000, Maxwell, 2, False\n",
      "INFO 02:01PM [get_matrix]: Exporting matrix data to (C:\\Users\\slab\\AppData\\Local\\Temp\\tmpv0myjgmu.txt, C, , Setup:AdaptivePass, \"Original\", \"ohm\", \"nH\", \"fF\", \"mSie\", 5000000000, Maxwell, 3, False\n",
      "INFO 02:01PM [get_matrix]: Exporting matrix data to (C:\\Users\\slab\\AppData\\Local\\Temp\\tmp8vffu2fe.txt, C, , Setup:AdaptivePass, \"Original\", \"ohm\", \"nH\", \"fF\", \"mSie\", 5000000000, Maxwell, 4, False\n",
      "INFO 02:01PM [get_matrix]: Exporting matrix data to (C:\\Users\\slab\\AppData\\Local\\Temp\\tmpbe1qan4v.txt, C, , Setup:AdaptivePass, \"Original\", \"ohm\", \"nH\", \"fF\", \"mSie\", 5000000000, Maxwell, 5, False\n",
      "INFO 02:01PM [get_matrix]: Exporting matrix data to (C:\\Users\\slab\\AppData\\Local\\Temp\\tmp0jdm4fbx.txt, C, , Setup:AdaptivePass, \"Original\", \"ohm\", \"nH\", \"fF\", \"mSie\", 5000000000, Maxwell, 6, False\n",
      "INFO 02:01PM [get_matrix]: Exporting matrix data to (C:\\Users\\slab\\AppData\\Local\\Temp\\tmp6on1xkjd.txt, C, , Setup:AdaptivePass, \"Original\", \"ohm\", \"nH\", \"fF\", \"mSie\", 5000000000, Maxwell, 7, False\n",
      "INFO 02:01PM [get_matrix]: Exporting matrix data to (C:\\Users\\slab\\AppData\\Local\\Temp\\tmp990g9n67.txt, C, , Setup:AdaptivePass, \"Original\", \"ohm\", \"nH\", \"fF\", \"mSie\", 5000000000, Maxwell, 8, False\n",
      "INFO 02:01PM [get_matrix]: Exporting matrix data to (C:\\Users\\slab\\AppData\\Local\\Temp\\tmp2vcvvgnf.txt, C, , Setup:AdaptivePass, \"Original\", \"ohm\", \"nH\", \"fF\", \"mSie\", 5000000000, Maxwell, 9, False\n",
      "INFO 02:01PM [get_matrix]: Exporting matrix data to (C:\\Users\\slab\\AppData\\Local\\Temp\\tmppkyg_kx2.txt, C, , Setup:AdaptivePass, \"Original\", \"ohm\", \"nH\", \"fF\", \"mSie\", 5000000000, Maxwell, 10, False\n",
      "INFO 02:01PM [get_matrix]: Exporting matrix data to (C:\\Users\\slab\\AppData\\Local\\Temp\\tmpu1p8tup7.txt, C, , Setup:AdaptivePass, \"Original\", \"ohm\", \"nH\", \"fF\", \"mSie\", 5000000000, Maxwell, 11, False\n",
      "INFO 02:01PM [get_matrix]: Exporting matrix data to (C:\\Users\\slab\\AppData\\Local\\Temp\\tmpn4ty5y0_.txt, C, , Setup:LastAdaptive, \"Original\", \"ohm\", \"nH\", \"fF\", \"mSie\", 5000000000, Maxwell, 1, False\n",
      "INFO 02:01PM [get_matrix]: Exporting matrix data to (C:\\Users\\slab\\AppData\\Local\\Temp\\tmpbylhya0x.txt, C, , Setup:AdaptivePass, \"Original\", \"ohm\", \"nH\", \"fF\", \"mSie\", 5000000000, Maxwell, 1, False\n",
      "INFO 02:01PM [get_matrix]: Exporting matrix data to (C:\\Users\\slab\\AppData\\Local\\Temp\\tmp0msavo76.txt, C, , Setup:AdaptivePass, \"Original\", \"ohm\", \"nH\", \"fF\", \"mSie\", 5000000000, Maxwell, 2, False\n",
      "INFO 02:01PM [get_matrix]: Exporting matrix data to (C:\\Users\\slab\\AppData\\Local\\Temp\\tmp0ehzlna9.txt, C, , Setup:AdaptivePass, \"Original\", \"ohm\", \"nH\", \"fF\", \"mSie\", 5000000000, Maxwell, 3, False\n",
      "INFO 02:01PM [get_matrix]: Exporting matrix data to (C:\\Users\\slab\\AppData\\Local\\Temp\\tmpl0q8tx25.txt, C, , Setup:AdaptivePass, \"Original\", \"ohm\", \"nH\", \"fF\", \"mSie\", 5000000000, Maxwell, 4, False\n",
      "INFO 02:01PM [get_matrix]: Exporting matrix data to (C:\\Users\\slab\\AppData\\Local\\Temp\\tmpe4rjfcco.txt, C, , Setup:AdaptivePass, \"Original\", \"ohm\", \"nH\", \"fF\", \"mSie\", 5000000000, Maxwell, 5, False\n",
      "INFO 02:01PM [get_matrix]: Exporting matrix data to (C:\\Users\\slab\\AppData\\Local\\Temp\\tmpi7bvfb3r.txt, C, , Setup:AdaptivePass, \"Original\", \"ohm\", \"nH\", \"fF\", \"mSie\", 5000000000, Maxwell, 6, False\n",
      "INFO 02:01PM [get_matrix]: Exporting matrix data to (C:\\Users\\slab\\AppData\\Local\\Temp\\tmp4di78czn.txt, C, , Setup:AdaptivePass, \"Original\", \"ohm\", \"nH\", \"fF\", \"mSie\", 5000000000, Maxwell, 7, False\n",
      "INFO 02:01PM [get_matrix]: Exporting matrix data to (C:\\Users\\slab\\AppData\\Local\\Temp\\tmpw6693acp.txt, C, , Setup:AdaptivePass, \"Original\", \"ohm\", \"nH\", \"fF\", \"mSie\", 5000000000, Maxwell, 8, False\n",
      "INFO 02:01PM [get_matrix]: Exporting matrix data to (C:\\Users\\slab\\AppData\\Local\\Temp\\tmpx10hv5o6.txt, C, , Setup:AdaptivePass, \"Original\", \"ohm\", \"nH\", \"fF\", \"mSie\", 5000000000, Maxwell, 9, False\n",
      "INFO 02:01PM [get_matrix]: Exporting matrix data to (C:\\Users\\slab\\AppData\\Local\\Temp\\tmp590exdav.txt, C, , Setup:AdaptivePass, \"Original\", \"ohm\", \"nH\", \"fF\", \"mSie\", 5000000000, Maxwell, 10, False\n",
      "INFO 02:01PM [get_matrix]: Exporting matrix data to (C:\\Users\\slab\\AppData\\Local\\Temp\\tmpfsta4d0o.txt, C, , Setup:AdaptivePass, \"Original\", \"ohm\", \"nH\", \"fF\", \"mSie\", 5000000000, Maxwell, 11, False\n"
     ]
    },
    {
     "name": "stdout",
     "output_type": "stream",
     "text": [
      "                    a_connector_pad_Q1  ground_main_plane  pad_top_Q1\n",
      "a_connector_pad_Q1            29.81910          -19.85024    -9.33330\n",
      "ground_main_plane            -19.85024          100.66956   -38.82068\n",
      "pad_top_Q1                    -9.33330          -38.82068    50.33375\n"
     ]
    },
    {
     "name": "stderr",
     "output_type": "stream",
     "text": [
      "INFO 02:01PM [connect_design]: \tOpened active design\n",
      "\tDesign:    Design_q3d [Solution type: Q3D]\n",
      "INFO 02:01PM [get_setup]: \tOpened setup `Setup`  (<class 'pyEPR.ansys.AnsysQ3DSetup'>)\n",
      "INFO 02:01PM [analyze]: Analyzing setup Setup\n",
      "INFO 02:02PM [get_matrix]: Exporting matrix data to (C:\\Users\\slab\\AppData\\Local\\Temp\\tmpe56_dmav.txt, C, , Setup:LastAdaptive, \"Original\", \"ohm\", \"nH\", \"fF\", \"mSie\", 5000000000, Maxwell, 1, False\n",
      "INFO 02:02PM [get_matrix]: Exporting matrix data to (C:\\Users\\slab\\AppData\\Local\\Temp\\tmp9xi6o8hn.txt, C, , Setup:AdaptivePass, \"Original\", \"ohm\", \"nH\", \"fF\", \"mSie\", 5000000000, Maxwell, 1, False\n",
      "INFO 02:02PM [get_matrix]: Exporting matrix data to (C:\\Users\\slab\\AppData\\Local\\Temp\\tmptdbcay5r.txt, C, , Setup:AdaptivePass, \"Original\", \"ohm\", \"nH\", \"fF\", \"mSie\", 5000000000, Maxwell, 2, False\n",
      "INFO 02:02PM [get_matrix]: Exporting matrix data to (C:\\Users\\slab\\AppData\\Local\\Temp\\tmprgknyyj2.txt, C, , Setup:AdaptivePass, \"Original\", \"ohm\", \"nH\", \"fF\", \"mSie\", 5000000000, Maxwell, 3, False\n",
      "INFO 02:02PM [get_matrix]: Exporting matrix data to (C:\\Users\\slab\\AppData\\Local\\Temp\\tmpng5j0hyt.txt, C, , Setup:AdaptivePass, \"Original\", \"ohm\", \"nH\", \"fF\", \"mSie\", 5000000000, Maxwell, 4, False\n",
      "INFO 02:02PM [get_matrix]: Exporting matrix data to (C:\\Users\\slab\\AppData\\Local\\Temp\\tmppdq66gam.txt, C, , Setup:AdaptivePass, \"Original\", \"ohm\", \"nH\", \"fF\", \"mSie\", 5000000000, Maxwell, 5, False\n",
      "INFO 02:02PM [get_matrix]: Exporting matrix data to (C:\\Users\\slab\\AppData\\Local\\Temp\\tmpe5su77sj.txt, C, , Setup:AdaptivePass, \"Original\", \"ohm\", \"nH\", \"fF\", \"mSie\", 5000000000, Maxwell, 6, False\n",
      "INFO 02:02PM [get_matrix]: Exporting matrix data to (C:\\Users\\slab\\AppData\\Local\\Temp\\tmps7s15_xi.txt, C, , Setup:AdaptivePass, \"Original\", \"ohm\", \"nH\", \"fF\", \"mSie\", 5000000000, Maxwell, 7, False\n",
      "INFO 02:02PM [get_matrix]: Exporting matrix data to (C:\\Users\\slab\\AppData\\Local\\Temp\\tmpk3zkcyax.txt, C, , Setup:AdaptivePass, \"Original\", \"ohm\", \"nH\", \"fF\", \"mSie\", 5000000000, Maxwell, 8, False\n",
      "INFO 02:02PM [get_matrix]: Exporting matrix data to (C:\\Users\\slab\\AppData\\Local\\Temp\\tmpbqyb6gmf.txt, C, , Setup:AdaptivePass, \"Original\", \"ohm\", \"nH\", \"fF\", \"mSie\", 5000000000, Maxwell, 9, False\n",
      "INFO 02:02PM [get_matrix]: Exporting matrix data to (C:\\Users\\slab\\AppData\\Local\\Temp\\tmp180qhtl1.txt, C, , Setup:AdaptivePass, \"Original\", \"ohm\", \"nH\", \"fF\", \"mSie\", 5000000000, Maxwell, 10, False\n",
      "INFO 02:02PM [get_matrix]: Exporting matrix data to (C:\\Users\\slab\\AppData\\Local\\Temp\\tmpi54atc6u.txt, C, , Setup:AdaptivePass, \"Original\", \"ohm\", \"nH\", \"fF\", \"mSie\", 5000000000, Maxwell, 11, False\n",
      "INFO 02:02PM [get_matrix]: Exporting matrix data to (C:\\Users\\slab\\AppData\\Local\\Temp\\tmpcqhp181_.txt, C, , Setup:LastAdaptive, \"Original\", \"ohm\", \"nH\", \"fF\", \"mSie\", 5000000000, Maxwell, 1, False\n",
      "INFO 02:02PM [get_matrix]: Exporting matrix data to (C:\\Users\\slab\\AppData\\Local\\Temp\\tmpgcf2rljk.txt, C, , Setup:AdaptivePass, \"Original\", \"ohm\", \"nH\", \"fF\", \"mSie\", 5000000000, Maxwell, 1, False\n",
      "INFO 02:02PM [get_matrix]: Exporting matrix data to (C:\\Users\\slab\\AppData\\Local\\Temp\\tmpxej5lj4z.txt, C, , Setup:AdaptivePass, \"Original\", \"ohm\", \"nH\", \"fF\", \"mSie\", 5000000000, Maxwell, 2, False\n",
      "INFO 02:02PM [get_matrix]: Exporting matrix data to (C:\\Users\\slab\\AppData\\Local\\Temp\\tmpjfmyv2kf.txt, C, , Setup:AdaptivePass, \"Original\", \"ohm\", \"nH\", \"fF\", \"mSie\", 5000000000, Maxwell, 3, False\n",
      "INFO 02:02PM [get_matrix]: Exporting matrix data to (C:\\Users\\slab\\AppData\\Local\\Temp\\tmppnabdiyi.txt, C, , Setup:AdaptivePass, \"Original\", \"ohm\", \"nH\", \"fF\", \"mSie\", 5000000000, Maxwell, 4, False\n",
      "INFO 02:02PM [get_matrix]: Exporting matrix data to (C:\\Users\\slab\\AppData\\Local\\Temp\\tmpnei1vd9x.txt, C, , Setup:AdaptivePass, \"Original\", \"ohm\", \"nH\", \"fF\", \"mSie\", 5000000000, Maxwell, 5, False\n",
      "INFO 02:02PM [get_matrix]: Exporting matrix data to (C:\\Users\\slab\\AppData\\Local\\Temp\\tmpq7402pvj.txt, C, , Setup:AdaptivePass, \"Original\", \"ohm\", \"nH\", \"fF\", \"mSie\", 5000000000, Maxwell, 6, False\n",
      "INFO 02:02PM [get_matrix]: Exporting matrix data to (C:\\Users\\slab\\AppData\\Local\\Temp\\tmph91drpr3.txt, C, , Setup:AdaptivePass, \"Original\", \"ohm\", \"nH\", \"fF\", \"mSie\", 5000000000, Maxwell, 7, False\n",
      "INFO 02:02PM [get_matrix]: Exporting matrix data to (C:\\Users\\slab\\AppData\\Local\\Temp\\tmpksp_wxo7.txt, C, , Setup:AdaptivePass, \"Original\", \"ohm\", \"nH\", \"fF\", \"mSie\", 5000000000, Maxwell, 8, False\n",
      "INFO 02:02PM [get_matrix]: Exporting matrix data to (C:\\Users\\slab\\AppData\\Local\\Temp\\tmp2oycc1oz.txt, C, , Setup:AdaptivePass, \"Original\", \"ohm\", \"nH\", \"fF\", \"mSie\", 5000000000, Maxwell, 9, False\n",
      "INFO 02:02PM [get_matrix]: Exporting matrix data to (C:\\Users\\slab\\AppData\\Local\\Temp\\tmp95czifmw.txt, C, , Setup:AdaptivePass, \"Original\", \"ohm\", \"nH\", \"fF\", \"mSie\", 5000000000, Maxwell, 10, False\n",
      "INFO 02:02PM [get_matrix]: Exporting matrix data to (C:\\Users\\slab\\AppData\\Local\\Temp\\tmpyurgo4hn.txt, C, , Setup:AdaptivePass, \"Original\", \"ohm\", \"nH\", \"fF\", \"mSie\", 5000000000, Maxwell, 11, False\n"
     ]
    },
    {
     "name": "stdout",
     "output_type": "stream",
     "text": [
      "                    a_connector_pad_Q1  ground_main_plane  pad_top_Q1\n",
      "a_connector_pad_Q1            29.49889          -19.20974    -9.68308\n",
      "ground_main_plane            -19.20974          102.38955   -41.27234\n",
      "pad_top_Q1                    -9.68308          -41.27234    53.26091\n"
     ]
    },
    {
     "name": "stderr",
     "output_type": "stream",
     "text": [
      "INFO 02:02PM [connect_design]: \tOpened active design\n",
      "\tDesign:    Design_q3d [Solution type: Q3D]\n",
      "INFO 02:02PM [get_setup]: \tOpened setup `Setup`  (<class 'pyEPR.ansys.AnsysQ3DSetup'>)\n",
      "INFO 02:02PM [analyze]: Analyzing setup Setup\n",
      "INFO 02:03PM [get_matrix]: Exporting matrix data to (C:\\Users\\slab\\AppData\\Local\\Temp\\tmpj4ry2bpx.txt, C, , Setup:LastAdaptive, \"Original\", \"ohm\", \"nH\", \"fF\", \"mSie\", 5000000000, Maxwell, 1, False\n",
      "INFO 02:03PM [get_matrix]: Exporting matrix data to (C:\\Users\\slab\\AppData\\Local\\Temp\\tmpuvr0gz5t.txt, C, , Setup:AdaptivePass, \"Original\", \"ohm\", \"nH\", \"fF\", \"mSie\", 5000000000, Maxwell, 1, False\n",
      "INFO 02:03PM [get_matrix]: Exporting matrix data to (C:\\Users\\slab\\AppData\\Local\\Temp\\tmp23cbce2d.txt, C, , Setup:AdaptivePass, \"Original\", \"ohm\", \"nH\", \"fF\", \"mSie\", 5000000000, Maxwell, 2, False\n",
      "INFO 02:03PM [get_matrix]: Exporting matrix data to (C:\\Users\\slab\\AppData\\Local\\Temp\\tmpw4eaoz27.txt, C, , Setup:AdaptivePass, \"Original\", \"ohm\", \"nH\", \"fF\", \"mSie\", 5000000000, Maxwell, 3, False\n",
      "INFO 02:03PM [get_matrix]: Exporting matrix data to (C:\\Users\\slab\\AppData\\Local\\Temp\\tmprq3c5t87.txt, C, , Setup:AdaptivePass, \"Original\", \"ohm\", \"nH\", \"fF\", \"mSie\", 5000000000, Maxwell, 4, False\n",
      "INFO 02:03PM [get_matrix]: Exporting matrix data to (C:\\Users\\slab\\AppData\\Local\\Temp\\tmp92_kazbp.txt, C, , Setup:AdaptivePass, \"Original\", \"ohm\", \"nH\", \"fF\", \"mSie\", 5000000000, Maxwell, 5, False\n",
      "INFO 02:03PM [get_matrix]: Exporting matrix data to (C:\\Users\\slab\\AppData\\Local\\Temp\\tmppou37mgr.txt, C, , Setup:AdaptivePass, \"Original\", \"ohm\", \"nH\", \"fF\", \"mSie\", 5000000000, Maxwell, 6, False\n",
      "INFO 02:03PM [get_matrix]: Exporting matrix data to (C:\\Users\\slab\\AppData\\Local\\Temp\\tmp3jrup3jq.txt, C, , Setup:AdaptivePass, \"Original\", \"ohm\", \"nH\", \"fF\", \"mSie\", 5000000000, Maxwell, 7, False\n",
      "INFO 02:03PM [get_matrix]: Exporting matrix data to (C:\\Users\\slab\\AppData\\Local\\Temp\\tmpno99i9_u.txt, C, , Setup:AdaptivePass, \"Original\", \"ohm\", \"nH\", \"fF\", \"mSie\", 5000000000, Maxwell, 8, False\n",
      "INFO 02:03PM [get_matrix]: Exporting matrix data to (C:\\Users\\slab\\AppData\\Local\\Temp\\tmptzc7wkj5.txt, C, , Setup:AdaptivePass, \"Original\", \"ohm\", \"nH\", \"fF\", \"mSie\", 5000000000, Maxwell, 9, False\n",
      "INFO 02:03PM [get_matrix]: Exporting matrix data to (C:\\Users\\slab\\AppData\\Local\\Temp\\tmphcjzz9nm.txt, C, , Setup:AdaptivePass, \"Original\", \"ohm\", \"nH\", \"fF\", \"mSie\", 5000000000, Maxwell, 10, False\n",
      "INFO 02:03PM [get_matrix]: Exporting matrix data to (C:\\Users\\slab\\AppData\\Local\\Temp\\tmpoxr2_1b2.txt, C, , Setup:AdaptivePass, \"Original\", \"ohm\", \"nH\", \"fF\", \"mSie\", 5000000000, Maxwell, 11, False\n",
      "INFO 02:03PM [get_matrix]: Exporting matrix data to (C:\\Users\\slab\\AppData\\Local\\Temp\\tmp0ab_pmz9.txt, C, , Setup:LastAdaptive, \"Original\", \"ohm\", \"nH\", \"fF\", \"mSie\", 5000000000, Maxwell, 1, False\n",
      "INFO 02:03PM [get_matrix]: Exporting matrix data to (C:\\Users\\slab\\AppData\\Local\\Temp\\tmpej3nddj9.txt, C, , Setup:AdaptivePass, \"Original\", \"ohm\", \"nH\", \"fF\", \"mSie\", 5000000000, Maxwell, 1, False\n",
      "INFO 02:03PM [get_matrix]: Exporting matrix data to (C:\\Users\\slab\\AppData\\Local\\Temp\\tmp4sz49jjh.txt, C, , Setup:AdaptivePass, \"Original\", \"ohm\", \"nH\", \"fF\", \"mSie\", 5000000000, Maxwell, 2, False\n",
      "INFO 02:03PM [get_matrix]: Exporting matrix data to (C:\\Users\\slab\\AppData\\Local\\Temp\\tmpn95jd7y5.txt, C, , Setup:AdaptivePass, \"Original\", \"ohm\", \"nH\", \"fF\", \"mSie\", 5000000000, Maxwell, 3, False\n",
      "INFO 02:03PM [get_matrix]: Exporting matrix data to (C:\\Users\\slab\\AppData\\Local\\Temp\\tmpoc4z4ke0.txt, C, , Setup:AdaptivePass, \"Original\", \"ohm\", \"nH\", \"fF\", \"mSie\", 5000000000, Maxwell, 4, False\n",
      "INFO 02:03PM [get_matrix]: Exporting matrix data to (C:\\Users\\slab\\AppData\\Local\\Temp\\tmp0fmiwd14.txt, C, , Setup:AdaptivePass, \"Original\", \"ohm\", \"nH\", \"fF\", \"mSie\", 5000000000, Maxwell, 5, False\n",
      "INFO 02:03PM [get_matrix]: Exporting matrix data to (C:\\Users\\slab\\AppData\\Local\\Temp\\tmpq6kk1ku4.txt, C, , Setup:AdaptivePass, \"Original\", \"ohm\", \"nH\", \"fF\", \"mSie\", 5000000000, Maxwell, 6, False\n",
      "INFO 02:03PM [get_matrix]: Exporting matrix data to (C:\\Users\\slab\\AppData\\Local\\Temp\\tmp3vygl5ff.txt, C, , Setup:AdaptivePass, \"Original\", \"ohm\", \"nH\", \"fF\", \"mSie\", 5000000000, Maxwell, 7, False\n",
      "INFO 02:03PM [get_matrix]: Exporting matrix data to (C:\\Users\\slab\\AppData\\Local\\Temp\\tmpynpmhomf.txt, C, , Setup:AdaptivePass, \"Original\", \"ohm\", \"nH\", \"fF\", \"mSie\", 5000000000, Maxwell, 8, False\n",
      "INFO 02:03PM [get_matrix]: Exporting matrix data to (C:\\Users\\slab\\AppData\\Local\\Temp\\tmp2hy8z7uj.txt, C, , Setup:AdaptivePass, \"Original\", \"ohm\", \"nH\", \"fF\", \"mSie\", 5000000000, Maxwell, 9, False\n",
      "INFO 02:03PM [get_matrix]: Exporting matrix data to (C:\\Users\\slab\\AppData\\Local\\Temp\\tmpo4xpfd33.txt, C, , Setup:AdaptivePass, \"Original\", \"ohm\", \"nH\", \"fF\", \"mSie\", 5000000000, Maxwell, 10, False\n",
      "INFO 02:03PM [get_matrix]: Exporting matrix data to (C:\\Users\\slab\\AppData\\Local\\Temp\\tmppccaom44.txt, C, , Setup:AdaptivePass, \"Original\", \"ohm\", \"nH\", \"fF\", \"mSie\", 5000000000, Maxwell, 11, False\n"
     ]
    },
    {
     "name": "stdout",
     "output_type": "stream",
     "text": [
      "                    a_connector_pad_Q1  ground_main_plane  pad_top_Q1\n",
      "a_connector_pad_Q1            29.11661          -18.60605    -9.93134\n",
      "ground_main_plane            -18.60605          104.13233   -43.71274\n",
      "pad_top_Q1                    -9.93134          -43.71274    56.07388\n"
     ]
    },
    {
     "name": "stderr",
     "output_type": "stream",
     "text": [
      "INFO 02:03PM [connect_design]: \tOpened active design\n",
      "\tDesign:    Design_q3d [Solution type: Q3D]\n",
      "INFO 02:03PM [get_setup]: \tOpened setup `Setup`  (<class 'pyEPR.ansys.AnsysQ3DSetup'>)\n",
      "INFO 02:03PM [analyze]: Analyzing setup Setup\n",
      "INFO 02:04PM [get_matrix]: Exporting matrix data to (C:\\Users\\slab\\AppData\\Local\\Temp\\tmp14fxdd3h.txt, C, , Setup:LastAdaptive, \"Original\", \"ohm\", \"nH\", \"fF\", \"mSie\", 5000000000, Maxwell, 1, False\n",
      "INFO 02:04PM [get_matrix]: Exporting matrix data to (C:\\Users\\slab\\AppData\\Local\\Temp\\tmpf_zipf_d.txt, C, , Setup:AdaptivePass, \"Original\", \"ohm\", \"nH\", \"fF\", \"mSie\", 5000000000, Maxwell, 1, False\n",
      "INFO 02:04PM [get_matrix]: Exporting matrix data to (C:\\Users\\slab\\AppData\\Local\\Temp\\tmp9ih71gqw.txt, C, , Setup:AdaptivePass, \"Original\", \"ohm\", \"nH\", \"fF\", \"mSie\", 5000000000, Maxwell, 2, False\n",
      "INFO 02:04PM [get_matrix]: Exporting matrix data to (C:\\Users\\slab\\AppData\\Local\\Temp\\tmpb89eksja.txt, C, , Setup:AdaptivePass, \"Original\", \"ohm\", \"nH\", \"fF\", \"mSie\", 5000000000, Maxwell, 3, False\n",
      "INFO 02:04PM [get_matrix]: Exporting matrix data to (C:\\Users\\slab\\AppData\\Local\\Temp\\tmpef2l4fnl.txt, C, , Setup:AdaptivePass, \"Original\", \"ohm\", \"nH\", \"fF\", \"mSie\", 5000000000, Maxwell, 4, False\n",
      "INFO 02:04PM [get_matrix]: Exporting matrix data to (C:\\Users\\slab\\AppData\\Local\\Temp\\tmpp_qmtvy6.txt, C, , Setup:AdaptivePass, \"Original\", \"ohm\", \"nH\", \"fF\", \"mSie\", 5000000000, Maxwell, 5, False\n",
      "INFO 02:04PM [get_matrix]: Exporting matrix data to (C:\\Users\\slab\\AppData\\Local\\Temp\\tmppf1fuseq.txt, C, , Setup:AdaptivePass, \"Original\", \"ohm\", \"nH\", \"fF\", \"mSie\", 5000000000, Maxwell, 6, False\n",
      "INFO 02:04PM [get_matrix]: Exporting matrix data to (C:\\Users\\slab\\AppData\\Local\\Temp\\tmpj6sy8mxs.txt, C, , Setup:AdaptivePass, \"Original\", \"ohm\", \"nH\", \"fF\", \"mSie\", 5000000000, Maxwell, 7, False\n",
      "INFO 02:04PM [get_matrix]: Exporting matrix data to (C:\\Users\\slab\\AppData\\Local\\Temp\\tmp24w57j42.txt, C, , Setup:AdaptivePass, \"Original\", \"ohm\", \"nH\", \"fF\", \"mSie\", 5000000000, Maxwell, 8, False\n",
      "INFO 02:04PM [get_matrix]: Exporting matrix data to (C:\\Users\\slab\\AppData\\Local\\Temp\\tmpdmn22aum.txt, C, , Setup:AdaptivePass, \"Original\", \"ohm\", \"nH\", \"fF\", \"mSie\", 5000000000, Maxwell, 9, False\n",
      "INFO 02:04PM [get_matrix]: Exporting matrix data to (C:\\Users\\slab\\AppData\\Local\\Temp\\tmpfhgtseqe.txt, C, , Setup:AdaptivePass, \"Original\", \"ohm\", \"nH\", \"fF\", \"mSie\", 5000000000, Maxwell, 10, False\n",
      "INFO 02:04PM [get_matrix]: Exporting matrix data to (C:\\Users\\slab\\AppData\\Local\\Temp\\tmpj3a_wbgl.txt, C, , Setup:AdaptivePass, \"Original\", \"ohm\", \"nH\", \"fF\", \"mSie\", 5000000000, Maxwell, 11, False\n",
      "INFO 02:04PM [get_matrix]: Exporting matrix data to (C:\\Users\\slab\\AppData\\Local\\Temp\\tmpsxhhvvw0.txt, C, , Setup:LastAdaptive, \"Original\", \"ohm\", \"nH\", \"fF\", \"mSie\", 5000000000, Maxwell, 1, False\n",
      "INFO 02:04PM [get_matrix]: Exporting matrix data to (C:\\Users\\slab\\AppData\\Local\\Temp\\tmpqa6ia9gj.txt, C, , Setup:AdaptivePass, \"Original\", \"ohm\", \"nH\", \"fF\", \"mSie\", 5000000000, Maxwell, 1, False\n",
      "INFO 02:04PM [get_matrix]: Exporting matrix data to (C:\\Users\\slab\\AppData\\Local\\Temp\\tmp4fww89eq.txt, C, , Setup:AdaptivePass, \"Original\", \"ohm\", \"nH\", \"fF\", \"mSie\", 5000000000, Maxwell, 2, False\n",
      "INFO 02:04PM [get_matrix]: Exporting matrix data to (C:\\Users\\slab\\AppData\\Local\\Temp\\tmpgh62q92l.txt, C, , Setup:AdaptivePass, \"Original\", \"ohm\", \"nH\", \"fF\", \"mSie\", 5000000000, Maxwell, 3, False\n",
      "INFO 02:04PM [get_matrix]: Exporting matrix data to (C:\\Users\\slab\\AppData\\Local\\Temp\\tmppozuv48b.txt, C, , Setup:AdaptivePass, \"Original\", \"ohm\", \"nH\", \"fF\", \"mSie\", 5000000000, Maxwell, 4, False\n",
      "INFO 02:04PM [get_matrix]: Exporting matrix data to (C:\\Users\\slab\\AppData\\Local\\Temp\\tmpvkx80psf.txt, C, , Setup:AdaptivePass, \"Original\", \"ohm\", \"nH\", \"fF\", \"mSie\", 5000000000, Maxwell, 5, False\n",
      "INFO 02:04PM [get_matrix]: Exporting matrix data to (C:\\Users\\slab\\AppData\\Local\\Temp\\tmpkfovd2oh.txt, C, , Setup:AdaptivePass, \"Original\", \"ohm\", \"nH\", \"fF\", \"mSie\", 5000000000, Maxwell, 6, False\n",
      "INFO 02:04PM [get_matrix]: Exporting matrix data to (C:\\Users\\slab\\AppData\\Local\\Temp\\tmpg2u8vxzr.txt, C, , Setup:AdaptivePass, \"Original\", \"ohm\", \"nH\", \"fF\", \"mSie\", 5000000000, Maxwell, 7, False\n",
      "INFO 02:04PM [get_matrix]: Exporting matrix data to (C:\\Users\\slab\\AppData\\Local\\Temp\\tmp1p_fjgit.txt, C, , Setup:AdaptivePass, \"Original\", \"ohm\", \"nH\", \"fF\", \"mSie\", 5000000000, Maxwell, 8, False\n",
      "INFO 02:04PM [get_matrix]: Exporting matrix data to (C:\\Users\\slab\\AppData\\Local\\Temp\\tmp8tyod0mw.txt, C, , Setup:AdaptivePass, \"Original\", \"ohm\", \"nH\", \"fF\", \"mSie\", 5000000000, Maxwell, 9, False\n",
      "INFO 02:04PM [get_matrix]: Exporting matrix data to (C:\\Users\\slab\\AppData\\Local\\Temp\\tmpfoj6yrny.txt, C, , Setup:AdaptivePass, \"Original\", \"ohm\", \"nH\", \"fF\", \"mSie\", 5000000000, Maxwell, 10, False\n",
      "INFO 02:04PM [get_matrix]: Exporting matrix data to (C:\\Users\\slab\\AppData\\Local\\Temp\\tmpxg14jl1u.txt, C, , Setup:AdaptivePass, \"Original\", \"ohm\", \"nH\", \"fF\", \"mSie\", 5000000000, Maxwell, 11, False\n"
     ]
    },
    {
     "name": "stdout",
     "output_type": "stream",
     "text": [
      "                    a_connector_pad_Q1  ground_main_plane  pad_top_Q1\n",
      "a_connector_pad_Q1            28.71203          -18.05708   -10.10065\n",
      "ground_main_plane            -18.05708          105.95839   -46.18039\n",
      "pad_top_Q1                   -10.10065          -46.18039    58.83294\n"
     ]
    },
    {
     "name": "stderr",
     "output_type": "stream",
     "text": [
      "INFO 02:04PM [connect_design]: \tOpened active design\n",
      "\tDesign:    Design_q3d [Solution type: Q3D]\n",
      "INFO 02:04PM [get_setup]: \tOpened setup `Setup`  (<class 'pyEPR.ansys.AnsysQ3DSetup'>)\n",
      "INFO 02:04PM [analyze]: Analyzing setup Setup\n",
      "INFO 02:05PM [get_matrix]: Exporting matrix data to (C:\\Users\\slab\\AppData\\Local\\Temp\\tmp5s_t3a77.txt, C, , Setup:LastAdaptive, \"Original\", \"ohm\", \"nH\", \"fF\", \"mSie\", 5000000000, Maxwell, 1, False\n",
      "INFO 02:05PM [get_matrix]: Exporting matrix data to (C:\\Users\\slab\\AppData\\Local\\Temp\\tmp8hs5kfs9.txt, C, , Setup:AdaptivePass, \"Original\", \"ohm\", \"nH\", \"fF\", \"mSie\", 5000000000, Maxwell, 1, False\n",
      "INFO 02:05PM [get_matrix]: Exporting matrix data to (C:\\Users\\slab\\AppData\\Local\\Temp\\tmpwbc84pyq.txt, C, , Setup:AdaptivePass, \"Original\", \"ohm\", \"nH\", \"fF\", \"mSie\", 5000000000, Maxwell, 2, False\n",
      "INFO 02:05PM [get_matrix]: Exporting matrix data to (C:\\Users\\slab\\AppData\\Local\\Temp\\tmplkfo7p8g.txt, C, , Setup:AdaptivePass, \"Original\", \"ohm\", \"nH\", \"fF\", \"mSie\", 5000000000, Maxwell, 3, False\n",
      "INFO 02:05PM [get_matrix]: Exporting matrix data to (C:\\Users\\slab\\AppData\\Local\\Temp\\tmpwgcdngov.txt, C, , Setup:AdaptivePass, \"Original\", \"ohm\", \"nH\", \"fF\", \"mSie\", 5000000000, Maxwell, 4, False\n",
      "INFO 02:05PM [get_matrix]: Exporting matrix data to (C:\\Users\\slab\\AppData\\Local\\Temp\\tmpuvsk3ut3.txt, C, , Setup:AdaptivePass, \"Original\", \"ohm\", \"nH\", \"fF\", \"mSie\", 5000000000, Maxwell, 5, False\n",
      "INFO 02:05PM [get_matrix]: Exporting matrix data to (C:\\Users\\slab\\AppData\\Local\\Temp\\tmpow2k2dv8.txt, C, , Setup:AdaptivePass, \"Original\", \"ohm\", \"nH\", \"fF\", \"mSie\", 5000000000, Maxwell, 6, False\n",
      "INFO 02:05PM [get_matrix]: Exporting matrix data to (C:\\Users\\slab\\AppData\\Local\\Temp\\tmpzo8wb1m5.txt, C, , Setup:AdaptivePass, \"Original\", \"ohm\", \"nH\", \"fF\", \"mSie\", 5000000000, Maxwell, 7, False\n",
      "INFO 02:05PM [get_matrix]: Exporting matrix data to (C:\\Users\\slab\\AppData\\Local\\Temp\\tmp5bmlg54j.txt, C, , Setup:AdaptivePass, \"Original\", \"ohm\", \"nH\", \"fF\", \"mSie\", 5000000000, Maxwell, 8, False\n",
      "INFO 02:05PM [get_matrix]: Exporting matrix data to (C:\\Users\\slab\\AppData\\Local\\Temp\\tmp7hr51sjr.txt, C, , Setup:AdaptivePass, \"Original\", \"ohm\", \"nH\", \"fF\", \"mSie\", 5000000000, Maxwell, 9, False\n",
      "INFO 02:05PM [get_matrix]: Exporting matrix data to (C:\\Users\\slab\\AppData\\Local\\Temp\\tmpipkejlhz.txt, C, , Setup:AdaptivePass, \"Original\", \"ohm\", \"nH\", \"fF\", \"mSie\", 5000000000, Maxwell, 10, False\n",
      "INFO 02:05PM [get_matrix]: Exporting matrix data to (C:\\Users\\slab\\AppData\\Local\\Temp\\tmpn1juab7j.txt, C, , Setup:AdaptivePass, \"Original\", \"ohm\", \"nH\", \"fF\", \"mSie\", 5000000000, Maxwell, 11, False\n",
      "INFO 02:05PM [get_matrix]: Exporting matrix data to (C:\\Users\\slab\\AppData\\Local\\Temp\\tmpokw3ae2l.txt, C, , Setup:LastAdaptive, \"Original\", \"ohm\", \"nH\", \"fF\", \"mSie\", 5000000000, Maxwell, 1, False\n",
      "INFO 02:05PM [get_matrix]: Exporting matrix data to (C:\\Users\\slab\\AppData\\Local\\Temp\\tmp3c8wr_3_.txt, C, , Setup:AdaptivePass, \"Original\", \"ohm\", \"nH\", \"fF\", \"mSie\", 5000000000, Maxwell, 1, False\n",
      "INFO 02:05PM [get_matrix]: Exporting matrix data to (C:\\Users\\slab\\AppData\\Local\\Temp\\tmpaqusg0fv.txt, C, , Setup:AdaptivePass, \"Original\", \"ohm\", \"nH\", \"fF\", \"mSie\", 5000000000, Maxwell, 2, False\n",
      "INFO 02:05PM [get_matrix]: Exporting matrix data to (C:\\Users\\slab\\AppData\\Local\\Temp\\tmpwf08mv3l.txt, C, , Setup:AdaptivePass, \"Original\", \"ohm\", \"nH\", \"fF\", \"mSie\", 5000000000, Maxwell, 3, False\n",
      "INFO 02:05PM [get_matrix]: Exporting matrix data to (C:\\Users\\slab\\AppData\\Local\\Temp\\tmp01jnfzcz.txt, C, , Setup:AdaptivePass, \"Original\", \"ohm\", \"nH\", \"fF\", \"mSie\", 5000000000, Maxwell, 4, False\n",
      "INFO 02:05PM [get_matrix]: Exporting matrix data to (C:\\Users\\slab\\AppData\\Local\\Temp\\tmpvs1mvnl9.txt, C, , Setup:AdaptivePass, \"Original\", \"ohm\", \"nH\", \"fF\", \"mSie\", 5000000000, Maxwell, 5, False\n",
      "INFO 02:05PM [get_matrix]: Exporting matrix data to (C:\\Users\\slab\\AppData\\Local\\Temp\\tmpwb4kaeh1.txt, C, , Setup:AdaptivePass, \"Original\", \"ohm\", \"nH\", \"fF\", \"mSie\", 5000000000, Maxwell, 6, False\n",
      "INFO 02:05PM [get_matrix]: Exporting matrix data to (C:\\Users\\slab\\AppData\\Local\\Temp\\tmpu9l3xpvu.txt, C, , Setup:AdaptivePass, \"Original\", \"ohm\", \"nH\", \"fF\", \"mSie\", 5000000000, Maxwell, 7, False\n",
      "INFO 02:05PM [get_matrix]: Exporting matrix data to (C:\\Users\\slab\\AppData\\Local\\Temp\\tmp81p8h5my.txt, C, , Setup:AdaptivePass, \"Original\", \"ohm\", \"nH\", \"fF\", \"mSie\", 5000000000, Maxwell, 8, False\n",
      "INFO 02:05PM [get_matrix]: Exporting matrix data to (C:\\Users\\slab\\AppData\\Local\\Temp\\tmpn4be575_.txt, C, , Setup:AdaptivePass, \"Original\", \"ohm\", \"nH\", \"fF\", \"mSie\", 5000000000, Maxwell, 9, False\n",
      "INFO 02:05PM [get_matrix]: Exporting matrix data to (C:\\Users\\slab\\AppData\\Local\\Temp\\tmpc1vay1on.txt, C, , Setup:AdaptivePass, \"Original\", \"ohm\", \"nH\", \"fF\", \"mSie\", 5000000000, Maxwell, 10, False\n",
      "INFO 02:05PM [get_matrix]: Exporting matrix data to (C:\\Users\\slab\\AppData\\Local\\Temp\\tmplue89t8r.txt, C, , Setup:AdaptivePass, \"Original\", \"ohm\", \"nH\", \"fF\", \"mSie\", 5000000000, Maxwell, 11, False\n"
     ]
    },
    {
     "name": "stdout",
     "output_type": "stream",
     "text": [
      "                    a_connector_pad_Q1  ground_main_plane  pad_top_Q1\n",
      "a_connector_pad_Q1            28.26491          -17.54962   -10.18306\n",
      "ground_main_plane            -17.54962          107.86543   -48.68717\n",
      "pad_top_Q1                   -10.18306          -48.68717    61.54274\n"
     ]
    },
    {
     "name": "stderr",
     "output_type": "stream",
     "text": [
      "INFO 02:05PM [connect_design]: \tOpened active design\n",
      "\tDesign:    Design_q3d [Solution type: Q3D]\n",
      "INFO 02:05PM [get_setup]: \tOpened setup `Setup`  (<class 'pyEPR.ansys.AnsysQ3DSetup'>)\n",
      "INFO 02:05PM [analyze]: Analyzing setup Setup\n",
      "INFO 02:05PM [get_matrix]: Exporting matrix data to (C:\\Users\\slab\\AppData\\Local\\Temp\\tmp2ahmxh8x.txt, C, , Setup:LastAdaptive, \"Original\", \"ohm\", \"nH\", \"fF\", \"mSie\", 5000000000, Maxwell, 1, False\n",
      "INFO 02:05PM [get_matrix]: Exporting matrix data to (C:\\Users\\slab\\AppData\\Local\\Temp\\tmpa2_4h7cb.txt, C, , Setup:AdaptivePass, \"Original\", \"ohm\", \"nH\", \"fF\", \"mSie\", 5000000000, Maxwell, 1, False\n",
      "INFO 02:05PM [get_matrix]: Exporting matrix data to (C:\\Users\\slab\\AppData\\Local\\Temp\\tmpolox4qwy.txt, C, , Setup:AdaptivePass, \"Original\", \"ohm\", \"nH\", \"fF\", \"mSie\", 5000000000, Maxwell, 2, False\n",
      "INFO 02:05PM [get_matrix]: Exporting matrix data to (C:\\Users\\slab\\AppData\\Local\\Temp\\tmpcy1qfr8l.txt, C, , Setup:AdaptivePass, \"Original\", \"ohm\", \"nH\", \"fF\", \"mSie\", 5000000000, Maxwell, 3, False\n",
      "INFO 02:05PM [get_matrix]: Exporting matrix data to (C:\\Users\\slab\\AppData\\Local\\Temp\\tmpv78fo9s4.txt, C, , Setup:AdaptivePass, \"Original\", \"ohm\", \"nH\", \"fF\", \"mSie\", 5000000000, Maxwell, 4, False\n",
      "INFO 02:05PM [get_matrix]: Exporting matrix data to (C:\\Users\\slab\\AppData\\Local\\Temp\\tmpaclj9700.txt, C, , Setup:AdaptivePass, \"Original\", \"ohm\", \"nH\", \"fF\", \"mSie\", 5000000000, Maxwell, 5, False\n",
      "INFO 02:05PM [get_matrix]: Exporting matrix data to (C:\\Users\\slab\\AppData\\Local\\Temp\\tmpuj1asebt.txt, C, , Setup:AdaptivePass, \"Original\", \"ohm\", \"nH\", \"fF\", \"mSie\", 5000000000, Maxwell, 6, False\n",
      "INFO 02:05PM [get_matrix]: Exporting matrix data to (C:\\Users\\slab\\AppData\\Local\\Temp\\tmp49xoqvj3.txt, C, , Setup:AdaptivePass, \"Original\", \"ohm\", \"nH\", \"fF\", \"mSie\", 5000000000, Maxwell, 7, False\n",
      "INFO 02:05PM [get_matrix]: Exporting matrix data to (C:\\Users\\slab\\AppData\\Local\\Temp\\tmpmh5gyxhc.txt, C, , Setup:AdaptivePass, \"Original\", \"ohm\", \"nH\", \"fF\", \"mSie\", 5000000000, Maxwell, 8, False\n",
      "INFO 02:05PM [get_matrix]: Exporting matrix data to (C:\\Users\\slab\\AppData\\Local\\Temp\\tmprn_px5b1.txt, C, , Setup:AdaptivePass, \"Original\", \"ohm\", \"nH\", \"fF\", \"mSie\", 5000000000, Maxwell, 9, False\n",
      "INFO 02:05PM [get_matrix]: Exporting matrix data to (C:\\Users\\slab\\AppData\\Local\\Temp\\tmpo1qj9dgp.txt, C, , Setup:AdaptivePass, \"Original\", \"ohm\", \"nH\", \"fF\", \"mSie\", 5000000000, Maxwell, 10, False\n",
      "INFO 02:05PM [get_matrix]: Exporting matrix data to (C:\\Users\\slab\\AppData\\Local\\Temp\\tmp5lw2vq9a.txt, C, , Setup:AdaptivePass, \"Original\", \"ohm\", \"nH\", \"fF\", \"mSie\", 5000000000, Maxwell, 11, False\n",
      "INFO 02:05PM [get_matrix]: Exporting matrix data to (C:\\Users\\slab\\AppData\\Local\\Temp\\tmpmym9bv50.txt, C, , Setup:LastAdaptive, \"Original\", \"ohm\", \"nH\", \"fF\", \"mSie\", 5000000000, Maxwell, 1, False\n",
      "INFO 02:05PM [get_matrix]: Exporting matrix data to (C:\\Users\\slab\\AppData\\Local\\Temp\\tmpzxqs5o31.txt, C, , Setup:AdaptivePass, \"Original\", \"ohm\", \"nH\", \"fF\", \"mSie\", 5000000000, Maxwell, 1, False\n",
      "INFO 02:05PM [get_matrix]: Exporting matrix data to (C:\\Users\\slab\\AppData\\Local\\Temp\\tmpgc2zpv8s.txt, C, , Setup:AdaptivePass, \"Original\", \"ohm\", \"nH\", \"fF\", \"mSie\", 5000000000, Maxwell, 2, False\n",
      "INFO 02:05PM [get_matrix]: Exporting matrix data to (C:\\Users\\slab\\AppData\\Local\\Temp\\tmpsgh7064i.txt, C, , Setup:AdaptivePass, \"Original\", \"ohm\", \"nH\", \"fF\", \"mSie\", 5000000000, Maxwell, 3, False\n",
      "INFO 02:05PM [get_matrix]: Exporting matrix data to (C:\\Users\\slab\\AppData\\Local\\Temp\\tmphhxggbh4.txt, C, , Setup:AdaptivePass, \"Original\", \"ohm\", \"nH\", \"fF\", \"mSie\", 5000000000, Maxwell, 4, False\n",
      "INFO 02:05PM [get_matrix]: Exporting matrix data to (C:\\Users\\slab\\AppData\\Local\\Temp\\tmpa6f1frnr.txt, C, , Setup:AdaptivePass, \"Original\", \"ohm\", \"nH\", \"fF\", \"mSie\", 5000000000, Maxwell, 5, False\n",
      "INFO 02:05PM [get_matrix]: Exporting matrix data to (C:\\Users\\slab\\AppData\\Local\\Temp\\tmpmtp12v2j.txt, C, , Setup:AdaptivePass, \"Original\", \"ohm\", \"nH\", \"fF\", \"mSie\", 5000000000, Maxwell, 6, False\n",
      "INFO 02:05PM [get_matrix]: Exporting matrix data to (C:\\Users\\slab\\AppData\\Local\\Temp\\tmpfv0oglxn.txt, C, , Setup:AdaptivePass, \"Original\", \"ohm\", \"nH\", \"fF\", \"mSie\", 5000000000, Maxwell, 7, False\n",
      "INFO 02:05PM [get_matrix]: Exporting matrix data to (C:\\Users\\slab\\AppData\\Local\\Temp\\tmprgwd5w54.txt, C, , Setup:AdaptivePass, \"Original\", \"ohm\", \"nH\", \"fF\", \"mSie\", 5000000000, Maxwell, 8, False\n",
      "INFO 02:05PM [get_matrix]: Exporting matrix data to (C:\\Users\\slab\\AppData\\Local\\Temp\\tmpehygvi8s.txt, C, , Setup:AdaptivePass, \"Original\", \"ohm\", \"nH\", \"fF\", \"mSie\", 5000000000, Maxwell, 9, False\n",
      "INFO 02:05PM [get_matrix]: Exporting matrix data to (C:\\Users\\slab\\AppData\\Local\\Temp\\tmpl7bwn6ch.txt, C, , Setup:AdaptivePass, \"Original\", \"ohm\", \"nH\", \"fF\", \"mSie\", 5000000000, Maxwell, 10, False\n",
      "INFO 02:05PM [get_matrix]: Exporting matrix data to (C:\\Users\\slab\\AppData\\Local\\Temp\\tmp7y66lqvh.txt, C, , Setup:AdaptivePass, \"Original\", \"ohm\", \"nH\", \"fF\", \"mSie\", 5000000000, Maxwell, 11, False\n"
     ]
    },
    {
     "name": "stdout",
     "output_type": "stream",
     "text": [
      "                    a_connector_pad_Q1  ground_main_plane  pad_top_Q1\n",
      "a_connector_pad_Q1            27.82629          -17.07684   -10.23855\n",
      "ground_main_plane            -17.07684          109.89433   -51.28050\n",
      "pad_top_Q1                   -10.23855          -51.28050    64.30975\n"
     ]
    },
    {
     "name": "stderr",
     "output_type": "stream",
     "text": [
      "INFO 02:05PM [connect_design]: \tOpened active design\n",
      "\tDesign:    Design_q3d [Solution type: Q3D]\n",
      "INFO 02:05PM [get_setup]: \tOpened setup `Setup`  (<class 'pyEPR.ansys.AnsysQ3DSetup'>)\n",
      "INFO 02:05PM [analyze]: Analyzing setup Setup\n",
      "INFO 02:06PM [get_matrix]: Exporting matrix data to (C:\\Users\\slab\\AppData\\Local\\Temp\\tmpy3k7j3mk.txt, C, , Setup:LastAdaptive, \"Original\", \"ohm\", \"nH\", \"fF\", \"mSie\", 5000000000, Maxwell, 1, False\n",
      "INFO 02:06PM [get_matrix]: Exporting matrix data to (C:\\Users\\slab\\AppData\\Local\\Temp\\tmp4qnb0kes.txt, C, , Setup:AdaptivePass, \"Original\", \"ohm\", \"nH\", \"fF\", \"mSie\", 5000000000, Maxwell, 1, False\n",
      "INFO 02:06PM [get_matrix]: Exporting matrix data to (C:\\Users\\slab\\AppData\\Local\\Temp\\tmpb4tct8c5.txt, C, , Setup:AdaptivePass, \"Original\", \"ohm\", \"nH\", \"fF\", \"mSie\", 5000000000, Maxwell, 2, False\n",
      "INFO 02:06PM [get_matrix]: Exporting matrix data to (C:\\Users\\slab\\AppData\\Local\\Temp\\tmp3800ft4q.txt, C, , Setup:AdaptivePass, \"Original\", \"ohm\", \"nH\", \"fF\", \"mSie\", 5000000000, Maxwell, 3, False\n",
      "INFO 02:06PM [get_matrix]: Exporting matrix data to (C:\\Users\\slab\\AppData\\Local\\Temp\\tmpjk9selay.txt, C, , Setup:AdaptivePass, \"Original\", \"ohm\", \"nH\", \"fF\", \"mSie\", 5000000000, Maxwell, 4, False\n",
      "INFO 02:06PM [get_matrix]: Exporting matrix data to (C:\\Users\\slab\\AppData\\Local\\Temp\\tmp9y4n0us8.txt, C, , Setup:AdaptivePass, \"Original\", \"ohm\", \"nH\", \"fF\", \"mSie\", 5000000000, Maxwell, 5, False\n",
      "INFO 02:06PM [get_matrix]: Exporting matrix data to (C:\\Users\\slab\\AppData\\Local\\Temp\\tmpyr8uav8m.txt, C, , Setup:AdaptivePass, \"Original\", \"ohm\", \"nH\", \"fF\", \"mSie\", 5000000000, Maxwell, 6, False\n",
      "INFO 02:06PM [get_matrix]: Exporting matrix data to (C:\\Users\\slab\\AppData\\Local\\Temp\\tmp8j8usgx5.txt, C, , Setup:AdaptivePass, \"Original\", \"ohm\", \"nH\", \"fF\", \"mSie\", 5000000000, Maxwell, 7, False\n",
      "INFO 02:06PM [get_matrix]: Exporting matrix data to (C:\\Users\\slab\\AppData\\Local\\Temp\\tmp80ezael9.txt, C, , Setup:AdaptivePass, \"Original\", \"ohm\", \"nH\", \"fF\", \"mSie\", 5000000000, Maxwell, 8, False\n",
      "INFO 02:06PM [get_matrix]: Exporting matrix data to (C:\\Users\\slab\\AppData\\Local\\Temp\\tmppfzyd0iu.txt, C, , Setup:AdaptivePass, \"Original\", \"ohm\", \"nH\", \"fF\", \"mSie\", 5000000000, Maxwell, 9, False\n",
      "INFO 02:06PM [get_matrix]: Exporting matrix data to (C:\\Users\\slab\\AppData\\Local\\Temp\\tmpqphg178l.txt, C, , Setup:AdaptivePass, \"Original\", \"ohm\", \"nH\", \"fF\", \"mSie\", 5000000000, Maxwell, 10, False\n",
      "INFO 02:06PM [get_matrix]: Exporting matrix data to (C:\\Users\\slab\\AppData\\Local\\Temp\\tmpfu752rr9.txt, C, , Setup:AdaptivePass, \"Original\", \"ohm\", \"nH\", \"fF\", \"mSie\", 5000000000, Maxwell, 11, False\n",
      "INFO 02:06PM [get_matrix]: Exporting matrix data to (C:\\Users\\slab\\AppData\\Local\\Temp\\tmpihb81s8s.txt, C, , Setup:LastAdaptive, \"Original\", \"ohm\", \"nH\", \"fF\", \"mSie\", 5000000000, Maxwell, 1, False\n",
      "INFO 02:06PM [get_matrix]: Exporting matrix data to (C:\\Users\\slab\\AppData\\Local\\Temp\\tmpxzyq_m75.txt, C, , Setup:AdaptivePass, \"Original\", \"ohm\", \"nH\", \"fF\", \"mSie\", 5000000000, Maxwell, 1, False\n",
      "INFO 02:06PM [get_matrix]: Exporting matrix data to (C:\\Users\\slab\\AppData\\Local\\Temp\\tmpiwvati3q.txt, C, , Setup:AdaptivePass, \"Original\", \"ohm\", \"nH\", \"fF\", \"mSie\", 5000000000, Maxwell, 2, False\n",
      "INFO 02:06PM [get_matrix]: Exporting matrix data to (C:\\Users\\slab\\AppData\\Local\\Temp\\tmpm3i4qv45.txt, C, , Setup:AdaptivePass, \"Original\", \"ohm\", \"nH\", \"fF\", \"mSie\", 5000000000, Maxwell, 3, False\n",
      "INFO 02:06PM [get_matrix]: Exporting matrix data to (C:\\Users\\slab\\AppData\\Local\\Temp\\tmp5p6ava9a.txt, C, , Setup:AdaptivePass, \"Original\", \"ohm\", \"nH\", \"fF\", \"mSie\", 5000000000, Maxwell, 4, False\n",
      "INFO 02:06PM [get_matrix]: Exporting matrix data to (C:\\Users\\slab\\AppData\\Local\\Temp\\tmpkdtwyon8.txt, C, , Setup:AdaptivePass, \"Original\", \"ohm\", \"nH\", \"fF\", \"mSie\", 5000000000, Maxwell, 5, False\n",
      "INFO 02:06PM [get_matrix]: Exporting matrix data to (C:\\Users\\slab\\AppData\\Local\\Temp\\tmprish0mn8.txt, C, , Setup:AdaptivePass, \"Original\", \"ohm\", \"nH\", \"fF\", \"mSie\", 5000000000, Maxwell, 6, False\n",
      "INFO 02:06PM [get_matrix]: Exporting matrix data to (C:\\Users\\slab\\AppData\\Local\\Temp\\tmpaeip3vok.txt, C, , Setup:AdaptivePass, \"Original\", \"ohm\", \"nH\", \"fF\", \"mSie\", 5000000000, Maxwell, 7, False\n",
      "INFO 02:06PM [get_matrix]: Exporting matrix data to (C:\\Users\\slab\\AppData\\Local\\Temp\\tmp7ed9t7g6.txt, C, , Setup:AdaptivePass, \"Original\", \"ohm\", \"nH\", \"fF\", \"mSie\", 5000000000, Maxwell, 8, False\n",
      "INFO 02:06PM [get_matrix]: Exporting matrix data to (C:\\Users\\slab\\AppData\\Local\\Temp\\tmpgotp2bis.txt, C, , Setup:AdaptivePass, \"Original\", \"ohm\", \"nH\", \"fF\", \"mSie\", 5000000000, Maxwell, 9, False\n",
      "INFO 02:06PM [get_matrix]: Exporting matrix data to (C:\\Users\\slab\\AppData\\Local\\Temp\\tmpfrxnhdif.txt, C, , Setup:AdaptivePass, \"Original\", \"ohm\", \"nH\", \"fF\", \"mSie\", 5000000000, Maxwell, 10, False\n",
      "INFO 02:06PM [get_matrix]: Exporting matrix data to (C:\\Users\\slab\\AppData\\Local\\Temp\\tmp7fzacfqc.txt, C, , Setup:AdaptivePass, \"Original\", \"ohm\", \"nH\", \"fF\", \"mSie\", 5000000000, Maxwell, 11, False\n"
     ]
    },
    {
     "name": "stdout",
     "output_type": "stream",
     "text": [
      "                    a_connector_pad_Q1  ground_main_plane  pad_top_Q1\n",
      "a_connector_pad_Q1            27.36013          -16.61089   -10.25765\n",
      "ground_main_plane            -16.61089          111.87734   -53.82635\n",
      "pad_top_Q1                   -10.25765          -53.82635    66.99299\n"
     ]
    },
    {
     "name": "stderr",
     "output_type": "stream",
     "text": [
      "INFO 02:06PM [connect_design]: \tOpened active design\n",
      "\tDesign:    Design_q3d [Solution type: Q3D]\n",
      "INFO 02:06PM [get_setup]: \tOpened setup `Setup`  (<class 'pyEPR.ansys.AnsysQ3DSetup'>)\n",
      "INFO 02:06PM [analyze]: Analyzing setup Setup\n",
      "INFO 02:07PM [get_matrix]: Exporting matrix data to (C:\\Users\\slab\\AppData\\Local\\Temp\\tmpvliwmadp.txt, C, , Setup:LastAdaptive, \"Original\", \"ohm\", \"nH\", \"fF\", \"mSie\", 5000000000, Maxwell, 1, False\n",
      "INFO 02:07PM [get_matrix]: Exporting matrix data to (C:\\Users\\slab\\AppData\\Local\\Temp\\tmpz90bo7h4.txt, C, , Setup:AdaptivePass, \"Original\", \"ohm\", \"nH\", \"fF\", \"mSie\", 5000000000, Maxwell, 1, False\n",
      "INFO 02:07PM [get_matrix]: Exporting matrix data to (C:\\Users\\slab\\AppData\\Local\\Temp\\tmpq9c12c6u.txt, C, , Setup:AdaptivePass, \"Original\", \"ohm\", \"nH\", \"fF\", \"mSie\", 5000000000, Maxwell, 2, False\n",
      "INFO 02:07PM [get_matrix]: Exporting matrix data to (C:\\Users\\slab\\AppData\\Local\\Temp\\tmp7bfc62o1.txt, C, , Setup:AdaptivePass, \"Original\", \"ohm\", \"nH\", \"fF\", \"mSie\", 5000000000, Maxwell, 3, False\n",
      "INFO 02:07PM [get_matrix]: Exporting matrix data to (C:\\Users\\slab\\AppData\\Local\\Temp\\tmpvn954n1z.txt, C, , Setup:AdaptivePass, \"Original\", \"ohm\", \"nH\", \"fF\", \"mSie\", 5000000000, Maxwell, 4, False\n",
      "INFO 02:07PM [get_matrix]: Exporting matrix data to (C:\\Users\\slab\\AppData\\Local\\Temp\\tmp40g9emny.txt, C, , Setup:AdaptivePass, \"Original\", \"ohm\", \"nH\", \"fF\", \"mSie\", 5000000000, Maxwell, 5, False\n",
      "INFO 02:07PM [get_matrix]: Exporting matrix data to (C:\\Users\\slab\\AppData\\Local\\Temp\\tmpf4409u8t.txt, C, , Setup:AdaptivePass, \"Original\", \"ohm\", \"nH\", \"fF\", \"mSie\", 5000000000, Maxwell, 6, False\n",
      "INFO 02:07PM [get_matrix]: Exporting matrix data to (C:\\Users\\slab\\AppData\\Local\\Temp\\tmpqf22t0m6.txt, C, , Setup:AdaptivePass, \"Original\", \"ohm\", \"nH\", \"fF\", \"mSie\", 5000000000, Maxwell, 7, False\n",
      "INFO 02:07PM [get_matrix]: Exporting matrix data to (C:\\Users\\slab\\AppData\\Local\\Temp\\tmp23bsh2v3.txt, C, , Setup:AdaptivePass, \"Original\", \"ohm\", \"nH\", \"fF\", \"mSie\", 5000000000, Maxwell, 8, False\n",
      "INFO 02:07PM [get_matrix]: Exporting matrix data to (C:\\Users\\slab\\AppData\\Local\\Temp\\tmp4_n5kyxq.txt, C, , Setup:AdaptivePass, \"Original\", \"ohm\", \"nH\", \"fF\", \"mSie\", 5000000000, Maxwell, 9, False\n",
      "INFO 02:07PM [get_matrix]: Exporting matrix data to (C:\\Users\\slab\\AppData\\Local\\Temp\\tmp3pjuh9g9.txt, C, , Setup:AdaptivePass, \"Original\", \"ohm\", \"nH\", \"fF\", \"mSie\", 5000000000, Maxwell, 10, False\n",
      "INFO 02:07PM [get_matrix]: Exporting matrix data to (C:\\Users\\slab\\AppData\\Local\\Temp\\tmpmi1_zub7.txt, C, , Setup:AdaptivePass, \"Original\", \"ohm\", \"nH\", \"fF\", \"mSie\", 5000000000, Maxwell, 11, False\n",
      "INFO 02:07PM [get_matrix]: Exporting matrix data to (C:\\Users\\slab\\AppData\\Local\\Temp\\tmpa87hzjp6.txt, C, , Setup:LastAdaptive, \"Original\", \"ohm\", \"nH\", \"fF\", \"mSie\", 5000000000, Maxwell, 1, False\n",
      "INFO 02:07PM [get_matrix]: Exporting matrix data to (C:\\Users\\slab\\AppData\\Local\\Temp\\tmpo41t4gq7.txt, C, , Setup:AdaptivePass, \"Original\", \"ohm\", \"nH\", \"fF\", \"mSie\", 5000000000, Maxwell, 1, False\n",
      "INFO 02:07PM [get_matrix]: Exporting matrix data to (C:\\Users\\slab\\AppData\\Local\\Temp\\tmpx_tpvos8.txt, C, , Setup:AdaptivePass, \"Original\", \"ohm\", \"nH\", \"fF\", \"mSie\", 5000000000, Maxwell, 2, False\n",
      "INFO 02:07PM [get_matrix]: Exporting matrix data to (C:\\Users\\slab\\AppData\\Local\\Temp\\tmpqnyvi301.txt, C, , Setup:AdaptivePass, \"Original\", \"ohm\", \"nH\", \"fF\", \"mSie\", 5000000000, Maxwell, 3, False\n",
      "INFO 02:07PM [get_matrix]: Exporting matrix data to (C:\\Users\\slab\\AppData\\Local\\Temp\\tmpaweeq25j.txt, C, , Setup:AdaptivePass, \"Original\", \"ohm\", \"nH\", \"fF\", \"mSie\", 5000000000, Maxwell, 4, False\n",
      "INFO 02:07PM [get_matrix]: Exporting matrix data to (C:\\Users\\slab\\AppData\\Local\\Temp\\tmpxy1ypijc.txt, C, , Setup:AdaptivePass, \"Original\", \"ohm\", \"nH\", \"fF\", \"mSie\", 5000000000, Maxwell, 5, False\n",
      "INFO 02:07PM [get_matrix]: Exporting matrix data to (C:\\Users\\slab\\AppData\\Local\\Temp\\tmp6wdyeg8q.txt, C, , Setup:AdaptivePass, \"Original\", \"ohm\", \"nH\", \"fF\", \"mSie\", 5000000000, Maxwell, 6, False\n",
      "INFO 02:07PM [get_matrix]: Exporting matrix data to (C:\\Users\\slab\\AppData\\Local\\Temp\\tmp5qxsakux.txt, C, , Setup:AdaptivePass, \"Original\", \"ohm\", \"nH\", \"fF\", \"mSie\", 5000000000, Maxwell, 7, False\n",
      "INFO 02:07PM [get_matrix]: Exporting matrix data to (C:\\Users\\slab\\AppData\\Local\\Temp\\tmpvua_mxaf.txt, C, , Setup:AdaptivePass, \"Original\", \"ohm\", \"nH\", \"fF\", \"mSie\", 5000000000, Maxwell, 8, False\n",
      "INFO 02:07PM [get_matrix]: Exporting matrix data to (C:\\Users\\slab\\AppData\\Local\\Temp\\tmpw90y6v5x.txt, C, , Setup:AdaptivePass, \"Original\", \"ohm\", \"nH\", \"fF\", \"mSie\", 5000000000, Maxwell, 9, False\n",
      "INFO 02:07PM [get_matrix]: Exporting matrix data to (C:\\Users\\slab\\AppData\\Local\\Temp\\tmpbkg_imhy.txt, C, , Setup:AdaptivePass, \"Original\", \"ohm\", \"nH\", \"fF\", \"mSie\", 5000000000, Maxwell, 10, False\n",
      "INFO 02:07PM [get_matrix]: Exporting matrix data to (C:\\Users\\slab\\AppData\\Local\\Temp\\tmpxsjuk94w.txt, C, , Setup:AdaptivePass, \"Original\", \"ohm\", \"nH\", \"fF\", \"mSie\", 5000000000, Maxwell, 11, False\n"
     ]
    },
    {
     "name": "stdout",
     "output_type": "stream",
     "text": [
      "                    a_connector_pad_Q1  ground_main_plane  pad_top_Q1\n",
      "a_connector_pad_Q1            26.90387          -16.17442   -10.25632\n",
      "ground_main_plane            -16.17442          113.87726   -56.35466\n",
      "pad_top_Q1                   -10.25632          -56.35466    69.63416\n"
     ]
    },
    {
     "name": "stderr",
     "output_type": "stream",
     "text": [
      "INFO 02:07PM [connect_design]: \tOpened active design\n",
      "\tDesign:    Design_q3d [Solution type: Q3D]\n",
      "INFO 02:07PM [get_setup]: \tOpened setup `Setup`  (<class 'pyEPR.ansys.AnsysQ3DSetup'>)\n",
      "INFO 02:07PM [analyze]: Analyzing setup Setup\n",
      "INFO 02:08PM [get_matrix]: Exporting matrix data to (C:\\Users\\slab\\AppData\\Local\\Temp\\tmppxlqi30e.txt, C, , Setup:LastAdaptive, \"Original\", \"ohm\", \"nH\", \"fF\", \"mSie\", 5000000000, Maxwell, 1, False\n",
      "INFO 02:08PM [get_matrix]: Exporting matrix data to (C:\\Users\\slab\\AppData\\Local\\Temp\\tmpcffkh3f7.txt, C, , Setup:AdaptivePass, \"Original\", \"ohm\", \"nH\", \"fF\", \"mSie\", 5000000000, Maxwell, 1, False\n",
      "INFO 02:08PM [get_matrix]: Exporting matrix data to (C:\\Users\\slab\\AppData\\Local\\Temp\\tmpo_b14lg7.txt, C, , Setup:AdaptivePass, \"Original\", \"ohm\", \"nH\", \"fF\", \"mSie\", 5000000000, Maxwell, 2, False\n",
      "INFO 02:08PM [get_matrix]: Exporting matrix data to (C:\\Users\\slab\\AppData\\Local\\Temp\\tmpwg62mlm4.txt, C, , Setup:AdaptivePass, \"Original\", \"ohm\", \"nH\", \"fF\", \"mSie\", 5000000000, Maxwell, 3, False\n",
      "INFO 02:08PM [get_matrix]: Exporting matrix data to (C:\\Users\\slab\\AppData\\Local\\Temp\\tmptndbhizz.txt, C, , Setup:AdaptivePass, \"Original\", \"ohm\", \"nH\", \"fF\", \"mSie\", 5000000000, Maxwell, 4, False\n",
      "INFO 02:08PM [get_matrix]: Exporting matrix data to (C:\\Users\\slab\\AppData\\Local\\Temp\\tmp7cp0ekgh.txt, C, , Setup:AdaptivePass, \"Original\", \"ohm\", \"nH\", \"fF\", \"mSie\", 5000000000, Maxwell, 5, False\n",
      "INFO 02:08PM [get_matrix]: Exporting matrix data to (C:\\Users\\slab\\AppData\\Local\\Temp\\tmppglk8qtw.txt, C, , Setup:AdaptivePass, \"Original\", \"ohm\", \"nH\", \"fF\", \"mSie\", 5000000000, Maxwell, 6, False\n",
      "INFO 02:08PM [get_matrix]: Exporting matrix data to (C:\\Users\\slab\\AppData\\Local\\Temp\\tmp5mv_pkww.txt, C, , Setup:AdaptivePass, \"Original\", \"ohm\", \"nH\", \"fF\", \"mSie\", 5000000000, Maxwell, 7, False\n",
      "INFO 02:08PM [get_matrix]: Exporting matrix data to (C:\\Users\\slab\\AppData\\Local\\Temp\\tmpit5j9bys.txt, C, , Setup:AdaptivePass, \"Original\", \"ohm\", \"nH\", \"fF\", \"mSie\", 5000000000, Maxwell, 8, False\n",
      "INFO 02:08PM [get_matrix]: Exporting matrix data to (C:\\Users\\slab\\AppData\\Local\\Temp\\tmpjhil2jgf.txt, C, , Setup:AdaptivePass, \"Original\", \"ohm\", \"nH\", \"fF\", \"mSie\", 5000000000, Maxwell, 9, False\n",
      "INFO 02:08PM [get_matrix]: Exporting matrix data to (C:\\Users\\slab\\AppData\\Local\\Temp\\tmp3yi5h6rx.txt, C, , Setup:AdaptivePass, \"Original\", \"ohm\", \"nH\", \"fF\", \"mSie\", 5000000000, Maxwell, 10, False\n",
      "INFO 02:08PM [get_matrix]: Exporting matrix data to (C:\\Users\\slab\\AppData\\Local\\Temp\\tmpqtz2ymv9.txt, C, , Setup:AdaptivePass, \"Original\", \"ohm\", \"nH\", \"fF\", \"mSie\", 5000000000, Maxwell, 11, False\n",
      "INFO 02:08PM [get_matrix]: Exporting matrix data to (C:\\Users\\slab\\AppData\\Local\\Temp\\tmpz3j2yhah.txt, C, , Setup:LastAdaptive, \"Original\", \"ohm\", \"nH\", \"fF\", \"mSie\", 5000000000, Maxwell, 1, False\n",
      "INFO 02:08PM [get_matrix]: Exporting matrix data to (C:\\Users\\slab\\AppData\\Local\\Temp\\tmpzc3uhv41.txt, C, , Setup:AdaptivePass, \"Original\", \"ohm\", \"nH\", \"fF\", \"mSie\", 5000000000, Maxwell, 1, False\n",
      "INFO 02:08PM [get_matrix]: Exporting matrix data to (C:\\Users\\slab\\AppData\\Local\\Temp\\tmpa3tq1m9e.txt, C, , Setup:AdaptivePass, \"Original\", \"ohm\", \"nH\", \"fF\", \"mSie\", 5000000000, Maxwell, 2, False\n",
      "INFO 02:08PM [get_matrix]: Exporting matrix data to (C:\\Users\\slab\\AppData\\Local\\Temp\\tmpqefe34t2.txt, C, , Setup:AdaptivePass, \"Original\", \"ohm\", \"nH\", \"fF\", \"mSie\", 5000000000, Maxwell, 3, False\n",
      "INFO 02:08PM [get_matrix]: Exporting matrix data to (C:\\Users\\slab\\AppData\\Local\\Temp\\tmp1v_6oi7u.txt, C, , Setup:AdaptivePass, \"Original\", \"ohm\", \"nH\", \"fF\", \"mSie\", 5000000000, Maxwell, 4, False\n",
      "INFO 02:08PM [get_matrix]: Exporting matrix data to (C:\\Users\\slab\\AppData\\Local\\Temp\\tmpsj9v_xsm.txt, C, , Setup:AdaptivePass, \"Original\", \"ohm\", \"nH\", \"fF\", \"mSie\", 5000000000, Maxwell, 5, False\n",
      "INFO 02:08PM [get_matrix]: Exporting matrix data to (C:\\Users\\slab\\AppData\\Local\\Temp\\tmps6xwvdsp.txt, C, , Setup:AdaptivePass, \"Original\", \"ohm\", \"nH\", \"fF\", \"mSie\", 5000000000, Maxwell, 6, False\n",
      "INFO 02:08PM [get_matrix]: Exporting matrix data to (C:\\Users\\slab\\AppData\\Local\\Temp\\tmpqzmuk988.txt, C, , Setup:AdaptivePass, \"Original\", \"ohm\", \"nH\", \"fF\", \"mSie\", 5000000000, Maxwell, 7, False\n",
      "INFO 02:08PM [get_matrix]: Exporting matrix data to (C:\\Users\\slab\\AppData\\Local\\Temp\\tmp28on1dxq.txt, C, , Setup:AdaptivePass, \"Original\", \"ohm\", \"nH\", \"fF\", \"mSie\", 5000000000, Maxwell, 8, False\n",
      "INFO 02:08PM [get_matrix]: Exporting matrix data to (C:\\Users\\slab\\AppData\\Local\\Temp\\tmpz1qh8jgn.txt, C, , Setup:AdaptivePass, \"Original\", \"ohm\", \"nH\", \"fF\", \"mSie\", 5000000000, Maxwell, 9, False\n",
      "INFO 02:08PM [get_matrix]: Exporting matrix data to (C:\\Users\\slab\\AppData\\Local\\Temp\\tmpa_zstc1t.txt, C, , Setup:AdaptivePass, \"Original\", \"ohm\", \"nH\", \"fF\", \"mSie\", 5000000000, Maxwell, 10, False\n",
      "INFO 02:08PM [get_matrix]: Exporting matrix data to (C:\\Users\\slab\\AppData\\Local\\Temp\\tmp70x3h5am.txt, C, , Setup:AdaptivePass, \"Original\", \"ohm\", \"nH\", \"fF\", \"mSie\", 5000000000, Maxwell, 11, False\n"
     ]
    },
    {
     "name": "stdout",
     "output_type": "stream",
     "text": [
      "                    a_connector_pad_Q1  ground_main_plane  pad_top_Q1\n",
      "a_connector_pad_Q1            26.43749          -15.74861   -10.23358\n",
      "ground_main_plane            -15.74861          115.93383   -58.91432\n",
      "pad_top_Q1                   -10.23358          -58.91432    72.28196\n"
     ]
    },
    {
     "name": "stderr",
     "output_type": "stream",
     "text": [
      "INFO 02:08PM [connect_design]: \tOpened active design\n",
      "\tDesign:    Design_q3d [Solution type: Q3D]\n",
      "INFO 02:08PM [get_setup]: \tOpened setup `Setup`  (<class 'pyEPR.ansys.AnsysQ3DSetup'>)\n",
      "INFO 02:08PM [analyze]: Analyzing setup Setup\n",
      "INFO 02:08PM [get_matrix]: Exporting matrix data to (C:\\Users\\slab\\AppData\\Local\\Temp\\tmp3c1w6zu7.txt, C, , Setup:LastAdaptive, \"Original\", \"ohm\", \"nH\", \"fF\", \"mSie\", 5000000000, Maxwell, 1, False\n",
      "INFO 02:08PM [get_matrix]: Exporting matrix data to (C:\\Users\\slab\\AppData\\Local\\Temp\\tmpvwj614oh.txt, C, , Setup:AdaptivePass, \"Original\", \"ohm\", \"nH\", \"fF\", \"mSie\", 5000000000, Maxwell, 1, False\n",
      "INFO 02:08PM [get_matrix]: Exporting matrix data to (C:\\Users\\slab\\AppData\\Local\\Temp\\tmp7tqc0d3y.txt, C, , Setup:AdaptivePass, \"Original\", \"ohm\", \"nH\", \"fF\", \"mSie\", 5000000000, Maxwell, 2, False\n",
      "INFO 02:08PM [get_matrix]: Exporting matrix data to (C:\\Users\\slab\\AppData\\Local\\Temp\\tmpstyljxit.txt, C, , Setup:AdaptivePass, \"Original\", \"ohm\", \"nH\", \"fF\", \"mSie\", 5000000000, Maxwell, 3, False\n",
      "INFO 02:08PM [get_matrix]: Exporting matrix data to (C:\\Users\\slab\\AppData\\Local\\Temp\\tmp8lxpq59r.txt, C, , Setup:AdaptivePass, \"Original\", \"ohm\", \"nH\", \"fF\", \"mSie\", 5000000000, Maxwell, 4, False\n",
      "INFO 02:08PM [get_matrix]: Exporting matrix data to (C:\\Users\\slab\\AppData\\Local\\Temp\\tmpfykqjz9f.txt, C, , Setup:AdaptivePass, \"Original\", \"ohm\", \"nH\", \"fF\", \"mSie\", 5000000000, Maxwell, 5, False\n",
      "INFO 02:08PM [get_matrix]: Exporting matrix data to (C:\\Users\\slab\\AppData\\Local\\Temp\\tmpekqd5x2t.txt, C, , Setup:AdaptivePass, \"Original\", \"ohm\", \"nH\", \"fF\", \"mSie\", 5000000000, Maxwell, 6, False\n",
      "INFO 02:08PM [get_matrix]: Exporting matrix data to (C:\\Users\\slab\\AppData\\Local\\Temp\\tmp4pha82v2.txt, C, , Setup:AdaptivePass, \"Original\", \"ohm\", \"nH\", \"fF\", \"mSie\", 5000000000, Maxwell, 7, False\n",
      "INFO 02:08PM [get_matrix]: Exporting matrix data to (C:\\Users\\slab\\AppData\\Local\\Temp\\tmpspkzlfyt.txt, C, , Setup:AdaptivePass, \"Original\", \"ohm\", \"nH\", \"fF\", \"mSie\", 5000000000, Maxwell, 8, False\n",
      "INFO 02:08PM [get_matrix]: Exporting matrix data to (C:\\Users\\slab\\AppData\\Local\\Temp\\tmp_ry63utf.txt, C, , Setup:AdaptivePass, \"Original\", \"ohm\", \"nH\", \"fF\", \"mSie\", 5000000000, Maxwell, 9, False\n",
      "INFO 02:08PM [get_matrix]: Exporting matrix data to (C:\\Users\\slab\\AppData\\Local\\Temp\\tmptj1dazid.txt, C, , Setup:AdaptivePass, \"Original\", \"ohm\", \"nH\", \"fF\", \"mSie\", 5000000000, Maxwell, 10, False\n",
      "INFO 02:08PM [get_matrix]: Exporting matrix data to (C:\\Users\\slab\\AppData\\Local\\Temp\\tmpaz4u4ojw.txt, C, , Setup:AdaptivePass, \"Original\", \"ohm\", \"nH\", \"fF\", \"mSie\", 5000000000, Maxwell, 11, False\n",
      "INFO 02:08PM [get_matrix]: Exporting matrix data to (C:\\Users\\slab\\AppData\\Local\\Temp\\tmpq0hxymt4.txt, C, , Setup:LastAdaptive, \"Original\", \"ohm\", \"nH\", \"fF\", \"mSie\", 5000000000, Maxwell, 1, False\n",
      "INFO 02:08PM [get_matrix]: Exporting matrix data to (C:\\Users\\slab\\AppData\\Local\\Temp\\tmp6tcqnuws.txt, C, , Setup:AdaptivePass, \"Original\", \"ohm\", \"nH\", \"fF\", \"mSie\", 5000000000, Maxwell, 1, False\n",
      "INFO 02:08PM [get_matrix]: Exporting matrix data to (C:\\Users\\slab\\AppData\\Local\\Temp\\tmp06b5lwns.txt, C, , Setup:AdaptivePass, \"Original\", \"ohm\", \"nH\", \"fF\", \"mSie\", 5000000000, Maxwell, 2, False\n",
      "INFO 02:08PM [get_matrix]: Exporting matrix data to (C:\\Users\\slab\\AppData\\Local\\Temp\\tmpiptwh1qs.txt, C, , Setup:AdaptivePass, \"Original\", \"ohm\", \"nH\", \"fF\", \"mSie\", 5000000000, Maxwell, 3, False\n",
      "INFO 02:08PM [get_matrix]: Exporting matrix data to (C:\\Users\\slab\\AppData\\Local\\Temp\\tmpyj_8ovie.txt, C, , Setup:AdaptivePass, \"Original\", \"ohm\", \"nH\", \"fF\", \"mSie\", 5000000000, Maxwell, 4, False\n",
      "INFO 02:08PM [get_matrix]: Exporting matrix data to (C:\\Users\\slab\\AppData\\Local\\Temp\\tmpg8nyg1b_.txt, C, , Setup:AdaptivePass, \"Original\", \"ohm\", \"nH\", \"fF\", \"mSie\", 5000000000, Maxwell, 5, False\n",
      "INFO 02:08PM [get_matrix]: Exporting matrix data to (C:\\Users\\slab\\AppData\\Local\\Temp\\tmpdiq8n012.txt, C, , Setup:AdaptivePass, \"Original\", \"ohm\", \"nH\", \"fF\", \"mSie\", 5000000000, Maxwell, 6, False\n",
      "INFO 02:08PM [get_matrix]: Exporting matrix data to (C:\\Users\\slab\\AppData\\Local\\Temp\\tmp66f96dcu.txt, C, , Setup:AdaptivePass, \"Original\", \"ohm\", \"nH\", \"fF\", \"mSie\", 5000000000, Maxwell, 7, False\n",
      "INFO 02:08PM [get_matrix]: Exporting matrix data to (C:\\Users\\slab\\AppData\\Local\\Temp\\tmpr25ndf12.txt, C, , Setup:AdaptivePass, \"Original\", \"ohm\", \"nH\", \"fF\", \"mSie\", 5000000000, Maxwell, 8, False\n",
      "INFO 02:08PM [get_matrix]: Exporting matrix data to (C:\\Users\\slab\\AppData\\Local\\Temp\\tmpaz44yyzt.txt, C, , Setup:AdaptivePass, \"Original\", \"ohm\", \"nH\", \"fF\", \"mSie\", 5000000000, Maxwell, 9, False\n",
      "INFO 02:08PM [get_matrix]: Exporting matrix data to (C:\\Users\\slab\\AppData\\Local\\Temp\\tmpdf476vc0.txt, C, , Setup:AdaptivePass, \"Original\", \"ohm\", \"nH\", \"fF\", \"mSie\", 5000000000, Maxwell, 10, False\n",
      "INFO 02:08PM [get_matrix]: Exporting matrix data to (C:\\Users\\slab\\AppData\\Local\\Temp\\tmp2en70rwm.txt, C, , Setup:AdaptivePass, \"Original\", \"ohm\", \"nH\", \"fF\", \"mSie\", 5000000000, Maxwell, 11, False\n"
     ]
    },
    {
     "name": "stdout",
     "output_type": "stream",
     "text": [
      "                    a_connector_pad_Q1  ground_main_plane  pad_top_Q1\n",
      "a_connector_pad_Q1            25.98714          -15.37258   -10.21630\n",
      "ground_main_plane            -15.37258          118.04815   -61.62797\n",
      "pad_top_Q1                   -10.21630          -61.62797    75.09963\n"
     ]
    },
    {
     "name": "stderr",
     "output_type": "stream",
     "text": [
      "INFO 02:08PM [connect_design]: \tOpened active design\n",
      "\tDesign:    Design_q3d [Solution type: Q3D]\n",
      "INFO 02:08PM [get_setup]: \tOpened setup `Setup`  (<class 'pyEPR.ansys.AnsysQ3DSetup'>)\n",
      "INFO 02:08PM [analyze]: Analyzing setup Setup\n",
      "INFO 02:09PM [get_matrix]: Exporting matrix data to (C:\\Users\\slab\\AppData\\Local\\Temp\\tmp0bsj_41r.txt, C, , Setup:LastAdaptive, \"Original\", \"ohm\", \"nH\", \"fF\", \"mSie\", 5000000000, Maxwell, 1, False\n",
      "INFO 02:09PM [get_matrix]: Exporting matrix data to (C:\\Users\\slab\\AppData\\Local\\Temp\\tmp6l81w4yq.txt, C, , Setup:AdaptivePass, \"Original\", \"ohm\", \"nH\", \"fF\", \"mSie\", 5000000000, Maxwell, 1, False\n",
      "INFO 02:09PM [get_matrix]: Exporting matrix data to (C:\\Users\\slab\\AppData\\Local\\Temp\\tmpd95ylc75.txt, C, , Setup:AdaptivePass, \"Original\", \"ohm\", \"nH\", \"fF\", \"mSie\", 5000000000, Maxwell, 2, False\n",
      "INFO 02:09PM [get_matrix]: Exporting matrix data to (C:\\Users\\slab\\AppData\\Local\\Temp\\tmpa8g_jas1.txt, C, , Setup:AdaptivePass, \"Original\", \"ohm\", \"nH\", \"fF\", \"mSie\", 5000000000, Maxwell, 3, False\n",
      "INFO 02:09PM [get_matrix]: Exporting matrix data to (C:\\Users\\slab\\AppData\\Local\\Temp\\tmpbyizd2t6.txt, C, , Setup:AdaptivePass, \"Original\", \"ohm\", \"nH\", \"fF\", \"mSie\", 5000000000, Maxwell, 4, False\n",
      "INFO 02:09PM [get_matrix]: Exporting matrix data to (C:\\Users\\slab\\AppData\\Local\\Temp\\tmpdfficb3w.txt, C, , Setup:AdaptivePass, \"Original\", \"ohm\", \"nH\", \"fF\", \"mSie\", 5000000000, Maxwell, 5, False\n",
      "INFO 02:09PM [get_matrix]: Exporting matrix data to (C:\\Users\\slab\\AppData\\Local\\Temp\\tmphjltoiso.txt, C, , Setup:AdaptivePass, \"Original\", \"ohm\", \"nH\", \"fF\", \"mSie\", 5000000000, Maxwell, 6, False\n",
      "INFO 02:09PM [get_matrix]: Exporting matrix data to (C:\\Users\\slab\\AppData\\Local\\Temp\\tmpjpia798w.txt, C, , Setup:AdaptivePass, \"Original\", \"ohm\", \"nH\", \"fF\", \"mSie\", 5000000000, Maxwell, 7, False\n",
      "INFO 02:09PM [get_matrix]: Exporting matrix data to (C:\\Users\\slab\\AppData\\Local\\Temp\\tmp13wecf9x.txt, C, , Setup:AdaptivePass, \"Original\", \"ohm\", \"nH\", \"fF\", \"mSie\", 5000000000, Maxwell, 8, False\n",
      "INFO 02:09PM [get_matrix]: Exporting matrix data to (C:\\Users\\slab\\AppData\\Local\\Temp\\tmp_xa8lgwh.txt, C, , Setup:AdaptivePass, \"Original\", \"ohm\", \"nH\", \"fF\", \"mSie\", 5000000000, Maxwell, 9, False\n",
      "INFO 02:09PM [get_matrix]: Exporting matrix data to (C:\\Users\\slab\\AppData\\Local\\Temp\\tmpifty9ksx.txt, C, , Setup:AdaptivePass, \"Original\", \"ohm\", \"nH\", \"fF\", \"mSie\", 5000000000, Maxwell, 10, False\n",
      "INFO 02:09PM [get_matrix]: Exporting matrix data to (C:\\Users\\slab\\AppData\\Local\\Temp\\tmp3jbt5xmy.txt, C, , Setup:AdaptivePass, \"Original\", \"ohm\", \"nH\", \"fF\", \"mSie\", 5000000000, Maxwell, 11, False\n",
      "INFO 02:09PM [get_matrix]: Exporting matrix data to (C:\\Users\\slab\\AppData\\Local\\Temp\\tmptt8w85vs.txt, C, , Setup:LastAdaptive, \"Original\", \"ohm\", \"nH\", \"fF\", \"mSie\", 5000000000, Maxwell, 1, False\n",
      "INFO 02:09PM [get_matrix]: Exporting matrix data to (C:\\Users\\slab\\AppData\\Local\\Temp\\tmpj2bx0ax9.txt, C, , Setup:AdaptivePass, \"Original\", \"ohm\", \"nH\", \"fF\", \"mSie\", 5000000000, Maxwell, 1, False\n",
      "INFO 02:09PM [get_matrix]: Exporting matrix data to (C:\\Users\\slab\\AppData\\Local\\Temp\\tmpr_ch4zce.txt, C, , Setup:AdaptivePass, \"Original\", \"ohm\", \"nH\", \"fF\", \"mSie\", 5000000000, Maxwell, 2, False\n",
      "INFO 02:09PM [get_matrix]: Exporting matrix data to (C:\\Users\\slab\\AppData\\Local\\Temp\\tmpmfmhmif6.txt, C, , Setup:AdaptivePass, \"Original\", \"ohm\", \"nH\", \"fF\", \"mSie\", 5000000000, Maxwell, 3, False\n",
      "INFO 02:09PM [get_matrix]: Exporting matrix data to (C:\\Users\\slab\\AppData\\Local\\Temp\\tmpvz7ybu1m.txt, C, , Setup:AdaptivePass, \"Original\", \"ohm\", \"nH\", \"fF\", \"mSie\", 5000000000, Maxwell, 4, False\n",
      "INFO 02:09PM [get_matrix]: Exporting matrix data to (C:\\Users\\slab\\AppData\\Local\\Temp\\tmpxr9lfy55.txt, C, , Setup:AdaptivePass, \"Original\", \"ohm\", \"nH\", \"fF\", \"mSie\", 5000000000, Maxwell, 5, False\n",
      "INFO 02:09PM [get_matrix]: Exporting matrix data to (C:\\Users\\slab\\AppData\\Local\\Temp\\tmpermoeo46.txt, C, , Setup:AdaptivePass, \"Original\", \"ohm\", \"nH\", \"fF\", \"mSie\", 5000000000, Maxwell, 6, False\n",
      "INFO 02:09PM [get_matrix]: Exporting matrix data to (C:\\Users\\slab\\AppData\\Local\\Temp\\tmpn4akhlig.txt, C, , Setup:AdaptivePass, \"Original\", \"ohm\", \"nH\", \"fF\", \"mSie\", 5000000000, Maxwell, 7, False\n",
      "INFO 02:09PM [get_matrix]: Exporting matrix data to (C:\\Users\\slab\\AppData\\Local\\Temp\\tmp9nrxlo0e.txt, C, , Setup:AdaptivePass, \"Original\", \"ohm\", \"nH\", \"fF\", \"mSie\", 5000000000, Maxwell, 8, False\n",
      "INFO 02:09PM [get_matrix]: Exporting matrix data to (C:\\Users\\slab\\AppData\\Local\\Temp\\tmpnq71ma2y.txt, C, , Setup:AdaptivePass, \"Original\", \"ohm\", \"nH\", \"fF\", \"mSie\", 5000000000, Maxwell, 9, False\n",
      "INFO 02:09PM [get_matrix]: Exporting matrix data to (C:\\Users\\slab\\AppData\\Local\\Temp\\tmpbotyt1em.txt, C, , Setup:AdaptivePass, \"Original\", \"ohm\", \"nH\", \"fF\", \"mSie\", 5000000000, Maxwell, 10, False\n",
      "INFO 02:09PM [get_matrix]: Exporting matrix data to (C:\\Users\\slab\\AppData\\Local\\Temp\\tmp_cvl80hc.txt, C, , Setup:AdaptivePass, \"Original\", \"ohm\", \"nH\", \"fF\", \"mSie\", 5000000000, Maxwell, 11, False\n"
     ]
    },
    {
     "name": "stdout",
     "output_type": "stream",
     "text": [
      "                    a_connector_pad_Q1  ground_main_plane  pad_top_Q1\n",
      "a_connector_pad_Q1            25.52791          -14.94938   -10.15585\n",
      "ground_main_plane            -14.94938          120.41731   -64.38414\n",
      "pad_top_Q1                   -10.15585          -64.38414    77.89168\n"
     ]
    },
    {
     "name": "stderr",
     "output_type": "stream",
     "text": [
      "INFO 02:09PM [connect_design]: \tOpened active design\n",
      "\tDesign:    Design_q3d [Solution type: Q3D]\n",
      "INFO 02:09PM [get_setup]: \tOpened setup `Setup`  (<class 'pyEPR.ansys.AnsysQ3DSetup'>)\n",
      "INFO 02:09PM [analyze]: Analyzing setup Setup\n",
      "INFO 02:10PM [get_matrix]: Exporting matrix data to (C:\\Users\\slab\\AppData\\Local\\Temp\\tmpoo2x5lc7.txt, C, , Setup:LastAdaptive, \"Original\", \"ohm\", \"nH\", \"fF\", \"mSie\", 5000000000, Maxwell, 1, False\n",
      "INFO 02:10PM [get_matrix]: Exporting matrix data to (C:\\Users\\slab\\AppData\\Local\\Temp\\tmphau0fs7p.txt, C, , Setup:AdaptivePass, \"Original\", \"ohm\", \"nH\", \"fF\", \"mSie\", 5000000000, Maxwell, 1, False\n",
      "INFO 02:10PM [get_matrix]: Exporting matrix data to (C:\\Users\\slab\\AppData\\Local\\Temp\\tmp_k49oigr.txt, C, , Setup:AdaptivePass, \"Original\", \"ohm\", \"nH\", \"fF\", \"mSie\", 5000000000, Maxwell, 2, False\n",
      "INFO 02:10PM [get_matrix]: Exporting matrix data to (C:\\Users\\slab\\AppData\\Local\\Temp\\tmpuignrw9r.txt, C, , Setup:AdaptivePass, \"Original\", \"ohm\", \"nH\", \"fF\", \"mSie\", 5000000000, Maxwell, 3, False\n",
      "INFO 02:10PM [get_matrix]: Exporting matrix data to (C:\\Users\\slab\\AppData\\Local\\Temp\\tmp_angmjvw.txt, C, , Setup:AdaptivePass, \"Original\", \"ohm\", \"nH\", \"fF\", \"mSie\", 5000000000, Maxwell, 4, False\n",
      "INFO 02:10PM [get_matrix]: Exporting matrix data to (C:\\Users\\slab\\AppData\\Local\\Temp\\tmpcszgjbui.txt, C, , Setup:AdaptivePass, \"Original\", \"ohm\", \"nH\", \"fF\", \"mSie\", 5000000000, Maxwell, 5, False\n",
      "INFO 02:10PM [get_matrix]: Exporting matrix data to (C:\\Users\\slab\\AppData\\Local\\Temp\\tmplyq76e7n.txt, C, , Setup:AdaptivePass, \"Original\", \"ohm\", \"nH\", \"fF\", \"mSie\", 5000000000, Maxwell, 6, False\n",
      "INFO 02:10PM [get_matrix]: Exporting matrix data to (C:\\Users\\slab\\AppData\\Local\\Temp\\tmp_ojuw79u.txt, C, , Setup:AdaptivePass, \"Original\", \"ohm\", \"nH\", \"fF\", \"mSie\", 5000000000, Maxwell, 7, False\n",
      "INFO 02:10PM [get_matrix]: Exporting matrix data to (C:\\Users\\slab\\AppData\\Local\\Temp\\tmpu44vui2x.txt, C, , Setup:AdaptivePass, \"Original\", \"ohm\", \"nH\", \"fF\", \"mSie\", 5000000000, Maxwell, 8, False\n",
      "INFO 02:10PM [get_matrix]: Exporting matrix data to (C:\\Users\\slab\\AppData\\Local\\Temp\\tmptp1jwput.txt, C, , Setup:AdaptivePass, \"Original\", \"ohm\", \"nH\", \"fF\", \"mSie\", 5000000000, Maxwell, 9, False\n",
      "INFO 02:10PM [get_matrix]: Exporting matrix data to (C:\\Users\\slab\\AppData\\Local\\Temp\\tmpc7zcm113.txt, C, , Setup:AdaptivePass, \"Original\", \"ohm\", \"nH\", \"fF\", \"mSie\", 5000000000, Maxwell, 10, False\n",
      "INFO 02:10PM [get_matrix]: Exporting matrix data to (C:\\Users\\slab\\AppData\\Local\\Temp\\tmpcm2lb6wl.txt, C, , Setup:AdaptivePass, \"Original\", \"ohm\", \"nH\", \"fF\", \"mSie\", 5000000000, Maxwell, 11, False\n",
      "INFO 02:10PM [get_matrix]: Exporting matrix data to (C:\\Users\\slab\\AppData\\Local\\Temp\\tmp7isgpa8l.txt, C, , Setup:LastAdaptive, \"Original\", \"ohm\", \"nH\", \"fF\", \"mSie\", 5000000000, Maxwell, 1, False\n",
      "INFO 02:10PM [get_matrix]: Exporting matrix data to (C:\\Users\\slab\\AppData\\Local\\Temp\\tmpzydvdcxn.txt, C, , Setup:AdaptivePass, \"Original\", \"ohm\", \"nH\", \"fF\", \"mSie\", 5000000000, Maxwell, 1, False\n",
      "INFO 02:10PM [get_matrix]: Exporting matrix data to (C:\\Users\\slab\\AppData\\Local\\Temp\\tmp3gzmxsbq.txt, C, , Setup:AdaptivePass, \"Original\", \"ohm\", \"nH\", \"fF\", \"mSie\", 5000000000, Maxwell, 2, False\n",
      "INFO 02:10PM [get_matrix]: Exporting matrix data to (C:\\Users\\slab\\AppData\\Local\\Temp\\tmpty7j2t0f.txt, C, , Setup:AdaptivePass, \"Original\", \"ohm\", \"nH\", \"fF\", \"mSie\", 5000000000, Maxwell, 3, False\n",
      "INFO 02:10PM [get_matrix]: Exporting matrix data to (C:\\Users\\slab\\AppData\\Local\\Temp\\tmpyi_kr9f_.txt, C, , Setup:AdaptivePass, \"Original\", \"ohm\", \"nH\", \"fF\", \"mSie\", 5000000000, Maxwell, 4, False\n",
      "INFO 02:10PM [get_matrix]: Exporting matrix data to (C:\\Users\\slab\\AppData\\Local\\Temp\\tmp_ew1vjy4.txt, C, , Setup:AdaptivePass, \"Original\", \"ohm\", \"nH\", \"fF\", \"mSie\", 5000000000, Maxwell, 5, False\n",
      "INFO 02:10PM [get_matrix]: Exporting matrix data to (C:\\Users\\slab\\AppData\\Local\\Temp\\tmponub82pk.txt, C, , Setup:AdaptivePass, \"Original\", \"ohm\", \"nH\", \"fF\", \"mSie\", 5000000000, Maxwell, 6, False\n",
      "INFO 02:10PM [get_matrix]: Exporting matrix data to (C:\\Users\\slab\\AppData\\Local\\Temp\\tmp6fkvdkb_.txt, C, , Setup:AdaptivePass, \"Original\", \"ohm\", \"nH\", \"fF\", \"mSie\", 5000000000, Maxwell, 7, False\n",
      "INFO 02:10PM [get_matrix]: Exporting matrix data to (C:\\Users\\slab\\AppData\\Local\\Temp\\tmpymf8vpe6.txt, C, , Setup:AdaptivePass, \"Original\", \"ohm\", \"nH\", \"fF\", \"mSie\", 5000000000, Maxwell, 8, False\n",
      "INFO 02:10PM [get_matrix]: Exporting matrix data to (C:\\Users\\slab\\AppData\\Local\\Temp\\tmp2_6opixz.txt, C, , Setup:AdaptivePass, \"Original\", \"ohm\", \"nH\", \"fF\", \"mSie\", 5000000000, Maxwell, 9, False\n",
      "INFO 02:10PM [get_matrix]: Exporting matrix data to (C:\\Users\\slab\\AppData\\Local\\Temp\\tmpod6hcyiq.txt, C, , Setup:AdaptivePass, \"Original\", \"ohm\", \"nH\", \"fF\", \"mSie\", 5000000000, Maxwell, 10, False\n",
      "INFO 02:10PM [get_matrix]: Exporting matrix data to (C:\\Users\\slab\\AppData\\Local\\Temp\\tmppov_5qo7.txt, C, , Setup:AdaptivePass, \"Original\", \"ohm\", \"nH\", \"fF\", \"mSie\", 5000000000, Maxwell, 11, False\n"
     ]
    },
    {
     "name": "stdout",
     "output_type": "stream",
     "text": [
      "                    a_connector_pad_Q1  ground_main_plane  pad_top_Q1\n",
      "a_connector_pad_Q1            25.02558          -14.56231   -10.09689\n",
      "ground_main_plane            -14.56231          122.58085   -67.13772\n",
      "pad_top_Q1                   -10.09689          -67.13772    80.70662\n"
     ]
    },
    {
     "name": "stderr",
     "output_type": "stream",
     "text": [
      "INFO 02:10PM [connect_design]: \tOpened active design\n",
      "\tDesign:    Design_q3d [Solution type: Q3D]\n",
      "INFO 02:10PM [get_setup]: \tOpened setup `Setup`  (<class 'pyEPR.ansys.AnsysQ3DSetup'>)\n",
      "INFO 02:10PM [analyze]: Analyzing setup Setup\n",
      "INFO 02:10PM [get_matrix]: Exporting matrix data to (C:\\Users\\slab\\AppData\\Local\\Temp\\tmp9ne3cx7e.txt, C, , Setup:LastAdaptive, \"Original\", \"ohm\", \"nH\", \"fF\", \"mSie\", 5000000000, Maxwell, 1, False\n",
      "INFO 02:10PM [get_matrix]: Exporting matrix data to (C:\\Users\\slab\\AppData\\Local\\Temp\\tmp2_4zr0pa.txt, C, , Setup:AdaptivePass, \"Original\", \"ohm\", \"nH\", \"fF\", \"mSie\", 5000000000, Maxwell, 1, False\n",
      "INFO 02:10PM [get_matrix]: Exporting matrix data to (C:\\Users\\slab\\AppData\\Local\\Temp\\tmp2wkpctva.txt, C, , Setup:AdaptivePass, \"Original\", \"ohm\", \"nH\", \"fF\", \"mSie\", 5000000000, Maxwell, 2, False\n",
      "INFO 02:10PM [get_matrix]: Exporting matrix data to (C:\\Users\\slab\\AppData\\Local\\Temp\\tmp372xs2ik.txt, C, , Setup:AdaptivePass, \"Original\", \"ohm\", \"nH\", \"fF\", \"mSie\", 5000000000, Maxwell, 3, False\n",
      "INFO 02:10PM [get_matrix]: Exporting matrix data to (C:\\Users\\slab\\AppData\\Local\\Temp\\tmp67byev6p.txt, C, , Setup:AdaptivePass, \"Original\", \"ohm\", \"nH\", \"fF\", \"mSie\", 5000000000, Maxwell, 4, False\n",
      "INFO 02:10PM [get_matrix]: Exporting matrix data to (C:\\Users\\slab\\AppData\\Local\\Temp\\tmp7f6b3zbt.txt, C, , Setup:AdaptivePass, \"Original\", \"ohm\", \"nH\", \"fF\", \"mSie\", 5000000000, Maxwell, 5, False\n",
      "INFO 02:10PM [get_matrix]: Exporting matrix data to (C:\\Users\\slab\\AppData\\Local\\Temp\\tmp_m76r0n9.txt, C, , Setup:AdaptivePass, \"Original\", \"ohm\", \"nH\", \"fF\", \"mSie\", 5000000000, Maxwell, 6, False\n",
      "INFO 02:10PM [get_matrix]: Exporting matrix data to (C:\\Users\\slab\\AppData\\Local\\Temp\\tmpti0o7wwd.txt, C, , Setup:AdaptivePass, \"Original\", \"ohm\", \"nH\", \"fF\", \"mSie\", 5000000000, Maxwell, 7, False\n",
      "INFO 02:10PM [get_matrix]: Exporting matrix data to (C:\\Users\\slab\\AppData\\Local\\Temp\\tmpox38vrfn.txt, C, , Setup:AdaptivePass, \"Original\", \"ohm\", \"nH\", \"fF\", \"mSie\", 5000000000, Maxwell, 8, False\n",
      "INFO 02:10PM [get_matrix]: Exporting matrix data to (C:\\Users\\slab\\AppData\\Local\\Temp\\tmps_3swzh0.txt, C, , Setup:AdaptivePass, \"Original\", \"ohm\", \"nH\", \"fF\", \"mSie\", 5000000000, Maxwell, 9, False\n",
      "INFO 02:10PM [get_matrix]: Exporting matrix data to (C:\\Users\\slab\\AppData\\Local\\Temp\\tmpvoazeq6i.txt, C, , Setup:AdaptivePass, \"Original\", \"ohm\", \"nH\", \"fF\", \"mSie\", 5000000000, Maxwell, 10, False\n",
      "INFO 02:10PM [get_matrix]: Exporting matrix data to (C:\\Users\\slab\\AppData\\Local\\Temp\\tmpzk4anrjv.txt, C, , Setup:AdaptivePass, \"Original\", \"ohm\", \"nH\", \"fF\", \"mSie\", 5000000000, Maxwell, 11, False\n",
      "INFO 02:10PM [get_matrix]: Exporting matrix data to (C:\\Users\\slab\\AppData\\Local\\Temp\\tmplueesnji.txt, C, , Setup:LastAdaptive, \"Original\", \"ohm\", \"nH\", \"fF\", \"mSie\", 5000000000, Maxwell, 1, False\n",
      "INFO 02:10PM [get_matrix]: Exporting matrix data to (C:\\Users\\slab\\AppData\\Local\\Temp\\tmpx8c1wr8b.txt, C, , Setup:AdaptivePass, \"Original\", \"ohm\", \"nH\", \"fF\", \"mSie\", 5000000000, Maxwell, 1, False\n",
      "INFO 02:10PM [get_matrix]: Exporting matrix data to (C:\\Users\\slab\\AppData\\Local\\Temp\\tmpd43sum3_.txt, C, , Setup:AdaptivePass, \"Original\", \"ohm\", \"nH\", \"fF\", \"mSie\", 5000000000, Maxwell, 2, False\n",
      "INFO 02:10PM [get_matrix]: Exporting matrix data to (C:\\Users\\slab\\AppData\\Local\\Temp\\tmpbflkczpc.txt, C, , Setup:AdaptivePass, \"Original\", \"ohm\", \"nH\", \"fF\", \"mSie\", 5000000000, Maxwell, 3, False\n",
      "INFO 02:10PM [get_matrix]: Exporting matrix data to (C:\\Users\\slab\\AppData\\Local\\Temp\\tmphp8kxbtq.txt, C, , Setup:AdaptivePass, \"Original\", \"ohm\", \"nH\", \"fF\", \"mSie\", 5000000000, Maxwell, 4, False\n",
      "INFO 02:10PM [get_matrix]: Exporting matrix data to (C:\\Users\\slab\\AppData\\Local\\Temp\\tmpye9xkz3j.txt, C, , Setup:AdaptivePass, \"Original\", \"ohm\", \"nH\", \"fF\", \"mSie\", 5000000000, Maxwell, 5, False\n",
      "INFO 02:10PM [get_matrix]: Exporting matrix data to (C:\\Users\\slab\\AppData\\Local\\Temp\\tmp8h627kgy.txt, C, , Setup:AdaptivePass, \"Original\", \"ohm\", \"nH\", \"fF\", \"mSie\", 5000000000, Maxwell, 6, False\n",
      "INFO 02:10PM [get_matrix]: Exporting matrix data to (C:\\Users\\slab\\AppData\\Local\\Temp\\tmp66ac40pi.txt, C, , Setup:AdaptivePass, \"Original\", \"ohm\", \"nH\", \"fF\", \"mSie\", 5000000000, Maxwell, 7, False\n",
      "INFO 02:10PM [get_matrix]: Exporting matrix data to (C:\\Users\\slab\\AppData\\Local\\Temp\\tmp_zjvph_h.txt, C, , Setup:AdaptivePass, \"Original\", \"ohm\", \"nH\", \"fF\", \"mSie\", 5000000000, Maxwell, 8, False\n",
      "INFO 02:10PM [get_matrix]: Exporting matrix data to (C:\\Users\\slab\\AppData\\Local\\Temp\\tmpapwoyywt.txt, C, , Setup:AdaptivePass, \"Original\", \"ohm\", \"nH\", \"fF\", \"mSie\", 5000000000, Maxwell, 9, False\n",
      "INFO 02:10PM [get_matrix]: Exporting matrix data to (C:\\Users\\slab\\AppData\\Local\\Temp\\tmpg62qrkam.txt, C, , Setup:AdaptivePass, \"Original\", \"ohm\", \"nH\", \"fF\", \"mSie\", 5000000000, Maxwell, 10, False\n",
      "INFO 02:10PM [get_matrix]: Exporting matrix data to (C:\\Users\\slab\\AppData\\Local\\Temp\\tmp1o8t25o3.txt, C, , Setup:AdaptivePass, \"Original\", \"ohm\", \"nH\", \"fF\", \"mSie\", 5000000000, Maxwell, 11, False\n"
     ]
    },
    {
     "name": "stdout",
     "output_type": "stream",
     "text": [
      "                    a_connector_pad_Q1  ground_main_plane  pad_top_Q1\n",
      "a_connector_pad_Q1            24.57473          -14.19563   -10.02734\n",
      "ground_main_plane            -14.19563          125.02545   -70.03737\n",
      "pad_top_Q1                   -10.02734          -70.03737    83.64223\n"
     ]
    },
    {
     "name": "stderr",
     "output_type": "stream",
     "text": [
      "INFO 02:10PM [connect_design]: \tOpened active design\n",
      "\tDesign:    Design_q3d [Solution type: Q3D]\n",
      "INFO 02:10PM [get_setup]: \tOpened setup `Setup`  (<class 'pyEPR.ansys.AnsysQ3DSetup'>)\n",
      "INFO 02:10PM [analyze]: Analyzing setup Setup\n",
      "INFO 02:11PM [get_matrix]: Exporting matrix data to (C:\\Users\\slab\\AppData\\Local\\Temp\\tmp023gi0zb.txt, C, , Setup:LastAdaptive, \"Original\", \"ohm\", \"nH\", \"fF\", \"mSie\", 5000000000, Maxwell, 1, False\n",
      "INFO 02:11PM [get_matrix]: Exporting matrix data to (C:\\Users\\slab\\AppData\\Local\\Temp\\tmp3ifz8chp.txt, C, , Setup:AdaptivePass, \"Original\", \"ohm\", \"nH\", \"fF\", \"mSie\", 5000000000, Maxwell, 1, False\n",
      "INFO 02:11PM [get_matrix]: Exporting matrix data to (C:\\Users\\slab\\AppData\\Local\\Temp\\tmp6pln5bmq.txt, C, , Setup:AdaptivePass, \"Original\", \"ohm\", \"nH\", \"fF\", \"mSie\", 5000000000, Maxwell, 2, False\n",
      "INFO 02:11PM [get_matrix]: Exporting matrix data to (C:\\Users\\slab\\AppData\\Local\\Temp\\tmpepk52dng.txt, C, , Setup:AdaptivePass, \"Original\", \"ohm\", \"nH\", \"fF\", \"mSie\", 5000000000, Maxwell, 3, False\n",
      "INFO 02:11PM [get_matrix]: Exporting matrix data to (C:\\Users\\slab\\AppData\\Local\\Temp\\tmpjr5f_2kf.txt, C, , Setup:AdaptivePass, \"Original\", \"ohm\", \"nH\", \"fF\", \"mSie\", 5000000000, Maxwell, 4, False\n",
      "INFO 02:11PM [get_matrix]: Exporting matrix data to (C:\\Users\\slab\\AppData\\Local\\Temp\\tmpeg15cqm7.txt, C, , Setup:AdaptivePass, \"Original\", \"ohm\", \"nH\", \"fF\", \"mSie\", 5000000000, Maxwell, 5, False\n",
      "INFO 02:11PM [get_matrix]: Exporting matrix data to (C:\\Users\\slab\\AppData\\Local\\Temp\\tmpqyiyoro3.txt, C, , Setup:AdaptivePass, \"Original\", \"ohm\", \"nH\", \"fF\", \"mSie\", 5000000000, Maxwell, 6, False\n",
      "INFO 02:11PM [get_matrix]: Exporting matrix data to (C:\\Users\\slab\\AppData\\Local\\Temp\\tmp4yssfgw2.txt, C, , Setup:AdaptivePass, \"Original\", \"ohm\", \"nH\", \"fF\", \"mSie\", 5000000000, Maxwell, 7, False\n",
      "INFO 02:11PM [get_matrix]: Exporting matrix data to (C:\\Users\\slab\\AppData\\Local\\Temp\\tmp3liknfzq.txt, C, , Setup:AdaptivePass, \"Original\", \"ohm\", \"nH\", \"fF\", \"mSie\", 5000000000, Maxwell, 8, False\n",
      "INFO 02:11PM [get_matrix]: Exporting matrix data to (C:\\Users\\slab\\AppData\\Local\\Temp\\tmpqm9ih60n.txt, C, , Setup:AdaptivePass, \"Original\", \"ohm\", \"nH\", \"fF\", \"mSie\", 5000000000, Maxwell, 9, False\n",
      "INFO 02:11PM [get_matrix]: Exporting matrix data to (C:\\Users\\slab\\AppData\\Local\\Temp\\tmp_l994kb0.txt, C, , Setup:AdaptivePass, \"Original\", \"ohm\", \"nH\", \"fF\", \"mSie\", 5000000000, Maxwell, 10, False\n",
      "INFO 02:11PM [get_matrix]: Exporting matrix data to (C:\\Users\\slab\\AppData\\Local\\Temp\\tmpznkb41t1.txt, C, , Setup:AdaptivePass, \"Original\", \"ohm\", \"nH\", \"fF\", \"mSie\", 5000000000, Maxwell, 11, False\n",
      "INFO 02:11PM [get_matrix]: Exporting matrix data to (C:\\Users\\slab\\AppData\\Local\\Temp\\tmpv8olujv5.txt, C, , Setup:LastAdaptive, \"Original\", \"ohm\", \"nH\", \"fF\", \"mSie\", 5000000000, Maxwell, 1, False\n",
      "INFO 02:11PM [get_matrix]: Exporting matrix data to (C:\\Users\\slab\\AppData\\Local\\Temp\\tmpanbfolmw.txt, C, , Setup:AdaptivePass, \"Original\", \"ohm\", \"nH\", \"fF\", \"mSie\", 5000000000, Maxwell, 1, False\n",
      "INFO 02:11PM [get_matrix]: Exporting matrix data to (C:\\Users\\slab\\AppData\\Local\\Temp\\tmpxn6towbc.txt, C, , Setup:AdaptivePass, \"Original\", \"ohm\", \"nH\", \"fF\", \"mSie\", 5000000000, Maxwell, 2, False\n",
      "INFO 02:11PM [get_matrix]: Exporting matrix data to (C:\\Users\\slab\\AppData\\Local\\Temp\\tmpiopmx4i2.txt, C, , Setup:AdaptivePass, \"Original\", \"ohm\", \"nH\", \"fF\", \"mSie\", 5000000000, Maxwell, 3, False\n",
      "INFO 02:11PM [get_matrix]: Exporting matrix data to (C:\\Users\\slab\\AppData\\Local\\Temp\\tmpwdbjfyme.txt, C, , Setup:AdaptivePass, \"Original\", \"ohm\", \"nH\", \"fF\", \"mSie\", 5000000000, Maxwell, 4, False\n",
      "INFO 02:11PM [get_matrix]: Exporting matrix data to (C:\\Users\\slab\\AppData\\Local\\Temp\\tmpn0u7h64b.txt, C, , Setup:AdaptivePass, \"Original\", \"ohm\", \"nH\", \"fF\", \"mSie\", 5000000000, Maxwell, 5, False\n",
      "INFO 02:11PM [get_matrix]: Exporting matrix data to (C:\\Users\\slab\\AppData\\Local\\Temp\\tmp3z4h_mqv.txt, C, , Setup:AdaptivePass, \"Original\", \"ohm\", \"nH\", \"fF\", \"mSie\", 5000000000, Maxwell, 6, False\n",
      "INFO 02:11PM [get_matrix]: Exporting matrix data to (C:\\Users\\slab\\AppData\\Local\\Temp\\tmpk2oevj67.txt, C, , Setup:AdaptivePass, \"Original\", \"ohm\", \"nH\", \"fF\", \"mSie\", 5000000000, Maxwell, 7, False\n",
      "INFO 02:11PM [get_matrix]: Exporting matrix data to (C:\\Users\\slab\\AppData\\Local\\Temp\\tmpw6a2um1n.txt, C, , Setup:AdaptivePass, \"Original\", \"ohm\", \"nH\", \"fF\", \"mSie\", 5000000000, Maxwell, 8, False\n",
      "INFO 02:11PM [get_matrix]: Exporting matrix data to (C:\\Users\\slab\\AppData\\Local\\Temp\\tmpfm4w57g8.txt, C, , Setup:AdaptivePass, \"Original\", \"ohm\", \"nH\", \"fF\", \"mSie\", 5000000000, Maxwell, 9, False\n",
      "INFO 02:11PM [get_matrix]: Exporting matrix data to (C:\\Users\\slab\\AppData\\Local\\Temp\\tmp74332keo.txt, C, , Setup:AdaptivePass, \"Original\", \"ohm\", \"nH\", \"fF\", \"mSie\", 5000000000, Maxwell, 10, False\n",
      "INFO 02:11PM [get_matrix]: Exporting matrix data to (C:\\Users\\slab\\AppData\\Local\\Temp\\tmpexbd8zm6.txt, C, , Setup:AdaptivePass, \"Original\", \"ohm\", \"nH\", \"fF\", \"mSie\", 5000000000, Maxwell, 11, False\n"
     ]
    },
    {
     "name": "stdout",
     "output_type": "stream",
     "text": [
      "                    a_connector_pad_Q1  ground_main_plane  pad_top_Q1\n",
      "a_connector_pad_Q1            24.09602          -13.82281    -9.93468\n",
      "ground_main_plane            -13.82281          127.56663   -73.03417\n",
      "pad_top_Q1                    -9.93468          -73.03417    86.64837\n"
     ]
    },
    {
     "name": "stderr",
     "output_type": "stream",
     "text": [
      "INFO 02:11PM [connect_design]: \tOpened active design\n",
      "\tDesign:    Design_q3d [Solution type: Q3D]\n",
      "INFO 02:11PM [get_setup]: \tOpened setup `Setup`  (<class 'pyEPR.ansys.AnsysQ3DSetup'>)\n",
      "INFO 02:11PM [analyze]: Analyzing setup Setup\n",
      "INFO 02:12PM [get_matrix]: Exporting matrix data to (C:\\Users\\slab\\AppData\\Local\\Temp\\tmpkegh0s9a.txt, C, , Setup:LastAdaptive, \"Original\", \"ohm\", \"nH\", \"fF\", \"mSie\", 5000000000, Maxwell, 1, False\n",
      "INFO 02:12PM [get_matrix]: Exporting matrix data to (C:\\Users\\slab\\AppData\\Local\\Temp\\tmpklan6_7v.txt, C, , Setup:AdaptivePass, \"Original\", \"ohm\", \"nH\", \"fF\", \"mSie\", 5000000000, Maxwell, 1, False\n",
      "INFO 02:12PM [get_matrix]: Exporting matrix data to (C:\\Users\\slab\\AppData\\Local\\Temp\\tmpgw3jib5j.txt, C, , Setup:AdaptivePass, \"Original\", \"ohm\", \"nH\", \"fF\", \"mSie\", 5000000000, Maxwell, 2, False\n",
      "INFO 02:12PM [get_matrix]: Exporting matrix data to (C:\\Users\\slab\\AppData\\Local\\Temp\\tmpcdhwspvk.txt, C, , Setup:AdaptivePass, \"Original\", \"ohm\", \"nH\", \"fF\", \"mSie\", 5000000000, Maxwell, 3, False\n",
      "INFO 02:12PM [get_matrix]: Exporting matrix data to (C:\\Users\\slab\\AppData\\Local\\Temp\\tmpc7t_kpyz.txt, C, , Setup:AdaptivePass, \"Original\", \"ohm\", \"nH\", \"fF\", \"mSie\", 5000000000, Maxwell, 4, False\n",
      "INFO 02:12PM [get_matrix]: Exporting matrix data to (C:\\Users\\slab\\AppData\\Local\\Temp\\tmputgii5av.txt, C, , Setup:AdaptivePass, \"Original\", \"ohm\", \"nH\", \"fF\", \"mSie\", 5000000000, Maxwell, 5, False\n",
      "INFO 02:12PM [get_matrix]: Exporting matrix data to (C:\\Users\\slab\\AppData\\Local\\Temp\\tmpj3r565d9.txt, C, , Setup:AdaptivePass, \"Original\", \"ohm\", \"nH\", \"fF\", \"mSie\", 5000000000, Maxwell, 6, False\n",
      "INFO 02:12PM [get_matrix]: Exporting matrix data to (C:\\Users\\slab\\AppData\\Local\\Temp\\tmpnw_crg_j.txt, C, , Setup:AdaptivePass, \"Original\", \"ohm\", \"nH\", \"fF\", \"mSie\", 5000000000, Maxwell, 7, False\n",
      "INFO 02:12PM [get_matrix]: Exporting matrix data to (C:\\Users\\slab\\AppData\\Local\\Temp\\tmpuel9d118.txt, C, , Setup:AdaptivePass, \"Original\", \"ohm\", \"nH\", \"fF\", \"mSie\", 5000000000, Maxwell, 8, False\n",
      "INFO 02:12PM [get_matrix]: Exporting matrix data to (C:\\Users\\slab\\AppData\\Local\\Temp\\tmpklw_rzq_.txt, C, , Setup:AdaptivePass, \"Original\", \"ohm\", \"nH\", \"fF\", \"mSie\", 5000000000, Maxwell, 9, False\n",
      "INFO 02:12PM [get_matrix]: Exporting matrix data to (C:\\Users\\slab\\AppData\\Local\\Temp\\tmpk1d4abt4.txt, C, , Setup:AdaptivePass, \"Original\", \"ohm\", \"nH\", \"fF\", \"mSie\", 5000000000, Maxwell, 10, False\n",
      "INFO 02:12PM [get_matrix]: Exporting matrix data to (C:\\Users\\slab\\AppData\\Local\\Temp\\tmpe855pu7x.txt, C, , Setup:AdaptivePass, \"Original\", \"ohm\", \"nH\", \"fF\", \"mSie\", 5000000000, Maxwell, 11, False\n",
      "INFO 02:12PM [get_matrix]: Exporting matrix data to (C:\\Users\\slab\\AppData\\Local\\Temp\\tmpwe224vhl.txt, C, , Setup:LastAdaptive, \"Original\", \"ohm\", \"nH\", \"fF\", \"mSie\", 5000000000, Maxwell, 1, False\n",
      "INFO 02:12PM [get_matrix]: Exporting matrix data to (C:\\Users\\slab\\AppData\\Local\\Temp\\tmpxu4nnrq2.txt, C, , Setup:AdaptivePass, \"Original\", \"ohm\", \"nH\", \"fF\", \"mSie\", 5000000000, Maxwell, 1, False\n",
      "INFO 02:12PM [get_matrix]: Exporting matrix data to (C:\\Users\\slab\\AppData\\Local\\Temp\\tmpkpit95rk.txt, C, , Setup:AdaptivePass, \"Original\", \"ohm\", \"nH\", \"fF\", \"mSie\", 5000000000, Maxwell, 2, False\n",
      "INFO 02:12PM [get_matrix]: Exporting matrix data to (C:\\Users\\slab\\AppData\\Local\\Temp\\tmpcw18n_ka.txt, C, , Setup:AdaptivePass, \"Original\", \"ohm\", \"nH\", \"fF\", \"mSie\", 5000000000, Maxwell, 3, False\n",
      "INFO 02:12PM [get_matrix]: Exporting matrix data to (C:\\Users\\slab\\AppData\\Local\\Temp\\tmp3hcfc70d.txt, C, , Setup:AdaptivePass, \"Original\", \"ohm\", \"nH\", \"fF\", \"mSie\", 5000000000, Maxwell, 4, False\n",
      "INFO 02:12PM [get_matrix]: Exporting matrix data to (C:\\Users\\slab\\AppData\\Local\\Temp\\tmpcyfgw5s2.txt, C, , Setup:AdaptivePass, \"Original\", \"ohm\", \"nH\", \"fF\", \"mSie\", 5000000000, Maxwell, 5, False\n",
      "INFO 02:12PM [get_matrix]: Exporting matrix data to (C:\\Users\\slab\\AppData\\Local\\Temp\\tmps7msi4_a.txt, C, , Setup:AdaptivePass, \"Original\", \"ohm\", \"nH\", \"fF\", \"mSie\", 5000000000, Maxwell, 6, False\n",
      "INFO 02:12PM [get_matrix]: Exporting matrix data to (C:\\Users\\slab\\AppData\\Local\\Temp\\tmpjzshdbxr.txt, C, , Setup:AdaptivePass, \"Original\", \"ohm\", \"nH\", \"fF\", \"mSie\", 5000000000, Maxwell, 7, False\n",
      "INFO 02:12PM [get_matrix]: Exporting matrix data to (C:\\Users\\slab\\AppData\\Local\\Temp\\tmpyd0e8lvd.txt, C, , Setup:AdaptivePass, \"Original\", \"ohm\", \"nH\", \"fF\", \"mSie\", 5000000000, Maxwell, 8, False\n",
      "INFO 02:12PM [get_matrix]: Exporting matrix data to (C:\\Users\\slab\\AppData\\Local\\Temp\\tmpdec2aitu.txt, C, , Setup:AdaptivePass, \"Original\", \"ohm\", \"nH\", \"fF\", \"mSie\", 5000000000, Maxwell, 9, False\n",
      "INFO 02:12PM [get_matrix]: Exporting matrix data to (C:\\Users\\slab\\AppData\\Local\\Temp\\tmpy88rthbl.txt, C, , Setup:AdaptivePass, \"Original\", \"ohm\", \"nH\", \"fF\", \"mSie\", 5000000000, Maxwell, 10, False\n",
      "INFO 02:12PM [get_matrix]: Exporting matrix data to (C:\\Users\\slab\\AppData\\Local\\Temp\\tmprzijcrj0.txt, C, , Setup:AdaptivePass, \"Original\", \"ohm\", \"nH\", \"fF\", \"mSie\", 5000000000, Maxwell, 11, False\n"
     ]
    },
    {
     "name": "stdout",
     "output_type": "stream",
     "text": [
      "                    a_connector_pad_Q1  ground_main_plane  pad_top_Q1\n",
      "a_connector_pad_Q1            23.62924          -13.46463    -9.83873\n",
      "ground_main_plane            -13.46463          130.32838   -76.25466\n",
      "pad_top_Q1                    -9.83873          -76.25466    89.87286\n"
     ]
    },
    {
     "name": "stderr",
     "output_type": "stream",
     "text": [
      "INFO 02:12PM [connect_design]: \tOpened active design\n",
      "\tDesign:    Design_q3d [Solution type: Q3D]\n",
      "INFO 02:12PM [get_setup]: \tOpened setup `Setup`  (<class 'pyEPR.ansys.AnsysQ3DSetup'>)\n",
      "INFO 02:12PM [analyze]: Analyzing setup Setup\n",
      "INFO 02:12PM [get_matrix]: Exporting matrix data to (C:\\Users\\slab\\AppData\\Local\\Temp\\tmpust63bgh.txt, C, , Setup:LastAdaptive, \"Original\", \"ohm\", \"nH\", \"fF\", \"mSie\", 5000000000, Maxwell, 1, False\n",
      "INFO 02:12PM [get_matrix]: Exporting matrix data to (C:\\Users\\slab\\AppData\\Local\\Temp\\tmp8hvfry98.txt, C, , Setup:AdaptivePass, \"Original\", \"ohm\", \"nH\", \"fF\", \"mSie\", 5000000000, Maxwell, 1, False\n",
      "INFO 02:12PM [get_matrix]: Exporting matrix data to (C:\\Users\\slab\\AppData\\Local\\Temp\\tmpjdqct16y.txt, C, , Setup:AdaptivePass, \"Original\", \"ohm\", \"nH\", \"fF\", \"mSie\", 5000000000, Maxwell, 2, False\n",
      "INFO 02:12PM [get_matrix]: Exporting matrix data to (C:\\Users\\slab\\AppData\\Local\\Temp\\tmp0omd25w3.txt, C, , Setup:AdaptivePass, \"Original\", \"ohm\", \"nH\", \"fF\", \"mSie\", 5000000000, Maxwell, 3, False\n",
      "INFO 02:12PM [get_matrix]: Exporting matrix data to (C:\\Users\\slab\\AppData\\Local\\Temp\\tmp2djhmbqq.txt, C, , Setup:AdaptivePass, \"Original\", \"ohm\", \"nH\", \"fF\", \"mSie\", 5000000000, Maxwell, 4, False\n",
      "INFO 02:12PM [get_matrix]: Exporting matrix data to (C:\\Users\\slab\\AppData\\Local\\Temp\\tmpofawc0la.txt, C, , Setup:AdaptivePass, \"Original\", \"ohm\", \"nH\", \"fF\", \"mSie\", 5000000000, Maxwell, 5, False\n",
      "INFO 02:12PM [get_matrix]: Exporting matrix data to (C:\\Users\\slab\\AppData\\Local\\Temp\\tmpzejxnndo.txt, C, , Setup:AdaptivePass, \"Original\", \"ohm\", \"nH\", \"fF\", \"mSie\", 5000000000, Maxwell, 6, False\n",
      "INFO 02:12PM [get_matrix]: Exporting matrix data to (C:\\Users\\slab\\AppData\\Local\\Temp\\tmpekjfkjgx.txt, C, , Setup:AdaptivePass, \"Original\", \"ohm\", \"nH\", \"fF\", \"mSie\", 5000000000, Maxwell, 7, False\n",
      "INFO 02:12PM [get_matrix]: Exporting matrix data to (C:\\Users\\slab\\AppData\\Local\\Temp\\tmpfm8k43qu.txt, C, , Setup:AdaptivePass, \"Original\", \"ohm\", \"nH\", \"fF\", \"mSie\", 5000000000, Maxwell, 8, False\n",
      "INFO 02:12PM [get_matrix]: Exporting matrix data to (C:\\Users\\slab\\AppData\\Local\\Temp\\tmpt214g2u5.txt, C, , Setup:AdaptivePass, \"Original\", \"ohm\", \"nH\", \"fF\", \"mSie\", 5000000000, Maxwell, 9, False\n",
      "INFO 02:12PM [get_matrix]: Exporting matrix data to (C:\\Users\\slab\\AppData\\Local\\Temp\\tmp2a88m8pu.txt, C, , Setup:AdaptivePass, \"Original\", \"ohm\", \"nH\", \"fF\", \"mSie\", 5000000000, Maxwell, 10, False\n",
      "INFO 02:12PM [get_matrix]: Exporting matrix data to (C:\\Users\\slab\\AppData\\Local\\Temp\\tmp37otjrtw.txt, C, , Setup:AdaptivePass, \"Original\", \"ohm\", \"nH\", \"fF\", \"mSie\", 5000000000, Maxwell, 11, False\n",
      "INFO 02:12PM [get_matrix]: Exporting matrix data to (C:\\Users\\slab\\AppData\\Local\\Temp\\tmpklo1wa7x.txt, C, , Setup:LastAdaptive, \"Original\", \"ohm\", \"nH\", \"fF\", \"mSie\", 5000000000, Maxwell, 1, False\n",
      "INFO 02:12PM [get_matrix]: Exporting matrix data to (C:\\Users\\slab\\AppData\\Local\\Temp\\tmppen440f3.txt, C, , Setup:AdaptivePass, \"Original\", \"ohm\", \"nH\", \"fF\", \"mSie\", 5000000000, Maxwell, 1, False\n",
      "INFO 02:12PM [get_matrix]: Exporting matrix data to (C:\\Users\\slab\\AppData\\Local\\Temp\\tmp2laxtacq.txt, C, , Setup:AdaptivePass, \"Original\", \"ohm\", \"nH\", \"fF\", \"mSie\", 5000000000, Maxwell, 2, False\n",
      "INFO 02:12PM [get_matrix]: Exporting matrix data to (C:\\Users\\slab\\AppData\\Local\\Temp\\tmp8j0zhp6k.txt, C, , Setup:AdaptivePass, \"Original\", \"ohm\", \"nH\", \"fF\", \"mSie\", 5000000000, Maxwell, 3, False\n",
      "INFO 02:12PM [get_matrix]: Exporting matrix data to (C:\\Users\\slab\\AppData\\Local\\Temp\\tmpci7a6z_0.txt, C, , Setup:AdaptivePass, \"Original\", \"ohm\", \"nH\", \"fF\", \"mSie\", 5000000000, Maxwell, 4, False\n",
      "INFO 02:12PM [get_matrix]: Exporting matrix data to (C:\\Users\\slab\\AppData\\Local\\Temp\\tmpy7k8bppk.txt, C, , Setup:AdaptivePass, \"Original\", \"ohm\", \"nH\", \"fF\", \"mSie\", 5000000000, Maxwell, 5, False\n",
      "INFO 02:12PM [get_matrix]: Exporting matrix data to (C:\\Users\\slab\\AppData\\Local\\Temp\\tmpb1ghnqg2.txt, C, , Setup:AdaptivePass, \"Original\", \"ohm\", \"nH\", \"fF\", \"mSie\", 5000000000, Maxwell, 6, False\n",
      "INFO 02:12PM [get_matrix]: Exporting matrix data to (C:\\Users\\slab\\AppData\\Local\\Temp\\tmposswfvvi.txt, C, , Setup:AdaptivePass, \"Original\", \"ohm\", \"nH\", \"fF\", \"mSie\", 5000000000, Maxwell, 7, False\n",
      "INFO 02:12PM [get_matrix]: Exporting matrix data to (C:\\Users\\slab\\AppData\\Local\\Temp\\tmpkhdkq2o0.txt, C, , Setup:AdaptivePass, \"Original\", \"ohm\", \"nH\", \"fF\", \"mSie\", 5000000000, Maxwell, 8, False\n",
      "INFO 02:12PM [get_matrix]: Exporting matrix data to (C:\\Users\\slab\\AppData\\Local\\Temp\\tmpd55h24eq.txt, C, , Setup:AdaptivePass, \"Original\", \"ohm\", \"nH\", \"fF\", \"mSie\", 5000000000, Maxwell, 9, False\n",
      "INFO 02:12PM [get_matrix]: Exporting matrix data to (C:\\Users\\slab\\AppData\\Local\\Temp\\tmp5v0leyfv.txt, C, , Setup:AdaptivePass, \"Original\", \"ohm\", \"nH\", \"fF\", \"mSie\", 5000000000, Maxwell, 10, False\n",
      "INFO 02:12PM [get_matrix]: Exporting matrix data to (C:\\Users\\slab\\AppData\\Local\\Temp\\tmpzas7kmbt.txt, C, , Setup:AdaptivePass, \"Original\", \"ohm\", \"nH\", \"fF\", \"mSie\", 5000000000, Maxwell, 11, False\n"
     ]
    },
    {
     "name": "stdout",
     "output_type": "stream",
     "text": [
      "                    a_connector_pad_Q1  ground_main_plane  pad_top_Q1\n",
      "a_connector_pad_Q1            23.17236          -13.11427    -9.74361\n",
      "ground_main_plane            -13.11427          133.25422   -79.60302\n",
      "pad_top_Q1                    -9.74361          -79.60302    93.21392\n"
     ]
    },
    {
     "name": "stderr",
     "output_type": "stream",
     "text": [
      "INFO 02:12PM [connect_design]: \tOpened active design\n",
      "\tDesign:    Design_q3d [Solution type: Q3D]\n",
      "INFO 02:12PM [get_setup]: \tOpened setup `Setup`  (<class 'pyEPR.ansys.AnsysQ3DSetup'>)\n",
      "INFO 02:12PM [analyze]: Analyzing setup Setup\n",
      "INFO 02:13PM [get_matrix]: Exporting matrix data to (C:\\Users\\slab\\AppData\\Local\\Temp\\tmpnx74wdny.txt, C, , Setup:LastAdaptive, \"Original\", \"ohm\", \"nH\", \"fF\", \"mSie\", 5000000000, Maxwell, 1, False\n",
      "INFO 02:13PM [get_matrix]: Exporting matrix data to (C:\\Users\\slab\\AppData\\Local\\Temp\\tmphqza63oi.txt, C, , Setup:AdaptivePass, \"Original\", \"ohm\", \"nH\", \"fF\", \"mSie\", 5000000000, Maxwell, 1, False\n",
      "INFO 02:13PM [get_matrix]: Exporting matrix data to (C:\\Users\\slab\\AppData\\Local\\Temp\\tmpqn0isftm.txt, C, , Setup:AdaptivePass, \"Original\", \"ohm\", \"nH\", \"fF\", \"mSie\", 5000000000, Maxwell, 2, False\n",
      "INFO 02:13PM [get_matrix]: Exporting matrix data to (C:\\Users\\slab\\AppData\\Local\\Temp\\tmpmgl7k_ar.txt, C, , Setup:AdaptivePass, \"Original\", \"ohm\", \"nH\", \"fF\", \"mSie\", 5000000000, Maxwell, 3, False\n",
      "INFO 02:13PM [get_matrix]: Exporting matrix data to (C:\\Users\\slab\\AppData\\Local\\Temp\\tmph252vofy.txt, C, , Setup:AdaptivePass, \"Original\", \"ohm\", \"nH\", \"fF\", \"mSie\", 5000000000, Maxwell, 4, False\n",
      "INFO 02:13PM [get_matrix]: Exporting matrix data to (C:\\Users\\slab\\AppData\\Local\\Temp\\tmp14rfpock.txt, C, , Setup:AdaptivePass, \"Original\", \"ohm\", \"nH\", \"fF\", \"mSie\", 5000000000, Maxwell, 5, False\n",
      "INFO 02:13PM [get_matrix]: Exporting matrix data to (C:\\Users\\slab\\AppData\\Local\\Temp\\tmpkq491wy7.txt, C, , Setup:AdaptivePass, \"Original\", \"ohm\", \"nH\", \"fF\", \"mSie\", 5000000000, Maxwell, 6, False\n",
      "INFO 02:13PM [get_matrix]: Exporting matrix data to (C:\\Users\\slab\\AppData\\Local\\Temp\\tmpfrc8j9j4.txt, C, , Setup:AdaptivePass, \"Original\", \"ohm\", \"nH\", \"fF\", \"mSie\", 5000000000, Maxwell, 7, False\n",
      "INFO 02:13PM [get_matrix]: Exporting matrix data to (C:\\Users\\slab\\AppData\\Local\\Temp\\tmp4i5r6euu.txt, C, , Setup:AdaptivePass, \"Original\", \"ohm\", \"nH\", \"fF\", \"mSie\", 5000000000, Maxwell, 8, False\n",
      "INFO 02:13PM [get_matrix]: Exporting matrix data to (C:\\Users\\slab\\AppData\\Local\\Temp\\tmpn9nrvc75.txt, C, , Setup:AdaptivePass, \"Original\", \"ohm\", \"nH\", \"fF\", \"mSie\", 5000000000, Maxwell, 9, False\n",
      "INFO 02:13PM [get_matrix]: Exporting matrix data to (C:\\Users\\slab\\AppData\\Local\\Temp\\tmpkm53ag73.txt, C, , Setup:AdaptivePass, \"Original\", \"ohm\", \"nH\", \"fF\", \"mSie\", 5000000000, Maxwell, 10, False\n",
      "INFO 02:13PM [get_matrix]: Exporting matrix data to (C:\\Users\\slab\\AppData\\Local\\Temp\\tmp7vq3lzo5.txt, C, , Setup:AdaptivePass, \"Original\", \"ohm\", \"nH\", \"fF\", \"mSie\", 5000000000, Maxwell, 11, False\n",
      "INFO 02:13PM [get_matrix]: Exporting matrix data to (C:\\Users\\slab\\AppData\\Local\\Temp\\tmp08na7c7b.txt, C, , Setup:LastAdaptive, \"Original\", \"ohm\", \"nH\", \"fF\", \"mSie\", 5000000000, Maxwell, 1, False\n",
      "INFO 02:13PM [get_matrix]: Exporting matrix data to (C:\\Users\\slab\\AppData\\Local\\Temp\\tmppfr8ku_z.txt, C, , Setup:AdaptivePass, \"Original\", \"ohm\", \"nH\", \"fF\", \"mSie\", 5000000000, Maxwell, 1, False\n",
      "INFO 02:13PM [get_matrix]: Exporting matrix data to (C:\\Users\\slab\\AppData\\Local\\Temp\\tmp8hih2yse.txt, C, , Setup:AdaptivePass, \"Original\", \"ohm\", \"nH\", \"fF\", \"mSie\", 5000000000, Maxwell, 2, False\n",
      "INFO 02:13PM [get_matrix]: Exporting matrix data to (C:\\Users\\slab\\AppData\\Local\\Temp\\tmp_9hyrvg4.txt, C, , Setup:AdaptivePass, \"Original\", \"ohm\", \"nH\", \"fF\", \"mSie\", 5000000000, Maxwell, 3, False\n",
      "INFO 02:13PM [get_matrix]: Exporting matrix data to (C:\\Users\\slab\\AppData\\Local\\Temp\\tmp4vw23ojc.txt, C, , Setup:AdaptivePass, \"Original\", \"ohm\", \"nH\", \"fF\", \"mSie\", 5000000000, Maxwell, 4, False\n",
      "INFO 02:13PM [get_matrix]: Exporting matrix data to (C:\\Users\\slab\\AppData\\Local\\Temp\\tmp3pa2dc9o.txt, C, , Setup:AdaptivePass, \"Original\", \"ohm\", \"nH\", \"fF\", \"mSie\", 5000000000, Maxwell, 5, False\n",
      "INFO 02:13PM [get_matrix]: Exporting matrix data to (C:\\Users\\slab\\AppData\\Local\\Temp\\tmpcrmv_gzb.txt, C, , Setup:AdaptivePass, \"Original\", \"ohm\", \"nH\", \"fF\", \"mSie\", 5000000000, Maxwell, 6, False\n",
      "INFO 02:13PM [get_matrix]: Exporting matrix data to (C:\\Users\\slab\\AppData\\Local\\Temp\\tmpute9acby.txt, C, , Setup:AdaptivePass, \"Original\", \"ohm\", \"nH\", \"fF\", \"mSie\", 5000000000, Maxwell, 7, False\n",
      "INFO 02:13PM [get_matrix]: Exporting matrix data to (C:\\Users\\slab\\AppData\\Local\\Temp\\tmpn286d2ke.txt, C, , Setup:AdaptivePass, \"Original\", \"ohm\", \"nH\", \"fF\", \"mSie\", 5000000000, Maxwell, 8, False\n",
      "INFO 02:13PM [get_matrix]: Exporting matrix data to (C:\\Users\\slab\\AppData\\Local\\Temp\\tmpb_k7a8tp.txt, C, , Setup:AdaptivePass, \"Original\", \"ohm\", \"nH\", \"fF\", \"mSie\", 5000000000, Maxwell, 9, False\n",
      "INFO 02:13PM [get_matrix]: Exporting matrix data to (C:\\Users\\slab\\AppData\\Local\\Temp\\tmpg0ge6ci5.txt, C, , Setup:AdaptivePass, \"Original\", \"ohm\", \"nH\", \"fF\", \"mSie\", 5000000000, Maxwell, 10, False\n",
      "INFO 02:13PM [get_matrix]: Exporting matrix data to (C:\\Users\\slab\\AppData\\Local\\Temp\\tmp6v4dci6s.txt, C, , Setup:AdaptivePass, \"Original\", \"ohm\", \"nH\", \"fF\", \"mSie\", 5000000000, Maxwell, 11, False\n"
     ]
    },
    {
     "name": "stdout",
     "output_type": "stream",
     "text": [
      "                    a_connector_pad_Q1  ground_main_plane  pad_top_Q1\n",
      "a_connector_pad_Q1            22.69599          -12.76343    -9.62852\n",
      "ground_main_plane            -12.76343          136.51229   -83.28620\n",
      "pad_top_Q1                    -9.62852          -83.28620    96.86954\n"
     ]
    },
    {
     "name": "stderr",
     "output_type": "stream",
     "text": [
      "INFO 02:13PM [connect_design]: \tOpened active design\n",
      "\tDesign:    Design_q3d [Solution type: Q3D]\n",
      "INFO 02:13PM [get_setup]: \tOpened setup `Setup`  (<class 'pyEPR.ansys.AnsysQ3DSetup'>)\n",
      "INFO 02:13PM [analyze]: Analyzing setup Setup\n",
      "INFO 02:14PM [get_matrix]: Exporting matrix data to (C:\\Users\\slab\\AppData\\Local\\Temp\\tmph2x97cfh.txt, C, , Setup:LastAdaptive, \"Original\", \"ohm\", \"nH\", \"fF\", \"mSie\", 5000000000, Maxwell, 1, False\n",
      "INFO 02:14PM [get_matrix]: Exporting matrix data to (C:\\Users\\slab\\AppData\\Local\\Temp\\tmp48l0cd7v.txt, C, , Setup:AdaptivePass, \"Original\", \"ohm\", \"nH\", \"fF\", \"mSie\", 5000000000, Maxwell, 1, False\n",
      "INFO 02:14PM [get_matrix]: Exporting matrix data to (C:\\Users\\slab\\AppData\\Local\\Temp\\tmp8sfwp8zm.txt, C, , Setup:AdaptivePass, \"Original\", \"ohm\", \"nH\", \"fF\", \"mSie\", 5000000000, Maxwell, 2, False\n",
      "INFO 02:14PM [get_matrix]: Exporting matrix data to (C:\\Users\\slab\\AppData\\Local\\Temp\\tmp9urm9_ta.txt, C, , Setup:AdaptivePass, \"Original\", \"ohm\", \"nH\", \"fF\", \"mSie\", 5000000000, Maxwell, 3, False\n",
      "INFO 02:14PM [get_matrix]: Exporting matrix data to (C:\\Users\\slab\\AppData\\Local\\Temp\\tmphkwbb4vv.txt, C, , Setup:AdaptivePass, \"Original\", \"ohm\", \"nH\", \"fF\", \"mSie\", 5000000000, Maxwell, 4, False\n",
      "INFO 02:14PM [get_matrix]: Exporting matrix data to (C:\\Users\\slab\\AppData\\Local\\Temp\\tmpkhyzdzmh.txt, C, , Setup:AdaptivePass, \"Original\", \"ohm\", \"nH\", \"fF\", \"mSie\", 5000000000, Maxwell, 5, False\n",
      "INFO 02:14PM [get_matrix]: Exporting matrix data to (C:\\Users\\slab\\AppData\\Local\\Temp\\tmp1qzjsj0c.txt, C, , Setup:AdaptivePass, \"Original\", \"ohm\", \"nH\", \"fF\", \"mSie\", 5000000000, Maxwell, 6, False\n",
      "INFO 02:14PM [get_matrix]: Exporting matrix data to (C:\\Users\\slab\\AppData\\Local\\Temp\\tmp830t8_au.txt, C, , Setup:AdaptivePass, \"Original\", \"ohm\", \"nH\", \"fF\", \"mSie\", 5000000000, Maxwell, 7, False\n",
      "INFO 02:14PM [get_matrix]: Exporting matrix data to (C:\\Users\\slab\\AppData\\Local\\Temp\\tmp14uf79mf.txt, C, , Setup:AdaptivePass, \"Original\", \"ohm\", \"nH\", \"fF\", \"mSie\", 5000000000, Maxwell, 8, False\n",
      "INFO 02:14PM [get_matrix]: Exporting matrix data to (C:\\Users\\slab\\AppData\\Local\\Temp\\tmpvn6qfr8v.txt, C, , Setup:AdaptivePass, \"Original\", \"ohm\", \"nH\", \"fF\", \"mSie\", 5000000000, Maxwell, 9, False\n",
      "INFO 02:14PM [get_matrix]: Exporting matrix data to (C:\\Users\\slab\\AppData\\Local\\Temp\\tmpy4ekdyba.txt, C, , Setup:AdaptivePass, \"Original\", \"ohm\", \"nH\", \"fF\", \"mSie\", 5000000000, Maxwell, 10, False\n",
      "INFO 02:14PM [get_matrix]: Exporting matrix data to (C:\\Users\\slab\\AppData\\Local\\Temp\\tmpomy21skv.txt, C, , Setup:AdaptivePass, \"Original\", \"ohm\", \"nH\", \"fF\", \"mSie\", 5000000000, Maxwell, 11, False\n",
      "INFO 02:14PM [get_matrix]: Exporting matrix data to (C:\\Users\\slab\\AppData\\Local\\Temp\\tmpe7tb1zii.txt, C, , Setup:LastAdaptive, \"Original\", \"ohm\", \"nH\", \"fF\", \"mSie\", 5000000000, Maxwell, 1, False\n",
      "INFO 02:14PM [get_matrix]: Exporting matrix data to (C:\\Users\\slab\\AppData\\Local\\Temp\\tmpbtdb1bau.txt, C, , Setup:AdaptivePass, \"Original\", \"ohm\", \"nH\", \"fF\", \"mSie\", 5000000000, Maxwell, 1, False\n",
      "INFO 02:14PM [get_matrix]: Exporting matrix data to (C:\\Users\\slab\\AppData\\Local\\Temp\\tmp682k86e0.txt, C, , Setup:AdaptivePass, \"Original\", \"ohm\", \"nH\", \"fF\", \"mSie\", 5000000000, Maxwell, 2, False\n",
      "INFO 02:14PM [get_matrix]: Exporting matrix data to (C:\\Users\\slab\\AppData\\Local\\Temp\\tmpgk0zq66d.txt, C, , Setup:AdaptivePass, \"Original\", \"ohm\", \"nH\", \"fF\", \"mSie\", 5000000000, Maxwell, 3, False\n",
      "INFO 02:14PM [get_matrix]: Exporting matrix data to (C:\\Users\\slab\\AppData\\Local\\Temp\\tmppolgtpa0.txt, C, , Setup:AdaptivePass, \"Original\", \"ohm\", \"nH\", \"fF\", \"mSie\", 5000000000, Maxwell, 4, False\n",
      "INFO 02:14PM [get_matrix]: Exporting matrix data to (C:\\Users\\slab\\AppData\\Local\\Temp\\tmpqutmlmov.txt, C, , Setup:AdaptivePass, \"Original\", \"ohm\", \"nH\", \"fF\", \"mSie\", 5000000000, Maxwell, 5, False\n",
      "INFO 02:14PM [get_matrix]: Exporting matrix data to (C:\\Users\\slab\\AppData\\Local\\Temp\\tmpnah15qy3.txt, C, , Setup:AdaptivePass, \"Original\", \"ohm\", \"nH\", \"fF\", \"mSie\", 5000000000, Maxwell, 6, False\n",
      "INFO 02:14PM [get_matrix]: Exporting matrix data to (C:\\Users\\slab\\AppData\\Local\\Temp\\tmpmxfxe4kf.txt, C, , Setup:AdaptivePass, \"Original\", \"ohm\", \"nH\", \"fF\", \"mSie\", 5000000000, Maxwell, 7, False\n",
      "INFO 02:14PM [get_matrix]: Exporting matrix data to (C:\\Users\\slab\\AppData\\Local\\Temp\\tmp9qh2_qq3.txt, C, , Setup:AdaptivePass, \"Original\", \"ohm\", \"nH\", \"fF\", \"mSie\", 5000000000, Maxwell, 8, False\n",
      "INFO 02:14PM [get_matrix]: Exporting matrix data to (C:\\Users\\slab\\AppData\\Local\\Temp\\tmpjhao2yv7.txt, C, , Setup:AdaptivePass, \"Original\", \"ohm\", \"nH\", \"fF\", \"mSie\", 5000000000, Maxwell, 9, False\n",
      "INFO 02:14PM [get_matrix]: Exporting matrix data to (C:\\Users\\slab\\AppData\\Local\\Temp\\tmpmv7pluz8.txt, C, , Setup:AdaptivePass, \"Original\", \"ohm\", \"nH\", \"fF\", \"mSie\", 5000000000, Maxwell, 10, False\n",
      "INFO 02:14PM [get_matrix]: Exporting matrix data to (C:\\Users\\slab\\AppData\\Local\\Temp\\tmp_kp3whxw.txt, C, , Setup:AdaptivePass, \"Original\", \"ohm\", \"nH\", \"fF\", \"mSie\", 5000000000, Maxwell, 11, False\n"
     ]
    },
    {
     "name": "stdout",
     "output_type": "stream",
     "text": [
      "                    a_connector_pad_Q1  ground_main_plane  pad_top_Q1\n",
      "a_connector_pad_Q1            22.24106          -12.42921    -9.51669\n",
      "ground_main_plane            -12.42921          140.04010   -87.22105\n",
      "pad_top_Q1                    -9.51669          -87.22105   100.77634\n"
     ]
    }
   ],
   "source": [
    "widths = np.linspace(70*u.um, 250*u.um, 20)\n",
    "result = []\n",
    "for i, width in enumerate(widths):\n",
    "    result += [find_Cap(width)]\n"
   ]
  },
  {
   "attachments": {},
   "cell_type": "markdown",
   "metadata": {},
   "source": [
    "The plot below shows that when we increase the distance to the two sides of the metal pads to the pocket edge, the capacitance decreases. In this simulation, we change the distance by changing the size of the metal pad in the pocket"
   ]
  },
  {
   "cell_type": "code",
   "execution_count": 78,
   "metadata": {},
   "outputs": [
    {
     "data": {
      "image/png": "[encoded data removed]",
      "text/plain": [
       "<Figure size 640x480 with 1 Axes>"
      ]
     },
     "metadata": {},
     "output_type": "display_data"
    }
   ],
   "source": [
    "plt.scatter((300*u.um-widths)/2, -np.array(result))\n",
    "plt.xlabel('Distance on the sides (um)')\n",
    "plt.ylabel('Capacitance to Ground (fF)')\n",
    "plt.show()"
   ]
  },
  {
   "cell_type": "code",
   "execution_count": 79,
   "metadata": {},
   "outputs": [],
   "source": [
    "def find_Cap(height):\n",
    "    height = height.to(u.um)\n",
    "    design.delete_all_components()\n",
    "\n",
    "    options = dict(pad_width = '250um',\n",
    "    pocket_width = '300um',\n",
    "    pad_pocket_distance_top = '60um',\n",
    "    pos_x = '0',\n",
    "    pad_height = '{}um'.format(height.value),\n",
    "    pos_y = '0',\n",
    "    connection_pads = dict(\n",
    "        a = dict(loc_W  = 1, \n",
    "                loc_H =  1, \n",
    "                pad_gap = '10um',\n",
    "                pad_height = '20um',\n",
    "                pad_width = '100um',\n",
    "                pad_cpw_extent =  '10um',\n",
    "                pocket_rise = '0um',\n",
    "                cpw_extend = '5um')))\n",
    "\n",
    "    q1 = TransmonPocket_Single(design,'Q1',options = options)\n",
    "\n",
    "    gui.rebuild()\n",
    "    gui.zoom_on_components(['Q1'])\n",
    "    \n",
    "    \n",
    "    c1 = LOManalysis(design, \"q3d\")\n",
    "    c1.sim.setup.min_passes  = 10\n",
    "    c1.sim.setup.max_passes = 20\n",
    "    \n",
    "    c1.sim.run(components=['Q1'], open_terminations=[('Q1', 'a')])#, ('Q1', 'bus1'), ('Q1', 'bus2')])\n",
    "    c1.sim.capacitance_matrix \n",
    "\n",
    "    c1.sim._get_results_from_renderer()\n",
    "    c_mat = c1.sim.capacitance_matrix\n",
    "    \n",
    "    print(c_mat)\n",
    "    \n",
    "    return(c_mat)"
   ]
  },
  {
   "cell_type": "code",
   "execution_count": 80,
   "metadata": {},
   "outputs": [
    {
     "name": "stderr",
     "output_type": "stream",
     "text": [
      "INFO 02:32PM [connect_design]: \tOpened active design\n",
      "\tDesign:    Design_q3d [Solution type: Q3D]\n",
      "INFO 02:32PM [get_setup]: \tOpened setup `Setup`  (<class 'pyEPR.ansys.AnsysQ3DSetup'>)\n",
      "INFO 02:32PM [analyze]: Analyzing setup Setup\n",
      "INFO 02:33PM [get_matrix]: Exporting matrix data to (C:\\Users\\slab\\AppData\\Local\\Temp\\tmpr4xf0o9o.txt, C, , Setup:LastAdaptive, \"Original\", \"ohm\", \"nH\", \"fF\", \"mSie\", 5000000000, Maxwell, 1, False\n",
      "INFO 02:33PM [get_matrix]: Exporting matrix data to (C:\\Users\\slab\\AppData\\Local\\Temp\\tmpjhaosnha.txt, C, , Setup:AdaptivePass, \"Original\", \"ohm\", \"nH\", \"fF\", \"mSie\", 5000000000, Maxwell, 1, False\n",
      "INFO 02:33PM [get_matrix]: Exporting matrix data to (C:\\Users\\slab\\AppData\\Local\\Temp\\tmpsqfo8fot.txt, C, , Setup:AdaptivePass, \"Original\", \"ohm\", \"nH\", \"fF\", \"mSie\", 5000000000, Maxwell, 2, False\n",
      "INFO 02:33PM [get_matrix]: Exporting matrix data to (C:\\Users\\slab\\AppData\\Local\\Temp\\tmp0b58ld2n.txt, C, , Setup:AdaptivePass, \"Original\", \"ohm\", \"nH\", \"fF\", \"mSie\", 5000000000, Maxwell, 3, False\n",
      "INFO 02:33PM [get_matrix]: Exporting matrix data to (C:\\Users\\slab\\AppData\\Local\\Temp\\tmp01yrm6uy.txt, C, , Setup:AdaptivePass, \"Original\", \"ohm\", \"nH\", \"fF\", \"mSie\", 5000000000, Maxwell, 4, False\n",
      "INFO 02:33PM [get_matrix]: Exporting matrix data to (C:\\Users\\slab\\AppData\\Local\\Temp\\tmp17picw07.txt, C, , Setup:AdaptivePass, \"Original\", \"ohm\", \"nH\", \"fF\", \"mSie\", 5000000000, Maxwell, 5, False\n",
      "INFO 02:33PM [get_matrix]: Exporting matrix data to (C:\\Users\\slab\\AppData\\Local\\Temp\\tmpj3irqgak.txt, C, , Setup:AdaptivePass, \"Original\", \"ohm\", \"nH\", \"fF\", \"mSie\", 5000000000, Maxwell, 6, False\n",
      "INFO 02:33PM [get_matrix]: Exporting matrix data to (C:\\Users\\slab\\AppData\\Local\\Temp\\tmp7vf5axgx.txt, C, , Setup:AdaptivePass, \"Original\", \"ohm\", \"nH\", \"fF\", \"mSie\", 5000000000, Maxwell, 7, False\n",
      "INFO 02:33PM [get_matrix]: Exporting matrix data to (C:\\Users\\slab\\AppData\\Local\\Temp\\tmpqqzxa_lg.txt, C, , Setup:AdaptivePass, \"Original\", \"ohm\", \"nH\", \"fF\", \"mSie\", 5000000000, Maxwell, 8, False\n",
      "INFO 02:33PM [get_matrix]: Exporting matrix data to (C:\\Users\\slab\\AppData\\Local\\Temp\\tmpelan38lj.txt, C, , Setup:AdaptivePass, \"Original\", \"ohm\", \"nH\", \"fF\", \"mSie\", 5000000000, Maxwell, 9, False\n",
      "INFO 02:33PM [get_matrix]: Exporting matrix data to (C:\\Users\\slab\\AppData\\Local\\Temp\\tmp456m1zmg.txt, C, , Setup:AdaptivePass, \"Original\", \"ohm\", \"nH\", \"fF\", \"mSie\", 5000000000, Maxwell, 10, False\n",
      "INFO 02:33PM [get_matrix]: Exporting matrix data to (C:\\Users\\slab\\AppData\\Local\\Temp\\tmpd5acrqtn.txt, C, , Setup:AdaptivePass, \"Original\", \"ohm\", \"nH\", \"fF\", \"mSie\", 5000000000, Maxwell, 11, False\n",
      "INFO 02:33PM [get_matrix]: Exporting matrix data to (C:\\Users\\slab\\AppData\\Local\\Temp\\tmpjq1khwks.txt, C, , Setup:LastAdaptive, \"Original\", \"ohm\", \"nH\", \"fF\", \"mSie\", 5000000000, Maxwell, 1, False\n",
      "INFO 02:33PM [get_matrix]: Exporting matrix data to (C:\\Users\\slab\\AppData\\Local\\Temp\\tmpdc_xy9nv.txt, C, , Setup:AdaptivePass, \"Original\", \"ohm\", \"nH\", \"fF\", \"mSie\", 5000000000, Maxwell, 1, False\n",
      "INFO 02:33PM [get_matrix]: Exporting matrix data to (C:\\Users\\slab\\AppData\\Local\\Temp\\tmpq4dprfxd.txt, C, , Setup:AdaptivePass, \"Original\", \"ohm\", \"nH\", \"fF\", \"mSie\", 5000000000, Maxwell, 2, False\n",
      "INFO 02:33PM [get_matrix]: Exporting matrix data to (C:\\Users\\slab\\AppData\\Local\\Temp\\tmpxhr6dfxz.txt, C, , Setup:AdaptivePass, \"Original\", \"ohm\", \"nH\", \"fF\", \"mSie\", 5000000000, Maxwell, 3, False\n",
      "INFO 02:33PM [get_matrix]: Exporting matrix data to (C:\\Users\\slab\\AppData\\Local\\Temp\\tmps1tuq8vr.txt, C, , Setup:AdaptivePass, \"Original\", \"ohm\", \"nH\", \"fF\", \"mSie\", 5000000000, Maxwell, 4, False\n",
      "INFO 02:33PM [get_matrix]: Exporting matrix data to (C:\\Users\\slab\\AppData\\Local\\Temp\\tmpawe9fz3a.txt, C, , Setup:AdaptivePass, \"Original\", \"ohm\", \"nH\", \"fF\", \"mSie\", 5000000000, Maxwell, 5, False\n",
      "INFO 02:33PM [get_matrix]: Exporting matrix data to (C:\\Users\\slab\\AppData\\Local\\Temp\\tmpa5qpcy3x.txt, C, , Setup:AdaptivePass, \"Original\", \"ohm\", \"nH\", \"fF\", \"mSie\", 5000000000, Maxwell, 6, False\n",
      "INFO 02:33PM [get_matrix]: Exporting matrix data to (C:\\Users\\slab\\AppData\\Local\\Temp\\tmpz0haetkx.txt, C, , Setup:AdaptivePass, \"Original\", \"ohm\", \"nH\", \"fF\", \"mSie\", 5000000000, Maxwell, 7, False\n",
      "INFO 02:33PM [get_matrix]: Exporting matrix data to (C:\\Users\\slab\\AppData\\Local\\Temp\\tmptfyi9ow3.txt, C, , Setup:AdaptivePass, \"Original\", \"ohm\", \"nH\", \"fF\", \"mSie\", 5000000000, Maxwell, 8, False\n",
      "INFO 02:33PM [get_matrix]: Exporting matrix data to (C:\\Users\\slab\\AppData\\Local\\Temp\\tmpv6z2x6vi.txt, C, , Setup:AdaptivePass, \"Original\", \"ohm\", \"nH\", \"fF\", \"mSie\", 5000000000, Maxwell, 9, False\n",
      "INFO 02:33PM [get_matrix]: Exporting matrix data to (C:\\Users\\slab\\AppData\\Local\\Temp\\tmp8n0qwkya.txt, C, , Setup:AdaptivePass, \"Original\", \"ohm\", \"nH\", \"fF\", \"mSie\", 5000000000, Maxwell, 10, False\n",
      "INFO 02:33PM [get_matrix]: Exporting matrix data to (C:\\Users\\slab\\AppData\\Local\\Temp\\tmpq84mty7u.txt, C, , Setup:AdaptivePass, \"Original\", \"ohm\", \"nH\", \"fF\", \"mSie\", 5000000000, Maxwell, 11, False\n"
     ]
    },
    {
     "name": "stdout",
     "output_type": "stream",
     "text": [
      "                    a_connector_pad_Q1  ground_main_plane  pad_top_Q1\n",
      "a_connector_pad_Q1            22.26665          -12.97580    -8.92333\n",
      "ground_main_plane            -12.97580          101.08246   -49.22123\n",
      "pad_top_Q1                    -8.92333          -49.22123    60.10188\n"
     ]
    },
    {
     "name": "stderr",
     "output_type": "stream",
     "text": [
      "INFO 02:33PM [connect_design]: \tOpened active design\n",
      "\tDesign:    Design_q3d [Solution type: Q3D]\n",
      "INFO 02:33PM [get_setup]: \tOpened setup `Setup`  (<class 'pyEPR.ansys.AnsysQ3DSetup'>)\n",
      "INFO 02:33PM [analyze]: Analyzing setup Setup\n",
      "INFO 02:33PM [get_matrix]: Exporting matrix data to (C:\\Users\\slab\\AppData\\Local\\Temp\\tmp7xxfyodj.txt, C, , Setup:LastAdaptive, \"Original\", \"ohm\", \"nH\", \"fF\", \"mSie\", 5000000000, Maxwell, 1, False\n",
      "INFO 02:33PM [get_matrix]: Exporting matrix data to (C:\\Users\\slab\\AppData\\Local\\Temp\\tmpwvk5jvo4.txt, C, , Setup:AdaptivePass, \"Original\", \"ohm\", \"nH\", \"fF\", \"mSie\", 5000000000, Maxwell, 1, False\n",
      "INFO 02:33PM [get_matrix]: Exporting matrix data to (C:\\Users\\slab\\AppData\\Local\\Temp\\tmpqpvybrf2.txt, C, , Setup:AdaptivePass, \"Original\", \"ohm\", \"nH\", \"fF\", \"mSie\", 5000000000, Maxwell, 2, False\n",
      "INFO 02:33PM [get_matrix]: Exporting matrix data to (C:\\Users\\slab\\AppData\\Local\\Temp\\tmpny96yjzo.txt, C, , Setup:AdaptivePass, \"Original\", \"ohm\", \"nH\", \"fF\", \"mSie\", 5000000000, Maxwell, 3, False\n",
      "INFO 02:33PM [get_matrix]: Exporting matrix data to (C:\\Users\\slab\\AppData\\Local\\Temp\\tmp2vbwuwbf.txt, C, , Setup:AdaptivePass, \"Original\", \"ohm\", \"nH\", \"fF\", \"mSie\", 5000000000, Maxwell, 4, False\n",
      "INFO 02:33PM [get_matrix]: Exporting matrix data to (C:\\Users\\slab\\AppData\\Local\\Temp\\tmpfwkgumhy.txt, C, , Setup:AdaptivePass, \"Original\", \"ohm\", \"nH\", \"fF\", \"mSie\", 5000000000, Maxwell, 5, False\n",
      "INFO 02:33PM [get_matrix]: Exporting matrix data to (C:\\Users\\slab\\AppData\\Local\\Temp\\tmpi000592g.txt, C, , Setup:AdaptivePass, \"Original\", \"ohm\", \"nH\", \"fF\", \"mSie\", 5000000000, Maxwell, 6, False\n",
      "INFO 02:33PM [get_matrix]: Exporting matrix data to (C:\\Users\\slab\\AppData\\Local\\Temp\\tmprxs6vqoh.txt, C, , Setup:AdaptivePass, \"Original\", \"ohm\", \"nH\", \"fF\", \"mSie\", 5000000000, Maxwell, 7, False\n",
      "INFO 02:33PM [get_matrix]: Exporting matrix data to (C:\\Users\\slab\\AppData\\Local\\Temp\\tmpi_6mte0g.txt, C, , Setup:AdaptivePass, \"Original\", \"ohm\", \"nH\", \"fF\", \"mSie\", 5000000000, Maxwell, 8, False\n",
      "INFO 02:33PM [get_matrix]: Exporting matrix data to (C:\\Users\\slab\\AppData\\Local\\Temp\\tmp0wltwnh1.txt, C, , Setup:AdaptivePass, \"Original\", \"ohm\", \"nH\", \"fF\", \"mSie\", 5000000000, Maxwell, 9, False\n",
      "INFO 02:33PM [get_matrix]: Exporting matrix data to (C:\\Users\\slab\\AppData\\Local\\Temp\\tmp9t_n0o31.txt, C, , Setup:AdaptivePass, \"Original\", \"ohm\", \"nH\", \"fF\", \"mSie\", 5000000000, Maxwell, 10, False\n",
      "INFO 02:33PM [get_matrix]: Exporting matrix data to (C:\\Users\\slab\\AppData\\Local\\Temp\\tmpef_5d0fc.txt, C, , Setup:AdaptivePass, \"Original\", \"ohm\", \"nH\", \"fF\", \"mSie\", 5000000000, Maxwell, 11, False\n",
      "INFO 02:33PM [get_matrix]: Exporting matrix data to (C:\\Users\\slab\\AppData\\Local\\Temp\\tmpagmnxg9r.txt, C, , Setup:LastAdaptive, \"Original\", \"ohm\", \"nH\", \"fF\", \"mSie\", 5000000000, Maxwell, 1, False\n",
      "INFO 02:33PM [get_matrix]: Exporting matrix data to (C:\\Users\\slab\\AppData\\Local\\Temp\\tmpduq96m38.txt, C, , Setup:AdaptivePass, \"Original\", \"ohm\", \"nH\", \"fF\", \"mSie\", 5000000000, Maxwell, 1, False\n",
      "INFO 02:33PM [get_matrix]: Exporting matrix data to (C:\\Users\\slab\\AppData\\Local\\Temp\\tmpt9fz_9dq.txt, C, , Setup:AdaptivePass, \"Original\", \"ohm\", \"nH\", \"fF\", \"mSie\", 5000000000, Maxwell, 2, False\n",
      "INFO 02:33PM [get_matrix]: Exporting matrix data to (C:\\Users\\slab\\AppData\\Local\\Temp\\tmpvqpf_u74.txt, C, , Setup:AdaptivePass, \"Original\", \"ohm\", \"nH\", \"fF\", \"mSie\", 5000000000, Maxwell, 3, False\n",
      "INFO 02:33PM [get_matrix]: Exporting matrix data to (C:\\Users\\slab\\AppData\\Local\\Temp\\tmpk7ps8qnz.txt, C, , Setup:AdaptivePass, \"Original\", \"ohm\", \"nH\", \"fF\", \"mSie\", 5000000000, Maxwell, 4, False\n",
      "INFO 02:33PM [get_matrix]: Exporting matrix data to (C:\\Users\\slab\\AppData\\Local\\Temp\\tmpw4pbxiql.txt, C, , Setup:AdaptivePass, \"Original\", \"ohm\", \"nH\", \"fF\", \"mSie\", 5000000000, Maxwell, 5, False\n",
      "INFO 02:33PM [get_matrix]: Exporting matrix data to (C:\\Users\\slab\\AppData\\Local\\Temp\\tmp2a50b53o.txt, C, , Setup:AdaptivePass, \"Original\", \"ohm\", \"nH\", \"fF\", \"mSie\", 5000000000, Maxwell, 6, False\n",
      "INFO 02:33PM [get_matrix]: Exporting matrix data to (C:\\Users\\slab\\AppData\\Local\\Temp\\tmphc8wznof.txt, C, , Setup:AdaptivePass, \"Original\", \"ohm\", \"nH\", \"fF\", \"mSie\", 5000000000, Maxwell, 7, False\n",
      "INFO 02:33PM [get_matrix]: Exporting matrix data to (C:\\Users\\slab\\AppData\\Local\\Temp\\tmpdi819pc2.txt, C, , Setup:AdaptivePass, \"Original\", \"ohm\", \"nH\", \"fF\", \"mSie\", 5000000000, Maxwell, 8, False\n",
      "INFO 02:33PM [get_matrix]: Exporting matrix data to (C:\\Users\\slab\\AppData\\Local\\Temp\\tmp60ursz30.txt, C, , Setup:AdaptivePass, \"Original\", \"ohm\", \"nH\", \"fF\", \"mSie\", 5000000000, Maxwell, 9, False\n",
      "INFO 02:33PM [get_matrix]: Exporting matrix data to (C:\\Users\\slab\\AppData\\Local\\Temp\\tmpasm0jun3.txt, C, , Setup:AdaptivePass, \"Original\", \"ohm\", \"nH\", \"fF\", \"mSie\", 5000000000, Maxwell, 10, False\n",
      "INFO 02:33PM [get_matrix]: Exporting matrix data to (C:\\Users\\slab\\AppData\\Local\\Temp\\tmpus7hz5hu.txt, C, , Setup:AdaptivePass, \"Original\", \"ohm\", \"nH\", \"fF\", \"mSie\", 5000000000, Maxwell, 11, False\n"
     ]
    },
    {
     "name": "stdout",
     "output_type": "stream",
     "text": [
      "                    a_connector_pad_Q1  ground_main_plane  pad_top_Q1\n",
      "a_connector_pad_Q1            22.27758          -12.86882    -9.05461\n",
      "ground_main_plane            -12.86882          105.18504   -53.27981\n",
      "pad_top_Q1                    -9.05461          -53.27981    64.51843\n"
     ]
    },
    {
     "name": "stderr",
     "output_type": "stream",
     "text": [
      "INFO 02:33PM [connect_design]: \tOpened active design\n",
      "\tDesign:    Design_q3d [Solution type: Q3D]\n",
      "INFO 02:33PM [get_setup]: \tOpened setup `Setup`  (<class 'pyEPR.ansys.AnsysQ3DSetup'>)\n",
      "INFO 02:33PM [analyze]: Analyzing setup Setup\n",
      "INFO 02:34PM [get_matrix]: Exporting matrix data to (C:\\Users\\slab\\AppData\\Local\\Temp\\tmpd8h6759j.txt, C, , Setup:LastAdaptive, \"Original\", \"ohm\", \"nH\", \"fF\", \"mSie\", 5000000000, Maxwell, 1, False\n",
      "INFO 02:34PM [get_matrix]: Exporting matrix data to (C:\\Users\\slab\\AppData\\Local\\Temp\\tmpfy88cmei.txt, C, , Setup:AdaptivePass, \"Original\", \"ohm\", \"nH\", \"fF\", \"mSie\", 5000000000, Maxwell, 1, False\n",
      "INFO 02:34PM [get_matrix]: Exporting matrix data to (C:\\Users\\slab\\AppData\\Local\\Temp\\tmp65q_n35z.txt, C, , Setup:AdaptivePass, \"Original\", \"ohm\", \"nH\", \"fF\", \"mSie\", 5000000000, Maxwell, 2, False\n",
      "INFO 02:34PM [get_matrix]: Exporting matrix data to (C:\\Users\\slab\\AppData\\Local\\Temp\\tmpb2i75dti.txt, C, , Setup:AdaptivePass, \"Original\", \"ohm\", \"nH\", \"fF\", \"mSie\", 5000000000, Maxwell, 3, False\n",
      "INFO 02:34PM [get_matrix]: Exporting matrix data to (C:\\Users\\slab\\AppData\\Local\\Temp\\tmpz9_su7f9.txt, C, , Setup:AdaptivePass, \"Original\", \"ohm\", \"nH\", \"fF\", \"mSie\", 5000000000, Maxwell, 4, False\n",
      "INFO 02:34PM [get_matrix]: Exporting matrix data to (C:\\Users\\slab\\AppData\\Local\\Temp\\tmprwj6rxb8.txt, C, , Setup:AdaptivePass, \"Original\", \"ohm\", \"nH\", \"fF\", \"mSie\", 5000000000, Maxwell, 5, False\n",
      "INFO 02:34PM [get_matrix]: Exporting matrix data to (C:\\Users\\slab\\AppData\\Local\\Temp\\tmpoh5_b3nh.txt, C, , Setup:AdaptivePass, \"Original\", \"ohm\", \"nH\", \"fF\", \"mSie\", 5000000000, Maxwell, 6, False\n",
      "INFO 02:34PM [get_matrix]: Exporting matrix data to (C:\\Users\\slab\\AppData\\Local\\Temp\\tmpr65p1qcq.txt, C, , Setup:AdaptivePass, \"Original\", \"ohm\", \"nH\", \"fF\", \"mSie\", 5000000000, Maxwell, 7, False\n",
      "INFO 02:34PM [get_matrix]: Exporting matrix data to (C:\\Users\\slab\\AppData\\Local\\Temp\\tmpufw6hoaz.txt, C, , Setup:AdaptivePass, \"Original\", \"ohm\", \"nH\", \"fF\", \"mSie\", 5000000000, Maxwell, 8, False\n",
      "INFO 02:34PM [get_matrix]: Exporting matrix data to (C:\\Users\\slab\\AppData\\Local\\Temp\\tmpfknag_9i.txt, C, , Setup:AdaptivePass, \"Original\", \"ohm\", \"nH\", \"fF\", \"mSie\", 5000000000, Maxwell, 9, False\n",
      "INFO 02:34PM [get_matrix]: Exporting matrix data to (C:\\Users\\slab\\AppData\\Local\\Temp\\tmp4z1o_oei.txt, C, , Setup:AdaptivePass, \"Original\", \"ohm\", \"nH\", \"fF\", \"mSie\", 5000000000, Maxwell, 10, False\n",
      "INFO 02:34PM [get_matrix]: Exporting matrix data to (C:\\Users\\slab\\AppData\\Local\\Temp\\tmpcwvl0n5n.txt, C, , Setup:AdaptivePass, \"Original\", \"ohm\", \"nH\", \"fF\", \"mSie\", 5000000000, Maxwell, 11, False\n",
      "INFO 02:34PM [get_matrix]: Exporting matrix data to (C:\\Users\\slab\\AppData\\Local\\Temp\\tmpdtz9v7bv.txt, C, , Setup:LastAdaptive, \"Original\", \"ohm\", \"nH\", \"fF\", \"mSie\", 5000000000, Maxwell, 1, False\n",
      "INFO 02:34PM [get_matrix]: Exporting matrix data to (C:\\Users\\slab\\AppData\\Local\\Temp\\tmpz9z0zgjn.txt, C, , Setup:AdaptivePass, \"Original\", \"ohm\", \"nH\", \"fF\", \"mSie\", 5000000000, Maxwell, 1, False\n",
      "INFO 02:34PM [get_matrix]: Exporting matrix data to (C:\\Users\\slab\\AppData\\Local\\Temp\\tmpqv7ap9f6.txt, C, , Setup:AdaptivePass, \"Original\", \"ohm\", \"nH\", \"fF\", \"mSie\", 5000000000, Maxwell, 2, False\n",
      "INFO 02:34PM [get_matrix]: Exporting matrix data to (C:\\Users\\slab\\AppData\\Local\\Temp\\tmp64_tdp6w.txt, C, , Setup:AdaptivePass, \"Original\", \"ohm\", \"nH\", \"fF\", \"mSie\", 5000000000, Maxwell, 3, False\n",
      "INFO 02:34PM [get_matrix]: Exporting matrix data to (C:\\Users\\slab\\AppData\\Local\\Temp\\tmpnhrhspyn.txt, C, , Setup:AdaptivePass, \"Original\", \"ohm\", \"nH\", \"fF\", \"mSie\", 5000000000, Maxwell, 4, False\n",
      "INFO 02:34PM [get_matrix]: Exporting matrix data to (C:\\Users\\slab\\AppData\\Local\\Temp\\tmpq9e0954n.txt, C, , Setup:AdaptivePass, \"Original\", \"ohm\", \"nH\", \"fF\", \"mSie\", 5000000000, Maxwell, 5, False\n",
      "INFO 02:34PM [get_matrix]: Exporting matrix data to (C:\\Users\\slab\\AppData\\Local\\Temp\\tmppgv57_fr.txt, C, , Setup:AdaptivePass, \"Original\", \"ohm\", \"nH\", \"fF\", \"mSie\", 5000000000, Maxwell, 6, False\n",
      "INFO 02:34PM [get_matrix]: Exporting matrix data to (C:\\Users\\slab\\AppData\\Local\\Temp\\tmpnjw3o_44.txt, C, , Setup:AdaptivePass, \"Original\", \"ohm\", \"nH\", \"fF\", \"mSie\", 5000000000, Maxwell, 7, False\n",
      "INFO 02:34PM [get_matrix]: Exporting matrix data to (C:\\Users\\slab\\AppData\\Local\\Temp\\tmpvosw555q.txt, C, , Setup:AdaptivePass, \"Original\", \"ohm\", \"nH\", \"fF\", \"mSie\", 5000000000, Maxwell, 8, False\n",
      "INFO 02:34PM [get_matrix]: Exporting matrix data to (C:\\Users\\slab\\AppData\\Local\\Temp\\tmprao5l39p.txt, C, , Setup:AdaptivePass, \"Original\", \"ohm\", \"nH\", \"fF\", \"mSie\", 5000000000, Maxwell, 9, False\n",
      "INFO 02:34PM [get_matrix]: Exporting matrix data to (C:\\Users\\slab\\AppData\\Local\\Temp\\tmp1x3yfcfk.txt, C, , Setup:AdaptivePass, \"Original\", \"ohm\", \"nH\", \"fF\", \"mSie\", 5000000000, Maxwell, 10, False\n",
      "INFO 02:34PM [get_matrix]: Exporting matrix data to (C:\\Users\\slab\\AppData\\Local\\Temp\\tmpe7hia73d.txt, C, , Setup:AdaptivePass, \"Original\", \"ohm\", \"nH\", \"fF\", \"mSie\", 5000000000, Maxwell, 11, False\n"
     ]
    },
    {
     "name": "stdout",
     "output_type": "stream",
     "text": [
      "                    a_connector_pad_Q1  ground_main_plane  pad_top_Q1\n",
      "a_connector_pad_Q1            22.26995          -12.78617    -9.14509\n",
      "ground_main_plane            -12.78617          109.11838   -57.14556\n",
      "pad_top_Q1                    -9.14509          -57.14556    68.68404\n"
     ]
    },
    {
     "name": "stderr",
     "output_type": "stream",
     "text": [
      "INFO 02:34PM [connect_design]: \tOpened active design\n",
      "\tDesign:    Design_q3d [Solution type: Q3D]\n",
      "INFO 02:34PM [get_setup]: \tOpened setup `Setup`  (<class 'pyEPR.ansys.AnsysQ3DSetup'>)\n",
      "INFO 02:34PM [analyze]: Analyzing setup Setup\n",
      "INFO 02:35PM [get_matrix]: Exporting matrix data to (C:\\Users\\slab\\AppData\\Local\\Temp\\tmpifk3vnea.txt, C, , Setup:LastAdaptive, \"Original\", \"ohm\", \"nH\", \"fF\", \"mSie\", 5000000000, Maxwell, 1, False\n",
      "INFO 02:35PM [get_matrix]: Exporting matrix data to (C:\\Users\\slab\\AppData\\Local\\Temp\\tmpue2j7mir.txt, C, , Setup:AdaptivePass, \"Original\", \"ohm\", \"nH\", \"fF\", \"mSie\", 5000000000, Maxwell, 1, False\n",
      "INFO 02:35PM [get_matrix]: Exporting matrix data to (C:\\Users\\slab\\AppData\\Local\\Temp\\tmpunaoabiq.txt, C, , Setup:AdaptivePass, \"Original\", \"ohm\", \"nH\", \"fF\", \"mSie\", 5000000000, Maxwell, 2, False\n",
      "INFO 02:35PM [get_matrix]: Exporting matrix data to (C:\\Users\\slab\\AppData\\Local\\Temp\\tmpsc80tgfq.txt, C, , Setup:AdaptivePass, \"Original\", \"ohm\", \"nH\", \"fF\", \"mSie\", 5000000000, Maxwell, 3, False\n",
      "INFO 02:35PM [get_matrix]: Exporting matrix data to (C:\\Users\\slab\\AppData\\Local\\Temp\\tmp7xl099xn.txt, C, , Setup:AdaptivePass, \"Original\", \"ohm\", \"nH\", \"fF\", \"mSie\", 5000000000, Maxwell, 4, False\n",
      "INFO 02:35PM [get_matrix]: Exporting matrix data to (C:\\Users\\slab\\AppData\\Local\\Temp\\tmpov0j7vny.txt, C, , Setup:AdaptivePass, \"Original\", \"ohm\", \"nH\", \"fF\", \"mSie\", 5000000000, Maxwell, 5, False\n",
      "INFO 02:35PM [get_matrix]: Exporting matrix data to (C:\\Users\\slab\\AppData\\Local\\Temp\\tmptyxfr6ym.txt, C, , Setup:AdaptivePass, \"Original\", \"ohm\", \"nH\", \"fF\", \"mSie\", 5000000000, Maxwell, 6, False\n",
      "INFO 02:35PM [get_matrix]: Exporting matrix data to (C:\\Users\\slab\\AppData\\Local\\Temp\\tmpyf3m6eu8.txt, C, , Setup:AdaptivePass, \"Original\", \"ohm\", \"nH\", \"fF\", \"mSie\", 5000000000, Maxwell, 7, False\n",
      "INFO 02:35PM [get_matrix]: Exporting matrix data to (C:\\Users\\slab\\AppData\\Local\\Temp\\tmpmnagm6bq.txt, C, , Setup:AdaptivePass, \"Original\", \"ohm\", \"nH\", \"fF\", \"mSie\", 5000000000, Maxwell, 8, False\n",
      "INFO 02:35PM [get_matrix]: Exporting matrix data to (C:\\Users\\slab\\AppData\\Local\\Temp\\tmpjjhsyhbo.txt, C, , Setup:AdaptivePass, \"Original\", \"ohm\", \"nH\", \"fF\", \"mSie\", 5000000000, Maxwell, 9, False\n",
      "INFO 02:35PM [get_matrix]: Exporting matrix data to (C:\\Users\\slab\\AppData\\Local\\Temp\\tmpgdhtrzom.txt, C, , Setup:AdaptivePass, \"Original\", \"ohm\", \"nH\", \"fF\", \"mSie\", 5000000000, Maxwell, 10, False\n",
      "INFO 02:35PM [get_matrix]: Exporting matrix data to (C:\\Users\\slab\\AppData\\Local\\Temp\\tmplndlj1o2.txt, C, , Setup:AdaptivePass, \"Original\", \"ohm\", \"nH\", \"fF\", \"mSie\", 5000000000, Maxwell, 11, False\n",
      "INFO 02:35PM [get_matrix]: Exporting matrix data to (C:\\Users\\slab\\AppData\\Local\\Temp\\tmpsgcz__qa.txt, C, , Setup:LastAdaptive, \"Original\", \"ohm\", \"nH\", \"fF\", \"mSie\", 5000000000, Maxwell, 1, False\n",
      "INFO 02:35PM [get_matrix]: Exporting matrix data to (C:\\Users\\slab\\AppData\\Local\\Temp\\tmp_h_4wm04.txt, C, , Setup:AdaptivePass, \"Original\", \"ohm\", \"nH\", \"fF\", \"mSie\", 5000000000, Maxwell, 1, False\n",
      "INFO 02:35PM [get_matrix]: Exporting matrix data to (C:\\Users\\slab\\AppData\\Local\\Temp\\tmpm0zjvw07.txt, C, , Setup:AdaptivePass, \"Original\", \"ohm\", \"nH\", \"fF\", \"mSie\", 5000000000, Maxwell, 2, False\n",
      "INFO 02:35PM [get_matrix]: Exporting matrix data to (C:\\Users\\slab\\AppData\\Local\\Temp\\tmp4of1nsph.txt, C, , Setup:AdaptivePass, \"Original\", \"ohm\", \"nH\", \"fF\", \"mSie\", 5000000000, Maxwell, 3, False\n",
      "INFO 02:35PM [get_matrix]: Exporting matrix data to (C:\\Users\\slab\\AppData\\Local\\Temp\\tmpljv8eio1.txt, C, , Setup:AdaptivePass, \"Original\", \"ohm\", \"nH\", \"fF\", \"mSie\", 5000000000, Maxwell, 4, False\n",
      "INFO 02:35PM [get_matrix]: Exporting matrix data to (C:\\Users\\slab\\AppData\\Local\\Temp\\tmpss7jcwlj.txt, C, , Setup:AdaptivePass, \"Original\", \"ohm\", \"nH\", \"fF\", \"mSie\", 5000000000, Maxwell, 5, False\n",
      "INFO 02:35PM [get_matrix]: Exporting matrix data to (C:\\Users\\slab\\AppData\\Local\\Temp\\tmpgycolgbt.txt, C, , Setup:AdaptivePass, \"Original\", \"ohm\", \"nH\", \"fF\", \"mSie\", 5000000000, Maxwell, 6, False\n",
      "INFO 02:35PM [get_matrix]: Exporting matrix data to (C:\\Users\\slab\\AppData\\Local\\Temp\\tmpkb6ikc91.txt, C, , Setup:AdaptivePass, \"Original\", \"ohm\", \"nH\", \"fF\", \"mSie\", 5000000000, Maxwell, 7, False\n",
      "INFO 02:35PM [get_matrix]: Exporting matrix data to (C:\\Users\\slab\\AppData\\Local\\Temp\\tmpwa01ad7y.txt, C, , Setup:AdaptivePass, \"Original\", \"ohm\", \"nH\", \"fF\", \"mSie\", 5000000000, Maxwell, 8, False\n",
      "INFO 02:35PM [get_matrix]: Exporting matrix data to (C:\\Users\\slab\\AppData\\Local\\Temp\\tmpo69qjcpc.txt, C, , Setup:AdaptivePass, \"Original\", \"ohm\", \"nH\", \"fF\", \"mSie\", 5000000000, Maxwell, 9, False\n",
      "INFO 02:35PM [get_matrix]: Exporting matrix data to (C:\\Users\\slab\\AppData\\Local\\Temp\\tmp8m3tdxju.txt, C, , Setup:AdaptivePass, \"Original\", \"ohm\", \"nH\", \"fF\", \"mSie\", 5000000000, Maxwell, 10, False\n",
      "INFO 02:35PM [get_matrix]: Exporting matrix data to (C:\\Users\\slab\\AppData\\Local\\Temp\\tmpj9zvz9cz.txt, C, , Setup:AdaptivePass, \"Original\", \"ohm\", \"nH\", \"fF\", \"mSie\", 5000000000, Maxwell, 11, False\n"
     ]
    },
    {
     "name": "stdout",
     "output_type": "stream",
     "text": [
      "                    a_connector_pad_Q1  ground_main_plane  pad_top_Q1\n",
      "a_connector_pad_Q1            22.27284          -12.75975    -9.22896\n",
      "ground_main_plane            -12.75975          112.81989   -60.83502\n",
      "pad_top_Q1                    -9.22896          -60.83502    72.68869\n"
     ]
    },
    {
     "name": "stderr",
     "output_type": "stream",
     "text": [
      "INFO 02:35PM [connect_design]: \tOpened active design\n",
      "\tDesign:    Design_q3d [Solution type: Q3D]\n",
      "INFO 02:35PM [get_setup]: \tOpened setup `Setup`  (<class 'pyEPR.ansys.AnsysQ3DSetup'>)\n",
      "INFO 02:35PM [analyze]: Analyzing setup Setup\n",
      "INFO 02:36PM [get_matrix]: Exporting matrix data to (C:\\Users\\slab\\AppData\\Local\\Temp\\tmph69404m_.txt, C, , Setup:LastAdaptive, \"Original\", \"ohm\", \"nH\", \"fF\", \"mSie\", 5000000000, Maxwell, 1, False\n",
      "INFO 02:36PM [get_matrix]: Exporting matrix data to (C:\\Users\\slab\\AppData\\Local\\Temp\\tmp3dnj5pi3.txt, C, , Setup:AdaptivePass, \"Original\", \"ohm\", \"nH\", \"fF\", \"mSie\", 5000000000, Maxwell, 1, False\n",
      "INFO 02:36PM [get_matrix]: Exporting matrix data to (C:\\Users\\slab\\AppData\\Local\\Temp\\tmpb5lhofgk.txt, C, , Setup:AdaptivePass, \"Original\", \"ohm\", \"nH\", \"fF\", \"mSie\", 5000000000, Maxwell, 2, False\n",
      "INFO 02:36PM [get_matrix]: Exporting matrix data to (C:\\Users\\slab\\AppData\\Local\\Temp\\tmpsr30jarl.txt, C, , Setup:AdaptivePass, \"Original\", \"ohm\", \"nH\", \"fF\", \"mSie\", 5000000000, Maxwell, 3, False\n",
      "INFO 02:36PM [get_matrix]: Exporting matrix data to (C:\\Users\\slab\\AppData\\Local\\Temp\\tmp_j797fcv.txt, C, , Setup:AdaptivePass, \"Original\", \"ohm\", \"nH\", \"fF\", \"mSie\", 5000000000, Maxwell, 4, False\n",
      "INFO 02:36PM [get_matrix]: Exporting matrix data to (C:\\Users\\slab\\AppData\\Local\\Temp\\tmp8t8voo_c.txt, C, , Setup:AdaptivePass, \"Original\", \"ohm\", \"nH\", \"fF\", \"mSie\", 5000000000, Maxwell, 5, False\n",
      "INFO 02:36PM [get_matrix]: Exporting matrix data to (C:\\Users\\slab\\AppData\\Local\\Temp\\tmpc_bvyhn4.txt, C, , Setup:AdaptivePass, \"Original\", \"ohm\", \"nH\", \"fF\", \"mSie\", 5000000000, Maxwell, 6, False\n",
      "INFO 02:36PM [get_matrix]: Exporting matrix data to (C:\\Users\\slab\\AppData\\Local\\Temp\\tmpl_j83ml6.txt, C, , Setup:AdaptivePass, \"Original\", \"ohm\", \"nH\", \"fF\", \"mSie\", 5000000000, Maxwell, 7, False\n",
      "INFO 02:36PM [get_matrix]: Exporting matrix data to (C:\\Users\\slab\\AppData\\Local\\Temp\\tmppcnmjwsu.txt, C, , Setup:AdaptivePass, \"Original\", \"ohm\", \"nH\", \"fF\", \"mSie\", 5000000000, Maxwell, 8, False\n",
      "INFO 02:36PM [get_matrix]: Exporting matrix data to (C:\\Users\\slab\\AppData\\Local\\Temp\\tmp_8y2gywh.txt, C, , Setup:AdaptivePass, \"Original\", \"ohm\", \"nH\", \"fF\", \"mSie\", 5000000000, Maxwell, 9, False\n",
      "INFO 02:36PM [get_matrix]: Exporting matrix data to (C:\\Users\\slab\\AppData\\Local\\Temp\\tmpnnphs3k0.txt, C, , Setup:AdaptivePass, \"Original\", \"ohm\", \"nH\", \"fF\", \"mSie\", 5000000000, Maxwell, 10, False\n",
      "INFO 02:36PM [get_matrix]: Exporting matrix data to (C:\\Users\\slab\\AppData\\Local\\Temp\\tmpk0aus2on.txt, C, , Setup:AdaptivePass, \"Original\", \"ohm\", \"nH\", \"fF\", \"mSie\", 5000000000, Maxwell, 11, False\n",
      "INFO 02:36PM [get_matrix]: Exporting matrix data to (C:\\Users\\slab\\AppData\\Local\\Temp\\tmp5ccboujc.txt, C, , Setup:LastAdaptive, \"Original\", \"ohm\", \"nH\", \"fF\", \"mSie\", 5000000000, Maxwell, 1, False\n",
      "INFO 02:36PM [get_matrix]: Exporting matrix data to (C:\\Users\\slab\\AppData\\Local\\Temp\\tmp340bkuxd.txt, C, , Setup:AdaptivePass, \"Original\", \"ohm\", \"nH\", \"fF\", \"mSie\", 5000000000, Maxwell, 1, False\n",
      "INFO 02:36PM [get_matrix]: Exporting matrix data to (C:\\Users\\slab\\AppData\\Local\\Temp\\tmpqxhi9dq1.txt, C, , Setup:AdaptivePass, \"Original\", \"ohm\", \"nH\", \"fF\", \"mSie\", 5000000000, Maxwell, 2, False\n",
      "INFO 02:36PM [get_matrix]: Exporting matrix data to (C:\\Users\\slab\\AppData\\Local\\Temp\\tmpnppftbwt.txt, C, , Setup:AdaptivePass, \"Original\", \"ohm\", \"nH\", \"fF\", \"mSie\", 5000000000, Maxwell, 3, False\n",
      "INFO 02:36PM [get_matrix]: Exporting matrix data to (C:\\Users\\slab\\AppData\\Local\\Temp\\tmpvmhcckcu.txt, C, , Setup:AdaptivePass, \"Original\", \"ohm\", \"nH\", \"fF\", \"mSie\", 5000000000, Maxwell, 4, False\n",
      "INFO 02:36PM [get_matrix]: Exporting matrix data to (C:\\Users\\slab\\AppData\\Local\\Temp\\tmp23kmwdek.txt, C, , Setup:AdaptivePass, \"Original\", \"ohm\", \"nH\", \"fF\", \"mSie\", 5000000000, Maxwell, 5, False\n",
      "INFO 02:36PM [get_matrix]: Exporting matrix data to (C:\\Users\\slab\\AppData\\Local\\Temp\\tmpgwvv_nsr.txt, C, , Setup:AdaptivePass, \"Original\", \"ohm\", \"nH\", \"fF\", \"mSie\", 5000000000, Maxwell, 6, False\n",
      "INFO 02:36PM [get_matrix]: Exporting matrix data to (C:\\Users\\slab\\AppData\\Local\\Temp\\tmpdzkxydux.txt, C, , Setup:AdaptivePass, \"Original\", \"ohm\", \"nH\", \"fF\", \"mSie\", 5000000000, Maxwell, 7, False\n",
      "INFO 02:36PM [get_matrix]: Exporting matrix data to (C:\\Users\\slab\\AppData\\Local\\Temp\\tmppq58l4ka.txt, C, , Setup:AdaptivePass, \"Original\", \"ohm\", \"nH\", \"fF\", \"mSie\", 5000000000, Maxwell, 8, False\n",
      "INFO 02:36PM [get_matrix]: Exporting matrix data to (C:\\Users\\slab\\AppData\\Local\\Temp\\tmpxysbr4fj.txt, C, , Setup:AdaptivePass, \"Original\", \"ohm\", \"nH\", \"fF\", \"mSie\", 5000000000, Maxwell, 9, False\n",
      "INFO 02:36PM [get_matrix]: Exporting matrix data to (C:\\Users\\slab\\AppData\\Local\\Temp\\tmpnqq_1noa.txt, C, , Setup:AdaptivePass, \"Original\", \"ohm\", \"nH\", \"fF\", \"mSie\", 5000000000, Maxwell, 10, False\n",
      "INFO 02:36PM [get_matrix]: Exporting matrix data to (C:\\Users\\slab\\AppData\\Local\\Temp\\tmpg7hov7xw.txt, C, , Setup:AdaptivePass, \"Original\", \"ohm\", \"nH\", \"fF\", \"mSie\", 5000000000, Maxwell, 11, False\n"
     ]
    },
    {
     "name": "stdout",
     "output_type": "stream",
     "text": [
      "                    a_connector_pad_Q1  ground_main_plane  pad_top_Q1\n",
      "a_connector_pad_Q1            22.27339          -12.69353    -9.30880\n",
      "ground_main_plane            -12.69353          116.49372   -64.46465\n",
      "pad_top_Q1                    -9.30880          -64.46465    76.58239\n"
     ]
    },
    {
     "name": "stderr",
     "output_type": "stream",
     "text": [
      "INFO 02:36PM [connect_design]: \tOpened active design\n",
      "\tDesign:    Design_q3d [Solution type: Q3D]\n",
      "INFO 02:36PM [get_setup]: \tOpened setup `Setup`  (<class 'pyEPR.ansys.AnsysQ3DSetup'>)\n",
      "INFO 02:36PM [analyze]: Analyzing setup Setup\n",
      "INFO 02:37PM [get_matrix]: Exporting matrix data to (C:\\Users\\slab\\AppData\\Local\\Temp\\tmpz55q27i3.txt, C, , Setup:LastAdaptive, \"Original\", \"ohm\", \"nH\", \"fF\", \"mSie\", 5000000000, Maxwell, 1, False\n",
      "INFO 02:37PM [get_matrix]: Exporting matrix data to (C:\\Users\\slab\\AppData\\Local\\Temp\\tmpiceyx07v.txt, C, , Setup:AdaptivePass, \"Original\", \"ohm\", \"nH\", \"fF\", \"mSie\", 5000000000, Maxwell, 1, False\n",
      "INFO 02:37PM [get_matrix]: Exporting matrix data to (C:\\Users\\slab\\AppData\\Local\\Temp\\tmpx11ue5cu.txt, C, , Setup:AdaptivePass, \"Original\", \"ohm\", \"nH\", \"fF\", \"mSie\", 5000000000, Maxwell, 2, False\n",
      "INFO 02:37PM [get_matrix]: Exporting matrix data to (C:\\Users\\slab\\AppData\\Local\\Temp\\tmp9kyu6phl.txt, C, , Setup:AdaptivePass, \"Original\", \"ohm\", \"nH\", \"fF\", \"mSie\", 5000000000, Maxwell, 3, False\n",
      "INFO 02:37PM [get_matrix]: Exporting matrix data to (C:\\Users\\slab\\AppData\\Local\\Temp\\tmpku42avy6.txt, C, , Setup:AdaptivePass, \"Original\", \"ohm\", \"nH\", \"fF\", \"mSie\", 5000000000, Maxwell, 4, False\n",
      "INFO 02:37PM [get_matrix]: Exporting matrix data to (C:\\Users\\slab\\AppData\\Local\\Temp\\tmp_bdb5nm6.txt, C, , Setup:AdaptivePass, \"Original\", \"ohm\", \"nH\", \"fF\", \"mSie\", 5000000000, Maxwell, 5, False\n",
      "INFO 02:37PM [get_matrix]: Exporting matrix data to (C:\\Users\\slab\\AppData\\Local\\Temp\\tmp4g_4u682.txt, C, , Setup:AdaptivePass, \"Original\", \"ohm\", \"nH\", \"fF\", \"mSie\", 5000000000, Maxwell, 6, False\n",
      "INFO 02:37PM [get_matrix]: Exporting matrix data to (C:\\Users\\slab\\AppData\\Local\\Temp\\tmperjlgqos.txt, C, , Setup:AdaptivePass, \"Original\", \"ohm\", \"nH\", \"fF\", \"mSie\", 5000000000, Maxwell, 7, False\n",
      "INFO 02:37PM [get_matrix]: Exporting matrix data to (C:\\Users\\slab\\AppData\\Local\\Temp\\tmpy6ufra2d.txt, C, , Setup:AdaptivePass, \"Original\", \"ohm\", \"nH\", \"fF\", \"mSie\", 5000000000, Maxwell, 8, False\n",
      "INFO 02:37PM [get_matrix]: Exporting matrix data to (C:\\Users\\slab\\AppData\\Local\\Temp\\tmpyecbom_b.txt, C, , Setup:AdaptivePass, \"Original\", \"ohm\", \"nH\", \"fF\", \"mSie\", 5000000000, Maxwell, 9, False\n",
      "INFO 02:37PM [get_matrix]: Exporting matrix data to (C:\\Users\\slab\\AppData\\Local\\Temp\\tmpdo1_wr2y.txt, C, , Setup:AdaptivePass, \"Original\", \"ohm\", \"nH\", \"fF\", \"mSie\", 5000000000, Maxwell, 10, False\n",
      "INFO 02:37PM [get_matrix]: Exporting matrix data to (C:\\Users\\slab\\AppData\\Local\\Temp\\tmpunm5h6h8.txt, C, , Setup:AdaptivePass, \"Original\", \"ohm\", \"nH\", \"fF\", \"mSie\", 5000000000, Maxwell, 11, False\n",
      "INFO 02:37PM [get_matrix]: Exporting matrix data to (C:\\Users\\slab\\AppData\\Local\\Temp\\tmp97avqbek.txt, C, , Setup:LastAdaptive, \"Original\", \"ohm\", \"nH\", \"fF\", \"mSie\", 5000000000, Maxwell, 1, False\n",
      "INFO 02:37PM [get_matrix]: Exporting matrix data to (C:\\Users\\slab\\AppData\\Local\\Temp\\tmppekte_ot.txt, C, , Setup:AdaptivePass, \"Original\", \"ohm\", \"nH\", \"fF\", \"mSie\", 5000000000, Maxwell, 1, False\n",
      "INFO 02:37PM [get_matrix]: Exporting matrix data to (C:\\Users\\slab\\AppData\\Local\\Temp\\tmpc6w1hlvn.txt, C, , Setup:AdaptivePass, \"Original\", \"ohm\", \"nH\", \"fF\", \"mSie\", 5000000000, Maxwell, 2, False\n",
      "INFO 02:37PM [get_matrix]: Exporting matrix data to (C:\\Users\\slab\\AppData\\Local\\Temp\\tmpoyda4hhb.txt, C, , Setup:AdaptivePass, \"Original\", \"ohm\", \"nH\", \"fF\", \"mSie\", 5000000000, Maxwell, 3, False\n",
      "INFO 02:37PM [get_matrix]: Exporting matrix data to (C:\\Users\\slab\\AppData\\Local\\Temp\\tmpk5fsaep4.txt, C, , Setup:AdaptivePass, \"Original\", \"ohm\", \"nH\", \"fF\", \"mSie\", 5000000000, Maxwell, 4, False\n",
      "INFO 02:37PM [get_matrix]: Exporting matrix data to (C:\\Users\\slab\\AppData\\Local\\Temp\\tmp_jc2gjv1.txt, C, , Setup:AdaptivePass, \"Original\", \"ohm\", \"nH\", \"fF\", \"mSie\", 5000000000, Maxwell, 5, False\n",
      "INFO 02:37PM [get_matrix]: Exporting matrix data to (C:\\Users\\slab\\AppData\\Local\\Temp\\tmpvt4wu57i.txt, C, , Setup:AdaptivePass, \"Original\", \"ohm\", \"nH\", \"fF\", \"mSie\", 5000000000, Maxwell, 6, False\n",
      "INFO 02:37PM [get_matrix]: Exporting matrix data to (C:\\Users\\slab\\AppData\\Local\\Temp\\tmpe305ppzh.txt, C, , Setup:AdaptivePass, \"Original\", \"ohm\", \"nH\", \"fF\", \"mSie\", 5000000000, Maxwell, 7, False\n",
      "INFO 02:37PM [get_matrix]: Exporting matrix data to (C:\\Users\\slab\\AppData\\Local\\Temp\\tmpgk65xnlp.txt, C, , Setup:AdaptivePass, \"Original\", \"ohm\", \"nH\", \"fF\", \"mSie\", 5000000000, Maxwell, 8, False\n",
      "INFO 02:37PM [get_matrix]: Exporting matrix data to (C:\\Users\\slab\\AppData\\Local\\Temp\\tmppxbw97wh.txt, C, , Setup:AdaptivePass, \"Original\", \"ohm\", \"nH\", \"fF\", \"mSie\", 5000000000, Maxwell, 9, False\n",
      "INFO 02:37PM [get_matrix]: Exporting matrix data to (C:\\Users\\slab\\AppData\\Local\\Temp\\tmpg71g2rxs.txt, C, , Setup:AdaptivePass, \"Original\", \"ohm\", \"nH\", \"fF\", \"mSie\", 5000000000, Maxwell, 10, False\n",
      "INFO 02:37PM [get_matrix]: Exporting matrix data to (C:\\Users\\slab\\AppData\\Local\\Temp\\tmpoav24lbj.txt, C, , Setup:AdaptivePass, \"Original\", \"ohm\", \"nH\", \"fF\", \"mSie\", 5000000000, Maxwell, 11, False\n"
     ]
    },
    {
     "name": "stdout",
     "output_type": "stream",
     "text": [
      "                    a_connector_pad_Q1  ground_main_plane  pad_top_Q1\n",
      "a_connector_pad_Q1            22.26073          -12.60134    -9.35544\n",
      "ground_main_plane            -12.60134          120.15674   -68.02663\n",
      "pad_top_Q1                    -9.35544          -68.02663    80.35389\n"
     ]
    },
    {
     "name": "stderr",
     "output_type": "stream",
     "text": [
      "INFO 02:37PM [connect_design]: \tOpened active design\n",
      "\tDesign:    Design_q3d [Solution type: Q3D]\n",
      "INFO 02:37PM [get_setup]: \tOpened setup `Setup`  (<class 'pyEPR.ansys.AnsysQ3DSetup'>)\n",
      "INFO 02:37PM [analyze]: Analyzing setup Setup\n",
      "INFO 02:37PM [get_matrix]: Exporting matrix data to (C:\\Users\\slab\\AppData\\Local\\Temp\\tmprtwdhp_0.txt, C, , Setup:LastAdaptive, \"Original\", \"ohm\", \"nH\", \"fF\", \"mSie\", 5000000000, Maxwell, 1, False\n",
      "INFO 02:37PM [get_matrix]: Exporting matrix data to (C:\\Users\\slab\\AppData\\Local\\Temp\\tmpxojc467x.txt, C, , Setup:AdaptivePass, \"Original\", \"ohm\", \"nH\", \"fF\", \"mSie\", 5000000000, Maxwell, 1, False\n",
      "INFO 02:37PM [get_matrix]: Exporting matrix data to (C:\\Users\\slab\\AppData\\Local\\Temp\\tmphn7xbn3l.txt, C, , Setup:AdaptivePass, \"Original\", \"ohm\", \"nH\", \"fF\", \"mSie\", 5000000000, Maxwell, 2, False\n",
      "INFO 02:37PM [get_matrix]: Exporting matrix data to (C:\\Users\\slab\\AppData\\Local\\Temp\\tmpv6b67ol6.txt, C, , Setup:AdaptivePass, \"Original\", \"ohm\", \"nH\", \"fF\", \"mSie\", 5000000000, Maxwell, 3, False\n",
      "INFO 02:37PM [get_matrix]: Exporting matrix data to (C:\\Users\\slab\\AppData\\Local\\Temp\\tmp4rg0fwu4.txt, C, , Setup:AdaptivePass, \"Original\", \"ohm\", \"nH\", \"fF\", \"mSie\", 5000000000, Maxwell, 4, False\n",
      "INFO 02:37PM [get_matrix]: Exporting matrix data to (C:\\Users\\slab\\AppData\\Local\\Temp\\tmp98xgvjhu.txt, C, , Setup:AdaptivePass, \"Original\", \"ohm\", \"nH\", \"fF\", \"mSie\", 5000000000, Maxwell, 5, False\n",
      "INFO 02:37PM [get_matrix]: Exporting matrix data to (C:\\Users\\slab\\AppData\\Local\\Temp\\tmpwoulzym8.txt, C, , Setup:AdaptivePass, \"Original\", \"ohm\", \"nH\", \"fF\", \"mSie\", 5000000000, Maxwell, 6, False\n",
      "INFO 02:37PM [get_matrix]: Exporting matrix data to (C:\\Users\\slab\\AppData\\Local\\Temp\\tmpa_f3ec2r.txt, C, , Setup:AdaptivePass, \"Original\", \"ohm\", \"nH\", \"fF\", \"mSie\", 5000000000, Maxwell, 7, False\n",
      "INFO 02:37PM [get_matrix]: Exporting matrix data to (C:\\Users\\slab\\AppData\\Local\\Temp\\tmpxmqwrpvg.txt, C, , Setup:AdaptivePass, \"Original\", \"ohm\", \"nH\", \"fF\", \"mSie\", 5000000000, Maxwell, 8, False\n",
      "INFO 02:37PM [get_matrix]: Exporting matrix data to (C:\\Users\\slab\\AppData\\Local\\Temp\\tmpgxb4lgz3.txt, C, , Setup:AdaptivePass, \"Original\", \"ohm\", \"nH\", \"fF\", \"mSie\", 5000000000, Maxwell, 9, False\n",
      "INFO 02:37PM [get_matrix]: Exporting matrix data to (C:\\Users\\slab\\AppData\\Local\\Temp\\tmpox2a67u_.txt, C, , Setup:AdaptivePass, \"Original\", \"ohm\", \"nH\", \"fF\", \"mSie\", 5000000000, Maxwell, 10, False\n",
      "INFO 02:37PM [get_matrix]: Exporting matrix data to (C:\\Users\\slab\\AppData\\Local\\Temp\\tmp29ekbyq9.txt, C, , Setup:AdaptivePass, \"Original\", \"ohm\", \"nH\", \"fF\", \"mSie\", 5000000000, Maxwell, 11, False\n",
      "INFO 02:37PM [get_matrix]: Exporting matrix data to (C:\\Users\\slab\\AppData\\Local\\Temp\\tmp1o5yaa_o.txt, C, , Setup:LastAdaptive, \"Original\", \"ohm\", \"nH\", \"fF\", \"mSie\", 5000000000, Maxwell, 1, False\n",
      "INFO 02:37PM [get_matrix]: Exporting matrix data to (C:\\Users\\slab\\AppData\\Local\\Temp\\tmpa3wva4br.txt, C, , Setup:AdaptivePass, \"Original\", \"ohm\", \"nH\", \"fF\", \"mSie\", 5000000000, Maxwell, 1, False\n",
      "INFO 02:37PM [get_matrix]: Exporting matrix data to (C:\\Users\\slab\\AppData\\Local\\Temp\\tmp3d9t3k5v.txt, C, , Setup:AdaptivePass, \"Original\", \"ohm\", \"nH\", \"fF\", \"mSie\", 5000000000, Maxwell, 2, False\n",
      "INFO 02:37PM [get_matrix]: Exporting matrix data to (C:\\Users\\slab\\AppData\\Local\\Temp\\tmppt6xxos9.txt, C, , Setup:AdaptivePass, \"Original\", \"ohm\", \"nH\", \"fF\", \"mSie\", 5000000000, Maxwell, 3, False\n",
      "INFO 02:37PM [get_matrix]: Exporting matrix data to (C:\\Users\\slab\\AppData\\Local\\Temp\\tmph6tpji1i.txt, C, , Setup:AdaptivePass, \"Original\", \"ohm\", \"nH\", \"fF\", \"mSie\", 5000000000, Maxwell, 4, False\n",
      "INFO 02:37PM [get_matrix]: Exporting matrix data to (C:\\Users\\slab\\AppData\\Local\\Temp\\tmp4g855wfg.txt, C, , Setup:AdaptivePass, \"Original\", \"ohm\", \"nH\", \"fF\", \"mSie\", 5000000000, Maxwell, 5, False\n",
      "INFO 02:37PM [get_matrix]: Exporting matrix data to (C:\\Users\\slab\\AppData\\Local\\Temp\\tmpodx5suw7.txt, C, , Setup:AdaptivePass, \"Original\", \"ohm\", \"nH\", \"fF\", \"mSie\", 5000000000, Maxwell, 6, False\n",
      "INFO 02:37PM [get_matrix]: Exporting matrix data to (C:\\Users\\slab\\AppData\\Local\\Temp\\tmpgrokyd00.txt, C, , Setup:AdaptivePass, \"Original\", \"ohm\", \"nH\", \"fF\", \"mSie\", 5000000000, Maxwell, 7, False\n",
      "INFO 02:37PM [get_matrix]: Exporting matrix data to (C:\\Users\\slab\\AppData\\Local\\Temp\\tmp4q2fl666.txt, C, , Setup:AdaptivePass, \"Original\", \"ohm\", \"nH\", \"fF\", \"mSie\", 5000000000, Maxwell, 8, False\n",
      "INFO 02:37PM [get_matrix]: Exporting matrix data to (C:\\Users\\slab\\AppData\\Local\\Temp\\tmptr5e46pi.txt, C, , Setup:AdaptivePass, \"Original\", \"ohm\", \"nH\", \"fF\", \"mSie\", 5000000000, Maxwell, 9, False\n",
      "INFO 02:37PM [get_matrix]: Exporting matrix data to (C:\\Users\\slab\\AppData\\Local\\Temp\\tmppy72w0et.txt, C, , Setup:AdaptivePass, \"Original\", \"ohm\", \"nH\", \"fF\", \"mSie\", 5000000000, Maxwell, 10, False\n",
      "INFO 02:37PM [get_matrix]: Exporting matrix data to (C:\\Users\\slab\\AppData\\Local\\Temp\\tmp5omgdatv.txt, C, , Setup:AdaptivePass, \"Original\", \"ohm\", \"nH\", \"fF\", \"mSie\", 5000000000, Maxwell, 11, False\n"
     ]
    },
    {
     "name": "stdout",
     "output_type": "stream",
     "text": [
      "                    a_connector_pad_Q1  ground_main_plane  pad_top_Q1\n",
      "a_connector_pad_Q1            22.23667          -12.52937    -9.36198\n",
      "ground_main_plane            -12.52937          123.68420   -71.45620\n",
      "pad_top_Q1                    -9.36198          -71.45620    83.94487\n"
     ]
    },
    {
     "name": "stderr",
     "output_type": "stream",
     "text": [
      "INFO 02:37PM [connect_design]: \tOpened active design\n",
      "\tDesign:    Design_q3d [Solution type: Q3D]\n",
      "INFO 02:37PM [get_setup]: \tOpened setup `Setup`  (<class 'pyEPR.ansys.AnsysQ3DSetup'>)\n",
      "INFO 02:37PM [analyze]: Analyzing setup Setup\n",
      "INFO 02:38PM [get_matrix]: Exporting matrix data to (C:\\Users\\slab\\AppData\\Local\\Temp\\tmpq9avujjr.txt, C, , Setup:LastAdaptive, \"Original\", \"ohm\", \"nH\", \"fF\", \"mSie\", 5000000000, Maxwell, 1, False\n",
      "INFO 02:38PM [get_matrix]: Exporting matrix data to (C:\\Users\\slab\\AppData\\Local\\Temp\\tmpp4ovnd5f.txt, C, , Setup:AdaptivePass, \"Original\", \"ohm\", \"nH\", \"fF\", \"mSie\", 5000000000, Maxwell, 1, False\n",
      "INFO 02:38PM [get_matrix]: Exporting matrix data to (C:\\Users\\slab\\AppData\\Local\\Temp\\tmp3j8qxc0k.txt, C, , Setup:AdaptivePass, \"Original\", \"ohm\", \"nH\", \"fF\", \"mSie\", 5000000000, Maxwell, 2, False\n",
      "INFO 02:38PM [get_matrix]: Exporting matrix data to (C:\\Users\\slab\\AppData\\Local\\Temp\\tmp01g63uhr.txt, C, , Setup:AdaptivePass, \"Original\", \"ohm\", \"nH\", \"fF\", \"mSie\", 5000000000, Maxwell, 3, False\n",
      "INFO 02:38PM [get_matrix]: Exporting matrix data to (C:\\Users\\slab\\AppData\\Local\\Temp\\tmp5rosudfs.txt, C, , Setup:AdaptivePass, \"Original\", \"ohm\", \"nH\", \"fF\", \"mSie\", 5000000000, Maxwell, 4, False\n",
      "INFO 02:38PM [get_matrix]: Exporting matrix data to (C:\\Users\\slab\\AppData\\Local\\Temp\\tmpkkmqt3z7.txt, C, , Setup:AdaptivePass, \"Original\", \"ohm\", \"nH\", \"fF\", \"mSie\", 5000000000, Maxwell, 5, False\n",
      "INFO 02:38PM [get_matrix]: Exporting matrix data to (C:\\Users\\slab\\AppData\\Local\\Temp\\tmpfe42bb2r.txt, C, , Setup:AdaptivePass, \"Original\", \"ohm\", \"nH\", \"fF\", \"mSie\", 5000000000, Maxwell, 6, False\n",
      "INFO 02:38PM [get_matrix]: Exporting matrix data to (C:\\Users\\slab\\AppData\\Local\\Temp\\tmpt8o1ehez.txt, C, , Setup:AdaptivePass, \"Original\", \"ohm\", \"nH\", \"fF\", \"mSie\", 5000000000, Maxwell, 7, False\n",
      "INFO 02:38PM [get_matrix]: Exporting matrix data to (C:\\Users\\slab\\AppData\\Local\\Temp\\tmplzn0xxag.txt, C, , Setup:AdaptivePass, \"Original\", \"ohm\", \"nH\", \"fF\", \"mSie\", 5000000000, Maxwell, 8, False\n",
      "INFO 02:38PM [get_matrix]: Exporting matrix data to (C:\\Users\\slab\\AppData\\Local\\Temp\\tmp_pqqzknf.txt, C, , Setup:AdaptivePass, \"Original\", \"ohm\", \"nH\", \"fF\", \"mSie\", 5000000000, Maxwell, 9, False\n",
      "INFO 02:38PM [get_matrix]: Exporting matrix data to (C:\\Users\\slab\\AppData\\Local\\Temp\\tmpxpajvb1i.txt, C, , Setup:AdaptivePass, \"Original\", \"ohm\", \"nH\", \"fF\", \"mSie\", 5000000000, Maxwell, 10, False\n",
      "INFO 02:38PM [get_matrix]: Exporting matrix data to (C:\\Users\\slab\\AppData\\Local\\Temp\\tmpuq8a7z9n.txt, C, , Setup:AdaptivePass, \"Original\", \"ohm\", \"nH\", \"fF\", \"mSie\", 5000000000, Maxwell, 11, False\n",
      "INFO 02:38PM [get_matrix]: Exporting matrix data to (C:\\Users\\slab\\AppData\\Local\\Temp\\tmppay9oshx.txt, C, , Setup:LastAdaptive, \"Original\", \"ohm\", \"nH\", \"fF\", \"mSie\", 5000000000, Maxwell, 1, False\n",
      "INFO 02:38PM [get_matrix]: Exporting matrix data to (C:\\Users\\slab\\AppData\\Local\\Temp\\tmpm026ifr9.txt, C, , Setup:AdaptivePass, \"Original\", \"ohm\", \"nH\", \"fF\", \"mSie\", 5000000000, Maxwell, 1, False\n",
      "INFO 02:38PM [get_matrix]: Exporting matrix data to (C:\\Users\\slab\\AppData\\Local\\Temp\\tmpb34tg0bo.txt, C, , Setup:AdaptivePass, \"Original\", \"ohm\", \"nH\", \"fF\", \"mSie\", 5000000000, Maxwell, 2, False\n",
      "INFO 02:38PM [get_matrix]: Exporting matrix data to (C:\\Users\\slab\\AppData\\Local\\Temp\\tmpabr5y2ey.txt, C, , Setup:AdaptivePass, \"Original\", \"ohm\", \"nH\", \"fF\", \"mSie\", 5000000000, Maxwell, 3, False\n",
      "INFO 02:38PM [get_matrix]: Exporting matrix data to (C:\\Users\\slab\\AppData\\Local\\Temp\\tmprtqtggil.txt, C, , Setup:AdaptivePass, \"Original\", \"ohm\", \"nH\", \"fF\", \"mSie\", 5000000000, Maxwell, 4, False\n",
      "INFO 02:38PM [get_matrix]: Exporting matrix data to (C:\\Users\\slab\\AppData\\Local\\Temp\\tmpp_0rwby7.txt, C, , Setup:AdaptivePass, \"Original\", \"ohm\", \"nH\", \"fF\", \"mSie\", 5000000000, Maxwell, 5, False\n",
      "INFO 02:38PM [get_matrix]: Exporting matrix data to (C:\\Users\\slab\\AppData\\Local\\Temp\\tmpugk9_j7q.txt, C, , Setup:AdaptivePass, \"Original\", \"ohm\", \"nH\", \"fF\", \"mSie\", 5000000000, Maxwell, 6, False\n",
      "INFO 02:38PM [get_matrix]: Exporting matrix data to (C:\\Users\\slab\\AppData\\Local\\Temp\\tmpn0lnzhns.txt, C, , Setup:AdaptivePass, \"Original\", \"ohm\", \"nH\", \"fF\", \"mSie\", 5000000000, Maxwell, 7, False\n",
      "INFO 02:38PM [get_matrix]: Exporting matrix data to (C:\\Users\\slab\\AppData\\Local\\Temp\\tmpkvfl7svy.txt, C, , Setup:AdaptivePass, \"Original\", \"ohm\", \"nH\", \"fF\", \"mSie\", 5000000000, Maxwell, 8, False\n",
      "INFO 02:38PM [get_matrix]: Exporting matrix data to (C:\\Users\\slab\\AppData\\Local\\Temp\\tmpguxgrmrv.txt, C, , Setup:AdaptivePass, \"Original\", \"ohm\", \"nH\", \"fF\", \"mSie\", 5000000000, Maxwell, 9, False\n",
      "INFO 02:38PM [get_matrix]: Exporting matrix data to (C:\\Users\\slab\\AppData\\Local\\Temp\\tmp5mmlkrak.txt, C, , Setup:AdaptivePass, \"Original\", \"ohm\", \"nH\", \"fF\", \"mSie\", 5000000000, Maxwell, 10, False\n",
      "INFO 02:38PM [get_matrix]: Exporting matrix data to (C:\\Users\\slab\\AppData\\Local\\Temp\\tmpviaf1txc.txt, C, , Setup:AdaptivePass, \"Original\", \"ohm\", \"nH\", \"fF\", \"mSie\", 5000000000, Maxwell, 11, False\n"
     ]
    },
    {
     "name": "stdout",
     "output_type": "stream",
     "text": [
      "                    a_connector_pad_Q1  ground_main_plane  pad_top_Q1\n",
      "a_connector_pad_Q1            22.24381          -12.49078    -9.39401\n",
      "ground_main_plane            -12.49078          127.16752   -74.90024\n",
      "pad_top_Q1                    -9.39401          -74.90024    87.60210\n"
     ]
    },
    {
     "name": "stderr",
     "output_type": "stream",
     "text": [
      "INFO 02:38PM [connect_design]: \tOpened active design\n",
      "\tDesign:    Design_q3d [Solution type: Q3D]\n",
      "INFO 02:38PM [get_setup]: \tOpened setup `Setup`  (<class 'pyEPR.ansys.AnsysQ3DSetup'>)\n",
      "INFO 02:38PM [analyze]: Analyzing setup Setup\n",
      "INFO 02:39PM [get_matrix]: Exporting matrix data to (C:\\Users\\slab\\AppData\\Local\\Temp\\tmpotcag0k6.txt, C, , Setup:LastAdaptive, \"Original\", \"ohm\", \"nH\", \"fF\", \"mSie\", 5000000000, Maxwell, 1, False\n",
      "INFO 02:39PM [get_matrix]: Exporting matrix data to (C:\\Users\\slab\\AppData\\Local\\Temp\\tmpdeaiavmz.txt, C, , Setup:AdaptivePass, \"Original\", \"ohm\", \"nH\", \"fF\", \"mSie\", 5000000000, Maxwell, 1, False\n",
      "INFO 02:39PM [get_matrix]: Exporting matrix data to (C:\\Users\\slab\\AppData\\Local\\Temp\\tmp5axe6x0x.txt, C, , Setup:AdaptivePass, \"Original\", \"ohm\", \"nH\", \"fF\", \"mSie\", 5000000000, Maxwell, 2, False\n",
      "INFO 02:39PM [get_matrix]: Exporting matrix data to (C:\\Users\\slab\\AppData\\Local\\Temp\\tmp5t86a1s2.txt, C, , Setup:AdaptivePass, \"Original\", \"ohm\", \"nH\", \"fF\", \"mSie\", 5000000000, Maxwell, 3, False\n",
      "INFO 02:39PM [get_matrix]: Exporting matrix data to (C:\\Users\\slab\\AppData\\Local\\Temp\\tmptk7u822k.txt, C, , Setup:AdaptivePass, \"Original\", \"ohm\", \"nH\", \"fF\", \"mSie\", 5000000000, Maxwell, 4, False\n",
      "INFO 02:39PM [get_matrix]: Exporting matrix data to (C:\\Users\\slab\\AppData\\Local\\Temp\\tmprhn8oq9m.txt, C, , Setup:AdaptivePass, \"Original\", \"ohm\", \"nH\", \"fF\", \"mSie\", 5000000000, Maxwell, 5, False\n",
      "INFO 02:39PM [get_matrix]: Exporting matrix data to (C:\\Users\\slab\\AppData\\Local\\Temp\\tmp6pl3suec.txt, C, , Setup:AdaptivePass, \"Original\", \"ohm\", \"nH\", \"fF\", \"mSie\", 5000000000, Maxwell, 6, False\n",
      "INFO 02:39PM [get_matrix]: Exporting matrix data to (C:\\Users\\slab\\AppData\\Local\\Temp\\tmpkofqxi1b.txt, C, , Setup:AdaptivePass, \"Original\", \"ohm\", \"nH\", \"fF\", \"mSie\", 5000000000, Maxwell, 7, False\n",
      "INFO 02:39PM [get_matrix]: Exporting matrix data to (C:\\Users\\slab\\AppData\\Local\\Temp\\tmpt16468q8.txt, C, , Setup:AdaptivePass, \"Original\", \"ohm\", \"nH\", \"fF\", \"mSie\", 5000000000, Maxwell, 8, False\n",
      "INFO 02:39PM [get_matrix]: Exporting matrix data to (C:\\Users\\slab\\AppData\\Local\\Temp\\tmpe_31j8s6.txt, C, , Setup:AdaptivePass, \"Original\", \"ohm\", \"nH\", \"fF\", \"mSie\", 5000000000, Maxwell, 9, False\n",
      "INFO 02:39PM [get_matrix]: Exporting matrix data to (C:\\Users\\slab\\AppData\\Local\\Temp\\tmp4ii1iw60.txt, C, , Setup:AdaptivePass, \"Original\", \"ohm\", \"nH\", \"fF\", \"mSie\", 5000000000, Maxwell, 10, False\n",
      "INFO 02:39PM [get_matrix]: Exporting matrix data to (C:\\Users\\slab\\AppData\\Local\\Temp\\tmp_w1iq5xk.txt, C, , Setup:AdaptivePass, \"Original\", \"ohm\", \"nH\", \"fF\", \"mSie\", 5000000000, Maxwell, 11, False\n",
      "INFO 02:39PM [get_matrix]: Exporting matrix data to (C:\\Users\\slab\\AppData\\Local\\Temp\\tmpyhwmz4q4.txt, C, , Setup:LastAdaptive, \"Original\", \"ohm\", \"nH\", \"fF\", \"mSie\", 5000000000, Maxwell, 1, False\n",
      "INFO 02:39PM [get_matrix]: Exporting matrix data to (C:\\Users\\slab\\AppData\\Local\\Temp\\tmpv9ui3nq_.txt, C, , Setup:AdaptivePass, \"Original\", \"ohm\", \"nH\", \"fF\", \"mSie\", 5000000000, Maxwell, 1, False\n",
      "INFO 02:39PM [get_matrix]: Exporting matrix data to (C:\\Users\\slab\\AppData\\Local\\Temp\\tmplij1sswu.txt, C, , Setup:AdaptivePass, \"Original\", \"ohm\", \"nH\", \"fF\", \"mSie\", 5000000000, Maxwell, 2, False\n",
      "INFO 02:39PM [get_matrix]: Exporting matrix data to (C:\\Users\\slab\\AppData\\Local\\Temp\\tmps2lp44rn.txt, C, , Setup:AdaptivePass, \"Original\", \"ohm\", \"nH\", \"fF\", \"mSie\", 5000000000, Maxwell, 3, False\n",
      "INFO 02:39PM [get_matrix]: Exporting matrix data to (C:\\Users\\slab\\AppData\\Local\\Temp\\tmpm_2s07l4.txt, C, , Setup:AdaptivePass, \"Original\", \"ohm\", \"nH\", \"fF\", \"mSie\", 5000000000, Maxwell, 4, False\n",
      "INFO 02:39PM [get_matrix]: Exporting matrix data to (C:\\Users\\slab\\AppData\\Local\\Temp\\tmp9npxm3qv.txt, C, , Setup:AdaptivePass, \"Original\", \"ohm\", \"nH\", \"fF\", \"mSie\", 5000000000, Maxwell, 5, False\n",
      "INFO 02:39PM [get_matrix]: Exporting matrix data to (C:\\Users\\slab\\AppData\\Local\\Temp\\tmpqol_0ucl.txt, C, , Setup:AdaptivePass, \"Original\", \"ohm\", \"nH\", \"fF\", \"mSie\", 5000000000, Maxwell, 6, False\n",
      "INFO 02:39PM [get_matrix]: Exporting matrix data to (C:\\Users\\slab\\AppData\\Local\\Temp\\tmpr78fkqoi.txt, C, , Setup:AdaptivePass, \"Original\", \"ohm\", \"nH\", \"fF\", \"mSie\", 5000000000, Maxwell, 7, False\n",
      "INFO 02:39PM [get_matrix]: Exporting matrix data to (C:\\Users\\slab\\AppData\\Local\\Temp\\tmpimq_5xc8.txt, C, , Setup:AdaptivePass, \"Original\", \"ohm\", \"nH\", \"fF\", \"mSie\", 5000000000, Maxwell, 8, False\n",
      "INFO 02:39PM [get_matrix]: Exporting matrix data to (C:\\Users\\slab\\AppData\\Local\\Temp\\tmpamjx0j6c.txt, C, , Setup:AdaptivePass, \"Original\", \"ohm\", \"nH\", \"fF\", \"mSie\", 5000000000, Maxwell, 9, False\n",
      "INFO 02:39PM [get_matrix]: Exporting matrix data to (C:\\Users\\slab\\AppData\\Local\\Temp\\tmp7gp666f4.txt, C, , Setup:AdaptivePass, \"Original\", \"ohm\", \"nH\", \"fF\", \"mSie\", 5000000000, Maxwell, 10, False\n",
      "INFO 02:39PM [get_matrix]: Exporting matrix data to (C:\\Users\\slab\\AppData\\Local\\Temp\\tmpccd2xcbw.txt, C, , Setup:AdaptivePass, \"Original\", \"ohm\", \"nH\", \"fF\", \"mSie\", 5000000000, Maxwell, 11, False\n"
     ]
    },
    {
     "name": "stdout",
     "output_type": "stream",
     "text": [
      "                    a_connector_pad_Q1  ground_main_plane  pad_top_Q1\n",
      "a_connector_pad_Q1            22.23754          -12.45726    -9.42547\n",
      "ground_main_plane            -12.45726          130.63611   -78.29546\n",
      "pad_top_Q1                    -9.42547          -78.29546    91.23032\n"
     ]
    },
    {
     "name": "stderr",
     "output_type": "stream",
     "text": [
      "INFO 02:39PM [connect_design]: \tOpened active design\n",
      "\tDesign:    Design_q3d [Solution type: Q3D]\n",
      "INFO 02:39PM [get_setup]: \tOpened setup `Setup`  (<class 'pyEPR.ansys.AnsysQ3DSetup'>)\n",
      "INFO 02:39PM [analyze]: Analyzing setup Setup\n",
      "INFO 02:39PM [get_matrix]: Exporting matrix data to (C:\\Users\\slab\\AppData\\Local\\Temp\\tmptmom2cd5.txt, C, , Setup:LastAdaptive, \"Original\", \"ohm\", \"nH\", \"fF\", \"mSie\", 5000000000, Maxwell, 1, False\n",
      "INFO 02:39PM [get_matrix]: Exporting matrix data to (C:\\Users\\slab\\AppData\\Local\\Temp\\tmpncobjxpn.txt, C, , Setup:AdaptivePass, \"Original\", \"ohm\", \"nH\", \"fF\", \"mSie\", 5000000000, Maxwell, 1, False\n",
      "INFO 02:39PM [get_matrix]: Exporting matrix data to (C:\\Users\\slab\\AppData\\Local\\Temp\\tmpqz8chldl.txt, C, , Setup:AdaptivePass, \"Original\", \"ohm\", \"nH\", \"fF\", \"mSie\", 5000000000, Maxwell, 2, False\n",
      "INFO 02:39PM [get_matrix]: Exporting matrix data to (C:\\Users\\slab\\AppData\\Local\\Temp\\tmpkr5b71kf.txt, C, , Setup:AdaptivePass, \"Original\", \"ohm\", \"nH\", \"fF\", \"mSie\", 5000000000, Maxwell, 3, False\n",
      "INFO 02:39PM [get_matrix]: Exporting matrix data to (C:\\Users\\slab\\AppData\\Local\\Temp\\tmplyfy8bqc.txt, C, , Setup:AdaptivePass, \"Original\", \"ohm\", \"nH\", \"fF\", \"mSie\", 5000000000, Maxwell, 4, False\n",
      "INFO 02:39PM [get_matrix]: Exporting matrix data to (C:\\Users\\slab\\AppData\\Local\\Temp\\tmpzbjtabzs.txt, C, , Setup:AdaptivePass, \"Original\", \"ohm\", \"nH\", \"fF\", \"mSie\", 5000000000, Maxwell, 5, False\n",
      "INFO 02:39PM [get_matrix]: Exporting matrix data to (C:\\Users\\slab\\AppData\\Local\\Temp\\tmp4zbkqaex.txt, C, , Setup:AdaptivePass, \"Original\", \"ohm\", \"nH\", \"fF\", \"mSie\", 5000000000, Maxwell, 6, False\n",
      "INFO 02:39PM [get_matrix]: Exporting matrix data to (C:\\Users\\slab\\AppData\\Local\\Temp\\tmpxtkxguwo.txt, C, , Setup:AdaptivePass, \"Original\", \"ohm\", \"nH\", \"fF\", \"mSie\", 5000000000, Maxwell, 7, False\n",
      "INFO 02:39PM [get_matrix]: Exporting matrix data to (C:\\Users\\slab\\AppData\\Local\\Temp\\tmpzdsd4e52.txt, C, , Setup:AdaptivePass, \"Original\", \"ohm\", \"nH\", \"fF\", \"mSie\", 5000000000, Maxwell, 8, False\n",
      "INFO 02:39PM [get_matrix]: Exporting matrix data to (C:\\Users\\slab\\AppData\\Local\\Temp\\tmp2ye4eytz.txt, C, , Setup:AdaptivePass, \"Original\", \"ohm\", \"nH\", \"fF\", \"mSie\", 5000000000, Maxwell, 9, False\n",
      "INFO 02:39PM [get_matrix]: Exporting matrix data to (C:\\Users\\slab\\AppData\\Local\\Temp\\tmpwfnfmjwb.txt, C, , Setup:AdaptivePass, \"Original\", \"ohm\", \"nH\", \"fF\", \"mSie\", 5000000000, Maxwell, 10, False\n",
      "INFO 02:39PM [get_matrix]: Exporting matrix data to (C:\\Users\\slab\\AppData\\Local\\Temp\\tmpp3g48_p0.txt, C, , Setup:AdaptivePass, \"Original\", \"ohm\", \"nH\", \"fF\", \"mSie\", 5000000000, Maxwell, 11, False\n",
      "INFO 02:39PM [get_matrix]: Exporting matrix data to (C:\\Users\\slab\\AppData\\Local\\Temp\\tmpwnhh11ej.txt, C, , Setup:LastAdaptive, \"Original\", \"ohm\", \"nH\", \"fF\", \"mSie\", 5000000000, Maxwell, 1, False\n",
      "INFO 02:39PM [get_matrix]: Exporting matrix data to (C:\\Users\\slab\\AppData\\Local\\Temp\\tmp3xfyu6mj.txt, C, , Setup:AdaptivePass, \"Original\", \"ohm\", \"nH\", \"fF\", \"mSie\", 5000000000, Maxwell, 1, False\n",
      "INFO 02:39PM [get_matrix]: Exporting matrix data to (C:\\Users\\slab\\AppData\\Local\\Temp\\tmp7oe44d5g.txt, C, , Setup:AdaptivePass, \"Original\", \"ohm\", \"nH\", \"fF\", \"mSie\", 5000000000, Maxwell, 2, False\n",
      "INFO 02:39PM [get_matrix]: Exporting matrix data to (C:\\Users\\slab\\AppData\\Local\\Temp\\tmp8trs6ne9.txt, C, , Setup:AdaptivePass, \"Original\", \"ohm\", \"nH\", \"fF\", \"mSie\", 5000000000, Maxwell, 3, False\n",
      "INFO 02:39PM [get_matrix]: Exporting matrix data to (C:\\Users\\slab\\AppData\\Local\\Temp\\tmpxnze4ikj.txt, C, , Setup:AdaptivePass, \"Original\", \"ohm\", \"nH\", \"fF\", \"mSie\", 5000000000, Maxwell, 4, False\n",
      "INFO 02:39PM [get_matrix]: Exporting matrix data to (C:\\Users\\slab\\AppData\\Local\\Temp\\tmprbf2l9k9.txt, C, , Setup:AdaptivePass, \"Original\", \"ohm\", \"nH\", \"fF\", \"mSie\", 5000000000, Maxwell, 5, False\n",
      "INFO 02:39PM [get_matrix]: Exporting matrix data to (C:\\Users\\slab\\AppData\\Local\\Temp\\tmpl7r3td_o.txt, C, , Setup:AdaptivePass, \"Original\", \"ohm\", \"nH\", \"fF\", \"mSie\", 5000000000, Maxwell, 6, False\n",
      "INFO 02:39PM [get_matrix]: Exporting matrix data to (C:\\Users\\slab\\AppData\\Local\\Temp\\tmpsck8v4f7.txt, C, , Setup:AdaptivePass, \"Original\", \"ohm\", \"nH\", \"fF\", \"mSie\", 5000000000, Maxwell, 7, False\n",
      "INFO 02:39PM [get_matrix]: Exporting matrix data to (C:\\Users\\slab\\AppData\\Local\\Temp\\tmp2qqmux0l.txt, C, , Setup:AdaptivePass, \"Original\", \"ohm\", \"nH\", \"fF\", \"mSie\", 5000000000, Maxwell, 8, False\n",
      "INFO 02:39PM [get_matrix]: Exporting matrix data to (C:\\Users\\slab\\AppData\\Local\\Temp\\tmp8ji7_9fe.txt, C, , Setup:AdaptivePass, \"Original\", \"ohm\", \"nH\", \"fF\", \"mSie\", 5000000000, Maxwell, 9, False\n",
      "INFO 02:39PM [get_matrix]: Exporting matrix data to (C:\\Users\\slab\\AppData\\Local\\Temp\\tmp1fhxtwlr.txt, C, , Setup:AdaptivePass, \"Original\", \"ohm\", \"nH\", \"fF\", \"mSie\", 5000000000, Maxwell, 10, False\n",
      "INFO 02:39PM [get_matrix]: Exporting matrix data to (C:\\Users\\slab\\AppData\\Local\\Temp\\tmp3rmiw0zg.txt, C, , Setup:AdaptivePass, \"Original\", \"ohm\", \"nH\", \"fF\", \"mSie\", 5000000000, Maxwell, 11, False\n"
     ]
    },
    {
     "name": "stdout",
     "output_type": "stream",
     "text": [
      "                    a_connector_pad_Q1  ground_main_plane  pad_top_Q1\n",
      "a_connector_pad_Q1            22.24298          -12.44254    -9.45822\n",
      "ground_main_plane            -12.44254          134.12244   -81.61486\n",
      "pad_top_Q1                    -9.45822          -81.61486    94.78006\n"
     ]
    },
    {
     "name": "stderr",
     "output_type": "stream",
     "text": [
      "INFO 02:39PM [connect_design]: \tOpened active design\n",
      "\tDesign:    Design_q3d [Solution type: Q3D]\n",
      "INFO 02:39PM [get_setup]: \tOpened setup `Setup`  (<class 'pyEPR.ansys.AnsysQ3DSetup'>)\n",
      "INFO 02:39PM [analyze]: Analyzing setup Setup\n",
      "INFO 02:40PM [get_matrix]: Exporting matrix data to (C:\\Users\\slab\\AppData\\Local\\Temp\\tmpie2nlo_2.txt, C, , Setup:LastAdaptive, \"Original\", \"ohm\", \"nH\", \"fF\", \"mSie\", 5000000000, Maxwell, 1, False\n",
      "INFO 02:40PM [get_matrix]: Exporting matrix data to (C:\\Users\\slab\\AppData\\Local\\Temp\\tmpw83bjkow.txt, C, , Setup:AdaptivePass, \"Original\", \"ohm\", \"nH\", \"fF\", \"mSie\", 5000000000, Maxwell, 1, False\n",
      "INFO 02:40PM [get_matrix]: Exporting matrix data to (C:\\Users\\slab\\AppData\\Local\\Temp\\tmp2tykmogb.txt, C, , Setup:AdaptivePass, \"Original\", \"ohm\", \"nH\", \"fF\", \"mSie\", 5000000000, Maxwell, 2, False\n",
      "INFO 02:40PM [get_matrix]: Exporting matrix data to (C:\\Users\\slab\\AppData\\Local\\Temp\\tmpfmnypgao.txt, C, , Setup:AdaptivePass, \"Original\", \"ohm\", \"nH\", \"fF\", \"mSie\", 5000000000, Maxwell, 3, False\n",
      "INFO 02:40PM [get_matrix]: Exporting matrix data to (C:\\Users\\slab\\AppData\\Local\\Temp\\tmpoo1a1xkl.txt, C, , Setup:AdaptivePass, \"Original\", \"ohm\", \"nH\", \"fF\", \"mSie\", 5000000000, Maxwell, 4, False\n",
      "INFO 02:40PM [get_matrix]: Exporting matrix data to (C:\\Users\\slab\\AppData\\Local\\Temp\\tmp5uudtwxg.txt, C, , Setup:AdaptivePass, \"Original\", \"ohm\", \"nH\", \"fF\", \"mSie\", 5000000000, Maxwell, 5, False\n",
      "INFO 02:40PM [get_matrix]: Exporting matrix data to (C:\\Users\\slab\\AppData\\Local\\Temp\\tmpr_1wssns.txt, C, , Setup:AdaptivePass, \"Original\", \"ohm\", \"nH\", \"fF\", \"mSie\", 5000000000, Maxwell, 6, False\n",
      "INFO 02:40PM [get_matrix]: Exporting matrix data to (C:\\Users\\slab\\AppData\\Local\\Temp\\tmpsw4vuupq.txt, C, , Setup:AdaptivePass, \"Original\", \"ohm\", \"nH\", \"fF\", \"mSie\", 5000000000, Maxwell, 7, False\n",
      "INFO 02:40PM [get_matrix]: Exporting matrix data to (C:\\Users\\slab\\AppData\\Local\\Temp\\tmpq43r8r8z.txt, C, , Setup:AdaptivePass, \"Original\", \"ohm\", \"nH\", \"fF\", \"mSie\", 5000000000, Maxwell, 8, False\n",
      "INFO 02:40PM [get_matrix]: Exporting matrix data to (C:\\Users\\slab\\AppData\\Local\\Temp\\tmp40jtm4if.txt, C, , Setup:AdaptivePass, \"Original\", \"ohm\", \"nH\", \"fF\", \"mSie\", 5000000000, Maxwell, 9, False\n",
      "INFO 02:40PM [get_matrix]: Exporting matrix data to (C:\\Users\\slab\\AppData\\Local\\Temp\\tmpx7fhxwht.txt, C, , Setup:AdaptivePass, \"Original\", \"ohm\", \"nH\", \"fF\", \"mSie\", 5000000000, Maxwell, 10, False\n",
      "INFO 02:40PM [get_matrix]: Exporting matrix data to (C:\\Users\\slab\\AppData\\Local\\Temp\\tmp5bdp9hj_.txt, C, , Setup:AdaptivePass, \"Original\", \"ohm\", \"nH\", \"fF\", \"mSie\", 5000000000, Maxwell, 11, False\n",
      "INFO 02:40PM [get_matrix]: Exporting matrix data to (C:\\Users\\slab\\AppData\\Local\\Temp\\tmpucykoxc2.txt, C, , Setup:LastAdaptive, \"Original\", \"ohm\", \"nH\", \"fF\", \"mSie\", 5000000000, Maxwell, 1, False\n",
      "INFO 02:40PM [get_matrix]: Exporting matrix data to (C:\\Users\\slab\\AppData\\Local\\Temp\\tmpxaevdw_k.txt, C, , Setup:AdaptivePass, \"Original\", \"ohm\", \"nH\", \"fF\", \"mSie\", 5000000000, Maxwell, 1, False\n",
      "INFO 02:40PM [get_matrix]: Exporting matrix data to (C:\\Users\\slab\\AppData\\Local\\Temp\\tmp1w8y5dlr.txt, C, , Setup:AdaptivePass, \"Original\", \"ohm\", \"nH\", \"fF\", \"mSie\", 5000000000, Maxwell, 2, False\n",
      "INFO 02:40PM [get_matrix]: Exporting matrix data to (C:\\Users\\slab\\AppData\\Local\\Temp\\tmp4fk1czp0.txt, C, , Setup:AdaptivePass, \"Original\", \"ohm\", \"nH\", \"fF\", \"mSie\", 5000000000, Maxwell, 3, False\n",
      "INFO 02:40PM [get_matrix]: Exporting matrix data to (C:\\Users\\slab\\AppData\\Local\\Temp\\tmpyi1hs2jl.txt, C, , Setup:AdaptivePass, \"Original\", \"ohm\", \"nH\", \"fF\", \"mSie\", 5000000000, Maxwell, 4, False\n",
      "INFO 02:40PM [get_matrix]: Exporting matrix data to (C:\\Users\\slab\\AppData\\Local\\Temp\\tmplrg1b6pd.txt, C, , Setup:AdaptivePass, \"Original\", \"ohm\", \"nH\", \"fF\", \"mSie\", 5000000000, Maxwell, 5, False\n",
      "INFO 02:40PM [get_matrix]: Exporting matrix data to (C:\\Users\\slab\\AppData\\Local\\Temp\\tmpc7om9wva.txt, C, , Setup:AdaptivePass, \"Original\", \"ohm\", \"nH\", \"fF\", \"mSie\", 5000000000, Maxwell, 6, False\n",
      "INFO 02:40PM [get_matrix]: Exporting matrix data to (C:\\Users\\slab\\AppData\\Local\\Temp\\tmp84uxu2g2.txt, C, , Setup:AdaptivePass, \"Original\", \"ohm\", \"nH\", \"fF\", \"mSie\", 5000000000, Maxwell, 7, False\n",
      "INFO 02:40PM [get_matrix]: Exporting matrix data to (C:\\Users\\slab\\AppData\\Local\\Temp\\tmpw26a4len.txt, C, , Setup:AdaptivePass, \"Original\", \"ohm\", \"nH\", \"fF\", \"mSie\", 5000000000, Maxwell, 8, False\n",
      "INFO 02:40PM [get_matrix]: Exporting matrix data to (C:\\Users\\slab\\AppData\\Local\\Temp\\tmpfqge0tkg.txt, C, , Setup:AdaptivePass, \"Original\", \"ohm\", \"nH\", \"fF\", \"mSie\", 5000000000, Maxwell, 9, False\n",
      "INFO 02:40PM [get_matrix]: Exporting matrix data to (C:\\Users\\slab\\AppData\\Local\\Temp\\tmpiapoqlvo.txt, C, , Setup:AdaptivePass, \"Original\", \"ohm\", \"nH\", \"fF\", \"mSie\", 5000000000, Maxwell, 10, False\n",
      "INFO 02:40PM [get_matrix]: Exporting matrix data to (C:\\Users\\slab\\AppData\\Local\\Temp\\tmp4f22q223.txt, C, , Setup:AdaptivePass, \"Original\", \"ohm\", \"nH\", \"fF\", \"mSie\", 5000000000, Maxwell, 11, False\n"
     ]
    },
    {
     "name": "stdout",
     "output_type": "stream",
     "text": [
      "                    a_connector_pad_Q1  ground_main_plane  pad_top_Q1\n",
      "a_connector_pad_Q1            22.24587          -12.42959    -9.50093\n",
      "ground_main_plane            -12.42959          137.63983   -84.93725\n",
      "pad_top_Q1                    -9.50093          -84.93725    98.33970\n"
     ]
    },
    {
     "name": "stderr",
     "output_type": "stream",
     "text": [
      "INFO 02:40PM [connect_design]: \tOpened active design\n",
      "\tDesign:    Design_q3d [Solution type: Q3D]\n",
      "INFO 02:40PM [get_setup]: \tOpened setup `Setup`  (<class 'pyEPR.ansys.AnsysQ3DSetup'>)\n",
      "INFO 02:40PM [analyze]: Analyzing setup Setup\n",
      "INFO 02:41PM [get_matrix]: Exporting matrix data to (C:\\Users\\slab\\AppData\\Local\\Temp\\tmpm2qb6_r4.txt, C, , Setup:LastAdaptive, \"Original\", \"ohm\", \"nH\", \"fF\", \"mSie\", 5000000000, Maxwell, 1, False\n",
      "INFO 02:41PM [get_matrix]: Exporting matrix data to (C:\\Users\\slab\\AppData\\Local\\Temp\\tmpypzzadpn.txt, C, , Setup:AdaptivePass, \"Original\", \"ohm\", \"nH\", \"fF\", \"mSie\", 5000000000, Maxwell, 1, False\n",
      "INFO 02:41PM [get_matrix]: Exporting matrix data to (C:\\Users\\slab\\AppData\\Local\\Temp\\tmpfdja0s5e.txt, C, , Setup:AdaptivePass, \"Original\", \"ohm\", \"nH\", \"fF\", \"mSie\", 5000000000, Maxwell, 2, False\n",
      "INFO 02:41PM [get_matrix]: Exporting matrix data to (C:\\Users\\slab\\AppData\\Local\\Temp\\tmp9pr0b_u4.txt, C, , Setup:AdaptivePass, \"Original\", \"ohm\", \"nH\", \"fF\", \"mSie\", 5000000000, Maxwell, 3, False\n",
      "INFO 02:41PM [get_matrix]: Exporting matrix data to (C:\\Users\\slab\\AppData\\Local\\Temp\\tmphv3ib3fq.txt, C, , Setup:AdaptivePass, \"Original\", \"ohm\", \"nH\", \"fF\", \"mSie\", 5000000000, Maxwell, 4, False\n",
      "INFO 02:41PM [get_matrix]: Exporting matrix data to (C:\\Users\\slab\\AppData\\Local\\Temp\\tmp0xq53145.txt, C, , Setup:AdaptivePass, \"Original\", \"ohm\", \"nH\", \"fF\", \"mSie\", 5000000000, Maxwell, 5, False\n",
      "INFO 02:41PM [get_matrix]: Exporting matrix data to (C:\\Users\\slab\\AppData\\Local\\Temp\\tmpbbr_jmd5.txt, C, , Setup:AdaptivePass, \"Original\", \"ohm\", \"nH\", \"fF\", \"mSie\", 5000000000, Maxwell, 6, False\n",
      "INFO 02:41PM [get_matrix]: Exporting matrix data to (C:\\Users\\slab\\AppData\\Local\\Temp\\tmpd99lkoi_.txt, C, , Setup:AdaptivePass, \"Original\", \"ohm\", \"nH\", \"fF\", \"mSie\", 5000000000, Maxwell, 7, False\n",
      "INFO 02:41PM [get_matrix]: Exporting matrix data to (C:\\Users\\slab\\AppData\\Local\\Temp\\tmptpyzyvea.txt, C, , Setup:AdaptivePass, \"Original\", \"ohm\", \"nH\", \"fF\", \"mSie\", 5000000000, Maxwell, 8, False\n",
      "INFO 02:41PM [get_matrix]: Exporting matrix data to (C:\\Users\\slab\\AppData\\Local\\Temp\\tmppdgaulg0.txt, C, , Setup:AdaptivePass, \"Original\", \"ohm\", \"nH\", \"fF\", \"mSie\", 5000000000, Maxwell, 9, False\n",
      "INFO 02:41PM [get_matrix]: Exporting matrix data to (C:\\Users\\slab\\AppData\\Local\\Temp\\tmpo5nx3ehi.txt, C, , Setup:AdaptivePass, \"Original\", \"ohm\", \"nH\", \"fF\", \"mSie\", 5000000000, Maxwell, 10, False\n",
      "INFO 02:41PM [get_matrix]: Exporting matrix data to (C:\\Users\\slab\\AppData\\Local\\Temp\\tmpkd52puwl.txt, C, , Setup:AdaptivePass, \"Original\", \"ohm\", \"nH\", \"fF\", \"mSie\", 5000000000, Maxwell, 11, False\n",
      "INFO 02:41PM [get_matrix]: Exporting matrix data to (C:\\Users\\slab\\AppData\\Local\\Temp\\tmp6qfe2o7f.txt, C, , Setup:LastAdaptive, \"Original\", \"ohm\", \"nH\", \"fF\", \"mSie\", 5000000000, Maxwell, 1, False\n",
      "INFO 02:41PM [get_matrix]: Exporting matrix data to (C:\\Users\\slab\\AppData\\Local\\Temp\\tmpz6hv7hfi.txt, C, , Setup:AdaptivePass, \"Original\", \"ohm\", \"nH\", \"fF\", \"mSie\", 5000000000, Maxwell, 1, False\n",
      "INFO 02:41PM [get_matrix]: Exporting matrix data to (C:\\Users\\slab\\AppData\\Local\\Temp\\tmpkvpz530v.txt, C, , Setup:AdaptivePass, \"Original\", \"ohm\", \"nH\", \"fF\", \"mSie\", 5000000000, Maxwell, 2, False\n",
      "INFO 02:41PM [get_matrix]: Exporting matrix data to (C:\\Users\\slab\\AppData\\Local\\Temp\\tmpngkja0l8.txt, C, , Setup:AdaptivePass, \"Original\", \"ohm\", \"nH\", \"fF\", \"mSie\", 5000000000, Maxwell, 3, False\n",
      "INFO 02:41PM [get_matrix]: Exporting matrix data to (C:\\Users\\slab\\AppData\\Local\\Temp\\tmpm1xzs_05.txt, C, , Setup:AdaptivePass, \"Original\", \"ohm\", \"nH\", \"fF\", \"mSie\", 5000000000, Maxwell, 4, False\n",
      "INFO 02:41PM [get_matrix]: Exporting matrix data to (C:\\Users\\slab\\AppData\\Local\\Temp\\tmpn15ydplw.txt, C, , Setup:AdaptivePass, \"Original\", \"ohm\", \"nH\", \"fF\", \"mSie\", 5000000000, Maxwell, 5, False\n",
      "INFO 02:41PM [get_matrix]: Exporting matrix data to (C:\\Users\\slab\\AppData\\Local\\Temp\\tmpagtc9b41.txt, C, , Setup:AdaptivePass, \"Original\", \"ohm\", \"nH\", \"fF\", \"mSie\", 5000000000, Maxwell, 6, False\n",
      "INFO 02:41PM [get_matrix]: Exporting matrix data to (C:\\Users\\slab\\AppData\\Local\\Temp\\tmp22upgyy1.txt, C, , Setup:AdaptivePass, \"Original\", \"ohm\", \"nH\", \"fF\", \"mSie\", 5000000000, Maxwell, 7, False\n",
      "INFO 02:41PM [get_matrix]: Exporting matrix data to (C:\\Users\\slab\\AppData\\Local\\Temp\\tmpw_centun.txt, C, , Setup:AdaptivePass, \"Original\", \"ohm\", \"nH\", \"fF\", \"mSie\", 5000000000, Maxwell, 8, False\n",
      "INFO 02:41PM [get_matrix]: Exporting matrix data to (C:\\Users\\slab\\AppData\\Local\\Temp\\tmpi9kyrjmy.txt, C, , Setup:AdaptivePass, \"Original\", \"ohm\", \"nH\", \"fF\", \"mSie\", 5000000000, Maxwell, 9, False\n",
      "INFO 02:41PM [get_matrix]: Exporting matrix data to (C:\\Users\\slab\\AppData\\Local\\Temp\\tmpk4ruwtaj.txt, C, , Setup:AdaptivePass, \"Original\", \"ohm\", \"nH\", \"fF\", \"mSie\", 5000000000, Maxwell, 10, False\n",
      "INFO 02:41PM [get_matrix]: Exporting matrix data to (C:\\Users\\slab\\AppData\\Local\\Temp\\tmpxs_3uv21.txt, C, , Setup:AdaptivePass, \"Original\", \"ohm\", \"nH\", \"fF\", \"mSie\", 5000000000, Maxwell, 11, False\n"
     ]
    },
    {
     "name": "stdout",
     "output_type": "stream",
     "text": [
      "                    a_connector_pad_Q1  ground_main_plane  pad_top_Q1\n",
      "a_connector_pad_Q1            22.24262          -12.43357    -9.52472\n",
      "ground_main_plane            -12.43357          140.94034   -88.13539\n",
      "pad_top_Q1                    -9.52472          -88.13539   101.74512\n"
     ]
    },
    {
     "name": "stderr",
     "output_type": "stream",
     "text": [
      "INFO 02:41PM [connect_design]: \tOpened active design\n",
      "\tDesign:    Design_q3d [Solution type: Q3D]\n",
      "INFO 02:41PM [get_setup]: \tOpened setup `Setup`  (<class 'pyEPR.ansys.AnsysQ3DSetup'>)\n",
      "INFO 02:41PM [analyze]: Analyzing setup Setup\n",
      "INFO 02:41PM [get_matrix]: Exporting matrix data to (C:\\Users\\slab\\AppData\\Local\\Temp\\tmp6p7fq81h.txt, C, , Setup:LastAdaptive, \"Original\", \"ohm\", \"nH\", \"fF\", \"mSie\", 5000000000, Maxwell, 1, False\n",
      "INFO 02:41PM [get_matrix]: Exporting matrix data to (C:\\Users\\slab\\AppData\\Local\\Temp\\tmpu0r4wv8y.txt, C, , Setup:AdaptivePass, \"Original\", \"ohm\", \"nH\", \"fF\", \"mSie\", 5000000000, Maxwell, 1, False\n",
      "INFO 02:41PM [get_matrix]: Exporting matrix data to (C:\\Users\\slab\\AppData\\Local\\Temp\\tmplqibxmiv.txt, C, , Setup:AdaptivePass, \"Original\", \"ohm\", \"nH\", \"fF\", \"mSie\", 5000000000, Maxwell, 2, False\n",
      "INFO 02:41PM [get_matrix]: Exporting matrix data to (C:\\Users\\slab\\AppData\\Local\\Temp\\tmpag4puj6t.txt, C, , Setup:AdaptivePass, \"Original\", \"ohm\", \"nH\", \"fF\", \"mSie\", 5000000000, Maxwell, 3, False\n",
      "INFO 02:41PM [get_matrix]: Exporting matrix data to (C:\\Users\\slab\\AppData\\Local\\Temp\\tmp7vlwtk79.txt, C, , Setup:AdaptivePass, \"Original\", \"ohm\", \"nH\", \"fF\", \"mSie\", 5000000000, Maxwell, 4, False\n",
      "INFO 02:41PM [get_matrix]: Exporting matrix data to (C:\\Users\\slab\\AppData\\Local\\Temp\\tmpt3ae5tm4.txt, C, , Setup:AdaptivePass, \"Original\", \"ohm\", \"nH\", \"fF\", \"mSie\", 5000000000, Maxwell, 5, False\n",
      "INFO 02:41PM [get_matrix]: Exporting matrix data to (C:\\Users\\slab\\AppData\\Local\\Temp\\tmpi1l83qqb.txt, C, , Setup:AdaptivePass, \"Original\", \"ohm\", \"nH\", \"fF\", \"mSie\", 5000000000, Maxwell, 6, False\n",
      "INFO 02:41PM [get_matrix]: Exporting matrix data to (C:\\Users\\slab\\AppData\\Local\\Temp\\tmpig6i01z8.txt, C, , Setup:AdaptivePass, \"Original\", \"ohm\", \"nH\", \"fF\", \"mSie\", 5000000000, Maxwell, 7, False\n",
      "INFO 02:41PM [get_matrix]: Exporting matrix data to (C:\\Users\\slab\\AppData\\Local\\Temp\\tmpjx8zw6l2.txt, C, , Setup:AdaptivePass, \"Original\", \"ohm\", \"nH\", \"fF\", \"mSie\", 5000000000, Maxwell, 8, False\n",
      "INFO 02:41PM [get_matrix]: Exporting matrix data to (C:\\Users\\slab\\AppData\\Local\\Temp\\tmpn1rdk21g.txt, C, , Setup:AdaptivePass, \"Original\", \"ohm\", \"nH\", \"fF\", \"mSie\", 5000000000, Maxwell, 9, False\n",
      "INFO 02:41PM [get_matrix]: Exporting matrix data to (C:\\Users\\slab\\AppData\\Local\\Temp\\tmp4qir_57v.txt, C, , Setup:AdaptivePass, \"Original\", \"ohm\", \"nH\", \"fF\", \"mSie\", 5000000000, Maxwell, 10, False\n",
      "INFO 02:41PM [get_matrix]: Exporting matrix data to (C:\\Users\\slab\\AppData\\Local\\Temp\\tmpnj49wuen.txt, C, , Setup:AdaptivePass, \"Original\", \"ohm\", \"nH\", \"fF\", \"mSie\", 5000000000, Maxwell, 11, False\n",
      "INFO 02:41PM [get_matrix]: Exporting matrix data to (C:\\Users\\slab\\AppData\\Local\\Temp\\tmpjy19gzqd.txt, C, , Setup:LastAdaptive, \"Original\", \"ohm\", \"nH\", \"fF\", \"mSie\", 5000000000, Maxwell, 1, False\n",
      "INFO 02:41PM [get_matrix]: Exporting matrix data to (C:\\Users\\slab\\AppData\\Local\\Temp\\tmp4h1hq13i.txt, C, , Setup:AdaptivePass, \"Original\", \"ohm\", \"nH\", \"fF\", \"mSie\", 5000000000, Maxwell, 1, False\n",
      "INFO 02:41PM [get_matrix]: Exporting matrix data to (C:\\Users\\slab\\AppData\\Local\\Temp\\tmpekk_nnsq.txt, C, , Setup:AdaptivePass, \"Original\", \"ohm\", \"nH\", \"fF\", \"mSie\", 5000000000, Maxwell, 2, False\n",
      "INFO 02:41PM [get_matrix]: Exporting matrix data to (C:\\Users\\slab\\AppData\\Local\\Temp\\tmp6qtztf59.txt, C, , Setup:AdaptivePass, \"Original\", \"ohm\", \"nH\", \"fF\", \"mSie\", 5000000000, Maxwell, 3, False\n",
      "INFO 02:41PM [get_matrix]: Exporting matrix data to (C:\\Users\\slab\\AppData\\Local\\Temp\\tmple0ztcg2.txt, C, , Setup:AdaptivePass, \"Original\", \"ohm\", \"nH\", \"fF\", \"mSie\", 5000000000, Maxwell, 4, False\n",
      "INFO 02:41PM [get_matrix]: Exporting matrix data to (C:\\Users\\slab\\AppData\\Local\\Temp\\tmpeyg3b13w.txt, C, , Setup:AdaptivePass, \"Original\", \"ohm\", \"nH\", \"fF\", \"mSie\", 5000000000, Maxwell, 5, False\n",
      "INFO 02:41PM [get_matrix]: Exporting matrix data to (C:\\Users\\slab\\AppData\\Local\\Temp\\tmphqzl0kbi.txt, C, , Setup:AdaptivePass, \"Original\", \"ohm\", \"nH\", \"fF\", \"mSie\", 5000000000, Maxwell, 6, False\n",
      "INFO 02:41PM [get_matrix]: Exporting matrix data to (C:\\Users\\slab\\AppData\\Local\\Temp\\tmp2jgoly9s.txt, C, , Setup:AdaptivePass, \"Original\", \"ohm\", \"nH\", \"fF\", \"mSie\", 5000000000, Maxwell, 7, False\n",
      "INFO 02:41PM [get_matrix]: Exporting matrix data to (C:\\Users\\slab\\AppData\\Local\\Temp\\tmpmjt2tisy.txt, C, , Setup:AdaptivePass, \"Original\", \"ohm\", \"nH\", \"fF\", \"mSie\", 5000000000, Maxwell, 8, False\n",
      "INFO 02:41PM [get_matrix]: Exporting matrix data to (C:\\Users\\slab\\AppData\\Local\\Temp\\tmpv_27ypui.txt, C, , Setup:AdaptivePass, \"Original\", \"ohm\", \"nH\", \"fF\", \"mSie\", 5000000000, Maxwell, 9, False\n",
      "INFO 02:41PM [get_matrix]: Exporting matrix data to (C:\\Users\\slab\\AppData\\Local\\Temp\\tmps1hvcbjp.txt, C, , Setup:AdaptivePass, \"Original\", \"ohm\", \"nH\", \"fF\", \"mSie\", 5000000000, Maxwell, 10, False\n",
      "INFO 02:41PM [get_matrix]: Exporting matrix data to (C:\\Users\\slab\\AppData\\Local\\Temp\\tmp3w3_eo6_.txt, C, , Setup:AdaptivePass, \"Original\", \"ohm\", \"nH\", \"fF\", \"mSie\", 5000000000, Maxwell, 11, False\n"
     ]
    },
    {
     "name": "stdout",
     "output_type": "stream",
     "text": [
      "                    a_connector_pad_Q1  ground_main_plane  pad_top_Q1\n",
      "a_connector_pad_Q1            22.22765          -12.39716    -9.54877\n",
      "ground_main_plane            -12.39716          144.39059   -91.43221\n",
      "pad_top_Q1                    -9.54877          -91.43221   105.23627\n"
     ]
    },
    {
     "name": "stderr",
     "output_type": "stream",
     "text": [
      "INFO 02:41PM [connect_design]: \tOpened active design\n",
      "\tDesign:    Design_q3d [Solution type: Q3D]\n",
      "INFO 02:41PM [get_setup]: \tOpened setup `Setup`  (<class 'pyEPR.ansys.AnsysQ3DSetup'>)\n",
      "INFO 02:41PM [analyze]: Analyzing setup Setup\n",
      "INFO 02:42PM [get_matrix]: Exporting matrix data to (C:\\Users\\slab\\AppData\\Local\\Temp\\tmpz2w_ec8_.txt, C, , Setup:LastAdaptive, \"Original\", \"ohm\", \"nH\", \"fF\", \"mSie\", 5000000000, Maxwell, 1, False\n",
      "INFO 02:42PM [get_matrix]: Exporting matrix data to (C:\\Users\\slab\\AppData\\Local\\Temp\\tmprjr_mwsq.txt, C, , Setup:AdaptivePass, \"Original\", \"ohm\", \"nH\", \"fF\", \"mSie\", 5000000000, Maxwell, 1, False\n",
      "INFO 02:42PM [get_matrix]: Exporting matrix data to (C:\\Users\\slab\\AppData\\Local\\Temp\\tmp4s8q0go5.txt, C, , Setup:AdaptivePass, \"Original\", \"ohm\", \"nH\", \"fF\", \"mSie\", 5000000000, Maxwell, 2, False\n",
      "INFO 02:42PM [get_matrix]: Exporting matrix data to (C:\\Users\\slab\\AppData\\Local\\Temp\\tmpmlrbt1e_.txt, C, , Setup:AdaptivePass, \"Original\", \"ohm\", \"nH\", \"fF\", \"mSie\", 5000000000, Maxwell, 3, False\n",
      "INFO 02:42PM [get_matrix]: Exporting matrix data to (C:\\Users\\slab\\AppData\\Local\\Temp\\tmpf_n1nbaf.txt, C, , Setup:AdaptivePass, \"Original\", \"ohm\", \"nH\", \"fF\", \"mSie\", 5000000000, Maxwell, 4, False\n",
      "INFO 02:42PM [get_matrix]: Exporting matrix data to (C:\\Users\\slab\\AppData\\Local\\Temp\\tmpguk4gp0p.txt, C, , Setup:AdaptivePass, \"Original\", \"ohm\", \"nH\", \"fF\", \"mSie\", 5000000000, Maxwell, 5, False\n",
      "INFO 02:42PM [get_matrix]: Exporting matrix data to (C:\\Users\\slab\\AppData\\Local\\Temp\\tmp_tzqu5cf.txt, C, , Setup:AdaptivePass, \"Original\", \"ohm\", \"nH\", \"fF\", \"mSie\", 5000000000, Maxwell, 6, False\n",
      "INFO 02:42PM [get_matrix]: Exporting matrix data to (C:\\Users\\slab\\AppData\\Local\\Temp\\tmp7r_wf3qx.txt, C, , Setup:AdaptivePass, \"Original\", \"ohm\", \"nH\", \"fF\", \"mSie\", 5000000000, Maxwell, 7, False\n",
      "INFO 02:42PM [get_matrix]: Exporting matrix data to (C:\\Users\\slab\\AppData\\Local\\Temp\\tmpy_a6a_1o.txt, C, , Setup:AdaptivePass, \"Original\", \"ohm\", \"nH\", \"fF\", \"mSie\", 5000000000, Maxwell, 8, False\n",
      "INFO 02:42PM [get_matrix]: Exporting matrix data to (C:\\Users\\slab\\AppData\\Local\\Temp\\tmpflkimqoc.txt, C, , Setup:AdaptivePass, \"Original\", \"ohm\", \"nH\", \"fF\", \"mSie\", 5000000000, Maxwell, 9, False\n",
      "INFO 02:42PM [get_matrix]: Exporting matrix data to (C:\\Users\\slab\\AppData\\Local\\Temp\\tmpbp649ak7.txt, C, , Setup:AdaptivePass, \"Original\", \"ohm\", \"nH\", \"fF\", \"mSie\", 5000000000, Maxwell, 10, False\n",
      "INFO 02:42PM [get_matrix]: Exporting matrix data to (C:\\Users\\slab\\AppData\\Local\\Temp\\tmp4tpe7pzo.txt, C, , Setup:AdaptivePass, \"Original\", \"ohm\", \"nH\", \"fF\", \"mSie\", 5000000000, Maxwell, 11, False\n",
      "INFO 02:42PM [get_matrix]: Exporting matrix data to (C:\\Users\\slab\\AppData\\Local\\Temp\\tmpn4tln3ml.txt, C, , Setup:LastAdaptive, \"Original\", \"ohm\", \"nH\", \"fF\", \"mSie\", 5000000000, Maxwell, 1, False\n",
      "INFO 02:42PM [get_matrix]: Exporting matrix data to (C:\\Users\\slab\\AppData\\Local\\Temp\\tmpzrs6juxb.txt, C, , Setup:AdaptivePass, \"Original\", \"ohm\", \"nH\", \"fF\", \"mSie\", 5000000000, Maxwell, 1, False\n",
      "INFO 02:42PM [get_matrix]: Exporting matrix data to (C:\\Users\\slab\\AppData\\Local\\Temp\\tmp723tglh2.txt, C, , Setup:AdaptivePass, \"Original\", \"ohm\", \"nH\", \"fF\", \"mSie\", 5000000000, Maxwell, 2, False\n",
      "INFO 02:42PM [get_matrix]: Exporting matrix data to (C:\\Users\\slab\\AppData\\Local\\Temp\\tmp_z2m0tx1.txt, C, , Setup:AdaptivePass, \"Original\", \"ohm\", \"nH\", \"fF\", \"mSie\", 5000000000, Maxwell, 3, False\n",
      "INFO 02:42PM [get_matrix]: Exporting matrix data to (C:\\Users\\slab\\AppData\\Local\\Temp\\tmpdnkhe_j9.txt, C, , Setup:AdaptivePass, \"Original\", \"ohm\", \"nH\", \"fF\", \"mSie\", 5000000000, Maxwell, 4, False\n",
      "INFO 02:42PM [get_matrix]: Exporting matrix data to (C:\\Users\\slab\\AppData\\Local\\Temp\\tmpko8yqa1m.txt, C, , Setup:AdaptivePass, \"Original\", \"ohm\", \"nH\", \"fF\", \"mSie\", 5000000000, Maxwell, 5, False\n",
      "INFO 02:42PM [get_matrix]: Exporting matrix data to (C:\\Users\\slab\\AppData\\Local\\Temp\\tmp1oqdnfz3.txt, C, , Setup:AdaptivePass, \"Original\", \"ohm\", \"nH\", \"fF\", \"mSie\", 5000000000, Maxwell, 6, False\n",
      "INFO 02:42PM [get_matrix]: Exporting matrix data to (C:\\Users\\slab\\AppData\\Local\\Temp\\tmpvo26wuti.txt, C, , Setup:AdaptivePass, \"Original\", \"ohm\", \"nH\", \"fF\", \"mSie\", 5000000000, Maxwell, 7, False\n",
      "INFO 02:42PM [get_matrix]: Exporting matrix data to (C:\\Users\\slab\\AppData\\Local\\Temp\\tmpfwu5nz65.txt, C, , Setup:AdaptivePass, \"Original\", \"ohm\", \"nH\", \"fF\", \"mSie\", 5000000000, Maxwell, 8, False\n",
      "INFO 02:42PM [get_matrix]: Exporting matrix data to (C:\\Users\\slab\\AppData\\Local\\Temp\\tmpud54do6t.txt, C, , Setup:AdaptivePass, \"Original\", \"ohm\", \"nH\", \"fF\", \"mSie\", 5000000000, Maxwell, 9, False\n",
      "INFO 02:42PM [get_matrix]: Exporting matrix data to (C:\\Users\\slab\\AppData\\Local\\Temp\\tmpytmmbill.txt, C, , Setup:AdaptivePass, \"Original\", \"ohm\", \"nH\", \"fF\", \"mSie\", 5000000000, Maxwell, 10, False\n",
      "INFO 02:42PM [get_matrix]: Exporting matrix data to (C:\\Users\\slab\\AppData\\Local\\Temp\\tmp08lbkkup.txt, C, , Setup:AdaptivePass, \"Original\", \"ohm\", \"nH\", \"fF\", \"mSie\", 5000000000, Maxwell, 11, False\n"
     ]
    },
    {
     "name": "stdout",
     "output_type": "stream",
     "text": [
      "                    a_connector_pad_Q1  ground_main_plane  pad_top_Q1\n",
      "a_connector_pad_Q1            22.24252          -12.37630    -9.55689\n",
      "ground_main_plane            -12.37630          147.81051   -94.72229\n",
      "pad_top_Q1                    -9.55689          -94.72229   108.68013\n"
     ]
    },
    {
     "name": "stderr",
     "output_type": "stream",
     "text": [
      "INFO 02:42PM [connect_design]: \tOpened active design\n",
      "\tDesign:    Design_q3d [Solution type: Q3D]\n",
      "INFO 02:42PM [get_setup]: \tOpened setup `Setup`  (<class 'pyEPR.ansys.AnsysQ3DSetup'>)\n",
      "INFO 02:42PM [analyze]: Analyzing setup Setup\n",
      "INFO 02:43PM [get_matrix]: Exporting matrix data to (C:\\Users\\slab\\AppData\\Local\\Temp\\tmpjjmggt4p.txt, C, , Setup:LastAdaptive, \"Original\", \"ohm\", \"nH\", \"fF\", \"mSie\", 5000000000, Maxwell, 1, False\n",
      "INFO 02:43PM [get_matrix]: Exporting matrix data to (C:\\Users\\slab\\AppData\\Local\\Temp\\tmpnku626c6.txt, C, , Setup:AdaptivePass, \"Original\", \"ohm\", \"nH\", \"fF\", \"mSie\", 5000000000, Maxwell, 1, False\n",
      "INFO 02:43PM [get_matrix]: Exporting matrix data to (C:\\Users\\slab\\AppData\\Local\\Temp\\tmp_dps1nwj.txt, C, , Setup:AdaptivePass, \"Original\", \"ohm\", \"nH\", \"fF\", \"mSie\", 5000000000, Maxwell, 2, False\n",
      "INFO 02:43PM [get_matrix]: Exporting matrix data to (C:\\Users\\slab\\AppData\\Local\\Temp\\tmp8ena8727.txt, C, , Setup:AdaptivePass, \"Original\", \"ohm\", \"nH\", \"fF\", \"mSie\", 5000000000, Maxwell, 3, False\n",
      "INFO 02:43PM [get_matrix]: Exporting matrix data to (C:\\Users\\slab\\AppData\\Local\\Temp\\tmpzje7g5bj.txt, C, , Setup:AdaptivePass, \"Original\", \"ohm\", \"nH\", \"fF\", \"mSie\", 5000000000, Maxwell, 4, False\n",
      "INFO 02:43PM [get_matrix]: Exporting matrix data to (C:\\Users\\slab\\AppData\\Local\\Temp\\tmp1cd5mzsi.txt, C, , Setup:AdaptivePass, \"Original\", \"ohm\", \"nH\", \"fF\", \"mSie\", 5000000000, Maxwell, 5, False\n",
      "INFO 02:43PM [get_matrix]: Exporting matrix data to (C:\\Users\\slab\\AppData\\Local\\Temp\\tmpyps1lmvo.txt, C, , Setup:AdaptivePass, \"Original\", \"ohm\", \"nH\", \"fF\", \"mSie\", 5000000000, Maxwell, 6, False\n",
      "INFO 02:43PM [get_matrix]: Exporting matrix data to (C:\\Users\\slab\\AppData\\Local\\Temp\\tmpv6jy1dsz.txt, C, , Setup:AdaptivePass, \"Original\", \"ohm\", \"nH\", \"fF\", \"mSie\", 5000000000, Maxwell, 7, False\n",
      "INFO 02:43PM [get_matrix]: Exporting matrix data to (C:\\Users\\slab\\AppData\\Local\\Temp\\tmpzkk3fj5h.txt, C, , Setup:AdaptivePass, \"Original\", \"ohm\", \"nH\", \"fF\", \"mSie\", 5000000000, Maxwell, 8, False\n",
      "INFO 02:43PM [get_matrix]: Exporting matrix data to (C:\\Users\\slab\\AppData\\Local\\Temp\\tmp6ebt7i7x.txt, C, , Setup:AdaptivePass, \"Original\", \"ohm\", \"nH\", \"fF\", \"mSie\", 5000000000, Maxwell, 9, False\n",
      "INFO 02:43PM [get_matrix]: Exporting matrix data to (C:\\Users\\slab\\AppData\\Local\\Temp\\tmp1qholo7s.txt, C, , Setup:AdaptivePass, \"Original\", \"ohm\", \"nH\", \"fF\", \"mSie\", 5000000000, Maxwell, 10, False\n",
      "INFO 02:43PM [get_matrix]: Exporting matrix data to (C:\\Users\\slab\\AppData\\Local\\Temp\\tmpghtiimb9.txt, C, , Setup:AdaptivePass, \"Original\", \"ohm\", \"nH\", \"fF\", \"mSie\", 5000000000, Maxwell, 11, False\n",
      "INFO 02:43PM [get_matrix]: Exporting matrix data to (C:\\Users\\slab\\AppData\\Local\\Temp\\tmpsp_5_2z6.txt, C, , Setup:LastAdaptive, \"Original\", \"ohm\", \"nH\", \"fF\", \"mSie\", 5000000000, Maxwell, 1, False\n",
      "INFO 02:43PM [get_matrix]: Exporting matrix data to (C:\\Users\\slab\\AppData\\Local\\Temp\\tmp_uzo7r74.txt, C, , Setup:AdaptivePass, \"Original\", \"ohm\", \"nH\", \"fF\", \"mSie\", 5000000000, Maxwell, 1, False\n",
      "INFO 02:43PM [get_matrix]: Exporting matrix data to (C:\\Users\\slab\\AppData\\Local\\Temp\\tmpw3g1hf5e.txt, C, , Setup:AdaptivePass, \"Original\", \"ohm\", \"nH\", \"fF\", \"mSie\", 5000000000, Maxwell, 2, False\n",
      "INFO 02:43PM [get_matrix]: Exporting matrix data to (C:\\Users\\slab\\AppData\\Local\\Temp\\tmpz2fd_o2v.txt, C, , Setup:AdaptivePass, \"Original\", \"ohm\", \"nH\", \"fF\", \"mSie\", 5000000000, Maxwell, 3, False\n",
      "INFO 02:43PM [get_matrix]: Exporting matrix data to (C:\\Users\\slab\\AppData\\Local\\Temp\\tmpnnwm8pj5.txt, C, , Setup:AdaptivePass, \"Original\", \"ohm\", \"nH\", \"fF\", \"mSie\", 5000000000, Maxwell, 4, False\n",
      "INFO 02:43PM [get_matrix]: Exporting matrix data to (C:\\Users\\slab\\AppData\\Local\\Temp\\tmpibvxheuu.txt, C, , Setup:AdaptivePass, \"Original\", \"ohm\", \"nH\", \"fF\", \"mSie\", 5000000000, Maxwell, 5, False\n",
      "INFO 02:43PM [get_matrix]: Exporting matrix data to (C:\\Users\\slab\\AppData\\Local\\Temp\\tmp7vn6bpdf.txt, C, , Setup:AdaptivePass, \"Original\", \"ohm\", \"nH\", \"fF\", \"mSie\", 5000000000, Maxwell, 6, False\n",
      "INFO 02:43PM [get_matrix]: Exporting matrix data to (C:\\Users\\slab\\AppData\\Local\\Temp\\tmpkb1mef32.txt, C, , Setup:AdaptivePass, \"Original\", \"ohm\", \"nH\", \"fF\", \"mSie\", 5000000000, Maxwell, 7, False\n",
      "INFO 02:43PM [get_matrix]: Exporting matrix data to (C:\\Users\\slab\\AppData\\Local\\Temp\\tmpbafb7un5.txt, C, , Setup:AdaptivePass, \"Original\", \"ohm\", \"nH\", \"fF\", \"mSie\", 5000000000, Maxwell, 8, False\n",
      "INFO 02:43PM [get_matrix]: Exporting matrix data to (C:\\Users\\slab\\AppData\\Local\\Temp\\tmp2lfzvzq4.txt, C, , Setup:AdaptivePass, \"Original\", \"ohm\", \"nH\", \"fF\", \"mSie\", 5000000000, Maxwell, 9, False\n",
      "INFO 02:43PM [get_matrix]: Exporting matrix data to (C:\\Users\\slab\\AppData\\Local\\Temp\\tmpwg2t8ez1.txt, C, , Setup:AdaptivePass, \"Original\", \"ohm\", \"nH\", \"fF\", \"mSie\", 5000000000, Maxwell, 10, False\n",
      "INFO 02:43PM [get_matrix]: Exporting matrix data to (C:\\Users\\slab\\AppData\\Local\\Temp\\tmpeqdww__9.txt, C, , Setup:AdaptivePass, \"Original\", \"ohm\", \"nH\", \"fF\", \"mSie\", 5000000000, Maxwell, 11, False\n"
     ]
    },
    {
     "name": "stdout",
     "output_type": "stream",
     "text": [
      "                    a_connector_pad_Q1  ground_main_plane  pad_top_Q1\n",
      "a_connector_pad_Q1            22.25016          -12.36677    -9.55779\n",
      "ground_main_plane            -12.36677          151.22058   -98.01819\n",
      "pad_top_Q1                    -9.55779          -98.01819   112.12510\n"
     ]
    }
   ],
   "source": [
    "heights = np.linspace(70*u.um, 240*u.um, 15)\n",
    "result_height = []\n",
    "for height in heights:\n",
    "    result_height += [find_Cap(height)]"
   ]
  },
  {
   "attachments": {},
   "cell_type": "markdown",
   "metadata": {},
   "source": [
    "The plot below shows that if we make the pocket longer, where we also make the metal pad longer, then the capacitance increases"
   ]
  },
  {
   "cell_type": "code",
   "execution_count": 70,
   "metadata": {},
   "outputs": [
    {
     "data": {
      "image/png": "[encoded data removed]",
      "text/plain": [
       "<Figure size 640x480 with 1 Axes>"
      ]
     },
     "metadata": {},
     "output_type": "display_data"
    }
   ],
   "source": [
    "for i, r in enumerate(result_height):\n",
    "    plt.scatter(heights[i], -r['pad_top_Q1']['ground_main_plane'],color = 'black')\n",
    "plt.xlabel('Transmon Pocket Height (um)')\n",
    "plt.ylabel('Capacitance to Ground (fF)')\n",
    "plt.show()"
   ]
  },
  {
   "attachments": {},
   "cell_type": "markdown",
   "metadata": {},
   "source": [
    "### Function that takes in frequency and construct qubit design automatically"
   ]
  },
  {
   "cell_type": "code",
   "execution_count": 89,
   "metadata": {},
   "outputs": [],
   "source": [
    "phi0 = c.h/2/c.e.si\n",
    "T = 30*u.mK\n",
    "epsilon_r = 11.7"
   ]
  },
  {
   "cell_type": "code",
   "execution_count": 87,
   "metadata": {},
   "outputs": [],
   "source": [
    "def transmon_capacitance(Cq, target_freq):\n",
    "    Cq *= u.fF\n",
    "    # Cq = 100*u.fF\n",
    "    Lj = 10*u.nH\n",
    "    Ec = (c.e.si**2/2/Cq).to(u.J)\n",
    "    Ej = ((phi0/2/np.pi)**2/Lj).to(u.J)\n",
    "    # epsilon1 = -Ec*2**9\n",
    "    wq = (np.sqrt(8*Ej*Ec)-Ec)/c.hbar\n",
    "    fq = wq/2/np.pi\n",
    "    alpha = Ec/c.h\n",
    "    \n",
    "    return(fq-target_freq)"
   ]
  },
  {
   "cell_type": "code",
   "execution_count": 92,
   "metadata": {},
   "outputs": [],
   "source": [
    "target_freq = 4.5*u.GHz\n",
    "\n",
    "target_cap = optimize.fsolve(transmon_capacitance,100, args = (target_freq))[0]*u.fF\n"
   ]
  },
  {
   "cell_type": "code",
   "execution_count": 93,
   "metadata": {},
   "outputs": [
    {
     "data": {
      "text/latex": [
       "$116.3196 \\; \\mathrm{fF}$"
      ],
      "text/plain": [
       "<Quantity 116.3195991 fF>"
      ]
     },
     "execution_count": 93,
     "metadata": {},
     "output_type": "execute_result"
    }
   ],
   "source": [
    "target_cap"
   ]
  },
  {
   "cell_type": "code",
   "execution_count": 100,
   "metadata": {},
   "outputs": [
    {
     "name": "stderr",
     "output_type": "stream",
     "text": [
      "INFO 03:22PM [connect_design]: \tOpened active design\n",
      "\tDesign:    Design_q3d [Solution type: Q3D]\n",
      "INFO 03:23PM [get_setup]: \tOpened setup `Setup`  (<class 'pyEPR.ansys.AnsysQ3DSetup'>)\n",
      "INFO 03:23PM [analyze]: Analyzing setup Setup\n",
      "INFO 03:23PM [get_matrix]: Exporting matrix data to (C:\\Users\\slab\\AppData\\Local\\Temp\\tmposnp6ux5.txt, C, , Setup:LastAdaptive, \"Original\", \"ohm\", \"nH\", \"fF\", \"mSie\", 5000000000, Maxwell, 1, False\n",
      "INFO 03:23PM [get_matrix]: Exporting matrix data to (C:\\Users\\slab\\AppData\\Local\\Temp\\tmpwtcl9ovt.txt, C, , Setup:AdaptivePass, \"Original\", \"ohm\", \"nH\", \"fF\", \"mSie\", 5000000000, Maxwell, 1, False\n",
      "INFO 03:23PM [get_matrix]: Exporting matrix data to (C:\\Users\\slab\\AppData\\Local\\Temp\\tmpmims4c_z.txt, C, , Setup:AdaptivePass, \"Original\", \"ohm\", \"nH\", \"fF\", \"mSie\", 5000000000, Maxwell, 2, False\n",
      "INFO 03:23PM [get_matrix]: Exporting matrix data to (C:\\Users\\slab\\AppData\\Local\\Temp\\tmpjdqe0d07.txt, C, , Setup:AdaptivePass, \"Original\", \"ohm\", \"nH\", \"fF\", \"mSie\", 5000000000, Maxwell, 3, False\n",
      "INFO 03:23PM [get_matrix]: Exporting matrix data to (C:\\Users\\slab\\AppData\\Local\\Temp\\tmpirsfzluz.txt, C, , Setup:AdaptivePass, \"Original\", \"ohm\", \"nH\", \"fF\", \"mSie\", 5000000000, Maxwell, 4, False\n",
      "INFO 03:23PM [get_matrix]: Exporting matrix data to (C:\\Users\\slab\\AppData\\Local\\Temp\\tmpdukq1pav.txt, C, , Setup:AdaptivePass, \"Original\", \"ohm\", \"nH\", \"fF\", \"mSie\", 5000000000, Maxwell, 5, False\n",
      "INFO 03:23PM [get_matrix]: Exporting matrix data to (C:\\Users\\slab\\AppData\\Local\\Temp\\tmpwgnqe_7g.txt, C, , Setup:AdaptivePass, \"Original\", \"ohm\", \"nH\", \"fF\", \"mSie\", 5000000000, Maxwell, 6, False\n",
      "INFO 03:23PM [get_matrix]: Exporting matrix data to (C:\\Users\\slab\\AppData\\Local\\Temp\\tmpuuohx8dz.txt, C, , Setup:AdaptivePass, \"Original\", \"ohm\", \"nH\", \"fF\", \"mSie\", 5000000000, Maxwell, 7, False\n",
      "INFO 03:23PM [get_matrix]: Exporting matrix data to (C:\\Users\\slab\\AppData\\Local\\Temp\\tmp7madp79_.txt, C, , Setup:AdaptivePass, \"Original\", \"ohm\", \"nH\", \"fF\", \"mSie\", 5000000000, Maxwell, 8, False\n",
      "INFO 03:23PM [get_matrix]: Exporting matrix data to (C:\\Users\\slab\\AppData\\Local\\Temp\\tmp3gl69cv8.txt, C, , Setup:AdaptivePass, \"Original\", \"ohm\", \"nH\", \"fF\", \"mSie\", 5000000000, Maxwell, 9, False\n",
      "INFO 03:23PM [get_matrix]: Exporting matrix data to (C:\\Users\\slab\\AppData\\Local\\Temp\\tmpz93vpd0l.txt, C, , Setup:AdaptivePass, \"Original\", \"ohm\", \"nH\", \"fF\", \"mSie\", 5000000000, Maxwell, 10, False\n",
      "INFO 03:23PM [get_matrix]: Exporting matrix data to (C:\\Users\\slab\\AppData\\Local\\Temp\\tmptnzppmwx.txt, C, , Setup:AdaptivePass, \"Original\", \"ohm\", \"nH\", \"fF\", \"mSie\", 5000000000, Maxwell, 11, False\n",
      "INFO 03:23PM [get_matrix]: Exporting matrix data to (C:\\Users\\slab\\AppData\\Local\\Temp\\tmp6apqu6ow.txt, C, , Setup:LastAdaptive, \"Original\", \"ohm\", \"nH\", \"fF\", \"mSie\", 5000000000, Maxwell, 1, False\n",
      "INFO 03:23PM [get_matrix]: Exporting matrix data to (C:\\Users\\slab\\AppData\\Local\\Temp\\tmpw4ohewxb.txt, C, , Setup:AdaptivePass, \"Original\", \"ohm\", \"nH\", \"fF\", \"mSie\", 5000000000, Maxwell, 1, False\n",
      "INFO 03:23PM [get_matrix]: Exporting matrix data to (C:\\Users\\slab\\AppData\\Local\\Temp\\tmpvt0pf1gl.txt, C, , Setup:AdaptivePass, \"Original\", \"ohm\", \"nH\", \"fF\", \"mSie\", 5000000000, Maxwell, 2, False\n",
      "INFO 03:23PM [get_matrix]: Exporting matrix data to (C:\\Users\\slab\\AppData\\Local\\Temp\\tmplz1yv7sm.txt, C, , Setup:AdaptivePass, \"Original\", \"ohm\", \"nH\", \"fF\", \"mSie\", 5000000000, Maxwell, 3, False\n",
      "INFO 03:23PM [get_matrix]: Exporting matrix data to (C:\\Users\\slab\\AppData\\Local\\Temp\\tmpetqx78q4.txt, C, , Setup:AdaptivePass, \"Original\", \"ohm\", \"nH\", \"fF\", \"mSie\", 5000000000, Maxwell, 4, False\n",
      "INFO 03:23PM [get_matrix]: Exporting matrix data to (C:\\Users\\slab\\AppData\\Local\\Temp\\tmpz8p5sllq.txt, C, , Setup:AdaptivePass, \"Original\", \"ohm\", \"nH\", \"fF\", \"mSie\", 5000000000, Maxwell, 5, False\n",
      "INFO 03:23PM [get_matrix]: Exporting matrix data to (C:\\Users\\slab\\AppData\\Local\\Temp\\tmpoglyotip.txt, C, , Setup:AdaptivePass, \"Original\", \"ohm\", \"nH\", \"fF\", \"mSie\", 5000000000, Maxwell, 6, False\n",
      "INFO 03:23PM [get_matrix]: Exporting matrix data to (C:\\Users\\slab\\AppData\\Local\\Temp\\tmpxgmb99gl.txt, C, , Setup:AdaptivePass, \"Original\", \"ohm\", \"nH\", \"fF\", \"mSie\", 5000000000, Maxwell, 7, False\n",
      "INFO 03:23PM [get_matrix]: Exporting matrix data to (C:\\Users\\slab\\AppData\\Local\\Temp\\tmpj50mo1tb.txt, C, , Setup:AdaptivePass, \"Original\", \"ohm\", \"nH\", \"fF\", \"mSie\", 5000000000, Maxwell, 8, False\n",
      "INFO 03:23PM [get_matrix]: Exporting matrix data to (C:\\Users\\slab\\AppData\\Local\\Temp\\tmpgeb7dcts.txt, C, , Setup:AdaptivePass, \"Original\", \"ohm\", \"nH\", \"fF\", \"mSie\", 5000000000, Maxwell, 9, False\n",
      "INFO 03:23PM [get_matrix]: Exporting matrix data to (C:\\Users\\slab\\AppData\\Local\\Temp\\tmpu6o6qgl7.txt, C, , Setup:AdaptivePass, \"Original\", \"ohm\", \"nH\", \"fF\", \"mSie\", 5000000000, Maxwell, 10, False\n",
      "INFO 03:23PM [get_matrix]: Exporting matrix data to (C:\\Users\\slab\\AppData\\Local\\Temp\\tmpj6hcxzzc.txt, C, , Setup:AdaptivePass, \"Original\", \"ohm\", \"nH\", \"fF\", \"mSie\", 5000000000, Maxwell, 11, False\n"
     ]
    },
    {
     "name": "stdout",
     "output_type": "stream",
     "text": [
      "                    a_connector_pad_Q1  ground_main_plane  pad_top_Q1\n",
      "a_connector_pad_Q1            22.24106          -12.42921    -9.51669\n",
      "ground_main_plane            -12.42921          140.04010   -87.22105\n",
      "pad_top_Q1                    -9.51669          -87.22105   100.77634\n"
     ]
    },
    {
     "name": "stderr",
     "output_type": "stream",
     "text": [
      "INFO 03:23PM [connect_design]: \tOpened active design\n",
      "\tDesign:    Design_q3d [Solution type: Q3D]\n",
      "INFO 03:23PM [get_setup]: \tOpened setup `Setup`  (<class 'pyEPR.ansys.AnsysQ3DSetup'>)\n",
      "INFO 03:23PM [analyze]: Analyzing setup Setup\n",
      "INFO 03:24PM [get_matrix]: Exporting matrix data to (C:\\Users\\slab\\AppData\\Local\\Temp\\tmpeijkxbac.txt, C, , Setup:LastAdaptive, \"Original\", \"ohm\", \"nH\", \"fF\", \"mSie\", 5000000000, Maxwell, 1, False\n",
      "INFO 03:24PM [get_matrix]: Exporting matrix data to (C:\\Users\\slab\\AppData\\Local\\Temp\\tmpe69ye0c1.txt, C, , Setup:AdaptivePass, \"Original\", \"ohm\", \"nH\", \"fF\", \"mSie\", 5000000000, Maxwell, 1, False\n",
      "INFO 03:24PM [get_matrix]: Exporting matrix data to (C:\\Users\\slab\\AppData\\Local\\Temp\\tmpcofbvqfe.txt, C, , Setup:AdaptivePass, \"Original\", \"ohm\", \"nH\", \"fF\", \"mSie\", 5000000000, Maxwell, 2, False\n",
      "INFO 03:24PM [get_matrix]: Exporting matrix data to (C:\\Users\\slab\\AppData\\Local\\Temp\\tmpz0a8b6ir.txt, C, , Setup:AdaptivePass, \"Original\", \"ohm\", \"nH\", \"fF\", \"mSie\", 5000000000, Maxwell, 3, False\n",
      "INFO 03:24PM [get_matrix]: Exporting matrix data to (C:\\Users\\slab\\AppData\\Local\\Temp\\tmpluu4h392.txt, C, , Setup:AdaptivePass, \"Original\", \"ohm\", \"nH\", \"fF\", \"mSie\", 5000000000, Maxwell, 4, False\n",
      "INFO 03:24PM [get_matrix]: Exporting matrix data to (C:\\Users\\slab\\AppData\\Local\\Temp\\tmpcg0lq97d.txt, C, , Setup:AdaptivePass, \"Original\", \"ohm\", \"nH\", \"fF\", \"mSie\", 5000000000, Maxwell, 5, False\n",
      "INFO 03:24PM [get_matrix]: Exporting matrix data to (C:\\Users\\slab\\AppData\\Local\\Temp\\tmpkn0tf_qi.txt, C, , Setup:AdaptivePass, \"Original\", \"ohm\", \"nH\", \"fF\", \"mSie\", 5000000000, Maxwell, 6, False\n",
      "INFO 03:24PM [get_matrix]: Exporting matrix data to (C:\\Users\\slab\\AppData\\Local\\Temp\\tmph4mf702j.txt, C, , Setup:AdaptivePass, \"Original\", \"ohm\", \"nH\", \"fF\", \"mSie\", 5000000000, Maxwell, 7, False\n",
      "INFO 03:24PM [get_matrix]: Exporting matrix data to (C:\\Users\\slab\\AppData\\Local\\Temp\\tmpsb3vhpzi.txt, C, , Setup:AdaptivePass, \"Original\", \"ohm\", \"nH\", \"fF\", \"mSie\", 5000000000, Maxwell, 8, False\n",
      "INFO 03:24PM [get_matrix]: Exporting matrix data to (C:\\Users\\slab\\AppData\\Local\\Temp\\tmpnzm_0ot4.txt, C, , Setup:AdaptivePass, \"Original\", \"ohm\", \"nH\", \"fF\", \"mSie\", 5000000000, Maxwell, 9, False\n",
      "INFO 03:24PM [get_matrix]: Exporting matrix data to (C:\\Users\\slab\\AppData\\Local\\Temp\\tmp4o2qomzt.txt, C, , Setup:AdaptivePass, \"Original\", \"ohm\", \"nH\", \"fF\", \"mSie\", 5000000000, Maxwell, 10, False\n",
      "INFO 03:24PM [get_matrix]: Exporting matrix data to (C:\\Users\\slab\\AppData\\Local\\Temp\\tmpdq2fujry.txt, C, , Setup:AdaptivePass, \"Original\", \"ohm\", \"nH\", \"fF\", \"mSie\", 5000000000, Maxwell, 11, False\n",
      "INFO 03:24PM [get_matrix]: Exporting matrix data to (C:\\Users\\slab\\AppData\\Local\\Temp\\tmpyni336wm.txt, C, , Setup:LastAdaptive, \"Original\", \"ohm\", \"nH\", \"fF\", \"mSie\", 5000000000, Maxwell, 1, False\n",
      "INFO 03:24PM [get_matrix]: Exporting matrix data to (C:\\Users\\slab\\AppData\\Local\\Temp\\tmpziour794.txt, C, , Setup:AdaptivePass, \"Original\", \"ohm\", \"nH\", \"fF\", \"mSie\", 5000000000, Maxwell, 1, False\n",
      "INFO 03:24PM [get_matrix]: Exporting matrix data to (C:\\Users\\slab\\AppData\\Local\\Temp\\tmpby3mauyq.txt, C, , Setup:AdaptivePass, \"Original\", \"ohm\", \"nH\", \"fF\", \"mSie\", 5000000000, Maxwell, 2, False\n",
      "INFO 03:24PM [get_matrix]: Exporting matrix data to (C:\\Users\\slab\\AppData\\Local\\Temp\\tmp_5z78z1e.txt, C, , Setup:AdaptivePass, \"Original\", \"ohm\", \"nH\", \"fF\", \"mSie\", 5000000000, Maxwell, 3, False\n",
      "INFO 03:24PM [get_matrix]: Exporting matrix data to (C:\\Users\\slab\\AppData\\Local\\Temp\\tmpo3khtewu.txt, C, , Setup:AdaptivePass, \"Original\", \"ohm\", \"nH\", \"fF\", \"mSie\", 5000000000, Maxwell, 4, False\n",
      "INFO 03:24PM [get_matrix]: Exporting matrix data to (C:\\Users\\slab\\AppData\\Local\\Temp\\tmpznbferwd.txt, C, , Setup:AdaptivePass, \"Original\", \"ohm\", \"nH\", \"fF\", \"mSie\", 5000000000, Maxwell, 5, False\n",
      "INFO 03:24PM [get_matrix]: Exporting matrix data to (C:\\Users\\slab\\AppData\\Local\\Temp\\tmpoypgrq_l.txt, C, , Setup:AdaptivePass, \"Original\", \"ohm\", \"nH\", \"fF\", \"mSie\", 5000000000, Maxwell, 6, False\n",
      "INFO 03:24PM [get_matrix]: Exporting matrix data to (C:\\Users\\slab\\AppData\\Local\\Temp\\tmp33dk6lj7.txt, C, , Setup:AdaptivePass, \"Original\", \"ohm\", \"nH\", \"fF\", \"mSie\", 5000000000, Maxwell, 7, False\n",
      "INFO 03:24PM [get_matrix]: Exporting matrix data to (C:\\Users\\slab\\AppData\\Local\\Temp\\tmp7comvrfs.txt, C, , Setup:AdaptivePass, \"Original\", \"ohm\", \"nH\", \"fF\", \"mSie\", 5000000000, Maxwell, 8, False\n",
      "INFO 03:24PM [get_matrix]: Exporting matrix data to (C:\\Users\\slab\\AppData\\Local\\Temp\\tmpxtdbtlsw.txt, C, , Setup:AdaptivePass, \"Original\", \"ohm\", \"nH\", \"fF\", \"mSie\", 5000000000, Maxwell, 9, False\n",
      "INFO 03:24PM [get_matrix]: Exporting matrix data to (C:\\Users\\slab\\AppData\\Local\\Temp\\tmpllfs8uk6.txt, C, , Setup:AdaptivePass, \"Original\", \"ohm\", \"nH\", \"fF\", \"mSie\", 5000000000, Maxwell, 10, False\n",
      "INFO 03:24PM [get_matrix]: Exporting matrix data to (C:\\Users\\slab\\AppData\\Local\\Temp\\tmp9tkls3q7.txt, C, , Setup:AdaptivePass, \"Original\", \"ohm\", \"nH\", \"fF\", \"mSie\", 5000000000, Maxwell, 11, False\n"
     ]
    },
    {
     "name": "stdout",
     "output_type": "stream",
     "text": [
      "                    a_connector_pad_Q1  ground_main_plane  pad_top_Q1\n",
      "a_connector_pad_Q1            22.24106          -12.42921    -9.51669\n",
      "ground_main_plane            -12.42921          140.04010   -87.22105\n",
      "pad_top_Q1                    -9.51669          -87.22105   100.77634\n"
     ]
    },
    {
     "name": "stderr",
     "output_type": "stream",
     "text": [
      "INFO 03:24PM [connect_design]: \tOpened active design\n",
      "\tDesign:    Design_q3d [Solution type: Q3D]\n",
      "INFO 03:24PM [get_setup]: \tOpened setup `Setup`  (<class 'pyEPR.ansys.AnsysQ3DSetup'>)\n",
      "INFO 03:24PM [analyze]: Analyzing setup Setup\n",
      "INFO 03:25PM [get_matrix]: Exporting matrix data to (C:\\Users\\slab\\AppData\\Local\\Temp\\tmp9aocs4m_.txt, C, , Setup:LastAdaptive, \"Original\", \"ohm\", \"nH\", \"fF\", \"mSie\", 5000000000, Maxwell, 1, False\n",
      "INFO 03:25PM [get_matrix]: Exporting matrix data to (C:\\Users\\slab\\AppData\\Local\\Temp\\tmpd_6gnd8l.txt, C, , Setup:AdaptivePass, \"Original\", \"ohm\", \"nH\", \"fF\", \"mSie\", 5000000000, Maxwell, 1, False\n",
      "INFO 03:25PM [get_matrix]: Exporting matrix data to (C:\\Users\\slab\\AppData\\Local\\Temp\\tmp9oiv3haj.txt, C, , Setup:AdaptivePass, \"Original\", \"ohm\", \"nH\", \"fF\", \"mSie\", 5000000000, Maxwell, 2, False\n",
      "INFO 03:25PM [get_matrix]: Exporting matrix data to (C:\\Users\\slab\\AppData\\Local\\Temp\\tmptxoxsiv3.txt, C, , Setup:AdaptivePass, \"Original\", \"ohm\", \"nH\", \"fF\", \"mSie\", 5000000000, Maxwell, 3, False\n",
      "INFO 03:25PM [get_matrix]: Exporting matrix data to (C:\\Users\\slab\\AppData\\Local\\Temp\\tmpouggba9l.txt, C, , Setup:AdaptivePass, \"Original\", \"ohm\", \"nH\", \"fF\", \"mSie\", 5000000000, Maxwell, 4, False\n",
      "INFO 03:25PM [get_matrix]: Exporting matrix data to (C:\\Users\\slab\\AppData\\Local\\Temp\\tmptt8xqtbq.txt, C, , Setup:AdaptivePass, \"Original\", \"ohm\", \"nH\", \"fF\", \"mSie\", 5000000000, Maxwell, 5, False\n",
      "INFO 03:25PM [get_matrix]: Exporting matrix data to (C:\\Users\\slab\\AppData\\Local\\Temp\\tmpnpci8voc.txt, C, , Setup:AdaptivePass, \"Original\", \"ohm\", \"nH\", \"fF\", \"mSie\", 5000000000, Maxwell, 6, False\n",
      "INFO 03:25PM [get_matrix]: Exporting matrix data to (C:\\Users\\slab\\AppData\\Local\\Temp\\tmp24gcr_tx.txt, C, , Setup:AdaptivePass, \"Original\", \"ohm\", \"nH\", \"fF\", \"mSie\", 5000000000, Maxwell, 7, False\n",
      "INFO 03:25PM [get_matrix]: Exporting matrix data to (C:\\Users\\slab\\AppData\\Local\\Temp\\tmpgymtfd8w.txt, C, , Setup:AdaptivePass, \"Original\", \"ohm\", \"nH\", \"fF\", \"mSie\", 5000000000, Maxwell, 8, False\n",
      "INFO 03:25PM [get_matrix]: Exporting matrix data to (C:\\Users\\slab\\AppData\\Local\\Temp\\tmpho4w5lp2.txt, C, , Setup:AdaptivePass, \"Original\", \"ohm\", \"nH\", \"fF\", \"mSie\", 5000000000, Maxwell, 9, False\n",
      "INFO 03:25PM [get_matrix]: Exporting matrix data to (C:\\Users\\slab\\AppData\\Local\\Temp\\tmpic0rxcit.txt, C, , Setup:AdaptivePass, \"Original\", \"ohm\", \"nH\", \"fF\", \"mSie\", 5000000000, Maxwell, 10, False\n",
      "INFO 03:25PM [get_matrix]: Exporting matrix data to (C:\\Users\\slab\\AppData\\Local\\Temp\\tmpd2z6o_19.txt, C, , Setup:AdaptivePass, \"Original\", \"ohm\", \"nH\", \"fF\", \"mSie\", 5000000000, Maxwell, 11, False\n",
      "INFO 03:25PM [get_matrix]: Exporting matrix data to (C:\\Users\\slab\\AppData\\Local\\Temp\\tmpl_3uc_vc.txt, C, , Setup:LastAdaptive, \"Original\", \"ohm\", \"nH\", \"fF\", \"mSie\", 5000000000, Maxwell, 1, False\n",
      "INFO 03:25PM [get_matrix]: Exporting matrix data to (C:\\Users\\slab\\AppData\\Local\\Temp\\tmpryhy8jxo.txt, C, , Setup:AdaptivePass, \"Original\", \"ohm\", \"nH\", \"fF\", \"mSie\", 5000000000, Maxwell, 1, False\n",
      "INFO 03:25PM [get_matrix]: Exporting matrix data to (C:\\Users\\slab\\AppData\\Local\\Temp\\tmpiljb5cho.txt, C, , Setup:AdaptivePass, \"Original\", \"ohm\", \"nH\", \"fF\", \"mSie\", 5000000000, Maxwell, 2, False\n",
      "INFO 03:25PM [get_matrix]: Exporting matrix data to (C:\\Users\\slab\\AppData\\Local\\Temp\\tmpdbvwqh9k.txt, C, , Setup:AdaptivePass, \"Original\", \"ohm\", \"nH\", \"fF\", \"mSie\", 5000000000, Maxwell, 3, False\n",
      "INFO 03:25PM [get_matrix]: Exporting matrix data to (C:\\Users\\slab\\AppData\\Local\\Temp\\tmpw4vl9mo_.txt, C, , Setup:AdaptivePass, \"Original\", \"ohm\", \"nH\", \"fF\", \"mSie\", 5000000000, Maxwell, 4, False\n",
      "INFO 03:25PM [get_matrix]: Exporting matrix data to (C:\\Users\\slab\\AppData\\Local\\Temp\\tmpl4vd0wl_.txt, C, , Setup:AdaptivePass, \"Original\", \"ohm\", \"nH\", \"fF\", \"mSie\", 5000000000, Maxwell, 5, False\n",
      "INFO 03:25PM [get_matrix]: Exporting matrix data to (C:\\Users\\slab\\AppData\\Local\\Temp\\tmpebc9batd.txt, C, , Setup:AdaptivePass, \"Original\", \"ohm\", \"nH\", \"fF\", \"mSie\", 5000000000, Maxwell, 6, False\n",
      "INFO 03:25PM [get_matrix]: Exporting matrix data to (C:\\Users\\slab\\AppData\\Local\\Temp\\tmp9akg2jmc.txt, C, , Setup:AdaptivePass, \"Original\", \"ohm\", \"nH\", \"fF\", \"mSie\", 5000000000, Maxwell, 7, False\n",
      "INFO 03:25PM [get_matrix]: Exporting matrix data to (C:\\Users\\slab\\AppData\\Local\\Temp\\tmpxv8iry0e.txt, C, , Setup:AdaptivePass, \"Original\", \"ohm\", \"nH\", \"fF\", \"mSie\", 5000000000, Maxwell, 8, False\n",
      "INFO 03:25PM [get_matrix]: Exporting matrix data to (C:\\Users\\slab\\AppData\\Local\\Temp\\tmp4cusfqow.txt, C, , Setup:AdaptivePass, \"Original\", \"ohm\", \"nH\", \"fF\", \"mSie\", 5000000000, Maxwell, 9, False\n",
      "INFO 03:25PM [get_matrix]: Exporting matrix data to (C:\\Users\\slab\\AppData\\Local\\Temp\\tmpehy510x8.txt, C, , Setup:AdaptivePass, \"Original\", \"ohm\", \"nH\", \"fF\", \"mSie\", 5000000000, Maxwell, 10, False\n",
      "INFO 03:25PM [get_matrix]: Exporting matrix data to (C:\\Users\\slab\\AppData\\Local\\Temp\\tmpfxhs91r1.txt, C, , Setup:AdaptivePass, \"Original\", \"ohm\", \"nH\", \"fF\", \"mSie\", 5000000000, Maxwell, 11, False\n"
     ]
    },
    {
     "name": "stdout",
     "output_type": "stream",
     "text": [
      "                    a_connector_pad_Q1  ground_main_plane  pad_top_Q1\n",
      "a_connector_pad_Q1            22.24106          -12.42921    -9.51669\n",
      "ground_main_plane            -12.42921          140.04010   -87.22105\n",
      "pad_top_Q1                    -9.51669          -87.22105   100.77634\n"
     ]
    },
    {
     "name": "stderr",
     "output_type": "stream",
     "text": [
      "INFO 03:25PM [connect_design]: \tOpened active design\n",
      "\tDesign:    Design_q3d [Solution type: Q3D]\n",
      "INFO 03:25PM [get_setup]: \tOpened setup `Setup`  (<class 'pyEPR.ansys.AnsysQ3DSetup'>)\n",
      "INFO 03:25PM [analyze]: Analyzing setup Setup\n",
      "INFO 03:26PM [get_matrix]: Exporting matrix data to (C:\\Users\\slab\\AppData\\Local\\Temp\\tmpk7f3qmfc.txt, C, , Setup:LastAdaptive, \"Original\", \"ohm\", \"nH\", \"fF\", \"mSie\", 5000000000, Maxwell, 1, False\n",
      "INFO 03:26PM [get_matrix]: Exporting matrix data to (C:\\Users\\slab\\AppData\\Local\\Temp\\tmplv41inld.txt, C, , Setup:AdaptivePass, \"Original\", \"ohm\", \"nH\", \"fF\", \"mSie\", 5000000000, Maxwell, 1, False\n",
      "INFO 03:26PM [get_matrix]: Exporting matrix data to (C:\\Users\\slab\\AppData\\Local\\Temp\\tmpxi5fze98.txt, C, , Setup:AdaptivePass, \"Original\", \"ohm\", \"nH\", \"fF\", \"mSie\", 5000000000, Maxwell, 2, False\n",
      "INFO 03:26PM [get_matrix]: Exporting matrix data to (C:\\Users\\slab\\AppData\\Local\\Temp\\tmpjxe379np.txt, C, , Setup:AdaptivePass, \"Original\", \"ohm\", \"nH\", \"fF\", \"mSie\", 5000000000, Maxwell, 3, False\n",
      "INFO 03:26PM [get_matrix]: Exporting matrix data to (C:\\Users\\slab\\AppData\\Local\\Temp\\tmp66f2zmk2.txt, C, , Setup:AdaptivePass, \"Original\", \"ohm\", \"nH\", \"fF\", \"mSie\", 5000000000, Maxwell, 4, False\n",
      "INFO 03:26PM [get_matrix]: Exporting matrix data to (C:\\Users\\slab\\AppData\\Local\\Temp\\tmpfi3z1bp0.txt, C, , Setup:AdaptivePass, \"Original\", \"ohm\", \"nH\", \"fF\", \"mSie\", 5000000000, Maxwell, 5, False\n",
      "INFO 03:26PM [get_matrix]: Exporting matrix data to (C:\\Users\\slab\\AppData\\Local\\Temp\\tmpvo2347kv.txt, C, , Setup:AdaptivePass, \"Original\", \"ohm\", \"nH\", \"fF\", \"mSie\", 5000000000, Maxwell, 6, False\n",
      "INFO 03:26PM [get_matrix]: Exporting matrix data to (C:\\Users\\slab\\AppData\\Local\\Temp\\tmp0bpqar13.txt, C, , Setup:AdaptivePass, \"Original\", \"ohm\", \"nH\", \"fF\", \"mSie\", 5000000000, Maxwell, 7, False\n",
      "INFO 03:26PM [get_matrix]: Exporting matrix data to (C:\\Users\\slab\\AppData\\Local\\Temp\\tmpae61u6pq.txt, C, , Setup:AdaptivePass, \"Original\", \"ohm\", \"nH\", \"fF\", \"mSie\", 5000000000, Maxwell, 8, False\n",
      "INFO 03:26PM [get_matrix]: Exporting matrix data to (C:\\Users\\slab\\AppData\\Local\\Temp\\tmpnjsyyr0c.txt, C, , Setup:AdaptivePass, \"Original\", \"ohm\", \"nH\", \"fF\", \"mSie\", 5000000000, Maxwell, 9, False\n",
      "INFO 03:26PM [get_matrix]: Exporting matrix data to (C:\\Users\\slab\\AppData\\Local\\Temp\\tmp61qmm7s_.txt, C, , Setup:AdaptivePass, \"Original\", \"ohm\", \"nH\", \"fF\", \"mSie\", 5000000000, Maxwell, 10, False\n",
      "INFO 03:26PM [get_matrix]: Exporting matrix data to (C:\\Users\\slab\\AppData\\Local\\Temp\\tmp908nnp7i.txt, C, , Setup:AdaptivePass, \"Original\", \"ohm\", \"nH\", \"fF\", \"mSie\", 5000000000, Maxwell, 11, False\n",
      "INFO 03:26PM [get_matrix]: Exporting matrix data to (C:\\Users\\slab\\AppData\\Local\\Temp\\tmpo0psbzyl.txt, C, , Setup:LastAdaptive, \"Original\", \"ohm\", \"nH\", \"fF\", \"mSie\", 5000000000, Maxwell, 1, False\n",
      "INFO 03:26PM [get_matrix]: Exporting matrix data to (C:\\Users\\slab\\AppData\\Local\\Temp\\tmp1eu8972d.txt, C, , Setup:AdaptivePass, \"Original\", \"ohm\", \"nH\", \"fF\", \"mSie\", 5000000000, Maxwell, 1, False\n",
      "INFO 03:26PM [get_matrix]: Exporting matrix data to (C:\\Users\\slab\\AppData\\Local\\Temp\\tmpulicmxge.txt, C, , Setup:AdaptivePass, \"Original\", \"ohm\", \"nH\", \"fF\", \"mSie\", 5000000000, Maxwell, 2, False\n",
      "INFO 03:26PM [get_matrix]: Exporting matrix data to (C:\\Users\\slab\\AppData\\Local\\Temp\\tmpelsilh76.txt, C, , Setup:AdaptivePass, \"Original\", \"ohm\", \"nH\", \"fF\", \"mSie\", 5000000000, Maxwell, 3, False\n",
      "INFO 03:26PM [get_matrix]: Exporting matrix data to (C:\\Users\\slab\\AppData\\Local\\Temp\\tmppubc3jln.txt, C, , Setup:AdaptivePass, \"Original\", \"ohm\", \"nH\", \"fF\", \"mSie\", 5000000000, Maxwell, 4, False\n",
      "INFO 03:26PM [get_matrix]: Exporting matrix data to (C:\\Users\\slab\\AppData\\Local\\Temp\\tmpjuxvztku.txt, C, , Setup:AdaptivePass, \"Original\", \"ohm\", \"nH\", \"fF\", \"mSie\", 5000000000, Maxwell, 5, False\n",
      "INFO 03:26PM [get_matrix]: Exporting matrix data to (C:\\Users\\slab\\AppData\\Local\\Temp\\tmp1bkditb9.txt, C, , Setup:AdaptivePass, \"Original\", \"ohm\", \"nH\", \"fF\", \"mSie\", 5000000000, Maxwell, 6, False\n",
      "INFO 03:26PM [get_matrix]: Exporting matrix data to (C:\\Users\\slab\\AppData\\Local\\Temp\\tmpbnc3t252.txt, C, , Setup:AdaptivePass, \"Original\", \"ohm\", \"nH\", \"fF\", \"mSie\", 5000000000, Maxwell, 7, False\n",
      "INFO 03:26PM [get_matrix]: Exporting matrix data to (C:\\Users\\slab\\AppData\\Local\\Temp\\tmpb14_gs_s.txt, C, , Setup:AdaptivePass, \"Original\", \"ohm\", \"nH\", \"fF\", \"mSie\", 5000000000, Maxwell, 8, False\n",
      "INFO 03:26PM [get_matrix]: Exporting matrix data to (C:\\Users\\slab\\AppData\\Local\\Temp\\tmprq4m2hxq.txt, C, , Setup:AdaptivePass, \"Original\", \"ohm\", \"nH\", \"fF\", \"mSie\", 5000000000, Maxwell, 9, False\n",
      "INFO 03:26PM [get_matrix]: Exporting matrix data to (C:\\Users\\slab\\AppData\\Local\\Temp\\tmpx21xivu4.txt, C, , Setup:AdaptivePass, \"Original\", \"ohm\", \"nH\", \"fF\", \"mSie\", 5000000000, Maxwell, 10, False\n",
      "INFO 03:26PM [get_matrix]: Exporting matrix data to (C:\\Users\\slab\\AppData\\Local\\Temp\\tmpnm9ggjt5.txt, C, , Setup:AdaptivePass, \"Original\", \"ohm\", \"nH\", \"fF\", \"mSie\", 5000000000, Maxwell, 11, False\n"
     ]
    },
    {
     "name": "stdout",
     "output_type": "stream",
     "text": [
      "                    a_connector_pad_Q1  ground_main_plane  pad_top_Q1\n",
      "a_connector_pad_Q1            22.24145          -12.42895    -9.51726\n",
      "ground_main_plane            -12.42895          140.03838   -87.22112\n",
      "pad_top_Q1                    -9.51726          -87.22112   100.77736\n"
     ]
    },
    {
     "name": "stderr",
     "output_type": "stream",
     "text": [
      "INFO 03:26PM [connect_design]: \tOpened active design\n",
      "\tDesign:    Design_q3d [Solution type: Q3D]\n",
      "INFO 03:26PM [get_setup]: \tOpened setup `Setup`  (<class 'pyEPR.ansys.AnsysQ3DSetup'>)\n",
      "INFO 03:26PM [analyze]: Analyzing setup Setup\n"
     ]
    }
   ],
   "source": [
    "width_45 = optimize.fsolve(find_Cap, [250])"
   ]
  },
  {
   "cell_type": "code",
   "execution_count": 94,
   "metadata": {},
   "outputs": [
    {
     "data": {
      "text/plain": [
       "astropy.units.quantity.Quantity"
      ]
     },
     "execution_count": 94,
     "metadata": {},
     "output_type": "execute_result"
    }
   ],
   "source": [
    "type(2*u.m)"
   ]
  },
  {
   "cell_type": "code",
   "execution_count": null,
   "metadata": {},
   "outputs": [],
   "source": []
  }
 ],
 "metadata": {
  "kernelspec": {
   "display_name": "qmetal",
   "language": "python",
   "name": "qmetal"
  },
  "language_info": {
   "codemirror_mode": {
    "name": "ipython",
    "version": 3
   },
   "file_extension": ".py",
   "mimetype": "text/x-python",
   "name": "python",
   "nbconvert_exporter": "python",
   "pygments_lexer": "ipython3",
   "version": "3.10.8"
  },
  "orig_nbformat": 4
 },
 "nbformat": 4,
 "nbformat_minor": 2
}
