{
 "cells": [
  {
   "cell_type": "code",
   "execution_count": null,
   "metadata": {},
   "outputs": [],
   "source": [
    "import os\n",
    "import shutil\n",
    "import time\n",
    "\n",
    "import astropy.units as u\n",
    "import numpy as np\n",
    "import pandas as pd\n",
    "import astropy.constants as c\n",
    "\n",
    "#Import the necessary path to draw the single pad transmon design. \n",
    "import sys\n",
    "sys.path.append('Customized_Components')\n",
    "from rounded_single_pad import Round_TransmonPocket_Single as transmon\n",
    "import Transmon_property as trans_p\n",
    "import Transmon_specifications as jj\n",
    "from dolan_junction import DolanJunction as junction\n",
    "import Default_params as dp\n",
    "from pocket import TransmonPocket as pocket\n",
    "\n",
    "from qiskit_metal.qlibrary.terminations.launchpad_wb import LaunchpadWirebond\n",
    "from qiskit_metal import MetalGUI, Dict\n",
    "from qiskit_metal.qlibrary.couplers.coupled_line_tee import CoupledLineTee\n",
    "\n",
    "gui = MetalGUI(dp.design)\n",
    "design = dp.design\n"
   ]
  },
  {
   "cell_type": "code",
   "execution_count": null,
   "metadata": {},
   "outputs": [],
   "source": [
    "from scipy.optimize import brentq"
   ]
  },
  {
   "cell_type": "code",
   "execution_count": 46,
   "metadata": {},
   "outputs": [],
   "source": [
    "test_path = r'C:\\Users\\slab\\Desktop\\Wendy-qiskit-code\\data\\educated_guess_test_test.csv'"
   ]
  },
  {
   "cell_type": "code",
   "execution_count": 43,
   "metadata": {},
   "outputs": [],
   "source": [
    "default_options = dict(\n",
    "        pos_x = '0mm', \n",
    "        pos_y = '0mm', \n",
    "        orientation = '0',\n",
    "        frequency = 5,\n",
    "        guess_path = test_path,\n",
    "        coupling_path = '',\n",
    "        coord = '(0,0)',\n",
    "        qubit_layer = 5,\n",
    "        junction_layer = 2, \n",
    "        ab_layer = 8,\n",
    "        ab_square_layer = 9,\n",
    "        ab_distance = '70um',\n",
    "        rotation = 0\n",
    "        )"
   ]
  },
  {
   "cell_type": "code",
   "execution_count": 41,
   "metadata": {},
   "outputs": [],
   "source": [
    "guess_path = r'C:\\Users\\slab\\Desktop\\Wendy-qiskit-code\\data\\educated_guess_test2'\n",
    "guess = pd.read_csv(guess_path, index_col=False).drop(columns=['Unnamed: 0'])"
   ]
  },
  {
   "cell_type": "code",
   "execution_count": 47,
   "metadata": {},
   "outputs": [],
   "source": [
    "test = pd.read_csv(test_path).drop(columns=['Unnamed: 0'])"
   ]
  },
  {
   "cell_type": "code",
   "execution_count": 48,
   "metadata": {},
   "outputs": [],
   "source": [
    "ljs = test['Ljs (nH)'].values"
   ]
  },
  {
   "cell_type": "code",
   "execution_count": 49,
   "metadata": {},
   "outputs": [
    {
     "data": {
      "text/plain": [
       "array([13, 13, 10, 10,  8,  8,  8,  6,  6,  6], dtype=int64)"
      ]
     },
     "execution_count": 49,
     "metadata": {},
     "output_type": "execute_result"
    }
   ],
   "source": [
    "ljs"
   ]
  },
  {
   "cell_type": "code",
   "execution_count": 52,
   "metadata": {},
   "outputs": [],
   "source": [
    "design.delete_all_components()"
   ]
  },
  {
   "cell_type": "code",
   "execution_count": 53,
   "metadata": {},
   "outputs": [],
   "source": [
    "gui.rebuild()"
   ]
  },
  {
   "cell_type": "code",
   "execution_count": 54,
   "metadata": {},
   "outputs": [
    {
     "name": "stdout",
     "output_type": "stream",
     "text": [
      "tried1\n"
     ]
    }
   ],
   "source": [
    "default_options['coord'] = '_0_0_'\n",
    "default_options['frequency'] = 4.6\n",
    "default_options['guess_path'] = test_path\n",
    "# change_size(26, 0)\n",
    "\n",
    "p = pocket(gui,design,sim = True, options = default_options)\n",
    "gui.rebuild()"
   ]
  },
  {
   "cell_type": "code",
   "execution_count": null,
   "metadata": {},
   "outputs": [],
   "source": [
    "p.resonators"
   ]
  },
  {
   "cell_type": "code",
   "execution_count": null,
   "metadata": {},
   "outputs": [],
   "source": [
    "components = ['qubit_0_0_', 'TQ_0_0_', 'cpw__0_0_']"
   ]
  },
  {
   "cell_type": "code",
   "execution_count": null,
   "metadata": {},
   "outputs": [],
   "source": [
    "from qiskit_metal.analyses.quantization import LOManalysis\n",
    "from qiskit_metal.analyses.quantization import EPRanalysis"
   ]
  },
  {
   "cell_type": "code",
   "execution_count": null,
   "metadata": {},
   "outputs": [],
   "source": [
    "c = LOManalysis(design, \"q3d\")\n",
    "c.sim.setup.min_passes  = 10\n",
    "c.sim.setup.max_passes = 20\n",
    "c.sim.setup.freq_ghz = 5\n",
    "\n",
    "c.sim.renderer.options['wb_threshold'] ='72um'\n",
    "c.sim.renderer.options['x_buffer_width_mm'] = 0.5\n",
    "c.sim.renderer.options['y_buffer_width_mm'] = 0.5\n",
    "\n",
    "h = 0.4\n",
    "\n",
    "c.sim.renderer.options['wb_height'] = h"
   ]
  },
  {
   "cell_type": "code",
   "execution_count": null,
   "metadata": {},
   "outputs": [],
   "source": [
    "eig_all = EPRanalysis(design, 'hfss')\n",
    "\n",
    "hfss = eig_all.sim.renderer\n",
    "eig_all.sim.renderer.options['wb_threshold'] = '72um'\n",
    "\n",
    "eig_all.sim.setup.max_passes = 30\n",
    "eig_all.sim.setup.max_delta_f = 0.1\n",
    "eig_all.sim.setup.n_modes = 2\n",
    "eig_all.sim.renderer.options['x_buffer_width_mm'] = 0.5\n",
    "eig_all.sim.renderer.options['y_buffer_width_mm'] = 0.5"
   ]
  },
  {
   "cell_type": "code",
   "execution_count": null,
   "metadata": {},
   "outputs": [],
   "source": [
    "guess['Coupling_len']"
   ]
  },
  {
   "cell_type": "code",
   "execution_count": null,
   "metadata": {},
   "outputs": [],
   "source": [
    "guess['Coupling_len(um)']"
   ]
  },
  {
   "cell_type": "code",
   "execution_count": null,
   "metadata": {},
   "outputs": [],
   "source": [
    "guess"
   ]
  },
  {
   "cell_type": "code",
   "execution_count": null,
   "metadata": {},
   "outputs": [],
   "source": [
    "def change_size(size, i, path  = test_path):\n",
    "    dat = pd.read_csv(path, index_col=False).drop(columns=['Unnamed: 0'])\n",
    "    sizes = list(dat['Coupling_len(um)'])\n",
    "    sizes_str = list(dat['Coupling_len'])\n",
    "    \n",
    "    sizes[i] = size\n",
    "    sizes_str[i] = str(size)+'um'\n",
    "    \n",
    "    dat.drop(columns = ['Coupling_len(um)','Coupling_len'],axis= 1, inplace = True)\n",
    "    \n",
    "    dat['Coupling_len(um)'] = sizes\n",
    "    dat['Coupling_len'] = sizes_str\n",
    "    \n",
    "    dat.to_csv(path)"
   ]
  },
  {
   "cell_type": "code",
   "execution_count": null,
   "metadata": {},
   "outputs": [],
   "source": [
    "p = pocket(gui,design,sim = True, options = default_options)\n",
    "gui.rebuild()"
   ]
  },
  {
   "cell_type": "code",
   "execution_count": null,
   "metadata": {},
   "outputs": [],
   "source": [
    "def find_freq(size, ii, path = test_path, p = p):\n",
    "    change_size(size, ii, path = path)\n",
    "    print(size)\n",
    "    \n",
    "    dat = {}\n",
    "    target_freq = 4+0.2*ii\n",
    "    dat['f_target'] = 4+0.2*ii\n",
    "    default_options['frequency'] = target_freq\n",
    "    dat['size'] = size\n",
    "    dat['Lj'] = ljs[ii]\n",
    "    \n",
    "    file_path = r'C:\\Users\\slab\\Desktop\\Wendy-qiskit-code\\data\\optimize_cp_len{}.csv'.format(target_freq)\n",
    "    try:\n",
    "        datas = pd.read_csv(file_path, index_col=False).drop(columns=['Unnamed: 0'])\n",
    "    except:\n",
    "        datas = pd.DataFrame()\n",
    "    \n",
    "    \n",
    "    \n",
    "    eig_all.sim.renderer.options['Lj'] = str(ljs[ii])+'nH'\n",
    "    eig_all.sim.renderer.options['Cj'] = str(jj.find_junction_capacitance((ljs[ii]*u.nH)))\n",
    "\n",
    "    eig_all.sim.setup.vars = {}\n",
    "    eig_all.sim.setup.vars['Lj'] = str(ljs[ii])+'nH'\n",
    "    eig_all.sim.setup.vars['Cj'] = str(jj.find_junction_capacitance((ljs[ii]*u.nH)))\n",
    "\n",
    "    p = pocket(gui,design,sim = True, options = default_options)\n",
    "    gui.rebuild()\n",
    "    \n",
    "    eig_all.sim.run(name=\"single_q\", components=components)\n",
    "    \n",
    "    \n",
    "    convergence = pd.read_csv('hfss_eig_f_convergence.csv')\n",
    "    conv = convergence.dropna()\n",
    "\n",
    "    ind = list(conv.keys())[1:]\n",
    "    for i in range(2):\n",
    "        freq = conv[ind[(i)]].values[-1]\n",
    "        dat['Freq'+str(i+1)+'(GHz)'] = freq\n",
    "    \n",
    "    \n",
    "    try:\n",
    "        del eig_all.setup.junctions['jj']\n",
    "    except:\n",
    "        print('saddd')\n",
    "    eig_all.setup.junctions.jj1 = Dict(rect='JJ_rect_Lj_qubit_0_0__rect_jj', line='JJ_Lj_qubit_0_0__rect_jj_',\n",
    "                    Lj_variable='Lj', Cj_variable='Cj')\n",
    "    eig_all.run_epr()\n",
    "    \n",
    "    #Save the EPR data\n",
    "    chi = eig_all.sim.renderer.epr_quantum_analysis.get_chis().to_numpy()\n",
    "    freq_EPR= eig_all.sim.renderer.epr_quantum_analysis.get_frequencies().to_numpy()[:,0]\n",
    "    \n",
    "    # renderer_hfss.clean_active_design()\n",
    "    for i in range(2):\n",
    "        freq = freq_EPR[i]\n",
    "        dat['Freq_EPR'+str(i+1)+'(MHz)'] = freq\n",
    "        for j in range(i+1):\n",
    "            dat['Chi'+str(i+1)+'_'+str(j+1)+'(MHz)'] = chi[i][j] \n",
    "\n",
    "    \n",
    "    # c.sim.run(name = 'a',components=components)\n",
    "    # cg = -c.sim.capacitance_matrix['a_connector_pad_qubit_0_0_']['pad_top_qubit_0_0_']\n",
    "    # dat['cap_t_g'] = cg\n",
    "    # f,_ = trans_p.transmon_freq(cg*u.fF, ljs[i]*u.nH)\n",
    "    \n",
    "    # dat['Predict_freq'] = f\n",
    "    \n",
    "    \n",
    "    data = pd.DataFrame(dat, index = [0])\n",
    "    \n",
    "    datas = pd.concat([datas,data], ignore_index = True)\n",
    "    datas.to_csv(file_path)\n",
    "    \n",
    "    return chi[0][1]-1"
   ]
  },
  {
   "cell_type": "code",
   "execution_count": null,
   "metadata": {},
   "outputs": [],
   "source": [
    "test"
   ]
  },
  {
   "attachments": {},
   "cell_type": "markdown",
   "metadata": {},
   "source": [
    "optimization start"
   ]
  },
  {
   "cell_type": "code",
   "execution_count": 56,
   "metadata": {},
   "outputs": [
    {
     "name": "stdout",
     "output_type": "stream",
     "text": [
      "20.0\n",
      "tried1\n"
     ]
    },
    {
     "name": "stderr",
     "output_type": "stream",
     "text": [
      "INFO 11:49PM [connect_design]: \tOpened active design\n",
      "\tDesign:    single_q_hfss [Solution type: Eigenmode]\n"
     ]
    }
   ],
   "source": [
    "for i in [5]:\n",
    "    \n",
    "    smin, smax= (20,100)\n",
    "    \n",
    "    def f(size):\n",
    "        return find_freq(size, i)\n",
    "    \n",
    "    sfinal = brentq(f, smin, smax, xtol = 1e-2, rtol = 1e-2)\n",
    "    \n",
    "    \n",
    "    change_size(sfinal,i, path = guess_path)\n",
    "    \n",
    "    \n",
    "    "
   ]
  },
  {
   "attachments": {},
   "cell_type": "markdown",
   "metadata": {},
   "source": [
    "end"
   ]
  },
  {
   "attachments": {},
   "cell_type": "markdown",
   "metadata": {},
   "source": [
    "Sort data"
   ]
  },
  {
   "cell_type": "code",
   "execution_count": null,
   "metadata": {},
   "outputs": [],
   "source": [
    "data = pd.read_csv(guess_path)"
   ]
  },
  {
   "cell_type": "code",
   "execution_count": null,
   "metadata": {},
   "outputs": [],
   "source": [
    "data"
   ]
  },
  {
   "cell_type": "code",
   "execution_count": null,
   "metadata": {},
   "outputs": [],
   "source": [
    "cols = data.columns.values\n",
    "f = []\n",
    "for i in cols:\n",
    "    if 'Unnamed' not in i:\n",
    "        f.append(i)"
   ]
  },
  {
   "cell_type": "code",
   "execution_count": null,
   "metadata": {},
   "outputs": [],
   "source": [
    "d = data[f]"
   ]
  },
  {
   "cell_type": "code",
   "execution_count": null,
   "metadata": {},
   "outputs": [],
   "source": [
    "d.to_csv(r'data\\educated_guess_test2')"
   ]
  },
  {
   "attachments": {},
   "cell_type": "markdown",
   "metadata": {},
   "source": [
    "sim start"
   ]
  },
  {
   "cell_type": "code",
   "execution_count": null,
   "metadata": {},
   "outputs": [],
   "source": [
    "datas = pd.DataFrame()\n",
    "\n",
    "for ii,freq in enumerate(np.arange(4,6,0.2)):\n",
    "    dat = {}\n",
    "    dat['f_target'] = freq\n",
    "    default_options['frequency'] = freq\n",
    "    \n",
    "    q1 = p.qubit\n",
    "    \n",
    "    eig_all.sim.renderer.options['Lj'] = ljs[ii]\n",
    "    eig_all.sim.renderer.options['Cj'] = q1.options['hfss_capacitance']\n",
    "\n",
    "    eig_all.sim.setup.vars = {}\n",
    "    eig_all.sim.setup.vars['Lj'] = q1.options['hfss_inductance']\n",
    "    eig_all.sim.setup.vars['Cj'] = q1.options['hfss_capacitance']\n",
    "\n",
    "    p = pocket(gui,design,sim = True, options = default_options)\n",
    "    gui.rebuild()\n",
    "    \n",
    "    eig_all.sim.run(name=\"single_q\", components=components)\n",
    "    \n",
    "    \n",
    "    convergence = pd.read_csv('hfss_eig_f_convergence.csv')\n",
    "    conv = convergence.dropna()\n",
    "\n",
    "    ind = list(conv.keys())[1:]\n",
    "    for i in range(1):\n",
    "        freq = conv[ind[(i)]].values[-1]\n",
    "        dat['Freq'+str(i+1)+'(GHz)'] = freq\n",
    "    \n",
    "    \n",
    "    try:\n",
    "        del eig_all.setup.junctions['jj']\n",
    "    except:\n",
    "        print('saddd')\n",
    "    eig_all.setup.junctions.jj1 = Dict(rect='JJ_rect_Lj_qubit_0_0__rect_jj', line='JJ_Lj_qubit_0_0__rect_jj_',\n",
    "                    Lj_variable='Lj', Cj_variable='Cj')\n",
    "    eig_all.run_epr()\n",
    "    \n",
    "    #Save the EPR data\n",
    "    chi = eig_all.sim.renderer.epr_quantum_analysis.get_chis().to_numpy()\n",
    "    freq_EPR= eig_all.sim.renderer.epr_quantum_analysis.get_frequencies().to_numpy()[:,0]\n",
    "    \n",
    "    # renderer_hfss.clean_active_design()\n",
    "    for i in range(1):\n",
    "        freq = freq_EPR[i]\n",
    "        dat['Freq_EPR'+str(i+1)+'(MHz)'] = freq\n",
    "        for j in range(i+1):\n",
    "            dat['Chi'+str(i+1)+'_'+str(j+1)+'(MHz)'] = chi[i][j] \n",
    "\n",
    "    \n",
    "    c.sim.run(name = 'a',components=components)\n",
    "    cg = -c.sim.capacitance_matrix['a_connector_pad_qubit_0_0_']['pad_top_qubit_0_0_']\n",
    "    dat['cap_t_g'] = cg\n",
    "    f,_ = trans_p.transmon_freq(cg*u.fF, ljs[ii]*u.nH)\n",
    "    \n",
    "    dat['Predict_freq'] = f\n",
    "    \n",
    "    \n",
    "    data = pd.DataFrame(dat, index = [0])\n",
    "    \n",
    "    datas = pd.concat([datas,data], ignore_index = True)\n",
    "    datas.to_csv(r'data\\epr_freq_cap_freq.csv')"
   ]
  },
  {
   "cell_type": "code",
   "execution_count": null,
   "metadata": {},
   "outputs": [],
   "source": [
    "i"
   ]
  },
  {
   "cell_type": "code",
   "execution_count": null,
   "metadata": {},
   "outputs": [],
   "source": []
  }
 ],
 "metadata": {
  "kernelspec": {
   "display_name": "qmetal",
   "language": "python",
   "name": "qmetal"
  },
  "language_info": {
   "codemirror_mode": {
    "name": "ipython",
    "version": 3
   },
   "file_extension": ".py",
   "mimetype": "text/x-python",
   "name": "python",
   "nbconvert_exporter": "python",
   "pygments_lexer": "ipython3",
   "version": "3.10.8"
  },
  "orig_nbformat": 4
 },
 "nbformat": 4,
 "nbformat_minor": 2
}
