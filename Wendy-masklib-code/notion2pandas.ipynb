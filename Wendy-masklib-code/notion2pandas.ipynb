{
 "cells": [
  {
   "cell_type": "markdown",
   "metadata": {},
   "source": [
    "## Initiate Notion Connections"
   ]
  },
  {
   "cell_type": "code",
   "execution_count": 1,
   "metadata": {},
   "outputs": [],
   "source": [
    "from notion2pandas import Notion2PandasClient\n",
    "import os\n",
    "import numpy as np\n",
    "import pandas as pd"
   ]
  },
  {
   "cell_type": "code",
   "execution_count": 2,
   "metadata": {},
   "outputs": [],
   "source": [
    "token = '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'"
   ]
  },
  {
   "cell_type": "code",
   "execution_count": 3,
   "metadata": {},
   "outputs": [],
   "source": [
    "n2p = Notion2PandasClient(auth=token)"
   ]
  },
  {
   "cell_type": "markdown",
   "metadata": {},
   "source": [
    "## Connect to Notion\n",
    "1. Create an entry in \"Samples\" and then copy the link to Wafer Chips database below\n",
    "2. The wafer_chips_id variable will be the number-letter mixture after \"so/\" until \"?v=\""
   ]
  },
  {
   "cell_type": "code",
   "execution_count": 13,
   "metadata": {},
   "outputs": [],
   "source": [
    "#Wafer Chip link: https://www.notion.so/1828a47d72208194b549e9c5d32ed583?v=1828a47d7220816f9ca1000c5a81257e&pvs=4"
   ]
  },
  {
   "cell_type": "code",
   "execution_count": 17,
   "metadata": {},
   "outputs": [],
   "source": [
    "wafer_chips_id = '1828a47d72208194b549e9c5d32ed583' #paste the database ID here"
   ]
  },
  {
   "cell_type": "code",
   "execution_count": 18,
   "metadata": {},
   "outputs": [],
   "source": [
    "df = n2p.from_notion_DB_to_dataframe(wafer_chips_id) #read the content of database as a pd DataFrame"
   ]
  },
  {
   "cell_type": "code",
   "execution_count": 19,
   "metadata": {},
   "outputs": [
    {
     "data": {
      "text/html": [
       "<div>\n",
       "<style scoped>\n",
       "    .dataframe tbody tr th:only-of-type {\n",
       "        vertical-align: middle;\n",
       "    }\n",
       "\n",
       "    .dataframe tbody tr th {\n",
       "        vertical-align: top;\n",
       "    }\n",
       "\n",
       "    .dataframe thead th {\n",
       "        text-align: right;\n",
       "    }\n",
       "</style>\n",
       "<table border=\"1\" class=\"dataframe\">\n",
       "  <thead>\n",
       "    <tr style=\"text-align: right;\">\n",
       "      <th></th>\n",
       "      <th>Row_Hash</th>\n",
       "    </tr>\n",
       "  </thead>\n",
       "  <tbody>\n",
       "  </tbody>\n",
       "</table>\n",
       "</div>"
      ],
      "text/plain": [
       "Empty DataFrame\n",
       "Columns: [Row_Hash]\n",
       "Index: []"
      ]
     },
     "execution_count": 19,
     "metadata": {},
     "output_type": "execute_result"
    }
   ],
   "source": [
    "df #examine"
   ]
  },
  {
   "cell_type": "code",
   "execution_count": 21,
   "metadata": {},
   "outputs": [],
   "source": [
    "n_chips = 108\n",
    "chip_designs = ['coherence transmon', 'dosetest', 'Wooper v1']\n",
    "chip_file_path = ['aa','bb','cc']"
   ]
  },
  {
   "cell_type": "code",
   "execution_count": 22,
   "metadata": {},
   "outputs": [],
   "source": [
    "df = df.iloc[:n_chips]"
   ]
  },
  {
   "cell_type": "code",
   "execution_count": 23,
   "metadata": {},
   "outputs": [],
   "source": [
    "df['Chip Design'] = np.full(n_chips, chip_designs[0])\n",
    "df['Chip File Path'] = np.full(n_chips,chip_file_path[0])\n",
    "df['Chip Number'] = (np.arange(n_chips)+1).astype(str)\n",
    "df['Number'] = np.arange(n_chips)+1\n",
    "\n",
    "\n",
    "#notion entry identifiers that needs to be initialized as empty strings\n",
    "df['Row_Hash'] = np.full(n_chips,'')\n",
    "df['PageID'] = np.full(n_chips,'')\n",
    "\n",
    "#relations that Wendy haven't figured out how to directly specify\n",
    "df['Wafer'] = np.full(n_chips,'')\n",
    "\n"
   ]
  },
  {
   "cell_type": "code",
   "execution_count": 26,
   "metadata": {},
   "outputs": [
    {
     "data": {
      "text/html": [
       "<div>\n",
       "<style scoped>\n",
       "    .dataframe tbody tr th:only-of-type {\n",
       "        vertical-align: middle;\n",
       "    }\n",
       "\n",
       "    .dataframe tbody tr th {\n",
       "        vertical-align: top;\n",
       "    }\n",
       "\n",
       "    .dataframe thead th {\n",
       "        text-align: right;\n",
       "    }\n",
       "</style>\n",
       "<table border=\"1\" class=\"dataframe\">\n",
       "  <thead>\n",
       "    <tr style=\"text-align: right;\">\n",
       "      <th></th>\n",
       "      <th>Row_Hash</th>\n",
       "      <th>Chip Design</th>\n",
       "      <th>Chip File Path</th>\n",
       "      <th>Chip Number</th>\n",
       "      <th>Number</th>\n",
       "      <th>PageID</th>\n",
       "      <th>Wafer</th>\n",
       "    </tr>\n",
       "  </thead>\n",
       "  <tbody>\n",
       "    <tr>\n",
       "      <th>0</th>\n",
       "      <td>1883621264091615440</td>\n",
       "      <td>coherence transmon</td>\n",
       "      <td>aa</td>\n",
       "      <td>1</td>\n",
       "      <td>1</td>\n",
       "      <td>1828a47d-7220-81ae-ae4a-dfcaa4b543ce</td>\n",
       "      <td></td>\n",
       "    </tr>\n",
       "    <tr>\n",
       "      <th>1</th>\n",
       "      <td>6050024798644743203</td>\n",
       "      <td>coherence transmon</td>\n",
       "      <td>aa</td>\n",
       "      <td>2</td>\n",
       "      <td>2</td>\n",
       "      <td>1828a47d-7220-8134-bb0e-fc1ae7bba8e4</td>\n",
       "      <td></td>\n",
       "    </tr>\n",
       "    <tr>\n",
       "      <th>2</th>\n",
       "      <td>5129174317855022552</td>\n",
       "      <td>coherence transmon</td>\n",
       "      <td>aa</td>\n",
       "      <td>3</td>\n",
       "      <td>3</td>\n",
       "      <td>1828a47d-7220-8110-a459-e9b8fbd9bdb5</td>\n",
       "      <td></td>\n",
       "    </tr>\n",
       "    <tr>\n",
       "      <th>3</th>\n",
       "      <td>7227170168279952577</td>\n",
       "      <td>coherence transmon</td>\n",
       "      <td>aa</td>\n",
       "      <td>4</td>\n",
       "      <td>4</td>\n",
       "      <td>1828a47d-7220-81fa-9485-c65ba582d288</td>\n",
       "      <td></td>\n",
       "    </tr>\n",
       "    <tr>\n",
       "      <th>4</th>\n",
       "      <td>4289368560599857766</td>\n",
       "      <td>coherence transmon</td>\n",
       "      <td>aa</td>\n",
       "      <td>5</td>\n",
       "      <td>5</td>\n",
       "      <td>1828a47d-7220-81ff-9839-c81a171e9967</td>\n",
       "      <td></td>\n",
       "    </tr>\n",
       "    <tr>\n",
       "      <th>...</th>\n",
       "      <td>...</td>\n",
       "      <td>...</td>\n",
       "      <td>...</td>\n",
       "      <td>...</td>\n",
       "      <td>...</td>\n",
       "      <td>...</td>\n",
       "      <td>...</td>\n",
       "    </tr>\n",
       "    <tr>\n",
       "      <th>103</th>\n",
       "      <td>8354997821244939125</td>\n",
       "      <td>coherence transmon</td>\n",
       "      <td>aa</td>\n",
       "      <td>104</td>\n",
       "      <td>104</td>\n",
       "      <td>1828a47d-7220-81c1-9b5f-fc3abd02dc8c</td>\n",
       "      <td></td>\n",
       "    </tr>\n",
       "    <tr>\n",
       "      <th>104</th>\n",
       "      <td>3084133558368563203</td>\n",
       "      <td>coherence transmon</td>\n",
       "      <td>aa</td>\n",
       "      <td>105</td>\n",
       "      <td>105</td>\n",
       "      <td>1828a47d-7220-8105-88c6-e42e3bccff1a</td>\n",
       "      <td></td>\n",
       "    </tr>\n",
       "    <tr>\n",
       "      <th>105</th>\n",
       "      <td>3748849541124474053</td>\n",
       "      <td>coherence transmon</td>\n",
       "      <td>aa</td>\n",
       "      <td>106</td>\n",
       "      <td>106</td>\n",
       "      <td>1828a47d-7220-8154-8c7f-c6a31423c609</td>\n",
       "      <td></td>\n",
       "    </tr>\n",
       "    <tr>\n",
       "      <th>106</th>\n",
       "      <td>6249893212642718675</td>\n",
       "      <td>coherence transmon</td>\n",
       "      <td>aa</td>\n",
       "      <td>107</td>\n",
       "      <td>107</td>\n",
       "      <td>1828a47d-7220-8195-b30c-dbfc07b3e858</td>\n",
       "      <td></td>\n",
       "    </tr>\n",
       "    <tr>\n",
       "      <th>107</th>\n",
       "      <td>-3405085786609887881</td>\n",
       "      <td>coherence transmon</td>\n",
       "      <td>aa</td>\n",
       "      <td>108</td>\n",
       "      <td>108</td>\n",
       "      <td>1828a47d-7220-8185-850a-e5495ac59867</td>\n",
       "      <td></td>\n",
       "    </tr>\n",
       "  </tbody>\n",
       "</table>\n",
       "<p>108 rows × 7 columns</p>\n",
       "</div>"
      ],
      "text/plain": [
       "                 Row_Hash         Chip Design Chip File Path Chip Number  \\\n",
       "0     1883621264091615440  coherence transmon             aa           1   \n",
       "1     6050024798644743203  coherence transmon             aa           2   \n",
       "2     5129174317855022552  coherence transmon             aa           3   \n",
       "3     7227170168279952577  coherence transmon             aa           4   \n",
       "4     4289368560599857766  coherence transmon             aa           5   \n",
       "..                    ...                 ...            ...         ...   \n",
       "103   8354997821244939125  coherence transmon             aa         104   \n",
       "104   3084133558368563203  coherence transmon             aa         105   \n",
       "105   3748849541124474053  coherence transmon             aa         106   \n",
       "106   6249893212642718675  coherence transmon             aa         107   \n",
       "107  -3405085786609887881  coherence transmon             aa         108   \n",
       "\n",
       "     Number                                PageID Wafer  \n",
       "0         1  1828a47d-7220-81ae-ae4a-dfcaa4b543ce        \n",
       "1         2  1828a47d-7220-8134-bb0e-fc1ae7bba8e4        \n",
       "2         3  1828a47d-7220-8110-a459-e9b8fbd9bdb5        \n",
       "3         4  1828a47d-7220-81fa-9485-c65ba582d288        \n",
       "4         5  1828a47d-7220-81ff-9839-c81a171e9967        \n",
       "..      ...                                   ...   ...  \n",
       "103     104  1828a47d-7220-81c1-9b5f-fc3abd02dc8c        \n",
       "104     105  1828a47d-7220-8105-88c6-e42e3bccff1a        \n",
       "105     106  1828a47d-7220-8154-8c7f-c6a31423c609        \n",
       "106     107  1828a47d-7220-8195-b30c-dbfc07b3e858        \n",
       "107     108  1828a47d-7220-8185-850a-e5495ac59867        \n",
       "\n",
       "[108 rows x 7 columns]"
      ]
     },
     "execution_count": 26,
     "metadata": {},
     "output_type": "execute_result"
    }
   ],
   "source": [
    "df #inspect"
   ]
  },
  {
   "cell_type": "markdown",
   "metadata": {},
   "source": [
    "## Publish DataFrame to notion"
   ]
  },
  {
   "cell_type": "code",
   "execution_count": 25,
   "metadata": {},
   "outputs": [],
   "source": [
    "n2p.update_notion_DB_from_dataframe(wafer_chips_id, df)"
   ]
  }
 ],
 "metadata": {
  "kernelspec": {
   "display_name": "qmetal",
   "language": "python",
   "name": "qmetal"
  },
  "language_info": {
   "codemirror_mode": {
    "name": "ipython",
    "version": 3
   },
   "file_extension": ".py",
   "mimetype": "text/x-python",
   "name": "python",
   "nbconvert_exporter": "python",
   "pygments_lexer": "ipython3",
   "version": "3.10.8"
  }
 },
 "nbformat": 4,
 "nbformat_minor": 2
}
