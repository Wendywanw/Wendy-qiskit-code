{
 "cells": [
  {
   "cell_type": "code",
   "execution_count": 1,
   "metadata": {},
   "outputs": [],
   "source": [
    "%reload_ext autoreload\n",
    "%autoreload 2\n",
    "\n",
    "import sys\n",
    "\n",
    "sys.path.append('../Customized_Components') #this path is not right for this PC. Maybne this will work?\n",
    "from bandaged_dolan import DolanJunctionBandage\n",
    "from houcklab_qubit import DiffTransmonRounded\n",
    "\n",
    "import warnings\n",
    "\n",
    "import shapely\n",
    "from CoupledLineTee import CoupledLineTee\n",
    "from dolan_junction import DolanJunction\n",
    "from LaunchpadWirebondCustom import LaunchpadWirebondCustom\n",
    "from shapely.errors import ShapelyDeprecationWarning\n",
    "from single_pad_transmon_pocket import TransmonPocket_Single\n",
    "\n",
    "warnings.filterwarnings(\"ignore\", category=ShapelyDeprecationWarning)\n",
    "from collections import OrderedDict\n",
    "\n",
    "import Default_res_params as dp\n",
    "import matplotlib.pyplot as plt\n",
    "import numpy as np\n",
    "import pandas as pd\n",
    "import copy\n",
    "\n",
    "# from qiskit_metal.qlibrary.couplers.coupled_line_tee import CoupledLineTee\n",
    "# from qiskit_metal.qlibrary.terminations.launchpad_wb import LaunchpadWirebond\n",
    "# import pyEPR as epr\n",
    "from qiskit_metal import Dict, Headings, MetalGUI, designs, draw\n",
    "# from qiskit_metal.qlibrary.terminations.open_to_ground import OpenToGround\n",
    "# from qiskit_metal.qlibrary.terminations.short_to_ground import ShortToGround\n",
    "# from qiskit_metal.qlibrary.tlines.anchored_path import RouteAnchors\n",
    "# from qiskit_metal.qlibrary.tlines.mixed_path import RouteMeander, RouteMixed\n",
    "# from qiskit_metal.qlibrary.tlines.straight_path import RouteStraight\n",
    "# from qiskit_metal.toolbox_metal.parsing import *\n"
   ]
  },
  {
   "cell_type": "code",
   "execution_count": 2,
   "metadata": {},
   "outputs": [],
   "source": [
    "gui = MetalGUI(dp.design)\n",
    "design = dp.design\n",
    "design.overwrite_enabled = True"
   ]
  },
  {
   "cell_type": "code",
   "execution_count": null,
   "metadata": {},
   "outputs": [],
   "source": []
  },
  {
   "cell_type": "markdown",
   "metadata": {},
   "source": [
    "## Calculate Qubit Params"
   ]
  },
  {
   "cell_type": "code",
   "execution_count": 3,
   "metadata": {},
   "outputs": [],
   "source": [
    "import Transmon_property as tp"
   ]
  },
  {
   "cell_type": "code",
   "execution_count": 4,
   "metadata": {},
   "outputs": [],
   "source": [
    "import scqubits as scq\n",
    "import numpy as np\n",
    "import matplotlib.pyplot as plt\n",
    "import astropy.units as u\n",
    "import astropy.constants as c\n",
    "\n",
    "from scipy.optimize import root_scalar"
   ]
  },
  {
   "cell_type": "code",
   "execution_count": 5,
   "metadata": {},
   "outputs": [],
   "source": [
    "ratio = 65\n",
    "Phi0 = (c.h / (2 * c.e.si))  # Flux quantum in Weber\n",
    "\n",
    "def inductance_to_cap(L,ratio = ratio):\n",
    "    EJ = (((Phi0/2/np.pi)**2/L).to(u.J)/c.h).to(u.GHz)\n",
    "    EC = EJ/ratio\n",
    "    return (c.e.si**2 / (2 * EC)/c.h).to(u.fF)\n",
    "\n",
    "def target_function(L, desired_frequency, ratio):\n",
    "    L = L * u.nH  # Convert L to nanohenrys\n",
    "    calculated_frequency = calculate_qubit_freq(L, ratio)\n",
    "    return calculated_frequency - desired_frequency\n",
    "def calculate_qubit_freq(L,ratio = ratio):\n",
    "    \n",
    "    EJ = (((Phi0/2/np.pi)**2/L).to(u.J)/c.h).to(u.GHz)\n",
    "    EC = EJ/ratio\n",
    "    ng = 0.0   # Offset charge\n",
    "    nlev = 10  # Number of energy levels to consider\n",
    "\n",
    "    # Create a Transmon object\n",
    "    transmon = scq.Transmon(EJ=EJ.value, EC=EC.value, ng=ng, ncut=30, truncated_dim=nlev)\n",
    "\n",
    "    # Calculate the eigenenergies\n",
    "    eigenenergies = transmon.eigenvals()\n",
    "\n",
    "    # Calculate the transition frequencies (in GHz)\n",
    "    transition_frequencies = np.diff(eigenenergies)\n",
    "\n",
    "    # Calculate the anharmonicity (in GHz)\n",
    "    anharmonicity = transition_frequencies[1] - transition_frequencies[0]\n",
    "    return transition_frequencies[0]\n",
    "    \n",
    "class TransmonQubit():\n",
    "    def __init__(self, freq, ratio):\n",
    "        self.freq = freq\n",
    "        self.ratio = ratio\n",
    "        self.C = None,\n",
    "        self.L = None\n",
    "        self.EJ = None\n",
    "        self.EC = None\n",
    "        self.update_params()\n",
    "        self.alpha = self.EC\n",
    "        \n",
    "    def update_params(self):\n",
    "        self.C, self.L = self.qubit_freq_to_cap()\n",
    "        Phi0 = (c.h / (2 * c.e.si))  # Flux quantum in Weber\n",
    "\n",
    "        # Calculate the Josephson energy EJ and charging energy EC\n",
    "        EJ = (((Phi0/2/np.pi)**2/self.L).to(u.J)/c.h).to(u.GHz)#, equivalencies=u.spectral())  # Convert to GHz\n",
    "        EC = (c.e.si**2 / (2 * self.C)/c.h).to(u.GHz)\n",
    "        self.EJ = EJ\n",
    "        self.EC = EC\n",
    "        \n",
    "    def get_params(self):\n",
    "        return [self.freq, self.ratio, self.qubit_capacitance, self.qubit_inductance, self.EJ, self.EC]\n",
    "    def get_qcap(self):\n",
    "        return self.C\n",
    "    \n",
    "    def get_qind(self):\n",
    "        return self.L\n",
    "    \n",
    "    def get_EJ(self):\n",
    "        return self.EJ\n",
    "    \n",
    "    def get_EC(self):\n",
    "        return self.EC\n",
    "    \n",
    "    def qubit_freq_to_cap(self, ):\n",
    "        desired_frequency = self.freq   # Desired frequency in GHz\n",
    "        ratio = self.ratio\n",
    "        # Use scipy.optimize.root_scalar to find the root\n",
    "        def target_function(L, desired_frequency,):\n",
    "            self.L = L * u.nH  # Convert L to nanohenrys\n",
    "            self.calculate_qubit_freq()\n",
    "            calculated_frequency = self.freq.to(u.GHz).value\n",
    "            return calculated_frequency - desired_frequency\n",
    "        result = root_scalar(target_function, args=(desired_frequency.to(u.GHz).value,), bracket=[1, 100], method='brentq')\n",
    "\n",
    "        # Print the result\n",
    "        if result.converged:\n",
    "            L_optimal = result.root\n",
    "            print(f\"Optimal inductance L: {L_optimal} nH\")\n",
    "        else:\n",
    "            print(\"Root finding did not converge\")\n",
    "        c_optimal = inductance_to_cap(L_optimal*u.nH, ratio = ratio)\n",
    "        return c_optimal, L_optimal*u.nH\n",
    "    def calculate_qubit_freq(self,):\n",
    "        L = self.L\n",
    "        ratio = self.ratio\n",
    "        EJ = (((Phi0/2/np.pi)**2/L).to(u.J)/c.h).to(u.GHz)\n",
    "        #, equivalencies=u.spectral())  # Convert to GHz\n",
    "        EC = EJ/ratio\n",
    "        ng = 0.0   # Offset charge\n",
    "        nlev = 10  # Number of energy levels to consider\n",
    "\n",
    "        # Create a Transmon object\n",
    "        transmon = scq.Transmon(EJ=EJ.value, EC=EC.value, ng=ng, ncut=30, truncated_dim=nlev)\n",
    "\n",
    "        # Calculate the eigenenergies\n",
    "        eigenenergies = transmon.eigenvals()\n",
    "\n",
    "        # Calculate the transition frequencies (in GHz)\n",
    "        transition_frequencies = np.diff(eigenenergies)\n",
    "\n",
    "        # Calculate the anharmonicity (in GHz)\n",
    "        anharmonicity = transition_frequencies[1] - transition_frequencies[0]\n",
    "        self.freq = transition_frequencies[0]*u.GHz\n",
    "        self.alpha = anharmonicity*u.GHz\n",
    "    "
   ]
  },
  {
   "cell_type": "code",
   "execution_count": 6,
   "metadata": {},
   "outputs": [
    {
     "name": "stdout",
     "output_type": "stream",
     "text": [
      "Optimal inductance L: 13.676453476080171 nH\n"
     ]
    }
   ],
   "source": [
    "qubit = TransmonQubit(4*u.GHz, ratio = 65)"
   ]
  },
  {
   "cell_type": "code",
   "execution_count": 7,
   "metadata": {},
   "outputs": [
    {
     "data": {
      "text/latex": [
       "$0.18387753 \\; \\mathrm{GHz}$"
      ],
      "text/plain": [
       "<Quantity 0.18387753 GHz>"
      ]
     },
     "execution_count": 7,
     "metadata": {},
     "output_type": "execute_result"
    }
   ],
   "source": [
    "qubit.EC"
   ]
  },
  {
   "cell_type": "code",
   "execution_count": 8,
   "metadata": {},
   "outputs": [
    {
     "data": {
      "text/latex": [
       "$0.18387753 \\; \\mathrm{GHz}$"
      ],
      "text/plain": [
       "<Quantity 0.18387753 GHz>"
      ]
     },
     "execution_count": 8,
     "metadata": {},
     "output_type": "execute_result"
    }
   ],
   "source": [
    "qubit.alpha"
   ]
  },
  {
   "cell_type": "markdown",
   "metadata": {},
   "source": [
    "Design specifics"
   ]
  },
  {
   "cell_type": "code",
   "execution_count": 9,
   "metadata": {},
   "outputs": [],
   "source": [
    "from Transmon_specifications import find_junction_area, find_junction_capacitance"
   ]
  },
  {
   "cell_type": "code",
   "execution_count": 10,
   "metadata": {},
   "outputs": [],
   "source": [
    "def pad_len_from_C(c):\n",
    "    slope = (900-500)/(101.367-61.365)\n",
    "    intercept = 500 - slope*61.365\n",
    "    \n",
    "    return slope*c.to(u.fF).value + intercept \n",
    "def unitless_find_j_area(L):\n",
    "    return find_junction_area(L*u.nH,Jc = 0.42*u.uA/u.um**2).to(u.um**2).value\n",
    "\n",
    "def unitless_find_pad_len(C):\n",
    "    slope = (900-500)/(101.367-61.365)\n",
    "    intercept = 500 - slope*61.365\n",
    "    \n",
    "    return slope*C + intercept"
   ]
  },
  {
   "cell_type": "code",
   "execution_count": 11,
   "metadata": {},
   "outputs": [],
   "source": [
    "def convert_capacitance_to_energy(capacitance):\n",
    "    C = capacitance*u.fF\n",
    "    return (c.e.si**2 / (2 * C)/c.h).to(u.GHz)\n",
    "\n",
    "def get_cap_params(caps, cj):\n",
    "    cap_matrix = copy.deepcopy(caps)\n",
    "    T = np.array([[1,0,-1,0],\n",
    "              [0,1,0,0],\n",
    "              [1,0,1,0],\n",
    "              [0,0,0,1]])\n",
    "    cap_matrix[0,2] -= cj\n",
    "    cap_matrix[2,0] -= cj\n",
    "    cap_matrix[2,2] += cj\n",
    "    cap_matrix[0,0] += cj\n",
    "    differential_cap_matrix = np.linalg.inv(T).T@(cap_matrix)@np.linalg.inv(T)\n",
    "    inverse = np.linalg.inv(differential_cap_matrix)\n",
    "    qubit_capacitance = np.reciprocal(inverse)[0,0]\n",
    "    coupling_capacitance = np.reciprocal(inverse)[0,1]\n",
    "    Ec = convert_capacitance_to_energy(qubit_capacitance)\n",
    "    g = 8*convert_capacitance_to_energy(coupling_capacitance).to(u.MHz)\n",
    "    return [Ec,g,qubit_capacitance,coupling_capacitance]\n",
    "    "
   ]
  },
  {
   "cell_type": "code",
   "execution_count": 12,
   "metadata": {},
   "outputs": [
    {
     "data": {
      "text/plain": [
       "[<Quantity 0.48425573 GHz>, <Quantity 0. MHz>, 40.0, inf]"
      ]
     },
     "execution_count": 12,
     "metadata": {},
     "output_type": "execute_result"
    }
   ],
   "source": [
    "get_cap_params(np.array([[80,0,0,0],[0,80,0,0],[0,0,80,0],[0,0,0,80]]),0.5)"
   ]
  },
  {
   "cell_type": "markdown",
   "metadata": {},
   "source": [
    "## Resonator calculations"
   ]
  },
  {
   "cell_type": "code",
   "execution_count": 13,
   "metadata": {},
   "outputs": [],
   "source": [
    "import astropy.units as u\n",
    "import astropy.constants as c\n",
    "import scipy.optimize as optimize\n",
    "\n",
    "# define constants for LL designs\n",
    "sub_t = 350*u.um #substrate thickness (Si in this case)\n",
    "metal_t = 100*u.nm #Deposited metal thickness (Al)\n",
    "Sc = 67*u.fF/(u.um)**2 #JJ specific capacitance\n",
    "epsilon = 11.45\n",
    "W_jj = 200*u.nm #junction width\n",
    "Z0 = 50*u.Ohm #characteristic impedance\n",
    "import qiskit_metal.analyses as analyses"
   ]
  },
  {
   "cell_type": "code",
   "execution_count": 14,
   "metadata": {},
   "outputs": [],
   "source": [
    "freq = 6*u.GHz.si\n",
    "line_width = 15*u.um\n",
    "line_gap = 8.30*u.um"
   ]
  },
  {
   "cell_type": "markdown",
   "metadata": {},
   "source": [
    "Optimal pin-gap ratio for resonator and feedlines"
   ]
  },
  {
   "cell_type": "code",
   "execution_count": 88,
   "metadata": {},
   "outputs": [],
   "source": [
    "class ReadoutResonator():\n",
    "    def __init__(self, freq, short_on_one_end = False,optimal_pin = None, optimal_gap = None ):\n",
    "        self.freq = freq\n",
    "        self.short_on_one_end = short_on_one_end\n",
    "        self.substrate_thickness = 350*u.um\n",
    "        self.film_thickness = 100*u.nm\n",
    "        if (optimal_gap is None) and (optimal_pin is None):\n",
    "            self.pin = 15*u.um\n",
    "            self.optimize_gap()\n",
    "        elif optimal_gap is None:\n",
    "            self.pin = optimal_pin\n",
    "            self.optimize_gap()\n",
    "        elif optimal_pin is None:\n",
    "            self.gap = optimal_gap\n",
    "            self.optimize_pin()\n",
    "        \n",
    "        self.param_from_res_freq(freq, short_on_one_end = short_on_one_end)\n",
    "        self.C = np.pi/2/self.freq/2/np.pi/self.Z0\n",
    "        \n",
    "    def get_params(self):\n",
    "        return [self.L, self.C, self.target_length]\n",
    "    \n",
    "    def get_L(self):\n",
    "        return self.L\n",
    "    \n",
    "    def get_C(self):\n",
    "        return self.C\n",
    "    \n",
    "    def get_target_length(self):\n",
    "        return self.target_length\n",
    "    \n",
    "    def param_from_res_freq(self,freq, short_on_one_end = False):\n",
    "        self.Lk, self.Lext,self.Cl,self.G,self.Z0,self.etf,self.Cstar = analyses.cpw_calculations.lumped_cpw(freq = self.freq.to(u.Hz).value,\n",
    "                                        line_width=self.pin.to(u.m).value,\n",
    "                                        line_gap=self.gap.to(u.m).value,\n",
    "                                        substrate_thickness=self.substrate_thickness.to(u.m).value,\n",
    "                                        film_thickness=self.film_thickness.to(u.m).value,)\n",
    "        self.Lk*=u.H\n",
    "        self.Lext*=u.H\n",
    "        self.Cl*=u.F/u.m\n",
    "        \n",
    "        self.G*=u.S\n",
    "        self.Z0*=u.Ohm\n",
    "        self.etf*=u.H/u.m\n",
    "        self.Cstar*=u.F\n",
    "        target_length = analyses.cpw_calculations.guided_wavelength(freq = self.freq.to(u.Hz).value,\n",
    "                                        line_width=self.pin.to(u.m).value,\n",
    "                                        line_gap=self.gap.to(u.m).value,\n",
    "                                        substrate_thickness=self.substrate_thickness.to(u.m).value,\n",
    "                                        film_thickness=self.film_thickness.to(u.m).value,)[0]*u.m\n",
    "        if short_on_one_end:\n",
    "            target_length /= 4\n",
    "        else:\n",
    "            target_length /= 2\n",
    "        self.len = target_length\n",
    "    def optimize_gap(self):\n",
    "        def f(line_gap):\n",
    "            return(analyses.cpw_calculations.lumped_cpw(self.freq.to(u.Hz).value,\n",
    "                                            self.pin.to(u.m).value,\n",
    "                                            line_gap,\n",
    "                                            self.substrate_thickness.to(u.m).value,\n",
    "                                            self.film_thickness.to(u.m).value)[4]-50)\n",
    "        optimized_gap = optimize.fsolve(f,self.pin.si.value)[0]*u.m\n",
    "        self.gap = optimized_gap.to(u.um)\n",
    "    def optimize_pin(self):\n",
    "        def f(line_width):\n",
    "            return(analyses.cpw_calculations.lumped_cpw(self.freq.to(u.Hz).value,\n",
    "                                            line_width,\n",
    "                                            self.gap.si.value,\n",
    "                                            self.substrate_thickness.to(u.m).value,\n",
    "                                            self.film_thickness.to(u.m).value)[4]-50)\n",
    "        optimized_pin = optimize.fsolve(f,self.gap.si.value)[0]*u.m\n",
    "        self.pin = optimized_pin.to(u.um)"
   ]
  },
  {
   "cell_type": "code",
   "execution_count": 89,
   "metadata": {},
   "outputs": [],
   "source": [
    "res = ReadoutResonator(6*u.GHz, short_on_one_end = False, optimal_pin = 20*u.um)"
   ]
  },
  {
   "cell_type": "code",
   "execution_count": 90,
   "metadata": {},
   "outputs": [],
   "source": [
    "class DispersiveReadout():\n",
    "    def __init__(self, qubit, res, T1, c_qr = None, c_tr = None):\n",
    "        self.qubit = qubit\n",
    "        self.res = res\n",
    "        self.pT1 = T1\n",
    "        self.optimize_cqr()\n",
    "        self.optimize_ctr()\n",
    "        \n",
    "    def get_params(self):\n",
    "        return [self.qubit, self.res, self.c_qr, self.c_tr]\n",
    "    \n",
    "    def get_cqr(self):\n",
    "        return self.c_qr\n",
    "    \n",
    "    def get_ctr(self):\n",
    "        return self.c_tr\n",
    "    \n",
    "    def get_qubit(self):\n",
    "        return self.qubit\n",
    "    \n",
    "    def get_res(self):\n",
    "        return self.res\n",
    "    def calc_g(self):\n",
    "        c_qr = self.c_qr\n",
    "        Cq = self.qubit.C\n",
    "        Cr = self.res.C\n",
    "        wq = self.qubit.freq*np.pi*2\n",
    "        wr = self.res.freq*np.pi*2\n",
    "        EJ = self.qubit.EJ\n",
    "        EC = self.qubit.EC\n",
    "        return c_qr/Cq*np.sqrt(c.e.si**2*wr/c.hbar/Cr)*(EJ/8/EC)**0.25\n",
    "    def calc_kappa(self):\n",
    "        res = self.res\n",
    "        c_tr = self.c_tr\n",
    "        return (analyses.em.kappa_calculation.kappa_in(res.freq.si.value,\n",
    "                                       c_tr.si.value,\n",
    "                                       res.freq.si.value)*u.Hz).to(u.MHz)\n",
    "    def calc_chi(self):\n",
    "        qubit = self.qubit\n",
    "        resonator = self.res\n",
    "        g_val = self.calc_g()\n",
    "        delta = (qubit.freq-resonator.freq)*2*np.pi\n",
    "        sum_freq = (qubit.freq+resonator.freq)*2*np.pi\n",
    "        alpha = qubit.EC\n",
    "        return 2*g_val**2*(alpha/delta/(delta+alpha)+alpha/sum_freq/(sum_freq+alpha))\n",
    "    def calc_purcellT1(self,):\n",
    "        qubit = self.qubit\n",
    "        res = self.res\n",
    "        kappa_val = self.calc_kappa()\n",
    "        g_val = self.calc_g()\n",
    "        delta = (qubit.freq-res.freq)*2*np.pi\n",
    "        \n",
    "        purcellGamma = g_val**2*kappa_val/delta**2\n",
    "        \n",
    "        return 1/purcellGamma/2/np.pi\n",
    "    def calc_purcellT1q(self,):\n",
    "        '''taking kappa = 2*chi for the optimal SNR, can directly get the T1q'''\n",
    "        c_qr = self.c_qr\n",
    "        qubit = self.qubit\n",
    "        res = self.res\n",
    "        g_val = self.calc_g()\n",
    "        delta = (qubit.freq-res.freq)*2*np.pi\n",
    "        \n",
    "        chi_val = self.calc_chi()\n",
    "        kappa_val = chi_val*2\n",
    "        \n",
    "        purcellGamma = g_val**2*kappa_val/delta**2\n",
    "        \n",
    "        return 1/purcellGamma/2/np.pi\n",
    "    def optimize_cqr(self,):\n",
    "        '''find the optimal coupling capacitance'''\n",
    "        target_t1 = self.pT1\n",
    "        c_qr = 1*u.fF\n",
    "        self.c_qr = c_qr\n",
    "        while self.calc_purcellT1q().to(u.ms) > 1.01*target_t1:\n",
    "            c_qr += .1*u.fF\n",
    "            self.c_qr = c_qr\n",
    "        return c_qr\n",
    "    def optimize_ctr(self, target_kappa=None):\n",
    "        '''find the optimal coupling capacitance'''\n",
    "        if target_kappa is None:\n",
    "            target_kappa = self.calc_chi()*2\n",
    "        c_tr = 1*u.fF\n",
    "        self.c_tr = c_tr\n",
    "        while self.calc_kappa() < target_kappa:\n",
    "            c_tr += .1*u.fF\n",
    "            self.c_tr = c_tr\n",
    "        # return c_tr\n"
   ]
  },
  {
   "cell_type": "code",
   "execution_count": 91,
   "metadata": {},
   "outputs": [
    {
     "data": {
      "text/latex": [
       "$50 \\; \\mathrm{\\Omega}$"
      ],
      "text/plain": [
       "<Quantity 50. Ohm>"
      ]
     },
     "execution_count": 91,
     "metadata": {},
     "output_type": "execute_result"
    }
   ],
   "source": [
    "res.Z0"
   ]
  },
  {
   "cell_type": "code",
   "execution_count": 92,
   "metadata": {},
   "outputs": [
    {
     "data": {
      "text/latex": [
       "$0.00083333333 \\; \\mathrm{\\frac{1}{GHz\\,\\Omega}}$"
      ],
      "text/plain": [
       "<Quantity 0.00083333 1 / (GHz Ohm)>"
      ]
     },
     "execution_count": 92,
     "metadata": {},
     "output_type": "execute_result"
    }
   ],
   "source": [
    "res.C"
   ]
  },
  {
   "cell_type": "code",
   "execution_count": 93,
   "metadata": {},
   "outputs": [
    {
     "name": "stdout",
     "output_type": "stream",
     "text": [
      "Optimal inductance L: 13.676453476080171 nH\n"
     ]
    }
   ],
   "source": [
    "qubit = TransmonQubit(4*u.GHz, ratio = 65)\n",
    "res = ReadoutResonator(6*u.GHz, short_on_one_end = False)\n",
    "dr = DispersiveReadout(qubit,res,5*u.ms)"
   ]
  },
  {
   "cell_type": "code",
   "execution_count": 19,
   "metadata": {},
   "outputs": [],
   "source": [
    "c1, renderer_q3d, q3d = dp.init_q3d_sim()"
   ]
  },
  {
   "cell_type": "code",
   "execution_count": 20,
   "metadata": {},
   "outputs": [],
   "source": [
    "default_options = Dict(\n",
    "        cut_l='800um',\n",
    "        cut_h='1200um',\n",
    "        gap='20um',\n",
    "        w = '90um',\n",
    "        l = '900um',\n",
    "        r = '60um',\n",
    "        cpw_l = '50um',\n",
    "        coupling_gap = '40um',\n",
    "        JJ_cutout_w = '70um',\n",
    "        JJ_cutout_h = '70um',\n",
    "        JJ_cutout_r = '150um',\n",
    "        JJ_c_contact_l = '40um',\n",
    "        JJ_c_contact_r = '2.5um',\n",
    "        JJ_c_contact_w = '10um',\n",
    "        coupling_d = '100um',\n",
    "        coupling_pad_w = '90um',\n",
    "        coupling_r = '40um',\n",
    "        cpw_pin = '10um',\n",
    "        chip='main',\n",
    "        resolution = '10',\n",
    "        junction = 'False',\n",
    "        orientation = '0',\n",
    "        JJ_c_contact_shortl = '10um',\n",
    "        istunnel = 'False')"
   ]
  },
  {
   "cell_type": "code",
   "execution_count": 21,
   "metadata": {},
   "outputs": [
    {
     "ename": "Exception",
     "evalue": "stop!",
     "output_type": "error",
     "traceback": [
      "\u001b[1;31m---------------------------------------------------------------------------\u001b[0m",
      "\u001b[1;31mException\u001b[0m                                 Traceback (most recent call last)",
      "Cell \u001b[1;32mIn [21], line 1\u001b[0m\n\u001b[1;32m----> 1\u001b[0m \u001b[38;5;28;01mraise\u001b[39;00m \u001b[38;5;167;01mException\u001b[39;00m(\u001b[38;5;124m'\u001b[39m\u001b[38;5;124mstop!\u001b[39m\u001b[38;5;124m'\u001b[39m)\n",
      "\u001b[1;31mException\u001b[0m: stop!"
     ]
    }
   ],
   "source": [
    "raise Exception('stop!')"
   ]
  },
  {
   "cell_type": "markdown",
   "metadata": {},
   "source": []
  },
  {
   "cell_type": "markdown",
   "metadata": {},
   "source": [
    "## Qiskit Metal"
   ]
  },
  {
   "cell_type": "code",
   "execution_count": 78,
   "metadata": {},
   "outputs": [
    {
     "data": {
      "text/latex": [
       "$13.676453 \\; \\mathrm{nH}$"
      ],
      "text/plain": [
       "<Quantity 13.67645348 nH>"
      ]
     },
     "execution_count": 78,
     "metadata": {},
     "output_type": "execute_result"
    }
   ],
   "source": [
    "qubit.L.to(u.nH)"
   ]
  },
  {
   "cell_type": "code",
   "execution_count": 23,
   "metadata": {},
   "outputs": [
    {
     "name": "stderr",
     "output_type": "stream",
     "text": [
      "INFO 06:52PM [connect_project]: Connecting to Ansys Desktop API...\n",
      "INFO 06:52PM [load_ansys_project]: \tOpened Ansys App\n",
      "INFO 06:52PM [load_ansys_project]: \tOpened Ansys Desktop v2021.2.0\n",
      "INFO 06:52PM [load_ansys_project]: \tOpened Ansys Project\n",
      "\tFolder:    C:/Users/slab/Documents/Ansoft/\n",
      "\tProject:   Project48\n",
      "INFO 06:52PM [connect_design]: No active design found (or error getting active design).\n",
      "INFO 06:52PM [connect]: \t Connected to project \"Project48\". No design detected\n",
      "INFO 06:52PM [connect_design]: \tOpened active design\n",
      "\tDesign:    Design_q3d [Solution type: Q3D]\n",
      "WARNING 06:52PM [connect_setup]: \tNo design setup detected.\n",
      "WARNING 06:52PM [connect_setup]: \tCreating Q3D default setup.\n",
      "INFO 06:52PM [get_setup]: \tOpened setup `Setup`  (<class 'pyEPR.ansys.AnsysQ3DSetup'>)\n",
      "INFO 06:52PM [get_setup]: \tOpened setup `Setup`  (<class 'pyEPR.ansys.AnsysQ3DSetup'>)\n",
      "INFO 06:52PM [analyze]: Analyzing setup Setup\n",
      "INFO 06:53PM [get_matrix]: Exporting matrix data to (C:\\Users\\slab\\AppData\\Local\\Temp\\tmp05dz1x2c.txt, C, , Setup:LastAdaptive, \"Original\", \"ohm\", \"nH\", \"fF\", \"mSie\", 5000000000, Maxwell, 1, False\n",
      "INFO 06:53PM [get_matrix]: Exporting matrix data to (C:\\Users\\slab\\AppData\\Local\\Temp\\tmpbzc4hyyu.txt, C, , Setup:AdaptivePass, \"Original\", \"ohm\", \"nH\", \"fF\", \"mSie\", 5000000000, Maxwell, 1, False\n",
      "INFO 06:53PM [get_matrix]: Exporting matrix data to (C:\\Users\\slab\\AppData\\Local\\Temp\\tmp5516bhv4.txt, C, , Setup:AdaptivePass, \"Original\", \"ohm\", \"nH\", \"fF\", \"mSie\", 5000000000, Maxwell, 2, False\n",
      "INFO 06:53PM [get_matrix]: Exporting matrix data to (C:\\Users\\slab\\AppData\\Local\\Temp\\tmpwjngvs3o.txt, C, , Setup:AdaptivePass, \"Original\", \"ohm\", \"nH\", \"fF\", \"mSie\", 5000000000, Maxwell, 3, False\n",
      "INFO 06:53PM [get_matrix]: Exporting matrix data to (C:\\Users\\slab\\AppData\\Local\\Temp\\tmp7edbmp7p.txt, C, , Setup:AdaptivePass, \"Original\", \"ohm\", \"nH\", \"fF\", \"mSie\", 5000000000, Maxwell, 4, False\n",
      "INFO 06:53PM [get_matrix]: Exporting matrix data to (C:\\Users\\slab\\AppData\\Local\\Temp\\tmpa75ro5qu.txt, C, , Setup:AdaptivePass, \"Original\", \"ohm\", \"nH\", \"fF\", \"mSie\", 5000000000, Maxwell, 5, False\n",
      "INFO 06:53PM [get_matrix]: Exporting matrix data to (C:\\Users\\slab\\AppData\\Local\\Temp\\tmpaifjq5sv.txt, C, , Setup:AdaptivePass, \"Original\", \"ohm\", \"nH\", \"fF\", \"mSie\", 5000000000, Maxwell, 6, False\n",
      "INFO 06:53PM [get_matrix]: Exporting matrix data to (C:\\Users\\slab\\AppData\\Local\\Temp\\tmpxr28cu_p.txt, C, , Setup:AdaptivePass, \"Original\", \"ohm\", \"nH\", \"fF\", \"mSie\", 5000000000, Maxwell, 7, False\n",
      "INFO 06:53PM [get_matrix]: Exporting matrix data to (C:\\Users\\slab\\AppData\\Local\\Temp\\tmp4_d8d6cf.txt, C, , Setup:AdaptivePass, \"Original\", \"ohm\", \"nH\", \"fF\", \"mSie\", 5000000000, Maxwell, 8, False\n",
      "INFO 06:53PM [get_matrix]: Exporting matrix data to (C:\\Users\\slab\\AppData\\Local\\Temp\\tmpodruy2yn.txt, C, , Setup:AdaptivePass, \"Original\", \"ohm\", \"nH\", \"fF\", \"mSie\", 5000000000, Maxwell, 9, False\n",
      "INFO 06:53PM [get_matrix]: Exporting matrix data to (C:\\Users\\slab\\AppData\\Local\\Temp\\tmpsmjb_quc.txt, C, , Setup:AdaptivePass, \"Original\", \"ohm\", \"nH\", \"fF\", \"mSie\", 5000000000, Maxwell, 10, False\n",
      "INFO 06:53PM [get_matrix]: Exporting matrix data to (C:\\Users\\slab\\AppData\\Local\\Temp\\tmpcfmiv18u.txt, C, , Setup:AdaptivePass, \"Original\", \"ohm\", \"nH\", \"fF\", \"mSie\", 5000000000, Maxwell, 11, False\n"
     ]
    },
    {
     "name": "stdout",
     "output_type": "stream",
     "text": [
      "1000\n",
      "                   ground_main_plane  pad_left_Q1  pad_right_Q1  \\\n",
      "ground_main_plane          284.38954   -103.35637     -75.22100   \n",
      "pad_left_Q1               -103.35637    184.90850     -67.99716   \n",
      "pad_right_Q1               -75.22100    -67.99716     147.17341   \n",
      "resonator_pad_Q1           -15.95247    -10.45159      -1.40574   \n",
      "\n",
      "                   resonator_pad_Q1  \n",
      "ground_main_plane         -15.95247  \n",
      "pad_left_Q1               -10.45159  \n",
      "pad_right_Q1               -1.40574  \n",
      "resonator_pad_Q1           28.08333  \n"
     ]
    },
    {
     "name": "stderr",
     "output_type": "stream",
     "text": [
      "WARNING:py.warnings:SettingWithCopyWarning: \n",
      "A value is trying to be set on a copy of a slice from a DataFrame.\n",
      "Try using .loc[row_indexer,col_indexer] = value instead\n",
      "\n",
      "See the caveats in the documentation: https://pandas.pydata.org/pandas-docs/stable/user_guide/indexing.html#returning-a-view-versus-a-copy\n",
      " C:\\Users\\slab\\AppData\\Local\\Temp\\ipykernel_20728\\1954483913.py: 24\n",
      "WARNING:py.warnings:SettingWithCopyWarning: \n",
      "A value is trying to be set on a copy of a slice from a DataFrame.\n",
      "Try using .loc[row_indexer,col_indexer] = value instead\n",
      "\n",
      "See the caveats in the documentation: https://pandas.pydata.org/pandas-docs/stable/user_guide/indexing.html#returning-a-view-versus-a-copy\n",
      " C:\\Users\\slab\\AppData\\Local\\Temp\\ipykernel_20728\\1954483913.py: 24\n",
      "WARNING:py.warnings:SettingWithCopyWarning: \n",
      "A value is trying to be set on a copy of a slice from a DataFrame.\n",
      "Try using .loc[row_indexer,col_indexer] = value instead\n",
      "\n",
      "See the caveats in the documentation: https://pandas.pydata.org/pandas-docs/stable/user_guide/indexing.html#returning-a-view-versus-a-copy\n",
      " C:\\Users\\slab\\AppData\\Local\\Temp\\ipykernel_20728\\1954483913.py: 24\n",
      "WARNING:py.warnings:SettingWithCopyWarning: \n",
      "A value is trying to be set on a copy of a slice from a DataFrame.\n",
      "Try using .loc[row_indexer,col_indexer] = value instead\n",
      "\n",
      "See the caveats in the documentation: https://pandas.pydata.org/pandas-docs/stable/user_guide/indexing.html#returning-a-view-versus-a-copy\n",
      " C:\\Users\\slab\\AppData\\Local\\Temp\\ipykernel_20728\\1954483913.py: 24\n",
      "WARNING:py.warnings:SettingWithCopyWarning: \n",
      "A value is trying to be set on a copy of a slice from a DataFrame.\n",
      "Try using .loc[row_indexer,col_indexer] = value instead\n",
      "\n",
      "See the caveats in the documentation: https://pandas.pydata.org/pandas-docs/stable/user_guide/indexing.html#returning-a-view-versus-a-copy\n",
      " C:\\Users\\slab\\AppData\\Local\\Temp\\ipykernel_20728\\1954483913.py: 24\n",
      "WARNING:py.warnings:SettingWithCopyWarning: \n",
      "A value is trying to be set on a copy of a slice from a DataFrame.\n",
      "Try using .loc[row_indexer,col_indexer] = value instead\n",
      "\n",
      "See the caveats in the documentation: https://pandas.pydata.org/pandas-docs/stable/user_guide/indexing.html#returning-a-view-versus-a-copy\n",
      " C:\\Users\\slab\\AppData\\Local\\Temp\\ipykernel_20728\\1954483913.py: 24\n",
      "WARNING:py.warnings:SettingWithCopyWarning: \n",
      "A value is trying to be set on a copy of a slice from a DataFrame.\n",
      "Try using .loc[row_indexer,col_indexer] = value instead\n",
      "\n",
      "See the caveats in the documentation: https://pandas.pydata.org/pandas-docs/stable/user_guide/indexing.html#returning-a-view-versus-a-copy\n",
      " C:\\Users\\slab\\AppData\\Local\\Temp\\ipykernel_20728\\1954483913.py: 24\n",
      "WARNING:py.warnings:SettingWithCopyWarning: \n",
      "A value is trying to be set on a copy of a slice from a DataFrame.\n",
      "Try using .loc[row_indexer,col_indexer] = value instead\n",
      "\n",
      "See the caveats in the documentation: https://pandas.pydata.org/pandas-docs/stable/user_guide/indexing.html#returning-a-view-versus-a-copy\n",
      " C:\\Users\\slab\\AppData\\Local\\Temp\\ipykernel_20728\\1954483913.py: 24\n",
      "WARNING:py.warnings:SettingWithCopyWarning: \n",
      "A value is trying to be set on a copy of a slice from a DataFrame.\n",
      "Try using .loc[row_indexer,col_indexer] = value instead\n",
      "\n",
      "See the caveats in the documentation: https://pandas.pydata.org/pandas-docs/stable/user_guide/indexing.html#returning-a-view-versus-a-copy\n",
      " C:\\Users\\slab\\AppData\\Local\\Temp\\ipykernel_20728\\1954483913.py: 24\n",
      "WARNING:py.warnings:SettingWithCopyWarning: \n",
      "A value is trying to be set on a copy of a slice from a DataFrame.\n",
      "Try using .loc[row_indexer,col_indexer] = value instead\n",
      "\n",
      "See the caveats in the documentation: https://pandas.pydata.org/pandas-docs/stable/user_guide/indexing.html#returning-a-view-versus-a-copy\n",
      " C:\\Users\\slab\\AppData\\Local\\Temp\\ipykernel_20728\\1954483913.py: 24\n",
      "WARNING:py.warnings:SettingWithCopyWarning: \n",
      "A value is trying to be set on a copy of a slice from a DataFrame.\n",
      "Try using .loc[row_indexer,col_indexer] = value instead\n",
      "\n",
      "See the caveats in the documentation: https://pandas.pydata.org/pandas-docs/stable/user_guide/indexing.html#returning-a-view-versus-a-copy\n",
      " C:\\Users\\slab\\AppData\\Local\\Temp\\ipykernel_20728\\1954483913.py: 24\n",
      "WARNING:py.warnings:SettingWithCopyWarning: \n",
      "A value is trying to be set on a copy of a slice from a DataFrame.\n",
      "Try using .loc[row_indexer,col_indexer] = value instead\n",
      "\n",
      "See the caveats in the documentation: https://pandas.pydata.org/pandas-docs/stable/user_guide/indexing.html#returning-a-view-versus-a-copy\n",
      " C:\\Users\\slab\\AppData\\Local\\Temp\\ipykernel_20728\\1954483913.py: 24\n",
      "WARNING:py.warnings:SettingWithCopyWarning: \n",
      "A value is trying to be set on a copy of a slice from a DataFrame.\n",
      "Try using .loc[row_indexer,col_indexer] = value instead\n",
      "\n",
      "See the caveats in the documentation: https://pandas.pydata.org/pandas-docs/stable/user_guide/indexing.html#returning-a-view-versus-a-copy\n",
      " C:\\Users\\slab\\AppData\\Local\\Temp\\ipykernel_20728\\1954483913.py: 24\n",
      "WARNING:py.warnings:SettingWithCopyWarning: \n",
      "A value is trying to be set on a copy of a slice from a DataFrame.\n",
      "Try using .loc[row_indexer,col_indexer] = value instead\n",
      "\n",
      "See the caveats in the documentation: https://pandas.pydata.org/pandas-docs/stable/user_guide/indexing.html#returning-a-view-versus-a-copy\n",
      " C:\\Users\\slab\\AppData\\Local\\Temp\\ipykernel_20728\\1954483913.py: 24\n",
      "WARNING:py.warnings:SettingWithCopyWarning: \n",
      "A value is trying to be set on a copy of a slice from a DataFrame.\n",
      "Try using .loc[row_indexer,col_indexer] = value instead\n",
      "\n",
      "See the caveats in the documentation: https://pandas.pydata.org/pandas-docs/stable/user_guide/indexing.html#returning-a-view-versus-a-copy\n",
      " C:\\Users\\slab\\AppData\\Local\\Temp\\ipykernel_20728\\1954483913.py: 24\n",
      "WARNING:py.warnings:SettingWithCopyWarning: \n",
      "A value is trying to be set on a copy of a slice from a DataFrame.\n",
      "Try using .loc[row_indexer,col_indexer] = value instead\n",
      "\n",
      "See the caveats in the documentation: https://pandas.pydata.org/pandas-docs/stable/user_guide/indexing.html#returning-a-view-versus-a-copy\n",
      " C:\\Users\\slab\\AppData\\Local\\Temp\\ipykernel_20728\\1954483913.py: 24\n",
      "WARNING:py.warnings:SettingWithCopyWarning: \n",
      "A value is trying to be set on a copy of a slice from a DataFrame.\n",
      "Try using .loc[row_indexer,col_indexer] = value instead\n",
      "\n",
      "See the caveats in the documentation: https://pandas.pydata.org/pandas-docs/stable/user_guide/indexing.html#returning-a-view-versus-a-copy\n",
      " C:\\Users\\slab\\AppData\\Local\\Temp\\ipykernel_20728\\1954483913.py: 24\n",
      "WARNING:py.warnings:SettingWithCopyWarning: \n",
      "A value is trying to be set on a copy of a slice from a DataFrame.\n",
      "Try using .loc[row_indexer,col_indexer] = value instead\n",
      "\n",
      "See the caveats in the documentation: https://pandas.pydata.org/pandas-docs/stable/user_guide/indexing.html#returning-a-view-versus-a-copy\n",
      " C:\\Users\\slab\\AppData\\Local\\Temp\\ipykernel_20728\\1954483913.py: 24\n",
      "WARNING:py.warnings:SettingWithCopyWarning: \n",
      "A value is trying to be set on a copy of a slice from a DataFrame.\n",
      "Try using .loc[row_indexer,col_indexer] = value instead\n",
      "\n",
      "See the caveats in the documentation: https://pandas.pydata.org/pandas-docs/stable/user_guide/indexing.html#returning-a-view-versus-a-copy\n",
      " C:\\Users\\slab\\AppData\\Local\\Temp\\ipykernel_20728\\1954483913.py: 24\n",
      "WARNING:py.warnings:SettingWithCopyWarning: \n",
      "A value is trying to be set on a copy of a slice from a DataFrame.\n",
      "Try using .loc[row_indexer,col_indexer] = value instead\n",
      "\n",
      "See the caveats in the documentation: https://pandas.pydata.org/pandas-docs/stable/user_guide/indexing.html#returning-a-view-versus-a-copy\n",
      " C:\\Users\\slab\\AppData\\Local\\Temp\\ipykernel_20728\\1954483913.py: 24\n",
      "WARNING:py.warnings:SettingWithCopyWarning: \n",
      "A value is trying to be set on a copy of a slice from a DataFrame.\n",
      "Try using .loc[row_indexer,col_indexer] = value instead\n",
      "\n",
      "See the caveats in the documentation: https://pandas.pydata.org/pandas-docs/stable/user_guide/indexing.html#returning-a-view-versus-a-copy\n",
      " C:\\Users\\slab\\AppData\\Local\\Temp\\ipykernel_20728\\1954483913.py: 24\n",
      "WARNING:py.warnings:SettingWithCopyWarning: \n",
      "A value is trying to be set on a copy of a slice from a DataFrame.\n",
      "Try using .loc[row_indexer,col_indexer] = value instead\n",
      "\n",
      "See the caveats in the documentation: https://pandas.pydata.org/pandas-docs/stable/user_guide/indexing.html#returning-a-view-versus-a-copy\n",
      " C:\\Users\\slab\\AppData\\Local\\Temp\\ipykernel_20728\\1954483913.py: 24\n",
      "WARNING:py.warnings:SettingWithCopyWarning: \n",
      "A value is trying to be set on a copy of a slice from a DataFrame.\n",
      "Try using .loc[row_indexer,col_indexer] = value instead\n",
      "\n",
      "See the caveats in the documentation: https://pandas.pydata.org/pandas-docs/stable/user_guide/indexing.html#returning-a-view-versus-a-copy\n",
      " C:\\Users\\slab\\AppData\\Local\\Temp\\ipykernel_20728\\1954483913.py: 24\n",
      "WARNING:py.warnings:SettingWithCopyWarning: \n",
      "A value is trying to be set on a copy of a slice from a DataFrame.\n",
      "Try using .loc[row_indexer,col_indexer] = value instead\n",
      "\n",
      "See the caveats in the documentation: https://pandas.pydata.org/pandas-docs/stable/user_guide/indexing.html#returning-a-view-versus-a-copy\n",
      " C:\\Users\\slab\\AppData\\Local\\Temp\\ipykernel_20728\\1954483913.py: 24\n"
     ]
    },
    {
     "name": "stdout",
     "output_type": "stream",
     "text": [
      "[1, 2] [3]\n",
      "Predicted Values\n",
      "\n",
      "Transmon Properties\n",
      "f_Q 3.824216 [GHz]\n",
      "EC 167.286153 [MHz]\n",
      "EJ 11.947220 [GHz]\n",
      "alpha -186.961134 [MHz]\n",
      "dispersion 0.213693 [KHz]\n",
      "Lq 13.670938 [nH]\n",
      "Cq 115.790983 [fF]\n",
      "T1 2859.854395 [us]\n",
      "\n",
      "**Coupling Properties**\n",
      "\n",
      "tCqbus1 3.365389 [fF]\n",
      "gbus1_in_MHz 26.915581 [MHz]\n",
      "χ_bus1 -0.055555 [MHz]\n",
      "1/T1bus1 55.651415 [Hz]\n",
      "T1bus1 2859.854395 [us]\n",
      "Bus-Bus Couplings\n"
     ]
    }
   ],
   "source": [
    "default_options['coupling_d'] = '100um'\n",
    "default_options['coupling_gap'] = '100um'\n",
    "default_options['gap'] = '50um'\n",
    "default_options['l'] = '900um'\n",
    "\n",
    "for i,l in enumerate([1000]):\n",
    "    default_options['l'] = f'{l}um'\n",
    "    q1 = DiffTransmonRounded(design,'Q1',options = default_options)\n",
    "    gui.rebuild()\n",
    "    \n",
    "    c1.sim.run(components = ['Q1'],open_terminations = [('Q1','cpw_stub')])\n",
    "    print(l)\n",
    "    print(c1.sim.capacitance_matrix)\n",
    "    \n",
    "    \n",
    "    c1.setup.junctions = Dict({'Lj': qubit.L.to(u.nH).value, 'Cj': 2})\n",
    "    c1.setup.freq_readout = 6.0\n",
    "    c1.setup.freq_bus = []\n",
    "\n",
    "    result = c1.run_lom()\n",
    "    # print(c1.lumped_oscillator)\n",
    "    last_row = result.iloc[-1:]\n",
    "    for keys in default_options.keys():\n",
    "        last_row.loc[len(result),keys] = design.parse_value(default_options[keys])\n",
    "    \n",
    "    \n",
    "    if i ==0:\n",
    "        df = last_row\n",
    "    else:\n",
    "        df = df.append(last_row, ignore_index=True,)\n",
    "\n",
    "    df.to_csv('pad_length_sweep.csv')\n",
    "    \n",
    "# q1 = DiffTransmonRounded(design,'Q1',options = default_options)\n",
    "# gui.rebuild()"
   ]
  },
  {
   "cell_type": "code",
   "execution_count": null,
   "metadata": {},
   "outputs": [
    {
     "name": "stderr",
     "output_type": "stream",
     "text": [
      "WARNING:py.warnings:FutureWarning: The frame.append method is deprecated and will be removed from pandas in a future version. Use pandas.concat instead.\n",
      " C:\\Users\\slab\\AppData\\Local\\Temp\\ipykernel_24816\\2998703508.py: 2\n"
     ]
    }
   ],
   "source": [
    "try:\n",
    "    df.append(last_row, ignore_index=True)\n",
    "except:\n",
    "    print('err')"
   ]
  },
  {
   "cell_type": "code",
   "execution_count": null,
   "metadata": {},
   "outputs": [
    {
     "data": {
      "text/plain": [
       "10    0.8\n",
       "Name: l, dtype: float64"
      ]
     },
     "execution_count": 134,
     "metadata": {},
     "output_type": "execute_result"
    }
   ],
   "source": [
    "df['l']"
   ]
  },
  {
   "cell_type": "code",
   "execution_count": null,
   "metadata": {},
   "outputs": [
    {
     "data": {
      "text/plain": [
       "array([4.00746608, 3.98946818, 3.92705587, 3.88067617, 3.83296908,\n",
       "       3.80953637, 3.78456473, 3.77685466, 3.75988887, 3.75206023,\n",
       "       3.7509349 ])"
      ]
     },
     "execution_count": 115,
     "metadata": {},
     "output_type": "execute_result"
    }
   ],
   "source": [
    "(result['fQ'].values).astype(float)"
   ]
  },
  {
   "cell_type": "code",
   "execution_count": null,
   "metadata": {},
   "outputs": [],
   "source": [
    "last_row = result.iloc[-1:]"
   ]
  },
  {
   "cell_type": "code",
   "execution_count": null,
   "metadata": {},
   "outputs": [
    {
     "data": {
      "text/html": [
       "<div>\n",
       "<style scoped>\n",
       "    .dataframe tbody tr th:only-of-type {\n",
       "        vertical-align: middle;\n",
       "    }\n",
       "\n",
       "    .dataframe tbody tr th {\n",
       "        vertical-align: top;\n",
       "    }\n",
       "\n",
       "    .dataframe thead th {\n",
       "        text-align: right;\n",
       "    }\n",
       "</style>\n",
       "<table border=\"1\" class=\"dataframe\">\n",
       "  <thead>\n",
       "    <tr style=\"text-align: right;\">\n",
       "      <th></th>\n",
       "      <th>fQ</th>\n",
       "      <th>EC</th>\n",
       "      <th>EJ</th>\n",
       "      <th>alpha</th>\n",
       "      <th>dispersion</th>\n",
       "      <th>gbus</th>\n",
       "      <th>chi_in_MHz</th>\n",
       "      <th>χr MHz</th>\n",
       "      <th>gr MHz</th>\n",
       "      <th>cut_l</th>\n",
       "      <th>...</th>\n",
       "      <th>coupling_d</th>\n",
       "      <th>coupling_pad_w</th>\n",
       "      <th>coupling_r</th>\n",
       "      <th>cpw_pin</th>\n",
       "      <th>chip</th>\n",
       "      <th>resolution</th>\n",
       "      <th>junction</th>\n",
       "      <th>orientation</th>\n",
       "      <th>JJ_c_contact_shortl</th>\n",
       "      <th>istunnel</th>\n",
       "    </tr>\n",
       "  </thead>\n",
       "  <tbody>\n",
       "    <tr>\n",
       "      <th>11</th>\n",
       "      <td>3.750935</td>\n",
       "      <td>153.274204</td>\n",
       "      <td>12.4689</td>\n",
       "      <td>-169.884754</td>\n",
       "      <td>0.046577</td>\n",
       "      <td>[-48.52351835942086]</td>\n",
       "      <td>[-0.1556113946580644]</td>\n",
       "      <td>0.155611</td>\n",
       "      <td>48.523518</td>\n",
       "      <td>0.8</td>\n",
       "      <td>...</td>\n",
       "      <td>0.1</td>\n",
       "      <td>0.09</td>\n",
       "      <td>0.04</td>\n",
       "      <td>0.01</td>\n",
       "      <td>main</td>\n",
       "      <td>10.0</td>\n",
       "      <td>False</td>\n",
       "      <td>0.0</td>\n",
       "      <td>0.01</td>\n",
       "      <td>False</td>\n",
       "    </tr>\n",
       "  </tbody>\n",
       "</table>\n",
       "<p>1 rows × 33 columns</p>\n",
       "</div>"
      ],
      "text/plain": [
       "          fQ          EC       EJ       alpha dispersion  \\\n",
       "11  3.750935  153.274204  12.4689 -169.884754   0.046577   \n",
       "\n",
       "                    gbus             chi_in_MHz    χr MHz     gr MHz  cut_l  \\\n",
       "11  [-48.52351835942086]  [-0.1556113946580644]  0.155611  48.523518    0.8   \n",
       "\n",
       "    ...  coupling_d  coupling_pad_w  coupling_r  cpw_pin  chip  resolution  \\\n",
       "11  ...         0.1            0.09        0.04     0.01  main        10.0   \n",
       "\n",
       "    junction  orientation  JJ_c_contact_shortl  istunnel  \n",
       "11     False          0.0                 0.01     False  \n",
       "\n",
       "[1 rows x 33 columns]"
      ]
     },
     "execution_count": 119,
     "metadata": {},
     "output_type": "execute_result"
    }
   ],
   "source": [
    "last_row"
   ]
  },
  {
   "cell_type": "code",
   "execution_count": null,
   "metadata": {},
   "outputs": [],
   "source": [
    "for keys in default_options.keys():\n",
    "    last_row.loc[11,keys] = design.parse_value(default_options[keys])"
   ]
  },
  {
   "cell_type": "code",
   "execution_count": null,
   "metadata": {},
   "outputs": [
    {
     "data": {
      "text/html": [
       "<div>\n",
       "<style scoped>\n",
       "    .dataframe tbody tr th:only-of-type {\n",
       "        vertical-align: middle;\n",
       "    }\n",
       "\n",
       "    .dataframe tbody tr th {\n",
       "        vertical-align: top;\n",
       "    }\n",
       "\n",
       "    .dataframe thead th {\n",
       "        text-align: right;\n",
       "    }\n",
       "</style>\n",
       "<table border=\"1\" class=\"dataframe\">\n",
       "  <thead>\n",
       "    <tr style=\"text-align: right;\">\n",
       "      <th></th>\n",
       "      <th>fQ</th>\n",
       "      <th>EC</th>\n",
       "      <th>EJ</th>\n",
       "      <th>alpha</th>\n",
       "      <th>dispersion</th>\n",
       "      <th>gbus</th>\n",
       "      <th>chi_in_MHz</th>\n",
       "      <th>χr MHz</th>\n",
       "      <th>gr MHz</th>\n",
       "      <th>cut_l</th>\n",
       "      <th>...</th>\n",
       "      <th>coupling_d</th>\n",
       "      <th>coupling_pad_w</th>\n",
       "      <th>coupling_r</th>\n",
       "      <th>cpw_pin</th>\n",
       "      <th>chip</th>\n",
       "      <th>resolution</th>\n",
       "      <th>junction</th>\n",
       "      <th>orientation</th>\n",
       "      <th>JJ_c_contact_shortl</th>\n",
       "      <th>istunnel</th>\n",
       "    </tr>\n",
       "  </thead>\n",
       "  <tbody>\n",
       "    <tr>\n",
       "      <th>11</th>\n",
       "      <td>3.750935</td>\n",
       "      <td>153.274204</td>\n",
       "      <td>12.4689</td>\n",
       "      <td>-169.884754</td>\n",
       "      <td>0.046577</td>\n",
       "      <td>[-48.52351835942086]</td>\n",
       "      <td>[-0.1556113946580644]</td>\n",
       "      <td>0.155611</td>\n",
       "      <td>48.523518</td>\n",
       "      <td>0.8</td>\n",
       "      <td>...</td>\n",
       "      <td>0.1</td>\n",
       "      <td>0.09</td>\n",
       "      <td>0.04</td>\n",
       "      <td>0.01</td>\n",
       "      <td>main</td>\n",
       "      <td>10.0</td>\n",
       "      <td>False</td>\n",
       "      <td>0.0</td>\n",
       "      <td>0.01</td>\n",
       "      <td>False</td>\n",
       "    </tr>\n",
       "  </tbody>\n",
       "</table>\n",
       "<p>1 rows × 33 columns</p>\n",
       "</div>"
      ],
      "text/plain": [
       "          fQ          EC       EJ       alpha dispersion  \\\n",
       "11  3.750935  153.274204  12.4689 -169.884754   0.046577   \n",
       "\n",
       "                    gbus             chi_in_MHz    χr MHz     gr MHz  cut_l  \\\n",
       "11  [-48.52351835942086]  [-0.1556113946580644]  0.155611  48.523518    0.8   \n",
       "\n",
       "    ...  coupling_d  coupling_pad_w  coupling_r  cpw_pin  chip  resolution  \\\n",
       "11  ...         0.1            0.09        0.04     0.01  main        10.0   \n",
       "\n",
       "    junction  orientation  JJ_c_contact_shortl  istunnel  \n",
       "11     False          0.0                 0.01     False  \n",
       "\n",
       "[1 rows x 33 columns]"
      ]
     },
     "execution_count": 121,
     "metadata": {},
     "output_type": "execute_result"
    }
   ],
   "source": [
    "last_row"
   ]
  },
  {
   "cell_type": "code",
   "execution_count": null,
   "metadata": {},
   "outputs": [
    {
     "name": "stderr",
     "output_type": "stream",
     "text": [
      "INFO 06:24PM [connect_design]: \tOpened active design\n",
      "\tDesign:    Design_q3d [Solution type: Q3D]\n",
      "INFO 06:24PM [get_setup]: \tOpened setup `Setup`  (<class 'pyEPR.ansys.AnsysQ3DSetup'>)\n",
      "INFO 06:24PM [analyze]: Analyzing setup Setup\n",
      "INFO 06:25PM [get_matrix]: Exporting matrix data to (C:\\Users\\slab\\AppData\\Local\\Temp\\tmp4tvojshh.txt, C, , Setup:LastAdaptive, \"Original\", \"ohm\", \"nH\", \"fF\", \"mSie\", 5000000000, Maxwell, 1, False\n",
      "INFO 06:25PM [get_matrix]: Exporting matrix data to (C:\\Users\\slab\\AppData\\Local\\Temp\\tmpm_o9nmak.txt, C, , Setup:AdaptivePass, \"Original\", \"ohm\", \"nH\", \"fF\", \"mSie\", 5000000000, Maxwell, 1, False\n",
      "INFO 06:25PM [get_matrix]: Exporting matrix data to (C:\\Users\\slab\\AppData\\Local\\Temp\\tmp4c2euq_s.txt, C, , Setup:AdaptivePass, \"Original\", \"ohm\", \"nH\", \"fF\", \"mSie\", 5000000000, Maxwell, 2, False\n",
      "INFO 06:25PM [get_matrix]: Exporting matrix data to (C:\\Users\\slab\\AppData\\Local\\Temp\\tmp0czjex61.txt, C, , Setup:AdaptivePass, \"Original\", \"ohm\", \"nH\", \"fF\", \"mSie\", 5000000000, Maxwell, 3, False\n",
      "INFO 06:25PM [get_matrix]: Exporting matrix data to (C:\\Users\\slab\\AppData\\Local\\Temp\\tmpf8pm4v8e.txt, C, , Setup:AdaptivePass, \"Original\", \"ohm\", \"nH\", \"fF\", \"mSie\", 5000000000, Maxwell, 4, False\n",
      "INFO 06:25PM [get_matrix]: Exporting matrix data to (C:\\Users\\slab\\AppData\\Local\\Temp\\tmpqrfbpfiy.txt, C, , Setup:AdaptivePass, \"Original\", \"ohm\", \"nH\", \"fF\", \"mSie\", 5000000000, Maxwell, 5, False\n",
      "INFO 06:25PM [get_matrix]: Exporting matrix data to (C:\\Users\\slab\\AppData\\Local\\Temp\\tmpr5brd310.txt, C, , Setup:AdaptivePass, \"Original\", \"ohm\", \"nH\", \"fF\", \"mSie\", 5000000000, Maxwell, 6, False\n",
      "INFO 06:25PM [get_matrix]: Exporting matrix data to (C:\\Users\\slab\\AppData\\Local\\Temp\\tmpwi5yala4.txt, C, , Setup:AdaptivePass, \"Original\", \"ohm\", \"nH\", \"fF\", \"mSie\", 5000000000, Maxwell, 7, False\n",
      "INFO 06:25PM [get_matrix]: Exporting matrix data to (C:\\Users\\slab\\AppData\\Local\\Temp\\tmp0c5auf6y.txt, C, , Setup:AdaptivePass, \"Original\", \"ohm\", \"nH\", \"fF\", \"mSie\", 5000000000, Maxwell, 8, False\n",
      "INFO 06:25PM [get_matrix]: Exporting matrix data to (C:\\Users\\slab\\AppData\\Local\\Temp\\tmpg60ys0c8.txt, C, , Setup:AdaptivePass, \"Original\", \"ohm\", \"nH\", \"fF\", \"mSie\", 5000000000, Maxwell, 9, False\n",
      "INFO 06:25PM [get_matrix]: Exporting matrix data to (C:\\Users\\slab\\AppData\\Local\\Temp\\tmpa721fgjl.txt, C, , Setup:AdaptivePass, \"Original\", \"ohm\", \"nH\", \"fF\", \"mSie\", 5000000000, Maxwell, 10, False\n",
      "INFO 06:25PM [get_matrix]: Exporting matrix data to (C:\\Users\\slab\\AppData\\Local\\Temp\\tmpj20sfia5.txt, C, , Setup:AdaptivePass, \"Original\", \"ohm\", \"nH\", \"fF\", \"mSie\", 5000000000, Maxwell, 11, False\n"
     ]
    }
   ],
   "source": [
    "c1.sim.run(components = ['Q1'],open_terminations = [('Q1','cpw_stub')])"
   ]
  },
  {
   "cell_type": "markdown",
   "metadata": {},
   "source": [
    "## Leonding method"
   ]
  },
  {
   "cell_type": "code",
   "execution_count": 53,
   "metadata": {},
   "outputs": [],
   "source": [
    "def convert_capacitance_to_energy(capacitance):\n",
    "    C = capacitance*u.fF\n",
    "    return (c.e.si**2 / (2 * C)/c.h).to(u.GHz)\n",
    "\n",
    "def get_cap_params(caps, cj):\n",
    "    cap_matrix = copy.deepcopy(caps)\n",
    "    T = np.array([[1,0,0,0],\n",
    "                  [0,1,1,0],\n",
    "                  [0,1,-1,0],\n",
    "                  [0,0,0,1]])\n",
    "    cap_matrix[1,2] -= cj\n",
    "    cap_matrix[2,1] -= cj\n",
    "    cap_matrix[2,2] += cj\n",
    "    cap_matrix[1,1] += cj\n",
    "    differential_cap_matrix = np.linalg.inv(T).T@(cap_matrix)@np.linalg.inv(T)\n",
    "    inverse = np.linalg.inv(differential_cap_matrix)\n",
    "    qubit_capacitance = np.reciprocal(inverse)[2,2]\n",
    "    coupling_capacitance = np.reciprocal(inverse)[2,3]\n",
    "    Ec = convert_capacitance_to_energy(qubit_capacitance)\n",
    "    J = 8*convert_capacitance_to_energy(coupling_capacitance).to(u.MHz)\n",
    "    return [Ec,J,qubit_capacitance,coupling_capacitance]"
   ]
  },
  {
   "cell_type": "code",
   "execution_count": 56,
   "metadata": {},
   "outputs": [],
   "source": [
    "res.C = (np.pi/2/res.freq/2/np.pi/res.Z0).to(u.fF)"
   ]
  },
  {
   "cell_type": "code",
   "execution_count": 58,
   "metadata": {},
   "outputs": [
    {
     "data": {
      "text/latex": [
       "$833.33333 \\; \\mathrm{fF}$"
      ],
      "text/plain": [
       "<Quantity 833.33333333 fF>"
      ]
     },
     "execution_count": 58,
     "metadata": {},
     "output_type": "execute_result"
    }
   ],
   "source": [
    "res.C"
   ]
  },
  {
   "cell_type": "code",
   "execution_count": null,
   "metadata": {},
   "outputs": [],
   "source": [
    "df = c1.sim.capacitance_matrix\n"
   ]
  },
  {
   "cell_type": "code",
   "execution_count": 79,
   "metadata": {},
   "outputs": [
    {
     "data": {
      "text/html": [
       "<div>\n",
       "<style scoped>\n",
       "    .dataframe tbody tr th:only-of-type {\n",
       "        vertical-align: middle;\n",
       "    }\n",
       "\n",
       "    .dataframe tbody tr th {\n",
       "        vertical-align: top;\n",
       "    }\n",
       "\n",
       "    .dataframe thead th {\n",
       "        text-align: right;\n",
       "    }\n",
       "</style>\n",
       "<table border=\"1\" class=\"dataframe\">\n",
       "  <thead>\n",
       "    <tr style=\"text-align: right;\">\n",
       "      <th></th>\n",
       "      <th>ground_main_plane</th>\n",
       "      <th>pad_left_Q1</th>\n",
       "      <th>pad_right_Q1</th>\n",
       "      <th>resonator_pad_Q1</th>\n",
       "    </tr>\n",
       "  </thead>\n",
       "  <tbody>\n",
       "    <tr>\n",
       "      <th>ground_main_plane</th>\n",
       "      <td>1117.722873</td>\n",
       "      <td>-103.35637</td>\n",
       "      <td>-75.22100</td>\n",
       "      <td>-849.285803</td>\n",
       "    </tr>\n",
       "    <tr>\n",
       "      <th>pad_left_Q1</th>\n",
       "      <td>-103.356370</td>\n",
       "      <td>184.90850</td>\n",
       "      <td>-67.99716</td>\n",
       "      <td>-10.451590</td>\n",
       "    </tr>\n",
       "    <tr>\n",
       "      <th>pad_right_Q1</th>\n",
       "      <td>-75.221000</td>\n",
       "      <td>-67.99716</td>\n",
       "      <td>147.17341</td>\n",
       "      <td>-1.405740</td>\n",
       "    </tr>\n",
       "    <tr>\n",
       "      <th>resonator_pad_Q1</th>\n",
       "      <td>-849.285803</td>\n",
       "      <td>-10.45159</td>\n",
       "      <td>-1.40574</td>\n",
       "      <td>861.416663</td>\n",
       "    </tr>\n",
       "  </tbody>\n",
       "</table>\n",
       "</div>"
      ],
      "text/plain": [
       "                   ground_main_plane  pad_left_Q1  pad_right_Q1  \\\n",
       "ground_main_plane        1117.722873   -103.35637     -75.22100   \n",
       "pad_left_Q1              -103.356370    184.90850     -67.99716   \n",
       "pad_right_Q1              -75.221000    -67.99716     147.17341   \n",
       "resonator_pad_Q1         -849.285803    -10.45159      -1.40574   \n",
       "\n",
       "                   resonator_pad_Q1  \n",
       "ground_main_plane       -849.285803  \n",
       "pad_left_Q1              -10.451590  \n",
       "pad_right_Q1              -1.405740  \n",
       "resonator_pad_Q1         861.416663  "
      ]
     },
     "execution_count": 79,
     "metadata": {},
     "output_type": "execute_result"
    }
   ],
   "source": [
    "df"
   ]
  },
  {
   "cell_type": "code",
   "execution_count": 55,
   "metadata": {},
   "outputs": [],
   "source": [
    "df1 = df"
   ]
  },
  {
   "cell_type": "code",
   "execution_count": 59,
   "metadata": {},
   "outputs": [],
   "source": [
    "df1['ground_main_plane']['ground_main_plane'] += res.C.to(u.fF).value\n",
    "df1['resonator_pad_Q1']['resonator_pad_Q1'] += res.C.to(u.fF).value\n",
    "df1['resonator_pad_Q1']['ground_main_plane'] -= res.C.to(u.fF).value\n",
    "df1['ground_main_plane']['resonator_pad_Q1'] -= res.C.to(u.fF).value\n"
   ]
  },
  {
   "cell_type": "code",
   "execution_count": 60,
   "metadata": {},
   "outputs": [
    {
     "data": {
      "text/html": [
       "<div>\n",
       "<style scoped>\n",
       "    .dataframe tbody tr th:only-of-type {\n",
       "        vertical-align: middle;\n",
       "    }\n",
       "\n",
       "    .dataframe tbody tr th {\n",
       "        vertical-align: top;\n",
       "    }\n",
       "\n",
       "    .dataframe thead th {\n",
       "        text-align: right;\n",
       "    }\n",
       "</style>\n",
       "<table border=\"1\" class=\"dataframe\">\n",
       "  <thead>\n",
       "    <tr style=\"text-align: right;\">\n",
       "      <th></th>\n",
       "      <th>ground_main_plane</th>\n",
       "      <th>pad_left_Q1</th>\n",
       "      <th>pad_right_Q1</th>\n",
       "      <th>resonator_pad_Q1</th>\n",
       "    </tr>\n",
       "  </thead>\n",
       "  <tbody>\n",
       "    <tr>\n",
       "      <th>ground_main_plane</th>\n",
       "      <td>1117.722873</td>\n",
       "      <td>-103.35637</td>\n",
       "      <td>-75.22100</td>\n",
       "      <td>-849.285803</td>\n",
       "    </tr>\n",
       "    <tr>\n",
       "      <th>pad_left_Q1</th>\n",
       "      <td>-103.356370</td>\n",
       "      <td>184.90850</td>\n",
       "      <td>-67.99716</td>\n",
       "      <td>-10.451590</td>\n",
       "    </tr>\n",
       "    <tr>\n",
       "      <th>pad_right_Q1</th>\n",
       "      <td>-75.221000</td>\n",
       "      <td>-67.99716</td>\n",
       "      <td>147.17341</td>\n",
       "      <td>-1.405740</td>\n",
       "    </tr>\n",
       "    <tr>\n",
       "      <th>resonator_pad_Q1</th>\n",
       "      <td>-849.285803</td>\n",
       "      <td>-10.45159</td>\n",
       "      <td>-1.40574</td>\n",
       "      <td>861.416663</td>\n",
       "    </tr>\n",
       "  </tbody>\n",
       "</table>\n",
       "</div>"
      ],
      "text/plain": [
       "                   ground_main_plane  pad_left_Q1  pad_right_Q1  \\\n",
       "ground_main_plane        1117.722873   -103.35637     -75.22100   \n",
       "pad_left_Q1              -103.356370    184.90850     -67.99716   \n",
       "pad_right_Q1              -75.221000    -67.99716     147.17341   \n",
       "resonator_pad_Q1         -849.285803    -10.45159      -1.40574   \n",
       "\n",
       "                   resonator_pad_Q1  \n",
       "ground_main_plane       -849.285803  \n",
       "pad_left_Q1              -10.451590  \n",
       "pad_right_Q1              -1.405740  \n",
       "resonator_pad_Q1         861.416663  "
      ]
     },
     "execution_count": 60,
     "metadata": {},
     "output_type": "execute_result"
    }
   ],
   "source": [
    "df1"
   ]
  },
  {
   "cell_type": "code",
   "execution_count": 67,
   "metadata": {},
   "outputs": [],
   "source": [
    "cap = df1.to_numpy()\n",
    "Ec, J,_,_ = get_cap_params(cap,2)"
   ]
  },
  {
   "cell_type": "code",
   "execution_count": 62,
   "metadata": {},
   "outputs": [],
   "source": [
    "def qubit_zpf(E_J, E_c):\n",
    "    z_Q = (1/2*np.pi)*np.sqrt(8*E_c/E_J)\n",
    "    return np.sqrt(1/(4*np.pi*z_Q))\n",
    "def res_zpf(Z_0 = 50*u.Ohm):\n",
    "    R_Q = c.h/(2*c.e.si**2)\n",
    "    Z = 2*Z_0/np.pi\n",
    "    z= Z/R_Q\n",
    "    return np.sqrt(1/(4*np.pi*z))\n",
    "    \n",
    "    "
   ]
  },
  {
   "cell_type": "code",
   "execution_count": 68,
   "metadata": {},
   "outputs": [],
   "source": [
    "phi0 = c.h/2/c.e.si\n",
    "T = 30*u.mK\n",
    "epsilon_r = 11.45\n",
    "\n",
    "\n",
    "Cq = 20*u.fF\n",
    "Lj = 13*u.nH\n",
    "# Ec = (c.e.si**2/2/Cq)/c.h\n",
    "Ej = ((phi0/2/np.pi)**2/Lj)/c.h"
   ]
  },
  {
   "cell_type": "code",
   "execution_count": 69,
   "metadata": {},
   "outputs": [
    {
     "data": {
      "text/latex": [
       "$0.16528966 \\; \\mathrm{GHz}$"
      ],
      "text/plain": [
       "<Quantity 0.16528966 GHz>"
      ]
     },
     "execution_count": 69,
     "metadata": {},
     "output_type": "execute_result"
    }
   ],
   "source": [
    "Ec"
   ]
  },
  {
   "cell_type": "code",
   "execution_count": 70,
   "metadata": {},
   "outputs": [
    {
     "data": {
      "text/latex": [
       "$0.39524761 \\; \\mathrm{}$"
      ],
      "text/plain": [
       "<Quantity 0.39524761>"
      ]
     },
     "execution_count": 70,
     "metadata": {},
     "output_type": "execute_result"
    }
   ],
   "source": [
    "qubit_zpf(Ej, Ec)"
   ]
  },
  {
   "cell_type": "code",
   "execution_count": 71,
   "metadata": {},
   "outputs": [
    {
     "data": {
      "text/latex": [
       "$8.8518414 \\; \\mathrm{MHz}$"
      ],
      "text/plain": [
       "<Quantity 8.85184138 MHz>"
      ]
     },
     "execution_count": 71,
     "metadata": {},
     "output_type": "execute_result"
    }
   ],
   "source": [
    "J"
   ]
  },
  {
   "cell_type": "code",
   "execution_count": 73,
   "metadata": {},
   "outputs": [
    {
     "data": {
      "text/latex": [
       "$19.873552 \\; \\mathrm{MHz}$"
      ],
      "text/plain": [
       "<Quantity 19.87355232 MHz>"
      ]
     },
     "execution_count": 73,
     "metadata": {},
     "output_type": "execute_result"
    }
   ],
   "source": [
    "(qubit_zpf(Ej,Ec)*J*res_zpf()).to(u.MHz)"
   ]
  },
  {
   "cell_type": "code",
   "execution_count": 74,
   "metadata": {},
   "outputs": [
    {
     "data": {
      "text/latex": [
       "$0.16528966 \\; \\mathrm{GHz}$"
      ],
      "text/plain": [
       "<Quantity 0.16528966 GHz>"
      ]
     },
     "execution_count": 74,
     "metadata": {},
     "output_type": "execute_result"
    }
   ],
   "source": [
    "Ec"
   ]
  },
  {
   "cell_type": "code",
   "execution_count": null,
   "metadata": {},
   "outputs": [
    {
     "data": {
      "text/latex": [
       "$0.010061034 \\; \\mathrm{m}$"
      ],
      "text/plain": [
       "<Quantity 0.01006103 m>"
      ]
     },
     "execution_count": 202,
     "metadata": {},
     "output_type": "execute_result"
    }
   ],
   "source": [
    "res.len"
   ]
  },
  {
   "cell_type": "code",
   "execution_count": null,
   "metadata": {},
   "outputs": [
    {
     "name": "stdout",
     "output_type": "stream",
     "text": [
      "Optimal inductance L: 13.104251477852955 nH\n"
     ]
    }
   ],
   "source": [
    "qubit = TransmonQubit(3.9*u.GHz, ratio = 75)\n",
    "res = ReadoutResonator(6*u.GHz, short_on_one_end = False)\n",
    "dr = DispersiveReadout(qubit,res,5*u.ms)"
   ]
  },
  {
   "cell_type": "code",
   "execution_count": null,
   "metadata": {},
   "outputs": [
    {
     "data": {
      "text/latex": [
       "$192.11783 \\; \\mathrm{MHz}$"
      ],
      "text/plain": [
       "<Quantity 192.11783453 MHz>"
      ]
     },
     "execution_count": 93,
     "metadata": {},
     "output_type": "execute_result"
    }
   ],
   "source": [
    "qubit.alpha = 0.2*u.GHz\n",
    "dr.calc_g().to(u.MHz)"
   ]
  },
  {
   "cell_type": "code",
   "execution_count": null,
   "metadata": {},
   "outputs": [
    {
     "name": "stdout",
     "output_type": "stream",
     "text": [
      "[1, 2] [3]\n",
      "Predicted Values\n",
      "\n",
      "Transmon Properties\n",
      "f_Q 3.690060 [GHz]\n",
      "EC 148.114964 [MHz]\n",
      "EJ 12.468900 [GHz]\n",
      "alpha -163.828683 [MHz]\n",
      "dispersion 0.030310 [KHz]\n",
      "Lq 13.098967 [nH]\n",
      "Cq 130.778333 [fF]\n",
      "T1 600.611494 [us]\n",
      "\n",
      "**Coupling Properties**\n",
      "\n",
      "tCqbus1 -8.692653 [fF]\n",
      "gbus1_in_MHz -63.738432 [MHz]\n",
      "χ_bus1 -0.247370 [MHz]\n",
      "1/T1bus1 264.988174 [Hz]\n",
      "T1bus1 600.611494 [us]\n",
      "Bus-Bus Couplings\n"
     ]
    },
    {
     "data": {
      "text/html": [
       "<div>\n",
       "<style scoped>\n",
       "    .dataframe tbody tr th:only-of-type {\n",
       "        vertical-align: middle;\n",
       "    }\n",
       "\n",
       "    .dataframe tbody tr th {\n",
       "        vertical-align: top;\n",
       "    }\n",
       "\n",
       "    .dataframe thead th {\n",
       "        text-align: right;\n",
       "    }\n",
       "</style>\n",
       "<table border=\"1\" class=\"dataframe\">\n",
       "  <thead>\n",
       "    <tr style=\"text-align: right;\">\n",
       "      <th></th>\n",
       "      <th>fQ</th>\n",
       "      <th>EC</th>\n",
       "      <th>EJ</th>\n",
       "      <th>alpha</th>\n",
       "      <th>dispersion</th>\n",
       "      <th>gbus</th>\n",
       "      <th>chi_in_MHz</th>\n",
       "      <th>χr MHz</th>\n",
       "      <th>gr MHz</th>\n",
       "    </tr>\n",
       "  </thead>\n",
       "  <tbody>\n",
       "    <tr>\n",
       "      <th>1</th>\n",
       "      <td>3.937209</td>\n",
       "      <td>169.666964</td>\n",
       "      <td>12.4689</td>\n",
       "      <td>-189.263737</td>\n",
       "      <td>0.159523</td>\n",
       "      <td>[-68.74971808495071]</td>\n",
       "      <td>[-0.40359764269585285]</td>\n",
       "      <td>0.403598</td>\n",
       "      <td>68.749718</td>\n",
       "    </tr>\n",
       "    <tr>\n",
       "      <th>2</th>\n",
       "      <td>3.915711</td>\n",
       "      <td>167.72814</td>\n",
       "      <td>12.4689</td>\n",
       "      <td>-186.960931</td>\n",
       "      <td>0.139235</td>\n",
       "      <td>[-63.63001386776019]</td>\n",
       "      <td>[-0.33549616805997096]</td>\n",
       "      <td>0.335496</td>\n",
       "      <td>63.630014</td>\n",
       "    </tr>\n",
       "    <tr>\n",
       "      <th>3</th>\n",
       "      <td>3.832352</td>\n",
       "      <td>160.326385</td>\n",
       "      <td>12.4689</td>\n",
       "      <td>-178.196203</td>\n",
       "      <td>0.080971</td>\n",
       "      <td>[-63.94164978919576]</td>\n",
       "      <td>[-0.30190565641844364]</td>\n",
       "      <td>0.301906</td>\n",
       "      <td>63.941650</td>\n",
       "    </tr>\n",
       "    <tr>\n",
       "      <th>4</th>\n",
       "      <td>3.783519</td>\n",
       "      <td>156.075682</td>\n",
       "      <td>12.4689</td>\n",
       "      <td>-173.181869</td>\n",
       "      <td>0.058283</td>\n",
       "      <td>[-63.65935446156925]</td>\n",
       "      <td>[-0.2799351524389901]</td>\n",
       "      <td>0.279935</td>\n",
       "      <td>63.659354</td>\n",
       "    </tr>\n",
       "    <tr>\n",
       "      <th>5</th>\n",
       "      <td>3.759476</td>\n",
       "      <td>154.005819</td>\n",
       "      <td>12.4689</td>\n",
       "      <td>-170.745219</td>\n",
       "      <td>0.049415</td>\n",
       "      <td>[-63.28995398309355]</td>\n",
       "      <td>[-0.2678106798699403]</td>\n",
       "      <td>0.267811</td>\n",
       "      <td>63.289954</td>\n",
       "    </tr>\n",
       "    <tr>\n",
       "      <th>6</th>\n",
       "      <td>3.730663</td>\n",
       "      <td>151.545339</td>\n",
       "      <td>12.4689</td>\n",
       "      <td>-167.853056</td>\n",
       "      <td>0.040432</td>\n",
       "      <td>[-63.17067114264823]</td>\n",
       "      <td>[-0.2566120637282528]</td>\n",
       "      <td>0.256612</td>\n",
       "      <td>63.170671</td>\n",
       "    </tr>\n",
       "    <tr>\n",
       "      <th>7</th>\n",
       "      <td>3.717642</td>\n",
       "      <td>150.440554</td>\n",
       "      <td>12.4689</td>\n",
       "      <td>-166.555968</td>\n",
       "      <td>0.036889</td>\n",
       "      <td>[-63.398800874196056]</td>\n",
       "      <td>[-0.2539750505911451]</td>\n",
       "      <td>0.253975</td>\n",
       "      <td>63.398801</td>\n",
       "    </tr>\n",
       "    <tr>\n",
       "      <th>8</th>\n",
       "      <td>3.703584</td>\n",
       "      <td>149.252767</td>\n",
       "      <td>12.4689</td>\n",
       "      <td>-165.162492</td>\n",
       "      <td>0.033387</td>\n",
       "      <td>[-63.43955528199085]</td>\n",
       "      <td>[-0.24954163537966845]</td>\n",
       "      <td>0.249542</td>\n",
       "      <td>63.439555</td>\n",
       "    </tr>\n",
       "    <tr>\n",
       "      <th>9</th>\n",
       "      <td>3.69276</td>\n",
       "      <td>148.341782</td>\n",
       "      <td>12.4689</td>\n",
       "      <td>-164.094494</td>\n",
       "      <td>0.030903</td>\n",
       "      <td>[-63.54318379491805]</td>\n",
       "      <td>[-0.2467486024620791]</td>\n",
       "      <td>0.246749</td>\n",
       "      <td>63.543184</td>\n",
       "    </tr>\n",
       "    <tr>\n",
       "      <th>10</th>\n",
       "      <td>3.69006</td>\n",
       "      <td>148.114964</td>\n",
       "      <td>12.4689</td>\n",
       "      <td>-163.828683</td>\n",
       "      <td>0.03031</td>\n",
       "      <td>[-63.738432076416636]</td>\n",
       "      <td>[-0.2473704176492816]</td>\n",
       "      <td>0.247370</td>\n",
       "      <td>63.738432</td>\n",
       "    </tr>\n",
       "  </tbody>\n",
       "</table>\n",
       "</div>"
      ],
      "text/plain": [
       "          fQ          EC       EJ       alpha dispersion  \\\n",
       "1   3.937209  169.666964  12.4689 -189.263737   0.159523   \n",
       "2   3.915711   167.72814  12.4689 -186.960931   0.139235   \n",
       "3   3.832352  160.326385  12.4689 -178.196203   0.080971   \n",
       "4   3.783519  156.075682  12.4689 -173.181869   0.058283   \n",
       "5   3.759476  154.005819  12.4689 -170.745219   0.049415   \n",
       "6   3.730663  151.545339  12.4689 -167.853056   0.040432   \n",
       "7   3.717642  150.440554  12.4689 -166.555968   0.036889   \n",
       "8   3.703584  149.252767  12.4689 -165.162492   0.033387   \n",
       "9    3.69276  148.341782  12.4689 -164.094494   0.030903   \n",
       "10   3.69006  148.114964  12.4689 -163.828683    0.03031   \n",
       "\n",
       "                     gbus              chi_in_MHz    χr MHz     gr MHz  \n",
       "1    [-68.74971808495071]  [-0.40359764269585285]  0.403598  68.749718  \n",
       "2    [-63.63001386776019]  [-0.33549616805997096]  0.335496  63.630014  \n",
       "3    [-63.94164978919576]  [-0.30190565641844364]  0.301906  63.941650  \n",
       "4    [-63.65935446156925]   [-0.2799351524389901]  0.279935  63.659354  \n",
       "5    [-63.28995398309355]   [-0.2678106798699403]  0.267811  63.289954  \n",
       "6    [-63.17067114264823]   [-0.2566120637282528]  0.256612  63.170671  \n",
       "7   [-63.398800874196056]   [-0.2539750505911451]  0.253975  63.398801  \n",
       "8    [-63.43955528199085]  [-0.24954163537966845]  0.249542  63.439555  \n",
       "9    [-63.54318379491805]   [-0.2467486024620791]  0.246749  63.543184  \n",
       "10  [-63.738432076416636]   [-0.2473704176492816]  0.247370  63.738432  "
      ]
     },
     "execution_count": 97,
     "metadata": {},
     "output_type": "execute_result"
    }
   ],
   "source": [
    "c1.setup.junctions = Dict({'Lj': qubit.L.to(u.nH).value, 'Cj': 2})\n",
    "c1.setup.freq_readout = 6.0\n",
    "c1.setup.freq_bus = []\n",
    "\n",
    "c1.run_lom()\n",
    "c1.lumped_oscillator_all"
   ]
  },
  {
   "cell_type": "code",
   "execution_count": null,
   "metadata": {},
   "outputs": [
    {
     "data": {
      "text/plain": [
       "{'fQ': 3.6900599513388332,\n",
       " 'EC': 148.1149642804409,\n",
       " 'EJ': 12.468899913873381,\n",
       " 'alpha': -163.82868334418583,\n",
       " 'dispersion': 0.030310351848602295,\n",
       " 'gbus': array([-63.73843208]),\n",
       " 'chi_in_MHz': array([-0.24737042])}"
      ]
     },
     "execution_count": 98,
     "metadata": {},
     "output_type": "execute_result"
    }
   ],
   "source": [
    "c1.lumped_oscillator"
   ]
  },
  {
   "cell_type": "code",
   "execution_count": null,
   "metadata": {},
   "outputs": [
    {
     "name": "stdout",
     "output_type": "stream",
     "text": [
      "[[ 3.17472005e+01  3.82385868e+01 -2.72738470e+03  4.91117422e+01]\n",
      " [ 7.64771737e+01  2.21929539e+01  2.23275870e+03  9.74883978e+01]\n",
      " [-2.72738470e+03  1.11637935e+03  4.19933083e+02  5.85246037e+04]\n",
      " [ 9.82234844e+01  9.74883978e+01  1.17049207e+05  9.52129430e+01]]\n",
      "[[  89.99974   -16.53124    17.53451  -158.36565 ]\n",
      " [  -8.26562    30.18888    -6.90227   -13.44846 ]\n",
      " [  17.53451   -13.80454   425.30526   -21.20375 ]\n",
      " [ -79.182825  -13.44846   -10.601875  261.87651 ]]\n",
      "[31.747200486251824, 38.23858682521182]\n"
     ]
    }
   ],
   "source": [
    "import copy\n",
    "cap_matrix = df.to_numpy()\n",
    "normal = copy.deepcopy(cap_matrix)\n",
    "cj = 10\n",
    "T = np.array([[1,0,1,0],\n",
    "              [0,1,0,0],\n",
    "              [1,0,-1,0],\n",
    "              [0,0,0,1]])\n",
    "cap_matrix[0,2] -= cj\n",
    "cap_matrix[2,0] -= cj\n",
    "cap_matrix[2,2] += cj\n",
    "cap_matrix[0,0] += cj\n",
    "caps = np.linalg.inv(T).T@(cap_matrix)@np.linalg.inv(T)\n",
    "normals = np.linalg.inv(T).T@(normal)@np.linalg.inv(T)\n",
    "\n",
    "# print(np.reciprocal(np.linalg.inv(normals)))\n",
    "\n",
    "caps = T@(cap_matrix)@np.linalg.inv(T)\n",
    "print(np.reciprocal(np.linalg.inv(caps)))\n",
    "print(caps)\n",
    "print([ np.reciprocal(np.linalg.inv(caps))[0,0], np.reciprocal(np.linalg.inv(caps))[0,1]])"
   ]
  },
  {
   "cell_type": "code",
   "execution_count": null,
   "metadata": {},
   "outputs": [],
   "source": [
    "import copy\n",
    "cap_matrix = df1.to_numpy()\n",
    "normal = copy.deepcopy(cap_matrix)\n",
    "cj = 10\n",
    "T = np.array([[1/np.sqrt(2),0,1/np.sqrt(2),0],\n",
    "              [0,1,0,0],\n",
    "              [1/np.sqrt(2),0,-1/np.sqrt(2),0],\n",
    "              [0,0,0,1]])\n",
    "cap_matrix[0,2] -= cj\n",
    "cap_matrix[2,0] -= cj\n",
    "cap_matrix[2,2] += cj\n",
    "cap_matrix[0,0] += cj\n",
    "\n",
    "cap = T@cap_matrix@T\n"
   ]
  },
  {
   "cell_type": "code",
   "execution_count": null,
   "metadata": {},
   "outputs": [
    {
     "name": "stdout",
     "output_type": "stream",
     "text": [
      "[[ 3.14471270e+01  5.39927190e+01 -1.92950701e+03  6.97833844e+01]\n",
      " [ 5.39927190e+01  2.21677169e+01  1.19716802e+03  9.79380690e+01]\n",
      " [-1.92950701e+03  1.19716802e+03  3.09241760e+02  5.67063089e+04]\n",
      " [ 6.97833844e+01  9.79380690e+01  5.67063089e+04  9.56666722e+01]]\n"
     ]
    }
   ],
   "source": [
    "print(np.reciprocal(np.linalg.inv(cap)))"
   ]
  },
  {
   "cell_type": "markdown",
   "metadata": {},
   "source": [
    "## Thesis method"
   ]
  },
  {
   "cell_type": "code",
   "execution_count": 26,
   "metadata": {},
   "outputs": [],
   "source": [
    "df = c1.sim.capacitance_matrix"
   ]
  },
  {
   "cell_type": "code",
   "execution_count": 47,
   "metadata": {},
   "outputs": [],
   "source": [
    "phi0 = c.h/2/c.e.si\n",
    "T = 30*u.mK\n",
    "epsilon_r = 11.45\n",
    "z0 = 50*u.Ohm\n",
    "\n",
    "\n",
    "Cq = 20*u.fF\n",
    "Lj = 13*u.nH\n",
    "Ec = (c.e.si**2/2/Cq)/c.h\n",
    "Ej = ((phi0/2/np.pi)**2/Lj)/c.h"
   ]
  },
  {
   "cell_type": "code",
   "execution_count": 75,
   "metadata": {},
   "outputs": [],
   "source": [
    "c_1 = -df['pad_left_Q1']['resonator_pad_Q1']*u.fF\n",
    "c_2 = -df['pad_right_Q1']['ground_main_plane']*u.fF\n",
    "c_3 = -df['pad_right_Q1']['resonator_pad_Q1']*u.fF\n",
    "c_4 = -df['pad_left_Q1']['ground_main_plane']*u.fF\n",
    "ct = -df['pad_left_Q1']['pad_right_Q1']*u.fF\n",
    "\n",
    "c_phi = (c_2+c_3)*(c_1+c_4)/(c_1+c_2+c_3+c_4)+2*u.fF+ct\n",
    "c_ceff = (c_1**2-c_3*c_4)/(c_1+c_2+c_3+c_4+ct)\n",
    "beta = (c_1*c_2-c_3*c_4)/((c_2+c_3)*(c_1+c_4)+ct*(c_1+c_2+c_3+c_4))\n",
    "wr = 6*u.GHz\n",
    "Ec = (c.e.si**2/2/c_phi)/c.h\n",
    "w01 = np.sqrt(8*Ec*Ej)\n",
    "delta = wr-w01\n",
    "c_res = np.pi/2/wr/z0\n",
    "Vrms = np.sqrt(c.hbar*wr/2/c_res)\n",
    "g = c.e.si*Vrms*beta/c.hbar*np.sqrt(2)*(Ej/8/Ec)**0.25"
   ]
  },
  {
   "cell_type": "code",
   "execution_count": 77,
   "metadata": {},
   "outputs": [
    {
     "data": {
      "text/latex": [
       "$167.28616 \\; \\mathrm{MHz}$"
      ],
      "text/plain": [
       "<Quantity 167.28616347 MHz>"
      ]
     },
     "execution_count": 77,
     "metadata": {},
     "output_type": "execute_result"
    }
   ],
   "source": [
    "Ec.to(u.MHz)"
   ]
  },
  {
   "cell_type": "code",
   "execution_count": 49,
   "metadata": {},
   "outputs": [
    {
     "data": {
      "text/latex": [
       "$27.346806 \\; \\mathrm{MHz}$"
      ],
      "text/plain": [
       "<Quantity 27.34680556 MHz>"
      ]
     },
     "execution_count": 49,
     "metadata": {},
     "output_type": "execute_result"
    }
   ],
   "source": [
    "g.to(u.MHz)"
   ]
  },
  {
   "cell_type": "code",
   "execution_count": 51,
   "metadata": {},
   "outputs": [
    {
     "data": {
      "text/latex": [
       "$12.573963 \\; \\mathrm{GHz}$"
      ],
      "text/plain": [
       "<Quantity 12.57396252 GHz>"
      ]
     },
     "execution_count": 51,
     "metadata": {},
     "output_type": "execute_result"
    }
   ],
   "source": [
    "Ej.to(u.GHz)"
   ]
  },
  {
   "cell_type": "code",
   "execution_count": 52,
   "metadata": {},
   "outputs": [
    {
     "data": {
      "text/latex": [
       "$4.1021457 \\; \\mathrm{GHz}$"
      ],
      "text/plain": [
       "<Quantity 4.10214573 GHz>"
      ]
     },
     "execution_count": 52,
     "metadata": {},
     "output_type": "execute_result"
    }
   ],
   "source": [
    "w01.to(u.GHz)"
   ]
  },
  {
   "cell_type": "code",
   "execution_count": 31,
   "metadata": {},
   "outputs": [
    {
     "data": {
      "text/latex": [
       "$67.99716 \\; \\mathrm{fF}$"
      ],
      "text/plain": [
       "<Quantity 67.99716 fF>"
      ]
     },
     "execution_count": 31,
     "metadata": {},
     "output_type": "execute_result"
    }
   ],
   "source": [
    "ct"
   ]
  },
  {
   "cell_type": "code",
   "execution_count": 32,
   "metadata": {},
   "outputs": [
    {
     "data": {
      "text/latex": [
       "$115.79098 \\; \\mathrm{fF}$"
      ],
      "text/plain": [
       "<Quantity 115.79098308 fF>"
      ]
     },
     "execution_count": 32,
     "metadata": {},
     "output_type": "execute_result"
    }
   ],
   "source": [
    "c_phi"
   ]
  },
  {
   "cell_type": "code",
   "execution_count": null,
   "metadata": {},
   "outputs": [],
   "source": [
    "T = np.array([[1/np.sqrt(2),0,-1/np.sqrt(2),0],\n",
    "              [0,1,0,0],\n",
    "              [1/np.sqrt(2),0,1/np.sqrt(2),0],\n",
    "              [0,0,0,1]])"
   ]
  },
  {
   "cell_type": "code",
   "execution_count": null,
   "metadata": {},
   "outputs": [
    {
     "data": {
      "text/plain": [
       "array([[1., 0., 0., 0.],\n",
       "       [0., 1., 0., 0.],\n",
       "       [0., 0., 1., 0.],\n",
       "       [0., 0., 0., 1.]])"
      ]
     },
     "execution_count": 92,
     "metadata": {},
     "output_type": "execute_result"
    }
   ],
   "source": [
    "T.T@T"
   ]
  },
  {
   "cell_type": "code",
   "execution_count": null,
   "metadata": {},
   "outputs": [],
   "source": [
    "c1.sim.capacitance_matrix = df"
   ]
  },
  {
   "cell_type": "code",
   "execution_count": null,
   "metadata": {},
   "outputs": [
    {
     "data": {
      "text/latex": [
       "$13.676453 \\; \\mathrm{nH}$"
      ],
      "text/plain": [
       "<Quantity 13.67645348 nH>"
      ]
     },
     "execution_count": 130,
     "metadata": {},
     "output_type": "execute_result"
    }
   ],
   "source": [
    "qubit.L"
   ]
  },
  {
   "cell_type": "code",
   "execution_count": null,
   "metadata": {},
   "outputs": [
    {
     "data": {
      "text/html": [
       "<div>\n",
       "<style scoped>\n",
       "    .dataframe tbody tr th:only-of-type {\n",
       "        vertical-align: middle;\n",
       "    }\n",
       "\n",
       "    .dataframe tbody tr th {\n",
       "        vertical-align: top;\n",
       "    }\n",
       "\n",
       "    .dataframe thead th {\n",
       "        text-align: right;\n",
       "    }\n",
       "</style>\n",
       "<table border=\"1\" class=\"dataframe\">\n",
       "  <thead>\n",
       "    <tr style=\"text-align: right;\">\n",
       "      <th></th>\n",
       "      <th>cross_0_Q1</th>\n",
       "      <th>cross_1_Q1</th>\n",
       "      <th>cross_2_Q1</th>\n",
       "      <th>ground_main_plane</th>\n",
       "    </tr>\n",
       "  </thead>\n",
       "  <tbody>\n",
       "    <tr>\n",
       "      <th>cross_0_Q1</th>\n",
       "      <td>275.18701</td>\n",
       "      <td>-15.16789</td>\n",
       "      <td>-167.65276</td>\n",
       "      <td>-89.78470</td>\n",
       "    </tr>\n",
       "    <tr>\n",
       "      <th>cross_1_Q1</th>\n",
       "      <td>-15.16789</td>\n",
       "      <td>30.18888</td>\n",
       "      <td>-1.36335</td>\n",
       "      <td>-13.44846</td>\n",
       "    </tr>\n",
       "    <tr>\n",
       "      <th>cross_2_Q1</th>\n",
       "      <td>-167.65276</td>\n",
       "      <td>-1.36335</td>\n",
       "      <td>240.11799</td>\n",
       "      <td>-68.58095</td>\n",
       "    </tr>\n",
       "    <tr>\n",
       "      <th>ground_main_plane</th>\n",
       "      <td>-89.78470</td>\n",
       "      <td>-13.44846</td>\n",
       "      <td>-68.58095</td>\n",
       "      <td>261.87651</td>\n",
       "    </tr>\n",
       "  </tbody>\n",
       "</table>\n",
       "</div>"
      ],
      "text/plain": [
       "                   cross_0_Q1  cross_1_Q1  cross_2_Q1  ground_main_plane\n",
       "cross_0_Q1          275.18701   -15.16789  -167.65276          -89.78470\n",
       "cross_1_Q1          -15.16789    30.18888    -1.36335          -13.44846\n",
       "cross_2_Q1         -167.65276    -1.36335   240.11799          -68.58095\n",
       "ground_main_plane   -89.78470   -13.44846   -68.58095          261.87651"
      ]
     },
     "execution_count": 107,
     "metadata": {},
     "output_type": "execute_result"
    }
   ],
   "source": [
    "df"
   ]
  },
  {
   "cell_type": "code",
   "execution_count": null,
   "metadata": {},
   "outputs": [],
   "source": [
    "order = [3,0,2,1]"
   ]
  },
  {
   "cell_type": "code",
   "execution_count": null,
   "metadata": {},
   "outputs": [],
   "source": [
    "import pandas as pd\n",
    "\n",
    "# Assuming you have a DataFrame called 'df'\n",
    "# df = pd.DataFrame(...)\n",
    "\n",
    "# First, swap columns 2 and 0\n",
    "df2 = df.iloc[:, order]  # Assuming it's a 4x4 matrix\n",
    "\n",
    "# Then, swap rows 2 and 1\n",
    "df2 = df2.iloc[order, :]\n",
    "\n",
    "# If you want to reset the index and column names\n",
    "df2 = df2.reset_index(drop=True)\n",
    "df2.columns = range(len(df2.columns))"
   ]
  },
  {
   "cell_type": "code",
   "execution_count": null,
   "metadata": {},
   "outputs": [
    {
     "data": {
      "text/html": [
       "<div>\n",
       "<style scoped>\n",
       "    .dataframe tbody tr th:only-of-type {\n",
       "        vertical-align: middle;\n",
       "    }\n",
       "\n",
       "    .dataframe tbody tr th {\n",
       "        vertical-align: top;\n",
       "    }\n",
       "\n",
       "    .dataframe thead th {\n",
       "        text-align: right;\n",
       "    }\n",
       "</style>\n",
       "<table border=\"1\" class=\"dataframe\">\n",
       "  <thead>\n",
       "    <tr style=\"text-align: right;\">\n",
       "      <th></th>\n",
       "      <th>cross_0_Q1</th>\n",
       "      <th>cross_1_Q1</th>\n",
       "      <th>cross_2_Q1</th>\n",
       "      <th>ground_main_plane</th>\n",
       "    </tr>\n",
       "  </thead>\n",
       "  <tbody>\n",
       "    <tr>\n",
       "      <th>cross_0_Q1</th>\n",
       "      <td>275.18701</td>\n",
       "      <td>-15.16789</td>\n",
       "      <td>-167.65276</td>\n",
       "      <td>-89.78470</td>\n",
       "    </tr>\n",
       "    <tr>\n",
       "      <th>cross_1_Q1</th>\n",
       "      <td>-15.16789</td>\n",
       "      <td>30.18888</td>\n",
       "      <td>-1.36335</td>\n",
       "      <td>-13.44846</td>\n",
       "    </tr>\n",
       "    <tr>\n",
       "      <th>cross_2_Q1</th>\n",
       "      <td>-167.65276</td>\n",
       "      <td>-1.36335</td>\n",
       "      <td>240.11799</td>\n",
       "      <td>-68.58095</td>\n",
       "    </tr>\n",
       "    <tr>\n",
       "      <th>ground_main_plane</th>\n",
       "      <td>-89.78470</td>\n",
       "      <td>-13.44846</td>\n",
       "      <td>-68.58095</td>\n",
       "      <td>261.87651</td>\n",
       "    </tr>\n",
       "  </tbody>\n",
       "</table>\n",
       "</div>"
      ],
      "text/plain": [
       "                   cross_0_Q1  cross_1_Q1  cross_2_Q1  ground_main_plane\n",
       "cross_0_Q1          275.18701   -15.16789  -167.65276          -89.78470\n",
       "cross_1_Q1          -15.16789    30.18888    -1.36335          -13.44846\n",
       "cross_2_Q1         -167.65276    -1.36335   240.11799          -68.58095\n",
       "ground_main_plane   -89.78470   -13.44846   -68.58095          261.87651"
      ]
     },
     "execution_count": 123,
     "metadata": {},
     "output_type": "execute_result"
    }
   ],
   "source": [
    "df"
   ]
  },
  {
   "cell_type": "code",
   "execution_count": null,
   "metadata": {},
   "outputs": [
    {
     "data": {
      "text/html": [
       "<div>\n",
       "<style scoped>\n",
       "    .dataframe tbody tr th:only-of-type {\n",
       "        vertical-align: middle;\n",
       "    }\n",
       "\n",
       "    .dataframe tbody tr th {\n",
       "        vertical-align: top;\n",
       "    }\n",
       "\n",
       "    .dataframe thead th {\n",
       "        text-align: right;\n",
       "    }\n",
       "</style>\n",
       "<table border=\"1\" class=\"dataframe\">\n",
       "  <thead>\n",
       "    <tr style=\"text-align: right;\">\n",
       "      <th></th>\n",
       "      <th>0</th>\n",
       "      <th>1</th>\n",
       "      <th>2</th>\n",
       "      <th>3</th>\n",
       "    </tr>\n",
       "  </thead>\n",
       "  <tbody>\n",
       "    <tr>\n",
       "      <th>0</th>\n",
       "      <td>261.87651</td>\n",
       "      <td>-89.78470</td>\n",
       "      <td>-68.58095</td>\n",
       "      <td>-13.44846</td>\n",
       "    </tr>\n",
       "    <tr>\n",
       "      <th>1</th>\n",
       "      <td>-89.78470</td>\n",
       "      <td>275.18701</td>\n",
       "      <td>-167.65276</td>\n",
       "      <td>-15.16789</td>\n",
       "    </tr>\n",
       "    <tr>\n",
       "      <th>2</th>\n",
       "      <td>-68.58095</td>\n",
       "      <td>-167.65276</td>\n",
       "      <td>240.11799</td>\n",
       "      <td>-1.36335</td>\n",
       "    </tr>\n",
       "    <tr>\n",
       "      <th>3</th>\n",
       "      <td>-13.44846</td>\n",
       "      <td>-15.16789</td>\n",
       "      <td>-1.36335</td>\n",
       "      <td>30.18888</td>\n",
       "    </tr>\n",
       "  </tbody>\n",
       "</table>\n",
       "</div>"
      ],
      "text/plain": [
       "           0          1          2         3\n",
       "0  261.87651  -89.78470  -68.58095 -13.44846\n",
       "1  -89.78470  275.18701 -167.65276 -15.16789\n",
       "2  -68.58095 -167.65276  240.11799  -1.36335\n",
       "3  -13.44846  -15.16789   -1.36335  30.18888"
      ]
     },
     "execution_count": 118,
     "metadata": {},
     "output_type": "execute_result"
    }
   ],
   "source": [
    "df2"
   ]
  },
  {
   "cell_type": "code",
   "execution_count": null,
   "metadata": {},
   "outputs": [
    {
     "data": {
      "text/latex": [
       "$833.33333 \\; \\mathrm{fF}$"
      ],
      "text/plain": [
       "<Quantity 833.33333333 fF>"
      ]
     },
     "execution_count": 223,
     "metadata": {},
     "output_type": "execute_result"
    }
   ],
   "source": []
  },
  {
   "cell_type": "code",
   "execution_count": null,
   "metadata": {},
   "outputs": [
    {
     "data": {
      "text/latex": [
       "$1683.3268 \\; \\mathrm{fF}$"
      ],
      "text/plain": [
       "<Quantity 1683.32684491 fF>"
      ]
     },
     "execution_count": 226,
     "metadata": {},
     "output_type": "execute_result"
    }
   ],
   "source": [
    "(res.C).to(u.fF)/u.m*res.len"
   ]
  },
  {
   "cell_type": "code",
   "execution_count": null,
   "metadata": {},
   "outputs": [],
   "source": []
  }
 ],
 "metadata": {
  "kernelspec": {
   "display_name": "qmetal",
   "language": "python",
   "name": "qmetal"
  },
  "language_info": {
   "codemirror_mode": {
    "name": "ipython",
    "version": 3
   },
   "file_extension": ".py",
   "mimetype": "text/x-python",
   "name": "python",
   "nbconvert_exporter": "python",
   "pygments_lexer": "ipython3",
   "version": "3.10.8"
  }
 },
 "nbformat": 4,
 "nbformat_minor": 2
}
