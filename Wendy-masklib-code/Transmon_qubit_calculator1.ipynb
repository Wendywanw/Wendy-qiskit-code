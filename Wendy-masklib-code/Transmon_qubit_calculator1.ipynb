{
 "cells": [
  {
   "cell_type": "code",
   "execution_count": 1,
   "metadata": {},
   "outputs": [],
   "source": [
    "%reload_ext autoreload\n",
    "%autoreload 2\n",
    "\n",
    "import sys\n",
    "\n",
    "sys.path.append('../Customized_Components') #this path is not right for this PC. Maybne this will work?\n",
    "from bandaged_dolan import DolanJunctionBandage\n",
    "from houcklab_qubit import DiffTransmonRounded\n",
    "\n",
    "import warnings\n",
    "\n",
    "import shapely\n",
    "from CoupledLineTee import CoupledLineTee\n",
    "from dolan_junction import DolanJunction\n",
    "from LaunchpadWirebondCustom import LaunchpadWirebondCustom\n",
    "from shapely.errors import ShapelyDeprecationWarning\n",
    "from single_pad_transmon_pocket import TransmonPocket_Single\n",
    "\n",
    "warnings.filterwarnings(\"ignore\", category=ShapelyDeprecationWarning)\n",
    "from collections import OrderedDict\n",
    "\n",
    "import Default_res_params as dp\n",
    "import matplotlib.pyplot as plt\n",
    "import numpy as np\n",
    "import pandas as pd\n",
    "import copy\n",
    "import os\n",
    "\n",
    "# from qiskit_metal.qlibrary.couplers.coupled_line_tee import CoupledLineTee\n",
    "# from qiskit_metal.qlibrary.terminations.launchpad_wb import LaunchpadWirebond\n",
    "# import pyEPR as epr\n",
    "from qiskit_metal import Dict, Headings, MetalGUI, designs, draw\n",
    "# from qiskit_metal.qlibrary.terminations.open_to_ground import OpenToGround\n",
    "# from qiskit_metal.qlibrary.terminations.short_to_ground import ShortToGround\n",
    "# from qiskit_metal.qlibrary.tlines.anchored_path import RouteAnchors\n",
    "# from qiskit_metal.qlibrary.tlines.mixed_path import RouteMeander, RouteMixed\n",
    "# from qiskit_metal.qlibrary.tlines.straight_path import RouteStraight\n",
    "# from qiskit_metal.toolbox_metal.parsing import *\n"
   ]
  },
  {
   "cell_type": "code",
   "execution_count": 2,
   "metadata": {},
   "outputs": [],
   "source": [
    "gui = MetalGUI(dp.design)\n",
    "design = dp.design\n",
    "design.overwrite_enabled = True\n",
    "c1, renderer_q3d, q3d = dp.init_q3d_sim()\n",
    "eig_all, hfss_renderer, hfss = dp.init_hfss_sim()"
   ]
  },
  {
   "cell_type": "code",
   "execution_count": null,
   "metadata": {},
   "outputs": [],
   "source": []
  },
  {
   "cell_type": "markdown",
   "metadata": {},
   "source": [
    "## Calculate Qubit Params"
   ]
  },
  {
   "cell_type": "code",
   "execution_count": 3,
   "metadata": {},
   "outputs": [],
   "source": [
    "import Transmon_property as tp"
   ]
  },
  {
   "cell_type": "code",
   "execution_count": 4,
   "metadata": {},
   "outputs": [],
   "source": [
    "import scqubits as scq\n",
    "import numpy as np\n",
    "import matplotlib.pyplot as plt\n",
    "import astropy.units as u\n",
    "import astropy.constants as c\n",
    "\n",
    "from scipy.optimize import root_scalar"
   ]
  },
  {
   "cell_type": "code",
   "execution_count": 5,
   "metadata": {},
   "outputs": [],
   "source": [
    "ratio = 65\n",
    "Phi0 = (c.h / (2 * c.e.si))  # Flux quantum in Weber\n",
    "\n",
    "def inductance_to_cap(L,ratio = ratio):\n",
    "    EJ = (((Phi0/2/np.pi)**2/L).to(u.J)/c.h).to(u.GHz)\n",
    "    EC = EJ/ratio\n",
    "    return (c.e.si**2 / (2 * EC)/c.h).to(u.fF)\n",
    "\n",
    "def target_function(L, desired_frequency, ratio):\n",
    "    L = L * u.nH  # Convert L to nanohenrys\n",
    "    calculated_frequency = calculate_qubit_freq(L, ratio)\n",
    "    return calculated_frequency - desired_frequency\n",
    "def calculate_qubit_freq(L,ratio = ratio):\n",
    "    \n",
    "    EJ = (((Phi0/2/np.pi)**2/L).to(u.J)/c.h).to(u.GHz)\n",
    "    EC = EJ/ratio\n",
    "    ng = 0.0   # Offset charge\n",
    "    nlev = 10  # Number of energy levels to consider\n",
    "\n",
    "    # Create a Transmon object\n",
    "    transmon = scq.Transmon(EJ=EJ.value, EC=EC.value, ng=ng, ncut=30, truncated_dim=nlev)\n",
    "\n",
    "    # Calculate the eigenenergies\n",
    "    eigenenergies = transmon.eigenvals()\n",
    "\n",
    "    # Calculate the transition frequencies (in GHz)\n",
    "    transition_frequencies = np.diff(eigenenergies)\n",
    "\n",
    "    # Calculate the anharmonicity (in GHz)\n",
    "    anharmonicity = transition_frequencies[1] - transition_frequencies[0]\n",
    "    return transition_frequencies[0]\n",
    "    \n",
    "class TransmonQubit():\n",
    "    def __init__(self, freq, ratio):\n",
    "        self.freq = freq\n",
    "        self.ratio = ratio\n",
    "        self.C = None,\n",
    "        self.L = None\n",
    "        self.EJ = None\n",
    "        self.EC = None\n",
    "        self.update_params()\n",
    "        self.alpha = self.EC\n",
    "        \n",
    "    def update_params(self):\n",
    "        self.C, self.L = self.qubit_freq_to_cap()\n",
    "        Phi0 = (c.h / (2 * c.e.si))  # Flux quantum in Weber\n",
    "\n",
    "        # Calculate the Josephson energy EJ and charging energy EC\n",
    "        EJ = (((Phi0/2/np.pi)**2/self.L).to(u.J)/c.h).to(u.GHz)#, equivalencies=u.spectral())  # Convert to GHz\n",
    "        EC = (c.e.si**2 / (2 * self.C)/c.h).to(u.GHz)\n",
    "        self.EJ = EJ\n",
    "        self.EC = EC\n",
    "        \n",
    "    def get_params(self):\n",
    "        return [self.freq, self.ratio, self.qubit_capacitance, self.qubit_inductance, self.EJ, self.EC]\n",
    "    def get_qcap(self):\n",
    "        return self.C\n",
    "    \n",
    "    def get_qind(self):\n",
    "        return self.L\n",
    "    \n",
    "    def get_EJ(self):\n",
    "        return self.EJ\n",
    "    \n",
    "    def get_EC(self):\n",
    "        return self.EC\n",
    "    \n",
    "    def qubit_freq_to_cap(self, ):\n",
    "        desired_frequency = self.freq   # Desired frequency in GHz\n",
    "        ratio = self.ratio\n",
    "        # Use scipy.optimize.root_scalar to find the root\n",
    "        def target_function(L, desired_frequency,):\n",
    "            self.L = L * u.nH  # Convert L to nanohenrys\n",
    "            self.calculate_qubit_freq()\n",
    "            calculated_frequency = self.freq.to(u.GHz).value\n",
    "            return calculated_frequency - desired_frequency\n",
    "        result = root_scalar(target_function, args=(desired_frequency.to(u.GHz).value,), bracket=[1, 100], method='brentq')\n",
    "\n",
    "        # Print the result\n",
    "        if result.converged:\n",
    "            L_optimal = result.root\n",
    "            print(f\"Optimal inductance L: {L_optimal} nH\")\n",
    "        else:\n",
    "            print(\"Root finding did not converge\")\n",
    "        c_optimal = inductance_to_cap(L_optimal*u.nH, ratio = ratio)\n",
    "        return c_optimal, L_optimal*u.nH\n",
    "    def calculate_qubit_freq(self,):\n",
    "        L = self.L\n",
    "        ratio = self.ratio\n",
    "        EJ = (((Phi0/2/np.pi)**2/L).to(u.J)/c.h).to(u.GHz)\n",
    "        #, equivalencies=u.spectral())  # Convert to GHz\n",
    "        EC = EJ/ratio\n",
    "        ng = 0.0   # Offset charge\n",
    "        nlev = 10  # Number of energy levels to consider\n",
    "\n",
    "        # Create a Transmon object\n",
    "        transmon = scq.Transmon(EJ=EJ.value, EC=EC.value, ng=ng, ncut=30, truncated_dim=nlev)\n",
    "\n",
    "        # Calculate the eigenenergies\n",
    "        eigenenergies = transmon.eigenvals()\n",
    "\n",
    "        # Calculate the transition frequencies (in GHz)\n",
    "        transition_frequencies = np.diff(eigenenergies)\n",
    "\n",
    "        # Calculate the anharmonicity (in GHz)\n",
    "        anharmonicity = transition_frequencies[1] - transition_frequencies[0]\n",
    "        self.freq = transition_frequencies[0]*u.GHz\n",
    "        self.alpha = anharmonicity*u.GHz\n",
    "    "
   ]
  },
  {
   "cell_type": "markdown",
   "metadata": {},
   "source": [
    "Design specifics"
   ]
  },
  {
   "cell_type": "code",
   "execution_count": 6,
   "metadata": {},
   "outputs": [],
   "source": [
    "from Transmon_specifications import find_junction_area, find_junction_capacitance"
   ]
  },
  {
   "cell_type": "code",
   "execution_count": 7,
   "metadata": {},
   "outputs": [],
   "source": [
    "def pad_len_from_C(c):\n",
    "    slope = (900-500)/(101.367-61.365)\n",
    "    intercept = 500 - slope*61.365\n",
    "    \n",
    "    return slope*c.to(u.fF).value + intercept \n",
    "def unitless_find_j_area(L):\n",
    "    return find_junction_area(L*u.nH,Jc = 0.42*u.uA/u.um**2).to(u.um**2).value\n",
    "\n",
    "def unitless_find_pad_len(C):\n",
    "    slope = (900-500)/(101.367-61.365)\n",
    "    intercept = 500 - slope*61.365\n",
    "    \n",
    "    return slope*C + intercept"
   ]
  },
  {
   "cell_type": "code",
   "execution_count": 8,
   "metadata": {},
   "outputs": [],
   "source": [
    "def convert_capacitance_to_energy(capacitance):\n",
    "    C = capacitance*u.fF\n",
    "    return (c.e.si**2 / (2 * C)/c.h).to(u.GHz)\n",
    "\n",
    "def get_cap_params(caps, cj):\n",
    "    cap_matrix = copy.deepcopy(caps)\n",
    "    T = np.array([[1,0,-1,0],\n",
    "              [0,1,0,0],\n",
    "              [1,0,1,0],\n",
    "              [0,0,0,1]])\n",
    "    cap_matrix[0,2] -= cj\n",
    "    cap_matrix[2,0] -= cj\n",
    "    cap_matrix[2,2] += cj\n",
    "    cap_matrix[0,0] += cj\n",
    "    differential_cap_matrix = np.linalg.inv(T).T@(cap_matrix)@np.linalg.inv(T)\n",
    "    inverse = np.linalg.inv(differential_cap_matrix)\n",
    "    qubit_capacitance = np.reciprocal(inverse)[0,0]\n",
    "    coupling_capacitance = np.reciprocal(inverse)[0,1]\n",
    "    Ec = convert_capacitance_to_energy(qubit_capacitance)\n",
    "    g = 8*convert_capacitance_to_energy(coupling_capacitance).to(u.MHz)\n",
    "    return [Ec,g,qubit_capacitance,coupling_capacitance]\n",
    "    "
   ]
  },
  {
   "cell_type": "code",
   "execution_count": 9,
   "metadata": {},
   "outputs": [
    {
     "data": {
      "text/plain": [
       "[<Quantity 0.48425573 GHz>, <Quantity 0. MHz>, 40.0, inf]"
      ]
     },
     "execution_count": 9,
     "metadata": {},
     "output_type": "execute_result"
    }
   ],
   "source": [
    "get_cap_params(np.array([[80,0,0,0],[0,80,0,0],[0,0,80,0],[0,0,0,80]]),0.5)"
   ]
  },
  {
   "cell_type": "markdown",
   "metadata": {},
   "source": [
    "## Resonator calculations"
   ]
  },
  {
   "cell_type": "code",
   "execution_count": 10,
   "metadata": {},
   "outputs": [],
   "source": [
    "import astropy.units as u\n",
    "import astropy.constants as c\n",
    "import scipy.optimize as optimize\n",
    "\n",
    "# define constants for LL designs\n",
    "sub_t = 350*u.um #substrate thickness (Si in this case)\n",
    "metal_t = 100*u.nm #Deposited metal thickness (Al)\n",
    "Sc = 67*u.fF/(u.um)**2 #JJ specific capacitance\n",
    "epsilon = 11.45\n",
    "W_jj = 200*u.nm #junction width\n",
    "Z0 = 50*u.Ohm #characteristic impedance\n",
    "import qiskit_metal.analyses as analyses"
   ]
  },
  {
   "cell_type": "code",
   "execution_count": 11,
   "metadata": {},
   "outputs": [],
   "source": [
    "freq = 6*u.GHz.si\n",
    "line_width = 15*u.um\n",
    "line_gap = 8.30*u.um"
   ]
  },
  {
   "cell_type": "markdown",
   "metadata": {},
   "source": [
    "Optimal pin-gap ratio for resonator and feedlines"
   ]
  },
  {
   "cell_type": "code",
   "execution_count": 12,
   "metadata": {},
   "outputs": [],
   "source": [
    "class ReadoutResonator():\n",
    "    def __init__(self, freq, short_on_one_end = False,optimal_pin = None, optimal_gap = None ):\n",
    "        self.freq = freq\n",
    "        self.short_on_one_end = short_on_one_end\n",
    "        self.substrate_thickness = 350*u.um\n",
    "        self.film_thickness = 100*u.nm\n",
    "        if (optimal_gap is None) and (optimal_pin is None):\n",
    "            self.pin = 15*u.um\n",
    "            self.optimize_gap()\n",
    "        elif optimal_gap is None:\n",
    "            self.pin = optimal_pin\n",
    "            self.optimize_gap()\n",
    "        elif optimal_pin is None:\n",
    "            self.gap = optimal_gap\n",
    "            self.optimize_pin()\n",
    "        \n",
    "        self.param_from_res_freq(freq, short_on_one_end = short_on_one_end)\n",
    "        self.C = np.pi/2/self.freq/2/np.pi/self.Z0\n",
    "        \n",
    "    def get_params(self):\n",
    "        return [self.L, self.C, self.target_length]\n",
    "    \n",
    "    def get_L(self):\n",
    "        return self.L\n",
    "    \n",
    "    def get_C(self):\n",
    "        return self.C\n",
    "    \n",
    "    def get_target_length(self):\n",
    "        return self.target_length\n",
    "    \n",
    "    def param_from_res_freq(self,freq, short_on_one_end = False):\n",
    "        self.Lk, self.Lext,self.Cl,self.G,self.Z0,self.etf,self.Cstar = analyses.cpw_calculations.lumped_cpw(freq = self.freq.to(u.Hz).value,\n",
    "                                        line_width=self.pin.to(u.m).value,\n",
    "                                        line_gap=self.gap.to(u.m).value,\n",
    "                                        substrate_thickness=self.substrate_thickness.to(u.m).value,\n",
    "                                        film_thickness=self.film_thickness.to(u.m).value,)\n",
    "        self.Lk*=u.H\n",
    "        self.Lext*=u.H\n",
    "        self.Cl*=u.F/u.m\n",
    "        \n",
    "        self.G*=u.S\n",
    "        self.Z0*=u.Ohm\n",
    "        self.etf*=u.H/u.m\n",
    "        self.Cstar*=u.F\n",
    "        target_length = analyses.cpw_calculations.guided_wavelength(freq = self.freq.to(u.Hz).value,\n",
    "                                        line_width=self.pin.to(u.m).value,\n",
    "                                        line_gap=self.gap.to(u.m).value,\n",
    "                                        substrate_thickness=self.substrate_thickness.to(u.m).value,\n",
    "                                        film_thickness=self.film_thickness.to(u.m).value,)[0]*u.m\n",
    "        if short_on_one_end:\n",
    "            target_length /= 4\n",
    "        else:\n",
    "            target_length /= 2\n",
    "        self.len = target_length\n",
    "    def optimize_gap(self):\n",
    "        def f(line_gap):\n",
    "            return(analyses.cpw_calculations.lumped_cpw(self.freq.to(u.Hz).value,\n",
    "                                            self.pin.to(u.m).value,\n",
    "                                            line_gap,\n",
    "                                            self.substrate_thickness.to(u.m).value,\n",
    "                                            self.film_thickness.to(u.m).value)[4]-50)\n",
    "        optimized_gap = optimize.fsolve(f,self.pin.si.value)[0]*u.m\n",
    "        self.gap = optimized_gap.to(u.um)\n",
    "    def optimize_pin(self):\n",
    "        def f(line_width):\n",
    "            return(analyses.cpw_calculations.lumped_cpw(self.freq.to(u.Hz).value,\n",
    "                                            line_width,\n",
    "                                            self.gap.si.value,\n",
    "                                            self.substrate_thickness.to(u.m).value,\n",
    "                                            self.film_thickness.to(u.m).value)[4]-50)\n",
    "        optimized_pin = optimize.fsolve(f,self.gap.si.value)[0]*u.m\n",
    "        self.pin = optimized_pin.to(u.um)"
   ]
  },
  {
   "cell_type": "markdown",
   "metadata": {},
   "source": [
    "### dispersive readout function"
   ]
  },
  {
   "cell_type": "code",
   "execution_count": 13,
   "metadata": {},
   "outputs": [],
   "source": [
    "class DispersiveReadout():\n",
    "    def __init__(self, qubit, res, T1, c_qr = None, c_tr = None):\n",
    "        self.qubit = qubit\n",
    "        self.res = res\n",
    "        self.pT1 = T1\n",
    "        self.optimize_cqr()\n",
    "        self.optimize_ctr()\n",
    "        \n",
    "    def get_params(self):\n",
    "        return [self.qubit, self.res, self.c_qr, self.c_tr]\n",
    "    \n",
    "    def get_cqr(self):\n",
    "        return self.c_qr\n",
    "    \n",
    "    def get_ctr(self):\n",
    "        return self.c_tr\n",
    "    \n",
    "    def get_qubit(self):\n",
    "        return self.qubit\n",
    "    \n",
    "    def get_res(self):\n",
    "        return self.res\n",
    "    def calc_g(self):\n",
    "        c_qr = self.c_qr\n",
    "        Cq = self.qubit.C\n",
    "        Cr = self.res.C\n",
    "        wq = self.qubit.freq*np.pi*2\n",
    "        wr = self.res.freq*np.pi*2\n",
    "        EJ = self.qubit.EJ\n",
    "        EC = self.qubit.EC\n",
    "        return c_qr/Cq*np.sqrt(c.e.si**2*wr/c.hbar/Cr)*(EJ/8/EC)**0.25\n",
    "    def update_g(self):\n",
    "        self.g = self.calc_g()\n",
    "    def calc_kappa(self):\n",
    "        res = self.res\n",
    "        c_tr = self.c_tr\n",
    "        return (analyses.em.kappa_calculation.kappa_in(res.freq.si.value,\n",
    "                                       c_tr.si.value,\n",
    "                                       res.freq.si.value)*u.Hz).to(u.MHz)\n",
    "    def update_kappa(self):\n",
    "        self.kappa = self.calc_kappa()\n",
    "    def calc_chi(self):\n",
    "        qubit = self.qubit\n",
    "        resonator = self.res\n",
    "        delta = (qubit.freq-resonator.freq)*2*np.pi\n",
    "        sum_freq = (qubit.freq+resonator.freq)*2*np.pi\n",
    "        alpha = qubit.EC\n",
    "        return 2*self.g**2*(alpha/delta/(delta+alpha)+alpha/sum_freq/(sum_freq+alpha))\n",
    "    def update_chi(self):\n",
    "        self.chi = self.calc_chi()\n",
    "    def calc_purcellT1(self,):\n",
    "        qubit = self.qubit\n",
    "        res = self.res\n",
    "        \n",
    "        delta = (qubit.freq-res.freq)*2*np.pi\n",
    "        \n",
    "        purcellGamma = self.g**2*self.kappa/delta**2\n",
    "        \n",
    "        return 1/purcellGamma/2/np.pi\n",
    "    def calc_purcellT1q(self,update_g = True, update_chi = True):\n",
    "        '''taking kappa = 2*chi for the optimal SNR, can directly get the T1q'''\n",
    "        c_qr = self.c_qr\n",
    "        qubit = self.qubit\n",
    "        res = self.res\n",
    "        if update_g:\n",
    "            self.update_g()\n",
    "        if update_chi:\n",
    "            self.update_chi()\n",
    "        delta = (qubit.freq-res.freq)*2*np.pi\n",
    "        \n",
    "        kappa_val = self.chi*2\n",
    "        \n",
    "        purcellGamma = self.g**2*kappa_val/delta**2\n",
    "        return 1/purcellGamma/2/np.pi\n",
    "    def optimize_cqr(self,):\n",
    "        '''find the optimal coupling capacitance'''\n",
    "        target_t1 = self.pT1\n",
    "        c_qr = 1*u.fF\n",
    "        self.c_qr = c_qr\n",
    "        while self.calc_purcellT1q().to(u.ms) > 1.01*target_t1:\n",
    "            c_qr += .1*u.fF\n",
    "            self.c_qr = c_qr\n",
    "        return c_qr\n",
    "    def optimize_ctr(self, target_kappa=None):\n",
    "        '''find the optimal coupling capacitance'''\n",
    "        if target_kappa is None:\n",
    "            target_kappa = self.chi*2\n",
    "        c_tr = 1*u.fF\n",
    "        self.c_tr = c_tr\n",
    "        self.update_kappa()\n",
    "        while self.kappa < target_kappa:\n",
    "            c_tr += .1*u.fF\n",
    "            self.c_tr = c_tr\n",
    "            self.update_kappa()\n",
    "        # return c_tr\n"
   ]
  },
  {
   "cell_type": "code",
   "execution_count": 14,
   "metadata": {},
   "outputs": [
    {
     "name": "stdout",
     "output_type": "stream",
     "text": [
      "Optimal inductance L: 13.676453476080171 nH\n"
     ]
    }
   ],
   "source": [
    "qubit = TransmonQubit(4*u.GHz, ratio = 65)\n",
    "res = ReadoutResonator(6*u.GHz, short_on_one_end = False)\n",
    "dr = DispersiveReadout(qubit,res,5*u.ms)"
   ]
  },
  {
   "cell_type": "code",
   "execution_count": 15,
   "metadata": {},
   "outputs": [],
   "source": [
    "default_options = Dict(\n",
    "        cut_l='800um',\n",
    "        cut_h='1200um',\n",
    "        gap='20um',\n",
    "        w = '90um',\n",
    "        l = '900um',\n",
    "        r = '60um',\n",
    "        cpw_l = '50um',\n",
    "        coupling_gap = '40um',\n",
    "        JJ_cutout_w = '70um',\n",
    "        JJ_cutout_h = '70um',\n",
    "        JJ_cutout_r = '150um',\n",
    "        JJ_c_contact_l = '40um',\n",
    "        JJ_c_contact_r = '2.5um',\n",
    "        JJ_c_contact_w = '10um',\n",
    "        coupling_d = '100um',\n",
    "        coupling_pad_w = '90um',\n",
    "        coupling_r = '40um',\n",
    "        cpw_pin = '10um',\n",
    "        chip='main',\n",
    "        resolution = '10',\n",
    "        junction = 'False',\n",
    "        orientation = '0',\n",
    "        JJ_c_contact_shortl = '10um',\n",
    "        istunnel = 'False')"
   ]
  },
  {
   "cell_type": "markdown",
   "metadata": {},
   "source": []
  },
  {
   "cell_type": "markdown",
   "metadata": {},
   "source": [
    "## Leonding method"
   ]
  },
  {
   "cell_type": "code",
   "execution_count": 16,
   "metadata": {},
   "outputs": [],
   "source": [
    "def convert_capacitance_to_energy(capacitance):\n",
    "    C = capacitance*u.fF\n",
    "    return (c.e.si**2 / (2 * C)/c.h).to(u.GHz)\n",
    "\n",
    "def get_cap_params_dim4(caps, cj):\n",
    "    cap_matrix = copy.deepcopy(caps)\n",
    "    T = np.array([[1,0,0,0],\n",
    "                  [0,1,1,0],\n",
    "                  [0,1,-1,0],\n",
    "                  [0,0,0,1]])\n",
    "    cap_matrix[1,2] -= cj\n",
    "    cap_matrix[2,1] -= cj\n",
    "    cap_matrix[2,2] += cj\n",
    "    cap_matrix[1,1] += cj\n",
    "    differential_cap_matrix = np.linalg.inv(T).T@(cap_matrix)@np.linalg.inv(T)\n",
    "    inverse = np.linalg.inv(differential_cap_matrix)\n",
    "    qubit_capacitance = np.reciprocal(inverse)[2,2]\n",
    "    coupling_capacitance = np.reciprocal(inverse)[2,3]\n",
    "    Ec = convert_capacitance_to_energy(qubit_capacitance)\n",
    "    J = 8*convert_capacitance_to_energy(coupling_capacitance).to(u.MHz)\n",
    "    # gp = (1/c.hbar*c.e.si*np.sqrt(np.pi*c.hbar/2/z0)*(32*Ec/Ej)**0.25).to(u.MHz)*coupling_capacitance\n",
    "    # print(gp)\n",
    "    return [Ec,J,qubit_capacitance,coupling_capacitance]\n",
    "def get_cap_params_dim2(caps, cj):\n",
    "    cap_matrix = copy.deepcopy(caps)\n",
    "    T = np.array([[1,1,0],\n",
    "                  [1,-1,0],\n",
    "                  [0,0,1]])\n",
    "    cap_matrix[0,1] -= cj\n",
    "    cap_matrix[1,0] -= cj\n",
    "    cap_matrix[1,1] += cj\n",
    "    cap_matrix[0,0] += cj\n",
    "    differential_cap_matrix = np.linalg.inv(T).T@(cap_matrix)@np.linalg.inv(T)\n",
    "    inverse = np.linalg.inv(differential_cap_matrix)\n",
    "    qubit_capacitance = np.reciprocal(inverse)[1,1]\n",
    "    coupling_capacitance = np.reciprocal(inverse)[1,2]\n",
    "    Ec = convert_capacitance_to_energy(qubit_capacitance)\n",
    "    J = 8*convert_capacitance_to_energy(coupling_capacitance).to(u.MHz)\n",
    "    \n",
    "    # gp = (1/c.hbar*c.e.si*np.sqrt(np.pi*c.hbar/2/z0)*(32*Ec/Ej)**0.25).to(u.MHz)*coupling_capacitance\n",
    "    # print(gp)\n",
    "    return [Ec,J,qubit_capacitance,coupling_capacitance]\n",
    "def qubit_zpf(E_J, E_c):\n",
    "    z_Q = (1/2*np.pi)*np.sqrt(8*E_c/E_J)\n",
    "    return np.sqrt(1/(4*np.pi*z_Q))\n",
    "def res_zpf(Z_0 = 50*u.Ohm):\n",
    "    R_Q = c.h/(2*c.e.si**2)\n",
    "    Z = 2*Z_0/np.pi\n",
    "    z= Z/R_Q\n",
    "    return np.sqrt(1/(4*np.pi*z))\n",
    "    "
   ]
  },
  {
   "cell_type": "code",
   "execution_count": 17,
   "metadata": {},
   "outputs": [],
   "source": [
    "phi0 = c.h/2/c.e.si\n",
    "epsilon_r = 11.45\n",
    "z0 = 50*u.Ohm\n",
    "\n",
    "def g_leonDing_old(dim = 4, c1 = c1, cj = 2, Lj = 13*u.nH):\n",
    "    df = c1.sim.capacitance_matrix\n",
    "    df1 = copy.deepcopy(df)\n",
    "    df1['ground_main_plane']['ground_main_plane'] += res.C.to(u.fF).value\n",
    "    df1['resonator_pad_Q1']['resonator_pad_Q1'] += res.C.to(u.fF).value\n",
    "    df1['resonator_pad_Q1']['ground_main_plane'] -= res.C.to(u.fF).value\n",
    "    df1['ground_main_plane']['resonator_pad_Q1'] -= res.C.to(u.fF).value\n",
    "    cap = df1.to_numpy()\n",
    "    if dim == 3:\n",
    "        capp = cap[1:,1:]\n",
    "        Ec, J,_,_ = get_cap_params(capp,cj)\n",
    "    elif dim == 4:\n",
    "        capp = cap\n",
    "        Ec, J,_,_ = get_cap_params_dim4(capp,cj) \n",
    "        \n",
    "    \n",
    "    # Ec = (c.e.si**2/2/Cq)/c.h\n",
    "    Ej = ((phi0/2/np.pi)**2/Lj)/c.h   \n",
    "    g = (qubit_zpf(Ej,Ec)*J*res_zpf()).to(u.MHz)\n",
    "    \n",
    "    \n",
    "    \n",
    "    return g, Ec, Ej, "
   ]
  },
  {
   "cell_type": "code",
   "execution_count": 18,
   "metadata": {},
   "outputs": [],
   "source": [
    "def g_leonDing(dim = 4, c1 = c1, cj = 2, Lj = 13*u.nH):\n",
    "    df = c1.sim.capacitance_matrix\n",
    "    df1 = copy.deepcopy(df)\n",
    "    \n",
    "    \n",
    "    # df1['ground_main_plane']['ground_main_plane'] += res.C.to(u.fF).value\n",
    "    # df1['resonator_pad_Q1']['resonator_pad_Q1'] += res.C.to(u.fF).value\n",
    "    # df1['resonator_pad_Q1']['ground_main_plane'] -= res.C.to(u.fF).value\n",
    "    # df1['ground_main_plane']['resonator_pad_Q1'] -= res.C.to(u.fF).value\n",
    "    cap = df1.to_numpy()\n",
    "    cap[1,1] += cap[0,1]\n",
    "    cap[2,2] += cap[0,2]\n",
    "    cap[3,3] += cap[0,3]\n",
    "    \n",
    "    cap[0,3] += res.C.to(u.fF).value\n",
    "    cap[3,0] += res.C.to(u.fF).value\n",
    "    cap[0,0] -= res.C.to(u.fF).value\n",
    "    cap[3,3] -= res.C.to(u.fF).value\n",
    "    \n",
    "    \n",
    "    if dim == 3:\n",
    "        capp = cap[1:,1:]\n",
    "        Ec, J,_,_ = get_cap_params(capp,cj)\n",
    "    elif dim == 4:\n",
    "        capp = cap\n",
    "        Ec, J,_,_ = get_cap_params_dim4(capp,cj) \n",
    "        \n",
    "    \n",
    "    # Ec = (c.e.si**2/2/Cq)/c.h\n",
    "    Ej = ((phi0/2/np.pi)**2/Lj)/c.h   \n",
    "    g = (qubit_zpf(Ej,Ec)*J*res_zpf()).to(u.MHz)\n",
    "    \n",
    "    \n",
    "    \n",
    "    return g, Ec, Ej, "
   ]
  },
  {
   "cell_type": "code",
   "execution_count": 19,
   "metadata": {},
   "outputs": [],
   "source": [
    "# g_leonDing(dim = 4, c1 = c1, cj = 2, Lj = 13*u.nH)"
   ]
  },
  {
   "cell_type": "code",
   "execution_count": 20,
   "metadata": {},
   "outputs": [
    {
     "data": {
      "text/latex": [
       "$180.82445 \\; \\mathrm{MHz}$"
      ],
      "text/plain": [
       "<Quantity 180.82445195 MHz>"
      ]
     },
     "execution_count": 20,
     "metadata": {},
     "output_type": "execute_result"
    }
   ],
   "source": [
    "qubit.alpha = 0.2*u.GHz\n",
    "dr.calc_g().to(u.MHz)"
   ]
  },
  {
   "cell_type": "code",
   "execution_count": 21,
   "metadata": {},
   "outputs": [
    {
     "name": "stderr",
     "output_type": "stream",
     "text": [
      "09:34PM 54s WARNING [run_lom]: Please initialize the capacitance_matrix before executing this method.`self.sim.capacitance_matrix = pd.DataFrame(...)`\n"
     ]
    },
    {
     "data": {
      "text/plain": [
       "{}"
      ]
     },
     "execution_count": 21,
     "metadata": {},
     "output_type": "execute_result"
    }
   ],
   "source": [
    "c1.setup.junctions = Dict({'Lj': qubit.L.to(u.nH).value, 'Cj': 2})\n",
    "c1.setup.freq_readout = 6.0\n",
    "c1.setup.freq_bus = []\n",
    "\n",
    "c1.run_lom()\n",
    "c1.lumped_oscillator_all"
   ]
  },
  {
   "cell_type": "markdown",
   "metadata": {},
   "source": [
    "## Alex Page Thesis method"
   ]
  },
  {
   "cell_type": "code",
   "execution_count": 22,
   "metadata": {},
   "outputs": [],
   "source": [
    "df = c1.sim.capacitance_matrix"
   ]
  },
  {
   "cell_type": "code",
   "execution_count": 23,
   "metadata": {},
   "outputs": [],
   "source": [
    "phi0 = c.h/2/c.e.si\n",
    "T = 30*u.mK\n",
    "epsilon_r = 11.45\n",
    "z0 = 50*u.Ohm\n",
    "\n",
    "\n",
    "Cq = 20*u.fF\n",
    "Lj = 13*u.nH\n",
    "Ec = (c.e.si**2/2/Cq)/c.h\n"
   ]
  },
  {
   "cell_type": "code",
   "execution_count": 24,
   "metadata": {},
   "outputs": [],
   "source": [
    "def g_alexPage(c1 = c1,wr = 6*u.GHz, Lj = 13*u.nH):\n",
    "    df = c1.sim.capacitance_matrix\n",
    "    c_1 = -df['pad_left_Q1']['resonator_pad_Q1']*u.fF\n",
    "    c_2 = -df['pad_right_Q1']['ground_main_plane']*u.fF\n",
    "    c_3 = -df['pad_right_Q1']['resonator_pad_Q1']*u.fF\n",
    "    c_4 = -df['pad_left_Q1']['ground_main_plane']*u.fF\n",
    "    ct = -df['pad_left_Q1']['pad_right_Q1']*u.fF\n",
    "\n",
    "    c_phi = (c_2+c_3)*(c_1+c_4)/(c_1+c_2+c_3+c_4)+2*u.fF+ct\n",
    "    c_ceff = (c_1**2-c_3*c_4)/(c_1+c_2+c_3+c_4+ct)\n",
    "    beta = (c_1*c_2-c_3*c_4)/((c_2+c_3)*(c_1+c_4)+ct*(c_1+c_2+c_3+c_4))\n",
    "    Ec = (c.e.si**2/2/c_phi)/c.h\n",
    "    Ej = ((phi0/2/np.pi)**2/Lj)/c.h\n",
    "    w01 = np.sqrt(8*Ec*Ej)\n",
    "    delta = wr-w01\n",
    "    c_res = np.pi/2/wr/z0\n",
    "    Vrms = np.sqrt(c.hbar*wr/2/c_res)\n",
    "    g = c.e.si*Vrms*beta/c.hbar*np.sqrt(2)*(Ej/8/Ec)**0.25\n",
    "    return g.to(u.MHz), Ec.to(u.MHz), Ej.to(u.GHz), w01.to(u.GHz)"
   ]
  },
  {
   "cell_type": "code",
   "execution_count": 25,
   "metadata": {},
   "outputs": [],
   "source": [
    "# g_alexPage()"
   ]
  },
  {
   "cell_type": "code",
   "execution_count": null,
   "metadata": {},
   "outputs": [],
   "source": []
  },
  {
   "cell_type": "markdown",
   "metadata": {},
   "source": [
    "## Qiskit Metal"
   ]
  },
  {
   "cell_type": "code",
   "execution_count": 210,
   "metadata": {},
   "outputs": [],
   "source": [
    "qubit_layer = 5\n",
    "junction_layer = 20\n",
    "ab_layer = 31\n",
    "ab_square_layer = 30\n",
    "junction_area_layer = 60"
   ]
  },
  {
   "cell_type": "code",
   "execution_count": 26,
   "metadata": {},
   "outputs": [
    {
     "name": "stdout",
     "output_type": "stream",
     "text": [
      "2024-11-1721-34\n"
     ]
    }
   ],
   "source": [
    "from datetime import datetime\n",
    "\n",
    "def get_current_time_string():\n",
    "    now = datetime.now()\n",
    "    return now.strftime(\"%Y-%m-%d%H-%M\")\n",
    "\n",
    "# Example usage\n",
    "print(get_current_time_string())"
   ]
  },
  {
   "cell_type": "code",
   "execution_count": 27,
   "metadata": {},
   "outputs": [
    {
     "name": "stdout",
     "output_type": "stream",
     "text": [
      "Optimal inductance L: 13.676453476080171 nH\n"
     ]
    }
   ],
   "source": [
    "qubit = TransmonQubit(4*u.GHz, ratio = 65)\n",
    "res = ReadoutResonator(6*u.GHz, short_on_one_end = False)"
   ]
  },
  {
   "cell_type": "code",
   "execution_count": 28,
   "metadata": {},
   "outputs": [],
   "source": [
    "default_options = Dict(\n",
    "        cut_l='800um',\n",
    "        cut_h='1200um',\n",
    "        gap='20um',\n",
    "        w = '90um',\n",
    "        l = '900um',\n",
    "        r = '60um',\n",
    "        cpw_l = '50um',\n",
    "        coupling_gap = '40um',\n",
    "        JJ_cutout_w = '70um',\n",
    "        JJ_cutout_h = '70um',\n",
    "        JJ_cutout_r = '150um',\n",
    "        JJ_c_contact_l = '40um',\n",
    "        JJ_c_contact_r = '2.5um',\n",
    "        JJ_c_contact_w = '10um',\n",
    "        coupling_d = '100um',\n",
    "        coupling_pad_w = '90um',\n",
    "        coupling_r = '40um',\n",
    "        cpw_pin = '10um',\n",
    "        chip='main',\n",
    "        resolution = '10',\n",
    "        junction = 'False',\n",
    "        orientation = '0',\n",
    "        JJ_c_contact_shortl = '10um',\n",
    "        istunnel = 'False')"
   ]
  },
  {
   "cell_type": "markdown",
   "metadata": {},
   "source": [
    "### Define qubit, resonator params"
   ]
  },
  {
   "cell_type": "code",
   "execution_count": 29,
   "metadata": {},
   "outputs": [
    {
     "name": "stdout",
     "output_type": "stream",
     "text": [
      "Optimal inductance L: 13.676453476080171 nH\n"
     ]
    }
   ],
   "source": [
    "qubit = TransmonQubit(4*u.GHz, ratio = 65)\n",
    "res = ReadoutResonator(6.5*u.GHz, short_on_one_end = False)\n",
    "dr = DispersiveReadout(qubit,res,5*u.ms)\n"
   ]
  },
  {
   "cell_type": "code",
   "execution_count": 30,
   "metadata": {},
   "outputs": [
    {
     "name": "stdout",
     "output_type": "stream",
     "text": [
      "False\n",
      "junction added\n",
      "False\n",
      "junction added\n"
     ]
    }
   ],
   "source": [
    "q1 = DiffTransmonRounded(design,'Q1',options = default_options)\n",
    "gui.rebuild()"
   ]
  },
  {
   "cell_type": "code",
   "execution_count": 31,
   "metadata": {},
   "outputs": [
    {
     "ename": "Exception",
     "evalue": "stop!",
     "output_type": "error",
     "traceback": [
      "\u001b[1;31m---------------------------------------------------------------------------\u001b[0m",
      "\u001b[1;31mException\u001b[0m                                 Traceback (most recent call last)",
      "Cell \u001b[1;32mIn [31], line 1\u001b[0m\n\u001b[1;32m----> 1\u001b[0m \u001b[38;5;28;01mraise\u001b[39;00m \u001b[38;5;167;01mException\u001b[39;00m(\u001b[38;5;124m'\u001b[39m\u001b[38;5;124mstop!\u001b[39m\u001b[38;5;124m'\u001b[39m)\n",
      "\u001b[1;31mException\u001b[0m: stop!"
     ]
    }
   ],
   "source": [
    "raise Exception('stop!')"
   ]
  },
  {
   "cell_type": "markdown",
   "metadata": {},
   "source": [
    "### Simulation"
   ]
  },
  {
   "cell_type": "code",
   "execution_count": null,
   "metadata": {},
   "outputs": [
    {
     "ename": "Exception",
     "evalue": "stop!",
     "output_type": "error",
     "traceback": [
      "\u001b[1;31m---------------------------------------------------------------------------\u001b[0m\n",
      "\u001b[1;31mException\u001b[0m                                 Traceback (most recent call last)\n",
      "Cell \u001b[1;32mIn [16], line 1\u001b[0m\n",
      "\u001b[1;32m----> 1\u001b[0m \u001b[38;5;28;01mraise\u001b[39;00m \u001b[38;5;167;01mException\u001b[39;00m(\u001b[38;5;124m'\u001b[39m\u001b[38;5;124mstop!\u001b[39m\u001b[38;5;124m'\u001b[39m)\n",
      "\n",
      "\u001b[1;31mException\u001b[0m: stop!"
     ]
    }
   ],
   "source": [
    "raise Exception('stop!')"
   ]
  },
  {
   "cell_type": "code",
   "execution_count": null,
   "metadata": {},
   "outputs": [
    {
     "name": "stdout",
     "output_type": "stream",
     "text": [
      "Optimal inductance L: 11.397044563400145 nH\n"
     ]
    }
   ],
   "source": [
    "qubit = TransmonQubit(4.8*u.GHz, ratio = 65)\n",
    "res = ReadoutResonator(6.5*u.GHz, short_on_one_end = False)\n",
    "dr = DispersiveReadout(qubit,res,5*u.ms)"
   ]
  },
  {
   "cell_type": "code",
   "execution_count": null,
   "metadata": {},
   "outputs": [
    {
     "data": {
      "text/plain": [
       "{'cut_l': '650um+500um+15um+25um',\n",
       " 'cut_h': '1200um',\n",
       " 'gap': '20um',\n",
       " 'w': '90um',\n",
       " 'l': '900um',\n",
       " 'r': '60um',\n",
       " 'cpw_l': '50um',\n",
       " 'coupling_gap': '15um',\n",
       " 'JJ_cutout_w': '70um',\n",
       " 'JJ_cutout_h': '70um',\n",
       " 'JJ_cutout_r': '150um',\n",
       " 'JJ_c_contact_l': '40um',\n",
       " 'JJ_c_contact_r': '2.5um',\n",
       " 'JJ_c_contact_w': '10um',\n",
       " 'coupling_d': '400um',\n",
       " 'coupling_pad_w': '90um',\n",
       " 'coupling_r': '40um',\n",
       " 'cpw_pin': '10um',\n",
       " 'chip': 'main',\n",
       " 'resolution': '10',\n",
       " 'junction': 'False',\n",
       " 'orientation': '0',\n",
       " 'JJ_c_contact_shortl': '10um',\n",
       " 'istunnel': 'False',\n",
       " 'coupling_gd': '650um'}"
      ]
     },
     "execution_count": 70,
     "metadata": {},
     "output_type": "execute_result"
    }
   ],
   "source": [
    "default_options_q2"
   ]
  },
  {
   "cell_type": "code",
   "execution_count": null,
   "metadata": {},
   "outputs": [
    {
     "data": {
      "text/plain": [
       "'250um+500um+15um+35um'"
      ]
     },
     "execution_count": 104,
     "metadata": {},
     "output_type": "execute_result"
    }
   ],
   "source": [
    "default_options['coupling_d']+'+500um+'+default_options['coupling_gap']+'+'+default_options['gap']\n"
   ]
  },
  {
   "cell_type": "code",
   "execution_count": null,
   "metadata": {},
   "outputs": [
    {
     "name": "stderr",
     "output_type": "stream",
     "text": [
      "INFO 08:12PM [connect_design]: \tOpened active design\n",
      "\tDesign:    Design_q3d [Solution type: Q3D]\n"
     ]
    },
    {
     "name": "stdout",
     "output_type": "stream",
     "text": [
      "False\n",
      "junction added\n",
      "False\n",
      "junction added\n"
     ]
    },
    {
     "name": "stderr",
     "output_type": "stream",
     "text": [
      "INFO 08:12PM [get_setup]: \tOpened setup `Setup`  (<class 'pyEPR.ansys.AnsysQ3DSetup'>)\n",
      "INFO 08:12PM [analyze]: Analyzing setup Setup\n",
      "INFO 08:13PM [get_matrix]: Exporting matrix data to (C:\\Users\\slab\\AppData\\Local\\Temp\\tmp2k88v428.txt, C, , Setup:LastAdaptive, \"Original\", \"ohm\", \"nH\", \"fF\", \"mSie\", 5000000000, Maxwell, 1, False\n",
      "INFO 08:13PM [get_matrix]: Exporting matrix data to (C:\\Users\\slab\\AppData\\Local\\Temp\\tmp4gcx_bg9.txt, C, , Setup:AdaptivePass, \"Original\", \"ohm\", \"nH\", \"fF\", \"mSie\", 5000000000, Maxwell, 1, False\n",
      "INFO 08:13PM [get_matrix]: Exporting matrix data to (C:\\Users\\slab\\AppData\\Local\\Temp\\tmpckspqjkb.txt, C, , Setup:AdaptivePass, \"Original\", \"ohm\", \"nH\", \"fF\", \"mSie\", 5000000000, Maxwell, 2, False\n",
      "INFO 08:13PM [get_matrix]: Exporting matrix data to (C:\\Users\\slab\\AppData\\Local\\Temp\\tmpr6ap2sof.txt, C, , Setup:AdaptivePass, \"Original\", \"ohm\", \"nH\", \"fF\", \"mSie\", 5000000000, Maxwell, 3, False\n",
      "INFO 08:13PM [get_matrix]: Exporting matrix data to (C:\\Users\\slab\\AppData\\Local\\Temp\\tmp0qbr763d.txt, C, , Setup:AdaptivePass, \"Original\", \"ohm\", \"nH\", \"fF\", \"mSie\", 5000000000, Maxwell, 4, False\n",
      "INFO 08:13PM [get_matrix]: Exporting matrix data to (C:\\Users\\slab\\AppData\\Local\\Temp\\tmp5mdfzskn.txt, C, , Setup:AdaptivePass, \"Original\", \"ohm\", \"nH\", \"fF\", \"mSie\", 5000000000, Maxwell, 5, False\n",
      "INFO 08:13PM [get_matrix]: Exporting matrix data to (C:\\Users\\slab\\AppData\\Local\\Temp\\tmpxbsgodbl.txt, C, , Setup:AdaptivePass, \"Original\", \"ohm\", \"nH\", \"fF\", \"mSie\", 5000000000, Maxwell, 6, False\n",
      "INFO 08:13PM [get_matrix]: Exporting matrix data to (C:\\Users\\slab\\AppData\\Local\\Temp\\tmp5d8i127r.txt, C, , Setup:AdaptivePass, \"Original\", \"ohm\", \"nH\", \"fF\", \"mSie\", 5000000000, Maxwell, 7, False\n",
      "INFO 08:13PM [get_matrix]: Exporting matrix data to (C:\\Users\\slab\\AppData\\Local\\Temp\\tmpm0nkcpmx.txt, C, , Setup:AdaptivePass, \"Original\", \"ohm\", \"nH\", \"fF\", \"mSie\", 5000000000, Maxwell, 8, False\n",
      "INFO 08:13PM [get_matrix]: Exporting matrix data to (C:\\Users\\slab\\AppData\\Local\\Temp\\tmpijb5u3q1.txt, C, , Setup:AdaptivePass, \"Original\", \"ohm\", \"nH\", \"fF\", \"mSie\", 5000000000, Maxwell, 9, False\n",
      "INFO 08:13PM [get_matrix]: Exporting matrix data to (C:\\Users\\slab\\AppData\\Local\\Temp\\tmp0wk7qxtg.txt, C, , Setup:AdaptivePass, \"Original\", \"ohm\", \"nH\", \"fF\", \"mSie\", 5000000000, Maxwell, 10, False\n",
      "INFO 08:13PM [get_matrix]: Exporting matrix data to (C:\\Users\\slab\\AppData\\Local\\Temp\\tmp6t3fw7hv.txt, C, , Setup:AdaptivePass, \"Original\", \"ohm\", \"nH\", \"fF\", \"mSie\", 5000000000, Maxwell, 11, False\n",
      "INFO 08:13PM [get_matrix]: Exporting matrix data to (C:\\Users\\slab\\AppData\\Local\\Temp\\tmp0r_o9q06.txt, C, , Setup:AdaptivePass, \"Original\", \"ohm\", \"nH\", \"fF\", \"mSie\", 5000000000, Maxwell, 12, False\n"
     ]
    },
    {
     "name": "stdout",
     "output_type": "stream",
     "text": [
      "5\n",
      "                   ground_main_plane  pad_left_Q1  pad_right_Q1  \\\n",
      "ground_main_plane          214.64290    -73.33567     -40.57198   \n",
      "pad_left_Q1                -73.33567    187.94346     -64.62008   \n",
      "pad_right_Q1               -40.57198    -64.62008     108.23592   \n",
      "resonator_pad_Q1           -19.65971    -48.03442      -1.88029   \n",
      "\n",
      "                   resonator_pad_Q1  \n",
      "ground_main_plane         -19.65971  \n",
      "pad_left_Q1               -48.03442  \n",
      "pad_right_Q1               -1.88029  \n",
      "resonator_pad_Q1           69.99676  \n",
      "[1, 2] [3]\n",
      "Predicted Values\n",
      "\n",
      "Transmon Properties\n",
      "f_Q 4.432323 [GHz]\n",
      "EC 197.511409 [MHz]\n",
      "EJ 13.616300 [GHz]\n",
      "alpha -221.269349 [MHz]\n",
      "dispersion 0.365860 [KHz]\n",
      "Lq 11.995161 [nH]\n",
      "Cq 98.071439 [fF]\n",
      "T1 127.876155 [us]\n",
      "\n",
      "**Coupling Properties**\n",
      "\n",
      "tCqbus1 11.054408 [fF]\n",
      "gbus1_in_MHz 111.581548 [MHz]\n",
      "χ_bus1 -1.211227 [MHz]\n",
      "1/T1bus1 1244.602189 [Hz]\n",
      "T1bus1 127.876155 [us]\n",
      "Bus-Bus Couplings\n",
      "False\n",
      "junction added\n",
      "False\n",
      "junction added\n"
     ]
    },
    {
     "name": "stderr",
     "output_type": "stream",
     "text": [
      "INFO 08:13PM [connect_design]: \tOpened active design\n",
      "\tDesign:    Design_q3d [Solution type: Q3D]\n",
      "INFO 08:13PM [get_setup]: \tOpened setup `Setup`  (<class 'pyEPR.ansys.AnsysQ3DSetup'>)\n",
      "INFO 08:13PM [analyze]: Analyzing setup Setup\n",
      "INFO 08:14PM [get_matrix]: Exporting matrix data to (C:\\Users\\slab\\AppData\\Local\\Temp\\tmp7rm9fb90.txt, C, , Setup:LastAdaptive, \"Original\", \"ohm\", \"nH\", \"fF\", \"mSie\", 5000000000, Maxwell, 1, False\n",
      "INFO 08:14PM [get_matrix]: Exporting matrix data to (C:\\Users\\slab\\AppData\\Local\\Temp\\tmpv0rlonv9.txt, C, , Setup:AdaptivePass, \"Original\", \"ohm\", \"nH\", \"fF\", \"mSie\", 5000000000, Maxwell, 1, False\n",
      "INFO 08:14PM [get_matrix]: Exporting matrix data to (C:\\Users\\slab\\AppData\\Local\\Temp\\tmpw3bzv87j.txt, C, , Setup:AdaptivePass, \"Original\", \"ohm\", \"nH\", \"fF\", \"mSie\", 5000000000, Maxwell, 2, False\n",
      "INFO 08:14PM [get_matrix]: Exporting matrix data to (C:\\Users\\slab\\AppData\\Local\\Temp\\tmp9vdka4kp.txt, C, , Setup:AdaptivePass, \"Original\", \"ohm\", \"nH\", \"fF\", \"mSie\", 5000000000, Maxwell, 3, False\n",
      "INFO 08:14PM [get_matrix]: Exporting matrix data to (C:\\Users\\slab\\AppData\\Local\\Temp\\tmpqcynrwdt.txt, C, , Setup:AdaptivePass, \"Original\", \"ohm\", \"nH\", \"fF\", \"mSie\", 5000000000, Maxwell, 4, False\n",
      "INFO 08:14PM [get_matrix]: Exporting matrix data to (C:\\Users\\slab\\AppData\\Local\\Temp\\tmpux5ylum4.txt, C, , Setup:AdaptivePass, \"Original\", \"ohm\", \"nH\", \"fF\", \"mSie\", 5000000000, Maxwell, 5, False\n",
      "INFO 08:14PM [get_matrix]: Exporting matrix data to (C:\\Users\\slab\\AppData\\Local\\Temp\\tmpm92hms_5.txt, C, , Setup:AdaptivePass, \"Original\", \"ohm\", \"nH\", \"fF\", \"mSie\", 5000000000, Maxwell, 6, False\n",
      "INFO 08:14PM [get_matrix]: Exporting matrix data to (C:\\Users\\slab\\AppData\\Local\\Temp\\tmpkk2em2sg.txt, C, , Setup:AdaptivePass, \"Original\", \"ohm\", \"nH\", \"fF\", \"mSie\", 5000000000, Maxwell, 7, False\n",
      "INFO 08:14PM [get_matrix]: Exporting matrix data to (C:\\Users\\slab\\AppData\\Local\\Temp\\tmpirvvrfwc.txt, C, , Setup:AdaptivePass, \"Original\", \"ohm\", \"nH\", \"fF\", \"mSie\", 5000000000, Maxwell, 8, False\n",
      "INFO 08:14PM [get_matrix]: Exporting matrix data to (C:\\Users\\slab\\AppData\\Local\\Temp\\tmpas44rux0.txt, C, , Setup:AdaptivePass, \"Original\", \"ohm\", \"nH\", \"fF\", \"mSie\", 5000000000, Maxwell, 9, False\n",
      "INFO 08:14PM [get_matrix]: Exporting matrix data to (C:\\Users\\slab\\AppData\\Local\\Temp\\tmp92heivhx.txt, C, , Setup:AdaptivePass, \"Original\", \"ohm\", \"nH\", \"fF\", \"mSie\", 5000000000, Maxwell, 10, False\n",
      "INFO 08:14PM [get_matrix]: Exporting matrix data to (C:\\Users\\slab\\AppData\\Local\\Temp\\tmpyze2j2h0.txt, C, , Setup:AdaptivePass, \"Original\", \"ohm\", \"nH\", \"fF\", \"mSie\", 5000000000, Maxwell, 11, False\n"
     ]
    },
    {
     "name": "stdout",
     "output_type": "stream",
     "text": [
      "15\n",
      "                   ground_main_plane  pad_left_Q1  pad_right_Q1  \\\n",
      "ground_main_plane          216.49566    -74.06823     -41.64472   \n",
      "pad_left_Q1                -74.06823    172.27861     -48.17996   \n",
      "pad_right_Q1               -41.64472    -48.17996      92.83832   \n",
      "resonator_pad_Q1           -19.57861    -48.04700      -1.82215   \n",
      "\n",
      "                   resonator_pad_Q1  \n",
      "ground_main_plane         -19.57861  \n",
      "pad_left_Q1               -48.04700  \n",
      "pad_right_Q1               -1.82215  \n",
      "resonator_pad_Q1           69.86534  \n"
     ]
    },
    {
     "name": "stderr",
     "output_type": "stream",
     "text": [
      "WARNING:py.warnings:FutureWarning: The frame.append method is deprecated and will be removed from pandas in a future version. Use pandas.concat instead.\n",
      " C:\\Users\\slab\\AppData\\Local\\Temp\\ipykernel_5232\\2648232111.py: 86\n"
     ]
    },
    {
     "name": "stdout",
     "output_type": "stream",
     "text": [
      "[1, 2] [3]\n",
      "Predicted Values\n",
      "\n",
      "Transmon Properties\n",
      "f_Q 4.818262 [GHz]\n",
      "EC 235.543341 [MHz]\n",
      "EJ 13.616300 [GHz]\n",
      "alpha -267.300073 [MHz]\n",
      "dispersion 2.498375 [KHz]\n",
      "Lq 11.995161 [nH]\n",
      "Cq 82.236365 [fF]\n",
      "T1 56.245961 [us]\n",
      "\n",
      "**Coupling Properties**\n",
      "\n",
      "tCqbus1 11.268974 [fF]\n",
      "gbus1_in_MHz 130.324268 [MHz]\n",
      "χ_bus1 -2.842730 [MHz]\n",
      "1/T1bus1 2829.624391 [Hz]\n",
      "T1bus1 56.245961 [us]\n",
      "Bus-Bus Couplings\n",
      "False\n",
      "junction added\n",
      "False\n",
      "junction added\n"
     ]
    },
    {
     "name": "stderr",
     "output_type": "stream",
     "text": [
      "INFO 08:14PM [connect_design]: \tOpened active design\n",
      "\tDesign:    Design_q3d [Solution type: Q3D]\n",
      "INFO 08:14PM [get_setup]: \tOpened setup `Setup`  (<class 'pyEPR.ansys.AnsysQ3DSetup'>)\n",
      "INFO 08:14PM [analyze]: Analyzing setup Setup\n",
      "INFO 08:15PM [get_matrix]: Exporting matrix data to (C:\\Users\\slab\\AppData\\Local\\Temp\\tmpkfskhi7m.txt, C, , Setup:LastAdaptive, \"Original\", \"ohm\", \"nH\", \"fF\", \"mSie\", 5000000000, Maxwell, 1, False\n",
      "INFO 08:15PM [get_matrix]: Exporting matrix data to (C:\\Users\\slab\\AppData\\Local\\Temp\\tmpilq_antu.txt, C, , Setup:AdaptivePass, \"Original\", \"ohm\", \"nH\", \"fF\", \"mSie\", 5000000000, Maxwell, 1, False\n",
      "INFO 08:15PM [get_matrix]: Exporting matrix data to (C:\\Users\\slab\\AppData\\Local\\Temp\\tmpn3dhgd5h.txt, C, , Setup:AdaptivePass, \"Original\", \"ohm\", \"nH\", \"fF\", \"mSie\", 5000000000, Maxwell, 2, False\n",
      "INFO 08:15PM [get_matrix]: Exporting matrix data to (C:\\Users\\slab\\AppData\\Local\\Temp\\tmpqtrqz0p6.txt, C, , Setup:AdaptivePass, \"Original\", \"ohm\", \"nH\", \"fF\", \"mSie\", 5000000000, Maxwell, 3, False\n",
      "INFO 08:15PM [get_matrix]: Exporting matrix data to (C:\\Users\\slab\\AppData\\Local\\Temp\\tmpo6vaa82w.txt, C, , Setup:AdaptivePass, \"Original\", \"ohm\", \"nH\", \"fF\", \"mSie\", 5000000000, Maxwell, 4, False\n",
      "INFO 08:15PM [get_matrix]: Exporting matrix data to (C:\\Users\\slab\\AppData\\Local\\Temp\\tmpgay3tbfe.txt, C, , Setup:AdaptivePass, \"Original\", \"ohm\", \"nH\", \"fF\", \"mSie\", 5000000000, Maxwell, 5, False\n",
      "INFO 08:15PM [get_matrix]: Exporting matrix data to (C:\\Users\\slab\\AppData\\Local\\Temp\\tmpflsvr81n.txt, C, , Setup:AdaptivePass, \"Original\", \"ohm\", \"nH\", \"fF\", \"mSie\", 5000000000, Maxwell, 6, False\n",
      "INFO 08:15PM [get_matrix]: Exporting matrix data to (C:\\Users\\slab\\AppData\\Local\\Temp\\tmpr49uvm4g.txt, C, , Setup:AdaptivePass, \"Original\", \"ohm\", \"nH\", \"fF\", \"mSie\", 5000000000, Maxwell, 7, False\n",
      "INFO 08:15PM [get_matrix]: Exporting matrix data to (C:\\Users\\slab\\AppData\\Local\\Temp\\tmpqu8d01_n.txt, C, , Setup:AdaptivePass, \"Original\", \"ohm\", \"nH\", \"fF\", \"mSie\", 5000000000, Maxwell, 8, False\n",
      "INFO 08:15PM [get_matrix]: Exporting matrix data to (C:\\Users\\slab\\AppData\\Local\\Temp\\tmp25rv0afs.txt, C, , Setup:AdaptivePass, \"Original\", \"ohm\", \"nH\", \"fF\", \"mSie\", 5000000000, Maxwell, 9, False\n",
      "INFO 08:15PM [get_matrix]: Exporting matrix data to (C:\\Users\\slab\\AppData\\Local\\Temp\\tmpn6nwbwvu.txt, C, , Setup:AdaptivePass, \"Original\", \"ohm\", \"nH\", \"fF\", \"mSie\", 5000000000, Maxwell, 10, False\n",
      "INFO 08:15PM [get_matrix]: Exporting matrix data to (C:\\Users\\slab\\AppData\\Local\\Temp\\tmp709v336c.txt, C, , Setup:AdaptivePass, \"Original\", \"ohm\", \"nH\", \"fF\", \"mSie\", 5000000000, Maxwell, 11, False\n"
     ]
    },
    {
     "name": "stdout",
     "output_type": "stream",
     "text": [
      "25\n",
      "                   ground_main_plane  pad_left_Q1  pad_right_Q1  \\\n",
      "ground_main_plane          218.47536    -74.76448     -42.68585   \n",
      "pad_left_Q1                -74.76448    165.50443     -40.58519   \n",
      "pad_right_Q1               -42.68585    -40.58519      86.28748   \n",
      "resonator_pad_Q1           -19.54315    -48.16633      -1.76271   \n",
      "\n",
      "                   resonator_pad_Q1  \n",
      "ground_main_plane         -19.54315  \n",
      "pad_left_Q1               -48.16633  \n",
      "pad_right_Q1               -1.76271  \n",
      "resonator_pad_Q1           69.88251  \n"
     ]
    },
    {
     "name": "stderr",
     "output_type": "stream",
     "text": [
      "WARNING:py.warnings:FutureWarning: The frame.append method is deprecated and will be removed from pandas in a future version. Use pandas.concat instead.\n",
      " C:\\Users\\slab\\AppData\\Local\\Temp\\ipykernel_5232\\2648232111.py: 86\n"
     ]
    },
    {
     "name": "stdout",
     "output_type": "stream",
     "text": [
      "[1, 2] [3]\n",
      "Predicted Values\n",
      "\n",
      "Transmon Properties\n",
      "f_Q 5.025090 [GHz]\n",
      "EC 257.479494 [MHz]\n",
      "EJ 13.616300 [GHz]\n",
      "alpha -294.308225 [MHz]\n",
      "dispersion 6.184403 [KHz]\n",
      "Lq 11.995161 [nH]\n",
      "Cq 75.230178 [fF]\n",
      "T1 34.515112 [us]\n",
      "\n",
      "**Coupling Properties**\n",
      "\n",
      "tCqbus1 11.496235 [fF]\n",
      "gbus1_in_MHz 142.457302 [MHz]\n",
      "χ_bus1 -4.670069 [MHz]\n",
      "1/T1bus1 4611.166873 [Hz]\n",
      "T1bus1 34.515112 [us]\n",
      "Bus-Bus Couplings\n",
      "False\n",
      "junction added\n",
      "False\n",
      "junction added\n"
     ]
    },
    {
     "name": "stderr",
     "output_type": "stream",
     "text": [
      "INFO 08:15PM [connect_design]: \tOpened active design\n",
      "\tDesign:    Design_q3d [Solution type: Q3D]\n",
      "INFO 08:15PM [get_setup]: \tOpened setup `Setup`  (<class 'pyEPR.ansys.AnsysQ3DSetup'>)\n",
      "INFO 08:15PM [analyze]: Analyzing setup Setup\n",
      "INFO 08:16PM [get_matrix]: Exporting matrix data to (C:\\Users\\slab\\AppData\\Local\\Temp\\tmppcvq3pt6.txt, C, , Setup:LastAdaptive, \"Original\", \"ohm\", \"nH\", \"fF\", \"mSie\", 5000000000, Maxwell, 1, False\n",
      "INFO 08:16PM [get_matrix]: Exporting matrix data to (C:\\Users\\slab\\AppData\\Local\\Temp\\tmp13dvjwlp.txt, C, , Setup:AdaptivePass, \"Original\", \"ohm\", \"nH\", \"fF\", \"mSie\", 5000000000, Maxwell, 1, False\n",
      "INFO 08:16PM [get_matrix]: Exporting matrix data to (C:\\Users\\slab\\AppData\\Local\\Temp\\tmp40z9t_c_.txt, C, , Setup:AdaptivePass, \"Original\", \"ohm\", \"nH\", \"fF\", \"mSie\", 5000000000, Maxwell, 2, False\n",
      "INFO 08:16PM [get_matrix]: Exporting matrix data to (C:\\Users\\slab\\AppData\\Local\\Temp\\tmpb7t7uewf.txt, C, , Setup:AdaptivePass, \"Original\", \"ohm\", \"nH\", \"fF\", \"mSie\", 5000000000, Maxwell, 3, False\n",
      "INFO 08:16PM [get_matrix]: Exporting matrix data to (C:\\Users\\slab\\AppData\\Local\\Temp\\tmp33v_qt6p.txt, C, , Setup:AdaptivePass, \"Original\", \"ohm\", \"nH\", \"fF\", \"mSie\", 5000000000, Maxwell, 4, False\n",
      "INFO 08:16PM [get_matrix]: Exporting matrix data to (C:\\Users\\slab\\AppData\\Local\\Temp\\tmp3ksm4gz0.txt, C, , Setup:AdaptivePass, \"Original\", \"ohm\", \"nH\", \"fF\", \"mSie\", 5000000000, Maxwell, 5, False\n",
      "INFO 08:16PM [get_matrix]: Exporting matrix data to (C:\\Users\\slab\\AppData\\Local\\Temp\\tmpyqwe3cd7.txt, C, , Setup:AdaptivePass, \"Original\", \"ohm\", \"nH\", \"fF\", \"mSie\", 5000000000, Maxwell, 6, False\n",
      "INFO 08:16PM [get_matrix]: Exporting matrix data to (C:\\Users\\slab\\AppData\\Local\\Temp\\tmpvq0k9p7u.txt, C, , Setup:AdaptivePass, \"Original\", \"ohm\", \"nH\", \"fF\", \"mSie\", 5000000000, Maxwell, 7, False\n",
      "INFO 08:16PM [get_matrix]: Exporting matrix data to (C:\\Users\\slab\\AppData\\Local\\Temp\\tmph1q6977x.txt, C, , Setup:AdaptivePass, \"Original\", \"ohm\", \"nH\", \"fF\", \"mSie\", 5000000000, Maxwell, 8, False\n",
      "INFO 08:16PM [get_matrix]: Exporting matrix data to (C:\\Users\\slab\\AppData\\Local\\Temp\\tmpfzfcx5z3.txt, C, , Setup:AdaptivePass, \"Original\", \"ohm\", \"nH\", \"fF\", \"mSie\", 5000000000, Maxwell, 9, False\n",
      "INFO 08:16PM [get_matrix]: Exporting matrix data to (C:\\Users\\slab\\AppData\\Local\\Temp\\tmpuqb2m7h4.txt, C, , Setup:AdaptivePass, \"Original\", \"ohm\", \"nH\", \"fF\", \"mSie\", 5000000000, Maxwell, 10, False\n",
      "INFO 08:16PM [get_matrix]: Exporting matrix data to (C:\\Users\\slab\\AppData\\Local\\Temp\\tmpoucoyk9e.txt, C, , Setup:AdaptivePass, \"Original\", \"ohm\", \"nH\", \"fF\", \"mSie\", 5000000000, Maxwell, 11, False\n"
     ]
    },
    {
     "name": "stdout",
     "output_type": "stream",
     "text": [
      "35\n",
      "                   ground_main_plane  pad_left_Q1  pad_right_Q1  \\\n",
      "ground_main_plane          220.26961    -75.50532     -43.62049   \n",
      "pad_left_Q1                -75.50532    161.37956     -35.63004   \n",
      "pad_right_Q1               -43.62049    -35.63004      82.23861   \n",
      "resonator_pad_Q1           -19.49777    -48.24928      -1.70716   \n",
      "\n",
      "                   resonator_pad_Q1  \n",
      "ground_main_plane         -19.49777  \n",
      "pad_left_Q1               -48.24928  \n",
      "pad_right_Q1               -1.70716  \n",
      "resonator_pad_Q1           69.87959  \n"
     ]
    },
    {
     "name": "stderr",
     "output_type": "stream",
     "text": [
      "WARNING:py.warnings:FutureWarning: The frame.append method is deprecated and will be removed from pandas in a future version. Use pandas.concat instead.\n",
      " C:\\Users\\slab\\AppData\\Local\\Temp\\ipykernel_5232\\2648232111.py: 86\n"
     ]
    },
    {
     "name": "stdout",
     "output_type": "stream",
     "text": [
      "[1, 2] [3]\n",
      "Predicted Values\n",
      "\n",
      "Transmon Properties\n",
      "f_Q 5.170515 [GHz]\n",
      "EC 273.566712 [MHz]\n",
      "EJ 13.616300 [GHz]\n",
      "alpha -314.329034 [MHz]\n",
      "dispersion 11.192453 [KHz]\n",
      "Lq 11.995161 [nH]\n",
      "Cq 70.806232 [fF]\n",
      "T1 23.926334 [us]\n",
      "\n",
      "**Coupling Properties**\n",
      "\n",
      "tCqbus1 11.685186 [fF]\n",
      "gbus1_in_MHz 151.783689 [MHz]\n",
      "χ_bus1 -6.736454 [MHz]\n",
      "1/T1bus1 6651.873399 [Hz]\n",
      "T1bus1 23.926334 [us]\n",
      "Bus-Bus Couplings\n"
     ]
    }
   ],
   "source": [
    "# default_options['coupling_d'] = '300um'\n",
    "# default_options['coupling_gap'] = '15um'\n",
    "# default_options['gap'] = '25um'\n",
    "# default_options['l'] = '00um'\n",
    "# default_options['cut_l'] = '900um'\n",
    "default_options = default_options_q3\n",
    "c1, renderer_q3d, q3d = dp.init_q3d_sim()\n",
    "# sweep_param = 'coupling_d'\n",
    "sweep_param = 'gap'\n",
    "sweep_array = np.arange(5,40,10)\n",
    "date = get_current_time_string()\n",
    "dp.change_inductance([f'{(qubit.L.to(u.nH).value):.2f}nH'],eig_all=eig_all,c1 = c1)\n",
    "\n",
    "for i,l in enumerate(sweep_array):\n",
    "    default_options[sweep_param] = f'{l}um'\n",
    "    default_options['cut_l'] = default_options['coupling_d']+'+500um+'+default_options['coupling_gap']+'+'+default_options['gap']\n",
    "    q1 = DiffTransmonRounded(design,'Q1',options = default_options)\n",
    "    gui.rebuild()\n",
    "    \n",
    "    c1.sim.run(components = ['Q1'],open_terminations = [('Q1','cpw_stub')])\n",
    "    print(l)\n",
    "    print(c1.sim.capacitance_matrix)\n",
    "    if i ==0:\n",
    "        dir = 'data/'+date+f'{sweep_param}_capmat'\n",
    "        os.mkdir(dir)\n",
    "    cap_mat = c1.sim.capacitance_matrix\n",
    "    cap_mat.to_csv(dir+f'/{l}.csv')\n",
    "    \n",
    "    \n",
    "    \n",
    "    # c1.setup.junctions = Dict({'Lj': qubit.L.to(u.nH).value, 'Cj': 2})\n",
    "    c1.setup.freq_readout = res.freq.to(u.GHz).value\n",
    "    c1.setup.freq_bus = []\n",
    "\n",
    "    c1.run_lom()\n",
    "    result = pd.DataFrame(c1.lumped_oscillator)\n",
    "    last_row = result\n",
    "    for keys in default_options.keys():\n",
    "        last_row[keys] = design.parse_value(default_options[keys])\n",
    "    last_row['Lj [nH]'] = qubit.L.to(u.nH).value\n",
    "    \n",
    "    g_alex,Ec_alex, Ej_alex, wr_alex = g_alexPage(c1 = c1, Lj = qubit.L)\n",
    "    # g_leon, Ec_leon, Ej_leon = g_leonDing(c1 = c1, Lj = qubit.L)\n",
    "    # g_leon3, Ec_leon3, Ej_leon3 = g_leonDing(c1 = c1,dim = 3, Lj = qubit.L)\n",
    "    \n",
    "    last_row['g_alex [MHz]'] = g_alex.to(u.MHz).value\n",
    "    last_row['Ec_alex [MHz]'] = Ec_alex.to(u.MHz).value\n",
    "    last_row['Ej_alex [GHz]'] = Ej_alex.to(u.GHz).value\n",
    "    last_row['wr_alex [GHz]'] = wr_alex.to(u.GHz).value\n",
    "    # last_row['g_leon [MHz]'] = g_leon.to(u.MHz).value\n",
    "    # last_row['Ec_leon [MHz]'] = Ec_leon.to(u.MHz).value\n",
    "    # last_row['Ej_leon [GHz]'] = Ej_leon.to(u.GHz).value\n",
    "    \n",
    "    # last_row['g_leon3 [MHz]'] = g_leon3.to(u.MHz).value\n",
    "    # last_row['Ec_leon3 [MHz]'] = Ec_leon3.to(u.MHz).value\n",
    "    # last_row['Ej_leon3 [GHz]'] = Ej_leon3.to(u.GHz).value\n",
    "    \n",
    "    dr.g = last_row['gbus'][0]*u.MHz\n",
    "    \n",
    "    dr.update_chi()\n",
    "    chi = dr.chi\n",
    "    last_row['Chi [MHz]'] = chi.to(u.MHz).value\n",
    "    qiskit_chi = np.abs(last_row['chi_in_MHz'][0])*u.MHz\n",
    "    purcell_t1 = dr.calc_purcellT1q(update_g=False)\n",
    "    target_kappa = 2*chi\n",
    "    \n",
    "    dr.chi = qiskit_chi\n",
    "    purcell_t1_qiskit = dr.calc_purcellT1q(update_g=False, update_chi = False)\n",
    "    target_kappa_qiskit = 2*chi\n",
    "    \n",
    "    \n",
    "    \n",
    "    last_row['Purcell T1 [us]'] = purcell_t1.to(u.us).value\n",
    "    last_row['target kappa [MHz]'] = target_kappa.to(u.MHz).value\n",
    "    \n",
    "    last_row['Purcell T1 qiskit [us]'] = purcell_t1_qiskit.to(u.us).value\n",
    "    last_row['target kappa qiskit [MHz]'] = target_kappa_qiskit.to(u.MHz).value\n",
    "    \n",
    "    \n",
    "    \n",
    "    \n",
    "    \n",
    "    if i ==0:\n",
    "        df = last_row\n",
    "    else:\n",
    "        df = df.append(last_row, ignore_index=True,)\n",
    "\n",
    "    df.to_csv('data/'+date+f'{sweep_param}_sweep.csv')\n",
    "    \n",
    "    if i == len(sweep_array)-1:\n",
    "        plt.cla()\n",
    "        plt.scatter(df[sweep_param].values, df['g_alex [MHz]'].values, label = 'g_alex', color = 'red', marker = 'x')\n",
    "        # plt.scatter(df[sweep_param].values, df['g_leon [MHz]'].values/2, label = 'g_leon', color = 'orange', marker = '.')\n",
    "        # plt.scatter(df[sweep_param].values, -df['g_leon3 [MHz]'].values, label = 'g_leon3', color = 'green', marker = 'o')\n",
    "        plt.scatter(df[sweep_param].values, df['gbus'].values, label = 'g_qiskit', color = 'blue', marker = '*')\n",
    "        plt.xlabel(sweep_param)\n",
    "        plt.ylabel('g [MHz]')\n",
    "        plt.legend()\n",
    "        plt.savefig('data/'+date+sweep_param+f'g_sweep1.png')\n",
    "        plt.show()\n",
    "        \n",
    "        plt.cla()\n",
    "        plt.scatter(df[sweep_param].values, df['Ec_alex [MHz]'].values, label = 'Ec_alex', color = 'red', marker = 'x')\n",
    "        # plt.scatter(df[sweep_param].values, df['Ec_leon [MHz]'].values, label = 'Ec_leon', color = 'orange', marker = '.')\n",
    "        plt.scatter(df[sweep_param].values, df['EC'].values, label = 'Ec_qiskit', color = 'blue', marker = 'o')\n",
    "        # plt.scatter(df[sweep_param].values, df['Ec_leon3 [MHz]'].values, label = 'Ec_leon3', color = 'green', marker = '*')\n",
    "        plt.xlabel(sweep_param)\n",
    "        plt.ylabel('Ec [MHz]')\n",
    "        plt.legend()\n",
    "        plt.savefig('data/'+date+sweep_param+f'Ec_sweep.png')\n",
    "        plt.show()\n",
    "        \n",
    "        plt.cla()\n",
    "        plt.scatter(df[sweep_param].values, df['Ej_alex [GHz]'].values, label = 'Ec_alex', color = 'red', marker = 'x')\n",
    "        # plt.scatter(df[sweep_param].values, df['Ej_leon [GHz]'].values, label = 'Ec_leon', color = 'orange', marker = '.')\n",
    "        plt.scatter(df[sweep_param].values, df['EJ'].values, label = 'Ec_qiskit', color = 'blue', marker = 'o')\n",
    "        plt.xlabel(sweep_param)\n",
    "        plt.ylabel('Ej [MHz]')\n",
    "        plt.legend()\n",
    "        plt.savefig('data/'+date+sweep_param+f'Ej_sweep.png')\n",
    "        plt.show()\n",
    "        \n",
    "        plt.cla()\n",
    "        plt.scatter(df[sweep_param].values, df['Chi [MHz]'].values, label = 'Chi', color = 'red', marker = 'x')\n",
    "        plt.scatter(df[sweep_param].values, -df['chi_in_MHz'].values, label = 'Chi_qiskit', color = 'blue', marker = 'o')\n",
    "        plt.xlabel(sweep_param)\n",
    "        plt.ylabel('Chi [MHz]')\n",
    "        plt.legend()\n",
    "        plt.savefig('data/'+date+sweep_param+f'Chi_sweep.png')\n",
    "        plt.show()\n",
    "        \n",
    "        plt.cla()\n",
    "        plt.scatter(df[sweep_param].values, df['Purcell T1 [us]'].values, label = 'Purcell T1', color = 'red', marker = 'x')\n",
    "        plt.scatter(df[sweep_param].values, df['Purcell T1 qiskit [us]'].values, label = 'Purcell T1 qiskit', color = 'blue', marker = 'o')\n",
    "        plt.xlabel(sweep_param)\n",
    "        plt.ylabel('Purcell T1 [us]')\n",
    "        plt.legend()\n",
    "        plt.savefig('data/'+date+sweep_param+f'Purcell_T1_sweep.png')\n",
    "        plt.show()\n",
    "        \n",
    "        plt.cla()\n",
    "        plt.scatter(df[sweep_param].values, df['fQ'].values, label = 'qiskit freQ', color = 'red', marker = 'x')\n",
    "        plt.scatter(df[sweep_param].values, df['wr_alex [GHz]'].values, label = 'alex freq', color = 'blue', marker = 'o')\n",
    "        plt.xlabel(sweep_param)\n",
    "        plt.ylabel('fQ [GHz]')\n",
    "        plt.legend()\n",
    "        plt.savefig('data/'+date+sweep_param+f'fQ_sweep.png')\n",
    "        plt.show()\n",
    "# q1 = DiffTransmonRounded(design,'Q1',options = default_options)\n",
    "# gui.rebuild()"
   ]
  },
  {
   "cell_type": "code",
   "execution_count": null,
   "metadata": {},
   "outputs": [
    {
     "data": {
      "text/plain": [
       "{'cut_l': '300um+500um+15um+75um',\n",
       " 'cut_h': '1200um',\n",
       " 'gap': '75um',\n",
       " 'w': '90um',\n",
       " 'l': '600um',\n",
       " 'r': '60um',\n",
       " 'cpw_l': '50um',\n",
       " 'coupling_gap': '15um',\n",
       " 'JJ_cutout_w': '70um',\n",
       " 'JJ_cutout_h': '70um',\n",
       " 'JJ_cutout_r': '150um',\n",
       " 'JJ_c_contact_l': '40um',\n",
       " 'JJ_c_contact_r': '2.5um',\n",
       " 'JJ_c_contact_w': '10um',\n",
       " 'coupling_d': '300um',\n",
       " 'coupling_pad_w': '90um',\n",
       " 'coupling_r': '40um',\n",
       " 'cpw_pin': '10um',\n",
       " 'chip': 'main',\n",
       " 'resolution': '10',\n",
       " 'junction': 'False',\n",
       " 'orientation': '0',\n",
       " 'JJ_c_contact_shortl': '10um',\n",
       " 'istunnel': 'False'}"
      ]
     },
     "execution_count": 69,
     "metadata": {},
     "output_type": "execute_result"
    }
   ],
   "source": [
    "default_options"
   ]
  },
  {
   "cell_type": "code",
   "execution_count": null,
   "metadata": {},
   "outputs": [],
   "source": []
  },
  {
   "cell_type": "code",
   "execution_count": null,
   "metadata": {},
   "outputs": [],
   "source": [
    "df"
   ]
  },
  {
   "cell_type": "code",
   "execution_count": null,
   "metadata": {},
   "outputs": [],
   "source": [
    "c1.sim.close()"
   ]
  },
  {
   "cell_type": "code",
   "execution_count": null,
   "metadata": {},
   "outputs": [],
   "source": [
    "eig_all, renderer_hfss, hfss = dp.init_hfss_sim(nmode = 1,Ljs = [f'{qubit.L.to(u.nH).value:.2f}nH'])"
   ]
  },
  {
   "cell_type": "code",
   "execution_count": null,
   "metadata": {},
   "outputs": [
    {
     "data": {
      "text/plain": [
       "{'cut_l': '400um+500um+15um+25um',\n",
       " 'cut_h': '1200um',\n",
       " 'gap': '25um',\n",
       " 'w': '90um',\n",
       " 'l': '600um',\n",
       " 'r': '60um',\n",
       " 'cpw_l': '50um',\n",
       " 'coupling_gap': '15um',\n",
       " 'JJ_cutout_w': '70um',\n",
       " 'JJ_cutout_h': '70um',\n",
       " 'JJ_cutout_r': '150um',\n",
       " 'JJ_c_contact_l': '40um',\n",
       " 'JJ_c_contact_r': '2.5um',\n",
       " 'JJ_c_contact_w': '10um',\n",
       " 'coupling_d': '250um',\n",
       " 'coupling_pad_w': '90um',\n",
       " 'coupling_r': '40um',\n",
       " 'cpw_pin': '10um',\n",
       " 'chip': 'main',\n",
       " 'resolution': '10',\n",
       " 'junction': 'False',\n",
       " 'orientation': '0',\n",
       " 'JJ_c_contact_shortl': '10um',\n",
       " 'istunnel': 'False',\n",
       " 'coupling_gd': '650um'}"
      ]
     },
     "execution_count": 137,
     "metadata": {},
     "output_type": "execute_result"
    }
   ],
   "source": [
    "default_options"
   ]
  },
  {
   "cell_type": "code",
   "execution_count": 294,
   "metadata": {},
   "outputs": [
    {
     "name": "stdout",
     "output_type": "stream",
     "text": [
      "Optimal inductance L: 13.676453476080171 nH\n",
      "Optimal inductance L: 17.095566845100272 nH\n",
      "Optimal inductance L: 11.397044563400145 nH\n"
     ]
    }
   ],
   "source": [
    "qubit_q1 = TransmonQubit(4*u.GHz, ratio = 65)\n",
    "default_options_q1 = {'cut_l': '350um+500um+50um',\n",
    " 'cut_h': '1200um',\n",
    " 'gap': '50um',\n",
    " 'w': '90um',\n",
    " 'l': '900um',\n",
    " 'r': '60um',\n",
    " 'cpw_l': '50um',\n",
    " 'coupling_gap': '5um',\n",
    " 'JJ_cutout_w': '70um',\n",
    " 'JJ_cutout_h': '70um',\n",
    " 'JJ_cutout_r': '150um',\n",
    " 'JJ_c_contact_l': '40um',\n",
    " 'JJ_c_contact_r': '2.5um',\n",
    " 'JJ_c_contact_w': '10um',\n",
    " 'coupling_d': '350um',\n",
    " 'coupling_pad_w': '90um',\n",
    " 'coupling_r': '40um',\n",
    " 'cpw_pin': design.variables['trace_width'],\n",
    " 'chip': 'main',\n",
    " 'resolution': '10',\n",
    " 'junction': 'False',\n",
    " 'orientation': '0',\n",
    " 'JJ_c_contact_shortl': '10um',\n",
    " 'istunnel': 'False',\n",
    " 'layer' : '5'}\n",
    "qubit_q2 = TransmonQubit(3.2*u.GHz, ratio = 65)\n",
    "default_options_q2 = {'cut_l': '650um+200um+15um+12um',\n",
    " 'cut_h': '1250um',\n",
    " 'gap': '12um',\n",
    " 'w': '90um',\n",
    " 'l': '1100um',\n",
    " 'r': '60um',\n",
    " 'cpw_l': '50um',\n",
    " 'coupling_gap': '15um',\n",
    " 'JJ_cutout_w': '70um',\n",
    " 'JJ_cutout_h': '70um',\n",
    " 'JJ_cutout_r': '150um',\n",
    " 'JJ_c_contact_l': '40um',\n",
    " 'JJ_c_contact_r': '2.5um',\n",
    " 'JJ_c_contact_w': '10um',\n",
    " 'coupling_d': '400um',\n",
    " 'coupling_pad_w': '90um',\n",
    " 'coupling_r': '40um',\n",
    " 'cpw_pin': design.variables['trace_width'],\n",
    " 'chip': 'main',\n",
    " 'resolution': '10',\n",
    " 'junction': 'False',\n",
    " 'orientation': '0',\n",
    " 'JJ_c_contact_shortl': '10um',\n",
    " 'istunnel': 'False',\n",
    " 'coupling_gd': '650um',\n",
    " 'layer' : '5'}\n",
    "qubit_q3 = TransmonQubit(4.8*u.GHz, ratio = 65)\n",
    "default_options_q3 = {'cut_l': '250um+500um+15um+35um',\n",
    " 'cut_h': '700um',\n",
    " 'gap': '15um',\n",
    " 'w': '80um',\n",
    " 'l': '500um',\n",
    " 'r': '60um',\n",
    " 'cpw_l': '50um',\n",
    " 'coupling_gap': '15um',\n",
    " 'JJ_cutout_w': '70um',\n",
    " 'JJ_cutout_h': '70um',\n",
    " 'JJ_cutout_r': '150um',\n",
    " 'JJ_c_contact_l': '40um',\n",
    " 'JJ_c_contact_r': '2.5um',\n",
    " 'JJ_c_contact_w': '10um',\n",
    " 'coupling_d': '250um',\n",
    " 'coupling_pad_w': '90um',\n",
    " 'coupling_r': '40um',\n",
    " 'cpw_pin': design.variables['trace_width'],\n",
    " 'chip': 'main',\n",
    " 'resolution': '10',\n",
    " 'junction': 'False',\n",
    " 'orientation': '0',\n",
    " 'JJ_c_contact_shortl': '10um',\n",
    " 'istunnel': 'False',\n",
    " 'layer' : '5'}"
   ]
  },
  {
   "cell_type": "markdown",
   "metadata": {},
   "source": [
    "### HFSS"
   ]
  },
  {
   "cell_type": "code",
   "execution_count": null,
   "metadata": {},
   "outputs": [],
   "source": [
    "design.delete_all_components()"
   ]
  },
  {
   "cell_type": "code",
   "execution_count": null,
   "metadata": {},
   "outputs": [
    {
     "name": "stdout",
     "output_type": "stream",
     "text": [
      "False\n",
      "junction added\n",
      "False\n",
      "junction added\n"
     ]
    }
   ],
   "source": [
    "default_options['junction'] = 'False'\n",
    "q2  = DiffTransmonRounded(design,'Q2',options = default_options_q2)\n",
    "gui.rebuild()"
   ]
  },
  {
   "cell_type": "code",
   "execution_count": null,
   "metadata": {},
   "outputs": [
    {
     "name": "stdout",
     "output_type": "stream",
     "text": [
      "Warning! 12 COM references still alive\n",
      "Ansys will likely refuse to shut down\n"
     ]
    }
   ],
   "source": [
    "eig_all.sim.close()"
   ]
  },
  {
   "cell_type": "code",
   "execution_count": null,
   "metadata": {},
   "outputs": [],
   "source": [
    "c1.sim.close()"
   ]
  },
  {
   "cell_type": "code",
   "execution_count": null,
   "metadata": {},
   "outputs": [],
   "source": [
    "# eig_all.sim.setup.vars['Lj'] = f'{qubit.L.to(u.nH).value:.2f}nH'\n",
    "dp.change_inductance([f'{(qubit_q2.L.to(u.nH).value):.2f}nH'],eig_all=eig_all,c1 = c1)\n",
    "eig_all.sim.setup.vars['n_modes'] = 1\n",
    "eig_all.sim.setup.n_modes = 1"
   ]
  },
  {
   "cell_type": "code",
   "execution_count": null,
   "metadata": {},
   "outputs": [
    {
     "name": "stderr",
     "output_type": "stream",
     "text": [
      "INFO 09:28PM [connect_project]: Connecting to Ansys Desktop API...\n",
      "INFO 09:28PM [load_ansys_project]: \tOpened Ansys App\n",
      "INFO 09:28PM [load_ansys_project]: \tOpened Ansys Desktop v2021.2.0\n",
      "INFO 09:28PM [load_ansys_project]: \tOpened Ansys Project\n",
      "\tFolder:    C:/Users/slab/Documents/Ansoft/\n",
      "\tProject:   Project48\n",
      "INFO 09:28PM [connect_design]: \tOpened active design\n",
      "\tDesign:    Design_hfss [Solution type: Eigenmode]\n",
      "INFO 09:28PM [get_setup]: \tOpened setup `Setup`  (<class 'pyEPR.ansys.HfssEMSetup'>)\n",
      "INFO 09:28PM [connect]: \tConnected to project \"Project48\" and design \"Design_hfss\" 😀 \n",
      "\n",
      "INFO 09:28PM [connect_design]: \tOpened active design\n",
      "\tDesign:    Design_hfss [Solution type: Eigenmode]\n",
      "09:28PM 07s WARNING [get_unique_component_ids]: The component=Q1 in highlight_qcomponents not in QDesign.\n",
      "09:28PM 07s WARNING [render_design]: Unable to proceed with rendering. Please check selection.\n",
      "INFO 09:28PM [get_setup]: \tOpened setup `Setup`  (<class 'pyEPR.ansys.HfssEMSetup'>)\n",
      "INFO 09:28PM [analyze]: Analyzing setup Setup\n"
     ]
    },
    {
     "ename": "com_error",
     "evalue": "(-2147352567, 'Exception occurred.', (0, None, None, None, 0, -2147024349), None)",
     "output_type": "error",
     "traceback": [
      "\u001b[1;31m---------------------------------------------------------------------------\u001b[0m",
      "\u001b[1;31mcom_error\u001b[0m                                 Traceback (most recent call last)",
      "Cell \u001b[1;32mIn [201], line 1\u001b[0m\n\u001b[1;32m----> 1\u001b[0m \u001b[43meig_all\u001b[49m\u001b[38;5;241;43m.\u001b[39;49m\u001b[43msim\u001b[49m\u001b[38;5;241;43m.\u001b[39;49m\u001b[43mrun\u001b[49m\u001b[43m(\u001b[49m\u001b[43m \u001b[49m\u001b[43mcomponents\u001b[49m\u001b[43m \u001b[49m\u001b[38;5;241;43m=\u001b[39;49m\u001b[43m \u001b[49m\u001b[43m[\u001b[49m\u001b[38;5;124;43m'\u001b[39;49m\u001b[38;5;124;43mQ1\u001b[39;49m\u001b[38;5;124;43m'\u001b[39;49m\u001b[43m]\u001b[49m\u001b[43m,\u001b[49m\u001b[43m \u001b[49m\u001b[43mopen_terminations\u001b[49m\u001b[43m \u001b[49m\u001b[38;5;241;43m=\u001b[39;49m\u001b[43m \u001b[49m\u001b[43m[\u001b[49m\u001b[43m]\u001b[49m\u001b[43m)\u001b[49m\n",
      "File \u001b[1;32mc:\\_lib\\python\\qiskit-metal\\qiskit_metal\\analyses\\core\\simulation.py:203\u001b[0m, in \u001b[0;36mQSimulation.run\u001b[1;34m(self, *args, **kwargs)\u001b[0m\n\u001b[0;32m    199\u001b[0m \u001b[38;5;28;01mdef\u001b[39;00m \u001b[38;5;21mrun\u001b[39m(\u001b[38;5;28mself\u001b[39m, \u001b[38;5;241m*\u001b[39margs, \u001b[38;5;241m*\u001b[39m\u001b[38;5;241m*\u001b[39mkwargs):\n\u001b[0;32m    200\u001b[0m     \u001b[38;5;124;03m\"\"\"Alias for run_sim() necessary to implement super-class method, while\u001b[39;00m\n\u001b[0;32m    201\u001b[0m \u001b[38;5;124;03m    preventing method name collision when sim and non-sim QAnalysis classes are inherited.\u001b[39;00m\n\u001b[0;32m    202\u001b[0m \u001b[38;5;124;03m    \"\"\"\u001b[39;00m\n\u001b[1;32m--> 203\u001b[0m     \u001b[38;5;28mself\u001b[39m\u001b[38;5;241m.\u001b[39mrun_sim(\u001b[38;5;241m*\u001b[39margs, \u001b[38;5;241m*\u001b[39m\u001b[38;5;241m*\u001b[39mkwargs)\n",
      "File \u001b[1;32mc:\\_lib\\python\\qiskit-metal\\qiskit_metal\\analyses\\simulation\\eigenmode.py:141\u001b[0m, in \u001b[0;36mEigenmodeSim.run_sim\u001b[1;34m(self, name, components, open_terminations, port_list, jj_to_port, ignored_jjs, box_plus_buffer)\u001b[0m\n\u001b[0;32m    129\u001b[0m vars_to_initialize \u001b[38;5;241m=\u001b[39m \u001b[38;5;28mself\u001b[39m\u001b[38;5;241m.\u001b[39msetup\u001b[38;5;241m.\u001b[39mvars\n\u001b[0;32m    130\u001b[0m renderer_design_name \u001b[38;5;241m=\u001b[39m \u001b[38;5;28mself\u001b[39m\u001b[38;5;241m.\u001b[39m_render(\n\u001b[0;32m    131\u001b[0m     name\u001b[38;5;241m=\u001b[39mname,\n\u001b[0;32m    132\u001b[0m     solution_type\u001b[38;5;241m=\u001b[39m\u001b[38;5;124m'\u001b[39m\u001b[38;5;124meigenmode\u001b[39m\u001b[38;5;124m'\u001b[39m,\n\u001b[1;32m   (...)\u001b[0m\n\u001b[0;32m    138\u001b[0m     box_plus_buffer\u001b[38;5;241m=\u001b[39mbox_plus_buffer,\n\u001b[0;32m    139\u001b[0m     vars_to_initialize\u001b[38;5;241m=\u001b[39mvars_to_initialize)\n\u001b[1;32m--> 141\u001b[0m \u001b[38;5;28;43mself\u001b[39;49m\u001b[38;5;241;43m.\u001b[39;49m\u001b[43m_analyze\u001b[49m\u001b[43m(\u001b[49m\u001b[43m)\u001b[49m\n\u001b[0;32m    142\u001b[0m \u001b[38;5;28;01mreturn\u001b[39;00m renderer_design_name, \u001b[38;5;28mself\u001b[39m\u001b[38;5;241m.\u001b[39msim_setup_name\n",
      "File \u001b[1;32mc:\\_lib\\python\\qiskit-metal\\qiskit_metal\\analyses\\simulation\\eigenmode.py:81\u001b[0m, in \u001b[0;36mEigenmodeSim._analyze\u001b[1;34m(self)\u001b[0m\n\u001b[0;32m     75\u001b[0m \u001b[38;5;124;03m\"\"\"Executes the analysis step of the Run. First it initializes the renderer setup\u001b[39;00m\n\u001b[0;32m     76\u001b[0m \u001b[38;5;124;03mto prepare for eignemode analysis, then it executes it. Finally it recovers the\u001b[39;00m\n\u001b[0;32m     77\u001b[0m \u001b[38;5;124;03moutput of the analysis and stores it in self.convergence_t and self.convergence_f.\u001b[39;00m\n\u001b[0;32m     78\u001b[0m \u001b[38;5;124;03m\"\"\"\u001b[39;00m\n\u001b[0;32m     79\u001b[0m \u001b[38;5;28mself\u001b[39m\u001b[38;5;241m.\u001b[39msim_setup_name \u001b[38;5;241m=\u001b[39m \u001b[38;5;28mself\u001b[39m\u001b[38;5;241m.\u001b[39mrenderer\u001b[38;5;241m.\u001b[39minitialize_eigenmode(\u001b[38;5;241m*\u001b[39m\u001b[38;5;241m*\u001b[39m\u001b[38;5;28mself\u001b[39m\u001b[38;5;241m.\u001b[39msetup)\n\u001b[1;32m---> 81\u001b[0m \u001b[38;5;28;43mself\u001b[39;49m\u001b[38;5;241;43m.\u001b[39;49m\u001b[43mrenderer\u001b[49m\u001b[38;5;241;43m.\u001b[39;49m\u001b[43manalyze_setup\u001b[49m\u001b[43m(\u001b[49m\u001b[38;5;28;43mself\u001b[39;49m\u001b[38;5;241;43m.\u001b[39;49m\u001b[43msim_setup_name\u001b[49m\u001b[43m)\u001b[49m\n\u001b[0;32m     82\u001b[0m \u001b[38;5;28mself\u001b[39m\u001b[38;5;241m.\u001b[39mcompute_convergences()\n",
      "File \u001b[1;32mc:\\_lib\\python\\qiskit-metal\\qiskit_metal\\renderers\\renderer_ansys\\hfss_renderer.py:845\u001b[0m, in \u001b[0;36mQHFSSRenderer.analyze_setup\u001b[1;34m(self, setup_name)\u001b[0m\n\u001b[0;32m    843\u001b[0m \u001b[38;5;28;01mif\u001b[39;00m \u001b[38;5;28mself\u001b[39m\u001b[38;5;241m.\u001b[39mpinfo:\n\u001b[0;32m    844\u001b[0m     setup \u001b[38;5;241m=\u001b[39m \u001b[38;5;28mself\u001b[39m\u001b[38;5;241m.\u001b[39mpinfo\u001b[38;5;241m.\u001b[39mget_setup(setup_name)\n\u001b[1;32m--> 845\u001b[0m     \u001b[43msetup\u001b[49m\u001b[38;5;241;43m.\u001b[39;49m\u001b[43manalyze\u001b[49m\u001b[43m(\u001b[49m\u001b[43msetup_name\u001b[49m\u001b[43m)\u001b[49m\n",
      "File \u001b[1;32mc:\\Users\\slab\\anaconda3\\envs\\qmetal\\lib\\site-packages\\pyEPR\\ansys.py:1065\u001b[0m, in \u001b[0;36mHfssSetup.analyze\u001b[1;34m(self, name)\u001b[0m\n\u001b[0;32m   1063\u001b[0m     name \u001b[38;5;241m=\u001b[39m \u001b[38;5;28mself\u001b[39m\u001b[38;5;241m.\u001b[39mname\n\u001b[0;32m   1064\u001b[0m logger\u001b[38;5;241m.\u001b[39minfo(\u001b[38;5;124mf\u001b[39m\u001b[38;5;124m'\u001b[39m\u001b[38;5;124mAnalyzing setup \u001b[39m\u001b[38;5;132;01m{\u001b[39;00mname\u001b[38;5;132;01m}\u001b[39;00m\u001b[38;5;124m'\u001b[39m)\n\u001b[1;32m-> 1065\u001b[0m \u001b[38;5;28;01mreturn\u001b[39;00m \u001b[38;5;28;43mself\u001b[39;49m\u001b[38;5;241;43m.\u001b[39;49m\u001b[43mparent\u001b[49m\u001b[38;5;241;43m.\u001b[39;49m\u001b[43m_design\u001b[49m\u001b[38;5;241;43m.\u001b[39;49m\u001b[43mAnalyze\u001b[49m\u001b[43m(\u001b[49m\u001b[43mname\u001b[49m\u001b[43m)\u001b[49m\n",
      "File \u001b[1;32m<COMObject GetDesign>:2\u001b[0m, in \u001b[0;36mAnalyze\u001b[1;34m(self, simulationName)\u001b[0m\n",
      "\u001b[1;31mcom_error\u001b[0m: (-2147352567, 'Exception occurred.', (0, None, None, None, 0, -2147024349), None)"
     ]
    }
   ],
   "source": [
    "eig_all.sim.run( components = ['Q1'], open_terminations = [])"
   ]
  },
  {
   "cell_type": "code",
   "execution_count": null,
   "metadata": {},
   "outputs": [],
   "source": [
    "q = 'q2'"
   ]
  },
  {
   "cell_type": "code",
   "execution_count": null,
   "metadata": {},
   "outputs": [],
   "source": [
    "date = get_current_time_string()\n",
    "hfss_result = (eig_all.sim.convergence_f).dropna()\n",
    "hfss_result.to_csv('data/'+date+f'hfss_{q}.csv')"
   ]
  },
  {
   "cell_type": "code",
   "execution_count": null,
   "metadata": {},
   "outputs": [
    {
     "data": {
      "text/html": [
       "<div>\n",
       "<style scoped>\n",
       "    .dataframe tbody tr th:only-of-type {\n",
       "        vertical-align: middle;\n",
       "    }\n",
       "\n",
       "    .dataframe tbody tr th {\n",
       "        vertical-align: top;\n",
       "    }\n",
       "\n",
       "    .dataframe thead th {\n",
       "        text-align: right;\n",
       "    }\n",
       "</style>\n",
       "<table border=\"1\" class=\"dataframe\">\n",
       "  <thead>\n",
       "    <tr style=\"text-align: right;\">\n",
       "      <th></th>\n",
       "      <th>re(Mode(1)) [g]</th>\n",
       "    </tr>\n",
       "    <tr>\n",
       "      <th>Pass []</th>\n",
       "      <th></th>\n",
       "    </tr>\n",
       "  </thead>\n",
       "  <tbody>\n",
       "    <tr>\n",
       "      <th>1</th>\n",
       "      <td>2.233793</td>\n",
       "    </tr>\n",
       "    <tr>\n",
       "      <th>2</th>\n",
       "      <td>3.350035</td>\n",
       "    </tr>\n",
       "    <tr>\n",
       "      <th>3</th>\n",
       "      <td>3.703096</td>\n",
       "    </tr>\n",
       "    <tr>\n",
       "      <th>4</th>\n",
       "      <td>3.821440</td>\n",
       "    </tr>\n",
       "    <tr>\n",
       "      <th>5</th>\n",
       "      <td>3.895138</td>\n",
       "    </tr>\n",
       "    <tr>\n",
       "      <th>6</th>\n",
       "      <td>3.939699</td>\n",
       "    </tr>\n",
       "    <tr>\n",
       "      <th>7</th>\n",
       "      <td>3.973830</td>\n",
       "    </tr>\n",
       "    <tr>\n",
       "      <th>8</th>\n",
       "      <td>4.000294</td>\n",
       "    </tr>\n",
       "    <tr>\n",
       "      <th>9</th>\n",
       "      <td>4.019230</td>\n",
       "    </tr>\n",
       "    <tr>\n",
       "      <th>10</th>\n",
       "      <td>4.033795</td>\n",
       "    </tr>\n",
       "    <tr>\n",
       "      <th>11</th>\n",
       "      <td>4.044340</td>\n",
       "    </tr>\n",
       "    <tr>\n",
       "      <th>12</th>\n",
       "      <td>4.051565</td>\n",
       "    </tr>\n",
       "    <tr>\n",
       "      <th>13</th>\n",
       "      <td>4.055780</td>\n",
       "    </tr>\n",
       "    <tr>\n",
       "      <th>14</th>\n",
       "      <td>4.059140</td>\n",
       "    </tr>\n",
       "    <tr>\n",
       "      <th>15</th>\n",
       "      <td>NaN</td>\n",
       "    </tr>\n",
       "    <tr>\n",
       "      <th>16</th>\n",
       "      <td>NaN</td>\n",
       "    </tr>\n",
       "    <tr>\n",
       "      <th>17</th>\n",
       "      <td>NaN</td>\n",
       "    </tr>\n",
       "    <tr>\n",
       "      <th>18</th>\n",
       "      <td>NaN</td>\n",
       "    </tr>\n",
       "    <tr>\n",
       "      <th>19</th>\n",
       "      <td>NaN</td>\n",
       "    </tr>\n",
       "    <tr>\n",
       "      <th>20</th>\n",
       "      <td>NaN</td>\n",
       "    </tr>\n",
       "    <tr>\n",
       "      <th>21</th>\n",
       "      <td>NaN</td>\n",
       "    </tr>\n",
       "    <tr>\n",
       "      <th>22</th>\n",
       "      <td>NaN</td>\n",
       "    </tr>\n",
       "    <tr>\n",
       "      <th>23</th>\n",
       "      <td>NaN</td>\n",
       "    </tr>\n",
       "    <tr>\n",
       "      <th>24</th>\n",
       "      <td>NaN</td>\n",
       "    </tr>\n",
       "    <tr>\n",
       "      <th>25</th>\n",
       "      <td>NaN</td>\n",
       "    </tr>\n",
       "    <tr>\n",
       "      <th>26</th>\n",
       "      <td>NaN</td>\n",
       "    </tr>\n",
       "    <tr>\n",
       "      <th>27</th>\n",
       "      <td>NaN</td>\n",
       "    </tr>\n",
       "    <tr>\n",
       "      <th>28</th>\n",
       "      <td>NaN</td>\n",
       "    </tr>\n",
       "    <tr>\n",
       "      <th>29</th>\n",
       "      <td>NaN</td>\n",
       "    </tr>\n",
       "    <tr>\n",
       "      <th>30</th>\n",
       "      <td>NaN</td>\n",
       "    </tr>\n",
       "  </tbody>\n",
       "</table>\n",
       "</div>"
      ],
      "text/plain": [
       "         re(Mode(1)) [g]\n",
       "Pass []                 \n",
       "1               2.233793\n",
       "2               3.350035\n",
       "3               3.703096\n",
       "4               3.821440\n",
       "5               3.895138\n",
       "6               3.939699\n",
       "7               3.973830\n",
       "8               4.000294\n",
       "9               4.019230\n",
       "10              4.033795\n",
       "11              4.044340\n",
       "12              4.051565\n",
       "13              4.055780\n",
       "14              4.059140\n",
       "15                   NaN\n",
       "16                   NaN\n",
       "17                   NaN\n",
       "18                   NaN\n",
       "19                   NaN\n",
       "20                   NaN\n",
       "21                   NaN\n",
       "22                   NaN\n",
       "23                   NaN\n",
       "24                   NaN\n",
       "25                   NaN\n",
       "26                   NaN\n",
       "27                   NaN\n",
       "28                   NaN\n",
       "29                   NaN\n",
       "30                   NaN"
      ]
     },
     "execution_count": 126,
     "metadata": {},
     "output_type": "execute_result"
    }
   ],
   "source": [
    "eig_all.sim.convergence_f"
   ]
  },
  {
   "cell_type": "markdown",
   "metadata": {},
   "source": [
    "## Tee"
   ]
  },
  {
   "cell_type": "code",
   "execution_count": null,
   "metadata": {},
   "outputs": [],
   "source": [
    "\n"
   ]
  },
  {
   "cell_type": "code",
   "execution_count": 122,
   "metadata": {},
   "outputs": [],
   "source": [
    "design.delete_all_components()"
   ]
  },
  {
   "cell_type": "code",
   "execution_count": 123,
   "metadata": {},
   "outputs": [
    {
     "data": {
      "text/latex": [
       "$15 \\; \\mathrm{\\mu m}$"
      ],
      "text/plain": [
       "<Quantity 15. um>"
      ]
     },
     "execution_count": 123,
     "metadata": {},
     "output_type": "execute_result"
    }
   ],
   "source": [
    "res.pin"
   ]
  },
  {
   "cell_type": "code",
   "execution_count": 124,
   "metadata": {},
   "outputs": [],
   "source": [
    "TQ_options = dict(coupling_length='200 um',\n",
    "                prime_width = design.variables['trace_width'],\n",
    "               prime_gap = design.variables['trace_gap'],\n",
    "               second_width = design.variables['trace_width'],\n",
    "               second_gap = design.variables['trace_gap'],\n",
    "               down_length = '150um',\n",
    "               coupling_space = '2um',\n",
    "               fillet = '30um',\n",
    "               open_termination=True,\n",
    "               hfss_wire_bonds = False,\n",
    "               q3d_wire_bonds = False,\n",
    "               layer = 5)\n",
    "tee1 = CoupledLineTee(design,'tee1',options = TQ_options)\n",
    "gui.rebuild()"
   ]
  },
  {
   "cell_type": "code",
   "execution_count": 69,
   "metadata": {},
   "outputs": [
    {
     "name": "stderr",
     "output_type": "stream",
     "text": [
      "INFO 09:44PM [connect_project]: Connecting to Ansys Desktop API...\n",
      "INFO 09:44PM [load_ansys_project]: \tOpened Ansys App\n",
      "INFO 09:44PM [load_ansys_project]: \tOpened Ansys Desktop v2021.2.0\n",
      "INFO 09:44PM [load_ansys_project]: \tOpened Ansys Project\n",
      "\tFolder:    C:/Users/slab/Documents/Ansoft/\n",
      "\tProject:   Project48\n",
      "INFO 09:44PM [connect_design]: \tOpened active design\n",
      "\tDesign:    Design_hfss [Solution type: Eigenmode]\n",
      "INFO 09:44PM [get_setup]: \tOpened setup `Setup`  (<class 'pyEPR.ansys.HfssEMSetup'>)\n",
      "INFO 09:44PM [connect]: \tConnected to project \"Project48\" and design \"Design_hfss\" 😀 \n",
      "\n",
      "INFO 09:44PM [connect_design]: \tOpened active design\n",
      "\tDesign:    Design_q3d [Solution type: Q3D]\n",
      "INFO 09:44PM [get_setup]: \tOpened setup `Setup`  (<class 'pyEPR.ansys.AnsysQ3DSetup'>)\n",
      "INFO 09:44PM [analyze]: Analyzing setup Setup\n",
      "INFO 09:45PM [get_matrix]: Exporting matrix data to (C:\\Users\\slab\\AppData\\Local\\Temp\\tmpvipc8_cy.txt, C, , Setup:LastAdaptive, \"Original\", \"ohm\", \"nH\", \"fF\", \"mSie\", 5000000000, Maxwell, 1, False\n",
      "INFO 09:45PM [get_matrix]: Exporting matrix data to (C:\\Users\\slab\\AppData\\Local\\Temp\\tmpkhnj9c_s.txt, C, , Setup:AdaptivePass, \"Original\", \"ohm\", \"nH\", \"fF\", \"mSie\", 5000000000, Maxwell, 1, False\n",
      "INFO 09:45PM [get_matrix]: Exporting matrix data to (C:\\Users\\slab\\AppData\\Local\\Temp\\tmpzu5q1k0q.txt, C, , Setup:AdaptivePass, \"Original\", \"ohm\", \"nH\", \"fF\", \"mSie\", 5000000000, Maxwell, 2, False\n",
      "INFO 09:45PM [get_matrix]: Exporting matrix data to (C:\\Users\\slab\\AppData\\Local\\Temp\\tmpv2k1dvh1.txt, C, , Setup:AdaptivePass, \"Original\", \"ohm\", \"nH\", \"fF\", \"mSie\", 5000000000, Maxwell, 3, False\n",
      "INFO 09:45PM [get_matrix]: Exporting matrix data to (C:\\Users\\slab\\AppData\\Local\\Temp\\tmpa9tgojjx.txt, C, , Setup:AdaptivePass, \"Original\", \"ohm\", \"nH\", \"fF\", \"mSie\", 5000000000, Maxwell, 4, False\n",
      "INFO 09:45PM [get_matrix]: Exporting matrix data to (C:\\Users\\slab\\AppData\\Local\\Temp\\tmplvtop2mc.txt, C, , Setup:AdaptivePass, \"Original\", \"ohm\", \"nH\", \"fF\", \"mSie\", 5000000000, Maxwell, 5, False\n",
      "INFO 09:45PM [get_matrix]: Exporting matrix data to (C:\\Users\\slab\\AppData\\Local\\Temp\\tmpkwtbo115.txt, C, , Setup:AdaptivePass, \"Original\", \"ohm\", \"nH\", \"fF\", \"mSie\", 5000000000, Maxwell, 6, False\n",
      "INFO 09:45PM [get_matrix]: Exporting matrix data to (C:\\Users\\slab\\AppData\\Local\\Temp\\tmpv9cjtbbk.txt, C, , Setup:AdaptivePass, \"Original\", \"ohm\", \"nH\", \"fF\", \"mSie\", 5000000000, Maxwell, 7, False\n",
      "INFO 09:45PM [get_matrix]: Exporting matrix data to (C:\\Users\\slab\\AppData\\Local\\Temp\\tmpjaiu_qca.txt, C, , Setup:AdaptivePass, \"Original\", \"ohm\", \"nH\", \"fF\", \"mSie\", 5000000000, Maxwell, 8, False\n",
      "INFO 09:45PM [get_matrix]: Exporting matrix data to (C:\\Users\\slab\\AppData\\Local\\Temp\\tmptd0inuhj.txt, C, , Setup:AdaptivePass, \"Original\", \"ohm\", \"nH\", \"fF\", \"mSie\", 5000000000, Maxwell, 9, False\n",
      "INFO 09:45PM [get_matrix]: Exporting matrix data to (C:\\Users\\slab\\AppData\\Local\\Temp\\tmphr988zvh.txt, C, , Setup:AdaptivePass, \"Original\", \"ohm\", \"nH\", \"fF\", \"mSie\", 5000000000, Maxwell, 10, False\n",
      "INFO 09:45PM [get_matrix]: Exporting matrix data to (C:\\Users\\slab\\AppData\\Local\\Temp\\tmpv7v0n5dz.txt, C, , Setup:AdaptivePass, \"Original\", \"ohm\", \"nH\", \"fF\", \"mSie\", 5000000000, Maxwell, 11, False\n"
     ]
    }
   ],
   "source": [
    "# c1.sim.run(components = ['tee1'],open_terminations = [('tee1','prime_start'),('tee1','prime_end'),('tee1','second_end')])\n"
   ]
  },
  {
   "cell_type": "code",
   "execution_count": 70,
   "metadata": {},
   "outputs": [],
   "source": [
    "# c1.sim.capacitance_matrix"
   ]
  },
  {
   "cell_type": "code",
   "execution_count": null,
   "metadata": {},
   "outputs": [
    {
     "name": "stdout",
     "output_type": "stream",
     "text": [
      "Optimal inductance L: 13.676453476080171 nH\n"
     ]
    }
   ],
   "source": [
    "# qubit1 = TransmonQubit(4*u.GHz, ratio = 65)\n",
    "# res1 = ReadoutResonator(6*u.GHz, short_on_one_end = False)\n",
    "# dr1 = DispersiveReadout(qubit1,res1,5*u.ms)"
   ]
  },
  {
   "cell_type": "code",
   "execution_count": 215,
   "metadata": {},
   "outputs": [],
   "source": [
    "design.delete_all_components()"
   ]
  },
  {
   "cell_type": "markdown",
   "metadata": {},
   "source": [
    "# Write design"
   ]
  },
  {
   "cell_type": "code",
   "execution_count": null,
   "metadata": {},
   "outputs": [],
   "source": [
    "from qiskit_metal.qlibrary.tlines.mixed_path import RouteMixed\n",
    "from qiskit_metal.qlibrary.tlines.straight_path import RouteStraight\n",
    "\n",
    "from qiskit_metal.qlibrary.tlines.anchored_path import RouteAnchors\n",
    "from qiskit_metal.qlibrary.terminations.launchpad_wb import LaunchpadWirebond\n",
    "from qiskit_metal.qlibrary.tlines.meandered import RouteMeander\n",
    "from qiskit_metal.qlibrary.couplers.coupled_line_tee import CoupledLineTee\n",
    "from LaunchpadWirebondCustom import LaunchpadWirebondCustom\n",
    "\n",
    "\n",
    "from qiskit_metal.qlibrary.lumped.cap_n_interdigital import CapNInterdigital\n",
    "\n",
    "\n",
    "from qiskit_metal.qlibrary.terminations.launchpad_wb_coupled import LaunchpadWirebondCoupled"
   ]
  },
  {
   "cell_type": "markdown",
   "metadata": {},
   "source": [
    "## Wirebond Pads"
   ]
  },
  {
   "cell_type": "code",
   "execution_count": 256,
   "metadata": {},
   "outputs": [
    {
     "name": "stdout",
     "output_type": "stream",
     "text": [
      "False\n",
      "junction added\n",
      "False\n",
      "junction added\n",
      "False\n",
      "junction added\n"
     ]
    }
   ],
   "source": [
    "Wirebond_opt = Dict(trace_width=design.variables['trace_width'],\n",
    "                           trace_gap=design.variables['trace_gap'],\n",
    "                           lead_length='240.5um',\n",
    "                           pad_width='300um',\n",
    "                           pad_height='500um',\n",
    "                           pad_gap='100um',\n",
    "                           taper_height='100um',\n",
    "                           layer = str(qubit_layer),\n",
    "                           pin_space = '200um')\n",
    "\n",
    "Wirebond_opt['pos_x'] = '-2650um'\n",
    "Wirebond_opt['pos_y'] = '2500um'\n",
    "Wirebond_opt['orientation'] = '270'\n",
    "\n",
    "wb_left = LaunchpadWirebondCustom(design, 'wb_left', options = Wirebond_opt)\n",
    "Wirebond_opt['pos_x'] = '2650um'\n",
    "wb_right = LaunchpadWirebondCustom(design, 'wb_right', options = Wirebond_opt)\n",
    "gui.rebuild()"
   ]
  },
  {
   "cell_type": "code",
   "execution_count": null,
   "metadata": {},
   "outputs": [
    {
     "name": "stdout",
     "output_type": "stream",
     "text": [
      "False\n",
      "junction added\n",
      "False\n",
      "junction added\n",
      "False\n",
      "junction added\n"
     ]
    }
   ],
   "source": [
    "\n",
    "# launch_options_l = dict(pos_x='-2650um', \n",
    "#                       pos_y='2812um', \n",
    "#                       orientation='270', \n",
    "#                       lead_length='70um', \n",
    "#                       trace_width = design.variables['trace_width'], \n",
    "#                       trace_gap = design.variables['cpw_gap'], \n",
    "#                       pos_x_end = '-2500um', \n",
    "#                       pos_y_end = '2500um',\n",
    "#                       layer = 5)\n",
    "# # Wirebond_opt['x_pos'] = '-2650um'\n",
    "# # Wirebond_opt['y_pos'] = '2812um'\n",
    "# # Wirebond_opt['orientation'] = '270'\n",
    "# lp_left = LaunchpadWirebondCoupled(design, 'LP1', options = launch_options_l)\n",
    "# gui.rebuild()"
   ]
  },
  {
   "cell_type": "code",
   "execution_count": null,
   "metadata": {},
   "outputs": [
    {
     "name": "stdout",
     "output_type": "stream",
     "text": [
      "False\n",
      "junction added\n",
      "False\n",
      "junction added\n",
      "False\n",
      "junction added\n"
     ]
    }
   ],
   "source": [
    "# launch_options_r = dict(pos_x='2650um', \n",
    "#                       pos_y='2812um', \n",
    "#                       orientation='270', \n",
    "#                       lead_length='70um', \n",
    "#                       trace_width = design.variables['trace_width'], \n",
    "#                       trace_gap = design.variables['cpw_gap'], \n",
    "#                       pos_x_end = '2500um', \n",
    "#                       pos_y_end = '2500um',\n",
    "#                       layer = 5)\n",
    "# lp_right = LaunchpadWirebondCoupled(design, 'LP2', options = launch_options_r)\n",
    "# gui.rebuild()"
   ]
  },
  {
   "cell_type": "markdown",
   "metadata": {},
   "source": [
    "## Tee"
   ]
  },
  {
   "cell_type": "code",
   "execution_count": 221,
   "metadata": {},
   "outputs": [],
   "source": [
    "TQ_options = dict(coupling_length='200 um + 90um',\n",
    "                prime_width = design.variables['trace_width'],\n",
    "               prime_gap = design.variables['trace_gap'],\n",
    "               second_width = design.variables['trace_width'],\n",
    "               second_gap = design.variables['trace_gap'],\n",
    "               down_length = '150um',\n",
    "               coupling_space = '2um',\n",
    "               fillet = '90um',\n",
    "               open_termination=True,\n",
    "               hfss_wire_bonds = False,\n",
    "               q3d_wire_bonds = False,\n",
    "               pos_x = '-2000um',\n",
    "               pos_y = '2000um', \n",
    "               mirror = True,\n",
    "               layer = 5)\n",
    "tee1 = CoupledLineTee(design,'tee1',options = TQ_options)\n",
    "gui.rebuild()"
   ]
  },
  {
   "cell_type": "code",
   "execution_count": 222,
   "metadata": {},
   "outputs": [],
   "source": [
    "TQ_options = dict(coupling_length='200 um + 90um',\n",
    "                prime_width = design.variables['trace_width'],\n",
    "               prime_gap = design.variables['trace_gap'],\n",
    "               second_width = design.variables['trace_width'],\n",
    "               second_gap = design.variables['trace_gap'],\n",
    "               down_length = '150um',\n",
    "               coupling_space = '2um',\n",
    "               fillet = '90um',\n",
    "               open_termination=True,\n",
    "               hfss_wire_bonds = False,\n",
    "               q3d_wire_bonds = False,\n",
    "               pos_x = '2250um',\n",
    "               pos_y = '2000um', \n",
    "               mirror = False,\n",
    "               layer = 5)\n",
    "tee2 = CoupledLineTee(design,'tee2',options = TQ_options)\n",
    "gui.rebuild()"
   ]
  },
  {
   "cell_type": "code",
   "execution_count": 223,
   "metadata": {},
   "outputs": [],
   "source": [
    "TQ_options = dict(coupling_length='200 um + 90 um',\n",
    "                prime_width = design.variables['trace_width'],\n",
    "               prime_gap = design.variables['trace_gap'],\n",
    "               second_width = design.variables['trace_width'],\n",
    "               second_gap = design.variables['trace_gap'],\n",
    "               down_length = '150um',\n",
    "               coupling_space = '2um',\n",
    "               fillet = '90um',\n",
    "               open_termination=True,\n",
    "               hfss_wire_bonds = False,\n",
    "               q3d_wire_bonds = False,\n",
    "               pos_x = '1400um',\n",
    "               pos_y = '2000um', \n",
    "               mirror = True,\n",
    "               layer= 5)\n",
    "tee3 = CoupledLineTee(design,'tee3',options = TQ_options)\n",
    "gui.rebuild()"
   ]
  },
  {
   "cell_type": "markdown",
   "metadata": {},
   "source": [
    "## Qubit"
   ]
  },
  {
   "cell_type": "code",
   "execution_count": 295,
   "metadata": {},
   "outputs": [
    {
     "name": "stdout",
     "output_type": "stream",
     "text": [
      "False\n",
      "junction added\n",
      "False\n",
      "junction added\n",
      "False\n",
      "junction added\n",
      "False\n",
      "junction added\n"
     ]
    }
   ],
   "source": [
    "default_options_q1['pos_x'] = '-500um'\n",
    "default_options_q1['pos_y'] = '1000um'\n",
    "q1 = DiffTransmonRounded(design,'Q1',options = default_options_q1)\n",
    "gui.rebuild()"
   ]
  },
  {
   "cell_type": "code",
   "execution_count": 296,
   "metadata": {},
   "outputs": [
    {
     "name": "stdout",
     "output_type": "stream",
     "text": [
      "False\n",
      "junction added\n",
      "False\n",
      "junction added\n",
      "False\n",
      "junction added\n",
      "False\n",
      "junction added\n"
     ]
    }
   ],
   "source": [
    "default_options_q2['pos_x'] = '-1000um'\n",
    "default_options_q2['pos_y'] = '-2000um'\n",
    "default_options_q2['orientation'] = '180'\n",
    "q2 = DiffTransmonRounded(design,'Q2',options = default_options_q2)\n",
    "gui.rebuild()"
   ]
  },
  {
   "cell_type": "code",
   "execution_count": 297,
   "metadata": {},
   "outputs": [
    {
     "name": "stdout",
     "output_type": "stream",
     "text": [
      "False\n",
      "junction added\n",
      "False\n",
      "junction added\n",
      "False\n",
      "junction added\n",
      "False\n",
      "junction added\n"
     ]
    },
    {
     "name": "stderr",
     "output_type": "stream",
     "text": [
      "10:42AM 58s CRITICAL [_qt_message_handler]: line: 0, func: None(), file: None  WARNING: QMainWindowLayout::tabPosition called with out-of-bounds value '0'\n",
      "\n",
      "10:42AM 59s CRITICAL [_qt_message_handler]: line: 0, func: None(), file: None  WARNING: QMainWindowLayout::tabPosition called with out-of-bounds value '0'\n",
      "\n",
      "10:42AM 59s CRITICAL [_qt_message_handler]: line: 0, func: None(), file: None  WARNING: QMainWindowLayout::tabPosition called with out-of-bounds value '0'\n",
      "\n"
     ]
    }
   ],
   "source": [
    "default_options_q3['pos_x'] = '-900um'\n",
    "default_options_q3['pos_y'] = '-700um'\n",
    "default_options_q3['orientation'] = '180'\n",
    "q3 = DiffTransmonRounded(design,'Q3',options = default_options_q3)\n",
    "gui.rebuild()"
   ]
  },
  {
   "cell_type": "code",
   "execution_count": 266,
   "metadata": {},
   "outputs": [],
   "source": [
    "res1 = ReadoutResonator(6*u.GHz, short_on_one_end = False)"
   ]
  },
  {
   "cell_type": "code",
   "execution_count": 267,
   "metadata": {},
   "outputs": [
    {
     "name": "stdout",
     "output_type": "stream",
     "text": [
      "False\n",
      "junction added\n",
      "False\n",
      "junction added\n",
      "False\n",
      "junction added\n"
     ]
    }
   ],
   "source": [
    "route_options = dict(layer = 5,hfss_wire_bonds = False, \n",
    "                     fillet = '90um',\n",
    "                     total_length = f'{res1.len}',\n",
    "                     pin_inputs = dict(start_pin = dict(component = 'Q1', pin = 'cpw_stub'), \n",
    "                                                                end_pin = dict(component = 'tee1', pin = 'second_end')))\n",
    "route_options['pin_width'] = design.variables['trace_width']\n",
    "route_options['gap_width'] = design.variables['trace_gap']\n",
    "route_options['trace_width'] = design.variables['trace_width']\n",
    "route_options['trace_gap'] = design.variables['trace_gap']\n",
    "route_options['lead'] = dict(start_straight = '600 um', end_straight = '400 um')\n",
    "res1 = RouteMeander(design,name = 'res1',options = route_options)\n",
    "gui.rebuild()"
   ]
  },
  {
   "cell_type": "code",
   "execution_count": 274,
   "metadata": {},
   "outputs": [],
   "source": [
    "res2 = ReadoutResonator(5.5*u.GHz, short_on_one_end = False)"
   ]
  },
  {
   "cell_type": "code",
   "execution_count": 275,
   "metadata": {},
   "outputs": [
    {
     "name": "stdout",
     "output_type": "stream",
     "text": [
      "False\n",
      "junction added\n",
      "False\n",
      "junction added\n",
      "False\n",
      "junction added\n"
     ]
    }
   ],
   "source": [
    "route_options = dict(layer = 5,hfss_wire_bonds = False, \n",
    "                     fillet = '80um',\n",
    "                     total_length = f'{res2.len}',\n",
    "                     pin_inputs = dict(start_pin = dict(component = 'Q2', pin = 'cpw_stub'), \n",
    "                                                                end_pin = dict(component = 'tee2', pin = 'second_end')))\n",
    "route_options['pin_width'] = design.variables['trace_width']\n",
    "route_options['gap_width'] = design.variables['trace_gap']\n",
    "route_options['trace_width'] = design.variables['trace_width']\n",
    "route_options['trace_gap'] = design.variables['trace_gap']\n",
    "route_options['lead'] = dict(start_straight = '3000 um', end_straight = '400 um')\n",
    "res2 = RouteMeander(design,name = 'res2',options = route_options)\n",
    "gui.rebuild()"
   ]
  },
  {
   "cell_type": "code",
   "execution_count": 284,
   "metadata": {},
   "outputs": [],
   "source": [
    "res3 = ReadoutResonator(6.5*u.GHz, short_on_one_end = False)"
   ]
  },
  {
   "cell_type": "code",
   "execution_count": 285,
   "metadata": {},
   "outputs": [
    {
     "name": "stdout",
     "output_type": "stream",
     "text": [
      "False\n",
      "junction added\n",
      "False\n",
      "junction added\n",
      "False\n",
      "junction added\n"
     ]
    }
   ],
   "source": [
    "route_options = dict(layer = 5,hfss_wire_bonds = False, \n",
    "                     fillet = '90um',\n",
    "                     total_length = f'{res3.len}',\n",
    "                     pin_inputs = dict(start_pin = dict(component = 'Q3', pin = 'cpw_stub'), \n",
    "                                                                end_pin = dict(component = 'tee3', pin = 'second_end')))\n",
    "route_options['pin_width'] = design.variables['trace_width']\n",
    "route_options['gap_width'] = design.variables['trace_gap']\n",
    "route_options['trace_width'] = design.variables['trace_width']\n",
    "route_options['trace_gap'] = design.variables['trace_gap']\n",
    "route_options['lead'] = dict(start_straight = '2300 um', end_straight = '400 um')\n",
    "res3 = RouteMeander(design,name = 'res3',options = route_options)\n",
    "gui.rebuild()"
   ]
  },
  {
   "cell_type": "code",
   "execution_count": 233,
   "metadata": {},
   "outputs": [],
   "source": [
    "trans_ops = dp.trans_options"
   ]
  },
  {
   "cell_type": "code",
   "execution_count": 234,
   "metadata": {},
   "outputs": [
    {
     "name": "stdout",
     "output_type": "stream",
     "text": [
      "False\n",
      "junction added\n",
      "False\n",
      "junction added\n",
      "False\n",
      "junction added\n"
     ]
    }
   ],
   "source": [
    "trans_ops['pin_inputs'] = dict(start_pin = dict(component = 'wb_left', pin = 'tie'),end_pin = dict(component = 'tee1', pin = 'prime_start'))\n",
    "trans_ops['fillet'] = '100um'\n",
    "trans1 = RouteMixed(design,name = 'trans1',options = trans_ops)\n",
    "gui.rebuild()"
   ]
  },
  {
   "cell_type": "code",
   "execution_count": 235,
   "metadata": {},
   "outputs": [
    {
     "name": "stdout",
     "output_type": "stream",
     "text": [
      "False\n",
      "junction added\n",
      "False\n",
      "junction added\n",
      "False\n",
      "junction added\n"
     ]
    }
   ],
   "source": [
    "trans_ops['pin_inputs'] = dict(start_pin = dict(component = 'tee3', pin = 'prime_start'),end_pin = dict(component = 'tee1', pin = 'prime_end'))\n",
    "trans2 = RouteStraight(design,name = 'trans2',options = trans_ops)\n",
    "gui.rebuild()"
   ]
  },
  {
   "cell_type": "code",
   "execution_count": 236,
   "metadata": {},
   "outputs": [
    {
     "name": "stdout",
     "output_type": "stream",
     "text": [
      "False\n",
      "junction added\n",
      "False\n",
      "junction added\n",
      "False\n",
      "junction added\n"
     ]
    }
   ],
   "source": [
    "trans_ops['pin_inputs'] = dict(start_pin = dict(component = 'tee3', pin = 'prime_end'),end_pin = dict(component = 'tee2', pin = 'prime_start'))\n",
    "trans3 = RouteStraight(design,name = 'trans3',options = trans_ops)\n",
    "gui.rebuild()"
   ]
  },
  {
   "cell_type": "code",
   "execution_count": 237,
   "metadata": {},
   "outputs": [
    {
     "name": "stdout",
     "output_type": "stream",
     "text": [
      "False\n",
      "junction added\n",
      "False\n",
      "junction added\n",
      "False\n",
      "junction added\n"
     ]
    },
    {
     "name": "stderr",
     "output_type": "stream",
     "text": [
      "10:19AM 26s CRITICAL [_qt_message_handler]: line: 0, func: None(), file: None  WARNING: QMainWindowLayout::tabPosition called with out-of-bounds value '0'\n",
      "\n"
     ]
    }
   ],
   "source": [
    "trans_ops['pin_inputs'] = dict(start_pin = dict(component = 'wb_right', pin = 'tie'),end_pin = dict(component = 'tee2', pin = 'prime_end'))\n",
    "trans_ops['fillet'] = '100um'\n",
    "trans4 = RouteMixed(design,name = 'trans4',options = trans_ops)\n",
    "gui.rebuild()"
   ]
  },
  {
   "cell_type": "code",
   "execution_count": null,
   "metadata": {},
   "outputs": [],
   "source": []
  },
  {
   "cell_type": "markdown",
   "metadata": {},
   "source": [
    "# GDS"
   ]
  },
  {
   "cell_type": "code",
   "execution_count": 298,
   "metadata": {},
   "outputs": [],
   "source": [
    "# design.chips.main.size['size_x'] = '10mm'\n",
    "# design.chips.main.size['size_y'] = '10mm'\n",
    "# gui.rebuild()\n",
    "a_gds = design.renderers.gds"
   ]
  },
  {
   "cell_type": "code",
   "execution_count": 299,
   "metadata": {},
   "outputs": [],
   "source": [
    "qubit_layer = 5\n",
    "junction_layer = 20\n",
    "ab_layer = 31\n",
    "ab_square_layer = 30\n",
    "junction_area_layer = 60"
   ]
  },
  {
   "cell_type": "code",
   "execution_count": 300,
   "metadata": {},
   "outputs": [],
   "source": [
    "a_gds.options['max_points'] = 3000\n",
    "a_gds.options['fabricate'] = False"
   ]
  },
  {
   "cell_type": "code",
   "execution_count": 301,
   "metadata": {},
   "outputs": [],
   "source": [
    "a_gds.options['cheese']['view_in_file']['main'][qubit_layer] = True\n",
    "a_gds.options['no_cheese']['view_in_file']['main'][qubit_layer] = True\n",
    "a_gds.options['cheese']['view_in_file']['main'][junction_layer] = False\n",
    "a_gds.options['no_cheese']['view_in_file']['main'][junction_layer] = False\n",
    "a_gds.options['cheese']['view_in_file']['main'][ab_layer] = False\n",
    "a_gds.options['no_cheese']['view_in_file']['main'][ab_layer] = False\n",
    "a_gds.options['cheese']['view_in_file']['main'][ab_square_layer] = False\n",
    "a_gds.options['no_cheese']['view_in_file']['main'][ab_square_layer] = True\n",
    "a_gds.options['cheese']['view_in_file']['main'][1] = False\n",
    "a_gds.options['no_cheese']['view_in_file']['main'][1] = False"
   ]
  },
  {
   "cell_type": "code",
   "execution_count": 302,
   "metadata": {},
   "outputs": [],
   "source": [
    "# a_gds.options['cheese']['view_in_file']['main'][qubit_layer] = True\n",
    "# a_gds.options['no_cheese']['view_in_file']['main'][qubit_layer] = True\n",
    "# a_gds.options['cheese']['view_in_file']['main'][junction_layer] = True\n",
    "# a_gds.options['no_cheese']['view_in_file']['main'][junction_layer] = True\n",
    "# a_gds.options['cheese']['view_in_file']['main'][ab_layer] = True\n",
    "# a_gds.options['no_cheese']['view_in_file']['main'][ab_layer] = True\n",
    "# a_gds.options['cheese']['view_in_file']['main'][ab_square_layer] = True\n",
    "# a_gds.options['no_cheese']['view_in_file']['main'][ab_square_layer] = True\n",
    "# a_gds.options['cheese']['view_in_file']['main']['1'] = True\n",
    "# a_gds.options['no_cheese']['view_in_file']['main']['1'] = True\n",
    "\n",
    "\n",
    "\n",
    "# a_gds.options['fabricate'] = False\n",
    "a_gds.options.tolerance = '0.0000005'\n",
    "a_gds.options.precision = '0.0000000005'"
   ]
  },
  {
   "cell_type": "code",
   "execution_count": 303,
   "metadata": {},
   "outputs": [
    {
     "data": {
      "text/plain": [
       "{'datatype': '100',\n",
       " 'shape': '0',\n",
       " 'cheese_0_x': '25um',\n",
       " 'cheese_0_y': '25um',\n",
       " 'cheese_1_radius': '50um',\n",
       " 'view_in_file': {'main': {1: False,\n",
       "   5: True,\n",
       "   20: False,\n",
       "   31: False,\n",
       "   30: False}},\n",
       " 'delta_x': '100um',\n",
       " 'delta_y': '100um',\n",
       " 'edge_nocheese': '150um'}"
      ]
     },
     "execution_count": 303,
     "metadata": {},
     "output_type": "execute_result"
    }
   ],
   "source": [
    "a_gds.options['cheese']"
   ]
  },
  {
   "cell_type": "code",
   "execution_count": 304,
   "metadata": {},
   "outputs": [],
   "source": [
    "a_gds.options.cheese.edge_nocheese = '150um'\n",
    "a_gds.options.no_cheese.buffer = '200um'\n",
    "a_gds.options.cheese.cheese_1_radius = '50um'"
   ]
  },
  {
   "cell_type": "code",
   "execution_count": 305,
   "metadata": {},
   "outputs": [
    {
     "name": "stderr",
     "output_type": "stream",
     "text": [
      "10:43AM 15s WARNING [_import_junction_gds_file]: Not able to find file:\"../resources/Fake_Junctions.GDS\".  Not used to replace junction. Checked directory:\"c:\\Users\\slab\\Desktop\\Wendy-qiskit-code\\resources\".\n"
     ]
    },
    {
     "data": {
      "text/plain": [
       "1"
      ]
     },
     "execution_count": 305,
     "metadata": {},
     "output_type": "execute_result"
    }
   ],
   "source": [
    "# gui.rebuild()\n",
    "a_gds.export_to_gds('qubit_design.gds')"
   ]
  },
  {
   "cell_type": "code",
   "execution_count": 172,
   "metadata": {},
   "outputs": [],
   "source": [
    "a_gds.options['check_short_segments_by_scaling_fillet'] = '1.0'"
   ]
  },
  {
   "cell_type": "code",
   "execution_count": null,
   "metadata": {},
   "outputs": [],
   "source": []
  }
 ],
 "metadata": {
  "kernelspec": {
   "display_name": "qmetal",
   "language": "python",
   "name": "qmetal"
  },
  "language_info": {
   "codemirror_mode": {
    "name": "ipython",
    "version": 3
   },
   "file_extension": ".py",
   "mimetype": "text/x-python",
   "name": "python",
   "nbconvert_exporter": "python",
   "pygments_lexer": "ipython3",
   "version": "3.10.8"
  }
 },
 "nbformat": 4,
 "nbformat_minor": 2
}
