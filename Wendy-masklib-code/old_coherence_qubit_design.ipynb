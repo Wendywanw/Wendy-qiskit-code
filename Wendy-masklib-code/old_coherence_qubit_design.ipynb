{
 "cells": [
  {
   "cell_type": "code",
   "execution_count": 1,
   "metadata": {},
   "outputs": [],
   "source": [
    "%reload_ext autoreload\n",
    "%autoreload 2\n",
    "\n",
    "import sys\n",
    "\n",
    "sys.path.append('../Customized_Components') #this path is not right for this PC. Maybne this will work?\n",
    "from bandaged_dolan import DolanJunctionBandage\n",
    "from houcklab_qubit import DiffTransmonRounded\n",
    "import Transmon_specifications as transmon\n",
    "\n",
    "import warnings\n",
    "\n",
    "import shapely\n",
    "from CoupledLineTee import CoupledLineTee\n",
    "from dolan_junction import DolanJunction\n",
    "from LaunchpadWirebondCustom import LaunchpadWirebondCustom\n",
    "from shapely.errors import ShapelyDeprecationWarning\n",
    "from single_pad_transmon_pocket import TransmonPocket_Single\n",
    "\n",
    "warnings.filterwarnings(\"ignore\", category=ShapelyDeprecationWarning)\n",
    "from collections import OrderedDict\n",
    "\n",
    "import Default_res_params as dp\n",
    "import matplotlib.pyplot as plt\n",
    "import numpy as np\n",
    "import pandas as pd\n",
    "import copy\n",
    "import os\n",
    "\n",
    "\n",
    "\n",
    "# from qiskit_metal.qlibrary.couplers.coupled_line_tee import CoupledLineTee\n",
    "# from qiskit_metal.qlibrary.terminations.launchpad_wb import LaunchpadWirebond\n",
    "# import pyEPR as epr\n",
    "from qiskit_metal import Dict, Headings, MetalGUI, designs, draw\n",
    "# from qiskit_metal.qlibrary.terminations.open_to_ground import OpenToGround\n",
    "# from qiskit_metal.qlibrary.terminations.short_to_ground import ShortToGround\n",
    "# from qiskit_metal.qlibrary.tlines.anchored_path import RouteAnchors\n",
    "# from qiskit_metal.qlibrary.tlines.mixed_path import RouteMeander, RouteMixed\n",
    "# from qiskit_metal.qlibrary.tlines.straight_path import RouteStraight\n",
    "# from qiskit_metal.toolbox_metal.parsing import *\n"
   ]
  },
  {
   "cell_type": "code",
   "execution_count": 2,
   "metadata": {},
   "outputs": [],
   "source": [
    "gui = MetalGUI(dp.design)\n",
    "design = dp.design\n",
    "design.overwrite_enabled = True\n",
    "c1, renderer_q3d, q3d = dp.init_q3d_sim()\n",
    "eig_all, hfss_renderer, hfss = dp.init_hfss_sim()"
   ]
  },
  {
   "cell_type": "code",
   "execution_count": null,
   "metadata": {},
   "outputs": [],
   "source": []
  },
  {
   "cell_type": "markdown",
   "metadata": {},
   "source": [
    "## Calculate Qubit Params"
   ]
  },
  {
   "cell_type": "code",
   "execution_count": 3,
   "metadata": {},
   "outputs": [],
   "source": [
    "import Transmon_property as tp"
   ]
  },
  {
   "cell_type": "code",
   "execution_count": 4,
   "metadata": {},
   "outputs": [],
   "source": [
    "import scqubits as scq\n",
    "import numpy as np\n",
    "import matplotlib.pyplot as plt\n",
    "import astropy.units as u\n",
    "import astropy.constants as c\n",
    "\n",
    "from scipy.optimize import root_scalar"
   ]
  },
  {
   "cell_type": "code",
   "execution_count": 5,
   "metadata": {},
   "outputs": [],
   "source": [
    "ratio = 65\n",
    "Phi0 = (c.h / (2 * c.e.si))  # Flux quantum in Weber\n",
    "\n",
    "def inductance_to_cap(L,ratio = ratio):\n",
    "    EJ = (((Phi0/2/np.pi)**2/L).to(u.J)/c.h).to(u.GHz)\n",
    "    EC = EJ/ratio\n",
    "    return (c.e.si**2 / (2 * EC)/c.h).to(u.fF)\n",
    "\n",
    "def target_function(L, desired_frequency, ratio):\n",
    "    L = L * u.nH  # Convert L to nanohenrys\n",
    "    calculated_frequency = calculate_qubit_freq(L, ratio)\n",
    "    return calculated_frequency - desired_frequency\n",
    "def calculate_qubit_freq(L,ratio = ratio):\n",
    "    \n",
    "    EJ = (((Phi0/2/np.pi)**2/L).to(u.J)/c.h).to(u.GHz)\n",
    "    EC = EJ/ratio\n",
    "    ng = 0.0   # Offset charge\n",
    "    nlev = 10  # Number of energy levels to consider\n",
    "\n",
    "    # Create a Transmon object\n",
    "    transmon = scq.Transmon(EJ=EJ.value, EC=EC.value, ng=ng, ncut=30, truncated_dim=nlev)\n",
    "\n",
    "    # Calculate the eigenenergies\n",
    "    eigenenergies = transmon.eigenvals()\n",
    "\n",
    "    # Calculate the transition frequencies (in GHz)\n",
    "    transition_frequencies = np.diff(eigenenergies)\n",
    "\n",
    "    # Calculate the anharmonicity (in GHz)\n",
    "    anharmonicity = transition_frequencies[1] - transition_frequencies[0]\n",
    "    return transition_frequencies[0]\n",
    "    \n",
    "class TransmonQubit():\n",
    "    def __init__(self, freq, ratio):\n",
    "        self.freq = freq\n",
    "        self.ratio = ratio\n",
    "        self.C = None,\n",
    "        self.L = None\n",
    "        self.EJ = None\n",
    "        self.EC = None\n",
    "        self.update_params()\n",
    "        self.alpha = self.EC\n",
    "        \n",
    "    def update_params(self):\n",
    "        self.C, self.L = self.qubit_freq_to_cap()\n",
    "        Phi0 = (c.h / (2 * c.e.si))  # Flux quantum in Weber\n",
    "\n",
    "        # Calculate the Josephson energy EJ and charging energy EC\n",
    "        EJ = (((Phi0/2/np.pi)**2/self.L).to(u.J)/c.h).to(u.GHz)#, equivalencies=u.spectral())  # Convert to GHz\n",
    "        EC = (c.e.si**2 / (2 * self.C)/c.h).to(u.GHz)\n",
    "        self.EJ = EJ\n",
    "        self.EC = EC\n",
    "        \n",
    "    def get_params(self):\n",
    "        return [self.freq, self.ratio, self.qubit_capacitance, self.qubit_inductance, self.EJ, self.EC]\n",
    "    def get_qcap(self):\n",
    "        return self.C\n",
    "    \n",
    "    def get_qind(self):\n",
    "        return self.L\n",
    "    \n",
    "    def get_EJ(self):\n",
    "        return self.EJ\n",
    "    \n",
    "    def get_EC(self):\n",
    "        return self.EC\n",
    "    \n",
    "    def qubit_freq_to_cap(self, ):\n",
    "        desired_frequency = self.freq   # Desired frequency in GHz\n",
    "        ratio = self.ratio\n",
    "        # Use scipy.optimize.root_scalar to find the root\n",
    "        def target_function(L, desired_frequency,):\n",
    "            self.L = L * u.nH  # Convert L to nanohenrys\n",
    "            self.calculate_qubit_freq()\n",
    "            calculated_frequency = self.freq.to(u.GHz).value\n",
    "            return calculated_frequency - desired_frequency\n",
    "        result = root_scalar(target_function, args=(desired_frequency.to(u.GHz).value,), bracket=[1, 100], method='brentq')\n",
    "\n",
    "        # Print the result\n",
    "        if result.converged:\n",
    "            L_optimal = result.root\n",
    "            print(f\"Optimal inductance L: {L_optimal} nH\")\n",
    "        else:\n",
    "            print(\"Root finding did not converge\")\n",
    "        c_optimal = inductance_to_cap(L_optimal*u.nH, ratio = ratio)\n",
    "        return c_optimal, L_optimal*u.nH\n",
    "    def calculate_qubit_freq(self,):\n",
    "        L = self.L\n",
    "        ratio = self.ratio\n",
    "        EJ = (((Phi0/2/np.pi)**2/L).to(u.J)/c.h).to(u.GHz)\n",
    "        #, equivalencies=u.spectral())  # Convert to GHz\n",
    "        EC = EJ/ratio\n",
    "        ng = 0.0   # Offset charge\n",
    "        nlev = 10  # Number of energy levels to consider\n",
    "\n",
    "        # Create a Transmon object\n",
    "        transmon = scq.Transmon(EJ=EJ.value, EC=EC.value, ng=ng, ncut=30, truncated_dim=nlev)\n",
    "\n",
    "        # Calculate the eigenenergies\n",
    "        eigenenergies = transmon.eigenvals()\n",
    "\n",
    "        # Calculate the transition frequencies (in GHz)\n",
    "        transition_frequencies = np.diff(eigenenergies)\n",
    "\n",
    "        # Calculate the anharmonicity (in GHz)\n",
    "        anharmonicity = transition_frequencies[1] - transition_frequencies[0]\n",
    "        self.freq = transition_frequencies[0]*u.GHz\n",
    "        self.alpha = anharmonicity*u.GHz\n",
    "    "
   ]
  },
  {
   "cell_type": "markdown",
   "metadata": {},
   "source": [
    "Design specifics"
   ]
  },
  {
   "cell_type": "code",
   "execution_count": 6,
   "metadata": {},
   "outputs": [],
   "source": [
    "from Transmon_specifications import find_junction_area, find_junction_capacitance"
   ]
  },
  {
   "cell_type": "code",
   "execution_count": 7,
   "metadata": {},
   "outputs": [],
   "source": [
    "def pad_len_from_C(c):\n",
    "    slope = (900-500)/(101.367-61.365)\n",
    "    intercept = 500 - slope*61.365\n",
    "    \n",
    "    return slope*c.to(u.fF).value + intercept \n",
    "def unitless_find_j_area(L):\n",
    "    return find_junction_area(L*u.nH,Jc = 0.42*u.uA/u.um**2).to(u.um**2).value\n",
    "\n",
    "def unitless_find_pad_len(C):\n",
    "    slope = (900-500)/(101.367-61.365)\n",
    "    intercept = 500 - slope*61.365\n",
    "    \n",
    "    return slope*C + intercept"
   ]
  },
  {
   "cell_type": "code",
   "execution_count": 8,
   "metadata": {},
   "outputs": [],
   "source": [
    "def convert_capacitance_to_energy(capacitance):\n",
    "    C = capacitance*u.fF\n",
    "    return (c.e.si**2 / (2 * C)/c.h).to(u.GHz)\n",
    "\n",
    "def get_cap_params(caps, cj):\n",
    "    cap_matrix = copy.deepcopy(caps)\n",
    "    T = np.array([[1,0,-1,0],\n",
    "              [0,1,0,0],\n",
    "              [1,0,1,0],\n",
    "              [0,0,0,1]])\n",
    "    cap_matrix[0,2] -= cj\n",
    "    cap_matrix[2,0] -= cj\n",
    "    cap_matrix[2,2] += cj\n",
    "    cap_matrix[0,0] += cj\n",
    "    differential_cap_matrix = np.linalg.inv(T).T@(cap_matrix)@np.linalg.inv(T)\n",
    "    inverse = np.linalg.inv(differential_cap_matrix)\n",
    "    qubit_capacitance = np.reciprocal(inverse)[0,0]\n",
    "    coupling_capacitance = np.reciprocal(inverse)[0,1]\n",
    "    Ec = convert_capacitance_to_energy(qubit_capacitance)\n",
    "    g = 8*convert_capacitance_to_energy(coupling_capacitance).to(u.MHz)\n",
    "    return [Ec,g,qubit_capacitance,coupling_capacitance]\n",
    "    "
   ]
  },
  {
   "cell_type": "code",
   "execution_count": 9,
   "metadata": {},
   "outputs": [
    {
     "data": {
      "text/plain": [
       "[<Quantity 0.48425573 GHz>, <Quantity 0. MHz>, 40.0, inf]"
      ]
     },
     "execution_count": 9,
     "metadata": {},
     "output_type": "execute_result"
    }
   ],
   "source": [
    "get_cap_params(np.array([[80,0,0,0],[0,80,0,0],[0,0,80,0],[0,0,0,80]]),0.5)"
   ]
  },
  {
   "cell_type": "markdown",
   "metadata": {},
   "source": [
    "## Resonator calculations"
   ]
  },
  {
   "cell_type": "code",
   "execution_count": 10,
   "metadata": {},
   "outputs": [],
   "source": [
    "import astropy.units as u\n",
    "import astropy.constants as c\n",
    "import scipy.optimize as optimize\n",
    "\n",
    "# define constants for LL designs\n",
    "sub_t = 350*u.um #substrate thickness (Si in this case)\n",
    "metal_t = 100*u.nm #Deposited metal thickness (Al)\n",
    "Sc = 67*u.fF/(u.um)**2 #JJ specific capacitance\n",
    "epsilon = 11.45\n",
    "W_jj = 200*u.nm #junction width\n",
    "Z0 = 50*u.Ohm #characteristic impedance\n",
    "import qiskit_metal.analyses as analyses"
   ]
  },
  {
   "cell_type": "code",
   "execution_count": 11,
   "metadata": {},
   "outputs": [],
   "source": [
    "freq = 6*u.GHz.si\n",
    "line_width = 15*u.um\n",
    "line_gap = 8.30*u.um"
   ]
  },
  {
   "cell_type": "markdown",
   "metadata": {},
   "source": [
    "Optimal pin-gap ratio for resonator and feedlines"
   ]
  },
  {
   "cell_type": "code",
   "execution_count": 12,
   "metadata": {},
   "outputs": [],
   "source": [
    "class ReadoutResonator():\n",
    "    def __init__(self, freq, short_on_one_end = False,optimal_pin = None, optimal_gap = None ):\n",
    "        self.freq = freq\n",
    "        self.short_on_one_end = short_on_one_end\n",
    "        self.substrate_thickness = 350*u.um\n",
    "        self.film_thickness = 100*u.nm\n",
    "        if (optimal_gap is None) and (optimal_pin is None):\n",
    "            self.pin = 15*u.um\n",
    "            self.optimize_gap()\n",
    "        elif optimal_gap is None:\n",
    "            self.pin = optimal_pin\n",
    "            self.optimize_gap()\n",
    "        elif optimal_pin is None:\n",
    "            self.gap = optimal_gap\n",
    "            self.optimize_pin()\n",
    "        \n",
    "        self.param_from_res_freq(freq, short_on_one_end = short_on_one_end)\n",
    "        self.C = np.pi/2/self.freq/2/np.pi/self.Z0\n",
    "        \n",
    "    def get_params(self):\n",
    "        return [self.L, self.C, self.target_length]\n",
    "    \n",
    "    def get_L(self):\n",
    "        return self.L\n",
    "    \n",
    "    def get_C(self):\n",
    "        return self.C\n",
    "    \n",
    "    def get_target_length(self):\n",
    "        return self.target_length\n",
    "    \n",
    "    def param_from_res_freq(self,freq, short_on_one_end = False):\n",
    "        self.Lk, self.Lext,self.Cl,self.G,self.Z0,self.etf,self.Cstar = analyses.cpw_calculations.lumped_cpw(freq = self.freq.to(u.Hz).value,\n",
    "                                        line_width=self.pin.to(u.m).value,\n",
    "                                        line_gap=self.gap.to(u.m).value,\n",
    "                                        substrate_thickness=self.substrate_thickness.to(u.m).value,\n",
    "                                        film_thickness=self.film_thickness.to(u.m).value,)\n",
    "        self.Lk*=u.H\n",
    "        self.Lext*=u.H\n",
    "        self.Cl*=u.F/u.m\n",
    "        \n",
    "        self.G*=u.S\n",
    "        self.Z0*=u.Ohm\n",
    "        self.etf*=u.H/u.m\n",
    "        self.Cstar*=u.F\n",
    "        target_length = analyses.cpw_calculations.guided_wavelength(freq = self.freq.to(u.Hz).value,\n",
    "                                        line_width=self.pin.to(u.m).value,\n",
    "                                        line_gap=self.gap.to(u.m).value,\n",
    "                                        substrate_thickness=self.substrate_thickness.to(u.m).value,\n",
    "                                        film_thickness=self.film_thickness.to(u.m).value,)[0]*u.m\n",
    "        if short_on_one_end:\n",
    "            target_length /= 4\n",
    "        else:\n",
    "            target_length /= 2\n",
    "        self.len = target_length\n",
    "    def optimize_gap(self):\n",
    "        def f(line_gap):\n",
    "            return(analyses.cpw_calculations.lumped_cpw(self.freq.to(u.Hz).value,\n",
    "                                            self.pin.to(u.m).value,\n",
    "                                            line_gap,\n",
    "                                            self.substrate_thickness.to(u.m).value,\n",
    "                                            self.film_thickness.to(u.m).value)[4]-50)\n",
    "        optimized_gap = optimize.fsolve(f,self.pin.si.value)[0]*u.m\n",
    "        self.gap = optimized_gap.to(u.um)\n",
    "    def optimize_pin(self):\n",
    "        def f(line_width):\n",
    "            return(analyses.cpw_calculations.lumped_cpw(self.freq.to(u.Hz).value,\n",
    "                                            line_width,\n",
    "                                            self.gap.si.value,\n",
    "                                            self.substrate_thickness.to(u.m).value,\n",
    "                                            self.film_thickness.to(u.m).value)[4]-50)\n",
    "        optimized_pin = optimize.fsolve(f,self.gap.si.value)[0]*u.m\n",
    "        self.pin = optimized_pin.to(u.um)"
   ]
  },
  {
   "cell_type": "markdown",
   "metadata": {},
   "source": [
    "### dispersive readout function"
   ]
  },
  {
   "cell_type": "code",
   "execution_count": 13,
   "metadata": {},
   "outputs": [],
   "source": [
    "class DispersiveReadout():\n",
    "    def __init__(self, qubit, res, T1, c_qr = None, c_tr = None):\n",
    "        self.qubit = qubit\n",
    "        self.res = res\n",
    "        self.pT1 = T1\n",
    "        self.optimize_cqr()\n",
    "        self.optimize_ctr()\n",
    "        \n",
    "    def get_params(self):\n",
    "        return [self.qubit, self.res, self.c_qr, self.c_tr]\n",
    "    \n",
    "    def get_cqr(self):\n",
    "        return self.c_qr\n",
    "    \n",
    "    def get_ctr(self):\n",
    "        return self.c_tr\n",
    "    \n",
    "    def get_qubit(self):\n",
    "        return self.qubit\n",
    "    \n",
    "    def get_res(self):\n",
    "        return self.res\n",
    "    def calc_g(self):\n",
    "        c_qr = self.c_qr\n",
    "        Cq = self.qubit.C\n",
    "        Cr = self.res.C\n",
    "        wq = self.qubit.freq*np.pi*2\n",
    "        wr = self.res.freq*np.pi*2\n",
    "        EJ = self.qubit.EJ\n",
    "        EC = self.qubit.EC\n",
    "        return c_qr/Cq*np.sqrt(c.e.si**2*wr/c.hbar/Cr)*(EJ/8/EC)**0.25\n",
    "    def update_g(self):\n",
    "        self.g = self.calc_g()\n",
    "    def calc_kappa(self):\n",
    "        res = self.res\n",
    "        c_tr = self.c_tr\n",
    "        argv = [res.freq.si.value, \n",
    "                c_tr.si.value, \n",
    "                res.len.si.value, \n",
    "                res.pin.si.value, \n",
    "                res.gap.si.value, \n",
    "                2]\n",
    "        \n",
    "        return (analyses.em.kappa_calculation.kappa_in(res.freq.si.value, \n",
    "                c_tr.si.value, \n",
    "                res.len.si.value, \n",
    "                res.pin.si.value, \n",
    "                res.gap.si.value, \n",
    "                2)*u.Hz).to(u.MHz)\n",
    "    def update_kappa(self):\n",
    "        self.kappa = self.calc_kappa()\n",
    "    def calc_chi(self):\n",
    "        qubit = self.qubit\n",
    "        resonator = self.res\n",
    "        delta = (qubit.freq-resonator.freq)*2*np.pi\n",
    "        sum_freq = (qubit.freq+resonator.freq)*2*np.pi\n",
    "        alpha = qubit.EC\n",
    "        return 2*self.g**2*(alpha/delta/(delta+alpha)+alpha/sum_freq/(sum_freq+alpha))\n",
    "    def update_chi(self):\n",
    "        self.chi = self.calc_chi()\n",
    "    def calc_purcellT1(self,):\n",
    "        qubit = self.qubit\n",
    "        res = self.res\n",
    "        \n",
    "        delta = (qubit.freq-res.freq)*2*np.pi\n",
    "        \n",
    "        purcellGamma = self.g**2*self.kappa/delta**2\n",
    "        \n",
    "        return 1/purcellGamma/2/np.pi\n",
    "    def calc_purcellT1q(self,update_g = True, update_chi = True):\n",
    "        '''taking kappa = 2*chi for the optimal SNR, can directly get the T1q'''\n",
    "        c_qr = self.c_qr\n",
    "        qubit = self.qubit\n",
    "        res = self.res\n",
    "        if update_g:\n",
    "            self.update_g()\n",
    "        if update_chi:\n",
    "            self.update_chi()\n",
    "        delta = (qubit.freq-res.freq)*2*np.pi\n",
    "        \n",
    "        kappa_val = self.chi*2\n",
    "        \n",
    "        purcellGamma = self.g**2*kappa_val/delta**2\n",
    "        return 1/purcellGamma/2/np.pi\n",
    "    def optimize_cqr(self,):\n",
    "        '''find the optimal coupling capacitance'''\n",
    "        target_t1 = self.pT1\n",
    "        c_qr = 1*u.fF\n",
    "        self.c_qr = c_qr\n",
    "        while self.calc_purcellT1q().to(u.ms) > 1.01*target_t1:\n",
    "            c_qr += .1*u.fF\n",
    "            self.c_qr = c_qr\n",
    "        return c_qr\n",
    "    def optimize_ctr(self, target_kappa=None):\n",
    "        '''find the optimal coupling capacitance'''\n",
    "        # if target_kappa is None:\n",
    "        #     target_kappa = self.chi*2\n",
    "        # c_tr = 1*u.fF\n",
    "        # self.c_tr = c_tr\n",
    "        # self.update_kappa()\n",
    "        # while self.kappa < target_kappa:\n",
    "        #     c_tr += .1*u.fF\n",
    "        #     self.c_tr = c_tr\n",
    "        #     self.update_kappa()\n",
    "        # return c_tr\n",
    "        self.c_tr = 1*u.fF\n",
    "        return self.c_tr\n"
   ]
  },
  {
   "cell_type": "code",
   "execution_count": 14,
   "metadata": {},
   "outputs": [
    {
     "name": "stdout",
     "output_type": "stream",
     "text": [
      "Optimal inductance L: 13.676453476080171 nH\n"
     ]
    }
   ],
   "source": [
    "qubit = TransmonQubit(4*u.GHz, ratio = 65)\n",
    "res = ReadoutResonator(6*u.GHz, short_on_one_end = False)\n",
    "dr = DispersiveReadout(qubit,res,5*u.ms)"
   ]
  },
  {
   "cell_type": "code",
   "execution_count": 15,
   "metadata": {},
   "outputs": [],
   "source": [
    "default_options = Dict(\n",
    "        cut_l='800um',\n",
    "        cut_h='1200um',\n",
    "        gap='20um',\n",
    "        w = '90um',\n",
    "        l = '900um',\n",
    "        r = '60um',\n",
    "        cpw_l = '50um',\n",
    "        coupling_gap = '40um',\n",
    "        JJ_cutout_w = '70um',\n",
    "        JJ_cutout_h = '70um',\n",
    "        JJ_cutout_r = '150um',\n",
    "        JJ_c_contact_l = '40um',\n",
    "        JJ_c_contact_r = '2.5um',\n",
    "        JJ_c_contact_w = '10um',\n",
    "        coupling_d = '100um',\n",
    "        coupling_pad_w = '90um',\n",
    "        coupling_r = '40um',\n",
    "        cpw_pin = '10um',\n",
    "        chip='main',\n",
    "        resolution = '10',\n",
    "        junction = 'False',\n",
    "        orientation = '0',\n",
    "        JJ_c_contact_shortl = '10um',\n",
    "        istunnel = 'False')"
   ]
  },
  {
   "cell_type": "markdown",
   "metadata": {},
   "source": []
  },
  {
   "cell_type": "markdown",
   "metadata": {},
   "source": [
    "## Leonding method"
   ]
  },
  {
   "cell_type": "code",
   "execution_count": 16,
   "metadata": {},
   "outputs": [],
   "source": [
    "def convert_capacitance_to_energy(capacitance):\n",
    "    C = capacitance*u.fF\n",
    "    return (c.e.si**2 / (2 * C)/c.h).to(u.GHz)\n",
    "\n",
    "def get_cap_params_dim4(caps, cj):\n",
    "    cap_matrix = copy.deepcopy(caps)\n",
    "    T = np.array([[1,0,0,0],\n",
    "                  [0,1,1,0],\n",
    "                  [0,1,-1,0],\n",
    "                  [0,0,0,1]])\n",
    "    cap_matrix[1,2] -= cj\n",
    "    cap_matrix[2,1] -= cj\n",
    "    cap_matrix[2,2] += cj\n",
    "    cap_matrix[1,1] += cj\n",
    "    differential_cap_matrix = np.linalg.inv(T).T@(cap_matrix)@np.linalg.inv(T)\n",
    "    inverse = np.linalg.inv(differential_cap_matrix)\n",
    "    qubit_capacitance = np.reciprocal(inverse)[2,2]\n",
    "    coupling_capacitance = np.reciprocal(inverse)[2,3]\n",
    "    Ec = convert_capacitance_to_energy(qubit_capacitance)\n",
    "    J = 8*convert_capacitance_to_energy(coupling_capacitance).to(u.MHz)\n",
    "    # gp = (1/c.hbar*c.e.si*np.sqrt(np.pi*c.hbar/2/z0)*(32*Ec/Ej)**0.25).to(u.MHz)*coupling_capacitance\n",
    "    # print(gp)\n",
    "    return [Ec,J,qubit_capacitance,coupling_capacitance]\n",
    "def get_cap_params_dim2(caps, cj):\n",
    "    cap_matrix = copy.deepcopy(caps)\n",
    "    T = np.array([[1,1,0],\n",
    "                  [1,-1,0],\n",
    "                  [0,0,1]])\n",
    "    cap_matrix[0,1] -= cj\n",
    "    cap_matrix[1,0] -= cj\n",
    "    cap_matrix[1,1] += cj\n",
    "    cap_matrix[0,0] += cj\n",
    "    differential_cap_matrix = np.linalg.inv(T).T@(cap_matrix)@np.linalg.inv(T)\n",
    "    inverse = np.linalg.inv(differential_cap_matrix)\n",
    "    qubit_capacitance = np.reciprocal(inverse)[1,1]\n",
    "    coupling_capacitance = np.reciprocal(inverse)[1,2]\n",
    "    Ec = convert_capacitance_to_energy(qubit_capacitance)\n",
    "    J = 8*convert_capacitance_to_energy(coupling_capacitance).to(u.MHz)\n",
    "    \n",
    "    # gp = (1/c.hbar*c.e.si*np.sqrt(np.pi*c.hbar/2/z0)*(32*Ec/Ej)**0.25).to(u.MHz)*coupling_capacitance\n",
    "    # print(gp)\n",
    "    return [Ec,J,qubit_capacitance,coupling_capacitance]\n",
    "def qubit_zpf(E_J, E_c):\n",
    "    z_Q = (1/2*np.pi)*np.sqrt(8*E_c/E_J)\n",
    "    return np.sqrt(1/(4*np.pi*z_Q))\n",
    "def res_zpf(Z_0 = 50*u.Ohm):\n",
    "    R_Q = c.h/(2*c.e.si**2)\n",
    "    Z = 2*Z_0/np.pi\n",
    "    z= Z/R_Q\n",
    "    return np.sqrt(1/(4*np.pi*z))\n",
    "    "
   ]
  },
  {
   "cell_type": "code",
   "execution_count": 17,
   "metadata": {},
   "outputs": [],
   "source": [
    "phi0 = c.h/2/c.e.si\n",
    "epsilon_r = 11.45\n",
    "z0 = 50*u.Ohm\n",
    "\n",
    "def g_leonDing_old(dim = 4, c1 = c1, cj = 2, Lj = 13*u.nH):\n",
    "    df = c1.sim.capacitance_matrix\n",
    "    df1 = copy.deepcopy(df)\n",
    "    df1['ground_main_plane']['ground_main_plane'] += res.C.to(u.fF).value\n",
    "    df1['resonator_pad_Q1']['resonator_pad_Q1'] += res.C.to(u.fF).value\n",
    "    df1['resonator_pad_Q1']['ground_main_plane'] -= res.C.to(u.fF).value\n",
    "    df1['ground_main_plane']['resonator_pad_Q1'] -= res.C.to(u.fF).value\n",
    "    cap = df1.to_numpy()\n",
    "    if dim == 3:\n",
    "        capp = cap[1:,1:]\n",
    "        Ec, J,_,_ = get_cap_params(capp,cj)\n",
    "    elif dim == 4:\n",
    "        capp = cap\n",
    "        Ec, J,_,_ = get_cap_params_dim4(capp,cj) \n",
    "        \n",
    "    \n",
    "    # Ec = (c.e.si**2/2/Cq)/c.h\n",
    "    Ej = ((phi0/2/np.pi)**2/Lj)/c.h   \n",
    "    g = (qubit_zpf(Ej,Ec)*J*res_zpf()).to(u.MHz)\n",
    "    \n",
    "    \n",
    "    \n",
    "    return g, Ec, Ej, "
   ]
  },
  {
   "cell_type": "code",
   "execution_count": 18,
   "metadata": {},
   "outputs": [],
   "source": [
    "def g_leonDing(dim = 4, c1 = c1, cj = 2, Lj = 13*u.nH):\n",
    "    df = c1.sim.capacitance_matrix\n",
    "    df1 = copy.deepcopy(df)\n",
    "    \n",
    "    \n",
    "    # df1['ground_main_plane']['ground_main_plane'] += res.C.to(u.fF).value\n",
    "    # df1['resonator_pad_Q1']['resonator_pad_Q1'] += res.C.to(u.fF).value\n",
    "    # df1['resonator_pad_Q1']['ground_main_plane'] -= res.C.to(u.fF).value\n",
    "    # df1['ground_main_plane']['resonator_pad_Q1'] -= res.C.to(u.fF).value\n",
    "    cap = df1.to_numpy()\n",
    "    cap[1,1] += cap[0,1]\n",
    "    cap[2,2] += cap[0,2]\n",
    "    cap[3,3] += cap[0,3]\n",
    "    \n",
    "    cap[0,3] += res.C.to(u.fF).value\n",
    "    cap[3,0] += res.C.to(u.fF).value\n",
    "    cap[0,0] -= res.C.to(u.fF).value\n",
    "    cap[3,3] -= res.C.to(u.fF).value\n",
    "    \n",
    "    \n",
    "    if dim == 3:\n",
    "        capp = cap[1:,1:]\n",
    "        Ec, J,_,_ = get_cap_params(capp,cj)\n",
    "    elif dim == 4:\n",
    "        capp = cap\n",
    "        Ec, J,_,_ = get_cap_params_dim4(capp,cj) \n",
    "        \n",
    "    \n",
    "    # Ec = (c.e.si**2/2/Cq)/c.h\n",
    "    Ej = ((phi0/2/np.pi)**2/Lj)/c.h   \n",
    "    g = (qubit_zpf(Ej,Ec)*J*res_zpf()).to(u.MHz)\n",
    "    \n",
    "    \n",
    "    \n",
    "    return g, Ec, Ej, "
   ]
  },
  {
   "cell_type": "code",
   "execution_count": 19,
   "metadata": {},
   "outputs": [],
   "source": [
    "# g_leonDing(dim = 4, c1 = c1, cj = 2, Lj = 13*u.nH)"
   ]
  },
  {
   "cell_type": "code",
   "execution_count": 20,
   "metadata": {},
   "outputs": [],
   "source": [
    "qubit.alpha = 0.2*u.GHz\n",
    "# dr.calc_g().to(u.MHz)"
   ]
  },
  {
   "cell_type": "code",
   "execution_count": 21,
   "metadata": {},
   "outputs": [
    {
     "name": "stderr",
     "output_type": "stream",
     "text": [
      "03:37PM 28s WARNING [run_lom]: Please initialize the capacitance_matrix before executing this method.`self.sim.capacitance_matrix = pd.DataFrame(...)`\n"
     ]
    },
    {
     "data": {
      "text/plain": [
       "{}"
      ]
     },
     "execution_count": 21,
     "metadata": {},
     "output_type": "execute_result"
    }
   ],
   "source": [
    "c1.setup.junctions = Dict({'Lj': qubit.L.to(u.nH).value, 'Cj': 2})\n",
    "c1.setup.freq_readout = 6.0\n",
    "c1.setup.freq_bus = []\n",
    "\n",
    "c1.run_lom()\n",
    "c1.lumped_oscillator_all"
   ]
  },
  {
   "cell_type": "markdown",
   "metadata": {},
   "source": [
    "## Alex Page Thesis method"
   ]
  },
  {
   "cell_type": "code",
   "execution_count": 22,
   "metadata": {},
   "outputs": [],
   "source": [
    "df = c1.sim.capacitance_matrix"
   ]
  },
  {
   "cell_type": "code",
   "execution_count": 23,
   "metadata": {},
   "outputs": [],
   "source": [
    "phi0 = c.h/2/c.e.si\n",
    "T = 30*u.mK\n",
    "epsilon_r = 11.45\n",
    "z0 = 50*u.Ohm\n",
    "\n",
    "\n",
    "Cq = 20*u.fF\n",
    "Lj = 13*u.nH\n",
    "Ec = (c.e.si**2/2/Cq)/c.h\n"
   ]
  },
  {
   "cell_type": "code",
   "execution_count": 24,
   "metadata": {},
   "outputs": [],
   "source": [
    "def g_alexPage(c1 = c1,wr = 6*u.GHz, Lj = 13*u.nH):\n",
    "    df = c1.sim.capacitance_matrix\n",
    "    c_1 = -df['pad_left_Q1']['resonator_pad_Q1']*u.fF\n",
    "    c_2 = -df['pad_right_Q1']['ground_main_plane']*u.fF\n",
    "    c_3 = -df['pad_right_Q1']['resonator_pad_Q1']*u.fF\n",
    "    c_4 = -df['pad_left_Q1']['ground_main_plane']*u.fF\n",
    "    ct = -df['pad_left_Q1']['pad_right_Q1']*u.fF\n",
    "\n",
    "    c_phi = (c_2+c_3)*(c_1+c_4)/(c_1+c_2+c_3+c_4)+2*u.fF+ct\n",
    "    c_ceff = (c_1**2-c_3*c_4)/(c_1+c_2+c_3+c_4+ct)\n",
    "    beta = (c_1*c_2-c_3*c_4)/((c_2+c_3)*(c_1+c_4)+ct*(c_1+c_2+c_3+c_4))\n",
    "    Ec = (c.e.si**2/2/c_phi)/c.h\n",
    "    Ej = ((phi0/2/np.pi)**2/Lj)/c.h\n",
    "    w01 = np.sqrt(8*Ec*Ej)\n",
    "    delta = wr-w01\n",
    "    c_res = np.pi/2/wr/z0\n",
    "    Vrms = np.sqrt(c.hbar*wr/2/c_res)\n",
    "    g = c.e.si*Vrms*beta/c.hbar*np.sqrt(2)*(Ej/8/Ec)**0.25\n",
    "    return g.to(u.MHz), Ec.to(u.MHz), Ej.to(u.GHz), w01.to(u.GHz)"
   ]
  },
  {
   "cell_type": "code",
   "execution_count": 25,
   "metadata": {},
   "outputs": [],
   "source": [
    "# g_alexPage()"
   ]
  },
  {
   "cell_type": "code",
   "execution_count": null,
   "metadata": {},
   "outputs": [],
   "source": []
  },
  {
   "cell_type": "markdown",
   "metadata": {},
   "source": [
    "## Qiskit Metal"
   ]
  },
  {
   "cell_type": "code",
   "execution_count": 26,
   "metadata": {},
   "outputs": [],
   "source": [
    "qubit_layer = 5\n",
    "junction_layer = 20\n",
    "ab_layer = 31\n",
    "ab_square_layer = 30\n",
    "junction_area_layer = 60"
   ]
  },
  {
   "cell_type": "code",
   "execution_count": 27,
   "metadata": {},
   "outputs": [
    {
     "name": "stdout",
     "output_type": "stream",
     "text": [
      "2024-12-1015-37\n"
     ]
    }
   ],
   "source": [
    "from datetime import datetime\n",
    "\n",
    "def get_current_time_string():\n",
    "    now = datetime.now()\n",
    "    return now.strftime(\"%Y-%m-%d%H-%M\")\n",
    "\n",
    "# Example usage\n",
    "print(get_current_time_string())"
   ]
  },
  {
   "cell_type": "code",
   "execution_count": 28,
   "metadata": {},
   "outputs": [
    {
     "name": "stdout",
     "output_type": "stream",
     "text": [
      "Optimal inductance L: 13.676453476080171 nH\n"
     ]
    }
   ],
   "source": [
    "qubit = TransmonQubit(4*u.GHz, ratio = 65)\n",
    "res = ReadoutResonator(6*u.GHz, short_on_one_end = False)"
   ]
  },
  {
   "cell_type": "code",
   "execution_count": 29,
   "metadata": {},
   "outputs": [],
   "source": [
    "from qiskit_metal.qlibrary.qubits.transmon_cross import TransmonCross\n",
    "\n",
    "# Be aware of the default_options that can be overridden by user.\n",
    "options = TransmonCross.get_template_options(design)"
   ]
  },
  {
   "cell_type": "code",
   "execution_count": 33,
   "metadata": {},
   "outputs": [
    {
     "data": {
      "text/plain": [
       "{'pos_x': '0.0um',\n",
       " 'pos_y': '0.0um',\n",
       " 'orientation': '0.0',\n",
       " 'chip': 'main',\n",
       " 'layer': '1',\n",
       " 'connection_pads': {},\n",
       " '_default_connection_pads': {'connector_type': '0',\n",
       "  'claw_length': '30um',\n",
       "  'ground_spacing': '5um',\n",
       "  'claw_width': '10um',\n",
       "  'claw_gap': '6um',\n",
       "  'connector_location': '0'},\n",
       " 'cross_width': '20um',\n",
       " 'cross_length': '200um',\n",
       " 'cross_gap': '20um',\n",
       " 'hfss_inductance': '13nH',\n",
       " 'hfss_capacitance': 0,\n",
       " 'hfss_resistance': 0,\n",
       " 'hfss_mesh_kw_jj': 7e-06,\n",
       " 'q3d_inductance': '13nH',\n",
       " 'q3d_capacitance': 0,\n",
       " 'q3d_resistance': 0,\n",
       " 'q3d_mesh_kw_jj': 7e-06,\n",
       " 'gds_cell_name': 'my_other_junction'}"
      ]
     },
     "execution_count": 33,
     "metadata": {},
     "output_type": "execute_result"
    }
   ],
   "source": [
    "options"
   ]
  },
  {
   "cell_type": "code",
   "execution_count": 49,
   "metadata": {},
   "outputs": [],
   "source": [
    "options['connection_pads'] = dict(a = dict(ground_spacing = '11um',claw_gap = '7um',\n",
    "                                           claw_length = '150um',connector_location = '90', connector_type = '0'),)\n",
    "options['cross_width'] = '31um'\n",
    "options['cross_length'] = '195um'\n",
    "options['orientation'] = '-90'\n",
    "options['cross_gap'] = '19um'\n",
    "options['pos_x'] = f'{1.425-3500}um'\n",
    "options['pos_y'] = f'{5139-3500}um'\n",
    "\n",
    "\n",
    "# Create a new Transmon Cross object with name 'Q1'\n",
    "q1 = TransmonCross(design, 'Q1', options=options)\n",
    "\n",
    "gui.rebuild()  # rebuild the design and plot\n",
    "gui.autoscale() #resize GUI to see QComponent\n",
    "gui.zoom_on_components(['Q1']) #Can also gui.zoom_on_components([q1.name])"
   ]
  },
  {
   "cell_type": "code",
   "execution_count": null,
   "metadata": {},
   "outputs": [],
   "source": [
    "options['connection_pads'] = dict(a = dict(ground_spacing = '11um',\n",
    "                                           claw_gap = '7um',\n",
    "                                           claw_length = '150um',\n",
    "                                           connector_location = '90', \n",
    "                                           connector_type = '0'),)\n",
    "options['cross_width'] = '31um'\n",
    "options['cross_length'] = '195um'\n",
    "options['orientation'] = '-90'\n",
    "options['cross_gap'] = '19um'\n",
    "\n",
    "\n",
    "# Create a new Transmon Cross object with name 'Q1'\n",
    "q2 = TransmonCross(design, 'Q2', options=options)\n",
    "\n",
    "gui.rebuild()  # rebuild the design and plot\n",
    "gui.autoscale() #resize GUI to see QComponent\n",
    "gui.zoom_on_components(['Q2']) #Can also gui.zoom_on_components([q1.name])"
   ]
  },
  {
   "cell_type": "code",
   "execution_count": null,
   "metadata": {},
   "outputs": [],
   "source": []
  },
  {
   "cell_type": "code",
   "execution_count": null,
   "metadata": {},
   "outputs": [],
   "source": []
  }
 ],
 "metadata": {
  "kernelspec": {
   "display_name": "qmetal",
   "language": "python",
   "name": "qmetal"
  },
  "language_info": {
   "codemirror_mode": {
    "name": "ipython",
    "version": 3
   },
   "file_extension": ".py",
   "mimetype": "text/x-python",
   "name": "python",
   "nbconvert_exporter": "python",
   "pygments_lexer": "ipython3",
   "version": "3.10.8"
  }
 },
 "nbformat": 4,
 "nbformat_minor": 2
}
