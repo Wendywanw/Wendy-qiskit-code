{
 "cells": [
  {
   "cell_type": "code",
   "execution_count": 356,
   "metadata": {},
   "outputs": [],
   "source": [
    "%reload_ext autoreload\n",
    "%autoreload 2\n",
    "\n",
    "import sys\n",
    "\n",
    "sys.path.append('../Customized_Components') #this path is not right for this PC. Maybne this will work?\n",
    "from bandaged_dolan import DolanJunctionBandage\n",
    "from houcklab_qubit import DiffTransmonRounded\n",
    "\n",
    "import warnings\n",
    "\n",
    "import shapely\n",
    "from CoupledLineTee import CoupledLineTee\n",
    "from dolan_junction import DolanJunction\n",
    "from LaunchpadWirebondCustom import LaunchpadWirebondCustom\n",
    "from shapely.errors import ShapelyDeprecationWarning\n",
    "from single_pad_transmon_pocket import TransmonPocket_Single\n",
    "\n",
    "warnings.filterwarnings(\"ignore\", category=ShapelyDeprecationWarning)\n",
    "from collections import OrderedDict\n",
    "\n",
    "import Default_res_params as dp\n",
    "import matplotlib.pyplot as plt\n",
    "import numpy as np\n",
    "import pandas as pd\n",
    "import copy\n",
    "\n",
    "# from qiskit_metal.qlibrary.couplers.coupled_line_tee import CoupledLineTee\n",
    "# from qiskit_metal.qlibrary.terminations.launchpad_wb import LaunchpadWirebond\n",
    "import pyEPR as epr\n",
    "from qiskit_metal import Dict, Headings, MetalGUI, designs, draw\n",
    "from qiskit_metal.qlibrary.terminations.open_to_ground import OpenToGround\n",
    "from qiskit_metal.qlibrary.terminations.short_to_ground import ShortToGround\n",
    "from qiskit_metal.qlibrary.tlines.anchored_path import RouteAnchors\n",
    "from qiskit_metal.qlibrary.tlines.mixed_path import RouteMeander, RouteMixed\n",
    "from qiskit_metal.qlibrary.tlines.straight_path import RouteStraight\n",
    "from qiskit_metal.toolbox_metal.parsing import *\n"
   ]
  },
  {
   "cell_type": "code",
   "execution_count": 2,
   "metadata": {},
   "outputs": [
    {
     "name": "stderr",
     "output_type": "stream",
     "text": [
      "01:43PM 39s CRITICAL [_qt_message_handler]: line: 0, func: None(), file: None  WARNING: Populating font family aliases took 163 ms. Replace uses of missing font family \"Courier\" with one that exists to avoid this cost. \n",
      "\n"
     ]
    },
    {
     "name": "stderr",
     "output_type": "stream",
     "text": [
      "2024-11-07 13:43:39.951 python[3309:1681169] +[IMKClient subclass]: chose IMKClient_Modern\n",
      "2024-11-07 13:43:39.951 python[3309:1681169] +[IMKInputSession subclass]: chose IMKInputSession_Modern\n"
     ]
    }
   ],
   "source": [
    "gui = MetalGUI(dp.design)\n",
    "design = dp.design\n",
    "design.overwrite_enabled = True"
   ]
  },
  {
   "cell_type": "code",
   "execution_count": 7,
   "metadata": {},
   "outputs": [],
   "source": [
    "default_options = Dict(\n",
    "        cut_l='1000um',\n",
    "        cut_h='1200um',\n",
    "        gap='55um',\n",
    "        w = '90um',\n",
    "        l = '900um',\n",
    "        r = '60um',\n",
    "        cpw_l = '50um',\n",
    "        coupling_gap = '30um',\n",
    "        JJ_cutout_w = '70um',\n",
    "        JJ_cutout_h = '70um',\n",
    "        JJ_cutout_r = '150um',\n",
    "        JJ_c_contact_l = '40um',\n",
    "        JJ_c_contact_r = '2.5um',\n",
    "        JJ_c_contact_w = '10um',\n",
    "        coupling_d = '200um',\n",
    "        coupling_pad_w = '90um',\n",
    "        coupling_r = '40um',\n",
    "        cpw_pin = '10um',\n",
    "        chip='main',\n",
    "        resolution = '10',\n",
    "        junction = 'False',\n",
    "        orientation = '0',\n",
    "        JJ_c_contact_shortl = '10um',\n",
    "        istunnel = 'False')"
   ]
  },
  {
   "cell_type": "markdown",
   "metadata": {},
   "source": [
    "## Calculate Qubit Params"
   ]
  },
  {
   "cell_type": "code",
   "execution_count": 8,
   "metadata": {},
   "outputs": [],
   "source": [
    "import Transmon_property as tp"
   ]
  },
  {
   "cell_type": "code",
   "execution_count": 10,
   "metadata": {},
   "outputs": [],
   "source": [
    "cap = 80*dp.u.fF\n",
    "fq, (w1,alpha) = tp.freq_from_cap(cap)"
   ]
  },
  {
   "cell_type": "code",
   "execution_count": 13,
   "metadata": {},
   "outputs": [
    {
     "data": {
      "text/latex": [
       "$4.6930574 \\; \\mathrm{GHz}$"
      ],
      "text/plain": [
       "<Quantity 4.69305741 GHz>"
      ]
     },
     "execution_count": 13,
     "metadata": {},
     "output_type": "execute_result"
    }
   ],
   "source": [
    "fq.to(dp.u.GHz)"
   ]
  },
  {
   "cell_type": "code",
   "execution_count": 14,
   "metadata": {},
   "outputs": [
    {
     "data": {
      "text/latex": [
       "$242.12787 \\; \\mathrm{MHz}$"
      ],
      "text/plain": [
       "<Quantity 242.12786656 MHz>"
      ]
     },
     "execution_count": 14,
     "metadata": {},
     "output_type": "execute_result"
    }
   ],
   "source": [
    "alpha.to(dp.u.MHz)"
   ]
  },
  {
   "cell_type": "code",
   "execution_count": 395,
   "metadata": {},
   "outputs": [],
   "source": [
    "import scqubits as scq\n",
    "import numpy as np\n",
    "import matplotlib.pyplot as plt\n",
    "import astropy.units as u\n",
    "import astropy.constants as c\n",
    "\n",
    "# Define the transmon parameters\n",
    "C = 60 * u.fF  # Capacitance in femtofarads\n",
    "L = 13 * u.nH  # Inductance in nanohenrys\n",
    "# Calculate the flux quantum Phi0\n",
    "Phi0 = (c.h / (2 * c.e.si))  # Flux quantum in Weber\n",
    "\n",
    "# Calculate the Josephson energy EJ and charging energy EC\n",
    "EJ = (((Phi0/2/np.pi)**2/L).to(u.J)/c.h).to(u.GHz)#, equivalencies=u.spectral())  # Convert to GHz\n",
    "EC = (c.e.si**2 / (2 * C)/c.h).to(u.GHz)\n",
    "ratio = 70\n",
    "def calculate_qubit_freq(L,ratio = ratio):\n",
    "    \n",
    "    EJ = (((Phi0/2/np.pi)**2/L).to(u.J)/c.h).to(u.GHz)\n",
    "    #, equivalencies=u.spectral())  # Convert to GHz\n",
    "    EC = EJ/ratio\n",
    "    ng = 0.0   # Offset charge\n",
    "    nlev = 10  # Number of energy levels to consider\n",
    "\n",
    "    # Print calculated EJ and EC\n",
    "    # print(f\"Calculated EJ (GHz): {EJ}\")\n",
    "    # print(f\"Calculated EC (GHz): {EC}\")\n",
    "\n",
    "    # Create a Transmon object\n",
    "    transmon = scq.Transmon(EJ=EJ.value, EC=EC.value, ng=ng, ncut=30, truncated_dim=nlev)\n",
    "\n",
    "    # Calculate the eigenenergies\n",
    "    eigenenergies = transmon.eigenvals()\n",
    "\n",
    "    # Calculate the transition frequencies (in GHz)\n",
    "    transition_frequencies = np.diff(eigenenergies)\n",
    "\n",
    "    # Calculate the anharmonicity (in GHz)\n",
    "    anharmonicity = transition_frequencies[1] - transition_frequencies[0]\n",
    "\n",
    "# Print the results\n",
    "    # print(f\"Transition frequencies (GHz): {transition_frequencies}\")\n",
    "    # print(f\"Anharmonicity (GHz): {anharmonicity}\")\n",
    "    # print('Ej/Ec', EJ/EC)\n",
    "    return transition_frequencies[0]#EJ,anharmonicity\n",
    "\n",
    "# Plot the energy levels\n",
    "# plt.figure(figsize=(8, 6))\n",
    "# plt.plot(eigenenergies, 'bo-', label='Eigenenergies')\n",
    "# plt.xlabel('Energy Level Index')\n",
    "# plt.ylabel('Energy (GHz)')\n",
    "# plt.title('Transmon Eigenenergies')\n",
    "# plt.legend()\n",
    "# plt.grid(True)\n",
    "# plt.show()"
   ]
  },
  {
   "cell_type": "code",
   "execution_count": 133,
   "metadata": {},
   "outputs": [
    {
     "data": {
      "text/plain": [
       "5.281322018983346"
      ]
     },
     "execution_count": 133,
     "metadata": {},
     "output_type": "execute_result"
    }
   ],
   "source": [
    "calculate_qubit_freq(10*u.nH)"
   ]
  },
  {
   "cell_type": "code",
   "execution_count": 134,
   "metadata": {},
   "outputs": [
    {
     "data": {
      "text/plain": [
       "0.28132201898334586"
      ]
     },
     "execution_count": 134,
     "metadata": {},
     "output_type": "execute_result"
    }
   ],
   "source": [
    "target_function(10,5)"
   ]
  },
  {
   "cell_type": "code",
   "execution_count": 174,
   "metadata": {},
   "outputs": [],
   "source": [
    "from scipy.optimize import root_scalar\n",
    "\n",
    "# Define the calculate_qubit_frequency function\n",
    "\n",
    "def target_function(L, desired_frequency, ratio):\n",
    "    L = L * u.nH  # Convert L to nanohenrys\n",
    "    calculated_frequency = calculate_qubit_freq(L, ratio)\n",
    "    return calculated_frequency - desired_frequency\n",
    "\n"
   ]
  },
  {
   "cell_type": "code",
   "execution_count": 175,
   "metadata": {},
   "outputs": [],
   "source": [
    "def inductance_to_cap(L,ratio = ratio):\n",
    "    EJ = (((Phi0/2/np.pi)**2/L).to(u.J)/c.h).to(u.GHz)\n",
    "    EC = EJ/ratio\n",
    "    return (c.e.si**2 / (2 * EC)/c.h).to(u.fF)"
   ]
  },
  {
   "cell_type": "code",
   "execution_count": null,
   "metadata": {},
   "outputs": [],
   "source": []
  },
  {
   "cell_type": "markdown",
   "metadata": {},
   "source": [
    "### Function to calculate capacitance, inductance based on qubit frequency"
   ]
  },
  {
   "cell_type": "code",
   "execution_count": 181,
   "metadata": {},
   "outputs": [],
   "source": [
    "# Desired qubit frequency\n",
    "def qubit_freq_to_cap(fq, ratio = 65):\n",
    "    desired_frequency = fq   # Desired frequency in GHz\n",
    "\n",
    "    # Use scipy.optimize.root_scalar to find the root\n",
    "    result = root_scalar(target_function, args=(desired_frequency,ratio), bracket=[1, 100], method='brentq')\n",
    "\n",
    "    # Print the result\n",
    "    if result.converged:\n",
    "        L_optimal = result.root\n",
    "        print(f\"Optimal inductance L: {L_optimal} nH\")\n",
    "    else:\n",
    "        print(\"Root finding did not converge\")\n",
    "    c_optimal = inductance_to_cap(L_optimal*u.nH, ratio = ratio)\n",
    "    return c_optimal, L_optimal*u.nH"
   ]
  },
  {
   "cell_type": "code",
   "execution_count": 182,
   "metadata": {},
   "outputs": [
    {
     "name": "stdout",
     "output_type": "stream",
     "text": [
      "Optimal inductance L: 15.630232544091612 nH\n"
     ]
    },
    {
     "data": {
      "text/plain": [
       "(<Quantity 120.39211514 fF>, <Quantity 15.63023254 nH>)"
      ]
     },
     "execution_count": 182,
     "metadata": {},
     "output_type": "execute_result"
    }
   ],
   "source": [
    "qubit_freq_to_cap(3.5*u.GHz, ratio = 65)"
   ]
  },
  {
   "cell_type": "code",
   "execution_count": null,
   "metadata": {},
   "outputs": [],
   "source": []
  },
  {
   "cell_type": "code",
   "execution_count": 264,
   "metadata": {},
   "outputs": [],
   "source": [
    "def inductance_to_cap(L,ratio = ratio):\n",
    "    EJ = (((Phi0/2/np.pi)**2/L).to(u.J)/c.h).to(u.GHz)\n",
    "    EC = EJ/ratio\n",
    "    return (c.e.si**2 / (2 * EC)/c.h).to(u.fF)\n",
    "\n",
    "def target_function(L, desired_frequency, ratio):\n",
    "    L = L * u.nH  # Convert L to nanohenrys\n",
    "    calculated_frequency = calculate_qubit_freq(L, ratio)\n",
    "    return calculated_frequency - desired_frequency\n",
    "\n",
    "class TransmonQubit():\n",
    "    def __init__(self, freq, ratio):\n",
    "        self.freq = freq\n",
    "        self.ratio = ratio\n",
    "        self.C = None,\n",
    "        self.L = None\n",
    "        self.EJ = None\n",
    "        self.EC = None\n",
    "        self.update_params()\n",
    "        self.alpha = self.EC\n",
    "        \n",
    "    def update_params(self):\n",
    "        self.C, self.L = qubit_freq_to_cap(self.freq, ratio = self.ratio)\n",
    "        Phi0 = (c.h / (2 * c.e.si))  # Flux quantum in Weber\n",
    "\n",
    "        # Calculate the Josephson energy EJ and charging energy EC\n",
    "        EJ = (((Phi0/2/np.pi)**2/self.L).to(u.J)/c.h).to(u.GHz)#, equivalencies=u.spectral())  # Convert to GHz\n",
    "        EC = (c.e.si**2 / (2 * self.C)/c.h).to(u.GHz)\n",
    "        self.EJ = EJ\n",
    "        self.EC = EC\n",
    "        \n",
    "    def get_params(self):\n",
    "        return [self.freq, self.ratio, self.qubit_capacitance, self.qubit_inductance, self.EJ, self.EC]\n",
    "    def get_qcap(self):\n",
    "        return self.C\n",
    "    \n",
    "    def get_qind(self):\n",
    "        return self.L\n",
    "    \n",
    "    def get_EJ(self):\n",
    "        return self.EJ\n",
    "    \n",
    "    def get_EC(self):\n",
    "        return self.EC\n",
    "    \n",
    "    def qubit_freq_to_cap(self, ):\n",
    "        desired_frequency = self.fq   # Desired frequency in GHz\n",
    "        ratio = self.ratio\n",
    "        # Use scipy.optimize.root_scalar to find the root\n",
    "        result = root_scalar(target_function, args=(desired_frequency,ratio), bracket=[1, 100], method='brentq')\n",
    "\n",
    "        # Print the result\n",
    "        if result.converged:\n",
    "            L_optimal = result.root\n",
    "            print(f\"Optimal inductance L: {L_optimal} nH\")\n",
    "        else:\n",
    "            print(\"Root finding did not converge\")\n",
    "        c_optimal = inductance_to_cap(L_optimal*u.nH, ratio = ratio)\n",
    "        return c_optimal, L_optimal*u.nH"
   ]
  },
  {
   "cell_type": "code",
   "execution_count": 265,
   "metadata": {},
   "outputs": [
    {
     "name": "stdout",
     "output_type": "stream",
     "text": [
      "Optimal inductance L: 9.117635650720107 nH\n"
     ]
    }
   ],
   "source": [
    "qubit = TransmonQubit(6*u.GHz, ratio = 65)"
   ]
  },
  {
   "cell_type": "code",
   "execution_count": 139,
   "metadata": {},
   "outputs": [],
   "source": [
    "result_L = []\n",
    "result_cap = []\n",
    "for desired_frequency in np.linspace(3,6,100):\n",
    "    result = root_scalar(target_function, args=(desired_frequency,), bracket=[1, 100], method='brentq')\n",
    "\n",
    "    # Print the result\n",
    "    if result.converged:\n",
    "        L_optimal = result.root\n",
    "        result_L += [L_optimal]\n",
    "        result_cap += [inductance_to_cap(L_optimal*u.nH).to(u.fF).value]\n",
    "        # print(f\"Optimal inductance L: {L_optimal} nH\")\n",
    "    else:\n",
    "        print(\"Root finding did not converge\")"
   ]
  },
  {
   "cell_type": "code",
   "execution_count": 140,
   "metadata": {},
   "outputs": [],
   "source": [
    "import matplotlib.pyplot as plt\n",
    "import numpy as np\n",
    "\n",
    "# Example data\n",
    "x = np.linspace(3,6,100)\n",
    "y1 = result_L\n",
    "y2 = result_cap\n",
    "\n",
    "# Create the figure and the first y-axis\n",
    "fig, ax1 = plt.subplots()\n",
    "\n",
    "# Plot the first variable\n",
    "ax1.plot(x, y1, 'b-', label='sin(x)')\n",
    "ax1.set_xlabel('Target Frequency (GHz)')\n",
    "ax1.set_ylabel('Inductance Value (nH)', color='b')\n",
    "ax1.tick_params(axis='y', labelcolor='b')\n",
    "\n",
    "# Create the second y-axis and plot the second variable\n",
    "ax2 = ax1.twinx()\n",
    "ax2.plot(x, y2, 'r--', label='cos(x)')\n",
    "ax2.set_ylabel('Capacitance (fF)', color='r')\n",
    "ax2.tick_params(axis='y', labelcolor='r')\n",
    "\n",
    "# Add legends\n",
    "ax1.legend(loc='upper left')\n",
    "ax2.legend(loc='upper right')\n",
    "\n",
    "# Add grid and title\n",
    "ax1.grid(True)\n",
    "plt.title('Plot with Two Different Y-Axes')\n",
    "\n",
    "# Show the plot\n",
    "plt.show()"
   ]
  },
  {
   "cell_type": "code",
   "execution_count": 141,
   "metadata": {},
   "outputs": [],
   "source": [
    "from Transmon_specifications import find_junction_area, find_junction_capacitance"
   ]
  },
  {
   "cell_type": "code",
   "execution_count": 142,
   "metadata": {},
   "outputs": [],
   "source": [
    "def pad_len_from_C(c):\n",
    "    slope = (900-500)/(101.367-61.365)\n",
    "    intercept = 500 - slope*61.365\n",
    "    \n",
    "    return slope*c.to(u.fF).value + intercept \n",
    "def unitless_find_j_area(L):\n",
    "    return find_junction_area(L*u.nH,Jc = 0.42*u.uA/u.um**2).to(u.um**2).value\n",
    "\n",
    "def unitless_find_pad_len(C):\n",
    "    slope = (900-500)/(101.367-61.365)\n",
    "    intercept = 500 - slope*61.365\n",
    "    \n",
    "    return slope*C + intercept"
   ]
  },
  {
   "cell_type": "code",
   "execution_count": 131,
   "metadata": {},
   "outputs": [],
   "source": [
    "import matplotlib.pyplot as plt\n",
    "import numpy as np\n",
    "\n",
    "# Example data\n",
    "x = np.linspace(3,6,100)\n",
    "y1 = np.array(result_L)\n",
    "y2 = np.array(result_cap)\n",
    "\n",
    "j_size = unitless_find_j_area(y1)\n",
    "c_size = unitless_find_pad_len(y2)\n",
    "\n",
    "# Create the figure and the first y-axis\n",
    "fig, ax1 = plt.subplots()\n",
    "\n",
    "# Plot the first variable\n",
    "ax1.plot(x, j_size, 'b-', label='sin(x)')\n",
    "ax1.set_xlabel('Target Frequency (GHz)')\n",
    "ax1.set_ylabel('Junction Size (um2)', color='b')\n",
    "ax1.tick_params(axis='y', labelcolor='b')\n",
    "\n",
    "# Create the second y-axis and plot the second variable\n",
    "ax2 = ax1.twinx()\n",
    "ax2.plot(x, c_size, 'r--', label='cos(x)')\n",
    "ax2.set_ylabel('Pad length (um)', color='r')\n",
    "ax2.tick_params(axis='y', labelcolor='r')\n",
    "\n",
    "# Add legends\n",
    "ax1.legend(loc='upper left')\n",
    "ax2.legend(loc='upper right')\n",
    "\n",
    "# Add grid and title\n",
    "ax1.grid(True)\n",
    "plt.title('Ej/Ec = 65')\n",
    "plt.savefig('Ej_Ec_65.png')\n",
    "# Show the plot\n",
    "plt.show()"
   ]
  },
  {
   "cell_type": "code",
   "execution_count": 114,
   "metadata": {},
   "outputs": [
    {
     "data": {
      "text/latex": [
       "$0.078358566 \\; \\mathrm{\\mu m^{2}}$"
      ],
      "text/plain": [
       "<Quantity 0.07835857 um2>"
      ]
     },
     "execution_count": 114,
     "metadata": {},
     "output_type": "execute_result"
    }
   ],
   "source": [
    "find_junction_area(10*u.nH, Jc = 0.42*u.uA/u.um**2)"
   ]
  },
  {
   "cell_type": "code",
   "execution_count": 118,
   "metadata": {},
   "outputs": [
    {
     "data": {
      "text/plain": [
       "19.362899999999996"
      ]
     },
     "execution_count": 118,
     "metadata": {},
     "output_type": "execute_result"
    }
   ],
   "source": [
    "pad_len_from_C(80*u.fF)"
   ]
  },
  {
   "cell_type": "code",
   "execution_count": 143,
   "metadata": {},
   "outputs": [],
   "source": [
    "def convert_capacitance_to_energy(capacitance):\n",
    "    C = capacitance*u.fF\n",
    "    return (c.e.si**2 / (2 * C)/c.h).to(u.GHz)\n",
    "\n",
    "def get_cap_params(caps, cj):\n",
    "    cap_matrix = copy.deepcopy(caps)\n",
    "    T = np.array([[1,0,-1,0],\n",
    "              [0,1,0,0],\n",
    "              [1,0,1,0],\n",
    "              [0,0,0,1]])\n",
    "    cap_matrix[0,2] -= cj\n",
    "    cap_matrix[2,0] -= cj\n",
    "    cap_matrix[2,2] += cj\n",
    "    cap_matrix[0,0] += cj\n",
    "    differential_cap_matrix = np.linalg.inv(T).T@(cap_matrix)@np.linalg.inv(T)\n",
    "    inverse = np.linalg.inv(differential_cap_matrix)\n",
    "    qubit_capacitance = np.reciprocal(inverse)[0,0]\n",
    "    coupling_capacitance = np.reciprocal(inverse)[0,1]\n",
    "    Ec = convert_capacitance_to_energy(qubit_capacitance)\n",
    "    g = 8*convert_capacitance_to_energy(coupling_capacitance).to(u.MHz)\n",
    "    return [Ec,g,qubit_capacitance,coupling_capacitance]\n",
    "    "
   ]
  },
  {
   "cell_type": "code",
   "execution_count": 146,
   "metadata": {},
   "outputs": [
    {
     "data": {
      "text/plain": [
       "[<Quantity 0.48425573 GHz>, <Quantity 0. MHz>, 40.0, inf]"
      ]
     },
     "execution_count": 146,
     "metadata": {},
     "output_type": "execute_result"
    }
   ],
   "source": [
    "get_cap_params(np.array([[80,0,0,0],[0,80,0,0],[0,0,80,0],[0,0,0,80]]),0.5)"
   ]
  },
  {
   "cell_type": "code",
   "execution_count": 147,
   "metadata": {},
   "outputs": [],
   "source": [
    "def g_from_cap(cap):\n",
    "    return 8*convert_capacitance_to_energy(cap).to(u.MHz)"
   ]
  },
  {
   "cell_type": "code",
   "execution_count": 153,
   "metadata": {},
   "outputs": [
    {
     "data": {
      "text/latex": [
       "$4802.634 \\; \\mathrm{MHz}$"
      ],
      "text/plain": [
       "<Quantity 4802.63403635 MHz>"
      ]
     },
     "execution_count": 153,
     "metadata": {},
     "output_type": "execute_result"
    }
   ],
   "source": [
    "(g_from_cap(50)**2/2/u.GHz).to(u.MHz)"
   ]
  },
  {
   "cell_type": "code",
   "execution_count": 157,
   "metadata": {},
   "outputs": [
    {
     "data": {
      "text/latex": [
       "$1.9416259 \\; \\mathrm{MHz}$"
      ],
      "text/plain": [
       "<Quantity 1.94162591 MHz>"
      ]
     },
     "execution_count": 157,
     "metadata": {},
     "output_type": "execute_result"
    }
   ],
   "source": [
    "(1/np.sqrt(500*u.us/300/u.MHz /np.pi/2).si).to(u.MHz)"
   ]
  },
  {
   "cell_type": "markdown",
   "metadata": {},
   "source": [
    "## Resonator calculations"
   ]
  },
  {
   "cell_type": "code",
   "execution_count": 207,
   "metadata": {},
   "outputs": [],
   "source": [
    "import astropy.units as u\n",
    "import astropy.constants as c\n",
    "import scipy.optimize as optimize\n",
    "\n",
    "# define constants for LL designs\n",
    "sub_t = 350*u.um #substrate thickness (Si in this case)\n",
    "metal_t = 100*u.nm #Deposited metal thickness (Al)\n",
    "Sc = 67*u.fF/(u.um)**2 #JJ specific capacitance\n",
    "epsilon = 11.45\n",
    "W_jj = 200*u.nm #junction width\n",
    "Z0 = 50*u.Ohm #characteristic impedance"
   ]
  },
  {
   "cell_type": "code",
   "execution_count": 208,
   "metadata": {},
   "outputs": [],
   "source": [
    "import qiskit_metal.analyses as analyses"
   ]
  },
  {
   "cell_type": "code",
   "execution_count": 226,
   "metadata": {},
   "outputs": [],
   "source": [
    "freq = 6*u.GHz.si\n",
    "line_width = 15*u.um\n",
    "line_gap = 8.30*u.um"
   ]
  },
  {
   "cell_type": "markdown",
   "metadata": {},
   "source": [
    "Optimal pin-gap ratio for resonator and feedlines"
   ]
  },
  {
   "cell_type": "code",
   "execution_count": 229,
   "metadata": {},
   "outputs": [],
   "source": [
    "def f(line_gap):\n",
    "    return(analyses.cpw_calculations.lumped_cpw(freq.to(u.Hz).value,\n",
    "                                     line_width.to(u.m).value,\n",
    "                                     line_gap,\n",
    "                                     sub_t.to(u.m).value,\n",
    "                                     metal_t.to(u.m).value)[4]-50)\n",
    "optimized_gap = optimize.fsolve(f,line_gap.si.value)[0]*u.m\n",
    "optimized_gap.to(u.um)"
   ]
  },
  {
   "cell_type": "code",
   "execution_count": null,
   "metadata": {},
   "outputs": [],
   "source": []
  },
  {
   "cell_type": "code",
   "execution_count": null,
   "metadata": {},
   "outputs": [],
   "source": [
    "freq = 6*u.GHz.si\n",
    "line_width = line_width\n",
    "line_gap = optimized_gap\n",
    "substrate_thickness = sub_t\n",
    "film_thickness = metal_t\n",
    "dielectric_constant = epsilon\n",
    "loss_tangent = 0.01\n",
    "london_penetration = 50*u.nm\n",
    "\n",
    "\n",
    "Lk, Lext,Cap,G_,Z0,etf,Cstar = analyses.cpw_calculations.lumped_cpw(freq = freq.to(u.Hz).value,\n",
    "                                     line_width=line_width.to(u.m).value,\n",
    "                                     line_gap=line_gap.to(u.m).value,\n",
    "                                     substrate_thickness=substrate_thickness.to(u.m).value,\n",
    "                                     film_thickness=film_thickness.to(u.m).value,\n",
    "                                     london_penetration_depth=london_penetration.to(u.m).value,)\n",
    "Lk*=u.H\n",
    "Lext*=u.H\n",
    "Cap*=u.F\n",
    "G_*=u.S\n",
    "Z0*=u.Ohm\n",
    "etf*=u.H/u.m\n",
    "Cstar*=u.F\n",
    "\n"
   ]
  },
  {
   "cell_type": "code",
   "execution_count": 238,
   "metadata": {},
   "outputs": [],
   "source": [
    "target_length = analyses.cpw_calculations.guided_wavelength(freq = freq.to(u.Hz).value,\n",
    "                                     line_width=line_width.to(u.m).value,\n",
    "                                     line_gap=line_gap.to(u.m).value,\n",
    "                                     substrate_thickness=substrate_thickness.to(u.m).value,\n",
    "                                     film_thickness=film_thickness.to(u.m).value,)[0]*u.m"
   ]
  },
  {
   "cell_type": "code",
   "execution_count": 246,
   "metadata": {},
   "outputs": [],
   "source": [
    "def param_from_res_freq(freq, short_on_one_end = False):\n",
    "    Lk, Lext,Cap,G_,Z0,etf,Cstar = analyses.cpw_calculations.lumped_cpw(freq = freq.to(u.Hz).value,\n",
    "                                     line_width=line_width.to(u.m).value,\n",
    "                                     line_gap=line_gap.to(u.m).value,\n",
    "                                     substrate_thickness=substrate_thickness.to(u.m).value,\n",
    "                                     film_thickness=film_thickness.to(u.m).value,\n",
    "                                     london_penetration_depth=london_penetration.to(u.m).value,)\n",
    "    Lk*=u.H\n",
    "    Lext*=u.H\n",
    "    Cap*=u.F\n",
    "    G_*=u.S\n",
    "    Z0*=u.Ohm\n",
    "    etf*=u.H/u.m\n",
    "    Cstar*=u.F\n",
    "    target_length = analyses.cpw_calculations.guided_wavelength(freq = freq.to(u.Hz).value,\n",
    "                                     line_width=line_width.to(u.m).value,\n",
    "                                     line_gap=line_gap.to(u.m).value,\n",
    "                                     substrate_thickness=substrate_thickness.to(u.m).value,\n",
    "                                     film_thickness=film_thickness.to(u.m).value,)[0]*u.m\n",
    "    if short_on_one_end:\n",
    "        target_length /= 4\n",
    "    else:\n",
    "        target_length /= 2\n",
    "    return Lk+Lext,Cap,target_length"
   ]
  },
  {
   "cell_type": "code",
   "execution_count": 498,
   "metadata": {},
   "outputs": [],
   "source": [
    "class ReadoutResonator():\n",
    "    def __init__(self, freq, short_on_one_end = False,optimal_pin = None, optimal_gap = None ):\n",
    "        self.freq = freq\n",
    "        self.short_on_one_end = short_on_one_end\n",
    "        self.substrate_thickness = 350*u.um\n",
    "        self.film_thickness = 100*u.nm\n",
    "        if (optimal_gap is None) and (optimal_pin is None):\n",
    "            self.pin = 15*u.um\n",
    "            self.optimize_gap()\n",
    "        elif optimal_gap is None:\n",
    "            self.pin = optimal_pin\n",
    "            self.optimize_gap()\n",
    "        elif optimal_pin is None:\n",
    "            self.gap = optimal_gap\n",
    "            self.optimize_pin()\n",
    "        \n",
    "        self.param_from_res_freq(freq, short_on_one_end = short_on_one_end)\n",
    "        \n",
    "    def get_params(self):\n",
    "        return [self.L, self.C, self.target_length]\n",
    "    \n",
    "    def get_L(self):\n",
    "        return self.L\n",
    "    \n",
    "    def get_C(self):\n",
    "        return self.C\n",
    "    \n",
    "    def get_target_length(self):\n",
    "        return self.target_length\n",
    "    \n",
    "    def param_from_res_freq(self,freq, short_on_one_end = False):\n",
    "        self.Lk, self.Lext,self.C,self.G,self.Z0,self.etf,self.Cstar = analyses.cpw_calculations.lumped_cpw(freq = self.freq.to(u.Hz).value,\n",
    "                                        line_width=self.pin.to(u.m).value,\n",
    "                                        line_gap=self.gap.to(u.m).value,\n",
    "                                        substrate_thickness=self.substrate_thickness.to(u.m).value,\n",
    "                                        film_thickness=self.film_thickness.to(u.m).value,)\n",
    "        self.Lk*=u.H\n",
    "        self.Lext*=u.H\n",
    "        self.C*=u.F\n",
    "        self.G*=u.S\n",
    "        self.Z0*=u.Ohm\n",
    "        self.etf*=u.H/u.m\n",
    "        self.Cstar*=u.F\n",
    "        target_length = analyses.cpw_calculations.guided_wavelength(freq = self.freq.to(u.Hz).value,\n",
    "                                        line_width=self.pin.to(u.m).value,\n",
    "                                        line_gap=self.gap.to(u.m).value,\n",
    "                                        substrate_thickness=self.substrate_thickness.to(u.m).value,\n",
    "                                        film_thickness=self.film_thickness.to(u.m).value,)[0]*u.m\n",
    "        if short_on_one_end:\n",
    "            target_length /= 4\n",
    "        else:\n",
    "            target_length /= 2\n",
    "        self.len = target_length\n",
    "    def optimize_gap(self):\n",
    "        def f(line_gap):\n",
    "            return(analyses.cpw_calculations.lumped_cpw(self.freq.to(u.Hz).value,\n",
    "                                            self.pin.to(u.m).value,\n",
    "                                            line_gap,\n",
    "                                            self.substrate_thickness.to(u.m).value,\n",
    "                                            self.film_thickness.to(u.m).value)[4]-50)\n",
    "        optimized_gap = optimize.fsolve(f,self.pin.si.value)[0]*u.m\n",
    "        self.gap = optimized_gap.to(u.um)\n",
    "    def optimize_pin(self):\n",
    "        def f(line_width):\n",
    "            return(analyses.cpw_calculations.lumped_cpw(self.freq.to(u.Hz).value,\n",
    "                                            line_width,\n",
    "                                            self.gap.si.value,\n",
    "                                            self.substrate_thickness.to(u.m).value,\n",
    "                                            self.film_thickness.to(u.m).value)[4]-50)\n",
    "        optimized_pin = optimize.fsolve(f,self.gap.si.value)[0]*u.m\n",
    "        self.pin = optimized_pin.to(u.um)"
   ]
  },
  {
   "cell_type": "code",
   "execution_count": 499,
   "metadata": {},
   "outputs": [],
   "source": [
    "res = ReadoutResonator(6*u.GHz, short_on_one_end = False, optimal_pin = 20*u.um)"
   ]
  },
  {
   "cell_type": "code",
   "execution_count": 500,
   "metadata": {},
   "outputs": [],
   "source": [
    "res.optimize_pin()"
   ]
  },
  {
   "cell_type": "code",
   "execution_count": 502,
   "metadata": {},
   "outputs": [
    {
     "data": {
      "text/latex": [
       "$11.109425 \\; \\mathrm{\\mu m}$"
      ],
      "text/plain": [
       "<Quantity 11.10942503 um>"
      ]
     },
     "execution_count": 502,
     "metadata": {},
     "output_type": "execute_result"
    }
   ],
   "source": [
    "res.gap"
   ]
  },
  {
   "cell_type": "code",
   "execution_count": 286,
   "metadata": {},
   "outputs": [
    {
     "name": "stdout",
     "output_type": "stream",
     "text": [
      "Optimal inductance L: 13.676453476080171 nH\n"
     ]
    }
   ],
   "source": [
    "qubit = TransmonQubit(4*u.GHz, ratio = 65)\n",
    "res = ReadoutResonator(6*u.GHz, short_on_one_end = False)"
   ]
  },
  {
   "cell_type": "code",
   "execution_count": 312,
   "metadata": {},
   "outputs": [
    {
     "data": {
      "text/latex": [
       "$5.8189989 \\times 10^{15} \\; \\mathrm{\\frac{1}{s^{2}}}$"
      ],
      "text/plain": [
       "<Quantity 5.81899891e+15 1 / s2>"
      ]
     },
     "execution_count": 312,
     "metadata": {},
     "output_type": "execute_result"
    }
   ],
   "source": [
    "(c.e.si**2*qubit.freq/c.hbar/res.C).si "
   ]
  },
  {
   "cell_type": "code",
   "execution_count": 288,
   "metadata": {},
   "outputs": [],
   "source": [
    "alpha = qubit.EC\n",
    "delta = qubit.freq-res.freq\n",
    "T1_limit = 5*u.ms"
   ]
  },
  {
   "cell_type": "code",
   "execution_count": 323,
   "metadata": {},
   "outputs": [],
   "source": [
    "def chi(C, qubit, resonator):\n",
    "    g_val = g(C,qubit, resonator)\n",
    "    delta = (qubit.freq-resonator.freq)*2*np.pi\n",
    "    sum_freq = (qubit.freq+resonator.freq)*2*np.pi\n",
    "    alpha = qubit.EC\n",
    "    return 2*g_val**2*(alpha/delta/(delta+alpha)+alpha/sum_freq/(sum_freq+alpha))\n",
    "# def kappa(alpha,g,delta):\n",
    "#     '''optimal SNR requires kappa approx 2 chi'''\n",
    "#     return 2*chi(alpha,g,delta)"
   ]
  },
  {
   "cell_type": "code",
   "execution_count": 324,
   "metadata": {},
   "outputs": [
    {
     "data": {
      "text/latex": [
       "$187.66334 \\; \\mathrm{MHz}$"
      ],
      "text/plain": [
       "<Quantity 187.66334404 MHz>"
      ]
     },
     "execution_count": 324,
     "metadata": {},
     "output_type": "execute_result"
    }
   ],
   "source": [
    "g(50*u.fF,qubit,res).to(u.MHz)"
   ]
  },
  {
   "cell_type": "code",
   "execution_count": 327,
   "metadata": {},
   "outputs": [
    {
     "data": {
      "text/latex": [
       "$0.031141742 \\; \\mathrm{MHz}$"
      ],
      "text/plain": [
       "<Quantity 0.03114174 MHz>"
      ]
     },
     "execution_count": 327,
     "metadata": {},
     "output_type": "execute_result"
    }
   ],
   "source": [
    "chi(30*u.fF,qubit,res).to(u.MHz)"
   ]
  },
  {
   "cell_type": "markdown",
   "metadata": {},
   "source": [
    "Args:\n",
    "        freq (float): The frequency of interest, in Hz\n",
    "        C_in (float): Effective capacitance between CPW and environment (from Q3D), in Farads\n",
    "        freq_res (float): Lowest resonant frequency of a CPW (from HFSS), in Hz\n",
    "        length (float): Length of the CPW readout resonator, in meters\n",
    "        res_width (float): Width of the resonator trace (center) line, in meters\n",
    "        res_gap (float): Width of resonator gap (dielectric space), in meters\n",
    "        eta (float): 2.0 for half-wavelength resonator; 4.0 for quarter-wavelength resonator\n",
    "\n",
    "    Returns:\n",
    "        float: Kappa value\n",
    "    \"\"\""
   ]
  },
  {
   "cell_type": "code",
   "execution_count": 345,
   "metadata": {},
   "outputs": [],
   "source": [
    "c = 30*u.fF"
   ]
  },
  {
   "cell_type": "code",
   "execution_count": 408,
   "metadata": {},
   "outputs": [],
   "source": [
    "def kappa(c_tr,res,):\n",
    "    return (analyses.em.kappa_calculation.kappa_in(res.freq.si.value,\n",
    "                                       c_tr.si.value,\n",
    "                                       res.freq.si.value)*u.Hz).to(u.MHz)"
   ]
  },
  {
   "cell_type": "code",
   "execution_count": 353,
   "metadata": {},
   "outputs": [
    {
     "data": {
      "text/latex": [
       "$0.30939721 \\; \\mathrm{MHz}$"
      ],
      "text/plain": [
       "<Quantity 0.30939721 MHz>"
      ]
     },
     "execution_count": 353,
     "metadata": {},
     "output_type": "execute_result"
    }
   ],
   "source": [
    "kappa(30*u.fF,res)"
   ]
  },
  {
   "cell_type": "code",
   "execution_count": 354,
   "metadata": {},
   "outputs": [],
   "source": []
  },
  {
   "cell_type": "code",
   "execution_count": 371,
   "metadata": {},
   "outputs": [
    {
     "data": {
      "text/latex": [
       "$5.1897577 \\; \\mathrm{ms}$"
      ],
      "text/plain": [
       "<Quantity 5.18975772 ms>"
      ]
     },
     "execution_count": 371,
     "metadata": {},
     "output_type": "execute_result"
    }
   ],
   "source": [
    "c_qr = 40*u.fF\n",
    "c_tr = 25*u.fF\n",
    "\n",
    "purcellT1(c_qr,c_tr,qubit,res).to(u.ms)"
   ]
  },
  {
   "cell_type": "code",
   "execution_count": 373,
   "metadata": {},
   "outputs": [
    {
     "name": "stdout",
     "output_type": "stream",
     "text": [
      "0.21485917317405873 MHz\n",
      "0.055363096881049116 MHz\n"
     ]
    },
    {
     "data": {
      "text/latex": [
       "$3.8809096 \\; \\mathrm{}$"
      ],
      "text/plain": [
       "<Quantity 3.88090958>"
      ]
     },
     "execution_count": 373,
     "metadata": {},
     "output_type": "execute_result"
    }
   ],
   "source": [
    "kappa_val = kappa(c_tr,res)\n",
    "chi_val = chi(c_qr,qubit,res)\n",
    "print(kappa_val.to(u.MHz))\n",
    "print(chi_val.to(u.MHz))\n",
    "\n",
    "(kappa_val/chi_val).si"
   ]
  },
  {
   "cell_type": "code",
   "execution_count": 374,
   "metadata": {},
   "outputs": [
    {
     "data": {
      "text/latex": [
       "$0.18387753 \\; \\mathrm{GHz}$"
      ],
      "text/plain": [
       "<Quantity 0.18387753 GHz>"
      ]
     },
     "execution_count": 374,
     "metadata": {},
     "output_type": "execute_result"
    }
   ],
   "source": [
    "qubit.alpha"
   ]
  },
  {
   "cell_type": "code",
   "execution_count": 381,
   "metadata": {},
   "outputs": [],
   "source": [
    "\n",
    "    "
   ]
  },
  {
   "cell_type": "code",
   "execution_count": 393,
   "metadata": {},
   "outputs": [
    {
     "data": {
      "text/latex": [
       "$4.9798592 \\; \\mathrm{ms}$"
      ],
      "text/plain": [
       "<Quantity 4.97985918 ms>"
      ]
     },
     "execution_count": 393,
     "metadata": {},
     "output_type": "execute_result"
    }
   ],
   "source": []
  },
  {
   "cell_type": "code",
   "execution_count": 404,
   "metadata": {},
   "outputs": [
    {
     "name": "stdout",
     "output_type": "stream",
     "text": [
      "Optimal inductance L: 13.676453476080171 nH\n"
     ]
    }
   ],
   "source": [
    "qubit = TransmonQubit(4*u.GHz, ratio = 65)\n",
    "res = ReadoutResonator(6*u.GHz, short_on_one_end = False)\n",
    "\n"
   ]
  },
  {
   "cell_type": "code",
   "execution_count": 405,
   "metadata": {},
   "outputs": [
    {
     "data": {
      "text/latex": [
       "$5.0218388 \\; \\mathrm{ms}$"
      ],
      "text/plain": [
       "<Quantity 5.02183879 ms>"
      ]
     },
     "execution_count": 405,
     "metadata": {},
     "output_type": "execute_result"
    }
   ],
   "source": [
    "c_qr = optimal_cqr(5*u.ms,qubit,res)\n",
    "purcellT1q(c_qr,qubit,res).to(u.ms)"
   ]
  },
  {
   "cell_type": "code",
   "execution_count": 406,
   "metadata": {},
   "outputs": [
    {
     "data": {
      "text/latex": [
       "$0.078399681 \\; \\mathrm{MHz}$"
      ],
      "text/plain": [
       "<Quantity 0.07839968 MHz>"
      ]
     },
     "execution_count": 406,
     "metadata": {},
     "output_type": "execute_result"
    }
   ],
   "source": [
    "chi(c_qr,qubit,res).to(u.MHz)"
   ]
  },
  {
   "cell_type": "code",
   "execution_count": 419,
   "metadata": {},
   "outputs": [],
   "source": [
    "kappa_val = 2*chi(c_qr,qubit,res).to(u.MHz)"
   ]
  },
  {
   "cell_type": "code",
   "execution_count": 420,
   "metadata": {},
   "outputs": [
    {
     "data": {
      "text/latex": [
       "$0.15679936 \\; \\mathrm{MHz}$"
      ],
      "text/plain": [
       "<Quantity 0.15679936 MHz>"
      ]
     },
     "execution_count": 420,
     "metadata": {},
     "output_type": "execute_result"
    }
   ],
   "source": [
    "kappa_val"
   ]
  },
  {
   "cell_type": "code",
   "execution_count": 414,
   "metadata": {},
   "outputs": [],
   "source": []
  },
  {
   "cell_type": "code",
   "execution_count": 415,
   "metadata": {},
   "outputs": [
    {
     "data": {
      "text/latex": [
       "$21.4 \\; \\mathrm{fF}$"
      ],
      "text/plain": [
       "<Quantity 21.4 fF>"
      ]
     },
     "execution_count": 415,
     "metadata": {},
     "output_type": "execute_result"
    }
   ],
   "source": [
    "optimal_ctr(2*chi(c_qr,qubit,res).si,qubit,res)"
   ]
  },
  {
   "cell_type": "code",
   "execution_count": 416,
   "metadata": {},
   "outputs": [
    {
     "data": {
      "text/latex": [
       "$0.21485917 \\; \\mathrm{MHz}$"
      ],
      "text/plain": [
       "<Quantity 0.21485917 MHz>"
      ]
     },
     "execution_count": 416,
     "metadata": {},
     "output_type": "execute_result"
    }
   ],
   "source": [
    "kappa(25*u.fF,res)"
   ]
  },
  {
   "cell_type": "code",
   "execution_count": 457,
   "metadata": {},
   "outputs": [],
   "source": [
    "class DispersiveReadout():\n",
    "    def __init__(self, qubit, res, T1, c_qr = None, c_tr = None):\n",
    "        self.qubit = qubit\n",
    "        self.res = res\n",
    "        self.pT1 = T1\n",
    "        self.optimize_cqr()\n",
    "        self.optimize_ctr()\n",
    "        \n",
    "    def get_params(self):\n",
    "        return [self.qubit, self.res, self.c_qr, self.c_tr]\n",
    "    \n",
    "    def get_cqr(self):\n",
    "        return self.c_qr\n",
    "    \n",
    "    def get_ctr(self):\n",
    "        return self.c_tr\n",
    "    \n",
    "    def get_qubit(self):\n",
    "        return self.qubit\n",
    "    \n",
    "    def get_res(self):\n",
    "        return self.res\n",
    "    def calc_g(self):\n",
    "        c_qr = self.c_qr\n",
    "        Cq = self.qubit.C\n",
    "        Cr = self.res.C\n",
    "        wq = self.qubit.freq*np.pi*2\n",
    "        wr = self.res.freq*np.pi*2\n",
    "        EJ = self.qubit.EJ\n",
    "        EC = self.qubit.EC\n",
    "        return c_qr/Cq*np.sqrt(c.e.si**2*wr/c.hbar/Cr)*(EJ/8/EC)**0.25\n",
    "    def calc_kappa(self):\n",
    "        res = self.res\n",
    "        c_tr = self.c_tr\n",
    "        return (analyses.em.kappa_calculation.kappa_in(res.freq.si.value,\n",
    "                                       c_tr.si.value,\n",
    "                                       res.freq.si.value)*u.Hz).to(u.MHz)\n",
    "    def calc_chi(self):\n",
    "        qubit = self.qubit\n",
    "        resonator = self.res\n",
    "        g_val = self.calc_g()\n",
    "        delta = (qubit.freq-resonator.freq)*2*np.pi\n",
    "        sum_freq = (qubit.freq+resonator.freq)*2*np.pi\n",
    "        alpha = qubit.EC\n",
    "        return 2*g_val**2*(alpha/delta/(delta+alpha)+alpha/sum_freq/(sum_freq+alpha))\n",
    "    def calc_purcellT1(self,):\n",
    "        qubit = self.qubit\n",
    "        res = self.res\n",
    "        kappa_val = self.calc_kappa()\n",
    "        g_val = self.calc_g()\n",
    "        delta = (qubit.freq-res.freq)*2*np.pi\n",
    "        \n",
    "        purcellGamma = g_val**2*kappa_val/delta**2\n",
    "        \n",
    "        return 1/purcellGamma/2/np.pi\n",
    "    def calc_purcellT1q(self,):\n",
    "        '''taking kappa = 2*chi for the optimal SNR, can directly get the T1q'''\n",
    "        c_qr = self.c_qr\n",
    "        qubit = self.qubit\n",
    "        res = self.res\n",
    "        g_val = self.calc_g()\n",
    "        delta = (qubit.freq-res.freq)*2*np.pi\n",
    "        \n",
    "        chi_val = self.calc_chi()\n",
    "        kappa_val = chi_val*2\n",
    "        \n",
    "        purcellGamma = g_val**2*kappa_val/delta**2\n",
    "        \n",
    "        return 1/purcellGamma/2/np.pi\n",
    "    def optimize_cqr(self,):\n",
    "        '''find the optimal coupling capacitance'''\n",
    "        target_t1 = self.pT1\n",
    "        c_qr = 1*u.fF\n",
    "        self.c_qr = c_qr\n",
    "        while self.calc_purcellT1q().to(u.ms) > 1.01*target_t1:\n",
    "            c_qr += .1*u.fF\n",
    "            self.c_qr = c_qr\n",
    "        return c_qr\n",
    "    def optimize_ctr(self, target_kappa=None):\n",
    "        '''find the optimal coupling capacitance'''\n",
    "        if target_kappa is None:\n",
    "            target_kappa = self.calc_chi()*2\n",
    "        c_tr = 1*u.fF\n",
    "        self.c_tr = c_tr\n",
    "        while kappa(c_tr,res) < target_kappa:\n",
    "            c_tr += .1*u.fF\n",
    "            self.c_tr = c_tr\n",
    "        # return c_tr\n"
   ]
  },
  {
   "cell_type": "code",
   "execution_count": 461,
   "metadata": {},
   "outputs": [
    {
     "name": "stdout",
     "output_type": "stream",
     "text": [
      "Optimal inductance L: 13.676453476080171 nH\n"
     ]
    }
   ],
   "source": [
    "qubit = TransmonQubit(4*u.GHz, ratio = 65)\n",
    "res = ReadoutResonator(6*u.GHz, short_on_one_end = False)\n",
    "dr = DispersiveReadout(qubit,res,5*u.ms)"
   ]
  },
  {
   "cell_type": "code",
   "execution_count": 466,
   "metadata": {},
   "outputs": [
    {
     "data": {
      "text/latex": [
       "$178.6555 \\; \\mathrm{MHz}$"
      ],
      "text/plain": [
       "<Quantity 178.65550352 MHz>"
      ]
     },
     "execution_count": 466,
     "metadata": {},
     "output_type": "execute_result"
    }
   ],
   "source": [
    "dr.calc_g().to(u.MHz)"
   ]
  },
  {
   "cell_type": "code",
   "execution_count": 468,
   "metadata": {},
   "outputs": [
    {
     "data": {
      "text/latex": [
       "$0.078399681 \\; \\mathrm{MHz}$"
      ],
      "text/plain": [
       "<Quantity 0.07839968 MHz>"
      ]
     },
     "execution_count": 468,
     "metadata": {},
     "output_type": "execute_result"
    }
   ],
   "source": [
    "dr.calc_chi().to(u.MHz)"
   ]
  },
  {
   "cell_type": "code",
   "execution_count": 470,
   "metadata": {},
   "outputs": [
    {
     "data": {
      "text/latex": [
       "$21.4 \\; \\mathrm{fF}$"
      ],
      "text/plain": [
       "<Quantity 21.4 fF>"
      ]
     },
     "execution_count": 470,
     "metadata": {},
     "output_type": "execute_result"
    }
   ],
   "source": [
    "dr.c_tr"
   ]
  },
  {
   "cell_type": "code",
   "execution_count": 474,
   "metadata": {},
   "outputs": [
    {
     "data": {
      "text/latex": [
       "$0.18387753 \\; \\mathrm{GHz}$"
      ],
      "text/plain": [
       "<Quantity 0.18387753 GHz>"
      ]
     },
     "execution_count": 474,
     "metadata": {},
     "output_type": "execute_result"
    }
   ],
   "source": [
    "qubit.EC"
   ]
  },
  {
   "cell_type": "code",
   "execution_count": 170,
   "metadata": {},
   "outputs": [
    {
     "name": "stdout",
     "output_type": "stream",
     "text": [
      "0.3069980123839465 MHz\n",
      "4.97510952125234 MHz\n"
     ]
    }
   ],
   "source": [
    "alpha = 150*u.MHz\n",
    "delta = 2*u.GHz\n",
    "T1 = 5*u.ms\n",
    "\n",
    "chi = np.sqrt(alpha/2/T1*np.pi*2).to(u.MHz)\n",
    "\n",
    "g = np.sqrt(chi*alpha/delta*(delta+alpha)/2).to(u.MHz)\n",
    "\n",
    "print(chi)\n",
    "print(g)"
   ]
  },
  {
   "cell_type": "code",
   "execution_count": 173,
   "metadata": {},
   "outputs": [
    {
     "name": "stdout",
     "output_type": "stream",
     "text": [
      "0.5812980116145732 fF\n"
     ]
    }
   ],
   "source": [
    "w_r = 6.5*u.GHz\n",
    "Zr = 50 * u.ohm\n",
    "kappa = chi*2\n",
    "\n",
    "C = (kappa*2/Zr/w_r**2).to(u.fF)\n",
    "print(C)\n"
   ]
  },
  {
   "cell_type": "code",
   "execution_count": 478,
   "metadata": {},
   "outputs": [],
   "source": [
    "import numpy as np\n",
    "import matplotlib.pyplot as plt\n",
    "\n",
    "def mandelbrot(width, height, x_min=-2.0, x_max=1.0, y_min=-1.5, y_max=1.5, max_iter=100):\n",
    "    \"\"\"\n",
    "    Generate the Mandelbrot set and return it as a 2D array.\n",
    "\n",
    "    Parameters:\n",
    "        width (int): Width of the output array (number of pixels in the x direction).\n",
    "        height (int): Height of the output array (number of pixels in the y direction).\n",
    "        x_min (float): Minimum x-coordinate of the view.\n",
    "        x_max (float): Maximum x-coordinate of the view.\n",
    "        y_min (float): Minimum y-coordinate of the view.\n",
    "        y_max (float): Maximum y-coordinate of the view.\n",
    "        max_iter (int): Maximum number of iterations to determine divergence.\n",
    "\n",
    "    Returns:\n",
    "        np.ndarray: 2D array representing the Mandelbrot set.\n",
    "    \"\"\"\n",
    "    # Create an array to store the Mandelbrot set data\n",
    "    mandelbrot_set = np.zeros((height, width))\n",
    "\n",
    "    # Create a grid of complex numbers over the specified range\n",
    "    x_values = np.linspace(x_min, x_max, width)\n",
    "    y_values = np.linspace(y_min, y_max, height)\n",
    "\n",
    "    for i, y in enumerate(y_values):\n",
    "        for j, x in enumerate(x_values):\n",
    "            c = complex(x, y)\n",
    "            z = 0\n",
    "            iteration = 0\n",
    "\n",
    "            # Iterate to determine if the point is in the Mandelbrot set\n",
    "            while abs(z) <= 2 and iteration < max_iter:\n",
    "                z = z*z + c\n",
    "                iteration += 1\n",
    "\n",
    "            # Store the iteration count (color intensity)\n",
    "            mandelbrot_set[i, j] = iteration\n",
    "\n",
    "    return mandelbrot_set\n",
    "\n",
    "# Plotting function for the Mandelbrot set\n",
    "def plot_mandelbrot(mandelbrot_set):\n",
    "    plt.imshow(mandelbrot_set, cmap='twilight', extent=(-2, 1, -1.5, 1.5))\n",
    "    plt.colorbar(label=\"Iteration Count\")\n",
    "    plt.title(\"Mandelbrot Set\")\n",
    "    plt.xlabel(\"Re(c)\")\n",
    "    plt.ylabel(\"Im(c)\")\n",
    "    plt.show()\n",
    "\n",
    "# Generate and plot the Mandelbrot set\n",
    "width, height = 1000, 1000\n",
    "mandelbrot_set = mandelbrot(width, height)\n",
    "plot_mandelbrot(mandelbrot_set)\n"
   ]
  },
  {
   "cell_type": "code",
   "execution_count": null,
   "metadata": {},
   "outputs": [],
   "source": []
  }
 ],
 "metadata": {
  "kernelspec": {
   "display_name": "qmetal",
   "language": "python",
   "name": "qmetal"
  },
  "language_info": {
   "codemirror_mode": {
    "name": "ipython",
    "version": 3
   },
   "file_extension": ".py",
   "mimetype": "text/x-python",
   "name": "python",
   "nbconvert_exporter": "python",
   "pygments_lexer": "ipython3",
   "version": "3.10.8"
  }
 },
 "nbformat": 4,
 "nbformat_minor": 2
}
