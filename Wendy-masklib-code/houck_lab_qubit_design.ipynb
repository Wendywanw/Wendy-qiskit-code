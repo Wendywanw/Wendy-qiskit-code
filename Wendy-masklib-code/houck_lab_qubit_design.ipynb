{
 "cells": [
  {
   "cell_type": "code",
   "execution_count": 3,
   "metadata": {},
   "outputs": [],
   "source": [
    "%reload_ext autoreload\n",
    "%autoreload 2\n",
    "\n",
    "import sys\n",
    "\n",
    "sys.path.append('../Customized_Components') #this path is not right for this PC. Maybne this will work?\n",
    "from bandaged_dolan import DolanJunctionBandage\n",
    "from houcklab_qubit import DiffTransmonRounded\n",
    "\n",
    "import warnings\n",
    "\n",
    "import shapely\n",
    "from CoupledLineTee import CoupledLineTee\n",
    "from dolan_junction import DolanJunction\n",
    "from LaunchpadWirebondCustom import LaunchpadWirebondCustom\n",
    "from shapely.errors import ShapelyDeprecationWarning\n",
    "from single_pad_transmon_pocket import TransmonPocket_Single\n",
    "\n",
    "warnings.filterwarnings(\"ignore\", category=ShapelyDeprecationWarning)\n",
    "from collections import OrderedDict\n",
    "\n",
    "import Default_res_params as dp\n",
    "import matplotlib.pyplot as plt\n",
    "import numpy as np\n",
    "import pandas as pd\n",
    "import copy\n",
    "\n",
    "# from qiskit_metal.qlibrary.couplers.coupled_line_tee import CoupledLineTee\n",
    "# from qiskit_metal.qlibrary.terminations.launchpad_wb import LaunchpadWirebond\n",
    "import pyEPR as epr\n",
    "from qiskit_metal import Dict, Headings, MetalGUI, designs, draw\n",
    "from qiskit_metal.qlibrary.terminations.open_to_ground import OpenToGround\n",
    "from qiskit_metal.qlibrary.terminations.short_to_ground import ShortToGround\n",
    "from qiskit_metal.qlibrary.tlines.anchored_path import RouteAnchors\n",
    "from qiskit_metal.qlibrary.tlines.mixed_path import RouteMeander, RouteMixed\n",
    "from qiskit_metal.qlibrary.tlines.straight_path import RouteStraight\n",
    "from qiskit_metal.toolbox_metal.parsing import *\n"
   ]
  },
  {
   "cell_type": "code",
   "execution_count": 2,
   "metadata": {},
   "outputs": [
    {
     "name": "stderr",
     "output_type": "stream",
     "text": [
      "01:43PM 39s CRITICAL [_qt_message_handler]: line: 0, func: None(), file: None  WARNING: Populating font family aliases took 163 ms. Replace uses of missing font family \"Courier\" with one that exists to avoid this cost. \n",
      "\n"
     ]
    },
    {
     "name": "stderr",
     "output_type": "stream",
     "text": [
      "2024-11-07 13:43:39.951 python[3309:1681169] +[IMKClient subclass]: chose IMKClient_Modern\n",
      "2024-11-07 13:43:39.951 python[3309:1681169] +[IMKInputSession subclass]: chose IMKInputSession_Modern\n"
     ]
    }
   ],
   "source": [
    "gui = MetalGUI(dp.design)\n",
    "design = dp.design\n",
    "design.overwrite_enabled = True"
   ]
  },
  {
   "cell_type": "code",
   "execution_count": 7,
   "metadata": {},
   "outputs": [],
   "source": [
    "default_options = Dict(\n",
    "        cut_l='1000um',\n",
    "        cut_h='1200um',\n",
    "        gap='55um',\n",
    "        w = '90um',\n",
    "        l = '900um',\n",
    "        r = '60um',\n",
    "        cpw_l = '50um',\n",
    "        coupling_gap = '30um',\n",
    "        JJ_cutout_w = '70um',\n",
    "        JJ_cutout_h = '70um',\n",
    "        JJ_cutout_r = '150um',\n",
    "        JJ_c_contact_l = '40um',\n",
    "        JJ_c_contact_r = '2.5um',\n",
    "        JJ_c_contact_w = '10um',\n",
    "        coupling_d = '200um',\n",
    "        coupling_pad_w = '90um',\n",
    "        coupling_r = '40um',\n",
    "        cpw_pin = '10um',\n",
    "        chip='main',\n",
    "        resolution = '10',\n",
    "        junction = 'False',\n",
    "        orientation = '0',\n",
    "        JJ_c_contact_shortl = '10um',\n",
    "        istunnel = 'False')"
   ]
  },
  {
   "cell_type": "markdown",
   "metadata": {},
   "source": [
    "## Calculate Qubit Params"
   ]
  },
  {
   "cell_type": "code",
   "execution_count": 8,
   "metadata": {},
   "outputs": [],
   "source": [
    "import Transmon_property as tp"
   ]
  },
  {
   "cell_type": "code",
   "execution_count": 10,
   "metadata": {},
   "outputs": [],
   "source": [
    "cap = 80*dp.u.fF\n",
    "fq, (w1,alpha) = tp.freq_from_cap(cap)"
   ]
  },
  {
   "cell_type": "code",
   "execution_count": 13,
   "metadata": {},
   "outputs": [
    {
     "data": {
      "text/latex": [
       "$4.6930574 \\; \\mathrm{GHz}$"
      ],
      "text/plain": [
       "<Quantity 4.69305741 GHz>"
      ]
     },
     "execution_count": 13,
     "metadata": {},
     "output_type": "execute_result"
    }
   ],
   "source": [
    "fq.to(dp.u.GHz)"
   ]
  },
  {
   "cell_type": "code",
   "execution_count": 14,
   "metadata": {},
   "outputs": [
    {
     "data": {
      "text/latex": [
       "$242.12787 \\; \\mathrm{MHz}$"
      ],
      "text/plain": [
       "<Quantity 242.12786656 MHz>"
      ]
     },
     "execution_count": 14,
     "metadata": {},
     "output_type": "execute_result"
    }
   ],
   "source": [
    "alpha.to(dp.u.MHz)"
   ]
  },
  {
   "cell_type": "code",
   "execution_count": 6,
   "metadata": {},
   "outputs": [],
   "source": [
    "import scqubits as scq\n",
    "import numpy as np\n",
    "import matplotlib.pyplot as plt\n",
    "import astropy.units as u\n",
    "import astropy.constants as c\n",
    "\n",
    "# Define the transmon parameters\n",
    "C = 60 * u.fF  # Capacitance in femtofarads\n",
    "L = 13 * u.nH  # Inductance in nanohenrys\n",
    "# Calculate the flux quantum Phi0\n",
    "Phi0 = (c.h / (2 * c.e.si))  # Flux quantum in Weber\n",
    "\n",
    "# Calculate the Josephson energy EJ and charging energy EC\n",
    "EJ = (((Phi0/2/np.pi)**2/L).to(u.J)/c.h).to(u.GHz)#, equivalencies=u.spectral())  # Convert to GHz\n",
    "EC = (c.e.si**2 / (2 * C)/c.h).to(u.GHz)\n",
    "ratio = 70\n",
    "def calculate_qubit_freq(L,ratio = ratio):\n",
    "    \n",
    "    EJ = (((Phi0/2/np.pi)**2/L).to(u.J)/c.h).to(u.GHz)\n",
    "    #, equivalencies=u.spectral())  # Convert to GHz\n",
    "    EC = EJ/ratio\n",
    "    ng = 0.0   # Offset charge\n",
    "    nlev = 10  # Number of energy levels to consider\n",
    "\n",
    "    # Print calculated EJ and EC\n",
    "    # print(f\"Calculated EJ (GHz): {EJ}\")\n",
    "    # print(f\"Calculated EC (GHz): {EC}\")\n",
    "\n",
    "    # Create a Transmon object\n",
    "    transmon = scq.Transmon(EJ=EJ.value, EC=EC.value, ng=ng, ncut=30, truncated_dim=nlev)\n",
    "\n",
    "    # Calculate the eigenenergies\n",
    "    eigenenergies = transmon.eigenvals()\n",
    "\n",
    "    # Calculate the transition frequencies (in GHz)\n",
    "    transition_frequencies = np.diff(eigenenergies)\n",
    "\n",
    "    # Calculate the anharmonicity (in GHz)\n",
    "    anharmonicity = transition_frequencies[1] - transition_frequencies[0]\n",
    "\n",
    "# Print the results\n",
    "    # print(f\"Transition frequencies (GHz): {transition_frequencies}\")\n",
    "    # print(f\"Anharmonicity (GHz): {anharmonicity}\")\n",
    "    # print('Ej/Ec', EJ/EC)\n",
    "    return transition_frequencies[0]#EJ,anharmonicity\n",
    "\n",
    "# Plot the energy levels\n",
    "# plt.figure(figsize=(8, 6))\n",
    "# plt.plot(eigenenergies, 'bo-', label='Eigenenergies')\n",
    "# plt.xlabel('Energy Level Index')\n",
    "# plt.ylabel('Energy (GHz)')\n",
    "# plt.title('Transmon Eigenenergies')\n",
    "# plt.legend()\n",
    "# plt.grid(True)\n",
    "# plt.show()"
   ]
  },
  {
   "cell_type": "code",
   "execution_count": 133,
   "metadata": {},
   "outputs": [
    {
     "data": {
      "text/plain": [
       "5.281322018983346"
      ]
     },
     "execution_count": 133,
     "metadata": {},
     "output_type": "execute_result"
    }
   ],
   "source": [
    "calculate_qubit_freq(10*u.nH)"
   ]
  },
  {
   "cell_type": "code",
   "execution_count": 134,
   "metadata": {},
   "outputs": [
    {
     "data": {
      "text/plain": [
       "0.28132201898334586"
      ]
     },
     "execution_count": 134,
     "metadata": {},
     "output_type": "execute_result"
    }
   ],
   "source": [
    "target_function(10,5)"
   ]
  },
  {
   "cell_type": "code",
   "execution_count": 135,
   "metadata": {},
   "outputs": [],
   "source": [
    "from scipy.optimize import root_scalar\n",
    "\n",
    "# Define the calculate_qubit_frequency function\n",
    "\n",
    "def target_function(L, desired_frequency):\n",
    "    L = L * u.nH  # Convert L to nanohenrys\n",
    "    calculated_frequency = calculate_qubit_freq(L)\n",
    "    return calculated_frequency - desired_frequency\n",
    "\n"
   ]
  },
  {
   "cell_type": "code",
   "execution_count": 136,
   "metadata": {},
   "outputs": [
    {
     "name": "stdout",
     "output_type": "stream",
     "text": [
      "Optimal inductance L: 15.08949148280957 nH\n"
     ]
    }
   ],
   "source": [
    "# Desired qubit frequency\n",
    "desired_frequency = 3.5   # Desired frequency in GHz\n",
    "\n",
    "# Use scipy.optimize.root_scalar to find the root\n",
    "result = root_scalar(target_function, args=(desired_frequency,), bracket=[1, 100], method='brentq')\n",
    "\n",
    "# Print the result\n",
    "if result.converged:\n",
    "    L_optimal = result.root\n",
    "    print(f\"Optimal inductance L: {L_optimal} nH\")\n",
    "else:\n",
    "    print(\"Root finding did not converge\")"
   ]
  },
  {
   "cell_type": "code",
   "execution_count": 137,
   "metadata": {},
   "outputs": [],
   "source": [
    "def inductance_to_cap(L,ratio = ratio):\n",
    "    EJ = (((Phi0/2/np.pi)**2/L).to(u.J)/c.h).to(u.GHz)\n",
    "    EC = EJ/ratio\n",
    "    return (c.e.si**2 / (2 * EC)/c.h).to(u.fF)"
   ]
  },
  {
   "cell_type": "code",
   "execution_count": 138,
   "metadata": {},
   "outputs": [
    {
     "data": {
      "text/latex": [
       "$125.16759 \\; \\mathrm{fF}$"
      ],
      "text/plain": [
       "<Quantity 125.16759069 fF>"
      ]
     },
     "execution_count": 138,
     "metadata": {},
     "output_type": "execute_result"
    }
   ],
   "source": [
    "inductance_to_cap(L_optimal*u.nH)"
   ]
  },
  {
   "cell_type": "code",
   "execution_count": null,
   "metadata": {},
   "outputs": [],
   "source": []
  },
  {
   "cell_type": "code",
   "execution_count": 139,
   "metadata": {},
   "outputs": [],
   "source": [
    "result_L = []\n",
    "result_cap = []\n",
    "for desired_frequency in np.linspace(3,6,100):\n",
    "    result = root_scalar(target_function, args=(desired_frequency,), bracket=[1, 100], method='brentq')\n",
    "\n",
    "    # Print the result\n",
    "    if result.converged:\n",
    "        L_optimal = result.root\n",
    "        result_L += [L_optimal]\n",
    "        result_cap += [inductance_to_cap(L_optimal*u.nH).to(u.fF).value]\n",
    "        # print(f\"Optimal inductance L: {L_optimal} nH\")\n",
    "    else:\n",
    "        print(\"Root finding did not converge\")"
   ]
  },
  {
   "cell_type": "code",
   "execution_count": 140,
   "metadata": {},
   "outputs": [],
   "source": [
    "import matplotlib.pyplot as plt\n",
    "import numpy as np\n",
    "\n",
    "# Example data\n",
    "x = np.linspace(3,6,100)\n",
    "y1 = result_L\n",
    "y2 = result_cap\n",
    "\n",
    "# Create the figure and the first y-axis\n",
    "fig, ax1 = plt.subplots()\n",
    "\n",
    "# Plot the first variable\n",
    "ax1.plot(x, y1, 'b-', label='sin(x)')\n",
    "ax1.set_xlabel('Target Frequency (GHz)')\n",
    "ax1.set_ylabel('Inductance Value (nH)', color='b')\n",
    "ax1.tick_params(axis='y', labelcolor='b')\n",
    "\n",
    "# Create the second y-axis and plot the second variable\n",
    "ax2 = ax1.twinx()\n",
    "ax2.plot(x, y2, 'r--', label='cos(x)')\n",
    "ax2.set_ylabel('Capacitance (fF)', color='r')\n",
    "ax2.tick_params(axis='y', labelcolor='r')\n",
    "\n",
    "# Add legends\n",
    "ax1.legend(loc='upper left')\n",
    "ax2.legend(loc='upper right')\n",
    "\n",
    "# Add grid and title\n",
    "ax1.grid(True)\n",
    "plt.title('Plot with Two Different Y-Axes')\n",
    "\n",
    "# Show the plot\n",
    "plt.show()"
   ]
  },
  {
   "cell_type": "code",
   "execution_count": 141,
   "metadata": {},
   "outputs": [],
   "source": [
    "from Transmon_specifications import find_junction_area, find_junction_capacitance"
   ]
  },
  {
   "cell_type": "code",
   "execution_count": 142,
   "metadata": {},
   "outputs": [],
   "source": [
    "def pad_len_from_C(c):\n",
    "    slope = (900-500)/(101.367-61.365)\n",
    "    intercept = 500 - slope*61.365\n",
    "    \n",
    "    return slope*c.to(u.fF).value + intercept \n",
    "def unitless_find_j_area(L):\n",
    "    return find_junction_area(L*u.nH,Jc = 0.42*u.uA/u.um**2).to(u.um**2).value\n",
    "\n",
    "def unitless_find_pad_len(C):\n",
    "    slope = (900-500)/(101.367-61.365)\n",
    "    intercept = 500 - slope*61.365\n",
    "    \n",
    "    return slope*C + intercept"
   ]
  },
  {
   "cell_type": "code",
   "execution_count": 131,
   "metadata": {},
   "outputs": [],
   "source": [
    "import matplotlib.pyplot as plt\n",
    "import numpy as np\n",
    "\n",
    "# Example data\n",
    "x = np.linspace(3,6,100)\n",
    "y1 = np.array(result_L)\n",
    "y2 = np.array(result_cap)\n",
    "\n",
    "j_size = unitless_find_j_area(y1)\n",
    "c_size = unitless_find_pad_len(y2)\n",
    "\n",
    "# Create the figure and the first y-axis\n",
    "fig, ax1 = plt.subplots()\n",
    "\n",
    "# Plot the first variable\n",
    "ax1.plot(x, j_size, 'b-', label='sin(x)')\n",
    "ax1.set_xlabel('Target Frequency (GHz)')\n",
    "ax1.set_ylabel('Junction Size (um2)', color='b')\n",
    "ax1.tick_params(axis='y', labelcolor='b')\n",
    "\n",
    "# Create the second y-axis and plot the second variable\n",
    "ax2 = ax1.twinx()\n",
    "ax2.plot(x, c_size, 'r--', label='cos(x)')\n",
    "ax2.set_ylabel('Pad length (um)', color='r')\n",
    "ax2.tick_params(axis='y', labelcolor='r')\n",
    "\n",
    "# Add legends\n",
    "ax1.legend(loc='upper left')\n",
    "ax2.legend(loc='upper right')\n",
    "\n",
    "# Add grid and title\n",
    "ax1.grid(True)\n",
    "plt.title('Ej/Ec = 65')\n",
    "plt.savefig('Ej_Ec_65.png')\n",
    "# Show the plot\n",
    "plt.show()"
   ]
  },
  {
   "cell_type": "code",
   "execution_count": 114,
   "metadata": {},
   "outputs": [
    {
     "data": {
      "text/latex": [
       "$0.078358566 \\; \\mathrm{\\mu m^{2}}$"
      ],
      "text/plain": [
       "<Quantity 0.07835857 um2>"
      ]
     },
     "execution_count": 114,
     "metadata": {},
     "output_type": "execute_result"
    }
   ],
   "source": [
    "find_junction_area(10*u.nH, Jc = 0.42*u.uA/u.um**2)"
   ]
  },
  {
   "cell_type": "code",
   "execution_count": 118,
   "metadata": {},
   "outputs": [
    {
     "data": {
      "text/plain": [
       "19.362899999999996"
      ]
     },
     "execution_count": 118,
     "metadata": {},
     "output_type": "execute_result"
    }
   ],
   "source": [
    "pad_len_from_C(80*u.fF)"
   ]
  },
  {
   "cell_type": "code",
   "execution_count": null,
   "metadata": {},
   "outputs": [],
   "source": [
    "def convert_capacitance_to_energy(capacitance):\n",
    "    C = capacitance*u.fF\n",
    "    return (c.e.si**2 / (2 * C)/c.h).to(u.GHz)\n",
    "\n",
    "def get_cap_params(caps, c_j):\n",
    "    cap_matrix = copy.deepcopy(caps)\n",
    "    T = np.array([[1,0,-1,0],\n",
    "              [0,1,0,0],\n",
    "              [1,0,1,0],\n",
    "              [0,0,0,1]])\n",
    "    cap_matrix[0,2] -= cj\n",
    "    cap_matrix[2,0] -= cj\n",
    "    cap_matrix[2,2] += cj\n",
    "    cap_matrix[0,0] += cj\n",
    "    differential_cap_matrix = np.linalg.inv(T).T@(cap_matrix)@np.linalg.inv(T)\n",
    "    inverse = np.linalg.inv(differential_cap_matrix)\n",
    "    qubit_capacitance = np.reciprocal(invverse)[0,0]\n",
    "    coupling_capacitance = np.reciprocal(inverse)[0,1]\n",
    "    Ec = convert_capacitance_to_energy(qubit_capacitance)\n",
    "    g = 8*convert_capacitance_to_energy(coupling_capactiance).to(u.MHz)\n",
    "    return [Ec,g,qubit_capacitance,coupling_capacitance]\n",
    "    "
   ]
  }
 ],
 "metadata": {
  "kernelspec": {
   "display_name": "qmetal",
   "language": "python",
   "name": "qmetal"
  },
  "language_info": {
   "codemirror_mode": {
    "name": "ipython",
    "version": 3
   },
   "file_extension": ".py",
   "mimetype": "text/x-python",
   "name": "python",
   "nbconvert_exporter": "python",
   "pygments_lexer": "ipython3",
   "version": "3.10.8"
  }
 },
 "nbformat": 4,
 "nbformat_minor": 2
}
