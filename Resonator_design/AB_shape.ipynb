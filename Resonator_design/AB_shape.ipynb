{
 "cells": [
  {
   "cell_type": "code",
   "execution_count": null,
   "metadata": {},
   "outputs": [],
   "source": []
  },
  {
   "cell_type": "code",
   "execution_count": 1,
   "metadata": {},
   "outputs": [],
   "source": [
    "%reload_ext autoreload\n",
    "%autoreload 2"
   ]
  },
  {
   "cell_type": "code",
   "execution_count": 2,
   "metadata": {},
   "outputs": [],
   "source": [
    "#This imports the necessary path to draw the single pad transmon design. \n",
    "import sys\n",
    "sys.path.append('../Customized_Components')\n",
    "from single_pad_transmon_pocket import TransmonPocket_Single\n",
    "from LaunchpadWirebondCustom import LaunchpadWirebondCustom\n",
    "from CoupledLineTee import CoupledLineTee\n",
    "\n",
    "\n",
    "import shapely\n",
    "import warnings\n",
    "from shapely.errors import ShapelyDeprecationWarning\n",
    "warnings.filterwarnings(\"ignore\", category=ShapelyDeprecationWarning)"
   ]
  },
  {
   "cell_type": "code",
   "execution_count": 3,
   "metadata": {},
   "outputs": [],
   "source": [
    "from qiskit_metal import designs, draw\n",
    "from qiskit_metal import MetalGUI, Dict, Headings\n",
    "\n",
    "from qiskit_metal.qlibrary.terminations.short_to_ground import ShortToGround\n",
    "from qiskit_metal.qlibrary.terminations.open_to_ground import OpenToGround\n",
    "\n",
    "from qiskit_metal.qlibrary.tlines.mixed_path import RouteMeander, RouteMixed\n",
    "from qiskit_metal.qlibrary.tlines.anchored_path import RouteAnchors\n",
    "from qiskit_metal.qlibrary.tlines.straight_path import RouteStraight\n",
    "\n",
    "# from qiskit_metal.qlibrary.couplers.coupled_line_tee import CoupledLineTee\n",
    "# from qiskit_metal.qlibrary.terminations.launchpad_wb import LaunchpadWirebond\n",
    "\n",
    "\n",
    "import pyEPR as epr\n",
    "\n",
    "import Default_res_params as dp\n",
    "\n",
    "from qiskit_metal.toolbox_metal.parsing import *\n",
    "from collections import OrderedDict"
   ]
  },
  {
   "cell_type": "code",
   "execution_count": 4,
   "metadata": {},
   "outputs": [],
   "source": [
    "import pandas as pd\n",
    "import numpy as np"
   ]
  },
  {
   "cell_type": "code",
   "execution_count": 5,
   "metadata": {},
   "outputs": [],
   "source": [
    "sys.path.append('/Users/wendy/Desktop/Wendy-qiskit-code/Customized_Components')\n",
    "import Transmon_specifications as jj\n",
    "from rounded_rectangle import rounded_rec as rec2\n",
    "from rounded_rectangle import rounded_rec_only as rec"
   ]
  },
  {
   "cell_type": "code",
   "execution_count": 6,
   "metadata": {},
   "outputs": [
    {
     "data": {
      "image/svg+xml": [
       "<svg xmlns=\"http://www.w3.org/2000/svg\" xmlns:xlink=\"http://www.w3.org/1999/xlink\" width=\"100.0\" height=\"100.0\" viewBox=\"-5.4 -5.4 10.8 10.8\" preserveAspectRatio=\"xMinYMin meet\"><g transform=\"matrix(1,0,0,-1,0,0.0)\"><path fill-rule=\"evenodd\" fill=\"#66cc99\" stroke=\"#555555\" stroke-width=\"0.21600000000000003\" opacity=\"0.6\" d=\"M 5.0,3.0 L 4.902113032590307,3.618033988749895 L 4.618033988749895,4.175570504584947 L 4.175570504584947,4.618033988749895 L 3.618033988749895,4.902113032590307 L 3.0,5.0 L -3.0,5.0 L -3.618033988749895,4.902113032590307 L -4.175570504584947,4.618033988749895 L -4.618033988749895,4.175570504584947 L -4.902113032590307,3.618033988749895 L -5.0,3.0 L -5.0,-3.0 L -4.902113032590307,-3.618033988749895 L -4.618033988749895,-4.175570504584947 L -4.175570504584947,-4.618033988749895 L -3.618033988749895,-4.902113032590307 L -3.0,-5.0 L 3.0,-5.0 L 3.618033988749895,-4.902113032590307 L 4.175570504584947,-4.618033988749895 L 4.618033988749895,-4.175570504584947 L 4.902113032590307,-3.618033988749895 L 5.0,-3.0 L 5.0,3.0 z\" /></g></svg>"
      ],
      "text/plain": [
       "<POLYGON ((5 3, 4.902 3.618, 4.618 4.176, 4.176 4.618, 3.618 4.902, 3 5, -3 ...>"
      ]
     },
     "execution_count": 6,
     "metadata": {},
     "output_type": "execute_result"
    }
   ],
   "source": [
    "w = 10\n",
    "h = 10\n",
    "r = 2\n",
    "\n",
    "rec(w,h,r)"
   ]
  },
  {
   "cell_type": "code",
   "execution_count": 7,
   "metadata": {},
   "outputs": [
    {
     "data": {
      "image/svg+xml": [
       "<svg xmlns=\"http://www.w3.org/2000/svg\" xmlns:xlink=\"http://www.w3.org/1999/xlink\" width=\"100.0\" height=\"100.0\" viewBox=\"-5.4 -5.4 10.8 10.8\" preserveAspectRatio=\"xMinYMin meet\"><g transform=\"matrix(1,0,0,-1,0,0.0)\"><path fill-rule=\"evenodd\" fill=\"#66cc99\" stroke=\"#555555\" stroke-width=\"0.21600000000000003\" opacity=\"0.6\" d=\"M -5.0,-5.0 L 5.0,-5.0 L 5.0,5.0 L -5.0,5.0 L -5.0,-5.0 z\" /></g></svg>"
      ],
      "text/plain": [
       "<POLYGON ((-5 -5, 5 -5, 5 5, -5 5, -5 -5))>"
      ]
     },
     "execution_count": 7,
     "metadata": {},
     "output_type": "execute_result"
    }
   ],
   "source": [
    "draw.rectangle(w, h)"
   ]
  },
  {
   "cell_type": "code",
   "execution_count": 8,
   "metadata": {},
   "outputs": [
    {
     "data": {
      "image/svg+xml": [
       "<svg xmlns=\"http://www.w3.org/2000/svg\" xmlns:xlink=\"http://www.w3.org/1999/xlink\" width=\"100.0\" height=\"100.0\" viewBox=\"-0.4 -0.4 10.8 10.8\" preserveAspectRatio=\"xMinYMin meet\"><g transform=\"matrix(1,0,0,-1,0,10.0)\"><path fill-rule=\"evenodd\" fill=\"#66cc99\" stroke=\"#555555\" stroke-width=\"0.21600000000000003\" opacity=\"0.6\" d=\"M 0.0,0.0 L 10.0,0.0 L 0.0,10.0 L 0.0,0.0 z\" /></g></svg>"
      ],
      "text/plain": [
       "<POLYGON ((0 0, 10 0, 0 10, 0 0))>"
      ]
     },
     "execution_count": 8,
     "metadata": {},
     "output_type": "execute_result"
    }
   ],
   "source": [
    "triangle_pts = [(0, 0), (w, 0), (0, h)]\n",
    "draw.Polygon(triangle_pts)"
   ]
  },
  {
   "cell_type": "code",
   "execution_count": 9,
   "metadata": {},
   "outputs": [],
   "source": [
    "rectangle = draw.rectangle(w, h)\n",
    "triangle = draw.Polygon(triangle_pts)"
   ]
  },
  {
   "cell_type": "code",
   "execution_count": 10,
   "metadata": {},
   "outputs": [],
   "source": [
    "triangle = draw.translate(triangle,w/2,-h/2)"
   ]
  },
  {
   "cell_type": "code",
   "execution_count": 11,
   "metadata": {},
   "outputs": [
    {
     "ename": "NameError",
     "evalue": "name 'right_triangle' is not defined",
     "output_type": "error",
     "traceback": [
      "\u001b[0;31m---------------------------------------------------------------------------\u001b[0m",
      "\u001b[0;31mNameError\u001b[0m                                 Traceback (most recent call last)",
      "Cell \u001b[0;32mIn[11], line 1\u001b[0m\n\u001b[0;32m----> 1\u001b[0m draw\u001b[38;5;241m.\u001b[39mshapely\u001b[38;5;241m.\u001b[39mops\u001b[38;5;241m.\u001b[39munary_union([rectangle, \u001b[43mright_triangle\u001b[49m, left_triangle])\n",
      "\u001b[0;31mNameError\u001b[0m: name 'right_triangle' is not defined"
     ]
    }
   ],
   "source": [
    "draw.shapely.ops.unary_union([rectangle, right_triangle, left_triangle])"
   ]
  },
  {
   "cell_type": "code",
   "execution_count": 12,
   "metadata": {},
   "outputs": [],
   "source": [
    "w_bridge = 5.7\n",
    "l_transition = 4\n",
    "l_bridge = 28\n",
    "step_transition = 0.125\n",
    "w_center_bridge = 3.7\n"
   ]
  },
  {
   "cell_type": "code",
   "execution_count": 13,
   "metadata": {},
   "outputs": [],
   "source": [
    "w_bridge_edge = (w_bridge - w_center_bridge)/2\n",
    "n_steps = int((l_transition-w_bridge_edge)/step_transition)"
   ]
  },
  {
   "cell_type": "markdown",
   "metadata": {},
   "source": [
    "## Make the slopped bridge structure"
   ]
  },
  {
   "cell_type": "code",
   "execution_count": 26,
   "metadata": {},
   "outputs": [],
   "source": [
    "polys = []"
   ]
  },
  {
   "cell_type": "code",
   "execution_count": 27,
   "metadata": {},
   "outputs": [
    {
     "data": {
      "image/svg+xml": [
       "<svg xmlns=\"http://www.w3.org/2000/svg\" xmlns:xlink=\"http://www.w3.org/1999/xlink\" width=\"100.0\" height=\"100.0\" viewBox=\"-3.0780000000000003 -1.2905 6.156000000000001 1.581\" preserveAspectRatio=\"xMinYMin meet\"><g transform=\"matrix(1,0,0,-1,0,-1.0)\"><path fill-rule=\"evenodd\" fill=\"#66cc99\" stroke=\"#555555\" stroke-width=\"0.12312000000000001\" opacity=\"0.6\" d=\"M -2.85,-1.0625 L -2.85,-0.0625 L -2.85,0.0625 L 2.85,0.0625 L 2.85,-0.0625 L 2.85,-1.0625 L 1.85,-0.0625 L -1.85,-0.0625 L -2.85,-1.0625 z\" /></g></svg>"
      ],
      "text/plain": [
       "<POLYGON ((-2.85 -1.062, -2.85 -0.062, -2.85 0.062, 2.85 0.062, 2.85 -0.062,...>"
      ]
     },
     "execution_count": 27,
     "metadata": {},
     "output_type": "execute_result"
    }
   ],
   "source": [
    "rectangle = draw.rectangle(w_bridge,step_transition)\n",
    "# rectangle\n",
    "triangle_pts = [(w_center_bridge/2,-step_transition/2), (w_bridge/2, -step_transition/2), (w_bridge/2, -step_transition/2-w_bridge_edge)]\n",
    "right_triangle = draw.Polygon(triangle_pts)\n",
    "triangle_pts = [(-w_center_bridge/2,-step_transition/2), (-w_bridge/2, -step_transition/2), (-w_bridge/2, -step_transition/2-w_bridge_edge)]\n",
    "left_triangle = draw.Polygon(triangle_pts)\n",
    "p = draw.shapely.ops.unary_union([rectangle, right_triangle, left_triangle])\n",
    "polys.append(p)\n",
    "p"
   ]
  },
  {
   "cell_type": "code",
   "execution_count": 28,
   "metadata": {},
   "outputs": [],
   "source": [
    "center_rec = draw.rectangle(w_center_bridge,step_transition)"
   ]
  },
  {
   "cell_type": "code",
   "execution_count": 29,
   "metadata": {},
   "outputs": [],
   "source": [
    "\n",
    "for i in range(n_steps):\n",
    "    center_rec = draw.translate(center_rec,0,-step_transition)\n",
    "    # rectangle\n",
    "    poly_pts = [(w_center_bridge/2,step_transition/2-step_transition*(i+1)), \n",
    "                (w_bridge/2, step_transition/2-w_bridge_edge-step_transition*(i+1)), \n",
    "                (w_bridge/2, step_transition/2-w_bridge_edge-step_transition*(i+2)),\n",
    "                (w_center_bridge/2,step_transition/2-step_transition*(i+2))]\n",
    "    right_poly = draw.Polygon(poly_pts)\n",
    "    poly_pts = [(-w_center_bridge/2,step_transition/2-step_transition*(i+1)), \n",
    "                (-w_bridge/2, step_transition/2-w_bridge_edge-step_transition*(i+1)), \n",
    "                (-w_bridge/2, step_transition/2-w_bridge_edge-step_transition*(i+2)),\n",
    "                (-w_center_bridge/2,step_transition/2-step_transition*(i+2))]\n",
    "    left_poly = draw.Polygon(poly_pts)\n",
    "    p = draw.shapely.ops.unary_union([center_rec, right_poly, left_poly])\n",
    "    polys.append(p)"
   ]
  },
  {
   "cell_type": "code",
   "execution_count": 30,
   "metadata": {},
   "outputs": [],
   "source": [
    "n_taper_out = int(w_bridge_edge/step_transition)"
   ]
  },
  {
   "cell_type": "code",
   "execution_count": 31,
   "metadata": {},
   "outputs": [],
   "source": [
    "target_pt_y = step_transition/2-w_bridge_edge-step_transition*(i+2)"
   ]
  },
  {
   "cell_type": "code",
   "execution_count": 32,
   "metadata": {},
   "outputs": [],
   "source": [
    "for j in range(n_taper_out):\n",
    "    center_rec = draw.translate(center_rec,0,-step_transition)\n",
    "    triangle_pts = [(w_center_bridge/2,target_pt_y+w_bridge_edge-step_transition*(j)), (w_center_bridge/2,target_pt_y+w_bridge_edge-step_transition*(j+1)), (w_bridge/2, target_pt_y)]\n",
    "    right_triangle = draw.Polygon(triangle_pts)\n",
    "    triangle_pts = [(-w_center_bridge/2,target_pt_y+w_bridge_edge-step_transition*(j)), (-w_center_bridge/2,target_pt_y+w_bridge_edge-step_transition*(j+1)), (-w_bridge/2, target_pt_y)]\n",
    "    left_triangle = draw.Polygon(triangle_pts)\n",
    "    p = draw.shapely.ops.unary_union([center_rec, right_triangle, left_triangle])\n",
    "    polys.append(p)"
   ]
  },
  {
   "cell_type": "code",
   "execution_count": 33,
   "metadata": {},
   "outputs": [],
   "source": [
    "center_rec = draw.translate(center_rec,0,-step_transition)\n",
    "right_poly_pts = [(w_center_bridge/2,target_pt_y),\n",
    "                  (w_bridge/2, target_pt_y),\n",
    "                  (w_bridge/2, target_pt_y-step_transition),\n",
    "                  (w_center_bridge/2,target_pt_y-step_transition)]\n",
    "right_poly = draw.Polygon(right_poly_pts)\n",
    "left_poly_pts = [(-w_center_bridge/2,target_pt_y),\n",
    "                  (-w_bridge/2, target_pt_y),\n",
    "                  (-w_bridge/2, target_pt_y-step_transition),\n",
    "                  (-w_center_bridge/2,target_pt_y-step_transition)]\n",
    "left_poly = draw.Polygon(left_poly_pts)\n",
    "\n",
    "p = draw.shapely.ops.unary_union([center_rec, right_poly, left_poly])\n"
   ]
  },
  {
   "cell_type": "code",
   "execution_count": 36,
   "metadata": {},
   "outputs": [],
   "source": [
    "polys.append(p)"
   ]
  },
  {
   "cell_type": "code",
   "execution_count": 37,
   "metadata": {},
   "outputs": [],
   "source": [
    "import matplotlib.pyplot as plt\n",
    "\n",
    "# Plot the polygons\n",
    "\n",
    "fig, ax = plt.subplots()\n",
    "for polygon in polys:\n",
    "    exterior_coords = polygon.exterior.coords.xy\n",
    "    ax.plot(exterior_coords[0], exterior_coords[1], 'b-', linewidth=2)\n",
    "    ax.plot(exterior_coords[0], exterior_coords[1], 'ro')  # Optionally, plot the vertices\n",
    "\n",
    "# Set the aspect ratio to be equal\n",
    "ax.set_aspect('equal')\n",
    "\n",
    "# Add grid and labels\n",
    "ax.grid(True)\n",
    "ax.set_xlabel('X')\n",
    "ax.set_ylabel('Y')\n",
    "ax.set_title('Multiple Polygons Plot')\n",
    "\n",
    "# Show the plot\n",
    "plt.show()"
   ]
  },
  {
   "cell_type": "code",
   "execution_count": null,
   "metadata": {},
   "outputs": [],
   "source": []
  },
  {
   "cell_type": "code",
   "execution_count": 178,
   "metadata": {},
   "outputs": [
    {
     "data": {
      "text/plain": [
       "32"
      ]
     },
     "execution_count": 178,
     "metadata": {},
     "output_type": "execute_result"
    }
   ],
   "source": [
    "len(polys)"
   ]
  },
  {
   "cell_type": "code",
   "execution_count": null,
   "metadata": {},
   "outputs": [],
   "source": []
  }
 ],
 "metadata": {
  "kernelspec": {
   "display_name": "qiskit",
   "language": "python",
   "name": "python3"
  },
  "language_info": {
   "codemirror_mode": {
    "name": "ipython",
    "version": 3
   },
   "file_extension": ".py",
   "mimetype": "text/x-python",
   "name": "python",
   "nbconvert_exporter": "python",
   "pygments_lexer": "ipython3",
   "version": "3.11.0"
  }
 },
 "nbformat": 4,
 "nbformat_minor": 2
}
