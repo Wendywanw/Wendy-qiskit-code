{
 "cells": [
  {
   "cell_type": "code",
   "execution_count": 1,
   "metadata": {},
   "outputs": [],
   "source": [
    "%reload_ext autoreload\n",
    "%autoreload 2"
   ]
  },
  {
   "cell_type": "code",
   "execution_count": 2,
   "metadata": {},
   "outputs": [],
   "source": [
    "#This imports the necessary path to draw the single pad transmon design. \n",
    "import sys\n",
    "sys.path.append('../Customized_Components')\n",
    "from single_pad_transmon_pocket import TransmonPocket_Single\n",
    "\n",
    "import shapely\n",
    "import warnings\n",
    "from shapely.errors import ShapelyDeprecationWarning\n",
    "warnings.filterwarnings(\"ignore\", category=ShapelyDeprecationWarning)"
   ]
  },
  {
   "cell_type": "code",
   "execution_count": 178,
   "metadata": {},
   "outputs": [],
   "source": [
    "from qiskit_metal import designs, draw\n",
    "from qiskit_metal import MetalGUI, Dict, Headings\n",
    "\n",
    "from qiskit_metal.qlibrary.terminations.short_to_ground import ShortToGround\n",
    "from qiskit_metal.qlibrary.terminations.open_to_ground import OpenToGround\n",
    "\n",
    "from qiskit_metal.qlibrary.tlines.mixed_path import RouteMixed, RouteMeander\n",
    "from qiskit_metal.qlibrary.tlines.straight_path import RouteStraight\n",
    "\n",
    "from qiskit_metal.qlibrary.couplers.coupled_line_tee import CoupledLineTee\n",
    "\n",
    "import pyEPR as epr\n",
    "\n",
    "import Default_res_params as dp"
   ]
  },
  {
   "cell_type": "code",
   "execution_count": 24,
   "metadata": {},
   "outputs": [],
   "source": [
    "import pandas as pd\n",
    "import numpy as np"
   ]
  },
  {
   "cell_type": "code",
   "execution_count": 4,
   "metadata": {},
   "outputs": [],
   "source": [
    "# design = designs.DesignPlanar({}, True)\n",
    "# design.chips.main.size['size_x'] = '10 mm'\n",
    "# design.chips.main.size['size_y'] = '10 mm'\n",
    "\n",
    "# design.variables['cpw_width'] = '15 um'\n",
    "# design.variables['cpw_gap'] = '9 um'\n",
    "\n",
    "# gui = MetalGUI(design)"
   ]
  },
  {
   "cell_type": "code",
   "execution_count": 5,
   "metadata": {},
   "outputs": [],
   "source": [
    "gui = MetalGUI(dp.design)\n",
    "design = dp.design"
   ]
  },
  {
   "cell_type": "code",
   "execution_count": 192,
   "metadata": {},
   "outputs": [],
   "source": [
    "coupling_d = [100,105,140,200,2,15,40,75]\n",
    "curve_d = [380,380,380,400,300,310,330,340]\n",
    "ground_plane_d = 10\n",
    "fillets = [200,200,280,320,200,200,200,240]\n",
    "\n",
    "prime_pin = 14.18\n",
    "prime_gap = 8"
   ]
  },
  {
   "cell_type": "code",
   "execution_count": 45,
   "metadata": {},
   "outputs": [
    {
     "name": "stdout",
     "output_type": "stream",
     "text": [
      "   Unnamed: 0  Frequency          Q  Length  Gap    Pin  coupling_gap\n",
      "0           0        5.9  1278612.0  5.0535   10  17.73           118\n",
      "1           1        6.2  1210136.0  4.8072   12  21.27           123\n",
      "2           2        6.5  1149617.0  4.5836   14  24.82           158\n",
      "3           3        6.7  1113073.0  4.4457   16  28.37           158\n",
      "4           4        7.0  1063157.0  4.2536    2   3.55            20\n",
      "5           5        7.2  1032764.0  4.1344    4   7.09            33\n",
      "6           6        7.5   990927.0  3.9674    6  10.64            58\n",
      "7           7        7.9   941290.0  3.7646    8  14.18            93\n"
     ]
    }
   ],
   "source": [
    "resonator_params = pd.read_csv('results.csv')\n",
    "print(resonator_params)"
   ]
  },
  {
   "cell_type": "code",
   "execution_count": 56,
   "metadata": {},
   "outputs": [],
   "source": [
    "freqs = resonator_params['Frequency'].values\n",
    "Qs = resonator_params['Q'].values\n",
    "gaps = resonator_params['Gap'].values\n",
    "pins = resonator_params['Pin'].values\n",
    "coupling_gap = resonator_params['coupling_gap'].values\n",
    "lengths = resonator_params['Length'].values"
   ]
  },
  {
   "cell_type": "code",
   "execution_count": 184,
   "metadata": {},
   "outputs": [],
   "source": [
    "design.delete_all_components()"
   ]
  },
  {
   "cell_type": "code",
   "execution_count": 7,
   "metadata": {},
   "outputs": [],
   "source": [
    "# design.delete_component('cpw_2')"
   ]
  },
  {
   "cell_type": "code",
   "execution_count": 185,
   "metadata": {},
   "outputs": [],
   "source": [
    "design.overwrite_enabled = True #This makes it possible to edit the designs later on. \n",
    "\n",
    "\n",
    "\n",
    "# options = dict(pad_width = '250 um',\n",
    "# pocket_width = '300 um',\n",
    "# pad_pocket_distance_top = '60 um',\n",
    "# connection_pads = dict(\n",
    "#     a = dict(loc_W  = 1, \n",
    "#              loc_H =  1, \n",
    "#              pad_gap = '10 um',\n",
    "#              pad_height = '20 um',\n",
    "#              pad_width = '100 um',\n",
    "#              pad_cpw_extent =  '10 um',\n",
    "#              pocket_rise = '0 um',\n",
    "#              cpw_extend = '5 um')))\n",
    "\n",
    "# q1 = TransmonPocket_Single(design,'Q1',options = dict(pos_x = '1 mm', \n",
    "#                                                       pos_y = '0',\n",
    "#                                                       pad_height = '200 um', \n",
    "#                                                       **options))\n",
    "# q2 = TransmonPocket_Single(design,'Q2',options = dict(pos_x = '0.39 mm', \n",
    "#                                                       pos_y = '-0.7', \n",
    "#                                                       pad_height = '220 um', \n",
    "#                                                       **options))\n",
    "\n",
    "# gui.rebuild()\n",
    "# gui.zoom_on_components(['Q1','Q2'])"
   ]
  },
  {
   "cell_type": "code",
   "execution_count": 171,
   "metadata": {},
   "outputs": [],
   "source": [
    "# design.delete_all_components()\n",
    "\n",
    "# prime_width='10um',\n",
    "#                            prime_gap='6um',\n",
    "#                            second_width='10um',\n",
    "#                            second_gap='6um',\n",
    "#                            coupling_space='3um',\n",
    "#                            coupling_length='100um',\n",
    "#                            down_length='100um',\n",
    "#                            fillet='25um',\n",
    "#                            mirror=False,\n",
    "#                            open_termination=True)\n",
    "\n",
    "# TQ_options = dict(prime_width = design.variables['cpw_width'],\n",
    "#                prime_gap = design.variables['cpw_gap'],\n",
    "#                second_width = design.variables['cpw_width'],\n",
    "#                second_gap = design.variables['cpw_gap'],\n",
    "#                downlength = '30um',\n",
    "#                coupling_space = '5um',\n",
    "#                open_termination=False)\n",
    "\n",
    "# TQ1 = CoupledLineTee(design, 'TQ1', options=dict(pos_x='1.35 mm',\n",
    "#                                              pos_y='0.5 mm',\n",
    "#                                              coupling_length='120 um', **TQ_options))\n",
    "# TQ2 = CoupledLineTee(design, 'TQ2', options=dict(pos_x='0.15 mm',\n",
    "#                                              pos_y='0.5 mm',\n",
    "#                                              coupling_length='120 um', mirror = True, **TQ_options))\n",
    "\n",
    "# gui.rebuild()\n",
    "# gui.autoscale()"
   ]
  },
  {
   "cell_type": "code",
   "execution_count": 180,
   "metadata": {},
   "outputs": [],
   "source": [
    "# -*- coding: utf-8 -*-\n",
    "\n",
    "# This code is part of Qiskit.\n",
    "#\n",
    "# (C) Copyright IBM 2017, 2021.\n",
    "#\n",
    "# This code is licensed under the Apache License, Version 2.0. You may\n",
    "# obtain a copy of this license in the LICENSE.txt file in the root directory\n",
    "# of this source tree or at http://www.apache.org/licenses/LICENSE-2.0.\n",
    "#\n",
    "# Any modifications or derivative works of this code must retain this\n",
    "# copyright notice, and modified files need to carry a notice indicating\n",
    "# that they have been altered from the originals.\n",
    "\n",
    "from qiskit_metal import draw, Dict\n",
    "from qiskit_metal.qlibrary.core import QComponent\n",
    "import numpy as np\n",
    "\n",
    "\n",
    "class CoupledLineTee(QComponent):\n",
    "    \"\"\"Generates a three pin (+) structure comprised of a primary two pin CPW\n",
    "    transmission line, and a secondary one pin neighboring CPW transmission\n",
    "    line that is capacitively/inductively coupled to the primary. Such a\n",
    "    structure can be used, as an example, for generating CPW resonator hangars\n",
    "    off of a transmission line.\n",
    "\n",
    "    Inherits QComponent class.\n",
    "\n",
    "    ::\n",
    "\n",
    "        +----------------------------+\n",
    "        ------------------------------\n",
    "        |\n",
    "        |\n",
    "        |\n",
    "        |\n",
    "        +\n",
    "\n",
    "    .. image::\n",
    "        CoupledLineTee.png\n",
    "\n",
    "    .. meta::\n",
    "        Coupled Line Tee\n",
    "\n",
    "    Default Options:\n",
    "        * prime_width: '10um' -- The width of the trace of the two pin CPW transmission line\n",
    "        * prime_gap: '6um' -- The dielectric gap of the two pin CPW transmission line\n",
    "        * second_width: '10um' -- The width of the trace of the one pin CPW transmission line\n",
    "        * second_gap: '6um' -- The dielectric gap of the one pin CPW transmission line\n",
    "        * coupling_space: '3um' -- The amount of ground plane between the two transmission lines\n",
    "        * coupling_length: '100um' -- The length of parallel between the two transmission lines\n",
    "          note: this includes the distance of the curved second of the second line\n",
    "        * down_length: '100um' -- The length of the hanging part of the resonator, including the curved region\n",
    "        * fillet: '25um'\n",
    "        * mirror: False -- Flips the hanger around the y-axis\n",
    "        * open_termination: True -- sets if the termination of the second line at the coupling side\n",
    "          is an open to ground or short to ground\n",
    "    \"\"\"\n",
    "    component_metadata = Dict(short_name='cpw', _qgeometry_table_path='True')\n",
    "    \"\"\"Component metadata\"\"\"\n",
    "\n",
    "    #Currently setting the primary CPW length based on the coupling_length\n",
    "    #May want it to be it's own value that the user can control?\n",
    "    default_options = Dict(prime_width='10um',\n",
    "                           prime_gap='6um',\n",
    "                           prime_length = '120um',\n",
    "                           second_width='10um',\n",
    "                           second_gap='6um',\n",
    "                           coupling_space='3um',\n",
    "                           pin_drop = '0um',\n",
    "                           coupling_length='100um',\n",
    "                           down_length='100um',\n",
    "                           fillet='25um',\n",
    "                           mirror=False,\n",
    "                           open_termination=True)\n",
    "    \"\"\"Default connector options\"\"\"\n",
    "\n",
    "    TOOLTIP = \"\"\"Generates a three pin (+) \n",
    "    structure comprised of a primary two \n",
    "    pin CPW transmission line, and a \n",
    "    secondary one pin neighboring CPW \n",
    "    transmission line that is \n",
    "    capacitively/inductively coupled \n",
    "    to the primary.\"\"\"\n",
    "\n",
    "    def make(self):\n",
    "        \"\"\"Build the component.\"\"\"\n",
    "        p = self.p\n",
    "\n",
    "        prime_cpw_length = p.prime_length\n",
    "        second_flip = 1\n",
    "        if p.mirror:\n",
    "            second_flip = -1\n",
    "\n",
    "        #Primary CPW\n",
    "        prime_cpw = draw.LineString([[-prime_cpw_length / 2, 0],\n",
    "                                     [prime_cpw_length / 2, 0]])\n",
    "        \n",
    "        second_termination = 0\n",
    "        if p.open_termination:\n",
    "            second_termination = p.second_gap\n",
    "\n",
    "        #Secondary CPW\n",
    "        second_down_length = p.down_length\n",
    "        second_y = -p.prime_width / 2 - p.prime_gap  - p.second_gap - p.coupling_space\n",
    "        second_cpw = draw.LineString(\n",
    "            [[0, second_y-p.pin_drop],\n",
    "             [0,second_y - second_down_length]])\n",
    "\n",
    "        \n",
    "\n",
    "        second_cpw_etch = draw.LineString(\n",
    "            [[0, second_y + second_termination],\n",
    "             [0,second_y - second_down_length]])\n",
    "\n",
    "        #Rotate and Translate\n",
    "        c_items = [prime_cpw, second_cpw, second_cpw_etch]\n",
    "        c_items = draw.rotate(c_items, p.orientation, origin=(0, 0))\n",
    "        c_items = draw.translate(c_items, p.pos_x, p.pos_y)\n",
    "        [prime_cpw, second_cpw, second_cpw_etch] = c_items\n",
    "\n",
    "        #Add to qgeometry tables\n",
    "        self.add_qgeometry('path', {'prime_cpw': prime_cpw},\n",
    "                           width=p.prime_width)\n",
    "        self.add_qgeometry('path', {'prime_cpw_sub': prime_cpw},\n",
    "                           width=p.prime_width + 2 * p.prime_gap,\n",
    "                           subtract=True)\n",
    "        self.add_qgeometry('path', {'second_cpw': second_cpw},\n",
    "                           width=p.second_width,\n",
    "                           fillet=p.fillet)\n",
    "        self.add_qgeometry('path', {'second_cpw_sub': second_cpw_etch},\n",
    "                           width=p.second_width + 2 * p.second_gap,\n",
    "                           subtract=True,\n",
    "                           fillet=p.fillet)\n",
    "\n",
    "        #Add pins\n",
    "        prime_pin_list = prime_cpw.coords\n",
    "        second_pin_list = second_cpw.coords\n",
    "\n",
    "        self.add_pin('prime_start',\n",
    "                     points=np.array(prime_pin_list[::-1]),\n",
    "                     width=p.prime_width,\n",
    "                     input_as_norm=True)\n",
    "        self.add_pin('prime_end',\n",
    "                     points=np.array(prime_pin_list),\n",
    "                     width=p.prime_width,\n",
    "                     input_as_norm=True)\n",
    "        self.add_pin('second_end',\n",
    "                     points=np.array(second_pin_list),\n",
    "                     width=p.second_width,\n",
    "                     input_as_norm=True)\n"
   ]
  },
  {
   "cell_type": "code",
   "execution_count": 181,
   "metadata": {},
   "outputs": [],
   "source": [
    "i = 5"
   ]
  },
  {
   "cell_type": "code",
   "execution_count": 194,
   "metadata": {},
   "outputs": [
    {
     "name": "stderr",
     "output_type": "stream",
     "text": [
      "06:20PM 39s ERROR [rebuild]: ERROR in building component name=cpw, error=ParseException: Expected number but encountered '('\n"
     ]
    },
    {
     "ename": "GEOSException",
     "evalue": "ParseException: Expected number but encountered '('",
     "output_type": "error",
     "traceback": [
      "\u001b[1;31m---------------------------------------------------------------------------\u001b[0m",
      "\u001b[1;31mGEOSException\u001b[0m                             Traceback (most recent call last)",
      "Cell \u001b[1;32mIn [194], line 22\u001b[0m\n\u001b[0;32m     16\u001b[0m TQ_options[\u001b[38;5;124m'\u001b[39m\u001b[38;5;124mpin_drop\u001b[39m\u001b[38;5;124m'\u001b[39m] \u001b[38;5;241m=\u001b[39m \u001b[38;5;28mstr\u001b[39m(coupling_d[i])\u001b[38;5;241m+\u001b[39m\u001b[38;5;124m'\u001b[39m\u001b[38;5;124mum\u001b[39m\u001b[38;5;124m'\u001b[39m\n\u001b[0;32m     18\u001b[0m TQ1 \u001b[38;5;241m=\u001b[39m CoupledLineTee(design, \u001b[38;5;124m'\u001b[39m\u001b[38;5;124mTQ1\u001b[39m\u001b[38;5;124m'\u001b[39m, options\u001b[38;5;241m=\u001b[39m\u001b[38;5;28mdict\u001b[39m(pos_x\u001b[38;5;241m=\u001b[39m\u001b[38;5;124m'\u001b[39m\u001b[38;5;124m0 mm\u001b[39m\u001b[38;5;124m'\u001b[39m,\n\u001b[0;32m     19\u001b[0m                                              pos_y\u001b[38;5;241m=\u001b[39m\u001b[38;5;124m'\u001b[39m\u001b[38;5;124m0 mm\u001b[39m\u001b[38;5;124m'\u001b[39m,\n\u001b[0;32m     20\u001b[0m                                              coupling_length\u001b[38;5;241m=\u001b[39m\u001b[38;5;124m'\u001b[39m\u001b[38;5;124m120 um\u001b[39m\u001b[38;5;124m'\u001b[39m, \u001b[38;5;241m*\u001b[39m\u001b[38;5;241m*\u001b[39mTQ_options))\n\u001b[1;32m---> 22\u001b[0m \u001b[43mgui\u001b[49m\u001b[38;5;241;43m.\u001b[39;49m\u001b[43mrebuild\u001b[49m\u001b[43m(\u001b[49m\u001b[43m)\u001b[49m\n\u001b[0;32m     23\u001b[0m gui\u001b[38;5;241m.\u001b[39mautoscale()\n",
      "File \u001b[1;32mc:\\_lib\\python\\qiskit-metal\\qiskit_metal\\_gui\\main_window.py:725\u001b[0m, in \u001b[0;36mMetalGUI.rebuild\u001b[1;34m(self, autoscale)\u001b[0m\n\u001b[0;32m    720\u001b[0m \u001b[38;5;28;01mdef\u001b[39;00m \u001b[38;5;21mrebuild\u001b[39m(\u001b[38;5;28mself\u001b[39m, autoscale: \u001b[38;5;28mbool\u001b[39m \u001b[38;5;241m=\u001b[39m \u001b[38;5;28;01mFalse\u001b[39;00m):\n\u001b[0;32m    721\u001b[0m     \u001b[38;5;124;03m\"\"\"\u001b[39;00m\n\u001b[0;32m    722\u001b[0m \u001b[38;5;124;03m    Rebuild all components in the design from scratch and refresh the gui.\u001b[39;00m\n\u001b[0;32m    723\u001b[0m \u001b[38;5;124;03m    \"\"\"\u001b[39;00m\n\u001b[1;32m--> 725\u001b[0m     \u001b[38;5;28;43mself\u001b[39;49m\u001b[38;5;241;43m.\u001b[39;49m\u001b[43mdesign\u001b[49m\u001b[38;5;241;43m.\u001b[39;49m\u001b[43mrebuild\u001b[49m\u001b[43m(\u001b[49m\u001b[43m)\u001b[49m\n\u001b[0;32m    726\u001b[0m     \u001b[38;5;28mself\u001b[39m\u001b[38;5;241m.\u001b[39mrefresh()\n\u001b[0;32m    727\u001b[0m     \u001b[38;5;28;01mif\u001b[39;00m autoscale:\n",
      "File \u001b[1;32mc:\\_lib\\python\\qiskit-metal\\qiskit_metal\\designs\\design_base.py:469\u001b[0m, in \u001b[0;36mQDesign.rebuild\u001b[1;34m(self)\u001b[0m\n\u001b[0;32m    467\u001b[0m \u001b[38;5;124;03m\"\"\"Remakes all components with their current parameters.\"\"\"\u001b[39;00m\n\u001b[0;32m    468\u001b[0m \u001b[38;5;28;01mfor\u001b[39;00m _, obj \u001b[38;5;129;01min\u001b[39;00m \u001b[38;5;28mself\u001b[39m\u001b[38;5;241m.\u001b[39m_components\u001b[38;5;241m.\u001b[39mitems():  \u001b[38;5;66;03m# pylint: disable=unused-variable\u001b[39;00m\n\u001b[1;32m--> 469\u001b[0m     \u001b[43mobj\u001b[49m\u001b[38;5;241;43m.\u001b[39;49m\u001b[43mrebuild\u001b[49m\u001b[43m(\u001b[49m\u001b[43m)\u001b[49m\n",
      "File \u001b[1;32mc:\\_lib\\python\\qiskit-metal\\qiskit_metal\\qlibrary\\core\\base.py:724\u001b[0m, in \u001b[0;36mQComponent.rebuild\u001b[1;34m(self)\u001b[0m\n\u001b[0;32m    719\u001b[0m \u001b[38;5;28mself\u001b[39m\u001b[38;5;241m.\u001b[39mlogger\u001b[38;5;241m.\u001b[39merror(\n\u001b[0;32m    720\u001b[0m     \u001b[38;5;124mf\u001b[39m\u001b[38;5;124m'\u001b[39m\u001b[38;5;124mERROR in building component name=\u001b[39m\u001b[38;5;132;01m{\u001b[39;00m\u001b[38;5;28mself\u001b[39m\u001b[38;5;241m.\u001b[39mname\u001b[38;5;132;01m}\u001b[39;00m\u001b[38;5;124m, error=\u001b[39m\u001b[38;5;132;01m{\u001b[39;00merror\u001b[38;5;132;01m}\u001b[39;00m\u001b[38;5;124m'\u001b[39m)\n\u001b[0;32m    721\u001b[0m \u001b[38;5;28mself\u001b[39m\u001b[38;5;241m.\u001b[39mdesign\u001b[38;5;241m.\u001b[39mbuild_logs\u001b[38;5;241m.\u001b[39madd_error(\n\u001b[0;32m    722\u001b[0m     \u001b[38;5;124mf\u001b[39m\u001b[38;5;124m\"\u001b[39m\u001b[38;5;132;01m{\u001b[39;00m\u001b[38;5;28mstr\u001b[39m(datetime\u001b[38;5;241m.\u001b[39mnow())\u001b[38;5;132;01m}\u001b[39;00m\u001b[38;5;124m -- Component: \u001b[39m\u001b[38;5;132;01m{\u001b[39;00m\u001b[38;5;28mself\u001b[39m\u001b[38;5;241m.\u001b[39mname\u001b[38;5;132;01m}\u001b[39;00m\u001b[38;5;124m failed with error\u001b[39m\u001b[38;5;130;01m\\n\u001b[39;00m\u001b[38;5;124m: \u001b[39m\u001b[38;5;132;01m{\u001b[39;00merror\u001b[38;5;132;01m}\u001b[39;00m\u001b[38;5;124m\"\u001b[39m\n\u001b[0;32m    723\u001b[0m )\n\u001b[1;32m--> 724\u001b[0m \u001b[38;5;28;01mraise\u001b[39;00m error\n",
      "File \u001b[1;32mc:\\_lib\\python\\qiskit-metal\\qiskit_metal\\qlibrary\\core\\base.py:710\u001b[0m, in \u001b[0;36mQComponent.rebuild\u001b[1;34m(self)\u001b[0m\n\u001b[0;32m    707\u001b[0m     \u001b[38;5;66;03m# pylint: disable=protected-access\u001b[39;00m\n\u001b[0;32m    708\u001b[0m     \u001b[38;5;28mself\u001b[39m\u001b[38;5;241m.\u001b[39mdesign\u001b[38;5;241m.\u001b[39m_delete_all_pins_for_component(\u001b[38;5;28mself\u001b[39m\u001b[38;5;241m.\u001b[39mid)\n\u001b[1;32m--> 710\u001b[0m \u001b[38;5;28;43mself\u001b[39;49m\u001b[38;5;241;43m.\u001b[39;49m\u001b[43mmake\u001b[49m\u001b[43m(\u001b[49m\u001b[43m)\u001b[49m\n\u001b[0;32m    711\u001b[0m \u001b[38;5;28mself\u001b[39m\u001b[38;5;241m.\u001b[39m_made \u001b[38;5;241m=\u001b[39m \u001b[38;5;28;01mTrue\u001b[39;00m\n\u001b[0;32m    712\u001b[0m \u001b[38;5;28mself\u001b[39m\u001b[38;5;241m.\u001b[39mstatus \u001b[38;5;241m=\u001b[39m \u001b[38;5;124m'\u001b[39m\u001b[38;5;124mgood\u001b[39m\u001b[38;5;124m'\u001b[39m\n",
      "File \u001b[1;32mc:\\_lib\\python\\qiskit-metal\\qiskit_metal\\qlibrary\\tlines\\meandered.py:101\u001b[0m, in \u001b[0;36mRouteMeander.make\u001b[1;34m(self)\u001b[0m\n\u001b[0;32m     96\u001b[0m \u001b[38;5;28mself\u001b[39m\u001b[38;5;241m.\u001b[39mintermediate_pts \u001b[38;5;241m=\u001b[39m \u001b[38;5;28mself\u001b[39m\u001b[38;5;241m.\u001b[39madjust_length(\n\u001b[0;32m     97\u001b[0m     \u001b[38;5;28mself\u001b[39m\u001b[38;5;241m.\u001b[39mp\u001b[38;5;241m.\u001b[39mtotal_length \u001b[38;5;241m-\u001b[39m \u001b[38;5;28mself\u001b[39m\u001b[38;5;241m.\u001b[39mlength, arc_pts, meander_start_point,\n\u001b[0;32m     98\u001b[0m     meander_end_point)\n\u001b[0;32m    100\u001b[0m \u001b[38;5;66;03m# Make points into elements\u001b[39;00m\n\u001b[1;32m--> 101\u001b[0m \u001b[38;5;28;43mself\u001b[39;49m\u001b[38;5;241;43m.\u001b[39;49m\u001b[43mmake_elements\u001b[49m\u001b[43m(\u001b[49m\u001b[38;5;28;43mself\u001b[39;49m\u001b[38;5;241;43m.\u001b[39;49m\u001b[43mget_points\u001b[49m\u001b[43m(\u001b[49m\u001b[43m)\u001b[49m\u001b[43m)\u001b[49m\n",
      "File \u001b[1;32mc:\\_lib\\python\\qiskit-metal\\qiskit_metal\\qlibrary\\core\\qroute.py:603\u001b[0m, in \u001b[0;36mQRoute.make_elements\u001b[1;34m(self, pts)\u001b[0m\n\u001b[0;32m    598\u001b[0m \u001b[38;5;28mself\u001b[39m\u001b[38;5;241m.\u001b[39moptions\u001b[38;5;241m.\u001b[39m_actual_length \u001b[38;5;241m=\u001b[39m \u001b[38;5;28mstr\u001b[39m(\n\u001b[0;32m    599\u001b[0m     line\u001b[38;5;241m.\u001b[39mlength \u001b[38;5;241m-\u001b[39m \u001b[38;5;28mself\u001b[39m\u001b[38;5;241m.\u001b[39mlength_excess_corner_rounding(line\u001b[38;5;241m.\u001b[39mcoords)\n\u001b[0;32m    600\u001b[0m ) \u001b[38;5;241m+\u001b[39m \u001b[38;5;124m'\u001b[39m\u001b[38;5;124m \u001b[39m\u001b[38;5;124m'\u001b[39m \u001b[38;5;241m+\u001b[39m \u001b[38;5;28mself\u001b[39m\u001b[38;5;241m.\u001b[39mdesign\u001b[38;5;241m.\u001b[39mget_units()\n\u001b[0;32m    602\u001b[0m \u001b[38;5;66;03m# expand the routing track to form the substrate core of the cpw\u001b[39;00m\n\u001b[1;32m--> 603\u001b[0m \u001b[38;5;28;43mself\u001b[39;49m\u001b[38;5;241;43m.\u001b[39;49m\u001b[43madd_qgeometry\u001b[49m\u001b[43m(\u001b[49m\u001b[38;5;124;43m'\u001b[39;49m\u001b[38;5;124;43mpath\u001b[39;49m\u001b[38;5;124;43m'\u001b[39;49m\u001b[43m,\u001b[49m\u001b[43m \u001b[49m\u001b[43m{\u001b[49m\u001b[38;5;124;43m'\u001b[39;49m\u001b[38;5;124;43mtrace\u001b[39;49m\u001b[38;5;124;43m'\u001b[39;49m\u001b[43m:\u001b[49m\u001b[43m \u001b[49m\u001b[43mline\u001b[49m\u001b[43m}\u001b[49m\u001b[43m,\u001b[49m\n\u001b[0;32m    604\u001b[0m \u001b[43m                   \u001b[49m\u001b[43mwidth\u001b[49m\u001b[38;5;241;43m=\u001b[39;49m\u001b[43mp\u001b[49m\u001b[38;5;241;43m.\u001b[39;49m\u001b[43mtrace_width\u001b[49m\u001b[43m,\u001b[49m\n\u001b[0;32m    605\u001b[0m \u001b[43m                   \u001b[49m\u001b[43mfillet\u001b[49m\u001b[38;5;241;43m=\u001b[39;49m\u001b[43mp\u001b[49m\u001b[38;5;241;43m.\u001b[39;49m\u001b[43mfillet\u001b[49m\u001b[43m,\u001b[49m\n\u001b[0;32m    606\u001b[0m \u001b[43m                   \u001b[49m\u001b[43mlayer\u001b[49m\u001b[38;5;241;43m=\u001b[39;49m\u001b[43mp\u001b[49m\u001b[38;5;241;43m.\u001b[39;49m\u001b[43mlayer\u001b[49m\u001b[43m)\u001b[49m\n\u001b[0;32m    607\u001b[0m \u001b[38;5;28;01mif\u001b[39;00m \u001b[38;5;28mself\u001b[39m\u001b[38;5;241m.\u001b[39mtype \u001b[38;5;241m==\u001b[39m \u001b[38;5;124m\"\u001b[39m\u001b[38;5;124mCPW\u001b[39m\u001b[38;5;124m\"\u001b[39m:\n\u001b[0;32m    608\u001b[0m     \u001b[38;5;66;03m# expand the routing track to form the two gaps in the substrate\u001b[39;00m\n\u001b[0;32m    609\u001b[0m     \u001b[38;5;66;03m# final gap will be form by this minus the trace above\u001b[39;00m\n\u001b[0;32m    610\u001b[0m     \u001b[38;5;28mself\u001b[39m\u001b[38;5;241m.\u001b[39madd_qgeometry(\u001b[38;5;124m'\u001b[39m\u001b[38;5;124mpath\u001b[39m\u001b[38;5;124m'\u001b[39m, {\u001b[38;5;124m'\u001b[39m\u001b[38;5;124mcut\u001b[39m\u001b[38;5;124m'\u001b[39m: line},\n\u001b[0;32m    611\u001b[0m                        width\u001b[38;5;241m=\u001b[39mp\u001b[38;5;241m.\u001b[39mtrace_width \u001b[38;5;241m+\u001b[39m \u001b[38;5;241m2\u001b[39m \u001b[38;5;241m*\u001b[39m p\u001b[38;5;241m.\u001b[39mtrace_gap,\n\u001b[0;32m    612\u001b[0m                        fillet\u001b[38;5;241m=\u001b[39mp\u001b[38;5;241m.\u001b[39mfillet,\n\u001b[0;32m    613\u001b[0m                        layer\u001b[38;5;241m=\u001b[39mp\u001b[38;5;241m.\u001b[39mlayer,\n\u001b[0;32m    614\u001b[0m                        subtract\u001b[38;5;241m=\u001b[39m\u001b[38;5;28;01mTrue\u001b[39;00m)\n",
      "File \u001b[1;32mc:\\_lib\\python\\qiskit-metal\\qiskit_metal\\qlibrary\\core\\base.py:1133\u001b[0m, in \u001b[0;36mQComponent.add_qgeometry\u001b[1;34m(self, kind, geometry, subtract, helper, layer, chip, **kwargs)\u001b[0m\n\u001b[0;32m   1128\u001b[0m renderer_and_options \u001b[38;5;241m=\u001b[39m {\u001b[38;5;241m*\u001b[39m\u001b[38;5;241m*\u001b[39mrenderer_key_values, \u001b[38;5;241m*\u001b[39m\u001b[38;5;241m*\u001b[39mkwargs}\n\u001b[0;32m   1130\u001b[0m \u001b[38;5;66;03m# When self.options is instantiated, the template_options are populated.\u001b[39;00m\n\u001b[0;32m   1131\u001b[0m \u001b[38;5;66;03m# renderer_and_options = {**self.options, **kwargs}\u001b[39;00m\n\u001b[1;32m-> 1133\u001b[0m \u001b[38;5;28mself\u001b[39m\u001b[38;5;241m.\u001b[39mdesign\u001b[38;5;241m.\u001b[39mqgeometry\u001b[38;5;241m.\u001b[39madd_qgeometry(kind,\n\u001b[0;32m   1134\u001b[0m                                     \u001b[38;5;28mself\u001b[39m\u001b[38;5;241m.\u001b[39mid,\n\u001b[0;32m   1135\u001b[0m                                     geometry,\n\u001b[0;32m   1136\u001b[0m                                     subtract\u001b[38;5;241m=\u001b[39msubtract,\n\u001b[0;32m   1137\u001b[0m                                     helper\u001b[38;5;241m=\u001b[39mhelper,\n\u001b[0;32m   1138\u001b[0m                                     layer\u001b[38;5;241m=\u001b[39mlayer,\n\u001b[0;32m   1139\u001b[0m                                     chip\u001b[38;5;241m=\u001b[39mchip,\n\u001b[0;32m   1140\u001b[0m                                     \u001b[38;5;241m*\u001b[39m\u001b[38;5;241m*\u001b[39mrenderer_and_options)\n",
      "File \u001b[1;32mc:\\_lib\\python\\qiskit-metal\\qiskit_metal\\qgeometries\\qgeometries_handler.py:492\u001b[0m, in \u001b[0;36mQGeometryTables.add_qgeometry\u001b[1;34m(self, kind, component_name, geometry, subtract, helper, layer, chip, **other_options)\u001b[0m\n\u001b[0;32m    490\u001b[0m             shape_count \u001b[38;5;241m+\u001b[39m\u001b[38;5;241m=\u001b[39m \u001b[38;5;241m1\u001b[39m\n\u001b[0;32m    491\u001b[0m     \u001b[38;5;28;01melse\u001b[39;00m:\n\u001b[1;32m--> 492\u001b[0m         new_dict[key] \u001b[38;5;241m=\u001b[39m \u001b[43mround_coordinate_sequence\u001b[49m\u001b[43m(\u001b[49m\u001b[43mitem\u001b[49m\u001b[43m,\u001b[49m\u001b[43m \u001b[49m\u001b[43mrounding_val\u001b[49m\u001b[43m)\u001b[49m\n\u001b[0;32m    494\u001b[0m geometry \u001b[38;5;241m=\u001b[39m new_dict\n\u001b[0;32m    496\u001b[0m \u001b[38;5;66;03m# Create options TODO: Might want to modify this (component_name -> component_id)\u001b[39;00m\n\u001b[0;32m    497\u001b[0m \u001b[38;5;66;03m# Give warning if length is to be fillet's and not long enough.\u001b[39;00m\n",
      "File \u001b[1;32mc:\\_lib\\python\\qiskit-metal\\qiskit_metal\\draw\\utility.py:181\u001b[0m, in \u001b[0;36mround_coordinate_sequence\u001b[1;34m(geom_ref, precision)\u001b[0m\n\u001b[0;32m    170\u001b[0m \u001b[38;5;28;01mdef\u001b[39;00m \u001b[38;5;21mround_coordinate_sequence\u001b[39m(geom_ref, precision):\n\u001b[0;32m    171\u001b[0m     \u001b[38;5;124;03m\"\"\"Rounds the vertices of a coordinate sequence (both interior and\u001b[39;00m\n\u001b[0;32m    172\u001b[0m \u001b[38;5;124;03m    exterior).\u001b[39;00m\n\u001b[0;32m    173\u001b[0m \n\u001b[1;32m   (...)\u001b[0m\n\u001b[0;32m    178\u001b[0m \u001b[38;5;124;03m        shapely.geometry : A shapely geometry with rounded coordinates\u001b[39;00m\n\u001b[0;32m    179\u001b[0m \u001b[38;5;124;03m    \"\"\"\u001b[39;00m\n\u001b[1;32m--> 181\u001b[0m     new_geom_ref \u001b[38;5;241m=\u001b[39m \u001b[43mshapely\u001b[49m\u001b[38;5;241;43m.\u001b[39;49m\u001b[43mwkt\u001b[49m\u001b[38;5;241;43m.\u001b[39;49m\u001b[43mloads\u001b[49m\u001b[43m(\u001b[49m\n\u001b[0;32m    182\u001b[0m \u001b[43m        \u001b[49m\u001b[43mshapely\u001b[49m\u001b[38;5;241;43m.\u001b[39;49m\u001b[43mwkt\u001b[49m\u001b[38;5;241;43m.\u001b[39;49m\u001b[43mdumps\u001b[49m\u001b[43m(\u001b[49m\u001b[43mgeom_ref\u001b[49m\u001b[43m,\u001b[49m\u001b[43m \u001b[49m\u001b[43mrounding_precision\u001b[49m\u001b[38;5;241;43m=\u001b[39;49m\u001b[43mprecision\u001b[49m\u001b[43m)\u001b[49m\u001b[43m)\u001b[49m\n\u001b[0;32m    184\u001b[0m     \u001b[38;5;28;01mreturn\u001b[39;00m new_geom_ref\n",
      "File \u001b[1;32mc:\\Users\\slab\\anaconda3\\envs\\qmetal\\lib\\site-packages\\shapely\\wkt.py:22\u001b[0m, in \u001b[0;36mloads\u001b[1;34m(data)\u001b[0m\n\u001b[0;32m      9\u001b[0m \u001b[38;5;28;01mdef\u001b[39;00m \u001b[38;5;21mloads\u001b[39m(data):\n\u001b[0;32m     10\u001b[0m     \u001b[38;5;124;03m\"\"\"\u001b[39;00m\n\u001b[0;32m     11\u001b[0m \u001b[38;5;124;03m    Load a geometry from a WKT string.\u001b[39;00m\n\u001b[0;32m     12\u001b[0m \n\u001b[1;32m   (...)\u001b[0m\n\u001b[0;32m     20\u001b[0m \u001b[38;5;124;03m    Shapely geometry object\u001b[39;00m\n\u001b[0;32m     21\u001b[0m \u001b[38;5;124;03m    \"\"\"\u001b[39;00m\n\u001b[1;32m---> 22\u001b[0m     \u001b[38;5;28;01mreturn\u001b[39;00m \u001b[43mshapely\u001b[49m\u001b[38;5;241;43m.\u001b[39;49m\u001b[43mfrom_wkt\u001b[49m\u001b[43m(\u001b[49m\u001b[43mdata\u001b[49m\u001b[43m)\u001b[49m\n",
      "File \u001b[1;32mc:\\Users\\slab\\anaconda3\\envs\\qmetal\\lib\\site-packages\\shapely\\io.py:286\u001b[0m, in \u001b[0;36mfrom_wkt\u001b[1;34m(geometry, on_invalid, **kwargs)\u001b[0m\n\u001b[0;32m    282\u001b[0m     \u001b[38;5;28;01mraise\u001b[39;00m \u001b[38;5;167;01mTypeError\u001b[39;00m(\u001b[38;5;124m\"\u001b[39m\u001b[38;5;124mon_invalid only accepts scalar values\u001b[39m\u001b[38;5;124m\"\u001b[39m)\n\u001b[0;32m    284\u001b[0m invalid_handler \u001b[38;5;241m=\u001b[39m np\u001b[38;5;241m.\u001b[39muint8(DecodingErrorOptions\u001b[38;5;241m.\u001b[39mget_value(on_invalid))\n\u001b[1;32m--> 286\u001b[0m \u001b[38;5;28;01mreturn\u001b[39;00m lib\u001b[38;5;241m.\u001b[39mfrom_wkt(geometry, invalid_handler, \u001b[38;5;241m*\u001b[39m\u001b[38;5;241m*\u001b[39mkwargs)\n",
      "\u001b[1;31mGEOSException\u001b[0m: ParseException: Expected number but encountered '('"
     ]
    }
   ],
   "source": [
    "\n",
    "curve_d_i = curve_d[i]\n",
    "coupling_d_i = coupling_d[i]\n",
    "pins_i = pins[i]\n",
    "gap_i = gaps[i]\n",
    "\n",
    "down_len = -coupling_d_i - ground_plane_d - prime_pin/2 - prime_gap + curve_d_i*np.pi/2\n",
    "\n",
    "\n",
    "TQ_options = dp.TQ_options\n",
    "TQ_options['prime_length'] = '120um'\n",
    "TQ_options['down_length'] =  str(down_len) + 'um'\n",
    "TQ_options['coupling_space'] = str(ground_plane_d) + 'um'\n",
    "TQ_options['second_width'] = str(pins[i]) + 'um'\n",
    "TQ_options['second_gap'] = str(gaps[i]) + 'um'\n",
    "TQ_options['coupling_space'] = str(coupling_gap[i])+ 'um'\n",
    "TQ_options['pin_drop'] = str(coupling_d[i])+'um'\n",
    "\n",
    "TQ1 = CoupledLineTee(design, 'TQ1', options=dict(pos_x='0 mm',\n",
    "                                             pos_y='0 mm',\n",
    "                                             coupling_length='120 um', **TQ_options))\n",
    "\n",
    "gui.rebuild()\n",
    "gui.autoscale()"
   ]
  },
  {
   "cell_type": "code",
   "execution_count": 188,
   "metadata": {},
   "outputs": [],
   "source": [
    "short = ShortToGround(design, 'short', options=dict(pos_x='0.6 mm', pos_y='-0.5 mm', orientation='270'))"
   ]
  },
  {
   "cell_type": "code",
   "execution_count": 189,
   "metadata": {},
   "outputs": [
    {
     "data": {
      "text/plain": [
       "4.1344"
      ]
     },
     "execution_count": 189,
     "metadata": {},
     "output_type": "execute_result"
    }
   ],
   "source": [
    "lengths[i]"
   ]
  },
  {
   "cell_type": "code",
   "execution_count": null,
   "metadata": {},
   "outputs": [],
   "source": [
    "def calculate_anchors(i,x0,y0,angle = 0, flip = False, down_straight = 250):\n",
    "    factor = 1\n",
    "    if flip:\n",
    "        factor = -1\n",
    "    fillet = fillets[i]\n",
    "    length = lengths[i]\n",
    "    d = curve_d[i]\n",
    "    length -= down_len\n",
    "    staight_len = length-2*np.pi*d\n",
    "    x = staight_len/3\n",
    "    x1 = x0+(d+x)*np.cos(angle)\n",
    "    y1 = y0-d/2*np.sin(angle)*factor\n",
    "    \n",
    "    x2 = x1 + x*np.cos(angle)\n",
    "    \n",
    "    "
   ]
  },
  {
   "cell_type": "code",
   "execution_count": 190,
   "metadata": {},
   "outputs": [
    {
     "name": "stderr",
     "output_type": "stream",
     "text": [
      "06:02PM 57s ERROR [rebuild]: ERROR in building component name=cpw, error=ParseException: Expected number but encountered '('\n"
     ]
    },
    {
     "ename": "GEOSException",
     "evalue": "ParseException: Expected number but encountered '('",
     "output_type": "error",
     "traceback": [
      "\u001b[1;31m---------------------------------------------------------------------------\u001b[0m",
      "\u001b[1;31mGEOSException\u001b[0m                             Traceback (most recent call last)",
      "Cell \u001b[1;32mIn [190], line 15\u001b[0m\n\u001b[0;32m     11\u001b[0m CPW_options[\u001b[38;5;124m'\u001b[39m\u001b[38;5;124mfillet\u001b[39m\u001b[38;5;124m'\u001b[39m] \u001b[38;5;241m=\u001b[39m \u001b[38;5;124m'\u001b[39m\u001b[38;5;124m10 um\u001b[39m\u001b[38;5;124m'\u001b[39m\n\u001b[0;32m     12\u001b[0m CPW_options[\u001b[38;5;124m'\u001b[39m\u001b[38;5;124mlead\u001b[39m\u001b[38;5;124m'\u001b[39m] \u001b[38;5;241m=\u001b[39m \u001b[38;5;28mdict\u001b[39m(start_straight \u001b[38;5;241m=\u001b[39m \u001b[38;5;124m'\u001b[39m\u001b[38;5;124m100 um\u001b[39m\u001b[38;5;124m'\u001b[39m, end_straight \u001b[38;5;241m=\u001b[39m \u001b[38;5;124m'\u001b[39m\u001b[38;5;124m100 um\u001b[39m\u001b[38;5;124m'\u001b[39m)\n\u001b[1;32m---> 15\u001b[0m cpw \u001b[38;5;241m=\u001b[39m \u001b[43mRouteMeander\u001b[49m\u001b[43m(\u001b[49m\u001b[43mdesign\u001b[49m\u001b[43m,\u001b[49m\u001b[43m \u001b[49m\u001b[38;5;124;43m'\u001b[39;49m\u001b[38;5;124;43mcpw\u001b[39;49m\u001b[38;5;124;43m'\u001b[39;49m\u001b[43m,\u001b[49m\u001b[43moptions\u001b[49m\u001b[43m \u001b[49m\u001b[38;5;241;43m=\u001b[39;49m\u001b[43m \u001b[49m\u001b[43mCPW_options\u001b[49m\u001b[43m)\u001b[49m\n\u001b[0;32m     17\u001b[0m gui\u001b[38;5;241m.\u001b[39mrebuild()\n\u001b[0;32m     18\u001b[0m gui\u001b[38;5;241m.\u001b[39mautoscale()\n",
      "File \u001b[1;32mc:\\_lib\\python\\qiskit-metal\\qiskit_metal\\qlibrary\\core\\qroute.py:178\u001b[0m, in \u001b[0;36mQRoute.__init__\u001b[1;34m(self, design, name, options, type, **kwargs)\u001b[0m\n\u001b[0;32m    175\u001b[0m options \u001b[38;5;241m=\u001b[39m \u001b[38;5;28mself\u001b[39m\u001b[38;5;241m.\u001b[39m_add_route_specific_options(options)\n\u001b[0;32m    177\u001b[0m \u001b[38;5;66;03m# regular QComponent boot, including the run of make()\u001b[39;00m\n\u001b[1;32m--> 178\u001b[0m \u001b[38;5;28msuper\u001b[39m()\u001b[38;5;241m.\u001b[39m\u001b[38;5;21m__init__\u001b[39m(design, name, options, \u001b[38;5;241m*\u001b[39m\u001b[38;5;241m*\u001b[39mkwargs)\n",
      "File \u001b[1;32mc:\\_lib\\python\\qiskit-metal\\qiskit_metal\\qlibrary\\core\\base.py:262\u001b[0m, in \u001b[0;36mQComponent.__init__\u001b[1;34m(self, design, name, options, make, component_template)\u001b[0m\n\u001b[0;32m    260\u001b[0m \u001b[38;5;66;03m# Make the component geometry\u001b[39;00m\n\u001b[0;32m    261\u001b[0m \u001b[38;5;28;01mif\u001b[39;00m make:\n\u001b[1;32m--> 262\u001b[0m     \u001b[38;5;28;43mself\u001b[39;49m\u001b[38;5;241;43m.\u001b[39;49m\u001b[43mrebuild\u001b[49m\u001b[43m(\u001b[49m\u001b[43m)\u001b[49m\n",
      "File \u001b[1;32mc:\\_lib\\python\\qiskit-metal\\qiskit_metal\\qlibrary\\core\\base.py:724\u001b[0m, in \u001b[0;36mQComponent.rebuild\u001b[1;34m(self)\u001b[0m\n\u001b[0;32m    719\u001b[0m \u001b[38;5;28mself\u001b[39m\u001b[38;5;241m.\u001b[39mlogger\u001b[38;5;241m.\u001b[39merror(\n\u001b[0;32m    720\u001b[0m     \u001b[38;5;124mf\u001b[39m\u001b[38;5;124m'\u001b[39m\u001b[38;5;124mERROR in building component name=\u001b[39m\u001b[38;5;132;01m{\u001b[39;00m\u001b[38;5;28mself\u001b[39m\u001b[38;5;241m.\u001b[39mname\u001b[38;5;132;01m}\u001b[39;00m\u001b[38;5;124m, error=\u001b[39m\u001b[38;5;132;01m{\u001b[39;00merror\u001b[38;5;132;01m}\u001b[39;00m\u001b[38;5;124m'\u001b[39m)\n\u001b[0;32m    721\u001b[0m \u001b[38;5;28mself\u001b[39m\u001b[38;5;241m.\u001b[39mdesign\u001b[38;5;241m.\u001b[39mbuild_logs\u001b[38;5;241m.\u001b[39madd_error(\n\u001b[0;32m    722\u001b[0m     \u001b[38;5;124mf\u001b[39m\u001b[38;5;124m\"\u001b[39m\u001b[38;5;132;01m{\u001b[39;00m\u001b[38;5;28mstr\u001b[39m(datetime\u001b[38;5;241m.\u001b[39mnow())\u001b[38;5;132;01m}\u001b[39;00m\u001b[38;5;124m -- Component: \u001b[39m\u001b[38;5;132;01m{\u001b[39;00m\u001b[38;5;28mself\u001b[39m\u001b[38;5;241m.\u001b[39mname\u001b[38;5;132;01m}\u001b[39;00m\u001b[38;5;124m failed with error\u001b[39m\u001b[38;5;130;01m\\n\u001b[39;00m\u001b[38;5;124m: \u001b[39m\u001b[38;5;132;01m{\u001b[39;00merror\u001b[38;5;132;01m}\u001b[39;00m\u001b[38;5;124m\"\u001b[39m\n\u001b[0;32m    723\u001b[0m )\n\u001b[1;32m--> 724\u001b[0m \u001b[38;5;28;01mraise\u001b[39;00m error\n",
      "File \u001b[1;32mc:\\_lib\\python\\qiskit-metal\\qiskit_metal\\qlibrary\\core\\base.py:710\u001b[0m, in \u001b[0;36mQComponent.rebuild\u001b[1;34m(self)\u001b[0m\n\u001b[0;32m    707\u001b[0m     \u001b[38;5;66;03m# pylint: disable=protected-access\u001b[39;00m\n\u001b[0;32m    708\u001b[0m     \u001b[38;5;28mself\u001b[39m\u001b[38;5;241m.\u001b[39mdesign\u001b[38;5;241m.\u001b[39m_delete_all_pins_for_component(\u001b[38;5;28mself\u001b[39m\u001b[38;5;241m.\u001b[39mid)\n\u001b[1;32m--> 710\u001b[0m \u001b[38;5;28;43mself\u001b[39;49m\u001b[38;5;241;43m.\u001b[39;49m\u001b[43mmake\u001b[49m\u001b[43m(\u001b[49m\u001b[43m)\u001b[49m\n\u001b[0;32m    711\u001b[0m \u001b[38;5;28mself\u001b[39m\u001b[38;5;241m.\u001b[39m_made \u001b[38;5;241m=\u001b[39m \u001b[38;5;28;01mTrue\u001b[39;00m\n\u001b[0;32m    712\u001b[0m \u001b[38;5;28mself\u001b[39m\u001b[38;5;241m.\u001b[39mstatus \u001b[38;5;241m=\u001b[39m \u001b[38;5;124m'\u001b[39m\u001b[38;5;124mgood\u001b[39m\u001b[38;5;124m'\u001b[39m\n",
      "File \u001b[1;32mc:\\_lib\\python\\qiskit-metal\\qiskit_metal\\qlibrary\\tlines\\meandered.py:101\u001b[0m, in \u001b[0;36mRouteMeander.make\u001b[1;34m(self)\u001b[0m\n\u001b[0;32m     96\u001b[0m \u001b[38;5;28mself\u001b[39m\u001b[38;5;241m.\u001b[39mintermediate_pts \u001b[38;5;241m=\u001b[39m \u001b[38;5;28mself\u001b[39m\u001b[38;5;241m.\u001b[39madjust_length(\n\u001b[0;32m     97\u001b[0m     \u001b[38;5;28mself\u001b[39m\u001b[38;5;241m.\u001b[39mp\u001b[38;5;241m.\u001b[39mtotal_length \u001b[38;5;241m-\u001b[39m \u001b[38;5;28mself\u001b[39m\u001b[38;5;241m.\u001b[39mlength, arc_pts, meander_start_point,\n\u001b[0;32m     98\u001b[0m     meander_end_point)\n\u001b[0;32m    100\u001b[0m \u001b[38;5;66;03m# Make points into elements\u001b[39;00m\n\u001b[1;32m--> 101\u001b[0m \u001b[38;5;28;43mself\u001b[39;49m\u001b[38;5;241;43m.\u001b[39;49m\u001b[43mmake_elements\u001b[49m\u001b[43m(\u001b[49m\u001b[38;5;28;43mself\u001b[39;49m\u001b[38;5;241;43m.\u001b[39;49m\u001b[43mget_points\u001b[49m\u001b[43m(\u001b[49m\u001b[43m)\u001b[49m\u001b[43m)\u001b[49m\n",
      "File \u001b[1;32mc:\\_lib\\python\\qiskit-metal\\qiskit_metal\\qlibrary\\core\\qroute.py:603\u001b[0m, in \u001b[0;36mQRoute.make_elements\u001b[1;34m(self, pts)\u001b[0m\n\u001b[0;32m    598\u001b[0m \u001b[38;5;28mself\u001b[39m\u001b[38;5;241m.\u001b[39moptions\u001b[38;5;241m.\u001b[39m_actual_length \u001b[38;5;241m=\u001b[39m \u001b[38;5;28mstr\u001b[39m(\n\u001b[0;32m    599\u001b[0m     line\u001b[38;5;241m.\u001b[39mlength \u001b[38;5;241m-\u001b[39m \u001b[38;5;28mself\u001b[39m\u001b[38;5;241m.\u001b[39mlength_excess_corner_rounding(line\u001b[38;5;241m.\u001b[39mcoords)\n\u001b[0;32m    600\u001b[0m ) \u001b[38;5;241m+\u001b[39m \u001b[38;5;124m'\u001b[39m\u001b[38;5;124m \u001b[39m\u001b[38;5;124m'\u001b[39m \u001b[38;5;241m+\u001b[39m \u001b[38;5;28mself\u001b[39m\u001b[38;5;241m.\u001b[39mdesign\u001b[38;5;241m.\u001b[39mget_units()\n\u001b[0;32m    602\u001b[0m \u001b[38;5;66;03m# expand the routing track to form the substrate core of the cpw\u001b[39;00m\n\u001b[1;32m--> 603\u001b[0m \u001b[38;5;28;43mself\u001b[39;49m\u001b[38;5;241;43m.\u001b[39;49m\u001b[43madd_qgeometry\u001b[49m\u001b[43m(\u001b[49m\u001b[38;5;124;43m'\u001b[39;49m\u001b[38;5;124;43mpath\u001b[39;49m\u001b[38;5;124;43m'\u001b[39;49m\u001b[43m,\u001b[49m\u001b[43m \u001b[49m\u001b[43m{\u001b[49m\u001b[38;5;124;43m'\u001b[39;49m\u001b[38;5;124;43mtrace\u001b[39;49m\u001b[38;5;124;43m'\u001b[39;49m\u001b[43m:\u001b[49m\u001b[43m \u001b[49m\u001b[43mline\u001b[49m\u001b[43m}\u001b[49m\u001b[43m,\u001b[49m\n\u001b[0;32m    604\u001b[0m \u001b[43m                   \u001b[49m\u001b[43mwidth\u001b[49m\u001b[38;5;241;43m=\u001b[39;49m\u001b[43mp\u001b[49m\u001b[38;5;241;43m.\u001b[39;49m\u001b[43mtrace_width\u001b[49m\u001b[43m,\u001b[49m\n\u001b[0;32m    605\u001b[0m \u001b[43m                   \u001b[49m\u001b[43mfillet\u001b[49m\u001b[38;5;241;43m=\u001b[39;49m\u001b[43mp\u001b[49m\u001b[38;5;241;43m.\u001b[39;49m\u001b[43mfillet\u001b[49m\u001b[43m,\u001b[49m\n\u001b[0;32m    606\u001b[0m \u001b[43m                   \u001b[49m\u001b[43mlayer\u001b[49m\u001b[38;5;241;43m=\u001b[39;49m\u001b[43mp\u001b[49m\u001b[38;5;241;43m.\u001b[39;49m\u001b[43mlayer\u001b[49m\u001b[43m)\u001b[49m\n\u001b[0;32m    607\u001b[0m \u001b[38;5;28;01mif\u001b[39;00m \u001b[38;5;28mself\u001b[39m\u001b[38;5;241m.\u001b[39mtype \u001b[38;5;241m==\u001b[39m \u001b[38;5;124m\"\u001b[39m\u001b[38;5;124mCPW\u001b[39m\u001b[38;5;124m\"\u001b[39m:\n\u001b[0;32m    608\u001b[0m     \u001b[38;5;66;03m# expand the routing track to form the two gaps in the substrate\u001b[39;00m\n\u001b[0;32m    609\u001b[0m     \u001b[38;5;66;03m# final gap will be form by this minus the trace above\u001b[39;00m\n\u001b[0;32m    610\u001b[0m     \u001b[38;5;28mself\u001b[39m\u001b[38;5;241m.\u001b[39madd_qgeometry(\u001b[38;5;124m'\u001b[39m\u001b[38;5;124mpath\u001b[39m\u001b[38;5;124m'\u001b[39m, {\u001b[38;5;124m'\u001b[39m\u001b[38;5;124mcut\u001b[39m\u001b[38;5;124m'\u001b[39m: line},\n\u001b[0;32m    611\u001b[0m                        width\u001b[38;5;241m=\u001b[39mp\u001b[38;5;241m.\u001b[39mtrace_width \u001b[38;5;241m+\u001b[39m \u001b[38;5;241m2\u001b[39m \u001b[38;5;241m*\u001b[39m p\u001b[38;5;241m.\u001b[39mtrace_gap,\n\u001b[0;32m    612\u001b[0m                        fillet\u001b[38;5;241m=\u001b[39mp\u001b[38;5;241m.\u001b[39mfillet,\n\u001b[0;32m    613\u001b[0m                        layer\u001b[38;5;241m=\u001b[39mp\u001b[38;5;241m.\u001b[39mlayer,\n\u001b[0;32m    614\u001b[0m                        subtract\u001b[38;5;241m=\u001b[39m\u001b[38;5;28;01mTrue\u001b[39;00m)\n",
      "File \u001b[1;32mc:\\_lib\\python\\qiskit-metal\\qiskit_metal\\qlibrary\\core\\base.py:1133\u001b[0m, in \u001b[0;36mQComponent.add_qgeometry\u001b[1;34m(self, kind, geometry, subtract, helper, layer, chip, **kwargs)\u001b[0m\n\u001b[0;32m   1128\u001b[0m renderer_and_options \u001b[38;5;241m=\u001b[39m {\u001b[38;5;241m*\u001b[39m\u001b[38;5;241m*\u001b[39mrenderer_key_values, \u001b[38;5;241m*\u001b[39m\u001b[38;5;241m*\u001b[39mkwargs}\n\u001b[0;32m   1130\u001b[0m \u001b[38;5;66;03m# When self.options is instantiated, the template_options are populated.\u001b[39;00m\n\u001b[0;32m   1131\u001b[0m \u001b[38;5;66;03m# renderer_and_options = {**self.options, **kwargs}\u001b[39;00m\n\u001b[1;32m-> 1133\u001b[0m \u001b[38;5;28mself\u001b[39m\u001b[38;5;241m.\u001b[39mdesign\u001b[38;5;241m.\u001b[39mqgeometry\u001b[38;5;241m.\u001b[39madd_qgeometry(kind,\n\u001b[0;32m   1134\u001b[0m                                     \u001b[38;5;28mself\u001b[39m\u001b[38;5;241m.\u001b[39mid,\n\u001b[0;32m   1135\u001b[0m                                     geometry,\n\u001b[0;32m   1136\u001b[0m                                     subtract\u001b[38;5;241m=\u001b[39msubtract,\n\u001b[0;32m   1137\u001b[0m                                     helper\u001b[38;5;241m=\u001b[39mhelper,\n\u001b[0;32m   1138\u001b[0m                                     layer\u001b[38;5;241m=\u001b[39mlayer,\n\u001b[0;32m   1139\u001b[0m                                     chip\u001b[38;5;241m=\u001b[39mchip,\n\u001b[0;32m   1140\u001b[0m                                     \u001b[38;5;241m*\u001b[39m\u001b[38;5;241m*\u001b[39mrenderer_and_options)\n",
      "File \u001b[1;32mc:\\_lib\\python\\qiskit-metal\\qiskit_metal\\qgeometries\\qgeometries_handler.py:492\u001b[0m, in \u001b[0;36mQGeometryTables.add_qgeometry\u001b[1;34m(self, kind, component_name, geometry, subtract, helper, layer, chip, **other_options)\u001b[0m\n\u001b[0;32m    490\u001b[0m             shape_count \u001b[38;5;241m+\u001b[39m\u001b[38;5;241m=\u001b[39m \u001b[38;5;241m1\u001b[39m\n\u001b[0;32m    491\u001b[0m     \u001b[38;5;28;01melse\u001b[39;00m:\n\u001b[1;32m--> 492\u001b[0m         new_dict[key] \u001b[38;5;241m=\u001b[39m \u001b[43mround_coordinate_sequence\u001b[49m\u001b[43m(\u001b[49m\u001b[43mitem\u001b[49m\u001b[43m,\u001b[49m\u001b[43m \u001b[49m\u001b[43mrounding_val\u001b[49m\u001b[43m)\u001b[49m\n\u001b[0;32m    494\u001b[0m geometry \u001b[38;5;241m=\u001b[39m new_dict\n\u001b[0;32m    496\u001b[0m \u001b[38;5;66;03m# Create options TODO: Might want to modify this (component_name -> component_id)\u001b[39;00m\n\u001b[0;32m    497\u001b[0m \u001b[38;5;66;03m# Give warning if length is to be fillet's and not long enough.\u001b[39;00m\n",
      "File \u001b[1;32mc:\\_lib\\python\\qiskit-metal\\qiskit_metal\\draw\\utility.py:181\u001b[0m, in \u001b[0;36mround_coordinate_sequence\u001b[1;34m(geom_ref, precision)\u001b[0m\n\u001b[0;32m    170\u001b[0m \u001b[38;5;28;01mdef\u001b[39;00m \u001b[38;5;21mround_coordinate_sequence\u001b[39m(geom_ref, precision):\n\u001b[0;32m    171\u001b[0m     \u001b[38;5;124;03m\"\"\"Rounds the vertices of a coordinate sequence (both interior and\u001b[39;00m\n\u001b[0;32m    172\u001b[0m \u001b[38;5;124;03m    exterior).\u001b[39;00m\n\u001b[0;32m    173\u001b[0m \n\u001b[1;32m   (...)\u001b[0m\n\u001b[0;32m    178\u001b[0m \u001b[38;5;124;03m        shapely.geometry : A shapely geometry with rounded coordinates\u001b[39;00m\n\u001b[0;32m    179\u001b[0m \u001b[38;5;124;03m    \"\"\"\u001b[39;00m\n\u001b[1;32m--> 181\u001b[0m     new_geom_ref \u001b[38;5;241m=\u001b[39m \u001b[43mshapely\u001b[49m\u001b[38;5;241;43m.\u001b[39;49m\u001b[43mwkt\u001b[49m\u001b[38;5;241;43m.\u001b[39;49m\u001b[43mloads\u001b[49m\u001b[43m(\u001b[49m\n\u001b[0;32m    182\u001b[0m \u001b[43m        \u001b[49m\u001b[43mshapely\u001b[49m\u001b[38;5;241;43m.\u001b[39;49m\u001b[43mwkt\u001b[49m\u001b[38;5;241;43m.\u001b[39;49m\u001b[43mdumps\u001b[49m\u001b[43m(\u001b[49m\u001b[43mgeom_ref\u001b[49m\u001b[43m,\u001b[49m\u001b[43m \u001b[49m\u001b[43mrounding_precision\u001b[49m\u001b[38;5;241;43m=\u001b[39;49m\u001b[43mprecision\u001b[49m\u001b[43m)\u001b[49m\u001b[43m)\u001b[49m\n\u001b[0;32m    184\u001b[0m     \u001b[38;5;28;01mreturn\u001b[39;00m new_geom_ref\n",
      "File \u001b[1;32mc:\\Users\\slab\\anaconda3\\envs\\qmetal\\lib\\site-packages\\shapely\\wkt.py:22\u001b[0m, in \u001b[0;36mloads\u001b[1;34m(data)\u001b[0m\n\u001b[0;32m      9\u001b[0m \u001b[38;5;28;01mdef\u001b[39;00m \u001b[38;5;21mloads\u001b[39m(data):\n\u001b[0;32m     10\u001b[0m     \u001b[38;5;124;03m\"\"\"\u001b[39;00m\n\u001b[0;32m     11\u001b[0m \u001b[38;5;124;03m    Load a geometry from a WKT string.\u001b[39;00m\n\u001b[0;32m     12\u001b[0m \n\u001b[1;32m   (...)\u001b[0m\n\u001b[0;32m     20\u001b[0m \u001b[38;5;124;03m    Shapely geometry object\u001b[39;00m\n\u001b[0;32m     21\u001b[0m \u001b[38;5;124;03m    \"\"\"\u001b[39;00m\n\u001b[1;32m---> 22\u001b[0m     \u001b[38;5;28;01mreturn\u001b[39;00m \u001b[43mshapely\u001b[49m\u001b[38;5;241;43m.\u001b[39;49m\u001b[43mfrom_wkt\u001b[49m\u001b[43m(\u001b[49m\u001b[43mdata\u001b[49m\u001b[43m)\u001b[49m\n",
      "File \u001b[1;32mc:\\Users\\slab\\anaconda3\\envs\\qmetal\\lib\\site-packages\\shapely\\io.py:286\u001b[0m, in \u001b[0;36mfrom_wkt\u001b[1;34m(geometry, on_invalid, **kwargs)\u001b[0m\n\u001b[0;32m    282\u001b[0m     \u001b[38;5;28;01mraise\u001b[39;00m \u001b[38;5;167;01mTypeError\u001b[39;00m(\u001b[38;5;124m\"\u001b[39m\u001b[38;5;124mon_invalid only accepts scalar values\u001b[39m\u001b[38;5;124m\"\u001b[39m)\n\u001b[0;32m    284\u001b[0m invalid_handler \u001b[38;5;241m=\u001b[39m np\u001b[38;5;241m.\u001b[39muint8(DecodingErrorOptions\u001b[38;5;241m.\u001b[39mget_value(on_invalid))\n\u001b[1;32m--> 286\u001b[0m \u001b[38;5;28;01mreturn\u001b[39;00m lib\u001b[38;5;241m.\u001b[39mfrom_wkt(geometry, invalid_handler, \u001b[38;5;241m*\u001b[39m\u001b[38;5;241m*\u001b[39mkwargs)\n",
      "\u001b[1;31mGEOSException\u001b[0m: ParseException: Expected number but encountered '('"
     ]
    }
   ],
   "source": [
    "CPW_options = dp.CPW_options\n",
    "CPW_options['pin_width'] = str(pins[i]) + 'um'\n",
    "CPW_options['gap_width'] = str(gaps[i]) + 'um'\n",
    "CPW_options['total_length'] = str(lengths[i]-250) + 'um'\n",
    "CPW_options['pin_inputs'] = in_inputs=Dict(\n",
    "            start_pin=Dict(component='TQ1', pin='second_end'),\n",
    "            end_pin=Dict(component='short', pin='short'),)\n",
    "\n",
    "CPW_options['trace_gap'] = str(gaps[i]) + 'um'\n",
    "CPW_options['trace_width'] = str(pins[i]) + 'um'\n",
    "CPW_options['fillet'] = '10 um'\n",
    "CPW_options['lead'] = dict(start_straight = '100 um', end_straight = '100 um')\n",
    "\n",
    "\n",
    "cpw = RouteMeander(design, 'cpw',options = CPW_options)\n",
    "\n",
    "gui.rebuild()\n",
    "gui.autoscale()"
   ]
  },
  {
   "cell_type": "code",
   "execution_count": null,
   "metadata": {},
   "outputs": [],
   "source": []
  },
  {
   "cell_type": "code",
   "execution_count": null,
   "metadata": {},
   "outputs": [],
   "source": []
  }
 ],
 "metadata": {
  "kernelspec": {
   "display_name": "qmetal",
   "language": "python",
   "name": "qmetal"
  },
  "language_info": {
   "codemirror_mode": {
    "name": "ipython",
    "version": 3
   },
   "file_extension": ".py",
   "mimetype": "text/x-python",
   "name": "python",
   "nbconvert_exporter": "python",
   "pygments_lexer": "ipython3",
   "version": "3.10.8"
  }
 },
 "nbformat": 4,
 "nbformat_minor": 2
}
