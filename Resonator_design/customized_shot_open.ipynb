{
 "cells": [
  {
   "cell_type": "code",
   "execution_count": 1,
   "metadata": {},
   "outputs": [],
   "source": [
    "%reload_ext autoreload\n",
    "%autoreload 2"
   ]
  },
  {
   "cell_type": "code",
   "execution_count": 2,
   "metadata": {},
   "outputs": [],
   "source": [
    "#This imports the necessary path to draw the single pad transmon design. \n",
    "import sys\n",
    "sys.path.append('../Customized_Components')\n",
    "from single_pad_transmon_pocket import TransmonPocket_Single\n",
    "from LaunchpadWirebondCustom import LaunchpadWirebondCustom\n",
    "from CoupledLineTee import CoupledLineTee\n",
    "\n",
    "\n",
    "import shapely\n",
    "import warnings\n",
    "from shapely.errors import ShapelyDeprecationWarning\n",
    "warnings.filterwarnings(\"ignore\", category=ShapelyDeprecationWarning)"
   ]
  },
  {
   "cell_type": "code",
   "execution_count": 3,
   "metadata": {},
   "outputs": [],
   "source": [
    "from qiskit_metal import designs, draw\n",
    "from qiskit_metal import MetalGUI, Dict, Headings\n",
    "\n",
    "from qiskit_metal.qlibrary.terminations.short_to_ground import ShortToGround\n",
    "from qiskit_metal.qlibrary.terminations.open_to_ground import OpenToGround\n",
    "\n",
    "from qiskit_metal.qlibrary.tlines.mixed_path import RouteMeander, RouteMixed\n",
    "from qiskit_metal.qlibrary.tlines.anchored_path import RouteAnchors\n",
    "from qiskit_metal.qlibrary.tlines.straight_path import RouteStraight\n",
    "\n",
    "# from qiskit_metal.qlibrary.couplers.coupled_line_tee import CoupledLineTee\n",
    "# from qiskit_metal.qlibrary.terminations.launchpad_wb import LaunchpadWirebond\n",
    "\n",
    "\n",
    "import pyEPR as epr\n",
    "\n",
    "import Default_res_params as dp\n",
    "\n",
    "from qiskit_metal.toolbox_metal.parsing import *\n",
    "from collections import OrderedDict"
   ]
  },
  {
   "cell_type": "code",
   "execution_count": 4,
   "metadata": {},
   "outputs": [],
   "source": [
    "import pandas as pd\n",
    "import numpy as np"
   ]
  },
  {
   "cell_type": "markdown",
   "metadata": {},
   "source": [
    "### Function that generates anchors for CPW. \n",
    "\n",
    "Currently only used to calculate the location of the short to ground component. The RouteMixed or RouteAnchors function does not work"
   ]
  },
  {
   "cell_type": "code",
   "execution_count": 5,
   "metadata": {},
   "outputs": [],
   "source": [
    "def s_anchors(TQ_options, cpw_options,flip_y = False):\n",
    "    if flip_y:\n",
    "        factor = -1\n",
    "    else:\n",
    "        factor = 1\n",
    "    x0 = parse_value('pos_x',TQ_options)\n",
    "    y0 = parse_value('pos_y',TQ_options)\n",
    "    prime_gap = parse_value('prime_gap',TQ_options)\n",
    "    prime_pin = parse_value('prime_width',TQ_options)\n",
    "    coupling_space = parse_value('coupling_space',TQ_options)\n",
    "    down_len = parse_value('down_length',TQ_options)\n",
    "\n",
    "    fillet = parse_value('fillet',cpw_options)\n",
    "    total_len = parse_value('total_length',cpw_options)\n",
    "\n",
    "    l = (total_len  - fillet*np.pi)/3\n",
    "\n",
    "    angle = parse_value('orientation',TQ_options)\n",
    "    angle = np.deg2rad(angle)\n",
    "\n",
    "    # print(x0,prime_pin,prime_gap,coupling_space,down_len,l,fillet)\n",
    "    # d = (prime_pin/2+prime_gap+coupling_space)#-down_len)\n",
    "\n",
    "    x0 = x0 + (prime_pin/2+prime_gap+coupling_space+down_len)*np.sin(angle)\n",
    "    y0 = y0 - (prime_pin/2+prime_gap+coupling_space+down_len)*np.cos(angle)*factor\n",
    "\n",
    "    x1 = x0 + l*np.sin(angle)\n",
    "    y1 = y0 - l*np.cos(angle)*factor\n",
    "\n",
    "    x2 = x1 + fillet*np.cos(angle)\n",
    "    y2 = y1 + fillet*np.sin(angle)*factor\n",
    "\n",
    "    x3 = x2 - l*np.sin(angle)\n",
    "    y3 = y2 + l*np.cos(angle)*factor\n",
    "\n",
    "    x4 = x3 + fillet*np.cos(angle)\n",
    "    y4 = y3 + fillet*np.sin(angle)*factor\n",
    "\n",
    "    x5 = x4 + l*np.sin(angle)\n",
    "    y5 = y4 + l*np.cos(angle)*factor\n",
    "\n",
    "    result = OrderedDict()\n",
    "    result[0] = [x1,y1]\n",
    "    result[1] = [x2,y2]\n",
    "    result[2] = [x3,y3]\n",
    "    result[3] = [x4,y4]\n",
    "    result[4] = [x5,y5]\n",
    "    return result\n"
   ]
  },
  {
   "cell_type": "markdown",
   "metadata": {},
   "source": [
    "# Initialize things by directly importing"
   ]
  },
  {
   "cell_type": "code",
   "execution_count": 6,
   "metadata": {},
   "outputs": [
    {
     "name": "stderr",
     "output_type": "stream",
     "text": [
      "10:39PM 19s CRITICAL [_qt_message_handler]: line: 0, func: None(), file: None  WARNING: Populating font family aliases took 173 ms. Replace uses of missing font family \"Courier\" with one that exists to avoid this cost. \n",
      "\n"
     ]
    }
   ],
   "source": [
    "gui = MetalGUI(dp.design)\n",
    "design = dp.design\n",
    "design.overwrite_enabled = True #This makes it possible to edit the designs later on. "
   ]
  },
  {
   "cell_type": "code",
   "execution_count": 7,
   "metadata": {},
   "outputs": [],
   "source": [
    "design.delete_all_components()"
   ]
  },
  {
   "cell_type": "code",
   "execution_count": 8,
   "metadata": {},
   "outputs": [],
   "source": [
    "qubit_layer = 5\n",
    "junction_layer = 20\n",
    "ab_layer = 31\n",
    "ab_square_layer = 30\n",
    "junction_area_layer = 60"
   ]
  },
  {
   "cell_type": "markdown",
   "metadata": {},
   "source": [
    "## Specify resonator specs\n",
    "\n",
    "Hand measured using kLayout"
   ]
  },
  {
   "cell_type": "code",
   "execution_count": 9,
   "metadata": {
    "tags": [
     "parameters"
    ]
   },
   "outputs": [],
   "source": [
    "coupling_d = [100,105,140,200,2,15,40,75]\n",
    "curve_d = [380,380,380,400,300,310,330,340]\n",
    "ground_plane_d = 10\n",
    "fillets = [200,200,280,320,200,200,200,240]\n",
    "\n",
    "prime_pin = 14.18\n",
    "prime_gap = 8\n",
    "\n",
    "res_orientation = [(-1)**i*90 for i in range(8)]\n",
    "res_flip_y = [i%2==0 for i in range(8)]\n",
    "\n",
    "res_order = [4,2,6,0, 7,1,5,3]\n"
   ]
  },
  {
   "cell_type": "markdown",
   "metadata": {},
   "source": [
    "# Put down wirebond pads"
   ]
  },
  {
   "cell_type": "code",
   "execution_count": 10,
   "metadata": {},
   "outputs": [],
   "source": [
    "wb_x0 = 4.7/2\n",
    "wb_y0 = 3.5-1.86"
   ]
  },
  {
   "cell_type": "code",
   "execution_count": 11,
   "metadata": {},
   "outputs": [],
   "source": [
    "# # -*- coding: utf-8 -*-\n",
    "\n",
    "# # This code is part of Qiskit.\n",
    "# #\n",
    "# # (C) Copyright IBM 2017, 2021.\n",
    "# #\n",
    "# # This code is licensed under the Apache License, Version 2.0. You may\n",
    "# # obtain a copy of this license in the LICENSE.txt file in the root directory\n",
    "# # of this source tree or at http://www.apache.org/licenses/LICENSE-2.0.\n",
    "# #\n",
    "# # Any modifications or derivative works of this code must retain this\n",
    "# # copyright notice, and modified files need to carry a notice indicating\n",
    "# # that they have been altered from the originals.\n",
    "\n",
    "# #  This a launch structure used on BlueJayV2, used for wire bonding\n",
    "# #  There is no CPW tee attached to this p#\n",
    "\n",
    "# # Imports required for drawing\n",
    "\n",
    "# # import numpy as np # (currently not used, may be needed later for component customization)\n",
    "# from qiskit_metal import draw\n",
    "# from qiskit_metal.toolbox_python.attr_dict import Dict\n",
    "# from qiskit_metal.qlibrary.core import QComponent\n",
    "\n",
    "# # Define class and options for the launch geometry\n",
    "\n",
    "\n",
    "# class LaunchpadWirebondCustom(QComponent):\n",
    "#     \"\"\"Launch pad to feed/read signals to/from the chip.\n",
    "\n",
    "#     Inherits 'QComponent' class.\n",
    "\n",
    "#     .. image::\n",
    "#         LaunchpadWirebond.png\n",
    "\n",
    "#     .. meta::\n",
    "#         Launchpad Wirebond\n",
    "\n",
    "#     Creates a 50 ohm launch pad with a ground pocket cutout.\n",
    "#     Limited but expandable parameters to control the launchpad polygons.\n",
    "#     The (0,0) point is the center of the necking of the launch tip.\n",
    "#     The pin attaches directly to the built in lead length at its midpoint\n",
    "\n",
    "#     Pocket and pad:\n",
    "#         Pocket and launch pad geometries are currently fixed.\n",
    "#         (0,0) point is the midpoint of the necking of the launch tip.\n",
    "#         Pocket is a negative shape that is cut out of the ground plane\n",
    "\n",
    "#     Values (unless noted) are strings with units included, (e.g., '30um')\n",
    "\n",
    "#     Sketch:\n",
    "#         Below is a sketch of the launch\n",
    "#         ::\n",
    "\n",
    "#             -----------\n",
    "#             |          \\\n",
    "#             |      ---------\\\\\n",
    "#             |      |    0    |    (0,0) pin at midpoint of necking, before the lead\n",
    "#             |      ---------//\n",
    "#             |          /\n",
    "#             -----------\n",
    "\n",
    "#             y\n",
    "#             ^\n",
    "#             |\n",
    "#             |------> x\n",
    "\n",
    "#     .. image::\n",
    "#         LaunchpadWirebond.png\n",
    "\n",
    "#     Default Options:\n",
    "#         * trace_width: 'cpw_width' -- Width of the transmission line attached to the launch pad\n",
    "#         * trace_gap: 'cpw_gap' -- Gap of the transmission line\n",
    "#         * lead_length: '25um' -- Length of the transmission line attached to the launch pad\n",
    "#         * pad_width: '80um' -- Width of the launch pad\n",
    "#         * pad_height: '80um' -- Height of the launch pad\n",
    "#         * pad_gap: '58um' -- Gap of the launch pad\n",
    "#         * taper_height: '122um' -- Height of the taper from the launch pad to the transmission line\n",
    "#         * pin_space: '100um' -- Space between the pin and the launch pad on the direction away from the transmission line\n",
    "#     \"\"\"\n",
    "\n",
    "#     default_options = Dict(trace_width='trace_width',\n",
    "#                            trace_gap='trace_gap',\n",
    "#                            lead_length='25um',\n",
    "#                            pad_width='80um',\n",
    "#                            pad_height='80um',\n",
    "#                            pad_gap='58um',\n",
    "#                            taper_height='122um',\n",
    "#                            pin_space = '100um')\n",
    "#     \"\"\"Default options\"\"\"\n",
    "\n",
    "#     TOOLTIP = \"\"\"Launch pad to feed/read signals to/from the chip.\"\"\"\n",
    "\n",
    "#     def make(self):\n",
    "#         \"\"\"This is executed by the user to generate the qgeometry for the\n",
    "#         component.\"\"\"\n",
    "\n",
    "#         p = self.p\n",
    "\n",
    "#         pad_width = p.pad_width\n",
    "#         pad_height = p.pad_height\n",
    "#         pad_gap = p.pad_gap\n",
    "#         trace_width = p.trace_width\n",
    "#         trace_width_half = trace_width / 2.\n",
    "#         pad_width_half = pad_width / 2.\n",
    "#         lead_length = p.lead_length\n",
    "#         taper_height = p.taper_height\n",
    "#         trace_gap = p.trace_gap\n",
    "\n",
    "#         pad_gap = p.pad_gap\n",
    "#         pin_space = p.pin_space\n",
    "#         #########################################################\n",
    "\n",
    "#         # Geometry of main launch structure\n",
    "#         # The shape is a polygon and we prepare this point as orientation is 0 degree\n",
    "#         launch_pad = draw.Polygon([\n",
    "#             (0, trace_width_half), \n",
    "#             (-taper_height, pad_width_half),\n",
    "#             (-(pad_height + taper_height), pad_width_half),\n",
    "#             (-(pad_height + taper_height), -pad_width_half),\n",
    "#             (-taper_height, -pad_width_half), (0, -trace_width_half),\n",
    "#             (lead_length, -trace_width_half), (lead_length, trace_width_half),\n",
    "#             (0, trace_width_half)\n",
    "#         ])\n",
    "\n",
    "#         # Geometry pocket (gap)\n",
    "#         # Same way applied for pocket\n",
    "#         pocket = draw.Polygon([(0, trace_width_half + trace_gap),\n",
    "#                                (-taper_height, pad_width_half + pad_gap),\n",
    "#                                (-(pad_height + taper_height + pin_space),\n",
    "#                                 pad_width_half + pad_gap),\n",
    "#                                (-(pad_height + taper_height + pin_space),\n",
    "#                                 -(pad_width_half + pad_gap)),\n",
    "#                                (-taper_height, -(pad_width_half + pad_gap)),\n",
    "#                                (0, -(trace_width_half + trace_gap)),\n",
    "#                                (lead_length, -(trace_width_half + trace_gap)),\n",
    "#                                (lead_length, trace_width_half + trace_gap),\n",
    "#                                (0, trace_width_half + trace_gap)])\n",
    "\n",
    "#         # These variables are used to graphically locate the pin locations\n",
    "#         main_pin_line = draw.LineString([(lead_length, trace_width_half),\n",
    "#                                          (lead_length, -trace_width_half)])\n",
    "\n",
    "#         # Create polygon object list\n",
    "#         polys1 = [main_pin_line, launch_pad, pocket]\n",
    "\n",
    "#         # Rotates and translates all the objects as requested. Uses package functions in\n",
    "#         # 'draw_utility' for easy rotation/translation\n",
    "#         polys1 = draw.rotate(polys1, p.orientation, origin=(0, 0))\n",
    "#         polys1 = draw.translate(polys1, xoff=p.pos_x, yoff=p.pos_y)\n",
    "#         [main_pin_line, launch_pad, pocket] = polys1\n",
    "\n",
    "#         # Adds the object to the qgeometry table\n",
    "#         self.add_qgeometry('poly', dict(launch_pad=launch_pad), layer=p.layer)\n",
    "\n",
    "#         # Subtracts out ground plane on the layer its on\n",
    "#         self.add_qgeometry('poly',\n",
    "#                            dict(pocket=pocket),\n",
    "#                            subtract=True,\n",
    "#                            layer=p.layer)\n",
    "\n",
    "#         # Generates the pins\n",
    "#         self.add_pin('tie', main_pin_line.coords, trace_width)\n"
   ]
  },
  {
   "cell_type": "code",
   "execution_count": 12,
   "metadata": {},
   "outputs": [],
   "source": [
    "Wirebond_opt = Dict(trace_width=design.variables['trace_width'],\n",
    "                           trace_gap=design.variables['trace_gap'],\n",
    "                           lead_length='30um',\n",
    "                           pad_width='200um',\n",
    "                           pad_height='500um',\n",
    "                           pad_gap='100um',\n",
    "                           taper_height='100um',\n",
    "                           layer = str(qubit_layer),\n",
    "                           pin_space = '200um')"
   ]
  },
  {
   "cell_type": "code",
   "execution_count": 13,
   "metadata": {},
   "outputs": [],
   "source": [
    "left_lauch_pads = LaunchpadWirebondCustom(design,'wb_left', options = Dict(pos_x = '{}mm'.format(-wb_x0),pos_y = '{}mm'.format(-wb_y0),orientation = '90',**Wirebond_opt))\n",
    "right_lauch_pads = LaunchpadWirebondCustom(design,'wb_right', options = Dict(pos_x = '{}mm'.format(wb_x0),pos_y = '{}mm'.format(-wb_y0),orientation = '90',**Wirebond_opt))\n",
    "\n",
    "gui.rebuild()\n",
    "gui.autoscale()\n"
   ]
  },
  {
   "cell_type": "markdown",
   "metadata": {},
   "source": [
    "# Put Down Resonator with Coupled Line Tee"
   ]
  },
  {
   "cell_type": "markdown",
   "metadata": {},
   "source": [
    "Import resonator parameters. Calculated using coupler_optimization.ipynb with website to optimize frequency and impedance. All the other parameters are measured from dxf file"
   ]
  },
  {
   "cell_type": "code",
   "execution_count": 14,
   "metadata": {},
   "outputs": [
    {
     "name": "stdout",
     "output_type": "stream",
     "text": [
      "   Unnamed: 0  Frequency          Q  Length  Gap    Pin  coupling_gap\n",
      "0           0        5.9  1278612.0  5.0535   10  17.73           118\n",
      "1           1        6.2  1210136.0  4.8072   12  21.27           123\n",
      "2           2        6.5  1149617.0  4.5836   14  24.82           158\n",
      "3           3        6.7  1113073.0  4.4457   16  28.37           158\n",
      "4           4        7.0  1063157.0  4.2536    2   3.55            20\n",
      "5           5        7.2  1032764.0  4.1344    4   7.09            33\n",
      "6           6        7.5   990927.0  3.9674    6  10.64            58\n",
      "7           7        7.9   941290.0  3.7646    8  14.18            93\n"
     ]
    }
   ],
   "source": [
    "resonator_params = pd.read_csv('results.csv')\n",
    "print(resonator_params)"
   ]
  },
  {
   "cell_type": "code",
   "execution_count": 15,
   "metadata": {},
   "outputs": [],
   "source": [
    "freqs = resonator_params['Frequency'].values\n",
    "Qs = resonator_params['Q'].values\n",
    "gaps = resonator_params['Gap'].values\n",
    "pins = resonator_params['Pin'].values\n",
    "coupling_gap = resonator_params['coupling_gap'].values\n",
    "lengths = resonator_params['Length'].values"
   ]
  },
  {
   "cell_type": "markdown",
   "metadata": {},
   "source": [
    "Define locations of resonators by defining location of the coupled line tee"
   ]
  },
  {
   "cell_type": "code",
   "execution_count": 16,
   "metadata": {},
   "outputs": [],
   "source": [
    "res_x = 1.15\n",
    "delta_x = 3.5-res_x\n",
    "\n",
    "res_x_all  = np.array([-delta_x*(-1)**i for i in range(8)])\n",
    "\n",
    "res_y_all = np.array([(5254+5210)/2,(4301+4248)/2,(3448+3387)/2,\n",
    "             (2395+2325)/2,(2365+2356)/2,(3326+3309)/2,\n",
    "             (4338+4311)/2,(5249+5214)/2])/1000-3.5"
   ]
  },
  {
   "cell_type": "code",
   "execution_count": 17,
   "metadata": {},
   "outputs": [],
   "source": [
    "# # -*- coding: utf-8 -*-\n",
    "\n",
    "# # This code is part of Qiskit.\n",
    "# #\n",
    "# # (C) Copyright IBM 2017, 2021.\n",
    "# #\n",
    "# # This code is licensed under the Apache License, Version 2.0. You may\n",
    "# # obtain a copy of this license in the LICENSE.txt file in the root directory\n",
    "# # of this source tree or at http://www.apache.org/licenses/LICENSE-2.0.\n",
    "# #\n",
    "# # Any modifications or derivative works of this code must retain this\n",
    "# # copyright notice, and modified files need to carry a notice indicating\n",
    "# # that they have been altered from the originals.\n",
    "\n",
    "# from qiskit_metal import draw, Dict\n",
    "# from qiskit_metal.qlibrary.core import QComponent\n",
    "# import numpy as np\n",
    "\n",
    "\n",
    "# class CoupledLineTee(QComponent):\n",
    "#     \"\"\"Generates a three pin (+) structure comprised of a primary two pin CPW\n",
    "#     transmission line, and a secondary one pin neighboring CPW transmission\n",
    "#     line that is capacitively/inductively coupled to the primary. Such a\n",
    "#     structure can be used, as an example, for generating CPW resonator hangars\n",
    "#     off of a transmission line.\n",
    "\n",
    "#     Inherits QComponent class.\n",
    "\n",
    "#     ::\n",
    "\n",
    "#         +----------------------------+\n",
    "#         ------------------------------\n",
    "#         |\n",
    "#         |\n",
    "#         |\n",
    "#         |\n",
    "#         +\n",
    "\n",
    "#     .. image::\n",
    "#         CoupledLineTee.png\n",
    "\n",
    "#     .. meta::\n",
    "#         Coupled Line Tee\n",
    "\n",
    "#     Default Options:\n",
    "#         * prime_width: '10um' -- The width of the trace of the two pin CPW transmission line\n",
    "#         * prime_gap: '6um' -- The dielectric gap of the two pin CPW transmission line\n",
    "#         * second_width: '10um' -- The width of the trace of the one pin CPW transmission line\n",
    "#         * second_gap: '6um' -- The dielectric gap of the one pin CPW transmission line\n",
    "#         * coupling_space: '3um' -- The amount of ground plane between the two transmission lines\n",
    "#         * coupling_length: '100um' -- The length of parallel between the two transmission lines\n",
    "#           note: this includes the distance of the curved second of the second line\n",
    "#         * down_length: '100um' -- The length of the hanging part of the resonator, including the etched region\n",
    "#         * fillet: '25um'\n",
    "#         * mirror: False -- Flips the hanger around the y-axis\n",
    "#         * open_termination: True -- sets if the termination of the second line at the coupling side\n",
    "#           is an open to ground or short to ground\n",
    "#     \"\"\"\n",
    "#     component_metadata = Dict(short_name='cpw', _qgeometry_table_path='True')\n",
    "#     \"\"\"Component metadata\"\"\"\n",
    "\n",
    "#     #Currently setting the primary CPW length based on the coupling_length\n",
    "#     #May want it to be it's own value that the user can control?\n",
    "#     default_options = Dict(prime_width='10um',\n",
    "#                            prime_gap='6um',\n",
    "#                            prime_length = '120um',\n",
    "#                            second_width='10um',\n",
    "#                            second_gap='6um',\n",
    "#                            coupling_space='3um',\n",
    "#                            pin_drop = '0um',\n",
    "#                            coupling_length='100um',\n",
    "#                            down_length='100um',\n",
    "#                            fillet='25um',\n",
    "#                            mirror=False,\n",
    "#                            open_termination=True)\n",
    "#     \"\"\"Default connector options\"\"\"\n",
    "\n",
    "#     TOOLTIP = \"\"\"Generates a three pin (+) \n",
    "#     structure comprised of a primary two \n",
    "#     pin CPW transmission line, and a \n",
    "#     secondary one pin neighboring CPW \n",
    "#     transmission line that is \n",
    "#     capacitively/inductively coupled \n",
    "#     to the primary.\"\"\"\n",
    "\n",
    "#     def make(self):\n",
    "#         \"\"\"Build the component.\"\"\"\n",
    "#         p = self.p\n",
    "\n",
    "#         prime_cpw_length = p.prime_length\n",
    "#         second_flip = 1\n",
    "#         if p.mirror:\n",
    "#             second_flip = -1\n",
    "\n",
    "#         #Primary CPW\n",
    "#         prime_cpw = draw.LineString([[-prime_cpw_length / 2, 0],\n",
    "#                                      [prime_cpw_length / 2, 0]])\n",
    "        \n",
    "#         second_termination = 0\n",
    "#         if p.open_termination:\n",
    "#             second_termination = p.second_gap\n",
    "\n",
    "#         #Secondary CPW\n",
    "#         second_down_length = p.down_length\n",
    "#         second_y = -p.prime_width / 2 - p.prime_gap  - p.coupling_space\n",
    "#         second_cpw = draw.LineString(\n",
    "#             [[0, second_y-p.pin_drop],\n",
    "#              [0,second_y - second_down_length]])\n",
    "\n",
    "        \n",
    "\n",
    "#         second_cpw_etch = draw.LineString(\n",
    "#             [[0, second_y],\n",
    "#              [0,second_y - second_down_length]])\n",
    "\n",
    "#         #Rotate and Translate\n",
    "#         c_items = [prime_cpw, second_cpw, second_cpw_etch]\n",
    "#         c_items = draw.rotate(c_items, p.orientation, origin=(0, 0))\n",
    "#         c_items = draw.translate(c_items, p.pos_x, p.pos_y)\n",
    "#         [prime_cpw, second_cpw, second_cpw_etch] = c_items\n",
    "\n",
    "#         #Add to qgeometry tables\n",
    "#         self.add_qgeometry('path', {'prime_cpw': prime_cpw},\n",
    "#                            width=p.prime_width)\n",
    "#         self.add_qgeometry('path', {'prime_cpw_sub': prime_cpw},\n",
    "#                            width=p.prime_width + 2 * p.prime_gap,\n",
    "#                            subtract=True)\n",
    "#         self.add_qgeometry('path', {'second_cpw': second_cpw},\n",
    "#                            width=p.second_width,\n",
    "#                            fillet=p.fillet)\n",
    "#         self.add_qgeometry('path', {'second_cpw_sub': second_cpw_etch},\n",
    "#                            width=p.second_width + 2 * p.second_gap,\n",
    "#                            subtract=True,\n",
    "#                            fillet=p.fillet)\n",
    "\n",
    "#         #Add pins\n",
    "#         prime_pin_list = prime_cpw.coords\n",
    "#         second_pin_list = second_cpw.coords\n",
    "\n",
    "#         self.add_pin('prime_start',\n",
    "#                      points=np.array(prime_pin_list[::-1]),\n",
    "#                      width=p.prime_width,\n",
    "#                      input_as_norm=True)\n",
    "#         self.add_pin('prime_end',\n",
    "#                      points=np.array(prime_pin_list),\n",
    "#                      width=p.prime_width,\n",
    "#                      input_as_norm=True)\n",
    "#         self.add_pin('second_end',\n",
    "#                      points=np.array(second_pin_list),\n",
    "#                      width=p.second_width,\n",
    "#                      input_as_norm=True)\n"
   ]
  },
  {
   "cell_type": "markdown",
   "metadata": {},
   "source": [
    "pre define some options"
   ]
  },
  {
   "cell_type": "code",
   "execution_count": 18,
   "metadata": {},
   "outputs": [],
   "source": [
    "TQ_options = dp.TQ_options\n",
    "TQ_options['prime_length'] = '120um'\n",
    "TQ_options['prime_gap'] = design.variables['trace_gap']\n",
    "TQ_options['prime_width'] = design.variables['trace_width']"
   ]
  },
  {
   "cell_type": "markdown",
   "metadata": {},
   "source": [
    "## Actual code that puts down CPW and CoupledLineTee\n",
    "\n",
    "NOTE: need to fix code and use RouteMixed with anchors to route CPWs. Currently using RouteMeander and lack control. "
   ]
  },
  {
   "cell_type": "code",
   "execution_count": 19,
   "metadata": {},
   "outputs": [],
   "source": [
    "TQs = []\n",
    "short_to_grounds = []\n",
    "cpws = []\n",
    "\n",
    "connection_cpws = []\n",
    "\n",
    "for i in range(8):\n",
    "    curve_d_i = curve_d[i]\n",
    "    coupling_d_i = coupling_d[i]\n",
    "    pins_i = pins[i]\n",
    "    gap_i = gaps[i]\n",
    "    fillet = fillets[i]\n",
    "\n",
    "    down_len =  - prime_pin/2 - prime_gap + curve_d_i+fillet*np.pi/2\n",
    "\n",
    "    TQ_options['down_length'] =  str(down_len) + 'um'\n",
    "    TQ_options['coupling_space'] = str(ground_plane_d) + 'um'\n",
    "    TQ_options['second_width'] = str(pins[i]) + 'um'\n",
    "    TQ_options['second_gap'] = str(gaps[i]) + 'um'\n",
    "    # TQ_options['coupling_space'] = str(coupling_gap[i])+ 'um'\n",
    "    TQ_options['pin_drop'] = str(coupling_d[i])+'um'\n",
    "    TQ_options['orientation'] = str(res_orientation[i])\n",
    "\n",
    "\n",
    "    TQs.append(CoupledLineTee(design, 'TQ_'+str(i), options=dict(pos_x='{} mm'.format(res_x_all[i]),\n",
    "                                                pos_y='{} mm'.format(res_y_all[i]), **TQ_options)))\n",
    "\n",
    "    CPW_options = dp.CPW_options\n",
    "    CPW_options['pin_width'] = str(pins[i]) + 'um'\n",
    "    CPW_options['gap_width'] = str(gaps[i]) + 'um'\n",
    "    CPW_options['total_length'] = str(np.around(lengths[i]-down_len/1000,4)) + 'mm'\n",
    "    CPW_options['pin_inputs'] = in_inputs=Dict(\n",
    "                start_pin=Dict(component='TQ_'+str(i), pin='second_end'),\n",
    "                end_pin=Dict(component='short'+str(i), pin='short'),)\n",
    "\n",
    "    CPW_options['trace_gap'] = str(gaps[i]) + 'um'\n",
    "    CPW_options['trace_width'] = str(pins[i]) + 'um'\n",
    "    CPW_options['lead'] = dict(start_straight = '600 um', end_straight = '400 um')\n",
    "    CPW_options['fillet'] = '{} um'.format(fillet)\n",
    "    CPW_options['prevent_short_edges'] = False\n",
    "    CPW_options['snap'] = True\n",
    "\n",
    "    anchors = s_anchors(TQs[-1].options, CPW_options,flip_y=res_flip_y[i])\n",
    "    orientation = parse_value('orientation', TQ_options) + 270\n",
    "    short_to_grounds.append(ShortToGround(design, 'short'+str(i), options=dict(pos_x='{} mm'.format(anchors[4][0]), pos_y='{} mm'.format(anchors[4][1]), \n",
    "                                                        orientation='{}'.format(orientation))))\n",
    " \n",
    "    CPW_options['fillet'] = '{} um'.format(fillet/2.1)\n",
    "    CPW_options['anchor'] = anchors\n",
    "    CPW_options['meander'] = dict(spacing= '{}um'.format(fillet), asymmetry= '0um')\n",
    "\n",
    "    cpws.append(RouteMeander(design, 'cpw'+str(i), options = CPW_options))\n",
    "                \n",
    "    \n",
    "\n",
    "    gui.rebuild()\n",
    "    gui.autoscale()"
   ]
  },
  {
   "cell_type": "markdown",
   "metadata": {},
   "source": [
    "### Connect coupled line tees"
   ]
  },
  {
   "cell_type": "code",
   "execution_count": 20,
   "metadata": {},
   "outputs": [],
   "source": [
    "for i, cpw in enumerate(res_order):\n",
    "        if i ==7:\n",
    "                break\n",
    "        elif i == 3:\n",
    "                continue\n",
    "        else:\n",
    "                trans_ops = dp.trans_options\n",
    "                trans_ops['pin_inputs'] = {'start_pin': {'component': TQs[cpw].name, \n",
    "                                                        'pin': 'prime_end'},\n",
    "                                        'end_pin': {'component': TQs[res_order[i+1]].name, \n",
    "                                                        'pin': 'prime_start'}}\n",
    "                connection_cpws.append(RouteStraight(design, \n",
    "                                                'connection_cpw'+str(cpw), \n",
    "                                                options = Dict(**dp.trans_options)))\n",
    "                gui.rebuild()"
   ]
  },
  {
   "cell_type": "code",
   "execution_count": 21,
   "metadata": {},
   "outputs": [],
   "source": [
    "anchors = OrderedDict()\n",
    "anchors[0] = (3.5-1.230,-0.2)\n",
    "anchors[1] = (3.5-1.230,0.2)"
   ]
  },
  {
   "cell_type": "code",
   "execution_count": 22,
   "metadata": {},
   "outputs": [],
   "source": [
    "i = 3\n",
    "trans_ops1 = dp.trans_options\n",
    "trans_ops1['lead'] = dict(start_straight = '300 um', end_straight = '300 um')\n",
    "trans_ops1['pin_inputs'] = {'start_pin': {'component': TQs[res_order[i]].name, 'pin': 'prime_end'},\n",
    "                           'end_pin': {'component': TQs[res_order[i+1]].name, 'pin': 'prime_start'}}\n",
    "trans_ops1['fillet'] = '90um'\n",
    "total_len = 0.3*2+4.7 + 0.9*(np.pi-2)\n",
    "trans_ops1['total_length'] = '{}mm'.format(total_len)\n",
    "cpw_top = RouteMixed(design, 'connection_cpw'+str(i),options = Dict(anchor = anchors,**trans_ops1))\n",
    "\n",
    "gui.rebuild()\n",
    "                "
   ]
  },
  {
   "cell_type": "code",
   "execution_count": 23,
   "metadata": {},
   "outputs": [],
   "source": [
    "\n",
    "trans_ops['pin_inputs'] = {'end_pin': {'component':'TQ_4','pin': 'prime_start'},'start_pin': {'component': 'wb_left', 'pin': 'tie'}}\n",
    "# connection_cpws.append(RouteStraight(design,'connection_cpw'+str(cpw), options = Dict(**dp.trans_options)))\n",
    "\n",
    "cpw_left_launch = RouteStraight(design, 'cpw_left_launch', options = Dict(**trans_ops))\n",
    "\n",
    "trans_ops['pin_inputs'] = {'end_pin': {'component':'TQ_3','pin': 'prime_end'},'start_pin': {'component': 'wb_right', 'pin': 'tie'}}\n",
    "cpw_right_launch = RouteStraight(design, 'cpw_right_launch', options = Dict(**trans_ops))\n",
    "\n",
    "gui.rebuild()"
   ]
  },
  {
   "cell_type": "code",
   "execution_count": null,
   "metadata": {},
   "outputs": [],
   "source": []
  },
  {
   "cell_type": "code",
   "execution_count": 24,
   "metadata": {},
   "outputs": [],
   "source": [
    "# design.chips.main.size['size_x'] = '10mm'\n",
    "# design.chips.main.size['size_y'] = '10mm'\n",
    "# gui.rebuild()\n",
    "a_gds = design.renderers.gds"
   ]
  },
  {
   "cell_type": "code",
   "execution_count": 25,
   "metadata": {},
   "outputs": [],
   "source": [
    "a_gds.options.cheese.edge_nocheese = '200um'\n",
    "a_gds.options.no_cheese.buffer = '16um'\n",
    "a_gds.options.cheese.cheese_1_radius = '70um'"
   ]
  },
  {
   "cell_type": "code",
   "execution_count": 26,
   "metadata": {},
   "outputs": [],
   "source": [
    "qubit_layer = 5\n",
    "junction_layer = 20\n",
    "ab_layer = 31\n",
    "ab_square_layer = 30\n",
    "junction_area_layer = 60"
   ]
  },
  {
   "cell_type": "code",
   "execution_count": 27,
   "metadata": {},
   "outputs": [],
   "source": [
    "a_gds.options['max_points'] = 500\n",
    "a_gds.options['fabricate'] = True"
   ]
  },
  {
   "cell_type": "code",
   "execution_count": 28,
   "metadata": {},
   "outputs": [],
   "source": [
    "a_gds.options['cheese']['view_in_file']['main'][qubit_layer] = True\n",
    "a_gds.options['no_cheese']['view_in_file']['main'][qubit_layer] = True\n",
    "a_gds.options['cheese']['view_in_file']['main'][junction_layer] = False\n",
    "a_gds.options['no_cheese']['view_in_file']['main'][junction_layer] = True\n",
    "a_gds.options['cheese']['view_in_file']['main'][ab_layer] = False\n",
    "a_gds.options['no_cheese']['view_in_file']['main'][ab_layer] = True\n",
    "a_gds.options['cheese']['view_in_file']['main'][ab_square_layer] = False\n",
    "a_gds.options['no_cheese']['view_in_file']['main'][ab_square_layer] = True\n",
    "a_gds.options['cheese']['view_in_file']['main'][1] = True\n",
    "a_gds.options['no_cheese']['view_in_file']['main'][1] = True"
   ]
  },
  {
   "cell_type": "code",
   "execution_count": 29,
   "metadata": {},
   "outputs": [],
   "source": [
    "# a_gds.options['cheese']['view_in_file']['main'][qubit_layer] = True\n",
    "# a_gds.options['no_cheese']['view_in_file']['main'][qubit_layer] = True\n",
    "# a_gds.options['cheese']['view_in_file']['main'][junction_layer] = True\n",
    "# a_gds.options['no_cheese']['view_in_file']['main'][junction_layer] = True\n",
    "# a_gds.options['cheese']['view_in_file']['main'][ab_layer] = True\n",
    "# a_gds.options['no_cheese']['view_in_file']['main'][ab_layer] = True\n",
    "# a_gds.options['cheese']['view_in_file']['main'][ab_square_layer] = True\n",
    "# a_gds.options['no_cheese']['view_in_file']['main'][ab_square_layer] = True\n",
    "# a_gds.options['cheese']['view_in_file']['main']['1'] = True\n",
    "# a_gds.options['no_cheese']['view_in_file']['main']['1'] = True\n",
    "\n",
    "\n",
    "\n",
    "a_gds.options['fabricate'] = False\n",
    "a_gds.options.tolerance = '0.0000005'\n",
    "a_gds.options.precision = '0.0000000005'"
   ]
  },
  {
   "cell_type": "code",
   "execution_count": 30,
   "metadata": {},
   "outputs": [
    {
     "data": {
      "text/plain": [
       "{'datatype': '100',\n",
       " 'shape': '0',\n",
       " 'cheese_0_x': '25um',\n",
       " 'cheese_0_y': '25um',\n",
       " 'cheese_1_radius': '70um',\n",
       " 'view_in_file': {'main': {1: True, 5: True, 20: False, 31: False, 30: False}},\n",
       " 'delta_x': '100um',\n",
       " 'delta_y': '100um',\n",
       " 'edge_nocheese': '200um'}"
      ]
     },
     "execution_count": 30,
     "metadata": {},
     "output_type": "execute_result"
    }
   ],
   "source": [
    "a_gds.options['cheese']"
   ]
  },
  {
   "cell_type": "code",
   "execution_count": 31,
   "metadata": {},
   "outputs": [],
   "source": [
    "a_gds.options.cheese.edge_nocheese = '150um'\n",
    "a_gds.options.no_cheese.buffer = '200um'\n",
    "a_gds.options.cheese.cheese_1_radius = '100um'"
   ]
  },
  {
   "cell_type": "code",
   "execution_count": 32,
   "metadata": {},
   "outputs": [
    {
     "name": "stderr",
     "output_type": "stream",
     "text": [
      "10:39PM 26s WARNING [_import_junction_gds_file]: Not able to find file:\"../resources/Fake_Junctions.GDS\".  Not used to replace junction. Checked directory:\"/Users/wendy/Desktop/Wendy-qiskit-code/resources\".\n"
     ]
    },
    {
     "name": "stdout",
     "output_type": "stream",
     "text": [
      "ground_main_5\n"
     ]
    },
    {
     "data": {
      "text/plain": [
       "1"
      ]
     },
     "execution_count": 32,
     "metadata": {},
     "output_type": "execute_result"
    }
   ],
   "source": [
    "# gui.rebuild()\n",
    "a_gds.export_to_gds('resonator_design.gds')"
   ]
  },
  {
   "cell_type": "code",
   "execution_count": null,
   "metadata": {},
   "outputs": [],
   "source": []
  },
  {
   "cell_type": "code",
   "execution_count": null,
   "metadata": {},
   "outputs": [],
   "source": []
  }
 ],
 "metadata": {
  "kernelspec": {
   "display_name": "qiskit",
   "language": "python",
   "name": "python3"
  },
  "language_info": {
   "codemirror_mode": {
    "name": "ipython",
    "version": 3
   },
   "file_extension": ".py",
   "mimetype": "text/x-python",
   "name": "python",
   "nbconvert_exporter": "python",
   "pygments_lexer": "ipython3",
   "version": "3.11.0"
  }
 },
 "nbformat": 4,
 "nbformat_minor": 2
}
