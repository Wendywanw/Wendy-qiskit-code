{
 "cells": [
  {
   "attachments": {},
   "cell_type": "markdown",
   "metadata": {},
   "source": [
    "## Optimizing Resonator Designs"
   ]
  },
  {
   "attachments": {},
   "cell_type": "markdown",
   "metadata": {},
   "source": [
    "There are many factors for the resonator design. I categorized the factors into two tiers:\n",
    "\n",
    "Top Tier:\n",
    "1. Length\n",
    "2. Center pin to gap ratio (this defines the impedance of the resonator). \n",
    "\n",
    "Second Tier:\n",
    "1. Center pin width\n"
   ]
  },
  {
   "cell_type": "code",
   "execution_count": 2,
   "metadata": {},
   "outputs": [],
   "source": [
    "import astropy.units as u\n",
    "import astropy.constants as c"
   ]
  },
  {
   "cell_type": "code",
   "execution_count": 4,
   "metadata": {},
   "outputs": [],
   "source": [
    "# define constants for LL designs\n",
    "sub_t = 350*u.um #substrate thickness (Si in this case)\n",
    "metal_t = 250*u.nm #Deposited metal thickness (Al)\n",
    "Sc = 67*u.fF/(u.um)**2 #JJ specific capacitance\n",
    "epsilon = 11.45\n",
    "W_jj = 200*u.nm #junction width"
   ]
  },
  {
   "attachments": {},
   "cell_type": "markdown",
   "metadata": {},
   "source": [
    "### Use Qiskit-metal function to calculate CPW pin/gap ratio"
   ]
  },
  {
   "cell_type": "code",
   "execution_count": 8,
   "metadata": {},
   "outputs": [],
   "source": [
    "import qiskit_metal.analyses as analyses"
   ]
  },
  {
   "cell_type": "code",
   "execution_count": 61,
   "metadata": {},
   "outputs": [],
   "source": [
    "freq = 7*u.GHz.si\n",
    "line_width = 15.322*u.um\n",
    "line_gap = 10*u.um"
   ]
  },
  {
   "cell_type": "code",
   "execution_count": 14,
   "metadata": {},
   "outputs": [
    {
     "data": {
      "text/plain": [
       "7000000000.0"
      ]
     },
     "execution_count": 14,
     "metadata": {},
     "output_type": "execute_result"
    }
   ],
   "source": [
    "freq.to(u.Hz).value"
   ]
  },
  {
   "cell_type": "code",
   "execution_count": 18,
   "metadata": {},
   "outputs": [],
   "source": [
    "res = analyses.cpw_calculations.lumped_cpw(freq.to(u.Hz).value,\n",
    "                                     line_width.to(u.m).value,\n",
    "                                     line_gap.to(u.m).value,\n",
    "                                     sub_t.to(u.m).value,\n",
    "                                     metal_t.to(u.m).value)\n",
    "\n",
    "Z0 = res[4]*u.Ohm"
   ]
  },
  {
   "cell_type": "code",
   "execution_count": 19,
   "metadata": {},
   "outputs": [
    {
     "data": {
      "text/latex": [
       "$52.72897 \\; \\mathrm{\\Omega}$"
      ],
      "text/plain": [
       "<Quantity 52.72897025 Ohm>"
      ]
     },
     "execution_count": 19,
     "metadata": {},
     "output_type": "execute_result"
    }
   ],
   "source": [
    "Z0"
   ]
  },
  {
   "cell_type": "code",
   "execution_count": 24,
   "metadata": {},
   "outputs": [],
   "source": [
    "def f(line_gap):\n",
    "    return(analyses.cpw_calculations.lumped_cpw(freq.to(u.Hz).value,\n",
    "                                     line_width.to(u.m).value,\n",
    "                                     line_gap.to(u.m).value,\n",
    "                                     sub_t.to(u.m).value,\n",
    "                                     metal_t.to(u.m).value)[4]-50)"
   ]
  },
  {
   "cell_type": "code",
   "execution_count": 89,
   "metadata": {},
   "outputs": [],
   "source": [
    "def find_gap_val( line_gap, tol):\n",
    "    err = 1\n",
    "    gap0 = line_gap.value*u.um\n",
    "    p0 = f(gap0)\n",
    "    \n",
    "    step = 0.1*u.um\n",
    "    gap = line_gap.value*u.um\n",
    "    pp = f(gap)\n",
    "    for i in range(1000):\n",
    "        if (i==0)|(pp*p0>0):\n",
    "            gap -= step\n",
    "            pp = f(gap)\n",
    "        if pp*p0<0:\n",
    "            # print(pp,p0)\n",
    "            gap1 = (gap0+gap)/2\n",
    "            ppp = f(gap1)\n",
    "            \n",
    "            if abs(ppp)<tol:\n",
    "                return(gap1)\n",
    "            elif ppp*pp<0:\n",
    "                # print('a1',gap0,gap)\n",
    "                gap0 = gap1\n",
    "                gap = gap\n",
    "                # print('a2',gap0,gap)\n",
    "            elif p0*ppp<0:\n",
    "                gap0 = gap0\n",
    "                gap = gap1\n",
    "                # print('b',p0,pp,ppp)\n",
    "                \n",
    "        # print(p0,pp,ppp)\n",
    "    \n",
    "    return(True)"
   ]
  },
  {
   "cell_type": "code",
   "execution_count": 90,
   "metadata": {},
   "outputs": [],
   "source": [
    "n = find_gap_val(line_gap,0.001)"
   ]
  },
  {
   "cell_type": "code",
   "execution_count": 91,
   "metadata": {},
   "outputs": [
    {
     "data": {
      "text/latex": [
       "$8.2834961 \\; \\mathrm{\\mu m}$"
      ],
      "text/plain": [
       "<Quantity 8.28349609 um>"
      ]
     },
     "execution_count": 91,
     "metadata": {},
     "output_type": "execute_result"
    }
   ],
   "source": [
    "n"
   ]
  },
  {
   "cell_type": "code",
   "execution_count": 87,
   "metadata": {},
   "outputs": [
    {
     "data": {
      "text/plain": [
       "0.00034167145241781327"
      ]
     },
     "execution_count": 87,
     "metadata": {},
     "output_type": "execute_result"
    }
   ],
   "source": [
    "f(n)"
   ]
  },
  {
   "cell_type": "code",
   "execution_count": null,
   "metadata": {},
   "outputs": [],
   "source": [
    "def find(line_gap,tol):\n",
    "    err = 1\n",
    "    "
   ]
  }
 ],
 "metadata": {
  "kernelspec": {
   "display_name": "qmetal",
   "language": "python",
   "name": "python3"
  },
  "language_info": {
   "codemirror_mode": {
    "name": "ipython",
    "version": 3
   },
   "file_extension": ".py",
   "mimetype": "text/x-python",
   "name": "python",
   "nbconvert_exporter": "python",
   "pygments_lexer": "ipython3",
   "version": "3.10.8"
  },
  "orig_nbformat": 4,
  "vscode": {
   "interpreter": {
    "hash": "3d94aa5e991f42a947ea471483690d41ff98c3bc6544fbd85305609e84f42efa"
   }
  }
 },
 "nbformat": 4,
 "nbformat_minor": 2
}
