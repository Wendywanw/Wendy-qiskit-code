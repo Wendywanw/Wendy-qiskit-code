{
 "cells": [
  {
   "attachments": {},
   "cell_type": "markdown",
   "metadata": {},
   "source": [
    "## Optimizing Resonator Designs"
   ]
  },
  {
   "attachments": {},
   "cell_type": "markdown",
   "metadata": {},
   "source": [
    "There are many factors for the resonator design. I categorized the factors into two tiers:\n",
    "\n",
    "Top Tier:\n",
    "1. Length\n",
    "2. Center pin to gap ratio (this defines the impedance of the resonator). \n",
    "\n",
    "Second Tier:\n",
    "1. Center pin width\n"
   ]
  },
  {
   "cell_type": "code",
   "execution_count": 21,
   "metadata": {},
   "outputs": [],
   "source": [
    "import astropy.units as u\n",
    "import astropy.constants as c\n",
    "import scipy.optimize as optimize"
   ]
  },
  {
   "cell_type": "code",
   "execution_count": 41,
   "metadata": {},
   "outputs": [],
   "source": [
    "# define constants for LL designs\n",
    "sub_t = 350*u.um #substrate thickness (Si in this case)\n",
    "metal_t = 250*u.nm #Deposited metal thickness (Al)\n",
    "Sc = 67*u.fF/(u.um)**2 #JJ specific capacitance\n",
    "epsilon = 11.45\n",
    "W_jj = 200*u.nm #junction width"
   ]
  },
  {
   "attachments": {},
   "cell_type": "markdown",
   "metadata": {},
   "source": [
    "### Use Qiskit-metal function to calculate transmission line pin/gap ratio"
   ]
  },
  {
   "attachments": {},
   "cell_type": "markdown",
   "metadata": {},
   "source": [
    "Note to self: when constructing function for scipy, the variable to optimize has to be dimensionless. "
   ]
  },
  {
   "cell_type": "code",
   "execution_count": 42,
   "metadata": {},
   "outputs": [],
   "source": [
    "import qiskit_metal.analyses as analyses"
   ]
  },
  {
   "cell_type": "code",
   "execution_count": 43,
   "metadata": {},
   "outputs": [],
   "source": [
    "def f(line_gap):\n",
    "    return(analyses.cpw_calculations.lumped_cpw(freq.to(u.Hz).value,\n",
    "                                     line_width.to(u.m).value,\n",
    "                                     line_gap,\n",
    "                                     sub_t.to(u.m).value,\n",
    "                                     metal_t.to(u.m).value)[4]-50)"
   ]
  },
  {
   "cell_type": "code",
   "execution_count": 44,
   "metadata": {},
   "outputs": [],
   "source": [
    "freq = 7*u.GHz.si\n",
    "line_width = 15.322*u.um\n",
    "line_gap = 10*u.um"
   ]
  },
  {
   "cell_type": "code",
   "execution_count": 27,
   "metadata": {},
   "outputs": [],
   "source": [
    "res = analyses.cpw_calculations.lumped_cpw(freq.to(u.Hz).value,\n",
    "                                     line_width.to(u.m).value,\n",
    "                                     line_gap.to(u.m).value,\n",
    "                                     sub_t.to(u.m).value,\n",
    "                                     metal_t.to(u.m).value)\n",
    "\n",
    "Z0 = res[4]*u.Ohm"
   ]
  },
  {
   "cell_type": "code",
   "execution_count": 28,
   "metadata": {},
   "outputs": [
    {
     "data": {
      "text/latex": [
       "$52.72897 \\; \\mathrm{\\Omega}$"
      ],
      "text/plain": [
       "<Quantity 52.72897025 Ohm>"
      ]
     },
     "execution_count": 28,
     "metadata": {},
     "output_type": "execute_result"
    }
   ],
   "source": [
    "Z0"
   ]
  },
  {
   "cell_type": "code",
   "execution_count": 56,
   "metadata": {},
   "outputs": [],
   "source": [
    "optimized_gap = optimize.fsolve(f,line_gap.si.value)[0]*u.m"
   ]
  },
  {
   "cell_type": "code",
   "execution_count": 57,
   "metadata": {},
   "outputs": [
    {
     "data": {
      "text/latex": [
       "$8.2834961 \\; \\mathrm{\\mu m}$"
      ],
      "text/plain": [
       "<Quantity 8.28349609 um>"
      ]
     },
     "execution_count": 57,
     "metadata": {},
     "output_type": "execute_result"
    }
   ],
   "source": [
    "optimzied_gap"
   ]
  },
  {
   "cell_type": "code",
   "execution_count": 58,
   "metadata": {},
   "outputs": [
    {
     "data": {
      "text/plain": [
       "7.105427357601002e-15"
      ]
     },
     "execution_count": 58,
     "metadata": {},
     "output_type": "execute_result"
    }
   ],
   "source": [
    "f(optimized_gap.si.value)"
   ]
  },
  {
   "cell_type": "code",
   "execution_count": 60,
   "metadata": {},
   "outputs": [
    {
     "data": {
      "text/plain": [
       "(1.6655452372229007e-09,\n",
       " 4.211256177953425e-07,\n",
       " 1.6845024711813694e-10,\n",
       " 3.703063394264467e-05,\n",
       " 50.00000000000001,\n",
       " 6.082601695790244,\n",
       " 9.583285084677287e-11)"
      ]
     },
     "execution_count": 60,
     "metadata": {},
     "output_type": "execute_result"
    }
   ],
   "source": [
    "analyses.cpw_calculations.lumped_cpw(freq.to(u.Hz).value,\n",
    "                                     line_width.to(u.m).value,\n",
    "                                     optimized_gap.to(u.m).value,\n",
    "                                     sub_t.to(u.m).value,\n",
    "                                     metal_t.to(u.m).value)"
   ]
  },
  {
   "attachments": {},
   "cell_type": "markdown",
   "metadata": {},
   "source": [
    "### Using the optimzied pin/gap ratio optimzie to construct a python function that takes coupling strength between and outputs a coupled line Tee design. "
   ]
  },
  {
   "cell_type": "code",
   "execution_count": null,
   "metadata": {},
   "outputs": [],
   "source": []
  }
 ],
 "metadata": {
  "kernelspec": {
   "display_name": "qmetal",
   "language": "python",
   "name": "python3"
  },
  "language_info": {
   "codemirror_mode": {
    "name": "ipython",
    "version": 3
   },
   "file_extension": ".py",
   "mimetype": "text/x-python",
   "name": "python",
   "nbconvert_exporter": "python",
   "pygments_lexer": "ipython3",
   "version": "3.10.8"
  },
  "orig_nbformat": 4,
  "vscode": {
   "interpreter": {
    "hash": "3d94aa5e991f42a947ea471483690d41ff98c3bc6544fbd85305609e84f42efa"
   }
  }
 },
 "nbformat": 4,
 "nbformat_minor": 2
}
