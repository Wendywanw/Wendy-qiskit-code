{
 "cells": [
  {
   "attachments": {},
   "cell_type": "markdown",
   "metadata": {},
   "source": [
    "## Optimizing Resonator Designs"
   ]
  },
  {
   "attachments": {},
   "cell_type": "markdown",
   "metadata": {},
   "source": [
    "There are many factors for the resonator design. I categorized the factors into two tiers:\n",
    "\n",
    "Top Tier:\n",
    "1. Length\n",
    "2. Center pin to gap ratio (this defines the impedance of the resonator). \n",
    "\n",
    "Second Tier:\n",
    "1. Center pin width\n"
   ]
  },
  {
   "cell_type": "code",
   "execution_count": 26,
   "metadata": {},
   "outputs": [],
   "source": [
    "import astropy.units as u\n",
    "import astropy.constants as c\n",
    "import scipy.optimize as optimize"
   ]
  },
  {
   "cell_type": "code",
   "execution_count": 41,
   "metadata": {},
   "outputs": [],
   "source": [
    "# define constants for LL designs\n",
    "sub_t = 350*u.um #substrate thickness (Si in this case)\n",
    "metal_t = 250*u.nm #Deposited metal thickness (Al)\n",
    "Sc = 67*u.fF/(u.um)**2 #JJ specific capacitance\n",
    "epsilon = 11.45\n",
    "W_jj = 200*u.nm #junction width"
   ]
  },
  {
   "attachments": {},
   "cell_type": "markdown",
   "metadata": {},
   "source": [
    "### Use Qiskit-metal function to calculate transmission line pin/gap ratio"
   ]
  },
  {
   "attachments": {},
   "cell_type": "markdown",
   "metadata": {},
   "source": [
    "Note to self: when constructing function for scipy, the variable to optimize has to be dimensionless. "
   ]
  },
  {
   "cell_type": "code",
   "execution_count": 42,
   "metadata": {},
   "outputs": [],
   "source": [
    "import qiskit_metal.analyses as analyses"
   ]
  },
  {
   "cell_type": "code",
   "execution_count": 43,
   "metadata": {},
   "outputs": [],
   "source": [
    "def f(line_gap):\n",
    "    return(analyses.cpw_calculations.lumped_cpw(freq.to(u.Hz).value,\n",
    "                                     line_width.to(u.m).value,\n",
    "                                     line_gap,\n",
    "                                     sub_t.to(u.m).value,\n",
    "                                     metal_t.to(u.m).value)[4]-50)"
   ]
  },
  {
   "cell_type": "code",
   "execution_count": 44,
   "metadata": {},
   "outputs": [],
   "source": [
    "freq = 7*u.GHz.si\n",
    "line_width = 15.322*u.um\n",
    "line_gap = 10*u.um"
   ]
  },
  {
   "cell_type": "code",
   "execution_count": 27,
   "metadata": {},
   "outputs": [],
   "source": [
    "res = analyses.cpw_calculations.lumped_cpw(freq.to(u.Hz).value,\n",
    "                                     line_width.to(u.m).value,\n",
    "                                     line_gap.to(u.m).value,\n",
    "                                     sub_t.to(u.m).value,\n",
    "                                     metal_t.to(u.m).value)\n",
    "\n",
    "Z0 = res[4]*u.Ohm"
   ]
  },
  {
   "cell_type": "code",
   "execution_count": 28,
   "metadata": {},
   "outputs": [
    {
     "data": {
      "text/latex": [
       "$52.72897 \\; \\mathrm{\\Omega}$"
      ],
      "text/plain": [
       "<Quantity 52.72897025 Ohm>"
      ]
     },
     "execution_count": 28,
     "metadata": {},
     "output_type": "execute_result"
    }
   ],
   "source": [
    "Z0"
   ]
  },
  {
   "cell_type": "code",
   "execution_count": 56,
   "metadata": {},
   "outputs": [],
   "source": [
    "optimized_gap = optimize.fsolve(f,line_gap.si.value)[0]*u.m"
   ]
  },
  {
   "cell_type": "code",
   "execution_count": 57,
   "metadata": {},
   "outputs": [
    {
     "data": {
      "text/latex": [
       "$8.2834961 \\; \\mathrm{\\mu m}$"
      ],
      "text/plain": [
       "<Quantity 8.28349609 um>"
      ]
     },
     "execution_count": 57,
     "metadata": {},
     "output_type": "execute_result"
    }
   ],
   "source": [
    "optimzied_gap"
   ]
  },
  {
   "cell_type": "code",
   "execution_count": 58,
   "metadata": {},
   "outputs": [
    {
     "data": {
      "text/plain": [
       "7.105427357601002e-15"
      ]
     },
     "execution_count": 58,
     "metadata": {},
     "output_type": "execute_result"
    }
   ],
   "source": [
    "f(optimized_gap.si.value)"
   ]
  },
  {
   "cell_type": "code",
   "execution_count": 60,
   "metadata": {},
   "outputs": [
    {
     "data": {
      "text/plain": [
       "(1.6655452372229007e-09,\n",
       " 4.211256177953425e-07,\n",
       " 1.6845024711813694e-10,\n",
       " 3.703063394264467e-05,\n",
       " 50.00000000000001,\n",
       " 6.082601695790244,\n",
       " 9.583285084677287e-11)"
      ]
     },
     "execution_count": 60,
     "metadata": {},
     "output_type": "execute_result"
    }
   ],
   "source": [
    "analyses.cpw_calculations.lumped_cpw(freq.to(u.Hz).value,\n",
    "                                     line_width.to(u.m).value,\n",
    "                                     optimized_gap.to(u.m).value,\n",
    "                                     sub_t.to(u.m).value,\n",
    "                                     metal_t.to(u.m).value)"
   ]
  },
  {
   "attachments": {},
   "cell_type": "markdown",
   "metadata": {},
   "source": [
    "### Using the optimzied pin/gap ratio optimzie to construct a python function that takes coupling strength between and outputs a coupled line Tee design. "
   ]
  },
  {
   "cell_type": "code",
   "execution_count": 1,
   "metadata": {},
   "outputs": [],
   "source": [
    "from qiskit_metal import designs, draw\n",
    "from qiskit_metal import MetalGUI, Dict, Headings"
   ]
  },
  {
   "cell_type": "code",
   "execution_count": 4,
   "metadata": {},
   "outputs": [],
   "source": [
    "#This imports the necessary path to draw the single pad transmon design. \n",
    "import sys\n",
    "sys.path.append('Customized_Components')\n",
    "from single_pad_transmon_pocket import TransmonPocket_Single\n",
    "\n",
    "import shapely\n",
    "import warnings\n",
    "from shapely.errors import ShapelyDeprecationWarning\n",
    "warnings.filterwarnings(\"ignore\", category=ShapelyDeprecationWarning)"
   ]
  },
  {
   "cell_type": "code",
   "execution_count": 2,
   "metadata": {},
   "outputs": [],
   "source": [
    "design = designs.DesignPlanar()\n",
    "gui = MetalGUI(design)"
   ]
  },
  {
   "cell_type": "code",
   "execution_count": 147,
   "metadata": {},
   "outputs": [],
   "source": [
    "pocket_width = 350*u.um\n",
    "CPW_pocket_extend = 5*u.um"
   ]
  },
  {
   "cell_type": "code",
   "execution_count": 148,
   "metadata": {},
   "outputs": [
    {
     "data": {
      "text/plain": [
       "'350.0 um'"
      ]
     },
     "execution_count": 148,
     "metadata": {},
     "output_type": "execute_result"
    }
   ],
   "source": [
    "str(pocket_width)"
   ]
  },
  {
   "cell_type": "code",
   "execution_count": 163,
   "metadata": {},
   "outputs": [],
   "source": [
    "design.overwrite_enabled = True #This makes it possible to edit the designs later on. \n",
    "\n",
    "design.delete_all_components()\n",
    "\n",
    "options = dict(pad_width = '330um',\n",
    "pocket_width = '{}'.format(pocket_width),\n",
    "pad_pocket_distance_top = '30um',\n",
    "pos_x = '0',\n",
    "pad_height = '260um',\n",
    "pos_y = '0',\n",
    "connection_pads = dict(\n",
    "    a = dict(loc_W  = 1, \n",
    "             loc_H =  1, \n",
    "             pad_gap = '10um',\n",
    "             pad_height = '15um',\n",
    "             pad_width = '60um',\n",
    "             pad_cpw_extent =  '10um',\n",
    "             pocket_rise = '0um',\n",
    "             cpw_extend = '{}'.format(CPW_pocket_extend))))\n",
    "\n",
    "q1 = TransmonPocket_Single(design,'Q1',options = options)\n",
    "\n",
    "gui.rebuild()\n",
    "gui.zoom_on_components(['Q1'])"
   ]
  },
  {
   "cell_type": "code",
   "execution_count": 164,
   "metadata": {},
   "outputs": [],
   "source": [
    "#This is a function to generate needed pins for CPW drawing. \n",
    "import numpy as np\n",
    "from collections import OrderedDict\n",
    "\n",
    "\n",
    "def pins_for_spiral(diameter,gap,n,dis = (0,0)):\n",
    "    spiral_list = OrderedDict()\n",
    "    x,y = dis\n",
    "    for step in range(n):\n",
    "        point_value = diameter / 2 + step * (0 + gap)\n",
    "        spiral_list[step*4] = np.array([x+point_value, y-point_value])\n",
    "        spiral_list[step*4+1] = np.array([x-point_value, y-point_value])\n",
    "        spiral_list[step*4+2] = np.array([x-point_value, y+point_value])\n",
    "        spiral_list[step*4+3] = np.array([x+point_value + (0 + gap), y+point_value])\n",
    "\n",
    "    point_value = diameter / 2 + (step + 1) * (0 + gap)\n",
    "    # spiral_list[step*4+4] = np.array([-point_value, -point_value])\n",
    "    return(spiral_list)"
   ]
  },
  {
   "cell_type": "code",
   "execution_count": 170,
   "metadata": {},
   "outputs": [
    {
     "name": "stdout",
     "output_type": "stream",
     "text": [
      "OrderedDict([(0, array([ 0.2  , -0.225])), (1, array([-0.2  , -0.225])), (2, array([-0.2  ,  0.175])), (3, array([0.24 , 0.175])), (4, array([ 0.24 , -0.265])), (5, array([-0.24 , -0.265])), (6, array([-0.24 ,  0.215])), (7, array([0.28 , 0.215]))])\n"
     ]
    }
   ],
   "source": [
    "diameter = (pocket_width+CPW_pocket_extend*2).to(u.mm).value\n",
    "gap = 0.04\n",
    "diameter += gap\n",
    "\n",
    "offset = 0.025\n",
    "\n",
    "anchors = pins_for_spiral(diameter, gap,2,dis = (0,0-offset))\n",
    "print(anchors)\n"
   ]
  },
  {
   "cell_type": "code",
   "execution_count": 171,
   "metadata": {},
   "outputs": [],
   "source": [
    "options = Dict(total_length='4 mm',\n",
    "        hfss_wire_bonds = True,\n",
    "        q3d_wire_bonds = True,\n",
    "        fillet='20 um',\n",
    "        lead = dict(start_straight='20um', end_straight = '0um'),\n",
    "        anchors = anchors,\n",
    "        pin_inputs=Dict(\n",
    "            start_pin=Dict(component='Q1', pin='a'),\n",
    "            end_pin=Dict(component='end', pin='short')), )"
   ]
  },
  {
   "cell_type": "code",
   "execution_count": 172,
   "metadata": {},
   "outputs": [],
   "source": [
    "from qiskit_metal.qlibrary.terminations.short_to_ground import ShortToGround\n",
    "from qiskit_metal.qlibrary.terminations.open_to_ground import OpenToGround\n",
    "\n",
    "from qiskit_metal.qlibrary.tlines.mixed_path import RouteMixed"
   ]
  },
  {
   "cell_type": "code",
   "execution_count": 173,
   "metadata": {},
   "outputs": [],
   "source": [
    "stg = ShortToGround(design,'end',options = dict(pos_x = '0.5mm',pos_y = '0.5mm',orientation = '90'))\n",
    "gui.rebuild()\n",
    "gui.highlight_components(['end'])"
   ]
  },
  {
   "cell_type": "code",
   "execution_count": 174,
   "metadata": {},
   "outputs": [],
   "source": [
    "qa = RouteMixed(design, 'cpw_1', options)\n",
    "\n",
    "gui.rebuild()\n",
    "gui.autoscale()"
   ]
  },
  {
   "cell_type": "code",
   "execution_count": 175,
   "metadata": {},
   "outputs": [],
   "source": [
    "from qiskit_metal.analyses.quantization import EPRanalysis"
   ]
  },
  {
   "cell_type": "code",
   "execution_count": 177,
   "metadata": {},
   "outputs": [
    {
     "name": "stderr",
     "output_type": "stream",
     "text": [
      "INFO 11:30PM [connect_project]: Connecting to Ansys Desktop API...\n",
      "INFO 11:30PM [load_ansys_project]: \tOpened Ansys App\n",
      "INFO 11:30PM [load_ansys_project]: \tOpened Ansys Desktop v2021.2.0\n",
      "INFO 11:30PM [load_ansys_project]: \tOpened Ansys Project\n",
      "\tFolder:    C:/Users/slab/Documents/Ansoft/\n",
      "\tProject:   Project15\n",
      "INFO 11:30PM [connect_design]: No active design found (or error getting active design).\n",
      "INFO 11:30PM [connect]: \t Connected to project \"Project15\". No design detected\n",
      "11:30PM 32s WARNING [activate_ansys_design]: The design_name=readout was not in active project.  Designs in active project are: \n",
      "[].  A new design will be added to the project.  \n",
      "INFO 11:30PM [connect_design]: \tOpened active design\n",
      "\tDesign:    readout [Solution type: Eigenmode]\n",
      "WARNING 11:30PM [connect_setup]: \tNo design setup detected.\n",
      "WARNING 11:30PM [connect_setup]: \tCreating eigenmode default setup.\n",
      "INFO 11:30PM [get_setup]: \tOpened setup `Setup`  (<class 'pyEPR.ansys.HfssEMSetup'>)\n",
      "11:30PM 36s ERROR [subtract_from_ground]: This error might indicate that a component was not correctly rendered in Ansys. \n",
      "This might have been caused by floating point numerical corrections. \n",
      " For example Ansys will inconsistently render (or not) routing that has 180deg jogs with the two adjacent segments spaced 'exactly' twice the fillet radius (U shaped routing). \n",
      "In this example, changing your fillet radius to a smaller number would solve the issue.\n"
     ]
    },
    {
     "name": "stdout",
     "output_type": "stream",
     "text": [
      "com_error:  (-2147352567, 'Exception occurred.', (0, None, None, None, 0, -2147024381), None)\n"
     ]
    },
    {
     "ename": "com_error",
     "evalue": "(-2147352567, 'Exception occurred.', (0, None, None, None, 0, -2147024381), None)",
     "output_type": "error",
     "traceback": [
      "\u001b[1;31m---------------------------------------------------------------------------\u001b[0m",
      "\u001b[1;31mcom_error\u001b[0m                                 Traceback (most recent call last)",
      "Cell \u001b[1;32mIn [177], line 8\u001b[0m\n\u001b[0;32m      4\u001b[0m hfss\u001b[39m.\u001b[39mstart()\n\u001b[0;32m      6\u001b[0m hfss\u001b[39m.\u001b[39mactivate_ansys_design(\u001b[39m'\u001b[39m\u001b[39mreadout\u001b[39m\u001b[39m'\u001b[39m,\u001b[39m'\u001b[39m\u001b[39meigenmode\u001b[39m\u001b[39m'\u001b[39m)\n\u001b[1;32m----> 8\u001b[0m hfss\u001b[39m.\u001b[39;49mrender_design([\u001b[39m'\u001b[39;49m\u001b[39mcpw_1\u001b[39;49m\u001b[39m'\u001b[39;49m,\u001b[39m'\u001b[39;49m\u001b[39mQ1\u001b[39;49m\u001b[39m'\u001b[39;49m,\u001b[39m'\u001b[39;49m\u001b[39mend\u001b[39;49m\u001b[39m'\u001b[39;49m],[])\n\u001b[0;32m      9\u001b[0m hfss\u001b[39m.\u001b[39msave_screenshot()\n\u001b[0;32m     11\u001b[0m setup \u001b[39m=\u001b[39m hfss\u001b[39m.\u001b[39mpinfo\u001b[39m.\u001b[39msetup\n",
      "File \u001b[1;32mc:\\_lib\\python\\qiskit-metal\\qiskit_metal\\renderers\\renderer_ansys\\hfss_renderer.py:190\u001b[0m, in \u001b[0;36mQHFSSRenderer.render_design\u001b[1;34m(self, selection, open_pins, port_list, jj_to_port, ignored_jjs, box_plus_buffer)\u001b[0m\n\u001b[0;32m    187\u001b[0m     \u001b[39mself\u001b[39m\u001b[39m.\u001b[39madd_endcaps(open_pins)\n\u001b[0;32m    189\u001b[0m \u001b[39mself\u001b[39m\u001b[39m.\u001b[39mrender_chips(box_plus_buffer\u001b[39m=\u001b[39mbox_plus_buffer)\n\u001b[1;32m--> 190\u001b[0m \u001b[39mself\u001b[39;49m\u001b[39m.\u001b[39;49msubtract_from_ground()\n\u001b[0;32m    191\u001b[0m \u001b[39mif\u001b[39;00m port_list:\n\u001b[0;32m    192\u001b[0m     \u001b[39mself\u001b[39m\u001b[39m.\u001b[39mcreate_ports(port_list)\n",
      "File \u001b[1;32mc:\\_lib\\python\\qiskit-metal\\qiskit_metal\\renderers\\renderer_ansys\\ansys_renderer.py:1571\u001b[0m, in \u001b[0;36mQAnsysRenderer.subtract_from_ground\u001b[1;34m(self)\u001b[0m\n\u001b[0;32m   1563\u001b[0m \u001b[39mif\u001b[39;00m msg \u001b[39m==\u001b[39m \u001b[39m\"\u001b[39m\u001b[39mException occurred.\u001b[39m\u001b[39m\"\u001b[39m \u001b[39mand\u001b[39;00m hr \u001b[39m==\u001b[39m \u001b[39m-\u001b[39m\u001b[39m2147352567\u001b[39m:\n\u001b[0;32m   1564\u001b[0m     \u001b[39mself\u001b[39m\u001b[39m.\u001b[39mlogger\u001b[39m.\u001b[39merror(\n\u001b[0;32m   1565\u001b[0m         \u001b[39m\"\u001b[39m\u001b[39mThis error might indicate that a component was not correctly rendered in Ansys. \u001b[39m\u001b[39m\\n\u001b[39;00m\u001b[39m\"\u001b[39m\n\u001b[0;32m   1566\u001b[0m         \u001b[39m\"\u001b[39m\u001b[39mThis might have been caused by floating point numerical corrections. \u001b[39m\u001b[39m\\n\u001b[39;00m\u001b[39m For example \u001b[39m\u001b[39m\"\u001b[39m\n\u001b[1;32m   (...)\u001b[0m\n\u001b[0;32m   1569\u001b[0m         \u001b[39m\"\u001b[39m\u001b[39mIn this example, changing your fillet radius to a smaller number would solve the issue.\u001b[39m\u001b[39m\"\u001b[39m\n\u001b[0;32m   1570\u001b[0m     )\n\u001b[1;32m-> 1571\u001b[0m \u001b[39mraise\u001b[39;00m error\n",
      "File \u001b[1;32mc:\\_lib\\python\\qiskit-metal\\qiskit_metal\\renderers\\renderer_ansys\\ansys_renderer.py:1559\u001b[0m, in \u001b[0;36mQAnsysRenderer.subtract_from_ground\u001b[1;34m(self)\u001b[0m\n\u001b[0;32m   1556\u001b[0m \u001b[39mimport\u001b[39;00m \u001b[39mpythoncom\u001b[39;00m\n\u001b[0;32m   1558\u001b[0m \u001b[39mtry\u001b[39;00m:\n\u001b[1;32m-> 1559\u001b[0m     \u001b[39mself\u001b[39;49m\u001b[39m.\u001b[39;49mmodeler\u001b[39m.\u001b[39;49msubtract(\u001b[39mf\u001b[39;49m\u001b[39m\"\u001b[39;49m\u001b[39mground_\u001b[39;49m\u001b[39m{\u001b[39;49;00mchip\u001b[39m}\u001b[39;49;00m\u001b[39m_plane\u001b[39;49m\u001b[39m\"\u001b[39;49m, \u001b[39mlist\u001b[39;49m(shapes))\n\u001b[0;32m   1560\u001b[0m \u001b[39mexcept\u001b[39;00m pythoncom\u001b[39m.\u001b[39mcom_error \u001b[39mas\u001b[39;00m error:\n\u001b[0;32m   1561\u001b[0m     \u001b[39mprint\u001b[39m(\u001b[39m\"\u001b[39m\u001b[39mcom_error: \u001b[39m\u001b[39m\"\u001b[39m, error)\n",
      "File \u001b[1;32mc:\\Users\\slab\\anaconda3\\envs\\qmetal\\lib\\site-packages\\pyEPR\\ansys.py:2565\u001b[0m, in \u001b[0;36mHfssModeler.subtract\u001b[1;34m(self, blank_name, tool_names, keep_originals)\u001b[0m\n\u001b[0;32m   2560\u001b[0m \u001b[39mdef\u001b[39;00m \u001b[39msubtract\u001b[39m(\u001b[39mself\u001b[39m, blank_name, tool_names, keep_originals\u001b[39m=\u001b[39m\u001b[39mFalse\u001b[39;00m):\n\u001b[0;32m   2561\u001b[0m     selection_array \u001b[39m=\u001b[39m [\n\u001b[0;32m   2562\u001b[0m         \u001b[39m\"\u001b[39m\u001b[39mNAME:Selections\u001b[39m\u001b[39m\"\u001b[39m, \u001b[39m\"\u001b[39m\u001b[39mBlank Parts:=\u001b[39m\u001b[39m\"\u001b[39m, blank_name, \u001b[39m\"\u001b[39m\u001b[39mTool Parts:=\u001b[39m\u001b[39m\"\u001b[39m,\n\u001b[0;32m   2563\u001b[0m         \u001b[39m\"\u001b[39m\u001b[39m,\u001b[39m\u001b[39m\"\u001b[39m\u001b[39m.\u001b[39mjoin(tool_names)\n\u001b[0;32m   2564\u001b[0m     ]\n\u001b[1;32m-> 2565\u001b[0m     \u001b[39mself\u001b[39;49m\u001b[39m.\u001b[39;49m_modeler\u001b[39m.\u001b[39;49mSubtract(\n\u001b[0;32m   2566\u001b[0m         selection_array,\n\u001b[0;32m   2567\u001b[0m         [\u001b[39m\"\u001b[39;49m\u001b[39mNAME:UniteParameters\u001b[39;49m\u001b[39m\"\u001b[39;49m, \u001b[39m\"\u001b[39;49m\u001b[39mKeepOriginals:=\u001b[39;49m\u001b[39m\"\u001b[39;49m, keep_originals])\n\u001b[0;32m   2568\u001b[0m     \u001b[39mreturn\u001b[39;00m blank_name\n",
      "File \u001b[1;32m<COMObject SetActiveEditor>:2\u001b[0m, in \u001b[0;36mSubtract\u001b[1;34m(self, argSelections, argParamters)\u001b[0m\n",
      "\u001b[1;31mcom_error\u001b[0m: (-2147352567, 'Exception occurred.', (0, None, None, None, 0, -2147024381), None)"
     ]
    }
   ],
   "source": [
    "eig_res = EPRanalysis(design, \"hfss\")\n",
    "\n",
    "hfss = eig_res.sim.renderer\n",
    "hfss.start()\n",
    "\n",
    "hfss.activate_ansys_design('readout','eigenmode')\n",
    "\n",
    "hfss.render_design(['cpw_1','Q1','end'],[])\n",
    "hfss.save_screenshot()\n",
    "\n",
    "setup = hfss.pinfo.setup\n",
    "setup.passes = 40\n",
    "setup.min_converged = 9\n",
    "setup.n_modes = 2\n",
    "\n",
    "print(f\"\"\"\n",
    "Number of eigenmodes to find             = {setup.n_modes}\n",
    "Number of simulation passes              = {setup.passes}\n",
    "Convergence freq max delta percent diff  = {setup.delta_f}\n",
    "\"\"\")\n",
    "\n",
    "# Next 2 lines are counterinuitive, since there is no junction in this resonator.\n",
    "# However, these are necessary to make pyEPR work correctly. Please do note delete\n",
    "hfss.pinfo.design.set_variable('Lj', '0 nH')\n",
    "hfss.pinfo.design.set_variable('Cj', '0 fF')\n",
    "\n",
    "setup.analyze()"
   ]
  },
  {
   "cell_type": "code",
   "execution_count": null,
   "metadata": {},
   "outputs": [],
   "source": []
  }
 ],
 "metadata": {
  "kernelspec": {
   "display_name": "qmetal",
   "language": "python",
   "name": "python3"
  },
  "language_info": {
   "codemirror_mode": {
    "name": "ipython",
    "version": 3
   },
   "file_extension": ".py",
   "mimetype": "text/x-python",
   "name": "python",
   "nbconvert_exporter": "python",
   "pygments_lexer": "ipython3",
   "version": "3.10.8"
  },
  "orig_nbformat": 4,
  "vscode": {
   "interpreter": {
    "hash": "3d94aa5e991f42a947ea471483690d41ff98c3bc6544fbd85305609e84f42efa"
   }
  }
 },
 "nbformat": 4,
 "nbformat_minor": 2
}
