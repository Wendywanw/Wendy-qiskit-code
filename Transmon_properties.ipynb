{
 "cells": [
  {
   "cell_type": "code",
   "execution_count": 3,
   "metadata": {},
   "outputs": [],
   "source": [
    "import numpy as np\n",
    "import astropy.units as u\n",
    "import astropy.constants as c"
   ]
  },
  {
   "cell_type": "code",
   "execution_count": 24,
   "metadata": {},
   "outputs": [],
   "source": [
    "phi0 = c.h/2/c.e.si\n",
    "T = 30*u.mK\n",
    "epsilon_r = 11.7\n"
   ]
  },
  {
   "attachments": {},
   "cell_type": "markdown",
   "metadata": {},
   "source": [
    "### Define some Transmon parameters and calculate transmon only numbers"
   ]
  },
  {
   "cell_type": "code",
   "execution_count": 165,
   "metadata": {},
   "outputs": [],
   "source": [
    "Cq = 77*u.fF\n",
    "Lj = 10*u.nH\n",
    "Ec = (c.e.si**2/2/Cq).to(u.J)\n",
    "Ej = ((phi0/2/np.pi)**2/Lj).to(u.J)\n",
    "# epsilon1 = -Ec*2**9\n",
    "wq = (np.sqrt(8*Ej*Ec)-Ec)/c.hbar\n",
    "fq = wq/2/np.pi\n",
    "alpha = Ec/c.h"
   ]
  },
  {
   "cell_type": "code",
   "execution_count": 166,
   "metadata": {},
   "outputs": [
    {
     "name": "stdout",
     "output_type": "stream",
     "text": [
      "Transmon Frequency is: 5.483984604385962 GHz\n",
      "The anharmonicity is: 251.5614198007678 MHz\n"
     ]
    }
   ],
   "source": [
    "print('Transmon Frequency is:',fq.to(u.GHz))\n",
    "print('The anharmonicity is:', alpha.to(u.MHz))"
   ]
  },
  {
   "attachments": {},
   "cell_type": "markdown",
   "metadata": {},
   "source": [
    "### Define some Resonator parameters and resonator only numbers"
   ]
  },
  {
   "cell_type": "code",
   "execution_count": 171,
   "metadata": {},
   "outputs": [],
   "source": [
    "fr = 7*u.GHz\n",
    "wr = fr*2*np.pi\n",
    "lam  = c.c*(1/fr).to(u.s)#why is this the speed of light?\n",
    "cc = 165*u.pF/u.m\n",
    "\n",
    "L= lam/4\n",
    "# Cr = cc*L\n",
    "Cr = 600*u.fF\n",
    "# v0 = \n",
    "\n",
    "lr = (1/Cr/wr**2).to(u.nH)\n",
    "delta = wq-wr\n",
    "delta_f = delta/2/np.pi\n",
    "\n",
    "n = (np.exp(c.hbar*wr/c.k_B/T)-1)**(-1)#probability of particle in the excited state of the transmon"
   ]
  },
  {
   "cell_type": "code",
   "execution_count": 172,
   "metadata": {},
   "outputs": [
    {
     "name": "stdout",
     "output_type": "stream",
     "text": [
      "The detuning between transmon and resonator is: -1.5160153956140388 GHz\n",
      "The probability of states in the excited state is: 1.369855590072293e-05\n"
     ]
    }
   ],
   "source": [
    "print('The detuning between transmon and resonator is:', delta_f.to(u.GHz))\n",
    "print('The probability of states in the excited state is:', n)"
   ]
  },
  {
   "attachments": {},
   "cell_type": "markdown",
   "metadata": {},
   "source": [
    "### Qubit-Resonator Coupling Parameters"
   ]
  },
  {
   "cell_type": "code",
   "execution_count": 173,
   "metadata": {},
   "outputs": [],
   "source": [
    "Cg = 17*u.fF\n",
    "C_sum = Cq+Cg\n",
    "\n",
    "\n",
    "Zvac = np.sqrt(c.mu0/c.eps0).to(u.Ohm)\n",
    "Zr = np.sqrt(lr/Cr).to(u.Ohm)\n",
    "alpha_fine = 1/4/np.pi/c.eps0*c.e.si**2/c.hbar/c.c\n",
    "Rk = c.h/c.e.si**2\n",
    "\n",
    "g_1 = wr*Cg/C_sum*(Ej/2/Ec)**(1/4)*np.sqrt(Zr/Zvac)*np.sqrt(2*np.pi*alpha_fine)\n",
    "g_2 = wr*Cg/C_sum*(Ej/2/Ec)**(1/4)*np.sqrt(np.pi*Zr/Rk)\n",
    "chi = -g_1**2*Ec/c.hbar/delta/(delta-Ec/c.hbar)\n",
    "wr_coupled = wr-g**2/(delta-Ec/c.hbar)\n",
    "wq_coupled = wq+g**2/delta\n",
    "kappa = 2*chi.decompose()"
   ]
  },
  {
   "cell_type": "code",
   "execution_count": 174,
   "metadata": {},
   "outputs": [
    {
     "name": "stdout",
     "output_type": "stream",
     "text": [
      "The coupling strength between the resonator and the transmon (g) is: 205.25663939004377 MHz\n",
      "The dispersive shift of the cavity is: -24.85057405282361 MHz\n",
      "The qubit frequency changed from  5.483984604385962 GHz  to  5.474161776355444 GHz\n",
      "The cavity frequency changed from  7.0 GHz  to  7.0084248437707855 GHz\n"
     ]
    }
   ],
   "source": [
    "print('The coupling strength between the resonator and the transmon (g) is:', g_1.to(u.MHz)/2/np.pi)\n",
    "print('The dispersive shift of the cavity is:', chi.to(u.MHz))\n",
    "print('The qubit frequency changed from ', wq.to(u.GHz)/2/np.pi, ' to ', wq_coupled.to(u.GHz)/2/np.pi)\n",
    "print('The cavity frequency changed from ', wr.to(u.GHz)/2/np.pi, ' to ', wr_coupled.to(u.GHz)/2/np.pi)"
   ]
  },
  {
   "cell_type": "code",
   "execution_count": 161,
   "metadata": {},
   "outputs": [],
   "source": [
    "n_crit = 1/3*(np.absolute(delta-Ec/c.hbar)**2/4/g_1**2-1)"
   ]
  },
  {
   "cell_type": "code",
   "execution_count": 162,
   "metadata": {},
   "outputs": [
    {
     "name": "stdout",
     "output_type": "stream",
     "text": [
      "A conservative estimate of critical photon numbers in the system gives: 5.846559141680498\n"
     ]
    }
   ],
   "source": [
    "print('A conservative estimate of critical photon numbers in the system gives:', n_crit)"
   ]
  },
  {
   "cell_type": "code",
   "execution_count": null,
   "metadata": {},
   "outputs": [],
   "source": []
  }
 ],
 "metadata": {
  "kernelspec": {
   "display_name": "qutip-env",
   "language": "python",
   "name": "python3"
  },
  "language_info": {
   "codemirror_mode": {
    "name": "ipython",
    "version": 3
   },
   "file_extension": ".py",
   "mimetype": "text/x-python",
   "name": "python",
   "nbconvert_exporter": "python",
   "pygments_lexer": "ipython3",
   "version": "3.10.8"
  },
  "orig_nbformat": 4,
  "vscode": {
   "interpreter": {
    "hash": "96a6cbfed5cf98e0219c7cd4ae904280ea58a00c65b173e9e30631888d78e4c5"
   }
  }
 },
 "nbformat": 4,
 "nbformat_minor": 2
}
