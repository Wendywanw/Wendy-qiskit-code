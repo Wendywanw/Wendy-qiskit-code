{
 "cells": [
  {
   "attachments": {},
   "cell_type": "markdown",
   "metadata": {},
   "source": [
    "Start!"
   ]
  },
  {
   "cell_type": "code",
   "execution_count": 1,
   "metadata": {},
   "outputs": [],
   "source": [
    "%reload_ext autoreload\n",
    "%autoreload 2"
   ]
  },
  {
   "cell_type": "code",
   "execution_count": 2,
   "metadata": {},
   "outputs": [],
   "source": [
    "import os\n",
    "import shutil\n",
    "import time"
   ]
  },
  {
   "cell_type": "code",
   "execution_count": 3,
   "metadata": {},
   "outputs": [],
   "source": [
    "import astropy.units as u\n",
    "import numpy as np\n",
    "import pandas as pd\n",
    "import astropy.constants as c"
   ]
  },
  {
   "cell_type": "code",
   "execution_count": 4,
   "metadata": {},
   "outputs": [],
   "source": [
    "#This imports the necessary path to draw the single pad transmon design. \n",
    "import sys\n",
    "sys.path.append('Customized_Components')\n",
    "from rounded_single_pad import Round_TransmonPocket_Single as transmon\n",
    "import Transmon_property as trans_p\n",
    "import Transmon_specifications as jj\n",
    "from dolan_junction import DolanJunction as junction\n",
    "import Default_params as dp\n",
    "from pocket import TransmonPocket as pocket\n"
   ]
  },
  {
   "cell_type": "code",
   "execution_count": 5,
   "metadata": {},
   "outputs": [],
   "source": [
    "from qiskit_metal.qlibrary.terminations.launchpad_wb import LaunchpadWirebond\n",
    "from qiskit_metal import MetalGUI, Dict\n",
    "from qiskit_metal.qlibrary.couplers.coupled_line_tee import CoupledLineTee"
   ]
  },
  {
   "cell_type": "code",
   "execution_count": 6,
   "metadata": {},
   "outputs": [
    {
     "name": "stderr",
     "output_type": "stream",
     "text": [
      "04:51PM 58s CRITICAL [_qt_message_handler]: line: 0, func: None(), file: None  WARNING: Populating font family aliases took 147 ms. Replace uses of missing font family \"Courier\" with one that exists to avoid this cost. \n",
      "\n"
     ]
    }
   ],
   "source": [
    "gui = MetalGUI(dp.design)\n",
    "design = dp.design"
   ]
  },
  {
   "attachments": {},
   "cell_type": "markdown",
   "metadata": {},
   "source": [
    "## Wirebonds"
   ]
  },
  {
   "cell_type": "code",
   "execution_count": 7,
   "metadata": {},
   "outputs": [],
   "source": [
    "qubit_layer = 5\n",
    "junction_layer = 2\n",
    "ab_layer = 8\n",
    "ab_square_layer = 9"
   ]
  },
  {
   "cell_type": "code",
   "execution_count": 8,
   "metadata": {},
   "outputs": [],
   "source": [
    "design.delete_all_components()"
   ]
  },
  {
   "cell_type": "code",
   "execution_count": 9,
   "metadata": {},
   "outputs": [],
   "source": [
    "top_leftx = -5\n",
    "top_lefty = 5\n",
    "left_wb_xs = [1.6, 0.5-0.3]\n",
    "left_wb_ys = [5-0.5+0.3]\n",
    "left_wb_ys.append(5-1.6)\n",
    "for i in range(8):\n",
    "    new_y = left_wb_ys[-1]-0.85\n",
    "    new_x = 0.5-0.3\n",
    "    left_wb_xs.append(new_x)\n",
    "    left_wb_ys.append(new_y)\n",
    "# left_wb_ys.append(-5)\n",
    "\n",
    "left_wb_xs = np.array(left_wb_xs)+top_leftx\n",
    "left_wb_ys = np.array(left_wb_ys)\n",
    "\n",
    "orientations_left = [270,0,0,0,0,0,0,0,0,0]"
   ]
  },
  {
   "cell_type": "code",
   "execution_count": 10,
   "metadata": {},
   "outputs": [],
   "source": [
    "top_rightx = 5\n",
    "top_righty = 5\n",
    "right_wb_xs = [5-1.6,4.5+0.3]\n",
    "right_wb_ys = [5-0.5+0.3]\n",
    "right_wb_ys.append(5-1.6)\n",
    "for i in range(8):\n",
    "    new_y = right_wb_ys[-1]-0.85\n",
    "    right_wb_ys.append(new_y)\n",
    "    new_x = 5-0.5+0.3\n",
    "    right_wb_xs.append(new_x)\n",
    "right_wb_ys = np.array(right_wb_ys)\n",
    "\n",
    "orientations_right = [270,180,180,180,180,180,180,180,180,180]"
   ]
  },
  {
   "cell_type": "code",
   "execution_count": 11,
   "metadata": {},
   "outputs": [],
   "source": [
    "Wirebond_left_opt = Dict(trace_width=design.variables['trace_width'],\n",
    "                           trace_gap=design.variables['trace_gap'],\n",
    "                           lead_length='8um',\n",
    "                           pad_width='200um',\n",
    "                           pad_height='100um',\n",
    "                           pad_gap='50um',\n",
    "                           taper_height='50um',\n",
    "                           layer = str(qubit_layer))\n",
    "                           \n",
    "# Wirebond_left_opt = Dict(trace_width=design.variables['trace_width'],\n",
    "#                            trace_gap=design.variables['trace_gap'],\n",
    "#                            lead_length='25um',\n",
    "#                            pad_width='150um',\n",
    "#                            pad_height='200um',\n",
    "#                            pad_gap='130um',\n",
    "#                            taper_height='150um')"
   ]
  },
  {
   "attachments": {},
   "cell_type": "markdown",
   "metadata": {},
   "source": [
    "Place the wirebonds"
   ]
  },
  {
   "cell_type": "code",
   "execution_count": 12,
   "metadata": {},
   "outputs": [],
   "source": [
    "left_lauch_pads = []\n",
    "for i in range(10):\n",
    "    left_lauch_pads.append(LaunchpadWirebond(design,'wb_left'+str(i), options = Dict(pos_x = '{}mm'.format(left_wb_xs[i]),pos_y = '{}mm'.format(left_wb_ys[i]),orientation = orientations_left[i],**Wirebond_left_opt)))\n",
    "    # gui.rebuild()\n",
    "    # gui.autoscale()\n",
    "    # time.sleep(0.1)"
   ]
  },
  {
   "cell_type": "code",
   "execution_count": 13,
   "metadata": {},
   "outputs": [],
   "source": [
    "right_lauch_pads = []\n",
    "for i in range(10):\n",
    "    right_lauch_pads.append(LaunchpadWirebond(design,'wb_right'+str(i), options = Dict(pos_x = '{}mm'.format(right_wb_xs[i]),pos_y = '{}mm'.format(right_wb_ys[i]),orientation = orientations_right[i],**Wirebond_left_opt)))\n",
    "    # gui.rebuild()\n",
    "    # gui.autoscale()\n",
    "    # time.sleep(0.1)"
   ]
  },
  {
   "cell_type": "code",
   "execution_count": 14,
   "metadata": {},
   "outputs": [],
   "source": [
    "gui.rebuild()"
   ]
  },
  {
   "attachments": {},
   "cell_type": "markdown",
   "metadata": {},
   "source": [
    "## Qubit pockets"
   ]
  },
  {
   "cell_type": "code",
   "execution_count": 15,
   "metadata": {},
   "outputs": [],
   "source": [
    "from pocket import TransmonPocket as pocket"
   ]
  },
  {
   "cell_type": "code",
   "execution_count": 16,
   "metadata": {},
   "outputs": [],
   "source": [
    "ind_odd = np.array((4, 9, 3, 8, 2, 6, 0, 5, 1, 7))\n",
    "ind_even = np.array((9, 4, 8, 3, 7, 1, 5, 0, 6, 2))"
   ]
  },
  {
   "cell_type": "code",
   "execution_count": 17,
   "metadata": {},
   "outputs": [],
   "source": [
    "freq_odd = 3.8+0.2*ind_odd\n",
    "freq_even = 3.8+0.2*ind_even"
   ]
  },
  {
   "cell_type": "code",
   "execution_count": 18,
   "metadata": {},
   "outputs": [],
   "source": [
    "pocket_options = dict(\n",
    "        pos_x = '0mm', \n",
    "        pos_y = '0mm', \n",
    "        orientation = '0',\n",
    "        frequency = 5.2,\n",
    "        guess_path = r'/Users/wendy/Desktop/Wendy-qiskit-code/data/educated_guess_all_new.csv',\n",
    "        coupling_path = '',\n",
    "        sim = True,\n",
    "        coord = '(0,0)',\n",
    "        qubit_layer = 5,\n",
    "        junction_layer = 2, \n",
    "        ab_layer = 8,\n",
    "        ab_square_layer = 9,\n",
    "        ab_distance = '70um',\n",
    "        rotation = 90\n",
    "        )"
   ]
  },
  {
   "cell_type": "code",
   "execution_count": 19,
   "metadata": {},
   "outputs": [],
   "source": [
    "qubit_y1 = ['3.8mm','3.65mm','2.70000mm','1.750000mm','0.8000mm',\n",
    "            '-0.150000mm','-1.10000mm','-2.050000mm','-3.0000mm','-3.950000mm']"
   ]
  },
  {
   "attachments": {},
   "cell_type": "markdown",
   "metadata": {},
   "source": [
    "First row numbers"
   ]
  },
  {
   "cell_type": "code",
   "execution_count": 20,
   "metadata": {},
   "outputs": [],
   "source": [
    "qubit_x0 = ['-3.9mm', '-3.1mm', '-2.2mm', \n",
    "            '-1.3mm', '-0.4mm', '0.5mm',\n",
    "            '1.4mm', '2.3mm','3.2mm', '4.05mm']\n",
    "qubit_y0 = ['4.5mm'] + ['3.8mm']*8 + ['4.4mm']\n",
    "qubit_angles0 = [90,180,180,180,180,180,180,180,180,270]"
   ]
  },
  {
   "attachments": {},
   "cell_type": "markdown",
   "metadata": {},
   "source": [
    "### First row"
   ]
  },
  {
   "attachments": {},
   "cell_type": "markdown",
   "metadata": {},
   "source": [
    "qubits and qubit-qubit connections"
   ]
  },
  {
   "cell_type": "code",
   "execution_count": 21,
   "metadata": {},
   "outputs": [
    {
     "name": "stderr",
     "output_type": "stream",
     "text": [
      "04:51PM 59s INFO [delete_component]: Called delete_component cpw_(0,0), but such a component is not in the design cache dictionary of components.\n",
      "04:51PM 59s INFO [delete_component]: Called delete_component cpw_(1,0), but such a component is not in the design cache dictionary of components.\n",
      "04:52PM 00s INFO [delete_component]: Called delete_component cpw_(2,0), but such a component is not in the design cache dictionary of components.\n",
      "04:52PM 00s INFO [delete_component]: Called delete_component cpw_(3,0), but such a component is not in the design cache dictionary of components.\n",
      "04:52PM 01s INFO [delete_component]: Called delete_component cpw_(4,0), but such a component is not in the design cache dictionary of components.\n",
      "04:52PM 02s INFO [delete_component]: Called delete_component cpw_(5,0), but such a component is not in the design cache dictionary of components.\n",
      "04:52PM 03s INFO [delete_component]: Called delete_component cpw_(6,0), but such a component is not in the design cache dictionary of components.\n",
      "04:52PM 04s WARNING [check_lengths]: For path table, component=(6,0)CPW(5,0), key=trace has short segments that could cause issues with fillet. Values in (1-2)  are index(es) in shapely geometry.\n",
      "04:52PM 04s WARNING [check_lengths]: For path table, component=(6,0)CPW(5,0), key=cut has short segments that could cause issues with fillet. Values in (1-2)  are index(es) in shapely geometry.\n",
      "04:52PM 04s INFO [delete_component]: Called delete_component cpw_(7,0), but such a component is not in the design cache dictionary of components.\n",
      "04:52PM 04s INFO [delete_component]: Called delete_component cpw_(8,0), but such a component is not in the design cache dictionary of components.\n",
      "04:52PM 05s INFO [delete_component]: Called delete_component cpw_(9,0), but such a component is not in the design cache dictionary of components.\n"
     ]
    },
    {
     "name": "stdout",
     "output_type": "stream",
     "text": [
      "oops\n"
     ]
    }
   ],
   "source": [
    "pockets = []#p1, p2]\n",
    "for i in range(10):\n",
    "    j = i\n",
    "    pocket_options['pos_x'] = qubit_x0[j]\n",
    "    pocket_options['pos_y'] = qubit_y0[j]\n",
    "    pocket_options['frequency'] = freq_even[j]\n",
    "    pocket_options['coord'] = '({},0)'.format(j)\n",
    "    pocket_options['rotation'] = qubit_angles0[j]\n",
    "    p = pocket(gui, design,options = pocket_options)\n",
    "    pockets.append(p)\n",
    "    if i ==0:\n",
    "        pass\n",
    "    else:\n",
    "        pockets[i].connect(pockets[i-1])\n",
    "        # p.connect(pockets[-1])\n"
   ]
  },
  {
   "cell_type": "code",
   "execution_count": 22,
   "metadata": {},
   "outputs": [
    {
     "name": "stderr",
     "output_type": "stream",
     "text": [
      "04:52PM 13s WARNING [check_lengths]: For path table, component=(6,0)CPW(5,0), key=trace has short segments that could cause issues with fillet. Values in (1-2)  are index(es) in shapely geometry.\n",
      "04:52PM 13s WARNING [check_lengths]: For path table, component=(6,0)CPW(5,0), key=cut has short segments that could cause issues with fillet. Values in (1-2)  are index(es) in shapely geometry.\n"
     ]
    }
   ],
   "source": [
    "gui.rebuild()"
   ]
  },
  {
   "attachments": {},
   "cell_type": "markdown",
   "metadata": {},
   "source": [
    "Connecting the ends"
   ]
  },
  {
   "cell_type": "code",
   "execution_count": 23,
   "metadata": {},
   "outputs": [],
   "source": [
    "pockets[-1].connect(right_lauch_pads[0])\n",
    "pockets[0].connect(left_lauch_pads[0])"
   ]
  },
  {
   "attachments": {},
   "cell_type": "markdown",
   "metadata": {},
   "source": [
    "### Rows 2-10"
   ]
  },
  {
   "cell_type": "code",
   "execution_count": 24,
   "metadata": {},
   "outputs": [
    {
     "name": "stdout",
     "output_type": "stream",
     "text": [
      "-4.2\n",
      "-3.27\n",
      "-2.34\n",
      "-1.4100000000000001\n",
      "-0.48\n",
      "0.4500000000000002\n",
      "1.38\n",
      "2.3100000000000005\n",
      "3.24\n",
      "4.170000000000001\n"
     ]
    }
   ],
   "source": [
    "distance = 0.93\n",
    "xs = []\n",
    "x0 = -4.2\n",
    "for i in range(10):\n",
    "    print(x0+distance*i)\n",
    "    xs.append(str(x0+distance*i)+'mm')"
   ]
  },
  {
   "cell_type": "code",
   "execution_count": 25,
   "metadata": {},
   "outputs": [
    {
     "data": {
      "text/plain": [
       "['-4.2mm',\n",
       " '-3.27mm',\n",
       " '-2.34mm',\n",
       " '-1.4100000000000001mm',\n",
       " '-0.48mm',\n",
       " '0.4500000000000002mm',\n",
       " '1.38mm',\n",
       " '2.3100000000000005mm',\n",
       " '3.24mm',\n",
       " '4.170000000000001mm']"
      ]
     },
     "execution_count": 25,
     "metadata": {},
     "output_type": "execute_result"
    }
   ],
   "source": [
    "# xs = ['-4.3mm', '-3.35mm', '-2.4mm', '-1.45mm', '-0.5mm', '0.45mm', '1.4mm', '2.35mm', '3.3mm', '4.25mm']\n",
    "xs"
   ]
  },
  {
   "cell_type": "code",
   "execution_count": 26,
   "metadata": {},
   "outputs": [
    {
     "name": "stderr",
     "output_type": "stream",
     "text": [
      "04:52PM 16s INFO [delete_component]: Called delete_component cpw_(0,1), but such a component is not in the design cache dictionary of components.\n",
      "04:52PM 17s INFO [delete_component]: Called delete_component cpw_(1,1), but such a component is not in the design cache dictionary of components.\n",
      "04:52PM 17s INFO [delete_component]: Called delete_component cpw_(2,1), but such a component is not in the design cache dictionary of components.\n",
      "04:52PM 18s INFO [delete_component]: Called delete_component cpw_(3,1), but such a component is not in the design cache dictionary of components.\n",
      "04:52PM 18s INFO [delete_component]: Called delete_component cpw_(4,1), but such a component is not in the design cache dictionary of components.\n",
      "04:52PM 19s INFO [delete_component]: Called delete_component cpw_(5,1), but such a component is not in the design cache dictionary of components.\n",
      "04:52PM 20s INFO [delete_component]: Called delete_component cpw_(6,1), but such a component is not in the design cache dictionary of components.\n",
      "04:52PM 21s INFO [delete_component]: Called delete_component cpw_(7,1), but such a component is not in the design cache dictionary of components.\n",
      "04:52PM 22s INFO [delete_component]: Called delete_component cpw_(8,1), but such a component is not in the design cache dictionary of components.\n",
      "04:52PM 22s INFO [delete_component]: Called delete_component cpw_(9,1), but such a component is not in the design cache dictionary of components.\n",
      "04:52PM 24s INFO [delete_component]: Called delete_component cpw_(0,2), but such a component is not in the design cache dictionary of components.\n",
      "04:52PM 25s INFO [delete_component]: Called delete_component cpw_(1,2), but such a component is not in the design cache dictionary of components.\n",
      "04:52PM 26s INFO [delete_component]: Called delete_component cpw_(2,2), but such a component is not in the design cache dictionary of components.\n",
      "04:52PM 26s INFO [delete_component]: Called delete_component cpw_(3,2), but such a component is not in the design cache dictionary of components.\n",
      "04:52PM 27s INFO [delete_component]: Called delete_component cpw_(4,2), but such a component is not in the design cache dictionary of components.\n",
      "04:52PM 29s INFO [delete_component]: Called delete_component cpw_(5,2), but such a component is not in the design cache dictionary of components.\n",
      "04:52PM 30s INFO [delete_component]: Called delete_component cpw_(6,2), but such a component is not in the design cache dictionary of components.\n",
      "04:52PM 31s INFO [delete_component]: Called delete_component cpw_(7,2), but such a component is not in the design cache dictionary of components.\n",
      "04:52PM 32s INFO [delete_component]: Called delete_component cpw_(8,2), but such a component is not in the design cache dictionary of components.\n",
      "04:52PM 33s INFO [delete_component]: Called delete_component cpw_(9,2), but such a component is not in the design cache dictionary of components.\n",
      "04:52PM 35s INFO [delete_component]: Called delete_component cpw_(0,3), but such a component is not in the design cache dictionary of components.\n",
      "04:52PM 37s WARNING [check_lengths]: For path table, component=(0,3)CPWwb_left3, key=trace has short segments that could cause issues with fillet. Values in (1-2)  are index(es) in shapely geometry.\n",
      "04:52PM 37s WARNING [check_lengths]: For path table, component=(0,3)CPWwb_left3, key=cut has short segments that could cause issues with fillet. Values in (1-2)  are index(es) in shapely geometry.\n",
      "04:52PM 37s INFO [delete_component]: Called delete_component cpw_(1,3), but such a component is not in the design cache dictionary of components.\n",
      "04:52PM 38s INFO [delete_component]: Called delete_component cpw_(2,3), but such a component is not in the design cache dictionary of components.\n",
      "04:52PM 39s INFO [delete_component]: Called delete_component cpw_(3,3), but such a component is not in the design cache dictionary of components.\n",
      "04:52PM 41s INFO [delete_component]: Called delete_component cpw_(4,3), but such a component is not in the design cache dictionary of components.\n",
      "04:52PM 42s INFO [delete_component]: Called delete_component cpw_(5,3), but such a component is not in the design cache dictionary of components.\n",
      "04:52PM 43s INFO [delete_component]: Called delete_component cpw_(6,3), but such a component is not in the design cache dictionary of components.\n",
      "04:52PM 45s INFO [delete_component]: Called delete_component cpw_(7,3), but such a component is not in the design cache dictionary of components.\n",
      "04:52PM 46s INFO [delete_component]: Called delete_component cpw_(8,3), but such a component is not in the design cache dictionary of components.\n",
      "04:52PM 48s INFO [delete_component]: Called delete_component cpw_(9,3), but such a component is not in the design cache dictionary of components.\n",
      "04:52PM 51s WARNING [check_lengths]: For path table, component=(9,3)CPWwb_right3, key=trace has short segments that could cause issues with fillet. Values in (1-2)  are index(es) in shapely geometry.\n",
      "04:52PM 51s WARNING [check_lengths]: For path table, component=(9,3)CPWwb_right3, key=cut has short segments that could cause issues with fillet. Values in (1-2)  are index(es) in shapely geometry.\n",
      "04:52PM 51s INFO [delete_component]: Called delete_component cpw_(0,4), but such a component is not in the design cache dictionary of components.\n",
      "04:52PM 53s WARNING [check_lengths]: For path table, component=(0,4)CPWwb_left4, key=trace has short segments that could cause issues with fillet. Values in (1-2)  are index(es) in shapely geometry.\n",
      "04:52PM 53s WARNING [check_lengths]: For path table, component=(0,4)CPWwb_left4, key=cut has short segments that could cause issues with fillet. Values in (1-2)  are index(es) in shapely geometry.\n",
      "04:52PM 53s INFO [delete_component]: Called delete_component cpw_(1,4), but such a component is not in the design cache dictionary of components.\n",
      "04:52PM 54s INFO [delete_component]: Called delete_component cpw_(2,4), but such a component is not in the design cache dictionary of components.\n",
      "04:52PM 56s INFO [delete_component]: Called delete_component cpw_(3,4), but such a component is not in the design cache dictionary of components.\n",
      "04:52PM 58s INFO [delete_component]: Called delete_component cpw_(4,4), but such a component is not in the design cache dictionary of components.\n",
      "04:53PM 00s INFO [delete_component]: Called delete_component cpw_(5,4), but such a component is not in the design cache dictionary of components.\n",
      "04:53PM 02s INFO [delete_component]: Called delete_component cpw_(6,4), but such a component is not in the design cache dictionary of components.\n",
      "04:53PM 04s INFO [delete_component]: Called delete_component cpw_(7,4), but such a component is not in the design cache dictionary of components.\n",
      "04:53PM 06s INFO [delete_component]: Called delete_component cpw_(8,4), but such a component is not in the design cache dictionary of components.\n",
      "04:53PM 08s INFO [delete_component]: Called delete_component cpw_(9,4), but such a component is not in the design cache dictionary of components.\n",
      "04:53PM 11s WARNING [check_lengths]: For path table, component=(9,4)CPWwb_right4, key=trace has short segments that could cause issues with fillet. Values in (1-2)  are index(es) in shapely geometry.\n",
      "04:53PM 11s WARNING [check_lengths]: For path table, component=(9,4)CPWwb_right4, key=cut has short segments that could cause issues with fillet. Values in (1-2)  are index(es) in shapely geometry.\n",
      "04:53PM 11s INFO [delete_component]: Called delete_component cpw_(0,5), but such a component is not in the design cache dictionary of components.\n",
      "04:53PM 14s INFO [delete_component]: Called delete_component cpw_(1,5), but such a component is not in the design cache dictionary of components.\n",
      "04:53PM 16s INFO [delete_component]: Called delete_component cpw_(2,5), but such a component is not in the design cache dictionary of components.\n",
      "04:53PM 18s INFO [delete_component]: Called delete_component cpw_(3,5), but such a component is not in the design cache dictionary of components.\n",
      "04:53PM 20s INFO [delete_component]: Called delete_component cpw_(4,5), but such a component is not in the design cache dictionary of components.\n",
      "04:53PM 22s INFO [delete_component]: Called delete_component cpw_(5,5), but such a component is not in the design cache dictionary of components.\n",
      "04:53PM 25s INFO [delete_component]: Called delete_component cpw_(6,5), but such a component is not in the design cache dictionary of components.\n",
      "04:53PM 27s INFO [delete_component]: Called delete_component cpw_(7,5), but such a component is not in the design cache dictionary of components.\n",
      "04:53PM 30s INFO [delete_component]: Called delete_component cpw_(8,5), but such a component is not in the design cache dictionary of components.\n",
      "04:53PM 33s INFO [delete_component]: Called delete_component cpw_(9,5), but such a component is not in the design cache dictionary of components.\n",
      "04:53PM 37s INFO [delete_component]: Called delete_component cpw_(0,6), but such a component is not in the design cache dictionary of components.\n",
      "04:53PM 40s INFO [delete_component]: Called delete_component cpw_(1,6), but such a component is not in the design cache dictionary of components.\n",
      "04:53PM 42s INFO [delete_component]: Called delete_component cpw_(2,6), but such a component is not in the design cache dictionary of components.\n",
      "04:53PM 45s INFO [delete_component]: Called delete_component cpw_(3,6), but such a component is not in the design cache dictionary of components.\n",
      "04:53PM 48s INFO [delete_component]: Called delete_component cpw_(4,6), but such a component is not in the design cache dictionary of components.\n",
      "04:53PM 51s INFO [delete_component]: Called delete_component cpw_(5,6), but such a component is not in the design cache dictionary of components.\n",
      "04:53PM 55s INFO [delete_component]: Called delete_component cpw_(6,6), but such a component is not in the design cache dictionary of components.\n",
      "04:53PM 57s INFO [delete_component]: Called delete_component cpw_(7,6), but such a component is not in the design cache dictionary of components.\n",
      "04:54PM 01s INFO [delete_component]: Called delete_component cpw_(8,6), but such a component is not in the design cache dictionary of components.\n",
      "04:54PM 05s INFO [delete_component]: Called delete_component cpw_(9,6), but such a component is not in the design cache dictionary of components.\n",
      "04:54PM 10s INFO [delete_component]: Called delete_component cpw_(0,7), but such a component is not in the design cache dictionary of components.\n",
      "04:54PM 14s INFO [delete_component]: Called delete_component cpw_(1,7), but such a component is not in the design cache dictionary of components.\n",
      "04:54PM 16s INFO [delete_component]: Called delete_component cpw_(2,7), but such a component is not in the design cache dictionary of components.\n",
      "04:54PM 19s INFO [delete_component]: Called delete_component cpw_(3,7), but such a component is not in the design cache dictionary of components.\n",
      "04:54PM 23s INFO [delete_component]: Called delete_component cpw_(4,7), but such a component is not in the design cache dictionary of components.\n",
      "04:54PM 26s INFO [delete_component]: Called delete_component cpw_(5,7), but such a component is not in the design cache dictionary of components.\n",
      "04:54PM 30s INFO [delete_component]: Called delete_component cpw_(6,7), but such a component is not in the design cache dictionary of components.\n",
      "04:54PM 33s INFO [delete_component]: Called delete_component cpw_(7,7), but such a component is not in the design cache dictionary of components.\n",
      "04:54PM 37s INFO [delete_component]: Called delete_component cpw_(8,7), but such a component is not in the design cache dictionary of components.\n",
      "04:54PM 42s INFO [delete_component]: Called delete_component cpw_(9,7), but such a component is not in the design cache dictionary of components.\n",
      "04:54PM 47s INFO [delete_component]: Called delete_component cpw_(0,8), but such a component is not in the design cache dictionary of components.\n",
      "04:54PM 52s INFO [delete_component]: Called delete_component cpw_(1,8), but such a component is not in the design cache dictionary of components.\n",
      "04:54PM 55s INFO [delete_component]: Called delete_component cpw_(2,8), but such a component is not in the design cache dictionary of components.\n",
      "04:54PM 58s INFO [delete_component]: Called delete_component cpw_(3,8), but such a component is not in the design cache dictionary of components.\n",
      "04:55PM 03s INFO [delete_component]: Called delete_component cpw_(4,8), but such a component is not in the design cache dictionary of components.\n",
      "04:55PM 08s INFO [delete_component]: Called delete_component cpw_(5,8), but such a component is not in the design cache dictionary of components.\n",
      "04:55PM 13s INFO [delete_component]: Called delete_component cpw_(6,8), but such a component is not in the design cache dictionary of components.\n",
      "04:55PM 17s INFO [delete_component]: Called delete_component cpw_(7,8), but such a component is not in the design cache dictionary of components.\n",
      "04:55PM 22s INFO [delete_component]: Called delete_component cpw_(8,8), but such a component is not in the design cache dictionary of components.\n",
      "04:55PM 27s INFO [delete_component]: Called delete_component cpw_(9,8), but such a component is not in the design cache dictionary of components.\n",
      "04:55PM 34s INFO [delete_component]: Called delete_component cpw_(0,9), but such a component is not in the design cache dictionary of components.\n",
      "04:55PM 39s INFO [delete_component]: Called delete_component cpw_(1,9), but such a component is not in the design cache dictionary of components.\n",
      "04:55PM 43s INFO [delete_component]: Called delete_component cpw_(2,9), but such a component is not in the design cache dictionary of components.\n",
      "04:55PM 47s INFO [delete_component]: Called delete_component cpw_(3,9), but such a component is not in the design cache dictionary of components.\n",
      "04:55PM 53s INFO [delete_component]: Called delete_component cpw_(4,9), but such a component is not in the design cache dictionary of components.\n",
      "04:55PM 57s INFO [delete_component]: Called delete_component cpw_(5,9), but such a component is not in the design cache dictionary of components.\n",
      "04:56PM 03s INFO [delete_component]: Called delete_component cpw_(6,9), but such a component is not in the design cache dictionary of components.\n",
      "04:56PM 07s INFO [delete_component]: Called delete_component cpw_(7,9), but such a component is not in the design cache dictionary of components.\n",
      "04:56PM 13s INFO [delete_component]: Called delete_component cpw_(8,9), but such a component is not in the design cache dictionary of components.\n",
      "04:56PM 19s INFO [delete_component]: Called delete_component cpw_(9,9), but such a component is not in the design cache dictionary of components.\n"
     ]
    }
   ],
   "source": [
    "# pockets = []#p1, p2]\n",
    "for i in range(1,10):\n",
    "    poc = []\n",
    "    for j in range(10):\n",
    "        pocket_options['pos_x'] = xs[j]\n",
    "        pocket_options['pos_y'] = qubit_y1[i]\n",
    "        pocket_options['coord'] = '({},{})'.format(j,i)\n",
    "        if i%2 == 1:\n",
    "            pocket_options['frequency'] = freq_odd[j]\n",
    "        else:\n",
    "            pocket_options['frequency'] = freq_even[j]\n",
    "        pocket_options['rotation'] = 0 #qubit_angles0[j]\n",
    "        p = pocket(gui, design,options = pocket_options)\n",
    "        poc.append(p)\n",
    "        if j ==0:\n",
    "           poc[j].connect(left_lauch_pads[i], buffer = 0.03) \n",
    "        elif j == 9:\n",
    "            poc[j].connect(poc[j-1])\n",
    "            poc[j].connect(right_lauch_pads[i], buffer = 0.03)\n",
    "        else:\n",
    "            poc[j].connect(poc[j-1])\n",
    "    pockets.append(poc)"
   ]
  },
  {
   "cell_type": "code",
   "execution_count": 27,
   "metadata": {},
   "outputs": [],
   "source": [
    "gui.rebuild()"
   ]
  },
  {
   "attachments": {},
   "cell_type": "markdown",
   "metadata": {},
   "source": [
    "# Export"
   ]
  },
  {
   "cell_type": "code",
   "execution_count": null,
   "metadata": {},
   "outputs": [],
   "source": [
    "# design.chips.main.size['size_x'] = '10mm'\n",
    "# design.chips.main.size['size_y'] = '10mm'\n",
    "# gui.rebuild()\n",
    "a_gds = design.renderers.gds"
   ]
  },
  {
   "cell_type": "code",
   "execution_count": null,
   "metadata": {},
   "outputs": [],
   "source": [
    "a_gds.options.cheese.edge_nocheese = '100um'\n",
    "a_gds.options.no_cheese.buffer = '50um'\n",
    "a_gds.options.cheese.cheese_1_radius = '70um'"
   ]
  },
  {
   "cell_type": "code",
   "execution_count": null,
   "metadata": {},
   "outputs": [],
   "source": [
    "qubit_layer = 5\n",
    "junction_layer = 2\n",
    "ab_layer = 8\n",
    "ab_square_layer = 9"
   ]
  },
  {
   "cell_type": "code",
   "execution_count": null,
   "metadata": {},
   "outputs": [],
   "source": [
    "a_gds.options"
   ]
  },
  {
   "cell_type": "code",
   "execution_count": null,
   "metadata": {},
   "outputs": [],
   "source": [
    "a_gds.options['cheese']['view_in_file']['main'][qubit_layer] = True\n",
    "a_gds.options['no_cheese']['view_in_file']['main'][qubit_layer] = True\n",
    "a_gds.options['cheese']['view_in_file']['main'][junction_layer] = False\n",
    "a_gds.options['no_cheese']['view_in_file']['main'][junction_layer] = True\n",
    "a_gds.options['cheese']['view_in_file']['main'][ab_layer] = False\n",
    "a_gds.options['no_cheese']['view_in_file']['main'][ab_layer] = True\n",
    "a_gds.options['cheese']['view_in_file']['main'][ab_square_layer] = False\n",
    "a_gds.options['no_cheese']['view_in_file']['main'][ab_square_layer] = True\n",
    "a_gds.options['cheese']['view_in_file']['main'][1] = True\n",
    "a_gds.options['no_cheese']['view_in_file']['main'][1] = True"
   ]
  },
  {
   "cell_type": "code",
   "execution_count": null,
   "metadata": {},
   "outputs": [],
   "source": [
    "a_gds.options"
   ]
  },
  {
   "cell_type": "code",
   "execution_count": null,
   "metadata": {},
   "outputs": [],
   "source": [
    "a_gds.export_to_gds('export_test_a_lot.gds')"
   ]
  },
  {
   "cell_type": "code",
   "execution_count": null,
   "metadata": {},
   "outputs": [],
   "source": [
    "pockets[-1][-1].connection_cpws"
   ]
  },
  {
   "cell_type": "code",
   "execution_count": null,
   "metadata": {},
   "outputs": [],
   "source": [
    "a_gds = design.renderers.gds"
   ]
  },
  {
   "cell_type": "code",
   "execution_count": null,
   "metadata": {},
   "outputs": [],
   "source": [
    "a_gds.options.tolerance = '0.00001'\n",
    "a_gds.options.cheese.edge_nocheese = '300um'\n",
    "a_gds.options.no_cheese.buffer = '40um'"
   ]
  },
  {
   "cell_type": "code",
   "execution_count": null,
   "metadata": {},
   "outputs": [],
   "source": [
    "a_gds.options"
   ]
  },
  {
   "cell_type": "code",
   "execution_count": null,
   "metadata": {},
   "outputs": [],
   "source": [
    "a_gds.options['path_filename'] = 'Customized_Component/Fake_Junctions.GDS'"
   ]
  },
  {
   "cell_type": "code",
   "execution_count": null,
   "metadata": {},
   "outputs": [],
   "source": [
    "a_gds.options.no_cheese.buffer = '0um'\n",
    "\n",
    "a_gds.options['cheese']['view_in_file']['main'][5] = False\n",
    "a_gds.options['no_cheese']['view_in_file']['main'][5] = False\n",
    "a_gds.options['ground_plane'] = True"
   ]
  },
  {
   "cell_type": "code",
   "execution_count": null,
   "metadata": {},
   "outputs": [],
   "source": [
    "q1.options.layer = 1\n",
    "d.options.layer = 5\n",
    "gui.rebuild()"
   ]
  },
  {
   "cell_type": "code",
   "execution_count": null,
   "metadata": {},
   "outputs": [],
   "source": [
    "a_gds.options['ground_plane'] = True"
   ]
  },
  {
   "cell_type": "code",
   "execution_count": null,
   "metadata": {},
   "outputs": [],
   "source": [
    "\n",
    "# a_gds.options['short_segments_to_not_fillet'] = True\n",
    "# a_gds.options['check_short_segments_by_scaling_fillet'] = 1.0\n",
    "a_gds.export_to_gds('Dolan.gds')#, highlight_qcomponents=['TQ1'])"
   ]
  },
  {
   "cell_type": "code",
   "execution_count": null,
   "metadata": {},
   "outputs": [],
   "source": [
    "a_gds.options"
   ]
  },
  {
   "cell_type": "code",
   "execution_count": null,
   "metadata": {},
   "outputs": [],
   "source": [
    "design.components.keys()"
   ]
  },
  {
   "cell_type": "code",
   "execution_count": null,
   "metadata": {},
   "outputs": [],
   "source": [
    "d = {}\n"
   ]
  },
  {
   "cell_type": "code",
   "execution_count": null,
   "metadata": {},
   "outputs": [],
   "source": [
    "base = 822.76\n",
    "dose = 0.8\n",
    "for j in range(5):\n",
    "    d['Column' + str(j+1)] = []\n",
    "    dose = 0.8 + j*0.1\n",
    "    for i in range(10):\n",
    "        dose1 = dose + 0.01*i\n",
    "        d['Column' + str(j+1)].append(base*round(dose1,2))\n",
    "    \n",
    "    \n"
   ]
  },
  {
   "cell_type": "code",
   "execution_count": null,
   "metadata": {},
   "outputs": [],
   "source": [
    "matrix = pd.DataFrame(d)"
   ]
  },
  {
   "cell_type": "code",
   "execution_count": null,
   "metadata": {},
   "outputs": [],
   "source": [
    "matrix.index += 1"
   ]
  },
  {
   "cell_type": "code",
   "execution_count": null,
   "metadata": {},
   "outputs": [],
   "source": [
    "matrix"
   ]
  },
  {
   "cell_type": "code",
   "execution_count": null,
   "metadata": {},
   "outputs": [],
   "source": []
  }
 ],
 "metadata": {
  "kernelspec": {
   "display_name": "qiskit",
   "language": "python",
   "name": "python3"
  },
  "language_info": {
   "codemirror_mode": {
    "name": "ipython",
    "version": 3
   },
   "file_extension": ".py",
   "mimetype": "text/x-python",
   "name": "python",
   "nbconvert_exporter": "python",
   "pygments_lexer": "ipython3",
   "version": "3.11.0"
  },
  "orig_nbformat": 4
 },
 "nbformat": 4,
 "nbformat_minor": 2
}
