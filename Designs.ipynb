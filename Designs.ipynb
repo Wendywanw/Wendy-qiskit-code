{
 "cells": [
  {
   "attachments": {},
   "cell_type": "markdown",
   "metadata": {},
   "source": [
    "Start!"
   ]
  },
  {
   "cell_type": "code",
   "execution_count": 1,
   "metadata": {},
   "outputs": [],
   "source": [
    "%reload_ext autoreload\n",
    "%autoreload 2"
   ]
  },
  {
   "cell_type": "code",
   "execution_count": 2,
   "metadata": {},
   "outputs": [],
   "source": [
    "import os\n",
    "import shutil\n",
    "import time"
   ]
  },
  {
   "cell_type": "code",
   "execution_count": 3,
   "metadata": {},
   "outputs": [],
   "source": [
    "import astropy.units as u\n",
    "import numpy as np\n",
    "import pandas as pd\n",
    "import astropy.constants as c"
   ]
  },
  {
   "cell_type": "code",
   "execution_count": 4,
   "metadata": {},
   "outputs": [],
   "source": [
    "#This imports the necessary path to draw the single pad transmon design. \n",
    "import sys\n",
    "sys.path.append('Customized_Components')\n",
    "from rounded_single_pad import Round_TransmonPocket_Single as transmon\n",
    "import Transmon_property as trans_p\n",
    "import Transmon_specifications as jj\n",
    "from dolan_junction import DolanJunction as junction\n",
    "import Default_params as dp\n",
    "from pocket import TransmonPocket as pocket\n"
   ]
  },
  {
   "cell_type": "code",
   "execution_count": 5,
   "metadata": {},
   "outputs": [],
   "source": [
    "from qiskit_metal.qlibrary.terminations.launchpad_wb import LaunchpadWirebond\n",
    "from qiskit_metal import MetalGUI, Dict\n",
    "from qiskit_metal.qlibrary.couplers.coupled_line_tee import CoupledLineTee"
   ]
  },
  {
   "cell_type": "code",
   "execution_count": 6,
   "metadata": {},
   "outputs": [
    {
     "name": "stderr",
     "output_type": "stream",
     "text": [
      "12:35AM 06s CRITICAL [_qt_message_handler]: line: 0, func: None(), file: None  WARNING: Populating font family aliases took 142 ms. Replace uses of missing font family \"Courier\" with one that exists to avoid this cost. \n",
      "\n"
     ]
    }
   ],
   "source": [
    "gui = MetalGUI(dp.design)\n",
    "design = dp.design"
   ]
  },
  {
   "attachments": {},
   "cell_type": "markdown",
   "metadata": {},
   "source": [
    "## Wirebonds"
   ]
  },
  {
   "cell_type": "code",
   "execution_count": 7,
   "metadata": {},
   "outputs": [],
   "source": [
    "design.delete_all_components()"
   ]
  },
  {
   "cell_type": "code",
   "execution_count": 8,
   "metadata": {},
   "outputs": [],
   "source": [
    "top_leftx = -5\n",
    "top_lefty = 5\n",
    "left_wb_xs = [1.6, 0.5-0.3]\n",
    "left_wb_ys = [5-0.5+0.3]\n",
    "left_wb_ys.append(5-1.6)\n",
    "for i in range(8):\n",
    "    new_y = left_wb_ys[-1]-0.85\n",
    "    new_x = 0.5-0.3\n",
    "    left_wb_xs.append(new_x)\n",
    "    left_wb_ys.append(new_y)\n",
    "# left_wb_ys.append(-5)\n",
    "\n",
    "left_wb_xs = np.array(left_wb_xs)+top_leftx\n",
    "left_wb_ys = np.array(left_wb_ys)\n",
    "\n",
    "orientations_left = [270,0,0,0,0,0,0,0,0,0]"
   ]
  },
  {
   "cell_type": "code",
   "execution_count": 9,
   "metadata": {},
   "outputs": [],
   "source": [
    "top_rightx = 5\n",
    "top_righty = 5\n",
    "right_wb_xs = [5-1.6,4.5+0.3]\n",
    "right_wb_ys = [5-0.5+0.3]\n",
    "right_wb_ys.append(5-1.6)\n",
    "for i in range(8):\n",
    "    new_y = right_wb_ys[-1]-0.85\n",
    "    right_wb_ys.append(new_y)\n",
    "    new_x = 5-0.5+0.3\n",
    "    right_wb_xs.append(new_x)\n",
    "right_wb_ys = np.array(right_wb_ys)\n",
    "\n",
    "orientations_right = [270,180,180,180,180,180,180,180,180,180]"
   ]
  },
  {
   "cell_type": "code",
   "execution_count": 10,
   "metadata": {},
   "outputs": [],
   "source": [
    "Wirebond_left_opt = Dict(trace_width=design.variables['trace_width'],\n",
    "                           trace_gap=design.variables['trace_gap'],\n",
    "                           lead_length='8um',\n",
    "                           pad_width='200um',\n",
    "                           pad_height='100um',\n",
    "                           pad_gap='50um',\n",
    "                           taper_height='50um')\n",
    "                           \n",
    "# Wirebond_left_opt = Dict(trace_width=design.variables['trace_width'],\n",
    "#                            trace_gap=design.variables['trace_gap'],\n",
    "#                            lead_length='25um',\n",
    "#                            pad_width='150um',\n",
    "#                            pad_height='200um',\n",
    "#                            pad_gap='130um',\n",
    "#                            taper_height='150um')"
   ]
  },
  {
   "attachments": {},
   "cell_type": "markdown",
   "metadata": {},
   "source": [
    "Place the wirebonds"
   ]
  },
  {
   "cell_type": "code",
   "execution_count": 11,
   "metadata": {},
   "outputs": [],
   "source": [
    "left_lauch_pads = []\n",
    "for i in range(10):\n",
    "    left_lauch_pads.append(LaunchpadWirebond(design,'wb_left'+str(i), options = Dict(pos_x = '{}mm'.format(left_wb_xs[i]),pos_y = '{}mm'.format(left_wb_ys[i]),orientation = orientations_left[i],**Wirebond_left_opt)))\n",
    "    gui.rebuild()\n",
    "    gui.autoscale()\n",
    "    time.sleep(0.1)"
   ]
  },
  {
   "cell_type": "code",
   "execution_count": 12,
   "metadata": {},
   "outputs": [],
   "source": [
    "right_lauch_pads = []\n",
    "for i in range(10):\n",
    "    right_lauch_pads.append(LaunchpadWirebond(design,'wb_right'+str(i), options = Dict(pos_x = '{}mm'.format(right_wb_xs[i]),pos_y = '{}mm'.format(right_wb_ys[i]),orientation = orientations_right[i],**Wirebond_left_opt)))\n",
    "    gui.rebuild()\n",
    "    gui.autoscale()\n",
    "    time.sleep(0.1)"
   ]
  },
  {
   "cell_type": "code",
   "execution_count": 13,
   "metadata": {},
   "outputs": [],
   "source": [
    "gui.rebuild()"
   ]
  },
  {
   "attachments": {},
   "cell_type": "markdown",
   "metadata": {},
   "source": [
    "## Qubit pockets"
   ]
  },
  {
   "cell_type": "code",
   "execution_count": 14,
   "metadata": {},
   "outputs": [],
   "source": [
    "from pocket import TransmonPocket as pocket"
   ]
  },
  {
   "cell_type": "code",
   "execution_count": 15,
   "metadata": {},
   "outputs": [],
   "source": [
    "pocket_options = dict(\n",
    "        pos_x = '0mm', \n",
    "        pos_y = '0mm', \n",
    "        orientation = '0',\n",
    "        frequency = 5.2,\n",
    "        guess_path = r'/Users/wendy/Desktop/Wendy-qiskit-code/data/educated_guess_0403.csv',\n",
    "        coupling_path = '',\n",
    "        sim = True,\n",
    "        coord = '(0,0)',\n",
    "        qubit_layer = 5,\n",
    "        junction_layer = 2, \n",
    "        ab_layer = 8,\n",
    "        ab_square_layer = 9,\n",
    "        ab_distance = '70um',\n",
    "        rotation = 90\n",
    "        )"
   ]
  },
  {
   "cell_type": "code",
   "execution_count": 31,
   "metadata": {},
   "outputs": [],
   "source": [
    "qubit_y1 = ['3.96mm','3.86mm','2.910000mm','1.960000mm','1.010000mm',\n",
    "            '0.060000mm','-0.890000mm','-1.840000mm','-2.790000mm','-3.740000mm']"
   ]
  },
  {
   "attachments": {},
   "cell_type": "markdown",
   "metadata": {},
   "source": [
    "First row numbers"
   ]
  },
  {
   "cell_type": "code",
   "execution_count": 17,
   "metadata": {},
   "outputs": [],
   "source": [
    "qubit_x0 = ['-3.9mm', '-3.1mm', '-2.2mm', \n",
    "            '-1.3mm', '-0.4mm', '0.5mm',\n",
    "            '1.4mm', '2.3mm','3.2mm', '4.05mm']\n",
    "qubit_y0 = ['4.5mm'] + ['3.96mm']*8 + ['4.2mm']\n",
    "qubit_angles0 = [90,180,180,180,180,180,180,180,180,270]"
   ]
  },
  {
   "attachments": {},
   "cell_type": "markdown",
   "metadata": {},
   "source": [
    "### First row"
   ]
  },
  {
   "attachments": {},
   "cell_type": "markdown",
   "metadata": {},
   "source": [
    "qubits and qubit-qubit connections"
   ]
  },
  {
   "cell_type": "code",
   "execution_count": 18,
   "metadata": {},
   "outputs": [
    {
     "name": "stdout",
     "output_type": "stream",
     "text": [
      "{'pos_x': '-3.9mm', 'pos_y': '4.5mm', 'orientation': '0', 'frequency': 5.2, 'guess_path': '/Users/wendy/Desktop/Wendy-qiskit-code/data/educated_guess_0403.csv', 'coupling_path': '', 'sim': True, 'coord': '(0,0)', 'qubit_layer': 5, 'junction_layer': 2, 'ab_layer': 8, 'ab_square_layer': 9, 'ab_distance': '70um', 'rotation': 90}\n",
      "-4.36 4.5\n",
      "-4.4975000000000005 4.5\n"
     ]
    },
    {
     "name": "stderr",
     "output_type": "stream",
     "text": [
      "12:35AM 58s INFO [delete_component]: Called delete_component cpw_(0,0), but such a component is not in the design cache dictionary of components.\n"
     ]
    },
    {
     "name": "stdout",
     "output_type": "stream",
     "text": [
      "{'points': [array([-3.97138,  4.0913 ]), array([-3.97138,  4.1037 ])], 'middle': array([-3.97138,  4.0975 ]), 'normal': array([-1.,  0.]), 'tangent': array([-0., -1.]), 'width': 0.0124, 'gap': 0.00744, 'chip': 'main', 'parent_name': 23, 'net_id': 0, 'length': 0} pin\n",
      "{'pos_x': '-3.1mm', 'pos_y': '3.96mm', 'orientation': '0', 'frequency': 5.2, 'guess_path': '/Users/wendy/Desktop/Wendy-qiskit-code/data/educated_guess_0403.csv', 'coupling_path': '', 'sim': True, 'coord': '(1,0)', 'qubit_layer': 5, 'junction_layer': 2, 'ab_layer': 8, 'ab_square_layer': 9, 'ab_distance': '70um', 'rotation': 180}\n",
      "-3.1 4.42\n",
      "-3.1 4.5575\n"
     ]
    },
    {
     "name": "stderr",
     "output_type": "stream",
     "text": [
      "12:36AM 01s INFO [delete_component]: Called delete_component cpw_(1,0), but such a component is not in the design cache dictionary of components.\n"
     ]
    },
    {
     "name": "stdout",
     "output_type": "stream",
     "text": [
      "{'points': [array([-3.5087 ,  4.03138]), array([-3.4963 ,  4.03138])], 'middle': array([-3.5025 ,  4.03138]), 'normal': array([0., 1.]), 'tangent': array([-1.,  0.]), 'width': 0.0124, 'gap': 0.00744, 'chip': 'main', 'parent_name': 28, 'net_id': 0, 'length': 0} pin\n",
      "{'start_pin': {'component': 'TQ(1,0)', 'pin': 'prime_end'}, 'end_pin': {'component': 'TQ(0,0)', 'pin': 'prime_end'}}\n",
      "o {'anchors': {}, 'trace_width': '12.4 um', 'trace_gap': '6.99 um', 'lead': {'start_straight': '5um', 'end_straight': '30um'}, 'fillet': '20um', 'total_length': '0.5mm', 'hfss_wire_bonds': True, 'q3d_wirebonds': True, 'pin_inputs': {'start_pin': {'component': 'TQ(1,0)', 'pin': 'prime_end'}, 'end_pin': {'component': 'TQ(0,0)', 'pin': 'prime_end'}}}\n",
      "{'pos_x': '-2.2mm', 'pos_y': '3.96mm', 'orientation': '0', 'frequency': 5.2, 'guess_path': '/Users/wendy/Desktop/Wendy-qiskit-code/data/educated_guess_0403.csv', 'coupling_path': '', 'sim': True, 'coord': '(2,0)', 'qubit_layer': 5, 'junction_layer': 2, 'ab_layer': 8, 'ab_square_layer': 9, 'ab_distance': '70um', 'rotation': 180}\n",
      "-2.2 4.42\n",
      "-2.2 4.5575\n"
     ]
    },
    {
     "name": "stderr",
     "output_type": "stream",
     "text": [
      "12:36AM 08s INFO [delete_component]: Called delete_component cpw_(2,0), but such a component is not in the design cache dictionary of components.\n"
     ]
    },
    {
     "name": "stdout",
     "output_type": "stream",
     "text": [
      "{'points': [array([-2.6087 ,  4.03138]), array([-2.5963 ,  4.03138])], 'middle': array([-2.6025 ,  4.03138]), 'normal': array([0., 1.]), 'tangent': array([-1.,  0.]), 'width': 0.0124, 'gap': 0.00744, 'chip': 'main', 'parent_name': 35, 'net_id': 0, 'length': 0} pin\n",
      "{'start_pin': {'component': 'TQ(2,0)', 'pin': 'prime_end'}, 'end_pin': {'component': 'TQ(1,0)', 'pin': 'prime_start'}}\n",
      "o {'anchors': {0: (-2.9925, 3.96)}, 'trace_width': '12.4 um', 'trace_gap': '6.99 um', 'lead': {'start_straight': '5um', 'end_straight': '30um'}, 'fillet': '20um', 'total_length': '0.5mm', 'hfss_wire_bonds': True, 'q3d_wirebonds': True, 'pin_inputs': {'start_pin': {'component': 'TQ(2,0)', 'pin': 'prime_end'}, 'end_pin': {'component': 'TQ(1,0)', 'pin': 'prime_start'}}}\n",
      "{'pos_x': '-1.3mm', 'pos_y': '3.96mm', 'orientation': '0', 'frequency': 5.2, 'guess_path': '/Users/wendy/Desktop/Wendy-qiskit-code/data/educated_guess_0403.csv', 'coupling_path': '', 'sim': True, 'coord': '(3,0)', 'qubit_layer': 5, 'junction_layer': 2, 'ab_layer': 8, 'ab_square_layer': 9, 'ab_distance': '70um', 'rotation': 180}\n",
      "-1.3 4.42\n",
      "-1.3 4.5575\n"
     ]
    },
    {
     "name": "stderr",
     "output_type": "stream",
     "text": [
      "12:36AM 21s INFO [delete_component]: Called delete_component cpw_(3,0), but such a component is not in the design cache dictionary of components.\n"
     ]
    },
    {
     "name": "stdout",
     "output_type": "stream",
     "text": [
      "{'points': [array([-1.7087 ,  4.03138]), array([-1.6963 ,  4.03138])], 'middle': array([-1.7025 ,  4.03138]), 'normal': array([0., 1.]), 'tangent': array([-1.,  0.]), 'width': 0.0124, 'gap': 0.00744, 'chip': 'main', 'parent_name': 42, 'net_id': 0, 'length': 0} pin\n",
      "{'start_pin': {'component': 'TQ(3,0)', 'pin': 'prime_end'}, 'end_pin': {'component': 'TQ(2,0)', 'pin': 'prime_start'}}\n",
      "o {'anchors': {0: (-2.0925000000000002, 3.96)}, 'trace_width': '12.4 um', 'trace_gap': '6.99 um', 'lead': {'start_straight': '5um', 'end_straight': '30um'}, 'fillet': '20um', 'total_length': '0.5mm', 'hfss_wire_bonds': True, 'q3d_wirebonds': True, 'pin_inputs': {'start_pin': {'component': 'TQ(3,0)', 'pin': 'prime_end'}, 'end_pin': {'component': 'TQ(2,0)', 'pin': 'prime_start'}}}\n",
      "{'pos_x': '-0.4mm', 'pos_y': '3.96mm', 'orientation': '0', 'frequency': 5.2, 'guess_path': '/Users/wendy/Desktop/Wendy-qiskit-code/data/educated_guess_0403.csv', 'coupling_path': '', 'sim': True, 'coord': '(4,0)', 'qubit_layer': 5, 'junction_layer': 2, 'ab_layer': 8, 'ab_square_layer': 9, 'ab_distance': '70um', 'rotation': 180}\n",
      "-0.4000000000000001 4.42\n",
      "-0.4000000000000001 4.5575\n"
     ]
    },
    {
     "name": "stderr",
     "output_type": "stream",
     "text": [
      "12:36AM 39s INFO [delete_component]: Called delete_component cpw_(4,0), but such a component is not in the design cache dictionary of components.\n"
     ]
    },
    {
     "name": "stdout",
     "output_type": "stream",
     "text": [
      "{'points': [array([-0.8087 ,  4.03138]), array([-0.7963 ,  4.03138])], 'middle': array([-0.8025 ,  4.03138]), 'normal': array([0., 1.]), 'tangent': array([-1.,  0.]), 'width': 0.0124, 'gap': 0.00744, 'chip': 'main', 'parent_name': 49, 'net_id': 0, 'length': 0} pin\n",
      "{'start_pin': {'component': 'TQ(4,0)', 'pin': 'prime_end'}, 'end_pin': {'component': 'TQ(3,0)', 'pin': 'prime_start'}}\n",
      "o {'anchors': {0: (-1.1925000000000001, 3.96)}, 'trace_width': '12.4 um', 'trace_gap': '6.99 um', 'lead': {'start_straight': '5um', 'end_straight': '30um'}, 'fillet': '20um', 'total_length': '0.5mm', 'hfss_wire_bonds': True, 'q3d_wirebonds': True, 'pin_inputs': {'start_pin': {'component': 'TQ(4,0)', 'pin': 'prime_end'}, 'end_pin': {'component': 'TQ(3,0)', 'pin': 'prime_start'}}}\n",
      "{'pos_x': '0.5mm', 'pos_y': '3.96mm', 'orientation': '0', 'frequency': 5.2, 'guess_path': '/Users/wendy/Desktop/Wendy-qiskit-code/data/educated_guess_0403.csv', 'coupling_path': '', 'sim': True, 'coord': '(5,0)', 'qubit_layer': 5, 'junction_layer': 2, 'ab_layer': 8, 'ab_square_layer': 9, 'ab_distance': '70um', 'rotation': 180}\n",
      "0.49999999999999994 4.42\n",
      "0.49999999999999994 4.5575\n"
     ]
    },
    {
     "name": "stderr",
     "output_type": "stream",
     "text": [
      "12:37AM 07s INFO [delete_component]: Called delete_component cpw_(5,0), but such a component is not in the design cache dictionary of components.\n"
     ]
    },
    {
     "name": "stdout",
     "output_type": "stream",
     "text": [
      "{'points': [array([0.0913 , 4.03138]), array([0.1037 , 4.03138])], 'middle': array([0.0975 , 4.03138]), 'normal': array([0., 1.]), 'tangent': array([-1.,  0.]), 'width': 0.0124, 'gap': 0.00744, 'chip': 'main', 'parent_name': 56, 'net_id': 0, 'length': 0} pin\n",
      "{'start_pin': {'component': 'TQ(5,0)', 'pin': 'prime_end'}, 'end_pin': {'component': 'TQ(4,0)', 'pin': 'prime_start'}}\n",
      "o {'anchors': {0: (-0.29250000000000004, 3.96)}, 'trace_width': '12.4 um', 'trace_gap': '6.99 um', 'lead': {'start_straight': '5um', 'end_straight': '30um'}, 'fillet': '20um', 'total_length': '0.5mm', 'hfss_wire_bonds': True, 'q3d_wirebonds': True, 'pin_inputs': {'start_pin': {'component': 'TQ(5,0)', 'pin': 'prime_end'}, 'end_pin': {'component': 'TQ(4,0)', 'pin': 'prime_start'}}}\n",
      "{'pos_x': '1.4mm', 'pos_y': '3.96mm', 'orientation': '0', 'frequency': 5.2, 'guess_path': '/Users/wendy/Desktop/Wendy-qiskit-code/data/educated_guess_0403.csv', 'coupling_path': '', 'sim': True, 'coord': '(6,0)', 'qubit_layer': 5, 'junction_layer': 2, 'ab_layer': 8, 'ab_square_layer': 9, 'ab_distance': '70um', 'rotation': 180}\n",
      "1.4 4.42\n",
      "1.4 4.5575\n"
     ]
    },
    {
     "name": "stderr",
     "output_type": "stream",
     "text": [
      "12:37AM 46s INFO [delete_component]: Called delete_component cpw_(6,0), but such a component is not in the design cache dictionary of components.\n"
     ]
    },
    {
     "name": "stdout",
     "output_type": "stream",
     "text": [
      "{'points': [array([0.9913 , 4.03138]), array([1.0037 , 4.03138])], 'middle': array([0.9975 , 4.03138]), 'normal': array([0., 1.]), 'tangent': array([-1.,  0.]), 'width': 0.0124, 'gap': 0.00744, 'chip': 'main', 'parent_name': 63, 'net_id': 0, 'length': 0} pin\n",
      "{'start_pin': {'component': 'TQ(6,0)', 'pin': 'prime_end'}, 'end_pin': {'component': 'TQ(5,0)', 'pin': 'prime_start'}}\n",
      "o {'anchors': {0: (0.6074999999999999, 3.96)}, 'trace_width': '12.4 um', 'trace_gap': '6.99 um', 'lead': {'start_straight': '5um', 'end_straight': '30um'}, 'fillet': '20um', 'total_length': '0.5mm', 'hfss_wire_bonds': True, 'q3d_wirebonds': True, 'pin_inputs': {'start_pin': {'component': 'TQ(6,0)', 'pin': 'prime_end'}, 'end_pin': {'component': 'TQ(5,0)', 'pin': 'prime_start'}}}\n",
      "{'pos_x': '2.3mm', 'pos_y': '3.96mm', 'orientation': '0', 'frequency': 5.2, 'guess_path': '/Users/wendy/Desktop/Wendy-qiskit-code/data/educated_guess_0403.csv', 'coupling_path': '', 'sim': True, 'coord': '(7,0)', 'qubit_layer': 5, 'junction_layer': 2, 'ab_layer': 8, 'ab_square_layer': 9, 'ab_distance': '70um', 'rotation': 180}\n",
      "2.3 4.42\n",
      "2.3 4.5575\n"
     ]
    },
    {
     "name": "stderr",
     "output_type": "stream",
     "text": [
      "12:38AM 32s INFO [delete_component]: Called delete_component cpw_(7,0), but such a component is not in the design cache dictionary of components.\n"
     ]
    },
    {
     "name": "stdout",
     "output_type": "stream",
     "text": [
      "{'points': [array([1.8913 , 4.03138]), array([1.9037 , 4.03138])], 'middle': array([1.8975 , 4.03138]), 'normal': array([0., 1.]), 'tangent': array([-1.,  0.]), 'width': 0.0124, 'gap': 0.00744, 'chip': 'main', 'parent_name': 70, 'net_id': 0, 'length': 0} pin\n",
      "{'start_pin': {'component': 'TQ(7,0)', 'pin': 'prime_end'}, 'end_pin': {'component': 'TQ(6,0)', 'pin': 'prime_start'}}\n",
      "o {'anchors': {0: (1.5074999999999998, 3.96)}, 'trace_width': '12.4 um', 'trace_gap': '6.99 um', 'lead': {'start_straight': '5um', 'end_straight': '30um'}, 'fillet': '20um', 'total_length': '0.5mm', 'hfss_wire_bonds': True, 'q3d_wirebonds': True, 'pin_inputs': {'start_pin': {'component': 'TQ(7,0)', 'pin': 'prime_end'}, 'end_pin': {'component': 'TQ(6,0)', 'pin': 'prime_start'}}}\n",
      "{'pos_x': '3.2mm', 'pos_y': '3.96mm', 'orientation': '0', 'frequency': 5.2, 'guess_path': '/Users/wendy/Desktop/Wendy-qiskit-code/data/educated_guess_0403.csv', 'coupling_path': '', 'sim': True, 'coord': '(8,0)', 'qubit_layer': 5, 'junction_layer': 2, 'ab_layer': 8, 'ab_square_layer': 9, 'ab_distance': '70um', 'rotation': 180}\n",
      "3.2 4.42\n",
      "3.2 4.5575\n"
     ]
    },
    {
     "name": "stderr",
     "output_type": "stream",
     "text": [
      "12:39AM 25s INFO [delete_component]: Called delete_component cpw_(8,0), but such a component is not in the design cache dictionary of components.\n"
     ]
    },
    {
     "name": "stdout",
     "output_type": "stream",
     "text": [
      "{'points': [array([2.7913 , 4.03138]), array([2.8037 , 4.03138])], 'middle': array([2.7975 , 4.03138]), 'normal': array([0., 1.]), 'tangent': array([-1.,  0.]), 'width': 0.0124, 'gap': 0.00744, 'chip': 'main', 'parent_name': 77, 'net_id': 0, 'length': 0} pin\n",
      "{'start_pin': {'component': 'TQ(8,0)', 'pin': 'prime_end'}, 'end_pin': {'component': 'TQ(7,0)', 'pin': 'prime_start'}}\n",
      "o {'anchors': {0: (2.4074999999999998, 3.96)}, 'trace_width': '12.4 um', 'trace_gap': '6.99 um', 'lead': {'start_straight': '5um', 'end_straight': '30um'}, 'fillet': '20um', 'total_length': '0.5mm', 'hfss_wire_bonds': True, 'q3d_wirebonds': True, 'pin_inputs': {'start_pin': {'component': 'TQ(8,0)', 'pin': 'prime_end'}, 'end_pin': {'component': 'TQ(7,0)', 'pin': 'prime_start'}}}\n",
      "{'pos_x': '4.05mm', 'pos_y': '4.2mm', 'orientation': '0', 'frequency': 5.2, 'guess_path': '/Users/wendy/Desktop/Wendy-qiskit-code/data/educated_guess_0403.csv', 'coupling_path': '', 'sim': True, 'coord': '(9,0)', 'qubit_layer': 5, 'junction_layer': 2, 'ab_layer': 8, 'ab_square_layer': 9, 'ab_distance': '70um', 'rotation': 270}\n",
      "4.51 4.2\n",
      "4.6475 4.2\n"
     ]
    },
    {
     "name": "stderr",
     "output_type": "stream",
     "text": [
      "12:40AM 25s INFO [delete_component]: Called delete_component cpw_(9,0), but such a component is not in the design cache dictionary of components.\n"
     ]
    },
    {
     "name": "stdout",
     "output_type": "stream",
     "text": [
      "{'points': [array([4.12138, 4.6087 ]), array([4.12138, 4.5963 ])], 'middle': array([4.12138, 4.6025 ]), 'normal': array([1., 0.]), 'tangent': array([0., 1.]), 'width': 0.0124, 'gap': 0.00744, 'chip': 'main', 'parent_name': 84, 'net_id': 0, 'length': 0} pin\n",
      "{'start_pin': {'component': 'TQ(9,0)', 'pin': 'prime_start'}, 'end_pin': {'component': 'TQ(8,0)', 'pin': 'prime_start'}}\n",
      "o {'anchors': {}, 'trace_width': '12.4 um', 'trace_gap': '6.99 um', 'lead': {'start_straight': '5um', 'end_straight': '30um'}, 'fillet': '20um', 'total_length': '0.5mm', 'hfss_wire_bonds': True, 'q3d_wirebonds': True, 'pin_inputs': {'start_pin': {'component': 'TQ(9,0)', 'pin': 'prime_start'}, 'end_pin': {'component': 'TQ(8,0)', 'pin': 'prime_start'}}}\n"
     ]
    }
   ],
   "source": [
    "pockets = []#p1, p2]\n",
    "for i in range(10):\n",
    "    j = i\n",
    "    pocket_options['pos_x'] = qubit_x0[j]\n",
    "    pocket_options['pos_y'] = qubit_y0[j]\n",
    "    pocket_options['coord'] = '({},0)'.format(j)\n",
    "    pocket_options['rotation'] = qubit_angles0[j]\n",
    "    p = pocket(gui, design,options = pocket_options)\n",
    "    pockets.append(p)\n",
    "    if i ==0:\n",
    "        pass\n",
    "    else:\n",
    "        pockets[i].connect(pockets[i-1])\n",
    "        # p.connect(pockets[-1])\n"
   ]
  },
  {
   "attachments": {},
   "cell_type": "markdown",
   "metadata": {},
   "source": [
    "Connecting the ends"
   ]
  },
  {
   "cell_type": "code",
   "execution_count": 19,
   "metadata": {},
   "outputs": [
    {
     "name": "stdout",
     "output_type": "stream",
     "text": [
      "{'start_pin': {'component': 'wb_right0', 'pin': 'tie'}, 'end_pin': {'component': 'TQ(9,0)', 'pin': 'prime_end'}}\n",
      "o {'anchors': {0: (3.9, 4.75)}, 'trace_width': '12.4 um', 'trace_gap': '6.99 um', 'lead': {'start_straight': '5um', 'end_straight': '30um'}, 'fillet': '20um', 'total_length': '0.5mm', 'hfss_wire_bonds': True, 'q3d_wirebonds': True, 'pin_inputs': {'start_pin': {'component': 'wb_right0', 'pin': 'tie'}, 'end_pin': {'component': 'TQ(9,0)', 'pin': 'prime_end'}}}\n",
      "{'start_pin': {'component': 'wb_left0', 'pin': 'tie'}, 'end_pin': {'component': 'TQ(0,0)', 'pin': 'prime_start'}}\n",
      "o {'anchors': {0: (-3.9, 4.75)}, 'trace_width': '12.4 um', 'trace_gap': '6.99 um', 'lead': {'start_straight': '5um', 'end_straight': '30um'}, 'fillet': '20um', 'total_length': '0.5mm', 'hfss_wire_bonds': True, 'q3d_wirebonds': True, 'pin_inputs': {'start_pin': {'component': 'wb_left0', 'pin': 'tie'}, 'end_pin': {'component': 'TQ(0,0)', 'pin': 'prime_start'}}}\n"
     ]
    }
   ],
   "source": [
    "pockets[-1].connect(right_lauch_pads[0])\n",
    "pockets[0].connect(left_lauch_pads[0])"
   ]
  },
  {
   "attachments": {},
   "cell_type": "markdown",
   "metadata": {},
   "source": [
    "### Rows 2-10"
   ]
  },
  {
   "cell_type": "code",
   "execution_count": 20,
   "metadata": {},
   "outputs": [],
   "source": [
    "xs = ['-4.3mm', '-3.35mm', '-2.4mm', '-1.45mm', '-0.5mm', '0.45mm', '1.4mm', '2.35mm', '3.3mm', '4.25mm']"
   ]
  },
  {
   "cell_type": "code",
   "execution_count": 32,
   "metadata": {},
   "outputs": [
    {
     "name": "stdout",
     "output_type": "stream",
     "text": [
      "{'pos_x': '-4.3mm', 'pos_y': '2.910000mm', 'orientation': '0', 'frequency': 5.2, 'guess_path': '/Users/wendy/Desktop/Wendy-qiskit-code/data/educated_guess_0403.csv', 'coupling_path': '', 'sim': True, 'coord': '(0,2)', 'qubit_layer': 5, 'junction_layer': 2, 'ab_layer': 8, 'ab_square_layer': 9, 'ab_distance': '70um', 'rotation': 0}\n",
      "-4.3 2.45\n",
      "-4.3 2.3125\n"
     ]
    },
    {
     "name": "stderr",
     "output_type": "stream",
     "text": [
      "02:27AM 49s INFO [delete_component]: Called delete_component cpw_(0,2), but such a component is not in the design cache dictionary of components.\n"
     ]
    },
    {
     "name": "stdout",
     "output_type": "stream",
     "text": [
      "{'points': [array([-3.8913 ,  2.83862]), array([-3.9037 ,  2.83862])], 'middle': array([-3.8975 ,  2.83862]), 'normal': array([ 0., -1.]), 'tangent': array([ 1., -0.]), 'width': 0.0124, 'gap': 0.00744, 'chip': 'main', 'parent_name': 207, 'net_id': 0, 'length': 0} pin\n",
      "{'start_pin': {'component': 'wb_left2', 'pin': 'tie'}, 'end_pin': {'component': 'TQ(0,2)', 'pin': 'prime_start'}}\n",
      "o {'anchors': {0: (-4.75, 2.91)}, 'trace_width': '12.4 um', 'trace_gap': '6.99 um', 'lead': {'start_straight': '5um', 'end_straight': '30um'}, 'fillet': '20um', 'total_length': '0.5mm', 'hfss_wire_bonds': True, 'q3d_wirebonds': True, 'pin_inputs': {'start_pin': {'component': 'wb_left2', 'pin': 'tie'}, 'end_pin': {'component': 'TQ(0,2)', 'pin': 'prime_start'}}}\n",
      "{'pos_x': '-3.35mm', 'pos_y': '2.910000mm', 'orientation': '0', 'frequency': 5.2, 'guess_path': '/Users/wendy/Desktop/Wendy-qiskit-code/data/educated_guess_0403.csv', 'coupling_path': '', 'sim': True, 'coord': '(1,2)', 'qubit_layer': 5, 'junction_layer': 2, 'ab_layer': 8, 'ab_square_layer': 9, 'ab_distance': '70um', 'rotation': 0}\n",
      "-3.35 2.45\n",
      "-3.35 2.3125\n"
     ]
    },
    {
     "name": "stderr",
     "output_type": "stream",
     "text": [
      "02:31AM 26s INFO [delete_component]: Called delete_component cpw_(1,2), but such a component is not in the design cache dictionary of components.\n"
     ]
    },
    {
     "name": "stdout",
     "output_type": "stream",
     "text": [
      "{'points': [array([-2.9413 ,  2.83862]), array([-2.9537 ,  2.83862])], 'middle': array([-2.9475 ,  2.83862]), 'normal': array([ 0., -1.]), 'tangent': array([ 1., -0.]), 'width': 0.0124, 'gap': 0.00744, 'chip': 'main', 'parent_name': 214, 'net_id': 0, 'length': 0} pin\n",
      "{'start_pin': {'component': 'TQ(1,2)', 'pin': 'prime_start'}, 'end_pin': {'component': 'TQ(0,2)', 'pin': 'prime_end'}}\n",
      "o {'anchors': {0: (-3.4825, 2.91)}, 'trace_width': '12.4 um', 'trace_gap': '6.99 um', 'lead': {'start_straight': '5um', 'end_straight': '30um'}, 'fillet': '20um', 'total_length': '0.5mm', 'hfss_wire_bonds': True, 'q3d_wirebonds': True, 'pin_inputs': {'start_pin': {'component': 'TQ(1,2)', 'pin': 'prime_start'}, 'end_pin': {'component': 'TQ(0,2)', 'pin': 'prime_end'}}}\n"
     ]
    }
   ],
   "source": [
    "# pockets = []#p1, p2]\n",
    "for i in range(2,10):\n",
    "    poc = []\n",
    "    for j in range(10):\n",
    "        pocket_options['pos_x'] = xs[j]\n",
    "        pocket_options['pos_y'] = qubit_y1[i]\n",
    "        pocket_options['coord'] = '({},{})'.format(j,i)\n",
    "        pocket_options['rotation'] = 0 #qubit_angles0[j]\n",
    "        p = pocket(gui, design,options = pocket_options)\n",
    "        poc.append(p)\n",
    "        if j ==0:\n",
    "           poc[j].connect(left_lauch_pads[i]) \n",
    "        elif j == 9:\n",
    "            poc[j].connect(poc[j-1])\n",
    "            poc[j].connect(right_lauch_pads[i])\n",
    "        else:\n",
    "            poc[j].connect(poc[j-1])\n",
    "    pockets.append(poc)"
   ]
  },
  {
   "cell_type": "code",
   "execution_count": 26,
   "metadata": {},
   "outputs": [
    {
     "name": "stdout",
     "output_type": "stream",
     "text": [
      "{'start_pin': {'component': 'TQ(1,1)', 'pin': 'prime_start'}, 'end_pin': {'component': 'TQ(0,1)', 'pin': 'prime_end'}}\n",
      "o {'anchors': {0: (-3.4825, 3.86)}, 'trace_width': '12.4 um', 'trace_gap': '6.99 um', 'lead': {'start_straight': '5um', 'end_straight': '30um'}, 'fillet': '20um', 'total_length': '0.5mm', 'hfss_wire_bonds': True, 'q3d_wirebonds': True, 'pin_inputs': {'start_pin': {'component': 'TQ(1,1)', 'pin': 'prime_start'}, 'end_pin': {'component': 'TQ(0,1)', 'pin': 'prime_end'}}}\n"
     ]
    }
   ],
   "source": [
    "poc[j].connect(poc[j-1])"
   ]
  },
  {
   "cell_type": "code",
   "execution_count": 24,
   "metadata": {},
   "outputs": [
    {
     "data": {
      "text/plain": [
       "[<pocket.TransmonPocket at 0x14e7c56d0>,\n",
       " <pocket.TransmonPocket at 0x177b5e250>]"
      ]
     },
     "execution_count": 24,
     "metadata": {},
     "output_type": "execute_result"
    }
   ],
   "source": [
    "poc"
   ]
  },
  {
   "cell_type": "code",
   "execution_count": 29,
   "metadata": {},
   "outputs": [
    {
     "name": "stdout",
     "output_type": "stream",
     "text": [
      "1\n",
      "{'start_pin': {'component': 'TQ(9,1)', 'pin': 'prime_end'}, 'end_pin': {'component': 'wb_right1', 'pin': 'tie'}}\n",
      "o {'anchors': {0: (4.75, 3.86)}, 'trace_width': '12.4 um', 'trace_gap': '6.99 um', 'lead': {'start_straight': '5um', 'end_straight': '30um'}, 'fillet': '20um', 'total_length': '0.5mm', 'hfss_wire_bonds': True, 'q3d_wirebonds': True, 'pin_inputs': {'start_pin': {'component': 'TQ(9,1)', 'pin': 'prime_end'}, 'end_pin': {'component': 'wb_right1', 'pin': 'tie'}}}\n"
     ]
    }
   ],
   "source": [
    "poc[j].connect(right_lauch_pads[i])"
   ]
  },
  {
   "cell_type": "code",
   "execution_count": null,
   "metadata": {},
   "outputs": [],
   "source": []
  },
  {
   "cell_type": "code",
   "execution_count": null,
   "metadata": {},
   "outputs": [],
   "source": [
    "p_1.connect(right_lauch_pads[0])"
   ]
  },
  {
   "cell_type": "code",
   "execution_count": null,
   "metadata": {},
   "outputs": [],
   "source": [
    "j = 8\n",
    "pocket_options['pos_x'] = qubit_x0[j]\n",
    "pocket_options['pos_y'] = qubit_y0[j]\n",
    "pocket_options['coord'] = '({},0)'.format(j)\n",
    "pocket_options['rotation'] = qubit_angles0[j]\n",
    "p_2 = pocket(gui, design,options = pocket_options)"
   ]
  },
  {
   "cell_type": "code",
   "execution_count": null,
   "metadata": {},
   "outputs": [],
   "source": [
    "qubit_angles0[9]"
   ]
  },
  {
   "cell_type": "code",
   "execution_count": null,
   "metadata": {},
   "outputs": [],
   "source": [
    "p_2.connect(p_1)"
   ]
  },
  {
   "cell_type": "code",
   "execution_count": null,
   "metadata": {},
   "outputs": [],
   "source": [
    "p.connect(pockets[8])"
   ]
  },
  {
   "cell_type": "code",
   "execution_count": null,
   "metadata": {},
   "outputs": [],
   "source": [
    "p.connect(right_lauch_pads[0])"
   ]
  },
  {
   "cell_type": "code",
   "execution_count": null,
   "metadata": {},
   "outputs": [],
   "source": [
    "# y_cord = ['3.96mm', '3.86mm']\n",
    "y_cord = [3.96]\n",
    "\n",
    "for i in range(9):\n",
    "    # y_cord.append('{:2f}mm'.format(3.86-0.95*i))\n",
    "    y_cord.append(np.round(3.86-0.95*i,2))\n",
    "    print(3.86-0.95*i)"
   ]
  },
  {
   "cell_type": "code",
   "execution_count": null,
   "metadata": {},
   "outputs": [],
   "source": [
    "y_cord"
   ]
  },
  {
   "cell_type": "code",
   "execution_count": null,
   "metadata": {},
   "outputs": [],
   "source": []
  },
  {
   "cell_type": "code",
   "execution_count": null,
   "metadata": {},
   "outputs": [],
   "source": [
    "wb1 = right_lauch_pads[0]\n",
    "wb1.options.orientation = 0\n",
    "gui.rebuild()"
   ]
  },
  {
   "cell_type": "code",
   "execution_count": null,
   "metadata": {},
   "outputs": [],
   "source": [
    "pockets[-1].connect(p2)"
   ]
  },
  {
   "cell_type": "code",
   "execution_count": null,
   "metadata": {},
   "outputs": [],
   "source": [
    "anchor = OrderedDict()\n",
    "anchor[0] = (-3.2,4.00005)"
   ]
  },
  {
   "cell_type": "code",
   "execution_count": null,
   "metadata": {},
   "outputs": [],
   "source": [
    "op  = {'anchors': anchor, 'trace_width': '12.4 um', 'trace_gap': '6.99 um', 'lead': {'start_straight': '5um', 'end_straight': '30um'}, 'fillet': '20um', 'total_length': '0.5mm', 'hfss_wire_bonds': True, 'q3d_wirebonds': True, 'pin_inputs': {'start_pin': {'component': 'TQ(2,0)', 'pin': 'prime_end'}, 'end_pin': {'component': 'TQ(1,0)', 'pin': 'prime_start'}}}"
   ]
  },
  {
   "cell_type": "code",
   "execution_count": null,
   "metadata": {},
   "outputs": [],
   "source": [
    "dp.RouteMixed(design, 'aaa', \n",
    "           options = op)"
   ]
  },
  {
   "cell_type": "code",
   "execution_count": null,
   "metadata": {},
   "outputs": [],
   "source": [
    "gui.rebuild()"
   ]
  },
  {
   "cell_type": "code",
   "execution_count": null,
   "metadata": {},
   "outputs": [],
   "source": []
  },
  {
   "cell_type": "code",
   "execution_count": null,
   "metadata": {},
   "outputs": [],
   "source": [
    "t1 = p1.Tee\n",
    "t2= p2.Tee"
   ]
  },
  {
   "cell_type": "code",
   "execution_count": null,
   "metadata": {},
   "outputs": [],
   "source": [
    "from collections import OrderedDict"
   ]
  },
  {
   "cell_type": "code",
   "execution_count": null,
   "metadata": {},
   "outputs": [],
   "source": [
    "design.delete_component('aaa')\n",
    "\n",
    "anchor = OrderedDict()\n",
    "pin_inputs = Dict(\n",
    "                start_pin=Dict(component=t1.name, pin='prime_end'),\n",
    "                end_pin=Dict(component=t2.name, pin='prime_end'))\n",
    "dp.trans_options['pin_inputs'] = pin_inputs\n",
    "ops = Dict(anchors = anchor, **dp.trans_options)\n",
    "# anchor[0] = (-3.87,3.5)\n",
    "cpw = dp.RouteMixed(design, 'aaa', options = ops)\n"
   ]
  },
  {
   "cell_type": "code",
   "execution_count": null,
   "metadata": {},
   "outputs": [],
   "source": [
    "design.delete_component('aaa')"
   ]
  },
  {
   "cell_type": "code",
   "execution_count": null,
   "metadata": {},
   "outputs": [],
   "source": [
    "# design.delete_component('aaa')\n",
    "gui.rebuild()"
   ]
  },
  {
   "cell_type": "code",
   "execution_count": null,
   "metadata": {},
   "outputs": [],
   "source": [
    "design.delete_component('airbridge_connects(0,0)wb_left0')\n",
    "design.delete_component('(0,0)CPWwb_left0')"
   ]
  },
  {
   "cell_type": "code",
   "execution_count": null,
   "metadata": {},
   "outputs": [],
   "source": [
    "gui.rebuild()"
   ]
  },
  {
   "cell_type": "code",
   "execution_count": null,
   "metadata": {},
   "outputs": [],
   "source": [
    "print(design.components)"
   ]
  },
  {
   "cell_type": "code",
   "execution_count": null,
   "metadata": {},
   "outputs": [],
   "source": [
    "for  i in design.components:\n",
    "    if 'pad' in type(i)"
   ]
  },
  {
   "cell_type": "code",
   "execution_count": null,
   "metadata": {},
   "outputs": [],
   "source": [
    "wb_rights = []"
   ]
  },
  {
   "cell_type": "code",
   "execution_count": null,
   "metadata": {},
   "outputs": [],
   "source": []
  },
  {
   "cell_type": "code",
   "execution_count": null,
   "metadata": {},
   "outputs": [],
   "source": []
  },
  {
   "cell_type": "code",
   "execution_count": null,
   "metadata": {},
   "outputs": [],
   "source": []
  },
  {
   "cell_type": "code",
   "execution_count": null,
   "metadata": {},
   "outputs": [],
   "source": [
    "design.delete_all_components()"
   ]
  },
  {
   "cell_type": "code",
   "execution_count": null,
   "metadata": {},
   "outputs": [],
   "source": [
    "pocket_options = dict(\n",
    "        pos_x = '0mm', \n",
    "        pos_y = '0mm', \n",
    "        orientation = '0',\n",
    "        frequency = 5.2,\n",
    "        guess_path = r'/Users/wendy/Desktop/Wendy-qiskit-code/data/educated_guess_0403.csv',\n",
    "        coupling_path = '',\n",
    "        sim = True,\n",
    "        coord = '(0,0)',\n",
    "        qubit_layer = 5,\n",
    "        junction_layer = 2, \n",
    "        ab_layer = 8,\n",
    "        ab_square_layer = 9,\n",
    "        ab_distance = '70um',\n",
    "        rotation = 90\n",
    "        )"
   ]
  },
  {
   "cell_type": "code",
   "execution_count": null,
   "metadata": {},
   "outputs": [],
   "source": [
    "design.delete_all_components()\n",
    "pocket_options['pos_x'] = '0mm'\n",
    "pocket_options['pos_y'] = '0mm'\n",
    "pocket_options['coord'] = '(0,0)'\n",
    "\n",
    "p1 = pocket(gui, design,options = pocket_options)"
   ]
  },
  {
   "cell_type": "code",
   "execution_count": null,
   "metadata": {},
   "outputs": [],
   "source": [
    "pocket_options['pos_x'] = '1mm'\n",
    "pocket_options['pos_y'] = '0mm'\n",
    "pocket_options['coord'] = '(1,0)'\n",
    "\n",
    "p2 = pocket(gui, design,options = pocket_options)"
   ]
  },
  {
   "cell_type": "code",
   "execution_count": null,
   "metadata": {},
   "outputs": [],
   "source": [
    "p1.Tee.pins['second_end']"
   ]
  },
  {
   "cell_type": "code",
   "execution_count": null,
   "metadata": {},
   "outputs": [],
   "source": [
    "p1.qubit.pins['a']"
   ]
  },
  {
   "cell_type": "code",
   "execution_count": null,
   "metadata": {},
   "outputs": [],
   "source": [
    "gui.rebuild()\n",
    "gui.autoscale()"
   ]
  },
  {
   "cell_type": "code",
   "execution_count": null,
   "metadata": {},
   "outputs": [],
   "source": [
    "p1.connect(p2)"
   ]
  },
  {
   "cell_type": "code",
   "execution_count": null,
   "metadata": {},
   "outputs": [],
   "source": [
    "qubit = p2.qubit\n",
    "TQ = p2.Tee\n",
    "j = p2.junction\n"
   ]
  },
  {
   "cell_type": "code",
   "execution_count": null,
   "metadata": {},
   "outputs": [],
   "source": [
    "TQ"
   ]
  },
  {
   "cell_type": "code",
   "execution_count": null,
   "metadata": {},
   "outputs": [],
   "source": [
    "f = p2.options['frequency']"
   ]
  },
  {
   "cell_type": "code",
   "execution_count": null,
   "metadata": {},
   "outputs": [],
   "source": [
    "q1,j, cpw, TQ1, design,gui = dp.construct_cpw_qubit(qubit,j, TQ, f,gui,design,sim =False, displacement = '10mm')\n",
    "q1, d = jj.place_junction(q1,j)\n",
    "gui.rebuild()\n",
    "gui.autoscale()"
   ]
  },
  {
   "cell_type": "code",
   "execution_count": null,
   "metadata": {},
   "outputs": [],
   "source": [
    "a = Dict(q = 1, b = 2)"
   ]
  },
  {
   "cell_type": "code",
   "execution_count": null,
   "metadata": {},
   "outputs": [],
   "source": [
    "a['q']"
   ]
  },
  {
   "cell_type": "code",
   "execution_count": null,
   "metadata": {},
   "outputs": [],
   "source": []
  },
  {
   "cell_type": "code",
   "execution_count": null,
   "metadata": {},
   "outputs": [],
   "source": []
  },
  {
   "cell_type": "code",
   "execution_count": null,
   "metadata": {},
   "outputs": [],
   "source": [
    "'pocket' in str(type(p))"
   ]
  },
  {
   "cell_type": "code",
   "execution_count": null,
   "metadata": {},
   "outputs": [],
   "source": [
    "p.options['coord']"
   ]
  },
  {
   "cell_type": "code",
   "execution_count": null,
   "metadata": {},
   "outputs": [],
   "source": [
    "p.qubit.pins"
   ]
  },
  {
   "cell_type": "code",
   "execution_count": null,
   "metadata": {},
   "outputs": [],
   "source": []
  },
  {
   "cell_type": "code",
   "execution_count": null,
   "metadata": {},
   "outputs": [],
   "source": []
  },
  {
   "cell_type": "code",
   "execution_count": null,
   "metadata": {},
   "outputs": [],
   "source": []
  },
  {
   "cell_type": "code",
   "execution_count": null,
   "metadata": {},
   "outputs": [],
   "source": []
  },
  {
   "cell_type": "code",
   "execution_count": null,
   "metadata": {},
   "outputs": [],
   "source": [
    "design = dp.design\n",
    "\n",
    "junction_layer = 5\n",
    "qubit_layer = 2\n",
    "ab_layer = 7\n",
    "ab_square_layer = 8"
   ]
  },
  {
   "cell_type": "markdown",
   "metadata": {},
   "source": [
    "## Single Pad--Verify Design"
   ]
  },
  {
   "cell_type": "markdown",
   "metadata": {},
   "source": [
    "### Draw the single pad transmon"
   ]
  },
  {
   "cell_type": "code",
   "execution_count": null,
   "metadata": {},
   "outputs": [],
   "source": [
    "design.delete_all_components()"
   ]
  },
  {
   "cell_type": "code",
   "execution_count": null,
   "metadata": {},
   "outputs": [],
   "source": [
    "design.overwrite_enabled = True\n",
    "\n",
    "size = 0.25*u.mm\n",
    "gap = 30*u.um\n",
    "size = size.to(u.um)\n",
    "pocket_width = size+2*gap\n",
    "\n",
    "\n",
    "op = Dict(\n",
    "    pos_x = '0',\n",
    "    pad_height = '{}um'.format(size.value),\n",
    "    pos_y = '0',\n",
    "    pad_width = '{}'.format(size),\n",
    "    pocket_width = '{}'.format(pocket_width), \n",
    "    **dp.qb_options)\n",
    "\n",
    "q1 = transmon(design,'Q1',options = op)\n",
    "\n",
    "gui.rebuild()\n",
    "gui.zoom_on_components(['Q1'])\n"
   ]
  },
  {
   "cell_type": "code",
   "execution_count": null,
   "metadata": {},
   "outputs": [],
   "source": [
    "q1.options['junction'] = 'True'"
   ]
  },
  {
   "cell_type": "code",
   "execution_count": null,
   "metadata": {},
   "outputs": [],
   "source": [
    "gui.rebuild()"
   ]
  },
  {
   "cell_type": "code",
   "execution_count": null,
   "metadata": {},
   "outputs": [],
   "source": [
    "design.chips.main.size['size_x'] = '20 mm'\n",
    "design.chips.main.size['size_y'] = '10 mm'\n",
    "gds = design.renderers.gds"
   ]
  },
  {
   "cell_type": "code",
   "execution_count": null,
   "metadata": {},
   "outputs": [],
   "source": [
    "guesses = pd.read_csv(r'data/educated_guess_0403.csv')"
   ]
  },
  {
   "cell_type": "code",
   "execution_count": null,
   "metadata": {},
   "outputs": [],
   "source": [
    "options = Dict(taper_len='0.5um',jj_gap = '0.14um')\n",
    "d = junction(design, 'd', options = options)\n"
   ]
  },
  {
   "cell_type": "code",
   "execution_count": null,
   "metadata": {},
   "outputs": [],
   "source": [
    "k = 3\n",
    "\n",
    "q1.options['pad_height'] = '{}um'.format(guesses['Sizes (um)'].values[k])\n",
    "q1.options['pad_width'] = '{}um'.format(guesses['Sizes (um)'].values[k])\n",
    "\n",
    "q1.options['pocket_width'] = '{}um'.format(guesses['Sizes (um)'].values[k]+2*gap.to(u.um).value)\n",
    "\n",
    "q1.options['connection_pads']['a']['pad_width'] = guesses['Coupling_len'][k]\n",
    "q1.options['connection_pads']['a']['pad_height'] = '30um-{}um'.format(guesses['Coupling_gap(um)'][k])\n",
    "q1.options['connection_pads']['a']['pad_gap'] = '{}um'.format(guesses['Coupling_gap(um)'][k])\n",
    "\n",
    "d.options['Lj'] = '{}'.format(guesses['Ljs (nH)'][k])\n",
    "\n",
    "q1.options.layer = qubit_layer\n",
    "d.options.layer = junction_layer\n",
    "\n",
    "gui.rebuild()\n",
    "gui.zoom_on_components(['Q1'])\n",
    "    "
   ]
  },
  {
   "cell_type": "code",
   "execution_count": null,
   "metadata": {},
   "outputs": [],
   "source": [
    "q1, d = jj.place_junction(q1,d)\n",
    "gui.rebuild()\n"
   ]
  },
  {
   "cell_type": "code",
   "execution_count": null,
   "metadata": {},
   "outputs": [],
   "source": [
    "dp.TQ_options['down_length'] = '40 um'\n",
    "TQ1 = CoupledLineTee(design, 'TQ1', options=dict(pos_x='-0.1 mm',\n",
    "                                             pos_y='0.5 mm',\n",
    "                                             mirror = True, **dp.TQ_options))\n",
    "TQ1.options['open_termination'] = False\n",
    "\n",
    "gui.rebuild()\n",
    "gui.autoscale()"
   ]
  },
  {
   "cell_type": "code",
   "execution_count": null,
   "metadata": {},
   "outputs": [],
   "source": [
    "180//90"
   ]
  },
  {
   "cell_type": "code",
   "execution_count": null,
   "metadata": {},
   "outputs": [],
   "source": []
  },
  {
   "cell_type": "code",
   "execution_count": null,
   "metadata": {},
   "outputs": [],
   "source": []
  },
  {
   "cell_type": "code",
   "execution_count": null,
   "metadata": {},
   "outputs": [],
   "source": []
  },
  {
   "cell_type": "code",
   "execution_count": null,
   "metadata": {},
   "outputs": [],
   "source": [
    "q1,j, cpw, TQ1, design,gui = dp.construct_cpw_qubit(q1,d, TQ1, 5,gui,design,sim =False)\n",
    "q1, d = jj.place_junction(q1,d)\n",
    "gui.rebuild()\n",
    "gui.autoscale()"
   ]
  },
  {
   "attachments": {},
   "cell_type": "markdown",
   "metadata": {},
   "source": [
    "Construct the cpw airbridge object"
   ]
  },
  {
   "cell_type": "code",
   "execution_count": null,
   "metadata": {},
   "outputs": [],
   "source": []
  },
  {
   "cell_type": "code",
   "execution_count": null,
   "metadata": {},
   "outputs": [],
   "source": [
    "design.delete_component('airbridges')"
   ]
  },
  {
   "cell_type": "code",
   "execution_count": null,
   "metadata": {},
   "outputs": [],
   "source": [
    "ab_options = Dict(cpw_name = 'cpw_1', distance = '100um', dis = '10um', layer_ab_square = str(ab_square_layer), layer_ab = str(ab_layer), total_length = '80 um', chip = 'main', seg_num = '0')"
   ]
  },
  {
   "cell_type": "code",
   "execution_count": null,
   "metadata": {},
   "outputs": [],
   "source": [
    "ab(design, 'airbridges', ab_options)"
   ]
  },
  {
   "cell_type": "code",
   "execution_count": null,
   "metadata": {},
   "outputs": [],
   "source": [
    "gui.rebuild()"
   ]
  },
  {
   "cell_type": "code",
   "execution_count": null,
   "metadata": {},
   "outputs": [],
   "source": [
    "q1.options.layer = qubit_layer\n",
    "cpw.options.layer = qubit_layer\n",
    "TQ1.options.layer = qubit_layer\n",
    "j.options.layer = junction_layer\n",
    "gui.rebuild()\n",
    "gui.autoscale()"
   ]
  },
  {
   "cell_type": "code",
   "execution_count": null,
   "metadata": {},
   "outputs": [],
   "source": [
    "design.chips.main.size['size_x'] = '10mm'\n",
    "design.chips.main.size['size_y'] = '10mm'\n",
    "gui.rebuild()\n",
    "a_gds = design.renderers.gds"
   ]
  },
  {
   "cell_type": "code",
   "execution_count": null,
   "metadata": {},
   "outputs": [],
   "source": [
    "a_gds.options.cheese.edge_nocheese = '300um'\n",
    "a_gds.options.no_cheese.buffer = '50um'"
   ]
  },
  {
   "cell_type": "code",
   "execution_count": null,
   "metadata": {},
   "outputs": [],
   "source": [
    "a_gds.options['cheese']['view_in_file']['main'][qubit_layer] = True\n",
    "a_gds.options['no_cheese']['view_in_file']['main'][qubit_layer] = True\n",
    "a_gds.options['cheese']['view_in_file']['main'][junction_layer] = False\n",
    "a_gds.options['no_cheese']['view_in_file']['main'][junction_layer] = True\n",
    "a_gds.options['cheese']['view_in_file']['main'][ab_layer] = False\n",
    "a_gds.options['no_cheese']['view_in_file']['main'][ab_layer] = True\n",
    "a_gds.options['cheese']['view_in_file']['main'][ab_square_layer] = False\n",
    "a_gds.options['no_cheese']['view_in_file']['main'][ab_square_layer] = True"
   ]
  },
  {
   "cell_type": "code",
   "execution_count": null,
   "metadata": {},
   "outputs": [],
   "source": [
    "a_gds.export_to_gds('export_test.gds')"
   ]
  },
  {
   "cell_type": "code",
   "execution_count": null,
   "metadata": {},
   "outputs": [],
   "source": [
    "a_gds = design.renderers.gds"
   ]
  },
  {
   "cell_type": "code",
   "execution_count": null,
   "metadata": {},
   "outputs": [],
   "source": [
    "a_gds.options.tolerance = '0.00001'\n",
    "a_gds.options.cheese.edge_nocheese = '300um'\n",
    "a_gds.options.no_cheese.buffer = '40um'"
   ]
  },
  {
   "cell_type": "code",
   "execution_count": null,
   "metadata": {},
   "outputs": [],
   "source": [
    "a_gds.options"
   ]
  },
  {
   "cell_type": "code",
   "execution_count": null,
   "metadata": {},
   "outputs": [],
   "source": [
    "a_gds.options['path_filename'] = 'Customized_Component/Fake_Junctions.GDS'"
   ]
  },
  {
   "cell_type": "code",
   "execution_count": null,
   "metadata": {},
   "outputs": [],
   "source": [
    "a_gds.options.no_cheese.buffer = '0um'\n",
    "\n",
    "a_gds.options['cheese']['view_in_file']['main'][5] = False\n",
    "a_gds.options['no_cheese']['view_in_file']['main'][5] = False\n",
    "a_gds.options['ground_plane'] = True"
   ]
  },
  {
   "cell_type": "code",
   "execution_count": null,
   "metadata": {},
   "outputs": [],
   "source": [
    "q1.options.layer = 1\n",
    "d.options.layer = 5\n",
    "gui.rebuild()"
   ]
  },
  {
   "cell_type": "code",
   "execution_count": null,
   "metadata": {},
   "outputs": [],
   "source": [
    "a_gds.options['ground_plane'] = True"
   ]
  },
  {
   "cell_type": "code",
   "execution_count": null,
   "metadata": {},
   "outputs": [],
   "source": [
    "\n",
    "# a_gds.options['short_segments_to_not_fillet'] = True\n",
    "# a_gds.options['check_short_segments_by_scaling_fillet'] = 1.0\n",
    "a_gds.export_to_gds('Dolan.gds')#, highlight_qcomponents=['TQ1'])"
   ]
  },
  {
   "cell_type": "code",
   "execution_count": null,
   "metadata": {},
   "outputs": [],
   "source": [
    "a_gds.options"
   ]
  },
  {
   "cell_type": "code",
   "execution_count": null,
   "metadata": {},
   "outputs": [],
   "source": [
    "design.components.keys()"
   ]
  },
  {
   "cell_type": "code",
   "execution_count": null,
   "metadata": {},
   "outputs": [],
   "source": [
    "d = {}\n"
   ]
  },
  {
   "cell_type": "code",
   "execution_count": null,
   "metadata": {},
   "outputs": [],
   "source": [
    "base = 822.76\n",
    "dose = 0.8\n",
    "for j in range(5):\n",
    "    d['Column' + str(j+1)] = []\n",
    "    dose = 0.8 + j*0.1\n",
    "    for i in range(10):\n",
    "        dose1 = dose + 0.01*i\n",
    "        d['Column' + str(j+1)].append(base*round(dose1,2))\n",
    "    \n",
    "    \n"
   ]
  },
  {
   "cell_type": "code",
   "execution_count": null,
   "metadata": {},
   "outputs": [],
   "source": [
    "matrix = pd.DataFrame(d)"
   ]
  },
  {
   "cell_type": "code",
   "execution_count": null,
   "metadata": {},
   "outputs": [],
   "source": [
    "matrix.index += 1"
   ]
  },
  {
   "cell_type": "code",
   "execution_count": null,
   "metadata": {},
   "outputs": [],
   "source": [
    "matrix"
   ]
  },
  {
   "cell_type": "code",
   "execution_count": null,
   "metadata": {},
   "outputs": [],
   "source": []
  }
 ],
 "metadata": {
  "kernelspec": {
   "display_name": "qiskit",
   "language": "python",
   "name": "python3"
  },
  "language_info": {
   "codemirror_mode": {
    "name": "ipython",
    "version": 3
   },
   "file_extension": ".py",
   "mimetype": "text/x-python",
   "name": "python",
   "nbconvert_exporter": "python",
   "pygments_lexer": "ipython3",
   "version": "3.11.0"
  },
  "orig_nbformat": 4
 },
 "nbformat": 4,
 "nbformat_minor": 2
}
