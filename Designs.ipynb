{
 "cells": [
  {
   "attachments": {},
   "cell_type": "markdown",
   "metadata": {},
   "source": [
    "Start!"
   ]
  },
  {
   "cell_type": "code",
   "execution_count": null,
   "metadata": {},
   "outputs": [],
   "source": [
    "%reload_ext autoreload\n",
    "%autoreload 2"
   ]
  },
  {
   "cell_type": "code",
   "execution_count": null,
   "metadata": {},
   "outputs": [],
   "source": [
    "import os\n",
    "import shutil\n",
    "import time"
   ]
  },
  {
   "cell_type": "code",
   "execution_count": null,
   "metadata": {},
   "outputs": [],
   "source": [
    "import astropy.units as u\n",
    "import numpy as np\n",
    "import pandas as pd\n",
    "import astropy.constants as c"
   ]
  },
  {
   "cell_type": "code",
   "execution_count": null,
   "metadata": {},
   "outputs": [],
   "source": [
    "#This imports the necessary path to draw the single pad transmon design. \n",
    "import sys\n",
    "sys.path.append('Customized_Components')\n",
    "from rounded_single_pad import Round_TransmonPocket_Single as transmon\n",
    "import Transmon_property as trans_p\n",
    "import Transmon_specifications as jj\n",
    "from dolan_junction import DolanJunction as junction\n",
    "import Default_params as dp\n",
    "from pocket import TransmonPocket as pocket\n"
   ]
  },
  {
   "cell_type": "code",
   "execution_count": null,
   "metadata": {},
   "outputs": [],
   "source": [
    "from qiskit_metal.qlibrary.terminations.launchpad_wb import LaunchpadWirebond\n",
    "from qiskit_metal import MetalGUI, Dict\n",
    "from qiskit_metal.qlibrary.couplers.coupled_line_tee import CoupledLineTee"
   ]
  },
  {
   "cell_type": "code",
   "execution_count": null,
   "metadata": {},
   "outputs": [],
   "source": [
    "gui = MetalGUI(dp.design)\n",
    "design = dp.design"
   ]
  },
  {
   "attachments": {},
   "cell_type": "markdown",
   "metadata": {},
   "source": [
    "## Wirebonds"
   ]
  },
  {
   "cell_type": "code",
   "execution_count": null,
   "metadata": {},
   "outputs": [],
   "source": [
    "design.delete_all_components()"
   ]
  },
  {
   "cell_type": "code",
   "execution_count": null,
   "metadata": {},
   "outputs": [],
   "source": [
    "top_leftx = -5\n",
    "top_lefty = 5\n",
    "left_wb_xs = [1.6, 0.5-0.3]\n",
    "left_wb_ys = [5-0.5+0.3]\n",
    "left_wb_ys.append(5-1.6)\n",
    "for i in range(8):\n",
    "    new_y = left_wb_ys[-1]-0.85\n",
    "    new_x = 0.5-0.3\n",
    "    left_wb_xs.append(new_x)\n",
    "    left_wb_ys.append(new_y)\n",
    "# left_wb_ys.append(-5)\n",
    "\n",
    "left_wb_xs = np.array(left_wb_xs)+top_leftx\n",
    "left_wb_ys = np.array(left_wb_ys)\n",
    "\n",
    "orientations_left = [270,0,0,0,0,0,0,0,0,0]"
   ]
  },
  {
   "cell_type": "code",
   "execution_count": null,
   "metadata": {},
   "outputs": [],
   "source": [
    "top_rightx = 5\n",
    "top_righty = 5\n",
    "right_wb_xs = [5-1.6,4.5+0.3]\n",
    "right_wb_ys = [5-0.5+0.3]\n",
    "right_wb_ys.append(5-1.6)\n",
    "for i in range(8):\n",
    "    new_y = right_wb_ys[-1]-0.85\n",
    "    right_wb_ys.append(new_y)\n",
    "    new_x = 5-0.5+0.3\n",
    "    right_wb_xs.append(new_x)\n",
    "right_wb_ys = np.array(right_wb_ys)\n",
    "\n",
    "orientations_right = [270,180,180,180,180,180,180,180,180,180]"
   ]
  },
  {
   "cell_type": "code",
   "execution_count": null,
   "metadata": {},
   "outputs": [],
   "source": [
    "Wirebond_left_opt = Dict(trace_width=design.variables['trace_width'],\n",
    "                           trace_gap=design.variables['trace_gap'],\n",
    "                           lead_length='8um',\n",
    "                           pad_width='200um',\n",
    "                           pad_height='100um',\n",
    "                           pad_gap='50um',\n",
    "                           taper_height='50um')\n",
    "                           \n",
    "# Wirebond_left_opt = Dict(trace_width=design.variables['trace_width'],\n",
    "#                            trace_gap=design.variables['trace_gap'],\n",
    "#                            lead_length='25um',\n",
    "#                            pad_width='150um',\n",
    "#                            pad_height='200um',\n",
    "#                            pad_gap='130um',\n",
    "#                            taper_height='150um')"
   ]
  },
  {
   "attachments": {},
   "cell_type": "markdown",
   "metadata": {},
   "source": [
    "Place the wirebonds"
   ]
  },
  {
   "cell_type": "code",
   "execution_count": null,
   "metadata": {},
   "outputs": [],
   "source": [
    "left_lauch_pads = []\n",
    "for i in range(10):\n",
    "    left_lauch_pads.append(LaunchpadWirebond(design,'wb_left'+str(i), options = Dict(pos_x = '{}mm'.format(left_wb_xs[i]),pos_y = '{}mm'.format(left_wb_ys[i]),orientation = orientations_left[i],**Wirebond_left_opt)))\n",
    "    gui.rebuild()\n",
    "    gui.autoscale()\n",
    "    time.sleep(0.1)"
   ]
  },
  {
   "cell_type": "code",
   "execution_count": null,
   "metadata": {},
   "outputs": [],
   "source": [
    "right_lauch_pads = []\n",
    "for i in range(10):\n",
    "    right_lauch_pads.append(LaunchpadWirebond(design,'wb_right'+str(i), options = Dict(pos_x = '{}mm'.format(right_wb_xs[i]),pos_y = '{}mm'.format(right_wb_ys[i]),orientation = orientations_right[i],**Wirebond_left_opt)))\n",
    "    gui.rebuild()\n",
    "    gui.autoscale()\n",
    "    time.sleep(0.1)"
   ]
  },
  {
   "cell_type": "code",
   "execution_count": null,
   "metadata": {},
   "outputs": [],
   "source": [
    "gui.rebuild()"
   ]
  },
  {
   "attachments": {},
   "cell_type": "markdown",
   "metadata": {},
   "source": [
    "## Qubit pockets"
   ]
  },
  {
   "cell_type": "code",
   "execution_count": null,
   "metadata": {},
   "outputs": [],
   "source": [
    "from pocket import TransmonPocket as pocket"
   ]
  },
  {
   "cell_type": "code",
   "execution_count": null,
   "metadata": {},
   "outputs": [],
   "source": [
    "pocket_options = dict(\n",
    "        pos_x = '0mm', \n",
    "        pos_y = '0mm', \n",
    "        orientation = '0',\n",
    "        frequency = 5.2,\n",
    "        guess_path = r'/Users/wendy/Desktop/Wendy-qiskit-code/data/educated_guess_0403.csv',\n",
    "        coupling_path = '',\n",
    "        sim = True,\n",
    "        coord = '(0,0)',\n",
    "        qubit_layer = 5,\n",
    "        junction_layer = 2, \n",
    "        ab_layer = 8,\n",
    "        ab_square_layer = 9,\n",
    "        ab_distance = '70um',\n",
    "        rotation = 90\n",
    "        )"
   ]
  },
  {
   "cell_type": "code",
   "execution_count": null,
   "metadata": {},
   "outputs": [],
   "source": [
    "qubit_y1 = ['3.96mm','3.86mm','2.910000mm','1.960000mm','1.010000mm',\n",
    "            '0.060000mm','-0.890000mm','-1.840000mm','-2.790000mm','-3.740000mm']"
   ]
  },
  {
   "attachments": {},
   "cell_type": "markdown",
   "metadata": {},
   "source": [
    "First row numbers"
   ]
  },
  {
   "cell_type": "code",
   "execution_count": null,
   "metadata": {},
   "outputs": [],
   "source": [
    "qubit_x0 = ['-3.9mm', '-3.1mm', '-2.2mm', \n",
    "            '-1.3mm', '-0.4mm', '0.5mm',\n",
    "            '1.4mm', '2.3mm','3.2mm', '4.05mm']\n",
    "qubit_y0 = ['4.5mm'] + ['3.96mm']*8 + ['4.2mm']\n",
    "qubit_angles0 = [90,180,180,180,180,180,180,180,180,270]"
   ]
  },
  {
   "attachments": {},
   "cell_type": "markdown",
   "metadata": {},
   "source": [
    "### First row"
   ]
  },
  {
   "attachments": {},
   "cell_type": "markdown",
   "metadata": {},
   "source": [
    "qubits and qubit-qubit connections"
   ]
  },
  {
   "cell_type": "code",
   "execution_count": null,
   "metadata": {},
   "outputs": [],
   "source": [
    "pockets = []#p1, p2]\n",
    "for i in range(10):\n",
    "    j = i\n",
    "    pocket_options['pos_x'] = qubit_x0[j]\n",
    "    pocket_options['pos_y'] = qubit_y0[j]\n",
    "    pocket_options['coord'] = '({},0)'.format(j)\n",
    "    pocket_options['rotation'] = qubit_angles0[j]\n",
    "    p = pocket(gui, design,options = pocket_options)\n",
    "    pockets.append(p)\n",
    "    if i ==0:\n",
    "        pass\n",
    "    else:\n",
    "        pockets[i].connect(pockets[i-1])\n",
    "        # p.connect(pockets[-1])\n"
   ]
  },
  {
   "attachments": {},
   "cell_type": "markdown",
   "metadata": {},
   "source": [
    "Connecting the ends"
   ]
  },
  {
   "cell_type": "code",
   "execution_count": null,
   "metadata": {},
   "outputs": [],
   "source": [
    "pockets[-1].connect(right_lauch_pads[0])\n",
    "pockets[0].connect(left_lauch_pads[0])"
   ]
  },
  {
   "attachments": {},
   "cell_type": "markdown",
   "metadata": {},
   "source": [
    "### Rows 2-10"
   ]
  },
  {
   "cell_type": "code",
   "execution_count": null,
   "metadata": {},
   "outputs": [],
   "source": [
    "xs = ['-4.3mm', '-3.35mm', '-2.4mm', '-1.45mm', '-0.5mm', '0.45mm', '1.4mm', '2.35mm', '3.3mm', '4.25mm']"
   ]
  },
  {
   "cell_type": "code",
   "execution_count": 32,
   "metadata": {},
   "outputs": [
    {
     "name": "stdout",
     "output_type": "stream",
     "text": [
      "{'pos_x': '1.4mm', 'pos_y': '0.060000mm', 'orientation': '0', 'frequency': 5.2, 'guess_path': '/Users/wendy/Desktop/Wendy-qiskit-code/data/educated_guess_0403.csv', 'coupling_path': '', 'sim': True, 'coord': '(6,5)', 'qubit_layer': 5, 'junction_layer': 2, 'ab_layer': 8, 'ab_square_layer': 9, 'ab_distance': '70um', 'rotation': 0}\n",
      "1.4 -0.4\n",
      "1.4 -0.5375000000000001\n"
     ]
    },
    {
     "name": "stderr",
     "output_type": "stream",
     "text": [
      "09:04AM 53s INFO [delete_component]: Called delete_component cpw_(6,5), but such a component is not in the design cache dictionary of components.\n"
     ]
    },
    {
     "name": "stdout",
     "output_type": "stream",
     "text": [
      "{'points': [array([ 1.8087 , -0.01138]), array([ 1.7963 , -0.01138])], 'middle': array([ 1.8025 , -0.01138]), 'normal': array([ 0., -1.]), 'tangent': array([ 1., -0.]), 'width': 0.0124, 'gap': 0.00744, 'chip': 'main', 'parent_name': 465, 'net_id': 0, 'length': 0} pin\n",
      "{'start_pin': {'component': 'TQ(6,5)', 'pin': 'prime_start'}, 'end_pin': {'component': 'TQ(5,5)', 'pin': 'prime_end'}}\n",
      "o {'anchors': {0: (1.2675, 0.06)}, 'trace_width': '12.4 um', 'trace_gap': '6.99 um', 'lead': {'start_straight': '5um', 'end_straight': '30um'}, 'fillet': '20um', 'total_length': '0.5mm', 'hfss_wire_bonds': True, 'q3d_wirebonds': True, 'pin_inputs': {'start_pin': {'component': 'TQ(6,5)', 'pin': 'prime_start'}, 'end_pin': {'component': 'TQ(5,5)', 'pin': 'prime_end'}}}\n",
      "{'pos_x': '2.35mm', 'pos_y': '0.060000mm', 'orientation': '0', 'frequency': 5.2, 'guess_path': '/Users/wendy/Desktop/Wendy-qiskit-code/data/educated_guess_0403.csv', 'coupling_path': '', 'sim': True, 'coord': '(7,5)', 'qubit_layer': 5, 'junction_layer': 2, 'ab_layer': 8, 'ab_square_layer': 9, 'ab_distance': '70um', 'rotation': 0}\n",
      "2.35 -0.4\n",
      "2.35 -0.5375000000000001\n"
     ]
    },
    {
     "name": "stderr",
     "output_type": "stream",
     "text": [
      "09:26AM 31s INFO [delete_component]: Called delete_component cpw_(7,5), but such a component is not in the design cache dictionary of components.\n"
     ]
    },
    {
     "name": "stdout",
     "output_type": "stream",
     "text": [
      "{'points': [array([ 2.7587 , -0.01138]), array([ 2.7463 , -0.01138])], 'middle': array([ 2.7525 , -0.01138]), 'normal': array([ 0., -1.]), 'tangent': array([ 1., -0.]), 'width': 0.0124, 'gap': 0.00744, 'chip': 'main', 'parent_name': 472, 'net_id': 0, 'length': 0} pin\n",
      "{'start_pin': {'component': 'TQ(7,5)', 'pin': 'prime_start'}, 'end_pin': {'component': 'TQ(6,5)', 'pin': 'prime_end'}}\n",
      "o {'anchors': {0: (2.2175, 0.06)}, 'trace_width': '12.4 um', 'trace_gap': '6.99 um', 'lead': {'start_straight': '5um', 'end_straight': '30um'}, 'fillet': '20um', 'total_length': '0.5mm', 'hfss_wire_bonds': True, 'q3d_wirebonds': True, 'pin_inputs': {'start_pin': {'component': 'TQ(7,5)', 'pin': 'prime_start'}, 'end_pin': {'component': 'TQ(6,5)', 'pin': 'prime_end'}}}\n",
      "{'pos_x': '3.3mm', 'pos_y': '0.060000mm', 'orientation': '0', 'frequency': 5.2, 'guess_path': '/Users/wendy/Desktop/Wendy-qiskit-code/data/educated_guess_0403.csv', 'coupling_path': '', 'sim': True, 'coord': '(8,5)', 'qubit_layer': 5, 'junction_layer': 2, 'ab_layer': 8, 'ab_square_layer': 9, 'ab_distance': '70um', 'rotation': 0}\n",
      "3.3 -0.4\n",
      "3.3 -0.5375000000000001\n"
     ]
    },
    {
     "name": "stderr",
     "output_type": "stream",
     "text": [
      "09:48AM 50s INFO [delete_component]: Called delete_component cpw_(8,5), but such a component is not in the design cache dictionary of components.\n"
     ]
    },
    {
     "name": "stdout",
     "output_type": "stream",
     "text": [
      "{'points': [array([ 3.7087 , -0.01138]), array([ 3.6963 , -0.01138])], 'middle': array([ 3.7025 , -0.01138]), 'normal': array([ 0., -1.]), 'tangent': array([ 1., -0.]), 'width': 0.0124, 'gap': 0.00744, 'chip': 'main', 'parent_name': 479, 'net_id': 0, 'length': 0} pin\n",
      "{'start_pin': {'component': 'TQ(8,5)', 'pin': 'prime_start'}, 'end_pin': {'component': 'TQ(7,5)', 'pin': 'prime_end'}}\n",
      "o {'anchors': {0: (3.1675, 0.06)}, 'trace_width': '12.4 um', 'trace_gap': '6.99 um', 'lead': {'start_straight': '5um', 'end_straight': '30um'}, 'fillet': '20um', 'total_length': '0.5mm', 'hfss_wire_bonds': True, 'q3d_wirebonds': True, 'pin_inputs': {'start_pin': {'component': 'TQ(8,5)', 'pin': 'prime_start'}, 'end_pin': {'component': 'TQ(7,5)', 'pin': 'prime_end'}}}\n",
      "{'pos_x': '4.25mm', 'pos_y': '0.060000mm', 'orientation': '0', 'frequency': 5.2, 'guess_path': '/Users/wendy/Desktop/Wendy-qiskit-code/data/educated_guess_0403.csv', 'coupling_path': '', 'sim': True, 'coord': '(9,5)', 'qubit_layer': 5, 'junction_layer': 2, 'ab_layer': 8, 'ab_square_layer': 9, 'ab_distance': '70um', 'rotation': 0}\n",
      "4.25 -0.4\n",
      "4.25 -0.5375000000000001\n"
     ]
    },
    {
     "name": "stderr",
     "output_type": "stream",
     "text": [
      "10:11AM 51s INFO [delete_component]: Called delete_component cpw_(9,5), but such a component is not in the design cache dictionary of components.\n"
     ]
    },
    {
     "name": "stdout",
     "output_type": "stream",
     "text": [
      "{'points': [array([ 4.6587 , -0.01138]), array([ 4.6463 , -0.01138])], 'middle': array([ 4.6525 , -0.01138]), 'normal': array([ 0., -1.]), 'tangent': array([ 1., -0.]), 'width': 0.0124, 'gap': 0.00744, 'chip': 'main', 'parent_name': 486, 'net_id': 0, 'length': 0} pin\n",
      "{'start_pin': {'component': 'TQ(9,5)', 'pin': 'prime_start'}, 'end_pin': {'component': 'TQ(8,5)', 'pin': 'prime_end'}}\n",
      "o {'anchors': {0: (4.1175, 0.06)}, 'trace_width': '12.4 um', 'trace_gap': '6.99 um', 'lead': {'start_straight': '5um', 'end_straight': '30um'}, 'fillet': '20um', 'total_length': '0.5mm', 'hfss_wire_bonds': True, 'q3d_wirebonds': True, 'pin_inputs': {'start_pin': {'component': 'TQ(9,5)', 'pin': 'prime_start'}, 'end_pin': {'component': 'TQ(8,5)', 'pin': 'prime_end'}}}\n",
      "1\n",
      "{'start_pin': {'component': 'TQ(9,5)', 'pin': 'prime_end'}, 'end_pin': {'component': 'wb_right5', 'pin': 'tie'}}\n",
      "o {'anchors': {0: (4.75, 0.06)}, 'trace_width': '12.4 um', 'trace_gap': '6.99 um', 'lead': {'start_straight': '5um', 'end_straight': '30um'}, 'fillet': '20um', 'total_length': '0.5mm', 'hfss_wire_bonds': True, 'q3d_wirebonds': True, 'pin_inputs': {'start_pin': {'component': 'TQ(9,5)', 'pin': 'prime_end'}, 'end_pin': {'component': 'wb_right5', 'pin': 'tie'}}}\n",
      "{'pos_x': '-4.3mm', 'pos_y': '-0.890000mm', 'orientation': '0', 'frequency': 5.2, 'guess_path': '/Users/wendy/Desktop/Wendy-qiskit-code/data/educated_guess_0403.csv', 'coupling_path': '', 'sim': True, 'coord': '(0,6)', 'qubit_layer': 5, 'junction_layer': 2, 'ab_layer': 8, 'ab_square_layer': 9, 'ab_distance': '70um', 'rotation': 0}\n",
      "-4.3 -1.35\n",
      "-4.3 -1.4875\n"
     ]
    },
    {
     "name": "stderr",
     "output_type": "stream",
     "text": [
      "10:42AM 33s INFO [delete_component]: Called delete_component cpw_(0,6), but such a component is not in the design cache dictionary of components.\n"
     ]
    },
    {
     "name": "stdout",
     "output_type": "stream",
     "text": [
      "{'points': [array([-3.8913 , -0.96138]), array([-3.9037 , -0.96138])], 'middle': array([-3.8975 , -0.96138]), 'normal': array([ 0., -1.]), 'tangent': array([ 1., -0.]), 'width': 0.0124, 'gap': 0.00744, 'chip': 'main', 'parent_name': 495, 'net_id': 0, 'length': 0} pin\n"
     ]
    },
    {
     "ename": "KeyboardInterrupt",
     "evalue": "",
     "output_type": "error",
     "traceback": [
      "\u001b[0;31m---------------------------------------------------------------------------\u001b[0m",
      "\u001b[0;31mKeyboardInterrupt\u001b[0m                         Traceback (most recent call last)",
      "Cell \u001b[0;32mIn[32], line 9\u001b[0m\n\u001b[1;32m      7\u001b[0m pocket_options[\u001b[39m'\u001b[39m\u001b[39mcoord\u001b[39m\u001b[39m'\u001b[39m] \u001b[39m=\u001b[39m \u001b[39m'\u001b[39m\u001b[39m(\u001b[39m\u001b[39m{}\u001b[39;00m\u001b[39m,\u001b[39m\u001b[39m{}\u001b[39;00m\u001b[39m)\u001b[39m\u001b[39m'\u001b[39m\u001b[39m.\u001b[39mformat(j,i)\n\u001b[1;32m      8\u001b[0m pocket_options[\u001b[39m'\u001b[39m\u001b[39mrotation\u001b[39m\u001b[39m'\u001b[39m] \u001b[39m=\u001b[39m \u001b[39m0\u001b[39m \u001b[39m#qubit_angles0[j]\u001b[39;00m\n\u001b[0;32m----> 9\u001b[0m p \u001b[39m=\u001b[39m pocket(gui, design,options \u001b[39m=\u001b[39;49m pocket_options)\n\u001b[1;32m     10\u001b[0m poc\u001b[39m.\u001b[39mappend(p)\n\u001b[1;32m     11\u001b[0m \u001b[39mif\u001b[39;00m j \u001b[39m==\u001b[39m\u001b[39m0\u001b[39m:\n",
      "File \u001b[0;32m~/Desktop/Wendy-qiskit-code/Customized_Components/pocket.py:50\u001b[0m, in \u001b[0;36mTransmonPocket.__init__\u001b[0;34m(self, gui, design, eig_all, sim, options)\u001b[0m\n\u001b[1;32m     48\u001b[0m \u001b[39mself\u001b[39m\u001b[39m.\u001b[39meig_all \u001b[39m=\u001b[39m eig_all\n\u001b[1;32m     49\u001b[0m \u001b[39mself\u001b[39m\u001b[39m.\u001b[39msim \u001b[39m=\u001b[39m sim\n\u001b[0;32m---> 50\u001b[0m \u001b[39mself\u001b[39;49m\u001b[39m.\u001b[39;49mmake_qubit_from_scratch()\u001b[39m#design, gui, eig_all, sim)\u001b[39;00m\n\u001b[1;32m     51\u001b[0m \u001b[39mself\u001b[39m\u001b[39m.\u001b[39mconnection_cpws \u001b[39m=\u001b[39m []\n\u001b[1;32m     52\u001b[0m \u001b[39mself\u001b[39m\u001b[39m.\u001b[39mconnection_ab \u001b[39m=\u001b[39m []\n",
      "File \u001b[0;32m~/Desktop/Wendy-qiskit-code/Customized_Components/pocket.py:228\u001b[0m, in \u001b[0;36mTransmonPocket.make_qubit_from_scratch\u001b[0;34m(self)\u001b[0m\n\u001b[1;32m    226\u001b[0m     \u001b[39mpass\u001b[39;00m\n\u001b[1;32m    227\u001b[0m \u001b[39melse\u001b[39;00m:\n\u001b[0;32m--> 228\u001b[0m     gui\u001b[39m.\u001b[39;49mrebuild()\n\u001b[1;32m    229\u001b[0m     \u001b[39mself\u001b[39m\u001b[39m.\u001b[39mresonator \u001b[39m=\u001b[39m cpw\n\u001b[1;32m    231\u001b[0m     ab_options \u001b[39m=\u001b[39m Dict(cpw_name \u001b[39m=\u001b[39m cpw\u001b[39m.\u001b[39mname, distance \u001b[39m=\u001b[39m p[\u001b[39m'\u001b[39m\u001b[39mab_distance\u001b[39m\u001b[39m'\u001b[39m], dis \u001b[39m=\u001b[39m \u001b[39m'\u001b[39m\u001b[39m50um\u001b[39m\u001b[39m'\u001b[39m, layer_ab_square \u001b[39m=\u001b[39m \u001b[39mstr\u001b[39m(p[\u001b[39m'\u001b[39m\u001b[39mab_square_layer\u001b[39m\u001b[39m'\u001b[39m]), layer_ab \u001b[39m=\u001b[39m \u001b[39mstr\u001b[39m(p[\u001b[39m'\u001b[39m\u001b[39mab_layer\u001b[39m\u001b[39m'\u001b[39m]), total_length \u001b[39m=\u001b[39m \u001b[39m'\u001b[39m\u001b[39m80 um\u001b[39m\u001b[39m'\u001b[39m, chip \u001b[39m=\u001b[39m \u001b[39m'\u001b[39m\u001b[39mmain\u001b[39m\u001b[39m'\u001b[39m, seg_num \u001b[39m=\u001b[39m \u001b[39m'\u001b[39m\u001b[39m0\u001b[39m\u001b[39m'\u001b[39m)\n",
      "File \u001b[0;32m~/_Lib/qiskit-metal/qiskit_metal/_gui/main_window.py:725\u001b[0m, in \u001b[0;36mMetalGUI.rebuild\u001b[0;34m(self, autoscale)\u001b[0m\n\u001b[1;32m    720\u001b[0m \u001b[39mdef\u001b[39;00m \u001b[39mrebuild\u001b[39m(\u001b[39mself\u001b[39m, autoscale: \u001b[39mbool\u001b[39m \u001b[39m=\u001b[39m \u001b[39mFalse\u001b[39;00m):\n\u001b[1;32m    721\u001b[0m \u001b[39m    \u001b[39m\u001b[39m\"\"\"\u001b[39;00m\n\u001b[1;32m    722\u001b[0m \u001b[39m    Rebuild all components in the design from scratch and refresh the gui.\u001b[39;00m\n\u001b[1;32m    723\u001b[0m \u001b[39m    \"\"\"\u001b[39;00m\n\u001b[0;32m--> 725\u001b[0m     \u001b[39mself\u001b[39;49m\u001b[39m.\u001b[39;49mdesign\u001b[39m.\u001b[39;49mrebuild()\n\u001b[1;32m    726\u001b[0m     \u001b[39mself\u001b[39m\u001b[39m.\u001b[39mrefresh()\n\u001b[1;32m    727\u001b[0m     \u001b[39mif\u001b[39;00m autoscale:\n",
      "File \u001b[0;32m~/_Lib/qiskit-metal/qiskit_metal/designs/design_base.py:469\u001b[0m, in \u001b[0;36mQDesign.rebuild\u001b[0;34m(self)\u001b[0m\n\u001b[1;32m    467\u001b[0m \u001b[39m\u001b[39m\u001b[39m\"\"\"Remakes all components with their current parameters.\"\"\"\u001b[39;00m\n\u001b[1;32m    468\u001b[0m \u001b[39mfor\u001b[39;00m _, obj \u001b[39min\u001b[39;00m \u001b[39mself\u001b[39m\u001b[39m.\u001b[39m_components\u001b[39m.\u001b[39mitems():  \u001b[39m# pylint: disable=unused-variable\u001b[39;00m\n\u001b[0;32m--> 469\u001b[0m     obj\u001b[39m.\u001b[39;49mrebuild()\n",
      "File \u001b[0;32m~/_Lib/qiskit-metal/qiskit_metal/qlibrary/core/base.py:710\u001b[0m, in \u001b[0;36mQComponent.rebuild\u001b[0;34m(self)\u001b[0m\n\u001b[1;32m    707\u001b[0m     \u001b[39m# pylint: disable=protected-access\u001b[39;00m\n\u001b[1;32m    708\u001b[0m     \u001b[39mself\u001b[39m\u001b[39m.\u001b[39mdesign\u001b[39m.\u001b[39m_delete_all_pins_for_component(\u001b[39mself\u001b[39m\u001b[39m.\u001b[39mid)\n\u001b[0;32m--> 710\u001b[0m \u001b[39mself\u001b[39;49m\u001b[39m.\u001b[39;49mmake()\n\u001b[1;32m    711\u001b[0m \u001b[39mself\u001b[39m\u001b[39m.\u001b[39m_made \u001b[39m=\u001b[39m \u001b[39mTrue\u001b[39;00m\n\u001b[1;32m    712\u001b[0m \u001b[39mself\u001b[39m\u001b[39m.\u001b[39mstatus \u001b[39m=\u001b[39m \u001b[39m'\u001b[39m\u001b[39mgood\u001b[39m\u001b[39m'\u001b[39m\n",
      "File \u001b[0;32m~/_Lib/qiskit-metal/qiskit_metal/qlibrary/tlines/mixed_path.py:136\u001b[0m, in \u001b[0;36mRouteMixed.make\u001b[0;34m(self)\u001b[0m\n\u001b[1;32m    134\u001b[0m     meanders\u001b[39m.\u001b[39madd(arc_num)\n\u001b[1;32m    135\u001b[0m \u001b[39m# compute points connecting the anchors, all but the last\u001b[39;00m\n\u001b[0;32m--> 136\u001b[0m arc_pts \u001b[39m=\u001b[39m connect_method(\u001b[39mself\u001b[39;49m\u001b[39m.\u001b[39;49mget_tip(), QRoutePoint(coord))\n\u001b[1;32m    137\u001b[0m \u001b[39mif\u001b[39;00m arc_pts \u001b[39mis\u001b[39;00m \u001b[39mNone\u001b[39;00m:\n\u001b[1;32m    138\u001b[0m     \u001b[39mself\u001b[39m\u001b[39m.\u001b[39mintermediate_pts[arc_num] \u001b[39m=\u001b[39m [coord]\n",
      "File \u001b[0;32m~/_Lib/qiskit-metal/qiskit_metal/qlibrary/tlines/anchored_path.py:259\u001b[0m, in \u001b[0;36mRouteAnchors.connect_simple\u001b[0;34m(self, start_pt, end_pt)\u001b[0m\n\u001b[1;32m    253\u001b[0m corner2 \u001b[39m=\u001b[39m np\u001b[39m.\u001b[39marray([end[\u001b[39m0\u001b[39m],\n\u001b[1;32m    254\u001b[0m                     start[\u001b[39m1\u001b[39m]])  \u001b[39m# x coordinate matches with end\u001b[39;00m\n\u001b[1;32m    255\u001b[0m \u001b[39mif\u001b[39;00m avoid_collision:\n\u001b[1;32m    256\u001b[0m     \u001b[39m# Check for collisions at the outset to avoid repeat work\u001b[39;00m\n\u001b[1;32m    257\u001b[0m     startc1end \u001b[39m=\u001b[39m \u001b[39mbool\u001b[39m(\n\u001b[1;32m    258\u001b[0m         \u001b[39mself\u001b[39m\u001b[39m.\u001b[39munobstructed([start, corner1]) \u001b[39mand\u001b[39;00m\n\u001b[0;32m--> 259\u001b[0m         \u001b[39mself\u001b[39;49m\u001b[39m.\u001b[39;49munobstructed([corner1, end]))\n\u001b[1;32m    260\u001b[0m     startc2end \u001b[39m=\u001b[39m \u001b[39mbool\u001b[39m(\n\u001b[1;32m    261\u001b[0m         \u001b[39mself\u001b[39m\u001b[39m.\u001b[39munobstructed([start, corner2]) \u001b[39mand\u001b[39;00m\n\u001b[1;32m    262\u001b[0m         \u001b[39mself\u001b[39m\u001b[39m.\u001b[39munobstructed([corner2, end]))\n\u001b[1;32m    263\u001b[0m \u001b[39melse\u001b[39;00m:\n",
      "File \u001b[0;32m~/_Lib/qiskit-metal/qiskit_metal/qlibrary/tlines/anchored_path.py:193\u001b[0m, in \u001b[0;36mRouteAnchors.unobstructed\u001b[0;34m(self, segment)\u001b[0m\n\u001b[1;32m    190\u001b[0m \u001b[39melif\u001b[39;00m \u001b[39m'\u001b[39m\u001b[39mair\u001b[39m\u001b[39m'\u001b[39m \u001b[39min\u001b[39;00m component:\n\u001b[1;32m    191\u001b[0m     \u001b[39mcontinue\u001b[39;00m\n\u001b[1;32m    192\u001b[0m xmin, ymin, xmax, ymax \u001b[39m=\u001b[39m \u001b[39mself\u001b[39;49m\u001b[39m.\u001b[39;49mdesign\u001b[39m.\u001b[39;49mcomponents[\n\u001b[0;32m--> 193\u001b[0m     component]\u001b[39m.\u001b[39;49mqgeometry_bounds()\n\u001b[1;32m    194\u001b[0m \u001b[39m# p, q, r, s are corner coordinates of each bounding box\u001b[39;00m\n\u001b[1;32m    195\u001b[0m p, q, r, s \u001b[39m=\u001b[39m [\n\u001b[1;32m    196\u001b[0m     np\u001b[39m.\u001b[39marray([xmin, ymin]),\n\u001b[1;32m    197\u001b[0m     np\u001b[39m.\u001b[39marray([xmin, ymax]),\n\u001b[1;32m    198\u001b[0m     np\u001b[39m.\u001b[39marray([xmax, ymin]),\n\u001b[1;32m    199\u001b[0m     np\u001b[39m.\u001b[39marray([xmax, ymax])\n\u001b[1;32m    200\u001b[0m ]\n",
      "File \u001b[0;32m~/_Lib/qiskit-metal/qiskit_metal/qlibrary/core/base.py:1292\u001b[0m, in \u001b[0;36mQComponent.qgeometry_bounds\u001b[0;34m(self)\u001b[0m\n\u001b[1;32m   1282\u001b[0m \u001b[39mdef\u001b[39;00m \u001b[39mqgeometry_bounds\u001b[39m(\u001b[39mself\u001b[39m) \u001b[39m-\u001b[39m\u001b[39m>\u001b[39m Tuple:\n\u001b[1;32m   1283\u001b[0m \u001b[39m    \u001b[39m\u001b[39m\"\"\"Fetched the component bound dict_value.\u001b[39;00m\n\u001b[1;32m   1284\u001b[0m \n\u001b[1;32m   1285\u001b[0m \u001b[39m    Returns:\u001b[39;00m\n\u001b[0;32m   (...)\u001b[0m\n\u001b[1;32m   1290\u001b[0m \u001b[39m        design.qgeometry.get_component_bounds\u001b[39;00m\n\u001b[1;32m   1291\u001b[0m \u001b[39m    \"\"\"\u001b[39;00m\n\u001b[0;32m-> 1292\u001b[0m     bounds \u001b[39m=\u001b[39m \u001b[39mself\u001b[39;49m\u001b[39m.\u001b[39;49mdesign\u001b[39m.\u001b[39;49mqgeometry\u001b[39m.\u001b[39;49mget_component_bounds(\u001b[39mself\u001b[39;49m\u001b[39m.\u001b[39;49mname)\n\u001b[1;32m   1293\u001b[0m     \u001b[39mreturn\u001b[39;00m bounds\n",
      "File \u001b[0;32m~/_Lib/qiskit-metal/qiskit_metal/qgeometries/qgeometries_handler.py:658\u001b[0m, in \u001b[0;36mQGeometryTables.get_component_bounds\u001b[0;34m(self, name)\u001b[0m\n\u001b[1;32m    647\u001b[0m \u001b[39mdef\u001b[39;00m \u001b[39mget_component_bounds\u001b[39m(\u001b[39mself\u001b[39m,\n\u001b[1;32m    648\u001b[0m                          name: \u001b[39mstr\u001b[39m) \u001b[39m-\u001b[39m\u001b[39m>\u001b[39m Tuple[\u001b[39mfloat\u001b[39m, \u001b[39mfloat\u001b[39m, \u001b[39mfloat\u001b[39m, \u001b[39mfloat\u001b[39m]:\n\u001b[1;32m    649\u001b[0m \u001b[39m    \u001b[39m\u001b[39m\"\"\"Returns a tuple containing minx, miny, maxx, maxy values for the\u001b[39;00m\n\u001b[1;32m    650\u001b[0m \u001b[39m    bounds of the component as a whole.\u001b[39;00m\n\u001b[1;32m    651\u001b[0m \n\u001b[0;32m   (...)\u001b[0m\n\u001b[1;32m    656\u001b[0m \u001b[39m        Geometry: Bare element geometry\u001b[39;00m\n\u001b[1;32m    657\u001b[0m \u001b[39m    \"\"\"\u001b[39;00m\n\u001b[0;32m--> 658\u001b[0m     gs \u001b[39m=\u001b[39m \u001b[39mself\u001b[39;49m\u001b[39m.\u001b[39;49mget_component_geometry(name)  \u001b[39m# Pandas GeoSeries\u001b[39;00m\n\u001b[1;32m    659\u001b[0m     \u001b[39mif\u001b[39;00m \u001b[39mlen\u001b[39m(gs) \u001b[39m==\u001b[39m \u001b[39m0\u001b[39m:\n\u001b[1;32m    660\u001b[0m         \u001b[39mreturn\u001b[39;00m (\u001b[39m0\u001b[39m, \u001b[39m0\u001b[39m, \u001b[39m0\u001b[39m, \u001b[39m0\u001b[39m)\n",
      "File \u001b[0;32m~/_Lib/qiskit-metal/qiskit_metal/qgeometries/qgeometries_handler.py:724\u001b[0m, in \u001b[0;36mQGeometryTables.get_component_geometry\u001b[0;34m(self, name)\u001b[0m\n\u001b[1;32m    722\u001b[0m     table \u001b[39m=\u001b[39m \u001b[39mself\u001b[39m\u001b[39m.\u001b[39mtables[table_name]\n\u001b[1;32m    723\u001b[0m     qgeometry[table_name] \u001b[39m=\u001b[39m table\u001b[39m.\u001b[39mgeometry[table\u001b[39m.\u001b[39mcomponent \u001b[39m==\u001b[39m comp_id]\n\u001b[0;32m--> 724\u001b[0m qgeometry \u001b[39m=\u001b[39m pd\u001b[39m.\u001b[39;49mconcat(qgeometry)\n\u001b[1;32m    726\u001b[0m \u001b[39m# when concatenating empty GeoSeries, returns Series (ugly fix)\u001b[39;00m\n\u001b[1;32m    727\u001b[0m \u001b[39mif\u001b[39;00m \u001b[39mnot\u001b[39;00m \u001b[39misinstance\u001b[39m(qgeometry, GeoSeries):\n",
      "File \u001b[0;32m~/miniconda3/envs/qiskit/lib/python3.11/site-packages/pandas/util/_decorators.py:331\u001b[0m, in \u001b[0;36mdeprecate_nonkeyword_arguments.<locals>.decorate.<locals>.wrapper\u001b[0;34m(*args, **kwargs)\u001b[0m\n\u001b[1;32m    325\u001b[0m \u001b[39mif\u001b[39;00m \u001b[39mlen\u001b[39m(args) \u001b[39m>\u001b[39m num_allow_args:\n\u001b[1;32m    326\u001b[0m     warnings\u001b[39m.\u001b[39mwarn(\n\u001b[1;32m    327\u001b[0m         msg\u001b[39m.\u001b[39mformat(arguments\u001b[39m=\u001b[39m_format_argument_list(allow_args)),\n\u001b[1;32m    328\u001b[0m         \u001b[39mFutureWarning\u001b[39;00m,\n\u001b[1;32m    329\u001b[0m         stacklevel\u001b[39m=\u001b[39mfind_stack_level(),\n\u001b[1;32m    330\u001b[0m     )\n\u001b[0;32m--> 331\u001b[0m \u001b[39mreturn\u001b[39;00m func(\u001b[39m*\u001b[39;49margs, \u001b[39m*\u001b[39;49m\u001b[39m*\u001b[39;49mkwargs)\n",
      "File \u001b[0;32m~/miniconda3/envs/qiskit/lib/python3.11/site-packages/pandas/core/reshape/concat.py:368\u001b[0m, in \u001b[0;36mconcat\u001b[0;34m(objs, axis, join, ignore_index, keys, levels, names, verify_integrity, sort, copy)\u001b[0m\n\u001b[1;32m    146\u001b[0m \u001b[39m@deprecate_nonkeyword_arguments\u001b[39m(version\u001b[39m=\u001b[39m\u001b[39mNone\u001b[39;00m, allowed_args\u001b[39m=\u001b[39m[\u001b[39m\"\u001b[39m\u001b[39mobjs\u001b[39m\u001b[39m\"\u001b[39m])\n\u001b[1;32m    147\u001b[0m \u001b[39mdef\u001b[39;00m \u001b[39mconcat\u001b[39m(\n\u001b[1;32m    148\u001b[0m     objs: Iterable[NDFrame] \u001b[39m|\u001b[39m Mapping[HashableT, NDFrame],\n\u001b[0;32m   (...)\u001b[0m\n\u001b[1;32m    157\u001b[0m     copy: \u001b[39mbool\u001b[39m \u001b[39m=\u001b[39m \u001b[39mTrue\u001b[39;00m,\n\u001b[1;32m    158\u001b[0m ) \u001b[39m-\u001b[39m\u001b[39m>\u001b[39m DataFrame \u001b[39m|\u001b[39m Series:\n\u001b[1;32m    159\u001b[0m \u001b[39m    \u001b[39m\u001b[39m\"\"\"\u001b[39;00m\n\u001b[1;32m    160\u001b[0m \u001b[39m    Concatenate pandas objects along a particular axis.\u001b[39;00m\n\u001b[1;32m    161\u001b[0m \n\u001b[0;32m   (...)\u001b[0m\n\u001b[1;32m    366\u001b[0m \u001b[39m    1   3   4\u001b[39;00m\n\u001b[1;32m    367\u001b[0m \u001b[39m    \"\"\"\u001b[39;00m\n\u001b[0;32m--> 368\u001b[0m     op \u001b[39m=\u001b[39m _Concatenator(\n\u001b[1;32m    369\u001b[0m         objs,\n\u001b[1;32m    370\u001b[0m         axis\u001b[39m=\u001b[39;49maxis,\n\u001b[1;32m    371\u001b[0m         ignore_index\u001b[39m=\u001b[39;49mignore_index,\n\u001b[1;32m    372\u001b[0m         join\u001b[39m=\u001b[39;49mjoin,\n\u001b[1;32m    373\u001b[0m         keys\u001b[39m=\u001b[39;49mkeys,\n\u001b[1;32m    374\u001b[0m         levels\u001b[39m=\u001b[39;49mlevels,\n\u001b[1;32m    375\u001b[0m         names\u001b[39m=\u001b[39;49mnames,\n\u001b[1;32m    376\u001b[0m         verify_integrity\u001b[39m=\u001b[39;49mverify_integrity,\n\u001b[1;32m    377\u001b[0m         copy\u001b[39m=\u001b[39;49mcopy,\n\u001b[1;32m    378\u001b[0m         sort\u001b[39m=\u001b[39;49msort,\n\u001b[1;32m    379\u001b[0m     )\n\u001b[1;32m    381\u001b[0m     \u001b[39mreturn\u001b[39;00m op\u001b[39m.\u001b[39mget_result()\n",
      "File \u001b[0;32m~/miniconda3/envs/qiskit/lib/python3.11/site-packages/pandas/core/reshape/concat.py:445\u001b[0m, in \u001b[0;36m_Concatenator.__init__\u001b[0;34m(self, objs, axis, join, keys, levels, names, ignore_index, verify_integrity, copy, sort)\u001b[0m\n\u001b[1;32m    443\u001b[0m     \u001b[39melse\u001b[39;00m:\n\u001b[1;32m    444\u001b[0m         name \u001b[39m=\u001b[39m \u001b[39mgetattr\u001b[39m(keys, \u001b[39m\"\u001b[39m\u001b[39mname\u001b[39m\u001b[39m\"\u001b[39m, \u001b[39mNone\u001b[39;00m)\n\u001b[0;32m--> 445\u001b[0m         keys \u001b[39m=\u001b[39m Index(clean_keys, name\u001b[39m=\u001b[39;49mname)\n\u001b[1;32m    447\u001b[0m \u001b[39mif\u001b[39;00m \u001b[39mlen\u001b[39m(objs) \u001b[39m==\u001b[39m \u001b[39m0\u001b[39m:\n\u001b[1;32m    448\u001b[0m     \u001b[39mraise\u001b[39;00m \u001b[39mValueError\u001b[39;00m(\u001b[39m\"\u001b[39m\u001b[39mAll objects passed were None\u001b[39m\u001b[39m\"\u001b[39m)\n",
      "File \u001b[0;32m~/miniconda3/envs/qiskit/lib/python3.11/site-packages/pandas/core/indexes/base.py:572\u001b[0m, in \u001b[0;36mIndex.__new__\u001b[0;34m(cls, data, dtype, copy, name, tupleize_cols, **kwargs)\u001b[0m\n\u001b[1;32m    568\u001b[0m     subarr \u001b[39m=\u001b[39m _maybe_cast_data_without_dtype(\n\u001b[1;32m    569\u001b[0m         subarr, cast_numeric_deprecated\u001b[39m=\u001b[39m\u001b[39mFalse\u001b[39;00m\n\u001b[1;32m    570\u001b[0m     )\n\u001b[1;32m    571\u001b[0m     dtype \u001b[39m=\u001b[39m subarr\u001b[39m.\u001b[39mdtype\n\u001b[0;32m--> 572\u001b[0m \u001b[39mreturn\u001b[39;00m Index(subarr, dtype\u001b[39m=\u001b[39;49mdtype, copy\u001b[39m=\u001b[39;49mcopy, name\u001b[39m=\u001b[39;49mname, \u001b[39m*\u001b[39;49m\u001b[39m*\u001b[39;49mkwargs)\n",
      "File \u001b[0;32m~/miniconda3/envs/qiskit/lib/python3.11/site-packages/pandas/core/indexes/base.py:540\u001b[0m, in \u001b[0;36mIndex.__new__\u001b[0;34m(cls, data, dtype, copy, name, tupleize_cols, **kwargs)\u001b[0m\n\u001b[1;32m    537\u001b[0m             \u001b[39mreturn\u001b[39;00m \u001b[39mcls\u001b[39m(arr, dtype, copy\u001b[39m=\u001b[39mcopy, name\u001b[39m=\u001b[39mname, \u001b[39m*\u001b[39m\u001b[39m*\u001b[39mkwargs)\n\u001b[1;32m    539\u001b[0m klass \u001b[39m=\u001b[39m \u001b[39mcls\u001b[39m\u001b[39m.\u001b[39m_dtype_to_subclass(arr\u001b[39m.\u001b[39mdtype)\n\u001b[0;32m--> 540\u001b[0m arr \u001b[39m=\u001b[39m klass\u001b[39m.\u001b[39;49m_ensure_array(arr, dtype, copy)\n\u001b[1;32m    541\u001b[0m disallow_kwargs(kwargs)\n\u001b[1;32m    542\u001b[0m \u001b[39mreturn\u001b[39;00m klass\u001b[39m.\u001b[39m_simple_new(arr, name)\n",
      "File \u001b[0;32m~/miniconda3/envs/qiskit/lib/python3.11/site-packages/pandas/core/indexes/base.py:574\u001b[0m, in \u001b[0;36mIndex._ensure_array\u001b[0;34m(cls, data, dtype, copy)\u001b[0m\n\u001b[1;32m    571\u001b[0m             dtype \u001b[39m=\u001b[39m subarr\u001b[39m.\u001b[39mdtype\n\u001b[1;32m    572\u001b[0m         \u001b[39mreturn\u001b[39;00m Index(subarr, dtype\u001b[39m=\u001b[39mdtype, copy\u001b[39m=\u001b[39mcopy, name\u001b[39m=\u001b[39mname, \u001b[39m*\u001b[39m\u001b[39m*\u001b[39mkwargs)\n\u001b[0;32m--> 574\u001b[0m \u001b[39m@classmethod\u001b[39m\n\u001b[1;32m    575\u001b[0m \u001b[39mdef\u001b[39;00m \u001b[39m_ensure_array\u001b[39m(\u001b[39mcls\u001b[39m, data, dtype, copy: \u001b[39mbool\u001b[39m):\n\u001b[1;32m    576\u001b[0m \u001b[39m    \u001b[39m\u001b[39m\"\"\"\u001b[39;00m\n\u001b[1;32m    577\u001b[0m \u001b[39m    Ensure we have a valid array to pass to _simple_new.\u001b[39;00m\n\u001b[1;32m    578\u001b[0m \u001b[39m    \"\"\"\u001b[39;00m\n\u001b[1;32m    579\u001b[0m     \u001b[39mif\u001b[39;00m data\u001b[39m.\u001b[39mndim \u001b[39m>\u001b[39m \u001b[39m1\u001b[39m:\n\u001b[1;32m    580\u001b[0m         \u001b[39m# GH#13601, GH#20285, GH#27125\u001b[39;00m\n",
      "\u001b[0;31mKeyboardInterrupt\u001b[0m: "
     ]
    }
   ],
   "source": [
    "# pockets = []#p1, p2]\n",
    "for i in range(2,10):\n",
    "    poc = []\n",
    "    for j in range(10):\n",
    "        pocket_options['pos_x'] = xs[j]\n",
    "        pocket_options['pos_y'] = qubit_y1[i]\n",
    "        pocket_options['coord'] = '({},{})'.format(j,i)\n",
    "        pocket_options['rotation'] = 0 #qubit_angles0[j]\n",
    "        p = pocket(gui, design,options = pocket_options)\n",
    "        poc.append(p)\n",
    "        if j ==0:\n",
    "           poc[j].connect(left_lauch_pads[i]) \n",
    "        elif j == 9:\n",
    "            poc[j].connect(poc[j-1])\n",
    "            poc[j].connect(right_lauch_pads[i])\n",
    "        else:\n",
    "            poc[j].connect(poc[j-1])\n",
    "    pockets.append(poc)"
   ]
  },
  {
   "cell_type": "code",
   "execution_count": 36,
   "metadata": {},
   "outputs": [
    {
     "name": "stdout",
     "output_type": "stream",
     "text": [
      "{'pos_x': '-4.3mm', 'pos_y': '-0.890000mm', 'orientation': '0', 'frequency': 5.2, 'guess_path': '/Users/wendy/Desktop/Wendy-qiskit-code/data/educated_guess_0403.csv', 'coupling_path': '', 'sim': True, 'coord': '(0,6)', 'qubit_layer': 5, 'junction_layer': 2, 'ab_layer': 8, 'ab_square_layer': 9, 'ab_distance': '70um', 'rotation': 0}\n"
     ]
    }
   ],
   "source": [
    "for i in range(6,10):\n",
    "    poc = []\n",
    "    for j in range(10):\n",
    "        pocket_options['pos_x'] = xs[j]\n",
    "        pocket_options['pos_y'] = qubit_y1[i]\n",
    "        pocket_options['coord'] = '({},{})'.format(j,i)\n",
    "        pocket_options['rotation'] = 0 #qubit_angles0[j]\n",
    "        p = pocket(gui, design,options = pocket_options)\n",
    "        poc.append(p)\n",
    "        if j ==0:\n",
    "           poc[j].connect(left_lauch_pads[i]) \n",
    "        elif j == 9:\n",
    "            poc[j].connect(poc[j-1])\n",
    "            poc[j].connect(right_lauch_pads[i])\n",
    "        else:\n",
    "            poc[j].connect(poc[j-1])\n",
    "    pockets.append(poc)"
   ]
  },
  {
   "cell_type": "code",
   "execution_count": 35,
   "metadata": {},
   "outputs": [
    {
     "ename": "TypeError",
     "evalue": "MetalGUI.rebuild() got an unexpected keyword argument 'component'",
     "output_type": "error",
     "traceback": [
      "\u001b[0;31m---------------------------------------------------------------------------\u001b[0m",
      "\u001b[0;31mTypeError\u001b[0m                                 Traceback (most recent call last)",
      "Cell \u001b[0;32mIn[35], line 1\u001b[0m\n\u001b[0;32m----> 1\u001b[0m gui\u001b[39m.\u001b[39;49mrebuild(component \u001b[39m=\u001b[39;49m \u001b[39m'\u001b[39;49m\u001b[39mTQ(8,5)\u001b[39;49m\u001b[39m'\u001b[39;49m)\n",
      "\u001b[0;31mTypeError\u001b[0m: MetalGUI.rebuild() got an unexpected keyword argument 'component'"
     ]
    }
   ],
   "source": [
    "gui.rebuild()"
   ]
  },
  {
   "cell_type": "code",
   "execution_count": null,
   "metadata": {},
   "outputs": [],
   "source": [
    "poc[j].connect(poc[j-1])"
   ]
  },
  {
   "cell_type": "code",
   "execution_count": null,
   "metadata": {},
   "outputs": [],
   "source": [
    "poc"
   ]
  },
  {
   "cell_type": "code",
   "execution_count": null,
   "metadata": {},
   "outputs": [],
   "source": [
    "poc[j].connect(right_lauch_pads[i])"
   ]
  },
  {
   "cell_type": "code",
   "execution_count": null,
   "metadata": {},
   "outputs": [],
   "source": []
  },
  {
   "cell_type": "code",
   "execution_count": null,
   "metadata": {},
   "outputs": [],
   "source": [
    "p_1.connect(right_lauch_pads[0])"
   ]
  },
  {
   "cell_type": "code",
   "execution_count": null,
   "metadata": {},
   "outputs": [],
   "source": [
    "j = 8\n",
    "pocket_options['pos_x'] = qubit_x0[j]\n",
    "pocket_options['pos_y'] = qubit_y0[j]\n",
    "pocket_options['coord'] = '({},0)'.format(j)\n",
    "pocket_options['rotation'] = qubit_angles0[j]\n",
    "p_2 = pocket(gui, design,options = pocket_options)"
   ]
  },
  {
   "cell_type": "code",
   "execution_count": null,
   "metadata": {},
   "outputs": [],
   "source": [
    "qubit_angles0[9]"
   ]
  },
  {
   "cell_type": "code",
   "execution_count": null,
   "metadata": {},
   "outputs": [],
   "source": [
    "p_2.connect(p_1)"
   ]
  },
  {
   "cell_type": "code",
   "execution_count": null,
   "metadata": {},
   "outputs": [],
   "source": [
    "p.connect(pockets[8])"
   ]
  },
  {
   "cell_type": "code",
   "execution_count": null,
   "metadata": {},
   "outputs": [],
   "source": [
    "p.connect(right_lauch_pads[0])"
   ]
  },
  {
   "cell_type": "code",
   "execution_count": null,
   "metadata": {},
   "outputs": [],
   "source": [
    "# y_cord = ['3.96mm', '3.86mm']\n",
    "y_cord = [3.96]\n",
    "\n",
    "for i in range(9):\n",
    "    # y_cord.append('{:2f}mm'.format(3.86-0.95*i))\n",
    "    y_cord.append(np.round(3.86-0.95*i,2))\n",
    "    print(3.86-0.95*i)"
   ]
  },
  {
   "cell_type": "code",
   "execution_count": null,
   "metadata": {},
   "outputs": [],
   "source": [
    "y_cord"
   ]
  },
  {
   "cell_type": "code",
   "execution_count": null,
   "metadata": {},
   "outputs": [],
   "source": []
  },
  {
   "cell_type": "code",
   "execution_count": null,
   "metadata": {},
   "outputs": [],
   "source": [
    "wb1 = right_lauch_pads[0]\n",
    "wb1.options.orientation = 0\n",
    "gui.rebuild()"
   ]
  },
  {
   "cell_type": "code",
   "execution_count": null,
   "metadata": {},
   "outputs": [],
   "source": [
    "pockets[-1].connect(p2)"
   ]
  },
  {
   "cell_type": "code",
   "execution_count": null,
   "metadata": {},
   "outputs": [],
   "source": [
    "anchor = OrderedDict()\n",
    "anchor[0] = (-3.2,4.00005)"
   ]
  },
  {
   "cell_type": "code",
   "execution_count": null,
   "metadata": {},
   "outputs": [],
   "source": [
    "op  = {'anchors': anchor, 'trace_width': '12.4 um', 'trace_gap': '6.99 um', 'lead': {'start_straight': '5um', 'end_straight': '30um'}, 'fillet': '20um', 'total_length': '0.5mm', 'hfss_wire_bonds': True, 'q3d_wirebonds': True, 'pin_inputs': {'start_pin': {'component': 'TQ(2,0)', 'pin': 'prime_end'}, 'end_pin': {'component': 'TQ(1,0)', 'pin': 'prime_start'}}}"
   ]
  },
  {
   "cell_type": "code",
   "execution_count": null,
   "metadata": {},
   "outputs": [],
   "source": [
    "dp.RouteMixed(design, 'aaa', \n",
    "           options = op)"
   ]
  },
  {
   "cell_type": "code",
   "execution_count": null,
   "metadata": {},
   "outputs": [],
   "source": [
    "gui.rebuild()"
   ]
  },
  {
   "cell_type": "code",
   "execution_count": null,
   "metadata": {},
   "outputs": [],
   "source": []
  },
  {
   "cell_type": "code",
   "execution_count": null,
   "metadata": {},
   "outputs": [],
   "source": [
    "t1 = p1.Tee\n",
    "t2= p2.Tee"
   ]
  },
  {
   "cell_type": "code",
   "execution_count": null,
   "metadata": {},
   "outputs": [],
   "source": [
    "from collections import OrderedDict"
   ]
  },
  {
   "cell_type": "code",
   "execution_count": null,
   "metadata": {},
   "outputs": [],
   "source": [
    "design.delete_component('aaa')\n",
    "\n",
    "anchor = OrderedDict()\n",
    "pin_inputs = Dict(\n",
    "                start_pin=Dict(component=t1.name, pin='prime_end'),\n",
    "                end_pin=Dict(component=t2.name, pin='prime_end'))\n",
    "dp.trans_options['pin_inputs'] = pin_inputs\n",
    "ops = Dict(anchors = anchor, **dp.trans_options)\n",
    "# anchor[0] = (-3.87,3.5)\n",
    "cpw = dp.RouteMixed(design, 'aaa', options = ops)\n"
   ]
  },
  {
   "cell_type": "code",
   "execution_count": null,
   "metadata": {},
   "outputs": [],
   "source": [
    "design.delete_component('aaa')"
   ]
  },
  {
   "cell_type": "code",
   "execution_count": null,
   "metadata": {},
   "outputs": [],
   "source": [
    "# design.delete_component('aaa')\n",
    "gui.rebuild()"
   ]
  },
  {
   "cell_type": "code",
   "execution_count": null,
   "metadata": {},
   "outputs": [],
   "source": [
    "design.delete_component('airbridge_connects(0,0)wb_left0')\n",
    "design.delete_component('(0,0)CPWwb_left0')"
   ]
  },
  {
   "cell_type": "code",
   "execution_count": null,
   "metadata": {},
   "outputs": [],
   "source": [
    "gui.rebuild()"
   ]
  },
  {
   "cell_type": "code",
   "execution_count": null,
   "metadata": {},
   "outputs": [],
   "source": [
    "print(design.components)"
   ]
  },
  {
   "cell_type": "code",
   "execution_count": null,
   "metadata": {},
   "outputs": [],
   "source": [
    "for  i in design.components:\n",
    "    if 'pad' in type(i)"
   ]
  },
  {
   "cell_type": "code",
   "execution_count": null,
   "metadata": {},
   "outputs": [],
   "source": [
    "wb_rights = []"
   ]
  },
  {
   "cell_type": "code",
   "execution_count": null,
   "metadata": {},
   "outputs": [],
   "source": []
  },
  {
   "cell_type": "code",
   "execution_count": null,
   "metadata": {},
   "outputs": [],
   "source": []
  },
  {
   "cell_type": "code",
   "execution_count": null,
   "metadata": {},
   "outputs": [],
   "source": []
  },
  {
   "cell_type": "code",
   "execution_count": null,
   "metadata": {},
   "outputs": [],
   "source": [
    "design.delete_all_components()"
   ]
  },
  {
   "cell_type": "code",
   "execution_count": null,
   "metadata": {},
   "outputs": [],
   "source": [
    "pocket_options = dict(\n",
    "        pos_x = '0mm', \n",
    "        pos_y = '0mm', \n",
    "        orientation = '0',\n",
    "        frequency = 5.2,\n",
    "        guess_path = r'/Users/wendy/Desktop/Wendy-qiskit-code/data/educated_guess_0403.csv',\n",
    "        coupling_path = '',\n",
    "        sim = True,\n",
    "        coord = '(0,0)',\n",
    "        qubit_layer = 5,\n",
    "        junction_layer = 2, \n",
    "        ab_layer = 8,\n",
    "        ab_square_layer = 9,\n",
    "        ab_distance = '70um',\n",
    "        rotation = 90\n",
    "        )"
   ]
  },
  {
   "cell_type": "code",
   "execution_count": null,
   "metadata": {},
   "outputs": [],
   "source": [
    "design.delete_all_components()\n",
    "pocket_options['pos_x'] = '0mm'\n",
    "pocket_options['pos_y'] = '0mm'\n",
    "pocket_options['coord'] = '(0,0)'\n",
    "\n",
    "p1 = pocket(gui, design,options = pocket_options)"
   ]
  },
  {
   "cell_type": "code",
   "execution_count": null,
   "metadata": {},
   "outputs": [],
   "source": [
    "pocket_options['pos_x'] = '1mm'\n",
    "pocket_options['pos_y'] = '0mm'\n",
    "pocket_options['coord'] = '(1,0)'\n",
    "\n",
    "p2 = pocket(gui, design,options = pocket_options)"
   ]
  },
  {
   "cell_type": "code",
   "execution_count": null,
   "metadata": {},
   "outputs": [],
   "source": [
    "p1.Tee.pins['second_end']"
   ]
  },
  {
   "cell_type": "code",
   "execution_count": null,
   "metadata": {},
   "outputs": [],
   "source": [
    "p1.qubit.pins['a']"
   ]
  },
  {
   "cell_type": "code",
   "execution_count": null,
   "metadata": {},
   "outputs": [],
   "source": [
    "gui.rebuild()\n",
    "gui.autoscale()"
   ]
  },
  {
   "cell_type": "code",
   "execution_count": null,
   "metadata": {},
   "outputs": [],
   "source": [
    "p1.connect(p2)"
   ]
  },
  {
   "cell_type": "code",
   "execution_count": null,
   "metadata": {},
   "outputs": [],
   "source": [
    "qubit = p2.qubit\n",
    "TQ = p2.Tee\n",
    "j = p2.junction\n"
   ]
  },
  {
   "cell_type": "code",
   "execution_count": null,
   "metadata": {},
   "outputs": [],
   "source": [
    "TQ"
   ]
  },
  {
   "cell_type": "code",
   "execution_count": null,
   "metadata": {},
   "outputs": [],
   "source": [
    "f = p2.options['frequency']"
   ]
  },
  {
   "cell_type": "code",
   "execution_count": null,
   "metadata": {},
   "outputs": [],
   "source": [
    "q1,j, cpw, TQ1, design,gui = dp.construct_cpw_qubit(qubit,j, TQ, f,gui,design,sim =False, displacement = '10mm')\n",
    "q1, d = jj.place_junction(q1,j)\n",
    "gui.rebuild()\n",
    "gui.autoscale()"
   ]
  },
  {
   "cell_type": "code",
   "execution_count": null,
   "metadata": {},
   "outputs": [],
   "source": [
    "a = Dict(q = 1, b = 2)"
   ]
  },
  {
   "cell_type": "code",
   "execution_count": null,
   "metadata": {},
   "outputs": [],
   "source": [
    "a['q']"
   ]
  },
  {
   "cell_type": "code",
   "execution_count": null,
   "metadata": {},
   "outputs": [],
   "source": []
  },
  {
   "cell_type": "code",
   "execution_count": null,
   "metadata": {},
   "outputs": [],
   "source": []
  },
  {
   "cell_type": "code",
   "execution_count": null,
   "metadata": {},
   "outputs": [],
   "source": [
    "'pocket' in str(type(p))"
   ]
  },
  {
   "cell_type": "code",
   "execution_count": null,
   "metadata": {},
   "outputs": [],
   "source": [
    "p.options['coord']"
   ]
  },
  {
   "cell_type": "code",
   "execution_count": null,
   "metadata": {},
   "outputs": [],
   "source": [
    "p.qubit.pins"
   ]
  },
  {
   "cell_type": "code",
   "execution_count": null,
   "metadata": {},
   "outputs": [],
   "source": []
  },
  {
   "cell_type": "code",
   "execution_count": null,
   "metadata": {},
   "outputs": [],
   "source": []
  },
  {
   "cell_type": "code",
   "execution_count": null,
   "metadata": {},
   "outputs": [],
   "source": []
  },
  {
   "cell_type": "code",
   "execution_count": null,
   "metadata": {},
   "outputs": [],
   "source": []
  },
  {
   "cell_type": "code",
   "execution_count": null,
   "metadata": {},
   "outputs": [],
   "source": [
    "design = dp.design\n",
    "\n",
    "junction_layer = 5\n",
    "qubit_layer = 2\n",
    "ab_layer = 7\n",
    "ab_square_layer = 8"
   ]
  },
  {
   "cell_type": "markdown",
   "metadata": {},
   "source": [
    "## Single Pad--Verify Design"
   ]
  },
  {
   "cell_type": "markdown",
   "metadata": {},
   "source": [
    "### Draw the single pad transmon"
   ]
  },
  {
   "cell_type": "code",
   "execution_count": null,
   "metadata": {},
   "outputs": [],
   "source": [
    "design.delete_all_components()"
   ]
  },
  {
   "cell_type": "code",
   "execution_count": null,
   "metadata": {},
   "outputs": [],
   "source": [
    "design.overwrite_enabled = True\n",
    "\n",
    "size = 0.25*u.mm\n",
    "gap = 30*u.um\n",
    "size = size.to(u.um)\n",
    "pocket_width = size+2*gap\n",
    "\n",
    "\n",
    "op = Dict(\n",
    "    pos_x = '0',\n",
    "    pad_height = '{}um'.format(size.value),\n",
    "    pos_y = '0',\n",
    "    pad_width = '{}'.format(size),\n",
    "    pocket_width = '{}'.format(pocket_width), \n",
    "    **dp.qb_options)\n",
    "\n",
    "q1 = transmon(design,'Q1',options = op)\n",
    "\n",
    "gui.rebuild()\n",
    "gui.zoom_on_components(['Q1'])\n"
   ]
  },
  {
   "cell_type": "code",
   "execution_count": null,
   "metadata": {},
   "outputs": [],
   "source": [
    "q1.options['junction'] = 'True'"
   ]
  },
  {
   "cell_type": "code",
   "execution_count": null,
   "metadata": {},
   "outputs": [],
   "source": [
    "gui.rebuild()"
   ]
  },
  {
   "cell_type": "code",
   "execution_count": null,
   "metadata": {},
   "outputs": [],
   "source": [
    "design.chips.main.size['size_x'] = '20 mm'\n",
    "design.chips.main.size['size_y'] = '10 mm'\n",
    "gds = design.renderers.gds"
   ]
  },
  {
   "cell_type": "code",
   "execution_count": null,
   "metadata": {},
   "outputs": [],
   "source": [
    "guesses = pd.read_csv(r'data/educated_guess_0403.csv')"
   ]
  },
  {
   "cell_type": "code",
   "execution_count": null,
   "metadata": {},
   "outputs": [],
   "source": [
    "options = Dict(taper_len='0.5um',jj_gap = '0.14um')\n",
    "d = junction(design, 'd', options = options)\n"
   ]
  },
  {
   "cell_type": "code",
   "execution_count": null,
   "metadata": {},
   "outputs": [],
   "source": [
    "k = 3\n",
    "\n",
    "q1.options['pad_height'] = '{}um'.format(guesses['Sizes (um)'].values[k])\n",
    "q1.options['pad_width'] = '{}um'.format(guesses['Sizes (um)'].values[k])\n",
    "\n",
    "q1.options['pocket_width'] = '{}um'.format(guesses['Sizes (um)'].values[k]+2*gap.to(u.um).value)\n",
    "\n",
    "q1.options['connection_pads']['a']['pad_width'] = guesses['Coupling_len'][k]\n",
    "q1.options['connection_pads']['a']['pad_height'] = '30um-{}um'.format(guesses['Coupling_gap(um)'][k])\n",
    "q1.options['connection_pads']['a']['pad_gap'] = '{}um'.format(guesses['Coupling_gap(um)'][k])\n",
    "\n",
    "d.options['Lj'] = '{}'.format(guesses['Ljs (nH)'][k])\n",
    "\n",
    "q1.options.layer = qubit_layer\n",
    "d.options.layer = junction_layer\n",
    "\n",
    "gui.rebuild()\n",
    "gui.zoom_on_components(['Q1'])\n",
    "    "
   ]
  },
  {
   "cell_type": "code",
   "execution_count": null,
   "metadata": {},
   "outputs": [],
   "source": [
    "q1, d = jj.place_junction(q1,d)\n",
    "gui.rebuild()\n"
   ]
  },
  {
   "cell_type": "code",
   "execution_count": null,
   "metadata": {},
   "outputs": [],
   "source": [
    "dp.TQ_options['down_length'] = '40 um'\n",
    "TQ1 = CoupledLineTee(design, 'TQ1', options=dict(pos_x='-0.1 mm',\n",
    "                                             pos_y='0.5 mm',\n",
    "                                             mirror = True, **dp.TQ_options))\n",
    "TQ1.options['open_termination'] = False\n",
    "\n",
    "gui.rebuild()\n",
    "gui.autoscale()"
   ]
  },
  {
   "cell_type": "code",
   "execution_count": null,
   "metadata": {},
   "outputs": [],
   "source": [
    "180//90"
   ]
  },
  {
   "cell_type": "code",
   "execution_count": null,
   "metadata": {},
   "outputs": [],
   "source": []
  },
  {
   "cell_type": "code",
   "execution_count": null,
   "metadata": {},
   "outputs": [],
   "source": []
  },
  {
   "cell_type": "code",
   "execution_count": null,
   "metadata": {},
   "outputs": [],
   "source": []
  },
  {
   "cell_type": "code",
   "execution_count": null,
   "metadata": {},
   "outputs": [],
   "source": [
    "q1,j, cpw, TQ1, design,gui = dp.construct_cpw_qubit(q1,d, TQ1, 5,gui,design,sim =False)\n",
    "q1, d = jj.place_junction(q1,d)\n",
    "gui.rebuild()\n",
    "gui.autoscale()"
   ]
  },
  {
   "attachments": {},
   "cell_type": "markdown",
   "metadata": {},
   "source": [
    "Construct the cpw airbridge object"
   ]
  },
  {
   "cell_type": "code",
   "execution_count": null,
   "metadata": {},
   "outputs": [],
   "source": []
  },
  {
   "cell_type": "code",
   "execution_count": null,
   "metadata": {},
   "outputs": [],
   "source": [
    "design.delete_component('airbridges')"
   ]
  },
  {
   "cell_type": "code",
   "execution_count": null,
   "metadata": {},
   "outputs": [],
   "source": [
    "ab_options = Dict(cpw_name = 'cpw_1', distance = '100um', dis = '10um', layer_ab_square = str(ab_square_layer), layer_ab = str(ab_layer), total_length = '80 um', chip = 'main', seg_num = '0')"
   ]
  },
  {
   "cell_type": "code",
   "execution_count": null,
   "metadata": {},
   "outputs": [],
   "source": [
    "ab(design, 'airbridges', ab_options)"
   ]
  },
  {
   "cell_type": "code",
   "execution_count": null,
   "metadata": {},
   "outputs": [],
   "source": [
    "gui.rebuild()"
   ]
  },
  {
   "cell_type": "code",
   "execution_count": null,
   "metadata": {},
   "outputs": [],
   "source": [
    "q1.options.layer = qubit_layer\n",
    "cpw.options.layer = qubit_layer\n",
    "TQ1.options.layer = qubit_layer\n",
    "j.options.layer = junction_layer\n",
    "gui.rebuild()\n",
    "gui.autoscale()"
   ]
  },
  {
   "cell_type": "code",
   "execution_count": null,
   "metadata": {},
   "outputs": [],
   "source": [
    "design.chips.main.size['size_x'] = '10mm'\n",
    "design.chips.main.size['size_y'] = '10mm'\n",
    "gui.rebuild()\n",
    "a_gds = design.renderers.gds"
   ]
  },
  {
   "cell_type": "code",
   "execution_count": null,
   "metadata": {},
   "outputs": [],
   "source": [
    "a_gds.options.cheese.edge_nocheese = '300um'\n",
    "a_gds.options.no_cheese.buffer = '50um'"
   ]
  },
  {
   "cell_type": "code",
   "execution_count": null,
   "metadata": {},
   "outputs": [],
   "source": [
    "a_gds.options['cheese']['view_in_file']['main'][qubit_layer] = True\n",
    "a_gds.options['no_cheese']['view_in_file']['main'][qubit_layer] = True\n",
    "a_gds.options['cheese']['view_in_file']['main'][junction_layer] = False\n",
    "a_gds.options['no_cheese']['view_in_file']['main'][junction_layer] = True\n",
    "a_gds.options['cheese']['view_in_file']['main'][ab_layer] = False\n",
    "a_gds.options['no_cheese']['view_in_file']['main'][ab_layer] = True\n",
    "a_gds.options['cheese']['view_in_file']['main'][ab_square_layer] = False\n",
    "a_gds.options['no_cheese']['view_in_file']['main'][ab_square_layer] = True"
   ]
  },
  {
   "cell_type": "code",
   "execution_count": null,
   "metadata": {},
   "outputs": [],
   "source": [
    "a_gds.export_to_gds('export_test.gds')"
   ]
  },
  {
   "cell_type": "code",
   "execution_count": null,
   "metadata": {},
   "outputs": [],
   "source": [
    "a_gds = design.renderers.gds"
   ]
  },
  {
   "cell_type": "code",
   "execution_count": null,
   "metadata": {},
   "outputs": [],
   "source": [
    "a_gds.options.tolerance = '0.00001'\n",
    "a_gds.options.cheese.edge_nocheese = '300um'\n",
    "a_gds.options.no_cheese.buffer = '40um'"
   ]
  },
  {
   "cell_type": "code",
   "execution_count": null,
   "metadata": {},
   "outputs": [],
   "source": [
    "a_gds.options"
   ]
  },
  {
   "cell_type": "code",
   "execution_count": null,
   "metadata": {},
   "outputs": [],
   "source": [
    "a_gds.options['path_filename'] = 'Customized_Component/Fake_Junctions.GDS'"
   ]
  },
  {
   "cell_type": "code",
   "execution_count": null,
   "metadata": {},
   "outputs": [],
   "source": [
    "a_gds.options.no_cheese.buffer = '0um'\n",
    "\n",
    "a_gds.options['cheese']['view_in_file']['main'][5] = False\n",
    "a_gds.options['no_cheese']['view_in_file']['main'][5] = False\n",
    "a_gds.options['ground_plane'] = True"
   ]
  },
  {
   "cell_type": "code",
   "execution_count": null,
   "metadata": {},
   "outputs": [],
   "source": [
    "q1.options.layer = 1\n",
    "d.options.layer = 5\n",
    "gui.rebuild()"
   ]
  },
  {
   "cell_type": "code",
   "execution_count": null,
   "metadata": {},
   "outputs": [],
   "source": [
    "a_gds.options['ground_plane'] = True"
   ]
  },
  {
   "cell_type": "code",
   "execution_count": null,
   "metadata": {},
   "outputs": [],
   "source": [
    "\n",
    "# a_gds.options['short_segments_to_not_fillet'] = True\n",
    "# a_gds.options['check_short_segments_by_scaling_fillet'] = 1.0\n",
    "a_gds.export_to_gds('Dolan.gds')#, highlight_qcomponents=['TQ1'])"
   ]
  },
  {
   "cell_type": "code",
   "execution_count": null,
   "metadata": {},
   "outputs": [],
   "source": [
    "a_gds.options"
   ]
  },
  {
   "cell_type": "code",
   "execution_count": null,
   "metadata": {},
   "outputs": [],
   "source": [
    "design.components.keys()"
   ]
  },
  {
   "cell_type": "code",
   "execution_count": null,
   "metadata": {},
   "outputs": [],
   "source": [
    "d = {}\n"
   ]
  },
  {
   "cell_type": "code",
   "execution_count": null,
   "metadata": {},
   "outputs": [],
   "source": [
    "base = 822.76\n",
    "dose = 0.8\n",
    "for j in range(5):\n",
    "    d['Column' + str(j+1)] = []\n",
    "    dose = 0.8 + j*0.1\n",
    "    for i in range(10):\n",
    "        dose1 = dose + 0.01*i\n",
    "        d['Column' + str(j+1)].append(base*round(dose1,2))\n",
    "    \n",
    "    \n"
   ]
  },
  {
   "cell_type": "code",
   "execution_count": null,
   "metadata": {},
   "outputs": [],
   "source": [
    "matrix = pd.DataFrame(d)"
   ]
  },
  {
   "cell_type": "code",
   "execution_count": null,
   "metadata": {},
   "outputs": [],
   "source": [
    "matrix.index += 1"
   ]
  },
  {
   "cell_type": "code",
   "execution_count": null,
   "metadata": {},
   "outputs": [],
   "source": [
    "matrix"
   ]
  },
  {
   "cell_type": "code",
   "execution_count": null,
   "metadata": {},
   "outputs": [],
   "source": []
  }
 ],
 "metadata": {
  "kernelspec": {
   "display_name": "qiskit",
   "language": "python",
   "name": "python3"
  },
  "language_info": {
   "codemirror_mode": {
    "name": "ipython",
    "version": 3
   },
   "file_extension": ".py",
   "mimetype": "text/x-python",
   "name": "python",
   "nbconvert_exporter": "python",
   "pygments_lexer": "ipython3",
   "version": "3.11.0"
  },
  "orig_nbformat": 4
 },
 "nbformat": 4,
 "nbformat_minor": 2
}
