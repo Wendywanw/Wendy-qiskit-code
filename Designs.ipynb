{
 "cells": [
  {
   "attachments": {},
   "cell_type": "markdown",
   "metadata": {},
   "source": [
    "Start!"
   ]
  },
  {
   "cell_type": "code",
   "execution_count": 1,
   "metadata": {},
   "outputs": [],
   "source": [
    "%reload_ext autoreload\n",
    "%autoreload 2"
   ]
  },
  {
   "cell_type": "code",
   "execution_count": 2,
   "metadata": {},
   "outputs": [],
   "source": [
    "import os\n",
    "import shutil\n",
    "# import time"
   ]
  },
  {
   "cell_type": "code",
   "execution_count": 3,
   "metadata": {},
   "outputs": [],
   "source": [
    "import astropy.units as u\n",
    "import numpy as np\n",
    "import pandas as pd\n",
    "import astropy.constants as c"
   ]
  },
  {
   "cell_type": "code",
   "execution_count": 4,
   "metadata": {},
   "outputs": [],
   "source": [
    "#This imports the necessary path to draw the single pad transmon design. \n",
    "import sys\n",
    "sys.path.append('Customized_Components')\n",
    "from rounded_single_pad import Round_TransmonPocket_Single as transmon\n",
    "import Transmon_property as trans_p\n",
    "import Transmon_specifications as jj\n",
    "from dolan_junction import DolanJunction as junction\n",
    "import Default_params as dp\n"
   ]
  },
  {
   "cell_type": "code",
   "execution_count": 5,
   "metadata": {},
   "outputs": [],
   "source": [
    "# from qiskit_metal import designs, draw\n",
    "# from qiskit_metal import MetalGUI, Dict, Headings\n",
    "\n",
    "# from qiskit_metal.qlibrary.couplers.coupled_line_tee import CoupledLineTee\n",
    "\n",
    "# from qiskit_metal.qlibrary.tlines.mixed_path import RouteMixed\n",
    "# from qiskit_metal.qlibrary.tlines.straight_path import RouteStraight"
   ]
  },
  {
   "cell_type": "code",
   "execution_count": 6,
   "metadata": {},
   "outputs": [],
   "source": [
    "# import seaborn as sns"
   ]
  },
  {
   "cell_type": "code",
   "execution_count": 7,
   "metadata": {},
   "outputs": [],
   "source": [
    "# phi0 = c.h/2/c.e.si\n",
    "# T = 30*u.mK\n",
    "# epsilon_r = 11.45\n",
    "# cc = 1664080*u.fF/u.m"
   ]
  },
  {
   "cell_type": "code",
   "execution_count": 8,
   "metadata": {},
   "outputs": [
    {
     "name": "stderr",
     "output_type": "stream",
     "text": [
      "07:59PM 08s CRITICAL [_qt_message_handler]: line: 0, func: None(), file: None  WARNING: Populating font family aliases took 141 ms. Replace uses of missing font family \"Courier\" with one that exists to avoid this cost. \n",
      "\n"
     ]
    },
    {
     "name": "stderr",
     "output_type": "stream",
     "text": [
      "2023-04-13 19:59:08.656 python[76749:8595038] TSM AdjustCapsLockLEDForKeyTransitionHandling - _ISSetPhysicalKeyboardCapsLockLED Inhibit\n"
     ]
    }
   ],
   "source": [
    "from qiskit_metal import MetalGUI, Dict\n",
    "from qiskit_metal.qlibrary.couplers.coupled_line_tee import CoupledLineTee\n",
    "gui = MetalGUI(dp.design)"
   ]
  },
  {
   "cell_type": "markdown",
   "metadata": {},
   "source": [
    "Component-specific variables"
   ]
  },
  {
   "cell_type": "code",
   "execution_count": 9,
   "metadata": {},
   "outputs": [],
   "source": [
    "design = dp.design\n",
    "\n",
    "junction_layer = 5\n",
    "qubit_layer = 2"
   ]
  },
  {
   "cell_type": "markdown",
   "metadata": {},
   "source": [
    "## Single Pad--Verify Design"
   ]
  },
  {
   "cell_type": "markdown",
   "metadata": {},
   "source": [
    "### Draw the single pad transmon"
   ]
  },
  {
   "cell_type": "code",
   "execution_count": 10,
   "metadata": {},
   "outputs": [],
   "source": [
    "design.delete_all_components()"
   ]
  },
  {
   "cell_type": "code",
   "execution_count": 11,
   "metadata": {},
   "outputs": [],
   "source": [
    "design.overwrite_enabled = True\n",
    "\n",
    "size = 0.25*u.mm\n",
    "gap = 30*u.um\n",
    "size = size.to(u.um)\n",
    "pocket_width = size+2*gap\n",
    "\n",
    "\n",
    "op = Dict(\n",
    "    pos_x = '0',\n",
    "    pad_height = '{}um'.format(size.value),\n",
    "    pos_y = '0',\n",
    "    pad_width = '{}'.format(size),\n",
    "    pocket_width = '{}'.format(pocket_width), \n",
    "    **dp.qb_options)\n",
    "\n",
    "q1 = transmon(design,'Q1',options = op)\n",
    "\n",
    "gui.rebuild()\n",
    "gui.zoom_on_components(['Q1'])\n"
   ]
  },
  {
   "cell_type": "code",
   "execution_count": 12,
   "metadata": {},
   "outputs": [],
   "source": [
    "q1.options['junction'] = 'True'"
   ]
  },
  {
   "cell_type": "code",
   "execution_count": 13,
   "metadata": {},
   "outputs": [],
   "source": [
    "gui.rebuild()"
   ]
  },
  {
   "cell_type": "code",
   "execution_count": 14,
   "metadata": {},
   "outputs": [],
   "source": [
    "design.chips.main.size['size_x'] = '20 mm'\n",
    "design.chips.main.size['size_y'] = '10 mm'\n",
    "gds = design.renderers.gds"
   ]
  },
  {
   "cell_type": "code",
   "execution_count": 15,
   "metadata": {},
   "outputs": [],
   "source": [
    "guesses = pd.read_csv(r'data/educated_guess_0403.csv')"
   ]
  },
  {
   "cell_type": "code",
   "execution_count": 16,
   "metadata": {},
   "outputs": [],
   "source": [
    "options = Dict(taper_len='0.5um',jj_gap = '0.14um')\n",
    "d = junction(design, 'd', options = options)\n"
   ]
  },
  {
   "cell_type": "code",
   "execution_count": 17,
   "metadata": {},
   "outputs": [],
   "source": [
    "k = 3\n",
    "\n",
    "q1.options['pad_height'] = '{}um'.format(guesses['Sizes (um)'].values[k])\n",
    "q1.options['pad_width'] = '{}um'.format(guesses['Sizes (um)'].values[k])\n",
    "\n",
    "q1.options['pocket_width'] = '{}um'.format(guesses['Sizes (um)'].values[k]+2*gap.to(u.um).value)\n",
    "\n",
    "q1.options['connection_pads']['a']['pad_width'] = guesses['Coupling_len'][k]\n",
    "q1.options['connection_pads']['a']['pad_height'] = '30um-{}um'.format(guesses['Coupling_gap(um)'][k])\n",
    "q1.options['connection_pads']['a']['pad_gap'] = '{}um'.format(guesses['Coupling_gap(um)'][k])\n",
    "\n",
    "d.options['Lj'] = '{}'.format(guesses['Ljs (nH)'][k])\n",
    "\n",
    "q1.options.layer = qubit_layer\n",
    "d.options.layer = junction_layer\n",
    "\n",
    "gui.rebuild()\n",
    "gui.zoom_on_components(['Q1'])\n",
    "    "
   ]
  },
  {
   "cell_type": "code",
   "execution_count": 18,
   "metadata": {},
   "outputs": [],
   "source": [
    "q1, d = jj.place_junction(q1,d)\n",
    "gui.rebuild()\n"
   ]
  },
  {
   "cell_type": "code",
   "execution_count": 19,
   "metadata": {},
   "outputs": [],
   "source": [
    "dp.TQ_options['down_length'] = '40 um'\n",
    "TQ1 = CoupledLineTee(design, 'TQ1', options=dict(pos_x='-0.1 mm',\n",
    "                                             pos_y='0.5 mm',\n",
    "                                             mirror = True,\n",
    "                                             coupling_length='120 um', **dp.TQ_options))\n",
    "TQ1.options['open_termination'] = False\n",
    "\n",
    "gui.rebuild()\n",
    "gui.autoscale()"
   ]
  },
  {
   "cell_type": "code",
   "execution_count": 20,
   "metadata": {},
   "outputs": [
    {
     "name": "stderr",
     "output_type": "stream",
     "text": [
      "07:59PM 25s INFO [delete_component]: Called delete_component cpw_1, but such a component is not in the design cache dictionary of components.\n"
     ]
    },
    {
     "name": "stdout",
     "output_type": "stream",
     "text": [
      "214.0 um\n",
      "214.0 um\n",
      "-(214.0 um/2+40um-80 um/4)+0\n"
     ]
    },
    {
     "name": "stderr",
     "output_type": "stream",
     "text": [
      "07:59PM 25s INFO [delete_component]: Called delete_component cpw_1, but such a component is not in the design cache dictionary of components.\n"
     ]
    }
   ],
   "source": [
    "q1,j, cpw, TQ1, design,gui = dp.construct_cpw_qubit(q1,d, TQ1, 5,gui,design,sim =False)\n",
    "q1, d = jj.place_junction(q1,d)\n",
    "gui.rebuild()\n",
    "gui.autoscale()"
   ]
  },
  {
   "attachments": {},
   "cell_type": "markdown",
   "metadata": {},
   "source": [
    "Construct the cpw airbridge object"
   ]
  },
  {
   "cell_type": "code",
   "execution_count": 24,
   "metadata": {},
   "outputs": [],
   "source": [
    "import numpy as np\n",
    "import astropy.units as u\n",
    "from qiskit_metal import draw, Dict\n",
    "from qiskit_metal.qlibrary.core import QComponent\n",
    "\n",
    "\n",
    "def equals(a,b):\n",
    "    return abs(a-b)<1e-6\n",
    "def find_line_direction(p1,p2):\n",
    "    x1,y1 = p1\n",
    "    x2,y2 = p2\n",
    "    if x1 == x2:\n",
    "        if y1>y2:\n",
    "            return 270\n",
    "        elif y1<y2:\n",
    "            return 90\n",
    "        else:\n",
    "            return 0\n",
    "    elif equals(y1, y2):\n",
    "        if x1>x2:\n",
    "            return 180\n",
    "        elif x1<x2:\n",
    "            return 0\n",
    "        else: return 0\n",
    "    else:\n",
    "        return ((np.arctan((y2-y1)/(x2-x1))*180/np.pi)+360)%360\n",
    "def find_segment_length(p1,p2, type):\n",
    "    x1,y1 = p1\n",
    "    x2,y2 = p2\n",
    "    d1 = np.absolute(x2-x1)\n",
    "    d2 = np.absolute(y2-y1)\n",
    "    if type == 'straight':\n",
    "        return np.sqrt(d1**2+d2**2)\n",
    "    elif equals(d1, d2) and (type == 'arc'):\n",
    "        # print('arc!')\n",
    "        return d1*np.pi/2\n",
    "    else:\n",
    "        r = max(d1, d2)\n",
    "        r_min = min(d1, d2)\n",
    "        theta = np.arctan(r_min/r)\n",
    "        return d1*theta/2\n",
    "def find_coordinates(coordinates, r):\n",
    "    segment_start = []\n",
    "    segment_end = []\n",
    "    segment_type = []\n",
    "    segment_angle = []\n",
    "    segment_length = []\n",
    "    seg_all = []\n",
    "\n",
    "    for i, cords in enumerate(coordinates):\n",
    "        \n",
    "        if i ==0:\n",
    "            seg_all.append(coordinates[i])\n",
    "            segment_start.append(coordinates[i])\n",
    "            continue\n",
    "        elif i == len(coordinates)-1:\n",
    "            # seg_all.append(coordinates[i-1])\n",
    "            seg_all.append(coordinates[i])\n",
    "            segment_start.append(segment_end[-1])\n",
    "            segment_end.append(coordinates[i])\n",
    "            segment_type.append('straight')\n",
    "            angle = find_line_direction(coordinates[i-1],coordinates[i])\n",
    "            length = find_segment_length(coordinates[i-1],coordinates[i], type = 'straight')\n",
    "            segment_length.append(length)\n",
    "            segment_angle.append(angle)\n",
    "            break\n",
    "        angle = find_line_direction(coordinates[i-1],cords)\n",
    "        next_angle = find_line_direction(cords,coordinates[i+1])\n",
    "        # print(angle, next_angle)\n",
    "        # print(np.absolute(angle-next_angle))\n",
    "        if angle == next_angle:\n",
    "            continue\n",
    "        elif np.absolute(angle-next_angle)%90==0:\n",
    "            x, y = cords\n",
    "            x0,y0 = coordinates[i-1]\n",
    "            x_modi = x - np.sign(x - x0)*r\n",
    "            y_modi = y - np.sign(y - y0)*r\n",
    "            if i == 1:\n",
    "                pass\n",
    "            else:\n",
    "                segment_start.append(segment_end[-1])\n",
    "            segment_end.append((x_modi,y_modi))\n",
    "            segment_type.append('straight')\n",
    "            segment_angle.append(angle)\n",
    "            length = find_segment_length(segment_start[-1],segment_end[-1], type = 'straight')\n",
    "            segment_length.append(length)\n",
    "\n",
    "\n",
    "            x1,y1 = coordinates[i+1]\n",
    "            x1_modi = x + np.sign(x1 - x)*r\n",
    "            y1_modi = y + np.sign(y1 - y)*r\n",
    "            segment_start.append((x_modi,y_modi))\n",
    "            segment_end.append((x1_modi,y1_modi))\n",
    "            segment_type.append('arc')\n",
    "            angle = (angle+next_angle)/2\n",
    "            segment_angle.append(angle)\n",
    "            length = find_segment_length(segment_start[-1],segment_end[-1], type = 'arc')\n",
    "            segment_length.append(length)\n",
    "\n",
    "            # seg_all.append(coordinates[i-1])\n",
    "            seg_all.append((x_modi,y_modi))\n",
    "            seg_all.append((x1_modi,y1_modi))\n",
    "            segment = {}\n",
    "            segment['start'] = segment_start\n",
    "            segment['end'] = segment_end\n",
    "            segment['angle'] = segment_angle\n",
    "            segment['length'] = segment_length\n",
    "            segment['type'] = segment_type\n",
    "\n",
    "    return segment    \n",
    "def make_ab_element(cpw,arc_bridge = False):\n",
    "    \n",
    "    r = design.parse_value(cpw.options.fillet)\n",
    "    center_pin = design.parse_value(cpw.options.trace_width)\n",
    "    gap_w = design.parse_value(cpw.options.trace_gap)\n",
    "\n",
    "    xover_len = center_pin + 2*gap_w\n",
    "    box_side = 0\n",
    "    xover_width = 0\n",
    "    if 0.05<=xover_len<=0.016:\n",
    "        box_side = 0.008\n",
    "        xover_width = 0.005\n",
    "    elif 0.016<xover_len<=0.027:\n",
    "        box_side = 0.01\n",
    "        xover_width = 0.0075\n",
    "    elif 0.027<xover_len<=0.032:\n",
    "        box_side = 0.014\n",
    "        xover_width = 0.01\n",
    "    else:\n",
    "        print('error!!!')\n",
    "    out_box_len = box_side + 0.002*2\n",
    "    r_in = r-center_pin/2-gap_w\n",
    "    if r_in < out_box_len:\n",
    "        print('error!!!')\n",
    "    else:\n",
    "        ab_inside_extend = r_in - np.sqrt(r_in**2 - out_box_len**2)\n",
    "\n",
    "        \n",
    "    square_in = draw.rectangle(box_side, box_side)\n",
    "    square_out = draw.rectangle(out_box_len, out_box_len)\n",
    "    squares = [square_in, square_out]\n",
    "    sq_in_left, sq_out_left = draw.translate(squares,-xover_len/2-out_box_len/2,0)\n",
    "    sq_in_right, sq_out_right = draw.translate(squares,xover_len/2+out_box_len/2,0)\n",
    "    \n",
    "    if arc_bridge == True:\n",
    "        xover_rec = draw.rectangle(xover_len+ ab_inside_extend, xover_width )\n",
    "        sq_in_right, sq_out_right = draw.translate([sq_in_right, sq_out_right],\n",
    "                                                ab_inside_extend/2,0)\n",
    "        base = draw.shapely.unary_union((sq_out_left, xover_rec, sq_out_right))\n",
    "    else:\n",
    "        xover_rec = draw.rectangle(xover_len, xover_width)\n",
    "        base = draw.shapely.unary_union((sq_out_left, xover_rec, sq_out_right))\n",
    "\n",
    "    top = draw.shapely.unary_union((sq_in_left, sq_in_right))\n",
    "    return top, base\n",
    "    # angle_in_data = 315\n",
    "    # rotation_angle = -(90-angle_in_data)\n",
    "    # base = draw.rotate(base, rotation_angle)\n",
    "    # top = draw.rotate(top, rotation_angle)\n",
    "\n",
    "    # pos = (0,0)\n",
    "    # x, y = pos\n",
    "    # base = draw.translate(base, x, y)\n",
    "    # top = draw.translate(top, x, y)\n",
    "\n",
    "def find_next_ab(segment_all, distance, ab_all, cpw_turn_radi, clockwise = 1):\n",
    "    last_pt = ab_all['coord'][-1]\n",
    "    last_len = ab_all['length_remain'][-1]\n",
    "    seg_num = ab_all['seg_num'][-1]\n",
    "    smaller = True\n",
    "    last_angle = segment_all['angle'][seg_num]\n",
    "    if last_len >= distance:\n",
    "        ab_all['length_remain'].append(last_len-distance)\n",
    "        ab_all['seg_num'].append(seg_num)\n",
    "        x,y = last_pt\n",
    "        if segment_all['type'][seg_num] == 'straight':\n",
    "            angle = last_angle/180*np.pi\n",
    "            x_new = x + distance*np.cos(angle)\n",
    "            y_new = y + distance*np.sin(angle)\n",
    "            ab_all['coord'].append((x_new,y_new))\n",
    "            angle = angle*180/np.pi\n",
    "            ab_all['angle'].append(angle)\n",
    "            ab_all['inside_extend'].append(False)\n",
    "            \n",
    "            return ab_all, True\n",
    "        else:\n",
    "            len_needed = distance\n",
    "            r = cpw_turn_radi\n",
    "            angle = len_needed/r\n",
    "            x_new = x + r*np.cos(angle)\n",
    "            y_new = y + r*np.sin(angle)\n",
    "            ab_all['coord'].append((x_new,y_new))\n",
    "            if len(ab_all['angle']) == 0:\n",
    "                angle = (angle*180/np.pi+last_angle+360)%360\n",
    "            elif ab_all['seg_num'][-1]==seg_num:\n",
    "                angle = ab_all['angle'][-1]\n",
    "            else:\n",
    "                angle = (angle*180/np.pi+segment_all['angle'][seg_num-1]+360)%360\n",
    "            ab_all['angle'].append(angle)\n",
    "            ab_all['inside_extend'].append(True)\n",
    "            return ab_all, True\n",
    "    elif seg_num == len(segment_all['type'])-1:\n",
    "        return ab_all, False\n",
    "        \n",
    "    else:\n",
    "        smaller = True\n",
    "        len_needed = distance-last_len\n",
    "        while smaller:\n",
    "            seg_num += 1\n",
    "            next_len = segment_all['length'][seg_num]\n",
    "            if next_len >= len_needed:\n",
    "                break\n",
    "            elif (next_len < len_needed) and (seg_num == len(segment_all['type'])-1):\n",
    "                return ab_all, False\n",
    "            else:\n",
    "                len_needed -= next_len\n",
    "        ab_all['seg_num'].append(seg_num)\n",
    "        ab_all['length_remain'].append(next_len-len_needed)\n",
    "        x0, y0 = segment_all['start'][seg_num]\n",
    "        last_angle = segment_all['angle'][seg_num]\n",
    "        if segment_all['type'][seg_num] == 'straight':\n",
    "            angle = last_angle/180*np.pi\n",
    "            x_new = x0 + len_needed*np.cos(angle)\n",
    "            y_new = y0 + len_needed*np.sin(angle)\n",
    "            ab_all['coord'].append((x_new,y_new))\n",
    "            angle = angle*180/np.pi\n",
    "            ab_all['angle'].append(angle)\n",
    "            ab_all['inside_extend'].append(False)\n",
    "            \n",
    "            return ab_all, True\n",
    "        else:\n",
    "            \n",
    "            r = cpw_turn_radi\n",
    "            angle = len_needed/r #+ segment_all['angle'][seg_num-1]/180*np.pi\n",
    "            # print(x0,y0,angle*180/np.pi)\n",
    "            x_new = x0 + r*np.cos(angle)\n",
    "            y_new = y0 + r*np.sin(angle)\n",
    "            ab_all['coord'].append((x_new,y_new))\n",
    "            # print(angle*180/np.pi)\n",
    "            angle = -clockwise*angle*180/np.pi+ segment_all['angle'][seg_num-1]\n",
    "            angle%=360\n",
    "            # print(angle)\n",
    "            ab_all['angle'].append(angle)\n",
    "            ab_all['inside_extend'].append(True)\n",
    "            return ab_all, True\n",
    "def ab_placement(top, base, coord, angle):\n",
    "    angle_in_data = angle\n",
    "    rotation_angle = -(90-angle_in_data)\n",
    "    base_new = draw.rotate(base, rotation_angle)\n",
    "    top_new = draw.rotate(top, rotation_angle)\n",
    "\n",
    "    pos = coord\n",
    "    x, y = pos\n",
    "    base_new = draw.translate(base_new, x, y)\n",
    "    top_new = draw.translate(top_new, x, y)\n",
    "    return top_new, base_new\n",
    "\n",
    "\n",
    "\n",
    "class airbridges(QComponent):\n",
    "    default_options = Dict(\n",
    "        cpw_name = 'cpw_1',\n",
    "        distance = '70um',\n",
    "        layer_ab_square = '5',\n",
    "        layer_ab = '4',\n",
    "        total_length = '80 um',\n",
    "        chip = 'main', \n",
    "        seg_num = '0',\n",
    "        dis = '20um',)\n",
    "    component_metadata = Dict(short_name='Airbridge',\n",
    "                              _qgeometry_table_path='True',\n",
    "                              _qgeometry_table_poly='True',\n",
    "                              _qgeometry_table_junction='False')\n",
    "    TOOLTIP = \"\"\"Airbridges for cpws. \"\"\"\n",
    " \n",
    "    def make(self):\n",
    "        p = self.p\n",
    "        dis = p.distance\n",
    "        cpw = self.design.components[p.cpw_name]\n",
    "        path = cpw.qgeometry_table('path')['geometry'].values[0]\n",
    "        coordinates = path.coords[:]\n",
    "        ab_top, ab_bot = make_ab_element(cpw)\n",
    "        ab_top_arc, ab_bot_arc = make_ab_element(cpw, arc_bridge = True)\n",
    "        r = design.parse_value(cpw.options.fillet)\n",
    "\n",
    "        #specify the first airbridge coordinate on the CPW\n",
    "        ab = {}\n",
    "        x0, y0 = coordinates[0]\n",
    "        \n",
    "        seg_num = int(p.seg_num)\n",
    "        ab['seg_num'] = [seg_num]\n",
    "        segment = find_coordinates(coordinates, r)\n",
    "        angle = segment['angle'][seg_num]\n",
    "        if segment['type'][seg_num] == 'straight':\n",
    "            ab['angle'] = [angle]\n",
    "            flag = False\n",
    "        else:\n",
    "            ab['angle'] = [angle-45+(dis/r)*180/np.pi]\n",
    "            flag = True\n",
    "        length_remaining = segment['length'][seg_num] - dis\n",
    "        if length_remaining<0:\n",
    "            raise ValueError('Please Adjust airbridge position')\n",
    "        ab['length_remain'] = [length_remaining]\n",
    "        ab['inside_extend'] = [flag]\n",
    "        x0 += dis*np.cos(angle)\n",
    "        y0 += dis*np.sin(angle)\n",
    "        ab['coord'] = [(x0,y0)]\n",
    "        #get all the airbridge coordinates\n",
    "        test = True\n",
    "        while test:\n",
    "            ab, test = find_next_ab(segment, dis, ab, r)\n",
    "        \n",
    "        \n",
    "\n",
    "        #place the airbridges:\n",
    "        for i in range(len(ab['coord'])):\n",
    "            angle = ab['angle'][i]\n",
    "            coord = ab['coord'][i]\n",
    "            if ab['inside_extend'][i]:\n",
    "                top, base = ab_placement(ab_top_arc, ab_bot_arc, coord, angle)\n",
    "            else:\n",
    "                top, base = ab_placement(ab_top, ab_bot, coord, angle)\n",
    "            if i==0:\n",
    "                top_all = top\n",
    "                base_all = base\n",
    "            else:\n",
    "                top_all = draw.shapely.unary_union((top_all, top))\n",
    "                base_all = draw.shapely.unary_union((base, base_all))\n",
    "\n",
    "        self.add_qgeometry('poly',\n",
    "                           dict(top_j=top_all),\n",
    "                           chip=p.chip, layer = p.layer_ab_square)\n",
    "        self.add_qgeometry('poly',\n",
    "                           dict(bot_j=base_all),\n",
    "                           chip=p.chip, layer = p.layer_ab)\n",
    "\n",
    "        "
   ]
  },
  {
   "cell_type": "code",
   "execution_count": 26,
   "metadata": {},
   "outputs": [
    {
     "data": {
      "text/plain": [
       "False"
      ]
     },
     "execution_count": 26,
     "metadata": {},
     "output_type": "execute_result"
    }
   ],
   "source": [
    "design.delete_component('airbridges')"
   ]
  },
  {
   "cell_type": "code",
   "execution_count": 27,
   "metadata": {},
   "outputs": [
    {
     "data": {
      "text/plain": [
       "\u001b[95m\u001b[1mname:    \u001b[94m\u001b[1mairbridges\u001b[0m\n",
       "\u001b[95m\u001b[1mclass:   \u001b[94m\u001b[1mairbridges            \u001b[0m\n",
       "\u001b[95m\u001b[1moptions: \u001b[0m\n",
       "  'pos_x'             : '0.0um',                      \n",
       "  'pos_y'             : '0.0um',                      \n",
       "  'orientation'       : '0.0',                        \n",
       "  'chip'              : 'main',                       \n",
       "  'layer'             : '1',                          \n",
       "  'cpw_name'          : 'cpw_1',                      \n",
       "  'distance'          : '70um',                       \n",
       "  'layer_ab_square'   : '5',                          \n",
       "  'layer_ab'          : '4',                          \n",
       "  'total_length'      : '80 um',                      \n",
       "  'seg_num'           : '0',                          \n",
       "  'dis'               : '20um',                       \n",
       "  'hfss_wire_bonds'   : False,                        \n",
       "  'q3d_wire_bonds'    : False,                        \n",
       "\u001b[95m\u001b[1mmodule:  \u001b[94m\u001b[1m__main__\u001b[0m\n",
       "\u001b[95m\u001b[1mid:      \u001b[94m\u001b[1m6\u001b[0m"
      ]
     },
     "execution_count": 27,
     "metadata": {},
     "output_type": "execute_result"
    }
   ],
   "source": [
    "airbridges(design, 'airbridges')"
   ]
  },
  {
   "cell_type": "code",
   "execution_count": 28,
   "metadata": {},
   "outputs": [],
   "source": [
    "gui.rebuild()"
   ]
  },
  {
   "cell_type": "code",
   "execution_count": null,
   "metadata": {},
   "outputs": [],
   "source": []
  },
  {
   "cell_type": "code",
   "execution_count": 160,
   "metadata": {},
   "outputs": [
    {
     "data": {
      "image/svg+xml": [
       "<svg xmlns=\"http://www.w3.org/2000/svg\" xmlns:xlink=\"http://www.w3.org/1999/xlink\" width=\"100.0\" height=\"100.0\" viewBox=\"-0.279132 -0.780132 0.698264 0.732564\" preserveAspectRatio=\"xMinYMin meet\"><g transform=\"matrix(1,0,0,-1,0,-0.8277000000000001)\"><polyline fill=\"none\" stroke=\"#66cc99\" stroke-width=\"0.01465128\" points=\"0.0,-0.353 0.0,-0.248 0.252,-0.248 0.252,-0.752 -0.252,-0.752 -0.252,-0.192 0.308,-0.192 0.308,-0.753 0.392,-0.753 0.392,-0.1247 0.15,-0.1247 0.15,-0.0747\" opacity=\"0.8\" /></g></svg>"
      ],
      "text/plain": [
       "<LINESTRING (0 -0.353, 0 -0.248, 0.252 -0.248, 0.252 -0.752, -0.252 -0.752, ...>"
      ]
     },
     "execution_count": 160,
     "metadata": {},
     "output_type": "execute_result"
    }
   ],
   "source": [
    "cpw.qgeometry_table('path')['geometry'].values[0]"
   ]
  },
  {
   "cell_type": "code",
   "execution_count": 21,
   "metadata": {},
   "outputs": [],
   "source": [
    "path = cpw.qgeometry_table('path')['geometry'][4]"
   ]
  },
  {
   "cell_type": "code",
   "execution_count": 23,
   "metadata": {},
   "outputs": [
    {
     "data": {
      "text/plain": [
       "'12.4 um'"
      ]
     },
     "execution_count": 23,
     "metadata": {},
     "output_type": "execute_result"
    }
   ],
   "source": [
    "cpw.options.trace_width"
   ]
  },
  {
   "cell_type": "code",
   "execution_count": 24,
   "metadata": {},
   "outputs": [],
   "source": [
    "coordinates = path.coords[:]"
   ]
  },
  {
   "cell_type": "code",
   "execution_count": 25,
   "metadata": {},
   "outputs": [
    {
     "data": {
      "text/plain": [
       "[(0.0, -0.353),\n",
       " (0.0, -0.248),\n",
       " (0.252, -0.248),\n",
       " (0.252, -0.752),\n",
       " (-0.252, -0.752),\n",
       " (-0.252, -0.192),\n",
       " (0.308, -0.192),\n",
       " (0.308, -0.753),\n",
       " (0.392, -0.753),\n",
       " (0.392, -0.1247),\n",
       " (0.15, -0.1247),\n",
       " (0.15, -0.0747)]"
      ]
     },
     "execution_count": 25,
     "metadata": {},
     "output_type": "execute_result"
    }
   ],
   "source": [
    "coordinates"
   ]
  },
  {
   "cell_type": "code",
   "execution_count": 26,
   "metadata": {},
   "outputs": [
    {
     "data": {
      "text/plain": [
       "0.03"
      ]
     },
     "execution_count": 26,
     "metadata": {},
     "output_type": "execute_result"
    }
   ],
   "source": [
    "design.parse_value(cpw.options.fillet)"
   ]
  },
  {
   "cell_type": "code",
   "execution_count": 114,
   "metadata": {},
   "outputs": [
    {
     "data": {
      "text/plain": [
       "True"
      ]
     },
     "execution_count": 114,
     "metadata": {},
     "output_type": "execute_result"
    }
   ],
   "source": [
    "1<2<3"
   ]
  },
  {
   "cell_type": "code",
   "execution_count": 117,
   "metadata": {},
   "outputs": [],
   "source": [
    "corrected = []\n",
    "r = design.parse_value(cpw.options.fillet)\n",
    "center_pin = design.parse_value(cpw.options.trace_width)\n",
    "gap_w = design.parse_value(cpw.options.trace_gap)\n",
    "\n",
    "xover_len = center_pin + 2*gap_w\n",
    "box_side = 0\n",
    "xover_width = 0\n",
    "if 0.05<=xover_len<=0.016:\n",
    "    box_side = 0.008\n",
    "    xover_width = 0.005\n",
    "elif 0.016<xover_len<=0.027:\n",
    "    box_side = 0.01\n",
    "    xover_width = 0.0075\n",
    "elif 0.027<xover_len<=0.032:\n",
    "    box_side = 0.014\n",
    "    xover_width = 0.01\n",
    "else:\n",
    "    print('error!!!')\n",
    "out_box_len = box_side + 0.003*2\n",
    "\n",
    "ab_box_len = 0.01\n",
    "ab_inside_extend = r - np.sqrt(r**2 - ab_box_len**2)\n",
    "\n",
    "r_in = r-center_pin/2-gap_w\n",
    "# for i in coordinates:"
   ]
  },
  {
   "cell_type": "code",
   "execution_count": 119,
   "metadata": {},
   "outputs": [],
   "source": [
    "from qiskit_metal import draw"
   ]
  },
  {
   "cell_type": "code",
   "execution_count": 164,
   "metadata": {},
   "outputs": [],
   "source": [
    "square_in = draw.rectangle(box_side, box_side)\n",
    "square_out = draw.rectangle(out_box_len, out_box_len)\n",
    "squares = [square_in, square_out]\n",
    "sq_in_left, sq_out_left = draw.translate(squares,-xover_len/2-out_box_len/2,0)\n",
    "sq_in_right, sq_out_right = draw.translate(squares,xover_len/2+out_box_len/2,0)\n",
    "arc_bridge = True\n",
    "if arc_bridge == True:\n",
    "    xover_rec = draw.rectangle(xover_len+ ab_inside_extend, xover_width )\n",
    "    sq_in_right, sq_out_right = draw.translate([sq_in_right, sq_out_right],\n",
    "                                               ab_inside_extend/2,0)\n",
    "    base = draw.shapely.unary_union((sq_out_left, xover_rec, sq_out_right))\n",
    "else:\n",
    "    xover_rec = draw.rectangle(xover_len, xover_width)\n",
    "    base = draw.shapely.unary_union((sq_out_left, xover_rec, sq_out_right))\n",
    "\n",
    "top = [sq_in_left, sq_in_right]\n",
    "angle_in_data = 315\n",
    "rotation_angle = -(90-angle_in_data)\n",
    "base = draw.rotate(base, rotation_angle)\n",
    "top = draw.rotate(top, rotation_angle)\n",
    "\n",
    "pos = (0,0)\n",
    "x, y = pos\n",
    "base = draw.translate(base, x, y)\n",
    "top = draw.translate(top, x, y)\n"
   ]
  },
  {
   "cell_type": "code",
   "execution_count": 165,
   "metadata": {},
   "outputs": [
    {
     "data": {
      "image/svg+xml": [
       "<svg xmlns=\"http://www.w3.org/2000/svg\" xmlns:xlink=\"http://www.w3.org/1999/xlink\" width=\"100.0\" height=\"100.0\" viewBox=\"-0.02830735478042725 -0.02873628696856177 0.057472573937123544 0.05747257393712353\" preserveAspectRatio=\"xMinYMin meet\"><g transform=\"matrix(1,0,0,-1,0,-3.469446951953614e-18)\"><path fill-rule=\"evenodd\" fill=\"#66cc99\" stroke=\"#555555\" stroke-width=\"0.001149451478742471\" opacity=\"0.6\" d=\"M 0.004409188309203679,0.015293964620053913 L 0.01572289680818844,0.02660767311903867 L 0.027036605307173202,0.01529396462005391 L 0.015722896808188436,0.00398025612106915 L 0.012717692988145611,0.0069854599411119786 L -0.006556527752977459,-0.012288760800011088 L -0.003551323932934632,-0.015293964620053915 L -0.014865032431919395,-0.026607673119038673 L -0.026178740930904155,-0.01529396462005391 L -0.014865032431919391,-0.003980256121069152 L -0.011859828611876564,-0.00698545994111198 L 0.007414392129246506,0.012288760800011086 L 0.004409188309203679,0.015293964620053913 z\" /></g></svg>"
      ],
      "text/plain": [
       "<POLYGON ((0.004 0.015, 0.016 0.027, 0.027 0.015, 0.016 0.004, 0.013 0.007, ...>"
      ]
     },
     "execution_count": 165,
     "metadata": {},
     "output_type": "execute_result"
    }
   ],
   "source": [
    "base"
   ]
  },
  {
   "cell_type": "code",
   "execution_count": null,
   "metadata": {},
   "outputs": [
    {
     "data": {
      "text/plain": [
       "{'short_segments_to_not_fillet': 'True',\n",
       " 'check_short_segments_by_scaling_fillet': '2.0',\n",
       " 'gds_unit': 0.001,\n",
       " 'ground_plane': 'True',\n",
       " 'negative_mask': {'main': []},\n",
       " 'fabricate': 'False',\n",
       " 'corners': 'circular bend',\n",
       " 'tolerance': '0.00001',\n",
       " 'precision': '0.000000001',\n",
       " 'width_LineString': '10um',\n",
       " 'path_filename': '../resources/Fake_Junctions.GDS',\n",
       " 'junction_pad_overlap': '5um',\n",
       " 'max_points': '199',\n",
       " 'cheese': {'datatype': '100',\n",
       "  'shape': '0',\n",
       "  'cheese_0_x': '25um',\n",
       "  'cheese_0_y': '25um',\n",
       "  'cheese_1_radius': '100um',\n",
       "  'view_in_file': {'main': {1: True}},\n",
       "  'delta_x': '100um',\n",
       "  'delta_y': '100um',\n",
       "  'edge_nocheese': '200um'},\n",
       " 'no_cheese': {'datatype': '99',\n",
       "  'buffer': '25um',\n",
       "  'cap_style': '2',\n",
       "  'join_style': '2',\n",
       "  'view_in_file': {'main': {1: True}}},\n",
       " 'bounding_box_scale_x': '1.2',\n",
       " 'bounding_box_scale_y': '1.2'}"
      ]
     },
     "metadata": {},
     "output_type": "display_data"
    }
   ],
   "source": []
  },
  {
   "cell_type": "code",
   "execution_count": null,
   "metadata": {},
   "outputs": [],
   "source": []
  },
  {
   "cell_type": "code",
   "execution_count": null,
   "metadata": {},
   "outputs": [
    {
     "name": "stderr",
     "output_type": "stream",
     "text": [
      "01:00PM 07s WARNING [_import_junction_gds_file]: Not able to find file:\"Customized_Component/Fake_Junctions.GDS\".  Not used to replace junction. Checked directory:\"/Users/wendy/Desktop/Wendy-qiskit-code/Customized_Component\".\n"
     ]
    },
    {
     "data": {
      "text/plain": [
       "1"
      ]
     },
     "metadata": {},
     "output_type": "display_data"
    }
   ],
   "source": []
  },
  {
   "cell_type": "code",
   "execution_count": 127,
   "metadata": {},
   "outputs": [
    {
     "data": {
      "image/svg+xml": [
       "<svg xmlns=\"http://www.w3.org/2000/svg\" xmlns:xlink=\"http://www.w3.org/1999/xlink\" width=\"100.0\" height=\"100.0\" viewBox=\"-0.031536 -0.010336 0.063072 0.020672\" preserveAspectRatio=\"xMinYMin meet\"><g transform=\"matrix(1,0,0,-1,0,0.0)\"><path fill-rule=\"evenodd\" fill=\"#66cc99\" stroke=\"#555555\" stroke-width=\"0.00126144\" opacity=\"0.6\" d=\"M -0.0132,-0.008 L -0.0292,-0.008 L -0.0292,0.008 L -0.0132,0.008 L -0.0132,0.00375 L 0.0132,0.00375 L 0.0132,0.008 L 0.0292,0.008 L 0.0292,-0.008 L 0.0132,-0.008 L 0.0132,-0.00375 L -0.0132,-0.00375 L -0.0132,-0.008 z\" /></g></svg>"
      ],
      "text/plain": [
       "<POLYGON ((-0.013 -0.008, -0.029 -0.008, -0.029 0.008, -0.013 0.008, -0.013 ...>"
      ]
     },
     "execution_count": 127,
     "metadata": {},
     "output_type": "execute_result"
    }
   ],
   "source": [
    "base"
   ]
  },
  {
   "cell_type": "code",
   "execution_count": 124,
   "metadata": {},
   "outputs": [
    {
     "data": {
      "image/svg+xml": [
       "<svg xmlns=\"http://www.w3.org/2000/svg\" xmlns:xlink=\"http://www.w3.org/1999/xlink\" width=\"100.0\" height=\"100.0\" viewBox=\"-0.00864 -0.00864 0.01728 0.01728\" preserveAspectRatio=\"xMinYMin meet\"><g transform=\"matrix(1,0,0,-1,0,0.0)\"><path fill-rule=\"evenodd\" fill=\"#66cc99\" stroke=\"#555555\" stroke-width=\"0.0003456\" opacity=\"0.6\" d=\"M -0.008,-0.008 L 0.008,-0.008 L 0.008,0.008 L -0.008,0.008 L -0.008,-0.008 z\" /></g></svg>"
      ],
      "text/plain": [
       "<POLYGON ((-0.008 -0.008, 0.008 -0.008, 0.008 0.008, -0.008 0.008, -0.008 -0...>"
      ]
     },
     "execution_count": 124,
     "metadata": {},
     "output_type": "execute_result"
    }
   ],
   "source": [
    "square_out"
   ]
  },
  {
   "cell_type": "code",
   "execution_count": 118,
   "metadata": {},
   "outputs": [
    {
     "data": {
      "text/plain": [
       "0.016"
      ]
     },
     "execution_count": 118,
     "metadata": {},
     "output_type": "execute_result"
    }
   ],
   "source": [
    "out_box_len"
   ]
  },
  {
   "cell_type": "code",
   "execution_count": null,
   "metadata": {},
   "outputs": [],
   "source": [
    "def equals(a,b):\n",
    "    return abs(a-b)<1e-6\n",
    "def find_line_direction(p1,p2):\n",
    "    x1,y1 = p1\n",
    "    x2,y2 = p2\n",
    "    if x1 == x2:\n",
    "        if y1>y2:\n",
    "            return 270\n",
    "        elif y1<y2:\n",
    "            return 90\n",
    "        else:\n",
    "            return 0\n",
    "    elif equals(y1, y2):\n",
    "        if x1>x2:\n",
    "            return 180\n",
    "        elif x1<x2:\n",
    "            return 0\n",
    "        else: return 0\n",
    "    else:\n",
    "        return ((np.arctan((y2-y1)/(x2-x1))*180/np.pi)+360)%360\n",
    "def find_segment_length(p1,p2, type):\n",
    "    x1,y1 = p1\n",
    "    x2,y2 = p2\n",
    "    d1 = np.absolute(x2-x1)\n",
    "    d2 = np.absolute(y2-y1)\n",
    "    if type == 'straight':\n",
    "        return np.sqrt(d1**2+d2**2)\n",
    "    elif equals(d1, d2) and (type == 'arc'):\n",
    "        # print('arc!')\n",
    "        return d1*np.pi/2\n",
    "    else:\n",
    "        r = max(d1, d2)\n",
    "        r_min = min(d1, d2)\n",
    "        theta = np.arctan(r_min/r)\n",
    "        return d1*theta/2\n",
    "segment_start = []\n",
    "segment_end = []\n",
    "segment_type = []\n",
    "segment_angle = []\n",
    "segment_length = []\n",
    "seg_all = []\n",
    "\n",
    "for i, cords in enumerate(coordinates):\n",
    "    \n",
    "    if i ==0:\n",
    "        seg_all.append(coordinates[i])\n",
    "        segment_start.append(coordinates[i])\n",
    "        continue\n",
    "    elif i == len(coordinates)-1:\n",
    "        # seg_all.append(coordinates[i-1])\n",
    "        seg_all.append(coordinates[i])\n",
    "        segment_start.append(segment_end[-1])\n",
    "        segment_end.append(coordinates[i])\n",
    "        segment_type.append('straight')\n",
    "        angle = find_line_direction(coordinates[i-1],coordinates[i])\n",
    "        length = find_segment_length(coordinates[i-1],coordinates[i], type = 'straight')\n",
    "        segment_length.append(length)\n",
    "        segment_angle.append(angle)\n",
    "        break\n",
    "    angle = find_line_direction(coordinates[i-1],cords)\n",
    "    next_angle = find_line_direction(cords,coordinates[i+1])\n",
    "    # print(angle, next_angle)\n",
    "    # print(np.absolute(angle-next_angle))\n",
    "    if angle == next_angle:\n",
    "        continue\n",
    "    elif np.absolute(angle-next_angle)%90==0:\n",
    "        x, y = cords\n",
    "        x0,y0 = coordinates[i-1]\n",
    "        x_modi = x - np.sign(x - x0)*r\n",
    "        y_modi = y - np.sign(y - y0)*r\n",
    "        if i == 1:\n",
    "            pass\n",
    "        else:\n",
    "            segment_start.append(segment_end[-1])\n",
    "        segment_end.append((x_modi,y_modi))\n",
    "        segment_type.append('straight')\n",
    "        segment_angle.append(angle)\n",
    "        length = find_segment_length(segment_start[-1],segment_end[-1], type = 'straight')\n",
    "        segment_length.append(length)\n",
    "\n",
    "\n",
    "        x1,y1 = coordinates[i+1]\n",
    "        x1_modi = x + np.sign(x1 - x)*r\n",
    "        y1_modi = y + np.sign(y1 - y)*r\n",
    "        segment_start.append((x_modi,y_modi))\n",
    "        segment_end.append((x1_modi,y1_modi))\n",
    "        segment_type.append('arc')\n",
    "        angle = (angle+next_angle)/2\n",
    "        segment_angle.append(angle)\n",
    "        length = find_segment_length(segment_start[-1],segment_end[-1], type = 'arc')\n",
    "        segment_length.append(length)\n",
    "\n",
    "        # seg_all.append(coordinates[i-1])\n",
    "        seg_all.append((x_modi,y_modi))\n",
    "        seg_all.append((x1_modi,y1_modi))\n",
    "        \n",
    "        # segment_type.append('straignt')\n",
    "        # segment_angle.append((next_angle))\n",
    "        \n",
    "    "
   ]
  },
  {
   "cell_type": "code",
   "execution_count": 107,
   "metadata": {},
   "outputs": [],
   "source": [
    "\n",
    "\n",
    "def find_next_ab(segment_all, distance, ab_all, clockwise = 1):\n",
    "    last_pt = ab_all['coord'][-1]\n",
    "    last_len = ab_all['length_remain'][-1]\n",
    "    seg_num = ab_all['seg_num'][-1]\n",
    "    smaller = True\n",
    "    last_angle = segment_all['angle'][seg_num]\n",
    "    if last_len >= distance:\n",
    "        ab_all['length_remain'].append(last_len-distance)\n",
    "        ab_all['seg_num'].append(seg_num)\n",
    "        x,y = last_pt\n",
    "        if segment_all['type'][seg_num] == 'straight':\n",
    "            angle = last_angle/180*np.pi\n",
    "            x_new = x + distance*np.cos(angle)\n",
    "            y_new = y + distance*np.sin(angle)\n",
    "            ab_all['coord'].append((x_new,y_new))\n",
    "            angle = angle*180/np.pi\n",
    "            ab_all['angle'].append(angle)\n",
    "            ab_all['inside_extend'].append(False)\n",
    "            \n",
    "            return ab_all, True\n",
    "        else:\n",
    "            len_needed = distance\n",
    "            r = cpw_turn_radi\n",
    "            angle = len_needed/r\n",
    "            x_new = x + r*np.cos(angle)\n",
    "            y_new = y + r*np.sin(angle)\n",
    "            ab_all['coord'].append((x_new,y_new))\n",
    "            if len(ab_all['angle']) == 0:\n",
    "                angle = (angle*180/np.pi+last_angle+360)%360\n",
    "            elif ab_all['seg_num'][-1]==seg_num:\n",
    "                angle = ab_all['angle'][-1]\n",
    "            else:\n",
    "                angle = (angle*180/np.pi+segment_all['angle'][seg_num-1]+360)%360\n",
    "            ab_all['angle'].append(angle)\n",
    "            ab_all['inside_extend'].append(True)\n",
    "            return ab_all, True\n",
    "    elif seg_num == len(segment_all['type'])-1:\n",
    "        return ab_all, False\n",
    "        \n",
    "    else:\n",
    "        smaller = True\n",
    "        len_needed = distance-last_len\n",
    "        while smaller:\n",
    "            seg_num += 1\n",
    "            next_len = segment_all['length'][seg_num]\n",
    "            if next_len >= len_needed:\n",
    "                break\n",
    "            elif (next_len < len_needed) and (seg_num == len(segment_all['type'])-1):\n",
    "                return ab_all, False\n",
    "            else:\n",
    "                len_needed -= next_len\n",
    "        ab_all['seg_num'].append(seg_num)\n",
    "        ab_all['length_remain'].append(next_len-len_needed)\n",
    "        x0, y0 = segment_all['start'][seg_num]\n",
    "        last_angle = segment_all['angle'][seg_num]\n",
    "        if segment_all['type'][seg_num] == 'straight':\n",
    "            angle = last_angle/180*np.pi\n",
    "            x_new = x0 + len_needed*np.cos(angle)\n",
    "            y_new = y0 + len_needed*np.sin(angle)\n",
    "            ab_all['coord'].append((x_new,y_new))\n",
    "            angle = angle*180/np.pi\n",
    "            ab_all['angle'].append(angle)\n",
    "            ab_all['inside_extend'].append(False)\n",
    "            \n",
    "            return ab_all, True\n",
    "        else:\n",
    "            \n",
    "            r = cpw_turn_radi\n",
    "            angle = len_needed/r #+ segment_all['angle'][seg_num-1]/180*np.pi\n",
    "            # print(x0,y0,angle*180/np.pi)\n",
    "            x_new = x0 + r*np.cos(angle)\n",
    "            y_new = y0 + r*np.sin(angle)\n",
    "            ab_all['coord'].append((x_new,y_new))\n",
    "            # print(angle*180/np.pi)\n",
    "            angle = -clockwise*angle*180/np.pi+ segment_all['angle'][seg_num-1]\n",
    "            angle%=360\n",
    "            # print(angle)\n",
    "            ab_all['angle'].append(angle)\n",
    "            ab_all['inside_extend'].append(True)\n",
    "            return ab_all, True"
   ]
  },
  {
   "cell_type": "code",
   "execution_count": 69,
   "metadata": {},
   "outputs": [
    {
     "data": {
      "text/plain": [
       "0.6967067093471654"
      ]
     },
     "execution_count": 69,
     "metadata": {},
     "output_type": "execute_result"
    }
   ],
   "source": [
    "np.cos(0.8)"
   ]
  },
  {
   "cell_type": "code",
   "execution_count": 100,
   "metadata": {},
   "outputs": [],
   "source": [
    "# ab = {}\n",
    "# ab['coord'] = [(-0.12562833058845949, -0.752)]\n",
    "# ab['inside_extend'] = [0]\n",
    "# ab['angle'] = [180.000000]\n",
    "# ab['seg_num'] = [6]\n",
    "# ab['length_remain'] = [0.096372]"
   ]
  },
  {
   "cell_type": "code",
   "execution_count": 111,
   "metadata": {},
   "outputs": [],
   "source": [
    "ab = {}\n",
    "ab['coord'] = [(0,-0.353)]\n",
    "ab['inside_extend'] = [False]\n",
    "ab['angle'] = [90]\n",
    "ab['seg_num'] = [0]\n",
    "ab['length_remain'] = [0.075]"
   ]
  },
  {
   "cell_type": "code",
   "execution_count": 98,
   "metadata": {},
   "outputs": [
    {
     "name": "stdout",
     "output_type": "stream",
     "text": [
      "6.928969602448769\n",
      "173.07103039755123\n"
     ]
    },
    {
     "data": {
      "text/plain": [
       "({'coord': [(-0.12562833058845949, -0.752),\n",
       "   (-0.19221910583840002, -0.7483808367078039)],\n",
       "  'inside_extend': [0, 0.0017157287525380975],\n",
       "  'angle': [180.0, 173.07103039755123],\n",
       "  'seg_num': [6, 7],\n",
       "  'length_remain': [0.096372, 0.04349588980384689]},\n",
       " True)"
      ]
     },
     "execution_count": 98,
     "metadata": {},
     "output_type": "execute_result"
    }
   ],
   "source": [
    "find_next_ab(segment, 0.1, ab)"
   ]
  },
  {
   "cell_type": "code",
   "execution_count": 85,
   "metadata": {},
   "outputs": [],
   "source": [
    "segment = {}\n",
    "segment['start'] = segment_start\n",
    "segment['end'] = segment_end\n",
    "segment['angle'] = segment_angle\n",
    "segment['length'] = segment_length\n",
    "segment['type'] = segment_type"
   ]
  },
  {
   "cell_type": "code",
   "execution_count": 86,
   "metadata": {},
   "outputs": [
    {
     "data": {
      "text/html": [
       "<div>\n",
       "<style scoped>\n",
       "    .dataframe tbody tr th:only-of-type {\n",
       "        vertical-align: middle;\n",
       "    }\n",
       "\n",
       "    .dataframe tbody tr th {\n",
       "        vertical-align: top;\n",
       "    }\n",
       "\n",
       "    .dataframe thead th {\n",
       "        text-align: right;\n",
       "    }\n",
       "</style>\n",
       "<table border=\"1\" class=\"dataframe\">\n",
       "  <thead>\n",
       "    <tr style=\"text-align: right;\">\n",
       "      <th></th>\n",
       "      <th>start</th>\n",
       "      <th>end</th>\n",
       "      <th>angle</th>\n",
       "      <th>length</th>\n",
       "      <th>type</th>\n",
       "    </tr>\n",
       "  </thead>\n",
       "  <tbody>\n",
       "    <tr>\n",
       "      <th>0</th>\n",
       "      <td>(0.0, -0.353)</td>\n",
       "      <td>(0.0, -0.278)</td>\n",
       "      <td>90.0</td>\n",
       "      <td>0.075000</td>\n",
       "      <td>straight</td>\n",
       "    </tr>\n",
       "    <tr>\n",
       "      <th>1</th>\n",
       "      <td>(0.0, -0.278)</td>\n",
       "      <td>(0.03, -0.248)</td>\n",
       "      <td>45.0</td>\n",
       "      <td>0.047124</td>\n",
       "      <td>arc</td>\n",
       "    </tr>\n",
       "    <tr>\n",
       "      <th>2</th>\n",
       "      <td>(0.03, -0.248)</td>\n",
       "      <td>(0.222, -0.248)</td>\n",
       "      <td>0.0</td>\n",
       "      <td>0.192000</td>\n",
       "      <td>straight</td>\n",
       "    </tr>\n",
       "    <tr>\n",
       "      <th>3</th>\n",
       "      <td>(0.222, -0.248)</td>\n",
       "      <td>(0.252, -0.278)</td>\n",
       "      <td>135.0</td>\n",
       "      <td>0.047124</td>\n",
       "      <td>arc</td>\n",
       "    </tr>\n",
       "    <tr>\n",
       "      <th>4</th>\n",
       "      <td>(0.252, -0.278)</td>\n",
       "      <td>(0.252, -0.722)</td>\n",
       "      <td>270.0</td>\n",
       "      <td>0.444000</td>\n",
       "      <td>straight</td>\n",
       "    </tr>\n",
       "    <tr>\n",
       "      <th>5</th>\n",
       "      <td>(0.252, -0.722)</td>\n",
       "      <td>(0.222, -0.752)</td>\n",
       "      <td>225.0</td>\n",
       "      <td>0.047124</td>\n",
       "      <td>arc</td>\n",
       "    </tr>\n",
       "    <tr>\n",
       "      <th>6</th>\n",
       "      <td>(0.222, -0.752)</td>\n",
       "      <td>(-0.222, -0.752)</td>\n",
       "      <td>180.0</td>\n",
       "      <td>0.444000</td>\n",
       "      <td>straight</td>\n",
       "    </tr>\n",
       "    <tr>\n",
       "      <th>7</th>\n",
       "      <td>(-0.222, -0.752)</td>\n",
       "      <td>(-0.252, -0.722)</td>\n",
       "      <td>135.0</td>\n",
       "      <td>0.047124</td>\n",
       "      <td>arc</td>\n",
       "    </tr>\n",
       "    <tr>\n",
       "      <th>8</th>\n",
       "      <td>(-0.252, -0.722)</td>\n",
       "      <td>(-0.252, -0.222)</td>\n",
       "      <td>90.0</td>\n",
       "      <td>0.500000</td>\n",
       "      <td>straight</td>\n",
       "    </tr>\n",
       "    <tr>\n",
       "      <th>9</th>\n",
       "      <td>(-0.252, -0.222)</td>\n",
       "      <td>(-0.222, -0.192)</td>\n",
       "      <td>45.0</td>\n",
       "      <td>0.047124</td>\n",
       "      <td>arc</td>\n",
       "    </tr>\n",
       "    <tr>\n",
       "      <th>10</th>\n",
       "      <td>(-0.222, -0.192)</td>\n",
       "      <td>(0.278, -0.192)</td>\n",
       "      <td>0.0</td>\n",
       "      <td>0.500000</td>\n",
       "      <td>straight</td>\n",
       "    </tr>\n",
       "    <tr>\n",
       "      <th>11</th>\n",
       "      <td>(0.278, -0.192)</td>\n",
       "      <td>(0.308, -0.222)</td>\n",
       "      <td>135.0</td>\n",
       "      <td>0.047124</td>\n",
       "      <td>arc</td>\n",
       "    </tr>\n",
       "    <tr>\n",
       "      <th>12</th>\n",
       "      <td>(0.308, -0.222)</td>\n",
       "      <td>(0.308, -0.723)</td>\n",
       "      <td>270.0</td>\n",
       "      <td>0.501000</td>\n",
       "      <td>straight</td>\n",
       "    </tr>\n",
       "    <tr>\n",
       "      <th>13</th>\n",
       "      <td>(0.308, -0.723)</td>\n",
       "      <td>(0.33799999999999997, -0.753)</td>\n",
       "      <td>135.0</td>\n",
       "      <td>0.047124</td>\n",
       "      <td>arc</td>\n",
       "    </tr>\n",
       "    <tr>\n",
       "      <th>14</th>\n",
       "      <td>(0.33799999999999997, -0.753)</td>\n",
       "      <td>(0.362, -0.753)</td>\n",
       "      <td>0.0</td>\n",
       "      <td>0.024000</td>\n",
       "      <td>straight</td>\n",
       "    </tr>\n",
       "    <tr>\n",
       "      <th>15</th>\n",
       "      <td>(0.362, -0.753)</td>\n",
       "      <td>(0.392, -0.723)</td>\n",
       "      <td>45.0</td>\n",
       "      <td>0.047124</td>\n",
       "      <td>arc</td>\n",
       "    </tr>\n",
       "    <tr>\n",
       "      <th>16</th>\n",
       "      <td>(0.392, -0.723)</td>\n",
       "      <td>(0.392, -0.1547)</td>\n",
       "      <td>90.0</td>\n",
       "      <td>0.568300</td>\n",
       "      <td>straight</td>\n",
       "    </tr>\n",
       "    <tr>\n",
       "      <th>17</th>\n",
       "      <td>(0.392, -0.1547)</td>\n",
       "      <td>(0.362, -0.1247)</td>\n",
       "      <td>135.0</td>\n",
       "      <td>0.047124</td>\n",
       "      <td>arc</td>\n",
       "    </tr>\n",
       "    <tr>\n",
       "      <th>18</th>\n",
       "      <td>(0.362, -0.1247)</td>\n",
       "      <td>(0.18, -0.1247)</td>\n",
       "      <td>180.0</td>\n",
       "      <td>0.182000</td>\n",
       "      <td>straight</td>\n",
       "    </tr>\n",
       "    <tr>\n",
       "      <th>19</th>\n",
       "      <td>(0.18, -0.1247)</td>\n",
       "      <td>(0.15, -0.0947)</td>\n",
       "      <td>135.0</td>\n",
       "      <td>0.047124</td>\n",
       "      <td>arc</td>\n",
       "    </tr>\n",
       "    <tr>\n",
       "      <th>20</th>\n",
       "      <td>(0.15, -0.0947)</td>\n",
       "      <td>(0.15, -0.0747)</td>\n",
       "      <td>90.0</td>\n",
       "      <td>0.050000</td>\n",
       "      <td>straight</td>\n",
       "    </tr>\n",
       "  </tbody>\n",
       "</table>\n",
       "</div>"
      ],
      "text/plain": [
       "                            start                            end  angle  \\\n",
       "0                   (0.0, -0.353)                  (0.0, -0.278)   90.0   \n",
       "1                   (0.0, -0.278)                 (0.03, -0.248)   45.0   \n",
       "2                  (0.03, -0.248)                (0.222, -0.248)    0.0   \n",
       "3                 (0.222, -0.248)                (0.252, -0.278)  135.0   \n",
       "4                 (0.252, -0.278)                (0.252, -0.722)  270.0   \n",
       "5                 (0.252, -0.722)                (0.222, -0.752)  225.0   \n",
       "6                 (0.222, -0.752)               (-0.222, -0.752)  180.0   \n",
       "7                (-0.222, -0.752)               (-0.252, -0.722)  135.0   \n",
       "8                (-0.252, -0.722)               (-0.252, -0.222)   90.0   \n",
       "9                (-0.252, -0.222)               (-0.222, -0.192)   45.0   \n",
       "10               (-0.222, -0.192)                (0.278, -0.192)    0.0   \n",
       "11                (0.278, -0.192)                (0.308, -0.222)  135.0   \n",
       "12                (0.308, -0.222)                (0.308, -0.723)  270.0   \n",
       "13                (0.308, -0.723)  (0.33799999999999997, -0.753)  135.0   \n",
       "14  (0.33799999999999997, -0.753)                (0.362, -0.753)    0.0   \n",
       "15                (0.362, -0.753)                (0.392, -0.723)   45.0   \n",
       "16                (0.392, -0.723)               (0.392, -0.1547)   90.0   \n",
       "17               (0.392, -0.1547)               (0.362, -0.1247)  135.0   \n",
       "18               (0.362, -0.1247)                (0.18, -0.1247)  180.0   \n",
       "19                (0.18, -0.1247)                (0.15, -0.0947)  135.0   \n",
       "20                (0.15, -0.0947)                (0.15, -0.0747)   90.0   \n",
       "\n",
       "      length      type  \n",
       "0   0.075000  straight  \n",
       "1   0.047124       arc  \n",
       "2   0.192000  straight  \n",
       "3   0.047124       arc  \n",
       "4   0.444000  straight  \n",
       "5   0.047124       arc  \n",
       "6   0.444000  straight  \n",
       "7   0.047124       arc  \n",
       "8   0.500000  straight  \n",
       "9   0.047124       arc  \n",
       "10  0.500000  straight  \n",
       "11  0.047124       arc  \n",
       "12  0.501000  straight  \n",
       "13  0.047124       arc  \n",
       "14  0.024000  straight  \n",
       "15  0.047124       arc  \n",
       "16  0.568300  straight  \n",
       "17  0.047124       arc  \n",
       "18  0.182000  straight  \n",
       "19  0.047124       arc  \n",
       "20  0.050000  straight  "
      ]
     },
     "execution_count": 86,
     "metadata": {},
     "output_type": "execute_result"
    }
   ],
   "source": [
    "pd.DataFrame(segment)"
   ]
  },
  {
   "cell_type": "code",
   "execution_count": 112,
   "metadata": {},
   "outputs": [],
   "source": [
    "test = True\n",
    "while test:\n",
    "\n",
    "    ab, test = find_next_ab(segment, 0.1, ab)"
   ]
  },
  {
   "cell_type": "code",
   "execution_count": 83,
   "metadata": {},
   "outputs": [
    {
     "data": {
      "text/plain": [
       "45.0"
      ]
     },
     "execution_count": 83,
     "metadata": {},
     "output_type": "execute_result"
    }
   ],
   "source": [
    "find_line_direction((0.252, -0.722),(0.222, -0.752))"
   ]
  },
  {
   "cell_type": "code",
   "execution_count": 113,
   "metadata": {},
   "outputs": [
    {
     "data": {
      "text/html": [
       "<div>\n",
       "<style scoped>\n",
       "    .dataframe tbody tr th:only-of-type {\n",
       "        vertical-align: middle;\n",
       "    }\n",
       "\n",
       "    .dataframe tbody tr th {\n",
       "        vertical-align: top;\n",
       "    }\n",
       "\n",
       "    .dataframe thead th {\n",
       "        text-align: right;\n",
       "    }\n",
       "</style>\n",
       "<table border=\"1\" class=\"dataframe\">\n",
       "  <thead>\n",
       "    <tr style=\"text-align: right;\">\n",
       "      <th></th>\n",
       "      <th>coord</th>\n",
       "      <th>inside_extend</th>\n",
       "      <th>angle</th>\n",
       "      <th>seg_num</th>\n",
       "      <th>length_remain</th>\n",
       "    </tr>\n",
       "  </thead>\n",
       "  <tbody>\n",
       "    <tr>\n",
       "      <th>0</th>\n",
       "      <td>(0, -0.353)</td>\n",
       "      <td>False</td>\n",
       "      <td>90.000000</td>\n",
       "      <td>0</td>\n",
       "      <td>0.075000</td>\n",
       "    </tr>\n",
       "    <tr>\n",
       "      <th>1</th>\n",
       "      <td>(0.020172367322491693, -0.2557946944041189)</td>\n",
       "      <td>True</td>\n",
       "      <td>42.253517</td>\n",
       "      <td>1</td>\n",
       "      <td>0.022124</td>\n",
       "    </tr>\n",
       "    <tr>\n",
       "      <th>2</th>\n",
       "      <td>(0.10787611019615312, -0.248)</td>\n",
       "      <td>False</td>\n",
       "      <td>0.000000</td>\n",
       "      <td>2</td>\n",
       "      <td>0.114124</td>\n",
       "    </tr>\n",
       "    <tr>\n",
       "      <th>3</th>\n",
       "      <td>(0.20787611019615312, -0.248)</td>\n",
       "      <td>False</td>\n",
       "      <td>0.000000</td>\n",
       "      <td>2</td>\n",
       "      <td>0.014124</td>\n",
       "    </tr>\n",
       "    <tr>\n",
       "      <th>4</th>\n",
       "      <td>(0.252, -0.31675222039230627)</td>\n",
       "      <td>False</td>\n",
       "      <td>270.000000</td>\n",
       "      <td>4</td>\n",
       "      <td>0.405248</td>\n",
       "    </tr>\n",
       "    <tr>\n",
       "      <th>5</th>\n",
       "      <td>(0.252, -0.4167522203923063)</td>\n",
       "      <td>False</td>\n",
       "      <td>270.000000</td>\n",
       "      <td>4</td>\n",
       "      <td>0.305248</td>\n",
       "    </tr>\n",
       "    <tr>\n",
       "      <th>6</th>\n",
       "      <td>(0.252, -0.5167522203923063)</td>\n",
       "      <td>False</td>\n",
       "      <td>270.000000</td>\n",
       "      <td>4</td>\n",
       "      <td>0.205248</td>\n",
       "    </tr>\n",
       "    <tr>\n",
       "      <th>7</th>\n",
       "      <td>(0.252, -0.6167522203923063)</td>\n",
       "      <td>False</td>\n",
       "      <td>270.000000</td>\n",
       "      <td>4</td>\n",
       "      <td>0.105248</td>\n",
       "    </tr>\n",
       "    <tr>\n",
       "      <th>8</th>\n",
       "      <td>(0.252, -0.7167522203923062)</td>\n",
       "      <td>False</td>\n",
       "      <td>270.000000</td>\n",
       "      <td>4</td>\n",
       "      <td>0.005248</td>\n",
       "    </tr>\n",
       "    <tr>\n",
       "      <th>9</th>\n",
       "      <td>(0.17437166941154053, -0.752)</td>\n",
       "      <td>False</td>\n",
       "      <td>180.000000</td>\n",
       "      <td>6</td>\n",
       "      <td>0.396372</td>\n",
       "    </tr>\n",
       "    <tr>\n",
       "      <th>10</th>\n",
       "      <td>(0.07437166941154053, -0.752)</td>\n",
       "      <td>False</td>\n",
       "      <td>180.000000</td>\n",
       "      <td>6</td>\n",
       "      <td>0.296372</td>\n",
       "    </tr>\n",
       "    <tr>\n",
       "      <th>11</th>\n",
       "      <td>(-0.02562833058845948, -0.752)</td>\n",
       "      <td>False</td>\n",
       "      <td>180.000000</td>\n",
       "      <td>6</td>\n",
       "      <td>0.196372</td>\n",
       "    </tr>\n",
       "    <tr>\n",
       "      <th>12</th>\n",
       "      <td>(-0.12562833058845949, -0.752)</td>\n",
       "      <td>False</td>\n",
       "      <td>180.000000</td>\n",
       "      <td>6</td>\n",
       "      <td>0.096372</td>\n",
       "    </tr>\n",
       "    <tr>\n",
       "      <th>13</th>\n",
       "      <td>(-0.19221914572199544, -0.7483805085340263)</td>\n",
       "      <td>True</td>\n",
       "      <td>173.070399</td>\n",
       "      <td>7</td>\n",
       "      <td>0.043496</td>\n",
       "    </tr>\n",
       "    <tr>\n",
       "      <th>14</th>\n",
       "      <td>(-0.252, -0.6654955592153874)</td>\n",
       "      <td>False</td>\n",
       "      <td>90.000000</td>\n",
       "      <td>8</td>\n",
       "      <td>0.443496</td>\n",
       "    </tr>\n",
       "    <tr>\n",
       "      <th>15</th>\n",
       "      <td>(-0.252, -0.5654955592153874)</td>\n",
       "      <td>False</td>\n",
       "      <td>90.000000</td>\n",
       "      <td>8</td>\n",
       "      <td>0.343496</td>\n",
       "    </tr>\n",
       "    <tr>\n",
       "      <th>16</th>\n",
       "      <td>(-0.252, -0.46549555921538743)</td>\n",
       "      <td>False</td>\n",
       "      <td>90.000000</td>\n",
       "      <td>8</td>\n",
       "      <td>0.243496</td>\n",
       "    </tr>\n",
       "    <tr>\n",
       "      <th>17</th>\n",
       "      <td>(-0.252, -0.36549555921538746)</td>\n",
       "      <td>False</td>\n",
       "      <td>90.000000</td>\n",
       "      <td>8</td>\n",
       "      <td>0.143496</td>\n",
       "    </tr>\n",
       "    <tr>\n",
       "      <th>18</th>\n",
       "      <td>(-0.252, -0.2654955592153875)</td>\n",
       "      <td>False</td>\n",
       "      <td>90.000000</td>\n",
       "      <td>8</td>\n",
       "      <td>0.043496</td>\n",
       "    </tr>\n",
       "    <tr>\n",
       "      <th>19</th>\n",
       "      <td>(-0.2126194490192343, -0.192)</td>\n",
       "      <td>False</td>\n",
       "      <td>0.000000</td>\n",
       "      <td>10</td>\n",
       "      <td>0.490619</td>\n",
       "    </tr>\n",
       "    <tr>\n",
       "      <th>20</th>\n",
       "      <td>(-0.11261944901923429, -0.192)</td>\n",
       "      <td>False</td>\n",
       "      <td>0.000000</td>\n",
       "      <td>10</td>\n",
       "      <td>0.390619</td>\n",
       "    </tr>\n",
       "    <tr>\n",
       "      <th>21</th>\n",
       "      <td>(-0.012619449019234286, -0.192)</td>\n",
       "      <td>False</td>\n",
       "      <td>0.000000</td>\n",
       "      <td>10</td>\n",
       "      <td>0.290619</td>\n",
       "    </tr>\n",
       "    <tr>\n",
       "      <th>22</th>\n",
       "      <td>(0.08738055098076572, -0.192)</td>\n",
       "      <td>False</td>\n",
       "      <td>0.000000</td>\n",
       "      <td>10</td>\n",
       "      <td>0.190619</td>\n",
       "    </tr>\n",
       "    <tr>\n",
       "      <th>23</th>\n",
       "      <td>(0.18738055098076573, -0.192)</td>\n",
       "      <td>False</td>\n",
       "      <td>0.000000</td>\n",
       "      <td>10</td>\n",
       "      <td>0.090619</td>\n",
       "    </tr>\n",
       "    <tr>\n",
       "      <th>24</th>\n",
       "      <td>(0.30654533136749, -0.1827715625851289)</td>\n",
       "      <td>True</td>\n",
       "      <td>342.084467</td>\n",
       "      <td>11</td>\n",
       "      <td>0.037743</td>\n",
       "    </tr>\n",
       "    <tr>\n",
       "      <th>25</th>\n",
       "      <td>(0.308, -0.28425666117691883)</td>\n",
       "      <td>False</td>\n",
       "      <td>270.000000</td>\n",
       "      <td>12</td>\n",
       "      <td>0.438743</td>\n",
       "    </tr>\n",
       "    <tr>\n",
       "      <th>26</th>\n",
       "      <td>(0.308, -0.3842566611769188)</td>\n",
       "      <td>False</td>\n",
       "      <td>270.000000</td>\n",
       "      <td>12</td>\n",
       "      <td>0.338743</td>\n",
       "    </tr>\n",
       "    <tr>\n",
       "      <th>27</th>\n",
       "      <td>(0.308, -0.4842566611769188)</td>\n",
       "      <td>False</td>\n",
       "      <td>270.000000</td>\n",
       "      <td>12</td>\n",
       "      <td>0.238743</td>\n",
       "    </tr>\n",
       "    <tr>\n",
       "      <th>28</th>\n",
       "      <td>(0.308, -0.5842566611769188)</td>\n",
       "      <td>False</td>\n",
       "      <td>270.000000</td>\n",
       "      <td>12</td>\n",
       "      <td>0.138743</td>\n",
       "    </tr>\n",
       "    <tr>\n",
       "      <th>29</th>\n",
       "      <td>(0.308, -0.6842566611769187)</td>\n",
       "      <td>False</td>\n",
       "      <td>270.000000</td>\n",
       "      <td>12</td>\n",
       "      <td>0.038743</td>\n",
       "    </tr>\n",
       "    <tr>\n",
       "      <th>30</th>\n",
       "      <td>(0.352132771373072, -0.753)</td>\n",
       "      <td>False</td>\n",
       "      <td>0.000000</td>\n",
       "      <td>14</td>\n",
       "      <td>0.009867</td>\n",
       "    </tr>\n",
       "    <tr>\n",
       "      <th>31</th>\n",
       "      <td>(0.392, -0.679991118430775)</td>\n",
       "      <td>False</td>\n",
       "      <td>90.000000</td>\n",
       "      <td>16</td>\n",
       "      <td>0.525291</td>\n",
       "    </tr>\n",
       "    <tr>\n",
       "      <th>32</th>\n",
       "      <td>(0.392, -0.579991118430775)</td>\n",
       "      <td>False</td>\n",
       "      <td>90.000000</td>\n",
       "      <td>16</td>\n",
       "      <td>0.425291</td>\n",
       "    </tr>\n",
       "    <tr>\n",
       "      <th>33</th>\n",
       "      <td>(0.392, -0.479991118430775)</td>\n",
       "      <td>False</td>\n",
       "      <td>90.000000</td>\n",
       "      <td>16</td>\n",
       "      <td>0.325291</td>\n",
       "    </tr>\n",
       "    <tr>\n",
       "      <th>34</th>\n",
       "      <td>(0.392, -0.37999111843077504)</td>\n",
       "      <td>False</td>\n",
       "      <td>90.000000</td>\n",
       "      <td>16</td>\n",
       "      <td>0.225291</td>\n",
       "    </tr>\n",
       "    <tr>\n",
       "      <th>35</th>\n",
       "      <td>(0.392, -0.27999111843077507)</td>\n",
       "      <td>False</td>\n",
       "      <td>90.000000</td>\n",
       "      <td>16</td>\n",
       "      <td>0.125291</td>\n",
       "    </tr>\n",
       "    <tr>\n",
       "      <th>36</th>\n",
       "      <td>(0.392, -0.17999111843077506)</td>\n",
       "      <td>False</td>\n",
       "      <td>90.000000</td>\n",
       "      <td>16</td>\n",
       "      <td>0.025291</td>\n",
       "    </tr>\n",
       "    <tr>\n",
       "      <th>37</th>\n",
       "      <td>(0.3344150082346219, -0.1247)</td>\n",
       "      <td>False</td>\n",
       "      <td>180.000000</td>\n",
       "      <td>18</td>\n",
       "      <td>0.154415</td>\n",
       "    </tr>\n",
       "    <tr>\n",
       "      <th>38</th>\n",
       "      <td>(0.23441500823462189, -0.12469999999999999)</td>\n",
       "      <td>False</td>\n",
       "      <td>180.000000</td>\n",
       "      <td>18</td>\n",
       "      <td>0.054415</td>\n",
       "    </tr>\n",
       "    <tr>\n",
       "      <th>39</th>\n",
       "      <td>(0.18153822323292873, -0.09473946146535951)</td>\n",
       "      <td>True</td>\n",
       "      <td>92.939079</td>\n",
       "      <td>19</td>\n",
       "      <td>0.001539</td>\n",
       "    </tr>\n",
       "  </tbody>\n",
       "</table>\n",
       "</div>"
      ],
      "text/plain": [
       "                                          coord  inside_extend       angle  \\\n",
       "0                                   (0, -0.353)          False   90.000000   \n",
       "1   (0.020172367322491693, -0.2557946944041189)           True   42.253517   \n",
       "2                 (0.10787611019615312, -0.248)          False    0.000000   \n",
       "3                 (0.20787611019615312, -0.248)          False    0.000000   \n",
       "4                 (0.252, -0.31675222039230627)          False  270.000000   \n",
       "5                  (0.252, -0.4167522203923063)          False  270.000000   \n",
       "6                  (0.252, -0.5167522203923063)          False  270.000000   \n",
       "7                  (0.252, -0.6167522203923063)          False  270.000000   \n",
       "8                  (0.252, -0.7167522203923062)          False  270.000000   \n",
       "9                 (0.17437166941154053, -0.752)          False  180.000000   \n",
       "10                (0.07437166941154053, -0.752)          False  180.000000   \n",
       "11               (-0.02562833058845948, -0.752)          False  180.000000   \n",
       "12               (-0.12562833058845949, -0.752)          False  180.000000   \n",
       "13  (-0.19221914572199544, -0.7483805085340263)           True  173.070399   \n",
       "14                (-0.252, -0.6654955592153874)          False   90.000000   \n",
       "15                (-0.252, -0.5654955592153874)          False   90.000000   \n",
       "16               (-0.252, -0.46549555921538743)          False   90.000000   \n",
       "17               (-0.252, -0.36549555921538746)          False   90.000000   \n",
       "18                (-0.252, -0.2654955592153875)          False   90.000000   \n",
       "19                (-0.2126194490192343, -0.192)          False    0.000000   \n",
       "20               (-0.11261944901923429, -0.192)          False    0.000000   \n",
       "21              (-0.012619449019234286, -0.192)          False    0.000000   \n",
       "22                (0.08738055098076572, -0.192)          False    0.000000   \n",
       "23                (0.18738055098076573, -0.192)          False    0.000000   \n",
       "24      (0.30654533136749, -0.1827715625851289)           True  342.084467   \n",
       "25                (0.308, -0.28425666117691883)          False  270.000000   \n",
       "26                 (0.308, -0.3842566611769188)          False  270.000000   \n",
       "27                 (0.308, -0.4842566611769188)          False  270.000000   \n",
       "28                 (0.308, -0.5842566611769188)          False  270.000000   \n",
       "29                 (0.308, -0.6842566611769187)          False  270.000000   \n",
       "30                  (0.352132771373072, -0.753)          False    0.000000   \n",
       "31                  (0.392, -0.679991118430775)          False   90.000000   \n",
       "32                  (0.392, -0.579991118430775)          False   90.000000   \n",
       "33                  (0.392, -0.479991118430775)          False   90.000000   \n",
       "34                (0.392, -0.37999111843077504)          False   90.000000   \n",
       "35                (0.392, -0.27999111843077507)          False   90.000000   \n",
       "36                (0.392, -0.17999111843077506)          False   90.000000   \n",
       "37                (0.3344150082346219, -0.1247)          False  180.000000   \n",
       "38  (0.23441500823462189, -0.12469999999999999)          False  180.000000   \n",
       "39  (0.18153822323292873, -0.09473946146535951)           True   92.939079   \n",
       "\n",
       "    seg_num  length_remain  \n",
       "0         0       0.075000  \n",
       "1         1       0.022124  \n",
       "2         2       0.114124  \n",
       "3         2       0.014124  \n",
       "4         4       0.405248  \n",
       "5         4       0.305248  \n",
       "6         4       0.205248  \n",
       "7         4       0.105248  \n",
       "8         4       0.005248  \n",
       "9         6       0.396372  \n",
       "10        6       0.296372  \n",
       "11        6       0.196372  \n",
       "12        6       0.096372  \n",
       "13        7       0.043496  \n",
       "14        8       0.443496  \n",
       "15        8       0.343496  \n",
       "16        8       0.243496  \n",
       "17        8       0.143496  \n",
       "18        8       0.043496  \n",
       "19       10       0.490619  \n",
       "20       10       0.390619  \n",
       "21       10       0.290619  \n",
       "22       10       0.190619  \n",
       "23       10       0.090619  \n",
       "24       11       0.037743  \n",
       "25       12       0.438743  \n",
       "26       12       0.338743  \n",
       "27       12       0.238743  \n",
       "28       12       0.138743  \n",
       "29       12       0.038743  \n",
       "30       14       0.009867  \n",
       "31       16       0.525291  \n",
       "32       16       0.425291  \n",
       "33       16       0.325291  \n",
       "34       16       0.225291  \n",
       "35       16       0.125291  \n",
       "36       16       0.025291  \n",
       "37       18       0.154415  \n",
       "38       18       0.054415  \n",
       "39       19       0.001539  "
      ]
     },
     "execution_count": 113,
     "metadata": {},
     "output_type": "execute_result"
    }
   ],
   "source": [
    "pd.DataFrame(ab)"
   ]
  },
  {
   "cell_type": "code",
   "execution_count": 179,
   "metadata": {},
   "outputs": [
    {
     "data": {
      "text/html": [
       "<div>\n",
       "<style scoped>\n",
       "    .dataframe tbody tr th:only-of-type {\n",
       "        vertical-align: middle;\n",
       "    }\n",
       "\n",
       "    .dataframe tbody tr th {\n",
       "        vertical-align: top;\n",
       "    }\n",
       "\n",
       "    .dataframe thead th {\n",
       "        text-align: right;\n",
       "    }\n",
       "</style>\n",
       "<table border=\"1\" class=\"dataframe\">\n",
       "  <thead>\n",
       "    <tr style=\"text-align: right;\">\n",
       "      <th></th>\n",
       "      <th>start</th>\n",
       "      <th>end</th>\n",
       "      <th>angle</th>\n",
       "      <th>length</th>\n",
       "      <th>type</th>\n",
       "    </tr>\n",
       "  </thead>\n",
       "  <tbody>\n",
       "    <tr>\n",
       "      <th>0</th>\n",
       "      <td>(0.0, -0.353)</td>\n",
       "      <td>(0.0, -0.278)</td>\n",
       "      <td>90.0</td>\n",
       "      <td>0.075000</td>\n",
       "      <td>straight</td>\n",
       "    </tr>\n",
       "    <tr>\n",
       "      <th>1</th>\n",
       "      <td>(0.0, -0.278)</td>\n",
       "      <td>(0.03, -0.248)</td>\n",
       "      <td>45.0</td>\n",
       "      <td>0.047124</td>\n",
       "      <td>arc</td>\n",
       "    </tr>\n",
       "    <tr>\n",
       "      <th>2</th>\n",
       "      <td>(0.03, -0.248)</td>\n",
       "      <td>(0.222, -0.248)</td>\n",
       "      <td>0.0</td>\n",
       "      <td>0.192000</td>\n",
       "      <td>straight</td>\n",
       "    </tr>\n",
       "    <tr>\n",
       "      <th>3</th>\n",
       "      <td>(0.222, -0.248)</td>\n",
       "      <td>(0.252, -0.278)</td>\n",
       "      <td>315.0</td>\n",
       "      <td>0.047124</td>\n",
       "      <td>arc</td>\n",
       "    </tr>\n",
       "    <tr>\n",
       "      <th>4</th>\n",
       "      <td>(0.252, -0.278)</td>\n",
       "      <td>(0.252, -0.722)</td>\n",
       "      <td>270.0</td>\n",
       "      <td>0.444000</td>\n",
       "      <td>straight</td>\n",
       "    </tr>\n",
       "    <tr>\n",
       "      <th>5</th>\n",
       "      <td>(0.252, -0.722)</td>\n",
       "      <td>(0.222, -0.752)</td>\n",
       "      <td>45.0</td>\n",
       "      <td>0.047124</td>\n",
       "      <td>arc</td>\n",
       "    </tr>\n",
       "    <tr>\n",
       "      <th>6</th>\n",
       "      <td>(0.222, -0.752)</td>\n",
       "      <td>(-0.222, -0.752)</td>\n",
       "      <td>180.0</td>\n",
       "      <td>0.444000</td>\n",
       "      <td>straight</td>\n",
       "    </tr>\n",
       "    <tr>\n",
       "      <th>7</th>\n",
       "      <td>(-0.222, -0.752)</td>\n",
       "      <td>(-0.252, -0.722)</td>\n",
       "      <td>315.0</td>\n",
       "      <td>0.047124</td>\n",
       "      <td>arc</td>\n",
       "    </tr>\n",
       "    <tr>\n",
       "      <th>8</th>\n",
       "      <td>(-0.252, -0.722)</td>\n",
       "      <td>(-0.252, -0.222)</td>\n",
       "      <td>90.0</td>\n",
       "      <td>0.500000</td>\n",
       "      <td>straight</td>\n",
       "    </tr>\n",
       "    <tr>\n",
       "      <th>9</th>\n",
       "      <td>(-0.252, -0.222)</td>\n",
       "      <td>(-0.222, -0.192)</td>\n",
       "      <td>45.0</td>\n",
       "      <td>0.047124</td>\n",
       "      <td>arc</td>\n",
       "    </tr>\n",
       "    <tr>\n",
       "      <th>10</th>\n",
       "      <td>(-0.222, -0.192)</td>\n",
       "      <td>(0.278, -0.192)</td>\n",
       "      <td>0.0</td>\n",
       "      <td>0.500000</td>\n",
       "      <td>straight</td>\n",
       "    </tr>\n",
       "    <tr>\n",
       "      <th>11</th>\n",
       "      <td>(0.278, -0.192)</td>\n",
       "      <td>(0.308, -0.222)</td>\n",
       "      <td>315.0</td>\n",
       "      <td>0.047124</td>\n",
       "      <td>arc</td>\n",
       "    </tr>\n",
       "    <tr>\n",
       "      <th>12</th>\n",
       "      <td>(0.308, -0.222)</td>\n",
       "      <td>(0.308, -0.723)</td>\n",
       "      <td>270.0</td>\n",
       "      <td>0.501000</td>\n",
       "      <td>straight</td>\n",
       "    </tr>\n",
       "    <tr>\n",
       "      <th>13</th>\n",
       "      <td>(0.308, -0.723)</td>\n",
       "      <td>(0.33799999999999997, -0.753)</td>\n",
       "      <td>315.0</td>\n",
       "      <td>0.047124</td>\n",
       "      <td>arc</td>\n",
       "    </tr>\n",
       "    <tr>\n",
       "      <th>14</th>\n",
       "      <td>(0.33799999999999997, -0.753)</td>\n",
       "      <td>(0.362, -0.753)</td>\n",
       "      <td>0.0</td>\n",
       "      <td>0.024000</td>\n",
       "      <td>straight</td>\n",
       "    </tr>\n",
       "    <tr>\n",
       "      <th>15</th>\n",
       "      <td>(0.362, -0.753)</td>\n",
       "      <td>(0.392, -0.723)</td>\n",
       "      <td>45.0</td>\n",
       "      <td>0.047124</td>\n",
       "      <td>arc</td>\n",
       "    </tr>\n",
       "    <tr>\n",
       "      <th>16</th>\n",
       "      <td>(0.392, -0.723)</td>\n",
       "      <td>(0.392, -0.1547)</td>\n",
       "      <td>90.0</td>\n",
       "      <td>0.568300</td>\n",
       "      <td>straight</td>\n",
       "    </tr>\n",
       "    <tr>\n",
       "      <th>17</th>\n",
       "      <td>(0.392, -0.1547)</td>\n",
       "      <td>(0.362, -0.1247)</td>\n",
       "      <td>315.0</td>\n",
       "      <td>0.047124</td>\n",
       "      <td>arc</td>\n",
       "    </tr>\n",
       "    <tr>\n",
       "      <th>18</th>\n",
       "      <td>(0.362, -0.1247)</td>\n",
       "      <td>(0.18, -0.1247)</td>\n",
       "      <td>180.0</td>\n",
       "      <td>0.182000</td>\n",
       "      <td>straight</td>\n",
       "    </tr>\n",
       "    <tr>\n",
       "      <th>19</th>\n",
       "      <td>(0.18, -0.1247)</td>\n",
       "      <td>(0.15, -0.0947)</td>\n",
       "      <td>315.0</td>\n",
       "      <td>0.047124</td>\n",
       "      <td>arc</td>\n",
       "    </tr>\n",
       "    <tr>\n",
       "      <th>20</th>\n",
       "      <td>(0.15, -0.0947)</td>\n",
       "      <td>(0.15, -0.0747)</td>\n",
       "      <td>90.0</td>\n",
       "      <td>0.050000</td>\n",
       "      <td>straight</td>\n",
       "    </tr>\n",
       "  </tbody>\n",
       "</table>\n",
       "</div>"
      ],
      "text/plain": [
       "                            start                            end  angle  \\\n",
       "0                   (0.0, -0.353)                  (0.0, -0.278)   90.0   \n",
       "1                   (0.0, -0.278)                 (0.03, -0.248)   45.0   \n",
       "2                  (0.03, -0.248)                (0.222, -0.248)    0.0   \n",
       "3                 (0.222, -0.248)                (0.252, -0.278)  315.0   \n",
       "4                 (0.252, -0.278)                (0.252, -0.722)  270.0   \n",
       "5                 (0.252, -0.722)                (0.222, -0.752)   45.0   \n",
       "6                 (0.222, -0.752)               (-0.222, -0.752)  180.0   \n",
       "7                (-0.222, -0.752)               (-0.252, -0.722)  315.0   \n",
       "8                (-0.252, -0.722)               (-0.252, -0.222)   90.0   \n",
       "9                (-0.252, -0.222)               (-0.222, -0.192)   45.0   \n",
       "10               (-0.222, -0.192)                (0.278, -0.192)    0.0   \n",
       "11                (0.278, -0.192)                (0.308, -0.222)  315.0   \n",
       "12                (0.308, -0.222)                (0.308, -0.723)  270.0   \n",
       "13                (0.308, -0.723)  (0.33799999999999997, -0.753)  315.0   \n",
       "14  (0.33799999999999997, -0.753)                (0.362, -0.753)    0.0   \n",
       "15                (0.362, -0.753)                (0.392, -0.723)   45.0   \n",
       "16                (0.392, -0.723)               (0.392, -0.1547)   90.0   \n",
       "17               (0.392, -0.1547)               (0.362, -0.1247)  315.0   \n",
       "18               (0.362, -0.1247)                (0.18, -0.1247)  180.0   \n",
       "19                (0.18, -0.1247)                (0.15, -0.0947)  315.0   \n",
       "20                (0.15, -0.0947)                (0.15, -0.0747)   90.0   \n",
       "\n",
       "      length      type  \n",
       "0   0.075000  straight  \n",
       "1   0.047124       arc  \n",
       "2   0.192000  straight  \n",
       "3   0.047124       arc  \n",
       "4   0.444000  straight  \n",
       "5   0.047124       arc  \n",
       "6   0.444000  straight  \n",
       "7   0.047124       arc  \n",
       "8   0.500000  straight  \n",
       "9   0.047124       arc  \n",
       "10  0.500000  straight  \n",
       "11  0.047124       arc  \n",
       "12  0.501000  straight  \n",
       "13  0.047124       arc  \n",
       "14  0.024000  straight  \n",
       "15  0.047124       arc  \n",
       "16  0.568300  straight  \n",
       "17  0.047124       arc  \n",
       "18  0.182000  straight  \n",
       "19  0.047124       arc  \n",
       "20  0.050000  straight  "
      ]
     },
     "execution_count": 179,
     "metadata": {},
     "output_type": "execute_result"
    }
   ],
   "source": [
    "pd.DataFrame(segment)"
   ]
  },
  {
   "cell_type": "code",
   "execution_count": 132,
   "metadata": {},
   "outputs": [],
   "source": [
    "ab_coord = []\n",
    "ab_angle = []\n",
    "ab_inside = []\n",
    "ab_seg_remaining = []\n",
    "ab_seg_num = []\n",
    "\n"
   ]
  },
  {
   "cell_type": "code",
   "execution_count": 102,
   "metadata": {},
   "outputs": [
    {
     "data": {
      "image/svg+xml": [
       "<svg xmlns=\"http://www.w3.org/2000/svg\" xmlns:xlink=\"http://www.w3.org/1999/xlink\" width=\"100.0\" height=\"100.0\" viewBox=\"-0.278332 -0.779332 0.6966640000000001 0.710964\" preserveAspectRatio=\"xMinYMin meet\"><g transform=\"matrix(1,0,0,-1,0,-0.8477)\"><polyline fill=\"none\" stroke=\"#66cc99\" stroke-width=\"0.01421928\" points=\"0.0,-0.353 0.0,-0.278 0.03,-0.248 0.222,-0.248 0.252,-0.278 0.252,-0.722 0.222,-0.752 -0.222,-0.752 -0.252,-0.722 -0.252,-0.222 -0.222,-0.192 0.278,-0.192 0.308,-0.222 0.308,-0.723 0.33799999999999997,-0.753 0.362,-0.753 0.392,-0.723 0.392,-0.1547 0.362,-0.1247 0.18,-0.1247 0.15,-0.0947\" opacity=\"0.8\" /></g></svg>"
      ],
      "text/plain": [
       "<LINESTRING (0 -0.353, 0 -0.278, 0.03 -0.248, 0.222 -0.248, 0.252 -0.278, 0....>"
      ]
     },
     "execution_count": 102,
     "metadata": {},
     "output_type": "execute_result"
    }
   ],
   "source": [
    "LineString(segment_start)"
   ]
  },
  {
   "cell_type": "code",
   "execution_count": 68,
   "metadata": {},
   "outputs": [
    {
     "data": {
      "text/plain": [
       "[(0.0, -0.278),\n",
       " (-0.03, -0.248),\n",
       " (0.252, -0.722),\n",
       " (0.28200000000000003, -0.752),\n",
       " (-0.222, -0.752),\n",
       " (-0.252, -0.782),\n",
       " (-0.252, -0.222),\n",
       " (-0.28200000000000003, -0.192),\n",
       " (0.362, -0.753),\n",
       " (0.392, -0.783),\n",
       " (0.392, -0.1547),\n",
       " (0.42200000000000004, -0.1247),\n",
       " (0.18, -0.1247),\n",
       " (0.15, -0.1547),\n",
       " (0.15, -0.0747)]"
      ]
     },
     "execution_count": 68,
     "metadata": {},
     "output_type": "execute_result"
    }
   ],
   "source": [
    "segment_end"
   ]
  },
  {
   "cell_type": "code",
   "execution_count": 48,
   "metadata": {},
   "outputs": [
    {
     "data": {
      "text/plain": [
       "True"
      ]
     },
     "execution_count": 48,
     "metadata": {},
     "output_type": "execute_result"
    }
   ],
   "source": [
    "'mix' in str(type(cpw))"
   ]
  },
  {
   "cell_type": "code",
   "execution_count": 18,
   "metadata": {},
   "outputs": [],
   "source": [
    "q1.options.layer = qubit_layer\n",
    "cpw.options.layer = qubit_layer\n",
    "TQ1.options.layer = qubit_layer\n",
    "j.options.layer = junction_layer\n",
    "gui.rebuild()\n",
    "gui.autoscale()"
   ]
  },
  {
   "cell_type": "code",
   "execution_count": 22,
   "metadata": {},
   "outputs": [],
   "source": [
    "design.chips.main.size['size_x'] = '10mm'\n",
    "design.chips.main.size['size_y'] = '10mm'\n",
    "gui.rebuild()\n",
    "a_gds = design.renderers.gds"
   ]
  },
  {
   "cell_type": "code",
   "execution_count": 39,
   "metadata": {},
   "outputs": [],
   "source": [
    "a_gds.options.cheese.edge_nocheese = '300um'\n",
    "a_gds.options.no_cheese.buffer = '50um'"
   ]
  },
  {
   "cell_type": "code",
   "execution_count": 27,
   "metadata": {},
   "outputs": [],
   "source": [
    "a_gds.options['cheese']['view_in_file']['main'][qubit_layer] = True\n",
    "a_gds.options['no_cheese']['view_in_file']['main'][qubit_layer] = True\n",
    "a_gds.options['cheese']['view_in_file']['main'][junction_layer] = False\n",
    "a_gds.options['no_cheese']['view_in_file']['main'][junction_layer] = True"
   ]
  },
  {
   "cell_type": "code",
   "execution_count": 40,
   "metadata": {},
   "outputs": [
    {
     "name": "stderr",
     "output_type": "stream",
     "text": [
      "08:15PM 18s WARNING [_qgeometry_to_gds]: Unexpected shapely object geometry.The variable qgeometry_element is <class 'numpy.float64'>, method can currently handle Polygon and FlexPath.\n",
      "08:15PM 18s WARNING [_import_junction_gds_file]: Not able to find file:\"../resources/Fake_Junctions.GDS\".  Not used to replace junction. Checked directory:\"/Users/wendy/Desktop/resources\".\n"
     ]
    },
    {
     "data": {
      "text/plain": [
       "1"
      ]
     },
     "execution_count": 40,
     "metadata": {},
     "output_type": "execute_result"
    }
   ],
   "source": [
    "a_gds.export_to_gds('export_test.gds')"
   ]
  },
  {
   "cell_type": "code",
   "execution_count": 30,
   "metadata": {},
   "outputs": [],
   "source": [
    "a_gds = design.renderers.gds"
   ]
  },
  {
   "cell_type": "code",
   "execution_count": 157,
   "metadata": {},
   "outputs": [],
   "source": [
    "a_gds.options.tolerance = '0.00001'\n",
    "a_gds.options.cheese.edge_nocheese = '300um'\n",
    "a_gds.options.no_cheese.buffer = '40um'"
   ]
  },
  {
   "cell_type": "code",
   "execution_count": 224,
   "metadata": {},
   "outputs": [
    {
     "data": {
      "text/plain": [
       "{'short_segments_to_not_fillet': 'True',\n",
       " 'check_short_segments_by_scaling_fillet': '2.0',\n",
       " 'gds_unit': 0.001,\n",
       " 'ground_plane': True,\n",
       " 'negative_mask': {'main': []},\n",
       " 'fabricate': 'False',\n",
       " 'corners': 'circular bend',\n",
       " 'tolerance': '0.00001',\n",
       " 'precision': '0.000000001',\n",
       " 'width_LineString': '10um',\n",
       " 'path_filename': 'Customized_Component/Fake_Junctions.GDS',\n",
       " 'junction_pad_overlap': '5um',\n",
       " 'max_points': '199',\n",
       " 'cheese': {'datatype': '100',\n",
       "  'shape': '0',\n",
       "  'cheese_0_x': '25um',\n",
       "  'cheese_0_y': '25um',\n",
       "  'cheese_1_radius': '100um',\n",
       "  'view_in_file': {'main': {1: False}},\n",
       "  'delta_x': '100um',\n",
       "  'delta_y': '100um',\n",
       "  'edge_nocheese': '200um'},\n",
       " 'no_cheese': {'datatype': '99',\n",
       "  'buffer': '0um',\n",
       "  'cap_style': '2',\n",
       "  'join_style': '2',\n",
       "  'view_in_file': {'main': {1: False}}},\n",
       " 'bounding_box_scale_x': '1.2',\n",
       " 'bounding_box_scale_y': '1.2',\n",
       " 'ground_main_1': {'view_in_file': {'main': {1: True}}}}"
      ]
     },
     "execution_count": 224,
     "metadata": {},
     "output_type": "execute_result"
    }
   ],
   "source": [
    "a_gds.options"
   ]
  },
  {
   "cell_type": "code",
   "execution_count": 208,
   "metadata": {},
   "outputs": [],
   "source": [
    "a_gds.options['path_filename'] = 'Customized_Component/Fake_Junctions.GDS'"
   ]
  },
  {
   "cell_type": "code",
   "execution_count": 51,
   "metadata": {},
   "outputs": [],
   "source": [
    "a_gds.options.no_cheese.buffer = '0um'\n",
    "\n",
    "a_gds.options['cheese']['view_in_file']['main'][5] = False\n",
    "a_gds.options['no_cheese']['view_in_file']['main'][5] = False\n",
    "a_gds.options['ground_plane'] = True"
   ]
  },
  {
   "cell_type": "code",
   "execution_count": 49,
   "metadata": {},
   "outputs": [
    {
     "name": "stdout",
     "output_type": "stream",
     "text": [
      "0.002\n",
      "10.0 nH 0.1 uA / um2 0.00024198969005548028\n"
     ]
    }
   ],
   "source": [
    "q1.options.layer = 1\n",
    "d.options.layer = 5\n",
    "gui.rebuild()"
   ]
  },
  {
   "cell_type": "code",
   "execution_count": 25,
   "metadata": {},
   "outputs": [],
   "source": [
    "a_gds.options['ground_plane'] = True"
   ]
  },
  {
   "cell_type": "code",
   "execution_count": 52,
   "metadata": {},
   "outputs": [
    {
     "name": "stderr",
     "output_type": "stream",
     "text": [
      "03:53PM 34s WARNING [_qgeometry_to_gds]: Unexpected shapely object geometry.The variable qgeometry_element is <class 'numpy.float64'>, method can currently handle Polygon and FlexPath.\n",
      "03:53PM 34s WARNING [_import_junction_gds_file]: Not able to find file:\"../resources/Fake_Junctions.GDS\".  Not used to replace junction. Checked directory:\"/Users/wendy/Desktop/resources\".\n"
     ]
    },
    {
     "data": {
      "text/plain": [
       "1"
      ]
     },
     "execution_count": 52,
     "metadata": {},
     "output_type": "execute_result"
    }
   ],
   "source": [
    "\n",
    "# a_gds.options['short_segments_to_not_fillet'] = True\n",
    "# a_gds.options['check_short_segments_by_scaling_fillet'] = 1.0\n",
    "a_gds.export_to_gds('Dolan.gds')#, highlight_qcomponents=['TQ1'])"
   ]
  },
  {
   "cell_type": "code",
   "execution_count": 32,
   "metadata": {},
   "outputs": [
    {
     "data": {
      "text/plain": [
       "{'short_segments_to_not_fillet': 'True',\n",
       " 'check_short_segments_by_scaling_fillet': '2.0',\n",
       " 'gds_unit': 0.001,\n",
       " 'ground_plane': True,\n",
       " 'negative_mask': {'main': []},\n",
       " 'fabricate': 'False',\n",
       " 'corners': 'circular bend',\n",
       " 'tolerance': '0.00001',\n",
       " 'precision': '0.000000001',\n",
       " 'width_LineString': '10um',\n",
       " 'path_filename': '../resources/Fake_Junctions.GDS',\n",
       " 'junction_pad_overlap': '5um',\n",
       " 'max_points': '199',\n",
       " 'cheese': {'datatype': '100',\n",
       "  'shape': '0',\n",
       "  'cheese_0_x': '25um',\n",
       "  'cheese_0_y': '25um',\n",
       "  'cheese_1_radius': '100um',\n",
       "  'view_in_file': {'main': {1: True}},\n",
       "  'delta_x': '100um',\n",
       "  'delta_y': '100um',\n",
       "  'edge_nocheese': '200um'},\n",
       " 'no_cheese': {'datatype': '99',\n",
       "  'buffer': '25um',\n",
       "  'cap_style': '2',\n",
       "  'join_style': '2',\n",
       "  'view_in_file': {'main': {1: True}}},\n",
       " 'bounding_box_scale_x': '1.2',\n",
       " 'bounding_box_scale_y': '1.2'}"
      ]
     },
     "execution_count": 32,
     "metadata": {},
     "output_type": "execute_result"
    }
   ],
   "source": [
    "a_gds.options"
   ]
  },
  {
   "cell_type": "code",
   "execution_count": 127,
   "metadata": {},
   "outputs": [
    {
     "data": {
      "text/plain": [
       "['d']"
      ]
     },
     "execution_count": 127,
     "metadata": {},
     "output_type": "execute_result"
    }
   ],
   "source": [
    "design.components.keys()"
   ]
  },
  {
   "cell_type": "code",
   "execution_count": null,
   "metadata": {},
   "outputs": [],
   "source": []
  }
 ],
 "metadata": {
  "kernelspec": {
   "display_name": "qmetal",
   "language": "python",
   "name": "qmetal"
  },
  "language_info": {
   "codemirror_mode": {
    "name": "ipython",
    "version": 3
   },
   "file_extension": ".py",
   "mimetype": "text/x-python",
   "name": "python",
   "nbconvert_exporter": "python",
   "pygments_lexer": "ipython3",
   "version": "3.10.8"
  },
  "orig_nbformat": 4
 },
 "nbformat": 4,
 "nbformat_minor": 2
}
