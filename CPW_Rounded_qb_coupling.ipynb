{
 "cells": [
  {
   "cell_type": "code",
   "execution_count": 16,
   "metadata": {},
   "outputs": [],
   "source": [
    "%reload_ext autoreload\n",
    "%autoreload 2"
   ]
  },
  {
   "cell_type": "code",
   "execution_count": 1,
   "metadata": {},
   "outputs": [],
   "source": [
    "import numpy as np\n",
    "import pandas as pd\n",
    "import matplotlib.pyplot as plt\n",
    "import astropy.units as u\n",
    "import astropy.constants as c\n",
    "import seaborn as sns"
   ]
  },
  {
   "cell_type": "code",
   "execution_count": null,
   "metadata": {},
   "outputs": [],
   "source": [
    "import os\n",
    "import shutil\n",
    "# import time"
   ]
  },
  {
   "cell_type": "code",
   "execution_count": 18,
   "metadata": {},
   "outputs": [],
   "source": [
    "#This imports the necessary path to draw the single pad transmon design. \n",
    "import sys\n",
    "sys.path.append('/Customized_Components')\n",
    "from rounded_single_pad import Round_TransmonPocket_Single as transmon\n",
    "import Transmon_property as trans_p\n",
    "import Transmon_specifications as jj\n",
    "\n",
    "# import shapely\n",
    "import warnings\n",
    "from shapely.errors import ShapelyDeprecationWarning\n",
    "warnings.filterwarnings(\"ignore\", category=ShapelyDeprecationWarning)"
   ]
  },
  {
   "cell_type": "code",
   "execution_count": 4,
   "metadata": {},
   "outputs": [],
   "source": [
    "# import shapely\n",
    "import warnings\n",
    "# from shapely.errors import ShapelyDeprecationWarning\n",
    "warnings.filterwarnings(\"ignore\", category=RuntimeWarning)"
   ]
  },
  {
   "cell_type": "code",
   "execution_count": 5,
   "metadata": {},
   "outputs": [],
   "source": [
    "from qiskit_metal import designs, draw\n",
    "from qiskit_metal import MetalGUI, Dict, Headings\n",
    "\n",
    "from qiskit_metal.qlibrary.couplers.coupled_line_tee import CoupledLineTee\n",
    "\n",
    "from qiskit_metal.qlibrary.tlines.mixed_path import RouteMixed\n",
    "from qiskit_metal.qlibrary.tlines.straight_path import RouteStraight"
   ]
  },
  {
   "cell_type": "code",
   "execution_count": 6,
   "metadata": {},
   "outputs": [],
   "source": [
    "# import seaborn as sns"
   ]
  },
  {
   "cell_type": "code",
   "execution_count": 7,
   "metadata": {},
   "outputs": [],
   "source": [
    "phi0 = c.h/2/c.e.si\n",
    "T = 30*u.mK\n",
    "epsilon_r = 11.45\n",
    "cc = 1664080*u.fF/u.m"
   ]
  },
  {
   "cell_type": "code",
   "execution_count": 8,
   "metadata": {},
   "outputs": [
    {
     "name": "stderr",
     "output_type": "stream",
     "text": [
      "04:07PM 20s CRITICAL [_qt_message_handler]: line: 0, func: None(), file: None  WARNING: Populating font family aliases took 149 ms. Replace uses of missing font family \"Courier\" with one that exists to avoid this cost. \n",
      "\n"
     ]
    }
   ],
   "source": [
    "design = designs.DesignPlanar({}, True)\n",
    "design.chips.main.size['size_x'] = '20 mm'\n",
    "design.chips.main.size['size_y'] = '10 mm'\n",
    "\n",
    "design.variables['cpw_width'] = '15.9 um'\n",
    "design.variables['cpw_gap'] = '9 um'\n",
    "\n",
    "design.variables['trace_width'] = '12.4 um'\n",
    "cpw_pin_width = 12.4*u.um\n",
    "design.variables['trace_gap'] = '7 um'\n",
    "cpw_gap = 7*u.um\n",
    "\n",
    "design.variables['pad_buffer_radius'] = '30 um'\n",
    "design.variables['buffer_resolution'] = '10'\n",
    "design.variables['connection_pad_buffer_radius'] = '2 um'\n",
    "\n",
    "# design.chips['main']['material'] = 'Silicon'\n",
    "\n",
    "gui = MetalGUI(design)"
   ]
  },
  {
   "cell_type": "markdown",
   "metadata": {},
   "source": [
    "Component-specific variables"
   ]
  },
  {
   "cell_type": "code",
   "execution_count": 9,
   "metadata": {},
   "outputs": [],
   "source": [
    "\n",
    "\n",
    "qb_options = dict(\n",
    "pad_pocket_distance_top = '40um',\n",
    "connection_pads = dict(\n",
    "    a = dict(loc_W  = 0, \n",
    "            loc_H =  1, \n",
    "            pad_gap = '10um',\n",
    "            pad_height = '20um',\n",
    "            pad_width = '80um',\n",
    "            pad_cpw_extent =  '10um',\n",
    "            pocket_rise = '0um',\n",
    "            cpw_extend = '0um',\n",
    "            pocket_extent = '0um')))\n",
    "\n",
    "\n",
    "TQ_options = dict(prime_width = design.variables['cpw_width'],\n",
    "               prime_gap = design.variables['cpw_gap'],\n",
    "               second_width = design.variables['trace_width'],\n",
    "               second_gap = design.variables['trace_gap'],\n",
    "               down_length = '60um',\n",
    "               coupling_space = '5um',\n",
    "               open_termination=False,\n",
    "               hfss_wire_bonds = False,\n",
    "               q3d_wire_bonds = False)\n",
    "\n",
    "CPW_options = Dict(trace_width = design.variables['trace_width'],\n",
    "               trace_gap  = design.variables['trace_gap'],\n",
    "        total_length='5 mm',\n",
    "        hfss_wire_bonds = True,\n",
    "        q3d_wire_bonds = True,\n",
    "        fillet='30 um',\n",
    "        lead = dict(start_straight='20um', end_straight = '50um'),\n",
    "        pin_inputs=Dict(\n",
    "            start_pin=Dict(component='Q1', pin='a'),\n",
    "            end_pin=Dict(component='TQ1', pin='second_end')), )\n",
    "\n",
    "pin_inputs = Dict(\n",
    "            start_pin=Dict(component='Q1', pin='a'),\n",
    "            end_pin=Dict(component='TQ1', pin='second_end'))\n",
    "\n",
    "trans_options = Dict(hfss_wire_bonds = True,\n",
    "                     q3d_wirebonds = True,\n",
    "               pin_inputs=Dict(\n",
    "                 start_pin=Dict(\n",
    "                     component='TQ1',\n",
    "                     pin='prime_start'),\n",
    "                 end_pin=Dict(\n",
    "                     component='TQ2',\n",
    "                     pin='prime_end')))\n"
   ]
  },
  {
   "cell_type": "markdown",
   "metadata": {},
   "source": [
    "## Single Pad--Verify Design"
   ]
  },
  {
   "cell_type": "markdown",
   "metadata": {},
   "source": [
    "### Draw the single pad transmon"
   ]
  },
  {
   "cell_type": "code",
   "execution_count": 10,
   "metadata": {},
   "outputs": [],
   "source": [
    "design.delete_all_components()"
   ]
  },
  {
   "cell_type": "code",
   "execution_count": 19,
   "metadata": {},
   "outputs": [],
   "source": [
    "design.overwrite_enabled = True\n",
    "\n",
    "size = 0.25*u.mm\n",
    "gap = 30*u.um\n",
    "size = size.to(u.um)\n",
    "pocket_width = size+2*gap\n",
    "\n",
    "\n",
    "op = Dict(\n",
    "    pos_x = '0',\n",
    "    pad_height = '{}um'.format(size.value),\n",
    "    pos_y = '0',\n",
    "    pad_width = '{}'.format(size),\n",
    "    pocket_width = '{}'.format(pocket_width), \n",
    "    **qb_options)\n",
    "\n",
    "q1 = transmon(design,'Q1',options = op)\n",
    "\n",
    "gui.rebuild()\n",
    "gui.zoom_on_components(['Q1'])\n"
   ]
  },
  {
   "cell_type": "code",
   "execution_count": 41,
   "metadata": {},
   "outputs": [],
   "source": [
    "TQ_options['down_length'] = '40 um'\n",
    "TQ1 = CoupledLineTee(design, 'TQ1', options=dict(pos_x='-0.1 mm',\n",
    "                                             pos_y='0.5 mm',\n",
    "                                             mirror = True,\n",
    "                                             coupling_length='120 um', **TQ_options))\n",
    "TQ1.options['open_termination'] = False\n",
    "\n",
    "gui.rebuild()\n",
    "gui.autoscale()\n",
    "\n"
   ]
  },
  {
   "cell_type": "code",
   "execution_count": null,
   "metadata": {},
   "outputs": [],
   "source": []
  },
  {
   "cell_type": "code",
   "execution_count": 180,
   "metadata": {},
   "outputs": [],
   "source": [
    "def Construct_CPW(pad_size, offset, extend, Lj, Cj, TQx,TQy, small, TQ_mir, buffer = 150*u.um):\n",
    "    gap1 = 0.056\n",
    "    gap = 30*u.um\n",
    "    size = pad_size.to(u.um)\n",
    "    pocket_width = size+2*gap\n",
    "    design.delete_component('cpw_1')\n",
    "    coupling_len = extend\n",
    "    q1.options['pad_height'] = '{}'.format(size)\n",
    "    q1.options['pad_width'] = '{}'.format(size)\n",
    "    q1.options['pocket_width'] = '{}'.format(pocket_width)\n",
    "    q1.options['connection_pads']['a']['pad_width'] = '{}'.format(coupling_len)\n",
    "    q1.options.hfss_inductance = Lj\n",
    "    q1.options.q3d_inductance =  Lj\n",
    "    q1.options.hfss_capacitance = Cj\n",
    "    q1.options.q3d_capacitance =  Cj\n",
    "\n",
    "\n",
    "\n",
    "    eig_all.sim.renderer.options['Lj'] = Lj\n",
    "    eig_all.sim.renderer.options['Cj'] = Cj\n",
    "\n",
    "    eig_all.sim.setup.vars = Dict(Lj1= Lj, Cj1= Cj)    \n",
    "    gui.rebuild()\n",
    "    \n",
    "\n",
    "    anchors = trans_p.anchor_CPW_round(q1,buffer, gap1, 2, small = small, last_offset = offset)\n",
    "    design.delete_component('cpw_1')\n",
    "    gui.rebuild()\n",
    "    TQ1.options.pos_x = TQx\n",
    "    TQ1.options.pos_y = TQy\n",
    "    TQ1.options.mirror = TQ_mir\n",
    "    gui.rebuild()\n",
    "    \n",
    "    pin_inputs = Dict(\n",
    "                start_pin=Dict(component='Q1', pin='a'),\n",
    "                end_pin=Dict(component='TQ1', pin='second_end'))\n",
    "\n",
    "    CPW_options['pin_inputs'] = pin_inputs\n",
    "\n",
    "    qa = RouteMixed(design, 'cpw_1', options = Dict(anchors = anchors, **CPW_options))\n",
    "\n",
    "    gui.rebuild()\n",
    "\n",
    "    return qa\n",
    "\n",
    "    \n",
    "    # length = trans_p.find_total_len(qa, q1, TQ1, count_extend=False)\n",
    "    # return (trans_p.find_actual_frequency(length, cpw_pin_width, cpw_gap), length)"
   ]
  },
  {
   "cell_type": "code",
   "execution_count": null,
   "metadata": {},
   "outputs": [],
   "source": []
  },
  {
   "attachments": {},
   "cell_type": "markdown",
   "metadata": {},
   "source": [
    "## Simulation of couplings"
   ]
  },
  {
   "attachments": {},
   "cell_type": "markdown",
   "metadata": {},
   "source": [
    "import qiskit Ansys packages"
   ]
  },
  {
   "cell_type": "code",
   "execution_count": null,
   "metadata": {},
   "outputs": [],
   "source": [
    "from qiskit_metal.analyses.quantization import LOManalysis\n",
    "from qiskit_metal.analyses.quantization import EPRanalysis"
   ]
  },
  {
   "attachments": {},
   "cell_type": "markdown",
   "metadata": {},
   "source": [
    "Set the path to be optimal to save screenshots"
   ]
  },
  {
   "cell_type": "code",
   "execution_count": null,
   "metadata": {},
   "outputs": [],
   "source": [
    "original = r'C:\\Users\\slab\\Desktop\\Wendy-qiskit-code\\ansys.png'\n",
    "path = r'C:\\Users\\slab\\Desktop\\Wendy-qiskit-code\\Ansys_screenshoots\\Simulation_0402_2'"
   ]
  },
  {
   "cell_type": "code",
   "execution_count": null,
   "metadata": {},
   "outputs": [],
   "source": [
    "all = []\n",
    "components  = ['Q1','cpw_1','TQ1']\n",
    "nmode = 2\n",
    "datas = pd.DataFrame()"
   ]
  },
  {
   "cell_type": "code",
   "execution_count": null,
   "metadata": {},
   "outputs": [],
   "source": [
    "renderer_hfss = design.renderers.hfss\n",
    "renderer_q3d = design.renderers.q3d"
   ]
  },
  {
   "cell_type": "code",
   "execution_count": null,
   "metadata": {},
   "outputs": [],
   "source": [
    "c1 = LOManalysis(design, \"q3d\")\n",
    "c1.sim.setup.min_passes  = 10\n",
    "c1.sim.setup.max_passes = 20\n",
    "c1.sim.setup.freq_ghz = 5\n",
    "\n",
    "c1.sim.renderer.options['wb_threshold'] ='72um'\n",
    "c1.sim.renderer.options['x_buffer_width_mm'] = 0.5\n",
    "c1.sim.renderer.options['y_buffer_width_mm'] = 0.5"
   ]
  },
  {
   "cell_type": "code",
   "execution_count": null,
   "metadata": {},
   "outputs": [],
   "source": [
    "# c1.sim.renderer.options"
   ]
  },
  {
   "cell_type": "code",
   "execution_count": null,
   "metadata": {},
   "outputs": [],
   "source": [
    "eig_all = EPRanalysis(design, 'hfss')\n",
    "\n",
    "hfss = eig_all.sim.renderer\n",
    "eig_all.sim.renderer.options['wb_threshold'] = '72um'\n",
    "\n",
    "eig_all.sim.setup.max_passes = 30\n",
    "eig_all.sim.setup.max_delta_f = 0.1\n",
    "eig_all.sim.setup.n_modes = nmode\n",
    "eig_all.sim.setup.vars = Dict(Lj1= '13 nH', Cj1= '0 fF')\n",
    "eig_all.sim.renderer.options['x_buffer_width_mm'] = 0.5\n",
    "eig_all.sim.renderer.options['y_buffer_width_mm'] = 0.5\n"
   ]
  },
  {
   "cell_type": "markdown",
   "metadata": {},
   "source": [
    "Loop over different CPW, different coupling length, different pad size"
   ]
  },
  {
   "cell_type": "code",
   "execution_count": 14,
   "metadata": {},
   "outputs": [],
   "source": [
    "guesses = pd.read_csv(r'data/educated_guess_0402.csv')"
   ]
  },
  {
   "cell_type": "code",
   "execution_count": null,
   "metadata": {},
   "outputs": [
    {
     "name": "stderr",
     "output_type": "stream",
     "text": [
      "07:16PM 54s INFO [delete_component]: Called delete_component cpw_1, but such a component is not in the design cache dictionary of components.\n",
      "07:16PM 54s WARNING [check_lengths]: For path table, component=cpw_1, key=trace has short segments that could cause issues with fillet. Values in (9-10)  are index(es) in shapely geometry.\n",
      "07:16PM 54s WARNING [check_lengths]: For path table, component=cpw_1, key=cut has short segments that could cause issues with fillet. Values in (9-10)  are index(es) in shapely geometry.\n",
      "07:16PM 54s WARNING [check_lengths]: For path table, component=cpw_1, key=trace has short segments that could cause issues with fillet. Values in (9-10)  are index(es) in shapely geometry.\n",
      "07:16PM 54s WARNING [check_lengths]: For path table, component=cpw_1, key=cut has short segments that could cause issues with fillet. Values in (9-10)  are index(es) in shapely geometry.\n",
      "07:16PM 54s WARNING [check_lengths]: For path table, component=cpw_1, key=trace has short segments that could cause issues with fillet. Values in (9-10)  are index(es) in shapely geometry.\n",
      "07:16PM 54s WARNING [check_lengths]: For path table, component=cpw_1, key=cut has short segments that could cause issues with fillet. Values in (9-10)  are index(es) in shapely geometry.\n",
      "INFO 07:16PM [connect_project]: Connecting to Ansys Desktop API...\n",
      "INFO 07:16PM [load_ansys_project]: \tOpened Ansys App\n",
      "INFO 07:16PM [load_ansys_project]: \tOpened Ansys Desktop v2021.2.0\n",
      "INFO 07:16PM [load_ansys_project]: \tOpened Ansys Project\n",
      "\tFolder:    C:/Users/slab/Documents/Ansoft/\n",
      "\tProject:   Project35\n",
      "INFO 07:16PM [connect_design]: \tOpened active design\n",
      "\tDesign:    all_freqs_hfss [Solution type: Eigenmode]\n",
      "INFO 07:16PM [get_setup]: \tOpened setup `Setup`  (<class 'pyEPR.ansys.HfssEMSetup'>)\n",
      "INFO 07:16PM [connect]: \tConnected to project \"Project35\" and design \"all_freqs_hfss\" 😀 \n",
      "\n",
      "INFO 07:16PM [connect_design]: \tOpened active design\n",
      "\tDesign:    all_freqs_hfss [Solution type: Eigenmode]\n",
      "INFO 07:17PM [get_setup]: \tOpened setup `Setup`  (<class 'pyEPR.ansys.HfssEMSetup'>)\n",
      "INFO 07:17PM [analyze]: Analyzing setup Setup\n"
     ]
    }
   ],
   "source": [
    "# path = r'C:\\Users\\slab\\Desktop\\Wendy-qiskit-code\\Ansys_screenshoots\\Simulation_0314\\loop'\n",
    "gap1 = 0.056\n",
    "datas = pd.DataFrame()\n",
    "for k in range(10):\n",
    "    for coupling_len in np.array([40,50,60])*u.um:\n",
    "        dat = {}\n",
    "        gap = 30*u.um\n",
    "        size = guesses['Sizes (um)'].values[k]*u.um\n",
    "        buffer = guesses['Buffers (um)'].values[k]*u.um\n",
    "        offset = guesses['Offsets (mm)'].values[k]\n",
    "        Lj = guesses['Ljs'].values[k]\n",
    "        Cj = jj.find_junction_capacitance(int(Lj[:-2])*u.nH)\n",
    "        \n",
    "        Cj1 = str(Cj.to(u.fF).value)+' fF'\n",
    "        size = size.to(u.um)\n",
    "        pocket_width = size+2*gap\n",
    "\n",
    "        TQx = guesses['TQx'].values[k]\n",
    "        TQy = guesses['TQy'].values[k]\n",
    "        TQ_mir = guesses['TQ_mir'].values[k]\n",
    "        small = guesses['Small'].values[k]\n",
    "\n",
    "        \n",
    "        dat['pad_size(mm)'] = size.to(u.mm).value\n",
    "        dat['coupling_len(um)'] = coupling_len.to(u.um).value\n",
    "        dat['buffer(um)'] = buffer.to(u.um).value\n",
    "        dat['offset']  = offset\n",
    "        dat['target_freq(GHz)'] = guesses['Target_qb_Freq(GHz)'].values[k]\n",
    "        dat['target_res_freq(GHz)'] = guesses['CPW_freq_predict(GHz)'].values[k]+2.4\n",
    "        dat['Cj (fF)'] = Cj.to(u.fF).value\n",
    "        dat['Lj (nH)'] = guesses['Ljs (nH)'].values[k]\n",
    "        dat['Small_Wrap'] = small\n",
    "        dat['TQx'] = TQx\n",
    "        dat['TQy'] = TQy\n",
    "        dat['TQ_mir'] = TQ_mir\n",
    "        \n",
    "        \n",
    "        q1 = Construct_CPW(size, offset, coupling_len, Lj, Cj1, TQx,TQy, small, TQ_mir, buffer)\n",
    "\n",
    "        TQ1.options['open_termination'] = True\n",
    "        gui.rebuild()\n",
    "\n",
    "        c1.sim.run(components=['Q1','cpw_1','TQ1'])#, open_terminations=[('Q1', 'a')])#, ('Q1', 'bus1'), ('Q1', 'bus2')])\n",
    "        c1.sim.capacitance_matrix \n",
    "\n",
    "        c1.sim._get_results_from_renderer()\n",
    "        c_mat1 = c1.sim.capacitance_matrix\n",
    "        renderer_q3d.clean_active_design()\n",
    "        dat['C_CPW_Qb'] = c_mat1['pad_top_Q1']['a_connector_pad_Q1']\n",
    "        dat['C_CPW_Qbp'] = c_mat1['pad_top_Q1']['g_wb']\n",
    "\n",
    "        TQ1.options['open_termination'] = False\n",
    "        gui.rebuild()\n",
    "\n",
    "        c1.sim.run(components=['Q1','cpw_1','TQ1'])#, open_terminations=[('Q1', 'a')])#, ('Q1', 'bus1'), ('Q1', 'bus2')])\n",
    "        c1.sim.capacitance_matrix \n",
    "\n",
    "        c1.sim._get_results_from_renderer()\n",
    "        c_mat = c1.sim.capacitance_matrix\n",
    "        renderer_q3d.clean_active_design()\n",
    "        dat['C_Qb_g'] = c_mat['pad_top_Q1']['a_connector_pad_Q1']\n",
    "\n",
    "\n",
    "        eig_all.sim.run(name=\"all_freqs\", components=components)#, open_terminations=[('Q1', 'a')])\n",
    "        convergence = pd.read_csv('hfss_eig_f_convergence.csv')\n",
    "        conv = convergence.dropna()\n",
    "            \n",
    "        ind = list(conv.keys())[1:]\n",
    "        for i in range(nmode):\n",
    "            freq = conv[ind[(i)]].values[-1]\n",
    "            dat['Freq'+str(i+1)+'(GHz)'] = freq\n",
    "            \n",
    "        for i in range(nmode):\n",
    "                hfss.modeler._modeler.ShowWindow()\n",
    "                hfss.set_mode(i+1,'Setup')\n",
    "                hfss.plot_ansys_fields('main')\n",
    "                hfss.save_screenshot()\n",
    "                hfss.clear_fields(['main'])\n",
    "                \n",
    "                actual = r'C:\\Users\\slab\\Desktop\\Wendy-qiskit-code\\size{:.3f}_w{:.3f}_g{:.3f}_m{}_{}_L{}_C{}.png'.format((size.value),(coupling_len.to(u.um).value),(buffer),i,offset,int(Lj[:-2]), Cj)\n",
    "                os.rename(original, actual)\n",
    "                fail = True\n",
    "                i = 0\n",
    "                while fail:\n",
    "\n",
    "                    try:\n",
    "                        dest = shutil.move(actual, path)\n",
    "                    except:\n",
    "                        i+= 1\n",
    "                        os.rename(actual,(actual+'{}'.format(i)))\n",
    "                        actual = (actual+'{}'.format(i))\n",
    "                    else:\n",
    "                        fail = False\n",
    "                \n",
    "        #Run the EPR analysis\n",
    "        try:\n",
    "            del eig_all.setup.junctions['jj']\n",
    "        except:\n",
    "            print('saddd')\n",
    "        eig_all.setup.junctions.jj1 = Dict(rect='JJ_rect_Lj_Q1_rect_jj', line='JJ_Lj_Q1_rect_jj_',\n",
    "                        Lj_variable='Lj1', Cj_variable='Cj1')\n",
    "        eig_all.setup.sweep_variable = 'Lj1'\n",
    "        eig_all.run_epr()\n",
    "\n",
    "        #Save the EPR data\n",
    "        chi = eig_all.sim.renderer.epr_quantum_analysis.get_chis().to_numpy()\n",
    "        freq_EPR= eig_all.sim.renderer.epr_quantum_analysis.get_frequencies().to_numpy()[:,0]\n",
    "        \n",
    "        renderer_hfss.clean_active_design()\n",
    "        for i in range(nmode):\n",
    "            freq = freq_EPR[i]\n",
    "            dat['Freq_EPR'+str(i+1)+'(MHz)'] = freq\n",
    "            for j in range(i+1):\n",
    "                dat['Chi'+str(i+1)+'_'+str(j+1)+'(MHz)'] = chi[i][j]\n",
    "\n",
    "        data = pd.DataFrame(dat, index = [0])\n",
    "        datas = pd.concat([datas,data], ignore_index=True)\n",
    "\n",
    "\n",
    "        datas.to_csv('data\\CPW_QB_freq_cap_0402.csv')\n"
   ]
  },
  {
   "cell_type": "code",
   "execution_count": null,
   "metadata": {},
   "outputs": [],
   "source": []
  },
  {
   "cell_type": "code",
   "execution_count": null,
   "metadata": {},
   "outputs": [],
   "source": []
  }
 ],
 "metadata": {
  "kernelspec": {
   "display_name": "qiskit",
   "language": "python",
   "name": "python3"
  },
  "language_info": {
   "codemirror_mode": {
    "name": "ipython",
    "version": 3
   },
   "file_extension": ".py",
   "mimetype": "text/x-python",
   "name": "python",
   "nbconvert_exporter": "python",
   "pygments_lexer": "ipython3",
   "version": "3.11.0"
  },
  "orig_nbformat": 4,
  "vscode": {
   "interpreter": {
    "hash": "44925f89eea0304a809c150d508a9f47d604add5952411f6e449e56bdadb9133"
   }
  }
 },
 "nbformat": 4,
 "nbformat_minor": 2
}
