{
 "cells": [
  {
   "cell_type": "markdown",
   "metadata": {},
   "source": [
    "This notebook shows how to design a transmon pocket (single pad design) in qiskit metal. The notebook only need **TransmonPocket_Single** function from a relative path '../../resources'."
   ]
  },
  {
   "cell_type": "code",
   "execution_count": 1,
   "metadata": {},
   "outputs": [],
   "source": [
    "%reload_ext autoreload\n",
    "%autoreload 2"
   ]
  },
  {
   "cell_type": "code",
   "execution_count": 2,
   "metadata": {},
   "outputs": [],
   "source": [
    "#This imports the necessary path to draw the single pad transmon design. \n",
    "import sys\n",
    "sys.path.append('Customized_Components')\n",
    "from single_pad_transmon_pocket import TransmonPocket_Single\n",
    "import Transmon_property as trans_p\n",
    "\n",
    "import shapely\n",
    "import warnings\n",
    "from shapely.errors import ShapelyDeprecationWarning\n",
    "warnings.filterwarnings(\"ignore\", category=ShapelyDeprecationWarning)"
   ]
  },
  {
   "cell_type": "code",
   "execution_count": 3,
   "metadata": {},
   "outputs": [],
   "source": [
    "import os\n",
    "import shutil"
   ]
  },
  {
   "cell_type": "code",
   "execution_count": 4,
   "metadata": {},
   "outputs": [],
   "source": [
    "import numpy as np\n",
    "import astropy.units as u\n",
    "import astropy.constants as c\n",
    "\n",
    "import pandas as pd\n",
    "import matplotlib.pyplot as plt\n",
    "\n",
    "# %matplotlib inline"
   ]
  },
  {
   "cell_type": "code",
   "execution_count": 5,
   "metadata": {},
   "outputs": [],
   "source": [
    "from qiskit_metal import designs, draw\n",
    "from qiskit_metal import MetalGUI, Dict, Headings\n",
    "\n",
    "from qiskit_metal.qlibrary.couplers.coupled_line_tee import CoupledLineTee\n",
    "from qiskit_metal.qlibrary.terminations.short_to_ground import ShortToGround\n",
    "from qiskit_metal.qlibrary.terminations.open_to_ground import OpenToGround\n",
    "from qiskit_metal.qlibrary.terminations.launchpad_wb import LaunchpadWirebond\n",
    "\n",
    "from qiskit_metal.qlibrary.tlines.mixed_path import RouteMixed\n",
    "from qiskit_metal.qlibrary.tlines.straight_path import RouteStraight\n",
    "\n",
    "from qiskit_metal.analyses.quantization import LOManalysis\n",
    "from qiskit_metal.analyses.quantization import EPRanalysis\n",
    "\n",
    "from qiskit_metal.toolbox_metal.parsing import *"
   ]
  },
  {
   "cell_type": "code",
   "execution_count": 6,
   "metadata": {},
   "outputs": [],
   "source": [
    "# from qiskit_metal.qlibrary.terminations.short_to_ground import ShortToGround\n",
    "# from qiskit_metal.qlibrary.terminations.open_to_ground import OpenToGround\n"
   ]
  },
  {
   "cell_type": "code",
   "execution_count": 7,
   "metadata": {},
   "outputs": [],
   "source": [
    "# pd.read_csv(\"Frequencies from metal pad size.csv\",).plot(x= 'Pad_len (mm)', y = 'EPR Frequency (GHz)')\n",
    "# plt.ylabel('Frequency (GHz)')\n",
    "# plt.show()"
   ]
  },
  {
   "attachments": {},
   "cell_type": "markdown",
   "metadata": {},
   "source": [
    "The target frequency is around 4.2GHz. To get this frequency, we need the pad size to be around 0.275mm."
   ]
  },
  {
   "attachments": {},
   "cell_type": "markdown",
   "metadata": {},
   "source": [
    "## Global variables"
   ]
  },
  {
   "cell_type": "code",
   "execution_count": 8,
   "metadata": {},
   "outputs": [],
   "source": [
    "phi0 = c.h/2/c.e.si\n",
    "T = 30*u.mK\n",
    "epsilon_r = 11.45"
   ]
  },
  {
   "cell_type": "code",
   "execution_count": 10,
   "metadata": {
    "tags": [
     "parameters"
    ]
   },
   "outputs": [],
   "source": [
    "design = designs.DesignPlanar({}, True)\n",
    "design.chips.main.size['size_x'] = '20 mm'\n",
    "design.chips.main.size['size_y'] = '10 mm'\n",
    "\n",
    "design.variables['cpw_width'] = '15 um'\n",
    "design.variables['cpw_gap'] = '9 um'\n",
    "\n",
    "design.variables['trace_width'] = '10 um'\n",
    "design.variables['trace_gap'] = '7 um'\n",
    "\n",
    "# design.chips['main']['material'] = 'Silicon'\n",
    "\n",
    "gui = MetalGUI(design)"
   ]
  },
  {
   "attachments": {},
   "cell_type": "markdown",
   "metadata": {},
   "source": [
    "Component-specific variables"
   ]
  },
  {
   "cell_type": "code",
   "execution_count": 11,
   "metadata": {
    "tags": [
     "parameters"
    ]
   },
   "outputs": [],
   "source": [
    "\n",
    "\n",
    "qb_options = dict(\n",
    "pad_pocket_distance_top = '40um',\n",
    "connection_pads = dict(\n",
    "    a = dict(loc_W  = 1, \n",
    "            loc_H =  1, \n",
    "            pad_gap = '10um',\n",
    "            pad_height = '20um',\n",
    "            pad_width = '80um',\n",
    "            pad_cpw_extent =  '10um',\n",
    "            pocket_rise = '0um',\n",
    "            cpw_extend = '5um')))\n",
    "\n",
    "TQ_options = dict(prime_width = design.variables['cpw_width'],\n",
    "               prime_gap = design.variables['cpw_gap'],\n",
    "               second_width = design.variables['trace_width'],\n",
    "               second_gap = design.variables['trace_gap'],\n",
    "               down_length = '60um',\n",
    "               coupling_space = '5um',\n",
    "               open_termination=False,\n",
    "               hfss_wire_bonds = False,\n",
    "               q3d_wire_bonds = False)\n",
    "\n",
    "CPW_options = Dict(trace_width = design.variables['trace_width'],\n",
    "               trace_gap  = design.variables['trace_gap'],\n",
    "        total_length='5 mm',\n",
    "        hfss_wire_bonds = True,\n",
    "        q3d_wire_bonds = True,\n",
    "        fillet='30 um',\n",
    "        lead = dict(start_straight='20um', end_straight = '50um'),\n",
    "        pin_inputs=Dict(\n",
    "            start_pin=Dict(component='Q1', pin='a'),\n",
    "            end_pin=Dict(component='TQ1', pin='second_end')), )\n",
    "\n",
    "pin_inputs = Dict(\n",
    "            start_pin=Dict(component='Q1', pin='a'),\n",
    "            end_pin=Dict(component='TQ1', pin='second_end'))\n",
    "\n",
    "trans_options = Dict(hfss_wire_bonds = True,\n",
    "                     q3d_wirebonds = True,\n",
    "               pin_inputs=Dict(\n",
    "                 start_pin=Dict(\n",
    "                     component='TQ1',\n",
    "                     pin='prime_start'),\n",
    "                 end_pin=Dict(\n",
    "                     component='TQ2',\n",
    "                     pin='prime_end')))\n"
   ]
  },
  {
   "attachments": {},
   "cell_type": "markdown",
   "metadata": {},
   "source": [
    "## Single Pad--Verify Design"
   ]
  },
  {
   "cell_type": "markdown",
   "metadata": {},
   "source": [
    "### Draw the single pad transmon"
   ]
  },
  {
   "cell_type": "code",
   "execution_count": 10,
   "metadata": {},
   "outputs": [],
   "source": [
    "design.delete_all_components()"
   ]
  },
  {
   "cell_type": "code",
   "execution_count": 11,
   "metadata": {},
   "outputs": [],
   "source": [
    "design.overwrite_enabled = True\n",
    "\n",
    "size = 0.25*u.mm\n",
    "gap = 30*u.um\n",
    "size = size.to(u.um)\n",
    "pocket_width = size+2*gap\n",
    "\n",
    "\n",
    "op = Dict(\n",
    "    pos_x = '0',\n",
    "    pad_height = '{}um'.format(size.value),\n",
    "    pos_y = '0',\n",
    "    pad_width = '{}'.format(size),\n",
    "    pocket_width = '{}'.format(pocket_width), \n",
    "    **qb_options)\n",
    "\n",
    "q1 = TransmonPocket_Single(design,'Q1',options = op)\n",
    "\n",
    "gui.rebuild()\n",
    "gui.zoom_on_components(['Q1'])\n"
   ]
  },
  {
   "cell_type": "code",
   "execution_count": 12,
   "metadata": {},
   "outputs": [],
   "source": [
    "q1.options.hfss_inductance = '13nH'\n",
    "q1.options.q3d_inductance =  '13nH'\n",
    "gui.rebuild()\n",
    "gui.autoscale()"
   ]
  },
  {
   "attachments": {},
   "cell_type": "markdown",
   "metadata": {},
   "source": [
    "### Single pad capacitance"
   ]
  },
  {
   "cell_type": "code",
   "execution_count": 15,
   "metadata": {},
   "outputs": [],
   "source": [
    "#The cell below will give an error. Go to ansys, draw a cube, and go into the material selection window\n",
    "#clone the property for Si and change permitivity to 11.45. Change the name to \"LL_Si\" \n",
    "\n",
    "#Rerun the following cell"
   ]
  },
  {
   "cell_type": "code",
   "execution_count": 13,
   "metadata": {},
   "outputs": [
    {
     "name": "stderr",
     "output_type": "stream",
     "text": [
      "INFO 02:10PM [connect_design]: \tOpened active design\n",
      "\tDesign:    Design_q3d [Solution type: Q3D]\n",
      "INFO 02:10PM [get_setup]: \tOpened setup `Setup`  (<class 'pyEPR.ansys.AnsysQ3DSetup'>)\n",
      "INFO 02:10PM [analyze]: Analyzing setup Setup\n",
      "INFO 02:11PM [get_matrix]: Exporting matrix data to (C:\\Users\\slab\\AppData\\Local\\Temp\\tmpmbqxl6s9.txt, C, , Setup:LastAdaptive, \"Original\", \"ohm\", \"nH\", \"fF\", \"mSie\", 5000000000, Maxwell, 1, False\n",
      "INFO 02:11PM [get_matrix]: Exporting matrix data to (C:\\Users\\slab\\AppData\\Local\\Temp\\tmphovlh4rg.txt, C, , Setup:AdaptivePass, \"Original\", \"ohm\", \"nH\", \"fF\", \"mSie\", 5000000000, Maxwell, 1, False\n",
      "INFO 02:11PM [get_matrix]: Exporting matrix data to (C:\\Users\\slab\\AppData\\Local\\Temp\\tmpvr5j2w5v.txt, C, , Setup:AdaptivePass, \"Original\", \"ohm\", \"nH\", \"fF\", \"mSie\", 5000000000, Maxwell, 2, False\n",
      "INFO 02:11PM [get_matrix]: Exporting matrix data to (C:\\Users\\slab\\AppData\\Local\\Temp\\tmp0xh2h4uh.txt, C, , Setup:AdaptivePass, \"Original\", \"ohm\", \"nH\", \"fF\", \"mSie\", 5000000000, Maxwell, 3, False\n",
      "INFO 02:11PM [get_matrix]: Exporting matrix data to (C:\\Users\\slab\\AppData\\Local\\Temp\\tmpyqerw438.txt, C, , Setup:AdaptivePass, \"Original\", \"ohm\", \"nH\", \"fF\", \"mSie\", 5000000000, Maxwell, 4, False\n",
      "INFO 02:11PM [get_matrix]: Exporting matrix data to (C:\\Users\\slab\\AppData\\Local\\Temp\\tmp8ca_ncga.txt, C, , Setup:AdaptivePass, \"Original\", \"ohm\", \"nH\", \"fF\", \"mSie\", 5000000000, Maxwell, 5, False\n",
      "INFO 02:11PM [get_matrix]: Exporting matrix data to (C:\\Users\\slab\\AppData\\Local\\Temp\\tmpmsxhx7qn.txt, C, , Setup:AdaptivePass, \"Original\", \"ohm\", \"nH\", \"fF\", \"mSie\", 5000000000, Maxwell, 6, False\n",
      "INFO 02:11PM [get_matrix]: Exporting matrix data to (C:\\Users\\slab\\AppData\\Local\\Temp\\tmp40f9ox67.txt, C, , Setup:AdaptivePass, \"Original\", \"ohm\", \"nH\", \"fF\", \"mSie\", 5000000000, Maxwell, 7, False\n",
      "INFO 02:11PM [get_matrix]: Exporting matrix data to (C:\\Users\\slab\\AppData\\Local\\Temp\\tmp5syv8i0w.txt, C, , Setup:AdaptivePass, \"Original\", \"ohm\", \"nH\", \"fF\", \"mSie\", 5000000000, Maxwell, 8, False\n",
      "INFO 02:11PM [get_matrix]: Exporting matrix data to (C:\\Users\\slab\\AppData\\Local\\Temp\\tmps01u3liw.txt, C, , Setup:AdaptivePass, \"Original\", \"ohm\", \"nH\", \"fF\", \"mSie\", 5000000000, Maxwell, 9, False\n",
      "INFO 02:11PM [get_matrix]: Exporting matrix data to (C:\\Users\\slab\\AppData\\Local\\Temp\\tmpi2_2nvs0.txt, C, , Setup:AdaptivePass, \"Original\", \"ohm\", \"nH\", \"fF\", \"mSie\", 5000000000, Maxwell, 10, False\n",
      "INFO 02:11PM [get_matrix]: Exporting matrix data to (C:\\Users\\slab\\AppData\\Local\\Temp\\tmpmaz0r_y3.txt, C, , Setup:AdaptivePass, \"Original\", \"ohm\", \"nH\", \"fF\", \"mSie\", 5000000000, Maxwell, 11, False\n",
      "INFO 02:11PM [get_matrix]: Exporting matrix data to (C:\\Users\\slab\\AppData\\Local\\Temp\\tmp79lq39vb.txt, C, , Setup:LastAdaptive, \"Original\", \"ohm\", \"nH\", \"fF\", \"mSie\", 5000000000, Maxwell, 1, False\n",
      "INFO 02:11PM [get_matrix]: Exporting matrix data to (C:\\Users\\slab\\AppData\\Local\\Temp\\tmpsrt3n3mj.txt, C, , Setup:AdaptivePass, \"Original\", \"ohm\", \"nH\", \"fF\", \"mSie\", 5000000000, Maxwell, 1, False\n",
      "INFO 02:11PM [get_matrix]: Exporting matrix data to (C:\\Users\\slab\\AppData\\Local\\Temp\\tmpmysyfyzs.txt, C, , Setup:AdaptivePass, \"Original\", \"ohm\", \"nH\", \"fF\", \"mSie\", 5000000000, Maxwell, 2, False\n",
      "INFO 02:11PM [get_matrix]: Exporting matrix data to (C:\\Users\\slab\\AppData\\Local\\Temp\\tmpi2qok5wn.txt, C, , Setup:AdaptivePass, \"Original\", \"ohm\", \"nH\", \"fF\", \"mSie\", 5000000000, Maxwell, 3, False\n",
      "INFO 02:11PM [get_matrix]: Exporting matrix data to (C:\\Users\\slab\\AppData\\Local\\Temp\\tmp36mk0l6q.txt, C, , Setup:AdaptivePass, \"Original\", \"ohm\", \"nH\", \"fF\", \"mSie\", 5000000000, Maxwell, 4, False\n",
      "INFO 02:11PM [get_matrix]: Exporting matrix data to (C:\\Users\\slab\\AppData\\Local\\Temp\\tmp6bwjpses.txt, C, , Setup:AdaptivePass, \"Original\", \"ohm\", \"nH\", \"fF\", \"mSie\", 5000000000, Maxwell, 5, False\n",
      "INFO 02:11PM [get_matrix]: Exporting matrix data to (C:\\Users\\slab\\AppData\\Local\\Temp\\tmpze670fp_.txt, C, , Setup:AdaptivePass, \"Original\", \"ohm\", \"nH\", \"fF\", \"mSie\", 5000000000, Maxwell, 6, False\n",
      "INFO 02:11PM [get_matrix]: Exporting matrix data to (C:\\Users\\slab\\AppData\\Local\\Temp\\tmp2uf0v3ry.txt, C, , Setup:AdaptivePass, \"Original\", \"ohm\", \"nH\", \"fF\", \"mSie\", 5000000000, Maxwell, 7, False\n",
      "INFO 02:11PM [get_matrix]: Exporting matrix data to (C:\\Users\\slab\\AppData\\Local\\Temp\\tmpz1jlrqns.txt, C, , Setup:AdaptivePass, \"Original\", \"ohm\", \"nH\", \"fF\", \"mSie\", 5000000000, Maxwell, 8, False\n",
      "INFO 02:11PM [get_matrix]: Exporting matrix data to (C:\\Users\\slab\\AppData\\Local\\Temp\\tmp4kpx78t3.txt, C, , Setup:AdaptivePass, \"Original\", \"ohm\", \"nH\", \"fF\", \"mSie\", 5000000000, Maxwell, 9, False\n",
      "INFO 02:11PM [get_matrix]: Exporting matrix data to (C:\\Users\\slab\\AppData\\Local\\Temp\\tmp4kk4j6qt.txt, C, , Setup:AdaptivePass, \"Original\", \"ohm\", \"nH\", \"fF\", \"mSie\", 5000000000, Maxwell, 10, False\n",
      "INFO 02:11PM [get_matrix]: Exporting matrix data to (C:\\Users\\slab\\AppData\\Local\\Temp\\tmpedul1iva.txt, C, , Setup:AdaptivePass, \"Original\", \"ohm\", \"nH\", \"fF\", \"mSie\", 5000000000, Maxwell, 11, False\n"
     ]
    }
   ],
   "source": [
    "c1 = LOManalysis(design, \"q3d\")\n",
    "# c1.sim.setup.max_passes = 5\n",
    "c1.sim.setup.min_passes  = 10\n",
    "c1.sim.setup.max_passes = 20\n",
    "\n",
    "c1.sim.run(components=['Q1'])#, open_terminations=[('Q1', 'a')])#, ('Q1', 'bus1'), ('Q1', 'bus2')])\n",
    "c1.sim.capacitance_matrix \n",
    "\n",
    "c1.sim._get_results_from_renderer()\n",
    "c_mat = c1.sim.capacitance_matrix\n",
    "    \n",
    "    # print(c_mat)\n",
    "    \n",
    "    # return(c_mat, design, q1)"
   ]
  },
  {
   "cell_type": "code",
   "execution_count": 14,
   "metadata": {},
   "outputs": [
    {
     "data": {
      "text/html": [
       "<div>\n",
       "<style scoped>\n",
       "    .dataframe tbody tr th:only-of-type {\n",
       "        vertical-align: middle;\n",
       "    }\n",
       "\n",
       "    .dataframe tbody tr th {\n",
       "        vertical-align: top;\n",
       "    }\n",
       "\n",
       "    .dataframe thead th {\n",
       "        text-align: right;\n",
       "    }\n",
       "</style>\n",
       "<table border=\"1\" class=\"dataframe\">\n",
       "  <thead>\n",
       "    <tr style=\"text-align: right;\">\n",
       "      <th></th>\n",
       "      <th>a_connector_pad_Q1</th>\n",
       "      <th>pad_top_Q1</th>\n",
       "    </tr>\n",
       "  </thead>\n",
       "  <tbody>\n",
       "    <tr>\n",
       "      <th>a_connector_pad_Q1</th>\n",
       "      <td>139.68538</td>\n",
       "      <td>-103.13006</td>\n",
       "    </tr>\n",
       "    <tr>\n",
       "      <th>pad_top_Q1</th>\n",
       "      <td>-103.13006</td>\n",
       "      <td>106.86539</td>\n",
       "    </tr>\n",
       "  </tbody>\n",
       "</table>\n",
       "</div>"
      ],
      "text/plain": [
       "                    a_connector_pad_Q1  pad_top_Q1\n",
       "a_connector_pad_Q1           139.68538  -103.13006\n",
       "pad_top_Q1                  -103.13006   106.86539"
      ]
     },
     "execution_count": 14,
     "metadata": {},
     "output_type": "execute_result"
    }
   ],
   "source": [
    "c_mat"
   ]
  },
  {
   "attachments": {},
   "cell_type": "markdown",
   "metadata": {},
   "source": [
    "### Single Pad Frequency"
   ]
  },
  {
   "cell_type": "code",
   "execution_count": 28,
   "metadata": {},
   "outputs": [
    {
     "name": "stderr",
     "output_type": "stream",
     "text": [
      "INFO 07:42PM [connect_project]: Connecting to Ansys Desktop API...\n",
      "INFO 07:42PM [load_ansys_project]: \tOpened Ansys App\n",
      "INFO 07:42PM [load_ansys_project]: \tOpened Ansys Desktop v2021.2.0\n",
      "INFO 07:42PM [load_ansys_project]: \tOpened Ansys Project\n",
      "\tFolder:    C:/Users/slab/Documents/Ansoft/\n",
      "\tProject:   Project27\n",
      "INFO 07:42PM [connect_design]: \tOpened active design\n",
      "\tDesign:    Design_q3d [Solution type: Q3D]\n",
      "INFO 07:42PM [get_setup]: \tOpened setup `Setup`  (<class 'pyEPR.ansys.AnsysQ3DSetup'>)\n",
      "INFO 07:42PM [connect]: \tConnected to project \"Project27\" and design \"Design_q3d\" 😀 \n",
      "\n",
      "INFO 07:42PM [connect_design]: \tOpened active design\n",
      "\tDesign:    Transmons_0_hfss [Solution type: Eigenmode]\n",
      "WARNING 07:42PM [connect_setup]: \tNo design setup detected.\n",
      "WARNING 07:42PM [connect_setup]: \tCreating eigenmode default setup.\n",
      "INFO 07:42PM [get_setup]: \tOpened setup `Setup`  (<class 'pyEPR.ansys.HfssEMSetup'>)\n",
      "INFO 07:42PM [get_setup]: \tOpened setup `Setup`  (<class 'pyEPR.ansys.HfssEMSetup'>)\n",
      "INFO 07:42PM [analyze]: Analyzing setup Setup\n",
      "07:44PM 10s INFO [get_f_convergence]: Saved convergences to c:\\Users\\slab\\Desktop\\Wendy-qiskit-code\\hfss_eig_f_convergence.csv\n"
     ]
    }
   ],
   "source": [
    "eig_qb = EPRanalysis(design, 'hfss')\n",
    "\n",
    "eig_qb.sim.setup.max_passes = 25\n",
    "eig_qb.sim.setup.max_delta_f = 0.05\n",
    "eig_qb.sim.setup.n_modes = 1\n",
    "eig_qb.sim.setup.vars = Dict(Lj1= '13 nH', Cj1= '0 fF')\n",
    "eig_qb.sim.renderer.options['Lj'] = '13nH'\n",
    "eig_qb.sim.renderer.options['x_buffer_width_mm'] = 0.5\n",
    "eig_qb.sim.renderer.options['y_buffer_width_mm'] = 0.5\n",
    "eig_qb.sim.run(name=\"Transmons_{}\".format(0), components=['Q1'], open_terminations=[('Q1', 'a')])\n",
    "convergence = pd.read_csv('hfss_eig_f_convergence.csv')"
   ]
  },
  {
   "cell_type": "code",
   "execution_count": 29,
   "metadata": {},
   "outputs": [
    {
     "name": "stdout",
     "output_type": "stream",
     "text": [
      "Design \"Transmons_0_hfss\" info:\n",
      "\t# eigenmodes    1\n",
      "\t# variations    1\n",
      "Design \"Transmons_0_hfss\" info:\n",
      "\t# eigenmodes    1\n",
      "\t# variations    1\n"
     ]
    },
    {
     "name": "stderr",
     "output_type": "stream",
     "text": [
      "WARNING:py.warnings:c:\\Users\\slab\\anaconda3\\envs\\qmetal\\lib\\site-packages\\pyEPR\\project_info.py:239: FutureWarning: The default dtype for empty Series will be 'object' instead of 'float64' in a future version. Specify a dtype explicitly to silence this warning.\n",
      "  options=pd.Series(get_instance_vars(self.options)),\n",
      "\n"
     ]
    },
    {
     "name": "stdout",
     "output_type": "stream",
     "text": [
      "\n",
      "        energy_elec_all       = 1.99311109232643e-25\n",
      "        energy_elec_substrate = 1.83133785175256e-25\n",
      "        EPR of substrate = 91.9%\n",
      "\n",
      "        energy_mag    = 1.28021980532291e-27\n",
      "        energy_mag % of energy_elec_all  = 0.6%\n",
      "        \n",
      "\n",
      "Variation 0  [1/1]\n"
     ]
    },
    {
     "name": "stderr",
     "output_type": "stream",
     "text": [
      "WARNING:py.warnings:c:\\Users\\slab\\anaconda3\\envs\\qmetal\\lib\\site-packages\\pyEPR\\core_distributed_analysis.py:1101: FutureWarning: The default dtype for empty Series will be 'object' instead of 'float64' in a future version. Specify a dtype explicitly to silence this warning.\n",
      "  Ljs = pd.Series({})\n",
      "\n",
      "WARNING:py.warnings:c:\\Users\\slab\\anaconda3\\envs\\qmetal\\lib\\site-packages\\pyEPR\\core_distributed_analysis.py:1102: FutureWarning: The default dtype for empty Series will be 'object' instead of 'float64' in a future version. Specify a dtype explicitly to silence this warning.\n",
      "  Cjs = pd.Series({})\n",
      "\n",
      "WARNING:py.warnings:c:\\Users\\slab\\anaconda3\\envs\\qmetal\\lib\\site-packages\\pyEPR\\core_distributed_analysis.py:1245: FutureWarning: The default dtype for empty Series will be 'object' instead of 'float64' in a future version. Specify a dtype explicitly to silence this warning.\n",
      "  _Om = pd.Series({})\n",
      "\n"
     ]
    },
    {
     "name": "stdout",
     "output_type": "stream",
     "text": [
      "\n",
      "  \u001b[1mMode 0 at 4.22 GHz   [1/1]\u001b[0m\n",
      "    Calculating ℰ_magnetic,ℰ_electric\n"
     ]
    },
    {
     "name": "stderr",
     "output_type": "stream",
     "text": [
      "WARNING:py.warnings:c:\\Users\\slab\\anaconda3\\envs\\qmetal\\lib\\site-packages\\pyEPR\\core_distributed_analysis.py:981: FutureWarning: The default dtype for empty Series will be 'object' instead of 'float64' in a future version. Specify a dtype explicitly to silence this warning.\n",
      "  Sj = pd.Series({})\n",
      "\n"
     ]
    },
    {
     "name": "stdout",
     "output_type": "stream",
     "text": [
      "       (ℰ_E-ℰ_H)/ℰ_E       ℰ_E       ℰ_H\n",
      "               99.4%  9.966e-26 6.401e-28\n",
      "\n",
      "    Calculating junction energy participation ration (EPR)\n",
      "\tmethod=`line_voltage`. First estimates:\n",
      "\tjunction        EPR p_0j   sign s_0j    (p_capacitive)\n"
     ]
    },
    {
     "name": "stderr",
     "output_type": "stream",
     "text": [
      "WARNING:py.warnings:c:\\Users\\slab\\anaconda3\\envs\\qmetal\\lib\\site-packages\\pyEPR\\core_distributed_analysis.py:933: FutureWarning: The default dtype for empty Series will be 'object' instead of 'float64' in a future version. Specify a dtype explicitly to silence this warning.\n",
      "  Qp = pd.Series({})\n",
      "\n",
      "WARNING:py.warnings:c:\\Users\\slab\\anaconda3\\envs\\qmetal\\lib\\site-packages\\pyEPR\\core_distributed_analysis.py:1307: FutureWarning: The series.append method is deprecated and will be removed from pandas in a future version. Use pandas.concat instead.\n",
      "  sol = sol.append(self.get_Qdielectric(\n",
      "\n"
     ]
    },
    {
     "name": "stdout",
     "output_type": "stream",
     "text": [
      "\t\tEnergy fraction (Lj over Lj&Cj)= 98.21%\n",
      "\tjj1             0.992539  (+)        0.0181126\n",
      "\t\t(U_tot_cap-U_tot_ind)/mean=0.95%\n",
      "Calculating Qdielectric_main for mode 0 (0/0)\n",
      "p_dielectric_main_0 = 0.918833806506469\n"
     ]
    },
    {
     "name": "stderr",
     "output_type": "stream",
     "text": [
      "WARNING:py.warnings:c:\\Users\\slab\\anaconda3\\envs\\qmetal\\lib\\site-packages\\pyEPR\\project_info.py:239: FutureWarning: The default dtype for empty Series will be 'object' instead of 'float64' in a future version. Specify a dtype explicitly to silence this warning.\n",
      "  options=pd.Series(get_instance_vars(self.options)),\n",
      "\n",
      "WARNING 07:44PM [__init__]: <p>Error: <class 'IndexError'></p>\n",
      "WARNING:py.warnings:c:\\Users\\slab\\anaconda3\\envs\\qmetal\\lib\\site-packages\\pyEPR\\core_quantum_analysis.py:712: FutureWarning: Support for multi-dimensional indexing (e.g. `obj[:, None]`) is deprecated and will be removed in a future version.  Convert to a numpy array before indexing instead.\n",
      "  result['Q_coupling'] = self.Qm_coupling[variation][self.Qm_coupling[variation].columns[junctions]][modes]#TODO change the columns to junctions\n",
      "\n",
      "WARNING:py.warnings:c:\\Users\\slab\\anaconda3\\envs\\qmetal\\lib\\site-packages\\pyEPR\\core_quantum_analysis.py:717: FutureWarning: Support for multi-dimensional indexing (e.g. `obj[:, None]`) is deprecated and will be removed in a future version.  Convert to a numpy array before indexing instead.\n",
      "  result['Qs'] = self.Qs[variation][self.PM[variation].columns[junctions]][modes] #TODO change the columns to junctions\n",
      "\n"
     ]
    },
    {
     "name": "stdout",
     "output_type": "stream",
     "text": [
      "\n",
      "ANALYSIS DONE. Data saved to:\n",
      "\n",
      "C:\\data-pyEPR\\Project27\\Transmons_0_hfss\\2023-03-02 19-44-10.npz\n",
      "\n",
      "\n",
      "\t Differences in variations:\n",
      "\n",
      "\n",
      "\n",
      " . . . . . . . . . . . . . . . . . . . . . . . . . . . . . . . . . . . . . . . . \n",
      "Variation 0\n",
      "\n",
      "Starting the diagonalization\n",
      "Finished the diagonalization\n",
      "Pm_norm=\n",
      "modes\n",
      "0    1.019233\n",
      "dtype: float64\n",
      "\n",
      "Pm_norm idx =\n",
      "    jj1\n",
      "0  True\n",
      "*** P (participation matrix, not normlz.)\n",
      "        jj1\n",
      "0  0.974881\n",
      "\n",
      "*** S (sign-bit matrix)\n",
      "   s_jj1\n",
      "0      1\n",
      "*** P (participation matrix, normalized.)\n",
      "      0.99\n",
      "\n",
      "*** Chi matrix O1 PT (MHz)\n",
      "    Diag is anharmonicity, off diag is full cross-Kerr.\n",
      "       174\n",
      "\n",
      "*** Chi matrix ND (MHz) \n",
      "       191\n",
      "\n",
      "*** Frequencies O1 PT (MHz)\n",
      "0    4041.987462\n",
      "dtype: float64\n",
      "\n",
      "*** Frequencies ND (MHz)\n",
      "0    4034.040416\n",
      "dtype: float64\n",
      "\n",
      "*** Q_coupling\n",
      "Empty DataFrame\n",
      "Columns: []\n",
      "Index: [0]\n"
     ]
    },
    {
     "data": {
      "text/markdown": [
       "#### Mode frequencies (MHz)"
      ],
      "text/plain": [
       "<IPython.core.display.Markdown object>"
      ]
     },
     "metadata": {},
     "output_type": "display_data"
    },
    {
     "data": {
      "text/markdown": [
       "###### Numerical diagonalization"
      ],
      "text/plain": [
       "<IPython.core.display.Markdown object>"
      ]
     },
     "metadata": {},
     "output_type": "display_data"
    },
    {
     "data": {
      "text/html": [
       "<div>\n",
       "<style scoped>\n",
       "    .dataframe tbody tr th:only-of-type {\n",
       "        vertical-align: middle;\n",
       "    }\n",
       "\n",
       "    .dataframe tbody tr th {\n",
       "        vertical-align: top;\n",
       "    }\n",
       "\n",
       "    .dataframe thead th {\n",
       "        text-align: right;\n",
       "    }\n",
       "</style>\n",
       "<table border=\"1\" class=\"dataframe\">\n",
       "  <thead>\n",
       "    <tr style=\"text-align: right;\">\n",
       "      <th>Lj1</th>\n",
       "      <th>13</th>\n",
       "    </tr>\n",
       "  </thead>\n",
       "  <tbody>\n",
       "    <tr>\n",
       "      <th>0</th>\n",
       "      <td>4034.04</td>\n",
       "    </tr>\n",
       "  </tbody>\n",
       "</table>\n",
       "</div>"
      ],
      "text/plain": [
       "Lj1       13\n",
       "0    4034.04"
      ]
     },
     "metadata": {},
     "output_type": "display_data"
    },
    {
     "data": {
      "text/markdown": [
       "#### Kerr Non-linear coefficient table (MHz)"
      ],
      "text/plain": [
       "<IPython.core.display.Markdown object>"
      ]
     },
     "metadata": {},
     "output_type": "display_data"
    },
    {
     "data": {
      "text/markdown": [
       "###### Numerical diagonalization"
      ],
      "text/plain": [
       "<IPython.core.display.Markdown object>"
      ]
     },
     "metadata": {},
     "output_type": "display_data"
    },
    {
     "data": {
      "text/html": [
       "<div>\n",
       "<style scoped>\n",
       "    .dataframe tbody tr th:only-of-type {\n",
       "        vertical-align: middle;\n",
       "    }\n",
       "\n",
       "    .dataframe tbody tr th {\n",
       "        vertical-align: top;\n",
       "    }\n",
       "\n",
       "    .dataframe thead th {\n",
       "        text-align: right;\n",
       "    }\n",
       "</style>\n",
       "<table border=\"1\" class=\"dataframe\">\n",
       "  <thead>\n",
       "    <tr style=\"text-align: right;\">\n",
       "      <th></th>\n",
       "      <th></th>\n",
       "      <th>0</th>\n",
       "    </tr>\n",
       "    <tr>\n",
       "      <th>Lj1</th>\n",
       "      <th></th>\n",
       "      <th></th>\n",
       "    </tr>\n",
       "  </thead>\n",
       "  <tbody>\n",
       "    <tr>\n",
       "      <th>13</th>\n",
       "      <th>0</th>\n",
       "      <td>191.41</td>\n",
       "    </tr>\n",
       "  </tbody>\n",
       "</table>\n",
       "</div>"
      ],
      "text/plain": [
       "            0\n",
       "Lj1          \n",
       "13  0  191.41"
      ]
     },
     "metadata": {},
     "output_type": "display_data"
    }
   ],
   "source": [
    "del eig_qb.setup.junctions['jj']\n",
    "eig_qb.setup.junctions.jj1 = Dict(rect='JJ_rect_Lj_Q1_rect_jj', line='JJ_Lj_Q1_rect_jj_',\n",
    "                Lj_variable='Lj1', Cj_variable='Cj1')\n",
    "eig_qb.setup.sweep_variable = 'Lj1'\n",
    "eig_qb.run_epr()\n",
    "\n",
    "chi = eig_qb.sim.renderer.epr_quantum_analysis.get_chis().to_numpy()[0][0]\n",
    "freq_EPR= eig_qb.sim.renderer.epr_quantum_analysis.get_frequencies().to_numpy()[0][0]"
   ]
  },
  {
   "cell_type": "code",
   "execution_count": 30,
   "metadata": {},
   "outputs": [
    {
     "name": "stdout",
     "output_type": "stream",
     "text": [
      "the analytical value for qubit frequency is 4.1730386916961075 GHz\n"
     ]
    }
   ],
   "source": [
    "Cq = -c_mat['a_connector_pad_Q1']['pad_top_Q1']*u.fF\n",
    "Lj = 13*u.nH\n",
    "Ec = (c.e.si**2/2/Cq).to(u.J)\n",
    "Ej = ((phi0/2/np.pi)**2/Lj).to(u.J)\n",
    "wq = (np.sqrt(8*Ej*Ec)-Ec)/c.hbar\n",
    "fq = wq/2/np.pi\n",
    "print('the analytical value for qubit frequency is', fq.to(u.GHz))"
   ]
  },
  {
   "cell_type": "code",
   "execution_count": 31,
   "metadata": {},
   "outputs": [
    {
     "name": "stdout",
     "output_type": "stream",
     "text": [
      "Frequency from Finite Element Analysis: 4.21648502761548 GHz\n",
      "Frequency from pyEPR analysis: 4.03404041624079 GHz\n"
     ]
    }
   ],
   "source": [
    "\n",
    "\n",
    "print('Frequency from Finite Element Analysis:', convergence.dropna()['re(Mode(1)) [g]'].values[-1], 'GHz')\n",
    "print('Frequency from pyEPR analysis:', freq_EPR/1000, 'GHz')"
   ]
  },
  {
   "attachments": {},
   "cell_type": "markdown",
   "metadata": {},
   "source": [
    "### Draw the Tee and the CPW"
   ]
  },
  {
   "cell_type": "code",
   "execution_count": 32,
   "metadata": {},
   "outputs": [],
   "source": [
    "TQ1 = CoupledLineTee(design, 'TQ1', options=dict(pos_x='-0.2 mm',\n",
    "                                             pos_y='0.5 mm',\n",
    "                                             coupling_length='120 um', **TQ_options))\n",
    "\n",
    "gui.rebuild()\n",
    "gui.autoscale()"
   ]
  },
  {
   "cell_type": "code",
   "execution_count": 33,
   "metadata": {},
   "outputs": [],
   "source": [
    "buffer = 150*u.um\n",
    "anchors = trans_p.anchor_CPW(q1, buffer, 0.07, 2,r = -1)"
   ]
  },
  {
   "cell_type": "code",
   "execution_count": 34,
   "metadata": {},
   "outputs": [
    {
     "name": "stderr",
     "output_type": "stream",
     "text": [
      "07:52PM 15s INFO [delete_component]: Called delete_component cpw_1, but such a component is not in the design cache dictionary of components.\n"
     ]
    }
   ],
   "source": [
    "design.delete_component('cpw_1')\n",
    "\n",
    "gui.rebuild()\n",
    "gui.autoscale()"
   ]
  },
  {
   "cell_type": "code",
   "execution_count": 35,
   "metadata": {},
   "outputs": [],
   "source": [
    "pin_inputs = Dict(\n",
    "            start_pin=Dict(component='Q1', pin='a'),\n",
    "            end_pin=Dict(component='TQ1', pin='second_end'))\n",
    "\n",
    "CPW_options['pin_inputs'] = pin_inputs"
   ]
  },
  {
   "cell_type": "code",
   "execution_count": 36,
   "metadata": {},
   "outputs": [],
   "source": [
    "qa = RouteMixed(design, 'cpw_1', options = Dict(anchors = anchors, **CPW_options))\n",
    "\n",
    "gui.rebuild()\n",
    "gui.autoscale()"
   ]
  },
  {
   "attachments": {},
   "cell_type": "markdown",
   "metadata": {},
   "source": [
    "## Capacitance Matrix"
   ]
  },
  {
   "attachments": {},
   "cell_type": "markdown",
   "metadata": {},
   "source": [
    "### Simulate capacitave coupling between CPW and qubit"
   ]
  },
  {
   "cell_type": "code",
   "execution_count": 104,
   "metadata": {},
   "outputs": [],
   "source": [
    "TQ1.options['open_termination']=True\n",
    "\n",
    "gui.rebuild()\n",
    "gui.autoscale()\n"
   ]
  },
  {
   "cell_type": "code",
   "execution_count": 108,
   "metadata": {},
   "outputs": [
    {
     "data": {
      "text/plain": [
       "{'name': 'Setup',\n",
       " 'reuse_selected_design': True,\n",
       " 'reuse_setup': True,\n",
       " 'freq_ghz': 5.0,\n",
       " 'save_fields': False,\n",
       " 'enabled': True,\n",
       " 'max_passes': 30,\n",
       " 'min_passes': 10,\n",
       " 'min_converged_passes': 2,\n",
       " 'percent_error': 0.5,\n",
       " 'percent_refinement': 30,\n",
       " 'auto_increase_solution_order': True,\n",
       " 'solution_order': 'High',\n",
       " 'solver_type': 'Iterative',\n",
       " 'run': {'name': None,\n",
       "  'components': ['Q1', 'cpw_1', 'TQ1'],\n",
       "  'open_terminations': None,\n",
       "  'box_plus_buffer': True}}"
      ]
     },
     "execution_count": 108,
     "metadata": {},
     "output_type": "execute_result"
    }
   ],
   "source": [
    "c1.sim.setup"
   ]
  },
  {
   "cell_type": "code",
   "execution_count": 105,
   "metadata": {},
   "outputs": [
    {
     "name": "stderr",
     "output_type": "stream",
     "text": [
      "INFO 04:40PM [connect_design]: \tOpened active design\n",
      "\tDesign:    Design_q3d [Solution type: Q3D]\n",
      "INFO 04:40PM [get_setup]: \tOpened setup `Setup`  (<class 'pyEPR.ansys.AnsysQ3DSetup'>)\n",
      "INFO 04:40PM [analyze]: Analyzing setup Setup\n",
      "INFO 04:43PM [get_matrix]: Exporting matrix data to (C:\\Users\\slab\\AppData\\Local\\Temp\\tmpm8r200fb.txt, C, , Setup:LastAdaptive, \"Original\", \"ohm\", \"nH\", \"fF\", \"mSie\", 5000000000, Maxwell, 1, False\n",
      "INFO 04:43PM [get_matrix]: Exporting matrix data to (C:\\Users\\slab\\AppData\\Local\\Temp\\tmpa4op691h.txt, C, , Setup:AdaptivePass, \"Original\", \"ohm\", \"nH\", \"fF\", \"mSie\", 5000000000, Maxwell, 1, False\n",
      "INFO 04:43PM [get_matrix]: Exporting matrix data to (C:\\Users\\slab\\AppData\\Local\\Temp\\tmpbtwqn071.txt, C, , Setup:AdaptivePass, \"Original\", \"ohm\", \"nH\", \"fF\", \"mSie\", 5000000000, Maxwell, 2, False\n",
      "INFO 04:43PM [get_matrix]: Exporting matrix data to (C:\\Users\\slab\\AppData\\Local\\Temp\\tmppifigll2.txt, C, , Setup:AdaptivePass, \"Original\", \"ohm\", \"nH\", \"fF\", \"mSie\", 5000000000, Maxwell, 3, False\n",
      "INFO 04:43PM [get_matrix]: Exporting matrix data to (C:\\Users\\slab\\AppData\\Local\\Temp\\tmpn3g_kv3_.txt, C, , Setup:AdaptivePass, \"Original\", \"ohm\", \"nH\", \"fF\", \"mSie\", 5000000000, Maxwell, 4, False\n",
      "INFO 04:43PM [get_matrix]: Exporting matrix data to (C:\\Users\\slab\\AppData\\Local\\Temp\\tmp0ufgdgfb.txt, C, , Setup:AdaptivePass, \"Original\", \"ohm\", \"nH\", \"fF\", \"mSie\", 5000000000, Maxwell, 5, False\n",
      "INFO 04:43PM [get_matrix]: Exporting matrix data to (C:\\Users\\slab\\AppData\\Local\\Temp\\tmpzefxsi4z.txt, C, , Setup:AdaptivePass, \"Original\", \"ohm\", \"nH\", \"fF\", \"mSie\", 5000000000, Maxwell, 6, False\n",
      "INFO 04:43PM [get_matrix]: Exporting matrix data to (C:\\Users\\slab\\AppData\\Local\\Temp\\tmpl8asdoki.txt, C, , Setup:AdaptivePass, \"Original\", \"ohm\", \"nH\", \"fF\", \"mSie\", 5000000000, Maxwell, 7, False\n",
      "INFO 04:43PM [get_matrix]: Exporting matrix data to (C:\\Users\\slab\\AppData\\Local\\Temp\\tmp6hc7uaxr.txt, C, , Setup:AdaptivePass, \"Original\", \"ohm\", \"nH\", \"fF\", \"mSie\", 5000000000, Maxwell, 8, False\n",
      "INFO 04:43PM [get_matrix]: Exporting matrix data to (C:\\Users\\slab\\AppData\\Local\\Temp\\tmpmyzuuaxd.txt, C, , Setup:AdaptivePass, \"Original\", \"ohm\", \"nH\", \"fF\", \"mSie\", 5000000000, Maxwell, 9, False\n",
      "INFO 04:43PM [get_matrix]: Exporting matrix data to (C:\\Users\\slab\\AppData\\Local\\Temp\\tmp0ipnk9td.txt, C, , Setup:AdaptivePass, \"Original\", \"ohm\", \"nH\", \"fF\", \"mSie\", 5000000000, Maxwell, 10, False\n",
      "INFO 04:43PM [get_matrix]: Exporting matrix data to (C:\\Users\\slab\\AppData\\Local\\Temp\\tmpywomnuib.txt, C, , Setup:AdaptivePass, \"Original\", \"ohm\", \"nH\", \"fF\", \"mSie\", 5000000000, Maxwell, 11, False\n",
      "INFO 04:43PM [get_matrix]: Exporting matrix data to (C:\\Users\\slab\\AppData\\Local\\Temp\\tmpmu04cf9j.txt, C, , Setup:AdaptivePass, \"Original\", \"ohm\", \"nH\", \"fF\", \"mSie\", 5000000000, Maxwell, 12, False\n",
      "INFO 04:43PM [get_matrix]: Exporting matrix data to (C:\\Users\\slab\\AppData\\Local\\Temp\\tmpc07apzgx.txt, C, , Setup:AdaptivePass, \"Original\", \"ohm\", \"nH\", \"fF\", \"mSie\", 5000000000, Maxwell, 13, False\n",
      "INFO 04:43PM [get_matrix]: Exporting matrix data to (C:\\Users\\slab\\AppData\\Local\\Temp\\tmpxjzagr91.txt, C, , Setup:AdaptivePass, \"Original\", \"ohm\", \"nH\", \"fF\", \"mSie\", 5000000000, Maxwell, 14, False\n",
      "INFO 04:43PM [get_matrix]: Exporting matrix data to (C:\\Users\\slab\\AppData\\Local\\Temp\\tmpoq0oar4v.txt, C, , Setup:LastAdaptive, \"Original\", \"ohm\", \"nH\", \"fF\", \"mSie\", 5000000000, Maxwell, 1, False\n",
      "INFO 04:43PM [get_matrix]: Exporting matrix data to (C:\\Users\\slab\\AppData\\Local\\Temp\\tmpsyk02wly.txt, C, , Setup:AdaptivePass, \"Original\", \"ohm\", \"nH\", \"fF\", \"mSie\", 5000000000, Maxwell, 1, False\n",
      "INFO 04:43PM [get_matrix]: Exporting matrix data to (C:\\Users\\slab\\AppData\\Local\\Temp\\tmp25tolvb6.txt, C, , Setup:AdaptivePass, \"Original\", \"ohm\", \"nH\", \"fF\", \"mSie\", 5000000000, Maxwell, 2, False\n",
      "INFO 04:43PM [get_matrix]: Exporting matrix data to (C:\\Users\\slab\\AppData\\Local\\Temp\\tmpcwqjgy3b.txt, C, , Setup:AdaptivePass, \"Original\", \"ohm\", \"nH\", \"fF\", \"mSie\", 5000000000, Maxwell, 3, False\n",
      "INFO 04:43PM [get_matrix]: Exporting matrix data to (C:\\Users\\slab\\AppData\\Local\\Temp\\tmp92yw6yhs.txt, C, , Setup:AdaptivePass, \"Original\", \"ohm\", \"nH\", \"fF\", \"mSie\", 5000000000, Maxwell, 4, False\n",
      "INFO 04:43PM [get_matrix]: Exporting matrix data to (C:\\Users\\slab\\AppData\\Local\\Temp\\tmpdm2cpqmo.txt, C, , Setup:AdaptivePass, \"Original\", \"ohm\", \"nH\", \"fF\", \"mSie\", 5000000000, Maxwell, 5, False\n",
      "INFO 04:43PM [get_matrix]: Exporting matrix data to (C:\\Users\\slab\\AppData\\Local\\Temp\\tmpkdbmg5mr.txt, C, , Setup:AdaptivePass, \"Original\", \"ohm\", \"nH\", \"fF\", \"mSie\", 5000000000, Maxwell, 6, False\n",
      "INFO 04:43PM [get_matrix]: Exporting matrix data to (C:\\Users\\slab\\AppData\\Local\\Temp\\tmpfocezua3.txt, C, , Setup:AdaptivePass, \"Original\", \"ohm\", \"nH\", \"fF\", \"mSie\", 5000000000, Maxwell, 7, False\n",
      "INFO 04:43PM [get_matrix]: Exporting matrix data to (C:\\Users\\slab\\AppData\\Local\\Temp\\tmpvf216b2_.txt, C, , Setup:AdaptivePass, \"Original\", \"ohm\", \"nH\", \"fF\", \"mSie\", 5000000000, Maxwell, 8, False\n",
      "INFO 04:43PM [get_matrix]: Exporting matrix data to (C:\\Users\\slab\\AppData\\Local\\Temp\\tmp_uimy3gu.txt, C, , Setup:AdaptivePass, \"Original\", \"ohm\", \"nH\", \"fF\", \"mSie\", 5000000000, Maxwell, 9, False\n",
      "INFO 04:43PM [get_matrix]: Exporting matrix data to (C:\\Users\\slab\\AppData\\Local\\Temp\\tmpoatdbpo6.txt, C, , Setup:AdaptivePass, \"Original\", \"ohm\", \"nH\", \"fF\", \"mSie\", 5000000000, Maxwell, 10, False\n",
      "INFO 04:43PM [get_matrix]: Exporting matrix data to (C:\\Users\\slab\\AppData\\Local\\Temp\\tmp4v9qafuz.txt, C, , Setup:AdaptivePass, \"Original\", \"ohm\", \"nH\", \"fF\", \"mSie\", 5000000000, Maxwell, 11, False\n",
      "INFO 04:43PM [get_matrix]: Exporting matrix data to (C:\\Users\\slab\\AppData\\Local\\Temp\\tmpzuszhpfp.txt, C, , Setup:AdaptivePass, \"Original\", \"ohm\", \"nH\", \"fF\", \"mSie\", 5000000000, Maxwell, 12, False\n",
      "INFO 04:43PM [get_matrix]: Exporting matrix data to (C:\\Users\\slab\\AppData\\Local\\Temp\\tmpniakgmjw.txt, C, , Setup:AdaptivePass, \"Original\", \"ohm\", \"nH\", \"fF\", \"mSie\", 5000000000, Maxwell, 13, False\n",
      "INFO 04:43PM [get_matrix]: Exporting matrix data to (C:\\Users\\slab\\AppData\\Local\\Temp\\tmp0pwbn28n.txt, C, , Setup:AdaptivePass, \"Original\", \"ohm\", \"nH\", \"fF\", \"mSie\", 5000000000, Maxwell, 14, False\n"
     ]
    }
   ],
   "source": [
    "c1 = LOManalysis(design, \"q3d\")\n",
    "c1.sim.setup.min_passes  = 10\n",
    "c1.sim.setup.max_passes = 30\n",
    "c1.sim.setup.freq_ghz = 5\n",
    "\n",
    "c1.sim.run(components=['Q1','cpw_1','TQ1'])#, open_terminations=[('Q1', 'a')])#, ('Q1', 'bus1'), ('Q1', 'bus2')])\n",
    "c1.sim.capacitance_matrix \n",
    "\n",
    "c1.sim._get_results_from_renderer()\n",
    "c_mat = c1.sim.capacitance_matrix"
   ]
  },
  {
   "cell_type": "code",
   "execution_count": 106,
   "metadata": {},
   "outputs": [
    {
     "data": {
      "text/html": [
       "<div>\n",
       "<style scoped>\n",
       "    .dataframe tbody tr th:only-of-type {\n",
       "        vertical-align: middle;\n",
       "    }\n",
       "\n",
       "    .dataframe tbody tr th {\n",
       "        vertical-align: top;\n",
       "    }\n",
       "\n",
       "    .dataframe thead th {\n",
       "        text-align: right;\n",
       "    }\n",
       "</style>\n",
       "<table border=\"1\" class=\"dataframe\">\n",
       "  <thead>\n",
       "    <tr style=\"text-align: right;\">\n",
       "      <th></th>\n",
       "      <th>a_connector_pad_Q1</th>\n",
       "      <th>g_wb</th>\n",
       "      <th>pad_top_Q1</th>\n",
       "    </tr>\n",
       "  </thead>\n",
       "  <tbody>\n",
       "    <tr>\n",
       "      <th>a_connector_pad_Q1</th>\n",
       "      <td>670.22403</td>\n",
       "      <td>-655.18112</td>\n",
       "      <td>-13.33405</td>\n",
       "    </tr>\n",
       "    <tr>\n",
       "      <th>g_wb</th>\n",
       "      <td>-655.18112</td>\n",
       "      <td>812.66663</td>\n",
       "      <td>-96.94281</td>\n",
       "    </tr>\n",
       "    <tr>\n",
       "      <th>pad_top_Q1</th>\n",
       "      <td>-13.33405</td>\n",
       "      <td>-96.94281</td>\n",
       "      <td>112.90425</td>\n",
       "    </tr>\n",
       "  </tbody>\n",
       "</table>\n",
       "</div>"
      ],
      "text/plain": [
       "                    a_connector_pad_Q1       g_wb  pad_top_Q1\n",
       "a_connector_pad_Q1           670.22403 -655.18112   -13.33405\n",
       "g_wb                        -655.18112  812.66663   -96.94281\n",
       "pad_top_Q1                   -13.33405  -96.94281   112.90425"
      ]
     },
     "execution_count": 106,
     "metadata": {},
     "output_type": "execute_result"
    }
   ],
   "source": [
    "c_mat"
   ]
  },
  {
   "cell_type": "code",
   "execution_count": 109,
   "metadata": {},
   "outputs": [
    {
     "name": "stderr",
     "output_type": "stream",
     "text": [
      "INFO 04:46PM [connect_design]: \tOpened active design\n",
      "\tDesign:    Design_q3d [Solution type: Q3D]\n",
      "INFO 04:46PM [get_setup]: \tOpened setup `Setup`  (<class 'pyEPR.ansys.AnsysQ3DSetup'>)\n",
      "INFO 04:46PM [analyze]: Analyzing setup Setup\n",
      "INFO 04:49PM [get_matrix]: Exporting matrix data to (C:\\Users\\slab\\AppData\\Local\\Temp\\tmpji9bcr5d.txt, C, , Setup:LastAdaptive, \"Original\", \"ohm\", \"nH\", \"fF\", \"mSie\", 4000000000, Maxwell, 1, False\n",
      "INFO 04:49PM [get_matrix]: Exporting matrix data to (C:\\Users\\slab\\AppData\\Local\\Temp\\tmphv20hgvs.txt, C, , Setup:AdaptivePass, \"Original\", \"ohm\", \"nH\", \"fF\", \"mSie\", 4000000000, Maxwell, 1, False\n",
      "INFO 04:49PM [get_matrix]: Exporting matrix data to (C:\\Users\\slab\\AppData\\Local\\Temp\\tmpund2p_s8.txt, C, , Setup:AdaptivePass, \"Original\", \"ohm\", \"nH\", \"fF\", \"mSie\", 4000000000, Maxwell, 2, False\n",
      "INFO 04:49PM [get_matrix]: Exporting matrix data to (C:\\Users\\slab\\AppData\\Local\\Temp\\tmpaip3nph_.txt, C, , Setup:AdaptivePass, \"Original\", \"ohm\", \"nH\", \"fF\", \"mSie\", 4000000000, Maxwell, 3, False\n",
      "INFO 04:49PM [get_matrix]: Exporting matrix data to (C:\\Users\\slab\\AppData\\Local\\Temp\\tmplvdfd4w0.txt, C, , Setup:AdaptivePass, \"Original\", \"ohm\", \"nH\", \"fF\", \"mSie\", 4000000000, Maxwell, 4, False\n",
      "INFO 04:49PM [get_matrix]: Exporting matrix data to (C:\\Users\\slab\\AppData\\Local\\Temp\\tmpslennvhf.txt, C, , Setup:AdaptivePass, \"Original\", \"ohm\", \"nH\", \"fF\", \"mSie\", 4000000000, Maxwell, 5, False\n",
      "INFO 04:49PM [get_matrix]: Exporting matrix data to (C:\\Users\\slab\\AppData\\Local\\Temp\\tmp__x1b5dd.txt, C, , Setup:AdaptivePass, \"Original\", \"ohm\", \"nH\", \"fF\", \"mSie\", 4000000000, Maxwell, 6, False\n",
      "INFO 04:49PM [get_matrix]: Exporting matrix data to (C:\\Users\\slab\\AppData\\Local\\Temp\\tmp18iiv7rl.txt, C, , Setup:AdaptivePass, \"Original\", \"ohm\", \"nH\", \"fF\", \"mSie\", 4000000000, Maxwell, 7, False\n",
      "INFO 04:49PM [get_matrix]: Exporting matrix data to (C:\\Users\\slab\\AppData\\Local\\Temp\\tmpjy1uk5bo.txt, C, , Setup:AdaptivePass, \"Original\", \"ohm\", \"nH\", \"fF\", \"mSie\", 4000000000, Maxwell, 8, False\n",
      "INFO 04:49PM [get_matrix]: Exporting matrix data to (C:\\Users\\slab\\AppData\\Local\\Temp\\tmpndumj_oi.txt, C, , Setup:AdaptivePass, \"Original\", \"ohm\", \"nH\", \"fF\", \"mSie\", 4000000000, Maxwell, 9, False\n",
      "INFO 04:49PM [get_matrix]: Exporting matrix data to (C:\\Users\\slab\\AppData\\Local\\Temp\\tmpk9w21yoa.txt, C, , Setup:AdaptivePass, \"Original\", \"ohm\", \"nH\", \"fF\", \"mSie\", 4000000000, Maxwell, 10, False\n",
      "INFO 04:49PM [get_matrix]: Exporting matrix data to (C:\\Users\\slab\\AppData\\Local\\Temp\\tmp59jfijya.txt, C, , Setup:AdaptivePass, \"Original\", \"ohm\", \"nH\", \"fF\", \"mSie\", 4000000000, Maxwell, 11, False\n",
      "INFO 04:49PM [get_matrix]: Exporting matrix data to (C:\\Users\\slab\\AppData\\Local\\Temp\\tmpncn9n7iw.txt, C, , Setup:AdaptivePass, \"Original\", \"ohm\", \"nH\", \"fF\", \"mSie\", 4000000000, Maxwell, 12, False\n",
      "INFO 04:49PM [get_matrix]: Exporting matrix data to (C:\\Users\\slab\\AppData\\Local\\Temp\\tmpasw4uaeu.txt, C, , Setup:AdaptivePass, \"Original\", \"ohm\", \"nH\", \"fF\", \"mSie\", 4000000000, Maxwell, 13, False\n",
      "INFO 04:49PM [get_matrix]: Exporting matrix data to (C:\\Users\\slab\\AppData\\Local\\Temp\\tmpycmyzfxg.txt, C, , Setup:AdaptivePass, \"Original\", \"ohm\", \"nH\", \"fF\", \"mSie\", 4000000000, Maxwell, 14, False\n",
      "INFO 04:49PM [get_matrix]: Exporting matrix data to (C:\\Users\\slab\\AppData\\Local\\Temp\\tmpda7pe8q9.txt, C, , Setup:LastAdaptive, \"Original\", \"ohm\", \"nH\", \"fF\", \"mSie\", 4000000000, Maxwell, 1, False\n",
      "INFO 04:49PM [get_matrix]: Exporting matrix data to (C:\\Users\\slab\\AppData\\Local\\Temp\\tmpgl4a1a4b.txt, C, , Setup:AdaptivePass, \"Original\", \"ohm\", \"nH\", \"fF\", \"mSie\", 4000000000, Maxwell, 1, False\n",
      "INFO 04:49PM [get_matrix]: Exporting matrix data to (C:\\Users\\slab\\AppData\\Local\\Temp\\tmpgtwx97tf.txt, C, , Setup:AdaptivePass, \"Original\", \"ohm\", \"nH\", \"fF\", \"mSie\", 4000000000, Maxwell, 2, False\n",
      "INFO 04:49PM [get_matrix]: Exporting matrix data to (C:\\Users\\slab\\AppData\\Local\\Temp\\tmpknj7wmb9.txt, C, , Setup:AdaptivePass, \"Original\", \"ohm\", \"nH\", \"fF\", \"mSie\", 4000000000, Maxwell, 3, False\n",
      "INFO 04:49PM [get_matrix]: Exporting matrix data to (C:\\Users\\slab\\AppData\\Local\\Temp\\tmpg61l08bz.txt, C, , Setup:AdaptivePass, \"Original\", \"ohm\", \"nH\", \"fF\", \"mSie\", 4000000000, Maxwell, 4, False\n",
      "INFO 04:49PM [get_matrix]: Exporting matrix data to (C:\\Users\\slab\\AppData\\Local\\Temp\\tmpz88t3lxf.txt, C, , Setup:AdaptivePass, \"Original\", \"ohm\", \"nH\", \"fF\", \"mSie\", 4000000000, Maxwell, 5, False\n",
      "INFO 04:49PM [get_matrix]: Exporting matrix data to (C:\\Users\\slab\\AppData\\Local\\Temp\\tmpgm33r733.txt, C, , Setup:AdaptivePass, \"Original\", \"ohm\", \"nH\", \"fF\", \"mSie\", 4000000000, Maxwell, 6, False\n",
      "INFO 04:49PM [get_matrix]: Exporting matrix data to (C:\\Users\\slab\\AppData\\Local\\Temp\\tmpo722pyj4.txt, C, , Setup:AdaptivePass, \"Original\", \"ohm\", \"nH\", \"fF\", \"mSie\", 4000000000, Maxwell, 7, False\n",
      "INFO 04:49PM [get_matrix]: Exporting matrix data to (C:\\Users\\slab\\AppData\\Local\\Temp\\tmp24wtn7nu.txt, C, , Setup:AdaptivePass, \"Original\", \"ohm\", \"nH\", \"fF\", \"mSie\", 4000000000, Maxwell, 8, False\n",
      "INFO 04:49PM [get_matrix]: Exporting matrix data to (C:\\Users\\slab\\AppData\\Local\\Temp\\tmppum3j_m1.txt, C, , Setup:AdaptivePass, \"Original\", \"ohm\", \"nH\", \"fF\", \"mSie\", 4000000000, Maxwell, 9, False\n",
      "INFO 04:49PM [get_matrix]: Exporting matrix data to (C:\\Users\\slab\\AppData\\Local\\Temp\\tmpkuwhok_g.txt, C, , Setup:AdaptivePass, \"Original\", \"ohm\", \"nH\", \"fF\", \"mSie\", 4000000000, Maxwell, 10, False\n",
      "INFO 04:49PM [get_matrix]: Exporting matrix data to (C:\\Users\\slab\\AppData\\Local\\Temp\\tmpxu7zu4mx.txt, C, , Setup:AdaptivePass, \"Original\", \"ohm\", \"nH\", \"fF\", \"mSie\", 4000000000, Maxwell, 11, False\n",
      "INFO 04:49PM [get_matrix]: Exporting matrix data to (C:\\Users\\slab\\AppData\\Local\\Temp\\tmp__12425m.txt, C, , Setup:AdaptivePass, \"Original\", \"ohm\", \"nH\", \"fF\", \"mSie\", 4000000000, Maxwell, 12, False\n",
      "INFO 04:49PM [get_matrix]: Exporting matrix data to (C:\\Users\\slab\\AppData\\Local\\Temp\\tmph00fxls0.txt, C, , Setup:AdaptivePass, \"Original\", \"ohm\", \"nH\", \"fF\", \"mSie\", 4000000000, Maxwell, 13, False\n",
      "INFO 04:49PM [get_matrix]: Exporting matrix data to (C:\\Users\\slab\\AppData\\Local\\Temp\\tmpecqlgq6h.txt, C, , Setup:AdaptivePass, \"Original\", \"ohm\", \"nH\", \"fF\", \"mSie\", 4000000000, Maxwell, 14, False\n"
     ]
    }
   ],
   "source": [
    "c1 = LOManalysis(design, \"q3d\")\n",
    "c1.sim.setup.min_passes  = 10\n",
    "c1.sim.setup.max_passes = 30\n",
    "c1.sim.setup.freq_ghz = 4\n",
    "\n",
    "c1.sim.run(components=['Q1','cpw_1','TQ1'])#, open_terminations=[('Q1', 'a')])#, ('Q1', 'bus1'), ('Q1', 'bus2')])\n",
    "c1.sim.capacitance_matrix \n",
    "\n",
    "c1.sim._get_results_from_renderer()\n",
    "c_mat = c1.sim.capacitance_matrix"
   ]
  },
  {
   "cell_type": "code",
   "execution_count": 110,
   "metadata": {},
   "outputs": [
    {
     "data": {
      "text/html": [
       "<div>\n",
       "<style scoped>\n",
       "    .dataframe tbody tr th:only-of-type {\n",
       "        vertical-align: middle;\n",
       "    }\n",
       "\n",
       "    .dataframe tbody tr th {\n",
       "        vertical-align: top;\n",
       "    }\n",
       "\n",
       "    .dataframe thead th {\n",
       "        text-align: right;\n",
       "    }\n",
       "</style>\n",
       "<table border=\"1\" class=\"dataframe\">\n",
       "  <thead>\n",
       "    <tr style=\"text-align: right;\">\n",
       "      <th></th>\n",
       "      <th>a_connector_pad_Q1</th>\n",
       "      <th>g_wb</th>\n",
       "      <th>pad_top_Q1</th>\n",
       "    </tr>\n",
       "  </thead>\n",
       "  <tbody>\n",
       "    <tr>\n",
       "      <th>a_connector_pad_Q1</th>\n",
       "      <td>670.22403</td>\n",
       "      <td>-655.18112</td>\n",
       "      <td>-13.33405</td>\n",
       "    </tr>\n",
       "    <tr>\n",
       "      <th>g_wb</th>\n",
       "      <td>-655.18112</td>\n",
       "      <td>812.66663</td>\n",
       "      <td>-96.94281</td>\n",
       "    </tr>\n",
       "    <tr>\n",
       "      <th>pad_top_Q1</th>\n",
       "      <td>-13.33405</td>\n",
       "      <td>-96.94281</td>\n",
       "      <td>112.90425</td>\n",
       "    </tr>\n",
       "  </tbody>\n",
       "</table>\n",
       "</div>"
      ],
      "text/plain": [
       "                    a_connector_pad_Q1       g_wb  pad_top_Q1\n",
       "a_connector_pad_Q1           670.22403 -655.18112   -13.33405\n",
       "g_wb                        -655.18112  812.66663   -96.94281\n",
       "pad_top_Q1                   -13.33405  -96.94281   112.90425"
      ]
     },
     "execution_count": 110,
     "metadata": {},
     "output_type": "execute_result"
    }
   ],
   "source": [
    "c_mat"
   ]
  },
  {
   "cell_type": "code",
   "execution_count": 111,
   "metadata": {},
   "outputs": [
    {
     "name": "stderr",
     "output_type": "stream",
     "text": [
      "INFO 04:50PM [connect_design]: \tOpened active design\n",
      "\tDesign:    Design_q3d [Solution type: Q3D]\n",
      "INFO 04:50PM [get_setup]: \tOpened setup `Setup`  (<class 'pyEPR.ansys.AnsysQ3DSetup'>)\n",
      "INFO 04:50PM [analyze]: Analyzing setup Setup\n",
      "INFO 04:53PM [get_matrix]: Exporting matrix data to (C:\\Users\\slab\\AppData\\Local\\Temp\\tmpah2uljmp.txt, C, , Setup:LastAdaptive, \"Original\", \"ohm\", \"nH\", \"fF\", \"mSie\", 7000000000, Maxwell, 1, False\n",
      "INFO 04:53PM [get_matrix]: Exporting matrix data to (C:\\Users\\slab\\AppData\\Local\\Temp\\tmp2utvwvsp.txt, C, , Setup:AdaptivePass, \"Original\", \"ohm\", \"nH\", \"fF\", \"mSie\", 7000000000, Maxwell, 1, False\n",
      "INFO 04:53PM [get_matrix]: Exporting matrix data to (C:\\Users\\slab\\AppData\\Local\\Temp\\tmpp16427yj.txt, C, , Setup:AdaptivePass, \"Original\", \"ohm\", \"nH\", \"fF\", \"mSie\", 7000000000, Maxwell, 2, False\n",
      "INFO 04:53PM [get_matrix]: Exporting matrix data to (C:\\Users\\slab\\AppData\\Local\\Temp\\tmpgsszjw4b.txt, C, , Setup:AdaptivePass, \"Original\", \"ohm\", \"nH\", \"fF\", \"mSie\", 7000000000, Maxwell, 3, False\n",
      "INFO 04:53PM [get_matrix]: Exporting matrix data to (C:\\Users\\slab\\AppData\\Local\\Temp\\tmphbjnqyi8.txt, C, , Setup:AdaptivePass, \"Original\", \"ohm\", \"nH\", \"fF\", \"mSie\", 7000000000, Maxwell, 4, False\n",
      "INFO 04:53PM [get_matrix]: Exporting matrix data to (C:\\Users\\slab\\AppData\\Local\\Temp\\tmpao7b8caa.txt, C, , Setup:AdaptivePass, \"Original\", \"ohm\", \"nH\", \"fF\", \"mSie\", 7000000000, Maxwell, 5, False\n",
      "INFO 04:53PM [get_matrix]: Exporting matrix data to (C:\\Users\\slab\\AppData\\Local\\Temp\\tmpkos6fmbg.txt, C, , Setup:AdaptivePass, \"Original\", \"ohm\", \"nH\", \"fF\", \"mSie\", 7000000000, Maxwell, 6, False\n",
      "INFO 04:53PM [get_matrix]: Exporting matrix data to (C:\\Users\\slab\\AppData\\Local\\Temp\\tmp1x5efvn4.txt, C, , Setup:AdaptivePass, \"Original\", \"ohm\", \"nH\", \"fF\", \"mSie\", 7000000000, Maxwell, 7, False\n",
      "INFO 04:53PM [get_matrix]: Exporting matrix data to (C:\\Users\\slab\\AppData\\Local\\Temp\\tmp1f0uf4lz.txt, C, , Setup:AdaptivePass, \"Original\", \"ohm\", \"nH\", \"fF\", \"mSie\", 7000000000, Maxwell, 8, False\n",
      "INFO 04:53PM [get_matrix]: Exporting matrix data to (C:\\Users\\slab\\AppData\\Local\\Temp\\tmpdpvku2ul.txt, C, , Setup:AdaptivePass, \"Original\", \"ohm\", \"nH\", \"fF\", \"mSie\", 7000000000, Maxwell, 9, False\n",
      "INFO 04:53PM [get_matrix]: Exporting matrix data to (C:\\Users\\slab\\AppData\\Local\\Temp\\tmpgh6yt34x.txt, C, , Setup:AdaptivePass, \"Original\", \"ohm\", \"nH\", \"fF\", \"mSie\", 7000000000, Maxwell, 10, False\n",
      "INFO 04:53PM [get_matrix]: Exporting matrix data to (C:\\Users\\slab\\AppData\\Local\\Temp\\tmpf6tl8lya.txt, C, , Setup:AdaptivePass, \"Original\", \"ohm\", \"nH\", \"fF\", \"mSie\", 7000000000, Maxwell, 11, False\n",
      "INFO 04:53PM [get_matrix]: Exporting matrix data to (C:\\Users\\slab\\AppData\\Local\\Temp\\tmpvatqusvj.txt, C, , Setup:AdaptivePass, \"Original\", \"ohm\", \"nH\", \"fF\", \"mSie\", 7000000000, Maxwell, 12, False\n",
      "INFO 04:53PM [get_matrix]: Exporting matrix data to (C:\\Users\\slab\\AppData\\Local\\Temp\\tmprvbxu9qx.txt, C, , Setup:AdaptivePass, \"Original\", \"ohm\", \"nH\", \"fF\", \"mSie\", 7000000000, Maxwell, 13, False\n",
      "INFO 04:53PM [get_matrix]: Exporting matrix data to (C:\\Users\\slab\\AppData\\Local\\Temp\\tmpcabhgnzn.txt, C, , Setup:AdaptivePass, \"Original\", \"ohm\", \"nH\", \"fF\", \"mSie\", 7000000000, Maxwell, 14, False\n"
     ]
    }
   ],
   "source": [
    "c1.sim.setup.freq_ghz = 7\n",
    "c1.sim.run(components=['Q1','cpw_1','TQ1'])"
   ]
  },
  {
   "cell_type": "code",
   "execution_count": 112,
   "metadata": {},
   "outputs": [
    {
     "data": {
      "text/html": [
       "<div>\n",
       "<style scoped>\n",
       "    .dataframe tbody tr th:only-of-type {\n",
       "        vertical-align: middle;\n",
       "    }\n",
       "\n",
       "    .dataframe tbody tr th {\n",
       "        vertical-align: top;\n",
       "    }\n",
       "\n",
       "    .dataframe thead th {\n",
       "        text-align: right;\n",
       "    }\n",
       "</style>\n",
       "<table border=\"1\" class=\"dataframe\">\n",
       "  <thead>\n",
       "    <tr style=\"text-align: right;\">\n",
       "      <th></th>\n",
       "      <th>a_connector_pad_Q1</th>\n",
       "      <th>g_wb</th>\n",
       "      <th>pad_top_Q1</th>\n",
       "    </tr>\n",
       "  </thead>\n",
       "  <tbody>\n",
       "    <tr>\n",
       "      <th>a_connector_pad_Q1</th>\n",
       "      <td>670.22403</td>\n",
       "      <td>-655.18112</td>\n",
       "      <td>-13.33405</td>\n",
       "    </tr>\n",
       "    <tr>\n",
       "      <th>g_wb</th>\n",
       "      <td>-655.18112</td>\n",
       "      <td>812.66663</td>\n",
       "      <td>-96.94281</td>\n",
       "    </tr>\n",
       "    <tr>\n",
       "      <th>pad_top_Q1</th>\n",
       "      <td>-13.33405</td>\n",
       "      <td>-96.94281</td>\n",
       "      <td>112.90425</td>\n",
       "    </tr>\n",
       "  </tbody>\n",
       "</table>\n",
       "</div>"
      ],
      "text/plain": [
       "                    a_connector_pad_Q1       g_wb  pad_top_Q1\n",
       "a_connector_pad_Q1           670.22403 -655.18112   -13.33405\n",
       "g_wb                        -655.18112  812.66663   -96.94281\n",
       "pad_top_Q1                   -13.33405  -96.94281   112.90425"
      ]
     },
     "execution_count": 112,
     "metadata": {},
     "output_type": "execute_result"
    }
   ],
   "source": [
    "c_mat = c1.sim.capacitance_matrix\n",
    "c_mat"
   ]
  },
  {
   "attachments": {},
   "cell_type": "markdown",
   "metadata": {},
   "source": [
    "From the above three iterations, the frequency we choose for capacitance matrix simulation has no effect on the outcome. "
   ]
  },
  {
   "cell_type": "code",
   "execution_count": null,
   "metadata": {},
   "outputs": [],
   "source": []
  },
  {
   "attachments": {},
   "cell_type": "markdown",
   "metadata": {},
   "source": [
    "## CPW only"
   ]
  },
  {
   "attachments": {},
   "cell_type": "markdown",
   "metadata": {},
   "source": [
    "### Analytically calculate the CPW frequency"
   ]
  },
  {
   "cell_type": "code",
   "execution_count": 83,
   "metadata": {},
   "outputs": [],
   "source": [
    "from Transmon_property import find_guided_wavelength, find_actual_frequency, find_total_len"
   ]
  },
  {
   "cell_type": "code",
   "execution_count": 18,
   "metadata": {},
   "outputs": [],
   "source": [
    "frequency = 7*u.GHz\n",
    "line_width = 15*u.um\n",
    "line_gap = 9*u.um"
   ]
  },
  {
   "cell_type": "code",
   "execution_count": 19,
   "metadata": {},
   "outputs": [
    {
     "data": {
      "text/latex": [
       "$4.3543384 \\; \\mathrm{mm}$"
      ],
      "text/plain": [
       "<Quantity 4.35433845 mm>"
      ]
     },
     "execution_count": 19,
     "metadata": {},
     "output_type": "execute_result"
    }
   ],
   "source": [
    "find_guided_wavelength(frequency, 10*u.um, 7*u.um).to(u.mm)/4"
   ]
  },
  {
   "cell_type": "code",
   "execution_count": 20,
   "metadata": {},
   "outputs": [
    {
     "data": {
      "text/latex": [
       "$7.2004585 \\; \\mathrm{GHz}$"
      ],
      "text/plain": [
       "<Quantity 7.20045854 GHz>"
      ]
     },
     "execution_count": 20,
     "metadata": {},
     "output_type": "execute_result"
    }
   ],
   "source": [
    "l = find_total_len(qa, q1, TQ1, count_extend = True)\n",
    "find_actual_frequency(l, 10*u.um, 7*u.um)"
   ]
  },
  {
   "cell_type": "code",
   "execution_count": 21,
   "metadata": {},
   "outputs": [],
   "source": [
    "x, y = trans_p.find_connector_coord(q1) #save the position of the end of the connector pad"
   ]
  },
  {
   "cell_type": "code",
   "execution_count": 22,
   "metadata": {},
   "outputs": [],
   "source": [
    "design.delete_component('cpw_1')\n",
    "design.delete_component('Q1')\n",
    "gui.rebuild()\n",
    "gui.autoscale()"
   ]
  },
  {
   "attachments": {},
   "cell_type": "markdown",
   "metadata": {},
   "source": [
    "### Simulate lam/4 CPW frequency "
   ]
  },
  {
   "cell_type": "code",
   "execution_count": 23,
   "metadata": {},
   "outputs": [],
   "source": [
    "otg_options = Dict(pos_x = '{}'.format(x),pos_y = '{}'.format(y), width = '10um', gap = '7um', orientation = '180')\n",
    "\n",
    "otg = OpenToGround(design,'otg', otg_options)"
   ]
  },
  {
   "cell_type": "code",
   "execution_count": 24,
   "metadata": {},
   "outputs": [],
   "source": [
    "start = Dict(component = 'otg', pin = 'open')\n",
    "CPW_options['pin_inputs']['start_pin'] = start\n",
    "\n",
    "qa = RouteMixed(design, 'cpw_1', options = Dict(anchors = anchors, **CPW_options))\n",
    "\n",
    "gui.rebuild()\n",
    "gui.autoscale()"
   ]
  },
  {
   "attachments": {},
   "cell_type": "markdown",
   "metadata": {},
   "source": [
    "EPR analysis"
   ]
  },
  {
   "cell_type": "code",
   "execution_count": 28,
   "metadata": {},
   "outputs": [
    {
     "name": "stderr",
     "output_type": "stream",
     "text": [
      "INFO 02:38PM [connect_design]: \tOpened active design\n",
      "\tDesign:    readout_hfss [Solution type: Eigenmode]\n",
      "INFO 02:38PM [get_setup]: \tOpened setup `Setup`  (<class 'pyEPR.ansys.HfssEMSetup'>)\n",
      "INFO 02:38PM [analyze]: Analyzing setup Setup\n",
      "02:40PM 24s INFO [get_f_convergence]: Saved convergences to c:\\Users\\slab\\Desktop\\Wendy-qiskit-code\\hfss_eig_f_convergence.csv\n"
     ]
    }
   ],
   "source": [
    "eig_res = EPRanalysis(design, 'hfss')\n",
    "\n",
    "hfss = eig_res.sim.renderer\n",
    "\n",
    "eig_res.sim.renderer.options['Lj'] = '13nH'\n",
    "eig_res.sim.renderer.options['wb_threshold'] = '100um'\n",
    "eig_res.sim.renderer.options['wb_size'] = 1.7\n",
    "\n",
    "eig_res.sim.setup.max_passes = 15\n",
    "eig_res.sim.setup.max_delta_f = 0.2\n",
    "eig_res.sim.setup.n_modes = 1\n",
    "eig_res.sim.setup.vars = Dict(Lj1= '13 nH', Cj1= '0 fF')\n",
    "eig_res.sim.renderer.options['x_buffer_width_mm'] = 0.5\n",
    "eig_res.sim.renderer.options['y_buffer_width_mm'] = 0.5\n",
    "eig_res.sim.run(name=\"readout\", components=['cpw_1','TQ1','otg'])#, open_terminations=[('Q1', 'a')])\n",
    "convergence = pd.read_csv('hfss_eig_f_convergence.csv')"
   ]
  },
  {
   "cell_type": "code",
   "execution_count": 27,
   "metadata": {},
   "outputs": [],
   "source": []
  },
  {
   "cell_type": "code",
   "execution_count": 29,
   "metadata": {},
   "outputs": [],
   "source": [
    "freq1 = convergence.dropna()['re(Mode(1)) [g]'].values[-1]*u.GHz"
   ]
  },
  {
   "cell_type": "code",
   "execution_count": 30,
   "metadata": {},
   "outputs": [
    {
     "name": "stderr",
     "output_type": "stream",
     "text": [
      "INFO 02:42PM [get_setup]: \tOpened setup `Setup`  (<class 'pyEPR.ansys.HfssEMSetup'>)\n"
     ]
    },
    {
     "data": {
      "image/png": "[encoded data removed]",
      "text/plain": [
       "<IPython.core.display.Image object>"
      ]
     },
     "metadata": {},
     "output_type": "display_data"
    },
    {
     "data": {
      "text/plain": [
       "WindowsPath('c:/Users/slab/Desktop/Wendy-qiskit-code/ansys.png')"
      ]
     },
     "execution_count": 30,
     "metadata": {},
     "output_type": "execute_result"
    }
   ],
   "source": [
    "eig_res.sim.plot_fields('main')\n",
    "eig_res.sim.save_screenshot()"
   ]
  },
  {
   "cell_type": "code",
   "execution_count": 31,
   "metadata": {},
   "outputs": [],
   "source": [
    "del eig_res.setup.junctions['jj']"
   ]
  },
  {
   "cell_type": "code",
   "execution_count": 32,
   "metadata": {},
   "outputs": [
    {
     "name": "stdout",
     "output_type": "stream",
     "text": [
      "Design \"readout_hfss\" info:\n",
      "\t# eigenmodes    1\n",
      "\t# variations    1\n",
      "Design \"readout_hfss\" info:\n",
      "\t# eigenmodes    1\n",
      "\t# variations    1\n",
      "\n",
      "        energy_elec_all       = 1.81746024842884e-24\n",
      "        energy_elec_substrate = 1.65641877672925e-24\n",
      "        EPR of substrate = 91.1%\n",
      "\n",
      "        energy_mag    = 1.817462167495e-24\n",
      "        energy_mag % of energy_elec_all  = 100.0%\n",
      "        \n"
     ]
    }
   ],
   "source": [
    "eig_res.run_epr(no_junctions = True)"
   ]
  },
  {
   "cell_type": "code",
   "execution_count": 33,
   "metadata": {},
   "outputs": [
    {
     "name": "stderr",
     "output_type": "stream",
     "text": [
      "INFO 02:42PM [connect_design]: \tOpened active design\n",
      "\tDesign:    readout_hfss [Solution type: Eigenmode]\n",
      "INFO 02:42PM [get_setup]: \tOpened setup `Setup`  (<class 'pyEPR.ansys.HfssEMSetup'>)\n",
      "INFO 02:42PM [analyze]: Analyzing setup Setup\n",
      "02:44PM 06s INFO [get_f_convergence]: Saved convergences to c:\\Users\\slab\\Desktop\\Wendy-qiskit-code\\hfss_eig_f_convergence.csv\n"
     ]
    }
   ],
   "source": [
    "eig_res.sim.renderer.options['wb_threshold'] = '70um'\n",
    "\n",
    "\n",
    "eig_res.sim.run(name=\"readout\", components=['cpw_1','TQ1','otg'])#, open_terminations=[('Q1', 'a')])\n",
    "convergence = pd.read_csv('hfss_eig_f_convergence.csv')"
   ]
  },
  {
   "cell_type": "code",
   "execution_count": 34,
   "metadata": {},
   "outputs": [],
   "source": [
    "freq2 = convergence.dropna()['re(Mode(1)) [g]'].values[-1]*u.GHz"
   ]
  },
  {
   "cell_type": "code",
   "execution_count": 35,
   "metadata": {},
   "outputs": [
    {
     "name": "stdout",
     "output_type": "stream",
     "text": [
      "The 100um spaced wirebond gives CPW frequency 7.00989540994778 GHz\n",
      "The 70um spaced wirebond gives CPW frequency 7.01339216983569 GHz\n"
     ]
    }
   ],
   "source": [
    "print('The 100um spaced wirebond gives CPW frequency', freq1)\n",
    "print('The 70um spaced wirebond gives CPW frequency', freq2)"
   ]
  },
  {
   "cell_type": "code",
   "execution_count": 36,
   "metadata": {},
   "outputs": [
    {
     "name": "stderr",
     "output_type": "stream",
     "text": [
      "INFO 02:44PM [get_setup]: \tOpened setup `Setup`  (<class 'pyEPR.ansys.HfssEMSetup'>)\n"
     ]
    },
    {
     "data": {
      "image/png": "[encoded data removed]",
      "text/plain": [
       "<IPython.core.display.Image object>"
      ]
     },
     "metadata": {},
     "output_type": "display_data"
    },
    {
     "data": {
      "text/plain": [
       "WindowsPath('c:/Users/slab/Desktop/Wendy-qiskit-code/ansys.png')"
      ]
     },
     "execution_count": 36,
     "metadata": {},
     "output_type": "execute_result"
    }
   ],
   "source": [
    "eig_res.sim.plot_fields('main')\n",
    "eig_res.sim.save_screenshot()"
   ]
  },
  {
   "cell_type": "code",
   "execution_count": 37,
   "metadata": {},
   "outputs": [
    {
     "ename": "KeyError",
     "evalue": "'jj'",
     "output_type": "error",
     "traceback": [
      "\u001b[1;31m---------------------------------------------------------------------------\u001b[0m",
      "\u001b[1;31mKeyError\u001b[0m                                  Traceback (most recent call last)",
      "\u001b[1;32mc:\\Users\\slab\\Desktop\\Wendy-qiskit-code\\Single_pocket_simulation.ipynb Cell 52\u001b[0m in \u001b[0;36m1\n\u001b[1;32m----> <a href='vscode-notebook-cell:/c%3A/Users/slab/Desktop/Wendy-qiskit-code/Single_pocket_simulation.ipynb#Y304sZmlsZQ%3D%3D?line=0'>1</a>\u001b[0m \u001b[39mdel\u001b[39;00m eig_res\u001b[39m.\u001b[39msetup\u001b[39m.\u001b[39mjunctions[\u001b[39m'\u001b[39m\u001b[39mjj\u001b[39m\u001b[39m'\u001b[39m]\n",
      "\u001b[1;31mKeyError\u001b[0m: 'jj'"
     ]
    }
   ],
   "source": [
    "del eig_res.setup.junctions['jj']"
   ]
  },
  {
   "cell_type": "code",
   "execution_count": 38,
   "metadata": {},
   "outputs": [
    {
     "name": "stdout",
     "output_type": "stream",
     "text": [
      "Design \"readout_hfss\" info:\n",
      "\t# eigenmodes    1\n",
      "\t# variations    1\n",
      "Design \"readout_hfss\" info:\n",
      "\t# eigenmodes    1\n",
      "\t# variations    1\n",
      "\n",
      "        energy_elec_all       = 1.81216712945896e-24\n",
      "        energy_elec_substrate = 1.64764180012149e-24\n",
      "        EPR of substrate = 90.9%\n",
      "\n",
      "        energy_mag    = 1.81216822035635e-24\n",
      "        energy_mag % of energy_elec_all  = 100.0%\n",
      "        \n"
     ]
    }
   ],
   "source": [
    "eig_res.run_epr(no_junctions = True)"
   ]
  },
  {
   "cell_type": "code",
   "execution_count": 81,
   "metadata": {},
   "outputs": [],
   "source": [
    "# eig_res.sim.close()"
   ]
  },
  {
   "cell_type": "code",
   "execution_count": 59,
   "metadata": {},
   "outputs": [
    {
     "name": "stderr",
     "output_type": "stream",
     "text": [
      "02:53PM 48s INFO [delete_component]: Called delete_component cpw_1, but such a component is not in the design cache dictionary of components.\n",
      "02:53PM 48s INFO [delete_component]: Called delete_component otg, but such a component is not in the design cache dictionary of components.\n"
     ]
    }
   ],
   "source": [
    "design.delete_component('cpw_1')\n",
    "design.delete_component('otg')\n",
    "gui.rebuild()\n",
    "gui.autoscale()"
   ]
  },
  {
   "cell_type": "code",
   "execution_count": 68,
   "metadata": {},
   "outputs": [],
   "source": [
    "\n",
    "data = pd.DataFrame()\n",
    "sizes = np.linspace(0.15,0.3,10)*u.mm\n",
    "freq_ls = []\n",
    "len_ls = []\n",
    "size_ls = []"
   ]
  },
  {
   "cell_type": "code",
   "execution_count": 69,
   "metadata": {},
   "outputs": [
    {
     "name": "stderr",
     "output_type": "stream",
     "text": [
      "INFO 03:00PM [connect_design]: \tOpened active design\n",
      "\tDesign:    readout_hfss [Solution type: Eigenmode]\n",
      "INFO 03:00PM [get_setup]: \tOpened setup `Setup`  (<class 'pyEPR.ansys.HfssEMSetup'>)\n",
      "INFO 03:00PM [analyze]: Analyzing setup Setup\n",
      "03:04PM 46s INFO [get_f_convergence]: Saved convergences to c:\\Users\\slab\\Desktop\\Wendy-qiskit-code\\hfss_eig_f_convergence.csv\n",
      "INFO 03:04PM [connect_design]: \tOpened active design\n",
      "\tDesign:    readout_hfss [Solution type: Eigenmode]\n",
      "INFO 03:04PM [get_setup]: \tOpened setup `Setup`  (<class 'pyEPR.ansys.HfssEMSetup'>)\n",
      "INFO 03:04PM [analyze]: Analyzing setup Setup\n",
      "03:09PM 13s INFO [get_f_convergence]: Saved convergences to c:\\Users\\slab\\Desktop\\Wendy-qiskit-code\\hfss_eig_f_convergence.csv\n",
      "03:09PM 14s CRITICAL [_qt_message_handler]: line: 0, func: None(), file: None  CRITICAL: QEventDispatcherWin32::wakeUp: Failed to post a message (Not enough quota is available to process this command.)\n",
      "\n",
      "INFO 03:09PM [connect_design]: \tOpened active design\n",
      "\tDesign:    readout_hfss [Solution type: Eigenmode]\n",
      "INFO 03:09PM [get_setup]: \tOpened setup `Setup`  (<class 'pyEPR.ansys.HfssEMSetup'>)\n",
      "INFO 03:09PM [analyze]: Analyzing setup Setup\n",
      "03:13PM 34s INFO [get_f_convergence]: Saved convergences to c:\\Users\\slab\\Desktop\\Wendy-qiskit-code\\hfss_eig_f_convergence.csv\n",
      "INFO 03:13PM [connect_design]: \tOpened active design\n",
      "\tDesign:    readout_hfss [Solution type: Eigenmode]\n",
      "INFO 03:13PM [get_setup]: \tOpened setup `Setup`  (<class 'pyEPR.ansys.HfssEMSetup'>)\n",
      "INFO 03:13PM [analyze]: Analyzing setup Setup\n",
      "03:18PM 47s INFO [get_f_convergence]: Saved convergences to c:\\Users\\slab\\Desktop\\Wendy-qiskit-code\\hfss_eig_f_convergence.csv\n",
      "03:18PM 48s CRITICAL [_qt_message_handler]: line: 0, func: None(), file: None  CRITICAL: QEventDispatcherWin32::wakeUp: Failed to post a message (Not enough quota is available to process this command.)\n",
      "\n",
      "INFO 03:18PM [connect_design]: \tOpened active design\n",
      "\tDesign:    readout_hfss [Solution type: Eigenmode]\n",
      "INFO 03:18PM [get_setup]: \tOpened setup `Setup`  (<class 'pyEPR.ansys.HfssEMSetup'>)\n",
      "INFO 03:18PM [analyze]: Analyzing setup Setup\n",
      "03:23PM 18s INFO [get_f_convergence]: Saved convergences to c:\\Users\\slab\\Desktop\\Wendy-qiskit-code\\hfss_eig_f_convergence.csv\n",
      "INFO 03:23PM [connect_design]: \tOpened active design\n",
      "\tDesign:    readout_hfss [Solution type: Eigenmode]\n",
      "INFO 03:23PM [get_setup]: \tOpened setup `Setup`  (<class 'pyEPR.ansys.HfssEMSetup'>)\n",
      "INFO 03:23PM [analyze]: Analyzing setup Setup\n",
      "03:28PM 25s INFO [get_f_convergence]: Saved convergences to c:\\Users\\slab\\Desktop\\Wendy-qiskit-code\\hfss_eig_f_convergence.csv\n",
      "03:28PM 26s CRITICAL [_qt_message_handler]: line: 0, func: None(), file: None  CRITICAL: QEventDispatcherWin32::wakeUp: Failed to post a message (Not enough quota is available to process this command.)\n",
      "\n",
      "INFO 03:28PM [connect_design]: \tOpened active design\n",
      "\tDesign:    readout_hfss [Solution type: Eigenmode]\n",
      "INFO 03:28PM [get_setup]: \tOpened setup `Setup`  (<class 'pyEPR.ansys.HfssEMSetup'>)\n",
      "INFO 03:28PM [analyze]: Analyzing setup Setup\n",
      "03:32PM 35s INFO [get_f_convergence]: Saved convergences to c:\\Users\\slab\\Desktop\\Wendy-qiskit-code\\hfss_eig_f_convergence.csv\n",
      "INFO 03:32PM [connect_design]: \tOpened active design\n",
      "\tDesign:    readout_hfss [Solution type: Eigenmode]\n",
      "INFO 03:32PM [get_setup]: \tOpened setup `Setup`  (<class 'pyEPR.ansys.HfssEMSetup'>)\n",
      "INFO 03:32PM [analyze]: Analyzing setup Setup\n",
      "03:38PM 47s INFO [get_f_convergence]: Saved convergences to c:\\Users\\slab\\Desktop\\Wendy-qiskit-code\\hfss_eig_f_convergence.csv\n",
      "03:38PM 48s CRITICAL [_qt_message_handler]: line: 0, func: None(), file: None  CRITICAL: QEventDispatcherWin32::wakeUp: Failed to post a message (Not enough quota is available to process this command.)\n",
      "\n",
      "INFO 03:38PM [connect_design]: \tOpened active design\n",
      "\tDesign:    readout_hfss [Solution type: Eigenmode]\n",
      "INFO 03:39PM [get_setup]: \tOpened setup `Setup`  (<class 'pyEPR.ansys.HfssEMSetup'>)\n",
      "INFO 03:39PM [analyze]: Analyzing setup Setup\n",
      "03:45PM 07s INFO [get_f_convergence]: Saved convergences to c:\\Users\\slab\\Desktop\\Wendy-qiskit-code\\hfss_eig_f_convergence.csv\n",
      "INFO 03:45PM [connect_design]: \tOpened active design\n",
      "\tDesign:    readout_hfss [Solution type: Eigenmode]\n",
      "INFO 03:45PM [get_setup]: \tOpened setup `Setup`  (<class 'pyEPR.ansys.HfssEMSetup'>)\n",
      "INFO 03:45PM [analyze]: Analyzing setup Setup\n",
      "03:47PM 36s INFO [get_f_convergence]: Saved convergences to c:\\Users\\slab\\Desktop\\Wendy-qiskit-code\\hfss_eig_f_convergence.csv\n"
     ]
    }
   ],
   "source": [
    "for size in sizes:\n",
    "    dic = {}\n",
    "    design.delete_component('otg')\n",
    "    design.delete_component('cpw_1')\n",
    "    #draw transmon pocket design\n",
    "    # size = 0.25*u.mm\n",
    "    gap = 30*u.um\n",
    "    size = size.to(u.um)\n",
    "    pocket_width = size+2*gap\n",
    "\n",
    "    op = Dict(\n",
    "        pos_x = '0',\n",
    "        pad_height = '{}um'.format(size.value),\n",
    "        pos_y = '0',\n",
    "        pad_width = '{}'.format(size),\n",
    "        pocket_width = '{}'.format(pocket_width), \n",
    "        **qb_options)\n",
    "\n",
    "    q1 = TransmonPocket_Single(design,'Q1',options = op)\n",
    "    gui.rebuild()\n",
    "    \n",
    "    #calculate CPW anchors based on transmon pocket dimensions\n",
    "    buffer = 150*u.um\n",
    "    anchors = trans_p.anchor_CPW(q1, buffer, 0.07, 2,r = -1)\n",
    "\n",
    "    #get coordinates\n",
    "    x, y = trans_p.find_connector_coord(q1) #save the position of the end of the connector pad\n",
    "    gui.rebuild()\n",
    "    \n",
    "    design.delete_component('Q1')\n",
    "    gui.rebuild()\n",
    "    gui.autoscale()\n",
    "\n",
    "    #draw the open to ground component\n",
    "    otg_options = Dict(pos_x = '{}'.format(x),pos_y = '{}'.format(y), width = 'trace_width', gap = 'trace_gap', orientation = '180')\n",
    "    otg = OpenToGround(design,'otg', otg_options)\n",
    "\n",
    "    #draw the CPW resonator\n",
    "    start = Dict(component = 'otg', pin = 'open')\n",
    "    CPW_options['pin_inputs']['start_pin'] = start\n",
    "\n",
    "    qa = RouteMixed(design, 'cpw_1', options = Dict(anchors = anchors, **CPW_options))\n",
    "    gui.rebuild()\n",
    "\n",
    "    #setup simulation. Assume already ran once\n",
    "    eig_res.sim.renderer.options['wb_threshold'] = '70um'\n",
    "\n",
    "    eig_res.sim.setup.max_passes = 25\n",
    "    eig_res.sim.setup.max_delta_f = 0.05\n",
    "    eig_res.sim.setup.n_modes = 1\n",
    "\n",
    "    #run the simulation\n",
    "    eig_res.sim.run(name=\"readout\", components=['cpw_1','TQ1','otg'])#, open_terminations=[('Q1', 'a')])\n",
    "    convergence = (pd.read_csv('hfss_eig_f_convergence.csv')).dropna()\n",
    "    ind = list(convergence.keys())[1]\n",
    "    \n",
    "    l = trans_p.find_total_len_nqb(qa, TQ1)\n",
    "    f = convergence[ind].values[-1]\n",
    "    freq_ls += [f]\n",
    "    len_ls += [l.value]\n",
    "    size_ls += [size.to(u.mm).value]\n",
    "    \n",
    "    dic['Frequency(GHz)'] = freq_ls\n",
    "    dic['CPW_lengths(mm)'] = len_ls\n",
    "    dic['Size(mm)'] = size_ls\n",
    "    \n",
    "    data = pd.DataFrame(dic)\n",
    "    data.to_csv('Freq_length_CPW.csv')\n",
    "    \n",
    "\n"
   ]
  },
  {
   "cell_type": "code",
   "execution_count": 75,
   "metadata": {},
   "outputs": [],
   "source": [
    "len_ls = np.array(len_ls)*u.mm\n",
    "freqs_theory = trans_p.find_actual_frequency(len_ls,10*u.um, 7*u.um)"
   ]
  },
  {
   "cell_type": "code",
   "execution_count": 81,
   "metadata": {},
   "outputs": [],
   "source": [
    "plt.figure()\n",
    "plt.scatter(len_ls, freqs_theory, label = 'Theory value')\n",
    "plt.scatter(len_ls,freq_ls,label = 'HFSS Simulation')\n",
    "plt.xlabel('CPW Length (mm)')\n",
    "plt.ylabel('CPW Frequency (GHz)')\n",
    "plt.legend()\n",
    "plt.savefig('plots\\CPW_frequencies.png')\n",
    "plt.show()"
   ]
  },
  {
   "cell_type": "code",
   "execution_count": 82,
   "metadata": {},
   "outputs": [],
   "source": [
    "design.delete_component('cpw_1')\n",
    "design.delete_component('otg')\n",
    "gui.rebuild()\n",
    "gui.autoscale()"
   ]
  },
  {
   "cell_type": "code",
   "execution_count": null,
   "metadata": {},
   "outputs": [],
   "source": []
  },
  {
   "cell_type": "code",
   "execution_count": null,
   "metadata": {},
   "outputs": [],
   "source": []
  },
  {
   "cell_type": "code",
   "execution_count": null,
   "metadata": {},
   "outputs": [],
   "source": []
  },
  {
   "cell_type": "code",
   "execution_count": 264,
   "metadata": {},
   "outputs": [
    {
     "name": "stderr",
     "output_type": "stream",
     "text": [
      "INFO 01:14PM [connect_design]: \tOpened active design\n",
      "\tDesign:    all_freqs_hfss [Solution type: Eigenmode]\n",
      "WARNING 01:14PM [connect_setup]: \tNo design setup detected.\n",
      "WARNING 01:14PM [connect_setup]: \tCreating eigenmode default setup.\n",
      "INFO 01:14PM [get_setup]: \tOpened setup `Setup`  (<class 'pyEPR.ansys.HfssEMSetup'>)\n",
      "INFO 01:14PM [get_setup]: \tOpened setup `Setup`  (<class 'pyEPR.ansys.HfssEMSetup'>)\n",
      "INFO 01:14PM [analyze]: Analyzing setup Setup\n",
      "02:59PM 52s INFO [get_f_convergence]: Saved convergences to c:\\Users\\slab\\Desktop\\Wendy-qiskit-code\\hfss_eig_f_convergence.csv\n"
     ]
    }
   ],
   "source": [
    "eig_qb_cpw = EPRanalysis(design, 'hfss')\n",
    "\n",
    "eig_qb_cpw.sim.setup.max_passes = 25\n",
    "eig_qb_cpw.sim.setup.max_delta_f = 0.05\n",
    "eig_qb_cpw.sim.setup.n_modes = 3\n",
    "eig_qb_cpw.sim.setup.vars = Dict(Lj1= '13 nH', Cj1= '0 fF')\n",
    "eig_qb_cpw.sim.renderer.options['x_buffer_width_mm'] = 0.5\n",
    "eig_qb_cpw.sim.renderer.options['y_buffer_width_mm'] = 0.5\n",
    "eig_qb_cpw.sim.run(name=\"all_freqs\", components=['Q1','cpw_1','TQ1'])#, open_terminations=[('Q1', 'a')])\n",
    "convergence = pd.read_csv('hfss_eig_f_convergence.csv')"
   ]
  },
  {
   "cell_type": "code",
   "execution_count": 265,
   "metadata": {},
   "outputs": [
    {
     "name": "stdout",
     "output_type": "stream",
     "text": [
      "Design \"all_freqs_hfss\" info:\n",
      "\t# eigenmodes    3\n",
      "\t# variations    1\n",
      "Design \"all_freqs_hfss\" info:\n",
      "\t# eigenmodes    3\n",
      "\t# variations    1\n"
     ]
    },
    {
     "name": "stderr",
     "output_type": "stream",
     "text": [
      "WARNING:py.warnings:c:\\Users\\slab\\anaconda3\\envs\\qmetal\\lib\\site-packages\\pyEPR\\project_info.py:239: FutureWarning: The default dtype for empty Series will be 'object' instead of 'float64' in a future version. Specify a dtype explicitly to silence this warning.\n",
      "  options=pd.Series(get_instance_vars(self.options)),\n",
      "\n"
     ]
    },
    {
     "name": "stdout",
     "output_type": "stream",
     "text": [
      "\n",
      "        energy_elec_all       = 2.56306879484299e-26\n",
      "        energy_elec_substrate = 2.36095027362388e-26\n",
      "        EPR of substrate = 92.1%\n",
      "\n",
      "        energy_mag    = 2.31839388425387e-28\n",
      "        energy_mag % of energy_elec_all  = 0.9%\n",
      "        \n",
      "\n",
      "Variation 0  [1/1]\n"
     ]
    },
    {
     "name": "stderr",
     "output_type": "stream",
     "text": [
      "WARNING:py.warnings:c:\\Users\\slab\\anaconda3\\envs\\qmetal\\lib\\site-packages\\pyEPR\\core_distributed_analysis.py:1101: FutureWarning: The default dtype for empty Series will be 'object' instead of 'float64' in a future version. Specify a dtype explicitly to silence this warning.\n",
      "  Ljs = pd.Series({})\n",
      "\n",
      "WARNING:py.warnings:c:\\Users\\slab\\anaconda3\\envs\\qmetal\\lib\\site-packages\\pyEPR\\core_distributed_analysis.py:1102: FutureWarning: The default dtype for empty Series will be 'object' instead of 'float64' in a future version. Specify a dtype explicitly to silence this warning.\n",
      "  Cjs = pd.Series({})\n",
      "\n",
      "WARNING:py.warnings:c:\\Users\\slab\\anaconda3\\envs\\qmetal\\lib\\site-packages\\pyEPR\\core_distributed_analysis.py:1245: FutureWarning: The default dtype for empty Series will be 'object' instead of 'float64' in a future version. Specify a dtype explicitly to silence this warning.\n",
      "  _Om = pd.Series({})\n",
      "\n"
     ]
    },
    {
     "name": "stdout",
     "output_type": "stream",
     "text": [
      "\n",
      "  \u001b[1mMode 0 at 4.03 GHz   [1/3]\u001b[0m\n",
      "    Calculating ℰ_magnetic,ℰ_electric\n"
     ]
    },
    {
     "name": "stderr",
     "output_type": "stream",
     "text": [
      "WARNING:py.warnings:c:\\Users\\slab\\anaconda3\\envs\\qmetal\\lib\\site-packages\\pyEPR\\core_distributed_analysis.py:981: FutureWarning: The default dtype for empty Series will be 'object' instead of 'float64' in a future version. Specify a dtype explicitly to silence this warning.\n",
      "  Sj = pd.Series({})\n",
      "\n"
     ]
    },
    {
     "name": "stdout",
     "output_type": "stream",
     "text": [
      "       (ℰ_E-ℰ_H)/ℰ_E       ℰ_E       ℰ_H\n",
      "               99.1%  1.282e-26 1.159e-28\n",
      "\n",
      "    Calculating junction energy participation ration (EPR)\n",
      "\tmethod=`line_voltage`. First estimates:\n",
      "\tjunction        EPR p_0j   sign s_0j    (p_capacitive)\n"
     ]
    },
    {
     "name": "stderr",
     "output_type": "stream",
     "text": [
      "WARNING:py.warnings:c:\\Users\\slab\\anaconda3\\envs\\qmetal\\lib\\site-packages\\pyEPR\\core_distributed_analysis.py:933: FutureWarning: The default dtype for empty Series will be 'object' instead of 'float64' in a future version. Specify a dtype explicitly to silence this warning.\n",
      "  Qp = pd.Series({})\n",
      "\n"
     ]
    },
    {
     "name": "stdout",
     "output_type": "stream",
     "text": [
      "\t\tEnergy fraction (Lj over Lj&Cj)= 98.36%\n",
      "\tjj1             0.990636  (+)        0.0164836\n",
      "\t\t(U_tot_cap-U_tot_ind)/mean=0.83%\n",
      "Calculating Qdielectric_main for mode 0 (0/2)\n"
     ]
    },
    {
     "name": "stderr",
     "output_type": "stream",
     "text": [
      "WARNING:py.warnings:c:\\Users\\slab\\anaconda3\\envs\\qmetal\\lib\\site-packages\\pyEPR\\core_distributed_analysis.py:1307: FutureWarning: The series.append method is deprecated and will be removed from pandas in a future version. Use pandas.concat instead.\n",
      "  sol = sol.append(self.get_Qdielectric(\n",
      "\n"
     ]
    },
    {
     "name": "stdout",
     "output_type": "stream",
     "text": [
      "p_dielectric_main_0 = 0.9211419835371638\n"
     ]
    },
    {
     "name": "stderr",
     "output_type": "stream",
     "text": [
      "WARNING:py.warnings:c:\\Users\\slab\\anaconda3\\envs\\qmetal\\lib\\site-packages\\pyEPR\\core_distributed_analysis.py:1245: FutureWarning: The default dtype for empty Series will be 'object' instead of 'float64' in a future version. Specify a dtype explicitly to silence this warning.\n",
      "  _Om = pd.Series({})\n",
      "\n"
     ]
    },
    {
     "name": "stdout",
     "output_type": "stream",
     "text": [
      "\n",
      "  \u001b[1mMode 1 at 9.46 GHz   [2/3]\u001b[0m\n",
      "    Calculating ℰ_magnetic,ℰ_electric\n"
     ]
    },
    {
     "name": "stderr",
     "output_type": "stream",
     "text": [
      "WARNING:py.warnings:c:\\Users\\slab\\anaconda3\\envs\\qmetal\\lib\\site-packages\\pyEPR\\core_distributed_analysis.py:981: FutureWarning: The default dtype for empty Series will be 'object' instead of 'float64' in a future version. Specify a dtype explicitly to silence this warning.\n",
      "  Sj = pd.Series({})\n",
      "\n"
     ]
    },
    {
     "name": "stdout",
     "output_type": "stream",
     "text": [
      "       (ℰ_E-ℰ_H)/ℰ_E       ℰ_E       ℰ_H\n",
      "                0.3%   1.68e-26 1.676e-26\n",
      "\n",
      "    Calculating junction energy participation ration (EPR)\n",
      "\tmethod=`line_voltage`. First estimates:\n",
      "\tjunction        EPR p_1j   sign s_1j    (p_capacitive)\n"
     ]
    },
    {
     "name": "stderr",
     "output_type": "stream",
     "text": [
      "WARNING:py.warnings:c:\\Users\\slab\\anaconda3\\envs\\qmetal\\lib\\site-packages\\pyEPR\\core_distributed_analysis.py:933: FutureWarning: The default dtype for empty Series will be 'object' instead of 'float64' in a future version. Specify a dtype explicitly to silence this warning.\n",
      "  Qp = pd.Series({})\n",
      "\n"
     ]
    },
    {
     "name": "stdout",
     "output_type": "stream",
     "text": [
      "\t\tEnergy fraction (Lj over Lj&Cj)= 91.59%\n",
      "\tjj1             0.00250125  (+)        0.000229682\n",
      "\t\t(U_tot_cap-U_tot_ind)/mean=0.01%\n",
      "Calculating Qdielectric_main for mode 1 (1/2)\n"
     ]
    },
    {
     "name": "stderr",
     "output_type": "stream",
     "text": [
      "WARNING:py.warnings:c:\\Users\\slab\\anaconda3\\envs\\qmetal\\lib\\site-packages\\pyEPR\\core_distributed_analysis.py:1307: FutureWarning: The series.append method is deprecated and will be removed from pandas in a future version. Use pandas.concat instead.\n",
      "  sol = sol.append(self.get_Qdielectric(\n",
      "\n"
     ]
    },
    {
     "name": "stdout",
     "output_type": "stream",
     "text": [
      "p_dielectric_main_1 = 0.9205470526609205\n"
     ]
    },
    {
     "name": "stderr",
     "output_type": "stream",
     "text": [
      "WARNING:py.warnings:c:\\Users\\slab\\anaconda3\\envs\\qmetal\\lib\\site-packages\\pyEPR\\core_distributed_analysis.py:1245: FutureWarning: The default dtype for empty Series will be 'object' instead of 'float64' in a future version. Specify a dtype explicitly to silence this warning.\n",
      "  _Om = pd.Series({})\n",
      "\n"
     ]
    },
    {
     "name": "stdout",
     "output_type": "stream",
     "text": [
      "\n",
      "  \u001b[1mMode 2 at 28.13 GHz   [3/3]\u001b[0m\n",
      "    Calculating ℰ_magnetic,ℰ_electric\n"
     ]
    },
    {
     "name": "stderr",
     "output_type": "stream",
     "text": [
      "WARNING:py.warnings:c:\\Users\\slab\\anaconda3\\envs\\qmetal\\lib\\site-packages\\pyEPR\\core_distributed_analysis.py:981: FutureWarning: The default dtype for empty Series will be 'object' instead of 'float64' in a future version. Specify a dtype explicitly to silence this warning.\n",
      "  Sj = pd.Series({})\n",
      "\n"
     ]
    },
    {
     "name": "stdout",
     "output_type": "stream",
     "text": [
      "       (ℰ_E-ℰ_H)/ℰ_E       ℰ_E       ℰ_H\n",
      "               -0.8%  1.642e-26 1.654e-26\n",
      "\n",
      "    Calculating junction energy participation ration (EPR)\n",
      "\tmethod=`line_voltage`. First estimates:\n",
      "\tjunction        EPR p_2j   sign s_2j    (p_capacitive)\n"
     ]
    },
    {
     "name": "stderr",
     "output_type": "stream",
     "text": [
      "WARNING:py.warnings:c:\\Users\\slab\\anaconda3\\envs\\qmetal\\lib\\site-packages\\pyEPR\\core_distributed_analysis.py:933: FutureWarning: The default dtype for empty Series will be 'object' instead of 'float64' in a future version. Specify a dtype explicitly to silence this warning.\n",
      "  Qp = pd.Series({})\n",
      "\n"
     ]
    },
    {
     "name": "stdout",
     "output_type": "stream",
     "text": [
      "\t\tEnergy fraction (Lj over Lj&Cj)= 55.18%\n",
      "\tjj1             9.03204e-05  (+)        7.33762e-05\n",
      "\t\t(U_tot_cap-U_tot_ind)/mean=-0.39%\n",
      "Calculating Qdielectric_main for mode 2 (2/2)\n"
     ]
    },
    {
     "name": "stderr",
     "output_type": "stream",
     "text": [
      "WARNING:py.warnings:c:\\Users\\slab\\anaconda3\\envs\\qmetal\\lib\\site-packages\\pyEPR\\core_distributed_analysis.py:1307: FutureWarning: The series.append method is deprecated and will be removed from pandas in a future version. Use pandas.concat instead.\n",
      "  sol = sol.append(self.get_Qdielectric(\n",
      "\n"
     ]
    },
    {
     "name": "stdout",
     "output_type": "stream",
     "text": [
      "p_dielectric_main_2 = 0.9209669837801766\n"
     ]
    },
    {
     "name": "stderr",
     "output_type": "stream",
     "text": [
      "WARNING:py.warnings:c:\\Users\\slab\\anaconda3\\envs\\qmetal\\lib\\site-packages\\pyEPR\\project_info.py:239: FutureWarning: The default dtype for empty Series will be 'object' instead of 'float64' in a future version. Specify a dtype explicitly to silence this warning.\n",
      "  options=pd.Series(get_instance_vars(self.options)),\n",
      "\n",
      "WARNING 05:26PM [__init__]: <p>Error: <class 'IndexError'></p>\n"
     ]
    },
    {
     "name": "stdout",
     "output_type": "stream",
     "text": [
      "\n",
      "ANALYSIS DONE. Data saved to:\n",
      "\n",
      "C:\\data-pyEPR\\Project24\\all_freqs_hfss\\2023-02-23 17-24-41.npz\n",
      "\n",
      "\n",
      "\t Differences in variations:\n",
      "\n",
      "\n",
      "\n",
      " . . . . . . . . . . . . . . . . . . . . . . . . . . . . . . . . . . . . . . . . \n",
      "Variation 0\n",
      "\n",
      "Starting the diagonalization\n",
      "Finished the diagonalization\n"
     ]
    },
    {
     "name": "stderr",
     "output_type": "stream",
     "text": [
      "WARNING:py.warnings:c:\\Users\\slab\\anaconda3\\envs\\qmetal\\lib\\site-packages\\pyEPR\\core_quantum_analysis.py:712: FutureWarning: Support for multi-dimensional indexing (e.g. `obj[:, None]`) is deprecated and will be removed in a future version.  Convert to a numpy array before indexing instead.\n",
      "  result['Q_coupling'] = self.Qm_coupling[variation][self.Qm_coupling[variation].columns[junctions]][modes]#TODO change the columns to junctions\n",
      "\n",
      "WARNING:py.warnings:c:\\Users\\slab\\anaconda3\\envs\\qmetal\\lib\\site-packages\\pyEPR\\core_quantum_analysis.py:717: FutureWarning: Support for multi-dimensional indexing (e.g. `obj[:, None]`) is deprecated and will be removed in a future version.  Convert to a numpy array before indexing instead.\n",
      "  result['Qs'] = self.Qs[variation][self.PM[variation].columns[junctions]][modes] #TODO change the columns to junctions\n",
      "\n"
     ]
    },
    {
     "name": "stdout",
     "output_type": "stream",
     "text": [
      "Pm_norm=\n",
      "modes\n",
      "0     1.016885\n",
      "1     1.046236\n",
      "2    41.718963\n",
      "dtype: float64\n",
      "\n",
      "Pm_norm idx =\n",
      "     jj1\n",
      "0   True\n",
      "1  False\n",
      "2  False\n",
      "*** P (participation matrix, not normlz.)\n",
      "        jj1\n",
      "0  0.974571\n",
      "1  0.002501\n",
      "2  0.000090\n",
      "\n",
      "*** S (sign-bit matrix)\n",
      "   s_jj1\n",
      "0     -1\n",
      "1     -1\n",
      "2      1\n",
      "*** P (participation matrix, normalized.)\n",
      "      0.99\n",
      "    0.0025\n",
      "     9e-05\n",
      "\n",
      "*** Chi matrix O1 PT (MHz)\n",
      "    Diag is anharmonicity, off diag is full cross-Kerr.\n",
      "       158     1.88    0.202\n",
      "      1.88  0.00556  0.00119\n",
      "     0.202  0.00119 6.42e-05\n",
      "\n",
      "*** Chi matrix ND (MHz) \n",
      "       173     2.04      0.2\n",
      "      2.04  0.00555  0.00111\n",
      "       0.2  0.00111 6.37e-05\n",
      "\n",
      "*** Frequencies O1 PT (MHz)\n",
      "0     3866.957647\n",
      "1     9457.474400\n",
      "2    28133.035045\n",
      "dtype: float64\n",
      "\n",
      "*** Frequencies ND (MHz)\n",
      "0     3860.023562\n",
      "1     9457.425257\n",
      "2    28133.035578\n",
      "dtype: float64\n",
      "\n",
      "*** Q_coupling\n",
      "Empty DataFrame\n",
      "Columns: []\n",
      "Index: [0, 1, 2]\n"
     ]
    },
    {
     "data": {
      "text/markdown": [
       "#### Mode frequencies (MHz)"
      ],
      "text/plain": [
       "<IPython.core.display.Markdown object>"
      ]
     },
     "metadata": {},
     "output_type": "display_data"
    },
    {
     "data": {
      "text/markdown": [
       "###### Numerical diagonalization"
      ],
      "text/plain": [
       "<IPython.core.display.Markdown object>"
      ]
     },
     "metadata": {},
     "output_type": "display_data"
    },
    {
     "data": {
      "text/html": [
       "<div>\n",
       "<style scoped>\n",
       "    .dataframe tbody tr th:only-of-type {\n",
       "        vertical-align: middle;\n",
       "    }\n",
       "\n",
       "    .dataframe tbody tr th {\n",
       "        vertical-align: top;\n",
       "    }\n",
       "\n",
       "    .dataframe thead th {\n",
       "        text-align: right;\n",
       "    }\n",
       "</style>\n",
       "<table border=\"1\" class=\"dataframe\">\n",
       "  <thead>\n",
       "    <tr style=\"text-align: right;\">\n",
       "      <th>Lj1</th>\n",
       "      <th>13</th>\n",
       "    </tr>\n",
       "  </thead>\n",
       "  <tbody>\n",
       "    <tr>\n",
       "      <th>0</th>\n",
       "      <td>3860.02</td>\n",
       "    </tr>\n",
       "    <tr>\n",
       "      <th>1</th>\n",
       "      <td>9457.43</td>\n",
       "    </tr>\n",
       "    <tr>\n",
       "      <th>2</th>\n",
       "      <td>28133.04</td>\n",
       "    </tr>\n",
       "  </tbody>\n",
       "</table>\n",
       "</div>"
      ],
      "text/plain": [
       "Lj1        13\n",
       "0     3860.02\n",
       "1     9457.43\n",
       "2    28133.04"
      ]
     },
     "metadata": {},
     "output_type": "display_data"
    },
    {
     "data": {
      "text/markdown": [
       "#### Kerr Non-linear coefficient table (MHz)"
      ],
      "text/plain": [
       "<IPython.core.display.Markdown object>"
      ]
     },
     "metadata": {},
     "output_type": "display_data"
    },
    {
     "data": {
      "text/markdown": [
       "###### Numerical diagonalization"
      ],
      "text/plain": [
       "<IPython.core.display.Markdown object>"
      ]
     },
     "metadata": {},
     "output_type": "display_data"
    },
    {
     "data": {
      "text/html": [
       "<div>\n",
       "<style scoped>\n",
       "    .dataframe tbody tr th:only-of-type {\n",
       "        vertical-align: middle;\n",
       "    }\n",
       "\n",
       "    .dataframe tbody tr th {\n",
       "        vertical-align: top;\n",
       "    }\n",
       "\n",
       "    .dataframe thead th {\n",
       "        text-align: right;\n",
       "    }\n",
       "</style>\n",
       "<table border=\"1\" class=\"dataframe\">\n",
       "  <thead>\n",
       "    <tr style=\"text-align: right;\">\n",
       "      <th></th>\n",
       "      <th></th>\n",
       "      <th>0</th>\n",
       "      <th>1</th>\n",
       "      <th>2</th>\n",
       "    </tr>\n",
       "    <tr>\n",
       "      <th>Lj1</th>\n",
       "      <th></th>\n",
       "      <th></th>\n",
       "      <th></th>\n",
       "      <th></th>\n",
       "    </tr>\n",
       "  </thead>\n",
       "  <tbody>\n",
       "    <tr>\n",
       "      <th rowspan=\"3\" valign=\"top\">13</th>\n",
       "      <th>0</th>\n",
       "      <td>173.16</td>\n",
       "      <td>2.04e+00</td>\n",
       "      <td>2.00e-01</td>\n",
       "    </tr>\n",
       "    <tr>\n",
       "      <th>1</th>\n",
       "      <td>2.04</td>\n",
       "      <td>5.55e-03</td>\n",
       "      <td>1.11e-03</td>\n",
       "    </tr>\n",
       "    <tr>\n",
       "      <th>2</th>\n",
       "      <td>0.20</td>\n",
       "      <td>1.11e-03</td>\n",
       "      <td>6.37e-05</td>\n",
       "    </tr>\n",
       "  </tbody>\n",
       "</table>\n",
       "</div>"
      ],
      "text/plain": [
       "            0         1         2\n",
       "Lj1                              \n",
       "13  0  173.16  2.04e+00  2.00e-01\n",
       "    1    2.04  5.55e-03  1.11e-03\n",
       "    2    0.20  1.11e-03  6.37e-05"
      ]
     },
     "metadata": {},
     "output_type": "display_data"
    }
   ],
   "source": [
    "del eig_qb_cpw.setup.junctions['jj']\n",
    "eig_qb_cpw.setup.junctions.jj1 = Dict(rect='JJ_rect_Lj_Q1_rect_jj', line='JJ_Lj_Q1_rect_jj_',\n",
    "                Lj_variable='Lj1', Cj_variable='Cj1')\n",
    "eig_qb_cpw.setup.sweep_variable = 'Lj1'\n",
    "eig_qb_cpw.run_epr()\n",
    "\n",
    "chi = eig_qb_cpw.sim.renderer.epr_quantum_analysis.get_chis().to_numpy()[0][0]\n",
    "freq_EPR= eig_qb_cpw.sim.renderer.epr_quantum_analysis.get_frequencies().to_numpy()[0][0]"
   ]
  },
  {
   "cell_type": "code",
   "execution_count": 315,
   "metadata": {},
   "outputs": [
    {
     "data": {
      "text/plain": [
       "173.16298627369022"
      ]
     },
     "execution_count": 315,
     "metadata": {},
     "output_type": "execute_result"
    }
   ],
   "source": [
    "chi"
   ]
  },
  {
   "cell_type": "code",
   "execution_count": 499,
   "metadata": {},
   "outputs": [
    {
     "data": {
      "text/plain": [
       "3860.0235620350777"
      ]
     },
     "execution_count": 499,
     "metadata": {},
     "output_type": "execute_result"
    }
   ],
   "source": [
    "freq_EPR"
   ]
  },
  {
   "cell_type": "code",
   "execution_count": 500,
   "metadata": {},
   "outputs": [
    {
     "data": {
      "text/plain": [
       "array([[ 3860.02356204],\n",
       "       [ 9457.42525686],\n",
       "       [28133.03557817]])"
      ]
     },
     "execution_count": 500,
     "metadata": {},
     "output_type": "execute_result"
    }
   ],
   "source": [
    "eig_qb_cpw.sim.renderer.epr_quantum_analysis.get_frequencies().to_numpy()"
   ]
  },
  {
   "attachments": {},
   "cell_type": "markdown",
   "metadata": {},
   "source": [
    "# Two Qubit design"
   ]
  },
  {
   "cell_type": "code",
   "execution_count": 17,
   "metadata": {},
   "outputs": [],
   "source": [
    "design.delete_all_components()"
   ]
  },
  {
   "attachments": {},
   "cell_type": "markdown",
   "metadata": {},
   "source": [
    "## Draw"
   ]
  },
  {
   "attachments": {},
   "cell_type": "markdown",
   "metadata": {},
   "source": [
    "### Transmission Line"
   ]
  },
  {
   "cell_type": "code",
   "execution_count": 12,
   "metadata": {},
   "outputs": [],
   "source": [
    "\n",
    "TQ_options['down_length'] = '40 um'\n",
    "\n",
    "TQ1 = CoupledLineTee(design, 'TQ1', options=dict(pos_x='-0.23 mm',\n",
    "                                             pos_y='0.5 mm', \n",
    "                                             mirror = True,\n",
    "                                             coupling_length='120 um', **TQ_options))\n",
    "\n",
    "TQ2 = CoupledLineTee(design, 'TQ2', options=dict(pos_x='0.43 mm',\n",
    "                                             pos_y='0.5 mm',\n",
    "                                             mirror = True,\n",
    "                                             coupling_length='120 um', **TQ_options))\n",
    "\n",
    "trans_options['pin_inputs']['start_pin']['component'] = 'TQ1'\n",
    "trans_options['pin_inputs']['start_pin']['pin'] = 'prime_end'\n",
    "trans_options['pin_inputs']['end_pin']['component'] = 'TQ2'\n",
    "trans_options['pin_inputs']['end_pin']['pin'] = 'prime_start'\n",
    "middle = RouteStraight(design, 'CPW_mid', trans_options)\n",
    "\n",
    "wb_left = LaunchpadWirebond(design,'wb_left', options = Dict(pos_x = '-0.6mm',pos_y = '0.5mm'))\n",
    "wb_left = LaunchpadWirebond(design,'wb_right', options = Dict(pos_x = '15mm',pos_y = '0.5mm',orientation = '180'))\n",
    "\n",
    "trans_options['pin_inputs']['start_pin']['component'] = 'wb_left'\n",
    "trans_options['pin_inputs']['start_pin']['pin'] = 'tie'\n",
    "trans_options['pin_inputs']['end_pin']['component'] = 'TQ1'\n",
    "trans_options['pin_inputs']['end_pin']['pin'] = 'prime_start'\n",
    "\n",
    "left = RouteStraight(design,'CPW_left', trans_options)\n",
    "\n",
    "trans_options['pin_inputs']['start_pin']['component'] = 'wb_right'\n",
    "trans_options['pin_inputs']['start_pin']['pin'] = 'tie'\n",
    "trans_options['pin_inputs']['end_pin']['component'] = 'TQ2'\n",
    "trans_options['pin_inputs']['end_pin']['pin'] = 'prime_end'\n",
    "\n",
    "right = RouteStraight(design,'CPW_right', trans_options)\n",
    "\n",
    "\n",
    "gui.rebuild()\n",
    "gui.zoom_on_components(['TQ1','TQ2'])"
   ]
  },
  {
   "attachments": {},
   "cell_type": "markdown",
   "metadata": {},
   "source": [
    "### Qubit 1"
   ]
  },
  {
   "cell_type": "code",
   "execution_count": 13,
   "metadata": {},
   "outputs": [
    {
     "name": "stderr",
     "output_type": "stream",
     "text": [
      "02:21PM 17s INFO [delete_component]: Called delete_component cpw1, but such a component is not in the design cache dictionary of components.\n"
     ]
    }
   ],
   "source": [
    "size1 = 250*u.um\n",
    "size2 = 230*u.um\n",
    "gap = 30*u.um\n",
    "size1 = size1.to(u.um)\n",
    "pocket_width1 = size1+2*gap\n",
    "pocket_width2 = size2+2*gap\n",
    "\n",
    "\n",
    "q1 = TransmonPocket_Single(design,'Q1', \n",
    "                           options = Dict(pocket_width = '{}'.format(pocket_width1),\n",
    "                                          pad_width = '{}'.format(size1), \n",
    "                           pad_height = '{}'.format(size1),\n",
    "                           pos_x = '0', pox_y = '0', **qb_options))\n",
    "\n",
    "anchor = trans_p.anchor_CPW(q1, 150*u.um,0.05,2,last_offset = 0.4)\n",
    "# last = anchor[len(anchor)-1]\n",
    "# first = anchor[0]\n",
    "# anchor[len(anchor)-1] = np.array([first[0]-0.05,last[1]])\n",
    "\n",
    "design.delete_component('cpw1')\n",
    "pin_inputs['start_pin']['component'] = 'Q1'\n",
    "pin_inputs['start_pin']['pin'] = 'a'\n",
    "pin_inputs['end_pin']['component'] = 'TQ1'\n",
    "pin_inputs['end_pin']['pin'] = 'second_end'\n",
    "CPW_options['pin_inputs'] = pin_inputs\n",
    "op = Dict(anchors = anchor, **CPW_options)\n",
    "\n",
    "\n",
    "cpw1 = RouteMixed(design, 'cpw_1', op)\n",
    "\n",
    "gui.rebuild()\n",
    "gui.autoscale()\n",
    "\n",
    "gui.zoom_on_components(['Q1', 'cpw_1','TQ1'])"
   ]
  },
  {
   "attachments": {},
   "cell_type": "markdown",
   "metadata": {},
   "source": [
    "Calculate CPW1 length and analytical frequency"
   ]
  },
  {
   "cell_type": "code",
   "execution_count": 14,
   "metadata": {},
   "outputs": [
    {
     "name": "stdout",
     "output_type": "stream",
     "text": [
      "4.377362787842316 mm\n"
     ]
    },
    {
     "data": {
      "text/latex": [
       "$6.9631809 \\; \\mathrm{GHz}$"
      ],
      "text/plain": [
       "<Quantity 6.96318094 GHz>"
      ]
     },
     "execution_count": 14,
     "metadata": {},
     "output_type": "execute_result"
    }
   ],
   "source": [
    "len1 = trans_p.find_total_len(cpw1, q1,TQ1,count_extend=True)\n",
    "print(len1)\n",
    "trans_p.find_actual_frequency(len1, 10*u.um, 7*u.um)"
   ]
  },
  {
   "attachments": {},
   "cell_type": "markdown",
   "metadata": {},
   "source": [
    "### Qubit 2"
   ]
  },
  {
   "cell_type": "code",
   "execution_count": 15,
   "metadata": {},
   "outputs": [
    {
     "name": "stderr",
     "output_type": "stream",
     "text": [
      "02:21PM 25s INFO [delete_component]: Called delete_component cpw2, but such a component is not in the design cache dictionary of components.\n"
     ]
    }
   ],
   "source": [
    "q2 = TransmonPocket_Single(design,'Q2',\n",
    "                           options = Dict(pocket_width = '{}'.format(pocket_width2),\n",
    "                                          pad_width = '{}'.format(size2), \n",
    "                           pad_height = '{}'.format(size2),\n",
    "                           pos_x = '0.65', pox_y = '0', **qb_options))\n",
    "\n",
    "\n",
    "anchor = trans_p.anchor_CPW(q2, 150*u.um,0.05,2,last_offset = 0.4)\n",
    "# last = anchor[len(anchor)-1]\n",
    "# first = anchor[0]\n",
    "# anchor[len(anchor)-1] = np.array([first[0]-0.05,last[1]])\n",
    "\n",
    "design.delete_component('cpw2')\n",
    "pin_inputs['start_pin']['component'] = 'Q2'\n",
    "pin_inputs['end_pin']['component'] = 'TQ2'\n",
    "CPW_options['pin_inputs'] = pin_inputs\n",
    "op = Dict(anchors = anchor, **CPW_options)\n",
    "\n",
    "\n",
    "cpw2 = RouteMixed(design, 'cpw_2', op)\n",
    "\n",
    "gui.rebuild()\n",
    "gui.zoom_on_components(['Q2', 'cpw_2','TQ2'])"
   ]
  },
  {
   "attachments": {},
   "cell_type": "markdown",
   "metadata": {},
   "source": [
    "Calculate CPW1 length and analytical frequency"
   ]
  },
  {
   "cell_type": "code",
   "execution_count": 16,
   "metadata": {},
   "outputs": [
    {
     "name": "stdout",
     "output_type": "stream",
     "text": [
      "4.207362787842316 mm\n"
     ]
    },
    {
     "data": {
      "text/latex": [
       "$7.2445308 \\; \\mathrm{GHz}$"
      ],
      "text/plain": [
       "<Quantity 7.24453076 GHz>"
      ]
     },
     "execution_count": 16,
     "metadata": {},
     "output_type": "execute_result"
    }
   ],
   "source": [
    "len2 = trans_p.find_total_len(cpw2, q2,TQ1,count_extend=True)\n",
    "print(len2)\n",
    "trans_p.find_actual_frequency(len2, 10*u.um, 7*u.um)"
   ]
  },
  {
   "attachments": {},
   "cell_type": "markdown",
   "metadata": {},
   "source": [
    "## Simulate"
   ]
  },
  {
   "cell_type": "code",
   "execution_count": 21,
   "metadata": {},
   "outputs": [],
   "source": [
    "qcomps = design.components  # short handle (alias)\n",
    "qcomps['Q1'].options['hfss_inductance'] = 'Lj1'\n",
    "qcomps['Q1'].options['hfss_capacitance'] = 'Cj1'\n",
    "qcomps['Q2'].options['hfss_inductance'] = 'Lj2'\n",
    "qcomps['Q2'].options['hfss_capacitance'] = 'Cj2'\n",
    "\n",
    "\n",
    "\n",
    "q1.options.hfss_inductance = '13 nH'\n",
    "q2.options.hfss_inductance = '13 nH'\n",
    "gui.rebuild()  # line needed to propagate the updates from the qubit instance into the junction design table\n",
    "gui.autoscale()"
   ]
  },
  {
   "cell_type": "code",
   "execution_count": 22,
   "metadata": {},
   "outputs": [],
   "source": [
    "cs = LOManalysis(design, \"q3d\")\n",
    "cs.sim.setup.min_passes  = 10\n",
    "cs.sim.setup.max_passes = 30\n",
    "cs.sim.setup.freq_ghz = 4"
   ]
  },
  {
   "cell_type": "code",
   "execution_count": 22,
   "metadata": {},
   "outputs": [],
   "source": [
    "eig_qb = EPRanalysis(design, 'hfss')\n",
    "    \n",
    "eig_qb.sim.setup.max_passes = 15\n",
    "eig_qb.sim.setup.max_delta_f = 0.2\n",
    "eig_qb.sim.setup.n_modes = 2\n",
    "# eig_qb.sim.setup.vars = Dict(Lj1= '13 nH', Cj1= '0 fF')\n",
    "# eig_qb.sim.setup.vars = Dict(Lj2= '13 nH', Cj2= '0 fF')\n",
    "\n",
    "eig_qb.sim.renderer.options['x_buffer_width_mm'] = 0.5\n",
    "eig_qb.sim.renderer.options['y_buffer_width_mm'] = 0.5"
   ]
  },
  {
   "attachments": {},
   "cell_type": "markdown",
   "metadata": {},
   "source": [
    "### Q1 CPW1"
   ]
  },
  {
   "cell_type": "code",
   "execution_count": 64,
   "metadata": {},
   "outputs": [
    {
     "name": "stderr",
     "output_type": "stream",
     "text": [
      "INFO 09:31PM [connect_design]: \tOpened active design\n",
      "\tDesign:    Design_q3d [Solution type: Q3D]\n",
      "INFO 09:31PM [get_setup]: \tOpened setup `Setup`  (<class 'pyEPR.ansys.AnsysQ3DSetup'>)\n",
      "INFO 09:31PM [analyze]: Analyzing setup Setup\n",
      "INFO 09:34PM [get_matrix]: Exporting matrix data to (C:\\Users\\slab\\AppData\\Local\\Temp\\tmpfa4c939q.txt, C, , Setup:LastAdaptive, \"Original\", \"ohm\", \"nH\", \"fF\", \"mSie\", 4000000000, Maxwell, 1, False\n",
      "INFO 09:34PM [get_matrix]: Exporting matrix data to (C:\\Users\\slab\\AppData\\Local\\Temp\\tmpvsnyot1t.txt, C, , Setup:AdaptivePass, \"Original\", \"ohm\", \"nH\", \"fF\", \"mSie\", 4000000000, Maxwell, 1, False\n",
      "INFO 09:34PM [get_matrix]: Exporting matrix data to (C:\\Users\\slab\\AppData\\Local\\Temp\\tmpz30s0k91.txt, C, , Setup:AdaptivePass, \"Original\", \"ohm\", \"nH\", \"fF\", \"mSie\", 4000000000, Maxwell, 2, False\n",
      "INFO 09:34PM [get_matrix]: Exporting matrix data to (C:\\Users\\slab\\AppData\\Local\\Temp\\tmpok7nfc6a.txt, C, , Setup:AdaptivePass, \"Original\", \"ohm\", \"nH\", \"fF\", \"mSie\", 4000000000, Maxwell, 3, False\n",
      "INFO 09:34PM [get_matrix]: Exporting matrix data to (C:\\Users\\slab\\AppData\\Local\\Temp\\tmp4fwfupdr.txt, C, , Setup:AdaptivePass, \"Original\", \"ohm\", \"nH\", \"fF\", \"mSie\", 4000000000, Maxwell, 4, False\n",
      "INFO 09:34PM [get_matrix]: Exporting matrix data to (C:\\Users\\slab\\AppData\\Local\\Temp\\tmpcusbwh2y.txt, C, , Setup:AdaptivePass, \"Original\", \"ohm\", \"nH\", \"fF\", \"mSie\", 4000000000, Maxwell, 5, False\n",
      "INFO 09:34PM [get_matrix]: Exporting matrix data to (C:\\Users\\slab\\AppData\\Local\\Temp\\tmpbcdjfyc_.txt, C, , Setup:AdaptivePass, \"Original\", \"ohm\", \"nH\", \"fF\", \"mSie\", 4000000000, Maxwell, 6, False\n",
      "INFO 09:34PM [get_matrix]: Exporting matrix data to (C:\\Users\\slab\\AppData\\Local\\Temp\\tmp4stub55n.txt, C, , Setup:AdaptivePass, \"Original\", \"ohm\", \"nH\", \"fF\", \"mSie\", 4000000000, Maxwell, 7, False\n",
      "INFO 09:34PM [get_matrix]: Exporting matrix data to (C:\\Users\\slab\\AppData\\Local\\Temp\\tmpvx398p31.txt, C, , Setup:AdaptivePass, \"Original\", \"ohm\", \"nH\", \"fF\", \"mSie\", 4000000000, Maxwell, 8, False\n",
      "INFO 09:34PM [get_matrix]: Exporting matrix data to (C:\\Users\\slab\\AppData\\Local\\Temp\\tmp4fum7j8x.txt, C, , Setup:AdaptivePass, \"Original\", \"ohm\", \"nH\", \"fF\", \"mSie\", 4000000000, Maxwell, 9, False\n",
      "INFO 09:34PM [get_matrix]: Exporting matrix data to (C:\\Users\\slab\\AppData\\Local\\Temp\\tmpyik0wy01.txt, C, , Setup:AdaptivePass, \"Original\", \"ohm\", \"nH\", \"fF\", \"mSie\", 4000000000, Maxwell, 10, False\n",
      "INFO 09:34PM [get_matrix]: Exporting matrix data to (C:\\Users\\slab\\AppData\\Local\\Temp\\tmpujehcq6f.txt, C, , Setup:AdaptivePass, \"Original\", \"ohm\", \"nH\", \"fF\", \"mSie\", 4000000000, Maxwell, 11, False\n",
      "INFO 09:34PM [get_matrix]: Exporting matrix data to (C:\\Users\\slab\\AppData\\Local\\Temp\\tmprb09s6_0.txt, C, , Setup:AdaptivePass, \"Original\", \"ohm\", \"nH\", \"fF\", \"mSie\", 4000000000, Maxwell, 12, False\n",
      "INFO 09:34PM [get_matrix]: Exporting matrix data to (C:\\Users\\slab\\AppData\\Local\\Temp\\tmplgdm8nc3.txt, C, , Setup:AdaptivePass, \"Original\", \"ohm\", \"nH\", \"fF\", \"mSie\", 4000000000, Maxwell, 13, False\n",
      "INFO 09:34PM [get_matrix]: Exporting matrix data to (C:\\Users\\slab\\AppData\\Local\\Temp\\tmp347rear8.txt, C, , Setup:AdaptivePass, \"Original\", \"ohm\", \"nH\", \"fF\", \"mSie\", 4000000000, Maxwell, 14, False\n"
     ]
    }
   ],
   "source": [
    "TQ1.options['open_termination'] = True\n",
    "gui.rebuild()\n",
    "\n",
    "cs.sim.run(components=['Q1','cpw_1','TQ1'])"
   ]
  },
  {
   "cell_type": "code",
   "execution_count": 65,
   "metadata": {},
   "outputs": [
    {
     "data": {
      "text/html": [
       "<div>\n",
       "<style scoped>\n",
       "    .dataframe tbody tr th:only-of-type {\n",
       "        vertical-align: middle;\n",
       "    }\n",
       "\n",
       "    .dataframe tbody tr th {\n",
       "        vertical-align: top;\n",
       "    }\n",
       "\n",
       "    .dataframe thead th {\n",
       "        text-align: right;\n",
       "    }\n",
       "</style>\n",
       "<table border=\"1\" class=\"dataframe\">\n",
       "  <thead>\n",
       "    <tr style=\"text-align: right;\">\n",
       "      <th></th>\n",
       "      <th>a_connector_pad_Q1</th>\n",
       "      <th>g_wb</th>\n",
       "      <th>pad_top_Q1</th>\n",
       "    </tr>\n",
       "  </thead>\n",
       "  <tbody>\n",
       "    <tr>\n",
       "      <th>a_connector_pad_Q1</th>\n",
       "      <td>665.27129</td>\n",
       "      <td>-650.02031</td>\n",
       "      <td>-13.49760</td>\n",
       "    </tr>\n",
       "    <tr>\n",
       "      <th>g_wb</th>\n",
       "      <td>-650.02031</td>\n",
       "      <td>796.97349</td>\n",
       "      <td>-93.27465</td>\n",
       "    </tr>\n",
       "    <tr>\n",
       "      <th>pad_top_Q1</th>\n",
       "      <td>-13.49760</td>\n",
       "      <td>-93.27465</td>\n",
       "      <td>108.72911</td>\n",
       "    </tr>\n",
       "  </tbody>\n",
       "</table>\n",
       "</div>"
      ],
      "text/plain": [
       "                    a_connector_pad_Q1       g_wb  pad_top_Q1\n",
       "a_connector_pad_Q1           665.27129 -650.02031   -13.49760\n",
       "g_wb                        -650.02031  796.97349   -93.27465\n",
       "pad_top_Q1                   -13.49760  -93.27465   108.72911"
      ]
     },
     "execution_count": 65,
     "metadata": {},
     "output_type": "execute_result"
    }
   ],
   "source": [
    "cs.sim.capacitance_matrix"
   ]
  },
  {
   "cell_type": "code",
   "execution_count": 66,
   "metadata": {},
   "outputs": [],
   "source": [
    "TQ1.options['open_termination'] = False\n",
    "gui.rebuild()"
   ]
  },
  {
   "cell_type": "code",
   "execution_count": 67,
   "metadata": {},
   "outputs": [
    {
     "name": "stderr",
     "output_type": "stream",
     "text": [
      "INFO 09:34PM [connect_design]: \tOpened active design\n",
      "\tDesign:    Transmons_CPW_hfss [Solution type: Eigenmode]\n",
      "INFO 09:35PM [get_setup]: \tOpened setup `Setup`  (<class 'pyEPR.ansys.HfssEMSetup'>)\n",
      "INFO 09:35PM [analyze]: Analyzing setup Setup\n",
      "09:40PM 39s INFO [get_f_convergence]: Saved convergences to c:\\Users\\slab\\Desktop\\Wendy-qiskit-code\\hfss_eig_f_convergence.csv\n"
     ]
    }
   ],
   "source": [
    "eig_qb.sim.run(name=\"Transmons_CPW\", components=['Q1', 'cpw_1','TQ1'])"
   ]
  },
  {
   "cell_type": "code",
   "execution_count": 68,
   "metadata": {},
   "outputs": [
    {
     "name": "stdout",
     "output_type": "stream",
     "text": [
      "Design \"Transmons_CPW_hfss\" info:\n",
      "\t# eigenmodes    2\n",
      "\t# variations    1\n",
      "Design \"Transmons_CPW_hfss\" info:\n",
      "\t# eigenmodes    2\n",
      "\t# variations    1\n"
     ]
    }
   ],
   "source": [
    "fs = eig_qb.get_frequencies()"
   ]
  },
  {
   "cell_type": "code",
   "execution_count": 70,
   "metadata": {},
   "outputs": [
    {
     "data": {
      "text/html": [
       "<div>\n",
       "<style scoped>\n",
       "    .dataframe tbody tr th:only-of-type {\n",
       "        vertical-align: middle;\n",
       "    }\n",
       "\n",
       "    .dataframe tbody tr th {\n",
       "        vertical-align: top;\n",
       "    }\n",
       "\n",
       "    .dataframe thead th {\n",
       "        text-align: right;\n",
       "    }\n",
       "</style>\n",
       "<table border=\"1\" class=\"dataframe\">\n",
       "  <thead>\n",
       "    <tr style=\"text-align: right;\">\n",
       "      <th></th>\n",
       "      <th></th>\n",
       "      <th>Freq. (GHz)</th>\n",
       "      <th>Quality Factor</th>\n",
       "    </tr>\n",
       "    <tr>\n",
       "      <th>variation</th>\n",
       "      <th>mode</th>\n",
       "      <th></th>\n",
       "      <th></th>\n",
       "    </tr>\n",
       "  </thead>\n",
       "  <tbody>\n",
       "    <tr>\n",
       "      <th rowspan=\"2\" valign=\"top\">0</th>\n",
       "      <th>0</th>\n",
       "      <td>4.161082</td>\n",
       "      <td>inf</td>\n",
       "    </tr>\n",
       "    <tr>\n",
       "      <th>1</th>\n",
       "      <td>6.956481</td>\n",
       "      <td>inf</td>\n",
       "    </tr>\n",
       "  </tbody>\n",
       "</table>\n",
       "</div>"
      ],
      "text/plain": [
       "                Freq. (GHz)  Quality Factor\n",
       "variation mode                             \n",
       "0         0        4.161082             inf\n",
       "          1        6.956481             inf"
      ]
     },
     "execution_count": 70,
     "metadata": {},
     "output_type": "execute_result"
    }
   ],
   "source": [
    "fs"
   ]
  },
  {
   "cell_type": "code",
   "execution_count": 74,
   "metadata": {},
   "outputs": [],
   "source": [
    "eig_qb.sim.renderer.options['Lj1'] = '13nH'\n",
    "eig_qb.sim.renderer.options['Cj1'] = '0'"
   ]
  },
  {
   "cell_type": "code",
   "execution_count": 76,
   "metadata": {},
   "outputs": [
    {
     "ename": "KeyError",
     "evalue": "'jj'",
     "output_type": "error",
     "traceback": [
      "\u001b[1;31m---------------------------------------------------------------------------\u001b[0m",
      "\u001b[1;31mKeyError\u001b[0m                                  Traceback (most recent call last)",
      "\u001b[1;32mc:\\Users\\slab\\Desktop\\Wendy-qiskit-code\\Single_pocket_simulation.ipynb Cell 114\u001b[0m in \u001b[0;36m1\n\u001b[1;32m----> <a href='vscode-notebook-cell:/c%3A/Users/slab/Desktop/Wendy-qiskit-code/Single_pocket_simulation.ipynb#Y353sZmlsZQ%3D%3D?line=0'>1</a>\u001b[0m \u001b[39mdel\u001b[39;00m eig_qb\u001b[39m.\u001b[39msetup\u001b[39m.\u001b[39mjunctions[\u001b[39m'\u001b[39m\u001b[39mjj\u001b[39m\u001b[39m'\u001b[39m]\n",
      "\u001b[1;31mKeyError\u001b[0m: 'jj'"
     ]
    }
   ],
   "source": [
    "del eig_qb.setup.junctions['jj']"
   ]
  },
  {
   "cell_type": "code",
   "execution_count": 77,
   "metadata": {},
   "outputs": [],
   "source": [
    "qcomps = design.components  # short handle (alias)\n",
    "qcomps['Q1'].options['hfss_inductance'] = 'Lj1'\n",
    "qcomps['Q1'].options['hfss_capacitance'] = 'Cj1'\n",
    "gui.rebuild()  # line needed to propagate the updates from the qubit instance into the junction design table\n",
    "gui.autoscale()"
   ]
  },
  {
   "cell_type": "code",
   "execution_count": 78,
   "metadata": {},
   "outputs": [
    {
     "name": "stdout",
     "output_type": "stream",
     "text": [
      "Design \"Transmons_CPW_hfss\" info:\n",
      "\t# eigenmodes    2\n",
      "\t# variations    1\n",
      "Design \"Transmons_CPW_hfss\" info:\n",
      "\t# eigenmodes    2\n",
      "\t# variations    1\n"
     ]
    },
    {
     "name": "stderr",
     "output_type": "stream",
     "text": [
      "WARNING:py.warnings:c:\\Users\\slab\\anaconda3\\envs\\qmetal\\lib\\site-packages\\pyEPR\\project_info.py:239: FutureWarning: The default dtype for empty Series will be 'object' instead of 'float64' in a future version. Specify a dtype explicitly to silence this warning.\n",
      "  options=pd.Series(get_instance_vars(self.options)),\n",
      "\n"
     ]
    },
    {
     "name": "stdout",
     "output_type": "stream",
     "text": [
      "\n",
      "        energy_elec_all       = 1.35473482138455e-24\n",
      "        energy_elec_substrate = 1.23156659202961e-24\n",
      "        EPR of substrate = 90.9%\n",
      "\n",
      "        energy_mag    = 1.35031174925656e-24\n",
      "        energy_mag % of energy_elec_all  = 99.7%\n",
      "        \n",
      "\n",
      "Variation 0  [1/1]\n"
     ]
    },
    {
     "name": "stderr",
     "output_type": "stream",
     "text": [
      "WARNING:py.warnings:c:\\Users\\slab\\anaconda3\\envs\\qmetal\\lib\\site-packages\\pyEPR\\core_distributed_analysis.py:1101: FutureWarning: The default dtype for empty Series will be 'object' instead of 'float64' in a future version. Specify a dtype explicitly to silence this warning.\n",
      "  Ljs = pd.Series({})\n",
      "\n",
      "WARNING:py.warnings:c:\\Users\\slab\\anaconda3\\envs\\qmetal\\lib\\site-packages\\pyEPR\\core_distributed_analysis.py:1102: FutureWarning: The default dtype for empty Series will be 'object' instead of 'float64' in a future version. Specify a dtype explicitly to silence this warning.\n",
      "  Cjs = pd.Series({})\n",
      "\n",
      "WARNING:py.warnings:c:\\Users\\slab\\anaconda3\\envs\\qmetal\\lib\\site-packages\\pyEPR\\core_distributed_analysis.py:1245: FutureWarning: The default dtype for empty Series will be 'object' instead of 'float64' in a future version. Specify a dtype explicitly to silence this warning.\n",
      "  _Om = pd.Series({})\n",
      "\n"
     ]
    },
    {
     "name": "stdout",
     "output_type": "stream",
     "text": [
      "\n",
      "  \u001b[1mMode 0 at 4.16 GHz   [1/2]\u001b[0m\n",
      "    Calculating ℰ_magnetic,ℰ_electric\n"
     ]
    },
    {
     "name": "stderr",
     "output_type": "stream",
     "text": [
      "WARNING:py.warnings:c:\\Users\\slab\\anaconda3\\envs\\qmetal\\lib\\site-packages\\pyEPR\\core_distributed_analysis.py:981: FutureWarning: The default dtype for empty Series will be 'object' instead of 'float64' in a future version. Specify a dtype explicitly to silence this warning.\n",
      "  Sj = pd.Series({})\n",
      "\n"
     ]
    },
    {
     "name": "stdout",
     "output_type": "stream",
     "text": [
      "       (ℰ_E-ℰ_H)/ℰ_E       ℰ_E       ℰ_H\n",
      "               99.0%  1.991e-25 1.895e-27\n",
      "\n",
      "    Calculating junction energy participation ration (EPR)\n",
      "\tmethod=`line_voltage`. First estimates:\n",
      "\tjunction        EPR p_0j   sign s_0j    (p_capacitive)\n"
     ]
    },
    {
     "name": "stderr",
     "output_type": "stream",
     "text": [
      "WARNING:py.warnings:c:\\Users\\slab\\anaconda3\\envs\\qmetal\\lib\\site-packages\\pyEPR\\core_distributed_analysis.py:933: FutureWarning: The default dtype for empty Series will be 'object' instead of 'float64' in a future version. Specify a dtype explicitly to silence this warning.\n",
      "  Qp = pd.Series({})\n",
      "\n"
     ]
    },
    {
     "name": "stdout",
     "output_type": "stream",
     "text": [
      "\t\tEnergy fraction (Lj over Lj&Cj)= 98.25%\n",
      "\tjj1             0.990164  (+)        0.0175976\n",
      "\t\t(U_tot_cap-U_tot_ind)/mean=0.89%\n",
      "Calculating Qdielectric_main for mode 0 (0/1)\n"
     ]
    },
    {
     "name": "stderr",
     "output_type": "stream",
     "text": [
      "WARNING:py.warnings:c:\\Users\\slab\\anaconda3\\envs\\qmetal\\lib\\site-packages\\pyEPR\\core_distributed_analysis.py:1307: FutureWarning: The series.append method is deprecated and will be removed from pandas in a future version. Use pandas.concat instead.\n",
      "  sol = sol.append(self.get_Qdielectric(\n",
      "\n",
      "WARNING:py.warnings:c:\\Users\\slab\\anaconda3\\envs\\qmetal\\lib\\site-packages\\pyEPR\\core_distributed_analysis.py:1245: FutureWarning: The default dtype for empty Series will be 'object' instead of 'float64' in a future version. Specify a dtype explicitly to silence this warning.\n",
      "  _Om = pd.Series({})\n",
      "\n"
     ]
    },
    {
     "name": "stdout",
     "output_type": "stream",
     "text": [
      "p_dielectric_main_0 = 0.9165344172436739\n",
      "\n",
      "  \u001b[1mMode 1 at 6.96 GHz   [2/2]\u001b[0m\n",
      "    Calculating ℰ_magnetic,ℰ_electric\n"
     ]
    },
    {
     "name": "stderr",
     "output_type": "stream",
     "text": [
      "WARNING:py.warnings:c:\\Users\\slab\\anaconda3\\envs\\qmetal\\lib\\site-packages\\pyEPR\\core_distributed_analysis.py:981: FutureWarning: The default dtype for empty Series will be 'object' instead of 'float64' in a future version. Specify a dtype explicitly to silence this warning.\n",
      "  Sj = pd.Series({})\n",
      "\n"
     ]
    },
    {
     "name": "stdout",
     "output_type": "stream",
     "text": [
      "       (ℰ_E-ℰ_H)/ℰ_E       ℰ_E       ℰ_H\n",
      "                0.3%  6.774e-25 6.752e-25\n",
      "\n",
      "    Calculating junction energy participation ration (EPR)\n",
      "\tmethod=`line_voltage`. First estimates:\n",
      "\tjunction        EPR p_1j   sign s_1j    (p_capacitive)\n"
     ]
    },
    {
     "name": "stderr",
     "output_type": "stream",
     "text": [
      "WARNING:py.warnings:c:\\Users\\slab\\anaconda3\\envs\\qmetal\\lib\\site-packages\\pyEPR\\core_distributed_analysis.py:933: FutureWarning: The default dtype for empty Series will be 'object' instead of 'float64' in a future version. Specify a dtype explicitly to silence this warning.\n",
      "  Qp = pd.Series({})\n",
      "\n"
     ]
    },
    {
     "name": "stdout",
     "output_type": "stream",
     "text": [
      "\t\tEnergy fraction (Lj over Lj&Cj)= 95.27%\n",
      "\tjj1             0.00326511  (+)        0.000162185\n",
      "\t\t(U_tot_cap-U_tot_ind)/mean=0.01%\n",
      "Calculating Qdielectric_main for mode 1 (1/1)\n"
     ]
    },
    {
     "name": "stderr",
     "output_type": "stream",
     "text": [
      "WARNING:py.warnings:c:\\Users\\slab\\anaconda3\\envs\\qmetal\\lib\\site-packages\\pyEPR\\core_distributed_analysis.py:1307: FutureWarning: The series.append method is deprecated and will be removed from pandas in a future version. Use pandas.concat instead.\n",
      "  sol = sol.append(self.get_Qdielectric(\n",
      "\n"
     ]
    },
    {
     "name": "stdout",
     "output_type": "stream",
     "text": [
      "p_dielectric_main_1 = 0.9090831449736702\n"
     ]
    },
    {
     "name": "stderr",
     "output_type": "stream",
     "text": [
      "WARNING:py.warnings:c:\\Users\\slab\\anaconda3\\envs\\qmetal\\lib\\site-packages\\pyEPR\\project_info.py:239: FutureWarning: The default dtype for empty Series will be 'object' instead of 'float64' in a future version. Specify a dtype explicitly to silence this warning.\n",
      "  options=pd.Series(get_instance_vars(self.options)),\n",
      "\n",
      "WARNING 10:11PM [__init__]: <p>Error: <class 'IndexError'></p>\n",
      "WARNING:py.warnings:c:\\Users\\slab\\anaconda3\\envs\\qmetal\\lib\\site-packages\\pyEPR\\core_quantum_analysis.py:712: FutureWarning: Support for multi-dimensional indexing (e.g. `obj[:, None]`) is deprecated and will be removed in a future version.  Convert to a numpy array before indexing instead.\n",
      "  result['Q_coupling'] = self.Qm_coupling[variation][self.Qm_coupling[variation].columns[junctions]][modes]#TODO change the columns to junctions\n",
      "\n",
      "WARNING:py.warnings:c:\\Users\\slab\\anaconda3\\envs\\qmetal\\lib\\site-packages\\pyEPR\\core_quantum_analysis.py:717: FutureWarning: Support for multi-dimensional indexing (e.g. `obj[:, None]`) is deprecated and will be removed in a future version.  Convert to a numpy array before indexing instead.\n",
      "  result['Qs'] = self.Qs[variation][self.PM[variation].columns[junctions]][modes] #TODO change the columns to junctions\n",
      "\n"
     ]
    },
    {
     "name": "stdout",
     "output_type": "stream",
     "text": [
      "\n",
      "ANALYSIS DONE. Data saved to:\n",
      "\n",
      "C:\\data-pyEPR\\Project29\\Transmons_CPW_hfss\\2023-03-02 22-11-34.npz\n",
      "\n",
      "\n",
      "\t Differences in variations:\n",
      "\n",
      "\n",
      "\n",
      " . . . . . . . . . . . . . . . . . . . . . . . . . . . . . . . . . . . . . . . . \n",
      "Variation 0\n",
      "\n",
      "Starting the diagonalization\n",
      "Finished the diagonalization\n",
      "Pm_norm=\n",
      "modes\n",
      "0    1.018009\n",
      "1    1.024887\n",
      "dtype: float64\n",
      "\n",
      "Pm_norm idx =\n",
      "     jj1\n",
      "0   True\n",
      "1  False\n",
      "*** P (participation matrix, not normlz.)\n",
      "        jj1\n",
      "0  0.973041\n",
      "1  0.003265\n",
      "\n",
      "*** S (sign-bit matrix)\n",
      "   s_jj1\n",
      "0      1\n",
      "1     -1\n",
      "*** P (participation matrix, normalized.)\n",
      "      0.99\n",
      "    0.0033\n",
      "\n",
      "*** Chi matrix O1 PT (MHz)\n",
      "    Diag is anharmonicity, off diag is full cross-Kerr.\n",
      "       169     1.86\n",
      "      1.86  0.00513\n",
      "\n",
      "*** Chi matrix ND (MHz) \n",
      "       185     1.72\n",
      "      1.72  0.00427\n",
      "\n",
      "*** Frequencies O1 PT (MHz)\n",
      "0    3991.256879\n",
      "1    6955.545502\n",
      "dtype: float64\n",
      "\n",
      "*** Frequencies ND (MHz)\n",
      "0    3983.557710\n",
      "1    6955.558496\n",
      "dtype: float64\n",
      "\n",
      "*** Q_coupling\n",
      "Empty DataFrame\n",
      "Columns: []\n",
      "Index: [0, 1]\n"
     ]
    },
    {
     "data": {
      "text/markdown": [
       "#### Mode frequencies (MHz)"
      ],
      "text/plain": [
       "<IPython.core.display.Markdown object>"
      ]
     },
     "metadata": {},
     "output_type": "display_data"
    },
    {
     "data": {
      "text/markdown": [
       "###### Numerical diagonalization"
      ],
      "text/plain": [
       "<IPython.core.display.Markdown object>"
      ]
     },
     "metadata": {},
     "output_type": "display_data"
    },
    {
     "data": {
      "text/html": [
       "<div>\n",
       "<style scoped>\n",
       "    .dataframe tbody tr th:only-of-type {\n",
       "        vertical-align: middle;\n",
       "    }\n",
       "\n",
       "    .dataframe tbody tr th {\n",
       "        vertical-align: top;\n",
       "    }\n",
       "\n",
       "    .dataframe thead th {\n",
       "        text-align: right;\n",
       "    }\n",
       "</style>\n",
       "<table border=\"1\" class=\"dataframe\">\n",
       "  <thead>\n",
       "    <tr style=\"text-align: right;\">\n",
       "      <th>Lj1</th>\n",
       "      <th>13</th>\n",
       "    </tr>\n",
       "  </thead>\n",
       "  <tbody>\n",
       "    <tr>\n",
       "      <th>0</th>\n",
       "      <td>3983.56</td>\n",
       "    </tr>\n",
       "    <tr>\n",
       "      <th>1</th>\n",
       "      <td>6955.56</td>\n",
       "    </tr>\n",
       "  </tbody>\n",
       "</table>\n",
       "</div>"
      ],
      "text/plain": [
       "Lj1       13\n",
       "0    3983.56\n",
       "1    6955.56"
      ]
     },
     "metadata": {},
     "output_type": "display_data"
    },
    {
     "data": {
      "text/markdown": [
       "#### Kerr Non-linear coefficient table (MHz)"
      ],
      "text/plain": [
       "<IPython.core.display.Markdown object>"
      ]
     },
     "metadata": {},
     "output_type": "display_data"
    },
    {
     "data": {
      "text/markdown": [
       "###### Numerical diagonalization"
      ],
      "text/plain": [
       "<IPython.core.display.Markdown object>"
      ]
     },
     "metadata": {},
     "output_type": "display_data"
    },
    {
     "data": {
      "text/html": [
       "<div>\n",
       "<style scoped>\n",
       "    .dataframe tbody tr th:only-of-type {\n",
       "        vertical-align: middle;\n",
       "    }\n",
       "\n",
       "    .dataframe tbody tr th {\n",
       "        vertical-align: top;\n",
       "    }\n",
       "\n",
       "    .dataframe thead th {\n",
       "        text-align: right;\n",
       "    }\n",
       "</style>\n",
       "<table border=\"1\" class=\"dataframe\">\n",
       "  <thead>\n",
       "    <tr style=\"text-align: right;\">\n",
       "      <th></th>\n",
       "      <th></th>\n",
       "      <th>0</th>\n",
       "      <th>1</th>\n",
       "    </tr>\n",
       "    <tr>\n",
       "      <th>Lj1</th>\n",
       "      <th></th>\n",
       "      <th></th>\n",
       "      <th></th>\n",
       "    </tr>\n",
       "  </thead>\n",
       "  <tbody>\n",
       "    <tr>\n",
       "      <th rowspan=\"2\" valign=\"top\">13</th>\n",
       "      <th>0</th>\n",
       "      <td>185.47</td>\n",
       "      <td>1.72e+00</td>\n",
       "    </tr>\n",
       "    <tr>\n",
       "      <th>1</th>\n",
       "      <td>1.72</td>\n",
       "      <td>4.27e-03</td>\n",
       "    </tr>\n",
       "  </tbody>\n",
       "</table>\n",
       "</div>"
      ],
      "text/plain": [
       "            0         1\n",
       "Lj1                    \n",
       "13  0  185.47  1.72e+00\n",
       "    1    1.72  4.27e-03"
      ]
     },
     "metadata": {},
     "output_type": "display_data"
    }
   ],
   "source": [
    "eig_qb.sim.setup.vars = Dict(Lj1= '13 nH', Cj1= '0 fF')\n",
    "\n",
    "eig_qb.setup.junctions.jj1 = Dict(rect='JJ_rect_Lj_Q1_rect_jj', line='JJ_Lj_Q1_rect_jj_',\n",
    "                Lj_variable='Lj1', Cj_variable='Cj1')\n",
    "eig_qb.setup.sweep_variable = 'Lj1'\n",
    "eig_qb.run_epr()"
   ]
  },
  {
   "attachments": {},
   "cell_type": "markdown",
   "metadata": {},
   "source": [
    "### QB2 CPW2"
   ]
  },
  {
   "cell_type": "code",
   "execution_count": 92,
   "metadata": {},
   "outputs": [
    {
     "name": "stderr",
     "output_type": "stream",
     "text": [
      "INFO 10:36PM [connect_design]: \tOpened active design\n",
      "\tDesign:    Design_q3d [Solution type: Q3D]\n",
      "INFO 10:36PM [get_setup]: \tOpened setup `Setup`  (<class 'pyEPR.ansys.AnsysQ3DSetup'>)\n",
      "INFO 10:36PM [analyze]: Analyzing setup Setup\n",
      "INFO 10:39PM [get_matrix]: Exporting matrix data to (C:\\Users\\slab\\AppData\\Local\\Temp\\tmpyn2xhb8g.txt, C, , Setup:LastAdaptive, \"Original\", \"ohm\", \"nH\", \"fF\", \"mSie\", 4000000000, Maxwell, 1, False\n",
      "INFO 10:39PM [get_matrix]: Exporting matrix data to (C:\\Users\\slab\\AppData\\Local\\Temp\\tmp6raycjs4.txt, C, , Setup:AdaptivePass, \"Original\", \"ohm\", \"nH\", \"fF\", \"mSie\", 4000000000, Maxwell, 1, False\n",
      "INFO 10:39PM [get_matrix]: Exporting matrix data to (C:\\Users\\slab\\AppData\\Local\\Temp\\tmp7dsxqo3d.txt, C, , Setup:AdaptivePass, \"Original\", \"ohm\", \"nH\", \"fF\", \"mSie\", 4000000000, Maxwell, 2, False\n",
      "INFO 10:39PM [get_matrix]: Exporting matrix data to (C:\\Users\\slab\\AppData\\Local\\Temp\\tmp499g9iuz.txt, C, , Setup:AdaptivePass, \"Original\", \"ohm\", \"nH\", \"fF\", \"mSie\", 4000000000, Maxwell, 3, False\n",
      "INFO 10:39PM [get_matrix]: Exporting matrix data to (C:\\Users\\slab\\AppData\\Local\\Temp\\tmpbmmug6yf.txt, C, , Setup:AdaptivePass, \"Original\", \"ohm\", \"nH\", \"fF\", \"mSie\", 4000000000, Maxwell, 4, False\n",
      "INFO 10:39PM [get_matrix]: Exporting matrix data to (C:\\Users\\slab\\AppData\\Local\\Temp\\tmp4vcgvm0w.txt, C, , Setup:AdaptivePass, \"Original\", \"ohm\", \"nH\", \"fF\", \"mSie\", 4000000000, Maxwell, 5, False\n",
      "INFO 10:39PM [get_matrix]: Exporting matrix data to (C:\\Users\\slab\\AppData\\Local\\Temp\\tmp8icgud3j.txt, C, , Setup:AdaptivePass, \"Original\", \"ohm\", \"nH\", \"fF\", \"mSie\", 4000000000, Maxwell, 6, False\n",
      "INFO 10:39PM [get_matrix]: Exporting matrix data to (C:\\Users\\slab\\AppData\\Local\\Temp\\tmp5_aa7sg6.txt, C, , Setup:AdaptivePass, \"Original\", \"ohm\", \"nH\", \"fF\", \"mSie\", 4000000000, Maxwell, 7, False\n",
      "INFO 10:39PM [get_matrix]: Exporting matrix data to (C:\\Users\\slab\\AppData\\Local\\Temp\\tmpm2rcjxzo.txt, C, , Setup:AdaptivePass, \"Original\", \"ohm\", \"nH\", \"fF\", \"mSie\", 4000000000, Maxwell, 8, False\n",
      "INFO 10:39PM [get_matrix]: Exporting matrix data to (C:\\Users\\slab\\AppData\\Local\\Temp\\tmpl313gj2y.txt, C, , Setup:AdaptivePass, \"Original\", \"ohm\", \"nH\", \"fF\", \"mSie\", 4000000000, Maxwell, 9, False\n",
      "INFO 10:39PM [get_matrix]: Exporting matrix data to (C:\\Users\\slab\\AppData\\Local\\Temp\\tmpvqgcp_37.txt, C, , Setup:AdaptivePass, \"Original\", \"ohm\", \"nH\", \"fF\", \"mSie\", 4000000000, Maxwell, 10, False\n",
      "INFO 10:39PM [get_matrix]: Exporting matrix data to (C:\\Users\\slab\\AppData\\Local\\Temp\\tmp5_4_fmac.txt, C, , Setup:AdaptivePass, \"Original\", \"ohm\", \"nH\", \"fF\", \"mSie\", 4000000000, Maxwell, 11, False\n",
      "INFO 10:39PM [get_matrix]: Exporting matrix data to (C:\\Users\\slab\\AppData\\Local\\Temp\\tmpj7ol4piz.txt, C, , Setup:AdaptivePass, \"Original\", \"ohm\", \"nH\", \"fF\", \"mSie\", 4000000000, Maxwell, 12, False\n",
      "INFO 10:39PM [get_matrix]: Exporting matrix data to (C:\\Users\\slab\\AppData\\Local\\Temp\\tmpgs567v9o.txt, C, , Setup:AdaptivePass, \"Original\", \"ohm\", \"nH\", \"fF\", \"mSie\", 4000000000, Maxwell, 13, False\n",
      "INFO 10:39PM [get_matrix]: Exporting matrix data to (C:\\Users\\slab\\AppData\\Local\\Temp\\tmp6g24a5g6.txt, C, , Setup:AdaptivePass, \"Original\", \"ohm\", \"nH\", \"fF\", \"mSie\", 4000000000, Maxwell, 14, False\n"
     ]
    }
   ],
   "source": [
    "TQ2.options['open_termination'] = True\n",
    "gui.rebuild()\n",
    "\n",
    "cs.sim.run(components=['Q2','cpw_2','TQ2'])"
   ]
  },
  {
   "cell_type": "code",
   "execution_count": 93,
   "metadata": {},
   "outputs": [
    {
     "data": {
      "text/html": [
       "<div>\n",
       "<style scoped>\n",
       "    .dataframe tbody tr th:only-of-type {\n",
       "        vertical-align: middle;\n",
       "    }\n",
       "\n",
       "    .dataframe tbody tr th {\n",
       "        vertical-align: top;\n",
       "    }\n",
       "\n",
       "    .dataframe thead th {\n",
       "        text-align: right;\n",
       "    }\n",
       "</style>\n",
       "<table border=\"1\" class=\"dataframe\">\n",
       "  <thead>\n",
       "    <tr style=\"text-align: right;\">\n",
       "      <th></th>\n",
       "      <th>a_connector_pad_Q2</th>\n",
       "      <th>g_wb</th>\n",
       "      <th>pad_top_Q2</th>\n",
       "    </tr>\n",
       "  </thead>\n",
       "  <tbody>\n",
       "    <tr>\n",
       "      <th>a_connector_pad_Q2</th>\n",
       "      <td>637.35428</td>\n",
       "      <td>-622.92575</td>\n",
       "      <td>-12.77218</td>\n",
       "    </tr>\n",
       "    <tr>\n",
       "      <th>g_wb</th>\n",
       "      <td>-622.92575</td>\n",
       "      <td>759.97001</td>\n",
       "      <td>-84.02489</td>\n",
       "    </tr>\n",
       "    <tr>\n",
       "      <th>pad_top_Q2</th>\n",
       "      <td>-12.77218</td>\n",
       "      <td>-84.02489</td>\n",
       "      <td>98.52208</td>\n",
       "    </tr>\n",
       "  </tbody>\n",
       "</table>\n",
       "</div>"
      ],
      "text/plain": [
       "                    a_connector_pad_Q2       g_wb  pad_top_Q2\n",
       "a_connector_pad_Q2           637.35428 -622.92575   -12.77218\n",
       "g_wb                        -622.92575  759.97001   -84.02489\n",
       "pad_top_Q2                   -12.77218  -84.02489    98.52208"
      ]
     },
     "execution_count": 93,
     "metadata": {},
     "output_type": "execute_result"
    }
   ],
   "source": [
    "c_mat  = cs.sim.capacitance_matrix\n",
    "c_mat"
   ]
  },
  {
   "cell_type": "code",
   "execution_count": null,
   "metadata": {},
   "outputs": [],
   "source": []
  },
  {
   "cell_type": "code",
   "execution_count": 145,
   "metadata": {},
   "outputs": [
    {
     "name": "stderr",
     "output_type": "stream",
     "text": [
      "INFO 11:25PM [connect_design]: \tOpened active design\n",
      "\tDesign:    Design_q3d [Solution type: Q3D]\n",
      "INFO 11:25PM [get_setup]: \tOpened setup `Setup`  (<class 'pyEPR.ansys.AnsysQ3DSetup'>)\n",
      "INFO 11:25PM [analyze]: Analyzing setup Setup\n",
      "INFO 11:26PM [get_matrix]: Exporting matrix data to (C:\\Users\\slab\\AppData\\Local\\Temp\\tmpzl9cgd0h.txt, C, , Setup:LastAdaptive, \"Original\", \"ohm\", \"nH\", \"fF\", \"mSie\", 4000000000, Maxwell, 1, False\n",
      "INFO 11:26PM [get_matrix]: Exporting matrix data to (C:\\Users\\slab\\AppData\\Local\\Temp\\tmprqcxowl_.txt, C, , Setup:AdaptivePass, \"Original\", \"ohm\", \"nH\", \"fF\", \"mSie\", 4000000000, Maxwell, 1, False\n",
      "INFO 11:26PM [get_matrix]: Exporting matrix data to (C:\\Users\\slab\\AppData\\Local\\Temp\\tmp9g0810ga.txt, C, , Setup:AdaptivePass, \"Original\", \"ohm\", \"nH\", \"fF\", \"mSie\", 4000000000, Maxwell, 2, False\n",
      "INFO 11:26PM [get_matrix]: Exporting matrix data to (C:\\Users\\slab\\AppData\\Local\\Temp\\tmp9tz1s2sv.txt, C, , Setup:AdaptivePass, \"Original\", \"ohm\", \"nH\", \"fF\", \"mSie\", 4000000000, Maxwell, 3, False\n",
      "INFO 11:26PM [get_matrix]: Exporting matrix data to (C:\\Users\\slab\\AppData\\Local\\Temp\\tmpofdqb75j.txt, C, , Setup:AdaptivePass, \"Original\", \"ohm\", \"nH\", \"fF\", \"mSie\", 4000000000, Maxwell, 4, False\n",
      "INFO 11:26PM [get_matrix]: Exporting matrix data to (C:\\Users\\slab\\AppData\\Local\\Temp\\tmplmlc2f9v.txt, C, , Setup:AdaptivePass, \"Original\", \"ohm\", \"nH\", \"fF\", \"mSie\", 4000000000, Maxwell, 5, False\n",
      "INFO 11:26PM [get_matrix]: Exporting matrix data to (C:\\Users\\slab\\AppData\\Local\\Temp\\tmpuqy9zclb.txt, C, , Setup:AdaptivePass, \"Original\", \"ohm\", \"nH\", \"fF\", \"mSie\", 4000000000, Maxwell, 6, False\n",
      "INFO 11:26PM [get_matrix]: Exporting matrix data to (C:\\Users\\slab\\AppData\\Local\\Temp\\tmpkw0lpdyi.txt, C, , Setup:AdaptivePass, \"Original\", \"ohm\", \"nH\", \"fF\", \"mSie\", 4000000000, Maxwell, 7, False\n",
      "INFO 11:26PM [get_matrix]: Exporting matrix data to (C:\\Users\\slab\\AppData\\Local\\Temp\\tmp41jw6dt9.txt, C, , Setup:AdaptivePass, \"Original\", \"ohm\", \"nH\", \"fF\", \"mSie\", 4000000000, Maxwell, 8, False\n",
      "INFO 11:26PM [get_matrix]: Exporting matrix data to (C:\\Users\\slab\\AppData\\Local\\Temp\\tmpslxn7wpt.txt, C, , Setup:AdaptivePass, \"Original\", \"ohm\", \"nH\", \"fF\", \"mSie\", 4000000000, Maxwell, 9, False\n",
      "INFO 11:26PM [get_matrix]: Exporting matrix data to (C:\\Users\\slab\\AppData\\Local\\Temp\\tmpcln2fgsc.txt, C, , Setup:AdaptivePass, \"Original\", \"ohm\", \"nH\", \"fF\", \"mSie\", 4000000000, Maxwell, 10, False\n",
      "INFO 11:26PM [get_matrix]: Exporting matrix data to (C:\\Users\\slab\\AppData\\Local\\Temp\\tmpf67bx5i2.txt, C, , Setup:AdaptivePass, \"Original\", \"ohm\", \"nH\", \"fF\", \"mSie\", 4000000000, Maxwell, 11, False\n"
     ]
    }
   ],
   "source": [
    "TQ2.options['open_termination'] = False\n",
    "gui.rebuild()\n",
    "cs.sim.run(components=['Q2','cpw_2','TQ2'])"
   ]
  },
  {
   "cell_type": "code",
   "execution_count": 146,
   "metadata": {},
   "outputs": [
    {
     "data": {
      "text/html": [
       "<div>\n",
       "<style scoped>\n",
       "    .dataframe tbody tr th:only-of-type {\n",
       "        vertical-align: middle;\n",
       "    }\n",
       "\n",
       "    .dataframe tbody tr th {\n",
       "        vertical-align: top;\n",
       "    }\n",
       "\n",
       "    .dataframe thead th {\n",
       "        text-align: right;\n",
       "    }\n",
       "</style>\n",
       "<table border=\"1\" class=\"dataframe\">\n",
       "  <thead>\n",
       "    <tr style=\"text-align: right;\">\n",
       "      <th></th>\n",
       "      <th>a_connector_pad_Q2</th>\n",
       "      <th>pad_top_Q2</th>\n",
       "    </tr>\n",
       "  </thead>\n",
       "  <tbody>\n",
       "    <tr>\n",
       "      <th>a_connector_pad_Q2</th>\n",
       "      <td>150.67501</td>\n",
       "      <td>-96.42959</td>\n",
       "    </tr>\n",
       "    <tr>\n",
       "      <th>pad_top_Q2</th>\n",
       "      <td>-96.42959</td>\n",
       "      <td>98.20829</td>\n",
       "    </tr>\n",
       "  </tbody>\n",
       "</table>\n",
       "</div>"
      ],
      "text/plain": [
       "                    a_connector_pad_Q2  pad_top_Q2\n",
       "a_connector_pad_Q2           150.67501   -96.42959\n",
       "pad_top_Q2                   -96.42959    98.20829"
      ]
     },
     "execution_count": 146,
     "metadata": {},
     "output_type": "execute_result"
    }
   ],
   "source": [
    "c_mat  = cs.sim.capacitance_matrix\n",
    "c_mat"
   ]
  },
  {
   "cell_type": "code",
   "execution_count": 147,
   "metadata": {},
   "outputs": [
    {
     "data": {
      "text/plain": [
       "(<Quantity 4.29426643e+09 1 / s>,\n",
       " (<Quantity 2.69816717e+10 1 / s>, <Quantity 2.0087433e+08 1 / s>))"
      ]
     },
     "execution_count": 147,
     "metadata": {},
     "output_type": "execute_result"
    }
   ],
   "source": [
    "cq = -c_mat['a_connector_pad_Q2']['pad_top_Q2']\n",
    "trans_p.freq_from_cap(cq*u.fF)"
   ]
  },
  {
   "cell_type": "code",
   "execution_count": 148,
   "metadata": {},
   "outputs": [
    {
     "name": "stderr",
     "output_type": "stream",
     "text": [
      "INFO 11:26PM [connect_design]: \tOpened active design\n",
      "\tDesign:    Transmons_CPW_hfss [Solution type: Eigenmode]\n",
      "INFO 11:27PM [get_setup]: \tOpened setup `Setup`  (<class 'pyEPR.ansys.HfssEMSetup'>)\n",
      "INFO 11:27PM [analyze]: Analyzing setup Setup\n",
      "11:34PM 35s INFO [get_f_convergence]: Saved convergences to c:\\Users\\slab\\Desktop\\Wendy-qiskit-code\\hfss_eig_f_convergence.csv\n"
     ]
    }
   ],
   "source": [
    "eig_qb.sim.run(name=\"Transmons_CPW\", components=['Q2', 'cpw_2','TQ2'])"
   ]
  },
  {
   "cell_type": "code",
   "execution_count": 149,
   "metadata": {},
   "outputs": [
    {
     "name": "stdout",
     "output_type": "stream",
     "text": [
      "Design \"Transmons_CPW_hfss\" info:\n",
      "\t# eigenmodes    2\n",
      "\t# variations    1\n",
      "Design \"Transmons_CPW_hfss\" info:\n",
      "\t# eigenmodes    2\n",
      "\t# variations    1\n"
     ]
    }
   ],
   "source": [
    "fs = eig_qb.get_frequencies()"
   ]
  },
  {
   "cell_type": "code",
   "execution_count": 150,
   "metadata": {},
   "outputs": [
    {
     "data": {
      "text/html": [
       "<div>\n",
       "<style scoped>\n",
       "    .dataframe tbody tr th:only-of-type {\n",
       "        vertical-align: middle;\n",
       "    }\n",
       "\n",
       "    .dataframe tbody tr th {\n",
       "        vertical-align: top;\n",
       "    }\n",
       "\n",
       "    .dataframe thead th {\n",
       "        text-align: right;\n",
       "    }\n",
       "</style>\n",
       "<table border=\"1\" class=\"dataframe\">\n",
       "  <thead>\n",
       "    <tr style=\"text-align: right;\">\n",
       "      <th></th>\n",
       "      <th></th>\n",
       "      <th>Freq. (GHz)</th>\n",
       "      <th>Quality Factor</th>\n",
       "    </tr>\n",
       "    <tr>\n",
       "      <th>variation</th>\n",
       "      <th>mode</th>\n",
       "      <th></th>\n",
       "      <th></th>\n",
       "    </tr>\n",
       "  </thead>\n",
       "  <tbody>\n",
       "    <tr>\n",
       "      <th rowspan=\"2\" valign=\"top\">0</th>\n",
       "      <th>0</th>\n",
       "      <td>4.377903</td>\n",
       "      <td>inf</td>\n",
       "    </tr>\n",
       "    <tr>\n",
       "      <th>1</th>\n",
       "      <td>7.262958</td>\n",
       "      <td>inf</td>\n",
       "    </tr>\n",
       "  </tbody>\n",
       "</table>\n",
       "</div>"
      ],
      "text/plain": [
       "                Freq. (GHz)  Quality Factor\n",
       "variation mode                             \n",
       "0         0        4.377903             inf\n",
       "          1        7.262958             inf"
      ]
     },
     "execution_count": 150,
     "metadata": {},
     "output_type": "execute_result"
    }
   ],
   "source": [
    "fs"
   ]
  },
  {
   "cell_type": "code",
   "execution_count": 151,
   "metadata": {},
   "outputs": [],
   "source": [
    "eig_qb.sim.renderer.options['Lj2'] = '13nH'\n",
    "eig_qb.sim.renderer.options['Cj2'] = '0'"
   ]
  },
  {
   "cell_type": "code",
   "execution_count": 125,
   "metadata": {},
   "outputs": [
    {
     "ename": "KeyError",
     "evalue": "'jj'",
     "output_type": "error",
     "traceback": [
      "\u001b[1;31m---------------------------------------------------------------------------\u001b[0m",
      "\u001b[1;31mKeyError\u001b[0m                                  Traceback (most recent call last)",
      "\u001b[1;32mc:\\Users\\slab\\Desktop\\Wendy-qiskit-code\\Single_pocket_simulation.ipynb Cell 124\u001b[0m in \u001b[0;36m1\n\u001b[1;32m----> <a href='vscode-notebook-cell:/c%3A/Users/slab/Desktop/Wendy-qiskit-code/Single_pocket_simulation.ipynb#Y366sZmlsZQ%3D%3D?line=0'>1</a>\u001b[0m \u001b[39mdel\u001b[39;00m eig_qb\u001b[39m.\u001b[39msetup\u001b[39m.\u001b[39mjunctions[\u001b[39m'\u001b[39m\u001b[39mjj\u001b[39m\u001b[39m'\u001b[39m]\n",
      "\u001b[1;31mKeyError\u001b[0m: 'jj'"
     ]
    }
   ],
   "source": [
    "del eig_qb.setup.junctions['jj']"
   ]
  },
  {
   "cell_type": "code",
   "execution_count": 152,
   "metadata": {},
   "outputs": [],
   "source": [
    "qcomps = design.components  # short handle (alias)\n",
    "qcomps['Q2'].options['hfss_inductance'] = 'Lj2'\n",
    "qcomps['Q2'].options['hfss_capacitance'] = 'Cj2'\n",
    "gui.rebuild()  # line needed to propagate the updates from the qubit instance into the junction design table\n",
    "gui.autoscale()"
   ]
  },
  {
   "cell_type": "code",
   "execution_count": 153,
   "metadata": {},
   "outputs": [
    {
     "name": "stdout",
     "output_type": "stream",
     "text": [
      "Design \"Transmons_CPW_hfss\" info:\n",
      "\t# eigenmodes    2\n",
      "\t# variations    1\n",
      "Design \"Transmons_CPW_hfss\" info:\n",
      "\t# eigenmodes    2\n",
      "\t# variations    1\n"
     ]
    },
    {
     "name": "stderr",
     "output_type": "stream",
     "text": [
      "WARNING:py.warnings:c:\\Users\\slab\\anaconda3\\envs\\qmetal\\lib\\site-packages\\pyEPR\\project_info.py:239: FutureWarning: The default dtype for empty Series will be 'object' instead of 'float64' in a future version. Specify a dtype explicitly to silence this warning.\n",
      "  options=pd.Series(get_instance_vars(self.options)),\n",
      "\n"
     ]
    },
    {
     "name": "stdout",
     "output_type": "stream",
     "text": [
      "\n",
      "        energy_elec_all       = 8.39918589698282e-25\n",
      "        energy_elec_substrate = 7.63485076691289e-25\n",
      "        EPR of substrate = 90.9%\n",
      "\n",
      "        energy_mag    = 8.36919280692545e-25\n",
      "        energy_mag % of energy_elec_all  = 99.6%\n",
      "        \n",
      "\n",
      "Variation 0  [1/1]\n"
     ]
    },
    {
     "name": "stderr",
     "output_type": "stream",
     "text": [
      "WARNING:py.warnings:c:\\Users\\slab\\anaconda3\\envs\\qmetal\\lib\\site-packages\\pyEPR\\core_distributed_analysis.py:1101: FutureWarning: The default dtype for empty Series will be 'object' instead of 'float64' in a future version. Specify a dtype explicitly to silence this warning.\n",
      "  Ljs = pd.Series({})\n",
      "\n",
      "WARNING:py.warnings:c:\\Users\\slab\\anaconda3\\envs\\qmetal\\lib\\site-packages\\pyEPR\\core_distributed_analysis.py:1102: FutureWarning: The default dtype for empty Series will be 'object' instead of 'float64' in a future version. Specify a dtype explicitly to silence this warning.\n",
      "  Cjs = pd.Series({})\n",
      "\n",
      "WARNING:py.warnings:c:\\Users\\slab\\anaconda3\\envs\\qmetal\\lib\\site-packages\\pyEPR\\core_distributed_analysis.py:1245: FutureWarning: The default dtype for empty Series will be 'object' instead of 'float64' in a future version. Specify a dtype explicitly to silence this warning.\n",
      "  _Om = pd.Series({})\n",
      "\n"
     ]
    },
    {
     "name": "stdout",
     "output_type": "stream",
     "text": [
      "\n",
      "  \u001b[1mMode 0 at 4.38 GHz   [1/2]\u001b[0m\n",
      "    Calculating ℰ_magnetic,ℰ_electric\n"
     ]
    },
    {
     "name": "stderr",
     "output_type": "stream",
     "text": [
      "WARNING:py.warnings:c:\\Users\\slab\\anaconda3\\envs\\qmetal\\lib\\site-packages\\pyEPR\\core_distributed_analysis.py:981: FutureWarning: The default dtype for empty Series will be 'object' instead of 'float64' in a future version. Specify a dtype explicitly to silence this warning.\n",
      "  Sj = pd.Series({})\n",
      "\n"
     ]
    },
    {
     "name": "stdout",
     "output_type": "stream",
     "text": [
      "       (ℰ_E-ℰ_H)/ℰ_E       ℰ_E       ℰ_H\n",
      "               99.0%  1.177e-25 1.129e-27\n",
      "\n",
      "    Calculating junction energy participation ration (EPR)\n",
      "\tmethod=`line_voltage`. First estimates:\n",
      "\tjunction        EPR p_0j   sign s_0j    (p_capacitive)\n"
     ]
    },
    {
     "name": "stderr",
     "output_type": "stream",
     "text": [
      "WARNING:py.warnings:c:\\Users\\slab\\anaconda3\\envs\\qmetal\\lib\\site-packages\\pyEPR\\core_distributed_analysis.py:933: FutureWarning: The default dtype for empty Series will be 'object' instead of 'float64' in a future version. Specify a dtype explicitly to silence this warning.\n",
      "  Qp = pd.Series({})\n",
      "\n"
     ]
    },
    {
     "name": "stdout",
     "output_type": "stream",
     "text": [
      "\t\tEnergy fraction (Lj over Lj&Cj)= 98.07%\n",
      "\tjj1             0.989907  (+)        0.0194742\n",
      "\t\t(U_tot_cap-U_tot_ind)/mean=0.99%\n",
      "Calculating Qdielectric_main for mode 0 (0/1)\n"
     ]
    },
    {
     "name": "stderr",
     "output_type": "stream",
     "text": [
      "WARNING:py.warnings:c:\\Users\\slab\\anaconda3\\envs\\qmetal\\lib\\site-packages\\pyEPR\\core_distributed_analysis.py:1307: FutureWarning: The series.append method is deprecated and will be removed from pandas in a future version. Use pandas.concat instead.\n",
      "  sol = sol.append(self.get_Qdielectric(\n",
      "\n",
      "WARNING:py.warnings:c:\\Users\\slab\\anaconda3\\envs\\qmetal\\lib\\site-packages\\pyEPR\\core_distributed_analysis.py:1245: FutureWarning: The default dtype for empty Series will be 'object' instead of 'float64' in a future version. Specify a dtype explicitly to silence this warning.\n",
      "  _Om = pd.Series({})\n",
      "\n"
     ]
    },
    {
     "name": "stdout",
     "output_type": "stream",
     "text": [
      "p_dielectric_main_0 = 0.9170232940571846\n",
      "\n",
      "  \u001b[1mMode 1 at 7.26 GHz   [2/2]\u001b[0m\n",
      "    Calculating ℰ_magnetic,ℰ_electric\n"
     ]
    },
    {
     "name": "stderr",
     "output_type": "stream",
     "text": [
      "WARNING:py.warnings:c:\\Users\\slab\\anaconda3\\envs\\qmetal\\lib\\site-packages\\pyEPR\\core_distributed_analysis.py:981: FutureWarning: The default dtype for empty Series will be 'object' instead of 'float64' in a future version. Specify a dtype explicitly to silence this warning.\n",
      "  Sj = pd.Series({})\n",
      "\n"
     ]
    },
    {
     "name": "stdout",
     "output_type": "stream",
     "text": [
      "       (ℰ_E-ℰ_H)/ℰ_E       ℰ_E       ℰ_H\n",
      "                0.4%    4.2e-25 4.185e-25\n",
      "\n",
      "    Calculating junction energy participation ration (EPR)\n",
      "\tmethod=`line_voltage`. First estimates:\n",
      "\tjunction        EPR p_1j   sign s_1j    (p_capacitive)\n"
     ]
    },
    {
     "name": "stderr",
     "output_type": "stream",
     "text": [
      "WARNING:py.warnings:c:\\Users\\slab\\anaconda3\\envs\\qmetal\\lib\\site-packages\\pyEPR\\core_distributed_analysis.py:933: FutureWarning: The default dtype for empty Series will be 'object' instead of 'float64' in a future version. Specify a dtype explicitly to silence this warning.\n",
      "  Qp = pd.Series({})\n",
      "\n"
     ]
    },
    {
     "name": "stdout",
     "output_type": "stream",
     "text": [
      "\t\tEnergy fraction (Lj over Lj&Cj)= 94.86%\n",
      "\tjj1             0.00357011  (+)        0.000193304\n",
      "\t\t(U_tot_cap-U_tot_ind)/mean=0.01%\n",
      "Calculating Qdielectric_main for mode 1 (1/1)\n"
     ]
    },
    {
     "name": "stderr",
     "output_type": "stream",
     "text": [
      "WARNING:py.warnings:c:\\Users\\slab\\anaconda3\\envs\\qmetal\\lib\\site-packages\\pyEPR\\core_distributed_analysis.py:1307: FutureWarning: The series.append method is deprecated and will be removed from pandas in a future version. Use pandas.concat instead.\n",
      "  sol = sol.append(self.get_Qdielectric(\n",
      "\n"
     ]
    },
    {
     "name": "stdout",
     "output_type": "stream",
     "text": [
      "p_dielectric_main_1 = 0.9089989030550573\n"
     ]
    },
    {
     "name": "stderr",
     "output_type": "stream",
     "text": [
      "WARNING:py.warnings:c:\\Users\\slab\\anaconda3\\envs\\qmetal\\lib\\site-packages\\pyEPR\\project_info.py:239: FutureWarning: The default dtype for empty Series will be 'object' instead of 'float64' in a future version. Specify a dtype explicitly to silence this warning.\n",
      "  options=pd.Series(get_instance_vars(self.options)),\n",
      "\n",
      "WARNING 11:34PM [__init__]: <p>Error: <class 'IndexError'></p>\n",
      "WARNING:py.warnings:c:\\Users\\slab\\anaconda3\\envs\\qmetal\\lib\\site-packages\\pyEPR\\core_quantum_analysis.py:712: FutureWarning: Support for multi-dimensional indexing (e.g. `obj[:, None]`) is deprecated and will be removed in a future version.  Convert to a numpy array before indexing instead.\n",
      "  result['Q_coupling'] = self.Qm_coupling[variation][self.Qm_coupling[variation].columns[junctions]][modes]#TODO change the columns to junctions\n",
      "\n",
      "WARNING:py.warnings:c:\\Users\\slab\\anaconda3\\envs\\qmetal\\lib\\site-packages\\pyEPR\\core_quantum_analysis.py:717: FutureWarning: Support for multi-dimensional indexing (e.g. `obj[:, None]`) is deprecated and will be removed in a future version.  Convert to a numpy array before indexing instead.\n",
      "  result['Qs'] = self.Qs[variation][self.PM[variation].columns[junctions]][modes] #TODO change the columns to junctions\n",
      "\n"
     ]
    },
    {
     "name": "stdout",
     "output_type": "stream",
     "text": [
      "\n",
      "ANALYSIS DONE. Data saved to:\n",
      "\n",
      "C:\\data-pyEPR\\Project29\\Transmons_CPW_hfss\\2023-03-02 23-34-37.npz\n",
      "\n",
      "\n",
      "\t Differences in variations:\n",
      "\n",
      "\n",
      "\n",
      " . . . . . . . . . . . . . . . . . . . . . . . . . . . . . . . . . . . . . . . . \n",
      "Variation 0\n",
      "\n",
      "Starting the diagonalization\n",
      "Finished the diagonalization\n",
      "Pm_norm=\n",
      "modes\n",
      "0    1.020082\n",
      "1    1.027290\n",
      "dtype: float64\n",
      "\n",
      "Pm_norm idx =\n",
      "     jj1\n",
      "0   True\n",
      "1  False\n",
      "*** P (participation matrix, not normlz.)\n",
      "        jj1\n",
      "0  0.970997\n",
      "1  0.003569\n",
      "\n",
      "*** S (sign-bit matrix)\n",
      "   s_jj1\n",
      "0     -1\n",
      "1     -1\n",
      "*** P (participation matrix, normalized.)\n",
      "      0.99\n",
      "    0.0036\n",
      "\n",
      "*** Chi matrix O1 PT (MHz)\n",
      "    Diag is anharmonicity, off diag is full cross-Kerr.\n",
      "       187     2.24\n",
      "      2.24  0.00668\n",
      "\n",
      "*** Chi matrix ND (MHz) \n",
      "       206     2.05\n",
      "      2.05  0.00549\n",
      "\n",
      "*** Frequencies O1 PT (MHz)\n",
      "0    4189.856607\n",
      "1    7261.834077\n",
      "dtype: float64\n",
      "\n",
      "*** Frequencies ND (MHz)\n",
      "0    4180.823575\n",
      "1    7261.851667\n",
      "dtype: float64\n",
      "\n",
      "*** Q_coupling\n",
      "Empty DataFrame\n",
      "Columns: []\n",
      "Index: [0, 1]\n"
     ]
    },
    {
     "data": {
      "text/markdown": [
       "#### Mode frequencies (MHz)"
      ],
      "text/plain": [
       "<IPython.core.display.Markdown object>"
      ]
     },
     "metadata": {},
     "output_type": "display_data"
    },
    {
     "data": {
      "text/markdown": [
       "###### Numerical diagonalization"
      ],
      "text/plain": [
       "<IPython.core.display.Markdown object>"
      ]
     },
     "metadata": {},
     "output_type": "display_data"
    },
    {
     "data": {
      "text/html": [
       "<div>\n",
       "<style scoped>\n",
       "    .dataframe tbody tr th:only-of-type {\n",
       "        vertical-align: middle;\n",
       "    }\n",
       "\n",
       "    .dataframe tbody tr th {\n",
       "        vertical-align: top;\n",
       "    }\n",
       "\n",
       "    .dataframe thead th {\n",
       "        text-align: right;\n",
       "    }\n",
       "</style>\n",
       "<table border=\"1\" class=\"dataframe\">\n",
       "  <thead>\n",
       "    <tr style=\"text-align: right;\">\n",
       "      <th>Lj2</th>\n",
       "      <th>13</th>\n",
       "    </tr>\n",
       "  </thead>\n",
       "  <tbody>\n",
       "    <tr>\n",
       "      <th>0</th>\n",
       "      <td>4180.82</td>\n",
       "    </tr>\n",
       "    <tr>\n",
       "      <th>1</th>\n",
       "      <td>7261.85</td>\n",
       "    </tr>\n",
       "  </tbody>\n",
       "</table>\n",
       "</div>"
      ],
      "text/plain": [
       "Lj2       13\n",
       "0    4180.82\n",
       "1    7261.85"
      ]
     },
     "metadata": {},
     "output_type": "display_data"
    },
    {
     "data": {
      "text/markdown": [
       "#### Kerr Non-linear coefficient table (MHz)"
      ],
      "text/plain": [
       "<IPython.core.display.Markdown object>"
      ]
     },
     "metadata": {},
     "output_type": "display_data"
    },
    {
     "data": {
      "text/markdown": [
       "###### Numerical diagonalization"
      ],
      "text/plain": [
       "<IPython.core.display.Markdown object>"
      ]
     },
     "metadata": {},
     "output_type": "display_data"
    },
    {
     "data": {
      "text/html": [
       "<div>\n",
       "<style scoped>\n",
       "    .dataframe tbody tr th:only-of-type {\n",
       "        vertical-align: middle;\n",
       "    }\n",
       "\n",
       "    .dataframe tbody tr th {\n",
       "        vertical-align: top;\n",
       "    }\n",
       "\n",
       "    .dataframe thead th {\n",
       "        text-align: right;\n",
       "    }\n",
       "</style>\n",
       "<table border=\"1\" class=\"dataframe\">\n",
       "  <thead>\n",
       "    <tr style=\"text-align: right;\">\n",
       "      <th></th>\n",
       "      <th></th>\n",
       "      <th>0</th>\n",
       "      <th>1</th>\n",
       "    </tr>\n",
       "    <tr>\n",
       "      <th>Lj2</th>\n",
       "      <th></th>\n",
       "      <th></th>\n",
       "      <th></th>\n",
       "    </tr>\n",
       "  </thead>\n",
       "  <tbody>\n",
       "    <tr>\n",
       "      <th rowspan=\"2\" valign=\"top\">13</th>\n",
       "      <th>0</th>\n",
       "      <td>206.30</td>\n",
       "      <td>2.05e+00</td>\n",
       "    </tr>\n",
       "    <tr>\n",
       "      <th>1</th>\n",
       "      <td>2.05</td>\n",
       "      <td>5.49e-03</td>\n",
       "    </tr>\n",
       "  </tbody>\n",
       "</table>\n",
       "</div>"
      ],
      "text/plain": [
       "            0         1\n",
       "Lj2                    \n",
       "13  0  206.30  2.05e+00\n",
       "    1    2.05  5.49e-03"
      ]
     },
     "metadata": {},
     "output_type": "display_data"
    }
   ],
   "source": [
    "eig_qb.sim.setup.vars = Dict(Lj1= '13 nH', Cj1= '0 fF')\n",
    "\n",
    "eig_qb.setup.junctions.jj1 = Dict(rect='JJ_rect_Lj_Q2_rect_jj', line='JJ_Lj_Q2_rect_jj_',\n",
    "                Lj_variable='Lj2', Cj_variable='Cj2')\n",
    "eig_qb.setup.sweep_variable = 'Lj2'\n",
    "eig_qb.run_epr()"
   ]
  },
  {
   "attachments": {},
   "cell_type": "markdown",
   "metadata": {},
   "source": [
    "# Simulation of 2 QB"
   ]
  },
  {
   "cell_type": "code",
   "execution_count": 17,
   "metadata": {},
   "outputs": [],
   "source": [
    "components_all = ['Q1','Q2','cpw_1','cpw_2','TQ1','TQ2','CPW_left','CPW_right', 'CPW_mid','wb_left','wb_right']"
   ]
  },
  {
   "attachments": {},
   "cell_type": "markdown",
   "metadata": {},
   "source": [
    "## Capacitance"
   ]
  },
  {
   "cell_type": "code",
   "execution_count": 18,
   "metadata": {},
   "outputs": [],
   "source": [
    "c = LOManalysis(design, \"q3d\")\n",
    "c.sim.setup.min_passes  = 10\n",
    "c.sim.setup.max_passes = 30"
   ]
  },
  {
   "cell_type": "code",
   "execution_count": 26,
   "metadata": {},
   "outputs": [
    {
     "name": "stderr",
     "output_type": "stream",
     "text": [
      "INFO 02:13PM [connect_design]: \tOpened active design\n",
      "\tDesign:    Design_q3d [Solution type: Q3D]\n",
      "INFO 02:13PM [get_setup]: \tOpened setup `Setup`  (<class 'pyEPR.ansys.AnsysQ3DSetup'>)\n",
      "INFO 02:13PM [analyze]: Analyzing setup Setup\n",
      "INFO 02:22PM [get_matrix]: Exporting matrix data to (C:\\Users\\slab\\AppData\\Local\\Temp\\tmpk_56s35z.txt, C, , Setup:LastAdaptive, \"Original\", \"ohm\", \"nH\", \"fF\", \"mSie\", 5000000000, Maxwell, 1, False\n",
      "INFO 02:22PM [get_matrix]: Exporting matrix data to (C:\\Users\\slab\\AppData\\Local\\Temp\\tmp1cts2a5v.txt, C, , Setup:AdaptivePass, \"Original\", \"ohm\", \"nH\", \"fF\", \"mSie\", 5000000000, Maxwell, 1, False\n",
      "INFO 02:22PM [get_matrix]: Exporting matrix data to (C:\\Users\\slab\\AppData\\Local\\Temp\\tmpjcqw7cnp.txt, C, , Setup:AdaptivePass, \"Original\", \"ohm\", \"nH\", \"fF\", \"mSie\", 5000000000, Maxwell, 2, False\n",
      "INFO 02:22PM [get_matrix]: Exporting matrix data to (C:\\Users\\slab\\AppData\\Local\\Temp\\tmpwu63eb2s.txt, C, , Setup:AdaptivePass, \"Original\", \"ohm\", \"nH\", \"fF\", \"mSie\", 5000000000, Maxwell, 3, False\n",
      "INFO 02:22PM [get_matrix]: Exporting matrix data to (C:\\Users\\slab\\AppData\\Local\\Temp\\tmpwzecxn0y.txt, C, , Setup:AdaptivePass, \"Original\", \"ohm\", \"nH\", \"fF\", \"mSie\", 5000000000, Maxwell, 4, False\n",
      "INFO 02:22PM [get_matrix]: Exporting matrix data to (C:\\Users\\slab\\AppData\\Local\\Temp\\tmplev_diaj.txt, C, , Setup:AdaptivePass, \"Original\", \"ohm\", \"nH\", \"fF\", \"mSie\", 5000000000, Maxwell, 5, False\n",
      "INFO 02:22PM [get_matrix]: Exporting matrix data to (C:\\Users\\slab\\AppData\\Local\\Temp\\tmprr8tpsy1.txt, C, , Setup:AdaptivePass, \"Original\", \"ohm\", \"nH\", \"fF\", \"mSie\", 5000000000, Maxwell, 6, False\n",
      "INFO 02:22PM [get_matrix]: Exporting matrix data to (C:\\Users\\slab\\AppData\\Local\\Temp\\tmp7sj83kxv.txt, C, , Setup:AdaptivePass, \"Original\", \"ohm\", \"nH\", \"fF\", \"mSie\", 5000000000, Maxwell, 7, False\n",
      "INFO 02:22PM [get_matrix]: Exporting matrix data to (C:\\Users\\slab\\AppData\\Local\\Temp\\tmpb309xj6_.txt, C, , Setup:AdaptivePass, \"Original\", \"ohm\", \"nH\", \"fF\", \"mSie\", 5000000000, Maxwell, 8, False\n",
      "INFO 02:22PM [get_matrix]: Exporting matrix data to (C:\\Users\\slab\\AppData\\Local\\Temp\\tmpom33ht0q.txt, C, , Setup:AdaptivePass, \"Original\", \"ohm\", \"nH\", \"fF\", \"mSie\", 5000000000, Maxwell, 9, False\n",
      "INFO 02:22PM [get_matrix]: Exporting matrix data to (C:\\Users\\slab\\AppData\\Local\\Temp\\tmpmyan4jmy.txt, C, , Setup:AdaptivePass, \"Original\", \"ohm\", \"nH\", \"fF\", \"mSie\", 5000000000, Maxwell, 10, False\n",
      "INFO 02:22PM [get_matrix]: Exporting matrix data to (C:\\Users\\slab\\AppData\\Local\\Temp\\tmpcgjnbcmu.txt, C, , Setup:AdaptivePass, \"Original\", \"ohm\", \"nH\", \"fF\", \"mSie\", 5000000000, Maxwell, 11, False\n",
      "INFO 02:22PM [get_matrix]: Exporting matrix data to (C:\\Users\\slab\\AppData\\Local\\Temp\\tmp9p4_evun.txt, C, , Setup:AdaptivePass, \"Original\", \"ohm\", \"nH\", \"fF\", \"mSie\", 5000000000, Maxwell, 12, False\n",
      "INFO 02:22PM [get_matrix]: Exporting matrix data to (C:\\Users\\slab\\AppData\\Local\\Temp\\tmpciwtod6m.txt, C, , Setup:AdaptivePass, \"Original\", \"ohm\", \"nH\", \"fF\", \"mSie\", 5000000000, Maxwell, 13, False\n",
      "INFO 02:22PM [get_matrix]: Exporting matrix data to (C:\\Users\\slab\\AppData\\Local\\Temp\\tmpko3nt_6r.txt, C, , Setup:LastAdaptive, \"Original\", \"ohm\", \"nH\", \"fF\", \"mSie\", 5000000000, Maxwell, 1, False\n",
      "INFO 02:22PM [get_matrix]: Exporting matrix data to (C:\\Users\\slab\\AppData\\Local\\Temp\\tmp521odow3.txt, C, , Setup:AdaptivePass, \"Original\", \"ohm\", \"nH\", \"fF\", \"mSie\", 5000000000, Maxwell, 1, False\n",
      "INFO 02:22PM [get_matrix]: Exporting matrix data to (C:\\Users\\slab\\AppData\\Local\\Temp\\tmp8g9trfco.txt, C, , Setup:AdaptivePass, \"Original\", \"ohm\", \"nH\", \"fF\", \"mSie\", 5000000000, Maxwell, 2, False\n",
      "INFO 02:22PM [get_matrix]: Exporting matrix data to (C:\\Users\\slab\\AppData\\Local\\Temp\\tmp30yyuqca.txt, C, , Setup:AdaptivePass, \"Original\", \"ohm\", \"nH\", \"fF\", \"mSie\", 5000000000, Maxwell, 3, False\n",
      "INFO 02:22PM [get_matrix]: Exporting matrix data to (C:\\Users\\slab\\AppData\\Local\\Temp\\tmp3873b60t.txt, C, , Setup:AdaptivePass, \"Original\", \"ohm\", \"nH\", \"fF\", \"mSie\", 5000000000, Maxwell, 4, False\n",
      "INFO 02:22PM [get_matrix]: Exporting matrix data to (C:\\Users\\slab\\AppData\\Local\\Temp\\tmpaauj31k3.txt, C, , Setup:AdaptivePass, \"Original\", \"ohm\", \"nH\", \"fF\", \"mSie\", 5000000000, Maxwell, 5, False\n",
      "INFO 02:22PM [get_matrix]: Exporting matrix data to (C:\\Users\\slab\\AppData\\Local\\Temp\\tmpcy2qvrai.txt, C, , Setup:AdaptivePass, \"Original\", \"ohm\", \"nH\", \"fF\", \"mSie\", 5000000000, Maxwell, 6, False\n",
      "INFO 02:22PM [get_matrix]: Exporting matrix data to (C:\\Users\\slab\\AppData\\Local\\Temp\\tmpakezwblz.txt, C, , Setup:AdaptivePass, \"Original\", \"ohm\", \"nH\", \"fF\", \"mSie\", 5000000000, Maxwell, 7, False\n",
      "INFO 02:22PM [get_matrix]: Exporting matrix data to (C:\\Users\\slab\\AppData\\Local\\Temp\\tmp2wzgun0w.txt, C, , Setup:AdaptivePass, \"Original\", \"ohm\", \"nH\", \"fF\", \"mSie\", 5000000000, Maxwell, 8, False\n",
      "INFO 02:22PM [get_matrix]: Exporting matrix data to (C:\\Users\\slab\\AppData\\Local\\Temp\\tmpj79xz1tj.txt, C, , Setup:AdaptivePass, \"Original\", \"ohm\", \"nH\", \"fF\", \"mSie\", 5000000000, Maxwell, 9, False\n",
      "INFO 02:22PM [get_matrix]: Exporting matrix data to (C:\\Users\\slab\\AppData\\Local\\Temp\\tmp5q9cact8.txt, C, , Setup:AdaptivePass, \"Original\", \"ohm\", \"nH\", \"fF\", \"mSie\", 5000000000, Maxwell, 10, False\n",
      "INFO 02:22PM [get_matrix]: Exporting matrix data to (C:\\Users\\slab\\AppData\\Local\\Temp\\tmp9xyo3zml.txt, C, , Setup:AdaptivePass, \"Original\", \"ohm\", \"nH\", \"fF\", \"mSie\", 5000000000, Maxwell, 11, False\n",
      "INFO 02:22PM [get_matrix]: Exporting matrix data to (C:\\Users\\slab\\AppData\\Local\\Temp\\tmp0_03q11q.txt, C, , Setup:AdaptivePass, \"Original\", \"ohm\", \"nH\", \"fF\", \"mSie\", 5000000000, Maxwell, 12, False\n",
      "INFO 02:22PM [get_matrix]: Exporting matrix data to (C:\\Users\\slab\\AppData\\Local\\Temp\\tmpkmxixbsy.txt, C, , Setup:AdaptivePass, \"Original\", \"ohm\", \"nH\", \"fF\", \"mSie\", 5000000000, Maxwell, 13, False\n"
     ]
    }
   ],
   "source": [
    "c.sim.run(components=['Q1','Q2','cpw_1','cpw_2','TQ1','TQ2','wb_left','wb_right','CPW_left','CPW_right', 'CPW_mid'])\n",
    "c.sim.capacitance_matrix \n",
    "\n",
    "c.sim._get_results_from_renderer()\n",
    "c_mat = c.sim.capacitance_matrix"
   ]
  },
  {
   "cell_type": "code",
   "execution_count": 27,
   "metadata": {},
   "outputs": [
    {
     "data": {
      "text/html": [
       "<div>\n",
       "<style scoped>\n",
       "    .dataframe tbody tr th:only-of-type {\n",
       "        vertical-align: middle;\n",
       "    }\n",
       "\n",
       "    .dataframe tbody tr th {\n",
       "        vertical-align: top;\n",
       "    }\n",
       "\n",
       "    .dataframe thead th {\n",
       "        text-align: right;\n",
       "    }\n",
       "</style>\n",
       "<table border=\"1\" class=\"dataframe\">\n",
       "  <thead>\n",
       "    <tr style=\"text-align: right;\">\n",
       "      <th></th>\n",
       "      <th>a_connector_pad_Q1</th>\n",
       "      <th>launch_pad_wb_left</th>\n",
       "      <th>pad_top_Q1</th>\n",
       "      <th>pad_top_Q2</th>\n",
       "    </tr>\n",
       "  </thead>\n",
       "  <tbody>\n",
       "    <tr>\n",
       "      <th>a_connector_pad_Q1</th>\n",
       "      <td>3086.19113</td>\n",
       "      <td>-2607.39624</td>\n",
       "      <td>-107.03128</td>\n",
       "      <td>-97.18904</td>\n",
       "    </tr>\n",
       "    <tr>\n",
       "      <th>launch_pad_wb_left</th>\n",
       "      <td>-2607.39624</td>\n",
       "      <td>2614.12895</td>\n",
       "      <td>-0.34996</td>\n",
       "      <td>-0.27353</td>\n",
       "    </tr>\n",
       "    <tr>\n",
       "      <th>pad_top_Q1</th>\n",
       "      <td>-107.03128</td>\n",
       "      <td>-0.34996</td>\n",
       "      <td>108.62112</td>\n",
       "      <td>-0.49230</td>\n",
       "    </tr>\n",
       "    <tr>\n",
       "      <th>pad_top_Q2</th>\n",
       "      <td>-97.18904</td>\n",
       "      <td>-0.27353</td>\n",
       "      <td>-0.49230</td>\n",
       "      <td>98.53784</td>\n",
       "    </tr>\n",
       "  </tbody>\n",
       "</table>\n",
       "</div>"
      ],
      "text/plain": [
       "                    a_connector_pad_Q1  launch_pad_wb_left  pad_top_Q1  \\\n",
       "a_connector_pad_Q1          3086.19113         -2607.39624  -107.03128   \n",
       "launch_pad_wb_left         -2607.39624          2614.12895    -0.34996   \n",
       "pad_top_Q1                  -107.03128            -0.34996   108.62112   \n",
       "pad_top_Q2                   -97.18904            -0.27353    -0.49230   \n",
       "\n",
       "                    pad_top_Q2  \n",
       "a_connector_pad_Q1   -97.18904  \n",
       "launch_pad_wb_left    -0.27353  \n",
       "pad_top_Q1            -0.49230  \n",
       "pad_top_Q2            98.53784  "
      ]
     },
     "execution_count": 27,
     "metadata": {},
     "output_type": "execute_result"
    }
   ],
   "source": [
    "c_mat "
   ]
  },
  {
   "cell_type": "code",
   "execution_count": 28,
   "metadata": {},
   "outputs": [],
   "source": [
    "C = c_mat.values[2:,2:]"
   ]
  },
  {
   "cell_type": "code",
   "execution_count": 29,
   "metadata": {},
   "outputs": [
    {
     "data": {
      "text/plain": [
       "array([[108.62112,  -0.4923 ],\n",
       "       [ -0.4923 ,  98.53784]])"
      ]
     },
     "execution_count": 29,
     "metadata": {},
     "output_type": "execute_result"
    }
   ],
   "source": [
    "C"
   ]
  },
  {
   "attachments": {},
   "cell_type": "markdown",
   "metadata": {},
   "source": [
    "## EPR"
   ]
  },
  {
   "cell_type": "code",
   "execution_count": 23,
   "metadata": {},
   "outputs": [],
   "source": [
    "eig_all = EPRanalysis(design, 'hfss')"
   ]
  },
  {
   "cell_type": "code",
   "execution_count": 30,
   "metadata": {},
   "outputs": [
    {
     "name": "stderr",
     "output_type": "stream",
     "text": [
      "INFO 02:22PM [connect_project]: Connecting to Ansys Desktop API...\n",
      "INFO 02:22PM [load_ansys_project]: \tOpened Ansys App\n",
      "INFO 02:22PM [load_ansys_project]: \tOpened Ansys Desktop v2021.2.0\n",
      "INFO 02:22PM [load_ansys_project]: \tOpened Ansys Project\n",
      "\tFolder:    C:/Users/slab/Documents/Ansoft/\n",
      "\tProject:   Project30\n",
      "INFO 02:22PM [connect_design]: \tOpened active design\n",
      "\tDesign:    Design_q3d [Solution type: Q3D]\n",
      "INFO 02:22PM [get_setup]: \tOpened setup `Setup`  (<class 'pyEPR.ansys.AnsysQ3DSetup'>)\n",
      "INFO 02:22PM [connect]: \tConnected to project \"Project30\" and design \"Design_q3d\" 😀 \n",
      "\n",
      "INFO 02:22PM [connect_design]: \tOpened active design\n",
      "\tDesign:    all_freqs_hfss [Solution type: Eigenmode]\n",
      "WARNING 02:22PM [connect_setup]: \tNo design setup detected.\n",
      "WARNING 02:22PM [connect_setup]: \tCreating eigenmode default setup.\n",
      "INFO 02:22PM [get_setup]: \tOpened setup `Setup`  (<class 'pyEPR.ansys.HfssEMSetup'>)\n",
      "INFO 02:24PM [get_setup]: \tOpened setup `Setup`  (<class 'pyEPR.ansys.HfssEMSetup'>)\n",
      "INFO 02:24PM [analyze]: Analyzing setup Setup\n",
      "02:28PM 10s INFO [get_f_convergence]: Saved convergences to c:\\Users\\slab\\Desktop\\Wendy-qiskit-code\\hfss_eig_f_convergence.csv\n"
     ]
    }
   ],
   "source": [
    "\n",
    "\n",
    "components = ['Q1','Q2','cpw_1','cpw_2','TQ1','TQ2','CPW_mid','CPW_left','CPW_right']\n",
    "#'wb_left','wb_right','CPW_left','CPW_right', \n",
    "\n",
    "hfss = eig_all.sim.renderer\n",
    "\n",
    "eig_all.sim.renderer.options['Lj'] = '13nH'\n",
    "eig_all.sim.renderer.options['wb_threshold'] = '72um'\n",
    "\n",
    "eig_all.sim.setup.max_passes = 5\n",
    "eig_all.sim.setup.max_delta_f = 0.05\n",
    "eig_all.sim.setup.n_modes = 4\n",
    "eig_all.sim.setup.vars = Dict(Lj1= '13 nH', Cj1= '0 fF',Lj2 = '13nH', Cj2 = '0fF')\n",
    "eig_all.sim.renderer.options['x_buffer_width_mm'] = 0.5\n",
    "eig_all.sim.renderer.options['y_buffer_width_mm'] = 0.5\n",
    "eig_all.sim.run(name=\"all_freqs\", components=components)#, open_terminations=[('Q1', 'a')])\n",
    "convergence = pd.read_csv('hfss_eig_f_convergence.csv')"
   ]
  },
  {
   "cell_type": "code",
   "execution_count": 31,
   "metadata": {},
   "outputs": [
    {
     "data": {
      "text/html": [
       "<div>\n",
       "<style scoped>\n",
       "    .dataframe tbody tr th:only-of-type {\n",
       "        vertical-align: middle;\n",
       "    }\n",
       "\n",
       "    .dataframe tbody tr th {\n",
       "        vertical-align: top;\n",
       "    }\n",
       "\n",
       "    .dataframe thead th {\n",
       "        text-align: right;\n",
       "    }\n",
       "</style>\n",
       "<table border=\"1\" class=\"dataframe\">\n",
       "  <thead>\n",
       "    <tr style=\"text-align: right;\">\n",
       "      <th></th>\n",
       "      <th>Pass []</th>\n",
       "      <th>re(Mode(1)) [g]</th>\n",
       "      <th>re(Mode(2)) [g]</th>\n",
       "      <th>re(Mode(3)) [g]</th>\n",
       "      <th>re(Mode(4)) [g]</th>\n",
       "    </tr>\n",
       "  </thead>\n",
       "  <tbody>\n",
       "    <tr>\n",
       "      <th>0</th>\n",
       "      <td>1</td>\n",
       "      <td>2.561129</td>\n",
       "      <td>2.830780</td>\n",
       "      <td>3.016253</td>\n",
       "      <td>4.913749</td>\n",
       "    </tr>\n",
       "    <tr>\n",
       "      <th>1</th>\n",
       "      <td>2</td>\n",
       "      <td>3.084344</td>\n",
       "      <td>3.514951</td>\n",
       "      <td>3.702487</td>\n",
       "      <td>4.976164</td>\n",
       "    </tr>\n",
       "    <tr>\n",
       "      <th>2</th>\n",
       "      <td>3</td>\n",
       "      <td>3.470491</td>\n",
       "      <td>3.865356</td>\n",
       "      <td>4.064650</td>\n",
       "      <td>4.999797</td>\n",
       "    </tr>\n",
       "    <tr>\n",
       "      <th>3</th>\n",
       "      <td>4</td>\n",
       "      <td>3.718053</td>\n",
       "      <td>3.995875</td>\n",
       "      <td>4.200748</td>\n",
       "      <td>5.591525</td>\n",
       "    </tr>\n",
       "    <tr>\n",
       "      <th>4</th>\n",
       "      <td>5</td>\n",
       "      <td>3.802041</td>\n",
       "      <td>4.060443</td>\n",
       "      <td>4.268267</td>\n",
       "      <td>5.850909</td>\n",
       "    </tr>\n",
       "  </tbody>\n",
       "</table>\n",
       "</div>"
      ],
      "text/plain": [
       "   Pass []  re(Mode(1)) [g]  re(Mode(2)) [g]  re(Mode(3)) [g]  re(Mode(4)) [g]\n",
       "0        1         2.561129         2.830780         3.016253         4.913749\n",
       "1        2         3.084344         3.514951         3.702487         4.976164\n",
       "2        3         3.470491         3.865356         4.064650         4.999797\n",
       "3        4         3.718053         3.995875         4.200748         5.591525\n",
       "4        5         3.802041         4.060443         4.268267         5.850909"
      ]
     },
     "execution_count": 31,
     "metadata": {},
     "output_type": "execute_result"
    }
   ],
   "source": [
    "convergence.dropna()"
   ]
  },
  {
   "cell_type": "code",
   "execution_count": 32,
   "metadata": {},
   "outputs": [
    {
     "name": "stdout",
     "output_type": "stream",
     "text": [
      "Design \"all_freqs_hfss\" info:\n",
      "\t# eigenmodes    4\n",
      "\t# variations    1\n",
      "Design \"all_freqs_hfss\" info:\n",
      "\t# eigenmodes    4\n",
      "\t# variations    1\n"
     ]
    },
    {
     "name": "stderr",
     "output_type": "stream",
     "text": [
      "WARNING:py.warnings:c:\\Users\\slab\\anaconda3\\envs\\qmetal\\lib\\site-packages\\pyEPR\\project_info.py:239: FutureWarning: The default dtype for empty Series will be 'object' instead of 'float64' in a future version. Specify a dtype explicitly to silence this warning.\n",
      "  options=pd.Series(get_instance_vars(self.options)),\n",
      "\n"
     ]
    },
    {
     "name": "stdout",
     "output_type": "stream",
     "text": [
      "\n",
      "        energy_elec_all       = 9.31918472205375e-24\n",
      "        energy_elec_substrate = 8.46798934885033e-24\n",
      "        EPR of substrate = 90.9%\n",
      "\n",
      "        energy_mag    = 9.31918235863227e-24\n",
      "        energy_mag % of energy_elec_all  = 100.0%\n",
      "        \n",
      "\n",
      "Variation 0  [1/1]\n"
     ]
    },
    {
     "name": "stderr",
     "output_type": "stream",
     "text": [
      "WARNING:py.warnings:c:\\Users\\slab\\anaconda3\\envs\\qmetal\\lib\\site-packages\\pyEPR\\core_distributed_analysis.py:1101: FutureWarning: The default dtype for empty Series will be 'object' instead of 'float64' in a future version. Specify a dtype explicitly to silence this warning.\n",
      "  Ljs = pd.Series({})\n",
      "\n",
      "WARNING:py.warnings:c:\\Users\\slab\\anaconda3\\envs\\qmetal\\lib\\site-packages\\pyEPR\\core_distributed_analysis.py:1102: FutureWarning: The default dtype for empty Series will be 'object' instead of 'float64' in a future version. Specify a dtype explicitly to silence this warning.\n",
      "  Cjs = pd.Series({})\n",
      "\n",
      "WARNING:py.warnings:c:\\Users\\slab\\anaconda3\\envs\\qmetal\\lib\\site-packages\\pyEPR\\core_distributed_analysis.py:1245: FutureWarning: The default dtype for empty Series will be 'object' instead of 'float64' in a future version. Specify a dtype explicitly to silence this warning.\n",
      "  _Om = pd.Series({})\n",
      "\n"
     ]
    },
    {
     "name": "stdout",
     "output_type": "stream",
     "text": [
      "\n",
      "  \u001b[1mMode 0 at 3.80 GHz   [1/4]\u001b[0m\n",
      "    Calculating ℰ_magnetic,ℰ_electric\n"
     ]
    },
    {
     "name": "stderr",
     "output_type": "stream",
     "text": [
      "WARNING:py.warnings:c:\\Users\\slab\\anaconda3\\envs\\qmetal\\lib\\site-packages\\pyEPR\\core_distributed_analysis.py:981: FutureWarning: The default dtype for empty Series will be 'object' instead of 'float64' in a future version. Specify a dtype explicitly to silence this warning.\n",
      "  Sj = pd.Series({})\n",
      "\n"
     ]
    },
    {
     "name": "stdout",
     "output_type": "stream",
     "text": [
      "       (ℰ_E-ℰ_H)/ℰ_E       ℰ_E       ℰ_H\n",
      "                0.0%   4.66e-24  4.66e-24\n",
      "\n",
      "    Calculating junction energy participation ration (EPR)\n",
      "\tmethod=`line_voltage`. First estimates:\n",
      "\tjunction        EPR p_0j   sign s_0j    (p_capacitive)\n",
      "\t\tEnergy fraction (Lj over Lj&Cj)= 98.54%\n",
      "\tjj1             1.40296e-07  (+)        2.08168e-09\n"
     ]
    },
    {
     "name": "stderr",
     "output_type": "stream",
     "text": [
      "WARNING:py.warnings:c:\\Users\\slab\\anaconda3\\envs\\qmetal\\lib\\site-packages\\pyEPR\\core_distributed_analysis.py:933: FutureWarning: The default dtype for empty Series will be 'object' instead of 'float64' in a future version. Specify a dtype explicitly to silence this warning.\n",
      "  Qp = pd.Series({})\n",
      "\n"
     ]
    },
    {
     "name": "stdout",
     "output_type": "stream",
     "text": [
      "\t\tEnergy fraction (Lj over Lj&Cj)= 98.54%\n",
      "\tjj2             1.38277e-08  (+)        2.05171e-10\n",
      "\t\t(U_tot_cap-U_tot_ind)/mean=0.00%\n",
      "Calculating Qdielectric_main for mode 0 (0/3)\n"
     ]
    },
    {
     "name": "stderr",
     "output_type": "stream",
     "text": [
      "WARNING:py.warnings:c:\\Users\\slab\\anaconda3\\envs\\qmetal\\lib\\site-packages\\pyEPR\\core_distributed_analysis.py:1307: FutureWarning: The series.append method is deprecated and will be removed from pandas in a future version. Use pandas.concat instead.\n",
      "  sol = sol.append(self.get_Qdielectric(\n",
      "\n",
      "WARNING:py.warnings:c:\\Users\\slab\\anaconda3\\envs\\qmetal\\lib\\site-packages\\pyEPR\\core_distributed_analysis.py:1245: FutureWarning: The default dtype for empty Series will be 'object' instead of 'float64' in a future version. Specify a dtype explicitly to silence this warning.\n",
      "  _Om = pd.Series({})\n",
      "\n"
     ]
    },
    {
     "name": "stdout",
     "output_type": "stream",
     "text": [
      "p_dielectric_main_0 = 0.9086620344385841\n",
      "\n",
      "  \u001b[1mMode 1 at 4.06 GHz   [2/4]\u001b[0m\n",
      "    Calculating ℰ_magnetic,ℰ_electric\n"
     ]
    },
    {
     "name": "stderr",
     "output_type": "stream",
     "text": [
      "WARNING:py.warnings:c:\\Users\\slab\\anaconda3\\envs\\qmetal\\lib\\site-packages\\pyEPR\\core_distributed_analysis.py:981: FutureWarning: The default dtype for empty Series will be 'object' instead of 'float64' in a future version. Specify a dtype explicitly to silence this warning.\n",
      "  Sj = pd.Series({})\n",
      "\n"
     ]
    },
    {
     "name": "stdout",
     "output_type": "stream",
     "text": [
      "       (ℰ_E-ℰ_H)/ℰ_E       ℰ_E       ℰ_H\n",
      "               99.0%  2.336e-24  2.36e-26\n",
      "\n",
      "    Calculating junction energy participation ration (EPR)\n",
      "\tmethod=`line_voltage`. First estimates:\n",
      "\tjunction        EPR p_1j   sign s_1j    (p_capacitive)\n",
      "\t\tEnergy fraction (Lj over Lj&Cj)= 98.34%\n",
      "\tjj1             0.988135  (+)        0.0167223\n"
     ]
    },
    {
     "name": "stderr",
     "output_type": "stream",
     "text": [
      "WARNING:py.warnings:c:\\Users\\slab\\anaconda3\\envs\\qmetal\\lib\\site-packages\\pyEPR\\core_distributed_analysis.py:933: FutureWarning: The default dtype for empty Series will be 'object' instead of 'float64' in a future version. Specify a dtype explicitly to silence this warning.\n",
      "  Qp = pd.Series({})\n",
      "\n"
     ]
    },
    {
     "name": "stdout",
     "output_type": "stream",
     "text": [
      "\t\tEnergy fraction (Lj over Lj&Cj)= 98.34%\n",
      "\tjj2             0.00144428  (+)        2.44417e-05\n",
      "\t\t(U_tot_cap-U_tot_ind)/mean=0.85%\n",
      "Calculating Qdielectric_main for mode 1 (1/3)\n"
     ]
    },
    {
     "name": "stderr",
     "output_type": "stream",
     "text": [
      "WARNING:py.warnings:c:\\Users\\slab\\anaconda3\\envs\\qmetal\\lib\\site-packages\\pyEPR\\core_distributed_analysis.py:1307: FutureWarning: The series.append method is deprecated and will be removed from pandas in a future version. Use pandas.concat instead.\n",
      "  sol = sol.append(self.get_Qdielectric(\n",
      "\n",
      "WARNING:py.warnings:c:\\Users\\slab\\anaconda3\\envs\\qmetal\\lib\\site-packages\\pyEPR\\core_distributed_analysis.py:1245: FutureWarning: The default dtype for empty Series will be 'object' instead of 'float64' in a future version. Specify a dtype explicitly to silence this warning.\n",
      "  _Om = pd.Series({})\n",
      "\n"
     ]
    },
    {
     "name": "stdout",
     "output_type": "stream",
     "text": [
      "p_dielectric_main_1 = 0.9145539468191833\n",
      "\n",
      "  \u001b[1mMode 2 at 4.27 GHz   [3/4]\u001b[0m\n",
      "    Calculating ℰ_magnetic,ℰ_electric\n"
     ]
    },
    {
     "name": "stderr",
     "output_type": "stream",
     "text": [
      "WARNING:py.warnings:c:\\Users\\slab\\anaconda3\\envs\\qmetal\\lib\\site-packages\\pyEPR\\core_distributed_analysis.py:981: FutureWarning: The default dtype for empty Series will be 'object' instead of 'float64' in a future version. Specify a dtype explicitly to silence this warning.\n",
      "  Sj = pd.Series({})\n",
      "\n"
     ]
    },
    {
     "name": "stdout",
     "output_type": "stream",
     "text": [
      "       (ℰ_E-ℰ_H)/ℰ_E       ℰ_E       ℰ_H\n",
      "               99.0%   1.95e-24  1.94e-26\n",
      "\n",
      "    Calculating junction energy participation ration (EPR)\n",
      "\tmethod=`line_voltage`. First estimates:\n",
      "\tjunction        EPR p_2j   sign s_2j    (p_capacitive)\n",
      "\t\tEnergy fraction (Lj over Lj&Cj)= 98.16%\n",
      "\tjj1             0.00141928  (+)        2.65402e-05\n"
     ]
    },
    {
     "name": "stderr",
     "output_type": "stream",
     "text": [
      "WARNING:py.warnings:c:\\Users\\slab\\anaconda3\\envs\\qmetal\\lib\\site-packages\\pyEPR\\core_distributed_analysis.py:933: FutureWarning: The default dtype for empty Series will be 'object' instead of 'float64' in a future version. Specify a dtype explicitly to silence this warning.\n",
      "  Qp = pd.Series({})\n",
      "\n"
     ]
    },
    {
     "name": "stdout",
     "output_type": "stream",
     "text": [
      "\t\tEnergy fraction (Lj over Lj&Cj)= 98.16%\n",
      "\tjj2             0.988311  (+)        0.0184812\n",
      "\t\t(U_tot_cap-U_tot_ind)/mean=0.93%\n",
      "Calculating Qdielectric_main for mode 2 (2/3)\n"
     ]
    },
    {
     "name": "stderr",
     "output_type": "stream",
     "text": [
      "WARNING:py.warnings:c:\\Users\\slab\\anaconda3\\envs\\qmetal\\lib\\site-packages\\pyEPR\\core_distributed_analysis.py:1307: FutureWarning: The series.append method is deprecated and will be removed from pandas in a future version. Use pandas.concat instead.\n",
      "  sol = sol.append(self.get_Qdielectric(\n",
      "\n",
      "WARNING:py.warnings:c:\\Users\\slab\\anaconda3\\envs\\qmetal\\lib\\site-packages\\pyEPR\\core_distributed_analysis.py:1245: FutureWarning: The default dtype for empty Series will be 'object' instead of 'float64' in a future version. Specify a dtype explicitly to silence this warning.\n",
      "  _Om = pd.Series({})\n",
      "\n"
     ]
    },
    {
     "name": "stdout",
     "output_type": "stream",
     "text": [
      "p_dielectric_main_2 = 0.9132796102965752\n",
      "\n",
      "  \u001b[1mMode 3 at 5.85 GHz   [4/4]\u001b[0m\n",
      "    Calculating ℰ_magnetic,ℰ_electric\n"
     ]
    },
    {
     "name": "stderr",
     "output_type": "stream",
     "text": [
      "WARNING:py.warnings:c:\\Users\\slab\\anaconda3\\envs\\qmetal\\lib\\site-packages\\pyEPR\\core_distributed_analysis.py:981: FutureWarning: The default dtype for empty Series will be 'object' instead of 'float64' in a future version. Specify a dtype explicitly to silence this warning.\n",
      "  Sj = pd.Series({})\n",
      "\n"
     ]
    },
    {
     "name": "stdout",
     "output_type": "stream",
     "text": [
      "       (ℰ_E-ℰ_H)/ℰ_E       ℰ_E       ℰ_H\n",
      "                0.4%  9.247e-25  9.21e-25\n",
      "\n",
      "    Calculating junction energy participation ration (EPR)\n",
      "\tmethod=`line_voltage`. First estimates:\n",
      "\tjunction        EPR p_3j   sign s_3j    (p_capacitive)\n",
      "\t\tEnergy fraction (Lj over Lj&Cj)= 96.61%\n",
      "\tjj1             0.00399299  (+)        0.000140306\n"
     ]
    },
    {
     "name": "stderr",
     "output_type": "stream",
     "text": [
      "WARNING:py.warnings:c:\\Users\\slab\\anaconda3\\envs\\qmetal\\lib\\site-packages\\pyEPR\\core_distributed_analysis.py:933: FutureWarning: The default dtype for empty Series will be 'object' instead of 'float64' in a future version. Specify a dtype explicitly to silence this warning.\n",
      "  Qp = pd.Series({})\n",
      "\n"
     ]
    },
    {
     "name": "stdout",
     "output_type": "stream",
     "text": [
      "\t\tEnergy fraction (Lj over Lj&Cj)= 96.61%\n",
      "\tjj2             3.97004e-06  (+)        1.395e-07\n",
      "\t\t(U_tot_cap-U_tot_ind)/mean=0.01%\n",
      "Calculating Qdielectric_main for mode 3 (3/3)\n"
     ]
    },
    {
     "name": "stderr",
     "output_type": "stream",
     "text": [
      "WARNING:py.warnings:c:\\Users\\slab\\anaconda3\\envs\\qmetal\\lib\\site-packages\\pyEPR\\core_distributed_analysis.py:1307: FutureWarning: The series.append method is deprecated and will be removed from pandas in a future version. Use pandas.concat instead.\n",
      "  sol = sol.append(self.get_Qdielectric(\n",
      "\n"
     ]
    },
    {
     "name": "stdout",
     "output_type": "stream",
     "text": [
      "p_dielectric_main_3 = 0.9402881856171698\n"
     ]
    },
    {
     "name": "stderr",
     "output_type": "stream",
     "text": [
      "WARNING:py.warnings:c:\\Users\\slab\\anaconda3\\envs\\qmetal\\lib\\site-packages\\pyEPR\\project_info.py:239: FutureWarning: The default dtype for empty Series will be 'object' instead of 'float64' in a future version. Specify a dtype explicitly to silence this warning.\n",
      "  options=pd.Series(get_instance_vars(self.options)),\n",
      "\n",
      "WARNING 02:28PM [__init__]: <p>Error: <class 'IndexError'></p>\n"
     ]
    },
    {
     "name": "stdout",
     "output_type": "stream",
     "text": [
      "\n",
      "ANALYSIS DONE. Data saved to:\n",
      "\n",
      "C:\\data-pyEPR\\Project30\\all_freqs_hfss\\2023-03-03 14-28-11.npz\n",
      "\n",
      "\n",
      "\t Differences in variations:\n",
      "\n",
      "\n",
      "\n",
      " . . . . . . . . . . . . . . . . . . . . . . . . . . . . . . . . . . . . . . . . \n",
      "Variation 0\n",
      "\n",
      "Starting the diagonalization\n",
      "Finished the diagonalization\n"
     ]
    },
    {
     "name": "stderr",
     "output_type": "stream",
     "text": [
      "WARNING:py.warnings:c:\\Users\\slab\\anaconda3\\envs\\qmetal\\lib\\site-packages\\pyEPR\\core_quantum_analysis.py:712: FutureWarning: Support for multi-dimensional indexing (e.g. `obj[:, None]`) is deprecated and will be removed in a future version.  Convert to a numpy array before indexing instead.\n",
      "  result['Q_coupling'] = self.Qm_coupling[variation][self.Qm_coupling[variation].columns[junctions]][modes]#TODO change the columns to junctions\n",
      "\n",
      "WARNING:py.warnings:c:\\Users\\slab\\anaconda3\\envs\\qmetal\\lib\\site-packages\\pyEPR\\core_quantum_analysis.py:717: FutureWarning: Support for multi-dimensional indexing (e.g. `obj[:, None]`) is deprecated and will be removed in a future version.  Convert to a numpy array before indexing instead.\n",
      "  result['Qs'] = self.Qs[variation][self.PM[variation].columns[junctions]][modes] #TODO change the columns to junctions\n",
      "\n"
     ]
    },
    {
     "name": "stdout",
     "output_type": "stream",
     "text": [
      "Pm_norm=\n",
      "modes\n",
      "0    1.330159\n",
      "1    1.017160\n",
      "2    1.018930\n",
      "3    1.015496\n",
      "dtype: float64\n",
      "\n",
      "Pm_norm idx =\n",
      "     jj1    jj2\n",
      "0  False  False\n",
      "1   True  False\n",
      "2  False   True\n",
      "3  False  False\n",
      "*** P (participation matrix, not normlz.)\n",
      "            jj1           jj2\n",
      "0  1.402964e-07  1.382768e-08\n",
      "1  9.718591e-01  1.420492e-03\n",
      "2  1.393489e-03  9.703520e-01\n",
      "3  3.992427e-03  3.969482e-06\n",
      "\n",
      "*** S (sign-bit matrix)\n",
      "   s_jj1  s_jj2\n",
      "0      1     -1\n",
      "1      1     -1\n",
      "2      1      1\n",
      "3      1      1\n",
      "*** P (participation matrix, normalized.)\n",
      "   1.4e-07  1.4e-08\n",
      "      0.99   0.0014\n",
      "    0.0014     0.99\n",
      "     0.004    4e-06\n",
      "\n",
      "*** Chi matrix O1 PT (MHz)\n",
      "    Diag is anharmonicity, off diag is full cross-Kerr.\n",
      "  2.86e-12 4.26e-05 4.47e-06 2.48e-07\n",
      "  4.26e-05      160    0.959     1.86\n",
      "  4.47e-06    0.959      177  0.00471\n",
      "  2.48e-07     1.86  0.00471  0.00542\n",
      "\n",
      "*** Chi matrix ND (MHz) \n",
      "  1.17e-08-0.000411 5.44e-05 1.78e-06\n",
      " -0.000411      176    -8.76     1.58\n",
      "  5.44e-05    -8.76      204  0.00407\n",
      "  1.78e-06     1.58  0.00407  0.00395\n",
      "\n",
      "*** Frequencies O1 PT (MHz)\n",
      "0    3802.041298\n",
      "1    3898.865727\n",
      "2    4090.737870\n",
      "3    5849.968913\n",
      "dtype: float64\n",
      "\n",
      "*** Frequencies ND (MHz)\n",
      "0    3802.041252\n",
      "1    3891.700675\n",
      "2    4082.639495\n",
      "3    5850.011415\n",
      "dtype: float64\n",
      "\n",
      "*** Q_coupling\n",
      "Empty DataFrame\n",
      "Columns: []\n",
      "Index: [0, 1, 2, 3]\n"
     ]
    },
    {
     "data": {
      "text/markdown": [
       "#### Mode frequencies (MHz)"
      ],
      "text/plain": [
       "<IPython.core.display.Markdown object>"
      ]
     },
     "metadata": {},
     "output_type": "display_data"
    },
    {
     "data": {
      "text/markdown": [
       "###### Numerical diagonalization"
      ],
      "text/plain": [
       "<IPython.core.display.Markdown object>"
      ]
     },
     "metadata": {},
     "output_type": "display_data"
    },
    {
     "data": {
      "text/html": [
       "<div>\n",
       "<style scoped>\n",
       "    .dataframe tbody tr th:only-of-type {\n",
       "        vertical-align: middle;\n",
       "    }\n",
       "\n",
       "    .dataframe tbody tr th {\n",
       "        vertical-align: top;\n",
       "    }\n",
       "\n",
       "    .dataframe thead th {\n",
       "        text-align: right;\n",
       "    }\n",
       "</style>\n",
       "<table border=\"1\" class=\"dataframe\">\n",
       "  <thead>\n",
       "    <tr style=\"text-align: right;\">\n",
       "      <th>Lj1</th>\n",
       "      <th>13</th>\n",
       "    </tr>\n",
       "  </thead>\n",
       "  <tbody>\n",
       "    <tr>\n",
       "      <th>0</th>\n",
       "      <td>3802.04</td>\n",
       "    </tr>\n",
       "    <tr>\n",
       "      <th>1</th>\n",
       "      <td>3891.70</td>\n",
       "    </tr>\n",
       "    <tr>\n",
       "      <th>2</th>\n",
       "      <td>4082.64</td>\n",
       "    </tr>\n",
       "    <tr>\n",
       "      <th>3</th>\n",
       "      <td>5850.01</td>\n",
       "    </tr>\n",
       "  </tbody>\n",
       "</table>\n",
       "</div>"
      ],
      "text/plain": [
       "Lj1       13\n",
       "0    3802.04\n",
       "1    3891.70\n",
       "2    4082.64\n",
       "3    5850.01"
      ]
     },
     "metadata": {},
     "output_type": "display_data"
    },
    {
     "data": {
      "text/markdown": [
       "#### Kerr Non-linear coefficient table (MHz)"
      ],
      "text/plain": [
       "<IPython.core.display.Markdown object>"
      ]
     },
     "metadata": {},
     "output_type": "display_data"
    },
    {
     "data": {
      "text/markdown": [
       "###### Numerical diagonalization"
      ],
      "text/plain": [
       "<IPython.core.display.Markdown object>"
      ]
     },
     "metadata": {},
     "output_type": "display_data"
    },
    {
     "data": {
      "text/html": [
       "<div>\n",
       "<style scoped>\n",
       "    .dataframe tbody tr th:only-of-type {\n",
       "        vertical-align: middle;\n",
       "    }\n",
       "\n",
       "    .dataframe tbody tr th {\n",
       "        vertical-align: top;\n",
       "    }\n",
       "\n",
       "    .dataframe thead th {\n",
       "        text-align: right;\n",
       "    }\n",
       "</style>\n",
       "<table border=\"1\" class=\"dataframe\">\n",
       "  <thead>\n",
       "    <tr style=\"text-align: right;\">\n",
       "      <th></th>\n",
       "      <th></th>\n",
       "      <th>0</th>\n",
       "      <th>1</th>\n",
       "      <th>2</th>\n",
       "      <th>3</th>\n",
       "    </tr>\n",
       "    <tr>\n",
       "      <th>Lj1</th>\n",
       "      <th></th>\n",
       "      <th></th>\n",
       "      <th></th>\n",
       "      <th></th>\n",
       "      <th></th>\n",
       "    </tr>\n",
       "  </thead>\n",
       "  <tbody>\n",
       "    <tr>\n",
       "      <th rowspan=\"4\" valign=\"top\">13</th>\n",
       "      <th>0</th>\n",
       "      <td>1.17e-08</td>\n",
       "      <td>-4.11e-04</td>\n",
       "      <td>5.44e-05</td>\n",
       "      <td>1.78e-06</td>\n",
       "    </tr>\n",
       "    <tr>\n",
       "      <th>1</th>\n",
       "      <td>-4.11e-04</td>\n",
       "      <td>1.76e+02</td>\n",
       "      <td>-8.76e+00</td>\n",
       "      <td>1.58e+00</td>\n",
       "    </tr>\n",
       "    <tr>\n",
       "      <th>2</th>\n",
       "      <td>5.44e-05</td>\n",
       "      <td>-8.76e+00</td>\n",
       "      <td>2.04e+02</td>\n",
       "      <td>4.07e-03</td>\n",
       "    </tr>\n",
       "    <tr>\n",
       "      <th>3</th>\n",
       "      <td>1.78e-06</td>\n",
       "      <td>1.58e+00</td>\n",
       "      <td>4.07e-03</td>\n",
       "      <td>3.95e-03</td>\n",
       "    </tr>\n",
       "  </tbody>\n",
       "</table>\n",
       "</div>"
      ],
      "text/plain": [
       "              0         1         2         3\n",
       "Lj1                                          \n",
       "13  0  1.17e-08 -4.11e-04  5.44e-05  1.78e-06\n",
       "    1 -4.11e-04  1.76e+02 -8.76e+00  1.58e+00\n",
       "    2  5.44e-05 -8.76e+00  2.04e+02  4.07e-03\n",
       "    3  1.78e-06  1.58e+00  4.07e-03  3.95e-03"
      ]
     },
     "metadata": {},
     "output_type": "display_data"
    }
   ],
   "source": [
    "del eig_all.setup.junctions['jj']\n",
    "eig_all.setup.junctions.jj1 = Dict(rect='JJ_rect_Lj_Q1_rect_jj', line='JJ_Lj_Q1_rect_jj_',\n",
    "                Lj_variable='Lj1', Cj_variable='Cj1')\n",
    "eig_all.setup.junctions.jj2 = Dict(rect='JJ_rect_Lj_Q2_rect_jj', line='JJ_Lj_Q2_rect_jj_',\n",
    "                Lj_variable='Lj2', Cj_variable='Cj2')\n",
    "eig_all.setup.sweep_variable = 'Lj1'\n",
    "eig_all.run_epr()\n",
    "\n",
    "chi = eig_all.sim.renderer.epr_quantum_analysis.get_chis().to_numpy()[0][0]\n",
    "freq_EPR= eig_all.sim.renderer.epr_quantum_analysis.get_frequencies().to_numpy()[0][0]"
   ]
  },
  {
   "cell_type": "code",
   "execution_count": null,
   "metadata": {},
   "outputs": [],
   "source": []
  },
  {
   "attachments": {},
   "cell_type": "markdown",
   "metadata": {},
   "source": [
    "# A huge loop"
   ]
  },
  {
   "cell_type": "code",
   "execution_count": 19,
   "metadata": {},
   "outputs": [],
   "source": [
    "xs = np.linspace(0.65,14.5,10)\n",
    "components = ['Q1','Q2','cpw_1','cpw_2','TQ1','TQ2'] \n",
    "#we are not simulating the feedline here since it contains a mode close to the qubit frequency"
   ]
  },
  {
   "cell_type": "code",
   "execution_count": null,
   "metadata": {},
   "outputs": [],
   "source": []
  },
  {
   "cell_type": "code",
   "execution_count": 24,
   "metadata": {},
   "outputs": [],
   "source": [
    "hfss = eig_all.sim.renderer\n",
    "original = r'C:\\Users\\slab\\Desktop\\Wendy-qiskit-code\\ansys.png'\n",
    "path = r'C:\\Users\\slab\\Desktop\\Wendy-qiskit-code\\Ansys_screenshoots\\Simulation_0304'"
   ]
  },
  {
   "attachments": {},
   "cell_type": "markdown",
   "metadata": {},
   "source": [
    "debugging"
   ]
  },
  {
   "cell_type": "code",
   "execution_count": null,
   "metadata": {},
   "outputs": [],
   "source": [
    "datas = pd.DataFrame()\n",
    "mode = 0\n",
    "x = xs[0]\n",
    "data = {}\n",
    "nmodes = 6\n",
    "\n",
    "data['Pos1_x(mm)'] = 0\n",
    "data['Pos2_x(mm)'] = x\n",
    "\n",
    "design.delete_component('cpw_2')\n",
    "\n",
    "TQ2.options['pos_x'] = x-0.22\n",
    "q2.options['pos_x'] = x\n",
    "anchor = trans_p.anchor_CPW(q2, 150*u.um,0.05,2,last_offset = 0.4)\n",
    "# cpw2.options['anchors'] = anchor\n",
    "pin_inputs['start_pin']['component'] = 'Q2'\n",
    "pin_inputs['end_pin']['component'] = 'TQ2'\n",
    "CPW_options['pin_inputs'] = pin_inputs\n",
    "op = Dict(anchors = anchor, **CPW_options)\n",
    "cpw2 = RouteMixed(design, 'cpw_2', op)\n",
    "\n",
    "gui.rebuild()\n",
    "\n",
    "c = LOManalysis(design, \"q3d\")\n",
    "c.sim.setup.min_passes  = 10\n",
    "c.sim.setup.max_passes = 30\n",
    "c.sim.run(components=components_all)\n",
    "c.sim.capacitance_matrix \n",
    "\n",
    "c.sim._get_results_from_renderer()\n",
    "c_mat = c.sim.capacitance_matrix\n",
    "\n",
    "c1  = c_mat['a_connector_pad_Q1']['pad_top_Q1']\n",
    "c2  = c_mat['a_connector_pad_Q1']['pad_top_Q2']\n",
    "c12  = c_mat['pad_top_Q1']['pad_top_Q2']\n",
    "\n",
    "data['C_Q1_Q2(fF)'] = c12\n",
    "data['C_Q1_g(fF)'] = c1\n",
    "data['C_Q2_g(fF)'] = c2\n",
    "\n",
    "eig_all = EPRanalysis(design, 'hfss')\n",
    "\n",
    "hfss = eig_all.sim.renderer\n",
    "\n",
    "eig_all.sim.renderer.options['Lj'] = '13nH'\n",
    "eig_all.sim.renderer.options['Lj1'] = '13nH'\n",
    "eig_all.sim.renderer.options['Lj2'] = '13nH'\n",
    "eig_all.sim.renderer.options['wb_threshold'] = '72um'\n",
    "\n",
    "eig_all.sim.setup.max_passes = 40\n",
    "eig_all.sim.setup.max_delta_f = 0.05\n",
    "eig_all.sim.setup.n_modes = nmodes\n",
    "eig_all.sim.setup.vars = Dict(Lj1= '13 nH', Cj1= '0 fF',Lj2 = '13nH', Cj2 = '0fF')\n",
    "eig_all.sim.renderer.options['x_buffer_width_mm'] = 0.5\n",
    "eig_all.sim.renderer.options['y_buffer_width_mm'] = 0.5\n",
    "eig_all.sim.run(name=\"all_freqs\", components=components_all)#, open_terminations=[('Q1', 'a')])\n",
    "convergence = pd.read_csv('hfss_eig_f_convergence.csv')\n",
    "conv = convergence.dropna()\n",
    "\n",
    "ind = list(conv.keys())[1:]\n",
    "for i in range(nmodes):\n",
    "    freq = conv[ind[(i)]].values[-1]\n",
    "    data['Freq'+str(i+1)+'(GHz)'] = freq\n",
    "\n",
    "#save screenshots for future refrences\n",
    "for i in range(4):\n",
    "    hfss.modeler._modeler.ShowWindow()\n",
    "    hfss.set_mode(i+1,'Setup')\n",
    "    hfss.plot_ansys_fields('main')\n",
    "    hfss.save_screenshot()\n",
    "    hfss.clear_fields(['main'])\n",
    "    \n",
    "    actual = r'C:\\Users\\slab\\Desktop\\Wendy-qiskit-code\\s{}_m{}.png'.format(mode,i)\n",
    "\n",
    "    os.rename(original, actual)\n",
    "    dest = shutil.move(actual, path)\n",
    "#Run the EPR analysis\n",
    "del eig_all.setup.junctions['jj']\n",
    "eig_all.setup.junctions.jj1 = Dict(rect='JJ_rect_Lj_Q1_rect_jj', line='JJ_Lj_Q1_rect_jj_',\n",
    "                Lj_variable='Lj1', Cj_variable='Cj1')\n",
    "eig_all.setup.junctions.jj2 = Dict(rect='JJ_rect_Lj_Q2_rect_jj', line='JJ_Lj_Q2_rect_jj_',\n",
    "                Lj_variable='Lj2', Cj_variable='Cj2')\n",
    "eig_all.setup.sweep_variable = 'Lj1'\n",
    "eig_all.run_epr()\n",
    "\n",
    "#Save the EPR data\n",
    "chi = eig_all.sim.renderer.epr_quantum_analysis.get_chis().to_numpy()\n",
    "freq_EPR= eig_all.sim.renderer.epr_quantum_analysis.get_frequencies().to_numpy()[:,0]\n",
    "for i in range(nmodes):\n",
    "    freq = freq_EPR[i]\n",
    "    data['Freq_EPR'+str(i+1)+'(GHz)'] = freq\n",
    "    for j in range(i):\n",
    "        data['Chi'+str(i+1)+'_'+str(j+1)+'(MHz)'] = chi[i][j]\n",
    "\n",
    "dat = pd.DataFrame(data, index = [0])\n",
    "datas = pd.concat([datas,dat], ignore_index=True)\n",
    "\n",
    "\n",
    "datas.to_csv('data\\Two_QB_distance.csv')\n",
    "    "
   ]
  },
  {
   "cell_type": "code",
   "execution_count": null,
   "metadata": {},
   "outputs": [],
   "source": []
  },
  {
   "cell_type": "code",
   "execution_count": null,
   "metadata": {},
   "outputs": [],
   "source": []
  },
  {
   "cell_type": "code",
   "execution_count": null,
   "metadata": {},
   "outputs": [],
   "source": []
  },
  {
   "attachments": {},
   "cell_type": "markdown",
   "metadata": {},
   "source": [
    "Loop actual"
   ]
  },
  {
   "cell_type": "code",
   "execution_count": 25,
   "metadata": {},
   "outputs": [
    {
     "name": "stderr",
     "output_type": "stream",
     "text": [
      "INFO 05:22PM [connect_design]: \tOpened active design\n",
      "\tDesign:    Design_q3d [Solution type: Q3D]\n",
      "INFO 05:35PM [get_setup]: \tOpened setup `Setup`  (<class 'pyEPR.ansys.AnsysQ3DSetup'>)\n",
      "INFO 05:35PM [analyze]: Analyzing setup Setup\n",
      "INFO 05:43PM [get_matrix]: Exporting matrix data to (C:\\Users\\slab\\AppData\\Local\\Temp\\tmp8gjdaw3q.txt, C, , Setup:LastAdaptive, \"Original\", \"ohm\", \"nH\", \"fF\", \"mSie\", 5000000000, Maxwell, 1, False\n",
      "INFO 05:43PM [get_matrix]: Exporting matrix data to (C:\\Users\\slab\\AppData\\Local\\Temp\\tmpv1bm5da1.txt, C, , Setup:AdaptivePass, \"Original\", \"ohm\", \"nH\", \"fF\", \"mSie\", 5000000000, Maxwell, 1, False\n",
      "INFO 05:43PM [get_matrix]: Exporting matrix data to (C:\\Users\\slab\\AppData\\Local\\Temp\\tmp2yrdfefc.txt, C, , Setup:AdaptivePass, \"Original\", \"ohm\", \"nH\", \"fF\", \"mSie\", 5000000000, Maxwell, 2, False\n",
      "INFO 05:43PM [get_matrix]: Exporting matrix data to (C:\\Users\\slab\\AppData\\Local\\Temp\\tmpq01mnsfj.txt, C, , Setup:AdaptivePass, \"Original\", \"ohm\", \"nH\", \"fF\", \"mSie\", 5000000000, Maxwell, 3, False\n",
      "INFO 05:43PM [get_matrix]: Exporting matrix data to (C:\\Users\\slab\\AppData\\Local\\Temp\\tmp7d3dwl9g.txt, C, , Setup:AdaptivePass, \"Original\", \"ohm\", \"nH\", \"fF\", \"mSie\", 5000000000, Maxwell, 4, False\n",
      "INFO 05:43PM [get_matrix]: Exporting matrix data to (C:\\Users\\slab\\AppData\\Local\\Temp\\tmp062mbeo0.txt, C, , Setup:AdaptivePass, \"Original\", \"ohm\", \"nH\", \"fF\", \"mSie\", 5000000000, Maxwell, 5, False\n",
      "INFO 05:43PM [get_matrix]: Exporting matrix data to (C:\\Users\\slab\\AppData\\Local\\Temp\\tmpi5s10jtl.txt, C, , Setup:AdaptivePass, \"Original\", \"ohm\", \"nH\", \"fF\", \"mSie\", 5000000000, Maxwell, 6, False\n",
      "INFO 05:43PM [get_matrix]: Exporting matrix data to (C:\\Users\\slab\\AppData\\Local\\Temp\\tmpuxi438k3.txt, C, , Setup:AdaptivePass, \"Original\", \"ohm\", \"nH\", \"fF\", \"mSie\", 5000000000, Maxwell, 7, False\n",
      "INFO 05:43PM [get_matrix]: Exporting matrix data to (C:\\Users\\slab\\AppData\\Local\\Temp\\tmp60z_4o7w.txt, C, , Setup:AdaptivePass, \"Original\", \"ohm\", \"nH\", \"fF\", \"mSie\", 5000000000, Maxwell, 8, False\n",
      "INFO 05:43PM [get_matrix]: Exporting matrix data to (C:\\Users\\slab\\AppData\\Local\\Temp\\tmpxn14kv35.txt, C, , Setup:AdaptivePass, \"Original\", \"ohm\", \"nH\", \"fF\", \"mSie\", 5000000000, Maxwell, 9, False\n",
      "INFO 05:43PM [get_matrix]: Exporting matrix data to (C:\\Users\\slab\\AppData\\Local\\Temp\\tmpta6_m7sn.txt, C, , Setup:AdaptivePass, \"Original\", \"ohm\", \"nH\", \"fF\", \"mSie\", 5000000000, Maxwell, 10, False\n",
      "INFO 05:43PM [get_matrix]: Exporting matrix data to (C:\\Users\\slab\\AppData\\Local\\Temp\\tmp6kff3i35.txt, C, , Setup:AdaptivePass, \"Original\", \"ohm\", \"nH\", \"fF\", \"mSie\", 5000000000, Maxwell, 11, False\n",
      "INFO 05:43PM [get_matrix]: Exporting matrix data to (C:\\Users\\slab\\AppData\\Local\\Temp\\tmp7753piy5.txt, C, , Setup:AdaptivePass, \"Original\", \"ohm\", \"nH\", \"fF\", \"mSie\", 5000000000, Maxwell, 12, False\n",
      "INFO 05:43PM [get_matrix]: Exporting matrix data to (C:\\Users\\slab\\AppData\\Local\\Temp\\tmpova24i74.txt, C, , Setup:AdaptivePass, \"Original\", \"ohm\", \"nH\", \"fF\", \"mSie\", 5000000000, Maxwell, 13, False\n",
      "INFO 05:43PM [get_matrix]: Exporting matrix data to (C:\\Users\\slab\\AppData\\Local\\Temp\\tmppoau4eto.txt, C, , Setup:LastAdaptive, \"Original\", \"ohm\", \"nH\", \"fF\", \"mSie\", 5000000000, Maxwell, 1, False\n",
      "INFO 05:43PM [get_matrix]: Exporting matrix data to (C:\\Users\\slab\\AppData\\Local\\Temp\\tmpfp2uxaz4.txt, C, , Setup:AdaptivePass, \"Original\", \"ohm\", \"nH\", \"fF\", \"mSie\", 5000000000, Maxwell, 1, False\n",
      "INFO 05:43PM [get_matrix]: Exporting matrix data to (C:\\Users\\slab\\AppData\\Local\\Temp\\tmp45p3b6tk.txt, C, , Setup:AdaptivePass, \"Original\", \"ohm\", \"nH\", \"fF\", \"mSie\", 5000000000, Maxwell, 2, False\n",
      "INFO 05:43PM [get_matrix]: Exporting matrix data to (C:\\Users\\slab\\AppData\\Local\\Temp\\tmpcz39hn9f.txt, C, , Setup:AdaptivePass, \"Original\", \"ohm\", \"nH\", \"fF\", \"mSie\", 5000000000, Maxwell, 3, False\n",
      "INFO 05:43PM [get_matrix]: Exporting matrix data to (C:\\Users\\slab\\AppData\\Local\\Temp\\tmpjb72mjel.txt, C, , Setup:AdaptivePass, \"Original\", \"ohm\", \"nH\", \"fF\", \"mSie\", 5000000000, Maxwell, 4, False\n",
      "INFO 05:43PM [get_matrix]: Exporting matrix data to (C:\\Users\\slab\\AppData\\Local\\Temp\\tmpo_dq5lwf.txt, C, , Setup:AdaptivePass, \"Original\", \"ohm\", \"nH\", \"fF\", \"mSie\", 5000000000, Maxwell, 5, False\n",
      "INFO 05:43PM [get_matrix]: Exporting matrix data to (C:\\Users\\slab\\AppData\\Local\\Temp\\tmpxyne_5v3.txt, C, , Setup:AdaptivePass, \"Original\", \"ohm\", \"nH\", \"fF\", \"mSie\", 5000000000, Maxwell, 6, False\n",
      "INFO 05:43PM [get_matrix]: Exporting matrix data to (C:\\Users\\slab\\AppData\\Local\\Temp\\tmpe3pomb_1.txt, C, , Setup:AdaptivePass, \"Original\", \"ohm\", \"nH\", \"fF\", \"mSie\", 5000000000, Maxwell, 7, False\n",
      "INFO 05:43PM [get_matrix]: Exporting matrix data to (C:\\Users\\slab\\AppData\\Local\\Temp\\tmpefhfop37.txt, C, , Setup:AdaptivePass, \"Original\", \"ohm\", \"nH\", \"fF\", \"mSie\", 5000000000, Maxwell, 8, False\n",
      "INFO 05:43PM [get_matrix]: Exporting matrix data to (C:\\Users\\slab\\AppData\\Local\\Temp\\tmpqld2nfjn.txt, C, , Setup:AdaptivePass, \"Original\", \"ohm\", \"nH\", \"fF\", \"mSie\", 5000000000, Maxwell, 9, False\n",
      "INFO 05:43PM [get_matrix]: Exporting matrix data to (C:\\Users\\slab\\AppData\\Local\\Temp\\tmpg91aic_e.txt, C, , Setup:AdaptivePass, \"Original\", \"ohm\", \"nH\", \"fF\", \"mSie\", 5000000000, Maxwell, 10, False\n",
      "INFO 05:43PM [get_matrix]: Exporting matrix data to (C:\\Users\\slab\\AppData\\Local\\Temp\\tmpv0kxdipo.txt, C, , Setup:AdaptivePass, \"Original\", \"ohm\", \"nH\", \"fF\", \"mSie\", 5000000000, Maxwell, 11, False\n",
      "INFO 05:43PM [get_matrix]: Exporting matrix data to (C:\\Users\\slab\\AppData\\Local\\Temp\\tmpi_mr4n_m.txt, C, , Setup:AdaptivePass, \"Original\", \"ohm\", \"nH\", \"fF\", \"mSie\", 5000000000, Maxwell, 12, False\n",
      "INFO 05:43PM [get_matrix]: Exporting matrix data to (C:\\Users\\slab\\AppData\\Local\\Temp\\tmpj5vz3kst.txt, C, , Setup:AdaptivePass, \"Original\", \"ohm\", \"nH\", \"fF\", \"mSie\", 5000000000, Maxwell, 13, False\n",
      "INFO 05:43PM [connect_design]: \tOpened active design\n",
      "\tDesign:    all_freqs_hfss [Solution type: Eigenmode]\n",
      "INFO 05:48PM [get_setup]: \tOpened setup `Setup`  (<class 'pyEPR.ansys.HfssEMSetup'>)\n",
      "INFO 05:48PM [analyze]: Analyzing setup Setup\n"
     ]
    },
    {
     "ename": "",
     "evalue": "",
     "output_type": "error",
     "traceback": [
      "\u001b[1;31mCanceled future for execute_request message before replies were done"
     ]
    },
    {
     "ename": "",
     "evalue": "",
     "output_type": "error",
     "traceback": [
      "\u001b[1;31mThe Kernel crashed while executing code in the the current cell or a previous cell. Please review the code in the cell(s) to identify a possible cause of the failure. Click <a href='https://aka.ms/vscodeJupyterKernelCrash'>here</a> for more info. View Jupyter <a href='command:jupyter.viewOutput'>log</a> for further details."
     ]
    }
   ],
   "source": [
    "datas = pd.DataFrame()\n",
    "for mode, x in enumerate(xs):\n",
    "    data = {}\n",
    "    nmodes = 6\n",
    "\n",
    "    data['Pos1_x(mm)'] = 0\n",
    "    data['Pos2_x(mm)'] = x\n",
    "    \n",
    "    design.delete_component('cpw_2')\n",
    "    \n",
    "    TQ2.options['pos_x'] = x-0.22\n",
    "    q2.options['pos_x'] = x\n",
    "    anchor = trans_p.anchor_CPW(q2, 150*u.um,0.05,2,last_offset = 0.4)\n",
    "    # cpw2.options['anchors'] = anchor\n",
    "    pin_inputs['start_pin']['component'] = 'Q2'\n",
    "    pin_inputs['end_pin']['component'] = 'TQ2'\n",
    "    CPW_options['pin_inputs'] = pin_inputs\n",
    "    op = Dict(anchors = anchor, **CPW_options)\n",
    "    cpw2 = RouteMixed(design, 'cpw_2', op)\n",
    "\n",
    "    gui.rebuild()\n",
    "    \n",
    "    c = LOManalysis(design, \"q3d\")\n",
    "    c.sim.setup.min_passes  = 10\n",
    "    c.sim.setup.max_passes = 30\n",
    "    c.sim.run(components=components_all)\n",
    "    c.sim.capacitance_matrix \n",
    "\n",
    "    c.sim._get_results_from_renderer()\n",
    "    c_mat = c.sim.capacitance_matrix\n",
    "    \n",
    "    c1  = c_mat['a_connector_pad_Q1']['pad_top_Q1']\n",
    "    c2  = c_mat['a_connector_pad_Q1']['pad_top_Q2']\n",
    "    c12  = c_mat['pad_top_Q1']['pad_top_Q2']\n",
    "\n",
    "    data['C_Q1_Q2(fF)'] = c12\n",
    "    data['C_Q1_g(fF)'] = c1\n",
    "    data['C_Q2_g(fF)'] = c2\n",
    "    \n",
    "    eig_all = EPRanalysis(design, 'hfss')\n",
    "\n",
    "    hfss = eig_all.sim.renderer\n",
    "\n",
    "    eig_all.sim.renderer.options['Lj'] = '13nH'\n",
    "    eig_all.sim.renderer.options['Lj1'] = '13nH'\n",
    "    eig_all.sim.renderer.options['Lj2'] = '13nH'\n",
    "    eig_all.sim.renderer.options['wb_threshold'] = '72um'\n",
    "\n",
    "    eig_all.sim.setup.max_passes = 40\n",
    "    eig_all.sim.setup.max_delta_f = 0.05\n",
    "    eig_all.sim.setup.n_modes = nmodes\n",
    "    eig_all.sim.setup.vars = Dict(Lj1= '13 nH', Cj1= '0 fF',Lj2 = '13nH', Cj2 = '0fF')\n",
    "    eig_all.sim.renderer.options['x_buffer_width_mm'] = 0.5\n",
    "    eig_all.sim.renderer.options['y_buffer_width_mm'] = 0.5\n",
    "    eig_all.sim.run(name=\"all_freqs\", components=components_all)#, open_terminations=[('Q1', 'a')])\n",
    "    convergence = pd.read_csv('hfss_eig_f_convergence.csv')\n",
    "    conv = convergence.dropna()\n",
    "    \n",
    "    ind = list(conv.keys())[1:]\n",
    "    for i in range(nmodes):\n",
    "        freq = conv[ind[(i)]].values[-1]\n",
    "        data['Freq'+str(i+1)+'(GHz)'] = freq\n",
    "    \n",
    "    #save screenshots for future refrences\n",
    "    for i in range(4):\n",
    "        hfss.modeler._modeler.ShowWindow()\n",
    "        hfss.set_mode(i+1,'Setup')\n",
    "        hfss.plot_ansys_fields('main')\n",
    "        hfss.save_screenshot()\n",
    "        hfss.clear_fields(['main'])\n",
    "        \n",
    "        actual = r'C:\\Users\\slab\\Desktop\\Wendy-qiskit-code\\s{}_m{}.png'.format(mode,i)\n",
    "\n",
    "        os.rename(original, actual)\n",
    "        dest = shutil.move(actual, path)\n",
    "    #Run the EPR analysis\n",
    "    del eig_all.setup.junctions['jj']\n",
    "    eig_all.setup.junctions.jj1 = Dict(rect='JJ_rect_Lj_Q1_rect_jj', line='JJ_Lj_Q1_rect_jj_',\n",
    "                    Lj_variable='Lj1', Cj_variable='Cj1')\n",
    "    eig_all.setup.junctions.jj2 = Dict(rect='JJ_rect_Lj_Q2_rect_jj', line='JJ_Lj_Q2_rect_jj_',\n",
    "                    Lj_variable='Lj2', Cj_variable='Cj2')\n",
    "    eig_all.setup.sweep_variable = 'Lj1'\n",
    "    eig_all.run_epr()\n",
    "\n",
    "    #Save the EPR data\n",
    "    chi = eig_all.sim.renderer.epr_quantum_analysis.get_chis().to_numpy()\n",
    "    freq_EPR= eig_all.sim.renderer.epr_quantum_analysis.get_frequencies().to_numpy()[:,0]\n",
    "    for i in range(nmodes):\n",
    "        freq = freq_EPR[i]\n",
    "        data['Freq_EPR'+str(i+1)+'(GHz)'] = freq\n",
    "        for j in range(i):\n",
    "            data['Chi'+str(i+1)+'_'+str(j+1)+'(MHz)'] = chi[i][j]\n",
    "    \n",
    "    dat = pd.DataFrame(data, index = [0])\n",
    "    datas = pd.concat([datas,dat], ignore_index=True)\n",
    "\n",
    "\n",
    "    datas.to_csv('data\\Two_QB_distance.csv')\n",
    "    "
   ]
  },
  {
   "attachments": {},
   "cell_type": "markdown",
   "metadata": {},
   "source": [
    "end of loop woohoo"
   ]
  },
  {
   "cell_type": "code",
   "execution_count": null,
   "metadata": {},
   "outputs": [],
   "source": [
    "hfss.set_mode(4,'Setup')\n",
    "hfss.plot_ansys_fields('main')\n",
    "hfss.save_screenshot()"
   ]
  },
  {
   "cell_type": "code",
   "execution_count": 43,
   "metadata": {},
   "outputs": [],
   "source": [
    "hfss.clear_fields(['main'])"
   ]
  },
  {
   "cell_type": "code",
   "execution_count": 61,
   "metadata": {},
   "outputs": [
    {
     "data": {
      "text/plain": [
       "{'Pos1_x(mm)': [0, 0],\n",
       " 'Pos2_x(mm)': [0.65, 2.1888888888888887],\n",
       " 'C_Q1_Q2(fF)': [-0.50182, -0.00764],\n",
       " 'C_Q1_g(fF)': [-106.47803, -107.19653],\n",
       " 'C_Q2_g(fF)': [-97.18247]}"
      ]
     },
     "execution_count": 61,
     "metadata": {},
     "output_type": "execute_result"
    }
   ],
   "source": [
    "data\n"
   ]
  },
  {
   "cell_type": "code",
   "execution_count": 45,
   "metadata": {},
   "outputs": [],
   "source": [
    "hfss.clear_fields(['Mag_E1'])"
   ]
  },
  {
   "cell_type": "code",
   "execution_count": 56,
   "metadata": {},
   "outputs": [],
   "source": [
    "\n"
   ]
  },
  {
   "cell_type": "code",
   "execution_count": 57,
   "metadata": {},
   "outputs": [],
   "source": [
    "\n"
   ]
  },
  {
   "cell_type": "code",
   "execution_count": 36,
   "metadata": {},
   "outputs": [],
   "source": [
    "cpw2.options['anchors'] = anchor\n",
    "gui.rebuild()"
   ]
  },
  {
   "cell_type": "code",
   "execution_count": 178,
   "metadata": {},
   "outputs": [
    {
     "data": {
      "text/plain": [
       "array([3869.48716432, 4082.7766546 , 5616.73862079, 6380.49308485])"
      ]
     },
     "execution_count": 178,
     "metadata": {},
     "output_type": "execute_result"
    }
   ],
   "source": [
    "eig_all.sim.renderer.epr_quantum_analysis.get_frequencies().to_numpy()[:,0]"
   ]
  },
  {
   "cell_type": "code",
   "execution_count": null,
   "metadata": {},
   "outputs": [],
   "source": []
  },
  {
   "cell_type": "code",
   "execution_count": 456,
   "metadata": {},
   "outputs": [],
   "source": [
    "import qutip as q\n",
    "import numpy as np\n",
    "import matplotlib.pyplot as plt\n",
    "import astropy.units as u\n",
    "import astropy.constants as c\n",
    "import scipy.linalg as lin"
   ]
  },
  {
   "cell_type": "code",
   "execution_count": 487,
   "metadata": {},
   "outputs": [],
   "source": [
    "r = lin.eig(lin.inv(C)@(L))\n"
   ]
  },
  {
   "cell_type": "code",
   "execution_count": 488,
   "metadata": {},
   "outputs": [
    {
     "data": {
      "text/plain": [
       "array([29.48697281+0.j, 33.54183529+0.j])"
      ]
     },
     "execution_count": 488,
     "metadata": {},
     "output_type": "execute_result"
    }
   ],
   "source": [
    "np.sqrt(r[0])*1000"
   ]
  },
  {
   "cell_type": "code",
   "execution_count": 498,
   "metadata": {},
   "outputs": [
    {
     "data": {
      "text/latex": [
       "$4.4141639 \\; \\mathrm{GHz}$"
      ],
      "text/plain": [
       "<Quantity 4.41416391 GHz>"
      ]
     },
     "execution_count": 498,
     "metadata": {},
     "output_type": "execute_result"
    }
   ],
   "source": [
    "(1/np.sqrt(13*u.nH*100*u.fF).si).to(u.GHz)/2/np.pi"
   ]
  },
  {
   "cell_type": "code",
   "execution_count": 496,
   "metadata": {},
   "outputs": [],
   "source": [
    "from Transmon_property import transmon_freq"
   ]
  },
  {
   "cell_type": "code",
   "execution_count": 497,
   "metadata": {},
   "outputs": [
    {
     "data": {
      "text/plain": [
       "(<Quantity 4.03264716 GHz>, <Quantity 176.09299386 MHz>)"
      ]
     },
     "execution_count": 497,
     "metadata": {},
     "output_type": "execute_result"
    }
   ],
   "source": [
    "transmon_freq(110*u.fF, 13*u.nH)"
   ]
  },
  {
   "cell_type": "code",
   "execution_count": null,
   "metadata": {},
   "outputs": [],
   "source": []
  },
  {
   "cell_type": "code",
   "execution_count": null,
   "metadata": {},
   "outputs": [],
   "source": []
  },
  {
   "cell_type": "code",
   "execution_count": null,
   "metadata": {},
   "outputs": [],
   "source": []
  },
  {
   "cell_type": "code",
   "execution_count": null,
   "metadata": {},
   "outputs": [],
   "source": []
  },
  {
   "cell_type": "markdown",
   "metadata": {},
   "source": [
    "# Simulations"
   ]
  },
  {
   "cell_type": "markdown",
   "metadata": {},
   "source": [
    "## Capacitance Matrix Calculation\n",
    "\n",
    "Note that when we calculate capacitance matrix, we need to ``approximate\" that the end pins of the CPW is not grounded to get the capacitance coupling. Thus we need to modify the designs above to get the desired capacitance matrix. "
   ]
  },
  {
   "cell_type": "code",
   "execution_count": 14,
   "metadata": {},
   "outputs": [],
   "source": [
    "draw_CPW(short=False)"
   ]
  },
  {
   "cell_type": "code",
   "execution_count": 15,
   "metadata": {},
   "outputs": [],
   "source": [
    "from qiskit_metal.analyses.quantization import LOManalysis\n",
    "c1 = LOManalysis(design, \"q3d\")"
   ]
  },
  {
   "cell_type": "code",
   "execution_count": 16,
   "metadata": {},
   "outputs": [
    {
     "name": "stdout",
     "output_type": "stream",
     "text": [
      "{'name': 'Setup', 'reuse_selected_design': True, 'reuse_setup': True, 'freq_ghz': 5.0, 'save_fields': False, 'enabled': True, 'max_passes': 5, 'min_passes': 1, 'min_converged_passes': 2, 'percent_error': 0.5, 'percent_refinement': 30, 'auto_increase_solution_order': True, 'solution_order': 'High', 'solver_type': 'Iterative'}\n"
     ]
    }
   ],
   "source": [
    "c1.sim.setup.min_passes  = 1\n",
    "c1.sim.setup.max_passes = 5\n",
    "print(c1.sim.setup)"
   ]
  },
  {
   "cell_type": "code",
   "execution_count": 17,
   "metadata": {},
   "outputs": [
    {
     "name": "stderr",
     "output_type": "stream",
     "text": [
      "INFO 03:43PM [connect_project]: Connecting to Ansys Desktop API...\n",
      "INFO 03:43PM [load_ansys_project]: \tOpened Ansys App\n",
      "INFO 03:43PM [load_ansys_project]: \tOpened Ansys Desktop v2021.2.0\n",
      "INFO 03:43PM [load_ansys_project]: \tOpened Ansys Project\n",
      "\tFolder:    C:/Users/slab/Documents/Ansoft/\n",
      "\tProject:   Project14\n",
      "INFO 03:43PM [connect_design]: \tOpened active design\n",
      "\tDesign:    TwoTransmons_hfss [Solution type: Eigenmode]\n",
      "INFO 03:43PM [get_setup]: \tOpened setup `Setup`  (<class 'pyEPR.ansys.HfssEMSetup'>)\n",
      "INFO 03:43PM [connect]: \tConnected to project \"Project14\" and design \"TwoTransmons_hfss\" 😀 \n",
      "\n",
      "INFO 03:43PM [connect_design]: \tOpened active design\n",
      "\tDesign:    Design_q3d [Solution type: Q3D]\n",
      "WARNING 03:43PM [connect_setup]: \tNo design setup detected.\n",
      "WARNING 03:43PM [connect_setup]: \tCreating Q3D default setup.\n",
      "INFO 03:43PM [get_setup]: \tOpened setup `Setup`  (<class 'pyEPR.ansys.AnsysQ3DSetup'>)\n",
      "INFO 03:43PM [get_setup]: \tOpened setup `Setup`  (<class 'pyEPR.ansys.AnsysQ3DSetup'>)\n",
      "INFO 03:43PM [analyze]: Analyzing setup Setup\n",
      "INFO 03:44PM [get_matrix]: Exporting matrix data to (C:\\Users\\slab\\AppData\\Local\\Temp\\tmpzm94u9u2.txt, C, , Setup:LastAdaptive, \"Original\", \"ohm\", \"nH\", \"fF\", \"mSie\", 5000000000, Maxwell, 1, False\n",
      "INFO 03:44PM [get_matrix]: Exporting matrix data to (C:\\Users\\slab\\AppData\\Local\\Temp\\tmpcdvbzlwe.txt, C, , Setup:AdaptivePass, \"Original\", \"ohm\", \"nH\", \"fF\", \"mSie\", 5000000000, Maxwell, 1, False\n",
      "INFO 03:44PM [get_matrix]: Exporting matrix data to (C:\\Users\\slab\\AppData\\Local\\Temp\\tmpsumjs4_j.txt, C, , Setup:AdaptivePass, \"Original\", \"ohm\", \"nH\", \"fF\", \"mSie\", 5000000000, Maxwell, 2, False\n",
      "INFO 03:44PM [get_matrix]: Exporting matrix data to (C:\\Users\\slab\\AppData\\Local\\Temp\\tmpy2vp9l2o.txt, C, , Setup:AdaptivePass, \"Original\", \"ohm\", \"nH\", \"fF\", \"mSie\", 5000000000, Maxwell, 3, False\n",
      "INFO 03:44PM [get_matrix]: Exporting matrix data to (C:\\Users\\slab\\AppData\\Local\\Temp\\tmpgp7_lasf.txt, C, , Setup:AdaptivePass, \"Original\", \"ohm\", \"nH\", \"fF\", \"mSie\", 5000000000, Maxwell, 4, False\n",
      "INFO 03:44PM [get_matrix]: Exporting matrix data to (C:\\Users\\slab\\AppData\\Local\\Temp\\tmpovo9y5gn.txt, C, , Setup:AdaptivePass, \"Original\", \"ohm\", \"nH\", \"fF\", \"mSie\", 5000000000, Maxwell, 5, False\n",
      "INFO 03:44PM [get_matrix]: Exporting matrix data to (C:\\Users\\slab\\AppData\\Local\\Temp\\tmpu18rkin7.txt, C, , Setup:AdaptivePass, \"Original\", \"ohm\", \"nH\", \"fF\", \"mSie\", 5000000000, Maxwell, 6, False\n",
      "INFO 03:44PM [get_matrix]: Exporting matrix data to (C:\\Users\\slab\\AppData\\Local\\Temp\\tmp6uhwxcpr.txt, C, , Setup:LastAdaptive, \"Original\", \"ohm\", \"nH\", \"fF\", \"mSie\", 5000000000, Maxwell, 1, False\n",
      "INFO 03:44PM [get_matrix]: Exporting matrix data to (C:\\Users\\slab\\AppData\\Local\\Temp\\tmpm21a49c1.txt, C, , Setup:AdaptivePass, \"Original\", \"ohm\", \"nH\", \"fF\", \"mSie\", 5000000000, Maxwell, 1, False\n",
      "INFO 03:44PM [get_matrix]: Exporting matrix data to (C:\\Users\\slab\\AppData\\Local\\Temp\\tmpvcodx0il.txt, C, , Setup:AdaptivePass, \"Original\", \"ohm\", \"nH\", \"fF\", \"mSie\", 5000000000, Maxwell, 2, False\n",
      "INFO 03:44PM [get_matrix]: Exporting matrix data to (C:\\Users\\slab\\AppData\\Local\\Temp\\tmpycuhnaqj.txt, C, , Setup:AdaptivePass, \"Original\", \"ohm\", \"nH\", \"fF\", \"mSie\", 5000000000, Maxwell, 3, False\n",
      "INFO 03:44PM [get_matrix]: Exporting matrix data to (C:\\Users\\slab\\AppData\\Local\\Temp\\tmp1jinad6m.txt, C, , Setup:AdaptivePass, \"Original\", \"ohm\", \"nH\", \"fF\", \"mSie\", 5000000000, Maxwell, 4, False\n",
      "INFO 03:44PM [get_matrix]: Exporting matrix data to (C:\\Users\\slab\\AppData\\Local\\Temp\\tmp9w08u0qt.txt, C, , Setup:AdaptivePass, \"Original\", \"ohm\", \"nH\", \"fF\", \"mSie\", 5000000000, Maxwell, 5, False\n",
      "INFO 03:44PM [get_matrix]: Exporting matrix data to (C:\\Users\\slab\\AppData\\Local\\Temp\\tmpbwoop2wk.txt, C, , Setup:AdaptivePass, \"Original\", \"ohm\", \"nH\", \"fF\", \"mSie\", 5000000000, Maxwell, 6, False\n"
     ]
    }
   ],
   "source": [
    "c1.sim.run(components=['Q1','cpw_1','end'])#, open_terminations=[('end', 'a')])#, ('Q1', 'bus1'), ('Q1', 'bus2')])\n",
    "c1.sim.capacitance_matrix \n",
    "\n",
    "c1.sim._get_results_from_renderer()\n",
    "c_mat = c1.sim.capacitance_matrix"
   ]
  },
  {
   "cell_type": "code",
   "execution_count": 18,
   "metadata": {},
   "outputs": [
    {
     "data": {
      "text/html": [
       "<div>\n",
       "<style scoped>\n",
       "    .dataframe tbody tr th:only-of-type {\n",
       "        vertical-align: middle;\n",
       "    }\n",
       "\n",
       "    .dataframe tbody tr th {\n",
       "        vertical-align: top;\n",
       "    }\n",
       "\n",
       "    .dataframe thead th {\n",
       "        text-align: right;\n",
       "    }\n",
       "</style>\n",
       "<table border=\"1\" class=\"dataframe\">\n",
       "  <thead>\n",
       "    <tr style=\"text-align: right;\">\n",
       "      <th></th>\n",
       "      <th>a_connector_pad_Q1</th>\n",
       "      <th>g_wb</th>\n",
       "      <th>pad_top_Q1</th>\n",
       "    </tr>\n",
       "  </thead>\n",
       "  <tbody>\n",
       "    <tr>\n",
       "      <th>a_connector_pad_Q1</th>\n",
       "      <td>664.98231</td>\n",
       "      <td>-642.09047</td>\n",
       "      <td>-18.99471</td>\n",
       "    </tr>\n",
       "    <tr>\n",
       "      <th>g_wb</th>\n",
       "      <td>-642.09047</td>\n",
       "      <td>784.66027</td>\n",
       "      <td>-77.15847</td>\n",
       "    </tr>\n",
       "    <tr>\n",
       "      <th>pad_top_Q1</th>\n",
       "      <td>-18.99471</td>\n",
       "      <td>-77.15847</td>\n",
       "      <td>98.09671</td>\n",
       "    </tr>\n",
       "  </tbody>\n",
       "</table>\n",
       "</div>"
      ],
      "text/plain": [
       "                    a_connector_pad_Q1       g_wb  pad_top_Q1\n",
       "a_connector_pad_Q1           664.98231 -642.09047   -18.99471\n",
       "g_wb                        -642.09047  784.66027   -77.15847\n",
       "pad_top_Q1                   -18.99471  -77.15847    98.09671"
      ]
     },
     "execution_count": 18,
     "metadata": {},
     "output_type": "execute_result"
    }
   ],
   "source": [
    "c_mat"
   ]
  },
  {
   "attachments": {},
   "cell_type": "markdown",
   "metadata": {},
   "source": [
    "In the capacitance matrix above, the ground plane is named \"g_wb\" The big metal pad in the junction pocket is called \"pad_top_Q1\" The CPW is connected with the connector pad, thus its name is \"a_connector_pad\""
   ]
  },
  {
   "cell_type": "code",
   "execution_count": 19,
   "metadata": {},
   "outputs": [],
   "source": [
    "c1.clear_data()"
   ]
  },
  {
   "cell_type": "markdown",
   "metadata": {},
   "source": [
    "## EPR Analysis"
   ]
  },
  {
   "cell_type": "code",
   "execution_count": 20,
   "metadata": {},
   "outputs": [],
   "source": [
    "import numpy as np\n",
    "from qiskit_metal.analyses.quantization import EPRanalysis"
   ]
  },
  {
   "cell_type": "code",
   "execution_count": 21,
   "metadata": {},
   "outputs": [
    {
     "ename": "NameError",
     "evalue": "name 'hfss' is not defined",
     "output_type": "error",
     "traceback": [
      "\u001b[1;31m---------------------------------------------------------------------------\u001b[0m",
      "\u001b[1;31mNameError\u001b[0m                                 Traceback (most recent call last)",
      "Cell \u001b[1;32mIn [21], line 1\u001b[0m\n\u001b[1;32m----> 1\u001b[0m hfss\u001b[39m.\u001b[39mclean_active_design()\n",
      "\u001b[1;31mNameError\u001b[0m: name 'hfss' is not defined"
     ]
    }
   ],
   "source": [
    "hfss.clean_active_design()"
   ]
  },
  {
   "cell_type": "code",
   "execution_count": 22,
   "metadata": {},
   "outputs": [
    {
     "name": "stderr",
     "output_type": "stream",
     "text": [
      "INFO 03:48PM [connect_project]: Connecting to Ansys Desktop API...\n",
      "INFO 03:48PM [load_ansys_project]: \tOpened Ansys App\n",
      "INFO 03:48PM [load_ansys_project]: \tOpened Ansys Desktop v2021.2.0\n",
      "INFO 03:48PM [load_ansys_project]: \tOpened Ansys Project\n",
      "\tFolder:    C:/Users/slab/Documents/Ansoft/\n",
      "\tProject:   Project14\n",
      "INFO 03:48PM [connect_design]: \tOpened active design\n",
      "\tDesign:    Design_q3d [Solution type: Q3D]\n",
      "INFO 03:48PM [get_setup]: \tOpened setup `Setup`  (<class 'pyEPR.ansys.AnsysQ3DSetup'>)\n",
      "INFO 03:48PM [connect]: \tConnected to project \"Project14\" and design \"Design_q3d\" 😀 \n",
      "\n",
      "03:48PM 33s WARNING [activate_ansys_design]: The design_name=readout was not in active project.  Designs in active project are: \n",
      "['Qbit_hfss', 'Design_q3d', 'TwoTransmons_hfss', 'TransmonResonator_hfss', 'Readout_hfss'].  A new design will be added to the project.  \n",
      "INFO 03:48PM [connect_design]: \tOpened active design\n",
      "\tDesign:    readout [Solution type: Eigenmode]\n",
      "WARNING 03:48PM [connect_setup]: \tNo design setup detected.\n",
      "WARNING 03:48PM [connect_setup]: \tCreating eigenmode default setup.\n",
      "INFO 03:48PM [get_setup]: \tOpened setup `Setup`  (<class 'pyEPR.ansys.HfssEMSetup'>)\n"
     ]
    },
    {
     "data": {
      "image/png": "[encoded data removed]",
      "text/plain": [
       "<IPython.core.display.Image object>"
      ]
     },
     "metadata": {},
     "output_type": "display_data"
    },
    {
     "name": "stderr",
     "output_type": "stream",
     "text": [
      "INFO 03:48PM [analyze]: Analyzing setup Setup\n"
     ]
    },
    {
     "name": "stdout",
     "output_type": "stream",
     "text": [
      "\n",
      "Number of eigenmodes to find             = 2\n",
      "Number of simulation passes              = 40\n",
      "Convergence freq max delta percent diff  = 0.1\n",
      "\n"
     ]
    }
   ],
   "source": [
    "\n",
    "draw_CPW()\n",
    "# design.delete_component('Q1')\n",
    "eig_res = EPRanalysis(design, \"hfss\")\n",
    "\n",
    "hfss = eig_res.sim.renderer\n",
    "hfss.start()\n",
    "\n",
    "hfss.activate_ansys_design('readout','eigenmode')\n",
    "\n",
    "hfss.render_design(['cpw_1','Q1','end'],[])\n",
    "hfss.save_screenshot()\n",
    "\n",
    "setup = hfss.pinfo.setup\n",
    "setup.passes = 40\n",
    "setup.min_converged = 9\n",
    "setup.n_modes = 2\n",
    "\n",
    "print(f\"\"\"\n",
    "Number of eigenmodes to find             = {setup.n_modes}\n",
    "Number of simulation passes              = {setup.passes}\n",
    "Convergence freq max delta percent diff  = {setup.delta_f}\n",
    "\"\"\")\n",
    "\n",
    "# Next 2 lines are counterinuitive, since there is no junction in this resonator.\n",
    "# However, these are necessary to make pyEPR work correctly. Please do note delete\n",
    "hfss.pinfo.design.set_variable('Lj', '10 nH')\n",
    "hfss.pinfo.design.set_variable('Cj', '0 fF')\n",
    "\n",
    "setup.analyze()"
   ]
  },
  {
   "cell_type": "code",
   "execution_count": 23,
   "metadata": {},
   "outputs": [
    {
     "name": "stdout",
     "output_type": "stream",
     "text": [
      "Design \"readout\" info:\n",
      "\t# eigenmodes    2\n",
      "\t# variations    1\n",
      "Design \"readout\" info:\n",
      "\t# eigenmodes    2\n",
      "\t# variations    1\n"
     ]
    },
    {
     "data": {
      "text/html": [
       "<div>\n",
       "<style scoped>\n",
       "    .dataframe tbody tr th:only-of-type {\n",
       "        vertical-align: middle;\n",
       "    }\n",
       "\n",
       "    .dataframe tbody tr th {\n",
       "        vertical-align: top;\n",
       "    }\n",
       "\n",
       "    .dataframe thead th {\n",
       "        text-align: right;\n",
       "    }\n",
       "</style>\n",
       "<table border=\"1\" class=\"dataframe\">\n",
       "  <thead>\n",
       "    <tr style=\"text-align: right;\">\n",
       "      <th></th>\n",
       "      <th></th>\n",
       "      <th>Freq. (GHz)</th>\n",
       "      <th>Quality Factor</th>\n",
       "    </tr>\n",
       "    <tr>\n",
       "      <th>variation</th>\n",
       "      <th>mode</th>\n",
       "      <th></th>\n",
       "      <th></th>\n",
       "    </tr>\n",
       "  </thead>\n",
       "  <tbody>\n",
       "    <tr>\n",
       "      <th rowspan=\"2\" valign=\"top\">0</th>\n",
       "      <th>0</th>\n",
       "      <td>6.336721</td>\n",
       "      <td>inf</td>\n",
       "    </tr>\n",
       "    <tr>\n",
       "      <th>1</th>\n",
       "      <td>7.000849</td>\n",
       "      <td>inf</td>\n",
       "    </tr>\n",
       "  </tbody>\n",
       "</table>\n",
       "</div>"
      ],
      "text/plain": [
       "                Freq. (GHz)  Quality Factor\n",
       "variation mode                             \n",
       "0         0        6.336721             inf\n",
       "          1        7.000849             inf"
      ]
     },
     "execution_count": 23,
     "metadata": {},
     "output_type": "execute_result"
    }
   ],
   "source": [
    "eig_res.get_frequencies()"
   ]
  },
  {
   "cell_type": "code",
   "execution_count": 24,
   "metadata": {},
   "outputs": [
    {
     "name": "stderr",
     "output_type": "stream",
     "text": [
      "03:56PM 47s INFO [get_f_convergence]: Saved convergences to c:\\Users\\slab\\Desktop\\Wendy-qiskit-code\\hfss_eig_f_convergence.csv\n"
     ]
    }
   ],
   "source": [
    "eig_res.sim.convergence_t, eig_res.sim.convergence_f, _ = hfss.get_convergences()\n",
    "eig_res.sim.plot_convergences()"
   ]
  },
  {
   "cell_type": "code",
   "execution_count": 25,
   "metadata": {},
   "outputs": [
    {
     "name": "stderr",
     "output_type": "stream",
     "text": [
      "03:56PM 51s WARNING [plot_ansys_fields]: This method is deprecated. Change your scripts to use plot_fields()\n"
     ]
    },
    {
     "data": {
      "image/png": "[encoded data removed]",
      "text/plain": [
       "<IPython.core.display.Image object>"
      ]
     },
     "metadata": {},
     "output_type": "display_data"
    },
    {
     "data": {
      "text/plain": [
       "WindowsPath('c:/Users/slab/Desktop/Wendy-qiskit-code/ansys.png')"
      ]
     },
     "execution_count": 25,
     "metadata": {},
     "output_type": "execute_result"
    }
   ],
   "source": [
    "hfss.modeler._modeler.ShowWindow()\n",
    "hfss.plot_ansys_fields('main')\n",
    "hfss.save_screenshot()"
   ]
  },
  {
   "cell_type": "code",
   "execution_count": 26,
   "metadata": {},
   "outputs": [],
   "source": [
    "hfss.clear_fields(['Mag_E1'])"
   ]
  },
  {
   "cell_type": "code",
   "execution_count": 27,
   "metadata": {},
   "outputs": [
    {
     "name": "stderr",
     "output_type": "stream",
     "text": [
      "INFO 03:57PM [get_setup]: \tOpened setup `Setup`  (<class 'pyEPR.ansys.HfssEMSetup'>)\n"
     ]
    }
   ],
   "source": [
    "hfss.set_mode(2, \"Setup\")"
   ]
  },
  {
   "cell_type": "code",
   "execution_count": 28,
   "metadata": {},
   "outputs": [
    {
     "data": {
      "image/png": "[encoded data removed]",
      "text/plain": [
       "<IPython.core.display.Image object>"
      ]
     },
     "metadata": {},
     "output_type": "display_data"
    },
    {
     "data": {
      "text/plain": [
       "WindowsPath('c:/Users/slab/Desktop/Wendy-qiskit-code/ansys.png')"
      ]
     },
     "execution_count": 28,
     "metadata": {},
     "output_type": "execute_result"
    }
   ],
   "source": [
    "hfss.modeler._modeler.ShowWindow()\n",
    "hfss.plot_fields('main')\n",
    "hfss.save_screenshot()"
   ]
  },
  {
   "cell_type": "code",
   "execution_count": 29,
   "metadata": {},
   "outputs": [
    {
     "data": {
      "text/plain": [
       "{'name': 'Setup',\n",
       " 'reuse_selected_design': True,\n",
       " 'reuse_setup': True,\n",
       " 'min_freq_ghz': 1,\n",
       " 'n_modes': 1,\n",
       " 'max_delta_f': 0.5,\n",
       " 'max_passes': 10,\n",
       " 'min_passes': 1,\n",
       " 'min_converged': 1,\n",
       " 'pct_refinement': 30,\n",
       " 'basis_order': 1,\n",
       " 'vars': {'Lj': '10 nH', 'Cj': '0 fF'}}"
      ]
     },
     "execution_count": 29,
     "metadata": {},
     "output_type": "execute_result"
    }
   ],
   "source": [
    "eig_res.sim.setup"
   ]
  },
  {
   "cell_type": "code",
   "execution_count": 30,
   "metadata": {},
   "outputs": [
    {
     "data": {
      "text/plain": [
       "{'junctions': {'jj': {'Lj_variable': 'Lj',\n",
       "   'Cj_variable': 'Cj',\n",
       "   'rect': '',\n",
       "   'line': ''}},\n",
       " 'dissipatives': {'dielectrics_bulk': ['main']},\n",
       " 'cos_trunc': 8,\n",
       " 'fock_trunc': 7,\n",
       " 'sweep_variable': 'Lj'}"
      ]
     },
     "execution_count": 30,
     "metadata": {},
     "output_type": "execute_result"
    }
   ],
   "source": [
    "eig_res.setup"
   ]
  },
  {
   "cell_type": "code",
   "execution_count": 31,
   "metadata": {},
   "outputs": [
    {
     "data": {
      "text/plain": [
       "{'junctions': {'jj': {'Lj_variable': 'Lj',\n",
       "   'Cj_variable': 'Cj',\n",
       "   'rect': 'JJ_rect_Lj_Q1_rect_jj',\n",
       "   'line': 'JJ_Lj_Q1_rect_jj_'}},\n",
       " 'dissipatives': {'dielectrics_bulk': ['main']},\n",
       " 'cos_trunc': 8,\n",
       " 'fock_trunc': 7,\n",
       " 'sweep_variable': 'Lj'}"
      ]
     },
     "execution_count": 31,
     "metadata": {},
     "output_type": "execute_result"
    }
   ],
   "source": [
    "eig_res.setup.junctions.jj.rect = 'JJ_rect_Lj_Q1_rect_jj'\n",
    "eig_res.setup.junctions.jj.line = 'JJ_Lj_Q1_rect_jj_'\n",
    "eig_res.setup"
   ]
  },
  {
   "cell_type": "code",
   "execution_count": 33,
   "metadata": {},
   "outputs": [
    {
     "name": "stdout",
     "output_type": "stream",
     "text": [
      "Design \"readout\" info:\n",
      "\t# eigenmodes    2\n",
      "\t# variations    1\n",
      "Design \"readout\" info:\n",
      "\t# eigenmodes    2\n",
      "\t# variations    1\n"
     ]
    },
    {
     "name": "stderr",
     "output_type": "stream",
     "text": [
      "WARNING:py.warnings:c:\\Users\\slab\\anaconda3\\envs\\qmetal\\lib\\site-packages\\pyEPR\\project_info.py:239: FutureWarning: The default dtype for empty Series will be 'object' instead of 'float64' in a future version. Specify a dtype explicitly to silence this warning.\n",
      "  options=pd.Series(get_instance_vars(self.options)),\n",
      "\n"
     ]
    },
    {
     "name": "stdout",
     "output_type": "stream",
     "text": [
      "\n",
      "        energy_elec_all       = 1.30257249753934e-24\n",
      "        energy_elec_substrate = 1.19677535080225e-24\n",
      "        EPR of substrate = 91.9%\n",
      "\n",
      "        energy_mag    = 9.23737451177308e-25\n",
      "        energy_mag % of energy_elec_all  = 70.9%\n",
      "        \n",
      "\n",
      "Variation 0  [1/1]\n"
     ]
    },
    {
     "name": "stderr",
     "output_type": "stream",
     "text": [
      "WARNING:py.warnings:c:\\Users\\slab\\anaconda3\\envs\\qmetal\\lib\\site-packages\\pyEPR\\core_distributed_analysis.py:1101: FutureWarning: The default dtype for empty Series will be 'object' instead of 'float64' in a future version. Specify a dtype explicitly to silence this warning.\n",
      "  Ljs = pd.Series({})\n",
      "\n",
      "WARNING:py.warnings:c:\\Users\\slab\\anaconda3\\envs\\qmetal\\lib\\site-packages\\pyEPR\\core_distributed_analysis.py:1102: FutureWarning: The default dtype for empty Series will be 'object' instead of 'float64' in a future version. Specify a dtype explicitly to silence this warning.\n",
      "  Cjs = pd.Series({})\n",
      "\n",
      "WARNING:py.warnings:c:\\Users\\slab\\anaconda3\\envs\\qmetal\\lib\\site-packages\\pyEPR\\core_distributed_analysis.py:1245: FutureWarning: The default dtype for empty Series will be 'object' instead of 'float64' in a future version. Specify a dtype explicitly to silence this warning.\n",
      "  _Om = pd.Series({})\n",
      "\n"
     ]
    },
    {
     "name": "stdout",
     "output_type": "stream",
     "text": [
      "\n",
      "  \u001b[1mMode 0 at 6.34 GHz   [1/2]\u001b[0m\n",
      "    Calculating ℰ_magnetic,ℰ_electric\n"
     ]
    },
    {
     "name": "stderr",
     "output_type": "stream",
     "text": [
      "WARNING:py.warnings:c:\\Users\\slab\\anaconda3\\envs\\qmetal\\lib\\site-packages\\pyEPR\\core_distributed_analysis.py:981: FutureWarning: The default dtype for empty Series will be 'object' instead of 'float64' in a future version. Specify a dtype explicitly to silence this warning.\n",
      "  Sj = pd.Series({})\n",
      "\n"
     ]
    },
    {
     "name": "stdout",
     "output_type": "stream",
     "text": [
      "       (ℰ_E-ℰ_H)/ℰ_E       ℰ_E       ℰ_H\n",
      "               69.6%  7.452e-26 2.265e-26\n",
      "\n",
      "    Calculating junction energy participation ration (EPR)\n",
      "\tmethod=`line_voltage`. First estimates:\n",
      "\tjunction        EPR p_0j   sign s_0j    (p_capacitive)\n"
     ]
    },
    {
     "name": "stderr",
     "output_type": "stream",
     "text": [
      "WARNING:py.warnings:c:\\Users\\slab\\anaconda3\\envs\\qmetal\\lib\\site-packages\\pyEPR\\core_distributed_analysis.py:933: FutureWarning: The default dtype for empty Series will be 'object' instead of 'float64' in a future version. Specify a dtype explicitly to silence this warning.\n",
      "  Qp = pd.Series({})\n",
      "\n"
     ]
    },
    {
     "name": "stdout",
     "output_type": "stream",
     "text": [
      "\t\tEnergy fraction (Lj over Lj&Cj)= 96.93%\n",
      "\tjj              0.391572  (+)        0.0124145\n",
      "\t\t(U_tot_cap-U_tot_ind)/mean=18.56%\n",
      "WARNING: This simulation must not have converged well!!!                The difference in the total cap and ind energies is larger than 10%.                Proceed with caution.\n",
      "Calculating Qdielectric_main for mode 0 (0/1)\n"
     ]
    },
    {
     "name": "stderr",
     "output_type": "stream",
     "text": [
      "WARNING:py.warnings:c:\\Users\\slab\\anaconda3\\envs\\qmetal\\lib\\site-packages\\pyEPR\\core_distributed_analysis.py:1307: FutureWarning: The series.append method is deprecated and will be removed from pandas in a future version. Use pandas.concat instead.\n",
      "  sol = sol.append(self.get_Qdielectric(\n",
      "\n"
     ]
    },
    {
     "name": "stdout",
     "output_type": "stream",
     "text": [
      "p_dielectric_main_0 = 0.9208738470290613\n"
     ]
    },
    {
     "name": "stderr",
     "output_type": "stream",
     "text": [
      "WARNING:py.warnings:c:\\Users\\slab\\anaconda3\\envs\\qmetal\\lib\\site-packages\\pyEPR\\core_distributed_analysis.py:1245: FutureWarning: The default dtype for empty Series will be 'object' instead of 'float64' in a future version. Specify a dtype explicitly to silence this warning.\n",
      "  _Om = pd.Series({})\n",
      "\n"
     ]
    },
    {
     "name": "stdout",
     "output_type": "stream",
     "text": [
      "\n",
      "  \u001b[1mMode 1 at 7.00 GHz   [2/2]\u001b[0m\n",
      "    Calculating ℰ_magnetic,ℰ_electric\n"
     ]
    },
    {
     "name": "stderr",
     "output_type": "stream",
     "text": [
      "WARNING:py.warnings:c:\\Users\\slab\\anaconda3\\envs\\qmetal\\lib\\site-packages\\pyEPR\\core_distributed_analysis.py:981: FutureWarning: The default dtype for empty Series will be 'object' instead of 'float64' in a future version. Specify a dtype explicitly to silence this warning.\n",
      "  Sj = pd.Series({})\n",
      "\n"
     ]
    },
    {
     "name": "stdout",
     "output_type": "stream",
     "text": [
      "       (ℰ_E-ℰ_H)/ℰ_E       ℰ_E       ℰ_H\n",
      "               29.1%  6.513e-25 4.619e-25\n",
      "\n",
      "    Calculating junction energy participation ration (EPR)\n",
      "\tmethod=`line_voltage`. First estimates:\n",
      "\tjunction        EPR p_1j   sign s_1j    (p_capacitive)\n"
     ]
    },
    {
     "name": "stderr",
     "output_type": "stream",
     "text": [
      "WARNING:py.warnings:c:\\Users\\slab\\anaconda3\\envs\\qmetal\\lib\\site-packages\\pyEPR\\core_distributed_analysis.py:933: FutureWarning: The default dtype for empty Series will be 'object' instead of 'float64' in a future version. Specify a dtype explicitly to silence this warning.\n",
      "  Qp = pd.Series({})\n",
      "\n"
     ]
    },
    {
     "name": "stdout",
     "output_type": "stream",
     "text": [
      "\t\tEnergy fraction (Lj over Lj&Cj)= 96.27%\n",
      "\tjj              0.163614  (+)        0.00633158\n",
      "\t\t(U_tot_cap-U_tot_ind)/mean=7.11%\n",
      "Calculating Qdielectric_main for mode 1 (1/1)\n"
     ]
    },
    {
     "name": "stderr",
     "output_type": "stream",
     "text": [
      "WARNING:py.warnings:c:\\Users\\slab\\anaconda3\\envs\\qmetal\\lib\\site-packages\\pyEPR\\core_distributed_analysis.py:1307: FutureWarning: The series.append method is deprecated and will be removed from pandas in a future version. Use pandas.concat instead.\n",
      "  sol = sol.append(self.get_Qdielectric(\n",
      "\n"
     ]
    },
    {
     "name": "stdout",
     "output_type": "stream",
     "text": [
      "p_dielectric_main_1 = 0.9187783045189813\n"
     ]
    },
    {
     "name": "stderr",
     "output_type": "stream",
     "text": [
      "WARNING:py.warnings:c:\\Users\\slab\\anaconda3\\envs\\qmetal\\lib\\site-packages\\pyEPR\\project_info.py:239: FutureWarning: The default dtype for empty Series will be 'object' instead of 'float64' in a future version. Specify a dtype explicitly to silence this warning.\n",
      "  options=pd.Series(get_instance_vars(self.options)),\n",
      "\n",
      "WARNING 04:01PM [__init__]: <p>Error: <class 'IndexError'></p>\n",
      "ERROR 04:01PM [_get_participation_normalized]: WARNING: U_tot_cap-U_tot_ind / mean = 37.1% is > 15%.                     \n",
      "Is the simulation converged? Proceed with caution\n",
      "ERROR 04:01PM [_get_participation_normalized]: WARNING: U_tot_cap-U_tot_ind / mean = 37.1% is > 15%.                     \n",
      "Is the simulation converged? Proceed with caution\n",
      "WARNING:py.warnings:c:\\Users\\slab\\anaconda3\\envs\\qmetal\\lib\\site-packages\\pyEPR\\core_quantum_analysis.py:712: FutureWarning: Support for multi-dimensional indexing (e.g. `obj[:, None]`) is deprecated and will be removed in a future version.  Convert to a numpy array before indexing instead.\n",
      "  result['Q_coupling'] = self.Qm_coupling[variation][self.Qm_coupling[variation].columns[junctions]][modes]#TODO change the columns to junctions\n",
      "\n",
      "WARNING:py.warnings:c:\\Users\\slab\\anaconda3\\envs\\qmetal\\lib\\site-packages\\pyEPR\\core_quantum_analysis.py:717: FutureWarning: Support for multi-dimensional indexing (e.g. `obj[:, None]`) is deprecated and will be removed in a future version.  Convert to a numpy array before indexing instead.\n",
      "  result['Qs'] = self.Qs[variation][self.PM[variation].columns[junctions]][modes] #TODO change the columns to junctions\n",
      "\n"
     ]
    },
    {
     "name": "stdout",
     "output_type": "stream",
     "text": [
      "\n",
      "ANALYSIS DONE. Data saved to:\n",
      "\n",
      "C:\\data-pyEPR\\Project14\\readout\\2023-02-01 16-01-42.npz\n",
      "\n",
      "\n",
      "\t Differences in variations:\n",
      "\n",
      "\n",
      "\n",
      " . . . . . . . . . . . . . . . . . . . . . . . . . . . . . . . . . . . . . . . . \n",
      "Variation 0\n",
      "\n",
      "Starting the diagonalization\n",
      "Finished the diagonalization\n",
      "Pm_norm=\n",
      "modes\n",
      "0    1.665299\n",
      "1    1.508216\n",
      "dtype: float64\n",
      "\n",
      "Pm_norm idx =\n",
      "     jj\n",
      "0  True\n",
      "1  True\n",
      "*** P (participation matrix, not normlz.)\n",
      "         jj\n",
      "0  0.386770\n",
      "1  0.162585\n",
      "\n",
      "*** S (sign-bit matrix)\n",
      "   s_jj\n",
      "0    -1\n",
      "1     1\n",
      "*** P (participation matrix, normalized.)\n",
      "      0.64\n",
      "      0.25\n",
      "\n",
      "*** Chi matrix O1 PT (MHz)\n",
      "    Diag is anharmonicity, off diag is full cross-Kerr.\n",
      "       127      107\n",
      "       107     22.5\n",
      "\n",
      "*** Chi matrix ND (MHz) \n",
      "       211     62.8\n",
      "      62.8      6.5\n",
      "\n",
      "*** Frequencies O1 PT (MHz)\n",
      "0    6155.757442\n",
      "1    6924.733448\n",
      "dtype: float64\n",
      "\n",
      "*** Frequencies ND (MHz)\n",
      "0    6130.144212\n",
      "1    6940.601897\n",
      "dtype: float64\n",
      "\n",
      "*** Q_coupling\n",
      "Empty DataFrame\n",
      "Columns: []\n",
      "Index: [0, 1]\n"
     ]
    },
    {
     "data": {
      "text/markdown": [
       "#### Mode frequencies (MHz)"
      ],
      "text/plain": [
       "<IPython.core.display.Markdown object>"
      ]
     },
     "metadata": {},
     "output_type": "display_data"
    },
    {
     "data": {
      "text/markdown": [
       "###### Numerical diagonalization"
      ],
      "text/plain": [
       "<IPython.core.display.Markdown object>"
      ]
     },
     "metadata": {},
     "output_type": "display_data"
    },
    {
     "data": {
      "text/html": [
       "<div>\n",
       "<style scoped>\n",
       "    .dataframe tbody tr th:only-of-type {\n",
       "        vertical-align: middle;\n",
       "    }\n",
       "\n",
       "    .dataframe tbody tr th {\n",
       "        vertical-align: top;\n",
       "    }\n",
       "\n",
       "    .dataframe thead th {\n",
       "        text-align: right;\n",
       "    }\n",
       "</style>\n",
       "<table border=\"1\" class=\"dataframe\">\n",
       "  <thead>\n",
       "    <tr style=\"text-align: right;\">\n",
       "      <th>Lj</th>\n",
       "      <th>10</th>\n",
       "    </tr>\n",
       "  </thead>\n",
       "  <tbody>\n",
       "    <tr>\n",
       "      <th>0</th>\n",
       "      <td>6130.14</td>\n",
       "    </tr>\n",
       "    <tr>\n",
       "      <th>1</th>\n",
       "      <td>6940.60</td>\n",
       "    </tr>\n",
       "  </tbody>\n",
       "</table>\n",
       "</div>"
      ],
      "text/plain": [
       "Lj       10\n",
       "0   6130.14\n",
       "1   6940.60"
      ]
     },
     "metadata": {},
     "output_type": "display_data"
    },
    {
     "data": {
      "text/markdown": [
       "#### Kerr Non-linear coefficient table (MHz)"
      ],
      "text/plain": [
       "<IPython.core.display.Markdown object>"
      ]
     },
     "metadata": {},
     "output_type": "display_data"
    },
    {
     "data": {
      "text/markdown": [
       "###### Numerical diagonalization"
      ],
      "text/plain": [
       "<IPython.core.display.Markdown object>"
      ]
     },
     "metadata": {},
     "output_type": "display_data"
    },
    {
     "data": {
      "text/html": [
       "<div>\n",
       "<style scoped>\n",
       "    .dataframe tbody tr th:only-of-type {\n",
       "        vertical-align: middle;\n",
       "    }\n",
       "\n",
       "    .dataframe tbody tr th {\n",
       "        vertical-align: top;\n",
       "    }\n",
       "\n",
       "    .dataframe thead th {\n",
       "        text-align: right;\n",
       "    }\n",
       "</style>\n",
       "<table border=\"1\" class=\"dataframe\">\n",
       "  <thead>\n",
       "    <tr style=\"text-align: right;\">\n",
       "      <th></th>\n",
       "      <th></th>\n",
       "      <th>0</th>\n",
       "      <th>1</th>\n",
       "    </tr>\n",
       "    <tr>\n",
       "      <th>Lj</th>\n",
       "      <th></th>\n",
       "      <th></th>\n",
       "      <th></th>\n",
       "    </tr>\n",
       "  </thead>\n",
       "  <tbody>\n",
       "    <tr>\n",
       "      <th rowspan=\"2\" valign=\"top\">10</th>\n",
       "      <th>0</th>\n",
       "      <td>211.11</td>\n",
       "      <td>62.83</td>\n",
       "    </tr>\n",
       "    <tr>\n",
       "      <th>1</th>\n",
       "      <td>62.83</td>\n",
       "      <td>6.50</td>\n",
       "    </tr>\n",
       "  </tbody>\n",
       "</table>\n",
       "</div>"
      ],
      "text/plain": [
       "           0      1\n",
       "Lj                 \n",
       "10 0  211.11  62.83\n",
       "   1   62.83   6.50"
      ]
     },
     "metadata": {},
     "output_type": "display_data"
    }
   ],
   "source": [
    "eig_res.run_epr()"
   ]
  },
  {
   "cell_type": "code",
   "execution_count": null,
   "metadata": {},
   "outputs": [],
   "source": []
  },
  {
   "cell_type": "code",
   "execution_count": null,
   "metadata": {},
   "outputs": [],
   "source": []
  },
  {
   "cell_type": "code",
   "execution_count": null,
   "metadata": {},
   "outputs": [],
   "source": []
  },
  {
   "cell_type": "code",
   "execution_count": 5,
   "metadata": {},
   "outputs": [],
   "source": [
    "from tqdm import tqdm\n",
    "import numpy as np\n",
    "import time"
   ]
  },
  {
   "cell_type": "code",
   "execution_count": 8,
   "metadata": {},
   "outputs": [
    {
     "name": "stderr",
     "output_type": "stream",
     "text": [
      "  2%|▏         | 2/100 [00:00<00:10,  9.31it/s]"
     ]
    },
    {
     "name": "stdout",
     "output_type": "stream",
     "text": [
      "0.0\n",
      "1.0101010101010102\n"
     ]
    },
    {
     "name": "stderr",
     "output_type": "stream",
     "text": [
      "  4%|▍         | 4/100 [00:00<00:10,  9.16it/s]"
     ]
    },
    {
     "name": "stdout",
     "output_type": "stream",
     "text": [
      "2.0202020202020203\n",
      "3.0303030303030303\n"
     ]
    },
    {
     "name": "stderr",
     "output_type": "stream",
     "text": [
      "  6%|▌         | 6/100 [00:00<00:10,  9.10it/s]"
     ]
    },
    {
     "name": "stdout",
     "output_type": "stream",
     "text": [
      "4.040404040404041\n",
      "5.050505050505051\n"
     ]
    },
    {
     "name": "stderr",
     "output_type": "stream",
     "text": [
      "  8%|▊         | 8/100 [00:00<00:10,  9.08it/s]"
     ]
    },
    {
     "name": "stdout",
     "output_type": "stream",
     "text": [
      "6.0606060606060606\n",
      "7.070707070707071\n"
     ]
    },
    {
     "name": "stderr",
     "output_type": "stream",
     "text": [
      " 10%|█         | 10/100 [00:01<00:09,  9.08it/s]"
     ]
    },
    {
     "name": "stdout",
     "output_type": "stream",
     "text": [
      "8.080808080808081\n",
      "9.090909090909092\n"
     ]
    },
    {
     "name": "stderr",
     "output_type": "stream",
     "text": [
      " 12%|█▏        | 12/100 [00:01<00:09,  9.05it/s]"
     ]
    },
    {
     "name": "stdout",
     "output_type": "stream",
     "text": [
      "10.101010101010102\n",
      "11.111111111111112\n"
     ]
    },
    {
     "name": "stderr",
     "output_type": "stream",
     "text": [
      " 14%|█▍        | 14/100 [00:01<00:09,  9.05it/s]"
     ]
    },
    {
     "name": "stdout",
     "output_type": "stream",
     "text": [
      "12.121212121212121\n",
      "13.131313131313131\n"
     ]
    },
    {
     "name": "stderr",
     "output_type": "stream",
     "text": [
      " 16%|█▌        | 16/100 [00:01<00:09,  9.03it/s]"
     ]
    },
    {
     "name": "stdout",
     "output_type": "stream",
     "text": [
      "14.141414141414142\n",
      "15.151515151515152\n"
     ]
    },
    {
     "name": "stderr",
     "output_type": "stream",
     "text": [
      " 18%|█▊        | 18/100 [00:01<00:09,  8.98it/s]"
     ]
    },
    {
     "name": "stdout",
     "output_type": "stream",
     "text": [
      "16.161616161616163\n",
      "17.171717171717173\n"
     ]
    },
    {
     "name": "stderr",
     "output_type": "stream",
     "text": [
      " 20%|██        | 20/100 [00:02<00:08,  9.00it/s]"
     ]
    },
    {
     "name": "stdout",
     "output_type": "stream",
     "text": [
      "18.181818181818183\n",
      "19.191919191919194\n"
     ]
    },
    {
     "name": "stderr",
     "output_type": "stream",
     "text": [
      " 22%|██▏       | 22/100 [00:02<00:08,  9.03it/s]"
     ]
    },
    {
     "name": "stdout",
     "output_type": "stream",
     "text": [
      "20.202020202020204\n",
      "21.212121212121215\n"
     ]
    },
    {
     "name": "stderr",
     "output_type": "stream",
     "text": [
      " 24%|██▍       | 24/100 [00:02<00:08,  9.03it/s]"
     ]
    },
    {
     "name": "stdout",
     "output_type": "stream",
     "text": [
      "22.222222222222225\n",
      "23.232323232323235\n"
     ]
    },
    {
     "name": "stderr",
     "output_type": "stream",
     "text": [
      " 26%|██▌       | 26/100 [00:02<00:08,  9.05it/s]"
     ]
    },
    {
     "name": "stdout",
     "output_type": "stream",
     "text": [
      "24.242424242424242\n",
      "25.252525252525253\n"
     ]
    },
    {
     "name": "stderr",
     "output_type": "stream",
     "text": [
      " 28%|██▊       | 28/100 [00:03<00:07,  9.01it/s]"
     ]
    },
    {
     "name": "stdout",
     "output_type": "stream",
     "text": [
      "26.262626262626263\n",
      "27.272727272727273\n"
     ]
    },
    {
     "name": "stderr",
     "output_type": "stream",
     "text": [
      " 30%|███       | 30/100 [00:03<00:07,  9.06it/s]"
     ]
    },
    {
     "name": "stdout",
     "output_type": "stream",
     "text": [
      "28.282828282828284\n",
      "29.292929292929294\n"
     ]
    },
    {
     "name": "stderr",
     "output_type": "stream",
     "text": [
      " 32%|███▏      | 32/100 [00:03<00:07,  9.01it/s]"
     ]
    },
    {
     "name": "stdout",
     "output_type": "stream",
     "text": [
      "30.303030303030305\n",
      "31.313131313131315\n"
     ]
    },
    {
     "name": "stderr",
     "output_type": "stream",
     "text": [
      " 34%|███▍      | 34/100 [00:03<00:07,  9.02it/s]"
     ]
    },
    {
     "name": "stdout",
     "output_type": "stream",
     "text": [
      "32.323232323232325\n",
      "33.333333333333336\n"
     ]
    },
    {
     "name": "stderr",
     "output_type": "stream",
     "text": [
      " 36%|███▌      | 36/100 [00:03<00:07,  9.08it/s]"
     ]
    },
    {
     "name": "stdout",
     "output_type": "stream",
     "text": [
      "34.343434343434346\n",
      "35.35353535353536\n"
     ]
    },
    {
     "name": "stderr",
     "output_type": "stream",
     "text": [
      " 38%|███▊      | 38/100 [00:04<00:06,  9.07it/s]"
     ]
    },
    {
     "name": "stdout",
     "output_type": "stream",
     "text": [
      "36.36363636363637\n",
      "37.37373737373738\n"
     ]
    },
    {
     "name": "stderr",
     "output_type": "stream",
     "text": [
      " 40%|████      | 40/100 [00:04<00:06,  9.04it/s]"
     ]
    },
    {
     "name": "stdout",
     "output_type": "stream",
     "text": [
      "38.38383838383839\n",
      "39.3939393939394\n"
     ]
    },
    {
     "name": "stderr",
     "output_type": "stream",
     "text": [
      " 42%|████▏     | 42/100 [00:04<00:06,  9.04it/s]"
     ]
    },
    {
     "name": "stdout",
     "output_type": "stream",
     "text": [
      "40.40404040404041\n",
      "41.41414141414142\n"
     ]
    },
    {
     "name": "stderr",
     "output_type": "stream",
     "text": [
      " 44%|████▍     | 44/100 [00:04<00:06,  9.06it/s]"
     ]
    },
    {
     "name": "stdout",
     "output_type": "stream",
     "text": [
      "42.42424242424243\n",
      "43.43434343434344\n"
     ]
    },
    {
     "name": "stderr",
     "output_type": "stream",
     "text": [
      " 46%|████▌     | 46/100 [00:05<00:05,  9.09it/s]"
     ]
    },
    {
     "name": "stdout",
     "output_type": "stream",
     "text": [
      "44.44444444444445\n",
      "45.45454545454546\n"
     ]
    },
    {
     "name": "stderr",
     "output_type": "stream",
     "text": [
      " 48%|████▊     | 48/100 [00:05<00:05,  9.11it/s]"
     ]
    },
    {
     "name": "stdout",
     "output_type": "stream",
     "text": [
      "46.46464646464647\n",
      "47.47474747474748\n"
     ]
    },
    {
     "name": "stderr",
     "output_type": "stream",
     "text": [
      " 50%|█████     | 50/100 [00:05<00:05,  9.03it/s]"
     ]
    },
    {
     "name": "stdout",
     "output_type": "stream",
     "text": [
      "48.484848484848484\n",
      "49.494949494949495\n"
     ]
    },
    {
     "name": "stderr",
     "output_type": "stream",
     "text": [
      " 52%|█████▏    | 52/100 [00:05<00:05,  9.04it/s]"
     ]
    },
    {
     "name": "stdout",
     "output_type": "stream",
     "text": [
      "50.505050505050505\n",
      "51.515151515151516\n"
     ]
    },
    {
     "name": "stderr",
     "output_type": "stream",
     "text": [
      " 54%|█████▍    | 54/100 [00:05<00:05,  9.06it/s]"
     ]
    },
    {
     "name": "stdout",
     "output_type": "stream",
     "text": [
      "52.525252525252526\n",
      "53.535353535353536\n"
     ]
    },
    {
     "name": "stderr",
     "output_type": "stream",
     "text": [
      " 56%|█████▌    | 56/100 [00:06<00:04,  8.99it/s]"
     ]
    },
    {
     "name": "stdout",
     "output_type": "stream",
     "text": [
      "54.54545454545455\n",
      "55.55555555555556\n"
     ]
    },
    {
     "name": "stderr",
     "output_type": "stream",
     "text": [
      " 58%|█████▊    | 58/100 [00:06<00:04,  8.99it/s]"
     ]
    },
    {
     "name": "stdout",
     "output_type": "stream",
     "text": [
      "56.56565656565657\n",
      "57.57575757575758\n"
     ]
    },
    {
     "name": "stderr",
     "output_type": "stream",
     "text": [
      " 60%|██████    | 60/100 [00:06<00:04,  8.98it/s]"
     ]
    },
    {
     "name": "stdout",
     "output_type": "stream",
     "text": [
      "58.58585858585859\n",
      "59.5959595959596\n"
     ]
    },
    {
     "name": "stderr",
     "output_type": "stream",
     "text": [
      " 62%|██████▏   | 62/100 [00:06<00:04,  9.00it/s]"
     ]
    },
    {
     "name": "stdout",
     "output_type": "stream",
     "text": [
      "60.60606060606061\n",
      "61.61616161616162\n"
     ]
    },
    {
     "name": "stderr",
     "output_type": "stream",
     "text": [
      " 64%|██████▍   | 64/100 [00:07<00:03,  9.05it/s]"
     ]
    },
    {
     "name": "stdout",
     "output_type": "stream",
     "text": [
      "62.62626262626263\n",
      "63.63636363636364\n"
     ]
    },
    {
     "name": "stderr",
     "output_type": "stream",
     "text": [
      " 66%|██████▌   | 66/100 [00:07<00:03,  9.10it/s]"
     ]
    },
    {
     "name": "stdout",
     "output_type": "stream",
     "text": [
      "64.64646464646465\n",
      "65.65656565656566\n"
     ]
    },
    {
     "name": "stderr",
     "output_type": "stream",
     "text": [
      " 68%|██████▊   | 68/100 [00:07<00:03,  9.09it/s]"
     ]
    },
    {
     "name": "stdout",
     "output_type": "stream",
     "text": [
      "66.66666666666667\n",
      "67.67676767676768\n"
     ]
    },
    {
     "name": "stderr",
     "output_type": "stream",
     "text": [
      " 70%|███████   | 70/100 [00:07<00:03,  9.05it/s]"
     ]
    },
    {
     "name": "stdout",
     "output_type": "stream",
     "text": [
      "68.68686868686869\n",
      "69.6969696969697\n"
     ]
    },
    {
     "name": "stderr",
     "output_type": "stream",
     "text": [
      " 72%|███████▏  | 72/100 [00:07<00:03,  9.00it/s]"
     ]
    },
    {
     "name": "stdout",
     "output_type": "stream",
     "text": [
      "70.70707070707071\n",
      "71.71717171717172\n"
     ]
    },
    {
     "name": "stderr",
     "output_type": "stream",
     "text": [
      " 74%|███████▍  | 74/100 [00:08<00:02,  9.04it/s]"
     ]
    },
    {
     "name": "stdout",
     "output_type": "stream",
     "text": [
      "72.72727272727273\n",
      "73.73737373737374\n"
     ]
    },
    {
     "name": "stderr",
     "output_type": "stream",
     "text": [
      " 76%|███████▌  | 76/100 [00:08<00:02,  9.04it/s]"
     ]
    },
    {
     "name": "stdout",
     "output_type": "stream",
     "text": [
      "74.74747474747475\n",
      "75.75757575757576\n"
     ]
    },
    {
     "name": "stderr",
     "output_type": "stream",
     "text": [
      " 78%|███████▊  | 78/100 [00:08<00:02,  9.02it/s]"
     ]
    },
    {
     "name": "stdout",
     "output_type": "stream",
     "text": [
      "76.76767676767678\n",
      "77.77777777777779\n"
     ]
    },
    {
     "name": "stderr",
     "output_type": "stream",
     "text": [
      " 80%|████████  | 80/100 [00:08<00:02,  9.05it/s]"
     ]
    },
    {
     "name": "stdout",
     "output_type": "stream",
     "text": [
      "78.7878787878788\n",
      "79.7979797979798\n"
     ]
    },
    {
     "name": "stderr",
     "output_type": "stream",
     "text": [
      " 82%|████████▏ | 82/100 [00:09<00:01,  9.07it/s]"
     ]
    },
    {
     "name": "stdout",
     "output_type": "stream",
     "text": [
      "80.80808080808082\n",
      "81.81818181818183\n"
     ]
    },
    {
     "name": "stderr",
     "output_type": "stream",
     "text": [
      " 84%|████████▍ | 84/100 [00:09<00:01,  9.05it/s]"
     ]
    },
    {
     "name": "stdout",
     "output_type": "stream",
     "text": [
      "82.82828282828284\n",
      "83.83838383838385\n"
     ]
    },
    {
     "name": "stderr",
     "output_type": "stream",
     "text": [
      " 86%|████████▌ | 86/100 [00:09<00:01,  9.04it/s]"
     ]
    },
    {
     "name": "stdout",
     "output_type": "stream",
     "text": [
      "84.84848484848486\n",
      "85.85858585858587\n"
     ]
    },
    {
     "name": "stderr",
     "output_type": "stream",
     "text": [
      " 88%|████████▊ | 88/100 [00:09<00:01,  9.01it/s]"
     ]
    },
    {
     "name": "stdout",
     "output_type": "stream",
     "text": [
      "86.86868686868688\n",
      "87.87878787878789\n"
     ]
    },
    {
     "name": "stderr",
     "output_type": "stream",
     "text": [
      " 90%|█████████ | 90/100 [00:09<00:01,  8.99it/s]"
     ]
    },
    {
     "name": "stdout",
     "output_type": "stream",
     "text": [
      "88.8888888888889\n",
      "89.89898989898991\n"
     ]
    },
    {
     "name": "stderr",
     "output_type": "stream",
     "text": [
      " 92%|█████████▏| 92/100 [00:10<00:00,  9.17it/s]"
     ]
    },
    {
     "name": "stdout",
     "output_type": "stream",
     "text": [
      "90.90909090909092\n",
      "91.91919191919193\n"
     ]
    },
    {
     "name": "stderr",
     "output_type": "stream",
     "text": [
      " 94%|█████████▍| 94/100 [00:10<00:00,  9.18it/s]"
     ]
    },
    {
     "name": "stdout",
     "output_type": "stream",
     "text": [
      "92.92929292929294\n",
      "93.93939393939395\n"
     ]
    },
    {
     "name": "stderr",
     "output_type": "stream",
     "text": [
      " 96%|█████████▌| 96/100 [00:10<00:00,  9.15it/s]"
     ]
    },
    {
     "name": "stdout",
     "output_type": "stream",
     "text": [
      "94.94949494949496\n",
      "95.95959595959597\n"
     ]
    },
    {
     "name": "stderr",
     "output_type": "stream",
     "text": [
      " 98%|█████████▊| 98/100 [00:10<00:00,  9.08it/s]"
     ]
    },
    {
     "name": "stdout",
     "output_type": "stream",
     "text": [
      "96.96969696969697\n",
      "97.97979797979798\n"
     ]
    },
    {
     "name": "stderr",
     "output_type": "stream",
     "text": [
      "100%|██████████| 100/100 [00:11<00:00,  9.06it/s]"
     ]
    },
    {
     "name": "stdout",
     "output_type": "stream",
     "text": [
      "98.98989898989899\n",
      "100.0\n"
     ]
    },
    {
     "name": "stderr",
     "output_type": "stream",
     "text": [
      "\n"
     ]
    }
   ],
   "source": [
    "for member in tqdm(np.linspace(0,100,100)):\n",
    "    time.sleep(0.1)\n",
    "    print(member)"
   ]
  },
  {
   "cell_type": "code",
   "execution_count": null,
   "metadata": {},
   "outputs": [],
   "source": []
  },
  {
   "cell_type": "code",
   "execution_count": null,
   "metadata": {},
   "outputs": [],
   "source": []
  },
  {
   "attachments": {},
   "cell_type": "markdown",
   "metadata": {},
   "source": [
    "## Save Design to GDS"
   ]
  },
  {
   "cell_type": "code",
   "execution_count": 18,
   "metadata": {},
   "outputs": [],
   "source": [
    "a_gds = design.renderers.gds"
   ]
  },
  {
   "cell_type": "code",
   "execution_count": 19,
   "metadata": {},
   "outputs": [
    {
     "data": {
      "text/plain": [
       "{'short_segments_to_not_fillet': 'True',\n",
       " 'check_short_segments_by_scaling_fillet': '2.0',\n",
       " 'gds_unit': 0.001,\n",
       " 'ground_plane': 'True',\n",
       " 'negative_mask': {'main': []},\n",
       " 'fabricate': 'False',\n",
       " 'corners': 'circular bend',\n",
       " 'tolerance': '0.00001',\n",
       " 'precision': '0.000000001',\n",
       " 'width_LineString': '10um',\n",
       " 'path_filename': '../resources/Fake_Junctions.GDS',\n",
       " 'junction_pad_overlap': '5um',\n",
       " 'max_points': '199',\n",
       " 'cheese': {'datatype': '100',\n",
       "  'shape': '0',\n",
       "  'cheese_0_x': '25um',\n",
       "  'cheese_0_y': '25um',\n",
       "  'cheese_1_radius': '100um',\n",
       "  'view_in_file': {'main': {1: True}},\n",
       "  'delta_x': '100um',\n",
       "  'delta_y': '100um',\n",
       "  'edge_nocheese': '200um'},\n",
       " 'no_cheese': {'datatype': '99',\n",
       "  'buffer': '25um',\n",
       "  'cap_style': '2',\n",
       "  'join_style': '2',\n",
       "  'view_in_file': {'main': {1: True}}},\n",
       " 'bounding_box_scale_x': '1.2',\n",
       " 'bounding_box_scale_y': '1.2'}"
      ]
     },
     "execution_count": 19,
     "metadata": {},
     "output_type": "execute_result"
    }
   ],
   "source": [
    "a_gds.options"
   ]
  },
  {
   "cell_type": "code",
   "execution_count": 20,
   "metadata": {},
   "outputs": [],
   "source": [
    "a_gds.options['path_filename'] = 'Customized_Components\\Fake_Junctions.GDS'"
   ]
  },
  {
   "cell_type": "code",
   "execution_count": 21,
   "metadata": {},
   "outputs": [
    {
     "data": {
      "text/plain": [
       "1"
      ]
     },
     "execution_count": 21,
     "metadata": {},
     "output_type": "execute_result"
    }
   ],
   "source": [
    "\n",
    "a_gds.options['short_segments_to_not_fillet'] = 'False'\n",
    "a_gds.export_to_gds('One pad design.gds')"
   ]
  },
  {
   "attachments": {},
   "cell_type": "markdown",
   "metadata": {},
   "source": [
    "The rest of the notebook is just a scratch paper :D"
   ]
  },
  {
   "cell_type": "code",
   "execution_count": null,
   "metadata": {},
   "outputs": [],
   "source": []
  },
  {
   "cell_type": "code",
   "execution_count": 130,
   "metadata": {},
   "outputs": [],
   "source": [
    "q3d.clean_active_design()"
   ]
  },
  {
   "cell_type": "code",
   "execution_count": 66,
   "metadata": {},
   "outputs": [
    {
     "data": {
      "text/plain": [
       "{'name': 'Setup',\n",
       " 'reuse_selected_design': True,\n",
       " 'reuse_setup': True,\n",
       " 'freq_ghz': 5,\n",
       " 'max_delta_s': 0.1,\n",
       " 'max_passes': 10,\n",
       " 'min_passes': 1,\n",
       " 'min_converged': 1,\n",
       " 'pct_refinement': 30,\n",
       " 'basis_order': 1,\n",
       " 'vars': {'Lj': '10 nH', 'Cj': '0 fF'},\n",
       " 'sweep_setup': {'name': 'Sweep',\n",
       "  'start_ghz': 2.0,\n",
       "  'stop_ghz': 8.0,\n",
       "  'count': 101,\n",
       "  'step_ghz': None,\n",
       "  'type': 'Fast',\n",
       "  'save_fields': False}}"
      ]
     },
     "execution_count": 66,
     "metadata": {},
     "output_type": "execute_result"
    }
   ],
   "source": []
  },
  {
   "cell_type": "code",
   "execution_count": 51,
   "metadata": {},
   "outputs": [],
   "source": [
    "import numpy as np\n",
    "import scipy.linalg as la\n",
    "import qutip as q\n",
    "import astropy.units as u\n",
    "import astropy.constants as con\n",
    "\n",
    "class Single_Transmon_Circuit:\n",
    "    ## Default constant\n",
    "    eq = 1.602e-19*u.C \n",
    "    epsilon = con.eps0\n",
    "    h = 6.636/10**34\n",
    "    hbar = con.hbar\n",
    "    kb = con.k_B\n",
    "    Tc = 1.2\n",
    "    delta = 1.764*kb*Tc\n",
    "    phi0 = con.h/2/eq\n",
    "    dielectric = 9.34*epsilon\n",
    "    def __init__(self,cap_mat,pad_name,CPW_name,ground_plane_name = 'ground_main_plane') -> None:\n",
    "        self.c_couple = -cap_mat[pad_name][CPW_name]*u.fF\n",
    "        self.c_to_ground = cap_mat[pad_name][pad_name]\n",
    "        self.c_CPW = cap_mat[CPW_name][CPW_name]"
   ]
  },
  {
   "cell_type": "code",
   "execution_count": 54,
   "metadata": {},
   "outputs": [
    {
     "data": {
      "text/plain": [
       "<__main__.Single_Transmon_Circuit at 0x2030bb89f90>"
      ]
     },
     "execution_count": 54,
     "metadata": {},
     "output_type": "execute_result"
    }
   ],
   "source": [
    "Single_Transmon_Circuit(c_mat,'pad_top_Q1','n_spiral_spiral')"
   ]
  },
  {
   "cell_type": "code",
   "execution_count": null,
   "metadata": {},
   "outputs": [],
   "source": []
  }
 ],
 "metadata": {
  "kernelspec": {
   "display_name": "qmetal",
   "language": "python",
   "name": "python3"
  },
  "language_info": {
   "codemirror_mode": {
    "name": "ipython",
    "version": 3
   },
   "file_extension": ".py",
   "mimetype": "text/x-python",
   "name": "python",
   "nbconvert_exporter": "python",
   "pygments_lexer": "ipython3",
   "version": "3.10.9"
  },
  "orig_nbformat": 4
 },
 "nbformat": 4,
 "nbformat_minor": 2
}
