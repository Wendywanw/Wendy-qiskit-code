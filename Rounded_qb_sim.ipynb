{
 "cells": [
  {
   "cell_type": "code",
   "execution_count": 1,
   "metadata": {},
   "outputs": [],
   "source": [
    "%reload_ext autoreload\n",
    "%autoreload 2"
   ]
  },
  {
   "cell_type": "code",
   "execution_count": 2,
   "metadata": {},
   "outputs": [],
   "source": [
    "import numpy as np\n",
    "import pandas as pd\n",
    "import matplotlib.pyplot as plt\n",
    "import astropy.units as u\n",
    "import astropy.constants as c\n",
    "import seaborn as sns"
   ]
  },
  {
   "cell_type": "code",
   "execution_count": 3,
   "metadata": {},
   "outputs": [],
   "source": [
    "#This imports the necessary path to draw the single pad transmon design. \n",
    "import sys\n",
    "sys.path.append('Customized_Components')\n",
    "from rounded_single_pad import Round_TransmonPocket_Single as transmon\n",
    "import Transmon_property as trans_p\n",
    "import Transmon_specifications as jj\n",
    "\n",
    "import shapely\n",
    "import warnings\n",
    "from shapely.errors import ShapelyDeprecationWarning\n",
    "warnings.filterwarnings(\"ignore\", category=ShapelyDeprecationWarning)"
   ]
  },
  {
   "cell_type": "code",
   "execution_count": 4,
   "metadata": {},
   "outputs": [],
   "source": [
    "import shapely\n",
    "import warnings\n",
    "from shapely.errors import ShapelyDeprecationWarning\n",
    "warnings.filterwarnings(\"ignore\", category=RuntimeWarning)"
   ]
  },
  {
   "cell_type": "code",
   "execution_count": 5,
   "metadata": {},
   "outputs": [],
   "source": [
    "from qiskit_metal import designs, draw\n",
    "from qiskit_metal import MetalGUI, Dict, Headings\n",
    "\n",
    "from qiskit_metal.qlibrary.couplers.coupled_line_tee import CoupledLineTee\n",
    "\n",
    "from qiskit_metal.qlibrary.tlines.mixed_path import RouteMixed\n",
    "from qiskit_metal.qlibrary.tlines.straight_path import RouteStraight"
   ]
  },
  {
   "cell_type": "code",
   "execution_count": 6,
   "metadata": {},
   "outputs": [],
   "source": [
    "import seaborn as sns"
   ]
  },
  {
   "cell_type": "code",
   "execution_count": 7,
   "metadata": {},
   "outputs": [],
   "source": [
    "phi0 = c.h/2/c.e.si\n",
    "T = 30*u.mK\n",
    "epsilon_r = 11.45\n",
    "cc = 1664080*u.fF/u.m"
   ]
  },
  {
   "cell_type": "code",
   "execution_count": 8,
   "metadata": {},
   "outputs": [
    {
     "name": "stderr",
     "output_type": "stream",
     "text": [
      "05:51PM 40s CRITICAL [_qt_message_handler]: line: 0, func: None(), file: None  WARNING: Populating font family aliases took 149 ms. Replace uses of missing font family \"Courier\" with one that exists to avoid this cost. \n",
      "\n"
     ]
    }
   ],
   "source": [
    "design = designs.DesignPlanar({}, True)\n",
    "design.chips.main.size['size_x'] = '20 mm'\n",
    "design.chips.main.size['size_y'] = '10 mm'\n",
    "\n",
    "design.variables['cpw_width'] = '15.9 um'\n",
    "design.variables['cpw_gap'] = '9 um'\n",
    "\n",
    "design.variables['trace_width'] = '12.4 um'\n",
    "cpw_pin_width = 12.4*u.um\n",
    "design.variables['trace_gap'] = '7 um'\n",
    "cpw_gap = 7*u.um\n",
    "\n",
    "design.variables['pad_buffer_radius'] = '30 um'\n",
    "design.variables['buffer_resolution'] = '10'\n",
    "design.variables['connection_pad_buffer_radius'] = '2 um'\n",
    "\n",
    "# design.chips['main']['material'] = 'Silicon'\n",
    "\n",
    "gui = MetalGUI(design)"
   ]
  },
  {
   "cell_type": "markdown",
   "metadata": {},
   "source": [
    "Component-specific variables"
   ]
  },
  {
   "cell_type": "code",
   "execution_count": 9,
   "metadata": {},
   "outputs": [],
   "source": [
    "\n",
    "\n",
    "qb_options = dict(\n",
    "pad_pocket_distance_top = '40um',\n",
    "connection_pads = dict(\n",
    "    a = dict(loc_W  = 0, \n",
    "            loc_H =  1, \n",
    "            pad_gap = '10um',\n",
    "            pad_height = '20um',\n",
    "            pad_width = '80um',\n",
    "            pad_cpw_extent =  '10um',\n",
    "            pocket_rise = '0um',\n",
    "            cpw_extend = '5um',\n",
    "            pocket_extent = '1um')))\n",
    "\n",
    "\n",
    "TQ_options = dict(prime_width = design.variables['cpw_width'],\n",
    "               prime_gap = design.variables['cpw_gap'],\n",
    "               second_width = design.variables['trace_width'],\n",
    "               second_gap = design.variables['trace_gap'],\n",
    "               down_length = '60um',\n",
    "               coupling_space = '5um',\n",
    "               open_termination=False,\n",
    "               hfss_wire_bonds = False,\n",
    "               q3d_wire_bonds = False)\n",
    "\n",
    "CPW_options = Dict(trace_width = design.variables['trace_width'],\n",
    "               trace_gap  = design.variables['trace_gap'],\n",
    "        total_length='5 mm',\n",
    "        hfss_wire_bonds = True,\n",
    "        q3d_wire_bonds = True,\n",
    "        fillet='30 um',\n",
    "        lead = dict(start_straight='20um', end_straight = '50um'),\n",
    "        pin_inputs=Dict(\n",
    "            start_pin=Dict(component='Q1', pin='a'),\n",
    "            end_pin=Dict(component='TQ1', pin='second_end')), )\n",
    "\n",
    "pin_inputs = Dict(\n",
    "            start_pin=Dict(component='Q1', pin='a'),\n",
    "            end_pin=Dict(component='TQ1', pin='second_end'))\n",
    "\n",
    "trans_options = Dict(hfss_wire_bonds = True,\n",
    "                     q3d_wirebonds = True,\n",
    "               pin_inputs=Dict(\n",
    "                 start_pin=Dict(\n",
    "                     component='TQ1',\n",
    "                     pin='prime_start'),\n",
    "                 end_pin=Dict(\n",
    "                     component='TQ2',\n",
    "                     pin='prime_end')))\n"
   ]
  },
  {
   "cell_type": "markdown",
   "metadata": {},
   "source": [
    "## Single Pad--Verify Design"
   ]
  },
  {
   "cell_type": "markdown",
   "metadata": {},
   "source": [
    "### Draw the single pad transmon"
   ]
  },
  {
   "cell_type": "code",
   "execution_count": null,
   "metadata": {},
   "outputs": [],
   "source": [
    "design.delete_all_components()"
   ]
  },
  {
   "cell_type": "code",
   "execution_count": null,
   "metadata": {},
   "outputs": [],
   "source": [
    "design.overwrite_enabled = True\n",
    "\n",
    "size = 0.25*u.mm\n",
    "gap = 30*u.um\n",
    "size = size.to(u.um)\n",
    "pocket_width = size+2*gap\n",
    "\n",
    "\n",
    "op = Dict(\n",
    "    pos_x = '0',\n",
    "    pad_height = '{}um'.format(size.value),\n",
    "    pos_y = '0',\n",
    "    pad_width = '{}'.format(size),\n",
    "    pocket_width = '{}'.format(pocket_width), \n",
    "    **qb_options)\n",
    "\n",
    "q1 = transmon(design,'Q1',options = op)\n",
    "\n",
    "gui.rebuild()\n",
    "gui.zoom_on_components(['Q1'])\n"
   ]
  },
  {
   "cell_type": "code",
   "execution_count": 12,
   "metadata": {},
   "outputs": [
    {
     "data": {
      "text/plain": [
       "13.0"
      ]
     },
     "execution_count": 12,
     "metadata": {},
     "output_type": "execute_result"
    }
   ],
   "source": [
    "design.parse_value('13')"
   ]
  },
  {
   "cell_type": "code",
   "execution_count": 14,
   "metadata": {},
   "outputs": [],
   "source": [
    "from qiskit_metal.analyses.quantization import LOManalysis\n",
    "from qiskit_metal.analyses.quantization import EPRanalysis\n"
   ]
  },
  {
   "cell_type": "code",
   "execution_count": 15,
   "metadata": {},
   "outputs": [],
   "source": [
    "renderer_hfss = design.renderers.hfss\n",
    "renderer_q3d = design.renderers.q3d"
   ]
  },
  {
   "cell_type": "code",
   "execution_count": null,
   "metadata": {},
   "outputs": [],
   "source": []
  },
  {
   "cell_type": "code",
   "execution_count": null,
   "metadata": {},
   "outputs": [],
   "source": [
    "c1 = LOManalysis(design, \"q3d\")\n",
    "c1.sim.setup.min_passes  = 10\n",
    "c1.sim.setup.max_passes = 25\n",
    "c1.sim.setup.freq_ghz = 5\n",
    "\n",
    "c1.sim.renderer.options['wb_threshold'] ='72um'\n",
    "c1.sim.renderer.options['x_buffer_width_mm'] = 0.5\n",
    "c1.sim.renderer.options['y_buffer_width_mm'] = 0.5"
   ]
  },
  {
   "cell_type": "code",
   "execution_count": 16,
   "metadata": {},
   "outputs": [],
   "source": [
    "eig_all = EPRanalysis(design, 'hfss')\n",
    "\n",
    "hfss = eig_all.sim.renderer\n",
    "\n",
    "# eig_all.sim.renderer.options['Lj'] = '13nH'\n",
    "eig_all.sim.renderer.options['wb_threshold'] = '72um'\n",
    "\n",
    "eig_all.sim.setup.max_passes = 30\n",
    "eig_all.sim.setup.max_delta_f = 0.1\n",
    "eig_all.sim.setup.n_modes = 1\n",
    "# eig_all.sim.setup.vars = Dict(Lj1= '13 nH', Cj1= '0 fF')\n",
    "eig_all.sim.renderer.options['x_buffer_width_mm'] = 0.5\n",
    "eig_all.sim.renderer.options['y_buffer_width_mm'] = 0.5"
   ]
  },
  {
   "cell_type": "code",
   "execution_count": null,
   "metadata": {},
   "outputs": [],
   "source": [
    "data = pd.DataFrame()"
   ]
  },
  {
   "cell_type": "code",
   "execution_count": 13,
   "metadata": {},
   "outputs": [
    {
     "data": {
      "text/plain": [
       "13"
      ]
     },
     "execution_count": 13,
     "metadata": {},
     "output_type": "execute_result"
    }
   ],
   "source": [
    "int('13nH'[:-2])"
   ]
  },
  {
   "cell_type": "code",
   "execution_count": null,
   "metadata": {},
   "outputs": [],
   "source": [
    "original = r'C:\\Users\\slab\\Desktop\\Wendy-qiskit-code\\ansys.png'\n",
    "path = r'C:\\Users\\slab\\Desktop\\Wendy-qiskit-code\\Ansys_screenshoots\\Simulation_0401'"
   ]
  },
  {
   "cell_type": "code",
   "execution_count": null,
   "metadata": {},
   "outputs": [],
   "source": [
    "nmode = 1\n",
    "for Lj in ['13nH','10nH']:\n",
    "    Cj = jj.find_junction_capacitance(int(Lj[:-2])*u.fF)\n",
    "    for size in np.linspace(250,170,5)*u.um:\n",
    "        dat = {}\n",
    "        dat['Lj (nH)'] = int(Lj[:-2])\n",
    "        dat['size (um)'] = size\n",
    "        dat['Cj (fF)'] = Cj.to(u.fF).value\n",
    "        Cj = string(Cj.to(u.fF).value)+' fF'\n",
    "\n",
    "        eig_all.sim.renderer.options['Lj'] = Lj\n",
    "        eig_all.sim.renderer.options['Cj'] = Cj\n",
    "\n",
    "        eig_all.sim.setup.vars = Dict(Lj1= Lj, Cj1= Cj)\n",
    "\n",
    "        # gap1 = 0.055\n",
    "        gap = 30*u.um\n",
    "        size = pad_size.to(u.um)\n",
    "        pocket_width = size+2*gap\n",
    "\n",
    "        # coupling_len = extend\n",
    "        q1.options['pad_height'] = '{}'.format(size)\n",
    "        q1.options['pad_width'] = '{}'.format(size)\n",
    "        q1.options['pocket_width'] = '{}'.format(pocket_width)\n",
    "\n",
    "        c1.sim.run(components=['Q1'])#, open_terminations=[('Q1', 'a')])#, ('Q1', 'bus1'), ('Q1', 'bus2')])\n",
    "        c1.sim.capacitance_matrix \n",
    "\n",
    "        c1.sim._get_results_from_renderer()\n",
    "        c_mat1 = c1.sim.capacitance_matrix\n",
    "        renderer_q3d.clean_active_design()\n",
    "        dat['C_CPW_Qb'] = c_mat1\n",
    "\n",
    "\n",
    "        c1.sim.run(components=['Q1'], open_terminations=[('Q1', 'a')])#, ('Q1', 'bus1'), ('Q1', 'bus2')])\n",
    "        c1.sim.capacitance_matrix \n",
    "\n",
    "        c1.sim._get_results_from_renderer()\n",
    "        c_mat1 = c1.sim.capacitance_matrix\n",
    "        renderer_q3d.clean_active_design()\n",
    "        dat['C_CPW_Qb_g'] = c_mat1\n",
    "\n",
    "\n",
    "        eig_all.sim.run(name=\"all_freqs\", components=['Q1'])#, open_terminations=[('Q1', 'a')])\n",
    "        convergence = pd.read_csv('hfss_eig_f_convergence.csv')\n",
    "        conv = convergence.dropna()\n",
    "\n",
    "        \n",
    "        ind = list(conv.keys())[1:]\n",
    "        freq = conv[ind[0]].values[-1]\n",
    "        dat['Freq_conv(GHz)'] = freq\n",
    "\n",
    "        for i in range(nmode):\n",
    "                hfss.modeler._modeler.ShowWindow()\n",
    "                hfss.set_mode(i+1,'Setup')\n",
    "                hfss.plot_ansys_fields('main')\n",
    "                hfss.save_screenshot()\n",
    "                hfss.clear_fields(['main'])\n",
    "                \n",
    "                actual = r'C:\\Users\\slab\\Desktop\\Wendy-qiskit-code\\size{:.3f}'.format((size.value))+Lj+'.png'\n",
    "                os.rename(original, actual)\n",
    "                fail = True\n",
    "                i = 0\n",
    "                while fail:\n",
    "\n",
    "                    try:\n",
    "                        dest = shutil.move(actual, path)\n",
    "                    except:\n",
    "                        i+= 1\n",
    "                        os.rename(actual,(actual+'{}'.format(i)))\n",
    "                        actual = (actual+'{}'.format(i))\n",
    "                    else:\n",
    "                        fail = False\n",
    "\n",
    "\n",
    "        try:\n",
    "            del eig_all.setup.junctions['jj']\n",
    "        except:\n",
    "            print('saddd')\n",
    "        eig_all.setup.junctions.jj1 = Dict(rect='JJ_rect_Lj_Q1_rect_jj', line='JJ_Lj_Q1_rect_jj_',\n",
    "                        Lj_variable='Lj1', Cj_variable='Cj1')\n",
    "        eig_all.setup.sweep_variable = 'Lj1'\n",
    "        eig_all.run_epr()\n",
    "\n",
    "        #Save the EPR data\n",
    "        chi = eig_all.sim.renderer.epr_quantum_analysis.get_chis().to_numpy()\n",
    "        freq_EPR= eig_all.sim.renderer.epr_quantum_analysis.get_frequencies().to_numpy()[:,0]\n",
    "        \n",
    "        renderer_hfss.clean_active_design()\n",
    "        for i in range(nmode):\n",
    "            freq = freq_EPR[i]\n",
    "            dat['Freq_EPR'+str(i+1)+'(MHz)'] = freq\n",
    "            for j in range(i+1):\n",
    "                dat['Chi'+str(i+1)+'_'+str(j+1)+'(MHz)'] = chi[i][j]\n",
    "\n",
    "        data = pd.DataFrame(dat, index = [0])\n",
    "        datas = pd.concat([datas,data], ignore_index=True)\n",
    "\n",
    "\n",
    "        datas.to_csv('data\\QB_freq_only_0401.csv')\n",
    "\n",
    "\n",
    "\n",
    "\n",
    "\n",
    "        "
   ]
  }
 ],
 "metadata": {
  "kernelspec": {
   "display_name": "qiskit",
   "language": "python",
   "name": "python3"
  },
  "language_info": {
   "codemirror_mode": {
    "name": "ipython",
    "version": 3
   },
   "file_extension": ".py",
   "mimetype": "text/x-python",
   "name": "python",
   "nbconvert_exporter": "python",
   "pygments_lexer": "ipython3",
   "version": "3.11.0"
  },
  "orig_nbformat": 4,
  "vscode": {
   "interpreter": {
    "hash": "44925f89eea0304a809c150d508a9f47d604add5952411f6e449e56bdadb9133"
   }
  }
 },
 "nbformat": 4,
 "nbformat_minor": 2
}
