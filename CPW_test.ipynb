{
 "cells": [
  {
   "cell_type": "code",
   "execution_count": 1,
   "metadata": {},
   "outputs": [],
   "source": [
    "%reload_ext autoreload\n",
    "%autoreload 2"
   ]
  },
  {
   "cell_type": "code",
   "execution_count": 2,
   "metadata": {},
   "outputs": [],
   "source": [
    "#This imports the necessary path to draw the single pad transmon design. \n",
    "import sys\n",
    "sys.path.append('Customized_Components')\n",
    "from rounded_single_pad import Round_TransmonPocket_Single as transmon\n",
    "import Transmon_property as trans_p\n",
    "# import Transmon_specifications as jj\n",
    "\n",
    "# import shapely\n",
    "# import warnings\n",
    "# from shapely.errors import ShapelyDeprecationWarning\n",
    "# warnings.filterwarnings(\"ignore\", category=ShapelyDeprecationWarning)\n",
    "# warnings.filterwarnings(\"ignore\", category=RuntimeWarning)"
   ]
  },
  {
   "cell_type": "code",
   "execution_count": 3,
   "metadata": {},
   "outputs": [],
   "source": [
    "import os\n",
    "import shutil\n",
    "import time"
   ]
  },
  {
   "cell_type": "code",
   "execution_count": 4,
   "metadata": {},
   "outputs": [],
   "source": [
    "import numpy as np\n",
    "import astropy.units as u\n",
    "import astropy.constants as c\n",
    "\n",
    "import pandas as pd\n",
    "import matplotlib.pyplot as plt"
   ]
  },
  {
   "cell_type": "code",
   "execution_count": 5,
   "metadata": {},
   "outputs": [],
   "source": [
    "from qiskit_metal import designs, draw\n",
    "from qiskit_metal import MetalGUI, Dict, Headings\n",
    "from qiskit_metal.qlibrary.tlines.straight_path import RouteStraight\n",
    "\n",
    "from qiskit_metal.qlibrary.tlines.mixed_path import RouteMixed\n",
    "\n",
    "from qiskit_metal.qlibrary.terminations.short_to_ground import ShortToGround\n",
    "from qiskit_metal.qlibrary.terminations.open_to_ground import OpenToGround"
   ]
  },
  {
   "cell_type": "code",
   "execution_count": 6,
   "metadata": {},
   "outputs": [],
   "source": [
    "design = designs.DesignPlanar({}, True)\n",
    "design.chips.main.size['size_x'] = '20 mm'\n",
    "design.chips.main.size['size_y'] = '10 mm'\n",
    "\n",
    "design.variables['cpw_width'] = '15 um'\n",
    "design.variables['cpw_gap'] = '9 um'\n",
    "\n",
    "design.variables['trace_width'] = '12.4 um'\n",
    "cpw_pin_width = 12.4*u.um\n",
    "design.variables['trace_gap'] = '7 um'\n",
    "cpw_gap = 7*u.um\n",
    "\n",
    "design.variables['pad_buffer_radius'] = '30 um'\n",
    "design.variables['buffer_resolution'] = '10'\n",
    "design.variables['connection_pad_buffer_radius'] = '2 um'\n",
    "# design.chips['main']['material'] = 'Silicon'\n",
    "\n",
    "gui = MetalGUI(design)"
   ]
  },
  {
   "cell_type": "code",
   "execution_count": 7,
   "metadata": {},
   "outputs": [],
   "source": [
    "design.delete_all_components()"
   ]
  },
  {
   "cell_type": "code",
   "execution_count": 8,
   "metadata": {},
   "outputs": [],
   "source": [
    "o1 = OpenToGround(design, 'open', options=dict(pos_x='0 mm', pos_y='0 mm', orientation='180', width = '12.4um+7um+7um',))\n",
    "s1 = ShortToGround(design, 'short', options=dict(pos_x='4 mm', pos_y='0 mm', orientation='0', width = '12.4um+7um+7um'))"
   ]
  },
  {
   "cell_type": "code",
   "execution_count": 9,
   "metadata": {},
   "outputs": [],
   "source": [
    "gui.rebuild()"
   ]
  },
  {
   "cell_type": "code",
   "execution_count": 10,
   "metadata": {},
   "outputs": [],
   "source": [
    "CPW_options = Dict(trace_width = design.variables['trace_width'],\n",
    "               trace_gap  = design.variables['trace_gap'],\n",
    "        total_length='5 mm',\n",
    "        hfss_wire_bonds = True,\n",
    "        q3d_wire_bonds = True,\n",
    "        fillet='30 um',\n",
    "        lead = dict(start_straight='20um', end_straight = '50um'),\n",
    "        pin_inputs=Dict(\n",
    "            start_pin=Dict(component='Q1', pin='a'),\n",
    "            end_pin=Dict(component='TQ1', pin='second_end')), )"
   ]
  },
  {
   "cell_type": "code",
   "execution_count": 11,
   "metadata": {},
   "outputs": [
    {
     "name": "stderr",
     "output_type": "stream",
     "text": [
      "WARNING:py.warnings:c:\\Users\\slab\\anaconda3\\envs\\qmetal\\lib\\site-packages\\pandas\\core\\dtypes\\cast.py:127: ShapelyDeprecationWarning: The array interface is deprecated and will no longer work in Shapely 2.0. Convert the '.coords' to a numpy array instead.\n",
      "  arr = construct_1d_object_array_from_listlike(values)\n",
      "\n",
      "WARNING:py.warnings:c:\\Users\\slab\\anaconda3\\envs\\qmetal\\lib\\site-packages\\pandas\\core\\dtypes\\cast.py:127: ShapelyDeprecationWarning: The array interface is deprecated and will no longer work in Shapely 2.0. Convert the '.coords' to a numpy array instead.\n",
      "  arr = construct_1d_object_array_from_listlike(values)\n",
      "\n"
     ]
    }
   ],
   "source": [
    "\n",
    "pin_inputs=Dict(\n",
    "            start_pin=Dict(component='open', pin='open'),\n",
    "            end_pin=Dict(component='short', pin='short'))\n",
    "CPW_options.pin_inputs = pin_inputs\n",
    "r1 = RouteStraight(design, 'route1', options= CPW_options)"
   ]
  },
  {
   "cell_type": "code",
   "execution_count": 12,
   "metadata": {},
   "outputs": [
    {
     "name": "stderr",
     "output_type": "stream",
     "text": [
      "WARNING:py.warnings:c:\\Users\\slab\\anaconda3\\envs\\qmetal\\lib\\site-packages\\pandas\\core\\dtypes\\cast.py:127: ShapelyDeprecationWarning: The array interface is deprecated and will no longer work in Shapely 2.0. Convert the '.coords' to a numpy array instead.\n",
      "  arr = construct_1d_object_array_from_listlike(values)\n",
      "\n",
      "WARNING:py.warnings:c:\\Users\\slab\\anaconda3\\envs\\qmetal\\lib\\site-packages\\pandas\\core\\dtypes\\cast.py:127: ShapelyDeprecationWarning: The array interface is deprecated and will no longer work in Shapely 2.0. Convert the '.coords' to a numpy array instead.\n",
      "  arr = construct_1d_object_array_from_listlike(values)\n",
      "\n"
     ]
    }
   ],
   "source": [
    "gui.rebuild()"
   ]
  },
  {
   "cell_type": "code",
   "execution_count": 13,
   "metadata": {},
   "outputs": [
    {
     "data": {
      "text/latex": [
       "$7.6137029 \\; \\mathrm{GHz}$"
      ],
      "text/plain": [
       "<Quantity 7.6137029 GHz>"
      ]
     },
     "execution_count": 13,
     "metadata": {},
     "output_type": "execute_result"
    }
   ],
   "source": [
    "trans_p.find_actual_frequency(4*u.mm, cpw_pin_width, cpw_gap)"
   ]
  },
  {
   "cell_type": "code",
   "execution_count": null,
   "metadata": {},
   "outputs": [],
   "source": []
  },
  {
   "cell_type": "code",
   "execution_count": 14,
   "metadata": {},
   "outputs": [],
   "source": [
    "from qiskit_metal.analyses.quantization import LOManalysis\n",
    "from qiskit_metal.analyses.quantization import EPRanalysis"
   ]
  },
  {
   "cell_type": "markdown",
   "metadata": {},
   "source": [
    "Set the right path for Ansys Screenshots"
   ]
  },
  {
   "cell_type": "code",
   "execution_count": 15,
   "metadata": {},
   "outputs": [],
   "source": [
    "original = r'C:\\Users\\slab\\Desktop\\Wendy-qiskit-code\\ansys.png'\n",
    "path = r'C:\\Users\\slab\\Desktop\\Wendy-qiskit-code\\Ansys_screenshoots\\Simulation_0407'"
   ]
  },
  {
   "cell_type": "code",
   "execution_count": 16,
   "metadata": {},
   "outputs": [],
   "source": [
    "cap_components = ['route1','open','short']\n",
    "hfss_components  = ['route1','open','short']\n",
    "nmode = 1\n",
    "datas = pd.DataFrame()"
   ]
  },
  {
   "cell_type": "code",
   "execution_count": 17,
   "metadata": {},
   "outputs": [],
   "source": [
    "renderer_hfss = design.renderers.hfss\n",
    "renderer_q3d = design.renderers.q3d"
   ]
  },
  {
   "cell_type": "code",
   "execution_count": 18,
   "metadata": {},
   "outputs": [],
   "source": [
    "c1 = LOManalysis(design, \"q3d\")\n",
    "c1.sim.setup.min_passes  = 10\n",
    "c1.sim.setup.max_passes = 20\n",
    "c1.sim.setup.freq_ghz = 5\n",
    "\n",
    "# c1.sim.renderer.options['wb_threshold'] ='72um'\n",
    "c1.sim.renderer.options['x_buffer_width_mm'] = 0.5\n",
    "c1.sim.renderer.options['y_buffer_width_mm'] = 0.5"
   ]
  },
  {
   "cell_type": "code",
   "execution_count": 19,
   "metadata": {},
   "outputs": [],
   "source": [
    "eig_all = EPRanalysis(design, 'hfss')\n",
    "\n",
    "hfss = eig_all.sim.renderer\n",
    "# eig_all.sim.renderer.options['wb_threshold'] = '72um'\n",
    "\n",
    "eig_all.sim.setup.max_passes = 30\n",
    "eig_all.sim.setup.max_delta_f = 0.1\n",
    "eig_all.sim.setup.n_modes = nmode\n",
    "eig_all.sim.setup.vars = Dict(Lj1= '13 nH', Cj1= '0 fF')\n",
    "eig_all.sim.renderer.options['x_buffer_width_mm'] = 0.5\n",
    "eig_all.sim.renderer.options['y_buffer_width_mm'] = 0.5\n"
   ]
  },
  {
   "cell_type": "code",
   "execution_count": 20,
   "metadata": {},
   "outputs": [],
   "source": [
    "tries = ['50um', '70um', '90um', '110um', '130um', '150um']\n",
    "options = [True, False]"
   ]
  },
  {
   "cell_type": "code",
   "execution_count": 30,
   "metadata": {},
   "outputs": [],
   "source": [
    "tries = ['50um']"
   ]
  },
  {
   "cell_type": "code",
   "execution_count": null,
   "metadata": {},
   "outputs": [],
   "source": [
    "design.delete_component"
   ]
  },
  {
   "cell_type": "code",
   "execution_count": 31,
   "metadata": {},
   "outputs": [
    {
     "data": {
      "text/plain": [
       "{'Lj': '13nH',\n",
       " 'Cj': 0,\n",
       " '_Rj': 0,\n",
       " 'max_mesh_length_jj': '7um',\n",
       " 'max_mesh_length_port': '7um',\n",
       " 'project_path': None,\n",
       " 'project_name': None,\n",
       " 'design_name': None,\n",
       " 'x_buffer_width_mm': 0.5,\n",
       " 'y_buffer_width_mm': 0.5,\n",
       " 'wb_threshold': '50um',\n",
       " 'wb_offset': '0um',\n",
       " 'wb_size': 1.6,\n",
       " 'wb_height': 0.7,\n",
       " 'plot_ansys_fields_options': {'name': 'NAME:Mag_E1',\n",
       "  'UserSpecifyName': '0',\n",
       "  'UserSpecifyFolder': '0',\n",
       "  'QuantityName': 'Mag_E',\n",
       "  'PlotFolder': 'E Field',\n",
       "  'StreamlinePlot': 'False',\n",
       "  'AdjacentSidePlot': 'False',\n",
       "  'FullModelPlot': 'False',\n",
       "  'IntrinsicVar': \"Phase='0deg'\",\n",
       "  'PlotGeomInfo_0': '1',\n",
       "  'PlotGeomInfo_1': 'Surface',\n",
       "  'PlotGeomInfo_2': 'FacesList',\n",
       "  'PlotGeomInfo_3': '1'}}"
      ]
     },
     "execution_count": 31,
     "metadata": {},
     "output_type": "execute_result"
    }
   ],
   "source": [
    "c1.sim.renderer.options"
   ]
  },
  {
   "cell_type": "code",
   "execution_count": 33,
   "metadata": {},
   "outputs": [
    {
     "name": "stderr",
     "output_type": "stream",
     "text": [
      "02:50PM 35s INFO [delete_component]: Called delete_component rounte1, but such a component is not in the design cache dictionary of components.\n",
      "WARNING:py.warnings:c:\\Users\\slab\\anaconda3\\envs\\qmetal\\lib\\site-packages\\pandas\\core\\dtypes\\cast.py:127: ShapelyDeprecationWarning: The array interface is deprecated and will no longer work in Shapely 2.0. Convert the '.coords' to a numpy array instead.\n",
      "  arr = construct_1d_object_array_from_listlike(values)\n",
      "\n",
      "WARNING:py.warnings:c:\\Users\\slab\\anaconda3\\envs\\qmetal\\lib\\site-packages\\pandas\\core\\dtypes\\cast.py:127: ShapelyDeprecationWarning: The array interface is deprecated and will no longer work in Shapely 2.0. Convert the '.coords' to a numpy array instead.\n",
      "  arr = construct_1d_object_array_from_listlike(values)\n",
      "\n",
      "WARNING:py.warnings:c:\\Users\\slab\\anaconda3\\envs\\qmetal\\lib\\site-packages\\pandas\\core\\dtypes\\cast.py:127: ShapelyDeprecationWarning: The array interface is deprecated and will no longer work in Shapely 2.0. Convert the '.coords' to a numpy array instead.\n",
      "  arr = construct_1d_object_array_from_listlike(values)\n",
      "\n",
      "WARNING:py.warnings:c:\\Users\\slab\\anaconda3\\envs\\qmetal\\lib\\site-packages\\pandas\\core\\dtypes\\cast.py:127: ShapelyDeprecationWarning: The array interface is deprecated and will no longer work in Shapely 2.0. Convert the '.coords' to a numpy array instead.\n",
      "  arr = construct_1d_object_array_from_listlike(values)\n",
      "\n",
      "INFO 02:50PM [connect_design]: \tOpened active design\n",
      "\tDesign:    Design_q3d [Solution type: Q3D]\n",
      "INFO 02:52PM [get_setup]: \tOpened setup `Setup`  (<class 'pyEPR.ansys.AnsysQ3DSetup'>)\n",
      "INFO 02:52PM [analyze]: Analyzing setup Setup\n"
     ]
    }
   ],
   "source": [
    "# path = r'C:\\Users\\slab\\Desktop\\Wendy-qiskit-code\\Ansys_screenshoots\\Simulation_0314\\loop'\n",
    "datas = pd.DataFrame()\n",
    "for option in options:\n",
    "    dat = {}\n",
    "    if option == True:\n",
    "        num = len(tries)\n",
    "    else:\n",
    "        num = 1\n",
    "    for k in range(num):\n",
    "        dat['airbridges'] = option\n",
    "        dat['ab_density'] = tries[k]\n",
    "        design.delete_component('rounte1') \n",
    "        design.delete_component('short')\n",
    "        c1.sim.renderer.options['wb_threshold'] =tries[k]\n",
    "        \n",
    "        s1 = OpenToGround(design, 'short', options=dict(pos_x='4 mm', pos_y='0 mm', orientation='0', width = '12.4um+7um+7um'))\n",
    "        pin_inputs=Dict(\n",
    "                start_pin=Dict(component='open', pin='open'),\n",
    "                end_pin=Dict(component='short', pin='open'))\n",
    "        CPW_options.pin_inputs = pin_inputs\n",
    "        CPW_options.hfss_wire_bonds = option\n",
    "        CPW_options.q3d_wire_bonds = option\n",
    "        r1 = RouteStraight(design, 'route1', options= CPW_options)\n",
    "        gui.rebuild()\n",
    "\n",
    "        c1.sim.run(components=cap_components)#, open_terminations=[('Q1', 'a')])#, ('Q1', 'bus1'), ('Q1', 'bus2')])\n",
    "        c1.sim.capacitance_matrix \n",
    "        \n",
    "        c1.sim._get_results_from_renderer()\n",
    "        c_mat = c1.sim.capacitance_matrix\n",
    "        renderer_q3d.clean_active_design()\n",
    "        c_mat = np.array(c_mat)\n",
    "        for m,element in enumerate(c_mat[:,0]):\n",
    "            dat['C_{}'.format(m)] = element\n",
    "        \n",
    "\n",
    "        design.delete_component('rounte1')\n",
    "        design.delete_component('short')\n",
    "        eig_all.sim.renderer.options['wb_threshold'] =tries[k]\n",
    "        s1 = ShortToGround(design, 'short', options=dict(pos_x='4 mm', pos_y='0 mm', orientation='0', width = '12.4um+7um+7um'))\n",
    "        pin_inputs=Dict(\n",
    "                start_pin=Dict(component='open', pin='open'),\n",
    "                end_pin=Dict(component='short', pin='short'))\n",
    "        CPW_options.pin_inputs = pin_inputs\n",
    "        CPW_options.hfss_wire_bonds = option\n",
    "        CPW_options.q3d_wire_bonds = option\n",
    "        r1 = RouteStraight(design, 'route1', options= CPW_options)\n",
    "        \n",
    "\n",
    "        eig_all.sim.run(name=\"all_freqs\", components=cap_components)#, open_terminations=[('Q1', 'a')])\n",
    "        \n",
    "        convergence = pd.read_csv('hfss_eig_f_convergence.csv')\n",
    "        conv = convergence.dropna()\n",
    "\n",
    "        ind = list(conv.keys())[1:]\n",
    "        for i in range(nmode):\n",
    "            freq = conv[ind[(i)]].values[-1]\n",
    "            dat['Freq'+str(i+1)+'(GHz)'] = freq\n",
    "            \n",
    "        for i in range(nmode):\n",
    "            hfss.modeler._modeler.ShowWindow()\n",
    "            hfss.set_mode(i+1,'Setup')\n",
    "            hfss.plot_ansys_fields('main')\n",
    "            hfss.save_screenshot()\n",
    "            hfss.clear_fields(['main'])\n",
    "            \n",
    "            actual = r'C:\\Users\\slab\\Desktop\\Wendy-qiskit-code\\res_mode{}_density_{}_ab_{}.png'.format(i,tries[k], option)\n",
    "            os.rename(original, actual)\n",
    "            fail = True\n",
    "            i = 0\n",
    "            while fail:\n",
    "\n",
    "                try:\n",
    "                    dest = shutil.move(actual, path)\n",
    "                except:\n",
    "                    i+= 1\n",
    "                    os.rename(actual,(actual+'{}'.format(i)))\n",
    "                    actual = (actual+'{}'.format(i))\n",
    "                else:\n",
    "                    fail = False\n",
    "                        \n",
    "                \n",
    "\n",
    "                data = pd.DataFrame(dat, index = [0])\n",
    "                datas = pd.concat([datas,data], ignore_index=True)\n",
    "\n",
    "\n",
    "    datas.to_csv('data\\CPW_test_0403_only_cpw.csv')\n"
   ]
  },
  {
   "cell_type": "code",
   "execution_count": 23,
   "metadata": {},
   "outputs": [
    {
     "data": {
      "text/plain": [
       "{'C_0': (1, -664.49089)}"
      ]
     },
     "execution_count": 23,
     "metadata": {},
     "output_type": "execute_result"
    }
   ],
   "source": [
    "dat"
   ]
  },
  {
   "cell_type": "code",
   "execution_count": 25,
   "metadata": {},
   "outputs": [
    {
     "data": {
      "text/plain": [
       "array([ 784.85029, -664.49089])"
      ]
     },
     "execution_count": 25,
     "metadata": {},
     "output_type": "execute_result"
    }
   ],
   "source": [
    "c_mat[:,0]"
   ]
  },
  {
   "cell_type": "code",
   "execution_count": null,
   "metadata": {},
   "outputs": [],
   "source": []
  }
 ],
 "metadata": {
  "kernelspec": {
   "display_name": "qmetal",
   "language": "python",
   "name": "qmetal"
  },
  "language_info": {
   "codemirror_mode": {
    "name": "ipython",
    "version": 3
   },
   "file_extension": ".py",
   "mimetype": "text/x-python",
   "name": "python",
   "nbconvert_exporter": "python",
   "pygments_lexer": "ipython3",
   "version": "3.10.8"
  },
  "orig_nbformat": 4
 },
 "nbformat": 4,
 "nbformat_minor": 2
}
