{
 "cells": [
  {
   "cell_type": "markdown",
   "metadata": {},
   "source": [
    "This notebook shows how to design a transmon pocket (single pad design) in qiskit metal. The notebook only need **TransmonPocket_Single** function from a relative path '../../resources'."
   ]
  },
  {
   "cell_type": "code",
   "execution_count": 4,
   "metadata": {},
   "outputs": [],
   "source": [
    "%reload_ext autoreload\n",
    "%autoreload 2"
   ]
  },
  {
   "cell_type": "code",
   "execution_count": 5,
   "metadata": {},
   "outputs": [],
   "source": [
    "#This imports the necessary path to draw the single pad transmon design. \n",
    "import sys\n",
    "sys.path.append('Customized_Components')\n",
    "from rounded_single_pad import Round_TransmonPocket_Single as transmon\n",
    "import Transmon_property as trans_p\n",
    "import Transmon_specifications as jj\n",
    "\n",
    "import shapely\n",
    "import warnings\n",
    "from shapely.errors import ShapelyDeprecationWarning\n",
    "warnings.filterwarnings(\"ignore\", category=ShapelyDeprecationWarning)"
   ]
  },
  {
   "cell_type": "code",
   "execution_count": 6,
   "metadata": {},
   "outputs": [],
   "source": [
    "import os\n",
    "import shutil\n",
    "import time"
   ]
  },
  {
   "cell_type": "code",
   "execution_count": 7,
   "metadata": {},
   "outputs": [],
   "source": [
    "import numpy as np\n",
    "import astropy.units as u\n",
    "import astropy.constants as c\n",
    "\n",
    "import pandas as pd\n",
    "import matplotlib.pyplot as plt\n",
    "\n",
    "# %matplotlib inline"
   ]
  },
  {
   "cell_type": "code",
   "execution_count": 8,
   "metadata": {},
   "outputs": [],
   "source": [
    "from qiskit_metal import designs, draw\n",
    "from qiskit_metal import MetalGUI, Dict, Headings\n",
    "\n",
    "from qiskit_metal.qlibrary.couplers.coupled_line_tee import CoupledLineTee\n",
    "# from qiskit_metal.qlibrary.terminations.short_to_ground import ShortToGround\n",
    "# from qiskit_metal.qlibrary.terminations.open_to_ground import OpenToGround\n",
    "from qiskit_metal.qlibrary.terminations.launchpad_wb import LaunchpadWirebond\n",
    "\n",
    "from qiskit_metal.qlibrary.tlines.mixed_path import RouteMixed\n",
    "from qiskit_metal.qlibrary.tlines.straight_path import RouteStraight\n",
    "\n",
    "from qiskit_metal.analyses.quantization import LOManalysis\n",
    "from qiskit_metal.analyses.quantization import EPRanalysis\n",
    "\n",
    "# from qiskit_metal.toolbox_metal.parsing import *"
   ]
  },
  {
   "cell_type": "code",
   "execution_count": 9,
   "metadata": {},
   "outputs": [],
   "source": [
    "# from qiskit_metal.qlibrary.terminations.short_to_ground import ShortToGround\n",
    "# from qiskit_metal.qlibrary.terminations.open_to_ground import OpenToGround\n"
   ]
  },
  {
   "cell_type": "code",
   "execution_count": 10,
   "metadata": {},
   "outputs": [],
   "source": [
    "# pd.read_csv(\"Frequencies from metal pad size.csv\",).plot(x= 'Pad_len (mm)', y = 'EPR Frequency (GHz)')\n",
    "# plt.ylabel('Frequency (GHz)')\n",
    "# plt.show()"
   ]
  },
  {
   "attachments": {},
   "cell_type": "markdown",
   "metadata": {},
   "source": [
    "The target frequency is around 4.2GHz. To get this frequency, we need the pad size to be around 0.275mm."
   ]
  },
  {
   "attachments": {},
   "cell_type": "markdown",
   "metadata": {},
   "source": [
    "## Global variables"
   ]
  },
  {
   "cell_type": "code",
   "execution_count": 11,
   "metadata": {},
   "outputs": [],
   "source": [
    "phi0 = c.h/2/c.e.si\n",
    "T = 30*u.mK\n",
    "epsilon_r = 11.45"
   ]
  },
  {
   "cell_type": "code",
   "execution_count": 12,
   "metadata": {
    "tags": [
     "parameters"
    ]
   },
   "outputs": [],
   "source": [
    "design = designs.DesignPlanar({}, True)\n",
    "design.chips.main.size['size_x'] = '20 mm'\n",
    "design.chips.main.size['size_y'] = '10 mm'\n",
    "\n",
    "design.variables['cpw_width'] = '15 um'\n",
    "design.variables['cpw_gap'] = '9 um'\n",
    "\n",
    "design.variables['trace_width'] = '12.4 um'\n",
    "cpw_pin_width = 12.4*u.um\n",
    "design.variables['trace_gap'] = '7 um'\n",
    "cpw_gap = 7*u.um\n",
    "\n",
    "design.variables['pad_buffer_radius'] = '30 um'\n",
    "design.variables['buffer_resolution'] = '10'\n",
    "design.variables['connection_pad_buffer_radius'] = '2 um'\n",
    "# design.chips['main']['material'] = 'Silicon'\n",
    "\n",
    "gui = MetalGUI(design)"
   ]
  },
  {
   "attachments": {},
   "cell_type": "markdown",
   "metadata": {},
   "source": [
    "Component-specific variables"
   ]
  },
  {
   "cell_type": "code",
   "execution_count": 13,
   "metadata": {
    "tags": [
     "parameters"
    ]
   },
   "outputs": [],
   "source": [
    "\n",
    "\n",
    "qb_options = dict(\n",
    "pad_pocket_distance_top = '40um',\n",
    "connection_pads = dict(\n",
    "    a = dict(loc_W  = 0, \n",
    "            loc_H =  1, \n",
    "            pad_gap = '15um',\n",
    "            pad_height = '15um',\n",
    "            pad_width = '80um',\n",
    "            pad_cpw_extent =  '10um',\n",
    "            pocket_rise = '0um',\n",
    "            cpw_extend = '0um',\n",
    "            pocket_extent = '0um',)))\n",
    "\n",
    "TQ_options = dict(prime_width = design.variables['cpw_width'],\n",
    "               prime_gap = design.variables['cpw_gap'],\n",
    "               second_width = design.variables['trace_width'],\n",
    "               second_gap = design.variables['trace_gap'],\n",
    "               down_length = '60um',\n",
    "               coupling_space = '5um',\n",
    "               open_termination=False,\n",
    "               hfss_wire_bonds = False,\n",
    "               q3d_wire_bonds = False)\n",
    "\n",
    "CPW_options = Dict(trace_width = design.variables['trace_width'],\n",
    "               trace_gap  = design.variables['trace_gap'],\n",
    "        total_length='5 mm',\n",
    "        hfss_wire_bonds = True,\n",
    "        q3d_wire_bonds = True,\n",
    "        fillet='30 um',\n",
    "        lead = dict(start_straight='20um', end_straight = '50um'),\n",
    "        pin_inputs=Dict(\n",
    "            start_pin=Dict(component='Q1', pin='a'),\n",
    "            end_pin=Dict(component='TQ1', pin='second_end')), )\n",
    "\n",
    "pin_inputs = Dict(\n",
    "            start_pin=Dict(component='Q1', pin='a'),\n",
    "            end_pin=Dict(component='TQ1', pin='second_end'))\n",
    "\n",
    "trans_options = Dict(hfss_wire_bonds = True,\n",
    "                     q3d_wirebonds = True,\n",
    "               pin_inputs=Dict(\n",
    "                 start_pin=Dict(\n",
    "                     component='TQ1',\n",
    "                     pin='prime_start'),\n",
    "                 end_pin=Dict(\n",
    "                     component='TQ2',\n",
    "                     pin='prime_end')))\n"
   ]
  },
  {
   "attachments": {},
   "cell_type": "markdown",
   "metadata": {},
   "source": [
    "## Design"
   ]
  },
  {
   "attachments": {},
   "cell_type": "markdown",
   "metadata": {},
   "source": [
    "Single pad transmon"
   ]
  },
  {
   "cell_type": "code",
   "execution_count": 14,
   "metadata": {},
   "outputs": [],
   "source": [
    "design.delete_all_components()"
   ]
  },
  {
   "cell_type": "code",
   "execution_count": 15,
   "metadata": {},
   "outputs": [],
   "source": [
    "design.overwrite_enabled = True\n",
    "\n",
    "size = 0.25*u.mm\n",
    "gap = 30*u.um\n",
    "size = size.to(u.um)\n",
    "pocket_width = size+2*gap\n",
    "\n",
    "\n",
    "op = Dict(\n",
    "    pos_x = '0',\n",
    "    pad_height = '{}um'.format(size.value),\n",
    "    pos_y = '0',\n",
    "    pad_width = '{}'.format(size),\n",
    "    pocket_width = '{}'.format(pocket_width), \n",
    "    **qb_options)\n",
    "\n",
    "q1 = transmon(design,'Q1',options = op)\n",
    "\n",
    "gui.rebuild()\n",
    "gui.zoom_on_components(['Q1'])\n"
   ]
  },
  {
   "cell_type": "code",
   "execution_count": 16,
   "metadata": {},
   "outputs": [],
   "source": [
    "op = Dict(\n",
    "    pos_x = '1mm',\n",
    "    pad_height = '{}um'.format(size.value),\n",
    "    pos_y = '0',\n",
    "    pad_width = '{}'.format(size),\n",
    "    pocket_width = '{}'.format(pocket_width), \n",
    "    **qb_options)\n",
    "\n",
    "q2 = transmon(design,'Q2',options = op)\n",
    "\n",
    "gui.rebuild()\n",
    "gui.zoom_on_components(['Q2'])"
   ]
  },
  {
   "attachments": {},
   "cell_type": "markdown",
   "metadata": {},
   "source": [
    "Coupled Line Tee"
   ]
  },
  {
   "cell_type": "code",
   "execution_count": 17,
   "metadata": {},
   "outputs": [],
   "source": [
    "TQ_options['down_length'] = '40 um'\n",
    "TQ1 = CoupledLineTee(design, 'TQ1', options=dict(pos_x='-0.1 mm',\n",
    "                                             pos_y='0.5 mm',\n",
    "                                             mirror = True,\n",
    "                                             coupling_length='120 um', **TQ_options))\n",
    "TQ1.options['open_termination'] = False\n",
    "\n",
    "gui.rebuild()\n",
    "gui.autoscale()"
   ]
  },
  {
   "cell_type": "code",
   "execution_count": 18,
   "metadata": {},
   "outputs": [],
   "source": [
    "TQ2 = CoupledLineTee(design, 'TQ2', options=dict(pos_x='0.9 mm',\n",
    "                                             pos_y='0.5 mm',\n",
    "                                             mirror = True,\n",
    "                                             coupling_length='120 um', **TQ_options))\n",
    "TQ2.options['open_termination'] = False\n",
    "\n",
    "gui.rebuild()\n",
    "gui.autoscale()"
   ]
  },
  {
   "cell_type": "code",
   "execution_count": 19,
   "metadata": {},
   "outputs": [
    {
     "data": {
      "text/plain": [
       "'1'"
      ]
     },
     "execution_count": 19,
     "metadata": {},
     "output_type": "execute_result"
    }
   ],
   "source": [
    "q1.name[-1:]"
   ]
  },
  {
   "attachments": {},
   "cell_type": "markdown",
   "metadata": {},
   "source": [
    "Function that constructs CPW"
   ]
  },
  {
   "cell_type": "code",
   "execution_count": 20,
   "metadata": {},
   "outputs": [],
   "source": [
    "def Construct_CPW(q,TQ,pad_size, offset, extend, gapp, Lj, Cj, TQx,TQy, small, TQ_mir, buffer = 150*u.um):\n",
    "    gap1 = 0.056\n",
    "    gap = 30*u.um\n",
    "    size = pad_size.to(u.um)\n",
    "    pocket_width = size+2*gap\n",
    "    design.delete_component('cpw_1')\n",
    "    design.delete_component('cpw_2')\n",
    "    coupling_len = extend\n",
    "    q.options['pad_height'] = '{}'.format(size)\n",
    "    q.options['pad_width'] = '{}'.format(size)\n",
    "    q.options['pocket_width'] = '{}'.format(pocket_width)\n",
    "    q.options['connection_pads']['a']['pad_width'] = '{}'.format(coupling_len)\n",
    "    q.options['connection_pads']['a']['pad_height'] = '30um-{}'.format(gapp)\n",
    "    q.options['connection_pads']['a']['pad_gap'] = '{}'.format(gapp)\n",
    "    q.options.hfss_inductance = Lj\n",
    "    q.options.q3d_inductance =  Lj\n",
    "    q.options.hfss_capacitance = Cj\n",
    "    q.options.q3d_capacitance =  Cj\n",
    "\n",
    "    l_name = 'Lj'+ q.name[-1:]\n",
    "    c_name = 'Cj'+ q.name[-1:]\n",
    "\n",
    "    eig_all.sim.renderer.options[l_name] = Lj\n",
    "    eig_all.sim.renderer.options[c_name] = Cj\n",
    "\n",
    "    \n",
    "    eig_all.sim.setup.vars = {l_name:Lj, c_name:Cj}\n",
    "    gui.rebuild()\n",
    "    \n",
    "\n",
    "    anchors = trans_p.anchor_CPW_round(q,buffer, gap1, 2, small = small, last_offset = offset)\n",
    "    design.delete_component('cpw_1')\n",
    "    gui.rebuild()\n",
    "    TQ.options.pos_x = TQx\n",
    "    TQ.options.pos_y = TQy\n",
    "    TQ.options.mirror = TQ_mir\n",
    "    gui.rebuild()\n",
    "    \n",
    "    pin_inputs = Dict(\n",
    "                start_pin=Dict(component=q.name, pin='a'),\n",
    "                end_pin=Dict(component=TQ.name, pin='second_end'))\n",
    "\n",
    "    CPW_options['pin_inputs'] = pin_inputs\n",
    "\n",
    "    qa = RouteMixed(design, 'cpw_'+q.name[-1:], options = Dict(anchors = anchors, **CPW_options))\n",
    "\n",
    "    gui.rebuild()\n",
    "\n",
    "    \n",
    "    # length = trans_p.find_total_len(qa, q1, TQ1, count_extend=False)\n",
    "    # return (trans_p.find_actual_frequency(length, cpw_pin_width, cpw_gap), length)"
   ]
  },
  {
   "attachments": {},
   "cell_type": "markdown",
   "metadata": {},
   "source": [
    "Import the file that contains optimal qubit-CPW specs"
   ]
  },
  {
   "cell_type": "code",
   "execution_count": 49,
   "metadata": {},
   "outputs": [],
   "source": [
    "guess_path = 'data/educated_guess_0403.csv'\n",
    "guesses = pd.read_csv(guess_path)"
   ]
  },
  {
   "cell_type": "code",
   "execution_count": 23,
   "metadata": {},
   "outputs": [
    {
     "data": {
      "text/html": [
       "<div>\n",
       "<style scoped>\n",
       "    .dataframe tbody tr th:only-of-type {\n",
       "        vertical-align: middle;\n",
       "    }\n",
       "\n",
       "    .dataframe tbody tr th {\n",
       "        vertical-align: top;\n",
       "    }\n",
       "\n",
       "    .dataframe thead th {\n",
       "        text-align: right;\n",
       "    }\n",
       "</style>\n",
       "<table border=\"1\" class=\"dataframe\">\n",
       "  <thead>\n",
       "    <tr style=\"text-align: right;\">\n",
       "      <th></th>\n",
       "      <th>Unnamed: 0</th>\n",
       "      <th>Target_qb_Freq(GHz)</th>\n",
       "      <th>Sizes (um)</th>\n",
       "      <th>Ljs</th>\n",
       "      <th>Ljs (nH)</th>\n",
       "      <th>Buffers (um)</th>\n",
       "      <th>Offsets (mm)</th>\n",
       "      <th>TQx</th>\n",
       "      <th>TQy</th>\n",
       "      <th>Small</th>\n",
       "      <th>TQ_mir</th>\n",
       "      <th>CPW_freq_predict(GHz)</th>\n",
       "      <th>Coupling_len(um)</th>\n",
       "      <th>Coupling_len</th>\n",
       "      <th>Coupling_gap(um)</th>\n",
       "    </tr>\n",
       "  </thead>\n",
       "  <tbody>\n",
       "    <tr>\n",
       "      <th>0</th>\n",
       "      <td>0</td>\n",
       "      <td>4.0</td>\n",
       "      <td>250</td>\n",
       "      <td>13nH</td>\n",
       "      <td>13</td>\n",
       "      <td>188</td>\n",
       "      <td>0.000</td>\n",
       "      <td>-0.1mm</td>\n",
       "      <td>0.5mm</td>\n",
       "      <td>False</td>\n",
       "      <td>True</td>\n",
       "      <td>6.407373</td>\n",
       "      <td>45</td>\n",
       "      <td>45um</td>\n",
       "      <td>15</td>\n",
       "    </tr>\n",
       "    <tr>\n",
       "      <th>1</th>\n",
       "      <td>1</td>\n",
       "      <td>4.2</td>\n",
       "      <td>235</td>\n",
       "      <td>13nH</td>\n",
       "      <td>13</td>\n",
       "      <td>184</td>\n",
       "      <td>0.000</td>\n",
       "      <td>-0.1mm</td>\n",
       "      <td>0.5mm</td>\n",
       "      <td>False</td>\n",
       "      <td>True</td>\n",
       "      <td>6.608273</td>\n",
       "      <td>40</td>\n",
       "      <td>40um</td>\n",
       "      <td>15</td>\n",
       "    </tr>\n",
       "    <tr>\n",
       "      <th>2</th>\n",
       "      <td>2</td>\n",
       "      <td>4.4</td>\n",
       "      <td>208</td>\n",
       "      <td>13nH</td>\n",
       "      <td>13</td>\n",
       "      <td>193</td>\n",
       "      <td>0.000</td>\n",
       "      <td>-0.1mm</td>\n",
       "      <td>0.5mm</td>\n",
       "      <td>False</td>\n",
       "      <td>True</td>\n",
       "      <td>6.800850</td>\n",
       "      <td>22</td>\n",
       "      <td>22um</td>\n",
       "      <td>15</td>\n",
       "    </tr>\n",
       "    <tr>\n",
       "      <th>3</th>\n",
       "      <td>3</td>\n",
       "      <td>4.6</td>\n",
       "      <td>245</td>\n",
       "      <td>10nH</td>\n",
       "      <td>10</td>\n",
       "      <td>250</td>\n",
       "      <td>0.050</td>\n",
       "      <td>0.3675mm</td>\n",
       "      <td>0.5mm</td>\n",
       "      <td>True</td>\n",
       "      <td>False</td>\n",
       "      <td>6.999753</td>\n",
       "      <td>45</td>\n",
       "      <td>45um</td>\n",
       "      <td>15</td>\n",
       "    </tr>\n",
       "    <tr>\n",
       "      <th>4</th>\n",
       "      <td>4</td>\n",
       "      <td>4.8</td>\n",
       "      <td>223</td>\n",
       "      <td>10nH</td>\n",
       "      <td>10</td>\n",
       "      <td>210</td>\n",
       "      <td>0.055</td>\n",
       "      <td>0.03mm</td>\n",
       "      <td>0.5mm</td>\n",
       "      <td>True</td>\n",
       "      <td>False</td>\n",
       "      <td>7.200419</td>\n",
       "      <td>30</td>\n",
       "      <td>30um</td>\n",
       "      <td>15</td>\n",
       "    </tr>\n",
       "    <tr>\n",
       "      <th>5</th>\n",
       "      <td>5</td>\n",
       "      <td>5.0</td>\n",
       "      <td>214</td>\n",
       "      <td>10nH</td>\n",
       "      <td>10</td>\n",
       "      <td>210</td>\n",
       "      <td>0.055</td>\n",
       "      <td>0.09mm</td>\n",
       "      <td>0.5mm</td>\n",
       "      <td>True</td>\n",
       "      <td>False</td>\n",
       "      <td>7.407967</td>\n",
       "      <td>30</td>\n",
       "      <td>30um</td>\n",
       "      <td>15</td>\n",
       "    </tr>\n",
       "    <tr>\n",
       "      <th>6</th>\n",
       "      <td>6</td>\n",
       "      <td>5.2</td>\n",
       "      <td>235</td>\n",
       "      <td>8nH</td>\n",
       "      <td>8</td>\n",
       "      <td>210</td>\n",
       "      <td>0.042</td>\n",
       "      <td>0.3425mm</td>\n",
       "      <td>0.46mm</td>\n",
       "      <td>True</td>\n",
       "      <td>False</td>\n",
       "      <td>7.600704</td>\n",
       "      <td>25</td>\n",
       "      <td>25um</td>\n",
       "      <td>15</td>\n",
       "    </tr>\n",
       "    <tr>\n",
       "      <th>7</th>\n",
       "      <td>7</td>\n",
       "      <td>5.4</td>\n",
       "      <td>225</td>\n",
       "      <td>8nH</td>\n",
       "      <td>8</td>\n",
       "      <td>210</td>\n",
       "      <td>0.065</td>\n",
       "      <td>0.3375mm</td>\n",
       "      <td>0.46mm</td>\n",
       "      <td>True</td>\n",
       "      <td>False</td>\n",
       "      <td>7.807242</td>\n",
       "      <td>22</td>\n",
       "      <td>22um</td>\n",
       "      <td>15</td>\n",
       "    </tr>\n",
       "    <tr>\n",
       "      <th>8</th>\n",
       "      <td>8</td>\n",
       "      <td>5.6</td>\n",
       "      <td>206</td>\n",
       "      <td>8nH</td>\n",
       "      <td>8</td>\n",
       "      <td>210</td>\n",
       "      <td>0.055</td>\n",
       "      <td>0.328mm</td>\n",
       "      <td>0.46mm</td>\n",
       "      <td>True</td>\n",
       "      <td>False</td>\n",
       "      <td>8.000022</td>\n",
       "      <td>30</td>\n",
       "      <td>30um</td>\n",
       "      <td>20</td>\n",
       "    </tr>\n",
       "    <tr>\n",
       "      <th>9</th>\n",
       "      <td>9</td>\n",
       "      <td>5.8</td>\n",
       "      <td>193</td>\n",
       "      <td>8nH</td>\n",
       "      <td>8</td>\n",
       "      <td>252</td>\n",
       "      <td>0.200</td>\n",
       "      <td>0.3425mm</td>\n",
       "      <td>0.46mm</td>\n",
       "      <td>True</td>\n",
       "      <td>False</td>\n",
       "      <td>8.204772</td>\n",
       "      <td>30</td>\n",
       "      <td>30um</td>\n",
       "      <td>20</td>\n",
       "    </tr>\n",
       "  </tbody>\n",
       "</table>\n",
       "</div>"
      ],
      "text/plain": [
       "   Unnamed: 0  Target_qb_Freq(GHz)  Sizes (um)   Ljs  Ljs (nH)  Buffers (um)  \\\n",
       "0           0                  4.0         250  13nH        13           188   \n",
       "1           1                  4.2         235  13nH        13           184   \n",
       "2           2                  4.4         208  13nH        13           193   \n",
       "3           3                  4.6         245  10nH        10           250   \n",
       "4           4                  4.8         223  10nH        10           210   \n",
       "5           5                  5.0         214  10nH        10           210   \n",
       "6           6                  5.2         235   8nH         8           210   \n",
       "7           7                  5.4         225   8nH         8           210   \n",
       "8           8                  5.6         206   8nH         8           210   \n",
       "9           9                  5.8         193   8nH         8           252   \n",
       "\n",
       "   Offsets (mm)       TQx     TQy  Small  TQ_mir  CPW_freq_predict(GHz)  \\\n",
       "0         0.000    -0.1mm   0.5mm  False    True               6.407373   \n",
       "1         0.000    -0.1mm   0.5mm  False    True               6.608273   \n",
       "2         0.000    -0.1mm   0.5mm  False    True               6.800850   \n",
       "3         0.050  0.3675mm   0.5mm   True   False               6.999753   \n",
       "4         0.055    0.03mm   0.5mm   True   False               7.200419   \n",
       "5         0.055    0.09mm   0.5mm   True   False               7.407967   \n",
       "6         0.042  0.3425mm  0.46mm   True   False               7.600704   \n",
       "7         0.065  0.3375mm  0.46mm   True   False               7.807242   \n",
       "8         0.055   0.328mm  0.46mm   True   False               8.000022   \n",
       "9         0.200  0.3425mm  0.46mm   True   False               8.204772   \n",
       "\n",
       "   Coupling_len(um) Coupling_len  Coupling_gap(um)  \n",
       "0                45         45um                15  \n",
       "1                40         40um                15  \n",
       "2                22         22um                15  \n",
       "3                45         45um                15  \n",
       "4                30         30um                15  \n",
       "5                30         30um                15  \n",
       "6                25         25um                15  \n",
       "7                22         22um                15  \n",
       "8                30         30um                20  \n",
       "9                30         30um                20  "
      ]
     },
     "execution_count": 23,
     "metadata": {},
     "output_type": "execute_result"
    }
   ],
   "source": [
    "guesses"
   ]
  },
  {
   "cell_type": "code",
   "execution_count": 25,
   "metadata": {},
   "outputs": [],
   "source": [
    "index = guesses.keys()"
   ]
  },
  {
   "cell_type": "code",
   "execution_count": 26,
   "metadata": {},
   "outputs": [
    {
     "data": {
      "text/plain": [
       "Index(['Unnamed: 0', 'Target_qb_Freq(GHz)', 'Sizes (um)', 'Ljs', 'Ljs (nH)',\n",
       "       'Buffers (um)', 'Offsets (mm)', 'TQx', 'TQy', 'Small', 'TQ_mir',\n",
       "       'CPW_freq_predict(GHz)', 'Coupling_len(um)', 'Coupling_len',\n",
       "       'Coupling_gap(um)'],\n",
       "      dtype='object')"
      ]
     },
     "execution_count": 26,
     "metadata": {},
     "output_type": "execute_result"
    }
   ],
   "source": [
    "index"
   ]
  },
  {
   "cell_type": "code",
   "execution_count": 27,
   "metadata": {},
   "outputs": [
    {
     "ename": "NameError",
     "evalue": "name 'data' is not defined",
     "output_type": "error",
     "traceback": [
      "\u001b[1;31m---------------------------------------------------------------------------\u001b[0m",
      "\u001b[1;31mNameError\u001b[0m                                 Traceback (most recent call last)",
      "\u001b[1;32mc:\\Users\\slab\\Desktop\\Wendy-qiskit-code\\New_Two_Pocket_Distance_coupling.ipynb Cell 31\u001b[0m in \u001b[0;36m1\n\u001b[1;32m----> <a href='vscode-notebook-cell:/c%3A/Users/slab/Desktop/Wendy-qiskit-code/New_Two_Pocket_Distance_coupling.ipynb#X45sZmlsZQ%3D%3D?line=0'>1</a>\u001b[0m freqs \u001b[39m=\u001b[39m data[\u001b[39m'\u001b[39m\u001b[39mTarget_qb_Freq(GHz)\u001b[39m\u001b[39m'\u001b[39m]\u001b[39m.\u001b[39mvalues\n\u001b[0;32m      <a href='vscode-notebook-cell:/c%3A/Users/slab/Desktop/Wendy-qiskit-code/New_Two_Pocket_Distance_coupling.ipynb#X45sZmlsZQ%3D%3D?line=1'>2</a>\u001b[0m sizes \u001b[39m=\u001b[39m \u001b[39mlist\u001b[39m(data[index[\u001b[39m2\u001b[39m]]\u001b[39m.\u001b[39mvalues)\n\u001b[0;32m      <a href='vscode-notebook-cell:/c%3A/Users/slab/Desktop/Wendy-qiskit-code/New_Two_Pocket_Distance_coupling.ipynb#X45sZmlsZQ%3D%3D?line=2'>3</a>\u001b[0m Ljs \u001b[39m=\u001b[39m \u001b[39mlist\u001b[39m((data[index[\u001b[39m3\u001b[39m]]\u001b[39m.\u001b[39mvalues)\u001b[39m.\u001b[39mastype(\u001b[39mstr\u001b[39m))\n",
      "\u001b[1;31mNameError\u001b[0m: name 'data' is not defined"
     ]
    }
   ],
   "source": [
    "freqs = data['Target_qb_Freq(GHz)'].values\n",
    "sizes = list(data[index[2]].values)\n",
    "Ljs = list((data[index[3]].values).astype(str))\n",
    "buffers = list((data[index[5]].values))\n",
    "offsets = list(data[index[6]].values)\n",
    "TQx = list((data[index[7]].values).astype(str))\n",
    "TQy = list((data[index[8]].values).astype(str))\n",
    "small = list(data[index[9]].values)\n",
    "TQ_mir = list((data[index[10]].values))\n",
    "cpw_freq_predict = list(data[index[11]].values)\n",
    "clen = list(data[index[12]].values)\n",
    "gaps = list(data[index[13]].values)"
   ]
  },
  {
   "cell_type": "code",
   "execution_count": 27,
   "metadata": {},
   "outputs": [
    {
     "data": {
      "text/plain": [
       "[6.407372605569507,\n",
       " 6.608272569091718,\n",
       " 6.800850159644736,\n",
       " 6.9997526382007775,\n",
       " 7.200418842420379,\n",
       " 7.40796717182623,\n",
       " 7.6007035709605235,\n",
       " 7.807242251737637,\n",
       " 8.000021710830442,\n",
       " 8.204772409548442]"
      ]
     },
     "execution_count": 27,
     "metadata": {},
     "output_type": "execute_result"
    }
   ],
   "source": [
    "cpw_freq_predict"
   ]
  },
  {
   "cell_type": "code",
   "execution_count": null,
   "metadata": {},
   "outputs": [],
   "source": []
  },
  {
   "cell_type": "code",
   "execution_count": 28,
   "metadata": {},
   "outputs": [],
   "source": [
    "trans_options['pin_inputs']['start_pin']['component'] = 'TQ1'\n",
    "trans_options['pin_inputs']['start_pin']['pin'] = 'prime_end'\n",
    "trans_options['pin_inputs']['end_pin']['component'] = 'TQ2'\n",
    "trans_options['pin_inputs']['end_pin']['pin'] = 'prime_start'\n",
    "middle = RouteStraight(design, 'CPW_mid', trans_options)\n",
    "\n",
    "\n",
    "gui.rebuild()\n",
    "gui.zoom_on_components(['TQ1','TQ2'])"
   ]
  },
  {
   "attachments": {},
   "cell_type": "markdown",
   "metadata": {},
   "source": [
    "# Simulation"
   ]
  },
  {
   "attachments": {},
   "cell_type": "markdown",
   "metadata": {},
   "source": [
    "Import Qiskit Packages"
   ]
  },
  {
   "cell_type": "code",
   "execution_count": 30,
   "metadata": {},
   "outputs": [],
   "source": [
    "from qiskit_metal.analyses.quantization import LOManalysis\n",
    "from qiskit_metal.analyses.quantization import EPRanalysis"
   ]
  },
  {
   "attachments": {},
   "cell_type": "markdown",
   "metadata": {},
   "source": [
    "Set the right path for Ansys Screenshots"
   ]
  },
  {
   "cell_type": "code",
   "execution_count": 29,
   "metadata": {},
   "outputs": [],
   "source": [
    "original = r'C:\\Users\\slab\\Desktop\\Wendy-qiskit-code\\ansys.png'\n",
    "path = r'C:\\Users\\slab\\Desktop\\Wendy-qiskit-code\\Ansys_screenshoots\\Simulation_0404'"
   ]
  },
  {
   "cell_type": "code",
   "execution_count": null,
   "metadata": {},
   "outputs": [],
   "source": [
    "components  = ['Q1','cpw_1','TQ1','Q2','TQ2','cpw_2','cpw_mid','CPW_mid']\n",
    "nmode = 4\n",
    "datas = pd.DataFrame()"
   ]
  },
  {
   "cell_type": "code",
   "execution_count": 16,
   "metadata": {},
   "outputs": [],
   "source": [
    "components_all = ['Q1','Q2','cpw_1','cpw_2','TQ1','TQ2','CPW_left','CPW_right', 'CPW_mid','wb_left','wb_right']"
   ]
  },
  {
   "cell_type": "code",
   "execution_count": 1,
   "metadata": {},
   "outputs": [
    {
     "data": {
      "text/plain": [
       "0"
      ]
     },
     "execution_count": 1,
     "metadata": {},
     "output_type": "execute_result"
    }
   ],
   "source": [
    "round(0.1)"
   ]
  },
  {
   "cell_type": "code",
   "execution_count": 37,
   "metadata": {},
   "outputs": [],
   "source": [
    "def slice_data(data, freq):\n",
    "    diff = freq-4\n",
    "    ind = round(diff/0.2)\n",
    "    return data.iloc[ind]\n",
    "\n",
    "# def qb_cpw_construction(q, TQ, freq, guesses = guesses):\n",
    "    "
   ]
  },
  {
   "cell_type": "code",
   "execution_count": 53,
   "metadata": {},
   "outputs": [
    {
     "data": {
      "text/plain": [
       "Unnamed: 0                      0\n",
       "Target_qb_Freq(GHz)           4.0\n",
       "Sizes (um)                    250\n",
       "Ljs                          13nH\n",
       "Ljs (nH)                       13\n",
       "Buffers (um)                  188\n",
       "Offsets (mm)                  0.0\n",
       "TQx                        -0.1mm\n",
       "TQy                         0.5mm\n",
       "Small                       False\n",
       "TQ_mir                       True\n",
       "CPW_freq_predict(GHz)    6.407373\n",
       "Coupling_len(um)               45\n",
       "Coupling_len                 45um\n",
       "Coupling_gap(um)               15\n",
       "Name: 0, dtype: object"
      ]
     },
     "execution_count": 53,
     "metadata": {},
     "output_type": "execute_result"
    }
   ],
   "source": [
    "slice_data(guesses, 4.05)"
   ]
  },
  {
   "cell_type": "code",
   "execution_count": 40,
   "metadata": {},
   "outputs": [],
   "source": [
    "all_freqs = np.arange(4,6,0.2)"
   ]
  },
  {
   "cell_type": "code",
   "execution_count": 47,
   "metadata": {},
   "outputs": [],
   "source": [
    "from itertools import combinations\n",
    "p = combinations(all_freqs,2)"
   ]
  },
  {
   "cell_type": "code",
   "execution_count": 48,
   "metadata": {},
   "outputs": [
    {
     "name": "stdout",
     "output_type": "stream",
     "text": [
      "(4.0, 4.2)\n",
      "(4.0, 4.4)\n",
      "(4.0, 4.6000000000000005)\n",
      "(4.0, 4.800000000000001)\n",
      "(4.0, 5.000000000000001)\n",
      "(4.0, 5.200000000000001)\n",
      "(4.0, 5.400000000000001)\n",
      "(4.0, 5.600000000000001)\n",
      "(4.0, 5.800000000000002)\n",
      "(4.2, 4.4)\n",
      "(4.2, 4.6000000000000005)\n",
      "(4.2, 4.800000000000001)\n",
      "(4.2, 5.000000000000001)\n",
      "(4.2, 5.200000000000001)\n",
      "(4.2, 5.400000000000001)\n",
      "(4.2, 5.600000000000001)\n",
      "(4.2, 5.800000000000002)\n",
      "(4.4, 4.6000000000000005)\n",
      "(4.4, 4.800000000000001)\n",
      "(4.4, 5.000000000000001)\n",
      "(4.4, 5.200000000000001)\n",
      "(4.4, 5.400000000000001)\n",
      "(4.4, 5.600000000000001)\n",
      "(4.4, 5.800000000000002)\n",
      "(4.6000000000000005, 4.800000000000001)\n",
      "(4.6000000000000005, 5.000000000000001)\n",
      "(4.6000000000000005, 5.200000000000001)\n",
      "(4.6000000000000005, 5.400000000000001)\n",
      "(4.6000000000000005, 5.600000000000001)\n",
      "(4.6000000000000005, 5.800000000000002)\n",
      "(4.800000000000001, 5.000000000000001)\n",
      "(4.800000000000001, 5.200000000000001)\n",
      "(4.800000000000001, 5.400000000000001)\n",
      "(4.800000000000001, 5.600000000000001)\n",
      "(4.800000000000001, 5.800000000000002)\n",
      "(5.000000000000001, 5.200000000000001)\n",
      "(5.000000000000001, 5.400000000000001)\n",
      "(5.000000000000001, 5.600000000000001)\n",
      "(5.000000000000001, 5.800000000000002)\n",
      "(5.200000000000001, 5.400000000000001)\n",
      "(5.200000000000001, 5.600000000000001)\n",
      "(5.200000000000001, 5.800000000000002)\n",
      "(5.400000000000001, 5.600000000000001)\n",
      "(5.400000000000001, 5.800000000000002)\n",
      "(5.600000000000001, 5.800000000000002)\n"
     ]
    }
   ],
   "source": [
    "def construct_cpw_qubit(q, TQ, freq, guess_path):\n",
    "    gap = 30*u.um\n",
    "    guess_all = pd.read_csv(guess_path)\n",
    "    guesses = slice_data(guess_all, freq)\n",
    "    size = guesses['Sizes (um)']*u.um\n",
    "    buffer = guesses['Buffers (um)']*u.um\n",
    "    offset = guesses['Offsets (mm)']\n",
    "    coupling_len = guesses['Coupling_len(um)']*u.um\n",
    "    coupling_gap = guesses['Coupling_gap(um)']*u.um\n",
    "    Lj = guesses['Ljs']\n",
    "    Cj = jj.find_junction_capacitance(int(Lj[:-2])*u.nH)\n",
    "    \n",
    "    Cj1 = str(Cj.to(u.fF).value)+' fF'\n",
    "    size = size.to(u.um)\n",
    "    pocket_width = size+2*gap\n",
    "\n",
    "    TQx = guesses['TQx']\n",
    "    TQy = guesses['TQy']\n",
    "    TQ_mir = guesses['TQ_mir']\n",
    "    small = guesses['Small']\n",
    "    \n",
    "    \n",
    "    \n",
    "    Construct_CPW(q, TQ, size, offset, coupling_len, coupling_gap, Lj, Cj1, TQx,TQy, small, TQ_mir, buffer)\n",
    "    "
   ]
  },
  {
   "cell_type": "code",
   "execution_count": null,
   "metadata": {},
   "outputs": [],
   "source": [
    "# path = r'C:\\Users\\slab\\Desktop\\Wendy-qiskit-code\\Ansys_screenshoots\\Simulation_0314\\loop'\n",
    "gap1 = 0.056\n",
    "datas = pd.DataFrame()\n",
    "for k in range(10):\n",
    "    dat = {}\n",
    "    gap = 30*u.um\n",
    "    size = guesses['Sizes (um)'].values[k]*u.um\n",
    "    buffer = guesses['Buffers (um)'].values[k]*u.um\n",
    "    offset = guesses['Offsets (mm)'].values[k]\n",
    "    coupling_len = guesses['Coupling_len(um)'].values[k]*u.um\n",
    "    coupling_gap = guesses['Coupling_gap(um)'].values[k]*u.um\n",
    "    Lj = guesses['Ljs'].values[k]\n",
    "    Cj = jj.find_junction_capacitance(int(Lj[:-2])*u.nH)\n",
    "    \n",
    "    Cj1 = str(Cj.to(u.fF).value)+' fF'\n",
    "    size = size.to(u.um)\n",
    "    pocket_width = size+2*gap\n",
    "\n",
    "    TQx = guesses['TQx'].values[k]\n",
    "    TQy = guesses['TQy'].values[k]\n",
    "    TQ_mir = guesses['TQ_mir'].values[k]\n",
    "    small = guesses['Small'].values[k]\n",
    "\n",
    "    \n",
    "    dat['pad_size(mm)'] = size.to(u.mm).value\n",
    "    dat['coupling_len(um)'] = coupling_len.to(u.um).value\n",
    "    dat['coupling_gap(um)'] = coupling_gap.to(u.um).value\n",
    "    dat['buffer(um)'] = buffer.to(u.um).value\n",
    "    dat['offset']  = offset\n",
    "    dat['target_freq(GHz)'] = guesses['Target_qb_Freq(GHz)'].values[k]\n",
    "    dat['target_res_freq(GHz)'] = guesses['CPW_freq_predict(GHz)'].values[k]+2.4\n",
    "    dat['Cj (fF)'] = Cj.to(u.fF).value\n",
    "    dat['Lj (nH)'] = guesses['Ljs (nH)'].values[k]\n",
    "    dat['Small_Wrap'] = small\n",
    "    dat['TQx'] = TQx\n",
    "    dat['TQy'] = TQy\n",
    "    dat['TQ_mir'] = TQ_mir\n",
    "    \n",
    "    \n",
    "    Construct_CPW(size, offset, coupling_len, coupling_gap, Lj, Cj1, TQx,TQy, small, TQ_mir, buffer)\n",
    "\n",
    "    TQ1.options['open_termination'] = True\n",
    "    gui.rebuild()\n",
    "\n",
    "    c1.sim.run(components=['Q1','cpw_1','TQ1'])#, open_terminations=[('Q1', 'a')])#, ('Q1', 'bus1'), ('Q1', 'bus2')])\n",
    "    c1.sim.capacitance_matrix \n",
    "\n",
    "    c1.sim._get_results_from_renderer()\n",
    "    c_mat1 = c1.sim.capacitance_matrix\n",
    "    renderer_q3d.clean_active_design()\n",
    "    dat['C_CPW_Qb'] = c_mat1['pad_top_Q1']['a_connector_pad_Q1']\n",
    "    dat['C_CPW_Qbp'] = c_mat1['pad_top_Q1']['g_wb']\n",
    "\n",
    "    TQ1.options['open_termination'] = False\n",
    "    gui.rebuild()\n",
    "\n",
    "    c1.sim.run(components=['Q1','cpw_1','TQ1'])#, open_terminations=[('Q1', 'a')])#, ('Q1', 'bus1'), ('Q1', 'bus2')])\n",
    "    c1.sim.capacitance_matrix \n",
    "\n",
    "    c1.sim._get_results_from_renderer()\n",
    "    c_mat = c1.sim.capacitance_matrix\n",
    "    renderer_q3d.clean_active_design()\n",
    "    dat['C_Qb_g'] = c_mat['pad_top_Q1']['a_connector_pad_Q1']\n",
    "    \n",
    "    count = 0\n",
    "    while count<4:\n",
    "        try:\n",
    "            eig_all.sim.run(name=\"all_freqs\", components=components)#, open_terminations=[('Q1', 'a')])\n",
    "        except:\n",
    "            print('count')\n",
    "            renderer_hfss.clean_active_design()\n",
    "            count += 1\n",
    "            if count>=3:\n",
    "                dat['Freq'+str(i+1)+'(GHz)'] = 0\n",
    "                for i in range(nmode):\n",
    "                    dat['Freq_EPR'+str(i+1)+'(MHz)'] = 0\n",
    "                    for j in range(i+1):\n",
    "                        dat['Chi'+str(i+1)+'_'+str(j+1)+'(MHz)'] = 0\n",
    "                break\n",
    "        else:\n",
    "            convergence = pd.read_csv('hfss_eig_f_convergence.csv')\n",
    "            conv = convergence.dropna()\n",
    "        \n",
    "            ind = list(conv.keys())[1:]\n",
    "            for i in range(nmode):\n",
    "                freq = conv[ind[(i)]].values[-1]\n",
    "                dat['Freq'+str(i+1)+'(GHz)'] = freq\n",
    "                \n",
    "            for i in range(nmode):\n",
    "                    hfss.modeler._modeler.ShowWindow()\n",
    "                    hfss.set_mode(i+1,'Setup')\n",
    "                    hfss.plot_ansys_fields('main')\n",
    "                    hfss.save_screenshot()\n",
    "                    hfss.clear_fields(['main'])\n",
    "                    \n",
    "                    actual = r'C:\\Users\\slab\\Desktop\\Wendy-qiskit-code\\size{:.3f}_w{:.3f}_g{:.3f}_m{}_{}_L{}_C{}.png'.format((size.value),(coupling_len.to(u.um).value),(buffer),i,offset,int(Lj[:-2]), Cj)\n",
    "                    os.rename(original, actual)\n",
    "                    fail = True\n",
    "                    i = 0\n",
    "                    while fail:\n",
    "\n",
    "                        try:\n",
    "                            dest = shutil.move(actual, path)\n",
    "                        except:\n",
    "                            i+= 1\n",
    "                            os.rename(actual,(actual+'{}'.format(i)))\n",
    "                            actual = (actual+'{}'.format(i))\n",
    "                        else:\n",
    "                            fail = False\n",
    "                    \n",
    "            #Run the EPR analysis\n",
    "            try:\n",
    "                del eig_all.setup.junctions['jj']\n",
    "            except:\n",
    "                print('saddd')\n",
    "            eig_all.setup.junctions.jj1 = Dict(rect='JJ_rect_Lj_Q1_rect_jj', line='JJ_Lj_Q1_rect_jj_',\n",
    "                            Lj_variable='Lj1', Cj_variable='Cj1')\n",
    "            eig_all.setup.sweep_variable = 'Lj1'\n",
    "            eig_all.run_epr()\n",
    "\n",
    "            #Save the EPR data\n",
    "            chi = eig_all.sim.renderer.epr_quantum_analysis.get_chis().to_numpy()\n",
    "            freq_EPR= eig_all.sim.renderer.epr_quantum_analysis.get_frequencies().to_numpy()[:,0]\n",
    "            \n",
    "            renderer_hfss.clean_active_design()\n",
    "            for i in range(nmode):\n",
    "                freq = freq_EPR[i]\n",
    "                dat['Freq_EPR'+str(i+1)+'(MHz)'] = freq\n",
    "                for j in range(i+1):\n",
    "                    dat['Chi'+str(i+1)+'_'+str(j+1)+'(MHz)'] = chi[i][j]\n",
    "\n",
    "            data = pd.DataFrame(dat, index = [0])\n",
    "            datas = pd.concat([datas,data], ignore_index=True)\n",
    "            break\n",
    "\n",
    "\n",
    "    datas.to_csv('data\\CPW_QB_freq_cap_0403.csv')\n"
   ]
  },
  {
   "cell_type": "code",
   "execution_count": null,
   "metadata": {},
   "outputs": [],
   "source": []
  },
  {
   "cell_type": "code",
   "execution_count": null,
   "metadata": {},
   "outputs": [],
   "source": []
  },
  {
   "cell_type": "code",
   "execution_count": null,
   "metadata": {},
   "outputs": [],
   "source": []
  },
  {
   "cell_type": "code",
   "execution_count": null,
   "metadata": {},
   "outputs": [],
   "source": []
  },
  {
   "cell_type": "code",
   "execution_count": null,
   "metadata": {},
   "outputs": [],
   "source": []
  },
  {
   "cell_type": "code",
   "execution_count": null,
   "metadata": {},
   "outputs": [],
   "source": []
  },
  {
   "cell_type": "code",
   "execution_count": null,
   "metadata": {},
   "outputs": [],
   "source": []
  },
  {
   "cell_type": "code",
   "execution_count": null,
   "metadata": {},
   "outputs": [],
   "source": []
  },
  {
   "attachments": {},
   "cell_type": "markdown",
   "metadata": {},
   "source": [
    "# A huge loop"
   ]
  },
  {
   "cell_type": "code",
   "execution_count": 34,
   "metadata": {},
   "outputs": [],
   "source": [
    "xs = np.linspace(0.65,14.5,10)\n",
    "components = ['Q1','Q2','cpw_1','cpw_2','TQ1','TQ2'] \n",
    "components_all = ['Q1','Q2','cpw_1','cpw_2','TQ1','TQ2',\n",
    "                  'CPW_left','CPW_right', 'CPW_mid','wb_left','wb_right']\n",
    "#we are not simulating the feedline here since it contains a mode close to the qubit frequency"
   ]
  },
  {
   "cell_type": "code",
   "execution_count": 17,
   "metadata": {},
   "outputs": [],
   "source": [
    "c = LOManalysis(design, \"q3d\")\n",
    "c.sim.setup.min_passes  = 2\n",
    "c.sim.setup.percent_error = 10"
   ]
  },
  {
   "cell_type": "code",
   "execution_count": 18,
   "metadata": {},
   "outputs": [],
   "source": [
    "eig_all = EPRanalysis(design, 'hfss')\n",
    "eig_all.sim.setup.min_passes = 5\n",
    "eig_all.sim.setup.max_delta_f = 0.2"
   ]
  },
  {
   "cell_type": "code",
   "execution_count": 19,
   "metadata": {},
   "outputs": [],
   "source": [
    "hfss = eig_all.sim.renderer\n",
    "original = r'C:\\Users\\slab\\Desktop\\Wendy-qiskit-code\\ansys.png'\n",
    "path = r'C:\\Users\\slab\\Desktop\\Wendy-qiskit-code\\Ansys_screenshoots\\Simulation_0304'"
   ]
  },
  {
   "attachments": {},
   "cell_type": "markdown",
   "metadata": {},
   "source": [
    "debugging"
   ]
  },
  {
   "cell_type": "code",
   "execution_count": 29,
   "metadata": {},
   "outputs": [],
   "source": [
    "# eig_all.clear\n",
    "# renderer_hfss.clean_active_design()"
   ]
  },
  {
   "attachments": {},
   "cell_type": "markdown",
   "metadata": {},
   "source": [
    "## Save Design to GDS"
   ]
  },
  {
   "cell_type": "code",
   "execution_count": 18,
   "metadata": {},
   "outputs": [],
   "source": [
    "a_gds = design.renderers.gds"
   ]
  },
  {
   "cell_type": "code",
   "execution_count": 19,
   "metadata": {},
   "outputs": [
    {
     "data": {
      "text/plain": [
       "{'short_segments_to_not_fillet': 'True',\n",
       " 'check_short_segments_by_scaling_fillet': '2.0',\n",
       " 'gds_unit': 0.001,\n",
       " 'ground_plane': 'True',\n",
       " 'negative_mask': {'main': []},\n",
       " 'fabricate': 'False',\n",
       " 'corners': 'circular bend',\n",
       " 'tolerance': '0.00001',\n",
       " 'precision': '0.000000001',\n",
       " 'width_LineString': '10um',\n",
       " 'path_filename': '../resources/Fake_Junctions.GDS',\n",
       " 'junction_pad_overlap': '5um',\n",
       " 'max_points': '199',\n",
       " 'cheese': {'datatype': '100',\n",
       "  'shape': '0',\n",
       "  'cheese_0_x': '25um',\n",
       "  'cheese_0_y': '25um',\n",
       "  'cheese_1_radius': '100um',\n",
       "  'view_in_file': {'main': {1: True}},\n",
       "  'delta_x': '100um',\n",
       "  'delta_y': '100um',\n",
       "  'edge_nocheese': '200um'},\n",
       " 'no_cheese': {'datatype': '99',\n",
       "  'buffer': '25um',\n",
       "  'cap_style': '2',\n",
       "  'join_style': '2',\n",
       "  'view_in_file': {'main': {1: True}}},\n",
       " 'bounding_box_scale_x': '1.2',\n",
       " 'bounding_box_scale_y': '1.2'}"
      ]
     },
     "execution_count": 19,
     "metadata": {},
     "output_type": "execute_result"
    }
   ],
   "source": [
    "a_gds.options"
   ]
  },
  {
   "cell_type": "code",
   "execution_count": 20,
   "metadata": {},
   "outputs": [],
   "source": [
    "a_gds.options['path_filename'] = 'Customized_Components\\Fake_Junctions.GDS'"
   ]
  },
  {
   "cell_type": "code",
   "execution_count": 21,
   "metadata": {},
   "outputs": [
    {
     "data": {
      "text/plain": [
       "1"
      ]
     },
     "execution_count": 21,
     "metadata": {},
     "output_type": "execute_result"
    }
   ],
   "source": [
    "\n",
    "a_gds.options['short_segments_to_not_fillet'] = 'False'\n",
    "a_gds.export_to_gds('One pad design.gds')"
   ]
  }
 ],
 "metadata": {
  "kernelspec": {
   "display_name": "qmetal",
   "language": "python",
   "name": "qmetal"
  },
  "language_info": {
   "codemirror_mode": {
    "name": "ipython",
    "version": 3
   },
   "file_extension": ".py",
   "mimetype": "text/x-python",
   "name": "python",
   "nbconvert_exporter": "python",
   "pygments_lexer": "ipython3",
   "version": "3.10.8"
  },
  "orig_nbformat": 4
 },
 "nbformat": 4,
 "nbformat_minor": 2
}
