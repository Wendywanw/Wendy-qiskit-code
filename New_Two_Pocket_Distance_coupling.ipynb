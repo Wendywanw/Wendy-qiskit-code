{
 "cells": [
  {
   "cell_type": "markdown",
   "metadata": {},
   "source": [
    "This notebook shows how to design a transmon pocket (single pad design) in qiskit metal. The notebook only need **TransmonPocket_Single** function from a relative path '../../resources'."
   ]
  },
  {
   "cell_type": "code",
   "execution_count": 1,
   "metadata": {},
   "outputs": [],
   "source": [
    "%reload_ext autoreload\n",
    "%autoreload 2"
   ]
  },
  {
   "cell_type": "code",
   "execution_count": 32,
   "metadata": {},
   "outputs": [],
   "source": [
    "#This imports the necessary path to draw the single pad transmon design. \n",
    "import sys\n",
    "sys.path.append('Customized_Components')\n",
    "from rounded_single_pad import Round_TransmonPocket_Single as transmon\n",
    "import Transmon_property as trans_p\n",
    "import Transmon_specifications as jj\n",
    "\n",
    "import shapely\n",
    "import warnings\n",
    "from shapely.errors import ShapelyDeprecationWarning\n",
    "warnings.filterwarnings(\"ignore\", category=ShapelyDeprecationWarning)\n",
    "warnings.filterwarnings(\"ignore\", category=RuntimeWarning)"
   ]
  },
  {
   "cell_type": "code",
   "execution_count": 3,
   "metadata": {},
   "outputs": [],
   "source": [
    "import os\n",
    "import shutil\n",
    "import time"
   ]
  },
  {
   "cell_type": "code",
   "execution_count": 4,
   "metadata": {},
   "outputs": [],
   "source": [
    "import numpy as np\n",
    "import astropy.units as u\n",
    "import astropy.constants as c\n",
    "\n",
    "import pandas as pd\n",
    "import matplotlib.pyplot as plt\n",
    "\n",
    "# %matplotlib inline"
   ]
  },
  {
   "cell_type": "code",
   "execution_count": 5,
   "metadata": {},
   "outputs": [],
   "source": [
    "from qiskit_metal import designs, draw\n",
    "from qiskit_metal import MetalGUI, Dict, Headings\n",
    "\n",
    "from qiskit_metal.qlibrary.couplers.coupled_line_tee import CoupledLineTee\n",
    "# from qiskit_metal.qlibrary.terminations.short_to_ground import ShortToGround\n",
    "# from qiskit_metal.qlibrary.terminations.open_to_ground import OpenToGround\n",
    "from qiskit_metal.qlibrary.terminations.launchpad_wb import LaunchpadWirebond\n",
    "\n",
    "from qiskit_metal.qlibrary.tlines.mixed_path import RouteMixed\n",
    "from qiskit_metal.qlibrary.tlines.straight_path import RouteStraight\n",
    "\n",
    "from qiskit_metal.analyses.quantization import LOManalysis\n",
    "from qiskit_metal.analyses.quantization import EPRanalysis\n",
    "\n",
    "# from qiskit_metal.toolbox_metal.parsing import *"
   ]
  },
  {
   "cell_type": "code",
   "execution_count": 9,
   "metadata": {},
   "outputs": [],
   "source": [
    "# from qiskit_metal.qlibrary.terminations.short_to_ground import ShortToGround\n",
    "# from qiskit_metal.qlibrary.terminations.open_to_ground import OpenToGround\n"
   ]
  },
  {
   "cell_type": "code",
   "execution_count": 10,
   "metadata": {},
   "outputs": [],
   "source": [
    "# pd.read_csv(\"Frequencies from metal pad size.csv\",).plot(x= 'Pad_len (mm)', y = 'EPR Frequency (GHz)')\n",
    "# plt.ylabel('Frequency (GHz)')\n",
    "# plt.show()"
   ]
  },
  {
   "attachments": {},
   "cell_type": "markdown",
   "metadata": {},
   "source": [
    "The target frequency is around 4.2GHz. To get this frequency, we need the pad size to be around 0.275mm."
   ]
  },
  {
   "attachments": {},
   "cell_type": "markdown",
   "metadata": {},
   "source": [
    "## Global variables"
   ]
  },
  {
   "cell_type": "code",
   "execution_count": 6,
   "metadata": {},
   "outputs": [],
   "source": [
    "phi0 = c.h/2/c.e.si\n",
    "T = 30*u.mK\n",
    "epsilon_r = 11.45"
   ]
  },
  {
   "cell_type": "code",
   "execution_count": 7,
   "metadata": {
    "tags": [
     "parameters"
    ]
   },
   "outputs": [
    {
     "name": "stderr",
     "output_type": "stream",
     "text": [
      "05:24PM 12s CRITICAL [_qt_message_handler]: line: 0, func: None(), file: None  WARNING: Populating font family aliases took 145 ms. Replace uses of missing font family \"Courier\" with one that exists to avoid this cost. \n",
      "\n"
     ]
    }
   ],
   "source": [
    "design = designs.DesignPlanar({}, True)\n",
    "design.chips.main.size['size_x'] = '20 mm'\n",
    "design.chips.main.size['size_y'] = '10 mm'\n",
    "\n",
    "design.variables['cpw_width'] = '15 um'\n",
    "design.variables['cpw_gap'] = '9 um'\n",
    "\n",
    "design.variables['trace_width'] = '12.4 um'\n",
    "cpw_pin_width = 12.4*u.um\n",
    "design.variables['trace_gap'] = '7 um'\n",
    "cpw_gap = 7*u.um\n",
    "\n",
    "design.variables['pad_buffer_radius'] = '30 um'\n",
    "design.variables['buffer_resolution'] = '10'\n",
    "design.variables['connection_pad_buffer_radius'] = '2 um'\n",
    "# design.chips['main']['material'] = 'Silicon'\n",
    "\n",
    "gui = MetalGUI(design)"
   ]
  },
  {
   "attachments": {},
   "cell_type": "markdown",
   "metadata": {},
   "source": [
    "Component-specific variables"
   ]
  },
  {
   "cell_type": "code",
   "execution_count": 8,
   "metadata": {
    "tags": [
     "parameters"
    ]
   },
   "outputs": [],
   "source": [
    "qb_options = dict(\n",
    "pad_pocket_distance_top = '40um',\n",
    "connection_pads = dict(\n",
    "    a = dict(loc_W  = 0, \n",
    "            loc_H =  1, \n",
    "            pad_gap = '15um',\n",
    "            pad_height = '15um',\n",
    "            pad_width = '80um',\n",
    "            pad_cpw_extent =  '10um',\n",
    "            pocket_rise = '0um',\n",
    "            cpw_extend = '0um',\n",
    "            pocket_extent = '0um',)))\n",
    "\n",
    "TQ_options = dict(prime_width = design.variables['cpw_width'],\n",
    "               prime_gap = design.variables['cpw_gap'],\n",
    "               second_width = design.variables['trace_width'],\n",
    "               second_gap = design.variables['trace_gap'],\n",
    "               down_length = '60um',\n",
    "               coupling_space = '5um',\n",
    "               open_termination=False,\n",
    "               hfss_wire_bonds = False,\n",
    "               q3d_wire_bonds = False)\n",
    "\n",
    "CPW_options = Dict(trace_width = design.variables['trace_width'],\n",
    "               trace_gap  = design.variables['trace_gap'],\n",
    "        total_length='5 mm',\n",
    "        hfss_wire_bonds = True,\n",
    "        q3d_wire_bonds = True,\n",
    "        fillet='30 um',\n",
    "        lead = dict(start_straight='20um', end_straight = '50um'),\n",
    "        pin_inputs=Dict(\n",
    "            start_pin=Dict(component='Q1', pin='a'),\n",
    "            end_pin=Dict(component='TQ1', pin='second_end')), )\n",
    "\n",
    "pin_inputs = Dict(\n",
    "            start_pin=Dict(component='Q1', pin='a'),\n",
    "            end_pin=Dict(component='TQ1', pin='second_end'))\n",
    "\n",
    "trans_options = Dict(hfss_wire_bonds = True,\n",
    "                     q3d_wirebonds = True,\n",
    "               pin_inputs=Dict(\n",
    "                 start_pin=Dict(\n",
    "                     component='TQ1',\n",
    "                     pin='prime_start'),\n",
    "                 end_pin=Dict(\n",
    "                     component='TQ2',\n",
    "                     pin='prime_end')))\n"
   ]
  },
  {
   "attachments": {},
   "cell_type": "markdown",
   "metadata": {},
   "source": [
    "## Design"
   ]
  },
  {
   "attachments": {},
   "cell_type": "markdown",
   "metadata": {},
   "source": [
    "Single pad transmon"
   ]
  },
  {
   "cell_type": "code",
   "execution_count": 9,
   "metadata": {},
   "outputs": [],
   "source": [
    "design.delete_all_components()"
   ]
  },
  {
   "cell_type": "code",
   "execution_count": 10,
   "metadata": {},
   "outputs": [],
   "source": [
    "design.overwrite_enabled = True\n",
    "\n",
    "size = 0.25*u.mm\n",
    "gap = 30*u.um\n",
    "size = size.to(u.um)\n",
    "pocket_width = size+2*gap\n",
    "\n",
    "\n",
    "op = Dict(\n",
    "    pos_x = '0',\n",
    "    pad_height = '{}um'.format(size.value),\n",
    "    pos_y = '0',\n",
    "    pad_width = '{}'.format(size),\n",
    "    pocket_width = '{}'.format(pocket_width), \n",
    "    **qb_options)\n",
    "\n",
    "q1 = transmon(design,'Q1',options = op)\n",
    "\n",
    "gui.rebuild()\n",
    "gui.zoom_on_components(['Q1'])\n"
   ]
  },
  {
   "cell_type": "code",
   "execution_count": 11,
   "metadata": {},
   "outputs": [],
   "source": [
    "op = Dict(\n",
    "    pos_x = '1mm',\n",
    "    pad_height = '{}um'.format(size.value),\n",
    "    pos_y = '0',\n",
    "    pad_width = '{}'.format(size),\n",
    "    pocket_width = '{}'.format(pocket_width), \n",
    "    **qb_options)\n",
    "\n",
    "q2 = transmon(design,'Q2',options = op)\n",
    "\n",
    "gui.rebuild()\n",
    "gui.zoom_on_components(['Q2'])"
   ]
  },
  {
   "attachments": {},
   "cell_type": "markdown",
   "metadata": {},
   "source": [
    "Coupled Line Tee"
   ]
  },
  {
   "cell_type": "code",
   "execution_count": 12,
   "metadata": {},
   "outputs": [
    {
     "name": "stderr",
     "output_type": "stream",
     "text": [
      "WARNING:py.warnings:/Users/wendy/miniconda3/envs/qiskit/lib/python3.11/site-packages/shapely/constructive.py:181: RuntimeWarning: invalid value encountered in buffer\n",
      "  return lib.buffer(\n",
      "\n",
      "WARNING:py.warnings:/Users/wendy/miniconda3/envs/qiskit/lib/python3.11/site-packages/shapely/constructive.py:181: RuntimeWarning: invalid value encountered in buffer\n",
      "  return lib.buffer(\n",
      "\n"
     ]
    }
   ],
   "source": [
    "TQ_options['down_length'] = '40 um'\n",
    "TQ1 = CoupledLineTee(design, 'TQ1', options=dict(pos_x='-0.1 mm',\n",
    "                                             pos_y='0.5 mm',\n",
    "                                             mirror = True,\n",
    "                                             coupling_length='120 um', **TQ_options))\n",
    "TQ1.options['open_termination'] = False\n",
    "\n",
    "gui.rebuild()\n",
    "gui.autoscale()"
   ]
  },
  {
   "cell_type": "code",
   "execution_count": 13,
   "metadata": {},
   "outputs": [
    {
     "name": "stderr",
     "output_type": "stream",
     "text": [
      "WARNING:py.warnings:/Users/wendy/miniconda3/envs/qiskit/lib/python3.11/site-packages/shapely/constructive.py:181: RuntimeWarning: invalid value encountered in buffer\n",
      "  return lib.buffer(\n",
      "\n",
      "WARNING:py.warnings:/Users/wendy/miniconda3/envs/qiskit/lib/python3.11/site-packages/shapely/constructive.py:181: RuntimeWarning: invalid value encountered in buffer\n",
      "  return lib.buffer(\n",
      "\n"
     ]
    }
   ],
   "source": [
    "TQ2 = CoupledLineTee(design, 'TQ2', options=dict(pos_x='0.9 mm',\n",
    "                                             pos_y='0.5 mm',\n",
    "                                             mirror = True,\n",
    "                                             coupling_length='120 um', **TQ_options))\n",
    "TQ2.options['open_termination'] = False\n",
    "\n",
    "gui.rebuild()\n",
    "gui.autoscale()"
   ]
  },
  {
   "attachments": {},
   "cell_type": "markdown",
   "metadata": {},
   "source": [
    "Function that constructs CPW"
   ]
  },
  {
   "cell_type": "code",
   "execution_count": null,
   "metadata": {},
   "outputs": [],
   "source": []
  },
  {
   "cell_type": "code",
   "execution_count": null,
   "metadata": {},
   "outputs": [],
   "source": []
  },
  {
   "cell_type": "code",
   "execution_count": 23,
   "metadata": {},
   "outputs": [],
   "source": [
    "def slice_data(data, freq):\n",
    "    diff = freq-4\n",
    "    ind = round(diff/0.2)\n",
    "    return data.iloc[ind]\n",
    "\n",
    "# def qb_cpw_construction(q, TQ, freq, guesses = guesses):\n",
    "    "
   ]
  },
  {
   "cell_type": "code",
   "execution_count": 19,
   "metadata": {},
   "outputs": [],
   "source": [
    "def construct_cpw_qubit(q, TQ, freq, displacement = '0um', guess_path = guess_path,sim = True):\n",
    "    guess_all = pd.read_csv(guess_path)\n",
    "    guesses = slice_data(guess_all, freq)\n",
    "    size = guesses['Sizes (um)']*u.um\n",
    "    buffer = guesses['Buffers (um)']*u.um\n",
    "    offset = guesses['Offsets (mm)']\n",
    "    coupling_len = guesses['Coupling_len(um)']*u.um\n",
    "    coupling_gap = guesses['Coupling_gap(um)']*u.um\n",
    "    Lj = guesses['Ljs']\n",
    "    Cj = jj.find_junction_capacitance(int(Lj[:-2])*u.nH)\n",
    "    \n",
    "    Cj1 = str(Cj.to(u.fF).value)+' fF'\n",
    "    size = size.to(u.um)\n",
    "\n",
    "    TQx = guesses['TQx']\n",
    "    TQy = guesses['TQy']\n",
    "    TQ_mir = guesses['TQ_mir']\n",
    "    small = guesses['Small']\n",
    "    \n",
    "    Construct_CPW(q, TQ, size, offset, coupling_len, coupling_gap, Lj, Cj1, TQx,TQy, small, TQ_mir,displacement, buffer, sim)\n",
    "    "
   ]
  },
  {
   "cell_type": "code",
   "execution_count": 29,
   "metadata": {},
   "outputs": [],
   "source": [
    "def Construct_CPW(q, TQ, pad_size, offset, extend, gapp, Lj, Cj, TQx,TQy, small, TQ_mir, displacement = '0um', buffer = 150*u.um, sim  = True):\n",
    "    gap1 = 0.056\n",
    "    gap = 30*u.um\n",
    "    size = pad_size.to(u.um)\n",
    "    pocket_width = size+2*gap\n",
    "    cpw_name = 'cpw_'+ q.name[-1:]\n",
    "    design.delete_component(cpw_name)\n",
    "    coupling_len = extend\n",
    "    q.options['pad_height'] = '{}'.format(size)\n",
    "    q.options['pad_width'] = '{}'.format(size)\n",
    "    q.options['pocket_width'] = '{}'.format(pocket_width)\n",
    "    q.options['connection_pads']['a']['pad_width'] = '{}'.format(coupling_len)\n",
    "    q.options['connection_pads']['a']['pad_height'] = '30um-{}'.format(gapp)\n",
    "    q.options['connection_pads']['a']['pad_gap'] = '{}'.format(gapp)\n",
    "    q.options.hfss_inductance = Lj\n",
    "    q.options.q3d_inductance =  Lj\n",
    "    q.options.hfss_capacitance = Cj\n",
    "    q.options.q3d_capacitance =  Cj\n",
    "\n",
    "    l_name = 'Lj'+ q.name[-1:]\n",
    "    c_name = 'Cj'+ q.name[-1:]\n",
    "\n",
    "    if sim:\n",
    "        eig_all.sim.renderer.options[l_name] = Lj\n",
    "        eig_all.sim.renderer.options[c_name] = Cj\n",
    "        eig_all.sim.setup.vars = {l_name:Lj, c_name:Cj}\n",
    "    \n",
    "    gui.rebuild()\n",
    "\n",
    "    TQ.options.pos_x = TQx + '+' + displacement\n",
    "    q.options.pos_x = displacement\n",
    "    q.options.pos_y = '-'+TQy\n",
    "    TQ.options.mirror = TQ_mir\n",
    "    TQ.options.pos_y = '0um'\n",
    "    gui.rebuild()\n",
    "\n",
    "    anchors = trans_p.anchor_CPW_round(q, buffer, gap1, 2, small = small, last_offset = offset)\n",
    "    design.delete_component(cpw_name)\n",
    "    gui.rebuild()\n",
    "    \n",
    "    pin_inputs = Dict(\n",
    "                start_pin=Dict(component=q.name, pin='a'),\n",
    "                end_pin=Dict(component=TQ.name, pin='second_end'))\n",
    "\n",
    "    CPW_options['pin_inputs'] = pin_inputs\n",
    "\n",
    "    qa = RouteMixed(design, 'cpw_'+q.name[-1:], options = Dict(anchors = anchors, **CPW_options))\n",
    "\n",
    "    gui.rebuild()\n",
    "\n",
    "    \n",
    "    # length = trans_p.find_total_len(qa, q1, TQ1, count_extend=False)\n",
    "    # return (trans_p.find_actual_frequency(length, cpw_pin_width, cpw_gap), length)"
   ]
  },
  {
   "cell_type": "code",
   "execution_count": null,
   "metadata": {},
   "outputs": [],
   "source": []
  },
  {
   "cell_type": "code",
   "execution_count": 36,
   "metadata": {},
   "outputs": [
    {
     "name": "stderr",
     "output_type": "stream",
     "text": [
      "05:38PM 56s INFO [delete_component]: Called delete_component cpw_1, but such a component is not in the design cache dictionary of components.\n"
     ]
    }
   ],
   "source": [
    "construct_cpw_qubit(q1, TQ1, 5, displacement = '0um', guess_path = guess_path, sim = False)"
   ]
  },
  {
   "cell_type": "code",
   "execution_count": 33,
   "metadata": {},
   "outputs": [
    {
     "name": "stderr",
     "output_type": "stream",
     "text": [
      "05:38PM 23s INFO [delete_component]: Called delete_component cpw_2, but such a component is not in the design cache dictionary of components.\n"
     ]
    }
   ],
   "source": [
    "construct_cpw_qubit(q2, TQ2, 4.4, displacement = '1mm', guess_path = guess_path, sim = False)"
   ]
  },
  {
   "cell_type": "code",
   "execution_count": null,
   "metadata": {},
   "outputs": [],
   "source": []
  },
  {
   "cell_type": "code",
   "execution_count": null,
   "metadata": {},
   "outputs": [],
   "source": []
  },
  {
   "attachments": {},
   "cell_type": "markdown",
   "metadata": {},
   "source": [
    "# Simulation"
   ]
  },
  {
   "attachments": {},
   "cell_type": "markdown",
   "metadata": {},
   "source": [
    "Import Qiskit Packages"
   ]
  },
  {
   "cell_type": "code",
   "execution_count": 30,
   "metadata": {},
   "outputs": [],
   "source": [
    "from qiskit_metal.analyses.quantization import LOManalysis\n",
    "from qiskit_metal.analyses.quantization import EPRanalysis"
   ]
  },
  {
   "attachments": {},
   "cell_type": "markdown",
   "metadata": {},
   "source": [
    "Set the right path for Ansys Screenshots"
   ]
  },
  {
   "cell_type": "code",
   "execution_count": 29,
   "metadata": {},
   "outputs": [],
   "source": [
    "original = r'C:\\Users\\slab\\Desktop\\Wendy-qiskit-code\\ansys.png'\n",
    "path = r'C:\\Users\\slab\\Desktop\\Wendy-qiskit-code\\Ansys_screenshoots\\Simulation_0404'"
   ]
  },
  {
   "cell_type": "code",
   "execution_count": null,
   "metadata": {},
   "outputs": [],
   "source": [
    "components  = ['Q1','cpw_1','TQ1','Q2','TQ2','cpw_2','cpw_mid']\n",
    "nmode = 4\n",
    "datas = pd.DataFrame()"
   ]
  },
  {
   "cell_type": "code",
   "execution_count": 16,
   "metadata": {},
   "outputs": [],
   "source": [
    "components_all = ['Q1','Q2','cpw_1','cpw_2','TQ1','TQ2','CPW_left','CPW_right', 'CPW_mid','wb_left','wb_right']"
   ]
  },
  {
   "cell_type": "code",
   "execution_count": 38,
   "metadata": {},
   "outputs": [],
   "source": [
    "all_freqs = np.arange(4,6,0.2)"
   ]
  },
  {
   "cell_type": "code",
   "execution_count": 39,
   "metadata": {},
   "outputs": [],
   "source": [
    "from itertools import combinations\n",
    "p = combinations(all_freqs,2)"
   ]
  },
  {
   "cell_type": "code",
   "execution_count": null,
   "metadata": {},
   "outputs": [],
   "source": [
    "# path = r'C:\\Users\\slab\\Desktop\\Wendy-qiskit-code\\Ansys_screenshoots\\Simulation_0314\\loop'\n",
    "gap1 = 0.056\n",
    "datas = pd.DataFrame()\n",
    "for f1,f2 in p:\n",
    "    dat = {}\n",
    "    dat['guess_path'] = guess_path\n",
    "\n",
    "    construct_cpw_qubit(q1, TQ1, f1, displacement = '0um', guess_path = guess_path, sim = True)\n",
    "    construct_cpw_qubit(q2, TQ2, f2, displacement = '1mm', guess_path = guess_path, sim = True)\n",
    "    TQ1.options['open_termination'] = False\n",
    "    gui.rebuild()\n",
    "\n",
    "    c1.sim.run(components=components)#, open_terminations=[('Q1', 'a')])#, ('Q1', 'bus1'), ('Q1', 'bus2')])\n",
    "    c1.sim.capacitance_matrix \n",
    "    \n",
    "    c1.sim._get_results_from_renderer()\n",
    "    c_mat = c1.sim.capacitance_matrix\n",
    "    renderer_q3d.clean_active_design()\n",
    "    c1  = c_mat['a_connector_pad_Q1']['pad_top_Q1']\n",
    "    c2  = c_mat['a_connector_pad_Q1']['pad_top_Q2']\n",
    "    c12  = c_mat['pad_top_Q1']['pad_top_Q2']\n",
    "\n",
    "    dat['C_Q1_Q2(fF)'] = c12\n",
    "    dat['C_Q1_g(fF)'] = c1\n",
    "    dat['C_Q2_g(fF)'] = c2\n",
    "    \n",
    "    count = 0\n",
    "    while count<4:\n",
    "        try:\n",
    "            eig_all.sim.run(name=\"all_freqs\", components=components)#, open_terminations=[('Q1', 'a')])\n",
    "        except:\n",
    "            print('count')\n",
    "            renderer_hfss.clean_active_design()\n",
    "            count += 1\n",
    "            if count>=3:\n",
    "                dat['Freq'+str(i+1)+'(GHz)'] = 0\n",
    "                for i in range(nmode):\n",
    "                    dat['Freq_EPR'+str(i+1)+'(MHz)'] = 0\n",
    "                    for j in range(i+1):\n",
    "                        dat['Chi'+str(i+1)+'_'+str(j+1)+'(MHz)'] = 0\n",
    "                break\n",
    "        else:\n",
    "            convergence = pd.read_csv('hfss_eig_f_convergence.csv')\n",
    "            conv = convergence.dropna()\n",
    "        \n",
    "            ind = list(conv.keys())[1:]\n",
    "            for i in range(nmode):\n",
    "                freq = conv[ind[(i)]].values[-1]\n",
    "                dat['Freq'+str(i+1)+'(GHz)'] = freq\n",
    "                \n",
    "            for i in range(nmode):\n",
    "                    hfss.modeler._modeler.ShowWindow()\n",
    "                    hfss.set_mode(i+1,'Setup')\n",
    "                    hfss.plot_ansys_fields('main')\n",
    "                    hfss.save_screenshot()\n",
    "                    hfss.clear_fields(['main'])\n",
    "                    \n",
    "                    actual = r'C:\\Users\\slab\\Desktop\\Wendy-qiskit-code\\f1{:.3f}_f2{:.3f}_1mm.png'.format(f1,f2)\n",
    "                    os.rename(original, actual)\n",
    "                    fail = True\n",
    "                    i = 0\n",
    "                    while fail:\n",
    "\n",
    "                        try:\n",
    "                            dest = shutil.move(actual, path)\n",
    "                        except:\n",
    "                            i+= 1\n",
    "                            os.rename(actual,(actual+'{}'.format(i)))\n",
    "                            actual = (actual+'{}'.format(i))\n",
    "                        else:\n",
    "                            fail = False\n",
    "                    \n",
    "            #Run the EPR analysis\n",
    "            try:\n",
    "                del eig_all.setup.junctions['jj']\n",
    "            except:\n",
    "                print('saddd')\n",
    "            eig_all.setup.junctions.jj1 = Dict(rect='JJ_rect_Lj_Q1_rect_jj', line='JJ_Lj_Q1_rect_jj_',\n",
    "                            Lj_variable='Lj1', Cj_variable='Cj1')\n",
    "            eig_all.setup.sweep_variable = 'Lj1'\n",
    "            eig_all.run_epr()\n",
    "\n",
    "            #Save the EPR data\n",
    "            chi = eig_all.sim.renderer.epr_quantum_analysis.get_chis().to_numpy()\n",
    "            freq_EPR= eig_all.sim.renderer.epr_quantum_analysis.get_frequencies().to_numpy()[:,0]\n",
    "            \n",
    "            renderer_hfss.clean_active_design()\n",
    "            for i in range(nmode):\n",
    "                freq = freq_EPR[i]\n",
    "                dat['Freq_EPR'+str(i+1)+'(MHz)'] = freq\n",
    "                for j in range(i+1):\n",
    "                    dat['Chi'+str(i+1)+'_'+str(j+1)+'(MHz)'] = chi[i][j]\n",
    "\n",
    "            data = pd.DataFrame(dat, index = [0])\n",
    "            datas = pd.concat([datas,data], ignore_index=True)\n",
    "            break\n",
    "\n",
    "\n",
    "    datas.to_csv('data\\two_qubit_1mm_0403.csv')\n"
   ]
  },
  {
   "cell_type": "code",
   "execution_count": null,
   "metadata": {},
   "outputs": [],
   "source": []
  },
  {
   "cell_type": "code",
   "execution_count": null,
   "metadata": {},
   "outputs": [],
   "source": []
  },
  {
   "cell_type": "code",
   "execution_count": null,
   "metadata": {},
   "outputs": [],
   "source": []
  },
  {
   "cell_type": "code",
   "execution_count": null,
   "metadata": {},
   "outputs": [],
   "source": []
  },
  {
   "cell_type": "code",
   "execution_count": null,
   "metadata": {},
   "outputs": [],
   "source": []
  },
  {
   "cell_type": "code",
   "execution_count": null,
   "metadata": {},
   "outputs": [],
   "source": []
  },
  {
   "cell_type": "code",
   "execution_count": null,
   "metadata": {},
   "outputs": [],
   "source": []
  },
  {
   "cell_type": "code",
   "execution_count": null,
   "metadata": {},
   "outputs": [],
   "source": []
  },
  {
   "attachments": {},
   "cell_type": "markdown",
   "metadata": {},
   "source": [
    "# A huge loop"
   ]
  },
  {
   "cell_type": "code",
   "execution_count": 34,
   "metadata": {},
   "outputs": [],
   "source": [
    "xs = np.linspace(0.65,14.5,10)\n",
    "components = ['Q1','Q2','cpw_1','cpw_2','TQ1','TQ2'] \n",
    "components_all = ['Q1','Q2','cpw_1','cpw_2','TQ1','TQ2',\n",
    "                  'CPW_left','CPW_right', 'CPW_mid','wb_left','wb_right']\n",
    "#we are not simulating the feedline here since it contains a mode close to the qubit frequency"
   ]
  },
  {
   "cell_type": "code",
   "execution_count": 17,
   "metadata": {},
   "outputs": [],
   "source": [
    "c = LOManalysis(design, \"q3d\")\n",
    "c.sim.setup.min_passes  = 2\n",
    "c.sim.setup.percent_error = 10"
   ]
  },
  {
   "cell_type": "code",
   "execution_count": 18,
   "metadata": {},
   "outputs": [],
   "source": [
    "eig_all = EPRanalysis(design, 'hfss')\n",
    "eig_all.sim.setup.min_passes = 5\n",
    "eig_all.sim.setup.max_delta_f = 0.2"
   ]
  },
  {
   "cell_type": "code",
   "execution_count": 19,
   "metadata": {},
   "outputs": [],
   "source": [
    "hfss = eig_all.sim.renderer\n",
    "original = r'C:\\Users\\slab\\Desktop\\Wendy-qiskit-code\\ansys.png'\n",
    "path = r'C:\\Users\\slab\\Desktop\\Wendy-qiskit-code\\Ansys_screenshoots\\Simulation_0304'"
   ]
  },
  {
   "attachments": {},
   "cell_type": "markdown",
   "metadata": {},
   "source": [
    "debugging"
   ]
  },
  {
   "cell_type": "code",
   "execution_count": 29,
   "metadata": {},
   "outputs": [],
   "source": [
    "# eig_all.clear\n",
    "# renderer_hfss.clean_active_design()"
   ]
  },
  {
   "attachments": {},
   "cell_type": "markdown",
   "metadata": {},
   "source": [
    "## Save Design to GDS"
   ]
  },
  {
   "cell_type": "code",
   "execution_count": 18,
   "metadata": {},
   "outputs": [],
   "source": [
    "a_gds = design.renderers.gds"
   ]
  },
  {
   "cell_type": "code",
   "execution_count": 19,
   "metadata": {},
   "outputs": [
    {
     "data": {
      "text/plain": [
       "{'short_segments_to_not_fillet': 'True',\n",
       " 'check_short_segments_by_scaling_fillet': '2.0',\n",
       " 'gds_unit': 0.001,\n",
       " 'ground_plane': 'True',\n",
       " 'negative_mask': {'main': []},\n",
       " 'fabricate': 'False',\n",
       " 'corners': 'circular bend',\n",
       " 'tolerance': '0.00001',\n",
       " 'precision': '0.000000001',\n",
       " 'width_LineString': '10um',\n",
       " 'path_filename': '../resources/Fake_Junctions.GDS',\n",
       " 'junction_pad_overlap': '5um',\n",
       " 'max_points': '199',\n",
       " 'cheese': {'datatype': '100',\n",
       "  'shape': '0',\n",
       "  'cheese_0_x': '25um',\n",
       "  'cheese_0_y': '25um',\n",
       "  'cheese_1_radius': '100um',\n",
       "  'view_in_file': {'main': {1: True}},\n",
       "  'delta_x': '100um',\n",
       "  'delta_y': '100um',\n",
       "  'edge_nocheese': '200um'},\n",
       " 'no_cheese': {'datatype': '99',\n",
       "  'buffer': '25um',\n",
       "  'cap_style': '2',\n",
       "  'join_style': '2',\n",
       "  'view_in_file': {'main': {1: True}}},\n",
       " 'bounding_box_scale_x': '1.2',\n",
       " 'bounding_box_scale_y': '1.2'}"
      ]
     },
     "execution_count": 19,
     "metadata": {},
     "output_type": "execute_result"
    }
   ],
   "source": [
    "a_gds.options"
   ]
  },
  {
   "cell_type": "code",
   "execution_count": 20,
   "metadata": {},
   "outputs": [],
   "source": [
    "a_gds.options['path_filename'] = 'Customized_Components\\Fake_Junctions.GDS'"
   ]
  },
  {
   "cell_type": "code",
   "execution_count": 21,
   "metadata": {},
   "outputs": [
    {
     "data": {
      "text/plain": [
       "1"
      ]
     },
     "execution_count": 21,
     "metadata": {},
     "output_type": "execute_result"
    }
   ],
   "source": [
    "\n",
    "a_gds.options['short_segments_to_not_fillet'] = 'False'\n",
    "a_gds.export_to_gds('One pad design.gds')"
   ]
  }
 ],
 "metadata": {
  "kernelspec": {
   "display_name": "qiskit",
   "language": "python",
   "name": "python3"
  },
  "language_info": {
   "codemirror_mode": {
    "name": "ipython",
    "version": 3
   },
   "file_extension": ".py",
   "mimetype": "text/x-python",
   "name": "python",
   "nbconvert_exporter": "python",
   "pygments_lexer": "ipython3",
   "version": "3.11.0"
  },
  "orig_nbformat": 4
 },
 "nbformat": 4,
 "nbformat_minor": 2
}
