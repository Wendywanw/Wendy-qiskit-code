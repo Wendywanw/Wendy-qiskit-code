{
 "cells": [
  {
   "attachments": {},
   "cell_type": "markdown",
   "metadata": {},
   "source": [
    "Start!"
   ]
  },
  {
   "cell_type": "code",
   "execution_count": 1,
   "metadata": {},
   "outputs": [],
   "source": [
    "%reload_ext autoreload\n",
    "%autoreload 2"
   ]
  },
  {
   "cell_type": "code",
   "execution_count": 2,
   "metadata": {},
   "outputs": [],
   "source": [
    "import os\n",
    "import shutil\n",
    "import time"
   ]
  },
  {
   "cell_type": "code",
   "execution_count": 3,
   "metadata": {},
   "outputs": [],
   "source": [
    "import astropy.units as u\n",
    "import numpy as np\n",
    "import pandas as pd\n",
    "import astropy.constants as c"
   ]
  },
  {
   "cell_type": "code",
   "execution_count": 4,
   "metadata": {},
   "outputs": [],
   "source": [
    "#This imports the necessary path to draw the single pad transmon design. \n",
    "import sys\n",
    "sys.path.append('Customized_Components')\n",
    "from rounded_single_pad import Round_TransmonPocket_Single as transmon\n",
    "import Transmon_property as trans_p\n",
    "import Transmon_specifications as jj\n",
    "from dolan_junction import DolanJunction as junction\n",
    "import LL_Default_params_LL as dp\n",
    "from pocket_LL import TransmonPocket1 as pocket\n"
   ]
  },
  {
   "cell_type": "code",
   "execution_count": 5,
   "metadata": {},
   "outputs": [],
   "source": [
    "from qiskit_metal.qlibrary.terminations.launchpad_wb import LaunchpadWirebond\n",
    "from qiskit_metal import MetalGUI, Dict\n",
    "from qiskit_metal.qlibrary.couplers.coupled_line_tee import CoupledLineTee"
   ]
  },
  {
   "cell_type": "code",
   "execution_count": 6,
   "metadata": {},
   "outputs": [
    {
     "name": "stderr",
     "output_type": "stream",
     "text": [
      "01:26PM 20s CRITICAL [_qt_message_handler]: line: 0, func: None(), file: None  WARNING: Populating font family aliases took 141 ms. Replace uses of missing font family \"Courier\" with one that exists to avoid this cost. \n",
      "\n"
     ]
    }
   ],
   "source": [
    "gui = MetalGUI(dp.design)\n",
    "design = dp.design"
   ]
  },
  {
   "attachments": {},
   "cell_type": "markdown",
   "metadata": {},
   "source": [
    "## Wirebonds"
   ]
  },
  {
   "cell_type": "code",
   "execution_count": 7,
   "metadata": {},
   "outputs": [],
   "source": [
    "qubit_layer = 5\n",
    "junction_layer = 20\n",
    "ab_layer = 31\n",
    "ab_square_layer = 30\n",
    "junction_area_layer = 60"
   ]
  },
  {
   "cell_type": "code",
   "execution_count": 8,
   "metadata": {},
   "outputs": [],
   "source": [
    "design.delete_all_components()"
   ]
  },
  {
   "cell_type": "code",
   "execution_count": 9,
   "metadata": {},
   "outputs": [],
   "source": [
    "top_leftx = -5.025-0.0125\n",
    "top_lefty = 5.025 +0.0125\n",
    "left_wb_xs = [1.6, 0.5-0.3+0.03225]\n",
    "left_wb_ys = [5-0.5+0.305]\n",
    "left_wb_ys.append(5-1.6)\n",
    "for i in range(8):\n",
    "    new_y = left_wb_ys[-1]-0.85\n",
    "    new_x = 0.5-0.3+0.03225\n",
    "    left_wb_xs.append(new_x)\n",
    "    left_wb_ys.append(new_y)\n",
    "# left_wb_ys.append(-5)\n",
    "\n",
    "left_wb_xs = np.array(left_wb_xs)+top_leftx\n",
    "left_wb_ys = np.array(left_wb_ys)\n",
    "\n",
    "orientations_left = [270,0,0,0,0,0,0,0,0,0]"
   ]
  },
  {
   "cell_type": "code",
   "execution_count": 10,
   "metadata": {},
   "outputs": [
    {
     "data": {
      "text/plain": [
       "array([-3.4375 , -4.80525, -4.80525, -4.80525, -4.80525, -4.80525,\n",
       "       -4.80525, -4.80525, -4.80525, -4.80525])"
      ]
     },
     "execution_count": 10,
     "metadata": {},
     "output_type": "execute_result"
    }
   ],
   "source": [
    "left_wb_xs"
   ]
  },
  {
   "cell_type": "code",
   "execution_count": 11,
   "metadata": {},
   "outputs": [
    {
     "data": {
      "text/plain": [
       "array([ 4.80500000e+00,  3.40000000e+00,  2.55000000e+00,  1.70000000e+00,\n",
       "        8.50000000e-01, -2.22044605e-16, -8.50000000e-01, -1.70000000e+00,\n",
       "       -2.55000000e+00, -3.40000000e+00])"
      ]
     },
     "execution_count": 11,
     "metadata": {},
     "output_type": "execute_result"
    }
   ],
   "source": [
    "left_wb_ys"
   ]
  },
  {
   "cell_type": "code",
   "execution_count": 12,
   "metadata": {},
   "outputs": [],
   "source": [
    "top_rightx = 5.025+0.0125\n",
    "top_righty = 5.025+0.0125\n",
    "right_wb_xs = [5-1.6,4.5+0.305]\n",
    "right_wb_ys = [5-0.5+0.305]\n",
    "right_wb_ys.append(5-1.6)\n",
    "for i in range(8):\n",
    "    new_y = right_wb_ys[-1]-0.85\n",
    "    right_wb_ys.append(new_y)\n",
    "    new_x = 5-0.5+0.305\n",
    "    right_wb_xs.append(new_x)\n",
    "right_wb_ys = np.array(right_wb_ys)\n",
    "\n",
    "orientations_right = [270,180,180,180,180,180,180,180,180,180]"
   ]
  },
  {
   "cell_type": "code",
   "execution_count": 13,
   "metadata": {},
   "outputs": [],
   "source": [
    "Wirebond_left_opt = Dict(trace_width=design.variables['trace_width'],\n",
    "                           trace_gap=design.variables['trace_gap'],\n",
    "                           lead_length='8um',\n",
    "                           pad_width='200um',\n",
    "                           pad_height='120um',\n",
    "                           pad_gap='50um',\n",
    "                           taper_height='50um',\n",
    "                           layer = str(qubit_layer))\n",
    "                           \n",
    "# Wirebond_left_opt = Dict(trace_width=design.variables['trace_width'],\n",
    "#                            trace_gap=design.variables['trace_gap'],\n",
    "#                            lead_length='25um',\n",
    "#                            pad_width='150um',\n",
    "#                            pad_height='200um',\n",
    "#                            pad_gap='130um',\n",
    "#                            taper_height='150um')"
   ]
  },
  {
   "attachments": {},
   "cell_type": "markdown",
   "metadata": {},
   "source": [
    "Place the wirebonds"
   ]
  },
  {
   "cell_type": "code",
   "execution_count": 14,
   "metadata": {},
   "outputs": [],
   "source": [
    "left_lauch_pads = []\n",
    "for i in range(10):\n",
    "    left_lauch_pads.append(LaunchpadWirebond(design,'wb_left'+str(i), options = Dict(pos_x = '{}mm'.format(left_wb_xs[i]),pos_y = '{}mm'.format(left_wb_ys[i]),orientation = orientations_left[i],**Wirebond_left_opt)))\n",
    "    # gui.rebuild()\n",
    "    # gui.autoscale()\n",
    "    # time.sleep(0.1)"
   ]
  },
  {
   "cell_type": "code",
   "execution_count": 15,
   "metadata": {},
   "outputs": [],
   "source": [
    "right_lauch_pads = []\n",
    "for i in range(10):\n",
    "    right_lauch_pads.append(LaunchpadWirebond(design,'wb_right'+str(i), options = Dict(pos_x = '{}mm'.format(right_wb_xs[i]),pos_y = '{}mm'.format(right_wb_ys[i]),orientation = orientations_right[i],**Wirebond_left_opt)))\n",
    "    # gui.rebuild()\n",
    "    # gui.autoscale()\n",
    "    # time.sleep(0.1)"
   ]
  },
  {
   "cell_type": "code",
   "execution_count": 16,
   "metadata": {},
   "outputs": [],
   "source": [
    "gui.rebuild()"
   ]
  },
  {
   "attachments": {},
   "cell_type": "markdown",
   "metadata": {},
   "source": [
    "## Qubit pockets"
   ]
  },
  {
   "cell_type": "code",
   "execution_count": 17,
   "metadata": {},
   "outputs": [],
   "source": [
    "ind_odd = np.array((4, 9, 3, 8, 2, 6, 0, 5, 1, 7))\n",
    "ind_even = np.array((9, 4, 8, 3, 7, 1, 5, 0, 6, 2))"
   ]
  },
  {
   "cell_type": "code",
   "execution_count": 18,
   "metadata": {},
   "outputs": [],
   "source": [
    "freq_odd = 3.8+0.2*ind_odd\n",
    "freq_even = 3.8+0.2*ind_even"
   ]
  },
  {
   "cell_type": "code",
   "execution_count": 19,
   "metadata": {},
   "outputs": [],
   "source": [
    "pocket_options = dict(\n",
    "        pos_x = '0mm', \n",
    "        pos_y = '0mm', \n",
    "        orientation = '0',\n",
    "        frequency = 5.2,\n",
    "        guess_path = r'/Users/wendy/Desktop/Wendy-qiskit-code/data/educated_guess_test3.csv',\n",
    "        coupling_path = '',\n",
    "        sim = True,\n",
    "        coord = '(0,0)',\n",
    "        qubit_layer = qubit_layer,\n",
    "        junction_layer = junction_layer, \n",
    "        ab_layer = ab_layer,\n",
    "        ab_square_layer = ab_square_layer,\n",
    "        junction_area_layer = junction_area_layer,\n",
    "        ab_distance = '70um',\n",
    "        rotation = 90,\n",
    "        jj_orientation = 90\n",
    "        )"
   ]
  },
  {
   "cell_type": "code",
   "execution_count": 20,
   "metadata": {},
   "outputs": [],
   "source": [
    "qubit_y1 = ['3.8mm','3.65mm','2.70000mm','1.750000mm','0.8000mm',\n",
    "            '-0.150000mm','-1.10000mm','-2.050000mm','-3.0000mm','-3.950000mm']"
   ]
  },
  {
   "attachments": {},
   "cell_type": "markdown",
   "metadata": {},
   "source": [
    "First row numbers"
   ]
  },
  {
   "cell_type": "code",
   "execution_count": 21,
   "metadata": {},
   "outputs": [],
   "source": [
    "qubit_x0 = ['-3.9mm', '-3.1mm', '-2.2mm', \n",
    "            '-1.3mm', '-0.4mm', '0.5mm',\n",
    "            '1.4mm', '2.3mm','3.2mm', '4.05mm']\n",
    "qubit_y0 = ['4.5mm'] + ['3.8mm']*8 + ['4.4mm']\n",
    "qubit_angles0 = [90,180,180,180,180,180,180,180,180,270]"
   ]
  },
  {
   "attachments": {},
   "cell_type": "markdown",
   "metadata": {},
   "source": [
    "### First row"
   ]
  },
  {
   "attachments": {},
   "cell_type": "markdown",
   "metadata": {},
   "source": [
    "qubits and qubit-qubit connections"
   ]
  },
  {
   "cell_type": "code",
   "execution_count": 22,
   "metadata": {},
   "outputs": [
    {
     "name": "stdout",
     "output_type": "stream",
     "text": [
      "tried1\n",
      "tried1\n",
      "tried1\n",
      "tried1\n",
      "tried1\n",
      "tried1\n",
      "tried1\n",
      "tried1\n",
      "tried1\n",
      "tried1\n"
     ]
    }
   ],
   "source": [
    "pockets = []#p1, p2]\n",
    "for i in range(10):\n",
    "    j = i\n",
    "    pocket_options['pos_x'] = qubit_x0[j]\n",
    "    pocket_options['pos_y'] = qubit_y0[j]\n",
    "    pocket_options['frequency'] = freq_even[j]\n",
    "    pocket_options['coord'] = '({},0)'.format(j)\n",
    "    pocket_options['rotation'] = qubit_angles0[j]\n",
    "    p = pocket(design,options = pocket_options)\n",
    "    pockets.append(p)\n",
    "    if i ==0:\n",
    "        pass\n",
    "    else:\n",
    "        pockets[i].connect(pockets[i-1])\n",
    "        # p.connect(pockets[-1])\n"
   ]
  },
  {
   "cell_type": "code",
   "execution_count": 23,
   "metadata": {},
   "outputs": [
    {
     "name": "stdout",
     "output_type": "stream",
     "text": [
      "{'pos_x': '0mm', 'pos_y': '0mm', 'orientation': '0', 'chip': 'main', 'layer': '1', 'connection_pads': {}, '_default_connection_pads': {}, 'rad_outer': '2mm', 'rad_inner': '1mm', 'gap': '0.5mm', 'jj_w': '0.2mm', 'finger_NE_width': '0.1mm', 'finger_NE_length': '0.5mm', 'coupler_NE_width': '0.1mm', 'coupler_NE_gap': '0.1mm', 'finger_NW_width': '0.1mm', 'finger_NW_length': '0.5mm', 'coupler_NW_width': '0.1mm', 'coupler_NW_gap': '0.1mm', 'finger_SW_width': '0.1mm', 'finger_SW_length': '0.5mm', 'coupler_SW_width': '0.1mm', 'coupler_SW_gap': '0.1mm', 'finger_E_width': '0.1mm', 'finger_E_length': '0.5mm', 'box_E_width': '0.7mm', 'box_E_length': '0.7mm', 'finger_N_width': '0.1mm', 'finger_N_length': '2mm', 'triangle_base': '2mm', 'triangle_height': '1mm', 'pocket_w': '10mm', 'pocket_h': '10mm'}\n",
      "{'pos_x': '0.0um', 'pos_y': '0.0um', 'orientation': '0.0', 'chip': 'main', 'layer': '1', 'connection_pads': {}, '_default_connection_pads': {'pad_gap': '15um', 'pad_width': '20um', 'pad_height': '150um', 'pad_cpw_shift': '0um', 'pad_cpw_extent': '25um', 'cpw_width': '10um', 'cpw_gap': '6um', 'cpw_extend': '100um', 'pocket_extent': '5um', 'pocket_rise': '0um', 'loc_W': '+1', 'loc_H': '+1'}, 'pad_gap': '30um', 'inductor_width': '20um', 'pad_width': '400um', 'pad_height': '90um', 'pocket_width': '650um', 'pocket_height': '650um', 'coupled_pad_height': '150um', 'coupled_pad_width': '20um', 'coupled_pad_gap': '50um', 'hfss_wire_bonds': False, 'q3d_wire_bonds': False, 'hfss_inductance': '10nH', 'hfss_capacitance': 0, 'hfss_resistance': 0, 'hfss_mesh_kw_jj': 7e-06, 'q3d_inductance': '10nH', 'q3d_capacitance': 0, 'q3d_resistance': 0, 'q3d_mesh_kw_jj': 7e-06, 'gds_cell_name': 'my_other_junction'}\n"
     ]
    }
   ],
   "source": [
    "gui.rebuild()"
   ]
  },
  {
   "cell_type": "code",
   "execution_count": 24,
   "metadata": {},
   "outputs": [],
   "source": [
    "gui.autoscale()"
   ]
  },
  {
   "attachments": {},
   "cell_type": "markdown",
   "metadata": {},
   "source": [
    "Connecting the ends"
   ]
  },
  {
   "cell_type": "code",
   "execution_count": 25,
   "metadata": {},
   "outputs": [],
   "source": [
    "pockets[-1].connect(right_lauch_pads[0])\n",
    "pockets[0].connect(left_lauch_pads[0])"
   ]
  },
  {
   "attachments": {},
   "cell_type": "markdown",
   "metadata": {},
   "source": [
    "### Rows 2-10"
   ]
  },
  {
   "cell_type": "code",
   "execution_count": 26,
   "metadata": {},
   "outputs": [
    {
     "name": "stdout",
     "output_type": "stream",
     "text": [
      "-4.2\n",
      "-3.27\n",
      "-2.34\n",
      "-1.4100000000000001\n",
      "-0.48\n",
      "0.4500000000000002\n",
      "1.38\n",
      "2.3100000000000005\n",
      "3.24\n",
      "4.170000000000001\n"
     ]
    }
   ],
   "source": [
    "distance = 0.93\n",
    "xs = []\n",
    "x0 = -4.2\n",
    "for i in range(10):\n",
    "    print(x0+distance*i)\n",
    "    xs.append(str(x0+distance*i)+'mm')"
   ]
  },
  {
   "cell_type": "code",
   "execution_count": 27,
   "metadata": {},
   "outputs": [
    {
     "data": {
      "text/plain": [
       "['-4.2mm',\n",
       " '-3.27mm',\n",
       " '-2.34mm',\n",
       " '-1.4100000000000001mm',\n",
       " '-0.48mm',\n",
       " '0.4500000000000002mm',\n",
       " '1.38mm',\n",
       " '2.3100000000000005mm',\n",
       " '3.24mm',\n",
       " '4.170000000000001mm']"
      ]
     },
     "execution_count": 27,
     "metadata": {},
     "output_type": "execute_result"
    }
   ],
   "source": [
    "# xs = ['-4.3mm', '-3.35mm', '-2.4mm', '-1.45mm', '-0.5mm', '0.45mm', '1.4mm', '2.35mm', '3.3mm', '4.25mm']\n",
    "xs"
   ]
  },
  {
   "cell_type": "code",
   "execution_count": 28,
   "metadata": {},
   "outputs": [
    {
     "name": "stdout",
     "output_type": "stream",
     "text": [
      "1\n",
      "tried1\n",
      "tried1\n",
      "tried1\n",
      "tried1\n",
      "tried1\n",
      "tried1\n",
      "tried1\n",
      "tried1\n",
      "tried1\n",
      "tried1\n",
      "2\n",
      "tried1\n",
      "tried1\n",
      "tried1\n",
      "tried1\n",
      "tried1\n",
      "tried1\n",
      "tried1\n",
      "tried1\n",
      "tried1\n",
      "tried1\n",
      "3\n",
      "tried1\n",
      "tried1\n",
      "tried1\n",
      "tried1\n",
      "tried1\n",
      "tried1\n",
      "tried1\n",
      "tried1\n",
      "tried1\n",
      "tried1\n",
      "4\n",
      "tried1\n",
      "tried1\n",
      "tried1\n",
      "tried1\n",
      "tried1\n",
      "tried1\n",
      "tried1\n",
      "tried1\n",
      "tried1\n",
      "tried1\n",
      "5\n",
      "tried1\n",
      "tried1\n",
      "tried1\n",
      "tried1\n",
      "tried1\n",
      "tried1\n",
      "tried1\n",
      "tried1\n",
      "tried1\n",
      "tried1\n",
      "6\n",
      "tried1\n",
      "tried1\n",
      "tried1\n",
      "tried1\n",
      "tried1\n",
      "tried1\n",
      "tried1\n",
      "tried1\n",
      "tried1\n",
      "tried1\n",
      "7\n",
      "tried1\n",
      "tried1\n",
      "tried1\n",
      "tried1\n",
      "tried1\n",
      "tried1\n",
      "tried1\n",
      "tried1\n",
      "tried1\n",
      "tried1\n",
      "8\n",
      "tried1\n",
      "tried1\n",
      "tried1\n",
      "tried1\n",
      "tried1\n",
      "tried1\n",
      "tried1\n",
      "tried1\n",
      "tried1\n",
      "tried1\n",
      "9\n",
      "tried1\n",
      "tried1\n",
      "tried1\n",
      "tried1\n",
      "tried1\n",
      "tried1\n",
      "tried1\n",
      "tried1\n",
      "tried1\n",
      "tried1\n"
     ]
    }
   ],
   "source": [
    "# pockets = []#p1, p2]\n",
    "for i in range(1,10):\n",
    "    print(i)\n",
    "    poc = []\n",
    "    for j in range(10):\n",
    "        pocket_options['pos_x'] = xs[j]\n",
    "        pocket_options['pos_y'] = qubit_y1[i]\n",
    "        pocket_options['coord'] = '({},{})'.format(j,i)\n",
    "        if i%2 == 1:\n",
    "            pocket_options['frequency'] = freq_odd[j]\n",
    "        else:\n",
    "            pocket_options['frequency'] = freq_even[j]\n",
    "        pocket_options['rotation'] = 0 #qubit_angles0[j]\n",
    "        p = pocket(design,options = pocket_options)\n",
    "        poc.append(p)\n",
    "        if j ==0:\n",
    "           poc[j].connect(left_lauch_pads[i], buffer = 0.0) \n",
    "        elif j == 9:\n",
    "            poc[j].connect(poc[j-1])\n",
    "            poc[j].connect(right_lauch_pads[i], buffer = 0.0)\n",
    "        else:\n",
    "            poc[j].connect(poc[j-1])\n",
    "    pockets.append(poc)"
   ]
  },
  {
   "cell_type": "code",
   "execution_count": 29,
   "metadata": {},
   "outputs": [
    {
     "name": "stderr",
     "output_type": "stream",
     "text": [
      "01:52PM 55s ERROR [__getitem__]: \n",
      "Warning: User tried to access a variable in the parse options that is not there!\n",
      " Component name = `cutout`\n",
      " Option name    = `helper`\n"
     ]
    }
   ],
   "source": [
    "cut = dp.Cutout(design, 'cutout', options =  Dict(pos_x = str(-(10.15/2-0.3/2)), pos_y = str(10.15/2-0.1/2), layer = qubit_layer))"
   ]
  },
  {
   "cell_type": "code",
   "execution_count": 30,
   "metadata": {},
   "outputs": [
    {
     "name": "stderr",
     "output_type": "stream",
     "text": [
      "02:04PM 09s ERROR [__getitem__]: \n",
      "Warning: User tried to access a variable in the parse options that is not there!\n",
      " Component name = `cutout`\n",
      " Option name    = `helper`\n"
     ]
    }
   ],
   "source": [
    "gui.rebuild()"
   ]
  },
  {
   "attachments": {},
   "cell_type": "markdown",
   "metadata": {},
   "source": [
    "# Export"
   ]
  },
  {
   "cell_type": "code",
   "execution_count": 31,
   "metadata": {},
   "outputs": [],
   "source": [
    "# design.chips.main.size['size_x'] = '10mm'\n",
    "# design.chips.main.size['size_y'] = '10mm'\n",
    "# gui.rebuild()\n",
    "a_gds = design.renderers.gds"
   ]
  },
  {
   "cell_type": "code",
   "execution_count": 32,
   "metadata": {},
   "outputs": [],
   "source": [
    "a_gds.options.cheese.edge_nocheese = '200um'\n",
    "a_gds.options.no_cheese.buffer = '16um'\n",
    "a_gds.options.cheese.cheese_1_radius = '70um'"
   ]
  },
  {
   "cell_type": "code",
   "execution_count": 33,
   "metadata": {},
   "outputs": [],
   "source": [
    "qubit_layer = 5\n",
    "junction_layer = 20\n",
    "ab_layer = 31\n",
    "ab_square_layer = 30\n",
    "junction_area_layer = 60"
   ]
  },
  {
   "cell_type": "code",
   "execution_count": 42,
   "metadata": {},
   "outputs": [],
   "source": [
    "a_gds.options['max_points'] = 500\n",
    "a_gds.options['fabricate'] = True"
   ]
  },
  {
   "cell_type": "code",
   "execution_count": 41,
   "metadata": {},
   "outputs": [],
   "source": [
    "a_gds.options['cheese']['view_in_file']['main'][qubit_layer] = True\n",
    "a_gds.options['no_cheese']['view_in_file']['main'][qubit_layer] = True\n",
    "a_gds.options['cheese']['view_in_file']['main'][junction_layer] = False\n",
    "a_gds.options['no_cheese']['view_in_file']['main'][junction_layer] = True\n",
    "a_gds.options['cheese']['view_in_file']['main'][ab_layer] = False\n",
    "a_gds.options['no_cheese']['view_in_file']['main'][ab_layer] = True\n",
    "a_gds.options['cheese']['view_in_file']['main'][ab_square_layer] = False\n",
    "a_gds.options['no_cheese']['view_in_file']['main'][ab_square_layer] = True\n",
    "a_gds.options['cheese']['view_in_file']['main'][1] = True\n",
    "a_gds.options['no_cheese']['view_in_file']['main'][1] = True"
   ]
  },
  {
   "cell_type": "code",
   "execution_count": 87,
   "metadata": {},
   "outputs": [],
   "source": [
    "# a_gds.options['cheese']['view_in_file']['main'][qubit_layer] = True\n",
    "# a_gds.options['no_cheese']['view_in_file']['main'][qubit_layer] = True\n",
    "# a_gds.options['cheese']['view_in_file']['main'][junction_layer] = True\n",
    "# a_gds.options['no_cheese']['view_in_file']['main'][junction_layer] = True\n",
    "# a_gds.options['cheese']['view_in_file']['main'][ab_layer] = True\n",
    "# a_gds.options['no_cheese']['view_in_file']['main'][ab_layer] = True\n",
    "# a_gds.options['cheese']['view_in_file']['main'][ab_square_layer] = True\n",
    "# a_gds.options['no_cheese']['view_in_file']['main'][ab_square_layer] = True\n",
    "# a_gds.options['cheese']['view_in_file']['main']['1'] = True\n",
    "# a_gds.options['no_cheese']['view_in_file']['main']['1'] = True\n",
    "\n",
    "\n",
    "\n",
    "a_gds.options['fabricate'] = False\n",
    "a_gds.options.tolerance = '0.0000005'\n",
    "a_gds.options.precision = '0.0000000005'"
   ]
  },
  {
   "cell_type": "code",
   "execution_count": 88,
   "metadata": {},
   "outputs": [
    {
     "data": {
      "text/plain": [
       "{'datatype': '100',\n",
       " 'shape': '0',\n",
       " 'cheese_0_x': '25um',\n",
       " 'cheese_0_y': '25um',\n",
       " 'cheese_1_radius': '100um',\n",
       " 'view_in_file': {'main': {1: True,\n",
       "   5: True,\n",
       "   20: False,\n",
       "   31: False,\n",
       "   30: False,\n",
       "   '1': True}},\n",
       " 'delta_x': '100um',\n",
       " 'delta_y': '100um',\n",
       " 'edge_nocheese': '150um'}"
      ]
     },
     "execution_count": 88,
     "metadata": {},
     "output_type": "execute_result"
    }
   ],
   "source": [
    "a_gds.options['cheese']"
   ]
  },
  {
   "cell_type": "code",
   "execution_count": 89,
   "metadata": {},
   "outputs": [],
   "source": [
    "a_gds.options.cheese.edge_nocheese = '150um'\n",
    "a_gds.options.no_cheese.buffer = '200um'\n",
    "a_gds.options.cheese.cheese_1_radius = '100um'"
   ]
  },
  {
   "cell_type": "code",
   "execution_count": 90,
   "metadata": {},
   "outputs": [
    {
     "name": "stderr",
     "output_type": "stream",
     "text": [
      "03:37PM 35s WARNING [_qgeometry_to_gds]: Unexpected shapely object geometry.The variable qgeometry_element is <class 'numpy.float64'>, method can currently handle Polygon and FlexPath.\n",
      "03:37PM 35s WARNING [_qgeometry_to_gds]: Unexpected shapely object geometry.The variable qgeometry_element is <class 'numpy.float64'>, method can currently handle Polygon and FlexPath.\n",
      "03:37PM 35s WARNING [_qgeometry_to_gds]: Unexpected shapely object geometry.The variable qgeometry_element is <class 'numpy.float64'>, method can currently handle Polygon and FlexPath.\n",
      "03:37PM 37s WARNING [_qgeometry_to_gds]: Unexpected shapely object geometry.The variable qgeometry_element is <class 'numpy.float64'>, method can currently handle Polygon and FlexPath.\n",
      "03:38PM 09s WARNING [_import_junction_gds_file]: Not able to find file:\"../resources/Fake_Junctions.GDS\".  Not used to replace junction. Checked directory:\"/Users/wendy/Desktop/resources\".\n",
      "03:38PM 09s WARNING [_cheese_buffer_maker]: The bounding box for no-cheese is outside of chip size.\n",
      "Bounding box for chip is (-5.075, -5.075, 5.075, 5.075).\n",
      "Bounding box with no_cheese buffer is (-5.275, -4.95624, 5.2250000000000005, 5.275).\n",
      "03:38PM 09s WARNING [_check_either_cheese]: layer=60 is not in chip=main either in no_cheese_view_in_file or cheese_view_in_file from self.options.\n"
     ]
    },
    {
     "name": "stdout",
     "output_type": "stream",
     "text": [
      "ground_main_5\n"
     ]
    },
    {
     "data": {
      "text/plain": [
       "1"
      ]
     },
     "execution_count": 90,
     "metadata": {},
     "output_type": "execute_result"
    }
   ],
   "source": [
    "# gui.rebuild()\n",
    "a_gds.export_to_gds('export_test_0506_LL_test_200buff1.gds')"
   ]
  },
  {
   "cell_type": "code",
   "execution_count": null,
   "metadata": {},
   "outputs": [],
   "source": [
    "raise SystemExit(\"Stop right there!\")"
   ]
  },
  {
   "cell_type": "code",
   "execution_count": null,
   "metadata": {},
   "outputs": [],
   "source": [
    "a_gds = design.renderers.gds"
   ]
  },
  {
   "cell_type": "code",
   "execution_count": null,
   "metadata": {},
   "outputs": [],
   "source": [
    "a_gds.options.tolerance = '0.0000005'\n",
    "a_gds.options.cheese.edge_nocheese = '300um'\n",
    "a_gds.options.no_cheese.buffer = '40um'\n",
    "a_gds.options.precision = '0.0000001'"
   ]
  },
  {
   "cell_type": "code",
   "execution_count": null,
   "metadata": {},
   "outputs": [],
   "source": [
    "a_gds.options"
   ]
  },
  {
   "cell_type": "code",
   "execution_count": null,
   "metadata": {},
   "outputs": [],
   "source": [
    "a_gds.options['path_filename'] = 'Customized_Component/Fake_Junctions.GDS'"
   ]
  },
  {
   "cell_type": "code",
   "execution_count": null,
   "metadata": {},
   "outputs": [],
   "source": [
    "a_gds.options.no_cheese.buffer = '0um'\n",
    "\n",
    "a_gds.options['cheese']['view_in_file']['main']['5'] = False\n",
    "a_gds.options['no_cheese']['view_in_file']['main']['5'] = False\n",
    "a_gds.options['ground_plane'] = True"
   ]
  },
  {
   "cell_type": "code",
   "execution_count": null,
   "metadata": {},
   "outputs": [],
   "source": [
    "q1.options.layer = 1\n",
    "d.options.layer = 5\n",
    "gui.rebuild()"
   ]
  },
  {
   "cell_type": "code",
   "execution_count": null,
   "metadata": {},
   "outputs": [],
   "source": [
    "a_gds.options['ground_plane'] = True"
   ]
  },
  {
   "cell_type": "code",
   "execution_count": null,
   "metadata": {},
   "outputs": [],
   "source": [
    "\n",
    "# a_gds.options['short_segments_to_not_fillet'] = True\n",
    "# a_gds.options['check_short_segments_by_scaling_fillet'] = 1.0\n",
    "a_gds.export_to_gds('Dolan.gds')#, highlight_qcomponents=['TQ1'])"
   ]
  },
  {
   "cell_type": "code",
   "execution_count": null,
   "metadata": {},
   "outputs": [],
   "source": [
    "a_gds.options"
   ]
  },
  {
   "cell_type": "code",
   "execution_count": null,
   "metadata": {},
   "outputs": [],
   "source": [
    "design.components.keys()"
   ]
  },
  {
   "cell_type": "code",
   "execution_count": null,
   "metadata": {},
   "outputs": [],
   "source": [
    "d = {}\n"
   ]
  },
  {
   "cell_type": "code",
   "execution_count": null,
   "metadata": {},
   "outputs": [],
   "source": [
    "base = 822.76\n",
    "dose = 0.8\n",
    "for j in range(5):\n",
    "    d['Column' + str(j+1)] = []\n",
    "    dose = 0.8 + j*0.1\n",
    "    for i in range(10):\n",
    "        dose1 = dose + 0.01*i\n",
    "        d['Column' + str(j+1)].append(base*round(dose1,2))\n",
    "    \n",
    "    \n"
   ]
  },
  {
   "cell_type": "code",
   "execution_count": null,
   "metadata": {},
   "outputs": [],
   "source": [
    "matrix = pd.DataFrame(d)"
   ]
  },
  {
   "cell_type": "code",
   "execution_count": null,
   "metadata": {},
   "outputs": [],
   "source": [
    "matrix.index += 1"
   ]
  },
  {
   "cell_type": "code",
   "execution_count": null,
   "metadata": {},
   "outputs": [],
   "source": [
    "matrix"
   ]
  },
  {
   "cell_type": "code",
   "execution_count": null,
   "metadata": {},
   "outputs": [],
   "source": [
    "design.delete_all_components()"
   ]
  },
  {
   "cell_type": "code",
   "execution_count": null,
   "metadata": {},
   "outputs": [],
   "source": [
    "# gui.rebuild()"
   ]
  },
  {
   "cell_type": "code",
   "execution_count": null,
   "metadata": {},
   "outputs": [],
   "source": [
    "i = 3\n",
    "lpl = LaunchpadWirebond(design,'wb_left'+str(i), options = Dict(pos_x = '{}mm'.format(left_wb_xs[i]),pos_y = '{}mm'.format(left_wb_ys[i]),orientation = orientations_left[i],**Wirebond_left_opt))\n",
    "rpr = (LaunchpadWirebond(design,'wb_right'+str(i), options = Dict(pos_x = '{}mm'.format(right_wb_xs[i]),pos_y = '{}mm'.format(right_wb_ys[i]),orientation = orientations_right[i],**Wirebond_left_opt)))\n",
    "    \n",
    "gui.rebuild()"
   ]
  },
  {
   "cell_type": "code",
   "execution_count": null,
   "metadata": {},
   "outputs": [],
   "source": [
    "j = 9\n",
    "pocket_options['pos_x'] = xs[j]\n",
    "pocket_options['pos_y'] = qubit_y1[i]\n",
    "pocket_options['coord'] = '({},{})'.format(j,i)\n",
    "if i%2 == 1:\n",
    "    pocket_options['frequency'] = freq_odd[j]\n",
    "else:\n",
    "    pocket_options['frequency'] = freq_even[j]\n",
    "pocket_options['rotation'] = 0 #qubit_angles0[j]\n",
    "p = pocket(gui, design,options = pocket_options)\n",
    "gui.rebuild()\n",
    "# poc.append(p)\n",
    "# if j ==0:\n",
    "#     poc[j].connect(left_lauch_pads[i], buffer = 0.03) \n",
    "# elif j == 9:\n",
    "#     poc[j].connect(poc[j-1])\n",
    "#     poc[j].connect(right_lauch_pads[i], buffer = 0.03)\n",
    "# else:\n",
    "#     poc[j].connect(poc[j-1])\n",
    "p.connect(rpr, buffer = 0)"
   ]
  },
  {
   "cell_type": "code",
   "execution_count": null,
   "metadata": {},
   "outputs": [],
   "source": [
    "gui.rebuild()"
   ]
  },
  {
   "cell_type": "code",
   "execution_count": null,
   "metadata": {},
   "outputs": [],
   "source": [
    "p.connect(rpr, buffer = 0)"
   ]
  },
  {
   "cell_type": "code",
   "execution_count": null,
   "metadata": {},
   "outputs": [],
   "source": [
    "dic = {'start': [(4.792, 1.7), (4.78, 1.7), (4.75, 1.67), (4.75, 1.6400000000000001), (4.72, 1.61), (4.7, 1.61), (4.67, 1.6400000000000001), (4.67, 1.72), (4.64, 1.75)], 'end': [(4.78, 1.7), (4.75, 1.67), (4.75, 1.6400000000000001), (4.72, 1.61), (4.7, 1.61), (4.67, 1.6400000000000001), (4.67, 1.72), (4.64, 1.75), (4.6325, 1.75)], 'angle': [180, 225.0, 270, 225.0, 180, 135.0, 90, 135.0, 180], 'length': [0.011999999999999567, 0.04712388980384729, 0.029999999999999805, 0.04712388980384729, 0.019999999999999574, 0.04712388980384729, 0.07999999999999985, 0.04712388980384729, 0.037499999999999645], 'type': ['straight', 'arc', 'straight', 'arc', 'straight', 'arc', 'straight', 'arc', 'straight'], 'clockwise': [0, -1.0, 0, 1.0, 0, 1.0, 0, -1.0, 0]}\n"
   ]
  },
  {
   "cell_type": "code",
   "execution_count": null,
   "metadata": {},
   "outputs": [],
   "source": [
    "dic['start']"
   ]
  },
  {
   "cell_type": "code",
   "execution_count": null,
   "metadata": {},
   "outputs": [],
   "source": [
    "dic['end']"
   ]
  },
  {
   "cell_type": "code",
   "execution_count": null,
   "metadata": {},
   "outputs": [],
   "source": [
    "dic['type'][8]"
   ]
  },
  {
   "cell_type": "code",
   "execution_count": null,
   "metadata": {},
   "outputs": [],
   "source": []
  }
 ],
 "metadata": {
  "kernelspec": {
   "display_name": "qiskit",
   "language": "python",
   "name": "python3"
  },
  "language_info": {
   "codemirror_mode": {
    "name": "ipython",
    "version": 3
   },
   "file_extension": ".py",
   "mimetype": "text/x-python",
   "name": "python",
   "nbconvert_exporter": "python",
   "pygments_lexer": "ipython3",
   "version": "3.11.0"
  },
  "orig_nbformat": 4
 },
 "nbformat": 4,
 "nbformat_minor": 2
}
