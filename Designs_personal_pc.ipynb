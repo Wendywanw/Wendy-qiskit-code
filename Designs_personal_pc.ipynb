{
 "cells": [
  {
   "attachments": {},
   "cell_type": "markdown",
   "metadata": {},
   "source": [
    "Start!"
   ]
  },
  {
   "cell_type": "code",
   "execution_count": 1,
   "metadata": {},
   "outputs": [],
   "source": [
    "%reload_ext autoreload\n",
    "%autoreload 2"
   ]
  },
  {
   "cell_type": "code",
   "execution_count": 2,
   "metadata": {},
   "outputs": [],
   "source": [
    "import os\n",
    "import shutil\n",
    "import time"
   ]
  },
  {
   "cell_type": "code",
   "execution_count": 3,
   "metadata": {},
   "outputs": [],
   "source": [
    "import astropy.units as u\n",
    "import numpy as np\n",
    "import pandas as pd\n",
    "import astropy.constants as c"
   ]
  },
  {
   "cell_type": "code",
   "execution_count": 4,
   "metadata": {},
   "outputs": [],
   "source": [
    "#This imports the necessary path to draw the single pad transmon design. \n",
    "import sys\n",
    "sys.path.append('Customized_Components')\n",
    "from rounded_single_pad import Round_TransmonPocket_Single as transmon\n",
    "import Transmon_property as trans_p\n",
    "import Transmon_specifications as jj\n",
    "from dolan_junction import DolanJunction as junction\n",
    "import Default_params as dp\n",
    "from pocket import TransmonPocket as pocket\n"
   ]
  },
  {
   "cell_type": "code",
   "execution_count": 5,
   "metadata": {},
   "outputs": [],
   "source": [
    "from qiskit_metal.qlibrary.terminations.launchpad_wb import LaunchpadWirebond\n",
    "from qiskit_metal import MetalGUI, Dict\n",
    "from qiskit_metal.qlibrary.couplers.coupled_line_tee import CoupledLineTee"
   ]
  },
  {
   "cell_type": "code",
   "execution_count": 6,
   "metadata": {},
   "outputs": [],
   "source": [
    "gui = MetalGUI(dp.design)\n",
    "design = dp.design"
   ]
  },
  {
   "attachments": {},
   "cell_type": "markdown",
   "metadata": {},
   "source": [
    "## Wirebonds"
   ]
  },
  {
   "cell_type": "code",
   "execution_count": 7,
   "metadata": {},
   "outputs": [],
   "source": [
    "design.delete_all_components()"
   ]
  },
  {
   "cell_type": "code",
   "execution_count": 8,
   "metadata": {},
   "outputs": [],
   "source": [
    "top_leftx = -5\n",
    "top_lefty = 5\n",
    "left_wb_xs = [1.6, 0.5-0.3]\n",
    "left_wb_ys = [5-0.5+0.3]\n",
    "left_wb_ys.append(5-1.6)\n",
    "for i in range(8):\n",
    "    new_y = left_wb_ys[-1]-0.85\n",
    "    new_x = 0.5-0.3\n",
    "    left_wb_xs.append(new_x)\n",
    "    left_wb_ys.append(new_y)\n",
    "# left_wb_ys.append(-5)\n",
    "\n",
    "left_wb_xs = np.array(left_wb_xs)+top_leftx\n",
    "left_wb_ys = np.array(left_wb_ys)\n",
    "\n",
    "orientations_left = [270,0,0,0,0,0,0,0,0,0]"
   ]
  },
  {
   "cell_type": "code",
   "execution_count": 9,
   "metadata": {},
   "outputs": [],
   "source": [
    "top_rightx = 5\n",
    "top_righty = 5\n",
    "right_wb_xs = [5-1.6,4.5+0.3]\n",
    "right_wb_ys = [5-0.5+0.3]\n",
    "right_wb_ys.append(5-1.6)\n",
    "for i in range(8):\n",
    "    new_y = right_wb_ys[-1]-0.85\n",
    "    right_wb_ys.append(new_y)\n",
    "    new_x = 5-0.5+0.3\n",
    "    right_wb_xs.append(new_x)\n",
    "right_wb_ys = np.array(right_wb_ys)\n",
    "\n",
    "orientations_right = [270,180,180,180,180,180,180,180,180,180]"
   ]
  },
  {
   "cell_type": "code",
   "execution_count": 10,
   "metadata": {},
   "outputs": [],
   "source": [
    "Wirebond_left_opt = Dict(trace_width=design.variables['trace_width'],\n",
    "                           trace_gap=design.variables['trace_gap'],\n",
    "                           lead_length='8um',\n",
    "                           pad_width='200um',\n",
    "                           pad_height='100um',\n",
    "                           pad_gap='50um',\n",
    "                           taper_height='50um')\n",
    "                           \n",
    "# Wirebond_left_opt = Dict(trace_width=design.variables['trace_width'],\n",
    "#                            trace_gap=design.variables['trace_gap'],\n",
    "#                            lead_length='25um',\n",
    "#                            pad_width='150um',\n",
    "#                            pad_height='200um',\n",
    "#                            pad_gap='130um',\n",
    "#                            taper_height='150um')"
   ]
  },
  {
   "attachments": {},
   "cell_type": "markdown",
   "metadata": {},
   "source": [
    "Place the wirebonds"
   ]
  },
  {
   "cell_type": "code",
   "execution_count": 11,
   "metadata": {},
   "outputs": [],
   "source": [
    "left_lauch_pads = []\n",
    "for i in range(10):\n",
    "    left_lauch_pads.append(LaunchpadWirebond(design,'wb_left'+str(i), options = Dict(pos_x = '{}mm'.format(left_wb_xs[i]),pos_y = '{}mm'.format(left_wb_ys[i]),orientation = orientations_left[i],**Wirebond_left_opt)))\n",
    "    gui.rebuild()\n",
    "    gui.autoscale()\n",
    "    time.sleep(0.1)"
   ]
  },
  {
   "cell_type": "code",
   "execution_count": 12,
   "metadata": {},
   "outputs": [],
   "source": [
    "right_lauch_pads = []\n",
    "for i in range(10):\n",
    "    right_lauch_pads.append(LaunchpadWirebond(design,'wb_right'+str(i), options = Dict(pos_x = '{}mm'.format(right_wb_xs[i]),pos_y = '{}mm'.format(right_wb_ys[i]),orientation = orientations_right[i],**Wirebond_left_opt)))\n",
    "    gui.rebuild()\n",
    "    gui.autoscale()\n",
    "    time.sleep(0.1)"
   ]
  },
  {
   "cell_type": "code",
   "execution_count": 13,
   "metadata": {},
   "outputs": [],
   "source": [
    "gui.rebuild()"
   ]
  },
  {
   "attachments": {},
   "cell_type": "markdown",
   "metadata": {},
   "source": [
    "## Qubit pockets"
   ]
  },
  {
   "cell_type": "code",
   "execution_count": 14,
   "metadata": {},
   "outputs": [],
   "source": [
    "from pocket import TransmonPocket as pocket"
   ]
  },
  {
   "cell_type": "code",
   "execution_count": 15,
   "metadata": {},
   "outputs": [],
   "source": [
    "pocket_options = dict(\n",
    "        pos_x = '0mm', \n",
    "        pos_y = '0mm', \n",
    "        orientation = '0',\n",
    "        frequency = 5.2,\n",
    "        guess_path = r'C:\\Users\\slab\\Desktop\\Wendy-qiskit-code\\data\\educated_guess_all.csv',\n",
    "        coupling_path = '',\n",
    "        sim = True,\n",
    "        coord = '(0,0)',\n",
    "        qubit_layer = 5,\n",
    "        junction_layer = 2, \n",
    "        ab_layer = 8,\n",
    "        ab_square_layer = 9,\n",
    "        ab_distance = '70um',\n",
    "        rotation = 90\n",
    "        )"
   ]
  },
  {
   "cell_type": "code",
   "execution_count": 16,
   "metadata": {},
   "outputs": [],
   "source": [
    "qubit_y1 = ['3.8mm','3.65mm','2.70000mm','1.750000mm','0.8000mm',\n",
    "            '-0.150000mm','-1.10000mm','-2.050000mm','-3.0000mm','-3.950000mm']"
   ]
  },
  {
   "cell_type": "code",
   "execution_count": 17,
   "metadata": {},
   "outputs": [],
   "source": [
    "ind_odd = np.array((4, 9, 3, 8, 2, 6, 0, 5, 1, 7))\n",
    "ind_even = np.array((9, 4, 8, 3, 7, 1, 5, 0, 6, 2))"
   ]
  },
  {
   "cell_type": "code",
   "execution_count": 18,
   "metadata": {},
   "outputs": [],
   "source": [
    "freq_odd = 3.8+0.2*ind_odd\n",
    "freq_even = 3.8+0.2*ind_even"
   ]
  },
  {
   "attachments": {},
   "cell_type": "markdown",
   "metadata": {},
   "source": [
    "### First row"
   ]
  },
  {
   "attachments": {},
   "cell_type": "markdown",
   "metadata": {},
   "source": [
    "First row numbers"
   ]
  },
  {
   "cell_type": "code",
   "execution_count": 19,
   "metadata": {},
   "outputs": [],
   "source": [
    "qubit_x0 = ['-3.9mm', '-3.1mm', '-2.2mm', \n",
    "            '-1.3mm', '-0.4mm', '0.5mm',\n",
    "            '1.4mm', '2.3mm','3.2mm', '4.05mm']\n",
    "qubit_y0 = ['4.5mm'] + ['3.8mm']*8 + ['4.2mm']\n",
    "qubit_angles0 = [90,180,180,180,180,180,180,180,180,270]"
   ]
  },
  {
   "attachments": {},
   "cell_type": "markdown",
   "metadata": {},
   "source": [
    "qubits and qubit-qubit connections"
   ]
  },
  {
   "cell_type": "code",
   "execution_count": 20,
   "metadata": {},
   "outputs": [],
   "source": [
    "# j = 3\n",
    "# pocket_options['pos_x'] = qubit_x0[j]\n",
    "# pocket_options['pos_y'] = qubit_y0[j]\n",
    "# pocket_options['frequency'] = freq_even[j]\n",
    "# pocket_options['coord'] = '({},0)'.format(j)\n",
    "# pocket_options['rotation'] = qubit_angles0[j]\n",
    "# p = pocket(gui, design,options = pocket_options)"
   ]
  },
  {
   "cell_type": "code",
   "execution_count": 21,
   "metadata": {},
   "outputs": [
    {
     "name": "stderr",
     "output_type": "stream",
     "text": [
      "10:00PM 16s INFO [delete_component]: Called delete_component cpw_(0,0), but such a component is not in the design cache dictionary of components.\n",
      "10:00PM 18s INFO [delete_component]: Called delete_component cpw_(1,0), but such a component is not in the design cache dictionary of components.\n",
      "10:00PM 24s INFO [delete_component]: Called delete_component cpw_(2,0), but such a component is not in the design cache dictionary of components.\n",
      "10:00PM 34s INFO [delete_component]: Called delete_component cpw_(3,0), but such a component is not in the design cache dictionary of components.\n",
      "10:00PM 48s INFO [delete_component]: Called delete_component cpw_(4,0), but such a component is not in the design cache dictionary of components.\n",
      "10:01PM 10s INFO [delete_component]: Called delete_component cpw_(5,0), but such a component is not in the design cache dictionary of components.\n",
      "10:01PM 46s INFO [delete_component]: Called delete_component cpw_(6,0), but such a component is not in the design cache dictionary of components.\n",
      "10:02PM 25s INFO [delete_component]: Called delete_component cpw_(7,0), but such a component is not in the design cache dictionary of components.\n",
      "10:03PM 10s INFO [delete_component]: Called delete_component cpw_(8,0), but such a component is not in the design cache dictionary of components.\n",
      "10:04PM 02s INFO [delete_component]: Called delete_component cpw_(9,0), but such a component is not in the design cache dictionary of components.\n"
     ]
    }
   ],
   "source": [
    "pockets = []#p1, p2]\n",
    "for i in range(10):\n",
    "    j = i\n",
    "    pocket_options['pos_x'] = qubit_x0[j]\n",
    "    pocket_options['pos_y'] = qubit_y0[j]\n",
    "    pocket_options['frequency'] = freq_even[j]\n",
    "    pocket_options['coord'] = '({},0)'.format(j)\n",
    "    pocket_options['rotation'] = qubit_angles0[j]\n",
    "    p = pocket(gui, design,options = pocket_options)\n",
    "    pockets.append(p)\n",
    "    if i ==0:\n",
    "        pass\n",
    "    else:\n",
    "        pockets[i].connect(pockets[i-1])\n",
    "        # p.connect(pockets[-1])\n"
   ]
  },
  {
   "attachments": {},
   "cell_type": "markdown",
   "metadata": {},
   "source": [
    "Connecting the ends"
   ]
  },
  {
   "cell_type": "code",
   "execution_count": 22,
   "metadata": {},
   "outputs": [],
   "source": [
    "pockets[-1].connect(right_lauch_pads[0])\n",
    "pockets[0].connect(left_lauch_pads[0])"
   ]
  },
  {
   "attachments": {},
   "cell_type": "markdown",
   "metadata": {},
   "source": [
    "### Rows 2-10"
   ]
  },
  {
   "cell_type": "code",
   "execution_count": 23,
   "metadata": {},
   "outputs": [],
   "source": [
    "xs = ['-4.3mm', '-3.35mm', '-2.4mm', '-1.45mm', '-0.5mm', '0.45mm', '1.4mm', '2.35mm', '3.3mm', '4.25mm']"
   ]
  },
  {
   "cell_type": "code",
   "execution_count": 24,
   "metadata": {},
   "outputs": [
    {
     "name": "stderr",
     "output_type": "stream",
     "text": [
      "10:05PM 56s INFO [delete_component]: Called delete_component cpw_(0,1), but such a component is not in the design cache dictionary of components.\n",
      "10:07PM 15s INFO [delete_component]: Called delete_component cpw_(1,1), but such a component is not in the design cache dictionary of components.\n",
      "10:08PM 42s INFO [delete_component]: Called delete_component cpw_(2,1), but such a component is not in the design cache dictionary of components.\n",
      "10:10PM 20s INFO [delete_component]: Called delete_component cpw_(3,1), but such a component is not in the design cache dictionary of components.\n",
      "10:12PM 07s INFO [delete_component]: Called delete_component cpw_(4,1), but such a component is not in the design cache dictionary of components.\n",
      "10:14PM 06s INFO [delete_component]: Called delete_component cpw_(5,1), but such a component is not in the design cache dictionary of components.\n",
      "10:16PM 15s INFO [delete_component]: Called delete_component cpw_(6,1), but such a component is not in the design cache dictionary of components.\n",
      "10:18PM 33s INFO [delete_component]: Called delete_component cpw_(7,1), but such a component is not in the design cache dictionary of components.\n",
      "10:21PM 04s INFO [delete_component]: Called delete_component cpw_(8,1), but such a component is not in the design cache dictionary of components.\n",
      "10:23PM 47s INFO [delete_component]: Called delete_component cpw_(9,1), but such a component is not in the design cache dictionary of components.\n",
      "10:27PM 41s INFO [delete_component]: Called delete_component cpw_(0,2), but such a component is not in the design cache dictionary of components.\n",
      "10:30PM 51s INFO [delete_component]: Called delete_component cpw_(1,2), but such a component is not in the design cache dictionary of components.\n",
      "10:34PM 14s INFO [delete_component]: Called delete_component cpw_(2,2), but such a component is not in the design cache dictionary of components.\n",
      "10:37PM 49s INFO [delete_component]: Called delete_component cpw_(3,2), but such a component is not in the design cache dictionary of components.\n",
      "10:41PM 39s INFO [delete_component]: Called delete_component cpw_(4,2), but such a component is not in the design cache dictionary of components.\n",
      "10:45PM 44s INFO [delete_component]: Called delete_component cpw_(5,2), but such a component is not in the design cache dictionary of components.\n",
      "10:50PM 07s INFO [delete_component]: Called delete_component cpw_(6,2), but such a component is not in the design cache dictionary of components.\n",
      "10:54PM 46s INFO [delete_component]: Called delete_component cpw_(7,2), but such a component is not in the design cache dictionary of components.\n",
      "10:59PM 39s INFO [delete_component]: Called delete_component cpw_(8,2), but such a component is not in the design cache dictionary of components.\n",
      "11:04PM 51s INFO [delete_component]: Called delete_component cpw_(9,2), but such a component is not in the design cache dictionary of components.\n",
      "11:12PM 14s INFO [delete_component]: Called delete_component cpw_(0,3), but such a component is not in the design cache dictionary of components.\n",
      "11:18PM 11s INFO [delete_component]: Called delete_component cpw_(1,3), but such a component is not in the design cache dictionary of components.\n",
      "11:24PM 24s INFO [delete_component]: Called delete_component cpw_(2,3), but such a component is not in the design cache dictionary of components.\n",
      "11:31PM 00s INFO [delete_component]: Called delete_component cpw_(3,3), but such a component is not in the design cache dictionary of components.\n",
      "11:37PM 56s INFO [delete_component]: Called delete_component cpw_(4,3), but such a component is not in the design cache dictionary of components.\n",
      "11:45PM 15s INFO [delete_component]: Called delete_component cpw_(5,3), but such a component is not in the design cache dictionary of components.\n",
      "11:52PM 57s INFO [delete_component]: Called delete_component cpw_(6,3), but such a component is not in the design cache dictionary of components.\n",
      "12:00AM 57s INFO [delete_component]: Called delete_component cpw_(7,3), but such a component is not in the design cache dictionary of components.\n",
      "12:09AM 23s INFO [delete_component]: Called delete_component cpw_(8,3), but such a component is not in the design cache dictionary of components.\n",
      "12:18AM 13s INFO [delete_component]: Called delete_component cpw_(9,3), but such a component is not in the design cache dictionary of components.\n",
      "12:30AM 32s INFO [delete_component]: Called delete_component cpw_(0,4), but such a component is not in the design cache dictionary of components.\n",
      "12:40AM 15s INFO [delete_component]: Called delete_component cpw_(1,4), but such a component is not in the design cache dictionary of components.\n",
      "12:50AM 21s INFO [delete_component]: Called delete_component cpw_(2,4), but such a component is not in the design cache dictionary of components.\n",
      "01:00AM 51s INFO [delete_component]: Called delete_component cpw_(3,4), but such a component is not in the design cache dictionary of components.\n",
      "01:11AM 51s INFO [delete_component]: Called delete_component cpw_(4,4), but such a component is not in the design cache dictionary of components.\n",
      "01:23AM 19s INFO [delete_component]: Called delete_component cpw_(5,4), but such a component is not in the design cache dictionary of components.\n",
      "01:35AM 18s INFO [delete_component]: Called delete_component cpw_(6,4), but such a component is not in the design cache dictionary of components.\n",
      "01:47AM 47s INFO [delete_component]: Called delete_component cpw_(7,4), but such a component is not in the design cache dictionary of components.\n",
      "02:00AM 40s INFO [delete_component]: Called delete_component cpw_(8,4), but such a component is not in the design cache dictionary of components.\n",
      "02:14AM 07s INFO [delete_component]: Called delete_component cpw_(9,4), but such a component is not in the design cache dictionary of components.\n",
      "02:32AM 51s INFO [delete_component]: Called delete_component cpw_(0,5), but such a component is not in the design cache dictionary of components.\n",
      "02:47AM 38s INFO [delete_component]: Called delete_component cpw_(1,5), but such a component is not in the design cache dictionary of components.\n",
      "03:02AM 53s INFO [delete_component]: Called delete_component cpw_(2,5), but such a component is not in the design cache dictionary of components.\n",
      "03:18AM 46s INFO [delete_component]: Called delete_component cpw_(3,5), but such a component is not in the design cache dictionary of components.\n",
      "03:35AM 13s INFO [delete_component]: Called delete_component cpw_(4,5), but such a component is not in the design cache dictionary of components.\n",
      "03:52AM 20s INFO [delete_component]: Called delete_component cpw_(5,5), but such a component is not in the design cache dictionary of components.\n",
      "04:10AM 02s INFO [delete_component]: Called delete_component cpw_(6,5), but such a component is not in the design cache dictionary of components.\n",
      "04:28AM 16s INFO [delete_component]: Called delete_component cpw_(7,5), but such a component is not in the design cache dictionary of components.\n",
      "04:47AM 10s INFO [delete_component]: Called delete_component cpw_(8,5), but such a component is not in the design cache dictionary of components.\n",
      "05:06AM 45s INFO [delete_component]: Called delete_component cpw_(9,5), but such a component is not in the design cache dictionary of components.\n",
      "05:33AM 42s INFO [delete_component]: Called delete_component cpw_(0,6), but such a component is not in the design cache dictionary of components.\n",
      "05:54AM 42s INFO [delete_component]: Called delete_component cpw_(1,6), but such a component is not in the design cache dictionary of components.\n",
      "06:16AM 19s INFO [delete_component]: Called delete_component cpw_(2,6), but such a component is not in the design cache dictionary of components.\n",
      "06:38AM 34s INFO [delete_component]: Called delete_component cpw_(3,6), but such a component is not in the design cache dictionary of components.\n",
      "07:01AM 36s INFO [delete_component]: Called delete_component cpw_(4,6), but such a component is not in the design cache dictionary of components.\n",
      "07:25AM 25s INFO [delete_component]: Called delete_component cpw_(5,6), but such a component is not in the design cache dictionary of components.\n",
      "07:50AM 00s INFO [delete_component]: Called delete_component cpw_(6,6), but such a component is not in the design cache dictionary of components.\n",
      "08:15AM 23s INFO [delete_component]: Called delete_component cpw_(7,6), but such a component is not in the design cache dictionary of components.\n",
      "08:41AM 25s INFO [delete_component]: Called delete_component cpw_(8,6), but such a component is not in the design cache dictionary of components.\n",
      "09:08AM 20s INFO [delete_component]: Called delete_component cpw_(9,6), but such a component is not in the design cache dictionary of components.\n",
      "09:45AM 27s INFO [delete_component]: Called delete_component cpw_(0,7), but such a component is not in the design cache dictionary of components.\n",
      "10:14AM 25s INFO [delete_component]: Called delete_component cpw_(1,7), but such a component is not in the design cache dictionary of components.\n",
      "10:44AM 05s INFO [delete_component]: Called delete_component cpw_(2,7), but such a component is not in the design cache dictionary of components.\n",
      "11:14AM 42s INFO [delete_component]: Called delete_component cpw_(3,7), but such a component is not in the design cache dictionary of components.\n",
      "11:46AM 13s INFO [delete_component]: Called delete_component cpw_(4,7), but such a component is not in the design cache dictionary of components.\n",
      "12:18PM 40s INFO [delete_component]: Called delete_component cpw_(5,7), but such a component is not in the design cache dictionary of components.\n",
      "12:52PM 01s INFO [delete_component]: Called delete_component cpw_(6,7), but such a component is not in the design cache dictionary of components.\n",
      "01:26PM 08s INFO [delete_component]: Called delete_component cpw_(7,7), but such a component is not in the design cache dictionary of components.\n",
      "02:01PM 16s INFO [delete_component]: Called delete_component cpw_(8,7), but such a component is not in the design cache dictionary of components.\n",
      "02:37PM 40s INFO [delete_component]: Called delete_component cpw_(9,7), but such a component is not in the design cache dictionary of components.\n",
      "03:27PM 43s INFO [delete_component]: Called delete_component cpw_(0,8), but such a component is not in the design cache dictionary of components.\n",
      "04:06PM 16s INFO [delete_component]: Called delete_component cpw_(1,8), but such a component is not in the design cache dictionary of components.\n",
      "04:45PM 51s INFO [delete_component]: Called delete_component cpw_(2,8), but such a component is not in the design cache dictionary of components.\n"
     ]
    }
   ],
   "source": [
    "pockets_all = []#p1, p2]\n",
    "for i in range(1,10):\n",
    "    poc = []\n",
    "    if i%2 == 0:\n",
    "        freq = freq_even\n",
    "    else:\n",
    "        freq = freq_odd\n",
    "    for j in range(10):\n",
    "        pocket_options['pos_x'] = xs[j]\n",
    "        pocket_options['pos_y'] = qubit_y1[i]\n",
    "        pocket_options['coord'] = '({},{})'.format(j,i)\n",
    "        pocket_options['rotation'] = 0 #qubit_angles0[j]\n",
    "        pocket_options['frequency'] = freq[j]\n",
    "        p = pocket(gui, design,options = pocket_options)\n",
    "        poc.append(p)\n",
    "        if j ==0:\n",
    "           poc[j].connect(left_lauch_pads[i]) \n",
    "        elif j == 9:\n",
    "            poc[j].connect(poc[j-1])\n",
    "            poc[j].connect(right_lauch_pads[i])\n",
    "        else:\n",
    "            poc[j].connect(poc[j-1])\n",
    "    pockets_all.append(poc)"
   ]
  },
  {
   "cell_type": "code",
   "execution_count": null,
   "metadata": {},
   "outputs": [],
   "source": [
    "for i in range(6,10):\n",
    "    poc = []\n",
    "    for j in range(10):\n",
    "        pocket_options['pos_x'] = xs[j]\n",
    "        pocket_options['pos_y'] = qubit_y1[i]\n",
    "        pocket_options['coord'] = '({},{})'.format(j,i)\n",
    "        pocket_options['rotation'] = 0 #qubit_angles0[j]\n",
    "        p = pocket(gui, design,options = pocket_options)\n",
    "        poc.append(p)\n",
    "        if j ==0:\n",
    "           poc[j].connect(left_lauch_pads[i]) \n",
    "        elif j == 9:\n",
    "            poc[j].connect(poc[j-1])\n",
    "            poc[j].connect(right_lauch_pads[i])\n",
    "        else:\n",
    "            poc[j].connect(poc[j-1])\n",
    "    pockets.append(poc)"
   ]
  },
  {
   "cell_type": "code",
   "execution_count": null,
   "metadata": {},
   "outputs": [],
   "source": [
    "gui.rebuild()"
   ]
  },
  {
   "cell_type": "code",
   "execution_count": null,
   "metadata": {},
   "outputs": [],
   "source": [
    "poc[j].connect(poc[j-1])"
   ]
  },
  {
   "cell_type": "code",
   "execution_count": null,
   "metadata": {},
   "outputs": [],
   "source": [
    "poc"
   ]
  },
  {
   "cell_type": "code",
   "execution_count": null,
   "metadata": {},
   "outputs": [],
   "source": [
    "poc[j].connect(right_lauch_pads[i])"
   ]
  },
  {
   "cell_type": "code",
   "execution_count": null,
   "metadata": {},
   "outputs": [],
   "source": [
    "from shapely import Polygon"
   ]
  },
  {
   "cell_type": "code",
   "execution_count": null,
   "metadata": {},
   "outputs": [],
   "source": [
    "a.union"
   ]
  },
  {
   "cell_type": "code",
   "execution_count": null,
   "metadata": {},
   "outputs": [],
   "source": []
  },
  {
   "cell_type": "code",
   "execution_count": null,
   "metadata": {},
   "outputs": [],
   "source": [
    "p_1.connect(right_lauch_pads[0])"
   ]
  },
  {
   "cell_type": "code",
   "execution_count": null,
   "metadata": {},
   "outputs": [],
   "source": [
    "j = 8\n",
    "pocket_options['pos_x'] = qubit_x0[j]\n",
    "pocket_options['pos_y'] = qubit_y0[j]\n",
    "pocket_options['coord'] = '({},0)'.format(j)\n",
    "pocket_options['rotation'] = qubit_angles0[j]\n",
    "p_2 = pocket(gui, design,options = pocket_options)"
   ]
  },
  {
   "cell_type": "code",
   "execution_count": null,
   "metadata": {},
   "outputs": [],
   "source": [
    "qubit_angles0[9]"
   ]
  },
  {
   "cell_type": "code",
   "execution_count": null,
   "metadata": {},
   "outputs": [],
   "source": [
    "p_2.connect(p_1)"
   ]
  },
  {
   "cell_type": "code",
   "execution_count": null,
   "metadata": {},
   "outputs": [],
   "source": [
    "p.connect(pockets[8])"
   ]
  },
  {
   "cell_type": "code",
   "execution_count": null,
   "metadata": {},
   "outputs": [],
   "source": [
    "p.connect(right_lauch_pads[0])"
   ]
  },
  {
   "cell_type": "code",
   "execution_count": null,
   "metadata": {},
   "outputs": [],
   "source": [
    "# y_cord = ['3.96mm', '3.86mm']\n",
    "y_cord = [3.96]\n",
    "\n",
    "for i in range(9):\n",
    "    # y_cord.append('{:2f}mm'.format(3.86-0.95*i))\n",
    "    y_cord.append(np.round(3.86-0.95*i,2))\n",
    "    print(3.86-0.95*i)"
   ]
  },
  {
   "cell_type": "code",
   "execution_count": null,
   "metadata": {},
   "outputs": [],
   "source": [
    "y_cord"
   ]
  },
  {
   "cell_type": "code",
   "execution_count": null,
   "metadata": {},
   "outputs": [],
   "source": []
  },
  {
   "cell_type": "code",
   "execution_count": null,
   "metadata": {},
   "outputs": [],
   "source": [
    "wb1 = right_lauch_pads[0]\n",
    "wb1.options.orientation = 0\n",
    "gui.rebuild()"
   ]
  },
  {
   "cell_type": "code",
   "execution_count": null,
   "metadata": {},
   "outputs": [],
   "source": [
    "pockets[-1].connect(p2)"
   ]
  },
  {
   "cell_type": "code",
   "execution_count": null,
   "metadata": {},
   "outputs": [],
   "source": [
    "anchor = OrderedDict()\n",
    "anchor[0] = (-3.2,4.00005)"
   ]
  },
  {
   "cell_type": "code",
   "execution_count": null,
   "metadata": {},
   "outputs": [],
   "source": [
    "op  = {'anchors': anchor, 'trace_width': '12.4 um', 'trace_gap': '6.99 um', 'lead': {'start_straight': '5um', 'end_straight': '30um'}, 'fillet': '20um', 'total_length': '0.5mm', 'hfss_wire_bonds': True, 'q3d_wirebonds': True, 'pin_inputs': {'start_pin': {'component': 'TQ(2,0)', 'pin': 'prime_end'}, 'end_pin': {'component': 'TQ(1,0)', 'pin': 'prime_start'}}}"
   ]
  },
  {
   "cell_type": "code",
   "execution_count": null,
   "metadata": {},
   "outputs": [],
   "source": [
    "dp.RouteMixed(design, 'aaa', \n",
    "           options = op)"
   ]
  },
  {
   "cell_type": "code",
   "execution_count": null,
   "metadata": {},
   "outputs": [],
   "source": [
    "gui.rebuild()"
   ]
  },
  {
   "cell_type": "code",
   "execution_count": null,
   "metadata": {},
   "outputs": [],
   "source": []
  },
  {
   "cell_type": "code",
   "execution_count": null,
   "metadata": {},
   "outputs": [],
   "source": [
    "t1 = p1.Tee\n",
    "t2= p2.Tee"
   ]
  },
  {
   "cell_type": "code",
   "execution_count": null,
   "metadata": {},
   "outputs": [],
   "source": [
    "from collections import OrderedDict"
   ]
  },
  {
   "cell_type": "code",
   "execution_count": null,
   "metadata": {},
   "outputs": [],
   "source": [
    "design.delete_component('aaa')\n",
    "\n",
    "anchor = OrderedDict()\n",
    "pin_inputs = Dict(\n",
    "                start_pin=Dict(component=t1.name, pin='prime_end'),\n",
    "                end_pin=Dict(component=t2.name, pin='prime_end'))\n",
    "dp.trans_options['pin_inputs'] = pin_inputs\n",
    "ops = Dict(anchors = anchor, **dp.trans_options)\n",
    "# anchor[0] = (-3.87,3.5)\n",
    "cpw = dp.RouteMixed(design, 'aaa', options = ops)\n"
   ]
  },
  {
   "cell_type": "code",
   "execution_count": null,
   "metadata": {},
   "outputs": [],
   "source": [
    "design.delete_component('aaa')"
   ]
  },
  {
   "cell_type": "code",
   "execution_count": null,
   "metadata": {},
   "outputs": [],
   "source": [
    "# design.delete_component('aaa')\n",
    "gui.rebuild()"
   ]
  },
  {
   "cell_type": "code",
   "execution_count": null,
   "metadata": {},
   "outputs": [],
   "source": [
    "design.delete_component('airbridge_connects(0,0)wb_left0')\n",
    "design.delete_component('(0,0)CPWwb_left0')"
   ]
  },
  {
   "cell_type": "code",
   "execution_count": null,
   "metadata": {},
   "outputs": [],
   "source": [
    "gui.rebuild()"
   ]
  },
  {
   "cell_type": "code",
   "execution_count": null,
   "metadata": {},
   "outputs": [],
   "source": [
    "print(design.components)"
   ]
  },
  {
   "cell_type": "code",
   "execution_count": null,
   "metadata": {},
   "outputs": [],
   "source": [
    "for  i in design.components:\n",
    "    if 'pad' in type(i)"
   ]
  },
  {
   "cell_type": "code",
   "execution_count": null,
   "metadata": {},
   "outputs": [],
   "source": [
    "wb_rights = []"
   ]
  },
  {
   "cell_type": "code",
   "execution_count": null,
   "metadata": {},
   "outputs": [],
   "source": []
  },
  {
   "cell_type": "code",
   "execution_count": null,
   "metadata": {},
   "outputs": [],
   "source": []
  },
  {
   "cell_type": "code",
   "execution_count": null,
   "metadata": {},
   "outputs": [],
   "source": []
  },
  {
   "cell_type": "code",
   "execution_count": null,
   "metadata": {},
   "outputs": [],
   "source": [
    "design.delete_all_components()"
   ]
  },
  {
   "cell_type": "code",
   "execution_count": null,
   "metadata": {},
   "outputs": [],
   "source": [
    "pocket_options = dict(\n",
    "        pos_x = '0mm', \n",
    "        pos_y = '0mm', \n",
    "        orientation = '0',\n",
    "        frequency = 5.2,\n",
    "        guess_path = r'/Users/wendy/Desktop/Wendy-qiskit-code/data/educated_guess_0403.csv',\n",
    "        coupling_path = '',\n",
    "        sim = True,\n",
    "        coord = '(0,0)',\n",
    "        qubit_layer = 5,\n",
    "        junction_layer = 2, \n",
    "        ab_layer = 8,\n",
    "        ab_square_layer = 9,\n",
    "        ab_distance = '70um',\n",
    "        rotation = 90\n",
    "        )"
   ]
  },
  {
   "cell_type": "code",
   "execution_count": null,
   "metadata": {},
   "outputs": [],
   "source": [
    "design.delete_all_components()\n",
    "pocket_options['pos_x'] = '0mm'\n",
    "pocket_options['pos_y'] = '0mm'\n",
    "pocket_options['coord'] = '(0,0)'\n",
    "\n",
    "p1 = pocket(gui, design,options = pocket_options)"
   ]
  },
  {
   "cell_type": "code",
   "execution_count": null,
   "metadata": {},
   "outputs": [],
   "source": [
    "pocket_options['pos_x'] = '1mm'\n",
    "pocket_options['pos_y'] = '0mm'\n",
    "pocket_options['coord'] = '(1,0)'\n",
    "\n",
    "p2 = pocket(gui, design,options = pocket_options)"
   ]
  },
  {
   "cell_type": "code",
   "execution_count": null,
   "metadata": {},
   "outputs": [],
   "source": [
    "p1.Tee.pins['second_end']"
   ]
  },
  {
   "cell_type": "code",
   "execution_count": null,
   "metadata": {},
   "outputs": [],
   "source": [
    "p1.qubit.pins['a']"
   ]
  },
  {
   "cell_type": "code",
   "execution_count": null,
   "metadata": {},
   "outputs": [],
   "source": [
    "gui.rebuild()\n",
    "gui.autoscale()"
   ]
  },
  {
   "cell_type": "code",
   "execution_count": null,
   "metadata": {},
   "outputs": [],
   "source": [
    "p1.connect(p2)"
   ]
  },
  {
   "cell_type": "code",
   "execution_count": null,
   "metadata": {},
   "outputs": [],
   "source": [
    "qubit = p2.qubit\n",
    "TQ = p2.Tee\n",
    "j = p2.junction\n"
   ]
  },
  {
   "cell_type": "code",
   "execution_count": null,
   "metadata": {},
   "outputs": [],
   "source": [
    "TQ"
   ]
  },
  {
   "cell_type": "code",
   "execution_count": null,
   "metadata": {},
   "outputs": [],
   "source": [
    "f = p2.options['frequency']"
   ]
  },
  {
   "cell_type": "code",
   "execution_count": null,
   "metadata": {},
   "outputs": [],
   "source": [
    "q1,j, cpw, TQ1, design,gui = dp.construct_cpw_qubit(qubit,j, TQ, f,gui,design,sim =False, displacement = '10mm')\n",
    "q1, d = jj.place_junction(q1,j)\n",
    "gui.rebuild()\n",
    "gui.autoscale()"
   ]
  },
  {
   "cell_type": "code",
   "execution_count": null,
   "metadata": {},
   "outputs": [],
   "source": [
    "a = Dict(q = 1, b = 2)"
   ]
  },
  {
   "cell_type": "code",
   "execution_count": null,
   "metadata": {},
   "outputs": [],
   "source": [
    "a['q']"
   ]
  },
  {
   "cell_type": "code",
   "execution_count": null,
   "metadata": {},
   "outputs": [],
   "source": []
  },
  {
   "cell_type": "code",
   "execution_count": null,
   "metadata": {},
   "outputs": [],
   "source": []
  },
  {
   "cell_type": "code",
   "execution_count": null,
   "metadata": {},
   "outputs": [],
   "source": [
    "'pocket' in str(type(p))"
   ]
  },
  {
   "cell_type": "code",
   "execution_count": null,
   "metadata": {},
   "outputs": [],
   "source": [
    "p.options['coord']"
   ]
  },
  {
   "cell_type": "code",
   "execution_count": null,
   "metadata": {},
   "outputs": [],
   "source": [
    "p.qubit.pins"
   ]
  },
  {
   "cell_type": "code",
   "execution_count": null,
   "metadata": {},
   "outputs": [],
   "source": []
  },
  {
   "cell_type": "code",
   "execution_count": null,
   "metadata": {},
   "outputs": [],
   "source": []
  },
  {
   "cell_type": "code",
   "execution_count": null,
   "metadata": {},
   "outputs": [],
   "source": []
  },
  {
   "cell_type": "code",
   "execution_count": null,
   "metadata": {},
   "outputs": [],
   "source": []
  },
  {
   "cell_type": "code",
   "execution_count": null,
   "metadata": {},
   "outputs": [],
   "source": [
    "design = dp.design\n",
    "\n",
    "junction_layer = 5\n",
    "qubit_layer = 2\n",
    "ab_layer = 7\n",
    "ab_square_layer = 8"
   ]
  },
  {
   "cell_type": "markdown",
   "metadata": {},
   "source": [
    "## Single Pad--Verify Design"
   ]
  },
  {
   "cell_type": "markdown",
   "metadata": {},
   "source": [
    "### Draw the single pad transmon"
   ]
  },
  {
   "cell_type": "code",
   "execution_count": null,
   "metadata": {},
   "outputs": [],
   "source": [
    "design.delete_all_components()"
   ]
  },
  {
   "cell_type": "code",
   "execution_count": null,
   "metadata": {},
   "outputs": [],
   "source": [
    "design.overwrite_enabled = True\n",
    "\n",
    "size = 0.25*u.mm\n",
    "gap = 30*u.um\n",
    "size = size.to(u.um)\n",
    "pocket_width = size+2*gap\n",
    "\n",
    "\n",
    "op = Dict(\n",
    "    pos_x = '0',\n",
    "    pad_height = '{}um'.format(size.value),\n",
    "    pos_y = '0',\n",
    "    pad_width = '{}'.format(size),\n",
    "    pocket_width = '{}'.format(pocket_width), \n",
    "    **dp.qb_options)\n",
    "\n",
    "q1 = transmon(design,'Q1',options = op)\n",
    "\n",
    "gui.rebuild()\n",
    "gui.zoom_on_components(['Q1'])\n"
   ]
  },
  {
   "cell_type": "code",
   "execution_count": null,
   "metadata": {},
   "outputs": [],
   "source": [
    "q1.options['junction'] = 'True'"
   ]
  },
  {
   "cell_type": "code",
   "execution_count": null,
   "metadata": {},
   "outputs": [],
   "source": [
    "gui.rebuild()"
   ]
  },
  {
   "cell_type": "code",
   "execution_count": null,
   "metadata": {},
   "outputs": [],
   "source": [
    "design.chips.main.size['size_x'] = '20 mm'\n",
    "design.chips.main.size['size_y'] = '10 mm'\n",
    "gds = design.renderers.gds"
   ]
  },
  {
   "cell_type": "code",
   "execution_count": null,
   "metadata": {},
   "outputs": [],
   "source": [
    "guesses = pd.read_csv(r'data/educated_guess_0403.csv')"
   ]
  },
  {
   "cell_type": "code",
   "execution_count": null,
   "metadata": {},
   "outputs": [],
   "source": [
    "options = Dict(taper_len='0.5um',jj_gap = '0.14um')\n",
    "d = junction(design, 'd', options = options)\n"
   ]
  },
  {
   "cell_type": "code",
   "execution_count": null,
   "metadata": {},
   "outputs": [],
   "source": [
    "k = 3\n",
    "\n",
    "q1.options['pad_height'] = '{}um'.format(guesses['Sizes (um)'].values[k])\n",
    "q1.options['pad_width'] = '{}um'.format(guesses['Sizes (um)'].values[k])\n",
    "\n",
    "q1.options['pocket_width'] = '{}um'.format(guesses['Sizes (um)'].values[k]+2*gap.to(u.um).value)\n",
    "\n",
    "q1.options['connection_pads']['a']['pad_width'] = guesses['Coupling_len'][k]\n",
    "q1.options['connection_pads']['a']['pad_height'] = '30um-{}um'.format(guesses['Coupling_gap(um)'][k])\n",
    "q1.options['connection_pads']['a']['pad_gap'] = '{}um'.format(guesses['Coupling_gap(um)'][k])\n",
    "\n",
    "d.options['Lj'] = '{}'.format(guesses['Ljs (nH)'][k])\n",
    "\n",
    "q1.options.layer = qubit_layer\n",
    "d.options.layer = junction_layer\n",
    "\n",
    "gui.rebuild()\n",
    "gui.zoom_on_components(['Q1'])\n",
    "    "
   ]
  },
  {
   "cell_type": "code",
   "execution_count": null,
   "metadata": {},
   "outputs": [],
   "source": [
    "q1, d = jj.place_junction(q1,d)\n",
    "gui.rebuild()\n"
   ]
  },
  {
   "cell_type": "code",
   "execution_count": null,
   "metadata": {},
   "outputs": [],
   "source": [
    "dp.TQ_options['down_length'] = '40 um'\n",
    "TQ1 = CoupledLineTee(design, 'TQ1', options=dict(pos_x='-0.1 mm',\n",
    "                                             pos_y='0.5 mm',\n",
    "                                             mirror = True, **dp.TQ_options))\n",
    "TQ1.options['open_termination'] = False\n",
    "\n",
    "gui.rebuild()\n",
    "gui.autoscale()"
   ]
  },
  {
   "cell_type": "code",
   "execution_count": null,
   "metadata": {},
   "outputs": [],
   "source": [
    "180//90"
   ]
  },
  {
   "cell_type": "code",
   "execution_count": null,
   "metadata": {},
   "outputs": [],
   "source": []
  },
  {
   "cell_type": "code",
   "execution_count": null,
   "metadata": {},
   "outputs": [],
   "source": []
  },
  {
   "cell_type": "code",
   "execution_count": null,
   "metadata": {},
   "outputs": [],
   "source": []
  },
  {
   "cell_type": "code",
   "execution_count": null,
   "metadata": {},
   "outputs": [],
   "source": [
    "q1,j, cpw, TQ1, design,gui = dp.construct_cpw_qubit(q1,d, TQ1, 5,gui,design,sim =False)\n",
    "q1, d = jj.place_junction(q1,d)\n",
    "gui.rebuild()\n",
    "gui.autoscale()"
   ]
  },
  {
   "attachments": {},
   "cell_type": "markdown",
   "metadata": {},
   "source": [
    "Construct the cpw airbridge object"
   ]
  },
  {
   "cell_type": "code",
   "execution_count": null,
   "metadata": {},
   "outputs": [],
   "source": []
  },
  {
   "cell_type": "code",
   "execution_count": null,
   "metadata": {},
   "outputs": [],
   "source": [
    "design.delete_component('airbridges')"
   ]
  },
  {
   "cell_type": "code",
   "execution_count": null,
   "metadata": {},
   "outputs": [],
   "source": [
    "ab_options = Dict(cpw_name = 'cpw_1', distance = '100um', dis = '10um', layer_ab_square = str(ab_square_layer), layer_ab = str(ab_layer), total_length = '80 um', chip = 'main', seg_num = '0')"
   ]
  },
  {
   "cell_type": "code",
   "execution_count": null,
   "metadata": {},
   "outputs": [],
   "source": [
    "ab(design, 'airbridges', ab_options)"
   ]
  },
  {
   "cell_type": "code",
   "execution_count": null,
   "metadata": {},
   "outputs": [],
   "source": [
    "gui.rebuild()"
   ]
  },
  {
   "cell_type": "code",
   "execution_count": null,
   "metadata": {},
   "outputs": [],
   "source": [
    "q1.options.layer = qubit_layer\n",
    "cpw.options.layer = qubit_layer\n",
    "TQ1.options.layer = qubit_layer\n",
    "j.options.layer = junction_layer\n",
    "gui.rebuild()\n",
    "gui.autoscale()"
   ]
  },
  {
   "cell_type": "code",
   "execution_count": null,
   "metadata": {},
   "outputs": [],
   "source": [
    "design.chips.main.size['size_x'] = '10mm'\n",
    "design.chips.main.size['size_y'] = '10mm'\n",
    "gui.rebuild()\n",
    "a_gds = design.renderers.gds"
   ]
  },
  {
   "cell_type": "code",
   "execution_count": null,
   "metadata": {},
   "outputs": [],
   "source": [
    "a_gds.options.cheese.edge_nocheese = '300um'\n",
    "a_gds.options.no_cheese.buffer = '50um'"
   ]
  },
  {
   "cell_type": "code",
   "execution_count": null,
   "metadata": {},
   "outputs": [],
   "source": [
    "a_gds.options['cheese']['view_in_file']['main'][qubit_layer] = True\n",
    "a_gds.options['no_cheese']['view_in_file']['main'][qubit_layer] = True\n",
    "a_gds.options['cheese']['view_in_file']['main'][junction_layer] = False\n",
    "a_gds.options['no_cheese']['view_in_file']['main'][junction_layer] = True\n",
    "a_gds.options['cheese']['view_in_file']['main'][ab_layer] = False\n",
    "a_gds.options['no_cheese']['view_in_file']['main'][ab_layer] = True\n",
    "a_gds.options['cheese']['view_in_file']['main'][ab_square_layer] = False\n",
    "a_gds.options['no_cheese']['view_in_file']['main'][ab_square_layer] = True"
   ]
  },
  {
   "cell_type": "code",
   "execution_count": null,
   "metadata": {},
   "outputs": [],
   "source": [
    "a_gds.export_to_gds('export_test.gds')"
   ]
  },
  {
   "cell_type": "code",
   "execution_count": null,
   "metadata": {},
   "outputs": [],
   "source": [
    "a_gds = design.renderers.gds"
   ]
  },
  {
   "cell_type": "code",
   "execution_count": null,
   "metadata": {},
   "outputs": [],
   "source": [
    "a_gds.options.tolerance = '0.00001'\n",
    "a_gds.options.cheese.edge_nocheese = '300um'\n",
    "a_gds.options.no_cheese.buffer = '40um'"
   ]
  },
  {
   "cell_type": "code",
   "execution_count": null,
   "metadata": {},
   "outputs": [],
   "source": [
    "a_gds.options"
   ]
  },
  {
   "cell_type": "code",
   "execution_count": null,
   "metadata": {},
   "outputs": [],
   "source": [
    "a_gds.options['path_filename'] = 'Customized_Component/Fake_Junctions.GDS'"
   ]
  },
  {
   "cell_type": "code",
   "execution_count": null,
   "metadata": {},
   "outputs": [],
   "source": [
    "a_gds.options.no_cheese.buffer = '0um'\n",
    "\n",
    "a_gds.options['cheese']['view_in_file']['main'][5] = False\n",
    "a_gds.options['no_cheese']['view_in_file']['main'][5] = False\n",
    "a_gds.options['ground_plane'] = True"
   ]
  },
  {
   "cell_type": "code",
   "execution_count": null,
   "metadata": {},
   "outputs": [],
   "source": [
    "q1.options.layer = 1\n",
    "d.options.layer = 5\n",
    "gui.rebuild()"
   ]
  },
  {
   "cell_type": "code",
   "execution_count": null,
   "metadata": {},
   "outputs": [],
   "source": [
    "a_gds.options['ground_plane'] = True"
   ]
  },
  {
   "cell_type": "code",
   "execution_count": null,
   "metadata": {},
   "outputs": [],
   "source": [
    "\n",
    "# a_gds.options['short_segments_to_not_fillet'] = True\n",
    "# a_gds.options['check_short_segments_by_scaling_fillet'] = 1.0\n",
    "a_gds.export_to_gds('Dolan.gds')#, highlight_qcomponents=['TQ1'])"
   ]
  },
  {
   "cell_type": "code",
   "execution_count": null,
   "metadata": {},
   "outputs": [],
   "source": [
    "a_gds.options"
   ]
  },
  {
   "cell_type": "code",
   "execution_count": null,
   "metadata": {},
   "outputs": [],
   "source": [
    "design.components.keys()"
   ]
  },
  {
   "cell_type": "code",
   "execution_count": null,
   "metadata": {},
   "outputs": [],
   "source": [
    "d = {}\n"
   ]
  },
  {
   "cell_type": "code",
   "execution_count": null,
   "metadata": {},
   "outputs": [],
   "source": [
    "base = 822.76\n",
    "dose = 0.8\n",
    "for j in range(5):\n",
    "    d['Column' + str(j+1)] = []\n",
    "    dose = 0.8 + j*0.1\n",
    "    for i in range(10):\n",
    "        dose1 = dose + 0.01*i\n",
    "        d['Column' + str(j+1)].append(base*round(dose1,2))\n",
    "    \n",
    "    \n"
   ]
  },
  {
   "cell_type": "code",
   "execution_count": null,
   "metadata": {},
   "outputs": [],
   "source": [
    "matrix = pd.DataFrame(d)"
   ]
  },
  {
   "cell_type": "code",
   "execution_count": null,
   "metadata": {},
   "outputs": [],
   "source": [
    "matrix.index += 1"
   ]
  },
  {
   "cell_type": "code",
   "execution_count": null,
   "metadata": {},
   "outputs": [],
   "source": [
    "matrix"
   ]
  },
  {
   "cell_type": "code",
   "execution_count": null,
   "metadata": {},
   "outputs": [],
   "source": []
  }
 ],
 "metadata": {
  "kernelspec": {
   "display_name": "qmetal",
   "language": "python",
   "name": "qmetal"
  },
  "language_info": {
   "codemirror_mode": {
    "name": "ipython",
    "version": 3
   },
   "file_extension": ".py",
   "mimetype": "text/x-python",
   "name": "python",
   "nbconvert_exporter": "python",
   "pygments_lexer": "ipython3",
   "version": "3.10.8"
  },
  "orig_nbformat": 4
 },
 "nbformat": 4,
 "nbformat_minor": 2
}
