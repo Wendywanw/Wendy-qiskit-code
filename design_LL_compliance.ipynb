{
 "cells": [
  {
   "cell_type": "code",
   "execution_count": 1,
   "metadata": {},
   "outputs": [],
   "source": [
    "import gdspy\n",
    "import numpy as np\n",
    "from scipy.spatial import ConvexHull"
   ]
  },
  {
   "attachments": {},
   "cell_type": "markdown",
   "metadata": {},
   "source": [
    "Load the gds file and create a target file to save edited design"
   ]
  },
  {
   "cell_type": "code",
   "execution_count": 2,
   "metadata": {},
   "outputs": [],
   "source": [
    "gdsii = gdspy.GdsLibrary()\n",
    "file = '/Users/wendy/Desktop/Wendy-qiskit-code/export_test_0506_LL.gds'\n",
    "#read the design file to meet compliance\n",
    "gdsii.read_gds(file, units = 'import')\n",
    "\n",
    "#create a new file \n",
    "gds_new = gdspy.GdsLibrary(unit = 1e-6, precision = 5e-10)"
   ]
  },
  {
   "attachments": {},
   "cell_type": "markdown",
   "metadata": {},
   "source": [
    "create a new cell to put the gds design"
   ]
  },
  {
   "cell_type": "code",
   "execution_count": 3,
   "metadata": {},
   "outputs": [],
   "source": [
    "top = gds_new.new_cell('TOP')"
   ]
  },
  {
   "attachments": {},
   "cell_type": "markdown",
   "metadata": {},
   "source": [
    "Specify layer numbers"
   ]
  },
  {
   "cell_type": "code",
   "execution_count": 4,
   "metadata": {},
   "outputs": [],
   "source": [
    "qubit_layer = 5\n",
    "junction_layer = 20\n",
    "ab_layer = 31\n",
    "ab_square_layer = 30\n",
    "junction_area_layer = 60\n",
    "chip_edge_layer = 703\n",
    "text_layer1 = 98\n",
    "\n",
    "layer_numbers  = [qubit_layer,junction_layer,ab_layer,ab_square_layer,junction_area_layer]"
   ]
  },
  {
   "attachments": {},
   "cell_type": "markdown",
   "metadata": {},
   "source": [
    "specify target datatype"
   ]
  },
  {
   "cell_type": "code",
   "execution_count": 5,
   "metadata": {},
   "outputs": [
    {
     "data": {
      "text/plain": [
       "0"
      ]
     },
     "execution_count": 5,
     "metadata": {},
     "output_type": "execute_result"
    }
   ],
   "source": [
    "round(0.25)"
   ]
  },
  {
   "cell_type": "code",
   "execution_count": 6,
   "metadata": {},
   "outputs": [],
   "source": [
    "data_type = 0"
   ]
  },
  {
   "cell_type": "code",
   "execution_count": 7,
   "metadata": {},
   "outputs": [],
   "source": [
    "#snap to grid function that meets the layer requirements \n",
    "def snap_to_grid(coord, grid_size):\n",
    "    new = (coord/grid_size).astype(int)\n",
    "    res = []\n",
    "    for (x,y) in new:\n",
    "        if x > 0 and y>0:\n",
    "            pass\n",
    "        elif x > 0 and y<0:\n",
    "            y -= 1\n",
    "        elif x < 0 and y>0:\n",
    "            x -= 1\n",
    "        else:\n",
    "            x -= 1\n",
    "            y -= 1\n",
    "        res += [[x * grid_size, y*grid_size]]\n",
    "    return np.array(res)"
   ]
  },
  {
   "cell_type": "code",
   "execution_count": 8,
   "metadata": {},
   "outputs": [],
   "source": [
    "#snap to grid function that meets the layer requirements \n",
    "def snap_to_grid1(coord, grid_size):\n",
    "    new = np.round((coord/grid_size))*grid_size\n",
    "    return new"
   ]
  },
  {
   "cell_type": "code",
   "execution_count": 9,
   "metadata": {},
   "outputs": [
    {
     "name": "stdout",
     "output_type": "stream",
     "text": [
      "[[0 0]\n",
      " [1 0]\n",
      " [1 1]]\n"
     ]
    }
   ],
   "source": [
    "import numpy as np\n",
    "\n",
    "def remove_duplicate_points(polygon):\n",
    "    \"\"\"\n",
    "    Remove duplicate points from the polygon represented as a NumPy array.\n",
    "    \"\"\"\n",
    "    unique_rows = np.unique(polygon, axis=0)\n",
    "    return unique_rows\n",
    "\n",
    "def compute_area(polygon):\n",
    "    \"\"\"\n",
    "    Compute the area of a polygon using Shoelace formula.\n",
    "    \"\"\"\n",
    "    n = len(polygon)\n",
    "    if n <= 2:\n",
    "        return 0\n",
    "\n",
    "    x = polygon[:, 0]\n",
    "    y = polygon[:, 1]\n",
    "\n",
    "    return 0.5 * abs(np.dot(x, np.roll(y, 1)) - np.dot(y, np.roll(x, 1)))\n",
    "\n",
    "def process_polygon(polygon):\n",
    "    \"\"\"\n",
    "    Remove duplicate points from the given polygon and then return the polygon \n",
    "    if it has more than 2 points and non-zero area. Otherwise, return None.\n",
    "    \"\"\"\n",
    "    deduplicated_polygon = remove_duplicate_points(polygon)\n",
    "    \n",
    "    if len(deduplicated_polygon) > 2 and compute_area(deduplicated_polygon) != 0:\n",
    "        return deduplicated_polygon\n",
    "    else:\n",
    "        return None\n",
    "\n",
    "# Example usage:\n",
    "polygon = np.array([[0, 0], [1, 1], [1, 0], [0, 0]])\n",
    "result = process_polygon(polygon)\n",
    "print(result)\n"
   ]
  },
  {
   "cell_type": "code",
   "execution_count": 10,
   "metadata": {},
   "outputs": [
    {
     "data": {
      "text/plain": [
       "array([[0, 0],\n",
       "       [1, 0],\n",
       "       [1, 1]])"
      ]
     },
     "execution_count": 10,
     "metadata": {},
     "output_type": "execute_result"
    }
   ],
   "source": [
    "remove_duplicate_points(polygon)"
   ]
  },
  {
   "cell_type": "code",
   "execution_count": 11,
   "metadata": {},
   "outputs": [],
   "source": [
    "qubit_layer_grid = 50*1e-6\n",
    "junction_layer_grid = 5*1e-6"
   ]
  },
  {
   "attachments": {},
   "cell_type": "markdown",
   "metadata": {},
   "source": [
    "Get the polygons from the old design"
   ]
  },
  {
   "cell_type": "code",
   "execution_count": 12,
   "metadata": {},
   "outputs": [],
   "source": [
    "polys = gdsii.top_level()[0].get_polygons(by_spec = True)"
   ]
  },
  {
   "cell_type": "code",
   "execution_count": 13,
   "metadata": {},
   "outputs": [],
   "source": [
    "keys = list(polys.keys())"
   ]
  },
  {
   "cell_type": "code",
   "execution_count": 14,
   "metadata": {},
   "outputs": [
    {
     "data": {
      "text/plain": [
       "[(5, 10), (5, 11), (5, 0), (20, 10), (60, 10), (30, 10), (31, 10)]"
      ]
     },
     "execution_count": 14,
     "metadata": {},
     "output_type": "execute_result"
    }
   ],
   "source": [
    "keys"
   ]
  },
  {
   "attachments": {},
   "cell_type": "markdown",
   "metadata": {},
   "source": [
    "Extract all the data types for a given layer number"
   ]
  },
  {
   "cell_type": "code",
   "execution_count": 15,
   "metadata": {},
   "outputs": [
    {
     "name": "stdout",
     "output_type": "stream",
     "text": [
      "[10]\n",
      "[10, 11]\n"
     ]
    }
   ],
   "source": [
    "datatypes = {}\n",
    "for i in keys:\n",
    "    try:\n",
    "        print(datatypes[i[0]])\n",
    "    except:\n",
    "        datatypes[i[0]] = [i[1]]\n",
    "    else:\n",
    "        datatypes[i[0]].append(i[1])\n"
   ]
  },
  {
   "cell_type": "code",
   "execution_count": 16,
   "metadata": {},
   "outputs": [
    {
     "data": {
      "text/plain": [
       "{5: [10, 11, 0], 20: [10], 60: [10], 30: [10], 31: [10]}"
      ]
     },
     "execution_count": 16,
     "metadata": {},
     "output_type": "execute_result"
    }
   ],
   "source": [
    "datatypes"
   ]
  },
  {
   "attachments": {},
   "cell_type": "markdown",
   "metadata": {},
   "source": [
    "enumerate over layer numbers and save the polygon into the new design with desired layer number"
   ]
  },
  {
   "cell_type": "code",
   "execution_count": 17,
   "metadata": {},
   "outputs": [
    {
     "name": "stdout",
     "output_type": "stream",
     "text": [
      "[[0. 0.]\n",
      " [3. 1.]\n",
      " [1. 3.]\n",
      " [1. 1.]\n",
      " [1. 1.]]\n"
     ]
    }
   ],
   "source": [
    "import numpy as np\n",
    "from shapely.geometry import Polygon\n",
    "\n",
    "def compute_area(coordinates):\n",
    "    \"\"\"Compute the area of a polygon given its coordinates.\"\"\"\n",
    "    x = coordinates[:, 0]\n",
    "    y = coordinates[:, 1]\n",
    "    return 0.5 * np.abs(np.dot(x, np.roll(y, 1)) - np.dot(y, np.roll(x, 1)))\n",
    "\n",
    "def order_polygon_coordinates_using_shapely(coordinates):\n",
    "    # Create a shapely polygon\n",
    "    polygon = Polygon(coordinates)\n",
    "    \n",
    "    # Access the exterior coordinates of the polygon\n",
    "    exterior_coords = np.array(polygon.exterior.coords[:-1])  # omitting the last point since it's same as the first\n",
    "\n",
    "    # Check for zero area\n",
    "    if np.isclose(compute_area(exterior_coords), 0.0, atol=1e-10):\n",
    "        return None\n",
    "\n",
    "    return exterior_coords\n",
    "\n",
    "# Example list of coordinates\n",
    "coordinates = np.array([\n",
    "    [0, 0],\n",
    "    [3, 1],\n",
    "    [1, 3],\n",
    "    [1, 1],\n",
    "    [1, 1]  # a duplicate point\n",
    "])\n",
    "\n",
    "ordered_coords = order_polygon_coordinates_using_shapely(coordinates)\n",
    "if ordered_coords is not None:\n",
    "    print(ordered_coords)\n",
    "else:\n",
    "    print(\"The polygon has zero area.\")\n"
   ]
  },
  {
   "cell_type": "code",
   "execution_count": null,
   "metadata": {},
   "outputs": [],
   "source": []
  },
  {
   "cell_type": "code",
   "execution_count": 18,
   "metadata": {},
   "outputs": [
    {
     "name": "stdout",
     "output_type": "stream",
     "text": [
      "[[1 1]\n",
      " [0 0]\n",
      " [3 1]\n",
      " [1 3]]\n"
     ]
    }
   ],
   "source": [
    "import numpy as np\n",
    "\n",
    "def compute_area(coordinates):\n",
    "    \"\"\"Compute the area of a polygon given its coordinates.\"\"\"\n",
    "    x = coordinates[:, 0]\n",
    "    y = coordinates[:, 1]\n",
    "    return 0.5 * np.abs(np.dot(x, np.roll(y, 1)) - np.dot(y, np.roll(x, 1)))\n",
    "\n",
    "def order_polygon_coordinates(coordinates):\n",
    "    # Remove duplicate points\n",
    "    unique_coordinates = np.array(list(set(map(tuple, coordinates))))\n",
    "    \n",
    "    if len(unique_coordinates) <= 2:  # A polygon with 2 or fewer unique points will have zero area\n",
    "        return None\n",
    "\n",
    "    # Calculate centroid\n",
    "    centroid = unique_coordinates.mean(axis=0)\n",
    "    \n",
    "    # Sorting by angle using centroid\n",
    "    sorted_coordinates = sorted(unique_coordinates, \n",
    "                               key=lambda p: np.arctan2(p[1] - centroid[1], p[0] - centroid[0]))\n",
    "\n",
    "    ordered_array = np.array(sorted_coordinates)\n",
    "\n",
    "    # Check for zero area\n",
    "    if np.isclose(compute_area(ordered_array), 0.0, atol=1e-10):\n",
    "        return None\n",
    "\n",
    "    return ordered_array\n",
    "\n",
    "# Example list of coordinates\n",
    "coordinates = np.array([\n",
    "    [0, 0],\n",
    "    [3, 1],\n",
    "    [1, 3],\n",
    "    [1, 1]\n",
    "])\n",
    "\n",
    "ordered_coords = order_polygon_coordinates(coordinates)\n",
    "if ordered_coords is not None:\n",
    "    print(ordered_coords)\n",
    "else:\n",
    "    print(\"The polygon has zero area.\")\n"
   ]
  },
  {
   "cell_type": "code",
   "execution_count": 19,
   "metadata": {},
   "outputs": [
    {
     "data": {
      "text/plain": [
       "array([[0, 0],\n",
       "       [3, 1],\n",
       "       [1, 3],\n",
       "       [1, 1]])"
      ]
     },
     "execution_count": 19,
     "metadata": {},
     "output_type": "execute_result"
    }
   ],
   "source": [
    "coordinates"
   ]
  },
  {
   "cell_type": "code",
   "execution_count": 20,
   "metadata": {},
   "outputs": [
    {
     "name": "stdout",
     "output_type": "stream",
     "text": [
      "This is the 1th polygon with zero area\n",
      "This is the 2th polygon with zero area\n",
      "This is the 3th polygon with zero area\n",
      "This is the 4th polygon with zero area\n",
      "This is the 5th polygon with zero area\n",
      "This is the 6th polygon with zero area\n",
      "This is the 7th polygon with zero area\n",
      "This is the 8th polygon with zero area\n",
      "This is the 9th polygon with zero area\n",
      "This is the 10th polygon with zero area\n",
      "This is the 11th polygon with zero area\n"
     ]
    }
   ],
   "source": [
    "t = 0\n",
    "for i, layer in enumerate(layer_numbers):\n",
    "    for j in datatypes[layer]:\n",
    "        source_polyons = polys.get((layer,j),[])\n",
    "\n",
    "        for polygon in source_polyons:\n",
    "            if (layer ==5) or (layer == 31) or (layer == 30):\n",
    "                polygon = snap_to_grid(polygon, qubit_layer_grid)\n",
    "            elif (layer == 20) or (layer == 60):\n",
    "                polygon = snap_to_grid(polygon, junction_layer_grid)\n",
    "            polygon = order_polygon_coordinates_using_shapely(polygon)\n",
    "            \n",
    "            if polygon is None:\n",
    "                t+=1\n",
    "                print('This is the {}th polygon with zero area'.format(t))\n",
    "                continue\n",
    "            else:\n",
    "                p =gdspy.Polygon(polygon*(1e-3/1e-6), layer = int(layer), datatype = 0)\n",
    "                \n",
    "            # print(cell_names[i])\n",
    "            top.add(p)"
   ]
  },
  {
   "attachments": {},
   "cell_type": "markdown",
   "metadata": {},
   "source": [
    "add the chip edge"
   ]
  },
  {
   "cell_type": "code",
   "execution_count": 21,
   "metadata": {},
   "outputs": [
    {
     "data": {
      "text/plain": [
       "<gdspy.library.Cell at 0x142270640>"
      ]
     },
     "execution_count": 21,
     "metadata": {},
     "output_type": "execute_result"
    }
   ],
   "source": [
    "rectangle = gdspy.Polygon(1e3*np.array([[-10.15/2,10.15/2],[10.15/2,10.15/2],[10.15/2,-10.15/2],[-10.15/2,-10.15/2]]), layer = int(chip_edge_layer))\n",
    "top.add(rectangle)"
   ]
  },
  {
   "attachments": {},
   "cell_type": "markdown",
   "metadata": {},
   "source": [
    "Write necessary information in the information cells"
   ]
  },
  {
   "cell_type": "code",
   "execution_count": 22,
   "metadata": {},
   "outputs": [],
   "source": [
    "htest1 = gdspy.Text('Email',1/2*1000,(-5000,4000), layer = text_layer1)\n",
    "htest2 = gdspy.Text('wendywan@stanford.edu',1/2*1000, (-5000,2000), layer = text_layer1)\n",
    "htest3 = gdspy.Text('Jc = 0.1uA/um2',1/2*1000,(-5000,0), layer = text_layer1)"
   ]
  },
  {
   "cell_type": "code",
   "execution_count": 23,
   "metadata": {},
   "outputs": [
    {
     "data": {
      "text/plain": [
       "<gdspy.library.Cell at 0x142270640>"
      ]
     },
     "execution_count": 23,
     "metadata": {},
     "output_type": "execute_result"
    }
   ],
   "source": [
    "top.add(htest1)\n",
    "top.add(htest2)\n",
    "top.add(htest3)"
   ]
  },
  {
   "cell_type": "code",
   "execution_count": 24,
   "metadata": {},
   "outputs": [],
   "source": [
    "gds_new.write_gds('design_final1.gds')"
   ]
  },
  {
   "cell_type": "code",
   "execution_count": 25,
   "metadata": {},
   "outputs": [
    {
     "data": {
      "text/plain": [
       "-1.0"
      ]
     },
     "execution_count": 25,
     "metadata": {},
     "output_type": "execute_result"
    }
   ],
   "source": [
    "np.round(-1.1)"
   ]
  },
  {
   "cell_type": "code",
   "execution_count": 26,
   "metadata": {},
   "outputs": [
    {
     "data": {
      "text/plain": [
       "array([[ 4.171   , -4.529545],\n",
       "       [ 4.171   , -4.531605],\n",
       "       [ 4.1695  , -4.531605],\n",
       "       [ 4.169   , -4.533075],\n",
       "       [ 4.169   , -4.528075],\n",
       "       [ 4.1695  , -4.529545]])"
      ]
     },
     "execution_count": 26,
     "metadata": {},
     "output_type": "execute_result"
    }
   ],
   "source": [
    "polygon"
   ]
  },
  {
   "cell_type": "markdown",
   "metadata": {},
   "source": [
    "array([[ 4.171   , -4.529545],\n",
    "       [ 4.171   , -4.5316  ],\n",
    "       [ 4.1695  , -4.5316  ],\n",
    "       [ 4.169   , -4.53307 ],\n",
    "       [ 4.169   , -4.52807 ],\n",
    "       [ 4.1695  , -4.529545]])"
   ]
  },
  {
   "cell_type": "code",
   "execution_count": null,
   "metadata": {},
   "outputs": [],
   "source": []
  }
 ],
 "metadata": {
  "kernelspec": {
   "display_name": "qiskit",
   "language": "python",
   "name": "python3"
  },
  "language_info": {
   "codemirror_mode": {
    "name": "ipython",
    "version": 3
   },
   "file_extension": ".py",
   "mimetype": "text/x-python",
   "name": "python",
   "nbconvert_exporter": "python",
   "pygments_lexer": "ipython3",
   "version": "3.11.0"
  },
  "orig_nbformat": 4
 },
 "nbformat": 4,
 "nbformat_minor": 2
}
