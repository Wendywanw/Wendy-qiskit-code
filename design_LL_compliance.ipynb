{
 "cells": [
  {
   "cell_type": "code",
   "execution_count": 1,
   "metadata": {},
   "outputs": [],
   "source": [
    "import gdspy\n",
    "import numpy as np"
   ]
  },
  {
   "attachments": {},
   "cell_type": "markdown",
   "metadata": {},
   "source": [
    "Load the gds file and create a target file to save edited design"
   ]
  },
  {
   "cell_type": "code",
   "execution_count": 2,
   "metadata": {},
   "outputs": [],
   "source": [
    "gdsii = gdspy.GdsLibrary()\n",
    "file = '/Users/wendy/Desktop/Wendy-qiskit-code/export_test_0506_LL.gds'\n",
    "#read the design file to meet compliance\n",
    "gdsii.read_gds(file, units = 'import')\n",
    "\n",
    "#create a new file \n",
    "gds_new = gdspy.GdsLibrary(unit = 1e-6, precision = 5e-10)"
   ]
  },
  {
   "attachments": {},
   "cell_type": "markdown",
   "metadata": {},
   "source": [
    "create a new cell to put the gds design"
   ]
  },
  {
   "cell_type": "code",
   "execution_count": 3,
   "metadata": {},
   "outputs": [],
   "source": [
    "top = gds_new.new_cell('TOP')"
   ]
  },
  {
   "attachments": {},
   "cell_type": "markdown",
   "metadata": {},
   "source": [
    "Specify layer numbers"
   ]
  },
  {
   "cell_type": "code",
   "execution_count": 4,
   "metadata": {},
   "outputs": [],
   "source": [
    "qubit_layer = 5\n",
    "junction_layer = 20\n",
    "ab_layer = 31\n",
    "ab_square_layer = 30\n",
    "junction_area_layer = 60\n",
    "chip_edge_layer = 703\n",
    "text_layer1 = 98\n",
    "\n",
    "layer_numbers  = [qubit_layer,junction_layer,ab_layer,ab_square_layer,junction_area_layer]"
   ]
  },
  {
   "attachments": {},
   "cell_type": "markdown",
   "metadata": {},
   "source": [
    "specify target datatype"
   ]
  },
  {
   "cell_type": "code",
   "execution_count": 5,
   "metadata": {},
   "outputs": [],
   "source": [
    "data_type = 0"
   ]
  },
  {
   "cell_type": "code",
   "execution_count": 6,
   "metadata": {},
   "outputs": [],
   "source": [
    "#snap to grid function that meets the layer requirements \n",
    "def snap_to_grid(coord, grid_size):\n",
    "    return np.round(coord / grid_size) * grid_size"
   ]
  },
  {
   "cell_type": "code",
   "execution_count": 7,
   "metadata": {},
   "outputs": [],
   "source": [
    "qubit_layer_grid = 50*1e-6\n",
    "junction_layer_grid = 5*1e-6"
   ]
  },
  {
   "attachments": {},
   "cell_type": "markdown",
   "metadata": {},
   "source": [
    "Get the polygons from the old design"
   ]
  },
  {
   "cell_type": "code",
   "execution_count": 8,
   "metadata": {},
   "outputs": [],
   "source": [
    "polys = gdsii.top_level()[0].get_polygons(by_spec = True)"
   ]
  },
  {
   "cell_type": "code",
   "execution_count": 9,
   "metadata": {},
   "outputs": [],
   "source": [
    "keys = list(polys.keys())"
   ]
  },
  {
   "cell_type": "code",
   "execution_count": 10,
   "metadata": {},
   "outputs": [
    {
     "data": {
      "text/plain": [
       "[(5, 10), (5, 11), (5, 0), (20, 10), (60, 10), (30, 10), (31, 10)]"
      ]
     },
     "execution_count": 10,
     "metadata": {},
     "output_type": "execute_result"
    }
   ],
   "source": [
    "keys"
   ]
  },
  {
   "attachments": {},
   "cell_type": "markdown",
   "metadata": {},
   "source": [
    "Extract all the data types for a given layer number"
   ]
  },
  {
   "cell_type": "code",
   "execution_count": 11,
   "metadata": {},
   "outputs": [
    {
     "name": "stdout",
     "output_type": "stream",
     "text": [
      "[10]\n",
      "[10, 11]\n"
     ]
    }
   ],
   "source": [
    "datatypes = {}\n",
    "for i in keys:\n",
    "    try:\n",
    "        print(datatypes[i[0]])\n",
    "    except:\n",
    "        datatypes[i[0]] = [i[1]]\n",
    "    else:\n",
    "        datatypes[i[0]].append(i[1])\n"
   ]
  },
  {
   "cell_type": "code",
   "execution_count": 12,
   "metadata": {},
   "outputs": [
    {
     "data": {
      "text/plain": [
       "{5: [10, 11, 0], 20: [10], 60: [10], 30: [10], 31: [10]}"
      ]
     },
     "execution_count": 12,
     "metadata": {},
     "output_type": "execute_result"
    }
   ],
   "source": [
    "datatypes"
   ]
  },
  {
   "attachments": {},
   "cell_type": "markdown",
   "metadata": {},
   "source": [
    "enumerate over layer numbers and save the polygon into the new design with desired layer number"
   ]
  },
  {
   "cell_type": "code",
   "execution_count": 13,
   "metadata": {},
   "outputs": [],
   "source": [
    "for i, layer in enumerate(layer_numbers):\n",
    "    for j in datatypes[layer]:\n",
    "        source_polyons = polys.get((layer,j),[])\n",
    "\n",
    "        for polygon in source_polyons:\n",
    "            if (layer ==5) or (layer == 31) or (layer == 30):\n",
    "                polygon = snap_to_grid(polygon, qubit_layer_grid)\n",
    "            elif (layer == 20) or (layer == 60):\n",
    "                polygon = snap_to_grid(polygon, junction_layer_grid)\n",
    "            p =gdspy.Polygon(polygon*(1e-3/1e-6), layer = int(layer), datatype = 0)\n",
    "            # print(cell_names[i])\n",
    "            top.add(p)"
   ]
  },
  {
   "attachments": {},
   "cell_type": "markdown",
   "metadata": {},
   "source": [
    "add the chip edge"
   ]
  },
  {
   "cell_type": "code",
   "execution_count": 15,
   "metadata": {},
   "outputs": [
    {
     "data": {
      "text/plain": [
       "<gdspy.library.Cell at 0x11e463160>"
      ]
     },
     "execution_count": 15,
     "metadata": {},
     "output_type": "execute_result"
    }
   ],
   "source": [
    "rectangle = gdspy.Polygon(1e3*np.array([[-10.15/2,10.15/2],[10.15/2,10.15/2],[10.15/2,-10.15/2],[-10.15/2,-10.15/2]]), layer = int(chip_edge_layer))\n",
    "top.add(rectangle)"
   ]
  },
  {
   "attachments": {},
   "cell_type": "markdown",
   "metadata": {},
   "source": [
    "Write necessary information in the information cells"
   ]
  },
  {
   "cell_type": "code",
   "execution_count": 18,
   "metadata": {},
   "outputs": [],
   "source": [
    "htest1 = gdspy.Text('Email',1/2*10,(-5,4), layer = text_layer1)\n",
    "htest2 = gdspy.Text('wendywan@stanford.edu',1/2*10, (-5,2), layer = text_layer1)\n",
    "htest3 = gdspy.Text('Jc = 0.1uA/cm2',1/2*10,(-5,0), layer = text_layer1)"
   ]
  },
  {
   "cell_type": "code",
   "execution_count": 19,
   "metadata": {},
   "outputs": [
    {
     "data": {
      "text/plain": [
       "<gdspy.library.Cell at 0x11e463160>"
      ]
     },
     "execution_count": 19,
     "metadata": {},
     "output_type": "execute_result"
    }
   ],
   "source": [
    "top.add(htest1)\n",
    "top.add(htest2)\n",
    "top.add(htest3)"
   ]
  },
  {
   "cell_type": "code",
   "execution_count": 20,
   "metadata": {},
   "outputs": [],
   "source": [
    "gds_new.write_gds('design_final.gds')"
   ]
  }
 ],
 "metadata": {
  "kernelspec": {
   "display_name": "qiskit",
   "language": "python",
   "name": "python3"
  },
  "language_info": {
   "codemirror_mode": {
    "name": "ipython",
    "version": 3
   },
   "file_extension": ".py",
   "mimetype": "text/x-python",
   "name": "python",
   "nbconvert_exporter": "python",
   "pygments_lexer": "ipython3",
   "version": "3.11.0"
  },
  "orig_nbformat": 4
 },
 "nbformat": 4,
 "nbformat_minor": 2
}
