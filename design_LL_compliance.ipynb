{
 "cells": [
  {
   "cell_type": "code",
   "execution_count": 1,
   "metadata": {},
   "outputs": [],
   "source": [
    "import gdspy\n",
    "import numpy as np"
   ]
  },
  {
   "cell_type": "code",
   "execution_count": 2,
   "metadata": {},
   "outputs": [],
   "source": [
    "gdsii = gdspy.GdsLibrary()\n",
    "file = '/Users/wendy/Desktop/Wendy-qiskit-code/export_test_0506_LL.gds'\n",
    "gdsii.read_gds(file, units = 'import')\n",
    "\n",
    "gds_new = gdspy.GdsLibrary(unit = 1e-6, precision = 1e-9)\n",
    "# gds_new.cells.clear()"
   ]
  },
  {
   "cell_type": "code",
   "execution_count": 3,
   "metadata": {},
   "outputs": [],
   "source": [
    "qubit_layer = 5\n",
    "junction_layer = 20\n",
    "ab_layer = 31\n",
    "ab_square_layer = 30\n",
    "junction_area_layer = 60\n",
    "chip_edge_layer = int(703)\n",
    "\n",
    "layer_numbers  = [qubit_layer,junction_layer,ab_layer,ab_square_layer]#,junction_area_layer]"
   ]
  },
  {
   "cell_type": "code",
   "execution_count": 4,
   "metadata": {},
   "outputs": [],
   "source": [
    "qubit_layer_name = 'TOP_M1'\n",
    "junction_name = 'TOP_SE1'\n",
    "ab_name = 'TOP_BR'\n",
    "ab_square_name = 'TOP_RR'\n",
    "junction_area_name = 'TOP_SE1_JJ'\n",
    "chip_edge_name = 'TOP_ChipEdge'\n",
    "\n"
   ]
  },
  {
   "cell_type": "code",
   "execution_count": 5,
   "metadata": {},
   "outputs": [],
   "source": [
    "qubit_cell = gds_new.new_cell(qubit_layer_name)\n",
    "junction_cell = gds_new.new_cell(junction_name)\n",
    "ab_cell = gds_new.new_cell(ab_name)\n",
    "ab_square_cell = gds_new.new_cell(ab_square_name)\n",
    "junction_area_cell = gds_new.new_cell(junction_area_name)\n",
    "chip_edge_cell = gds_new.new_cell(chip_edge_name)\n"
   ]
  },
  {
   "cell_type": "code",
   "execution_count": 6,
   "metadata": {},
   "outputs": [],
   "source": [
    "cell_names = [qubit_cell, junction_cell, ab_cell,ab_square_cell]#, junction_area_cell]"
   ]
  },
  {
   "cell_type": "code",
   "execution_count": 7,
   "metadata": {},
   "outputs": [],
   "source": [
    "data_type = 0"
   ]
  },
  {
   "cell_type": "code",
   "execution_count": 8,
   "metadata": {},
   "outputs": [],
   "source": [
    "def snap_to_grid(coord, grid_size):\n",
    "    return np.round(coord / grid_size) * grid_size"
   ]
  },
  {
   "cell_type": "code",
   "execution_count": 9,
   "metadata": {},
   "outputs": [],
   "source": [
    "qubit_layer_grid = 50*1e-3\n",
    "junction_layer_grid = 5*1e-3"
   ]
  },
  {
   "cell_type": "code",
   "execution_count": 10,
   "metadata": {},
   "outputs": [],
   "source": [
    "polys = gdsii.top_level()[0].get_polygons(by_spec = True)"
   ]
  },
  {
   "cell_type": "code",
   "execution_count": 11,
   "metadata": {},
   "outputs": [],
   "source": [
    "keys = list(polys.keys())"
   ]
  },
  {
   "cell_type": "code",
   "execution_count": 12,
   "metadata": {},
   "outputs": [
    {
     "data": {
      "text/plain": [
       "[(20, 10), (5, 10), (5, 11), (5, 0), (30, 10), (31, 10)]"
      ]
     },
     "execution_count": 12,
     "metadata": {},
     "output_type": "execute_result"
    }
   ],
   "source": [
    "keys"
   ]
  },
  {
   "cell_type": "code",
   "execution_count": 13,
   "metadata": {},
   "outputs": [
    {
     "name": "stdout",
     "output_type": "stream",
     "text": [
      "[10]\n",
      "[10, 11]\n"
     ]
    }
   ],
   "source": [
    "datatypes = {}\n",
    "for i in keys:\n",
    "    try:\n",
    "        print(datatypes[i[0]])\n",
    "    except:\n",
    "        datatypes[i[0]] = [i[1]]\n",
    "    else:\n",
    "        datatypes[i[0]].append(i[1])\n"
   ]
  },
  {
   "cell_type": "code",
   "execution_count": 14,
   "metadata": {},
   "outputs": [
    {
     "data": {
      "text/plain": [
       "{20: [10], 5: [10, 11, 0], 30: [10], 31: [10]}"
      ]
     },
     "execution_count": 14,
     "metadata": {},
     "output_type": "execute_result"
    }
   ],
   "source": [
    "datatypes"
   ]
  },
  {
   "cell_type": "code",
   "execution_count": 15,
   "metadata": {},
   "outputs": [
    {
     "data": {
      "text/plain": [
       "703"
      ]
     },
     "execution_count": 15,
     "metadata": {},
     "output_type": "execute_result"
    }
   ],
   "source": [
    "chip_edge_layer"
   ]
  },
  {
   "cell_type": "code",
   "execution_count": 16,
   "metadata": {},
   "outputs": [
    {
     "data": {
      "text/plain": [
       "<gdspy.library.Cell at 0x11aa63e80>"
      ]
     },
     "execution_count": 16,
     "metadata": {},
     "output_type": "execute_result"
    }
   ],
   "source": [
    "rectangle = gdspy.Polygon(np.array([[-500.,500.],[500.,500.],[500.,-500.],[-500.,-500.]]), layer = int(chip_edge_layer))\n",
    "chip_edge_cell.add(rectangle)"
   ]
  },
  {
   "cell_type": "code",
   "execution_count": 17,
   "metadata": {},
   "outputs": [],
   "source": [
    "for i, layer in enumerate(layer_numbers):\n",
    "    for j in datatypes[layer]:\n",
    "        source_polyons = polys.get((layer,j),[])\n",
    "\n",
    "        for polygon in source_polyons:\n",
    "            p =gdspy.Polygon(polygon, layer = layer, datatype = data_type)\n",
    "            cell_names[i].add(p)"
   ]
  },
  {
   "cell_type": "code",
   "execution_count": 18,
   "metadata": {},
   "outputs": [],
   "source": [
    "gds_new.write_gds('compatible_try2.gds')"
   ]
  },
  {
   "cell_type": "code",
   "execution_count": 21,
   "metadata": {},
   "outputs": [],
   "source": [
    "top = qubit_cell = gds_new.new_cell('TOP')"
   ]
  },
  {
   "cell_type": "code",
   "execution_count": 22,
   "metadata": {},
   "outputs": [],
   "source": [
    "gds_new.write_gds('compatible_try21.gds')"
   ]
  },
  {
   "cell_type": "code",
   "execution_count": 23,
   "metadata": {},
   "outputs": [
    {
     "data": {
      "text/plain": [
       "[]"
      ]
     },
     "execution_count": 23,
     "metadata": {},
     "output_type": "execute_result"
    }
   ],
   "source": [
    "gds_new.top_level()[0].get_polygons()"
   ]
  },
  {
   "cell_type": "code",
   "execution_count": 20,
   "metadata": {},
   "outputs": [
    {
     "data": {
      "text/plain": [
       "{'TOP_M1': <gdspy.library.Cell at 0x103d9f1c0>,\n",
       " 'TOP_SE1': <gdspy.library.Cell at 0x11aa639a0>,\n",
       " 'TOP_BR': <gdspy.library.Cell at 0x11aa63d00>,\n",
       " 'TOP_RR': <gdspy.library.Cell at 0x11aa63dc0>,\n",
       " 'TOP_SE1_JJ': <gdspy.library.Cell at 0x11aa63e20>,\n",
       " 'TOP_ChipEdge': <gdspy.library.Cell at 0x11aa63e80>}"
      ]
     },
     "execution_count": 20,
     "metadata": {},
     "output_type": "execute_result"
    }
   ],
   "source": [
    "gds_new.cells"
   ]
  },
  {
   "cell_type": "code",
   "execution_count": 25,
   "metadata": {},
   "outputs": [
    {
     "data": {
      "text/plain": [
       "[<gdspy.library.Cell at 0x103ed9c60>]"
      ]
     },
     "execution_count": 25,
     "metadata": {},
     "output_type": "execute_result"
    }
   ],
   "source": [
    "gdsii.top_level()"
   ]
  },
  {
   "cell_type": "code",
   "execution_count": null,
   "metadata": {},
   "outputs": [],
   "source": []
  }
 ],
 "metadata": {
  "kernelspec": {
   "display_name": "qiskit",
   "language": "python",
   "name": "python3"
  },
  "language_info": {
   "codemirror_mode": {
    "name": "ipython",
    "version": 3
   },
   "file_extension": ".py",
   "mimetype": "text/x-python",
   "name": "python",
   "nbconvert_exporter": "python",
   "pygments_lexer": "ipython3",
   "version": "3.11.0"
  },
  "orig_nbformat": 4
 },
 "nbformat": 4,
 "nbformat_minor": 2
}
