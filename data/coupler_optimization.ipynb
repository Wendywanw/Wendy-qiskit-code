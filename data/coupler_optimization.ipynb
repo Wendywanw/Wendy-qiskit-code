{
 "cells": [
  {
   "cell_type": "code",
   "execution_count": 1,
   "metadata": {},
   "outputs": [],
   "source": [
    "from selenium import webdriver\n",
    "from selenium.webdriver.common.keys import Keys\n",
    "import re\n",
    "import time\n",
    "import scipy.optimize as opt\n",
    "from selenium.webdriver.common.by import By\n",
    "import numpy as np\n",
    "import astropy.units as u\n",
    "from bs4 import BeautifulSoup\n",
    "import pandas as pd"
   ]
  },
  {
   "cell_type": "code",
   "execution_count": 2,
   "metadata": {},
   "outputs": [],
   "source": [
    "path = '/Users/wendy/_Lib/chromedriver_mac_arm64/chromedriver'"
   ]
  },
  {
   "cell_type": "code",
   "execution_count": 3,
   "metadata": {},
   "outputs": [
    {
     "name": "stderr",
     "output_type": "stream",
     "text": [
      "/var/folders/1c/5vhp7f916wv452z62sq58lzc0000gn/T/ipykernel_16504/2459958106.py:1: DeprecationWarning: executable_path has been deprecated, please pass in a Service object\n",
      "  driver = webdriver.Chrome(path)\n"
     ]
    }
   ],
   "source": [
    "driver = webdriver.Chrome(path)\n"
   ]
  },
  {
   "cell_type": "code",
   "execution_count": 4,
   "metadata": {},
   "outputs": [],
   "source": [
    "driver.get('https://smm.misis.ru/CPW-resonator-coupling/')\n"
   ]
  },
  {
   "cell_type": "code",
   "execution_count": 5,
   "metadata": {},
   "outputs": [],
   "source": [
    "def set_epsilon(epsilon):\n",
    "    epsi = driver.find_element(By.ID, 'epsilon')\n",
    "    epsi.clear()\n",
    "    epsi.send_keys('11.45')"
   ]
  },
  {
   "cell_type": "code",
   "execution_count": 6,
   "metadata": {},
   "outputs": [],
   "source": [
    "def single_cpw_impedance(pin, gap):\n",
    "    input_box = driver.find_element(By.ID, 'conductor-gap-widths-elements')\n",
    "    AB = input_box.find_element(By.NAME, 'AB')\n",
    "    BC = input_box.find_element(By.NAME, 'BC')\n",
    "    CD = input_box.find_element(By.NAME, 'CD')\n",
    "\n",
    "    AB.clear()\n",
    "    AB.send_keys(gap)\n",
    "\n",
    "    CD.clear()\n",
    "    CD.send_keys(gap)\n",
    "\n",
    "    BC.clear()\n",
    "    BC.send_keys(pin)\n",
    "\n",
    "\n",
    "    impedance_box = driver.find_element(By.ID, 'impedance-data')\n",
    "    impedance = impedance_box.get_attribute('innerHTML')\n",
    "\n",
    "\n",
    "\n",
    "    string = impedance\n",
    "    match = re.search(r'Z0:(\\d+\\.\\d+)', string)\n",
    "\n",
    "    if match:\n",
    "        number = float(match.group(1))\n",
    "        # print(number)\n",
    "    else:\n",
    "        print(\"No match found.\")\n",
    "\n",
    "\n",
    "    return number\n",
    "\n",
    "    "
   ]
  },
  {
   "cell_type": "code",
   "execution_count": 7,
   "metadata": {},
   "outputs": [],
   "source": [
    "set_epsilon(11.45)"
   ]
  },
  {
   "cell_type": "code",
   "execution_count": 8,
   "metadata": {},
   "outputs": [
    {
     "data": {
      "text/plain": [
       "49.99140914897713"
      ]
     },
     "execution_count": 8,
     "metadata": {},
     "output_type": "execute_result"
    }
   ],
   "source": [
    "single_cpw_impedance(12.4, 6.99)"
   ]
  },
  {
   "cell_type": "code",
   "execution_count": 9,
   "metadata": {},
   "outputs": [],
   "source": [
    "def find_optimal_gap(pin):\n",
    "    def f(gap):\n",
    "        time.sleep(0.01)\n",
    "        return single_cpw_impedance(pin, gap)-50\n",
    "    gap_val = opt.brentq(f, 0, 10)\n",
    "    return round(gap_val, 2)"
   ]
  },
  {
   "cell_type": "code",
   "execution_count": 10,
   "metadata": {},
   "outputs": [
    {
     "data": {
      "text/plain": [
       "6.99"
      ]
     },
     "execution_count": 10,
     "metadata": {},
     "output_type": "execute_result"
    }
   ],
   "source": [
    "#for the transmission line, the optimal gap is:\n",
    "find_optimal_gap(12.4)"
   ]
  },
  {
   "cell_type": "code",
   "execution_count": null,
   "metadata": {},
   "outputs": [],
   "source": [
    "#for the resonator:\n",
    "find_optimal_gap(12.4)"
   ]
  },
  {
   "cell_type": "code",
   "execution_count": 11,
   "metadata": {},
   "outputs": [],
   "source": [
    "resonator_pin = 12.4\n",
    "transmission_line_pin = 12.4\n",
    "resonator_gap = find_optimal_gap(resonator_pin)\n",
    "transmission_line_gap = find_optimal_gap(transmission_line_pin)"
   ]
  },
  {
   "attachments": {},
   "cell_type": "markdown",
   "metadata": {},
   "source": [
    "After getting optimal values for the individual transmissionline/resonators, we optimize the coupling between them."
   ]
  },
  {
   "cell_type": "code",
   "execution_count": 12,
   "metadata": {},
   "outputs": [],
   "source": [
    "def set_up_structure(coupling_space,resonator_pin = resonator_pin,resonator_gap=resonator_gap,transmission_line_pin=transmission_line_pin, transmission_line_gap=transmission_line_gap):\n",
    "    button = driver.find_element(By.ID, 'add-conductor')\n",
    "    button.click()\n",
    "    button.click()\n",
    "    time.sleep(0.5)\n",
    "    conductor1 = driver.find_element(By.ID, 'tc3')\n",
    "    conductor1.click()\n",
    "    conductor1.click()\n",
    "    time.sleep(0.5)\n",
    "\n",
    "    input_box = driver.find_element(By.ID, 'conductor-gap-widths-elements')\n",
    "    AB = input_box.find_element(By.NAME, 'AB')\n",
    "    BC = input_box.find_element(By.NAME, 'BC')\n",
    "    CD = input_box.find_element(By.NAME, 'CD')\n",
    "    DE = input_box.find_element(By.NAME, 'DE')\n",
    "    EF = input_box.find_element(By.NAME, 'EF')\n",
    "    FG = input_box.find_element(By.NAME, 'FG')\n",
    "    GH = input_box.find_element(By.NAME, 'GH')\n",
    "\n",
    "    AB.clear()\n",
    "    AB.send_keys(transmission_line_gap)\n",
    "\n",
    "    CD.clear()\n",
    "    CD.send_keys(transmission_line_gap)\n",
    "\n",
    "    BC.clear()\n",
    "    BC.send_keys(transmission_line_pin)\n",
    "    time.sleep(0.5)\n",
    "\n",
    "    \n",
    "    DE.clear()\n",
    "    DE.send_keys(coupling_space)\n",
    "\n",
    "    EF.clear()\n",
    "    EF.send_keys(resonator_gap)\n",
    "\n",
    "    FG.clear()\n",
    "    FG.send_keys(resonator_pin)\n",
    "\n",
    "    GH.clear()\n",
    "    GH.send_keys(resonator_gap)\n",
    "    "
   ]
  },
  {
   "cell_type": "code",
   "execution_count": 13,
   "metadata": {},
   "outputs": [],
   "source": [
    "def change_gap(coupling_space):\n",
    "    input_box = driver.find_element(By.ID, 'conductor-gap-widths-elements')\n",
    "    DE = input_box.find_element(By.NAME, 'DE')\n",
    "    DE.clear()\n",
    "    DE.send_keys(coupling_space)"
   ]
  },
  {
   "cell_type": "code",
   "execution_count": 14,
   "metadata": {},
   "outputs": [],
   "source": [
    "def set_up_resonator():\n",
    "    ztl1 = driver.find_element(By.ID, 'Zt1_short')\n",
    "    ztl1.click()\n",
    "    ztl2 = driver.find_element(By.ID, 'Zt2_open')\n",
    "    ztl2.click()\n",
    "\n",
    "    SC_coupler_len = driver.find_element(By.ID, 'lc')\n",
    "    SC_coupler_len.clear()\n",
    "    SC_coupler_len.send_keys('0.12')\n",
    "\n",
    "    SC_coupler_l1 = driver.find_element(By.ID, 'l1')\n",
    "    SC_coupler_l1.clear()\n",
    "    SC_coupler_l1.send_keys('0')\n",
    "\n",
    "    SC_coupler_l2 = driver.find_element(By.ID, 'l2')\n",
    "    SC_coupler_l2.clear()\n",
    "    SC_coupler_l2.send_keys('4')"
   ]
  },
  {
   "cell_type": "code",
   "execution_count": 15,
   "metadata": {},
   "outputs": [],
   "source": [
    "set_up_structure(5)\n",
    "\n"
   ]
  },
  {
   "cell_type": "code",
   "execution_count": 16,
   "metadata": {},
   "outputs": [],
   "source": [
    "set_up_resonator()"
   ]
  },
  {
   "cell_type": "code",
   "execution_count": 17,
   "metadata": {},
   "outputs": [],
   "source": [
    "def find_resonator_length(freq):\n",
    "    def f(length):\n",
    "        time.sleep(0.01)\n",
    "        SC_coupler_len = driver.find_element(By.ID, 'lc')\n",
    "        SC_coupler_len.clear()\n",
    "        SC_coupler_len.send_keys(length)\n",
    "        return single_cpw_impedance(12.4, 9)-freq\n",
    "    length_val = opt.brentq(f, 0, 10, xtol=0.001)\n",
    "    return round(length_val, 2)"
   ]
  },
  {
   "cell_type": "code",
   "execution_count": 18,
   "metadata": {},
   "outputs": [],
   "source": [
    "def find_resonator_specs():\n",
    "\n",
    "    table = driver.find_element(By.ID, 'resonances')\n",
    "    html = table.get_attribute('innerHTML')\n",
    "    soup = BeautifulSoup(html, 'html.parser')\n",
    "\n",
    "    # Extracting column names from HTML table headers\n",
    "    cols = []\n",
    "    for th in soup.find_all('th'):\n",
    "        cols.append(th.text.strip())\n",
    "        \n",
    "    # Extracting table rows from HTML table body\n",
    "    data = []\n",
    "    for tr in soup.find_all('tr')[1:]:\n",
    "        row = []\n",
    "        for td in tr.find_all('td'):\n",
    "            row.append(td.text.strip())\n",
    "        data.append(row)\n",
    "\n",
    "    # Creating pandas dataframe from table rows and columns\n",
    "    df = pd.DataFrame(data, columns=cols)\n",
    "\n",
    "    return df\n",
    "    \n",
    "    "
   ]
  },
  {
   "cell_type": "code",
   "execution_count": 19,
   "metadata": {},
   "outputs": [],
   "source": [
    "freq = float(find_resonator_specs()['Frequency, GHz'][0])"
   ]
  },
  {
   "cell_type": "code",
   "execution_count": 20,
   "metadata": {},
   "outputs": [],
   "source": [
    "def find_freq(len):\n",
    "    SC_coupler_l2 = driver.find_element(By.ID, 'l2')\n",
    "    SC_coupler_l2.clear()\n",
    "    SC_coupler_l2.send_keys(len)\n",
    "\n",
    "    return float(find_resonator_specs()['Frequency, GHz'][0])"
   ]
  },
  {
   "cell_type": "code",
   "execution_count": 21,
   "metadata": {},
   "outputs": [],
   "source": [
    "def find_resonator_length(freq):\n",
    "    def f(length):\n",
    "        time.sleep(0.01)\n",
    "        SC_coupler_len = driver.find_element(By.ID, 'l2')\n",
    "        SC_coupler_len.clear()\n",
    "        SC_coupler_len.send_keys(length)\n",
    "        return float(find_resonator_specs()['Frequency, GHz'][0])-freq\n",
    "    length_val = opt.brentq(f, 0, 10, xtol=0.001)\n",
    "    return round(length_val, 2)\n",
    "\n",
    "    "
   ]
  },
  {
   "cell_type": "code",
   "execution_count": null,
   "metadata": {},
   "outputs": [],
   "source": [
    "l = find_resonator_length(6.4)"
   ]
  },
  {
   "cell_type": "code",
   "execution_count": null,
   "metadata": {},
   "outputs": [],
   "source": [
    "freq_len = {}\n",
    "for freqs in np.arange(6.4,8,0.2):\n",
    "    freq_len[freqs] = find_resonator_length(freqs)"
   ]
  },
  {
   "cell_type": "code",
   "execution_count": null,
   "metadata": {},
   "outputs": [],
   "source": [
    "freq_len"
   ]
  },
  {
   "cell_type": "code",
   "execution_count": 22,
   "metadata": {},
   "outputs": [],
   "source": [
    "def find_Q(gap,freq):\n",
    "\n",
    "    change_gap(gap)\n",
    "    \n",
    "    length = find_resonator_length(freq)\n",
    "    SC_coupler_len = driver.find_element(By.ID, 'l2')\n",
    "    SC_coupler_len.clear()\n",
    "    SC_coupler_len.send_keys(length)\n",
    "\n",
    "    \n",
    "    return float(find_resonator_specs()['Quality factor'][0])\n",
    "\n",
    "    \n"
   ]
  },
  {
   "cell_type": "code",
   "execution_count": 23,
   "metadata": {},
   "outputs": [],
   "source": [
    "Q = find_Q(1,6.4)"
   ]
  },
  {
   "cell_type": "code",
   "execution_count": 24,
   "metadata": {},
   "outputs": [],
   "source": [
    "kappa = 2*np.pi*freq*u.GHz/Q"
   ]
  },
  {
   "cell_type": "code",
   "execution_count": 25,
   "metadata": {},
   "outputs": [
    {
     "data": {
      "text/latex": [
       "$1.2362957 \\; \\mathrm{MHz}$"
      ],
      "text/plain": [
       "<Quantity 1.23629569 MHz>"
      ]
     },
     "execution_count": 25,
     "metadata": {},
     "output_type": "execute_result"
    }
   ],
   "source": [
    "kappa.to(u.MHz)"
   ]
  },
  {
   "cell_type": "code",
   "execution_count": 26,
   "metadata": {},
   "outputs": [],
   "source": [
    "def find_optimal_gap(freq):\n",
    "    def kappa(gap):\n",
    "        time.sleep(0.01)\n",
    "        return (2*np.pi*freq*u.GHz/find_Q(gap,freq)-1*u.MHz).to(u.MHz).value\n",
    "    gap_val = opt.brentq(kappa, 0, 10, xtol=0.001)\n",
    "    return round(gap_val, 2)"
   ]
  },
  {
   "cell_type": "code",
   "execution_count": 27,
   "metadata": {},
   "outputs": [
    {
     "data": {
      "text/plain": [
       "1.25"
      ]
     },
     "execution_count": 27,
     "metadata": {},
     "output_type": "execute_result"
    }
   ],
   "source": [
    "find_optimal_gap(6.4)"
   ]
  },
  {
   "cell_type": "code",
   "execution_count": 28,
   "metadata": {},
   "outputs": [],
   "source": [
    "gaps = {}\n",
    "\n",
    "for freq in np.arange(6.4,8.4,0.2):\n",
    "    gaps[freq] = find_optimal_gap(freq)"
   ]
  },
  {
   "cell_type": "code",
   "execution_count": 29,
   "metadata": {},
   "outputs": [
    {
     "data": {
      "text/plain": [
       "{6.4: 1.25,\n",
       " 6.6000000000000005: 1.54,\n",
       " 6.800000000000001: 1.86,\n",
       " 7.000000000000001: 2.19,\n",
       " 7.200000000000001: 2.54,\n",
       " 7.400000000000001: 2.88,\n",
       " 7.600000000000001: 3.25,\n",
       " 7.800000000000002: 3.61,\n",
       " 8.000000000000002: 3.99,\n",
       " 8.200000000000003: 4.36}"
      ]
     },
     "execution_count": 29,
     "metadata": {},
     "output_type": "execute_result"
    }
   ],
   "source": [
    "gaps"
   ]
  },
  {
   "cell_type": "code",
   "execution_count": 30,
   "metadata": {},
   "outputs": [],
   "source": [
    "dat = pd.DataFrame(gaps, index = [0])\n",
    "dat.to_csv('gaps_um.csv')"
   ]
  },
  {
   "cell_type": "code",
   "execution_count": 34,
   "metadata": {},
   "outputs": [
    {
     "data": {
      "text/plain": [
       "array([1.25, 1.54, 1.86, 2.19, 2.54, 2.88, 3.25, 3.61, 3.99, 4.36])"
      ]
     },
     "execution_count": 34,
     "metadata": {},
     "output_type": "execute_result"
    }
   ],
   "source": [
    "dat.values[0]"
   ]
  },
  {
   "cell_type": "code",
   "execution_count": 35,
   "metadata": {},
   "outputs": [],
   "source": [
    "data_all = pd.read_csv('/Users/wendy/Desktop/Wendy-qiskit-code/data/educated_guess_0403.csv')"
   ]
  },
  {
   "cell_type": "code",
   "execution_count": null,
   "metadata": {},
   "outputs": [],
   "source": [
    "gaps_all = [1.25, 1.54, 1.86, 2.19, 2.54, 2.88, 3.25, 3.61]"
   ]
  },
  {
   "cell_type": "code",
   "execution_count": 36,
   "metadata": {},
   "outputs": [],
   "source": [
    "data_all['Coupling_gap_feedline(um)'] = dat.values[0]"
   ]
  },
  {
   "cell_type": "code",
   "execution_count": 39,
   "metadata": {},
   "outputs": [],
   "source": [
    "data_all.drop(columns = ['Unnamed: 0'], inplace = True)"
   ]
  },
  {
   "cell_type": "code",
   "execution_count": 45,
   "metadata": {},
   "outputs": [],
   "source": [
    "data_all.to_csv(r'/Users/wendy/Desktop/Wendy-qiskit-code/data/educated_guess_all.csv')"
   ]
  },
  {
   "cell_type": "code",
   "execution_count": null,
   "metadata": {},
   "outputs": [],
   "source": [
    "conductor1 = driver.find_element(By.ID, 'tc3')"
   ]
  },
  {
   "cell_type": "code",
   "execution_count": null,
   "metadata": {},
   "outputs": [],
   "source": [
    "conductor1.click()"
   ]
  },
  {
   "cell_type": "code",
   "execution_count": null,
   "metadata": {},
   "outputs": [],
   "source": [
    "conductor1.click()"
   ]
  },
  {
   "cell_type": "code",
   "execution_count": null,
   "metadata": {},
   "outputs": [],
   "source": [
    "input_box = driver.find_element(By.ID, 'conductor-gap-widths-elements')\n",
    "AB = input_box.find_element(By.NAME, 'AB')\n",
    "BC = input_box.find_element(By.NAME, 'BC')\n",
    "CD = input_box.find_element(By.NAME, 'CD')\n",
    "DE = input_box.find_element(By.NAME, 'DE')\n",
    "EF = input_box.find_element(By.NAME, 'EF')\n",
    "FG = input_box.find_element(By.NAME, 'FG')\n",
    "GH = input_box.find_element(By.NAME, 'GH')"
   ]
  },
  {
   "cell_type": "code",
   "execution_count": null,
   "metadata": {},
   "outputs": [],
   "source": [
    "AB.clear()\n",
    "AB.send_keys('9')\n",
    "CD.clear()\n",
    "CD.send_keys('9')\n",
    "\n",
    "BC.clear()\n",
    "BC.send_keys('15.95')\n",
    "\n",
    "DE.clear()\n",
    "DE.send_keys('5')\n",
    "\n",
    "EF.clear()\n",
    "EF.send_keys('7.4')\n",
    "\n",
    "FG.clear()\n",
    "FG.send_keys('12.5')\n",
    "\n",
    "GH.clear()\n",
    "GH.send_keys('7.4')\n",
    "\n"
   ]
  },
  {
   "cell_type": "code",
   "execution_count": null,
   "metadata": {},
   "outputs": [],
   "source": [
    "epsi = driver.find_element(By.ID, 'epsilon')\n",
    "epsi.clear()\n",
    "epsi.send_keys('11.45')"
   ]
  },
  {
   "cell_type": "markdown",
   "metadata": {},
   "source": []
  },
  {
   "cell_type": "code",
   "execution_count": null,
   "metadata": {},
   "outputs": [],
   "source": []
  },
  {
   "cell_type": "code",
   "execution_count": null,
   "metadata": {},
   "outputs": [],
   "source": []
  },
  {
   "cell_type": "code",
   "execution_count": null,
   "metadata": {},
   "outputs": [],
   "source": [
    "SC_coupler_len = driver.find_element(By.ID, 'lc')\n",
    "SC_coupler_len.clear()\n",
    "SC_coupler_len.send_keys('0.12')\n",
    "\n",
    "SC_coupler_l1 = driver.find_element(By.ID, 'l1')\n",
    "SC_coupler_l1.clear()\n",
    "SC_coupler_l1.send_keys('0')\n",
    "\n",
    "SC_coupler_l2 = driver.find_element(By.ID, 'l2')\n",
    "SC_coupler_l2.clear()\n",
    "SC_coupler_l2.send_keys('4')\n",
    "\n"
   ]
  },
  {
   "cell_type": "code",
   "execution_count": null,
   "metadata": {},
   "outputs": [],
   "source": [
    "import pandas as pd\n",
    "from bs4 import BeautifulSoup\n",
    "\n",
    "soup = BeautifulSoup(html, 'html.parser')\n",
    "\n",
    "# Extracting column names from HTML table headers\n",
    "cols = []\n",
    "for th in soup.find_all('th'):\n",
    "    cols.append(th.text.strip())\n",
    "    \n",
    "# Extracting table rows from HTML table body\n",
    "data = []\n",
    "for tr in soup.find_all('tr')[1:]:\n",
    "    row = []\n",
    "    for td in tr.find_all('td'):\n",
    "        row.append(td.text.strip())\n",
    "    data.append(row)\n",
    "\n",
    "# Creating pandas dataframe from table rows and columns\n",
    "df = pd.DataFrame(data, columns=cols)\n",
    "\n",
    "print(df)"
   ]
  },
  {
   "cell_type": "code",
   "execution_count": null,
   "metadata": {},
   "outputs": [],
   "source": []
  }
 ],
 "metadata": {
  "kernelspec": {
   "display_name": "qiskit",
   "language": "python",
   "name": "python3"
  },
  "language_info": {
   "codemirror_mode": {
    "name": "ipython",
    "version": 3
   },
   "file_extension": ".py",
   "mimetype": "text/x-python",
   "name": "python",
   "nbconvert_exporter": "python",
   "pygments_lexer": "ipython3",
   "version": "3.11.0"
  },
  "orig_nbformat": 4
 },
 "nbformat": 4,
 "nbformat_minor": 2
}
