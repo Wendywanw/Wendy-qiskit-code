{
 "cells": [
  {
   "cell_type": "code",
   "execution_count": 1,
   "metadata": {},
   "outputs": [],
   "source": [
    "from selenium import webdriver\n",
    "from selenium.webdriver.common.keys import Keys\n",
    "import re\n",
    "import time\n",
    "import scipy.optimize as opt\n",
    "from selenium.webdriver.common.by import By\n",
    "import numpy as np\n",
    "import astropy.units as u\n",
    "from bs4 import BeautifulSoup\n",
    "import pandas as pd"
   ]
  },
  {
   "cell_type": "code",
   "execution_count": 2,
   "metadata": {},
   "outputs": [],
   "source": [
    "path = '/Users/wendy/_Lib/chromedriver_mac_arm64/chromedriver'"
   ]
  },
  {
   "cell_type": "code",
   "execution_count": 3,
   "metadata": {},
   "outputs": [
    {
     "name": "stderr",
     "output_type": "stream",
     "text": [
      "/var/folders/1c/5vhp7f916wv452z62sq58lzc0000gn/T/ipykernel_85861/2459958106.py:1: DeprecationWarning: executable_path has been deprecated, please pass in a Service object\n",
      "  driver = webdriver.Chrome(path)\n"
     ]
    }
   ],
   "source": [
    "driver = webdriver.Chrome(path)\n"
   ]
  },
  {
   "cell_type": "code",
   "execution_count": 4,
   "metadata": {},
   "outputs": [],
   "source": [
    "driver.get('https://smm.misis.ru/CPW-resonator-coupling/')\n"
   ]
  },
  {
   "cell_type": "code",
   "execution_count": 5,
   "metadata": {},
   "outputs": [],
   "source": [
    "freqs = [6310.460308,6599.399983,6753.384976,6927.24498,7175.912057,7462.971308,\n",
    "         7541.496634,7782.320107,7987.50912,8171.432504]\n",
    "freqs = np.array(freqs)"
   ]
  },
  {
   "cell_type": "code",
   "execution_count": 6,
   "metadata": {},
   "outputs": [],
   "source": [
    "def set_epsilon(epsilon):\n",
    "    epsi = driver.find_element(By.ID, 'epsilon')\n",
    "    epsi.clear()\n",
    "    epsi.send_keys('11.45')"
   ]
  },
  {
   "cell_type": "code",
   "execution_count": 7,
   "metadata": {},
   "outputs": [],
   "source": [
    "def single_cpw_impedance(pin, gap):\n",
    "    input_box = driver.find_element(By.ID, 'conductor-gap-widths-elements')\n",
    "    AB = input_box.find_element(By.NAME, 'AB')\n",
    "    BC = input_box.find_element(By.NAME, 'BC')\n",
    "    CD = input_box.find_element(By.NAME, 'CD')\n",
    "\n",
    "    AB.clear()\n",
    "    AB.send_keys(gap)\n",
    "\n",
    "    CD.clear()\n",
    "    CD.send_keys(gap)\n",
    "\n",
    "    BC.clear()\n",
    "    BC.send_keys(pin)\n",
    "\n",
    "\n",
    "    impedance_box = driver.find_element(By.ID, 'impedance-data')\n",
    "    impedance = impedance_box.get_attribute('innerHTML')\n",
    "\n",
    "\n",
    "\n",
    "    string = impedance\n",
    "    match = re.search(r'Z0:(\\d+\\.\\d+)', string)\n",
    "\n",
    "    if match:\n",
    "        number = float(match.group(1))\n",
    "        # print(number)\n",
    "    else:\n",
    "        print(\"No match found.\")\n",
    "\n",
    "\n",
    "    return number\n",
    "\n",
    "    "
   ]
  },
  {
   "cell_type": "code",
   "execution_count": 8,
   "metadata": {},
   "outputs": [],
   "source": [
    "set_epsilon(11.45)"
   ]
  },
  {
   "cell_type": "code",
   "execution_count": 9,
   "metadata": {},
   "outputs": [
    {
     "data": {
      "text/plain": [
       "49.99140914897713"
      ]
     },
     "execution_count": 9,
     "metadata": {},
     "output_type": "execute_result"
    }
   ],
   "source": [
    "single_cpw_impedance(12.4, 6.99)"
   ]
  },
  {
   "cell_type": "code",
   "execution_count": 10,
   "metadata": {},
   "outputs": [],
   "source": [
    "def find_optimal_gap(pin):\n",
    "    def f(gap):\n",
    "        time.sleep(0.01)\n",
    "        return single_cpw_impedance(pin, gap)-50\n",
    "    gap_val = opt.brentq(f, 0, 10)\n",
    "    return round(gap_val, 2)"
   ]
  },
  {
   "cell_type": "code",
   "execution_count": 11,
   "metadata": {},
   "outputs": [],
   "source": [
    "resonator_pin = 12.4\n",
    "transmission_line_pin = 12.4\n",
    "resonator_gap = find_optimal_gap(resonator_pin)\n",
    "transmission_line_gap = find_optimal_gap(transmission_line_pin)"
   ]
  },
  {
   "attachments": {},
   "cell_type": "markdown",
   "metadata": {},
   "source": [
    "After getting optimal values for the individual transmissionline/resonators, we optimize the coupling between them."
   ]
  },
  {
   "cell_type": "code",
   "execution_count": 12,
   "metadata": {},
   "outputs": [],
   "source": [
    "def set_up_structure(coupling_space,resonator_pin = resonator_pin,resonator_gap=resonator_gap,transmission_line_pin=transmission_line_pin, transmission_line_gap=transmission_line_gap):\n",
    "    button = driver.find_element(By.ID, 'add-conductor')\n",
    "    button.click()\n",
    "    button.click()\n",
    "    time.sleep(0.5)\n",
    "    conductor1 = driver.find_element(By.ID, 'tc3')\n",
    "    conductor1.click()\n",
    "    conductor1.click()\n",
    "    time.sleep(0.5)\n",
    "\n",
    "    input_box = driver.find_element(By.ID, 'conductor-gap-widths-elements')\n",
    "    AB = input_box.find_element(By.NAME, 'AB')\n",
    "    BC = input_box.find_element(By.NAME, 'BC')\n",
    "    CD = input_box.find_element(By.NAME, 'CD')\n",
    "    DE = input_box.find_element(By.NAME, 'DE')\n",
    "    EF = input_box.find_element(By.NAME, 'EF')\n",
    "    FG = input_box.find_element(By.NAME, 'FG')\n",
    "    GH = input_box.find_element(By.NAME, 'GH')\n",
    "\n",
    "    AB.clear()\n",
    "    AB.send_keys(transmission_line_gap)\n",
    "\n",
    "    CD.clear()\n",
    "    CD.send_keys(transmission_line_gap)\n",
    "\n",
    "    BC.clear()\n",
    "    BC.send_keys(transmission_line_pin)\n",
    "    time.sleep(0.5)\n",
    "\n",
    "    \n",
    "    DE.clear()\n",
    "    DE.send_keys(coupling_space)\n",
    "\n",
    "    EF.clear()\n",
    "    EF.send_keys(resonator_gap)\n",
    "\n",
    "    FG.clear()\n",
    "    FG.send_keys(resonator_pin)\n",
    "\n",
    "    GH.clear()\n",
    "    GH.send_keys(resonator_gap)\n",
    "    "
   ]
  },
  {
   "cell_type": "code",
   "execution_count": 13,
   "metadata": {},
   "outputs": [],
   "source": [
    "def change_gap(coupling_space):\n",
    "    input_box = driver.find_element(By.ID, 'conductor-gap-widths-elements')\n",
    "    DE = input_box.find_element(By.NAME, 'DE')\n",
    "    DE.clear()\n",
    "    DE.send_keys(coupling_space)"
   ]
  },
  {
   "cell_type": "code",
   "execution_count": 14,
   "metadata": {},
   "outputs": [],
   "source": [
    "def set_up_resonator():\n",
    "    ztl1 = driver.find_element(By.ID, 'Zt1_short')\n",
    "    ztl1.click()\n",
    "    ztl2 = driver.find_element(By.ID, 'Zt2_open')\n",
    "    ztl2.click()\n",
    "\n",
    "    SC_coupler_len = driver.find_element(By.ID, 'lc')\n",
    "    SC_coupler_len.clear()\n",
    "    SC_coupler_len.send_keys('0.17')\n",
    "\n",
    "    SC_coupler_l1 = driver.find_element(By.ID, 'l1')\n",
    "    SC_coupler_l1.clear()\n",
    "    SC_coupler_l1.send_keys('0')\n",
    "\n",
    "    SC_coupler_l2 = driver.find_element(By.ID, 'l2')\n",
    "    SC_coupler_l2.clear()\n",
    "    SC_coupler_l2.send_keys('4')"
   ]
  },
  {
   "cell_type": "code",
   "execution_count": 15,
   "metadata": {},
   "outputs": [],
   "source": [
    "set_up_structure(5)"
   ]
  },
  {
   "cell_type": "code",
   "execution_count": 16,
   "metadata": {},
   "outputs": [],
   "source": [
    "set_up_resonator()"
   ]
  },
  {
   "cell_type": "code",
   "execution_count": 17,
   "metadata": {},
   "outputs": [],
   "source": [
    "def find_resonator_length(freq):\n",
    "    def f(length):\n",
    "        time.sleep(0.01)\n",
    "        SC_coupler_len = driver.find_element(By.ID, 'lc')\n",
    "        SC_coupler_len.clear()\n",
    "        SC_coupler_len.send_keys(length)\n",
    "        return single_cpw_impedance(12.4, 9)-freq\n",
    "    length_val = opt.brentq(f, 0, 10, xtol=0.001)\n",
    "    return round(length_val, 2)"
   ]
  },
  {
   "cell_type": "code",
   "execution_count": 18,
   "metadata": {},
   "outputs": [],
   "source": [
    "def find_resonator_specs():\n",
    "\n",
    "    table = driver.find_element(By.ID, 'resonances')\n",
    "    html = table.get_attribute('innerHTML')\n",
    "    soup = BeautifulSoup(html, 'html.parser')\n",
    "\n",
    "    # Extracting column names from HTML table headers\n",
    "    cols = []\n",
    "    for th in soup.find_all('th'):\n",
    "        cols.append(th.text.strip())\n",
    "        \n",
    "    # Extracting table rows from HTML table body\n",
    "    data = []\n",
    "    for tr in soup.find_all('tr')[1:]:\n",
    "        row = []\n",
    "        for td in tr.find_all('td'):\n",
    "            row.append(td.text.strip())\n",
    "        data.append(row)\n",
    "\n",
    "    # Creating pandas dataframe from table rows and columns\n",
    "    df = pd.DataFrame(data, columns=cols)\n",
    "\n",
    "    return df\n",
    "    \n",
    "    "
   ]
  },
  {
   "cell_type": "code",
   "execution_count": 19,
   "metadata": {},
   "outputs": [],
   "source": [
    "freq = float(find_resonator_specs()['Frequency, GHz'][0])"
   ]
  },
  {
   "cell_type": "code",
   "execution_count": 20,
   "metadata": {},
   "outputs": [],
   "source": [
    "def find_freq(len):\n",
    "    SC_coupler_l2 = driver.find_element(By.ID, 'l2')\n",
    "    SC_coupler_l2.clear()\n",
    "    SC_coupler_l2.send_keys(len)\n",
    "\n",
    "    return float(find_resonator_specs()['Frequency, GHz'][0])"
   ]
  },
  {
   "cell_type": "code",
   "execution_count": 21,
   "metadata": {},
   "outputs": [],
   "source": [
    "def find_resonator_length(freq):\n",
    "    def f(length):\n",
    "        time.sleep(0.01)\n",
    "        SC_coupler_len = driver.find_element(By.ID, 'l2')\n",
    "        SC_coupler_len.clear()\n",
    "        SC_coupler_len.send_keys(length)\n",
    "        return float(find_resonator_specs()['Frequency, GHz'][0])-freq\n",
    "    length_val = opt.brentq(f, 0, 10, xtol=0.001)\n",
    "    return round(length_val, 2)\n",
    "\n",
    "    "
   ]
  },
  {
   "cell_type": "code",
   "execution_count": 22,
   "metadata": {},
   "outputs": [
    {
     "data": {
      "text/plain": [
       "6310.460308"
      ]
     },
     "execution_count": 22,
     "metadata": {},
     "output_type": "execute_result"
    }
   ],
   "source": [
    "freqs[0]"
   ]
  },
  {
   "cell_type": "code",
   "execution_count": 23,
   "metadata": {},
   "outputs": [],
   "source": [
    "l = find_resonator_length(freqs[0]/1000)"
   ]
  },
  {
   "cell_type": "code",
   "execution_count": 24,
   "metadata": {},
   "outputs": [],
   "source": [
    "freq_len = {}\n",
    "for freq in freqs/1000:\n",
    "    freq_len[freq] = find_resonator_length(freq)"
   ]
  },
  {
   "cell_type": "code",
   "execution_count": 25,
   "metadata": {},
   "outputs": [
    {
     "data": {
      "text/plain": [
       "{6.310460308: 4.59,\n",
       " 6.5993999830000005: 4.38,\n",
       " 6.753384976: 4.28,\n",
       " 6.92724498: 4.17,\n",
       " 7.175912057: 4.02,\n",
       " 7.462971308: 3.85,\n",
       " 7.5414966340000005: 3.81,\n",
       " 7.782320106999999: 3.69,\n",
       " 7.9875091199999995: 3.59,\n",
       " 8.171432504: 3.51}"
      ]
     },
     "execution_count": 25,
     "metadata": {},
     "output_type": "execute_result"
    }
   ],
   "source": [
    "freq_len"
   ]
  },
  {
   "cell_type": "code",
   "execution_count": 26,
   "metadata": {},
   "outputs": [],
   "source": [
    "def find_Q(gap,freq):\n",
    "\n",
    "    change_gap(gap)\n",
    "    \n",
    "    length = find_resonator_length(freq)\n",
    "    SC_coupler_len = driver.find_element(By.ID, 'l2')\n",
    "    SC_coupler_len.clear()\n",
    "    SC_coupler_len.send_keys(length)\n",
    "\n",
    "    \n",
    "    return float(find_resonator_specs()['Quality factor'][0])\n",
    "\n",
    "    \n"
   ]
  },
  {
   "cell_type": "code",
   "execution_count": 27,
   "metadata": {},
   "outputs": [
    {
     "data": {
      "text/plain": [
       "6310.460308"
      ]
     },
     "execution_count": 27,
     "metadata": {},
     "output_type": "execute_result"
    }
   ],
   "source": [
    "freqs[0]"
   ]
  },
  {
   "cell_type": "code",
   "execution_count": 28,
   "metadata": {},
   "outputs": [],
   "source": [
    "Q = find_Q(1,freqs[0]/1000)"
   ]
  },
  {
   "cell_type": "code",
   "execution_count": 29,
   "metadata": {},
   "outputs": [],
   "source": [
    "kappa = 2*np.pi*freq*u.GHz/Q"
   ]
  },
  {
   "cell_type": "code",
   "execution_count": 30,
   "metadata": {},
   "outputs": [
    {
     "data": {
      "text/latex": [
       "$2.6988343 \\; \\mathrm{MHz}$"
      ],
      "text/plain": [
       "<Quantity 2.69883435 MHz>"
      ]
     },
     "execution_count": 30,
     "metadata": {},
     "output_type": "execute_result"
    }
   ],
   "source": [
    "kappa.to(u.MHz)"
   ]
  },
  {
   "cell_type": "code",
   "execution_count": 31,
   "metadata": {},
   "outputs": [],
   "source": [
    "def find_optimal_gap(freq):\n",
    "    def kappa(gap):\n",
    "        time.sleep(0.01)\n",
    "        return (2*np.pi*freq*u.GHz/find_Q(gap,freq)-1*u.MHz).to(u.MHz).value\n",
    "    gap_val = opt.brentq(kappa, 0, 15, xtol=0.001)\n",
    "    return round(gap_val, 2)"
   ]
  },
  {
   "cell_type": "code",
   "execution_count": 32,
   "metadata": {},
   "outputs": [
    {
     "data": {
      "text/plain": [
       "3.9"
      ]
     },
     "execution_count": 32,
     "metadata": {},
     "output_type": "execute_result"
    }
   ],
   "source": [
    "find_optimal_gap(freqs[0]/1000)"
   ]
  },
  {
   "cell_type": "code",
   "execution_count": 34,
   "metadata": {},
   "outputs": [],
   "source": [
    "gaps = {}\n",
    "gapps = []\n",
    "\n",
    "for freq in freqs/1000:\n",
    "    gaps[freq] = find_optimal_gap(freq)\n",
    "    gapps.append(gaps[freq])"
   ]
  },
  {
   "cell_type": "code",
   "execution_count": 35,
   "metadata": {},
   "outputs": [
    {
     "data": {
      "text/plain": [
       "{6.310460308: 3.9,\n",
       " 6.5993999830000005: 4.58,\n",
       " 6.753384976: 4.94,\n",
       " 6.92724498: 5.36,\n",
       " 7.175912057: 5.96,\n",
       " 7.462971308: 6.68,\n",
       " 7.5414966340000005: 6.87,\n",
       " 7.782320106999999: 7.45,\n",
       " 7.9875091199999995: 7.96,\n",
       " 8.171432504: 8.4}"
      ]
     },
     "execution_count": 35,
     "metadata": {},
     "output_type": "execute_result"
    }
   ],
   "source": [
    "gaps"
   ]
  },
  {
   "cell_type": "code",
   "execution_count": 36,
   "metadata": {},
   "outputs": [
    {
     "data": {
      "text/plain": [
       "[3.9, 4.58, 4.94, 5.36, 5.96, 6.68, 6.87, 7.45, 7.96, 8.4]"
      ]
     },
     "execution_count": 36,
     "metadata": {},
     "output_type": "execute_result"
    }
   ],
   "source": [
    "gapps"
   ]
  },
  {
   "cell_type": "code",
   "execution_count": 37,
   "metadata": {},
   "outputs": [],
   "source": [
    "dat = pd.DataFrame(gaps, index = [0])\n",
    "dat.to_csv('gaps_um.csv')"
   ]
  },
  {
   "cell_type": "code",
   "execution_count": 38,
   "metadata": {},
   "outputs": [
    {
     "data": {
      "text/plain": [
       "array([3.9 , 4.58, 4.94, 5.36, 5.96, 6.68, 6.87, 7.45, 7.96, 8.4 ])"
      ]
     },
     "execution_count": 38,
     "metadata": {},
     "output_type": "execute_result"
    }
   ],
   "source": [
    "dat.values[0]"
   ]
  },
  {
   "cell_type": "code",
   "execution_count": 66,
   "metadata": {},
   "outputs": [],
   "source": [
    "data_all = pd.read_csv(r'/Users/wendy/Desktop/Wendy-qiskit-code/data/educated_guess_test2').drop(columns = ['Unnamed: 0'])"
   ]
  },
  {
   "cell_type": "code",
   "execution_count": 67,
   "metadata": {},
   "outputs": [
    {
     "data": {
      "text/html": [
       "<div>\n",
       "<style scoped>\n",
       "    .dataframe tbody tr th:only-of-type {\n",
       "        vertical-align: middle;\n",
       "    }\n",
       "\n",
       "    .dataframe tbody tr th {\n",
       "        vertical-align: top;\n",
       "    }\n",
       "\n",
       "    .dataframe thead th {\n",
       "        text-align: right;\n",
       "    }\n",
       "</style>\n",
       "<table border=\"1\" class=\"dataframe\">\n",
       "  <thead>\n",
       "    <tr style=\"text-align: right;\">\n",
       "      <th></th>\n",
       "      <th>Target_qb_Freq(GHz)</th>\n",
       "      <th>Ljs</th>\n",
       "      <th>Ljs (nH)</th>\n",
       "      <th>Offsets (mm)</th>\n",
       "      <th>TQx</th>\n",
       "      <th>TQy</th>\n",
       "      <th>Small</th>\n",
       "      <th>TQ_mir</th>\n",
       "      <th>CPW_freq_predict(GHz)</th>\n",
       "      <th>Coupling_gap(um)</th>\n",
       "      <th>Coupling_gap_feedline(um)</th>\n",
       "      <th>Sizes (um)</th>\n",
       "      <th>Buffers (um)</th>\n",
       "      <th>Coupling_len(um)</th>\n",
       "      <th>Coupling_len</th>\n",
       "    </tr>\n",
       "  </thead>\n",
       "  <tbody>\n",
       "    <tr>\n",
       "      <th>0</th>\n",
       "      <td>4.0</td>\n",
       "      <td>13nH</td>\n",
       "      <td>13</td>\n",
       "      <td>0.000</td>\n",
       "      <td>-0.267mm</td>\n",
       "      <td>0.45mm</td>\n",
       "      <td>False</td>\n",
       "      <td>True</td>\n",
       "      <td>6.401282</td>\n",
       "      <td>15</td>\n",
       "      <td>1.11</td>\n",
       "      <td>224.327401</td>\n",
       "      <td>237.672599</td>\n",
       "      <td>69.878079</td>\n",
       "      <td>69.87807929705554um</td>\n",
       "    </tr>\n",
       "    <tr>\n",
       "      <th>1</th>\n",
       "      <td>4.2</td>\n",
       "      <td>13nH</td>\n",
       "      <td>13</td>\n",
       "      <td>0.000</td>\n",
       "      <td>-0.2535mm</td>\n",
       "      <td>0.44mm</td>\n",
       "      <td>False</td>\n",
       "      <td>True</td>\n",
       "      <td>6.689526</td>\n",
       "      <td>15</td>\n",
       "      <td>1.54</td>\n",
       "      <td>203.923344</td>\n",
       "      <td>231.076656</td>\n",
       "      <td>58.245181</td>\n",
       "      <td>58.24518148422307um</td>\n",
       "    </tr>\n",
       "    <tr>\n",
       "      <th>2</th>\n",
       "      <td>4.4</td>\n",
       "      <td>10nH</td>\n",
       "      <td>10</td>\n",
       "      <td>0.000</td>\n",
       "      <td>-0.2485mm</td>\n",
       "      <td>0.43mm</td>\n",
       "      <td>False</td>\n",
       "      <td>True</td>\n",
       "      <td>6.796263</td>\n",
       "      <td>15</td>\n",
       "      <td>1.78</td>\n",
       "      <td>235.170778</td>\n",
       "      <td>189.829222</td>\n",
       "      <td>58.658030</td>\n",
       "      <td>58.6580296993377um</td>\n",
       "    </tr>\n",
       "    <tr>\n",
       "      <th>3</th>\n",
       "      <td>4.6</td>\n",
       "      <td>10nH</td>\n",
       "      <td>10</td>\n",
       "      <td>0.050</td>\n",
       "      <td>0.3675mm</td>\n",
       "      <td>0.5mm</td>\n",
       "      <td>True</td>\n",
       "      <td>False</td>\n",
       "      <td>6.993693</td>\n",
       "      <td>15</td>\n",
       "      <td>2.06</td>\n",
       "      <td>213.630207</td>\n",
       "      <td>281.369793</td>\n",
       "      <td>67.261193</td>\n",
       "      <td>67.2611926131531um</td>\n",
       "    </tr>\n",
       "    <tr>\n",
       "      <th>4</th>\n",
       "      <td>4.8</td>\n",
       "      <td>8nH</td>\n",
       "      <td>8</td>\n",
       "      <td>0.055</td>\n",
       "      <td>0.3605mm</td>\n",
       "      <td>0.458mm</td>\n",
       "      <td>True</td>\n",
       "      <td>False</td>\n",
       "      <td>7.212317</td>\n",
       "      <td>15</td>\n",
       "      <td>2.48</td>\n",
       "      <td>238.493760</td>\n",
       "      <td>242.506240</td>\n",
       "      <td>73.386058</td>\n",
       "      <td>73.38605790089028um</td>\n",
       "    </tr>\n",
       "    <tr>\n",
       "      <th>5</th>\n",
       "      <td>5.0</td>\n",
       "      <td>8nH</td>\n",
       "      <td>8</td>\n",
       "      <td>0.055</td>\n",
       "      <td>0.3485mm</td>\n",
       "      <td>0.45mm</td>\n",
       "      <td>True</td>\n",
       "      <td>False</td>\n",
       "      <td>7.495441</td>\n",
       "      <td>15</td>\n",
       "      <td>3.01</td>\n",
       "      <td>218.851425</td>\n",
       "      <td>238.148575</td>\n",
       "      <td>62.802910</td>\n",
       "      <td>62.80290956338173um</td>\n",
       "    </tr>\n",
       "    <tr>\n",
       "      <th>6</th>\n",
       "      <td>5.2</td>\n",
       "      <td>8nH</td>\n",
       "      <td>8</td>\n",
       "      <td>0.042</td>\n",
       "      <td>0.3425mm</td>\n",
       "      <td>0.46mm</td>\n",
       "      <td>True</td>\n",
       "      <td>False</td>\n",
       "      <td>7.593559</td>\n",
       "      <td>15</td>\n",
       "      <td>3.14</td>\n",
       "      <td>200.242799</td>\n",
       "      <td>244.757201</td>\n",
       "      <td>51.557798</td>\n",
       "      <td>51.5577977048421um</td>\n",
       "    </tr>\n",
       "    <tr>\n",
       "      <th>7</th>\n",
       "      <td>5.4</td>\n",
       "      <td>6nH</td>\n",
       "      <td>6</td>\n",
       "      <td>0.065</td>\n",
       "      <td>0.3375mm</td>\n",
       "      <td>0.46mm</td>\n",
       "      <td>True</td>\n",
       "      <td>False</td>\n",
       "      <td>7.799704</td>\n",
       "      <td>15</td>\n",
       "      <td>3.57</td>\n",
       "      <td>236.923095</td>\n",
       "      <td>198.076905</td>\n",
       "      <td>56.360661</td>\n",
       "      <td>56.3606611629999um</td>\n",
       "    </tr>\n",
       "    <tr>\n",
       "      <th>8</th>\n",
       "      <td>5.6</td>\n",
       "      <td>6nH</td>\n",
       "      <td>6</td>\n",
       "      <td>0.055</td>\n",
       "      <td>0.329mm</td>\n",
       "      <td>0.44mm</td>\n",
       "      <td>True</td>\n",
       "      <td>False</td>\n",
       "      <td>8.006815</td>\n",
       "      <td>20</td>\n",
       "      <td>3.95</td>\n",
       "      <td>217.997190</td>\n",
       "      <td>200.002810</td>\n",
       "      <td>69.714398</td>\n",
       "      <td>69.71439788499663um</td>\n",
       "    </tr>\n",
       "    <tr>\n",
       "      <th>9</th>\n",
       "      <td>5.8</td>\n",
       "      <td>6nH</td>\n",
       "      <td>6</td>\n",
       "      <td>0.200</td>\n",
       "      <td>0.343mm</td>\n",
       "      <td>0.45mm</td>\n",
       "      <td>True</td>\n",
       "      <td>False</td>\n",
       "      <td>8.204176</td>\n",
       "      <td>20</td>\n",
       "      <td>4.28</td>\n",
       "      <td>200.537671</td>\n",
       "      <td>245.462329</td>\n",
       "      <td>71.499159</td>\n",
       "      <td>71.49915894415778um</td>\n",
       "    </tr>\n",
       "  </tbody>\n",
       "</table>\n",
       "</div>"
      ],
      "text/plain": [
       "   Target_qb_Freq(GHz)   Ljs  Ljs (nH)  Offsets (mm)        TQx      TQy  \\\n",
       "0                  4.0  13nH        13         0.000   -0.267mm   0.45mm   \n",
       "1                  4.2  13nH        13         0.000  -0.2535mm   0.44mm   \n",
       "2                  4.4  10nH        10         0.000  -0.2485mm   0.43mm   \n",
       "3                  4.6  10nH        10         0.050   0.3675mm    0.5mm   \n",
       "4                  4.8   8nH         8         0.055   0.3605mm  0.458mm   \n",
       "5                  5.0   8nH         8         0.055   0.3485mm   0.45mm   \n",
       "6                  5.2   8nH         8         0.042   0.3425mm   0.46mm   \n",
       "7                  5.4   6nH         6         0.065   0.3375mm   0.46mm   \n",
       "8                  5.6   6nH         6         0.055    0.329mm   0.44mm   \n",
       "9                  5.8   6nH         6         0.200    0.343mm   0.45mm   \n",
       "\n",
       "   Small  TQ_mir  CPW_freq_predict(GHz)  Coupling_gap(um)  \\\n",
       "0  False    True               6.401282                15   \n",
       "1  False    True               6.689526                15   \n",
       "2  False    True               6.796263                15   \n",
       "3   True   False               6.993693                15   \n",
       "4   True   False               7.212317                15   \n",
       "5   True   False               7.495441                15   \n",
       "6   True   False               7.593559                15   \n",
       "7   True   False               7.799704                15   \n",
       "8   True   False               8.006815                20   \n",
       "9   True   False               8.204176                20   \n",
       "\n",
       "   Coupling_gap_feedline(um)  Sizes (um)  Buffers (um)  Coupling_len(um)  \\\n",
       "0                       1.11  224.327401    237.672599         69.878079   \n",
       "1                       1.54  203.923344    231.076656         58.245181   \n",
       "2                       1.78  235.170778    189.829222         58.658030   \n",
       "3                       2.06  213.630207    281.369793         67.261193   \n",
       "4                       2.48  238.493760    242.506240         73.386058   \n",
       "5                       3.01  218.851425    238.148575         62.802910   \n",
       "6                       3.14  200.242799    244.757201         51.557798   \n",
       "7                       3.57  236.923095    198.076905         56.360661   \n",
       "8                       3.95  217.997190    200.002810         69.714398   \n",
       "9                       4.28  200.537671    245.462329         71.499159   \n",
       "\n",
       "          Coupling_len  \n",
       "0  69.87807929705554um  \n",
       "1  58.24518148422307um  \n",
       "2   58.6580296993377um  \n",
       "3   67.2611926131531um  \n",
       "4  73.38605790089028um  \n",
       "5  62.80290956338173um  \n",
       "6   51.5577977048421um  \n",
       "7   56.3606611629999um  \n",
       "8  69.71439788499663um  \n",
       "9  71.49915894415778um  "
      ]
     },
     "execution_count": 67,
     "metadata": {},
     "output_type": "execute_result"
    }
   ],
   "source": [
    "data_all"
   ]
  },
  {
   "cell_type": "code",
   "execution_count": 68,
   "metadata": {},
   "outputs": [],
   "source": [
    "data_all['Coupling_gap_feedline(um)'] = gapps"
   ]
  },
  {
   "cell_type": "code",
   "execution_count": 114,
   "metadata": {},
   "outputs": [],
   "source": [
    "data_all['TQx'] = modified\n"
   ]
  },
  {
   "cell_type": "code",
   "execution_count": 115,
   "metadata": {},
   "outputs": [],
   "source": [
    "data_all.to_csv(r'/Users/wendy/Desktop/Wendy-qiskit-code/data/educated_guess_test3.csv')"
   ]
  },
  {
   "cell_type": "code",
   "execution_count": 84,
   "metadata": {},
   "outputs": [],
   "source": [
    "original = data_all['TQx'].values\n",
    "small = data_all['Small'].values"
   ]
  },
  {
   "cell_type": "code",
   "execution_count": 85,
   "metadata": {},
   "outputs": [
    {
     "data": {
      "text/plain": [
       "array([False, False, False,  True,  True,  True,  True,  True,  True,\n",
       "        True])"
      ]
     },
     "execution_count": 85,
     "metadata": {},
     "output_type": "execute_result"
    }
   ],
   "source": [
    "small"
   ]
  },
  {
   "cell_type": "code",
   "execution_count": 111,
   "metadata": {},
   "outputs": [],
   "source": [
    "modified = []\n",
    "for i, x in enumerate(original):\n",
    "    dis = 0.0125\n",
    "    if small[i]:\n",
    "        dis = -0.0625+0.025\n",
    "    v = np.round(float(x[:-2]) + dis, decimals = 5)\n",
    "    modified.append(str(v)+' mm')"
   ]
  },
  {
   "cell_type": "code",
   "execution_count": 112,
   "metadata": {},
   "outputs": [
    {
     "data": {
      "text/plain": [
       "array(['-0.2545 mm', '-0.241 mm', '-0.236 mm', '0.38 mm', '0.373 mm',\n",
       "       '0.361 mm', '0.355 mm', '0.35 mm', '0.3415 mm', '0.3555 mm'],\n",
       "      dtype=object)"
      ]
     },
     "execution_count": 112,
     "metadata": {},
     "output_type": "execute_result"
    }
   ],
   "source": [
    "original"
   ]
  },
  {
   "cell_type": "code",
   "execution_count": 113,
   "metadata": {},
   "outputs": [
    {
     "data": {
      "text/plain": [
       "['-0.242 mm',\n",
       " '-0.2285 mm',\n",
       " '-0.2235 mm',\n",
       " '0.3425 mm',\n",
       " '0.3355 mm',\n",
       " '0.3235 mm',\n",
       " '0.3175 mm',\n",
       " '0.3125 mm',\n",
       " '0.304 mm',\n",
       " '0.318 mm']"
      ]
     },
     "execution_count": 113,
     "metadata": {},
     "output_type": "execute_result"
    }
   ],
   "source": [
    "modified"
   ]
  },
  {
   "cell_type": "code",
   "execution_count": null,
   "metadata": {},
   "outputs": [],
   "source": []
  },
  {
   "cell_type": "code",
   "execution_count": null,
   "metadata": {},
   "outputs": [],
   "source": [
    "conductor1 = driver.find_element(By.ID, 'tc3')"
   ]
  },
  {
   "cell_type": "code",
   "execution_count": null,
   "metadata": {},
   "outputs": [],
   "source": [
    "conductor1.click()"
   ]
  },
  {
   "cell_type": "code",
   "execution_count": null,
   "metadata": {},
   "outputs": [],
   "source": [
    "conductor1.click()"
   ]
  },
  {
   "cell_type": "code",
   "execution_count": null,
   "metadata": {},
   "outputs": [],
   "source": [
    "input_box = driver.find_element(By.ID, 'conductor-gap-widths-elements')\n",
    "AB = input_box.find_element(By.NAME, 'AB')\n",
    "BC = input_box.find_element(By.NAME, 'BC')\n",
    "CD = input_box.find_element(By.NAME, 'CD')\n",
    "DE = input_box.find_element(By.NAME, 'DE')\n",
    "EF = input_box.find_element(By.NAME, 'EF')\n",
    "FG = input_box.find_element(By.NAME, 'FG')\n",
    "GH = input_box.find_element(By.NAME, 'GH')"
   ]
  },
  {
   "cell_type": "code",
   "execution_count": null,
   "metadata": {},
   "outputs": [],
   "source": [
    "AB.clear()\n",
    "AB.send_keys('9')\n",
    "CD.clear()\n",
    "CD.send_keys('9')\n",
    "\n",
    "BC.clear()\n",
    "BC.send_keys('15.95')\n",
    "\n",
    "DE.clear()\n",
    "DE.send_keys('5')\n",
    "\n",
    "EF.clear()\n",
    "EF.send_keys('7.4')\n",
    "\n",
    "FG.clear()\n",
    "FG.send_keys('12.5')\n",
    "\n",
    "GH.clear()\n",
    "GH.send_keys('7.4')\n",
    "\n"
   ]
  },
  {
   "cell_type": "code",
   "execution_count": null,
   "metadata": {},
   "outputs": [],
   "source": [
    "epsi = driver.find_element(By.ID, 'epsilon')\n",
    "epsi.clear()\n",
    "epsi.send_keys('11.45')"
   ]
  },
  {
   "cell_type": "markdown",
   "metadata": {},
   "source": []
  },
  {
   "cell_type": "code",
   "execution_count": null,
   "metadata": {},
   "outputs": [],
   "source": []
  },
  {
   "cell_type": "code",
   "execution_count": null,
   "metadata": {},
   "outputs": [],
   "source": []
  },
  {
   "cell_type": "code",
   "execution_count": null,
   "metadata": {},
   "outputs": [],
   "source": [
    "SC_coupler_len = driver.find_element(By.ID, 'lc')\n",
    "SC_coupler_len.clear()\n",
    "SC_coupler_len.send_keys('0.12')\n",
    "\n",
    "SC_coupler_l1 = driver.find_element(By.ID, 'l1')\n",
    "SC_coupler_l1.clear()\n",
    "SC_coupler_l1.send_keys('0')\n",
    "\n",
    "SC_coupler_l2 = driver.find_element(By.ID, 'l2')\n",
    "SC_coupler_l2.clear()\n",
    "SC_coupler_l2.send_keys('4')\n",
    "\n"
   ]
  },
  {
   "cell_type": "code",
   "execution_count": null,
   "metadata": {},
   "outputs": [],
   "source": [
    "import pandas as pd\n",
    "from bs4 import BeautifulSoup\n",
    "\n",
    "soup = BeautifulSoup(html, 'html.parser')\n",
    "\n",
    "# Extracting column names from HTML table headers\n",
    "cols = []\n",
    "for th in soup.find_all('th'):\n",
    "    cols.append(th.text.strip())\n",
    "    \n",
    "# Extracting table rows from HTML table body\n",
    "data = []\n",
    "for tr in soup.find_all('tr')[1:]:\n",
    "    row = []\n",
    "    for td in tr.find_all('td'):\n",
    "        row.append(td.text.strip())\n",
    "    data.append(row)\n",
    "\n",
    "# Creating pandas dataframe from table rows and columns\n",
    "df = pd.DataFrame(data, columns=cols)\n",
    "\n",
    "print(df)"
   ]
  },
  {
   "cell_type": "code",
   "execution_count": null,
   "metadata": {},
   "outputs": [],
   "source": []
  }
 ],
 "metadata": {
  "kernelspec": {
   "display_name": "qiskit",
   "language": "python",
   "name": "python3"
  },
  "language_info": {
   "codemirror_mode": {
    "name": "ipython",
    "version": 3
   },
   "file_extension": ".py",
   "mimetype": "text/x-python",
   "name": "python",
   "nbconvert_exporter": "python",
   "pygments_lexer": "ipython3",
   "version": "3.11.0"
  },
  "orig_nbformat": 4
 },
 "nbformat": 4,
 "nbformat_minor": 2
}
