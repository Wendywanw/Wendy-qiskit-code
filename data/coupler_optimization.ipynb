{
 "cells": [
  {
   "cell_type": "code",
   "execution_count": 173,
   "metadata": {},
   "outputs": [],
   "source": [
    "from selenium import webdriver\n",
    "from selenium.webdriver.common.keys import Keys\n",
    "import re\n",
    "import time\n",
    "import scipy.optimize as opt\n",
    "from selenium.webdriver.common.by import By\n",
    "import numpy as np\n",
    "import astropy.units as u"
   ]
  },
  {
   "cell_type": "code",
   "execution_count": 121,
   "metadata": {},
   "outputs": [],
   "source": [
    "path = '/Users/wendy/_Lib/chromedriver_mac_arm64/chromedriver'"
   ]
  },
  {
   "cell_type": "code",
   "execution_count": 122,
   "metadata": {},
   "outputs": [
    {
     "name": "stderr",
     "output_type": "stream",
     "text": [
      "/var/folders/1c/5vhp7f916wv452z62sq58lzc0000gn/T/ipykernel_39231/2459958106.py:1: DeprecationWarning: executable_path has been deprecated, please pass in a Service object\n",
      "  driver = webdriver.Chrome(path)\n"
     ]
    }
   ],
   "source": [
    "driver = webdriver.Chrome(path)\n"
   ]
  },
  {
   "cell_type": "code",
   "execution_count": 123,
   "metadata": {},
   "outputs": [],
   "source": [
    "driver.get('https://smm.misis.ru/CPW-resonator-coupling/')\n"
   ]
  },
  {
   "cell_type": "code",
   "execution_count": 124,
   "metadata": {},
   "outputs": [],
   "source": [
    "def set_epsilon(epsilon):\n",
    "    epsi = driver.find_element(By.ID, 'epsilon')\n",
    "    epsi.clear()\n",
    "    epsi.send_keys('11.45')"
   ]
  },
  {
   "cell_type": "code",
   "execution_count": 125,
   "metadata": {},
   "outputs": [],
   "source": [
    "def single_cpw_impedance(pin, gap):\n",
    "    input_box = driver.find_element(By.ID, 'conductor-gap-widths-elements')\n",
    "    AB = input_box.find_element(By.NAME, 'AB')\n",
    "    BC = input_box.find_element(By.NAME, 'BC')\n",
    "    CD = input_box.find_element(By.NAME, 'CD')\n",
    "\n",
    "    AB.clear()\n",
    "    AB.send_keys(gap)\n",
    "\n",
    "    CD.clear()\n",
    "    CD.send_keys(gap)\n",
    "\n",
    "    BC.clear()\n",
    "    BC.send_keys(pin)\n",
    "\n",
    "\n",
    "    impedance_box = driver.find_element(By.ID, 'impedance-data')\n",
    "    impedance = impedance_box.get_attribute('innerHTML')\n",
    "\n",
    "\n",
    "\n",
    "    string = impedance\n",
    "    match = re.search(r'Z0:(\\d+\\.\\d+)', string)\n",
    "\n",
    "    if match:\n",
    "        number = float(match.group(1))\n",
    "        # print(number)\n",
    "    else:\n",
    "        print(\"No match found.\")\n",
    "\n",
    "\n",
    "    return number\n",
    "\n",
    "    "
   ]
  },
  {
   "cell_type": "code",
   "execution_count": 126,
   "metadata": {},
   "outputs": [],
   "source": [
    "set_epsilon(11.45)"
   ]
  },
  {
   "cell_type": "code",
   "execution_count": 127,
   "metadata": {},
   "outputs": [
    {
     "data": {
      "text/plain": [
       "50.00560320940848"
      ]
     },
     "execution_count": 127,
     "metadata": {},
     "output_type": "execute_result"
    }
   ],
   "source": [
    "single_cpw_impedance(15.95, 9)"
   ]
  },
  {
   "cell_type": "code",
   "execution_count": 128,
   "metadata": {},
   "outputs": [],
   "source": [
    "def find_optimal_gap(pin):\n",
    "    def f(gap):\n",
    "        time.sleep(0.01)\n",
    "        return single_cpw_impedance(pin, gap)-50\n",
    "    gap_val = opt.brentq(f, 0, 10)\n",
    "    return round(gap_val, 2)"
   ]
  },
  {
   "cell_type": "code",
   "execution_count": 129,
   "metadata": {},
   "outputs": [
    {
     "data": {
      "text/plain": [
       "9.0"
      ]
     },
     "execution_count": 129,
     "metadata": {},
     "output_type": "execute_result"
    }
   ],
   "source": [
    "#for the transmission line, the optimal gap is:\n",
    "find_optimal_gap(15.95)"
   ]
  },
  {
   "cell_type": "code",
   "execution_count": 130,
   "metadata": {},
   "outputs": [
    {
     "data": {
      "text/plain": [
       "6.99"
      ]
     },
     "execution_count": 130,
     "metadata": {},
     "output_type": "execute_result"
    }
   ],
   "source": [
    "#for the resonator:\n",
    "find_optimal_gap(12.4)"
   ]
  },
  {
   "cell_type": "code",
   "execution_count": 131,
   "metadata": {},
   "outputs": [],
   "source": [
    "resonator_pin = 12.4\n",
    "transmission_line_pin = 15.95\n",
    "resonator_gap = find_optimal_gap(resonator_pin)\n",
    "transmission_line_gap = find_optimal_gap(transmission_line_pin)"
   ]
  },
  {
   "attachments": {},
   "cell_type": "markdown",
   "metadata": {},
   "source": [
    "After getting optimal values for the individual transmissionline/resonators, we optimize the coupling between them."
   ]
  },
  {
   "cell_type": "code",
   "execution_count": 132,
   "metadata": {},
   "outputs": [],
   "source": [
    "def set_up_structure(coupling_space,resonator_pin = resonator_pin,resonator_gap=resonator_gap,transmission_line_pin=transmission_line_pin, transmission_line_gap=transmission_line_gap):\n",
    "    button = driver.find_element(By.ID, 'add-conductor')\n",
    "    button.click()\n",
    "    button.click()\n",
    "    time.sleep(0.5)\n",
    "    conductor1 = driver.find_element(By.ID, 'tc3')\n",
    "    conductor1.click()\n",
    "    conductor1.click()\n",
    "    time.sleep(0.5)\n",
    "\n",
    "    input_box = driver.find_element(By.ID, 'conductor-gap-widths-elements')\n",
    "    AB = input_box.find_element(By.NAME, 'AB')\n",
    "    BC = input_box.find_element(By.NAME, 'BC')\n",
    "    CD = input_box.find_element(By.NAME, 'CD')\n",
    "    DE = input_box.find_element(By.NAME, 'DE')\n",
    "    EF = input_box.find_element(By.NAME, 'EF')\n",
    "    FG = input_box.find_element(By.NAME, 'FG')\n",
    "    GH = input_box.find_element(By.NAME, 'GH')\n",
    "\n",
    "    AB.clear()\n",
    "    AB.send_keys(transmission_line_gap)\n",
    "\n",
    "    CD.clear()\n",
    "    CD.send_keys(transmission_line_gap)\n",
    "\n",
    "    BC.clear()\n",
    "    BC.send_keys(transmission_line_pin)\n",
    "    time.sleep(0.5)\n",
    "\n",
    "    \n",
    "    DE.clear()\n",
    "    DE.send_keys(coupling_space)\n",
    "\n",
    "    EF.clear()\n",
    "    EF.send_keys(resonator_gap)\n",
    "\n",
    "    FG.clear()\n",
    "    FG.send_keys(resonator_pin)\n",
    "\n",
    "    GH.clear()\n",
    "    GH.send_keys(resonator_gap)\n",
    "    "
   ]
  },
  {
   "cell_type": "code",
   "execution_count": 170,
   "metadata": {},
   "outputs": [],
   "source": [
    "def change_gap(coupling_space):\n",
    "    input_box = driver.find_element(By.ID, 'conductor-gap-widths-elements')\n",
    "    DE = input_box.find_element(By.NAME, 'DE')\n",
    "    DE.clear()\n",
    "    DE.send_keys(coupling_space)"
   ]
  },
  {
   "cell_type": "code",
   "execution_count": 133,
   "metadata": {},
   "outputs": [],
   "source": [
    "def set_up_resonator():\n",
    "    ztl1 = driver.find_element(By.ID, 'Zt1_short')\n",
    "    ztl1.click()\n",
    "    ztl2 = driver.find_element(By.ID, 'Zt2_open')\n",
    "    ztl2.click()\n",
    "\n",
    "    SC_coupler_len = driver.find_element(By.ID, 'lc')\n",
    "    SC_coupler_len.clear()\n",
    "    SC_coupler_len.send_keys('0.12')\n",
    "\n",
    "    SC_coupler_l1 = driver.find_element(By.ID, 'l1')\n",
    "    SC_coupler_l1.clear()\n",
    "    SC_coupler_l1.send_keys('0')\n",
    "\n",
    "    SC_coupler_l2 = driver.find_element(By.ID, 'l2')\n",
    "    SC_coupler_l2.clear()\n",
    "    SC_coupler_l2.send_keys('4')"
   ]
  },
  {
   "cell_type": "code",
   "execution_count": 134,
   "metadata": {},
   "outputs": [],
   "source": [
    "set_up_structure(5)\n",
    "\n"
   ]
  },
  {
   "cell_type": "code",
   "execution_count": 148,
   "metadata": {},
   "outputs": [],
   "source": [
    "set_up_resonator()"
   ]
  },
  {
   "cell_type": "code",
   "execution_count": 136,
   "metadata": {},
   "outputs": [],
   "source": [
    "def find_resonator_length(freq):\n",
    "    def f(length):\n",
    "        time.sleep(0.01)\n",
    "        SC_coupler_len = driver.find_element(By.ID, 'lc')\n",
    "        SC_coupler_len.clear()\n",
    "        SC_coupler_len.send_keys(length)\n",
    "        return single_cpw_impedance(12.4, 9)-freq\n",
    "    length_val = opt.brentq(f, 0, 10, xtol=0.001)\n",
    "    return round(length_val, 2)"
   ]
  },
  {
   "cell_type": "code",
   "execution_count": 137,
   "metadata": {},
   "outputs": [],
   "source": [
    "def find_resonator_specs():\n",
    "\n",
    "    table = driver.find_element(By.ID, 'resonances')\n",
    "    html = table.get_attribute('innerHTML')\n",
    "    soup = BeautifulSoup(html, 'html.parser')\n",
    "\n",
    "    # Extracting column names from HTML table headers\n",
    "    cols = []\n",
    "    for th in soup.find_all('th'):\n",
    "        cols.append(th.text.strip())\n",
    "        \n",
    "    # Extracting table rows from HTML table body\n",
    "    data = []\n",
    "    for tr in soup.find_all('tr')[1:]:\n",
    "        row = []\n",
    "        for td in tr.find_all('td'):\n",
    "            row.append(td.text.strip())\n",
    "        data.append(row)\n",
    "\n",
    "    # Creating pandas dataframe from table rows and columns\n",
    "    df = pd.DataFrame(data, columns=cols)\n",
    "\n",
    "    return df\n",
    "    \n",
    "    "
   ]
  },
  {
   "cell_type": "code",
   "execution_count": 142,
   "metadata": {},
   "outputs": [],
   "source": [
    "freq = float(find_resonator_specs()['Frequency, GHz'][0])"
   ]
  },
  {
   "cell_type": "code",
   "execution_count": 149,
   "metadata": {},
   "outputs": [],
   "source": [
    "def find_freq(len):\n",
    "    SC_coupler_l2 = driver.find_element(By.ID, 'l2')\n",
    "    SC_coupler_l2.clear()\n",
    "    SC_coupler_l2.send_keys(len)\n",
    "\n",
    "    return float(find_resonator_specs()['Frequency, GHz'][0])"
   ]
  },
  {
   "cell_type": "code",
   "execution_count": 190,
   "metadata": {},
   "outputs": [],
   "source": [
    "def find_resonator_length(freq):\n",
    "    def f(length):\n",
    "        time.sleep(0.01)\n",
    "        SC_coupler_len = driver.find_element(By.ID, 'l2')\n",
    "        SC_coupler_len.clear()\n",
    "        SC_coupler_len.send_keys(length)\n",
    "        return float(find_resonator_specs()['Frequency, GHz'][0])-freq\n",
    "    length_val = opt.brentq(f, 0, 10, xtol=0.001)\n",
    "    return round(length_val, 2)\n",
    "\n",
    "    "
   ]
  },
  {
   "cell_type": "code",
   "execution_count": 151,
   "metadata": {},
   "outputs": [],
   "source": [
    "l = find_resonator_length(6.4)"
   ]
  },
  {
   "cell_type": "code",
   "execution_count": 158,
   "metadata": {},
   "outputs": [],
   "source": [
    "freq_len = {}\n",
    "for freqs in np.arange(6.4,8,0.2):\n",
    "    freq_len[freqs] = find_resonator_length(freqs)"
   ]
  },
  {
   "cell_type": "code",
   "execution_count": 159,
   "metadata": {},
   "outputs": [
    {
     "data": {
      "text/plain": [
       "{6.4: 4.57,\n",
       " 6.6000000000000005: 4.43,\n",
       " 6.800000000000001: 4.3,\n",
       " 7.000000000000001: 4.17,\n",
       " 7.200000000000001: 4.05,\n",
       " 7.400000000000001: 3.94,\n",
       " 7.600000000000001: 3.83,\n",
       " 7.800000000000002: 3.73}"
      ]
     },
     "execution_count": 159,
     "metadata": {},
     "output_type": "execute_result"
    }
   ],
   "source": [
    "freq_len"
   ]
  },
  {
   "cell_type": "code",
   "execution_count": 181,
   "metadata": {},
   "outputs": [],
   "source": [
    "def find_Q(gap,freq):\n",
    "\n",
    "    change_gap(gap)\n",
    "    \n",
    "    length = find_resonator_length(freq)\n",
    "    SC_coupler_len = driver.find_element(By.ID, 'l2')\n",
    "    SC_coupler_len.clear()\n",
    "    SC_coupler_len.send_keys(length)\n",
    "\n",
    "    \n",
    "    return float(find_resonator_specs()['Quality factor'][0])\n",
    "\n",
    "    \n"
   ]
  },
  {
   "cell_type": "code",
   "execution_count": 182,
   "metadata": {},
   "outputs": [],
   "source": [
    "Q = find_Q(1,6.4)"
   ]
  },
  {
   "cell_type": "code",
   "execution_count": 183,
   "metadata": {},
   "outputs": [],
   "source": [
    "kappa = 2*np.pi*freq*u.GHz/Q"
   ]
  },
  {
   "cell_type": "code",
   "execution_count": 184,
   "metadata": {},
   "outputs": [
    {
     "data": {
      "text/latex": [
       "$1.26695 \\; \\mathrm{MHz}$"
      ],
      "text/plain": [
       "<Quantity 1.26695002 MHz>"
      ]
     },
     "execution_count": 184,
     "metadata": {},
     "output_type": "execute_result"
    }
   ],
   "source": [
    "kappa.to(u.MHz)"
   ]
  },
  {
   "cell_type": "code",
   "execution_count": 187,
   "metadata": {},
   "outputs": [],
   "source": [
    "def find_optimal_gap(freq):\n",
    "    def kappa(gap):\n",
    "        time.sleep(0.01)\n",
    "        return (2*np.pi*freq*u.GHz/find_Q(gap,freq)-1*u.MHz).to(u.MHz).value\n",
    "    gap_val = opt.brentq(kappa, 0, 10, xtol=0.001)\n",
    "    return round(gap_val, 2)"
   ]
  },
  {
   "cell_type": "code",
   "execution_count": 188,
   "metadata": {},
   "outputs": [
    {
     "data": {
      "text/plain": [
       "1.35"
      ]
     },
     "execution_count": 188,
     "metadata": {},
     "output_type": "execute_result"
    }
   ],
   "source": [
    "find_optimal_gap(6.4)"
   ]
  },
  {
   "cell_type": "code",
   "execution_count": 192,
   "metadata": {},
   "outputs": [],
   "source": [
    "gaps = {}\n",
    "\n",
    "for freq in np.arange(6.4,8,0.2):\n",
    "    gaps[freq] = find_optimal_gap(freq)"
   ]
  },
  {
   "cell_type": "code",
   "execution_count": 193,
   "metadata": {},
   "outputs": [
    {
     "data": {
      "text/plain": [
       "{6.4: 1.35,\n",
       " 6.6000000000000005: 1.68,\n",
       " 6.800000000000001: 2.03,\n",
       " 7.000000000000001: 2.41,\n",
       " 7.200000000000001: 2.8,\n",
       " 7.400000000000001: 3.19,\n",
       " 7.600000000000001: 3.6,\n",
       " 7.800000000000002: 4.0}"
      ]
     },
     "execution_count": 193,
     "metadata": {},
     "output_type": "execute_result"
    }
   ],
   "source": [
    "gaps"
   ]
  },
  {
   "cell_type": "code",
   "execution_count": 197,
   "metadata": {},
   "outputs": [],
   "source": [
    "dat = pd.DataFrame(gaps, index = [0])\n",
    "dat.to_csv('gaps_um.csv')"
   ]
  },
  {
   "cell_type": "code",
   "execution_count": null,
   "metadata": {},
   "outputs": [],
   "source": []
  },
  {
   "cell_type": "code",
   "execution_count": null,
   "metadata": {},
   "outputs": [],
   "source": []
  },
  {
   "cell_type": "code",
   "execution_count": 166,
   "metadata": {},
   "outputs": [],
   "source": [
    "conductor1 = driver.find_element(By.ID, 'tc3')"
   ]
  },
  {
   "cell_type": "code",
   "execution_count": 60,
   "metadata": {},
   "outputs": [],
   "source": [
    "conductor1.click()"
   ]
  },
  {
   "cell_type": "code",
   "execution_count": 61,
   "metadata": {},
   "outputs": [],
   "source": [
    "conductor1.click()"
   ]
  },
  {
   "cell_type": "code",
   "execution_count": 62,
   "metadata": {},
   "outputs": [],
   "source": [
    "input_box = driver.find_element(By.ID, 'conductor-gap-widths-elements')\n",
    "AB = input_box.find_element(By.NAME, 'AB')\n",
    "BC = input_box.find_element(By.NAME, 'BC')\n",
    "CD = input_box.find_element(By.NAME, 'CD')\n",
    "DE = input_box.find_element(By.NAME, 'DE')\n",
    "EF = input_box.find_element(By.NAME, 'EF')\n",
    "FG = input_box.find_element(By.NAME, 'FG')\n",
    "GH = input_box.find_element(By.NAME, 'GH')"
   ]
  },
  {
   "cell_type": "code",
   "execution_count": 63,
   "metadata": {},
   "outputs": [],
   "source": [
    "AB.clear()\n",
    "AB.send_keys('9')\n",
    "CD.clear()\n",
    "CD.send_keys('9')\n",
    "\n",
    "BC.clear()\n",
    "BC.send_keys('15.95')\n",
    "\n",
    "DE.clear()\n",
    "DE.send_keys('5')\n",
    "\n",
    "EF.clear()\n",
    "EF.send_keys('7.4')\n",
    "\n",
    "FG.clear()\n",
    "FG.send_keys('12.5')\n",
    "\n",
    "GH.clear()\n",
    "GH.send_keys('7.4')\n",
    "\n"
   ]
  },
  {
   "cell_type": "code",
   "execution_count": 64,
   "metadata": {},
   "outputs": [],
   "source": [
    "epsi = driver.find_element(By.ID, 'epsilon')\n",
    "epsi.clear()\n",
    "epsi.send_keys('11.45')"
   ]
  },
  {
   "cell_type": "code",
   "execution_count": 65,
   "metadata": {},
   "outputs": [],
   "source": []
  },
  {
   "cell_type": "code",
   "execution_count": 66,
   "metadata": {},
   "outputs": [],
   "source": []
  },
  {
   "cell_type": "code",
   "execution_count": 67,
   "metadata": {},
   "outputs": [],
   "source": [
    "SC_coupler_len = driver.find_element(By.ID, 'lc')\n",
    "SC_coupler_len.clear()\n",
    "SC_coupler_len.send_keys('0.12')\n",
    "\n",
    "SC_coupler_l1 = driver.find_element(By.ID, 'l1')\n",
    "SC_coupler_l1.clear()\n",
    "SC_coupler_l1.send_keys('0')\n",
    "\n",
    "SC_coupler_l2 = driver.find_element(By.ID, 'l2')\n",
    "SC_coupler_l2.clear()\n",
    "SC_coupler_l2.send_keys('4')\n",
    "\n"
   ]
  },
  {
   "cell_type": "code",
   "execution_count": 117,
   "metadata": {},
   "outputs": [
    {
     "name": "stdout",
     "output_type": "stream",
     "text": [
      "   n Frequency, GHz Linewidth, MHz Decay time, μs Quality factor\n",
      "0  1        7.28689           0.11          2.899          66362\n",
      "1  2       21.86082           0.98          0.324          22249\n",
      "2  3       36.43517           2.70          0.118          13504\n",
      "3  4       51.01020           5.20          0.061           9814\n",
      "4          65.58615           8.40          0.038           7813\n"
     ]
    }
   ],
   "source": [
    "import pandas as pd\n",
    "from bs4 import BeautifulSoup\n",
    "\n",
    "soup = BeautifulSoup(html, 'html.parser')\n",
    "\n",
    "# Extracting column names from HTML table headers\n",
    "cols = []\n",
    "for th in soup.find_all('th'):\n",
    "    cols.append(th.text.strip())\n",
    "    \n",
    "# Extracting table rows from HTML table body\n",
    "data = []\n",
    "for tr in soup.find_all('tr')[1:]:\n",
    "    row = []\n",
    "    for td in tr.find_all('td'):\n",
    "        row.append(td.text.strip())\n",
    "    data.append(row)\n",
    "\n",
    "# Creating pandas dataframe from table rows and columns\n",
    "df = pd.DataFrame(data, columns=cols)\n",
    "\n",
    "print(df)"
   ]
  },
  {
   "cell_type": "code",
   "execution_count": null,
   "metadata": {},
   "outputs": [],
   "source": []
  }
 ],
 "metadata": {
  "kernelspec": {
   "display_name": "qiskit",
   "language": "python",
   "name": "python3"
  },
  "language_info": {
   "codemirror_mode": {
    "name": "ipython",
    "version": 3
   },
   "file_extension": ".py",
   "mimetype": "text/x-python",
   "name": "python",
   "nbconvert_exporter": "python",
   "pygments_lexer": "ipython3",
   "version": "3.11.0"
  },
  "orig_nbformat": 4
 },
 "nbformat": 4,
 "nbformat_minor": 2
}
