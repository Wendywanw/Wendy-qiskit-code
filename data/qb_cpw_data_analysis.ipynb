{
 "cells": [
  {
   "cell_type": "code",
   "execution_count": 1,
   "metadata": {},
   "outputs": [],
   "source": [
    "%reload_ext autoreload\n",
    "%autoreload 2"
   ]
  },
  {
   "cell_type": "code",
   "execution_count": 2,
   "metadata": {},
   "outputs": [],
   "source": [
    "import numpy as np\n",
    "import pandas as pd\n",
    "import matplotlib.pyplot as plt\n",
    "import astropy.units as u\n",
    "import astropy.constants as c"
   ]
  },
  {
   "cell_type": "code",
   "execution_count": 3,
   "metadata": {},
   "outputs": [],
   "source": [
    "#This imports the necessary path to draw the single pad transmon design. \n",
    "import sys\n",
    "sys.path.append('../Customized_Components')\n",
    "from single_pad_transmon_pocket import TransmonPocket_Single\n",
    "from rounded_single_pad import Round_TransmonPocket_Single as transmon\n",
    "import Transmon_property as trans_p\n",
    "\n",
    "import shapely\n",
    "import warnings\n",
    "from shapely.errors import ShapelyDeprecationWarning\n",
    "warnings.filterwarnings(\"ignore\", category=ShapelyDeprecationWarning)"
   ]
  },
  {
   "cell_type": "code",
   "execution_count": 4,
   "metadata": {},
   "outputs": [],
   "source": [
    "from qiskit_metal import designs, draw\n",
    "from qiskit_metal import MetalGUI, Dict, Headings\n",
    "\n",
    "from qiskit_metal.qlibrary.couplers.coupled_line_tee import CoupledLineTee\n",
    "\n",
    "from qiskit_metal.qlibrary.tlines.mixed_path import RouteMixed\n",
    "from qiskit_metal.qlibrary.tlines.straight_path import RouteStraight"
   ]
  },
  {
   "cell_type": "code",
   "execution_count": 14,
   "metadata": {},
   "outputs": [],
   "source": [
    "data = pd.read_csv('CPW_QB_caps_only.csv')"
   ]
  },
  {
   "cell_type": "code",
   "execution_count": 15,
   "metadata": {},
   "outputs": [],
   "source": [
    "data = data[['pad_size(mm)','coupling_len(um)','offset','C_CPW_Qb','C_CPW_Qbp','C_Qb_g']]"
   ]
  },
  {
   "cell_type": "code",
   "execution_count": 8,
   "metadata": {},
   "outputs": [],
   "source": [
    "import seaborn as sns"
   ]
  },
  {
   "cell_type": "code",
   "execution_count": 8,
   "metadata": {},
   "outputs": [
    {
     "data": {
      "text/plain": [
       "<seaborn.axisgrid.FacetGrid at 0x14fa76adff0>"
      ]
     },
     "execution_count": 8,
     "metadata": {},
     "output_type": "execute_result"
    }
   ],
   "source": [
    "sns.relplot(data = data, hue = 'coupling_len(um)', y = 'C_CPW_Qb', x = 'pad_size(mm)', size = 'offset')"
   ]
  },
  {
   "cell_type": "code",
   "execution_count": null,
   "metadata": {},
   "outputs": [],
   "source": []
  },
  {
   "cell_type": "code",
   "execution_count": 12,
   "metadata": {},
   "outputs": [],
   "source": [
    "phi0 = c.h/2/c.e.si\n",
    "T = 30*u.mK\n",
    "epsilon_r = 11.45\n",
    "cc = 166930*u.fF/u.m"
   ]
  },
  {
   "cell_type": "code",
   "execution_count": 5,
   "metadata": {},
   "outputs": [
    {
     "name": "stderr",
     "output_type": "stream",
     "text": [
      "08:39AM 01s CRITICAL [_qt_message_handler]: line: 0, func: None(), file: None  WARNING: Populating font family aliases took 147 ms. Replace uses of missing font family \"Courier\" with one that exists to avoid this cost. \n",
      "\n"
     ]
    }
   ],
   "source": [
    "design = designs.DesignPlanar({}, True)\n",
    "design.chips.main.size['size_x'] = '20 mm'\n",
    "design.chips.main.size['size_y'] = '10 mm'\n",
    "\n",
    "design.variables['cpw_width'] = '15 um'\n",
    "design.variables['cpw_gap'] = '9 um'\n",
    "\n",
    "design.variables['trace_width'] = '10 um'\n",
    "cpw_pin_width = 10*u.um\n",
    "design.variables['trace_gap'] = '7 um'\n",
    "cpw_gap = 7*u.um\n",
    "\n",
    "design.variables['pad_buffer_radius'] = '30 um'\n",
    "design.variables['buffer_resolution'] = '10'\n",
    "design.variables['connection_pad_buffer_radius'] = '2 um'\n",
    "\n",
    "# design.chips['main']['material'] = 'Silicon'\n",
    "\n",
    "gui = MetalGUI(design)"
   ]
  },
  {
   "cell_type": "markdown",
   "metadata": {},
   "source": [
    "Component-specific variables"
   ]
  },
  {
   "cell_type": "code",
   "execution_count": 93,
   "metadata": {},
   "outputs": [],
   "source": [
    "\n",
    "\n",
    "qb_options = dict(\n",
    "pad_pocket_distance_top = '40um',\n",
    "connection_pads = dict(\n",
    "    a = dict(loc_W  = 0, \n",
    "            loc_H =  1, \n",
    "            pad_gap = '10um',\n",
    "            pad_height = '20um',\n",
    "            pad_width = '80um',\n",
    "            pad_cpw_extent =  '2um',\n",
    "            pocket_rise = '0um',\n",
    "            pocket_extent = '1um',\n",
    "            cpw_width='trace_width',\n",
    "            cpw_gap='trace_gap',\n",
    "            cpw_extend = '5um')))\n",
    "\n",
    "TQ_options = dict(prime_width = design.variables['cpw_width'],\n",
    "               prime_gap = design.variables['cpw_gap'],\n",
    "               second_width = design.variables['trace_width'],\n",
    "               second_gap = design.variables['trace_gap'],\n",
    "               down_length = '60um',\n",
    "               coupling_space = '5um',\n",
    "               open_termination=False,\n",
    "               hfss_wire_bonds = False,\n",
    "               q3d_wire_bonds = False)\n",
    "\n",
    "CPW_options = Dict(trace_width = design.variables['trace_width'],\n",
    "               trace_gap  = design.variables['trace_gap'],\n",
    "        total_length='5 mm',\n",
    "        hfss_wire_bonds = True,\n",
    "        q3d_wire_bonds = True,\n",
    "        fillet='30 um',\n",
    "        lead = dict(start_straight='20um', end_straight = '50um'),\n",
    "        pin_inputs=Dict(\n",
    "            start_pin=Dict(component='Q1', pin='a'),\n",
    "            end_pin=Dict(component='TQ1', pin='second_end')), )\n",
    "\n",
    "pin_inputs = Dict(\n",
    "            start_pin=Dict(component='Q1', pin='a'),\n",
    "            end_pin=Dict(component='TQ1', pin='second_end'))\n",
    "\n",
    "trans_options = Dict(hfss_wire_bonds = True,\n",
    "                     q3d_wirebonds = True,\n",
    "               pin_inputs=Dict(\n",
    "                 start_pin=Dict(\n",
    "                     component='TQ1',\n",
    "                     pin='prime_start'),\n",
    "                 end_pin=Dict(\n",
    "                     component='TQ2',\n",
    "                     pin='prime_end')))\n"
   ]
  },
  {
   "cell_type": "markdown",
   "metadata": {},
   "source": [
    "## Single Pad--Verify Design"
   ]
  },
  {
   "cell_type": "markdown",
   "metadata": {},
   "source": [
    "### Draw the single pad transmon"
   ]
  },
  {
   "cell_type": "code",
   "execution_count": 51,
   "metadata": {},
   "outputs": [],
   "source": [
    "design.delete_all_components()"
   ]
  },
  {
   "cell_type": "code",
   "execution_count": 94,
   "metadata": {},
   "outputs": [
    {
     "name": "stderr",
     "output_type": "stream",
     "text": [
      "09:27AM 19s WARNING [check_lengths]: For path table, component=cpw_1, key=trace has short segments that could cause issues with fillet. Values in (1-1)  are index(es) in shapely geometry.\n",
      "09:27AM 19s WARNING [check_lengths]: For path table, component=cpw_1, key=cut has short segments that could cause issues with fillet. Values in (1-1)  are index(es) in shapely geometry.\n",
      "WARNING:py.warnings:/Users/wendy/miniconda3/envs/qiskit/lib/python3.11/site-packages/shapely/constructive.py:181: RuntimeWarning: invalid value encountered in buffer\n",
      "  return lib.buffer(\n",
      "\n",
      "WARNING:py.warnings:/Users/wendy/miniconda3/envs/qiskit/lib/python3.11/site-packages/shapely/constructive.py:181: RuntimeWarning: invalid value encountered in buffer\n",
      "  return lib.buffer(\n",
      "\n"
     ]
    }
   ],
   "source": [
    "design.overwrite_enabled = True\n",
    "\n",
    "size = 0.25*u.mm\n",
    "gap = 30*u.um\n",
    "size = size.to(u.um)\n",
    "pocket_width = size+2*gap\n",
    "\n",
    "\n",
    "op = Dict(\n",
    "    pos_x = '0',\n",
    "    pad_height = '{}um'.format(size.value),\n",
    "    pos_y = '0',\n",
    "    pad_width = '{}'.format(size),\n",
    "    pocket_width = '{}'.format(pocket_width), \n",
    "    **qb_options)\n",
    "\n",
    "q1 = transmon(design,'Q1',options = op)\n",
    "\n",
    "gui.rebuild()\n",
    "gui.zoom_on_components(['Q1'])\n"
   ]
  },
  {
   "cell_type": "code",
   "execution_count": 92,
   "metadata": {},
   "outputs": [
    {
     "name": "stderr",
     "output_type": "stream",
     "text": [
      "WARNING:py.warnings:/Users/wendy/miniconda3/envs/qiskit/lib/python3.11/site-packages/shapely/constructive.py:181: RuntimeWarning: invalid value encountered in buffer\n",
      "  return lib.buffer(\n",
      "\n",
      "WARNING:py.warnings:/Users/wendy/miniconda3/envs/qiskit/lib/python3.11/site-packages/shapely/constructive.py:181: RuntimeWarning: invalid value encountered in buffer\n",
      "  return lib.buffer(\n",
      "\n"
     ]
    }
   ],
   "source": [
    "TQ_options['down_length'] = '40 um'\n",
    "TQ1 = CoupledLineTee(design, 'TQ1', options=dict(pos_x='0 mm',\n",
    "                                             pos_y='0.45 mm',\n",
    "                                             mirror = True,\n",
    "                                             coupling_length='120 um', **TQ_options))\n",
    "TQ1.options['open_termination'] = True\n",
    "\n",
    "gui.rebuild()\n",
    "gui.autoscale()\n",
    "\n"
   ]
  },
  {
   "cell_type": "code",
   "execution_count": 45,
   "metadata": {},
   "outputs": [
    {
     "data": {
      "text/html": [
       "<div>\n",
       "<style scoped>\n",
       "    .dataframe tbody tr th:only-of-type {\n",
       "        vertical-align: middle;\n",
       "    }\n",
       "\n",
       "    .dataframe tbody tr th {\n",
       "        vertical-align: top;\n",
       "    }\n",
       "\n",
       "    .dataframe thead th {\n",
       "        text-align: right;\n",
       "    }\n",
       "</style>\n",
       "<table border=\"1\" class=\"dataframe\">\n",
       "  <thead>\n",
       "    <tr style=\"text-align: right;\">\n",
       "      <th></th>\n",
       "      <th>pad_size(mm)</th>\n",
       "      <th>coupling_len(um)</th>\n",
       "      <th>offset</th>\n",
       "      <th>C_CPW_Qb</th>\n",
       "      <th>C_CPW_Qbp</th>\n",
       "      <th>C_Qb_g</th>\n",
       "    </tr>\n",
       "  </thead>\n",
       "  <tbody>\n",
       "    <tr>\n",
       "      <th>0</th>\n",
       "      <td>0.150000</td>\n",
       "      <td>40.0</td>\n",
       "      <td>0.200000</td>\n",
       "      <td>-7.23246</td>\n",
       "      <td>-50.94649</td>\n",
       "      <td>-58.11068</td>\n",
       "    </tr>\n",
       "    <tr>\n",
       "      <th>1</th>\n",
       "      <td>0.150000</td>\n",
       "      <td>40.0</td>\n",
       "      <td>0.283333</td>\n",
       "      <td>-7.16642</td>\n",
       "      <td>-51.01055</td>\n",
       "      <td>-58.11062</td>\n",
       "    </tr>\n",
       "    <tr>\n",
       "      <th>2</th>\n",
       "      <td>0.150000</td>\n",
       "      <td>40.0</td>\n",
       "      <td>0.366667</td>\n",
       "      <td>-7.08673</td>\n",
       "      <td>-51.09522</td>\n",
       "      <td>-58.11085</td>\n",
       "    </tr>\n",
       "    <tr>\n",
       "      <th>3</th>\n",
       "      <td>0.150000</td>\n",
       "      <td>40.0</td>\n",
       "      <td>0.450000</td>\n",
       "      <td>-7.01390</td>\n",
       "      <td>-51.16385</td>\n",
       "      <td>-58.09774</td>\n",
       "    </tr>\n",
       "    <tr>\n",
       "      <th>4</th>\n",
       "      <td>0.161429</td>\n",
       "      <td>40.0</td>\n",
       "      <td>0.200000</td>\n",
       "      <td>-7.58012</td>\n",
       "      <td>-55.85106</td>\n",
       "      <td>-63.33150</td>\n",
       "    </tr>\n",
       "    <tr>\n",
       "      <th>...</th>\n",
       "      <td>...</td>\n",
       "      <td>...</td>\n",
       "      <td>...</td>\n",
       "      <td>...</td>\n",
       "      <td>...</td>\n",
       "      <td>...</td>\n",
       "    </tr>\n",
       "    <tr>\n",
       "      <th>124</th>\n",
       "      <td>0.230000</td>\n",
       "      <td>62.5</td>\n",
       "      <td>0.200000</td>\n",
       "      <td>-11.40874</td>\n",
       "      <td>-85.90954</td>\n",
       "      <td>-97.00777</td>\n",
       "    </tr>\n",
       "    <tr>\n",
       "      <th>125</th>\n",
       "      <td>0.230000</td>\n",
       "      <td>62.5</td>\n",
       "      <td>0.283333</td>\n",
       "      <td>-11.30082</td>\n",
       "      <td>-86.01675</td>\n",
       "      <td>-97.00733</td>\n",
       "    </tr>\n",
       "    <tr>\n",
       "      <th>126</th>\n",
       "      <td>0.230000</td>\n",
       "      <td>62.5</td>\n",
       "      <td>0.366667</td>\n",
       "      <td>-11.15238</td>\n",
       "      <td>-86.01400</td>\n",
       "      <td>-97.00747</td>\n",
       "    </tr>\n",
       "    <tr>\n",
       "      <th>127</th>\n",
       "      <td>0.230000</td>\n",
       "      <td>62.5</td>\n",
       "      <td>0.450000</td>\n",
       "      <td>-11.03696</td>\n",
       "      <td>-86.27804</td>\n",
       "      <td>-97.00474</td>\n",
       "    </tr>\n",
       "    <tr>\n",
       "      <th>128</th>\n",
       "      <td>0.150000</td>\n",
       "      <td>70.0</td>\n",
       "      <td>0.200000</td>\n",
       "      <td>-9.36468</td>\n",
       "      <td>-49.88756</td>\n",
       "      <td>-59.16900</td>\n",
       "    </tr>\n",
       "  </tbody>\n",
       "</table>\n",
       "<p>129 rows × 6 columns</p>\n",
       "</div>"
      ],
      "text/plain": [
       "     pad_size(mm)  coupling_len(um)    offset  C_CPW_Qb  C_CPW_Qbp    C_Qb_g\n",
       "0        0.150000              40.0  0.200000  -7.23246  -50.94649 -58.11068\n",
       "1        0.150000              40.0  0.283333  -7.16642  -51.01055 -58.11062\n",
       "2        0.150000              40.0  0.366667  -7.08673  -51.09522 -58.11085\n",
       "3        0.150000              40.0  0.450000  -7.01390  -51.16385 -58.09774\n",
       "4        0.161429              40.0  0.200000  -7.58012  -55.85106 -63.33150\n",
       "..            ...               ...       ...       ...        ...       ...\n",
       "124      0.230000              62.5  0.200000 -11.40874  -85.90954 -97.00777\n",
       "125      0.230000              62.5  0.283333 -11.30082  -86.01675 -97.00733\n",
       "126      0.230000              62.5  0.366667 -11.15238  -86.01400 -97.00747\n",
       "127      0.230000              62.5  0.450000 -11.03696  -86.27804 -97.00474\n",
       "128      0.150000              70.0  0.200000  -9.36468  -49.88756 -59.16900\n",
       "\n",
       "[129 rows x 6 columns]"
      ]
     },
     "execution_count": 45,
     "metadata": {},
     "output_type": "execute_result"
    }
   ],
   "source": [
    "data"
   ]
  },
  {
   "cell_type": "code",
   "execution_count": 80,
   "metadata": {},
   "outputs": [],
   "source": [
    "def anchor_CPW_round(qubit:designs.QDesign, buffer:float, wrap_gap:float, n:int, r = np.Inf, right = True, last_offset = 0):\n",
    "    pocket_width = design.parse_value(qubit.options['pocket_width'])*u.mm\n",
    "    cpad_height = design.parse_value(qubit.options['pad_height'])*u.mm\n",
    "    distance_top = design.parse_value(qubit.options['pad_pocket_distance_top'])*u.mm\n",
    "    jj_len = design.parse_value(qubit.options['jj_length'])*u.mm\n",
    "    pocket_height = cpad_height + distance_top + jj_len\n",
    "    \n",
    "    wrap_r = max(pocket_width,pocket_height)+buffer\n",
    "    \n",
    "    x =design.parse_value(qubit.options['pos_x'])\n",
    "    y =design.parse_value(qubit.options['pos_y'])\n",
    "    \n",
    "    \n",
    "    anchors = pins_for_spiral_round(wrap_r.value, wrap_gap, n, dis = (x,y), right = right, r = r, last_offset = last_offset)\n",
    "    return anchors\n",
    "    "
   ]
  },
  {
   "cell_type": "code",
   "execution_count": 96,
   "metadata": {},
   "outputs": [],
   "source": [
    "def pins_for_spiral_round(radius,gap,n,dis = (0,0), r = np.inf, right = True, last_offset = 0):\n",
    "    spiral_list = trans_p.OrderedDict()\n",
    "    x,y = dis\n",
    "    i = 0\n",
    "    if right:\n",
    "        for step in range(n):\n",
    "            point_value = radius / 2 + step * (0 + gap)\n",
    "            spiral_list[step*4] = np.array([x+point_value, y+point_value])\n",
    "            spiral_list[step*4+1] = np.array([x+point_value, y-point_value])\n",
    "            spiral_list[step*4+2] = np.array([x-point_value, y-point_value])\n",
    "            spiral_list[step*4+3] = np.array([x-point_value, y+point_value])\n",
    "\n",
    "        # point_value = radius / 2 + (step + 1) * (0 + gap)\n",
    "    else:\n",
    "        for step in range(n):\n",
    "            point_value = radius / 2 + step * (0 + gap)\n",
    "            spiral_list[step*4] = np.array([x-point_value, y+point_value])\n",
    "            spiral_list[step*4+1] = np.array([x-point_value, y-point_value])\n",
    "            spiral_list[step*4+2] = np.array([x+point_value, y-point_value])\n",
    "            spiral_list[step*4+3] = np.array([x+point_value + (0 + gap), y+point_value])\n",
    "\n",
    "        # point_value = radius / 2 + (step + 1) * (0 + gap)\n",
    "        # spiral_list[step*4+4] = np.array([point_value, point_value])\n",
    "    \n",
    "    final_list = trans_p.slice_dict(r,spiral_list)\n",
    "    # i = len(final_list)\n",
    "    # x = final_list[i-1][0]\n",
    "    # y = final_list[i-1][1]\n",
    "    # x -= last_offset\n",
    "    # final_list[i-1] = (x,y)\n",
    "    \n",
    "    return(final_list)"
   ]
  },
  {
   "cell_type": "code",
   "execution_count": 56,
   "metadata": {},
   "outputs": [
    {
     "name": "stdout",
     "output_type": "stream",
     "text": [
      "OrderedDict([(0, array([0.24, 0.24])), (1, array([ 0.24, -0.24])), (2, array([-0.24,  0.24])), (3, array([-0.295,  0.24 ])), (4, array([0.295, 0.295])), (5, array([ 0.295, -0.295])), (6, array([-0.295,  0.295])), (7, array([-0.35 ,  0.295]))])\n"
     ]
    },
    {
     "data": {
      "text/plain": [
       "OrderedDict([(0, array([0.24, 0.24])),\n",
       "             (1, array([ 0.24, -0.24])),\n",
       "             (2, array([-0.24,  0.24])),\n",
       "             (3, array([-0.295,  0.24 ])),\n",
       "             (4, array([0.295, 0.295])),\n",
       "             (5, array([ 0.295, -0.295])),\n",
       "             (6, array([-0.295,  0.295])),\n",
       "             (7, array([-0.35 ,  0.295]))])"
      ]
     },
     "execution_count": 56,
     "metadata": {},
     "output_type": "execute_result"
    }
   ],
   "source": [
    "anchor_CPW_round(q1, 0.15*u.mm, 0.055, 2, right = True, last_offset = 0)"
   ]
  },
  {
   "cell_type": "code",
   "execution_count": 58,
   "metadata": {},
   "outputs": [
    {
     "data": {
      "text/plain": [
       "False"
      ]
     },
     "execution_count": 58,
     "metadata": {},
     "output_type": "execute_result"
    }
   ],
   "source": [
    "design.delete_component('cpw_1')"
   ]
  },
  {
   "cell_type": "code",
   "execution_count": 30,
   "metadata": {},
   "outputs": [],
   "source": [
    "def find_cpw_freq(pad_size, offset, extend, buffer = 150*u.um):\n",
    "    gap1 = 0.055\n",
    "    gap = 30*u.um\n",
    "    size = pad_size.to(u.um)\n",
    "    pocket_width = size+2*gap\n",
    "\n",
    "    coupling_len = extend\n",
    "    q1.options['pad_height'] = '{}'.format(size)\n",
    "    q1.options['pad_width'] = '{}'.format(size)\n",
    "    q1.options['pocket_width'] = '{}'.format(pocket_width)\n",
    "    q1.options['connection_pads']['a']['pad_width'] = '{}'.format(coupling_len)\n",
    "    # TQ1.options['open_termination'] = True\n",
    "    gui.rebuild()\n",
    "\n",
    "    anchors = anchor_CPW_round(q1,buffer, gap1, 2,last_offset = offset)\n",
    "    design.delete_component('cpw_1')\n",
    "\n",
    "\n",
    "    pin_inputs = Dict(\n",
    "                start_pin=Dict(component='Q1', pin='a'),\n",
    "                end_pin=Dict(component='TQ1', pin='second_end'))\n",
    "\n",
    "    CPW_options['pin_inputs'] = pin_inputs\n",
    "\n",
    "    qa = RouteMixed(design, 'cpw_1', options = Dict(anchors = anchors, **CPW_options))\n",
    "\n",
    "    gui.rebuild()\n",
    "    gui.autoscale()\n",
    "    \n",
    "    length = trans_p.find_total_len(qa, q1, TQ1, count_extend=True)\n",
    "    return (trans_p.find_actual_frequency(length, cpw_pin_width, cpw_gap), length)"
   ]
  },
  {
   "cell_type": "code",
   "execution_count": 115,
   "metadata": {},
   "outputs": [
    {
     "data": {
      "text/latex": [
       "$665.61047 \\; \\mathrm{fF}$"
      ],
      "text/plain": [
       "<Quantity 665.61047017 fF>"
      ]
     },
     "execution_count": 115,
     "metadata": {},
     "output_type": "execute_result"
    }
   ],
   "source": [
    "(length*cc).to(u.fF)"
   ]
  },
  {
   "cell_type": "code",
   "execution_count": 105,
   "metadata": {},
   "outputs": [
    {
     "data": {
      "text/plain": [
       "array([0.2       , 0.28333333, 0.36666667, 0.45      , 0.2       ,\n",
       "       0.28333333, 0.36666667, 0.45      , 0.2       , 0.28333333,\n",
       "       0.36666667, 0.45      , 0.2       , 0.28333333, 0.36666667,\n",
       "       0.45      , 0.2       , 0.28333333, 0.36666667, 0.45      ,\n",
       "       0.2       , 0.28333333, 0.36666667, 0.45      , 0.2       ,\n",
       "       0.28333333, 0.36666667, 0.45      , 0.2       , 0.28333333,\n",
       "       0.36666667, 0.45      , 0.2       , 0.28333333, 0.36666667,\n",
       "       0.45      , 0.2       , 0.28333333, 0.36666667, 0.45      ,\n",
       "       0.2       , 0.28333333, 0.36666667, 0.45      , 0.2       ,\n",
       "       0.28333333, 0.36666667, 0.45      , 0.2       , 0.28333333,\n",
       "       0.36666667, 0.45      , 0.2       , 0.28333333, 0.36666667,\n",
       "       0.45      , 0.2       , 0.28333333, 0.36666667, 0.45      ,\n",
       "       0.2       , 0.28333333, 0.36666667, 0.45      , 0.2       ,\n",
       "       0.28333333, 0.36666667, 0.45      , 0.2       , 0.28333333,\n",
       "       0.36666667, 0.45      , 0.2       , 0.28333333, 0.36666667,\n",
       "       0.45      , 0.2       , 0.28333333, 0.36666667, 0.45      ,\n",
       "       0.2       , 0.28333333, 0.36666667, 0.45      , 0.2       ,\n",
       "       0.28333333, 0.36666667, 0.45      , 0.2       , 0.28333333,\n",
       "       0.36666667, 0.45      , 0.2       , 0.28333333, 0.36666667,\n",
       "       0.45      , 0.2       , 0.28333333, 0.36666667, 0.45      ,\n",
       "       0.2       , 0.28333333, 0.36666667, 0.45      , 0.2       ,\n",
       "       0.28333333, 0.36666667, 0.45      , 0.2       , 0.28333333,\n",
       "       0.36666667, 0.45      , 0.2       , 0.28333333, 0.36666667,\n",
       "       0.45      , 0.2       , 0.28333333, 0.36666667, 0.45      ,\n",
       "       0.2       , 0.28333333, 0.36666667, 0.45      , 0.2       ,\n",
       "       0.28333333, 0.36666667, 0.45      , 0.2       ])"
      ]
     },
     "execution_count": 105,
     "metadata": {},
     "output_type": "execute_result"
    }
   ],
   "source": [
    "offsets"
   ]
  },
  {
   "cell_type": "code",
   "execution_count": 106,
   "metadata": {},
   "outputs": [
    {
     "data": {
      "text/latex": [
       "$[40,~40,~40,~\\dots,~62.5,~62.5,~70] \\; \\mathrm{\\mu m}$"
      ],
      "text/plain": [
       "<Quantity [40. , 40. , 40. , 40. , 40. , 40. , 40. , 40. , 40. , 40. ,\n",
       "           40. , 40. , 40. , 40. , 40. , 40. , 40. , 40. , 40. , 40. ,\n",
       "           40. , 40. , 40. , 40. , 40. , 40. , 40. , 40. , 40. , 40. ,\n",
       "           40. , 40. , 47.5, 47.5, 47.5, 47.5, 47.5, 47.5, 47.5, 47.5,\n",
       "           47.5, 47.5, 47.5, 47.5, 47.5, 47.5, 47.5, 47.5, 47.5, 47.5,\n",
       "           47.5, 47.5, 47.5, 47.5, 47.5, 47.5, 47.5, 47.5, 47.5, 47.5,\n",
       "           47.5, 47.5, 47.5, 47.5, 55. , 55. , 55. , 55. , 55. , 55. ,\n",
       "           55. , 55. , 55. , 55. , 55. , 55. , 55. , 55. , 55. , 55. ,\n",
       "           55. , 55. , 55. , 55. , 55. , 55. , 55. , 55. , 55. , 55. ,\n",
       "           55. , 55. , 55. , 55. , 55. , 55. , 62.5, 62.5, 62.5, 62.5,\n",
       "           62.5, 62.5, 62.5, 62.5, 62.5, 62.5, 62.5, 62.5, 62.5, 62.5,\n",
       "           62.5, 62.5, 62.5, 62.5, 62.5, 62.5, 62.5, 62.5, 62.5, 62.5,\n",
       "           62.5, 62.5, 62.5, 62.5, 62.5, 62.5, 62.5, 62.5, 70. ] um>"
      ]
     },
     "execution_count": 106,
     "metadata": {},
     "output_type": "execute_result"
    }
   ],
   "source": [
    "extends"
   ]
  },
  {
   "cell_type": "code",
   "execution_count": 59,
   "metadata": {},
   "outputs": [
    {
     "data": {
      "text/latex": [
       "$[0.15,~0.15,~0.15,~\\dots,~0.23,~0.23,~0.15] \\; \\mathrm{mm}$"
      ],
      "text/plain": [
       "<Quantity [0.15      , 0.15      , 0.15      , 0.15      , 0.16142857,\n",
       "           0.16142857, 0.16142857, 0.16142857, 0.17285714, 0.17285714,\n",
       "           0.17285714, 0.17285714, 0.18428571, 0.18428571, 0.18428571,\n",
       "           0.18428571, 0.19571429, 0.19571429, 0.19571429, 0.19571429,\n",
       "           0.20714286, 0.20714286, 0.20714286, 0.20714286, 0.21857143,\n",
       "           0.21857143, 0.21857143, 0.21857143, 0.23      , 0.23      ,\n",
       "           0.23      , 0.23      , 0.15      , 0.15      , 0.15      ,\n",
       "           0.15      , 0.16142857, 0.16142857, 0.16142857, 0.16142857,\n",
       "           0.17285714, 0.17285714, 0.17285714, 0.17285714, 0.18428571,\n",
       "           0.18428571, 0.18428571, 0.18428571, 0.19571429, 0.19571429,\n",
       "           0.19571429, 0.19571429, 0.20714286, 0.20714286, 0.20714286,\n",
       "           0.20714286, 0.21857143, 0.21857143, 0.21857143, 0.21857143,\n",
       "           0.23      , 0.23      , 0.23      , 0.23      , 0.15      ,\n",
       "           0.15      , 0.15      , 0.15      , 0.16142857, 0.16142857,\n",
       "           0.16142857, 0.16142857, 0.17285714, 0.17285714, 0.17285714,\n",
       "           0.17285714, 0.18428571, 0.18428571, 0.18428571, 0.18428571,\n",
       "           0.19571429, 0.19571429, 0.19571429, 0.19571429, 0.20714286,\n",
       "           0.20714286, 0.20714286, 0.20714286, 0.21857143, 0.21857143,\n",
       "           0.21857143, 0.21857143, 0.23      , 0.23      , 0.23      ,\n",
       "           0.23      , 0.15      , 0.15      , 0.15      , 0.15      ,\n",
       "           0.16142857, 0.16142857, 0.16142857, 0.16142857, 0.17285714,\n",
       "           0.17285714, 0.17285714, 0.17285714, 0.18428571, 0.18428571,\n",
       "           0.18428571, 0.18428571, 0.19571429, 0.19571429, 0.19571429,\n",
       "           0.19571429, 0.20714286, 0.20714286, 0.20714286, 0.20714286,\n",
       "           0.21857143, 0.21857143, 0.21857143, 0.21857143, 0.23      ,\n",
       "           0.23      , 0.23      , 0.23      , 0.15      ] mm>"
      ]
     },
     "execution_count": 59,
     "metadata": {},
     "output_type": "execute_result"
    }
   ],
   "source": [
    "sizes"
   ]
  },
  {
   "cell_type": "code",
   "execution_count": 18,
   "metadata": {},
   "outputs": [
    {
     "ename": "NameError",
     "evalue": "name 'data' is not defined",
     "output_type": "error",
     "traceback": [
      "\u001b[1;31m---------------------------------------------------------------------------\u001b[0m",
      "\u001b[1;31mNameError\u001b[0m                                 Traceback (most recent call last)",
      "\u001b[1;32mc:\\Users\\slab\\Desktop\\Wendy-qiskit-code\\data\\qb_cpw_data_analysis.ipynb Cell 29\u001b[0m in \u001b[0;36m1\n\u001b[1;32m----> <a href='vscode-notebook-cell:/c%3A/Users/slab/Desktop/Wendy-qiskit-code/data/qb_cpw_data_analysis.ipynb#X40sZmlsZQ%3D%3D?line=0'>1</a>\u001b[0m sizes \u001b[39m=\u001b[39m data[\u001b[39m'\u001b[39m\u001b[39mpad_size(mm)\u001b[39m\u001b[39m'\u001b[39m]\u001b[39m.\u001b[39mvalues\u001b[39m*\u001b[39mu\u001b[39m.\u001b[39mmm\n\u001b[0;32m      <a href='vscode-notebook-cell:/c%3A/Users/slab/Desktop/Wendy-qiskit-code/data/qb_cpw_data_analysis.ipynb#X40sZmlsZQ%3D%3D?line=1'>2</a>\u001b[0m offsets \u001b[39m=\u001b[39m data[\u001b[39m'\u001b[39m\u001b[39moffset\u001b[39m\u001b[39m'\u001b[39m]\u001b[39m.\u001b[39mvalues\n\u001b[0;32m      <a href='vscode-notebook-cell:/c%3A/Users/slab/Desktop/Wendy-qiskit-code/data/qb_cpw_data_analysis.ipynb#X40sZmlsZQ%3D%3D?line=2'>3</a>\u001b[0m extends \u001b[39m=\u001b[39m data[\u001b[39m'\u001b[39m\u001b[39mcoupling_len(um)\u001b[39m\u001b[39m'\u001b[39m]\u001b[39m.\u001b[39mvalues\u001b[39m*\u001b[39mu\u001b[39m.\u001b[39mum\n",
      "\u001b[1;31mNameError\u001b[0m: name 'data' is not defined"
     ]
    }
   ],
   "source": [
    "sizes = data['pad_size(mm)'].values*u.mm\n",
    "offsets = data['offset'].values\n",
    "extends = data['coupling_len(um)'].values*u.um\n",
    "Cg = -data['C_Qb_g'].values*u.fF\n",
    "C12 = -data['C_CPW_Qb'].values*u.fF"
   ]
  },
  {
   "cell_type": "code",
   "execution_count": 95,
   "metadata": {},
   "outputs": [
    {
     "name": "stderr",
     "output_type": "stream",
     "text": [
      "09:27AM 32s WARNING [check_lengths]: For path table, component=cpw_1, key=trace has short segments that could cause issues with fillet. Values in (1-1)  are index(es) in shapely geometry.\n",
      "09:27AM 32s WARNING [check_lengths]: For path table, component=cpw_1, key=cut has short segments that could cause issues with fillet. Values in (1-1)  are index(es) in shapely geometry.\n",
      "WARNING:py.warnings:/Users/wendy/miniconda3/envs/qiskit/lib/python3.11/site-packages/shapely/constructive.py:181: RuntimeWarning: invalid value encountered in buffer\n",
      "  return lib.buffer(\n",
      "\n",
      "WARNING:py.warnings:/Users/wendy/miniconda3/envs/qiskit/lib/python3.11/site-packages/shapely/constructive.py:181: RuntimeWarning: invalid value encountered in buffer\n",
      "  return lib.buffer(\n",
      "\n",
      "WARNING:py.warnings:/Users/wendy/miniconda3/envs/qiskit/lib/python3.11/site-packages/shapely/constructive.py:181: RuntimeWarning: invalid value encountered in buffer\n",
      "  return lib.buffer(\n",
      "\n",
      "WARNING:py.warnings:/Users/wendy/miniconda3/envs/qiskit/lib/python3.11/site-packages/shapely/constructive.py:181: RuntimeWarning: invalid value encountered in buffer\n",
      "  return lib.buffer(\n",
      "\n"
     ]
    }
   ],
   "source": [
    "wc, length = find_cpw_freq(0.15*u.mm,0,50*u.um)"
   ]
  },
  {
   "cell_type": "code",
   "execution_count": 72,
   "metadata": {},
   "outputs": [
    {
     "name": "stderr",
     "output_type": "stream",
     "text": [
      "WARNING:py.warnings:/Users/wendy/miniconda3/envs/qiskit/lib/python3.11/site-packages/shapely/set_operations.py:426: RuntimeWarning: invalid value encountered in unary_union\n",
      "  return lib.unary_union(collections, **kwargs)\n",
      "\n",
      "WARNING:py.warnings:/Users/wendy/miniconda3/envs/qiskit/lib/python3.11/site-packages/shapely/set_operations.py:426: RuntimeWarning: invalid value encountered in unary_union\n",
      "  return lib.unary_union(collections, **kwargs)\n",
      "\n",
      "WARNING:py.warnings:/Users/wendy/miniconda3/envs/qiskit/lib/python3.11/site-packages/shapely/set_operations.py:426: RuntimeWarning: invalid value encountered in unary_union\n",
      "  return lib.unary_union(collections, **kwargs)\n",
      "\n",
      "WARNING:py.warnings:/Users/wendy/miniconda3/envs/qiskit/lib/python3.11/site-packages/shapely/set_operations.py:426: RuntimeWarning: invalid value encountered in unary_union\n",
      "  return lib.unary_union(collections, **kwargs)\n",
      "\n",
      "09:12AM 56s WARNING [check_lengths]: For path table, component=cpw_1, key=trace has short segments that could cause issues with fillet. Values in (5-7) (11-14)  are index(es) in shapely geometry.\n",
      "09:12AM 56s WARNING [check_lengths]: For path table, component=cpw_1, key=cut has short segments that could cause issues with fillet. Values in (5-7) (11-14)  are index(es) in shapely geometry.\n",
      "WARNING:py.warnings:/Users/wendy/miniconda3/envs/qiskit/lib/python3.11/site-packages/shapely/constructive.py:181: RuntimeWarning: invalid value encountered in buffer\n",
      "  return lib.buffer(\n",
      "\n",
      "WARNING:py.warnings:/Users/wendy/miniconda3/envs/qiskit/lib/python3.11/site-packages/shapely/constructive.py:181: RuntimeWarning: invalid value encountered in buffer\n",
      "  return lib.buffer(\n",
      "\n"
     ]
    }
   ],
   "source": [
    "gui.rebuild()\n",
    "gui.autoscale()"
   ]
  },
  {
   "cell_type": "code",
   "execution_count": 79,
   "metadata": {},
   "outputs": [],
   "source": [
    "wq = trans_p.freq_from_cap(Cg[0])[0]"
   ]
  },
  {
   "cell_type": "code",
   "execution_count": 116,
   "metadata": {},
   "outputs": [],
   "source": [
    "Cr = length*cc"
   ]
  },
  {
   "cell_type": "code",
   "execution_count": 92,
   "metadata": {},
   "outputs": [],
   "source": [
    "C_c = C12[0]\n",
    "C_g = Cg[0]"
   ]
  },
  {
   "cell_type": "code",
   "execution_count": 117,
   "metadata": {},
   "outputs": [],
   "source": [
    "g = 1/2*C_c/np.sqrt(C_g*Cr)*np.sqrt(wc*wq)*2*np.pi"
   ]
  },
  {
   "cell_type": "code",
   "execution_count": 118,
   "metadata": {},
   "outputs": [
    {
     "data": {
      "text/latex": [
       "$254.595 \\; \\mathrm{MHz}$"
      ],
      "text/plain": [
       "<Quantity 254.59499642 MHz>"
      ]
     },
     "execution_count": 118,
     "metadata": {},
     "output_type": "execute_result"
    }
   ],
   "source": [
    "(g**2/(wc-wq)).to(u.MHz)"
   ]
  },
  {
   "cell_type": "code",
   "execution_count": 119,
   "metadata": {},
   "outputs": [
    {
     "data": {
      "text/latex": [
       "$0.001162915 \\; \\mathrm{\\frac{m^{1/2}}{mm^{1/2}}}$"
      ],
      "text/plain": [
       "<Quantity 0.00116292 m(1/2) / mm(1/2)>"
      ]
     },
     "execution_count": 119,
     "metadata": {},
     "output_type": "execute_result"
    }
   ],
   "source": [
    "C_c/np.sqrt(C_g*Cr)"
   ]
  },
  {
   "cell_type": "code",
   "execution_count": 122,
   "metadata": {},
   "outputs": [
    {
     "data": {
      "text/latex": [
       "$7.6442428 \\; \\mathrm{GHz}$"
      ],
      "text/plain": [
       "<Quantity 7.64424276 GHz>"
      ]
     },
     "execution_count": 122,
     "metadata": {},
     "output_type": "execute_result"
    }
   ],
   "source": [
    "wc"
   ]
  },
  {
   "cell_type": "code",
   "execution_count": 10,
   "metadata": {},
   "outputs": [],
   "source": [
    "%matplotlib inline"
   ]
  },
  {
   "cell_type": "code",
   "execution_count": 6,
   "metadata": {},
   "outputs": [],
   "source": [
    "data_f = pd.read_csv('CPW_QB_freq_cap_0403.csv')"
   ]
  },
  {
   "cell_type": "code",
   "execution_count": 17,
   "metadata": {},
   "outputs": [
    {
     "data": {
      "text/plain": [
       "Text(44.773839506172834, 0.5, 'Resonator Frequency (MHz)')"
      ]
     },
     "execution_count": 17,
     "metadata": {},
     "output_type": "execute_result"
    },
    {
     "data": {
      "image/png": "[encoded data removed]",
      "text/plain": [
       "<Figure size 598.861x500 with 1 Axes>"
      ]
     },
     "metadata": {},
     "output_type": "display_data"
    }
   ],
   "source": [
    "sns.relplot(data = data_f, x = 'Freq_EPR1(MHz)', hue = 'Chi2_1(MHz)',y = 'Freq_EPR2(MHz)')\n",
    "# plt.ylim(0.5,1.5)\n",
    "plt.xlabel('Qubit Frequency (MHz)')\n",
    "plt.ylabel('Resonator Frequency (MHz)')"
   ]
  },
  {
   "cell_type": "code",
   "execution_count": 14,
   "metadata": {},
   "outputs": [
    {
     "data": {
      "text/plain": [
       "Text(0.5, 28.999999999999986, 'Qubit Frequency (MHz)')"
      ]
     },
     "execution_count": 14,
     "metadata": {},
     "output_type": "execute_result"
    },
    {
     "data": {
      "image/png": "[encoded data removed]",
      "text/plain": [
       "<Figure size 624.486x500 with 1 Axes>"
      ]
     },
     "metadata": {},
     "output_type": "display_data"
    }
   ],
   "source": [
    "sns.relplot(data = data_f, x = 'Freq_EPR1(MHz)', y = 'Chi2_1(MHz)',hue = 'Freq_EPR2(MHz)')\n",
    "plt.ylim(0.5,1.5)\n",
    "plt.xlabel('Qubit Frequency (MHz)')"
   ]
  },
  {
   "cell_type": "code",
   "execution_count": null,
   "metadata": {},
   "outputs": [],
   "source": []
  },
  {
   "cell_type": "code",
   "execution_count": 13,
   "metadata": {},
   "outputs": [
    {
     "data": {
      "text/plain": [
       "<seaborn.axisgrid.FacetGrid at 0x176a635d0>"
      ]
     },
     "execution_count": 13,
     "metadata": {},
     "output_type": "execute_result"
    },
    {
     "data": {
      "image/png": "[encoded data removed]",
      "text/plain": [
       "<Figure size 600.347x500 with 1 Axes>"
      ]
     },
     "metadata": {},
     "output_type": "display_data"
    }
   ],
   "source": [
    "sns.relplot(data = data_f, x = 'coupling_len(um)', y = 'Chi2_1(MHz)', hue = 'Freq1(GHz)', size = 'Freq2(GHz)')"
   ]
  },
  {
   "cell_type": "code",
   "execution_count": 50,
   "metadata": {},
   "outputs": [
    {
     "data": {
      "text/plain": [
       "<seaborn.axisgrid.FacetGrid at 0x292baa710>"
      ]
     },
     "execution_count": 50,
     "metadata": {},
     "output_type": "execute_result"
    },
    {
     "data": {
      "image/png": "[encoded data removed]",
      "text/plain": [
       "<Figure size 642.597x500 with 1 Axes>"
      ]
     },
     "metadata": {},
     "output_type": "display_data"
    }
   ],
   "source": [
    "sns.relplot(data = data_f, size = 'coupling_len(um)', y = 'Chi2_1(MHz)', x = 'Freq_EPR1(MHz)', hue = 'Freq_EPR2(MHz)')"
   ]
  },
  {
   "cell_type": "code",
   "execution_count": 53,
   "metadata": {},
   "outputs": [
    {
     "data": {
      "text/plain": [
       "<seaborn.axisgrid.FacetGrid at 0x292d72710>"
      ]
     },
     "execution_count": 53,
     "metadata": {},
     "output_type": "execute_result"
    },
    {
     "data": {
      "image/png": "[encoded data removed]",
      "text/plain": [
       "<Figure size 642.597x500 with 1 Axes>"
      ]
     },
     "metadata": {},
     "output_type": "display_data"
    }
   ],
   "source": [
    "d = pd.read_csv('/Users/wendy/Desktop/Wendy-qiskit-code/data/CPW_QB_freq_only_0327_2.csv')\n",
    "# d = d.sort_values(by=['coupling_len(um)'], ascending=False)\n",
    "# d = d[d['Freq_EPR1(MHz)']>5200]\n",
    "sns.relplot(data = d, size = 'coupling_len(um)', y = 'Chi2_1(MHz)', x = 'Freq_EPR1(MHz)', hue = 'Freq_EPR2(MHz)')"
   ]
  },
  {
   "cell_type": "code",
   "execution_count": 40,
   "metadata": {},
   "outputs": [
    {
     "data": {
      "text/html": [
       "<div>\n",
       "<style scoped>\n",
       "    .dataframe tbody tr th:only-of-type {\n",
       "        vertical-align: middle;\n",
       "    }\n",
       "\n",
       "    .dataframe tbody tr th {\n",
       "        vertical-align: top;\n",
       "    }\n",
       "\n",
       "    .dataframe thead th {\n",
       "        text-align: right;\n",
       "    }\n",
       "</style>\n",
       "<table border=\"1\" class=\"dataframe\">\n",
       "  <thead>\n",
       "    <tr style=\"text-align: right;\">\n",
       "      <th></th>\n",
       "      <th>Unnamed: 0</th>\n",
       "      <th>pad_size(mm)</th>\n",
       "      <th>coupling_len(um)</th>\n",
       "      <th>buffer(um)</th>\n",
       "      <th>offset</th>\n",
       "      <th>target_freq(GHz)</th>\n",
       "      <th>target_res_freq(GHz)</th>\n",
       "      <th>Freq1(GHz)</th>\n",
       "      <th>Freq2(GHz)</th>\n",
       "      <th>Freq_EPR1(MHz)</th>\n",
       "      <th>Chi1_1(MHz)</th>\n",
       "      <th>Freq_EPR2(MHz)</th>\n",
       "      <th>Chi2_1(MHz)</th>\n",
       "      <th>Chi2_2(MHz)</th>\n",
       "    </tr>\n",
       "  </thead>\n",
       "  <tbody>\n",
       "    <tr>\n",
       "      <th>11</th>\n",
       "      <td>11</td>\n",
       "      <td>0.196</td>\n",
       "      <td>10.0</td>\n",
       "      <td>206.0</td>\n",
       "      <td>0.4</td>\n",
       "      <td>4.6</td>\n",
       "      <td>7.0</td>\n",
       "      <td>4.905471</td>\n",
       "      <td>6.967269</td>\n",
       "      <td>4656.124803</td>\n",
       "      <td>263.082212</td>\n",
       "      <td>6966.795158</td>\n",
       "      <td>0.809706</td>\n",
       "      <td>0.000716</td>\n",
       "    </tr>\n",
       "    <tr>\n",
       "      <th>2</th>\n",
       "      <td>2</td>\n",
       "      <td>0.250</td>\n",
       "      <td>10.0</td>\n",
       "      <td>202.0</td>\n",
       "      <td>0.4</td>\n",
       "      <td>4.0</td>\n",
       "      <td>6.4</td>\n",
       "      <td>4.237308</td>\n",
       "      <td>6.357911</td>\n",
       "      <td>4052.963922</td>\n",
       "      <td>193.261113</td>\n",
       "      <td>6357.627434</td>\n",
       "      <td>0.508392</td>\n",
       "      <td>0.000370</td>\n",
       "    </tr>\n",
       "    <tr>\n",
       "      <th>20</th>\n",
       "      <td>20</td>\n",
       "      <td>0.155</td>\n",
       "      <td>10.0</td>\n",
       "      <td>203.0</td>\n",
       "      <td>0.4</td>\n",
       "      <td>5.2</td>\n",
       "      <td>7.6</td>\n",
       "      <td>5.648255</td>\n",
       "      <td>7.577294</td>\n",
       "      <td>5314.420134</td>\n",
       "      <td>354.494936</td>\n",
       "      <td>7576.416557</td>\n",
       "      <td>1.398597</td>\n",
       "      <td>0.001670</td>\n",
       "    </tr>\n",
       "    <tr>\n",
       "      <th>5</th>\n",
       "      <td>5</td>\n",
       "      <td>0.230</td>\n",
       "      <td>10.0</td>\n",
       "      <td>204.0</td>\n",
       "      <td>0.4</td>\n",
       "      <td>4.2</td>\n",
       "      <td>6.6</td>\n",
       "      <td>4.456127</td>\n",
       "      <td>6.577564</td>\n",
       "      <td>4251.629732</td>\n",
       "      <td>214.851910</td>\n",
       "      <td>6577.231703</td>\n",
       "      <td>0.587726</td>\n",
       "      <td>0.000450</td>\n",
       "    </tr>\n",
       "    <tr>\n",
       "      <th>17</th>\n",
       "      <td>17</td>\n",
       "      <td>0.170</td>\n",
       "      <td>10.0</td>\n",
       "      <td>202.0</td>\n",
       "      <td>0.4</td>\n",
       "      <td>5.0</td>\n",
       "      <td>7.4</td>\n",
       "      <td>5.340649</td>\n",
       "      <td>7.372224</td>\n",
       "      <td>5043.370739</td>\n",
       "      <td>314.861634</td>\n",
       "      <td>7371.552999</td>\n",
       "      <td>1.108253</td>\n",
       "      <td>0.001151</td>\n",
       "    </tr>\n",
       "    <tr>\n",
       "      <th>8</th>\n",
       "      <td>8</td>\n",
       "      <td>0.210</td>\n",
       "      <td>10.0</td>\n",
       "      <td>208.0</td>\n",
       "      <td>0.4</td>\n",
       "      <td>4.4</td>\n",
       "      <td>6.8</td>\n",
       "      <td>4.696001</td>\n",
       "      <td>6.765362</td>\n",
       "      <td>4468.123304</td>\n",
       "      <td>239.969355</td>\n",
       "      <td>6764.964387</td>\n",
       "      <td>0.690594</td>\n",
       "      <td>0.000565</td>\n",
       "    </tr>\n",
       "    <tr>\n",
       "      <th>14</th>\n",
       "      <td>14</td>\n",
       "      <td>0.184</td>\n",
       "      <td>10.0</td>\n",
       "      <td>206.0</td>\n",
       "      <td>0.4</td>\n",
       "      <td>4.8</td>\n",
       "      <td>7.2</td>\n",
       "      <td>5.094968</td>\n",
       "      <td>7.125183</td>\n",
       "      <td>4825.301599</td>\n",
       "      <td>285.007016</td>\n",
       "      <td>7124.630539</td>\n",
       "      <td>0.929497</td>\n",
       "      <td>0.000882</td>\n",
       "    </tr>\n",
       "    <tr>\n",
       "      <th>1</th>\n",
       "      <td>1</td>\n",
       "      <td>0.250</td>\n",
       "      <td>5.0</td>\n",
       "      <td>202.0</td>\n",
       "      <td>0.4</td>\n",
       "      <td>4.0</td>\n",
       "      <td>6.4</td>\n",
       "      <td>4.243383</td>\n",
       "      <td>6.365497</td>\n",
       "      <td>4058.492391</td>\n",
       "      <td>193.866612</td>\n",
       "      <td>6365.244350</td>\n",
       "      <td>0.452192</td>\n",
       "      <td>0.000292</td>\n",
       "    </tr>\n",
       "    <tr>\n",
       "      <th>19</th>\n",
       "      <td>19</td>\n",
       "      <td>0.155</td>\n",
       "      <td>5.0</td>\n",
       "      <td>203.0</td>\n",
       "      <td>0.4</td>\n",
       "      <td>5.2</td>\n",
       "      <td>7.6</td>\n",
       "      <td>5.653224</td>\n",
       "      <td>7.586105</td>\n",
       "      <td>5318.720166</td>\n",
       "      <td>355.275924</td>\n",
       "      <td>7585.369841</td>\n",
       "      <td>1.172379</td>\n",
       "      <td>0.001171</td>\n",
       "    </tr>\n",
       "    <tr>\n",
       "      <th>16</th>\n",
       "      <td>16</td>\n",
       "      <td>0.170</td>\n",
       "      <td>5.0</td>\n",
       "      <td>202.0</td>\n",
       "      <td>0.4</td>\n",
       "      <td>5.0</td>\n",
       "      <td>7.4</td>\n",
       "      <td>5.348289</td>\n",
       "      <td>7.382281</td>\n",
       "      <td>5050.094058</td>\n",
       "      <td>315.901768</td>\n",
       "      <td>7381.712090</td>\n",
       "      <td>0.940713</td>\n",
       "      <td>0.000826</td>\n",
       "    </tr>\n",
       "    <tr>\n",
       "      <th>13</th>\n",
       "      <td>13</td>\n",
       "      <td>0.184</td>\n",
       "      <td>5.0</td>\n",
       "      <td>206.0</td>\n",
       "      <td>0.4</td>\n",
       "      <td>4.8</td>\n",
       "      <td>7.2</td>\n",
       "      <td>5.100054</td>\n",
       "      <td>7.133993</td>\n",
       "      <td>4829.801415</td>\n",
       "      <td>285.681388</td>\n",
       "      <td>7133.520879</td>\n",
       "      <td>0.795066</td>\n",
       "      <td>0.000644</td>\n",
       "    </tr>\n",
       "    <tr>\n",
       "      <th>22</th>\n",
       "      <td>22</td>\n",
       "      <td>0.140</td>\n",
       "      <td>5.0</td>\n",
       "      <td>205.0</td>\n",
       "      <td>0.4</td>\n",
       "      <td>5.4</td>\n",
       "      <td>7.8</td>\n",
       "      <td>6.006750</td>\n",
       "      <td>7.788251</td>\n",
       "      <td>5627.369272</td>\n",
       "      <td>404.091137</td>\n",
       "      <td>7787.245611</td>\n",
       "      <td>1.519397</td>\n",
       "      <td>0.001792</td>\n",
       "    </tr>\n",
       "    <tr>\n",
       "      <th>10</th>\n",
       "      <td>10</td>\n",
       "      <td>0.196</td>\n",
       "      <td>5.0</td>\n",
       "      <td>206.0</td>\n",
       "      <td>0.4</td>\n",
       "      <td>4.6</td>\n",
       "      <td>7.0</td>\n",
       "      <td>4.910113</td>\n",
       "      <td>6.974957</td>\n",
       "      <td>4660.258057</td>\n",
       "      <td>263.667225</td>\n",
       "      <td>6974.550052</td>\n",
       "      <td>0.695816</td>\n",
       "      <td>0.000528</td>\n",
       "    </tr>\n",
       "    <tr>\n",
       "      <th>7</th>\n",
       "      <td>7</td>\n",
       "      <td>0.210</td>\n",
       "      <td>5.0</td>\n",
       "      <td>208.0</td>\n",
       "      <td>0.4</td>\n",
       "      <td>4.4</td>\n",
       "      <td>6.8</td>\n",
       "      <td>4.710515</td>\n",
       "      <td>6.775826</td>\n",
       "      <td>4481.184354</td>\n",
       "      <td>241.561378</td>\n",
       "      <td>6775.475311</td>\n",
       "      <td>0.607155</td>\n",
       "      <td>0.000434</td>\n",
       "    </tr>\n",
       "    <tr>\n",
       "      <th>4</th>\n",
       "      <td>4</td>\n",
       "      <td>0.230</td>\n",
       "      <td>5.0</td>\n",
       "      <td>204.0</td>\n",
       "      <td>0.4</td>\n",
       "      <td>4.2</td>\n",
       "      <td>6.6</td>\n",
       "      <td>4.459608</td>\n",
       "      <td>6.585265</td>\n",
       "      <td>4254.765807</td>\n",
       "      <td>215.248581</td>\n",
       "      <td>6584.975551</td>\n",
       "      <td>0.512041</td>\n",
       "      <td>0.000341</td>\n",
       "    </tr>\n",
       "    <tr>\n",
       "      <th>12</th>\n",
       "      <td>12</td>\n",
       "      <td>0.184</td>\n",
       "      <td>2.0</td>\n",
       "      <td>206.0</td>\n",
       "      <td>0.4</td>\n",
       "      <td>4.8</td>\n",
       "      <td>7.2</td>\n",
       "      <td>5.106167</td>\n",
       "      <td>7.139962</td>\n",
       "      <td>4835.234702</td>\n",
       "      <td>286.437805</td>\n",
       "      <td>7139.531545</td>\n",
       "      <td>0.724114</td>\n",
       "      <td>0.000533</td>\n",
       "    </tr>\n",
       "    <tr>\n",
       "      <th>9</th>\n",
       "      <td>9</td>\n",
       "      <td>0.196</td>\n",
       "      <td>2.0</td>\n",
       "      <td>206.0</td>\n",
       "      <td>0.4</td>\n",
       "      <td>4.6</td>\n",
       "      <td>7.0</td>\n",
       "      <td>4.916864</td>\n",
       "      <td>6.980730</td>\n",
       "      <td>4666.295063</td>\n",
       "      <td>264.456353</td>\n",
       "      <td>6980.356806</td>\n",
       "      <td>0.637071</td>\n",
       "      <td>0.000441</td>\n",
       "    </tr>\n",
       "    <tr>\n",
       "      <th>15</th>\n",
       "      <td>15</td>\n",
       "      <td>0.170</td>\n",
       "      <td>2.0</td>\n",
       "      <td>202.0</td>\n",
       "      <td>0.4</td>\n",
       "      <td>5.0</td>\n",
       "      <td>7.4</td>\n",
       "      <td>5.348816</td>\n",
       "      <td>7.387499</td>\n",
       "      <td>5050.531741</td>\n",
       "      <td>316.027053</td>\n",
       "      <td>7386.990246</td>\n",
       "      <td>0.841058</td>\n",
       "      <td>0.000660</td>\n",
       "    </tr>\n",
       "    <tr>\n",
       "      <th>6</th>\n",
       "      <td>6</td>\n",
       "      <td>0.210</td>\n",
       "      <td>2.0</td>\n",
       "      <td>208.0</td>\n",
       "      <td>0.4</td>\n",
       "      <td>4.4</td>\n",
       "      <td>6.8</td>\n",
       "      <td>4.711335</td>\n",
       "      <td>6.780721</td>\n",
       "      <td>4481.911110</td>\n",
       "      <td>241.680201</td>\n",
       "      <td>6780.403072</td>\n",
       "      <td>0.551599</td>\n",
       "      <td>0.000358</td>\n",
       "    </tr>\n",
       "    <tr>\n",
       "      <th>18</th>\n",
       "      <td>18</td>\n",
       "      <td>0.155</td>\n",
       "      <td>2.0</td>\n",
       "      <td>203.0</td>\n",
       "      <td>0.4</td>\n",
       "      <td>5.2</td>\n",
       "      <td>7.6</td>\n",
       "      <td>5.658161</td>\n",
       "      <td>7.592191</td>\n",
       "      <td>5323.021734</td>\n",
       "      <td>355.995209</td>\n",
       "      <td>7591.531894</td>\n",
       "      <td>1.050152</td>\n",
       "      <td>0.000938</td>\n",
       "    </tr>\n",
       "    <tr>\n",
       "      <th>3</th>\n",
       "      <td>3</td>\n",
       "      <td>0.230</td>\n",
       "      <td>2.0</td>\n",
       "      <td>204.0</td>\n",
       "      <td>0.4</td>\n",
       "      <td>4.2</td>\n",
       "      <td>6.6</td>\n",
       "      <td>4.459565</td>\n",
       "      <td>6.589240</td>\n",
       "      <td>4254.715385</td>\n",
       "      <td>215.272322</td>\n",
       "      <td>6588.975347</td>\n",
       "      <td>0.468579</td>\n",
       "      <td>0.000285</td>\n",
       "    </tr>\n",
       "    <tr>\n",
       "      <th>21</th>\n",
       "      <td>21</td>\n",
       "      <td>0.140</td>\n",
       "      <td>2.0</td>\n",
       "      <td>205.0</td>\n",
       "      <td>0.4</td>\n",
       "      <td>5.4</td>\n",
       "      <td>7.8</td>\n",
       "      <td>6.013430</td>\n",
       "      <td>7.794840</td>\n",
       "      <td>5633.130562</td>\n",
       "      <td>405.121199</td>\n",
       "      <td>7793.943730</td>\n",
       "      <td>1.353871</td>\n",
       "      <td>0.001420</td>\n",
       "    </tr>\n",
       "    <tr>\n",
       "      <th>0</th>\n",
       "      <td>0</td>\n",
       "      <td>0.250</td>\n",
       "      <td>2.0</td>\n",
       "      <td>202.0</td>\n",
       "      <td>0.4</td>\n",
       "      <td>4.0</td>\n",
       "      <td>6.4</td>\n",
       "      <td>4.244877</td>\n",
       "      <td>6.369996</td>\n",
       "      <td>4059.846550</td>\n",
       "      <td>194.029524</td>\n",
       "      <td>6369.762760</td>\n",
       "      <td>0.417504</td>\n",
       "      <td>0.000249</td>\n",
       "    </tr>\n",
       "  </tbody>\n",
       "</table>\n",
       "</div>"
      ],
      "text/plain": [
       "    Unnamed: 0  pad_size(mm)  coupling_len(um)  buffer(um)  offset  \\\n",
       "11          11         0.196              10.0       206.0     0.4   \n",
       "2            2         0.250              10.0       202.0     0.4   \n",
       "20          20         0.155              10.0       203.0     0.4   \n",
       "5            5         0.230              10.0       204.0     0.4   \n",
       "17          17         0.170              10.0       202.0     0.4   \n",
       "8            8         0.210              10.0       208.0     0.4   \n",
       "14          14         0.184              10.0       206.0     0.4   \n",
       "1            1         0.250               5.0       202.0     0.4   \n",
       "19          19         0.155               5.0       203.0     0.4   \n",
       "16          16         0.170               5.0       202.0     0.4   \n",
       "13          13         0.184               5.0       206.0     0.4   \n",
       "22          22         0.140               5.0       205.0     0.4   \n",
       "10          10         0.196               5.0       206.0     0.4   \n",
       "7            7         0.210               5.0       208.0     0.4   \n",
       "4            4         0.230               5.0       204.0     0.4   \n",
       "12          12         0.184               2.0       206.0     0.4   \n",
       "9            9         0.196               2.0       206.0     0.4   \n",
       "15          15         0.170               2.0       202.0     0.4   \n",
       "6            6         0.210               2.0       208.0     0.4   \n",
       "18          18         0.155               2.0       203.0     0.4   \n",
       "3            3         0.230               2.0       204.0     0.4   \n",
       "21          21         0.140               2.0       205.0     0.4   \n",
       "0            0         0.250               2.0       202.0     0.4   \n",
       "\n",
       "    target_freq(GHz)  target_res_freq(GHz)  Freq1(GHz)  Freq2(GHz)  \\\n",
       "11               4.6                   7.0    4.905471    6.967269   \n",
       "2                4.0                   6.4    4.237308    6.357911   \n",
       "20               5.2                   7.6    5.648255    7.577294   \n",
       "5                4.2                   6.6    4.456127    6.577564   \n",
       "17               5.0                   7.4    5.340649    7.372224   \n",
       "8                4.4                   6.8    4.696001    6.765362   \n",
       "14               4.8                   7.2    5.094968    7.125183   \n",
       "1                4.0                   6.4    4.243383    6.365497   \n",
       "19               5.2                   7.6    5.653224    7.586105   \n",
       "16               5.0                   7.4    5.348289    7.382281   \n",
       "13               4.8                   7.2    5.100054    7.133993   \n",
       "22               5.4                   7.8    6.006750    7.788251   \n",
       "10               4.6                   7.0    4.910113    6.974957   \n",
       "7                4.4                   6.8    4.710515    6.775826   \n",
       "4                4.2                   6.6    4.459608    6.585265   \n",
       "12               4.8                   7.2    5.106167    7.139962   \n",
       "9                4.6                   7.0    4.916864    6.980730   \n",
       "15               5.0                   7.4    5.348816    7.387499   \n",
       "6                4.4                   6.8    4.711335    6.780721   \n",
       "18               5.2                   7.6    5.658161    7.592191   \n",
       "3                4.2                   6.6    4.459565    6.589240   \n",
       "21               5.4                   7.8    6.013430    7.794840   \n",
       "0                4.0                   6.4    4.244877    6.369996   \n",
       "\n",
       "    Freq_EPR1(MHz)  Chi1_1(MHz)  Freq_EPR2(MHz)  Chi2_1(MHz)  Chi2_2(MHz)  \n",
       "11     4656.124803   263.082212     6966.795158     0.809706     0.000716  \n",
       "2      4052.963922   193.261113     6357.627434     0.508392     0.000370  \n",
       "20     5314.420134   354.494936     7576.416557     1.398597     0.001670  \n",
       "5      4251.629732   214.851910     6577.231703     0.587726     0.000450  \n",
       "17     5043.370739   314.861634     7371.552999     1.108253     0.001151  \n",
       "8      4468.123304   239.969355     6764.964387     0.690594     0.000565  \n",
       "14     4825.301599   285.007016     7124.630539     0.929497     0.000882  \n",
       "1      4058.492391   193.866612     6365.244350     0.452192     0.000292  \n",
       "19     5318.720166   355.275924     7585.369841     1.172379     0.001171  \n",
       "16     5050.094058   315.901768     7381.712090     0.940713     0.000826  \n",
       "13     4829.801415   285.681388     7133.520879     0.795066     0.000644  \n",
       "22     5627.369272   404.091137     7787.245611     1.519397     0.001792  \n",
       "10     4660.258057   263.667225     6974.550052     0.695816     0.000528  \n",
       "7      4481.184354   241.561378     6775.475311     0.607155     0.000434  \n",
       "4      4254.765807   215.248581     6584.975551     0.512041     0.000341  \n",
       "12     4835.234702   286.437805     7139.531545     0.724114     0.000533  \n",
       "9      4666.295063   264.456353     6980.356806     0.637071     0.000441  \n",
       "15     5050.531741   316.027053     7386.990246     0.841058     0.000660  \n",
       "6      4481.911110   241.680201     6780.403072     0.551599     0.000358  \n",
       "18     5323.021734   355.995209     7591.531894     1.050152     0.000938  \n",
       "3      4254.715385   215.272322     6588.975347     0.468579     0.000285  \n",
       "21     5633.130562   405.121199     7793.943730     1.353871     0.001420  \n",
       "0      4059.846550   194.029524     6369.762760     0.417504     0.000249  "
      ]
     },
     "execution_count": 40,
     "metadata": {},
     "output_type": "execute_result"
    }
   ],
   "source": [
    "d"
   ]
  },
  {
   "cell_type": "code",
   "execution_count": null,
   "metadata": {},
   "outputs": [],
   "source": []
  },
  {
   "cell_type": "code",
   "execution_count": null,
   "metadata": {},
   "outputs": [],
   "source": []
  },
  {
   "cell_type": "code",
   "execution_count": null,
   "metadata": {},
   "outputs": [],
   "source": []
  },
  {
   "cell_type": "code",
   "execution_count": 12,
   "metadata": {},
   "outputs": [
    {
     "data": {
      "text/html": [
       "<div>\n",
       "<style scoped>\n",
       "    .dataframe tbody tr th:only-of-type {\n",
       "        vertical-align: middle;\n",
       "    }\n",
       "\n",
       "    .dataframe tbody tr th {\n",
       "        vertical-align: top;\n",
       "    }\n",
       "\n",
       "    .dataframe thead th {\n",
       "        text-align: right;\n",
       "    }\n",
       "</style>\n",
       "<table border=\"1\" class=\"dataframe\">\n",
       "  <thead>\n",
       "    <tr style=\"text-align: right;\">\n",
       "      <th></th>\n",
       "      <th>Unnamed: 0</th>\n",
       "      <th>pad_size(mm)</th>\n",
       "      <th>coupling_len(um)</th>\n",
       "      <th>Freq1(GHz)</th>\n",
       "      <th>Freq2(GHz)</th>\n",
       "      <th>Freq_EPR1(MHz)</th>\n",
       "      <th>Chi1_1(MHz)</th>\n",
       "      <th>Freq_EPR2(MHz)</th>\n",
       "      <th>Chi2_1(MHz)</th>\n",
       "      <th>Chi2_2(MHz)</th>\n",
       "    </tr>\n",
       "  </thead>\n",
       "  <tbody>\n",
       "  </tbody>\n",
       "</table>\n",
       "</div>"
      ],
      "text/plain": [
       "Empty DataFrame\n",
       "Columns: [Unnamed: 0, pad_size(mm), coupling_len(um), Freq1(GHz), Freq2(GHz), Freq_EPR1(MHz), Chi1_1(MHz), Freq_EPR2(MHz), Chi2_1(MHz), Chi2_2(MHz)]\n",
       "Index: []"
      ]
     },
     "execution_count": 12,
     "metadata": {},
     "output_type": "execute_result"
    }
   ],
   "source": [
    "dat = pd.read_csv('CPW_QB_freq_only2.csv')\n",
    "bol = dat['Chi2_1(MHz)']<1.2\n",
    "dat[bol]"
   ]
  },
  {
   "cell_type": "code",
   "execution_count": 129,
   "metadata": {},
   "outputs": [
    {
     "data": {
      "text/html": [
       "<div>\n",
       "<style scoped>\n",
       "    .dataframe tbody tr th:only-of-type {\n",
       "        vertical-align: middle;\n",
       "    }\n",
       "\n",
       "    .dataframe tbody tr th {\n",
       "        vertical-align: top;\n",
       "    }\n",
       "\n",
       "    .dataframe thead th {\n",
       "        text-align: right;\n",
       "    }\n",
       "</style>\n",
       "<table border=\"1\" class=\"dataframe\">\n",
       "  <thead>\n",
       "    <tr style=\"text-align: right;\">\n",
       "      <th></th>\n",
       "      <th>Unnamed: 0</th>\n",
       "      <th>pad_size(mm)</th>\n",
       "      <th>coupling_len(um)</th>\n",
       "      <th>Freq1(GHz)</th>\n",
       "      <th>Freq2(GHz)</th>\n",
       "      <th>Freq_EPR1(MHz)</th>\n",
       "      <th>Chi1_1(MHz)</th>\n",
       "      <th>Freq_EPR2(MHz)</th>\n",
       "      <th>Chi2_1(MHz)</th>\n",
       "      <th>Chi2_2(MHz)</th>\n",
       "    </tr>\n",
       "  </thead>\n",
       "  <tbody>\n",
       "    <tr>\n",
       "      <th>9</th>\n",
       "      <td>9</td>\n",
       "      <td>0.203333</td>\n",
       "      <td>20.0</td>\n",
       "      <td>4.789996</td>\n",
       "      <td>7.213821</td>\n",
       "      <td>4552.662081</td>\n",
       "      <td>249.968134</td>\n",
       "      <td>7213.144306</td>\n",
       "      <td>1.199628</td>\n",
       "      <td>0.001610</td>\n",
       "    </tr>\n",
       "    <tr>\n",
       "      <th>10</th>\n",
       "      <td>10</td>\n",
       "      <td>0.203333</td>\n",
       "      <td>20.0</td>\n",
       "      <td>4.790005</td>\n",
       "      <td>7.508614</td>\n",
       "      <td>4552.620482</td>\n",
       "      <td>250.055023</td>\n",
       "      <td>7508.020945</td>\n",
       "      <td>1.069961</td>\n",
       "      <td>0.001263</td>\n",
       "    </tr>\n",
       "    <tr>\n",
       "      <th>11</th>\n",
       "      <td>11</td>\n",
       "      <td>0.203333</td>\n",
       "      <td>20.0</td>\n",
       "      <td>4.789705</td>\n",
       "      <td>7.827313</td>\n",
       "      <td>4552.308936</td>\n",
       "      <td>250.096621</td>\n",
       "      <td>7826.790632</td>\n",
       "      <td>0.958747</td>\n",
       "      <td>0.001003</td>\n",
       "    </tr>\n",
       "    <tr>\n",
       "      <th>12</th>\n",
       "      <td>12</td>\n",
       "      <td>0.230000</td>\n",
       "      <td>20.0</td>\n",
       "      <td>4.448481</td>\n",
       "      <td>6.617974</td>\n",
       "      <td>4244.778667</td>\n",
       "      <td>213.825987</td>\n",
       "      <td>6617.375405</td>\n",
       "      <td>1.062931</td>\n",
       "      <td>0.001474</td>\n",
       "    </tr>\n",
       "    <tr>\n",
       "      <th>13</th>\n",
       "      <td>13</td>\n",
       "      <td>0.230000</td>\n",
       "      <td>20.0</td>\n",
       "      <td>4.446451</td>\n",
       "      <td>6.863778</td>\n",
       "      <td>4242.890084</td>\n",
       "      <td>213.705453</td>\n",
       "      <td>6863.254096</td>\n",
       "      <td>0.945022</td>\n",
       "      <td>0.001151</td>\n",
       "    </tr>\n",
       "    <tr>\n",
       "      <th>14</th>\n",
       "      <td>14</td>\n",
       "      <td>0.230000</td>\n",
       "      <td>20.0</td>\n",
       "      <td>4.446729</td>\n",
       "      <td>7.128647</td>\n",
       "      <td>4243.108376</td>\n",
       "      <td>213.798398</td>\n",
       "      <td>7128.184601</td>\n",
       "      <td>0.847721</td>\n",
       "      <td>0.000916</td>\n",
       "    </tr>\n",
       "    <tr>\n",
       "      <th>15</th>\n",
       "      <td>15</td>\n",
       "      <td>0.230000</td>\n",
       "      <td>20.0</td>\n",
       "      <td>4.446933</td>\n",
       "      <td>7.415848</td>\n",
       "      <td>4243.265469</td>\n",
       "      <td>213.871852</td>\n",
       "      <td>7415.433885</td>\n",
       "      <td>0.769088</td>\n",
       "      <td>0.000747</td>\n",
       "    </tr>\n",
       "  </tbody>\n",
       "</table>\n",
       "</div>"
      ],
      "text/plain": [
       "    Unnamed: 0  pad_size(mm)  coupling_len(um)  Freq1(GHz)  Freq2(GHz)  \\\n",
       "9            9      0.203333              20.0    4.789996    7.213821   \n",
       "10          10      0.203333              20.0    4.790005    7.508614   \n",
       "11          11      0.203333              20.0    4.789705    7.827313   \n",
       "12          12      0.230000              20.0    4.448481    6.617974   \n",
       "13          13      0.230000              20.0    4.446451    6.863778   \n",
       "14          14      0.230000              20.0    4.446729    7.128647   \n",
       "15          15      0.230000              20.0    4.446933    7.415848   \n",
       "\n",
       "    Freq_EPR1(MHz)  Chi1_1(MHz)  Freq_EPR2(MHz)  Chi2_1(MHz)  Chi2_2(MHz)  \n",
       "9      4552.662081   249.968134     7213.144306     1.199628     0.001610  \n",
       "10     4552.620482   250.055023     7508.020945     1.069961     0.001263  \n",
       "11     4552.308936   250.096621     7826.790632     0.958747     0.001003  \n",
       "12     4244.778667   213.825987     6617.375405     1.062931     0.001474  \n",
       "13     4242.890084   213.705453     6863.254096     0.945022     0.001151  \n",
       "14     4243.108376   213.798398     7128.184601     0.847721     0.000916  \n",
       "15     4243.265469   213.871852     7415.433885     0.769088     0.000747  "
      ]
     },
     "execution_count": 129,
     "metadata": {},
     "output_type": "execute_result"
    }
   ],
   "source": [
    "dat = pd.read_csv('CPW_QB_freq_only_0321.csv')\n",
    "bol = dat['Chi2_1(MHz)']<1.2\n",
    "dat[bol]"
   ]
  },
  {
   "cell_type": "code",
   "execution_count": 130,
   "metadata": {},
   "outputs": [
    {
     "data": {
      "text/html": [
       "<div>\n",
       "<style scoped>\n",
       "    .dataframe tbody tr th:only-of-type {\n",
       "        vertical-align: middle;\n",
       "    }\n",
       "\n",
       "    .dataframe tbody tr th {\n",
       "        vertical-align: top;\n",
       "    }\n",
       "\n",
       "    .dataframe thead th {\n",
       "        text-align: right;\n",
       "    }\n",
       "</style>\n",
       "<table border=\"1\" class=\"dataframe\">\n",
       "  <thead>\n",
       "    <tr style=\"text-align: right;\">\n",
       "      <th></th>\n",
       "      <th>Unnamed: 0</th>\n",
       "      <th>pad_size(mm)</th>\n",
       "      <th>coupling_len(um)</th>\n",
       "      <th>Freq1(GHz)</th>\n",
       "      <th>Freq2(GHz)</th>\n",
       "      <th>Freq_EPR1(MHz)</th>\n",
       "      <th>Chi1_1(MHz)</th>\n",
       "      <th>Freq_EPR2(MHz)</th>\n",
       "      <th>Chi2_1(MHz)</th>\n",
       "      <th>Chi2_2(MHz)</th>\n",
       "    </tr>\n",
       "  </thead>\n",
       "  <tbody>\n",
       "    <tr>\n",
       "      <th>3</th>\n",
       "      <td>3</td>\n",
       "      <td>0.15</td>\n",
       "      <td>5.0</td>\n",
       "      <td>5.759035</td>\n",
       "      <td>8.8288</td>\n",
       "      <td>5411.217705</td>\n",
       "      <td>369.670014</td>\n",
       "      <td>8828.155214</td>\n",
       "      <td>1.133132</td>\n",
       "      <td>0.000985</td>\n",
       "    </tr>\n",
       "  </tbody>\n",
       "</table>\n",
       "</div>"
      ],
      "text/plain": [
       "   Unnamed: 0  pad_size(mm)  coupling_len(um)  Freq1(GHz)  Freq2(GHz)  \\\n",
       "3           3          0.15               5.0    5.759035      8.8288   \n",
       "\n",
       "   Freq_EPR1(MHz)  Chi1_1(MHz)  Freq_EPR2(MHz)  Chi2_1(MHz)  Chi2_2(MHz)  \n",
       "3     5411.217705   369.670014     8828.155214     1.133132     0.000985  "
      ]
     },
     "execution_count": 130,
     "metadata": {},
     "output_type": "execute_result"
    }
   ],
   "source": [
    "dat = pd.read_csv('CPW_QB_freq_only_0324.csv')\n",
    "bol = dat['Chi2_1(MHz)']<1.2\n",
    "dat[bol]"
   ]
  },
  {
   "cell_type": "code",
   "execution_count": 132,
   "metadata": {},
   "outputs": [
    {
     "data": {
      "text/html": [
       "<div>\n",
       "<style scoped>\n",
       "    .dataframe tbody tr th:only-of-type {\n",
       "        vertical-align: middle;\n",
       "    }\n",
       "\n",
       "    .dataframe tbody tr th {\n",
       "        vertical-align: top;\n",
       "    }\n",
       "\n",
       "    .dataframe thead th {\n",
       "        text-align: right;\n",
       "    }\n",
       "</style>\n",
       "<table border=\"1\" class=\"dataframe\">\n",
       "  <thead>\n",
       "    <tr style=\"text-align: right;\">\n",
       "      <th></th>\n",
       "      <th>Unnamed: 0</th>\n",
       "      <th>pad_size(mm)</th>\n",
       "      <th>coupling_len(um)</th>\n",
       "      <th>Freq1(GHz)</th>\n",
       "      <th>Freq2(GHz)</th>\n",
       "      <th>Freq_EPR1(MHz)</th>\n",
       "      <th>Chi1_1(MHz)</th>\n",
       "      <th>Freq_EPR2(MHz)</th>\n",
       "      <th>Chi2_1(MHz)</th>\n",
       "      <th>Chi2_2(MHz)</th>\n",
       "    </tr>\n",
       "  </thead>\n",
       "  <tbody>\n",
       "    <tr>\n",
       "      <th>1</th>\n",
       "      <td>1</td>\n",
       "      <td>0.176667</td>\n",
       "      <td>5.0</td>\n",
       "      <td>5.228354</td>\n",
       "      <td>7.631265</td>\n",
       "      <td>4943.841971</td>\n",
       "      <td>300.998901</td>\n",
       "      <td>7630.628643</td>\n",
       "      <td>1.097737</td>\n",
       "      <td>0.001145</td>\n",
       "    </tr>\n",
       "    <tr>\n",
       "      <th>2</th>\n",
       "      <td>2</td>\n",
       "      <td>0.176667</td>\n",
       "      <td>5.0</td>\n",
       "      <td>5.224563</td>\n",
       "      <td>7.958424</td>\n",
       "      <td>4940.418734</td>\n",
       "      <td>300.631012</td>\n",
       "      <td>7957.884713</td>\n",
       "      <td>0.952708</td>\n",
       "      <td>0.000849</td>\n",
       "    </tr>\n",
       "    <tr>\n",
       "      <th>3</th>\n",
       "      <td>3</td>\n",
       "      <td>0.176667</td>\n",
       "      <td>5.0</td>\n",
       "      <td>5.227801</td>\n",
       "      <td>8.317782</td>\n",
       "      <td>4943.260185</td>\n",
       "      <td>301.081265</td>\n",
       "      <td>8317.311737</td>\n",
       "      <td>0.849801</td>\n",
       "      <td>0.000665</td>\n",
       "    </tr>\n",
       "    <tr>\n",
       "      <th>4</th>\n",
       "      <td>4</td>\n",
       "      <td>0.203333</td>\n",
       "      <td>5.0</td>\n",
       "      <td>4.800327</td>\n",
       "      <td>6.964961</td>\n",
       "      <td>4561.914447</td>\n",
       "      <td>251.229025</td>\n",
       "      <td>6964.408273</td>\n",
       "      <td>0.959885</td>\n",
       "      <td>0.001042</td>\n",
       "    </tr>\n",
       "  </tbody>\n",
       "</table>\n",
       "</div>"
      ],
      "text/plain": [
       "   Unnamed: 0  pad_size(mm)  coupling_len(um)  Freq1(GHz)  Freq2(GHz)  \\\n",
       "1           1      0.176667               5.0    5.228354    7.631265   \n",
       "2           2      0.176667               5.0    5.224563    7.958424   \n",
       "3           3      0.176667               5.0    5.227801    8.317782   \n",
       "4           4      0.203333               5.0    4.800327    6.964961   \n",
       "\n",
       "   Freq_EPR1(MHz)  Chi1_1(MHz)  Freq_EPR2(MHz)  Chi2_1(MHz)  Chi2_2(MHz)  \n",
       "1     4943.841971   300.998901     7630.628643     1.097737     0.001145  \n",
       "2     4940.418734   300.631012     7957.884713     0.952708     0.000849  \n",
       "3     4943.260185   301.081265     8317.311737     0.849801     0.000665  \n",
       "4     4561.914447   251.229025     6964.408273     0.959885     0.001042  "
      ]
     },
     "execution_count": 132,
     "metadata": {},
     "output_type": "execute_result"
    }
   ],
   "source": [
    "dat = pd.read_csv('CPW_QB_freq_only_0324_2.csv')\n",
    "bol = dat['Chi2_1(MHz)']<1.2\n",
    "dat[bol]"
   ]
  },
  {
   "cell_type": "code",
   "execution_count": null,
   "metadata": {},
   "outputs": [],
   "source": []
  }
 ],
 "metadata": {
  "kernelspec": {
   "display_name": "qmetal",
   "language": "python",
   "name": "qmetal"
  },
  "language_info": {
   "codemirror_mode": {
    "name": "ipython",
    "version": 3
   },
   "file_extension": ".py",
   "mimetype": "text/x-python",
   "name": "python",
   "nbconvert_exporter": "python",
   "pygments_lexer": "ipython3",
   "version": "3.10.8"
  },
  "orig_nbformat": 4,
  "vscode": {
   "interpreter": {
    "hash": "44925f89eea0304a809c150d508a9f47d604add5952411f6e449e56bdadb9133"
   }
  }
 },
 "nbformat": 4,
 "nbformat_minor": 2
}
