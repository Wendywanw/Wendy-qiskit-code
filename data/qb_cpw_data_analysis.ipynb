{
 "cells": [
  {
   "cell_type": "code",
   "execution_count": 1,
   "metadata": {},
   "outputs": [],
   "source": [
    "%reload_ext autoreload\n",
    "%autoreload 2"
   ]
  },
  {
   "cell_type": "code",
   "execution_count": 111,
   "metadata": {},
   "outputs": [],
   "source": [
    "import numpy as np\n",
    "import pandas as pd\n",
    "import matplotlib.pyplot as plt\n",
    "import astropy.units as u\n",
    "import astropy.constants as c"
   ]
  },
  {
   "cell_type": "code",
   "execution_count": 3,
   "metadata": {},
   "outputs": [],
   "source": [
    "#This imports the necessary path to draw the single pad transmon design. \n",
    "import sys\n",
    "sys.path.append('../Customized_Components')\n",
    "from single_pad_transmon_pocket import TransmonPocket_Single\n",
    "import Transmon_property as trans_p\n",
    "\n",
    "import shapely\n",
    "import warnings\n",
    "from shapely.errors import ShapelyDeprecationWarning\n",
    "warnings.filterwarnings(\"ignore\", category=ShapelyDeprecationWarning)"
   ]
  },
  {
   "cell_type": "code",
   "execution_count": 4,
   "metadata": {},
   "outputs": [],
   "source": [
    "from qiskit_metal import designs, draw\n",
    "from qiskit_metal import MetalGUI, Dict, Headings\n",
    "\n",
    "from qiskit_metal.qlibrary.couplers.coupled_line_tee import CoupledLineTee\n",
    "\n",
    "from qiskit_metal.qlibrary.tlines.mixed_path import RouteMixed\n",
    "from qiskit_metal.qlibrary.tlines.straight_path import RouteStraight"
   ]
  },
  {
   "cell_type": "code",
   "execution_count": 5,
   "metadata": {},
   "outputs": [],
   "source": [
    "data = pd.read_csv('CPW_QB_caps_only.csv')"
   ]
  },
  {
   "cell_type": "code",
   "execution_count": 6,
   "metadata": {},
   "outputs": [],
   "source": [
    "data = data[['pad_size(mm)','coupling_len(um)','offset','C_CPW_Qb','C_CPW_Qbp','C_Qb_g']]"
   ]
  },
  {
   "cell_type": "code",
   "execution_count": 7,
   "metadata": {},
   "outputs": [],
   "source": [
    "import seaborn as sns"
   ]
  },
  {
   "cell_type": "code",
   "execution_count": 8,
   "metadata": {},
   "outputs": [
    {
     "data": {
      "text/plain": [
       "<seaborn.axisgrid.FacetGrid at 0x14fa76adff0>"
      ]
     },
     "execution_count": 8,
     "metadata": {},
     "output_type": "execute_result"
    }
   ],
   "source": [
    "sns.relplot(data = data, hue = 'coupling_len(um)', y = 'C_CPW_Qb', x = 'pad_size(mm)', size = 'offset')"
   ]
  },
  {
   "cell_type": "code",
   "execution_count": null,
   "metadata": {},
   "outputs": [],
   "source": []
  },
  {
   "cell_type": "code",
   "execution_count": 112,
   "metadata": {},
   "outputs": [],
   "source": [
    "phi0 = c.h/2/c.e.si\n",
    "T = 30*u.mK\n",
    "epsilon_r = 11.45\n",
    "cc = 166930*u.fF/u.m"
   ]
  },
  {
   "cell_type": "code",
   "execution_count": 10,
   "metadata": {},
   "outputs": [],
   "source": [
    "design = designs.DesignPlanar({}, True)\n",
    "design.chips.main.size['size_x'] = '20 mm'\n",
    "design.chips.main.size['size_y'] = '10 mm'\n",
    "\n",
    "design.variables['cpw_width'] = '15 um'\n",
    "design.variables['cpw_gap'] = '9 um'\n",
    "\n",
    "design.variables['trace_width'] = '10 um'\n",
    "cpw_pin_width = 10*u.um\n",
    "design.variables['trace_gap'] = '7 um'\n",
    "cpw_gap = 7*u.um\n",
    "\n",
    "# design.chips['main']['material'] = 'Silicon'\n",
    "\n",
    "gui = MetalGUI(design)"
   ]
  },
  {
   "cell_type": "markdown",
   "metadata": {},
   "source": [
    "Component-specific variables"
   ]
  },
  {
   "cell_type": "code",
   "execution_count": 38,
   "metadata": {},
   "outputs": [],
   "source": [
    "\n",
    "\n",
    "qb_options = dict(\n",
    "pad_pocket_distance_top = '40um',\n",
    "connection_pads = dict(\n",
    "    a = dict(loc_W  = 1, \n",
    "            loc_H =  1, \n",
    "            pad_gap = '10um',\n",
    "            pad_height = '20um',\n",
    "            pad_width = '80um',\n",
    "            pad_cpw_extent =  '10um',\n",
    "            pocket_rise = '0um',\n",
    "            cpw_extend = '5um')))\n",
    "\n",
    "TQ_options = dict(prime_width = design.variables['cpw_width'],\n",
    "               prime_gap = design.variables['cpw_gap'],\n",
    "               second_width = design.variables['trace_width'],\n",
    "               second_gap = design.variables['trace_gap'],\n",
    "               down_length = '60um',\n",
    "               coupling_space = '5um',\n",
    "               open_termination=False,\n",
    "               hfss_wire_bonds = False,\n",
    "               q3d_wire_bonds = False)\n",
    "\n",
    "CPW_options = Dict(trace_width = design.variables['trace_width'],\n",
    "               trace_gap  = design.variables['trace_gap'],\n",
    "        total_length='5 mm',\n",
    "        hfss_wire_bonds = True,\n",
    "        q3d_wire_bonds = True,\n",
    "        fillet='30 um',\n",
    "        lead = dict(start_straight='20um', end_straight = '50um'),\n",
    "        pin_inputs=Dict(\n",
    "            start_pin=Dict(component='Q1', pin='a'),\n",
    "            end_pin=Dict(component='TQ1', pin='second_end')), )\n",
    "\n",
    "pin_inputs = Dict(\n",
    "            start_pin=Dict(component='Q1', pin='a'),\n",
    "            end_pin=Dict(component='TQ1', pin='second_end'))\n",
    "\n",
    "trans_options = Dict(hfss_wire_bonds = True,\n",
    "                     q3d_wirebonds = True,\n",
    "               pin_inputs=Dict(\n",
    "                 start_pin=Dict(\n",
    "                     component='TQ1',\n",
    "                     pin='prime_start'),\n",
    "                 end_pin=Dict(\n",
    "                     component='TQ2',\n",
    "                     pin='prime_end')))\n"
   ]
  },
  {
   "cell_type": "markdown",
   "metadata": {},
   "source": [
    "## Single Pad--Verify Design"
   ]
  },
  {
   "cell_type": "markdown",
   "metadata": {},
   "source": [
    "### Draw the single pad transmon"
   ]
  },
  {
   "cell_type": "code",
   "execution_count": 42,
   "metadata": {},
   "outputs": [],
   "source": [
    "design.delete_all_components()"
   ]
  },
  {
   "cell_type": "code",
   "execution_count": 43,
   "metadata": {},
   "outputs": [],
   "source": [
    "design.overwrite_enabled = True\n",
    "\n",
    "size = 0.25*u.mm\n",
    "gap = 30*u.um\n",
    "size = size.to(u.um)\n",
    "pocket_width = size+2*gap\n",
    "\n",
    "\n",
    "op = Dict(\n",
    "    pos_x = '0',\n",
    "    pad_height = '{}um'.format(size.value),\n",
    "    pos_y = '0',\n",
    "    pad_width = '{}'.format(size),\n",
    "    pocket_width = '{}'.format(pocket_width), \n",
    "    **qb_options)\n",
    "\n",
    "q1 = TransmonPocket_Single(design,'Q1',options = op)\n",
    "\n",
    "gui.rebuild()\n",
    "gui.zoom_on_components(['Q1'])\n"
   ]
  },
  {
   "cell_type": "code",
   "execution_count": 44,
   "metadata": {},
   "outputs": [],
   "source": [
    "TQ_options['down_length'] = '40 um'\n",
    "TQ1 = CoupledLineTee(design, 'TQ1', options=dict(pos_x='-0.23 mm',\n",
    "                                             pos_y='0.5 mm',\n",
    "                                             mirror = True,\n",
    "                                             coupling_length='120 um', **TQ_options))\n",
    "TQ1.options['open_termination'] = True\n",
    "\n",
    "gui.rebuild()\n",
    "gui.autoscale()\n",
    "\n"
   ]
  },
  {
   "cell_type": "code",
   "execution_count": 45,
   "metadata": {},
   "outputs": [
    {
     "data": {
      "text/html": [
       "<div>\n",
       "<style scoped>\n",
       "    .dataframe tbody tr th:only-of-type {\n",
       "        vertical-align: middle;\n",
       "    }\n",
       "\n",
       "    .dataframe tbody tr th {\n",
       "        vertical-align: top;\n",
       "    }\n",
       "\n",
       "    .dataframe thead th {\n",
       "        text-align: right;\n",
       "    }\n",
       "</style>\n",
       "<table border=\"1\" class=\"dataframe\">\n",
       "  <thead>\n",
       "    <tr style=\"text-align: right;\">\n",
       "      <th></th>\n",
       "      <th>pad_size(mm)</th>\n",
       "      <th>coupling_len(um)</th>\n",
       "      <th>offset</th>\n",
       "      <th>C_CPW_Qb</th>\n",
       "      <th>C_CPW_Qbp</th>\n",
       "      <th>C_Qb_g</th>\n",
       "    </tr>\n",
       "  </thead>\n",
       "  <tbody>\n",
       "    <tr>\n",
       "      <th>0</th>\n",
       "      <td>0.150000</td>\n",
       "      <td>40.0</td>\n",
       "      <td>0.200000</td>\n",
       "      <td>-7.23246</td>\n",
       "      <td>-50.94649</td>\n",
       "      <td>-58.11068</td>\n",
       "    </tr>\n",
       "    <tr>\n",
       "      <th>1</th>\n",
       "      <td>0.150000</td>\n",
       "      <td>40.0</td>\n",
       "      <td>0.283333</td>\n",
       "      <td>-7.16642</td>\n",
       "      <td>-51.01055</td>\n",
       "      <td>-58.11062</td>\n",
       "    </tr>\n",
       "    <tr>\n",
       "      <th>2</th>\n",
       "      <td>0.150000</td>\n",
       "      <td>40.0</td>\n",
       "      <td>0.366667</td>\n",
       "      <td>-7.08673</td>\n",
       "      <td>-51.09522</td>\n",
       "      <td>-58.11085</td>\n",
       "    </tr>\n",
       "    <tr>\n",
       "      <th>3</th>\n",
       "      <td>0.150000</td>\n",
       "      <td>40.0</td>\n",
       "      <td>0.450000</td>\n",
       "      <td>-7.01390</td>\n",
       "      <td>-51.16385</td>\n",
       "      <td>-58.09774</td>\n",
       "    </tr>\n",
       "    <tr>\n",
       "      <th>4</th>\n",
       "      <td>0.161429</td>\n",
       "      <td>40.0</td>\n",
       "      <td>0.200000</td>\n",
       "      <td>-7.58012</td>\n",
       "      <td>-55.85106</td>\n",
       "      <td>-63.33150</td>\n",
       "    </tr>\n",
       "    <tr>\n",
       "      <th>...</th>\n",
       "      <td>...</td>\n",
       "      <td>...</td>\n",
       "      <td>...</td>\n",
       "      <td>...</td>\n",
       "      <td>...</td>\n",
       "      <td>...</td>\n",
       "    </tr>\n",
       "    <tr>\n",
       "      <th>124</th>\n",
       "      <td>0.230000</td>\n",
       "      <td>62.5</td>\n",
       "      <td>0.200000</td>\n",
       "      <td>-11.40874</td>\n",
       "      <td>-85.90954</td>\n",
       "      <td>-97.00777</td>\n",
       "    </tr>\n",
       "    <tr>\n",
       "      <th>125</th>\n",
       "      <td>0.230000</td>\n",
       "      <td>62.5</td>\n",
       "      <td>0.283333</td>\n",
       "      <td>-11.30082</td>\n",
       "      <td>-86.01675</td>\n",
       "      <td>-97.00733</td>\n",
       "    </tr>\n",
       "    <tr>\n",
       "      <th>126</th>\n",
       "      <td>0.230000</td>\n",
       "      <td>62.5</td>\n",
       "      <td>0.366667</td>\n",
       "      <td>-11.15238</td>\n",
       "      <td>-86.01400</td>\n",
       "      <td>-97.00747</td>\n",
       "    </tr>\n",
       "    <tr>\n",
       "      <th>127</th>\n",
       "      <td>0.230000</td>\n",
       "      <td>62.5</td>\n",
       "      <td>0.450000</td>\n",
       "      <td>-11.03696</td>\n",
       "      <td>-86.27804</td>\n",
       "      <td>-97.00474</td>\n",
       "    </tr>\n",
       "    <tr>\n",
       "      <th>128</th>\n",
       "      <td>0.150000</td>\n",
       "      <td>70.0</td>\n",
       "      <td>0.200000</td>\n",
       "      <td>-9.36468</td>\n",
       "      <td>-49.88756</td>\n",
       "      <td>-59.16900</td>\n",
       "    </tr>\n",
       "  </tbody>\n",
       "</table>\n",
       "<p>129 rows × 6 columns</p>\n",
       "</div>"
      ],
      "text/plain": [
       "     pad_size(mm)  coupling_len(um)    offset  C_CPW_Qb  C_CPW_Qbp    C_Qb_g\n",
       "0        0.150000              40.0  0.200000  -7.23246  -50.94649 -58.11068\n",
       "1        0.150000              40.0  0.283333  -7.16642  -51.01055 -58.11062\n",
       "2        0.150000              40.0  0.366667  -7.08673  -51.09522 -58.11085\n",
       "3        0.150000              40.0  0.450000  -7.01390  -51.16385 -58.09774\n",
       "4        0.161429              40.0  0.200000  -7.58012  -55.85106 -63.33150\n",
       "..            ...               ...       ...       ...        ...       ...\n",
       "124      0.230000              62.5  0.200000 -11.40874  -85.90954 -97.00777\n",
       "125      0.230000              62.5  0.283333 -11.30082  -86.01675 -97.00733\n",
       "126      0.230000              62.5  0.366667 -11.15238  -86.01400 -97.00747\n",
       "127      0.230000              62.5  0.450000 -11.03696  -86.27804 -97.00474\n",
       "128      0.150000              70.0  0.200000  -9.36468  -49.88756 -59.16900\n",
       "\n",
       "[129 rows x 6 columns]"
      ]
     },
     "execution_count": 45,
     "metadata": {},
     "output_type": "execute_result"
    }
   ],
   "source": [
    "data"
   ]
  },
  {
   "cell_type": "code",
   "execution_count": 46,
   "metadata": {},
   "outputs": [
    {
     "ename": "SyntaxError",
     "evalue": "incomplete input (3027717072.py, line 2)",
     "output_type": "error",
     "traceback": [
      "\u001b[1;36m  Cell \u001b[1;32mIn [46], line 2\u001b[1;36m\u001b[0m\n\u001b[1;33m    \u001b[0m\n\u001b[1;37m    ^\u001b[0m\n\u001b[1;31mSyntaxError\u001b[0m\u001b[1;31m:\u001b[0m incomplete input\n"
     ]
    }
   ],
   "source": [
    "def g(C1, C2, w1, w2, C12):\n",
    "    "
   ]
  },
  {
   "cell_type": "code",
   "execution_count": 70,
   "metadata": {},
   "outputs": [],
   "source": [
    "def find_cpw_freq(pad_size, offset, extend, buffer = 150*u.um):\n",
    "    gap1 = 0.055\n",
    "    gap = 30*u.um\n",
    "    size = pad_size.to(u.um)\n",
    "    pocket_width = size+2*gap\n",
    "\n",
    "    coupling_len = extend\n",
    "    q1.options['pad_height'] = '{}'.format(size)\n",
    "    q1.options['pad_width'] = '{}'.format(size)\n",
    "    q1.options['pocket_width'] = '{}'.format(pocket_width)\n",
    "    q1.options['connection_pads']['a']['pad_width'] = '{}'.format(coupling_len)\n",
    "    # TQ1.options['open_termination'] = True\n",
    "    gui.rebuild()\n",
    "\n",
    "    anchors = trans_p.anchor_CPW(q1,buffer, gap1, 2,last_offset = offset)\n",
    "    design.delete_component('cpw_1')\n",
    "\n",
    "\n",
    "    pin_inputs = Dict(\n",
    "                start_pin=Dict(component='Q1', pin='a'),\n",
    "                end_pin=Dict(component='TQ1', pin='second_end'))\n",
    "\n",
    "    CPW_options['pin_inputs'] = pin_inputs\n",
    "\n",
    "    qa = RouteMixed(design, 'cpw_1', options = Dict(anchors = anchors, **CPW_options))\n",
    "\n",
    "    gui.rebuild()\n",
    "    gui.autoscale()\n",
    "    \n",
    "    length = trans_p.find_total_len(qa, q1, TQ1, count_extend=True)\n",
    "    return (trans_p.find_actual_frequency(length, cpw_pin_width, cpw_gap), length)"
   ]
  },
  {
   "cell_type": "code",
   "execution_count": 115,
   "metadata": {},
   "outputs": [
    {
     "data": {
      "text/latex": [
       "$665.61047 \\; \\mathrm{fF}$"
      ],
      "text/plain": [
       "<Quantity 665.61047017 fF>"
      ]
     },
     "execution_count": 115,
     "metadata": {},
     "output_type": "execute_result"
    }
   ],
   "source": [
    "(length*cc).to(u.fF)"
   ]
  },
  {
   "cell_type": "code",
   "execution_count": 105,
   "metadata": {},
   "outputs": [
    {
     "data": {
      "text/plain": [
       "array([0.2       , 0.28333333, 0.36666667, 0.45      , 0.2       ,\n",
       "       0.28333333, 0.36666667, 0.45      , 0.2       , 0.28333333,\n",
       "       0.36666667, 0.45      , 0.2       , 0.28333333, 0.36666667,\n",
       "       0.45      , 0.2       , 0.28333333, 0.36666667, 0.45      ,\n",
       "       0.2       , 0.28333333, 0.36666667, 0.45      , 0.2       ,\n",
       "       0.28333333, 0.36666667, 0.45      , 0.2       , 0.28333333,\n",
       "       0.36666667, 0.45      , 0.2       , 0.28333333, 0.36666667,\n",
       "       0.45      , 0.2       , 0.28333333, 0.36666667, 0.45      ,\n",
       "       0.2       , 0.28333333, 0.36666667, 0.45      , 0.2       ,\n",
       "       0.28333333, 0.36666667, 0.45      , 0.2       , 0.28333333,\n",
       "       0.36666667, 0.45      , 0.2       , 0.28333333, 0.36666667,\n",
       "       0.45      , 0.2       , 0.28333333, 0.36666667, 0.45      ,\n",
       "       0.2       , 0.28333333, 0.36666667, 0.45      , 0.2       ,\n",
       "       0.28333333, 0.36666667, 0.45      , 0.2       , 0.28333333,\n",
       "       0.36666667, 0.45      , 0.2       , 0.28333333, 0.36666667,\n",
       "       0.45      , 0.2       , 0.28333333, 0.36666667, 0.45      ,\n",
       "       0.2       , 0.28333333, 0.36666667, 0.45      , 0.2       ,\n",
       "       0.28333333, 0.36666667, 0.45      , 0.2       , 0.28333333,\n",
       "       0.36666667, 0.45      , 0.2       , 0.28333333, 0.36666667,\n",
       "       0.45      , 0.2       , 0.28333333, 0.36666667, 0.45      ,\n",
       "       0.2       , 0.28333333, 0.36666667, 0.45      , 0.2       ,\n",
       "       0.28333333, 0.36666667, 0.45      , 0.2       , 0.28333333,\n",
       "       0.36666667, 0.45      , 0.2       , 0.28333333, 0.36666667,\n",
       "       0.45      , 0.2       , 0.28333333, 0.36666667, 0.45      ,\n",
       "       0.2       , 0.28333333, 0.36666667, 0.45      , 0.2       ,\n",
       "       0.28333333, 0.36666667, 0.45      , 0.2       ])"
      ]
     },
     "execution_count": 105,
     "metadata": {},
     "output_type": "execute_result"
    }
   ],
   "source": [
    "offsets"
   ]
  },
  {
   "cell_type": "code",
   "execution_count": 106,
   "metadata": {},
   "outputs": [
    {
     "data": {
      "text/latex": [
       "$[40,~40,~40,~\\dots,~62.5,~62.5,~70] \\; \\mathrm{\\mu m}$"
      ],
      "text/plain": [
       "<Quantity [40. , 40. , 40. , 40. , 40. , 40. , 40. , 40. , 40. , 40. ,\n",
       "           40. , 40. , 40. , 40. , 40. , 40. , 40. , 40. , 40. , 40. ,\n",
       "           40. , 40. , 40. , 40. , 40. , 40. , 40. , 40. , 40. , 40. ,\n",
       "           40. , 40. , 47.5, 47.5, 47.5, 47.5, 47.5, 47.5, 47.5, 47.5,\n",
       "           47.5, 47.5, 47.5, 47.5, 47.5, 47.5, 47.5, 47.5, 47.5, 47.5,\n",
       "           47.5, 47.5, 47.5, 47.5, 47.5, 47.5, 47.5, 47.5, 47.5, 47.5,\n",
       "           47.5, 47.5, 47.5, 47.5, 55. , 55. , 55. , 55. , 55. , 55. ,\n",
       "           55. , 55. , 55. , 55. , 55. , 55. , 55. , 55. , 55. , 55. ,\n",
       "           55. , 55. , 55. , 55. , 55. , 55. , 55. , 55. , 55. , 55. ,\n",
       "           55. , 55. , 55. , 55. , 55. , 55. , 62.5, 62.5, 62.5, 62.5,\n",
       "           62.5, 62.5, 62.5, 62.5, 62.5, 62.5, 62.5, 62.5, 62.5, 62.5,\n",
       "           62.5, 62.5, 62.5, 62.5, 62.5, 62.5, 62.5, 62.5, 62.5, 62.5,\n",
       "           62.5, 62.5, 62.5, 62.5, 62.5, 62.5, 62.5, 62.5, 70. ] um>"
      ]
     },
     "execution_count": 106,
     "metadata": {},
     "output_type": "execute_result"
    }
   ],
   "source": [
    "extends"
   ]
  },
  {
   "cell_type": "code",
   "execution_count": 77,
   "metadata": {},
   "outputs": [],
   "source": [
    "sizes = data['pad_size(mm)'].values*u.mm\n",
    "offsets = data['offset'].values\n",
    "extends = data['coupling_len(um)'].values*u.um\n",
    "Cg = -data['C_Qb_g'].values*u.fF\n",
    "C12 = -data['C_CPW_Qb'].values*u.fF"
   ]
  },
  {
   "cell_type": "code",
   "execution_count": 72,
   "metadata": {},
   "outputs": [],
   "source": [
    "wc, length = find_cpw_freq(sizes[0],offsets[0],extends[0])"
   ]
  },
  {
   "cell_type": "code",
   "execution_count": 79,
   "metadata": {},
   "outputs": [],
   "source": [
    "wq = trans_p.freq_from_cap(Cg[0])[0]"
   ]
  },
  {
   "cell_type": "code",
   "execution_count": 116,
   "metadata": {},
   "outputs": [],
   "source": [
    "Cr = length*cc"
   ]
  },
  {
   "cell_type": "code",
   "execution_count": 92,
   "metadata": {},
   "outputs": [],
   "source": [
    "C_c = C12[0]\n",
    "C_g = Cg[0]"
   ]
  },
  {
   "cell_type": "code",
   "execution_count": 117,
   "metadata": {},
   "outputs": [],
   "source": [
    "g = 1/2*C_c/np.sqrt(C_g*Cr)*np.sqrt(wc*wq)*2*np.pi"
   ]
  },
  {
   "cell_type": "code",
   "execution_count": 118,
   "metadata": {},
   "outputs": [
    {
     "data": {
      "text/latex": [
       "$254.595 \\; \\mathrm{MHz}$"
      ],
      "text/plain": [
       "<Quantity 254.59499642 MHz>"
      ]
     },
     "execution_count": 118,
     "metadata": {},
     "output_type": "execute_result"
    }
   ],
   "source": [
    "(g**2/(wc-wq)).to(u.MHz)"
   ]
  },
  {
   "cell_type": "code",
   "execution_count": 119,
   "metadata": {},
   "outputs": [
    {
     "data": {
      "text/latex": [
       "$0.001162915 \\; \\mathrm{\\frac{m^{1/2}}{mm^{1/2}}}$"
      ],
      "text/plain": [
       "<Quantity 0.00116292 m(1/2) / mm(1/2)>"
      ]
     },
     "execution_count": 119,
     "metadata": {},
     "output_type": "execute_result"
    }
   ],
   "source": [
    "C_c/np.sqrt(C_g*Cr)"
   ]
  },
  {
   "cell_type": "code",
   "execution_count": 122,
   "metadata": {},
   "outputs": [
    {
     "data": {
      "text/latex": [
       "$7.6442428 \\; \\mathrm{GHz}$"
      ],
      "text/plain": [
       "<Quantity 7.64424276 GHz>"
      ]
     },
     "execution_count": 122,
     "metadata": {},
     "output_type": "execute_result"
    }
   ],
   "source": [
    "wc"
   ]
  },
  {
   "cell_type": "code",
   "execution_count": 103,
   "metadata": {},
   "outputs": [
    {
     "data": {
      "text/latex": [
       "$7.4619278 \\times 10^{8} \\; \\mathrm{\\frac{1}{s}}$"
      ],
      "text/plain": [
       "<Quantity 7.46192783e+08 1 / s>"
      ]
     },
     "execution_count": 103,
     "metadata": {},
     "output_type": "execute_result"
    }
   ],
   "source": [
    "g.si"
   ]
  },
  {
   "cell_type": "code",
   "execution_count": 14,
   "metadata": {},
   "outputs": [],
   "source": [
    "data_f = pd.read_csv('CPW_QB_freq_only2.csv')"
   ]
  },
  {
   "cell_type": "code",
   "execution_count": 15,
   "metadata": {},
   "outputs": [
    {
     "data": {
      "text/plain": [
       "<seaborn.axisgrid.FacetGrid at 0x1c4fdc556f0>"
      ]
     },
     "execution_count": 15,
     "metadata": {},
     "output_type": "execute_result"
    },
    {
     "data": {
      "image/png": "[encoded data removed]",
      "text/plain": [
       "<Figure size 600.347x500 with 1 Axes>"
      ]
     },
     "metadata": {},
     "output_type": "display_data"
    }
   ],
   "source": [
    "sns.relplot(data = data_f, x = 'coupling_len(um)', y = 'Chi2_1(MHz)', hue = 'Freq1(GHz)', size = 'Freq2(GHz)')"
   ]
  },
  {
   "cell_type": "code",
   "execution_count": 16,
   "metadata": {},
   "outputs": [
    {
     "data": {
      "text/plain": [
       "<seaborn.axisgrid.FacetGrid at 0x1c481347be0>"
      ]
     },
     "execution_count": 16,
     "metadata": {},
     "output_type": "execute_result"
    },
    {
     "data": {
      "image/png": "[encoded data removed]",
      "text/plain": [
       "<Figure size 642.597x500 with 1 Axes>"
      ]
     },
     "metadata": {},
     "output_type": "display_data"
    }
   ],
   "source": [
    "sns.relplot(data = data_f, size = 'coupling_len(um)', hue = 'Chi2_1(MHz)', x = 'Freq1(GHz)', y = 'Freq2(GHz)')"
   ]
  },
  {
   "cell_type": "code",
   "execution_count": 126,
   "metadata": {},
   "outputs": [
    {
     "data": {
      "text/html": [
       "<div>\n",
       "<style scoped>\n",
       "    .dataframe tbody tr th:only-of-type {\n",
       "        vertical-align: middle;\n",
       "    }\n",
       "\n",
       "    .dataframe tbody tr th {\n",
       "        vertical-align: top;\n",
       "    }\n",
       "\n",
       "    .dataframe thead th {\n",
       "        text-align: right;\n",
       "    }\n",
       "</style>\n",
       "<table border=\"1\" class=\"dataframe\">\n",
       "  <thead>\n",
       "    <tr style=\"text-align: right;\">\n",
       "      <th></th>\n",
       "      <th>Unnamed: 0</th>\n",
       "      <th>pad_size(mm)</th>\n",
       "      <th>coupling_len(um)</th>\n",
       "      <th>Freq1(GHz)</th>\n",
       "      <th>Freq2(GHz)</th>\n",
       "      <th>Freq_EPR1(MHz)</th>\n",
       "      <th>Chi1_1(MHz)</th>\n",
       "      <th>Freq_EPR2(MHz)</th>\n",
       "      <th>Chi2_1(MHz)</th>\n",
       "      <th>Chi2_2(MHz)</th>\n",
       "    </tr>\n",
       "  </thead>\n",
       "  <tbody>\n",
       "  </tbody>\n",
       "</table>\n",
       "</div>"
      ],
      "text/plain": [
       "Empty DataFrame\n",
       "Columns: [Unnamed: 0, pad_size(mm), coupling_len(um), Freq1(GHz), Freq2(GHz), Freq_EPR1(MHz), Chi1_1(MHz), Freq_EPR2(MHz), Chi2_1(MHz), Chi2_2(MHz)]\n",
       "Index: []"
      ]
     },
     "execution_count": 126,
     "metadata": {},
     "output_type": "execute_result"
    }
   ],
   "source": [
    "dat = pd.read_csv('CPW_QB_freq_only2.csv')\n",
    "bol = dat['Chi2_1(MHz)']<1.2\n",
    "dat[bol]"
   ]
  },
  {
   "cell_type": "code",
   "execution_count": 129,
   "metadata": {},
   "outputs": [
    {
     "data": {
      "text/html": [
       "<div>\n",
       "<style scoped>\n",
       "    .dataframe tbody tr th:only-of-type {\n",
       "        vertical-align: middle;\n",
       "    }\n",
       "\n",
       "    .dataframe tbody tr th {\n",
       "        vertical-align: top;\n",
       "    }\n",
       "\n",
       "    .dataframe thead th {\n",
       "        text-align: right;\n",
       "    }\n",
       "</style>\n",
       "<table border=\"1\" class=\"dataframe\">\n",
       "  <thead>\n",
       "    <tr style=\"text-align: right;\">\n",
       "      <th></th>\n",
       "      <th>Unnamed: 0</th>\n",
       "      <th>pad_size(mm)</th>\n",
       "      <th>coupling_len(um)</th>\n",
       "      <th>Freq1(GHz)</th>\n",
       "      <th>Freq2(GHz)</th>\n",
       "      <th>Freq_EPR1(MHz)</th>\n",
       "      <th>Chi1_1(MHz)</th>\n",
       "      <th>Freq_EPR2(MHz)</th>\n",
       "      <th>Chi2_1(MHz)</th>\n",
       "      <th>Chi2_2(MHz)</th>\n",
       "    </tr>\n",
       "  </thead>\n",
       "  <tbody>\n",
       "    <tr>\n",
       "      <th>9</th>\n",
       "      <td>9</td>\n",
       "      <td>0.203333</td>\n",
       "      <td>20.0</td>\n",
       "      <td>4.789996</td>\n",
       "      <td>7.213821</td>\n",
       "      <td>4552.662081</td>\n",
       "      <td>249.968134</td>\n",
       "      <td>7213.144306</td>\n",
       "      <td>1.199628</td>\n",
       "      <td>0.001610</td>\n",
       "    </tr>\n",
       "    <tr>\n",
       "      <th>10</th>\n",
       "      <td>10</td>\n",
       "      <td>0.203333</td>\n",
       "      <td>20.0</td>\n",
       "      <td>4.790005</td>\n",
       "      <td>7.508614</td>\n",
       "      <td>4552.620482</td>\n",
       "      <td>250.055023</td>\n",
       "      <td>7508.020945</td>\n",
       "      <td>1.069961</td>\n",
       "      <td>0.001263</td>\n",
       "    </tr>\n",
       "    <tr>\n",
       "      <th>11</th>\n",
       "      <td>11</td>\n",
       "      <td>0.203333</td>\n",
       "      <td>20.0</td>\n",
       "      <td>4.789705</td>\n",
       "      <td>7.827313</td>\n",
       "      <td>4552.308936</td>\n",
       "      <td>250.096621</td>\n",
       "      <td>7826.790632</td>\n",
       "      <td>0.958747</td>\n",
       "      <td>0.001003</td>\n",
       "    </tr>\n",
       "    <tr>\n",
       "      <th>12</th>\n",
       "      <td>12</td>\n",
       "      <td>0.230000</td>\n",
       "      <td>20.0</td>\n",
       "      <td>4.448481</td>\n",
       "      <td>6.617974</td>\n",
       "      <td>4244.778667</td>\n",
       "      <td>213.825987</td>\n",
       "      <td>6617.375405</td>\n",
       "      <td>1.062931</td>\n",
       "      <td>0.001474</td>\n",
       "    </tr>\n",
       "    <tr>\n",
       "      <th>13</th>\n",
       "      <td>13</td>\n",
       "      <td>0.230000</td>\n",
       "      <td>20.0</td>\n",
       "      <td>4.446451</td>\n",
       "      <td>6.863778</td>\n",
       "      <td>4242.890084</td>\n",
       "      <td>213.705453</td>\n",
       "      <td>6863.254096</td>\n",
       "      <td>0.945022</td>\n",
       "      <td>0.001151</td>\n",
       "    </tr>\n",
       "    <tr>\n",
       "      <th>14</th>\n",
       "      <td>14</td>\n",
       "      <td>0.230000</td>\n",
       "      <td>20.0</td>\n",
       "      <td>4.446729</td>\n",
       "      <td>7.128647</td>\n",
       "      <td>4243.108376</td>\n",
       "      <td>213.798398</td>\n",
       "      <td>7128.184601</td>\n",
       "      <td>0.847721</td>\n",
       "      <td>0.000916</td>\n",
       "    </tr>\n",
       "    <tr>\n",
       "      <th>15</th>\n",
       "      <td>15</td>\n",
       "      <td>0.230000</td>\n",
       "      <td>20.0</td>\n",
       "      <td>4.446933</td>\n",
       "      <td>7.415848</td>\n",
       "      <td>4243.265469</td>\n",
       "      <td>213.871852</td>\n",
       "      <td>7415.433885</td>\n",
       "      <td>0.769088</td>\n",
       "      <td>0.000747</td>\n",
       "    </tr>\n",
       "  </tbody>\n",
       "</table>\n",
       "</div>"
      ],
      "text/plain": [
       "    Unnamed: 0  pad_size(mm)  coupling_len(um)  Freq1(GHz)  Freq2(GHz)  \\\n",
       "9            9      0.203333              20.0    4.789996    7.213821   \n",
       "10          10      0.203333              20.0    4.790005    7.508614   \n",
       "11          11      0.203333              20.0    4.789705    7.827313   \n",
       "12          12      0.230000              20.0    4.448481    6.617974   \n",
       "13          13      0.230000              20.0    4.446451    6.863778   \n",
       "14          14      0.230000              20.0    4.446729    7.128647   \n",
       "15          15      0.230000              20.0    4.446933    7.415848   \n",
       "\n",
       "    Freq_EPR1(MHz)  Chi1_1(MHz)  Freq_EPR2(MHz)  Chi2_1(MHz)  Chi2_2(MHz)  \n",
       "9      4552.662081   249.968134     7213.144306     1.199628     0.001610  \n",
       "10     4552.620482   250.055023     7508.020945     1.069961     0.001263  \n",
       "11     4552.308936   250.096621     7826.790632     0.958747     0.001003  \n",
       "12     4244.778667   213.825987     6617.375405     1.062931     0.001474  \n",
       "13     4242.890084   213.705453     6863.254096     0.945022     0.001151  \n",
       "14     4243.108376   213.798398     7128.184601     0.847721     0.000916  \n",
       "15     4243.265469   213.871852     7415.433885     0.769088     0.000747  "
      ]
     },
     "execution_count": 129,
     "metadata": {},
     "output_type": "execute_result"
    }
   ],
   "source": [
    "dat = pd.read_csv('CPW_QB_freq_only_0321.csv')\n",
    "bol = dat['Chi2_1(MHz)']<1.2\n",
    "dat[bol]"
   ]
  },
  {
   "cell_type": "code",
   "execution_count": 130,
   "metadata": {},
   "outputs": [
    {
     "data": {
      "text/html": [
       "<div>\n",
       "<style scoped>\n",
       "    .dataframe tbody tr th:only-of-type {\n",
       "        vertical-align: middle;\n",
       "    }\n",
       "\n",
       "    .dataframe tbody tr th {\n",
       "        vertical-align: top;\n",
       "    }\n",
       "\n",
       "    .dataframe thead th {\n",
       "        text-align: right;\n",
       "    }\n",
       "</style>\n",
       "<table border=\"1\" class=\"dataframe\">\n",
       "  <thead>\n",
       "    <tr style=\"text-align: right;\">\n",
       "      <th></th>\n",
       "      <th>Unnamed: 0</th>\n",
       "      <th>pad_size(mm)</th>\n",
       "      <th>coupling_len(um)</th>\n",
       "      <th>Freq1(GHz)</th>\n",
       "      <th>Freq2(GHz)</th>\n",
       "      <th>Freq_EPR1(MHz)</th>\n",
       "      <th>Chi1_1(MHz)</th>\n",
       "      <th>Freq_EPR2(MHz)</th>\n",
       "      <th>Chi2_1(MHz)</th>\n",
       "      <th>Chi2_2(MHz)</th>\n",
       "    </tr>\n",
       "  </thead>\n",
       "  <tbody>\n",
       "    <tr>\n",
       "      <th>3</th>\n",
       "      <td>3</td>\n",
       "      <td>0.15</td>\n",
       "      <td>5.0</td>\n",
       "      <td>5.759035</td>\n",
       "      <td>8.8288</td>\n",
       "      <td>5411.217705</td>\n",
       "      <td>369.670014</td>\n",
       "      <td>8828.155214</td>\n",
       "      <td>1.133132</td>\n",
       "      <td>0.000985</td>\n",
       "    </tr>\n",
       "  </tbody>\n",
       "</table>\n",
       "</div>"
      ],
      "text/plain": [
       "   Unnamed: 0  pad_size(mm)  coupling_len(um)  Freq1(GHz)  Freq2(GHz)  \\\n",
       "3           3          0.15               5.0    5.759035      8.8288   \n",
       "\n",
       "   Freq_EPR1(MHz)  Chi1_1(MHz)  Freq_EPR2(MHz)  Chi2_1(MHz)  Chi2_2(MHz)  \n",
       "3     5411.217705   369.670014     8828.155214     1.133132     0.000985  "
      ]
     },
     "execution_count": 130,
     "metadata": {},
     "output_type": "execute_result"
    }
   ],
   "source": [
    "dat = pd.read_csv('CPW_QB_freq_only_0324.csv')\n",
    "bol = dat['Chi2_1(MHz)']<1.2\n",
    "dat[bol]"
   ]
  },
  {
   "cell_type": "code",
   "execution_count": 132,
   "metadata": {},
   "outputs": [
    {
     "data": {
      "text/html": [
       "<div>\n",
       "<style scoped>\n",
       "    .dataframe tbody tr th:only-of-type {\n",
       "        vertical-align: middle;\n",
       "    }\n",
       "\n",
       "    .dataframe tbody tr th {\n",
       "        vertical-align: top;\n",
       "    }\n",
       "\n",
       "    .dataframe thead th {\n",
       "        text-align: right;\n",
       "    }\n",
       "</style>\n",
       "<table border=\"1\" class=\"dataframe\">\n",
       "  <thead>\n",
       "    <tr style=\"text-align: right;\">\n",
       "      <th></th>\n",
       "      <th>Unnamed: 0</th>\n",
       "      <th>pad_size(mm)</th>\n",
       "      <th>coupling_len(um)</th>\n",
       "      <th>Freq1(GHz)</th>\n",
       "      <th>Freq2(GHz)</th>\n",
       "      <th>Freq_EPR1(MHz)</th>\n",
       "      <th>Chi1_1(MHz)</th>\n",
       "      <th>Freq_EPR2(MHz)</th>\n",
       "      <th>Chi2_1(MHz)</th>\n",
       "      <th>Chi2_2(MHz)</th>\n",
       "    </tr>\n",
       "  </thead>\n",
       "  <tbody>\n",
       "    <tr>\n",
       "      <th>1</th>\n",
       "      <td>1</td>\n",
       "      <td>0.176667</td>\n",
       "      <td>5.0</td>\n",
       "      <td>5.228354</td>\n",
       "      <td>7.631265</td>\n",
       "      <td>4943.841971</td>\n",
       "      <td>300.998901</td>\n",
       "      <td>7630.628643</td>\n",
       "      <td>1.097737</td>\n",
       "      <td>0.001145</td>\n",
       "    </tr>\n",
       "    <tr>\n",
       "      <th>2</th>\n",
       "      <td>2</td>\n",
       "      <td>0.176667</td>\n",
       "      <td>5.0</td>\n",
       "      <td>5.224563</td>\n",
       "      <td>7.958424</td>\n",
       "      <td>4940.418734</td>\n",
       "      <td>300.631012</td>\n",
       "      <td>7957.884713</td>\n",
       "      <td>0.952708</td>\n",
       "      <td>0.000849</td>\n",
       "    </tr>\n",
       "    <tr>\n",
       "      <th>3</th>\n",
       "      <td>3</td>\n",
       "      <td>0.176667</td>\n",
       "      <td>5.0</td>\n",
       "      <td>5.227801</td>\n",
       "      <td>8.317782</td>\n",
       "      <td>4943.260185</td>\n",
       "      <td>301.081265</td>\n",
       "      <td>8317.311737</td>\n",
       "      <td>0.849801</td>\n",
       "      <td>0.000665</td>\n",
       "    </tr>\n",
       "    <tr>\n",
       "      <th>4</th>\n",
       "      <td>4</td>\n",
       "      <td>0.203333</td>\n",
       "      <td>5.0</td>\n",
       "      <td>4.800327</td>\n",
       "      <td>6.964961</td>\n",
       "      <td>4561.914447</td>\n",
       "      <td>251.229025</td>\n",
       "      <td>6964.408273</td>\n",
       "      <td>0.959885</td>\n",
       "      <td>0.001042</td>\n",
       "    </tr>\n",
       "  </tbody>\n",
       "</table>\n",
       "</div>"
      ],
      "text/plain": [
       "   Unnamed: 0  pad_size(mm)  coupling_len(um)  Freq1(GHz)  Freq2(GHz)  \\\n",
       "1           1      0.176667               5.0    5.228354    7.631265   \n",
       "2           2      0.176667               5.0    5.224563    7.958424   \n",
       "3           3      0.176667               5.0    5.227801    8.317782   \n",
       "4           4      0.203333               5.0    4.800327    6.964961   \n",
       "\n",
       "   Freq_EPR1(MHz)  Chi1_1(MHz)  Freq_EPR2(MHz)  Chi2_1(MHz)  Chi2_2(MHz)  \n",
       "1     4943.841971   300.998901     7630.628643     1.097737     0.001145  \n",
       "2     4940.418734   300.631012     7957.884713     0.952708     0.000849  \n",
       "3     4943.260185   301.081265     8317.311737     0.849801     0.000665  \n",
       "4     4561.914447   251.229025     6964.408273     0.959885     0.001042  "
      ]
     },
     "execution_count": 132,
     "metadata": {},
     "output_type": "execute_result"
    }
   ],
   "source": [
    "dat = pd.read_csv('CPW_QB_freq_only_0324_2.csv')\n",
    "bol = dat['Chi2_1(MHz)']<1.2\n",
    "dat[bol]"
   ]
  },
  {
   "cell_type": "code",
   "execution_count": null,
   "metadata": {},
   "outputs": [],
   "source": []
  }
 ],
 "metadata": {
  "kernelspec": {
   "display_name": "qmetal",
   "language": "python",
   "name": "qmetal"
  },
  "language_info": {
   "codemirror_mode": {
    "name": "ipython",
    "version": 3
   },
   "file_extension": ".py",
   "mimetype": "text/x-python",
   "name": "python",
   "nbconvert_exporter": "python",
   "pygments_lexer": "ipython3",
   "version": "3.10.8"
  },
  "orig_nbformat": 4
 },
 "nbformat": 4,
 "nbformat_minor": 2
}
