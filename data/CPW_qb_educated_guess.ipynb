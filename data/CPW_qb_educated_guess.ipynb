{
 "cells": [
  {
   "cell_type": "code",
   "execution_count": 16,
   "metadata": {},
   "outputs": [],
   "source": [
    "%reload_ext autoreload\n",
    "%autoreload 2"
   ]
  },
  {
   "cell_type": "code",
   "execution_count": 17,
   "metadata": {},
   "outputs": [],
   "source": [
    "import numpy as np\n",
    "import pandas as pd\n",
    "import matplotlib.pyplot as plt\n",
    "import astropy.units as u\n",
    "import astropy.constants as c\n",
    "import seaborn as sns"
   ]
  },
  {
   "cell_type": "code",
   "execution_count": 18,
   "metadata": {},
   "outputs": [],
   "source": [
    "#This imports the necessary path to draw the single pad transmon design. \n",
    "import sys\n",
    "sys.path.append('../Customized_Components')\n",
    "from rounded_single_pad import Round_TransmonPocket_Single as transmon\n",
    "import Transmon_property as trans_p\n",
    "import Transmon_specifications as jj\n",
    "\n",
    "import shapely\n",
    "import warnings\n",
    "from shapely.errors import ShapelyDeprecationWarning\n",
    "warnings.filterwarnings(\"ignore\", category=ShapelyDeprecationWarning)"
   ]
  },
  {
   "cell_type": "code",
   "execution_count": 4,
   "metadata": {},
   "outputs": [],
   "source": [
    "import shapely\n",
    "import warnings\n",
    "from shapely.errors import ShapelyDeprecationWarning\n",
    "warnings.filterwarnings(\"ignore\", category=RuntimeWarning)"
   ]
  },
  {
   "cell_type": "code",
   "execution_count": 5,
   "metadata": {},
   "outputs": [],
   "source": [
    "from qiskit_metal import designs, draw\n",
    "from qiskit_metal import MetalGUI, Dict, Headings\n",
    "\n",
    "from qiskit_metal.qlibrary.couplers.coupled_line_tee import CoupledLineTee\n",
    "\n",
    "from qiskit_metal.qlibrary.tlines.mixed_path import RouteMixed\n",
    "from qiskit_metal.qlibrary.tlines.straight_path import RouteStraight"
   ]
  },
  {
   "cell_type": "code",
   "execution_count": 6,
   "metadata": {},
   "outputs": [],
   "source": [
    "import seaborn as sns"
   ]
  },
  {
   "cell_type": "code",
   "execution_count": 7,
   "metadata": {},
   "outputs": [],
   "source": [
    "phi0 = c.h/2/c.e.si\n",
    "T = 30*u.mK\n",
    "epsilon_r = 11.45\n",
    "cc = 1664080*u.fF/u.m"
   ]
  },
  {
   "cell_type": "code",
   "execution_count": 8,
   "metadata": {},
   "outputs": [
    {
     "name": "stderr",
     "output_type": "stream",
     "text": [
      "04:07PM 20s CRITICAL [_qt_message_handler]: line: 0, func: None(), file: None  WARNING: Populating font family aliases took 149 ms. Replace uses of missing font family \"Courier\" with one that exists to avoid this cost. \n",
      "\n"
     ]
    }
   ],
   "source": [
    "design = designs.DesignPlanar({}, True)\n",
    "design.chips.main.size['size_x'] = '20 mm'\n",
    "design.chips.main.size['size_y'] = '10 mm'\n",
    "\n",
    "design.variables['cpw_width'] = '15.9 um'\n",
    "design.variables['cpw_gap'] = '9 um'\n",
    "\n",
    "design.variables['trace_width'] = '12.4 um'\n",
    "cpw_pin_width = 12.4*u.um\n",
    "design.variables['trace_gap'] = '7 um'\n",
    "cpw_gap = 7*u.um\n",
    "\n",
    "design.variables['pad_buffer_radius'] = '30 um'\n",
    "design.variables['buffer_resolution'] = '10'\n",
    "design.variables['connection_pad_buffer_radius'] = '2 um'\n",
    "\n",
    "# design.chips['main']['material'] = 'Silicon'\n",
    "\n",
    "gui = MetalGUI(design)"
   ]
  },
  {
   "cell_type": "markdown",
   "metadata": {},
   "source": [
    "Component-specific variables"
   ]
  },
  {
   "cell_type": "code",
   "execution_count": 9,
   "metadata": {},
   "outputs": [],
   "source": [
    "\n",
    "\n",
    "qb_options = dict(\n",
    "pad_pocket_distance_top = '40um',\n",
    "connection_pads = dict(\n",
    "    a = dict(loc_W  = 0, \n",
    "            loc_H =  1, \n",
    "            pad_gap = '10um',\n",
    "            pad_height = '20um',\n",
    "            pad_width = '80um',\n",
    "            pad_cpw_extent =  '10um',\n",
    "            pocket_rise = '0um',\n",
    "            cpw_extend = '0um',\n",
    "            pocket_extent = '0um')))\n",
    "\n",
    "\n",
    "TQ_options = dict(prime_width = design.variables['cpw_width'],\n",
    "               prime_gap = design.variables['cpw_gap'],\n",
    "               second_width = design.variables['trace_width'],\n",
    "               second_gap = design.variables['trace_gap'],\n",
    "               down_length = '60um',\n",
    "               coupling_space = '5um',\n",
    "               open_termination=False,\n",
    "               hfss_wire_bonds = False,\n",
    "               q3d_wire_bonds = False)\n",
    "\n",
    "CPW_options = Dict(trace_width = design.variables['trace_width'],\n",
    "               trace_gap  = design.variables['trace_gap'],\n",
    "        total_length='5 mm',\n",
    "        hfss_wire_bonds = True,\n",
    "        q3d_wire_bonds = True,\n",
    "        fillet='30 um',\n",
    "        lead = dict(start_straight='20um', end_straight = '50um'),\n",
    "        pin_inputs=Dict(\n",
    "            start_pin=Dict(component='Q1', pin='a'),\n",
    "            end_pin=Dict(component='TQ1', pin='second_end')), )\n",
    "\n",
    "pin_inputs = Dict(\n",
    "            start_pin=Dict(component='Q1', pin='a'),\n",
    "            end_pin=Dict(component='TQ1', pin='second_end'))\n",
    "\n",
    "trans_options = Dict(hfss_wire_bonds = True,\n",
    "                     q3d_wirebonds = True,\n",
    "               pin_inputs=Dict(\n",
    "                 start_pin=Dict(\n",
    "                     component='TQ1',\n",
    "                     pin='prime_start'),\n",
    "                 end_pin=Dict(\n",
    "                     component='TQ2',\n",
    "                     pin='prime_end')))\n"
   ]
  },
  {
   "cell_type": "markdown",
   "metadata": {},
   "source": [
    "## Single Pad--Verify Design"
   ]
  },
  {
   "cell_type": "markdown",
   "metadata": {},
   "source": [
    "### Draw the single pad transmon"
   ]
  },
  {
   "cell_type": "code",
   "execution_count": 10,
   "metadata": {},
   "outputs": [],
   "source": [
    "design.delete_all_components()"
   ]
  },
  {
   "cell_type": "code",
   "execution_count": 19,
   "metadata": {},
   "outputs": [],
   "source": [
    "design.overwrite_enabled = True\n",
    "\n",
    "size = 0.25*u.mm\n",
    "gap = 30*u.um\n",
    "size = size.to(u.um)\n",
    "pocket_width = size+2*gap\n",
    "\n",
    "\n",
    "op = Dict(\n",
    "    pos_x = '0',\n",
    "    pad_height = '{}um'.format(size.value),\n",
    "    pos_y = '0',\n",
    "    pad_width = '{}'.format(size),\n",
    "    pocket_width = '{}'.format(pocket_width), \n",
    "    **qb_options)\n",
    "\n",
    "q1 = transmon(design,'Q1',options = op)\n",
    "\n",
    "gui.rebuild()\n",
    "gui.zoom_on_components(['Q1'])\n"
   ]
  },
  {
   "cell_type": "code",
   "execution_count": 41,
   "metadata": {},
   "outputs": [],
   "source": [
    "TQ_options['down_length'] = '40 um'\n",
    "TQ1 = CoupledLineTee(design, 'TQ1', options=dict(pos_x='-0.1 mm',\n",
    "                                             pos_y='0.5 mm',\n",
    "                                             mirror = True,\n",
    "                                             coupling_length='120 um', **TQ_options))\n",
    "TQ1.options['open_termination'] = False\n",
    "\n",
    "gui.rebuild()\n",
    "gui.autoscale()\n",
    "\n"
   ]
  },
  {
   "cell_type": "code",
   "execution_count": null,
   "metadata": {},
   "outputs": [],
   "source": []
  },
  {
   "cell_type": "code",
   "execution_count": 180,
   "metadata": {},
   "outputs": [],
   "source": [
    "def find_cpw_freq(pad_size, offset, extend, buffer = 150*u.um,small = False):\n",
    "    gap1 = 0.056\n",
    "    gap = 30*u.um\n",
    "    size = pad_size.to(u.um)\n",
    "    pocket_width = size+2*gap\n",
    "    design.delete_component('cpw_1')\n",
    "    coupling_len = extend\n",
    "    q1.options['pad_height'] = '{}'.format(size)\n",
    "    q1.options['pad_width'] = '{}'.format(size)\n",
    "    q1.options['pocket_width'] = '{}'.format(pocket_width)\n",
    "    q1.options['connection_pads']['a']['pad_width'] = '{}'.format(coupling_len)\n",
    "    # TQ1.options['open_termination'] = True\n",
    "    gui.rebuild()\n",
    "\n",
    "    anchors = trans_p.anchor_CPW_round(q1,buffer, gap1, 2, small = small, last_offset = offset)\n",
    "    print(anchors)\n",
    "    design.delete_component('cpw_1')\n",
    "\n",
    "\n",
    "    pin_inputs = Dict(\n",
    "                start_pin=Dict(component='Q1', pin='a'),\n",
    "                end_pin=Dict(component='TQ1', pin='second_end'))\n",
    "\n",
    "    CPW_options['pin_inputs'] = pin_inputs\n",
    "\n",
    "    qa = RouteMixed(design, 'cpw_1', options = Dict(anchors = anchors, **CPW_options))\n",
    "\n",
    "    gui.rebuild()\n",
    "    gui.autoscale()\n",
    "    \n",
    "    length = trans_p.find_total_len(qa, q1, TQ1, count_extend=False)\n",
    "    return (trans_p.find_actual_frequency(length, cpw_pin_width, cpw_gap), length)"
   ]
  },
  {
   "cell_type": "code",
   "execution_count": null,
   "metadata": {},
   "outputs": [],
   "source": []
  },
  {
   "cell_type": "code",
   "execution_count": 221,
   "metadata": {},
   "outputs": [],
   "source": [
    "freqs = np.arange(4, 6, 0.2)\n",
    "sizes = [250,235,208,200,182,172,165,150,138,131]\n",
    "Ljs = ['13nH','13nH','13nH','13nH','13nH','13nH','13nH','13nH','13nH','13nH']\n",
    "buffers = [188,184,193,205,206,205,206,207,209,211]\n",
    "offsets = list(np.full(10,0))\n",
    "coupling_space = np.array([])\n",
    "TQx = ['-0.1mm','-0.1mm','-0.1mm','-0.1mm','-0.1mm',\n",
    "       '-0.1mm','-0.1mm','-0.1mm','-0.1mm','-0.1mm',]\n",
    "TQy = ['0.5mm','0.5mm','0.5mm','0.5mm','0.5mm',\n",
    "       '0.5mm','0.5mm','0.5mm','0.5mm','0.5mm',]"
   ]
  },
  {
   "cell_type": "code",
   "execution_count": 302,
   "metadata": {},
   "outputs": [],
   "source": [
    "smalls = np.full(10,False)\n",
    "TQ_mir = np.full(10,False)"
   ]
  },
  {
   "cell_type": "code",
   "execution_count": 370,
   "metadata": {},
   "outputs": [],
   "source": [
    "d = {}"
   ]
  },
  {
   "cell_type": "code",
   "execution_count": 374,
   "metadata": {},
   "outputs": [
    {
     "data": {
      "text/plain": [
       "[13, 13, 13, 13, 10, 10, 8, 8, 8, 8]"
      ]
     },
     "execution_count": 374,
     "metadata": {},
     "output_type": "execute_result"
    }
   ],
   "source": [
    "[int(l[:-2]) for l in Ljs]"
   ]
  },
  {
   "cell_type": "code",
   "execution_count": 375,
   "metadata": {},
   "outputs": [],
   "source": [
    "\n",
    "d['Target_qb_Freq(GHz)'] = freqs\n",
    "d['Sizes (um)'] = sizes\n",
    "d['Ljs'] = Ljs\n",
    "d['Ljs (nH)'] = [int(l[:-2]) for l in Ljs]\n",
    "d['Buffers (um)'] = buffers\n",
    "d['Offsets (mm)'] = offsets\n",
    "d['TQx'] = TQx\n",
    "d['TQy'] = TQy\n",
    "d['Small'] = smalls\n",
    "d['TQ_mir'] = TQ_mir\n",
    "d['CPW_freq_predict(GHz)'] = cpw_freq_predict"
   ]
  },
  {
   "cell_type": "code",
   "execution_count": 377,
   "metadata": {},
   "outputs": [],
   "source": [
    "data = pd.DataFrame(d)"
   ]
  },
  {
   "cell_type": "code",
   "execution_count": 378,
   "metadata": {},
   "outputs": [],
   "source": [
    "data.to_csv('educated_guess_0402.csv')"
   ]
  },
  {
   "cell_type": "code",
   "execution_count": 292,
   "metadata": {},
   "outputs": [
    {
     "data": {
      "text/plain": [
       "5.000000000000001"
      ]
     },
     "execution_count": 292,
     "metadata": {},
     "output_type": "execute_result"
    }
   ],
   "source": [
    "freqs[5]"
   ]
  },
  {
   "cell_type": "code",
   "execution_count": 308,
   "metadata": {},
   "outputs": [],
   "source": [
    "cpw_freq_predict = list(np.full(10,0))"
   ]
  },
  {
   "cell_type": "code",
   "execution_count": 360,
   "metadata": {},
   "outputs": [
    {
     "name": "stderr",
     "output_type": "stream",
     "text": [
      "06:00PM 20s INFO [delete_component]: Called delete_component cpw_1, but such a component is not in the design cache dictionary of components.\n"
     ]
    },
    {
     "name": "stdout",
     "output_type": "stream",
     "text": [
      "OrderedDict([(0, array([0.2415, 0.2415])), (1, array([ 0.2415, -0.2415])), (2, array([-0.2415, -0.2415])), (3, array([-0.2415,  0.2415])), (4, array([0.2975, 0.2975])), (5, array([ 0.2975, -0.2335])), (6, array([ 0.3815, -0.2335])), (7, array([0.3815, 0.2975]))])\n",
      "193.0 um 5.800000000000002 8nH\n",
      "5.800000000000002\n",
      "The resonator frequency is 8.206983437223217 GHz 8.200000000000001\n"
     ]
    }
   ],
   "source": [
    "\n",
    "\n",
    "# dic = {}\n",
    "# dic['Target Frequencies'] = freqs\n",
    "# dic['Buffer'] = buffers\n",
    "# dic['Offset'] = offsets\n",
    "# dic['Sizes'] = sizes\n",
    "# # dic['CPW_lengths(mm)'] = lengths\n",
    "\n",
    "# data = pd.DataFrame(dic)\n",
    "# data\n",
    "\n",
    "n =  9\n",
    "smalls[n] = True\n",
    "TQ_mir[n] = False\n",
    "# sizes[n] = 214\n",
    "# buffers[n] = 210\n",
    "# Ljs[n] = '10nH'\n",
    "# TQx[n] = '0.09mm'\n",
    "# TQy[n] = '0.5mm'\n",
    "TQ1.options.pos_x = TQx[n]\n",
    "TQ1.options.pos_y = TQy[n]\n",
    "TQ1.options.mirror = TQ_mir[n]\n",
    "pad_size = sizes[n]*u.um\n",
    "buffer = buffers[n]*u.um\n",
    "\n",
    "# offsets[n] = 0.055\n",
    "coupling_len = 20*u.um\n",
    "\n",
    "wr = find_cpw_freq(pad_size, offsets[n], coupling_len, buffer,small = smalls[n])[0]\n",
    "cpw_freq_predict[n] = wr.value\n",
    "print(pad_size,freqs[n],Ljs[n])\n",
    "print(freqs[n])\n",
    "print('The resonator frequency is', wr, freqs[n]+2.4)"
   ]
  },
  {
   "cell_type": "code",
   "execution_count": 359,
   "metadata": {},
   "outputs": [],
   "source": [
    "offsets[n] = 0.064"
   ]
  },
  {
   "cell_type": "code",
   "execution_count": 344,
   "metadata": {},
   "outputs": [],
   "source": [
    "TQx[n] = '-0.232mm'\n",
    "TQy[n] = '0.5mm'\n",
    "sizes[n] = 187"
   ]
  },
  {
   "cell_type": "code",
   "execution_count": 316,
   "metadata": {},
   "outputs": [
    {
     "data": {
      "text/plain": [
       "['0.5mm',\n",
       " '0.5mm',\n",
       " '0.5mm',\n",
       " '0.5mm',\n",
       " '0.5mm',\n",
       " '0.5mm',\n",
       " '0.46mm',\n",
       " '0.46mm',\n",
       " '0.46mm',\n",
       " '0.46mm']"
      ]
     },
     "execution_count": 316,
     "metadata": {},
     "output_type": "execute_result"
    }
   ],
   "source": [
    "TQy"
   ]
  },
  {
   "cell_type": "code",
   "execution_count": 311,
   "metadata": {},
   "outputs": [
    {
     "data": {
      "text/plain": [
       "[6.407372605569507, 0, 0, 0, 0, 0, 0, 0, 0, 0]"
      ]
     },
     "execution_count": 311,
     "metadata": {},
     "output_type": "execute_result"
    }
   ],
   "source": [
    "cpw_freq_predict"
   ]
  },
  {
   "cell_type": "code",
   "execution_count": 275,
   "metadata": {},
   "outputs": [
    {
     "data": {
      "text/plain": [
       "0.3365"
      ]
     },
     "execution_count": 275,
     "metadata": {},
     "output_type": "execute_result"
    }
   ],
   "source": [
    "0.3965-0.06"
   ]
  },
  {
   "cell_type": "code",
   "execution_count": 230,
   "metadata": {},
   "outputs": [
    {
     "data": {
      "text/plain": [
       "[0, 0, 0, 0, 0, 0, 0.042, 0, 0, 0]"
      ]
     },
     "execution_count": 230,
     "metadata": {},
     "output_type": "execute_result"
    }
   ],
   "source": [
    "offsets"
   ]
  },
  {
   "cell_type": "code",
   "execution_count": 255,
   "metadata": {},
   "outputs": [],
   "source": [
    "data = pd.DataFrame()"
   ]
  },
  {
   "cell_type": "code",
   "execution_count": 256,
   "metadata": {},
   "outputs": [],
   "source": [
    "d = {}"
   ]
  },
  {
   "cell_type": "code",
   "execution_count": null,
   "metadata": {},
   "outputs": [],
   "source": [
    "d['Sizes (um)'] = sizes"
   ]
  },
  {
   "cell_type": "code",
   "execution_count": null,
   "metadata": {},
   "outputs": [],
   "source": []
  },
  {
   "cell_type": "code",
   "execution_count": null,
   "metadata": {},
   "outputs": [],
   "source": []
  },
  {
   "cell_type": "code",
   "execution_count": 128,
   "metadata": {},
   "outputs": [
    {
     "name": "stdout",
     "output_type": "stream",
     "text": [
      "168.0 um\n",
      "[250, 235, 208, 245, 223, 210, 165, 150, 138, 131]\n",
      "['-0.1mm', '-0.1mm', '-0.1mm', '-0.242mm', '-0.2315mm', '-0.225mm', '-0.1mm', '-0.1mm', '-0.1mm', '-0.1mm']\n"
     ]
    }
   ],
   "source": [
    "print(buffer)\n",
    "print(sizes)\n",
    "print(TQx)"
   ]
  },
  {
   "cell_type": "code",
   "execution_count": 94,
   "metadata": {},
   "outputs": [
    {
     "name": "stdout",
     "output_type": "stream",
     "text": [
      "[4.753162787842315]\n",
      "[4.753162787842315, 4.613162787842316]\n",
      "[4.753162787842315, 4.613162787842316, 4.477162787842316]\n",
      "[4.753162787842315, 4.613162787842316, 4.477162787842316, 4.355162787842316]\n",
      "[4.753162787842315, 4.613162787842316, 4.477162787842316, 4.355162787842316, 4.225162787842316]\n",
      "[4.753162787842315, 4.613162787842316, 4.477162787842316, 4.355162787842316, 4.225162787842316, 4.1151627878423165]\n",
      "[4.753162787842315, 4.613162787842316, 4.477162787842316, 4.355162787842316, 4.225162787842316, 4.1151627878423165, 4.007162787842316]\n",
      "[4.753162787842315, 4.613162787842316, 4.477162787842316, 4.355162787842316, 4.225162787842316, 4.1151627878423165, 4.007162787842316, 3.903162787842316]\n",
      "[4.753162787842315, 4.613162787842316, 4.477162787842316, 4.355162787842316, 4.225162787842316, 4.1151627878423165, 4.007162787842316, 3.903162787842316, 3.8031627878423158]\n",
      "[4.753162787842315, 4.613162787842316, 4.477162787842316, 4.355162787842316, 4.225162787842316, 4.1151627878423165, 4.007162787842316, 3.903162787842316, 3.8031627878423158, 3.717162787842317]\n"
     ]
    }
   ],
   "source": [
    "dimless_length = []\n",
    "for i in range(10):\n",
    "    dimless_length += [lengths[i].value]\n",
    "    print(dimless_length)"
   ]
  },
  {
   "cell_type": "code",
   "execution_count": 95,
   "metadata": {},
   "outputs": [
    {
     "data": {
      "text/plain": [
       "[4.753162787842315,\n",
       " 4.613162787842316,\n",
       " 4.477162787842316,\n",
       " 4.355162787842316,\n",
       " 4.225162787842316,\n",
       " 4.1151627878423165,\n",
       " 4.007162787842316,\n",
       " 3.903162787842316,\n",
       " 3.8031627878423158,\n",
       " 3.717162787842317]"
      ]
     },
     "execution_count": 95,
     "metadata": {},
     "output_type": "execute_result"
    }
   ],
   "source": [
    "dimless_length"
   ]
  },
  {
   "cell_type": "code",
   "execution_count": 90,
   "metadata": {},
   "outputs": [
    {
     "data": {
      "text/latex": [
       "$3.7171628 \\; \\mathrm{mm}$"
      ],
      "text/plain": [
       "<Quantity 3.71716279 mm>"
      ]
     },
     "execution_count": 90,
     "metadata": {},
     "output_type": "execute_result"
    }
   ],
   "source": [
    "lengths[n]"
   ]
  },
  {
   "cell_type": "code",
   "execution_count": 78,
   "metadata": {},
   "outputs": [],
   "source": [
    "lengths = []"
   ]
  },
  {
   "cell_type": "code",
   "execution_count": 79,
   "metadata": {},
   "outputs": [
    {
     "name": "stderr",
     "output_type": "stream",
     "text": [
      "WARNING:py.warnings:/Users/wendy/miniconda3/envs/qiskit/lib/python3.11/site-packages/shapely/constructive.py:181: RuntimeWarning: invalid value encountered in buffer\n",
      "  return lib.buffer(\n",
      "\n",
      "WARNING:py.warnings:/Users/wendy/miniconda3/envs/qiskit/lib/python3.11/site-packages/shapely/constructive.py:181: RuntimeWarning: invalid value encountered in buffer\n",
      "  return lib.buffer(\n",
      "\n",
      "07:11PM 07s INFO [delete_component]: Called delete_component cpw_1, but such a component is not in the design cache dictionary of components.\n",
      "WARNING:py.warnings:/Users/wendy/miniconda3/envs/qiskit/lib/python3.11/site-packages/shapely/constructive.py:181: RuntimeWarning: invalid value encountered in buffer\n",
      "  return lib.buffer(\n",
      "\n",
      "WARNING:py.warnings:/Users/wendy/miniconda3/envs/qiskit/lib/python3.11/site-packages/shapely/constructive.py:181: RuntimeWarning: invalid value encountered in buffer\n",
      "  return lib.buffer(\n",
      "\n",
      "WARNING:py.warnings:/Users/wendy/miniconda3/envs/qiskit/lib/python3.11/site-packages/shapely/constructive.py:181: RuntimeWarning: invalid value encountered in buffer\n",
      "  return lib.buffer(\n",
      "\n",
      "WARNING:py.warnings:/Users/wendy/miniconda3/envs/qiskit/lib/python3.11/site-packages/shapely/constructive.py:181: RuntimeWarning: invalid value encountered in buffer\n",
      "  return lib.buffer(\n",
      "\n",
      "07:11PM 07s INFO [delete_component]: Called delete_component cpw_1, but such a component is not in the design cache dictionary of components.\n"
     ]
    },
    {
     "name": "stdout",
     "output_type": "stream",
     "text": [
      "The resonator frequency is 6.407273000416871 GHz 6.4\n"
     ]
    },
    {
     "name": "stderr",
     "output_type": "stream",
     "text": [
      "WARNING:py.warnings:/Users/wendy/miniconda3/envs/qiskit/lib/python3.11/site-packages/shapely/constructive.py:181: RuntimeWarning: invalid value encountered in buffer\n",
      "  return lib.buffer(\n",
      "\n",
      "WARNING:py.warnings:/Users/wendy/miniconda3/envs/qiskit/lib/python3.11/site-packages/shapely/constructive.py:181: RuntimeWarning: invalid value encountered in buffer\n",
      "  return lib.buffer(\n",
      "\n",
      "WARNING:py.warnings:/Users/wendy/miniconda3/envs/qiskit/lib/python3.11/site-packages/shapely/constructive.py:181: RuntimeWarning: invalid value encountered in buffer\n",
      "  return lib.buffer(\n",
      "\n",
      "WARNING:py.warnings:/Users/wendy/miniconda3/envs/qiskit/lib/python3.11/site-packages/shapely/constructive.py:181: RuntimeWarning: invalid value encountered in buffer\n",
      "  return lib.buffer(\n",
      "\n",
      "07:11PM 08s INFO [delete_component]: Called delete_component cpw_1, but such a component is not in the design cache dictionary of components.\n"
     ]
    },
    {
     "name": "stdout",
     "output_type": "stream",
     "text": [
      "The resonator frequency is 6.601720554364541 GHz 6.6\n"
     ]
    },
    {
     "name": "stderr",
     "output_type": "stream",
     "text": [
      "WARNING:py.warnings:/Users/wendy/miniconda3/envs/qiskit/lib/python3.11/site-packages/shapely/constructive.py:181: RuntimeWarning: invalid value encountered in buffer\n",
      "  return lib.buffer(\n",
      "\n",
      "WARNING:py.warnings:/Users/wendy/miniconda3/envs/qiskit/lib/python3.11/site-packages/shapely/constructive.py:181: RuntimeWarning: invalid value encountered in buffer\n",
      "  return lib.buffer(\n",
      "\n",
      "WARNING:py.warnings:/Users/wendy/miniconda3/envs/qiskit/lib/python3.11/site-packages/shapely/constructive.py:181: RuntimeWarning: invalid value encountered in buffer\n",
      "  return lib.buffer(\n",
      "\n",
      "WARNING:py.warnings:/Users/wendy/miniconda3/envs/qiskit/lib/python3.11/site-packages/shapely/constructive.py:181: RuntimeWarning: invalid value encountered in buffer\n",
      "  return lib.buffer(\n",
      "\n",
      "07:11PM 08s INFO [delete_component]: Called delete_component cpw_1, but such a component is not in the design cache dictionary of components.\n"
     ]
    },
    {
     "name": "stdout",
     "output_type": "stream",
     "text": [
      "The resonator frequency is 6.8022569292829695 GHz 6.800000000000001\n"
     ]
    },
    {
     "name": "stderr",
     "output_type": "stream",
     "text": [
      "WARNING:py.warnings:/Users/wendy/miniconda3/envs/qiskit/lib/python3.11/site-packages/shapely/constructive.py:181: RuntimeWarning: invalid value encountered in buffer\n",
      "  return lib.buffer(\n",
      "\n",
      "WARNING:py.warnings:/Users/wendy/miniconda3/envs/qiskit/lib/python3.11/site-packages/shapely/constructive.py:181: RuntimeWarning: invalid value encountered in buffer\n",
      "  return lib.buffer(\n",
      "\n",
      "WARNING:py.warnings:/Users/wendy/miniconda3/envs/qiskit/lib/python3.11/site-packages/shapely/constructive.py:181: RuntimeWarning: invalid value encountered in buffer\n",
      "  return lib.buffer(\n",
      "\n",
      "WARNING:py.warnings:/Users/wendy/miniconda3/envs/qiskit/lib/python3.11/site-packages/shapely/constructive.py:181: RuntimeWarning: invalid value encountered in buffer\n",
      "  return lib.buffer(\n",
      "\n",
      "07:11PM 08s INFO [delete_component]: Called delete_component cpw_1, but such a component is not in the design cache dictionary of components.\n"
     ]
    },
    {
     "name": "stdout",
     "output_type": "stream",
     "text": [
      "The resonator frequency is 6.992806717155231 GHz 7.0\n"
     ]
    },
    {
     "name": "stderr",
     "output_type": "stream",
     "text": [
      "WARNING:py.warnings:/Users/wendy/miniconda3/envs/qiskit/lib/python3.11/site-packages/shapely/constructive.py:181: RuntimeWarning: invalid value encountered in buffer\n",
      "  return lib.buffer(\n",
      "\n",
      "WARNING:py.warnings:/Users/wendy/miniconda3/envs/qiskit/lib/python3.11/site-packages/shapely/constructive.py:181: RuntimeWarning: invalid value encountered in buffer\n",
      "  return lib.buffer(\n",
      "\n",
      "WARNING:py.warnings:/Users/wendy/miniconda3/envs/qiskit/lib/python3.11/site-packages/shapely/constructive.py:181: RuntimeWarning: invalid value encountered in buffer\n",
      "  return lib.buffer(\n",
      "\n",
      "WARNING:py.warnings:/Users/wendy/miniconda3/envs/qiskit/lib/python3.11/site-packages/shapely/constructive.py:181: RuntimeWarning: invalid value encountered in buffer\n",
      "  return lib.buffer(\n",
      "\n",
      "07:11PM 09s INFO [delete_component]: Called delete_component cpw_1, but such a component is not in the design cache dictionary of components.\n"
     ]
    },
    {
     "name": "stdout",
     "output_type": "stream",
     "text": [
      "The resonator frequency is 7.207961710909783 GHz 7.200000000000001\n"
     ]
    },
    {
     "name": "stderr",
     "output_type": "stream",
     "text": [
      "WARNING:py.warnings:/Users/wendy/miniconda3/envs/qiskit/lib/python3.11/site-packages/shapely/constructive.py:181: RuntimeWarning: invalid value encountered in buffer\n",
      "  return lib.buffer(\n",
      "\n",
      "WARNING:py.warnings:/Users/wendy/miniconda3/envs/qiskit/lib/python3.11/site-packages/shapely/constructive.py:181: RuntimeWarning: invalid value encountered in buffer\n",
      "  return lib.buffer(\n",
      "\n",
      "WARNING:py.warnings:/Users/wendy/miniconda3/envs/qiskit/lib/python3.11/site-packages/shapely/constructive.py:181: RuntimeWarning: invalid value encountered in buffer\n",
      "  return lib.buffer(\n",
      "\n",
      "WARNING:py.warnings:/Users/wendy/miniconda3/envs/qiskit/lib/python3.11/site-packages/shapely/constructive.py:181: RuntimeWarning: invalid value encountered in buffer\n",
      "  return lib.buffer(\n",
      "\n",
      "07:11PM 09s INFO [delete_component]: Called delete_component cpw_1, but such a component is not in the design cache dictionary of components.\n"
     ]
    },
    {
     "name": "stdout",
     "output_type": "stream",
     "text": [
      "The resonator frequency is 7.400633502787012 GHz 7.4\n"
     ]
    },
    {
     "name": "stderr",
     "output_type": "stream",
     "text": [
      "WARNING:py.warnings:/Users/wendy/miniconda3/envs/qiskit/lib/python3.11/site-packages/shapely/constructive.py:181: RuntimeWarning: invalid value encountered in buffer\n",
      "  return lib.buffer(\n",
      "\n",
      "WARNING:py.warnings:/Users/wendy/miniconda3/envs/qiskit/lib/python3.11/site-packages/shapely/constructive.py:181: RuntimeWarning: invalid value encountered in buffer\n",
      "  return lib.buffer(\n",
      "\n",
      "WARNING:py.warnings:/Users/wendy/miniconda3/envs/qiskit/lib/python3.11/site-packages/shapely/constructive.py:181: RuntimeWarning: invalid value encountered in buffer\n",
      "  return lib.buffer(\n",
      "\n",
      "WARNING:py.warnings:/Users/wendy/miniconda3/envs/qiskit/lib/python3.11/site-packages/shapely/constructive.py:181: RuntimeWarning: invalid value encountered in buffer\n",
      "  return lib.buffer(\n",
      "\n",
      "07:11PM 09s INFO [delete_component]: Called delete_component cpw_1, but such a component is not in the design cache dictionary of components.\n"
     ]
    },
    {
     "name": "stdout",
     "output_type": "stream",
     "text": [
      "The resonator frequency is 7.60009343506777 GHz 7.600000000000001\n"
     ]
    },
    {
     "name": "stderr",
     "output_type": "stream",
     "text": [
      "WARNING:py.warnings:/Users/wendy/miniconda3/envs/qiskit/lib/python3.11/site-packages/shapely/constructive.py:181: RuntimeWarning: invalid value encountered in buffer\n",
      "  return lib.buffer(\n",
      "\n",
      "WARNING:py.warnings:/Users/wendy/miniconda3/envs/qiskit/lib/python3.11/site-packages/shapely/constructive.py:181: RuntimeWarning: invalid value encountered in buffer\n",
      "  return lib.buffer(\n",
      "\n",
      "WARNING:py.warnings:/Users/wendy/miniconda3/envs/qiskit/lib/python3.11/site-packages/shapely/constructive.py:181: RuntimeWarning: invalid value encountered in buffer\n",
      "  return lib.buffer(\n",
      "\n",
      "WARNING:py.warnings:/Users/wendy/miniconda3/envs/qiskit/lib/python3.11/site-packages/shapely/constructive.py:181: RuntimeWarning: invalid value encountered in buffer\n",
      "  return lib.buffer(\n",
      "\n",
      "07:11PM 10s INFO [delete_component]: Called delete_component cpw_1, but such a component is not in the design cache dictionary of components.\n"
     ]
    },
    {
     "name": "stdout",
     "output_type": "stream",
     "text": [
      "The resonator frequency is 7.802598367659626 GHz 7.800000000000001\n"
     ]
    },
    {
     "name": "stderr",
     "output_type": "stream",
     "text": [
      "WARNING:py.warnings:/Users/wendy/miniconda3/envs/qiskit/lib/python3.11/site-packages/shapely/constructive.py:181: RuntimeWarning: invalid value encountered in buffer\n",
      "  return lib.buffer(\n",
      "\n",
      "WARNING:py.warnings:/Users/wendy/miniconda3/envs/qiskit/lib/python3.11/site-packages/shapely/constructive.py:181: RuntimeWarning: invalid value encountered in buffer\n",
      "  return lib.buffer(\n",
      "\n",
      "WARNING:py.warnings:/Users/wendy/miniconda3/envs/qiskit/lib/python3.11/site-packages/shapely/constructive.py:181: RuntimeWarning: invalid value encountered in buffer\n",
      "  return lib.buffer(\n",
      "\n",
      "WARNING:py.warnings:/Users/wendy/miniconda3/envs/qiskit/lib/python3.11/site-packages/shapely/constructive.py:181: RuntimeWarning: invalid value encountered in buffer\n",
      "  return lib.buffer(\n",
      "\n",
      "07:11PM 10s INFO [delete_component]: Called delete_component cpw_1, but such a component is not in the design cache dictionary of components.\n"
     ]
    },
    {
     "name": "stdout",
     "output_type": "stream",
     "text": [
      "The resonator frequency is 8.007759145752072 GHz 8.000000000000002\n"
     ]
    },
    {
     "name": "stderr",
     "output_type": "stream",
     "text": [
      "WARNING:py.warnings:/Users/wendy/miniconda3/envs/qiskit/lib/python3.11/site-packages/shapely/constructive.py:181: RuntimeWarning: invalid value encountered in buffer\n",
      "  return lib.buffer(\n",
      "\n",
      "WARNING:py.warnings:/Users/wendy/miniconda3/envs/qiskit/lib/python3.11/site-packages/shapely/constructive.py:181: RuntimeWarning: invalid value encountered in buffer\n",
      "  return lib.buffer(\n",
      "\n"
     ]
    },
    {
     "name": "stdout",
     "output_type": "stream",
     "text": [
      "The resonator frequency is 8.193026061903035 GHz 8.200000000000001\n"
     ]
    }
   ],
   "source": [
    "for n in range(10):\n",
    "    pad_size = sizes[n]*u.um\n",
    "    buffer = buffers[n]*u.um\n",
    "    offset = offsets[n]\n",
    "    coupling_len = 20*u.um\n",
    "\n",
    "    wr,length = find_cpw_freq(pad_size, offset, coupling_len, buffer)\n",
    "    lengths += [length]\n",
    "    print('The resonator frequency is', wr, freqs[n]+2.4)\n"
   ]
  },
  {
   "cell_type": "code",
   "execution_count": 80,
   "metadata": {},
   "outputs": [
    {
     "data": {
      "text/latex": [
       "$3.7171628 \\; \\mathrm{mm}$"
      ],
      "text/plain": [
       "<Quantity 3.71716279 mm>"
      ]
     },
     "execution_count": 80,
     "metadata": {},
     "output_type": "execute_result"
    }
   ],
   "source": [
    "length"
   ]
  },
  {
   "cell_type": "code",
   "execution_count": 305,
   "metadata": {},
   "outputs": [
    {
     "name": "stdout",
     "output_type": "stream",
     "text": [
      "1\n",
      "2\n",
      "3\n",
      "4\n",
      "5\n",
      "6\n",
      "7\n",
      "8\n",
      "9\n"
     ]
    }
   ],
   "source": [
    "for i in range(1,10):\n",
    "    print(i)"
   ]
  },
  {
   "cell_type": "code",
   "execution_count": 303,
   "metadata": {},
   "outputs": [
    {
     "data": {
      "text/html": [
       "<div>\n",
       "<style scoped>\n",
       "    .dataframe tbody tr th:only-of-type {\n",
       "        vertical-align: middle;\n",
       "    }\n",
       "\n",
       "    .dataframe tbody tr th {\n",
       "        vertical-align: top;\n",
       "    }\n",
       "\n",
       "    .dataframe thead th {\n",
       "        text-align: right;\n",
       "    }\n",
       "</style>\n",
       "<table border=\"1\" class=\"dataframe\">\n",
       "  <thead>\n",
       "    <tr style=\"text-align: right;\">\n",
       "      <th></th>\n",
       "      <th>Unnamed: 0</th>\n",
       "      <th>Target Frequencies</th>\n",
       "      <th>Buffer</th>\n",
       "      <th>Offset</th>\n",
       "      <th>Sizes</th>\n",
       "    </tr>\n",
       "  </thead>\n",
       "  <tbody>\n",
       "    <tr>\n",
       "      <th>0</th>\n",
       "      <td>0</td>\n",
       "      <td>4.0</td>\n",
       "      <td>202</td>\n",
       "      <td>0.4</td>\n",
       "      <td>250</td>\n",
       "    </tr>\n",
       "    <tr>\n",
       "      <th>1</th>\n",
       "      <td>1</td>\n",
       "      <td>4.2</td>\n",
       "      <td>204</td>\n",
       "      <td>0.4</td>\n",
       "      <td>230</td>\n",
       "    </tr>\n",
       "    <tr>\n",
       "      <th>2</th>\n",
       "      <td>2</td>\n",
       "      <td>4.4</td>\n",
       "      <td>208</td>\n",
       "      <td>0.4</td>\n",
       "      <td>210</td>\n",
       "    </tr>\n",
       "    <tr>\n",
       "      <th>3</th>\n",
       "      <td>3</td>\n",
       "      <td>4.6</td>\n",
       "      <td>206</td>\n",
       "      <td>0.4</td>\n",
       "      <td>196</td>\n",
       "    </tr>\n",
       "    <tr>\n",
       "      <th>4</th>\n",
       "      <td>4</td>\n",
       "      <td>4.8</td>\n",
       "      <td>206</td>\n",
       "      <td>0.4</td>\n",
       "      <td>184</td>\n",
       "    </tr>\n",
       "    <tr>\n",
       "      <th>5</th>\n",
       "      <td>5</td>\n",
       "      <td>5.0</td>\n",
       "      <td>202</td>\n",
       "      <td>0.4</td>\n",
       "      <td>170</td>\n",
       "    </tr>\n",
       "    <tr>\n",
       "      <th>6</th>\n",
       "      <td>6</td>\n",
       "      <td>5.2</td>\n",
       "      <td>203</td>\n",
       "      <td>0.4</td>\n",
       "      <td>155</td>\n",
       "    </tr>\n",
       "    <tr>\n",
       "      <th>7</th>\n",
       "      <td>7</td>\n",
       "      <td>5.4</td>\n",
       "      <td>205</td>\n",
       "      <td>0.4</td>\n",
       "      <td>140</td>\n",
       "    </tr>\n",
       "    <tr>\n",
       "      <th>8</th>\n",
       "      <td>8</td>\n",
       "      <td>5.6</td>\n",
       "      <td>200</td>\n",
       "      <td>0.4</td>\n",
       "      <td>132</td>\n",
       "    </tr>\n",
       "    <tr>\n",
       "      <th>9</th>\n",
       "      <td>9</td>\n",
       "      <td>5.8</td>\n",
       "      <td>190</td>\n",
       "      <td>0.4</td>\n",
       "      <td>125</td>\n",
       "    </tr>\n",
       "  </tbody>\n",
       "</table>\n",
       "</div>"
      ],
      "text/plain": [
       "   Unnamed: 0  Target Frequencies  Buffer  Offset  Sizes\n",
       "0           0                 4.0     202     0.4    250\n",
       "1           1                 4.2     204     0.4    230\n",
       "2           2                 4.4     208     0.4    210\n",
       "3           3                 4.6     206     0.4    196\n",
       "4           4                 4.8     206     0.4    184\n",
       "5           5                 5.0     202     0.4    170\n",
       "6           6                 5.2     203     0.4    155\n",
       "7           7                 5.4     205     0.4    140\n",
       "8           8                 5.6     200     0.4    132\n",
       "9           9                 5.8     190     0.4    125"
      ]
     },
     "execution_count": 303,
     "metadata": {},
     "output_type": "execute_result"
    }
   ],
   "source": [
    "pd.read_csv('Educated_guess0325.csv')"
   ]
  },
  {
   "cell_type": "code",
   "execution_count": 302,
   "metadata": {},
   "outputs": [
    {
     "data": {
      "text/html": [
       "<div>\n",
       "<style scoped>\n",
       "    .dataframe tbody tr th:only-of-type {\n",
       "        vertical-align: middle;\n",
       "    }\n",
       "\n",
       "    .dataframe tbody tr th {\n",
       "        vertical-align: top;\n",
       "    }\n",
       "\n",
       "    .dataframe thead th {\n",
       "        text-align: right;\n",
       "    }\n",
       "</style>\n",
       "<table border=\"1\" class=\"dataframe\">\n",
       "  <thead>\n",
       "    <tr style=\"text-align: right;\">\n",
       "      <th></th>\n",
       "      <th>Unnamed: 0</th>\n",
       "      <th>Target Frequencies</th>\n",
       "      <th>Buffer</th>\n",
       "      <th>Offset</th>\n",
       "      <th>Sizes</th>\n",
       "    </tr>\n",
       "  </thead>\n",
       "  <tbody>\n",
       "    <tr>\n",
       "      <th>0</th>\n",
       "      <td>0</td>\n",
       "      <td>4.0</td>\n",
       "      <td>202</td>\n",
       "      <td>0.400</td>\n",
       "      <td>250</td>\n",
       "    </tr>\n",
       "    <tr>\n",
       "      <th>1</th>\n",
       "      <td>1</td>\n",
       "      <td>4.2</td>\n",
       "      <td>200</td>\n",
       "      <td>0.400</td>\n",
       "      <td>235</td>\n",
       "    </tr>\n",
       "    <tr>\n",
       "      <th>2</th>\n",
       "      <td>2</td>\n",
       "      <td>4.4</td>\n",
       "      <td>203</td>\n",
       "      <td>0.420</td>\n",
       "      <td>220</td>\n",
       "    </tr>\n",
       "    <tr>\n",
       "      <th>3</th>\n",
       "      <td>3</td>\n",
       "      <td>4.6</td>\n",
       "      <td>206</td>\n",
       "      <td>0.410</td>\n",
       "      <td>200</td>\n",
       "    </tr>\n",
       "    <tr>\n",
       "      <th>4</th>\n",
       "      <td>4</td>\n",
       "      <td>4.8</td>\n",
       "      <td>207</td>\n",
       "      <td>0.410</td>\n",
       "      <td>182</td>\n",
       "    </tr>\n",
       "    <tr>\n",
       "      <th>5</th>\n",
       "      <td>5</td>\n",
       "      <td>5.0</td>\n",
       "      <td>205</td>\n",
       "      <td>0.420</td>\n",
       "      <td>172</td>\n",
       "    </tr>\n",
       "    <tr>\n",
       "      <th>6</th>\n",
       "      <td>6</td>\n",
       "      <td>5.2</td>\n",
       "      <td>206</td>\n",
       "      <td>0.450</td>\n",
       "      <td>165</td>\n",
       "    </tr>\n",
       "    <tr>\n",
       "      <th>7</th>\n",
       "      <td>7</td>\n",
       "      <td>5.4</td>\n",
       "      <td>208</td>\n",
       "      <td>0.450</td>\n",
       "      <td>150</td>\n",
       "    </tr>\n",
       "    <tr>\n",
       "      <th>8</th>\n",
       "      <td>8</td>\n",
       "      <td>5.6</td>\n",
       "      <td>210</td>\n",
       "      <td>0.457</td>\n",
       "      <td>138</td>\n",
       "    </tr>\n",
       "    <tr>\n",
       "      <th>9</th>\n",
       "      <td>9</td>\n",
       "      <td>5.8</td>\n",
       "      <td>210</td>\n",
       "      <td>0.476</td>\n",
       "      <td>131</td>\n",
       "    </tr>\n",
       "  </tbody>\n",
       "</table>\n",
       "</div>"
      ],
      "text/plain": [
       "   Unnamed: 0  Target Frequencies  Buffer  Offset  Sizes\n",
       "0           0                 4.0     202   0.400    250\n",
       "1           1                 4.2     200   0.400    235\n",
       "2           2                 4.4     203   0.420    220\n",
       "3           3                 4.6     206   0.410    200\n",
       "4           4                 4.8     207   0.410    182\n",
       "5           5                 5.0     205   0.420    172\n",
       "6           6                 5.2     206   0.450    165\n",
       "7           7                 5.4     208   0.450    150\n",
       "8           8                 5.6     210   0.457    138\n",
       "9           9                 5.8     210   0.476    131"
      ]
     },
     "execution_count": 302,
     "metadata": {},
     "output_type": "execute_result"
    }
   ],
   "source": [
    "pd.read_csv('Educated_guess0327.csv')"
   ]
  },
  {
   "cell_type": "code",
   "execution_count": 111,
   "metadata": {},
   "outputs": [],
   "source": [
    "\n",
    "data.to_csv('Educated_Guess0327_2.csv')"
   ]
  },
  {
   "cell_type": "code",
   "execution_count": 115,
   "metadata": {},
   "outputs": [],
   "source": [
    "result = pd.read_csv('/Users/wendy/Desktop/Wendy-qiskit-code/data/CPW_QB_freq_only_0325_2.csv')"
   ]
  },
  {
   "cell_type": "code",
   "execution_count": 116,
   "metadata": {},
   "outputs": [
    {
     "data": {
      "text/html": [
       "<div>\n",
       "<style scoped>\n",
       "    .dataframe tbody tr th:only-of-type {\n",
       "        vertical-align: middle;\n",
       "    }\n",
       "\n",
       "    .dataframe tbody tr th {\n",
       "        vertical-align: top;\n",
       "    }\n",
       "\n",
       "    .dataframe thead th {\n",
       "        text-align: right;\n",
       "    }\n",
       "</style>\n",
       "<table border=\"1\" class=\"dataframe\">\n",
       "  <thead>\n",
       "    <tr style=\"text-align: right;\">\n",
       "      <th></th>\n",
       "      <th>pad_size(mm)</th>\n",
       "      <th>buffer(um)</th>\n",
       "      <th>target_freq(GHz)</th>\n",
       "      <th>Freq_EPR1(MHz)</th>\n",
       "    </tr>\n",
       "  </thead>\n",
       "  <tbody>\n",
       "    <tr>\n",
       "      <th>0</th>\n",
       "      <td>0.250</td>\n",
       "      <td>202.0</td>\n",
       "      <td>4.0</td>\n",
       "      <td>4052.461326</td>\n",
       "    </tr>\n",
       "    <tr>\n",
       "      <th>1</th>\n",
       "      <td>0.230</td>\n",
       "      <td>204.0</td>\n",
       "      <td>4.2</td>\n",
       "      <td>4246.707225</td>\n",
       "    </tr>\n",
       "    <tr>\n",
       "      <th>2</th>\n",
       "      <td>0.210</td>\n",
       "      <td>208.0</td>\n",
       "      <td>4.4</td>\n",
       "      <td>4475.325304</td>\n",
       "    </tr>\n",
       "    <tr>\n",
       "      <th>3</th>\n",
       "      <td>0.196</td>\n",
       "      <td>206.0</td>\n",
       "      <td>4.6</td>\n",
       "      <td>4649.307436</td>\n",
       "    </tr>\n",
       "    <tr>\n",
       "      <th>4</th>\n",
       "      <td>0.184</td>\n",
       "      <td>206.0</td>\n",
       "      <td>4.8</td>\n",
       "      <td>4815.997915</td>\n",
       "    </tr>\n",
       "    <tr>\n",
       "      <th>5</th>\n",
       "      <td>0.170</td>\n",
       "      <td>202.0</td>\n",
       "      <td>5.0</td>\n",
       "      <td>5042.427256</td>\n",
       "    </tr>\n",
       "    <tr>\n",
       "      <th>6</th>\n",
       "      <td>0.155</td>\n",
       "      <td>203.0</td>\n",
       "      <td>5.2</td>\n",
       "      <td>5305.466667</td>\n",
       "    </tr>\n",
       "    <tr>\n",
       "      <th>7</th>\n",
       "      <td>0.140</td>\n",
       "      <td>205.0</td>\n",
       "      <td>5.4</td>\n",
       "      <td>5613.889100</td>\n",
       "    </tr>\n",
       "    <tr>\n",
       "      <th>8</th>\n",
       "      <td>0.132</td>\n",
       "      <td>200.0</td>\n",
       "      <td>5.6</td>\n",
       "      <td>5796.487743</td>\n",
       "    </tr>\n",
       "    <tr>\n",
       "      <th>9</th>\n",
       "      <td>0.125</td>\n",
       "      <td>190.0</td>\n",
       "      <td>5.8</td>\n",
       "      <td>5971.615783</td>\n",
       "    </tr>\n",
       "  </tbody>\n",
       "</table>\n",
       "</div>"
      ],
      "text/plain": [
       "   pad_size(mm)  buffer(um)  target_freq(GHz)  Freq_EPR1(MHz)\n",
       "0         0.250       202.0               4.0     4052.461326\n",
       "1         0.230       204.0               4.2     4246.707225\n",
       "2         0.210       208.0               4.4     4475.325304\n",
       "3         0.196       206.0               4.6     4649.307436\n",
       "4         0.184       206.0               4.8     4815.997915\n",
       "5         0.170       202.0               5.0     5042.427256\n",
       "6         0.155       203.0               5.2     5305.466667\n",
       "7         0.140       205.0               5.4     5613.889100\n",
       "8         0.132       200.0               5.6     5796.487743\n",
       "9         0.125       190.0               5.8     5971.615783"
      ]
     },
     "execution_count": 116,
     "metadata": {},
     "output_type": "execute_result"
    }
   ],
   "source": [
    "result[['pad_size(mm)','buffer(um)','target_freq(GHz)','Freq_EPR1(MHz)']]"
   ]
  },
  {
   "cell_type": "code",
   "execution_count": 136,
   "metadata": {},
   "outputs": [
    {
     "data": {
      "text/plain": [
       "array([0.05246133, 0.04670722, 0.0753253 , 0.04930744, 0.01599792,\n",
       "       0.04242726, 0.10546667, 0.2138891 , 0.19648774, 0.17161578])"
      ]
     },
     "execution_count": 136,
     "metadata": {},
     "output_type": "execute_result"
    }
   ],
   "source": [
    "#compare qubit frequency w.r.t. the target frequency\n",
    "sns.relplot(data = result,x = 'target_freq(GHz)', y = 'Freq_EPR1(MHz)',hue = 'Chi2_1(MHz)')\n",
    "result['Freq_EPR1(MHz)'].values/1000 - result['target_freq(GHz)'].values"
   ]
  },
  {
   "cell_type": "code",
   "execution_count": 162,
   "metadata": {},
   "outputs": [
    {
     "data": {
      "text/plain": [
       "array([-0.04874854, -0.03000159, -0.03977072, -0.04221077, -0.08378603,\n",
       "       -0.03670722, -0.03422481, -0.03195547, -0.0187805 ,  0.08313761])"
      ]
     },
     "execution_count": 162,
     "metadata": {},
     "output_type": "execute_result"
    }
   ],
   "source": [
    "#compare resonator frequency w.r.t. the target frequency\n",
    "sns.relplot(data = result,x = 'target_res_freq(GHz)', y = 'Freq_EPR2(MHz)',hue = 'Chi2_1(MHz)')\n",
    "result['Freq_EPR2(MHz)'].values/1000 - result['target_res_freq(GHz)'].values"
   ]
  },
  {
   "cell_type": "code",
   "execution_count": 114,
   "metadata": {},
   "outputs": [
    {
     "ename": "NameError",
     "evalue": "name 'result' is not defined",
     "output_type": "error",
     "traceback": [
      "\u001b[0;31m---------------------------------------------------------------------------\u001b[0m",
      "\u001b[0;31mNameError\u001b[0m                                 Traceback (most recent call last)",
      "Cell \u001b[0;32mIn[114], line 1\u001b[0m\n\u001b[0;32m----> 1\u001b[0m result\n",
      "\u001b[0;31mNameError\u001b[0m: name 'result' is not defined"
     ]
    }
   ],
   "source": [
    "result"
   ]
  },
  {
   "cell_type": "code",
   "execution_count": 122,
   "metadata": {},
   "outputs": [],
   "source": [
    "cpw_Freq = result['Freq_EPR2(MHz)'].values\n",
    "cpw_target = result['target_freq(GHz)'].values+2.4\n",
    "cpw_target*=1000"
   ]
  },
  {
   "cell_type": "code",
   "execution_count": 135,
   "metadata": {},
   "outputs": [
    {
     "name": "stderr",
     "output_type": "stream",
     "text": [
      "2023-03-27 22:26:38.249 python[38283:2301275] +[CATransaction synchronize] called within transaction\n",
      "2023-03-27 22:26:40.267 python[38283:2301275] +[CATransaction synchronize] called within transaction\n",
      "2023-03-27 22:26:41.509 python[38283:2301275] +[CATransaction synchronize] called within transaction\n",
      "2023-03-27 22:26:41.771 python[38283:2301275] +[CATransaction synchronize] called within transaction\n"
     ]
    }
   ],
   "source": [
    "plt.scatter(cpw_target,cpw_Freq, label = 'Data')\n",
    "plt.plot(np.arange(6000,8500,100),np.arange(6000,8500,100),color = 'black', ls = '--',alpha = 0.5,zorder = -1,label = 'x = y')\n",
    "plt.xlabel('Target Frequency (MHz)')\n",
    "plt.ylabel('CPW Frequency from EPR (MHz)')\n",
    "plt.legend()\n",
    "plt.show()\n"
   ]
  },
  {
   "cell_type": "code",
   "execution_count": null,
   "metadata": {},
   "outputs": [],
   "source": []
  }
 ],
 "metadata": {
  "kernelspec": {
   "display_name": "qiskit",
   "language": "python",
   "name": "python3"
  },
  "language_info": {
   "codemirror_mode": {
    "name": "ipython",
    "version": 3
   },
   "file_extension": ".py",
   "mimetype": "text/x-python",
   "name": "python",
   "nbconvert_exporter": "python",
   "pygments_lexer": "ipython3",
   "version": "3.11.0"
  },
  "orig_nbformat": 4,
  "vscode": {
   "interpreter": {
    "hash": "44925f89eea0304a809c150d508a9f47d604add5952411f6e449e56bdadb9133"
   }
  }
 },
 "nbformat": 4,
 "nbformat_minor": 2
}
