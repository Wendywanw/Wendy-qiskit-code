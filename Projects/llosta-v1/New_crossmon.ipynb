{
 "cells": [
  {
   "cell_type": "code",
   "execution_count": 1,
   "metadata": {},
   "outputs": [],
   "source": [
    "%reload_ext autoreload\n",
    "%autoreload 2"
   ]
  },
  {
   "cell_type": "code",
   "execution_count": 2,
   "metadata": {},
   "outputs": [],
   "source": [
    "import numpy as np\n",
    "import astropy.units as u\n",
    "import astropy.constants as c\n",
    "\n",
    "import pandas as pd\n",
    "import matplotlib.pyplot as plt\n",
    "\n",
    "# %matplotlib inline"
   ]
  },
  {
   "cell_type": "code",
   "execution_count": 3,
   "metadata": {},
   "outputs": [],
   "source": [
    "#This imports the necessary path to draw the single pad transmon design. \n",
    "import sys\n",
    "sys.path.append('Customized_Components')\n",
    "import Transmon_property as trans_p\n",
    "import Transmon_specifications as jj\n",
    "from Rounded_crossmon import TransmonCross as tc\n",
    "\n",
    "import shapely\n",
    "import warnings\n",
    "from shapely.errors import ShapelyDeprecationWarning\n",
    "warnings.filterwarnings(\"ignore\", category=ShapelyDeprecationWarning)\n",
    "warnings.filterwarnings(\"ignore\", category=RuntimeWarning)"
   ]
  },
  {
   "cell_type": "code",
   "execution_count": 4,
   "metadata": {},
   "outputs": [],
   "source": [
    "from qiskit_metal import designs, draw\n",
    "from qiskit_metal import MetalGUI, Dict, Headings\n",
    "\n",
    "from qiskit_metal.qlibrary.couplers.coupled_line_tee import CoupledLineTee\n",
    "# from qiskit_metal.qlibrary.terminations.short_to_ground import ShortToGround\n",
    "# from qiskit_metal.qlibrary.terminations.open_to_ground import OpenToGround\n",
    "from qiskit_metal.qlibrary.terminations.launchpad_wb import LaunchpadWirebond\n",
    "\n",
    "from qiskit_metal.qlibrary.tlines.mixed_path import RouteMixed\n",
    "from qiskit_metal.qlibrary.tlines.straight_path import RouteStraight\n",
    "\n",
    "from qiskit_metal.analyses.quantization import LOManalysis\n",
    "from qiskit_metal.analyses.quantization import EPRanalysis"
   ]
  },
  {
   "cell_type": "code",
   "execution_count": 5,
   "metadata": {},
   "outputs": [],
   "source": [
    "def round_corners(x,y,direction, radius, n_points = 5):\n",
    "    xi, yi = direction\n",
    "    pts = [(xi*radius * np.cos(np.pi/2 * x / n_points),\n",
    "                                yi*radius * np.sin(np.pi/2 * x / n_points)) for x in range(int(n_points+1))]\n",
    "    # if (xi*yi<0) or flip:\n",
    "    #     pts = pts[::-1]\n",
    "    x_corner = x#-radius*xi\n",
    "    y_corner = y#-radius*yi\n",
    "    pts = np.array(pts)\n",
    "    coords = pts +np.array([x_corner,y_corner])\n",
    "    \n",
    "    return coords"
   ]
  },
  {
   "cell_type": "code",
   "execution_count": 6,
   "metadata": {},
   "outputs": [],
   "source": [
    "# def rounded_rec(width, height, r1=0,r2 = 0,r3 = 0,r4 = 0, resolution = 5,d1 = [-1,-1],d2 = [1,-1],d3 = [1,1],d4 = [-1,1], same_radius = False, r = 5):\n",
    "#     directions = np.array([[-1,-1],[1,-1],[1,1],[-1,1]])\n",
    "#     if same_radius:\n",
    "#         radius = np.array([r,r,r,r])\n",
    "#     else:\n",
    "#         radius = np.array([r1,r2,r3,r4])\n",
    "#     d = np.array([d1,d2,d3,d4])\n",
    "#     x = np.array([-width/2, width/2, width/2, -width/2])\n",
    "#     y = np.array([-height/2, -height/2, height/2, height/2])\n",
    "#     radius = np.array(radius)\n",
    "#     coords = []\n",
    "#     for i in range(len(x)):\n",
    "#         if radius[i] == 0:\n",
    "#             coord = np.array([[x[i],y[i]]])\n",
    "#         else:\n",
    "#             xx = x[i]-directions[i][0]*radius[i]\n",
    "#             yy = y[i]-directions[i][1]*radius[i]\n",
    "#             diff = directions[i]-d[i]\n",
    "#             xx = xx + diff[0]*radius[i]\n",
    "#             yy = yy + diff[1]*radius[i]\n",
    "            \n",
    "#             coord = ((round_corners(xx,yy,direction = d[i], radius = radius[i], n_points = resolution)))\n",
    "#             inds = np.argsort(-coord[:,0]*directions[i][1]*directions[i][0]*d[i][0])\n",
    "#             coord = coord[inds]\n",
    "#         if i == 0:\n",
    "#             coords = coord\n",
    "#         else:\n",
    "#             coords = np.concatenate((coords, coord))\n",
    "\n",
    "#     rounded_rec = draw.Polygon(coords)\n",
    "#     return rounded_rec"
   ]
  },
  {
   "cell_type": "code",
   "execution_count": 7,
   "metadata": {},
   "outputs": [],
   "source": [
    "# # -*- coding: utf-8 -*-\n",
    "\n",
    "# # This code is part of Qiskit.\n",
    "# #\n",
    "# # (C) Copyright IBM 2017, 2021.\n",
    "# #\n",
    "# # This code is licensed under the Apache License, Version 2.0. You may\n",
    "# # obtain a copy of this license in the LICENSE.txt file in the root directory\n",
    "# # of this source tree or at http://www.apache.org/licenses/LICENSE-2.0.\n",
    "# #\n",
    "# # Any modifications or derivative works of this code must retain this\n",
    "# # copyright notice, and modified files need to carry a notice indicating\n",
    "# # that they have been altered from the originals.\n",
    "\n",
    "# import numpy as np\n",
    "# from qiskit_metal import draw, Dict\n",
    "# from qiskit_metal.qlibrary.core import BaseQubit\n",
    "\n",
    "\n",
    "\n",
    "# class TransmonCross(BaseQubit):  # pylint: disable=invalid-name\n",
    "#     \"\"\"The base `TransmonCross` class.\n",
    "\n",
    "#     Inherits `BaseQubit` class.\n",
    "\n",
    "#     Simple Metal Transmon Cross object. Creates the X cross-shaped island,\n",
    "#     the \"junction\" on the south end, and up to 3 connectors on the remaining arms\n",
    "#     (claw or gap).\n",
    "\n",
    "#     'claw_width' and 'claw_gap' define the width/gap of the CPW line that\n",
    "#     makes up the connector. Note, DC SQUID currently represented by single\n",
    "#     inductance sheet\n",
    "\n",
    "#     Add connectors to it using the `connection_pads` dictionary. See BaseQubit for more\n",
    "#     information.\n",
    "\n",
    "#     Sketch:\n",
    "#         Below is a sketch of the qubit\n",
    "#         ::\n",
    "\n",
    "#                                         claw_length\n",
    "#             Claw:       _________                    Gap:\n",
    "#                         |   ________________             _________    ____________\n",
    "#                   ______|  |                             _________|  |____________\n",
    "#                         |  |________________\n",
    "#                         |_________\n",
    "\n",
    "\n",
    "#     .. image::\n",
    "#         transmon_cross.png\n",
    "\n",
    "#     .. meta::\n",
    "#         Transmon Cross\n",
    "\n",
    "#     BaseQubit Default Options:\n",
    "#         * connection_pads: Empty Dict -- The dictionary which contains all active connection lines for the qubit.\n",
    "#         * _default_connection_pads: empty Dict -- The default values for the (if any) connection lines of the qubit.\n",
    "\n",
    "#     Default Options:\n",
    "#         * cross_width: '20um' -- Width of the CPW center trace making up the Crossmon\n",
    "#         * cross_length: '200um' -- Length of one Crossmon arm (from center)\n",
    "#         * cross_gap: '20um' -- Width of the CPW gap making up the Crossmon\n",
    "#         * cross_radius: '8um' -- Radius of the corners of the Crossmon\n",
    "#         * _default_connection_pads: Dict\n",
    "#             * connector_type: '0' -- 0 = Claw type, 1 = gap type\n",
    "#             * claw_length: '30um' -- Length of the claw 'arms', measured from the connector center trace\n",
    "#             * ground_spacing: '5um' -- Amount of ground plane between the connector and Crossmon arm (minimum should be based on fabrication capabilities)\n",
    "#             * claw_width: '10um' -- The width of the CPW center trace making up the claw/gap connector\n",
    "#             * claw_gap: '6um' -- The gap of the CPW center trace making up the claw/gap connector\n",
    "#             * connector_location: '0' -- 0 => 'west' arm, 90 => 'north' arm, 180 => 'east' arm\n",
    "#     \"\"\"\n",
    "\n",
    "#     default_options = Dict(\n",
    "#         cross_width='20um',\n",
    "#         cross_length='200um',\n",
    "#         cross_gap='20um',\n",
    "#         chip='main',\n",
    "#         cross_radius='8um',\n",
    "#         resolution = '10',\n",
    "#         _default_connection_pads=Dict(\n",
    "#             connector_type='0',  # 0 = Claw type, 1 = gap type\n",
    "#             claw_length='30um',\n",
    "#             ground_spacing='5um',\n",
    "#             claw_width='10um',\n",
    "#             claw_gap='6um',\n",
    "#             claw_radius='2um',\n",
    "#             connector_location='0'  # 0 => 'west' arm, 90 => 'north' arm, 180 => 'east' arm\n",
    "#         ))\n",
    "#     \"\"\"Default options.\"\"\"\n",
    "\n",
    "#     component_metadata = Dict(short_name='Cross',\n",
    "#                               _qgeometry_table_poly='True',\n",
    "#                               _qgeometry_table_junction='True')\n",
    "#     \"\"\"Component metadata\"\"\"\n",
    "\n",
    "#     TOOLTIP = \"\"\"Simple Metal Transmon Cross.\"\"\"\n",
    "\n",
    "#     ##############################################MAKE######################################################\n",
    "\n",
    "#     def make(self):\n",
    "#         \"\"\"This is executed by the GUI/user to generate the qgeometry for the\n",
    "#         component.\"\"\"\n",
    "#         self.make_pocket()\n",
    "#         self.make_connection_pads()\n",
    "\n",
    "# ###################################TRANSMON#############################################################\n",
    "\n",
    "#     def make_pocket(self):\n",
    "#         \"\"\"Makes a basic Crossmon, 4 arm cross.\"\"\"\n",
    "\n",
    "#         # self.p allows us to directly access parsed values (string -> numbers) form the user option\n",
    "#         p = self.p\n",
    "\n",
    "#         width = p.cross_width\n",
    "#         cross_width = width\n",
    "#         cross_length = p.cross_length\n",
    "#         cross_gap = p.cross_gap\n",
    "#         resolution = p.resolution\n",
    "#         radius = p.cross_radius\n",
    "#         cross_radius = radius\n",
    "\n",
    "#         #parameters for the central cross\n",
    "#         max_len = cross_length*2\n",
    "#         height = cross_length-cross_width/2\n",
    "\n",
    "#         #parameters for the etched pocket\n",
    "#         max_len_etch = cross_length*2 + cross_gap*2\n",
    "#         radius_etch = radius + cross_gap\n",
    "#         height_etch = cross_length-cross_width/2 + cross_gap\n",
    "\n",
    "#         # access to chip name\n",
    "#         chip = p.chip\n",
    "\n",
    "#         # Creates the cross and the etch equivalent.\n",
    "#         # cross_line = draw.shapely.ops.unary_union([\n",
    "#         #     draw.LineString([(0, cross_length), (0, -cross_length)]),\n",
    "#         #     draw.LineString([(cross_length, 0), (-cross_length, 0)])\n",
    "#         # ])\n",
    "\n",
    "#         # cross = cross_line.buffer(cross_width / 2, cap_style=2)\n",
    "#         # cross_etch = cross.buffer(cross_gap, cap_style=3, join_style=2)\n",
    "\n",
    "#         center_metal = rec(max_len, width, same_radius = True, r = radius, resolution = resolution)\n",
    "#         center_metal_side = rec(width, height, same_radius = True, r = radius,  resolution = resolution, d3 = [-1,1], d4 = [1,1])\n",
    "#         center_metal_bot = draw.translate(center_metal_side, 0, -width/2-height/2,overwrite= True)\n",
    "#         center_metal_top = draw.rotate(center_metal_side, 180, overwrite = True)\n",
    "#         center_metal_top = draw.translate(center_metal_top, 0, width/2+height/2,overwrite= True)\n",
    "        \n",
    "#         center_metal = draw.shapely.ops.unary_union([center_metal, center_metal_bot, center_metal_top])\n",
    "\n",
    "\n",
    "\n",
    "#         center_metal_etch = rec(max_len_etch, width+2*cross_gap,same_radius = True, r = radius_etch, resolution = resolution)\n",
    "#         center_metal_side_etch = rec(width+2*cross_gap, height+2*cross_gap, same_radius = True, r = radius_etch, resolution = resolution, d3 = [-1,1], d4 = [1,1])\n",
    "#         center_metal_bot_etch = draw.translate(center_metal_side_etch, 0, -width/2-height/2, overwrite= True)\n",
    "#         center_metal_top_etch = draw.rotate(center_metal_side_etch, 180, overwrite = True)\n",
    "#         center_metal_top_etch = draw.translate(center_metal_top_etch, 0, width/2+height/2,overwrite= True)\n",
    "#         center_metal_etch = draw.shapely.ops.unary_union([center_metal_etch, center_metal_bot_etch, center_metal_top_etch])\n",
    "#         # The junction/SQUID\n",
    "#         #rect_jj = draw.rectangle(cross_width, cross_gap)\n",
    "#         #rect_jj = draw.translate(rect_jj, 0, -cross_length-cross_gap/2)\n",
    "#         rect_jj = draw.LineString([(0, -cross_length),\n",
    "#                                    (0, -cross_length - cross_gap)])\n",
    "\n",
    "#         #rotate and translate\n",
    "#         polys = [center_metal, center_metal_top, center_metal_bot, center_metal_etch, center_metal_top_etch, center_metal_bot_etch, rect_jj]\n",
    "#         polys = draw.rotate(polys, p.orientation, origin=(0, 0))\n",
    "#         polys = draw.translate(polys, p.pos_x, p.pos_y)\n",
    "\n",
    "#         [center_metal, center_metal_top, center_metal_bot, center_metal_etch, center_metal_top_etch, center_metal_bot_etch, rect_jj] = polys\n",
    "\n",
    "#         # generate qgeometry\n",
    "#         self.add_qgeometry('poly', dict(cross=center_metal), chip=chip)\n",
    "#         self.add_qgeometry('poly', dict(cross=center_metal_etch), chip=chip, subtract=True)\n",
    "        \n",
    "#         # self.add_qgeometry('poly',\n",
    "#         #                    dict(cross_etch=cross_etch),\n",
    "#         #                    subtract=True,\n",
    "#         #                    chip=chip)\n",
    "#         self.add_qgeometry('junction',\n",
    "#                            dict(rect_jj=rect_jj),\n",
    "#                            width=cross_width,\n",
    "#                            chip=chip)\n",
    "\n",
    "\n",
    "# ############################CONNECTORS##################################################################################################\n",
    "\n",
    "#     def make_connection_pads(self):\n",
    "#         \"\"\"Goes through connector pads and makes each one.\"\"\"\n",
    "#         for name in self.options.connection_pads:\n",
    "#             self.make_connection_pad(name)\n",
    "\n",
    "#     def make_connection_pad(self, name: str):\n",
    "#         \"\"\"Makes individual connector pad.\n",
    "\n",
    "#         Args:\n",
    "#             name (str) : Name of the connector pad\n",
    "#         \"\"\"\n",
    "\n",
    "#         # self.p allows us to directly access parsed values (string -> numbers) form the user option\n",
    "#         p = self.p\n",
    "#         cross_width = p.cross_width\n",
    "#         cross_length = p.cross_length\n",
    "#         cross_gap = p.cross_gap\n",
    "#         resolution = p.resolution\n",
    "\n",
    "#         # access to chip name\n",
    "#         chip = p.chip\n",
    "\n",
    "#         pc = self.p.connection_pads[name]  # parser on connector options\n",
    "#         c_g = pc.claw_gap\n",
    "#         c_l = pc.claw_length\n",
    "#         c_w = pc.claw_width\n",
    "#         g_s = pc.ground_spacing\n",
    "#         con_loc = pc.connector_location\n",
    "#         c_r = pc.claw_radius\n",
    "\n",
    "        \n",
    "\n",
    "#         if pc.connector_type == 0:  # Claw connector\n",
    "#             cr = min(c_r, c_w / 2)\n",
    "#             claw_cpw = rec(c_w*3, c_w, resolution = resolution, d3 = [1,-1], d2 = [1,1], r3 = c_r, r2 = c_r)\n",
    "#             claw_cpw = draw.translate(claw_cpw, -c_w*3/2, 0, overwrite = True)\n",
    "#             claw_cpw_etch = rec(c_w*3 , c_w+2*c_g, resolution = resolution, d3 = [1,-1], d2 = [1,1], r3 = c_r, r2 = c_r)\n",
    "#             claw_cpw_etch = draw.translate(claw_cpw_etch, -c_w*3/2-c_g, 0, overwrite = True)\n",
    "\n",
    "#             t_claw_height = 2*c_g + 2 * c_w + 2*g_s + 2*cross_gap + cross_width\n",
    "\n",
    "#             r0 = p.cross_radius\n",
    "#             r1 = r0 + cross_gap\n",
    "#             r2 = r1 + g_s +c_g\n",
    "#             r3 = r2 + c_w \n",
    "\n",
    "#             # r1 = min(r1, cross_width/2+cross_gap)\n",
    "#             r2 = min(r2, t_claw_height/2 - c_w*2, c_l -c_w)\n",
    "#             r3 = min(r3, t_claw_height/2 - c_w , c_l)\n",
    "\n",
    "\n",
    "#             claw_base = rec(c_l + c_w, t_claw_height, resolution = resolution, \n",
    "#                             r1 = r3, r2 = c_r, r3 = c_r, r4 = r3)\n",
    "#             # claw_base = draw.translate(claw_base, (c_l + c_w)/2, 0, overwrite = True)\n",
    "#             claw_subtract = rec(c_l, t_claw_height-2*c_w, resolution = resolution,\n",
    "#                                 r1 = r2, r2 = c_r, r3 = c_r, r4 = r2, d2 = [1,1], d3 = [1,-1])\n",
    "#             claw_subtract = draw.translate(claw_subtract, c_w/2, 0, overwrite = True)\n",
    "#             claw_base = claw_base.difference(claw_subtract)\n",
    "#             claw_base = draw.translate(claw_base, c_l/2+c_w/2, 0, overwrite = True)\n",
    "            \n",
    "#             r2 -= c_g\n",
    "#             r3 += c_g\n",
    "#             c_r += c_g\n",
    "\n",
    "#             r2 = min(r2, t_claw_height/2 - c_w*2, c_l -c_w)\n",
    "#             r3 = min(r3, t_claw_height/2 - c_w , c_l)\n",
    "\n",
    "#             l = c_l + c_w +2*c_g\n",
    "#             lp = l - c_w - 2*c_g\n",
    "#             claw_base_etch = rec(l, t_claw_height+2*c_g, resolution = resolution, \n",
    "#                             r1 = r3, r2 = c_r, r3 = c_r, r4 = r3)\n",
    "#             claw_base_etch = draw.translate(claw_base_etch, -l/2, 0, overwrite = True)\n",
    "\n",
    "#             claw_subtract_etch = rec(lp, t_claw_height-2*c_w-2*c_g, resolution = resolution,\n",
    "#                                 r1 = r2, r2 = c_r, r3 = c_r, r4 = r2, d2 = [1,1], d3 = [1,-1])\n",
    "#             claw_subtract_etch = draw.translate(claw_subtract_etch, -lp/2, 0, overwrite = True)\n",
    "#             claw_base_etch = claw_base_etch.difference(claw_subtract_etch)\n",
    "#             # draw.box(-c_w, -(t_claw_height) / 2, c_l,\n",
    "#             #                      t_claw_height / 2)\n",
    "            \n",
    "#             claw_base_etch = draw.translate(claw_base_etch, l-c_g, 0, overwrite = True)\n",
    "\n",
    "#             connector_arm = draw.shapely.ops.unary_union([claw_base, claw_cpw])\n",
    "#             connector_etcher = draw.shapely.ops.unary_union([claw_base_etch, claw_cpw_etch])\n",
    "#             components = [connector_arm, connector_etcher]\n",
    "#             connector_arm, connector_etcher = draw.translate(components, -c_g - g_s,0, overwrite = True)\n",
    "#         else:\n",
    "#             claw_cpw = draw.box(0, -c_w / 2, -4 * c_w, c_w / 2)\n",
    "#             connector_arm = claw_cpw\n",
    "#             connector_etcher = draw.buffer(connector_arm, c_g)\n",
    "\n",
    "#         # Making the pin for  tracking (for easy connect functions).\n",
    "#         # Done here so as to have the same translations and rotations as the connector. Could\n",
    "#         # extract from the connector later, but since allowing different connector types,\n",
    "#         # this seems more straightforward.\n",
    "#         port_line = draw.LineString([(-4 * c_w, -c_w / 2), (-4 * c_w, c_w / 2)])\n",
    "\n",
    "#         claw_rotate = 0\n",
    "#         if con_loc > 135:\n",
    "#             claw_rotate = 180\n",
    "#         elif con_loc > 45:\n",
    "#             claw_rotate = -90\n",
    "\n",
    "#         # Rotates and translates the connector polygons (and temporary port_line)\n",
    "#         polys = [connector_arm, connector_etcher, port_line]\n",
    "#         polys = draw.translate(polys, -(cross_length + cross_gap + g_s + c_g),\n",
    "#                                0)\n",
    "#         polys = draw.rotate(polys, claw_rotate, origin=(0, 0))\n",
    "#         polys = draw.rotate(polys, p.orientation, origin=(0, 0))\n",
    "#         polys = draw.translate(polys, p.pos_x, p.pos_y)\n",
    "#         [connector_arm, connector_etcher, port_line] = polys\n",
    "\n",
    "#         # Generates qgeometry for the connector pads\n",
    "#         self.add_qgeometry('poly', {f'{name}_connector_arm': connector_arm},\n",
    "#                            chip=chip)\n",
    "#         self.add_qgeometry('poly',\n",
    "#                            {f'{name}_connector_etcher': connector_etcher},\n",
    "#                            subtract=True,\n",
    "#                            chip=chip)\n",
    "#         self.add_pin(name, port_line.coords, c_w)\n"
   ]
  },
  {
   "cell_type": "code",
   "execution_count": 8,
   "metadata": {},
   "outputs": [
    {
     "name": "stderr",
     "output_type": "stream",
     "text": [
<<<<<<< Updated upstream
      "12:38PM 05s CRITICAL [_qt_message_handler]: line: 0, func: None(), file: None  WARNING: Populating font family aliases took 151 ms. Replace uses of missing font family \"Courier\" with one that exists to avoid this cost. \n",
=======
      "12:36PM 39s CRITICAL [_qt_message_handler]: line: 0, func: None(), file: None  WARNING: Populating font family aliases took 148 ms. Replace uses of missing font family \"Courier\" with one that exists to avoid this cost. \n",
>>>>>>> Stashed changes
      "\n"
     ]
    }
   ],
   "source": [
    "design = designs.DesignPlanar({}, True)\n",
    "design.chips.main.size['size_x'] = '20 mm'\n",
    "design.chips.main.size['size_y'] = '10 mm'\n",
    "\n",
    "design.variables['cpw_width'] = '15 um'\n",
    "design.variables['cpw_gap'] = '9 um'\n",
    "\n",
    "design.variables['trace_width'] = '12.4 um'\n",
    "cpw_pin_width = 12.4*u.um\n",
    "design.variables['trace_gap'] = '7 um'\n",
    "cpw_gap = 7*u.um\n",
    "\n",
    "design.variables['pad_buffer_radius'] = '30 um'\n",
    "design.variables['buffer_resolution'] = '10'\n",
    "design.variables['connection_pad_buffer_radius'] = '2 um'\n",
    "# design.chips['main']['material'] = 'Silicon'\n",
    "\n",
    "gui = MetalGUI(design)"
   ]
  },
  {
   "cell_type": "code",
<<<<<<< Updated upstream
   "execution_count": 51,
=======
   "execution_count": 17,
>>>>>>> Stashed changes
   "metadata": {},
   "outputs": [],
   "source": [
    "t_options = Dict(pos_x = '0',\n",
    "                 pos_y = '0',\n",
<<<<<<< Updated upstream
    "        cross_width='50um',\n",
    "        cross_length='117um',\n",
    "        cross_gap='1um',\n",
=======
    "        cross_width='40um',\n",
    "        cross_length='100um',\n",
    "        cross_gap='10um',\n",
>>>>>>> Stashed changes
    "        chip='main',\n",
    "        cross_radius='20um',\n",
    "        resolution = '10',\n",
    "        junction = 'True',\n",
    "        connection_pads=Dict(a = Dict(\n",
    "            connector_type='0',  # 0 = Claw type, 1 = gap type\n",
    "            claw_length='100um',\n",
    "            ground_spacing='5um',\n",
    "            claw_width='20um',\n",
    "            claw_gap='5um',\n",
    "            connector_location='0',\n",
    "            claw_radius = '3um'  # 0 => 'west' arm, 90 => 'north' arm, 180 => 'east' arm\n",
    "        )))"
   ]
  },
  {
   "cell_type": "code",
<<<<<<< Updated upstream
   "execution_count": 52,
=======
   "execution_count": 18,
>>>>>>> Stashed changes
   "metadata": {},
   "outputs": [
    {
     "name": "stderr",
     "output_type": "stream",
     "text": [
<<<<<<< Updated upstream
      "12:59PM 28s WARNING [check_lengths]: For path table, component=route1, key=trace has short segments that could cause issues with fillet. Values in (1-1)  are index(es) in shapely geometry.\n",
      "12:59PM 28s WARNING [check_lengths]: For path table, component=route1, key=cut has short segments that could cause issues with fillet. Values in (1-1)  are index(es) in shapely geometry.\n"
     ]
    },
    {
     "name": "stderr",
     "output_type": "stream",
     "text": [
      "2023-05-11 12:59:35.697 python[26247:1450452] +[CATransaction synchronize] called within transaction\n"
=======
      "12:36PM 57s WARNING [check_lengths]: For path table, component=route1, key=trace has short segments that could cause issues with fillet. Values in (1-1)  are index(es) in shapely geometry.\n",
      "12:36PM 57s WARNING [check_lengths]: For path table, component=route1, key=cut has short segments that could cause issues with fillet. Values in (1-1)  are index(es) in shapely geometry.\n"
>>>>>>> Stashed changes
     ]
    }
   ],
   "source": [
    "design.overwrite_enabled = True\n",
    "# design.delete_all_components()\n",
    "mon = tc(design, 'Q2', options=t_options)\n",
    "gui.rebuild()\n",
    "gui.autoscale()"
   ]
  },
  {
   "cell_type": "code",
   "execution_count": 11,
   "metadata": {},
   "outputs": [],
   "source": [
    "\n",
    "from qiskit_metal.qlibrary.terminations.short_to_ground import ShortToGround"
   ]
  },
  {
   "cell_type": "code",
   "execution_count": 12,
   "metadata": {},
   "outputs": [],
   "source": [
    "s1 = ShortToGround(design, 'short', options=dict(pos_x='-2 mm', pos_y='0 mm', orientation='0', width = '12.4um+7um+7um'))"
   ]
  },
  {
   "cell_type": "code",
   "execution_count": 13,
   "metadata": {},
   "outputs": [],
   "source": [
    "CPW_options = Dict(trace_width = design.variables['trace_width'],\n",
    "               trace_gap  = design.variables['trace_gap'],\n",
    "        total_length='5 mm',\n",
    "        hfss_wire_bonds = True,\n",
    "        q3d_wire_bonds = True,\n",
    "        fillet='30 um',\n",
    "        lead = dict(start_straight='20um', end_straight = '50um'),\n",
    "        pin_inputs=Dict(\n",
    "            start_pin=Dict(component='Q1', pin='a'),\n",
    "            end_pin=Dict(component='TQ1', pin='second_end')), )"
   ]
  },
  {
   "cell_type": "code",
   "execution_count": 14,
   "metadata": {},
   "outputs": [
    {
     "name": "stderr",
     "output_type": "stream",
     "text": [
<<<<<<< Updated upstream
      "12:38PM 06s WARNING [check_lengths]: For path table, component=route1, key=trace has short segments that could cause issues with fillet. Values in (1-1)  are index(es) in shapely geometry.\n",
      "12:38PM 06s WARNING [check_lengths]: For path table, component=route1, key=cut has short segments that could cause issues with fillet. Values in (1-1)  are index(es) in shapely geometry.\n"
=======
      "12:36PM 40s WARNING [check_lengths]: For path table, component=route1, key=trace has short segments that could cause issues with fillet. Values in (1-1)  are index(es) in shapely geometry.\n",
      "12:36PM 40s WARNING [check_lengths]: For path table, component=route1, key=cut has short segments that could cause issues with fillet. Values in (1-1)  are index(es) in shapely geometry.\n"
>>>>>>> Stashed changes
     ]
    }
   ],
   "source": [
    "pin_inputs=Dict(\n",
    "            start_pin=Dict(component='short', pin='short'),\n",
    "            end_pin=Dict(component='Q2', pin='a'))\n",
    "CPW_options.pin_inputs = pin_inputs\n",
    "r1 = RouteStraight(design, 'route1', options= CPW_options)"
   ]
  },
  {
   "cell_type": "code",
   "execution_count": 15,
   "metadata": {},
   "outputs": [
    {
     "name": "stderr",
     "output_type": "stream",
     "text": [
<<<<<<< Updated upstream
      "12:38PM 06s WARNING [check_lengths]: For path table, component=route1, key=trace has short segments that could cause issues with fillet. Values in (1-1)  are index(es) in shapely geometry.\n",
      "12:38PM 06s WARNING [check_lengths]: For path table, component=route1, key=cut has short segments that could cause issues with fillet. Values in (1-1)  are index(es) in shapely geometry.\n"
=======
      "12:36PM 40s WARNING [check_lengths]: For path table, component=route1, key=trace has short segments that could cause issues with fillet. Values in (1-1)  are index(es) in shapely geometry.\n",
      "12:36PM 40s WARNING [check_lengths]: For path table, component=route1, key=cut has short segments that could cause issues with fillet. Values in (1-1)  are index(es) in shapely geometry.\n"
>>>>>>> Stashed changes
     ]
    }
   ],
   "source": [
    "gui.rebuild()"
   ]
  },
  {
   "cell_type": "code",
   "execution_count": 16,
   "metadata": {},
   "outputs": [
    {
     "ename": "NameError",
     "evalue": "name 'rec' is not defined",
     "output_type": "error",
     "traceback": [
      "\u001b[0;31m---------------------------------------------------------------------------\u001b[0m",
      "\u001b[0;31mNameError\u001b[0m                                 Traceback (most recent call last)",
      "Cell \u001b[0;32mIn[16], line 1\u001b[0m\n\u001b[0;32m----> 1\u001b[0m center_metal \u001b[39m=\u001b[39m rec(width, max_len,cross_radius)\n\u001b[1;32m      2\u001b[0m center_metal_bot \u001b[39m=\u001b[39m rec(width, height, cross_radius, resolution \u001b[39m=\u001b[39m resolution)\n\u001b[1;32m      3\u001b[0m center_metal_bot \u001b[39m=\u001b[39m draw\u001b[39m.\u001b[39mtranslate(center_metal_bot, \u001b[39m0\u001b[39m, \u001b[39m-\u001b[39mcross_width\u001b[39m/\u001b[39m\u001b[39m2\u001b[39m,overwrite\u001b[39m=\u001b[39m \u001b[39mTrue\u001b[39;00m)\n",
      "\u001b[0;31mNameError\u001b[0m: name 'rec' is not defined"
     ]
    }
   ],
   "source": [
    "center_metal = rec(width, max_len,cross_radius)\n",
    "center_metal_bot = rec(width, height, cross_radius, resolution = resolution)\n",
    "center_metal_bot = draw.translate(center_metal_bot, 0, -cross_width/2,overwrite= True)\n",
    "center_metal_top = rec(width, height, cross_radius, rotation = 180, resolution = resolution)\n",
    "center_metal_top = draw.translate(center_metal_top, 0, cross_width/2,overwrite= True)"
   ]
  },
  {
   "cell_type": "code",
   "execution_count": null,
   "metadata": {},
   "outputs": [],
   "source": []
  },
  {
   "cell_type": "code",
   "execution_count": null,
   "metadata": {},
   "outputs": [],
   "source": [
    "a_gds = design.renderers.gds"
   ]
  },
  {
   "cell_type": "code",
   "execution_count": null,
   "metadata": {},
   "outputs": [],
   "source": [
    "a_gds.options.tolerance = '0.00001'\n",
    "a_gds.options.cheese.edge_nocheese = '300um'\n",
    "a_gds.options.no_cheese.buffer = '40um'"
   ]
  },
  {
   "cell_type": "code",
   "execution_count": null,
   "metadata": {},
   "outputs": [
    {
     "data": {
      "text/plain": [
       "{'short_segments_to_not_fillet': 'True',\n",
       " 'check_short_segments_by_scaling_fillet': '2.0',\n",
       " 'gds_unit': 0.001,\n",
       " 'ground_plane': 'True',\n",
       " 'negative_mask': {'main': []},\n",
       " 'fabricate': 'False',\n",
       " 'corners': 'circular bend',\n",
       " 'tolerance': '0.00001',\n",
       " 'precision': '0.000000001',\n",
       " 'width_LineString': '10um',\n",
       " 'path_filename': '../resources/Fake_Junctions.GDS',\n",
       " 'junction_pad_overlap': '5um',\n",
       " 'max_points': '199',\n",
       " 'cheese': {'datatype': '100',\n",
       "  'shape': '0',\n",
       "  'cheese_0_x': '25um',\n",
       "  'cheese_0_y': '25um',\n",
       "  'cheese_1_radius': '100um',\n",
       "  'view_in_file': {'main': {1: True}},\n",
       "  'delta_x': '100um',\n",
       "  'delta_y': '100um',\n",
       "  'edge_nocheese': '200um'},\n",
       " 'no_cheese': {'datatype': '99',\n",
       "  'buffer': '25um',\n",
       "  'cap_style': '2',\n",
       "  'join_style': '2',\n",
       "  'view_in_file': {'main': {1: True}}},\n",
       " 'bounding_box_scale_x': '1.2',\n",
       " 'bounding_box_scale_y': '1.2'}"
      ]
     },
     "metadata": {},
     "output_type": "display_data"
    }
   ],
   "source": [
    "a_gds.options"
   ]
  },
  {
   "cell_type": "code",
   "execution_count": null,
   "metadata": {},
   "outputs": [],
   "source": [
    "a_gds.options['path_filename'] = 'Customized_Component/Fake_Junctions.GDS'"
   ]
  },
  {
   "cell_type": "code",
   "execution_count": null,
   "metadata": {},
   "outputs": [
    {
     "name": "stderr",
     "output_type": "stream",
     "text": [
      "WARNING:py.warnings:/Users/wendy/_Lib/qiskit-metal/qiskit_metal/renderers/renderer_gds/gds_renderer.py:780: FutureWarning: The frame.append method is deprecated and will be removed from pandas in a future version. Use pandas.concat instead.\n",
      "  df_copy = df_copy.append(orig_row, ignore_index=False)\n",
      "\n",
      "WARNING:py.warnings:/Users/wendy/_Lib/qiskit-metal/qiskit_metal/renderers/renderer_gds/gds_renderer.py:780: FutureWarning: The frame.append method is deprecated and will be removed from pandas in a future version. Use pandas.concat instead.\n",
      "  df_copy = df_copy.append(orig_row, ignore_index=False)\n",
      "\n",
      "04:52PM 52s WARNING [_import_junction_gds_file]: Not able to find file:\"../resources/Fake_Junctions.GDS\".  Not used to replace junction. Checked directory:\"/Users/wendy/Desktop/resources\".\n"
     ]
    },
    {
     "data": {
      "text/plain": [
       "1"
      ]
     },
     "execution_count": 210,
     "metadata": {},
     "output_type": "execute_result"
    }
   ],
   "source": [
    "\n",
    "# a_gds.options['short_segments_to_not_fillet'] = True\n",
    "# a_gds.options['check_short_segments_by_scaling_fillet'] = 1.0\n",
    "a_gds.export_to_gds('Crossmon__.gds')#, highlight_qcomponents=['TQ1'])"
   ]
  },
  {
   "cell_type": "code",
   "execution_count": null,
   "metadata": {},
   "outputs": [],
   "source": []
  }
 ],
 "metadata": {
  "kernelspec": {
   "display_name": "qiskit",
   "language": "python",
   "name": "python3"
  },
  "language_info": {
   "codemirror_mode": {
    "name": "ipython",
    "version": 3
   },
   "file_extension": ".py",
   "mimetype": "text/x-python",
   "name": "python",
   "nbconvert_exporter": "python",
   "pygments_lexer": "ipython3",
   "version": "3.11.0"
  },
  "orig_nbformat": 4
 },
 "nbformat": 4,
 "nbformat_minor": 2
}
