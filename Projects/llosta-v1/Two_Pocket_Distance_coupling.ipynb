{
 "cells": [
  {
   "cell_type": "markdown",
   "metadata": {},
   "source": [
    "This notebook shows how to design a transmon pocket (single pad design) in qiskit metal. The notebook only need **TransmonPocket_Single** function from a relative path '../../resources'."
   ]
  },
  {
   "cell_type": "code",
   "execution_count": null,
   "metadata": {},
   "outputs": [],
   "source": [
    "%reload_ext autoreload\n",
    "%autoreload 2"
   ]
  },
  {
   "cell_type": "code",
   "execution_count": null,
   "metadata": {},
   "outputs": [],
   "source": [
    "#This imports the necessary path to draw the single pad transmon design. \n",
    "import sys\n",
    "sys.path.append('Customized_Components')\n",
    "from rounded_single_pad import Round_TransmonPocket_Single as transmon\n",
    "import Transmon_property as trans_p\n",
    "import Transmon_specifications as jj\n",
    "\n",
    "import shapely\n",
    "import warnings\n",
    "from shapely.errors import ShapelyDeprecationWarning\n",
    "warnings.filterwarnings(\"ignore\", category=ShapelyDeprecationWarning)"
   ]
  },
  {
   "cell_type": "code",
   "execution_count": null,
   "metadata": {},
   "outputs": [],
   "source": [
    "import os\n",
    "import shutil\n",
    "import time"
   ]
  },
  {
   "cell_type": "code",
   "execution_count": null,
   "metadata": {},
   "outputs": [],
   "source": [
    "import numpy as np\n",
    "import astropy.units as u\n",
    "import astropy.constants as c\n",
    "\n",
    "import pandas as pd\n",
    "import matplotlib.pyplot as plt\n",
    "\n",
    "# %matplotlib inline"
   ]
  },
  {
   "cell_type": "code",
   "execution_count": null,
   "metadata": {},
   "outputs": [],
   "source": [
    "from qiskit_metal import designs, draw\n",
    "from qiskit_metal import MetalGUI, Dict, Headings\n",
    "\n",
    "from qiskit_metal.qlibrary.couplers.coupled_line_tee import CoupledLineTee\n",
    "# from qiskit_metal.qlibrary.terminations.short_to_ground import ShortToGround\n",
    "# from qiskit_metal.qlibrary.terminations.open_to_ground import OpenToGround\n",
    "from qiskit_metal.qlibrary.terminations.launchpad_wb import LaunchpadWirebond\n",
    "\n",
    "from qiskit_metal.qlibrary.tlines.mixed_path import RouteMixed\n",
    "# from qiskit_metal.qlibrary.tlines.straight_path import RouteStraight\n",
    "\n",
    "from qiskit_metal.analyses.quantization import LOManalysis\n",
    "from qiskit_metal.analyses.quantization import EPRanalysis\n",
    "\n",
    "# from qiskit_metal.toolbox_metal.parsing import *"
   ]
  },
  {
   "cell_type": "code",
   "execution_count": null,
   "metadata": {},
   "outputs": [],
   "source": [
    "# from qiskit_metal.qlibrary.terminations.short_to_ground import ShortToGround\n",
    "# from qiskit_metal.qlibrary.terminations.open_to_ground import OpenToGround\n"
   ]
  },
  {
   "cell_type": "code",
   "execution_count": null,
   "metadata": {},
   "outputs": [],
   "source": [
    "# pd.read_csv(\"Frequencies from metal pad size.csv\",).plot(x= 'Pad_len (mm)', y = 'EPR Frequency (GHz)')\n",
    "# plt.ylabel('Frequency (GHz)')\n",
    "# plt.show()"
   ]
  },
  {
   "attachments": {},
   "cell_type": "markdown",
   "metadata": {},
   "source": [
    "The target frequency is around 4.2GHz. To get this frequency, we need the pad size to be around 0.275mm."
   ]
  },
  {
   "attachments": {},
   "cell_type": "markdown",
   "metadata": {},
   "source": [
    "## Global variables"
   ]
  },
  {
   "cell_type": "code",
   "execution_count": null,
   "metadata": {},
   "outputs": [],
   "source": [
    "phi0 = c.h/2/c.e.si\n",
    "T = 30*u.mK\n",
    "epsilon_r = 11.45"
   ]
  },
  {
   "cell_type": "code",
   "execution_count": null,
   "metadata": {
    "tags": [
     "parameters"
    ]
   },
   "outputs": [],
   "source": [
    "design = designs.DesignPlanar({}, True)\n",
    "design.chips.main.size['size_x'] = '20 mm'\n",
    "design.chips.main.size['size_y'] = '10 mm'\n",
    "\n",
    "design.variables['cpw_width'] = '15 um'\n",
    "design.variables['cpw_gap'] = '9 um'\n",
    "\n",
    "design.variables['trace_width'] = '10 um'\n",
    "design.variables['trace_gap'] = '7 um'\n",
    "\n",
    "design.variables['pad_buffer_radius'] = '30 um'\n",
    "design.variables['buffer_resolution'] = '10'\n",
    "design.variables['connection_pad_buffer_radius'] = '2 um'\n",
    "# design.chips['main']['material'] = 'Silicon'\n",
    "\n",
    "gui = MetalGUI(design)"
   ]
  },
  {
   "attachments": {},
   "cell_type": "markdown",
   "metadata": {},
   "source": [
    "Component-specific variables"
   ]
  },
  {
   "cell_type": "code",
   "execution_count": null,
   "metadata": {
    "tags": [
     "parameters"
    ]
   },
   "outputs": [],
   "source": [
    "\n",
    "\n",
    "qb_options = dict(\n",
    "pad_pocket_distance_top = '40um',\n",
    "connection_pads = dict(\n",
    "    a = dict(loc_W  = 0, \n",
    "            loc_H =  1, \n",
    "            pad_gap = '15um',\n",
    "            pad_height = '15um',\n",
    "            pad_width = '80um',\n",
    "            pad_cpw_extent =  '10um',\n",
    "            pocket_rise = '0um',\n",
    "            cpw_extend = '0um',\n",
    "            pocket_extent = '0um',)))\n",
    "\n",
    "TQ_options = dict(prime_width = design.variables['cpw_width'],\n",
    "               prime_gap = design.variables['cpw_gap'],\n",
    "               second_width = design.variables['trace_width'],\n",
    "               second_gap = design.variables['trace_gap'],\n",
    "               down_length = '60um',\n",
    "               coupling_space = '5um',\n",
    "               open_termination=False,\n",
    "               hfss_wire_bonds = False,\n",
    "               q3d_wire_bonds = False)\n",
    "\n",
    "CPW_options = Dict(trace_width = design.variables['trace_width'],\n",
    "               trace_gap  = design.variables['trace_gap'],\n",
    "        total_length='5 mm',\n",
    "        hfss_wire_bonds = True,\n",
    "        q3d_wire_bonds = True,\n",
    "        fillet='30 um',\n",
    "        lead = dict(start_straight='20um', end_straight = '50um'),\n",
    "        pin_inputs=Dict(\n",
    "            start_pin=Dict(component='Q1', pin='a'),\n",
    "            end_pin=Dict(component='TQ1', pin='second_end')), )\n",
    "\n",
    "pin_inputs = Dict(\n",
    "            start_pin=Dict(component='Q1', pin='a'),\n",
    "            end_pin=Dict(component='TQ1', pin='second_end'))\n",
    "\n",
    "trans_options = Dict(hfss_wire_bonds = True,\n",
    "                     q3d_wirebonds = True,\n",
    "               pin_inputs=Dict(\n",
    "                 start_pin=Dict(\n",
    "                     component='TQ1',\n",
    "                     pin='prime_start'),\n",
    "                 end_pin=Dict(\n",
    "                     component='TQ2',\n",
    "                     pin='prime_end')))\n"
   ]
  },
  {
   "attachments": {},
   "cell_type": "markdown",
   "metadata": {},
   "source": [
    "## Design"
   ]
  },
  {
   "attachments": {},
   "cell_type": "markdown",
   "metadata": {},
   "source": [
    "Single pad transmon"
   ]
  },
  {
   "cell_type": "code",
   "execution_count": null,
   "metadata": {},
   "outputs": [],
   "source": [
    "design.delete_all_components()"
   ]
  },
  {
   "cell_type": "code",
   "execution_count": null,
   "metadata": {},
   "outputs": [],
   "source": [
    "design.overwrite_enabled = True\n",
    "\n",
    "size = 0.25*u.mm\n",
    "gap = 30*u.um\n",
    "size = size.to(u.um)\n",
    "pocket_width = size+2*gap\n",
    "\n",
    "\n",
    "op = Dict(\n",
    "    pos_x = '0',\n",
    "    pad_height = '{}um'.format(size.value),\n",
    "    pos_y = '0',\n",
    "    pad_width = '{}'.format(size),\n",
    "    pocket_width = '{}'.format(pocket_width), \n",
    "    **qb_options)\n",
    "\n",
    "q1 = transmon(design,'Q1',options = op)\n",
    "\n",
    "gui.rebuild()\n",
    "gui.zoom_on_components(['Q1'])\n"
   ]
  },
  {
   "cell_type": "code",
   "execution_count": null,
   "metadata": {},
   "outputs": [],
   "source": [
    "op = Dict(\n",
    "    pos_x = '1mm',\n",
    "    pad_height = '{}um'.format(size.value),\n",
    "    pos_y = '0',\n",
    "    pad_width = '{}'.format(size),\n",
    "    pocket_width = '{}'.format(pocket_width), \n",
    "    **qb_options)\n",
    "\n",
    "q2 = transmon(design,'Q2',options = op)\n",
    "\n",
    "gui.rebuild()\n",
    "gui.zoom_on_components(['Q2'])"
   ]
  },
  {
   "attachments": {},
   "cell_type": "markdown",
   "metadata": {},
   "source": [
    "Coupled Line Tee"
   ]
  },
  {
   "cell_type": "code",
   "execution_count": null,
   "metadata": {},
   "outputs": [],
   "source": [
    "TQ_options['down_length'] = '40 um'\n",
    "TQ1 = CoupledLineTee(design, 'TQ1', options=dict(pos_x='-0.1 mm',\n",
    "                                             pos_y='0.5 mm',\n",
    "                                             mirror = True,\n",
    "                                             coupling_length='120 um', **TQ_options))\n",
    "TQ1.options['open_termination'] = False\n",
    "\n",
    "gui.rebuild()\n",
    "gui.autoscale()"
   ]
  },
  {
   "cell_type": "code",
   "execution_count": null,
   "metadata": {},
   "outputs": [],
   "source": [
    "TQ2 = CoupledLineTee(design, 'TQ2', options=dict(pos_x='0.9 mm',\n",
    "                                             pos_y='0.5 mm',\n",
    "                                             mirror = True,\n",
    "                                             coupling_length='120 um', **TQ_options))\n",
    "TQ2.options['open_termination'] = False\n",
    "\n",
    "gui.rebuild()\n",
    "gui.autoscale()"
   ]
  },
  {
   "cell_type": "code",
   "execution_count": null,
   "metadata": {},
   "outputs": [],
   "source": [
    "q1.name[-1:]"
   ]
  },
  {
   "attachments": {},
   "cell_type": "markdown",
   "metadata": {},
   "source": [
    "Function that constructs CPW"
   ]
  },
  {
   "cell_type": "code",
   "execution_count": null,
   "metadata": {},
   "outputs": [],
   "source": [
    "def Construct_CPW(q,TQ,pad_size, offset, extend, Lj, Cj, TQx,TQy, small, TQ_mir, buffer = 150*u.um):\n",
    "    gap1 = 0.056\n",
    "    gap = 30*u.um\n",
    "    size = pad_size.to(u.um)\n",
    "    pocket_width = size+2*gap\n",
    "    design.delete_component('cpw_1')\n",
    "    coupling_len = extend\n",
    "    q.options['pad_height'] = '{}'.format(size)\n",
    "    q.options['pad_width'] = '{}'.format(size)\n",
    "    q.options['pocket_width'] = '{}'.format(pocket_width)\n",
    "    q.options['connection_pads']['a']['pad_width'] = '{}'.format(coupling_len)\n",
    "    q.options.hfss_inductance = Lj\n",
    "    q.options.q3d_inductance =  Lj\n",
    "    q.options.hfss_capacitance = Cj\n",
    "    q.options.q3d_capacitance =  Cj\n",
    "\n",
    "\n",
    "\n",
    "    eig_all.sim.renderer.options['Lj'] = Lj\n",
    "    eig_all.sim.renderer.options['Cj'] = Cj\n",
    "\n",
    "    eig_all.sim.setup.vars = Dict(Lj1= Lj, Cj1= Cj)    \n",
    "    gui.rebuild()\n",
    "    \n",
    "\n",
    "    anchors = trans_p.anchor_CPW_round(q,buffer, gap1, 2, small = small, last_offset = offset)\n",
    "    design.delete_component('cpw_1')\n",
    "    gui.rebuild()\n",
    "    TQ.options.pos_x = TQx\n",
    "    TQ.options.pos_y = TQy\n",
    "    TQ.options.mirror = TQ_mir\n",
    "    gui.rebuild()\n",
    "    \n",
    "    pin_inputs = Dict(\n",
    "                start_pin=Dict(component=q.name, pin='a'),\n",
    "                end_pin=Dict(component=TQ.name, pin='second_end'))\n",
    "\n",
    "    CPW_options['pin_inputs'] = pin_inputs\n",
    "\n",
    "    qa = RouteMixed(design, 'cpw_'+q.name[-1:], options = Dict(anchors = anchors, **CPW_options))\n",
    "\n",
    "    gui.rebuild()\n",
    "\n",
    "    return qa\n",
    "\n",
    "    \n",
    "    # length = trans_p.find_total_len(qa, q1, TQ1, count_extend=False)\n",
    "    # return (trans_p.find_actual_frequency(length, cpw_pin_width, cpw_gap), length)"
   ]
  },
  {
   "attachments": {},
   "cell_type": "markdown",
   "metadata": {},
   "source": [
    "Import the file that contains optimal qubit-CPW specs"
   ]
  },
  {
   "cell_type": "code",
   "execution_count": null,
   "metadata": {},
   "outputs": [],
   "source": [
    "data = pd.read_csv('data/educated_guess_0402.csv')"
   ]
  },
  {
   "cell_type": "code",
   "execution_count": null,
   "metadata": {},
   "outputs": [],
   "source": [
    "data"
   ]
  },
  {
   "cell_type": "code",
   "execution_count": null,
   "metadata": {},
   "outputs": [],
   "source": [
    "index = data.keys()"
   ]
  },
  {
   "cell_type": "code",
   "execution_count": null,
   "metadata": {},
   "outputs": [],
   "source": [
    "index"
   ]
  },
  {
   "cell_type": "code",
   "execution_count": null,
   "metadata": {},
   "outputs": [],
   "source": [
    "freqs = data['Target_qb_Freq(GHz)'].values\n",
    "sizes = list(data[index[2]].values)\n",
    "Ljs = list((data[index[3]].values).astype(str))\n",
    "buffers = list((data[index[4]].values))\n",
    "offsets = list(data[index[5]].values)\n",
    "coupling_space = np.array([])\n",
    "TQx = list((data[index[6]].values).astype(str))\n",
    "TQy = list((data[index[7]].values).astype(str))\n",
    "small = list(data[index[8]].values)\n",
    "TQ_mir = list((data[index[9]].values))\n",
    "cpw_freq_predict = list(data[index[10]].values)"
   ]
  },
  {
   "cell_type": "code",
   "execution_count": null,
   "metadata": {},
   "outputs": [],
   "source": []
  },
  {
   "cell_type": "code",
   "execution_count": null,
   "metadata": {},
   "outputs": [],
   "source": []
  },
  {
   "attachments": {},
   "cell_type": "markdown",
   "metadata": {},
   "source": [
    "# Simulation of Couplings"
   ]
  },
  {
   "attachments": {},
   "cell_type": "markdown",
   "metadata": {},
   "source": [
    "Import Qiskit Packages"
   ]
  },
  {
   "cell_type": "code",
   "execution_count": null,
   "metadata": {},
   "outputs": [],
   "source": [
    "from qiskit_metal.analyses.quantization import LOManalysis\n",
    "from qiskit_metal.analyses.quantization import EPRanalysis"
   ]
  },
  {
   "attachments": {},
   "cell_type": "markdown",
   "metadata": {},
   "source": [
    "Set the right path for Ansys Screenshots"
   ]
  },
  {
   "cell_type": "code",
   "execution_count": null,
   "metadata": {},
   "outputs": [],
   "source": [
    "day = '0403'\n",
    "time = '1130'\n",
    "original = r'C:\\Users\\slab\\Desktop\\Wendy-qiskit-code\\ansys.png'\n",
    "path = r'C:\\Users\\slab\\Desktop\\Wendy-qiskit-code\\Ansys_screenshoots\\Simulation'+day+trys"
   ]
  },
  {
   "cell_type": "code",
   "execution_count": null,
   "metadata": {},
   "outputs": [],
   "source": [
    "components  = ['Q1','cpw_1','TQ1','Q2','TQ2','cpw_2','cpw_mid']\n",
    "nmode = 4\n",
    "datas = pd.DataFrame()"
   ]
  },
  {
   "cell_type": "code",
   "execution_count": null,
   "metadata": {},
   "outputs": [],
   "source": []
  },
  {
   "cell_type": "code",
   "execution_count": null,
   "metadata": {},
   "outputs": [],
   "source": []
  },
  {
   "cell_type": "code",
   "execution_count": null,
   "metadata": {},
   "outputs": [],
   "source": []
  },
  {
   "attachments": {},
   "cell_type": "markdown",
   "metadata": {},
   "source": [
    "# Two Qubit design"
   ]
  },
  {
   "cell_type": "code",
   "execution_count": null,
   "metadata": {},
   "outputs": [],
   "source": [
    "design.delete_all_components()"
   ]
  },
  {
   "attachments": {},
   "cell_type": "markdown",
   "metadata": {},
   "source": [
    "## Draw"
   ]
  },
  {
   "attachments": {},
   "cell_type": "markdown",
   "metadata": {},
   "source": [
    "### Transmission Line"
   ]
  },
  {
   "cell_type": "code",
   "execution_count": null,
   "metadata": {},
   "outputs": [],
   "source": [
    "\n",
    "# TQ_options['down_length'] = '40 um'\n",
    "\n",
    "# TQ1 = CoupledLineTee(design, 'TQ1', options=dict(pos_x='-0.23 mm',\n",
    "#                                              pos_y='0.5 mm', \n",
    "#                                              mirror = True,\n",
    "#                                              coupling_length='120 um', **TQ_options))\n",
    "\n",
    "# TQ2 = CoupledLineTee(design, 'TQ2', options=dict(pos_x='0.43 mm',\n",
    "#                                              pos_y='0.5 mm',\n",
    "#                                              mirror = True,\n",
    "                                            #  coupling_length='120 um', **TQ_options))\n",
    "\n",
    "trans_options['pin_inputs']['start_pin']['component'] = 'TQ1'\n",
    "trans_options['pin_inputs']['start_pin']['pin'] = 'prime_end'\n",
    "trans_options['pin_inputs']['end_pin']['component'] = 'TQ2'\n",
    "trans_options['pin_inputs']['end_pin']['pin'] = 'prime_start'\n",
    "middle = RouteStraight(design, 'CPW_mid', trans_options)\n",
    "\n",
    "# wb_left = LaunchpadWirebond(design,'wb_left', options = Dict(pos_x = '-0.6mm',pos_y = '0.5mm'))\n",
    "# wb_left = LaunchpadWirebond(design,'wb_right', options = Dict(pos_x = '10mm',pos_y = '0.5mm',orientation = '180'))\n",
    "\n",
    "# trans_options['pin_inputs']['start_pin']['component'] = 'wb_left'\n",
    "# trans_options['pin_inputs']['start_pin']['pin'] = 'tie'\n",
    "# trans_options['pin_inputs']['end_pin']['component'] = 'TQ1'\n",
    "# trans_options['pin_inputs']['end_pin']['pin'] = 'prime_start'\n",
    "\n",
    "# left = RouteStraight(design,'CPW_left', trans_options)\n",
    "\n",
    "# trans_options['pin_inputs']['start_pin']['component'] = 'wb_right'\n",
    "# trans_options['pin_inputs']['start_pin']['pin'] = 'tie'\n",
    "# trans_options['pin_inputs']['end_pin']['component'] = 'TQ2'\n",
    "# trans_options['pin_inputs']['end_pin']['pin'] = 'prime_end'\n",
    "\n",
    "# right = RouteStraight(design,'CPW_right', trans_options)\n",
    "\n",
    "\n",
    "gui.rebuild()\n",
    "gui.zoom_on_components(['TQ1','TQ2'])"
   ]
  },
  {
   "attachments": {},
   "cell_type": "markdown",
   "metadata": {},
   "source": [
    "### Qubit 1"
   ]
  },
  {
   "cell_type": "code",
   "execution_count": null,
   "metadata": {},
   "outputs": [],
   "source": [
    "freqs_size = {}\n",
    "freqs_size['4GHz'] = size1\n",
    "freqs_size['4.2GHz'] = size2\n"
   ]
  },
  {
   "cell_type": "code",
   "execution_count": null,
   "metadata": {},
   "outputs": [],
   "source": []
  },
  {
   "cell_type": "code",
   "execution_count": null,
   "metadata": {},
   "outputs": [],
   "source": [
    "size1 = 250*u.um\n",
    "size2 = 200*u.um\n",
    "gap = 30*u.um\n",
    "size1 = size1.to(u.um)\n",
    "pocket_width1 = size1+2*gap\n",
    "pocket_width2 = size2+2*gap\n",
    "\n",
    "\n",
    "q1 = TransmonPocket_Single(design,'Q1', \n",
    "                           options = Dict(pocket_width = '{}'.format(pocket_width1),\n",
    "                                          pad_width = '{}'.format(size1), \n",
    "                           pad_height = '{}'.format(size1),\n",
    "                           pos_x = '0', pox_y = '0', **qb_options))\n",
    "\n",
    "anchor = trans_p.anchor_CPW(q1, 150*u.um,0.05,2,last_offset = 0.4)\n",
    "# last = anchor[len(anchor)-1]\n",
    "# first = anchor[0]\n",
    "# anchor[len(anchor)-1] = np.array([first[0]-0.05,last[1]])\n",
    "\n",
    "design.delete_component('cpw1')\n",
    "pin_inputs['start_pin']['component'] = 'Q1'\n",
    "pin_inputs['start_pin']['pin'] = 'a'\n",
    "pin_inputs['end_pin']['component'] = 'TQ1'\n",
    "pin_inputs['end_pin']['pin'] = 'second_end'\n",
    "CPW_options['pin_inputs'] = pin_inputs\n",
    "op = Dict(anchors = anchor, **CPW_options)\n",
    "\n",
    "\n",
    "cpw1 = RouteMixed(design, 'cpw_1', op)\n",
    "\n",
    "gui.rebuild()\n",
    "gui.autoscale()\n",
    "\n",
    "gui.zoom_on_components(['Q1', 'cpw_1','TQ1'])"
   ]
  },
  {
   "attachments": {},
   "cell_type": "markdown",
   "metadata": {},
   "source": [
    "Calculate CPW1 length and analytical frequency"
   ]
  },
  {
   "cell_type": "code",
   "execution_count": null,
   "metadata": {},
   "outputs": [],
   "source": [
    "len1 = trans_p.find_total_len(cpw1, q1,TQ1,count_extend=True)\n",
    "print(len1)\n",
    "trans_p.find_actual_frequency(len1, 15*u.um, 9*u.um)"
   ]
  },
  {
   "attachments": {},
   "cell_type": "markdown",
   "metadata": {},
   "source": [
    "### Qubit 2"
   ]
  },
  {
   "cell_type": "code",
   "execution_count": null,
   "metadata": {},
   "outputs": [],
   "source": [
    "x = 0.4/size1*size2\n",
    "print(x)"
   ]
  },
  {
   "cell_type": "code",
   "execution_count": null,
   "metadata": {},
   "outputs": [],
   "source": [
    "q2 = TransmonPocket_Single(design,'Q2',\n",
    "                           options = Dict(pocket_width = '{}'.format(pocket_width2),\n",
    "                                          pad_width = '{}'.format(size2), \n",
    "                           pad_height = '{}'.format(size2),\n",
    "                           pos_x = '0.65', pox_y = '0', **qb_options))\n",
    "\n",
    "\n",
    "anchor = trans_p.anchor_CPW(q2, 150*u.um,0.05,2,last_offset = x.value)\n",
    "# last = anchor[len(anchor)-1]\n",
    "# first = anchor[0]\n",
    "# anchor[len(anchor)-1] = np.array([first[0]-0.05,last[1]])\n",
    "\n",
    "design.delete_component('cpw2')\n",
    "pin_inputs['start_pin']['component'] = 'Q2'\n",
    "pin_inputs['end_pin']['component'] = 'TQ2'\n",
    "CPW_options['pin_inputs'] = pin_inputs\n",
    "op = Dict(anchors = anchor, **CPW_options)\n",
    "\n",
    "\n",
    "cpw2 = RouteMixed(design, 'cpw_2', op)\n",
    "\n",
    "gui.rebuild()\n",
    "gui.zoom_on_components(['Q2', 'cpw_2','TQ2'])"
   ]
  },
  {
   "attachments": {},
   "cell_type": "markdown",
   "metadata": {},
   "source": [
    "Calculate CPW2 length and analytical frequency"
   ]
  },
  {
   "cell_type": "code",
   "execution_count": null,
   "metadata": {},
   "outputs": [],
   "source": [
    "len2 = trans_p.find_total_len(cpw2, q2,TQ1,count_extend=True)\n",
    "print(len2)\n",
    "trans_p.find_actual_frequency(len2, 10*u.um, 7*u.um)"
   ]
  },
  {
   "attachments": {},
   "cell_type": "markdown",
   "metadata": {},
   "source": [
    "## Simulate"
   ]
  },
  {
   "cell_type": "code",
   "execution_count": null,
   "metadata": {},
   "outputs": [],
   "source": [
    "qcomps = design.components  # short handle (alias)\n",
    "qcomps['Q1'].options['hfss_inductance'] = 'Lj1'\n",
    "qcomps['Q1'].options['hfss_capacitance'] = 'Cj1'\n",
    "qcomps['Q2'].options['hfss_inductance'] = 'Lj2'\n",
    "qcomps['Q2'].options['hfss_capacitance'] = 'Cj2'\n",
    "\n",
    "\n",
    "\n",
    "q1.options.hfss_inductance = '13 nH'\n",
    "q2.options.hfss_inductance = '13 nH'\n",
    "gui.rebuild()  # line needed to propagate the updates from the qubit instance into the junction design table\n",
    "gui.autoscale()"
   ]
  },
  {
   "cell_type": "code",
   "execution_count": null,
   "metadata": {},
   "outputs": [],
   "source": [
    "cs = LOManalysis(design, \"q3d\")\n",
    "cs.sim.setup.min_passes  = 10\n",
    "cs.sim.setup.max_passes = 30\n",
    "cs.sim.setup.freq_ghz = 4"
   ]
  },
  {
   "cell_type": "code",
   "execution_count": null,
   "metadata": {},
   "outputs": [],
   "source": [
    "eig_qb = EPRanalysis(design, 'hfss')\n",
    "    \n",
    "eig_qb.sim.setup.max_passes = 15\n",
    "eig_qb.sim.setup.max_delta_f = 0.2\n",
    "eig_qb.sim.setup.n_modes = 2\n",
    "# eig_qb.sim.setup.vars = Dict(Lj1= '13 nH', Cj1= '0 fF')\n",
    "# eig_qb.sim.setup.vars = Dict(Lj2= '13 nH', Cj2= '0 fF')\n",
    "\n",
    "eig_qb.sim.renderer.options['x_buffer_width_mm'] = 0.5\n",
    "eig_qb.sim.renderer.options['y_buffer_width_mm'] = 0.5"
   ]
  },
  {
   "attachments": {},
   "cell_type": "markdown",
   "metadata": {},
   "source": [
    "### Q1 CPW1"
   ]
  },
  {
   "cell_type": "code",
   "execution_count": null,
   "metadata": {},
   "outputs": [],
   "source": [
    "TQ1.options['open_termination'] = True\n",
    "gui.rebuild()\n",
    "\n",
    "cs.sim.run(components=['Q1','cpw_1','TQ1'])"
   ]
  },
  {
   "cell_type": "code",
   "execution_count": null,
   "metadata": {},
   "outputs": [],
   "source": [
    "cs.sim.capacitance_matrix"
   ]
  },
  {
   "cell_type": "code",
   "execution_count": null,
   "metadata": {},
   "outputs": [],
   "source": [
    "TQ1.options['open_termination'] = False\n",
    "gui.rebuild()"
   ]
  },
  {
   "cell_type": "code",
   "execution_count": null,
   "metadata": {},
   "outputs": [],
   "source": [
    "eig_qb.sim.run(name=\"Transmons_CPW\", components=['Q1', 'cpw_1','TQ1'])"
   ]
  },
  {
   "cell_type": "code",
   "execution_count": null,
   "metadata": {},
   "outputs": [],
   "source": [
    "fs = eig_qb.get_frequencies()"
   ]
  },
  {
   "cell_type": "code",
   "execution_count": null,
   "metadata": {},
   "outputs": [],
   "source": [
    "fs"
   ]
  },
  {
   "cell_type": "code",
   "execution_count": null,
   "metadata": {},
   "outputs": [],
   "source": [
    "eig_qb.sim.renderer.options['Lj1'] = '13nH'\n",
    "eig_qb.sim.renderer.options['Cj1'] = '0'"
   ]
  },
  {
   "cell_type": "code",
   "execution_count": null,
   "metadata": {},
   "outputs": [],
   "source": [
    "del eig_qb.setup.junctions['jj']"
   ]
  },
  {
   "cell_type": "code",
   "execution_count": null,
   "metadata": {},
   "outputs": [],
   "source": [
    "qcomps = design.components  # short handle (alias)\n",
    "qcomps['Q1'].options['hfss_inductance'] = 'Lj1'\n",
    "qcomps['Q1'].options['hfss_capacitance'] = 'Cj1'\n",
    "gui.rebuild()  # line needed to propagate the updates from the qubit instance into the junction design table\n",
    "gui.autoscale()"
   ]
  },
  {
   "cell_type": "code",
   "execution_count": null,
   "metadata": {},
   "outputs": [],
   "source": [
    "eig_qb.sim.setup.vars = Dict(Lj1= '13 nH', Cj1= '0 fF')\n",
    "\n",
    "eig_qb.setup.junctions.jj1 = Dict(rect='JJ_rect_Lj_Q1_rect_jj', line='JJ_Lj_Q1_rect_jj_',\n",
    "                Lj_variable='Lj1', Cj_variable='Cj1')\n",
    "eig_qb.setup.sweep_variable = 'Lj1'\n",
    "eig_qb.run_epr()"
   ]
  },
  {
   "attachments": {},
   "cell_type": "markdown",
   "metadata": {},
   "source": [
    "### QB2 CPW2"
   ]
  },
  {
   "cell_type": "code",
   "execution_count": null,
   "metadata": {},
   "outputs": [],
   "source": [
    "TQ2.options['open_termination'] = True\n",
    "gui.rebuild()\n",
    "\n",
    "cs.sim.run(components=['Q2','cpw_2','TQ2'])"
   ]
  },
  {
   "cell_type": "code",
   "execution_count": null,
   "metadata": {},
   "outputs": [],
   "source": [
    "c_mat  = cs.sim.capacitance_matrix\n",
    "c_mat"
   ]
  },
  {
   "cell_type": "code",
   "execution_count": null,
   "metadata": {},
   "outputs": [],
   "source": []
  },
  {
   "cell_type": "code",
   "execution_count": null,
   "metadata": {},
   "outputs": [],
   "source": [
    "TQ2.options['open_termination'] = False\n",
    "gui.rebuild()\n",
    "cs.sim.run(components=['Q2','cpw_2','TQ2'])"
   ]
  },
  {
   "cell_type": "code",
   "execution_count": null,
   "metadata": {},
   "outputs": [],
   "source": [
    "c_mat  = cs.sim.capacitance_matrix\n",
    "c_mat"
   ]
  },
  {
   "cell_type": "code",
   "execution_count": null,
   "metadata": {},
   "outputs": [],
   "source": [
    "cq = -c_mat['a_connector_pad_Q2']['pad_top_Q2']\n",
    "trans_p.freq_from_cap(cq*u.fF)"
   ]
  },
  {
   "cell_type": "code",
   "execution_count": null,
   "metadata": {},
   "outputs": [],
   "source": [
    "eig_qb.sim.run(name=\"Transmons_CPW\", components=['Q2', 'cpw_2','TQ2'])"
   ]
  },
  {
   "cell_type": "code",
   "execution_count": null,
   "metadata": {},
   "outputs": [],
   "source": [
    "fs = eig_qb.get_frequencies()"
   ]
  },
  {
   "cell_type": "code",
   "execution_count": null,
   "metadata": {},
   "outputs": [],
   "source": [
    "fs"
   ]
  },
  {
   "cell_type": "code",
   "execution_count": null,
   "metadata": {},
   "outputs": [],
   "source": [
    "eig_qb.sim.renderer.options['Lj2'] = '13nH'\n",
    "eig_qb.sim.renderer.options['Cj2'] = '0'"
   ]
  },
  {
   "cell_type": "code",
   "execution_count": null,
   "metadata": {},
   "outputs": [],
   "source": [
    "del eig_qb.setup.junctions['jj']"
   ]
  },
  {
   "cell_type": "code",
   "execution_count": null,
   "metadata": {},
   "outputs": [],
   "source": [
    "qcomps = design.components  # short handle (alias)\n",
    "qcomps['Q2'].options['hfss_inductance'] = 'Lj2'\n",
    "qcomps['Q2'].options['hfss_capacitance'] = 'Cj2'\n",
    "gui.rebuild()  # line needed to propagate the updates from the qubit instance into the junction design table\n",
    "gui.autoscale()"
   ]
  },
  {
   "cell_type": "code",
   "execution_count": null,
   "metadata": {},
   "outputs": [],
   "source": [
    "eig_qb.sim.setup.vars = Dict(Lj1= '13 nH', Cj1= '0 fF')\n",
    "\n",
    "eig_qb.setup.junctions.jj1 = Dict(rect='JJ_rect_Lj_Q2_rect_jj', line='JJ_Lj_Q2_rect_jj_',\n",
    "                Lj_variable='Lj2', Cj_variable='Cj2')\n",
    "eig_qb.setup.sweep_variable = 'Lj2'\n",
    "eig_qb.run_epr()"
   ]
  },
  {
   "attachments": {},
   "cell_type": "markdown",
   "metadata": {},
   "source": [
    "# Simulation of 2 QB"
   ]
  },
  {
   "cell_type": "code",
   "execution_count": null,
   "metadata": {},
   "outputs": [],
   "source": [
    "components_all = ['Q1','Q2','cpw_1','cpw_2','TQ1','TQ2','CPW_left','CPW_right', 'CPW_mid','wb_left','wb_right']"
   ]
  },
  {
   "attachments": {},
   "cell_type": "markdown",
   "metadata": {},
   "source": [
    "## Capacitance"
   ]
  },
  {
   "cell_type": "code",
   "execution_count": null,
   "metadata": {},
   "outputs": [],
   "source": [
    "c = LOManalysis(design, \"q3d\")\n",
    "c.sim.setup.min_passes  = 10\n",
    "c.sim.setup.max_passes = 30"
   ]
  },
  {
   "cell_type": "code",
   "execution_count": null,
   "metadata": {},
   "outputs": [],
   "source": [
    "c.sim.run(components=['Q1','Q2','cpw_1','cpw_2','TQ1','TQ2','wb_left','wb_right','CPW_left','CPW_right', 'CPW_mid'])\n",
    "c.sim.capacitance_matrix \n",
    "\n",
    "c.sim._get_results_from_renderer()\n",
    "c_mat = c.sim.capacitance_matrix"
   ]
  },
  {
   "cell_type": "code",
   "execution_count": null,
   "metadata": {},
   "outputs": [],
   "source": [
    "c_mat "
   ]
  },
  {
   "cell_type": "code",
   "execution_count": null,
   "metadata": {},
   "outputs": [],
   "source": [
    "C = c_mat.values[2:,2:]"
   ]
  },
  {
   "cell_type": "code",
   "execution_count": null,
   "metadata": {},
   "outputs": [],
   "source": [
    "C"
   ]
  },
  {
   "attachments": {},
   "cell_type": "markdown",
   "metadata": {},
   "source": [
    "## EPR"
   ]
  },
  {
   "cell_type": "code",
   "execution_count": null,
   "metadata": {},
   "outputs": [],
   "source": [
    "eig_all = EPRanalysis(design, 'hfss')"
   ]
  },
  {
   "cell_type": "code",
   "execution_count": null,
   "metadata": {},
   "outputs": [],
   "source": [
    "\n",
    "\n",
    "components = ['Q1','Q2','cpw_1','cpw_2','TQ1','TQ2','CPW_mid','CPW_left','CPW_right']\n",
    "#'wb_left','wb_right','CPW_left','CPW_right', \n",
    "\n",
    "hfss = eig_all.sim.renderer\n",
    "\n",
    "eig_all.sim.renderer.options['Lj'] = '13nH'\n",
    "eig_all.sim.renderer.options['wb_threshold'] = '72um'\n",
    "\n",
    "eig_all.sim.setup.max_passes = 5\n",
    "eig_all.sim.setup.max_delta_f = 0.05\n",
    "eig_all.sim.setup.n_modes = 4\n",
    "eig_all.sim.setup.vars = Dict(Lj1= '13 nH', Cj1= '0 fF',Lj2 = '13nH', Cj2 = '0fF')\n",
    "eig_all.sim.renderer.options['x_buffer_width_mm'] = 0.5\n",
    "eig_all.sim.renderer.options['y_buffer_width_mm'] = 0.5\n",
    "eig_all.sim.run(name=\"all_freqs\", components=components)#, open_terminations=[('Q1', 'a')])\n",
    "convergence = pd.read_csv('hfss_eig_f_convergence.csv')"
   ]
  },
  {
   "cell_type": "code",
   "execution_count": null,
   "metadata": {},
   "outputs": [],
   "source": [
    "convergence.dropna()"
   ]
  },
  {
   "cell_type": "code",
   "execution_count": null,
   "metadata": {},
   "outputs": [],
   "source": [
    "del eig_all.setup.junctions['jj']\n",
    "eig_all.setup.junctions.jj1 = Dict(rect='JJ_rect_Lj_Q1_rect_jj', line='JJ_Lj_Q1_rect_jj_',\n",
    "                Lj_variable='Lj1', Cj_variable='Cj1')\n",
    "eig_all.setup.junctions.jj2 = Dict(rect='JJ_rect_Lj_Q2_rect_jj', line='JJ_Lj_Q2_rect_jj_',\n",
    "                Lj_variable='Lj2', Cj_variable='Cj2')\n",
    "eig_all.setup.sweep_variable = 'Lj1'\n",
    "eig_all.run_epr()\n",
    "\n",
    "chi = eig_all.sim.renderer.epr_quantum_analysis.get_chis().to_numpy()[0][0]\n",
    "freq_EPR= eig_all.sim.renderer.epr_quantum_analysis.get_frequencies().to_numpy()[0][0]"
   ]
  },
  {
   "cell_type": "code",
   "execution_count": null,
   "metadata": {},
   "outputs": [],
   "source": []
  },
  {
   "attachments": {},
   "cell_type": "markdown",
   "metadata": {},
   "source": [
    "# A huge loop"
   ]
  },
  {
   "cell_type": "code",
   "execution_count": null,
   "metadata": {},
   "outputs": [],
   "source": [
    "xs = np.linspace(0.65,14.5,10)\n",
    "components = ['Q1','Q2','cpw_1','cpw_2','TQ1','TQ2'] \n",
    "components_all = ['Q1','Q2','cpw_1','cpw_2','TQ1','TQ2',\n",
    "                  'CPW_left','CPW_right', 'CPW_mid','wb_left','wb_right']\n",
    "#we are not simulating the feedline here since it contains a mode close to the qubit frequency"
   ]
  },
  {
   "cell_type": "code",
   "execution_count": null,
   "metadata": {},
   "outputs": [],
   "source": [
    "c = LOManalysis(design, \"q3d\")\n",
    "c.sim.setup.min_passes  = 2\n",
    "c.sim.setup.percent_error = 10"
   ]
  },
  {
   "cell_type": "code",
   "execution_count": null,
   "metadata": {},
   "outputs": [],
   "source": [
    "eig_all = EPRanalysis(design, 'hfss')\n",
    "eig_all.sim.setup.min_passes = 5\n",
    "eig_all.sim.setup.max_delta_f = 0.2"
   ]
  },
  {
   "cell_type": "code",
   "execution_count": null,
   "metadata": {},
   "outputs": [],
   "source": [
    "hfss = eig_all.sim.renderer\n",
    "original = r'C:\\Users\\slab\\Desktop\\Wendy-qiskit-code\\ansys.png'\n",
    "path = r'C:\\Users\\slab\\Desktop\\Wendy-qiskit-code\\Ansys_screenshoots\\Simulation_0304'"
   ]
  },
  {
   "attachments": {},
   "cell_type": "markdown",
   "metadata": {},
   "source": [
    "debugging"
   ]
  },
  {
   "cell_type": "code",
   "execution_count": null,
   "metadata": {},
   "outputs": [],
   "source": [
    "# eig_all.clear\n",
    "# renderer_hfss.clean_active_design()"
   ]
  },
  {
   "cell_type": "code",
   "execution_count": null,
   "metadata": {},
   "outputs": [],
   "source": [
    "renderer_hfss = design.renderers.hfss\n",
    "renderer_q3d = design.renderers.q3d\n",
    "gds = design.renderers.gds"
   ]
  },
  {
   "cell_type": "code",
   "execution_count": null,
   "metadata": {},
   "outputs": [],
   "source": [
    "renderer_q3d.clean_active_design()\n",
    "renderer_hfss.clean_active_design()"
   ]
  },
  {
   "cell_type": "code",
   "execution_count": null,
   "metadata": {},
   "outputs": [],
   "source": [
    "renderer_hfss.clean_active_design()"
   ]
  },
  {
   "cell_type": "code",
   "execution_count": null,
   "metadata": {},
   "outputs": [],
   "source": [
    "datas = pd.DataFrame()\n",
    "mode = 0\n",
    "x = xs[0]\n",
    "data = {}\n",
    "nmodes = 5\n",
    "\n",
    "data['Pos1_x(mm)'] = 0\n",
    "data['Pos2_x(mm)'] = x\n",
    "\n",
    "design.delete_component('cpw_2')\n",
    "\n",
    "TQ2.options['pos_x'] = x-0.22\n",
    "q2.options['pos_x'] = x\n",
    "anchor = trans_p.anchor_CPW(q2, 150*u.um,0.05,2,last_offset = 0.4)\n",
    "# cpw2.options['anchors'] = anchor\n",
    "pin_inputs['start_pin']['component'] = 'Q2'\n",
    "pin_inputs['end_pin']['component'] = 'TQ2'\n",
    "CPW_options['pin_inputs'] = pin_inputs\n",
    "op = Dict(anchors = anchor, **CPW_options)\n",
    "cpw2 = RouteMixed(design, 'cpw_2', op)\n",
    "\n",
    "gui.rebuild()\n",
    "\n",
    "c.sim.setup.min_passes  = 10\n",
    "c.sim.setup.max_passes = 30\n",
    "c.sim.run(components=components_all)\n",
    "c.sim.capacitance_matrix \n",
    "\n",
    "c.sim._get_results_from_renderer()\n",
    "c_mat = c.sim.capacitance_matrix\n",
    "\n",
    "renderer_q3d.clean_active_design()\n",
    "\n",
    "c1  = c_mat['a_connector_pad_Q1']['pad_top_Q1']\n",
    "c2  = c_mat['a_connector_pad_Q1']['pad_top_Q2']\n",
    "c12  = c_mat['pad_top_Q1']['pad_top_Q2']\n",
    "\n",
    "data['C_Q1_Q2(fF)'] = c12\n",
    "data['C_Q1_g(fF)'] = c1\n",
    "data['C_Q2_g(fF)'] = c2\n",
    "\n",
    "\n",
    "\n",
    "\n",
    "eig_all.sim.renderer.options['Lj'] = '13nH'\n",
    "eig_all.sim.renderer.options['Lj1'] = '13nH'\n",
    "eig_all.sim.renderer.options['Lj2'] = '13nH'\n",
    "eig_all.sim.renderer.options['wb_threshold'] = '72um'\n",
    "\n",
    "\n",
    "eig_all.sim.setup.n_modes = nmodes\n",
    "eig_all.sim.setup.vars = Dict(Lj1= '13 nH', Cj1= '0 fF',Lj2 = '13nH', Cj2 = '0fF')\n",
    "eig_all.sim.renderer.options['x_buffer_width_mm'] = 0.5\n",
    "eig_all.sim.renderer.options['y_buffer_width_mm'] = 0.5\n",
    "eig_all.sim.run(name=\"all_freqs\", components=components_all)#, open_terminations=[('Q1', 'a')])\n",
    "convergence = pd.read_csv('hfss_eig_f_convergence.csv')\n",
    "conv = convergence.dropna()\n",
    "\n",
    "ind = list(conv.keys())[1:]\n",
    "for i in range(nmodes):\n",
    "    freq = conv[ind[(i)]].values[-1]\n",
    "    data['Freq'+str(i+1)+'(GHz)'] = freq\n",
    "\n",
    "#save screenshots for future refrences\n",
    "for i in range(nmodes):\n",
    "    hfss.modeler._modeler.ShowWindow()\n",
    "    hfss.set_mode(i+1,'Setup')\n",
    "    hfss.plot_ansys_fields('main')\n",
    "    hfss.save_screenshot()\n",
    "    hfss.clear_fields(['main'])\n",
    "    \n",
    "    actual = r'C:\\Users\\slab\\Desktop\\Wendy-qiskit-code\\s{}_m{}.png'.format(mode,i)\n",
    "\n",
    "    os.rename(original, actual)\n",
    "    dest = shutil.move(actual, path)\n",
    "\n",
    "    "
   ]
  },
  {
   "cell_type": "code",
   "execution_count": null,
   "metadata": {},
   "outputs": [],
   "source": []
  },
  {
   "cell_type": "code",
   "execution_count": null,
   "metadata": {},
   "outputs": [],
   "source": [
    "#Run the EPR analysis\n",
    "del eig_all.setup.junctions['jj']\n",
    "eig_all.setup.junctions.jj1 = Dict(rect='JJ_rect_Lj_Q1_rect_jj', line='JJ_Lj_Q1_rect_jj_',\n",
    "                Lj_variable='Lj1', Cj_variable='Cj1')\n",
    "eig_all.setup.junctions.jj2 = Dict(rect='JJ_rect_Lj_Q2_rect_jj', line='JJ_Lj_Q2_rect_jj_',\n",
    "                Lj_variable='Lj2', Cj_variable='Cj2')\n",
    "eig_all.setup.sweep_variable = 'Lj1'\n",
    "eig_all.run_epr()\n",
    "\n"
   ]
  },
  {
   "cell_type": "code",
   "execution_count": null,
   "metadata": {},
   "outputs": [],
   "source": [
    "#Save the EPR data\n",
    "chi = eig_all.sim.renderer.epr_quantum_analysis.get_chis().to_numpy()\n",
    "freq_EPR= eig_all.sim.renderer.epr_quantum_analysis.get_frequencies().to_numpy()[:,0]\n",
    "\n",
    "renderer_hfss.clean_active_design()\n",
    "for i in range(nmodes):\n",
    "    freq = freq_EPR[i]\n",
    "    data['Freq_EPR'+str(i+1)+'(GHz)'] = freq\n",
    "    for j in range(i):\n",
    "        data['Chi'+str(i+1)+'_'+str(j+1)+'(MHz)'] = chi[i][j]\n",
    "\n",
    "dat = pd.DataFrame(data, index = [0])\n",
    "datas = pd.concat([datas,dat], ignore_index=True)\n",
    "\n",
    "\n",
    "datas.to_csv('data\\Two_QB_distance.csv')"
   ]
  },
  {
   "cell_type": "code",
   "execution_count": null,
   "metadata": {},
   "outputs": [],
   "source": []
  },
  {
   "attachments": {},
   "cell_type": "markdown",
   "metadata": {},
   "source": [
    "Loop actual"
   ]
  },
  {
   "cell_type": "code",
   "execution_count": null,
   "metadata": {},
   "outputs": [],
   "source": [
    "datas = pd.DataFrame()\n",
    "for mode, x in enumerate(xs):\n",
    "    data = {}\n",
    "    nmodes = 6\n",
    "\n",
    "    data['Pos1_x(mm)'] = 0\n",
    "    data['Pos2_x(mm)'] = x\n",
    "    \n",
    "    design.delete_component('cpw_2')\n",
    "    \n",
    "    TQ2.options['pos_x'] = x-0.22\n",
    "    q2.options['pos_x'] = x\n",
    "    anchor = trans_p.anchor_CPW(q2, 150*u.um,0.05,2,last_offset = 0.4)\n",
    "    # cpw2.options['anchors'] = anchor\n",
    "    pin_inputs['start_pin']['component'] = 'Q2'\n",
    "    pin_inputs['end_pin']['component'] = 'TQ2'\n",
    "    CPW_options['pin_inputs'] = pin_inputs\n",
    "    op = Dict(anchors = anchor, **CPW_options)\n",
    "    cpw2 = RouteMixed(design, 'cpw_2', op)\n",
    "\n",
    "    gui.rebuild()\n",
    "    \n",
    "    c = LOManalysis(design, \"q3d\")\n",
    "    c.sim.setup.min_passes  = 10\n",
    "    c.sim.setup.max_passes = 30\n",
    "    c.sim.run(components=components_all)\n",
    "    c.sim.capacitance_matrix \n",
    "\n",
    "    c.sim._get_results_from_renderer()\n",
    "    c_mat = c.sim.capacitance_matrix\n",
    "    \n",
    "    c1  = c_mat['a_connector_pad_Q1']['pad_top_Q1']\n",
    "    c2  = c_mat['a_connector_pad_Q1']['pad_top_Q2']\n",
    "    c12  = c_mat['pad_top_Q1']['pad_top_Q2']\n",
    "\n",
    "    data['C_Q1_Q2(fF)'] = c12\n",
    "    data['C_Q1_g(fF)'] = c1\n",
    "    data['C_Q2_g(fF)'] = c2\n",
    "    \n",
    "    eig_all = EPRanalysis(design, 'hfss')\n",
    "\n",
    "    hfss = eig_all.sim.renderer\n",
    "\n",
    "    eig_all.sim.renderer.options['Lj'] = '13nH'\n",
    "    eig_all.sim.renderer.options['Lj1'] = '13nH'\n",
    "    eig_all.sim.renderer.options['Lj2'] = '13nH'\n",
    "    eig_all.sim.renderer.options['wb_threshold'] = '72um'\n",
    "\n",
    "    eig_all.sim.setup.max_passes = 40\n",
    "    eig_all.sim.setup.max_delta_f = 0.05\n",
    "    eig_all.sim.setup.n_modes = nmodes\n",
    "    eig_all.sim.setup.vars = Dict(Lj1= '13 nH', Cj1= '0 fF',Lj2 = '13nH', Cj2 = '0fF')\n",
    "    eig_all.sim.renderer.options['x_buffer_width_mm'] = 0.5\n",
    "    eig_all.sim.renderer.options['y_buffer_width_mm'] = 0.5\n",
    "    eig_all.sim.run(name=\"all_freqs\", components=components_all)#, open_terminations=[('Q1', 'a')])\n",
    "    convergence = pd.read_csv('hfss_eig_f_convergence.csv')\n",
    "    conv = convergence.dropna()\n",
    "    \n",
    "    ind = list(conv.keys())[1:]\n",
    "    for i in range(nmodes):\n",
    "        freq = conv[ind[(i)]].values[-1]\n",
    "        data['Freq'+str(i+1)+'(GHz)'] = freq\n",
    "    \n",
    "    #save screenshots for future refrences\n",
    "    for i in range(4):\n",
    "        hfss.modeler._modeler.ShowWindow()\n",
    "        hfss.set_mode(i+1,'Setup')\n",
    "        hfss.plot_ansys_fields('main')\n",
    "        hfss.save_screenshot()\n",
    "        hfss.clear_fields(['main'])\n",
    "        \n",
    "        actual = r'C:\\Users\\slab\\Desktop\\Wendy-qiskit-code\\s{}_m{}.png'.format(mode,i)\n",
    "\n",
    "        os.rename(original, actual)\n",
    "        dest = shutil.move(actual, path)\n",
    "    #Run the EPR analysis\n",
    "    del eig_all.setup.junctions['jj']\n",
    "    eig_all.setup.junctions.jj1 = Dict(rect='JJ_rect_Lj_Q1_rect_jj', line='JJ_Lj_Q1_rect_jj_',\n",
    "                    Lj_variable='Lj1', Cj_variable='Cj1')\n",
    "    eig_all.setup.junctions.jj2 = Dict(rect='JJ_rect_Lj_Q2_rect_jj', line='JJ_Lj_Q2_rect_jj_',\n",
    "                    Lj_variable='Lj2', Cj_variable='Cj2')\n",
    "    eig_all.setup.sweep_variable = 'Lj1'\n",
    "    eig_all.run_epr()\n",
    "\n",
    "    #Save the EPR data\n",
    "    chi = eig_all.sim.renderer.epr_quantum_analysis.get_chis().to_numpy()\n",
    "    freq_EPR= eig_all.sim.renderer.epr_quantum_analysis.get_frequencies().to_numpy()[:,0]\n",
    "    for i in range(nmodes):\n",
    "        freq = freq_EPR[i]\n",
    "        data['Freq_EPR'+str(i+1)+'(GHz)'] = freq\n",
    "        for j in range(i):\n",
    "            data['Chi'+str(i+1)+'_'+str(j+1)+'(MHz)'] = chi[i][j]\n",
    "    \n",
    "    dat = pd.DataFrame(data, index = [0])\n",
    "    datas = pd.concat([datas,dat], ignore_index=True)\n",
    "\n",
    "\n",
    "    datas.to_csv('data\\Two_QB_distance.csv')\n",
    "    "
   ]
  },
  {
   "attachments": {},
   "cell_type": "markdown",
   "metadata": {},
   "source": [
    "end of loop woohoo"
   ]
  },
  {
   "cell_type": "code",
   "execution_count": null,
   "metadata": {},
   "outputs": [],
   "source": [
    "hfss.set_mode(4,'Setup')\n",
    "hfss.plot_ansys_fields('main')\n",
    "hfss.save_screenshot()"
   ]
  },
  {
   "cell_type": "code",
   "execution_count": null,
   "metadata": {},
   "outputs": [],
   "source": [
    "hfss.clear_fields(['main'])"
   ]
  },
  {
   "cell_type": "code",
   "execution_count": null,
   "metadata": {},
   "outputs": [],
   "source": [
    "data\n"
   ]
  },
  {
   "cell_type": "code",
   "execution_count": null,
   "metadata": {},
   "outputs": [],
   "source": [
    "hfss.clear_fields(['Mag_E1'])"
   ]
  },
  {
   "cell_type": "code",
   "execution_count": null,
   "metadata": {},
   "outputs": [],
   "source": [
    "\n"
   ]
  },
  {
   "cell_type": "code",
   "execution_count": null,
   "metadata": {},
   "outputs": [],
   "source": [
    "\n"
   ]
  },
  {
   "cell_type": "code",
   "execution_count": null,
   "metadata": {},
   "outputs": [],
   "source": [
    "cpw2.options['anchors'] = anchor\n",
    "gui.rebuild()"
   ]
  },
  {
   "cell_type": "code",
   "execution_count": null,
   "metadata": {},
   "outputs": [],
   "source": [
    "eig_all.sim.renderer.epr_quantum_analysis.get_frequencies().to_numpy()[:,0]"
   ]
  },
  {
   "cell_type": "code",
   "execution_count": null,
   "metadata": {},
   "outputs": [],
   "source": []
  },
  {
   "cell_type": "code",
   "execution_count": null,
   "metadata": {},
   "outputs": [],
   "source": [
    "import qutip as q\n",
    "import numpy as np\n",
    "import matplotlib.pyplot as plt\n",
    "import astropy.units as u\n",
    "import astropy.constants as c\n",
    "import scipy.linalg as lin"
   ]
  },
  {
   "cell_type": "code",
   "execution_count": null,
   "metadata": {},
   "outputs": [],
   "source": [
    "r = lin.eig(lin.inv(C)@(L))\n"
   ]
  },
  {
   "cell_type": "code",
   "execution_count": null,
   "metadata": {},
   "outputs": [],
   "source": [
    "np.sqrt(r[0])*1000"
   ]
  },
  {
   "cell_type": "code",
   "execution_count": null,
   "metadata": {},
   "outputs": [],
   "source": [
    "(1/np.sqrt(13*u.nH*100*u.fF).si).to(u.GHz)/2/np.pi"
   ]
  },
  {
   "cell_type": "code",
   "execution_count": null,
   "metadata": {},
   "outputs": [],
   "source": [
    "from Transmon_property import transmon_freq"
   ]
  },
  {
   "cell_type": "code",
   "execution_count": null,
   "metadata": {},
   "outputs": [],
   "source": [
    "transmon_freq(110*u.fF, 13*u.nH)"
   ]
  },
  {
   "cell_type": "code",
   "execution_count": null,
   "metadata": {},
   "outputs": [],
   "source": []
  },
  {
   "cell_type": "code",
   "execution_count": null,
   "metadata": {},
   "outputs": [],
   "source": []
  },
  {
   "cell_type": "code",
   "execution_count": null,
   "metadata": {},
   "outputs": [],
   "source": []
  },
  {
   "cell_type": "code",
   "execution_count": null,
   "metadata": {},
   "outputs": [],
   "source": []
  },
  {
   "cell_type": "markdown",
   "metadata": {},
   "source": [
    "# Simulations"
   ]
  },
  {
   "cell_type": "markdown",
   "metadata": {},
   "source": [
    "## Capacitance Matrix Calculation\n",
    "\n",
    "Note that when we calculate capacitance matrix, we need to ``approximate\" that the end pins of the CPW is not grounded to get the capacitance coupling. Thus we need to modify the designs above to get the desired capacitance matrix. "
   ]
  },
  {
   "cell_type": "code",
   "execution_count": null,
   "metadata": {},
   "outputs": [],
   "source": [
    "draw_CPW(short=False)"
   ]
  },
  {
   "cell_type": "code",
   "execution_count": null,
   "metadata": {},
   "outputs": [],
   "source": [
    "from qiskit_metal.analyses.quantization import LOManalysis\n",
    "c1 = LOManalysis(design, \"q3d\")"
   ]
  },
  {
   "cell_type": "code",
   "execution_count": null,
   "metadata": {},
   "outputs": [],
   "source": [
    "c1.sim.setup.min_passes  = 1\n",
    "c1.sim.setup.max_passes = 5\n",
    "print(c1.sim.setup)"
   ]
  },
  {
   "cell_type": "code",
   "execution_count": null,
   "metadata": {},
   "outputs": [],
   "source": [
    "c1.sim.run(components=['Q1','cpw_1','end'])#, open_terminations=[('end', 'a')])#, ('Q1', 'bus1'), ('Q1', 'bus2')])\n",
    "c1.sim.capacitance_matrix \n",
    "\n",
    "c1.sim._get_results_from_renderer()\n",
    "c_mat = c1.sim.capacitance_matrix"
   ]
  },
  {
   "cell_type": "code",
   "execution_count": null,
   "metadata": {},
   "outputs": [],
   "source": [
    "c_mat"
   ]
  },
  {
   "attachments": {},
   "cell_type": "markdown",
   "metadata": {},
   "source": [
    "In the capacitance matrix above, the ground plane is named \"g_wb\" The big metal pad in the junction pocket is called \"pad_top_Q1\" The CPW is connected with the connector pad, thus its name is \"a_connector_pad\""
   ]
  },
  {
   "cell_type": "code",
   "execution_count": null,
   "metadata": {},
   "outputs": [],
   "source": [
    "c1.clear_data()"
   ]
  },
  {
   "cell_type": "markdown",
   "metadata": {},
   "source": [
    "## EPR Analysis"
   ]
  },
  {
   "cell_type": "code",
   "execution_count": null,
   "metadata": {},
   "outputs": [],
   "source": [
    "import numpy as np\n",
    "from qiskit_metal.analyses.quantization import EPRanalysis"
   ]
  },
  {
   "cell_type": "code",
   "execution_count": null,
   "metadata": {},
   "outputs": [],
   "source": [
    "hfss.clean_active_design()"
   ]
  },
  {
   "cell_type": "code",
   "execution_count": null,
   "metadata": {},
   "outputs": [],
   "source": [
    "\n",
    "draw_CPW()\n",
    "# design.delete_component('Q1')\n",
    "eig_res = EPRanalysis(design, \"hfss\")\n",
    "\n",
    "hfss = eig_res.sim.renderer\n",
    "hfss.start()\n",
    "\n",
    "hfss.activate_ansys_design('readout','eigenmode')\n",
    "\n",
    "hfss.render_design(['cpw_1','Q1','end'],[])\n",
    "hfss.save_screenshot()\n",
    "\n",
    "setup = hfss.pinfo.setup\n",
    "setup.passes = 40\n",
    "setup.min_converged = 9\n",
    "setup.n_modes = 2\n",
    "\n",
    "print(f\"\"\"\n",
    "Number of eigenmodes to find             = {setup.n_modes}\n",
    "Number of simulation passes              = {setup.passes}\n",
    "Convergence freq max delta percent diff  = {setup.delta_f}\n",
    "\"\"\")\n",
    "\n",
    "# Next 2 lines are counterinuitive, since there is no junction in this resonator.\n",
    "# However, these are necessary to make pyEPR work correctly. Please do note delete\n",
    "hfss.pinfo.design.set_variable('Lj', '10 nH')\n",
    "hfss.pinfo.design.set_variable('Cj', '0 fF')\n",
    "\n",
    "setup.analyze()"
   ]
  },
  {
   "cell_type": "code",
   "execution_count": null,
   "metadata": {},
   "outputs": [],
   "source": [
    "eig_res.get_frequencies()"
   ]
  },
  {
   "cell_type": "code",
   "execution_count": null,
   "metadata": {},
   "outputs": [],
   "source": [
    "eig_res.sim.convergence_t, eig_res.sim.convergence_f, _ = hfss.get_convergences()\n",
    "eig_res.sim.plot_convergences()"
   ]
  },
  {
   "cell_type": "code",
   "execution_count": null,
   "metadata": {},
   "outputs": [],
   "source": [
    "hfss.modeler._modeler.ShowWindow()\n",
    "hfss.plot_ansys_fields('main')\n",
    "hfss.save_screenshot()"
   ]
  },
  {
   "cell_type": "code",
   "execution_count": null,
   "metadata": {},
   "outputs": [],
   "source": [
    "hfss.clear_fields(['Mag_E1'])"
   ]
  },
  {
   "cell_type": "code",
   "execution_count": null,
   "metadata": {},
   "outputs": [],
   "source": [
    "hfss.set_mode(2, \"Setup\")"
   ]
  },
  {
   "cell_type": "code",
   "execution_count": null,
   "metadata": {},
   "outputs": [],
   "source": [
    "hfss.modeler._modeler.ShowWindow()\n",
    "hfss.plot_fields('main')\n",
    "hfss.save_screenshot()"
   ]
  },
  {
   "cell_type": "code",
   "execution_count": null,
   "metadata": {},
   "outputs": [],
   "source": [
    "eig_res.sim.setup"
   ]
  },
  {
   "cell_type": "code",
   "execution_count": null,
   "metadata": {},
   "outputs": [],
   "source": [
    "eig_res.setup"
   ]
  },
  {
   "cell_type": "code",
   "execution_count": null,
   "metadata": {},
   "outputs": [],
   "source": [
    "eig_res.setup.junctions.jj.rect = 'JJ_rect_Lj_Q1_rect_jj'\n",
    "eig_res.setup.junctions.jj.line = 'JJ_Lj_Q1_rect_jj_'\n",
    "eig_res.setup"
   ]
  },
  {
   "cell_type": "code",
   "execution_count": null,
   "metadata": {},
   "outputs": [],
   "source": [
    "eig_res.run_epr()"
   ]
  },
  {
   "cell_type": "code",
   "execution_count": null,
   "metadata": {},
   "outputs": [],
   "source": []
  },
  {
   "cell_type": "code",
   "execution_count": null,
   "metadata": {},
   "outputs": [],
   "source": []
  },
  {
   "cell_type": "code",
   "execution_count": null,
   "metadata": {},
   "outputs": [],
   "source": []
  },
  {
   "cell_type": "code",
   "execution_count": null,
   "metadata": {},
   "outputs": [],
   "source": [
    "from tqdm import tqdm\n",
    "import numpy as np\n",
    "import time"
   ]
  },
  {
   "cell_type": "code",
   "execution_count": null,
   "metadata": {},
   "outputs": [],
   "source": [
    "for member in tqdm(np.linspace(0,100,100)):\n",
    "    time.sleep(0.1)\n",
    "    print(member)"
   ]
  },
  {
   "cell_type": "code",
   "execution_count": null,
   "metadata": {},
   "outputs": [],
   "source": []
  },
  {
   "cell_type": "code",
   "execution_count": null,
   "metadata": {},
   "outputs": [],
   "source": []
  },
  {
   "attachments": {},
   "cell_type": "markdown",
   "metadata": {},
   "source": [
    "## Save Design to GDS"
   ]
  },
  {
   "cell_type": "code",
   "execution_count": null,
   "metadata": {},
   "outputs": [],
   "source": [
    "a_gds = design.renderers.gds"
   ]
  },
  {
   "cell_type": "code",
   "execution_count": null,
   "metadata": {},
   "outputs": [],
   "source": [
    "a_gds.options"
   ]
  },
  {
   "cell_type": "code",
   "execution_count": null,
   "metadata": {},
   "outputs": [],
   "source": [
    "a_gds.options['path_filename'] = 'Customized_Components\\Fake_Junctions.GDS'"
   ]
  },
  {
   "cell_type": "code",
   "execution_count": null,
   "metadata": {},
   "outputs": [],
   "source": [
    "\n",
    "a_gds.options['short_segments_to_not_fillet'] = 'False'\n",
    "a_gds.export_to_gds('One pad design.gds')"
   ]
  },
  {
   "attachments": {},
   "cell_type": "markdown",
   "metadata": {},
   "source": [
    "The rest of the notebook is just a scratch paper :D"
   ]
  },
  {
   "cell_type": "code",
   "execution_count": null,
   "metadata": {},
   "outputs": [],
   "source": []
  },
  {
   "cell_type": "code",
   "execution_count": null,
   "metadata": {},
   "outputs": [],
   "source": [
    "q3d.clean_active_design()"
   ]
  },
  {
   "cell_type": "code",
   "execution_count": null,
   "metadata": {},
   "outputs": [],
   "source": []
  },
  {
   "cell_type": "code",
   "execution_count": null,
   "metadata": {},
   "outputs": [],
   "source": [
    "import numpy as np\n",
    "import scipy.linalg as la\n",
    "import qutip as q\n",
    "import astropy.units as u\n",
    "import astropy.constants as con\n",
    "\n",
    "class Single_Transmon_Circuit:\n",
    "    ## Default constant\n",
    "    eq = 1.602e-19*u.C \n",
    "    epsilon = con.eps0\n",
    "    h = 6.636/10**34\n",
    "    hbar = con.hbar\n",
    "    kb = con.k_B\n",
    "    Tc = 1.2\n",
    "    delta = 1.764*kb*Tc\n",
    "    phi0 = con.h/2/eq\n",
    "    dielectric = 9.34*epsilon\n",
    "    def __init__(self,cap_mat,pad_name,CPW_name,ground_plane_name = 'ground_main_plane') -> None:\n",
    "        self.c_couple = -cap_mat[pad_name][CPW_name]*u.fF\n",
    "        self.c_to_ground = cap_mat[pad_name][pad_name]\n",
    "        self.c_CPW = cap_mat[CPW_name][CPW_name]"
   ]
  },
  {
   "cell_type": "code",
   "execution_count": null,
   "metadata": {},
   "outputs": [],
   "source": [
    "Single_Transmon_Circuit(c_mat,'pad_top_Q1','n_spiral_spiral')"
   ]
  },
  {
   "cell_type": "code",
   "execution_count": null,
   "metadata": {},
   "outputs": [],
   "source": []
  }
 ],
 "metadata": {
  "kernelspec": {
   "display_name": "qiskit",
   "language": "python",
   "name": "python3"
  },
  "language_info": {
   "codemirror_mode": {
    "name": "ipython",
    "version": 3
   },
   "file_extension": ".py",
   "mimetype": "text/x-python",
   "name": "python",
   "nbconvert_exporter": "python",
   "pygments_lexer": "ipython3",
   "version": "3.11.0"
  },
  "orig_nbformat": 4
 },
 "nbformat": 4,
 "nbformat_minor": 2
}
