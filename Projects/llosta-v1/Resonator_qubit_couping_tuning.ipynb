{
 "cells": [
  {
   "cell_type": "code",
   "execution_count": null,
   "metadata": {},
   "outputs": [],
   "source": [
    "import os\n",
    "import shutil\n",
    "import time\n",
    "\n",
    "import astropy.units as u\n",
    "import numpy as np\n",
    "import pandas as pd\n",
    "import astropy.constants as c\n",
    "\n",
    "#Import the necessary path to draw the single pad transmon design. \n",
    "import sys\n",
    "sys.path.append('Customized_Components')\n",
    "from rounded_single_pad import Round_TransmonPocket_Single as transmon\n",
    "import Transmon_property as trans_p\n",
    "import Transmon_specifications as jj\n",
    "from dolan_junction import DolanJunction as junction\n",
    "import Default_params as dp\n",
    "from pocket import TransmonPocket as pocket\n",
    "\n",
    "from qiskit_metal.qlibrary.terminations.launchpad_wb import LaunchpadWirebond\n",
    "from qiskit_metal import MetalGUI, Dict\n",
    "from qiskit_metal.qlibrary.couplers.coupled_line_tee import CoupledLineTee\n",
    "\n",
    "gui = MetalGUI(dp.design)\n",
    "design = dp.design\n"
   ]
  },
  {
   "cell_type": "code",
   "execution_count": null,
   "metadata": {},
   "outputs": [],
   "source": [
    "from scipy.optimize import brentq"
   ]
  },
  {
   "cell_type": "code",
   "execution_count": 46,
   "metadata": {},
   "outputs": [],
   "source": [
    "test_path = r'C:\\Users\\slab\\Desktop\\Wendy-qiskit-code\\data\\educated_guess_test_test.csv'"
   ]
  },
  {
   "cell_type": "code",
   "execution_count": 43,
   "metadata": {},
   "outputs": [],
   "source": [
    "default_options = dict(\n",
    "        pos_x = '0mm', \n",
    "        pos_y = '0mm', \n",
    "        orientation = '0',\n",
    "        frequency = 5,\n",
    "        guess_path = test_path,\n",
    "        coupling_path = '',\n",
    "        coord = '(0,0)',\n",
    "        qubit_layer = 5,\n",
    "        junction_layer = 2, \n",
    "        ab_layer = 8,\n",
    "        ab_square_layer = 9,\n",
    "        ab_distance = '70um',\n",
    "        rotation = 0\n",
    "        )"
   ]
  },
  {
   "cell_type": "code",
   "execution_count": 41,
   "metadata": {},
   "outputs": [],
   "source": [
    "guess_path = r'C:\\Users\\slab\\Desktop\\Wendy-qiskit-code\\data\\educated_guess_test2'\n",
    "guess = pd.read_csv(guess_path, index_col=False).drop(columns=['Unnamed: 0'])"
   ]
  },
  {
   "cell_type": "code",
   "execution_count": 47,
   "metadata": {},
   "outputs": [],
   "source": [
    "test = pd.read_csv(test_path).drop(columns=['Unnamed: 0'])"
   ]
  },
  {
   "cell_type": "code",
   "execution_count": 48,
   "metadata": {},
   "outputs": [],
   "source": [
    "ljs = test['Ljs (nH)'].values"
   ]
  },
  {
   "cell_type": "code",
   "execution_count": 49,
   "metadata": {},
   "outputs": [
    {
     "data": {
      "text/plain": [
       "array([13, 13, 10, 10,  8,  8,  8,  6,  6,  6], dtype=int64)"
      ]
     },
     "execution_count": 49,
     "metadata": {},
     "output_type": "execute_result"
    }
   ],
   "source": [
    "ljs"
   ]
  },
  {
   "cell_type": "code",
   "execution_count": 52,
   "metadata": {},
   "outputs": [],
   "source": [
    "design.delete_all_components()"
   ]
  },
  {
   "cell_type": "code",
   "execution_count": 53,
   "metadata": {},
   "outputs": [],
   "source": [
    "gui.rebuild()"
   ]
  },
  {
   "cell_type": "code",
   "execution_count": 54,
   "metadata": {},
   "outputs": [
    {
     "name": "stdout",
     "output_type": "stream",
     "text": [
      "tried1\n"
     ]
    }
   ],
   "source": [
    "default_options['coord'] = '_0_0_'\n",
    "default_options['frequency'] = 4.6\n",
    "default_options['guess_path'] = test_path\n",
    "# change_size(26, 0)\n",
    "\n",
    "p = pocket(gui,design,sim = True, options = default_options)\n",
    "gui.rebuild()"
   ]
  },
  {
   "cell_type": "code",
   "execution_count": null,
   "metadata": {},
   "outputs": [],
   "source": [
    "p.resonators"
   ]
  },
  {
   "cell_type": "code",
   "execution_count": null,
   "metadata": {},
   "outputs": [],
   "source": [
    "components = ['qubit_0_0_', 'TQ_0_0_', 'cpw__0_0_']"
   ]
  },
  {
   "cell_type": "code",
   "execution_count": null,
   "metadata": {},
   "outputs": [],
   "source": [
    "from qiskit_metal.analyses.quantization import LOManalysis\n",
    "from qiskit_metal.analyses.quantization import EPRanalysis"
   ]
  },
  {
   "cell_type": "code",
   "execution_count": null,
   "metadata": {},
   "outputs": [],
   "source": [
    "c = LOManalysis(design, \"q3d\")\n",
    "c.sim.setup.min_passes  = 10\n",
    "c.sim.setup.max_passes = 20\n",
    "c.sim.setup.freq_ghz = 5\n",
    "\n",
    "c.sim.renderer.options['wb_threshold'] ='72um'\n",
    "c.sim.renderer.options['x_buffer_width_mm'] = 0.5\n",
    "c.sim.renderer.options['y_buffer_width_mm'] = 0.5\n",
    "\n",
    "h = 0.4\n",
    "\n",
    "c.sim.renderer.options['wb_height'] = h"
   ]
  },
  {
   "cell_type": "code",
   "execution_count": null,
   "metadata": {},
   "outputs": [],
   "source": [
    "eig_all = EPRanalysis(design, 'hfss')\n",
    "\n",
    "hfss = eig_all.sim.renderer\n",
    "eig_all.sim.renderer.options['wb_threshold'] = '72um'\n",
    "\n",
    "eig_all.sim.setup.max_passes = 30\n",
    "eig_all.sim.setup.max_delta_f = 0.1\n",
    "eig_all.sim.setup.n_modes = 2\n",
    "eig_all.sim.renderer.options['x_buffer_width_mm'] = 0.5\n",
    "eig_all.sim.renderer.options['y_buffer_width_mm'] = 0.5"
   ]
  },
  {
   "cell_type": "code",
   "execution_count": null,
   "metadata": {},
   "outputs": [],
   "source": [
    "guess['Coupling_len']"
   ]
  },
  {
   "cell_type": "code",
   "execution_count": null,
   "metadata": {},
   "outputs": [],
   "source": [
    "guess['Coupling_len(um)']"
   ]
  },
  {
   "cell_type": "code",
   "execution_count": null,
   "metadata": {},
   "outputs": [],
   "source": [
    "guess"
   ]
  },
  {
   "cell_type": "code",
   "execution_count": null,
   "metadata": {},
   "outputs": [],
   "source": [
    "def change_size(size, i, path  = test_path):\n",
    "    dat = pd.read_csv(path, index_col=False).drop(columns=['Unnamed: 0'])\n",
    "    sizes = list(dat['Coupling_len(um)'])\n",
    "    sizes_str = list(dat['Coupling_len'])\n",
    "    \n",
    "    sizes[i] = size\n",
    "    sizes_str[i] = str(size)+'um'\n",
    "    \n",
    "    dat.drop(columns = ['Coupling_len(um)','Coupling_len'],axis= 1, inplace = True)\n",
    "    \n",
    "    dat['Coupling_len(um)'] = sizes\n",
    "    dat['Coupling_len'] = sizes_str\n",
    "    \n",
    "    dat.to_csv(path)"
   ]
  },
  {
   "cell_type": "code",
   "execution_count": null,
   "metadata": {},
   "outputs": [],
   "source": [
    "p = pocket(gui,design,sim = True, options = default_options)\n",
    "gui.rebuild()"
   ]
  },
  {
   "cell_type": "code",
   "execution_count": null,
   "metadata": {},
   "outputs": [],
   "source": [
    "def find_freq(size, ii, path = test_path, p = p):\n",
    "    change_size(size, ii, path = path)\n",
    "    print(size)\n",
    "    \n",
    "    dat = {}\n",
    "    target_freq = 4+0.2*ii\n",
    "    dat['f_target'] = 4+0.2*ii\n",
    "    default_options['frequency'] = target_freq\n",
    "    dat['size'] = size\n",
    "    dat['Lj'] = ljs[ii]\n",
    "    \n",
    "    file_path = r'C:\\Users\\slab\\Desktop\\Wendy-qiskit-code\\data\\optimize_cp_len{}.csv'.format(target_freq)\n",
    "    try:\n",
    "        datas = pd.read_csv(file_path, index_col=False).drop(columns=['Unnamed: 0'])\n",
    "    except:\n",
    "        datas = pd.DataFrame()\n",
    "    \n",
    "    \n",
    "    \n",
    "    eig_all.sim.renderer.options['Lj'] = str(ljs[ii])+'nH'\n",
    "    eig_all.sim.renderer.options['Cj'] = str(jj.find_junction_capacitance((ljs[ii]*u.nH)))\n",
    "\n",
    "    eig_all.sim.setup.vars = {}\n",
    "    eig_all.sim.setup.vars['Lj'] = str(ljs[ii])+'nH'\n",
    "    eig_all.sim.setup.vars['Cj'] = str(jj.find_junction_capacitance((ljs[ii]*u.nH)))\n",
    "\n",
    "    p = pocket(gui,design,sim = True, options = default_options)\n",
    "    gui.rebuild()\n",
    "    \n",
    "    eig_all.sim.run(name=\"single_q\", components=components)\n",
    "    \n",
    "    \n",
    "    convergence = pd.read_csv('hfss_eig_f_convergence.csv')\n",
    "    conv = convergence.dropna()\n",
    "\n",
    "    ind = list(conv.keys())[1:]\n",
    "    for i in range(2):\n",
    "        freq = conv[ind[(i)]].values[-1]\n",
    "        dat['Freq'+str(i+1)+'(GHz)'] = freq\n",
    "    \n",
    "    \n",
    "    try:\n",
    "        del eig_all.setup.junctions['jj']\n",
    "    except:\n",
    "        print('saddd')\n",
    "    eig_all.setup.junctions.jj1 = Dict(rect='JJ_rect_Lj_qubit_0_0__rect_jj', line='JJ_Lj_qubit_0_0__rect_jj_',\n",
    "                    Lj_variable='Lj', Cj_variable='Cj')\n",
    "    eig_all.run_epr()\n",
    "    \n",
    "    #Save the EPR data\n",
    "    chi = eig_all.sim.renderer.epr_quantum_analysis.get_chis().to_numpy()\n",
    "    freq_EPR= eig_all.sim.renderer.epr_quantum_analysis.get_frequencies().to_numpy()[:,0]\n",
    "    \n",
    "    # renderer_hfss.clean_active_design()\n",
    "    for i in range(2):\n",
    "        freq = freq_EPR[i]\n",
    "        dat['Freq_EPR'+str(i+1)+'(MHz)'] = freq\n",
    "        for j in range(i+1):\n",
    "            dat['Chi'+str(i+1)+'_'+str(j+1)+'(MHz)'] = chi[i][j] \n",
    "\n",
    "    \n",
    "    # c.sim.run(name = 'a',components=components)\n",
    "    # cg = -c.sim.capacitance_matrix['a_connector_pad_qubit_0_0_']['pad_top_qubit_0_0_']\n",
    "    # dat['cap_t_g'] = cg\n",
    "    # f,_ = trans_p.transmon_freq(cg*u.fF, ljs[i]*u.nH)\n",
    "    \n",
    "    # dat['Predict_freq'] = f\n",
    "    \n",
    "    \n",
    "    data = pd.DataFrame(dat, index = [0])\n",
    "    \n",
    "    datas = pd.concat([datas,data], ignore_index = True)\n",
    "    datas.to_csv(file_path)\n",
    "    \n",
    "    return chi[0][1]-1"
   ]
  },
  {
   "cell_type": "code",
   "execution_count": null,
   "metadata": {},
   "outputs": [],
   "source": [
    "test"
   ]
  },
  {
   "attachments": {},
   "cell_type": "markdown",
   "metadata": {},
   "source": [
    "optimization start"
   ]
  },
  {
   "cell_type": "code",
   "execution_count": 56,
   "metadata": {},
   "outputs": [
    {
     "name": "stdout",
     "output_type": "stream",
     "text": [
      "20.0\n",
      "tried1\n"
     ]
    },
    {
     "name": "stderr",
     "output_type": "stream",
     "text": [
      "INFO 11:49PM [connect_design]: \tOpened active design\n",
      "\tDesign:    single_q_hfss [Solution type: Eigenmode]\n",
      "INFO 11:51PM [get_setup]: \tOpened setup `Setup`  (<class 'pyEPR.ansys.HfssEMSetup'>)\n",
      "INFO 11:51PM [analyze]: Analyzing setup Setup\n",
      "12:03AM 23s INFO [get_f_convergence]: Saved convergences to c:\\Users\\slab\\Desktop\\Wendy-qiskit-code\\hfss_eig_f_convergence.csv\n"
     ]
    },
    {
     "name": "stdout",
     "output_type": "stream",
     "text": [
      "saddd\n",
      "Design \"single_q_hfss\" info:\n",
      "\t# eigenmodes    2\n",
      "\t# variations    1\n",
      "Design \"single_q_hfss\" info:\n",
      "\t# eigenmodes    2\n",
      "\t# variations    1\n",
      "\n",
      "        energy_elec_all       = 6.85684180844162e-25\n",
      "        energy_elec_substrate = 6.21761425756444e-25\n",
      "        EPR of substrate = 90.7%\n",
      "\n",
      "        energy_mag    = 6.85295352919937e-25\n",
      "        energy_mag % of energy_elec_all  = 99.9%\n",
      "        \n",
      "\n",
      "Variation 0  [1/1]\n",
      "\n",
      "  \u001b[1mMode 0 at 5.18 GHz   [1/2]\u001b[0m\n",
      "    Calculating ℰ_magnetic,ℰ_electric\n",
      "       (ℰ_E-ℰ_H)/ℰ_E       ℰ_E       ℰ_H\n",
      "               99.2%  1.888e-25 1.561e-27\n",
      "\n",
      "    Calculating junction energy participation ration (EPR)\n",
      "\tmethod=`line_voltage`. First estimates:\n",
      "\tjunction        EPR p_0j   sign s_0j    (p_capacitive)\n",
      "\t\tEnergy fraction (Lj over Lj&Cj)= 98.33%\n",
      "\tjj1              1.29265  (+)        0.0218945\n",
      "\t\t(U_tot_cap-U_tot_ind)/mean=-12.01%\n",
      "Calculating Qdielectric_main for mode 0 (0/1)\n"
     ]
    },
    {
     "name": "stderr",
     "output_type": "stream",
     "text": [
      "WARNING:py.warnings:c:\\Users\\slab\\anaconda3\\envs\\qmetal\\lib\\site-packages\\pyEPR\\core_distributed_analysis.py:1307: FutureWarning: The series.append method is deprecated and will be removed from pandas in a future version. Use pandas.concat instead.\n",
      "  sol = sol.append(self.get_Qdielectric(\n",
      "\n"
     ]
    },
    {
     "name": "stdout",
     "output_type": "stream",
     "text": [
      "p_dielectric_main_0 = 0.9176919895464821\n",
      "\n",
      "  \u001b[1mMode 1 at 7.52 GHz   [2/2]\u001b[0m\n",
      "    Calculating ℰ_magnetic,ℰ_electric\n",
      "       (ℰ_E-ℰ_H)/ℰ_E       ℰ_E       ℰ_H\n",
      "                0.1%  3.428e-25 3.426e-25\n",
      "\n",
      "    Calculating junction energy participation ration (EPR)\n",
      "\tmethod=`line_voltage`. First estimates:\n",
      "\tjunction        EPR p_1j   sign s_1j    (p_capacitive)\n",
      "\t\tEnergy fraction (Lj over Lj&Cj)= 96.55%\n",
      "\tjj1             0.00111332  (+)        3.97742e-05\n",
      "\t\t(U_tot_cap-U_tot_ind)/mean=-0.03%\n",
      "Calculating Qdielectric_main for mode 1 (1/1)\n"
     ]
    },
    {
     "name": "stderr",
     "output_type": "stream",
     "text": [
      "WARNING:py.warnings:c:\\Users\\slab\\anaconda3\\envs\\qmetal\\lib\\site-packages\\pyEPR\\core_distributed_analysis.py:1307: FutureWarning: The series.append method is deprecated and will be removed from pandas in a future version. Use pandas.concat instead.\n",
      "  sol = sol.append(self.get_Qdielectric(\n",
      "\n"
     ]
    },
    {
     "name": "stdout",
     "output_type": "stream",
     "text": [
      "p_dielectric_main_1 = 0.9067752226556822\n"
     ]
    },
    {
     "name": "stderr",
     "output_type": "stream",
     "text": [
      "WARNING 12:03AM [__init__]: <p>Error: <class 'IndexError'></p>\n",
      "ERROR 12:03AM [_get_participation_normalized]: WARNING: U_tot_cap-U_tot_ind / mean = 24.0% is > 15%.                     \n",
      "Is the simulation converged? Proceed with caution\n",
      "ERROR 12:03AM [_get_participation_normalized]: WARNING: U_tot_cap-U_tot_ind / mean = 24.0% is > 15%.                     \n",
      "Is the simulation converged? Proceed with caution\n",
      "WARNING:py.warnings:c:\\Users\\slab\\anaconda3\\envs\\qmetal\\lib\\site-packages\\pyEPR\\core_quantum_analysis.py:712: FutureWarning: Support for multi-dimensional indexing (e.g. `obj[:, None]`) is deprecated and will be removed in a future version.  Convert to a numpy array before indexing instead.\n",
      "  result['Q_coupling'] = self.Qm_coupling[variation][self.Qm_coupling[variation].columns[junctions]][modes]#TODO change the columns to junctions\n",
      "\n",
      "WARNING:py.warnings:c:\\Users\\slab\\anaconda3\\envs\\qmetal\\lib\\site-packages\\pyEPR\\core_quantum_analysis.py:717: FutureWarning: Support for multi-dimensional indexing (e.g. `obj[:, None]`) is deprecated and will be removed in a future version.  Convert to a numpy array before indexing instead.\n",
      "  result['Qs'] = self.Qs[variation][self.PM[variation].columns[junctions]][modes] #TODO change the columns to junctions\n",
      "\n"
     ]
    },
    {
     "name": "stdout",
     "output_type": "stream",
     "text": [
      "\n",
      "ANALYSIS DONE. Data saved to:\n",
      "\n",
      "C:\\data-pyEPR\\Project40\\single_q_hfss\\2023-05-05 00-03-24.npz\n",
      "\n",
      "\n",
      "\t Differences in variations:\n",
      "\n",
      "\n",
      "\n",
      " . . . . . . . . . . . . . . . . . . . . . . . . . . . . . . . . . . . . . . . . \n",
      "Variation 0\n",
      "\n",
      "Starting the diagonalization\n",
      "Finished the diagonalization\n",
      "Pm_norm=\n",
      "modes\n",
      "0    0.784914\n",
      "1    0.772341\n",
      "dtype: float64\n",
      "\n",
      "Pm_norm idx =\n",
      "     jj1\n",
      "0   True\n",
      "1  False\n",
      "*** P (participation matrix, not normlz.)\n",
      "        jj1\n",
      "0  1.264958\n",
      "1  0.001113\n",
      "\n",
      "*** S (sign-bit matrix)\n",
      "   s_jj1\n",
      "0     -1\n",
      "1     -1\n",
      "*** P (participation matrix, normalized.)\n",
      "      0.99\n",
      "    0.0011\n",
      "\n",
      "*** Chi matrix O1 PT (MHz)\n",
      "    Diag is anharmonicity, off diag is full cross-Kerr.\n",
      "       162    0.527\n",
      "     0.527 0.000429\n",
      "\n",
      "*** Chi matrix ND (MHz) \n",
      "       174    0.462\n",
      "     0.462 0.000336\n",
      "\n",
      "*** Frequencies O1 PT (MHz)\n",
      "0    5016.315403\n",
      "1    7520.314067\n",
      "dtype: float64\n",
      "\n",
      "*** Frequencies ND (MHz)\n",
      "0    5010.851695\n",
      "1    7520.323261\n",
      "dtype: float64\n",
      "\n",
      "*** Q_coupling\n",
      "Empty DataFrame\n",
      "Columns: []\n",
      "Index: [0, 1]\n"
     ]
    },
    {
     "data": {
      "text/markdown": [
       "#### Mode frequencies (MHz)"
      ],
      "text/plain": [
       "<IPython.core.display.Markdown object>"
      ]
     },
     "metadata": {},
     "output_type": "display_data"
    },
    {
     "data": {
      "text/markdown": [
       "###### Numerical diagonalization"
      ],
      "text/plain": [
       "<IPython.core.display.Markdown object>"
      ]
     },
     "metadata": {},
     "output_type": "display_data"
    },
    {
     "data": {
      "text/html": [
       "<div>\n",
       "<style scoped>\n",
       "    .dataframe tbody tr th:only-of-type {\n",
       "        vertical-align: middle;\n",
       "    }\n",
       "\n",
       "    .dataframe tbody tr th {\n",
       "        vertical-align: top;\n",
       "    }\n",
       "\n",
       "    .dataframe thead th {\n",
       "        text-align: right;\n",
       "    }\n",
       "</style>\n",
       "<table border=\"1\" class=\"dataframe\">\n",
       "  <thead>\n",
       "    <tr style=\"text-align: right;\">\n",
       "      <th>Lj</th>\n",
       "      <th>8</th>\n",
       "    </tr>\n",
       "  </thead>\n",
       "  <tbody>\n",
       "    <tr>\n",
       "      <th>0</th>\n",
       "      <td>5010.85</td>\n",
       "    </tr>\n",
       "    <tr>\n",
       "      <th>1</th>\n",
       "      <td>7520.32</td>\n",
       "    </tr>\n",
       "  </tbody>\n",
       "</table>\n",
       "</div>"
      ],
      "text/plain": [
       "Lj        8\n",
       "0   5010.85\n",
       "1   7520.32"
      ]
     },
     "metadata": {},
     "output_type": "display_data"
    },
    {
     "data": {
      "text/markdown": [
       "#### Kerr Non-linear coefficient table (MHz)"
      ],
      "text/plain": [
       "<IPython.core.display.Markdown object>"
      ]
     },
     "metadata": {},
     "output_type": "display_data"
    },
    {
     "data": {
      "text/markdown": [
       "###### Numerical diagonalization"
      ],
      "text/plain": [
       "<IPython.core.display.Markdown object>"
      ]
     },
     "metadata": {},
     "output_type": "display_data"
    },
    {
     "data": {
      "text/html": [
       "<div>\n",
       "<style scoped>\n",
       "    .dataframe tbody tr th:only-of-type {\n",
       "        vertical-align: middle;\n",
       "    }\n",
       "\n",
       "    .dataframe tbody tr th {\n",
       "        vertical-align: top;\n",
       "    }\n",
       "\n",
       "    .dataframe thead th {\n",
       "        text-align: right;\n",
       "    }\n",
       "</style>\n",
       "<table border=\"1\" class=\"dataframe\">\n",
       "  <thead>\n",
       "    <tr style=\"text-align: right;\">\n",
       "      <th></th>\n",
       "      <th></th>\n",
       "      <th>0</th>\n",
       "      <th>1</th>\n",
       "    </tr>\n",
       "    <tr>\n",
       "      <th>Lj</th>\n",
       "      <th></th>\n",
       "      <th></th>\n",
       "      <th></th>\n",
       "    </tr>\n",
       "  </thead>\n",
       "  <tbody>\n",
       "    <tr>\n",
       "      <th rowspan=\"2\" valign=\"top\">8</th>\n",
       "      <th>0</th>\n",
       "      <td>173.63</td>\n",
       "      <td>4.62e-01</td>\n",
       "    </tr>\n",
       "    <tr>\n",
       "      <th>1</th>\n",
       "      <td>0.46</td>\n",
       "      <td>3.36e-04</td>\n",
       "    </tr>\n",
       "  </tbody>\n",
       "</table>\n",
       "</div>"
      ],
      "text/plain": [
       "           0         1\n",
       "Lj                    \n",
       "8  0  173.63  4.62e-01\n",
       "   1    0.46  3.36e-04"
      ]
     },
     "metadata": {},
     "output_type": "display_data"
    },
    {
     "name": "stdout",
     "output_type": "stream",
     "text": [
      "100.0\n",
      "tried1\n"
     ]
    },
    {
     "name": "stderr",
     "output_type": "stream",
     "text": [
      "INFO 12:03AM [connect_design]: \tOpened active design\n",
      "\tDesign:    single_q_hfss [Solution type: Eigenmode]\n",
      "INFO 12:05AM [get_setup]: \tOpened setup `Setup`  (<class 'pyEPR.ansys.HfssEMSetup'>)\n",
      "INFO 12:05AM [analyze]: Analyzing setup Setup\n",
      "12:14AM 57s INFO [get_f_convergence]: Saved convergences to c:\\Users\\slab\\Desktop\\Wendy-qiskit-code\\hfss_eig_f_convergence.csv\n"
     ]
    },
    {
     "name": "stdout",
     "output_type": "stream",
     "text": [
      "saddd\n",
      "Design \"single_q_hfss\" info:\n",
      "\t# eigenmodes    2\n",
      "\t# variations    1\n",
      "Design \"single_q_hfss\" info:\n",
      "\t# eigenmodes    2\n",
      "\t# variations    1\n",
      "\n",
      "        energy_elec_all       = 6.0716203003789e-25\n",
      "        energy_elec_substrate = 5.50570288635088e-25\n",
      "        EPR of substrate = 90.7%\n",
      "\n",
      "        energy_mag    = 6.05884999962362e-25\n",
      "        energy_mag % of energy_elec_all  = 99.8%\n",
      "        \n",
      "\n",
      "Variation 0  [1/1]\n",
      "\n",
      "  \u001b[1mMode 0 at 5.13 GHz   [1/2]\u001b[0m\n",
      "    Calculating ℰ_magnetic,ℰ_electric\n",
      "       (ℰ_E-ℰ_H)/ℰ_E       ℰ_E       ℰ_H\n",
      "               98.8%  2.509e-25 3.075e-27\n",
      "\n",
      "    Calculating junction energy participation ration (EPR)\n",
      "\tmethod=`line_voltage`. First estimates:\n",
      "\tjunction        EPR p_0j   sign s_0j    (p_capacitive)\n",
      "\t\tEnergy fraction (Lj over Lj&Cj)= 98.37%\n",
      "\tjj1              1.28003  (+)        0.0212393\n",
      "\t\t(U_tot_cap-U_tot_ind)/mean=-11.72%\n",
      "Calculating Qdielectric_main for mode 0 (0/1)\n"
     ]
    },
    {
     "name": "stderr",
     "output_type": "stream",
     "text": [
      "WARNING:py.warnings:c:\\Users\\slab\\anaconda3\\envs\\qmetal\\lib\\site-packages\\pyEPR\\core_distributed_analysis.py:1307: FutureWarning: The series.append method is deprecated and will be removed from pandas in a future version. Use pandas.concat instead.\n",
      "  sol = sol.append(self.get_Qdielectric(\n",
      "\n"
     ]
    },
    {
     "name": "stdout",
     "output_type": "stream",
     "text": [
      "p_dielectric_main_0 = 0.917571163814\n",
      "\n",
      "  \u001b[1mMode 1 at 7.41 GHz   [2/2]\u001b[0m\n",
      "    Calculating ℰ_magnetic,ℰ_electric\n",
      "       (ℰ_E-ℰ_H)/ℰ_E       ℰ_E       ℰ_H\n",
      "                0.2%  3.036e-25 3.029e-25\n",
      "\n",
      "    Calculating junction energy participation ration (EPR)\n",
      "\tmethod=`line_voltage`. First estimates:\n",
      "\tjunction        EPR p_1j   sign s_1j    (p_capacitive)\n",
      "\t\tEnergy fraction (Lj over Lj&Cj)= 96.65%\n",
      "\tjj1             0.00402297  (+)        0.000139521\n",
      "\t\t(U_tot_cap-U_tot_ind)/mean=-0.09%\n",
      "Calculating Qdielectric_main for mode 1 (1/1)\n"
     ]
    },
    {
     "name": "stderr",
     "output_type": "stream",
     "text": [
      "WARNING:py.warnings:c:\\Users\\slab\\anaconda3\\envs\\qmetal\\lib\\site-packages\\pyEPR\\core_distributed_analysis.py:1307: FutureWarning: The series.append method is deprecated and will be removed from pandas in a future version. Use pandas.concat instead.\n",
      "  sol = sol.append(self.get_Qdielectric(\n",
      "\n"
     ]
    },
    {
     "name": "stdout",
     "output_type": "stream",
     "text": [
      "p_dielectric_main_1 = 0.9067930163563251\n"
     ]
    },
    {
     "name": "stderr",
     "output_type": "stream",
     "text": [
      "WARNING 12:15AM [__init__]: <p>Error: <class 'IndexError'></p>\n",
      "ERROR 12:15AM [_get_participation_normalized]: WARNING: U_tot_cap-U_tot_ind / mean = 23.4% is > 15%.                     \n",
      "Is the simulation converged? Proceed with caution\n",
      "ERROR 12:15AM [_get_participation_normalized]: WARNING: U_tot_cap-U_tot_ind / mean = 23.4% is > 15%.                     \n",
      "Is the simulation converged? Proceed with caution\n",
      "WARNING:py.warnings:c:\\Users\\slab\\anaconda3\\envs\\qmetal\\lib\\site-packages\\pyEPR\\core_quantum_analysis.py:712: FutureWarning: Support for multi-dimensional indexing (e.g. `obj[:, None]`) is deprecated and will be removed in a future version.  Convert to a numpy array before indexing instead.\n",
      "  result['Q_coupling'] = self.Qm_coupling[variation][self.Qm_coupling[variation].columns[junctions]][modes]#TODO change the columns to junctions\n",
      "\n",
      "WARNING:py.warnings:c:\\Users\\slab\\anaconda3\\envs\\qmetal\\lib\\site-packages\\pyEPR\\core_quantum_analysis.py:717: FutureWarning: Support for multi-dimensional indexing (e.g. `obj[:, None]`) is deprecated and will be removed in a future version.  Convert to a numpy array before indexing instead.\n",
      "  result['Qs'] = self.Qs[variation][self.PM[variation].columns[junctions]][modes] #TODO change the columns to junctions\n",
      "\n"
     ]
    },
    {
     "name": "stdout",
     "output_type": "stream",
     "text": [
      "\n",
      "ANALYSIS DONE. Data saved to:\n",
      "\n",
      "C:\\data-pyEPR\\Project40\\single_q_hfss\\2023-05-05 00-14-58.npz\n",
      "\n",
      "\n",
      "\t Differences in variations:\n",
      "\n",
      "\n",
      "\n",
      " . . . . . . . . . . . . . . . . . . . . . . . . . . . . . . . . . . . . . . . . \n",
      "Variation 0\n",
      "\n",
      "Starting the diagonalization\n",
      "Finished the diagonalization\n",
      "Pm_norm=\n",
      "modes\n",
      "0    0.789372\n",
      "1    0.778057\n",
      "dtype: float64\n",
      "\n",
      "Pm_norm idx =\n",
      "     jj1\n",
      "0   True\n",
      "1  False\n",
      "*** P (participation matrix, not normlz.)\n",
      "        jj1\n",
      "0  1.253411\n",
      "1  0.004022\n",
      "\n",
      "*** S (sign-bit matrix)\n",
      "   s_jj1\n",
      "0     -1\n",
      "1      1\n",
      "*** P (participation matrix, normalized.)\n",
      "      0.99\n",
      "     0.004\n",
      "\n",
      "*** Chi matrix O1 PT (MHz)\n",
      "    Diag is anharmonicity, off diag is full cross-Kerr.\n",
      "       157     1.85\n",
      "      1.85  0.00543\n",
      "\n",
      "*** Chi matrix ND (MHz) \n",
      "       169     1.62\n",
      "      1.62  0.00425\n",
      "\n",
      "*** Frequencies O1 PT (MHz)\n",
      "0    4967.062206\n",
      "1    7408.881787\n",
      "dtype: float64\n",
      "\n",
      "*** Frequencies ND (MHz)\n",
      "0    4961.740267\n",
      "1    7408.914693\n",
      "dtype: float64\n",
      "\n",
      "*** Q_coupling\n",
      "Empty DataFrame\n",
      "Columns: []\n",
      "Index: [0, 1]\n"
     ]
    },
    {
     "data": {
      "text/markdown": [
       "#### Mode frequencies (MHz)"
      ],
      "text/plain": [
       "<IPython.core.display.Markdown object>"
      ]
     },
     "metadata": {},
     "output_type": "display_data"
    },
    {
     "data": {
      "text/markdown": [
       "###### Numerical diagonalization"
      ],
      "text/plain": [
       "<IPython.core.display.Markdown object>"
      ]
     },
     "metadata": {},
     "output_type": "display_data"
    },
    {
     "data": {
      "text/html": [
       "<div>\n",
       "<style scoped>\n",
       "    .dataframe tbody tr th:only-of-type {\n",
       "        vertical-align: middle;\n",
       "    }\n",
       "\n",
       "    .dataframe tbody tr th {\n",
       "        vertical-align: top;\n",
       "    }\n",
       "\n",
       "    .dataframe thead th {\n",
       "        text-align: right;\n",
       "    }\n",
       "</style>\n",
       "<table border=\"1\" class=\"dataframe\">\n",
       "  <thead>\n",
       "    <tr style=\"text-align: right;\">\n",
       "      <th>Lj</th>\n",
       "      <th>8</th>\n",
       "    </tr>\n",
       "  </thead>\n",
       "  <tbody>\n",
       "    <tr>\n",
       "      <th>0</th>\n",
       "      <td>4961.74</td>\n",
       "    </tr>\n",
       "    <tr>\n",
       "      <th>1</th>\n",
       "      <td>7408.91</td>\n",
       "    </tr>\n",
       "  </tbody>\n",
       "</table>\n",
       "</div>"
      ],
      "text/plain": [
       "Lj        8\n",
       "0   4961.74\n",
       "1   7408.91"
      ]
     },
     "metadata": {},
     "output_type": "display_data"
    },
    {
     "data": {
      "text/markdown": [
       "#### Kerr Non-linear coefficient table (MHz)"
      ],
      "text/plain": [
       "<IPython.core.display.Markdown object>"
      ]
     },
     "metadata": {},
     "output_type": "display_data"
    },
    {
     "data": {
      "text/markdown": [
       "###### Numerical diagonalization"
      ],
      "text/plain": [
       "<IPython.core.display.Markdown object>"
      ]
     },
     "metadata": {},
     "output_type": "display_data"
    },
    {
     "data": {
      "text/html": [
       "<div>\n",
       "<style scoped>\n",
       "    .dataframe tbody tr th:only-of-type {\n",
       "        vertical-align: middle;\n",
       "    }\n",
       "\n",
       "    .dataframe tbody tr th {\n",
       "        vertical-align: top;\n",
       "    }\n",
       "\n",
       "    .dataframe thead th {\n",
       "        text-align: right;\n",
       "    }\n",
       "</style>\n",
       "<table border=\"1\" class=\"dataframe\">\n",
       "  <thead>\n",
       "    <tr style=\"text-align: right;\">\n",
       "      <th></th>\n",
       "      <th></th>\n",
       "      <th>0</th>\n",
       "      <th>1</th>\n",
       "    </tr>\n",
       "    <tr>\n",
       "      <th>Lj</th>\n",
       "      <th></th>\n",
       "      <th></th>\n",
       "      <th></th>\n",
       "    </tr>\n",
       "  </thead>\n",
       "  <tbody>\n",
       "    <tr>\n",
       "      <th rowspan=\"2\" valign=\"top\">8</th>\n",
       "      <th>0</th>\n",
       "      <td>169.06</td>\n",
       "      <td>1.62e+00</td>\n",
       "    </tr>\n",
       "    <tr>\n",
       "      <th>1</th>\n",
       "      <td>1.62</td>\n",
       "      <td>4.25e-03</td>\n",
       "    </tr>\n",
       "  </tbody>\n",
       "</table>\n",
       "</div>"
      ],
      "text/plain": [
       "           0         1\n",
       "Lj                    \n",
       "8  0  169.06  1.62e+00\n",
       "   1    1.62  4.25e-03"
      ]
     },
     "metadata": {},
     "output_type": "display_data"
    },
    {
     "name": "stdout",
     "output_type": "stream",
     "text": [
      "57.12823676467313\n",
      "tried1\n"
     ]
    },
    {
     "name": "stderr",
     "output_type": "stream",
     "text": [
      "INFO 12:15AM [connect_design]: \tOpened active design\n",
      "\tDesign:    single_q_hfss [Solution type: Eigenmode]\n",
      "INFO 12:16AM [get_setup]: \tOpened setup `Setup`  (<class 'pyEPR.ansys.HfssEMSetup'>)\n",
      "INFO 12:16AM [analyze]: Analyzing setup Setup\n",
      "12:26AM 21s INFO [get_f_convergence]: Saved convergences to c:\\Users\\slab\\Desktop\\Wendy-qiskit-code\\hfss_eig_f_convergence.csv\n"
     ]
    },
    {
     "name": "stdout",
     "output_type": "stream",
     "text": [
      "saddd\n",
      "Design \"single_q_hfss\" info:\n",
      "\t# eigenmodes    2\n",
      "\t# variations    1\n",
      "Design \"single_q_hfss\" info:\n",
      "\t# eigenmodes    2\n",
      "\t# variations    1\n",
      "\n",
      "        energy_elec_all       = 4.00559603281301e-25\n",
      "        energy_elec_substrate = 3.63186552933043e-25\n",
      "        EPR of substrate = 90.7%\n",
      "\n",
      "        energy_mag    = 4.00099395400692e-25\n",
      "        energy_mag % of energy_elec_all  = 99.9%\n",
      "        \n",
      "\n",
      "Variation 0  [1/1]\n",
      "\n",
      "  \u001b[1mMode 0 at 5.15 GHz   [1/2]\u001b[0m\n",
      "    Calculating ℰ_magnetic,ℰ_electric\n",
      "       (ℰ_E-ℰ_H)/ℰ_E       ℰ_E       ℰ_H\n",
      "               99.0%  1.513e-25 1.484e-27\n",
      "\n",
      "    Calculating junction energy participation ration (EPR)\n",
      "\tmethod=`line_voltage`. First estimates:\n",
      "\tjunction        EPR p_0j   sign s_0j    (p_capacitive)\n",
      "\t\tEnergy fraction (Lj over Lj&Cj)= 98.35%\n",
      "\tjj1              1.28722  (+)        0.0215878\n",
      "\t\t(U_tot_cap-U_tot_ind)/mean=-11.88%\n",
      "Calculating Qdielectric_main for mode 0 (0/1)\n"
     ]
    },
    {
     "name": "stderr",
     "output_type": "stream",
     "text": [
      "WARNING:py.warnings:c:\\Users\\slab\\anaconda3\\envs\\qmetal\\lib\\site-packages\\pyEPR\\core_distributed_analysis.py:1307: FutureWarning: The series.append method is deprecated and will be removed from pandas in a future version. Use pandas.concat instead.\n",
      "  sol = sol.append(self.get_Qdielectric(\n",
      "\n"
     ]
    },
    {
     "name": "stdout",
     "output_type": "stream",
     "text": [
      "p_dielectric_main_0 = 0.9176664988839315\n",
      "\n",
      "  \u001b[1mMode 1 at 7.47 GHz   [2/2]\u001b[0m\n",
      "    Calculating ℰ_magnetic,ℰ_electric\n",
      "       (ℰ_E-ℰ_H)/ℰ_E       ℰ_E       ℰ_H\n",
      "                0.1%  2.003e-25     2e-25\n",
      "\n",
      "    Calculating junction energy participation ration (EPR)\n",
      "\tmethod=`line_voltage`. First estimates:\n",
      "\tjunction        EPR p_1j   sign s_1j    (p_capacitive)\n",
      "\t\tEnergy fraction (Lj over Lj&Cj)= 96.60%\n",
      "\tjj1             0.00223054  (+)        7.85993e-05\n",
      "\t\t(U_tot_cap-U_tot_ind)/mean=-0.05%\n",
      "Calculating Qdielectric_main for mode 1 (1/1)\n"
     ]
    },
    {
     "name": "stderr",
     "output_type": "stream",
     "text": [
      "WARNING:py.warnings:c:\\Users\\slab\\anaconda3\\envs\\qmetal\\lib\\site-packages\\pyEPR\\core_distributed_analysis.py:1307: FutureWarning: The series.append method is deprecated and will be removed from pandas in a future version. Use pandas.concat instead.\n",
      "  sol = sol.append(self.get_Qdielectric(\n",
      "\n"
     ]
    },
    {
     "name": "stdout",
     "output_type": "stream",
     "text": [
      "p_dielectric_main_1 = 0.9066979045263033\n"
     ]
    },
    {
     "name": "stderr",
     "output_type": "stream",
     "text": [
      "WARNING 12:26AM [__init__]: <p>Error: <class 'IndexError'></p>\n",
      "ERROR 12:26AM [_get_participation_normalized]: WARNING: U_tot_cap-U_tot_ind / mean = 23.8% is > 15%.                     \n",
      "Is the simulation converged? Proceed with caution\n",
      "ERROR 12:26AM [_get_participation_normalized]: WARNING: U_tot_cap-U_tot_ind / mean = 23.8% is > 15%.                     \n",
      "Is the simulation converged? Proceed with caution\n",
      "WARNING:py.warnings:c:\\Users\\slab\\anaconda3\\envs\\qmetal\\lib\\site-packages\\pyEPR\\core_quantum_analysis.py:712: FutureWarning: Support for multi-dimensional indexing (e.g. `obj[:, None]`) is deprecated and will be removed in a future version.  Convert to a numpy array before indexing instead.\n",
      "  result['Q_coupling'] = self.Qm_coupling[variation][self.Qm_coupling[variation].columns[junctions]][modes]#TODO change the columns to junctions\n",
      "\n",
      "WARNING:py.warnings:c:\\Users\\slab\\anaconda3\\envs\\qmetal\\lib\\site-packages\\pyEPR\\core_quantum_analysis.py:717: FutureWarning: Support for multi-dimensional indexing (e.g. `obj[:, None]`) is deprecated and will be removed in a future version.  Convert to a numpy array before indexing instead.\n",
      "  result['Qs'] = self.Qs[variation][self.PM[variation].columns[junctions]][modes] #TODO change the columns to junctions\n",
      "\n"
     ]
    },
    {
     "name": "stdout",
     "output_type": "stream",
     "text": [
      "\n",
      "ANALYSIS DONE. Data saved to:\n",
      "\n",
      "C:\\data-pyEPR\\Project40\\single_q_hfss\\2023-05-05 00-26-23.npz\n",
      "\n",
      "\n",
      "\t Differences in variations:\n",
      "\n",
      "\n",
      "\n",
      " . . . . . . . . . . . . . . . . . . . . . . . . . . . . . . . . . . . . . . . . \n",
      "Variation 0\n",
      "\n",
      "Starting the diagonalization\n",
      "Finished the diagonalization\n",
      "Pm_norm=\n",
      "modes\n",
      "0    0.786920\n",
      "1    0.774772\n",
      "dtype: float64\n",
      "\n",
      "Pm_norm idx =\n",
      "     jj1\n",
      "0   True\n",
      "1  False\n",
      "*** P (participation matrix, not normlz.)\n",
      "        jj1\n",
      "0  1.260021\n",
      "1  0.002230\n",
      "\n",
      "*** S (sign-bit matrix)\n",
      "   s_jj1\n",
      "0     -1\n",
      "1      1\n",
      "*** P (participation matrix, normalized.)\n",
      "      0.99\n",
      "    0.0022\n",
      "\n",
      "*** Chi matrix O1 PT (MHz)\n",
      "    Diag is anharmonicity, off diag is full cross-Kerr.\n",
      "       160     1.04\n",
      "      1.04   0.0017\n",
      "\n",
      "*** Chi matrix ND (MHz) \n",
      "       172    0.913\n",
      "     0.913  0.00133\n",
      "\n",
      "*** Frequencies O1 PT (MHz)\n",
      "0    4992.522916\n",
      "1    7468.512908\n",
      "dtype: float64\n",
      "\n",
      "*** Frequencies ND (MHz)\n",
      "0    4987.131061\n",
      "1    7468.531224\n",
      "dtype: float64\n",
      "\n",
      "*** Q_coupling\n",
      "Empty DataFrame\n",
      "Columns: []\n",
      "Index: [0, 1]\n"
     ]
    },
    {
     "data": {
      "text/markdown": [
       "#### Mode frequencies (MHz)"
      ],
      "text/plain": [
       "<IPython.core.display.Markdown object>"
      ]
     },
     "metadata": {},
     "output_type": "display_data"
    },
    {
     "data": {
      "text/markdown": [
       "###### Numerical diagonalization"
      ],
      "text/plain": [
       "<IPython.core.display.Markdown object>"
      ]
     },
     "metadata": {},
     "output_type": "display_data"
    },
    {
     "data": {
      "text/html": [
       "<div>\n",
       "<style scoped>\n",
       "    .dataframe tbody tr th:only-of-type {\n",
       "        vertical-align: middle;\n",
       "    }\n",
       "\n",
       "    .dataframe tbody tr th {\n",
       "        vertical-align: top;\n",
       "    }\n",
       "\n",
       "    .dataframe thead th {\n",
       "        text-align: right;\n",
       "    }\n",
       "</style>\n",
       "<table border=\"1\" class=\"dataframe\">\n",
       "  <thead>\n",
       "    <tr style=\"text-align: right;\">\n",
       "      <th>Lj</th>\n",
       "      <th>8</th>\n",
       "    </tr>\n",
       "  </thead>\n",
       "  <tbody>\n",
       "    <tr>\n",
       "      <th>0</th>\n",
       "      <td>4987.13</td>\n",
       "    </tr>\n",
       "    <tr>\n",
       "      <th>1</th>\n",
       "      <td>7468.53</td>\n",
       "    </tr>\n",
       "  </tbody>\n",
       "</table>\n",
       "</div>"
      ],
      "text/plain": [
       "Lj        8\n",
       "0   4987.13\n",
       "1   7468.53"
      ]
     },
     "metadata": {},
     "output_type": "display_data"
    },
    {
     "data": {
      "text/markdown": [
       "#### Kerr Non-linear coefficient table (MHz)"
      ],
      "text/plain": [
       "<IPython.core.display.Markdown object>"
      ]
     },
     "metadata": {},
     "output_type": "display_data"
    },
    {
     "data": {
      "text/markdown": [
       "###### Numerical diagonalization"
      ],
      "text/plain": [
       "<IPython.core.display.Markdown object>"
      ]
     },
     "metadata": {},
     "output_type": "display_data"
    },
    {
     "data": {
      "text/html": [
       "<div>\n",
       "<style scoped>\n",
       "    .dataframe tbody tr th:only-of-type {\n",
       "        vertical-align: middle;\n",
       "    }\n",
       "\n",
       "    .dataframe tbody tr th {\n",
       "        vertical-align: top;\n",
       "    }\n",
       "\n",
       "    .dataframe thead th {\n",
       "        text-align: right;\n",
       "    }\n",
       "</style>\n",
       "<table border=\"1\" class=\"dataframe\">\n",
       "  <thead>\n",
       "    <tr style=\"text-align: right;\">\n",
       "      <th></th>\n",
       "      <th></th>\n",
       "      <th>0</th>\n",
       "      <th>1</th>\n",
       "    </tr>\n",
       "    <tr>\n",
       "      <th>Lj</th>\n",
       "      <th></th>\n",
       "      <th></th>\n",
       "      <th></th>\n",
       "    </tr>\n",
       "  </thead>\n",
       "  <tbody>\n",
       "    <tr>\n",
       "      <th rowspan=\"2\" valign=\"top\">8</th>\n",
       "      <th>0</th>\n",
       "      <td>171.50</td>\n",
       "      <td>9.13e-01</td>\n",
       "    </tr>\n",
       "    <tr>\n",
       "      <th>1</th>\n",
       "      <td>0.91</td>\n",
       "      <td>1.33e-03</td>\n",
       "    </tr>\n",
       "  </tbody>\n",
       "</table>\n",
       "</div>"
      ],
      "text/plain": [
       "           0         1\n",
       "Lj                    \n",
       "8  0  171.50  9.13e-01\n",
       "   1    0.91  1.33e-03"
      ]
     },
     "metadata": {},
     "output_type": "display_data"
    },
    {
     "name": "stdout",
     "output_type": "stream",
     "text": [
      "63.39261268638303\n",
      "tried1\n"
     ]
    },
    {
     "name": "stderr",
     "output_type": "stream",
     "text": [
      "INFO 12:26AM [connect_design]: \tOpened active design\n",
      "\tDesign:    single_q_hfss [Solution type: Eigenmode]\n",
      "INFO 12:28AM [get_setup]: \tOpened setup `Setup`  (<class 'pyEPR.ansys.HfssEMSetup'>)\n",
      "INFO 12:28AM [analyze]: Analyzing setup Setup\n",
      "12:40AM 41s INFO [get_f_convergence]: Saved convergences to c:\\Users\\slab\\Desktop\\Wendy-qiskit-code\\hfss_eig_f_convergence.csv\n"
     ]
    },
    {
     "name": "stdout",
     "output_type": "stream",
     "text": [
      "saddd\n",
      "Design \"single_q_hfss\" info:\n",
      "\t# eigenmodes    2\n",
      "\t# variations    1\n",
      "Design \"single_q_hfss\" info:\n",
      "\t# eigenmodes    2\n",
      "\t# variations    1\n",
      "\n",
      "        energy_elec_all       = 3.98135194820642e-25\n",
      "        energy_elec_substrate = 3.6107860819621e-25\n",
      "        EPR of substrate = 90.7%\n",
      "\n",
      "        energy_mag    = 3.9762812783458e-25\n",
      "        energy_mag % of energy_elec_all  = 99.9%\n",
      "        \n",
      "\n",
      "Variation 0  [1/1]\n",
      "\n",
      "  \u001b[1mMode 0 at 5.15 GHz   [1/2]\u001b[0m\n",
      "    Calculating ℰ_magnetic,ℰ_electric\n",
      "       (ℰ_E-ℰ_H)/ℰ_E       ℰ_E       ℰ_H\n",
      "               99.0%  1.506e-25 1.528e-27\n",
      "\n",
      "    Calculating junction energy participation ration (EPR)\n",
      "\tmethod=`line_voltage`. First estimates:\n",
      "\tjunction        EPR p_0j   sign s_0j    (p_capacitive)\n",
      "\t\tEnergy fraction (Lj over Lj&Cj)= 98.35%\n",
      "\tjj1              1.28654  (+)        0.0215644\n",
      "\t\t(U_tot_cap-U_tot_ind)/mean=-11.87%\n",
      "Calculating Qdielectric_main for mode 0 (0/1)\n"
     ]
    },
    {
     "name": "stderr",
     "output_type": "stream",
     "text": [
      "WARNING:py.warnings:c:\\Users\\slab\\anaconda3\\envs\\qmetal\\lib\\site-packages\\pyEPR\\core_distributed_analysis.py:1307: FutureWarning: The series.append method is deprecated and will be removed from pandas in a future version. Use pandas.concat instead.\n",
      "  sol = sol.append(self.get_Qdielectric(\n",
      "\n"
     ]
    },
    {
     "name": "stdout",
     "output_type": "stream",
     "text": [
      "p_dielectric_main_0 = 0.9177701544793417\n",
      "\n",
      "  \u001b[1mMode 1 at 7.46 GHz   [2/2]\u001b[0m\n",
      "    Calculating ℰ_magnetic,ℰ_electric\n",
      "       (ℰ_E-ℰ_H)/ℰ_E       ℰ_E       ℰ_H\n",
      "                0.1%  1.991e-25 1.988e-25\n",
      "\n",
      "    Calculating junction energy participation ration (EPR)\n",
      "\tmethod=`line_voltage`. First estimates:\n",
      "\tjunction        EPR p_1j   sign s_1j    (p_capacitive)\n",
      "\t\tEnergy fraction (Lj over Lj&Cj)= 96.60%\n",
      "\tjj1             0.00246874  (+)        8.68393e-05\n",
      "\t\t(U_tot_cap-U_tot_ind)/mean=-0.06%\n",
      "Calculating Qdielectric_main for mode 1 (1/1)\n"
     ]
    },
    {
     "name": "stderr",
     "output_type": "stream",
     "text": [
      "WARNING:py.warnings:c:\\Users\\slab\\anaconda3\\envs\\qmetal\\lib\\site-packages\\pyEPR\\core_distributed_analysis.py:1307: FutureWarning: The series.append method is deprecated and will be removed from pandas in a future version. Use pandas.concat instead.\n",
      "  sol = sol.append(self.get_Qdielectric(\n",
      "\n"
     ]
    },
    {
     "name": "stdout",
     "output_type": "stream",
     "text": [
      "p_dielectric_main_1 = 0.9069246147878843\n"
     ]
    },
    {
     "name": "stderr",
     "output_type": "stream",
     "text": [
      "WARNING 12:41AM [__init__]: <p>Error: <class 'IndexError'></p>\n",
      "ERROR 12:41AM [_get_participation_normalized]: WARNING: U_tot_cap-U_tot_ind / mean = 23.7% is > 15%.                     \n",
      "Is the simulation converged? Proceed with caution\n",
      "ERROR 12:41AM [_get_participation_normalized]: WARNING: U_tot_cap-U_tot_ind / mean = 23.7% is > 15%.                     \n",
      "Is the simulation converged? Proceed with caution\n",
      "WARNING:py.warnings:c:\\Users\\slab\\anaconda3\\envs\\qmetal\\lib\\site-packages\\pyEPR\\core_quantum_analysis.py:712: FutureWarning: Support for multi-dimensional indexing (e.g. `obj[:, None]`) is deprecated and will be removed in a future version.  Convert to a numpy array before indexing instead.\n",
      "  result['Q_coupling'] = self.Qm_coupling[variation][self.Qm_coupling[variation].columns[junctions]][modes]#TODO change the columns to junctions\n",
      "\n",
      "WARNING:py.warnings:c:\\Users\\slab\\anaconda3\\envs\\qmetal\\lib\\site-packages\\pyEPR\\core_quantum_analysis.py:717: FutureWarning: Support for multi-dimensional indexing (e.g. `obj[:, None]`) is deprecated and will be removed in a future version.  Convert to a numpy array before indexing instead.\n",
      "  result['Qs'] = self.Qs[variation][self.PM[variation].columns[junctions]][modes] #TODO change the columns to junctions\n",
      "\n"
     ]
    },
    {
     "name": "stdout",
     "output_type": "stream",
     "text": [
      "\n",
      "ANALYSIS DONE. Data saved to:\n",
      "\n",
      "C:\\data-pyEPR\\Project40\\single_q_hfss\\2023-05-05 00-40-42.npz\n",
      "\n",
      "\n",
      "\t Differences in variations:\n",
      "\n",
      "\n",
      "\n",
      " . . . . . . . . . . . . . . . . . . . . . . . . . . . . . . . . . . . . . . . . \n",
      "Variation 0\n",
      "\n",
      "Starting the diagonalization\n",
      "Finished the diagonalization\n",
      "Pm_norm=\n",
      "modes\n",
      "0    0.787084\n",
      "1    0.775105\n",
      "dtype: float64\n",
      "\n",
      "Pm_norm idx =\n",
      "     jj1\n",
      "0   True\n",
      "1  False\n",
      "*** P (participation matrix, not normlz.)\n",
      "        jj1\n",
      "0  1.259385\n",
      "1  0.002469\n",
      "\n",
      "*** S (sign-bit matrix)\n",
      "   s_jj1\n",
      "0     -1\n",
      "1      1\n",
      "*** P (participation matrix, normalized.)\n",
      "      0.99\n",
      "    0.0025\n",
      "\n",
      "*** Chi matrix O1 PT (MHz)\n",
      "    Diag is anharmonicity, off diag is full cross-Kerr.\n",
      "       160     1.15\n",
      "      1.15  0.00208\n",
      "\n",
      "*** Chi matrix ND (MHz) \n",
      "       171     1.01\n",
      "      1.01  0.00162\n",
      "\n",
      "*** Frequencies O1 PT (MHz)\n",
      "0    4991.214791\n",
      "1    7461.861776\n",
      "dtype: float64\n",
      "\n",
      "*** Frequencies ND (MHz)\n",
      "0    4985.825446\n",
      "1    7461.882090\n",
      "dtype: float64\n",
      "\n",
      "*** Q_coupling\n",
      "Empty DataFrame\n",
      "Columns: []\n",
      "Index: [0, 1]\n"
     ]
    },
    {
     "data": {
      "text/markdown": [
       "#### Mode frequencies (MHz)"
      ],
      "text/plain": [
       "<IPython.core.display.Markdown object>"
      ]
     },
     "metadata": {},
     "output_type": "display_data"
    },
    {
     "data": {
      "text/markdown": [
       "###### Numerical diagonalization"
      ],
      "text/plain": [
       "<IPython.core.display.Markdown object>"
      ]
     },
     "metadata": {},
     "output_type": "display_data"
    },
    {
     "data": {
      "text/html": [
       "<div>\n",
       "<style scoped>\n",
       "    .dataframe tbody tr th:only-of-type {\n",
       "        vertical-align: middle;\n",
       "    }\n",
       "\n",
       "    .dataframe tbody tr th {\n",
       "        vertical-align: top;\n",
       "    }\n",
       "\n",
       "    .dataframe thead th {\n",
       "        text-align: right;\n",
       "    }\n",
       "</style>\n",
       "<table border=\"1\" class=\"dataframe\">\n",
       "  <thead>\n",
       "    <tr style=\"text-align: right;\">\n",
       "      <th>Lj</th>\n",
       "      <th>8</th>\n",
       "    </tr>\n",
       "  </thead>\n",
       "  <tbody>\n",
       "    <tr>\n",
       "      <th>0</th>\n",
       "      <td>4985.83</td>\n",
       "    </tr>\n",
       "    <tr>\n",
       "      <th>1</th>\n",
       "      <td>7461.88</td>\n",
       "    </tr>\n",
       "  </tbody>\n",
       "</table>\n",
       "</div>"
      ],
      "text/plain": [
       "Lj        8\n",
       "0   4985.83\n",
       "1   7461.88"
      ]
     },
     "metadata": {},
     "output_type": "display_data"
    },
    {
     "data": {
      "text/markdown": [
       "#### Kerr Non-linear coefficient table (MHz)"
      ],
      "text/plain": [
       "<IPython.core.display.Markdown object>"
      ]
     },
     "metadata": {},
     "output_type": "display_data"
    },
    {
     "data": {
      "text/markdown": [
       "###### Numerical diagonalization"
      ],
      "text/plain": [
       "<IPython.core.display.Markdown object>"
      ]
     },
     "metadata": {},
     "output_type": "display_data"
    },
    {
     "data": {
      "text/html": [
       "<div>\n",
       "<style scoped>\n",
       "    .dataframe tbody tr th:only-of-type {\n",
       "        vertical-align: middle;\n",
       "    }\n",
       "\n",
       "    .dataframe tbody tr th {\n",
       "        vertical-align: top;\n",
       "    }\n",
       "\n",
       "    .dataframe thead th {\n",
       "        text-align: right;\n",
       "    }\n",
       "</style>\n",
       "<table border=\"1\" class=\"dataframe\">\n",
       "  <thead>\n",
       "    <tr style=\"text-align: right;\">\n",
       "      <th></th>\n",
       "      <th></th>\n",
       "      <th>0</th>\n",
       "      <th>1</th>\n",
       "    </tr>\n",
       "    <tr>\n",
       "      <th>Lj</th>\n",
       "      <th></th>\n",
       "      <th></th>\n",
       "      <th></th>\n",
       "    </tr>\n",
       "  </thead>\n",
       "  <tbody>\n",
       "    <tr>\n",
       "      <th rowspan=\"2\" valign=\"top\">8</th>\n",
       "      <th>0</th>\n",
       "      <td>171.32</td>\n",
       "      <td>1.01e+00</td>\n",
       "    </tr>\n",
       "    <tr>\n",
       "      <th>1</th>\n",
       "      <td>1.01</td>\n",
       "      <td>1.62e-03</td>\n",
       "    </tr>\n",
       "  </tbody>\n",
       "</table>\n",
       "</div>"
      ],
      "text/plain": [
       "           0         1\n",
       "Lj                    \n",
       "8  0  171.32  1.01e+00\n",
       "   1    1.01  1.62e-03"
      ]
     },
     "metadata": {},
     "output_type": "display_data"
    },
    {
     "name": "stdout",
     "output_type": "stream",
     "text": [
      "62.80290956338173\n",
      "tried1\n"
     ]
    },
    {
     "name": "stderr",
     "output_type": "stream",
     "text": [
      "INFO 12:41AM [connect_design]: \tOpened active design\n",
      "\tDesign:    single_q_hfss [Solution type: Eigenmode]\n",
      "INFO 12:42AM [get_setup]: \tOpened setup `Setup`  (<class 'pyEPR.ansys.HfssEMSetup'>)\n",
      "INFO 12:42AM [analyze]: Analyzing setup Setup\n",
      "12:53AM 51s INFO [get_f_convergence]: Saved convergences to c:\\Users\\slab\\Desktop\\Wendy-qiskit-code\\hfss_eig_f_convergence.csv\n"
     ]
    },
    {
     "name": "stdout",
     "output_type": "stream",
     "text": [
      "saddd\n",
      "Design \"single_q_hfss\" info:\n",
      "\t# eigenmodes    2\n",
      "\t# variations    1\n",
      "Design \"single_q_hfss\" info:\n",
      "\t# eigenmodes    2\n",
      "\t# variations    1\n",
      "\n",
      "        energy_elec_all       = 5.07804959141586e-25\n",
      "        energy_elec_substrate = 4.60503583406679e-25\n",
      "        EPR of substrate = 90.7%\n",
      "\n",
      "        energy_mag    = 5.07165315240799e-25\n",
      "        energy_mag % of energy_elec_all  = 99.9%\n",
      "        \n",
      "\n",
      "Variation 0  [1/1]\n",
      "\n",
      "  \u001b[1mMode 0 at 5.15 GHz   [1/2]\u001b[0m\n",
      "    Calculating ℰ_magnetic,ℰ_electric\n",
      "       (ℰ_E-ℰ_H)/ℰ_E       ℰ_E       ℰ_H\n",
      "               99.0%   1.97e-25 1.991e-27\n",
      "\n",
      "    Calculating junction energy participation ration (EPR)\n",
      "\tmethod=`line_voltage`. First estimates:\n",
      "\tjunction        EPR p_0j   sign s_0j    (p_capacitive)\n",
      "\t\tEnergy fraction (Lj over Lj&Cj)= 98.35%\n",
      "\tjj1              1.28635  (+)        0.0215423\n",
      "\t\t(U_tot_cap-U_tot_ind)/mean=-11.86%\n",
      "Calculating Qdielectric_main for mode 0 (0/1)\n"
     ]
    },
    {
     "name": "stderr",
     "output_type": "stream",
     "text": [
      "WARNING:py.warnings:c:\\Users\\slab\\anaconda3\\envs\\qmetal\\lib\\site-packages\\pyEPR\\core_distributed_analysis.py:1307: FutureWarning: The series.append method is deprecated and will be removed from pandas in a future version. Use pandas.concat instead.\n",
      "  sol = sol.append(self.get_Qdielectric(\n",
      "\n"
     ]
    },
    {
     "name": "stdout",
     "output_type": "stream",
     "text": [
      "p_dielectric_main_0 = 0.917673404353933\n",
      "\n",
      "  \u001b[1mMode 1 at 7.46 GHz   [2/2]\u001b[0m\n",
      "    Calculating ℰ_magnetic,ℰ_electric\n",
      "       (ℰ_E-ℰ_H)/ℰ_E       ℰ_E       ℰ_H\n",
      "                0.1%  2.539e-25 2.536e-25\n",
      "\n",
      "    Calculating junction energy participation ration (EPR)\n",
      "\tmethod=`line_voltage`. First estimates:\n",
      "\tjunction        EPR p_1j   sign s_1j    (p_capacitive)\n",
      "\t\tEnergy fraction (Lj over Lj&Cj)= 96.60%\n",
      "\tjj1             0.00244225  (+)        8.59326e-05\n",
      "\t\t(U_tot_cap-U_tot_ind)/mean=-0.05%\n",
      "Calculating Qdielectric_main for mode 1 (1/1)\n"
     ]
    },
    {
     "name": "stderr",
     "output_type": "stream",
     "text": [
      "WARNING:py.warnings:c:\\Users\\slab\\anaconda3\\envs\\qmetal\\lib\\site-packages\\pyEPR\\core_distributed_analysis.py:1307: FutureWarning: The series.append method is deprecated and will be removed from pandas in a future version. Use pandas.concat instead.\n",
      "  sol = sol.append(self.get_Qdielectric(\n",
      "\n"
     ]
    },
    {
     "name": "stdout",
     "output_type": "stream",
     "text": [
      "p_dielectric_main_1 = 0.9068512922464027\n"
     ]
    },
    {
     "name": "stderr",
     "output_type": "stream",
     "text": [
      "WARNING 12:54AM [__init__]: <p>Error: <class 'IndexError'></p>\n",
      "ERROR 12:54AM [_get_participation_normalized]: WARNING: U_tot_cap-U_tot_ind / mean = 23.7% is > 15%.                     \n",
      "Is the simulation converged? Proceed with caution\n",
      "ERROR 12:54AM [_get_participation_normalized]: WARNING: U_tot_cap-U_tot_ind / mean = 23.7% is > 15%.                     \n",
      "Is the simulation converged? Proceed with caution\n",
      "WARNING:py.warnings:c:\\Users\\slab\\anaconda3\\envs\\qmetal\\lib\\site-packages\\pyEPR\\core_quantum_analysis.py:712: FutureWarning: Support for multi-dimensional indexing (e.g. `obj[:, None]`) is deprecated and will be removed in a future version.  Convert to a numpy array before indexing instead.\n",
      "  result['Q_coupling'] = self.Qm_coupling[variation][self.Qm_coupling[variation].columns[junctions]][modes]#TODO change the columns to junctions\n",
      "\n",
      "WARNING:py.warnings:c:\\Users\\slab\\anaconda3\\envs\\qmetal\\lib\\site-packages\\pyEPR\\core_quantum_analysis.py:717: FutureWarning: Support for multi-dimensional indexing (e.g. `obj[:, None]`) is deprecated and will be removed in a future version.  Convert to a numpy array before indexing instead.\n",
      "  result['Qs'] = self.Qs[variation][self.PM[variation].columns[junctions]][modes] #TODO change the columns to junctions\n",
      "\n"
     ]
    },
    {
     "name": "stdout",
     "output_type": "stream",
     "text": [
      "\n",
      "ANALYSIS DONE. Data saved to:\n",
      "\n",
      "C:\\data-pyEPR\\Project40\\single_q_hfss\\2023-05-05 00-53-52.npz\n",
      "\n",
      "\n",
      "\t Differences in variations:\n",
      "\n",
      "\n",
      "\n",
      " . . . . . . . . . . . . . . . . . . . . . . . . . . . . . . . . . . . . . . . . \n",
      "Variation 0\n",
      "\n",
      "Starting the diagonalization\n",
      "Finished the diagonalization\n",
      "Pm_norm=\n",
      "modes\n",
      "0    0.787214\n",
      "1    0.775050\n",
      "dtype: float64\n",
      "\n",
      "Pm_norm idx =\n",
      "     jj1\n",
      "0   True\n",
      "1  False\n",
      "*** P (participation matrix, not normlz.)\n",
      "        jj1\n",
      "0  1.259228\n",
      "1  0.002442\n",
      "\n",
      "*** S (sign-bit matrix)\n",
      "   s_jj1\n",
      "0     -1\n",
      "1      1\n",
      "*** P (participation matrix, normalized.)\n",
      "      0.99\n",
      "    0.0024\n",
      "\n",
      "*** Chi matrix O1 PT (MHz)\n",
      "    Diag is anharmonicity, off diag is full cross-Kerr.\n",
      "       159     1.14\n",
      "      1.14  0.00203\n",
      "\n",
      "*** Chi matrix ND (MHz) \n",
      "       171    0.998\n",
      "     0.998  0.00159\n",
      "\n",
      "*** Frequencies O1 PT (MHz)\n",
      "0    4989.090368\n",
      "1    7462.951297\n",
      "dtype: float64\n",
      "\n",
      "*** Frequencies ND (MHz)\n",
      "0    4983.708355\n",
      "1    7462.971308\n",
      "dtype: float64\n",
      "\n",
      "*** Q_coupling\n",
      "Empty DataFrame\n",
      "Columns: []\n",
      "Index: [0, 1]\n"
     ]
    },
    {
     "data": {
      "text/markdown": [
       "#### Mode frequencies (MHz)"
      ],
      "text/plain": [
       "<IPython.core.display.Markdown object>"
      ]
     },
     "metadata": {},
     "output_type": "display_data"
    },
    {
     "data": {
      "text/markdown": [
       "###### Numerical diagonalization"
      ],
      "text/plain": [
       "<IPython.core.display.Markdown object>"
      ]
     },
     "metadata": {},
     "output_type": "display_data"
    },
    {
     "data": {
      "text/html": [
       "<div>\n",
       "<style scoped>\n",
       "    .dataframe tbody tr th:only-of-type {\n",
       "        vertical-align: middle;\n",
       "    }\n",
       "\n",
       "    .dataframe tbody tr th {\n",
       "        vertical-align: top;\n",
       "    }\n",
       "\n",
       "    .dataframe thead th {\n",
       "        text-align: right;\n",
       "    }\n",
       "</style>\n",
       "<table border=\"1\" class=\"dataframe\">\n",
       "  <thead>\n",
       "    <tr style=\"text-align: right;\">\n",
       "      <th>Lj</th>\n",
       "      <th>8</th>\n",
       "    </tr>\n",
       "  </thead>\n",
       "  <tbody>\n",
       "    <tr>\n",
       "      <th>0</th>\n",
       "      <td>4983.71</td>\n",
       "    </tr>\n",
       "    <tr>\n",
       "      <th>1</th>\n",
       "      <td>7462.97</td>\n",
       "    </tr>\n",
       "  </tbody>\n",
       "</table>\n",
       "</div>"
      ],
      "text/plain": [
       "Lj        8\n",
       "0   4983.71\n",
       "1   7462.97"
      ]
     },
     "metadata": {},
     "output_type": "display_data"
    },
    {
     "data": {
      "text/markdown": [
       "#### Kerr Non-linear coefficient table (MHz)"
      ],
      "text/plain": [
       "<IPython.core.display.Markdown object>"
      ]
     },
     "metadata": {},
     "output_type": "display_data"
    },
    {
     "data": {
      "text/markdown": [
       "###### Numerical diagonalization"
      ],
      "text/plain": [
       "<IPython.core.display.Markdown object>"
      ]
     },
     "metadata": {},
     "output_type": "display_data"
    },
    {
     "data": {
      "text/html": [
       "<div>\n",
       "<style scoped>\n",
       "    .dataframe tbody tr th:only-of-type {\n",
       "        vertical-align: middle;\n",
       "    }\n",
       "\n",
       "    .dataframe tbody tr th {\n",
       "        vertical-align: top;\n",
       "    }\n",
       "\n",
       "    .dataframe thead th {\n",
       "        text-align: right;\n",
       "    }\n",
       "</style>\n",
       "<table border=\"1\" class=\"dataframe\">\n",
       "  <thead>\n",
       "    <tr style=\"text-align: right;\">\n",
       "      <th></th>\n",
       "      <th></th>\n",
       "      <th>0</th>\n",
       "      <th>1</th>\n",
       "    </tr>\n",
       "    <tr>\n",
       "      <th>Lj</th>\n",
       "      <th></th>\n",
       "      <th></th>\n",
       "      <th></th>\n",
       "    </tr>\n",
       "  </thead>\n",
       "  <tbody>\n",
       "    <tr>\n",
       "      <th rowspan=\"2\" valign=\"top\">8</th>\n",
       "      <th>0</th>\n",
       "      <td>171.18</td>\n",
       "      <td>9.98e-01</td>\n",
       "    </tr>\n",
       "    <tr>\n",
       "      <th>1</th>\n",
       "      <td>1.00</td>\n",
       "      <td>1.59e-03</td>\n",
       "    </tr>\n",
       "  </tbody>\n",
       "</table>\n",
       "</div>"
      ],
      "text/plain": [
       "           0         1\n",
       "Lj                    \n",
       "8  0  171.18  9.98e-01\n",
       "   1    1.00  1.59e-03"
      ]
     },
     "metadata": {},
     "output_type": "display_data"
    },
    {
     "name": "stderr",
     "output_type": "stream",
     "text": [
      "12:54AM 21s CRITICAL [_qt_message_handler]: line: 0, func: None(), file: None  CRITICAL: QEventDispatcherWin32::wakeUp: Failed to post a message (Not enough quota is available to process this command.)\n",
      "\n",
      "12:54AM 21s CRITICAL [_qt_message_handler]: line: 0, func: None(), file: None  CRITICAL: QEventDispatcherWin32::wakeUp: Failed to post a message (Not enough quota is available to process this command.)\n",
      "\n"
     ]
    }
   ],
   "source": [
    "for i in [5]:\n",
    "    \n",
    "    smin, smax= (20,100)\n",
    "    \n",
    "    def f(size):\n",
    "        return find_freq(size, i)\n",
    "    \n",
    "    sfinal = brentq(f, smin, smax, xtol = 1e-2, rtol = 1e-2)\n",
    "    \n",
    "    \n",
    "    change_size(sfinal,i, path = guess_path)\n",
    "    \n",
    "    \n",
    "    "
   ]
  },
  {
   "attachments": {},
   "cell_type": "markdown",
   "metadata": {},
   "source": [
    "end"
   ]
  },
  {
   "attachments": {},
   "cell_type": "markdown",
   "metadata": {},
   "source": [
    "Sort data"
   ]
  },
  {
   "cell_type": "code",
   "execution_count": null,
   "metadata": {},
   "outputs": [],
   "source": [
    "data = pd.read_csv(guess_path)"
   ]
  },
  {
   "cell_type": "code",
   "execution_count": null,
   "metadata": {},
   "outputs": [],
   "source": [
    "data"
   ]
  },
  {
   "cell_type": "code",
   "execution_count": null,
   "metadata": {},
   "outputs": [],
   "source": [
    "cols = data.columns.values\n",
    "f = []\n",
    "for i in cols:\n",
    "    if 'Unnamed' not in i:\n",
    "        f.append(i)"
   ]
  },
  {
   "cell_type": "code",
   "execution_count": null,
   "metadata": {},
   "outputs": [],
   "source": [
    "d = data[f]"
   ]
  },
  {
   "cell_type": "code",
   "execution_count": null,
   "metadata": {},
   "outputs": [],
   "source": [
    "d.to_csv(r'data\\educated_guess_test2')"
   ]
  },
  {
   "attachments": {},
   "cell_type": "markdown",
   "metadata": {},
   "source": [
    "sim start"
   ]
  },
  {
   "cell_type": "code",
   "execution_count": null,
   "metadata": {},
   "outputs": [],
   "source": [
    "datas = pd.DataFrame()\n",
    "\n",
    "for ii,freq in enumerate(np.arange(4,6,0.2)):\n",
    "    dat = {}\n",
    "    dat['f_target'] = freq\n",
    "    default_options['frequency'] = freq\n",
    "    \n",
    "    q1 = p.qubit\n",
    "    \n",
    "    eig_all.sim.renderer.options['Lj'] = ljs[ii]\n",
    "    eig_all.sim.renderer.options['Cj'] = q1.options['hfss_capacitance']\n",
    "\n",
    "    eig_all.sim.setup.vars = {}\n",
    "    eig_all.sim.setup.vars['Lj'] = q1.options['hfss_inductance']\n",
    "    eig_all.sim.setup.vars['Cj'] = q1.options['hfss_capacitance']\n",
    "\n",
    "    p = pocket(gui,design,sim = True, options = default_options)\n",
    "    gui.rebuild()\n",
    "    \n",
    "    eig_all.sim.run(name=\"single_q\", components=components)\n",
    "    \n",
    "    \n",
    "    convergence = pd.read_csv('hfss_eig_f_convergence.csv')\n",
    "    conv = convergence.dropna()\n",
    "\n",
    "    ind = list(conv.keys())[1:]\n",
    "    for i in range(1):\n",
    "        freq = conv[ind[(i)]].values[-1]\n",
    "        dat['Freq'+str(i+1)+'(GHz)'] = freq\n",
    "    \n",
    "    \n",
    "    try:\n",
    "        del eig_all.setup.junctions['jj']\n",
    "    except:\n",
    "        print('saddd')\n",
    "    eig_all.setup.junctions.jj1 = Dict(rect='JJ_rect_Lj_qubit_0_0__rect_jj', line='JJ_Lj_qubit_0_0__rect_jj_',\n",
    "                    Lj_variable='Lj', Cj_variable='Cj')\n",
    "    eig_all.run_epr()\n",
    "    \n",
    "    #Save the EPR data\n",
    "    chi = eig_all.sim.renderer.epr_quantum_analysis.get_chis().to_numpy()\n",
    "    freq_EPR= eig_all.sim.renderer.epr_quantum_analysis.get_frequencies().to_numpy()[:,0]\n",
    "    \n",
    "    # renderer_hfss.clean_active_design()\n",
    "    for i in range(1):\n",
    "        freq = freq_EPR[i]\n",
    "        dat['Freq_EPR'+str(i+1)+'(MHz)'] = freq\n",
    "        for j in range(i+1):\n",
    "            dat['Chi'+str(i+1)+'_'+str(j+1)+'(MHz)'] = chi[i][j] \n",
    "\n",
    "    \n",
    "    c.sim.run(name = 'a',components=components)\n",
    "    cg = -c.sim.capacitance_matrix['a_connector_pad_qubit_0_0_']['pad_top_qubit_0_0_']\n",
    "    dat['cap_t_g'] = cg\n",
    "    f,_ = trans_p.transmon_freq(cg*u.fF, ljs[ii]*u.nH)\n",
    "    \n",
    "    dat['Predict_freq'] = f\n",
    "    \n",
    "    \n",
    "    data = pd.DataFrame(dat, index = [0])\n",
    "    \n",
    "    datas = pd.concat([datas,data], ignore_index = True)\n",
    "    datas.to_csv(r'data\\epr_freq_cap_freq.csv')"
   ]
  },
  {
   "cell_type": "code",
   "execution_count": null,
   "metadata": {},
   "outputs": [],
   "source": [
    "i"
   ]
  },
  {
   "cell_type": "code",
   "execution_count": null,
   "metadata": {},
   "outputs": [],
   "source": []
  }
 ],
 "metadata": {
  "kernelspec": {
   "display_name": "qmetal",
   "language": "python",
   "name": "qmetal"
  },
  "language_info": {
   "codemirror_mode": {
    "name": "ipython",
    "version": 3
   },
   "file_extension": ".py",
   "mimetype": "text/x-python",
   "name": "python",
   "nbconvert_exporter": "python",
   "pygments_lexer": "ipython3",
   "version": "3.10.8"
  },
  "orig_nbformat": 4
 },
 "nbformat": 4,
 "nbformat_minor": 2
}
