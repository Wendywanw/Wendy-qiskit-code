{
 "cells": [
  {
   "cell_type": "code",
   "execution_count": 1,
   "metadata": {},
   "outputs": [],
   "source": [
    "%reload_ext autoreload\n",
    "%autoreload 2\n",
    "\n",
    "import sys\n",
    "\n",
    "sys.path.append('../Customized_Components') #this path is not right for this PC. Maybne this will work?\n",
    "from bandaged_dolan import DolanJunctionBandage\n",
    "from houcklab_qubit import DiffTransmonRounded\n",
    "import Transmon_specifications as transmon\n",
    "\n",
    "import warnings\n",
    "\n",
    "import shapely\n",
    "from CoupledLineTee import CoupledLineTee\n",
    "from dolan_junction import DolanJunction\n",
    "from LaunchpadWirebondCustom import LaunchpadWirebondCustom\n",
    "from shapely.errors import ShapelyDeprecationWarning\n",
    "from single_pad_transmon_pocket import TransmonPocket_Single\n",
    "\n",
    "warnings.filterwarnings(\"ignore\", category=ShapelyDeprecationWarning)\n",
    "from collections import OrderedDict\n",
    "\n",
    "import Default_res_params as dp\n",
    "import matplotlib.pyplot as plt\n",
    "import numpy as np\n",
    "import pandas as pd\n",
    "import copy\n",
    "import os\n",
    "\n",
    "\n",
    "\n",
    "# from qiskit_metal.qlibrary.couplers.coupled_line_tee import CoupledLineTee\n",
    "# from qiskit_metal.qlibrary.terminations.launchpad_wb import LaunchpadWirebond\n",
    "# import pyEPR as epr\n",
    "from qiskit_metal import Dict, Headings, MetalGUI, designs, draw\n",
    "# from qiskit_metal.qlibrary.terminations.open_to_ground import OpenToGround\n",
    "# from qiskit_metal.qlibrary.terminations.short_to_ground import ShortToGround\n",
    "# from qiskit_metal.qlibrary.tlines.anchored_path import RouteAnchors\n",
    "# from qiskit_metal.qlibrary.tlines.mixed_path import RouteMeander, RouteMixed\n",
    "# from qiskit_metal.qlibrary.tlines.straight_path import RouteStraight\n",
    "# from qiskit_metal.toolbox_metal.parsing import *\n"
   ]
  },
  {
   "cell_type": "code",
   "execution_count": 2,
   "metadata": {},
   "outputs": [],
   "source": [
    "gui = MetalGUI(dp.design)\n",
    "design = dp.design\n",
    "design.overwrite_enabled = True\n",
    "c1, renderer_q3d, q3d = dp.init_q3d_sim()\n",
    "eig_all, hfss_renderer, hfss = dp.init_hfss_sim()"
   ]
  },
  {
   "cell_type": "code",
   "execution_count": null,
   "metadata": {},
   "outputs": [],
   "source": []
  },
  {
   "cell_type": "markdown",
   "metadata": {},
   "source": [
    "## Calculate Qubit Params"
   ]
  },
  {
   "cell_type": "code",
   "execution_count": 3,
   "metadata": {},
   "outputs": [],
   "source": [
    "import Transmon_property as tp"
   ]
  },
  {
   "cell_type": "code",
   "execution_count": 4,
   "metadata": {},
   "outputs": [],
   "source": [
    "import scqubits as scq\n",
    "import numpy as np\n",
    "import matplotlib.pyplot as plt\n",
    "import astropy.units as u\n",
    "import astropy.constants as c\n",
    "\n",
    "from scipy.optimize import root_scalar"
   ]
  },
  {
   "cell_type": "code",
   "execution_count": 5,
   "metadata": {},
   "outputs": [],
   "source": [
    "ratio = 65\n",
    "Phi0 = (c.h / (2 * c.e.si))  # Flux quantum in Weber\n",
    "\n",
    "def inductance_to_cap(L,ratio = ratio):\n",
    "    EJ = (((Phi0/2/np.pi)**2/L).to(u.J)/c.h).to(u.GHz)\n",
    "    EC = EJ/ratio\n",
    "    return (c.e.si**2 / (2 * EC)/c.h).to(u.fF)\n",
    "\n",
    "def target_function(L, desired_frequency, ratio):\n",
    "    L = L * u.nH  # Convert L to nanohenrys\n",
    "    calculated_frequency = calculate_qubit_freq(L, ratio)\n",
    "    return calculated_frequency - desired_frequency\n",
    "def calculate_qubit_freq(L,ratio = ratio):\n",
    "    \n",
    "    EJ = (((Phi0/2/np.pi)**2/L).to(u.J)/c.h).to(u.GHz)\n",
    "    EC = EJ/ratio\n",
    "    ng = 0.0   # Offset charge\n",
    "    nlev = 10  # Number of energy levels to consider\n",
    "\n",
    "    # Create a Transmon object\n",
    "    transmon = scq.Transmon(EJ=EJ.value, EC=EC.value, ng=ng, ncut=30, truncated_dim=nlev)\n",
    "\n",
    "    # Calculate the eigenenergies\n",
    "    eigenenergies = transmon.eigenvals()\n",
    "\n",
    "    # Calculate the transition frequencies (in GHz)\n",
    "    transition_frequencies = np.diff(eigenenergies)\n",
    "\n",
    "    # Calculate the anharmonicity (in GHz)\n",
    "    anharmonicity = transition_frequencies[1] - transition_frequencies[0]\n",
    "    return transition_frequencies[0]\n",
    "    \n",
    "class TransmonQubit():\n",
    "    def __init__(self, freq, ratio):\n",
    "        self.freq = freq\n",
    "        self.ratio = ratio\n",
    "        self.C = None,\n",
    "        self.L = None\n",
    "        self.EJ = None\n",
    "        self.EC = None\n",
    "        self.update_params()\n",
    "        self.alpha = self.EC\n",
    "        \n",
    "    def update_params(self):\n",
    "        self.C, self.L = self.qubit_freq_to_cap()\n",
    "        Phi0 = (c.h / (2 * c.e.si))  # Flux quantum in Weber\n",
    "\n",
    "        # Calculate the Josephson energy EJ and charging energy EC\n",
    "        EJ = (((Phi0/2/np.pi)**2/self.L).to(u.J)/c.h).to(u.GHz)#, equivalencies=u.spectral())  # Convert to GHz\n",
    "        EC = (c.e.si**2 / (2 * self.C)/c.h).to(u.GHz)\n",
    "        self.EJ = EJ\n",
    "        self.EC = EC\n",
    "        \n",
    "    def get_params(self):\n",
    "        return [self.freq, self.ratio, self.qubit_capacitance, self.qubit_inductance, self.EJ, self.EC]\n",
    "    def get_qcap(self):\n",
    "        return self.C\n",
    "    \n",
    "    def get_qind(self):\n",
    "        return self.L\n",
    "    \n",
    "    def get_EJ(self):\n",
    "        return self.EJ\n",
    "    \n",
    "    def get_EC(self):\n",
    "        return self.EC\n",
    "    \n",
    "    def qubit_freq_to_cap(self, ):\n",
    "        desired_frequency = self.freq   # Desired frequency in GHz\n",
    "        ratio = self.ratio\n",
    "        # Use scipy.optimize.root_scalar to find the root\n",
    "        def target_function(L, desired_frequency,):\n",
    "            self.L = L * u.nH  # Convert L to nanohenrys\n",
    "            self.calculate_qubit_freq()\n",
    "            calculated_frequency = self.freq.to(u.GHz).value\n",
    "            return calculated_frequency - desired_frequency\n",
    "        result = root_scalar(target_function, args=(desired_frequency.to(u.GHz).value,), bracket=[1, 100], method='brentq')\n",
    "\n",
    "        # Print the result\n",
    "        if result.converged:\n",
    "            L_optimal = result.root\n",
    "            print(f\"Optimal inductance L: {L_optimal} nH\")\n",
    "        else:\n",
    "            print(\"Root finding did not converge\")\n",
    "        c_optimal = inductance_to_cap(L_optimal*u.nH, ratio = ratio)\n",
    "        return c_optimal, L_optimal*u.nH\n",
    "    def calculate_qubit_freq(self,):\n",
    "        L = self.L\n",
    "        ratio = self.ratio\n",
    "        EJ = (((Phi0/2/np.pi)**2/L).to(u.J)/c.h).to(u.GHz)\n",
    "        #, equivalencies=u.spectral())  # Convert to GHz\n",
    "        EC = EJ/ratio\n",
    "        ng = 0.0   # Offset charge\n",
    "        nlev = 10  # Number of energy levels to consider\n",
    "\n",
    "        # Create a Transmon object\n",
    "        transmon = scq.Transmon(EJ=EJ.value, EC=EC.value, ng=ng, ncut=30, truncated_dim=nlev)\n",
    "\n",
    "        # Calculate the eigenenergies\n",
    "        eigenenergies = transmon.eigenvals()\n",
    "\n",
    "        # Calculate the transition frequencies (in GHz)\n",
    "        transition_frequencies = np.diff(eigenenergies)\n",
    "\n",
    "        # Calculate the anharmonicity (in GHz)\n",
    "        anharmonicity = transition_frequencies[1] - transition_frequencies[0]\n",
    "        self.freq = transition_frequencies[0]*u.GHz\n",
    "        self.alpha = anharmonicity*u.GHz\n",
    "    \n",
    "    "
   ]
  },
  {
   "cell_type": "markdown",
   "metadata": {},
   "source": [
    "Design specifics"
   ]
  },
  {
   "cell_type": "code",
   "execution_count": 6,
   "metadata": {},
   "outputs": [],
   "source": [
    "from Transmon_specifications import find_junction_area, find_junction_capacitance"
   ]
  },
  {
   "cell_type": "code",
   "execution_count": 7,
   "metadata": {},
   "outputs": [],
   "source": [
    "def pad_len_from_C(c):\n",
    "    slope = (900-500)/(101.367-61.365)\n",
    "    intercept = 500 - slope*61.365\n",
    "    \n",
    "    return slope*c.to(u.fF).value + intercept \n",
    "def unitless_find_j_area(L):\n",
    "    return find_junction_area(L*u.nH,Jc = 0.42*u.uA/u.um**2).to(u.um**2).value\n",
    "\n",
    "def unitless_find_pad_len(C):\n",
    "    slope = (900-500)/(101.367-61.365)\n",
    "    intercept = 500 - slope*61.365\n",
    "    \n",
    "    return slope*C + intercept"
   ]
  },
  {
   "cell_type": "code",
   "execution_count": 8,
   "metadata": {},
   "outputs": [],
   "source": [
    "def convert_capacitance_to_energy(capacitance):\n",
    "    C = capacitance*u.fF\n",
    "    return (c.e.si**2 / (2 * C)/c.h).to(u.GHz)\n",
    "\n",
    "def get_cap_params(caps, cj):\n",
    "    cap_matrix = copy.deepcopy(caps)\n",
    "    T = np.array([[1,0,-1,0],\n",
    "              [0,1,0,0],\n",
    "              [1,0,1,0],\n",
    "              [0,0,0,1]])\n",
    "    cap_matrix[0,2] -= cj\n",
    "    cap_matrix[2,0] -= cj\n",
    "    cap_matrix[2,2] += cj\n",
    "    cap_matrix[0,0] += cj\n",
    "    differential_cap_matrix = np.linalg.inv(T).T@(cap_matrix)@np.linalg.inv(T)\n",
    "    inverse = np.linalg.inv(differential_cap_matrix)\n",
    "    qubit_capacitance = np.reciprocal(inverse)[0,0]\n",
    "    coupling_capacitance = np.reciprocal(inverse)[0,1]\n",
    "    Ec = convert_capacitance_to_energy(qubit_capacitance)\n",
    "    g = 8*convert_capacitance_to_energy(coupling_capacitance).to(u.MHz)\n",
    "    return [Ec,g,qubit_capacitance,coupling_capacitance]\n",
    "    "
   ]
  },
  {
   "cell_type": "code",
   "execution_count": 9,
   "metadata": {},
   "outputs": [
    {
     "data": {
      "text/plain": [
       "[<Quantity 0.48425573 GHz>, <Quantity 0. MHz>, 40.0, inf]"
      ]
     },
     "execution_count": 9,
     "metadata": {},
     "output_type": "execute_result"
    }
   ],
   "source": [
    "get_cap_params(np.array([[80,0,0,0],[0,80,0,0],[0,0,80,0],[0,0,0,80]]),0.5)"
   ]
  },
  {
   "cell_type": "markdown",
   "metadata": {},
   "source": [
    "## Resonator calculations"
   ]
  },
  {
   "cell_type": "code",
   "execution_count": 10,
   "metadata": {},
   "outputs": [],
   "source": [
    "import astropy.units as u\n",
    "import astropy.constants as c\n",
    "import scipy.optimize as optimize\n",
    "\n",
    "# define constants for LL designs\n",
    "sub_t = 350*u.um #substrate thickness (Si in this case)\n",
    "metal_t = 100*u.nm #Deposited metal thickness (Al)\n",
    "Sc = 67*u.fF/(u.um)**2 #JJ specific capacitance\n",
    "epsilon = 11.45\n",
    "W_jj = 200*u.nm #junction width\n",
    "Z0 = 50*u.Ohm #characteristic impedance\n",
    "import qiskit_metal.analyses as analyses"
   ]
  },
  {
   "cell_type": "code",
   "execution_count": 11,
   "metadata": {},
   "outputs": [],
   "source": [
    "freq = 6*u.GHz.si\n",
    "line_width = 15*u.um\n",
    "line_gap = 8.30*u.um"
   ]
  },
  {
   "cell_type": "markdown",
   "metadata": {},
   "source": [
    "Optimal pin-gap ratio for resonator and feedlines"
   ]
  },
  {
   "cell_type": "code",
   "execution_count": 12,
   "metadata": {},
   "outputs": [],
   "source": [
    "class ReadoutResonator():\n",
    "    def __init__(self, freq, short_on_one_end = False,optimal_pin = None, optimal_gap = None ):\n",
    "        self.freq = freq\n",
    "        self.short_on_one_end = short_on_one_end\n",
    "        self.substrate_thickness = 350*u.um\n",
    "        self.film_thickness = 100*u.nm\n",
    "        if (optimal_gap is None) and (optimal_pin is None):\n",
    "            self.pin = 15*u.um\n",
    "            self.optimize_gap()\n",
    "        elif optimal_gap is None:\n",
    "            self.pin = optimal_pin\n",
    "            self.optimize_gap()\n",
    "        elif optimal_pin is None:\n",
    "            self.gap = optimal_gap\n",
    "            self.optimize_pin()\n",
    "        \n",
    "        self.param_from_res_freq(freq, short_on_one_end = short_on_one_end)\n",
    "        self.C = np.pi/2/self.freq/2/np.pi/self.Z0\n",
    "        \n",
    "    def get_params(self):\n",
    "        return [self.L, self.C, self.target_length]\n",
    "    \n",
    "    def get_L(self):\n",
    "        return self.L\n",
    "    \n",
    "    def get_C(self):\n",
    "        return self.C\n",
    "    \n",
    "    def get_target_length(self):\n",
    "        return self.target_length\n",
    "    \n",
    "    def param_from_res_freq(self,freq, short_on_one_end = False):\n",
    "        self.Lk, self.Lext,self.Cl,self.G,self.Z0,self.etf,self.Cstar = analyses.cpw_calculations.lumped_cpw(freq = self.freq.to(u.Hz).value,\n",
    "                                        line_width=self.pin.to(u.m).value,\n",
    "                                        line_gap=self.gap.to(u.m).value,\n",
    "                                        substrate_thickness=self.substrate_thickness.to(u.m).value,\n",
    "                                        film_thickness=self.film_thickness.to(u.m).value,)\n",
    "        self.Lk*=u.H\n",
    "        self.Lext*=u.H\n",
    "        self.Cl*=u.F/u.m\n",
    "        \n",
    "        self.G*=u.S\n",
    "        self.Z0*=u.Ohm\n",
    "        self.etf*=u.H/u.m\n",
    "        self.Cstar*=u.F\n",
    "        target_length = analyses.cpw_calculations.guided_wavelength(freq = self.freq.to(u.Hz).value,\n",
    "                                        line_width=self.pin.to(u.m).value,\n",
    "                                        line_gap=self.gap.to(u.m).value,\n",
    "                                        substrate_thickness=self.substrate_thickness.to(u.m).value,\n",
    "                                        film_thickness=self.film_thickness.to(u.m).value,)[0]*u.m\n",
    "        if short_on_one_end:\n",
    "            target_length /= 4\n",
    "        else:\n",
    "            target_length /= 2\n",
    "        self.len = target_length\n",
    "    def optimize_gap(self):\n",
    "        def f(line_gap):\n",
    "            return(analyses.cpw_calculations.lumped_cpw(self.freq.to(u.Hz).value,\n",
    "                                            self.pin.to(u.m).value,\n",
    "                                            line_gap,\n",
    "                                            self.substrate_thickness.to(u.m).value,\n",
    "                                            self.film_thickness.to(u.m).value)[4]-50)\n",
    "        optimized_gap = optimize.fsolve(f,self.pin.si.value)[0]*u.m\n",
    "        self.gap = optimized_gap.to(u.um)\n",
    "    def optimize_pin(self):\n",
    "        def f(line_width):\n",
    "            return(analyses.cpw_calculations.lumped_cpw(self.freq.to(u.Hz).value,\n",
    "                                            line_width,\n",
    "                                            self.gap.si.value,\n",
    "                                            self.substrate_thickness.to(u.m).value,\n",
    "                                            self.film_thickness.to(u.m).value)[4]-50)\n",
    "        optimized_pin = optimize.fsolve(f,self.gap.si.value)[0]*u.m\n",
    "        self.pin = optimized_pin.to(u.um)"
   ]
  },
  {
   "cell_type": "markdown",
   "metadata": {},
   "source": [
    "### dispersive readout function"
   ]
  },
  {
   "cell_type": "code",
   "execution_count": 13,
   "metadata": {},
   "outputs": [],
   "source": [
    "class DispersiveReadout():\n",
    "    def __init__(self, qubit, res, T1, c_qr = None, c_tr = None):\n",
    "        self.qubit = qubit\n",
    "        self.res = res\n",
    "        self.pT1 = T1\n",
    "        self.optimize_cqr()\n",
    "        self.optimize_ctr()\n",
    "        \n",
    "    def get_params(self):\n",
    "        return [self.qubit, self.res, self.c_qr, self.c_tr]\n",
    "    \n",
    "    def get_cqr(self):\n",
    "        return self.c_qr\n",
    "    \n",
    "    def get_ctr(self):\n",
    "        return self.c_tr\n",
    "    \n",
    "    def get_qubit(self):\n",
    "        return self.qubit\n",
    "    \n",
    "    def get_res(self):\n",
    "        return self.res\n",
    "    def calc_g(self):\n",
    "        c_qr = self.c_qr\n",
    "        Cq = self.qubit.C\n",
    "        Cr = self.res.C\n",
    "        wq = self.qubit.freq*np.pi*2\n",
    "        wr = self.res.freq*np.pi*2\n",
    "        EJ = self.qubit.EJ\n",
    "        EC = self.qubit.EC\n",
    "        return c_qr/Cq*np.sqrt(c.e.si**2*wr/c.hbar/Cr)*(EJ/8/EC)**0.25\n",
    "    def update_g(self):\n",
    "        self.g = self.calc_g()\n",
    "    def calc_kappa(self):\n",
    "        res = self.res\n",
    "        c_tr = self.c_tr\n",
    "        argv = [res.freq.si.value, \n",
    "                c_tr.si.value, \n",
    "                res.len.si.value, \n",
    "                res.pin.si.value, \n",
    "                res.gap.si.value, \n",
    "                2]\n",
    "        \n",
    "        return (analyses.em.kappa_calculation.kappa_in(res.freq.si.value, \n",
    "                c_tr.si.value, \n",
    "                res.len.si.value, \n",
    "                res.pin.si.value, \n",
    "                res.gap.si.value, \n",
    "                2)*u.Hz).to(u.MHz)\n",
    "    def update_kappa(self):\n",
    "        self.kappa = self.calc_kappa()\n",
    "    def calc_chi(self):\n",
    "        qubit = self.qubit\n",
    "        resonator = self.res\n",
    "        delta = (qubit.freq-resonator.freq)*2*np.pi\n",
    "        sum_freq = (qubit.freq+resonator.freq)*2*np.pi\n",
    "        alpha = qubit.EC\n",
    "        return 2*self.g**2*(alpha/delta/(delta+alpha)+alpha/sum_freq/(sum_freq+alpha))\n",
    "    def update_chi(self):\n",
    "        self.chi = self.calc_chi()\n",
    "    def calc_purcellT1(self,):\n",
    "        qubit = self.qubit\n",
    "        res = self.res\n",
    "        \n",
    "        delta = (qubit.freq-res.freq)*2*np.pi\n",
    "        \n",
    "        purcellGamma = self.g**2*self.kappa/delta**2\n",
    "        \n",
    "        return 1/purcellGamma/2/np.pi\n",
    "    def calc_purcellT1q(self,update_g = True, update_chi = True):\n",
    "        '''taking kappa = 2*chi for the optimal SNR, can directly get the T1q'''\n",
    "        c_qr = self.c_qr\n",
    "        qubit = self.qubit\n",
    "        res = self.res\n",
    "        if update_g:\n",
    "            self.update_g()\n",
    "        if update_chi:\n",
    "            self.update_chi()\n",
    "        delta = (qubit.freq-res.freq)*2*np.pi\n",
    "        \n",
    "        kappa_val = self.chi*2\n",
    "        \n",
    "        purcellGamma = self.g**2*kappa_val/delta**2\n",
    "        return 1/purcellGamma/2/np.pi\n",
    "    def optimize_cqr(self,):\n",
    "        '''find the optimal coupling capacitance'''\n",
    "        target_t1 = self.pT1\n",
    "        c_qr = 1*u.fF\n",
    "        self.c_qr = c_qr\n",
    "        while self.calc_purcellT1q().to(u.ms) > 1.01*target_t1:\n",
    "            c_qr += .1*u.fF\n",
    "            self.c_qr = c_qr\n",
    "        return c_qr\n",
    "    def optimize_ctr(self, target_kappa=None):\n",
    "        '''find the optimal coupling capacitance'''\n",
    "        # if target_kappa is None:\n",
    "        #     target_kappa = self.chi*2\n",
    "        # c_tr = 1*u.fF\n",
    "        # self.c_tr = c_tr\n",
    "        # self.update_kappa()\n",
    "        # while self.kappa < target_kappa:\n",
    "        #     c_tr += .1*u.fF\n",
    "        #     self.c_tr = c_tr\n",
    "        #     self.update_kappa()\n",
    "        # return c_tr\n",
    "        self.c_tr = 1*u.fF\n",
    "        return self.c_tr\n"
   ]
  },
  {
   "cell_type": "code",
   "execution_count": 14,
   "metadata": {},
   "outputs": [
    {
     "name": "stdout",
     "output_type": "stream",
     "text": [
      "Optimal inductance L: 13.676453476080171 nH\n"
     ]
    }
   ],
   "source": [
    "qubit = TransmonQubit(4*u.GHz, ratio = 65)\n",
    "res = ReadoutResonator(6*u.GHz, short_on_one_end = False)\n",
    "dr = DispersiveReadout(qubit,res,5*u.ms)"
   ]
  },
  {
   "cell_type": "code",
   "execution_count": 15,
   "metadata": {},
   "outputs": [],
   "source": [
    "default_options = Dict(\n",
    "        cut_l='800um',\n",
    "        cut_h='1200um',\n",
    "        gap='20um',\n",
    "        w = '90um',\n",
    "        l = '900um',\n",
    "        r = '60um',\n",
    "        cpw_l = '50um',\n",
    "        coupling_gap = '40um',\n",
    "        JJ_cutout_w = '70um',\n",
    "        JJ_cutout_h = '70um',\n",
    "        JJ_cutout_r = '150um',\n",
    "        JJ_c_contact_l = '40um',\n",
    "        JJ_c_contact_r = '2.5um',\n",
    "        JJ_c_contact_w = '10um',\n",
    "        coupling_d = '100um',\n",
    "        coupling_pad_w = '90um',\n",
    "        coupling_r = '40um',\n",
    "        cpw_pin = '10um',\n",
    "        chip='main',\n",
    "        resolution = '10',\n",
    "        junction = 'False',\n",
    "        orientation = '0',\n",
    "        JJ_c_contact_shortl = '10um',\n",
    "        istunnel = 'False')"
   ]
  },
  {
   "cell_type": "markdown",
   "metadata": {},
   "source": []
  },
  {
   "cell_type": "markdown",
   "metadata": {},
   "source": [
    "## Leonding method"
   ]
  },
  {
   "cell_type": "code",
   "execution_count": 16,
   "metadata": {},
   "outputs": [],
   "source": [
    "def convert_capacitance_to_energy(capacitance):\n",
    "    C = capacitance*u.fF\n",
    "    return (c.e.si**2 / (2 * C)/c.h).to(u.GHz)\n",
    "\n",
    "def get_cap_params_dim4(caps, cj):\n",
    "    cap_matrix = copy.deepcopy(caps)\n",
    "    T = np.array([[1,0,0,0],\n",
    "                  [0,1,1,0],\n",
    "                  [0,1,-1,0],\n",
    "                  [0,0,0,1]])\n",
    "    cap_matrix[1,2] -= cj\n",
    "    cap_matrix[2,1] -= cj\n",
    "    cap_matrix[2,2] += cj\n",
    "    cap_matrix[1,1] += cj\n",
    "    differential_cap_matrix = np.linalg.inv(T).T@(cap_matrix)@np.linalg.inv(T)\n",
    "    inverse = np.linalg.inv(differential_cap_matrix)\n",
    "    qubit_capacitance = np.reciprocal(inverse)[2,2]\n",
    "    coupling_capacitance = np.reciprocal(inverse)[2,3]\n",
    "    Ec = convert_capacitance_to_energy(qubit_capacitance)\n",
    "    J = 8*convert_capacitance_to_energy(coupling_capacitance).to(u.MHz)\n",
    "    # gp = (1/c.hbar*c.e.si*np.sqrt(np.pi*c.hbar/2/z0)*(32*Ec/Ej)**0.25).to(u.MHz)*coupling_capacitance\n",
    "    # print(gp)\n",
    "    return [Ec,J,qubit_capacitance,coupling_capacitance]\n",
    "def get_cap_params_dim2(caps, cj):\n",
    "    cap_matrix = copy.deepcopy(caps)\n",
    "    T = np.array([[1,1,0],\n",
    "                  [1,-1,0],\n",
    "                  [0,0,1]])\n",
    "    cap_matrix[0,1] -= cj\n",
    "    cap_matrix[1,0] -= cj\n",
    "    cap_matrix[1,1] += cj\n",
    "    cap_matrix[0,0] += cj\n",
    "    differential_cap_matrix = np.linalg.inv(T).T@(cap_matrix)@np.linalg.inv(T)\n",
    "    inverse = np.linalg.inv(differential_cap_matrix)\n",
    "    qubit_capacitance = np.reciprocal(inverse)[1,1]\n",
    "    coupling_capacitance = np.reciprocal(inverse)[1,2]\n",
    "    Ec = convert_capacitance_to_energy(qubit_capacitance)\n",
    "    J = 8*convert_capacitance_to_energy(coupling_capacitance).to(u.MHz)\n",
    "    \n",
    "    # gp = (1/c.hbar*c.e.si*np.sqrt(np.pi*c.hbar/2/z0)*(32*Ec/Ej)**0.25).to(u.MHz)*coupling_capacitance\n",
    "    # print(gp)\n",
    "    return [Ec,J,qubit_capacitance,coupling_capacitance]\n",
    "def qubit_zpf(E_J, E_c):\n",
    "    z_Q = (1/2*np.pi)*np.sqrt(8*E_c/E_J)\n",
    "    return np.sqrt(1/(4*np.pi*z_Q))\n",
    "def res_zpf(Z_0 = 50*u.Ohm):\n",
    "    R_Q = c.h/(2*c.e.si**2)\n",
    "    Z = 2*Z_0/np.pi\n",
    "    z= Z/R_Q\n",
    "    return np.sqrt(1/(4*np.pi*z))\n",
    "    "
   ]
  },
  {
   "cell_type": "code",
   "execution_count": 17,
   "metadata": {},
   "outputs": [],
   "source": [
    "phi0 = c.h/2/c.e.si\n",
    "epsilon_r = 11.45\n",
    "z0 = 50*u.Ohm\n",
    "\n",
    "def g_leonDing_old(dim = 4, c1 = c1, cj = 2, Lj = 13*u.nH):\n",
    "    df = c1.sim.capacitance_matrix\n",
    "    df1 = copy.deepcopy(df)\n",
    "    df1['ground_main_plane']['ground_main_plane'] += res.C.to(u.fF).value\n",
    "    df1['resonator_pad_Q1']['resonator_pad_Q1'] += res.C.to(u.fF).value\n",
    "    df1['resonator_pad_Q1']['ground_main_plane'] -= res.C.to(u.fF).value\n",
    "    df1['ground_main_plane']['resonator_pad_Q1'] -= res.C.to(u.fF).value\n",
    "    cap = df1.to_numpy()\n",
    "    if dim == 3:\n",
    "        capp = cap[1:,1:]\n",
    "        Ec, J,_,_ = get_cap_params(capp,cj)\n",
    "    elif dim == 4:\n",
    "        capp = cap\n",
    "        Ec, J,_,_ = get_cap_params_dim4(capp,cj) \n",
    "        \n",
    "    \n",
    "    # Ec = (c.e.si**2/2/Cq)/c.h\n",
    "    Ej = ((phi0/2/np.pi)**2/Lj)/c.h   \n",
    "    g = (qubit_zpf(Ej,Ec)*J*res_zpf()).to(u.MHz)\n",
    "    \n",
    "    \n",
    "    \n",
    "    return g, Ec, Ej, "
   ]
  },
  {
   "cell_type": "code",
   "execution_count": 18,
   "metadata": {},
   "outputs": [],
   "source": [
    "def g_leonDing(dim = 4, c1 = c1, cj = 2, Lj = 13*u.nH):\n",
    "    df = c1.sim.capacitance_matrix\n",
    "    df1 = copy.deepcopy(df)\n",
    "    \n",
    "    \n",
    "    # df1['ground_main_plane']['ground_main_plane'] += res.C.to(u.fF).value\n",
    "    # df1['resonator_pad_Q1']['resonator_pad_Q1'] += res.C.to(u.fF).value\n",
    "    # df1['resonator_pad_Q1']['ground_main_plane'] -= res.C.to(u.fF).value\n",
    "    # df1['ground_main_plane']['resonator_pad_Q1'] -= res.C.to(u.fF).value\n",
    "    cap = df1.to_numpy()\n",
    "    cap[1,1] += cap[0,1]\n",
    "    cap[2,2] += cap[0,2]\n",
    "    cap[3,3] += cap[0,3]\n",
    "    \n",
    "    cap[0,3] += res.C.to(u.fF).value\n",
    "    cap[3,0] += res.C.to(u.fF).value\n",
    "    cap[0,0] -= res.C.to(u.fF).value\n",
    "    cap[3,3] -= res.C.to(u.fF).value\n",
    "    \n",
    "    \n",
    "    if dim == 3:\n",
    "        capp = cap[1:,1:]\n",
    "        Ec, J,_,_ = get_cap_params(capp,cj)\n",
    "    elif dim == 4:\n",
    "        capp = cap\n",
    "        Ec, J,_,_ = get_cap_params_dim4(capp,cj) \n",
    "        \n",
    "    \n",
    "    # Ec = (c.e.si**2/2/Cq)/c.h\n",
    "    Ej = ((phi0/2/np.pi)**2/Lj)/c.h   \n",
    "    g = (qubit_zpf(Ej,Ec)*J*res_zpf()).to(u.MHz)\n",
    "    \n",
    "    \n",
    "    \n",
    "    return g, Ec, Ej, "
   ]
  },
  {
   "cell_type": "code",
   "execution_count": 19,
   "metadata": {},
   "outputs": [],
   "source": [
    "# g_leonDing(dim = 4, c1 = c1, cj = 2, Lj = 13*u.nH)"
   ]
  },
  {
   "cell_type": "code",
   "execution_count": 20,
   "metadata": {},
   "outputs": [],
   "source": [
    "qubit.alpha = 0.2*u.GHz\n",
    "# dr.calc_g().to(u.MHz)"
   ]
  },
  {
   "cell_type": "code",
   "execution_count": 21,
   "metadata": {},
   "outputs": [
    {
     "name": "stderr",
     "output_type": "stream",
     "text": [
      "02:54PM 52s WARNING [run_lom]: Please initialize the capacitance_matrix before executing this method.`self.sim.capacitance_matrix = pd.DataFrame(...)`\n"
     ]
    },
    {
     "data": {
      "text/plain": [
       "{}"
      ]
     },
     "execution_count": 21,
     "metadata": {},
     "output_type": "execute_result"
    }
   ],
   "source": [
    "c1.setup.junctions = Dict({'Lj': qubit.L.to(u.nH).value, 'Cj': 2})\n",
    "c1.setup.freq_readout = 6.0\n",
    "c1.setup.freq_bus = []\n",
    "\n",
    "c1.run_lom()\n",
    "c1.lumped_oscillator_all"
   ]
  },
  {
   "cell_type": "markdown",
   "metadata": {},
   "source": [
    "## Alex Page Thesis method"
   ]
  },
  {
   "cell_type": "code",
   "execution_count": 22,
   "metadata": {},
   "outputs": [],
   "source": [
    "df = c1.sim.capacitance_matrix"
   ]
  },
  {
   "cell_type": "code",
   "execution_count": 23,
   "metadata": {},
   "outputs": [],
   "source": [
    "phi0 = c.h/2/c.e.si\n",
    "T = 30*u.mK\n",
    "epsilon_r = 11.45\n",
    "z0 = 50*u.Ohm\n",
    "\n",
    "\n",
    "Cq = 20*u.fF\n",
    "Lj = 13*u.nH\n",
    "Ec = (c.e.si**2/2/Cq)/c.h\n"
   ]
  },
  {
   "cell_type": "code",
   "execution_count": 24,
   "metadata": {},
   "outputs": [],
   "source": [
    "def g_alexPage(c1 = c1,wr = 6*u.GHz, Lj = 13*u.nH):\n",
    "    df = c1.sim.capacitance_matrix\n",
    "    c_1 = -df['pad_left_Q1']['resonator_pad_0_Q1']*u.fF\n",
    "    c_2 = -df['pad_right_Q1']['ground_main_plane']*u.fF\n",
    "    c_3 = -df['pad_right_Q1']['resonator_pad_0_Q1']*u.fF\n",
    "    c_4 = -df['pad_left_Q1']['ground_main_plane']*u.fF\n",
    "    ct = -df['pad_left_Q1']['pad_right_Q1']*u.fF\n",
    "\n",
    "    c_phi = (c_2+c_3)*(c_1+c_4)/(c_1+c_2+c_3+c_4)+2*u.fF+ct\n",
    "    c_ceff = (c_1**2-c_3*c_4)/(c_1+c_2+c_3+c_4+ct)\n",
    "    beta = (c_1*c_2-c_3*c_4)/((c_2+c_3)*(c_1+c_4)+ct*(c_1+c_2+c_3+c_4))\n",
    "    Ec = (c.e.si**2/2/c_phi)/c.h\n",
    "    Ej = ((phi0/2/np.pi)**2/Lj)/c.h\n",
    "    w01 = np.sqrt(8*Ec*Ej)\n",
    "    delta = wr-w01\n",
    "    c_res = np.pi/2/wr/z0\n",
    "    Vrms = np.sqrt(c.hbar*wr/2/c_res)\n",
    "    g = c.e.si*Vrms*beta/c.hbar*np.sqrt(2)*(Ej/8/Ec)**0.25\n",
    "    return g.to(u.MHz), Ec.to(u.MHz), Ej.to(u.GHz), w01.to(u.GHz)"
   ]
  },
  {
   "cell_type": "code",
   "execution_count": 25,
   "metadata": {},
   "outputs": [],
   "source": [
    "# g_alexPage()"
   ]
  },
  {
   "cell_type": "code",
   "execution_count": null,
   "metadata": {},
   "outputs": [],
   "source": []
  },
  {
   "cell_type": "markdown",
   "metadata": {},
   "source": [
    "## Qiskit Metal"
   ]
  },
  {
   "cell_type": "code",
   "execution_count": 26,
   "metadata": {},
   "outputs": [],
   "source": [
    "qubit_layer = 5\n",
    "junction_layer = 20\n",
    "ab_layer = 31\n",
    "ab_square_layer = 30\n",
    "junction_area_layer = 60"
   ]
  },
  {
   "cell_type": "code",
   "execution_count": 27,
   "metadata": {},
   "outputs": [
    {
     "name": "stdout",
     "output_type": "stream",
     "text": [
      "2025-01-2414-54\n"
     ]
    }
   ],
   "source": [
    "from datetime import datetime\n",
    "\n",
    "def get_current_time_string():\n",
    "    now = datetime.now()\n",
    "    return now.strftime(\"%Y-%m-%d%H-%M\")\n",
    "\n",
    "# Example usage\n",
    "print(get_current_time_string())"
   ]
  },
  {
   "cell_type": "code",
   "execution_count": 28,
   "metadata": {},
   "outputs": [
    {
     "name": "stdout",
     "output_type": "stream",
     "text": [
      "Optimal inductance L: 13.676453476080171 nH\n"
     ]
    }
   ],
   "source": [
    "qubit = TransmonQubit(4*u.GHz, ratio = 65)\n",
    "res = ReadoutResonator(6*u.GHz, short_on_one_end = False)"
   ]
  },
  {
   "cell_type": "code",
   "execution_count": 29,
   "metadata": {},
   "outputs": [
    {
     "ename": "Exception",
     "evalue": "stop here",
     "output_type": "error",
     "traceback": [
      "\u001b[1;31m---------------------------------------------------------------------------\u001b[0m",
      "\u001b[1;31mException\u001b[0m                                 Traceback (most recent call last)",
      "Cell \u001b[1;32mIn [29], line 1\u001b[0m\n\u001b[1;32m----> 1\u001b[0m \u001b[38;5;28;01mraise\u001b[39;00m \u001b[38;5;167;01mException\u001b[39;00m(\u001b[38;5;124m'\u001b[39m\u001b[38;5;124mstop here\u001b[39m\u001b[38;5;124m'\u001b[39m)\n",
      "\u001b[1;31mException\u001b[0m: stop here"
     ]
    }
   ],
   "source": [
    "raise Exception('stop here')"
   ]
  },
  {
   "cell_type": "code",
   "execution_count": 31,
   "metadata": {},
   "outputs": [],
   "source": [
    "default_options = Dict(\n",
    "        cut_l='800um',\n",
    "        cut_h='1200um',\n",
    "        gap='20um',\n",
    "        w = '90um',\n",
    "        l = '900um',\n",
    "        r = '60um',\n",
    "        cpw_l = '50um',\n",
    "        coupling_gap = '40um',\n",
    "        JJ_cutout_w = '70um',\n",
    "        JJ_cutout_h = '70um',\n",
    "        JJ_cutout_r = '150um',\n",
    "        JJ_c_contact_l = '40um',\n",
    "        JJ_c_contact_r = '2.5um',\n",
    "        JJ_c_contact_w = '10um',\n",
    "        coupling_d = '100um',\n",
    "        coupling_pad_w = '90um',\n",
    "        coupling_r = '40um',\n",
    "        cpw_pin = '10um',\n",
    "        chip='main',\n",
    "        resolution = '10',\n",
    "        junction = 'False',\n",
    "        orientation = '0',\n",
    "        JJ_c_contact_shortl = '10um',\n",
    "        istunnel = 'False')"
   ]
  },
  {
   "cell_type": "markdown",
   "metadata": {},
   "source": [
    "### Define qubit, resonator params"
   ]
  },
  {
   "cell_type": "code",
   "execution_count": null,
   "metadata": {},
   "outputs": [
    {
     "name": "stdout",
     "output_type": "stream",
     "text": [
      "Optimal inductance L: 13.676453476080171 nH\n"
     ]
    }
   ],
   "source": [
    "qubit = TransmonQubit(4*u.GHz, ratio = 65)\n",
    "res = ReadoutResonator(6.5*u.GHz, short_on_one_end = False)\n",
    "\n"
   ]
  },
  {
   "cell_type": "code",
   "execution_count": null,
   "metadata": {},
   "outputs": [],
   "source": [
    "dr = DispersiveReadout(qubit,res,5*u.ms)"
   ]
  },
  {
   "cell_type": "code",
   "execution_count": null,
   "metadata": {},
   "outputs": [
    {
     "name": "stderr",
     "output_type": "stream",
     "text": [
      "09:56PM 59s ERROR [__getitem__]: \n",
      "Warning: User tried to access a variable in the parse options that is not there!\n",
      " Component name = `Q1`\n",
      " Option name    = `coupling_arm`\n",
      "09:56PM 59s ERROR [__getitem__]: \n",
      "Warning: User tried to access a variable in the parse options that is not there!\n",
      " Component name = `Q1`\n",
      " Option name    = `jj_taper_r`\n",
      "09:56PM 59s ERROR [rebuild]: ERROR in building component name=Q1, error=unsupported operand type(s) for /: 'NoneType' and 'float'\n"
     ]
    },
    {
     "ename": "TypeError",
     "evalue": "unsupported operand type(s) for /: 'NoneType' and 'float'",
     "output_type": "error",
     "traceback": [
      "\u001b[1;31m---------------------------------------------------------------------------\u001b[0m",
      "\u001b[1;31mTypeError\u001b[0m                                 Traceback (most recent call last)",
      "Cell \u001b[1;32mIn [32], line 1\u001b[0m\n\u001b[1;32m----> 1\u001b[0m q1 \u001b[38;5;241m=\u001b[39m \u001b[43mDiffTransmonRounded\u001b[49m\u001b[43m(\u001b[49m\u001b[43mdesign\u001b[49m\u001b[43m,\u001b[49m\u001b[38;5;124;43m'\u001b[39;49m\u001b[38;5;124;43mQ1\u001b[39;49m\u001b[38;5;124;43m'\u001b[39;49m\u001b[43m,\u001b[49m\u001b[43moptions\u001b[49m\u001b[43m \u001b[49m\u001b[38;5;241;43m=\u001b[39;49m\u001b[43m \u001b[49m\u001b[43mdefault_options\u001b[49m\u001b[43m)\u001b[49m\n\u001b[0;32m      2\u001b[0m gui\u001b[38;5;241m.\u001b[39mrebuild()\n",
      "File \u001b[1;32mc:\\_lib\\python\\qiskit-metal\\qiskit_metal\\qlibrary\\core\\qubit.py:78\u001b[0m, in \u001b[0;36mBaseQubit.__init__\u001b[1;34m(self, design, name, options, options_connection_pads, make, **kwargs)\u001b[0m\n\u001b[0;32m     74\u001b[0m     \u001b[38;5;28;01mraise\u001b[39;00m \u001b[38;5;167;01mException\u001b[39;00m(\n\u001b[0;32m     75\u001b[0m         \u001b[38;5;124mf\u001b[39m\u001b[38;5;124m\"\u001b[39m\u001b[38;5;124mUnable to create connection pads using given parameters: \u001b[39m\u001b[38;5;132;01m{\u001b[39;00moptions_connection_pads\u001b[38;5;132;01m}\u001b[39;00m\u001b[38;5;124m.\u001b[39m\u001b[38;5;130;01m\\n\u001b[39;00m\u001b[38;5;130;01m\\n\u001b[39;00m\u001b[38;5;124m If given parameters is None, check to make sure you don\u001b[39m\u001b[38;5;124m'\u001b[39m\u001b[38;5;124mt have any invalid child parameters in your connection_pads parameter.\u001b[39m\u001b[38;5;130;01m\\n\u001b[39;00m\u001b[38;5;130;01m\\n\u001b[39;00m\u001b[38;5;124m If you don\u001b[39m\u001b[38;5;124m'\u001b[39m\u001b[38;5;124mt want any pads, ensure neither options_connection_pads nor options[connection_pads] are parameters\u001b[39m\u001b[38;5;130;01m\\n\u001b[39;00m\u001b[38;5;130;01m\\n\u001b[39;00m\u001b[38;5;124m Exception is: \u001b[39m\u001b[38;5;132;01m{\u001b[39;00me\u001b[38;5;132;01m}\u001b[39;00m\u001b[38;5;124m \u001b[39m\u001b[38;5;124m\"\u001b[39m\n\u001b[0;32m     76\u001b[0m     )\n\u001b[0;32m     77\u001b[0m \u001b[38;5;28;01mif\u001b[39;00m make:\n\u001b[1;32m---> 78\u001b[0m     \u001b[38;5;28;43mself\u001b[39;49m\u001b[38;5;241;43m.\u001b[39;49m\u001b[43mrebuild\u001b[49m\u001b[43m(\u001b[49m\u001b[43m)\u001b[49m\n",
      "File \u001b[1;32mc:\\_lib\\python\\qiskit-metal\\qiskit_metal\\qlibrary\\core\\base.py:724\u001b[0m, in \u001b[0;36mQComponent.rebuild\u001b[1;34m(self)\u001b[0m\n\u001b[0;32m    719\u001b[0m \u001b[38;5;28mself\u001b[39m\u001b[38;5;241m.\u001b[39mlogger\u001b[38;5;241m.\u001b[39merror(\n\u001b[0;32m    720\u001b[0m     \u001b[38;5;124mf\u001b[39m\u001b[38;5;124m'\u001b[39m\u001b[38;5;124mERROR in building component name=\u001b[39m\u001b[38;5;132;01m{\u001b[39;00m\u001b[38;5;28mself\u001b[39m\u001b[38;5;241m.\u001b[39mname\u001b[38;5;132;01m}\u001b[39;00m\u001b[38;5;124m, error=\u001b[39m\u001b[38;5;132;01m{\u001b[39;00merror\u001b[38;5;132;01m}\u001b[39;00m\u001b[38;5;124m'\u001b[39m)\n\u001b[0;32m    721\u001b[0m \u001b[38;5;28mself\u001b[39m\u001b[38;5;241m.\u001b[39mdesign\u001b[38;5;241m.\u001b[39mbuild_logs\u001b[38;5;241m.\u001b[39madd_error(\n\u001b[0;32m    722\u001b[0m     \u001b[38;5;124mf\u001b[39m\u001b[38;5;124m\"\u001b[39m\u001b[38;5;132;01m{\u001b[39;00m\u001b[38;5;28mstr\u001b[39m(datetime\u001b[38;5;241m.\u001b[39mnow())\u001b[38;5;132;01m}\u001b[39;00m\u001b[38;5;124m -- Component: \u001b[39m\u001b[38;5;132;01m{\u001b[39;00m\u001b[38;5;28mself\u001b[39m\u001b[38;5;241m.\u001b[39mname\u001b[38;5;132;01m}\u001b[39;00m\u001b[38;5;124m failed with error\u001b[39m\u001b[38;5;130;01m\\n\u001b[39;00m\u001b[38;5;124m: \u001b[39m\u001b[38;5;132;01m{\u001b[39;00merror\u001b[38;5;132;01m}\u001b[39;00m\u001b[38;5;124m\"\u001b[39m\n\u001b[0;32m    723\u001b[0m )\n\u001b[1;32m--> 724\u001b[0m \u001b[38;5;28;01mraise\u001b[39;00m error\n",
      "File \u001b[1;32mc:\\_lib\\python\\qiskit-metal\\qiskit_metal\\qlibrary\\core\\base.py:710\u001b[0m, in \u001b[0;36mQComponent.rebuild\u001b[1;34m(self)\u001b[0m\n\u001b[0;32m    707\u001b[0m     \u001b[38;5;66;03m# pylint: disable=protected-access\u001b[39;00m\n\u001b[0;32m    708\u001b[0m     \u001b[38;5;28mself\u001b[39m\u001b[38;5;241m.\u001b[39mdesign\u001b[38;5;241m.\u001b[39m_delete_all_pins_for_component(\u001b[38;5;28mself\u001b[39m\u001b[38;5;241m.\u001b[39mid)\n\u001b[1;32m--> 710\u001b[0m \u001b[38;5;28;43mself\u001b[39;49m\u001b[38;5;241;43m.\u001b[39;49m\u001b[43mmake\u001b[49m\u001b[43m(\u001b[49m\u001b[43m)\u001b[49m\n\u001b[0;32m    711\u001b[0m \u001b[38;5;28mself\u001b[39m\u001b[38;5;241m.\u001b[39m_made \u001b[38;5;241m=\u001b[39m \u001b[38;5;28;01mTrue\u001b[39;00m\n\u001b[0;32m    712\u001b[0m \u001b[38;5;28mself\u001b[39m\u001b[38;5;241m.\u001b[39mstatus \u001b[38;5;241m=\u001b[39m \u001b[38;5;124m'\u001b[39m\u001b[38;5;124mgood\u001b[39m\u001b[38;5;124m'\u001b[39m\n",
      "File \u001b[1;32mc:\\Users\\slab\\Desktop\\Wendy-qiskit-code\\Wendy-masklib-code\\../Customized_Components\\houcklab_qubit.py:299\u001b[0m, in \u001b[0;36mDiffTransmonRounded.make\u001b[1;34m(self)\u001b[0m\n\u001b[0;32m    290\u001b[0m taper_r \u001b[38;5;241m=\u001b[39m p\u001b[38;5;241m.\u001b[39mjj_taper_r\n\u001b[0;32m    291\u001b[0m jj_contact_width \u001b[38;5;241m=\u001b[39m (gap\u001b[38;5;241m-\u001b[39mjj_gap)\u001b[38;5;241m/\u001b[39m\u001b[38;5;241m2\u001b[39m\n\u001b[0;32m    292\u001b[0m taper \u001b[38;5;241m=\u001b[39m rec2(jj_contact_width, \n\u001b[0;32m    293\u001b[0m              jj_contact_size, \n\u001b[0;32m    294\u001b[0m              same_radius \u001b[38;5;241m=\u001b[39m \u001b[38;5;28;01mFalse\u001b[39;00m,  \n\u001b[0;32m    295\u001b[0m              r1 \u001b[38;5;241m=\u001b[39m taper_r,\n\u001b[0;32m    296\u001b[0m              r2 \u001b[38;5;241m=\u001b[39m \u001b[38;5;241m0\u001b[39m,\n\u001b[0;32m    297\u001b[0m              r3 \u001b[38;5;241m=\u001b[39m \u001b[38;5;241m0\u001b[39m,\n\u001b[0;32m    298\u001b[0m              r4 \u001b[38;5;241m=\u001b[39m taper_r,\n\u001b[1;32m--> 299\u001b[0m              resolution \u001b[38;5;241m=\u001b[39m \u001b[38;5;28mint\u001b[39m(\u001b[43mtaper_r\u001b[49m\u001b[38;5;241;43m/\u001b[39;49m\u001b[38;5;241;43m0.01\u001b[39;49m),\n\u001b[0;32m    300\u001b[0m              d1 \u001b[38;5;241m=\u001b[39m [\u001b[38;5;241m-\u001b[39m\u001b[38;5;241m1\u001b[39m,\u001b[38;5;241m1\u001b[39m],\n\u001b[0;32m    301\u001b[0m              d2 \u001b[38;5;241m=\u001b[39m [\u001b[38;5;241m1\u001b[39m,\u001b[38;5;241m-\u001b[39m\u001b[38;5;241m1\u001b[39m],\n\u001b[0;32m    302\u001b[0m              d3 \u001b[38;5;241m=\u001b[39m [\u001b[38;5;241m1\u001b[39m,\u001b[38;5;241m1\u001b[39m],\n\u001b[0;32m    303\u001b[0m              d4 \u001b[38;5;241m=\u001b[39m [\u001b[38;5;241m-\u001b[39m\u001b[38;5;241m1\u001b[39m,\u001b[38;5;241m-\u001b[39m\u001b[38;5;241m1\u001b[39m]\n\u001b[0;32m    304\u001b[0m              )\n\u001b[0;32m    305\u001b[0m taper_left \u001b[38;5;241m=\u001b[39m draw\u001b[38;5;241m.\u001b[39mtranslate(taper, junction_location\u001b[38;5;241m-\u001b[39mgap\u001b[38;5;241m/\u001b[39m\u001b[38;5;241m2\u001b[39m\u001b[38;5;241m+\u001b[39mjj_contact_width\u001b[38;5;241m/\u001b[39m\u001b[38;5;241m2\u001b[39m, \u001b[38;5;241m0\u001b[39m)\n\u001b[0;32m    306\u001b[0m taper_right \u001b[38;5;241m=\u001b[39m draw\u001b[38;5;241m.\u001b[39mrotate(taper, \u001b[38;5;241m180\u001b[39m, origin \u001b[38;5;241m=\u001b[39m (\u001b[38;5;241m0\u001b[39m,\u001b[38;5;241m0\u001b[39m))\n",
      "\u001b[1;31mTypeError\u001b[0m: unsupported operand type(s) for /: 'NoneType' and 'float'"
     ]
    }
   ],
   "source": [
    "q1 = DiffTransmonRounded(design,'Q1',options = default_options)\n",
    "gui.rebuild()"
   ]
  },
  {
   "cell_type": "code",
   "execution_count": null,
   "metadata": {},
   "outputs": [
    {
     "ename": "Exception",
     "evalue": "stop!",
     "output_type": "error",
     "traceback": [
      "\u001b[1;31m---------------------------------------------------------------------------\u001b[0m",
      "\u001b[1;31mException\u001b[0m                                 Traceback (most recent call last)",
      "Cell \u001b[1;32mIn [32], line 1\u001b[0m\n\u001b[1;32m----> 1\u001b[0m \u001b[38;5;28;01mraise\u001b[39;00m \u001b[38;5;167;01mException\u001b[39;00m(\u001b[38;5;124m'\u001b[39m\u001b[38;5;124mstop!\u001b[39m\u001b[38;5;124m'\u001b[39m)\n",
      "\u001b[1;31mException\u001b[0m: stop!"
     ]
    }
   ],
   "source": [
    "raise Exception('stop!')"
   ]
  },
  {
   "cell_type": "markdown",
   "metadata": {},
   "source": [
    "### Simulation"
   ]
  },
  {
   "cell_type": "code",
   "execution_count": null,
   "metadata": {},
   "outputs": [
    {
     "ename": "Exception",
     "evalue": "stop!",
     "output_type": "error",
     "traceback": [
      "\u001b[1;31m---------------------------------------------------------------------------\u001b[0m\n",
      "\u001b[1;31mException\u001b[0m                                 Traceback (most recent call last)\n",
      "Cell \u001b[1;32mIn [16], line 1\u001b[0m\n",
      "\u001b[1;32m----> 1\u001b[0m \u001b[38;5;28;01mraise\u001b[39;00m \u001b[38;5;167;01mException\u001b[39;00m(\u001b[38;5;124m'\u001b[39m\u001b[38;5;124mstop!\u001b[39m\u001b[38;5;124m'\u001b[39m)\n",
      "\n",
      "\u001b[1;31mException\u001b[0m: stop!"
     ]
    }
   ],
   "source": [
    "raise Exception('stop!')"
   ]
  },
  {
   "cell_type": "code",
   "execution_count": null,
   "metadata": {},
   "outputs": [
    {
     "name": "stdout",
     "output_type": "stream",
     "text": [
      "Optimal inductance L: 13.676453476080171 nH\n"
     ]
    }
   ],
   "source": [
    "qubit = TransmonQubit(4*u.GHz, ratio = 65)\n",
    "res = ReadoutResonator(6*u.GHz, short_on_one_end = False)\n",
    "# dr = DispersiveReadout(qubit,res,5*u.ms)"
   ]
  },
  {
   "cell_type": "code",
   "execution_count": 114,
   "metadata": {},
   "outputs": [
    {
     "name": "stderr",
     "output_type": "stream",
     "text": [
      "INFO 02:32PM [connect_design]: \tOpened active design\n",
      "\tDesign:    Design_q3d [Solution type: Q3D]\n",
      "INFO 02:32PM [get_setup]: \tOpened setup `Setup`  (<class 'pyEPR.ansys.AnsysQ3DSetup'>)\n",
      "INFO 02:32PM [analyze]: Analyzing setup Setup\n",
      "INFO 02:33PM [get_matrix]: Exporting matrix data to (C:\\Users\\slab\\AppData\\Local\\Temp\\tmp24wugwgi.txt, C, , Setup:LastAdaptive, \"Original\", \"ohm\", \"nH\", \"fF\", \"mSie\", 5000000000, Maxwell, 1, False\n",
      "INFO 02:33PM [get_matrix]: Exporting matrix data to (C:\\Users\\slab\\AppData\\Local\\Temp\\tmpxjpxgcmx.txt, C, , Setup:AdaptivePass, \"Original\", \"ohm\", \"nH\", \"fF\", \"mSie\", 5000000000, Maxwell, 1, False\n",
      "INFO 02:33PM [get_matrix]: Exporting matrix data to (C:\\Users\\slab\\AppData\\Local\\Temp\\tmptayj3p7_.txt, C, , Setup:AdaptivePass, \"Original\", \"ohm\", \"nH\", \"fF\", \"mSie\", 5000000000, Maxwell, 2, False\n",
      "INFO 02:33PM [get_matrix]: Exporting matrix data to (C:\\Users\\slab\\AppData\\Local\\Temp\\tmpvl2esit_.txt, C, , Setup:AdaptivePass, \"Original\", \"ohm\", \"nH\", \"fF\", \"mSie\", 5000000000, Maxwell, 3, False\n",
      "INFO 02:33PM [get_matrix]: Exporting matrix data to (C:\\Users\\slab\\AppData\\Local\\Temp\\tmpxzpq9ucg.txt, C, , Setup:AdaptivePass, \"Original\", \"ohm\", \"nH\", \"fF\", \"mSie\", 5000000000, Maxwell, 4, False\n",
      "INFO 02:33PM [get_matrix]: Exporting matrix data to (C:\\Users\\slab\\AppData\\Local\\Temp\\tmpthcgx7m_.txt, C, , Setup:AdaptivePass, \"Original\", \"ohm\", \"nH\", \"fF\", \"mSie\", 5000000000, Maxwell, 5, False\n",
      "INFO 02:33PM [get_matrix]: Exporting matrix data to (C:\\Users\\slab\\AppData\\Local\\Temp\\tmpioeyg7jp.txt, C, , Setup:AdaptivePass, \"Original\", \"ohm\", \"nH\", \"fF\", \"mSie\", 5000000000, Maxwell, 6, False\n",
      "INFO 02:33PM [get_matrix]: Exporting matrix data to (C:\\Users\\slab\\AppData\\Local\\Temp\\tmpa5hmd3bw.txt, C, , Setup:AdaptivePass, \"Original\", \"ohm\", \"nH\", \"fF\", \"mSie\", 5000000000, Maxwell, 7, False\n",
      "INFO 02:33PM [get_matrix]: Exporting matrix data to (C:\\Users\\slab\\AppData\\Local\\Temp\\tmpe9df5an1.txt, C, , Setup:AdaptivePass, \"Original\", \"ohm\", \"nH\", \"fF\", \"mSie\", 5000000000, Maxwell, 8, False\n",
      "INFO 02:33PM [get_matrix]: Exporting matrix data to (C:\\Users\\slab\\AppData\\Local\\Temp\\tmpj0lytypy.txt, C, , Setup:AdaptivePass, \"Original\", \"ohm\", \"nH\", \"fF\", \"mSie\", 5000000000, Maxwell, 9, False\n",
      "INFO 02:33PM [get_matrix]: Exporting matrix data to (C:\\Users\\slab\\AppData\\Local\\Temp\\tmp7twrnzc0.txt, C, , Setup:AdaptivePass, \"Original\", \"ohm\", \"nH\", \"fF\", \"mSie\", 5000000000, Maxwell, 10, False\n",
      "INFO 02:33PM [get_matrix]: Exporting matrix data to (C:\\Users\\slab\\AppData\\Local\\Temp\\tmpq51pw4u2.txt, C, , Setup:AdaptivePass, \"Original\", \"ohm\", \"nH\", \"fF\", \"mSie\", 5000000000, Maxwell, 11, False\n"
     ]
    },
    {
     "name": "stdout",
     "output_type": "stream",
     "text": [
      "800\n",
      "                    ground_main_plane  pad_left_Q1  pad_right_Q1  \\\n",
      "ground_main_plane           339.30107   -111.86535    -111.39278   \n",
      "pad_left_Q1                -111.86535    192.82602     -61.40374   \n",
      "pad_right_Q1               -111.39278    -61.40374     178.08177   \n",
      "resonator_pad_0_Q1          -16.40672    -15.21850      -0.52739   \n",
      "\n",
      "                    resonator_pad_0_Q1  \n",
      "ground_main_plane            -16.40672  \n",
      "pad_left_Q1                  -15.21850  \n",
      "pad_right_Q1                  -0.52739  \n",
      "resonator_pad_0_Q1            32.42705  \n"
     ]
    },
    {
     "name": "stderr",
     "output_type": "stream",
     "text": [
      "INFO 02:33PM [connect_design]: \tOpened active design\n",
      "\tDesign:    Design_q3d [Solution type: Q3D]\n"
     ]
    },
    {
     "name": "stdout",
     "output_type": "stream",
     "text": [
      "[1, 2] [3]\n",
      "Predicted Values\n",
      "\n",
      "Transmon Properties\n",
      "f_Q 3.979801 [GHz]\n",
      "EC 157.591422 [MHz]\n",
      "EJ 13.616300 [GHz]\n",
      "alpha -174.043673 [MHz]\n",
      "dispersion 0.023760 [KHz]\n",
      "Lq 11.995161 [nH]\n",
      "Cq 122.914229 [fF]\n",
      "T1 583.984014 [us]\n",
      "\n",
      "**Coupling Properties**\n",
      "\n",
      "tCqbus1 6.846054 [fF]\n",
      "gbus1_in_MHz 53.983196 [MHz]\n",
      "χ_bus1 -0.239203 [MHz]\n",
      "1/T1bus1 272.533047 [Hz]\n",
      "T1bus1 583.984014 [us]\n",
      "Bus-Bus Couplings\n"
     ]
    },
    {
     "name": "stderr",
     "output_type": "stream",
     "text": [
      "INFO 02:33PM [get_setup]: \tOpened setup `Setup`  (<class 'pyEPR.ansys.AnsysQ3DSetup'>)\n",
      "INFO 02:33PM [analyze]: Analyzing setup Setup\n",
      "INFO 02:33PM [get_matrix]: Exporting matrix data to (C:\\Users\\slab\\AppData\\Local\\Temp\\tmp8pra4iqq.txt, C, , Setup:LastAdaptive, \"Original\", \"ohm\", \"nH\", \"fF\", \"mSie\", 5000000000, Maxwell, 1, False\n",
      "INFO 02:33PM [get_matrix]: Exporting matrix data to (C:\\Users\\slab\\AppData\\Local\\Temp\\tmpnai3zyun.txt, C, , Setup:AdaptivePass, \"Original\", \"ohm\", \"nH\", \"fF\", \"mSie\", 5000000000, Maxwell, 1, False\n",
      "INFO 02:33PM [get_matrix]: Exporting matrix data to (C:\\Users\\slab\\AppData\\Local\\Temp\\tmplem32llw.txt, C, , Setup:AdaptivePass, \"Original\", \"ohm\", \"nH\", \"fF\", \"mSie\", 5000000000, Maxwell, 2, False\n",
      "INFO 02:33PM [get_matrix]: Exporting matrix data to (C:\\Users\\slab\\AppData\\Local\\Temp\\tmph97n5qun.txt, C, , Setup:AdaptivePass, \"Original\", \"ohm\", \"nH\", \"fF\", \"mSie\", 5000000000, Maxwell, 3, False\n",
      "INFO 02:33PM [get_matrix]: Exporting matrix data to (C:\\Users\\slab\\AppData\\Local\\Temp\\tmp4mkvijwb.txt, C, , Setup:AdaptivePass, \"Original\", \"ohm\", \"nH\", \"fF\", \"mSie\", 5000000000, Maxwell, 4, False\n",
      "INFO 02:33PM [get_matrix]: Exporting matrix data to (C:\\Users\\slab\\AppData\\Local\\Temp\\tmp7bawtfun.txt, C, , Setup:AdaptivePass, \"Original\", \"ohm\", \"nH\", \"fF\", \"mSie\", 5000000000, Maxwell, 5, False\n",
      "INFO 02:33PM [get_matrix]: Exporting matrix data to (C:\\Users\\slab\\AppData\\Local\\Temp\\tmpr77nxjzt.txt, C, , Setup:AdaptivePass, \"Original\", \"ohm\", \"nH\", \"fF\", \"mSie\", 5000000000, Maxwell, 6, False\n",
      "INFO 02:33PM [get_matrix]: Exporting matrix data to (C:\\Users\\slab\\AppData\\Local\\Temp\\tmphwfua_rw.txt, C, , Setup:AdaptivePass, \"Original\", \"ohm\", \"nH\", \"fF\", \"mSie\", 5000000000, Maxwell, 7, False\n",
      "INFO 02:33PM [get_matrix]: Exporting matrix data to (C:\\Users\\slab\\AppData\\Local\\Temp\\tmp5nkcwzop.txt, C, , Setup:AdaptivePass, \"Original\", \"ohm\", \"nH\", \"fF\", \"mSie\", 5000000000, Maxwell, 8, False\n",
      "INFO 02:33PM [get_matrix]: Exporting matrix data to (C:\\Users\\slab\\AppData\\Local\\Temp\\tmprmmraosz.txt, C, , Setup:AdaptivePass, \"Original\", \"ohm\", \"nH\", \"fF\", \"mSie\", 5000000000, Maxwell, 9, False\n",
      "INFO 02:33PM [get_matrix]: Exporting matrix data to (C:\\Users\\slab\\AppData\\Local\\Temp\\tmpc7q4_pkt.txt, C, , Setup:AdaptivePass, \"Original\", \"ohm\", \"nH\", \"fF\", \"mSie\", 5000000000, Maxwell, 10, False\n",
      "INFO 02:33PM [get_matrix]: Exporting matrix data to (C:\\Users\\slab\\AppData\\Local\\Temp\\tmpgczdbh2s.txt, C, , Setup:AdaptivePass, \"Original\", \"ohm\", \"nH\", \"fF\", \"mSie\", 5000000000, Maxwell, 11, False\n"
     ]
    },
    {
     "name": "stdout",
     "output_type": "stream",
     "text": [
      "810\n",
      "                    ground_main_plane  pad_left_Q1  pad_right_Q1  \\\n",
      "ground_main_plane           341.61889   -113.11251    -112.55820   \n",
      "pad_left_Q1                -113.11251    194.93446     -62.24549   \n",
      "pad_right_Q1               -112.55820    -62.24549     180.12437   \n",
      "resonator_pad_0_Q1          -16.37237    -15.20390      -0.52748   \n",
      "\n",
      "                    resonator_pad_0_Q1  \n",
      "ground_main_plane            -16.37237  \n",
      "pad_left_Q1                  -15.20390  \n",
      "pad_right_Q1                  -0.52748  \n",
      "resonator_pad_0_Q1            32.37775  \n"
     ]
    },
    {
     "name": "stderr",
     "output_type": "stream",
     "text": [
      "WARNING:py.warnings:FutureWarning: The frame.append method is deprecated and will be removed from pandas in a future version. Use pandas.concat instead.\n",
      " C:\\Users\\slab\\AppData\\Local\\Temp\\ipykernel_16980\\641277870.py: 86\n",
      "INFO 02:33PM [connect_design]: \tOpened active design\n",
      "\tDesign:    Design_q3d [Solution type: Q3D]\n"
     ]
    },
    {
     "name": "stdout",
     "output_type": "stream",
     "text": [
      "[1, 2] [3]\n",
      "Predicted Values\n",
      "\n",
      "Transmon Properties\n",
      "f_Q 3.957659 [GHz]\n",
      "EC 155.764604 [MHz]\n",
      "EJ 13.616300 [GHz]\n",
      "alpha -171.909584 [MHz]\n",
      "dispersion 0.020450 [KHz]\n",
      "Lq 11.995161 [nH]\n",
      "Cq 124.355775 [fF]\n",
      "T1 612.448109 [us]\n",
      "\n",
      "**Coupling Properties**\n",
      "\n",
      "tCqbus1 6.841942 [fF]\n",
      "gbus1_in_MHz 53.470820 [MHz]\n",
      "χ_bus1 -0.227463 [MHz]\n",
      "1/T1bus1 259.866821 [Hz]\n",
      "T1bus1 612.448109 [us]\n",
      "Bus-Bus Couplings\n"
     ]
    },
    {
     "name": "stderr",
     "output_type": "stream",
     "text": [
      "INFO 02:33PM [get_setup]: \tOpened setup `Setup`  (<class 'pyEPR.ansys.AnsysQ3DSetup'>)\n",
      "INFO 02:33PM [analyze]: Analyzing setup Setup\n",
      "INFO 02:34PM [get_matrix]: Exporting matrix data to (C:\\Users\\slab\\AppData\\Local\\Temp\\tmpcxv1d1xh.txt, C, , Setup:LastAdaptive, \"Original\", \"ohm\", \"nH\", \"fF\", \"mSie\", 5000000000, Maxwell, 1, False\n",
      "INFO 02:34PM [get_matrix]: Exporting matrix data to (C:\\Users\\slab\\AppData\\Local\\Temp\\tmptxm77059.txt, C, , Setup:AdaptivePass, \"Original\", \"ohm\", \"nH\", \"fF\", \"mSie\", 5000000000, Maxwell, 1, False\n",
      "INFO 02:34PM [get_matrix]: Exporting matrix data to (C:\\Users\\slab\\AppData\\Local\\Temp\\tmp1g3y66yl.txt, C, , Setup:AdaptivePass, \"Original\", \"ohm\", \"nH\", \"fF\", \"mSie\", 5000000000, Maxwell, 2, False\n",
      "INFO 02:34PM [get_matrix]: Exporting matrix data to (C:\\Users\\slab\\AppData\\Local\\Temp\\tmpn7i69dys.txt, C, , Setup:AdaptivePass, \"Original\", \"ohm\", \"nH\", \"fF\", \"mSie\", 5000000000, Maxwell, 3, False\n",
      "INFO 02:34PM [get_matrix]: Exporting matrix data to (C:\\Users\\slab\\AppData\\Local\\Temp\\tmp2tmwwgxk.txt, C, , Setup:AdaptivePass, \"Original\", \"ohm\", \"nH\", \"fF\", \"mSie\", 5000000000, Maxwell, 4, False\n",
      "INFO 02:34PM [get_matrix]: Exporting matrix data to (C:\\Users\\slab\\AppData\\Local\\Temp\\tmpx9rco9_r.txt, C, , Setup:AdaptivePass, \"Original\", \"ohm\", \"nH\", \"fF\", \"mSie\", 5000000000, Maxwell, 5, False\n",
      "INFO 02:34PM [get_matrix]: Exporting matrix data to (C:\\Users\\slab\\AppData\\Local\\Temp\\tmpnqhlnb35.txt, C, , Setup:AdaptivePass, \"Original\", \"ohm\", \"nH\", \"fF\", \"mSie\", 5000000000, Maxwell, 6, False\n",
      "INFO 02:34PM [get_matrix]: Exporting matrix data to (C:\\Users\\slab\\AppData\\Local\\Temp\\tmpspyfi19l.txt, C, , Setup:AdaptivePass, \"Original\", \"ohm\", \"nH\", \"fF\", \"mSie\", 5000000000, Maxwell, 7, False\n",
      "INFO 02:34PM [get_matrix]: Exporting matrix data to (C:\\Users\\slab\\AppData\\Local\\Temp\\tmptgkiz9vf.txt, C, , Setup:AdaptivePass, \"Original\", \"ohm\", \"nH\", \"fF\", \"mSie\", 5000000000, Maxwell, 8, False\n",
      "INFO 02:34PM [get_matrix]: Exporting matrix data to (C:\\Users\\slab\\AppData\\Local\\Temp\\tmp569waui5.txt, C, , Setup:AdaptivePass, \"Original\", \"ohm\", \"nH\", \"fF\", \"mSie\", 5000000000, Maxwell, 9, False\n",
      "INFO 02:34PM [get_matrix]: Exporting matrix data to (C:\\Users\\slab\\AppData\\Local\\Temp\\tmp8erackjs.txt, C, , Setup:AdaptivePass, \"Original\", \"ohm\", \"nH\", \"fF\", \"mSie\", 5000000000, Maxwell, 10, False\n",
      "INFO 02:34PM [get_matrix]: Exporting matrix data to (C:\\Users\\slab\\AppData\\Local\\Temp\\tmpxntzpiga.txt, C, , Setup:AdaptivePass, \"Original\", \"ohm\", \"nH\", \"fF\", \"mSie\", 5000000000, Maxwell, 11, False\n"
     ]
    },
    {
     "name": "stdout",
     "output_type": "stream",
     "text": [
      "820\n",
      "                    ground_main_plane  pad_left_Q1  pad_right_Q1  \\\n",
      "ground_main_plane           344.08657   -114.36365    -113.70412   \n",
      "pad_left_Q1                -114.36365    196.98520     -63.05214   \n",
      "pad_right_Q1               -113.70412    -63.05214     182.10339   \n",
      "resonator_pad_0_Q1          -16.29181    -15.16845      -0.52791   \n",
      "\n",
      "                    resonator_pad_0_Q1  \n",
      "ground_main_plane            -16.29181  \n",
      "pad_left_Q1                  -15.16845  \n",
      "pad_right_Q1                  -0.52791  \n",
      "resonator_pad_0_Q1            32.26066  \n"
     ]
    },
    {
     "name": "stderr",
     "output_type": "stream",
     "text": [
      "WARNING:py.warnings:FutureWarning: The frame.append method is deprecated and will be removed from pandas in a future version. Use pandas.concat instead.\n",
      " C:\\Users\\slab\\AppData\\Local\\Temp\\ipykernel_16980\\641277870.py: 86\n"
     ]
    },
    {
     "name": "stdout",
     "output_type": "stream",
     "text": [
      "[1, 2] [3]\n",
      "Predicted Values\n",
      "\n",
      "Transmon Properties\n",
      "f_Q 3.936550 [GHz]\n",
      "EC 154.033812 [MHz]\n",
      "EJ 13.616300 [GHz]\n",
      "alpha -169.889880 [MHz]\n",
      "dispersion 0.017696 [KHz]\n",
      "Lq 11.995161 [nH]\n",
      "Cq 125.753092 [fF]\n",
      "T1 642.758525 [us]\n",
      "\n",
      "**Coupling Properties**\n",
      "\n",
      "tCqbus1 6.827672 [fF]\n",
      "gbus1_in_MHz 52.904712 [MHz]\n",
      "χ_bus1 -0.216165 [MHz]\n",
      "1/T1bus1 247.612341 [Hz]\n",
      "T1bus1 642.758525 [us]\n",
      "Bus-Bus Couplings\n"
     ]
    },
    {
     "ename": "",
     "evalue": "",
     "output_type": "error",
     "traceback": [
      "\u001b[1;31mThe Kernel crashed while executing code in the current cell or a previous cell. \n",
      "\u001b[1;31mPlease review the code in the cell(s) to identify a possible cause of the failure. \n",
      "\u001b[1;31mClick <a href='https://aka.ms/vscodeJupyterKernelCrash'>here</a> for more info. \n",
      "\u001b[1;31mView Jupyter <a href='command:jupyter.viewOutput'>log</a> for further details."
     ]
    }
   ],
   "source": [
    "# default_options['coupling_d'] = '300um'\n",
    "# default_options['coupling_gap'] = '15um'\n",
    "# default_options['gap'] = '25um'\n",
    "# default_options['l'] = '00um'\n",
    "# default_options['cut_l'] = '900um'\n",
    "default_options = default_options_q1\n",
    "c1, renderer_q3d, q3d = dp.init_q3d_sim()\n",
    "# sweep_param = 'coupling_d'\n",
    "sweep_param = 'l'\n",
    "sweep_array = np.arange(800, 1100,10)\n",
    "date = get_current_time_string()\n",
    "dp.change_inductance([f'{(qubit.L.to(u.nH).value):.2f}nH'],eig_all=eig_all,c1 = c1)\n",
    "\n",
    "for i,l in enumerate(sweep_array):\n",
    "    default_options[sweep_param] = f'{l}um'\n",
    "    # default_options['cut_l'] = default_options['coupling_d']+'+500um+'+default_options['coupling_gap']+'+'+default_options['gap']\n",
    "    q1 = DiffTransmonRounded(design,'Q1',options = default_options)\n",
    "    gui.rebuild()\n",
    "    \n",
    "    c1.sim.run(components = ['Q1'],open_terminations = [('Q1','cpw_stub')])\n",
    "    print(l)\n",
    "    print(c1.sim.capacitance_matrix)\n",
    "    if i ==0:\n",
    "        dir = 'data/'+date+f'{sweep_param}_capmat'\n",
    "        os.mkdir(dir)\n",
    "    cap_mat = c1.sim.capacitance_matrix\n",
    "    cap_mat.to_csv(dir+f'/{l}.csv')\n",
    "    \n",
    "    \n",
    "    \n",
    "    # c1.setup.junctions = Dict({'Lj': qubit.L.to(u.nH).value, 'Cj': 2})\n",
    "    c1.setup.freq_readout = res.freq.to(u.GHz).value\n",
    "    c1.setup.freq_bus = []\n",
    "\n",
    "    c1.run_lom()\n",
    "    result = pd.DataFrame(c1.lumped_oscillator)\n",
    "    last_row = result\n",
    "    for keys in default_options.keys():\n",
    "        last_row[keys] = design.parse_value(default_options[keys])\n",
    "    last_row['Lj [nH]'] = qubit.L.to(u.nH).value\n",
    "    \n",
    "    g_alex,Ec_alex, Ej_alex, wr_alex = g_alexPage(c1 = c1, Lj = qubit.L)\n",
    "    # g_leon, Ec_leon, Ej_leon = g_leonDing(c1 = c1, Lj = qubit.L)\n",
    "    # g_leon3, Ec_leon3, Ej_leon3 = g_leonDing(c1 = c1,dim = 3, Lj = qubit.L)\n",
    "    \n",
    "    last_row['g_alex [MHz]'] = g_alex.to(u.MHz).value\n",
    "    last_row['Ec_alex [MHz]'] = Ec_alex.to(u.MHz).value\n",
    "    last_row['Ej_alex [GHz]'] = Ej_alex.to(u.GHz).value\n",
    "    last_row['wr_alex [GHz]'] = wr_alex.to(u.GHz).value\n",
    "    # last_row['g_leon [MHz]'] = g_leon.to(u.MHz).value\n",
    "    # last_row['Ec_leon [MHz]'] = Ec_leon.to(u.MHz).value\n",
    "    # last_row['Ej_leon [GHz]'] = Ej_leon.to(u.GHz).value\n",
    "    \n",
    "    # last_row['g_leon3 [MHz]'] = g_leon3.to(u.MHz).value\n",
    "    # last_row['Ec_leon3 [MHz]'] = Ec_leon3.to(u.MHz).value\n",
    "    # last_row['Ej_leon3 [GHz]'] = Ej_leon3.to(u.GHz).value\n",
    "    \n",
    "    dr.g = last_row['gbus'][0]*u.MHz\n",
    "    \n",
    "    dr.update_chi()\n",
    "    chi = dr.chi\n",
    "    last_row['Chi [MHz]'] = chi.to(u.MHz).value\n",
    "    qiskit_chi = np.abs(last_row['chi_in_MHz'][0])*u.MHz\n",
    "    purcell_t1 = dr.calc_purcellT1q(update_g=False)\n",
    "    target_kappa = 2*chi\n",
    "    \n",
    "    dr.chi = qiskit_chi\n",
    "    purcell_t1_qiskit = dr.calc_purcellT1q(update_g=False, update_chi = False)\n",
    "    target_kappa_qiskit = 2*chi\n",
    "    \n",
    "    \n",
    "    \n",
    "    last_row['Purcell T1 [us]'] = purcell_t1.to(u.us).value\n",
    "    last_row['target kappa [MHz]'] = target_kappa.to(u.MHz).value\n",
    "    \n",
    "    last_row['Purcell T1 qiskit [us]'] = purcell_t1_qiskit.to(u.us).value\n",
    "    last_row['target kappa qiskit [MHz]'] = target_kappa_qiskit.to(u.MHz).value\n",
    "    \n",
    "    \n",
    "    \n",
    "    \n",
    "    \n",
    "    if i ==0:\n",
    "        df = last_row\n",
    "    else:\n",
    "        df = df.append(last_row, ignore_index=True,)\n",
    "\n",
    "    df.to_csv('data/'+date+f'{sweep_param}_sweep.csv')\n",
    "    \n",
    "    if i == len(sweep_array)-1:\n",
    "        plt.cla()\n",
    "        plt.scatter(df[sweep_param].values, df['g_alex [MHz]'].values, label = 'g_alex', color = 'red', marker = 'x')\n",
    "        # plt.scatter(df[sweep_param].values, df['g_leon [MHz]'].values/2, label = 'g_leon', color = 'orange', marker = '.')\n",
    "        # plt.scatter(df[sweep_param].values, -df['g_leon3 [MHz]'].values, label = 'g_leon3', color = 'green', marker = 'o')\n",
    "        plt.scatter(df[sweep_param].values, df['gbus'].values, label = 'g_qiskit', color = 'blue', marker = '*')\n",
    "        plt.xlabel(sweep_param)\n",
    "        plt.ylabel('g [MHz]')\n",
    "        plt.legend()\n",
    "        plt.savefig('data/'+date+sweep_param+f'g_sweep1.png')\n",
    "        plt.show()\n",
    "        \n",
    "        plt.cla()\n",
    "        plt.scatter(df[sweep_param].values, df['Ec_alex [MHz]'].values, label = 'Ec_alex', color = 'red', marker = 'x')\n",
    "        # plt.scatter(df[sweep_param].values, df['Ec_leon [MHz]'].values, label = 'Ec_leon', color = 'orange', marker = '.')\n",
    "        plt.scatter(df[sweep_param].values, df['EC'].values, label = 'Ec_qiskit', color = 'blue', marker = 'o')\n",
    "        # plt.scatter(df[sweep_param].values, df['Ec_leon3 [MHz]'].values, label = 'Ec_leon3', color = 'green', marker = '*')\n",
    "        plt.xlabel(sweep_param)\n",
    "        plt.ylabel('Ec [MHz]')\n",
    "        plt.legend()\n",
    "        plt.savefig('data/'+date+sweep_param+f'Ec_sweep.png')\n",
    "        plt.show()\n",
    "        \n",
    "        plt.cla()\n",
    "        plt.scatter(df[sweep_param].values, df['Ej_alex [GHz]'].values, label = 'Ec_alex', color = 'red', marker = 'x')\n",
    "        # plt.scatter(df[sweep_param].values, df['Ej_leon [GHz]'].values, label = 'Ec_leon', color = 'orange', marker = '.')\n",
    "        plt.scatter(df[sweep_param].values, df['EJ'].values, label = 'Ec_qiskit', color = 'blue', marker = 'o')\n",
    "        plt.xlabel(sweep_param)\n",
    "        plt.ylabel('Ej [MHz]')\n",
    "        plt.legend()\n",
    "        plt.savefig('data/'+date+sweep_param+f'Ej_sweep.png')\n",
    "        plt.show()\n",
    "        \n",
    "        plt.cla()\n",
    "        plt.scatter(df[sweep_param].values, df['Chi [MHz]'].values, label = 'Chi', color = 'red', marker = 'x')\n",
    "        plt.scatter(df[sweep_param].values, -df['chi_in_MHz'].values, label = 'Chi_qiskit', color = 'blue', marker = 'o')\n",
    "        plt.xlabel(sweep_param)\n",
    "        plt.ylabel('Chi [MHz]')\n",
    "        plt.legend()\n",
    "        plt.savefig('data/'+date+sweep_param+f'Chi_sweep.png')\n",
    "        plt.show()\n",
    "        \n",
    "        plt.cla()\n",
    "        plt.scatter(df[sweep_param].values, df['Purcell T1 [us]'].values, label = 'Purcell T1', color = 'red', marker = 'x')\n",
    "        plt.scatter(df[sweep_param].values, df['Purcell T1 qiskit [us]'].values, label = 'Purcell T1 qiskit', color = 'blue', marker = 'o')\n",
    "        plt.xlabel(sweep_param)\n",
    "        plt.ylabel('Purcell T1 [us]')\n",
    "        plt.legend()\n",
    "        plt.savefig('data/'+date+sweep_param+f'Purcell_T1_sweep.png')\n",
    "        plt.show()\n",
    "        \n",
    "        plt.cla()\n",
    "        plt.scatter(df[sweep_param].values, df['fQ'].values, label = 'qiskit freQ', color = 'red', marker = 'x')\n",
    "        plt.scatter(df[sweep_param].values, df['wr_alex [GHz]'].values, label = 'alex freq', color = 'blue', marker = 'o')\n",
    "        plt.xlabel(sweep_param)\n",
    "        plt.ylabel('fQ [GHz]')\n",
    "        plt.legend()\n",
    "        plt.savefig('data/'+date+sweep_param+f'fQ_sweep.png')\n",
    "        plt.show()\n",
    "# q1 = DiffTransmonRounded(design,'Q1',options = default_options)\n",
    "# gui.rebuild()"
   ]
  },
  {
   "cell_type": "code",
   "execution_count": null,
   "metadata": {},
   "outputs": [
    {
     "data": {
      "text/html": [
       "<div>\n",
       "<style scoped>\n",
       "    .dataframe tbody tr th:only-of-type {\n",
       "        vertical-align: middle;\n",
       "    }\n",
       "\n",
       "    .dataframe tbody tr th {\n",
       "        vertical-align: top;\n",
       "    }\n",
       "\n",
       "    .dataframe thead th {\n",
       "        text-align: right;\n",
       "    }\n",
       "</style>\n",
       "<table border=\"1\" class=\"dataframe\">\n",
       "  <thead>\n",
       "    <tr style=\"text-align: right;\">\n",
       "      <th></th>\n",
       "      <th>ground_main_plane</th>\n",
       "      <th>pad_left_Q1</th>\n",
       "      <th>pad_right_Q1</th>\n",
       "      <th>resonator_pad_0_Q1</th>\n",
       "    </tr>\n",
       "  </thead>\n",
       "  <tbody>\n",
       "    <tr>\n",
       "      <th>ground_main_plane</th>\n",
       "      <td>267.40667</td>\n",
       "      <td>-72.36050</td>\n",
       "      <td>-74.91533</td>\n",
       "      <td>-18.22660</td>\n",
       "    </tr>\n",
       "    <tr>\n",
       "      <th>pad_left_Q1</th>\n",
       "      <td>-72.36050</td>\n",
       "      <td>119.83780</td>\n",
       "      <td>-31.18849</td>\n",
       "      <td>-13.19377</td>\n",
       "    </tr>\n",
       "    <tr>\n",
       "      <th>pad_right_Q1</th>\n",
       "      <td>-74.91533</td>\n",
       "      <td>-31.18849</td>\n",
       "      <td>110.10306</td>\n",
       "      <td>-0.55787</td>\n",
       "    </tr>\n",
       "    <tr>\n",
       "      <th>resonator_pad_0_Q1</th>\n",
       "      <td>-18.22660</td>\n",
       "      <td>-13.19377</td>\n",
       "      <td>-0.55787</td>\n",
       "      <td>32.30918</td>\n",
       "    </tr>\n",
       "  </tbody>\n",
       "</table>\n",
       "</div>"
      ],
      "text/plain": [
       "                    ground_main_plane  pad_left_Q1  pad_right_Q1  \\\n",
       "ground_main_plane           267.40667    -72.36050     -74.91533   \n",
       "pad_left_Q1                 -72.36050    119.83780     -31.18849   \n",
       "pad_right_Q1                -74.91533    -31.18849     110.10306   \n",
       "resonator_pad_0_Q1          -18.22660    -13.19377      -0.55787   \n",
       "\n",
       "                    resonator_pad_0_Q1  \n",
       "ground_main_plane            -18.22660  \n",
       "pad_left_Q1                  -13.19377  \n",
       "pad_right_Q1                  -0.55787  \n",
       "resonator_pad_0_Q1            32.30918  "
      ]
     },
     "execution_count": 101,
     "metadata": {},
     "output_type": "execute_result"
    }
   ],
   "source": [
    "c1.sim.capacitance_matrix"
   ]
  },
  {
   "cell_type": "code",
   "execution_count": null,
   "metadata": {},
   "outputs": [],
   "source": []
  },
  {
   "cell_type": "code",
   "execution_count": null,
   "metadata": {},
   "outputs": [],
   "source": [
    "df"
   ]
  },
  {
   "cell_type": "code",
   "execution_count": null,
   "metadata": {},
   "outputs": [],
   "source": [
    "c1.sim.close()"
   ]
  },
  {
   "cell_type": "code",
   "execution_count": null,
   "metadata": {},
   "outputs": [],
   "source": [
    "eig_all, renderer_hfss, hfss = dp.init_hfss_sim(nmode = 1,Ljs = [f'{qubit.L.to(u.nH).value:.2f}nH'])"
   ]
  },
  {
   "cell_type": "code",
   "execution_count": null,
   "metadata": {},
   "outputs": [
    {
     "data": {
      "text/plain": [
       "{'cut_l': '400um+500um+15um+25um',\n",
       " 'cut_h': '1200um',\n",
       " 'gap': '25um',\n",
       " 'w': '90um',\n",
       " 'l': '600um',\n",
       " 'r': '60um',\n",
       " 'cpw_l': '50um',\n",
       " 'coupling_gap': '15um',\n",
       " 'JJ_cutout_w': '70um',\n",
       " 'JJ_cutout_h': '70um',\n",
       " 'JJ_cutout_r': '150um',\n",
       " 'JJ_c_contact_l': '40um',\n",
       " 'JJ_c_contact_r': '2.5um',\n",
       " 'JJ_c_contact_w': '10um',\n",
       " 'coupling_d': '250um',\n",
       " 'coupling_pad_w': '90um',\n",
       " 'coupling_r': '40um',\n",
       " 'cpw_pin': '10um',\n",
       " 'chip': 'main',\n",
       " 'resolution': '10',\n",
       " 'junction': 'False',\n",
       " 'orientation': '0',\n",
       " 'JJ_c_contact_shortl': '10um',\n",
       " 'istunnel': 'False',\n",
       " 'coupling_gd': '650um'}"
      ]
     },
     "execution_count": 137,
     "metadata": {},
     "output_type": "execute_result"
    }
   ],
   "source": [
    "default_options"
   ]
  },
  {
   "cell_type": "markdown",
   "metadata": {},
   "source": [
    "## Qubit options"
   ]
  },
  {
   "cell_type": "code",
   "execution_count": 103,
   "metadata": {},
   "outputs": [
    {
     "name": "stdout",
     "output_type": "stream",
     "text": [
      "Optimal inductance L: 13.676453476080171 nH\n",
      "Optimal inductance L: 17.095566845100272 nH\n",
      "Optimal inductance L: 11.397044563400145 nH\n"
     ]
    }
   ],
   "source": [
    "w = '400um'\n",
    "qubit_q1 = TransmonQubit(4*u.GHz, ratio = 65)\n",
    "default_options_q1 = {'cut_l': '600um+'+w+'+'+w,\n",
    " 'cut_h': '1200um',\n",
    " 'gap': '70um',\n",
    " 'w': w,\n",
    " 'l': '650um',\n",
    " 'r': w+'/2',\n",
    " 'cpw_l': '100um',\n",
    " 'jj_gap': '3um',\n",
    " 'jj_contact_size': '3um',\n",
    " 'coupling_gap': '20um',\n",
    " 'JJ_cutout_w': '70um',\n",
    " 'JJ_cutout_h': '70um',\n",
    " 'JJ_cutout_r': '150um',\n",
    " 'JJ_c_contact_l': '40um',\n",
    " 'JJ_c_contact_r': '2.5um',\n",
    " 'JJ_c_contact_w': '10um',\n",
    " 'coupling_d': '80um',\n",
    " 'coupling_pad_w': '100um',\n",
    "'coupling_stub_w': '90um',\n",
    " 'coupling_r': '40um',\n",
    " 'cpw_pin': design.variables['trace_width'],\n",
    " 'chip': 'main',\n",
    " 'resolution': '10',\n",
    " 'junction': 'False',\n",
    " 'orientation': '0',\n",
    " 'JJ_c_contact_shortl': '10um',\n",
    " 'istunnel': 'False',\n",
    " 'layer' : '5',\n",
    " 'coupling_arm':'False', \n",
    "'jj_taper_r': '30um'}\n",
    "qubit_q2 = TransmonQubit(3.2*u.GHz, ratio = 65)\n",
    "default_options_q2 = {'cut_l': '600um+'+w+\"+\"+w,\n",
    " 'cut_h': '1300um',\n",
    " 'gap': '70um',\n",
    " 'jj_gap': '3um',\n",
    " 'jj_contact_size': '3um',\n",
    " 'w': w,\n",
    " 'l': '1080um',\n",
    " 'r': w+'/2',\n",
    " 'cpw_l': '150um',\n",
    " 'coupling_gap': '20um',\n",
    " 'JJ_cutout_w': '70um',\n",
    " 'JJ_cutout_h': '70um',\n",
    " 'JJ_cutout_r': '150um',\n",
    " 'JJ_c_contact_l': '40um',\n",
    " 'JJ_c_contact_r': '2.5um',\n",
    " 'JJ_c_contact_w': '10um',\n",
    " 'coupling_d': '70um',\n",
    " 'coupling_pad_w': '200um',\n",
    "'coupling_stub_w': '90um',\n",
    " 'coupling_r': '40um',\n",
    " 'cpw_pin': design.variables['trace_width'],\n",
    " 'chip': 'main',\n",
    " 'resolution': '10',\n",
    " 'junction': 'False',\n",
    " 'orientation': '0',\n",
    " 'JJ_c_contact_shortl': '10um',\n",
    " 'istunnel': 'False',\n",
    " 'coupling_gd': '650um',\n",
    " 'layer' : '5',\n",
    "'coupling_arm':'False', \n",
    "'jj_taper_r': '30um'}\n",
    "\n",
    "w3 = '250um'\n",
    "qubit_q3 = TransmonQubit(4.8*u.GHz, ratio = 65)\n",
    "default_options_q3 = {'cut_l': '450um+'+w3+'+'+w3,\n",
    " 'cut_h': '850um',\n",
    " 'gap': '70um',\n",
    " 'jj_gap': '3um',\n",
    " 'jj_contact_size': '3um',\n",
    " 'w': w3,\n",
    " 'l': '510um',\n",
    " 'r': w3+'/2',\n",
    " 'cpw_l': '100um',\n",
    " 'coupling_gap': '20um',\n",
    " 'JJ_cutout_w': '70um',\n",
    " 'JJ_cutout_h': '70um',\n",
    " 'JJ_cutout_r': '150um',\n",
    " 'JJ_c_contact_l': '40um',\n",
    " 'JJ_c_contact_r': '2.5um',\n",
    " 'JJ_c_contact_w': '10um',\n",
    " 'coupling_d': '70um',\n",
    " 'coupling_pad_w': '100um',\n",
    "'coupling_stub_w': '90um',\n",
    " 'coupling_r': '40um',\n",
    " 'cpw_pin': design.variables['trace_width'],\n",
    " 'chip': 'main',\n",
    " 'resolution': '10',\n",
    " 'junction': 'False',\n",
    " 'orientation': '0',\n",
    " 'JJ_c_contact_shortl': '10um',\n",
    " 'istunnel': 'False',\n",
    " 'layer' : '5', \n",
    " 'coupling_arm':'False', \n",
    "'jj_taper_r': '30um'}"
   ]
  },
  {
   "cell_type": "markdown",
   "metadata": {},
   "source": [
    "### HFSS"
   ]
  },
  {
   "cell_type": "code",
   "execution_count": null,
   "metadata": {},
   "outputs": [
    {
     "name": "stderr",
     "output_type": "stream",
     "text": [
      "11:41AM 51s WARNING [check_lengths]: For path table, component=trans3, key=trace has short segments that could cause issues with fillet. Values in (1-2)  are index(es) in shapely geometry.\n",
      "11:41AM 51s WARNING [check_lengths]: For path table, component=trans3, key=cut has short segments that could cause issues with fillet. Values in (1-2)  are index(es) in shapely geometry.\n"
     ]
    }
   ],
   "source": [
    "gui.rebuild()"
   ]
  },
  {
   "cell_type": "code",
   "execution_count": null,
   "metadata": {},
   "outputs": [],
   "source": [
    "design.delete_all_components()"
   ]
  },
  {
   "cell_type": "code",
   "execution_count": null,
   "metadata": {},
   "outputs": [],
   "source": [
    "default_options['junction'] = 'False'\n",
    "q1  = DiffTransmonRounded(design,'Q3',options = default_options_q3)\n",
    "gui.rebuild()"
   ]
  },
  {
   "cell_type": "code",
   "execution_count": null,
   "metadata": {},
   "outputs": [],
   "source": [
    "# eig_all.sim.close()"
   ]
  },
  {
   "cell_type": "code",
   "execution_count": null,
   "metadata": {},
   "outputs": [
    {
     "name": "stderr",
     "output_type": "stream",
     "text": [
      "INFO 09:38PM [connect_design]: \tOpened active design\n",
      "\tDesign:    Design_q3d [Solution type: Q3D]\n",
      "INFO 09:38PM [get_setup]: \tOpened setup `Setup`  (<class 'pyEPR.ansys.AnsysQ3DSetup'>)\n",
      "INFO 09:38PM [analyze]: Analyzing setup Setup\n",
      "INFO 09:39PM [get_matrix]: Exporting matrix data to (C:\\Users\\slab\\AppData\\Local\\Temp\\tmpw91qdgmq.txt, C, , Setup:LastAdaptive, \"Original\", \"ohm\", \"nH\", \"fF\", \"mSie\", 5000000000, Maxwell, 1, False\n",
      "INFO 09:39PM [get_matrix]: Exporting matrix data to (C:\\Users\\slab\\AppData\\Local\\Temp\\tmpobgtoie6.txt, C, , Setup:AdaptivePass, \"Original\", \"ohm\", \"nH\", \"fF\", \"mSie\", 5000000000, Maxwell, 1, False\n",
      "INFO 09:39PM [get_matrix]: Exporting matrix data to (C:\\Users\\slab\\AppData\\Local\\Temp\\tmpdw3bxqkp.txt, C, , Setup:AdaptivePass, \"Original\", \"ohm\", \"nH\", \"fF\", \"mSie\", 5000000000, Maxwell, 2, False\n",
      "INFO 09:39PM [get_matrix]: Exporting matrix data to (C:\\Users\\slab\\AppData\\Local\\Temp\\tmpfmswo5jl.txt, C, , Setup:AdaptivePass, \"Original\", \"ohm\", \"nH\", \"fF\", \"mSie\", 5000000000, Maxwell, 3, False\n",
      "INFO 09:39PM [get_matrix]: Exporting matrix data to (C:\\Users\\slab\\AppData\\Local\\Temp\\tmpde0_0lv3.txt, C, , Setup:AdaptivePass, \"Original\", \"ohm\", \"nH\", \"fF\", \"mSie\", 5000000000, Maxwell, 4, False\n",
      "INFO 09:39PM [get_matrix]: Exporting matrix data to (C:\\Users\\slab\\AppData\\Local\\Temp\\tmpfsqn28o4.txt, C, , Setup:AdaptivePass, \"Original\", \"ohm\", \"nH\", \"fF\", \"mSie\", 5000000000, Maxwell, 5, False\n",
      "INFO 09:39PM [get_matrix]: Exporting matrix data to (C:\\Users\\slab\\AppData\\Local\\Temp\\tmpr9rn4q30.txt, C, , Setup:AdaptivePass, \"Original\", \"ohm\", \"nH\", \"fF\", \"mSie\", 5000000000, Maxwell, 6, False\n",
      "INFO 09:39PM [get_matrix]: Exporting matrix data to (C:\\Users\\slab\\AppData\\Local\\Temp\\tmp60fjrdtr.txt, C, , Setup:AdaptivePass, \"Original\", \"ohm\", \"nH\", \"fF\", \"mSie\", 5000000000, Maxwell, 7, False\n",
      "INFO 09:39PM [get_matrix]: Exporting matrix data to (C:\\Users\\slab\\AppData\\Local\\Temp\\tmpiwsk0lwn.txt, C, , Setup:AdaptivePass, \"Original\", \"ohm\", \"nH\", \"fF\", \"mSie\", 5000000000, Maxwell, 8, False\n",
      "INFO 09:39PM [get_matrix]: Exporting matrix data to (C:\\Users\\slab\\AppData\\Local\\Temp\\tmphccfkt55.txt, C, , Setup:AdaptivePass, \"Original\", \"ohm\", \"nH\", \"fF\", \"mSie\", 5000000000, Maxwell, 9, False\n",
      "INFO 09:39PM [get_matrix]: Exporting matrix data to (C:\\Users\\slab\\AppData\\Local\\Temp\\tmpfie5g0ad.txt, C, , Setup:AdaptivePass, \"Original\", \"ohm\", \"nH\", \"fF\", \"mSie\", 5000000000, Maxwell, 10, False\n",
      "INFO 09:39PM [get_matrix]: Exporting matrix data to (C:\\Users\\slab\\AppData\\Local\\Temp\\tmppo4gk9n5.txt, C, , Setup:AdaptivePass, \"Original\", \"ohm\", \"nH\", \"fF\", \"mSie\", 5000000000, Maxwell, 11, False\n"
     ]
    },
    {
     "name": "stdout",
     "output_type": "stream",
     "text": [
      "                    ground_main_plane  pad_left_Q3  pad_right_Q3  \\\n",
      "ground_main_plane           294.25188    -79.43895     -90.61669   \n",
      "pad_left_Q3                 -79.43895    150.28974     -32.40946   \n",
      "pad_right_Q3                -90.61669    -32.40946     127.20546   \n",
      "resonator_pad_0_Q3          -31.08628    -35.46822      -0.89928   \n",
      "\n",
      "                    resonator_pad_0_Q3  \n",
      "ground_main_plane            -31.08628  \n",
      "pad_left_Q3                  -35.46822  \n",
      "pad_right_Q3                  -0.89928  \n",
      "resonator_pad_0_Q3            68.08961  \n"
     ]
    }
   ],
   "source": [
    "c1.sim.run(components = ['Q3'],open_terminations = [('Q3','cpw_stub')])\n",
    "print(c1.sim.capacitance_matrix)\n",
    "cap_mat = c1.sim.capacitance_matrix"
   ]
  },
  {
   "cell_type": "code",
   "execution_count": null,
   "metadata": {},
   "outputs": [],
   "source": [
    "qubit = qubit_q3\n",
    "res = ReadoutResonator(6.5*u.GHz, short_on_one_end = False)"
   ]
  },
  {
   "cell_type": "code",
   "execution_count": null,
   "metadata": {},
   "outputs": [
    {
     "name": "stdout",
     "output_type": "stream",
     "text": [
      "[1, 2] [3]\n",
      "Predicted Values\n",
      "\n",
      "Transmon Properties\n",
      "f_Q 4.789565 [GHz]\n",
      "EC 219.643512 [MHz]\n",
      "EJ 14.336664 [GHz]\n",
      "alpha -247.005772 [MHz]\n",
      "dispersion 0.712660 [KHz]\n",
      "Lq 11.392449 [nH]\n",
      "Cq 88.189394 [fF]\n",
      "T1 32.500221 [us]\n",
      "\n",
      "**Coupling Properties**\n",
      "\n",
      "tCqbus1 15.223946 [fF]\n",
      "gbus1_in_MHz 174.971733 [MHz]\n",
      "χ_bus1 -4.638606 [MHz]\n",
      "1/T1bus1 4897.041872 [Hz]\n",
      "T1bus1 32.500221 [us]\n",
      "Bus-Bus Couplings\n"
     ]
    }
   ],
   "source": [
    "c1.setup.junctions = Dict({'Lj': qubit.L.to(u.nH).value, 'Cj': transmon.find_junction_capacitance(qubit.L).to(u.fF).value})\n",
    "c1.setup.freq_readout = res.freq.to(u.GHz).value\n",
    "c1.setup.freq_bus = []\n",
    "\n",
    "c1.run_lom()\n",
    "result = pd.DataFrame(c1.lumped_oscillator)\n",
    "last_row = result"
   ]
  },
  {
   "cell_type": "code",
   "execution_count": null,
   "metadata": {},
   "outputs": [],
   "source": [
    "# c1.sim.close()"
   ]
  },
  {
   "cell_type": "code",
   "execution_count": null,
   "metadata": {},
   "outputs": [],
   "source": [
    "# eig_all.sim.setup.vars['Lj'] = f'{qubit.L.to(u.nH).value:.2f}nH'\n",
    "dp.change_inductance([f'{(qubit_q2.L.to(u.nH).value):.2f}nH'],eig_all=eig_all,c1 = c1)\n",
    "eig_all.sim.setup.vars['n_modes'] = 1\n",
    "eig_all.sim.setup.n_modes = 1"
   ]
  },
  {
   "cell_type": "code",
   "execution_count": null,
   "metadata": {},
   "outputs": [
    {
     "name": "stderr",
     "output_type": "stream",
     "text": [
      "INFO 01:50PM [connect_project]: Connecting to Ansys Desktop API...\n",
      "INFO 01:50PM [load_ansys_project]: \tOpened Ansys App\n",
      "INFO 01:50PM [load_ansys_project]: \tOpened Ansys Desktop v2021.2.0\n",
      "INFO 01:50PM [load_ansys_project]: \tOpened Ansys Project\n",
      "\tFolder:    C:/Users/slab/Documents/Ansoft/\n",
      "\tProject:   Project49\n",
      "INFO 01:50PM [connect_design]: No active design found (or error getting active design).\n",
      "INFO 01:50PM [connect]: \t Connected to project \"Project49\". No design detected\n",
      "INFO 01:50PM [connect_design]: \tOpened active design\n",
      "\tDesign:    Design_hfss [Solution type: Eigenmode]\n",
      "WARNING 01:50PM [connect_setup]: \tNo design setup detected.\n",
      "WARNING 01:50PM [connect_setup]: \tCreating eigenmode default setup.\n",
      "INFO 01:50PM [get_setup]: \tOpened setup `Setup`  (<class 'pyEPR.ansys.HfssEMSetup'>)\n",
      "INFO 01:50PM [get_setup]: \tOpened setup `Setup`  (<class 'pyEPR.ansys.HfssEMSetup'>)\n",
      "INFO 01:50PM [analyze]: Analyzing setup Setup\n",
      "01:51PM 33s INFO [get_f_convergence]: Saved convergences to c:\\Users\\slab\\Desktop\\Wendy-qiskit-code\\Wendy-masklib-code\\hfss_eig_f_convergence.csv\n"
     ]
    }
   ],
   "source": [
    "eig_all.sim.run( components = ['Q2'], open_terminations = [])"
   ]
  },
  {
   "cell_type": "code",
   "execution_count": null,
   "metadata": {},
   "outputs": [],
   "source": [
    "q = 'q2'"
   ]
  },
  {
   "cell_type": "code",
   "execution_count": null,
   "metadata": {},
   "outputs": [],
   "source": [
    "date = get_current_time_string()\n",
    "hfss_result = (eig_all.sim.convergence_f).dropna()\n",
    "hfss_result.to_csv('data/'+date+f'hfss_{q}.csv')"
   ]
  },
  {
   "cell_type": "code",
   "execution_count": null,
   "metadata": {},
   "outputs": [
    {
     "data": {
      "text/html": [
       "<div>\n",
       "<style scoped>\n",
       "    .dataframe tbody tr th:only-of-type {\n",
       "        vertical-align: middle;\n",
       "    }\n",
       "\n",
       "    .dataframe tbody tr th {\n",
       "        vertical-align: top;\n",
       "    }\n",
       "\n",
       "    .dataframe thead th {\n",
       "        text-align: right;\n",
       "    }\n",
       "</style>\n",
       "<table border=\"1\" class=\"dataframe\">\n",
       "  <thead>\n",
       "    <tr style=\"text-align: right;\">\n",
       "      <th></th>\n",
       "      <th>re(Mode(1)) [g]</th>\n",
       "    </tr>\n",
       "    <tr>\n",
       "      <th>Pass []</th>\n",
       "      <th></th>\n",
       "    </tr>\n",
       "  </thead>\n",
       "  <tbody>\n",
       "    <tr>\n",
       "      <th>1</th>\n",
       "      <td>2.696116</td>\n",
       "    </tr>\n",
       "    <tr>\n",
       "      <th>2</th>\n",
       "      <td>3.336773</td>\n",
       "    </tr>\n",
       "    <tr>\n",
       "      <th>3</th>\n",
       "      <td>3.566058</td>\n",
       "    </tr>\n",
       "    <tr>\n",
       "      <th>4</th>\n",
       "      <td>3.660661</td>\n",
       "    </tr>\n",
       "    <tr>\n",
       "      <th>5</th>\n",
       "      <td>3.719212</td>\n",
       "    </tr>\n",
       "    <tr>\n",
       "      <th>6</th>\n",
       "      <td>3.752386</td>\n",
       "    </tr>\n",
       "    <tr>\n",
       "      <th>7</th>\n",
       "      <td>3.781119</td>\n",
       "    </tr>\n",
       "    <tr>\n",
       "      <th>8</th>\n",
       "      <td>3.803967</td>\n",
       "    </tr>\n",
       "    <tr>\n",
       "      <th>9</th>\n",
       "      <td>3.819114</td>\n",
       "    </tr>\n",
       "    <tr>\n",
       "      <th>10</th>\n",
       "      <td>3.830026</td>\n",
       "    </tr>\n",
       "    <tr>\n",
       "      <th>11</th>\n",
       "      <td>3.838613</td>\n",
       "    </tr>\n",
       "    <tr>\n",
       "      <th>12</th>\n",
       "      <td>3.845647</td>\n",
       "    </tr>\n",
       "    <tr>\n",
       "      <th>13</th>\n",
       "      <td>3.850242</td>\n",
       "    </tr>\n",
       "    <tr>\n",
       "      <th>14</th>\n",
       "      <td>3.854014</td>\n",
       "    </tr>\n",
       "    <tr>\n",
       "      <th>15</th>\n",
       "      <td>NaN</td>\n",
       "    </tr>\n",
       "    <tr>\n",
       "      <th>16</th>\n",
       "      <td>NaN</td>\n",
       "    </tr>\n",
       "    <tr>\n",
       "      <th>17</th>\n",
       "      <td>NaN</td>\n",
       "    </tr>\n",
       "    <tr>\n",
       "      <th>18</th>\n",
       "      <td>NaN</td>\n",
       "    </tr>\n",
       "    <tr>\n",
       "      <th>19</th>\n",
       "      <td>NaN</td>\n",
       "    </tr>\n",
       "    <tr>\n",
       "      <th>20</th>\n",
       "      <td>NaN</td>\n",
       "    </tr>\n",
       "    <tr>\n",
       "      <th>21</th>\n",
       "      <td>NaN</td>\n",
       "    </tr>\n",
       "    <tr>\n",
       "      <th>22</th>\n",
       "      <td>NaN</td>\n",
       "    </tr>\n",
       "    <tr>\n",
       "      <th>23</th>\n",
       "      <td>NaN</td>\n",
       "    </tr>\n",
       "    <tr>\n",
       "      <th>24</th>\n",
       "      <td>NaN</td>\n",
       "    </tr>\n",
       "    <tr>\n",
       "      <th>25</th>\n",
       "      <td>NaN</td>\n",
       "    </tr>\n",
       "    <tr>\n",
       "      <th>26</th>\n",
       "      <td>NaN</td>\n",
       "    </tr>\n",
       "    <tr>\n",
       "      <th>27</th>\n",
       "      <td>NaN</td>\n",
       "    </tr>\n",
       "    <tr>\n",
       "      <th>28</th>\n",
       "      <td>NaN</td>\n",
       "    </tr>\n",
       "    <tr>\n",
       "      <th>29</th>\n",
       "      <td>NaN</td>\n",
       "    </tr>\n",
       "    <tr>\n",
       "      <th>30</th>\n",
       "      <td>NaN</td>\n",
       "    </tr>\n",
       "  </tbody>\n",
       "</table>\n",
       "</div>"
      ],
      "text/plain": [
       "         re(Mode(1)) [g]\n",
       "Pass []                 \n",
       "1               2.696116\n",
       "2               3.336773\n",
       "3               3.566058\n",
       "4               3.660661\n",
       "5               3.719212\n",
       "6               3.752386\n",
       "7               3.781119\n",
       "8               3.803967\n",
       "9               3.819114\n",
       "10              3.830026\n",
       "11              3.838613\n",
       "12              3.845647\n",
       "13              3.850242\n",
       "14              3.854014\n",
       "15                   NaN\n",
       "16                   NaN\n",
       "17                   NaN\n",
       "18                   NaN\n",
       "19                   NaN\n",
       "20                   NaN\n",
       "21                   NaN\n",
       "22                   NaN\n",
       "23                   NaN\n",
       "24                   NaN\n",
       "25                   NaN\n",
       "26                   NaN\n",
       "27                   NaN\n",
       "28                   NaN\n",
       "29                   NaN\n",
       "30                   NaN"
      ]
     },
     "execution_count": 43,
     "metadata": {},
     "output_type": "execute_result"
    }
   ],
   "source": [
    "eig_all.sim.convergence_f"
   ]
  },
  {
   "cell_type": "markdown",
   "metadata": {},
   "source": [
    "## Tee"
   ]
  },
  {
   "cell_type": "code",
   "execution_count": null,
   "metadata": {},
   "outputs": [],
   "source": [
    "\n"
   ]
  },
  {
   "cell_type": "code",
   "execution_count": null,
   "metadata": {},
   "outputs": [],
   "source": [
    "design.delete_all_components()"
   ]
  },
  {
   "cell_type": "code",
   "execution_count": null,
   "metadata": {},
   "outputs": [
    {
     "data": {
      "text/latex": [
       "$15 \\; \\mathrm{\\mu m}$"
      ],
      "text/plain": [
       "<Quantity 15. um>"
      ]
     },
     "execution_count": 123,
     "metadata": {},
     "output_type": "execute_result"
    }
   ],
   "source": [
    "res.pin"
   ]
  },
  {
   "cell_type": "code",
   "execution_count": null,
   "metadata": {},
   "outputs": [],
   "source": [
    "TQ_options = dict(coupling_length='200 um',\n",
    "                prime_width = design.variables['trace_width'],\n",
    "               prime_gap = design.variables['trace_gap'],\n",
    "               second_width = design.variables['trace_width'],\n",
    "               second_gap = design.variables['trace_gap'],\n",
    "               down_length = '150um',\n",
    "               coupling_space = '2um',\n",
    "               fillet = '30um',\n",
    "               open_termination=True,\n",
    "               hfss_wire_bonds = False,\n",
    "               q3d_wire_bonds = False,\n",
    "               layer = 5)\n",
    "tee1 = CoupledLineTee(design,'tee1',options = TQ_options)\n",
    "gui.rebuild()"
   ]
  },
  {
   "cell_type": "code",
   "execution_count": null,
   "metadata": {},
   "outputs": [
    {
     "name": "stderr",
     "output_type": "stream",
     "text": [
      "INFO 09:44PM [connect_project]: Connecting to Ansys Desktop API...\n",
      "INFO 09:44PM [load_ansys_project]: \tOpened Ansys App\n",
      "INFO 09:44PM [load_ansys_project]: \tOpened Ansys Desktop v2021.2.0\n",
      "INFO 09:44PM [load_ansys_project]: \tOpened Ansys Project\n",
      "\tFolder:    C:/Users/slab/Documents/Ansoft/\n",
      "\tProject:   Project48\n",
      "INFO 09:44PM [connect_design]: \tOpened active design\n",
      "\tDesign:    Design_hfss [Solution type: Eigenmode]\n",
      "INFO 09:44PM [get_setup]: \tOpened setup `Setup`  (<class 'pyEPR.ansys.HfssEMSetup'>)\n",
      "INFO 09:44PM [connect]: \tConnected to project \"Project48\" and design \"Design_hfss\" 😀 \n",
      "\n",
      "INFO 09:44PM [connect_design]: \tOpened active design\n",
      "\tDesign:    Design_q3d [Solution type: Q3D]\n",
      "INFO 09:44PM [get_setup]: \tOpened setup `Setup`  (<class 'pyEPR.ansys.AnsysQ3DSetup'>)\n",
      "INFO 09:44PM [analyze]: Analyzing setup Setup\n",
      "INFO 09:45PM [get_matrix]: Exporting matrix data to (C:\\Users\\slab\\AppData\\Local\\Temp\\tmpvipc8_cy.txt, C, , Setup:LastAdaptive, \"Original\", \"ohm\", \"nH\", \"fF\", \"mSie\", 5000000000, Maxwell, 1, False\n",
      "INFO 09:45PM [get_matrix]: Exporting matrix data to (C:\\Users\\slab\\AppData\\Local\\Temp\\tmpkhnj9c_s.txt, C, , Setup:AdaptivePass, \"Original\", \"ohm\", \"nH\", \"fF\", \"mSie\", 5000000000, Maxwell, 1, False\n",
      "INFO 09:45PM [get_matrix]: Exporting matrix data to (C:\\Users\\slab\\AppData\\Local\\Temp\\tmpzu5q1k0q.txt, C, , Setup:AdaptivePass, \"Original\", \"ohm\", \"nH\", \"fF\", \"mSie\", 5000000000, Maxwell, 2, False\n",
      "INFO 09:45PM [get_matrix]: Exporting matrix data to (C:\\Users\\slab\\AppData\\Local\\Temp\\tmpv2k1dvh1.txt, C, , Setup:AdaptivePass, \"Original\", \"ohm\", \"nH\", \"fF\", \"mSie\", 5000000000, Maxwell, 3, False\n",
      "INFO 09:45PM [get_matrix]: Exporting matrix data to (C:\\Users\\slab\\AppData\\Local\\Temp\\tmpa9tgojjx.txt, C, , Setup:AdaptivePass, \"Original\", \"ohm\", \"nH\", \"fF\", \"mSie\", 5000000000, Maxwell, 4, False\n",
      "INFO 09:45PM [get_matrix]: Exporting matrix data to (C:\\Users\\slab\\AppData\\Local\\Temp\\tmplvtop2mc.txt, C, , Setup:AdaptivePass, \"Original\", \"ohm\", \"nH\", \"fF\", \"mSie\", 5000000000, Maxwell, 5, False\n",
      "INFO 09:45PM [get_matrix]: Exporting matrix data to (C:\\Users\\slab\\AppData\\Local\\Temp\\tmpkwtbo115.txt, C, , Setup:AdaptivePass, \"Original\", \"ohm\", \"nH\", \"fF\", \"mSie\", 5000000000, Maxwell, 6, False\n",
      "INFO 09:45PM [get_matrix]: Exporting matrix data to (C:\\Users\\slab\\AppData\\Local\\Temp\\tmpv9cjtbbk.txt, C, , Setup:AdaptivePass, \"Original\", \"ohm\", \"nH\", \"fF\", \"mSie\", 5000000000, Maxwell, 7, False\n",
      "INFO 09:45PM [get_matrix]: Exporting matrix data to (C:\\Users\\slab\\AppData\\Local\\Temp\\tmpjaiu_qca.txt, C, , Setup:AdaptivePass, \"Original\", \"ohm\", \"nH\", \"fF\", \"mSie\", 5000000000, Maxwell, 8, False\n",
      "INFO 09:45PM [get_matrix]: Exporting matrix data to (C:\\Users\\slab\\AppData\\Local\\Temp\\tmptd0inuhj.txt, C, , Setup:AdaptivePass, \"Original\", \"ohm\", \"nH\", \"fF\", \"mSie\", 5000000000, Maxwell, 9, False\n",
      "INFO 09:45PM [get_matrix]: Exporting matrix data to (C:\\Users\\slab\\AppData\\Local\\Temp\\tmphr988zvh.txt, C, , Setup:AdaptivePass, \"Original\", \"ohm\", \"nH\", \"fF\", \"mSie\", 5000000000, Maxwell, 10, False\n",
      "INFO 09:45PM [get_matrix]: Exporting matrix data to (C:\\Users\\slab\\AppData\\Local\\Temp\\tmpv7v0n5dz.txt, C, , Setup:AdaptivePass, \"Original\", \"ohm\", \"nH\", \"fF\", \"mSie\", 5000000000, Maxwell, 11, False\n"
     ]
    }
   ],
   "source": [
    "# c1.sim.run(components = ['tee1'],open_terminations = [('tee1','prime_start'),('tee1','prime_end'),('tee1','second_end')])\n"
   ]
  },
  {
   "cell_type": "code",
   "execution_count": null,
   "metadata": {},
   "outputs": [],
   "source": [
    "# c1.sim.capacitance_matrix"
   ]
  },
  {
   "cell_type": "code",
   "execution_count": null,
   "metadata": {},
   "outputs": [
    {
     "name": "stdout",
     "output_type": "stream",
     "text": [
      "Optimal inductance L: 13.676453476080171 nH\n"
     ]
    }
   ],
   "source": [
    "# qubit1 = TransmonQubit(4*u.GHz, ratio = 65)\n",
    "# res1 = ReadoutResonator(6*u.GHz, short_on_one_end = False)\n",
    "# dr1 = DispersiveReadout(qubit1,res1,5*u.ms)"
   ]
  },
  {
   "cell_type": "code",
   "execution_count": 32,
   "metadata": {},
   "outputs": [],
   "source": [
    "design.delete_all_components()"
   ]
  },
  {
   "cell_type": "markdown",
   "metadata": {},
   "source": [
    "# Write design"
   ]
  },
  {
   "cell_type": "code",
   "execution_count": 33,
   "metadata": {},
   "outputs": [],
   "source": [
    "from qiskit_metal.qlibrary.tlines.mixed_path import RouteMixed\n",
    "from qiskit_metal.qlibrary.tlines.straight_path import RouteStraight\n",
    "\n",
    "from qiskit_metal.qlibrary.tlines.anchored_path import RouteAnchors\n",
    "from qiskit_metal.qlibrary.terminations.launchpad_wb import LaunchpadWirebond\n",
    "from qiskit_metal.qlibrary.tlines.meandered import RouteMeander\n",
    "from qiskit_metal.qlibrary.couplers.coupled_line_tee import CoupledLineTee\n",
    "from LaunchpadWirebondCustom import LaunchpadWirebondCustom\n",
    "\n",
    "\n",
    "from qiskit_metal.qlibrary.lumped.cap_n_interdigital import CapNInterdigital\n",
    "\n",
    "\n",
    "from qiskit_metal.qlibrary.terminations.launchpad_wb_coupled import LaunchpadWirebondCoupled"
   ]
  },
  {
   "cell_type": "markdown",
   "metadata": {},
   "source": [
    "## Wirebond Pads"
   ]
  },
  {
   "cell_type": "code",
   "execution_count": 34,
   "metadata": {},
   "outputs": [],
   "source": [
    "Wirebond_opt = Dict(trace_width=design.variables['trace_width'],\n",
    "                           trace_gap=design.variables['trace_gap'],\n",
    "                           lead_length='40.5um',\n",
    "                           pad_width='500um',\n",
    "                           pad_height='300um',\n",
    "                           pad_gap='100um',\n",
    "                           taper_height='100um',\n",
    "                           layer = str(qubit_layer),\n",
    "                           pin_space = '200um')\n",
    "\n",
    "Wirebond_opt['pos_x'] = '-2450um'\n",
    "Wirebond_opt['pos_y'] = '2100um'\n",
    "Wirebond_opt['orientation'] = '270'\n",
    "\n",
    "wb_left = LaunchpadWirebondCustom(design, 'wb_left', options = Wirebond_opt)\n",
    "Wirebond_opt['pos_x'] = '2450um'\n",
    "wb_right = LaunchpadWirebondCustom(design, 'wb_right', options = Wirebond_opt)\n",
    "gui.rebuild()"
   ]
  },
  {
   "cell_type": "code",
   "execution_count": 35,
   "metadata": {},
   "outputs": [],
   "source": [
    "\n",
    "# launch_options_l = dict(pos_x='-2650um', \n",
    "#                       pos_y='2812um', \n",
    "#                       orientation='270', \n",
    "#                       lead_length='70um', \n",
    "#                       trace_width = design.variables['trace_width'], \n",
    "#                       trace_gap = design.variables['cpw_gap'], \n",
    "#                       pos_x_end = '-2500um', \n",
    "#                       pos_y_end = '2500um',\n",
    "#                       layer = 5)\n",
    "# # Wirebond_opt['x_pos'] = '-2650um'\n",
    "# # Wirebond_opt['y_pos'] = '2812um'\n",
    "# # Wirebond_opt['orientation'] = '270'\n",
    "# lp_left = LaunchpadWirebondCoupled(design, 'LP1', options = launch_options_l)\n",
    "# gui.rebuild()"
   ]
  },
  {
   "cell_type": "code",
   "execution_count": 36,
   "metadata": {},
   "outputs": [],
   "source": [
    "# launch_options_r = dict(pos_x='2650um', \n",
    "#                       pos_y='2812um', \n",
    "#                       orientation='270', \n",
    "#                       lead_length='70um', \n",
    "#                       trace_width = design.variables['trace_width'], \n",
    "#                       trace_gap = design.variables['cpw_gap'], \n",
    "#                       pos_x_end = '2500um', \n",
    "#                       pos_y_end = '2500um',\n",
    "#                       layer = 5)\n",
    "# lp_right = LaunchpadWirebondCoupled(design, 'LP2', options = launch_options_r)\n",
    "# gui.rebuild()"
   ]
  },
  {
   "cell_type": "markdown",
   "metadata": {},
   "source": [
    "## Tee"
   ]
  },
  {
   "cell_type": "code",
   "execution_count": 37,
   "metadata": {},
   "outputs": [],
   "source": [
    "TQ_options = dict(coupling_length='400 um + 90um',\n",
    "                prime_width = design.variables['trace_width'],\n",
    "               prime_gap = design.variables['trace_gap'],\n",
    "               second_width = design.variables['trace_width'],\n",
    "               second_gap = design.variables['trace_gap'],\n",
    "               down_length = '150um',\n",
    "               coupling_space = '5um',\n",
    "               fillet = '90um',\n",
    "               open_termination=True,\n",
    "               hfss_wire_bonds = False,\n",
    "               q3d_wire_bonds = False,\n",
    "               pos_x = '-1800um',\n",
    "               pos_y = '1800um', \n",
    "               mirror = True,\n",
    "               layer = 5)\n",
    "tee1 = CoupledLineTee(design,'tee1',options = TQ_options)\n",
    "gui.rebuild()"
   ]
  },
  {
   "cell_type": "code",
   "execution_count": 38,
   "metadata": {},
   "outputs": [],
   "source": [
    "TQ_options = dict(coupling_length='400 um + 90um',\n",
    "                prime_width = design.variables['trace_width'],\n",
    "               prime_gap = design.variables['trace_gap'],\n",
    "               second_width = design.variables['trace_width'],\n",
    "               second_gap = design.variables['trace_gap'],\n",
    "               down_length = '150um',\n",
    "               coupling_space = '5um',\n",
    "               fillet = '90um',\n",
    "               open_termination=True,\n",
    "               hfss_wire_bonds = False,\n",
    "               q3d_wire_bonds = False,\n",
    "               pos_x = '1850um',\n",
    "               pos_y = '1800um', \n",
    "               mirror = False,\n",
    "               layer = 5)\n",
    "tee2 = CoupledLineTee(design,'tee2',options = TQ_options)\n",
    "gui.rebuild()"
   ]
  },
  {
   "cell_type": "code",
   "execution_count": 39,
   "metadata": {},
   "outputs": [],
   "source": [
    "TQ_options = dict(coupling_length='400 um + 90 um',\n",
    "                prime_width = design.variables['trace_width'],\n",
    "               prime_gap = design.variables['trace_gap'],\n",
    "               second_width = design.variables['trace_width'],\n",
    "               second_gap = design.variables['trace_gap'],\n",
    "               down_length = '150um',\n",
    "               coupling_space = '5um',\n",
    "               fillet = '90um',\n",
    "               open_termination=True,\n",
    "               hfss_wire_bonds = False,\n",
    "               q3d_wire_bonds = False,\n",
    "               pos_x = '1200um',\n",
    "               pos_y = '1800um', \n",
    "               mirror = False,\n",
    "               layer= 5)\n",
    "tee3 = CoupledLineTee(design,'tee3',options = TQ_options)\n",
    "gui.rebuild()"
   ]
  },
  {
   "cell_type": "markdown",
   "metadata": {},
   "source": [
    "## Qubit"
   ]
  },
  {
   "cell_type": "code",
   "execution_count": 43,
   "metadata": {},
   "outputs": [],
   "source": [
    "default_options_q3['pos_x'] = '-500um'\n",
    "default_options_q3['pos_y'] = '1000um'\n",
    "default_options_q3['orientation'] = '0'\n",
    "q1 = DiffTransmonRounded(design,'Q3',options = default_options_q3)\n",
    "gui.rebuild()"
   ]
  },
  {
   "cell_type": "code",
   "execution_count": 44,
   "metadata": {},
   "outputs": [],
   "source": [
    "default_options_q2['pos_x'] = '-1000um'\n",
    "default_options_q2['pos_y'] = '-2000um'\n",
    "default_options_q2['orientation'] = '180'\n",
    "q2 = DiffTransmonRounded(design,'Q2',options = default_options_q2)\n",
    "gui.rebuild()"
   ]
  },
  {
   "cell_type": "code",
   "execution_count": 45,
   "metadata": {},
   "outputs": [],
   "source": [
    "default_options_q1['pos_x'] = '-900um'\n",
    "default_options_q1['pos_y'] = '-700um'\n",
    "default_options_q1['orientation'] = '180'\n",
    "q3 = DiffTransmonRounded(design,'Q1',options = default_options_q1)\n",
    "gui.rebuild()"
   ]
  },
  {
   "cell_type": "markdown",
   "metadata": {},
   "source": [
    "## CPW"
   ]
  },
  {
   "cell_type": "code",
   "execution_count": 46,
   "metadata": {},
   "outputs": [],
   "source": [
    "res_1 = ReadoutResonator(6.5*u.GHz, short_on_one_end = False)"
   ]
  },
  {
   "cell_type": "code",
   "execution_count": 47,
   "metadata": {},
   "outputs": [],
   "source": [
    "route_options = dict(layer = 5,hfss_wire_bonds = False, \n",
    "                     fillet = '90um',\n",
    "                     total_length = f'{res_1.len}'+'-1000um',\n",
    "                     pin_inputs = dict(start_pin = dict(component = 'Q3', pin = 'cpw_stub'), \n",
    "                                                                end_pin = dict(component = 'tee1', pin = 'second_end')))\n",
    "route_options['pin_width'] = design.variables['trace_width']\n",
    "route_options['gap_width'] = design.variables['trace_gap']\n",
    "route_options['trace_width'] = design.variables['trace_width']\n",
    "route_options['trace_gap'] = design.variables['trace_gap']\n",
    "route_options['lead'] = dict(start_straight = '300 um', end_straight = '200 um')\n",
    "res1 = RouteMeander(design,name = 'res1',options = route_options)\n",
    "gui.rebuild()"
   ]
  },
  {
   "cell_type": "code",
   "execution_count": 48,
   "metadata": {},
   "outputs": [],
   "source": [
    "res_2 = ReadoutResonator(5.5*u.GHz, short_on_one_end = False)"
   ]
  },
  {
   "cell_type": "code",
   "execution_count": 49,
   "metadata": {},
   "outputs": [],
   "source": [
    "route_options = dict(layer = 5,hfss_wire_bonds = False, \n",
    "                     fillet = '80um',\n",
    "                     total_length = f'{res_2.len}'+ '-700um',\n",
    "                     pin_inputs = dict(start_pin = dict(component = 'Q2', pin = 'cpw_stub'), \n",
    "                                                                end_pin = dict(component = 'tee2', pin = 'second_end')))\n",
    "route_options['pin_width'] = design.variables['trace_width']\n",
    "route_options['gap_width'] = design.variables['trace_gap']\n",
    "route_options['trace_width'] = design.variables['trace_width']\n",
    "route_options['trace_gap'] = design.variables['trace_gap']\n",
    "route_options['lead'] = dict(start_straight = '2900 um', end_straight = '900 um')\n",
    "res2 = RouteMeander(design,name = 'res2',options = route_options)\n",
    "gui.rebuild()"
   ]
  },
  {
   "cell_type": "code",
   "execution_count": 50,
   "metadata": {},
   "outputs": [],
   "source": [
    "res_3 = ReadoutResonator(6*u.GHz, short_on_one_end = False)"
   ]
  },
  {
   "cell_type": "code",
   "execution_count": 51,
   "metadata": {},
   "outputs": [],
   "source": [
    "route_options = dict(layer = 5,hfss_wire_bonds = False, \n",
    "                     fillet = '90um',\n",
    "                     total_length = f'{res_3.len}'+ '-700um',\n",
    "                     pin_inputs = dict(start_pin = dict(component = 'Q1', pin = 'cpw_stub'), \n",
    "                                                                end_pin = dict(component = 'tee3', pin = 'second_end')))\n",
    "route_options['pin_width'] = design.variables['trace_width']\n",
    "route_options['gap_width'] = design.variables['trace_gap']\n",
    "route_options['trace_width'] = design.variables['trace_width']\n",
    "route_options['trace_gap'] = design.variables['trace_gap']\n",
    "route_options['lead'] = dict(start_straight = '2100 um', end_straight = '400 um')\n",
    "res3 = RouteMeander(design,name = 'res3',options = route_options)\n",
    "gui.rebuild()"
   ]
  },
  {
   "cell_type": "code",
   "execution_count": 52,
   "metadata": {},
   "outputs": [],
   "source": [
    "trans_ops = dp.trans_options"
   ]
  },
  {
   "cell_type": "code",
   "execution_count": 53,
   "metadata": {},
   "outputs": [],
   "source": [
    "trans_ops['pin_inputs'] = dict(start_pin = dict(component = 'wb_left', pin = 'tie'),end_pin = dict(component = 'tee1', pin = 'prime_start'))\n",
    "trans_ops['fillet'] = '100um'\n",
    "trans1 = RouteMixed(design,name = 'trans1',options = trans_ops)\n",
    "gui.rebuild()"
   ]
  },
  {
   "cell_type": "code",
   "execution_count": 54,
   "metadata": {},
   "outputs": [],
   "source": [
    "trans_ops['pin_inputs'] = dict(start_pin = dict(component = 'tee3', pin = 'prime_start'),end_pin = dict(component = 'tee1', pin = 'prime_end'))\n",
    "trans2 = RouteStraight(design,name = 'trans2',options = trans_ops)\n",
    "gui.rebuild()"
   ]
  },
  {
   "cell_type": "code",
   "execution_count": 55,
   "metadata": {},
   "outputs": [
    {
     "name": "stderr",
     "output_type": "stream",
     "text": [
      "11:40AM 26s WARNING [check_lengths]: For path table, component=trans3, key=trace has short segments that could cause issues with fillet. Values in (1-2)  are index(es) in shapely geometry.\n",
      "11:40AM 26s WARNING [check_lengths]: For path table, component=trans3, key=cut has short segments that could cause issues with fillet. Values in (1-2)  are index(es) in shapely geometry.\n",
      "11:40AM 26s WARNING [check_lengths]: For path table, component=trans3, key=trace has short segments that could cause issues with fillet. Values in (1-2)  are index(es) in shapely geometry.\n",
      "11:40AM 26s WARNING [check_lengths]: For path table, component=trans3, key=cut has short segments that could cause issues with fillet. Values in (1-2)  are index(es) in shapely geometry.\n"
     ]
    }
   ],
   "source": [
    "trans_ops['pin_inputs'] = dict(start_pin = dict(component = 'tee3', pin = 'prime_end'),end_pin = dict(component = 'tee2', pin = 'prime_start'))\n",
    "trans3 = RouteStraight(design,name = 'trans3',options = trans_ops)\n",
    "gui.rebuild()"
   ]
  },
  {
   "cell_type": "code",
   "execution_count": 56,
   "metadata": {},
   "outputs": [
    {
     "name": "stderr",
     "output_type": "stream",
     "text": [
      "11:40AM 27s WARNING [check_lengths]: For path table, component=trans3, key=trace has short segments that could cause issues with fillet. Values in (1-2)  are index(es) in shapely geometry.\n",
      "11:40AM 27s WARNING [check_lengths]: For path table, component=trans3, key=cut has short segments that could cause issues with fillet. Values in (1-2)  are index(es) in shapely geometry.\n"
     ]
    }
   ],
   "source": [
    "trans_ops['pin_inputs'] = dict(start_pin = dict(component = 'wb_right', pin = 'tie'),end_pin = dict(component = 'tee2', pin = 'prime_end'))\n",
    "trans_ops['fillet'] = '100um'\n",
    "trans4 = RouteMixed(design,name = 'trans4',options = trans_ops)\n",
    "gui.rebuild()"
   ]
  },
  {
   "cell_type": "markdown",
   "metadata": {},
   "source": [
    "# EPR simulations"
   ]
  },
  {
   "cell_type": "code",
   "execution_count": null,
   "metadata": {},
   "outputs": [],
   "source": [
    "import datetime as dt"
   ]
  },
  {
   "cell_type": "code",
   "execution_count": null,
   "metadata": {},
   "outputs": [],
   "source": [
    "def date():\n",
    "    return dt.datetime.now().strftime('%Y-%m-%d_%H-%M-%S')"
   ]
  },
  {
   "cell_type": "code",
   "execution_count": null,
   "metadata": {},
   "outputs": [],
   "source": [
    "qubit = qubit_q1\n",
    "eig_all, renderer_hfss, hfss = dp.init_hfss_sim(nmode = 2,Ljs = [f'{qubit.L.to(u.nH).value:.2f}nH'], conv_threshold=0.5)\n"
   ]
  },
  {
   "cell_type": "markdown",
   "metadata": {},
   "source": [
    "### Q1"
   ]
  },
  {
   "cell_type": "code",
   "execution_count": null,
   "metadata": {},
   "outputs": [
    {
     "name": "stderr",
     "output_type": "stream",
     "text": [
      "INFO 10:58AM [connect_design]: \tOpened active design\n",
      "\tDesign:    q1_hfss [Solution type: Eigenmode]\n",
      "INFO 10:58AM [get_setup]: \tOpened setup `Setup`  (<class 'pyEPR.ansys.HfssEMSetup'>)\n",
      "INFO 10:58AM [analyze]: Analyzing setup Setup\n",
      "11:00AM 03s INFO [get_f_convergence]: Saved convergences to c:\\Users\\slab\\Desktop\\Wendy-qiskit-code\\Wendy-masklib-code\\hfss_eig_f_convergence.csv\n"
     ]
    },
    {
     "name": "stdout",
     "output_type": "stream",
     "text": [
      "saddd\n",
      "Design \"q1_hfss\" info:\n",
      "\t# eigenmodes    2\n",
      "\t# variations    1\n",
      "Design \"q1_hfss\" info:\n",
      "\t# eigenmodes    2\n",
      "\t# variations    1\n"
     ]
    },
    {
     "name": "stderr",
     "output_type": "stream",
     "text": [
      "WARNING:py.warnings:FutureWarning: The default dtype for empty Series will be 'object' instead of 'float64' in a future version. Specify a dtype explicitly to silence this warning.\n",
      " c:\\Users\\slab\\anaconda3\\envs\\qmetal\\lib\\site-packages\\pyEPR\\project_info.py: 239\n"
     ]
    },
    {
     "name": "stdout",
     "output_type": "stream",
     "text": [
      "\n",
      "        energy_elec_all       = 1.47596519608343e-23\n",
      "        energy_elec_substrate = 1.34183301689044e-23\n",
      "        EPR of substrate = 90.9%\n",
      "\n",
      "        energy_mag    = 1.47537746804752e-23\n",
      "        energy_mag % of energy_elec_all  = 100.0%\n",
      "        \n",
      "\n",
      "Variation 0  [1/1]\n"
     ]
    },
    {
     "name": "stderr",
     "output_type": "stream",
     "text": [
      "WARNING:py.warnings:FutureWarning: The default dtype for empty Series will be 'object' instead of 'float64' in a future version. Specify a dtype explicitly to silence this warning.\n",
      " c:\\Users\\slab\\anaconda3\\envs\\qmetal\\lib\\site-packages\\pyEPR\\core_distributed_analysis.py: 1101\n",
      "WARNING:py.warnings:FutureWarning: The default dtype for empty Series will be 'object' instead of 'float64' in a future version. Specify a dtype explicitly to silence this warning.\n",
      " c:\\Users\\slab\\anaconda3\\envs\\qmetal\\lib\\site-packages\\pyEPR\\core_distributed_analysis.py: 1102\n",
      "WARNING:py.warnings:FutureWarning: The default dtype for empty Series will be 'object' instead of 'float64' in a future version. Specify a dtype explicitly to silence this warning.\n",
      " c:\\Users\\slab\\anaconda3\\envs\\qmetal\\lib\\site-packages\\pyEPR\\core_distributed_analysis.py: 1245\n"
     ]
    },
    {
     "name": "stdout",
     "output_type": "stream",
     "text": [
      "\n",
      "  \u001b[1mMode 0 at 4.18 GHz   [1/2]\u001b[0m\n",
      "    Calculating ℰ_magnetic,ℰ_electric\n"
     ]
    },
    {
     "name": "stderr",
     "output_type": "stream",
     "text": [
      "WARNING:py.warnings:FutureWarning: The default dtype for empty Series will be 'object' instead of 'float64' in a future version. Specify a dtype explicitly to silence this warning.\n",
      " c:\\Users\\slab\\anaconda3\\envs\\qmetal\\lib\\site-packages\\pyEPR\\core_distributed_analysis.py: 981\n"
     ]
    },
    {
     "name": "stdout",
     "output_type": "stream",
     "text": [
      "       (ℰ_E-ℰ_H)/ℰ_E       ℰ_E       ℰ_H\n",
      "               98.8%  4.081e-26 4.717e-28\n",
      "\n",
      "    Calculating junction energy participation ration (EPR)\n",
      "\tmethod=`line_voltage`. First estimates:\n",
      "\tjunction        EPR p_0j   sign s_0j    (p_capacitive)\n"
     ]
    },
    {
     "name": "stderr",
     "output_type": "stream",
     "text": [
      "WARNING:py.warnings:FutureWarning: The default dtype for empty Series will be 'object' instead of 'float64' in a future version. Specify a dtype explicitly to silence this warning.\n",
      " c:\\Users\\slab\\anaconda3\\envs\\qmetal\\lib\\site-packages\\pyEPR\\core_distributed_analysis.py: 933\n"
     ]
    },
    {
     "name": "stdout",
     "output_type": "stream",
     "text": [
      "\t\tEnergy fraction (Lj over Lj&Cj)= 98.15%\n",
      "\tjj1             0.939168  (+)        0.0177126\n",
      "\t\t(U_tot_cap-U_tot_ind)/mean=3.40%\n",
      "Calculating Qdielectric_main for mode 0 (0/1)\n"
     ]
    },
    {
     "name": "stderr",
     "output_type": "stream",
     "text": [
      "WARNING:py.warnings:FutureWarning: The series.append method is deprecated and will be removed from pandas in a future version. Use pandas.concat instead.\n",
      " c:\\Users\\slab\\anaconda3\\envs\\qmetal\\lib\\site-packages\\pyEPR\\core_distributed_analysis.py: 1307\n",
      "WARNING:py.warnings:FutureWarning: The default dtype for empty Series will be 'object' instead of 'float64' in a future version. Specify a dtype explicitly to silence this warning.\n",
      " c:\\Users\\slab\\anaconda3\\envs\\qmetal\\lib\\site-packages\\pyEPR\\core_distributed_analysis.py: 1245\n"
     ]
    },
    {
     "name": "stdout",
     "output_type": "stream",
     "text": [
      "p_dielectric_main_0 = 0.9037648330957118\n",
      "\n",
      "  \u001b[1mMode 1 at 5.93 GHz   [2/2]\u001b[0m\n",
      "    Calculating ℰ_magnetic,ℰ_electric\n"
     ]
    },
    {
     "name": "stderr",
     "output_type": "stream",
     "text": [
      "WARNING:py.warnings:FutureWarning: The default dtype for empty Series will be 'object' instead of 'float64' in a future version. Specify a dtype explicitly to silence this warning.\n",
      " c:\\Users\\slab\\anaconda3\\envs\\qmetal\\lib\\site-packages\\pyEPR\\core_distributed_analysis.py: 981\n"
     ]
    },
    {
     "name": "stdout",
     "output_type": "stream",
     "text": [
      "       (ℰ_E-ℰ_H)/ℰ_E       ℰ_E       ℰ_H\n",
      "                0.0%   7.38e-24 7.377e-24\n",
      "\n",
      "    Calculating junction energy participation ration (EPR)\n",
      "\tmethod=`line_voltage`. First estimates:\n",
      "\tjunction        EPR p_1j   sign s_1j    (p_capacitive)\n"
     ]
    },
    {
     "name": "stderr",
     "output_type": "stream",
     "text": [
      "WARNING:py.warnings:FutureWarning: The default dtype for empty Series will be 'object' instead of 'float64' in a future version. Specify a dtype explicitly to silence this warning.\n",
      " c:\\Users\\slab\\anaconda3\\envs\\qmetal\\lib\\site-packages\\pyEPR\\core_distributed_analysis.py: 933\n",
      "WARNING:py.warnings:FutureWarning: The series.append method is deprecated and will be removed from pandas in a future version. Use pandas.concat instead.\n",
      " c:\\Users\\slab\\anaconda3\\envs\\qmetal\\lib\\site-packages\\pyEPR\\core_distributed_analysis.py: 1307\n"
     ]
    },
    {
     "name": "stdout",
     "output_type": "stream",
     "text": [
      "\t\tEnergy fraction (Lj over Lj&Cj)= 96.34%\n",
      "\tjj1             0.00108709  (+)        4.12874e-05\n",
      "\t\t(U_tot_cap-U_tot_ind)/mean=-0.03%\n",
      "Calculating Qdielectric_main for mode 1 (1/1)\n",
      "p_dielectric_main_1 = 0.9091223969583304\n"
     ]
    },
    {
     "name": "stderr",
     "output_type": "stream",
     "text": [
      "WARNING:py.warnings:FutureWarning: The default dtype for empty Series will be 'object' instead of 'float64' in a future version. Specify a dtype explicitly to silence this warning.\n",
      " c:\\Users\\slab\\anaconda3\\envs\\qmetal\\lib\\site-packages\\pyEPR\\project_info.py: 239\n",
      "WARNING 11:00AM [__init__]: <p>Error: <class 'IndexError'></p>\n",
      "WARNING:py.warnings:FutureWarning: Support for multi-dimensional indexing (e.g. `obj[:, None]`) is deprecated and will be removed in a future version.  Convert to a numpy array before indexing instead.\n",
      " c:\\Users\\slab\\anaconda3\\envs\\qmetal\\lib\\site-packages\\pyEPR\\core_quantum_analysis.py: 712\n",
      "WARNING:py.warnings:FutureWarning: Support for multi-dimensional indexing (e.g. `obj[:, None]`) is deprecated and will be removed in a future version.  Convert to a numpy array before indexing instead.\n",
      " c:\\Users\\slab\\anaconda3\\envs\\qmetal\\lib\\site-packages\\pyEPR\\core_quantum_analysis.py: 717\n"
     ]
    },
    {
     "name": "stdout",
     "output_type": "stream",
     "text": [
      "\n",
      "ANALYSIS DONE. Data saved to:\n",
      "\n",
      "C:\\data-pyEPR\\Project51\\q1_hfss\\2024-12-11 11-00-03.npz\n",
      "\n",
      "\n",
      "\t Differences in variations:\n",
      "\n",
      "\n",
      "\n",
      " . . . . . . . . . . . . . . . . . . . . . . . . . . . . . . . . . . . . . . . . \n",
      "Variation 0\n",
      "\n",
      "Starting the diagonalization\n",
      "Finished the diagonalization\n",
      "Pm_norm=\n",
      "modes\n",
      "0    1.070904\n",
      "1    0.701911\n",
      "dtype: float64\n",
      "\n",
      "Pm_norm idx =\n",
      "     jj1\n",
      "0   True\n",
      "1  False\n",
      "*** P (participation matrix, not normlz.)\n",
      "        jj1\n",
      "0  0.922823\n",
      "1  0.001087\n",
      "\n",
      "*** S (sign-bit matrix)\n",
      "   s_jj1\n",
      "0     -1\n",
      "1      1\n",
      "*** P (participation matrix, normalized.)\n",
      "      0.99\n",
      "    0.0011\n",
      "\n",
      "*** Chi matrix O1 PT (MHz)\n",
      "    Diag is anharmonicity, off diag is full cross-Kerr.\n",
      "       178    0.557\n",
      "     0.557 0.000435\n",
      "\n",
      "*** Chi matrix ND (MHz) \n",
      "       196    0.458\n",
      "     0.458 0.000304\n",
      "\n",
      "*** Frequencies O1 PT (MHz)\n",
      "0    4000.479673\n",
      "1    5930.258285\n",
      "dtype: float64\n",
      "\n",
      "*** Frequencies ND (MHz)\n",
      "0    3992.048403\n",
      "1    5930.273069\n",
      "dtype: float64\n",
      "\n",
      "*** Q_coupling\n",
      "Empty DataFrame\n",
      "Columns: []\n",
      "Index: [0, 1]\n"
     ]
    },
    {
     "data": {
      "text/markdown": [
       "#### Mode frequencies (MHz)"
      ],
      "text/plain": [
       "<IPython.core.display.Markdown object>"
      ]
     },
     "metadata": {},
     "output_type": "display_data"
    },
    {
     "data": {
      "text/markdown": [
       "###### Numerical diagonalization"
      ],
      "text/plain": [
       "<IPython.core.display.Markdown object>"
      ]
     },
     "metadata": {},
     "output_type": "display_data"
    },
    {
     "data": {
      "text/html": [
       "<div>\n",
       "<style scoped>\n",
       "    .dataframe tbody tr th:only-of-type {\n",
       "        vertical-align: middle;\n",
       "    }\n",
       "\n",
       "    .dataframe tbody tr th {\n",
       "        vertical-align: top;\n",
       "    }\n",
       "\n",
       "    .dataframe thead th {\n",
       "        text-align: right;\n",
       "    }\n",
       "</style>\n",
       "<table border=\"1\" class=\"dataframe\">\n",
       "  <thead>\n",
       "    <tr style=\"text-align: right;\">\n",
       "      <th>Lj</th>\n",
       "      <th>13.68</th>\n",
       "    </tr>\n",
       "  </thead>\n",
       "  <tbody>\n",
       "    <tr>\n",
       "      <th>0</th>\n",
       "      <td>3992.05</td>\n",
       "    </tr>\n",
       "    <tr>\n",
       "      <th>1</th>\n",
       "      <td>5930.27</td>\n",
       "    </tr>\n",
       "  </tbody>\n",
       "</table>\n",
       "</div>"
      ],
      "text/plain": [
       "Lj    13.68\n",
       "0   3992.05\n",
       "1   5930.27"
      ]
     },
     "metadata": {},
     "output_type": "display_data"
    },
    {
     "data": {
      "text/markdown": [
       "#### Kerr Non-linear coefficient table (MHz)"
      ],
      "text/plain": [
       "<IPython.core.display.Markdown object>"
      ]
     },
     "metadata": {},
     "output_type": "display_data"
    },
    {
     "data": {
      "text/markdown": [
       "###### Numerical diagonalization"
      ],
      "text/plain": [
       "<IPython.core.display.Markdown object>"
      ]
     },
     "metadata": {},
     "output_type": "display_data"
    },
    {
     "data": {
      "text/html": [
       "<div>\n",
       "<style scoped>\n",
       "    .dataframe tbody tr th:only-of-type {\n",
       "        vertical-align: middle;\n",
       "    }\n",
       "\n",
       "    .dataframe tbody tr th {\n",
       "        vertical-align: top;\n",
       "    }\n",
       "\n",
       "    .dataframe thead th {\n",
       "        text-align: right;\n",
       "    }\n",
       "</style>\n",
       "<table border=\"1\" class=\"dataframe\">\n",
       "  <thead>\n",
       "    <tr style=\"text-align: right;\">\n",
       "      <th></th>\n",
       "      <th></th>\n",
       "      <th>0</th>\n",
       "      <th>1</th>\n",
       "    </tr>\n",
       "    <tr>\n",
       "      <th>Lj</th>\n",
       "      <th></th>\n",
       "      <th></th>\n",
       "      <th></th>\n",
       "    </tr>\n",
       "  </thead>\n",
       "  <tbody>\n",
       "    <tr>\n",
       "      <th rowspan=\"2\" valign=\"top\">13.68</th>\n",
       "      <th>0</th>\n",
       "      <td>196.36</td>\n",
       "      <td>4.58e-01</td>\n",
       "    </tr>\n",
       "    <tr>\n",
       "      <th>1</th>\n",
       "      <td>0.46</td>\n",
       "      <td>3.04e-04</td>\n",
       "    </tr>\n",
       "  </tbody>\n",
       "</table>\n",
       "</div>"
      ],
      "text/plain": [
       "              0         1\n",
       "Lj                       \n",
       "13.68 0  196.36  4.58e-01\n",
       "      1    0.46  3.04e-04"
      ]
     },
     "metadata": {},
     "output_type": "display_data"
    }
   ],
   "source": [
    "qubit = qubit_q1\n",
    "Lj = str(qubit.L.to(u.nH).value)+'nH'\n",
    "Cj = str(transmon.find_junction_capacitance(qubit.L).to(u.fF).value)+'fF'\n",
    "\n",
    "eig_all.sim.renderer.options['Lj'] = Lj\n",
    "eig_all.sim.renderer.options['Cj'] = Cj\n",
    "\n",
    "eig_all.sim.setup.vars = {}\n",
    "eig_all.sim.setup.vars['Lj'] = Lj\n",
    "eig_all.sim.setup.vars['Cj'] = Cj\n",
    "components = ['Q1','res3', 'tee3']\n",
    "eig_all.sim.run(name = 'q1', components = components)\n",
    "dat = {}\n",
    "convergence = pd.read_csv('hfss_eig_f_convergence.csv')\n",
    "conv = convergence.dropna()\n",
    "\n",
    "ind = list(conv.keys())[1:]\n",
    "for i in range(2):\n",
    "    freq = conv[ind[(i)]].values[-1]\n",
    "    dat['Freq'+str(i+1)+'(GHz)'] = freq\n",
    "    \n",
    "target_freq = 4\n",
    "dat['f_target'] = target_freq\n",
    "# default_options['frequency'] = target_freq\n",
    "dat['Lj'] = Lj\n",
    "dat['Cj'] = Cj\n",
    "\n",
    "try:\n",
    "    del eig_all.setup.junctions['jj']\n",
    "except:\n",
    "    print('saddd')\n",
    "eig_all.setup.junctions.jj1 = Dict(rect='JJ_rect_Lj_Q1_rect_jj', line='JJ_Lj_Q1_rect_jj_',\n",
    "                Lj_variable='Lj', Cj_variable='Cj')\n",
    "eig_all.run_epr()\n",
    "chi = eig_all.sim.renderer.epr_quantum_analysis.get_chis().to_numpy()\n",
    "freq_EPR= eig_all.sim.renderer.epr_quantum_analysis.get_frequencies().to_numpy()[:,0]\n",
    "\n",
    "# renderer_hfss.clean_active_design()\n",
    "for i in range(2):\n",
    "    freq = freq_EPR[i]\n",
    "    dat['Freq_EPR'+str(i+1)+'(MHz)'] = freq\n",
    "    for j in range(i+1):\n",
    "        dat['Chi'+str(i+1)+'_'+str(j+1)+'(MHz)'] = chi[i][j] \n",
    "\n",
    "\n",
    "\n",
    "data = pd.DataFrame(dat, index = [0])\n",
    "\n",
    "data.to_csv(date()+'q1.csv')"
   ]
  },
  {
   "cell_type": "markdown",
   "metadata": {},
   "source": [
    "### Q3"
   ]
  },
  {
   "cell_type": "code",
   "execution_count": null,
   "metadata": {},
   "outputs": [
    {
     "name": "stderr",
     "output_type": "stream",
     "text": [
      "INFO 10:52AM [connect_design]: \tOpened active design\n",
      "\tDesign:    q3_hfss [Solution type: Eigenmode]\n",
      "INFO 10:52AM [get_setup]: \tOpened setup `Setup`  (<class 'pyEPR.ansys.HfssEMSetup'>)\n",
      "INFO 10:52AM [analyze]: Analyzing setup Setup\n",
      "10:53AM 12s INFO [get_f_convergence]: Saved convergences to c:\\Users\\slab\\Desktop\\Wendy-qiskit-code\\Wendy-masklib-code\\hfss_eig_f_convergence.csv\n"
     ]
    },
    {
     "name": "stdout",
     "output_type": "stream",
     "text": [
      "saddd\n",
      "Design \"q3_hfss\" info:\n",
      "\t# eigenmodes    2\n",
      "\t# variations    1\n",
      "Design \"q3_hfss\" info:\n",
      "\t# eigenmodes    2\n",
      "\t# variations    1\n"
     ]
    },
    {
     "name": "stderr",
     "output_type": "stream",
     "text": [
      "WARNING:py.warnings:FutureWarning: The default dtype for empty Series will be 'object' instead of 'float64' in a future version. Specify a dtype explicitly to silence this warning.\n",
      " c:\\Users\\slab\\anaconda3\\envs\\qmetal\\lib\\site-packages\\pyEPR\\project_info.py: 239\n"
     ]
    },
    {
     "name": "stdout",
     "output_type": "stream",
     "text": [
      "\n",
      "        energy_elec_all       = 8.71498859550872e-24\n",
      "        energy_elec_substrate = 7.90651123094568e-24\n",
      "        EPR of substrate = 90.7%\n",
      "\n",
      "        energy_mag    = 8.70248353879333e-24\n",
      "        energy_mag % of energy_elec_all  = 99.9%\n",
      "        \n",
      "\n",
      "Variation 0  [1/1]\n"
     ]
    },
    {
     "name": "stderr",
     "output_type": "stream",
     "text": [
      "WARNING:py.warnings:FutureWarning: The default dtype for empty Series will be 'object' instead of 'float64' in a future version. Specify a dtype explicitly to silence this warning.\n",
      " c:\\Users\\slab\\anaconda3\\envs\\qmetal\\lib\\site-packages\\pyEPR\\core_distributed_analysis.py: 1101\n",
      "WARNING:py.warnings:FutureWarning: The default dtype for empty Series will be 'object' instead of 'float64' in a future version. Specify a dtype explicitly to silence this warning.\n",
      " c:\\Users\\slab\\anaconda3\\envs\\qmetal\\lib\\site-packages\\pyEPR\\core_distributed_analysis.py: 1102\n",
      "WARNING:py.warnings:FutureWarning: The default dtype for empty Series will be 'object' instead of 'float64' in a future version. Specify a dtype explicitly to silence this warning.\n",
      " c:\\Users\\slab\\anaconda3\\envs\\qmetal\\lib\\site-packages\\pyEPR\\core_distributed_analysis.py: 1245\n"
     ]
    },
    {
     "name": "stdout",
     "output_type": "stream",
     "text": [
      "\n",
      "  \u001b[1mMode 0 at 4.80 GHz   [1/2]\u001b[0m\n",
      "    Calculating ℰ_magnetic,"
     ]
    },
    {
     "name": "stderr",
     "output_type": "stream",
     "text": [
      "WARNING:py.warnings:FutureWarning: The default dtype for empty Series will be 'object' instead of 'float64' in a future version. Specify a dtype explicitly to silence this warning.\n",
      " c:\\Users\\slab\\anaconda3\\envs\\qmetal\\lib\\site-packages\\pyEPR\\core_distributed_analysis.py: 981\n"
     ]
    },
    {
     "name": "stdout",
     "output_type": "stream",
     "text": [
      "ℰ_electric\n",
      "       (ℰ_E-ℰ_H)/ℰ_E       ℰ_E       ℰ_H\n",
      "               99.0%  1.443e-26 1.415e-28\n",
      "\n",
      "    Calculating junction energy participation ration (EPR)\n",
      "\tmethod=`line_voltage`. First estimates:\n",
      "\tjunction        EPR p_0j   sign s_0j    (p_capacitive)\n"
     ]
    },
    {
     "name": "stderr",
     "output_type": "stream",
     "text": [
      "WARNING:py.warnings:FutureWarning: The default dtype for empty Series will be 'object' instead of 'float64' in a future version. Specify a dtype explicitly to silence this warning.\n",
      " c:\\Users\\slab\\anaconda3\\envs\\qmetal\\lib\\site-packages\\pyEPR\\core_distributed_analysis.py: 933\n",
      "WARNING:py.warnings:FutureWarning: The series.append method is deprecated and will be removed from pandas in a future version. Use pandas.concat instead.\n",
      " c:\\Users\\slab\\anaconda3\\envs\\qmetal\\lib\\site-packages\\pyEPR\\core_distributed_analysis.py: 1307\n",
      "WARNING:py.warnings:FutureWarning: The default dtype for empty Series will be 'object' instead of 'float64' in a future version. Specify a dtype explicitly to silence this warning.\n",
      " c:\\Users\\slab\\anaconda3\\envs\\qmetal\\lib\\site-packages\\pyEPR\\core_distributed_analysis.py: 1245\n"
     ]
    },
    {
     "name": "stdout",
     "output_type": "stream",
     "text": [
      "\t\tEnergy fraction (Lj over Lj&Cj)= 97.97%\n",
      "\tjj1              1.12944  (+)        0.0234412\n",
      "\t\t(U_tot_cap-U_tot_ind)/mean=-5.35%\n",
      "Calculating Qdielectric_main for mode 0 (0/1)\n",
      "p_dielectric_main_0 = 0.905601269538132\n",
      "\n",
      "  \u001b[1mMode 1 at 6.71 GHz   [2/2]\u001b[0m\n",
      "    Calculating ℰ_magnetic,"
     ]
    },
    {
     "name": "stderr",
     "output_type": "stream",
     "text": [
      "WARNING:py.warnings:FutureWarning: The default dtype for empty Series will be 'object' instead of 'float64' in a future version. Specify a dtype explicitly to silence this warning.\n",
      " c:\\Users\\slab\\anaconda3\\envs\\qmetal\\lib\\site-packages\\pyEPR\\core_distributed_analysis.py: 981\n"
     ]
    },
    {
     "name": "stdout",
     "output_type": "stream",
     "text": [
      "ℰ_electric\n",
      "       (ℰ_E-ℰ_H)/ℰ_E       ℰ_E       ℰ_H\n",
      "                0.1%  4.357e-24 4.351e-24\n",
      "\n",
      "    Calculating junction energy participation ration (EPR)\n",
      "\tmethod=`line_voltage`. First estimates:\n",
      "\tjunction        EPR p_1j   sign s_1j    (p_capacitive)\n"
     ]
    },
    {
     "name": "stderr",
     "output_type": "stream",
     "text": [
      "WARNING:py.warnings:FutureWarning: The default dtype for empty Series will be 'object' instead of 'float64' in a future version. Specify a dtype explicitly to silence this warning.\n",
      " c:\\Users\\slab\\anaconda3\\envs\\qmetal\\lib\\site-packages\\pyEPR\\core_distributed_analysis.py: 933\n",
      "WARNING:py.warnings:FutureWarning: The series.append method is deprecated and will be removed from pandas in a future version. Use pandas.concat instead.\n",
      " c:\\Users\\slab\\anaconda3\\envs\\qmetal\\lib\\site-packages\\pyEPR\\core_distributed_analysis.py: 1307\n"
     ]
    },
    {
     "name": "stdout",
     "output_type": "stream",
     "text": [
      "\t\tEnergy fraction (Lj over Lj&Cj)= 96.11%\n",
      "\tjj1             0.00192036  (+)        7.77357e-05\n",
      "\t\t(U_tot_cap-U_tot_ind)/mean=-0.02%\n",
      "Calculating Qdielectric_main for mode 1 (1/1)\n",
      "p_dielectric_main_1 = 0.9072313915614657\n"
     ]
    },
    {
     "name": "stderr",
     "output_type": "stream",
     "text": [
      "WARNING:py.warnings:FutureWarning: The default dtype for empty Series will be 'object' instead of 'float64' in a future version. Specify a dtype explicitly to silence this warning.\n",
      " c:\\Users\\slab\\anaconda3\\envs\\qmetal\\lib\\site-packages\\pyEPR\\project_info.py: 239\n",
      "WARNING 10:53AM [__init__]: <p>Error: <class 'IndexError'></p>\n",
      "WARNING:py.warnings:FutureWarning: Support for multi-dimensional indexing (e.g. `obj[:, None]`) is deprecated and will be removed in a future version.  Convert to a numpy array before indexing instead.\n",
      " c:\\Users\\slab\\anaconda3\\envs\\qmetal\\lib\\site-packages\\pyEPR\\core_quantum_analysis.py: 712\n",
      "WARNING:py.warnings:FutureWarning: Support for multi-dimensional indexing (e.g. `obj[:, None]`) is deprecated and will be removed in a future version.  Convert to a numpy array before indexing instead.\n",
      " c:\\Users\\slab\\anaconda3\\envs\\qmetal\\lib\\site-packages\\pyEPR\\core_quantum_analysis.py: 717\n"
     ]
    },
    {
     "name": "stdout",
     "output_type": "stream",
     "text": [
      "\n",
      "ANALYSIS DONE. Data saved to:\n",
      "\n",
      "C:\\data-pyEPR\\Project51\\q3_hfss\\2024-12-11 10-53-12.npz\n",
      "\n",
      "\n",
      "\t Differences in variations:\n",
      "\n",
      "\n",
      "\n",
      " . . . . . . . . . . . . . . . . . . . . . . . . . . . . . . . . . . . . . . . . \n",
      "Variation 0\n",
      "\n",
      "Starting the diagonalization\n",
      "Finished the diagonalization\n",
      "Pm_norm=\n",
      "modes\n",
      "0    0.897933\n",
      "1    0.893658\n",
      "dtype: float64\n",
      "\n",
      "Pm_norm idx =\n",
      "     jj1\n",
      "0   True\n",
      "1  False\n",
      "*** P (participation matrix, not normlz.)\n",
      "       jj1\n",
      "0  1.10357\n",
      "1  0.00192\n",
      "\n",
      "*** S (sign-bit matrix)\n",
      "   s_jj1\n",
      "0     -1\n",
      "1      1\n",
      "*** P (participation matrix, normalized.)\n",
      "      0.99\n",
      "    0.0019\n",
      "\n",
      "*** Chi matrix O1 PT (MHz)\n",
      "    Diag is anharmonicity, off diag is full cross-Kerr.\n",
      "       197     1.07\n",
      "      1.07  0.00145\n",
      "\n",
      "*** Chi matrix ND (MHz) \n",
      "       217    0.872\n",
      "     0.872 0.000999\n",
      "\n",
      "*** Frequencies O1 PT (MHz)\n",
      "0    4604.586640\n",
      "1    6706.464552\n",
      "dtype: float64\n",
      "\n",
      "*** Frequencies ND (MHz)\n",
      "0    4595.548996\n",
      "1    6706.494708\n",
      "dtype: float64\n",
      "\n",
      "*** Q_coupling\n",
      "Empty DataFrame\n",
      "Columns: []\n",
      "Index: [0, 1]\n"
     ]
    },
    {
     "data": {
      "text/markdown": [
       "#### Mode frequencies (MHz)"
      ],
      "text/plain": [
       "<IPython.core.display.Markdown object>"
      ]
     },
     "metadata": {},
     "output_type": "display_data"
    },
    {
     "data": {
      "text/markdown": [
       "###### Numerical diagonalization"
      ],
      "text/plain": [
       "<IPython.core.display.Markdown object>"
      ]
     },
     "metadata": {},
     "output_type": "display_data"
    },
    {
     "data": {
      "text/html": [
       "<div>\n",
       "<style scoped>\n",
       "    .dataframe tbody tr th:only-of-type {\n",
       "        vertical-align: middle;\n",
       "    }\n",
       "\n",
       "    .dataframe tbody tr th {\n",
       "        vertical-align: top;\n",
       "    }\n",
       "\n",
       "    .dataframe thead th {\n",
       "        text-align: right;\n",
       "    }\n",
       "</style>\n",
       "<table border=\"1\" class=\"dataframe\">\n",
       "  <thead>\n",
       "    <tr style=\"text-align: right;\">\n",
       "      <th>Lj</th>\n",
       "      <th>11.4</th>\n",
       "    </tr>\n",
       "  </thead>\n",
       "  <tbody>\n",
       "    <tr>\n",
       "      <th>0</th>\n",
       "      <td>4595.55</td>\n",
       "    </tr>\n",
       "    <tr>\n",
       "      <th>1</th>\n",
       "      <td>6706.49</td>\n",
       "    </tr>\n",
       "  </tbody>\n",
       "</table>\n",
       "</div>"
      ],
      "text/plain": [
       "Lj     11.4\n",
       "0   4595.55\n",
       "1   6706.49"
      ]
     },
     "metadata": {},
     "output_type": "display_data"
    },
    {
     "data": {
      "text/markdown": [
       "#### Kerr Non-linear coefficient table (MHz)"
      ],
      "text/plain": [
       "<IPython.core.display.Markdown object>"
      ]
     },
     "metadata": {},
     "output_type": "display_data"
    },
    {
     "data": {
      "text/markdown": [
       "###### Numerical diagonalization"
      ],
      "text/plain": [
       "<IPython.core.display.Markdown object>"
      ]
     },
     "metadata": {},
     "output_type": "display_data"
    },
    {
     "data": {
      "text/html": [
       "<div>\n",
       "<style scoped>\n",
       "    .dataframe tbody tr th:only-of-type {\n",
       "        vertical-align: middle;\n",
       "    }\n",
       "\n",
       "    .dataframe tbody tr th {\n",
       "        vertical-align: top;\n",
       "    }\n",
       "\n",
       "    .dataframe thead th {\n",
       "        text-align: right;\n",
       "    }\n",
       "</style>\n",
       "<table border=\"1\" class=\"dataframe\">\n",
       "  <thead>\n",
       "    <tr style=\"text-align: right;\">\n",
       "      <th></th>\n",
       "      <th></th>\n",
       "      <th>0</th>\n",
       "      <th>1</th>\n",
       "    </tr>\n",
       "    <tr>\n",
       "      <th>Lj</th>\n",
       "      <th></th>\n",
       "      <th></th>\n",
       "      <th></th>\n",
       "    </tr>\n",
       "  </thead>\n",
       "  <tbody>\n",
       "    <tr>\n",
       "      <th rowspan=\"2\" valign=\"top\">11.4</th>\n",
       "      <th>0</th>\n",
       "      <td>216.78</td>\n",
       "      <td>8.72e-01</td>\n",
       "    </tr>\n",
       "    <tr>\n",
       "      <th>1</th>\n",
       "      <td>0.87</td>\n",
       "      <td>9.99e-04</td>\n",
       "    </tr>\n",
       "  </tbody>\n",
       "</table>\n",
       "</div>"
      ],
      "text/plain": [
       "             0         1\n",
       "Lj                      \n",
       "11.4 0  216.78  8.72e-01\n",
       "     1    0.87  9.99e-04"
      ]
     },
     "metadata": {},
     "output_type": "display_data"
    }
   ],
   "source": [
    "qubit = qubit_q3\n",
    "components = ['Q3','res1', 'tee1']\n",
    "\n",
    "\n",
    "dat = {}\n",
    "convergence = pd.read_csv('hfss_eig_f_convergence.csv')\n",
    "conv = convergence.dropna()\n",
    "\n",
    "ind = list(conv.keys())[1:]\n",
    "for i in range(2):\n",
    "    freq = conv[ind[(i)]].values[-1]\n",
    "    dat['Freq'+str(i+1)+'(GHz)'] = freq\n",
    "    \n",
    "target_freq = 4.8\n",
    "dat['f_target'] = target_freq\n",
    "\n",
    "Lj = str(qubit.L.to(u.nH).value)+'nH'\n",
    "Cj = str(transmon.find_junction_capacitance(qubit.L).to(u.fF).value)+'fF'\n",
    "eig_all.sim.renderer.options['Lj'] = Lj\n",
    "eig_all.sim.renderer.options['Cj'] = Cj\n",
    "\n",
    "eig_all.sim.setup.vars = {}\n",
    "eig_all.sim.setup.vars['Lj'] = Lj\n",
    "eig_all.sim.setup.vars['Cj'] = Cj\n",
    "eig_all.sim.run(name = 'q3', components = components)\n",
    "\n",
    "dat['Lj'] = Lj\n",
    "dat['Cj'] = Cj\n",
    "\n",
    "try:\n",
    "    del eig_all.setup.junctions['jj']\n",
    "except:\n",
    "    print('saddd')\n",
    "eig_all.setup.junctions.jj1 = Dict(rect='JJ_rect_Lj_Q3_rect_jj', line='JJ_Lj_Q3_rect_jj_',\n",
    "                Lj_variable='Lj', Cj_variable='Cj')\n",
    "eig_all.run_epr()\n",
    "chi = eig_all.sim.renderer.epr_quantum_analysis.get_chis().to_numpy()\n",
    "freq_EPR= eig_all.sim.renderer.epr_quantum_analysis.get_frequencies().to_numpy()[:,0]\n",
    "\n",
    "# renderer_hfss.clean_active_design()\n",
    "for i in range(2):\n",
    "    freq = freq_EPR[i]\n",
    "    dat['Freq_EPR'+str(i+1)+'(MHz)'] = freq\n",
    "    for j in range(i+1):\n",
    "        dat['Chi'+str(i+1)+'_'+str(j+1)+'(MHz)'] = chi[i][j] \n",
    "\n",
    "\n",
    "\n",
    "data = pd.DataFrame(dat, index = [0])\n",
    "\n",
    "data.to_csv(date()+'q3.csv')"
   ]
  },
  {
   "cell_type": "markdown",
   "metadata": {},
   "source": [
    "### Q2"
   ]
  },
  {
   "cell_type": "code",
   "execution_count": null,
   "metadata": {},
   "outputs": [
    {
     "data": {
      "text/plain": [
       "{'Lj': '17.095566845100272nH',\n",
       " 'Cj': '3.224534868841612fF',\n",
       " '_Rj': 0,\n",
       " 'max_mesh_length_jj': '7um',\n",
       " 'max_mesh_length_port': '7um',\n",
       " 'project_path': None,\n",
       " 'project_name': None,\n",
       " 'design_name': None,\n",
       " 'x_buffer_width_mm': 0.5,\n",
       " 'y_buffer_width_mm': 0.5,\n",
       " 'wb_threshold': '72um',\n",
       " 'wb_offset': '0um',\n",
       " 'wb_size': 1.6,\n",
       " 'wb_height': 0.7,\n",
       " 'plot_ansys_fields_options': {'name': 'NAME:Mag_E1',\n",
       "  'UserSpecifyName': '0',\n",
       "  'UserSpecifyFolder': '0',\n",
       "  'QuantityName': 'Mag_E',\n",
       "  'PlotFolder': 'E Field',\n",
       "  'StreamlinePlot': 'False',\n",
       "  'AdjacentSidePlot': 'False',\n",
       "  'FullModelPlot': 'False',\n",
       "  'IntrinsicVar': \"Phase='0deg'\",\n",
       "  'PlotGeomInfo_0': '1',\n",
       "  'PlotGeomInfo_1': 'Surface',\n",
       "  'PlotGeomInfo_2': 'FacesList',\n",
       "  'PlotGeomInfo_3': '1'}}"
      ]
     },
     "execution_count": 318,
     "metadata": {},
     "output_type": "execute_result"
    }
   ],
   "source": [
    "eig_all.sim.renderer.options"
   ]
  },
  {
   "cell_type": "code",
   "execution_count": null,
   "metadata": {},
   "outputs": [
    {
     "data": {
      "text/latex": [
       "$17.095567 \\; \\mathrm{nH}$"
      ],
      "text/plain": [
       "<Quantity 17.09556685 nH>"
      ]
     },
     "execution_count": 315,
     "metadata": {},
     "output_type": "execute_result"
    }
   ],
   "source": [
    "qubit_q2.L"
   ]
  },
  {
   "cell_type": "code",
   "execution_count": null,
   "metadata": {},
   "outputs": [
    {
     "name": "stderr",
     "output_type": "stream",
     "text": [
      "INFO 10:50AM [connect_design]: \tOpened active design\n",
      "\tDesign:    q2_hfss [Solution type: Eigenmode]\n",
      "INFO 10:50AM [get_setup]: \tOpened setup `Setup`  (<class 'pyEPR.ansys.HfssEMSetup'>)\n",
      "INFO 10:50AM [analyze]: Analyzing setup Setup\n",
      "10:51AM 28s INFO [get_f_convergence]: Saved convergences to c:\\Users\\slab\\Desktop\\Wendy-qiskit-code\\Wendy-masklib-code\\hfss_eig_f_convergence.csv\n"
     ]
    },
    {
     "name": "stdout",
     "output_type": "stream",
     "text": [
      "saddd\n",
      "Design \"q2_hfss\" info:\n",
      "\t# eigenmodes    2\n",
      "\t# variations    1\n",
      "Design \"q2_hfss\" info:\n",
      "\t# eigenmodes    2\n",
      "\t# variations    1\n"
     ]
    },
    {
     "name": "stderr",
     "output_type": "stream",
     "text": [
      "WARNING:py.warnings:FutureWarning: The default dtype for empty Series will be 'object' instead of 'float64' in a future version. Specify a dtype explicitly to silence this warning.\n",
      " c:\\Users\\slab\\anaconda3\\envs\\qmetal\\lib\\site-packages\\pyEPR\\project_info.py: 239\n"
     ]
    },
    {
     "name": "stdout",
     "output_type": "stream",
     "text": [
      "\n",
      "        energy_elec_all       = 8.75623307126701e-24\n",
      "        energy_elec_substrate = 7.95192677412188e-24\n",
      "        EPR of substrate = 90.8%\n",
      "\n",
      "        energy_mag    = 8.74693749870211e-24\n",
      "        energy_mag % of energy_elec_all  = 99.9%\n",
      "        \n",
      "\n",
      "Variation 0  [1/1]\n"
     ]
    },
    {
     "name": "stderr",
     "output_type": "stream",
     "text": [
      "WARNING:py.warnings:FutureWarning: The default dtype for empty Series will be 'object' instead of 'float64' in a future version. Specify a dtype explicitly to silence this warning.\n",
      " c:\\Users\\slab\\anaconda3\\envs\\qmetal\\lib\\site-packages\\pyEPR\\core_distributed_analysis.py: 1101\n",
      "WARNING:py.warnings:FutureWarning: The default dtype for empty Series will be 'object' instead of 'float64' in a future version. Specify a dtype explicitly to silence this warning.\n",
      " c:\\Users\\slab\\anaconda3\\envs\\qmetal\\lib\\site-packages\\pyEPR\\core_distributed_analysis.py: 1102\n",
      "WARNING:py.warnings:FutureWarning: The default dtype for empty Series will be 'object' instead of 'float64' in a future version. Specify a dtype explicitly to silence this warning.\n",
      " c:\\Users\\slab\\anaconda3\\envs\\qmetal\\lib\\site-packages\\pyEPR\\core_distributed_analysis.py: 1245\n"
     ]
    },
    {
     "name": "stdout",
     "output_type": "stream",
     "text": [
      "\n",
      "  \u001b[1mMode 0 at 3.32 GHz   [1/2]\u001b[0m\n",
      "    Calculating ℰ_magnetic,ℰ_electric\n"
     ]
    },
    {
     "name": "stderr",
     "output_type": "stream",
     "text": [
      "WARNING:py.warnings:FutureWarning: The default dtype for empty Series will be 'object' instead of 'float64' in a future version. Specify a dtype explicitly to silence this warning.\n",
      " c:\\Users\\slab\\anaconda3\\envs\\qmetal\\lib\\site-packages\\pyEPR\\core_distributed_analysis.py: 981\n"
     ]
    },
    {
     "name": "stdout",
     "output_type": "stream",
     "text": [
      "       (ℰ_E-ℰ_H)/ℰ_E       ℰ_E       ℰ_H\n",
      "               98.8%  1.438e-25 1.686e-27\n",
      "\n",
      "    Calculating junction energy participation ration (EPR)\n",
      "\tmethod=`line_voltage`. First estimates:\n",
      "\tjunction        EPR p_0j   sign s_0j    (p_capacitive)\n"
     ]
    },
    {
     "name": "stderr",
     "output_type": "stream",
     "text": [
      "WARNING:py.warnings:FutureWarning: The default dtype for empty Series will be 'object' instead of 'float64' in a future version. Specify a dtype explicitly to silence this warning.\n",
      " c:\\Users\\slab\\anaconda3\\envs\\qmetal\\lib\\site-packages\\pyEPR\\core_distributed_analysis.py: 933\n",
      "WARNING:py.warnings:FutureWarning: The series.append method is deprecated and will be removed from pandas in a future version. Use pandas.concat instead.\n",
      " c:\\Users\\slab\\anaconda3\\envs\\qmetal\\lib\\site-packages\\pyEPR\\core_distributed_analysis.py: 1307\n"
     ]
    },
    {
     "name": "stdout",
     "output_type": "stream",
     "text": [
      "\t\tEnergy fraction (Lj over Lj&Cj)= 98.53%\n",
      "\tjj1             0.750742  (+)        0.0111698\n",
      "\t\t(U_tot_cap-U_tot_ind)/mean=14.02%\n",
      "Calculating Qdielectric_main for mode 0 (0/1)\n",
      "p_dielectric_main_0 = 0.9017421904229176\n"
     ]
    },
    {
     "name": "stderr",
     "output_type": "stream",
     "text": [
      "WARNING:py.warnings:FutureWarning: The default dtype for empty Series will be 'object' instead of 'float64' in a future version. Specify a dtype explicitly to silence this warning.\n",
      " c:\\Users\\slab\\anaconda3\\envs\\qmetal\\lib\\site-packages\\pyEPR\\core_distributed_analysis.py: 1245\n"
     ]
    },
    {
     "name": "stdout",
     "output_type": "stream",
     "text": [
      "\n",
      "  \u001b[1mMode 1 at 5.36 GHz   [2/2]\u001b[0m\n",
      "    Calculating ℰ_magnetic,ℰ_electric\n"
     ]
    },
    {
     "name": "stderr",
     "output_type": "stream",
     "text": [
      "WARNING:py.warnings:FutureWarning: The default dtype for empty Series will be 'object' instead of 'float64' in a future version. Specify a dtype explicitly to silence this warning.\n",
      " c:\\Users\\slab\\anaconda3\\envs\\qmetal\\lib\\site-packages\\pyEPR\\core_distributed_analysis.py: 981\n"
     ]
    },
    {
     "name": "stdout",
     "output_type": "stream",
     "text": [
      "       (ℰ_E-ℰ_H)/ℰ_E       ℰ_E       ℰ_H\n",
      "                0.1%  4.378e-24 4.373e-24\n",
      "\n",
      "    Calculating junction energy participation ration (EPR)\n",
      "\tmethod=`line_voltage`. First estimates:\n",
      "\tjunction        EPR p_1j   sign s_1j    (p_capacitive)\n"
     ]
    },
    {
     "name": "stderr",
     "output_type": "stream",
     "text": [
      "WARNING:py.warnings:FutureWarning: The default dtype for empty Series will be 'object' instead of 'float64' in a future version. Specify a dtype explicitly to silence this warning.\n",
      " c:\\Users\\slab\\anaconda3\\envs\\qmetal\\lib\\site-packages\\pyEPR\\core_distributed_analysis.py: 933\n",
      "WARNING:py.warnings:FutureWarning: The series.append method is deprecated and will be removed from pandas in a future version. Use pandas.concat instead.\n",
      " c:\\Users\\slab\\anaconda3\\envs\\qmetal\\lib\\site-packages\\pyEPR\\core_distributed_analysis.py: 1307\n"
     ]
    },
    {
     "name": "stdout",
     "output_type": "stream",
     "text": [
      "\t\tEnergy fraction (Lj over Lj&Cj)= 96.27%\n",
      "\tjj1             0.000808665  (+)        3.13101e-05\n",
      "\t\t(U_tot_cap-U_tot_ind)/mean=0.01%\n",
      "Calculating Qdielectric_main for mode 1 (1/1)\n",
      "p_dielectric_main_1 = 0.9081447135316204\n"
     ]
    },
    {
     "name": "stderr",
     "output_type": "stream",
     "text": [
      "WARNING:py.warnings:FutureWarning: The default dtype for empty Series will be 'object' instead of 'float64' in a future version. Specify a dtype explicitly to silence this warning.\n",
      " c:\\Users\\slab\\anaconda3\\envs\\qmetal\\lib\\site-packages\\pyEPR\\project_info.py: 239\n",
      "WARNING 10:51AM [__init__]: <p>Error: <class 'IndexError'></p>\n",
      "ERROR 10:51AM [_get_participation_normalized]: WARNING: U_tot_cap-U_tot_ind / mean = 28.0% is > 15%.                     \n",
      "Is the simulation converged? Proceed with caution\n",
      "ERROR 10:51AM [_get_participation_normalized]: WARNING: U_tot_cap-U_tot_ind / mean = 28.0% is > 15%.                     \n",
      "Is the simulation converged? Proceed with caution\n",
      "WARNING:py.warnings:FutureWarning: Support for multi-dimensional indexing (e.g. `obj[:, None]`) is deprecated and will be removed in a future version.  Convert to a numpy array before indexing instead.\n",
      " c:\\Users\\slab\\anaconda3\\envs\\qmetal\\lib\\site-packages\\pyEPR\\core_quantum_analysis.py: 712\n",
      "WARNING:py.warnings:FutureWarning: Support for multi-dimensional indexing (e.g. `obj[:, None]`) is deprecated and will be removed in a future version.  Convert to a numpy array before indexing instead.\n",
      " c:\\Users\\slab\\anaconda3\\envs\\qmetal\\lib\\site-packages\\pyEPR\\core_quantum_analysis.py: 717\n"
     ]
    },
    {
     "name": "stdout",
     "output_type": "stream",
     "text": [
      "\n",
      "ANALYSIS DONE. Data saved to:\n",
      "\n",
      "C:\\data-pyEPR\\Project51\\q2_hfss\\2024-12-11 10-51-28.npz\n",
      "\n",
      "\n",
      "\t Differences in variations:\n",
      "\n",
      "\n",
      "\n",
      " . . . . . . . . . . . . . . . . . . . . . . . . . . . . . . . . . . . . . . . . \n",
      "Variation 0\n",
      "\n",
      "Starting the diagonalization\n",
      "Finished the diagonalization\n",
      "Pm_norm=\n",
      "modes\n",
      "0    1.329084\n",
      "1    1.175914\n",
      "dtype: float64\n",
      "\n",
      "Pm_norm idx =\n",
      "     jj1\n",
      "0   True\n",
      "1  False\n",
      "*** P (participation matrix, not normlz.)\n",
      "        jj1\n",
      "0  0.742449\n",
      "1  0.000809\n",
      "\n",
      "*** S (sign-bit matrix)\n",
      "   s_jj1\n",
      "0     -1\n",
      "1     -1\n",
      "*** P (participation matrix, normalized.)\n",
      "      0.99\n",
      "   0.00081\n",
      "\n",
      "*** Chi matrix O1 PT (MHz)\n",
      "    Diag is anharmonicity, off diag is full cross-Kerr.\n",
      "       140    0.371\n",
      "     0.371 0.000245\n",
      "\n",
      "*** Chi matrix ND (MHz) \n",
      "       154    0.335\n",
      "     0.335 0.000197\n",
      "\n",
      "*** Frequencies O1 PT (MHz)\n",
      "0    3179.521806\n",
      "1    5355.577564\n",
      "dtype: float64\n",
      "\n",
      "*** Frequencies ND (MHz)\n",
      "0    3172.991421\n",
      "1    5355.581495\n",
      "dtype: float64\n",
      "\n",
      "*** Q_coupling\n",
      "Empty DataFrame\n",
      "Columns: []\n",
      "Index: [0, 1]\n"
     ]
    },
    {
     "data": {
      "text/markdown": [
       "#### Mode frequencies (MHz)"
      ],
      "text/plain": [
       "<IPython.core.display.Markdown object>"
      ]
     },
     "metadata": {},
     "output_type": "display_data"
    },
    {
     "data": {
      "text/markdown": [
       "###### Numerical diagonalization"
      ],
      "text/plain": [
       "<IPython.core.display.Markdown object>"
      ]
     },
     "metadata": {},
     "output_type": "display_data"
    },
    {
     "data": {
      "text/html": [
       "<div>\n",
       "<style scoped>\n",
       "    .dataframe tbody tr th:only-of-type {\n",
       "        vertical-align: middle;\n",
       "    }\n",
       "\n",
       "    .dataframe tbody tr th {\n",
       "        vertical-align: top;\n",
       "    }\n",
       "\n",
       "    .dataframe thead th {\n",
       "        text-align: right;\n",
       "    }\n",
       "</style>\n",
       "<table border=\"1\" class=\"dataframe\">\n",
       "  <thead>\n",
       "    <tr style=\"text-align: right;\">\n",
       "      <th>Lj</th>\n",
       "      <th>17.1</th>\n",
       "    </tr>\n",
       "  </thead>\n",
       "  <tbody>\n",
       "    <tr>\n",
       "      <th>0</th>\n",
       "      <td>3172.99</td>\n",
       "    </tr>\n",
       "    <tr>\n",
       "      <th>1</th>\n",
       "      <td>5355.58</td>\n",
       "    </tr>\n",
       "  </tbody>\n",
       "</table>\n",
       "</div>"
      ],
      "text/plain": [
       "Lj     17.1\n",
       "0   3172.99\n",
       "1   5355.58"
      ]
     },
     "metadata": {},
     "output_type": "display_data"
    },
    {
     "data": {
      "text/markdown": [
       "#### Kerr Non-linear coefficient table (MHz)"
      ],
      "text/plain": [
       "<IPython.core.display.Markdown object>"
      ]
     },
     "metadata": {},
     "output_type": "display_data"
    },
    {
     "data": {
      "text/markdown": [
       "###### Numerical diagonalization"
      ],
      "text/plain": [
       "<IPython.core.display.Markdown object>"
      ]
     },
     "metadata": {},
     "output_type": "display_data"
    },
    {
     "data": {
      "text/html": [
       "<div>\n",
       "<style scoped>\n",
       "    .dataframe tbody tr th:only-of-type {\n",
       "        vertical-align: middle;\n",
       "    }\n",
       "\n",
       "    .dataframe tbody tr th {\n",
       "        vertical-align: top;\n",
       "    }\n",
       "\n",
       "    .dataframe thead th {\n",
       "        text-align: right;\n",
       "    }\n",
       "</style>\n",
       "<table border=\"1\" class=\"dataframe\">\n",
       "  <thead>\n",
       "    <tr style=\"text-align: right;\">\n",
       "      <th></th>\n",
       "      <th></th>\n",
       "      <th>0</th>\n",
       "      <th>1</th>\n",
       "    </tr>\n",
       "    <tr>\n",
       "      <th>Lj</th>\n",
       "      <th></th>\n",
       "      <th></th>\n",
       "      <th></th>\n",
       "    </tr>\n",
       "  </thead>\n",
       "  <tbody>\n",
       "    <tr>\n",
       "      <th rowspan=\"2\" valign=\"top\">17.1</th>\n",
       "      <th>0</th>\n",
       "      <td>154.22</td>\n",
       "      <td>3.35e-01</td>\n",
       "    </tr>\n",
       "    <tr>\n",
       "      <th>1</th>\n",
       "      <td>0.33</td>\n",
       "      <td>1.97e-04</td>\n",
       "    </tr>\n",
       "  </tbody>\n",
       "</table>\n",
       "</div>"
      ],
      "text/plain": [
       "             0         1\n",
       "Lj                      \n",
       "17.1 0  154.22  3.35e-01\n",
       "     1    0.33  1.97e-04"
      ]
     },
     "metadata": {},
     "output_type": "display_data"
    }
   ],
   "source": [
    "qubit = qubit_q2\n",
    "components = ['Q2','res2', 'tee2']\n",
    "\n",
    "\n",
    "dat = {}\n",
    "convergence = pd.read_csv('hfss_eig_f_convergence.csv')\n",
    "conv = convergence.dropna()\n",
    "\n",
    "ind = list(conv.keys())[1:]\n",
    "for i in range(2):\n",
    "    freq = conv[ind[(i)]].values[-1]\n",
    "    dat['Freq'+str(i+1)+'(GHz)'] = freq\n",
    "    \n",
    "target_freq = 3.2\n",
    "dat['f_target'] = target_freq\n",
    "\n",
    "Lj = str(qubit.L.to(u.nH).value)+'nH'\n",
    "dp.change_inductance([Lj], eig_all, c1)\n",
    "\n",
    "\n",
    "Cj = str(transmon.find_junction_capacitance(qubit.L).to(u.fF).value)+'fF'\n",
    "eig_all.sim.renderer.options['Lj'] = Lj\n",
    "eig_all.sim.renderer.options['Cj'] = Cj\n",
    "\n",
    "eig_all.sim.setup.vars = {}\n",
    "eig_all.sim.setup.vars['Lj'] = Lj\n",
    "eig_all.sim.setup.vars['Cj'] = Cj\n",
    "\n",
    "dat['Lj'] = Lj\n",
    "dat['Cj'] = Cj\n",
    "eig_all.sim.run(name = 'q2', components = components)\n",
    "try:\n",
    "    del eig_all.setup.junctions['jj']\n",
    "except:\n",
    "    print('saddd')\n",
    "eig_all.setup.junctions.jj1 = Dict(rect='JJ_rect_Lj_Q2_rect_jj', line='JJ_Lj_Q2_rect_jj_',\n",
    "                Lj_variable='Lj', Cj_variable='Cj')\n",
    "eig_all.run_epr()\n",
    "chi = eig_all.sim.renderer.epr_quantum_analysis.get_chis().to_numpy()\n",
    "freq_EPR= eig_all.sim.renderer.epr_quantum_analysis.get_frequencies().to_numpy()[:,0]\n",
    "\n",
    "# renderer_hfss.clean_active_design()\n",
    "for i in range(2):\n",
    "    freq = freq_EPR[i]\n",
    "    dat['Freq_EPR'+str(i+1)+'(MHz)'] = freq\n",
    "    for j in range(i+1):\n",
    "        dat['Chi'+str(i+1)+'_'+str(j+1)+'(MHz)'] = chi[i][j] \n",
    "\n",
    "\n",
    "\n",
    "data = pd.DataFrame(dat, index = [0])\n",
    "\n",
    "data.to_csv(date()+'q2.csv')"
   ]
  },
  {
   "cell_type": "markdown",
   "metadata": {},
   "source": [
    "## Junction probe pads"
   ]
  },
  {
   "cell_type": "code",
   "execution_count": 57,
   "metadata": {},
   "outputs": [],
   "source": [
    "from bandaged_dolan import DolanJunctionBandage\n",
    "from probe_pad import ProbePad\n",
    "from text import Text_object"
   ]
  },
  {
   "cell_type": "code",
   "execution_count": 405,
   "metadata": {},
   "outputs": [],
   "source": [
    "maximum_jj_w = 500 #nm\n",
    "small_jj_length = 20#nm\n",
    "\n",
    "h_pocket = 300 #um\n",
    "w_pocket = 800\n",
    "\n",
    "\n",
    "\n",
    "\n",
    "\n",
    "dose_array_options = Dict(\n",
    "    pos_x = '0um', \n",
    "    pos_y = '0um',\n",
    "    w_pocket = f'{w_pocket:.0f} um',\n",
    "    h_pocket = f'{h_pocket:.0f} um',\n",
    "    w_pad = '300 um',\n",
    "    h_pad = '200 um',\n",
    "    pad_gap = '7 um',\n",
    "    orientation = '0',\n",
    "    layer = f'{qubit_layer}',\n",
    "    )\n",
    "\n",
    "text_options = Dict(\n",
    "        pos_x = '0um', \n",
    "        pos_y = '0um',\n",
    "        text = 'haha',\n",
    "        text_height = '20 mm',\n",
    "        orientation = '0',\n",
    "        layer = f'{qubit_layer}',\n",
    "        subtract = 'False'\n",
    "        )\n",
    "\n",
    "\n",
    "\n",
    "JJ_options = Dict(\n",
    "    pos_x = '0um',\n",
    "    pos_y = '0um',\n",
    "    w_pad_pin = '2 um',\n",
    "    maximum_jj_width = '950nm',\n",
    "    small_jj_length = '400nm',\n",
    "    w_pad_u = '3 um',\n",
    "    d_pin = '250 nm',\n",
    "    d_u = '550 nm',\n",
    "    total_length = '1 um',\n",
    "    w_top_pin = '550 nm',\n",
    "    w_top_u = '550 nm',\n",
    "    w_bot_pin = '550 nm',\n",
    "    w_bot_u = '550 nm',\n",
    "    top_bot_offset = '0 nm' ,\n",
    "    jj_extra = '600nm',\n",
    "    jj_gap = '0.2um',\n",
    "    fillet = '30 nm',\n",
    "    # jj_gap_actual = '0.2um',\n",
    "    # Lj = '10',\n",
    "    resolution = '5',\n",
    "    bandage = 'True',\n",
    "    bandage_h = '20 um',\n",
    "    bandage_w = '20 um',\n",
    "    bandage_layer = '299',\n",
    "    bandage_uc_layer = '699',\n",
    "    bandage_loc = '0.5um',\n",
    "    # Jc = '0.1',\n",
    "    orientation = '270',\n",
    "    pin_layer = f'{junction_layer}',\n",
    "    gap_layer = f'{junction_area_layer}',\n",
    "    area_layer_opt = 'False',\n",
    "    jj_orientation = '0',\n",
    "    tapered = 'False',\n",
    "    taper_r = '10um',\n",
    "    uc_override_band = '1um',)\n",
    "\n",
    "JJ_options1 = JJ_options.copy()\n",
    "JJ_options1['d_pin'] = '10um'\n",
    "JJ_options1['d_u'] = '12um'\n",
    "JJ_options1['w_pad_pin'] = '5um'\n",
    "JJ_options1['w_pad_u'] = '6um'\n",
    "JJ_options1['total_length'] = '30um'\n",
    "JJ_options1['jj_extra'] = '0um'\n",
    "JJ_options1['small_jj_length'] = '600nm'\n",
    "\n",
    "\n",
    "def junction_probe_pad(x,y,jj_w,jj_gap, name, dose_array_options = dose_array_options, JJ_options = JJ_options):\n",
    "\n",
    "    dose_array_options['pos_x'] = x\n",
    "    dose_array_options['pos_y'] = y\n",
    "\n",
    "    JJ_options['pos_x'] = x\n",
    "    JJ_options['pos_y'] = y\n",
    "    JJ_options['w_bot_pin'] = jj_w\n",
    "    JJ_options['jj_gap'] = jj_gap\n",
    "\n",
    "    dose_array = ProbePad(design, name+'ProbePad', dose_array_options)\n",
    "    dolan = DolanJunctionBandage(design,name+'JJ',JJ_options)\n",
    "    text_options['pos_x'] = x+f'-{w_pocket/2}um'\n",
    "    text_options['pos_y'] = y #+ f'-{w_pocket/2}um'\n",
    "    text_options['text'] = name\n",
    "    text_options['text_height'] = '50um'\n",
    "    text_options['orientation'] = '0'\n",
    "    Text_object(design, name+'text',text_options)\n",
    "\n",
    "\n"
   ]
  },
  {
   "cell_type": "markdown",
   "metadata": {},
   "source": [
    "## Junction"
   ]
  },
  {
   "cell_type": "code",
   "execution_count": 35,
   "metadata": {},
   "outputs": [],
   "source": [
    "import Transmon_specifications as jj"
   ]
  },
  {
   "cell_type": "code",
   "execution_count": null,
   "metadata": {},
   "outputs": [],
   "source": []
  },
  {
   "cell_type": "markdown",
   "metadata": {},
   "source": [
    "### Parameters"
   ]
  },
  {
   "cell_type": "code",
   "execution_count": 36,
   "metadata": {},
   "outputs": [],
   "source": [
    "offset = 0\n",
    "Jc = 0.15*u.uA/u.um**2*(1+offset)\n",
    "overlap = 220*u.nm\n",
    "\n",
    "jj1_len = (jj.find_junction_area(qubit_q1.L, Jc = Jc)/overlap).to(u.nm)\n",
    "\n",
    "\n",
    "jj2_len = (jj.find_junction_area(qubit_q2.L, Jc = Jc)/overlap).to(u.nm)\n",
    "\n",
    "\n",
    "jj3_len = (jj.find_junction_area(qubit_q3.L, Jc = Jc)/overlap).to(u.nm)\n"
   ]
  },
  {
   "cell_type": "code",
   "execution_count": null,
   "metadata": {},
   "outputs": [
    {
     "name": "stdout",
     "output_type": "stream",
     "text": [
      "target:  3.200000000000175 GHz ; actual: 4.453377660306013 GHz\n",
      "Ej 33.054287642187774 GHz\n"
     ]
    }
   ],
   "source": [
    "Jc = 0.55*u.uA/u.um**2\n",
    "jj_lens = [0.55*u.um, 0.55*u.um, 0.55*u.um]\n",
    "qubits = [qubit_q2,qubit_q1,qubit_q3]\n",
    "for i in range(1):\n",
    "    Lj, Ej = jj.find_junction_inductance(jj_lens[i],overlap,Jc)\n",
    "    print('target: ',qubits[i].freq, '; actual:',np.sqrt(8*Ej*qubits[i].EC).to(u.GHz))\n",
    "    print('Ej', Ej.to(u.GHz))\n",
    "   "
   ]
  },
  {
   "cell_type": "code",
   "execution_count": 86,
   "metadata": {},
   "outputs": [],
   "source": [
    "Lj, Ej = jj.find_junction_inductance(jj_lens[0],overlap,Jc)\n",
    "Ec = 70*u.MHz\n",
    "# Create a Transmon object\n",
    "transmon = scq.Transmon(Ej.to(u.GHz).value, Ec.to(u.GHz).value, ng=0, ncut=30, truncated_dim=10)\n",
    "\n",
    "# Calculate the eigenenergies\n",
    "eigenenergies = transmon.eigenvals()\n",
    "\n",
    "# Calculate the transition frequencies (in GHz)\n",
    "transition_frequencies = np.diff(eigenenergies)\n",
    "\n",
    "# Calculate the anharmonicity (in GHz)\n",
    "anharmonicity = transition_frequencies[1] - transition_frequencies[0]\n"
   ]
  },
  {
   "cell_type": "code",
   "execution_count": 87,
   "metadata": {},
   "outputs": [
    {
     "data": {
      "text/plain": [
       "array([4.23118093, 4.15841157, 4.08360539, 4.00656102, 3.92704197])"
      ]
     },
     "execution_count": 87,
     "metadata": {},
     "output_type": "execute_result"
    }
   ],
   "source": [
    "transition_frequencies"
   ]
  },
  {
   "cell_type": "code",
   "execution_count": 88,
   "metadata": {},
   "outputs": [
    {
     "data": {
      "text/plain": [
       "-0.0727693624787733"
      ]
     },
     "execution_count": 88,
     "metadata": {},
     "output_type": "execute_result"
    }
   ],
   "source": [
    "anharmonicity"
   ]
  },
  {
   "cell_type": "code",
   "execution_count": 599,
   "metadata": {},
   "outputs": [
    {
     "data": {
      "text/latex": [
       "$6.5878305 \\times 10^{9} \\; \\mathrm{\\frac{1}{s}}$"
      ],
      "text/plain": [
       "<Quantity 6.58783054e+09 1 / s>"
      ]
     },
     "execution_count": 599,
     "metadata": {},
     "output_type": "execute_result"
    }
   ],
   "source": [
    "np.sqrt(8*Ej*qubit_q3.EC).si"
   ]
  },
  {
   "cell_type": "code",
   "execution_count": 553,
   "metadata": {},
   "outputs": [],
   "source": [
    "d_pin = 15\n",
    "u_pin = 0.75\n",
    "JJ_options1 = JJ_options.copy()\n",
    "JJ_options1['d_pin'] = f'{d_pin}um'\n",
    "JJ_options1['d_u'] = f'{d_pin+2*u_pin*2}um'\n",
    "JJ_options1['w_pad_pin'] = '2.5um'\n",
    "JJ_options1['w_pad_u'] = '3um'\n",
    "JJ_options1['total_length'] = f'{q1.options.jj_gap}+{d_pin}um+{u_pin*2}um'\n",
    "JJ_options1['jj_extra'] = '0um'\n",
    "JJ_options1['small_jj_length'] = '600nm'\n",
    "\n",
    "JJ_options1['bandage_h'] = '30um'\n",
    "JJ_options1['bandage_w'] = '5um'\n",
    "\n",
    "JJ_options1['bandage_loc'] = '7um'"
   ]
  },
  {
   "cell_type": "code",
   "execution_count": 554,
   "metadata": {},
   "outputs": [],
   "source": [
    "def junction_on_qubit(x,y,jj_w,jj_gap,gap, name,  JJ_options = JJ_options):\n",
    "    JJ_options['pos_x'] = x\n",
    "    JJ_options['pos_y'] = y\n",
    "    JJ_options['w_bot_pin'] = jj_w\n",
    "    JJ_options['jj_gap'] = jj_gap\n",
    "    JJ_options['total_length'] = gap\n",
    "    dolan = DolanJunctionBandage(design,name+'JJ',JJ_options)\n"
   ]
  },
  {
   "cell_type": "code",
   "execution_count": 555,
   "metadata": {},
   "outputs": [],
   "source": [
    "jjw = '200nm'"
   ]
  },
  {
   "cell_type": "markdown",
   "metadata": {},
   "source": [
    "### Junction on qubit"
   ]
  },
  {
   "cell_type": "code",
   "execution_count": 556,
   "metadata": {},
   "outputs": [],
   "source": [
    "from rounded_rectangle import rounded_rec as rec2"
   ]
  },
  {
   "cell_type": "code",
   "execution_count": 557,
   "metadata": {},
   "outputs": [],
   "source": [
    "taper_r = 50\n",
    "w_pad_pin = 10\n",
    "d_pin = 20\n",
    "uc = 1\n",
    "pad = rec2(w_pad_pin, \n",
    "            taper_r, \n",
    "            same_radius = False,  \n",
    "            r1 = 0,\n",
    "            r2 = 0,\n",
    "            r3 = taper_r,\n",
    "            r4 = taper_r,\n",
    "            resolution = int(taper_r/0.002),\n",
    "            d1 = [-1,-1],\n",
    "            d2 = [-1,1],\n",
    "            d3 = [-1,1],\n",
    "            d4 = [1,1]\n",
    "            )\n",
    "pad = draw.translate(pad, 0, taper_r/2)\n",
    "rectangle = rec2(w_pad_pin*100, d_pin*100,)\n",
    "rectangle = draw.translate(rectangle, 0, d_pin*100/2)\n",
    "pad_pin = pad.difference(rectangle)\n",
    "pad_u = draw.shapely.buffer(pad, uc)\n",
    "pad_u = pad_u.difference(pad)"
   ]
  },
  {
   "cell_type": "code",
   "execution_count": 558,
   "metadata": {},
   "outputs": [],
   "source": [
    "# draw.show(pad_pin)"
   ]
  },
  {
   "cell_type": "code",
   "execution_count": 559,
   "metadata": {},
   "outputs": [
    {
     "name": "stderr",
     "output_type": "stream",
     "text": [
      "01:07PM 23s WARNING [check_lengths]: For path table, component=trans3, key=trace has short segments that could cause issues with fillet. Values in (1-2)  are index(es) in shapely geometry.\n",
      "01:07PM 23s WARNING [check_lengths]: For path table, component=trans3, key=cut has short segments that could cause issues with fillet. Values in (1-2)  are index(es) in shapely geometry.\n"
     ]
    }
   ],
   "source": [
    "junction_on_qubit(q1.get_jj_location()[0],\n",
    "                  q1.get_jj_location()[1],\n",
    "                  f'{jj1_len.to(u.nm).value:.2f}nm',\n",
    "                  jjw,\n",
    "                  q1.options['jj_gap']+'+'+JJ_options1['d_u']+'*2',\n",
    "                  'q1',\n",
    "                  JJ_options = JJ_options1)\n",
    "junction_on_qubit(q2.get_jj_location()[0],\n",
    "                  q2.get_jj_location()[1],\n",
    "                  f'{jj2_len.to(u.nm).value:.2f}nm',\n",
    "                  jjw,\n",
    "                  q2.options['jj_gap']+'+'+JJ_options1['d_u']+'*2',\n",
    "                  'q2',\n",
    "                  JJ_options = JJ_options1)\n",
    "\n",
    "junction_on_qubit(q3.get_jj_location()[0],\n",
    "                  q3.get_jj_location()[1],\n",
    "                  f'{jj3_len.to(u.nm).value:.2f}nm',\n",
    "                  jjw,\n",
    "                  q3.options['jj_gap']+'+'+JJ_options1['d_u']+'*2',\n",
    "                  'q3',\n",
    "                  JJ_options = JJ_options1)\n",
    "gui.rebuild()"
   ]
  },
  {
   "cell_type": "markdown",
   "metadata": {},
   "source": [
    "### Junction Probe Pads"
   ]
  },
  {
   "cell_type": "code",
   "execution_count": 560,
   "metadata": {},
   "outputs": [],
   "source": [
    "chip_size = 6800\n",
    "max_xy = chip_size/2\n",
    "JJ_options['small_jj_length'] = '600nm'\n",
    "\n",
    "junction_probe_pad(f'-{-max_xy+w_pocket/2}um',f'{-max_xy+h_pocket/2}um',\n",
    "                   f'{jj1_len.to(u.nm).value:.2f}nm',\n",
    "                   jjw,\n",
    "                   '1A',dose_array_options = dose_array_options, JJ_options = JJ_options1)\n",
    "junction_probe_pad(f'-{-max_xy+w_pocket/2}um',f'{-max_xy+h_pocket/2+h_pocket*1.1}um',\n",
    "                   f'{jj1_len.to(u.nm).value:.2f}nm',\n",
    "                   jjw,\n",
    "                   '1B',dose_array_options = dose_array_options, JJ_options = JJ_options1)\n",
    "junction_probe_pad(f'-{-max_xy+w_pocket/2}um',f'{-max_xy+h_pocket/2+h_pocket*2.2}um',\n",
    "                   f'{jj2_len.to(u.nm).value:.2f}nm',\n",
    "                   jjw,\n",
    "                   '2A',dose_array_options = dose_array_options, JJ_options = JJ_options1)\n",
    "\n",
    "junction_probe_pad(f'-{-max_xy+w_pocket/2}um',f'{-max_xy+h_pocket/2+ h_pocket*3.3}um',\n",
    "                   f'{jj2_len.to(u.nm).value:.2f}nm',\n",
    "                   jjw,\n",
    "                   '2B',dose_array_options = dose_array_options, JJ_options = JJ_options1)\n",
    "junction_probe_pad(f'-{-max_xy+w_pocket/2}um',f'{-max_xy+h_pocket/2+h_pocket*4.4}um',\n",
    "                   f'{jj3_len.to(u.nm).value:.2f}nm',\n",
    "                   jjw,\n",
    "                   '3A',dose_array_options = dose_array_options, JJ_options = JJ_options1)\n",
    "junction_probe_pad(f'-{-max_xy+w_pocket/2}um',f'{-max_xy+h_pocket/2+h_pocket*5.5}um',\n",
    "                   f'{jj3_len.to(u.nm).value:.2f}nm',\n",
    "                   jjw,\n",
    "                   '3B',dose_array_options = dose_array_options, JJ_options = JJ_options1)"
   ]
  },
  {
   "cell_type": "code",
   "execution_count": 561,
   "metadata": {},
   "outputs": [
    {
     "name": "stderr",
     "output_type": "stream",
     "text": [
      "01:07PM 25s WARNING [check_lengths]: For path table, component=trans3, key=trace has short segments that could cause issues with fillet. Values in (1-2)  are index(es) in shapely geometry.\n",
      "01:07PM 25s WARNING [check_lengths]: For path table, component=trans3, key=cut has short segments that could cause issues with fillet. Values in (1-2)  are index(es) in shapely geometry.\n"
     ]
    }
   ],
   "source": [
    "gui.rebuild()"
   ]
  },
  {
   "cell_type": "markdown",
   "metadata": {},
   "source": [
    "# GDS"
   ]
  },
  {
   "cell_type": "code",
   "execution_count": 562,
   "metadata": {},
   "outputs": [],
   "source": [
    "# design.chips.main.size['size_x'] = '10mm'\n",
    "# design.chips.main.size['size_y'] = '10mm'\n",
    "# gui.rebuild()\n",
    "a_gds = design.renderers.gds"
   ]
  },
  {
   "cell_type": "code",
   "execution_count": 563,
   "metadata": {},
   "outputs": [],
   "source": [
    "qubit_layer = 5\n",
    "junction_layer = 20\n",
    "ab_layer = 31\n",
    "ab_square_layer = 30\n",
    "junction_area_layer = 60\n",
    "junction_bandage_layer = 299    \n",
    "junction_uc_layer = 699"
   ]
  },
  {
   "cell_type": "code",
   "execution_count": 564,
   "metadata": {},
   "outputs": [],
   "source": [
    "a_gds.options['max_points'] = 3000\n",
    "a_gds.options['fabricate'] = True"
   ]
  },
  {
   "cell_type": "code",
   "execution_count": 565,
   "metadata": {},
   "outputs": [],
   "source": [
    "a_gds.options['cheese']['view_in_file']['main'][qubit_layer] = True\n",
    "a_gds.options['no_cheese']['view_in_file']['main'][qubit_layer] = True\n",
    "a_gds.options['cheese']['view_in_file']['main'][junction_layer] = False\n",
    "a_gds.options['no_cheese']['view_in_file']['main'][junction_layer] = False\n",
    "a_gds.options['cheese']['view_in_file']['main'][ab_layer] = False\n",
    "a_gds.options['no_cheese']['view_in_file']['main'][ab_layer] = False\n",
    "a_gds.options['cheese']['view_in_file']['main'][ab_square_layer] = False\n",
    "a_gds.options['no_cheese']['view_in_file']['main'][ab_square_layer] = True\n",
    "a_gds.options['cheese']['view_in_file']['main'][1] = False\n",
    "a_gds.options['no_cheese']['view_in_file']['main'][1] = False"
   ]
  },
  {
   "cell_type": "code",
   "execution_count": 566,
   "metadata": {},
   "outputs": [],
   "source": [
    "# a_gds.options['cheese']['view_in_file']['main'][qubit_layer] = True\n",
    "# a_gds.options['no_cheese']['view_in_file']['main'][qubit_layer] = True\n",
    "# a_gds.options['cheese']['view_in_file']['main'][junction_layer] = True\n",
    "# a_gds.options['no_cheese']['view_in_file']['main'][junction_layer] = True\n",
    "# a_gds.options['cheese']['view_in_file']['main'][ab_layer] = True\n",
    "# a_gds.options['no_cheese']['view_in_file']['main'][ab_layer] = True\n",
    "# a_gds.options['cheese']['view_in_file']['main'][ab_square_layer] = True\n",
    "# a_gds.options['no_cheese']['view_in_file']['main'][ab_square_layer] = True\n",
    "# a_gds.options['cheese']['view_in_file']['main']['1'] = True\n",
    "# a_gds.options['no_cheese']['view_in_file']['main']['1'] = True\n",
    "\n",
    "\n",
    "\n",
    "# a_gds.options['fabricate'] = False\n",
    "a_gds.options.tolerance = '0.0000005'\n",
    "a_gds.options.precision = '0.0000000005'"
   ]
  },
  {
   "cell_type": "code",
   "execution_count": 567,
   "metadata": {},
   "outputs": [],
   "source": [
    "a_gds.options['negative_mask'] = dict(main= [qubit_layer])"
   ]
  },
  {
   "cell_type": "code",
   "execution_count": 568,
   "metadata": {},
   "outputs": [
    {
     "data": {
      "text/plain": [
       "{'short_segments_to_not_fillet': 'True',\n",
       " 'check_short_segments_by_scaling_fillet': '1.0',\n",
       " 'gds_unit': 0.001,\n",
       " 'ground_plane': 'True',\n",
       " 'negative_mask': {'main': [5]},\n",
       " 'fabricate': True,\n",
       " 'corners': 'circular bend',\n",
       " 'tolerance': '0.0000005',\n",
       " 'precision': '0.0000000005',\n",
       " 'width_LineString': '10um',\n",
       " 'path_filename': '../resources/Fake_Junctions.GDS',\n",
       " 'junction_pad_overlap': '5um',\n",
       " 'max_points': 3000,\n",
       " 'cheese': {'datatype': '100',\n",
       "  'shape': '0',\n",
       "  'cheese_0_x': '10um',\n",
       "  'cheese_0_y': '10um',\n",
       "  'cheese_1_radius': '10um',\n",
       "  'view_in_file': {'main': {1: False,\n",
       "    5: True,\n",
       "    20: False,\n",
       "    31: False,\n",
       "    30: False}},\n",
       "  'delta_x': '100um',\n",
       "  'delta_y': '100um',\n",
       "  'edge_nocheese': '150um'},\n",
       " 'no_cheese': {'datatype': '99',\n",
       "  'buffer': '200um',\n",
       "  'cap_style': '2',\n",
       "  'join_style': '2',\n",
       "  'view_in_file': {'main': {1: False,\n",
       "    5: True,\n",
       "    20: False,\n",
       "    31: False,\n",
       "    30: True}}},\n",
       " 'bounding_box_scale_x': '1.2',\n",
       " 'bounding_box_scale_y': '1.2'}"
      ]
     },
     "execution_count": 568,
     "metadata": {},
     "output_type": "execute_result"
    }
   ],
   "source": [
    "a_gds.options"
   ]
  },
  {
   "cell_type": "code",
   "execution_count": 569,
   "metadata": {},
   "outputs": [],
   "source": [
    "a_gds.options.cheese.edge_nocheese = '150um'\n",
    "a_gds.options.no_cheese.buffer = '200um'\n",
    "a_gds.options.cheese.cheese_1_radius = '10um'\n",
    "a_gds.options.cheese.cheese_0_x = '10um'\n",
    "a_gds.options.cheese.cheese_0_y = '10um'"
   ]
  },
  {
   "cell_type": "code",
   "execution_count": 570,
   "metadata": {},
   "outputs": [
    {
     "name": "stderr",
     "output_type": "stream",
     "text": [
      "WARNING:py.warnings:FutureWarning: The frame.append method is deprecated and will be removed from pandas in a future version. Use pandas.concat instead.\n",
      " c:\\_lib\\python\\qiskit-metal\\qiskit_metal\\renderers\\renderer_gds\\gds_renderer.py: 780\n",
      "WARNING:py.warnings:FutureWarning: The frame.append method is deprecated and will be removed from pandas in a future version. Use pandas.concat instead.\n",
      " c:\\_lib\\python\\qiskit-metal\\qiskit_metal\\renderers\\renderer_gds\\gds_renderer.py: 780\n",
      "01:07PM 27s WARNING [_qgeometry_to_gds]: Unexpected shapely object geometry.The variable qgeometry_element is <class 'numpy.float64'>, method can currently handle Polygon and FlexPath.\n",
      "01:07PM 27s WARNING [_qgeometry_to_gds]: Unexpected shapely object geometry.The variable qgeometry_element is <class 'numpy.float64'>, method can currently handle Polygon and FlexPath.\n",
      "01:07PM 27s WARNING [_qgeometry_to_gds]: Unexpected shapely object geometry.The variable qgeometry_element is <class 'numpy.float64'>, method can currently handle Polygon and FlexPath.\n",
      "01:07PM 27s WARNING [_qgeometry_to_gds]: Unexpected shapely object geometry.The variable qgeometry_element is <class 'numpy.float64'>, method can currently handle Polygon and FlexPath.\n",
      "01:07PM 27s WARNING [_import_junction_gds_file]: Not able to find file:\"../resources/Fake_Junctions.GDS\".  Not used to replace junction. Checked directory:\"c:\\Users\\slab\\Desktop\\Wendy-qiskit-code\\resources\".\n",
      "01:07PM 27s WARNING [_cheese_buffer_maker]: The bounding box for no-cheese is outside of chip size.\n",
      "Bounding box for chip is (-3.5, -3.5, 3.5, 3.5).\n",
      "Bounding box with no_cheese buffer is (-3.0, -3.6, 3.6, 2.9).\n",
      "01:07PM 27s WARNING [_check_either_cheese]: layer=299 is not in chip=main either in no_cheese_view_in_file or cheese_view_in_file from self.options.\n",
      "01:07PM 27s WARNING [_check_either_cheese]: layer=699 is not in chip=main either in no_cheese_view_in_file or cheese_view_in_file from self.options.\n",
      "01:07PM 27s WARNING [_check_either_cheese]: layer=60 is not in chip=main either in no_cheese_view_in_file or cheese_view_in_file from self.options.\n"
     ]
    },
    {
     "data": {
      "text/plain": [
       "1"
      ]
     },
     "execution_count": 570,
     "metadata": {},
     "output_type": "execute_result"
    }
   ],
   "source": [
    "# gui.rebuild()\n",
    "a_gds.export_to_gds(f'SiFT_offset{offset}.gds')"
   ]
  },
  {
   "cell_type": "code",
   "execution_count": 571,
   "metadata": {},
   "outputs": [],
   "source": [
    "a_gds.options['check_short_segments_by_scaling_fillet'] = '1.0'"
   ]
  },
  {
   "cell_type": "code",
   "execution_count": null,
   "metadata": {},
   "outputs": [],
   "source": []
  }
 ],
 "metadata": {
  "kernelspec": {
   "display_name": "qmetal",
   "language": "python",
   "name": "qmetal"
  },
  "language_info": {
   "codemirror_mode": {
    "name": "ipython",
    "version": 3
   },
   "file_extension": ".py",
   "mimetype": "text/x-python",
   "name": "python",
   "nbconvert_exporter": "python",
   "pygments_lexer": "ipython3",
   "version": "3.10.8"
  }
 },
 "nbformat": 4,
 "nbformat_minor": 2
}
