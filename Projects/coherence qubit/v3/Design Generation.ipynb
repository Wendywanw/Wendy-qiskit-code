{
 "cells": [
  {
   "cell_type": "code",
   "execution_count": 1,
   "metadata": {},
   "outputs": [],
   "source": [
    "%reload_ext autoreload\n",
    "%autoreload 2\n",
    "\n",
    "import os\n",
    "import sys\n",
    "import yaml\n",
    "\n",
    "# Get notebook directory path\n",
    "notebook_dir = os.getcwd()\n",
    "\n",
    "# Go up two levels \n",
    "two_levels_up = os.path.dirname(os.path.dirname(os.path.dirname(notebook_dir)))\n",
    "\n",
    "# Add to Python path\n",
    "sys.path.append(two_levels_up)\n",
    "\n",
    "\n",
    "from components.junction.bandaged_dolan import DolanJunctionBandage\n",
    "from components.qubit.houcklab_qubit import DiffTransmonRounded\n",
    "from components.tm.CoupledLineTee import CoupledLineTee\n",
    "import analysis.Transmon_specifications as transmon\n",
    "from analysis.dr_calc import TransmonQubit,ReadoutResonator,DispersiveReadout\n",
    "\n",
    "import warnings\n",
    "\n",
    "import shapely\n",
    "from shapely.errors import ShapelyDeprecationWarning\n",
    "\n",
    "warnings.filterwarnings(\"ignore\", category=ShapelyDeprecationWarning)\n",
    "from collections import OrderedDict\n",
    "\n",
    "import Default_res_params as dp\n",
    "import matplotlib.pyplot as plt\n",
    "import numpy as np\n",
    "import pandas as pd\n",
    "import copy\n",
    "import os\n",
    "\n",
    "from qiskit_metal import Dict, Headings, MetalGUI, designs, draw\n"
   ]
  },
  {
   "cell_type": "code",
   "execution_count": 2,
   "metadata": {},
   "outputs": [
    {
     "name": "stderr",
     "output_type": "stream",
     "text": [
      "11:29AM 47s CRITICAL [_qt_message_handler]: line: 0, func: None(), file: None  WARNING: Populating font family aliases took 165 ms. Replace uses of missing font family \"Courier\" with one that exists to avoid this cost. \n",
      "\n"
     ]
    }
   ],
   "source": [
    "gui = MetalGUI(dp.design)\n",
    "design = dp.design\n",
    "design.overwrite_enabled = True\n",
    "\n",
    "qubit_layer = dp.qubit_layer\n",
    "junction_layer = dp.junction_layer\n",
    "ab_layer = dp.ab_layer\n",
    "ab_square_layer = dp.ab_square_layer\n",
    "junction_area_layer = dp.junction_area_layer\n",
    "junction_bandage_layer = dp.junction_bandage_layer    \n",
    "junction_uc_layer = dp.junction_uc_layer"
   ]
  },
  {
   "cell_type": "code",
   "execution_count": 3,
   "metadata": {},
   "outputs": [
    {
     "name": "stderr",
     "output_type": "stream",
     "text": [
      "2025-02-05 11:29:47.974 python[64305:5013538] +[IMKClient subclass]: chose IMKClient_Modern\n",
      "2025-02-05 11:29:47.974 python[64305:5013538] +[IMKInputSession subclass]: chose IMKInputSession_Modern\n"
     ]
    }
   ],
   "source": [
    "import json\n",
    "from qiskit_metal import Dict\n",
    "from typing import Union, Any\n",
    "\n",
    "def dict_to_lists(input_dict: dict, num_repeats: int) -> dict:\n",
    "    \"\"\"Convert nested dictionary values to lists\"\"\"\n",
    "    if isinstance(input_dict, dict):\n",
    "        return {k: dict_to_lists(v, num_repeats) for k, v in input_dict.items()}\n",
    "    elif isinstance(input_dict, (list, tuple)):\n",
    "        return [dict_to_lists(item, num_repeats) for item in input_dict]\n",
    "    else:\n",
    "        return [input_dict] * num_repeats\n",
    "\n",
    "def save_config(data: dict, filepath: str) -> None:\n",
    "    \"\"\"Save configuration to JSON file\"\"\"\n",
    "    with open(filepath, 'w') as f:\n",
    "        json.dump(data, f, indent=2)\n",
    "\n",
    "def load_config(filepath: str, index: int = None) -> Dict:\n",
    "    \"\"\"Load configuration from JSON file\"\"\"\n",
    "    with open(filepath, 'r') as f:\n",
    "        data = json.load(f)\n",
    "    if index is not None:\n",
    "        data = extract_index(data, index)\n",
    "    return Dict(data)\n",
    "\n",
    "def extract_index(data: dict, index: int) -> dict:\n",
    "    \"\"\"Extract specific index from nested lists\"\"\"\n",
    "    if isinstance(data, dict):\n",
    "        return {k: extract_index(v, index) for k, v in data.items()}\n",
    "    elif isinstance(data, list):\n",
    "        return data[index]\n",
    "    return data\n",
    "\n",
    "def update_nested(data: dict, key_path: str, value: Any, index: int = None) -> dict:\n",
    "    \"\"\"Update nested dictionary at path\"\"\"\n",
    "    keys = key_path.split('.')\n",
    "    current = data\n",
    "    for key in keys[:-1]:\n",
    "        current = current.setdefault(key, {})\n",
    "    \n",
    "    if index is not None:\n",
    "        if not isinstance(current[keys[-1]], list):\n",
    "            current[keys[-1]] = [current[keys[-1]]] * 3\n",
    "        current[keys[-1]][index] = value\n",
    "    else:\n",
    "        current[keys[-1]] = value\n",
    "    return data\n",
    "\n",
    "def update_config(json_file: str, updates: dict, qubit_index: int = None) -> Dict:\n",
    "    \"\"\"Update JSON configuration\"\"\"\n",
    "    config = load_config(json_file)\n",
    "    for path, value in updates.items():\n",
    "        config = update_nested(config, path, value, qubit_index)\n",
    "    save_config(config, json_file)\n",
    "    return Dict(config)\n"
   ]
  },
  {
   "cell_type": "markdown",
   "metadata": {},
   "source": [
    "## Calculate Qubit Params"
   ]
  },
  {
   "cell_type": "code",
   "execution_count": 4,
   "metadata": {},
   "outputs": [],
   "source": [
    "import astropy.units as u\n",
    "import astropy.constants as c\n",
    "import scipy.optimize as optimize\n",
    "\n",
    "# define constants for LL designs\n",
    "sub_t = 350*u.um #substrate thickness (Si in this case)\n",
    "metal_t = 100*u.nm #Deposited metal thickness (Al)\n",
    "Sc = 67*u.fF/(u.um)**2 #JJ specific capacitance\n",
    "epsilon = 11.45\n",
    "W_jj = 200*u.nm #junction width\n",
    "Z0 = 50*u.Ohm #characteristic impedance\n",
    "import qiskit_metal.analyses as analyses"
   ]
  },
  {
   "cell_type": "code",
   "execution_count": 5,
   "metadata": {},
   "outputs": [],
   "source": [
    "freq = 6*u.GHz.si\n",
    "line_width = 15*u.um\n",
    "line_gap = 8.30*u.um"
   ]
  },
  {
   "cell_type": "markdown",
   "metadata": {},
   "source": [
    "Optimal pin-gap ratio for resonator and feedlines"
   ]
  },
  {
   "cell_type": "markdown",
   "metadata": {},
   "source": [
    "### dispersive readout function"
   ]
  },
  {
   "cell_type": "code",
   "execution_count": 6,
   "metadata": {},
   "outputs": [
    {
     "name": "stdout",
     "output_type": "stream",
     "text": [
      "Optimal inductance L: 12.7222823033304 nH\n"
     ]
    }
   ],
   "source": [
    "qubit = TransmonQubit(4.3*u.GHz, ratio = 65)\n",
    "res = ReadoutResonator(5.174*u.GHz, short_on_one_end = False)\n",
    "dr = DispersiveReadout(qubit,res,5*u.ms)"
   ]
  },
  {
   "cell_type": "markdown",
   "metadata": {},
   "source": []
  },
  {
   "cell_type": "code",
   "execution_count": 7,
   "metadata": {},
   "outputs": [],
   "source": [
    "# raise Exception('stop!')"
   ]
  },
  {
   "cell_type": "markdown",
   "metadata": {},
   "source": [
    "# Write design"
   ]
  },
  {
   "cell_type": "markdown",
   "metadata": {},
   "source": [
    "Global Variables"
   ]
  },
  {
   "cell_type": "code",
   "execution_count": 8,
   "metadata": {},
   "outputs": [],
   "source": [
    "design_name = 'SiQb01'\n",
    "wafer_name = 'QW'\n",
    "jc_offset = 0.0\n",
    "jj_size_offset = -65*u.nm\n",
    "Jc = 0.2*u.uA/u.um**2\n",
    "jc_calc = Jc*(1+jc_offset)\n",
    "overlap = 250*u.nm\n",
    "dir_string = f'./{design_name}_Jc{Jc.value}_overlap{overlap.value}nm_offset{jj_size_offset.value}nm'\n",
    "os.makedirs(dir_string, exist_ok=True)\n",
    "jj_string = f'JJ_{design_name}_Jc{Jc.value}_offset{jc_offset}_overlap{overlap.value}nm_offset{jj_size_offset.value}nm'"
   ]
  },
  {
   "cell_type": "code",
   "execution_count": 9,
   "metadata": {},
   "outputs": [],
   "source": [
    "from qiskit_metal.qlibrary.tlines.mixed_path import RouteMixed\n",
    "from qiskit_metal.qlibrary.tlines.straight_path import RouteStraight\n",
    "\n",
    "from qiskit_metal.qlibrary.tlines.anchored_path import RouteAnchors\n",
    "from qiskit_metal.qlibrary.tlines.meandered import RouteMeander\n",
    "from qiskit_metal.qlibrary.couplers.coupled_line_tee import CoupledLineTee\n",
    "from components.tm.LaunchpadWirebondCustom import LaunchpadWirebondCustom\n",
    "\n",
    "\n",
    "from qiskit_metal.qlibrary.lumped.cap_n_interdigital import CapNInterdigital\n",
    "\n",
    "\n",
    "from qiskit_metal.qlibrary.terminations.launchpad_wb_coupled import LaunchpadWirebondCoupled"
   ]
  },
  {
   "cell_type": "markdown",
   "metadata": {},
   "source": [
    "## Wirebond Pads"
   ]
  },
  {
   "cell_type": "markdown",
   "metadata": {},
   "source": [
    "### Qubit default param "
   ]
  },
  {
   "cell_type": "code",
   "execution_count": 10,
   "metadata": {},
   "outputs": [],
   "source": [
    "Wirebond_opt = Dict(trace_width=design.variables['trace_width'],\n",
    "                           trace_gap=design.variables['trace_gap'],\n",
    "                           lead_length='40.5um',\n",
    "                           pad_width='500um',\n",
    "                           pad_height='300um',\n",
    "                           pad_gap='100um',\n",
    "                           taper_height='100um',\n",
    "                           layer = str(qubit_layer),\n",
    "                           pin_space = '200um')\n",
    "\n",
    "Wirebond_opt['pos_x'] = '-2450um'\n",
    "Wirebond_opt['pos_y'] = '2100um'\n",
    "Wirebond_opt['orientation'] = '270'\n",
    "\n",
    "wb_left = LaunchpadWirebondCustom(design, 'wb_left', options = Wirebond_opt)\n",
    "Wirebond_opt['pos_x'] = '2450um'\n",
    "wb_right = LaunchpadWirebondCustom(design, 'wb_right', options = Wirebond_opt)\n",
    "gui.rebuild()"
   ]
  },
  {
   "cell_type": "code",
   "execution_count": 11,
   "metadata": {},
   "outputs": [],
   "source": [
    "wb_json_path = f'{dir_string}/Wirebond_pad {design_name}.json'\n",
    "options = wb_left.options\n",
    "num_wb = 2\n",
    "config = dict_to_lists(options, num_wb)\n",
    "save_config(config, wb_json_path)"
   ]
  },
  {
   "cell_type": "markdown",
   "metadata": {},
   "source": [
    "## Tee"
   ]
  },
  {
   "cell_type": "code",
   "execution_count": 12,
   "metadata": {},
   "outputs": [],
   "source": [
    "TQ_options = dict(coupling_length='400 um + 90um',\n",
    "                prime_width = design.variables['trace_width'],\n",
    "               prime_gap = design.variables['trace_gap'],\n",
    "               second_width = design.variables['trace_width'],\n",
    "               second_gap = design.variables['trace_gap'],\n",
    "               down_length = '150um',\n",
    "               coupling_space = '5um',\n",
    "               fillet = '90um',\n",
    "               open_termination=True,\n",
    "               hfss_wire_bonds = False,\n",
    "               q3d_wire_bonds = False,\n",
    "               pos_x = '-1800um',\n",
    "               pos_y = '1800um', \n",
    "               mirror = True,\n",
    "               layer = 5)\n",
    "tee3 = CoupledLineTee(design,'tee3',options = TQ_options)\n",
    "gui.rebuild()"
   ]
  },
  {
   "cell_type": "code",
   "execution_count": 13,
   "metadata": {},
   "outputs": [],
   "source": [
    "tee_json_path = f'{dir_string}/CoupledLineTee {design_name}.json'\n",
    "options = tee3.default_options\n",
    "num_wb = 3\n",
    "config = dict_to_lists(options, num_wb)\n",
    "save_config(config, tee_json_path)"
   ]
  },
  {
   "cell_type": "code",
   "execution_count": 14,
   "metadata": {},
   "outputs": [],
   "source": [
    "TQ_options = dict(coupling_length='400 um + 90um',\n",
    "                prime_width = design.variables['trace_width'],\n",
    "               prime_gap = design.variables['trace_gap'],\n",
    "               second_width = design.variables['trace_width'],\n",
    "               second_gap = design.variables['trace_gap'],\n",
    "               down_length = '150um',\n",
    "               coupling_space = '5um',\n",
    "               fillet = '90um',\n",
    "               open_termination=True,\n",
    "               hfss_wire_bonds = False,\n",
    "               q3d_wire_bonds = False,\n",
    "               pos_x = '1850um',\n",
    "               pos_y = '1800um', \n",
    "               mirror = False,\n",
    "               layer = 5)\n",
    "tee2 = CoupledLineTee(design,'tee2',options = TQ_options)\n",
    "gui.rebuild()"
   ]
  },
  {
   "cell_type": "code",
   "execution_count": 15,
   "metadata": {},
   "outputs": [],
   "source": [
    "TQ_options = dict(coupling_length='400 um + 90 um',\n",
    "                prime_width = design.variables['trace_width'],\n",
    "               prime_gap = design.variables['trace_gap'],\n",
    "               second_width = design.variables['trace_width'],\n",
    "               second_gap = design.variables['trace_gap'],\n",
    "               down_length = '150um',\n",
    "               coupling_space = '5um',\n",
    "               fillet = '90um',\n",
    "               open_termination=True,\n",
    "               hfss_wire_bonds = False,\n",
    "               q3d_wire_bonds = False,\n",
    "               pos_x = '1200um',\n",
    "               pos_y = '1800um', \n",
    "               mirror = False,\n",
    "               layer= 5)\n",
    "tee1 = CoupledLineTee(design,'tee1',options = TQ_options)\n",
    "gui.rebuild()"
   ]
  },
  {
   "cell_type": "markdown",
   "metadata": {},
   "source": [
    "## Qubit"
   ]
  },
  {
   "cell_type": "code",
   "execution_count": 16,
   "metadata": {},
   "outputs": [
    {
     "name": "stdout",
     "output_type": "stream",
     "text": [
      "Optimal inductance L: 13.676453476080171 nH\n",
      "Optimal inductance L: 17.095566845100272 nH\n",
      "Optimal inductance L: 11.397044563400145 nH\n"
     ]
    }
   ],
   "source": [
    "w = '400um'\n",
    "qubit_q1 = TransmonQubit(4*u.GHz, ratio = 65)\n",
    "default_options_q1 = {'cut_l': '600um+'+w+'+'+w,\n",
    " 'cut_h': '1000um',\n",
    " 'gap': '70um',\n",
    " 'w': w,\n",
    " 'l': '550um',\n",
    " 'r': w+'/2',\n",
    " 'cpw_l': '100um',\n",
    " 'jj_gap': '3um',\n",
    " 'jj_contact_size': '3um',\n",
    " 'coupling_gap': '30um',\n",
    " 'JJ_cutout_w': '70um',\n",
    " 'JJ_cutout_h': '70um',\n",
    " 'JJ_cutout_r': '150um',\n",
    " 'JJ_c_contact_l': '40um',\n",
    " 'JJ_c_contact_r': '2.5um',\n",
    " 'JJ_c_contact_w': '10um',\n",
    " 'coupling_d': '80um',\n",
    " 'coupling_pad_w': '100um',\n",
    "'coupling_stub_w': '90um',\n",
    " 'coupling_r': '40um',\n",
    " 'cpw_pin': design.variables['trace_width'],\n",
    " 'chip': 'main',\n",
    " 'resolution': '10',\n",
    " 'junction': 'False',\n",
    " 'orientation': '0',\n",
    " 'JJ_c_contact_shortl': '10um',\n",
    " 'istunnel': 'False',\n",
    " 'layer' : '5',\n",
    " 'coupling_arm':'False', \n",
    "'jj_taper_r': '30um'}\n",
    "qubit_q2 = TransmonQubit(3.2*u.GHz, ratio = 65)\n",
    "default_options_q2 = {'cut_l': '600um+'+w+\"+\"+w,\n",
    " 'cut_h': '1100um',\n",
    " 'gap': '70um',\n",
    " 'jj_gap': '3um',\n",
    " 'jj_contact_size': '3um',\n",
    " 'w': w,\n",
    " 'l': '880um',\n",
    " 'r': w+'/2',\n",
    " 'cpw_l': '150um',\n",
    " 'coupling_gap': '30um',\n",
    " 'JJ_cutout_w': '70um',\n",
    " 'JJ_cutout_h': '70um',\n",
    " 'JJ_cutout_r': '150um',\n",
    " 'JJ_c_contact_l': '40um',\n",
    " 'JJ_c_contact_r': '2.5um',\n",
    " 'JJ_c_contact_w': '10um',\n",
    " 'coupling_d': '70um',\n",
    " 'coupling_pad_w': '200um',\n",
    "'coupling_stub_w': '70um',\n",
    " 'coupling_r': '40um',\n",
    " 'cpw_pin': design.variables['trace_width'],\n",
    " 'chip': 'main',\n",
    " 'resolution': '10',\n",
    " 'junction': 'False',\n",
    " 'orientation': '0',\n",
    " 'JJ_c_contact_shortl': '10um',\n",
    " 'istunnel': 'False',\n",
    " 'coupling_gd': '650um',\n",
    " 'layer' : '5',\n",
    "'coupling_arm':'False', \n",
    "'jj_taper_r': '30um'}\n",
    "\n",
    "w3 = '250um'\n",
    "qubit_q3 = TransmonQubit(4.8*u.GHz, ratio = 65)\n",
    "default_options_q3 = {'cut_l': '450um+'+w3+'+'+w3,\n",
    " 'cut_h': '650um',\n",
    " 'gap': '70um',\n",
    " 'jj_gap': '3um',\n",
    " 'jj_contact_size': '3um',\n",
    " 'w': w3,\n",
    " 'l': '510um',\n",
    " 'r': w3+'/2',\n",
    " 'cpw_l': '100um',\n",
    " 'coupling_gap': '20um',\n",
    " 'JJ_cutout_w': '70um',\n",
    " 'JJ_cutout_h': '70um',\n",
    " 'JJ_cutout_r': '150um',\n",
    " 'JJ_c_contact_l': '40um',\n",
    " 'JJ_c_contact_r': '2.5um',\n",
    " 'JJ_c_contact_w': '10um',\n",
    " 'coupling_d': '70um',\n",
    " 'coupling_pad_w': '100um',\n",
    "'coupling_stub_w': '90um',\n",
    " 'coupling_r': '40um',\n",
    " 'cpw_pin': design.variables['trace_width'],\n",
    " 'chip': 'main',\n",
    " 'resolution': '10',\n",
    " 'junction': 'False',\n",
    " 'orientation': '0',\n",
    " 'JJ_c_contact_shortl': '10um',\n",
    " 'istunnel': 'False',\n",
    " 'layer' : '5', \n",
    " 'coupling_arm':'False', \n",
    "'jj_taper_r': '30um'}"
   ]
  },
  {
   "cell_type": "code",
   "execution_count": 28,
   "metadata": {},
   "outputs": [],
   "source": [
    "\n",
    "\n"
   ]
  },
  {
   "cell_type": "code",
   "execution_count": 17,
   "metadata": {},
   "outputs": [],
   "source": [
    "default_options_q3['pos_x'] = '-500um'\n",
    "default_options_q3['pos_y'] = '1000um'\n",
    "default_options_q3['orientation'] = '0'\n",
    "q1 = DiffTransmonRounded(design,'Q3',options = default_options_q3)\n",
    "\n",
    "gui.rebuild()"
   ]
  },
  {
   "cell_type": "code",
   "execution_count": 18,
   "metadata": {},
   "outputs": [],
   "source": [
    "qb_json_path = f'{dir_string}/DiffTransmonRounded {design_name}.json'\n",
    "options = q1.default_options\n",
    "num_qb = 3\n",
    "config = dict_to_lists(options, num_wb)\n",
    "save_config(config, qb_json_path)"
   ]
  },
  {
   "cell_type": "code",
   "execution_count": 19,
   "metadata": {},
   "outputs": [],
   "source": [
    "default_options_q2['pos_x'] = '-1000um'\n",
    "default_options_q2['pos_y'] = '-2000um'\n",
    "default_options_q2['orientation'] = '180'\n",
    "q2 = DiffTransmonRounded(design,'Q2',options = default_options_q2)\n",
    "gui.rebuild()"
   ]
  },
  {
   "cell_type": "code",
   "execution_count": 20,
   "metadata": {},
   "outputs": [],
   "source": [
    "default_options_q1['pos_x'] = '-900um'\n",
    "default_options_q1['pos_y'] = '-700um'\n",
    "default_options_q1['orientation'] = '180'\n",
    "q3 = DiffTransmonRounded(design,'Q1',options = default_options_q1)\n",
    "gui.rebuild()"
   ]
  },
  {
   "cell_type": "markdown",
   "metadata": {},
   "source": [
    "## CPW"
   ]
  },
  {
   "cell_type": "markdown",
   "metadata": {},
   "source": [
    "### Resonator default"
   ]
  },
  {
   "cell_type": "code",
   "execution_count": 21,
   "metadata": {},
   "outputs": [],
   "source": [
    "res_default_ops = {'chip': 'main',\n",
    " 'layer': 5,\n",
    " 'pin_inputs': {'start_pin': {'component': 'Q3', 'pin': 'cpw_stub'},\n",
    "  'end_pin': {'component': 'tee1', 'pin': 'second_end'}},\n",
    " 'fillet': '90um',\n",
    " 'lead': {'start_straight': '300 um',\n",
    "  'end_straight': '200 um',\n",
    "  'start_jogged_extension': '',\n",
    "  'end_jogged_extension': ''},\n",
    " 'total_length': '0.009287107827128471 m-1000um',\n",
    " 'trace_width': '15 um',\n",
    " 'meander': {'spacing': '200um', 'asymmetry': '0um'},\n",
    " 'snap': 'true',\n",
    " 'prevent_short_edges': 'true',\n",
    " 'hfss_wire_bonds': False,\n",
    " 'q3d_wire_bonds': False,\n",
    " 'pin_width': '15 um',\n",
    " 'gap_width': '8.3 um',\n",
    " 'trace_gap': '8.3 um',\n",
    " '_actual_length': '8.287107827128471 mm'}"
   ]
  },
  {
   "cell_type": "code",
   "execution_count": 22,
   "metadata": {},
   "outputs": [],
   "source": [
    "res_1 = ReadoutResonator(6.5*u.GHz, short_on_one_end = False)"
   ]
  },
  {
   "cell_type": "code",
   "execution_count": 23,
   "metadata": {},
   "outputs": [],
   "source": [
    "route_options = dict(layer = 5,hfss_wire_bonds = False, \n",
    "                     fillet = '90um',\n",
    "                     total_length = f'{res_1.len}'+'-1000um',\n",
    "                     pin_inputs = dict(start_pin = dict(component = 'Q3', pin = 'cpw_stub'), \n",
    "                                                                end_pin = dict(component = 'tee3', pin = 'second_end')))\n",
    "route_options['pin_width'] = design.variables['trace_width']\n",
    "route_options['gap_width'] = design.variables['trace_gap']\n",
    "route_options['trace_width'] = design.variables['trace_width']\n",
    "route_options['trace_gap'] = design.variables['trace_gap']\n",
    "route_options['lead'] = dict(start_straight = '300 um', end_straight = '200 um')\n",
    "route_options['Target Frequency'] = (res_1.freq).to(u.GHz).value\n",
    "res3 = RouteMeander(design,name = 'res3',options = route_options)\n",
    "gui.rebuild()"
   ]
  },
  {
   "cell_type": "code",
   "execution_count": 24,
   "metadata": {},
   "outputs": [],
   "source": [
    "rr_json_path = f'{dir_string}/RouteMeander {design_name}.json'\n",
    "options = res3.default_options\n",
    "num_qb = 3\n",
    "config = dict_to_lists(options, num_wb)\n",
    "save_config(config, rr_json_path)"
   ]
  },
  {
   "cell_type": "code",
   "execution_count": 25,
   "metadata": {},
   "outputs": [],
   "source": [
    "res_2 = ReadoutResonator(5.5*u.GHz, short_on_one_end = False)"
   ]
  },
  {
   "cell_type": "code",
   "execution_count": 26,
   "metadata": {},
   "outputs": [],
   "source": [
    "route_options = dict(layer = 5,hfss_wire_bonds = False, \n",
    "                     fillet = '80um',\n",
    "                     total_length = f'{res_2.len}'+ '-700um',\n",
    "                     pin_inputs = dict(start_pin = dict(component = 'Q2', pin = 'cpw_stub'), \n",
    "                                                                end_pin = dict(component = 'tee2', pin = 'second_end')))\n",
    "route_options['pin_width'] = design.variables['trace_width']\n",
    "route_options['gap_width'] = design.variables['trace_gap']\n",
    "route_options['trace_width'] = design.variables['trace_width']\n",
    "route_options['trace_gap'] = design.variables['trace_gap']\n",
    "route_options['lead'] = dict(start_straight = '2900 um', end_straight = '900 um')\n",
    "route_options['Target Frequency'] = (res_2.freq).to(u.GHz).value\n",
    "res2 = RouteMeander(design,name = 'res2',options = route_options)\n",
    "gui.rebuild()"
   ]
  },
  {
   "cell_type": "code",
   "execution_count": 27,
   "metadata": {},
   "outputs": [],
   "source": [
    "res_3 = ReadoutResonator(6*u.GHz, short_on_one_end = False)"
   ]
  },
  {
   "cell_type": "code",
   "execution_count": 28,
   "metadata": {},
   "outputs": [],
   "source": [
    "route_options = dict(layer = 5,hfss_wire_bonds = False, \n",
    "                     fillet = '90um',\n",
    "                     total_length = f'{res_3.len}'+ '-700um',\n",
    "                     pin_inputs = dict(start_pin = dict(component = 'Q1', pin = 'cpw_stub'), \n",
    "                                                                end_pin = dict(component = 'tee1', pin = 'second_end')))\n",
    "route_options['pin_width'] = design.variables['trace_width']\n",
    "route_options['gap_width'] = design.variables['trace_gap']\n",
    "route_options['trace_width'] = design.variables['trace_width']\n",
    "route_options['trace_gap'] = design.variables['trace_gap']\n",
    "route_options['lead'] = dict(start_straight = '2100 um', end_straight = '400 um')\n",
    "route_options['Target Frequency'] = (res_3.freq).to(u.GHz).value\n",
    "res1 = RouteMeander(design,name = 'res1',options = route_options)\n",
    "gui.rebuild()"
   ]
  },
  {
   "cell_type": "code",
   "execution_count": 29,
   "metadata": {},
   "outputs": [],
   "source": [
    "trans_ops = dp.trans_options"
   ]
  },
  {
   "cell_type": "code",
   "execution_count": 30,
   "metadata": {},
   "outputs": [],
   "source": [
    "trans_ops['pin_inputs'] = dict(start_pin = dict(component = 'wb_left', pin = 'tie'),end_pin = dict(component = 'tee3', pin = 'prime_start'))\n",
    "trans_ops['fillet'] = '100um'\n",
    "trans1 = RouteMixed(design,name = 'trans1',options = trans_ops)\n",
    "gui.rebuild()"
   ]
  },
  {
   "cell_type": "code",
   "execution_count": 31,
   "metadata": {},
   "outputs": [],
   "source": [
    "trans_ops['pin_inputs'] = dict(start_pin = dict(component = 'tee1', pin = 'prime_start'),end_pin = dict(component = 'tee3', pin = 'prime_end'))\n",
    "trans2 = RouteStraight(design,name = 'trans2',options = trans_ops)\n",
    "gui.rebuild()"
   ]
  },
  {
   "cell_type": "code",
   "execution_count": 32,
   "metadata": {},
   "outputs": [
    {
     "name": "stderr",
     "output_type": "stream",
     "text": [
      "11:29AM 51s WARNING [check_lengths]: For path table, component=trans3, key=trace has short segments that could cause issues with fillet. Values in (1-2)  are index(es) in shapely geometry.\n",
      "11:29AM 51s WARNING [check_lengths]: For path table, component=trans3, key=cut has short segments that could cause issues with fillet. Values in (1-2)  are index(es) in shapely geometry.\n",
      "11:29AM 51s WARNING [check_lengths]: For path table, component=trans3, key=trace has short segments that could cause issues with fillet. Values in (1-2)  are index(es) in shapely geometry.\n",
      "11:29AM 51s WARNING [check_lengths]: For path table, component=trans3, key=cut has short segments that could cause issues with fillet. Values in (1-2)  are index(es) in shapely geometry.\n"
     ]
    }
   ],
   "source": [
    "trans_ops['pin_inputs'] = dict(start_pin = dict(component = 'tee1', pin = 'prime_end'),end_pin = dict(component = 'tee2', pin = 'prime_start'))\n",
    "trans3 = RouteStraight(design,name = 'trans3',options = trans_ops)\n",
    "gui.rebuild()"
   ]
  },
  {
   "cell_type": "code",
   "execution_count": 33,
   "metadata": {},
   "outputs": [
    {
     "name": "stderr",
     "output_type": "stream",
     "text": [
      "11:29AM 51s WARNING [check_lengths]: For path table, component=trans3, key=trace has short segments that could cause issues with fillet. Values in (1-2)  are index(es) in shapely geometry.\n",
      "11:29AM 51s WARNING [check_lengths]: For path table, component=trans3, key=cut has short segments that could cause issues with fillet. Values in (1-2)  are index(es) in shapely geometry.\n"
     ]
    }
   ],
   "source": [
    "trans_ops['pin_inputs'] = dict(start_pin = dict(component = 'wb_right', pin = 'tie'),end_pin = dict(component = 'tee2', pin = 'prime_end'))\n",
    "trans_ops['fillet'] = '100um'\n",
    "trans4 = RouteMixed(design,name = 'trans4',options = trans_ops)\n",
    "gui.rebuild()"
   ]
  },
  {
   "cell_type": "markdown",
   "metadata": {},
   "source": [
    "## Junction probe pads"
   ]
  },
  {
   "cell_type": "code",
   "execution_count": 34,
   "metadata": {},
   "outputs": [],
   "source": [
    "from components.junction.bandaged_dolan import DolanJunctionBandage\n",
    "from components.misc.probe_pad import ProbePad\n",
    "from components.misc.text import Text_object"
   ]
  },
  {
   "cell_type": "markdown",
   "metadata": {},
   "source": [
    "### Junction default param"
   ]
  },
  {
   "cell_type": "code",
   "execution_count": 102,
   "metadata": {},
   "outputs": [],
   "source": []
  },
  {
   "cell_type": "code",
   "execution_count": 35,
   "metadata": {},
   "outputs": [],
   "source": [
    "maximum_jj_w = 500 #nm\n",
    "small_jj_length = 20#nm\n",
    "\n",
    "h_pocket = 300 #um\n",
    "w_pocket = 800\n",
    "\n",
    "\n",
    "\n",
    "\n",
    "\n",
    "dose_array_options = Dict(\n",
    "    pos_x = '0um', \n",
    "    pos_y = '0um',\n",
    "    w_pocket = f'{w_pocket:.0f} um',\n",
    "    h_pocket = f'{h_pocket:.0f} um',\n",
    "    w_pad = '300 um',\n",
    "    h_pad = '200 um',\n",
    "    pad_gap = '7 um',\n",
    "    orientation = '0',\n",
    "    layer = f'{qubit_layer}',\n",
    "    )\n",
    "\n",
    "text_options = Dict(\n",
    "        pos_x = '0um', \n",
    "        pos_y = '0um',\n",
    "        text = 'haha',\n",
    "        text_height = '20 mm',\n",
    "        orientation = '0',\n",
    "        layer = f'{qubit_layer}',\n",
    "        subtract = 'False'\n",
    "        )\n",
    "\n",
    "\n",
    "\n",
    "JJ_options = Dict(\n",
    "    pos_x = '0um',\n",
    "    pos_y = '0um',\n",
    "    w_pad_pin = '2 um',\n",
    "    maximum_jj_width = '1100nm',\n",
    "    small_jj_length = '400nm',\n",
    "    w_pad_u = '3 um',\n",
    "    d_pin = '250 nm',\n",
    "    d_u = '1050 nm',\n",
    "    total_length = '1 um',\n",
    "    w_top_pin = '1050 nm',\n",
    "    w_top_u = '1050 nm',\n",
    "    w_bot_pin = '1050 nm',\n",
    "    w_bot_u = '1050 nm',\n",
    "    top_bot_offset = '0 nm' ,\n",
    "    jj_extra = '600nm',\n",
    "    jj_gap = '0.2um',\n",
    "    fillet = '30 nm',\n",
    "    # jj_gap_actual = '0.2um',\n",
    "    # Lj = '10',\n",
    "    resolution = '5',\n",
    "    bandage = 'True',\n",
    "    bandage_h = '20 um',\n",
    "    bandage_w = '20 um',\n",
    "    bandage_layer = '299',\n",
    "    bandage_uc_layer = '699',\n",
    "    bandage_loc = '0.5um',\n",
    "    # Jc = '0.1',\n",
    "    orientation = '270',\n",
    "    pin_layer = f'{junction_layer}',\n",
    "    gap_layer = f'{junction_area_layer}',\n",
    "    area_layer_opt = 'False',\n",
    "    jj_orientation = '0',\n",
    "    tapered = 'False',\n",
    "    taper_r = '10um',\n",
    "    uc_override_band = '1um',)\n",
    "\n",
    "JJ_options1 = JJ_options.copy()\n",
    "JJ_options1['d_pin'] = '10um'\n",
    "JJ_options1['d_u'] = '12um'\n",
    "JJ_options1['w_pad_pin'] = '5um'\n",
    "JJ_options1['w_pad_u'] = '6um'\n",
    "JJ_options1['total_length'] = '30um'\n",
    "JJ_options1['jj_extra'] = '0um'\n",
    "JJ_options1['small_jj_length'] = '600nm'\n",
    "\n",
    "\n",
    "def junction_probe_pad(x,y,jj_w,jj_gap, name, dose_array_options = dose_array_options, JJ_options = JJ_options):\n",
    "\n",
    "    dose_array_options['pos_x'] = x\n",
    "    dose_array_options['pos_y'] = y\n",
    "\n",
    "    JJ_options['pos_x'] = x\n",
    "    JJ_options['pos_y'] = y\n",
    "    JJ_options['w_bot_pin'] = jj_w\n",
    "    JJ_options['jj_gap'] = jj_gap\n",
    "\n",
    "    dose_array = ProbePad(design, name+'ProbePad', dose_array_options)\n",
    "    dolan = DolanJunctionBandage(design,name+'JJ',JJ_options)\n",
    "    text_options['pos_x'] = x+f'-{w_pocket/2}um'\n",
    "    text_options['pos_y'] = y #+ f'-{w_pocket/2}um'\n",
    "    text_options['text'] = name\n",
    "    text_options['text_height'] = '50um'\n",
    "    text_options['orientation'] = '0'\n",
    "    Text_object(design, name+'text',text_options)\n",
    "\n",
    "\n"
   ]
  },
  {
   "cell_type": "markdown",
   "metadata": {},
   "source": [
    "## Junction"
   ]
  },
  {
   "cell_type": "code",
   "execution_count": 36,
   "metadata": {},
   "outputs": [],
   "source": [
    "import analysis.Transmon_specifications as jj"
   ]
  },
  {
   "cell_type": "markdown",
   "metadata": {},
   "source": [
    "### Parameters"
   ]
  },
  {
   "cell_type": "code",
   "execution_count": 37,
   "metadata": {},
   "outputs": [],
   "source": [
    "\n",
    "\n",
    "jj1_len = (jj.find_junction_area(qubit_q1.L, Jc = jc_calc)/overlap).to(u.nm)\n",
    "\n",
    "\n",
    "jj2_len = (jj.find_junction_area(qubit_q2.L, Jc = jc_calc)/overlap).to(u.nm)\n",
    "\n",
    "\n",
    "jj3_len = (jj.find_junction_area(qubit_q3.L, Jc = jc_calc)/overlap).to(u.nm)\n"
   ]
  },
  {
   "cell_type": "code",
   "execution_count": 38,
   "metadata": {},
   "outputs": [],
   "source": [
    "d_pin = 15\n",
    "u_pin = 0.95\n",
    "JJ_options1 = JJ_options.copy()\n",
    "JJ_options1['d_pin'] = f'{d_pin}um'\n",
    "JJ_options1['d_u'] = f'{d_pin+2*u_pin*2}um'\n",
    "JJ_options1['w_pad_pin'] = '2.5um'\n",
    "JJ_options1['w_pad_u'] = '3um'\n",
    "JJ_options1['total_length'] = f'{q1.options.jj_gap}+{d_pin}um+{u_pin*2}um'\n",
    "JJ_options1['jj_extra'] = '0um'\n",
    "JJ_options1['small_jj_length'] = '600nm'\n",
    "\n",
    "JJ_options1['bandage_h'] = '30um'\n",
    "JJ_options1['bandage_w'] = '5um'\n",
    "\n",
    "JJ_options1['bandage_loc'] = '7um'"
   ]
  },
  {
   "cell_type": "code",
   "execution_count": 39,
   "metadata": {},
   "outputs": [],
   "source": [
    "def junction_on_qubit(x,y,jj_w,jj_gap,gap, name,  JJ_options = JJ_options):\n",
    "    JJ_options['pos_x'] = x\n",
    "    JJ_options['pos_y'] = y\n",
    "    JJ_options['w_bot_pin'] = jj_w\n",
    "    JJ_options['jj_gap'] = jj_gap\n",
    "    JJ_options['total_length'] = gap\n",
    "    dolan = DolanJunctionBandage(design,name+'JJ',JJ_options)\n",
    "    return dolan\n"
   ]
  },
  {
   "cell_type": "code",
   "execution_count": 40,
   "metadata": {},
   "outputs": [],
   "source": [
    "jjw = '200nm'"
   ]
  },
  {
   "cell_type": "markdown",
   "metadata": {},
   "source": [
    "### Junction on qubit"
   ]
  },
  {
   "cell_type": "code",
   "execution_count": 41,
   "metadata": {},
   "outputs": [],
   "source": [
    "from components.misc.rounded_rectangle import rounded_rec as rec2"
   ]
  },
  {
   "cell_type": "code",
   "execution_count": 42,
   "metadata": {},
   "outputs": [
    {
     "name": "stderr",
     "output_type": "stream",
     "text": [
      "11:29AM 52s WARNING [check_lengths]: For path table, component=trans3, key=trace has short segments that could cause issues with fillet. Values in (1-2)  are index(es) in shapely geometry.\n",
      "11:29AM 52s WARNING [check_lengths]: For path table, component=trans3, key=cut has short segments that could cause issues with fillet. Values in (1-2)  are index(es) in shapely geometry.\n"
     ]
    }
   ],
   "source": [
    "dolanq1 = junction_on_qubit(q1.get_jj_location()[0],\n",
    "                  q1.get_jj_location()[1],\n",
    "                  f'{jj1_len.to(u.nm).value:.2f}nm',\n",
    "                  jjw,\n",
    "                  q1.options['jj_gap']+'+'+JJ_options1['d_u']+'*2',\n",
    "                  'q1',\n",
    "                  JJ_options = JJ_options1)\n",
    "dolanq2 = junction_on_qubit(q2.get_jj_location()[0],\n",
    "                  q2.get_jj_location()[1],\n",
    "                  f'{jj2_len.to(u.nm).value:.2f}nm',\n",
    "                  jjw,\n",
    "                  q2.options['jj_gap']+'+'+JJ_options1['d_u']+'*2',\n",
    "                  'q2',\n",
    "                  JJ_options = JJ_options1)\n",
    "dolanq3 = junction_on_qubit(q3.get_jj_location()[0],\n",
    "                  q3.get_jj_location()[1],\n",
    "                  f'{jj3_len.to(u.nm).value:.2f}nm',\n",
    "                  jjw,\n",
    "                  q3.options['jj_gap']+'+'+JJ_options1['d_u']+'*2',\n",
    "                  'q3',\n",
    "                  JJ_options = JJ_options1)\n",
    "gui.rebuild()"
   ]
  },
  {
   "cell_type": "code",
   "execution_count": 43,
   "metadata": {},
   "outputs": [],
   "source": [
    "jj_json_path = f'{dir_string}/{jj_string}.json'\n",
    "options = dolanq3.default_options\n",
    "num_qb = 3\n",
    "config = dict_to_lists(options, num_wb)\n",
    "save_config(config, jj_json_path)"
   ]
  },
  {
   "cell_type": "markdown",
   "metadata": {},
   "source": [
    "### Junction Probe Pads"
   ]
  },
  {
   "cell_type": "code",
   "execution_count": 44,
   "metadata": {},
   "outputs": [],
   "source": [
    "chip_size = 6800\n",
    "max_xy = chip_size/2\n",
    "JJ_options['small_jj_length'] = '600nm'\n",
    "\n",
    "junction_probe_pad(f'-{-max_xy+w_pocket/2}um',f'{-max_xy+h_pocket/2}um',\n",
    "                   f'{jj1_len.to(u.nm).value:.2f}nm',\n",
    "                   jjw,\n",
    "                   '1A',dose_array_options = dose_array_options, JJ_options = JJ_options1)\n",
    "junction_probe_pad(f'-{-max_xy+w_pocket/2}um',f'{-max_xy+h_pocket/2+h_pocket*1.1}um',\n",
    "                   f'{jj1_len.to(u.nm).value:.2f}nm',\n",
    "                   jjw,\n",
    "                   '1B',dose_array_options = dose_array_options, JJ_options = JJ_options1)\n",
    "junction_probe_pad(f'-{-max_xy+w_pocket/2}um',f'{-max_xy+h_pocket/2+h_pocket*2.2}um',\n",
    "                   f'{jj2_len.to(u.nm).value:.2f}nm',\n",
    "                   jjw,\n",
    "                   '2A',dose_array_options = dose_array_options, JJ_options = JJ_options1)\n",
    "\n",
    "junction_probe_pad(f'-{-max_xy+w_pocket/2}um',f'{-max_xy+h_pocket/2+ h_pocket*3.3}um',\n",
    "                   f'{jj2_len.to(u.nm).value:.2f}nm',\n",
    "                   jjw,\n",
    "                   '2B',dose_array_options = dose_array_options, JJ_options = JJ_options1)\n",
    "junction_probe_pad(f'-{-max_xy+w_pocket/2}um',f'{-max_xy+h_pocket/2+h_pocket*4.4}um',\n",
    "                   f'{jj3_len.to(u.nm).value:.2f}nm',\n",
    "                   jjw,\n",
    "                   '3A',dose_array_options = dose_array_options, JJ_options = JJ_options1)\n",
    "junction_probe_pad(f'-{-max_xy+w_pocket/2}um',f'{-max_xy+h_pocket/2+h_pocket*5.5}um',\n",
    "                   f'{jj3_len.to(u.nm).value:.2f}nm',\n",
    "                   jjw,\n",
    "                   '3B',dose_array_options = dose_array_options, JJ_options = JJ_options1)"
   ]
  },
  {
   "cell_type": "code",
   "execution_count": 45,
   "metadata": {},
   "outputs": [
    {
     "name": "stderr",
     "output_type": "stream",
     "text": [
      "11:29AM 53s WARNING [check_lengths]: For path table, component=trans3, key=trace has short segments that could cause issues with fillet. Values in (1-2)  are index(es) in shapely geometry.\n",
      "11:29AM 53s WARNING [check_lengths]: For path table, component=trans3, key=cut has short segments that could cause issues with fillet. Values in (1-2)  are index(es) in shapely geometry.\n"
     ]
    }
   ],
   "source": [
    "gui.rebuild()"
   ]
  },
  {
   "cell_type": "markdown",
   "metadata": {},
   "source": [
    "# GDS"
   ]
  },
  {
   "cell_type": "code",
   "execution_count": 46,
   "metadata": {},
   "outputs": [],
   "source": [
    "# design.chips.main.size['size_x'] = '10mm'\n",
    "# design.chips.main.size['size_y'] = '10mm'\n",
    "# gui.rebuild()\n",
    "a_gds = design.renderers.gds"
   ]
  },
  {
   "cell_type": "code",
   "execution_count": 47,
   "metadata": {},
   "outputs": [],
   "source": [
    "qubit_layer = 5\n",
    "junction_layer = 20\n",
    "ab_layer = 31\n",
    "ab_square_layer = 30\n",
    "junction_area_layer = 60\n",
    "junction_bandage_layer = 299    \n",
    "junction_uc_layer = 699"
   ]
  },
  {
   "cell_type": "code",
   "execution_count": 48,
   "metadata": {},
   "outputs": [],
   "source": [
    "a_gds.options['max_points'] = 3000\n",
    "a_gds.options['fabricate'] = True"
   ]
  },
  {
   "cell_type": "code",
   "execution_count": 49,
   "metadata": {},
   "outputs": [],
   "source": [
    "a_gds.options['cheese']['view_in_file']['main'][qubit_layer] = True\n",
    "a_gds.options['no_cheese']['view_in_file']['main'][qubit_layer] = True\n",
    "a_gds.options['cheese']['view_in_file']['main'][junction_layer] = False\n",
    "a_gds.options['no_cheese']['view_in_file']['main'][junction_layer] = False\n",
    "a_gds.options['cheese']['view_in_file']['main'][ab_layer] = False\n",
    "a_gds.options['no_cheese']['view_in_file']['main'][ab_layer] = False\n",
    "a_gds.options['cheese']['view_in_file']['main'][ab_square_layer] = False\n",
    "a_gds.options['no_cheese']['view_in_file']['main'][ab_square_layer] = True\n",
    "a_gds.options['cheese']['view_in_file']['main'][1] = False\n",
    "a_gds.options['no_cheese']['view_in_file']['main'][1] = False"
   ]
  },
  {
   "cell_type": "code",
   "execution_count": 50,
   "metadata": {},
   "outputs": [],
   "source": [
    "a_gds.options.tolerance = '0.0000005'\n",
    "a_gds.options.precision = '0.0000000005'"
   ]
  },
  {
   "cell_type": "code",
   "execution_count": 51,
   "metadata": {},
   "outputs": [],
   "source": [
    "a_gds.options['negative_mask'] = dict(main= [qubit_layer])"
   ]
  },
  {
   "cell_type": "code",
   "execution_count": 52,
   "metadata": {},
   "outputs": [],
   "source": [
    "a_gds.options.cheese.edge_nocheese = '150um'\n",
    "a_gds.options.no_cheese.buffer = '200um'\n",
    "a_gds.options.cheese.cheese_1_radius = '10um'\n",
    "a_gds.options.cheese.cheese_0_x = '10um'\n",
    "a_gds.options.cheese.cheese_0_y = '10um'"
   ]
  },
  {
   "cell_type": "code",
   "execution_count": 53,
   "metadata": {},
   "outputs": [
    {
     "name": "stderr",
     "output_type": "stream",
     "text": [
      "WARNING:py.warnings:FutureWarning: The frame.append method is deprecated and will be removed from pandas in a future version. Use pandas.concat instead.\n",
      " /Users/wendy/_Lib/qiskit-metal/qiskit_metal/renderers/renderer_gds/gds_renderer.py: 780\n"
     ]
    },
    {
     "name": "stderr",
     "output_type": "stream",
     "text": [
      "WARNING:py.warnings:FutureWarning: The frame.append method is deprecated and will be removed from pandas in a future version. Use pandas.concat instead.\n",
      " /Users/wendy/_Lib/qiskit-metal/qiskit_metal/renderers/renderer_gds/gds_renderer.py: 780\n",
      "11:29AM 53s WARNING [_qgeometry_to_gds]: Unexpected shapely object geometry.The variable qgeometry_element is <class 'numpy.float64'>, method can currently handle Polygon and FlexPath.\n",
      "11:29AM 53s WARNING [_qgeometry_to_gds]: Unexpected shapely object geometry.The variable qgeometry_element is <class 'numpy.float64'>, method can currently handle Polygon and FlexPath.\n",
      "11:29AM 53s WARNING [_qgeometry_to_gds]: Unexpected shapely object geometry.The variable qgeometry_element is <class 'numpy.float64'>, method can currently handle Polygon and FlexPath.\n",
      "11:29AM 53s WARNING [_qgeometry_to_gds]: Unexpected shapely object geometry.The variable qgeometry_element is <class 'numpy.float64'>, method can currently handle Polygon and FlexPath.\n",
      "11:29AM 54s WARNING [_import_junction_gds_file]: Not able to find file:\"../resources/Fake_Junctions.GDS\".  Not used to replace junction. Checked directory:\"/Users/wendy/Desktop/Wendy-qiskit-code/Projects/coherence qubit/resources\".\n",
      "11:29AM 54s WARNING [_cheese_buffer_maker]: The bounding box for no-cheese is outside of chip size.\n",
      "Bounding box for chip is (-3.5, -3.5, 3.5, 3.5).\n",
      "Bounding box with no_cheese buffer is (-3.0, -3.6, 3.6, 2.9).\n",
      "11:29AM 54s WARNING [_check_either_cheese]: layer=299 is not in chip=main either in no_cheese_view_in_file or cheese_view_in_file from self.options.\n",
      "11:29AM 54s WARNING [_check_either_cheese]: layer=699 is not in chip=main either in no_cheese_view_in_file or cheese_view_in_file from self.options.\n",
      "11:29AM 54s WARNING [_check_either_cheese]: layer=60 is not in chip=main either in no_cheese_view_in_file or cheese_view_in_file from self.options.\n"
     ]
    },
    {
     "data": {
      "text/plain": [
       "1"
      ]
     },
     "execution_count": 53,
     "metadata": {},
     "output_type": "execute_result"
    }
   ],
   "source": [
    "# gui.rebuild()\n",
    "\n",
    "for i,qubit in enumerate([q1, q2, q3]):\n",
    "    update_config(qb_json_path,qubit_index=i,updates = qubit.options)\n",
    "for i, res in enumerate([res1,res2,res3]):\n",
    "    update_config(rr_json_path,qubit_index=i,updates = res.options)\n",
    "for i, tee in enumerate([tee1,tee2,tee3]):\n",
    "    update_config(tee_json_path,qubit_index=i,updates = tee.options)\n",
    "for i, wb in enumerate([wb_left,wb_right]):\n",
    "    update_config(wb_json_path,qubit_index=i,updates = wb.options)\n",
    "\n",
    "\n",
    "a_gds.export_to_gds(f'{dir_string}/SiQb03_PW_offset{jc_offset}.gds')\n",
    "\n"
   ]
  },
  {
   "cell_type": "code",
   "execution_count": 54,
   "metadata": {},
   "outputs": [],
   "source": [
    "a_gds.options['check_short_segments_by_scaling_fillet'] = '1.0'"
   ]
  },
  {
   "cell_type": "code",
   "execution_count": null,
   "metadata": {},
   "outputs": [],
   "source": []
  },
  {
   "cell_type": "code",
   "execution_count": null,
   "metadata": {},
   "outputs": [],
   "source": []
  }
 ],
 "metadata": {
  "kernelspec": {
   "display_name": "qiskit",
   "language": "python",
   "name": "python3"
  },
  "language_info": {
   "codemirror_mode": {
    "name": "ipython",
    "version": 3
   },
   "file_extension": ".py",
   "mimetype": "text/x-python",
   "name": "python",
   "nbconvert_exporter": "python",
   "pygments_lexer": "ipython3",
   "version": "3.11.0"
  }
 },
 "nbformat": 4,
 "nbformat_minor": 2
}
