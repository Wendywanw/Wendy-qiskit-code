{
 "cells": [
  {
   "cell_type": "code",
   "execution_count": 1,
   "metadata": {},
   "outputs": [],
   "source": [
    "%reload_ext autoreload\n",
    "%autoreload 2\n",
    "\n",
    "from init_notebook import *\n",
    "from json_config import *\n"
   ]
  },
  {
   "cell_type": "code",
   "execution_count": 2,
   "metadata": {},
   "outputs": [],
   "source": [
    "gui = MetalGUI(design)\n",
    "design.overwrite_enabled = True"
   ]
  },
  {
   "cell_type": "markdown",
   "metadata": {},
   "source": [
    "## Calculate Qubit Params"
   ]
  },
  {
   "cell_type": "code",
   "execution_count": 3,
   "metadata": {},
   "outputs": [],
   "source": [
    "# define constants for LL designs\n",
    "sub_t = 350*u.um #substrate thickness (Si in this case)\n",
    "metal_t = 100*u.nm #Deposited metal thickness (Al)\n",
    "Sc = 67*u.fF/(u.um)**2 #JJ specific capacitance\n",
    "epsilon = 11.45\n",
    "W_jj = 200*u.nm #junction width\n",
    "Z0 = 50*u.Ohm #characteristic impedance\n"
   ]
  },
  {
   "cell_type": "code",
   "execution_count": 4,
   "metadata": {},
   "outputs": [],
   "source": [
    "freq = 6*u.GHz.si\n",
    "line_width = 15*u.um\n",
    "line_gap = 8.30*u.um"
   ]
  },
  {
   "cell_type": "markdown",
   "metadata": {},
   "source": [
    "Optimal pin-gap ratio for resonator and feedlines"
   ]
  },
  {
   "cell_type": "markdown",
   "metadata": {},
   "source": [
    "### dispersive readout function"
   ]
  },
  {
   "cell_type": "code",
   "execution_count": 5,
   "metadata": {},
   "outputs": [
    {
     "name": "stdout",
     "output_type": "stream",
     "text": [
      "Optimal inductance L: 12.7222823033304 nH\n"
     ]
    }
   ],
   "source": [
    "qubit = TransmonQubit(4.3*u.GHz, ratio = 65)\n",
    "res = ReadoutResonator(5.174*u.GHz, short_on_one_end = False)\n",
    "dr = DispersiveReadout(qubit,res,5*u.ms)"
   ]
  },
  {
   "cell_type": "markdown",
   "metadata": {},
   "source": []
  },
  {
   "cell_type": "code",
   "execution_count": 6,
   "metadata": {},
   "outputs": [],
   "source": [
    "# raise Exception('stop!')"
   ]
  },
  {
   "cell_type": "markdown",
   "metadata": {},
   "source": [
    "# Write design"
   ]
  },
  {
   "cell_type": "markdown",
   "metadata": {},
   "source": [
    "Global Variables"
   ]
  },
  {
   "cell_type": "code",
   "execution_count": 7,
   "metadata": {},
   "outputs": [],
   "source": [
    "design_name = 'SiQb01'\n",
    "wafer_name = 'QW'\n",
    "jc_offset = 0.0\n",
    "jj_size_offset = -65*u.nm\n",
    "Jc = 0.2*u.uA/u.um**2\n",
    "jc_calc = Jc*(1+jc_offset)\n",
    "overlap = 250*u.nm\n",
    "dir_string = f'./{design_name}_Jc{Jc.value}_overlap{overlap.value}nm_offset{jj_size_offset.value}nm'\n",
    "os.makedirs(dir_string, exist_ok=True)\n",
    "jj_string = f'JJ_{design_name}_Jc{Jc.value}_offset{jc_offset}_overlap{overlap.value}nm_offset{jj_size_offset.value}nm'"
   ]
  },
  {
   "cell_type": "code",
   "execution_count": 8,
   "metadata": {},
   "outputs": [],
   "source": [
    "from qiskit_metal.qlibrary.tlines.mixed_path import RouteMixed\n",
    "from qiskit_metal.qlibrary.tlines.straight_path import RouteStraight\n",
    "\n",
    "from qiskit_metal.qlibrary.tlines.anchored_path import RouteAnchors\n",
    "from qiskit_metal.qlibrary.tlines.meandered import RouteMeander\n",
    "from qiskit_metal.qlibrary.couplers.coupled_line_tee import CoupledLineTee\n",
    "from components.tm.LaunchpadWirebondCustom import LaunchpadWirebondCustom\n",
    "\n",
    "\n",
    "from qiskit_metal.qlibrary.lumped.cap_n_interdigital import CapNInterdigital\n",
    "\n",
    "\n",
    "from qiskit_metal.qlibrary.terminations.launchpad_wb_coupled import LaunchpadWirebondCoupled"
   ]
  },
  {
   "cell_type": "markdown",
   "metadata": {},
   "source": [
    "## Wirebond Pads"
   ]
  },
  {
   "cell_type": "markdown",
   "metadata": {},
   "source": [
    "### Qubit default param "
   ]
  },
  {
   "cell_type": "code",
   "execution_count": 9,
   "metadata": {},
   "outputs": [],
   "source": [
    "Wirebond_opt = Dict(trace_width=design.variables['trace_width'],\n",
    "                           trace_gap=design.variables['trace_gap'],\n",
    "                           lead_length='40.5um',\n",
    "                           pad_width='500um',\n",
    "                           pad_height='300um',\n",
    "                           pad_gap='100um',\n",
    "                           taper_height='100um',\n",
    "                           layer = str(qubit_layer),\n",
    "                           pin_space = '200um')\n",
    "\n",
    "Wirebond_opt['pos_x'] = '-2450um'\n",
    "Wirebond_opt['pos_y'] = '2100um'\n",
    "Wirebond_opt['orientation'] = '270'\n",
    "\n",
    "wb_left = LaunchpadWirebondCustom(design, 'wb_left', options = Wirebond_opt)\n",
    "Wirebond_opt['pos_x'] = '2450um'\n",
    "wb_right = LaunchpadWirebondCustom(design, 'wb_right', options = Wirebond_opt)\n",
    "gui.rebuild()"
   ]
  },
  {
   "cell_type": "code",
   "execution_count": 10,
   "metadata": {},
   "outputs": [],
   "source": [
    "wb_json_path = f'{dir_string}/Wirebond_pad {design_name}.json'\n",
    "options = wb_left.options\n",
    "num_wb = 2\n",
    "config = dict_to_lists(options, num_wb)\n",
    "save_config(config, wb_json_path)"
   ]
  },
  {
   "cell_type": "markdown",
   "metadata": {},
   "source": [
    "## Tee"
   ]
  },
  {
   "cell_type": "code",
   "execution_count": 11,
   "metadata": {},
   "outputs": [],
   "source": [
    "TQ_options = dict(coupling_length='400 um + 90um',\n",
    "                prime_width = design.variables['trace_width'],\n",
    "               prime_gap = design.variables['trace_gap'],\n",
    "               second_width = design.variables['trace_width'],\n",
    "               second_gap = design.variables['trace_gap'],\n",
    "               down_length = '150um',\n",
    "               coupling_space = '5um',\n",
    "               fillet = '90um',\n",
    "               open_termination=True,\n",
    "               hfss_wire_bonds = False,\n",
    "               q3d_wire_bonds = False,\n",
    "               pos_x = '-1800um',\n",
    "               pos_y = '1800um', \n",
    "               mirror = True,\n",
    "               layer = 5)\n",
    "tee3 = CoupledLineTee(design,'tee3',options = TQ_options)\n",
    "gui.rebuild()"
   ]
  },
  {
   "cell_type": "code",
   "execution_count": 12,
   "metadata": {},
   "outputs": [],
   "source": [
    "tee_json_path = f'{dir_string}/CoupledLineTee {design_name}.json'\n",
    "options = tee3.default_options\n",
    "num_wb = 3\n",
    "config = dict_to_lists(options, num_wb)\n",
    "save_config(config, tee_json_path)"
   ]
  },
  {
   "cell_type": "code",
   "execution_count": 13,
   "metadata": {},
   "outputs": [],
   "source": [
    "TQ_options = dict(coupling_length='400 um + 90um',\n",
    "                prime_width = design.variables['trace_width'],\n",
    "               prime_gap = design.variables['trace_gap'],\n",
    "               second_width = design.variables['trace_width'],\n",
    "               second_gap = design.variables['trace_gap'],\n",
    "               down_length = '150um',\n",
    "               coupling_space = '5um',\n",
    "               fillet = '90um',\n",
    "               open_termination=True,\n",
    "               hfss_wire_bonds = False,\n",
    "               q3d_wire_bonds = False,\n",
    "               pos_x = '1850um',\n",
    "               pos_y = '1800um', \n",
    "               mirror = False,\n",
    "               layer = 5)\n",
    "tee2 = CoupledLineTee(design,'tee2',options = TQ_options)\n",
    "gui.rebuild()"
   ]
  },
  {
   "cell_type": "code",
   "execution_count": 14,
   "metadata": {},
   "outputs": [],
   "source": [
    "TQ_options = dict(coupling_length='400 um + 90 um',\n",
    "                prime_width = design.variables['trace_width'],\n",
    "               prime_gap = design.variables['trace_gap'],\n",
    "               second_width = design.variables['trace_width'],\n",
    "               second_gap = design.variables['trace_gap'],\n",
    "               down_length = '150um',\n",
    "               coupling_space = '5um',\n",
    "               fillet = '90um',\n",
    "               open_termination=True,\n",
    "               hfss_wire_bonds = False,\n",
    "               q3d_wire_bonds = False,\n",
    "               pos_x = '1200um',\n",
    "               pos_y = '1800um', \n",
    "               mirror = False,\n",
    "               layer= 5)\n",
    "tee1 = CoupledLineTee(design,'tee1',options = TQ_options)\n",
    "gui.rebuild()"
   ]
  },
  {
   "cell_type": "markdown",
   "metadata": {},
   "source": [
    "## Qubit"
   ]
  },
  {
   "cell_type": "code",
   "execution_count": 15,
   "metadata": {},
   "outputs": [
    {
     "name": "stdout",
     "output_type": "stream",
     "text": [
      "Optimal inductance L: 13.676453476080171 nH\n",
      "Optimal inductance L: 17.095566845100272 nH\n",
      "Optimal inductance L: 11.397044563400145 nH\n"
     ]
    }
   ],
   "source": [
    "w = '400um'\n",
    "qubit_q1 = TransmonQubit(4*u.GHz, ratio = 65)\n",
    "default_options_q1 = {'cut_l': '600um+'+w+'+'+w,\n",
    " 'cut_h': '1000um',\n",
    " 'gap': '70um',\n",
    " 'w': w,\n",
    " 'l': '550um',\n",
    " 'r': w+'/2',\n",
    " 'cpw_l': '100um',\n",
    " 'jj_gap': '3um',\n",
    " 'jj_contact_size': '3um',\n",
    " 'coupling_gap': '30um',\n",
    " 'JJ_cutout_w': '70um',\n",
    " 'JJ_cutout_h': '70um',\n",
    " 'JJ_cutout_r': '150um',\n",
    " 'JJ_c_contact_l': '40um',\n",
    " 'JJ_c_contact_r': '2.5um',\n",
    " 'JJ_c_contact_w': '10um',\n",
    " 'coupling_d': '80um',\n",
    " 'coupling_pad_w': '100um',\n",
    "'coupling_stub_w': '90um',\n",
    " 'coupling_r': '40um',\n",
    " 'cpw_pin': design.variables['trace_width'],\n",
    " 'chip': 'main',\n",
    " 'resolution': '10',\n",
    " 'junction': 'False',\n",
    " 'orientation': '0',\n",
    " 'JJ_c_contact_shortl': '10um',\n",
    " 'istunnel': 'False',\n",
    " 'layer' : '5',\n",
    " 'coupling_arm':'False', \n",
    "'jj_taper_r': '30um'}\n",
    "qubit_q2 = TransmonQubit(3.2*u.GHz, ratio = 65)\n",
    "default_options_q2 = {'cut_l': '600um+'+w+\"+\"+w,\n",
    " 'cut_h': '1100um',\n",
    " 'gap': '70um',\n",
    " 'jj_gap': '3um',\n",
    " 'jj_contact_size': '3um',\n",
    " 'w': w,\n",
    " 'l': '880um',\n",
    " 'r': w+'/2',\n",
    " 'cpw_l': '150um',\n",
    " 'coupling_gap': '30um',\n",
    " 'JJ_cutout_w': '70um',\n",
    " 'JJ_cutout_h': '70um',\n",
    " 'JJ_cutout_r': '150um',\n",
    " 'JJ_c_contact_l': '40um',\n",
    " 'JJ_c_contact_r': '2.5um',\n",
    " 'JJ_c_contact_w': '10um',\n",
    " 'coupling_d': '70um',\n",
    " 'coupling_pad_w': '200um',\n",
    "'coupling_stub_w': '70um',\n",
    " 'coupling_r': '40um',\n",
    " 'cpw_pin': design.variables['trace_width'],\n",
    " 'chip': 'main',\n",
    " 'resolution': '10',\n",
    " 'junction': 'False',\n",
    " 'orientation': '0',\n",
    " 'JJ_c_contact_shortl': '10um',\n",
    " 'istunnel': 'False',\n",
    " 'coupling_gd': '650um',\n",
    " 'layer' : '5',\n",
    "'coupling_arm':'False', \n",
    "'jj_taper_r': '30um'}\n",
    "\n",
    "w3 = '250um'\n",
    "qubit_q3 = TransmonQubit(4.8*u.GHz, ratio = 65)\n",
    "default_options_q3 = {'cut_l': '450um+'+w3+'+'+w3,\n",
    " 'cut_h': '650um',\n",
    " 'gap': '70um',\n",
    " 'jj_gap': '3um',\n",
    " 'jj_contact_size': '3um',\n",
    " 'w': w3,\n",
    " 'l': '510um',\n",
    " 'r': w3+'/2',\n",
    " 'cpw_l': '100um',\n",
    " 'coupling_gap': '20um',\n",
    " 'JJ_cutout_w': '70um',\n",
    " 'JJ_cutout_h': '70um',\n",
    " 'JJ_cutout_r': '150um',\n",
    " 'JJ_c_contact_l': '40um',\n",
    " 'JJ_c_contact_r': '2.5um',\n",
    " 'JJ_c_contact_w': '10um',\n",
    " 'coupling_d': '70um',\n",
    " 'coupling_pad_w': '100um',\n",
    "'coupling_stub_w': '90um',\n",
    " 'coupling_r': '40um',\n",
    " 'cpw_pin': design.variables['trace_width'],\n",
    " 'chip': 'main',\n",
    " 'resolution': '10',\n",
    " 'junction': 'False',\n",
    " 'orientation': '0',\n",
    " 'JJ_c_contact_shortl': '10um',\n",
    " 'istunnel': 'False',\n",
    " 'layer' : '5', \n",
    " 'coupling_arm':'False', \n",
    "'jj_taper_r': '30um'}"
   ]
  },
  {
   "cell_type": "code",
   "execution_count": 28,
   "metadata": {},
   "outputs": [],
   "source": [
    "\n",
    "\n"
   ]
  },
  {
   "cell_type": "code",
   "execution_count": 16,
   "metadata": {},
   "outputs": [],
   "source": [
    "default_options_q3['pos_x'] = '-500um'\n",
    "default_options_q3['pos_y'] = '1000um'\n",
    "default_options_q3['orientation'] = '0'\n",
    "q1 = DiffTransmonRounded(design,'Q3',options = default_options_q3)\n",
    "\n",
    "gui.rebuild()"
   ]
  },
  {
   "cell_type": "code",
   "execution_count": 17,
   "metadata": {},
   "outputs": [],
   "source": [
    "qb_json_path = f'{dir_string}/DiffTransmonRounded {design_name}.json'\n",
    "options = q1.default_options\n",
    "num_qb = 3\n",
    "config = dict_to_lists(options, num_wb)\n",
    "save_config(config, qb_json_path)"
   ]
  },
  {
   "cell_type": "code",
   "execution_count": 18,
   "metadata": {},
   "outputs": [],
   "source": [
    "default_options_q2['pos_x'] = '-1000um'\n",
    "default_options_q2['pos_y'] = '-2000um'\n",
    "default_options_q2['orientation'] = '180'\n",
    "q2 = DiffTransmonRounded(design,'Q2',options = default_options_q2)\n",
    "gui.rebuild()"
   ]
  },
  {
   "cell_type": "code",
   "execution_count": 19,
   "metadata": {},
   "outputs": [],
   "source": [
    "default_options_q1['pos_x'] = '-900um'\n",
    "default_options_q1['pos_y'] = '-700um'\n",
    "default_options_q1['orientation'] = '180'\n",
    "q3 = DiffTransmonRounded(design,'Q1',options = default_options_q1)\n",
    "gui.rebuild()"
   ]
  },
  {
   "cell_type": "markdown",
   "metadata": {},
   "source": [
    "## CPW"
   ]
  },
  {
   "cell_type": "markdown",
   "metadata": {},
   "source": [
    "### Resonator default"
   ]
  },
  {
   "cell_type": "code",
   "execution_count": 20,
   "metadata": {},
   "outputs": [],
   "source": [
    "res_default_ops = {'chip': 'main',\n",
    " 'layer': 5,\n",
    " 'pin_inputs': {'start_pin': {'component': 'Q3', 'pin': 'cpw_stub'},\n",
    "  'end_pin': {'component': 'tee1', 'pin': 'second_end'}},\n",
    " 'fillet': '90um',\n",
    " 'lead': {'start_straight': '300 um',\n",
    "  'end_straight': '200 um',\n",
    "  'start_jogged_extension': '',\n",
    "  'end_jogged_extension': ''},\n",
    " 'total_length': '0.009287107827128471 m-1000um',\n",
    " 'trace_width': '15 um',\n",
    " 'meander': {'spacing': '200um', 'asymmetry': '0um'},\n",
    " 'snap': 'true',\n",
    " 'prevent_short_edges': 'true',\n",
    " 'hfss_wire_bonds': False,\n",
    " 'q3d_wire_bonds': False,\n",
    " 'pin_width': '15 um',\n",
    " 'gap_width': '8.3 um',\n",
    " 'trace_gap': '8.3 um',\n",
    " '_actual_length': '8.287107827128471 mm'}"
   ]
  },
  {
   "cell_type": "code",
   "execution_count": 21,
   "metadata": {},
   "outputs": [],
   "source": [
    "res_1 = ReadoutResonator(6.5*u.GHz, short_on_one_end = False)"
   ]
  },
  {
   "cell_type": "code",
   "execution_count": 22,
   "metadata": {},
   "outputs": [],
   "source": [
    "route_options = dict(layer = 5,hfss_wire_bonds = False, \n",
    "                     fillet = '90um',\n",
    "                     total_length = f'{res_1.len}'+'-1000um',\n",
    "                     pin_inputs = dict(start_pin = dict(component = 'Q3', pin = 'cpw_stub'), \n",
    "                                                                end_pin = dict(component = 'tee3', pin = 'second_end')))\n",
    "route_options['pin_width'] = design.variables['trace_width']\n",
    "route_options['gap_width'] = design.variables['trace_gap']\n",
    "route_options['trace_width'] = design.variables['trace_width']\n",
    "route_options['trace_gap'] = design.variables['trace_gap']\n",
    "route_options['lead'] = dict(start_straight = '300 um', end_straight = '200 um')\n",
    "route_options['Target Frequency'] = (res_1.freq).to(u.GHz).value\n",
    "res3 = RouteMeander(design,name = 'res3',options = route_options)\n",
    "gui.rebuild()"
   ]
  },
  {
   "cell_type": "code",
   "execution_count": 23,
   "metadata": {},
   "outputs": [],
   "source": [
    "rr_json_path = f'{dir_string}/RouteMeander {design_name}.json'\n",
    "options = res3.default_options\n",
    "num_qb = 3\n",
    "config = dict_to_lists(options, num_wb)\n",
    "save_config(config, rr_json_path)"
   ]
  },
  {
   "cell_type": "code",
   "execution_count": 24,
   "metadata": {},
   "outputs": [],
   "source": [
    "res_2 = ReadoutResonator(5.5*u.GHz, short_on_one_end = False)"
   ]
  },
  {
   "cell_type": "code",
   "execution_count": 25,
   "metadata": {},
   "outputs": [],
   "source": [
    "route_options = dict(layer = 5,hfss_wire_bonds = False, \n",
    "                     fillet = '80um',\n",
    "                     total_length = f'{res_2.len}'+ '-700um',\n",
    "                     pin_inputs = dict(start_pin = dict(component = 'Q2', pin = 'cpw_stub'), \n",
    "                                                                end_pin = dict(component = 'tee2', pin = 'second_end')))\n",
    "route_options['pin_width'] = design.variables['trace_width']\n",
    "route_options['gap_width'] = design.variables['trace_gap']\n",
    "route_options['trace_width'] = design.variables['trace_width']\n",
    "route_options['trace_gap'] = design.variables['trace_gap']\n",
    "route_options['lead'] = dict(start_straight = '2900 um', end_straight = '900 um')\n",
    "route_options['Target Frequency'] = (res_2.freq).to(u.GHz).value\n",
    "res2 = RouteMeander(design,name = 'res2',options = route_options)\n",
    "gui.rebuild()"
   ]
  },
  {
   "cell_type": "code",
   "execution_count": 26,
   "metadata": {},
   "outputs": [],
   "source": [
    "res_3 = ReadoutResonator(6*u.GHz, short_on_one_end = False)"
   ]
  },
  {
   "cell_type": "code",
   "execution_count": 27,
   "metadata": {},
   "outputs": [],
   "source": [
    "route_options = dict(layer = 5,hfss_wire_bonds = False, \n",
    "                     fillet = '90um',\n",
    "                     total_length = f'{res_3.len}'+ '-700um',\n",
    "                     pin_inputs = dict(start_pin = dict(component = 'Q1', pin = 'cpw_stub'), \n",
    "                                                                end_pin = dict(component = 'tee1', pin = 'second_end')))\n",
    "route_options['pin_width'] = design.variables['trace_width']\n",
    "route_options['gap_width'] = design.variables['trace_gap']\n",
    "route_options['trace_width'] = design.variables['trace_width']\n",
    "route_options['trace_gap'] = design.variables['trace_gap']\n",
    "route_options['lead'] = dict(start_straight = '2100 um', end_straight = '400 um')\n",
    "route_options['Target Frequency'] = (res_3.freq).to(u.GHz).value\n",
    "res1 = RouteMeander(design,name = 'res1',options = route_options)\n",
    "gui.rebuild()"
   ]
  },
  {
   "cell_type": "code",
   "execution_count": 28,
   "metadata": {},
   "outputs": [],
   "source": [
    "trans_ops = trans_options"
   ]
  },
  {
   "cell_type": "code",
   "execution_count": 29,
   "metadata": {},
   "outputs": [],
   "source": [
    "trans_ops['pin_inputs'] = dict(start_pin = dict(component = 'wb_left', pin = 'tie'),end_pin = dict(component = 'tee3', pin = 'prime_start'))\n",
    "trans_ops['fillet'] = '100um'\n",
    "trans1 = RouteMixed(design,name = 'trans1',options = trans_ops)\n",
    "gui.rebuild()"
   ]
  },
  {
   "cell_type": "code",
   "execution_count": 30,
   "metadata": {},
   "outputs": [],
   "source": [
    "trans_ops['pin_inputs'] = dict(start_pin = dict(component = 'tee1', pin = 'prime_start'),end_pin = dict(component = 'tee3', pin = 'prime_end'))\n",
    "trans2 = RouteStraight(design,name = 'trans2',options = trans_ops)\n",
    "gui.rebuild()"
   ]
  },
  {
   "cell_type": "code",
   "execution_count": 31,
   "metadata": {},
   "outputs": [
    {
     "name": "stderr",
     "output_type": "stream",
     "text": [
      "09:32PM 50s WARNING [check_lengths]: For path table, component=trans3, key=trace has short segments that could cause issues with fillet. Values in (1-2)  are index(es) in shapely geometry.\n",
      "09:32PM 50s WARNING [check_lengths]: For path table, component=trans3, key=cut has short segments that could cause issues with fillet. Values in (1-2)  are index(es) in shapely geometry.\n",
      "09:32PM 51s WARNING [check_lengths]: For path table, component=trans3, key=trace has short segments that could cause issues with fillet. Values in (1-2)  are index(es) in shapely geometry.\n",
      "09:32PM 51s WARNING [check_lengths]: For path table, component=trans3, key=cut has short segments that could cause issues with fillet. Values in (1-2)  are index(es) in shapely geometry.\n"
     ]
    }
   ],
   "source": [
    "trans_ops['pin_inputs'] = dict(start_pin = dict(component = 'tee1', pin = 'prime_end'),end_pin = dict(component = 'tee2', pin = 'prime_start'))\n",
    "trans3 = RouteStraight(design,name = 'trans3',options = trans_ops)\n",
    "gui.rebuild()"
   ]
  },
  {
   "cell_type": "code",
   "execution_count": 32,
   "metadata": {},
   "outputs": [
    {
     "name": "stderr",
     "output_type": "stream",
     "text": [
      "09:32PM 51s WARNING [check_lengths]: For path table, component=trans3, key=trace has short segments that could cause issues with fillet. Values in (1-2)  are index(es) in shapely geometry.\n",
      "09:32PM 51s WARNING [check_lengths]: For path table, component=trans3, key=cut has short segments that could cause issues with fillet. Values in (1-2)  are index(es) in shapely geometry.\n"
     ]
    }
   ],
   "source": [
    "trans_ops['pin_inputs'] = dict(start_pin = dict(component = 'wb_right', pin = 'tie'),end_pin = dict(component = 'tee2', pin = 'prime_end'))\n",
    "trans_ops['fillet'] = '100um'\n",
    "trans4 = RouteMixed(design,name = 'trans4',options = trans_ops)\n",
    "gui.rebuild()"
   ]
  },
  {
   "cell_type": "markdown",
   "metadata": {},
   "source": [
    "## Junction probe pads"
   ]
  },
  {
   "cell_type": "code",
   "execution_count": 33,
   "metadata": {},
   "outputs": [],
   "source": [
    "from components.junction.bandaged_dolan import DolanJunctionBandage\n",
    "from components.misc.probe_pad import ProbePad\n",
    "from components.misc.text import Text_object"
   ]
  },
  {
   "cell_type": "markdown",
   "metadata": {},
   "source": [
    "### Junction default param"
   ]
  },
  {
   "cell_type": "code",
   "execution_count": 102,
   "metadata": {},
   "outputs": [],
   "source": []
  },
  {
   "cell_type": "code",
   "execution_count": 34,
   "metadata": {},
   "outputs": [],
   "source": [
    "maximum_jj_w = 500 #nm\n",
    "small_jj_length = 20#nm\n",
    "\n",
    "h_pocket = 300 #um\n",
    "w_pocket = 800\n",
    "\n",
    "\n",
    "\n",
    "\n",
    "\n",
    "dose_array_options = Dict(\n",
    "    pos_x = '0um', \n",
    "    pos_y = '0um',\n",
    "    w_pocket = f'{w_pocket:.0f} um',\n",
    "    h_pocket = f'{h_pocket:.0f} um',\n",
    "    w_pad = '300 um',\n",
    "    h_pad = '200 um',\n",
    "    pad_gap = '7 um',\n",
    "    orientation = '0',\n",
    "    layer = f'{qubit_layer}',\n",
    "    )\n",
    "\n",
    "text_options = Dict(\n",
    "        pos_x = '0um', \n",
    "        pos_y = '0um',\n",
    "        text = 'haha',\n",
    "        text_height = '20 mm',\n",
    "        orientation = '0',\n",
    "        layer = f'{qubit_layer}',\n",
    "        subtract = 'False'\n",
    "        )\n",
    "\n",
    "\n",
    "\n",
    "JJ_options = Dict(\n",
    "    pos_x = '0um',\n",
    "    pos_y = '0um',\n",
    "    w_pad_pin = '2 um',\n",
    "    maximum_jj_width = '1100nm',\n",
    "    small_jj_length = '400nm',\n",
    "    w_pad_u = '3 um',\n",
    "    d_pin = '250 nm',\n",
    "    d_u = '1050 nm',\n",
    "    total_length = '1 um',\n",
    "    w_top_pin = '1050 nm',\n",
    "    w_top_u = '1050 nm',\n",
    "    w_bot_pin = '1050 nm',\n",
    "    w_bot_u = '1050 nm',\n",
    "    top_bot_offset = '0 nm' ,\n",
    "    jj_extra = '600nm',\n",
    "    jj_gap = '0.2um',\n",
    "    fillet = '30 nm',\n",
    "    # jj_gap_actual = '0.2um',\n",
    "    # Lj = '10',\n",
    "    resolution = '5',\n",
    "    bandage = 'True',\n",
    "    bandage_h = '20 um',\n",
    "    bandage_w = '20 um',\n",
    "    bandage_layer = '299',\n",
    "    bandage_uc_layer = '699',\n",
    "    bandage_loc = '0.5um',\n",
    "    # Jc = '0.1',\n",
    "    orientation = '270',\n",
    "    pin_layer = f'{junction_layer}',\n",
    "    gap_layer = f'{junction_area_layer}',\n",
    "    area_layer_opt = 'False',\n",
    "    jj_orientation = '0',\n",
    "    tapered = 'False',\n",
    "    taper_r = '10um',\n",
    "    uc_override_band = '1um',)\n",
    "\n",
    "JJ_options1 = JJ_options.copy()\n",
    "JJ_options1['d_pin'] = '10um'\n",
    "JJ_options1['d_u'] = '12um'\n",
    "JJ_options1['w_pad_pin'] = '5um'\n",
    "JJ_options1['w_pad_u'] = '6um'\n",
    "JJ_options1['total_length'] = '30um'\n",
    "JJ_options1['jj_extra'] = '0um'\n",
    "JJ_options1['small_jj_length'] = '600nm'\n",
    "\n",
    "\n",
    "def junction_probe_pad(x,y,jj_w,jj_gap, name, dose_array_options = dose_array_options, JJ_options = JJ_options):\n",
    "\n",
    "    dose_array_options['pos_x'] = x\n",
    "    dose_array_options['pos_y'] = y\n",
    "\n",
    "    JJ_options['pos_x'] = x\n",
    "    JJ_options['pos_y'] = y\n",
    "    JJ_options['w_bot_pin'] = jj_w\n",
    "    JJ_options['jj_gap'] = jj_gap\n",
    "\n",
    "    dose_array = ProbePad(design, name+'ProbePad', dose_array_options)\n",
    "    dolan = DolanJunctionBandage(design,name+'JJ',JJ_options)\n",
    "    text_options['pos_x'] = x+f'-{w_pocket/2}um'\n",
    "    text_options['pos_y'] = y #+ f'-{w_pocket/2}um'\n",
    "    text_options['text'] = name\n",
    "    text_options['text_height'] = '50um'\n",
    "    text_options['orientation'] = '0'\n",
    "    Text_object(design, name+'text',text_options)\n",
    "\n",
    "\n"
   ]
  },
  {
   "cell_type": "markdown",
   "metadata": {},
   "source": [
    "## Junction"
   ]
  },
  {
   "cell_type": "code",
   "execution_count": 35,
   "metadata": {},
   "outputs": [],
   "source": [
    "import analysis.Transmon_specifications as jj"
   ]
  },
  {
   "cell_type": "markdown",
   "metadata": {},
   "source": [
    "### Parameters"
   ]
  },
  {
   "cell_type": "code",
   "execution_count": 36,
   "metadata": {},
   "outputs": [],
   "source": [
    "\n",
    "\n",
    "jj1_len = (jj.find_junction_area(qubit_q1.L, Jc = jc_calc)/overlap).to(u.nm)\n",
    "\n",
    "\n",
    "jj2_len = (jj.find_junction_area(qubit_q2.L, Jc = jc_calc)/overlap).to(u.nm)\n",
    "\n",
    "\n",
    "jj3_len = (jj.find_junction_area(qubit_q3.L, Jc = jc_calc)/overlap).to(u.nm)\n"
   ]
  },
  {
   "cell_type": "code",
   "execution_count": 37,
   "metadata": {},
   "outputs": [],
   "source": [
    "d_pin = 15\n",
    "u_pin = 0.95\n",
    "JJ_options1 = JJ_options.copy()\n",
    "JJ_options1['d_pin'] = f'{d_pin}um'\n",
    "JJ_options1['d_u'] = f'{d_pin+2*u_pin*2}um'\n",
    "JJ_options1['w_pad_pin'] = '2.5um'\n",
    "JJ_options1['w_pad_u'] = '3um'\n",
    "JJ_options1['total_length'] = f'{q1.options.jj_gap}+{d_pin}um+{u_pin*2}um'\n",
    "JJ_options1['jj_extra'] = '0um'\n",
    "JJ_options1['small_jj_length'] = '600nm'\n",
    "\n",
    "JJ_options1['bandage_h'] = '30um'\n",
    "JJ_options1['bandage_w'] = '5um'\n",
    "\n",
    "JJ_options1['bandage_loc'] = '7um'"
   ]
  },
  {
   "cell_type": "code",
   "execution_count": 38,
   "metadata": {},
   "outputs": [],
   "source": [
    "def junction_on_qubit(x,y,jj_w,jj_gap,gap, name,  JJ_options = JJ_options):\n",
    "    JJ_options['pos_x'] = x\n",
    "    JJ_options['pos_y'] = y\n",
    "    JJ_options['w_bot_pin'] = jj_w\n",
    "    JJ_options['jj_gap'] = jj_gap\n",
    "    JJ_options['total_length'] = gap\n",
    "    dolan = DolanJunctionBandage(design,name+'JJ',JJ_options)\n",
    "    return dolan\n"
   ]
  },
  {
   "cell_type": "code",
   "execution_count": 39,
   "metadata": {},
   "outputs": [],
   "source": [
    "jjw = '200nm'"
   ]
  },
  {
   "cell_type": "markdown",
   "metadata": {},
   "source": [
    "### Junction on qubit"
   ]
  },
  {
   "cell_type": "code",
   "execution_count": 40,
   "metadata": {},
   "outputs": [],
   "source": [
    "from components.misc.rounded_rectangle import rounded_rec as rec2"
   ]
  },
  {
   "cell_type": "code",
   "execution_count": 41,
   "metadata": {},
   "outputs": [
    {
     "name": "stderr",
     "output_type": "stream",
     "text": [
      "09:32PM 53s WARNING [check_lengths]: For path table, component=trans3, key=trace has short segments that could cause issues with fillet. Values in (1-2)  are index(es) in shapely geometry.\n",
      "09:32PM 53s WARNING [check_lengths]: For path table, component=trans3, key=cut has short segments that could cause issues with fillet. Values in (1-2)  are index(es) in shapely geometry.\n"
     ]
    }
   ],
   "source": [
    "dolanq1 = junction_on_qubit(q1.get_jj_location()[0],\n",
    "                  q1.get_jj_location()[1],\n",
    "                  f'{jj1_len.to(u.nm).value:.2f}nm',\n",
    "                  jjw,\n",
    "                  q1.options['jj_gap']+'+'+JJ_options1['d_u']+'*2',\n",
    "                  'q1',\n",
    "                  JJ_options = JJ_options1)\n",
    "dolanq2 = junction_on_qubit(q2.get_jj_location()[0],\n",
    "                  q2.get_jj_location()[1],\n",
    "                  f'{jj2_len.to(u.nm).value:.2f}nm',\n",
    "                  jjw,\n",
    "                  q2.options['jj_gap']+'+'+JJ_options1['d_u']+'*2',\n",
    "                  'q2',\n",
    "                  JJ_options = JJ_options1)\n",
    "dolanq3 = junction_on_qubit(q3.get_jj_location()[0],\n",
    "                  q3.get_jj_location()[1],\n",
    "                  f'{jj3_len.to(u.nm).value:.2f}nm',\n",
    "                  jjw,\n",
    "                  q3.options['jj_gap']+'+'+JJ_options1['d_u']+'*2',\n",
    "                  'q3',\n",
    "                  JJ_options = JJ_options1)\n",
    "gui.rebuild()"
   ]
  },
  {
   "cell_type": "code",
   "execution_count": 42,
   "metadata": {},
   "outputs": [],
   "source": [
    "jj_json_path = f'{dir_string}/{jj_string}.json'\n",
    "options = dolanq3.default_options\n",
    "num_qb = 3\n",
    "config = dict_to_lists(options, num_wb)\n",
    "save_config(config, jj_json_path)"
   ]
  },
  {
   "cell_type": "markdown",
   "metadata": {},
   "source": [
    "### Junction Probe Pads"
   ]
  },
  {
   "cell_type": "code",
   "execution_count": 43,
   "metadata": {},
   "outputs": [],
   "source": [
    "chip_size = 6800\n",
    "max_xy = chip_size/2\n",
    "JJ_options['small_jj_length'] = '600nm'\n",
    "\n",
    "junction_probe_pad(f'-{-max_xy+w_pocket/2}um',f'{-max_xy+h_pocket/2}um',\n",
    "                   f'{jj1_len.to(u.nm).value:.2f}nm',\n",
    "                   jjw,\n",
    "                   '1A',dose_array_options = dose_array_options, JJ_options = JJ_options1)\n",
    "junction_probe_pad(f'-{-max_xy+w_pocket/2}um',f'{-max_xy+h_pocket/2+h_pocket*1.1}um',\n",
    "                   f'{jj1_len.to(u.nm).value:.2f}nm',\n",
    "                   jjw,\n",
    "                   '1B',dose_array_options = dose_array_options, JJ_options = JJ_options1)\n",
    "junction_probe_pad(f'-{-max_xy+w_pocket/2}um',f'{-max_xy+h_pocket/2+h_pocket*2.2}um',\n",
    "                   f'{jj2_len.to(u.nm).value:.2f}nm',\n",
    "                   jjw,\n",
    "                   '2A',dose_array_options = dose_array_options, JJ_options = JJ_options1)\n",
    "\n",
    "junction_probe_pad(f'-{-max_xy+w_pocket/2}um',f'{-max_xy+h_pocket/2+ h_pocket*3.3}um',\n",
    "                   f'{jj2_len.to(u.nm).value:.2f}nm',\n",
    "                   jjw,\n",
    "                   '2B',dose_array_options = dose_array_options, JJ_options = JJ_options1)\n",
    "junction_probe_pad(f'-{-max_xy+w_pocket/2}um',f'{-max_xy+h_pocket/2+h_pocket*4.4}um',\n",
    "                   f'{jj3_len.to(u.nm).value:.2f}nm',\n",
    "                   jjw,\n",
    "                   '3A',dose_array_options = dose_array_options, JJ_options = JJ_options1)\n",
    "junction_probe_pad(f'-{-max_xy+w_pocket/2}um',f'{-max_xy+h_pocket/2+h_pocket*5.5}um',\n",
    "                   f'{jj3_len.to(u.nm).value:.2f}nm',\n",
    "                   jjw,\n",
    "                   '3B',dose_array_options = dose_array_options, JJ_options = JJ_options1)"
   ]
  },
  {
   "cell_type": "code",
   "execution_count": 44,
   "metadata": {},
   "outputs": [
    {
     "name": "stderr",
     "output_type": "stream",
     "text": [
      "09:32PM 55s WARNING [check_lengths]: For path table, component=trans3, key=trace has short segments that could cause issues with fillet. Values in (1-2)  are index(es) in shapely geometry.\n",
      "09:32PM 55s WARNING [check_lengths]: For path table, component=trans3, key=cut has short segments that could cause issues with fillet. Values in (1-2)  are index(es) in shapely geometry.\n"
     ]
    }
   ],
   "source": [
    "gui.rebuild()"
   ]
  },
  {
   "cell_type": "code",
   "execution_count": null,
   "metadata": {},
   "outputs": [],
   "source": []
  },
  {
   "cell_type": "markdown",
   "metadata": {},
   "source": [
    "# Test for new class"
   ]
  },
  {
   "cell_type": "code",
   "execution_count": 45,
   "metadata": {},
   "outputs": [
    {
     "name": "stderr",
     "output_type": "stream",
     "text": [
      "INFO 09:33PM [connect_project]: Connecting to Ansys Desktop API...\n",
      "INFO 09:33PM [load_ansys_project]: \tOpened Ansys App\n",
      "INFO 09:33PM [load_ansys_project]: \tOpened Ansys Desktop v2021.2.0\n",
      "INFO 09:33PM [load_ansys_project]: \tOpened Ansys Project\n",
      "\tFolder:    C:/Users/slab/Documents/Ansoft/\n",
      "\tProject:   Project54\n",
      "INFO 09:33PM [connect_design]: No active design found (or error getting active design).\n",
      "INFO 09:33PM [connect]: \t Connected to project \"Project54\". No design detected\n",
      "INFO 09:33PM [connect_design]: \tOpened active design\n",
      "\tDesign:    q1_sim_hfss [Solution type: Eigenmode]\n",
      "WARNING 09:33PM [connect_setup]: \tNo design setup detected.\n",
      "WARNING 09:33PM [connect_setup]: \tCreating eigenmode default setup.\n",
      "INFO 09:33PM [get_setup]: \tOpened setup `Setup`  (<class 'pyEPR.ansys.HfssEMSetup'>)\n",
      "INFO 09:33PM [get_setup]: \tOpened setup `Setup`  (<class 'pyEPR.ansys.HfssEMSetup'>)\n",
      "INFO 09:33PM [analyze]: Analyzing setup Setup\n",
      "10:56PM 40s INFO [get_f_convergence]: Saved convergences to c:\\Users\\slab\\Desktop\\Wendy-qiskit-code\\Projects\\coherence qubit\\v3\\hfss_eig_f_convergence.csv\n"
     ]
    },
    {
     "name": "stdout",
     "output_type": "stream",
     "text": [
      "Design \"q1_sim_hfss\" info:\n",
      "\t# eigenmodes    2\n",
      "\t# variations    1\n",
      "Design \"q1_sim_hfss\" info:\n",
      "\t# eigenmodes    2\n",
      "\t# variations    1\n"
     ]
    },
    {
     "name": "stderr",
     "output_type": "stream",
     "text": [
      "WARNING:py.warnings:FutureWarning: The default dtype for empty Series will be 'object' instead of 'float64' in a future version. Specify a dtype explicitly to silence this warning.\n",
      " c:\\Users\\slab\\anaconda3\\envs\\qmetal\\lib\\site-packages\\pyEPR\\project_info.py: 239\n"
     ]
    },
    {
     "name": "stdout",
     "output_type": "stream",
     "text": [
      "\n",
      "        energy_elec_all       = 3.55525676424551e-26\n",
      "        energy_elec_substrate = 3.24143843688428e-26\n",
      "        EPR of substrate = 91.2%\n",
      "\n",
      "        energy_mag    = 4.83775068828946e-28\n",
      "        energy_mag % of energy_elec_all  = 1.4%\n",
      "        \n",
      "\n",
      "Variation 0  [1/1]\n"
     ]
    },
    {
     "name": "stderr",
     "output_type": "stream",
     "text": [
      "WARNING:py.warnings:FutureWarning: The default dtype for empty Series will be 'object' instead of 'float64' in a future version. Specify a dtype explicitly to silence this warning.\n",
      " c:\\Users\\slab\\anaconda3\\envs\\qmetal\\lib\\site-packages\\pyEPR\\core_distributed_analysis.py: 1101\n",
      "WARNING:py.warnings:FutureWarning: The default dtype for empty Series will be 'object' instead of 'float64' in a future version. Specify a dtype explicitly to silence this warning.\n",
      " c:\\Users\\slab\\anaconda3\\envs\\qmetal\\lib\\site-packages\\pyEPR\\core_distributed_analysis.py: 1102\n",
      "WARNING:py.warnings:FutureWarning: The default dtype for empty Series will be 'object' instead of 'float64' in a future version. Specify a dtype explicitly to silence this warning.\n",
      " c:\\Users\\slab\\anaconda3\\envs\\qmetal\\lib\\site-packages\\pyEPR\\core_distributed_analysis.py: 1245\n"
     ]
    },
    {
     "name": "stdout",
     "output_type": "stream",
     "text": [
      "\n",
      "  \u001b[1mMode 0 at 4.65 GHz   [1/2]\u001b[0m\n",
      "    Calculating ℰ_magnetic,ℰ_electric\n"
     ]
    },
    {
     "name": "stderr",
     "output_type": "stream",
     "text": [
      "WARNING:py.warnings:FutureWarning: The default dtype for empty Series will be 'object' instead of 'float64' in a future version. Specify a dtype explicitly to silence this warning.\n",
      " c:\\Users\\slab\\anaconda3\\envs\\qmetal\\lib\\site-packages\\pyEPR\\core_distributed_analysis.py: 981\n"
     ]
    },
    {
     "name": "stdout",
     "output_type": "stream",
     "text": [
      "       (ℰ_E-ℰ_H)/ℰ_E       ℰ_E       ℰ_H\n",
      "               98.6%  1.778e-26 2.419e-28\n",
      "\n",
      "    Calculating junction energy participation ration (EPR)\n",
      "\tmethod=`line_voltage`. First estimates:\n",
      "\tjunction        EPR p_0j   sign s_0j    (p_capacitive)\n"
     ]
    },
    {
     "name": "stderr",
     "output_type": "stream",
     "text": [
      "WARNING:py.warnings:FutureWarning: The default dtype for empty Series will be 'object' instead of 'float64' in a future version. Specify a dtype explicitly to silence this warning.\n",
      " c:\\Users\\slab\\anaconda3\\envs\\qmetal\\lib\\site-packages\\pyEPR\\core_distributed_analysis.py: 933\n"
     ]
    },
    {
     "name": "stdout",
     "output_type": "stream",
     "text": [
      "\t\tEnergy fraction (Lj over Lj&Cj)= 97.72%\n",
      "\tjj1             0.937039  (+)        0.0218799\n",
      "\t\t(U_tot_cap-U_tot_ind)/mean=3.61%\n",
      "Calculating Qdielectric_main for mode 0 (0/1)\n"
     ]
    },
    {
     "name": "stderr",
     "output_type": "stream",
     "text": [
      "WARNING:py.warnings:FutureWarning: The series.append method is deprecated and will be removed from pandas in a future version. Use pandas.concat instead.\n",
      " c:\\Users\\slab\\anaconda3\\envs\\qmetal\\lib\\site-packages\\pyEPR\\core_distributed_analysis.py: 1307\n"
     ]
    },
    {
     "name": "stdout",
     "output_type": "stream",
     "text": [
      "p_dielectric_main_0 = 0.911731177754238\n"
     ]
    },
    {
     "name": "stderr",
     "output_type": "stream",
     "text": [
      "WARNING:py.warnings:FutureWarning: The default dtype for empty Series will be 'object' instead of 'float64' in a future version. Specify a dtype explicitly to silence this warning.\n",
      " c:\\Users\\slab\\anaconda3\\envs\\qmetal\\lib\\site-packages\\pyEPR\\core_distributed_analysis.py: 1245\n"
     ]
    },
    {
     "name": "stdout",
     "output_type": "stream",
     "text": [
      "\n",
      "  \u001b[1mMode 1 at 5.97 GHz   [2/2]\u001b[0m\n",
      "    Calculating ℰ_magnetic,ℰ_electric\n"
     ]
    },
    {
     "name": "stderr",
     "output_type": "stream",
     "text": [
      "WARNING:py.warnings:FutureWarning: The default dtype for empty Series will be 'object' instead of 'float64' in a future version. Specify a dtype explicitly to silence this warning.\n",
      " c:\\Users\\slab\\anaconda3\\envs\\qmetal\\lib\\site-packages\\pyEPR\\core_distributed_analysis.py: 981\n"
     ]
    },
    {
     "name": "stdout",
     "output_type": "stream",
     "text": [
      "       (ℰ_E-ℰ_H)/ℰ_E       ℰ_E       ℰ_H\n",
      "                0.2%  1.634e-25 1.631e-25\n",
      "\n",
      "    Calculating junction energy participation ration (EPR)\n",
      "\tmethod=`line_voltage`. First estimates:\n",
      "\tjunction        EPR p_1j   sign s_1j    (p_capacitive)\n"
     ]
    },
    {
     "name": "stderr",
     "output_type": "stream",
     "text": [
      "WARNING:py.warnings:FutureWarning: The default dtype for empty Series will be 'object' instead of 'float64' in a future version. Specify a dtype explicitly to silence this warning.\n",
      " c:\\Users\\slab\\anaconda3\\envs\\qmetal\\lib\\site-packages\\pyEPR\\core_distributed_analysis.py: 933\n"
     ]
    },
    {
     "name": "stdout",
     "output_type": "stream",
     "text": [
      "\t\tEnergy fraction (Lj over Lj&Cj)= 96.29%\n",
      "\tjj1             0.00196485  (+)        7.56105e-05\n",
      "\t\t(U_tot_cap-U_tot_ind)/mean=0.01%\n",
      "Calculating Qdielectric_main for mode 1 (1/1)\n"
     ]
    },
    {
     "name": "stderr",
     "output_type": "stream",
     "text": [
      "WARNING:py.warnings:FutureWarning: The series.append method is deprecated and will be removed from pandas in a future version. Use pandas.concat instead.\n",
      " c:\\Users\\slab\\anaconda3\\envs\\qmetal\\lib\\site-packages\\pyEPR\\core_distributed_analysis.py: 1307\n"
     ]
    },
    {
     "name": "stdout",
     "output_type": "stream",
     "text": [
      "p_dielectric_main_1 = 0.918395316638771\n"
     ]
    },
    {
     "name": "stderr",
     "output_type": "stream",
     "text": [
      "WARNING:py.warnings:FutureWarning: The default dtype for empty Series will be 'object' instead of 'float64' in a future version. Specify a dtype explicitly to silence this warning.\n",
      " c:\\Users\\slab\\anaconda3\\envs\\qmetal\\lib\\site-packages\\pyEPR\\project_info.py: 239\n",
      "WARNING 10:57PM [__init__]: <p>Error: <class 'IndexError'></p>\n",
      "WARNING:py.warnings:FutureWarning: Support for multi-dimensional indexing (e.g. `obj[:, None]`) is deprecated and will be removed in a future version.  Convert to a numpy array before indexing instead.\n",
      " c:\\Users\\slab\\anaconda3\\envs\\qmetal\\lib\\site-packages\\pyEPR\\core_quantum_analysis.py: 712\n",
      "WARNING:py.warnings:FutureWarning: Support for multi-dimensional indexing (e.g. `obj[:, None]`) is deprecated and will be removed in a future version.  Convert to a numpy array before indexing instead.\n",
      " c:\\Users\\slab\\anaconda3\\envs\\qmetal\\lib\\site-packages\\pyEPR\\core_quantum_analysis.py: 717\n"
     ]
    },
    {
     "name": "stdout",
     "output_type": "stream",
     "text": [
      "\n",
      "ANALYSIS DONE. Data saved to:\n",
      "\n",
      "C:\\data-pyEPR\\Project54\\q1_sim_hfss\\2025-02-09 22-56-41.npz\n",
      "\n",
      "\n",
      "\t Differences in variations:\n",
      "\n",
      "\n",
      "\n",
      " . . . . . . . . . . . . . . . . . . . . . . . . . . . . . . . . . . . . . . . . \n",
      "Variation 0\n",
      "\n",
      "Starting the diagonalization\n",
      "Finished the diagonalization\n",
      "Pm_norm=\n",
      "modes\n",
      "0    1.075495\n",
      "1    1.045679\n",
      "dtype: float64\n",
      "\n",
      "Pm_norm idx =\n",
      "     jj1\n",
      "0   True\n",
      "1  False\n",
      "*** P (participation matrix, not normlz.)\n",
      "        jj1\n",
      "0  0.916976\n",
      "1  0.001965\n",
      "\n",
      "*** S (sign-bit matrix)\n",
      "   s_jj1\n",
      "0      1\n",
      "1      1\n",
      "*** P (participation matrix, normalized.)\n",
      "      0.99\n",
      "     0.002\n",
      "\n",
      "*** Chi matrix O1 PT (MHz)\n",
      "    Diag is anharmonicity, off diag is full cross-Kerr.\n",
      "       220     1.13\n",
      "      1.13  0.00144\n",
      "\n",
      "*** Chi matrix ND (MHz) \n",
      "       245    0.791\n",
      "     0.791  0.00078\n",
      "\n",
      "*** Frequencies O1 PT (MHz)\n",
      "0    4429.590628\n",
      "1    5969.028167\n",
      "dtype: float64\n",
      "\n",
      "*** Frequencies ND (MHz)\n",
      "0    4417.867697\n",
      "1    5969.086927\n",
      "dtype: float64\n",
      "\n",
      "*** Q_coupling\n",
      "Empty DataFrame\n",
      "Columns: []\n",
      "Index: [0, 1]\n"
     ]
    },
    {
     "data": {
      "text/markdown": [
       "#### Mode frequencies (MHz)"
      ],
      "text/plain": [
       "<IPython.core.display.Markdown object>"
      ]
     },
     "metadata": {},
     "output_type": "display_data"
    },
    {
     "data": {
      "text/markdown": [
       "###### Numerical diagonalization"
      ],
      "text/plain": [
       "<IPython.core.display.Markdown object>"
      ]
     },
     "metadata": {},
     "output_type": "display_data"
    },
    {
     "data": {
      "text/html": [
       "<div>\n",
       "<style scoped>\n",
       "    .dataframe tbody tr th:only-of-type {\n",
       "        vertical-align: middle;\n",
       "    }\n",
       "\n",
       "    .dataframe tbody tr th {\n",
       "        vertical-align: top;\n",
       "    }\n",
       "\n",
       "    .dataframe thead th {\n",
       "        text-align: right;\n",
       "    }\n",
       "</style>\n",
       "<table border=\"1\" class=\"dataframe\">\n",
       "  <thead>\n",
       "    <tr style=\"text-align: right;\">\n",
       "      <th>Lj</th>\n",
       "      <th>13.68</th>\n",
       "    </tr>\n",
       "  </thead>\n",
       "  <tbody>\n",
       "    <tr>\n",
       "      <th>0</th>\n",
       "      <td>4417.87</td>\n",
       "    </tr>\n",
       "    <tr>\n",
       "      <th>1</th>\n",
       "      <td>5969.09</td>\n",
       "    </tr>\n",
       "  </tbody>\n",
       "</table>\n",
       "</div>"
      ],
      "text/plain": [
       "Lj    13.68\n",
       "0   4417.87\n",
       "1   5969.09"
      ]
     },
     "metadata": {},
     "output_type": "display_data"
    },
    {
     "data": {
      "text/markdown": [
       "#### Kerr Non-linear coefficient table (MHz)"
      ],
      "text/plain": [
       "<IPython.core.display.Markdown object>"
      ]
     },
     "metadata": {},
     "output_type": "display_data"
    },
    {
     "data": {
      "text/markdown": [
       "###### Numerical diagonalization"
      ],
      "text/plain": [
       "<IPython.core.display.Markdown object>"
      ]
     },
     "metadata": {},
     "output_type": "display_data"
    },
    {
     "data": {
      "text/html": [
       "<div>\n",
       "<style scoped>\n",
       "    .dataframe tbody tr th:only-of-type {\n",
       "        vertical-align: middle;\n",
       "    }\n",
       "\n",
       "    .dataframe tbody tr th {\n",
       "        vertical-align: top;\n",
       "    }\n",
       "\n",
       "    .dataframe thead th {\n",
       "        text-align: right;\n",
       "    }\n",
       "</style>\n",
       "<table border=\"1\" class=\"dataframe\">\n",
       "  <thead>\n",
       "    <tr style=\"text-align: right;\">\n",
       "      <th></th>\n",
       "      <th></th>\n",
       "      <th>0</th>\n",
       "      <th>1</th>\n",
       "    </tr>\n",
       "    <tr>\n",
       "      <th>Lj</th>\n",
       "      <th></th>\n",
       "      <th></th>\n",
       "      <th></th>\n",
       "    </tr>\n",
       "  </thead>\n",
       "  <tbody>\n",
       "    <tr>\n",
       "      <th rowspan=\"2\" valign=\"top\">13.68</th>\n",
       "      <th>0</th>\n",
       "      <td>244.79</td>\n",
       "      <td>7.91e-01</td>\n",
       "    </tr>\n",
       "    <tr>\n",
       "      <th>1</th>\n",
       "      <td>0.79</td>\n",
       "      <td>7.80e-04</td>\n",
       "    </tr>\n",
       "  </tbody>\n",
       "</table>\n",
       "</div>"
      ],
      "text/plain": [
       "              0         1\n",
       "Lj                       \n",
       "13.68 0  244.79  7.91e-01\n",
       "      1    0.79  7.80e-04"
      ]
     },
     "metadata": {},
     "output_type": "display_data"
    },
    {
     "name": "stderr",
     "output_type": "stream",
     "text": [
      "INFO 10:57PM [connect_design]: \tOpened active design\n",
      "\tDesign:    q2_sim_hfss [Solution type: Eigenmode]\n",
      "WARNING 10:57PM [connect_setup]: \tNo design setup detected.\n",
      "WARNING 10:57PM [connect_setup]: \tCreating eigenmode default setup.\n",
      "INFO 10:57PM [get_setup]: \tOpened setup `Setup`  (<class 'pyEPR.ansys.HfssEMSetup'>)\n",
      "INFO 10:57PM [get_setup]: \tOpened setup `Setup`  (<class 'pyEPR.ansys.HfssEMSetup'>)\n",
      "INFO 10:57PM [analyze]: Analyzing setup Setup\n",
      "12:06AM 51s INFO [get_f_convergence]: Saved convergences to c:\\Users\\slab\\Desktop\\Wendy-qiskit-code\\Projects\\coherence qubit\\v3\\hfss_eig_f_convergence.csv\n"
     ]
    },
    {
     "name": "stdout",
     "output_type": "stream",
     "text": [
      "Design \"q2_sim_hfss\" info:\n",
      "\t# eigenmodes    2\n",
      "\t# variations    1\n",
      "Design \"q2_sim_hfss\" info:\n",
      "\t# eigenmodes    2\n",
      "\t# variations    1\n"
     ]
    },
    {
     "name": "stderr",
     "output_type": "stream",
     "text": [
      "WARNING:py.warnings:FutureWarning: The default dtype for empty Series will be 'object' instead of 'float64' in a future version. Specify a dtype explicitly to silence this warning.\n",
      " c:\\Users\\slab\\anaconda3\\envs\\qmetal\\lib\\site-packages\\pyEPR\\project_info.py: 239\n"
     ]
    },
    {
     "name": "stdout",
     "output_type": "stream",
     "text": [
      "\n",
      "        energy_elec_all       = 2.1790466916639e-25\n",
      "        energy_elec_substrate = 1.98376913085159e-25\n",
      "        EPR of substrate = 91.0%\n",
      "\n",
      "        energy_mag    = 2.8927770812282e-27\n",
      "        energy_mag % of energy_elec_all  = 1.3%\n",
      "        \n",
      "\n",
      "Variation 0  [1/1]\n"
     ]
    },
    {
     "name": "stderr",
     "output_type": "stream",
     "text": [
      "WARNING:py.warnings:FutureWarning: The default dtype for empty Series will be 'object' instead of 'float64' in a future version. Specify a dtype explicitly to silence this warning.\n",
      " c:\\Users\\slab\\anaconda3\\envs\\qmetal\\lib\\site-packages\\pyEPR\\core_distributed_analysis.py: 1101\n",
      "WARNING:py.warnings:FutureWarning: The default dtype for empty Series will be 'object' instead of 'float64' in a future version. Specify a dtype explicitly to silence this warning.\n",
      " c:\\Users\\slab\\anaconda3\\envs\\qmetal\\lib\\site-packages\\pyEPR\\core_distributed_analysis.py: 1102\n",
      "WARNING:py.warnings:FutureWarning: The default dtype for empty Series will be 'object' instead of 'float64' in a future version. Specify a dtype explicitly to silence this warning.\n",
      " c:\\Users\\slab\\anaconda3\\envs\\qmetal\\lib\\site-packages\\pyEPR\\core_distributed_analysis.py: 1245\n"
     ]
    },
    {
     "name": "stdout",
     "output_type": "stream",
     "text": [
      "\n",
      "  \u001b[1mMode 0 at 3.70 GHz   [1/2]\u001b[0m\n",
      "    Calculating ℰ_magnetic,ℰ_electric\n"
     ]
    },
    {
     "name": "stderr",
     "output_type": "stream",
     "text": [
      "WARNING:py.warnings:FutureWarning: The default dtype for empty Series will be 'object' instead of 'float64' in a future version. Specify a dtype explicitly to silence this warning.\n",
      " c:\\Users\\slab\\anaconda3\\envs\\qmetal\\lib\\site-packages\\pyEPR\\core_distributed_analysis.py: 981\n"
     ]
    },
    {
     "name": "stdout",
     "output_type": "stream",
     "text": [
      "       (ℰ_E-ℰ_H)/ℰ_E       ℰ_E       ℰ_H\n",
      "               98.7%   1.09e-25 1.446e-27\n",
      "\n",
      "    Calculating junction energy participation ration (EPR)\n",
      "\tmethod=`line_voltage`. First estimates:\n",
      "\tjunction        EPR p_0j   sign s_0j    (p_capacitive)\n"
     ]
    },
    {
     "name": "stderr",
     "output_type": "stream",
     "text": [
      "WARNING:py.warnings:FutureWarning: The default dtype for empty Series will be 'object' instead of 'float64' in a future version. Specify a dtype explicitly to silence this warning.\n",
      " c:\\Users\\slab\\anaconda3\\envs\\qmetal\\lib\\site-packages\\pyEPR\\core_distributed_analysis.py: 933\n"
     ]
    },
    {
     "name": "stdout",
     "output_type": "stream",
     "text": [
      "\t\tEnergy fraction (Lj over Lj&Cj)= 98.18%\n",
      "\tjj1             0.750319  (+)        0.0138942\n",
      "\t\t(U_tot_cap-U_tot_ind)/mean=14.08%\n",
      "Calculating Qdielectric_main for mode 0 (0/1)\n"
     ]
    },
    {
     "name": "stderr",
     "output_type": "stream",
     "text": [
      "WARNING:py.warnings:FutureWarning: The series.append method is deprecated and will be removed from pandas in a future version. Use pandas.concat instead.\n",
      " c:\\Users\\slab\\anaconda3\\envs\\qmetal\\lib\\site-packages\\pyEPR\\core_distributed_analysis.py: 1307\n"
     ]
    },
    {
     "name": "stdout",
     "output_type": "stream",
     "text": [
      "p_dielectric_main_0 = 0.9103839483755216\n"
     ]
    },
    {
     "name": "stderr",
     "output_type": "stream",
     "text": [
      "WARNING:py.warnings:FutureWarning: The default dtype for empty Series will be 'object' instead of 'float64' in a future version. Specify a dtype explicitly to silence this warning.\n",
      " c:\\Users\\slab\\anaconda3\\envs\\qmetal\\lib\\site-packages\\pyEPR\\core_distributed_analysis.py: 1245\n"
     ]
    },
    {
     "name": "stdout",
     "output_type": "stream",
     "text": [
      "\n",
      "  \u001b[1mMode 1 at 5.43 GHz   [2/2]\u001b[0m\n",
      "    Calculating ℰ_magnetic,ℰ_electric\n"
     ]
    },
    {
     "name": "stderr",
     "output_type": "stream",
     "text": [
      "WARNING:py.warnings:FutureWarning: The default dtype for empty Series will be 'object' instead of 'float64' in a future version. Specify a dtype explicitly to silence this warning.\n",
      " c:\\Users\\slab\\anaconda3\\envs\\qmetal\\lib\\site-packages\\pyEPR\\core_distributed_analysis.py: 981\n"
     ]
    },
    {
     "name": "stdout",
     "output_type": "stream",
     "text": [
      "       (ℰ_E-ℰ_H)/ℰ_E       ℰ_E       ℰ_H\n",
      "                0.2%  1.712e-25  1.71e-25\n",
      "\n",
      "    Calculating junction energy participation ration (EPR)\n",
      "\tmethod=`line_voltage`. First estimates:\n",
      "\tjunction        EPR p_1j   sign s_1j    (p_capacitive)\n"
     ]
    },
    {
     "name": "stderr",
     "output_type": "stream",
     "text": [
      "WARNING:py.warnings:FutureWarning: The default dtype for empty Series will be 'object' instead of 'float64' in a future version. Specify a dtype explicitly to silence this warning.\n",
      " c:\\Users\\slab\\anaconda3\\envs\\qmetal\\lib\\site-packages\\pyEPR\\core_distributed_analysis.py: 933\n"
     ]
    },
    {
     "name": "stdout",
     "output_type": "stream",
     "text": [
      "\t\tEnergy fraction (Lj over Lj&Cj)= 96.17%\n",
      "\tjj1             0.00128577  (+)        5.12216e-05\n",
      "\t\t(U_tot_cap-U_tot_ind)/mean=0.02%\n",
      "Calculating Qdielectric_main for mode 1 (1/1)\n"
     ]
    },
    {
     "name": "stderr",
     "output_type": "stream",
     "text": [
      "WARNING:py.warnings:FutureWarning: The series.append method is deprecated and will be removed from pandas in a future version. Use pandas.concat instead.\n",
      " c:\\Users\\slab\\anaconda3\\envs\\qmetal\\lib\\site-packages\\pyEPR\\core_distributed_analysis.py: 1307\n"
     ]
    },
    {
     "name": "stdout",
     "output_type": "stream",
     "text": [
      "p_dielectric_main_1 = 0.9181653841834494\n"
     ]
    },
    {
     "name": "stderr",
     "output_type": "stream",
     "text": [
      "WARNING:py.warnings:FutureWarning: The default dtype for empty Series will be 'object' instead of 'float64' in a future version. Specify a dtype explicitly to silence this warning.\n",
      " c:\\Users\\slab\\anaconda3\\envs\\qmetal\\lib\\site-packages\\pyEPR\\project_info.py: 239\n",
      "WARNING 12:07AM [__init__]: <p>Error: <class 'IndexError'></p>\n",
      "ERROR 12:07AM [_get_participation_normalized]: WARNING: U_tot_cap-U_tot_ind / mean = 28.2% is > 15%.                     \n",
      "Is the simulation converged? Proceed with caution\n",
      "ERROR 12:07AM [_get_participation_normalized]: WARNING: U_tot_cap-U_tot_ind / mean = 28.2% is > 15%.                     \n",
      "Is the simulation converged? Proceed with caution\n",
      "WARNING:py.warnings:FutureWarning: Support for multi-dimensional indexing (e.g. `obj[:, None]`) is deprecated and will be removed in a future version.  Convert to a numpy array before indexing instead.\n",
      " c:\\Users\\slab\\anaconda3\\envs\\qmetal\\lib\\site-packages\\pyEPR\\core_quantum_analysis.py: 712\n",
      "WARNING:py.warnings:FutureWarning: Support for multi-dimensional indexing (e.g. `obj[:, None]`) is deprecated and will be removed in a future version.  Convert to a numpy array before indexing instead.\n",
      " c:\\Users\\slab\\anaconda3\\envs\\qmetal\\lib\\site-packages\\pyEPR\\core_quantum_analysis.py: 717\n"
     ]
    },
    {
     "name": "stdout",
     "output_type": "stream",
     "text": [
      "\n",
      "ANALYSIS DONE. Data saved to:\n",
      "\n",
      "C:\\data-pyEPR\\Project54\\q2_sim_hfss\\2025-02-10 00-06-52.npz\n",
      "\n",
      "\n",
      "\t Differences in variations:\n",
      "\n",
      "\n",
      "\n",
      " . . . . . . . . . . . . . . . . . . . . . . . . . . . . . . . . . . . . . . . . \n",
      "Variation 0\n",
      "\n",
      "Starting the diagonalization\n",
      "Finished the diagonalization\n",
      "Pm_norm=\n",
      "modes\n",
      "0    1.331099\n",
      "1    1.157208\n",
      "dtype: float64\n",
      "\n",
      "Pm_norm idx =\n",
      "     jj1\n",
      "0   True\n",
      "1  False\n",
      "*** P (participation matrix, not normlz.)\n",
      "        jj1\n",
      "0  0.740037\n",
      "1  0.001286\n",
      "\n",
      "*** S (sign-bit matrix)\n",
      "   s_jj1\n",
      "0     -1\n",
      "1      1\n",
      "*** P (participation matrix, normalized.)\n",
      "      0.99\n",
      "    0.0013\n",
      "\n",
      "*** Chi matrix O1 PT (MHz)\n",
      "    Diag is anharmonicity, off diag is full cross-Kerr.\n",
      "       174    0.666\n",
      "     0.666 0.000638\n",
      "\n",
      "*** Chi matrix ND (MHz) \n",
      "       193    0.556\n",
      "     0.556 0.000452\n",
      "\n",
      "*** Frequencies O1 PT (MHz)\n",
      "0    3529.522240\n",
      "1    5432.268188\n",
      "dtype: float64\n",
      "\n",
      "*** Frequencies ND (MHz)\n",
      "0    3520.392600\n",
      "1    5432.283875\n",
      "dtype: float64\n",
      "\n",
      "*** Q_coupling\n",
      "Empty DataFrame\n",
      "Columns: []\n",
      "Index: [0, 1]\n"
     ]
    },
    {
     "data": {
      "text/markdown": [
       "#### Mode frequencies (MHz)"
      ],
      "text/plain": [
       "<IPython.core.display.Markdown object>"
      ]
     },
     "metadata": {},
     "output_type": "display_data"
    },
    {
     "data": {
      "text/markdown": [
       "###### Numerical diagonalization"
      ],
      "text/plain": [
       "<IPython.core.display.Markdown object>"
      ]
     },
     "metadata": {},
     "output_type": "display_data"
    },
    {
     "data": {
      "text/html": [
       "<div>\n",
       "<style scoped>\n",
       "    .dataframe tbody tr th:only-of-type {\n",
       "        vertical-align: middle;\n",
       "    }\n",
       "\n",
       "    .dataframe tbody tr th {\n",
       "        vertical-align: top;\n",
       "    }\n",
       "\n",
       "    .dataframe thead th {\n",
       "        text-align: right;\n",
       "    }\n",
       "</style>\n",
       "<table border=\"1\" class=\"dataframe\">\n",
       "  <thead>\n",
       "    <tr style=\"text-align: right;\">\n",
       "      <th>Lj</th>\n",
       "      <th>17.1</th>\n",
       "    </tr>\n",
       "  </thead>\n",
       "  <tbody>\n",
       "    <tr>\n",
       "      <th>0</th>\n",
       "      <td>3520.39</td>\n",
       "    </tr>\n",
       "    <tr>\n",
       "      <th>1</th>\n",
       "      <td>5432.28</td>\n",
       "    </tr>\n",
       "  </tbody>\n",
       "</table>\n",
       "</div>"
      ],
      "text/plain": [
       "Lj     17.1\n",
       "0   3520.39\n",
       "1   5432.28"
      ]
     },
     "metadata": {},
     "output_type": "display_data"
    },
    {
     "data": {
      "text/markdown": [
       "#### Kerr Non-linear coefficient table (MHz)"
      ],
      "text/plain": [
       "<IPython.core.display.Markdown object>"
      ]
     },
     "metadata": {},
     "output_type": "display_data"
    },
    {
     "data": {
      "text/markdown": [
       "###### Numerical diagonalization"
      ],
      "text/plain": [
       "<IPython.core.display.Markdown object>"
      ]
     },
     "metadata": {},
     "output_type": "display_data"
    },
    {
     "data": {
      "text/html": [
       "<div>\n",
       "<style scoped>\n",
       "    .dataframe tbody tr th:only-of-type {\n",
       "        vertical-align: middle;\n",
       "    }\n",
       "\n",
       "    .dataframe tbody tr th {\n",
       "        vertical-align: top;\n",
       "    }\n",
       "\n",
       "    .dataframe thead th {\n",
       "        text-align: right;\n",
       "    }\n",
       "</style>\n",
       "<table border=\"1\" class=\"dataframe\">\n",
       "  <thead>\n",
       "    <tr style=\"text-align: right;\">\n",
       "      <th></th>\n",
       "      <th></th>\n",
       "      <th>0</th>\n",
       "      <th>1</th>\n",
       "    </tr>\n",
       "    <tr>\n",
       "      <th>Lj</th>\n",
       "      <th></th>\n",
       "      <th></th>\n",
       "      <th></th>\n",
       "    </tr>\n",
       "  </thead>\n",
       "  <tbody>\n",
       "    <tr>\n",
       "      <th rowspan=\"2\" valign=\"top\">17.1</th>\n",
       "      <th>0</th>\n",
       "      <td>193.29</td>\n",
       "      <td>5.56e-01</td>\n",
       "    </tr>\n",
       "    <tr>\n",
       "      <th>1</th>\n",
       "      <td>0.56</td>\n",
       "      <td>4.52e-04</td>\n",
       "    </tr>\n",
       "  </tbody>\n",
       "</table>\n",
       "</div>"
      ],
      "text/plain": [
       "             0         1\n",
       "Lj                      \n",
       "17.1 0  193.29  5.56e-01\n",
       "     1    0.56  4.52e-04"
      ]
     },
     "metadata": {},
     "output_type": "display_data"
    }
   ],
   "source": [
    "# Initialize the handler\n",
    "\n",
    "\n",
    "# Run simulation for Q1\n",
    "components_q1 = ['Q1', 'res1', 'tee1']\n",
    "hfss_handler = HFSSHandler(design, components_q1,nmodes = 2,Ljs = [f'{qubit_q1.L}'])\n",
    "results_q1 = hfss_handler.run_simulation(\n",
    "    qubit=qubit_q1,\n",
    "    components=components_q1,\n",
    "    target_freq=4.0,\n",
    "    sim_name='q1_sim'\n",
    ")\n",
    "\n",
    "# Run simulation for Q2\n",
    "components_q2 = ['Q2', 'res2', 'tee2'] \n",
    "results_q2 = hfss_handler.run_simulation(\n",
    "    qubit=qubit_q2,\n",
    "    components=components_q2,\n",
    "    target_freq=3.2,\n",
    "    sim_name='q2_sim'\n",
    ")"
   ]
  },
  {
   "cell_type": "code",
   "execution_count": 70,
   "metadata": {},
   "outputs": [
    {
     "data": {
      "text/plain": [
       "{'Lj': '13nH',\n",
       " 'Cj': 0,\n",
       " '_Rj': 0,\n",
       " 'max_mesh_length_jj': '7um',\n",
       " 'max_mesh_length_port': '7um',\n",
       " 'project_path': None,\n",
       " 'project_name': None,\n",
       " 'design_name': None,\n",
       " 'x_buffer_width_mm': 0.5,\n",
       " 'y_buffer_width_mm': 0.5,\n",
       " 'wb_threshold': '72um',\n",
       " 'wb_offset': '0um',\n",
       " 'wb_size': 1.6,\n",
       " 'wb_height': 0.7,\n",
       " 'plot_ansys_fields_options': {'name': 'NAME:Mag_E1',\n",
       "  'UserSpecifyName': '0',\n",
       "  'UserSpecifyFolder': '0',\n",
       "  'QuantityName': 'Mag_E',\n",
       "  'PlotFolder': 'E Field',\n",
       "  'StreamlinePlot': 'False',\n",
       "  'AdjacentSidePlot': 'False',\n",
       "  'FullModelPlot': 'False',\n",
       "  'IntrinsicVar': \"Phase='0deg'\",\n",
       "  'PlotGeomInfo_0': '1',\n",
       "  'PlotGeomInfo_1': 'Surface',\n",
       "  'PlotGeomInfo_2': 'FacesList',\n",
       "  'PlotGeomInfo_3': '1'},\n",
       " 'substrate_height': '250um',\n",
       " 'gap': '20um'}"
      ]
     },
     "execution_count": 70,
     "metadata": {},
     "output_type": "execute_result"
    }
   ],
   "source": [
    "q3d_handler.renderer_q3d.options\n"
   ]
  },
  {
   "cell_type": "code",
   "execution_count": null,
   "metadata": {},
   "outputs": [
    {
     "ename": "com_error",
     "evalue": "(-2147023174, 'The RPC server is unavailable.', None, None)",
     "output_type": "error",
     "traceback": [
      "\u001b[1;31m---------------------------------------------------------------------------\u001b[0m",
      "\u001b[1;31mcom_error\u001b[0m                                 Traceback (most recent call last)",
      "Cell \u001b[1;32mIn [68], line 11\u001b[0m\n\u001b[0;32m      7\u001b[0m q3d_handler \u001b[38;5;241m=\u001b[39m Q3DHandler(design,)\n\u001b[0;32m     10\u001b[0m \u001b[38;5;66;03m# Run simulation and get results\u001b[39;00m\n\u001b[1;32m---> 11\u001b[0m results \u001b[38;5;241m=\u001b[39m \u001b[43mq3d_handler\u001b[49m\u001b[38;5;241;43m.\u001b[39;49m\u001b[43mrun_simulation\u001b[49m\u001b[43m(\u001b[49m\n\u001b[0;32m     12\u001b[0m \u001b[43m    \u001b[49m\u001b[43mcomponents\u001b[49m\u001b[38;5;241;43m=\u001b[39;49m\u001b[43mcomponents_q1\u001b[49m\u001b[43m,\u001b[49m\n\u001b[0;32m     13\u001b[0m \u001b[43m    \u001b[49m\u001b[43msim_name\u001b[49m\u001b[38;5;241;43m=\u001b[39;49m\u001b[38;5;124;43m'\u001b[39;49m\u001b[38;5;124;43mqubit_resonator_coupling\u001b[39;49m\u001b[38;5;124;43m'\u001b[39;49m\n\u001b[0;32m     14\u001b[0m \u001b[43m)\u001b[49m\n",
      "File \u001b[1;32mc:\\Users\\slab\\Desktop\\Wendy-qiskit-code\\analysis\\q3d_simulation.py:85\u001b[0m, in \u001b[0;36mQ3DHandler.run_simulation\u001b[1;34m(self, components, sim_name, save_dir)\u001b[0m\n\u001b[0;32m     82\u001b[0m dat \u001b[38;5;241m=\u001b[39m {}\n\u001b[0;32m     84\u001b[0m \u001b[38;5;66;03m# Run Q3D simulation\u001b[39;00m\n\u001b[1;32m---> 85\u001b[0m \u001b[38;5;28;43mself\u001b[39;49m\u001b[38;5;241;43m.\u001b[39;49m\u001b[43mq3d\u001b[49m\u001b[38;5;241;43m.\u001b[39;49m\u001b[43msim\u001b[49m\u001b[38;5;241;43m.\u001b[39;49m\u001b[43mrun\u001b[49m\u001b[43m(\u001b[49m\u001b[43mname\u001b[49m\u001b[38;5;241;43m=\u001b[39;49m\u001b[43msim_name\u001b[49m\u001b[43m,\u001b[49m\u001b[43m \u001b[49m\u001b[43mcomponents\u001b[49m\u001b[38;5;241;43m=\u001b[39;49m\u001b[43mcomponents\u001b[49m\u001b[43m)\u001b[49m\n\u001b[0;32m     87\u001b[0m \u001b[38;5;66;03m# Get capacitance matrix\u001b[39;00m\n\u001b[0;32m     88\u001b[0m cap_matrix \u001b[38;5;241m=\u001b[39m \u001b[38;5;28mself\u001b[39m\u001b[38;5;241m.\u001b[39mq3d\u001b[38;5;241m.\u001b[39msim\u001b[38;5;241m.\u001b[39mcapacitance_matrix\n",
      "File \u001b[1;32mc:\\_lib\\python\\qiskit-metal\\qiskit_metal\\analyses\\core\\simulation.py:203\u001b[0m, in \u001b[0;36mQSimulation.run\u001b[1;34m(self, *args, **kwargs)\u001b[0m\n\u001b[0;32m    199\u001b[0m \u001b[38;5;28;01mdef\u001b[39;00m \u001b[38;5;21mrun\u001b[39m(\u001b[38;5;28mself\u001b[39m, \u001b[38;5;241m*\u001b[39margs, \u001b[38;5;241m*\u001b[39m\u001b[38;5;241m*\u001b[39mkwargs):\n\u001b[0;32m    200\u001b[0m     \u001b[38;5;124;03m\"\"\"Alias for run_sim() necessary to implement super-class method, while\u001b[39;00m\n\u001b[0;32m    201\u001b[0m \u001b[38;5;124;03m    preventing method name collision when sim and non-sim QAnalysis classes are inherited.\u001b[39;00m\n\u001b[0;32m    202\u001b[0m \u001b[38;5;124;03m    \"\"\"\u001b[39;00m\n\u001b[1;32m--> 203\u001b[0m     \u001b[38;5;28mself\u001b[39m\u001b[38;5;241m.\u001b[39mrun_sim(\u001b[38;5;241m*\u001b[39margs, \u001b[38;5;241m*\u001b[39m\u001b[38;5;241m*\u001b[39mkwargs)\n",
      "File \u001b[1;32mc:\\_lib\\python\\qiskit-metal\\qiskit_metal\\analyses\\simulation\\lumped_elements.py:138\u001b[0m, in \u001b[0;36mLumpedElementsSim.run_sim\u001b[1;34m(self, name, components, open_terminations, box_plus_buffer)\u001b[0m\n\u001b[0;32m    135\u001b[0m \u001b[38;5;66;03m# wipe data from the previous run (if any)\u001b[39;00m\n\u001b[0;32m    136\u001b[0m \u001b[38;5;28mself\u001b[39m\u001b[38;5;241m.\u001b[39mclear_data()\n\u001b[1;32m--> 138\u001b[0m \u001b[38;5;28;01mif\u001b[39;00m \u001b[38;5;129;01mnot\u001b[39;00m \u001b[38;5;28;43mself\u001b[39;49m\u001b[38;5;241;43m.\u001b[39;49m\u001b[43mrenderer_initialized\u001b[49m:\n\u001b[0;32m    139\u001b[0m     \u001b[38;5;28mself\u001b[39m\u001b[38;5;241m.\u001b[39m_initialize_renderer()\n\u001b[0;32m    141\u001b[0m renderer_design_name \u001b[38;5;241m=\u001b[39m \u001b[38;5;28mself\u001b[39m\u001b[38;5;241m.\u001b[39m_render(name\u001b[38;5;241m=\u001b[39mname,\n\u001b[0;32m    142\u001b[0m                                     solution_type\u001b[38;5;241m=\u001b[39m\u001b[38;5;124m'\u001b[39m\u001b[38;5;124mcapacitive\u001b[39m\u001b[38;5;124m'\u001b[39m,\n\u001b[0;32m    143\u001b[0m                                     selection\u001b[38;5;241m=\u001b[39mcomponents,\n\u001b[0;32m    144\u001b[0m                                     open_pins\u001b[38;5;241m=\u001b[39mopen_terminations,\n\u001b[0;32m    145\u001b[0m                                     box_plus_buffer\u001b[38;5;241m=\u001b[39mbox_plus_buffer,\n\u001b[0;32m    146\u001b[0m                                     vars_to_initialize\u001b[38;5;241m=\u001b[39mDict())\n",
      "File \u001b[1;32mc:\\_lib\\python\\qiskit-metal\\qiskit_metal\\analyses\\core\\simulation.py:189\u001b[0m, in \u001b[0;36mQSimulation.renderer_initialized\u001b[1;34m(self)\u001b[0m\n\u001b[0;32m    185\u001b[0m \u001b[38;5;129m@property\u001b[39m\n\u001b[0;32m    186\u001b[0m \u001b[38;5;28;01mdef\u001b[39;00m \u001b[38;5;21mrenderer_initialized\u001b[39m(\u001b[38;5;28mself\u001b[39m):\n\u001b[0;32m    187\u001b[0m     \u001b[38;5;124;03m\"\"\"Reports whether the renderer is initialized or stopped.\u001b[39;00m\n\u001b[0;32m    188\u001b[0m \u001b[38;5;124;03m    \"\"\"\u001b[39;00m\n\u001b[1;32m--> 189\u001b[0m     \u001b[38;5;28;01mreturn\u001b[39;00m \u001b[38;5;28;43mself\u001b[39;49m\u001b[38;5;241;43m.\u001b[39;49m\u001b[43mrenderer\u001b[49m\u001b[38;5;241;43m.\u001b[39;49m\u001b[43minitialized\u001b[49m\n",
      "File \u001b[1;32mc:\\_lib\\python\\qiskit-metal\\qiskit_metal\\renderers\\renderer_ansys\\ansys_renderer.py:261\u001b[0m, in \u001b[0;36mQAnsysRenderer.initialized\u001b[1;34m(self)\u001b[0m\n\u001b[0;32m    256\u001b[0m \u001b[38;5;28;01mif\u001b[39;00m \u001b[38;5;28mself\u001b[39m\u001b[38;5;241m.\u001b[39m_pinfo\u001b[38;5;241m.\u001b[39mproject:\n\u001b[0;32m    257\u001b[0m     \u001b[38;5;28;01mtry\u001b[39;00m:\n\u001b[0;32m    258\u001b[0m         \u001b[38;5;66;03m# this is because after previous pyEPR close(),\u001b[39;00m\n\u001b[0;32m    259\u001b[0m         \u001b[38;5;66;03m# the pinfo.project becomes None, but the type is not None (method)\u001b[39;00m\n\u001b[0;32m    260\u001b[0m         \u001b[38;5;66;03m# TODO: fix where appropriate, then remove this patch.\u001b[39;00m\n\u001b[1;32m--> 261\u001b[0m         \u001b[38;5;28;43mself\u001b[39;49m\u001b[38;5;241;43m.\u001b[39;49m\u001b[43m_pinfo\u001b[49m\u001b[38;5;241;43m.\u001b[39;49m\u001b[43mproject\u001b[49m\u001b[38;5;241;43m.\u001b[39;49m\u001b[43mname\u001b[49m\n\u001b[0;32m    262\u001b[0m     \u001b[38;5;28;01mexcept\u001b[39;00m \u001b[38;5;167;01mAttributeError\u001b[39;00m:\n\u001b[0;32m    263\u001b[0m         \u001b[38;5;28;01mreturn\u001b[39;00m \u001b[38;5;28;01mFalse\u001b[39;00m\n",
      "File \u001b[1;32mc:\\Users\\slab\\anaconda3\\envs\\qmetal\\lib\\site-packages\\pyEPR\\ansys.py:616\u001b[0m, in \u001b[0;36mHfssProject.name\u001b[1;34m(self)\u001b[0m\n\u001b[0;32m    614\u001b[0m \u001b[38;5;129m@property\u001b[39m  \u001b[38;5;66;03m# v2016\u001b[39;00m\n\u001b[0;32m    615\u001b[0m \u001b[38;5;28;01mdef\u001b[39;00m \u001b[38;5;21mname\u001b[39m(\u001b[38;5;28mself\u001b[39m):\n\u001b[1;32m--> 616\u001b[0m     \u001b[38;5;28;01mreturn\u001b[39;00m \u001b[38;5;28;43mself\u001b[39;49m\u001b[38;5;241;43m.\u001b[39;49m\u001b[43m_project\u001b[49m\u001b[38;5;241;43m.\u001b[39;49m\u001b[43mGetName\u001b[49m\u001b[43m(\u001b[49m\u001b[43m)\u001b[49m\n",
      "File \u001b[1;32m<COMObject GetActiveProject>:3\u001b[0m, in \u001b[0;36mGetName\u001b[1;34m(self)\u001b[0m\n",
      "\u001b[1;31mcom_error\u001b[0m: (-2147023174, 'The RPC server is unavailable.', None, None)"
     ]
    }
   ],
   "source": [
    "# Initialize the Q3D handler\n",
    "\n",
    "\n",
    "# Setup simulation for qubit and resonator\n",
    "components_q1 = ['Q1', 'res1', 'tee1']\n",
    "\n",
    "q3d_handler = Q3DHandler(design,)\n",
    "\n",
    "q3d_handler.setup_capacitance(components_q1,substrate_height = '500um',gap = '15um')\n",
    "\n",
    "# Run simulation and get results\n",
    "results = q3d_handler.run_simulation(\n",
    "    components=components_q1,\n",
    "    sim_name='qubit_resonator_coupling'\n",
    ")"
   ]
  },
  {
   "cell_type": "code",
   "execution_count": 52,
   "metadata": {},
   "outputs": [],
   "source": [
    "mat = q3d_handler.q3d.sim.capacitance_matrix\n"
   ]
  },
  {
   "cell_type": "code",
   "execution_count": 59,
   "metadata": {},
   "outputs": [
    {
     "data": {
      "text/plain": [
       "Index(['ground_main_plane', 'pad_left_Q1', 'pad_right_Q1',\n",
       "       'resonator_pad_0_Q1'],\n",
       "      dtype='object')"
      ]
     },
     "execution_count": 59,
     "metadata": {},
     "output_type": "execute_result"
    }
   ],
   "source": [
    "mat.columns\n"
   ]
  },
  {
   "cell_type": "code",
   "execution_count": 65,
   "metadata": {},
   "outputs": [],
   "source": [
    "dat = {}\n",
    "for i, col in enumerate(mat.columns):\n",
    "    for j, row in enumerate(mat.columns):\n",
    "        if i <= j:\n",
    "            dat[f'C{i+1}{j+1} (fF)'] = mat[col][row]\n",
    "\n"
   ]
  },
  {
   "cell_type": "code",
   "execution_count": 66,
   "metadata": {},
   "outputs": [
    {
     "data": {
      "text/plain": [
       "{'C11 (fF)': 2021.25705,\n",
       " 'C12 (fF)': -89.35163,\n",
       " 'C13 (fF)': -92.51463,\n",
       " 'C14 (fF)': -1645.07586,\n",
       " 'C22 (fF)': 142.80311,\n",
       " 'C23 (fF)': -38.21205,\n",
       " 'C24 (fF)': -13.50632,\n",
       " 'C33 (fF)': 133.44937,\n",
       " 'C34 (fF)': -0.55404,\n",
       " 'C44 (fF)': 1660.08353}"
      ]
     },
     "execution_count": 66,
     "metadata": {},
     "output_type": "execute_result"
    }
   ],
   "source": [
    "dat"
   ]
  },
  {
   "cell_type": "markdown",
   "metadata": {},
   "source": [
    "# GDS"
   ]
  },
  {
   "cell_type": "code",
   "execution_count": 46,
   "metadata": {},
   "outputs": [],
   "source": [
    "# design.chips.main.size['size_x'] = '10mm'\n",
    "# design.chips.main.size['size_y'] = '10mm'\n",
    "# gui.rebuild()\n",
    "a_gds = design.renderers.gds"
   ]
  },
  {
   "cell_type": "code",
   "execution_count": 47,
   "metadata": {},
   "outputs": [],
   "source": [
    "qubit_layer = 5\n",
    "junction_layer = 20\n",
    "ab_layer = 31\n",
    "ab_square_layer = 30\n",
    "junction_area_layer = 60\n",
    "junction_bandage_layer = 299    \n",
    "junction_uc_layer = 699"
   ]
  },
  {
   "cell_type": "code",
   "execution_count": 48,
   "metadata": {},
   "outputs": [],
   "source": [
    "a_gds.options['max_points'] = 3000\n",
    "a_gds.options['fabricate'] = True"
   ]
  },
  {
   "cell_type": "code",
   "execution_count": 49,
   "metadata": {},
   "outputs": [],
   "source": [
    "a_gds.options['cheese']['view_in_file']['main'][qubit_layer] = True\n",
    "a_gds.options['no_cheese']['view_in_file']['main'][qubit_layer] = True\n",
    "a_gds.options['cheese']['view_in_file']['main'][junction_layer] = False\n",
    "a_gds.options['no_cheese']['view_in_file']['main'][junction_layer] = False\n",
    "a_gds.options['cheese']['view_in_file']['main'][ab_layer] = False\n",
    "a_gds.options['no_cheese']['view_in_file']['main'][ab_layer] = False\n",
    "a_gds.options['cheese']['view_in_file']['main'][ab_square_layer] = False\n",
    "a_gds.options['no_cheese']['view_in_file']['main'][ab_square_layer] = True\n",
    "a_gds.options['cheese']['view_in_file']['main'][1] = False\n",
    "a_gds.options['no_cheese']['view_in_file']['main'][1] = False"
   ]
  },
  {
   "cell_type": "code",
   "execution_count": 50,
   "metadata": {},
   "outputs": [],
   "source": [
    "a_gds.options.tolerance = '0.0000005'\n",
    "a_gds.options.precision = '0.0000000005'"
   ]
  },
  {
   "cell_type": "code",
   "execution_count": 51,
   "metadata": {},
   "outputs": [],
   "source": [
    "a_gds.options['negative_mask'] = dict(main= [qubit_layer])"
   ]
  },
  {
   "cell_type": "code",
   "execution_count": 52,
   "metadata": {},
   "outputs": [],
   "source": [
    "a_gds.options.cheese.edge_nocheese = '150um'\n",
    "a_gds.options.no_cheese.buffer = '200um'\n",
    "a_gds.options.cheese.cheese_1_radius = '10um'\n",
    "a_gds.options.cheese.cheese_0_x = '10um'\n",
    "a_gds.options.cheese.cheese_0_y = '10um'"
   ]
  },
  {
   "cell_type": "code",
   "execution_count": 53,
   "metadata": {},
   "outputs": [
    {
     "name": "stderr",
     "output_type": "stream",
     "text": [
      "WARNING:py.warnings:FutureWarning: The frame.append method is deprecated and will be removed from pandas in a future version. Use pandas.concat instead.\n",
      " /Users/wendy/_Lib/qiskit-metal/qiskit_metal/renderers/renderer_gds/gds_renderer.py: 780\n"
     ]
    },
    {
     "name": "stderr",
     "output_type": "stream",
     "text": [
      "WARNING:py.warnings:FutureWarning: The frame.append method is deprecated and will be removed from pandas in a future version. Use pandas.concat instead.\n",
      " /Users/wendy/_Lib/qiskit-metal/qiskit_metal/renderers/renderer_gds/gds_renderer.py: 780\n",
      "11:29AM 53s WARNING [_qgeometry_to_gds]: Unexpected shapely object geometry.The variable qgeometry_element is <class 'numpy.float64'>, method can currently handle Polygon and FlexPath.\n",
      "11:29AM 53s WARNING [_qgeometry_to_gds]: Unexpected shapely object geometry.The variable qgeometry_element is <class 'numpy.float64'>, method can currently handle Polygon and FlexPath.\n",
      "11:29AM 53s WARNING [_qgeometry_to_gds]: Unexpected shapely object geometry.The variable qgeometry_element is <class 'numpy.float64'>, method can currently handle Polygon and FlexPath.\n",
      "11:29AM 53s WARNING [_qgeometry_to_gds]: Unexpected shapely object geometry.The variable qgeometry_element is <class 'numpy.float64'>, method can currently handle Polygon and FlexPath.\n",
      "11:29AM 54s WARNING [_import_junction_gds_file]: Not able to find file:\"../resources/Fake_Junctions.GDS\".  Not used to replace junction. Checked directory:\"/Users/wendy/Desktop/Wendy-qiskit-code/Projects/coherence qubit/resources\".\n",
      "11:29AM 54s WARNING [_cheese_buffer_maker]: The bounding box for no-cheese is outside of chip size.\n",
      "Bounding box for chip is (-3.5, -3.5, 3.5, 3.5).\n",
      "Bounding box with no_cheese buffer is (-3.0, -3.6, 3.6, 2.9).\n",
      "11:29AM 54s WARNING [_check_either_cheese]: layer=299 is not in chip=main either in no_cheese_view_in_file or cheese_view_in_file from self.options.\n",
      "11:29AM 54s WARNING [_check_either_cheese]: layer=699 is not in chip=main either in no_cheese_view_in_file or cheese_view_in_file from self.options.\n",
      "11:29AM 54s WARNING [_check_either_cheese]: layer=60 is not in chip=main either in no_cheese_view_in_file or cheese_view_in_file from self.options.\n"
     ]
    },
    {
     "data": {
      "text/plain": [
       "1"
      ]
     },
     "execution_count": 53,
     "metadata": {},
     "output_type": "execute_result"
    }
   ],
   "source": [
    "# gui.rebuild()\n",
    "\n",
    "for i,qubit in enumerate([q1, q2, q3]):\n",
    "    update_config(qb_json_path,qubit_index=i,updates = qubit.options)\n",
    "for i, res in enumerate([res1,res2,res3]):\n",
    "    update_config(rr_json_path,qubit_index=i,updates = res.options)\n",
    "for i, tee in enumerate([tee1,tee2,tee3]):\n",
    "    update_config(tee_json_path,qubit_index=i,updates = tee.options)\n",
    "for i, wb in enumerate([wb_left,wb_right]):\n",
    "    update_config(wb_json_path,qubit_index=i,updates = wb.options)\n",
    "\n",
    "\n",
    "a_gds.export_to_gds(f'{dir_string}/SiQb03_PW_offset{jc_offset}.gds')\n",
    "\n"
   ]
  },
  {
   "cell_type": "code",
   "execution_count": 54,
   "metadata": {},
   "outputs": [],
   "source": [
    "a_gds.options['check_short_segments_by_scaling_fillet'] = '1.0'"
   ]
  },
  {
   "cell_type": "code",
   "execution_count": null,
   "metadata": {},
   "outputs": [],
   "source": []
  },
  {
   "cell_type": "code",
   "execution_count": null,
   "metadata": {},
   "outputs": [],
   "source": []
  }
 ],
 "metadata": {
  "kernelspec": {
   "display_name": "qmetal",
   "language": "python",
   "name": "qmetal"
  },
  "language_info": {
   "codemirror_mode": {
    "name": "ipython",
    "version": 3
   },
   "file_extension": ".py",
   "mimetype": "text/x-python",
   "name": "python",
   "nbconvert_exporter": "python",
   "pygments_lexer": "ipython3",
   "version": "3.10.8"
  }
 },
 "nbformat": 4,
 "nbformat_minor": 2
}
