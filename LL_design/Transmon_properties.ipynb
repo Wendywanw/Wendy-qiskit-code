{
 "cells": [
  {
   "attachments": {},
   "cell_type": "markdown",
   "metadata": {},
   "source": [
    "## This notebook is adapted from Yueheng's Mathematica Notebook. "
   ]
  },
  {
   "attachments": {},
   "cell_type": "markdown",
   "metadata": {},
   "source": [
    "This notebook requires installation of the astropy, numpy package to keep track of units. Please download the package using conda or your preferred package management software. "
   ]
  },
  {
   "cell_type": "code",
   "execution_count": null,
   "metadata": {},
   "outputs": [],
   "source": []
  },
  {
   "cell_type": "code",
   "execution_count": 3,
   "metadata": {},
   "outputs": [],
   "source": [
    "import numpy as np\n",
    "import astropy.units as u\n",
    "import astropy.constants as c"
   ]
  },
  {
   "cell_type": "code",
   "execution_count": 4,
   "metadata": {},
   "outputs": [],
   "source": [
    "phi0 = c.h/2/c.e.si\n",
    "T = 30*u.mK\n",
    "epsilon_r = 11.45\n"
   ]
  },
  {
   "attachments": {},
   "cell_type": "markdown",
   "metadata": {},
   "source": [
    "### Define some Transmon parameters and calculate transmon only numbers"
   ]
  },
  {
   "cell_type": "code",
   "execution_count": 13,
   "metadata": {},
   "outputs": [],
   "source": [
    "Cq = 104*u.fF\n",
    "Lj = 8*u.nH\n",
    "Ec = (c.e.si**2/2/Cq).to(u.J)\n",
    "Ej = ((phi0/2/np.pi)**2/Lj).to(u.J)\n",
    "# epsilon1 = -Ec*2**9\n",
    "wq = (np.sqrt(8*Ej*Ec)-Ec)/c.hbar\n",
    "fq = wq/2/np.pi\n",
    "alpha = Ec/c.h"
   ]
  },
  {
   "cell_type": "code",
   "execution_count": 14,
   "metadata": {},
   "outputs": [
    {
     "name": "stdout",
     "output_type": "stream",
     "text": [
      "Transmon Frequency is: 5.331452680160795 GHz\n",
      "The anharmonicity is: 186.25220504479924 MHz\n",
      "The ratio  Ej/Ec is: 109.70441448429011\n"
     ]
    }
   ],
   "source": [
    "print('Transmon Frequency is:',fq.to(u.GHz))\n",
    "print('The anharmonicity is:', alpha.to(u.MHz))#150 to 400 MHZ?\n",
    "print('The ratio  Ej/Ec is:', Ej/Ec)"
   ]
  },
  {
   "attachments": {},
   "cell_type": "markdown",
   "metadata": {},
   "source": [
    "### Define some Resonator parameters and resonator only numbers"
   ]
  },
  {
   "cell_type": "code",
   "execution_count": 7,
   "metadata": {},
   "outputs": [],
   "source": [
    "fr = 6.4*u.GHz\n",
    "wr = fr*2*np.pi\n",
    "#why is this the speed of light?\n",
    "\n",
    "#Capacitance and Inductance per unit length calculated using \n",
    "# https://wcalc.sourceforge.net/cgi-bin/coplanar.cgi?wc_unit_menu_1_0=nH&wc_unit_menu_1_1=m&wc_unit_menu_2_0=mOhm&wc_unit_menu_2_1=m&wc_unit_menu_3_0=fF&wc_unit_menu_3_1=m&wc_unit_menu_4_0=uMho&wc_unit_menu_4_1=inch&wc_unit_menu_7_0=dB&wc_unit_menu_8_0=dB&wc_unit_menu_8_1=inch&wc_unit_menu_12_0=mil&wc_unit_menu_11_0=ns&wc_unit_menu_13_0=inch&w=13&wc_unit_menu_0_0=um&s=9&l=4&wc_unit_menu_5_0=mm&tmet=0.25&rho=0&wc_unit_menu_9_0=Ohm&wc_unit_menu_9_1=m&rough=0&wc_unit_menu_10_0=mil&h=350&es=11.45&tand=0&freq=7&wc_unit_menu_6_0=GHz&analyze=Analyze&Ro=51.7611&elen=84.3896\n",
    "cc = 165*u.pF/u.m\n",
    "ll = 423*u.nH/u.m\n",
    "#the above capacitance and indictance gives the speed of light in the transmisison line\n",
    "\n",
    "v = 1/np.sqrt(ll*cc).si\n",
    "lam  = v*(1/fr).to(u.s)\n",
    "\n",
    "\n",
    "L= lam/4\n",
    "# Cr = cc*L\n",
    "Cr = 1600*u.fF\n",
    "# v0 = \n",
    "\n",
    "lr = (1/Cr/wr**2).to(u.nH)\n",
    "delta = wq-wr\n",
    "delta_f = delta/2/np.pi\n",
    "\n",
    "n = (np.exp(c.hbar*wr/c.k_B/T)-1)**(-1)#probability of particle in the excited state of the transmon"
   ]
  },
  {
   "cell_type": "code",
   "execution_count": 8,
   "metadata": {},
   "outputs": [
    {
     "name": "stdout",
     "output_type": "stream",
     "text": [
      "The detuning between transmon and resonator is: -2.2578083773664055 GHz\n",
      "The probability of thermal excited state is: 3.577184408819792e-05\n"
     ]
    }
   ],
   "source": [
    "print('The detuning between transmon and resonator is:', delta_f.to(u.GHz))\n",
    "print('The probability of thermal excited state is:', n)"
   ]
  },
  {
   "cell_type": "code",
   "execution_count": 9,
   "metadata": {},
   "outputs": [
    {
     "data": {
      "text/latex": [
       "$0.0046757134 \\; \\mathrm{m}$"
      ],
      "text/plain": [
       "<Quantity 0.00467571 m>"
      ]
     },
     "execution_count": 9,
     "metadata": {},
     "output_type": "execute_result"
    }
   ],
   "source": [
    "L"
   ]
  },
  {
   "attachments": {},
   "cell_type": "markdown",
   "metadata": {},
   "source": [
    "### Qubit-Resonator Coupling Parameters"
   ]
  },
  {
   "cell_type": "code",
   "execution_count": 10,
   "metadata": {},
   "outputs": [],
   "source": [
    "Cg = 10*u.fF\n",
    "Cj = 4*u.fF\n",
    "C_sum = Cq+Cj\n",
    "\n",
    "\n",
    "Zvac = np.sqrt(c.mu0/c.eps0).to(u.Ohm)\n",
    "Zr = np.sqrt(lr/Cr).to(u.Ohm)\n",
    "alpha_fine = 1/4/np.pi/c.eps0*c.e.si**2/c.hbar/c.c\n",
    "Rk = c.h/c.e.si**2\n",
    "\n",
    "g_1 = wr*Cg/C_sum*(Ej/2/Ec)**(1/4)*np.sqrt(Zr/Zvac)*np.sqrt(2*np.pi*alpha_fine)\n",
    "g_2 = wr*Cg/C_sum*(Ej/2/Ec)**(1/4)*np.sqrt(np.pi*Zr/Rk)\n",
    "chi = -g_1**2*Ec/c.hbar/delta/(delta-Ec/c.hbar)\n",
    "wr_coupled = wr-g_1**2/(delta-Ec/c.hbar)\n",
    "wq_coupled = wq+g_1**2/delta\n",
    "kappa = 2*chi.decompose()"
   ]
  },
  {
   "cell_type": "code",
   "execution_count": 11,
   "metadata": {},
   "outputs": [
    {
     "name": "stdout",
     "output_type": "stream",
     "text": [
      "The coupling strength between the resonator and the transmon (g) is: 62.12391360790936 MHz\n",
      "The dispersive shift of the cavity is: -0.8184645217687353 MHz\n",
      "The qubit frequency changed from  4.142191622633595 GHz  to  4.140482274453008 GHz\n",
      "The cavity frequency changed from  6.4 GHz  to  6.401579085506201 GHz\n"
     ]
    }
   ],
   "source": [
    "print('The coupling strength between the resonator and the transmon (g) is:', g_1.to(u.MHz)/2/np.pi)\n",
    "print('The dispersive shift of the cavity is:', chi.to(u.MHz))#aim for 1MHz\n",
    "print('The qubit frequency changed from ', wq.to(u.GHz)/2/np.pi, ' to ', wq_coupled.to(u.GHz)/2/np.pi)\n",
    "print('The cavity frequency changed from ', wr.to(u.GHz)/2/np.pi, ' to ', wr_coupled.to(u.GHz)/2/np.pi)"
   ]
  },
  {
   "cell_type": "code",
   "execution_count": 12,
   "metadata": {},
   "outputs": [
    {
     "data": {
      "text/latex": [
       "$-1.636929 \\; \\mathrm{MHz}$"
      ],
      "text/plain": [
       "<Quantity -1.63692904 MHz>"
      ]
     },
     "execution_count": 12,
     "metadata": {},
     "output_type": "execute_result"
    }
   ],
   "source": [
    "kappa.to(u.MHz)"
   ]
  },
  {
   "cell_type": "code",
   "execution_count": 13,
   "metadata": {},
   "outputs": [],
   "source": [
    "n_crit = 1/3*(np.absolute(delta-Ec/c.hbar)**2/4/g_1**2-1)"
   ]
  },
  {
   "cell_type": "code",
   "execution_count": 14,
   "metadata": {},
   "outputs": [
    {
     "name": "stdout",
     "output_type": "stream",
     "text": [
      "A conservative estimate of critical photon numbers in the system gives: 128.6474687835306\n"
     ]
    }
   ],
   "source": [
    "print('A conservative estimate of critical photon numbers in the system gives:', n_crit)"
   ]
  },
  {
   "attachments": {},
   "cell_type": "markdown",
   "metadata": {},
   "source": [
    "### Qubit coherence parameters"
   ]
  },
  {
   "cell_type": "code",
   "execution_count": 15,
   "metadata": {},
   "outputs": [],
   "source": [
    "def lambda_func(omega):\n",
    "    return(Ck/np.sqrt(c.c*Cr))*np.sqrt(omega*wr/2/np.pi/v)"
   ]
  },
  {
   "cell_type": "code",
   "execution_count": 18,
   "metadata": {},
   "outputs": [],
   "source": [
    "Ck = 6*u.fF #coupling between the transmission line and the resonator\n",
    "kappa = 1*u.MHz\n",
    "\n",
    "#decay due to spontaneous emission due to coupling\n",
    "gamma = (g_1**2*np.absolute(kappa)/delta**2).si #formula 3.55 from yale thesis\n",
    "T1 = 1/gamma\n",
    "\n",
    "#dephasing due to charge noise\n",
    "A = 1e-4\n",
    "epsilon_1 = (-1)*Ec*2**(4+5)/1*np.sqrt(2/np.pi)*(Ej/2/Ec)**(1/2+3/4)*np.exp(-np.sqrt(8*Ej/Ec))\n",
    "Tphi_charge = c.hbar/A/np.pi/np.absolute(epsilon_1)\n",
    "\n",
    "#dephasing due to flux noise\n",
    "A = 1e-5*phi0\n",
    "Tphi_flux = c.hbar*phi0**2/(A**2*np.pi**2*np.sqrt(2*Ej*Ec))"
   ]
  },
  {
   "cell_type": "code",
   "execution_count": 19,
   "metadata": {},
   "outputs": [
    {
     "name": "stdout",
     "output_type": "stream",
     "text": [
      "The relaxation time due to spontaneous emission is: 1320.8592626181314 us\n",
      "The dephasing time due to charge noise is: 1013.4510117182523 ms\n",
      "The dephasing time due to flux noise is: 74.51069187259833 ms\n"
     ]
    }
   ],
   "source": [
    "print('The relaxation time due to spontaneous emission is:', T1.to(u.us))\n",
    "print('The dephasing time due to charge noise is:', Tphi_charge.to(u.ms))\n",
    "print('The dephasing time due to flux noise is:', Tphi_flux.to(u.ms))"
   ]
  },
  {
   "cell_type": "code",
   "execution_count": null,
   "metadata": {},
   "outputs": [],
   "source": []
  }
 ],
 "metadata": {
  "kernelspec": {
   "display_name": "qmetal",
   "language": "python",
   "name": "qmetal"
  },
  "language_info": {
   "codemirror_mode": {
    "name": "ipython",
    "version": 3
   },
   "file_extension": ".py",
   "mimetype": "text/x-python",
   "name": "python",
   "nbconvert_exporter": "python",
   "pygments_lexer": "ipython3",
   "version": "3.10.8"
  },
  "orig_nbformat": 4
 },
 "nbformat": 4,
 "nbformat_minor": 2
}
