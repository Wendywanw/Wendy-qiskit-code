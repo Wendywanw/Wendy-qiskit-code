{
 "cells": [
  {
   "cell_type": "code",
   "execution_count": 1,
   "metadata": {},
   "outputs": [],
   "source": [
    "import os\n",
    "import shutil\n",
    "import time\n",
    "\n",
    "import astropy.units as u\n",
    "import numpy as np\n",
    "import pandas as pd\n",
    "import astropy.constants as c\n",
    "\n",
    "#Import the necessary path to draw the single pad transmon design. \n",
    "import sys\n",
    "sys.path.append('Customized_Components')\n",
    "from rounded_single_pad import Round_TransmonPocket_Single as transmon\n",
    "import Transmon_property as trans_p\n",
    "import Transmon_specifications as jj\n",
    "from dolan_junction import DolanJunction as junction\n",
    "import Default_params as dp\n",
    "from pocket import TransmonPocket as pocket\n",
    "\n",
    "from qiskit_metal.qlibrary.terminations.launchpad_wb import LaunchpadWirebond\n",
    "from qiskit_metal import MetalGUI, Dict\n",
    "from qiskit_metal.qlibrary.couplers.coupled_line_tee import CoupledLineTee\n",
    "\n",
    "gui = MetalGUI(dp.design)\n",
    "design = dp.design\n"
   ]
  },
  {
   "cell_type": "code",
   "execution_count": 2,
   "metadata": {},
   "outputs": [],
   "source": [
    "from scipy.optimize import brentq"
   ]
  },
  {
   "cell_type": "code",
   "execution_count": 32,
   "metadata": {},
   "outputs": [],
   "source": [
    "test_path = r'C:\\Users\\slab\\Desktop\\Wendy-qiskit-code\\data\\educated_guess_test.csv'"
   ]
  },
  {
   "cell_type": "code",
   "execution_count": 33,
   "metadata": {},
   "outputs": [],
   "source": [
    "default_options = dict(\n",
    "        pos_x = '0mm', \n",
    "        pos_y = '0mm', \n",
    "        orientation = '0',\n",
    "        frequency = 5,\n",
    "        guess_path = test_path,\n",
    "        coupling_path = '',\n",
    "        coord = '(0,0)',\n",
    "        qubit_layer = 5,\n",
    "        junction_layer = 2, \n",
    "        ab_layer = 8,\n",
    "        ab_square_layer = 9,\n",
    "        ab_distance = '70um',\n",
    "        rotation = 0\n",
    "        )"
   ]
  },
  {
   "cell_type": "code",
   "execution_count": 34,
   "metadata": {},
   "outputs": [],
   "source": [
    "guess_path = r'C:\\Users\\slab\\Desktop\\Wendy-qiskit-code\\data\\educated_guess_all_new.csv'\n",
    "guess = pd.read_csv(guess_path, index_col=False)"
   ]
  },
  {
   "cell_type": "code",
   "execution_count": 35,
   "metadata": {},
   "outputs": [],
   "source": [
    "test = pd.read_csv(r'C:\\Users\\slab\\Desktop\\Wendy-qiskit-code\\data\\educated_guess_test.csv', index_col=False)"
   ]
  },
  {
   "cell_type": "code",
   "execution_count": 36,
   "metadata": {},
   "outputs": [],
   "source": [
    "ljs = test['Ljs (nH)'].values"
   ]
  },
  {
   "cell_type": "code",
   "execution_count": 8,
   "metadata": {},
   "outputs": [],
   "source": [
    "design.delete_all_components()"
   ]
  },
  {
   "cell_type": "code",
   "execution_count": 9,
   "metadata": {},
   "outputs": [],
   "source": [
    "gui.rebuild()"
   ]
  },
  {
   "cell_type": "code",
   "execution_count": 12,
   "metadata": {},
   "outputs": [
    {
     "name": "stdout",
     "output_type": "stream",
     "text": [
      "tried1\n"
     ]
    }
   ],
   "source": [
    "default_options['coord'] = '_0_0_'\n",
    "default_options['frequency'] = 4\n",
    "default_options['guess_path'] = test_path\n",
    "# change_size(200, 5)\n",
    "\n",
    "p = pocket(gui,design,sim = True, options = default_options)\n",
    "gui.rebuild()"
   ]
  },
  {
   "cell_type": "code",
   "execution_count": 13,
   "metadata": {},
   "outputs": [],
   "source": [
    "# qubit = design.components['qubit_0_0_']\n",
    "\n",
    "from collections import OrderedDict\n",
    "\n",
    "from qiskit_metal.qlibrary.tlines.anchored_path import RouteAnchors"
   ]
  },
  {
   "cell_type": "code",
   "execution_count": 21,
   "metadata": {},
   "outputs": [],
   "source": [
    "options = {'trace_width': '12.4 um', \n",
    "           'trace_gap': '6.99 um', \n",
    "           'total_length': '5 mm', \n",
    "           'hfss_wire_bonds': True, \n",
    "           'q3d_wire_bonds': True, \n",
    "           'fillet': '30 um', \n",
    "           'lead': {'start_straight': '5um', \n",
    "                    'end_straight': '5um'}, \n",
    "           'pin_inputs': {'start_pin': {'component': 'qubit_0_0_', \n",
    "                                        'pin': 'a'}, \n",
    "                          'end_pin': {'component': 'TQ_0_0_', \n",
    "                                      'pin': 'second_end'}}, \n",
    "           'layer': 5}\n",
    "anchors = OrderedDict([(0, (0.2685, -0.1815)), (1, (0.2685, -0.7185)), (2, (-0.2685, -0.7185)), (3, (-0.2685, -0.1255)), (4, (0.3245, -0.1255)), (5, (0.3245, -0.7194999999999999)), (6, (0.40850000000000003, -0.7194999999999999)), (7, (0.40850000000000003, -0.1255))])\n"
   ]
  },
  {
   "cell_type": "code",
   "execution_count": 22,
   "metadata": {},
   "outputs": [
    {
     "data": {
      "text/plain": [
       "OrderedDict([(0, (0.26849999999999996, -0.18150000000000005)),\n",
       "             (1, (0.26849999999999996, -0.7184999999999999)),\n",
       "             (2, (-0.26849999999999996, -0.7184999999999999)),\n",
       "             (3, (-0.26849999999999996, -0.12550000000000006)),\n",
       "             (4, (0.32449999999999996, -0.12550000000000006)),\n",
       "             (5, (0.32449999999999996, -0.7194999999999999)),\n",
       "             (6, (0.4085, -0.7194999999999999)),\n",
       "             (7, (0.4085, -0.12550000000000006))])"
      ]
     },
     "execution_count": 22,
     "metadata": {},
     "output_type": "execute_result"
    }
   ],
   "source": [
    "a = OrderedDict([(0, (0.26849999999999996, -0.18150000000000005)), (1, (0.26849999999999996, -0.7184999999999999)), (2, (-0.26849999999999996, -0.7184999999999999)), (3, (-0.26849999999999996, -0.12550000000000006)), (4, (0.32449999999999996, -0.12550000000000006)), (5, (0.32449999999999996, -0.7194999999999999)), (6, (0.4085, -0.7194999999999999)), (7, (0.4085, -0.12550000000000006))])\n",
    "a"
   ]
  },
  {
   "cell_type": "code",
   "execution_count": 23,
   "metadata": {},
   "outputs": [
    {
     "data": {
      "text/plain": [
       "OrderedDict([(0, (0.2685, -0.1815)),\n",
       "             (1, (0.2685, -0.7185)),\n",
       "             (2, (-0.2685, -0.7185)),\n",
       "             (3, (-0.2685, -0.1255)),\n",
       "             (4, (0.3245, -0.1255)),\n",
       "             (5, (0.3245, -0.7194999999999999)),\n",
       "             (6, (0.40850000000000003, -0.7194999999999999)),\n",
       "             (7, (0.40850000000000003, -0.1255))])"
      ]
     },
     "execution_count": 23,
     "metadata": {},
     "output_type": "execute_result"
    }
   ],
   "source": [
    "b = OrderedDict([(0, (0.2685, -0.1815)), (1, (0.2685, -0.7185)), (2, (-0.2685, -0.7185)), (3, (-0.2685, -0.1255)), (4, (0.3245, -0.1255)), (5, (0.3245, -0.7194999999999999)), (6, (0.40850000000000003, -0.7194999999999999)), (7, (0.40850000000000003, -0.1255))])\n",
    "b"
   ]
  },
  {
   "cell_type": "code",
   "execution_count": null,
   "metadata": {},
   "outputs": [],
   "source": []
  },
  {
   "cell_type": "code",
   "execution_count": 24,
   "metadata": {},
   "outputs": [
    {
     "name": "stderr",
     "output_type": "stream",
     "text": [
      "08:38PM 20s WARNING [__init__]: Pin a of component qubit_0_0_ is already in use. cpw has not been built. Please check your pin_input values.\n"
     ]
    }
   ],
   "source": [
    "cpw = RouteAnchors(design, 'cpw', options = Dict(anchors = anchors, **options))"
   ]
  },
  {
   "cell_type": "code",
   "execution_count": 25,
   "metadata": {},
   "outputs": [],
   "source": [
    "gui.rebuild()"
   ]
  },
  {
   "cell_type": "code",
   "execution_count": 26,
   "metadata": {},
   "outputs": [
    {
     "data": {
      "text/plain": [
       "OrderedDict([(0, (0.2685, -0.1815)),\n",
       "             (1, (0.2685, -0.7185)),\n",
       "             (2, (-0.2685, -0.7185)),\n",
       "             (3, (-0.2685, -0.1255)),\n",
       "             (4, (0.3245, -0.1255)),\n",
       "             (5, (0.3245, -0.7194999999999999)),\n",
       "             (6, (0.40850000000000003, -0.7194999999999999)),\n",
       "             (7, (0.40850000000000003, -0.1255))])"
      ]
     },
     "execution_count": 26,
     "metadata": {},
     "output_type": "execute_result"
    }
   ],
   "source": [
    "anchors"
   ]
  },
  {
   "cell_type": "code",
   "execution_count": 14,
   "metadata": {},
   "outputs": [],
   "source": [
    "components = ['qubit_0_0_', 'TQ_0_0_', 'cpw__0_0_']"
   ]
  },
  {
   "cell_type": "code",
   "execution_count": 15,
   "metadata": {},
   "outputs": [],
   "source": [
    "from qiskit_metal.analyses.quantization import LOManalysis\n",
    "from qiskit_metal.analyses.quantization import EPRanalysis"
   ]
  },
  {
   "cell_type": "code",
   "execution_count": 16,
   "metadata": {},
   "outputs": [],
   "source": [
    "c = LOManalysis(design, \"q3d\")\n",
    "c.sim.setup.min_passes  = 10\n",
    "c.sim.setup.max_passes = 20\n",
    "c.sim.setup.freq_ghz = 5\n",
    "\n",
    "c.sim.renderer.options['wb_threshold'] ='72um'\n",
    "c.sim.renderer.options['x_buffer_width_mm'] = 0.5\n",
    "c.sim.renderer.options['y_buffer_width_mm'] = 0.5\n",
    "\n",
    "h = 0.4\n",
    "\n",
    "c.sim.renderer.options['wb_height'] = h"
   ]
  },
  {
   "cell_type": "code",
   "execution_count": 17,
   "metadata": {},
   "outputs": [],
   "source": [
    "eig_all = EPRanalysis(design, 'hfss')\n",
    "\n",
    "hfss = eig_all.sim.renderer\n",
    "eig_all.sim.renderer.options['wb_threshold'] = '72um'\n",
    "\n",
    "eig_all.sim.setup.max_passes = 30\n",
    "eig_all.sim.setup.max_delta_f = 0.1\n",
    "eig_all.sim.setup.n_modes = 1\n",
    "eig_all.sim.renderer.options['x_buffer_width_mm'] = 0.5\n",
    "eig_all.sim.renderer.options['y_buffer_width_mm'] = 0.5"
   ]
  },
  {
   "cell_type": "code",
   "execution_count": 9,
   "metadata": {},
   "outputs": [
    {
     "name": "stderr",
     "output_type": "stream",
     "text": [
      "INFO 11:24PM [connect_project]: Connecting to Ansys Desktop API...\n",
      "INFO 11:24PM [load_ansys_project]: \tOpened Ansys App\n",
      "INFO 11:24PM [load_ansys_project]: \tOpened Ansys Desktop v2021.2.0\n",
      "INFO 11:24PM [load_ansys_project]: \tOpened Ansys Project\n",
      "\tFolder:    C:/Users/slab/Documents/Ansoft/\n",
      "\tProject:   Project40\n",
      "INFO 11:24PM [connect_design]: \tOpened active design\n",
      "\tDesign:    all_freqs_hfss [Solution type: Eigenmode]\n",
      "INFO 11:24PM [get_setup]: \tOpened setup `Setup`  (<class 'pyEPR.ansys.HfssEMSetup'>)\n",
      "INFO 11:24PM [connect]: \tConnected to project \"Project40\" and design \"all_freqs_hfss\" 😀 \n",
      "\n",
      "INFO 11:24PM [connect_design]: \tOpened active design\n",
      "\tDesign:    a_q3d [Solution type: Q3D]\n",
      "INFO 11:25PM [get_setup]: \tOpened setup `Setup`  (<class 'pyEPR.ansys.AnsysQ3DSetup'>)\n",
      "INFO 11:25PM [analyze]: Analyzing setup Setup\n",
      "INFO 11:27PM [get_matrix]: Exporting matrix data to (C:\\Users\\slab\\AppData\\Local\\Temp\\tmpz54ayhgf.txt, C, , Setup:LastAdaptive, \"Original\", \"ohm\", \"nH\", \"fF\", \"mSie\", 5000000000, Maxwell, 1, False\n",
      "INFO 11:27PM [get_matrix]: Exporting matrix data to (C:\\Users\\slab\\AppData\\Local\\Temp\\tmp7rwglr_a.txt, C, , Setup:AdaptivePass, \"Original\", \"ohm\", \"nH\", \"fF\", \"mSie\", 5000000000, Maxwell, 1, False\n",
      "INFO 11:27PM [get_matrix]: Exporting matrix data to (C:\\Users\\slab\\AppData\\Local\\Temp\\tmp15jehbdg.txt, C, , Setup:AdaptivePass, \"Original\", \"ohm\", \"nH\", \"fF\", \"mSie\", 5000000000, Maxwell, 2, False\n",
      "INFO 11:27PM [get_matrix]: Exporting matrix data to (C:\\Users\\slab\\AppData\\Local\\Temp\\tmp65i50eih.txt, C, , Setup:AdaptivePass, \"Original\", \"ohm\", \"nH\", \"fF\", \"mSie\", 5000000000, Maxwell, 3, False\n",
      "INFO 11:27PM [get_matrix]: Exporting matrix data to (C:\\Users\\slab\\AppData\\Local\\Temp\\tmp6f37ve4q.txt, C, , Setup:AdaptivePass, \"Original\", \"ohm\", \"nH\", \"fF\", \"mSie\", 5000000000, Maxwell, 4, False\n",
      "INFO 11:27PM [get_matrix]: Exporting matrix data to (C:\\Users\\slab\\AppData\\Local\\Temp\\tmpx_q61y93.txt, C, , Setup:AdaptivePass, \"Original\", \"ohm\", \"nH\", \"fF\", \"mSie\", 5000000000, Maxwell, 5, False\n",
      "INFO 11:27PM [get_matrix]: Exporting matrix data to (C:\\Users\\slab\\AppData\\Local\\Temp\\tmpu40fakbe.txt, C, , Setup:AdaptivePass, \"Original\", \"ohm\", \"nH\", \"fF\", \"mSie\", 5000000000, Maxwell, 6, False\n",
      "INFO 11:27PM [get_matrix]: Exporting matrix data to (C:\\Users\\slab\\AppData\\Local\\Temp\\tmp0eq9du9r.txt, C, , Setup:AdaptivePass, \"Original\", \"ohm\", \"nH\", \"fF\", \"mSie\", 5000000000, Maxwell, 7, False\n",
      "INFO 11:27PM [get_matrix]: Exporting matrix data to (C:\\Users\\slab\\AppData\\Local\\Temp\\tmpcnwizc3e.txt, C, , Setup:AdaptivePass, \"Original\", \"ohm\", \"nH\", \"fF\", \"mSie\", 5000000000, Maxwell, 8, False\n",
      "INFO 11:27PM [get_matrix]: Exporting matrix data to (C:\\Users\\slab\\AppData\\Local\\Temp\\tmp58rd9bty.txt, C, , Setup:AdaptivePass, \"Original\", \"ohm\", \"nH\", \"fF\", \"mSie\", 5000000000, Maxwell, 9, False\n",
      "INFO 11:27PM [get_matrix]: Exporting matrix data to (C:\\Users\\slab\\AppData\\Local\\Temp\\tmpwzyvkpbg.txt, C, , Setup:AdaptivePass, \"Original\", \"ohm\", \"nH\", \"fF\", \"mSie\", 5000000000, Maxwell, 10, False\n",
      "INFO 11:27PM [get_matrix]: Exporting matrix data to (C:\\Users\\slab\\AppData\\Local\\Temp\\tmpdd74l8c6.txt, C, , Setup:AdaptivePass, \"Original\", \"ohm\", \"nH\", \"fF\", \"mSie\", 5000000000, Maxwell, 11, False\n"
     ]
    }
   ],
   "source": [
    "c.sim.run(name = 'a',components=components)#, open_terminations=[('Q', 'a')])#, ('Q1', 'bus1'), ('Q1', 'bus2')])"
   ]
  },
  {
   "cell_type": "code",
   "execution_count": 11,
   "metadata": {},
   "outputs": [
    {
     "data": {
      "text/html": [
       "<div>\n",
       "<style scoped>\n",
       "    .dataframe tbody tr th:only-of-type {\n",
       "        vertical-align: middle;\n",
       "    }\n",
       "\n",
       "    .dataframe tbody tr th {\n",
       "        vertical-align: top;\n",
       "    }\n",
       "\n",
       "    .dataframe thead th {\n",
       "        text-align: right;\n",
       "    }\n",
       "</style>\n",
       "<table border=\"1\" class=\"dataframe\">\n",
       "  <thead>\n",
       "    <tr style=\"text-align: right;\">\n",
       "      <th></th>\n",
       "      <th>a_connector_pad_qubit_0_0_</th>\n",
       "      <th>pad_top_qubit_0_0_</th>\n",
       "    </tr>\n",
       "  </thead>\n",
       "  <tbody>\n",
       "    <tr>\n",
       "      <th>a_connector_pad_qubit_0_0_</th>\n",
       "      <td>187.73027</td>\n",
       "      <td>-104.61064</td>\n",
       "    </tr>\n",
       "    <tr>\n",
       "      <th>pad_top_qubit_0_0_</th>\n",
       "      <td>-104.61064</td>\n",
       "      <td>105.56400</td>\n",
       "    </tr>\n",
       "  </tbody>\n",
       "</table>\n",
       "</div>"
      ],
      "text/plain": [
       "                            a_connector_pad_qubit_0_0_  pad_top_qubit_0_0_\n",
       "a_connector_pad_qubit_0_0_                   187.73027          -104.61064\n",
       "pad_top_qubit_0_0_                          -104.61064           105.56400"
      ]
     },
     "execution_count": 11,
     "metadata": {},
     "output_type": "execute_result"
    }
   ],
   "source": [
    "c.sim.capacitance_matrix"
   ]
  },
  {
   "cell_type": "code",
   "execution_count": 18,
   "metadata": {},
   "outputs": [],
   "source": [
    "def find_wrap_size():\n",
    "    dat = {}\n",
    "    dat['freq'] = []\n",
    "    dat['orig_size'] = []\n",
    "    dat['orig_buffer'] = []\n",
    "    dat['total_size'] = []\n",
    "    for i in range(10):\n",
    "        dat['freq'] += [guess['Target_qb_Freq(GHz)'].values[i]]\n",
    "        dat['orig_size'] += [guess['Sizes (um)'].values[i]]\n",
    "        dat['orig_buffer'] += [guess['Buffers (um)'].values[i]]\n",
    "        dat['total_size'] += [dat['orig_size'][-1] + dat['orig_buffer'][-1]]\n",
    "    return dat"
   ]
  },
  {
   "cell_type": "code",
   "execution_count": 19,
   "metadata": {},
   "outputs": [],
   "source": [
    "collect_data = find_wrap_size()"
   ]
  },
  {
   "cell_type": "code",
   "execution_count": 20,
   "metadata": {},
   "outputs": [],
   "source": [
    "wrap_sizes = collect_data['total_size']"
   ]
  },
  {
   "cell_type": "code",
   "execution_count": 21,
   "metadata": {},
   "outputs": [],
   "source": [
    "def change_size(size, i, path  = test_path):\n",
    "    dat = pd.read_csv(path, index_col=False).drop(columns = ['Unnamed: 0'], axis = 1)\n",
    "    sizes = list(dat['Sizes (um)'])\n",
    "    buffers = list(dat['Buffers (um)'])\n",
    "    \n",
    "    total = wrap_sizes[i]\n",
    "    \n",
    "    buffer_new = total-size\n",
    "    sizes[i] = size\n",
    "    buffers[i] = buffer_new\n",
    "    \n",
    "    dat.drop(columns = ['Sizes (um)','Buffers (um)'],axis= 1, inplace = True)\n",
    "    \n",
    "    dat['Sizes (um)'] = sizes\n",
    "    dat['Buffers (um)' ] = buffers\n",
    "    \n",
    "    dat.to_csv(path)"
   ]
  },
  {
   "cell_type": "code",
   "execution_count": 71,
   "metadata": {},
   "outputs": [],
   "source": [
    "change_size(10, 0,path = r'C:\\Users\\slab\\Desktop\\Wendy-qiskit-code\\data\\educated_guess_test copy.csv')"
   ]
  },
  {
   "cell_type": "code",
   "execution_count": 22,
   "metadata": {},
   "outputs": [
    {
     "name": "stdout",
     "output_type": "stream",
     "text": [
      "tried1\n"
     ]
    }
   ],
   "source": [
    "p = pocket(gui,design,sim = True, options = default_options)\n",
    "gui.rebuild()"
   ]
  },
  {
   "cell_type": "code",
   "execution_count": 190,
   "metadata": {},
   "outputs": [
    {
     "data": {
      "text/latex": [
       "$2.9384462 \\; \\mathrm{\\mu m}$"
      ],
      "text/plain": [
       "<Quantity 2.93844624 um>"
      ]
     },
     "execution_count": 190,
     "metadata": {},
     "output_type": "execute_result"
    }
   ],
   "source": [
    "jj.find_junction_area(8*u.nH, Jc = 0.1*u.uA/(u.um)**2)/0.14/u.um"
   ]
  },
  {
   "cell_type": "code",
   "execution_count": 23,
   "metadata": {},
   "outputs": [],
   "source": [
    "def find_freq(size, ii, path = test_path, p = p):\n",
    "    change_size(size, ii, path = path)\n",
    "    print(size)\n",
    "    try:\n",
    "        datas = pd.read_csv(r'C:\\Users\\slab\\Desktop\\Wendy-qiskit-code\\data\\optimize+{}.csv'.format(target_freq), index_col=False).drop(columns = ['Unnamed: 0'], axis = 1)\n",
    "    except:\n",
    "        datas = pd.DataFrame()\n",
    "    dat = {}\n",
    "    target_freq = 4+0.2*ii\n",
    "    dat['f_target'] = 4+0.2*ii\n",
    "    default_options['frequency'] = target_freq\n",
    "    dat['size'] = size\n",
    "    dat['Lj'] = ljs[ii]\n",
    "    \n",
    "    # p = pocket(gui,design,sim = True, options = default_options)\n",
    "    \n",
    "    \n",
    "    \n",
    "    eig_all.sim.renderer.options['Lj'] = str(ljs[ii])+'nH'\n",
    "    eig_all.sim.renderer.options['Cj'] = str(jj.find_junction_capacitance((ljs[ii]*u.nH)))\n",
    "\n",
    "    eig_all.sim.setup.vars = {}\n",
    "    eig_all.sim.setup.vars['Lj'] = str(ljs[ii])+'nH'\n",
    "    eig_all.sim.setup.vars['Cj'] = str(jj.find_junction_capacitance((ljs[ii]*u.nH)))\n",
    "\n",
    "    p = pocket(gui,design,sim = True, options = default_options)\n",
    "    gui.rebuild()\n",
    "    \n",
    "    eig_all.sim.run(name=\"single_q\", components=components)\n",
    "    \n",
    "    \n",
    "    convergence = pd.read_csv('hfss_eig_f_convergence.csv')\n",
    "    conv = convergence.dropna()\n",
    "\n",
    "    ind = list(conv.keys())[1:]\n",
    "    for i in range(1):\n",
    "        freq = conv[ind[(i)]].values[-1]\n",
    "        dat['Freq'+str(i+1)+'(GHz)'] = freq\n",
    "    \n",
    "    \n",
    "    try:\n",
    "        del eig_all.setup.junctions['jj']\n",
    "    except:\n",
    "        print('saddd')\n",
    "    eig_all.setup.junctions.jj1 = Dict(rect='JJ_rect_Lj_qubit_0_0__rect_jj', line='JJ_Lj_qubit_0_0__rect_jj_',\n",
    "                    Lj_variable='Lj', Cj_variable='Cj')\n",
    "    eig_all.run_epr()\n",
    "    \n",
    "    #Save the EPR data\n",
    "    chi = eig_all.sim.renderer.epr_quantum_analysis.get_chis().to_numpy()\n",
    "    freq_EPR= eig_all.sim.renderer.epr_quantum_analysis.get_frequencies().to_numpy()[:,0]\n",
    "    \n",
    "    # renderer_hfss.clean_active_design()\n",
    "    for i in range(1):\n",
    "        freq = freq_EPR[i]\n",
    "        dat['Freq_EPR'+str(i+1)+'(MHz)'] = freq\n",
    "        for j in range(i+1):\n",
    "            dat['Chi'+str(i+1)+'_'+str(j+1)+'(MHz)'] = chi[i][j] \n",
    "\n",
    "    \n",
    "    # c.sim.run(name = 'a',components=components)\n",
    "    # cg = -c.sim.capacitance_matrix['a_connector_pad_qubit_0_0_']['pad_top_qubit_0_0_']\n",
    "    # dat['cap_t_g'] = cg\n",
    "    # f,_ = trans_p.transmon_freq(cg*u.fF, ljs[i]*u.nH)\n",
    "    \n",
    "    # dat['Predict_freq'] = f\n",
    "    \n",
    "    \n",
    "    data = pd.DataFrame(dat, index = [0])\n",
    "    \n",
    "    datas = pd.concat([datas,data], ignore_index = True)\n",
    "    datas.to_csv(r'C:\\Users\\slab\\Desktop\\Wendy-qiskit-code\\data\\optimize+{}.csv'.format(target_freq),)\n",
    "    \n",
    "    return freq-target_freq*1000"
   ]
  },
  {
   "cell_type": "code",
   "execution_count": 19,
   "metadata": {},
   "outputs": [
    {
     "data": {
      "text/plain": [
       "array([13, 13, 10, 10,  8,  8,  8,  6,  6,  6], dtype=int64)"
      ]
     },
     "execution_count": 19,
     "metadata": {},
     "output_type": "execute_result"
    }
   ],
   "source": [
    "ljs"
   ]
  },
  {
   "cell_type": "code",
   "execution_count": 24,
   "metadata": {},
   "outputs": [],
   "source": [
    "lims = [(235, 208),\n",
    "        (208, 190),\n",
    "        (245, 200),\n",
    "        (243, 190),\n",
    "        (245, 235),\n",
    "        (235, 215),\n",
    "        (225, 190),\n",
    "        (255, 210),\n",
    "        (230, 200),\n",
    "        (220,190)]"
   ]
  },
  {
   "attachments": {},
   "cell_type": "markdown",
   "metadata": {},
   "source": [
    "optimization start"
   ]
  },
  {
   "cell_type": "code",
   "execution_count": 25,
   "metadata": {},
   "outputs": [
    {
     "name": "stdout",
     "output_type": "stream",
     "text": [
      "235.0\n",
      "tried1\n"
     ]
    },
    {
     "name": "stderr",
     "output_type": "stream",
     "text": [
      "INFO 08:42PM [connect_project]: Connecting to Ansys Desktop API...\n",
      "INFO 08:42PM [load_ansys_project]: \tOpened Ansys App\n",
      "INFO 08:42PM [load_ansys_project]: \tOpened Ansys Desktop v2021.2.0\n",
      "INFO 08:42PM [load_ansys_project]: \tOpened Ansys Project\n",
      "\tFolder:    C:/Users/slab/Documents/Ansoft/\n",
      "\tProject:   Project40\n",
      "INFO 08:42PM [connect_design]: \tOpened active design\n",
      "\tDesign:    single_q_hfss [Solution type: Eigenmode]\n",
      "INFO 08:42PM [get_setup]: \tOpened setup `Setup`  (<class 'pyEPR.ansys.HfssEMSetup'>)\n",
      "INFO 08:42PM [connect]: \tConnected to project \"Project40\" and design \"single_q_hfss\" 😀 \n",
      "\n",
      "INFO 08:42PM [connect_design]: \tOpened active design\n",
      "\tDesign:    single_q_hfss [Solution type: Eigenmode]\n",
      "INFO 08:44PM [get_setup]: \tOpened setup `Setup`  (<class 'pyEPR.ansys.HfssEMSetup'>)\n",
      "INFO 08:44PM [analyze]: Analyzing setup Setup\n",
      "08:48PM 35s INFO [get_f_convergence]: Saved convergences to c:\\Users\\slab\\Desktop\\Wendy-qiskit-code\\hfss_eig_f_convergence.csv\n"
     ]
    },
    {
     "name": "stdout",
     "output_type": "stream",
     "text": [
      "Design \"single_q_hfss\" info:\n",
      "\t# eigenmodes    1\n",
      "\t# variations    1\n",
      "Design \"single_q_hfss\" info:\n",
      "\t# eigenmodes    1\n",
      "\t# variations    1\n"
     ]
    },
    {
     "name": "stderr",
     "output_type": "stream",
     "text": [
      "WARNING:py.warnings:c:\\Users\\slab\\anaconda3\\envs\\qmetal\\lib\\site-packages\\pyEPR\\project_info.py:239: FutureWarning: The default dtype for empty Series will be 'object' instead of 'float64' in a future version. Specify a dtype explicitly to silence this warning.\n",
      "  options=pd.Series(get_instance_vars(self.options)),\n",
      "\n"
     ]
    },
    {
     "name": "stdout",
     "output_type": "stream",
     "text": [
      "\n",
      "        energy_elec_all       = 3.67918627098623e-25\n",
      "        energy_elec_substrate = 3.3765045204852e-25\n",
      "        EPR of substrate = 91.8%\n",
      "\n",
      "        energy_mag    = 3.16333674815142e-27\n",
      "        energy_mag % of energy_elec_all  = 0.9%\n",
      "        \n",
      "\n",
      "Variation 0  [1/1]\n"
     ]
    },
    {
     "name": "stderr",
     "output_type": "stream",
     "text": [
      "WARNING:py.warnings:c:\\Users\\slab\\anaconda3\\envs\\qmetal\\lib\\site-packages\\pyEPR\\core_distributed_analysis.py:1101: FutureWarning: The default dtype for empty Series will be 'object' instead of 'float64' in a future version. Specify a dtype explicitly to silence this warning.\n",
      "  Ljs = pd.Series({})\n",
      "\n",
      "WARNING:py.warnings:c:\\Users\\slab\\anaconda3\\envs\\qmetal\\lib\\site-packages\\pyEPR\\core_distributed_analysis.py:1102: FutureWarning: The default dtype for empty Series will be 'object' instead of 'float64' in a future version. Specify a dtype explicitly to silence this warning.\n",
      "  Cjs = pd.Series({})\n",
      "\n",
      "WARNING:py.warnings:c:\\Users\\slab\\anaconda3\\envs\\qmetal\\lib\\site-packages\\pyEPR\\core_distributed_analysis.py:1245: FutureWarning: The default dtype for empty Series will be 'object' instead of 'float64' in a future version. Specify a dtype explicitly to silence this warning.\n",
      "  _Om = pd.Series({})\n",
      "\n"
     ]
    },
    {
     "name": "stdout",
     "output_type": "stream",
     "text": [
      "\n",
      "  \u001b[1mMode 0 at 4.07 GHz   [1/1]\u001b[0m\n",
      "    Calculating ℰ_magnetic,ℰ_electric\n"
     ]
    },
    {
     "name": "stderr",
     "output_type": "stream",
     "text": [
      "WARNING:py.warnings:c:\\Users\\slab\\anaconda3\\envs\\qmetal\\lib\\site-packages\\pyEPR\\core_distributed_analysis.py:981: FutureWarning: The default dtype for empty Series will be 'object' instead of 'float64' in a future version. Specify a dtype explicitly to silence this warning.\n",
      "  Sj = pd.Series({})\n",
      "\n"
     ]
    },
    {
     "name": "stdout",
     "output_type": "stream",
     "text": [
      "       (ℰ_E-ℰ_H)/ℰ_E       ℰ_E       ℰ_H\n",
      "               99.1%   1.84e-25 1.582e-27\n",
      "\n",
      "    Calculating junction energy participation ration (EPR)\n",
      "\tmethod=`line_voltage`. First estimates:\n",
      "\tjunction        EPR p_0j   sign s_0j    (p_capacitive)\n"
     ]
    },
    {
     "name": "stderr",
     "output_type": "stream",
     "text": [
      "WARNING:py.warnings:c:\\Users\\slab\\anaconda3\\envs\\qmetal\\lib\\site-packages\\pyEPR\\core_distributed_analysis.py:933: FutureWarning: The default dtype for empty Series will be 'object' instead of 'float64' in a future version. Specify a dtype explicitly to silence this warning.\n",
      "  Qp = pd.Series({})\n",
      "\n"
     ]
    },
    {
     "name": "stdout",
     "output_type": "stream",
     "text": [
      "\t\tEnergy fraction (Lj over Lj&Cj)= 98.33%\n",
      "\tjj1              1.15767  (+)        0.0196475\n",
      "\t\t(U_tot_cap-U_tot_ind)/mean=-6.71%\n",
      "Calculating Qdielectric_main for mode 0 (0/0)\n"
     ]
    },
    {
     "name": "stderr",
     "output_type": "stream",
     "text": [
      "WARNING:py.warnings:c:\\Users\\slab\\anaconda3\\envs\\qmetal\\lib\\site-packages\\pyEPR\\core_distributed_analysis.py:1307: FutureWarning: The series.append method is deprecated and will be removed from pandas in a future version. Use pandas.concat instead.\n",
      "  sol = sol.append(self.get_Qdielectric(\n",
      "\n"
     ]
    },
    {
     "name": "stdout",
     "output_type": "stream",
     "text": [
      "p_dielectric_main_0 = 0.9177313329069653\n"
     ]
    },
    {
     "name": "stderr",
     "output_type": "stream",
     "text": [
      "WARNING:py.warnings:c:\\Users\\slab\\anaconda3\\envs\\qmetal\\lib\\site-packages\\pyEPR\\project_info.py:239: FutureWarning: The default dtype for empty Series will be 'object' instead of 'float64' in a future version. Specify a dtype explicitly to silence this warning.\n",
      "  options=pd.Series(get_instance_vars(self.options)),\n",
      "\n",
      "WARNING 08:48PM [__init__]: <p>Error: <class 'IndexError'></p>\n",
      "WARNING:py.warnings:c:\\Users\\slab\\anaconda3\\envs\\qmetal\\lib\\site-packages\\pyEPR\\core_quantum_analysis.py:712: FutureWarning: Support for multi-dimensional indexing (e.g. `obj[:, None]`) is deprecated and will be removed in a future version.  Convert to a numpy array before indexing instead.\n",
      "  result['Q_coupling'] = self.Qm_coupling[variation][self.Qm_coupling[variation].columns[junctions]][modes]#TODO change the columns to junctions\n",
      "\n",
      "WARNING:py.warnings:c:\\Users\\slab\\anaconda3\\envs\\qmetal\\lib\\site-packages\\pyEPR\\core_quantum_analysis.py:717: FutureWarning: Support for multi-dimensional indexing (e.g. `obj[:, None]`) is deprecated and will be removed in a future version.  Convert to a numpy array before indexing instead.\n",
      "  result['Qs'] = self.Qs[variation][self.PM[variation].columns[junctions]][modes] #TODO change the columns to junctions\n",
      "\n"
     ]
    },
    {
     "name": "stdout",
     "output_type": "stream",
     "text": [
      "\n",
      "ANALYSIS DONE. Data saved to:\n",
      "\n",
      "C:\\data-pyEPR\\Project40\\single_q_hfss\\2023-05-03 20-48-36.npz\n",
      "\n",
      "\n",
      "\t Differences in variations:\n",
      "\n",
      "\n",
      "\n",
      " . . . . . . . . . . . . . . . . . . . . . . . . . . . . . . . . . . . . . . . . \n",
      "Variation 0\n",
      "\n",
      "Starting the diagonalization\n",
      "Finished the diagonalization\n",
      "Pm_norm=\n",
      "modes\n",
      "0    0.873845\n",
      "dtype: float64\n",
      "\n",
      "Pm_norm idx =\n",
      "    jj1\n",
      "0  True\n",
      "*** P (participation matrix, not normlz.)\n",
      "        jj1\n",
      "0  1.135365\n",
      "\n",
      "*** S (sign-bit matrix)\n",
      "   s_jj1\n",
      "0     -1\n",
      "*** P (participation matrix, normalized.)\n",
      "      0.99\n",
      "\n",
      "*** Chi matrix O1 PT (MHz)\n",
      "    Diag is anharmonicity, off diag is full cross-Kerr.\n",
      "       162\n",
      "\n",
      "*** Chi matrix ND (MHz) \n",
      "       177\n",
      "\n",
      "*** Frequencies O1 PT (MHz)\n",
      "0    3904.453644\n",
      "dtype: float64\n",
      "\n",
      "*** Frequencies ND (MHz)\n",
      "0    3897.409328\n",
      "dtype: float64\n",
      "\n",
      "*** Q_coupling\n",
      "Empty DataFrame\n",
      "Columns: []\n",
      "Index: [0]\n"
     ]
    },
    {
     "data": {
      "text/markdown": [
       "#### Mode frequencies (MHz)"
      ],
      "text/plain": [
       "<IPython.core.display.Markdown object>"
      ]
     },
     "metadata": {},
     "output_type": "display_data"
    },
    {
     "data": {
      "text/markdown": [
       "###### Numerical diagonalization"
      ],
      "text/plain": [
       "<IPython.core.display.Markdown object>"
      ]
     },
     "metadata": {},
     "output_type": "display_data"
    },
    {
     "data": {
      "text/html": [
       "<div>\n",
       "<style scoped>\n",
       "    .dataframe tbody tr th:only-of-type {\n",
       "        vertical-align: middle;\n",
       "    }\n",
       "\n",
       "    .dataframe tbody tr th {\n",
       "        vertical-align: top;\n",
       "    }\n",
       "\n",
       "    .dataframe thead th {\n",
       "        text-align: right;\n",
       "    }\n",
       "</style>\n",
       "<table border=\"1\" class=\"dataframe\">\n",
       "  <thead>\n",
       "    <tr style=\"text-align: right;\">\n",
       "      <th>Lj</th>\n",
       "      <th>13</th>\n",
       "    </tr>\n",
       "  </thead>\n",
       "  <tbody>\n",
       "    <tr>\n",
       "      <th>0</th>\n",
       "      <td>3897.41</td>\n",
       "    </tr>\n",
       "  </tbody>\n",
       "</table>\n",
       "</div>"
      ],
      "text/plain": [
       "Lj       13\n",
       "0   3897.41"
      ]
     },
     "metadata": {},
     "output_type": "display_data"
    },
    {
     "data": {
      "text/markdown": [
       "#### Kerr Non-linear coefficient table (MHz)"
      ],
      "text/plain": [
       "<IPython.core.display.Markdown object>"
      ]
     },
     "metadata": {},
     "output_type": "display_data"
    },
    {
     "data": {
      "text/markdown": [
       "###### Numerical diagonalization"
      ],
      "text/plain": [
       "<IPython.core.display.Markdown object>"
      ]
     },
     "metadata": {},
     "output_type": "display_data"
    },
    {
     "data": {
      "text/html": [
       "<div>\n",
       "<style scoped>\n",
       "    .dataframe tbody tr th:only-of-type {\n",
       "        vertical-align: middle;\n",
       "    }\n",
       "\n",
       "    .dataframe tbody tr th {\n",
       "        vertical-align: top;\n",
       "    }\n",
       "\n",
       "    .dataframe thead th {\n",
       "        text-align: right;\n",
       "    }\n",
       "</style>\n",
       "<table border=\"1\" class=\"dataframe\">\n",
       "  <thead>\n",
       "    <tr style=\"text-align: right;\">\n",
       "      <th></th>\n",
       "      <th></th>\n",
       "      <th>0</th>\n",
       "    </tr>\n",
       "    <tr>\n",
       "      <th>Lj</th>\n",
       "      <th></th>\n",
       "      <th></th>\n",
       "    </tr>\n",
       "  </thead>\n",
       "  <tbody>\n",
       "    <tr>\n",
       "      <th>13</th>\n",
       "      <th>0</th>\n",
       "      <td>176.84</td>\n",
       "    </tr>\n",
       "  </tbody>\n",
       "</table>\n",
       "</div>"
      ],
      "text/plain": [
       "           0\n",
       "Lj          \n",
       "13 0  176.84"
      ]
     },
     "metadata": {},
     "output_type": "display_data"
    },
    {
     "name": "stdout",
     "output_type": "stream",
     "text": [
      "208.0\n",
      "tried1\n"
     ]
    },
    {
     "name": "stderr",
     "output_type": "stream",
     "text": [
      "INFO 08:48PM [connect_design]: \tOpened active design\n",
      "\tDesign:    single_q_hfss [Solution type: Eigenmode]\n",
      "INFO 08:50PM [get_setup]: \tOpened setup `Setup`  (<class 'pyEPR.ansys.HfssEMSetup'>)\n",
      "INFO 08:50PM [analyze]: Analyzing setup Setup\n",
      "08:53PM 43s INFO [get_f_convergence]: Saved convergences to c:\\Users\\slab\\Desktop\\Wendy-qiskit-code\\hfss_eig_f_convergence.csv\n"
     ]
    },
    {
     "name": "stdout",
     "output_type": "stream",
     "text": [
      "saddd\n",
      "Design \"single_q_hfss\" info:\n",
      "\t# eigenmodes    1\n",
      "\t# variations    1\n",
      "Design \"single_q_hfss\" info:\n",
      "\t# eigenmodes    1\n",
      "\t# variations    1\n"
     ]
    },
    {
     "name": "stderr",
     "output_type": "stream",
     "text": [
      "WARNING:py.warnings:c:\\Users\\slab\\anaconda3\\envs\\qmetal\\lib\\site-packages\\pyEPR\\project_info.py:239: FutureWarning: The default dtype for empty Series will be 'object' instead of 'float64' in a future version. Specify a dtype explicitly to silence this warning.\n",
      "  options=pd.Series(get_instance_vars(self.options)),\n",
      "\n"
     ]
    },
    {
     "name": "stdout",
     "output_type": "stream",
     "text": [
      "\n",
      "        energy_elec_all       = 3.647414584649e-25\n",
      "        energy_elec_substrate = 3.34842173825626e-25\n",
      "        EPR of substrate = 91.8%\n",
      "\n",
      "        energy_mag    = 3.56331241874584e-27\n",
      "        energy_mag % of energy_elec_all  = 1.0%\n",
      "        \n",
      "\n",
      "Variation 0  [1/1]\n"
     ]
    },
    {
     "name": "stderr",
     "output_type": "stream",
     "text": [
      "WARNING:py.warnings:c:\\Users\\slab\\anaconda3\\envs\\qmetal\\lib\\site-packages\\pyEPR\\core_distributed_analysis.py:1101: FutureWarning: The default dtype for empty Series will be 'object' instead of 'float64' in a future version. Specify a dtype explicitly to silence this warning.\n",
      "  Ljs = pd.Series({})\n",
      "\n",
      "WARNING:py.warnings:c:\\Users\\slab\\anaconda3\\envs\\qmetal\\lib\\site-packages\\pyEPR\\core_distributed_analysis.py:1102: FutureWarning: The default dtype for empty Series will be 'object' instead of 'float64' in a future version. Specify a dtype explicitly to silence this warning.\n",
      "  Cjs = pd.Series({})\n",
      "\n",
      "WARNING:py.warnings:c:\\Users\\slab\\anaconda3\\envs\\qmetal\\lib\\site-packages\\pyEPR\\core_distributed_analysis.py:1245: FutureWarning: The default dtype for empty Series will be 'object' instead of 'float64' in a future version. Specify a dtype explicitly to silence this warning.\n",
      "  _Om = pd.Series({})\n",
      "\n"
     ]
    },
    {
     "name": "stdout",
     "output_type": "stream",
     "text": [
      "\n",
      "  \u001b[1mMode 0 at 4.33 GHz   [1/1]\u001b[0m\n",
      "    Calculating ℰ_magnetic,ℰ_electric\n"
     ]
    },
    {
     "name": "stderr",
     "output_type": "stream",
     "text": [
      "WARNING:py.warnings:c:\\Users\\slab\\anaconda3\\envs\\qmetal\\lib\\site-packages\\pyEPR\\core_distributed_analysis.py:981: FutureWarning: The default dtype for empty Series will be 'object' instead of 'float64' in a future version. Specify a dtype explicitly to silence this warning.\n",
      "  Sj = pd.Series({})\n",
      "\n"
     ]
    },
    {
     "name": "stdout",
     "output_type": "stream",
     "text": [
      "       (ℰ_E-ℰ_H)/ℰ_E       ℰ_E       ℰ_H\n",
      "               99.0%  1.824e-25 1.782e-27\n",
      "\n",
      "    Calculating junction energy participation ration (EPR)\n",
      "\tmethod=`line_voltage`. First estimates:\n",
      "\tjunction        EPR p_0j   sign s_0j    (p_capacitive)\n"
     ]
    },
    {
     "name": "stderr",
     "output_type": "stream",
     "text": [
      "WARNING:py.warnings:c:\\Users\\slab\\anaconda3\\envs\\qmetal\\lib\\site-packages\\pyEPR\\core_distributed_analysis.py:933: FutureWarning: The default dtype for empty Series will be 'object' instead of 'float64' in a future version. Specify a dtype explicitly to silence this warning.\n",
      "  Qp = pd.Series({})\n",
      "\n"
     ]
    },
    {
     "name": "stdout",
     "output_type": "stream",
     "text": [
      "\t\tEnergy fraction (Lj over Lj&Cj)= 98.12%\n",
      "\tjj1              1.18249  (+)        0.0227061\n",
      "\t\t(U_tot_cap-U_tot_ind)/mean=-7.65%\n",
      "Calculating Qdielectric_main for mode 0 (0/0)\n"
     ]
    },
    {
     "name": "stderr",
     "output_type": "stream",
     "text": [
      "WARNING:py.warnings:c:\\Users\\slab\\anaconda3\\envs\\qmetal\\lib\\site-packages\\pyEPR\\core_distributed_analysis.py:1307: FutureWarning: The series.append method is deprecated and will be removed from pandas in a future version. Use pandas.concat instead.\n",
      "  sol = sol.append(self.get_Qdielectric(\n",
      "\n"
     ]
    },
    {
     "name": "stdout",
     "output_type": "stream",
     "text": [
      "p_dielectric_main_0 = 0.9180260868476203\n"
     ]
    },
    {
     "name": "stderr",
     "output_type": "stream",
     "text": [
      "WARNING:py.warnings:c:\\Users\\slab\\anaconda3\\envs\\qmetal\\lib\\site-packages\\pyEPR\\project_info.py:239: FutureWarning: The default dtype for empty Series will be 'object' instead of 'float64' in a future version. Specify a dtype explicitly to silence this warning.\n",
      "  options=pd.Series(get_instance_vars(self.options)),\n",
      "\n",
      "WARNING 08:53PM [__init__]: <p>Error: <class 'IndexError'></p>\n",
      "ERROR 08:53PM [_get_participation_normalized]: WARNING: U_tot_cap-U_tot_ind / mean = 15.3% is > 15%.                     \n",
      "Is the simulation converged? Proceed with caution\n",
      "ERROR 08:53PM [_get_participation_normalized]: WARNING: U_tot_cap-U_tot_ind / mean = 15.3% is > 15%.                     \n",
      "Is the simulation converged? Proceed with caution\n",
      "WARNING:py.warnings:c:\\Users\\slab\\anaconda3\\envs\\qmetal\\lib\\site-packages\\pyEPR\\core_quantum_analysis.py:712: FutureWarning: Support for multi-dimensional indexing (e.g. `obj[:, None]`) is deprecated and will be removed in a future version.  Convert to a numpy array before indexing instead.\n",
      "  result['Q_coupling'] = self.Qm_coupling[variation][self.Qm_coupling[variation].columns[junctions]][modes]#TODO change the columns to junctions\n",
      "\n",
      "WARNING:py.warnings:c:\\Users\\slab\\anaconda3\\envs\\qmetal\\lib\\site-packages\\pyEPR\\core_quantum_analysis.py:717: FutureWarning: Support for multi-dimensional indexing (e.g. `obj[:, None]`) is deprecated and will be removed in a future version.  Convert to a numpy array before indexing instead.\n",
      "  result['Qs'] = self.Qs[variation][self.PM[variation].columns[junctions]][modes] #TODO change the columns to junctions\n",
      "\n"
     ]
    },
    {
     "name": "stdout",
     "output_type": "stream",
     "text": [
      "\n",
      "ANALYSIS DONE. Data saved to:\n",
      "\n",
      "C:\\data-pyEPR\\Project40\\single_q_hfss\\2023-05-03 20-53-45.npz\n",
      "\n",
      "\n",
      "\t Differences in variations:\n",
      "\n",
      "\n",
      "\n",
      " . . . . . . . . . . . . . . . . . . . . . . . . . . . . . . . . . . . . . . . . \n",
      "Variation 0\n",
      "\n",
      "Starting the diagonalization\n",
      "Finished the diagonalization\n",
      "Pm_norm=\n",
      "modes\n",
      "0    0.857246\n",
      "dtype: float64\n",
      "\n",
      "Pm_norm idx =\n",
      "    jj1\n",
      "0  True\n",
      "*** P (participation matrix, not normlz.)\n",
      "        jj1\n",
      "0  1.156236\n",
      "\n",
      "*** S (sign-bit matrix)\n",
      "   s_jj1\n",
      "0     -1\n",
      "*** P (participation matrix, normalized.)\n",
      "      0.99\n",
      "\n",
      "*** Chi matrix O1 PT (MHz)\n",
      "    Diag is anharmonicity, off diag is full cross-Kerr.\n",
      "       183\n",
      "\n",
      "*** Chi matrix ND (MHz) \n",
      "       201\n",
      "\n",
      "*** Frequencies O1 PT (MHz)\n",
      "0    4142.491106\n",
      "dtype: float64\n",
      "\n",
      "*** Frequencies ND (MHz)\n",
      "0    4134.003722\n",
      "dtype: float64\n",
      "\n",
      "*** Q_coupling\n",
      "Empty DataFrame\n",
      "Columns: []\n",
      "Index: [0]\n"
     ]
    },
    {
     "data": {
      "text/markdown": [
       "#### Mode frequencies (MHz)"
      ],
      "text/plain": [
       "<IPython.core.display.Markdown object>"
      ]
     },
     "metadata": {},
     "output_type": "display_data"
    },
    {
     "data": {
      "text/markdown": [
       "###### Numerical diagonalization"
      ],
      "text/plain": [
       "<IPython.core.display.Markdown object>"
      ]
     },
     "metadata": {},
     "output_type": "display_data"
    },
    {
     "data": {
      "text/html": [
       "<div>\n",
       "<style scoped>\n",
       "    .dataframe tbody tr th:only-of-type {\n",
       "        vertical-align: middle;\n",
       "    }\n",
       "\n",
       "    .dataframe tbody tr th {\n",
       "        vertical-align: top;\n",
       "    }\n",
       "\n",
       "    .dataframe thead th {\n",
       "        text-align: right;\n",
       "    }\n",
       "</style>\n",
       "<table border=\"1\" class=\"dataframe\">\n",
       "  <thead>\n",
       "    <tr style=\"text-align: right;\">\n",
       "      <th>Lj</th>\n",
       "      <th>13</th>\n",
       "    </tr>\n",
       "  </thead>\n",
       "  <tbody>\n",
       "    <tr>\n",
       "      <th>0</th>\n",
       "      <td>4134.0</td>\n",
       "    </tr>\n",
       "  </tbody>\n",
       "</table>\n",
       "</div>"
      ],
      "text/plain": [
       "Lj      13\n",
       "0   4134.0"
      ]
     },
     "metadata": {},
     "output_type": "display_data"
    },
    {
     "data": {
      "text/markdown": [
       "#### Kerr Non-linear coefficient table (MHz)"
      ],
      "text/plain": [
       "<IPython.core.display.Markdown object>"
      ]
     },
     "metadata": {},
     "output_type": "display_data"
    },
    {
     "data": {
      "text/markdown": [
       "###### Numerical diagonalization"
      ],
      "text/plain": [
       "<IPython.core.display.Markdown object>"
      ]
     },
     "metadata": {},
     "output_type": "display_data"
    },
    {
     "data": {
      "text/html": [
       "<div>\n",
       "<style scoped>\n",
       "    .dataframe tbody tr th:only-of-type {\n",
       "        vertical-align: middle;\n",
       "    }\n",
       "\n",
       "    .dataframe tbody tr th {\n",
       "        vertical-align: top;\n",
       "    }\n",
       "\n",
       "    .dataframe thead th {\n",
       "        text-align: right;\n",
       "    }\n",
       "</style>\n",
       "<table border=\"1\" class=\"dataframe\">\n",
       "  <thead>\n",
       "    <tr style=\"text-align: right;\">\n",
       "      <th></th>\n",
       "      <th></th>\n",
       "      <th>0</th>\n",
       "    </tr>\n",
       "    <tr>\n",
       "      <th>Lj</th>\n",
       "      <th></th>\n",
       "      <th></th>\n",
       "    </tr>\n",
       "  </thead>\n",
       "  <tbody>\n",
       "    <tr>\n",
       "      <th>13</th>\n",
       "      <th>0</th>\n",
       "      <td>200.73</td>\n",
       "    </tr>\n",
       "  </tbody>\n",
       "</table>\n",
       "</div>"
      ],
      "text/plain": [
       "           0\n",
       "Lj          \n",
       "13 0  200.73"
      ]
     },
     "metadata": {},
     "output_type": "display_data"
    },
    {
     "name": "stdout",
     "output_type": "stream",
     "text": [
      "223.2924185408503\n",
      "tried1\n"
     ]
    },
    {
     "name": "stderr",
     "output_type": "stream",
     "text": [
      "INFO 08:53PM [connect_design]: \tOpened active design\n",
      "\tDesign:    single_q_hfss [Solution type: Eigenmode]\n",
      "INFO 08:55PM [get_setup]: \tOpened setup `Setup`  (<class 'pyEPR.ansys.HfssEMSetup'>)\n",
      "INFO 08:55PM [analyze]: Analyzing setup Setup\n",
      "08:59PM 35s INFO [get_f_convergence]: Saved convergences to c:\\Users\\slab\\Desktop\\Wendy-qiskit-code\\hfss_eig_f_convergence.csv\n"
     ]
    },
    {
     "name": "stdout",
     "output_type": "stream",
     "text": [
      "saddd\n",
      "Design \"single_q_hfss\" info:\n",
      "\t# eigenmodes    1\n",
      "\t# variations    1\n",
      "Design \"single_q_hfss\" info:\n",
      "\t# eigenmodes    1\n",
      "\t# variations    1\n"
     ]
    },
    {
     "name": "stderr",
     "output_type": "stream",
     "text": [
      "WARNING:py.warnings:c:\\Users\\slab\\anaconda3\\envs\\qmetal\\lib\\site-packages\\pyEPR\\project_info.py:239: FutureWarning: The default dtype for empty Series will be 'object' instead of 'float64' in a future version. Specify a dtype explicitly to silence this warning.\n",
      "  options=pd.Series(get_instance_vars(self.options)),\n",
      "\n"
     ]
    },
    {
     "name": "stdout",
     "output_type": "stream",
     "text": [
      "\n",
      "        energy_elec_all       = 4.29405204546194e-25\n",
      "        energy_elec_substrate = 3.94114930921518e-25\n",
      "        EPR of substrate = 91.8%\n",
      "\n",
      "        energy_mag    = 3.61657074001959e-27\n",
      "        energy_mag % of energy_elec_all  = 0.8%\n",
      "        \n",
      "\n",
      "Variation 0  [1/1]\n"
     ]
    },
    {
     "name": "stderr",
     "output_type": "stream",
     "text": [
      "WARNING:py.warnings:c:\\Users\\slab\\anaconda3\\envs\\qmetal\\lib\\site-packages\\pyEPR\\core_distributed_analysis.py:1101: FutureWarning: The default dtype for empty Series will be 'object' instead of 'float64' in a future version. Specify a dtype explicitly to silence this warning.\n",
      "  Ljs = pd.Series({})\n",
      "\n",
      "WARNING:py.warnings:c:\\Users\\slab\\anaconda3\\envs\\qmetal\\lib\\site-packages\\pyEPR\\core_distributed_analysis.py:1102: FutureWarning: The default dtype for empty Series will be 'object' instead of 'float64' in a future version. Specify a dtype explicitly to silence this warning.\n",
      "  Cjs = pd.Series({})\n",
      "\n",
      "WARNING:py.warnings:c:\\Users\\slab\\anaconda3\\envs\\qmetal\\lib\\site-packages\\pyEPR\\core_distributed_analysis.py:1245: FutureWarning: The default dtype for empty Series will be 'object' instead of 'float64' in a future version. Specify a dtype explicitly to silence this warning.\n",
      "  _Om = pd.Series({})\n",
      "\n"
     ]
    },
    {
     "name": "stdout",
     "output_type": "stream",
     "text": [
      "\n",
      "  \u001b[1mMode 0 at 4.17 GHz   [1/1]\u001b[0m\n",
      "    Calculating ℰ_magnetic,ℰ_electric\n"
     ]
    },
    {
     "name": "stderr",
     "output_type": "stream",
     "text": [
      "WARNING:py.warnings:c:\\Users\\slab\\anaconda3\\envs\\qmetal\\lib\\site-packages\\pyEPR\\core_distributed_analysis.py:981: FutureWarning: The default dtype for empty Series will be 'object' instead of 'float64' in a future version. Specify a dtype explicitly to silence this warning.\n",
      "  Sj = pd.Series({})\n",
      "\n"
     ]
    },
    {
     "name": "stdout",
     "output_type": "stream",
     "text": [
      "       (ℰ_E-ℰ_H)/ℰ_E       ℰ_E       ℰ_H\n",
      "               99.2%  2.147e-25 1.808e-27\n",
      "\n",
      "    Calculating junction energy participation ration (EPR)\n",
      "\tmethod=`line_voltage`. First estimates:\n",
      "\tjunction        EPR p_0j   sign s_0j    (p_capacitive)\n"
     ]
    },
    {
     "name": "stderr",
     "output_type": "stream",
     "text": [
      "WARNING:py.warnings:c:\\Users\\slab\\anaconda3\\envs\\qmetal\\lib\\site-packages\\pyEPR\\core_distributed_analysis.py:933: FutureWarning: The default dtype for empty Series will be 'object' instead of 'float64' in a future version. Specify a dtype explicitly to silence this warning.\n",
      "  Qp = pd.Series({})\n",
      "\n"
     ]
    },
    {
     "name": "stdout",
     "output_type": "stream",
     "text": [
      "\t\tEnergy fraction (Lj over Lj&Cj)= 98.24%\n",
      "\tjj1              1.16847  (+)        0.0208904\n",
      "\t\t(U_tot_cap-U_tot_ind)/mean=-7.10%\n",
      "Calculating Qdielectric_main for mode 0 (0/0)\n"
     ]
    },
    {
     "name": "stderr",
     "output_type": "stream",
     "text": [
      "WARNING:py.warnings:c:\\Users\\slab\\anaconda3\\envs\\qmetal\\lib\\site-packages\\pyEPR\\core_distributed_analysis.py:1307: FutureWarning: The series.append method is deprecated and will be removed from pandas in a future version. Use pandas.concat instead.\n",
      "  sol = sol.append(self.get_Qdielectric(\n",
      "\n"
     ]
    },
    {
     "name": "stdout",
     "output_type": "stream",
     "text": [
      "p_dielectric_main_0 = 0.9178159154778488\n"
     ]
    },
    {
     "name": "stderr",
     "output_type": "stream",
     "text": [
      "WARNING:py.warnings:c:\\Users\\slab\\anaconda3\\envs\\qmetal\\lib\\site-packages\\pyEPR\\project_info.py:239: FutureWarning: The default dtype for empty Series will be 'object' instead of 'float64' in a future version. Specify a dtype explicitly to silence this warning.\n",
      "  options=pd.Series(get_instance_vars(self.options)),\n",
      "\n",
      "WARNING 08:59PM [__init__]: <p>Error: <class 'IndexError'></p>\n",
      "WARNING:py.warnings:c:\\Users\\slab\\anaconda3\\envs\\qmetal\\lib\\site-packages\\pyEPR\\core_quantum_analysis.py:712: FutureWarning: Support for multi-dimensional indexing (e.g. `obj[:, None]`) is deprecated and will be removed in a future version.  Convert to a numpy array before indexing instead.\n",
      "  result['Q_coupling'] = self.Qm_coupling[variation][self.Qm_coupling[variation].columns[junctions]][modes]#TODO change the columns to junctions\n",
      "\n",
      "WARNING:py.warnings:c:\\Users\\slab\\anaconda3\\envs\\qmetal\\lib\\site-packages\\pyEPR\\core_quantum_analysis.py:717: FutureWarning: Support for multi-dimensional indexing (e.g. `obj[:, None]`) is deprecated and will be removed in a future version.  Convert to a numpy array before indexing instead.\n",
      "  result['Qs'] = self.Qs[variation][self.PM[variation].columns[junctions]][modes] #TODO change the columns to junctions\n",
      "\n"
     ]
    },
    {
     "name": "stdout",
     "output_type": "stream",
     "text": [
      "\n",
      "ANALYSIS DONE. Data saved to:\n",
      "\n",
      "C:\\data-pyEPR\\Project40\\single_q_hfss\\2023-05-03 20-59-36.npz\n",
      "\n",
      "\n",
      "\t Differences in variations:\n",
      "\n",
      "\n",
      "\n",
      " . . . . . . . . . . . . . . . . . . . . . . . . . . . . . . . . . . . . . . . . \n",
      "Variation 0\n",
      "\n",
      "Starting the diagonalization\n",
      "Finished the diagonalization\n",
      "Pm_norm=\n",
      "modes\n",
      "0    0.866999\n",
      "dtype: float64\n",
      "\n",
      "Pm_norm idx =\n",
      "    jj1\n",
      "0  True\n",
      "*** P (participation matrix, not normlz.)\n",
      "        jj1\n",
      "0  1.144563\n",
      "\n",
      "*** S (sign-bit matrix)\n",
      "   s_jj1\n",
      "0     -1\n",
      "*** P (participation matrix, normalized.)\n",
      "      0.99\n",
      "\n",
      "*** Chi matrix O1 PT (MHz)\n",
      "    Diag is anharmonicity, off diag is full cross-Kerr.\n",
      "       171\n",
      "\n",
      "*** Chi matrix ND (MHz) \n",
      "       187\n",
      "\n",
      "*** Frequencies O1 PT (MHz)\n",
      "0    4002.956187\n",
      "dtype: float64\n",
      "\n",
      "*** Frequencies ND (MHz)\n",
      "0    3995.311562\n",
      "dtype: float64\n",
      "\n",
      "*** Q_coupling\n",
      "Empty DataFrame\n",
      "Columns: []\n",
      "Index: [0]\n"
     ]
    },
    {
     "data": {
      "text/markdown": [
       "#### Mode frequencies (MHz)"
      ],
      "text/plain": [
       "<IPython.core.display.Markdown object>"
      ]
     },
     "metadata": {},
     "output_type": "display_data"
    },
    {
     "data": {
      "text/markdown": [
       "###### Numerical diagonalization"
      ],
      "text/plain": [
       "<IPython.core.display.Markdown object>"
      ]
     },
     "metadata": {},
     "output_type": "display_data"
    },
    {
     "data": {
      "text/html": [
       "<div>\n",
       "<style scoped>\n",
       "    .dataframe tbody tr th:only-of-type {\n",
       "        vertical-align: middle;\n",
       "    }\n",
       "\n",
       "    .dataframe tbody tr th {\n",
       "        vertical-align: top;\n",
       "    }\n",
       "\n",
       "    .dataframe thead th {\n",
       "        text-align: right;\n",
       "    }\n",
       "</style>\n",
       "<table border=\"1\" class=\"dataframe\">\n",
       "  <thead>\n",
       "    <tr style=\"text-align: right;\">\n",
       "      <th>Lj</th>\n",
       "      <th>13</th>\n",
       "    </tr>\n",
       "  </thead>\n",
       "  <tbody>\n",
       "    <tr>\n",
       "      <th>0</th>\n",
       "      <td>3995.31</td>\n",
       "    </tr>\n",
       "  </tbody>\n",
       "</table>\n",
       "</div>"
      ],
      "text/plain": [
       "Lj       13\n",
       "0   3995.31"
      ]
     },
     "metadata": {},
     "output_type": "display_data"
    },
    {
     "data": {
      "text/markdown": [
       "#### Kerr Non-linear coefficient table (MHz)"
      ],
      "text/plain": [
       "<IPython.core.display.Markdown object>"
      ]
     },
     "metadata": {},
     "output_type": "display_data"
    },
    {
     "data": {
      "text/markdown": [
       "###### Numerical diagonalization"
      ],
      "text/plain": [
       "<IPython.core.display.Markdown object>"
      ]
     },
     "metadata": {},
     "output_type": "display_data"
    },
    {
     "data": {
      "text/html": [
       "<div>\n",
       "<style scoped>\n",
       "    .dataframe tbody tr th:only-of-type {\n",
       "        vertical-align: middle;\n",
       "    }\n",
       "\n",
       "    .dataframe tbody tr th {\n",
       "        vertical-align: top;\n",
       "    }\n",
       "\n",
       "    .dataframe thead th {\n",
       "        text-align: right;\n",
       "    }\n",
       "</style>\n",
       "<table border=\"1\" class=\"dataframe\">\n",
       "  <thead>\n",
       "    <tr style=\"text-align: right;\">\n",
       "      <th></th>\n",
       "      <th></th>\n",
       "      <th>0</th>\n",
       "    </tr>\n",
       "    <tr>\n",
       "      <th>Lj</th>\n",
       "      <th></th>\n",
       "      <th></th>\n",
       "    </tr>\n",
       "  </thead>\n",
       "  <tbody>\n",
       "    <tr>\n",
       "      <th>13</th>\n",
       "      <th>0</th>\n",
       "      <td>186.8</td>\n",
       "    </tr>\n",
       "  </tbody>\n",
       "</table>\n",
       "</div>"
      ],
      "text/plain": [
       "          0\n",
       "Lj         \n",
       "13 0  186.8"
      ]
     },
     "metadata": {},
     "output_type": "display_data"
    },
    {
     "name": "stdout",
     "output_type": "stream",
     "text": [
      "222.17095644814603\n",
      "tried1\n"
     ]
    },
    {
     "name": "stderr",
     "output_type": "stream",
     "text": [
      "INFO 08:59PM [connect_design]: \tOpened active design\n",
      "\tDesign:    single_q_hfss [Solution type: Eigenmode]\n",
      "INFO 09:01PM [get_setup]: \tOpened setup `Setup`  (<class 'pyEPR.ansys.HfssEMSetup'>)\n",
      "INFO 09:01PM [analyze]: Analyzing setup Setup\n",
      "09:05PM 27s INFO [get_f_convergence]: Saved convergences to c:\\Users\\slab\\Desktop\\Wendy-qiskit-code\\hfss_eig_f_convergence.csv\n"
     ]
    },
    {
     "name": "stdout",
     "output_type": "stream",
     "text": [
      "saddd\n",
      "Design \"single_q_hfss\" info:\n",
      "\t# eigenmodes    1\n",
      "\t# variations    1\n",
      "Design \"single_q_hfss\" info:\n",
      "\t# eigenmodes    1\n",
      "\t# variations    1\n"
     ]
    },
    {
     "name": "stderr",
     "output_type": "stream",
     "text": [
      "WARNING:py.warnings:c:\\Users\\slab\\anaconda3\\envs\\qmetal\\lib\\site-packages\\pyEPR\\project_info.py:239: FutureWarning: The default dtype for empty Series will be 'object' instead of 'float64' in a future version. Specify a dtype explicitly to silence this warning.\n",
      "  options=pd.Series(get_instance_vars(self.options)),\n",
      "\n"
     ]
    },
    {
     "name": "stdout",
     "output_type": "stream",
     "text": [
      "\n",
      "        energy_elec_all       = 4.45374767634604e-25\n",
      "        energy_elec_substrate = 4.0880030447458e-25\n",
      "        EPR of substrate = 91.8%\n",
      "\n",
      "        energy_mag    = 3.86375484245666e-27\n",
      "        energy_mag % of energy_elec_all  = 0.9%\n",
      "        \n",
      "\n",
      "Variation 0  [1/1]\n"
     ]
    },
    {
     "name": "stderr",
     "output_type": "stream",
     "text": [
      "WARNING:py.warnings:c:\\Users\\slab\\anaconda3\\envs\\qmetal\\lib\\site-packages\\pyEPR\\core_distributed_analysis.py:1101: FutureWarning: The default dtype for empty Series will be 'object' instead of 'float64' in a future version. Specify a dtype explicitly to silence this warning.\n",
      "  Ljs = pd.Series({})\n",
      "\n",
      "WARNING:py.warnings:c:\\Users\\slab\\anaconda3\\envs\\qmetal\\lib\\site-packages\\pyEPR\\core_distributed_analysis.py:1102: FutureWarning: The default dtype for empty Series will be 'object' instead of 'float64' in a future version. Specify a dtype explicitly to silence this warning.\n",
      "  Cjs = pd.Series({})\n",
      "\n",
      "WARNING:py.warnings:c:\\Users\\slab\\anaconda3\\envs\\qmetal\\lib\\site-packages\\pyEPR\\core_distributed_analysis.py:1245: FutureWarning: The default dtype for empty Series will be 'object' instead of 'float64' in a future version. Specify a dtype explicitly to silence this warning.\n",
      "  _Om = pd.Series({})\n",
      "\n"
     ]
    },
    {
     "name": "stdout",
     "output_type": "stream",
     "text": [
      "\n",
      "  \u001b[1mMode 0 at 4.18 GHz   [1/1]\u001b[0m\n",
      "    Calculating ℰ_magnetic,ℰ_electric\n"
     ]
    },
    {
     "name": "stderr",
     "output_type": "stream",
     "text": [
      "WARNING:py.warnings:c:\\Users\\slab\\anaconda3\\envs\\qmetal\\lib\\site-packages\\pyEPR\\core_distributed_analysis.py:981: FutureWarning: The default dtype for empty Series will be 'object' instead of 'float64' in a future version. Specify a dtype explicitly to silence this warning.\n",
      "  Sj = pd.Series({})\n",
      "\n"
     ]
    },
    {
     "name": "stdout",
     "output_type": "stream",
     "text": [
      "       (ℰ_E-ℰ_H)/ℰ_E       ℰ_E       ℰ_H\n",
      "               99.1%  2.227e-25 1.932e-27\n",
      "\n",
      "    Calculating junction energy participation ration (EPR)\n",
      "\tmethod=`line_voltage`. First estimates:\n",
      "\tjunction        EPR p_0j   sign s_0j    (p_capacitive)\n"
     ]
    },
    {
     "name": "stderr",
     "output_type": "stream",
     "text": [
      "WARNING:py.warnings:c:\\Users\\slab\\anaconda3\\envs\\qmetal\\lib\\site-packages\\pyEPR\\core_distributed_analysis.py:933: FutureWarning: The default dtype for empty Series will be 'object' instead of 'float64' in a future version. Specify a dtype explicitly to silence this warning.\n",
      "  Qp = pd.Series({})\n",
      "\n"
     ]
    },
    {
     "name": "stdout",
     "output_type": "stream",
     "text": [
      "\t\tEnergy fraction (Lj over Lj&Cj)= 98.23%\n",
      "\tjj1              1.16917  (+)        0.0210122\n",
      "\t\t(U_tot_cap-U_tot_ind)/mean=-7.13%\n",
      "Calculating Qdielectric_main for mode 0 (0/0)\n"
     ]
    },
    {
     "name": "stderr",
     "output_type": "stream",
     "text": [
      "WARNING:py.warnings:c:\\Users\\slab\\anaconda3\\envs\\qmetal\\lib\\site-packages\\pyEPR\\core_distributed_analysis.py:1307: FutureWarning: The series.append method is deprecated and will be removed from pandas in a future version. Use pandas.concat instead.\n",
      "  sol = sol.append(self.get_Qdielectric(\n",
      "\n"
     ]
    },
    {
     "name": "stdout",
     "output_type": "stream",
     "text": [
      "p_dielectric_main_0 = 0.9178793550558064\n"
     ]
    },
    {
     "name": "stderr",
     "output_type": "stream",
     "text": [
      "WARNING:py.warnings:c:\\Users\\slab\\anaconda3\\envs\\qmetal\\lib\\site-packages\\pyEPR\\project_info.py:239: FutureWarning: The default dtype for empty Series will be 'object' instead of 'float64' in a future version. Specify a dtype explicitly to silence this warning.\n",
      "  options=pd.Series(get_instance_vars(self.options)),\n",
      "\n",
      "WARNING 09:05PM [__init__]: <p>Error: <class 'IndexError'></p>\n",
      "WARNING:py.warnings:c:\\Users\\slab\\anaconda3\\envs\\qmetal\\lib\\site-packages\\pyEPR\\core_quantum_analysis.py:712: FutureWarning: Support for multi-dimensional indexing (e.g. `obj[:, None]`) is deprecated and will be removed in a future version.  Convert to a numpy array before indexing instead.\n",
      "  result['Q_coupling'] = self.Qm_coupling[variation][self.Qm_coupling[variation].columns[junctions]][modes]#TODO change the columns to junctions\n",
      "\n",
      "WARNING:py.warnings:c:\\Users\\slab\\anaconda3\\envs\\qmetal\\lib\\site-packages\\pyEPR\\core_quantum_analysis.py:717: FutureWarning: Support for multi-dimensional indexing (e.g. `obj[:, None]`) is deprecated and will be removed in a future version.  Convert to a numpy array before indexing instead.\n",
      "  result['Qs'] = self.Qs[variation][self.PM[variation].columns[junctions]][modes] #TODO change the columns to junctions\n",
      "\n"
     ]
    },
    {
     "name": "stdout",
     "output_type": "stream",
     "text": [
      "\n",
      "ANALYSIS DONE. Data saved to:\n",
      "\n",
      "C:\\data-pyEPR\\Project40\\single_q_hfss\\2023-05-03 21-05-29.npz\n",
      "\n",
      "\n",
      "\t Differences in variations:\n",
      "\n",
      "\n",
      "\n",
      " . . . . . . . . . . . . . . . . . . . . . . . . . . . . . . . . . . . . . . . . \n",
      "Variation 0\n",
      "\n",
      "Starting the diagonalization\n",
      "Finished the diagonalization\n",
      "Pm_norm=\n",
      "modes\n",
      "0    0.866388\n",
      "dtype: float64\n",
      "\n",
      "Pm_norm idx =\n",
      "    jj1\n",
      "0  True\n",
      "*** P (participation matrix, not normlz.)\n",
      "       jj1\n",
      "0  1.14511\n",
      "\n",
      "*** S (sign-bit matrix)\n",
      "   s_jj1\n",
      "0     -1\n",
      "*** P (participation matrix, normalized.)\n",
      "      0.99\n",
      "\n",
      "*** Chi matrix O1 PT (MHz)\n",
      "    Diag is anharmonicity, off diag is full cross-Kerr.\n",
      "       171\n",
      "\n",
      "*** Chi matrix ND (MHz) \n",
      "       188\n",
      "\n",
      "*** Frequencies O1 PT (MHz)\n",
      "0    4013.047278\n",
      "dtype: float64\n",
      "\n",
      "*** Frequencies ND (MHz)\n",
      "0    4005.349924\n",
      "dtype: float64\n",
      "\n",
      "*** Q_coupling\n",
      "Empty DataFrame\n",
      "Columns: []\n",
      "Index: [0]\n"
     ]
    },
    {
     "data": {
      "text/markdown": [
       "#### Mode frequencies (MHz)"
      ],
      "text/plain": [
       "<IPython.core.display.Markdown object>"
      ]
     },
     "metadata": {},
     "output_type": "display_data"
    },
    {
     "data": {
      "text/markdown": [
       "###### Numerical diagonalization"
      ],
      "text/plain": [
       "<IPython.core.display.Markdown object>"
      ]
     },
     "metadata": {},
     "output_type": "display_data"
    },
    {
     "data": {
      "text/html": [
       "<div>\n",
       "<style scoped>\n",
       "    .dataframe tbody tr th:only-of-type {\n",
       "        vertical-align: middle;\n",
       "    }\n",
       "\n",
       "    .dataframe tbody tr th {\n",
       "        vertical-align: top;\n",
       "    }\n",
       "\n",
       "    .dataframe thead th {\n",
       "        text-align: right;\n",
       "    }\n",
       "</style>\n",
       "<table border=\"1\" class=\"dataframe\">\n",
       "  <thead>\n",
       "    <tr style=\"text-align: right;\">\n",
       "      <th>Lj</th>\n",
       "      <th>13</th>\n",
       "    </tr>\n",
       "  </thead>\n",
       "  <tbody>\n",
       "    <tr>\n",
       "      <th>0</th>\n",
       "      <td>4005.35</td>\n",
       "    </tr>\n",
       "  </tbody>\n",
       "</table>\n",
       "</div>"
      ],
      "text/plain": [
       "Lj       13\n",
       "0   4005.35"
      ]
     },
     "metadata": {},
     "output_type": "display_data"
    },
    {
     "data": {
      "text/markdown": [
       "#### Kerr Non-linear coefficient table (MHz)"
      ],
      "text/plain": [
       "<IPython.core.display.Markdown object>"
      ]
     },
     "metadata": {},
     "output_type": "display_data"
    },
    {
     "data": {
      "text/markdown": [
       "###### Numerical diagonalization"
      ],
      "text/plain": [
       "<IPython.core.display.Markdown object>"
      ]
     },
     "metadata": {},
     "output_type": "display_data"
    },
    {
     "data": {
      "text/html": [
       "<div>\n",
       "<style scoped>\n",
       "    .dataframe tbody tr th:only-of-type {\n",
       "        vertical-align: middle;\n",
       "    }\n",
       "\n",
       "    .dataframe tbody tr th {\n",
       "        vertical-align: top;\n",
       "    }\n",
       "\n",
       "    .dataframe thead th {\n",
       "        text-align: right;\n",
       "    }\n",
       "</style>\n",
       "<table border=\"1\" class=\"dataframe\">\n",
       "  <thead>\n",
       "    <tr style=\"text-align: right;\">\n",
       "      <th></th>\n",
       "      <th></th>\n",
       "      <th>0</th>\n",
       "    </tr>\n",
       "    <tr>\n",
       "      <th>Lj</th>\n",
       "      <th></th>\n",
       "      <th></th>\n",
       "    </tr>\n",
       "  </thead>\n",
       "  <tbody>\n",
       "    <tr>\n",
       "      <th>13</th>\n",
       "      <th>0</th>\n",
       "      <td>187.72</td>\n",
       "    </tr>\n",
       "  </tbody>\n",
       "</table>\n",
       "</div>"
      ],
      "text/plain": [
       "           0\n",
       "Lj          \n",
       "13 0  187.72"
      ]
     },
     "metadata": {},
     "output_type": "display_data"
    },
    {
     "name": "stdout",
     "output_type": "stream",
     "text": [
      "208.0\n",
      "tried1\n"
     ]
    },
    {
     "name": "stderr",
     "output_type": "stream",
     "text": [
      "INFO 09:05PM [connect_design]: \tOpened active design\n",
      "\tDesign:    single_q_hfss [Solution type: Eigenmode]\n",
      "INFO 09:07PM [get_setup]: \tOpened setup `Setup`  (<class 'pyEPR.ansys.HfssEMSetup'>)\n",
      "INFO 09:07PM [analyze]: Analyzing setup Setup\n",
      "09:10PM 35s INFO [get_f_convergence]: Saved convergences to c:\\Users\\slab\\Desktop\\Wendy-qiskit-code\\hfss_eig_f_convergence.csv\n"
     ]
    },
    {
     "name": "stdout",
     "output_type": "stream",
     "text": [
      "saddd\n",
      "Design \"single_q_hfss\" info:\n",
      "\t# eigenmodes    1\n",
      "\t# variations    1\n",
      "Design \"single_q_hfss\" info:\n",
      "\t# eigenmodes    1\n",
      "\t# variations    1\n"
     ]
    },
    {
     "name": "stderr",
     "output_type": "stream",
     "text": [
      "WARNING:py.warnings:c:\\Users\\slab\\anaconda3\\envs\\qmetal\\lib\\site-packages\\pyEPR\\project_info.py:239: FutureWarning: The default dtype for empty Series will be 'object' instead of 'float64' in a future version. Specify a dtype explicitly to silence this warning.\n",
      "  options=pd.Series(get_instance_vars(self.options)),\n",
      "\n"
     ]
    },
    {
     "name": "stdout",
     "output_type": "stream",
     "text": [
      "\n",
      "        energy_elec_all       = 5.22710087795977e-25\n",
      "        energy_elec_substrate = 4.79853419711777e-25\n",
      "        EPR of substrate = 91.8%\n",
      "\n",
      "        energy_mag    = 4.45711702300721e-27\n",
      "        energy_mag % of energy_elec_all  = 0.9%\n",
      "        \n",
      "\n",
      "Variation 0  [1/1]\n"
     ]
    },
    {
     "name": "stderr",
     "output_type": "stream",
     "text": [
      "WARNING:py.warnings:c:\\Users\\slab\\anaconda3\\envs\\qmetal\\lib\\site-packages\\pyEPR\\core_distributed_analysis.py:1101: FutureWarning: The default dtype for empty Series will be 'object' instead of 'float64' in a future version. Specify a dtype explicitly to silence this warning.\n",
      "  Ljs = pd.Series({})\n",
      "\n",
      "WARNING:py.warnings:c:\\Users\\slab\\anaconda3\\envs\\qmetal\\lib\\site-packages\\pyEPR\\core_distributed_analysis.py:1102: FutureWarning: The default dtype for empty Series will be 'object' instead of 'float64' in a future version. Specify a dtype explicitly to silence this warning.\n",
      "  Cjs = pd.Series({})\n",
      "\n",
      "WARNING:py.warnings:c:\\Users\\slab\\anaconda3\\envs\\qmetal\\lib\\site-packages\\pyEPR\\core_distributed_analysis.py:1245: FutureWarning: The default dtype for empty Series will be 'object' instead of 'float64' in a future version. Specify a dtype explicitly to silence this warning.\n",
      "  _Om = pd.Series({})\n",
      "\n"
     ]
    },
    {
     "name": "stdout",
     "output_type": "stream",
     "text": [
      "\n",
      "  \u001b[1mMode 0 at 4.33 GHz   [1/1]\u001b[0m\n",
      "    Calculating ℰ_magnetic,ℰ_electric\n"
     ]
    },
    {
     "name": "stderr",
     "output_type": "stream",
     "text": [
      "WARNING:py.warnings:c:\\Users\\slab\\anaconda3\\envs\\qmetal\\lib\\site-packages\\pyEPR\\core_distributed_analysis.py:981: FutureWarning: The default dtype for empty Series will be 'object' instead of 'float64' in a future version. Specify a dtype explicitly to silence this warning.\n",
      "  Sj = pd.Series({})\n",
      "\n"
     ]
    },
    {
     "name": "stdout",
     "output_type": "stream",
     "text": [
      "       (ℰ_E-ℰ_H)/ℰ_E       ℰ_E       ℰ_H\n",
      "               99.1%  2.614e-25 2.229e-27\n",
      "\n",
      "    Calculating junction energy participation ration (EPR)\n",
      "\tmethod=`line_voltage`. First estimates:\n",
      "\tjunction        EPR p_0j   sign s_0j    (p_capacitive)\n"
     ]
    },
    {
     "name": "stderr",
     "output_type": "stream",
     "text": [
      "WARNING:py.warnings:c:\\Users\\slab\\anaconda3\\envs\\qmetal\\lib\\site-packages\\pyEPR\\core_distributed_analysis.py:933: FutureWarning: The default dtype for empty Series will be 'object' instead of 'float64' in a future version. Specify a dtype explicitly to silence this warning.\n",
      "  Qp = pd.Series({})\n",
      "\n"
     ]
    },
    {
     "name": "stdout",
     "output_type": "stream",
     "text": [
      "\t\tEnergy fraction (Lj over Lj&Cj)= 98.11%\n",
      "\tjj1              1.18456  (+)        0.0228003\n",
      "\t\t(U_tot_cap-U_tot_ind)/mean=-7.68%\n",
      "Calculating Qdielectric_main for mode 0 (0/0)\n"
     ]
    },
    {
     "name": "stderr",
     "output_type": "stream",
     "text": [
      "WARNING:py.warnings:c:\\Users\\slab\\anaconda3\\envs\\qmetal\\lib\\site-packages\\pyEPR\\core_distributed_analysis.py:1307: FutureWarning: The series.append method is deprecated and will be removed from pandas in a future version. Use pandas.concat instead.\n",
      "  sol = sol.append(self.get_Qdielectric(\n",
      "\n"
     ]
    },
    {
     "name": "stdout",
     "output_type": "stream",
     "text": [
      "p_dielectric_main_0 = 0.9180106351784669\n"
     ]
    },
    {
     "name": "stderr",
     "output_type": "stream",
     "text": [
      "WARNING:py.warnings:c:\\Users\\slab\\anaconda3\\envs\\qmetal\\lib\\site-packages\\pyEPR\\project_info.py:239: FutureWarning: The default dtype for empty Series will be 'object' instead of 'float64' in a future version. Specify a dtype explicitly to silence this warning.\n",
      "  options=pd.Series(get_instance_vars(self.options)),\n",
      "\n",
      "WARNING 09:10PM [__init__]: <p>Error: <class 'IndexError'></p>\n",
      "ERROR 09:10PM [_get_participation_normalized]: WARNING: U_tot_cap-U_tot_ind / mean = 15.4% is > 15%.                     \n",
      "Is the simulation converged? Proceed with caution\n",
      "ERROR 09:10PM [_get_participation_normalized]: WARNING: U_tot_cap-U_tot_ind / mean = 15.4% is > 15%.                     \n",
      "Is the simulation converged? Proceed with caution\n",
      "WARNING:py.warnings:c:\\Users\\slab\\anaconda3\\envs\\qmetal\\lib\\site-packages\\pyEPR\\core_quantum_analysis.py:712: FutureWarning: Support for multi-dimensional indexing (e.g. `obj[:, None]`) is deprecated and will be removed in a future version.  Convert to a numpy array before indexing instead.\n",
      "  result['Q_coupling'] = self.Qm_coupling[variation][self.Qm_coupling[variation].columns[junctions]][modes]#TODO change the columns to junctions\n",
      "\n",
      "WARNING:py.warnings:c:\\Users\\slab\\anaconda3\\envs\\qmetal\\lib\\site-packages\\pyEPR\\core_quantum_analysis.py:717: FutureWarning: Support for multi-dimensional indexing (e.g. `obj[:, None]`) is deprecated and will be removed in a future version.  Convert to a numpy array before indexing instead.\n",
      "  result['Qs'] = self.Qs[variation][self.PM[variation].columns[junctions]][modes] #TODO change the columns to junctions\n",
      "\n"
     ]
    },
    {
     "name": "stdout",
     "output_type": "stream",
     "text": [
      "\n",
      "ANALYSIS DONE. Data saved to:\n",
      "\n",
      "C:\\data-pyEPR\\Project40\\single_q_hfss\\2023-05-03 21-10-36.npz\n",
      "\n",
      "\n",
      "\t Differences in variations:\n",
      "\n",
      "\n",
      "\n",
      " . . . . . . . . . . . . . . . . . . . . . . . . . . . . . . . . . . . . . . . . \n",
      "Variation 0\n",
      "\n",
      "Starting the diagonalization\n",
      "Finished the diagonalization\n",
      "Pm_norm=\n",
      "modes\n",
      "0    0.856796\n",
      "dtype: float64\n",
      "\n",
      "Pm_norm idx =\n",
      "    jj1\n",
      "0  True\n",
      "*** P (participation matrix, not normlz.)\n",
      "        jj1\n",
      "0  1.158157\n",
      "\n",
      "*** S (sign-bit matrix)\n",
      "   s_jj1\n",
      "0      1\n",
      "*** P (participation matrix, normalized.)\n",
      "      0.99\n",
      "\n",
      "*** Chi matrix O1 PT (MHz)\n",
      "    Diag is anharmonicity, off diag is full cross-Kerr.\n",
      "       184\n",
      "\n",
      "*** Chi matrix ND (MHz) \n",
      "       202\n",
      "\n",
      "*** Frequencies O1 PT (MHz)\n",
      "0    4146.810081\n",
      "dtype: float64\n",
      "\n",
      "*** Frequencies ND (MHz)\n",
      "0    4138.239143\n",
      "dtype: float64\n",
      "\n",
      "*** Q_coupling\n",
      "Empty DataFrame\n",
      "Columns: []\n",
      "Index: [0]\n"
     ]
    },
    {
     "data": {
      "text/markdown": [
       "#### Mode frequencies (MHz)"
      ],
      "text/plain": [
       "<IPython.core.display.Markdown object>"
      ]
     },
     "metadata": {},
     "output_type": "display_data"
    },
    {
     "data": {
      "text/markdown": [
       "###### Numerical diagonalization"
      ],
      "text/plain": [
       "<IPython.core.display.Markdown object>"
      ]
     },
     "metadata": {},
     "output_type": "display_data"
    },
    {
     "data": {
      "text/html": [
       "<div>\n",
       "<style scoped>\n",
       "    .dataframe tbody tr th:only-of-type {\n",
       "        vertical-align: middle;\n",
       "    }\n",
       "\n",
       "    .dataframe tbody tr th {\n",
       "        vertical-align: top;\n",
       "    }\n",
       "\n",
       "    .dataframe thead th {\n",
       "        text-align: right;\n",
       "    }\n",
       "</style>\n",
       "<table border=\"1\" class=\"dataframe\">\n",
       "  <thead>\n",
       "    <tr style=\"text-align: right;\">\n",
       "      <th>Lj</th>\n",
       "      <th>13</th>\n",
       "    </tr>\n",
       "  </thead>\n",
       "  <tbody>\n",
       "    <tr>\n",
       "      <th>0</th>\n",
       "      <td>4138.24</td>\n",
       "    </tr>\n",
       "  </tbody>\n",
       "</table>\n",
       "</div>"
      ],
      "text/plain": [
       "Lj       13\n",
       "0   4138.24"
      ]
     },
     "metadata": {},
     "output_type": "display_data"
    },
    {
     "data": {
      "text/markdown": [
       "#### Kerr Non-linear coefficient table (MHz)"
      ],
      "text/plain": [
       "<IPython.core.display.Markdown object>"
      ]
     },
     "metadata": {},
     "output_type": "display_data"
    },
    {
     "data": {
      "text/markdown": [
       "###### Numerical diagonalization"
      ],
      "text/plain": [
       "<IPython.core.display.Markdown object>"
      ]
     },
     "metadata": {},
     "output_type": "display_data"
    },
    {
     "data": {
      "text/html": [
       "<div>\n",
       "<style scoped>\n",
       "    .dataframe tbody tr th:only-of-type {\n",
       "        vertical-align: middle;\n",
       "    }\n",
       "\n",
       "    .dataframe tbody tr th {\n",
       "        vertical-align: top;\n",
       "    }\n",
       "\n",
       "    .dataframe thead th {\n",
       "        text-align: right;\n",
       "    }\n",
       "</style>\n",
       "<table border=\"1\" class=\"dataframe\">\n",
       "  <thead>\n",
       "    <tr style=\"text-align: right;\">\n",
       "      <th></th>\n",
       "      <th></th>\n",
       "      <th>0</th>\n",
       "    </tr>\n",
       "    <tr>\n",
       "      <th>Lj</th>\n",
       "      <th></th>\n",
       "      <th></th>\n",
       "    </tr>\n",
       "  </thead>\n",
       "  <tbody>\n",
       "    <tr>\n",
       "      <th>13</th>\n",
       "      <th>0</th>\n",
       "      <td>201.76</td>\n",
       "    </tr>\n",
       "  </tbody>\n",
       "</table>\n",
       "</div>"
      ],
      "text/plain": [
       "           0\n",
       "Lj          \n",
       "13 0  201.76"
      ]
     },
     "metadata": {},
     "output_type": "display_data"
    },
    {
     "name": "stdout",
     "output_type": "stream",
     "text": [
      "190.0\n",
      "tried1\n"
     ]
    },
    {
     "name": "stderr",
     "output_type": "stream",
     "text": [
      "INFO 09:10PM [connect_design]: \tOpened active design\n",
      "\tDesign:    single_q_hfss [Solution type: Eigenmode]\n",
      "INFO 09:12PM [get_setup]: \tOpened setup `Setup`  (<class 'pyEPR.ansys.HfssEMSetup'>)\n",
      "INFO 09:12PM [analyze]: Analyzing setup Setup\n",
      "09:16PM 09s INFO [get_f_convergence]: Saved convergences to c:\\Users\\slab\\Desktop\\Wendy-qiskit-code\\hfss_eig_f_convergence.csv\n"
     ]
    },
    {
     "name": "stdout",
     "output_type": "stream",
     "text": [
      "saddd\n",
      "Design \"single_q_hfss\" info:\n",
      "\t# eigenmodes    1\n",
      "\t# variations    1\n",
      "Design \"single_q_hfss\" info:\n",
      "\t# eigenmodes    1\n",
      "\t# variations    1\n"
     ]
    },
    {
     "name": "stderr",
     "output_type": "stream",
     "text": [
      "WARNING:py.warnings:c:\\Users\\slab\\anaconda3\\envs\\qmetal\\lib\\site-packages\\pyEPR\\project_info.py:239: FutureWarning: The default dtype for empty Series will be 'object' instead of 'float64' in a future version. Specify a dtype explicitly to silence this warning.\n",
      "  options=pd.Series(get_instance_vars(self.options)),\n",
      "\n"
     ]
    },
    {
     "name": "stdout",
     "output_type": "stream",
     "text": [
      "\n",
      "        energy_elec_all       = 4.28383014952908e-25\n",
      "        energy_elec_substrate = 3.93393761301441e-25\n",
      "        EPR of substrate = 91.8%\n",
      "\n",
      "        energy_mag    = 3.72556289677996e-27\n",
      "        energy_mag % of energy_elec_all  = 0.9%\n",
      "        \n",
      "\n",
      "Variation 0  [1/1]\n"
     ]
    },
    {
     "name": "stderr",
     "output_type": "stream",
     "text": [
      "WARNING:py.warnings:c:\\Users\\slab\\anaconda3\\envs\\qmetal\\lib\\site-packages\\pyEPR\\core_distributed_analysis.py:1101: FutureWarning: The default dtype for empty Series will be 'object' instead of 'float64' in a future version. Specify a dtype explicitly to silence this warning.\n",
      "  Ljs = pd.Series({})\n",
      "\n",
      "WARNING:py.warnings:c:\\Users\\slab\\anaconda3\\envs\\qmetal\\lib\\site-packages\\pyEPR\\core_distributed_analysis.py:1102: FutureWarning: The default dtype for empty Series will be 'object' instead of 'float64' in a future version. Specify a dtype explicitly to silence this warning.\n",
      "  Cjs = pd.Series({})\n",
      "\n",
      "WARNING:py.warnings:c:\\Users\\slab\\anaconda3\\envs\\qmetal\\lib\\site-packages\\pyEPR\\core_distributed_analysis.py:1245: FutureWarning: The default dtype for empty Series will be 'object' instead of 'float64' in a future version. Specify a dtype explicitly to silence this warning.\n",
      "  _Om = pd.Series({})\n",
      "\n"
     ]
    },
    {
     "name": "stdout",
     "output_type": "stream",
     "text": [
      "\n",
      "  \u001b[1mMode 0 at 4.53 GHz   [1/1]\u001b[0m\n",
      "    Calculating ℰ_magnetic,ℰ_electric\n"
     ]
    },
    {
     "name": "stderr",
     "output_type": "stream",
     "text": [
      "WARNING:py.warnings:c:\\Users\\slab\\anaconda3\\envs\\qmetal\\lib\\site-packages\\pyEPR\\core_distributed_analysis.py:981: FutureWarning: The default dtype for empty Series will be 'object' instead of 'float64' in a future version. Specify a dtype explicitly to silence this warning.\n",
      "  Sj = pd.Series({})\n",
      "\n"
     ]
    },
    {
     "name": "stdout",
     "output_type": "stream",
     "text": [
      "       (ℰ_E-ℰ_H)/ℰ_E       ℰ_E       ℰ_H\n",
      "               99.1%  2.142e-25 1.863e-27\n",
      "\n",
      "    Calculating junction energy participation ration (EPR)\n",
      "\tmethod=`line_voltage`. First estimates:\n",
      "\tjunction        EPR p_0j   sign s_0j    (p_capacitive)\n"
     ]
    },
    {
     "name": "stderr",
     "output_type": "stream",
     "text": [
      "WARNING:py.warnings:c:\\Users\\slab\\anaconda3\\envs\\qmetal\\lib\\site-packages\\pyEPR\\core_distributed_analysis.py:933: FutureWarning: The default dtype for empty Series will be 'object' instead of 'float64' in a future version. Specify a dtype explicitly to silence this warning.\n",
      "  Qp = pd.Series({})\n",
      "\n"
     ]
    },
    {
     "name": "stdout",
     "output_type": "stream",
     "text": [
      "\t\tEnergy fraction (Lj over Lj&Cj)= 97.93%\n",
      "\tjj1              1.20702  (+)        0.0254664\n",
      "\t\t(U_tot_cap-U_tot_ind)/mean=-8.49%\n",
      "Calculating Qdielectric_main for mode 0 (0/0)\n"
     ]
    },
    {
     "name": "stderr",
     "output_type": "stream",
     "text": [
      "WARNING:py.warnings:c:\\Users\\slab\\anaconda3\\envs\\qmetal\\lib\\site-packages\\pyEPR\\core_distributed_analysis.py:1307: FutureWarning: The series.append method is deprecated and will be removed from pandas in a future version. Use pandas.concat instead.\n",
      "  sol = sol.append(self.get_Qdielectric(\n",
      "\n"
     ]
    },
    {
     "name": "stdout",
     "output_type": "stream",
     "text": [
      "p_dielectric_main_0 = 0.9183225001222017\n"
     ]
    },
    {
     "name": "stderr",
     "output_type": "stream",
     "text": [
      "WARNING:py.warnings:c:\\Users\\slab\\anaconda3\\envs\\qmetal\\lib\\site-packages\\pyEPR\\project_info.py:239: FutureWarning: The default dtype for empty Series will be 'object' instead of 'float64' in a future version. Specify a dtype explicitly to silence this warning.\n",
      "  options=pd.Series(get_instance_vars(self.options)),\n",
      "\n",
      "WARNING 09:16PM [__init__]: <p>Error: <class 'IndexError'></p>\n",
      "ERROR 09:16PM [_get_participation_normalized]: WARNING: U_tot_cap-U_tot_ind / mean = 17.0% is > 15%.                     \n",
      "Is the simulation converged? Proceed with caution\n",
      "ERROR 09:16PM [_get_participation_normalized]: WARNING: U_tot_cap-U_tot_ind / mean = 17.0% is > 15%.                     \n",
      "Is the simulation converged? Proceed with caution\n",
      "WARNING:py.warnings:c:\\Users\\slab\\anaconda3\\envs\\qmetal\\lib\\site-packages\\pyEPR\\core_quantum_analysis.py:712: FutureWarning: Support for multi-dimensional indexing (e.g. `obj[:, None]`) is deprecated and will be removed in a future version.  Convert to a numpy array before indexing instead.\n",
      "  result['Q_coupling'] = self.Qm_coupling[variation][self.Qm_coupling[variation].columns[junctions]][modes]#TODO change the columns to junctions\n",
      "\n",
      "WARNING:py.warnings:c:\\Users\\slab\\anaconda3\\envs\\qmetal\\lib\\site-packages\\pyEPR\\core_quantum_analysis.py:717: FutureWarning: Support for multi-dimensional indexing (e.g. `obj[:, None]`) is deprecated and will be removed in a future version.  Convert to a numpy array before indexing instead.\n",
      "  result['Qs'] = self.Qs[variation][self.PM[variation].columns[junctions]][modes] #TODO change the columns to junctions\n",
      "\n"
     ]
    },
    {
     "name": "stdout",
     "output_type": "stream",
     "text": [
      "\n",
      "ANALYSIS DONE. Data saved to:\n",
      "\n",
      "C:\\data-pyEPR\\Project40\\single_q_hfss\\2023-05-03 21-16-11.npz\n",
      "\n",
      "\n",
      "\t Differences in variations:\n",
      "\n",
      "\n",
      "\n",
      " . . . . . . . . . . . . . . . . . . . . . . . . . . . . . . . . . . . . . . . . \n",
      "Variation 0\n",
      "\n",
      "Starting the diagonalization\n",
      "Finished the diagonalization\n",
      "Pm_norm=\n",
      "modes\n",
      "0    0.842994\n",
      "dtype: float64\n",
      "\n",
      "Pm_norm idx =\n",
      "    jj1\n",
      "0  True\n",
      "*** P (participation matrix, not normlz.)\n",
      "        jj1\n",
      "0  1.177041\n",
      "\n",
      "*** S (sign-bit matrix)\n",
      "   s_jj1\n",
      "0     -1\n",
      "*** P (participation matrix, normalized.)\n",
      "      0.99\n",
      "\n",
      "*** Chi matrix O1 PT (MHz)\n",
      "    Diag is anharmonicity, off diag is full cross-Kerr.\n",
      "       201\n",
      "\n",
      "*** Chi matrix ND (MHz) \n",
      "       222\n",
      "\n",
      "*** Frequencies O1 PT (MHz)\n",
      "0    4332.601486\n",
      "dtype: float64\n",
      "\n",
      "*** Frequencies ND (MHz)\n",
      "0    4322.719605\n",
      "dtype: float64\n",
      "\n",
      "*** Q_coupling\n",
      "Empty DataFrame\n",
      "Columns: []\n",
      "Index: [0]\n"
     ]
    },
    {
     "data": {
      "text/markdown": [
       "#### Mode frequencies (MHz)"
      ],
      "text/plain": [
       "<IPython.core.display.Markdown object>"
      ]
     },
     "metadata": {},
     "output_type": "display_data"
    },
    {
     "data": {
      "text/markdown": [
       "###### Numerical diagonalization"
      ],
      "text/plain": [
       "<IPython.core.display.Markdown object>"
      ]
     },
     "metadata": {},
     "output_type": "display_data"
    },
    {
     "data": {
      "text/html": [
       "<div>\n",
       "<style scoped>\n",
       "    .dataframe tbody tr th:only-of-type {\n",
       "        vertical-align: middle;\n",
       "    }\n",
       "\n",
       "    .dataframe tbody tr th {\n",
       "        vertical-align: top;\n",
       "    }\n",
       "\n",
       "    .dataframe thead th {\n",
       "        text-align: right;\n",
       "    }\n",
       "</style>\n",
       "<table border=\"1\" class=\"dataframe\">\n",
       "  <thead>\n",
       "    <tr style=\"text-align: right;\">\n",
       "      <th>Lj</th>\n",
       "      <th>13</th>\n",
       "    </tr>\n",
       "  </thead>\n",
       "  <tbody>\n",
       "    <tr>\n",
       "      <th>0</th>\n",
       "      <td>4322.72</td>\n",
       "    </tr>\n",
       "  </tbody>\n",
       "</table>\n",
       "</div>"
      ],
      "text/plain": [
       "Lj       13\n",
       "0   4322.72"
      ]
     },
     "metadata": {},
     "output_type": "display_data"
    },
    {
     "data": {
      "text/markdown": [
       "#### Kerr Non-linear coefficient table (MHz)"
      ],
      "text/plain": [
       "<IPython.core.display.Markdown object>"
      ]
     },
     "metadata": {},
     "output_type": "display_data"
    },
    {
     "data": {
      "text/markdown": [
       "###### Numerical diagonalization"
      ],
      "text/plain": [
       "<IPython.core.display.Markdown object>"
      ]
     },
     "metadata": {},
     "output_type": "display_data"
    },
    {
     "data": {
      "text/html": [
       "<div>\n",
       "<style scoped>\n",
       "    .dataframe tbody tr th:only-of-type {\n",
       "        vertical-align: middle;\n",
       "    }\n",
       "\n",
       "    .dataframe tbody tr th {\n",
       "        vertical-align: top;\n",
       "    }\n",
       "\n",
       "    .dataframe thead th {\n",
       "        text-align: right;\n",
       "    }\n",
       "</style>\n",
       "<table border=\"1\" class=\"dataframe\">\n",
       "  <thead>\n",
       "    <tr style=\"text-align: right;\">\n",
       "      <th></th>\n",
       "      <th></th>\n",
       "      <th>0</th>\n",
       "    </tr>\n",
       "    <tr>\n",
       "      <th>Lj</th>\n",
       "      <th></th>\n",
       "      <th></th>\n",
       "    </tr>\n",
       "  </thead>\n",
       "  <tbody>\n",
       "    <tr>\n",
       "      <th>13</th>\n",
       "      <th>0</th>\n",
       "      <td>222.07</td>\n",
       "    </tr>\n",
       "  </tbody>\n",
       "</table>\n",
       "</div>"
      ],
      "text/plain": [
       "           0\n",
       "Lj          \n",
       "13 0  222.07"
      ]
     },
     "metadata": {},
     "output_type": "display_data"
    },
    {
     "name": "stdout",
     "output_type": "stream",
     "text": [
      "201.97391237215967\n",
      "tried1\n"
     ]
    },
    {
     "name": "stderr",
     "output_type": "stream",
     "text": [
      "INFO 09:16PM [connect_design]: \tOpened active design\n",
      "\tDesign:    single_q_hfss [Solution type: Eigenmode]\n",
      "INFO 09:18PM [get_setup]: \tOpened setup `Setup`  (<class 'pyEPR.ansys.HfssEMSetup'>)\n",
      "INFO 09:18PM [analyze]: Analyzing setup Setup\n",
      "09:21PM 40s INFO [get_f_convergence]: Saved convergences to c:\\Users\\slab\\Desktop\\Wendy-qiskit-code\\hfss_eig_f_convergence.csv\n"
     ]
    },
    {
     "name": "stdout",
     "output_type": "stream",
     "text": [
      "saddd\n",
      "Design \"single_q_hfss\" info:\n",
      "\t# eigenmodes    1\n",
      "\t# variations    1\n",
      "Design \"single_q_hfss\" info:\n",
      "\t# eigenmodes    1\n",
      "\t# variations    1\n"
     ]
    },
    {
     "name": "stderr",
     "output_type": "stream",
     "text": [
      "WARNING:py.warnings:c:\\Users\\slab\\anaconda3\\envs\\qmetal\\lib\\site-packages\\pyEPR\\project_info.py:239: FutureWarning: The default dtype for empty Series will be 'object' instead of 'float64' in a future version. Specify a dtype explicitly to silence this warning.\n",
      "  options=pd.Series(get_instance_vars(self.options)),\n",
      "\n"
     ]
    },
    {
     "name": "stdout",
     "output_type": "stream",
     "text": [
      "\n",
      "        energy_elec_all       = 3.73530921832419e-25\n",
      "        energy_elec_substrate = 3.4294657579368e-25\n",
      "        EPR of substrate = 91.8%\n",
      "\n",
      "        energy_mag    = 3.32112117245293e-27\n",
      "        energy_mag % of energy_elec_all  = 0.9%\n",
      "        \n",
      "\n",
      "Variation 0  [1/1]\n"
     ]
    },
    {
     "name": "stderr",
     "output_type": "stream",
     "text": [
      "WARNING:py.warnings:c:\\Users\\slab\\anaconda3\\envs\\qmetal\\lib\\site-packages\\pyEPR\\core_distributed_analysis.py:1101: FutureWarning: The default dtype for empty Series will be 'object' instead of 'float64' in a future version. Specify a dtype explicitly to silence this warning.\n",
      "  Ljs = pd.Series({})\n",
      "\n",
      "WARNING:py.warnings:c:\\Users\\slab\\anaconda3\\envs\\qmetal\\lib\\site-packages\\pyEPR\\core_distributed_analysis.py:1102: FutureWarning: The default dtype for empty Series will be 'object' instead of 'float64' in a future version. Specify a dtype explicitly to silence this warning.\n",
      "  Cjs = pd.Series({})\n",
      "\n",
      "WARNING:py.warnings:c:\\Users\\slab\\anaconda3\\envs\\qmetal\\lib\\site-packages\\pyEPR\\core_distributed_analysis.py:1245: FutureWarning: The default dtype for empty Series will be 'object' instead of 'float64' in a future version. Specify a dtype explicitly to silence this warning.\n",
      "  _Om = pd.Series({})\n",
      "\n"
     ]
    },
    {
     "name": "stdout",
     "output_type": "stream",
     "text": [
      "\n",
      "  \u001b[1mMode 0 at 4.40 GHz   [1/1]\u001b[0m\n",
      "    Calculating ℰ_magnetic,ℰ_electric\n"
     ]
    },
    {
     "name": "stderr",
     "output_type": "stream",
     "text": [
      "WARNING:py.warnings:c:\\Users\\slab\\anaconda3\\envs\\qmetal\\lib\\site-packages\\pyEPR\\core_distributed_analysis.py:981: FutureWarning: The default dtype for empty Series will be 'object' instead of 'float64' in a future version. Specify a dtype explicitly to silence this warning.\n",
      "  Sj = pd.Series({})\n",
      "\n"
     ]
    },
    {
     "name": "stdout",
     "output_type": "stream",
     "text": [
      "       (ℰ_E-ℰ_H)/ℰ_E       ℰ_E       ℰ_H\n",
      "               99.1%  1.868e-25 1.661e-27\n",
      "\n",
      "    Calculating junction energy participation ration (EPR)\n",
      "\tmethod=`line_voltage`. First estimates:\n",
      "\tjunction        EPR p_0j   sign s_0j    (p_capacitive)\n"
     ]
    },
    {
     "name": "stderr",
     "output_type": "stream",
     "text": [
      "WARNING:py.warnings:c:\\Users\\slab\\anaconda3\\envs\\qmetal\\lib\\site-packages\\pyEPR\\core_distributed_analysis.py:933: FutureWarning: The default dtype for empty Series will be 'object' instead of 'float64' in a future version. Specify a dtype explicitly to silence this warning.\n",
      "  Qp = pd.Series({})\n",
      "\n"
     ]
    },
    {
     "name": "stdout",
     "output_type": "stream",
     "text": [
      "\t\tEnergy fraction (Lj over Lj&Cj)= 98.05%\n",
      "\tjj1               1.1911  (+)        0.0236352\n",
      "\t\t(U_tot_cap-U_tot_ind)/mean=-7.93%\n",
      "Calculating Qdielectric_main for mode 0 (0/0)\n"
     ]
    },
    {
     "name": "stderr",
     "output_type": "stream",
     "text": [
      "WARNING:py.warnings:c:\\Users\\slab\\anaconda3\\envs\\qmetal\\lib\\site-packages\\pyEPR\\core_distributed_analysis.py:1307: FutureWarning: The series.append method is deprecated and will be removed from pandas in a future version. Use pandas.concat instead.\n",
      "  sol = sol.append(self.get_Qdielectric(\n",
      "\n"
     ]
    },
    {
     "name": "stdout",
     "output_type": "stream",
     "text": [
      "p_dielectric_main_0 = 0.9181209794126217\n"
     ]
    },
    {
     "name": "stderr",
     "output_type": "stream",
     "text": [
      "WARNING:py.warnings:c:\\Users\\slab\\anaconda3\\envs\\qmetal\\lib\\site-packages\\pyEPR\\project_info.py:239: FutureWarning: The default dtype for empty Series will be 'object' instead of 'float64' in a future version. Specify a dtype explicitly to silence this warning.\n",
      "  options=pd.Series(get_instance_vars(self.options)),\n",
      "\n",
      "WARNING 09:21PM [__init__]: <p>Error: <class 'IndexError'></p>\n",
      "ERROR 09:21PM [_get_participation_normalized]: WARNING: U_tot_cap-U_tot_ind / mean = 15.9% is > 15%.                     \n",
      "Is the simulation converged? Proceed with caution\n",
      "ERROR 09:21PM [_get_participation_normalized]: WARNING: U_tot_cap-U_tot_ind / mean = 15.9% is > 15%.                     \n",
      "Is the simulation converged? Proceed with caution\n",
      "WARNING:py.warnings:c:\\Users\\slab\\anaconda3\\envs\\qmetal\\lib\\site-packages\\pyEPR\\core_quantum_analysis.py:712: FutureWarning: Support for multi-dimensional indexing (e.g. `obj[:, None]`) is deprecated and will be removed in a future version.  Convert to a numpy array before indexing instead.\n",
      "  result['Q_coupling'] = self.Qm_coupling[variation][self.Qm_coupling[variation].columns[junctions]][modes]#TODO change the columns to junctions\n",
      "\n",
      "WARNING:py.warnings:c:\\Users\\slab\\anaconda3\\envs\\qmetal\\lib\\site-packages\\pyEPR\\core_quantum_analysis.py:717: FutureWarning: Support for multi-dimensional indexing (e.g. `obj[:, None]`) is deprecated and will be removed in a future version.  Convert to a numpy array before indexing instead.\n",
      "  result['Qs'] = self.Qs[variation][self.PM[variation].columns[junctions]][modes] #TODO change the columns to junctions\n",
      "\n"
     ]
    },
    {
     "name": "stdout",
     "output_type": "stream",
     "text": [
      "\n",
      "ANALYSIS DONE. Data saved to:\n",
      "\n",
      "C:\\data-pyEPR\\Project40\\single_q_hfss\\2023-05-03 21-21-42.npz\n",
      "\n",
      "\n",
      "\t Differences in variations:\n",
      "\n",
      "\n",
      "\n",
      " . . . . . . . . . . . . . . . . . . . . . . . . . . . . . . . . . . . . . . . . \n",
      "Variation 0\n",
      "\n",
      "Starting the diagonalization\n",
      "Finished the diagonalization\n",
      "Pm_norm=\n",
      "modes\n",
      "0    0.852529\n",
      "dtype: float64\n",
      "\n",
      "Pm_norm idx =\n",
      "    jj1\n",
      "0  True\n",
      "*** P (participation matrix, not normlz.)\n",
      "      jj1\n",
      "0  1.1636\n",
      "\n",
      "*** S (sign-bit matrix)\n",
      "   s_jj1\n",
      "0      1\n",
      "*** P (participation matrix, normalized.)\n",
      "      0.99\n",
      "\n",
      "*** Chi matrix O1 PT (MHz)\n",
      "    Diag is anharmonicity, off diag is full cross-Kerr.\n",
      "       189\n",
      "\n",
      "*** Chi matrix ND (MHz) \n",
      "       208\n",
      "\n",
      "*** Frequencies O1 PT (MHz)\n",
      "0    4207.697303\n",
      "dtype: float64\n",
      "\n",
      "*** Frequencies ND (MHz)\n",
      "0    4198.725776\n",
      "dtype: float64\n",
      "\n",
      "*** Q_coupling\n",
      "Empty DataFrame\n",
      "Columns: []\n",
      "Index: [0]\n"
     ]
    },
    {
     "data": {
      "text/markdown": [
       "#### Mode frequencies (MHz)"
      ],
      "text/plain": [
       "<IPython.core.display.Markdown object>"
      ]
     },
     "metadata": {},
     "output_type": "display_data"
    },
    {
     "data": {
      "text/markdown": [
       "###### Numerical diagonalization"
      ],
      "text/plain": [
       "<IPython.core.display.Markdown object>"
      ]
     },
     "metadata": {},
     "output_type": "display_data"
    },
    {
     "data": {
      "text/html": [
       "<div>\n",
       "<style scoped>\n",
       "    .dataframe tbody tr th:only-of-type {\n",
       "        vertical-align: middle;\n",
       "    }\n",
       "\n",
       "    .dataframe tbody tr th {\n",
       "        vertical-align: top;\n",
       "    }\n",
       "\n",
       "    .dataframe thead th {\n",
       "        text-align: right;\n",
       "    }\n",
       "</style>\n",
       "<table border=\"1\" class=\"dataframe\">\n",
       "  <thead>\n",
       "    <tr style=\"text-align: right;\">\n",
       "      <th>Lj</th>\n",
       "      <th>13</th>\n",
       "    </tr>\n",
       "  </thead>\n",
       "  <tbody>\n",
       "    <tr>\n",
       "      <th>0</th>\n",
       "      <td>4198.73</td>\n",
       "    </tr>\n",
       "  </tbody>\n",
       "</table>\n",
       "</div>"
      ],
      "text/plain": [
       "Lj       13\n",
       "0   4198.73"
      ]
     },
     "metadata": {},
     "output_type": "display_data"
    },
    {
     "data": {
      "text/markdown": [
       "#### Kerr Non-linear coefficient table (MHz)"
      ],
      "text/plain": [
       "<IPython.core.display.Markdown object>"
      ]
     },
     "metadata": {},
     "output_type": "display_data"
    },
    {
     "data": {
      "text/markdown": [
       "###### Numerical diagonalization"
      ],
      "text/plain": [
       "<IPython.core.display.Markdown object>"
      ]
     },
     "metadata": {},
     "output_type": "display_data"
    },
    {
     "data": {
      "text/html": [
       "<div>\n",
       "<style scoped>\n",
       "    .dataframe tbody tr th:only-of-type {\n",
       "        vertical-align: middle;\n",
       "    }\n",
       "\n",
       "    .dataframe tbody tr th {\n",
       "        vertical-align: top;\n",
       "    }\n",
       "\n",
       "    .dataframe thead th {\n",
       "        text-align: right;\n",
       "    }\n",
       "</style>\n",
       "<table border=\"1\" class=\"dataframe\">\n",
       "  <thead>\n",
       "    <tr style=\"text-align: right;\">\n",
       "      <th></th>\n",
       "      <th></th>\n",
       "      <th>0</th>\n",
       "    </tr>\n",
       "    <tr>\n",
       "      <th>Lj</th>\n",
       "      <th></th>\n",
       "      <th></th>\n",
       "    </tr>\n",
       "  </thead>\n",
       "  <tbody>\n",
       "    <tr>\n",
       "      <th>13</th>\n",
       "      <th>0</th>\n",
       "      <td>208.14</td>\n",
       "    </tr>\n",
       "  </tbody>\n",
       "</table>\n",
       "</div>"
      ],
      "text/plain": [
       "           0\n",
       "Lj          \n",
       "13 0  208.14"
      ]
     },
     "metadata": {},
     "output_type": "display_data"
    },
    {
     "name": "stdout",
     "output_type": "stream",
     "text": [
      "200.95904281029888\n",
      "tried1\n"
     ]
    },
    {
     "name": "stderr",
     "output_type": "stream",
     "text": [
      "INFO 09:21PM [connect_design]: \tOpened active design\n",
      "\tDesign:    single_q_hfss [Solution type: Eigenmode]\n",
      "INFO 09:23PM [get_setup]: \tOpened setup `Setup`  (<class 'pyEPR.ansys.HfssEMSetup'>)\n",
      "INFO 09:23PM [analyze]: Analyzing setup Setup\n",
      "09:27PM 33s INFO [get_f_convergence]: Saved convergences to c:\\Users\\slab\\Desktop\\Wendy-qiskit-code\\hfss_eig_f_convergence.csv\n"
     ]
    },
    {
     "name": "stdout",
     "output_type": "stream",
     "text": [
      "saddd\n",
      "Design \"single_q_hfss\" info:\n",
      "\t# eigenmodes    1\n",
      "\t# variations    1\n",
      "Design \"single_q_hfss\" info:\n",
      "\t# eigenmodes    1\n",
      "\t# variations    1\n"
     ]
    },
    {
     "name": "stderr",
     "output_type": "stream",
     "text": [
      "WARNING:py.warnings:c:\\Users\\slab\\anaconda3\\envs\\qmetal\\lib\\site-packages\\pyEPR\\project_info.py:239: FutureWarning: The default dtype for empty Series will be 'object' instead of 'float64' in a future version. Specify a dtype explicitly to silence this warning.\n",
      "  options=pd.Series(get_instance_vars(self.options)),\n",
      "\n"
     ]
    },
    {
     "name": "stdout",
     "output_type": "stream",
     "text": [
      "\n",
      "        energy_elec_all       = 4.42391963319269e-25\n",
      "        energy_elec_substrate = 4.06202404788984e-25\n",
      "        EPR of substrate = 91.8%\n",
      "\n",
      "        energy_mag    = 3.59757317909975e-27\n",
      "        energy_mag % of energy_elec_all  = 0.8%\n",
      "        \n",
      "\n",
      "Variation 0  [1/1]\n"
     ]
    },
    {
     "name": "stderr",
     "output_type": "stream",
     "text": [
      "WARNING:py.warnings:c:\\Users\\slab\\anaconda3\\envs\\qmetal\\lib\\site-packages\\pyEPR\\core_distributed_analysis.py:1101: FutureWarning: The default dtype for empty Series will be 'object' instead of 'float64' in a future version. Specify a dtype explicitly to silence this warning.\n",
      "  Ljs = pd.Series({})\n",
      "\n",
      "WARNING:py.warnings:c:\\Users\\slab\\anaconda3\\envs\\qmetal\\lib\\site-packages\\pyEPR\\core_distributed_analysis.py:1102: FutureWarning: The default dtype for empty Series will be 'object' instead of 'float64' in a future version. Specify a dtype explicitly to silence this warning.\n",
      "  Cjs = pd.Series({})\n",
      "\n",
      "WARNING:py.warnings:c:\\Users\\slab\\anaconda3\\envs\\qmetal\\lib\\site-packages\\pyEPR\\core_distributed_analysis.py:1245: FutureWarning: The default dtype for empty Series will be 'object' instead of 'float64' in a future version. Specify a dtype explicitly to silence this warning.\n",
      "  _Om = pd.Series({})\n",
      "\n"
     ]
    },
    {
     "name": "stdout",
     "output_type": "stream",
     "text": [
      "\n",
      "  \u001b[1mMode 0 at 4.41 GHz   [1/1]\u001b[0m\n",
      "    Calculating ℰ_magnetic,ℰ_electric\n"
     ]
    },
    {
     "name": "stderr",
     "output_type": "stream",
     "text": [
      "WARNING:py.warnings:c:\\Users\\slab\\anaconda3\\envs\\qmetal\\lib\\site-packages\\pyEPR\\core_distributed_analysis.py:981: FutureWarning: The default dtype for empty Series will be 'object' instead of 'float64' in a future version. Specify a dtype explicitly to silence this warning.\n",
      "  Sj = pd.Series({})\n",
      "\n"
     ]
    },
    {
     "name": "stdout",
     "output_type": "stream",
     "text": [
      "       (ℰ_E-ℰ_H)/ℰ_E       ℰ_E       ℰ_H\n",
      "               99.2%  2.212e-25 1.799e-27\n",
      "\n",
      "    Calculating junction energy participation ration (EPR)\n",
      "\tmethod=`line_voltage`. First estimates:\n",
      "\tjunction        EPR p_0j   sign s_0j    (p_capacitive)\n"
     ]
    },
    {
     "name": "stderr",
     "output_type": "stream",
     "text": [
      "WARNING:py.warnings:c:\\Users\\slab\\anaconda3\\envs\\qmetal\\lib\\site-packages\\pyEPR\\core_distributed_analysis.py:933: FutureWarning: The default dtype for empty Series will be 'object' instead of 'float64' in a future version. Specify a dtype explicitly to silence this warning.\n",
      "  Qp = pd.Series({})\n",
      "\n"
     ]
    },
    {
     "name": "stdout",
     "output_type": "stream",
     "text": [
      "\t\tEnergy fraction (Lj over Lj&Cj)= 98.04%\n",
      "\tjj1              1.19259  (+)        0.0237821\n",
      "\t\t(U_tot_cap-U_tot_ind)/mean=-7.95%\n",
      "Calculating Qdielectric_main for mode 0 (0/0)\n"
     ]
    },
    {
     "name": "stderr",
     "output_type": "stream",
     "text": [
      "WARNING:py.warnings:c:\\Users\\slab\\anaconda3\\envs\\qmetal\\lib\\site-packages\\pyEPR\\core_distributed_analysis.py:1307: FutureWarning: The series.append method is deprecated and will be removed from pandas in a future version. Use pandas.concat instead.\n",
      "  sol = sol.append(self.get_Qdielectric(\n",
      "\n"
     ]
    },
    {
     "name": "stdout",
     "output_type": "stream",
     "text": [
      "p_dielectric_main_0 = 0.9181957143643511\n"
     ]
    },
    {
     "name": "stderr",
     "output_type": "stream",
     "text": [
      "WARNING:py.warnings:c:\\Users\\slab\\anaconda3\\envs\\qmetal\\lib\\site-packages\\pyEPR\\project_info.py:239: FutureWarning: The default dtype for empty Series will be 'object' instead of 'float64' in a future version. Specify a dtype explicitly to silence this warning.\n",
      "  options=pd.Series(get_instance_vars(self.options)),\n",
      "\n",
      "WARNING 09:27PM [__init__]: <p>Error: <class 'IndexError'></p>\n",
      "ERROR 09:27PM [_get_participation_normalized]: WARNING: U_tot_cap-U_tot_ind / mean = 15.9% is > 15%.                     \n",
      "Is the simulation converged? Proceed with caution\n",
      "ERROR 09:27PM [_get_participation_normalized]: WARNING: U_tot_cap-U_tot_ind / mean = 15.9% is > 15%.                     \n",
      "Is the simulation converged? Proceed with caution\n",
      "WARNING:py.warnings:c:\\Users\\slab\\anaconda3\\envs\\qmetal\\lib\\site-packages\\pyEPR\\core_quantum_analysis.py:712: FutureWarning: Support for multi-dimensional indexing (e.g. `obj[:, None]`) is deprecated and will be removed in a future version.  Convert to a numpy array before indexing instead.\n",
      "  result['Q_coupling'] = self.Qm_coupling[variation][self.Qm_coupling[variation].columns[junctions]][modes]#TODO change the columns to junctions\n",
      "\n",
      "WARNING:py.warnings:c:\\Users\\slab\\anaconda3\\envs\\qmetal\\lib\\site-packages\\pyEPR\\core_quantum_analysis.py:717: FutureWarning: Support for multi-dimensional indexing (e.g. `obj[:, None]`) is deprecated and will be removed in a future version.  Convert to a numpy array before indexing instead.\n",
      "  result['Qs'] = self.Qs[variation][self.PM[variation].columns[junctions]][modes] #TODO change the columns to junctions\n",
      "\n"
     ]
    },
    {
     "name": "stdout",
     "output_type": "stream",
     "text": [
      "\n",
      "ANALYSIS DONE. Data saved to:\n",
      "\n",
      "C:\\data-pyEPR\\Project40\\single_q_hfss\\2023-05-03 21-27-34.npz\n",
      "\n",
      "\n",
      "\t Differences in variations:\n",
      "\n",
      "\n",
      "\n",
      " . . . . . . . . . . . . . . . . . . . . . . . . . . . . . . . . . . . . . . . . \n",
      "Variation 0\n",
      "\n",
      "Starting the diagonalization\n",
      "Finished the diagonalization\n",
      "Pm_norm=\n",
      "modes\n",
      "0    0.852177\n",
      "dtype: float64\n",
      "\n",
      "Pm_norm idx =\n",
      "    jj1\n",
      "0  True\n",
      "*** P (participation matrix, not normlz.)\n",
      "        jj1\n",
      "0  1.164886\n",
      "\n",
      "*** S (sign-bit matrix)\n",
      "   s_jj1\n",
      "0      1\n",
      "*** P (participation matrix, normalized.)\n",
      "      0.99\n",
      "\n",
      "*** Chi matrix O1 PT (MHz)\n",
      "    Diag is anharmonicity, off diag is full cross-Kerr.\n",
      "       190\n",
      "\n",
      "*** Chi matrix ND (MHz) \n",
      "       210\n",
      "\n",
      "*** Frequencies O1 PT (MHz)\n",
      "0    4217.38658\n",
      "dtype: float64\n",
      "\n",
      "*** Frequencies ND (MHz)\n",
      "0    4208.312223\n",
      "dtype: float64\n",
      "\n",
      "*** Q_coupling\n",
      "Empty DataFrame\n",
      "Columns: []\n",
      "Index: [0]\n"
     ]
    },
    {
     "data": {
      "text/markdown": [
       "#### Mode frequencies (MHz)"
      ],
      "text/plain": [
       "<IPython.core.display.Markdown object>"
      ]
     },
     "metadata": {},
     "output_type": "display_data"
    },
    {
     "data": {
      "text/markdown": [
       "###### Numerical diagonalization"
      ],
      "text/plain": [
       "<IPython.core.display.Markdown object>"
      ]
     },
     "metadata": {},
     "output_type": "display_data"
    },
    {
     "data": {
      "text/html": [
       "<div>\n",
       "<style scoped>\n",
       "    .dataframe tbody tr th:only-of-type {\n",
       "        vertical-align: middle;\n",
       "    }\n",
       "\n",
       "    .dataframe tbody tr th {\n",
       "        vertical-align: top;\n",
       "    }\n",
       "\n",
       "    .dataframe thead th {\n",
       "        text-align: right;\n",
       "    }\n",
       "</style>\n",
       "<table border=\"1\" class=\"dataframe\">\n",
       "  <thead>\n",
       "    <tr style=\"text-align: right;\">\n",
       "      <th>Lj</th>\n",
       "      <th>13</th>\n",
       "    </tr>\n",
       "  </thead>\n",
       "  <tbody>\n",
       "    <tr>\n",
       "      <th>0</th>\n",
       "      <td>4208.31</td>\n",
       "    </tr>\n",
       "  </tbody>\n",
       "</table>\n",
       "</div>"
      ],
      "text/plain": [
       "Lj       13\n",
       "0   4208.31"
      ]
     },
     "metadata": {},
     "output_type": "display_data"
    },
    {
     "data": {
      "text/markdown": [
       "#### Kerr Non-linear coefficient table (MHz)"
      ],
      "text/plain": [
       "<IPython.core.display.Markdown object>"
      ]
     },
     "metadata": {},
     "output_type": "display_data"
    },
    {
     "data": {
      "text/markdown": [
       "###### Numerical diagonalization"
      ],
      "text/plain": [
       "<IPython.core.display.Markdown object>"
      ]
     },
     "metadata": {},
     "output_type": "display_data"
    },
    {
     "data": {
      "text/html": [
       "<div>\n",
       "<style scoped>\n",
       "    .dataframe tbody tr th:only-of-type {\n",
       "        vertical-align: middle;\n",
       "    }\n",
       "\n",
       "    .dataframe tbody tr th {\n",
       "        vertical-align: top;\n",
       "    }\n",
       "\n",
       "    .dataframe thead th {\n",
       "        text-align: right;\n",
       "    }\n",
       "</style>\n",
       "<table border=\"1\" class=\"dataframe\">\n",
       "  <thead>\n",
       "    <tr style=\"text-align: right;\">\n",
       "      <th></th>\n",
       "      <th></th>\n",
       "      <th>0</th>\n",
       "    </tr>\n",
       "    <tr>\n",
       "      <th>Lj</th>\n",
       "      <th></th>\n",
       "      <th></th>\n",
       "    </tr>\n",
       "  </thead>\n",
       "  <tbody>\n",
       "    <tr>\n",
       "      <th>13</th>\n",
       "      <th>0</th>\n",
       "      <td>209.56</td>\n",
       "    </tr>\n",
       "  </tbody>\n",
       "</table>\n",
       "</div>"
      ],
      "text/plain": [
       "           0\n",
       "Lj          \n",
       "13 0  209.56"
      ]
     },
     "metadata": {},
     "output_type": "display_data"
    },
    {
     "name": "stdout",
     "output_type": "stream",
     "text": [
      "245.0\n",
      "tried1\n"
     ]
    },
    {
     "name": "stderr",
     "output_type": "stream",
     "text": [
      "INFO 09:27PM [connect_design]: \tOpened active design\n",
      "\tDesign:    single_q_hfss [Solution type: Eigenmode]\n",
      "INFO 09:29PM [get_setup]: \tOpened setup `Setup`  (<class 'pyEPR.ansys.HfssEMSetup'>)\n",
      "INFO 09:29PM [analyze]: Analyzing setup Setup\n",
      "09:33PM 11s INFO [get_f_convergence]: Saved convergences to c:\\Users\\slab\\Desktop\\Wendy-qiskit-code\\hfss_eig_f_convergence.csv\n"
     ]
    },
    {
     "name": "stdout",
     "output_type": "stream",
     "text": [
      "saddd\n",
      "Design \"single_q_hfss\" info:\n",
      "\t# eigenmodes    1\n",
      "\t# variations    1\n",
      "Design \"single_q_hfss\" info:\n",
      "\t# eigenmodes    1\n",
      "\t# variations    1\n"
     ]
    },
    {
     "name": "stderr",
     "output_type": "stream",
     "text": [
      "WARNING:py.warnings:c:\\Users\\slab\\anaconda3\\envs\\qmetal\\lib\\site-packages\\pyEPR\\project_info.py:239: FutureWarning: The default dtype for empty Series will be 'object' instead of 'float64' in a future version. Specify a dtype explicitly to silence this warning.\n",
      "  options=pd.Series(get_instance_vars(self.options)),\n",
      "\n"
     ]
    },
    {
     "name": "stdout",
     "output_type": "stream",
     "text": [
      "\n",
      "        energy_elec_all       = 4.18519290586843e-25\n",
      "        energy_elec_substrate = 3.83933874373966e-25\n",
      "        EPR of substrate = 91.7%\n",
      "\n",
      "        energy_mag    = 3.53679797828415e-27\n",
      "        energy_mag % of energy_elec_all  = 0.8%\n",
      "        \n",
      "\n",
      "Variation 0  [1/1]\n"
     ]
    },
    {
     "name": "stderr",
     "output_type": "stream",
     "text": [
      "WARNING:py.warnings:c:\\Users\\slab\\anaconda3\\envs\\qmetal\\lib\\site-packages\\pyEPR\\core_distributed_analysis.py:1101: FutureWarning: The default dtype for empty Series will be 'object' instead of 'float64' in a future version. Specify a dtype explicitly to silence this warning.\n",
      "  Ljs = pd.Series({})\n",
      "\n",
      "WARNING:py.warnings:c:\\Users\\slab\\anaconda3\\envs\\qmetal\\lib\\site-packages\\pyEPR\\core_distributed_analysis.py:1102: FutureWarning: The default dtype for empty Series will be 'object' instead of 'float64' in a future version. Specify a dtype explicitly to silence this warning.\n",
      "  Cjs = pd.Series({})\n",
      "\n",
      "WARNING:py.warnings:c:\\Users\\slab\\anaconda3\\envs\\qmetal\\lib\\site-packages\\pyEPR\\core_distributed_analysis.py:1245: FutureWarning: The default dtype for empty Series will be 'object' instead of 'float64' in a future version. Specify a dtype explicitly to silence this warning.\n",
      "  _Om = pd.Series({})\n",
      "\n"
     ]
    },
    {
     "name": "stdout",
     "output_type": "stream",
     "text": [
      "\n",
      "  \u001b[1mMode 0 at 4.47 GHz   [1/1]\u001b[0m\n",
      "    Calculating ℰ_magnetic,ℰ_electric\n"
     ]
    },
    {
     "name": "stderr",
     "output_type": "stream",
     "text": [
      "WARNING:py.warnings:c:\\Users\\slab\\anaconda3\\envs\\qmetal\\lib\\site-packages\\pyEPR\\core_distributed_analysis.py:981: FutureWarning: The default dtype for empty Series will be 'object' instead of 'float64' in a future version. Specify a dtype explicitly to silence this warning.\n",
      "  Sj = pd.Series({})\n",
      "\n"
     ]
    },
    {
     "name": "stdout",
     "output_type": "stream",
     "text": [
      "       (ℰ_E-ℰ_H)/ℰ_E       ℰ_E       ℰ_H\n",
      "               99.2%  2.093e-25 1.768e-27\n",
      "\n",
      "    Calculating junction energy participation ration (EPR)\n",
      "\tmethod=`line_voltage`. First estimates:\n",
      "\tjunction        EPR p_0j   sign s_0j    (p_capacitive)\n"
     ]
    },
    {
     "name": "stderr",
     "output_type": "stream",
     "text": [
      "WARNING:py.warnings:c:\\Users\\slab\\anaconda3\\envs\\qmetal\\lib\\site-packages\\pyEPR\\core_distributed_analysis.py:933: FutureWarning: The default dtype for empty Series will be 'object' instead of 'float64' in a future version. Specify a dtype explicitly to silence this warning.\n",
      "  Qp = pd.Series({})\n",
      "\n"
     ]
    },
    {
     "name": "stdout",
     "output_type": "stream",
     "text": [
      "\t\tEnergy fraction (Lj over Lj&Cj)= 98.44%\n",
      "\tjj1              1.19998  (+)        0.0189588\n",
      "\t\t(U_tot_cap-U_tot_ind)/mean=-8.51%\n",
      "Calculating Qdielectric_main for mode 0 (0/0)\n"
     ]
    },
    {
     "name": "stderr",
     "output_type": "stream",
     "text": [
      "WARNING:py.warnings:c:\\Users\\slab\\anaconda3\\envs\\qmetal\\lib\\site-packages\\pyEPR\\core_distributed_analysis.py:1307: FutureWarning: The series.append method is deprecated and will be removed from pandas in a future version. Use pandas.concat instead.\n",
      "  sol = sol.append(self.get_Qdielectric(\n",
      "\n"
     ]
    },
    {
     "name": "stdout",
     "output_type": "stream",
     "text": [
      "p_dielectric_main_0 = 0.9173624322922327\n"
     ]
    },
    {
     "name": "stderr",
     "output_type": "stream",
     "text": [
      "WARNING:py.warnings:c:\\Users\\slab\\anaconda3\\envs\\qmetal\\lib\\site-packages\\pyEPR\\project_info.py:239: FutureWarning: The default dtype for empty Series will be 'object' instead of 'float64' in a future version. Specify a dtype explicitly to silence this warning.\n",
      "  options=pd.Series(get_instance_vars(self.options)),\n",
      "\n",
      "WARNING 09:33PM [__init__]: <p>Error: <class 'IndexError'></p>\n",
      "ERROR 09:33PM [_get_participation_normalized]: WARNING: U_tot_cap-U_tot_ind / mean = 17.0% is > 15%.                     \n",
      "Is the simulation converged? Proceed with caution\n",
      "ERROR 09:33PM [_get_participation_normalized]: WARNING: U_tot_cap-U_tot_ind / mean = 17.0% is > 15%.                     \n",
      "Is the simulation converged? Proceed with caution\n",
      "WARNING:py.warnings:c:\\Users\\slab\\anaconda3\\envs\\qmetal\\lib\\site-packages\\pyEPR\\core_quantum_analysis.py:712: FutureWarning: Support for multi-dimensional indexing (e.g. `obj[:, None]`) is deprecated and will be removed in a future version.  Convert to a numpy array before indexing instead.\n",
      "  result['Q_coupling'] = self.Qm_coupling[variation][self.Qm_coupling[variation].columns[junctions]][modes]#TODO change the columns to junctions\n",
      "\n",
      "WARNING:py.warnings:c:\\Users\\slab\\anaconda3\\envs\\qmetal\\lib\\site-packages\\pyEPR\\core_quantum_analysis.py:717: FutureWarning: Support for multi-dimensional indexing (e.g. `obj[:, None]`) is deprecated and will be removed in a future version.  Convert to a numpy array before indexing instead.\n",
      "  result['Qs'] = self.Qs[variation][self.PM[variation].columns[junctions]][modes] #TODO change the columns to junctions\n",
      "\n"
     ]
    },
    {
     "name": "stdout",
     "output_type": "stream",
     "text": [
      "\n",
      "ANALYSIS DONE. Data saved to:\n",
      "\n",
      "C:\\data-pyEPR\\Project40\\single_q_hfss\\2023-05-03 21-33-12.npz\n",
      "\n",
      "\n",
      "\t Differences in variations:\n",
      "\n",
      "\n",
      "\n",
      " . . . . . . . . . . . . . . . . . . . . . . . . . . . . . . . . . . . . . . . . \n",
      "Variation 0\n",
      "\n",
      "Starting the diagonalization\n",
      "Finished the diagonalization\n",
      "Pm_norm=\n",
      "modes\n",
      "0    0.8427\n",
      "dtype: float64\n",
      "\n",
      "Pm_norm idx =\n",
      "    jj1\n",
      "0  True\n",
      "*** P (participation matrix, not normlz.)\n",
      "        jj1\n",
      "0  1.177657\n",
      "\n",
      "*** S (sign-bit matrix)\n",
      "   s_jj1\n",
      "0      1\n",
      "*** P (participation matrix, normalized.)\n",
      "      0.99\n",
      "\n",
      "*** Chi matrix O1 PT (MHz)\n",
      "    Diag is anharmonicity, off diag is full cross-Kerr.\n",
      "       151\n",
      "\n",
      "*** Chi matrix ND (MHz) \n",
      "       163\n",
      "\n",
      "*** Frequencies O1 PT (MHz)\n",
      "0    4322.540071\n",
      "dtype: float64\n",
      "\n",
      "*** Frequencies ND (MHz)\n",
      "0    4317.066496\n",
      "dtype: float64\n",
      "\n",
      "*** Q_coupling\n",
      "Empty DataFrame\n",
      "Columns: []\n",
      "Index: [0]\n"
     ]
    },
    {
     "data": {
      "text/markdown": [
       "#### Mode frequencies (MHz)"
      ],
      "text/plain": [
       "<IPython.core.display.Markdown object>"
      ]
     },
     "metadata": {},
     "output_type": "display_data"
    },
    {
     "data": {
      "text/markdown": [
       "###### Numerical diagonalization"
      ],
      "text/plain": [
       "<IPython.core.display.Markdown object>"
      ]
     },
     "metadata": {},
     "output_type": "display_data"
    },
    {
     "data": {
      "text/html": [
       "<div>\n",
       "<style scoped>\n",
       "    .dataframe tbody tr th:only-of-type {\n",
       "        vertical-align: middle;\n",
       "    }\n",
       "\n",
       "    .dataframe tbody tr th {\n",
       "        vertical-align: top;\n",
       "    }\n",
       "\n",
       "    .dataframe thead th {\n",
       "        text-align: right;\n",
       "    }\n",
       "</style>\n",
       "<table border=\"1\" class=\"dataframe\">\n",
       "  <thead>\n",
       "    <tr style=\"text-align: right;\">\n",
       "      <th>Lj</th>\n",
       "      <th>10</th>\n",
       "    </tr>\n",
       "  </thead>\n",
       "  <tbody>\n",
       "    <tr>\n",
       "      <th>0</th>\n",
       "      <td>4317.07</td>\n",
       "    </tr>\n",
       "  </tbody>\n",
       "</table>\n",
       "</div>"
      ],
      "text/plain": [
       "Lj       10\n",
       "0   4317.07"
      ]
     },
     "metadata": {},
     "output_type": "display_data"
    },
    {
     "data": {
      "text/markdown": [
       "#### Kerr Non-linear coefficient table (MHz)"
      ],
      "text/plain": [
       "<IPython.core.display.Markdown object>"
      ]
     },
     "metadata": {},
     "output_type": "display_data"
    },
    {
     "data": {
      "text/markdown": [
       "###### Numerical diagonalization"
      ],
      "text/plain": [
       "<IPython.core.display.Markdown object>"
      ]
     },
     "metadata": {},
     "output_type": "display_data"
    },
    {
     "data": {
      "text/html": [
       "<div>\n",
       "<style scoped>\n",
       "    .dataframe tbody tr th:only-of-type {\n",
       "        vertical-align: middle;\n",
       "    }\n",
       "\n",
       "    .dataframe tbody tr th {\n",
       "        vertical-align: top;\n",
       "    }\n",
       "\n",
       "    .dataframe thead th {\n",
       "        text-align: right;\n",
       "    }\n",
       "</style>\n",
       "<table border=\"1\" class=\"dataframe\">\n",
       "  <thead>\n",
       "    <tr style=\"text-align: right;\">\n",
       "      <th></th>\n",
       "      <th></th>\n",
       "      <th>0</th>\n",
       "    </tr>\n",
       "    <tr>\n",
       "      <th>Lj</th>\n",
       "      <th></th>\n",
       "      <th></th>\n",
       "    </tr>\n",
       "  </thead>\n",
       "  <tbody>\n",
       "    <tr>\n",
       "      <th>10</th>\n",
       "      <th>0</th>\n",
       "      <td>162.53</td>\n",
       "    </tr>\n",
       "  </tbody>\n",
       "</table>\n",
       "</div>"
      ],
      "text/plain": [
       "           0\n",
       "Lj          \n",
       "10 0  162.53"
      ]
     },
     "metadata": {},
     "output_type": "display_data"
    },
    {
     "name": "stdout",
     "output_type": "stream",
     "text": [
      "200.0\n",
      "tried1\n"
     ]
    },
    {
     "name": "stderr",
     "output_type": "stream",
     "text": [
      "INFO 09:33PM [connect_design]: \tOpened active design\n",
      "\tDesign:    single_q_hfss [Solution type: Eigenmode]\n",
      "INFO 09:35PM [get_setup]: \tOpened setup `Setup`  (<class 'pyEPR.ansys.HfssEMSetup'>)\n",
      "INFO 09:35PM [analyze]: Analyzing setup Setup\n",
      "09:38PM 32s INFO [get_f_convergence]: Saved convergences to c:\\Users\\slab\\Desktop\\Wendy-qiskit-code\\hfss_eig_f_convergence.csv\n"
     ]
    },
    {
     "name": "stdout",
     "output_type": "stream",
     "text": [
      "saddd\n",
      "Design \"single_q_hfss\" info:\n",
      "\t# eigenmodes    1\n",
      "\t# variations    1\n",
      "Design \"single_q_hfss\" info:\n",
      "\t# eigenmodes    1\n",
      "\t# variations    1\n"
     ]
    },
    {
     "name": "stderr",
     "output_type": "stream",
     "text": [
      "WARNING:py.warnings:c:\\Users\\slab\\anaconda3\\envs\\qmetal\\lib\\site-packages\\pyEPR\\project_info.py:239: FutureWarning: The default dtype for empty Series will be 'object' instead of 'float64' in a future version. Specify a dtype explicitly to silence this warning.\n",
      "  options=pd.Series(get_instance_vars(self.options)),\n",
      "\n"
     ]
    },
    {
     "name": "stdout",
     "output_type": "stream",
     "text": [
      "\n",
      "        energy_elec_all       = 5.59629257416521e-25\n",
      "        energy_elec_substrate = 5.13811445493617e-25\n",
      "        EPR of substrate = 91.8%\n",
      "\n",
      "        energy_mag    = 5.14955283205501e-27\n",
      "        energy_mag % of energy_elec_all  = 0.9%\n",
      "        \n",
      "\n",
      "Variation 0  [1/1]\n"
     ]
    },
    {
     "name": "stderr",
     "output_type": "stream",
     "text": [
      "WARNING:py.warnings:c:\\Users\\slab\\anaconda3\\envs\\qmetal\\lib\\site-packages\\pyEPR\\core_distributed_analysis.py:1101: FutureWarning: The default dtype for empty Series will be 'object' instead of 'float64' in a future version. Specify a dtype explicitly to silence this warning.\n",
      "  Ljs = pd.Series({})\n",
      "\n",
      "WARNING:py.warnings:c:\\Users\\slab\\anaconda3\\envs\\qmetal\\lib\\site-packages\\pyEPR\\core_distributed_analysis.py:1102: FutureWarning: The default dtype for empty Series will be 'object' instead of 'float64' in a future version. Specify a dtype explicitly to silence this warning.\n",
      "  Cjs = pd.Series({})\n",
      "\n",
      "WARNING:py.warnings:c:\\Users\\slab\\anaconda3\\envs\\qmetal\\lib\\site-packages\\pyEPR\\core_distributed_analysis.py:1245: FutureWarning: The default dtype for empty Series will be 'object' instead of 'float64' in a future version. Specify a dtype explicitly to silence this warning.\n",
      "  _Om = pd.Series({})\n",
      "\n"
     ]
    },
    {
     "name": "stdout",
     "output_type": "stream",
     "text": [
      "\n",
      "  \u001b[1mMode 0 at 4.95 GHz   [1/1]\u001b[0m\n",
      "    Calculating ℰ_magnetic,ℰ_electric\n"
     ]
    },
    {
     "name": "stderr",
     "output_type": "stream",
     "text": [
      "WARNING:py.warnings:c:\\Users\\slab\\anaconda3\\envs\\qmetal\\lib\\site-packages\\pyEPR\\core_distributed_analysis.py:981: FutureWarning: The default dtype for empty Series will be 'object' instead of 'float64' in a future version. Specify a dtype explicitly to silence this warning.\n",
      "  Sj = pd.Series({})\n",
      "\n"
     ]
    },
    {
     "name": "stdout",
     "output_type": "stream",
     "text": [
      "       (ℰ_E-ℰ_H)/ℰ_E       ℰ_E       ℰ_H\n",
      "               99.1%  2.798e-25 2.575e-27\n",
      "\n",
      "    Calculating junction energy participation ration (EPR)\n",
      "\tmethod=`line_voltage`. First estimates:\n",
      "\tjunction        EPR p_0j   sign s_0j    (p_capacitive)\n"
     ]
    },
    {
     "name": "stderr",
     "output_type": "stream",
     "text": [
      "WARNING:py.warnings:c:\\Users\\slab\\anaconda3\\envs\\qmetal\\lib\\site-packages\\pyEPR\\core_distributed_analysis.py:933: FutureWarning: The default dtype for empty Series will be 'object' instead of 'float64' in a future version. Specify a dtype explicitly to silence this warning.\n",
      "  Qp = pd.Series({})\n",
      "\n"
     ]
    },
    {
     "name": "stdout",
     "output_type": "stream",
     "text": [
      "\t\tEnergy fraction (Lj over Lj&Cj)= 98.11%\n",
      "\tjj1              1.25846  (+)        0.0243079\n",
      "\t\t(U_tot_cap-U_tot_ind)/mean=-10.62%\n",
      "Calculating Qdielectric_main for mode 0 (0/0)\n"
     ]
    },
    {
     "name": "stderr",
     "output_type": "stream",
     "text": [
      "WARNING:py.warnings:c:\\Users\\slab\\anaconda3\\envs\\qmetal\\lib\\site-packages\\pyEPR\\core_distributed_analysis.py:1307: FutureWarning: The series.append method is deprecated and will be removed from pandas in a future version. Use pandas.concat instead.\n",
      "  sol = sol.append(self.get_Qdielectric(\n",
      "\n"
     ]
    },
    {
     "name": "stdout",
     "output_type": "stream",
     "text": [
      "p_dielectric_main_0 = 0.9181282763263346\n"
     ]
    },
    {
     "name": "stderr",
     "output_type": "stream",
     "text": [
      "WARNING:py.warnings:c:\\Users\\slab\\anaconda3\\envs\\qmetal\\lib\\site-packages\\pyEPR\\project_info.py:239: FutureWarning: The default dtype for empty Series will be 'object' instead of 'float64' in a future version. Specify a dtype explicitly to silence this warning.\n",
      "  options=pd.Series(get_instance_vars(self.options)),\n",
      "\n",
      "WARNING 09:38PM [__init__]: <p>Error: <class 'IndexError'></p>\n",
      "ERROR 09:38PM [_get_participation_normalized]: WARNING: U_tot_cap-U_tot_ind / mean = 21.2% is > 15%.                     \n",
      "Is the simulation converged? Proceed with caution\n",
      "ERROR 09:38PM [_get_participation_normalized]: WARNING: U_tot_cap-U_tot_ind / mean = 21.2% is > 15%.                     \n",
      "Is the simulation converged? Proceed with caution\n",
      "WARNING:py.warnings:c:\\Users\\slab\\anaconda3\\envs\\qmetal\\lib\\site-packages\\pyEPR\\core_quantum_analysis.py:712: FutureWarning: Support for multi-dimensional indexing (e.g. `obj[:, None]`) is deprecated and will be removed in a future version.  Convert to a numpy array before indexing instead.\n",
      "  result['Q_coupling'] = self.Qm_coupling[variation][self.Qm_coupling[variation].columns[junctions]][modes]#TODO change the columns to junctions\n",
      "\n",
      "WARNING:py.warnings:c:\\Users\\slab\\anaconda3\\envs\\qmetal\\lib\\site-packages\\pyEPR\\core_quantum_analysis.py:717: FutureWarning: Support for multi-dimensional indexing (e.g. `obj[:, None]`) is deprecated and will be removed in a future version.  Convert to a numpy array before indexing instead.\n",
      "  result['Qs'] = self.Qs[variation][self.PM[variation].columns[junctions]][modes] #TODO change the columns to junctions\n",
      "\n"
     ]
    },
    {
     "name": "stdout",
     "output_type": "stream",
     "text": [
      "\n",
      "ANALYSIS DONE. Data saved to:\n",
      "\n",
      "C:\\data-pyEPR\\Project40\\single_q_hfss\\2023-05-03 21-38-33.npz\n",
      "\n",
      "\n",
      "\t Differences in variations:\n",
      "\n",
      "\n",
      "\n",
      " . . . . . . . . . . . . . . . . . . . . . . . . . . . . . . . . . . . . . . . . \n",
      "Variation 0\n",
      "\n",
      "Starting the diagonalization\n",
      "Finished the diagonalization\n",
      "Pm_norm=\n",
      "modes\n",
      "0    0.807404\n",
      "dtype: float64\n",
      "\n",
      "Pm_norm idx =\n",
      "    jj1\n",
      "0  True\n",
      "*** P (participation matrix, not normlz.)\n",
      "        jj1\n",
      "0  1.228592\n",
      "\n",
      "*** S (sign-bit matrix)\n",
      "   s_jj1\n",
      "0     -1\n",
      "*** P (participation matrix, normalized.)\n",
      "      0.99\n",
      "\n",
      "*** Chi matrix O1 PT (MHz)\n",
      "    Diag is anharmonicity, off diag is full cross-Kerr.\n",
      "       184\n",
      "\n",
      "*** Chi matrix ND (MHz) \n",
      "       200\n",
      "\n",
      "*** Frequencies O1 PT (MHz)\n",
      "0    4761.986046\n",
      "dtype: float64\n",
      "\n",
      "*** Frequencies ND (MHz)\n",
      "0    4754.53866\n",
      "dtype: float64\n",
      "\n",
      "*** Q_coupling\n",
      "Empty DataFrame\n",
      "Columns: []\n",
      "Index: [0]\n"
     ]
    },
    {
     "data": {
      "text/markdown": [
       "#### Mode frequencies (MHz)"
      ],
      "text/plain": [
       "<IPython.core.display.Markdown object>"
      ]
     },
     "metadata": {},
     "output_type": "display_data"
    },
    {
     "data": {
      "text/markdown": [
       "###### Numerical diagonalization"
      ],
      "text/plain": [
       "<IPython.core.display.Markdown object>"
      ]
     },
     "metadata": {},
     "output_type": "display_data"
    },
    {
     "data": {
      "text/html": [
       "<div>\n",
       "<style scoped>\n",
       "    .dataframe tbody tr th:only-of-type {\n",
       "        vertical-align: middle;\n",
       "    }\n",
       "\n",
       "    .dataframe tbody tr th {\n",
       "        vertical-align: top;\n",
       "    }\n",
       "\n",
       "    .dataframe thead th {\n",
       "        text-align: right;\n",
       "    }\n",
       "</style>\n",
       "<table border=\"1\" class=\"dataframe\">\n",
       "  <thead>\n",
       "    <tr style=\"text-align: right;\">\n",
       "      <th>Lj</th>\n",
       "      <th>10</th>\n",
       "    </tr>\n",
       "  </thead>\n",
       "  <tbody>\n",
       "    <tr>\n",
       "      <th>0</th>\n",
       "      <td>4754.54</td>\n",
       "    </tr>\n",
       "  </tbody>\n",
       "</table>\n",
       "</div>"
      ],
      "text/plain": [
       "Lj       10\n",
       "0   4754.54"
      ]
     },
     "metadata": {},
     "output_type": "display_data"
    },
    {
     "data": {
      "text/markdown": [
       "#### Kerr Non-linear coefficient table (MHz)"
      ],
      "text/plain": [
       "<IPython.core.display.Markdown object>"
      ]
     },
     "metadata": {},
     "output_type": "display_data"
    },
    {
     "data": {
      "text/markdown": [
       "###### Numerical diagonalization"
      ],
      "text/plain": [
       "<IPython.core.display.Markdown object>"
      ]
     },
     "metadata": {},
     "output_type": "display_data"
    },
    {
     "data": {
      "text/html": [
       "<div>\n",
       "<style scoped>\n",
       "    .dataframe tbody tr th:only-of-type {\n",
       "        vertical-align: middle;\n",
       "    }\n",
       "\n",
       "    .dataframe tbody tr th {\n",
       "        vertical-align: top;\n",
       "    }\n",
       "\n",
       "    .dataframe thead th {\n",
       "        text-align: right;\n",
       "    }\n",
       "</style>\n",
       "<table border=\"1\" class=\"dataframe\">\n",
       "  <thead>\n",
       "    <tr style=\"text-align: right;\">\n",
       "      <th></th>\n",
       "      <th></th>\n",
       "      <th>0</th>\n",
       "    </tr>\n",
       "    <tr>\n",
       "      <th>Lj</th>\n",
       "      <th></th>\n",
       "      <th></th>\n",
       "    </tr>\n",
       "  </thead>\n",
       "  <tbody>\n",
       "    <tr>\n",
       "      <th>10</th>\n",
       "      <th>0</th>\n",
       "      <td>200.07</td>\n",
       "    </tr>\n",
       "  </tbody>\n",
       "</table>\n",
       "</div>"
      ],
      "text/plain": [
       "           0\n",
       "Lj          \n",
       "10 0  200.07"
      ]
     },
     "metadata": {},
     "output_type": "display_data"
    },
    {
     "name": "stdout",
     "output_type": "stream",
     "text": [
      "236.46915399641517\n",
      "tried1\n"
     ]
    },
    {
     "name": "stderr",
     "output_type": "stream",
     "text": [
      "INFO 09:38PM [connect_design]: \tOpened active design\n",
      "\tDesign:    single_q_hfss [Solution type: Eigenmode]\n",
      "INFO 09:40PM [get_setup]: \tOpened setup `Setup`  (<class 'pyEPR.ansys.HfssEMSetup'>)\n",
      "INFO 09:40PM [analyze]: Analyzing setup Setup\n",
      "09:43PM 34s INFO [get_f_convergence]: Saved convergences to c:\\Users\\slab\\Desktop\\Wendy-qiskit-code\\hfss_eig_f_convergence.csv\n"
     ]
    },
    {
     "name": "stdout",
     "output_type": "stream",
     "text": [
      "saddd\n",
      "Design \"single_q_hfss\" info:\n",
      "\t# eigenmodes    1\n",
      "\t# variations    1\n",
      "Design \"single_q_hfss\" info:\n",
      "\t# eigenmodes    1\n",
      "\t# variations    1\n"
     ]
    },
    {
     "name": "stderr",
     "output_type": "stream",
     "text": [
      "WARNING:py.warnings:c:\\Users\\slab\\anaconda3\\envs\\qmetal\\lib\\site-packages\\pyEPR\\project_info.py:239: FutureWarning: The default dtype for empty Series will be 'object' instead of 'float64' in a future version. Specify a dtype explicitly to silence this warning.\n",
      "  options=pd.Series(get_instance_vars(self.options)),\n",
      "\n"
     ]
    },
    {
     "name": "stdout",
     "output_type": "stream",
     "text": [
      "\n",
      "        energy_elec_all       = 7.34416142726076e-25\n",
      "        energy_elec_substrate = 6.73849252853201e-25\n",
      "        EPR of substrate = 91.8%\n",
      "\n",
      "        energy_mag    = 6.74111660537278e-27\n",
      "        energy_mag % of energy_elec_all  = 0.9%\n",
      "        \n",
      "\n",
      "Variation 0  [1/1]\n"
     ]
    },
    {
     "name": "stderr",
     "output_type": "stream",
     "text": [
      "WARNING:py.warnings:c:\\Users\\slab\\anaconda3\\envs\\qmetal\\lib\\site-packages\\pyEPR\\core_distributed_analysis.py:1101: FutureWarning: The default dtype for empty Series will be 'object' instead of 'float64' in a future version. Specify a dtype explicitly to silence this warning.\n",
      "  Ljs = pd.Series({})\n",
      "\n",
      "WARNING:py.warnings:c:\\Users\\slab\\anaconda3\\envs\\qmetal\\lib\\site-packages\\pyEPR\\core_distributed_analysis.py:1102: FutureWarning: The default dtype for empty Series will be 'object' instead of 'float64' in a future version. Specify a dtype explicitly to silence this warning.\n",
      "  Cjs = pd.Series({})\n",
      "\n",
      "WARNING:py.warnings:c:\\Users\\slab\\anaconda3\\envs\\qmetal\\lib\\site-packages\\pyEPR\\core_distributed_analysis.py:1245: FutureWarning: The default dtype for empty Series will be 'object' instead of 'float64' in a future version. Specify a dtype explicitly to silence this warning.\n",
      "  _Om = pd.Series({})\n",
      "\n"
     ]
    },
    {
     "name": "stdout",
     "output_type": "stream",
     "text": [
      "\n",
      "  \u001b[1mMode 0 at 4.55 GHz   [1/1]\u001b[0m\n",
      "    Calculating ℰ_magnetic,ℰ_electric\n"
     ]
    },
    {
     "name": "stderr",
     "output_type": "stream",
     "text": [
      "WARNING:py.warnings:c:\\Users\\slab\\anaconda3\\envs\\qmetal\\lib\\site-packages\\pyEPR\\core_distributed_analysis.py:981: FutureWarning: The default dtype for empty Series will be 'object' instead of 'float64' in a future version. Specify a dtype explicitly to silence this warning.\n",
      "  Sj = pd.Series({})\n",
      "\n"
     ]
    },
    {
     "name": "stdout",
     "output_type": "stream",
     "text": [
      "       (ℰ_E-ℰ_H)/ℰ_E       ℰ_E       ℰ_H\n",
      "               99.1%  3.672e-25 3.371e-27\n",
      "\n",
      "    Calculating junction energy participation ration (EPR)\n",
      "\tmethod=`line_voltage`. First estimates:\n",
      "\tjunction        EPR p_0j   sign s_0j    (p_capacitive)\n"
     ]
    },
    {
     "name": "stderr",
     "output_type": "stream",
     "text": [
      "WARNING:py.warnings:c:\\Users\\slab\\anaconda3\\envs\\qmetal\\lib\\site-packages\\pyEPR\\core_distributed_analysis.py:933: FutureWarning: The default dtype for empty Series will be 'object' instead of 'float64' in a future version. Specify a dtype explicitly to silence this warning.\n",
      "  Qp = pd.Series({})\n",
      "\n"
     ]
    },
    {
     "name": "stdout",
     "output_type": "stream",
     "text": [
      "\t\tEnergy fraction (Lj over Lj&Cj)= 98.39%\n",
      "\tjj1              1.20823  (+)        0.0197493\n",
      "\t\t(U_tot_cap-U_tot_ind)/mean=-8.84%\n",
      "Calculating Qdielectric_main for mode 0 (0/0)\n"
     ]
    },
    {
     "name": "stderr",
     "output_type": "stream",
     "text": [
      "WARNING:py.warnings:c:\\Users\\slab\\anaconda3\\envs\\qmetal\\lib\\site-packages\\pyEPR\\core_distributed_analysis.py:1307: FutureWarning: The series.append method is deprecated and will be removed from pandas in a future version. Use pandas.concat instead.\n",
      "  sol = sol.append(self.get_Qdielectric(\n",
      "\n"
     ]
    },
    {
     "name": "stdout",
     "output_type": "stream",
     "text": [
      "p_dielectric_main_0 = 0.9175305574737818\n"
     ]
    },
    {
     "name": "stderr",
     "output_type": "stream",
     "text": [
      "WARNING:py.warnings:c:\\Users\\slab\\anaconda3\\envs\\qmetal\\lib\\site-packages\\pyEPR\\project_info.py:239: FutureWarning: The default dtype for empty Series will be 'object' instead of 'float64' in a future version. Specify a dtype explicitly to silence this warning.\n",
      "  options=pd.Series(get_instance_vars(self.options)),\n",
      "\n",
      "WARNING 09:43PM [__init__]: <p>Error: <class 'IndexError'></p>\n",
      "ERROR 09:43PM [_get_participation_normalized]: WARNING: U_tot_cap-U_tot_ind / mean = 17.7% is > 15%.                     \n",
      "Is the simulation converged? Proceed with caution\n",
      "ERROR 09:43PM [_get_participation_normalized]: WARNING: U_tot_cap-U_tot_ind / mean = 17.7% is > 15%.                     \n",
      "Is the simulation converged? Proceed with caution\n",
      "WARNING:py.warnings:c:\\Users\\slab\\anaconda3\\envs\\qmetal\\lib\\site-packages\\pyEPR\\core_quantum_analysis.py:712: FutureWarning: Support for multi-dimensional indexing (e.g. `obj[:, None]`) is deprecated and will be removed in a future version.  Convert to a numpy array before indexing instead.\n",
      "  result['Q_coupling'] = self.Qm_coupling[variation][self.Qm_coupling[variation].columns[junctions]][modes]#TODO change the columns to junctions\n",
      "\n",
      "WARNING:py.warnings:c:\\Users\\slab\\anaconda3\\envs\\qmetal\\lib\\site-packages\\pyEPR\\core_quantum_analysis.py:717: FutureWarning: Support for multi-dimensional indexing (e.g. `obj[:, None]`) is deprecated and will be removed in a future version.  Convert to a numpy array before indexing instead.\n",
      "  result['Qs'] = self.Qs[variation][self.PM[variation].columns[junctions]][modes] #TODO change the columns to junctions\n",
      "\n"
     ]
    },
    {
     "name": "stdout",
     "output_type": "stream",
     "text": [
      "\n",
      "ANALYSIS DONE. Data saved to:\n",
      "\n",
      "C:\\data-pyEPR\\Project40\\single_q_hfss\\2023-05-03 21-43-35.npz\n",
      "\n",
      "\n",
      "\t Differences in variations:\n",
      "\n",
      "\n",
      "\n",
      " . . . . . . . . . . . . . . . . . . . . . . . . . . . . . . . . . . . . . . . . \n",
      "Variation 0\n",
      "\n",
      "Starting the diagonalization\n",
      "Finished the diagonalization\n",
      "Pm_norm=\n",
      "modes\n",
      "0    0.837077\n",
      "dtype: float64\n",
      "\n",
      "Pm_norm idx =\n",
      "    jj1\n",
      "0  True\n",
      "*** P (participation matrix, not normlz.)\n",
      "       jj1\n",
      "0  1.18483\n",
      "\n",
      "*** S (sign-bit matrix)\n",
      "   s_jj1\n",
      "0     -1\n",
      "*** P (participation matrix, normalized.)\n",
      "      0.99\n",
      "\n",
      "*** Chi matrix O1 PT (MHz)\n",
      "    Diag is anharmonicity, off diag is full cross-Kerr.\n",
      "       156\n",
      "\n",
      "*** Chi matrix ND (MHz) \n",
      "       168\n",
      "\n",
      "*** Frequencies O1 PT (MHz)\n",
      "0    4394.229123\n",
      "dtype: float64\n",
      "\n",
      "*** Frequencies ND (MHz)\n",
      "0    4388.479805\n",
      "dtype: float64\n",
      "\n",
      "*** Q_coupling\n",
      "Empty DataFrame\n",
      "Columns: []\n",
      "Index: [0]\n"
     ]
    },
    {
     "data": {
      "text/markdown": [
       "#### Mode frequencies (MHz)"
      ],
      "text/plain": [
       "<IPython.core.display.Markdown object>"
      ]
     },
     "metadata": {},
     "output_type": "display_data"
    },
    {
     "data": {
      "text/markdown": [
       "###### Numerical diagonalization"
      ],
      "text/plain": [
       "<IPython.core.display.Markdown object>"
      ]
     },
     "metadata": {},
     "output_type": "display_data"
    },
    {
     "data": {
      "text/html": [
       "<div>\n",
       "<style scoped>\n",
       "    .dataframe tbody tr th:only-of-type {\n",
       "        vertical-align: middle;\n",
       "    }\n",
       "\n",
       "    .dataframe tbody tr th {\n",
       "        vertical-align: top;\n",
       "    }\n",
       "\n",
       "    .dataframe thead th {\n",
       "        text-align: right;\n",
       "    }\n",
       "</style>\n",
       "<table border=\"1\" class=\"dataframe\">\n",
       "  <thead>\n",
       "    <tr style=\"text-align: right;\">\n",
       "      <th>Lj</th>\n",
       "      <th>10</th>\n",
       "    </tr>\n",
       "  </thead>\n",
       "  <tbody>\n",
       "    <tr>\n",
       "      <th>0</th>\n",
       "      <td>4388.48</td>\n",
       "    </tr>\n",
       "  </tbody>\n",
       "</table>\n",
       "</div>"
      ],
      "text/plain": [
       "Lj       10\n",
       "0   4388.48"
      ]
     },
     "metadata": {},
     "output_type": "display_data"
    },
    {
     "data": {
      "text/markdown": [
       "#### Kerr Non-linear coefficient table (MHz)"
      ],
      "text/plain": [
       "<IPython.core.display.Markdown object>"
      ]
     },
     "metadata": {},
     "output_type": "display_data"
    },
    {
     "data": {
      "text/markdown": [
       "###### Numerical diagonalization"
      ],
      "text/plain": [
       "<IPython.core.display.Markdown object>"
      ]
     },
     "metadata": {},
     "output_type": "display_data"
    },
    {
     "data": {
      "text/html": [
       "<div>\n",
       "<style scoped>\n",
       "    .dataframe tbody tr th:only-of-type {\n",
       "        vertical-align: middle;\n",
       "    }\n",
       "\n",
       "    .dataframe tbody tr th {\n",
       "        vertical-align: top;\n",
       "    }\n",
       "\n",
       "    .dataframe thead th {\n",
       "        text-align: right;\n",
       "    }\n",
       "</style>\n",
       "<table border=\"1\" class=\"dataframe\">\n",
       "  <thead>\n",
       "    <tr style=\"text-align: right;\">\n",
       "      <th></th>\n",
       "      <th></th>\n",
       "      <th>0</th>\n",
       "    </tr>\n",
       "    <tr>\n",
       "      <th>Lj</th>\n",
       "      <th></th>\n",
       "      <th></th>\n",
       "    </tr>\n",
       "  </thead>\n",
       "  <tbody>\n",
       "    <tr>\n",
       "      <th>10</th>\n",
       "      <th>0</th>\n",
       "      <td>168.14</td>\n",
       "    </tr>\n",
       "  </tbody>\n",
       "</table>\n",
       "</div>"
      ],
      "text/plain": [
       "           0\n",
       "Lj          \n",
       "10 0  168.14"
      ]
     },
     "metadata": {},
     "output_type": "display_data"
    },
    {
     "name": "stdout",
     "output_type": "stream",
     "text": [
      "235.13629118394644\n",
      "tried1\n"
     ]
    },
    {
     "name": "stderr",
     "output_type": "stream",
     "text": [
      "INFO 09:43PM [connect_design]: \tOpened active design\n",
      "\tDesign:    single_q_hfss [Solution type: Eigenmode]\n",
      "INFO 09:46PM [get_setup]: \tOpened setup `Setup`  (<class 'pyEPR.ansys.HfssEMSetup'>)\n",
      "INFO 09:46PM [analyze]: Analyzing setup Setup\n",
      "09:49PM 33s INFO [get_f_convergence]: Saved convergences to c:\\Users\\slab\\Desktop\\Wendy-qiskit-code\\hfss_eig_f_convergence.csv\n"
     ]
    },
    {
     "name": "stdout",
     "output_type": "stream",
     "text": [
      "saddd\n",
      "Design \"single_q_hfss\" info:\n",
      "\t# eigenmodes    1\n",
      "\t# variations    1\n",
      "Design \"single_q_hfss\" info:\n",
      "\t# eigenmodes    1\n",
      "\t# variations    1\n"
     ]
    },
    {
     "name": "stderr",
     "output_type": "stream",
     "text": [
      "WARNING:py.warnings:c:\\Users\\slab\\anaconda3\\envs\\qmetal\\lib\\site-packages\\pyEPR\\project_info.py:239: FutureWarning: The default dtype for empty Series will be 'object' instead of 'float64' in a future version. Specify a dtype explicitly to silence this warning.\n",
      "  options=pd.Series(get_instance_vars(self.options)),\n",
      "\n"
     ]
    },
    {
     "name": "stdout",
     "output_type": "stream",
     "text": [
      "\n",
      "        energy_elec_all       = 6.13525365597931e-25\n",
      "        energy_elec_substrate = 5.62970934288073e-25\n",
      "        EPR of substrate = 91.8%\n",
      "\n",
      "        energy_mag    = 5.56384569110663e-27\n",
      "        energy_mag % of energy_elec_all  = 0.9%\n",
      "        \n",
      "\n",
      "Variation 0  [1/1]\n"
     ]
    },
    {
     "name": "stderr",
     "output_type": "stream",
     "text": [
      "WARNING:py.warnings:c:\\Users\\slab\\anaconda3\\envs\\qmetal\\lib\\site-packages\\pyEPR\\core_distributed_analysis.py:1101: FutureWarning: The default dtype for empty Series will be 'object' instead of 'float64' in a future version. Specify a dtype explicitly to silence this warning.\n",
      "  Ljs = pd.Series({})\n",
      "\n",
      "WARNING:py.warnings:c:\\Users\\slab\\anaconda3\\envs\\qmetal\\lib\\site-packages\\pyEPR\\core_distributed_analysis.py:1102: FutureWarning: The default dtype for empty Series will be 'object' instead of 'float64' in a future version. Specify a dtype explicitly to silence this warning.\n",
      "  Cjs = pd.Series({})\n",
      "\n",
      "WARNING:py.warnings:c:\\Users\\slab\\anaconda3\\envs\\qmetal\\lib\\site-packages\\pyEPR\\core_distributed_analysis.py:1245: FutureWarning: The default dtype for empty Series will be 'object' instead of 'float64' in a future version. Specify a dtype explicitly to silence this warning.\n",
      "  _Om = pd.Series({})\n",
      "\n"
     ]
    },
    {
     "name": "stdout",
     "output_type": "stream",
     "text": [
      "\n",
      "  \u001b[1mMode 0 at 4.57 GHz   [1/1]\u001b[0m\n",
      "    Calculating ℰ_magnetic,ℰ_electric\n"
     ]
    },
    {
     "name": "stderr",
     "output_type": "stream",
     "text": [
      "WARNING:py.warnings:c:\\Users\\slab\\anaconda3\\envs\\qmetal\\lib\\site-packages\\pyEPR\\core_distributed_analysis.py:981: FutureWarning: The default dtype for empty Series will be 'object' instead of 'float64' in a future version. Specify a dtype explicitly to silence this warning.\n",
      "  Sj = pd.Series({})\n",
      "\n"
     ]
    },
    {
     "name": "stdout",
     "output_type": "stream",
     "text": [
      "       (ℰ_E-ℰ_H)/ℰ_E       ℰ_E       ℰ_H\n",
      "               99.1%  3.068e-25 2.782e-27\n",
      "\n",
      "    Calculating junction energy participation ration (EPR)\n",
      "\tmethod=`line_voltage`. First estimates:\n",
      "\tjunction        EPR p_0j   sign s_0j    (p_capacitive)\n"
     ]
    },
    {
     "name": "stderr",
     "output_type": "stream",
     "text": [
      "WARNING:py.warnings:c:\\Users\\slab\\anaconda3\\envs\\qmetal\\lib\\site-packages\\pyEPR\\core_distributed_analysis.py:933: FutureWarning: The default dtype for empty Series will be 'object' instead of 'float64' in a future version. Specify a dtype explicitly to silence this warning.\n",
      "  Qp = pd.Series({})\n",
      "\n"
     ]
    },
    {
     "name": "stdout",
     "output_type": "stream",
     "text": [
      "\t\tEnergy fraction (Lj over Lj&Cj)= 98.38%\n",
      "\tjj1              1.21037  (+)        0.0199407\n",
      "\t\t(U_tot_cap-U_tot_ind)/mean=-8.91%\n",
      "Calculating Qdielectric_main for mode 0 (0/0)\n"
     ]
    },
    {
     "name": "stderr",
     "output_type": "stream",
     "text": [
      "WARNING:py.warnings:c:\\Users\\slab\\anaconda3\\envs\\qmetal\\lib\\site-packages\\pyEPR\\core_distributed_analysis.py:1307: FutureWarning: The series.append method is deprecated and will be removed from pandas in a future version. Use pandas.concat instead.\n",
      "  sol = sol.append(self.get_Qdielectric(\n",
      "\n"
     ]
    },
    {
     "name": "stdout",
     "output_type": "stream",
     "text": [
      "p_dielectric_main_0 = 0.9176000958646778\n"
     ]
    },
    {
     "name": "stderr",
     "output_type": "stream",
     "text": [
      "WARNING:py.warnings:c:\\Users\\slab\\anaconda3\\envs\\qmetal\\lib\\site-packages\\pyEPR\\project_info.py:239: FutureWarning: The default dtype for empty Series will be 'object' instead of 'float64' in a future version. Specify a dtype explicitly to silence this warning.\n",
      "  options=pd.Series(get_instance_vars(self.options)),\n",
      "\n",
      "WARNING 09:49PM [__init__]: <p>Error: <class 'IndexError'></p>\n",
      "ERROR 09:49PM [_get_participation_normalized]: WARNING: U_tot_cap-U_tot_ind / mean = 17.8% is > 15%.                     \n",
      "Is the simulation converged? Proceed with caution\n",
      "ERROR 09:49PM [_get_participation_normalized]: WARNING: U_tot_cap-U_tot_ind / mean = 17.8% is > 15%.                     \n",
      "Is the simulation converged? Proceed with caution\n",
      "WARNING:py.warnings:c:\\Users\\slab\\anaconda3\\envs\\qmetal\\lib\\site-packages\\pyEPR\\core_quantum_analysis.py:712: FutureWarning: Support for multi-dimensional indexing (e.g. `obj[:, None]`) is deprecated and will be removed in a future version.  Convert to a numpy array before indexing instead.\n",
      "  result['Q_coupling'] = self.Qm_coupling[variation][self.Qm_coupling[variation].columns[junctions]][modes]#TODO change the columns to junctions\n",
      "\n",
      "WARNING:py.warnings:c:\\Users\\slab\\anaconda3\\envs\\qmetal\\lib\\site-packages\\pyEPR\\core_quantum_analysis.py:717: FutureWarning: Support for multi-dimensional indexing (e.g. `obj[:, None]`) is deprecated and will be removed in a future version.  Convert to a numpy array before indexing instead.\n",
      "  result['Qs'] = self.Qs[variation][self.PM[variation].columns[junctions]][modes] #TODO change the columns to junctions\n",
      "\n"
     ]
    },
    {
     "name": "stdout",
     "output_type": "stream",
     "text": [
      "\n",
      "ANALYSIS DONE. Data saved to:\n",
      "\n",
      "C:\\data-pyEPR\\Project40\\single_q_hfss\\2023-05-03 21-49-34.npz\n",
      "\n",
      "\n",
      "\t Differences in variations:\n",
      "\n",
      "\n",
      "\n",
      " . . . . . . . . . . . . . . . . . . . . . . . . . . . . . . . . . . . . . . . . \n",
      "Variation 0\n",
      "\n",
      "Starting the diagonalization\n",
      "Finished the diagonalization\n",
      "Pm_norm=\n",
      "modes\n",
      "0    0.835846\n",
      "dtype: float64\n",
      "\n",
      "Pm_norm idx =\n",
      "    jj1\n",
      "0  True\n",
      "*** P (participation matrix, not normlz.)\n",
      "        jj1\n",
      "0  1.186703\n",
      "\n",
      "*** S (sign-bit matrix)\n",
      "   s_jj1\n",
      "0      1\n",
      "*** P (participation matrix, normalized.)\n",
      "      0.99\n",
      "\n",
      "*** Chi matrix O1 PT (MHz)\n",
      "    Diag is anharmonicity, off diag is full cross-Kerr.\n",
      "       157\n",
      "\n",
      "*** Chi matrix ND (MHz) \n",
      "       170\n",
      "\n",
      "*** Frequencies O1 PT (MHz)\n",
      "0    4410.913116\n",
      "dtype: float64\n",
      "\n",
      "*** Frequencies ND (MHz)\n",
      "0    4405.090227\n",
      "dtype: float64\n",
      "\n",
      "*** Q_coupling\n",
      "Empty DataFrame\n",
      "Columns: []\n",
      "Index: [0]\n"
     ]
    },
    {
     "data": {
      "text/markdown": [
       "#### Mode frequencies (MHz)"
      ],
      "text/plain": [
       "<IPython.core.display.Markdown object>"
      ]
     },
     "metadata": {},
     "output_type": "display_data"
    },
    {
     "data": {
      "text/markdown": [
       "###### Numerical diagonalization"
      ],
      "text/plain": [
       "<IPython.core.display.Markdown object>"
      ]
     },
     "metadata": {},
     "output_type": "display_data"
    },
    {
     "data": {
      "text/html": [
       "<div>\n",
       "<style scoped>\n",
       "    .dataframe tbody tr th:only-of-type {\n",
       "        vertical-align: middle;\n",
       "    }\n",
       "\n",
       "    .dataframe tbody tr th {\n",
       "        vertical-align: top;\n",
       "    }\n",
       "\n",
       "    .dataframe thead th {\n",
       "        text-align: right;\n",
       "    }\n",
       "</style>\n",
       "<table border=\"1\" class=\"dataframe\">\n",
       "  <thead>\n",
       "    <tr style=\"text-align: right;\">\n",
       "      <th>Lj</th>\n",
       "      <th>10</th>\n",
       "    </tr>\n",
       "  </thead>\n",
       "  <tbody>\n",
       "    <tr>\n",
       "      <th>0</th>\n",
       "      <td>4405.09</td>\n",
       "    </tr>\n",
       "  </tbody>\n",
       "</table>\n",
       "</div>"
      ],
      "text/plain": [
       "Lj       10\n",
       "0   4405.09"
      ]
     },
     "metadata": {},
     "output_type": "display_data"
    },
    {
     "data": {
      "text/markdown": [
       "#### Kerr Non-linear coefficient table (MHz)"
      ],
      "text/plain": [
       "<IPython.core.display.Markdown object>"
      ]
     },
     "metadata": {},
     "output_type": "display_data"
    },
    {
     "data": {
      "text/markdown": [
       "###### Numerical diagonalization"
      ],
      "text/plain": [
       "<IPython.core.display.Markdown object>"
      ]
     },
     "metadata": {},
     "output_type": "display_data"
    },
    {
     "data": {
      "text/html": [
       "<div>\n",
       "<style scoped>\n",
       "    .dataframe tbody tr th:only-of-type {\n",
       "        vertical-align: middle;\n",
       "    }\n",
       "\n",
       "    .dataframe tbody tr th {\n",
       "        vertical-align: top;\n",
       "    }\n",
       "\n",
       "    .dataframe thead th {\n",
       "        text-align: right;\n",
       "    }\n",
       "</style>\n",
       "<table border=\"1\" class=\"dataframe\">\n",
       "  <thead>\n",
       "    <tr style=\"text-align: right;\">\n",
       "      <th></th>\n",
       "      <th></th>\n",
       "      <th>0</th>\n",
       "    </tr>\n",
       "    <tr>\n",
       "      <th>Lj</th>\n",
       "      <th></th>\n",
       "      <th></th>\n",
       "    </tr>\n",
       "  </thead>\n",
       "  <tbody>\n",
       "    <tr>\n",
       "      <th>10</th>\n",
       "      <th>0</th>\n",
       "      <td>169.56</td>\n",
       "    </tr>\n",
       "  </tbody>\n",
       "</table>\n",
       "</div>"
      ],
      "text/plain": [
       "           0\n",
       "Lj          \n",
       "10 0  169.56"
      ]
     },
     "metadata": {},
     "output_type": "display_data"
    },
    {
     "name": "stdout",
     "output_type": "stream",
     "text": [
      "243.0\n",
      "tried1\n"
     ]
    },
    {
     "name": "stderr",
     "output_type": "stream",
     "text": [
      "INFO 09:49PM [connect_design]: \tOpened active design\n",
      "\tDesign:    single_q_hfss [Solution type: Eigenmode]\n",
      "INFO 09:51PM [get_setup]: \tOpened setup `Setup`  (<class 'pyEPR.ansys.HfssEMSetup'>)\n",
      "INFO 09:51PM [analyze]: Analyzing setup Setup\n",
      "09:54PM 56s INFO [get_f_convergence]: Saved convergences to c:\\Users\\slab\\Desktop\\Wendy-qiskit-code\\hfss_eig_f_convergence.csv\n"
     ]
    },
    {
     "name": "stdout",
     "output_type": "stream",
     "text": [
      "saddd\n",
      "Design \"single_q_hfss\" info:\n",
      "\t# eigenmodes    1\n",
      "\t# variations    1\n",
      "Design \"single_q_hfss\" info:\n",
      "\t# eigenmodes    1\n",
      "\t# variations    1\n"
     ]
    },
    {
     "name": "stderr",
     "output_type": "stream",
     "text": [
      "WARNING:py.warnings:c:\\Users\\slab\\anaconda3\\envs\\qmetal\\lib\\site-packages\\pyEPR\\project_info.py:239: FutureWarning: The default dtype for empty Series will be 'object' instead of 'float64' in a future version. Specify a dtype explicitly to silence this warning.\n",
      "  options=pd.Series(get_instance_vars(self.options)),\n",
      "\n"
     ]
    },
    {
     "name": "stdout",
     "output_type": "stream",
     "text": [
      "\n",
      "        energy_elec_all       = 5.77506758971412e-25\n",
      "        energy_elec_substrate = 5.29850026175209e-25\n",
      "        EPR of substrate = 91.7%\n",
      "\n",
      "        energy_mag    = 4.99263478468431e-27\n",
      "        energy_mag % of energy_elec_all  = 0.9%\n",
      "        \n",
      "\n",
      "Variation 0  [1/1]\n"
     ]
    },
    {
     "name": "stderr",
     "output_type": "stream",
     "text": [
      "WARNING:py.warnings:c:\\Users\\slab\\anaconda3\\envs\\qmetal\\lib\\site-packages\\pyEPR\\core_distributed_analysis.py:1101: FutureWarning: The default dtype for empty Series will be 'object' instead of 'float64' in a future version. Specify a dtype explicitly to silence this warning.\n",
      "  Ljs = pd.Series({})\n",
      "\n",
      "WARNING:py.warnings:c:\\Users\\slab\\anaconda3\\envs\\qmetal\\lib\\site-packages\\pyEPR\\core_distributed_analysis.py:1102: FutureWarning: The default dtype for empty Series will be 'object' instead of 'float64' in a future version. Specify a dtype explicitly to silence this warning.\n",
      "  Cjs = pd.Series({})\n",
      "\n",
      "WARNING:py.warnings:c:\\Users\\slab\\anaconda3\\envs\\qmetal\\lib\\site-packages\\pyEPR\\core_distributed_analysis.py:1245: FutureWarning: The default dtype for empty Series will be 'object' instead of 'float64' in a future version. Specify a dtype explicitly to silence this warning.\n",
      "  _Om = pd.Series({})\n",
      "\n"
     ]
    },
    {
     "name": "stdout",
     "output_type": "stream",
     "text": [
      "\n",
      "  \u001b[1mMode 0 at 4.48 GHz   [1/1]\u001b[0m\n",
      "    Calculating ℰ_magnetic,ℰ_electric\n"
     ]
    },
    {
     "name": "stderr",
     "output_type": "stream",
     "text": [
      "WARNING:py.warnings:c:\\Users\\slab\\anaconda3\\envs\\qmetal\\lib\\site-packages\\pyEPR\\core_distributed_analysis.py:981: FutureWarning: The default dtype for empty Series will be 'object' instead of 'float64' in a future version. Specify a dtype explicitly to silence this warning.\n",
      "  Sj = pd.Series({})\n",
      "\n"
     ]
    },
    {
     "name": "stdout",
     "output_type": "stream",
     "text": [
      "       (ℰ_E-ℰ_H)/ℰ_E       ℰ_E       ℰ_H\n",
      "               99.1%  2.888e-25 2.496e-27\n",
      "\n",
      "    Calculating junction energy participation ration (EPR)\n",
      "\tmethod=`line_voltage`. First estimates:\n",
      "\tjunction        EPR p_0j   sign s_0j    (p_capacitive)\n"
     ]
    },
    {
     "name": "stderr",
     "output_type": "stream",
     "text": [
      "WARNING:py.warnings:c:\\Users\\slab\\anaconda3\\envs\\qmetal\\lib\\site-packages\\pyEPR\\core_distributed_analysis.py:933: FutureWarning: The default dtype for empty Series will be 'object' instead of 'float64' in a future version. Specify a dtype explicitly to silence this warning.\n",
      "  Qp = pd.Series({})\n",
      "\n"
     ]
    },
    {
     "name": "stdout",
     "output_type": "stream",
     "text": [
      "\t\tEnergy fraction (Lj over Lj&Cj)= 98.44%\n",
      "\tjj1              1.20062  (+)        0.019012\n",
      "\t\t(U_tot_cap-U_tot_ind)/mean=-8.54%\n",
      "Calculating Qdielectric_main for mode 0 (0/0)\n"
     ]
    },
    {
     "name": "stderr",
     "output_type": "stream",
     "text": [
      "WARNING:py.warnings:c:\\Users\\slab\\anaconda3\\envs\\qmetal\\lib\\site-packages\\pyEPR\\core_distributed_analysis.py:1307: FutureWarning: The series.append method is deprecated and will be removed from pandas in a future version. Use pandas.concat instead.\n",
      "  sol = sol.append(self.get_Qdielectric(\n",
      "\n"
     ]
    },
    {
     "name": "stdout",
     "output_type": "stream",
     "text": [
      "p_dielectric_main_0 = 0.9174784847867691\n"
     ]
    },
    {
     "name": "stderr",
     "output_type": "stream",
     "text": [
      "WARNING:py.warnings:c:\\Users\\slab\\anaconda3\\envs\\qmetal\\lib\\site-packages\\pyEPR\\project_info.py:239: FutureWarning: The default dtype for empty Series will be 'object' instead of 'float64' in a future version. Specify a dtype explicitly to silence this warning.\n",
      "  options=pd.Series(get_instance_vars(self.options)),\n",
      "\n",
      "WARNING 09:55PM [__init__]: <p>Error: <class 'IndexError'></p>\n",
      "ERROR 09:55PM [_get_participation_normalized]: WARNING: U_tot_cap-U_tot_ind / mean = 17.1% is > 15%.                     \n",
      "Is the simulation converged? Proceed with caution\n",
      "ERROR 09:55PM [_get_participation_normalized]: WARNING: U_tot_cap-U_tot_ind / mean = 17.1% is > 15%.                     \n",
      "Is the simulation converged? Proceed with caution\n",
      "WARNING:py.warnings:c:\\Users\\slab\\anaconda3\\envs\\qmetal\\lib\\site-packages\\pyEPR\\core_quantum_analysis.py:712: FutureWarning: Support for multi-dimensional indexing (e.g. `obj[:, None]`) is deprecated and will be removed in a future version.  Convert to a numpy array before indexing instead.\n",
      "  result['Q_coupling'] = self.Qm_coupling[variation][self.Qm_coupling[variation].columns[junctions]][modes]#TODO change the columns to junctions\n",
      "\n",
      "WARNING:py.warnings:c:\\Users\\slab\\anaconda3\\envs\\qmetal\\lib\\site-packages\\pyEPR\\core_quantum_analysis.py:717: FutureWarning: Support for multi-dimensional indexing (e.g. `obj[:, None]`) is deprecated and will be removed in a future version.  Convert to a numpy array before indexing instead.\n",
      "  result['Qs'] = self.Qs[variation][self.PM[variation].columns[junctions]][modes] #TODO change the columns to junctions\n",
      "\n"
     ]
    },
    {
     "name": "stdout",
     "output_type": "stream",
     "text": [
      "\n",
      "ANALYSIS DONE. Data saved to:\n",
      "\n",
      "C:\\data-pyEPR\\Project40\\single_q_hfss\\2023-05-03 21-54-57.npz\n",
      "\n",
      "\n",
      "\t Differences in variations:\n",
      "\n",
      "\n",
      "\n",
      " . . . . . . . . . . . . . . . . . . . . . . . . . . . . . . . . . . . . . . . . \n",
      "Variation 0\n",
      "\n",
      "Starting the diagonalization\n",
      "Finished the diagonalization\n",
      "Pm_norm=\n",
      "modes\n",
      "0    0.842153\n",
      "dtype: float64\n",
      "\n",
      "Pm_norm idx =\n",
      "    jj1\n",
      "0  True\n",
      "*** P (participation matrix, not normlz.)\n",
      "        jj1\n",
      "0  1.178218\n",
      "\n",
      "*** S (sign-bit matrix)\n",
      "   s_jj1\n",
      "0      1\n",
      "*** P (participation matrix, normalized.)\n",
      "      0.99\n",
      "\n",
      "*** Chi matrix O1 PT (MHz)\n",
      "    Diag is anharmonicity, off diag is full cross-Kerr.\n",
      "       151\n",
      "\n",
      "*** Chi matrix ND (MHz) \n",
      "       163\n",
      "\n",
      "*** Frequencies O1 PT (MHz)\n",
      "0    4327.343436\n",
      "dtype: float64\n",
      "\n",
      "*** Frequencies ND (MHz)\n",
      "0    4321.855631\n",
      "dtype: float64\n",
      "\n",
      "*** Q_coupling\n",
      "Empty DataFrame\n",
      "Columns: []\n",
      "Index: [0]\n"
     ]
    },
    {
     "data": {
      "text/markdown": [
       "#### Mode frequencies (MHz)"
      ],
      "text/plain": [
       "<IPython.core.display.Markdown object>"
      ]
     },
     "metadata": {},
     "output_type": "display_data"
    },
    {
     "data": {
      "text/markdown": [
       "###### Numerical diagonalization"
      ],
      "text/plain": [
       "<IPython.core.display.Markdown object>"
      ]
     },
     "metadata": {},
     "output_type": "display_data"
    },
    {
     "data": {
      "text/html": [
       "<div>\n",
       "<style scoped>\n",
       "    .dataframe tbody tr th:only-of-type {\n",
       "        vertical-align: middle;\n",
       "    }\n",
       "\n",
       "    .dataframe tbody tr th {\n",
       "        vertical-align: top;\n",
       "    }\n",
       "\n",
       "    .dataframe thead th {\n",
       "        text-align: right;\n",
       "    }\n",
       "</style>\n",
       "<table border=\"1\" class=\"dataframe\">\n",
       "  <thead>\n",
       "    <tr style=\"text-align: right;\">\n",
       "      <th>Lj</th>\n",
       "      <th>10</th>\n",
       "    </tr>\n",
       "  </thead>\n",
       "  <tbody>\n",
       "    <tr>\n",
       "      <th>0</th>\n",
       "      <td>4321.86</td>\n",
       "    </tr>\n",
       "  </tbody>\n",
       "</table>\n",
       "</div>"
      ],
      "text/plain": [
       "Lj       10\n",
       "0   4321.86"
      ]
     },
     "metadata": {},
     "output_type": "display_data"
    },
    {
     "data": {
      "text/markdown": [
       "#### Kerr Non-linear coefficient table (MHz)"
      ],
      "text/plain": [
       "<IPython.core.display.Markdown object>"
      ]
     },
     "metadata": {},
     "output_type": "display_data"
    },
    {
     "data": {
      "text/markdown": [
       "###### Numerical diagonalization"
      ],
      "text/plain": [
       "<IPython.core.display.Markdown object>"
      ]
     },
     "metadata": {},
     "output_type": "display_data"
    },
    {
     "data": {
      "text/html": [
       "<div>\n",
       "<style scoped>\n",
       "    .dataframe tbody tr th:only-of-type {\n",
       "        vertical-align: middle;\n",
       "    }\n",
       "\n",
       "    .dataframe tbody tr th {\n",
       "        vertical-align: top;\n",
       "    }\n",
       "\n",
       "    .dataframe thead th {\n",
       "        text-align: right;\n",
       "    }\n",
       "</style>\n",
       "<table border=\"1\" class=\"dataframe\">\n",
       "  <thead>\n",
       "    <tr style=\"text-align: right;\">\n",
       "      <th></th>\n",
       "      <th></th>\n",
       "      <th>0</th>\n",
       "    </tr>\n",
       "    <tr>\n",
       "      <th>Lj</th>\n",
       "      <th></th>\n",
       "      <th></th>\n",
       "    </tr>\n",
       "  </thead>\n",
       "  <tbody>\n",
       "    <tr>\n",
       "      <th>10</th>\n",
       "      <th>0</th>\n",
       "      <td>162.86</td>\n",
       "    </tr>\n",
       "  </tbody>\n",
       "</table>\n",
       "</div>"
      ],
      "text/plain": [
       "           0\n",
       "Lj          \n",
       "10 0  162.86"
      ]
     },
     "metadata": {},
     "output_type": "display_data"
    },
    {
     "name": "stdout",
     "output_type": "stream",
     "text": [
      "190.0\n",
      "tried1\n"
     ]
    },
    {
     "name": "stderr",
     "output_type": "stream",
     "text": [
      "INFO 09:55PM [connect_design]: \tOpened active design\n",
      "\tDesign:    single_q_hfss [Solution type: Eigenmode]\n",
      "INFO 09:57PM [get_setup]: \tOpened setup `Setup`  (<class 'pyEPR.ansys.HfssEMSetup'>)\n",
      "INFO 09:57PM [analyze]: Analyzing setup Setup\n",
      "10:00PM 21s INFO [get_f_convergence]: Saved convergences to c:\\Users\\slab\\Desktop\\Wendy-qiskit-code\\hfss_eig_f_convergence.csv\n"
     ]
    },
    {
     "name": "stdout",
     "output_type": "stream",
     "text": [
      "saddd\n",
      "Design \"single_q_hfss\" info:\n",
      "\t# eigenmodes    1\n",
      "\t# variations    1\n",
      "Design \"single_q_hfss\" info:\n",
      "\t# eigenmodes    1\n",
      "\t# variations    1\n"
     ]
    },
    {
     "name": "stderr",
     "output_type": "stream",
     "text": [
      "WARNING:py.warnings:c:\\Users\\slab\\anaconda3\\envs\\qmetal\\lib\\site-packages\\pyEPR\\project_info.py:239: FutureWarning: The default dtype for empty Series will be 'object' instead of 'float64' in a future version. Specify a dtype explicitly to silence this warning.\n",
      "  options=pd.Series(get_instance_vars(self.options)),\n",
      "\n"
     ]
    },
    {
     "name": "stdout",
     "output_type": "stream",
     "text": [
      "\n",
      "        energy_elec_all       = 4.38033794227315e-25\n",
      "        energy_elec_substrate = 4.02257143731397e-25\n",
      "        EPR of substrate = 91.8%\n",
      "\n",
      "        energy_mag    = 3.80059946858281e-27\n",
      "        energy_mag % of energy_elec_all  = 0.9%\n",
      "        \n",
      "\n",
      "Variation 0  [1/1]\n"
     ]
    },
    {
     "name": "stderr",
     "output_type": "stream",
     "text": [
      "WARNING:py.warnings:c:\\Users\\slab\\anaconda3\\envs\\qmetal\\lib\\site-packages\\pyEPR\\core_distributed_analysis.py:1101: FutureWarning: The default dtype for empty Series will be 'object' instead of 'float64' in a future version. Specify a dtype explicitly to silence this warning.\n",
      "  Ljs = pd.Series({})\n",
      "\n",
      "WARNING:py.warnings:c:\\Users\\slab\\anaconda3\\envs\\qmetal\\lib\\site-packages\\pyEPR\\core_distributed_analysis.py:1102: FutureWarning: The default dtype for empty Series will be 'object' instead of 'float64' in a future version. Specify a dtype explicitly to silence this warning.\n",
      "  Cjs = pd.Series({})\n",
      "\n",
      "WARNING:py.warnings:c:\\Users\\slab\\anaconda3\\envs\\qmetal\\lib\\site-packages\\pyEPR\\core_distributed_analysis.py:1245: FutureWarning: The default dtype for empty Series will be 'object' instead of 'float64' in a future version. Specify a dtype explicitly to silence this warning.\n",
      "  _Om = pd.Series({})\n",
      "\n"
     ]
    },
    {
     "name": "stdout",
     "output_type": "stream",
     "text": [
      "\n",
      "  \u001b[1mMode 0 at 5.06 GHz   [1/1]\u001b[0m\n",
      "    Calculating ℰ_magnetic,ℰ_electric\n"
     ]
    },
    {
     "name": "stderr",
     "output_type": "stream",
     "text": [
      "WARNING:py.warnings:c:\\Users\\slab\\anaconda3\\envs\\qmetal\\lib\\site-packages\\pyEPR\\core_distributed_analysis.py:981: FutureWarning: The default dtype for empty Series will be 'object' instead of 'float64' in a future version. Specify a dtype explicitly to silence this warning.\n",
      "  Sj = pd.Series({})\n",
      "\n"
     ]
    },
    {
     "name": "stdout",
     "output_type": "stream",
     "text": [
      "       (ℰ_E-ℰ_H)/ℰ_E       ℰ_E       ℰ_H\n",
      "               99.1%   2.19e-25   1.9e-27\n",
      "\n",
      "    Calculating junction energy participation ration (EPR)\n",
      "\tmethod=`line_voltage`. First estimates:\n",
      "\tjunction        EPR p_0j   sign s_0j    (p_capacitive)\n"
     ]
    },
    {
     "name": "stderr",
     "output_type": "stream",
     "text": [
      "WARNING:py.warnings:c:\\Users\\slab\\anaconda3\\envs\\qmetal\\lib\\site-packages\\pyEPR\\core_distributed_analysis.py:933: FutureWarning: The default dtype for empty Series will be 'object' instead of 'float64' in a future version. Specify a dtype explicitly to silence this warning.\n",
      "  Qp = pd.Series({})\n",
      "\n"
     ]
    },
    {
     "name": "stdout",
     "output_type": "stream",
     "text": [
      "\t\tEnergy fraction (Lj over Lj&Cj)= 98.02%\n",
      "\tjj1              1.27422  (+)         0.02571\n",
      "\t\t(U_tot_cap-U_tot_ind)/mean=-11.14%\n",
      "Calculating Qdielectric_main for mode 0 (0/0)\n"
     ]
    },
    {
     "name": "stderr",
     "output_type": "stream",
     "text": [
      "WARNING:py.warnings:c:\\Users\\slab\\anaconda3\\envs\\qmetal\\lib\\site-packages\\pyEPR\\core_distributed_analysis.py:1307: FutureWarning: The series.append method is deprecated and will be removed from pandas in a future version. Use pandas.concat instead.\n",
      "  sol = sol.append(self.get_Qdielectric(\n",
      "\n"
     ]
    },
    {
     "name": "stdout",
     "output_type": "stream",
     "text": [
      "p_dielectric_main_0 = 0.9183244512925596\n"
     ]
    },
    {
     "name": "stderr",
     "output_type": "stream",
     "text": [
      "WARNING:py.warnings:c:\\Users\\slab\\anaconda3\\envs\\qmetal\\lib\\site-packages\\pyEPR\\project_info.py:239: FutureWarning: The default dtype for empty Series will be 'object' instead of 'float64' in a future version. Specify a dtype explicitly to silence this warning.\n",
      "  options=pd.Series(get_instance_vars(self.options)),\n",
      "\n",
      "WARNING 10:00PM [__init__]: <p>Error: <class 'IndexError'></p>\n",
      "ERROR 10:00PM [_get_participation_normalized]: WARNING: U_tot_cap-U_tot_ind / mean = 22.3% is > 15%.                     \n",
      "Is the simulation converged? Proceed with caution\n",
      "ERROR 10:00PM [_get_participation_normalized]: WARNING: U_tot_cap-U_tot_ind / mean = 22.3% is > 15%.                     \n",
      "Is the simulation converged? Proceed with caution\n",
      "WARNING:py.warnings:c:\\Users\\slab\\anaconda3\\envs\\qmetal\\lib\\site-packages\\pyEPR\\core_quantum_analysis.py:712: FutureWarning: Support for multi-dimensional indexing (e.g. `obj[:, None]`) is deprecated and will be removed in a future version.  Convert to a numpy array before indexing instead.\n",
      "  result['Q_coupling'] = self.Qm_coupling[variation][self.Qm_coupling[variation].columns[junctions]][modes]#TODO change the columns to junctions\n",
      "\n",
      "WARNING:py.warnings:c:\\Users\\slab\\anaconda3\\envs\\qmetal\\lib\\site-packages\\pyEPR\\core_quantum_analysis.py:717: FutureWarning: Support for multi-dimensional indexing (e.g. `obj[:, None]`) is deprecated and will be removed in a future version.  Convert to a numpy array before indexing instead.\n",
      "  result['Qs'] = self.Qs[variation][self.PM[variation].columns[junctions]][modes] #TODO change the columns to junctions\n",
      "\n"
     ]
    },
    {
     "name": "stdout",
     "output_type": "stream",
     "text": [
      "\n",
      "ANALYSIS DONE. Data saved to:\n",
      "\n",
      "C:\\data-pyEPR\\Project40\\single_q_hfss\\2023-05-03 22-00-22.npz\n",
      "\n",
      "\n",
      "\t Differences in variations:\n",
      "\n",
      "\n",
      "\n",
      " . . . . . . . . . . . . . . . . . . . . . . . . . . . . . . . . . . . . . . . . \n",
      "Variation 0\n",
      "\n",
      "Starting the diagonalization\n",
      "Finished the diagonalization\n",
      "Pm_norm=\n",
      "modes\n",
      "0    0.798918\n",
      "dtype: float64\n",
      "\n",
      "Pm_norm idx =\n",
      "    jj1\n",
      "0  True\n",
      "*** P (participation matrix, not normlz.)\n",
      "        jj1\n",
      "0  1.242284\n",
      "\n",
      "*** S (sign-bit matrix)\n",
      "   s_jj1\n",
      "0     -1\n",
      "*** P (participation matrix, normalized.)\n",
      "      0.99\n",
      "\n",
      "*** Chi matrix O1 PT (MHz)\n",
      "    Diag is anharmonicity, off diag is full cross-Kerr.\n",
      "       192\n",
      "\n",
      "*** Chi matrix ND (MHz) \n",
      "       210\n",
      "\n",
      "*** Frequencies O1 PT (MHz)\n",
      "0    4862.651888\n",
      "dtype: float64\n",
      "\n",
      "*** Frequencies ND (MHz)\n",
      "0    4854.662641\n",
      "dtype: float64\n",
      "\n",
      "*** Q_coupling\n",
      "Empty DataFrame\n",
      "Columns: []\n",
      "Index: [0]\n"
     ]
    },
    {
     "data": {
      "text/markdown": [
       "#### Mode frequencies (MHz)"
      ],
      "text/plain": [
       "<IPython.core.display.Markdown object>"
      ]
     },
     "metadata": {},
     "output_type": "display_data"
    },
    {
     "data": {
      "text/markdown": [
       "###### Numerical diagonalization"
      ],
      "text/plain": [
       "<IPython.core.display.Markdown object>"
      ]
     },
     "metadata": {},
     "output_type": "display_data"
    },
    {
     "data": {
      "text/html": [
       "<div>\n",
       "<style scoped>\n",
       "    .dataframe tbody tr th:only-of-type {\n",
       "        vertical-align: middle;\n",
       "    }\n",
       "\n",
       "    .dataframe tbody tr th {\n",
       "        vertical-align: top;\n",
       "    }\n",
       "\n",
       "    .dataframe thead th {\n",
       "        text-align: right;\n",
       "    }\n",
       "</style>\n",
       "<table border=\"1\" class=\"dataframe\">\n",
       "  <thead>\n",
       "    <tr style=\"text-align: right;\">\n",
       "      <th>Lj</th>\n",
       "      <th>10</th>\n",
       "    </tr>\n",
       "  </thead>\n",
       "  <tbody>\n",
       "    <tr>\n",
       "      <th>0</th>\n",
       "      <td>4854.66</td>\n",
       "    </tr>\n",
       "  </tbody>\n",
       "</table>\n",
       "</div>"
      ],
      "text/plain": [
       "Lj       10\n",
       "0   4854.66"
      ]
     },
     "metadata": {},
     "output_type": "display_data"
    },
    {
     "data": {
      "text/markdown": [
       "#### Kerr Non-linear coefficient table (MHz)"
      ],
      "text/plain": [
       "<IPython.core.display.Markdown object>"
      ]
     },
     "metadata": {},
     "output_type": "display_data"
    },
    {
     "data": {
      "text/markdown": [
       "###### Numerical diagonalization"
      ],
      "text/plain": [
       "<IPython.core.display.Markdown object>"
      ]
     },
     "metadata": {},
     "output_type": "display_data"
    },
    {
     "data": {
      "text/html": [
       "<div>\n",
       "<style scoped>\n",
       "    .dataframe tbody tr th:only-of-type {\n",
       "        vertical-align: middle;\n",
       "    }\n",
       "\n",
       "    .dataframe tbody tr th {\n",
       "        vertical-align: top;\n",
       "    }\n",
       "\n",
       "    .dataframe thead th {\n",
       "        text-align: right;\n",
       "    }\n",
       "</style>\n",
       "<table border=\"1\" class=\"dataframe\">\n",
       "  <thead>\n",
       "    <tr style=\"text-align: right;\">\n",
       "      <th></th>\n",
       "      <th></th>\n",
       "      <th>0</th>\n",
       "    </tr>\n",
       "    <tr>\n",
       "      <th>Lj</th>\n",
       "      <th></th>\n",
       "      <th></th>\n",
       "    </tr>\n",
       "  </thead>\n",
       "  <tbody>\n",
       "    <tr>\n",
       "      <th>10</th>\n",
       "      <th>0</th>\n",
       "      <td>209.61</td>\n",
       "    </tr>\n",
       "  </tbody>\n",
       "</table>\n",
       "</div>"
      ],
      "text/plain": [
       "           0\n",
       "Lj          \n",
       "10 0  209.61"
      ]
     },
     "metadata": {},
     "output_type": "display_data"
    },
    {
     "name": "stdout",
     "output_type": "stream",
     "text": [
      "215.33209906254783\n",
      "tried1\n"
     ]
    },
    {
     "name": "stderr",
     "output_type": "stream",
     "text": [
      "INFO 10:00PM [connect_design]: \tOpened active design\n",
      "\tDesign:    single_q_hfss [Solution type: Eigenmode]\n",
      "INFO 10:02PM [get_setup]: \tOpened setup `Setup`  (<class 'pyEPR.ansys.HfssEMSetup'>)\n",
      "INFO 10:02PM [analyze]: Analyzing setup Setup\n",
      "10:06PM 22s INFO [get_f_convergence]: Saved convergences to c:\\Users\\slab\\Desktop\\Wendy-qiskit-code\\hfss_eig_f_convergence.csv\n"
     ]
    },
    {
     "name": "stdout",
     "output_type": "stream",
     "text": [
      "saddd\n",
      "Design \"single_q_hfss\" info:\n",
      "\t# eigenmodes    1\n",
      "\t# variations    1\n",
      "Design \"single_q_hfss\" info:\n",
      "\t# eigenmodes    1\n",
      "\t# variations    1\n"
     ]
    },
    {
     "name": "stderr",
     "output_type": "stream",
     "text": [
      "WARNING:py.warnings:c:\\Users\\slab\\anaconda3\\envs\\qmetal\\lib\\site-packages\\pyEPR\\project_info.py:239: FutureWarning: The default dtype for empty Series will be 'object' instead of 'float64' in a future version. Specify a dtype explicitly to silence this warning.\n",
      "  options=pd.Series(get_instance_vars(self.options)),\n",
      "\n"
     ]
    },
    {
     "name": "stdout",
     "output_type": "stream",
     "text": [
      "\n",
      "        energy_elec_all       = 3.63909016419727e-25\n",
      "        energy_elec_substrate = 3.34079223990296e-25\n",
      "        EPR of substrate = 91.8%\n",
      "\n",
      "        energy_mag    = 3.12737664500459e-27\n",
      "        energy_mag % of energy_elec_all  = 0.9%\n",
      "        \n",
      "\n",
      "Variation 0  [1/1]\n"
     ]
    },
    {
     "name": "stderr",
     "output_type": "stream",
     "text": [
      "WARNING:py.warnings:c:\\Users\\slab\\anaconda3\\envs\\qmetal\\lib\\site-packages\\pyEPR\\core_distributed_analysis.py:1101: FutureWarning: The default dtype for empty Series will be 'object' instead of 'float64' in a future version. Specify a dtype explicitly to silence this warning.\n",
      "  Ljs = pd.Series({})\n",
      "\n",
      "WARNING:py.warnings:c:\\Users\\slab\\anaconda3\\envs\\qmetal\\lib\\site-packages\\pyEPR\\core_distributed_analysis.py:1102: FutureWarning: The default dtype for empty Series will be 'object' instead of 'float64' in a future version. Specify a dtype explicitly to silence this warning.\n",
      "  Cjs = pd.Series({})\n",
      "\n",
      "WARNING:py.warnings:c:\\Users\\slab\\anaconda3\\envs\\qmetal\\lib\\site-packages\\pyEPR\\core_distributed_analysis.py:1245: FutureWarning: The default dtype for empty Series will be 'object' instead of 'float64' in a future version. Specify a dtype explicitly to silence this warning.\n",
      "  _Om = pd.Series({})\n",
      "\n"
     ]
    },
    {
     "name": "stdout",
     "output_type": "stream",
     "text": [
      "\n",
      "  \u001b[1mMode 0 at 4.76 GHz   [1/1]\u001b[0m\n",
      "    Calculating ℰ_magnetic,ℰ_electric\n"
     ]
    },
    {
     "name": "stderr",
     "output_type": "stream",
     "text": [
      "WARNING:py.warnings:c:\\Users\\slab\\anaconda3\\envs\\qmetal\\lib\\site-packages\\pyEPR\\core_distributed_analysis.py:981: FutureWarning: The default dtype for empty Series will be 'object' instead of 'float64' in a future version. Specify a dtype explicitly to silence this warning.\n",
      "  Sj = pd.Series({})\n",
      "\n"
     ]
    },
    {
     "name": "stdout",
     "output_type": "stream",
     "text": [
      "       (ℰ_E-ℰ_H)/ℰ_E       ℰ_E       ℰ_H\n",
      "               99.1%   1.82e-25 1.564e-27\n",
      "\n",
      "    Calculating junction energy participation ration (EPR)\n",
      "\tmethod=`line_voltage`. First estimates:\n",
      "\tjunction        EPR p_0j   sign s_0j    (p_capacitive)\n"
     ]
    },
    {
     "name": "stderr",
     "output_type": "stream",
     "text": [
      "WARNING:py.warnings:c:\\Users\\slab\\anaconda3\\envs\\qmetal\\lib\\site-packages\\pyEPR\\core_distributed_analysis.py:933: FutureWarning: The default dtype for empty Series will be 'object' instead of 'float64' in a future version. Specify a dtype explicitly to silence this warning.\n",
      "  Qp = pd.Series({})\n",
      "\n"
     ]
    },
    {
     "name": "stdout",
     "output_type": "stream",
     "text": [
      "\t\tEnergy fraction (Lj over Lj&Cj)= 98.24%\n",
      "\tjj1              1.23442  (+)        0.0220829\n",
      "\t\t(U_tot_cap-U_tot_ind)/mean=-9.75%\n",
      "Calculating Qdielectric_main for mode 0 (0/0)\n"
     ]
    },
    {
     "name": "stderr",
     "output_type": "stream",
     "text": [
      "WARNING:py.warnings:c:\\Users\\slab\\anaconda3\\envs\\qmetal\\lib\\site-packages\\pyEPR\\core_distributed_analysis.py:1307: FutureWarning: The series.append method is deprecated and will be removed from pandas in a future version. Use pandas.concat instead.\n",
      "  sol = sol.append(self.get_Qdielectric(\n",
      "\n"
     ]
    },
    {
     "name": "stdout",
     "output_type": "stream",
     "text": [
      "p_dielectric_main_0 = 0.9180295318788536\n"
     ]
    },
    {
     "name": "stderr",
     "output_type": "stream",
     "text": [
      "WARNING:py.warnings:c:\\Users\\slab\\anaconda3\\envs\\qmetal\\lib\\site-packages\\pyEPR\\project_info.py:239: FutureWarning: The default dtype for empty Series will be 'object' instead of 'float64' in a future version. Specify a dtype explicitly to silence this warning.\n",
      "  options=pd.Series(get_instance_vars(self.options)),\n",
      "\n",
      "WARNING 10:06PM [__init__]: <p>Error: <class 'IndexError'></p>\n",
      "ERROR 10:06PM [_get_participation_normalized]: WARNING: U_tot_cap-U_tot_ind / mean = 19.5% is > 15%.                     \n",
      "Is the simulation converged? Proceed with caution\n",
      "ERROR 10:06PM [_get_participation_normalized]: WARNING: U_tot_cap-U_tot_ind / mean = 19.5% is > 15%.                     \n",
      "Is the simulation converged? Proceed with caution\n",
      "WARNING:py.warnings:c:\\Users\\slab\\anaconda3\\envs\\qmetal\\lib\\site-packages\\pyEPR\\core_quantum_analysis.py:712: FutureWarning: Support for multi-dimensional indexing (e.g. `obj[:, None]`) is deprecated and will be removed in a future version.  Convert to a numpy array before indexing instead.\n",
      "  result['Q_coupling'] = self.Qm_coupling[variation][self.Qm_coupling[variation].columns[junctions]][modes]#TODO change the columns to junctions\n",
      "\n",
      "WARNING:py.warnings:c:\\Users\\slab\\anaconda3\\envs\\qmetal\\lib\\site-packages\\pyEPR\\core_quantum_analysis.py:717: FutureWarning: Support for multi-dimensional indexing (e.g. `obj[:, None]`) is deprecated and will be removed in a future version.  Convert to a numpy array before indexing instead.\n",
      "  result['Qs'] = self.Qs[variation][self.PM[variation].columns[junctions]][modes] #TODO change the columns to junctions\n",
      "\n"
     ]
    },
    {
     "name": "stdout",
     "output_type": "stream",
     "text": [
      "\n",
      "ANALYSIS DONE. Data saved to:\n",
      "\n",
      "C:\\data-pyEPR\\Project40\\single_q_hfss\\2023-05-03 22-06-23.npz\n",
      "\n",
      "\n",
      "\t Differences in variations:\n",
      "\n",
      "\n",
      "\n",
      " . . . . . . . . . . . . . . . . . . . . . . . . . . . . . . . . . . . . . . . . \n",
      "Variation 0\n",
      "\n",
      "Starting the diagonalization\n",
      "Finished the diagonalization\n",
      "Pm_norm=\n",
      "modes\n",
      "0    0.821702\n",
      "dtype: float64\n",
      "\n",
      "Pm_norm idx =\n",
      "    jj1\n",
      "0  True\n",
      "*** P (participation matrix, not normlz.)\n",
      "        jj1\n",
      "0  1.207751\n",
      "\n",
      "*** S (sign-bit matrix)\n",
      "   s_jj1\n",
      "0     -1\n",
      "*** P (participation matrix, normalized.)\n",
      "      0.99\n",
      "\n",
      "*** Chi matrix O1 PT (MHz)\n",
      "    Diag is anharmonicity, off diag is full cross-Kerr.\n",
      "       171\n",
      "\n",
      "*** Chi matrix ND (MHz) \n",
      "       185\n",
      "\n",
      "*** Frequencies O1 PT (MHz)\n",
      "0    4589.301021\n",
      "dtype: float64\n",
      "\n",
      "*** Frequencies ND (MHz)\n",
      "0    4582.670607\n",
      "dtype: float64\n",
      "\n",
      "*** Q_coupling\n",
      "Empty DataFrame\n",
      "Columns: []\n",
      "Index: [0]\n"
     ]
    },
    {
     "data": {
      "text/markdown": [
       "#### Mode frequencies (MHz)"
      ],
      "text/plain": [
       "<IPython.core.display.Markdown object>"
      ]
     },
     "metadata": {},
     "output_type": "display_data"
    },
    {
     "data": {
      "text/markdown": [
       "###### Numerical diagonalization"
      ],
      "text/plain": [
       "<IPython.core.display.Markdown object>"
      ]
     },
     "metadata": {},
     "output_type": "display_data"
    },
    {
     "data": {
      "text/html": [
       "<div>\n",
       "<style scoped>\n",
       "    .dataframe tbody tr th:only-of-type {\n",
       "        vertical-align: middle;\n",
       "    }\n",
       "\n",
       "    .dataframe tbody tr th {\n",
       "        vertical-align: top;\n",
       "    }\n",
       "\n",
       "    .dataframe thead th {\n",
       "        text-align: right;\n",
       "    }\n",
       "</style>\n",
       "<table border=\"1\" class=\"dataframe\">\n",
       "  <thead>\n",
       "    <tr style=\"text-align: right;\">\n",
       "      <th>Lj</th>\n",
       "      <th>10</th>\n",
       "    </tr>\n",
       "  </thead>\n",
       "  <tbody>\n",
       "    <tr>\n",
       "      <th>0</th>\n",
       "      <td>4582.67</td>\n",
       "    </tr>\n",
       "  </tbody>\n",
       "</table>\n",
       "</div>"
      ],
      "text/plain": [
       "Lj       10\n",
       "0   4582.67"
      ]
     },
     "metadata": {},
     "output_type": "display_data"
    },
    {
     "data": {
      "text/markdown": [
       "#### Kerr Non-linear coefficient table (MHz)"
      ],
      "text/plain": [
       "<IPython.core.display.Markdown object>"
      ]
     },
     "metadata": {},
     "output_type": "display_data"
    },
    {
     "data": {
      "text/markdown": [
       "###### Numerical diagonalization"
      ],
      "text/plain": [
       "<IPython.core.display.Markdown object>"
      ]
     },
     "metadata": {},
     "output_type": "display_data"
    },
    {
     "data": {
      "text/html": [
       "<div>\n",
       "<style scoped>\n",
       "    .dataframe tbody tr th:only-of-type {\n",
       "        vertical-align: middle;\n",
       "    }\n",
       "\n",
       "    .dataframe tbody tr th {\n",
       "        vertical-align: top;\n",
       "    }\n",
       "\n",
       "    .dataframe thead th {\n",
       "        text-align: right;\n",
       "    }\n",
       "</style>\n",
       "<table border=\"1\" class=\"dataframe\">\n",
       "  <thead>\n",
       "    <tr style=\"text-align: right;\">\n",
       "      <th></th>\n",
       "      <th></th>\n",
       "      <th>0</th>\n",
       "    </tr>\n",
       "    <tr>\n",
       "      <th>Lj</th>\n",
       "      <th></th>\n",
       "      <th></th>\n",
       "    </tr>\n",
       "  </thead>\n",
       "  <tbody>\n",
       "    <tr>\n",
       "      <th>10</th>\n",
       "      <th>0</th>\n",
       "      <td>184.91</td>\n",
       "    </tr>\n",
       "  </tbody>\n",
       "</table>\n",
       "</div>"
      ],
      "text/plain": [
       "           0\n",
       "Lj          \n",
       "10 0  184.91"
      ]
     },
     "metadata": {},
     "output_type": "display_data"
    },
    {
     "name": "stdout",
     "output_type": "stream",
     "text": [
      "213.7181183384471\n",
      "tried1\n"
     ]
    },
    {
     "name": "stderr",
     "output_type": "stream",
     "text": [
      "INFO 10:06PM [connect_design]: \tOpened active design\n",
      "\tDesign:    single_q_hfss [Solution type: Eigenmode]\n",
      "INFO 10:08PM [get_setup]: \tOpened setup `Setup`  (<class 'pyEPR.ansys.HfssEMSetup'>)\n",
      "INFO 10:08PM [analyze]: Analyzing setup Setup\n",
      "10:11PM 37s INFO [get_f_convergence]: Saved convergences to c:\\Users\\slab\\Desktop\\Wendy-qiskit-code\\hfss_eig_f_convergence.csv\n"
     ]
    },
    {
     "name": "stdout",
     "output_type": "stream",
     "text": [
      "saddd\n",
      "Design \"single_q_hfss\" info:\n",
      "\t# eigenmodes    1\n",
      "\t# variations    1\n",
      "Design \"single_q_hfss\" info:\n",
      "\t# eigenmodes    1\n",
      "\t# variations    1\n"
     ]
    },
    {
     "name": "stderr",
     "output_type": "stream",
     "text": [
      "WARNING:py.warnings:c:\\Users\\slab\\anaconda3\\envs\\qmetal\\lib\\site-packages\\pyEPR\\project_info.py:239: FutureWarning: The default dtype for empty Series will be 'object' instead of 'float64' in a future version. Specify a dtype explicitly to silence this warning.\n",
      "  options=pd.Series(get_instance_vars(self.options)),\n",
      "\n"
     ]
    },
    {
     "name": "stdout",
     "output_type": "stream",
     "text": [
      "\n",
      "        energy_elec_all       = 6.47829903005156e-25\n",
      "        energy_elec_substrate = 5.94713625524829e-25\n",
      "        EPR of substrate = 91.8%\n",
      "\n",
      "        energy_mag    = 5.50618195625974e-27\n",
      "        energy_mag % of energy_elec_all  = 0.8%\n",
      "        \n",
      "\n",
      "Variation 0  [1/1]\n"
     ]
    },
    {
     "name": "stderr",
     "output_type": "stream",
     "text": [
      "WARNING:py.warnings:c:\\Users\\slab\\anaconda3\\envs\\qmetal\\lib\\site-packages\\pyEPR\\core_distributed_analysis.py:1101: FutureWarning: The default dtype for empty Series will be 'object' instead of 'float64' in a future version. Specify a dtype explicitly to silence this warning.\n",
      "  Ljs = pd.Series({})\n",
      "\n",
      "WARNING:py.warnings:c:\\Users\\slab\\anaconda3\\envs\\qmetal\\lib\\site-packages\\pyEPR\\core_distributed_analysis.py:1102: FutureWarning: The default dtype for empty Series will be 'object' instead of 'float64' in a future version. Specify a dtype explicitly to silence this warning.\n",
      "  Cjs = pd.Series({})\n",
      "\n",
      "WARNING:py.warnings:c:\\Users\\slab\\anaconda3\\envs\\qmetal\\lib\\site-packages\\pyEPR\\core_distributed_analysis.py:1245: FutureWarning: The default dtype for empty Series will be 'object' instead of 'float64' in a future version. Specify a dtype explicitly to silence this warning.\n",
      "  _Om = pd.Series({})\n",
      "\n"
     ]
    },
    {
     "name": "stdout",
     "output_type": "stream",
     "text": [
      "\n",
      "  \u001b[1mMode 0 at 4.78 GHz   [1/1]\u001b[0m\n",
      "    Calculating ℰ_magnetic,ℰ_electric\n"
     ]
    },
    {
     "name": "stderr",
     "output_type": "stream",
     "text": [
      "WARNING:py.warnings:c:\\Users\\slab\\anaconda3\\envs\\qmetal\\lib\\site-packages\\pyEPR\\core_distributed_analysis.py:981: FutureWarning: The default dtype for empty Series will be 'object' instead of 'float64' in a future version. Specify a dtype explicitly to silence this warning.\n",
      "  Sj = pd.Series({})\n",
      "\n"
     ]
    },
    {
     "name": "stdout",
     "output_type": "stream",
     "text": [
      "       (ℰ_E-ℰ_H)/ℰ_E       ℰ_E       ℰ_H\n",
      "               99.2%  3.239e-25 2.753e-27\n",
      "\n",
      "    Calculating junction energy participation ration (EPR)\n",
      "\tmethod=`line_voltage`. First estimates:\n",
      "\tjunction        EPR p_0j   sign s_0j    (p_capacitive)\n"
     ]
    },
    {
     "name": "stderr",
     "output_type": "stream",
     "text": [
      "WARNING:py.warnings:c:\\Users\\slab\\anaconda3\\envs\\qmetal\\lib\\site-packages\\pyEPR\\core_distributed_analysis.py:933: FutureWarning: The default dtype for empty Series will be 'object' instead of 'float64' in a future version. Specify a dtype explicitly to silence this warning.\n",
      "  Qp = pd.Series({})\n",
      "\n"
     ]
    },
    {
     "name": "stdout",
     "output_type": "stream",
     "text": [
      "\t\tEnergy fraction (Lj over Lj&Cj)= 98.23%\n",
      "\tjj1              1.23661  (+)        0.0222624\n",
      "\t\t(U_tot_cap-U_tot_ind)/mean=-9.83%\n",
      "Calculating Qdielectric_main for mode 0 (0/0)\n"
     ]
    },
    {
     "name": "stderr",
     "output_type": "stream",
     "text": [
      "WARNING:py.warnings:c:\\Users\\slab\\anaconda3\\envs\\qmetal\\lib\\site-packages\\pyEPR\\core_distributed_analysis.py:1307: FutureWarning: The series.append method is deprecated and will be removed from pandas in a future version. Use pandas.concat instead.\n",
      "  sol = sol.append(self.get_Qdielectric(\n",
      "\n"
     ]
    },
    {
     "name": "stdout",
     "output_type": "stream",
     "text": [
      "p_dielectric_main_0 = 0.9180089137072387\n"
     ]
    },
    {
     "name": "stderr",
     "output_type": "stream",
     "text": [
      "WARNING:py.warnings:c:\\Users\\slab\\anaconda3\\envs\\qmetal\\lib\\site-packages\\pyEPR\\project_info.py:239: FutureWarning: The default dtype for empty Series will be 'object' instead of 'float64' in a future version. Specify a dtype explicitly to silence this warning.\n",
      "  options=pd.Series(get_instance_vars(self.options)),\n",
      "\n",
      "WARNING 10:11PM [__init__]: <p>Error: <class 'IndexError'></p>\n",
      "ERROR 10:11PM [_get_participation_normalized]: WARNING: U_tot_cap-U_tot_ind / mean = 19.7% is > 15%.                     \n",
      "Is the simulation converged? Proceed with caution\n",
      "ERROR 10:11PM [_get_participation_normalized]: WARNING: U_tot_cap-U_tot_ind / mean = 19.7% is > 15%.                     \n",
      "Is the simulation converged? Proceed with caution\n",
      "WARNING:py.warnings:c:\\Users\\slab\\anaconda3\\envs\\qmetal\\lib\\site-packages\\pyEPR\\core_quantum_analysis.py:712: FutureWarning: Support for multi-dimensional indexing (e.g. `obj[:, None]`) is deprecated and will be removed in a future version.  Convert to a numpy array before indexing instead.\n",
      "  result['Q_coupling'] = self.Qm_coupling[variation][self.Qm_coupling[variation].columns[junctions]][modes]#TODO change the columns to junctions\n",
      "\n",
      "WARNING:py.warnings:c:\\Users\\slab\\anaconda3\\envs\\qmetal\\lib\\site-packages\\pyEPR\\core_quantum_analysis.py:717: FutureWarning: Support for multi-dimensional indexing (e.g. `obj[:, None]`) is deprecated and will be removed in a future version.  Convert to a numpy array before indexing instead.\n",
      "  result['Qs'] = self.Qs[variation][self.PM[variation].columns[junctions]][modes] #TODO change the columns to junctions\n",
      "\n"
     ]
    },
    {
     "name": "stdout",
     "output_type": "stream",
     "text": [
      "\n",
      "ANALYSIS DONE. Data saved to:\n",
      "\n",
      "C:\\data-pyEPR\\Project40\\single_q_hfss\\2023-05-03 22-11-38.npz\n",
      "\n",
      "\n",
      "\t Differences in variations:\n",
      "\n",
      "\n",
      "\n",
      " . . . . . . . . . . . . . . . . . . . . . . . . . . . . . . . . . . . . . . . . \n",
      "Variation 0\n",
      "\n",
      "Starting the diagonalization\n",
      "Finished the diagonalization\n",
      "Pm_norm=\n",
      "modes\n",
      "0    0.820468\n",
      "dtype: float64\n",
      "\n",
      "Pm_norm idx =\n",
      "    jj1\n",
      "0  True\n",
      "*** P (participation matrix, not normlz.)\n",
      "        jj1\n",
      "0  1.209679\n",
      "\n",
      "*** S (sign-bit matrix)\n",
      "   s_jj1\n",
      "0      1\n",
      "*** P (participation matrix, normalized.)\n",
      "      0.99\n",
      "\n",
      "*** Chi matrix O1 PT (MHz)\n",
      "    Diag is anharmonicity, off diag is full cross-Kerr.\n",
      "       172\n",
      "\n",
      "*** Chi matrix ND (MHz) \n",
      "       186\n",
      "\n",
      "*** Frequencies O1 PT (MHz)\n",
      "0    4603.263031\n",
      "dtype: float64\n",
      "\n",
      "*** Frequencies ND (MHz)\n",
      "0    4596.56427\n",
      "dtype: float64\n",
      "\n",
      "*** Q_coupling\n",
      "Empty DataFrame\n",
      "Columns: []\n",
      "Index: [0]\n"
     ]
    },
    {
     "data": {
      "text/markdown": [
       "#### Mode frequencies (MHz)"
      ],
      "text/plain": [
       "<IPython.core.display.Markdown object>"
      ]
     },
     "metadata": {},
     "output_type": "display_data"
    },
    {
     "data": {
      "text/markdown": [
       "###### Numerical diagonalization"
      ],
      "text/plain": [
       "<IPython.core.display.Markdown object>"
      ]
     },
     "metadata": {},
     "output_type": "display_data"
    },
    {
     "data": {
      "text/html": [
       "<div>\n",
       "<style scoped>\n",
       "    .dataframe tbody tr th:only-of-type {\n",
       "        vertical-align: middle;\n",
       "    }\n",
       "\n",
       "    .dataframe tbody tr th {\n",
       "        vertical-align: top;\n",
       "    }\n",
       "\n",
       "    .dataframe thead th {\n",
       "        text-align: right;\n",
       "    }\n",
       "</style>\n",
       "<table border=\"1\" class=\"dataframe\">\n",
       "  <thead>\n",
       "    <tr style=\"text-align: right;\">\n",
       "      <th>Lj</th>\n",
       "      <th>10</th>\n",
       "    </tr>\n",
       "  </thead>\n",
       "  <tbody>\n",
       "    <tr>\n",
       "      <th>0</th>\n",
       "      <td>4596.56</td>\n",
       "    </tr>\n",
       "  </tbody>\n",
       "</table>\n",
       "</div>"
      ],
      "text/plain": [
       "Lj       10\n",
       "0   4596.56"
      ]
     },
     "metadata": {},
     "output_type": "display_data"
    },
    {
     "data": {
      "text/markdown": [
       "#### Kerr Non-linear coefficient table (MHz)"
      ],
      "text/plain": [
       "<IPython.core.display.Markdown object>"
      ]
     },
     "metadata": {},
     "output_type": "display_data"
    },
    {
     "data": {
      "text/markdown": [
       "###### Numerical diagonalization"
      ],
      "text/plain": [
       "<IPython.core.display.Markdown object>"
      ]
     },
     "metadata": {},
     "output_type": "display_data"
    },
    {
     "data": {
      "text/html": [
       "<div>\n",
       "<style scoped>\n",
       "    .dataframe tbody tr th:only-of-type {\n",
       "        vertical-align: middle;\n",
       "    }\n",
       "\n",
       "    .dataframe tbody tr th {\n",
       "        vertical-align: top;\n",
       "    }\n",
       "\n",
       "    .dataframe thead th {\n",
       "        text-align: right;\n",
       "    }\n",
       "</style>\n",
       "<table border=\"1\" class=\"dataframe\">\n",
       "  <thead>\n",
       "    <tr style=\"text-align: right;\">\n",
       "      <th></th>\n",
       "      <th></th>\n",
       "      <th>0</th>\n",
       "    </tr>\n",
       "    <tr>\n",
       "      <th>Lj</th>\n",
       "      <th></th>\n",
       "      <th></th>\n",
       "    </tr>\n",
       "  </thead>\n",
       "  <tbody>\n",
       "    <tr>\n",
       "      <th>10</th>\n",
       "      <th>0</th>\n",
       "      <td>186.17</td>\n",
       "    </tr>\n",
       "  </tbody>\n",
       "</table>\n",
       "</div>"
      ],
      "text/plain": [
       "           0\n",
       "Lj          \n",
       "10 0  186.17"
      ]
     },
     "metadata": {},
     "output_type": "display_data"
    },
    {
     "name": "stdout",
     "output_type": "stream",
     "text": [
      "212.64452774675487\n",
      "tried1\n"
     ]
    },
    {
     "name": "stderr",
     "output_type": "stream",
     "text": [
      "INFO 10:11PM [connect_design]: \tOpened active design\n",
      "\tDesign:    single_q_hfss [Solution type: Eigenmode]\n",
      "INFO 10:12PM [get_setup]: \tOpened setup `Setup`  (<class 'pyEPR.ansys.HfssEMSetup'>)\n",
      "INFO 10:12PM [analyze]: Analyzing setup Setup\n",
      "10:14PM 49s INFO [get_f_convergence]: Saved convergences to c:\\Users\\slab\\Desktop\\Wendy-qiskit-code\\hfss_eig_f_convergence.csv\n"
     ]
    },
    {
     "name": "stdout",
     "output_type": "stream",
     "text": [
      "saddd\n",
      "Design \"single_q_hfss\" info:\n",
      "\t# eigenmodes    1\n",
      "\t# variations    1\n",
      "Design \"single_q_hfss\" info:\n",
      "\t# eigenmodes    1\n",
      "\t# variations    1\n"
     ]
    },
    {
     "name": "stderr",
     "output_type": "stream",
     "text": [
      "WARNING:py.warnings:c:\\Users\\slab\\anaconda3\\envs\\qmetal\\lib\\site-packages\\pyEPR\\project_info.py:239: FutureWarning: The default dtype for empty Series will be 'object' instead of 'float64' in a future version. Specify a dtype explicitly to silence this warning.\n",
      "  options=pd.Series(get_instance_vars(self.options)),\n",
      "\n"
     ]
    },
    {
     "name": "stdout",
     "output_type": "stream",
     "text": [
      "\n",
      "        energy_elec_all       = 5.00062620988008e-25\n",
      "        energy_elec_substrate = 4.59079699920378e-25\n",
      "        EPR of substrate = 91.8%\n",
      "\n",
      "        energy_mag    = 4.64148678432075e-27\n",
      "        energy_mag % of energy_elec_all  = 0.9%\n",
      "        \n",
      "\n",
      "Variation 0  [1/1]\n"
     ]
    },
    {
     "name": "stderr",
     "output_type": "stream",
     "text": [
      "WARNING:py.warnings:c:\\Users\\slab\\anaconda3\\envs\\qmetal\\lib\\site-packages\\pyEPR\\core_distributed_analysis.py:1101: FutureWarning: The default dtype for empty Series will be 'object' instead of 'float64' in a future version. Specify a dtype explicitly to silence this warning.\n",
      "  Ljs = pd.Series({})\n",
      "\n",
      "WARNING:py.warnings:c:\\Users\\slab\\anaconda3\\envs\\qmetal\\lib\\site-packages\\pyEPR\\core_distributed_analysis.py:1102: FutureWarning: The default dtype for empty Series will be 'object' instead of 'float64' in a future version. Specify a dtype explicitly to silence this warning.\n",
      "  Cjs = pd.Series({})\n",
      "\n",
      "WARNING:py.warnings:c:\\Users\\slab\\anaconda3\\envs\\qmetal\\lib\\site-packages\\pyEPR\\core_distributed_analysis.py:1245: FutureWarning: The default dtype for empty Series will be 'object' instead of 'float64' in a future version. Specify a dtype explicitly to silence this warning.\n",
      "  _Om = pd.Series({})\n",
      "\n"
     ]
    },
    {
     "name": "stdout",
     "output_type": "stream",
     "text": [
      "\n",
      "  \u001b[1mMode 0 at 4.79 GHz   [1/1]\u001b[0m\n",
      "    Calculating ℰ_magnetic,ℰ_electric\n"
     ]
    },
    {
     "name": "stderr",
     "output_type": "stream",
     "text": [
      "WARNING:py.warnings:c:\\Users\\slab\\anaconda3\\envs\\qmetal\\lib\\site-packages\\pyEPR\\core_distributed_analysis.py:981: FutureWarning: The default dtype for empty Series will be 'object' instead of 'float64' in a future version. Specify a dtype explicitly to silence this warning.\n",
      "  Sj = pd.Series({})\n",
      "\n"
     ]
    },
    {
     "name": "stdout",
     "output_type": "stream",
     "text": [
      "       (ℰ_E-ℰ_H)/ℰ_E       ℰ_E       ℰ_H\n",
      "               99.1%    2.5e-25 2.321e-27\n",
      "\n",
      "    Calculating junction energy participation ration (EPR)\n",
      "\tmethod=`line_voltage`. First estimates:\n",
      "\tjunction        EPR p_0j   sign s_0j    (p_capacitive)\n"
     ]
    },
    {
     "name": "stderr",
     "output_type": "stream",
     "text": [
      "WARNING:py.warnings:c:\\Users\\slab\\anaconda3\\envs\\qmetal\\lib\\site-packages\\pyEPR\\core_distributed_analysis.py:933: FutureWarning: The default dtype for empty Series will be 'object' instead of 'float64' in a future version. Specify a dtype explicitly to silence this warning.\n",
      "  Qp = pd.Series({})\n",
      "\n"
     ]
    },
    {
     "name": "stdout",
     "output_type": "stream",
     "text": [
      "\t\tEnergy fraction (Lj over Lj&Cj)= 98.22%\n",
      "\tjj1              1.23697  (+)        0.0223661\n",
      "\t\t(U_tot_cap-U_tot_ind)/mean=-9.87%\n",
      "Calculating Qdielectric_main for mode 0 (0/0)\n"
     ]
    },
    {
     "name": "stderr",
     "output_type": "stream",
     "text": [
      "WARNING:py.warnings:c:\\Users\\slab\\anaconda3\\envs\\qmetal\\lib\\site-packages\\pyEPR\\core_distributed_analysis.py:1307: FutureWarning: The series.append method is deprecated and will be removed from pandas in a future version. Use pandas.concat instead.\n",
      "  sol = sol.append(self.get_Qdielectric(\n",
      "\n"
     ]
    },
    {
     "name": "stdout",
     "output_type": "stream",
     "text": [
      "p_dielectric_main_0 = 0.9180444221432563\n"
     ]
    },
    {
     "name": "stderr",
     "output_type": "stream",
     "text": [
      "WARNING:py.warnings:c:\\Users\\slab\\anaconda3\\envs\\qmetal\\lib\\site-packages\\pyEPR\\project_info.py:239: FutureWarning: The default dtype for empty Series will be 'object' instead of 'float64' in a future version. Specify a dtype explicitly to silence this warning.\n",
      "  options=pd.Series(get_instance_vars(self.options)),\n",
      "\n",
      "WARNING 10:14PM [__init__]: <p>Error: <class 'IndexError'></p>\n",
      "ERROR 10:14PM [_get_participation_normalized]: WARNING: U_tot_cap-U_tot_ind / mean = 19.7% is > 15%.                     \n",
      "Is the simulation converged? Proceed with caution\n",
      "ERROR 10:14PM [_get_participation_normalized]: WARNING: U_tot_cap-U_tot_ind / mean = 19.7% is > 15%.                     \n",
      "Is the simulation converged? Proceed with caution\n",
      "WARNING:py.warnings:c:\\Users\\slab\\anaconda3\\envs\\qmetal\\lib\\site-packages\\pyEPR\\core_quantum_analysis.py:712: FutureWarning: Support for multi-dimensional indexing (e.g. `obj[:, None]`) is deprecated and will be removed in a future version.  Convert to a numpy array before indexing instead.\n",
      "  result['Q_coupling'] = self.Qm_coupling[variation][self.Qm_coupling[variation].columns[junctions]][modes]#TODO change the columns to junctions\n",
      "\n",
      "WARNING:py.warnings:c:\\Users\\slab\\anaconda3\\envs\\qmetal\\lib\\site-packages\\pyEPR\\core_quantum_analysis.py:717: FutureWarning: Support for multi-dimensional indexing (e.g. `obj[:, None]`) is deprecated and will be removed in a future version.  Convert to a numpy array before indexing instead.\n",
      "  result['Qs'] = self.Qs[variation][self.PM[variation].columns[junctions]][modes] #TODO change the columns to junctions\n",
      "\n"
     ]
    },
    {
     "name": "stdout",
     "output_type": "stream",
     "text": [
      "\n",
      "ANALYSIS DONE. Data saved to:\n",
      "\n",
      "C:\\data-pyEPR\\Project40\\single_q_hfss\\2023-05-03 22-14-50.npz\n",
      "\n",
      "\n",
      "\t Differences in variations:\n",
      "\n",
      "\n",
      "\n",
      " . . . . . . . . . . . . . . . . . . . . . . . . . . . . . . . . . . . . . . . . \n",
      "Variation 0\n",
      "\n",
      "Starting the diagonalization\n",
      "Finished the diagonalization\n",
      "Pm_norm=\n",
      "modes\n",
      "0    0.819748\n",
      "dtype: float64\n",
      "\n",
      "Pm_norm idx =\n",
      "    jj1\n",
      "0  True\n",
      "*** P (participation matrix, not normlz.)\n",
      "        jj1\n",
      "0  1.209905\n",
      "\n",
      "*** S (sign-bit matrix)\n",
      "   s_jj1\n",
      "0     -1\n",
      "*** P (participation matrix, normalized.)\n",
      "      0.99\n",
      "\n",
      "*** Chi matrix O1 PT (MHz)\n",
      "    Diag is anharmonicity, off diag is full cross-Kerr.\n",
      "       172\n",
      "\n",
      "*** Chi matrix ND (MHz) \n",
      "       187\n",
      "\n",
      "*** Frequencies O1 PT (MHz)\n",
      "0    4613.168761\n",
      "dtype: float64\n",
      "\n",
      "*** Frequencies ND (MHz)\n",
      "0    4606.449432\n",
      "dtype: float64\n",
      "\n",
      "*** Q_coupling\n",
      "Empty DataFrame\n",
      "Columns: []\n",
      "Index: [0]\n"
     ]
    },
    {
     "data": {
      "text/markdown": [
       "#### Mode frequencies (MHz)"
      ],
      "text/plain": [
       "<IPython.core.display.Markdown object>"
      ]
     },
     "metadata": {},
     "output_type": "display_data"
    },
    {
     "data": {
      "text/markdown": [
       "###### Numerical diagonalization"
      ],
      "text/plain": [
       "<IPython.core.display.Markdown object>"
      ]
     },
     "metadata": {},
     "output_type": "display_data"
    },
    {
     "data": {
      "text/html": [
       "<div>\n",
       "<style scoped>\n",
       "    .dataframe tbody tr th:only-of-type {\n",
       "        vertical-align: middle;\n",
       "    }\n",
       "\n",
       "    .dataframe tbody tr th {\n",
       "        vertical-align: top;\n",
       "    }\n",
       "\n",
       "    .dataframe thead th {\n",
       "        text-align: right;\n",
       "    }\n",
       "</style>\n",
       "<table border=\"1\" class=\"dataframe\">\n",
       "  <thead>\n",
       "    <tr style=\"text-align: right;\">\n",
       "      <th>Lj</th>\n",
       "      <th>10</th>\n",
       "    </tr>\n",
       "  </thead>\n",
       "  <tbody>\n",
       "    <tr>\n",
       "      <th>0</th>\n",
       "      <td>4606.45</td>\n",
       "    </tr>\n",
       "  </tbody>\n",
       "</table>\n",
       "</div>"
      ],
      "text/plain": [
       "Lj       10\n",
       "0   4606.45"
      ]
     },
     "metadata": {},
     "output_type": "display_data"
    },
    {
     "data": {
      "text/markdown": [
       "#### Kerr Non-linear coefficient table (MHz)"
      ],
      "text/plain": [
       "<IPython.core.display.Markdown object>"
      ]
     },
     "metadata": {},
     "output_type": "display_data"
    },
    {
     "data": {
      "text/markdown": [
       "###### Numerical diagonalization"
      ],
      "text/plain": [
       "<IPython.core.display.Markdown object>"
      ]
     },
     "metadata": {},
     "output_type": "display_data"
    },
    {
     "data": {
      "text/html": [
       "<div>\n",
       "<style scoped>\n",
       "    .dataframe tbody tr th:only-of-type {\n",
       "        vertical-align: middle;\n",
       "    }\n",
       "\n",
       "    .dataframe tbody tr th {\n",
       "        vertical-align: top;\n",
       "    }\n",
       "\n",
       "    .dataframe thead th {\n",
       "        text-align: right;\n",
       "    }\n",
       "</style>\n",
       "<table border=\"1\" class=\"dataframe\">\n",
       "  <thead>\n",
       "    <tr style=\"text-align: right;\">\n",
       "      <th></th>\n",
       "      <th></th>\n",
       "      <th>0</th>\n",
       "    </tr>\n",
       "    <tr>\n",
       "      <th>Lj</th>\n",
       "      <th></th>\n",
       "      <th></th>\n",
       "    </tr>\n",
       "  </thead>\n",
       "  <tbody>\n",
       "    <tr>\n",
       "      <th>10</th>\n",
       "      <th>0</th>\n",
       "      <td>186.73</td>\n",
       "    </tr>\n",
       "  </tbody>\n",
       "</table>\n",
       "</div>"
      ],
      "text/plain": [
       "           0\n",
       "Lj          \n",
       "10 0  186.73"
      ]
     },
     "metadata": {},
     "output_type": "display_data"
    },
    {
     "name": "stdout",
     "output_type": "stream",
     "text": [
      "245.0\n",
      "tried1\n"
     ]
    },
    {
     "name": "stderr",
     "output_type": "stream",
     "text": [
      "INFO 10:14PM [connect_design]: \tOpened active design\n",
      "\tDesign:    single_q_hfss [Solution type: Eigenmode]\n",
      "INFO 10:15PM [get_setup]: \tOpened setup `Setup`  (<class 'pyEPR.ansys.HfssEMSetup'>)\n",
      "INFO 10:15PM [analyze]: Analyzing setup Setup\n",
      "10:17PM 55s INFO [get_f_convergence]: Saved convergences to c:\\Users\\slab\\Desktop\\Wendy-qiskit-code\\hfss_eig_f_convergence.csv\n"
     ]
    },
    {
     "name": "stdout",
     "output_type": "stream",
     "text": [
      "saddd\n",
      "Design \"single_q_hfss\" info:\n",
      "\t# eigenmodes    1\n",
      "\t# variations    1\n",
      "Design \"single_q_hfss\" info:\n",
      "\t# eigenmodes    1\n",
      "\t# variations    1\n"
     ]
    },
    {
     "name": "stderr",
     "output_type": "stream",
     "text": [
      "WARNING:py.warnings:c:\\Users\\slab\\anaconda3\\envs\\qmetal\\lib\\site-packages\\pyEPR\\project_info.py:239: FutureWarning: The default dtype for empty Series will be 'object' instead of 'float64' in a future version. Specify a dtype explicitly to silence this warning.\n",
      "  options=pd.Series(get_instance_vars(self.options)),\n",
      "\n"
     ]
    },
    {
     "name": "stdout",
     "output_type": "stream",
     "text": [
      "\n",
      "        energy_elec_all       = 7.52538022754643e-25\n",
      "        energy_elec_substrate = 6.90337668293858e-25\n",
      "        EPR of substrate = 91.7%\n",
      "\n",
      "        energy_mag    = 7.05812620869883e-27\n",
      "        energy_mag % of energy_elec_all  = 0.9%\n",
      "        \n",
      "\n",
      "Variation 0  [1/1]\n"
     ]
    },
    {
     "name": "stderr",
     "output_type": "stream",
     "text": [
      "WARNING:py.warnings:c:\\Users\\slab\\anaconda3\\envs\\qmetal\\lib\\site-packages\\pyEPR\\core_distributed_analysis.py:1101: FutureWarning: The default dtype for empty Series will be 'object' instead of 'float64' in a future version. Specify a dtype explicitly to silence this warning.\n",
      "  Ljs = pd.Series({})\n",
      "\n",
      "WARNING:py.warnings:c:\\Users\\slab\\anaconda3\\envs\\qmetal\\lib\\site-packages\\pyEPR\\core_distributed_analysis.py:1102: FutureWarning: The default dtype for empty Series will be 'object' instead of 'float64' in a future version. Specify a dtype explicitly to silence this warning.\n",
      "  Cjs = pd.Series({})\n",
      "\n",
      "WARNING:py.warnings:c:\\Users\\slab\\anaconda3\\envs\\qmetal\\lib\\site-packages\\pyEPR\\core_distributed_analysis.py:1245: FutureWarning: The default dtype for empty Series will be 'object' instead of 'float64' in a future version. Specify a dtype explicitly to silence this warning.\n",
      "  _Om = pd.Series({})\n",
      "\n"
     ]
    },
    {
     "name": "stdout",
     "output_type": "stream",
     "text": [
      "\n",
      "  \u001b[1mMode 0 at 4.89 GHz   [1/1]\u001b[0m\n",
      "    Calculating ℰ_magnetic,ℰ_electric\n"
     ]
    },
    {
     "name": "stderr",
     "output_type": "stream",
     "text": [
      "WARNING:py.warnings:c:\\Users\\slab\\anaconda3\\envs\\qmetal\\lib\\site-packages\\pyEPR\\core_distributed_analysis.py:981: FutureWarning: The default dtype for empty Series will be 'object' instead of 'float64' in a future version. Specify a dtype explicitly to silence this warning.\n",
      "  Sj = pd.Series({})\n",
      "\n"
     ]
    },
    {
     "name": "stdout",
     "output_type": "stream",
     "text": [
      "       (ℰ_E-ℰ_H)/ℰ_E       ℰ_E       ℰ_H\n",
      "               99.1%  3.763e-25 3.529e-27\n",
      "\n",
      "    Calculating junction energy participation ration (EPR)\n",
      "\tmethod=`line_voltage`. First estimates:\n",
      "\tjunction        EPR p_0j   sign s_0j    (p_capacitive)\n"
     ]
    },
    {
     "name": "stderr",
     "output_type": "stream",
     "text": [
      "WARNING:py.warnings:c:\\Users\\slab\\anaconda3\\envs\\qmetal\\lib\\site-packages\\pyEPR\\core_distributed_analysis.py:933: FutureWarning: The default dtype for empty Series will be 'object' instead of 'float64' in a future version. Specify a dtype explicitly to silence this warning.\n",
      "  Qp = pd.Series({})\n",
      "\n"
     ]
    },
    {
     "name": "stdout",
     "output_type": "stream",
     "text": [
      "\t\tEnergy fraction (Lj over Lj&Cj)= 98.51%\n",
      "\tjj1              1.25016  (+)        0.0188609\n",
      "\t\t(U_tot_cap-U_tot_ind)/mean=-10.56%\n",
      "Calculating Qdielectric_main for mode 0 (0/0)\n"
     ]
    },
    {
     "name": "stderr",
     "output_type": "stream",
     "text": [
      "WARNING:py.warnings:c:\\Users\\slab\\anaconda3\\envs\\qmetal\\lib\\site-packages\\pyEPR\\core_distributed_analysis.py:1307: FutureWarning: The series.append method is deprecated and will be removed from pandas in a future version. Use pandas.concat instead.\n",
      "  sol = sol.append(self.get_Qdielectric(\n",
      "\n"
     ]
    },
    {
     "name": "stdout",
     "output_type": "stream",
     "text": [
      "p_dielectric_main_0 = 0.917345898041002\n"
     ]
    },
    {
     "name": "stderr",
     "output_type": "stream",
     "text": [
      "WARNING:py.warnings:c:\\Users\\slab\\anaconda3\\envs\\qmetal\\lib\\site-packages\\pyEPR\\project_info.py:239: FutureWarning: The default dtype for empty Series will be 'object' instead of 'float64' in a future version. Specify a dtype explicitly to silence this warning.\n",
      "  options=pd.Series(get_instance_vars(self.options)),\n",
      "\n",
      "WARNING 10:18PM [__init__]: <p>Error: <class 'IndexError'></p>\n",
      "ERROR 10:18PM [_get_participation_normalized]: WARNING: U_tot_cap-U_tot_ind / mean = 21.1% is > 15%.                     \n",
      "Is the simulation converged? Proceed with caution\n",
      "ERROR 10:18PM [_get_participation_normalized]: WARNING: U_tot_cap-U_tot_ind / mean = 21.1% is > 15%.                     \n",
      "Is the simulation converged? Proceed with caution\n",
      "WARNING:py.warnings:c:\\Users\\slab\\anaconda3\\envs\\qmetal\\lib\\site-packages\\pyEPR\\core_quantum_analysis.py:712: FutureWarning: Support for multi-dimensional indexing (e.g. `obj[:, None]`) is deprecated and will be removed in a future version.  Convert to a numpy array before indexing instead.\n",
      "  result['Q_coupling'] = self.Qm_coupling[variation][self.Qm_coupling[variation].columns[junctions]][modes]#TODO change the columns to junctions\n",
      "\n",
      "WARNING:py.warnings:c:\\Users\\slab\\anaconda3\\envs\\qmetal\\lib\\site-packages\\pyEPR\\core_quantum_analysis.py:717: FutureWarning: Support for multi-dimensional indexing (e.g. `obj[:, None]`) is deprecated and will be removed in a future version.  Convert to a numpy array before indexing instead.\n",
      "  result['Qs'] = self.Qs[variation][self.PM[variation].columns[junctions]][modes] #TODO change the columns to junctions\n",
      "\n"
     ]
    },
    {
     "name": "stdout",
     "output_type": "stream",
     "text": [
      "\n",
      "ANALYSIS DONE. Data saved to:\n",
      "\n",
      "C:\\data-pyEPR\\Project40\\single_q_hfss\\2023-05-03 22-17-56.npz\n",
      "\n",
      "\n",
      "\t Differences in variations:\n",
      "\n",
      "\n",
      "\n",
      " . . . . . . . . . . . . . . . . . . . . . . . . . . . . . . . . . . . . . . . . \n",
      "Variation 0\n",
      "\n",
      "Starting the diagonalization\n",
      "Finished the diagonalization\n",
      "Pm_norm=\n",
      "modes\n",
      "0    0.808273\n",
      "dtype: float64\n",
      "\n",
      "Pm_norm idx =\n",
      "    jj1\n",
      "0  True\n",
      "*** P (participation matrix, not normlz.)\n",
      "       jj1\n",
      "0  1.22702\n",
      "\n",
      "*** S (sign-bit matrix)\n",
      "   s_jj1\n",
      "0      1\n",
      "*** P (participation matrix, normalized.)\n",
      "      0.99\n",
      "\n",
      "*** Chi matrix O1 PT (MHz)\n",
      "    Diag is anharmonicity, off diag is full cross-Kerr.\n",
      "       144\n",
      "\n",
      "*** Chi matrix ND (MHz) \n",
      "       154\n",
      "\n",
      "*** Frequencies O1 PT (MHz)\n",
      "0    4743.458403\n",
      "dtype: float64\n",
      "\n",
      "*** Frequencies ND (MHz)\n",
      "0    4738.953378\n",
      "dtype: float64\n",
      "\n",
      "*** Q_coupling\n",
      "Empty DataFrame\n",
      "Columns: []\n",
      "Index: [0]\n"
     ]
    },
    {
     "data": {
      "text/markdown": [
       "#### Mode frequencies (MHz)"
      ],
      "text/plain": [
       "<IPython.core.display.Markdown object>"
      ]
     },
     "metadata": {},
     "output_type": "display_data"
    },
    {
     "data": {
      "text/markdown": [
       "###### Numerical diagonalization"
      ],
      "text/plain": [
       "<IPython.core.display.Markdown object>"
      ]
     },
     "metadata": {},
     "output_type": "display_data"
    },
    {
     "data": {
      "text/html": [
       "<div>\n",
       "<style scoped>\n",
       "    .dataframe tbody tr th:only-of-type {\n",
       "        vertical-align: middle;\n",
       "    }\n",
       "\n",
       "    .dataframe tbody tr th {\n",
       "        vertical-align: top;\n",
       "    }\n",
       "\n",
       "    .dataframe thead th {\n",
       "        text-align: right;\n",
       "    }\n",
       "</style>\n",
       "<table border=\"1\" class=\"dataframe\">\n",
       "  <thead>\n",
       "    <tr style=\"text-align: right;\">\n",
       "      <th>Lj</th>\n",
       "      <th>8</th>\n",
       "    </tr>\n",
       "  </thead>\n",
       "  <tbody>\n",
       "    <tr>\n",
       "      <th>0</th>\n",
       "      <td>4738.95</td>\n",
       "    </tr>\n",
       "  </tbody>\n",
       "</table>\n",
       "</div>"
      ],
      "text/plain": [
       "Lj        8\n",
       "0   4738.95"
      ]
     },
     "metadata": {},
     "output_type": "display_data"
    },
    {
     "data": {
      "text/markdown": [
       "#### Kerr Non-linear coefficient table (MHz)"
      ],
      "text/plain": [
       "<IPython.core.display.Markdown object>"
      ]
     },
     "metadata": {},
     "output_type": "display_data"
    },
    {
     "data": {
      "text/markdown": [
       "###### Numerical diagonalization"
      ],
      "text/plain": [
       "<IPython.core.display.Markdown object>"
      ]
     },
     "metadata": {},
     "output_type": "display_data"
    },
    {
     "data": {
      "text/html": [
       "<div>\n",
       "<style scoped>\n",
       "    .dataframe tbody tr th:only-of-type {\n",
       "        vertical-align: middle;\n",
       "    }\n",
       "\n",
       "    .dataframe tbody tr th {\n",
       "        vertical-align: top;\n",
       "    }\n",
       "\n",
       "    .dataframe thead th {\n",
       "        text-align: right;\n",
       "    }\n",
       "</style>\n",
       "<table border=\"1\" class=\"dataframe\">\n",
       "  <thead>\n",
       "    <tr style=\"text-align: right;\">\n",
       "      <th></th>\n",
       "      <th></th>\n",
       "      <th>0</th>\n",
       "    </tr>\n",
       "    <tr>\n",
       "      <th>Lj</th>\n",
       "      <th></th>\n",
       "      <th></th>\n",
       "    </tr>\n",
       "  </thead>\n",
       "  <tbody>\n",
       "    <tr>\n",
       "      <th>8</th>\n",
       "      <th>0</th>\n",
       "      <td>153.53</td>\n",
       "    </tr>\n",
       "  </tbody>\n",
       "</table>\n",
       "</div>"
      ],
      "text/plain": [
       "           0\n",
       "Lj          \n",
       "8  0  153.53"
      ]
     },
     "metadata": {},
     "output_type": "display_data"
    },
    {
     "name": "stdout",
     "output_type": "stream",
     "text": [
      "235.0\n",
      "tried1\n"
     ]
    },
    {
     "name": "stderr",
     "output_type": "stream",
     "text": [
      "INFO 10:18PM [connect_design]: \tOpened active design\n",
      "\tDesign:    single_q_hfss [Solution type: Eigenmode]\n",
      "INFO 10:18PM [get_setup]: \tOpened setup `Setup`  (<class 'pyEPR.ansys.HfssEMSetup'>)\n",
      "INFO 10:18PM [analyze]: Analyzing setup Setup\n",
      "10:21PM 27s INFO [get_f_convergence]: Saved convergences to c:\\Users\\slab\\Desktop\\Wendy-qiskit-code\\hfss_eig_f_convergence.csv\n"
     ]
    },
    {
     "name": "stdout",
     "output_type": "stream",
     "text": [
      "saddd\n",
      "Design \"single_q_hfss\" info:\n",
      "\t# eigenmodes    1\n",
      "\t# variations    1\n",
      "Design \"single_q_hfss\" info:\n",
      "\t# eigenmodes    1\n",
      "\t# variations    1\n"
     ]
    },
    {
     "name": "stderr",
     "output_type": "stream",
     "text": [
      "WARNING:py.warnings:c:\\Users\\slab\\anaconda3\\envs\\qmetal\\lib\\site-packages\\pyEPR\\project_info.py:239: FutureWarning: The default dtype for empty Series will be 'object' instead of 'float64' in a future version. Specify a dtype explicitly to silence this warning.\n",
      "  options=pd.Series(get_instance_vars(self.options)),\n",
      "\n"
     ]
    },
    {
     "name": "stdout",
     "output_type": "stream",
     "text": [
      "\n",
      "        energy_elec_all       = 6.43256479497632e-25\n",
      "        energy_elec_substrate = 5.90269470468812e-25\n",
      "        EPR of substrate = 91.8%\n",
      "\n",
      "        energy_mag    = 6.2354153990562e-27\n",
      "        energy_mag % of energy_elec_all  = 1.0%\n",
      "        \n",
      "\n",
      "Variation 0  [1/1]\n"
     ]
    },
    {
     "name": "stderr",
     "output_type": "stream",
     "text": [
      "WARNING:py.warnings:c:\\Users\\slab\\anaconda3\\envs\\qmetal\\lib\\site-packages\\pyEPR\\core_distributed_analysis.py:1101: FutureWarning: The default dtype for empty Series will be 'object' instead of 'float64' in a future version. Specify a dtype explicitly to silence this warning.\n",
      "  Ljs = pd.Series({})\n",
      "\n",
      "WARNING:py.warnings:c:\\Users\\slab\\anaconda3\\envs\\qmetal\\lib\\site-packages\\pyEPR\\core_distributed_analysis.py:1102: FutureWarning: The default dtype for empty Series will be 'object' instead of 'float64' in a future version. Specify a dtype explicitly to silence this warning.\n",
      "  Cjs = pd.Series({})\n",
      "\n",
      "WARNING:py.warnings:c:\\Users\\slab\\anaconda3\\envs\\qmetal\\lib\\site-packages\\pyEPR\\core_distributed_analysis.py:1245: FutureWarning: The default dtype for empty Series will be 'object' instead of 'float64' in a future version. Specify a dtype explicitly to silence this warning.\n",
      "  _Om = pd.Series({})\n",
      "\n"
     ]
    },
    {
     "name": "stdout",
     "output_type": "stream",
     "text": [
      "\n",
      "  \u001b[1mMode 0 at 4.99 GHz   [1/1]\u001b[0m\n",
      "    Calculating ℰ_magnetic,ℰ_electric\n"
     ]
    },
    {
     "name": "stderr",
     "output_type": "stream",
     "text": [
      "WARNING:py.warnings:c:\\Users\\slab\\anaconda3\\envs\\qmetal\\lib\\site-packages\\pyEPR\\core_distributed_analysis.py:981: FutureWarning: The default dtype for empty Series will be 'object' instead of 'float64' in a future version. Specify a dtype explicitly to silence this warning.\n",
      "  Sj = pd.Series({})\n",
      "\n"
     ]
    },
    {
     "name": "stdout",
     "output_type": "stream",
     "text": [
      "       (ℰ_E-ℰ_H)/ℰ_E       ℰ_E       ℰ_H\n",
      "               99.0%  3.216e-25 3.118e-27\n",
      "\n",
      "    Calculating junction energy participation ration (EPR)\n",
      "\tmethod=`line_voltage`. First estimates:\n",
      "\tjunction        EPR p_0j   sign s_0j    (p_capacitive)\n"
     ]
    },
    {
     "name": "stderr",
     "output_type": "stream",
     "text": [
      "WARNING:py.warnings:c:\\Users\\slab\\anaconda3\\envs\\qmetal\\lib\\site-packages\\pyEPR\\core_distributed_analysis.py:933: FutureWarning: The default dtype for empty Series will be 'object' instead of 'float64' in a future version. Specify a dtype explicitly to silence this warning.\n",
      "  Qp = pd.Series({})\n",
      "\n"
     ]
    },
    {
     "name": "stdout",
     "output_type": "stream",
     "text": [
      "\t\tEnergy fraction (Lj over Lj&Cj)= 98.45%\n",
      "\tjj1              1.26378  (+)        0.0198845\n",
      "\t\t(U_tot_cap-U_tot_ind)/mean=-11.06%\n",
      "Calculating Qdielectric_main for mode 0 (0/0)\n"
     ]
    },
    {
     "name": "stderr",
     "output_type": "stream",
     "text": [
      "WARNING:py.warnings:c:\\Users\\slab\\anaconda3\\envs\\qmetal\\lib\\site-packages\\pyEPR\\core_distributed_analysis.py:1307: FutureWarning: The series.append method is deprecated and will be removed from pandas in a future version. Use pandas.concat instead.\n",
      "  sol = sol.append(self.get_Qdielectric(\n",
      "\n"
     ]
    },
    {
     "name": "stdout",
     "output_type": "stream",
     "text": [
      "p_dielectric_main_0 = 0.917626933085539\n"
     ]
    },
    {
     "name": "stderr",
     "output_type": "stream",
     "text": [
      "WARNING:py.warnings:c:\\Users\\slab\\anaconda3\\envs\\qmetal\\lib\\site-packages\\pyEPR\\project_info.py:239: FutureWarning: The default dtype for empty Series will be 'object' instead of 'float64' in a future version. Specify a dtype explicitly to silence this warning.\n",
      "  options=pd.Series(get_instance_vars(self.options)),\n",
      "\n",
      "WARNING 10:21PM [__init__]: <p>Error: <class 'IndexError'></p>\n",
      "ERROR 10:21PM [_get_participation_normalized]: WARNING: U_tot_cap-U_tot_ind / mean = 22.1% is > 15%.                     \n",
      "Is the simulation converged? Proceed with caution\n",
      "ERROR 10:21PM [_get_participation_normalized]: WARNING: U_tot_cap-U_tot_ind / mean = 22.1% is > 15%.                     \n",
      "Is the simulation converged? Proceed with caution\n",
      "WARNING:py.warnings:c:\\Users\\slab\\anaconda3\\envs\\qmetal\\lib\\site-packages\\pyEPR\\core_quantum_analysis.py:712: FutureWarning: Support for multi-dimensional indexing (e.g. `obj[:, None]`) is deprecated and will be removed in a future version.  Convert to a numpy array before indexing instead.\n",
      "  result['Q_coupling'] = self.Qm_coupling[variation][self.Qm_coupling[variation].columns[junctions]][modes]#TODO change the columns to junctions\n",
      "\n",
      "WARNING:py.warnings:c:\\Users\\slab\\anaconda3\\envs\\qmetal\\lib\\site-packages\\pyEPR\\core_quantum_analysis.py:717: FutureWarning: Support for multi-dimensional indexing (e.g. `obj[:, None]`) is deprecated and will be removed in a future version.  Convert to a numpy array before indexing instead.\n",
      "  result['Qs'] = self.Qs[variation][self.PM[variation].columns[junctions]][modes] #TODO change the columns to junctions\n",
      "\n"
     ]
    },
    {
     "name": "stdout",
     "output_type": "stream",
     "text": [
      "\n",
      "ANALYSIS DONE. Data saved to:\n",
      "\n",
      "C:\\data-pyEPR\\Project40\\single_q_hfss\\2023-05-03 22-21-28.npz\n",
      "\n",
      "\n",
      "\t Differences in variations:\n",
      "\n",
      "\n",
      "\n",
      " . . . . . . . . . . . . . . . . . . . . . . . . . . . . . . . . . . . . . . . . \n",
      "Variation 0\n",
      "\n",
      "Starting the diagonalization\n",
      "Finished the diagonalization\n",
      "Pm_norm=\n",
      "modes\n",
      "0    0.800188\n",
      "dtype: float64\n",
      "\n",
      "Pm_norm idx =\n",
      "    jj1\n",
      "0  True\n",
      "*** P (participation matrix, not normlz.)\n",
      "        jj1\n",
      "0  1.239142\n",
      "\n",
      "*** S (sign-bit matrix)\n",
      "   s_jj1\n",
      "0      1\n",
      "*** P (participation matrix, normalized.)\n",
      "      0.99\n",
      "\n",
      "*** Chi matrix O1 PT (MHz)\n",
      "    Diag is anharmonicity, off diag is full cross-Kerr.\n",
      "       150\n",
      "\n",
      "*** Chi matrix ND (MHz) \n",
      "       160\n",
      "\n",
      "*** Frequencies O1 PT (MHz)\n",
      "0    4841.105814\n",
      "dtype: float64\n",
      "\n",
      "*** Frequencies ND (MHz)\n",
      "0    4836.305931\n",
      "dtype: float64\n",
      "\n",
      "*** Q_coupling\n",
      "Empty DataFrame\n",
      "Columns: []\n",
      "Index: [0]\n"
     ]
    },
    {
     "data": {
      "text/markdown": [
       "#### Mode frequencies (MHz)"
      ],
      "text/plain": [
       "<IPython.core.display.Markdown object>"
      ]
     },
     "metadata": {},
     "output_type": "display_data"
    },
    {
     "data": {
      "text/markdown": [
       "###### Numerical diagonalization"
      ],
      "text/plain": [
       "<IPython.core.display.Markdown object>"
      ]
     },
     "metadata": {},
     "output_type": "display_data"
    },
    {
     "data": {
      "text/html": [
       "<div>\n",
       "<style scoped>\n",
       "    .dataframe tbody tr th:only-of-type {\n",
       "        vertical-align: middle;\n",
       "    }\n",
       "\n",
       "    .dataframe tbody tr th {\n",
       "        vertical-align: top;\n",
       "    }\n",
       "\n",
       "    .dataframe thead th {\n",
       "        text-align: right;\n",
       "    }\n",
       "</style>\n",
       "<table border=\"1\" class=\"dataframe\">\n",
       "  <thead>\n",
       "    <tr style=\"text-align: right;\">\n",
       "      <th>Lj</th>\n",
       "      <th>8</th>\n",
       "    </tr>\n",
       "  </thead>\n",
       "  <tbody>\n",
       "    <tr>\n",
       "      <th>0</th>\n",
       "      <td>4836.31</td>\n",
       "    </tr>\n",
       "  </tbody>\n",
       "</table>\n",
       "</div>"
      ],
      "text/plain": [
       "Lj        8\n",
       "0   4836.31"
      ]
     },
     "metadata": {},
     "output_type": "display_data"
    },
    {
     "data": {
      "text/markdown": [
       "#### Kerr Non-linear coefficient table (MHz)"
      ],
      "text/plain": [
       "<IPython.core.display.Markdown object>"
      ]
     },
     "metadata": {},
     "output_type": "display_data"
    },
    {
     "data": {
      "text/markdown": [
       "###### Numerical diagonalization"
      ],
      "text/plain": [
       "<IPython.core.display.Markdown object>"
      ]
     },
     "metadata": {},
     "output_type": "display_data"
    },
    {
     "data": {
      "text/html": [
       "<div>\n",
       "<style scoped>\n",
       "    .dataframe tbody tr th:only-of-type {\n",
       "        vertical-align: middle;\n",
       "    }\n",
       "\n",
       "    .dataframe tbody tr th {\n",
       "        vertical-align: top;\n",
       "    }\n",
       "\n",
       "    .dataframe thead th {\n",
       "        text-align: right;\n",
       "    }\n",
       "</style>\n",
       "<table border=\"1\" class=\"dataframe\">\n",
       "  <thead>\n",
       "    <tr style=\"text-align: right;\">\n",
       "      <th></th>\n",
       "      <th></th>\n",
       "      <th>0</th>\n",
       "    </tr>\n",
       "    <tr>\n",
       "      <th>Lj</th>\n",
       "      <th></th>\n",
       "      <th></th>\n",
       "    </tr>\n",
       "  </thead>\n",
       "  <tbody>\n",
       "    <tr>\n",
       "      <th>8</th>\n",
       "      <th>0</th>\n",
       "      <td>160.26</td>\n",
       "    </tr>\n",
       "  </tbody>\n",
       "</table>\n",
       "</div>"
      ],
      "text/plain": [
       "           0\n",
       "Lj          \n",
       "8  0  160.26"
      ]
     },
     "metadata": {},
     "output_type": "display_data"
    },
    {
     "name": "stdout",
     "output_type": "stream",
     "text": [
      "238.72932497260945\n",
      "tried1\n"
     ]
    },
    {
     "name": "stderr",
     "output_type": "stream",
     "text": [
      "INFO 10:21PM [connect_design]: \tOpened active design\n",
      "\tDesign:    single_q_hfss [Solution type: Eigenmode]\n",
      "INFO 10:22PM [get_setup]: \tOpened setup `Setup`  (<class 'pyEPR.ansys.HfssEMSetup'>)\n",
      "INFO 10:22PM [analyze]: Analyzing setup Setup\n",
      "10:24PM 32s INFO [get_f_convergence]: Saved convergences to c:\\Users\\slab\\Desktop\\Wendy-qiskit-code\\hfss_eig_f_convergence.csv\n"
     ]
    },
    {
     "name": "stdout",
     "output_type": "stream",
     "text": [
      "saddd\n",
      "Design \"single_q_hfss\" info:\n",
      "\t# eigenmodes    1\n",
      "\t# variations    1\n",
      "Design \"single_q_hfss\" info:\n",
      "\t# eigenmodes    1\n",
      "\t# variations    1\n"
     ]
    },
    {
     "name": "stderr",
     "output_type": "stream",
     "text": [
      "WARNING:py.warnings:c:\\Users\\slab\\anaconda3\\envs\\qmetal\\lib\\site-packages\\pyEPR\\project_info.py:239: FutureWarning: The default dtype for empty Series will be 'object' instead of 'float64' in a future version. Specify a dtype explicitly to silence this warning.\n",
      "  options=pd.Series(get_instance_vars(self.options)),\n",
      "\n"
     ]
    },
    {
     "name": "stdout",
     "output_type": "stream",
     "text": [
      "\n",
      "        energy_elec_all       = 8.1836140966447e-25\n",
      "        energy_elec_substrate = 7.5079440359928e-25\n",
      "        EPR of substrate = 91.7%\n",
      "\n",
      "        energy_mag    = 7.68679230316051e-27\n",
      "        energy_mag % of energy_elec_all  = 0.9%\n",
      "        \n",
      "\n",
      "Variation 0  [1/1]\n"
     ]
    },
    {
     "name": "stderr",
     "output_type": "stream",
     "text": [
      "WARNING:py.warnings:c:\\Users\\slab\\anaconda3\\envs\\qmetal\\lib\\site-packages\\pyEPR\\core_distributed_analysis.py:1101: FutureWarning: The default dtype for empty Series will be 'object' instead of 'float64' in a future version. Specify a dtype explicitly to silence this warning.\n",
      "  Ljs = pd.Series({})\n",
      "\n",
      "WARNING:py.warnings:c:\\Users\\slab\\anaconda3\\envs\\qmetal\\lib\\site-packages\\pyEPR\\core_distributed_analysis.py:1102: FutureWarning: The default dtype for empty Series will be 'object' instead of 'float64' in a future version. Specify a dtype explicitly to silence this warning.\n",
      "  Cjs = pd.Series({})\n",
      "\n",
      "WARNING:py.warnings:c:\\Users\\slab\\anaconda3\\envs\\qmetal\\lib\\site-packages\\pyEPR\\core_distributed_analysis.py:1245: FutureWarning: The default dtype for empty Series will be 'object' instead of 'float64' in a future version. Specify a dtype explicitly to silence this warning.\n",
      "  _Om = pd.Series({})\n",
      "\n"
     ]
    },
    {
     "name": "stdout",
     "output_type": "stream",
     "text": [
      "\n",
      "  \u001b[1mMode 0 at 4.95 GHz   [1/1]\u001b[0m\n",
      "    Calculating ℰ_magnetic,ℰ_electric\n"
     ]
    },
    {
     "name": "stderr",
     "output_type": "stream",
     "text": [
      "WARNING:py.warnings:c:\\Users\\slab\\anaconda3\\envs\\qmetal\\lib\\site-packages\\pyEPR\\core_distributed_analysis.py:981: FutureWarning: The default dtype for empty Series will be 'object' instead of 'float64' in a future version. Specify a dtype explicitly to silence this warning.\n",
      "  Sj = pd.Series({})\n",
      "\n"
     ]
    },
    {
     "name": "stdout",
     "output_type": "stream",
     "text": [
      "       (ℰ_E-ℰ_H)/ℰ_E       ℰ_E       ℰ_H\n",
      "               99.1%  4.092e-25 3.843e-27\n",
      "\n",
      "    Calculating junction energy participation ration (EPR)\n",
      "\tmethod=`line_voltage`. First estimates:\n",
      "\tjunction        EPR p_0j   sign s_0j    (p_capacitive)\n"
     ]
    },
    {
     "name": "stderr",
     "output_type": "stream",
     "text": [
      "WARNING:py.warnings:c:\\Users\\slab\\anaconda3\\envs\\qmetal\\lib\\site-packages\\pyEPR\\core_distributed_analysis.py:933: FutureWarning: The default dtype for empty Series will be 'object' instead of 'float64' in a future version. Specify a dtype explicitly to silence this warning.\n",
      "  Qp = pd.Series({})\n",
      "\n"
     ]
    },
    {
     "name": "stdout",
     "output_type": "stream",
     "text": [
      "\t\tEnergy fraction (Lj over Lj&Cj)= 98.48%\n",
      "\tjj1              1.25863  (+)        0.0194782\n",
      "\t\t(U_tot_cap-U_tot_ind)/mean=-10.87%\n",
      "Calculating Qdielectric_main for mode 0 (0/0)\n"
     ]
    },
    {
     "name": "stderr",
     "output_type": "stream",
     "text": [
      "WARNING:py.warnings:c:\\Users\\slab\\anaconda3\\envs\\qmetal\\lib\\site-packages\\pyEPR\\core_distributed_analysis.py:1307: FutureWarning: The series.append method is deprecated and will be removed from pandas in a future version. Use pandas.concat instead.\n",
      "  sol = sol.append(self.get_Qdielectric(\n",
      "\n"
     ]
    },
    {
     "name": "stdout",
     "output_type": "stream",
     "text": [
      "p_dielectric_main_0 = 0.9174362265042622\n"
     ]
    },
    {
     "name": "stderr",
     "output_type": "stream",
     "text": [
      "WARNING:py.warnings:c:\\Users\\slab\\anaconda3\\envs\\qmetal\\lib\\site-packages\\pyEPR\\project_info.py:239: FutureWarning: The default dtype for empty Series will be 'object' instead of 'float64' in a future version. Specify a dtype explicitly to silence this warning.\n",
      "  options=pd.Series(get_instance_vars(self.options)),\n",
      "\n",
      "WARNING 10:24PM [__init__]: <p>Error: <class 'IndexError'></p>\n",
      "ERROR 10:24PM [_get_participation_normalized]: WARNING: U_tot_cap-U_tot_ind / mean = 21.7% is > 15%.                     \n",
      "Is the simulation converged? Proceed with caution\n",
      "ERROR 10:24PM [_get_participation_normalized]: WARNING: U_tot_cap-U_tot_ind / mean = 21.7% is > 15%.                     \n",
      "Is the simulation converged? Proceed with caution\n",
      "WARNING:py.warnings:c:\\Users\\slab\\anaconda3\\envs\\qmetal\\lib\\site-packages\\pyEPR\\core_quantum_analysis.py:712: FutureWarning: Support for multi-dimensional indexing (e.g. `obj[:, None]`) is deprecated and will be removed in a future version.  Convert to a numpy array before indexing instead.\n",
      "  result['Q_coupling'] = self.Qm_coupling[variation][self.Qm_coupling[variation].columns[junctions]][modes]#TODO change the columns to junctions\n",
      "\n",
      "WARNING:py.warnings:c:\\Users\\slab\\anaconda3\\envs\\qmetal\\lib\\site-packages\\pyEPR\\core_quantum_analysis.py:717: FutureWarning: Support for multi-dimensional indexing (e.g. `obj[:, None]`) is deprecated and will be removed in a future version.  Convert to a numpy array before indexing instead.\n",
      "  result['Qs'] = self.Qs[variation][self.PM[variation].columns[junctions]][modes] #TODO change the columns to junctions\n",
      "\n"
     ]
    },
    {
     "name": "stdout",
     "output_type": "stream",
     "text": [
      "\n",
      "ANALYSIS DONE. Data saved to:\n",
      "\n",
      "C:\\data-pyEPR\\Project40\\single_q_hfss\\2023-05-03 22-24-34.npz\n",
      "\n",
      "\n",
      "\t Differences in variations:\n",
      "\n",
      "\n",
      "\n",
      " . . . . . . . . . . . . . . . . . . . . . . . . . . . . . . . . . . . . . . . . \n",
      "Variation 0\n",
      "\n",
      "Starting the diagonalization\n",
      "Finished the diagonalization\n",
      "Pm_norm=\n",
      "modes\n",
      "0    0.80334\n",
      "dtype: float64\n",
      "\n",
      "Pm_norm idx =\n",
      "    jj1\n",
      "0  True\n",
      "*** P (participation matrix, not normlz.)\n",
      "        jj1\n",
      "0  1.234581\n",
      "\n",
      "*** S (sign-bit matrix)\n",
      "   s_jj1\n",
      "0      1\n",
      "*** P (participation matrix, normalized.)\n",
      "      0.99\n",
      "\n",
      "*** Chi matrix O1 PT (MHz)\n",
      "    Diag is anharmonicity, off diag is full cross-Kerr.\n",
      "       147\n",
      "\n",
      "*** Chi matrix ND (MHz) \n",
      "       158\n",
      "\n",
      "*** Frequencies O1 PT (MHz)\n",
      "0    4802.346977\n",
      "dtype: float64\n",
      "\n",
      "*** Frequencies ND (MHz)\n",
      "0    4797.661723\n",
      "dtype: float64\n",
      "\n",
      "*** Q_coupling\n",
      "Empty DataFrame\n",
      "Columns: []\n",
      "Index: [0]\n"
     ]
    },
    {
     "data": {
      "text/markdown": [
       "#### Mode frequencies (MHz)"
      ],
      "text/plain": [
       "<IPython.core.display.Markdown object>"
      ]
     },
     "metadata": {},
     "output_type": "display_data"
    },
    {
     "data": {
      "text/markdown": [
       "###### Numerical diagonalization"
      ],
      "text/plain": [
       "<IPython.core.display.Markdown object>"
      ]
     },
     "metadata": {},
     "output_type": "display_data"
    },
    {
     "data": {
      "text/html": [
       "<div>\n",
       "<style scoped>\n",
       "    .dataframe tbody tr th:only-of-type {\n",
       "        vertical-align: middle;\n",
       "    }\n",
       "\n",
       "    .dataframe tbody tr th {\n",
       "        vertical-align: top;\n",
       "    }\n",
       "\n",
       "    .dataframe thead th {\n",
       "        text-align: right;\n",
       "    }\n",
       "</style>\n",
       "<table border=\"1\" class=\"dataframe\">\n",
       "  <thead>\n",
       "    <tr style=\"text-align: right;\">\n",
       "      <th>Lj</th>\n",
       "      <th>8</th>\n",
       "    </tr>\n",
       "  </thead>\n",
       "  <tbody>\n",
       "    <tr>\n",
       "      <th>0</th>\n",
       "      <td>4797.66</td>\n",
       "    </tr>\n",
       "  </tbody>\n",
       "</table>\n",
       "</div>"
      ],
      "text/plain": [
       "Lj        8\n",
       "0   4797.66"
      ]
     },
     "metadata": {},
     "output_type": "display_data"
    },
    {
     "data": {
      "text/markdown": [
       "#### Kerr Non-linear coefficient table (MHz)"
      ],
      "text/plain": [
       "<IPython.core.display.Markdown object>"
      ]
     },
     "metadata": {},
     "output_type": "display_data"
    },
    {
     "data": {
      "text/markdown": [
       "###### Numerical diagonalization"
      ],
      "text/plain": [
       "<IPython.core.display.Markdown object>"
      ]
     },
     "metadata": {},
     "output_type": "display_data"
    },
    {
     "data": {
      "text/html": [
       "<div>\n",
       "<style scoped>\n",
       "    .dataframe tbody tr th:only-of-type {\n",
       "        vertical-align: middle;\n",
       "    }\n",
       "\n",
       "    .dataframe tbody tr th {\n",
       "        vertical-align: top;\n",
       "    }\n",
       "\n",
       "    .dataframe thead th {\n",
       "        text-align: right;\n",
       "    }\n",
       "</style>\n",
       "<table border=\"1\" class=\"dataframe\">\n",
       "  <thead>\n",
       "    <tr style=\"text-align: right;\">\n",
       "      <th></th>\n",
       "      <th></th>\n",
       "      <th>0</th>\n",
       "    </tr>\n",
       "    <tr>\n",
       "      <th>Lj</th>\n",
       "      <th></th>\n",
       "      <th></th>\n",
       "    </tr>\n",
       "  </thead>\n",
       "  <tbody>\n",
       "    <tr>\n",
       "      <th>8</th>\n",
       "      <th>0</th>\n",
       "      <td>157.63</td>\n",
       "    </tr>\n",
       "  </tbody>\n",
       "</table>\n",
       "</div>"
      ],
      "text/plain": [
       "           0\n",
       "Lj          \n",
       "8  0  157.63"
      ]
     },
     "metadata": {},
     "output_type": "display_data"
    },
    {
     "name": "stdout",
     "output_type": "stream",
     "text": [
      "237.5306783477464\n",
      "tried1\n"
     ]
    },
    {
     "name": "stderr",
     "output_type": "stream",
     "text": [
      "INFO 10:24PM [connect_design]: \tOpened active design\n",
      "\tDesign:    single_q_hfss [Solution type: Eigenmode]\n"
     ]
    },
    {
     "ename": "KeyboardInterrupt",
     "evalue": "",
     "output_type": "error",
     "traceback": [
      "\u001b[1;31m---------------------------------------------------------------------------\u001b[0m",
      "\u001b[1;31mKeyboardInterrupt\u001b[0m                         Traceback (most recent call last)",
      "\u001b[1;32mc:\\Users\\slab\\Desktop\\Wendy-qiskit-code\\Frequency_fine_tuning.ipynb Cell 36\u001b[0m in \u001b[0;36m8\n\u001b[0;32m      <a href='vscode-notebook-cell:/c%3A/Users/slab/Desktop/Wendy-qiskit-code/Frequency_fine_tuning.ipynb#X52sZmlsZQ%3D%3D?line=4'>5</a>\u001b[0m \u001b[39mdef\u001b[39;00m \u001b[39mf\u001b[39m(size):\n\u001b[0;32m      <a href='vscode-notebook-cell:/c%3A/Users/slab/Desktop/Wendy-qiskit-code/Frequency_fine_tuning.ipynb#X52sZmlsZQ%3D%3D?line=5'>6</a>\u001b[0m     \u001b[39mreturn\u001b[39;00m find_freq(size, i)\n\u001b[1;32m----> <a href='vscode-notebook-cell:/c%3A/Users/slab/Desktop/Wendy-qiskit-code/Frequency_fine_tuning.ipynb#X52sZmlsZQ%3D%3D?line=7'>8</a>\u001b[0m sfinal \u001b[39m=\u001b[39m brentq(f, smin, smax, xtol \u001b[39m=\u001b[39;49m \u001b[39m1e-2\u001b[39;49m, rtol \u001b[39m=\u001b[39;49m \u001b[39m1e-2\u001b[39;49m)\n\u001b[0;32m     <a href='vscode-notebook-cell:/c%3A/Users/slab/Desktop/Wendy-qiskit-code/Frequency_fine_tuning.ipynb#X52sZmlsZQ%3D%3D?line=10'>11</a>\u001b[0m change_size(sfinal,i, path \u001b[39m=\u001b[39m guess_path)\n",
      "File \u001b[1;32mc:\\Users\\slab\\anaconda3\\envs\\qmetal\\lib\\site-packages\\scipy\\optimize\\_zeros_py.py:784\u001b[0m, in \u001b[0;36mbrentq\u001b[1;34m(f, a, b, args, xtol, rtol, maxiter, full_output, disp)\u001b[0m\n\u001b[0;32m    782\u001b[0m \u001b[39mif\u001b[39;00m rtol \u001b[39m<\u001b[39m _rtol:\n\u001b[0;32m    783\u001b[0m     \u001b[39mraise\u001b[39;00m \u001b[39mValueError\u001b[39;00m(\u001b[39m\"\u001b[39m\u001b[39mrtol too small (\u001b[39m\u001b[39m%g\u001b[39;00m\u001b[39m < \u001b[39m\u001b[39m%g\u001b[39;00m\u001b[39m)\u001b[39m\u001b[39m\"\u001b[39m \u001b[39m%\u001b[39m (rtol, _rtol))\n\u001b[1;32m--> 784\u001b[0m r \u001b[39m=\u001b[39m _zeros\u001b[39m.\u001b[39;49m_brentq(f, a, b, xtol, rtol, maxiter, args, full_output, disp)\n\u001b[0;32m    785\u001b[0m \u001b[39mreturn\u001b[39;00m results_c(full_output, r)\n",
      "\u001b[1;32mc:\\Users\\slab\\Desktop\\Wendy-qiskit-code\\Frequency_fine_tuning.ipynb Cell 36\u001b[0m in \u001b[0;36m6\n\u001b[0;32m      <a href='vscode-notebook-cell:/c%3A/Users/slab/Desktop/Wendy-qiskit-code/Frequency_fine_tuning.ipynb#X52sZmlsZQ%3D%3D?line=4'>5</a>\u001b[0m \u001b[39mdef\u001b[39;00m \u001b[39mf\u001b[39m(size):\n\u001b[1;32m----> <a href='vscode-notebook-cell:/c%3A/Users/slab/Desktop/Wendy-qiskit-code/Frequency_fine_tuning.ipynb#X52sZmlsZQ%3D%3D?line=5'>6</a>\u001b[0m     \u001b[39mreturn\u001b[39;00m find_freq(size, i)\n",
      "\u001b[1;32mc:\\Users\\slab\\Desktop\\Wendy-qiskit-code\\Frequency_fine_tuning.ipynb Cell 36\u001b[0m in \u001b[0;36m2\n\u001b[0;32m     <a href='vscode-notebook-cell:/c%3A/Users/slab/Desktop/Wendy-qiskit-code/Frequency_fine_tuning.ipynb#X52sZmlsZQ%3D%3D?line=25'>26</a>\u001b[0m p \u001b[39m=\u001b[39m pocket(gui,design,sim \u001b[39m=\u001b[39m \u001b[39mTrue\u001b[39;00m, options \u001b[39m=\u001b[39m default_options)\n\u001b[0;32m     <a href='vscode-notebook-cell:/c%3A/Users/slab/Desktop/Wendy-qiskit-code/Frequency_fine_tuning.ipynb#X52sZmlsZQ%3D%3D?line=26'>27</a>\u001b[0m gui\u001b[39m.\u001b[39mrebuild()\n\u001b[1;32m---> <a href='vscode-notebook-cell:/c%3A/Users/slab/Desktop/Wendy-qiskit-code/Frequency_fine_tuning.ipynb#X52sZmlsZQ%3D%3D?line=28'>29</a>\u001b[0m eig_all\u001b[39m.\u001b[39;49msim\u001b[39m.\u001b[39;49mrun(name\u001b[39m=\u001b[39;49m\u001b[39m\"\u001b[39;49m\u001b[39msingle_q\u001b[39;49m\u001b[39m\"\u001b[39;49m, components\u001b[39m=\u001b[39;49mcomponents)\n\u001b[0;32m     <a href='vscode-notebook-cell:/c%3A/Users/slab/Desktop/Wendy-qiskit-code/Frequency_fine_tuning.ipynb#X52sZmlsZQ%3D%3D?line=31'>32</a>\u001b[0m convergence \u001b[39m=\u001b[39m pd\u001b[39m.\u001b[39mread_csv(\u001b[39m'\u001b[39m\u001b[39mhfss_eig_f_convergence.csv\u001b[39m\u001b[39m'\u001b[39m)\n\u001b[0;32m     <a href='vscode-notebook-cell:/c%3A/Users/slab/Desktop/Wendy-qiskit-code/Frequency_fine_tuning.ipynb#X52sZmlsZQ%3D%3D?line=32'>33</a>\u001b[0m conv \u001b[39m=\u001b[39m convergence\u001b[39m.\u001b[39mdropna()\n",
      "File \u001b[1;32mc:\\_lib\\python\\qiskit-metal\\qiskit_metal\\analyses\\core\\simulation.py:203\u001b[0m, in \u001b[0;36mQSimulation.run\u001b[1;34m(self, *args, **kwargs)\u001b[0m\n\u001b[0;32m    199\u001b[0m \u001b[39mdef\u001b[39;00m \u001b[39mrun\u001b[39m(\u001b[39mself\u001b[39m, \u001b[39m*\u001b[39margs, \u001b[39m*\u001b[39m\u001b[39m*\u001b[39mkwargs):\n\u001b[0;32m    200\u001b[0m     \u001b[39m\"\"\"Alias for run_sim() necessary to implement super-class method, while\u001b[39;00m\n\u001b[0;32m    201\u001b[0m \u001b[39m    preventing method name collision when sim and non-sim QAnalysis classes are inherited.\u001b[39;00m\n\u001b[0;32m    202\u001b[0m \u001b[39m    \"\"\"\u001b[39;00m\n\u001b[1;32m--> 203\u001b[0m     \u001b[39mself\u001b[39m\u001b[39m.\u001b[39mrun_sim(\u001b[39m*\u001b[39margs, \u001b[39m*\u001b[39m\u001b[39m*\u001b[39mkwargs)\n",
      "File \u001b[1;32mc:\\_lib\\python\\qiskit-metal\\qiskit_metal\\analyses\\simulation\\eigenmode.py:130\u001b[0m, in \u001b[0;36mEigenmodeSim.run_sim\u001b[1;34m(self, name, components, open_terminations, port_list, jj_to_port, ignored_jjs, box_plus_buffer)\u001b[0m\n\u001b[0;32m    127\u001b[0m     \u001b[39mself\u001b[39m\u001b[39m.\u001b[39m_initialize_renderer()\n\u001b[0;32m    129\u001b[0m vars_to_initialize \u001b[39m=\u001b[39m \u001b[39mself\u001b[39m\u001b[39m.\u001b[39msetup\u001b[39m.\u001b[39mvars\n\u001b[1;32m--> 130\u001b[0m renderer_design_name \u001b[39m=\u001b[39m \u001b[39mself\u001b[39;49m\u001b[39m.\u001b[39;49m_render(\n\u001b[0;32m    131\u001b[0m     name\u001b[39m=\u001b[39;49mname,\n\u001b[0;32m    132\u001b[0m     solution_type\u001b[39m=\u001b[39;49m\u001b[39m'\u001b[39;49m\u001b[39meigenmode\u001b[39;49m\u001b[39m'\u001b[39;49m,\n\u001b[0;32m    133\u001b[0m     selection\u001b[39m=\u001b[39;49mcomponents,\n\u001b[0;32m    134\u001b[0m     open_pins\u001b[39m=\u001b[39;49mopen_terminations,\n\u001b[0;32m    135\u001b[0m     port_list\u001b[39m=\u001b[39;49mport_list,\n\u001b[0;32m    136\u001b[0m     jj_to_port\u001b[39m=\u001b[39;49mjj_to_port,\n\u001b[0;32m    137\u001b[0m     ignored_jjs\u001b[39m=\u001b[39;49mignored_jjs,\n\u001b[0;32m    138\u001b[0m     box_plus_buffer\u001b[39m=\u001b[39;49mbox_plus_buffer,\n\u001b[0;32m    139\u001b[0m     vars_to_initialize\u001b[39m=\u001b[39;49mvars_to_initialize)\n\u001b[0;32m    141\u001b[0m \u001b[39mself\u001b[39m\u001b[39m.\u001b[39m_analyze()\n\u001b[0;32m    142\u001b[0m \u001b[39mreturn\u001b[39;00m renderer_design_name, \u001b[39mself\u001b[39m\u001b[39m.\u001b[39msim_setup_name\n",
      "File \u001b[1;32mc:\\_lib\\python\\qiskit-metal\\qiskit_metal\\analyses\\core\\simulation.py:167\u001b[0m, in \u001b[0;36mQSimulation._render\u001b[1;34m(self, solution_type, vars_to_initialize, **design_selection)\u001b[0m\n\u001b[0;32m    165\u001b[0m     \u001b[39mdel\u001b[39;00m design_selection[\u001b[39m\"\u001b[39m\u001b[39mname\u001b[39m\u001b[39m\"\u001b[39m]\n\u001b[0;32m    166\u001b[0m design_name \u001b[39m=\u001b[39m base_name \u001b[39m+\u001b[39m \u001b[39m\"\u001b[39m\u001b[39m_\u001b[39m\u001b[39m\"\u001b[39m \u001b[39m+\u001b[39m \u001b[39mself\u001b[39m\u001b[39m.\u001b[39mrenderer_name\n\u001b[1;32m--> 167\u001b[0m design_name \u001b[39m=\u001b[39m \u001b[39mself\u001b[39m\u001b[39m.\u001b[39mrenderer\u001b[39m.\u001b[39mexecute_design(\n\u001b[0;32m    168\u001b[0m     design_name,\n\u001b[0;32m    169\u001b[0m     solution_type\u001b[39m=\u001b[39msolution_type,\n\u001b[0;32m    170\u001b[0m     force_redraw\u001b[39m=\u001b[39m\u001b[39mself\u001b[39m\u001b[39m.\u001b[39msetup\u001b[39m.\u001b[39mreuse_selected_design,\n\u001b[0;32m    171\u001b[0m     vars_to_initialize\u001b[39m=\u001b[39mvars_to_initialize,\n\u001b[0;32m    172\u001b[0m     \u001b[39m*\u001b[39m\u001b[39m*\u001b[39mdesign_selection)\n\u001b[0;32m    173\u001b[0m \u001b[39mreturn\u001b[39;00m design_name\n",
      "File \u001b[1;32mc:\\_lib\\python\\qiskit-metal\\qiskit_metal\\renderers\\renderer_ansys\\ansys_renderer.py:757\u001b[0m, in \u001b[0;36mQAnsysRenderer.execute_design\u001b[1;34m(self, design_name, solution_type, vars_to_initialize, force_redraw, **design_selection)\u001b[0m\n\u001b[0;32m    754\u001b[0m     \u001b[39mself\u001b[39m\u001b[39m.\u001b[39mnew_ansys_design(design_name, solution_type)\n\u001b[0;32m    756\u001b[0m \u001b[39mself\u001b[39m\u001b[39m.\u001b[39mset_variables(vars_to_initialize)\n\u001b[1;32m--> 757\u001b[0m \u001b[39mself\u001b[39m\u001b[39m.\u001b[39mrender_design(\u001b[39m*\u001b[39m\u001b[39m*\u001b[39mdesign_selection)\n\u001b[0;32m    758\u001b[0m \u001b[39mreturn\u001b[39;00m \u001b[39mself\u001b[39m\u001b[39m.\u001b[39mpinfo\u001b[39m.\u001b[39mdesign\u001b[39m.\u001b[39mname\n",
      "File \u001b[1;32mc:\\_lib\\python\\qiskit-metal\\qiskit_metal\\renderers\\renderer_ansys\\hfss_renderer.py:182\u001b[0m, in \u001b[0;36mQHFSSRenderer.render_design\u001b[1;34m(self, selection, open_pins, port_list, jj_to_port, ignored_jjs, box_plus_buffer)\u001b[0m\n\u001b[0;32m    179\u001b[0m \u001b[39mif\u001b[39;00m ignored_jjs:\n\u001b[0;32m    180\u001b[0m     \u001b[39mself\u001b[39m\u001b[39m.\u001b[39mjj_to_ignore \u001b[39m=\u001b[39m {(qcomp, qelt) \u001b[39mfor\u001b[39;00m qcomp, qelt \u001b[39min\u001b[39;00m ignored_jjs}\n\u001b[1;32m--> 182\u001b[0m \u001b[39mself\u001b[39;49m\u001b[39m.\u001b[39;49mrender_tables()\n\u001b[0;32m    183\u001b[0m \u001b[39mif\u001b[39;00m port_list:\n\u001b[0;32m    184\u001b[0m     \u001b[39mself\u001b[39m\u001b[39m.\u001b[39madd_endcaps(open_pins \u001b[39m+\u001b[39m\n\u001b[0;32m    185\u001b[0m                      [(qcomp, pin) \u001b[39mfor\u001b[39;00m qcomp, pin, _ \u001b[39min\u001b[39;00m port_list])\n",
      "File \u001b[1;32mc:\\_lib\\python\\qiskit-metal\\qiskit_metal\\renderers\\renderer_ansys\\ansys_renderer.py:1053\u001b[0m, in \u001b[0;36mQAnsysRenderer.render_tables\u001b[1;34m(self, skip_junction)\u001b[0m\n\u001b[0;32m   1051\u001b[0m \u001b[39mfor\u001b[39;00m table_type \u001b[39min\u001b[39;00m \u001b[39mself\u001b[39m\u001b[39m.\u001b[39mdesign\u001b[39m.\u001b[39mqgeometry\u001b[39m.\u001b[39mget_element_types():\n\u001b[0;32m   1052\u001b[0m     \u001b[39mif\u001b[39;00m table_type \u001b[39m!=\u001b[39m \u001b[39m\"\u001b[39m\u001b[39mjunction\u001b[39m\u001b[39m\"\u001b[39m \u001b[39mor\u001b[39;00m \u001b[39mnot\u001b[39;00m skip_junction:\n\u001b[1;32m-> 1053\u001b[0m         \u001b[39mself\u001b[39;49m\u001b[39m.\u001b[39;49mrender_components(table_type)\n",
      "File \u001b[1;32mc:\\_lib\\python\\qiskit-metal\\qiskit_metal\\renderers\\renderer_ansys\\ansys_renderer.py:1072\u001b[0m, in \u001b[0;36mQAnsysRenderer.render_components\u001b[1;34m(self, table_type)\u001b[0m\n\u001b[0;32m   1069\u001b[0m     \u001b[39mself\u001b[39m\u001b[39m.\u001b[39mrender_element(qgeom, \u001b[39mbool\u001b[39m(table_type \u001b[39m==\u001b[39m \u001b[39m\"\u001b[39m\u001b[39mjunction\u001b[39m\u001b[39m\"\u001b[39m))\n\u001b[0;32m   1071\u001b[0m \u001b[39mif\u001b[39;00m table_type \u001b[39m==\u001b[39m \u001b[39m\"\u001b[39m\u001b[39mpath\u001b[39m\u001b[39m\"\u001b[39m:\n\u001b[1;32m-> 1072\u001b[0m     \u001b[39mself\u001b[39;49m\u001b[39m.\u001b[39;49mauto_wirebonds(table)\n",
      "File \u001b[1;32mc:\\_lib\\python\\qiskit-metal\\qiskit_metal\\renderers\\renderer_ansys\\ansys_renderer.py:1638\u001b[0m, in \u001b[0;36mQAnsysRenderer.auto_wirebonds\u001b[1;34m(self, table)\u001b[0m\n\u001b[0;32m   1635\u001b[0m \u001b[39m# Other input values could be modified, kept to minimal selection for automation\u001b[39;00m\n\u001b[0;32m   1636\u001b[0m \u001b[39m# for the time being. Loops to place N wirebonds based on length of path section.\u001b[39;00m\n\u001b[0;32m   1637\u001b[0m \u001b[39mfor\u001b[39;00m wb_i \u001b[39min\u001b[39;00m \u001b[39mrange\u001b[39m(wb_count):\n\u001b[1;32m-> 1638\u001b[0m     \u001b[39mself\u001b[39;49m\u001b[39m.\u001b[39;49mmodeler\u001b[39m.\u001b[39;49mdraw_wirebond(\n\u001b[0;32m   1639\u001b[0m         pos\u001b[39m=\u001b[39;49mwb_pos_step \u001b[39m+\u001b[39;49m parse_units(wb_pos \u001b[39m*\u001b[39;49m wb_i),\n\u001b[0;32m   1640\u001b[0m         ori\u001b[39m=\u001b[39;49mwb_perp,\n\u001b[0;32m   1641\u001b[0m         width\u001b[39m=\u001b[39;49mparse_units(width \u001b[39m*\u001b[39;49m \u001b[39mself\u001b[39;49m\u001b[39m.\u001b[39;49m_options[\u001b[39m\"\u001b[39;49m\u001b[39mwb_size\u001b[39;49m\u001b[39m\"\u001b[39;49m]),\n\u001b[0;32m   1642\u001b[0m         height\u001b[39m=\u001b[39;49mparse_units(width \u001b[39m*\u001b[39;49m\n\u001b[0;32m   1643\u001b[0m                            \u001b[39mself\u001b[39;49m\u001b[39m.\u001b[39;49m_options[\u001b[39m\"\u001b[39;49m\u001b[39mwb_height\u001b[39;49m\u001b[39m\"\u001b[39;49m]),\n\u001b[0;32m   1644\u001b[0m         z\u001b[39m=\u001b[39;49m\u001b[39m0\u001b[39;49m,\n\u001b[0;32m   1645\u001b[0m         wire_diameter\u001b[39m=\u001b[39;49m\u001b[39m\"\u001b[39;49m\u001b[39m0.015mm\u001b[39;49m\u001b[39m\"\u001b[39;49m,\n\u001b[0;32m   1646\u001b[0m         NumSides\u001b[39m=\u001b[39;49m\u001b[39m6\u001b[39;49m,\n\u001b[0;32m   1647\u001b[0m         name\u001b[39m=\u001b[39;49m\u001b[39m\"\u001b[39;49m\u001b[39mg_wb\u001b[39;49m\u001b[39m\"\u001b[39;49m,\n\u001b[0;32m   1648\u001b[0m         material\u001b[39m=\u001b[39;49m\u001b[39m\"\u001b[39;49m\u001b[39mpec\u001b[39;49m\u001b[39m\"\u001b[39;49m,\n\u001b[0;32m   1649\u001b[0m         solve_inside\u001b[39m=\u001b[39;49m\u001b[39mFalse\u001b[39;49;00m,\n\u001b[0;32m   1650\u001b[0m     )\n",
      "File \u001b[1;32mc:\\Users\\slab\\anaconda3\\envs\\qmetal\\lib\\site-packages\\pyEPR\\ansys.py:2318\u001b[0m, in \u001b[0;36mHfssModeler.draw_wirebond\u001b[1;34m(self, pos, ori, width, height, z, wire_diameter, NumSides, **kwargs)\u001b[0m\n\u001b[0;32m   2316\u001b[0m o \u001b[39m=\u001b[39m np\u001b[39m.\u001b[39marray(ori)\n\u001b[0;32m   2317\u001b[0m pad1 \u001b[39m=\u001b[39m p \u001b[39m-\u001b[39m o \u001b[39m*\u001b[39m width \u001b[39m/\u001b[39m \u001b[39m2.\u001b[39m\n\u001b[1;32m-> 2318\u001b[0m name \u001b[39m=\u001b[39m \u001b[39mself\u001b[39;49m\u001b[39m.\u001b[39;49m_modeler\u001b[39m.\u001b[39;49mCreateBondwire([\n\u001b[0;32m   2319\u001b[0m     \u001b[39m\"\u001b[39;49m\u001b[39mNAME:BondwireParameters\u001b[39;49m\u001b[39m\"\u001b[39;49m, \u001b[39m\"\u001b[39;49m\u001b[39mWireType:=\u001b[39;49m\u001b[39m\"\u001b[39;49m, \u001b[39m\"\u001b[39;49m\u001b[39mLow\u001b[39;49m\u001b[39m\"\u001b[39;49m, \u001b[39m\"\u001b[39;49m\u001b[39mWireDiameter:=\u001b[39;49m\u001b[39m\"\u001b[39;49m,\n\u001b[0;32m   2320\u001b[0m     wire_diameter, \u001b[39m\"\u001b[39;49m\u001b[39mNumSides:=\u001b[39;49m\u001b[39m\"\u001b[39;49m, NumSides, \u001b[39m\"\u001b[39;49m\u001b[39mXPadPos:=\u001b[39;49m\u001b[39m\"\u001b[39;49m, pad1[\u001b[39m0\u001b[39;49m],\n\u001b[0;32m   2321\u001b[0m     \u001b[39m\"\u001b[39;49m\u001b[39mYPadPos:=\u001b[39;49m\u001b[39m\"\u001b[39;49m, pad1[\u001b[39m1\u001b[39;49m], \u001b[39m\"\u001b[39;49m\u001b[39mZPadPos:=\u001b[39;49m\u001b[39m\"\u001b[39;49m, z, \u001b[39m\"\u001b[39;49m\u001b[39mXDir:=\u001b[39;49m\u001b[39m\"\u001b[39;49m, ori[\u001b[39m0\u001b[39;49m], \u001b[39m\"\u001b[39;49m\u001b[39mYDir:=\u001b[39;49m\u001b[39m\"\u001b[39;49m,\n\u001b[0;32m   2322\u001b[0m     ori[\u001b[39m1\u001b[39;49m], \u001b[39m\"\u001b[39;49m\u001b[39mZDir:=\u001b[39;49m\u001b[39m\"\u001b[39;49m, \u001b[39m0\u001b[39;49m, \u001b[39m\"\u001b[39;49m\u001b[39mDistance:=\u001b[39;49m\u001b[39m\"\u001b[39;49m, width, \u001b[39m\"\u001b[39;49m\u001b[39mh1:=\u001b[39;49m\u001b[39m\"\u001b[39;49m, height, \u001b[39m\"\u001b[39;49m\u001b[39mh2:=\u001b[39;49m\u001b[39m\"\u001b[39;49m,\n\u001b[0;32m   2323\u001b[0m     \u001b[39m\"\u001b[39;49m\u001b[39m0mm\u001b[39;49m\u001b[39m\"\u001b[39;49m, \u001b[39m\"\u001b[39;49m\u001b[39malpha:=\u001b[39;49m\u001b[39m\"\u001b[39;49m, \u001b[39m\"\u001b[39;49m\u001b[39m80deg\u001b[39;49m\u001b[39m\"\u001b[39;49m, \u001b[39m\"\u001b[39;49m\u001b[39mbeta:=\u001b[39;49m\u001b[39m\"\u001b[39;49m, \u001b[39m\"\u001b[39;49m\u001b[39m80deg\u001b[39;49m\u001b[39m\"\u001b[39;49m, \u001b[39m\"\u001b[39;49m\u001b[39mWhichAxis:=\u001b[39;49m\u001b[39m\"\u001b[39;49m, \u001b[39m\"\u001b[39;49m\u001b[39mZ\u001b[39;49m\u001b[39m\"\u001b[39;49m\n\u001b[0;32m   2324\u001b[0m ], \u001b[39mself\u001b[39;49m\u001b[39m.\u001b[39;49m_attributes_array(\u001b[39m*\u001b[39;49m\u001b[39m*\u001b[39;49mkwargs))\n\u001b[0;32m   2326\u001b[0m \u001b[39mreturn\u001b[39;00m name\n",
      "File \u001b[1;32m<COMObject SetActiveEditor>:3\u001b[0m, in \u001b[0;36mCreateBondwire\u001b[1;34m(self, argParamters, argAttributes)\u001b[0m\n",
      "\u001b[1;31mKeyboardInterrupt\u001b[0m: "
     ]
    },
    {
     "name": "stderr",
     "output_type": "stream",
     "text": [
      "10:24PM 54s CRITICAL [_qt_message_handler]: line: 0, func: None(), file: None  CRITICAL: QEventDispatcherWin32::wakeUp: Failed to post a message (Not enough quota is available to process this command.)\n",
      "\n",
      "10:24PM 54s CRITICAL [_qt_message_handler]: line: 0, func: None(), file: None  CRITICAL: QEventDispatcherWin32::wakeUp: Failed to post a message (Not enough quota is available to process this command.)\n",
      "\n"
     ]
    }
   ],
   "source": [
    "for i in range(10):\n",
    "    \n",
    "    smin, smax= lims[i]\n",
    "    data = pd.DataFrame()\n",
    "    def f(size):\n",
    "        return find_freq(size, i)\n",
    "    \n",
    "    sfinal = brentq(f, smin, smax, xtol = 1e-2, rtol = 1e-2)\n",
    "    \n",
    "    \n",
    "    change_size(sfinal,i, path = guess_path)\n",
    "    \n",
    "    \n",
    "    "
   ]
  },
  {
   "attachments": {},
   "cell_type": "markdown",
   "metadata": {},
   "source": [
    "end"
   ]
  },
  {
   "attachments": {},
   "cell_type": "markdown",
   "metadata": {},
   "source": [
    "Sort data"
   ]
  },
  {
   "cell_type": "code",
   "execution_count": 37,
   "metadata": {},
   "outputs": [],
   "source": [
    "data = pd.read_csv(test_path)"
   ]
  },
  {
   "cell_type": "code",
   "execution_count": 38,
   "metadata": {},
   "outputs": [
    {
     "data": {
      "text/html": [
       "<div>\n",
       "<style scoped>\n",
       "    .dataframe tbody tr th:only-of-type {\n",
       "        vertical-align: middle;\n",
       "    }\n",
       "\n",
       "    .dataframe tbody tr th {\n",
       "        vertical-align: top;\n",
       "    }\n",
       "\n",
       "    .dataframe thead th {\n",
       "        text-align: right;\n",
       "    }\n",
       "</style>\n",
       "<table border=\"1\" class=\"dataframe\">\n",
       "  <thead>\n",
       "    <tr style=\"text-align: right;\">\n",
       "      <th></th>\n",
       "      <th>Unnamed: 0.64</th>\n",
       "      <th>Unnamed: 0.63</th>\n",
       "      <th>Unnamed: 0.62</th>\n",
       "      <th>Unnamed: 0.61</th>\n",
       "      <th>Unnamed: 0.60</th>\n",
       "      <th>Unnamed: 0.59</th>\n",
       "      <th>Unnamed: 0.58</th>\n",
       "      <th>Unnamed: 0.57</th>\n",
       "      <th>Unnamed: 0.56</th>\n",
       "      <th>Unnamed: 0.55</th>\n",
       "      <th>...</th>\n",
       "      <th>TQy</th>\n",
       "      <th>Small</th>\n",
       "      <th>TQ_mir</th>\n",
       "      <th>CPW_freq_predict(GHz)</th>\n",
       "      <th>Coupling_len(um)</th>\n",
       "      <th>Coupling_len</th>\n",
       "      <th>Coupling_gap(um)</th>\n",
       "      <th>Coupling_gap_feedline(um)</th>\n",
       "      <th>Sizes (um)</th>\n",
       "      <th>Buffers (um)</th>\n",
       "    </tr>\n",
       "  </thead>\n",
       "  <tbody>\n",
       "    <tr>\n",
       "      <th>0</th>\n",
       "      <td>0</td>\n",
       "      <td>0</td>\n",
       "      <td>0</td>\n",
       "      <td>0</td>\n",
       "      <td>0</td>\n",
       "      <td>0</td>\n",
       "      <td>0</td>\n",
       "      <td>0</td>\n",
       "      <td>0</td>\n",
       "      <td>0</td>\n",
       "      <td>...</td>\n",
       "      <td>0.45mm</td>\n",
       "      <td>False</td>\n",
       "      <td>True</td>\n",
       "      <td>6.401282</td>\n",
       "      <td>47</td>\n",
       "      <td>47um</td>\n",
       "      <td>15</td>\n",
       "      <td>1.25</td>\n",
       "      <td>250.000000</td>\n",
       "      <td>212.000000</td>\n",
       "    </tr>\n",
       "    <tr>\n",
       "      <th>1</th>\n",
       "      <td>1</td>\n",
       "      <td>1</td>\n",
       "      <td>1</td>\n",
       "      <td>1</td>\n",
       "      <td>1</td>\n",
       "      <td>1</td>\n",
       "      <td>1</td>\n",
       "      <td>1</td>\n",
       "      <td>1</td>\n",
       "      <td>1</td>\n",
       "      <td>...</td>\n",
       "      <td>0.44mm</td>\n",
       "      <td>False</td>\n",
       "      <td>True</td>\n",
       "      <td>6.689526</td>\n",
       "      <td>40</td>\n",
       "      <td>40um</td>\n",
       "      <td>15</td>\n",
       "      <td>1.54</td>\n",
       "      <td>235.000000</td>\n",
       "      <td>200.000000</td>\n",
       "    </tr>\n",
       "    <tr>\n",
       "      <th>2</th>\n",
       "      <td>2</td>\n",
       "      <td>2</td>\n",
       "      <td>2</td>\n",
       "      <td>2</td>\n",
       "      <td>2</td>\n",
       "      <td>2</td>\n",
       "      <td>2</td>\n",
       "      <td>2</td>\n",
       "      <td>2</td>\n",
       "      <td>2</td>\n",
       "      <td>...</td>\n",
       "      <td>0.43mm</td>\n",
       "      <td>False</td>\n",
       "      <td>True</td>\n",
       "      <td>6.796263</td>\n",
       "      <td>24</td>\n",
       "      <td>24um</td>\n",
       "      <td>15</td>\n",
       "      <td>1.86</td>\n",
       "      <td>235.170778</td>\n",
       "      <td>189.829222</td>\n",
       "    </tr>\n",
       "    <tr>\n",
       "      <th>3</th>\n",
       "      <td>3</td>\n",
       "      <td>3</td>\n",
       "      <td>3</td>\n",
       "      <td>3</td>\n",
       "      <td>3</td>\n",
       "      <td>3</td>\n",
       "      <td>3</td>\n",
       "      <td>3</td>\n",
       "      <td>3</td>\n",
       "      <td>3</td>\n",
       "      <td>...</td>\n",
       "      <td>0.5mm</td>\n",
       "      <td>True</td>\n",
       "      <td>False</td>\n",
       "      <td>6.993693</td>\n",
       "      <td>47</td>\n",
       "      <td>47um</td>\n",
       "      <td>15</td>\n",
       "      <td>2.19</td>\n",
       "      <td>213.630207</td>\n",
       "      <td>281.369793</td>\n",
       "    </tr>\n",
       "    <tr>\n",
       "      <th>4</th>\n",
       "      <td>4</td>\n",
       "      <td>4</td>\n",
       "      <td>4</td>\n",
       "      <td>4</td>\n",
       "      <td>4</td>\n",
       "      <td>4</td>\n",
       "      <td>4</td>\n",
       "      <td>4</td>\n",
       "      <td>4</td>\n",
       "      <td>4</td>\n",
       "      <td>...</td>\n",
       "      <td>0.458mm</td>\n",
       "      <td>True</td>\n",
       "      <td>False</td>\n",
       "      <td>7.212317</td>\n",
       "      <td>30</td>\n",
       "      <td>30um</td>\n",
       "      <td>15</td>\n",
       "      <td>2.54</td>\n",
       "      <td>239.691228</td>\n",
       "      <td>241.308772</td>\n",
       "    </tr>\n",
       "    <tr>\n",
       "      <th>5</th>\n",
       "      <td>5</td>\n",
       "      <td>5</td>\n",
       "      <td>5</td>\n",
       "      <td>5</td>\n",
       "      <td>5</td>\n",
       "      <td>5</td>\n",
       "      <td>5</td>\n",
       "      <td>5</td>\n",
       "      <td>5</td>\n",
       "      <td>5</td>\n",
       "      <td>...</td>\n",
       "      <td>0.45mm</td>\n",
       "      <td>True</td>\n",
       "      <td>False</td>\n",
       "      <td>7.495441</td>\n",
       "      <td>27</td>\n",
       "      <td>27um</td>\n",
       "      <td>15</td>\n",
       "      <td>2.88</td>\n",
       "      <td>217.752168</td>\n",
       "      <td>239.247832</td>\n",
       "    </tr>\n",
       "    <tr>\n",
       "      <th>6</th>\n",
       "      <td>6</td>\n",
       "      <td>6</td>\n",
       "      <td>6</td>\n",
       "      <td>6</td>\n",
       "      <td>6</td>\n",
       "      <td>6</td>\n",
       "      <td>6</td>\n",
       "      <td>6</td>\n",
       "      <td>6</td>\n",
       "      <td>6</td>\n",
       "      <td>...</td>\n",
       "      <td>0.46mm</td>\n",
       "      <td>True</td>\n",
       "      <td>False</td>\n",
       "      <td>7.593559</td>\n",
       "      <td>25</td>\n",
       "      <td>25um</td>\n",
       "      <td>15</td>\n",
       "      <td>3.25</td>\n",
       "      <td>200.242799</td>\n",
       "      <td>244.757201</td>\n",
       "    </tr>\n",
       "    <tr>\n",
       "      <th>7</th>\n",
       "      <td>7</td>\n",
       "      <td>7</td>\n",
       "      <td>7</td>\n",
       "      <td>7</td>\n",
       "      <td>7</td>\n",
       "      <td>7</td>\n",
       "      <td>7</td>\n",
       "      <td>7</td>\n",
       "      <td>7</td>\n",
       "      <td>7</td>\n",
       "      <td>...</td>\n",
       "      <td>0.46mm</td>\n",
       "      <td>True</td>\n",
       "      <td>False</td>\n",
       "      <td>7.799704</td>\n",
       "      <td>23</td>\n",
       "      <td>23um</td>\n",
       "      <td>15</td>\n",
       "      <td>3.61</td>\n",
       "      <td>236.923095</td>\n",
       "      <td>198.076905</td>\n",
       "    </tr>\n",
       "    <tr>\n",
       "      <th>8</th>\n",
       "      <td>8</td>\n",
       "      <td>8</td>\n",
       "      <td>8</td>\n",
       "      <td>8</td>\n",
       "      <td>8</td>\n",
       "      <td>8</td>\n",
       "      <td>8</td>\n",
       "      <td>8</td>\n",
       "      <td>8</td>\n",
       "      <td>8</td>\n",
       "      <td>...</td>\n",
       "      <td>0.44mm</td>\n",
       "      <td>True</td>\n",
       "      <td>False</td>\n",
       "      <td>8.006815</td>\n",
       "      <td>25</td>\n",
       "      <td>25um</td>\n",
       "      <td>20</td>\n",
       "      <td>3.99</td>\n",
       "      <td>217.997190</td>\n",
       "      <td>200.002810</td>\n",
       "    </tr>\n",
       "    <tr>\n",
       "      <th>9</th>\n",
       "      <td>9</td>\n",
       "      <td>9</td>\n",
       "      <td>9</td>\n",
       "      <td>9</td>\n",
       "      <td>9</td>\n",
       "      <td>9</td>\n",
       "      <td>9</td>\n",
       "      <td>9</td>\n",
       "      <td>9</td>\n",
       "      <td>9</td>\n",
       "      <td>...</td>\n",
       "      <td>0.45mm</td>\n",
       "      <td>True</td>\n",
       "      <td>False</td>\n",
       "      <td>8.204176</td>\n",
       "      <td>30</td>\n",
       "      <td>30um</td>\n",
       "      <td>20</td>\n",
       "      <td>4.36</td>\n",
       "      <td>200.537671</td>\n",
       "      <td>245.462329</td>\n",
       "    </tr>\n",
       "  </tbody>\n",
       "</table>\n",
       "<p>10 rows × 80 columns</p>\n",
       "</div>"
      ],
      "text/plain": [
       "   Unnamed: 0.64  Unnamed: 0.63  Unnamed: 0.62  Unnamed: 0.61  Unnamed: 0.60  \\\n",
       "0              0              0              0              0              0   \n",
       "1              1              1              1              1              1   \n",
       "2              2              2              2              2              2   \n",
       "3              3              3              3              3              3   \n",
       "4              4              4              4              4              4   \n",
       "5              5              5              5              5              5   \n",
       "6              6              6              6              6              6   \n",
       "7              7              7              7              7              7   \n",
       "8              8              8              8              8              8   \n",
       "9              9              9              9              9              9   \n",
       "\n",
       "   Unnamed: 0.59  Unnamed: 0.58  Unnamed: 0.57  Unnamed: 0.56  Unnamed: 0.55  \\\n",
       "0              0              0              0              0              0   \n",
       "1              1              1              1              1              1   \n",
       "2              2              2              2              2              2   \n",
       "3              3              3              3              3              3   \n",
       "4              4              4              4              4              4   \n",
       "5              5              5              5              5              5   \n",
       "6              6              6              6              6              6   \n",
       "7              7              7              7              7              7   \n",
       "8              8              8              8              8              8   \n",
       "9              9              9              9              9              9   \n",
       "\n",
       "   ...      TQy  Small  TQ_mir  CPW_freq_predict(GHz)  Coupling_len(um)  \\\n",
       "0  ...   0.45mm  False    True               6.401282                47   \n",
       "1  ...   0.44mm  False    True               6.689526                40   \n",
       "2  ...   0.43mm  False    True               6.796263                24   \n",
       "3  ...    0.5mm   True   False               6.993693                47   \n",
       "4  ...  0.458mm   True   False               7.212317                30   \n",
       "5  ...   0.45mm   True   False               7.495441                27   \n",
       "6  ...   0.46mm   True   False               7.593559                25   \n",
       "7  ...   0.46mm   True   False               7.799704                23   \n",
       "8  ...   0.44mm   True   False               8.006815                25   \n",
       "9  ...   0.45mm   True   False               8.204176                30   \n",
       "\n",
       "   Coupling_len  Coupling_gap(um)  Coupling_gap_feedline(um)  Sizes (um)  \\\n",
       "0          47um                15                       1.25  250.000000   \n",
       "1          40um                15                       1.54  235.000000   \n",
       "2          24um                15                       1.86  235.170778   \n",
       "3          47um                15                       2.19  213.630207   \n",
       "4          30um                15                       2.54  239.691228   \n",
       "5          27um                15                       2.88  217.752168   \n",
       "6          25um                15                       3.25  200.242799   \n",
       "7          23um                15                       3.61  236.923095   \n",
       "8          25um                20                       3.99  217.997190   \n",
       "9          30um                20                       4.36  200.537671   \n",
       "\n",
       "   Buffers (um)  \n",
       "0    212.000000  \n",
       "1    200.000000  \n",
       "2    189.829222  \n",
       "3    281.369793  \n",
       "4    241.308772  \n",
       "5    239.247832  \n",
       "6    244.757201  \n",
       "7    198.076905  \n",
       "8    200.002810  \n",
       "9    245.462329  \n",
       "\n",
       "[10 rows x 80 columns]"
      ]
     },
     "execution_count": 38,
     "metadata": {},
     "output_type": "execute_result"
    }
   ],
   "source": [
    "data"
   ]
  },
  {
   "cell_type": "code",
   "execution_count": 39,
   "metadata": {},
   "outputs": [],
   "source": [
    "cols = data.columns.values\n",
    "f = []\n",
    "for i in cols:\n",
    "    if 'Unnamed' not in i:\n",
    "        f.append(i)"
   ]
  },
  {
   "cell_type": "code",
   "execution_count": 40,
   "metadata": {},
   "outputs": [],
   "source": [
    "d = data[f]"
   ]
  },
  {
   "cell_type": "code",
   "execution_count": 41,
   "metadata": {},
   "outputs": [
    {
     "data": {
      "text/html": [
       "<div>\n",
       "<style scoped>\n",
       "    .dataframe tbody tr th:only-of-type {\n",
       "        vertical-align: middle;\n",
       "    }\n",
       "\n",
       "    .dataframe tbody tr th {\n",
       "        vertical-align: top;\n",
       "    }\n",
       "\n",
       "    .dataframe thead th {\n",
       "        text-align: right;\n",
       "    }\n",
       "</style>\n",
       "<table border=\"1\" class=\"dataframe\">\n",
       "  <thead>\n",
       "    <tr style=\"text-align: right;\">\n",
       "      <th></th>\n",
       "      <th>Target_qb_Freq(GHz)</th>\n",
       "      <th>Ljs</th>\n",
       "      <th>Ljs (nH)</th>\n",
       "      <th>Offsets (mm)</th>\n",
       "      <th>TQx</th>\n",
       "      <th>TQy</th>\n",
       "      <th>Small</th>\n",
       "      <th>TQ_mir</th>\n",
       "      <th>CPW_freq_predict(GHz)</th>\n",
       "      <th>Coupling_len(um)</th>\n",
       "      <th>Coupling_len</th>\n",
       "      <th>Coupling_gap(um)</th>\n",
       "      <th>Coupling_gap_feedline(um)</th>\n",
       "      <th>Sizes (um)</th>\n",
       "      <th>Buffers (um)</th>\n",
       "    </tr>\n",
       "  </thead>\n",
       "  <tbody>\n",
       "    <tr>\n",
       "      <th>0</th>\n",
       "      <td>4.0</td>\n",
       "      <td>13nH</td>\n",
       "      <td>13</td>\n",
       "      <td>0.000</td>\n",
       "      <td>-0.267mm</td>\n",
       "      <td>0.45mm</td>\n",
       "      <td>False</td>\n",
       "      <td>True</td>\n",
       "      <td>6.401282</td>\n",
       "      <td>47</td>\n",
       "      <td>47um</td>\n",
       "      <td>15</td>\n",
       "      <td>1.25</td>\n",
       "      <td>250.000000</td>\n",
       "      <td>212.000000</td>\n",
       "    </tr>\n",
       "    <tr>\n",
       "      <th>1</th>\n",
       "      <td>4.2</td>\n",
       "      <td>13nH</td>\n",
       "      <td>13</td>\n",
       "      <td>0.000</td>\n",
       "      <td>-0.2535mm</td>\n",
       "      <td>0.44mm</td>\n",
       "      <td>False</td>\n",
       "      <td>True</td>\n",
       "      <td>6.689526</td>\n",
       "      <td>40</td>\n",
       "      <td>40um</td>\n",
       "      <td>15</td>\n",
       "      <td>1.54</td>\n",
       "      <td>235.000000</td>\n",
       "      <td>200.000000</td>\n",
       "    </tr>\n",
       "    <tr>\n",
       "      <th>2</th>\n",
       "      <td>4.4</td>\n",
       "      <td>10nH</td>\n",
       "      <td>10</td>\n",
       "      <td>0.000</td>\n",
       "      <td>-0.2485mm</td>\n",
       "      <td>0.43mm</td>\n",
       "      <td>False</td>\n",
       "      <td>True</td>\n",
       "      <td>6.796263</td>\n",
       "      <td>24</td>\n",
       "      <td>24um</td>\n",
       "      <td>15</td>\n",
       "      <td>1.86</td>\n",
       "      <td>235.170778</td>\n",
       "      <td>189.829222</td>\n",
       "    </tr>\n",
       "    <tr>\n",
       "      <th>3</th>\n",
       "      <td>4.6</td>\n",
       "      <td>10nH</td>\n",
       "      <td>10</td>\n",
       "      <td>0.050</td>\n",
       "      <td>0.3675mm</td>\n",
       "      <td>0.5mm</td>\n",
       "      <td>True</td>\n",
       "      <td>False</td>\n",
       "      <td>6.993693</td>\n",
       "      <td>47</td>\n",
       "      <td>47um</td>\n",
       "      <td>15</td>\n",
       "      <td>2.19</td>\n",
       "      <td>213.630207</td>\n",
       "      <td>281.369793</td>\n",
       "    </tr>\n",
       "    <tr>\n",
       "      <th>4</th>\n",
       "      <td>4.8</td>\n",
       "      <td>8nH</td>\n",
       "      <td>8</td>\n",
       "      <td>0.055</td>\n",
       "      <td>0.3605mm</td>\n",
       "      <td>0.458mm</td>\n",
       "      <td>True</td>\n",
       "      <td>False</td>\n",
       "      <td>7.212317</td>\n",
       "      <td>30</td>\n",
       "      <td>30um</td>\n",
       "      <td>15</td>\n",
       "      <td>2.54</td>\n",
       "      <td>239.691228</td>\n",
       "      <td>241.308772</td>\n",
       "    </tr>\n",
       "    <tr>\n",
       "      <th>5</th>\n",
       "      <td>5.0</td>\n",
       "      <td>8nH</td>\n",
       "      <td>8</td>\n",
       "      <td>0.055</td>\n",
       "      <td>0.3485mm</td>\n",
       "      <td>0.45mm</td>\n",
       "      <td>True</td>\n",
       "      <td>False</td>\n",
       "      <td>7.495441</td>\n",
       "      <td>27</td>\n",
       "      <td>27um</td>\n",
       "      <td>15</td>\n",
       "      <td>2.88</td>\n",
       "      <td>217.752168</td>\n",
       "      <td>239.247832</td>\n",
       "    </tr>\n",
       "    <tr>\n",
       "      <th>6</th>\n",
       "      <td>5.2</td>\n",
       "      <td>8nH</td>\n",
       "      <td>8</td>\n",
       "      <td>0.042</td>\n",
       "      <td>0.3425mm</td>\n",
       "      <td>0.46mm</td>\n",
       "      <td>True</td>\n",
       "      <td>False</td>\n",
       "      <td>7.593559</td>\n",
       "      <td>25</td>\n",
       "      <td>25um</td>\n",
       "      <td>15</td>\n",
       "      <td>3.25</td>\n",
       "      <td>200.242799</td>\n",
       "      <td>244.757201</td>\n",
       "    </tr>\n",
       "    <tr>\n",
       "      <th>7</th>\n",
       "      <td>5.4</td>\n",
       "      <td>6nH</td>\n",
       "      <td>6</td>\n",
       "      <td>0.065</td>\n",
       "      <td>0.3375mm</td>\n",
       "      <td>0.46mm</td>\n",
       "      <td>True</td>\n",
       "      <td>False</td>\n",
       "      <td>7.799704</td>\n",
       "      <td>23</td>\n",
       "      <td>23um</td>\n",
       "      <td>15</td>\n",
       "      <td>3.61</td>\n",
       "      <td>236.923095</td>\n",
       "      <td>198.076905</td>\n",
       "    </tr>\n",
       "    <tr>\n",
       "      <th>8</th>\n",
       "      <td>5.6</td>\n",
       "      <td>6nH</td>\n",
       "      <td>6</td>\n",
       "      <td>0.055</td>\n",
       "      <td>0.329mm</td>\n",
       "      <td>0.44mm</td>\n",
       "      <td>True</td>\n",
       "      <td>False</td>\n",
       "      <td>8.006815</td>\n",
       "      <td>25</td>\n",
       "      <td>25um</td>\n",
       "      <td>20</td>\n",
       "      <td>3.99</td>\n",
       "      <td>217.997190</td>\n",
       "      <td>200.002810</td>\n",
       "    </tr>\n",
       "    <tr>\n",
       "      <th>9</th>\n",
       "      <td>5.8</td>\n",
       "      <td>6nH</td>\n",
       "      <td>6</td>\n",
       "      <td>0.200</td>\n",
       "      <td>0.343mm</td>\n",
       "      <td>0.45mm</td>\n",
       "      <td>True</td>\n",
       "      <td>False</td>\n",
       "      <td>8.204176</td>\n",
       "      <td>30</td>\n",
       "      <td>30um</td>\n",
       "      <td>20</td>\n",
       "      <td>4.36</td>\n",
       "      <td>200.537671</td>\n",
       "      <td>245.462329</td>\n",
       "    </tr>\n",
       "  </tbody>\n",
       "</table>\n",
       "</div>"
      ],
      "text/plain": [
       "   Target_qb_Freq(GHz)   Ljs  Ljs (nH)  Offsets (mm)        TQx      TQy  \\\n",
       "0                  4.0  13nH        13         0.000   -0.267mm   0.45mm   \n",
       "1                  4.2  13nH        13         0.000  -0.2535mm   0.44mm   \n",
       "2                  4.4  10nH        10         0.000  -0.2485mm   0.43mm   \n",
       "3                  4.6  10nH        10         0.050   0.3675mm    0.5mm   \n",
       "4                  4.8   8nH         8         0.055   0.3605mm  0.458mm   \n",
       "5                  5.0   8nH         8         0.055   0.3485mm   0.45mm   \n",
       "6                  5.2   8nH         8         0.042   0.3425mm   0.46mm   \n",
       "7                  5.4   6nH         6         0.065   0.3375mm   0.46mm   \n",
       "8                  5.6   6nH         6         0.055    0.329mm   0.44mm   \n",
       "9                  5.8   6nH         6         0.200    0.343mm   0.45mm   \n",
       "\n",
       "   Small  TQ_mir  CPW_freq_predict(GHz)  Coupling_len(um) Coupling_len  \\\n",
       "0  False    True               6.401282                47         47um   \n",
       "1  False    True               6.689526                40         40um   \n",
       "2  False    True               6.796263                24         24um   \n",
       "3   True   False               6.993693                47         47um   \n",
       "4   True   False               7.212317                30         30um   \n",
       "5   True   False               7.495441                27         27um   \n",
       "6   True   False               7.593559                25         25um   \n",
       "7   True   False               7.799704                23         23um   \n",
       "8   True   False               8.006815                25         25um   \n",
       "9   True   False               8.204176                30         30um   \n",
       "\n",
       "   Coupling_gap(um)  Coupling_gap_feedline(um)  Sizes (um)  Buffers (um)  \n",
       "0                15                       1.25  250.000000    212.000000  \n",
       "1                15                       1.54  235.000000    200.000000  \n",
       "2                15                       1.86  235.170778    189.829222  \n",
       "3                15                       2.19  213.630207    281.369793  \n",
       "4                15                       2.54  239.691228    241.308772  \n",
       "5                15                       2.88  217.752168    239.247832  \n",
       "6                15                       3.25  200.242799    244.757201  \n",
       "7                15                       3.61  236.923095    198.076905  \n",
       "8                20                       3.99  217.997190    200.002810  \n",
       "9                20                       4.36  200.537671    245.462329  "
      ]
     },
     "execution_count": 41,
     "metadata": {},
     "output_type": "execute_result"
    }
   ],
   "source": [
    "d"
   ]
  },
  {
   "cell_type": "code",
   "execution_count": 42,
   "metadata": {},
   "outputs": [],
   "source": [
    "d.to_csv(r'data\\educated_guess_test_test.csv')"
   ]
  },
  {
   "attachments": {},
   "cell_type": "markdown",
   "metadata": {},
   "source": [
    "sim start"
   ]
  },
  {
   "cell_type": "code",
   "execution_count": 33,
   "metadata": {},
   "outputs": [
    {
     "name": "stderr",
     "output_type": "stream",
     "text": [
      "INFO 05:22PM [connect_design]: \tOpened active design\n",
      "\tDesign:    single_q_hfss [Solution type: Eigenmode]\n",
      "INFO 05:22PM [get_setup]: \tOpened setup `Setup`  (<class 'pyEPR.ansys.HfssEMSetup'>)\n",
      "INFO 05:22PM [analyze]: Analyzing setup Setup\n",
      "05:26PM 07s INFO [get_f_convergence]: Saved convergences to c:\\Users\\slab\\Desktop\\Wendy-qiskit-code\\hfss_eig_f_convergence.csv\n"
     ]
    },
    {
     "name": "stdout",
     "output_type": "stream",
     "text": [
      "saddd\n",
      "Design \"single_q_hfss\" info:\n",
      "\t# eigenmodes    1\n",
      "\t# variations    1\n",
      "Design \"single_q_hfss\" info:\n",
      "\t# eigenmodes    1\n",
      "\t# variations    1\n"
     ]
    },
    {
     "name": "stderr",
     "output_type": "stream",
     "text": [
      "WARNING:py.warnings:c:\\Users\\slab\\anaconda3\\envs\\qmetal\\lib\\site-packages\\pyEPR\\project_info.py:239: FutureWarning: The default dtype for empty Series will be 'object' instead of 'float64' in a future version. Specify a dtype explicitly to silence this warning.\n",
      "  options=pd.Series(get_instance_vars(self.options)),\n",
      "\n"
     ]
    },
    {
     "name": "stdout",
     "output_type": "stream",
     "text": [
      "\n",
      "        energy_elec_all       = 6.5292056847402e-25\n",
      "        energy_elec_substrate = 5.98990446142438e-25\n",
      "        EPR of substrate = 91.7%\n",
      "\n",
      "        energy_mag    = 4.49035935958932e-27\n",
      "        energy_mag % of energy_elec_all  = 0.7%\n",
      "        \n",
      "\n",
      "Variation 0  [1/1]\n"
     ]
    },
    {
     "name": "stderr",
     "output_type": "stream",
     "text": [
      "WARNING:py.warnings:c:\\Users\\slab\\anaconda3\\envs\\qmetal\\lib\\site-packages\\pyEPR\\core_distributed_analysis.py:1101: FutureWarning: The default dtype for empty Series will be 'object' instead of 'float64' in a future version. Specify a dtype explicitly to silence this warning.\n",
      "  Ljs = pd.Series({})\n",
      "\n",
      "WARNING:py.warnings:c:\\Users\\slab\\anaconda3\\envs\\qmetal\\lib\\site-packages\\pyEPR\\core_distributed_analysis.py:1102: FutureWarning: The default dtype for empty Series will be 'object' instead of 'float64' in a future version. Specify a dtype explicitly to silence this warning.\n",
      "  Cjs = pd.Series({})\n",
      "\n",
      "WARNING:py.warnings:c:\\Users\\slab\\anaconda3\\envs\\qmetal\\lib\\site-packages\\pyEPR\\core_distributed_analysis.py:1245: FutureWarning: The default dtype for empty Series will be 'object' instead of 'float64' in a future version. Specify a dtype explicitly to silence this warning.\n",
      "  _Om = pd.Series({})\n",
      "\n"
     ]
    },
    {
     "name": "stdout",
     "output_type": "stream",
     "text": [
      "\n",
      "  \u001b[1mMode 0 at 3.96 GHz   [1/1]\u001b[0m\n",
      "    Calculating ℰ_magnetic,ℰ_electric\n"
     ]
    },
    {
     "name": "stderr",
     "output_type": "stream",
     "text": [
      "WARNING:py.warnings:c:\\Users\\slab\\anaconda3\\envs\\qmetal\\lib\\site-packages\\pyEPR\\core_distributed_analysis.py:981: FutureWarning: The default dtype for empty Series will be 'object' instead of 'float64' in a future version. Specify a dtype explicitly to silence this warning.\n",
      "  Sj = pd.Series({})\n",
      "\n"
     ]
    },
    {
     "name": "stdout",
     "output_type": "stream",
     "text": [
      "       (ℰ_E-ℰ_H)/ℰ_E       ℰ_E       ℰ_H\n",
      "               99.3%  3.265e-25 2.245e-27\n",
      "\n",
      "    Calculating junction energy participation ration (EPR)\n",
      "\tmethod=`line_voltage`. First estimates:\n",
      "\tjunction        EPR p_0j   sign s_0j    (p_capacitive)\n"
     ]
    },
    {
     "name": "stderr",
     "output_type": "stream",
     "text": [
      "WARNING:py.warnings:c:\\Users\\slab\\anaconda3\\envs\\qmetal\\lib\\site-packages\\pyEPR\\core_distributed_analysis.py:933: FutureWarning: The default dtype for empty Series will be 'object' instead of 'float64' in a future version. Specify a dtype explicitly to silence this warning.\n",
      "  Qp = pd.Series({})\n",
      "\n"
     ]
    },
    {
     "name": "stdout",
     "output_type": "stream",
     "text": [
      "\t\tEnergy fraction (Lj over Lj&Cj)= 99.02%\n",
      "\tjj1              1.86731  (+)        0.0184579\n",
      "\t\t(U_tot_cap-U_tot_ind)/mean=-29.58%\n",
      "WARNING: This simulation must not have converged well!!!                The difference in the total cap and ind energies is larger than 10%.                Proceed with caution.\n",
      "Calculating Qdielectric_main for mode 0 (0/0)\n"
     ]
    },
    {
     "name": "stderr",
     "output_type": "stream",
     "text": [
      "WARNING:py.warnings:c:\\Users\\slab\\anaconda3\\envs\\qmetal\\lib\\site-packages\\pyEPR\\core_distributed_analysis.py:1307: FutureWarning: The series.append method is deprecated and will be removed from pandas in a future version. Use pandas.concat instead.\n",
      "  sol = sol.append(self.get_Qdielectric(\n",
      "\n"
     ]
    },
    {
     "name": "stdout",
     "output_type": "stream",
     "text": [
      "p_dielectric_main_0 = 0.9174017101994117\n"
     ]
    },
    {
     "name": "stderr",
     "output_type": "stream",
     "text": [
      "WARNING:py.warnings:c:\\Users\\slab\\anaconda3\\envs\\qmetal\\lib\\site-packages\\pyEPR\\project_info.py:239: FutureWarning: The default dtype for empty Series will be 'object' instead of 'float64' in a future version. Specify a dtype explicitly to silence this warning.\n",
      "  options=pd.Series(get_instance_vars(self.options)),\n",
      "\n",
      "WARNING 05:26PM [__init__]: <p>Error: <class 'IndexError'></p>\n",
      "ERROR 05:26PM [_get_participation_normalized]: WARNING: U_tot_cap-U_tot_ind / mean = 59.2% is > 15%.                     \n",
      "Is the simulation converged? Proceed with caution\n",
      "ERROR 05:26PM [_get_participation_normalized]: WARNING: U_tot_cap-U_tot_ind / mean = 59.2% is > 15%.                     \n",
      "Is the simulation converged? Proceed with caution\n",
      "WARNING:py.warnings:c:\\Users\\slab\\anaconda3\\envs\\qmetal\\lib\\site-packages\\pyEPR\\core_quantum_analysis.py:712: FutureWarning: Support for multi-dimensional indexing (e.g. `obj[:, None]`) is deprecated and will be removed in a future version.  Convert to a numpy array before indexing instead.\n",
      "  result['Q_coupling'] = self.Qm_coupling[variation][self.Qm_coupling[variation].columns[junctions]][modes]#TODO change the columns to junctions\n",
      "\n",
      "WARNING:py.warnings:c:\\Users\\slab\\anaconda3\\envs\\qmetal\\lib\\site-packages\\pyEPR\\core_quantum_analysis.py:717: FutureWarning: Support for multi-dimensional indexing (e.g. `obj[:, None]`) is deprecated and will be removed in a future version.  Convert to a numpy array before indexing instead.\n",
      "  result['Qs'] = self.Qs[variation][self.PM[variation].columns[junctions]][modes] #TODO change the columns to junctions\n",
      "\n"
     ]
    },
    {
     "name": "stdout",
     "output_type": "stream",
     "text": [
      "\n",
      "ANALYSIS DONE. Data saved to:\n",
      "\n",
      "C:\\data-pyEPR\\Project40\\single_q_hfss\\2023-04-29 17-26-07.npz\n",
      "\n",
      "\n",
      "\t Differences in variations:\n",
      "\n",
      "\n",
      "\n",
      " . . . . . . . . . . . . . . . . . . . . . . . . . . . . . . . . . . . . . . . . \n",
      "Variation 0\n",
      "\n",
      "Starting the diagonalization\n",
      "Finished the diagonalization\n",
      "Pm_norm=\n",
      "modes\n",
      "0    0.542821\n",
      "dtype: float64\n",
      "\n",
      "Pm_norm idx =\n",
      "    jj1\n",
      "0  True\n",
      "*** P (participation matrix, not normlz.)\n",
      "        jj1\n",
      "0  1.833467\n",
      "\n",
      "*** S (sign-bit matrix)\n",
      "   s_jj1\n",
      "0      1\n",
      "*** P (participation matrix, normalized.)\n",
      "         1\n",
      "\n",
      "*** Chi matrix O1 PT (MHz)\n",
      "    Diag is anharmonicity, off diag is full cross-Kerr.\n",
      "      94.8\n",
      "\n",
      "*** Chi matrix ND (MHz) \n",
      "       100\n",
      "\n",
      "*** Frequencies O1 PT (MHz)\n",
      "0    3861.054704\n",
      "dtype: float64\n",
      "\n",
      "*** Frequencies ND (MHz)\n",
      "0    3858.655121\n",
      "dtype: float64\n",
      "\n",
      "*** Q_coupling\n",
      "Empty DataFrame\n",
      "Columns: []\n",
      "Index: [0]\n"
     ]
    },
    {
     "data": {
      "text/markdown": [
       "#### Mode frequencies (MHz)"
      ],
      "text/plain": [
       "<IPython.core.display.Markdown object>"
      ]
     },
     "metadata": {},
     "output_type": "display_data"
    },
    {
     "data": {
      "text/markdown": [
       "###### Numerical diagonalization"
      ],
      "text/plain": [
       "<IPython.core.display.Markdown object>"
      ]
     },
     "metadata": {},
     "output_type": "display_data"
    },
    {
     "data": {
      "text/html": [
       "<div>\n",
       "<style scoped>\n",
       "    .dataframe tbody tr th:only-of-type {\n",
       "        vertical-align: middle;\n",
       "    }\n",
       "\n",
       "    .dataframe tbody tr th {\n",
       "        vertical-align: top;\n",
       "    }\n",
       "\n",
       "    .dataframe thead th {\n",
       "        text-align: right;\n",
       "    }\n",
       "</style>\n",
       "<table border=\"1\" class=\"dataframe\">\n",
       "  <thead>\n",
       "    <tr style=\"text-align: right;\">\n",
       "      <th>Lj</th>\n",
       "      <th>8</th>\n",
       "    </tr>\n",
       "  </thead>\n",
       "  <tbody>\n",
       "    <tr>\n",
       "      <th>0</th>\n",
       "      <td>3858.66</td>\n",
       "    </tr>\n",
       "  </tbody>\n",
       "</table>\n",
       "</div>"
      ],
      "text/plain": [
       "Lj        8\n",
       "0   3858.66"
      ]
     },
     "metadata": {},
     "output_type": "display_data"
    },
    {
     "data": {
      "text/markdown": [
       "#### Kerr Non-linear coefficient table (MHz)"
      ],
      "text/plain": [
       "<IPython.core.display.Markdown object>"
      ]
     },
     "metadata": {},
     "output_type": "display_data"
    },
    {
     "data": {
      "text/markdown": [
       "###### Numerical diagonalization"
      ],
      "text/plain": [
       "<IPython.core.display.Markdown object>"
      ]
     },
     "metadata": {},
     "output_type": "display_data"
    },
    {
     "data": {
      "text/html": [
       "<div>\n",
       "<style scoped>\n",
       "    .dataframe tbody tr th:only-of-type {\n",
       "        vertical-align: middle;\n",
       "    }\n",
       "\n",
       "    .dataframe tbody tr th {\n",
       "        vertical-align: top;\n",
       "    }\n",
       "\n",
       "    .dataframe thead th {\n",
       "        text-align: right;\n",
       "    }\n",
       "</style>\n",
       "<table border=\"1\" class=\"dataframe\">\n",
       "  <thead>\n",
       "    <tr style=\"text-align: right;\">\n",
       "      <th></th>\n",
       "      <th></th>\n",
       "      <th>0</th>\n",
       "    </tr>\n",
       "    <tr>\n",
       "      <th>Lj</th>\n",
       "      <th></th>\n",
       "      <th></th>\n",
       "    </tr>\n",
       "  </thead>\n",
       "  <tbody>\n",
       "    <tr>\n",
       "      <th>8</th>\n",
       "      <th>0</th>\n",
       "      <td>100.1</td>\n",
       "    </tr>\n",
       "  </tbody>\n",
       "</table>\n",
       "</div>"
      ],
      "text/plain": [
       "          0\n",
       "Lj         \n",
       "8  0  100.1"
      ]
     },
     "metadata": {},
     "output_type": "display_data"
    },
    {
     "name": "stderr",
     "output_type": "stream",
     "text": [
      "INFO 05:26PM [connect_design]: \tOpened active design\n",
      "\tDesign:    a_q3d [Solution type: Q3D]\n",
      "INFO 05:26PM [get_setup]: \tOpened setup `Setup`  (<class 'pyEPR.ansys.AnsysQ3DSetup'>)\n",
      "INFO 05:26PM [analyze]: Analyzing setup Setup\n",
      "INFO 05:28PM [get_matrix]: Exporting matrix data to (C:\\Users\\slab\\AppData\\Local\\Temp\\tmppm7ouaid.txt, C, , Setup:LastAdaptive, \"Original\", \"ohm\", \"nH\", \"fF\", \"mSie\", 5000000000, Maxwell, 1, False\n",
      "INFO 05:28PM [get_matrix]: Exporting matrix data to (C:\\Users\\slab\\AppData\\Local\\Temp\\tmpa0wnp94_.txt, C, , Setup:AdaptivePass, \"Original\", \"ohm\", \"nH\", \"fF\", \"mSie\", 5000000000, Maxwell, 1, False\n",
      "INFO 05:28PM [get_matrix]: Exporting matrix data to (C:\\Users\\slab\\AppData\\Local\\Temp\\tmp9vlnwy3d.txt, C, , Setup:AdaptivePass, \"Original\", \"ohm\", \"nH\", \"fF\", \"mSie\", 5000000000, Maxwell, 2, False\n",
      "INFO 05:28PM [get_matrix]: Exporting matrix data to (C:\\Users\\slab\\AppData\\Local\\Temp\\tmpsdtfe7rx.txt, C, , Setup:AdaptivePass, \"Original\", \"ohm\", \"nH\", \"fF\", \"mSie\", 5000000000, Maxwell, 3, False\n",
      "INFO 05:28PM [get_matrix]: Exporting matrix data to (C:\\Users\\slab\\AppData\\Local\\Temp\\tmpm7prxpv8.txt, C, , Setup:AdaptivePass, \"Original\", \"ohm\", \"nH\", \"fF\", \"mSie\", 5000000000, Maxwell, 4, False\n",
      "INFO 05:28PM [get_matrix]: Exporting matrix data to (C:\\Users\\slab\\AppData\\Local\\Temp\\tmp22bgdhab.txt, C, , Setup:AdaptivePass, \"Original\", \"ohm\", \"nH\", \"fF\", \"mSie\", 5000000000, Maxwell, 5, False\n",
      "INFO 05:28PM [get_matrix]: Exporting matrix data to (C:\\Users\\slab\\AppData\\Local\\Temp\\tmpzjihu1gi.txt, C, , Setup:AdaptivePass, \"Original\", \"ohm\", \"nH\", \"fF\", \"mSie\", 5000000000, Maxwell, 6, False\n",
      "INFO 05:28PM [get_matrix]: Exporting matrix data to (C:\\Users\\slab\\AppData\\Local\\Temp\\tmp114sehs0.txt, C, , Setup:AdaptivePass, \"Original\", \"ohm\", \"nH\", \"fF\", \"mSie\", 5000000000, Maxwell, 7, False\n",
      "INFO 05:28PM [get_matrix]: Exporting matrix data to (C:\\Users\\slab\\AppData\\Local\\Temp\\tmplyrdrs_l.txt, C, , Setup:AdaptivePass, \"Original\", \"ohm\", \"nH\", \"fF\", \"mSie\", 5000000000, Maxwell, 8, False\n",
      "INFO 05:28PM [get_matrix]: Exporting matrix data to (C:\\Users\\slab\\AppData\\Local\\Temp\\tmp94y9g_w0.txt, C, , Setup:AdaptivePass, \"Original\", \"ohm\", \"nH\", \"fF\", \"mSie\", 5000000000, Maxwell, 9, False\n",
      "INFO 05:28PM [get_matrix]: Exporting matrix data to (C:\\Users\\slab\\AppData\\Local\\Temp\\tmpmjm_9wik.txt, C, , Setup:AdaptivePass, \"Original\", \"ohm\", \"nH\", \"fF\", \"mSie\", 5000000000, Maxwell, 10, False\n",
      "INFO 05:28PM [get_matrix]: Exporting matrix data to (C:\\Users\\slab\\AppData\\Local\\Temp\\tmp_xe37xuz.txt, C, , Setup:AdaptivePass, \"Original\", \"ohm\", \"nH\", \"fF\", \"mSie\", 5000000000, Maxwell, 11, False\n",
      "INFO 05:28PM [connect_design]: \tOpened active design\n",
      "\tDesign:    single_q_hfss [Solution type: Eigenmode]\n",
      "INFO 05:28PM [get_setup]: \tOpened setup `Setup`  (<class 'pyEPR.ansys.HfssEMSetup'>)\n",
      "INFO 05:28PM [analyze]: Analyzing setup Setup\n",
      "05:32PM 13s INFO [get_f_convergence]: Saved convergences to c:\\Users\\slab\\Desktop\\Wendy-qiskit-code\\hfss_eig_f_convergence.csv\n"
     ]
    },
    {
     "name": "stdout",
     "output_type": "stream",
     "text": [
      "saddd\n",
      "Design \"single_q_hfss\" info:\n",
      "\t# eigenmodes    1\n",
      "\t# variations    1\n",
      "Design \"single_q_hfss\" info:\n",
      "\t# eigenmodes    1\n",
      "\t# variations    1\n"
     ]
    },
    {
     "name": "stderr",
     "output_type": "stream",
     "text": [
      "WARNING:py.warnings:c:\\Users\\slab\\anaconda3\\envs\\qmetal\\lib\\site-packages\\pyEPR\\project_info.py:239: FutureWarning: The default dtype for empty Series will be 'object' instead of 'float64' in a future version. Specify a dtype explicitly to silence this warning.\n",
      "  options=pd.Series(get_instance_vars(self.options)),\n",
      "\n"
     ]
    },
    {
     "name": "stdout",
     "output_type": "stream",
     "text": [
      "\n",
      "        energy_elec_all       = 7.44473618832879e-25\n",
      "        energy_elec_substrate = 6.83097636231538e-25\n",
      "        EPR of substrate = 91.8%\n",
      "\n",
      "        energy_mag    = 4.83312815756405e-27\n",
      "        energy_mag % of energy_elec_all  = 0.6%\n",
      "        \n",
      "\n",
      "Variation 0  [1/1]\n"
     ]
    },
    {
     "name": "stderr",
     "output_type": "stream",
     "text": [
      "WARNING:py.warnings:c:\\Users\\slab\\anaconda3\\envs\\qmetal\\lib\\site-packages\\pyEPR\\core_distributed_analysis.py:1101: FutureWarning: The default dtype for empty Series will be 'object' instead of 'float64' in a future version. Specify a dtype explicitly to silence this warning.\n",
      "  Ljs = pd.Series({})\n",
      "\n",
      "WARNING:py.warnings:c:\\Users\\slab\\anaconda3\\envs\\qmetal\\lib\\site-packages\\pyEPR\\core_distributed_analysis.py:1102: FutureWarning: The default dtype for empty Series will be 'object' instead of 'float64' in a future version. Specify a dtype explicitly to silence this warning.\n",
      "  Cjs = pd.Series({})\n",
      "\n",
      "WARNING:py.warnings:c:\\Users\\slab\\anaconda3\\envs\\qmetal\\lib\\site-packages\\pyEPR\\core_distributed_analysis.py:1245: FutureWarning: The default dtype for empty Series will be 'object' instead of 'float64' in a future version. Specify a dtype explicitly to silence this warning.\n",
      "  _Om = pd.Series({})\n",
      "\n"
     ]
    },
    {
     "name": "stdout",
     "output_type": "stream",
     "text": [
      "\n",
      "  \u001b[1mMode 0 at 4.09 GHz   [1/1]\u001b[0m\n",
      "    Calculating ℰ_magnetic,ℰ_electric\n"
     ]
    },
    {
     "name": "stderr",
     "output_type": "stream",
     "text": [
      "WARNING:py.warnings:c:\\Users\\slab\\anaconda3\\envs\\qmetal\\lib\\site-packages\\pyEPR\\core_distributed_analysis.py:981: FutureWarning: The default dtype for empty Series will be 'object' instead of 'float64' in a future version. Specify a dtype explicitly to silence this warning.\n",
      "  Sj = pd.Series({})\n",
      "\n"
     ]
    },
    {
     "name": "stdout",
     "output_type": "stream",
     "text": [
      "       (ℰ_E-ℰ_H)/ℰ_E       ℰ_E       ℰ_H\n",
      "               99.4%  3.722e-25 2.417e-27\n",
      "\n",
      "    Calculating junction energy participation ration (EPR)\n",
      "\tmethod=`line_voltage`. First estimates:\n",
      "\tjunction        EPR p_0j   sign s_0j    (p_capacitive)\n"
     ]
    },
    {
     "name": "stderr",
     "output_type": "stream",
     "text": [
      "WARNING:py.warnings:c:\\Users\\slab\\anaconda3\\envs\\qmetal\\lib\\site-packages\\pyEPR\\core_distributed_analysis.py:933: FutureWarning: The default dtype for empty Series will be 'object' instead of 'float64' in a future version. Specify a dtype explicitly to silence this warning.\n",
      "  Qp = pd.Series({})\n",
      "\n"
     ]
    },
    {
     "name": "stdout",
     "output_type": "stream",
     "text": [
      "\t\tEnergy fraction (Lj over Lj&Cj)= 98.31%\n",
      "\tjj1              1.16204  (+)        0.0199345\n",
      "\t\t(U_tot_cap-U_tot_ind)/mean=-6.79%\n",
      "Calculating Qdielectric_main for mode 0 (0/0)\n"
     ]
    },
    {
     "name": "stderr",
     "output_type": "stream",
     "text": [
      "WARNING:py.warnings:c:\\Users\\slab\\anaconda3\\envs\\qmetal\\lib\\site-packages\\pyEPR\\core_distributed_analysis.py:1307: FutureWarning: The series.append method is deprecated and will be removed from pandas in a future version. Use pandas.concat instead.\n",
      "  sol = sol.append(self.get_Qdielectric(\n",
      "\n"
     ]
    },
    {
     "name": "stdout",
     "output_type": "stream",
     "text": [
      "p_dielectric_main_0 = 0.9175578811005272\n"
     ]
    },
    {
     "name": "stderr",
     "output_type": "stream",
     "text": [
      "WARNING:py.warnings:c:\\Users\\slab\\anaconda3\\envs\\qmetal\\lib\\site-packages\\pyEPR\\project_info.py:239: FutureWarning: The default dtype for empty Series will be 'object' instead of 'float64' in a future version. Specify a dtype explicitly to silence this warning.\n",
      "  options=pd.Series(get_instance_vars(self.options)),\n",
      "\n",
      "WARNING 05:32PM [__init__]: <p>Error: <class 'IndexError'></p>\n",
      "WARNING:py.warnings:c:\\Users\\slab\\anaconda3\\envs\\qmetal\\lib\\site-packages\\pyEPR\\core_quantum_analysis.py:712: FutureWarning: Support for multi-dimensional indexing (e.g. `obj[:, None]`) is deprecated and will be removed in a future version.  Convert to a numpy array before indexing instead.\n",
      "  result['Q_coupling'] = self.Qm_coupling[variation][self.Qm_coupling[variation].columns[junctions]][modes]#TODO change the columns to junctions\n",
      "\n",
      "WARNING:py.warnings:c:\\Users\\slab\\anaconda3\\envs\\qmetal\\lib\\site-packages\\pyEPR\\core_quantum_analysis.py:717: FutureWarning: Support for multi-dimensional indexing (e.g. `obj[:, None]`) is deprecated and will be removed in a future version.  Convert to a numpy array before indexing instead.\n",
      "  result['Qs'] = self.Qs[variation][self.PM[variation].columns[junctions]][modes] #TODO change the columns to junctions\n",
      "\n"
     ]
    },
    {
     "name": "stdout",
     "output_type": "stream",
     "text": [
      "\n",
      "ANALYSIS DONE. Data saved to:\n",
      "\n",
      "C:\\data-pyEPR\\Project40\\single_q_hfss\\2023-04-29 17-32-14.npz\n",
      "\n",
      "\n",
      "\t Differences in variations:\n",
      "\n",
      "\n",
      "\n",
      " . . . . . . . . . . . . . . . . . . . . . . . . . . . . . . . . . . . . . . . . \n",
      "Variation 0\n",
      "\n",
      "Starting the diagonalization\n",
      "Finished the diagonalization\n",
      "Pm_norm=\n",
      "modes\n",
      "0    0.872501\n",
      "dtype: float64\n",
      "\n",
      "Pm_norm idx =\n",
      "    jj1\n",
      "0  True\n",
      "*** P (participation matrix, not normlz.)\n",
      "        jj1\n",
      "0  1.139331\n",
      "\n",
      "*** S (sign-bit matrix)\n",
      "   s_jj1\n",
      "0     -1\n",
      "*** P (participation matrix, normalized.)\n",
      "      0.99\n",
      "\n",
      "*** Chi matrix O1 PT (MHz)\n",
      "    Diag is anharmonicity, off diag is full cross-Kerr.\n",
      "       164\n",
      "\n",
      "*** Chi matrix ND (MHz) \n",
      "       180\n",
      "\n",
      "*** Frequencies O1 PT (MHz)\n",
      "0    3923.954608\n",
      "dtype: float64\n",
      "\n",
      "*** Frequencies ND (MHz)\n",
      "0    3916.717239\n",
      "dtype: float64\n",
      "\n",
      "*** Q_coupling\n",
      "Empty DataFrame\n",
      "Columns: []\n",
      "Index: [0]\n"
     ]
    },
    {
     "data": {
      "text/markdown": [
       "#### Mode frequencies (MHz)"
      ],
      "text/plain": [
       "<IPython.core.display.Markdown object>"
      ]
     },
     "metadata": {},
     "output_type": "display_data"
    },
    {
     "data": {
      "text/markdown": [
       "###### Numerical diagonalization"
      ],
      "text/plain": [
       "<IPython.core.display.Markdown object>"
      ]
     },
     "metadata": {},
     "output_type": "display_data"
    },
    {
     "data": {
      "text/html": [
       "<div>\n",
       "<style scoped>\n",
       "    .dataframe tbody tr th:only-of-type {\n",
       "        vertical-align: middle;\n",
       "    }\n",
       "\n",
       "    .dataframe tbody tr th {\n",
       "        vertical-align: top;\n",
       "    }\n",
       "\n",
       "    .dataframe thead th {\n",
       "        text-align: right;\n",
       "    }\n",
       "</style>\n",
       "<table border=\"1\" class=\"dataframe\">\n",
       "  <thead>\n",
       "    <tr style=\"text-align: right;\">\n",
       "      <th>Lj</th>\n",
       "      <th>13</th>\n",
       "    </tr>\n",
       "  </thead>\n",
       "  <tbody>\n",
       "    <tr>\n",
       "      <th>0</th>\n",
       "      <td>3916.72</td>\n",
       "    </tr>\n",
       "  </tbody>\n",
       "</table>\n",
       "</div>"
      ],
      "text/plain": [
       "Lj       13\n",
       "0   3916.72"
      ]
     },
     "metadata": {},
     "output_type": "display_data"
    },
    {
     "data": {
      "text/markdown": [
       "#### Kerr Non-linear coefficient table (MHz)"
      ],
      "text/plain": [
       "<IPython.core.display.Markdown object>"
      ]
     },
     "metadata": {},
     "output_type": "display_data"
    },
    {
     "data": {
      "text/markdown": [
       "###### Numerical diagonalization"
      ],
      "text/plain": [
       "<IPython.core.display.Markdown object>"
      ]
     },
     "metadata": {},
     "output_type": "display_data"
    },
    {
     "data": {
      "text/html": [
       "<div>\n",
       "<style scoped>\n",
       "    .dataframe tbody tr th:only-of-type {\n",
       "        vertical-align: middle;\n",
       "    }\n",
       "\n",
       "    .dataframe tbody tr th {\n",
       "        vertical-align: top;\n",
       "    }\n",
       "\n",
       "    .dataframe thead th {\n",
       "        text-align: right;\n",
       "    }\n",
       "</style>\n",
       "<table border=\"1\" class=\"dataframe\">\n",
       "  <thead>\n",
       "    <tr style=\"text-align: right;\">\n",
       "      <th></th>\n",
       "      <th></th>\n",
       "      <th>0</th>\n",
       "    </tr>\n",
       "    <tr>\n",
       "      <th>Lj</th>\n",
       "      <th></th>\n",
       "      <th></th>\n",
       "    </tr>\n",
       "  </thead>\n",
       "  <tbody>\n",
       "    <tr>\n",
       "      <th>13</th>\n",
       "      <th>0</th>\n",
       "      <td>179.62</td>\n",
       "    </tr>\n",
       "  </tbody>\n",
       "</table>\n",
       "</div>"
      ],
      "text/plain": [
       "           0\n",
       "Lj          \n",
       "13 0  179.62"
      ]
     },
     "metadata": {},
     "output_type": "display_data"
    },
    {
     "name": "stderr",
     "output_type": "stream",
     "text": [
      "INFO 05:32PM [connect_design]: \tOpened active design\n",
      "\tDesign:    a_q3d [Solution type: Q3D]\n",
      "INFO 05:32PM [get_setup]: \tOpened setup `Setup`  (<class 'pyEPR.ansys.AnsysQ3DSetup'>)\n",
      "INFO 05:32PM [analyze]: Analyzing setup Setup\n",
      "INFO 05:34PM [get_matrix]: Exporting matrix data to (C:\\Users\\slab\\AppData\\Local\\Temp\\tmp3tisew_q.txt, C, , Setup:LastAdaptive, \"Original\", \"ohm\", \"nH\", \"fF\", \"mSie\", 5000000000, Maxwell, 1, False\n",
      "INFO 05:34PM [get_matrix]: Exporting matrix data to (C:\\Users\\slab\\AppData\\Local\\Temp\\tmp68_a3vfy.txt, C, , Setup:AdaptivePass, \"Original\", \"ohm\", \"nH\", \"fF\", \"mSie\", 5000000000, Maxwell, 1, False\n",
      "INFO 05:34PM [get_matrix]: Exporting matrix data to (C:\\Users\\slab\\AppData\\Local\\Temp\\tmp8wyu972s.txt, C, , Setup:AdaptivePass, \"Original\", \"ohm\", \"nH\", \"fF\", \"mSie\", 5000000000, Maxwell, 2, False\n",
      "INFO 05:34PM [get_matrix]: Exporting matrix data to (C:\\Users\\slab\\AppData\\Local\\Temp\\tmpiy15e5vy.txt, C, , Setup:AdaptivePass, \"Original\", \"ohm\", \"nH\", \"fF\", \"mSie\", 5000000000, Maxwell, 3, False\n",
      "INFO 05:34PM [get_matrix]: Exporting matrix data to (C:\\Users\\slab\\AppData\\Local\\Temp\\tmpst661ovr.txt, C, , Setup:AdaptivePass, \"Original\", \"ohm\", \"nH\", \"fF\", \"mSie\", 5000000000, Maxwell, 4, False\n",
      "INFO 05:34PM [get_matrix]: Exporting matrix data to (C:\\Users\\slab\\AppData\\Local\\Temp\\tmpvs79yt7w.txt, C, , Setup:AdaptivePass, \"Original\", \"ohm\", \"nH\", \"fF\", \"mSie\", 5000000000, Maxwell, 5, False\n",
      "INFO 05:34PM [get_matrix]: Exporting matrix data to (C:\\Users\\slab\\AppData\\Local\\Temp\\tmpt2yqwwel.txt, C, , Setup:AdaptivePass, \"Original\", \"ohm\", \"nH\", \"fF\", \"mSie\", 5000000000, Maxwell, 6, False\n",
      "INFO 05:34PM [get_matrix]: Exporting matrix data to (C:\\Users\\slab\\AppData\\Local\\Temp\\tmp0mp1r9p8.txt, C, , Setup:AdaptivePass, \"Original\", \"ohm\", \"nH\", \"fF\", \"mSie\", 5000000000, Maxwell, 7, False\n",
      "INFO 05:34PM [get_matrix]: Exporting matrix data to (C:\\Users\\slab\\AppData\\Local\\Temp\\tmpdvk6f0m3.txt, C, , Setup:AdaptivePass, \"Original\", \"ohm\", \"nH\", \"fF\", \"mSie\", 5000000000, Maxwell, 8, False\n",
      "INFO 05:34PM [get_matrix]: Exporting matrix data to (C:\\Users\\slab\\AppData\\Local\\Temp\\tmpp_ti2zzm.txt, C, , Setup:AdaptivePass, \"Original\", \"ohm\", \"nH\", \"fF\", \"mSie\", 5000000000, Maxwell, 9, False\n",
      "INFO 05:34PM [get_matrix]: Exporting matrix data to (C:\\Users\\slab\\AppData\\Local\\Temp\\tmpqs9gmj0l.txt, C, , Setup:AdaptivePass, \"Original\", \"ohm\", \"nH\", \"fF\", \"mSie\", 5000000000, Maxwell, 10, False\n",
      "INFO 05:34PM [get_matrix]: Exporting matrix data to (C:\\Users\\slab\\AppData\\Local\\Temp\\tmp2gtskzkv.txt, C, , Setup:AdaptivePass, \"Original\", \"ohm\", \"nH\", \"fF\", \"mSie\", 5000000000, Maxwell, 11, False\n",
      "INFO 05:34PM [connect_design]: \tOpened active design\n",
      "\tDesign:    single_q_hfss [Solution type: Eigenmode]\n",
      "INFO 05:34PM [get_setup]: \tOpened setup `Setup`  (<class 'pyEPR.ansys.HfssEMSetup'>)\n",
      "INFO 05:34PM [analyze]: Analyzing setup Setup\n",
      "05:37PM 41s INFO [get_f_convergence]: Saved convergences to c:\\Users\\slab\\Desktop\\Wendy-qiskit-code\\hfss_eig_f_convergence.csv\n"
     ]
    },
    {
     "name": "stdout",
     "output_type": "stream",
     "text": [
      "saddd\n",
      "Design \"single_q_hfss\" info:\n",
      "\t# eigenmodes    1\n",
      "\t# variations    1\n",
      "Design \"single_q_hfss\" info:\n",
      "\t# eigenmodes    1\n",
      "\t# variations    1\n"
     ]
    },
    {
     "name": "stderr",
     "output_type": "stream",
     "text": [
      "WARNING:py.warnings:c:\\Users\\slab\\anaconda3\\envs\\qmetal\\lib\\site-packages\\pyEPR\\project_info.py:239: FutureWarning: The default dtype for empty Series will be 'object' instead of 'float64' in a future version. Specify a dtype explicitly to silence this warning.\n",
      "  options=pd.Series(get_instance_vars(self.options)),\n",
      "\n"
     ]
    },
    {
     "name": "stdout",
     "output_type": "stream",
     "text": [
      "\n",
      "        energy_elec_all       = 6.68857084530657e-25\n",
      "        energy_elec_substrate = 6.13955235162328e-25\n",
      "        EPR of substrate = 91.8%\n",
      "\n",
      "        energy_mag    = 4.25328953809476e-27\n",
      "        energy_mag % of energy_elec_all  = 0.6%\n",
      "        \n",
      "\n",
      "Variation 0  [1/1]\n"
     ]
    },
    {
     "name": "stderr",
     "output_type": "stream",
     "text": [
      "WARNING:py.warnings:c:\\Users\\slab\\anaconda3\\envs\\qmetal\\lib\\site-packages\\pyEPR\\core_distributed_analysis.py:1101: FutureWarning: The default dtype for empty Series will be 'object' instead of 'float64' in a future version. Specify a dtype explicitly to silence this warning.\n",
      "  Ljs = pd.Series({})\n",
      "\n",
      "WARNING:py.warnings:c:\\Users\\slab\\anaconda3\\envs\\qmetal\\lib\\site-packages\\pyEPR\\core_distributed_analysis.py:1102: FutureWarning: The default dtype for empty Series will be 'object' instead of 'float64' in a future version. Specify a dtype explicitly to silence this warning.\n",
      "  Cjs = pd.Series({})\n",
      "\n",
      "WARNING:py.warnings:c:\\Users\\slab\\anaconda3\\envs\\qmetal\\lib\\site-packages\\pyEPR\\core_distributed_analysis.py:1245: FutureWarning: The default dtype for empty Series will be 'object' instead of 'float64' in a future version. Specify a dtype explicitly to silence this warning.\n",
      "  _Om = pd.Series({})\n",
      "\n"
     ]
    },
    {
     "name": "stdout",
     "output_type": "stream",
     "text": [
      "\n",
      "  \u001b[1mMode 0 at 4.36 GHz   [1/1]\u001b[0m\n",
      "    Calculating ℰ_magnetic,ℰ_electric\n"
     ]
    },
    {
     "name": "stderr",
     "output_type": "stream",
     "text": [
      "WARNING:py.warnings:c:\\Users\\slab\\anaconda3\\envs\\qmetal\\lib\\site-packages\\pyEPR\\core_distributed_analysis.py:981: FutureWarning: The default dtype for empty Series will be 'object' instead of 'float64' in a future version. Specify a dtype explicitly to silence this warning.\n",
      "  Sj = pd.Series({})\n",
      "\n"
     ]
    },
    {
     "name": "stdout",
     "output_type": "stream",
     "text": [
      "       (ℰ_E-ℰ_H)/ℰ_E       ℰ_E       ℰ_H\n",
      "               99.4%  3.344e-25 2.127e-27\n",
      "\n",
      "    Calculating junction energy participation ration (EPR)\n",
      "\tmethod=`line_voltage`. First estimates:\n",
      "\tjunction        EPR p_0j   sign s_0j    (p_capacitive)\n"
     ]
    },
    {
     "name": "stderr",
     "output_type": "stream",
     "text": [
      "WARNING:py.warnings:c:\\Users\\slab\\anaconda3\\envs\\qmetal\\lib\\site-packages\\pyEPR\\core_distributed_analysis.py:933: FutureWarning: The default dtype for empty Series will be 'object' instead of 'float64' in a future version. Specify a dtype explicitly to silence this warning.\n",
      "  Qp = pd.Series({})\n",
      "\n"
     ]
    },
    {
     "name": "stdout",
     "output_type": "stream",
     "text": [
      "\t\tEnergy fraction (Lj over Lj&Cj)= 98.08%\n",
      "\tjj1              1.19028  (+)        0.0232572\n",
      "\t\t(U_tot_cap-U_tot_ind)/mean=-7.81%\n",
      "Calculating Qdielectric_main for mode 0 (0/0)\n"
     ]
    },
    {
     "name": "stderr",
     "output_type": "stream",
     "text": [
      "WARNING:py.warnings:c:\\Users\\slab\\anaconda3\\envs\\qmetal\\lib\\site-packages\\pyEPR\\core_distributed_analysis.py:1307: FutureWarning: The series.append method is deprecated and will be removed from pandas in a future version. Use pandas.concat instead.\n",
      "  sol = sol.append(self.get_Qdielectric(\n",
      "\n"
     ]
    },
    {
     "name": "stdout",
     "output_type": "stream",
     "text": [
      "p_dielectric_main_0 = 0.917916920313621\n"
     ]
    },
    {
     "name": "stderr",
     "output_type": "stream",
     "text": [
      "WARNING:py.warnings:c:\\Users\\slab\\anaconda3\\envs\\qmetal\\lib\\site-packages\\pyEPR\\project_info.py:239: FutureWarning: The default dtype for empty Series will be 'object' instead of 'float64' in a future version. Specify a dtype explicitly to silence this warning.\n",
      "  options=pd.Series(get_instance_vars(self.options)),\n",
      "\n",
      "WARNING 05:37PM [__init__]: <p>Error: <class 'IndexError'></p>\n",
      "ERROR 05:37PM [_get_participation_normalized]: WARNING: U_tot_cap-U_tot_ind / mean = 15.6% is > 15%.                     \n",
      "Is the simulation converged? Proceed with caution\n",
      "ERROR 05:37PM [_get_participation_normalized]: WARNING: U_tot_cap-U_tot_ind / mean = 15.6% is > 15%.                     \n",
      "Is the simulation converged? Proceed with caution\n",
      "WARNING:py.warnings:c:\\Users\\slab\\anaconda3\\envs\\qmetal\\lib\\site-packages\\pyEPR\\core_quantum_analysis.py:712: FutureWarning: Support for multi-dimensional indexing (e.g. `obj[:, None]`) is deprecated and will be removed in a future version.  Convert to a numpy array before indexing instead.\n",
      "  result['Q_coupling'] = self.Qm_coupling[variation][self.Qm_coupling[variation].columns[junctions]][modes]#TODO change the columns to junctions\n",
      "\n",
      "WARNING:py.warnings:c:\\Users\\slab\\anaconda3\\envs\\qmetal\\lib\\site-packages\\pyEPR\\core_quantum_analysis.py:717: FutureWarning: Support for multi-dimensional indexing (e.g. `obj[:, None]`) is deprecated and will be removed in a future version.  Convert to a numpy array before indexing instead.\n",
      "  result['Qs'] = self.Qs[variation][self.PM[variation].columns[junctions]][modes] #TODO change the columns to junctions\n",
      "\n"
     ]
    },
    {
     "name": "stdout",
     "output_type": "stream",
     "text": [
      "\n",
      "ANALYSIS DONE. Data saved to:\n",
      "\n",
      "C:\\data-pyEPR\\Project40\\single_q_hfss\\2023-04-29 17-37-42.npz\n",
      "\n",
      "\n",
      "\t Differences in variations:\n",
      "\n",
      "\n",
      "\n",
      " . . . . . . . . . . . . . . . . . . . . . . . . . . . . . . . . . . . . . . . . \n",
      "Variation 0\n",
      "\n",
      "Starting the diagonalization\n",
      "Finished the diagonalization\n",
      "Pm_norm=\n",
      "modes\n",
      "0    0.854755\n",
      "dtype: float64\n",
      "\n",
      "Pm_norm idx =\n",
      "    jj1\n",
      "0  True\n",
      "*** P (participation matrix, not normlz.)\n",
      "        jj1\n",
      "0  1.163223\n",
      "\n",
      "*** S (sign-bit matrix)\n",
      "   s_jj1\n",
      "0     -1\n",
      "*** P (participation matrix, normalized.)\n",
      "      0.99\n",
      "\n",
      "*** Chi matrix O1 PT (MHz)\n",
      "    Diag is anharmonicity, off diag is full cross-Kerr.\n",
      "       187\n",
      "\n",
      "*** Chi matrix ND (MHz) \n",
      "       206\n",
      "\n",
      "*** Frequencies O1 PT (MHz)\n",
      "0    4175.947732\n",
      "dtype: float64\n",
      "\n",
      "*** Frequencies ND (MHz)\n",
      "0    4167.08073\n",
      "dtype: float64\n",
      "\n",
      "*** Q_coupling\n",
      "Empty DataFrame\n",
      "Columns: []\n",
      "Index: [0]\n"
     ]
    },
    {
     "data": {
      "text/markdown": [
       "#### Mode frequencies (MHz)"
      ],
      "text/plain": [
       "<IPython.core.display.Markdown object>"
      ]
     },
     "metadata": {},
     "output_type": "display_data"
    },
    {
     "data": {
      "text/markdown": [
       "###### Numerical diagonalization"
      ],
      "text/plain": [
       "<IPython.core.display.Markdown object>"
      ]
     },
     "metadata": {},
     "output_type": "display_data"
    },
    {
     "data": {
      "text/html": [
       "<div>\n",
       "<style scoped>\n",
       "    .dataframe tbody tr th:only-of-type {\n",
       "        vertical-align: middle;\n",
       "    }\n",
       "\n",
       "    .dataframe tbody tr th {\n",
       "        vertical-align: top;\n",
       "    }\n",
       "\n",
       "    .dataframe thead th {\n",
       "        text-align: right;\n",
       "    }\n",
       "</style>\n",
       "<table border=\"1\" class=\"dataframe\">\n",
       "  <thead>\n",
       "    <tr style=\"text-align: right;\">\n",
       "      <th>Lj</th>\n",
       "      <th>13</th>\n",
       "    </tr>\n",
       "  </thead>\n",
       "  <tbody>\n",
       "    <tr>\n",
       "      <th>0</th>\n",
       "      <td>4167.08</td>\n",
       "    </tr>\n",
       "  </tbody>\n",
       "</table>\n",
       "</div>"
      ],
      "text/plain": [
       "Lj       13\n",
       "0   4167.08"
      ]
     },
     "metadata": {},
     "output_type": "display_data"
    },
    {
     "data": {
      "text/markdown": [
       "#### Kerr Non-linear coefficient table (MHz)"
      ],
      "text/plain": [
       "<IPython.core.display.Markdown object>"
      ]
     },
     "metadata": {},
     "output_type": "display_data"
    },
    {
     "data": {
      "text/markdown": [
       "###### Numerical diagonalization"
      ],
      "text/plain": [
       "<IPython.core.display.Markdown object>"
      ]
     },
     "metadata": {},
     "output_type": "display_data"
    },
    {
     "data": {
      "text/html": [
       "<div>\n",
       "<style scoped>\n",
       "    .dataframe tbody tr th:only-of-type {\n",
       "        vertical-align: middle;\n",
       "    }\n",
       "\n",
       "    .dataframe tbody tr th {\n",
       "        vertical-align: top;\n",
       "    }\n",
       "\n",
       "    .dataframe thead th {\n",
       "        text-align: right;\n",
       "    }\n",
       "</style>\n",
       "<table border=\"1\" class=\"dataframe\">\n",
       "  <thead>\n",
       "    <tr style=\"text-align: right;\">\n",
       "      <th></th>\n",
       "      <th></th>\n",
       "      <th>0</th>\n",
       "    </tr>\n",
       "    <tr>\n",
       "      <th>Lj</th>\n",
       "      <th></th>\n",
       "      <th></th>\n",
       "    </tr>\n",
       "  </thead>\n",
       "  <tbody>\n",
       "    <tr>\n",
       "      <th>13</th>\n",
       "      <th>0</th>\n",
       "      <td>205.89</td>\n",
       "    </tr>\n",
       "  </tbody>\n",
       "</table>\n",
       "</div>"
      ],
      "text/plain": [
       "           0\n",
       "Lj          \n",
       "13 0  205.89"
      ]
     },
     "metadata": {},
     "output_type": "display_data"
    },
    {
     "name": "stderr",
     "output_type": "stream",
     "text": [
      "INFO 05:37PM [connect_design]: \tOpened active design\n",
      "\tDesign:    a_q3d [Solution type: Q3D]\n",
      "INFO 05:38PM [get_setup]: \tOpened setup `Setup`  (<class 'pyEPR.ansys.AnsysQ3DSetup'>)\n",
      "INFO 05:38PM [analyze]: Analyzing setup Setup\n",
      "INFO 05:40PM [get_matrix]: Exporting matrix data to (C:\\Users\\slab\\AppData\\Local\\Temp\\tmp9yd3x33o.txt, C, , Setup:LastAdaptive, \"Original\", \"ohm\", \"nH\", \"fF\", \"mSie\", 5000000000, Maxwell, 1, False\n",
      "INFO 05:40PM [get_matrix]: Exporting matrix data to (C:\\Users\\slab\\AppData\\Local\\Temp\\tmpx1aop396.txt, C, , Setup:AdaptivePass, \"Original\", \"ohm\", \"nH\", \"fF\", \"mSie\", 5000000000, Maxwell, 1, False\n",
      "INFO 05:40PM [get_matrix]: Exporting matrix data to (C:\\Users\\slab\\AppData\\Local\\Temp\\tmp4a_gl9jg.txt, C, , Setup:AdaptivePass, \"Original\", \"ohm\", \"nH\", \"fF\", \"mSie\", 5000000000, Maxwell, 2, False\n",
      "INFO 05:40PM [get_matrix]: Exporting matrix data to (C:\\Users\\slab\\AppData\\Local\\Temp\\tmp9pp_9050.txt, C, , Setup:AdaptivePass, \"Original\", \"ohm\", \"nH\", \"fF\", \"mSie\", 5000000000, Maxwell, 3, False\n",
      "INFO 05:40PM [get_matrix]: Exporting matrix data to (C:\\Users\\slab\\AppData\\Local\\Temp\\tmp674nh106.txt, C, , Setup:AdaptivePass, \"Original\", \"ohm\", \"nH\", \"fF\", \"mSie\", 5000000000, Maxwell, 4, False\n",
      "INFO 05:40PM [get_matrix]: Exporting matrix data to (C:\\Users\\slab\\AppData\\Local\\Temp\\tmpy7dmbzk3.txt, C, , Setup:AdaptivePass, \"Original\", \"ohm\", \"nH\", \"fF\", \"mSie\", 5000000000, Maxwell, 5, False\n",
      "INFO 05:40PM [get_matrix]: Exporting matrix data to (C:\\Users\\slab\\AppData\\Local\\Temp\\tmp_aiyounr.txt, C, , Setup:AdaptivePass, \"Original\", \"ohm\", \"nH\", \"fF\", \"mSie\", 5000000000, Maxwell, 6, False\n",
      "INFO 05:40PM [get_matrix]: Exporting matrix data to (C:\\Users\\slab\\AppData\\Local\\Temp\\tmpw_88h1jx.txt, C, , Setup:AdaptivePass, \"Original\", \"ohm\", \"nH\", \"fF\", \"mSie\", 5000000000, Maxwell, 7, False\n",
      "INFO 05:40PM [get_matrix]: Exporting matrix data to (C:\\Users\\slab\\AppData\\Local\\Temp\\tmpj2686v_m.txt, C, , Setup:AdaptivePass, \"Original\", \"ohm\", \"nH\", \"fF\", \"mSie\", 5000000000, Maxwell, 8, False\n",
      "INFO 05:40PM [get_matrix]: Exporting matrix data to (C:\\Users\\slab\\AppData\\Local\\Temp\\tmpzh3hxqp3.txt, C, , Setup:AdaptivePass, \"Original\", \"ohm\", \"nH\", \"fF\", \"mSie\", 5000000000, Maxwell, 9, False\n",
      "INFO 05:40PM [get_matrix]: Exporting matrix data to (C:\\Users\\slab\\AppData\\Local\\Temp\\tmpnie2p0eb.txt, C, , Setup:AdaptivePass, \"Original\", \"ohm\", \"nH\", \"fF\", \"mSie\", 5000000000, Maxwell, 10, False\n",
      "INFO 05:40PM [get_matrix]: Exporting matrix data to (C:\\Users\\slab\\AppData\\Local\\Temp\\tmpzpiqslxi.txt, C, , Setup:AdaptivePass, \"Original\", \"ohm\", \"nH\", \"fF\", \"mSie\", 5000000000, Maxwell, 11, False\n",
      "INFO 05:40PM [connect_design]: \tOpened active design\n",
      "\tDesign:    single_q_hfss [Solution type: Eigenmode]\n",
      "INFO 05:40PM [get_setup]: \tOpened setup `Setup`  (<class 'pyEPR.ansys.HfssEMSetup'>)\n",
      "INFO 05:40PM [analyze]: Analyzing setup Setup\n",
      "05:43PM 20s INFO [get_f_convergence]: Saved convergences to c:\\Users\\slab\\Desktop\\Wendy-qiskit-code\\hfss_eig_f_convergence.csv\n"
     ]
    },
    {
     "name": "stdout",
     "output_type": "stream",
     "text": [
      "saddd\n",
      "Design \"single_q_hfss\" info:\n",
      "\t# eigenmodes    1\n",
      "\t# variations    1\n",
      "Design \"single_q_hfss\" info:\n",
      "\t# eigenmodes    1\n",
      "\t# variations    1\n"
     ]
    },
    {
     "name": "stderr",
     "output_type": "stream",
     "text": [
      "WARNING:py.warnings:c:\\Users\\slab\\anaconda3\\envs\\qmetal\\lib\\site-packages\\pyEPR\\project_info.py:239: FutureWarning: The default dtype for empty Series will be 'object' instead of 'float64' in a future version. Specify a dtype explicitly to silence this warning.\n",
      "  options=pd.Series(get_instance_vars(self.options)),\n",
      "\n"
     ]
    },
    {
     "name": "stdout",
     "output_type": "stream",
     "text": [
      "\n",
      "        energy_elec_all       = 4.60081561480106e-25\n",
      "        energy_elec_substrate = 4.22105228977077e-25\n",
      "        EPR of substrate = 91.7%\n",
      "\n",
      "        energy_mag    = 3.84343626705955e-27\n",
      "        energy_mag % of energy_elec_all  = 0.8%\n",
      "        \n",
      "\n",
      "Variation 0  [1/1]\n"
     ]
    },
    {
     "name": "stderr",
     "output_type": "stream",
     "text": [
      "WARNING:py.warnings:c:\\Users\\slab\\anaconda3\\envs\\qmetal\\lib\\site-packages\\pyEPR\\core_distributed_analysis.py:1101: FutureWarning: The default dtype for empty Series will be 'object' instead of 'float64' in a future version. Specify a dtype explicitly to silence this warning.\n",
      "  Ljs = pd.Series({})\n",
      "\n",
      "WARNING:py.warnings:c:\\Users\\slab\\anaconda3\\envs\\qmetal\\lib\\site-packages\\pyEPR\\core_distributed_analysis.py:1102: FutureWarning: The default dtype for empty Series will be 'object' instead of 'float64' in a future version. Specify a dtype explicitly to silence this warning.\n",
      "  Cjs = pd.Series({})\n",
      "\n",
      "WARNING:py.warnings:c:\\Users\\slab\\anaconda3\\envs\\qmetal\\lib\\site-packages\\pyEPR\\core_distributed_analysis.py:1245: FutureWarning: The default dtype for empty Series will be 'object' instead of 'float64' in a future version. Specify a dtype explicitly to silence this warning.\n",
      "  _Om = pd.Series({})\n",
      "\n"
     ]
    },
    {
     "name": "stdout",
     "output_type": "stream",
     "text": [
      "\n",
      "  \u001b[1mMode 0 at 4.46 GHz   [1/1]\u001b[0m\n",
      "    Calculating ℰ_magnetic,ℰ_electric\n"
     ]
    },
    {
     "name": "stderr",
     "output_type": "stream",
     "text": [
      "WARNING:py.warnings:c:\\Users\\slab\\anaconda3\\envs\\qmetal\\lib\\site-packages\\pyEPR\\core_distributed_analysis.py:981: FutureWarning: The default dtype for empty Series will be 'object' instead of 'float64' in a future version. Specify a dtype explicitly to silence this warning.\n",
      "  Sj = pd.Series({})\n",
      "\n"
     ]
    },
    {
     "name": "stdout",
     "output_type": "stream",
     "text": [
      "       (ℰ_E-ℰ_H)/ℰ_E       ℰ_E       ℰ_H\n",
      "               99.2%    2.3e-25 1.922e-27\n",
      "\n",
      "    Calculating junction energy participation ration (EPR)\n",
      "\tmethod=`line_voltage`. First estimates:\n",
      "\tjunction        EPR p_0j   sign s_0j    (p_capacitive)\n"
     ]
    },
    {
     "name": "stderr",
     "output_type": "stream",
     "text": [
      "WARNING:py.warnings:c:\\Users\\slab\\anaconda3\\envs\\qmetal\\lib\\site-packages\\pyEPR\\core_distributed_analysis.py:933: FutureWarning: The default dtype for empty Series will be 'object' instead of 'float64' in a future version. Specify a dtype explicitly to silence this warning.\n",
      "  Qp = pd.Series({})\n",
      "\n"
     ]
    },
    {
     "name": "stdout",
     "output_type": "stream",
     "text": [
      "\t\tEnergy fraction (Lj over Lj&Cj)= 98.00%\n",
      "\tjj1             0.922449  (+)        0.0188553\n",
      "\t\t(U_tot_cap-U_tot_ind)/mean=4.52%\n",
      "Calculating Qdielectric_main for mode 0 (0/0)\n"
     ]
    },
    {
     "name": "stderr",
     "output_type": "stream",
     "text": [
      "WARNING:py.warnings:c:\\Users\\slab\\anaconda3\\envs\\qmetal\\lib\\site-packages\\pyEPR\\core_distributed_analysis.py:1307: FutureWarning: The series.append method is deprecated and will be removed from pandas in a future version. Use pandas.concat instead.\n",
      "  sol = sol.append(self.get_Qdielectric(\n",
      "\n"
     ]
    },
    {
     "name": "stdout",
     "output_type": "stream",
     "text": [
      "p_dielectric_main_0 = 0.9174573908572706\n"
     ]
    },
    {
     "name": "stderr",
     "output_type": "stream",
     "text": [
      "WARNING:py.warnings:c:\\Users\\slab\\anaconda3\\envs\\qmetal\\lib\\site-packages\\pyEPR\\project_info.py:239: FutureWarning: The default dtype for empty Series will be 'object' instead of 'float64' in a future version. Specify a dtype explicitly to silence this warning.\n",
      "  options=pd.Series(get_instance_vars(self.options)),\n",
      "\n",
      "WARNING 05:43PM [__init__]: <p>Error: <class 'IndexError'></p>\n",
      "WARNING:py.warnings:c:\\Users\\slab\\anaconda3\\envs\\qmetal\\lib\\site-packages\\pyEPR\\core_quantum_analysis.py:712: FutureWarning: Support for multi-dimensional indexing (e.g. `obj[:, None]`) is deprecated and will be removed in a future version.  Convert to a numpy array before indexing instead.\n",
      "  result['Q_coupling'] = self.Qm_coupling[variation][self.Qm_coupling[variation].columns[junctions]][modes]#TODO change the columns to junctions\n",
      "\n",
      "WARNING:py.warnings:c:\\Users\\slab\\anaconda3\\envs\\qmetal\\lib\\site-packages\\pyEPR\\core_quantum_analysis.py:717: FutureWarning: Support for multi-dimensional indexing (e.g. `obj[:, None]`) is deprecated and will be removed in a future version.  Convert to a numpy array before indexing instead.\n",
      "  result['Qs'] = self.Qs[variation][self.PM[variation].columns[junctions]][modes] #TODO change the columns to junctions\n",
      "\n"
     ]
    },
    {
     "name": "stdout",
     "output_type": "stream",
     "text": [
      "\n",
      "ANALYSIS DONE. Data saved to:\n",
      "\n",
      "C:\\data-pyEPR\\Project40\\single_q_hfss\\2023-04-29 17-43-21.npz\n",
      "\n",
      "\n",
      "\t Differences in variations:\n",
      "\n",
      "\n",
      "\n",
      " . . . . . . . . . . . . . . . . . . . . . . . . . . . . . . . . . . . . . . . . \n",
      "Variation 0\n",
      "\n",
      "Starting the diagonalization\n",
      "Finished the diagonalization\n",
      "Pm_norm=\n",
      "modes\n",
      "0    1.095046\n",
      "dtype: float64\n",
      "\n",
      "Pm_norm idx =\n",
      "    jj1\n",
      "0  True\n",
      "*** P (participation matrix, not normlz.)\n",
      "        jj1\n",
      "0  0.905378\n",
      "\n",
      "*** S (sign-bit matrix)\n",
      "   s_jj1\n",
      "0      1\n",
      "*** P (participation matrix, normalized.)\n",
      "      0.99\n",
      "\n",
      "*** Chi matrix O1 PT (MHz)\n",
      "    Diag is anharmonicity, off diag is full cross-Kerr.\n",
      "       195\n",
      "\n",
      "*** Chi matrix ND (MHz) \n",
      "       214\n",
      "\n",
      "*** Frequencies O1 PT (MHz)\n",
      "0    4267.922793\n",
      "dtype: float64\n",
      "\n",
      "*** Frequencies ND (MHz)\n",
      "0    4258.557165\n",
      "dtype: float64\n",
      "\n",
      "*** Q_coupling\n",
      "Empty DataFrame\n",
      "Columns: []\n",
      "Index: [0]\n"
     ]
    },
    {
     "data": {
      "text/markdown": [
       "#### Mode frequencies (MHz)"
      ],
      "text/plain": [
       "<IPython.core.display.Markdown object>"
      ]
     },
     "metadata": {},
     "output_type": "display_data"
    },
    {
     "data": {
      "text/markdown": [
       "###### Numerical diagonalization"
      ],
      "text/plain": [
       "<IPython.core.display.Markdown object>"
      ]
     },
     "metadata": {},
     "output_type": "display_data"
    },
    {
     "data": {
      "text/html": [
       "<div>\n",
       "<style scoped>\n",
       "    .dataframe tbody tr th:only-of-type {\n",
       "        vertical-align: middle;\n",
       "    }\n",
       "\n",
       "    .dataframe tbody tr th {\n",
       "        vertical-align: top;\n",
       "    }\n",
       "\n",
       "    .dataframe thead th {\n",
       "        text-align: right;\n",
       "    }\n",
       "</style>\n",
       "<table border=\"1\" class=\"dataframe\">\n",
       "  <thead>\n",
       "    <tr style=\"text-align: right;\">\n",
       "      <th>Lj</th>\n",
       "      <th>13</th>\n",
       "    </tr>\n",
       "  </thead>\n",
       "  <tbody>\n",
       "    <tr>\n",
       "      <th>0</th>\n",
       "      <td>4258.56</td>\n",
       "    </tr>\n",
       "  </tbody>\n",
       "</table>\n",
       "</div>"
      ],
      "text/plain": [
       "Lj       13\n",
       "0   4258.56"
      ]
     },
     "metadata": {},
     "output_type": "display_data"
    },
    {
     "data": {
      "text/markdown": [
       "#### Kerr Non-linear coefficient table (MHz)"
      ],
      "text/plain": [
       "<IPython.core.display.Markdown object>"
      ]
     },
     "metadata": {},
     "output_type": "display_data"
    },
    {
     "data": {
      "text/markdown": [
       "###### Numerical diagonalization"
      ],
      "text/plain": [
       "<IPython.core.display.Markdown object>"
      ]
     },
     "metadata": {},
     "output_type": "display_data"
    },
    {
     "data": {
      "text/html": [
       "<div>\n",
       "<style scoped>\n",
       "    .dataframe tbody tr th:only-of-type {\n",
       "        vertical-align: middle;\n",
       "    }\n",
       "\n",
       "    .dataframe tbody tr th {\n",
       "        vertical-align: top;\n",
       "    }\n",
       "\n",
       "    .dataframe thead th {\n",
       "        text-align: right;\n",
       "    }\n",
       "</style>\n",
       "<table border=\"1\" class=\"dataframe\">\n",
       "  <thead>\n",
       "    <tr style=\"text-align: right;\">\n",
       "      <th></th>\n",
       "      <th></th>\n",
       "      <th>0</th>\n",
       "    </tr>\n",
       "    <tr>\n",
       "      <th>Lj</th>\n",
       "      <th></th>\n",
       "      <th></th>\n",
       "    </tr>\n",
       "  </thead>\n",
       "  <tbody>\n",
       "    <tr>\n",
       "      <th>13</th>\n",
       "      <th>0</th>\n",
       "      <td>214.42</td>\n",
       "    </tr>\n",
       "  </tbody>\n",
       "</table>\n",
       "</div>"
      ],
      "text/plain": [
       "           0\n",
       "Lj          \n",
       "13 0  214.42"
      ]
     },
     "metadata": {},
     "output_type": "display_data"
    },
    {
     "name": "stderr",
     "output_type": "stream",
     "text": [
      "INFO 05:43PM [connect_design]: \tOpened active design\n",
      "\tDesign:    a_q3d [Solution type: Q3D]\n",
      "INFO 05:43PM [get_setup]: \tOpened setup `Setup`  (<class 'pyEPR.ansys.AnsysQ3DSetup'>)\n",
      "INFO 05:43PM [analyze]: Analyzing setup Setup\n",
      "INFO 05:45PM [get_matrix]: Exporting matrix data to (C:\\Users\\slab\\AppData\\Local\\Temp\\tmpt38_iso6.txt, C, , Setup:LastAdaptive, \"Original\", \"ohm\", \"nH\", \"fF\", \"mSie\", 5000000000, Maxwell, 1, False\n",
      "INFO 05:45PM [get_matrix]: Exporting matrix data to (C:\\Users\\slab\\AppData\\Local\\Temp\\tmp7l880fqc.txt, C, , Setup:AdaptivePass, \"Original\", \"ohm\", \"nH\", \"fF\", \"mSie\", 5000000000, Maxwell, 1, False\n",
      "INFO 05:45PM [get_matrix]: Exporting matrix data to (C:\\Users\\slab\\AppData\\Local\\Temp\\tmp7izshx_l.txt, C, , Setup:AdaptivePass, \"Original\", \"ohm\", \"nH\", \"fF\", \"mSie\", 5000000000, Maxwell, 2, False\n",
      "INFO 05:45PM [get_matrix]: Exporting matrix data to (C:\\Users\\slab\\AppData\\Local\\Temp\\tmp5ku84vsu.txt, C, , Setup:AdaptivePass, \"Original\", \"ohm\", \"nH\", \"fF\", \"mSie\", 5000000000, Maxwell, 3, False\n",
      "INFO 05:45PM [get_matrix]: Exporting matrix data to (C:\\Users\\slab\\AppData\\Local\\Temp\\tmp10c24rr2.txt, C, , Setup:AdaptivePass, \"Original\", \"ohm\", \"nH\", \"fF\", \"mSie\", 5000000000, Maxwell, 4, False\n",
      "INFO 05:45PM [get_matrix]: Exporting matrix data to (C:\\Users\\slab\\AppData\\Local\\Temp\\tmpesbwdu4j.txt, C, , Setup:AdaptivePass, \"Original\", \"ohm\", \"nH\", \"fF\", \"mSie\", 5000000000, Maxwell, 5, False\n",
      "INFO 05:45PM [get_matrix]: Exporting matrix data to (C:\\Users\\slab\\AppData\\Local\\Temp\\tmpq6e1m_rh.txt, C, , Setup:AdaptivePass, \"Original\", \"ohm\", \"nH\", \"fF\", \"mSie\", 5000000000, Maxwell, 6, False\n",
      "INFO 05:45PM [get_matrix]: Exporting matrix data to (C:\\Users\\slab\\AppData\\Local\\Temp\\tmphqz4jqig.txt, C, , Setup:AdaptivePass, \"Original\", \"ohm\", \"nH\", \"fF\", \"mSie\", 5000000000, Maxwell, 7, False\n",
      "INFO 05:45PM [get_matrix]: Exporting matrix data to (C:\\Users\\slab\\AppData\\Local\\Temp\\tmp_by66oje.txt, C, , Setup:AdaptivePass, \"Original\", \"ohm\", \"nH\", \"fF\", \"mSie\", 5000000000, Maxwell, 8, False\n",
      "INFO 05:45PM [get_matrix]: Exporting matrix data to (C:\\Users\\slab\\AppData\\Local\\Temp\\tmp8ngb22zn.txt, C, , Setup:AdaptivePass, \"Original\", \"ohm\", \"nH\", \"fF\", \"mSie\", 5000000000, Maxwell, 9, False\n",
      "INFO 05:45PM [get_matrix]: Exporting matrix data to (C:\\Users\\slab\\AppData\\Local\\Temp\\tmpzldquzca.txt, C, , Setup:AdaptivePass, \"Original\", \"ohm\", \"nH\", \"fF\", \"mSie\", 5000000000, Maxwell, 10, False\n",
      "INFO 05:45PM [get_matrix]: Exporting matrix data to (C:\\Users\\slab\\AppData\\Local\\Temp\\tmpe9gvb9fc.txt, C, , Setup:AdaptivePass, \"Original\", \"ohm\", \"nH\", \"fF\", \"mSie\", 5000000000, Maxwell, 11, False\n",
      "INFO 05:45PM [connect_design]: \tOpened active design\n",
      "\tDesign:    single_q_hfss [Solution type: Eigenmode]\n",
      "INFO 05:45PM [get_setup]: \tOpened setup `Setup`  (<class 'pyEPR.ansys.HfssEMSetup'>)\n",
      "INFO 05:45PM [analyze]: Analyzing setup Setup\n",
      "05:48PM 21s INFO [get_f_convergence]: Saved convergences to c:\\Users\\slab\\Desktop\\Wendy-qiskit-code\\hfss_eig_f_convergence.csv\n"
     ]
    },
    {
     "name": "stdout",
     "output_type": "stream",
     "text": [
      "saddd\n",
      "Design \"single_q_hfss\" info:\n",
      "\t# eigenmodes    1\n",
      "\t# variations    1\n",
      "Design \"single_q_hfss\" info:\n",
      "\t# eigenmodes    1\n",
      "\t# variations    1\n"
     ]
    },
    {
     "name": "stderr",
     "output_type": "stream",
     "text": [
      "WARNING:py.warnings:c:\\Users\\slab\\anaconda3\\envs\\qmetal\\lib\\site-packages\\pyEPR\\project_info.py:239: FutureWarning: The default dtype for empty Series will be 'object' instead of 'float64' in a future version. Specify a dtype explicitly to silence this warning.\n",
      "  options=pd.Series(get_instance_vars(self.options)),\n",
      "\n"
     ]
    },
    {
     "name": "stdout",
     "output_type": "stream",
     "text": [
      "\n",
      "        energy_elec_all       = 3.0132782220398e-25\n",
      "        energy_elec_substrate = 2.76566441385309e-25\n",
      "        EPR of substrate = 91.8%\n",
      "\n",
      "        energy_mag    = 2.32277860453023e-27\n",
      "        energy_mag % of energy_elec_all  = 0.8%\n",
      "        \n",
      "\n",
      "Variation 0  [1/1]\n"
     ]
    },
    {
     "name": "stderr",
     "output_type": "stream",
     "text": [
      "WARNING:py.warnings:c:\\Users\\slab\\anaconda3\\envs\\qmetal\\lib\\site-packages\\pyEPR\\core_distributed_analysis.py:1101: FutureWarning: The default dtype for empty Series will be 'object' instead of 'float64' in a future version. Specify a dtype explicitly to silence this warning.\n",
      "  Ljs = pd.Series({})\n",
      "\n",
      "WARNING:py.warnings:c:\\Users\\slab\\anaconda3\\envs\\qmetal\\lib\\site-packages\\pyEPR\\core_distributed_analysis.py:1102: FutureWarning: The default dtype for empty Series will be 'object' instead of 'float64' in a future version. Specify a dtype explicitly to silence this warning.\n",
      "  Cjs = pd.Series({})\n",
      "\n",
      "WARNING:py.warnings:c:\\Users\\slab\\anaconda3\\envs\\qmetal\\lib\\site-packages\\pyEPR\\core_distributed_analysis.py:1245: FutureWarning: The default dtype for empty Series will be 'object' instead of 'float64' in a future version. Specify a dtype explicitly to silence this warning.\n",
      "  _Om = pd.Series({})\n",
      "\n"
     ]
    },
    {
     "name": "stdout",
     "output_type": "stream",
     "text": [
      "\n",
      "  \u001b[1mMode 0 at 4.69 GHz   [1/1]\u001b[0m\n",
      "    Calculating ℰ_magnetic,ℰ_electric\n"
     ]
    },
    {
     "name": "stderr",
     "output_type": "stream",
     "text": [
      "WARNING:py.warnings:c:\\Users\\slab\\anaconda3\\envs\\qmetal\\lib\\site-packages\\pyEPR\\core_distributed_analysis.py:981: FutureWarning: The default dtype for empty Series will be 'object' instead of 'float64' in a future version. Specify a dtype explicitly to silence this warning.\n",
      "  Sj = pd.Series({})\n",
      "\n"
     ]
    },
    {
     "name": "stdout",
     "output_type": "stream",
     "text": [
      "       (ℰ_E-ℰ_H)/ℰ_E       ℰ_E       ℰ_H\n",
      "               99.2%  1.507e-25 1.161e-27\n",
      "\n",
      "    Calculating junction energy participation ration (EPR)\n",
      "\tmethod=`line_voltage`. First estimates:\n",
      "\tjunction        EPR p_0j   sign s_0j    (p_capacitive)\n"
     ]
    },
    {
     "name": "stderr",
     "output_type": "stream",
     "text": [
      "WARNING:py.warnings:c:\\Users\\slab\\anaconda3\\envs\\qmetal\\lib\\site-packages\\pyEPR\\core_distributed_analysis.py:933: FutureWarning: The default dtype for empty Series will be 'object' instead of 'float64' in a future version. Specify a dtype explicitly to silence this warning.\n",
      "  Qp = pd.Series({})\n",
      "\n"
     ]
    },
    {
     "name": "stdout",
     "output_type": "stream",
     "text": [
      "\t\tEnergy fraction (Lj over Lj&Cj)= 98.30%\n",
      "\tjj1              1.22646  (+)        0.0212691\n",
      "\t\t(U_tot_cap-U_tot_ind)/mean=-9.44%\n",
      "Calculating Qdielectric_main for mode 0 (0/0)\n"
     ]
    },
    {
     "name": "stderr",
     "output_type": "stream",
     "text": [
      "WARNING:py.warnings:c:\\Users\\slab\\anaconda3\\envs\\qmetal\\lib\\site-packages\\pyEPR\\core_distributed_analysis.py:1307: FutureWarning: The series.append method is deprecated and will be removed from pandas in a future version. Use pandas.concat instead.\n",
      "  sol = sol.append(self.get_Qdielectric(\n",
      "\n"
     ]
    },
    {
     "name": "stdout",
     "output_type": "stream",
     "text": [
      "p_dielectric_main_0 = 0.9178257731477941\n"
     ]
    },
    {
     "name": "stderr",
     "output_type": "stream",
     "text": [
      "WARNING:py.warnings:c:\\Users\\slab\\anaconda3\\envs\\qmetal\\lib\\site-packages\\pyEPR\\project_info.py:239: FutureWarning: The default dtype for empty Series will be 'object' instead of 'float64' in a future version. Specify a dtype explicitly to silence this warning.\n",
      "  options=pd.Series(get_instance_vars(self.options)),\n",
      "\n",
      "WARNING 05:48PM [__init__]: <p>Error: <class 'IndexError'></p>\n",
      "ERROR 05:48PM [_get_participation_normalized]: WARNING: U_tot_cap-U_tot_ind / mean = 18.9% is > 15%.                     \n",
      "Is the simulation converged? Proceed with caution\n",
      "ERROR 05:48PM [_get_participation_normalized]: WARNING: U_tot_cap-U_tot_ind / mean = 18.9% is > 15%.                     \n",
      "Is the simulation converged? Proceed with caution\n",
      "WARNING:py.warnings:c:\\Users\\slab\\anaconda3\\envs\\qmetal\\lib\\site-packages\\pyEPR\\core_quantum_analysis.py:712: FutureWarning: Support for multi-dimensional indexing (e.g. `obj[:, None]`) is deprecated and will be removed in a future version.  Convert to a numpy array before indexing instead.\n",
      "  result['Q_coupling'] = self.Qm_coupling[variation][self.Qm_coupling[variation].columns[junctions]][modes]#TODO change the columns to junctions\n",
      "\n",
      "WARNING:py.warnings:c:\\Users\\slab\\anaconda3\\envs\\qmetal\\lib\\site-packages\\pyEPR\\core_quantum_analysis.py:717: FutureWarning: Support for multi-dimensional indexing (e.g. `obj[:, None]`) is deprecated and will be removed in a future version.  Convert to a numpy array before indexing instead.\n",
      "  result['Qs'] = self.Qs[variation][self.PM[variation].columns[junctions]][modes] #TODO change the columns to junctions\n",
      "\n"
     ]
    },
    {
     "name": "stdout",
     "output_type": "stream",
     "text": [
      "\n",
      "ANALYSIS DONE. Data saved to:\n",
      "\n",
      "C:\\data-pyEPR\\Project40\\single_q_hfss\\2023-04-29 17-48-22.npz\n",
      "\n",
      "\n",
      "\t Differences in variations:\n",
      "\n",
      "\n",
      "\n",
      " . . . . . . . . . . . . . . . . . . . . . . . . . . . . . . . . . . . . . . . . \n",
      "Variation 0\n",
      "\n",
      "Starting the diagonalization\n",
      "Finished the diagonalization\n",
      "Pm_norm=\n",
      "modes\n",
      "0    0.827007\n",
      "dtype: float64\n",
      "\n",
      "Pm_norm idx =\n",
      "    jj1\n",
      "0  True\n",
      "*** P (participation matrix, not normlz.)\n",
      "        jj1\n",
      "0  1.200914\n",
      "\n",
      "*** S (sign-bit matrix)\n",
      "   s_jj1\n",
      "0     -1\n",
      "*** P (participation matrix, normalized.)\n",
      "      0.99\n",
      "\n",
      "*** Chi matrix O1 PT (MHz)\n",
      "    Diag is anharmonicity, off diag is full cross-Kerr.\n",
      "       166\n",
      "\n",
      "*** Chi matrix ND (MHz) \n",
      "       179\n",
      "\n",
      "*** Frequencies O1 PT (MHz)\n",
      "0    4520.888779\n",
      "dtype: float64\n",
      "\n",
      "*** Frequencies ND (MHz)\n",
      "0    4514.543572\n",
      "dtype: float64\n",
      "\n",
      "*** Q_coupling\n",
      "Empty DataFrame\n",
      "Columns: []\n",
      "Index: [0]\n"
     ]
    },
    {
     "data": {
      "text/markdown": [
       "#### Mode frequencies (MHz)"
      ],
      "text/plain": [
       "<IPython.core.display.Markdown object>"
      ]
     },
     "metadata": {},
     "output_type": "display_data"
    },
    {
     "data": {
      "text/markdown": [
       "###### Numerical diagonalization"
      ],
      "text/plain": [
       "<IPython.core.display.Markdown object>"
      ]
     },
     "metadata": {},
     "output_type": "display_data"
    },
    {
     "data": {
      "text/html": [
       "<div>\n",
       "<style scoped>\n",
       "    .dataframe tbody tr th:only-of-type {\n",
       "        vertical-align: middle;\n",
       "    }\n",
       "\n",
       "    .dataframe tbody tr th {\n",
       "        vertical-align: top;\n",
       "    }\n",
       "\n",
       "    .dataframe thead th {\n",
       "        text-align: right;\n",
       "    }\n",
       "</style>\n",
       "<table border=\"1\" class=\"dataframe\">\n",
       "  <thead>\n",
       "    <tr style=\"text-align: right;\">\n",
       "      <th>Lj</th>\n",
       "      <th>10</th>\n",
       "    </tr>\n",
       "  </thead>\n",
       "  <tbody>\n",
       "    <tr>\n",
       "      <th>0</th>\n",
       "      <td>4514.54</td>\n",
       "    </tr>\n",
       "  </tbody>\n",
       "</table>\n",
       "</div>"
      ],
      "text/plain": [
       "Lj       10\n",
       "0   4514.54"
      ]
     },
     "metadata": {},
     "output_type": "display_data"
    },
    {
     "data": {
      "text/markdown": [
       "#### Kerr Non-linear coefficient table (MHz)"
      ],
      "text/plain": [
       "<IPython.core.display.Markdown object>"
      ]
     },
     "metadata": {},
     "output_type": "display_data"
    },
    {
     "data": {
      "text/markdown": [
       "###### Numerical diagonalization"
      ],
      "text/plain": [
       "<IPython.core.display.Markdown object>"
      ]
     },
     "metadata": {},
     "output_type": "display_data"
    },
    {
     "data": {
      "text/html": [
       "<div>\n",
       "<style scoped>\n",
       "    .dataframe tbody tr th:only-of-type {\n",
       "        vertical-align: middle;\n",
       "    }\n",
       "\n",
       "    .dataframe tbody tr th {\n",
       "        vertical-align: top;\n",
       "    }\n",
       "\n",
       "    .dataframe thead th {\n",
       "        text-align: right;\n",
       "    }\n",
       "</style>\n",
       "<table border=\"1\" class=\"dataframe\">\n",
       "  <thead>\n",
       "    <tr style=\"text-align: right;\">\n",
       "      <th></th>\n",
       "      <th></th>\n",
       "      <th>0</th>\n",
       "    </tr>\n",
       "    <tr>\n",
       "      <th>Lj</th>\n",
       "      <th></th>\n",
       "      <th></th>\n",
       "    </tr>\n",
       "  </thead>\n",
       "  <tbody>\n",
       "    <tr>\n",
       "      <th>10</th>\n",
       "      <th>0</th>\n",
       "      <td>179.34</td>\n",
       "    </tr>\n",
       "  </tbody>\n",
       "</table>\n",
       "</div>"
      ],
      "text/plain": [
       "           0\n",
       "Lj          \n",
       "10 0  179.34"
      ]
     },
     "metadata": {},
     "output_type": "display_data"
    },
    {
     "name": "stderr",
     "output_type": "stream",
     "text": [
      "INFO 05:48PM [connect_design]: \tOpened active design\n",
      "\tDesign:    a_q3d [Solution type: Q3D]\n",
      "INFO 05:48PM [get_setup]: \tOpened setup `Setup`  (<class 'pyEPR.ansys.AnsysQ3DSetup'>)\n",
      "INFO 05:48PM [analyze]: Analyzing setup Setup\n",
      "INFO 05:50PM [get_matrix]: Exporting matrix data to (C:\\Users\\slab\\AppData\\Local\\Temp\\tmpbc72grwi.txt, C, , Setup:LastAdaptive, \"Original\", \"ohm\", \"nH\", \"fF\", \"mSie\", 5000000000, Maxwell, 1, False\n",
      "INFO 05:50PM [get_matrix]: Exporting matrix data to (C:\\Users\\slab\\AppData\\Local\\Temp\\tmp6lsuokim.txt, C, , Setup:AdaptivePass, \"Original\", \"ohm\", \"nH\", \"fF\", \"mSie\", 5000000000, Maxwell, 1, False\n",
      "INFO 05:50PM [get_matrix]: Exporting matrix data to (C:\\Users\\slab\\AppData\\Local\\Temp\\tmpgcs01yp9.txt, C, , Setup:AdaptivePass, \"Original\", \"ohm\", \"nH\", \"fF\", \"mSie\", 5000000000, Maxwell, 2, False\n",
      "INFO 05:50PM [get_matrix]: Exporting matrix data to (C:\\Users\\slab\\AppData\\Local\\Temp\\tmp01pzuz5z.txt, C, , Setup:AdaptivePass, \"Original\", \"ohm\", \"nH\", \"fF\", \"mSie\", 5000000000, Maxwell, 3, False\n",
      "INFO 05:50PM [get_matrix]: Exporting matrix data to (C:\\Users\\slab\\AppData\\Local\\Temp\\tmpqafbxl30.txt, C, , Setup:AdaptivePass, \"Original\", \"ohm\", \"nH\", \"fF\", \"mSie\", 5000000000, Maxwell, 4, False\n",
      "INFO 05:50PM [get_matrix]: Exporting matrix data to (C:\\Users\\slab\\AppData\\Local\\Temp\\tmptp6n5hhg.txt, C, , Setup:AdaptivePass, \"Original\", \"ohm\", \"nH\", \"fF\", \"mSie\", 5000000000, Maxwell, 5, False\n",
      "INFO 05:50PM [get_matrix]: Exporting matrix data to (C:\\Users\\slab\\AppData\\Local\\Temp\\tmpu45hhjkd.txt, C, , Setup:AdaptivePass, \"Original\", \"ohm\", \"nH\", \"fF\", \"mSie\", 5000000000, Maxwell, 6, False\n",
      "INFO 05:50PM [get_matrix]: Exporting matrix data to (C:\\Users\\slab\\AppData\\Local\\Temp\\tmp6gey7usc.txt, C, , Setup:AdaptivePass, \"Original\", \"ohm\", \"nH\", \"fF\", \"mSie\", 5000000000, Maxwell, 7, False\n",
      "INFO 05:50PM [get_matrix]: Exporting matrix data to (C:\\Users\\slab\\AppData\\Local\\Temp\\tmpxteafvi4.txt, C, , Setup:AdaptivePass, \"Original\", \"ohm\", \"nH\", \"fF\", \"mSie\", 5000000000, Maxwell, 8, False\n",
      "INFO 05:50PM [get_matrix]: Exporting matrix data to (C:\\Users\\slab\\AppData\\Local\\Temp\\tmp_pkueqvb.txt, C, , Setup:AdaptivePass, \"Original\", \"ohm\", \"nH\", \"fF\", \"mSie\", 5000000000, Maxwell, 9, False\n",
      "INFO 05:50PM [get_matrix]: Exporting matrix data to (C:\\Users\\slab\\AppData\\Local\\Temp\\tmpzaurc5lr.txt, C, , Setup:AdaptivePass, \"Original\", \"ohm\", \"nH\", \"fF\", \"mSie\", 5000000000, Maxwell, 10, False\n",
      "INFO 05:50PM [get_matrix]: Exporting matrix data to (C:\\Users\\slab\\AppData\\Local\\Temp\\tmp3327qh5w.txt, C, , Setup:AdaptivePass, \"Original\", \"ohm\", \"nH\", \"fF\", \"mSie\", 5000000000, Maxwell, 11, False\n",
      "INFO 05:50PM [connect_design]: \tOpened active design\n",
      "\tDesign:    single_q_hfss [Solution type: Eigenmode]\n",
      "INFO 05:50PM [get_setup]: \tOpened setup `Setup`  (<class 'pyEPR.ansys.HfssEMSetup'>)\n",
      "INFO 05:50PM [analyze]: Analyzing setup Setup\n",
      "05:54PM 09s INFO [get_f_convergence]: Saved convergences to c:\\Users\\slab\\Desktop\\Wendy-qiskit-code\\hfss_eig_f_convergence.csv\n"
     ]
    },
    {
     "name": "stdout",
     "output_type": "stream",
     "text": [
      "saddd\n",
      "Design \"single_q_hfss\" info:\n",
      "\t# eigenmodes    1\n",
      "\t# variations    1\n",
      "Design \"single_q_hfss\" info:\n",
      "\t# eigenmodes    1\n",
      "\t# variations    1\n"
     ]
    },
    {
     "name": "stderr",
     "output_type": "stream",
     "text": [
      "WARNING:py.warnings:c:\\Users\\slab\\anaconda3\\envs\\qmetal\\lib\\site-packages\\pyEPR\\project_info.py:239: FutureWarning: The default dtype for empty Series will be 'object' instead of 'float64' in a future version. Specify a dtype explicitly to silence this warning.\n",
      "  options=pd.Series(get_instance_vars(self.options)),\n",
      "\n"
     ]
    },
    {
     "name": "stdout",
     "output_type": "stream",
     "text": [
      "\n",
      "        energy_elec_all       = 3.5952497567968e-25\n",
      "        energy_elec_substrate = 3.30032940317998e-25\n",
      "        EPR of substrate = 91.8%\n",
      "\n",
      "        energy_mag    = 2.57819756931655e-27\n",
      "        energy_mag % of energy_elec_all  = 0.7%\n",
      "        \n",
      "\n",
      "Variation 0  [1/1]\n"
     ]
    },
    {
     "name": "stderr",
     "output_type": "stream",
     "text": [
      "WARNING:py.warnings:c:\\Users\\slab\\anaconda3\\envs\\qmetal\\lib\\site-packages\\pyEPR\\core_distributed_analysis.py:1101: FutureWarning: The default dtype for empty Series will be 'object' instead of 'float64' in a future version. Specify a dtype explicitly to silence this warning.\n",
      "  Ljs = pd.Series({})\n",
      "\n",
      "WARNING:py.warnings:c:\\Users\\slab\\anaconda3\\envs\\qmetal\\lib\\site-packages\\pyEPR\\core_distributed_analysis.py:1102: FutureWarning: The default dtype for empty Series will be 'object' instead of 'float64' in a future version. Specify a dtype explicitly to silence this warning.\n",
      "  Cjs = pd.Series({})\n",
      "\n",
      "WARNING:py.warnings:c:\\Users\\slab\\anaconda3\\envs\\qmetal\\lib\\site-packages\\pyEPR\\core_distributed_analysis.py:1245: FutureWarning: The default dtype for empty Series will be 'object' instead of 'float64' in a future version. Specify a dtype explicitly to silence this warning.\n",
      "  _Om = pd.Series({})\n",
      "\n"
     ]
    },
    {
     "name": "stdout",
     "output_type": "stream",
     "text": [
      "\n",
      "  \u001b[1mMode 0 at 4.79 GHz   [1/1]\u001b[0m\n",
      "    Calculating ℰ_magnetic,ℰ_electric\n"
     ]
    },
    {
     "name": "stderr",
     "output_type": "stream",
     "text": [
      "WARNING:py.warnings:c:\\Users\\slab\\anaconda3\\envs\\qmetal\\lib\\site-packages\\pyEPR\\core_distributed_analysis.py:981: FutureWarning: The default dtype for empty Series will be 'object' instead of 'float64' in a future version. Specify a dtype explicitly to silence this warning.\n",
      "  Sj = pd.Series({})\n",
      "\n"
     ]
    },
    {
     "name": "stdout",
     "output_type": "stream",
     "text": [
      "       (ℰ_E-ℰ_H)/ℰ_E       ℰ_E       ℰ_H\n",
      "               99.3%  1.798e-25 1.289e-27\n",
      "\n",
      "    Calculating junction energy participation ration (EPR)\n",
      "\tmethod=`line_voltage`. First estimates:\n",
      "\tjunction        EPR p_0j   sign s_0j    (p_capacitive)\n"
     ]
    },
    {
     "name": "stderr",
     "output_type": "stream",
     "text": [
      "WARNING:py.warnings:c:\\Users\\slab\\anaconda3\\envs\\qmetal\\lib\\site-packages\\pyEPR\\core_distributed_analysis.py:933: FutureWarning: The default dtype for empty Series will be 'object' instead of 'float64' in a future version. Specify a dtype explicitly to silence this warning.\n",
      "  Qp = pd.Series({})\n",
      "\n"
     ]
    },
    {
     "name": "stdout",
     "output_type": "stream",
     "text": [
      "\t\tEnergy fraction (Lj over Lj&Cj)= 98.22%\n",
      "\tjj1               1.2386  (+)        0.0224123\n",
      "\t\t(U_tot_cap-U_tot_ind)/mean=-9.85%\n",
      "Calculating Qdielectric_main for mode 0 (0/0)\n"
     ]
    },
    {
     "name": "stderr",
     "output_type": "stream",
     "text": [
      "WARNING:py.warnings:c:\\Users\\slab\\anaconda3\\envs\\qmetal\\lib\\site-packages\\pyEPR\\core_distributed_analysis.py:1307: FutureWarning: The series.append method is deprecated and will be removed from pandas in a future version. Use pandas.concat instead.\n",
      "  sol = sol.append(self.get_Qdielectric(\n",
      "\n"
     ]
    },
    {
     "name": "stdout",
     "output_type": "stream",
     "text": [
      "p_dielectric_main_0 = 0.917969439241523\n"
     ]
    },
    {
     "name": "stderr",
     "output_type": "stream",
     "text": [
      "WARNING:py.warnings:c:\\Users\\slab\\anaconda3\\envs\\qmetal\\lib\\site-packages\\pyEPR\\project_info.py:239: FutureWarning: The default dtype for empty Series will be 'object' instead of 'float64' in a future version. Specify a dtype explicitly to silence this warning.\n",
      "  options=pd.Series(get_instance_vars(self.options)),\n",
      "\n",
      "WARNING 05:54PM [__init__]: <p>Error: <class 'IndexError'></p>\n",
      "ERROR 05:54PM [_get_participation_normalized]: WARNING: U_tot_cap-U_tot_ind / mean = 19.7% is > 15%.                     \n",
      "Is the simulation converged? Proceed with caution\n",
      "ERROR 05:54PM [_get_participation_normalized]: WARNING: U_tot_cap-U_tot_ind / mean = 19.7% is > 15%.                     \n",
      "Is the simulation converged? Proceed with caution\n",
      "WARNING:py.warnings:c:\\Users\\slab\\anaconda3\\envs\\qmetal\\lib\\site-packages\\pyEPR\\core_quantum_analysis.py:712: FutureWarning: Support for multi-dimensional indexing (e.g. `obj[:, None]`) is deprecated and will be removed in a future version.  Convert to a numpy array before indexing instead.\n",
      "  result['Q_coupling'] = self.Qm_coupling[variation][self.Qm_coupling[variation].columns[junctions]][modes]#TODO change the columns to junctions\n",
      "\n",
      "WARNING:py.warnings:c:\\Users\\slab\\anaconda3\\envs\\qmetal\\lib\\site-packages\\pyEPR\\core_quantum_analysis.py:717: FutureWarning: Support for multi-dimensional indexing (e.g. `obj[:, None]`) is deprecated and will be removed in a future version.  Convert to a numpy array before indexing instead.\n",
      "  result['Qs'] = self.Qs[variation][self.PM[variation].columns[junctions]][modes] #TODO change the columns to junctions\n",
      "\n"
     ]
    },
    {
     "name": "stdout",
     "output_type": "stream",
     "text": [
      "\n",
      "ANALYSIS DONE. Data saved to:\n",
      "\n",
      "C:\\data-pyEPR\\Project40\\single_q_hfss\\2023-04-29 17-54-11.npz\n",
      "\n",
      "\n",
      "\t Differences in variations:\n",
      "\n",
      "\n",
      "\n",
      " . . . . . . . . . . . . . . . . . . . . . . . . . . . . . . . . . . . . . . . . \n",
      "Variation 0\n",
      "\n",
      "Starting the diagonalization\n",
      "Finished the diagonalization\n",
      "Pm_norm=\n",
      "modes\n",
      "0    0.820237\n",
      "dtype: float64\n",
      "\n",
      "Pm_norm idx =\n",
      "    jj1\n",
      "0  True\n",
      "*** P (participation matrix, not normlz.)\n",
      "        jj1\n",
      "0  1.211451\n",
      "\n",
      "*** S (sign-bit matrix)\n",
      "   s_jj1\n",
      "0      1\n",
      "*** P (participation matrix, normalized.)\n",
      "      0.99\n",
      "\n",
      "*** Chi matrix O1 PT (MHz)\n",
      "    Diag is anharmonicity, off diag is full cross-Kerr.\n",
      "       173\n",
      "\n",
      "*** Chi matrix ND (MHz) \n",
      "       188\n",
      "\n",
      "*** Frequencies O1 PT (MHz)\n",
      "0    4614.166973\n",
      "dtype: float64\n",
      "\n",
      "*** Frequencies ND (MHz)\n",
      "0    4607.372749\n",
      "dtype: float64\n",
      "\n",
      "*** Q_coupling\n",
      "Empty DataFrame\n",
      "Columns: []\n",
      "Index: [0]\n"
     ]
    },
    {
     "data": {
      "text/markdown": [
       "#### Mode frequencies (MHz)"
      ],
      "text/plain": [
       "<IPython.core.display.Markdown object>"
      ]
     },
     "metadata": {},
     "output_type": "display_data"
    },
    {
     "data": {
      "text/markdown": [
       "###### Numerical diagonalization"
      ],
      "text/plain": [
       "<IPython.core.display.Markdown object>"
      ]
     },
     "metadata": {},
     "output_type": "display_data"
    },
    {
     "data": {
      "text/html": [
       "<div>\n",
       "<style scoped>\n",
       "    .dataframe tbody tr th:only-of-type {\n",
       "        vertical-align: middle;\n",
       "    }\n",
       "\n",
       "    .dataframe tbody tr th {\n",
       "        vertical-align: top;\n",
       "    }\n",
       "\n",
       "    .dataframe thead th {\n",
       "        text-align: right;\n",
       "    }\n",
       "</style>\n",
       "<table border=\"1\" class=\"dataframe\">\n",
       "  <thead>\n",
       "    <tr style=\"text-align: right;\">\n",
       "      <th>Lj</th>\n",
       "      <th>10</th>\n",
       "    </tr>\n",
       "  </thead>\n",
       "  <tbody>\n",
       "    <tr>\n",
       "      <th>0</th>\n",
       "      <td>4607.37</td>\n",
       "    </tr>\n",
       "  </tbody>\n",
       "</table>\n",
       "</div>"
      ],
      "text/plain": [
       "Lj       10\n",
       "0   4607.37"
      ]
     },
     "metadata": {},
     "output_type": "display_data"
    },
    {
     "data": {
      "text/markdown": [
       "#### Kerr Non-linear coefficient table (MHz)"
      ],
      "text/plain": [
       "<IPython.core.display.Markdown object>"
      ]
     },
     "metadata": {},
     "output_type": "display_data"
    },
    {
     "data": {
      "text/markdown": [
       "###### Numerical diagonalization"
      ],
      "text/plain": [
       "<IPython.core.display.Markdown object>"
      ]
     },
     "metadata": {},
     "output_type": "display_data"
    },
    {
     "data": {
      "text/html": [
       "<div>\n",
       "<style scoped>\n",
       "    .dataframe tbody tr th:only-of-type {\n",
       "        vertical-align: middle;\n",
       "    }\n",
       "\n",
       "    .dataframe tbody tr th {\n",
       "        vertical-align: top;\n",
       "    }\n",
       "\n",
       "    .dataframe thead th {\n",
       "        text-align: right;\n",
       "    }\n",
       "</style>\n",
       "<table border=\"1\" class=\"dataframe\">\n",
       "  <thead>\n",
       "    <tr style=\"text-align: right;\">\n",
       "      <th></th>\n",
       "      <th></th>\n",
       "      <th>0</th>\n",
       "    </tr>\n",
       "    <tr>\n",
       "      <th>Lj</th>\n",
       "      <th></th>\n",
       "      <th></th>\n",
       "    </tr>\n",
       "  </thead>\n",
       "  <tbody>\n",
       "    <tr>\n",
       "      <th>10</th>\n",
       "      <th>0</th>\n",
       "      <td>187.66</td>\n",
       "    </tr>\n",
       "  </tbody>\n",
       "</table>\n",
       "</div>"
      ],
      "text/plain": [
       "           0\n",
       "Lj          \n",
       "10 0  187.66"
      ]
     },
     "metadata": {},
     "output_type": "display_data"
    },
    {
     "name": "stderr",
     "output_type": "stream",
     "text": [
      "INFO 05:54PM [connect_design]: \tOpened active design\n",
      "\tDesign:    a_q3d [Solution type: Q3D]\n",
      "INFO 05:54PM [get_setup]: \tOpened setup `Setup`  (<class 'pyEPR.ansys.AnsysQ3DSetup'>)\n",
      "INFO 05:54PM [analyze]: Analyzing setup Setup\n",
      "INFO 05:56PM [get_matrix]: Exporting matrix data to (C:\\Users\\slab\\AppData\\Local\\Temp\\tmptfrah098.txt, C, , Setup:LastAdaptive, \"Original\", \"ohm\", \"nH\", \"fF\", \"mSie\", 5000000000, Maxwell, 1, False\n",
      "INFO 05:56PM [get_matrix]: Exporting matrix data to (C:\\Users\\slab\\AppData\\Local\\Temp\\tmpb89v_wru.txt, C, , Setup:AdaptivePass, \"Original\", \"ohm\", \"nH\", \"fF\", \"mSie\", 5000000000, Maxwell, 1, False\n",
      "INFO 05:56PM [get_matrix]: Exporting matrix data to (C:\\Users\\slab\\AppData\\Local\\Temp\\tmpzuq4bm0a.txt, C, , Setup:AdaptivePass, \"Original\", \"ohm\", \"nH\", \"fF\", \"mSie\", 5000000000, Maxwell, 2, False\n",
      "INFO 05:56PM [get_matrix]: Exporting matrix data to (C:\\Users\\slab\\AppData\\Local\\Temp\\tmpou_jex0v.txt, C, , Setup:AdaptivePass, \"Original\", \"ohm\", \"nH\", \"fF\", \"mSie\", 5000000000, Maxwell, 3, False\n",
      "INFO 05:56PM [get_matrix]: Exporting matrix data to (C:\\Users\\slab\\AppData\\Local\\Temp\\tmpsz9k_fzw.txt, C, , Setup:AdaptivePass, \"Original\", \"ohm\", \"nH\", \"fF\", \"mSie\", 5000000000, Maxwell, 4, False\n",
      "INFO 05:56PM [get_matrix]: Exporting matrix data to (C:\\Users\\slab\\AppData\\Local\\Temp\\tmpwhl7uhgv.txt, C, , Setup:AdaptivePass, \"Original\", \"ohm\", \"nH\", \"fF\", \"mSie\", 5000000000, Maxwell, 5, False\n",
      "INFO 05:56PM [get_matrix]: Exporting matrix data to (C:\\Users\\slab\\AppData\\Local\\Temp\\tmp5g1drtmd.txt, C, , Setup:AdaptivePass, \"Original\", \"ohm\", \"nH\", \"fF\", \"mSie\", 5000000000, Maxwell, 6, False\n",
      "INFO 05:56PM [get_matrix]: Exporting matrix data to (C:\\Users\\slab\\AppData\\Local\\Temp\\tmpkcqfnp6o.txt, C, , Setup:AdaptivePass, \"Original\", \"ohm\", \"nH\", \"fF\", \"mSie\", 5000000000, Maxwell, 7, False\n",
      "INFO 05:56PM [get_matrix]: Exporting matrix data to (C:\\Users\\slab\\AppData\\Local\\Temp\\tmph8k1hkbf.txt, C, , Setup:AdaptivePass, \"Original\", \"ohm\", \"nH\", \"fF\", \"mSie\", 5000000000, Maxwell, 8, False\n",
      "INFO 05:56PM [get_matrix]: Exporting matrix data to (C:\\Users\\slab\\AppData\\Local\\Temp\\tmp8_uvia99.txt, C, , Setup:AdaptivePass, \"Original\", \"ohm\", \"nH\", \"fF\", \"mSie\", 5000000000, Maxwell, 9, False\n",
      "INFO 05:56PM [get_matrix]: Exporting matrix data to (C:\\Users\\slab\\AppData\\Local\\Temp\\tmpgf5opndh.txt, C, , Setup:AdaptivePass, \"Original\", \"ohm\", \"nH\", \"fF\", \"mSie\", 5000000000, Maxwell, 10, False\n",
      "INFO 05:56PM [get_matrix]: Exporting matrix data to (C:\\Users\\slab\\AppData\\Local\\Temp\\tmpcxfynu8i.txt, C, , Setup:AdaptivePass, \"Original\", \"ohm\", \"nH\", \"fF\", \"mSie\", 5000000000, Maxwell, 11, False\n",
      "INFO 05:56PM [connect_design]: \tOpened active design\n",
      "\tDesign:    single_q_hfss [Solution type: Eigenmode]\n",
      "INFO 05:56PM [get_setup]: \tOpened setup `Setup`  (<class 'pyEPR.ansys.HfssEMSetup'>)\n",
      "INFO 05:56PM [analyze]: Analyzing setup Setup\n",
      "06:00PM 45s INFO [get_f_convergence]: Saved convergences to c:\\Users\\slab\\Desktop\\Wendy-qiskit-code\\hfss_eig_f_convergence.csv\n"
     ]
    },
    {
     "name": "stdout",
     "output_type": "stream",
     "text": [
      "saddd\n",
      "Design \"single_q_hfss\" info:\n",
      "\t# eigenmodes    1\n",
      "\t# variations    1\n",
      "Design \"single_q_hfss\" info:\n",
      "\t# eigenmodes    1\n",
      "\t# variations    1\n"
     ]
    },
    {
     "name": "stderr",
     "output_type": "stream",
     "text": [
      "WARNING:py.warnings:c:\\Users\\slab\\anaconda3\\envs\\qmetal\\lib\\site-packages\\pyEPR\\project_info.py:239: FutureWarning: The default dtype for empty Series will be 'object' instead of 'float64' in a future version. Specify a dtype explicitly to silence this warning.\n",
      "  options=pd.Series(get_instance_vars(self.options)),\n",
      "\n"
     ]
    },
    {
     "name": "stdout",
     "output_type": "stream",
     "text": [
      "\n",
      "        energy_elec_all       = 4.59898625434959e-25\n",
      "        energy_elec_substrate = 4.22042487078059e-25\n",
      "        EPR of substrate = 91.8%\n",
      "\n",
      "        energy_mag    = 4.0966327327892e-27\n",
      "        energy_mag % of energy_elec_all  = 0.9%\n",
      "        \n",
      "\n",
      "Variation 0  [1/1]\n"
     ]
    },
    {
     "name": "stderr",
     "output_type": "stream",
     "text": [
      "WARNING:py.warnings:c:\\Users\\slab\\anaconda3\\envs\\qmetal\\lib\\site-packages\\pyEPR\\core_distributed_analysis.py:1101: FutureWarning: The default dtype for empty Series will be 'object' instead of 'float64' in a future version. Specify a dtype explicitly to silence this warning.\n",
      "  Ljs = pd.Series({})\n",
      "\n",
      "WARNING:py.warnings:c:\\Users\\slab\\anaconda3\\envs\\qmetal\\lib\\site-packages\\pyEPR\\core_distributed_analysis.py:1102: FutureWarning: The default dtype for empty Series will be 'object' instead of 'float64' in a future version. Specify a dtype explicitly to silence this warning.\n",
      "  Cjs = pd.Series({})\n",
      "\n",
      "WARNING:py.warnings:c:\\Users\\slab\\anaconda3\\envs\\qmetal\\lib\\site-packages\\pyEPR\\core_distributed_analysis.py:1245: FutureWarning: The default dtype for empty Series will be 'object' instead of 'float64' in a future version. Specify a dtype explicitly to silence this warning.\n",
      "  _Om = pd.Series({})\n",
      "\n"
     ]
    },
    {
     "name": "stdout",
     "output_type": "stream",
     "text": [
      "\n",
      "  \u001b[1mMode 0 at 5.00 GHz   [1/1]\u001b[0m\n",
      "    Calculating ℰ_magnetic,ℰ_electric\n"
     ]
    },
    {
     "name": "stderr",
     "output_type": "stream",
     "text": [
      "WARNING:py.warnings:c:\\Users\\slab\\anaconda3\\envs\\qmetal\\lib\\site-packages\\pyEPR\\core_distributed_analysis.py:981: FutureWarning: The default dtype for empty Series will be 'object' instead of 'float64' in a future version. Specify a dtype explicitly to silence this warning.\n",
      "  Sj = pd.Series({})\n",
      "\n"
     ]
    },
    {
     "name": "stdout",
     "output_type": "stream",
     "text": [
      "       (ℰ_E-ℰ_H)/ℰ_E       ℰ_E       ℰ_H\n",
      "               99.1%  2.299e-25 2.048e-27\n",
      "\n",
      "    Calculating junction energy participation ration (EPR)\n",
      "\tmethod=`line_voltage`. First estimates:\n",
      "\tjunction        EPR p_0j   sign s_0j    (p_capacitive)\n"
     ]
    },
    {
     "name": "stderr",
     "output_type": "stream",
     "text": [
      "WARNING:py.warnings:c:\\Users\\slab\\anaconda3\\envs\\qmetal\\lib\\site-packages\\pyEPR\\core_distributed_analysis.py:933: FutureWarning: The default dtype for empty Series will be 'object' instead of 'float64' in a future version. Specify a dtype explicitly to silence this warning.\n",
      "  Qp = pd.Series({})\n",
      "\n"
     ]
    },
    {
     "name": "stdout",
     "output_type": "stream",
     "text": [
      "\t\tEnergy fraction (Lj over Lj&Cj)= 98.07%\n",
      "\tjj1              1.01253  (+)        0.019952\n",
      "\t\t(U_tot_cap-U_tot_ind)/mean=-0.07%\n",
      "Calculating Qdielectric_main for mode 0 (0/0)\n"
     ]
    },
    {
     "name": "stderr",
     "output_type": "stream",
     "text": [
      "WARNING:py.warnings:c:\\Users\\slab\\anaconda3\\envs\\qmetal\\lib\\site-packages\\pyEPR\\core_distributed_analysis.py:1307: FutureWarning: The series.append method is deprecated and will be removed from pandas in a future version. Use pandas.concat instead.\n",
      "  sol = sol.append(self.get_Qdielectric(\n",
      "\n"
     ]
    },
    {
     "name": "stdout",
     "output_type": "stream",
     "text": [
      "p_dielectric_main_0 = 0.9176859067123853\n"
     ]
    },
    {
     "name": "stderr",
     "output_type": "stream",
     "text": [
      "WARNING:py.warnings:c:\\Users\\slab\\anaconda3\\envs\\qmetal\\lib\\site-packages\\pyEPR\\project_info.py:239: FutureWarning: The default dtype for empty Series will be 'object' instead of 'float64' in a future version. Specify a dtype explicitly to silence this warning.\n",
      "  options=pd.Series(get_instance_vars(self.options)),\n",
      "\n",
      "WARNING 06:00PM [__init__]: <p>Error: <class 'IndexError'></p>\n",
      "WARNING:py.warnings:c:\\Users\\slab\\anaconda3\\envs\\qmetal\\lib\\site-packages\\pyEPR\\core_quantum_analysis.py:712: FutureWarning: Support for multi-dimensional indexing (e.g. `obj[:, None]`) is deprecated and will be removed in a future version.  Convert to a numpy array before indexing instead.\n",
      "  result['Q_coupling'] = self.Qm_coupling[variation][self.Qm_coupling[variation].columns[junctions]][modes]#TODO change the columns to junctions\n",
      "\n",
      "WARNING:py.warnings:c:\\Users\\slab\\anaconda3\\envs\\qmetal\\lib\\site-packages\\pyEPR\\core_quantum_analysis.py:717: FutureWarning: Support for multi-dimensional indexing (e.g. `obj[:, None]`) is deprecated and will be removed in a future version.  Convert to a numpy array before indexing instead.\n",
      "  result['Qs'] = self.Qs[variation][self.PM[variation].columns[junctions]][modes] #TODO change the columns to junctions\n",
      "\n"
     ]
    },
    {
     "name": "stdout",
     "output_type": "stream",
     "text": [
      "\n",
      "ANALYSIS DONE. Data saved to:\n",
      "\n",
      "C:\\data-pyEPR\\Project40\\single_q_hfss\\2023-04-29 18-00-46.npz\n",
      "\n",
      "\n",
      "\t Differences in variations:\n",
      "\n",
      "\n",
      "\n",
      " . . . . . . . . . . . . . . . . . . . . . . . . . . . . . . . . . . . . . . . . \n",
      "Variation 0\n",
      "\n",
      "Starting the diagonalization\n",
      "Finished the diagonalization\n",
      "Pm_norm=\n",
      "modes\n",
      "0    0.998535\n",
      "dtype: float64\n",
      "\n",
      "Pm_norm idx =\n",
      "    jj1\n",
      "0  True\n",
      "*** P (participation matrix, not normlz.)\n",
      "        jj1\n",
      "0  0.992727\n",
      "\n",
      "*** S (sign-bit matrix)\n",
      "   s_jj1\n",
      "0     -1\n",
      "*** P (participation matrix, normalized.)\n",
      "      0.99\n",
      "\n",
      "*** Chi matrix O1 PT (MHz)\n",
      "    Diag is anharmonicity, off diag is full cross-Kerr.\n",
      "       188\n",
      "\n",
      "*** Chi matrix ND (MHz) \n",
      "       204\n",
      "\n",
      "*** Frequencies O1 PT (MHz)\n",
      "0    4808.141181\n",
      "dtype: float64\n",
      "\n",
      "*** Frequencies ND (MHz)\n",
      "0    4800.489052\n",
      "dtype: float64\n",
      "\n",
      "*** Q_coupling\n",
      "Empty DataFrame\n",
      "Columns: []\n",
      "Index: [0]\n"
     ]
    },
    {
     "data": {
      "text/markdown": [
       "#### Mode frequencies (MHz)"
      ],
      "text/plain": [
       "<IPython.core.display.Markdown object>"
      ]
     },
     "metadata": {},
     "output_type": "display_data"
    },
    {
     "data": {
      "text/markdown": [
       "###### Numerical diagonalization"
      ],
      "text/plain": [
       "<IPython.core.display.Markdown object>"
      ]
     },
     "metadata": {},
     "output_type": "display_data"
    },
    {
     "data": {
      "text/html": [
       "<div>\n",
       "<style scoped>\n",
       "    .dataframe tbody tr th:only-of-type {\n",
       "        vertical-align: middle;\n",
       "    }\n",
       "\n",
       "    .dataframe tbody tr th {\n",
       "        vertical-align: top;\n",
       "    }\n",
       "\n",
       "    .dataframe thead th {\n",
       "        text-align: right;\n",
       "    }\n",
       "</style>\n",
       "<table border=\"1\" class=\"dataframe\">\n",
       "  <thead>\n",
       "    <tr style=\"text-align: right;\">\n",
       "      <th>Lj</th>\n",
       "      <th>10</th>\n",
       "    </tr>\n",
       "  </thead>\n",
       "  <tbody>\n",
       "    <tr>\n",
       "      <th>0</th>\n",
       "      <td>4800.49</td>\n",
       "    </tr>\n",
       "  </tbody>\n",
       "</table>\n",
       "</div>"
      ],
      "text/plain": [
       "Lj       10\n",
       "0   4800.49"
      ]
     },
     "metadata": {},
     "output_type": "display_data"
    },
    {
     "data": {
      "text/markdown": [
       "#### Kerr Non-linear coefficient table (MHz)"
      ],
      "text/plain": [
       "<IPython.core.display.Markdown object>"
      ]
     },
     "metadata": {},
     "output_type": "display_data"
    },
    {
     "data": {
      "text/markdown": [
       "###### Numerical diagonalization"
      ],
      "text/plain": [
       "<IPython.core.display.Markdown object>"
      ]
     },
     "metadata": {},
     "output_type": "display_data"
    },
    {
     "data": {
      "text/html": [
       "<div>\n",
       "<style scoped>\n",
       "    .dataframe tbody tr th:only-of-type {\n",
       "        vertical-align: middle;\n",
       "    }\n",
       "\n",
       "    .dataframe tbody tr th {\n",
       "        vertical-align: top;\n",
       "    }\n",
       "\n",
       "    .dataframe thead th {\n",
       "        text-align: right;\n",
       "    }\n",
       "</style>\n",
       "<table border=\"1\" class=\"dataframe\">\n",
       "  <thead>\n",
       "    <tr style=\"text-align: right;\">\n",
       "      <th></th>\n",
       "      <th></th>\n",
       "      <th>0</th>\n",
       "    </tr>\n",
       "    <tr>\n",
       "      <th>Lj</th>\n",
       "      <th></th>\n",
       "      <th></th>\n",
       "    </tr>\n",
       "  </thead>\n",
       "  <tbody>\n",
       "    <tr>\n",
       "      <th>10</th>\n",
       "      <th>0</th>\n",
       "      <td>203.95</td>\n",
       "    </tr>\n",
       "  </tbody>\n",
       "</table>\n",
       "</div>"
      ],
      "text/plain": [
       "           0\n",
       "Lj          \n",
       "10 0  203.95"
      ]
     },
     "metadata": {},
     "output_type": "display_data"
    },
    {
     "name": "stderr",
     "output_type": "stream",
     "text": [
      "INFO 06:00PM [connect_design]: \tOpened active design\n",
      "\tDesign:    a_q3d [Solution type: Q3D]\n",
      "INFO 06:01PM [get_setup]: \tOpened setup `Setup`  (<class 'pyEPR.ansys.AnsysQ3DSetup'>)\n",
      "INFO 06:01PM [analyze]: Analyzing setup Setup\n",
      "INFO 06:02PM [get_matrix]: Exporting matrix data to (C:\\Users\\slab\\AppData\\Local\\Temp\\tmpyv0sbj62.txt, C, , Setup:LastAdaptive, \"Original\", \"ohm\", \"nH\", \"fF\", \"mSie\", 5000000000, Maxwell, 1, False\n",
      "INFO 06:02PM [get_matrix]: Exporting matrix data to (C:\\Users\\slab\\AppData\\Local\\Temp\\tmpxfnkhi8t.txt, C, , Setup:AdaptivePass, \"Original\", \"ohm\", \"nH\", \"fF\", \"mSie\", 5000000000, Maxwell, 1, False\n",
      "INFO 06:02PM [get_matrix]: Exporting matrix data to (C:\\Users\\slab\\AppData\\Local\\Temp\\tmp5igkbfpy.txt, C, , Setup:AdaptivePass, \"Original\", \"ohm\", \"nH\", \"fF\", \"mSie\", 5000000000, Maxwell, 2, False\n",
      "INFO 06:02PM [get_matrix]: Exporting matrix data to (C:\\Users\\slab\\AppData\\Local\\Temp\\tmpb_bbea6r.txt, C, , Setup:AdaptivePass, \"Original\", \"ohm\", \"nH\", \"fF\", \"mSie\", 5000000000, Maxwell, 3, False\n",
      "INFO 06:02PM [get_matrix]: Exporting matrix data to (C:\\Users\\slab\\AppData\\Local\\Temp\\tmpy5yd625g.txt, C, , Setup:AdaptivePass, \"Original\", \"ohm\", \"nH\", \"fF\", \"mSie\", 5000000000, Maxwell, 4, False\n",
      "INFO 06:02PM [get_matrix]: Exporting matrix data to (C:\\Users\\slab\\AppData\\Local\\Temp\\tmpllw7ro6z.txt, C, , Setup:AdaptivePass, \"Original\", \"ohm\", \"nH\", \"fF\", \"mSie\", 5000000000, Maxwell, 5, False\n",
      "INFO 06:02PM [get_matrix]: Exporting matrix data to (C:\\Users\\slab\\AppData\\Local\\Temp\\tmpksah8bu9.txt, C, , Setup:AdaptivePass, \"Original\", \"ohm\", \"nH\", \"fF\", \"mSie\", 5000000000, Maxwell, 6, False\n",
      "INFO 06:02PM [get_matrix]: Exporting matrix data to (C:\\Users\\slab\\AppData\\Local\\Temp\\tmpz1v23ng4.txt, C, , Setup:AdaptivePass, \"Original\", \"ohm\", \"nH\", \"fF\", \"mSie\", 5000000000, Maxwell, 7, False\n",
      "INFO 06:02PM [get_matrix]: Exporting matrix data to (C:\\Users\\slab\\AppData\\Local\\Temp\\tmpmhjbr873.txt, C, , Setup:AdaptivePass, \"Original\", \"ohm\", \"nH\", \"fF\", \"mSie\", 5000000000, Maxwell, 8, False\n",
      "INFO 06:02PM [get_matrix]: Exporting matrix data to (C:\\Users\\slab\\AppData\\Local\\Temp\\tmpz854i868.txt, C, , Setup:AdaptivePass, \"Original\", \"ohm\", \"nH\", \"fF\", \"mSie\", 5000000000, Maxwell, 9, False\n",
      "INFO 06:02PM [get_matrix]: Exporting matrix data to (C:\\Users\\slab\\AppData\\Local\\Temp\\tmppzjny8zl.txt, C, , Setup:AdaptivePass, \"Original\", \"ohm\", \"nH\", \"fF\", \"mSie\", 5000000000, Maxwell, 10, False\n",
      "INFO 06:02PM [get_matrix]: Exporting matrix data to (C:\\Users\\slab\\AppData\\Local\\Temp\\tmpdxwqdwgu.txt, C, , Setup:AdaptivePass, \"Original\", \"ohm\", \"nH\", \"fF\", \"mSie\", 5000000000, Maxwell, 11, False\n",
      "INFO 06:02PM [connect_design]: \tOpened active design\n",
      "\tDesign:    single_q_hfss [Solution type: Eigenmode]\n",
      "INFO 06:03PM [get_setup]: \tOpened setup `Setup`  (<class 'pyEPR.ansys.HfssEMSetup'>)\n",
      "INFO 06:03PM [analyze]: Analyzing setup Setup\n",
      "06:05PM 31s INFO [get_f_convergence]: Saved convergences to c:\\Users\\slab\\Desktop\\Wendy-qiskit-code\\hfss_eig_f_convergence.csv\n"
     ]
    },
    {
     "name": "stdout",
     "output_type": "stream",
     "text": [
      "saddd\n",
      "Design \"single_q_hfss\" info:\n",
      "\t# eigenmodes    1\n",
      "\t# variations    1\n",
      "Design \"single_q_hfss\" info:\n",
      "\t# eigenmodes    1\n",
      "\t# variations    1\n"
     ]
    },
    {
     "name": "stderr",
     "output_type": "stream",
     "text": [
      "WARNING:py.warnings:c:\\Users\\slab\\anaconda3\\envs\\qmetal\\lib\\site-packages\\pyEPR\\project_info.py:239: FutureWarning: The default dtype for empty Series will be 'object' instead of 'float64' in a future version. Specify a dtype explicitly to silence this warning.\n",
      "  options=pd.Series(get_instance_vars(self.options)),\n",
      "\n"
     ]
    },
    {
     "name": "stdout",
     "output_type": "stream",
     "text": [
      "\n",
      "        energy_elec_all       = 3.63750709610487e-25\n",
      "        energy_elec_substrate = 3.33821218106149e-25\n",
      "        EPR of substrate = 91.8%\n",
      "\n",
      "        energy_mag    = 3.41462981138843e-27\n",
      "        energy_mag % of energy_elec_all  = 0.9%\n",
      "        \n",
      "\n",
      "Variation 0  [1/1]\n"
     ]
    },
    {
     "name": "stderr",
     "output_type": "stream",
     "text": [
      "WARNING:py.warnings:c:\\Users\\slab\\anaconda3\\envs\\qmetal\\lib\\site-packages\\pyEPR\\core_distributed_analysis.py:1101: FutureWarning: The default dtype for empty Series will be 'object' instead of 'float64' in a future version. Specify a dtype explicitly to silence this warning.\n",
      "  Ljs = pd.Series({})\n",
      "\n",
      "WARNING:py.warnings:c:\\Users\\slab\\anaconda3\\envs\\qmetal\\lib\\site-packages\\pyEPR\\core_distributed_analysis.py:1102: FutureWarning: The default dtype for empty Series will be 'object' instead of 'float64' in a future version. Specify a dtype explicitly to silence this warning.\n",
      "  Cjs = pd.Series({})\n",
      "\n",
      "WARNING:py.warnings:c:\\Users\\slab\\anaconda3\\envs\\qmetal\\lib\\site-packages\\pyEPR\\core_distributed_analysis.py:1245: FutureWarning: The default dtype for empty Series will be 'object' instead of 'float64' in a future version. Specify a dtype explicitly to silence this warning.\n",
      "  _Om = pd.Series({})\n",
      "\n"
     ]
    },
    {
     "name": "stdout",
     "output_type": "stream",
     "text": [
      "\n",
      "  \u001b[1mMode 0 at 5.10 GHz   [1/1]\u001b[0m\n",
      "    Calculating ℰ_magnetic,ℰ_electric\n"
     ]
    },
    {
     "name": "stderr",
     "output_type": "stream",
     "text": [
      "WARNING:py.warnings:c:\\Users\\slab\\anaconda3\\envs\\qmetal\\lib\\site-packages\\pyEPR\\core_distributed_analysis.py:981: FutureWarning: The default dtype for empty Series will be 'object' instead of 'float64' in a future version. Specify a dtype explicitly to silence this warning.\n",
      "  Sj = pd.Series({})\n",
      "\n"
     ]
    },
    {
     "name": "stdout",
     "output_type": "stream",
     "text": [
      "       (ℰ_E-ℰ_H)/ℰ_E       ℰ_E       ℰ_H\n",
      "               99.1%  1.819e-25 1.707e-27\n",
      "\n",
      "    Calculating junction energy participation ration (EPR)\n",
      "\tmethod=`line_voltage`. First estimates:\n",
      "\tjunction        EPR p_0j   sign s_0j    (p_capacitive)\n"
     ]
    },
    {
     "name": "stderr",
     "output_type": "stream",
     "text": [
      "WARNING:py.warnings:c:\\Users\\slab\\anaconda3\\envs\\qmetal\\lib\\site-packages\\pyEPR\\core_distributed_analysis.py:933: FutureWarning: The default dtype for empty Series will be 'object' instead of 'float64' in a future version. Specify a dtype explicitly to silence this warning.\n",
      "  Qp = pd.Series({})\n",
      "\n"
     ]
    },
    {
     "name": "stdout",
     "output_type": "stream",
     "text": [
      "\t\tEnergy fraction (Lj over Lj&Cj)= 98.39%\n",
      "\tjj1               1.2796  (+)        0.0209959\n",
      "\t\t(U_tot_cap-U_tot_ind)/mean=-11.60%\n",
      "Calculating Qdielectric_main for mode 0 (0/0)\n"
     ]
    },
    {
     "name": "stderr",
     "output_type": "stream",
     "text": [
      "WARNING:py.warnings:c:\\Users\\slab\\anaconda3\\envs\\qmetal\\lib\\site-packages\\pyEPR\\core_distributed_analysis.py:1307: FutureWarning: The series.append method is deprecated and will be removed from pandas in a future version. Use pandas.concat instead.\n",
      "  sol = sol.append(self.get_Qdielectric(\n",
      "\n"
     ]
    },
    {
     "name": "stdout",
     "output_type": "stream",
     "text": [
      "p_dielectric_main_0 = 0.917719771498488\n"
     ]
    },
    {
     "name": "stderr",
     "output_type": "stream",
     "text": [
      "WARNING:py.warnings:c:\\Users\\slab\\anaconda3\\envs\\qmetal\\lib\\site-packages\\pyEPR\\project_info.py:239: FutureWarning: The default dtype for empty Series will be 'object' instead of 'float64' in a future version. Specify a dtype explicitly to silence this warning.\n",
      "  options=pd.Series(get_instance_vars(self.options)),\n",
      "\n",
      "WARNING 06:05PM [__init__]: <p>Error: <class 'IndexError'></p>\n",
      "ERROR 06:05PM [_get_participation_normalized]: WARNING: U_tot_cap-U_tot_ind / mean = 23.2% is > 15%.                     \n",
      "Is the simulation converged? Proceed with caution\n",
      "ERROR 06:05PM [_get_participation_normalized]: WARNING: U_tot_cap-U_tot_ind / mean = 23.2% is > 15%.                     \n",
      "Is the simulation converged? Proceed with caution\n",
      "WARNING:py.warnings:c:\\Users\\slab\\anaconda3\\envs\\qmetal\\lib\\site-packages\\pyEPR\\core_quantum_analysis.py:712: FutureWarning: Support for multi-dimensional indexing (e.g. `obj[:, None]`) is deprecated and will be removed in a future version.  Convert to a numpy array before indexing instead.\n",
      "  result['Q_coupling'] = self.Qm_coupling[variation][self.Qm_coupling[variation].columns[junctions]][modes]#TODO change the columns to junctions\n",
      "\n",
      "WARNING:py.warnings:c:\\Users\\slab\\anaconda3\\envs\\qmetal\\lib\\site-packages\\pyEPR\\core_quantum_analysis.py:717: FutureWarning: Support for multi-dimensional indexing (e.g. `obj[:, None]`) is deprecated and will be removed in a future version.  Convert to a numpy array before indexing instead.\n",
      "  result['Qs'] = self.Qs[variation][self.PM[variation].columns[junctions]][modes] #TODO change the columns to junctions\n",
      "\n"
     ]
    },
    {
     "name": "stdout",
     "output_type": "stream",
     "text": [
      "\n",
      "ANALYSIS DONE. Data saved to:\n",
      "\n",
      "C:\\data-pyEPR\\Project40\\single_q_hfss\\2023-04-29 18-05-32.npz\n",
      "\n",
      "\n",
      "\t Differences in variations:\n",
      "\n",
      "\n",
      "\n",
      " . . . . . . . . . . . . . . . . . . . . . . . . . . . . . . . . . . . . . . . . \n",
      "Variation 0\n",
      "\n",
      "Starting the diagonalization\n",
      "Finished the diagonalization\n",
      "Pm_norm=\n",
      "modes\n",
      "0    0.791417\n",
      "dtype: float64\n",
      "\n",
      "Pm_norm idx =\n",
      "    jj1\n",
      "0  True\n",
      "*** P (participation matrix, not normlz.)\n",
      "        jj1\n",
      "0  1.253287\n",
      "\n",
      "*** S (sign-bit matrix)\n",
      "   s_jj1\n",
      "0      1\n",
      "*** P (participation matrix, normalized.)\n",
      "      0.99\n",
      "\n",
      "*** Chi matrix O1 PT (MHz)\n",
      "    Diag is anharmonicity, off diag is full cross-Kerr.\n",
      "       156\n",
      "\n",
      "*** Chi matrix ND (MHz) \n",
      "       167\n",
      "\n",
      "*** Frequencies O1 PT (MHz)\n",
      "0    4940.36443\n",
      "dtype: float64\n",
      "\n",
      "*** Frequencies ND (MHz)\n",
      "0    4935.235909\n",
      "dtype: float64\n",
      "\n",
      "*** Q_coupling\n",
      "Empty DataFrame\n",
      "Columns: []\n",
      "Index: [0]\n"
     ]
    },
    {
     "data": {
      "text/markdown": [
       "#### Mode frequencies (MHz)"
      ],
      "text/plain": [
       "<IPython.core.display.Markdown object>"
      ]
     },
     "metadata": {},
     "output_type": "display_data"
    },
    {
     "data": {
      "text/markdown": [
       "###### Numerical diagonalization"
      ],
      "text/plain": [
       "<IPython.core.display.Markdown object>"
      ]
     },
     "metadata": {},
     "output_type": "display_data"
    },
    {
     "data": {
      "text/html": [
       "<div>\n",
       "<style scoped>\n",
       "    .dataframe tbody tr th:only-of-type {\n",
       "        vertical-align: middle;\n",
       "    }\n",
       "\n",
       "    .dataframe tbody tr th {\n",
       "        vertical-align: top;\n",
       "    }\n",
       "\n",
       "    .dataframe thead th {\n",
       "        text-align: right;\n",
       "    }\n",
       "</style>\n",
       "<table border=\"1\" class=\"dataframe\">\n",
       "  <thead>\n",
       "    <tr style=\"text-align: right;\">\n",
       "      <th>Lj</th>\n",
       "      <th>8</th>\n",
       "    </tr>\n",
       "  </thead>\n",
       "  <tbody>\n",
       "    <tr>\n",
       "      <th>0</th>\n",
       "      <td>4935.24</td>\n",
       "    </tr>\n",
       "  </tbody>\n",
       "</table>\n",
       "</div>"
      ],
      "text/plain": [
       "Lj        8\n",
       "0   4935.24"
      ]
     },
     "metadata": {},
     "output_type": "display_data"
    },
    {
     "data": {
      "text/markdown": [
       "#### Kerr Non-linear coefficient table (MHz)"
      ],
      "text/plain": [
       "<IPython.core.display.Markdown object>"
      ]
     },
     "metadata": {},
     "output_type": "display_data"
    },
    {
     "data": {
      "text/markdown": [
       "###### Numerical diagonalization"
      ],
      "text/plain": [
       "<IPython.core.display.Markdown object>"
      ]
     },
     "metadata": {},
     "output_type": "display_data"
    },
    {
     "data": {
      "text/html": [
       "<div>\n",
       "<style scoped>\n",
       "    .dataframe tbody tr th:only-of-type {\n",
       "        vertical-align: middle;\n",
       "    }\n",
       "\n",
       "    .dataframe tbody tr th {\n",
       "        vertical-align: top;\n",
       "    }\n",
       "\n",
       "    .dataframe thead th {\n",
       "        text-align: right;\n",
       "    }\n",
       "</style>\n",
       "<table border=\"1\" class=\"dataframe\">\n",
       "  <thead>\n",
       "    <tr style=\"text-align: right;\">\n",
       "      <th></th>\n",
       "      <th></th>\n",
       "      <th>0</th>\n",
       "    </tr>\n",
       "    <tr>\n",
       "      <th>Lj</th>\n",
       "      <th></th>\n",
       "      <th></th>\n",
       "    </tr>\n",
       "  </thead>\n",
       "  <tbody>\n",
       "    <tr>\n",
       "      <th>8</th>\n",
       "      <th>0</th>\n",
       "      <td>167.49</td>\n",
       "    </tr>\n",
       "  </tbody>\n",
       "</table>\n",
       "</div>"
      ],
      "text/plain": [
       "           0\n",
       "Lj          \n",
       "8  0  167.49"
      ]
     },
     "metadata": {},
     "output_type": "display_data"
    },
    {
     "name": "stderr",
     "output_type": "stream",
     "text": [
      "INFO 06:05PM [connect_design]: \tOpened active design\n",
      "\tDesign:    a_q3d [Solution type: Q3D]\n",
      "INFO 06:05PM [get_setup]: \tOpened setup `Setup`  (<class 'pyEPR.ansys.AnsysQ3DSetup'>)\n",
      "INFO 06:05PM [analyze]: Analyzing setup Setup\n",
      "INFO 06:07PM [get_matrix]: Exporting matrix data to (C:\\Users\\slab\\AppData\\Local\\Temp\\tmpf1lbanga.txt, C, , Setup:LastAdaptive, \"Original\", \"ohm\", \"nH\", \"fF\", \"mSie\", 5000000000, Maxwell, 1, False\n",
      "INFO 06:07PM [get_matrix]: Exporting matrix data to (C:\\Users\\slab\\AppData\\Local\\Temp\\tmpblz15mbg.txt, C, , Setup:AdaptivePass, \"Original\", \"ohm\", \"nH\", \"fF\", \"mSie\", 5000000000, Maxwell, 1, False\n",
      "INFO 06:07PM [get_matrix]: Exporting matrix data to (C:\\Users\\slab\\AppData\\Local\\Temp\\tmpffcfh00b.txt, C, , Setup:AdaptivePass, \"Original\", \"ohm\", \"nH\", \"fF\", \"mSie\", 5000000000, Maxwell, 2, False\n",
      "INFO 06:07PM [get_matrix]: Exporting matrix data to (C:\\Users\\slab\\AppData\\Local\\Temp\\tmpakvnqncv.txt, C, , Setup:AdaptivePass, \"Original\", \"ohm\", \"nH\", \"fF\", \"mSie\", 5000000000, Maxwell, 3, False\n",
      "INFO 06:07PM [get_matrix]: Exporting matrix data to (C:\\Users\\slab\\AppData\\Local\\Temp\\tmpeaoit9om.txt, C, , Setup:AdaptivePass, \"Original\", \"ohm\", \"nH\", \"fF\", \"mSie\", 5000000000, Maxwell, 4, False\n",
      "INFO 06:07PM [get_matrix]: Exporting matrix data to (C:\\Users\\slab\\AppData\\Local\\Temp\\tmpjd8o9404.txt, C, , Setup:AdaptivePass, \"Original\", \"ohm\", \"nH\", \"fF\", \"mSie\", 5000000000, Maxwell, 5, False\n",
      "INFO 06:07PM [get_matrix]: Exporting matrix data to (C:\\Users\\slab\\AppData\\Local\\Temp\\tmpchsjsv8d.txt, C, , Setup:AdaptivePass, \"Original\", \"ohm\", \"nH\", \"fF\", \"mSie\", 5000000000, Maxwell, 6, False\n",
      "INFO 06:07PM [get_matrix]: Exporting matrix data to (C:\\Users\\slab\\AppData\\Local\\Temp\\tmpv52u_37x.txt, C, , Setup:AdaptivePass, \"Original\", \"ohm\", \"nH\", \"fF\", \"mSie\", 5000000000, Maxwell, 7, False\n",
      "INFO 06:07PM [get_matrix]: Exporting matrix data to (C:\\Users\\slab\\AppData\\Local\\Temp\\tmpi59vsgcn.txt, C, , Setup:AdaptivePass, \"Original\", \"ohm\", \"nH\", \"fF\", \"mSie\", 5000000000, Maxwell, 8, False\n",
      "INFO 06:07PM [get_matrix]: Exporting matrix data to (C:\\Users\\slab\\AppData\\Local\\Temp\\tmp3zm2j1e2.txt, C, , Setup:AdaptivePass, \"Original\", \"ohm\", \"nH\", \"fF\", \"mSie\", 5000000000, Maxwell, 9, False\n",
      "INFO 06:07PM [get_matrix]: Exporting matrix data to (C:\\Users\\slab\\AppData\\Local\\Temp\\tmpb3qhwk5k.txt, C, , Setup:AdaptivePass, \"Original\", \"ohm\", \"nH\", \"fF\", \"mSie\", 5000000000, Maxwell, 10, False\n",
      "INFO 06:07PM [get_matrix]: Exporting matrix data to (C:\\Users\\slab\\AppData\\Local\\Temp\\tmpvvdk9s5q.txt, C, , Setup:AdaptivePass, \"Original\", \"ohm\", \"nH\", \"fF\", \"mSie\", 5000000000, Maxwell, 11, False\n",
      "INFO 06:07PM [connect_design]: \tOpened active design\n",
      "\tDesign:    single_q_hfss [Solution type: Eigenmode]\n",
      "INFO 06:07PM [get_setup]: \tOpened setup `Setup`  (<class 'pyEPR.ansys.HfssEMSetup'>)\n",
      "INFO 06:07PM [analyze]: Analyzing setup Setup\n",
      "06:10PM 04s INFO [get_f_convergence]: Saved convergences to c:\\Users\\slab\\Desktop\\Wendy-qiskit-code\\hfss_eig_f_convergence.csv\n"
     ]
    },
    {
     "name": "stdout",
     "output_type": "stream",
     "text": [
      "saddd\n",
      "Design \"single_q_hfss\" info:\n",
      "\t# eigenmodes    1\n",
      "\t# variations    1\n",
      "Design \"single_q_hfss\" info:\n",
      "\t# eigenmodes    1\n",
      "\t# variations    1\n"
     ]
    },
    {
     "name": "stderr",
     "output_type": "stream",
     "text": [
      "WARNING:py.warnings:c:\\Users\\slab\\anaconda3\\envs\\qmetal\\lib\\site-packages\\pyEPR\\project_info.py:239: FutureWarning: The default dtype for empty Series will be 'object' instead of 'float64' in a future version. Specify a dtype explicitly to silence this warning.\n",
      "  options=pd.Series(get_instance_vars(self.options)),\n",
      "\n"
     ]
    },
    {
     "name": "stdout",
     "output_type": "stream",
     "text": [
      "\n",
      "        energy_elec_all       = 6.38063435804952e-25\n",
      "        energy_elec_substrate = 5.85709722498824e-25\n",
      "        EPR of substrate = 91.8%\n",
      "\n",
      "        energy_mag    = 5.14870908847847e-27\n",
      "        energy_mag % of energy_elec_all  = 0.8%\n",
      "        \n",
      "\n",
      "Variation 0  [1/1]\n"
     ]
    },
    {
     "name": "stderr",
     "output_type": "stream",
     "text": [
      "WARNING:py.warnings:c:\\Users\\slab\\anaconda3\\envs\\qmetal\\lib\\site-packages\\pyEPR\\core_distributed_analysis.py:1101: FutureWarning: The default dtype for empty Series will be 'object' instead of 'float64' in a future version. Specify a dtype explicitly to silence this warning.\n",
      "  Ljs = pd.Series({})\n",
      "\n",
      "WARNING:py.warnings:c:\\Users\\slab\\anaconda3\\envs\\qmetal\\lib\\site-packages\\pyEPR\\core_distributed_analysis.py:1102: FutureWarning: The default dtype for empty Series will be 'object' instead of 'float64' in a future version. Specify a dtype explicitly to silence this warning.\n",
      "  Cjs = pd.Series({})\n",
      "\n",
      "WARNING:py.warnings:c:\\Users\\slab\\anaconda3\\envs\\qmetal\\lib\\site-packages\\pyEPR\\core_distributed_analysis.py:1245: FutureWarning: The default dtype for empty Series will be 'object' instead of 'float64' in a future version. Specify a dtype explicitly to silence this warning.\n",
      "  _Om = pd.Series({})\n",
      "\n"
     ]
    },
    {
     "name": "stdout",
     "output_type": "stream",
     "text": [
      "\n",
      "  \u001b[1mMode 0 at 5.32 GHz   [1/1]\u001b[0m\n",
      "    Calculating ℰ_magnetic,ℰ_electric\n"
     ]
    },
    {
     "name": "stderr",
     "output_type": "stream",
     "text": [
      "WARNING:py.warnings:c:\\Users\\slab\\anaconda3\\envs\\qmetal\\lib\\site-packages\\pyEPR\\core_distributed_analysis.py:981: FutureWarning: The default dtype for empty Series will be 'object' instead of 'float64' in a future version. Specify a dtype explicitly to silence this warning.\n",
      "  Sj = pd.Series({})\n",
      "\n"
     ]
    },
    {
     "name": "stdout",
     "output_type": "stream",
     "text": [
      "       (ℰ_E-ℰ_H)/ℰ_E       ℰ_E       ℰ_H\n",
      "               99.2%   3.19e-25 2.574e-27\n",
      "\n",
      "    Calculating junction energy participation ration (EPR)\n",
      "\tmethod=`line_voltage`. First estimates:\n",
      "\tjunction        EPR p_0j   sign s_0j    (p_capacitive)\n"
     ]
    },
    {
     "name": "stderr",
     "output_type": "stream",
     "text": [
      "WARNING:py.warnings:c:\\Users\\slab\\anaconda3\\envs\\qmetal\\lib\\site-packages\\pyEPR\\core_distributed_analysis.py:933: FutureWarning: The default dtype for empty Series will be 'object' instead of 'float64' in a future version. Specify a dtype explicitly to silence this warning.\n",
      "  Qp = pd.Series({})\n",
      "\n"
     ]
    },
    {
     "name": "stdout",
     "output_type": "stream",
     "text": [
      "\t\tEnergy fraction (Lj over Lj&Cj)= 98.24%\n",
      "\tjj1              1.31591  (+)        0.0235401\n",
      "\t\t(U_tot_cap-U_tot_ind)/mean=-12.80%\n",
      "Calculating Qdielectric_main for mode 0 (0/0)\n"
     ]
    },
    {
     "name": "stderr",
     "output_type": "stream",
     "text": [
      "WARNING:py.warnings:c:\\Users\\slab\\anaconda3\\envs\\qmetal\\lib\\site-packages\\pyEPR\\core_distributed_analysis.py:1307: FutureWarning: The series.append method is deprecated and will be removed from pandas in a future version. Use pandas.concat instead.\n",
      "  sol = sol.append(self.get_Qdielectric(\n",
      "\n"
     ]
    },
    {
     "name": "stdout",
     "output_type": "stream",
     "text": [
      "p_dielectric_main_0 = 0.9179490464924057\n"
     ]
    },
    {
     "name": "stderr",
     "output_type": "stream",
     "text": [
      "WARNING:py.warnings:c:\\Users\\slab\\anaconda3\\envs\\qmetal\\lib\\site-packages\\pyEPR\\project_info.py:239: FutureWarning: The default dtype for empty Series will be 'object' instead of 'float64' in a future version. Specify a dtype explicitly to silence this warning.\n",
      "  options=pd.Series(get_instance_vars(self.options)),\n",
      "\n",
      "WARNING 06:10PM [__init__]: <p>Error: <class 'IndexError'></p>\n",
      "ERROR 06:10PM [_get_participation_normalized]: WARNING: U_tot_cap-U_tot_ind / mean = 25.6% is > 15%.                     \n",
      "Is the simulation converged? Proceed with caution\n",
      "ERROR 06:10PM [_get_participation_normalized]: WARNING: U_tot_cap-U_tot_ind / mean = 25.6% is > 15%.                     \n",
      "Is the simulation converged? Proceed with caution\n",
      "WARNING:py.warnings:c:\\Users\\slab\\anaconda3\\envs\\qmetal\\lib\\site-packages\\pyEPR\\core_quantum_analysis.py:712: FutureWarning: Support for multi-dimensional indexing (e.g. `obj[:, None]`) is deprecated and will be removed in a future version.  Convert to a numpy array before indexing instead.\n",
      "  result['Q_coupling'] = self.Qm_coupling[variation][self.Qm_coupling[variation].columns[junctions]][modes]#TODO change the columns to junctions\n",
      "\n",
      "WARNING:py.warnings:c:\\Users\\slab\\anaconda3\\envs\\qmetal\\lib\\site-packages\\pyEPR\\core_quantum_analysis.py:717: FutureWarning: Support for multi-dimensional indexing (e.g. `obj[:, None]`) is deprecated and will be removed in a future version.  Convert to a numpy array before indexing instead.\n",
      "  result['Qs'] = self.Qs[variation][self.PM[variation].columns[junctions]][modes] #TODO change the columns to junctions\n",
      "\n"
     ]
    },
    {
     "name": "stdout",
     "output_type": "stream",
     "text": [
      "\n",
      "ANALYSIS DONE. Data saved to:\n",
      "\n",
      "C:\\data-pyEPR\\Project40\\single_q_hfss\\2023-04-29 18-10-06.npz\n",
      "\n",
      "\n",
      "\t Differences in variations:\n",
      "\n",
      "\n",
      "\n",
      " . . . . . . . . . . . . . . . . . . . . . . . . . . . . . . . . . . . . . . . . \n",
      "Variation 0\n",
      "\n",
      "Starting the diagonalization\n",
      "Finished the diagonalization\n",
      "Pm_norm=\n",
      "modes\n",
      "0    0.77247\n",
      "dtype: float64\n",
      "\n",
      "Pm_norm idx =\n",
      "    jj1\n",
      "0  True\n",
      "*** P (participation matrix, not normlz.)\n",
      "        jj1\n",
      "0  1.285649\n",
      "\n",
      "*** S (sign-bit matrix)\n",
      "   s_jj1\n",
      "0      1\n",
      "*** P (participation matrix, normalized.)\n",
      "      0.99\n",
      "\n",
      "*** Chi matrix O1 PT (MHz)\n",
      "    Diag is anharmonicity, off diag is full cross-Kerr.\n",
      "       171\n",
      "\n",
      "*** Chi matrix ND (MHz) \n",
      "       184\n",
      "\n",
      "*** Frequencies O1 PT (MHz)\n",
      "0    5150.825522\n",
      "dtype: float64\n",
      "\n",
      "*** Frequencies ND (MHz)\n",
      "0    5144.928589\n",
      "dtype: float64\n",
      "\n",
      "*** Q_coupling\n",
      "Empty DataFrame\n",
      "Columns: []\n",
      "Index: [0]\n"
     ]
    },
    {
     "data": {
      "text/markdown": [
       "#### Mode frequencies (MHz)"
      ],
      "text/plain": [
       "<IPython.core.display.Markdown object>"
      ]
     },
     "metadata": {},
     "output_type": "display_data"
    },
    {
     "data": {
      "text/markdown": [
       "###### Numerical diagonalization"
      ],
      "text/plain": [
       "<IPython.core.display.Markdown object>"
      ]
     },
     "metadata": {},
     "output_type": "display_data"
    },
    {
     "data": {
      "text/html": [
       "<div>\n",
       "<style scoped>\n",
       "    .dataframe tbody tr th:only-of-type {\n",
       "        vertical-align: middle;\n",
       "    }\n",
       "\n",
       "    .dataframe tbody tr th {\n",
       "        vertical-align: top;\n",
       "    }\n",
       "\n",
       "    .dataframe thead th {\n",
       "        text-align: right;\n",
       "    }\n",
       "</style>\n",
       "<table border=\"1\" class=\"dataframe\">\n",
       "  <thead>\n",
       "    <tr style=\"text-align: right;\">\n",
       "      <th>Lj</th>\n",
       "      <th>8</th>\n",
       "    </tr>\n",
       "  </thead>\n",
       "  <tbody>\n",
       "    <tr>\n",
       "      <th>0</th>\n",
       "      <td>5144.93</td>\n",
       "    </tr>\n",
       "  </tbody>\n",
       "</table>\n",
       "</div>"
      ],
      "text/plain": [
       "Lj        8\n",
       "0   5144.93"
      ]
     },
     "metadata": {},
     "output_type": "display_data"
    },
    {
     "data": {
      "text/markdown": [
       "#### Kerr Non-linear coefficient table (MHz)"
      ],
      "text/plain": [
       "<IPython.core.display.Markdown object>"
      ]
     },
     "metadata": {},
     "output_type": "display_data"
    },
    {
     "data": {
      "text/markdown": [
       "###### Numerical diagonalization"
      ],
      "text/plain": [
       "<IPython.core.display.Markdown object>"
      ]
     },
     "metadata": {},
     "output_type": "display_data"
    },
    {
     "data": {
      "text/html": [
       "<div>\n",
       "<style scoped>\n",
       "    .dataframe tbody tr th:only-of-type {\n",
       "        vertical-align: middle;\n",
       "    }\n",
       "\n",
       "    .dataframe tbody tr th {\n",
       "        vertical-align: top;\n",
       "    }\n",
       "\n",
       "    .dataframe thead th {\n",
       "        text-align: right;\n",
       "    }\n",
       "</style>\n",
       "<table border=\"1\" class=\"dataframe\">\n",
       "  <thead>\n",
       "    <tr style=\"text-align: right;\">\n",
       "      <th></th>\n",
       "      <th></th>\n",
       "      <th>0</th>\n",
       "    </tr>\n",
       "    <tr>\n",
       "      <th>Lj</th>\n",
       "      <th></th>\n",
       "      <th></th>\n",
       "    </tr>\n",
       "  </thead>\n",
       "  <tbody>\n",
       "    <tr>\n",
       "      <th>8</th>\n",
       "      <th>0</th>\n",
       "      <td>183.66</td>\n",
       "    </tr>\n",
       "  </tbody>\n",
       "</table>\n",
       "</div>"
      ],
      "text/plain": [
       "           0\n",
       "Lj          \n",
       "8  0  183.66"
      ]
     },
     "metadata": {},
     "output_type": "display_data"
    },
    {
     "name": "stderr",
     "output_type": "stream",
     "text": [
      "INFO 06:10PM [connect_design]: \tOpened active design\n",
      "\tDesign:    a_q3d [Solution type: Q3D]\n",
      "INFO 06:10PM [get_setup]: \tOpened setup `Setup`  (<class 'pyEPR.ansys.AnsysQ3DSetup'>)\n",
      "INFO 06:10PM [analyze]: Analyzing setup Setup\n",
      "INFO 06:11PM [get_matrix]: Exporting matrix data to (C:\\Users\\slab\\AppData\\Local\\Temp\\tmpc0k0z2b4.txt, C, , Setup:LastAdaptive, \"Original\", \"ohm\", \"nH\", \"fF\", \"mSie\", 5000000000, Maxwell, 1, False\n",
      "INFO 06:11PM [get_matrix]: Exporting matrix data to (C:\\Users\\slab\\AppData\\Local\\Temp\\tmpknrv28wu.txt, C, , Setup:AdaptivePass, \"Original\", \"ohm\", \"nH\", \"fF\", \"mSie\", 5000000000, Maxwell, 1, False\n",
      "INFO 06:11PM [get_matrix]: Exporting matrix data to (C:\\Users\\slab\\AppData\\Local\\Temp\\tmp8f4qj8e4.txt, C, , Setup:AdaptivePass, \"Original\", \"ohm\", \"nH\", \"fF\", \"mSie\", 5000000000, Maxwell, 2, False\n",
      "INFO 06:11PM [get_matrix]: Exporting matrix data to (C:\\Users\\slab\\AppData\\Local\\Temp\\tmpscpcj8mz.txt, C, , Setup:AdaptivePass, \"Original\", \"ohm\", \"nH\", \"fF\", \"mSie\", 5000000000, Maxwell, 3, False\n",
      "INFO 06:11PM [get_matrix]: Exporting matrix data to (C:\\Users\\slab\\AppData\\Local\\Temp\\tmpvx4_k2iy.txt, C, , Setup:AdaptivePass, \"Original\", \"ohm\", \"nH\", \"fF\", \"mSie\", 5000000000, Maxwell, 4, False\n",
      "INFO 06:11PM [get_matrix]: Exporting matrix data to (C:\\Users\\slab\\AppData\\Local\\Temp\\tmpcxceemlh.txt, C, , Setup:AdaptivePass, \"Original\", \"ohm\", \"nH\", \"fF\", \"mSie\", 5000000000, Maxwell, 5, False\n",
      "INFO 06:11PM [get_matrix]: Exporting matrix data to (C:\\Users\\slab\\AppData\\Local\\Temp\\tmpfsv5orql.txt, C, , Setup:AdaptivePass, \"Original\", \"ohm\", \"nH\", \"fF\", \"mSie\", 5000000000, Maxwell, 6, False\n",
      "INFO 06:11PM [get_matrix]: Exporting matrix data to (C:\\Users\\slab\\AppData\\Local\\Temp\\tmpemzl7z1_.txt, C, , Setup:AdaptivePass, \"Original\", \"ohm\", \"nH\", \"fF\", \"mSie\", 5000000000, Maxwell, 7, False\n",
      "INFO 06:11PM [get_matrix]: Exporting matrix data to (C:\\Users\\slab\\AppData\\Local\\Temp\\tmpjk05s777.txt, C, , Setup:AdaptivePass, \"Original\", \"ohm\", \"nH\", \"fF\", \"mSie\", 5000000000, Maxwell, 8, False\n",
      "INFO 06:11PM [get_matrix]: Exporting matrix data to (C:\\Users\\slab\\AppData\\Local\\Temp\\tmpz1bgi_q2.txt, C, , Setup:AdaptivePass, \"Original\", \"ohm\", \"nH\", \"fF\", \"mSie\", 5000000000, Maxwell, 9, False\n",
      "INFO 06:11PM [get_matrix]: Exporting matrix data to (C:\\Users\\slab\\AppData\\Local\\Temp\\tmpmkvxswdy.txt, C, , Setup:AdaptivePass, \"Original\", \"ohm\", \"nH\", \"fF\", \"mSie\", 5000000000, Maxwell, 10, False\n",
      "INFO 06:11PM [get_matrix]: Exporting matrix data to (C:\\Users\\slab\\AppData\\Local\\Temp\\tmpliiegfv0.txt, C, , Setup:AdaptivePass, \"Original\", \"ohm\", \"nH\", \"fF\", \"mSie\", 5000000000, Maxwell, 11, False\n",
      "INFO 06:11PM [connect_design]: \tOpened active design\n",
      "\tDesign:    single_q_hfss [Solution type: Eigenmode]\n",
      "INFO 06:12PM [get_setup]: \tOpened setup `Setup`  (<class 'pyEPR.ansys.HfssEMSetup'>)\n",
      "INFO 06:12PM [analyze]: Analyzing setup Setup\n",
      "06:14PM 41s INFO [get_f_convergence]: Saved convergences to c:\\Users\\slab\\Desktop\\Wendy-qiskit-code\\hfss_eig_f_convergence.csv\n"
     ]
    },
    {
     "name": "stdout",
     "output_type": "stream",
     "text": [
      "saddd\n",
      "Design \"single_q_hfss\" info:\n",
      "\t# eigenmodes    1\n",
      "\t# variations    1\n",
      "Design \"single_q_hfss\" info:\n",
      "\t# eigenmodes    1\n",
      "\t# variations    1\n"
     ]
    },
    {
     "name": "stderr",
     "output_type": "stream",
     "text": [
      "WARNING:py.warnings:c:\\Users\\slab\\anaconda3\\envs\\qmetal\\lib\\site-packages\\pyEPR\\project_info.py:239: FutureWarning: The default dtype for empty Series will be 'object' instead of 'float64' in a future version. Specify a dtype explicitly to silence this warning.\n",
      "  options=pd.Series(get_instance_vars(self.options)),\n",
      "\n"
     ]
    },
    {
     "name": "stdout",
     "output_type": "stream",
     "text": [
      "\n",
      "        energy_elec_all       = 5.21420961549696e-25\n",
      "        energy_elec_substrate = 4.78770340837363e-25\n",
      "        EPR of substrate = 91.8%\n",
      "\n",
      "        energy_mag    = 4.06209090098562e-27\n",
      "        energy_mag % of energy_elec_all  = 0.8%\n",
      "        \n",
      "\n",
      "Variation 0  [1/1]\n"
     ]
    },
    {
     "name": "stderr",
     "output_type": "stream",
     "text": [
      "WARNING:py.warnings:c:\\Users\\slab\\anaconda3\\envs\\qmetal\\lib\\site-packages\\pyEPR\\core_distributed_analysis.py:1101: FutureWarning: The default dtype for empty Series will be 'object' instead of 'float64' in a future version. Specify a dtype explicitly to silence this warning.\n",
      "  Ljs = pd.Series({})\n",
      "\n",
      "WARNING:py.warnings:c:\\Users\\slab\\anaconda3\\envs\\qmetal\\lib\\site-packages\\pyEPR\\core_distributed_analysis.py:1102: FutureWarning: The default dtype for empty Series will be 'object' instead of 'float64' in a future version. Specify a dtype explicitly to silence this warning.\n",
      "  Cjs = pd.Series({})\n",
      "\n",
      "WARNING:py.warnings:c:\\Users\\slab\\anaconda3\\envs\\qmetal\\lib\\site-packages\\pyEPR\\core_distributed_analysis.py:1245: FutureWarning: The default dtype for empty Series will be 'object' instead of 'float64' in a future version. Specify a dtype explicitly to silence this warning.\n",
      "  _Om = pd.Series({})\n",
      "\n"
     ]
    },
    {
     "name": "stdout",
     "output_type": "stream",
     "text": [
      "\n",
      "  \u001b[1mMode 0 at 5.48 GHz   [1/1]\u001b[0m\n",
      "    Calculating ℰ_magnetic,ℰ_electric\n"
     ]
    },
    {
     "name": "stderr",
     "output_type": "stream",
     "text": [
      "WARNING:py.warnings:c:\\Users\\slab\\anaconda3\\envs\\qmetal\\lib\\site-packages\\pyEPR\\core_distributed_analysis.py:981: FutureWarning: The default dtype for empty Series will be 'object' instead of 'float64' in a future version. Specify a dtype explicitly to silence this warning.\n",
      "  Sj = pd.Series({})\n",
      "\n"
     ]
    },
    {
     "name": "stdout",
     "output_type": "stream",
     "text": [
      "       (ℰ_E-ℰ_H)/ℰ_E       ℰ_E       ℰ_H\n",
      "               99.2%  2.607e-25 2.031e-27\n",
      "\n",
      "    Calculating junction energy participation ration (EPR)\n",
      "\tmethod=`line_voltage`. First estimates:\n",
      "\tjunction        EPR p_0j   sign s_0j    (p_capacitive)\n"
     ]
    },
    {
     "name": "stderr",
     "output_type": "stream",
     "text": [
      "WARNING:py.warnings:c:\\Users\\slab\\anaconda3\\envs\\qmetal\\lib\\site-packages\\pyEPR\\core_distributed_analysis.py:933: FutureWarning: The default dtype for empty Series will be 'object' instead of 'float64' in a future version. Specify a dtype explicitly to silence this warning.\n",
      "  Qp = pd.Series({})\n",
      "\n"
     ]
    },
    {
     "name": "stdout",
     "output_type": "stream",
     "text": [
      "\t\tEnergy fraction (Lj over Lj&Cj)= 98.14%\n",
      "\tjj1              1.34341  (+)        0.0255119\n",
      "\t\t(U_tot_cap-U_tot_ind)/mean=-13.70%\n",
      "Calculating Qdielectric_main for mode 0 (0/0)\n"
     ]
    },
    {
     "name": "stderr",
     "output_type": "stream",
     "text": [
      "WARNING:py.warnings:c:\\Users\\slab\\anaconda3\\envs\\qmetal\\lib\\site-packages\\pyEPR\\core_distributed_analysis.py:1307: FutureWarning: The series.append method is deprecated and will be removed from pandas in a future version. Use pandas.concat instead.\n",
      "  sol = sol.append(self.get_Qdielectric(\n",
      "\n"
     ]
    },
    {
     "name": "stdout",
     "output_type": "stream",
     "text": [
      "p_dielectric_main_0 = 0.9182030952772366\n"
     ]
    },
    {
     "name": "stderr",
     "output_type": "stream",
     "text": [
      "WARNING:py.warnings:c:\\Users\\slab\\anaconda3\\envs\\qmetal\\lib\\site-packages\\pyEPR\\project_info.py:239: FutureWarning: The default dtype for empty Series will be 'object' instead of 'float64' in a future version. Specify a dtype explicitly to silence this warning.\n",
      "  options=pd.Series(get_instance_vars(self.options)),\n",
      "\n",
      "WARNING 06:14PM [__init__]: <p>Error: <class 'IndexError'></p>\n",
      "ERROR 06:14PM [_get_participation_normalized]: WARNING: U_tot_cap-U_tot_ind / mean = 27.4% is > 15%.                     \n",
      "Is the simulation converged? Proceed with caution\n",
      "ERROR 06:14PM [_get_participation_normalized]: WARNING: U_tot_cap-U_tot_ind / mean = 27.4% is > 15%.                     \n",
      "Is the simulation converged? Proceed with caution\n",
      "WARNING:py.warnings:c:\\Users\\slab\\anaconda3\\envs\\qmetal\\lib\\site-packages\\pyEPR\\core_quantum_analysis.py:712: FutureWarning: Support for multi-dimensional indexing (e.g. `obj[:, None]`) is deprecated and will be removed in a future version.  Convert to a numpy array before indexing instead.\n",
      "  result['Q_coupling'] = self.Qm_coupling[variation][self.Qm_coupling[variation].columns[junctions]][modes]#TODO change the columns to junctions\n",
      "\n",
      "WARNING:py.warnings:c:\\Users\\slab\\anaconda3\\envs\\qmetal\\lib\\site-packages\\pyEPR\\core_quantum_analysis.py:717: FutureWarning: Support for multi-dimensional indexing (e.g. `obj[:, None]`) is deprecated and will be removed in a future version.  Convert to a numpy array before indexing instead.\n",
      "  result['Qs'] = self.Qs[variation][self.PM[variation].columns[junctions]][modes] #TODO change the columns to junctions\n",
      "\n"
     ]
    },
    {
     "name": "stdout",
     "output_type": "stream",
     "text": [
      "\n",
      "ANALYSIS DONE. Data saved to:\n",
      "\n",
      "C:\\data-pyEPR\\Project40\\single_q_hfss\\2023-04-29 18-14-42.npz\n",
      "\n",
      "\n",
      "\t Differences in variations:\n",
      "\n",
      "\n",
      "\n",
      " . . . . . . . . . . . . . . . . . . . . . . . . . . . . . . . . . . . . . . . . \n",
      "Variation 0\n",
      "\n",
      "Starting the diagonalization\n",
      "Finished the diagonalization\n",
      "Pm_norm=\n",
      "modes\n",
      "0    0.758363\n",
      "dtype: float64\n",
      "\n",
      "Pm_norm idx =\n",
      "    jj1\n",
      "0  True\n",
      "*** P (participation matrix, not normlz.)\n",
      "        jj1\n",
      "0  1.309986\n",
      "\n",
      "*** S (sign-bit matrix)\n",
      "   s_jj1\n",
      "0     -1\n",
      "*** P (participation matrix, normalized.)\n",
      "      0.99\n",
      "\n",
      "*** Chi matrix O1 PT (MHz)\n",
      "    Diag is anharmonicity, off diag is full cross-Kerr.\n",
      "       182\n",
      "\n",
      "*** Chi matrix ND (MHz) \n",
      "       196\n",
      "\n",
      "*** Frequencies O1 PT (MHz)\n",
      "0    5301.60085\n",
      "dtype: float64\n",
      "\n",
      "*** Frequencies ND (MHz)\n",
      "0    5295.124266\n",
      "dtype: float64\n",
      "\n",
      "*** Q_coupling\n",
      "Empty DataFrame\n",
      "Columns: []\n",
      "Index: [0]\n"
     ]
    },
    {
     "data": {
      "text/markdown": [
       "#### Mode frequencies (MHz)"
      ],
      "text/plain": [
       "<IPython.core.display.Markdown object>"
      ]
     },
     "metadata": {},
     "output_type": "display_data"
    },
    {
     "data": {
      "text/markdown": [
       "###### Numerical diagonalization"
      ],
      "text/plain": [
       "<IPython.core.display.Markdown object>"
      ]
     },
     "metadata": {},
     "output_type": "display_data"
    },
    {
     "data": {
      "text/html": [
       "<div>\n",
       "<style scoped>\n",
       "    .dataframe tbody tr th:only-of-type {\n",
       "        vertical-align: middle;\n",
       "    }\n",
       "\n",
       "    .dataframe tbody tr th {\n",
       "        vertical-align: top;\n",
       "    }\n",
       "\n",
       "    .dataframe thead th {\n",
       "        text-align: right;\n",
       "    }\n",
       "</style>\n",
       "<table border=\"1\" class=\"dataframe\">\n",
       "  <thead>\n",
       "    <tr style=\"text-align: right;\">\n",
       "      <th>Lj</th>\n",
       "      <th>8</th>\n",
       "    </tr>\n",
       "  </thead>\n",
       "  <tbody>\n",
       "    <tr>\n",
       "      <th>0</th>\n",
       "      <td>5295.12</td>\n",
       "    </tr>\n",
       "  </tbody>\n",
       "</table>\n",
       "</div>"
      ],
      "text/plain": [
       "Lj        8\n",
       "0   5295.12"
      ]
     },
     "metadata": {},
     "output_type": "display_data"
    },
    {
     "data": {
      "text/markdown": [
       "#### Kerr Non-linear coefficient table (MHz)"
      ],
      "text/plain": [
       "<IPython.core.display.Markdown object>"
      ]
     },
     "metadata": {},
     "output_type": "display_data"
    },
    {
     "data": {
      "text/markdown": [
       "###### Numerical diagonalization"
      ],
      "text/plain": [
       "<IPython.core.display.Markdown object>"
      ]
     },
     "metadata": {},
     "output_type": "display_data"
    },
    {
     "data": {
      "text/html": [
       "<div>\n",
       "<style scoped>\n",
       "    .dataframe tbody tr th:only-of-type {\n",
       "        vertical-align: middle;\n",
       "    }\n",
       "\n",
       "    .dataframe tbody tr th {\n",
       "        vertical-align: top;\n",
       "    }\n",
       "\n",
       "    .dataframe thead th {\n",
       "        text-align: right;\n",
       "    }\n",
       "</style>\n",
       "<table border=\"1\" class=\"dataframe\">\n",
       "  <thead>\n",
       "    <tr style=\"text-align: right;\">\n",
       "      <th></th>\n",
       "      <th></th>\n",
       "      <th>0</th>\n",
       "    </tr>\n",
       "    <tr>\n",
       "      <th>Lj</th>\n",
       "      <th></th>\n",
       "      <th></th>\n",
       "    </tr>\n",
       "  </thead>\n",
       "  <tbody>\n",
       "    <tr>\n",
       "      <th>8</th>\n",
       "      <th>0</th>\n",
       "      <td>195.54</td>\n",
       "    </tr>\n",
       "  </tbody>\n",
       "</table>\n",
       "</div>"
      ],
      "text/plain": [
       "           0\n",
       "Lj          \n",
       "8  0  195.54"
      ]
     },
     "metadata": {},
     "output_type": "display_data"
    },
    {
     "name": "stderr",
     "output_type": "stream",
     "text": [
      "INFO 06:14PM [connect_design]: \tOpened active design\n",
      "\tDesign:    a_q3d [Solution type: Q3D]\n",
      "INFO 06:15PM [get_setup]: \tOpened setup `Setup`  (<class 'pyEPR.ansys.AnsysQ3DSetup'>)\n",
      "INFO 06:15PM [analyze]: Analyzing setup Setup\n",
      "INFO 06:16PM [get_matrix]: Exporting matrix data to (C:\\Users\\slab\\AppData\\Local\\Temp\\tmpf0d8x4v9.txt, C, , Setup:LastAdaptive, \"Original\", \"ohm\", \"nH\", \"fF\", \"mSie\", 5000000000, Maxwell, 1, False\n",
      "INFO 06:16PM [get_matrix]: Exporting matrix data to (C:\\Users\\slab\\AppData\\Local\\Temp\\tmpm7rcd9bc.txt, C, , Setup:AdaptivePass, \"Original\", \"ohm\", \"nH\", \"fF\", \"mSie\", 5000000000, Maxwell, 1, False\n",
      "INFO 06:16PM [get_matrix]: Exporting matrix data to (C:\\Users\\slab\\AppData\\Local\\Temp\\tmpi_3ifnuv.txt, C, , Setup:AdaptivePass, \"Original\", \"ohm\", \"nH\", \"fF\", \"mSie\", 5000000000, Maxwell, 2, False\n",
      "INFO 06:16PM [get_matrix]: Exporting matrix data to (C:\\Users\\slab\\AppData\\Local\\Temp\\tmpltlpqhz5.txt, C, , Setup:AdaptivePass, \"Original\", \"ohm\", \"nH\", \"fF\", \"mSie\", 5000000000, Maxwell, 3, False\n",
      "INFO 06:16PM [get_matrix]: Exporting matrix data to (C:\\Users\\slab\\AppData\\Local\\Temp\\tmplokjyikf.txt, C, , Setup:AdaptivePass, \"Original\", \"ohm\", \"nH\", \"fF\", \"mSie\", 5000000000, Maxwell, 4, False\n",
      "INFO 06:16PM [get_matrix]: Exporting matrix data to (C:\\Users\\slab\\AppData\\Local\\Temp\\tmpa24t9zs3.txt, C, , Setup:AdaptivePass, \"Original\", \"ohm\", \"nH\", \"fF\", \"mSie\", 5000000000, Maxwell, 5, False\n",
      "INFO 06:16PM [get_matrix]: Exporting matrix data to (C:\\Users\\slab\\AppData\\Local\\Temp\\tmpw4n5g4e5.txt, C, , Setup:AdaptivePass, \"Original\", \"ohm\", \"nH\", \"fF\", \"mSie\", 5000000000, Maxwell, 6, False\n",
      "INFO 06:16PM [get_matrix]: Exporting matrix data to (C:\\Users\\slab\\AppData\\Local\\Temp\\tmpabrdvcv9.txt, C, , Setup:AdaptivePass, \"Original\", \"ohm\", \"nH\", \"fF\", \"mSie\", 5000000000, Maxwell, 7, False\n",
      "INFO 06:16PM [get_matrix]: Exporting matrix data to (C:\\Users\\slab\\AppData\\Local\\Temp\\tmp19g8vfp8.txt, C, , Setup:AdaptivePass, \"Original\", \"ohm\", \"nH\", \"fF\", \"mSie\", 5000000000, Maxwell, 8, False\n",
      "INFO 06:16PM [get_matrix]: Exporting matrix data to (C:\\Users\\slab\\AppData\\Local\\Temp\\tmpub79bomg.txt, C, , Setup:AdaptivePass, \"Original\", \"ohm\", \"nH\", \"fF\", \"mSie\", 5000000000, Maxwell, 9, False\n",
      "INFO 06:16PM [get_matrix]: Exporting matrix data to (C:\\Users\\slab\\AppData\\Local\\Temp\\tmp203ztdct.txt, C, , Setup:AdaptivePass, \"Original\", \"ohm\", \"nH\", \"fF\", \"mSie\", 5000000000, Maxwell, 10, False\n",
      "INFO 06:16PM [get_matrix]: Exporting matrix data to (C:\\Users\\slab\\AppData\\Local\\Temp\\tmpc_5gy35c.txt, C, , Setup:AdaptivePass, \"Original\", \"ohm\", \"nH\", \"fF\", \"mSie\", 5000000000, Maxwell, 11, False\n"
     ]
    },
    {
     "name": "stderr",
     "output_type": "stream",
     "text": [
      "06:16PM 39s CRITICAL [_qt_message_handler]: line: 0, func: None(), file: None  CRITICAL: QEventDispatcherWin32::wakeUp: Failed to post a message (Not enough quota is available to process this command.)\n",
      "\n",
      "06:16PM 39s CRITICAL [_qt_message_handler]: line: 0, func: None(), file: None  CRITICAL: QEventDispatcherWin32::wakeUp: Failed to post a message (Not enough quota is available to process this command.)\n",
      "\n"
     ]
    }
   ],
   "source": [
    "datas = pd.DataFrame()\n",
    "\n",
    "for ii,freq in enumerate(np.arange(4,6,0.2)):\n",
    "    dat = {}\n",
    "    dat['f_target'] = freq\n",
    "    default_options['frequency'] = freq\n",
    "    \n",
    "    q1 = p.qubit\n",
    "    \n",
    "    eig_all.sim.renderer.options['Lj'] = ljs[ii]\n",
    "    eig_all.sim.renderer.options['Cj'] = q1.options['hfss_capacitance']\n",
    "\n",
    "    eig_all.sim.setup.vars = {}\n",
    "    eig_all.sim.setup.vars['Lj'] = q1.options['hfss_inductance']\n",
    "    eig_all.sim.setup.vars['Cj'] = q1.options['hfss_capacitance']\n",
    "\n",
    "    p = pocket(gui,design,sim = True, options = default_options)\n",
    "    gui.rebuild()\n",
    "    \n",
    "    eig_all.sim.run(name=\"single_q\", components=components)\n",
    "    \n",
    "    \n",
    "    convergence = pd.read_csv('hfss_eig_f_convergence.csv')\n",
    "    conv = convergence.dropna()\n",
    "\n",
    "    ind = list(conv.keys())[1:]\n",
    "    for i in range(1):\n",
    "        freq = conv[ind[(i)]].values[-1]\n",
    "        dat['Freq'+str(i+1)+'(GHz)'] = freq\n",
    "    \n",
    "    \n",
    "    try:\n",
    "        del eig_all.setup.junctions['jj']\n",
    "    except:\n",
    "        print('saddd')\n",
    "    eig_all.setup.junctions.jj1 = Dict(rect='JJ_rect_Lj_qubit_0_0__rect_jj', line='JJ_Lj_qubit_0_0__rect_jj_',\n",
    "                    Lj_variable='Lj', Cj_variable='Cj')\n",
    "    eig_all.run_epr()\n",
    "    \n",
    "    #Save the EPR data\n",
    "    chi = eig_all.sim.renderer.epr_quantum_analysis.get_chis().to_numpy()\n",
    "    freq_EPR= eig_all.sim.renderer.epr_quantum_analysis.get_frequencies().to_numpy()[:,0]\n",
    "    \n",
    "    # renderer_hfss.clean_active_design()\n",
    "    for i in range(1):\n",
    "        freq = freq_EPR[i]\n",
    "        dat['Freq_EPR'+str(i+1)+'(MHz)'] = freq\n",
    "        for j in range(i+1):\n",
    "            dat['Chi'+str(i+1)+'_'+str(j+1)+'(MHz)'] = chi[i][j] \n",
    "\n",
    "    \n",
    "    c.sim.run(name = 'a',components=components)\n",
    "    cg = -c.sim.capacitance_matrix['a_connector_pad_qubit_0_0_']['pad_top_qubit_0_0_']\n",
    "    dat['cap_t_g'] = cg\n",
    "    f,_ = trans_p.transmon_freq(cg*u.fF, ljs[ii]*u.nH)\n",
    "    \n",
    "    dat['Predict_freq'] = f\n",
    "    \n",
    "    \n",
    "    data = pd.DataFrame(dat, index = [0])\n",
    "    \n",
    "    datas = pd.concat([datas,data], ignore_index = True)\n",
    "    datas.to_csv(r'data\\epr_freq_cap_freq.csv')"
   ]
  },
  {
   "cell_type": "code",
   "execution_count": 113,
   "metadata": {},
   "outputs": [
    {
     "data": {
      "text/plain": [
       "2"
      ]
     },
     "execution_count": 113,
     "metadata": {},
     "output_type": "execute_result"
    }
   ],
   "source": [
    "i"
   ]
  },
  {
   "cell_type": "code",
   "execution_count": null,
   "metadata": {},
   "outputs": [],
   "source": []
  }
 ],
 "metadata": {
  "kernelspec": {
   "display_name": "qmetal",
   "language": "python",
   "name": "qmetal"
  },
  "language_info": {
   "codemirror_mode": {
    "name": "ipython",
    "version": 3
   },
   "file_extension": ".py",
   "mimetype": "text/x-python",
   "name": "python",
   "nbconvert_exporter": "python",
   "pygments_lexer": "ipython3",
   "version": "3.10.8"
  },
  "orig_nbformat": 4
 },
 "nbformat": 4,
 "nbformat_minor": 2
}
