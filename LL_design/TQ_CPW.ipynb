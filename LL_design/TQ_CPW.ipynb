{
 "cells": [
  {
   "cell_type": "code",
   "execution_count": 29,
   "metadata": {},
   "outputs": [],
   "source": [
    "import pandas as pd\n",
    "import numpy as np\n",
    "import astropy.units as u\n",
    "from collections import OrderedDict\n",
    "\n",
    "from qiskit_metal import Dict, MetalGUI\n",
    "from qiskit_metal.qlibrary.tlines.straight_path import RouteStraight\n",
    "from qiskit_metal.qlibrary.tlines.mixed_path import RouteMixed\n",
    "from qiskit_metal.qlibrary.tlines.anchored_path import RouteAnchors\n",
    "from qiskit_metal.qlibrary.couplers.coupled_line_tee import CoupledLineTee\n",
    "\n",
    "import sys\n",
    "sys.path.append('/Users/wendy/Desktop/Wendy-qiskit-code/Customized_Components')\n",
    "from rounded_single_pad import Round_TransmonPocket_Single as transmon\n",
    "import Transmon_property as trans_p\n",
    "import Transmon_specifications as jj\n",
    "from dolan_junction import DolanJunction as junction\n",
    "import Default_params as dp\n",
    "from Airbridge import airbridges as ab\n",
    "from short_line_Segment import ShortRoute as path"
   ]
  },
  {
   "cell_type": "code",
   "execution_count": 2,
   "metadata": {},
   "outputs": [
    {
     "name": "stderr",
     "output_type": "stream",
     "text": [
      "05:11PM 24s CRITICAL [_qt_message_handler]: line: 0, func: None(), file: None  WARNING: Populating font family aliases took 151 ms. Replace uses of missing font family \"Courier\" with one that exists to avoid this cost. \n",
      "\n"
     ]
    }
   ],
   "source": [
    "gui = MetalGUI(dp.design)\n",
    "design = dp.design"
   ]
  },
  {
   "cell_type": "code",
   "execution_count": 32,
   "metadata": {},
   "outputs": [
    {
     "name": "stdout",
     "output_type": "stream",
     "text": [
      "<shapely.coords.CoordinateSequence object at 0x2846c7610>\n",
      "<shapely.coords.CoordinateSequence object at 0x17fe92510>\n",
      "[(0.12, 0.0), (-0.12, 0.0)]\n",
      "<shapely.coords.CoordinateSequence object at 0x2846c7610>\n",
      "<shapely.coords.CoordinateSequence object at 0x17fe9bf50>\n",
      "<shapely.coords.CoordinateSequence object at 0x17fe96810>\n",
      "[(0.37, 0.0), (0.13, 0.0)]\n",
      "<shapely.coords.CoordinateSequence object at 0x17fe9bf50>\n"
     ]
    }
   ],
   "source": [
    "tq1 = CoupledLineTee(design=design, name='tq1', options=Dict(pos_x='0mm', pos_y='0um', **dp.TQ_options))\n",
    "tq2 = CoupledLineTee(design=design, name='tq2', options=Dict(pos_x='0.25mm', pos_y='0um', **dp.TQ_options))"
   ]
  },
  {
   "cell_type": "code",
   "execution_count": 33,
   "metadata": {},
   "outputs": [
    {
     "name": "stdout",
     "output_type": "stream",
     "text": [
      "<shapely.coords.CoordinateSequence object at 0x17fe6fe50>\n",
      "<shapely.coords.CoordinateSequence object at 0x160fec110>\n",
      "[(0.12, 0.0), (-0.12, 0.0)]\n",
      "<shapely.coords.CoordinateSequence object at 0x17fe6fe50>\n",
      "<shapely.coords.CoordinateSequence object at 0x17fe6fe50>\n",
      "<shapely.coords.CoordinateSequence object at 0x2866aaa10>\n",
      "[(0.37, 0.0), (0.13, 0.0)]\n",
      "<shapely.coords.CoordinateSequence object at 0x17fe6fe50>\n"
     ]
    }
   ],
   "source": [
    "gui.rebuild()"
   ]
  },
  {
   "cell_type": "code",
   "execution_count": 6,
   "metadata": {},
   "outputs": [
    {
     "data": {
      "text/plain": [
       "{'prime_start': {'points': [array([-0.12  , -0.0062]),\n",
       "   array([-0.12  ,  0.0062])],\n",
       "  'middle': array([-0.12,  0.  ]),\n",
       "  'normal': array([-1.,  0.]),\n",
       "  'tangent': array([-0., -1.]),\n",
       "  'width': 0.0124,\n",
       "  'gap': 0.00744,\n",
       "  'chip': 'main',\n",
       "  'parent_name': 1,\n",
       "  'net_id': 0,\n",
       "  'length': 0},\n",
       " 'prime_end': {'points': [array([0.12  , 0.0062]), array([ 0.12  , -0.0062])],\n",
       "  'middle': array([0.12, 0.  ]),\n",
       "  'normal': array([1., 0.]),\n",
       "  'tangent': array([0., 1.]),\n",
       "  'width': 0.0124,\n",
       "  'gap': 0.00744,\n",
       "  'chip': 'main',\n",
       "  'parent_name': 1,\n",
       "  'net_id': 0,\n",
       "  'length': 0},\n",
       " 'second_end': {'points': [array([ 0.0662 , -0.09138]),\n",
       "   array([ 0.0538 , -0.09138])],\n",
       "  'middle': array([ 0.06   , -0.09138]),\n",
       "  'normal': array([ 0., -1.]),\n",
       "  'tangent': array([ 1., -0.]),\n",
       "  'width': 0.0124,\n",
       "  'gap': 0.00744,\n",
       "  'chip': 'main',\n",
       "  'parent_name': 1,\n",
       "  'net_id': 0,\n",
       "  'length': 0}}"
      ]
     },
     "execution_count": 6,
     "metadata": {},
     "output_type": "execute_result"
    }
   ],
   "source": [
    "tq1.pins"
   ]
  },
  {
   "cell_type": "code",
   "execution_count": 34,
   "metadata": {},
   "outputs": [],
   "source": [
    "pin_inputs = Dict(\n",
    "                    end_pin=Dict(component=tq1.name, pin='prime_end'),\n",
    "                    start_pin=Dict(component=tq2.name, pin='prime_start'))\n",
    "        \n",
    "dp.CPW_options['pin_inputs'] = pin_inputs\n",
    "cpw = path(design=design, name='route1', options=dp.CPW_options)"
   ]
  },
  {
   "cell_type": "code",
   "execution_count": 35,
   "metadata": {},
   "outputs": [
    {
     "name": "stdout",
     "output_type": "stream",
     "text": [
      "<shapely.coords.CoordinateSequence object at 0x28660f9d0>\n",
      "<shapely.coords.CoordinateSequence object at 0x28694b510>\n",
      "[(0.12, 0.0), (-0.12, 0.0)]\n",
      "<shapely.coords.CoordinateSequence object at 0x28660f9d0>\n",
      "<shapely.coords.CoordinateSequence object at 0x17feb8e50>\n",
      "<shapely.coords.CoordinateSequence object at 0x286995350>\n",
      "[(0.37, 0.0), (0.13, 0.0)]\n",
      "<shapely.coords.CoordinateSequence object at 0x17feb8e50>\n"
     ]
    }
   ],
   "source": [
    "gui.rebuild()"
   ]
  },
  {
   "cell_type": "code",
   "execution_count": 36,
   "metadata": {},
   "outputs": [
    {
     "data": {
      "text/plain": [
       "[(0.13, 0.0), (0.12, 0.0)]"
      ]
     },
     "execution_count": 36,
     "metadata": {},
     "output_type": "execute_result"
    }
   ],
   "source": [
    "cpw.qgeometry_table('path')['geometry'].values[0].coords[:]"
   ]
  },
  {
   "cell_type": "code",
   "execution_count": null,
   "metadata": {},
   "outputs": [],
   "source": []
  }
 ],
 "metadata": {
  "kernelspec": {
   "display_name": "qiskit",
   "language": "python",
   "name": "python3"
  },
  "language_info": {
   "codemirror_mode": {
    "name": "ipython",
    "version": 3
   },
   "file_extension": ".py",
   "mimetype": "text/x-python",
   "name": "python",
   "nbconvert_exporter": "python",
   "pygments_lexer": "ipython3",
   "version": "3.11.0"
  },
  "orig_nbformat": 4
 },
 "nbformat": 4,
 "nbformat_minor": 2
}
